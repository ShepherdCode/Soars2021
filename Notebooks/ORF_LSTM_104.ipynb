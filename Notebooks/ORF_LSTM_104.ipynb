{
  "nbformat": 4,
  "nbformat_minor": 0,
  "metadata": {
    "accelerator": "GPU",
    "colab": {
      "name": "ORF_LSTM_104.ipynb",
      "provenance": [],
      "collapsed_sections": []
    },
    "kernelspec": {
      "display_name": "Python 3",
      "language": "python",
      "name": "python3"
    },
    "language_info": {
      "codemirror_mode": {
        "name": "ipython",
        "version": 3
      },
      "file_extension": ".py",
      "mimetype": "text/x-python",
      "name": "python",
      "nbconvert_exporter": "python",
      "pygments_lexer": "ipython3",
      "version": "3.8.3"
    }
  },
  "cells": [
    {
      "cell_type": "markdown",
      "metadata": {
        "id": "0asdcdunj2Tx"
      },
      "source": [
        "# ORF recognition by LSTM\n",
        "LSTM was incapable of ORF recognition on 1000 bp sequences (notebook 101) but capable on 100 bp sequences (notebook 102). Try sizes inbetween.\n"
      ]
    },
    {
      "cell_type": "code",
      "metadata": {
        "colab": {
          "base_uri": "https://localhost:8080/",
          "height": 36
        },
        "id": "QP1VTRNQj2UO",
        "outputId": "68b2e4fa-497a-4af4-a236-7f8895c72e1e"
      },
      "source": [
        "import time \n",
        "t = time.time()\n",
        "time.strftime('%Y-%m-%d %H:%M:%S %Z', time.localtime(t))"
      ],
      "execution_count": 13,
      "outputs": [
        {
          "output_type": "execute_result",
          "data": {
            "application/vnd.google.colaboratory.intrinsic+json": {
              "type": "string"
            },
            "text/plain": [
              "'2021-05-17 17:36:59 UTC'"
            ]
          },
          "metadata": {
            "tags": []
          },
          "execution_count": 13
        }
      ]
    },
    {
      "cell_type": "code",
      "metadata": {
        "id": "Nhz4GKonj2T_"
      },
      "source": [
        "PC_SEQUENCES=2000   # how many protein-coding sequences\n",
        "NC_SEQUENCES=2000   # how many non-coding sequences\n",
        "PC_TESTS=1000\n",
        "NC_TESTS=1000\n",
        "BASES=200            # how long is each sequence\n",
        "ALPHABET=4          # how many different letters are possible\n",
        "INPUT_SHAPE_2D = (BASES,ALPHABET,1) # Conv2D needs 3D inputs\n",
        "INPUT_SHAPE = (BASES,ALPHABET) # Conv1D needs 2D inputs\n",
        "NEURONS = 32\n",
        "#DROP_RATE = 0.2\n",
        "EPOCHS=50  # how many times to train on all the data\n",
        "SPLITS=5  # SPLITS=3 means train on 2/3 and validate on 1/3 \n",
        "FOLDS=5  # train the model this many times (range 1 to SPLITS)"
      ],
      "execution_count": 14,
      "outputs": []
    },
    {
      "cell_type": "code",
      "metadata": {
        "colab": {
          "base_uri": "https://localhost:8080/"
        },
        "id": "lr7q90rxj2UE",
        "outputId": "c90498b6-9721-49c5-8085-09d00242f48d"
      },
      "source": [
        "import sys\n",
        "try:\n",
        "    from google.colab import drive\n",
        "    IN_COLAB = True\n",
        "    print(\"On Google CoLab, mount cloud-local file, get our code from GitHub.\")\n",
        "    PATH='/content/drive/'\n",
        "    #drive.mount(PATH,force_remount=True)  # hardly ever need this\n",
        "    #drive.mount(PATH)    # Google will require login credentials\n",
        "    DATAPATH=PATH+'My Drive/data/'  # must end in \"/\"\n",
        "    import requests\n",
        "    r = requests.get('https://raw.githubusercontent.com/ShepherdCode/Soars2021/master/SimTools/RNA_gen.py')\n",
        "    with open('RNA_gen.py', 'w') as f:\n",
        "        f.write(r.text)  \n",
        "    from RNA_gen import *\n",
        "    r = requests.get('https://raw.githubusercontent.com/ShepherdCode/Soars2021/master/SimTools/RNA_describe.py')\n",
        "    with open('RNA_describe.py', 'w') as f:\n",
        "        f.write(r.text)  \n",
        "    from RNA_describe import *\n",
        "    r = requests.get('https://raw.githubusercontent.com/ShepherdCode/Soars2021/master/SimTools/RNA_prep.py')\n",
        "    with open('RNA_prep.py', 'w') as f:\n",
        "        f.write(r.text)  \n",
        "    from RNA_prep import *\n",
        "except:\n",
        "    print(\"CoLab not working. On my PC, use relative paths.\")\n",
        "    IN_COLAB = False\n",
        "    DATAPATH='data/'  # must end in \"/\"\n",
        "    sys.path.append(\"..\") # append parent dir in order to use sibling dirs\n",
        "    from SimTools.RNA_gen import *\n",
        "    from SimTools.RNA_describe import *\n",
        "    from SimTools.RNA_prep import *\n",
        "\n",
        "MODELPATH=\"BestModel\"  # saved on cloud instance and lost after logout\n",
        "#MODELPATH=DATAPATH+MODELPATH  # saved on Google Drive but requires login\n",
        "\n",
        "if not assert_imported_RNA_gen():\n",
        "    print(\"ERROR: Cannot use RNA_gen.\")\n",
        "if not assert_imported_RNA_prep():\n",
        "    print(\"ERROR: Cannot use RNA_prep.\")"
      ],
      "execution_count": 15,
      "outputs": [
        {
          "output_type": "stream",
          "text": [
            "On Google CoLab, mount cloud-local file, get our code from GitHub.\n"
          ],
          "name": "stdout"
        }
      ]
    },
    {
      "cell_type": "code",
      "metadata": {
        "id": "EGDXH8Uwj2UM"
      },
      "source": [
        "from os import listdir\n",
        "import csv\n",
        "from zipfile import ZipFile\n",
        "\n",
        "import numpy as np\n",
        "import pandas as pd\n",
        "from scipy import stats  # mode\n",
        "\n",
        "from sklearn.preprocessing import StandardScaler\n",
        "from sklearn.model_selection import KFold\n",
        "from sklearn.model_selection import cross_val_score\n",
        "\n",
        "from keras.models import Sequential\n",
        "from keras.layers import Dense,Embedding,Dropout\n",
        "from keras.layers import LSTM\n",
        "from keras.losses import BinaryCrossentropy\n",
        "# tf.keras.losses.BinaryCrossentropy\n",
        "\n",
        "import matplotlib.pyplot as plt\n",
        "from matplotlib import colors\n",
        "mycmap = colors.ListedColormap(['red','blue'])  # list color for label 0 then 1\n",
        "np.set_printoptions(precision=2)\n"
      ],
      "execution_count": 16,
      "outputs": []
    },
    {
      "cell_type": "code",
      "metadata": {
        "colab": {
          "base_uri": "https://localhost:8080/"
        },
        "id": "Q0FetlLPj2UQ",
        "outputId": "46bb4532-7b88-470a-a278-95f8523ee1e7"
      },
      "source": [
        "# Use code from our SimTools library.\n",
        "def make_generators(seq_len):\n",
        "    pcgen = Collection_Generator()  \n",
        "    pcgen.get_len_oracle().set_mean(seq_len)\n",
        "    pcgen.set_seq_oracle(Transcript_Oracle())\n",
        "    ncgen = Collection_Generator()  \n",
        "    ncgen.get_len_oracle().set_mean(seq_len)\n",
        "    return pcgen,ncgen\n",
        "\n",
        "pc_sim,nc_sim = make_generators(BASES)\n",
        "pc_train = pc_sim.get_sequences(PC_SEQUENCES)\n",
        "nc_train = nc_sim.get_sequences(NC_SEQUENCES)\n",
        "print(\"Train on\",len(pc_train),\"PC seqs\")\n",
        "print(\"Train on\",len(nc_train),\"NC seqs\")"
      ],
      "execution_count": 17,
      "outputs": [
        {
          "output_type": "stream",
          "text": [
            "Train on 2000 PC seqs\n",
            "Train on 2000 NC seqs\n"
          ],
          "name": "stdout"
        }
      ]
    },
    {
      "cell_type": "code",
      "metadata": {
        "colab": {
          "base_uri": "https://localhost:8080/"
        },
        "id": "CIpTrnH6j2US",
        "outputId": "fae444da-79c8-4bda-ed55-e433025452d6"
      },
      "source": [
        "# Use code from our SimTools library.\n",
        "X,y = prepare_inputs_len_x_alphabet(pc_train,nc_train,ALPHABET) # shuffles\n",
        "print(\"Data ready.\")"
      ],
      "execution_count": 18,
      "outputs": [
        {
          "output_type": "stream",
          "text": [
            "Data ready.\n"
          ],
          "name": "stdout"
        }
      ]
    },
    {
      "cell_type": "code",
      "metadata": {
        "colab": {
          "base_uri": "https://localhost:8080/"
        },
        "id": "7NvrVU8ij2UU",
        "outputId": "807857d1-d33d-4963-fe0e-a05ac6c867bf"
      },
      "source": [
        "def make_DNN():\n",
        "    print(\"make_DNN\")\n",
        "    print(\"input shape:\",INPUT_SHAPE)\n",
        "    dnn = Sequential()\n",
        "    #dnn.add(Embedding(input_dim=ALPHABET, output_dim=ALPHABET))\n",
        "        #VOCABULARY_SIZE, EMBED_DIMEN, input_length=1000, input_length=1000, mask_zero=True)\n",
        "        #input_dim=[None,VOCABULARY_SIZE], output_dim=EMBED_DIMEN, mask_zero=True)\n",
        "    dnn.add(LSTM(NEURONS,return_sequences=True,input_shape=INPUT_SHAPE))\n",
        "    dnn.add(LSTM(NEURONS,return_sequences=False)) \n",
        "    dnn.add(Dense(NEURONS,activation=\"sigmoid\",dtype=np.float32))   \n",
        "    dnn.add(Dense(1,activation=\"sigmoid\",dtype=np.float32))   \n",
        "    dnn.compile(optimizer='adam',\n",
        "                loss=BinaryCrossentropy(from_logits=False),\n",
        "                metrics=['accuracy'])   # add to default metrics=loss\n",
        "    dnn.build() # input_shape=INPUT_SHAPE)\n",
        "    #ln_rate = tf.keras.optimizers.Adam(learning_rate = LN_RATE)\n",
        "    #bc=tf.keras.losses.BinaryCrossentropy(from_logits=False)\n",
        "    #model.compile(loss=bc, optimizer=ln_rate, metrics=[\"accuracy\"])\n",
        "    return dnn\n",
        "model = make_DNN()\n",
        "print(model.summary())"
      ],
      "execution_count": 19,
      "outputs": [
        {
          "output_type": "stream",
          "text": [
            "make_DNN\n",
            "input shape: (200, 4)\n",
            "Model: \"sequential_6\"\n",
            "_________________________________________________________________\n",
            "Layer (type)                 Output Shape              Param #   \n",
            "=================================================================\n",
            "lstm_12 (LSTM)               (None, 200, 32)           4736      \n",
            "_________________________________________________________________\n",
            "lstm_13 (LSTM)               (None, 32)                8320      \n",
            "_________________________________________________________________\n",
            "dense_12 (Dense)             (None, 32)                1056      \n",
            "_________________________________________________________________\n",
            "dense_13 (Dense)             (None, 1)                 33        \n",
            "=================================================================\n",
            "Total params: 14,145\n",
            "Trainable params: 14,145\n",
            "Non-trainable params: 0\n",
            "_________________________________________________________________\n",
            "None\n"
          ],
          "name": "stdout"
        }
      ]
    },
    {
      "cell_type": "code",
      "metadata": {
        "id": "nlVF0hR3j2UW"
      },
      "source": [
        "from keras.callbacks import ModelCheckpoint\n",
        "def do_cross_validation(X,y):\n",
        "    cv_scores = []\n",
        "    fold=0\n",
        "    mycallbacks = [ModelCheckpoint(\n",
        "        filepath=MODELPATH, save_best_only=True, \n",
        "        monitor='val_accuracy', mode='max')]   \n",
        "    splitter = KFold(n_splits=SPLITS)  # this does not shuffle\n",
        "    for train_index,valid_index in splitter.split(X):\n",
        "        if fold < FOLDS:\n",
        "            fold += 1\n",
        "            X_train=X[train_index] # inputs for training\n",
        "            y_train=y[train_index] # labels for training\n",
        "            X_valid=X[valid_index] # inputs for validation\n",
        "            y_valid=y[valid_index] # labels for validation\n",
        "            print(\"MODEL\")\n",
        "            # Call constructor on each CV. Else, continually improves the same model.\n",
        "            model = model = make_DNN()\n",
        "            print(\"FIT\")  # model.fit() implements learning\n",
        "            start_time=time.time()\n",
        "            history=model.fit(X_train, y_train, \n",
        "                    epochs=EPOCHS, \n",
        "                    verbose=1,  # ascii art while learning\n",
        "                    callbacks=mycallbacks,   # called at end of each epoch\n",
        "                    validation_data=(X_valid,y_valid))\n",
        "            end_time=time.time()\n",
        "            elapsed_time=(end_time-start_time)                        \n",
        "            print(\"Fold %d, %d epochs, %d sec\"%(fold,EPOCHS,elapsed_time))\n",
        "            # print(history.history.keys())  # all these keys will be shown in figure\n",
        "            pd.DataFrame(history.history).plot(figsize=(8,5))\n",
        "            plt.grid(True)\n",
        "            plt.gca().set_ylim(0,1) # any losses > 1 will be off the scale\n",
        "            plt.show()\n"
      ],
      "execution_count": 20,
      "outputs": []
    },
    {
      "cell_type": "code",
      "metadata": {
        "colab": {
          "base_uri": "https://localhost:8080/",
          "height": 1000
        },
        "id": "9Ggt4EsSj2UY",
        "outputId": "de7730b2-984f-404e-ef67-7b11e043ec9f"
      },
      "source": [
        "do_cross_validation(X,y)"
      ],
      "execution_count": 21,
      "outputs": [
        {
          "output_type": "stream",
          "text": [
            "MODEL\n",
            "make_DNN\n",
            "input shape: (200, 4)\n",
            "FIT\n",
            "Epoch 1/50\n",
            "100/100 [==============================] - 4s 22ms/step - loss: 0.7023 - accuracy: 0.4981 - val_loss: 0.6927 - val_accuracy: 0.5138\n"
          ],
          "name": "stdout"
        },
        {
          "output_type": "stream",
          "text": [
            "WARNING:absl:Found untraced functions such as lstm_cell_16_layer_call_fn, lstm_cell_16_layer_call_and_return_conditional_losses, lstm_cell_17_layer_call_fn, lstm_cell_17_layer_call_and_return_conditional_losses, lstm_cell_16_layer_call_fn while saving (showing 5 of 10). These functions will not be directly callable after loading.\n",
            "WARNING:absl:Found untraced functions such as lstm_cell_16_layer_call_fn, lstm_cell_16_layer_call_and_return_conditional_losses, lstm_cell_17_layer_call_fn, lstm_cell_17_layer_call_and_return_conditional_losses, lstm_cell_16_layer_call_fn while saving (showing 5 of 10). These functions will not be directly callable after loading.\n"
          ],
          "name": "stderr"
        },
        {
          "output_type": "stream",
          "text": [
            "INFO:tensorflow:Assets written to: BestModel/assets\n"
          ],
          "name": "stdout"
        },
        {
          "output_type": "stream",
          "text": [
            "INFO:tensorflow:Assets written to: BestModel/assets\n"
          ],
          "name": "stderr"
        },
        {
          "output_type": "stream",
          "text": [
            "Epoch 2/50\n",
            "100/100 [==============================] - 2s 16ms/step - loss: 0.6932 - accuracy: 0.5074 - val_loss: 0.6975 - val_accuracy: 0.4863\n",
            "Epoch 3/50\n",
            "100/100 [==============================] - 2s 16ms/step - loss: 0.6955 - accuracy: 0.4835 - val_loss: 0.6941 - val_accuracy: 0.4863\n",
            "Epoch 4/50\n",
            "100/100 [==============================] - 2s 16ms/step - loss: 0.6938 - accuracy: 0.4845 - val_loss: 0.6947 - val_accuracy: 0.4863\n",
            "Epoch 5/50\n",
            "100/100 [==============================] - 2s 16ms/step - loss: 0.6936 - accuracy: 0.4978 - val_loss: 0.6944 - val_accuracy: 0.4875\n",
            "Epoch 6/50\n",
            "100/100 [==============================] - 2s 16ms/step - loss: 0.6938 - accuracy: 0.4831 - val_loss: 0.6935 - val_accuracy: 0.4913\n",
            "Epoch 7/50\n",
            "100/100 [==============================] - 2s 16ms/step - loss: 0.6920 - accuracy: 0.5226 - val_loss: 0.6943 - val_accuracy: 0.5000\n",
            "Epoch 8/50\n",
            "100/100 [==============================] - 2s 16ms/step - loss: 0.6922 - accuracy: 0.5216 - val_loss: 0.6940 - val_accuracy: 0.4913\n",
            "Epoch 9/50\n",
            "100/100 [==============================] - 2s 16ms/step - loss: 0.6933 - accuracy: 0.4999 - val_loss: 0.6979 - val_accuracy: 0.4888\n",
            "Epoch 10/50\n",
            "100/100 [==============================] - 2s 16ms/step - loss: 0.6928 - accuracy: 0.5089 - val_loss: 0.6984 - val_accuracy: 0.4850\n",
            "Epoch 11/50\n",
            "100/100 [==============================] - 2s 16ms/step - loss: 0.6921 - accuracy: 0.5130 - val_loss: 0.6938 - val_accuracy: 0.4925\n",
            "Epoch 12/50\n",
            "100/100 [==============================] - 2s 16ms/step - loss: 0.6923 - accuracy: 0.5032 - val_loss: 0.6963 - val_accuracy: 0.4762\n",
            "Epoch 13/50\n",
            "100/100 [==============================] - 2s 16ms/step - loss: 0.6940 - accuracy: 0.5061 - val_loss: 0.6967 - val_accuracy: 0.4900\n",
            "Epoch 14/50\n",
            "100/100 [==============================] - 2s 16ms/step - loss: 0.6910 - accuracy: 0.5287 - val_loss: 0.6977 - val_accuracy: 0.4850\n",
            "Epoch 15/50\n",
            "100/100 [==============================] - 2s 16ms/step - loss: 0.6913 - accuracy: 0.5223 - val_loss: 0.6975 - val_accuracy: 0.4812\n",
            "Epoch 16/50\n",
            "100/100 [==============================] - 2s 16ms/step - loss: 0.6908 - accuracy: 0.5287 - val_loss: 0.6975 - val_accuracy: 0.4837\n",
            "Epoch 17/50\n",
            "100/100 [==============================] - 2s 16ms/step - loss: 0.6903 - accuracy: 0.5352 - val_loss: 0.6976 - val_accuracy: 0.4875\n",
            "Epoch 18/50\n",
            "100/100 [==============================] - 2s 16ms/step - loss: 0.6905 - accuracy: 0.5299 - val_loss: 0.7019 - val_accuracy: 0.4800\n",
            "Epoch 19/50\n",
            "100/100 [==============================] - 2s 16ms/step - loss: 0.6874 - accuracy: 0.5554 - val_loss: 0.6928 - val_accuracy: 0.5138\n",
            "Epoch 20/50\n",
            "100/100 [==============================] - 2s 16ms/step - loss: 0.6954 - accuracy: 0.4818 - val_loss: 0.6960 - val_accuracy: 0.4863\n",
            "Epoch 21/50\n",
            "100/100 [==============================] - 2s 16ms/step - loss: 0.6934 - accuracy: 0.5118 - val_loss: 0.6957 - val_accuracy: 0.4863\n",
            "Epoch 22/50\n",
            "100/100 [==============================] - 2s 16ms/step - loss: 0.6950 - accuracy: 0.4940 - val_loss: 0.6984 - val_accuracy: 0.4863\n",
            "Epoch 23/50\n",
            "100/100 [==============================] - 2s 16ms/step - loss: 0.6930 - accuracy: 0.5050 - val_loss: 0.6938 - val_accuracy: 0.4863\n",
            "Epoch 24/50\n",
            "100/100 [==============================] - 2s 16ms/step - loss: 0.6934 - accuracy: 0.5139 - val_loss: 0.6928 - val_accuracy: 0.5138\n",
            "Epoch 25/50\n",
            "100/100 [==============================] - 2s 16ms/step - loss: 0.6936 - accuracy: 0.5028 - val_loss: 0.6928 - val_accuracy: 0.5138\n",
            "Epoch 26/50\n",
            "100/100 [==============================] - 2s 16ms/step - loss: 0.6937 - accuracy: 0.5059 - val_loss: 0.6939 - val_accuracy: 0.4863\n",
            "Epoch 27/50\n",
            "100/100 [==============================] - 2s 16ms/step - loss: 0.6937 - accuracy: 0.5116 - val_loss: 0.6928 - val_accuracy: 0.5138\n",
            "Epoch 28/50\n",
            "100/100 [==============================] - 2s 16ms/step - loss: 0.6935 - accuracy: 0.4932 - val_loss: 0.6928 - val_accuracy: 0.5138\n",
            "Epoch 29/50\n",
            "100/100 [==============================] - 2s 16ms/step - loss: 0.6925 - accuracy: 0.5204 - val_loss: 0.7015 - val_accuracy: 0.4863\n",
            "Epoch 30/50\n",
            "100/100 [==============================] - 2s 16ms/step - loss: 0.6974 - accuracy: 0.4898 - val_loss: 0.6929 - val_accuracy: 0.5038\n",
            "Epoch 31/50\n",
            "100/100 [==============================] - 2s 17ms/step - loss: 0.6926 - accuracy: 0.5207 - val_loss: 0.6975 - val_accuracy: 0.4863\n",
            "Epoch 32/50\n",
            "100/100 [==============================] - 2s 16ms/step - loss: 0.6938 - accuracy: 0.5038 - val_loss: 0.6930 - val_accuracy: 0.5088\n",
            "Epoch 33/50\n",
            "100/100 [==============================] - 2s 16ms/step - loss: 0.6932 - accuracy: 0.5014 - val_loss: 0.6930 - val_accuracy: 0.5100\n",
            "Epoch 34/50\n",
            "100/100 [==============================] - 2s 17ms/step - loss: 0.6925 - accuracy: 0.5194 - val_loss: 0.6999 - val_accuracy: 0.4863\n",
            "Epoch 35/50\n",
            "100/100 [==============================] - 2s 16ms/step - loss: 0.6927 - accuracy: 0.5171 - val_loss: 0.6938 - val_accuracy: 0.5150\n"
          ],
          "name": "stdout"
        },
        {
          "output_type": "stream",
          "text": [
            "WARNING:absl:Found untraced functions such as lstm_cell_16_layer_call_fn, lstm_cell_16_layer_call_and_return_conditional_losses, lstm_cell_17_layer_call_fn, lstm_cell_17_layer_call_and_return_conditional_losses, lstm_cell_16_layer_call_fn while saving (showing 5 of 10). These functions will not be directly callable after loading.\n",
            "WARNING:absl:Found untraced functions such as lstm_cell_16_layer_call_fn, lstm_cell_16_layer_call_and_return_conditional_losses, lstm_cell_17_layer_call_fn, lstm_cell_17_layer_call_and_return_conditional_losses, lstm_cell_16_layer_call_fn while saving (showing 5 of 10). These functions will not be directly callable after loading.\n"
          ],
          "name": "stderr"
        },
        {
          "output_type": "stream",
          "text": [
            "INFO:tensorflow:Assets written to: BestModel/assets\n"
          ],
          "name": "stdout"
        },
        {
          "output_type": "stream",
          "text": [
            "INFO:tensorflow:Assets written to: BestModel/assets\n"
          ],
          "name": "stderr"
        },
        {
          "output_type": "stream",
          "text": [
            "Epoch 36/50\n",
            "100/100 [==============================] - 2s 16ms/step - loss: 0.6925 - accuracy: 0.5203 - val_loss: 0.6932 - val_accuracy: 0.5025\n",
            "Epoch 37/50\n",
            "100/100 [==============================] - 2s 16ms/step - loss: 0.6925 - accuracy: 0.5162 - val_loss: 0.6936 - val_accuracy: 0.5050\n",
            "Epoch 38/50\n",
            "100/100 [==============================] - 2s 16ms/step - loss: 0.6917 - accuracy: 0.5261 - val_loss: 0.6941 - val_accuracy: 0.5000\n",
            "Epoch 39/50\n",
            "100/100 [==============================] - 2s 16ms/step - loss: 0.6910 - accuracy: 0.5162 - val_loss: 0.6934 - val_accuracy: 0.5075\n",
            "Epoch 40/50\n",
            "100/100 [==============================] - 2s 16ms/step - loss: 0.6917 - accuracy: 0.5142 - val_loss: 0.6939 - val_accuracy: 0.4938\n",
            "Epoch 41/50\n",
            "100/100 [==============================] - 2s 16ms/step - loss: 0.6913 - accuracy: 0.5358 - val_loss: 0.6940 - val_accuracy: 0.5100\n",
            "Epoch 42/50\n",
            "100/100 [==============================] - 2s 16ms/step - loss: 0.6907 - accuracy: 0.5369 - val_loss: 0.6937 - val_accuracy: 0.5013\n",
            "Epoch 43/50\n",
            "100/100 [==============================] - 2s 16ms/step - loss: 0.6917 - accuracy: 0.5212 - val_loss: 0.6942 - val_accuracy: 0.5075\n",
            "Epoch 44/50\n",
            "100/100 [==============================] - 2s 16ms/step - loss: 0.6927 - accuracy: 0.5142 - val_loss: 0.6937 - val_accuracy: 0.5100\n",
            "Epoch 45/50\n",
            "100/100 [==============================] - 2s 16ms/step - loss: 0.6913 - accuracy: 0.5279 - val_loss: 0.6938 - val_accuracy: 0.5150\n",
            "Epoch 46/50\n",
            "100/100 [==============================] - 2s 16ms/step - loss: 0.6923 - accuracy: 0.5294 - val_loss: 0.6957 - val_accuracy: 0.4975\n",
            "Epoch 47/50\n",
            "100/100 [==============================] - 2s 16ms/step - loss: 0.6931 - accuracy: 0.5172 - val_loss: 0.6941 - val_accuracy: 0.5063\n",
            "Epoch 48/50\n",
            "100/100 [==============================] - 2s 16ms/step - loss: 0.6902 - accuracy: 0.5382 - val_loss: 0.6950 - val_accuracy: 0.5000\n",
            "Epoch 49/50\n",
            "100/100 [==============================] - 2s 16ms/step - loss: 0.6904 - accuracy: 0.5354 - val_loss: 0.6945 - val_accuracy: 0.5075\n",
            "Epoch 50/50\n",
            "100/100 [==============================] - 2s 16ms/step - loss: 0.6925 - accuracy: 0.5265 - val_loss: 0.6950 - val_accuracy: 0.5075\n",
            "Fold 1, 50 epochs, 97 sec\n"
          ],
          "name": "stdout"
        },
        {
          "output_type": "display_data",
          "data": {
            "image/png": "[encoded data removed]",
            "text/plain": [
              "<Figure size 576x360 with 1 Axes>"
            ]
          },
          "metadata": {
            "tags": [],
            "needs_background": "light"
          }
        },
        {
          "output_type": "stream",
          "text": [
            "MODEL\n",
            "make_DNN\n",
            "input shape: (200, 4)\n",
            "FIT\n",
            "Epoch 1/50\n",
            "100/100 [==============================] - 4s 22ms/step - loss: 0.6949 - accuracy: 0.4990 - val_loss: 0.6914 - val_accuracy: 0.5312\n"
          ],
          "name": "stdout"
        },
        {
          "output_type": "stream",
          "text": [
            "WARNING:absl:Found untraced functions such as lstm_cell_18_layer_call_fn, lstm_cell_18_layer_call_and_return_conditional_losses, lstm_cell_19_layer_call_fn, lstm_cell_19_layer_call_and_return_conditional_losses, lstm_cell_18_layer_call_fn while saving (showing 5 of 10). These functions will not be directly callable after loading.\n",
            "WARNING:absl:Found untraced functions such as lstm_cell_18_layer_call_fn, lstm_cell_18_layer_call_and_return_conditional_losses, lstm_cell_19_layer_call_fn, lstm_cell_19_layer_call_and_return_conditional_losses, lstm_cell_18_layer_call_fn while saving (showing 5 of 10). These functions will not be directly callable after loading.\n"
          ],
          "name": "stderr"
        },
        {
          "output_type": "stream",
          "text": [
            "INFO:tensorflow:Assets written to: BestModel/assets\n"
          ],
          "name": "stdout"
        },
        {
          "output_type": "stream",
          "text": [
            "INFO:tensorflow:Assets written to: BestModel/assets\n"
          ],
          "name": "stderr"
        },
        {
          "output_type": "stream",
          "text": [
            "Epoch 2/50\n",
            "100/100 [==============================] - 2s 16ms/step - loss: 0.6933 - accuracy: 0.4943 - val_loss: 0.6975 - val_accuracy: 0.4688\n",
            "Epoch 3/50\n",
            "100/100 [==============================] - 2s 16ms/step - loss: 0.6927 - accuracy: 0.5084 - val_loss: 0.6937 - val_accuracy: 0.4700\n",
            "Epoch 4/50\n",
            "100/100 [==============================] - 2s 16ms/step - loss: 0.6932 - accuracy: 0.4936 - val_loss: 0.6936 - val_accuracy: 0.4700\n",
            "Epoch 5/50\n",
            "100/100 [==============================] - 2s 16ms/step - loss: 0.6936 - accuracy: 0.5044 - val_loss: 0.6968 - val_accuracy: 0.4688\n",
            "Epoch 6/50\n",
            "100/100 [==============================] - 2s 16ms/step - loss: 0.6940 - accuracy: 0.5032 - val_loss: 0.6948 - val_accuracy: 0.4700\n",
            "Epoch 7/50\n",
            "100/100 [==============================] - 2s 16ms/step - loss: 0.6939 - accuracy: 0.5066 - val_loss: 0.6931 - val_accuracy: 0.4975\n",
            "Epoch 8/50\n",
            "100/100 [==============================] - 2s 16ms/step - loss: 0.6926 - accuracy: 0.5164 - val_loss: 0.6921 - val_accuracy: 0.5400\n"
          ],
          "name": "stdout"
        },
        {
          "output_type": "stream",
          "text": [
            "WARNING:absl:Found untraced functions such as lstm_cell_18_layer_call_fn, lstm_cell_18_layer_call_and_return_conditional_losses, lstm_cell_19_layer_call_fn, lstm_cell_19_layer_call_and_return_conditional_losses, lstm_cell_18_layer_call_fn while saving (showing 5 of 10). These functions will not be directly callable after loading.\n",
            "WARNING:absl:Found untraced functions such as lstm_cell_18_layer_call_fn, lstm_cell_18_layer_call_and_return_conditional_losses, lstm_cell_19_layer_call_fn, lstm_cell_19_layer_call_and_return_conditional_losses, lstm_cell_18_layer_call_fn while saving (showing 5 of 10). These functions will not be directly callable after loading.\n"
          ],
          "name": "stderr"
        },
        {
          "output_type": "stream",
          "text": [
            "INFO:tensorflow:Assets written to: BestModel/assets\n"
          ],
          "name": "stdout"
        },
        {
          "output_type": "stream",
          "text": [
            "INFO:tensorflow:Assets written to: BestModel/assets\n"
          ],
          "name": "stderr"
        },
        {
          "output_type": "stream",
          "text": [
            "Epoch 9/50\n",
            "100/100 [==============================] - 2s 16ms/step - loss: 0.6931 - accuracy: 0.4991 - val_loss: 0.6913 - val_accuracy: 0.5437\n"
          ],
          "name": "stdout"
        },
        {
          "output_type": "stream",
          "text": [
            "WARNING:absl:Found untraced functions such as lstm_cell_18_layer_call_fn, lstm_cell_18_layer_call_and_return_conditional_losses, lstm_cell_19_layer_call_fn, lstm_cell_19_layer_call_and_return_conditional_losses, lstm_cell_18_layer_call_fn while saving (showing 5 of 10). These functions will not be directly callable after loading.\n",
            "WARNING:absl:Found untraced functions such as lstm_cell_18_layer_call_fn, lstm_cell_18_layer_call_and_return_conditional_losses, lstm_cell_19_layer_call_fn, lstm_cell_19_layer_call_and_return_conditional_losses, lstm_cell_18_layer_call_fn while saving (showing 5 of 10). These functions will not be directly callable after loading.\n"
          ],
          "name": "stderr"
        },
        {
          "output_type": "stream",
          "text": [
            "INFO:tensorflow:Assets written to: BestModel/assets\n"
          ],
          "name": "stdout"
        },
        {
          "output_type": "stream",
          "text": [
            "INFO:tensorflow:Assets written to: BestModel/assets\n"
          ],
          "name": "stderr"
        },
        {
          "output_type": "stream",
          "text": [
            "Epoch 10/50\n",
            "100/100 [==============================] - 2s 15ms/step - loss: 0.6932 - accuracy: 0.4892 - val_loss: 0.6939 - val_accuracy: 0.4837\n",
            "Epoch 11/50\n",
            "100/100 [==============================] - 2s 16ms/step - loss: 0.6915 - accuracy: 0.5261 - val_loss: 0.6934 - val_accuracy: 0.4950\n",
            "Epoch 12/50\n",
            "100/100 [==============================] - 2s 16ms/step - loss: 0.6930 - accuracy: 0.5245 - val_loss: 0.6940 - val_accuracy: 0.4925\n",
            "Epoch 13/50\n",
            "100/100 [==============================] - 2s 16ms/step - loss: 0.6913 - accuracy: 0.5226 - val_loss: 0.6916 - val_accuracy: 0.5337\n",
            "Epoch 14/50\n",
            "100/100 [==============================] - 2s 16ms/step - loss: 0.6926 - accuracy: 0.5213 - val_loss: 0.6905 - val_accuracy: 0.5387\n",
            "Epoch 15/50\n",
            "100/100 [==============================] - 2s 16ms/step - loss: 0.6919 - accuracy: 0.5208 - val_loss: 0.6924 - val_accuracy: 0.5063\n",
            "Epoch 16/50\n",
            "100/100 [==============================] - 2s 16ms/step - loss: 0.6905 - accuracy: 0.5351 - val_loss: 0.6906 - val_accuracy: 0.5375\n",
            "Epoch 17/50\n",
            "100/100 [==============================] - 2s 16ms/step - loss: 0.6895 - accuracy: 0.5336 - val_loss: 0.6930 - val_accuracy: 0.5288\n",
            "Epoch 18/50\n",
            "100/100 [==============================] - 2s 16ms/step - loss: 0.6895 - accuracy: 0.5394 - val_loss: 0.6938 - val_accuracy: 0.5038\n",
            "Epoch 19/50\n",
            "100/100 [==============================] - 2s 16ms/step - loss: 0.6904 - accuracy: 0.5222 - val_loss: 0.6918 - val_accuracy: 0.5138\n",
            "Epoch 20/50\n",
            "100/100 [==============================] - 2s 16ms/step - loss: 0.6904 - accuracy: 0.5267 - val_loss: 0.6953 - val_accuracy: 0.4737\n",
            "Epoch 21/50\n",
            "100/100 [==============================] - 2s 16ms/step - loss: 0.6898 - accuracy: 0.5406 - val_loss: 0.6937 - val_accuracy: 0.4975\n",
            "Epoch 22/50\n",
            "100/100 [==============================] - 2s 16ms/step - loss: 0.6905 - accuracy: 0.5259 - val_loss: 0.6967 - val_accuracy: 0.4975\n",
            "Epoch 23/50\n",
            "100/100 [==============================] - 2s 16ms/step - loss: 0.6870 - accuracy: 0.5561 - val_loss: 0.6923 - val_accuracy: 0.5325\n",
            "Epoch 24/50\n",
            "100/100 [==============================] - 2s 16ms/step - loss: 0.6878 - accuracy: 0.5396 - val_loss: 0.6926 - val_accuracy: 0.5200\n",
            "Epoch 25/50\n",
            "100/100 [==============================] - 2s 16ms/step - loss: 0.6888 - accuracy: 0.5463 - val_loss: 0.6916 - val_accuracy: 0.5300\n",
            "Epoch 26/50\n",
            "100/100 [==============================] - 2s 16ms/step - loss: 0.6845 - accuracy: 0.5493 - val_loss: 0.6937 - val_accuracy: 0.5263\n",
            "Epoch 27/50\n",
            "100/100 [==============================] - 2s 16ms/step - loss: 0.6819 - accuracy: 0.5519 - val_loss: 0.6951 - val_accuracy: 0.5325\n",
            "Epoch 28/50\n",
            "100/100 [==============================] - 2s 16ms/step - loss: 0.6797 - accuracy: 0.5730 - val_loss: 0.6896 - val_accuracy: 0.5412\n",
            "Epoch 29/50\n",
            "100/100 [==============================] - 2s 16ms/step - loss: 0.6791 - accuracy: 0.5728 - val_loss: 0.6926 - val_accuracy: 0.5213\n",
            "Epoch 30/50\n",
            "100/100 [==============================] - 2s 16ms/step - loss: 0.6930 - accuracy: 0.5183 - val_loss: 0.6967 - val_accuracy: 0.4688\n",
            "Epoch 31/50\n",
            "100/100 [==============================] - 2s 16ms/step - loss: 0.6935 - accuracy: 0.5057 - val_loss: 0.6925 - val_accuracy: 0.5163\n",
            "Epoch 32/50\n",
            "100/100 [==============================] - 2s 16ms/step - loss: 0.6940 - accuracy: 0.5019 - val_loss: 0.6934 - val_accuracy: 0.4900\n",
            "Epoch 33/50\n",
            "100/100 [==============================] - 2s 16ms/step - loss: 0.6930 - accuracy: 0.5088 - val_loss: 0.6919 - val_accuracy: 0.5350\n",
            "Epoch 34/50\n",
            "100/100 [==============================] - 2s 16ms/step - loss: 0.6933 - accuracy: 0.5139 - val_loss: 0.6975 - val_accuracy: 0.4688\n",
            "Epoch 35/50\n",
            "100/100 [==============================] - 2s 16ms/step - loss: 0.6934 - accuracy: 0.4919 - val_loss: 0.6932 - val_accuracy: 0.4963\n",
            "Epoch 36/50\n",
            "100/100 [==============================] - 2s 16ms/step - loss: 0.6944 - accuracy: 0.4945 - val_loss: 0.6995 - val_accuracy: 0.4688\n",
            "Epoch 37/50\n",
            "100/100 [==============================] - 2s 16ms/step - loss: 0.6939 - accuracy: 0.5051 - val_loss: 0.7009 - val_accuracy: 0.4688\n",
            "Epoch 38/50\n",
            "100/100 [==============================] - 2s 16ms/step - loss: 0.6953 - accuracy: 0.4963 - val_loss: 0.6965 - val_accuracy: 0.4775\n",
            "Epoch 39/50\n",
            "100/100 [==============================] - 2s 16ms/step - loss: 0.6925 - accuracy: 0.5191 - val_loss: 0.6918 - val_accuracy: 0.5150\n",
            "Epoch 40/50\n",
            "100/100 [==============================] - 2s 16ms/step - loss: 0.6932 - accuracy: 0.5096 - val_loss: 0.6944 - val_accuracy: 0.4950\n",
            "Epoch 41/50\n",
            "100/100 [==============================] - 2s 16ms/step - loss: 0.6917 - accuracy: 0.5353 - val_loss: 0.6901 - val_accuracy: 0.5387\n",
            "Epoch 42/50\n",
            "100/100 [==============================] - 2s 16ms/step - loss: 0.6942 - accuracy: 0.4950 - val_loss: 0.6924 - val_accuracy: 0.5213\n",
            "Epoch 43/50\n",
            "100/100 [==============================] - 2s 16ms/step - loss: 0.6910 - accuracy: 0.5232 - val_loss: 0.6933 - val_accuracy: 0.5025\n",
            "Epoch 44/50\n",
            "100/100 [==============================] - 2s 16ms/step - loss: 0.6938 - accuracy: 0.5106 - val_loss: 0.6898 - val_accuracy: 0.5275\n",
            "Epoch 45/50\n",
            "100/100 [==============================] - 2s 16ms/step - loss: 0.6917 - accuracy: 0.5183 - val_loss: 0.6923 - val_accuracy: 0.5163\n",
            "Epoch 46/50\n",
            "100/100 [==============================] - 2s 16ms/step - loss: 0.6906 - accuracy: 0.5241 - val_loss: 0.6909 - val_accuracy: 0.5375\n",
            "Epoch 47/50\n",
            "100/100 [==============================] - 2s 16ms/step - loss: 0.6915 - accuracy: 0.5330 - val_loss: 0.6953 - val_accuracy: 0.5013\n",
            "Epoch 48/50\n",
            "100/100 [==============================] - 2s 16ms/step - loss: 0.6916 - accuracy: 0.5182 - val_loss: 0.6953 - val_accuracy: 0.4837\n",
            "Epoch 49/50\n",
            "100/100 [==============================] - 2s 16ms/step - loss: 0.6909 - accuracy: 0.5335 - val_loss: 0.6926 - val_accuracy: 0.5263\n",
            "Epoch 50/50\n",
            "100/100 [==============================] - 2s 16ms/step - loss: 0.6921 - accuracy: 0.5129 - val_loss: 0.6972 - val_accuracy: 0.4837\n",
            "Fold 2, 50 epochs, 104 sec\n"
          ],
          "name": "stdout"
        },
        {
          "output_type": "display_data",
          "data": {
            "image/png": "[encoded data removed]",
            "text/plain": [
              "<Figure size 576x360 with 1 Axes>"
            ]
          },
          "metadata": {
            "tags": [],
            "needs_background": "light"
          }
        },
        {
          "output_type": "stream",
          "text": [
            "MODEL\n",
            "make_DNN\n",
            "input shape: (200, 4)\n",
            "FIT\n",
            "Epoch 1/50\n",
            "100/100 [==============================] - 4s 22ms/step - loss: 0.6943 - accuracy: 0.4751 - val_loss: 0.6932 - val_accuracy: 0.4863\n",
            "Epoch 2/50\n",
            "100/100 [==============================] - 2s 16ms/step - loss: 0.6937 - accuracy: 0.4939 - val_loss: 0.6933 - val_accuracy: 0.4938\n",
            "Epoch 3/50\n",
            "100/100 [==============================] - 2s 16ms/step - loss: 0.6933 - accuracy: 0.4827 - val_loss: 0.6934 - val_accuracy: 0.5063\n",
            "Epoch 4/50\n",
            "100/100 [==============================] - 2s 16ms/step - loss: 0.6937 - accuracy: 0.4828 - val_loss: 0.6938 - val_accuracy: 0.4787\n",
            "Epoch 5/50\n",
            "100/100 [==============================] - 2s 16ms/step - loss: 0.6932 - accuracy: 0.5017 - val_loss: 0.6935 - val_accuracy: 0.4825\n",
            "Epoch 6/50\n",
            "100/100 [==============================] - 2s 16ms/step - loss: 0.6929 - accuracy: 0.5082 - val_loss: 0.6943 - val_accuracy: 0.4950\n",
            "Epoch 7/50\n",
            "100/100 [==============================] - 2s 16ms/step - loss: 0.6929 - accuracy: 0.4972 - val_loss: 0.6938 - val_accuracy: 0.5025\n",
            "Epoch 8/50\n",
            "100/100 [==============================] - 2s 16ms/step - loss: 0.6925 - accuracy: 0.5187 - val_loss: 0.6946 - val_accuracy: 0.5000\n",
            "Epoch 9/50\n",
            "100/100 [==============================] - 2s 16ms/step - loss: 0.6925 - accuracy: 0.5296 - val_loss: 0.6952 - val_accuracy: 0.4938\n",
            "Epoch 10/50\n",
            "100/100 [==============================] - 2s 16ms/step - loss: 0.6934 - accuracy: 0.4953 - val_loss: 0.6929 - val_accuracy: 0.5263\n",
            "Epoch 11/50\n",
            "100/100 [==============================] - 2s 16ms/step - loss: 0.6938 - accuracy: 0.4860 - val_loss: 0.6932 - val_accuracy: 0.5063\n",
            "Epoch 12/50\n",
            "100/100 [==============================] - 2s 16ms/step - loss: 0.6934 - accuracy: 0.5054 - val_loss: 0.6955 - val_accuracy: 0.4938\n",
            "Epoch 13/50\n",
            "100/100 [==============================] - 2s 16ms/step - loss: 0.6937 - accuracy: 0.5032 - val_loss: 0.6943 - val_accuracy: 0.4950\n",
            "Epoch 14/50\n",
            "100/100 [==============================] - 2s 16ms/step - loss: 0.6928 - accuracy: 0.5178 - val_loss: 0.6939 - val_accuracy: 0.4925\n",
            "Epoch 15/50\n",
            "100/100 [==============================] - 2s 16ms/step - loss: 0.6932 - accuracy: 0.5079 - val_loss: 0.6934 - val_accuracy: 0.5100\n",
            "Epoch 16/50\n",
            "100/100 [==============================] - 2s 16ms/step - loss: 0.6903 - accuracy: 0.5226 - val_loss: 0.6934 - val_accuracy: 0.4963\n",
            "Epoch 17/50\n",
            "100/100 [==============================] - 2s 16ms/step - loss: 0.6932 - accuracy: 0.5121 - val_loss: 0.6953 - val_accuracy: 0.5138\n",
            "Epoch 18/50\n",
            "100/100 [==============================] - 2s 16ms/step - loss: 0.6906 - accuracy: 0.5220 - val_loss: 0.6940 - val_accuracy: 0.5063\n",
            "Epoch 19/50\n",
            "100/100 [==============================] - 2s 16ms/step - loss: 0.6917 - accuracy: 0.5221 - val_loss: 0.6966 - val_accuracy: 0.5050\n",
            "Epoch 20/50\n",
            "100/100 [==============================] - 2s 16ms/step - loss: 0.6898 - accuracy: 0.5258 - val_loss: 0.6954 - val_accuracy: 0.4850\n",
            "Epoch 21/50\n",
            "100/100 [==============================] - 2s 16ms/step - loss: 0.6898 - accuracy: 0.5328 - val_loss: 0.6948 - val_accuracy: 0.5100\n",
            "Epoch 22/50\n",
            "100/100 [==============================] - 2s 16ms/step - loss: 0.6870 - accuracy: 0.5460 - val_loss: 0.6969 - val_accuracy: 0.5175\n",
            "Epoch 23/50\n",
            "100/100 [==============================] - 2s 16ms/step - loss: 0.6920 - accuracy: 0.5137 - val_loss: 0.6978 - val_accuracy: 0.5238\n",
            "Epoch 24/50\n",
            "100/100 [==============================] - 2s 16ms/step - loss: 0.6888 - accuracy: 0.5252 - val_loss: 0.7009 - val_accuracy: 0.5188\n",
            "Epoch 25/50\n",
            "100/100 [==============================] - 2s 16ms/step - loss: 0.6847 - accuracy: 0.5461 - val_loss: 0.6975 - val_accuracy: 0.5038\n",
            "Epoch 26/50\n",
            "100/100 [==============================] - 2s 16ms/step - loss: 0.6884 - accuracy: 0.5298 - val_loss: 0.6953 - val_accuracy: 0.5263\n",
            "Epoch 27/50\n",
            "100/100 [==============================] - 2s 16ms/step - loss: 0.6802 - accuracy: 0.5620 - val_loss: 0.6977 - val_accuracy: 0.5200\n",
            "Epoch 28/50\n",
            "100/100 [==============================] - 2s 16ms/step - loss: 0.6854 - accuracy: 0.5596 - val_loss: 0.6893 - val_accuracy: 0.5525\n"
          ],
          "name": "stdout"
        },
        {
          "output_type": "stream",
          "text": [
            "WARNING:absl:Found untraced functions such as lstm_cell_20_layer_call_fn, lstm_cell_20_layer_call_and_return_conditional_losses, lstm_cell_21_layer_call_fn, lstm_cell_21_layer_call_and_return_conditional_losses, lstm_cell_20_layer_call_fn while saving (showing 5 of 10). These functions will not be directly callable after loading.\n",
            "WARNING:absl:Found untraced functions such as lstm_cell_20_layer_call_fn, lstm_cell_20_layer_call_and_return_conditional_losses, lstm_cell_21_layer_call_fn, lstm_cell_21_layer_call_and_return_conditional_losses, lstm_cell_20_layer_call_fn while saving (showing 5 of 10). These functions will not be directly callable after loading.\n"
          ],
          "name": "stderr"
        },
        {
          "output_type": "stream",
          "text": [
            "INFO:tensorflow:Assets written to: BestModel/assets\n"
          ],
          "name": "stdout"
        },
        {
          "output_type": "stream",
          "text": [
            "INFO:tensorflow:Assets written to: BestModel/assets\n"
          ],
          "name": "stderr"
        },
        {
          "output_type": "stream",
          "text": [
            "Epoch 29/50\n",
            "100/100 [==============================] - 2s 16ms/step - loss: 0.6738 - accuracy: 0.5832 - val_loss: 0.6945 - val_accuracy: 0.5412\n",
            "Epoch 30/50\n",
            "100/100 [==============================] - 2s 16ms/step - loss: 0.6755 - accuracy: 0.5740 - val_loss: 0.6990 - val_accuracy: 0.5113\n",
            "Epoch 31/50\n",
            "100/100 [==============================] - 2s 16ms/step - loss: 0.6783 - accuracy: 0.5656 - val_loss: 0.6938 - val_accuracy: 0.5550\n"
          ],
          "name": "stdout"
        },
        {
          "output_type": "stream",
          "text": [
            "WARNING:absl:Found untraced functions such as lstm_cell_20_layer_call_fn, lstm_cell_20_layer_call_and_return_conditional_losses, lstm_cell_21_layer_call_fn, lstm_cell_21_layer_call_and_return_conditional_losses, lstm_cell_20_layer_call_fn while saving (showing 5 of 10). These functions will not be directly callable after loading.\n",
            "WARNING:absl:Found untraced functions such as lstm_cell_20_layer_call_fn, lstm_cell_20_layer_call_and_return_conditional_losses, lstm_cell_21_layer_call_fn, lstm_cell_21_layer_call_and_return_conditional_losses, lstm_cell_20_layer_call_fn while saving (showing 5 of 10). These functions will not be directly callable after loading.\n"
          ],
          "name": "stderr"
        },
        {
          "output_type": "stream",
          "text": [
            "INFO:tensorflow:Assets written to: BestModel/assets\n"
          ],
          "name": "stdout"
        },
        {
          "output_type": "stream",
          "text": [
            "INFO:tensorflow:Assets written to: BestModel/assets\n"
          ],
          "name": "stderr"
        },
        {
          "output_type": "stream",
          "text": [
            "Epoch 32/50\n",
            "100/100 [==============================] - 2s 16ms/step - loss: 0.6848 - accuracy: 0.5568 - val_loss: 0.6891 - val_accuracy: 0.5562\n"
          ],
          "name": "stdout"
        },
        {
          "output_type": "stream",
          "text": [
            "WARNING:absl:Found untraced functions such as lstm_cell_20_layer_call_fn, lstm_cell_20_layer_call_and_return_conditional_losses, lstm_cell_21_layer_call_fn, lstm_cell_21_layer_call_and_return_conditional_losses, lstm_cell_20_layer_call_fn while saving (showing 5 of 10). These functions will not be directly callable after loading.\n",
            "WARNING:absl:Found untraced functions such as lstm_cell_20_layer_call_fn, lstm_cell_20_layer_call_and_return_conditional_losses, lstm_cell_21_layer_call_fn, lstm_cell_21_layer_call_and_return_conditional_losses, lstm_cell_20_layer_call_fn while saving (showing 5 of 10). These functions will not be directly callable after loading.\n"
          ],
          "name": "stderr"
        },
        {
          "output_type": "stream",
          "text": [
            "INFO:tensorflow:Assets written to: BestModel/assets\n"
          ],
          "name": "stdout"
        },
        {
          "output_type": "stream",
          "text": [
            "INFO:tensorflow:Assets written to: BestModel/assets\n"
          ],
          "name": "stderr"
        },
        {
          "output_type": "stream",
          "text": [
            "Epoch 33/50\n",
            "100/100 [==============================] - 2s 16ms/step - loss: 0.6748 - accuracy: 0.5627 - val_loss: 0.6905 - val_accuracy: 0.5562\n",
            "Epoch 34/50\n",
            "100/100 [==============================] - 2s 16ms/step - loss: 0.6726 - accuracy: 0.5725 - val_loss: 0.6925 - val_accuracy: 0.5650\n"
          ],
          "name": "stdout"
        },
        {
          "output_type": "stream",
          "text": [
            "WARNING:absl:Found untraced functions such as lstm_cell_20_layer_call_fn, lstm_cell_20_layer_call_and_return_conditional_losses, lstm_cell_21_layer_call_fn, lstm_cell_21_layer_call_and_return_conditional_losses, lstm_cell_20_layer_call_fn while saving (showing 5 of 10). These functions will not be directly callable after loading.\n",
            "WARNING:absl:Found untraced functions such as lstm_cell_20_layer_call_fn, lstm_cell_20_layer_call_and_return_conditional_losses, lstm_cell_21_layer_call_fn, lstm_cell_21_layer_call_and_return_conditional_losses, lstm_cell_20_layer_call_fn while saving (showing 5 of 10). These functions will not be directly callable after loading.\n"
          ],
          "name": "stderr"
        },
        {
          "output_type": "stream",
          "text": [
            "INFO:tensorflow:Assets written to: BestModel/assets\n"
          ],
          "name": "stdout"
        },
        {
          "output_type": "stream",
          "text": [
            "INFO:tensorflow:Assets written to: BestModel/assets\n"
          ],
          "name": "stderr"
        },
        {
          "output_type": "stream",
          "text": [
            "Epoch 35/50\n",
            "100/100 [==============================] - 2s 16ms/step - loss: 0.6658 - accuracy: 0.5794 - val_loss: 0.6971 - val_accuracy: 0.5288\n",
            "Epoch 36/50\n",
            "100/100 [==============================] - 2s 16ms/step - loss: 0.6754 - accuracy: 0.5730 - val_loss: 0.6938 - val_accuracy: 0.5500\n",
            "Epoch 37/50\n",
            "100/100 [==============================] - 2s 16ms/step - loss: 0.6645 - accuracy: 0.5884 - val_loss: 0.6904 - val_accuracy: 0.5550\n",
            "Epoch 38/50\n",
            "100/100 [==============================] - 2s 16ms/step - loss: 0.6614 - accuracy: 0.6025 - val_loss: 0.6953 - val_accuracy: 0.5487\n",
            "Epoch 39/50\n",
            "100/100 [==============================] - 2s 16ms/step - loss: 0.6706 - accuracy: 0.5873 - val_loss: 0.7000 - val_accuracy: 0.5537\n",
            "Epoch 40/50\n",
            "100/100 [==============================] - 2s 16ms/step - loss: 0.6633 - accuracy: 0.5842 - val_loss: 0.6994 - val_accuracy: 0.5437\n",
            "Epoch 41/50\n",
            "100/100 [==============================] - 2s 16ms/step - loss: 0.6632 - accuracy: 0.5954 - val_loss: 0.7067 - val_accuracy: 0.5337\n",
            "Epoch 42/50\n",
            "100/100 [==============================] - 2s 16ms/step - loss: 0.6582 - accuracy: 0.6003 - val_loss: 0.7117 - val_accuracy: 0.5175\n",
            "Epoch 43/50\n",
            "100/100 [==============================] - 2s 16ms/step - loss: 0.6565 - accuracy: 0.5986 - val_loss: 0.6992 - val_accuracy: 0.5625\n",
            "Epoch 44/50\n",
            "100/100 [==============================] - 2s 16ms/step - loss: 0.6543 - accuracy: 0.6188 - val_loss: 0.7039 - val_accuracy: 0.5562\n",
            "Epoch 45/50\n",
            "100/100 [==============================] - 2s 16ms/step - loss: 0.6587 - accuracy: 0.5961 - val_loss: 0.7069 - val_accuracy: 0.5562\n",
            "Epoch 46/50\n",
            "100/100 [==============================] - 2s 16ms/step - loss: 0.6416 - accuracy: 0.6375 - val_loss: 0.7085 - val_accuracy: 0.5600\n",
            "Epoch 47/50\n",
            "100/100 [==============================] - 2s 16ms/step - loss: 0.6467 - accuracy: 0.6265 - val_loss: 0.7187 - val_accuracy: 0.5412\n",
            "Epoch 48/50\n",
            "100/100 [==============================] - 2s 16ms/step - loss: 0.6372 - accuracy: 0.6433 - val_loss: 0.7148 - val_accuracy: 0.5638\n",
            "Epoch 49/50\n",
            "100/100 [==============================] - 2s 16ms/step - loss: 0.6365 - accuracy: 0.6435 - val_loss: 0.7143 - val_accuracy: 0.5412\n",
            "Epoch 50/50\n",
            "100/100 [==============================] - 2s 16ms/step - loss: 0.6324 - accuracy: 0.6420 - val_loss: 0.7164 - val_accuracy: 0.5362\n",
            "Fold 3, 50 epochs, 112 sec\n"
          ],
          "name": "stdout"
        },
        {
          "output_type": "display_data",
          "data": {
            "image/png": "[encoded data removed]",
            "text/plain": [
              "<Figure size 576x360 with 1 Axes>"
            ]
          },
          "metadata": {
            "tags": [],
            "needs_background": "light"
          }
        },
        {
          "output_type": "stream",
          "text": [
            "MODEL\n",
            "make_DNN\n",
            "input shape: (200, 4)\n",
            "FIT\n",
            "Epoch 1/50\n",
            "100/100 [==============================] - 4s 22ms/step - loss: 0.7004 - accuracy: 0.4850 - val_loss: 0.6938 - val_accuracy: 0.5063\n",
            "Epoch 2/50\n",
            "100/100 [==============================] - 2s 16ms/step - loss: 0.6950 - accuracy: 0.4895 - val_loss: 0.6936 - val_accuracy: 0.4938\n",
            "Epoch 3/50\n",
            "100/100 [==============================] - 2s 16ms/step - loss: 0.6938 - accuracy: 0.4848 - val_loss: 0.6948 - val_accuracy: 0.4938\n",
            "Epoch 4/50\n",
            "100/100 [==============================] - 2s 16ms/step - loss: 0.6931 - accuracy: 0.5073 - val_loss: 0.6932 - val_accuracy: 0.5025\n",
            "Epoch 5/50\n",
            "100/100 [==============================] - 2s 16ms/step - loss: 0.6934 - accuracy: 0.4984 - val_loss: 0.6935 - val_accuracy: 0.5100\n",
            "Epoch 6/50\n",
            "100/100 [==============================] - 2s 16ms/step - loss: 0.6929 - accuracy: 0.5103 - val_loss: 0.6940 - val_accuracy: 0.4863\n",
            "Epoch 7/50\n",
            "100/100 [==============================] - 2s 16ms/step - loss: 0.6926 - accuracy: 0.5167 - val_loss: 0.6945 - val_accuracy: 0.4825\n",
            "Epoch 8/50\n",
            "100/100 [==============================] - 2s 16ms/step - loss: 0.6929 - accuracy: 0.5125 - val_loss: 0.6956 - val_accuracy: 0.4888\n",
            "Epoch 9/50\n",
            "100/100 [==============================] - 2s 16ms/step - loss: 0.6940 - accuracy: 0.4958 - val_loss: 0.6951 - val_accuracy: 0.4800\n",
            "Epoch 10/50\n",
            "100/100 [==============================] - 2s 16ms/step - loss: 0.6943 - accuracy: 0.4945 - val_loss: 0.6960 - val_accuracy: 0.5050\n",
            "Epoch 11/50\n",
            "100/100 [==============================] - 2s 16ms/step - loss: 0.6916 - accuracy: 0.5305 - val_loss: 0.6969 - val_accuracy: 0.5050\n",
            "Epoch 12/50\n",
            "100/100 [==============================] - 2s 16ms/step - loss: 0.6982 - accuracy: 0.4653 - val_loss: 0.6935 - val_accuracy: 0.4938\n",
            "Epoch 13/50\n",
            "100/100 [==============================] - 2s 16ms/step - loss: 0.6938 - accuracy: 0.4888 - val_loss: 0.6937 - val_accuracy: 0.5075\n",
            "Epoch 14/50\n",
            "100/100 [==============================] - 2s 16ms/step - loss: 0.6932 - accuracy: 0.5104 - val_loss: 0.6936 - val_accuracy: 0.4963\n",
            "Epoch 15/50\n",
            "100/100 [==============================] - 2s 16ms/step - loss: 0.6935 - accuracy: 0.5014 - val_loss: 0.6937 - val_accuracy: 0.5013\n",
            "Epoch 16/50\n",
            "100/100 [==============================] - 2s 16ms/step - loss: 0.6930 - accuracy: 0.5104 - val_loss: 0.6963 - val_accuracy: 0.4938\n",
            "Epoch 17/50\n",
            "100/100 [==============================] - 2s 16ms/step - loss: 0.6916 - accuracy: 0.5191 - val_loss: 0.6937 - val_accuracy: 0.5088\n",
            "Epoch 18/50\n",
            "100/100 [==============================] - 2s 16ms/step - loss: 0.6933 - accuracy: 0.4999 - val_loss: 0.6932 - val_accuracy: 0.5013\n",
            "Epoch 19/50\n",
            "100/100 [==============================] - 2s 16ms/step - loss: 0.6937 - accuracy: 0.4908 - val_loss: 0.6937 - val_accuracy: 0.4988\n",
            "Epoch 20/50\n",
            "100/100 [==============================] - 2s 16ms/step - loss: 0.6935 - accuracy: 0.5203 - val_loss: 0.6940 - val_accuracy: 0.5038\n",
            "Epoch 21/50\n",
            "100/100 [==============================] - 2s 16ms/step - loss: 0.6920 - accuracy: 0.5393 - val_loss: 0.6959 - val_accuracy: 0.4875\n",
            "Epoch 22/50\n",
            "100/100 [==============================] - 2s 16ms/step - loss: 0.6922 - accuracy: 0.5096 - val_loss: 0.6971 - val_accuracy: 0.4900\n",
            "Epoch 23/50\n",
            "100/100 [==============================] - 2s 16ms/step - loss: 0.6940 - accuracy: 0.4901 - val_loss: 0.6950 - val_accuracy: 0.4938\n",
            "Epoch 24/50\n",
            "100/100 [==============================] - 2s 16ms/step - loss: 0.6928 - accuracy: 0.5120 - val_loss: 0.6956 - val_accuracy: 0.4888\n",
            "Epoch 25/50\n",
            "100/100 [==============================] - 2s 16ms/step - loss: 0.6889 - accuracy: 0.5330 - val_loss: 0.6970 - val_accuracy: 0.4850\n",
            "Epoch 26/50\n",
            "100/100 [==============================] - 2s 16ms/step - loss: 0.6921 - accuracy: 0.5193 - val_loss: 0.6948 - val_accuracy: 0.5050\n",
            "Epoch 27/50\n",
            "100/100 [==============================] - 2s 16ms/step - loss: 0.6894 - accuracy: 0.5384 - val_loss: 0.6961 - val_accuracy: 0.5063\n",
            "Epoch 28/50\n",
            "100/100 [==============================] - 2s 16ms/step - loss: 0.6890 - accuracy: 0.5544 - val_loss: 0.6951 - val_accuracy: 0.5175\n",
            "Epoch 29/50\n",
            "100/100 [==============================] - 2s 16ms/step - loss: 0.6904 - accuracy: 0.5343 - val_loss: 0.6945 - val_accuracy: 0.5000\n",
            "Epoch 30/50\n",
            "100/100 [==============================] - 2s 16ms/step - loss: 0.6901 - accuracy: 0.5410 - val_loss: 0.6941 - val_accuracy: 0.5113\n",
            "Epoch 31/50\n",
            "100/100 [==============================] - 2s 16ms/step - loss: 0.6905 - accuracy: 0.5227 - val_loss: 0.6985 - val_accuracy: 0.5013\n",
            "Epoch 32/50\n",
            "100/100 [==============================] - 2s 16ms/step - loss: 0.6886 - accuracy: 0.5358 - val_loss: 0.6940 - val_accuracy: 0.5088\n",
            "Epoch 33/50\n",
            "100/100 [==============================] - 2s 16ms/step - loss: 0.6899 - accuracy: 0.5267 - val_loss: 0.6933 - val_accuracy: 0.5125\n",
            "Epoch 34/50\n",
            "100/100 [==============================] - 2s 16ms/step - loss: 0.6919 - accuracy: 0.5178 - val_loss: 0.6921 - val_accuracy: 0.5300\n",
            "Epoch 35/50\n",
            "100/100 [==============================] - 2s 16ms/step - loss: 0.6879 - accuracy: 0.5366 - val_loss: 0.6927 - val_accuracy: 0.5175\n",
            "Epoch 36/50\n",
            "100/100 [==============================] - 2s 16ms/step - loss: 0.6885 - accuracy: 0.5292 - val_loss: 0.6950 - val_accuracy: 0.5138\n",
            "Epoch 37/50\n",
            "100/100 [==============================] - 2s 16ms/step - loss: 0.6860 - accuracy: 0.5482 - val_loss: 0.6948 - val_accuracy: 0.5238\n",
            "Epoch 38/50\n",
            "100/100 [==============================] - 2s 16ms/step - loss: 0.6866 - accuracy: 0.5368 - val_loss: 0.6933 - val_accuracy: 0.5088\n",
            "Epoch 39/50\n",
            "100/100 [==============================] - 2s 16ms/step - loss: 0.6854 - accuracy: 0.5508 - val_loss: 0.6966 - val_accuracy: 0.5225\n",
            "Epoch 40/50\n",
            "100/100 [==============================] - 2s 16ms/step - loss: 0.6808 - accuracy: 0.5638 - val_loss: 0.6938 - val_accuracy: 0.5225\n",
            "Epoch 41/50\n",
            "100/100 [==============================] - 2s 16ms/step - loss: 0.6825 - accuracy: 0.5585 - val_loss: 0.6951 - val_accuracy: 0.5175\n",
            "Epoch 42/50\n",
            "100/100 [==============================] - 2s 16ms/step - loss: 0.6821 - accuracy: 0.5702 - val_loss: 0.7024 - val_accuracy: 0.4988\n",
            "Epoch 43/50\n",
            "100/100 [==============================] - 2s 16ms/step - loss: 0.6842 - accuracy: 0.5602 - val_loss: 0.6971 - val_accuracy: 0.5138\n",
            "Epoch 44/50\n",
            "100/100 [==============================] - 2s 16ms/step - loss: 0.6815 - accuracy: 0.5670 - val_loss: 0.6977 - val_accuracy: 0.5075\n",
            "Epoch 45/50\n",
            "100/100 [==============================] - 2s 16ms/step - loss: 0.6846 - accuracy: 0.5529 - val_loss: 0.7002 - val_accuracy: 0.5200\n",
            "Epoch 46/50\n",
            "100/100 [==============================] - 2s 16ms/step - loss: 0.6803 - accuracy: 0.5630 - val_loss: 0.6992 - val_accuracy: 0.5150\n",
            "Epoch 47/50\n",
            "100/100 [==============================] - 2s 16ms/step - loss: 0.6762 - accuracy: 0.5729 - val_loss: 0.6982 - val_accuracy: 0.5163\n",
            "Epoch 48/50\n",
            "100/100 [==============================] - 2s 16ms/step - loss: 0.6717 - accuracy: 0.5956 - val_loss: 0.6979 - val_accuracy: 0.5350\n",
            "Epoch 49/50\n",
            "100/100 [==============================] - 2s 16ms/step - loss: 0.6802 - accuracy: 0.5656 - val_loss: 0.7010 - val_accuracy: 0.5150\n",
            "Epoch 50/50\n",
            "100/100 [==============================] - 2s 16ms/step - loss: 0.6765 - accuracy: 0.5782 - val_loss: 0.6988 - val_accuracy: 0.5138\n",
            "Fold 4, 50 epochs, 82 sec\n"
          ],
          "name": "stdout"
        },
        {
          "output_type": "display_data",
          "data": {
            "image/png": "[encoded data removed]",
            "text/plain": [
              "<Figure size 576x360 with 1 Axes>"
            ]
          },
          "metadata": {
            "tags": [],
            "needs_background": "light"
          }
        },
        {
          "output_type": "stream",
          "text": [
            "MODEL\n",
            "make_DNN\n",
            "input shape: (200, 4)\n",
            "FIT\n",
            "Epoch 1/50\n",
            "100/100 [==============================] - 5s 22ms/step - loss: 0.6944 - accuracy: 0.4943 - val_loss: 0.6941 - val_accuracy: 0.4825\n",
            "Epoch 2/50\n",
            "100/100 [==============================] - 2s 16ms/step - loss: 0.6941 - accuracy: 0.4798 - val_loss: 0.6939 - val_accuracy: 0.4825\n",
            "Epoch 3/50\n",
            "100/100 [==============================] - 2s 16ms/step - loss: 0.6935 - accuracy: 0.5060 - val_loss: 0.6941 - val_accuracy: 0.4825\n",
            "Epoch 4/50\n",
            "100/100 [==============================] - 2s 16ms/step - loss: 0.6935 - accuracy: 0.4892 - val_loss: 0.6940 - val_accuracy: 0.4825\n",
            "Epoch 5/50\n",
            "100/100 [==============================] - 2s 16ms/step - loss: 0.6934 - accuracy: 0.4977 - val_loss: 0.6941 - val_accuracy: 0.4850\n",
            "Epoch 6/50\n",
            "100/100 [==============================] - 2s 16ms/step - loss: 0.6932 - accuracy: 0.4977 - val_loss: 0.6939 - val_accuracy: 0.4888\n",
            "Epoch 7/50\n",
            "100/100 [==============================] - 2s 16ms/step - loss: 0.6930 - accuracy: 0.4962 - val_loss: 0.6923 - val_accuracy: 0.5138\n",
            "Epoch 8/50\n",
            "100/100 [==============================] - 2s 16ms/step - loss: 0.6934 - accuracy: 0.4998 - val_loss: 0.6932 - val_accuracy: 0.5088\n",
            "Epoch 9/50\n",
            "100/100 [==============================] - 2s 16ms/step - loss: 0.6924 - accuracy: 0.5173 - val_loss: 0.6930 - val_accuracy: 0.4837\n",
            "Epoch 10/50\n",
            "100/100 [==============================] - 2s 16ms/step - loss: 0.6931 - accuracy: 0.5018 - val_loss: 0.6942 - val_accuracy: 0.5050\n",
            "Epoch 11/50\n",
            "100/100 [==============================] - 2s 16ms/step - loss: 0.6924 - accuracy: 0.5187 - val_loss: 0.6930 - val_accuracy: 0.5038\n",
            "Epoch 12/50\n",
            "100/100 [==============================] - 2s 16ms/step - loss: 0.6928 - accuracy: 0.5147 - val_loss: 0.6949 - val_accuracy: 0.4925\n",
            "Epoch 13/50\n",
            "100/100 [==============================] - 2s 16ms/step - loss: 0.6914 - accuracy: 0.5313 - val_loss: 0.6967 - val_accuracy: 0.4737\n",
            "Epoch 14/50\n",
            "100/100 [==============================] - 2s 16ms/step - loss: 0.6906 - accuracy: 0.5198 - val_loss: 0.6953 - val_accuracy: 0.5200\n",
            "Epoch 15/50\n",
            "100/100 [==============================] - 2s 16ms/step - loss: 0.6899 - accuracy: 0.5311 - val_loss: 0.6973 - val_accuracy: 0.5050\n",
            "Epoch 16/50\n",
            "100/100 [==============================] - 2s 16ms/step - loss: 0.6898 - accuracy: 0.5300 - val_loss: 0.6971 - val_accuracy: 0.4963\n",
            "Epoch 17/50\n",
            "100/100 [==============================] - 2s 16ms/step - loss: 0.6887 - accuracy: 0.5176 - val_loss: 0.6975 - val_accuracy: 0.5063\n",
            "Epoch 18/50\n",
            "100/100 [==============================] - 2s 16ms/step - loss: 0.6860 - accuracy: 0.5388 - val_loss: 0.7008 - val_accuracy: 0.4863\n",
            "Epoch 19/50\n",
            "100/100 [==============================] - 2s 16ms/step - loss: 0.6845 - accuracy: 0.5572 - val_loss: 0.6981 - val_accuracy: 0.5000\n",
            "Epoch 20/50\n",
            "100/100 [==============================] - 2s 16ms/step - loss: 0.6864 - accuracy: 0.5434 - val_loss: 0.7003 - val_accuracy: 0.5013\n",
            "Epoch 21/50\n",
            "100/100 [==============================] - 2s 16ms/step - loss: 0.6824 - accuracy: 0.5475 - val_loss: 0.6986 - val_accuracy: 0.5025\n",
            "Epoch 22/50\n",
            "100/100 [==============================] - 2s 16ms/step - loss: 0.6852 - accuracy: 0.5468 - val_loss: 0.7043 - val_accuracy: 0.4950\n",
            "Epoch 23/50\n",
            "100/100 [==============================] - 2s 16ms/step - loss: 0.6842 - accuracy: 0.5432 - val_loss: 0.7033 - val_accuracy: 0.4850\n",
            "Epoch 24/50\n",
            "100/100 [==============================] - 2s 16ms/step - loss: 0.6847 - accuracy: 0.5425 - val_loss: 0.7053 - val_accuracy: 0.4825\n",
            "Epoch 25/50\n",
            "100/100 [==============================] - 2s 16ms/step - loss: 0.6824 - accuracy: 0.5512 - val_loss: 0.7071 - val_accuracy: 0.5188\n",
            "Epoch 26/50\n",
            "100/100 [==============================] - 2s 16ms/step - loss: 0.6739 - accuracy: 0.5613 - val_loss: 0.7029 - val_accuracy: 0.5138\n",
            "Epoch 27/50\n",
            "100/100 [==============================] - 2s 16ms/step - loss: 0.6767 - accuracy: 0.5561 - val_loss: 0.6976 - val_accuracy: 0.5288\n",
            "Epoch 28/50\n",
            "100/100 [==============================] - 2s 16ms/step - loss: 0.6755 - accuracy: 0.5772 - val_loss: 0.7021 - val_accuracy: 0.5113\n",
            "Epoch 29/50\n",
            "100/100 [==============================] - 2s 16ms/step - loss: 0.6710 - accuracy: 0.5708 - val_loss: 0.7015 - val_accuracy: 0.5188\n",
            "Epoch 30/50\n",
            "100/100 [==============================] - 2s 16ms/step - loss: 0.6663 - accuracy: 0.5922 - val_loss: 0.7044 - val_accuracy: 0.5163\n",
            "Epoch 31/50\n",
            "100/100 [==============================] - 2s 16ms/step - loss: 0.6752 - accuracy: 0.5625 - val_loss: 0.7110 - val_accuracy: 0.5188\n",
            "Epoch 32/50\n",
            "100/100 [==============================] - 2s 16ms/step - loss: 0.6682 - accuracy: 0.5852 - val_loss: 0.7111 - val_accuracy: 0.5163\n",
            "Epoch 33/50\n",
            "100/100 [==============================] - 2s 16ms/step - loss: 0.6553 - accuracy: 0.6213 - val_loss: 0.7093 - val_accuracy: 0.5312\n",
            "Epoch 34/50\n",
            "100/100 [==============================] - 2s 17ms/step - loss: 0.6558 - accuracy: 0.6118 - val_loss: 0.7096 - val_accuracy: 0.5125\n",
            "Epoch 35/50\n",
            "100/100 [==============================] - 2s 17ms/step - loss: 0.6455 - accuracy: 0.6142 - val_loss: 0.7230 - val_accuracy: 0.5138\n",
            "Epoch 36/50\n",
            "100/100 [==============================] - 2s 16ms/step - loss: 0.6483 - accuracy: 0.6224 - val_loss: 0.7264 - val_accuracy: 0.4938\n",
            "Epoch 37/50\n",
            "100/100 [==============================] - 2s 17ms/step - loss: 0.6336 - accuracy: 0.6395 - val_loss: 0.7215 - val_accuracy: 0.5038\n",
            "Epoch 38/50\n",
            "100/100 [==============================] - 2s 16ms/step - loss: 0.6412 - accuracy: 0.6376 - val_loss: 0.7340 - val_accuracy: 0.5175\n",
            "Epoch 39/50\n",
            "100/100 [==============================] - 2s 16ms/step - loss: 0.6237 - accuracy: 0.6437 - val_loss: 0.7279 - val_accuracy: 0.5250\n",
            "Epoch 40/50\n",
            "100/100 [==============================] - 2s 17ms/step - loss: 0.6049 - accuracy: 0.6702 - val_loss: 0.7281 - val_accuracy: 0.5200\n",
            "Epoch 41/50\n",
            "100/100 [==============================] - 2s 16ms/step - loss: 0.6066 - accuracy: 0.6661 - val_loss: 0.7484 - val_accuracy: 0.5425\n",
            "Epoch 42/50\n",
            "100/100 [==============================] - 2s 16ms/step - loss: 0.5884 - accuracy: 0.6867 - val_loss: 0.7560 - val_accuracy: 0.5113\n",
            "Epoch 43/50\n",
            "100/100 [==============================] - 2s 16ms/step - loss: 0.5940 - accuracy: 0.6800 - val_loss: 0.7589 - val_accuracy: 0.5013\n",
            "Epoch 44/50\n",
            "100/100 [==============================] - 2s 17ms/step - loss: 0.6039 - accuracy: 0.6692 - val_loss: 0.7702 - val_accuracy: 0.5288\n",
            "Epoch 45/50\n",
            "100/100 [==============================] - 2s 17ms/step - loss: 0.5655 - accuracy: 0.7083 - val_loss: 0.7802 - val_accuracy: 0.5188\n",
            "Epoch 46/50\n",
            "100/100 [==============================] - 2s 17ms/step - loss: 0.5763 - accuracy: 0.6939 - val_loss: 0.7696 - val_accuracy: 0.5088\n",
            "Epoch 47/50\n",
            "100/100 [==============================] - 2s 17ms/step - loss: 0.5655 - accuracy: 0.7053 - val_loss: 0.7948 - val_accuracy: 0.5100\n",
            "Epoch 48/50\n",
            "100/100 [==============================] - 2s 16ms/step - loss: 0.5442 - accuracy: 0.7175 - val_loss: 0.8060 - val_accuracy: 0.5138\n",
            "Epoch 49/50\n",
            "100/100 [==============================] - 2s 17ms/step - loss: 0.5597 - accuracy: 0.7160 - val_loss: 0.8208 - val_accuracy: 0.4850\n",
            "Epoch 50/50\n",
            "100/100 [==============================] - 2s 16ms/step - loss: 0.5262 - accuracy: 0.7432 - val_loss: 0.8425 - val_accuracy: 0.4950\n",
            "Fold 5, 50 epochs, 84 sec\n"
          ],
          "name": "stdout"
        },
        {
          "output_type": "display_data",
          "data": {
            "image/png": "[encoded data removed]",
            "text/plain": [
              "<Figure size 576x360 with 1 Axes>"
            ]
          },
          "metadata": {
            "tags": [],
            "needs_background": "light"
          }
        }
      ]
    },
    {
      "cell_type": "code",
      "metadata": {
        "id": "e-jG1h5fj2Ua",
        "colab": {
          "base_uri": "https://localhost:8080/"
        },
        "outputId": "a724108a-a84b-43e3-ed1f-0d72046f23aa"
      },
      "source": [
        "from keras.models import load_model\n",
        "pc_sim.set_reproducible(True)\n",
        "nc_sim.set_reproducible(True)\n",
        "pc_test = pc_sim.get_sequences(PC_TESTS)\n",
        "nc_test = nc_sim.get_sequences(NC_TESTS)\n",
        "X,y = prepare_inputs_len_x_alphabet(pc_test,nc_test,ALPHABET)\n",
        "best_model=load_model(MODELPATH)\n",
        "scores = best_model.evaluate(X, y, verbose=0)\n",
        "print(\"The best model parameters were saved during cross-validation.\")\n",
        "print(\"Best was defined as maximum validation accuracy at end of any epoch.\")\n",
        "print(\"Now re-load the best model and test it on previously unseen data.\")\n",
        "print(\"Test on\",len(pc_test),\"PC seqs\")\n",
        "print(\"Test on\",len(nc_test),\"NC seqs\")\n",
        "print(\"%s: %.2f%%\" % (best_model.metrics_names[1], scores[1]*100))\n"
      ],
      "execution_count": 22,
      "outputs": [
        {
          "output_type": "stream",
          "text": [
            "The best model parameters were saved during cross-validation.\n",
            "Best was defined as maximum validation accuracy at end of any epoch.\n",
            "Now re-load the best model and test it on previously unseen data.\n",
            "Test on 1000 PC seqs\n",
            "Test on 1000 NC seqs\n",
            "accuracy: 53.25%\n"
          ],
          "name": "stdout"
        }
      ]
    },
    {
      "cell_type": "code",
      "metadata": {
        "id": "VycUnmvUj2Ue",
        "colab": {
          "base_uri": "https://localhost:8080/",
          "height": 312
        },
        "outputId": "465a8e83-7dfe-413a-a3eb-ed2380f977ea"
      },
      "source": [
        "from sklearn.metrics import roc_curve\n",
        "from sklearn.metrics import roc_auc_score\n",
        "ns_probs = [0 for _ in range(len(y))]\n",
        "bm_probs = best_model.predict(X)\n",
        "ns_auc = roc_auc_score(y, ns_probs)\n",
        "bm_auc = roc_auc_score(y, bm_probs)\n",
        "ns_fpr, ns_tpr, _ = roc_curve(y, ns_probs)\n",
        "bm_fpr, bm_tpr, _ = roc_curve(y, bm_probs)\n",
        "plt.plot(ns_fpr, ns_tpr, linestyle='--', label='Guess, auc=%.4f'%ns_auc)\n",
        "plt.plot(bm_fpr, bm_tpr, marker='.', label='Model, auc=%.4f'%bm_auc)\n",
        "plt.title('ROC')\n",
        "plt.xlabel('False Positive Rate')\n",
        "plt.ylabel('True Positive Rate')\n",
        "plt.legend()\n",
        "plt.show()\n",
        "print(\"%s: %.2f%%\" %('AUC',bm_auc))\n"
      ],
      "execution_count": 23,
      "outputs": [
        {
          "output_type": "display_data",
          "data": {
            "image/png": "[encoded data removed]",
            "text/plain": [
              "<Figure size 432x288 with 1 Axes>"
            ]
          },
          "metadata": {
            "tags": [],
            "needs_background": "light"
          }
        },
        {
          "output_type": "stream",
          "text": [
            "AUC: 0.55%\n"
          ],
          "name": "stdout"
        }
      ]
    },
    {
      "cell_type": "code",
      "metadata": {
        "id": "kFMb6rGNj2Ug",
        "colab": {
          "base_uri": "https://localhost:8080/",
          "height": 36
        },
        "outputId": "2b893a02-1422-4314-8955-7d3283d651cd"
      },
      "source": [
        "t = time.time()\n",
        "time.strftime('%Y-%m-%d %H:%M:%S %Z', time.localtime(t))"
      ],
      "execution_count": 24,
      "outputs": [
        {
          "output_type": "execute_result",
          "data": {
            "application/vnd.google.colaboratory.intrinsic+json": {
              "type": "string"
            },
            "text/plain": [
              "'2021-05-17 17:45:11 UTC'"
            ]
          },
          "metadata": {
            "tags": []
          },
          "execution_count": 24
        }
      ]
    }
  ]
}