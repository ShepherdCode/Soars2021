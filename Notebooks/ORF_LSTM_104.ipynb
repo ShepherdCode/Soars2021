{
  "nbformat": 4,
  "nbformat_minor": 0,
  "metadata": {
    "accelerator": "GPU",
    "colab": {
      "name": "ORF_LSTM_104.ipynb",
      "provenance": [],
      "collapsed_sections": []
    },
    "kernelspec": {
      "display_name": "Python 3",
      "language": "python",
      "name": "python3"
    },
    "language_info": {
      "codemirror_mode": {
        "name": "ipython",
        "version": 3
      },
      "file_extension": ".py",
      "mimetype": "text/x-python",
      "name": "python",
      "nbconvert_exporter": "python",
      "pygments_lexer": "ipython3",
      "version": "3.8.3"
    }
  },
  "cells": [
    {
      "cell_type": "markdown",
      "metadata": {
        "id": "0asdcdunj2Tx"
      },
      "source": [
        "# ORF recognition by LSTM\n",
        "LSTM was incapable of ORF recognition on 1000 bp sequences. Try smaller.\n"
      ]
    },
    {
      "cell_type": "code",
      "metadata": {
        "colab": {
          "base_uri": "https://localhost:8080/",
          "height": 36
        },
        "id": "QP1VTRNQj2UO",
        "outputId": "2057d86e-b598-4983-b8fe-322c3ab96629"
      },
      "source": [
        "import time \n",
        "t = time.time()\n",
        "time.strftime('%Y-%m-%d %H:%M:%S %Z', time.localtime(t))"
      ],
      "execution_count": 1,
      "outputs": [
        {
          "output_type": "execute_result",
          "data": {
            "application/vnd.google.colaboratory.intrinsic+json": {
              "type": "string"
            },
            "text/plain": [
              "'2021-05-18 11:35:28 UTC'"
            ]
          },
          "metadata": {
            "tags": []
          },
          "execution_count": 1
        }
      ]
    },
    {
      "cell_type": "code",
      "metadata": {
        "id": "Nhz4GKonj2T_"
      },
      "source": [
        "PC_SEQUENCES=20000   # how many protein-coding sequences\n",
        "NC_SEQUENCES=20000   # how many non-coding sequences\n",
        "PC_TESTS=1000\n",
        "NC_TESTS=1000\n",
        "BASES=200            # how long is each sequence\n",
        "ALPHABET=4          # how many different letters are possible\n",
        "INPUT_SHAPE_2D = (BASES,ALPHABET,1) # Conv2D needs 3D inputs\n",
        "INPUT_SHAPE = (BASES,ALPHABET) # Conv1D needs 2D inputs\n",
        "NEURONS = 32\n",
        "#DROP_RATE = 0.2\n",
        "EPOCHS=50  # how many times to train on all the data\n",
        "SPLITS=5  # SPLITS=3 means train on 2/3 and validate on 1/3 \n",
        "FOLDS=5  # train the model this many times (range 1 to SPLITS)"
      ],
      "execution_count": 2,
      "outputs": []
    },
    {
      "cell_type": "code",
      "metadata": {
        "colab": {
          "base_uri": "https://localhost:8080/"
        },
        "id": "lr7q90rxj2UE",
        "outputId": "f95c973c-044f-463c-aa45-bd7b102daf0a"
      },
      "source": [
        "import sys\n",
        "try:\n",
        "    from google.colab import drive\n",
        "    IN_COLAB = True\n",
        "    print(\"On Google CoLab, mount cloud-local file, get our code from GitHub.\")\n",
        "    PATH='/content/drive/'\n",
        "    #drive.mount(PATH,force_remount=True)  # hardly ever need this\n",
        "    #drive.mount(PATH)    # Google will require login credentials\n",
        "    DATAPATH=PATH+'My Drive/data/'  # must end in \"/\"\n",
        "    import requests\n",
        "    r = requests.get('https://raw.githubusercontent.com/ShepherdCode/Soars2021/master/SimTools/RNA_gen.py')\n",
        "    with open('RNA_gen.py', 'w') as f:\n",
        "        f.write(r.text)  \n",
        "    from RNA_gen import *\n",
        "    r = requests.get('https://raw.githubusercontent.com/ShepherdCode/Soars2021/master/SimTools/RNA_describe.py')\n",
        "    with open('RNA_describe.py', 'w') as f:\n",
        "        f.write(r.text)  \n",
        "    from RNA_describe import *\n",
        "    r = requests.get('https://raw.githubusercontent.com/ShepherdCode/Soars2021/master/SimTools/RNA_prep.py')\n",
        "    with open('RNA_prep.py', 'w') as f:\n",
        "        f.write(r.text)  \n",
        "    from RNA_prep import *\n",
        "except:\n",
        "    print(\"CoLab not working. On my PC, use relative paths.\")\n",
        "    IN_COLAB = False\n",
        "    DATAPATH='data/'  # must end in \"/\"\n",
        "    sys.path.append(\"..\") # append parent dir in order to use sibling dirs\n",
        "    from SimTools.RNA_gen import *\n",
        "    from SimTools.RNA_describe import *\n",
        "    from SimTools.RNA_prep import *\n",
        "\n",
        "MODELPATH=\"BestModel\"  # saved on cloud instance and lost after logout\n",
        "#MODELPATH=DATAPATH+MODELPATH  # saved on Google Drive but requires login\n",
        "\n",
        "if not assert_imported_RNA_gen():\n",
        "    print(\"ERROR: Cannot use RNA_gen.\")\n",
        "if not assert_imported_RNA_prep():\n",
        "    print(\"ERROR: Cannot use RNA_prep.\")"
      ],
      "execution_count": 3,
      "outputs": [
        {
          "output_type": "stream",
          "text": [
            "On Google CoLab, mount cloud-local file, get our code from GitHub.\n"
          ],
          "name": "stdout"
        }
      ]
    },
    {
      "cell_type": "code",
      "metadata": {
        "id": "EGDXH8Uwj2UM"
      },
      "source": [
        "from os import listdir\n",
        "import csv\n",
        "from zipfile import ZipFile\n",
        "\n",
        "import numpy as np\n",
        "import pandas as pd\n",
        "from scipy import stats  # mode\n",
        "\n",
        "from sklearn.preprocessing import StandardScaler\n",
        "from sklearn.model_selection import KFold\n",
        "from sklearn.model_selection import cross_val_score\n",
        "\n",
        "from keras.models import Sequential\n",
        "from keras.layers import Dense,Embedding,Dropout\n",
        "from keras.layers import LSTM\n",
        "from keras.losses import BinaryCrossentropy\n",
        "# tf.keras.losses.BinaryCrossentropy\n",
        "\n",
        "import matplotlib.pyplot as plt\n",
        "from matplotlib import colors\n",
        "mycmap = colors.ListedColormap(['red','blue'])  # list color for label 0 then 1\n",
        "np.set_printoptions(precision=2)\n"
      ],
      "execution_count": 4,
      "outputs": []
    },
    {
      "cell_type": "code",
      "metadata": {
        "colab": {
          "base_uri": "https://localhost:8080/"
        },
        "id": "Q0FetlLPj2UQ",
        "outputId": "6ff57400-1477-417e-de05-ff59d6ef16ea"
      },
      "source": [
        "# Use code from our SimTools library.\n",
        "def make_generators(seq_len):\n",
        "    pcgen = Collection_Generator()  \n",
        "    pcgen.get_len_oracle().set_mean(seq_len)\n",
        "    pcgen.set_seq_oracle(Transcript_Oracle())\n",
        "    ncgen = Collection_Generator()  \n",
        "    ncgen.get_len_oracle().set_mean(seq_len)\n",
        "    return pcgen,ncgen\n",
        "def get_the_facts(seqs):\n",
        "    rd = RNA_describer()\n",
        "    facts = rd.get_three_lengths(seqs)\n",
        "    facts_ary = np.asarray(facts) # 5000 rows, 3 columns \n",
        "    print(\"Facts array:\",type(facts_ary))\n",
        "    print(\"Facts array:\",facts_ary.shape)\n",
        "    # Get the mean of each column\n",
        "    mean_5utr, mean_orf, mean_3utr = np.mean(facts_ary,axis=0)\n",
        "    std_5utr, std_orf, std_3utr = np.std(facts_ary,axis=0)\n",
        "    print(\"mean 5' UTR length:\",int(mean_5utr),\"+/-\",int(std_5utr))\n",
        "    print(\"mean    ORF length:\",int(mean_orf), \"+/-\",int(std_orf))\n",
        "    print(\"mean 3' UTR length:\",int(mean_3utr),\"+/-\",int(std_3utr))\n",
        "\n",
        "pc_sim,nc_sim = make_generators(BASES)\n",
        "pc_train = pc_sim.get_sequences(PC_SEQUENCES)\n",
        "nc_train = nc_sim.get_sequences(NC_SEQUENCES)\n",
        "print(\"Train on\",len(pc_train),\"PC seqs\")\n",
        "get_the_facts(pc_train)\n",
        "print(\"Train on\",len(nc_train),\"NC seqs\")\n",
        "get_the_facts(nc_train)"
      ],
      "execution_count": 5,
      "outputs": [
        {
          "output_type": "stream",
          "text": [
            "Train on 20000 PC seqs\n",
            "Facts array: <class 'numpy.ndarray'>\n",
            "Facts array: (20000, 3)\n",
            "mean 5' UTR length: 45 +/- 15\n",
            "mean    ORF length: 105 +/- 20\n",
            "mean 3' UTR length: 49 +/- 11\n",
            "Train on 20000 NC seqs\n",
            "Facts array: <class 'numpy.ndarray'>\n",
            "Facts array: (20000, 3)\n",
            "mean 5' UTR length: 69 +/- 43\n",
            "mean    ORF length: 54 +/- 40\n",
            "mean 3' UTR length: 76 +/- 43\n"
          ],
          "name": "stdout"
        }
      ]
    },
    {
      "cell_type": "code",
      "metadata": {
        "colab": {
          "base_uri": "https://localhost:8080/"
        },
        "id": "CIpTrnH6j2US",
        "outputId": "f4687003-4718-4da2-9fa6-c4a081bb8f7f"
      },
      "source": [
        "# Use code from our SimTools library.\n",
        "X,y = prepare_inputs_len_x_alphabet(pc_train,nc_train,ALPHABET) # shuffles\n",
        "print(\"Data ready.\")"
      ],
      "execution_count": 6,
      "outputs": [
        {
          "output_type": "stream",
          "text": [
            "Data ready.\n"
          ],
          "name": "stdout"
        }
      ]
    },
    {
      "cell_type": "code",
      "metadata": {
        "colab": {
          "base_uri": "https://localhost:8080/"
        },
        "id": "7NvrVU8ij2UU",
        "outputId": "f170f23a-e08c-4d0e-a9b3-4e17f143198f"
      },
      "source": [
        "def make_DNN():\n",
        "    print(\"make_DNN\")\n",
        "    print(\"input shape:\",INPUT_SHAPE)\n",
        "    dnn = Sequential()\n",
        "    #dnn.add(Embedding(input_dim=ALPHABET, output_dim=ALPHABET))\n",
        "        #VOCABULARY_SIZE, EMBED_DIMEN, input_length=1000, input_length=1000, mask_zero=True)\n",
        "        #input_dim=[None,VOCABULARY_SIZE], output_dim=EMBED_DIMEN, mask_zero=True)\n",
        "    dnn.add(LSTM(NEURONS,return_sequences=True,input_shape=INPUT_SHAPE))\n",
        "    dnn.add(LSTM(NEURONS,return_sequences=False)) \n",
        "    dnn.add(Dense(NEURONS,activation=\"sigmoid\",dtype=np.float32))   \n",
        "    dnn.add(Dense(1,activation=\"sigmoid\",dtype=np.float32))   \n",
        "    dnn.compile(optimizer='adam',\n",
        "                loss=BinaryCrossentropy(from_logits=False),\n",
        "                metrics=['accuracy'])   # add to default metrics=loss\n",
        "    dnn.build() # input_shape=INPUT_SHAPE)\n",
        "    #ln_rate = tf.keras.optimizers.Adam(learning_rate = LN_RATE)\n",
        "    #bc=tf.keras.losses.BinaryCrossentropy(from_logits=False)\n",
        "    #model.compile(loss=bc, optimizer=ln_rate, metrics=[\"accuracy\"])\n",
        "    return dnn\n",
        "model = make_DNN()\n",
        "print(model.summary())"
      ],
      "execution_count": 7,
      "outputs": [
        {
          "output_type": "stream",
          "text": [
            "make_DNN\n",
            "input shape: (200, 4)\n",
            "Model: \"sequential\"\n",
            "_________________________________________________________________\n",
            "Layer (type)                 Output Shape              Param #   \n",
            "=================================================================\n",
            "lstm (LSTM)                  (None, 200, 32)           4736      \n",
            "_________________________________________________________________\n",
            "lstm_1 (LSTM)                (None, 32)                8320      \n",
            "_________________________________________________________________\n",
            "dense (Dense)                (None, 32)                1056      \n",
            "_________________________________________________________________\n",
            "dense_1 (Dense)              (None, 1)                 33        \n",
            "=================================================================\n",
            "Total params: 14,145\n",
            "Trainable params: 14,145\n",
            "Non-trainable params: 0\n",
            "_________________________________________________________________\n",
            "None\n"
          ],
          "name": "stdout"
        }
      ]
    },
    {
      "cell_type": "code",
      "metadata": {
        "id": "nlVF0hR3j2UW"
      },
      "source": [
        "from keras.callbacks import ModelCheckpoint\n",
        "def do_cross_validation(X,y):\n",
        "    cv_scores = []\n",
        "    fold=0\n",
        "    mycallbacks = [ModelCheckpoint(\n",
        "        filepath=MODELPATH, save_best_only=True, \n",
        "        monitor='val_accuracy', mode='max')]   \n",
        "    splitter = KFold(n_splits=SPLITS)  # this does not shuffle\n",
        "    for train_index,valid_index in splitter.split(X):\n",
        "        if fold < FOLDS:\n",
        "            fold += 1\n",
        "            X_train=X[train_index] # inputs for training\n",
        "            y_train=y[train_index] # labels for training\n",
        "            X_valid=X[valid_index] # inputs for validation\n",
        "            y_valid=y[valid_index] # labels for validation\n",
        "            print(\"MODEL\")\n",
        "            # Call constructor on each CV. Else, continually improves the same model.\n",
        "            model = model = make_DNN()\n",
        "            print(\"FIT\")  # model.fit() implements learning\n",
        "            start_time=time.time()\n",
        "            history=model.fit(X_train, y_train, \n",
        "                    epochs=EPOCHS, \n",
        "                    verbose=1,  # ascii art while learning\n",
        "                    callbacks=mycallbacks,   # called at end of each epoch\n",
        "                    validation_data=(X_valid,y_valid))\n",
        "            end_time=time.time()\n",
        "            elapsed_time=(end_time-start_time)                        \n",
        "            print(\"Fold %d, %d epochs, %d sec\"%(fold,EPOCHS,elapsed_time))\n",
        "            # print(history.history.keys())  # all these keys will be shown in figure\n",
        "            pd.DataFrame(history.history).plot(figsize=(8,5))\n",
        "            plt.grid(True)\n",
        "            plt.gca().set_ylim(0,1) # any losses > 1 will be off the scale\n",
        "            plt.show()\n"
      ],
      "execution_count": 8,
      "outputs": []
    },
    {
      "cell_type": "code",
      "metadata": {
        "colab": {
          "base_uri": "https://localhost:8080/",
          "height": 1000
        },
        "id": "9Ggt4EsSj2UY",
        "outputId": "33a4a866-b0c8-4b2e-e495-d17a377156ea"
      },
      "source": [
        "do_cross_validation(X,y)"
      ],
      "execution_count": 9,
      "outputs": [
        {
          "output_type": "stream",
          "text": [
            "MODEL\n",
            "make_DNN\n",
            "input shape: (200, 4)\n",
            "FIT\n",
            "Epoch 1/50\n",
            "1000/1000 [==============================] - 34s 17ms/step - loss: 0.6938 - accuracy: 0.5003 - val_loss: 0.6933 - val_accuracy: 0.5001\n"
          ],
          "name": "stdout"
        },
        {
          "output_type": "stream",
          "text": [
            "WARNING:absl:Found untraced functions such as lstm_cell_2_layer_call_fn, lstm_cell_2_layer_call_and_return_conditional_losses, lstm_cell_3_layer_call_fn, lstm_cell_3_layer_call_and_return_conditional_losses, lstm_cell_2_layer_call_fn while saving (showing 5 of 10). These functions will not be directly callable after loading.\n",
            "WARNING:absl:Found untraced functions such as lstm_cell_2_layer_call_fn, lstm_cell_2_layer_call_and_return_conditional_losses, lstm_cell_3_layer_call_fn, lstm_cell_3_layer_call_and_return_conditional_losses, lstm_cell_2_layer_call_fn while saving (showing 5 of 10). These functions will not be directly callable after loading.\n"
          ],
          "name": "stderr"
        },
        {
          "output_type": "stream",
          "text": [
            "INFO:tensorflow:Assets written to: BestModel/assets\n"
          ],
          "name": "stdout"
        },
        {
          "output_type": "stream",
          "text": [
            "INFO:tensorflow:Assets written to: BestModel/assets\n"
          ],
          "name": "stderr"
        },
        {
          "output_type": "stream",
          "text": [
            "Epoch 2/50\n",
            "1000/1000 [==============================] - 16s 16ms/step - loss: 0.6935 - accuracy: 0.5012 - val_loss: 0.6932 - val_accuracy: 0.5001\n",
            "Epoch 3/50\n",
            "1000/1000 [==============================] - 16s 16ms/step - loss: 0.6935 - accuracy: 0.5032 - val_loss: 0.6933 - val_accuracy: 0.5001\n",
            "Epoch 4/50\n",
            "1000/1000 [==============================] - 16s 16ms/step - loss: 0.6936 - accuracy: 0.5010 - val_loss: 0.6935 - val_accuracy: 0.5001\n",
            "Epoch 5/50\n",
            "1000/1000 [==============================] - 16s 16ms/step - loss: 0.6935 - accuracy: 0.5029 - val_loss: 0.6932 - val_accuracy: 0.4996\n",
            "Epoch 6/50\n",
            "1000/1000 [==============================] - 16s 16ms/step - loss: 0.6935 - accuracy: 0.5055 - val_loss: 0.6941 - val_accuracy: 0.4999\n",
            "Epoch 7/50\n",
            "1000/1000 [==============================] - 16s 16ms/step - loss: 0.6936 - accuracy: 0.5030 - val_loss: 0.6931 - val_accuracy: 0.5048\n"
          ],
          "name": "stdout"
        },
        {
          "output_type": "stream",
          "text": [
            "WARNING:absl:Found untraced functions such as lstm_cell_2_layer_call_fn, lstm_cell_2_layer_call_and_return_conditional_losses, lstm_cell_3_layer_call_fn, lstm_cell_3_layer_call_and_return_conditional_losses, lstm_cell_2_layer_call_fn while saving (showing 5 of 10). These functions will not be directly callable after loading.\n",
            "WARNING:absl:Found untraced functions such as lstm_cell_2_layer_call_fn, lstm_cell_2_layer_call_and_return_conditional_losses, lstm_cell_3_layer_call_fn, lstm_cell_3_layer_call_and_return_conditional_losses, lstm_cell_2_layer_call_fn while saving (showing 5 of 10). These functions will not be directly callable after loading.\n"
          ],
          "name": "stderr"
        },
        {
          "output_type": "stream",
          "text": [
            "INFO:tensorflow:Assets written to: BestModel/assets\n"
          ],
          "name": "stdout"
        },
        {
          "output_type": "stream",
          "text": [
            "INFO:tensorflow:Assets written to: BestModel/assets\n"
          ],
          "name": "stderr"
        },
        {
          "output_type": "stream",
          "text": [
            "Epoch 8/50\n",
            "1000/1000 [==============================] - 16s 16ms/step - loss: 0.6934 - accuracy: 0.5001 - val_loss: 0.6936 - val_accuracy: 0.4999\n",
            "Epoch 9/50\n",
            "1000/1000 [==============================] - 16s 16ms/step - loss: 0.6935 - accuracy: 0.4960 - val_loss: 0.6932 - val_accuracy: 0.5045\n",
            "Epoch 10/50\n",
            "1000/1000 [==============================] - 16s 16ms/step - loss: 0.6936 - accuracy: 0.5024 - val_loss: 0.6932 - val_accuracy: 0.5031\n",
            "Epoch 11/50\n",
            "1000/1000 [==============================] - 16s 16ms/step - loss: 0.6936 - accuracy: 0.5010 - val_loss: 0.6934 - val_accuracy: 0.4992\n",
            "Epoch 12/50\n",
            "1000/1000 [==============================] - 16s 16ms/step - loss: 0.6934 - accuracy: 0.5027 - val_loss: 0.6940 - val_accuracy: 0.5002\n",
            "Epoch 13/50\n",
            "1000/1000 [==============================] - 16s 16ms/step - loss: 0.6932 - accuracy: 0.5054 - val_loss: 0.6930 - val_accuracy: 0.5081\n"
          ],
          "name": "stdout"
        },
        {
          "output_type": "stream",
          "text": [
            "WARNING:absl:Found untraced functions such as lstm_cell_2_layer_call_fn, lstm_cell_2_layer_call_and_return_conditional_losses, lstm_cell_3_layer_call_fn, lstm_cell_3_layer_call_and_return_conditional_losses, lstm_cell_2_layer_call_fn while saving (showing 5 of 10). These functions will not be directly callable after loading.\n",
            "WARNING:absl:Found untraced functions such as lstm_cell_2_layer_call_fn, lstm_cell_2_layer_call_and_return_conditional_losses, lstm_cell_3_layer_call_fn, lstm_cell_3_layer_call_and_return_conditional_losses, lstm_cell_2_layer_call_fn while saving (showing 5 of 10). These functions will not be directly callable after loading.\n"
          ],
          "name": "stderr"
        },
        {
          "output_type": "stream",
          "text": [
            "INFO:tensorflow:Assets written to: BestModel/assets\n"
          ],
          "name": "stdout"
        },
        {
          "output_type": "stream",
          "text": [
            "INFO:tensorflow:Assets written to: BestModel/assets\n"
          ],
          "name": "stderr"
        },
        {
          "output_type": "stream",
          "text": [
            "Epoch 14/50\n",
            "1000/1000 [==============================] - 16s 16ms/step - loss: 0.6933 - accuracy: 0.5088 - val_loss: 0.6932 - val_accuracy: 0.5046\n",
            "Epoch 15/50\n",
            "1000/1000 [==============================] - 16s 16ms/step - loss: 0.6932 - accuracy: 0.5054 - val_loss: 0.6931 - val_accuracy: 0.5081\n",
            "Epoch 16/50\n",
            "1000/1000 [==============================] - 16s 16ms/step - loss: 0.6932 - accuracy: 0.5022 - val_loss: 0.6955 - val_accuracy: 0.5001\n",
            "Epoch 17/50\n",
            "1000/1000 [==============================] - 16s 16ms/step - loss: 0.6932 - accuracy: 0.5074 - val_loss: 0.6941 - val_accuracy: 0.5096\n"
          ],
          "name": "stdout"
        },
        {
          "output_type": "stream",
          "text": [
            "WARNING:absl:Found untraced functions such as lstm_cell_2_layer_call_fn, lstm_cell_2_layer_call_and_return_conditional_losses, lstm_cell_3_layer_call_fn, lstm_cell_3_layer_call_and_return_conditional_losses, lstm_cell_2_layer_call_fn while saving (showing 5 of 10). These functions will not be directly callable after loading.\n",
            "WARNING:absl:Found untraced functions such as lstm_cell_2_layer_call_fn, lstm_cell_2_layer_call_and_return_conditional_losses, lstm_cell_3_layer_call_fn, lstm_cell_3_layer_call_and_return_conditional_losses, lstm_cell_2_layer_call_fn while saving (showing 5 of 10). These functions will not be directly callable after loading.\n"
          ],
          "name": "stderr"
        },
        {
          "output_type": "stream",
          "text": [
            "INFO:tensorflow:Assets written to: BestModel/assets\n"
          ],
          "name": "stdout"
        },
        {
          "output_type": "stream",
          "text": [
            "INFO:tensorflow:Assets written to: BestModel/assets\n"
          ],
          "name": "stderr"
        },
        {
          "output_type": "stream",
          "text": [
            "Epoch 18/50\n",
            "1000/1000 [==============================] - 16s 16ms/step - loss: 0.6929 - accuracy: 0.5134 - val_loss: 0.6937 - val_accuracy: 0.5051\n",
            "Epoch 19/50\n",
            "1000/1000 [==============================] - 16s 16ms/step - loss: 0.6925 - accuracy: 0.5132 - val_loss: 0.6938 - val_accuracy: 0.4959\n",
            "Epoch 20/50\n",
            "1000/1000 [==============================] - 16s 16ms/step - loss: 0.6927 - accuracy: 0.5098 - val_loss: 0.6940 - val_accuracy: 0.4960\n",
            "Epoch 21/50\n",
            "1000/1000 [==============================] - 16s 16ms/step - loss: 0.6919 - accuracy: 0.5188 - val_loss: 0.6935 - val_accuracy: 0.5061\n",
            "Epoch 22/50\n",
            "1000/1000 [==============================] - 16s 16ms/step - loss: 0.6920 - accuracy: 0.5221 - val_loss: 0.6948 - val_accuracy: 0.5025\n",
            "Epoch 23/50\n",
            "1000/1000 [==============================] - 16s 16ms/step - loss: 0.6923 - accuracy: 0.5182 - val_loss: 0.6940 - val_accuracy: 0.5091\n",
            "Epoch 24/50\n",
            "1000/1000 [==============================] - 16s 16ms/step - loss: 0.6922 - accuracy: 0.5147 - val_loss: 0.6946 - val_accuracy: 0.5010\n",
            "Epoch 25/50\n",
            "1000/1000 [==============================] - 16s 16ms/step - loss: 0.6912 - accuracy: 0.5228 - val_loss: 0.6952 - val_accuracy: 0.5048\n",
            "Epoch 26/50\n",
            "1000/1000 [==============================] - 16s 16ms/step - loss: 0.6911 - accuracy: 0.5228 - val_loss: 0.6959 - val_accuracy: 0.5038\n",
            "Epoch 27/50\n",
            "1000/1000 [==============================] - 16s 16ms/step - loss: 0.6908 - accuracy: 0.5258 - val_loss: 0.6951 - val_accuracy: 0.5102\n"
          ],
          "name": "stdout"
        },
        {
          "output_type": "stream",
          "text": [
            "WARNING:absl:Found untraced functions such as lstm_cell_2_layer_call_fn, lstm_cell_2_layer_call_and_return_conditional_losses, lstm_cell_3_layer_call_fn, lstm_cell_3_layer_call_and_return_conditional_losses, lstm_cell_2_layer_call_fn while saving (showing 5 of 10). These functions will not be directly callable after loading.\n",
            "WARNING:absl:Found untraced functions such as lstm_cell_2_layer_call_fn, lstm_cell_2_layer_call_and_return_conditional_losses, lstm_cell_3_layer_call_fn, lstm_cell_3_layer_call_and_return_conditional_losses, lstm_cell_2_layer_call_fn while saving (showing 5 of 10). These functions will not be directly callable after loading.\n"
          ],
          "name": "stderr"
        },
        {
          "output_type": "stream",
          "text": [
            "INFO:tensorflow:Assets written to: BestModel/assets\n"
          ],
          "name": "stdout"
        },
        {
          "output_type": "stream",
          "text": [
            "INFO:tensorflow:Assets written to: BestModel/assets\n"
          ],
          "name": "stderr"
        },
        {
          "output_type": "stream",
          "text": [
            "Epoch 28/50\n",
            "1000/1000 [==============================] - 16s 16ms/step - loss: 0.6905 - accuracy: 0.5268 - val_loss: 0.6971 - val_accuracy: 0.5023\n",
            "Epoch 29/50\n",
            "1000/1000 [==============================] - 16s 16ms/step - loss: 0.6901 - accuracy: 0.5224 - val_loss: 0.6960 - val_accuracy: 0.5049\n",
            "Epoch 30/50\n",
            "1000/1000 [==============================] - 16s 16ms/step - loss: 0.6891 - accuracy: 0.5329 - val_loss: 0.6981 - val_accuracy: 0.5014\n",
            "Epoch 31/50\n",
            "1000/1000 [==============================] - 16s 16ms/step - loss: 0.6880 - accuracy: 0.5316 - val_loss: 0.6973 - val_accuracy: 0.5034\n",
            "Epoch 32/50\n",
            "1000/1000 [==============================] - 16s 16ms/step - loss: 0.6875 - accuracy: 0.5333 - val_loss: 0.6976 - val_accuracy: 0.5008\n",
            "Epoch 33/50\n",
            "1000/1000 [==============================] - 16s 16ms/step - loss: 0.6861 - accuracy: 0.5373 - val_loss: 0.6975 - val_accuracy: 0.4963\n",
            "Epoch 34/50\n",
            "1000/1000 [==============================] - 16s 16ms/step - loss: 0.6856 - accuracy: 0.5445 - val_loss: 0.6973 - val_accuracy: 0.5077\n",
            "Epoch 35/50\n",
            "1000/1000 [==============================] - 16s 16ms/step - loss: 0.6854 - accuracy: 0.5438 - val_loss: 0.6984 - val_accuracy: 0.5023\n",
            "Epoch 36/50\n",
            "1000/1000 [==============================] - 16s 16ms/step - loss: 0.6831 - accuracy: 0.5464 - val_loss: 0.7005 - val_accuracy: 0.4988\n",
            "Epoch 37/50\n",
            "1000/1000 [==============================] - 16s 16ms/step - loss: 0.6811 - accuracy: 0.5493 - val_loss: 0.7039 - val_accuracy: 0.5026\n",
            "Epoch 38/50\n",
            "1000/1000 [==============================] - 16s 16ms/step - loss: 0.6801 - accuracy: 0.5614 - val_loss: 0.7055 - val_accuracy: 0.5082\n",
            "Epoch 39/50\n",
            "1000/1000 [==============================] - 16s 16ms/step - loss: 0.6794 - accuracy: 0.5566 - val_loss: 0.7044 - val_accuracy: 0.5031\n",
            "Epoch 40/50\n",
            "1000/1000 [==============================] - 16s 16ms/step - loss: 0.6756 - accuracy: 0.5643 - val_loss: 0.7090 - val_accuracy: 0.5025\n",
            "Epoch 41/50\n",
            "1000/1000 [==============================] - 16s 16ms/step - loss: 0.6757 - accuracy: 0.5661 - val_loss: 0.7089 - val_accuracy: 0.5035\n",
            "Epoch 42/50\n",
            "1000/1000 [==============================] - 16s 16ms/step - loss: 0.6728 - accuracy: 0.5717 - val_loss: 0.7148 - val_accuracy: 0.5034\n",
            "Epoch 43/50\n",
            "1000/1000 [==============================] - 16s 16ms/step - loss: 0.6688 - accuracy: 0.5793 - val_loss: 0.7143 - val_accuracy: 0.4961\n",
            "Epoch 44/50\n",
            "1000/1000 [==============================] - 16s 16ms/step - loss: 0.6667 - accuracy: 0.5836 - val_loss: 0.7146 - val_accuracy: 0.5092\n",
            "Epoch 45/50\n",
            "1000/1000 [==============================] - 16s 16ms/step - loss: 0.6646 - accuracy: 0.5831 - val_loss: 0.7169 - val_accuracy: 0.5000\n",
            "Epoch 46/50\n",
            "1000/1000 [==============================] - 16s 16ms/step - loss: 0.6629 - accuracy: 0.5896 - val_loss: 0.7212 - val_accuracy: 0.5034\n",
            "Epoch 47/50\n",
            "1000/1000 [==============================] - 16s 16ms/step - loss: 0.6580 - accuracy: 0.5910 - val_loss: 0.7235 - val_accuracy: 0.5065\n",
            "Epoch 48/50\n",
            "1000/1000 [==============================] - 16s 16ms/step - loss: 0.6572 - accuracy: 0.5959 - val_loss: 0.7274 - val_accuracy: 0.4995\n",
            "Epoch 49/50\n",
            "1000/1000 [==============================] - 16s 16ms/step - loss: 0.6541 - accuracy: 0.5987 - val_loss: 0.7315 - val_accuracy: 0.5027\n",
            "Epoch 50/50\n",
            "1000/1000 [==============================] - 16s 16ms/step - loss: 0.6505 - accuracy: 0.6013 - val_loss: 0.7315 - val_accuracy: 0.5004\n",
            "Fold 1, 50 epochs, 855 sec\n"
          ],
          "name": "stdout"
        },
        {
          "output_type": "display_data",
          "data": {
            "image/png": "[encoded data removed]",
            "text/plain": [
              "<Figure size 576x360 with 1 Axes>"
            ]
          },
          "metadata": {
            "tags": [],
            "needs_background": "light"
          }
        },
        {
          "output_type": "stream",
          "text": [
            "MODEL\n",
            "make_DNN\n",
            "input shape: (200, 4)\n",
            "FIT\n",
            "Epoch 1/50\n",
            "1000/1000 [==============================] - 18s 16ms/step - loss: 0.6938 - accuracy: 0.4986 - val_loss: 0.6936 - val_accuracy: 0.5005\n",
            "Epoch 2/50\n",
            "1000/1000 [==============================] - 16s 16ms/step - loss: 0.6936 - accuracy: 0.5022 - val_loss: 0.6932 - val_accuracy: 0.4969\n",
            "Epoch 3/50\n",
            "1000/1000 [==============================] - 16s 16ms/step - loss: 0.6936 - accuracy: 0.5027 - val_loss: 0.6937 - val_accuracy: 0.4995\n",
            "Epoch 4/50\n",
            "1000/1000 [==============================] - 16s 16ms/step - loss: 0.6937 - accuracy: 0.5015 - val_loss: 0.6935 - val_accuracy: 0.5005\n",
            "Epoch 5/50\n",
            "1000/1000 [==============================] - 16s 16ms/step - loss: 0.6931 - accuracy: 0.5079 - val_loss: 0.6936 - val_accuracy: 0.5005\n",
            "Epoch 6/50\n",
            "1000/1000 [==============================] - 16s 16ms/step - loss: 0.6934 - accuracy: 0.5005 - val_loss: 0.6933 - val_accuracy: 0.4965\n",
            "Epoch 7/50\n",
            "1000/1000 [==============================] - 16s 16ms/step - loss: 0.6937 - accuracy: 0.4951 - val_loss: 0.6935 - val_accuracy: 0.4976\n",
            "Epoch 8/50\n",
            "1000/1000 [==============================] - 16s 16ms/step - loss: 0.6933 - accuracy: 0.5016 - val_loss: 0.6936 - val_accuracy: 0.4975\n",
            "Epoch 9/50\n",
            "1000/1000 [==============================] - 16s 16ms/step - loss: 0.6934 - accuracy: 0.5033 - val_loss: 0.6935 - val_accuracy: 0.5010\n",
            "Epoch 10/50\n",
            "1000/1000 [==============================] - 16s 16ms/step - loss: 0.6930 - accuracy: 0.5052 - val_loss: 0.6934 - val_accuracy: 0.5055\n",
            "Epoch 11/50\n",
            "1000/1000 [==============================] - 16s 16ms/step - loss: 0.6933 - accuracy: 0.5057 - val_loss: 0.6937 - val_accuracy: 0.4922\n",
            "Epoch 12/50\n",
            "1000/1000 [==============================] - 16s 16ms/step - loss: 0.6930 - accuracy: 0.5094 - val_loss: 0.6944 - val_accuracy: 0.4999\n",
            "Epoch 13/50\n",
            "1000/1000 [==============================] - 16s 16ms/step - loss: 0.6931 - accuracy: 0.5053 - val_loss: 0.6936 - val_accuracy: 0.5026\n",
            "Epoch 14/50\n",
            "1000/1000 [==============================] - 16s 16ms/step - loss: 0.6928 - accuracy: 0.5142 - val_loss: 0.6941 - val_accuracy: 0.4976\n",
            "Epoch 15/50\n",
            "1000/1000 [==============================] - 16s 16ms/step - loss: 0.6930 - accuracy: 0.5080 - val_loss: 0.6936 - val_accuracy: 0.4992\n",
            "Epoch 16/50\n",
            "1000/1000 [==============================] - 16s 16ms/step - loss: 0.6931 - accuracy: 0.5046 - val_loss: 0.6939 - val_accuracy: 0.4984\n",
            "Epoch 17/50\n",
            "1000/1000 [==============================] - 16s 16ms/step - loss: 0.6926 - accuracy: 0.5188 - val_loss: 0.6947 - val_accuracy: 0.4964\n",
            "Epoch 18/50\n",
            "1000/1000 [==============================] - 16s 16ms/step - loss: 0.6921 - accuracy: 0.5208 - val_loss: 0.6942 - val_accuracy: 0.4911\n",
            "Epoch 19/50\n",
            "1000/1000 [==============================] - 16s 16ms/step - loss: 0.6920 - accuracy: 0.5187 - val_loss: 0.6953 - val_accuracy: 0.5002\n",
            "Epoch 20/50\n",
            "1000/1000 [==============================] - 16s 16ms/step - loss: 0.6925 - accuracy: 0.5142 - val_loss: 0.6956 - val_accuracy: 0.4945\n",
            "Epoch 21/50\n",
            "1000/1000 [==============================] - 16s 16ms/step - loss: 0.6919 - accuracy: 0.5169 - val_loss: 0.6950 - val_accuracy: 0.5023\n",
            "Epoch 22/50\n",
            "1000/1000 [==============================] - 16s 16ms/step - loss: 0.6917 - accuracy: 0.5189 - val_loss: 0.6973 - val_accuracy: 0.4965\n",
            "Epoch 23/50\n",
            "1000/1000 [==============================] - 16s 16ms/step - loss: 0.6913 - accuracy: 0.5225 - val_loss: 0.6965 - val_accuracy: 0.4970\n",
            "Epoch 24/50\n",
            "1000/1000 [==============================] - 16s 16ms/step - loss: 0.6907 - accuracy: 0.5298 - val_loss: 0.6958 - val_accuracy: 0.5008\n",
            "Epoch 25/50\n",
            "1000/1000 [==============================] - 16s 16ms/step - loss: 0.6895 - accuracy: 0.5320 - val_loss: 0.6976 - val_accuracy: 0.4946\n",
            "Epoch 26/50\n",
            "1000/1000 [==============================] - 16s 16ms/step - loss: 0.6880 - accuracy: 0.5403 - val_loss: 0.6971 - val_accuracy: 0.4975\n",
            "Epoch 27/50\n",
            "1000/1000 [==============================] - 16s 16ms/step - loss: 0.6872 - accuracy: 0.5445 - val_loss: 0.6997 - val_accuracy: 0.5029\n",
            "Epoch 28/50\n",
            "1000/1000 [==============================] - 16s 16ms/step - loss: 0.6864 - accuracy: 0.5473 - val_loss: 0.7022 - val_accuracy: 0.4981\n",
            "Epoch 29/50\n",
            "1000/1000 [==============================] - 16s 16ms/step - loss: 0.6849 - accuracy: 0.5532 - val_loss: 0.7025 - val_accuracy: 0.4976\n",
            "Epoch 30/50\n",
            "1000/1000 [==============================] - 16s 16ms/step - loss: 0.6836 - accuracy: 0.5560 - val_loss: 0.7061 - val_accuracy: 0.4933\n",
            "Epoch 31/50\n",
            "1000/1000 [==============================] - 16s 16ms/step - loss: 0.6797 - accuracy: 0.5663 - val_loss: 0.7051 - val_accuracy: 0.5015\n",
            "Epoch 32/50\n",
            "1000/1000 [==============================] - 16s 16ms/step - loss: 0.6783 - accuracy: 0.5713 - val_loss: 0.7074 - val_accuracy: 0.4961\n",
            "Epoch 33/50\n",
            "1000/1000 [==============================] - 16s 16ms/step - loss: 0.6771 - accuracy: 0.5719 - val_loss: 0.7103 - val_accuracy: 0.4967\n",
            "Epoch 34/50\n",
            "1000/1000 [==============================] - 16s 16ms/step - loss: 0.6748 - accuracy: 0.5758 - val_loss: 0.7137 - val_accuracy: 0.5004\n",
            "Epoch 35/50\n",
            "1000/1000 [==============================] - 16s 16ms/step - loss: 0.6709 - accuracy: 0.5875 - val_loss: 0.7145 - val_accuracy: 0.5015\n",
            "Epoch 36/50\n",
            "1000/1000 [==============================] - 16s 16ms/step - loss: 0.6671 - accuracy: 0.5896 - val_loss: 0.7184 - val_accuracy: 0.4955\n",
            "Epoch 37/50\n",
            "1000/1000 [==============================] - 16s 16ms/step - loss: 0.6632 - accuracy: 0.5945 - val_loss: 0.7225 - val_accuracy: 0.4963\n",
            "Epoch 38/50\n",
            "1000/1000 [==============================] - 16s 16ms/step - loss: 0.6611 - accuracy: 0.5982 - val_loss: 0.7327 - val_accuracy: 0.5014\n",
            "Epoch 39/50\n",
            "1000/1000 [==============================] - 16s 16ms/step - loss: 0.6567 - accuracy: 0.6025 - val_loss: 0.7284 - val_accuracy: 0.4989\n",
            "Epoch 40/50\n",
            "1000/1000 [==============================] - 16s 16ms/step - loss: 0.6558 - accuracy: 0.6071 - val_loss: 0.7339 - val_accuracy: 0.5020\n",
            "Epoch 41/50\n",
            "1000/1000 [==============================] - 16s 16ms/step - loss: 0.6528 - accuracy: 0.6134 - val_loss: 0.7367 - val_accuracy: 0.5030\n",
            "Epoch 42/50\n",
            "1000/1000 [==============================] - 16s 16ms/step - loss: 0.6460 - accuracy: 0.6238 - val_loss: 0.7404 - val_accuracy: 0.4979\n",
            "Epoch 43/50\n",
            "1000/1000 [==============================] - 16s 16ms/step - loss: 0.6416 - accuracy: 0.6248 - val_loss: 0.7504 - val_accuracy: 0.4955\n",
            "Epoch 44/50\n",
            "1000/1000 [==============================] - 16s 16ms/step - loss: 0.6388 - accuracy: 0.6298 - val_loss: 0.7511 - val_accuracy: 0.4980\n",
            "Epoch 45/50\n",
            "1000/1000 [==============================] - 16s 16ms/step - loss: 0.6371 - accuracy: 0.6324 - val_loss: 0.7568 - val_accuracy: 0.4991\n",
            "Epoch 46/50\n",
            "1000/1000 [==============================] - 16s 16ms/step - loss: 0.6316 - accuracy: 0.6392 - val_loss: 0.7633 - val_accuracy: 0.4954\n",
            "Epoch 47/50\n",
            "1000/1000 [==============================] - 16s 16ms/step - loss: 0.6271 - accuracy: 0.6433 - val_loss: 0.7681 - val_accuracy: 0.4980\n",
            "Epoch 48/50\n",
            "1000/1000 [==============================] - 16s 16ms/step - loss: 0.6216 - accuracy: 0.6502 - val_loss: 0.7680 - val_accuracy: 0.5035\n",
            "Epoch 49/50\n",
            "1000/1000 [==============================] - 16s 16ms/step - loss: 0.6213 - accuracy: 0.6476 - val_loss: 0.7868 - val_accuracy: 0.5010\n",
            "Epoch 50/50\n",
            "1000/1000 [==============================] - 16s 16ms/step - loss: 0.6152 - accuracy: 0.6554 - val_loss: 0.7914 - val_accuracy: 0.4978\n",
            "Fold 2, 50 epochs, 803 sec\n"
          ],
          "name": "stdout"
        },
        {
          "output_type": "display_data",
          "data": {
            "image/png": "[encoded data removed]",
            "text/plain": [
              "<Figure size 576x360 with 1 Axes>"
            ]
          },
          "metadata": {
            "tags": [],
            "needs_background": "light"
          }
        },
        {
          "output_type": "stream",
          "text": [
            "MODEL\n",
            "make_DNN\n",
            "input shape: (200, 4)\n",
            "FIT\n",
            "Epoch 1/50\n",
            "1000/1000 [==============================] - 19s 16ms/step - loss: 0.6938 - accuracy: 0.4996 - val_loss: 0.6934 - val_accuracy: 0.5014\n",
            "Epoch 2/50\n",
            "1000/1000 [==============================] - 16s 16ms/step - loss: 0.6934 - accuracy: 0.5046 - val_loss: 0.6939 - val_accuracy: 0.4986\n",
            "Epoch 3/50\n",
            "1000/1000 [==============================] - 16s 16ms/step - loss: 0.6935 - accuracy: 0.5012 - val_loss: 0.6933 - val_accuracy: 0.4986\n",
            "Epoch 4/50\n",
            "1000/1000 [==============================] - 16s 16ms/step - loss: 0.6935 - accuracy: 0.5013 - val_loss: 0.6933 - val_accuracy: 0.4986\n",
            "Epoch 5/50\n",
            "1000/1000 [==============================] - 16s 16ms/step - loss: 0.6935 - accuracy: 0.5003 - val_loss: 0.6939 - val_accuracy: 0.5014\n",
            "Epoch 6/50\n",
            "1000/1000 [==============================] - 16s 16ms/step - loss: 0.6938 - accuracy: 0.4976 - val_loss: 0.6932 - val_accuracy: 0.4985\n",
            "Epoch 7/50\n",
            "1000/1000 [==============================] - 16s 16ms/step - loss: 0.6934 - accuracy: 0.5055 - val_loss: 0.6931 - val_accuracy: 0.5042\n",
            "Epoch 8/50\n",
            "1000/1000 [==============================] - 16s 16ms/step - loss: 0.6933 - accuracy: 0.5045 - val_loss: 0.6937 - val_accuracy: 0.4964\n",
            "Epoch 9/50\n",
            "1000/1000 [==============================] - 16s 16ms/step - loss: 0.6934 - accuracy: 0.5000 - val_loss: 0.6932 - val_accuracy: 0.5050\n",
            "Epoch 10/50\n",
            "1000/1000 [==============================] - 16s 16ms/step - loss: 0.6934 - accuracy: 0.5011 - val_loss: 0.6937 - val_accuracy: 0.5033\n",
            "Epoch 11/50\n",
            "1000/1000 [==============================] - 16s 16ms/step - loss: 0.6934 - accuracy: 0.5032 - val_loss: 0.6937 - val_accuracy: 0.5004\n",
            "Epoch 12/50\n",
            "1000/1000 [==============================] - 16s 16ms/step - loss: 0.6935 - accuracy: 0.5028 - val_loss: 0.6936 - val_accuracy: 0.5026\n",
            "Epoch 13/50\n",
            "1000/1000 [==============================] - 16s 16ms/step - loss: 0.6932 - accuracy: 0.5030 - val_loss: 0.6938 - val_accuracy: 0.4989\n",
            "Epoch 14/50\n",
            "1000/1000 [==============================] - 16s 16ms/step - loss: 0.6931 - accuracy: 0.5047 - val_loss: 0.6940 - val_accuracy: 0.4936\n",
            "Epoch 15/50\n",
            "1000/1000 [==============================] - 16s 16ms/step - loss: 0.6931 - accuracy: 0.5027 - val_loss: 0.6935 - val_accuracy: 0.5005\n",
            "Epoch 16/50\n",
            "1000/1000 [==============================] - 16s 16ms/step - loss: 0.6924 - accuracy: 0.5116 - val_loss: 0.6955 - val_accuracy: 0.4989\n",
            "Epoch 17/50\n",
            "1000/1000 [==============================] - 16s 16ms/step - loss: 0.6931 - accuracy: 0.5087 - val_loss: 0.6952 - val_accuracy: 0.5029\n",
            "Epoch 18/50\n",
            "1000/1000 [==============================] - 16s 16ms/step - loss: 0.6927 - accuracy: 0.5129 - val_loss: 0.6972 - val_accuracy: 0.4995\n",
            "Epoch 19/50\n",
            "1000/1000 [==============================] - 16s 16ms/step - loss: 0.6924 - accuracy: 0.5118 - val_loss: 0.6948 - val_accuracy: 0.5014\n",
            "Epoch 20/50\n",
            "1000/1000 [==============================] - 16s 16ms/step - loss: 0.6917 - accuracy: 0.5148 - val_loss: 0.6959 - val_accuracy: 0.4924\n",
            "Epoch 21/50\n",
            "1000/1000 [==============================] - 16s 16ms/step - loss: 0.6908 - accuracy: 0.5275 - val_loss: 0.6963 - val_accuracy: 0.4995\n",
            "Epoch 22/50\n",
            "1000/1000 [==============================] - 16s 16ms/step - loss: 0.6911 - accuracy: 0.5254 - val_loss: 0.6964 - val_accuracy: 0.5030\n",
            "Epoch 23/50\n",
            "1000/1000 [==============================] - 16s 16ms/step - loss: 0.6906 - accuracy: 0.5270 - val_loss: 0.6967 - val_accuracy: 0.5005\n",
            "Epoch 24/50\n",
            "1000/1000 [==============================] - 16s 16ms/step - loss: 0.6892 - accuracy: 0.5329 - val_loss: 0.6968 - val_accuracy: 0.4942\n",
            "Epoch 25/50\n",
            "1000/1000 [==============================] - 16s 16ms/step - loss: 0.6886 - accuracy: 0.5325 - val_loss: 0.6973 - val_accuracy: 0.5019\n",
            "Epoch 26/50\n",
            "1000/1000 [==============================] - 16s 16ms/step - loss: 0.6881 - accuracy: 0.5362 - val_loss: 0.6989 - val_accuracy: 0.4956\n",
            "Epoch 27/50\n",
            "1000/1000 [==============================] - 16s 16ms/step - loss: 0.6874 - accuracy: 0.5343 - val_loss: 0.7007 - val_accuracy: 0.5017\n",
            "Epoch 28/50\n",
            "1000/1000 [==============================] - 16s 16ms/step - loss: 0.6870 - accuracy: 0.5419 - val_loss: 0.6998 - val_accuracy: 0.4980\n",
            "Epoch 29/50\n",
            "1000/1000 [==============================] - 16s 16ms/step - loss: 0.6853 - accuracy: 0.5470 - val_loss: 0.6993 - val_accuracy: 0.5104\n"
          ],
          "name": "stdout"
        },
        {
          "output_type": "stream",
          "text": [
            "WARNING:absl:Found untraced functions such as lstm_cell_6_layer_call_fn, lstm_cell_6_layer_call_and_return_conditional_losses, lstm_cell_7_layer_call_fn, lstm_cell_7_layer_call_and_return_conditional_losses, lstm_cell_6_layer_call_fn while saving (showing 5 of 10). These functions will not be directly callable after loading.\n",
            "WARNING:absl:Found untraced functions such as lstm_cell_6_layer_call_fn, lstm_cell_6_layer_call_and_return_conditional_losses, lstm_cell_7_layer_call_fn, lstm_cell_7_layer_call_and_return_conditional_losses, lstm_cell_6_layer_call_fn while saving (showing 5 of 10). These functions will not be directly callable after loading.\n"
          ],
          "name": "stderr"
        },
        {
          "output_type": "stream",
          "text": [
            "INFO:tensorflow:Assets written to: BestModel/assets\n"
          ],
          "name": "stdout"
        },
        {
          "output_type": "stream",
          "text": [
            "INFO:tensorflow:Assets written to: BestModel/assets\n"
          ],
          "name": "stderr"
        },
        {
          "output_type": "stream",
          "text": [
            "Epoch 30/50\n",
            "1000/1000 [==============================] - 16s 16ms/step - loss: 0.6841 - accuracy: 0.5508 - val_loss: 0.7011 - val_accuracy: 0.5044\n",
            "Epoch 31/50\n",
            "1000/1000 [==============================] - 16s 16ms/step - loss: 0.6831 - accuracy: 0.5502 - val_loss: 0.7046 - val_accuracy: 0.5009\n",
            "Epoch 32/50\n",
            "1000/1000 [==============================] - 16s 16ms/step - loss: 0.6834 - accuracy: 0.5518 - val_loss: 0.7047 - val_accuracy: 0.5090\n",
            "Epoch 33/50\n",
            "1000/1000 [==============================] - 16s 16ms/step - loss: 0.6785 - accuracy: 0.5660 - val_loss: 0.7028 - val_accuracy: 0.5036\n",
            "Epoch 34/50\n",
            "1000/1000 [==============================] - 16s 16ms/step - loss: 0.6779 - accuracy: 0.5670 - val_loss: 0.7077 - val_accuracy: 0.5021\n",
            "Epoch 35/50\n",
            "1000/1000 [==============================] - 16s 16ms/step - loss: 0.6772 - accuracy: 0.5674 - val_loss: 0.7094 - val_accuracy: 0.4980\n",
            "Epoch 36/50\n",
            "1000/1000 [==============================] - 16s 16ms/step - loss: 0.6748 - accuracy: 0.5734 - val_loss: 0.7125 - val_accuracy: 0.5033\n",
            "Epoch 37/50\n",
            "1000/1000 [==============================] - 16s 16ms/step - loss: 0.6733 - accuracy: 0.5757 - val_loss: 0.7129 - val_accuracy: 0.5055\n",
            "Epoch 38/50\n",
            "1000/1000 [==============================] - 16s 16ms/step - loss: 0.6710 - accuracy: 0.5823 - val_loss: 0.7162 - val_accuracy: 0.4960\n",
            "Epoch 39/50\n",
            "1000/1000 [==============================] - 16s 16ms/step - loss: 0.6679 - accuracy: 0.5856 - val_loss: 0.7184 - val_accuracy: 0.5041\n",
            "Epoch 40/50\n",
            "1000/1000 [==============================] - 16s 16ms/step - loss: 0.6643 - accuracy: 0.5872 - val_loss: 0.7185 - val_accuracy: 0.5026\n",
            "Epoch 41/50\n",
            "1000/1000 [==============================] - 16s 16ms/step - loss: 0.6619 - accuracy: 0.5993 - val_loss: 0.7208 - val_accuracy: 0.5005\n",
            "Epoch 42/50\n",
            "1000/1000 [==============================] - 16s 16ms/step - loss: 0.6598 - accuracy: 0.5963 - val_loss: 0.7284 - val_accuracy: 0.5069\n",
            "Epoch 43/50\n",
            "1000/1000 [==============================] - 16s 16ms/step - loss: 0.6559 - accuracy: 0.6040 - val_loss: 0.7310 - val_accuracy: 0.5036\n",
            "Epoch 44/50\n",
            "1000/1000 [==============================] - 16s 16ms/step - loss: 0.6540 - accuracy: 0.6047 - val_loss: 0.7345 - val_accuracy: 0.5035\n",
            "Epoch 45/50\n",
            "1000/1000 [==============================] - 16s 16ms/step - loss: 0.6478 - accuracy: 0.6128 - val_loss: 0.7354 - val_accuracy: 0.4997\n",
            "Epoch 46/50\n",
            "1000/1000 [==============================] - 16s 16ms/step - loss: 0.6442 - accuracy: 0.6215 - val_loss: 0.7326 - val_accuracy: 0.5059\n",
            "Epoch 47/50\n",
            "1000/1000 [==============================] - 16s 16ms/step - loss: 0.6482 - accuracy: 0.6156 - val_loss: 0.7416 - val_accuracy: 0.5085\n",
            "Epoch 48/50\n",
            "1000/1000 [==============================] - 16s 16ms/step - loss: 0.6429 - accuracy: 0.6217 - val_loss: 0.7463 - val_accuracy: 0.5069\n",
            "Epoch 49/50\n",
            "1000/1000 [==============================] - 16s 16ms/step - loss: 0.6389 - accuracy: 0.6297 - val_loss: 0.7518 - val_accuracy: 0.5055\n",
            "Epoch 50/50\n",
            "1000/1000 [==============================] - 16s 16ms/step - loss: 0.6351 - accuracy: 0.6326 - val_loss: 0.7582 - val_accuracy: 0.5030\n",
            "Fold 3, 50 epochs, 811 sec\n"
          ],
          "name": "stdout"
        },
        {
          "output_type": "display_data",
          "data": {
            "image/png": "[encoded data removed]",
            "text/plain": [
              "<Figure size 576x360 with 1 Axes>"
            ]
          },
          "metadata": {
            "tags": [],
            "needs_background": "light"
          }
        },
        {
          "output_type": "stream",
          "text": [
            "MODEL\n",
            "make_DNN\n",
            "input shape: (200, 4)\n",
            "FIT\n",
            "Epoch 1/50\n",
            "1000/1000 [==============================] - 19s 17ms/step - loss: 0.6937 - accuracy: 0.5022 - val_loss: 0.6938 - val_accuracy: 0.5040\n",
            "Epoch 2/50\n",
            "1000/1000 [==============================] - 16s 16ms/step - loss: 0.6939 - accuracy: 0.4941 - val_loss: 0.6931 - val_accuracy: 0.5040\n",
            "Epoch 3/50\n",
            "1000/1000 [==============================] - 16s 16ms/step - loss: 0.6935 - accuracy: 0.5010 - val_loss: 0.6935 - val_accuracy: 0.5040\n",
            "Epoch 4/50\n",
            "1000/1000 [==============================] - 16s 16ms/step - loss: 0.6936 - accuracy: 0.5000 - val_loss: 0.6931 - val_accuracy: 0.5052\n",
            "Epoch 5/50\n",
            "1000/1000 [==============================] - 16s 16ms/step - loss: 0.6938 - accuracy: 0.4978 - val_loss: 0.6936 - val_accuracy: 0.4960\n",
            "Epoch 6/50\n",
            "1000/1000 [==============================] - 16s 16ms/step - loss: 0.6939 - accuracy: 0.4913 - val_loss: 0.6930 - val_accuracy: 0.5055\n",
            "Epoch 7/50\n",
            "1000/1000 [==============================] - 16s 16ms/step - loss: 0.6935 - accuracy: 0.5006 - val_loss: 0.6938 - val_accuracy: 0.4960\n",
            "Epoch 8/50\n",
            "1000/1000 [==============================] - 16s 16ms/step - loss: 0.6936 - accuracy: 0.4990 - val_loss: 0.6948 - val_accuracy: 0.4960\n",
            "Epoch 9/50\n",
            "1000/1000 [==============================] - 16s 16ms/step - loss: 0.6937 - accuracy: 0.5000 - val_loss: 0.6933 - val_accuracy: 0.4960\n",
            "Epoch 10/50\n",
            "1000/1000 [==============================] - 16s 16ms/step - loss: 0.6937 - accuracy: 0.4952 - val_loss: 0.6931 - val_accuracy: 0.5040\n",
            "Epoch 11/50\n",
            "1000/1000 [==============================] - 16s 16ms/step - loss: 0.6934 - accuracy: 0.5019 - val_loss: 0.6931 - val_accuracy: 0.5048\n",
            "Epoch 12/50\n",
            "1000/1000 [==============================] - 16s 16ms/step - loss: 0.6933 - accuracy: 0.4996 - val_loss: 0.6941 - val_accuracy: 0.4960\n",
            "Epoch 13/50\n",
            "1000/1000 [==============================] - 16s 16ms/step - loss: 0.6933 - accuracy: 0.5088 - val_loss: 0.6937 - val_accuracy: 0.4959\n",
            "Epoch 14/50\n",
            "1000/1000 [==============================] - 16s 16ms/step - loss: 0.6934 - accuracy: 0.4966 - val_loss: 0.6937 - val_accuracy: 0.4959\n",
            "Epoch 15/50\n",
            "1000/1000 [==============================] - 16s 16ms/step - loss: 0.6931 - accuracy: 0.5067 - val_loss: 0.6932 - val_accuracy: 0.5031\n",
            "Epoch 16/50\n",
            "1000/1000 [==============================] - 16s 16ms/step - loss: 0.6933 - accuracy: 0.5033 - val_loss: 0.6943 - val_accuracy: 0.4966\n",
            "Epoch 17/50\n",
            "1000/1000 [==============================] - 16s 16ms/step - loss: 0.6930 - accuracy: 0.5047 - val_loss: 0.6934 - val_accuracy: 0.5033\n",
            "Epoch 18/50\n",
            "1000/1000 [==============================] - 16s 16ms/step - loss: 0.6932 - accuracy: 0.5090 - val_loss: 0.6935 - val_accuracy: 0.5020\n",
            "Epoch 19/50\n",
            "1000/1000 [==============================] - 16s 16ms/step - loss: 0.6928 - accuracy: 0.5122 - val_loss: 0.6938 - val_accuracy: 0.5070\n",
            "Epoch 20/50\n",
            "1000/1000 [==============================] - 16s 16ms/step - loss: 0.6922 - accuracy: 0.5188 - val_loss: 0.6947 - val_accuracy: 0.5006\n",
            "Epoch 21/50\n",
            "1000/1000 [==============================] - 16s 16ms/step - loss: 0.6924 - accuracy: 0.5145 - val_loss: 0.6942 - val_accuracy: 0.5070\n",
            "Epoch 22/50\n",
            "1000/1000 [==============================] - 16s 16ms/step - loss: 0.6927 - accuracy: 0.5101 - val_loss: 0.6947 - val_accuracy: 0.5030\n",
            "Epoch 23/50\n",
            "1000/1000 [==============================] - 16s 16ms/step - loss: 0.6917 - accuracy: 0.5199 - val_loss: 0.6948 - val_accuracy: 0.4989\n",
            "Epoch 24/50\n",
            "1000/1000 [==============================] - 16s 16ms/step - loss: 0.6913 - accuracy: 0.5241 - val_loss: 0.6940 - val_accuracy: 0.4984\n",
            "Epoch 25/50\n",
            "1000/1000 [==============================] - 16s 16ms/step - loss: 0.6917 - accuracy: 0.5209 - val_loss: 0.6953 - val_accuracy: 0.4941\n",
            "Epoch 26/50\n",
            "1000/1000 [==============================] - 16s 16ms/step - loss: 0.6910 - accuracy: 0.5278 - val_loss: 0.6956 - val_accuracy: 0.4965\n",
            "Epoch 27/50\n",
            "1000/1000 [==============================] - 16s 16ms/step - loss: 0.6905 - accuracy: 0.5256 - val_loss: 0.6951 - val_accuracy: 0.4994\n",
            "Epoch 28/50\n",
            "1000/1000 [==============================] - 16s 16ms/step - loss: 0.6891 - accuracy: 0.5305 - val_loss: 0.6955 - val_accuracy: 0.5020\n",
            "Epoch 29/50\n",
            "1000/1000 [==============================] - 16s 16ms/step - loss: 0.6888 - accuracy: 0.5352 - val_loss: 0.6974 - val_accuracy: 0.4935\n",
            "Epoch 30/50\n",
            "1000/1000 [==============================] - 16s 16ms/step - loss: 0.6876 - accuracy: 0.5371 - val_loss: 0.6961 - val_accuracy: 0.4992\n",
            "Epoch 31/50\n",
            "1000/1000 [==============================] - 16s 16ms/step - loss: 0.6883 - accuracy: 0.5332 - val_loss: 0.6962 - val_accuracy: 0.5076\n",
            "Epoch 32/50\n",
            "1000/1000 [==============================] - 16s 16ms/step - loss: 0.6879 - accuracy: 0.5375 - val_loss: 0.7015 - val_accuracy: 0.4945\n",
            "Epoch 33/50\n",
            "1000/1000 [==============================] - 16s 16ms/step - loss: 0.6856 - accuracy: 0.5421 - val_loss: 0.7022 - val_accuracy: 0.4995\n",
            "Epoch 34/50\n",
            "1000/1000 [==============================] - 16s 16ms/step - loss: 0.6838 - accuracy: 0.5470 - val_loss: 0.7035 - val_accuracy: 0.5000\n",
            "Epoch 35/50\n",
            "1000/1000 [==============================] - 16s 16ms/step - loss: 0.6824 - accuracy: 0.5523 - val_loss: 0.7036 - val_accuracy: 0.5020\n",
            "Epoch 36/50\n",
            "1000/1000 [==============================] - 16s 16ms/step - loss: 0.6797 - accuracy: 0.5606 - val_loss: 0.7064 - val_accuracy: 0.5042\n",
            "Epoch 37/50\n",
            "1000/1000 [==============================] - 16s 16ms/step - loss: 0.6789 - accuracy: 0.5552 - val_loss: 0.7124 - val_accuracy: 0.5023\n",
            "Epoch 38/50\n",
            "1000/1000 [==============================] - 16s 16ms/step - loss: 0.6774 - accuracy: 0.5622 - val_loss: 0.7102 - val_accuracy: 0.4969\n",
            "Epoch 39/50\n",
            "1000/1000 [==============================] - 16s 16ms/step - loss: 0.6755 - accuracy: 0.5700 - val_loss: 0.7099 - val_accuracy: 0.4972\n",
            "Epoch 40/50\n",
            "1000/1000 [==============================] - 16s 16ms/step - loss: 0.6721 - accuracy: 0.5776 - val_loss: 0.7126 - val_accuracy: 0.5006\n",
            "Epoch 41/50\n",
            "1000/1000 [==============================] - 16s 16ms/step - loss: 0.6698 - accuracy: 0.5780 - val_loss: 0.7156 - val_accuracy: 0.5021\n",
            "Epoch 42/50\n",
            "1000/1000 [==============================] - 16s 16ms/step - loss: 0.6658 - accuracy: 0.5854 - val_loss: 0.7169 - val_accuracy: 0.4995\n",
            "Epoch 43/50\n",
            "1000/1000 [==============================] - 16s 16ms/step - loss: 0.6640 - accuracy: 0.5903 - val_loss: 0.7208 - val_accuracy: 0.5044\n",
            "Epoch 44/50\n",
            "1000/1000 [==============================] - 16s 16ms/step - loss: 0.6601 - accuracy: 0.6003 - val_loss: 0.7282 - val_accuracy: 0.5031\n",
            "Epoch 45/50\n",
            "1000/1000 [==============================] - 16s 16ms/step - loss: 0.6586 - accuracy: 0.5984 - val_loss: 0.7263 - val_accuracy: 0.4979\n",
            "Epoch 46/50\n",
            "1000/1000 [==============================] - 16s 16ms/step - loss: 0.6543 - accuracy: 0.6043 - val_loss: 0.7355 - val_accuracy: 0.5010\n",
            "Epoch 47/50\n",
            "1000/1000 [==============================] - 16s 16ms/step - loss: 0.6481 - accuracy: 0.6108 - val_loss: 0.7454 - val_accuracy: 0.4961\n",
            "Epoch 48/50\n",
            "1000/1000 [==============================] - 16s 16ms/step - loss: 0.6464 - accuracy: 0.6112 - val_loss: 0.7469 - val_accuracy: 0.4971\n",
            "Epoch 49/50\n",
            "1000/1000 [==============================] - 16s 16ms/step - loss: 0.6431 - accuracy: 0.6186 - val_loss: 0.7552 - val_accuracy: 0.4969\n",
            "Epoch 50/50\n",
            "1000/1000 [==============================] - 16s 16ms/step - loss: 0.6382 - accuracy: 0.6273 - val_loss: 0.7499 - val_accuracy: 0.5021\n",
            "Fold 4, 50 epochs, 807 sec\n"
          ],
          "name": "stdout"
        },
        {
          "output_type": "display_data",
          "data": {
            "image/png": "[encoded data removed]",
            "text/plain": [
              "<Figure size 576x360 with 1 Axes>"
            ]
          },
          "metadata": {
            "tags": [],
            "needs_background": "light"
          }
        },
        {
          "output_type": "stream",
          "text": [
            "MODEL\n",
            "make_DNN\n",
            "input shape: (200, 4)\n",
            "FIT\n",
            "Epoch 1/50\n",
            "1000/1000 [==============================] - 19s 17ms/step - loss: 0.6938 - accuracy: 0.5029 - val_loss: 0.6935 - val_accuracy: 0.5030\n",
            "Epoch 2/50\n",
            "1000/1000 [==============================] - 16s 16ms/step - loss: 0.6936 - accuracy: 0.5015 - val_loss: 0.6932 - val_accuracy: 0.4970\n",
            "Epoch 3/50\n",
            "1000/1000 [==============================] - 16s 16ms/step - loss: 0.6936 - accuracy: 0.5014 - val_loss: 0.6931 - val_accuracy: 0.5030\n",
            "Epoch 4/50\n",
            "1000/1000 [==============================] - 16s 16ms/step - loss: 0.6936 - accuracy: 0.4999 - val_loss: 0.6934 - val_accuracy: 0.5030\n",
            "Epoch 5/50\n",
            "1000/1000 [==============================] - 16s 16ms/step - loss: 0.6936 - accuracy: 0.5016 - val_loss: 0.6932 - val_accuracy: 0.4970\n",
            "Epoch 6/50\n",
            "1000/1000 [==============================] - 16s 16ms/step - loss: 0.6935 - accuracy: 0.4982 - val_loss: 0.6941 - val_accuracy: 0.4970\n",
            "Epoch 7/50\n",
            "1000/1000 [==============================] - 16s 16ms/step - loss: 0.6935 - accuracy: 0.5026 - val_loss: 0.6932 - val_accuracy: 0.5030\n",
            "Epoch 8/50\n",
            "1000/1000 [==============================] - 16s 16ms/step - loss: 0.6935 - accuracy: 0.4994 - val_loss: 0.6934 - val_accuracy: 0.5020\n",
            "Epoch 9/50\n",
            "1000/1000 [==============================] - 16s 16ms/step - loss: 0.6933 - accuracy: 0.5074 - val_loss: 0.6935 - val_accuracy: 0.4954\n",
            "Epoch 10/50\n",
            "1000/1000 [==============================] - 16s 16ms/step - loss: 0.6939 - accuracy: 0.4932 - val_loss: 0.6943 - val_accuracy: 0.5030\n",
            "Epoch 11/50\n",
            "1000/1000 [==============================] - 16s 16ms/step - loss: 0.6935 - accuracy: 0.5031 - val_loss: 0.6933 - val_accuracy: 0.5020\n",
            "Epoch 12/50\n",
            "1000/1000 [==============================] - 16s 16ms/step - loss: 0.6933 - accuracy: 0.5034 - val_loss: 0.6933 - val_accuracy: 0.5033\n",
            "Epoch 13/50\n",
            "1000/1000 [==============================] - 16s 16ms/step - loss: 0.6935 - accuracy: 0.4992 - val_loss: 0.6932 - val_accuracy: 0.4978\n",
            "Epoch 14/50\n",
            "1000/1000 [==============================] - 16s 16ms/step - loss: 0.6933 - accuracy: 0.5061 - val_loss: 0.6932 - val_accuracy: 0.4997\n",
            "Epoch 15/50\n",
            "1000/1000 [==============================] - 16s 16ms/step - loss: 0.6934 - accuracy: 0.5076 - val_loss: 0.6940 - val_accuracy: 0.4970\n",
            "Epoch 16/50\n",
            "1000/1000 [==============================] - 16s 16ms/step - loss: 0.6933 - accuracy: 0.5056 - val_loss: 0.6932 - val_accuracy: 0.5016\n",
            "Epoch 17/50\n",
            "1000/1000 [==============================] - 16s 16ms/step - loss: 0.6933 - accuracy: 0.5013 - val_loss: 0.6944 - val_accuracy: 0.5044\n",
            "Epoch 18/50\n",
            "1000/1000 [==============================] - 16s 16ms/step - loss: 0.6933 - accuracy: 0.5075 - val_loss: 0.6937 - val_accuracy: 0.5045\n",
            "Epoch 19/50\n",
            "1000/1000 [==============================] - 16s 16ms/step - loss: 0.6933 - accuracy: 0.5056 - val_loss: 0.6957 - val_accuracy: 0.5017\n",
            "Epoch 20/50\n",
            "1000/1000 [==============================] - 16s 16ms/step - loss: 0.6935 - accuracy: 0.5020 - val_loss: 0.6949 - val_accuracy: 0.4995\n",
            "Epoch 21/50\n",
            "1000/1000 [==============================] - 16s 16ms/step - loss: 0.6928 - accuracy: 0.5129 - val_loss: 0.6944 - val_accuracy: 0.4996\n",
            "Epoch 22/50\n",
            "1000/1000 [==============================] - 16s 16ms/step - loss: 0.6930 - accuracy: 0.5044 - val_loss: 0.6937 - val_accuracy: 0.5038\n",
            "Epoch 23/50\n",
            "1000/1000 [==============================] - 16s 16ms/step - loss: 0.6927 - accuracy: 0.5067 - val_loss: 0.6936 - val_accuracy: 0.4952\n",
            "Epoch 24/50\n",
            "1000/1000 [==============================] - 16s 16ms/step - loss: 0.6928 - accuracy: 0.5056 - val_loss: 0.6942 - val_accuracy: 0.5035\n",
            "Epoch 25/50\n",
            "1000/1000 [==============================] - 16s 16ms/step - loss: 0.6927 - accuracy: 0.5095 - val_loss: 0.6946 - val_accuracy: 0.5001\n",
            "Epoch 26/50\n",
            "1000/1000 [==============================] - 16s 16ms/step - loss: 0.6928 - accuracy: 0.5110 - val_loss: 0.6949 - val_accuracy: 0.4996\n",
            "Epoch 27/50\n",
            "1000/1000 [==============================] - 16s 16ms/step - loss: 0.6922 - accuracy: 0.5174 - val_loss: 0.6943 - val_accuracy: 0.4974\n",
            "Epoch 28/50\n",
            "1000/1000 [==============================] - 16s 16ms/step - loss: 0.6921 - accuracy: 0.5149 - val_loss: 0.6944 - val_accuracy: 0.4971\n",
            "Epoch 29/50\n",
            "1000/1000 [==============================] - 16s 16ms/step - loss: 0.6920 - accuracy: 0.5155 - val_loss: 0.6941 - val_accuracy: 0.5024\n",
            "Epoch 30/50\n",
            "1000/1000 [==============================] - 16s 16ms/step - loss: 0.6926 - accuracy: 0.5100 - val_loss: 0.6949 - val_accuracy: 0.4961\n",
            "Epoch 31/50\n",
            "1000/1000 [==============================] - 16s 16ms/step - loss: 0.6915 - accuracy: 0.5207 - val_loss: 0.6957 - val_accuracy: 0.4945\n",
            "Epoch 32/50\n",
            "1000/1000 [==============================] - 16s 16ms/step - loss: 0.6914 - accuracy: 0.5198 - val_loss: 0.6948 - val_accuracy: 0.5094\n",
            "Epoch 33/50\n",
            "1000/1000 [==============================] - 16s 16ms/step - loss: 0.6916 - accuracy: 0.5151 - val_loss: 0.6957 - val_accuracy: 0.5099\n",
            "Epoch 34/50\n",
            "1000/1000 [==============================] - 16s 16ms/step - loss: 0.6902 - accuracy: 0.5230 - val_loss: 0.6957 - val_accuracy: 0.5070\n",
            "Epoch 35/50\n",
            "1000/1000 [==============================] - 16s 16ms/step - loss: 0.6902 - accuracy: 0.5204 - val_loss: 0.6965 - val_accuracy: 0.4946\n",
            "Epoch 36/50\n",
            "1000/1000 [==============================] - 16s 16ms/step - loss: 0.6885 - accuracy: 0.5311 - val_loss: 0.6979 - val_accuracy: 0.5086\n",
            "Epoch 37/50\n",
            "1000/1000 [==============================] - 16s 16ms/step - loss: 0.6882 - accuracy: 0.5325 - val_loss: 0.6983 - val_accuracy: 0.5114\n"
          ],
          "name": "stdout"
        },
        {
          "output_type": "stream",
          "text": [
            "WARNING:absl:Found untraced functions such as lstm_cell_10_layer_call_fn, lstm_cell_10_layer_call_and_return_conditional_losses, lstm_cell_11_layer_call_fn, lstm_cell_11_layer_call_and_return_conditional_losses, lstm_cell_10_layer_call_fn while saving (showing 5 of 10). These functions will not be directly callable after loading.\n",
            "WARNING:absl:Found untraced functions such as lstm_cell_10_layer_call_fn, lstm_cell_10_layer_call_and_return_conditional_losses, lstm_cell_11_layer_call_fn, lstm_cell_11_layer_call_and_return_conditional_losses, lstm_cell_10_layer_call_fn while saving (showing 5 of 10). These functions will not be directly callable after loading.\n"
          ],
          "name": "stderr"
        },
        {
          "output_type": "stream",
          "text": [
            "INFO:tensorflow:Assets written to: BestModel/assets\n"
          ],
          "name": "stdout"
        },
        {
          "output_type": "stream",
          "text": [
            "INFO:tensorflow:Assets written to: BestModel/assets\n"
          ],
          "name": "stderr"
        },
        {
          "output_type": "stream",
          "text": [
            "Epoch 38/50\n",
            "1000/1000 [==============================] - 16s 16ms/step - loss: 0.6875 - accuracy: 0.5266 - val_loss: 0.7000 - val_accuracy: 0.5091\n",
            "Epoch 39/50\n",
            "1000/1000 [==============================] - 16s 16ms/step - loss: 0.6849 - accuracy: 0.5423 - val_loss: 0.6981 - val_accuracy: 0.5010\n",
            "Epoch 40/50\n",
            "1000/1000 [==============================] - 16s 16ms/step - loss: 0.6834 - accuracy: 0.5404 - val_loss: 0.7028 - val_accuracy: 0.5067\n",
            "Epoch 41/50\n",
            "1000/1000 [==============================] - 16s 16ms/step - loss: 0.6823 - accuracy: 0.5471 - val_loss: 0.6996 - val_accuracy: 0.5036\n",
            "Epoch 42/50\n",
            "1000/1000 [==============================] - 16s 16ms/step - loss: 0.6817 - accuracy: 0.5457 - val_loss: 0.7046 - val_accuracy: 0.5030\n",
            "Epoch 43/50\n",
            "1000/1000 [==============================] - 16s 16ms/step - loss: 0.6802 - accuracy: 0.5500 - val_loss: 0.7081 - val_accuracy: 0.5045\n",
            "Epoch 44/50\n",
            "1000/1000 [==============================] - 16s 16ms/step - loss: 0.6788 - accuracy: 0.5578 - val_loss: 0.7035 - val_accuracy: 0.5079\n",
            "Epoch 45/50\n",
            "1000/1000 [==============================] - 16s 16ms/step - loss: 0.6774 - accuracy: 0.5570 - val_loss: 0.7060 - val_accuracy: 0.5063\n",
            "Epoch 46/50\n",
            "1000/1000 [==============================] - 16s 16ms/step - loss: 0.6765 - accuracy: 0.5594 - val_loss: 0.7090 - val_accuracy: 0.5096\n",
            "Epoch 47/50\n",
            "1000/1000 [==============================] - 16s 16ms/step - loss: 0.6719 - accuracy: 0.5643 - val_loss: 0.7088 - val_accuracy: 0.5046\n",
            "Epoch 48/50\n",
            "1000/1000 [==============================] - 16s 16ms/step - loss: 0.6730 - accuracy: 0.5613 - val_loss: 0.7137 - val_accuracy: 0.5074\n",
            "Epoch 49/50\n",
            "1000/1000 [==============================] - 16s 16ms/step - loss: 0.6677 - accuracy: 0.5713 - val_loss: 0.7185 - val_accuracy: 0.5030\n",
            "Epoch 50/50\n",
            "1000/1000 [==============================] - 16s 16ms/step - loss: 0.6663 - accuracy: 0.5790 - val_loss: 0.7170 - val_accuracy: 0.5065\n",
            "Fold 5, 50 epochs, 814 sec\n"
          ],
          "name": "stdout"
        },
        {
          "output_type": "display_data",
          "data": {
            "image/png": "[encoded data removed]",
            "text/plain": [
              "<Figure size 576x360 with 1 Axes>"
            ]
          },
          "metadata": {
            "tags": [],
            "needs_background": "light"
          }
        }
      ]
    },
    {
      "cell_type": "code",
      "metadata": {
        "colab": {
          "base_uri": "https://localhost:8080/"
        },
        "id": "e-jG1h5fj2Ua",
        "outputId": "820caebf-5b9c-4a4d-d74c-60693b2abe18"
      },
      "source": [
        "from keras.models import load_model\n",
        "pc_sim.set_reproducible(True)\n",
        "nc_sim.set_reproducible(True)\n",
        "pc_test = pc_sim.get_sequences(PC_TESTS)\n",
        "nc_test = nc_sim.get_sequences(NC_TESTS)\n",
        "X,y = prepare_inputs_len_x_alphabet(pc_test,nc_test,ALPHABET)\n",
        "best_model=load_model(MODELPATH)\n",
        "scores = best_model.evaluate(X, y, verbose=0)\n",
        "print(\"The best model parameters were saved during cross-validation.\")\n",
        "print(\"Best was defined as maximum validation accuracy at end of any epoch.\")\n",
        "print(\"Now re-load the best model and test it on previously unseen data.\")\n",
        "print(\"Test on\",len(pc_test),\"PC seqs\")\n",
        "print(\"Test on\",len(nc_test),\"NC seqs\")\n",
        "print(\"%s: %.2f%%\" % (best_model.metrics_names[1], scores[1]*100))\n"
      ],
      "execution_count": 10,
      "outputs": [
        {
          "output_type": "stream",
          "text": [
            "The best model parameters were saved during cross-validation.\n",
            "Best was defined as maximum validation accuracy at end of any epoch.\n",
            "Now re-load the best model and test it on previously unseen data.\n",
            "Test on 1000 PC seqs\n",
            "Test on 1000 NC seqs\n",
            "accuracy: 48.95%\n"
          ],
          "name": "stdout"
        }
      ]
    },
    {
      "cell_type": "code",
      "metadata": {
        "colab": {
          "base_uri": "https://localhost:8080/",
          "height": 312
        },
        "id": "VycUnmvUj2Ue",
        "outputId": "1651c08e-22e3-4254-a2c5-8bc554c79412"
      },
      "source": [
        "from sklearn.metrics import roc_curve\n",
        "from sklearn.metrics import roc_auc_score\n",
        "ns_probs = [0 for _ in range(len(y))]\n",
        "bm_probs = best_model.predict(X)\n",
        "ns_auc = roc_auc_score(y, ns_probs)\n",
        "bm_auc = roc_auc_score(y, bm_probs)\n",
        "ns_fpr, ns_tpr, _ = roc_curve(y, ns_probs)\n",
        "bm_fpr, bm_tpr, _ = roc_curve(y, bm_probs)\n",
        "plt.plot(ns_fpr, ns_tpr, linestyle='--', label='Guess, auc=%.4f'%ns_auc)\n",
        "plt.plot(bm_fpr, bm_tpr, marker='.', label='Model, auc=%.4f'%bm_auc)\n",
        "plt.title('ROC')\n",
        "plt.xlabel('False Positive Rate')\n",
        "plt.ylabel('True Positive Rate')\n",
        "plt.legend()\n",
        "plt.show()\n",
        "print(\"%s: %.2f%%\" %('AUC',bm_auc))\n"
      ],
      "execution_count": 11,
      "outputs": [
        {
          "output_type": "display_data",
          "data": {
            "image/png": "[encoded data removed]",
            "text/plain": [
              "<Figure size 432x288 with 1 Axes>"
            ]
          },
          "metadata": {
            "tags": [],
            "needs_background": "light"
          }
        },
        {
          "output_type": "stream",
          "text": [
            "AUC: 0.49%\n"
          ],
          "name": "stdout"
        }
      ]
    },
    {
      "cell_type": "code",
      "metadata": {
        "colab": {
          "base_uri": "https://localhost:8080/",
          "height": 36
        },
        "id": "kFMb6rGNj2Ug",
        "outputId": "94235470-7eb7-406a-dbf9-3b25f296831b"
      },
      "source": [
        "t = time.time()\n",
        "time.strftime('%Y-%m-%d %H:%M:%S %Z', time.localtime(t))"
      ],
      "execution_count": 12,
      "outputs": [
        {
          "output_type": "execute_result",
          "data": {
            "application/vnd.google.colaboratory.intrinsic+json": {
              "type": "string"
            },
            "text/plain": [
              "'2021-05-18 12:44:06 UTC'"
            ]
          },
          "metadata": {
            "tags": []
          },
          "execution_count": 12
        }
      ]
    }
  ]
}