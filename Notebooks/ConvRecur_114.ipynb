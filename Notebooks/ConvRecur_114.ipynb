{
  "nbformat": 4,
  "nbformat_minor": 0,
  "metadata": {
    "accelerator": "GPU",
    "colab": {
      "name": "ConvRecur_114.ipynb",
      "provenance": [],
      "collapsed_sections": []
    },
    "kernelspec": {
      "display_name": "Python 3",
      "language": "python",
      "name": "python3"
    },
    "language_info": {
      "codemirror_mode": {
        "name": "ipython",
        "version": 3
      },
      "file_extension": ".py",
      "mimetype": "text/x-python",
      "name": "python",
      "nbconvert_exporter": "python",
      "pygments_lexer": "ipython3",
      "version": "3.8.3"
    }
  },
  "cells": [
    {
      "cell_type": "markdown",
      "metadata": {
        "id": "0asdcdunj2Tx"
      },
      "source": [
        "# ORF recognition by Convolutional/Recurrent\n",
        "\n",
        "So far CNN+GRU 64 overfits the 128 base RNA problem.\n",
        "That was using 32K samples/class. Here, try more samples. \n",
        "\n"
      ]
    },
    {
      "cell_type": "code",
      "metadata": {
        "colab": {
          "base_uri": "https://localhost:8080/",
          "height": 36
        },
        "id": "QP1VTRNQj2UO",
        "outputId": "e0db4169-5ff3-470b-b8ea-74462dc2b671"
      },
      "source": [
        "import time \n",
        "t = time.time()\n",
        "time.strftime('%Y-%m-%d %H:%M:%S %Z', time.localtime(t))"
      ],
      "execution_count": 1,
      "outputs": [
        {
          "output_type": "execute_result",
          "data": {
            "application/vnd.google.colaboratory.intrinsic+json": {
              "type": "string"
            },
            "text/plain": [
              "'2021-06-22 15:56:11 UTC'"
            ]
          },
          "metadata": {
            "tags": []
          },
          "execution_count": 1
        }
      ]
    },
    {
      "cell_type": "code",
      "metadata": {
        "id": "Nhz4GKonj2T_"
      },
      "source": [
        "PC_SEQUENCES=64000   # how many protein-coding sequences\n",
        "NC_SEQUENCES=64000   # how many non-coding sequences\n",
        "PC_TESTS=1000\n",
        "NC_TESTS=1000\n",
        "RNA_LEN=128            # how long is each sequence\n",
        "CDS_LEN=64            # min CDS len to be coding\n",
        "ALPHABET=4          # how many different letters are possible\n",
        "INPUT_SHAPE_2D = (RNA_LEN,ALPHABET,1) # Conv2D needs 3D inputs\n",
        "INPUT_SHAPE = (RNA_LEN,ALPHABET) # Conv1D needs 2D inputs\n",
        "FILTERS = 64   # how many different patterns the model looks for\n",
        "CELLS = 64\n",
        "NEURONS = 64\n",
        "DROP_RATE = 0.4\n",
        "WIDTH = 3   # how wide each pattern is, in bases\n",
        "STRIDE_2D = (1,1)  # For Conv2D how far in each direction\n",
        "STRIDE = 1 # For Conv1D, how far between pattern matches, in bases\n",
        "EPOCHS=100  # how many times to train on all the data\n",
        "SPLITS=3  # SPLITS=3 means train on 2/3 and validate on 1/3 \n",
        "FOLDS=3  # train the model this many times (range 1 to SPLITS)"
      ],
      "execution_count": 2,
      "outputs": []
    },
    {
      "cell_type": "code",
      "metadata": {
        "colab": {
          "base_uri": "https://localhost:8080/"
        },
        "id": "lr7q90rxj2UE",
        "outputId": "db2be077-0b24-4a06-8d93-0c31c6cb1f01"
      },
      "source": [
        "import sys\n",
        "IN_COLAB = False\n",
        "try:\n",
        "    from google.colab import drive\n",
        "    IN_COLAB = True\n",
        "except:\n",
        "    pass\n",
        "if IN_COLAB:\n",
        "    print(\"On Google CoLab, mount cloud-local file, get our code from GitHub.\")\n",
        "    PATH='/content/drive/'\n",
        "    #drive.mount(PATH,force_remount=True)  # hardly ever need this\n",
        "    #drive.mount(PATH)    # Google will require login credentials\n",
        "    DATAPATH=PATH+'My Drive/data/'  # must end in \"/\"\n",
        "    import requests\n",
        "    r = requests.get('https://raw.githubusercontent.com/ShepherdCode/Soars2021/master/SimTools/RNA_describe.py')\n",
        "    with open('RNA_describe.py', 'w') as f:\n",
        "        f.write(r.text)  \n",
        "    from RNA_describe import ORF_counter\n",
        "    from RNA_describe import Random_Base_Oracle\n",
        "    r = requests.get('https://raw.githubusercontent.com/ShepherdCode/Soars2021/master/SimTools/RNA_prep.py')\n",
        "    with open('RNA_prep.py', 'w') as f:\n",
        "        f.write(r.text)  \n",
        "    from RNA_prep import prepare_inputs_len_x_alphabet\n",
        "else:\n",
        "        print(\"CoLab not working. On my PC, use relative paths.\")\n",
        "        DATAPATH='data/'  # must end in \"/\"\n",
        "        sys.path.append(\"..\") # append parent dir in order to use sibling dirs\n",
        "        from SimTools.RNA_describe import ORF_counter,Random_Base_Oracle\n",
        "        from SimTools.RNA_prep import prepare_inputs_len_x_alphabet\n",
        "\n",
        "MODELPATH=\"BestModel\"  # saved on cloud instance and lost after logout\n",
        "#MODELPATH=DATAPATH+MODELPATH  # saved on Google Drive but requires login\n"
      ],
      "execution_count": 3,
      "outputs": [
        {
          "output_type": "stream",
          "text": [
            "On Google CoLab, mount cloud-local file, get our code from GitHub.\n"
          ],
          "name": "stdout"
        }
      ]
    },
    {
      "cell_type": "code",
      "metadata": {
        "id": "EGDXH8Uwj2UM"
      },
      "source": [
        "from os import listdir\n",
        "import csv\n",
        "from zipfile import ZipFile\n",
        "\n",
        "import numpy as np\n",
        "import pandas as pd\n",
        "from scipy import stats  # mode\n",
        "\n",
        "from sklearn.preprocessing import StandardScaler\n",
        "from sklearn.model_selection import KFold\n",
        "from sklearn.model_selection import cross_val_score\n",
        "\n",
        "from keras.models import Sequential\n",
        "from keras.layers import Dense,Embedding,Dropout\n",
        "from keras.layers import Conv1D,Conv2D\n",
        "from keras.layers import GRU,LSTM\n",
        "from keras.layers import Flatten,TimeDistributed\n",
        "from keras.layers import MaxPooling1D,MaxPooling2D\n",
        "from keras.losses import BinaryCrossentropy\n",
        "# tf.keras.losses.BinaryCrossentropy\n",
        "\n",
        "import matplotlib.pyplot as plt\n",
        "from matplotlib import colors\n",
        "mycmap = colors.ListedColormap(['red','blue'])  # list color for label 0 then 1\n",
        "np.set_printoptions(precision=2)\n"
      ],
      "execution_count": 4,
      "outputs": []
    },
    {
      "cell_type": "code",
      "metadata": {
        "colab": {
          "base_uri": "https://localhost:8080/"
        },
        "id": "CUOG_jEvGtOm",
        "outputId": "c34c2872-042d-44ad-8ab3-dfad919987fa"
      },
      "source": [
        "rbo=Random_Base_Oracle(RNA_LEN,True)\n",
        "pc_all,nc_all = rbo.get_partitioned_sequences(CDS_LEN,10) # just testing\n",
        "pc_all,nc_all = rbo.get_partitioned_sequences(CDS_LEN,PC_SEQUENCES+PC_TESTS)\n",
        "print(\"Use\",len(pc_all),\"PC seqs\")\n",
        "print(\"Use\",len(nc_all),\"NC seqs\")"
      ],
      "execution_count": 5,
      "outputs": [
        {
          "output_type": "stream",
          "text": [
            "It took 20 trials to reach 10 per class.\n",
            "It took 230481 trials to reach 65000 per class.\n",
            "Use 65000 PC seqs\n",
            "Use 65000 NC seqs\n"
          ],
          "name": "stdout"
        }
      ]
    },
    {
      "cell_type": "code",
      "metadata": {
        "colab": {
          "base_uri": "https://localhost:8080/"
        },
        "id": "Q-BmSXi2jUyl",
        "outputId": "797d2daf-30e4-429f-e095-07a5b861dac7"
      },
      "source": [
        "# Describe the sequences\n",
        "def describe_sequences(list_of_seq):\n",
        "    oc = ORF_counter()\n",
        "    num_seq = len(list_of_seq)\n",
        "    rna_lens = np.zeros(num_seq)\n",
        "    orf_lens = np.zeros(num_seq)\n",
        "    for i in range(0,num_seq):\n",
        "        rna_len = len(list_of_seq[i])\n",
        "        rna_lens[i] = rna_len\n",
        "        oc.set_sequence(list_of_seq[i])\n",
        "        orf_len = oc.get_max_orf_len()\n",
        "        orf_lens[i] = orf_len\n",
        "    print (\"Average RNA length:\",rna_lens.mean())\n",
        "    print (\"Average ORF length:\",orf_lens.mean())\n",
        "    \n",
        "print(\"Simulated sequences prior to adjustment:\")\n",
        "print(\"PC seqs\")\n",
        "describe_sequences(pc_all)\n",
        "print(\"NC seqs\")\n",
        "describe_sequences(nc_all)"
      ],
      "execution_count": 6,
      "outputs": [
        {
          "output_type": "stream",
          "text": [
            "Simulated sequences prior to adjustment:\n",
            "PC seqs\n",
            "Average RNA length: 128.0\n",
            "Average ORF length: 79.07132307692308\n",
            "NC seqs\n",
            "Average RNA length: 128.0\n",
            "Average ORF length: 27.53723076923077\n"
          ],
          "name": "stdout"
        }
      ]
    },
    {
      "cell_type": "code",
      "metadata": {
        "id": "iP1y7-J3jUys"
      },
      "source": [
        "pc_train=pc_all[:PC_SEQUENCES]\n",
        "nc_train=nc_all[:NC_SEQUENCES]\n",
        "pc_test=pc_all[PC_SEQUENCES:]\n",
        "nc_test=nc_all[NC_SEQUENCES:]"
      ],
      "execution_count": 7,
      "outputs": []
    },
    {
      "cell_type": "code",
      "metadata": {
        "colab": {
          "base_uri": "https://localhost:8080/"
        },
        "id": "CIpTrnH6j2US",
        "outputId": "56e80346-f884-45ac-8209-923a8485d0ca"
      },
      "source": [
        "# Use code from our SimTools library.\n",
        "X,y = prepare_inputs_len_x_alphabet(pc_train,nc_train,ALPHABET) # shuffles\n",
        "print(\"Data ready.\")"
      ],
      "execution_count": 8,
      "outputs": [
        {
          "output_type": "stream",
          "text": [
            "Data ready.\n"
          ],
          "name": "stdout"
        }
      ]
    },
    {
      "cell_type": "code",
      "metadata": {
        "colab": {
          "base_uri": "https://localhost:8080/"
        },
        "id": "7NvrVU8ij2UU",
        "outputId": "19c2a3e5-9da8-488a-ff9b-203ae34eac86"
      },
      "source": [
        "def make_DNN():\n",
        "    print(\"make_DNN\")\n",
        "    print(\"input shape:\",INPUT_SHAPE)\n",
        "    dnn = Sequential()\n",
        "    #dnn.add(Embedding(input_dim=INPUT_SHAPE,output_dim=INPUT_SHAPE)) \n",
        "    dnn.add(Conv1D(filters=FILTERS,kernel_size=WIDTH,strides=STRIDE,padding=\"same\",\n",
        "            input_shape=INPUT_SHAPE))\n",
        "    dnn.add(Conv1D(filters=FILTERS,kernel_size=WIDTH,strides=STRIDE,padding=\"same\"))\n",
        "    dnn.add(MaxPooling1D())\n",
        "    #dnn.add(Conv1D(filters=FILTERS,kernel_size=WIDTH,strides=STRIDE,padding=\"same\"))\n",
        "    #dnn.add(Conv1D(filters=FILTERS,kernel_size=WIDTH,strides=STRIDE,padding=\"same\"))\n",
        "    #dnn.add(MaxPooling1D())\n",
        "    #dnn.add(TimeDistributed(Flatten()))\n",
        "    dnn.add(GRU(CELLS,return_sequences=True))\n",
        "    dnn.add(GRU(CELLS,return_sequences=False))\n",
        "    dnn.add(Dense(NEURONS,activation=\"sigmoid\",dtype=np.float32))   \n",
        "    dnn.add(Dropout(DROP_RATE))\n",
        "    dnn.add(Dense(1,activation=\"sigmoid\",dtype=np.float32))   \n",
        "    dnn.compile(optimizer='adam',\n",
        "                loss=BinaryCrossentropy(from_logits=False),\n",
        "                metrics=['accuracy'])   # add to default metrics=loss\n",
        "    dnn.build(input_shape=INPUT_SHAPE)   \n",
        "    #ln_rate = tf.keras.optimizers.Adam(learning_rate = LN_RATE)\n",
        "    #bc=tf.keras.losses.BinaryCrossentropy(from_logits=False)\n",
        "    #model.compile(loss=bc, optimizer=ln_rate, metrics=[\"accuracy\"])\n",
        "    return dnn\n",
        "model = make_DNN()\n",
        "print(model.summary())"
      ],
      "execution_count": 9,
      "outputs": [
        {
          "output_type": "stream",
          "text": [
            "make_DNN\n",
            "input shape: (128, 4)\n",
            "Model: \"sequential\"\n",
            "_________________________________________________________________\n",
            "Layer (type)                 Output Shape              Param #   \n",
            "=================================================================\n",
            "conv1d (Conv1D)              (None, 128, 64)           832       \n",
            "_________________________________________________________________\n",
            "conv1d_1 (Conv1D)            (None, 128, 64)           12352     \n",
            "_________________________________________________________________\n",
            "max_pooling1d (MaxPooling1D) (None, 64, 64)            0         \n",
            "_________________________________________________________________\n",
            "gru (GRU)                    (None, 64, 64)            24960     \n",
            "_________________________________________________________________\n",
            "gru_1 (GRU)                  (None, 64)                24960     \n",
            "_________________________________________________________________\n",
            "dense (Dense)                (None, 64)                4160      \n",
            "_________________________________________________________________\n",
            "dropout (Dropout)            (None, 64)                0         \n",
            "_________________________________________________________________\n",
            "dense_1 (Dense)              (None, 1)                 65        \n",
            "=================================================================\n",
            "Total params: 67,329\n",
            "Trainable params: 67,329\n",
            "Non-trainable params: 0\n",
            "_________________________________________________________________\n",
            "None\n"
          ],
          "name": "stdout"
        }
      ]
    },
    {
      "cell_type": "code",
      "metadata": {
        "id": "nlVF0hR3j2UW"
      },
      "source": [
        "from keras.callbacks import ModelCheckpoint\n",
        "def do_cross_validation(X,y):\n",
        "    cv_scores = []\n",
        "    fold=0\n",
        "    mycallbacks = [ModelCheckpoint(\n",
        "        filepath=MODELPATH, save_best_only=True, \n",
        "        monitor='val_accuracy', mode='max')]   \n",
        "    splitter = KFold(n_splits=SPLITS)  # this does not shuffle\n",
        "    for train_index,valid_index in splitter.split(X):\n",
        "        if fold < FOLDS:\n",
        "            fold += 1\n",
        "            X_train=X[train_index] # inputs for training\n",
        "            y_train=y[train_index] # labels for training\n",
        "            X_valid=X[valid_index] # inputs for validation\n",
        "            y_valid=y[valid_index] # labels for validation\n",
        "            print(\"MODEL\")\n",
        "            # Call constructor on each CV. Else, continually improves the same model.\n",
        "            model = model = make_DNN()\n",
        "            print(\"FIT\")  # model.fit() implements learning\n",
        "            start_time=time.time()\n",
        "            history=model.fit(X_train, y_train, \n",
        "                    epochs=EPOCHS, \n",
        "                    verbose=1,  # ascii art while learning\n",
        "                    callbacks=mycallbacks,   # called at end of each epoch\n",
        "                    validation_data=(X_valid,y_valid))\n",
        "            end_time=time.time()\n",
        "            elapsed_time=(end_time-start_time)                        \n",
        "            print(\"Fold %d, %d epochs, %d sec\"%(fold,EPOCHS,elapsed_time))\n",
        "            # print(history.history.keys())  # all these keys will be shown in figure\n",
        "            pd.DataFrame(history.history).plot(figsize=(8,5))\n",
        "            plt.grid(True)\n",
        "            plt.gca().set_ylim(0,1) # any losses > 1 will be off the scale\n",
        "            plt.show()\n"
      ],
      "execution_count": 10,
      "outputs": []
    },
    {
      "cell_type": "code",
      "metadata": {
        "colab": {
          "base_uri": "https://localhost:8080/",
          "height": 1000
        },
        "id": "9Ggt4EsSj2UY",
        "outputId": "5583f11d-23cf-4e8e-b52e-9a0801ded900"
      },
      "source": [
        "do_cross_validation(X,y)"
      ],
      "execution_count": 11,
      "outputs": [
        {
          "output_type": "stream",
          "text": [
            "MODEL\n",
            "make_DNN\n",
            "input shape: (128, 4)\n",
            "FIT\n",
            "Epoch 1/100\n",
            "2667/2667 [==============================] - 56s 9ms/step - loss: 0.6974 - accuracy: 0.5332 - val_loss: 0.6252 - val_accuracy: 0.6456\n"
          ],
          "name": "stdout"
        },
        {
          "output_type": "stream",
          "text": [
            "WARNING:absl:Found untraced functions such as gru_cell_2_layer_call_fn, gru_cell_2_layer_call_and_return_conditional_losses, gru_cell_3_layer_call_fn, gru_cell_3_layer_call_and_return_conditional_losses, gru_cell_2_layer_call_fn while saving (showing 5 of 10). These functions will not be directly callable after loading.\n"
          ],
          "name": "stderr"
        },
        {
          "output_type": "stream",
          "text": [
            "INFO:tensorflow:Assets written to: BestModel/assets\n"
          ],
          "name": "stdout"
        },
        {
          "output_type": "stream",
          "text": [
            "INFO:tensorflow:Assets written to: BestModel/assets\n"
          ],
          "name": "stderr"
        },
        {
          "output_type": "stream",
          "text": [
            "Epoch 2/100\n",
            "2667/2667 [==============================] - 23s 9ms/step - loss: 0.6065 - accuracy: 0.6647 - val_loss: 0.5651 - val_accuracy: 0.6967\n"
          ],
          "name": "stdout"
        },
        {
          "output_type": "stream",
          "text": [
            "WARNING:absl:Found untraced functions such as gru_cell_2_layer_call_fn, gru_cell_2_layer_call_and_return_conditional_losses, gru_cell_3_layer_call_fn, gru_cell_3_layer_call_and_return_conditional_losses, gru_cell_2_layer_call_fn while saving (showing 5 of 10). These functions will not be directly callable after loading.\n"
          ],
          "name": "stderr"
        },
        {
          "output_type": "stream",
          "text": [
            "INFO:tensorflow:Assets written to: BestModel/assets\n"
          ],
          "name": "stdout"
        },
        {
          "output_type": "stream",
          "text": [
            "INFO:tensorflow:Assets written to: BestModel/assets\n"
          ],
          "name": "stderr"
        },
        {
          "output_type": "stream",
          "text": [
            "Epoch 3/100\n",
            "2667/2667 [==============================] - 23s 9ms/step - loss: 0.5636 - accuracy: 0.6974 - val_loss: 0.5667 - val_accuracy: 0.6950\n",
            "Epoch 4/100\n",
            "2667/2667 [==============================] - 23s 9ms/step - loss: 0.5537 - accuracy: 0.7041 - val_loss: 0.5605 - val_accuracy: 0.6987\n"
          ],
          "name": "stdout"
        },
        {
          "output_type": "stream",
          "text": [
            "WARNING:absl:Found untraced functions such as gru_cell_2_layer_call_fn, gru_cell_2_layer_call_and_return_conditional_losses, gru_cell_3_layer_call_fn, gru_cell_3_layer_call_and_return_conditional_losses, gru_cell_2_layer_call_fn while saving (showing 5 of 10). These functions will not be directly callable after loading.\n"
          ],
          "name": "stderr"
        },
        {
          "output_type": "stream",
          "text": [
            "INFO:tensorflow:Assets written to: BestModel/assets\n"
          ],
          "name": "stdout"
        },
        {
          "output_type": "stream",
          "text": [
            "INFO:tensorflow:Assets written to: BestModel/assets\n"
          ],
          "name": "stderr"
        },
        {
          "output_type": "stream",
          "text": [
            "Epoch 5/100\n",
            "2667/2667 [==============================] - 23s 9ms/step - loss: 0.5504 - accuracy: 0.7045 - val_loss: 0.5571 - val_accuracy: 0.7032\n"
          ],
          "name": "stdout"
        },
        {
          "output_type": "stream",
          "text": [
            "WARNING:absl:Found untraced functions such as gru_cell_2_layer_call_fn, gru_cell_2_layer_call_and_return_conditional_losses, gru_cell_3_layer_call_fn, gru_cell_3_layer_call_and_return_conditional_losses, gru_cell_2_layer_call_fn while saving (showing 5 of 10). These functions will not be directly callable after loading.\n"
          ],
          "name": "stderr"
        },
        {
          "output_type": "stream",
          "text": [
            "INFO:tensorflow:Assets written to: BestModel/assets\n"
          ],
          "name": "stdout"
        },
        {
          "output_type": "stream",
          "text": [
            "INFO:tensorflow:Assets written to: BestModel/assets\n"
          ],
          "name": "stderr"
        },
        {
          "output_type": "stream",
          "text": [
            "Epoch 6/100\n",
            "2667/2667 [==============================] - 23s 9ms/step - loss: 0.5430 - accuracy: 0.7107 - val_loss: 0.5564 - val_accuracy: 0.7050\n"
          ],
          "name": "stdout"
        },
        {
          "output_type": "stream",
          "text": [
            "WARNING:absl:Found untraced functions such as gru_cell_2_layer_call_fn, gru_cell_2_layer_call_and_return_conditional_losses, gru_cell_3_layer_call_fn, gru_cell_3_layer_call_and_return_conditional_losses, gru_cell_2_layer_call_fn while saving (showing 5 of 10). These functions will not be directly callable after loading.\n"
          ],
          "name": "stderr"
        },
        {
          "output_type": "stream",
          "text": [
            "INFO:tensorflow:Assets written to: BestModel/assets\n"
          ],
          "name": "stdout"
        },
        {
          "output_type": "stream",
          "text": [
            "INFO:tensorflow:Assets written to: BestModel/assets\n"
          ],
          "name": "stderr"
        },
        {
          "output_type": "stream",
          "text": [
            "Epoch 7/100\n",
            "2667/2667 [==============================] - 23s 9ms/step - loss: 0.5404 - accuracy: 0.7161 - val_loss: 0.5532 - val_accuracy: 0.7055\n"
          ],
          "name": "stdout"
        },
        {
          "output_type": "stream",
          "text": [
            "WARNING:absl:Found untraced functions such as gru_cell_2_layer_call_fn, gru_cell_2_layer_call_and_return_conditional_losses, gru_cell_3_layer_call_fn, gru_cell_3_layer_call_and_return_conditional_losses, gru_cell_2_layer_call_fn while saving (showing 5 of 10). These functions will not be directly callable after loading.\n"
          ],
          "name": "stderr"
        },
        {
          "output_type": "stream",
          "text": [
            "INFO:tensorflow:Assets written to: BestModel/assets\n"
          ],
          "name": "stdout"
        },
        {
          "output_type": "stream",
          "text": [
            "INFO:tensorflow:Assets written to: BestModel/assets\n"
          ],
          "name": "stderr"
        },
        {
          "output_type": "stream",
          "text": [
            "Epoch 8/100\n",
            "2667/2667 [==============================] - 23s 9ms/step - loss: 0.5375 - accuracy: 0.7167 - val_loss: 0.5519 - val_accuracy: 0.7017\n",
            "Epoch 9/100\n",
            "2667/2667 [==============================] - 23s 9ms/step - loss: 0.5309 - accuracy: 0.7187 - val_loss: 0.5544 - val_accuracy: 0.7009\n",
            "Epoch 10/100\n",
            "2667/2667 [==============================] - 23s 9ms/step - loss: 0.5277 - accuracy: 0.7222 - val_loss: 0.5489 - val_accuracy: 0.7081\n"
          ],
          "name": "stdout"
        },
        {
          "output_type": "stream",
          "text": [
            "WARNING:absl:Found untraced functions such as gru_cell_2_layer_call_fn, gru_cell_2_layer_call_and_return_conditional_losses, gru_cell_3_layer_call_fn, gru_cell_3_layer_call_and_return_conditional_losses, gru_cell_2_layer_call_fn while saving (showing 5 of 10). These functions will not be directly callable after loading.\n"
          ],
          "name": "stderr"
        },
        {
          "output_type": "stream",
          "text": [
            "INFO:tensorflow:Assets written to: BestModel/assets\n"
          ],
          "name": "stdout"
        },
        {
          "output_type": "stream",
          "text": [
            "INFO:tensorflow:Assets written to: BestModel/assets\n"
          ],
          "name": "stderr"
        },
        {
          "output_type": "stream",
          "text": [
            "Epoch 11/100\n",
            "2667/2667 [==============================] - 24s 9ms/step - loss: 0.5208 - accuracy: 0.7285 - val_loss: 0.5537 - val_accuracy: 0.7069\n",
            "Epoch 12/100\n",
            "2667/2667 [==============================] - 23s 9ms/step - loss: 0.5170 - accuracy: 0.7302 - val_loss: 0.5518 - val_accuracy: 0.7052\n",
            "Epoch 13/100\n",
            "2667/2667 [==============================] - 23s 9ms/step - loss: 0.5150 - accuracy: 0.7321 - val_loss: 0.5607 - val_accuracy: 0.7060\n",
            "Epoch 14/100\n",
            "2667/2667 [==============================] - 23s 9ms/step - loss: 0.5101 - accuracy: 0.7350 - val_loss: 0.5586 - val_accuracy: 0.7057\n",
            "Epoch 15/100\n",
            "2667/2667 [==============================] - 23s 9ms/step - loss: 0.5027 - accuracy: 0.7417 - val_loss: 0.5616 - val_accuracy: 0.7058\n",
            "Epoch 16/100\n",
            "2667/2667 [==============================] - 23s 9ms/step - loss: 0.4985 - accuracy: 0.7425 - val_loss: 0.5525 - val_accuracy: 0.7086\n"
          ],
          "name": "stdout"
        },
        {
          "output_type": "stream",
          "text": [
            "WARNING:absl:Found untraced functions such as gru_cell_2_layer_call_fn, gru_cell_2_layer_call_and_return_conditional_losses, gru_cell_3_layer_call_fn, gru_cell_3_layer_call_and_return_conditional_losses, gru_cell_2_layer_call_fn while saving (showing 5 of 10). These functions will not be directly callable after loading.\n"
          ],
          "name": "stderr"
        },
        {
          "output_type": "stream",
          "text": [
            "INFO:tensorflow:Assets written to: BestModel/assets\n"
          ],
          "name": "stdout"
        },
        {
          "output_type": "stream",
          "text": [
            "INFO:tensorflow:Assets written to: BestModel/assets\n"
          ],
          "name": "stderr"
        },
        {
          "output_type": "stream",
          "text": [
            "Epoch 17/100\n",
            "2667/2667 [==============================] - 23s 9ms/step - loss: 0.4917 - accuracy: 0.7475 - val_loss: 0.5612 - val_accuracy: 0.7104\n"
          ],
          "name": "stdout"
        },
        {
          "output_type": "stream",
          "text": [
            "WARNING:absl:Found untraced functions such as gru_cell_2_layer_call_fn, gru_cell_2_layer_call_and_return_conditional_losses, gru_cell_3_layer_call_fn, gru_cell_3_layer_call_and_return_conditional_losses, gru_cell_2_layer_call_fn while saving (showing 5 of 10). These functions will not be directly callable after loading.\n"
          ],
          "name": "stderr"
        },
        {
          "output_type": "stream",
          "text": [
            "INFO:tensorflow:Assets written to: BestModel/assets\n"
          ],
          "name": "stdout"
        },
        {
          "output_type": "stream",
          "text": [
            "INFO:tensorflow:Assets written to: BestModel/assets\n"
          ],
          "name": "stderr"
        },
        {
          "output_type": "stream",
          "text": [
            "Epoch 18/100\n",
            "2667/2667 [==============================] - 23s 9ms/step - loss: 0.4887 - accuracy: 0.7500 - val_loss: 0.5534 - val_accuracy: 0.7108\n"
          ],
          "name": "stdout"
        },
        {
          "output_type": "stream",
          "text": [
            "WARNING:absl:Found untraced functions such as gru_cell_2_layer_call_fn, gru_cell_2_layer_call_and_return_conditional_losses, gru_cell_3_layer_call_fn, gru_cell_3_layer_call_and_return_conditional_losses, gru_cell_2_layer_call_fn while saving (showing 5 of 10). These functions will not be directly callable after loading.\n"
          ],
          "name": "stderr"
        },
        {
          "output_type": "stream",
          "text": [
            "INFO:tensorflow:Assets written to: BestModel/assets\n"
          ],
          "name": "stdout"
        },
        {
          "output_type": "stream",
          "text": [
            "INFO:tensorflow:Assets written to: BestModel/assets\n"
          ],
          "name": "stderr"
        },
        {
          "output_type": "stream",
          "text": [
            "Epoch 19/100\n",
            "2667/2667 [==============================] - 23s 9ms/step - loss: 0.4875 - accuracy: 0.7502 - val_loss: 0.5418 - val_accuracy: 0.7140\n"
          ],
          "name": "stdout"
        },
        {
          "output_type": "stream",
          "text": [
            "WARNING:absl:Found untraced functions such as gru_cell_2_layer_call_fn, gru_cell_2_layer_call_and_return_conditional_losses, gru_cell_3_layer_call_fn, gru_cell_3_layer_call_and_return_conditional_losses, gru_cell_2_layer_call_fn while saving (showing 5 of 10). These functions will not be directly callable after loading.\n"
          ],
          "name": "stderr"
        },
        {
          "output_type": "stream",
          "text": [
            "INFO:tensorflow:Assets written to: BestModel/assets\n"
          ],
          "name": "stdout"
        },
        {
          "output_type": "stream",
          "text": [
            "INFO:tensorflow:Assets written to: BestModel/assets\n"
          ],
          "name": "stderr"
        },
        {
          "output_type": "stream",
          "text": [
            "Epoch 20/100\n",
            "2667/2667 [==============================] - 24s 9ms/step - loss: 0.4827 - accuracy: 0.7549 - val_loss: 0.5253 - val_accuracy: 0.7298\n"
          ],
          "name": "stdout"
        },
        {
          "output_type": "stream",
          "text": [
            "WARNING:absl:Found untraced functions such as gru_cell_2_layer_call_fn, gru_cell_2_layer_call_and_return_conditional_losses, gru_cell_3_layer_call_fn, gru_cell_3_layer_call_and_return_conditional_losses, gru_cell_2_layer_call_fn while saving (showing 5 of 10). These functions will not be directly callable after loading.\n"
          ],
          "name": "stderr"
        },
        {
          "output_type": "stream",
          "text": [
            "INFO:tensorflow:Assets written to: BestModel/assets\n"
          ],
          "name": "stdout"
        },
        {
          "output_type": "stream",
          "text": [
            "INFO:tensorflow:Assets written to: BestModel/assets\n"
          ],
          "name": "stderr"
        },
        {
          "output_type": "stream",
          "text": [
            "Epoch 21/100\n",
            "2667/2667 [==============================] - 24s 9ms/step - loss: 0.4964 - accuracy: 0.7487 - val_loss: 0.5474 - val_accuracy: 0.7156\n",
            "Epoch 22/100\n",
            "2667/2667 [==============================] - 23s 9ms/step - loss: 0.4985 - accuracy: 0.7512 - val_loss: 0.4673 - val_accuracy: 0.7776\n"
          ],
          "name": "stdout"
        },
        {
          "output_type": "stream",
          "text": [
            "WARNING:absl:Found untraced functions such as gru_cell_2_layer_call_fn, gru_cell_2_layer_call_and_return_conditional_losses, gru_cell_3_layer_call_fn, gru_cell_3_layer_call_and_return_conditional_losses, gru_cell_2_layer_call_fn while saving (showing 5 of 10). These functions will not be directly callable after loading.\n"
          ],
          "name": "stderr"
        },
        {
          "output_type": "stream",
          "text": [
            "INFO:tensorflow:Assets written to: BestModel/assets\n"
          ],
          "name": "stdout"
        },
        {
          "output_type": "stream",
          "text": [
            "INFO:tensorflow:Assets written to: BestModel/assets\n"
          ],
          "name": "stderr"
        },
        {
          "output_type": "stream",
          "text": [
            "Epoch 23/100\n",
            "2667/2667 [==============================] - 23s 9ms/step - loss: 0.4975 - accuracy: 0.7504 - val_loss: 0.6003 - val_accuracy: 0.6684\n",
            "Epoch 24/100\n",
            "2667/2667 [==============================] - 23s 9ms/step - loss: 0.5842 - accuracy: 0.6821 - val_loss: 0.5635 - val_accuracy: 0.6958\n",
            "Epoch 25/100\n",
            "2667/2667 [==============================] - 23s 9ms/step - loss: 0.5514 - accuracy: 0.7062 - val_loss: 0.4512 - val_accuracy: 0.7899\n"
          ],
          "name": "stdout"
        },
        {
          "output_type": "stream",
          "text": [
            "WARNING:absl:Found untraced functions such as gru_cell_2_layer_call_fn, gru_cell_2_layer_call_and_return_conditional_losses, gru_cell_3_layer_call_fn, gru_cell_3_layer_call_and_return_conditional_losses, gru_cell_2_layer_call_fn while saving (showing 5 of 10). These functions will not be directly callable after loading.\n"
          ],
          "name": "stderr"
        },
        {
          "output_type": "stream",
          "text": [
            "INFO:tensorflow:Assets written to: BestModel/assets\n"
          ],
          "name": "stdout"
        },
        {
          "output_type": "stream",
          "text": [
            "INFO:tensorflow:Assets written to: BestModel/assets\n"
          ],
          "name": "stderr"
        },
        {
          "output_type": "stream",
          "text": [
            "Epoch 26/100\n",
            "2667/2667 [==============================] - 23s 9ms/step - loss: 0.5351 - accuracy: 0.7228 - val_loss: 0.5367 - val_accuracy: 0.7249\n",
            "Epoch 27/100\n",
            "2667/2667 [==============================] - 23s 9ms/step - loss: 0.5262 - accuracy: 0.7297 - val_loss: 0.6037 - val_accuracy: 0.6685\n",
            "Epoch 28/100\n",
            "2667/2667 [==============================] - 23s 9ms/step - loss: 0.5878 - accuracy: 0.6833 - val_loss: 0.5662 - val_accuracy: 0.7001\n",
            "Epoch 29/100\n",
            "2667/2667 [==============================] - 23s 9ms/step - loss: 0.5834 - accuracy: 0.6849 - val_loss: 0.5814 - val_accuracy: 0.6862\n",
            "Epoch 30/100\n",
            "2667/2667 [==============================] - 23s 9ms/step - loss: 0.5729 - accuracy: 0.6914 - val_loss: 0.5867 - val_accuracy: 0.6774\n",
            "Epoch 31/100\n",
            "2667/2667 [==============================] - 23s 9ms/step - loss: 0.5689 - accuracy: 0.6923 - val_loss: 0.5552 - val_accuracy: 0.7010\n",
            "Epoch 32/100\n",
            "2667/2667 [==============================] - 23s 9ms/step - loss: 0.5649 - accuracy: 0.6989 - val_loss: 0.5686 - val_accuracy: 0.6914\n",
            "Epoch 33/100\n",
            "2667/2667 [==============================] - 23s 9ms/step - loss: 0.5667 - accuracy: 0.6920 - val_loss: 0.5631 - val_accuracy: 0.6964\n",
            "Epoch 34/100\n",
            "2667/2667 [==============================] - 23s 9ms/step - loss: 0.5562 - accuracy: 0.7015 - val_loss: 0.5581 - val_accuracy: 0.6996\n",
            "Epoch 35/100\n",
            "2667/2667 [==============================] - 23s 9ms/step - loss: 0.5592 - accuracy: 0.7029 - val_loss: 0.5549 - val_accuracy: 0.7042\n",
            "Epoch 36/100\n",
            "2667/2667 [==============================] - 23s 9ms/step - loss: 0.5427 - accuracy: 0.7160 - val_loss: 0.5632 - val_accuracy: 0.6991\n",
            "Epoch 37/100\n",
            "2667/2667 [==============================] - 23s 9ms/step - loss: 0.5606 - accuracy: 0.7023 - val_loss: 0.5624 - val_accuracy: 0.7011\n",
            "Epoch 38/100\n",
            "2667/2667 [==============================] - 23s 9ms/step - loss: 0.5777 - accuracy: 0.6873 - val_loss: 0.5544 - val_accuracy: 0.7056\n",
            "Epoch 39/100\n",
            "2667/2667 [==============================] - 23s 9ms/step - loss: 0.5473 - accuracy: 0.7131 - val_loss: 0.5384 - val_accuracy: 0.7141\n",
            "Epoch 40/100\n",
            "2667/2667 [==============================] - 23s 9ms/step - loss: 0.5577 - accuracy: 0.7024 - val_loss: 0.5582 - val_accuracy: 0.6990\n",
            "Epoch 41/100\n",
            "2667/2667 [==============================] - 24s 9ms/step - loss: 0.5487 - accuracy: 0.7079 - val_loss: 0.5480 - val_accuracy: 0.7113\n",
            "Epoch 42/100\n",
            "2667/2667 [==============================] - 23s 9ms/step - loss: 0.5356 - accuracy: 0.7219 - val_loss: 0.5354 - val_accuracy: 0.7205\n",
            "Epoch 43/100\n",
            "2667/2667 [==============================] - 23s 9ms/step - loss: 0.5325 - accuracy: 0.7227 - val_loss: 0.5274 - val_accuracy: 0.7254\n",
            "Epoch 44/100\n",
            "2667/2667 [==============================] - 23s 9ms/step - loss: 0.5415 - accuracy: 0.7176 - val_loss: 0.5987 - val_accuracy: 0.6732\n",
            "Epoch 45/100\n",
            "2667/2667 [==============================] - 23s 9ms/step - loss: 0.5545 - accuracy: 0.7055 - val_loss: 0.5437 - val_accuracy: 0.7125\n",
            "Epoch 46/100\n",
            "2667/2667 [==============================] - 23s 9ms/step - loss: 0.5354 - accuracy: 0.7204 - val_loss: 0.5450 - val_accuracy: 0.7103\n",
            "Epoch 47/100\n",
            "2667/2667 [==============================] - 24s 9ms/step - loss: 0.5336 - accuracy: 0.7212 - val_loss: 0.5512 - val_accuracy: 0.7029\n",
            "Epoch 48/100\n",
            "2667/2667 [==============================] - 24s 9ms/step - loss: 0.5430 - accuracy: 0.7142 - val_loss: 0.5551 - val_accuracy: 0.6988\n",
            "Epoch 49/100\n",
            "2667/2667 [==============================] - 24s 9ms/step - loss: 0.5451 - accuracy: 0.7121 - val_loss: 0.6222 - val_accuracy: 0.6512\n",
            "Epoch 50/100\n",
            "2667/2667 [==============================] - 23s 9ms/step - loss: 0.5946 - accuracy: 0.6741 - val_loss: 0.5693 - val_accuracy: 0.6992\n",
            "Epoch 51/100\n",
            "2667/2667 [==============================] - 23s 9ms/step - loss: 0.5542 - accuracy: 0.7055 - val_loss: 0.5512 - val_accuracy: 0.7047\n",
            "Epoch 52/100\n",
            "2667/2667 [==============================] - 23s 9ms/step - loss: 0.5453 - accuracy: 0.7119 - val_loss: 0.5506 - val_accuracy: 0.7064\n",
            "Epoch 53/100\n",
            "2667/2667 [==============================] - 23s 9ms/step - loss: 0.5634 - accuracy: 0.6970 - val_loss: 0.5502 - val_accuracy: 0.7050\n",
            "Epoch 54/100\n",
            "2667/2667 [==============================] - 23s 9ms/step - loss: 0.5480 - accuracy: 0.7100 - val_loss: 0.5735 - val_accuracy: 0.6928\n",
            "Epoch 55/100\n",
            "2667/2667 [==============================] - 23s 9ms/step - loss: 0.5632 - accuracy: 0.6998 - val_loss: 0.5484 - val_accuracy: 0.7071\n",
            "Epoch 56/100\n",
            "2667/2667 [==============================] - 23s 9ms/step - loss: 0.5483 - accuracy: 0.7085 - val_loss: 0.5525 - val_accuracy: 0.7025\n",
            "Epoch 57/100\n",
            "2667/2667 [==============================] - 23s 9ms/step - loss: 0.5528 - accuracy: 0.7061 - val_loss: 0.5571 - val_accuracy: 0.7017\n",
            "Epoch 58/100\n",
            "2667/2667 [==============================] - 23s 9ms/step - loss: 0.5480 - accuracy: 0.7071 - val_loss: 0.5430 - val_accuracy: 0.7106\n",
            "Epoch 59/100\n",
            "2667/2667 [==============================] - 23s 9ms/step - loss: 0.5448 - accuracy: 0.7117 - val_loss: 0.5583 - val_accuracy: 0.7015\n",
            "Epoch 60/100\n",
            "2667/2667 [==============================] - 23s 9ms/step - loss: 0.5390 - accuracy: 0.7191 - val_loss: 0.5198 - val_accuracy: 0.7327\n",
            "Epoch 61/100\n",
            "2667/2667 [==============================] - 23s 9ms/step - loss: 0.5351 - accuracy: 0.7200 - val_loss: 0.5449 - val_accuracy: 0.7091\n",
            "Epoch 62/100\n",
            "2667/2667 [==============================] - 23s 9ms/step - loss: 0.5272 - accuracy: 0.7225 - val_loss: 0.5364 - val_accuracy: 0.7177\n",
            "Epoch 63/100\n",
            "2667/2667 [==============================] - 24s 9ms/step - loss: 0.5314 - accuracy: 0.7222 - val_loss: 0.5220 - val_accuracy: 0.7304\n",
            "Epoch 64/100\n",
            "2667/2667 [==============================] - 23s 9ms/step - loss: 0.5506 - accuracy: 0.7089 - val_loss: 0.5329 - val_accuracy: 0.7201\n",
            "Epoch 65/100\n",
            "2667/2667 [==============================] - 23s 9ms/step - loss: 0.5311 - accuracy: 0.7215 - val_loss: 0.5331 - val_accuracy: 0.7240\n",
            "Epoch 66/100\n",
            "2667/2667 [==============================] - 23s 9ms/step - loss: 0.5289 - accuracy: 0.7254 - val_loss: 0.5815 - val_accuracy: 0.6870\n",
            "Epoch 67/100\n",
            "2667/2667 [==============================] - 23s 9ms/step - loss: 0.5502 - accuracy: 0.7125 - val_loss: 0.5425 - val_accuracy: 0.7103\n",
            "Epoch 68/100\n",
            "2667/2667 [==============================] - 23s 9ms/step - loss: 0.5490 - accuracy: 0.7093 - val_loss: 0.6113 - val_accuracy: 0.6560\n",
            "Epoch 69/100\n",
            "2667/2667 [==============================] - 23s 9ms/step - loss: 0.5925 - accuracy: 0.6734 - val_loss: 0.5708 - val_accuracy: 0.6909\n",
            "Epoch 70/100\n",
            "2667/2667 [==============================] - 23s 9ms/step - loss: 0.5633 - accuracy: 0.6983 - val_loss: 0.5583 - val_accuracy: 0.6970\n",
            "Epoch 71/100\n",
            "2667/2667 [==============================] - 23s 9ms/step - loss: 0.5608 - accuracy: 0.6999 - val_loss: 0.5590 - val_accuracy: 0.6982\n",
            "Epoch 72/100\n",
            "2667/2667 [==============================] - 23s 9ms/step - loss: 0.5563 - accuracy: 0.7018 - val_loss: 0.5601 - val_accuracy: 0.6945\n",
            "Epoch 73/100\n",
            "2667/2667 [==============================] - 23s 9ms/step - loss: 0.5622 - accuracy: 0.6970 - val_loss: 0.5491 - val_accuracy: 0.7087\n",
            "Epoch 74/100\n",
            "2667/2667 [==============================] - 23s 9ms/step - loss: 0.5532 - accuracy: 0.7048 - val_loss: 0.5432 - val_accuracy: 0.7099\n",
            "Epoch 75/100\n",
            "2667/2667 [==============================] - 23s 9ms/step - loss: 0.5458 - accuracy: 0.7102 - val_loss: 0.6018 - val_accuracy: 0.6717\n",
            "Epoch 76/100\n",
            "2667/2667 [==============================] - 24s 9ms/step - loss: 0.5901 - accuracy: 0.6793 - val_loss: 0.5674 - val_accuracy: 0.6927\n",
            "Epoch 77/100\n",
            "2667/2667 [==============================] - 23s 9ms/step - loss: 0.5667 - accuracy: 0.6945 - val_loss: 0.5660 - val_accuracy: 0.6924\n",
            "Epoch 78/100\n",
            "2667/2667 [==============================] - 23s 9ms/step - loss: 0.5536 - accuracy: 0.7043 - val_loss: 0.5089 - val_accuracy: 0.7413\n",
            "Epoch 79/100\n",
            "2667/2667 [==============================] - 23s 9ms/step - loss: 0.6066 - accuracy: 0.6651 - val_loss: 0.5835 - val_accuracy: 0.6803\n",
            "Epoch 80/100\n",
            "2667/2667 [==============================] - 23s 9ms/step - loss: 0.5792 - accuracy: 0.6858 - val_loss: 0.5732 - val_accuracy: 0.6938\n",
            "Epoch 81/100\n",
            "2667/2667 [==============================] - 23s 9ms/step - loss: 0.5669 - accuracy: 0.6941 - val_loss: 0.5721 - val_accuracy: 0.6882\n",
            "Epoch 82/100\n",
            "2667/2667 [==============================] - 24s 9ms/step - loss: 0.5612 - accuracy: 0.6980 - val_loss: 0.5551 - val_accuracy: 0.7018\n",
            "Epoch 83/100\n",
            "2667/2667 [==============================] - 23s 9ms/step - loss: 0.5527 - accuracy: 0.7019 - val_loss: 0.5550 - val_accuracy: 0.7003\n",
            "Epoch 84/100\n",
            "2667/2667 [==============================] - 24s 9ms/step - loss: 0.5538 - accuracy: 0.7035 - val_loss: 0.5596 - val_accuracy: 0.6973\n",
            "Epoch 85/100\n",
            "2667/2667 [==============================] - 24s 9ms/step - loss: 0.5517 - accuracy: 0.7044 - val_loss: 0.5508 - val_accuracy: 0.7038\n",
            "Epoch 86/100\n",
            "2667/2667 [==============================] - 24s 9ms/step - loss: 0.5500 - accuracy: 0.7053 - val_loss: 0.5533 - val_accuracy: 0.7006\n",
            "Epoch 87/100\n",
            "2667/2667 [==============================] - 23s 9ms/step - loss: 0.5482 - accuracy: 0.7046 - val_loss: 0.5506 - val_accuracy: 0.7018\n",
            "Epoch 88/100\n",
            "2667/2667 [==============================] - 24s 9ms/step - loss: 0.5499 - accuracy: 0.7050 - val_loss: 0.5567 - val_accuracy: 0.7025\n",
            "Epoch 89/100\n",
            "2667/2667 [==============================] - 24s 9ms/step - loss: 0.5488 - accuracy: 0.7035 - val_loss: 0.5478 - val_accuracy: 0.7051\n",
            "Epoch 90/100\n",
            "2667/2667 [==============================] - 23s 9ms/step - loss: 0.5481 - accuracy: 0.7054 - val_loss: 0.5484 - val_accuracy: 0.7027\n",
            "Epoch 91/100\n",
            "2667/2667 [==============================] - 24s 9ms/step - loss: 0.5532 - accuracy: 0.7054 - val_loss: 0.5496 - val_accuracy: 0.7054\n",
            "Epoch 92/100\n",
            "2667/2667 [==============================] - 23s 9ms/step - loss: 0.5475 - accuracy: 0.7069 - val_loss: 0.5829 - val_accuracy: 0.6791\n",
            "Epoch 93/100\n",
            "2667/2667 [==============================] - 24s 9ms/step - loss: 0.5726 - accuracy: 0.6924 - val_loss: 0.5421 - val_accuracy: 0.7166\n",
            "Epoch 94/100\n",
            "2667/2667 [==============================] - 23s 9ms/step - loss: 0.5887 - accuracy: 0.6712 - val_loss: 0.6281 - val_accuracy: 0.6415\n",
            "Epoch 95/100\n",
            "2667/2667 [==============================] - 24s 9ms/step - loss: 0.6427 - accuracy: 0.6298 - val_loss: 0.5988 - val_accuracy: 0.6720\n",
            "Epoch 96/100\n",
            "2667/2667 [==============================] - 24s 9ms/step - loss: 0.5917 - accuracy: 0.6763 - val_loss: 0.5807 - val_accuracy: 0.6837\n",
            "Epoch 97/100\n",
            "2667/2667 [==============================] - 24s 9ms/step - loss: 0.5619 - accuracy: 0.6992 - val_loss: 0.5667 - val_accuracy: 0.6929\n",
            "Epoch 98/100\n",
            "2667/2667 [==============================] - 24s 9ms/step - loss: 0.5588 - accuracy: 0.6995 - val_loss: 0.5542 - val_accuracy: 0.6986\n",
            "Epoch 99/100\n",
            "2667/2667 [==============================] - 24s 9ms/step - loss: 0.5532 - accuracy: 0.7049 - val_loss: 0.5638 - val_accuracy: 0.6985\n",
            "Epoch 100/100\n",
            "2667/2667 [==============================] - 24s 9ms/step - loss: 0.5514 - accuracy: 0.7071 - val_loss: 0.5491 - val_accuracy: 0.7040\n",
            "Fold 1, 100 epochs, 2498 sec\n"
          ],
          "name": "stdout"
        },
        {
          "output_type": "display_data",
          "data": {
            "image/png": "[encoded data removed]",
            "text/plain": [
              "<Figure size 576x360 with 1 Axes>"
            ]
          },
          "metadata": {
            "tags": []
          }
        },
        {
          "output_type": "stream",
          "text": [
            "MODEL\n",
            "make_DNN\n",
            "input shape: (128, 4)\n",
            "FIT\n",
            "Epoch 1/100\n",
            "2667/2667 [==============================] - 28s 9ms/step - loss: 0.6846 - accuracy: 0.5537 - val_loss: 0.5867 - val_accuracy: 0.6798\n",
            "Epoch 2/100\n",
            "2667/2667 [==============================] - 24s 9ms/step - loss: 0.5792 - accuracy: 0.6884 - val_loss: 0.5725 - val_accuracy: 0.6950\n",
            "Epoch 3/100\n",
            "2667/2667 [==============================] - 24s 9ms/step - loss: 0.5656 - accuracy: 0.6960 - val_loss: 0.5584 - val_accuracy: 0.7014\n",
            "Epoch 4/100\n",
            "2667/2667 [==============================] - 23s 9ms/step - loss: 0.5583 - accuracy: 0.7001 - val_loss: 0.5546 - val_accuracy: 0.7033\n",
            "Epoch 5/100\n",
            "2667/2667 [==============================] - 24s 9ms/step - loss: 0.5509 - accuracy: 0.7059 - val_loss: 0.5475 - val_accuracy: 0.7084\n",
            "Epoch 6/100\n",
            "2667/2667 [==============================] - 23s 9ms/step - loss: 0.5402 - accuracy: 0.7124 - val_loss: 0.5487 - val_accuracy: 0.7052\n",
            "Epoch 7/100\n",
            "2667/2667 [==============================] - 23s 9ms/step - loss: 0.5340 - accuracy: 0.7165 - val_loss: 0.5537 - val_accuracy: 0.7064\n",
            "Epoch 8/100\n",
            "2667/2667 [==============================] - 24s 9ms/step - loss: 0.5293 - accuracy: 0.7214 - val_loss: 0.5434 - val_accuracy: 0.7124\n",
            "Epoch 9/100\n",
            "2667/2667 [==============================] - 23s 9ms/step - loss: 0.5246 - accuracy: 0.7233 - val_loss: 0.5342 - val_accuracy: 0.7165\n",
            "Epoch 10/100\n",
            "2667/2667 [==============================] - 24s 9ms/step - loss: 0.5180 - accuracy: 0.7257 - val_loss: 0.5196 - val_accuracy: 0.7304\n",
            "Epoch 11/100\n",
            "2667/2667 [==============================] - 24s 9ms/step - loss: 0.5070 - accuracy: 0.7410 - val_loss: 0.5136 - val_accuracy: 0.7487\n",
            "Epoch 12/100\n",
            "2667/2667 [==============================] - 24s 9ms/step - loss: 0.4412 - accuracy: 0.7816 - val_loss: 0.5150 - val_accuracy: 0.7449\n",
            "Epoch 13/100\n",
            "2667/2667 [==============================] - 24s 9ms/step - loss: 0.4421 - accuracy: 0.7857 - val_loss: 0.6124 - val_accuracy: 0.6582\n",
            "Epoch 14/100\n",
            "2667/2667 [==============================] - 24s 9ms/step - loss: 0.5832 - accuracy: 0.6877 - val_loss: 0.5658 - val_accuracy: 0.7001\n",
            "Epoch 15/100\n",
            "2667/2667 [==============================] - 24s 9ms/step - loss: 0.5496 - accuracy: 0.7120 - val_loss: 0.5665 - val_accuracy: 0.7083\n",
            "Epoch 16/100\n",
            "2667/2667 [==============================] - 24s 9ms/step - loss: 0.6225 - accuracy: 0.6353 - val_loss: 0.6224 - val_accuracy: 0.6502\n",
            "Epoch 17/100\n",
            "2667/2667 [==============================] - 24s 9ms/step - loss: 0.6023 - accuracy: 0.6695 - val_loss: 0.5743 - val_accuracy: 0.6913\n",
            "Epoch 18/100\n",
            "2667/2667 [==============================] - 23s 9ms/step - loss: 0.5731 - accuracy: 0.6920 - val_loss: 0.5858 - val_accuracy: 0.6830\n",
            "Epoch 19/100\n",
            "2667/2667 [==============================] - 23s 9ms/step - loss: 0.5681 - accuracy: 0.6954 - val_loss: 0.5450 - val_accuracy: 0.7150\n",
            "Epoch 20/100\n",
            "2667/2667 [==============================] - 23s 9ms/step - loss: 0.5379 - accuracy: 0.7189 - val_loss: 0.5326 - val_accuracy: 0.7282\n",
            "Epoch 21/100\n",
            "2667/2667 [==============================] - 24s 9ms/step - loss: 0.4797 - accuracy: 0.7634 - val_loss: 0.2144 - val_accuracy: 0.9009\n"
          ],
          "name": "stdout"
        },
        {
          "output_type": "stream",
          "text": [
            "WARNING:absl:Found untraced functions such as gru_cell_4_layer_call_fn, gru_cell_4_layer_call_and_return_conditional_losses, gru_cell_5_layer_call_fn, gru_cell_5_layer_call_and_return_conditional_losses, gru_cell_4_layer_call_fn while saving (showing 5 of 10). These functions will not be directly callable after loading.\n"
          ],
          "name": "stderr"
        },
        {
          "output_type": "stream",
          "text": [
            "INFO:tensorflow:Assets written to: BestModel/assets\n"
          ],
          "name": "stdout"
        },
        {
          "output_type": "stream",
          "text": [
            "INFO:tensorflow:Assets written to: BestModel/assets\n"
          ],
          "name": "stderr"
        },
        {
          "output_type": "stream",
          "text": [
            "Epoch 22/100\n",
            "2667/2667 [==============================] - 24s 9ms/step - loss: 0.3776 - accuracy: 0.8126 - val_loss: 0.5417 - val_accuracy: 0.7256\n",
            "Epoch 23/100\n",
            "2667/2667 [==============================] - 23s 9ms/step - loss: 0.5589 - accuracy: 0.7032 - val_loss: 0.2798 - val_accuracy: 0.8746\n",
            "Epoch 24/100\n",
            "2667/2667 [==============================] - 24s 9ms/step - loss: 0.2385 - accuracy: 0.8908 - val_loss: 0.1812 - val_accuracy: 0.9138\n"
          ],
          "name": "stdout"
        },
        {
          "output_type": "stream",
          "text": [
            "WARNING:absl:Found untraced functions such as gru_cell_4_layer_call_fn, gru_cell_4_layer_call_and_return_conditional_losses, gru_cell_5_layer_call_fn, gru_cell_5_layer_call_and_return_conditional_losses, gru_cell_4_layer_call_fn while saving (showing 5 of 10). These functions will not be directly callable after loading.\n"
          ],
          "name": "stderr"
        },
        {
          "output_type": "stream",
          "text": [
            "INFO:tensorflow:Assets written to: BestModel/assets\n"
          ],
          "name": "stdout"
        },
        {
          "output_type": "stream",
          "text": [
            "INFO:tensorflow:Assets written to: BestModel/assets\n"
          ],
          "name": "stderr"
        },
        {
          "output_type": "stream",
          "text": [
            "Epoch 25/100\n",
            "2667/2667 [==============================] - 24s 9ms/step - loss: 0.3116 - accuracy: 0.8446 - val_loss: 0.1946 - val_accuracy: 0.9085\n",
            "Epoch 26/100\n",
            "2667/2667 [==============================] - 24s 9ms/step - loss: 0.1854 - accuracy: 0.9122 - val_loss: 0.6785 - val_accuracy: 0.5861\n",
            "Epoch 27/100\n",
            "2667/2667 [==============================] - 24s 9ms/step - loss: 0.6371 - accuracy: 0.6311 - val_loss: 0.5776 - val_accuracy: 0.6847\n",
            "Epoch 28/100\n",
            "2667/2667 [==============================] - 24s 9ms/step - loss: 0.5729 - accuracy: 0.6919 - val_loss: 0.4582 - val_accuracy: 0.7825\n",
            "Epoch 29/100\n",
            "2667/2667 [==============================] - 24s 9ms/step - loss: 0.5329 - accuracy: 0.7236 - val_loss: 0.6435 - val_accuracy: 0.6280\n",
            "Epoch 30/100\n",
            "2667/2667 [==============================] - 23s 9ms/step - loss: 0.5890 - accuracy: 0.6807 - val_loss: 0.4822 - val_accuracy: 0.7626\n",
            "Epoch 31/100\n",
            "2667/2667 [==============================] - 23s 9ms/step - loss: 0.3659 - accuracy: 0.8301 - val_loss: 0.2357 - val_accuracy: 0.8959\n",
            "Epoch 32/100\n",
            "2667/2667 [==============================] - 23s 9ms/step - loss: 0.5802 - accuracy: 0.6791 - val_loss: 0.5521 - val_accuracy: 0.7110\n",
            "Epoch 33/100\n",
            "2667/2667 [==============================] - 23s 9ms/step - loss: 0.3887 - accuracy: 0.8177 - val_loss: 0.5108 - val_accuracy: 0.7436\n",
            "Epoch 34/100\n",
            "2667/2667 [==============================] - 24s 9ms/step - loss: 0.3676 - accuracy: 0.8252 - val_loss: 0.1696 - val_accuracy: 0.9184\n"
          ],
          "name": "stdout"
        },
        {
          "output_type": "stream",
          "text": [
            "WARNING:absl:Found untraced functions such as gru_cell_4_layer_call_fn, gru_cell_4_layer_call_and_return_conditional_losses, gru_cell_5_layer_call_fn, gru_cell_5_layer_call_and_return_conditional_losses, gru_cell_4_layer_call_fn while saving (showing 5 of 10). These functions will not be directly callable after loading.\n"
          ],
          "name": "stderr"
        },
        {
          "output_type": "stream",
          "text": [
            "INFO:tensorflow:Assets written to: BestModel/assets\n"
          ],
          "name": "stdout"
        },
        {
          "output_type": "stream",
          "text": [
            "INFO:tensorflow:Assets written to: BestModel/assets\n"
          ],
          "name": "stderr"
        },
        {
          "output_type": "stream",
          "text": [
            "Epoch 35/100\n",
            "2667/2667 [==============================] - 23s 9ms/step - loss: 0.2487 - accuracy: 0.8771 - val_loss: 0.5197 - val_accuracy: 0.7332\n",
            "Epoch 36/100\n",
            "2667/2667 [==============================] - 24s 9ms/step - loss: 0.4781 - accuracy: 0.7611 - val_loss: 0.3613 - val_accuracy: 0.8364\n",
            "Epoch 37/100\n",
            "2667/2667 [==============================] - 24s 9ms/step - loss: 0.3774 - accuracy: 0.8222 - val_loss: 0.5284 - val_accuracy: 0.7264\n",
            "Epoch 38/100\n",
            "2667/2667 [==============================] - 24s 9ms/step - loss: 0.4858 - accuracy: 0.7545 - val_loss: 0.2680 - val_accuracy: 0.8757\n",
            "Epoch 39/100\n",
            "2667/2667 [==============================] - 24s 9ms/step - loss: 0.3823 - accuracy: 0.8192 - val_loss: 0.2037 - val_accuracy: 0.9048\n",
            "Epoch 40/100\n",
            "2667/2667 [==============================] - 24s 9ms/step - loss: 0.2174 - accuracy: 0.9011 - val_loss: 0.3440 - val_accuracy: 0.8380\n",
            "Epoch 41/100\n",
            "2667/2667 [==============================] - 24s 9ms/step - loss: 0.3550 - accuracy: 0.8289 - val_loss: 0.4768 - val_accuracy: 0.7572\n",
            "Epoch 42/100\n",
            "2667/2667 [==============================] - 24s 9ms/step - loss: 0.4815 - accuracy: 0.7524 - val_loss: 0.6331 - val_accuracy: 0.6409\n",
            "Epoch 43/100\n",
            "2667/2667 [==============================] - 24s 9ms/step - loss: 0.6179 - accuracy: 0.6558 - val_loss: 0.5629 - val_accuracy: 0.7000\n",
            "Epoch 44/100\n",
            "2667/2667 [==============================] - 24s 9ms/step - loss: 0.5674 - accuracy: 0.6986 - val_loss: 0.6487 - val_accuracy: 0.6168\n",
            "Epoch 45/100\n",
            "2667/2667 [==============================] - 24s 9ms/step - loss: 0.6344 - accuracy: 0.6381 - val_loss: 0.5833 - val_accuracy: 0.6841\n",
            "Epoch 46/100\n",
            "2667/2667 [==============================] - 23s 9ms/step - loss: 0.5745 - accuracy: 0.6907 - val_loss: 0.5683 - val_accuracy: 0.6951\n",
            "Epoch 47/100\n",
            "2667/2667 [==============================] - 24s 9ms/step - loss: 0.5751 - accuracy: 0.6889 - val_loss: 0.5726 - val_accuracy: 0.6921\n",
            "Epoch 48/100\n",
            "2667/2667 [==============================] - 24s 9ms/step - loss: 0.5678 - accuracy: 0.6934 - val_loss: 0.5609 - val_accuracy: 0.6989\n",
            "Epoch 49/100\n",
            "2667/2667 [==============================] - 24s 9ms/step - loss: 0.5695 - accuracy: 0.6943 - val_loss: 0.5602 - val_accuracy: 0.7002\n",
            "Epoch 50/100\n",
            "2667/2667 [==============================] - 24s 9ms/step - loss: 0.5686 - accuracy: 0.6934 - val_loss: 0.5929 - val_accuracy: 0.6763\n",
            "Epoch 51/100\n",
            "2667/2667 [==============================] - 24s 9ms/step - loss: 0.5748 - accuracy: 0.6886 - val_loss: 0.5689 - val_accuracy: 0.6962\n",
            "Epoch 52/100\n",
            "2667/2667 [==============================] - 24s 9ms/step - loss: 0.5815 - accuracy: 0.6845 - val_loss: 0.5768 - val_accuracy: 0.6873\n",
            "Epoch 53/100\n",
            "2667/2667 [==============================] - 24s 9ms/step - loss: 0.5898 - accuracy: 0.6801 - val_loss: 0.5700 - val_accuracy: 0.6993\n",
            "Epoch 54/100\n",
            "2667/2667 [==============================] - 24s 9ms/step - loss: 0.5897 - accuracy: 0.6781 - val_loss: 0.5834 - val_accuracy: 0.6841\n",
            "Epoch 55/100\n",
            "2667/2667 [==============================] - 24s 9ms/step - loss: 0.5718 - accuracy: 0.6915 - val_loss: 0.6451 - val_accuracy: 0.6271\n",
            "Epoch 56/100\n",
            "2667/2667 [==============================] - 24s 9ms/step - loss: 0.6087 - accuracy: 0.6616 - val_loss: 0.5743 - val_accuracy: 0.6903\n",
            "Epoch 57/100\n",
            "2667/2667 [==============================] - 24s 9ms/step - loss: 0.5712 - accuracy: 0.6925 - val_loss: 0.5840 - val_accuracy: 0.6850\n",
            "Epoch 58/100\n",
            "2667/2667 [==============================] - 24s 9ms/step - loss: 0.5783 - accuracy: 0.6904 - val_loss: 0.5809 - val_accuracy: 0.6875\n",
            "Epoch 59/100\n",
            "2667/2667 [==============================] - 24s 9ms/step - loss: 0.5656 - accuracy: 0.6977 - val_loss: 0.5529 - val_accuracy: 0.7047\n",
            "Epoch 60/100\n",
            "2667/2667 [==============================] - 24s 9ms/step - loss: 0.5591 - accuracy: 0.7014 - val_loss: 0.6223 - val_accuracy: 0.6518\n",
            "Epoch 61/100\n",
            "2667/2667 [==============================] - 24s 9ms/step - loss: 0.6447 - accuracy: 0.6246 - val_loss: 0.5948 - val_accuracy: 0.6729\n",
            "Epoch 62/100\n",
            "2667/2667 [==============================] - 24s 9ms/step - loss: 0.5850 - accuracy: 0.6823 - val_loss: 0.5730 - val_accuracy: 0.6912\n",
            "Epoch 63/100\n",
            "2667/2667 [==============================] - 24s 9ms/step - loss: 0.5722 - accuracy: 0.6912 - val_loss: 0.5641 - val_accuracy: 0.6948\n",
            "Epoch 64/100\n",
            "2667/2667 [==============================] - 24s 9ms/step - loss: 0.5674 - accuracy: 0.6955 - val_loss: 0.5569 - val_accuracy: 0.6997\n",
            "Epoch 65/100\n",
            "2667/2667 [==============================] - 24s 9ms/step - loss: 0.5635 - accuracy: 0.6974 - val_loss: 0.6225 - val_accuracy: 0.6468\n",
            "Epoch 66/100\n",
            "2667/2667 [==============================] - 24s 9ms/step - loss: 0.5945 - accuracy: 0.6748 - val_loss: 0.5619 - val_accuracy: 0.6977\n",
            "Epoch 67/100\n",
            "2667/2667 [==============================] - 24s 9ms/step - loss: 0.5675 - accuracy: 0.6922 - val_loss: 0.5628 - val_accuracy: 0.6992\n",
            "Epoch 68/100\n",
            "2667/2667 [==============================] - 24s 9ms/step - loss: 0.5639 - accuracy: 0.6959 - val_loss: 0.5605 - val_accuracy: 0.6983\n",
            "Epoch 69/100\n",
            "2667/2667 [==============================] - 24s 9ms/step - loss: 0.5580 - accuracy: 0.7013 - val_loss: 0.5676 - val_accuracy: 0.6950\n",
            "Epoch 70/100\n",
            "2667/2667 [==============================] - 24s 9ms/step - loss: 0.5574 - accuracy: 0.6992 - val_loss: 0.5596 - val_accuracy: 0.7009\n",
            "Epoch 71/100\n",
            "2667/2667 [==============================] - 24s 9ms/step - loss: 0.5718 - accuracy: 0.6925 - val_loss: 0.5691 - val_accuracy: 0.6948\n",
            "Epoch 72/100\n",
            "2667/2667 [==============================] - 24s 9ms/step - loss: 0.5883 - accuracy: 0.6761 - val_loss: 0.6006 - val_accuracy: 0.6706\n",
            "Epoch 73/100\n",
            "2667/2667 [==============================] - 24s 9ms/step - loss: 0.5957 - accuracy: 0.6710 - val_loss: 0.5699 - val_accuracy: 0.6934\n",
            "Epoch 74/100\n",
            "2667/2667 [==============================] - 24s 9ms/step - loss: 0.5680 - accuracy: 0.6919 - val_loss: 0.5628 - val_accuracy: 0.6960\n",
            "Epoch 75/100\n",
            "2667/2667 [==============================] - 24s 9ms/step - loss: 0.5598 - accuracy: 0.6980 - val_loss: 0.5559 - val_accuracy: 0.7033\n",
            "Epoch 76/100\n",
            "2667/2667 [==============================] - 24s 9ms/step - loss: 0.5556 - accuracy: 0.7017 - val_loss: 0.5565 - val_accuracy: 0.7008\n",
            "Epoch 77/100\n",
            "2667/2667 [==============================] - 24s 9ms/step - loss: 0.5609 - accuracy: 0.6996 - val_loss: 0.6248 - val_accuracy: 0.6512\n",
            "Epoch 78/100\n",
            "2667/2667 [==============================] - 24s 9ms/step - loss: 0.5840 - accuracy: 0.6833 - val_loss: 0.5618 - val_accuracy: 0.6950\n",
            "Epoch 79/100\n",
            "2667/2667 [==============================] - 24s 9ms/step - loss: 0.5584 - accuracy: 0.6986 - val_loss: 0.5605 - val_accuracy: 0.6985\n",
            "Epoch 80/100\n",
            "2667/2667 [==============================] - 24s 9ms/step - loss: 0.5622 - accuracy: 0.6953 - val_loss: 0.5653 - val_accuracy: 0.6908\n",
            "Epoch 81/100\n",
            "2667/2667 [==============================] - 24s 9ms/step - loss: 0.5585 - accuracy: 0.6983 - val_loss: 0.5589 - val_accuracy: 0.6981\n",
            "Epoch 82/100\n",
            "2667/2667 [==============================] - 24s 9ms/step - loss: 0.5566 - accuracy: 0.6989 - val_loss: 0.5560 - val_accuracy: 0.7018\n",
            "Epoch 83/100\n",
            "2667/2667 [==============================] - 24s 9ms/step - loss: 0.5580 - accuracy: 0.7019 - val_loss: 0.5480 - val_accuracy: 0.7049\n",
            "Epoch 84/100\n",
            "2667/2667 [==============================] - 24s 9ms/step - loss: 0.5531 - accuracy: 0.7026 - val_loss: 0.5589 - val_accuracy: 0.6985\n",
            "Epoch 85/100\n",
            "2667/2667 [==============================] - 24s 9ms/step - loss: 0.5568 - accuracy: 0.7026 - val_loss: 0.5964 - val_accuracy: 0.6697\n",
            "Epoch 86/100\n",
            "2667/2667 [==============================] - 24s 9ms/step - loss: 0.5599 - accuracy: 0.6966 - val_loss: 0.5540 - val_accuracy: 0.7035\n",
            "Epoch 87/100\n",
            "2667/2667 [==============================] - 24s 9ms/step - loss: 0.5485 - accuracy: 0.7067 - val_loss: 0.5525 - val_accuracy: 0.7047\n",
            "Epoch 88/100\n",
            "2667/2667 [==============================] - 24s 9ms/step - loss: 0.5546 - accuracy: 0.7026 - val_loss: 0.5679 - val_accuracy: 0.7000\n",
            "Epoch 89/100\n",
            "2667/2667 [==============================] - 24s 9ms/step - loss: 0.5588 - accuracy: 0.7006 - val_loss: 0.5706 - val_accuracy: 0.6911\n",
            "Epoch 90/100\n",
            "2667/2667 [==============================] - 24s 9ms/step - loss: 0.5615 - accuracy: 0.6967 - val_loss: 0.5477 - val_accuracy: 0.7081\n",
            "Epoch 91/100\n",
            "2667/2667 [==============================] - 25s 9ms/step - loss: 0.5486 - accuracy: 0.7069 - val_loss: 0.5512 - val_accuracy: 0.7047\n",
            "Epoch 92/100\n",
            "2667/2667 [==============================] - 25s 9ms/step - loss: 0.5495 - accuracy: 0.7049 - val_loss: 0.5503 - val_accuracy: 0.7060\n",
            "Epoch 93/100\n",
            "2667/2667 [==============================] - 24s 9ms/step - loss: 0.5526 - accuracy: 0.7046 - val_loss: 0.5598 - val_accuracy: 0.6945\n",
            "Epoch 94/100\n",
            "2667/2667 [==============================] - 25s 9ms/step - loss: 0.5629 - accuracy: 0.6964 - val_loss: 0.5825 - val_accuracy: 0.6822\n",
            "Epoch 95/100\n",
            "2667/2667 [==============================] - 24s 9ms/step - loss: 0.5683 - accuracy: 0.6962 - val_loss: 0.5573 - val_accuracy: 0.7021\n",
            "Epoch 96/100\n",
            "2667/2667 [==============================] - 24s 9ms/step - loss: 0.6187 - accuracy: 0.6507 - val_loss: 0.5784 - val_accuracy: 0.6817\n",
            "Epoch 97/100\n",
            "2667/2667 [==============================] - 24s 9ms/step - loss: 0.5757 - accuracy: 0.6863 - val_loss: 0.5693 - val_accuracy: 0.6933\n",
            "Epoch 98/100\n",
            "2667/2667 [==============================] - 25s 9ms/step - loss: 0.5669 - accuracy: 0.6947 - val_loss: 0.5720 - val_accuracy: 0.6907\n",
            "Epoch 99/100\n",
            "2667/2667 [==============================] - 25s 9ms/step - loss: 0.5934 - accuracy: 0.6753 - val_loss: 0.5806 - val_accuracy: 0.6865\n",
            "Epoch 100/100\n",
            "2667/2667 [==============================] - 24s 9ms/step - loss: 0.5765 - accuracy: 0.6901 - val_loss: 0.5821 - val_accuracy: 0.6849\n",
            "Fold 2, 100 epochs, 2424 sec\n"
          ],
          "name": "stdout"
        },
        {
          "output_type": "display_data",
          "data": {
            "image/png": "[encoded data removed]",
            "text/plain": [
              "<Figure size 576x360 with 1 Axes>"
            ]
          },
          "metadata": {
            "tags": [],
            "needs_background": "light"
          }
        },
        {
          "output_type": "stream",
          "text": [
            "MODEL\n",
            "make_DNN\n",
            "input shape: (128, 4)\n",
            "FIT\n",
            "Epoch 1/100\n",
            "2667/2667 [==============================] - 29s 10ms/step - loss: 0.6884 - accuracy: 0.5495 - val_loss: 0.6100 - val_accuracy: 0.6621\n",
            "Epoch 2/100\n",
            "2667/2667 [==============================] - 24s 9ms/step - loss: 0.5905 - accuracy: 0.6821 - val_loss: 0.5641 - val_accuracy: 0.6892\n",
            "Epoch 3/100\n",
            "2667/2667 [==============================] - 24s 9ms/step - loss: 0.5622 - accuracy: 0.6996 - val_loss: 0.5511 - val_accuracy: 0.7038\n",
            "Epoch 4/100\n",
            "2667/2667 [==============================] - 25s 9ms/step - loss: 0.5529 - accuracy: 0.7049 - val_loss: 0.5487 - val_accuracy: 0.7061\n",
            "Epoch 5/100\n",
            "2667/2667 [==============================] - 24s 9ms/step - loss: 0.5486 - accuracy: 0.7084 - val_loss: 0.5485 - val_accuracy: 0.7077\n",
            "Epoch 6/100\n",
            "2667/2667 [==============================] - 24s 9ms/step - loss: 0.5425 - accuracy: 0.7110 - val_loss: 0.5437 - val_accuracy: 0.7079\n",
            "Epoch 7/100\n",
            "2667/2667 [==============================] - 24s 9ms/step - loss: 0.5375 - accuracy: 0.7167 - val_loss: 0.5384 - val_accuracy: 0.7125\n",
            "Epoch 8/100\n",
            "2667/2667 [==============================] - 24s 9ms/step - loss: 0.5292 - accuracy: 0.7229 - val_loss: 0.5334 - val_accuracy: 0.7155\n",
            "Epoch 9/100\n",
            "2667/2667 [==============================] - 24s 9ms/step - loss: 0.5197 - accuracy: 0.7327 - val_loss: 0.5311 - val_accuracy: 0.7210\n",
            "Epoch 10/100\n",
            "2667/2667 [==============================] - 24s 9ms/step - loss: 0.5404 - accuracy: 0.7176 - val_loss: 0.5665 - val_accuracy: 0.7033\n",
            "Epoch 11/100\n",
            "2667/2667 [==============================] - 25s 9ms/step - loss: 0.5267 - accuracy: 0.7289 - val_loss: 0.6050 - val_accuracy: 0.6643\n",
            "Epoch 12/100\n",
            "2667/2667 [==============================] - 24s 9ms/step - loss: 0.5906 - accuracy: 0.6796 - val_loss: 0.5106 - val_accuracy: 0.7422\n",
            "Epoch 13/100\n",
            "2667/2667 [==============================] - 25s 9ms/step - loss: 0.5475 - accuracy: 0.7107 - val_loss: 0.5379 - val_accuracy: 0.7131\n",
            "Epoch 14/100\n",
            "2667/2667 [==============================] - 25s 9ms/step - loss: 0.4707 - accuracy: 0.7642 - val_loss: 0.5622 - val_accuracy: 0.7041\n",
            "Epoch 15/100\n",
            "2667/2667 [==============================] - 24s 9ms/step - loss: 0.5069 - accuracy: 0.7376 - val_loss: 0.9109 - val_accuracy: 0.7012\n",
            "Epoch 16/100\n",
            "2667/2667 [==============================] - 25s 9ms/step - loss: 0.3753 - accuracy: 0.8297 - val_loss: 0.6396 - val_accuracy: 0.6318\n",
            "Epoch 17/100\n",
            "2667/2667 [==============================] - 24s 9ms/step - loss: 0.6136 - accuracy: 0.6590 - val_loss: 0.5703 - val_accuracy: 0.6981\n",
            "Epoch 18/100\n",
            "2667/2667 [==============================] - 24s 9ms/step - loss: 0.5621 - accuracy: 0.7040 - val_loss: 0.5462 - val_accuracy: 0.7126\n",
            "Epoch 19/100\n",
            "2667/2667 [==============================] - 25s 9ms/step - loss: 0.5378 - accuracy: 0.7217 - val_loss: 0.5949 - val_accuracy: 0.6777\n",
            "Epoch 20/100\n",
            "2667/2667 [==============================] - 25s 9ms/step - loss: 0.5880 - accuracy: 0.6796 - val_loss: 0.5560 - val_accuracy: 0.6984\n",
            "Epoch 21/100\n",
            "2667/2667 [==============================] - 25s 9ms/step - loss: 0.5639 - accuracy: 0.6992 - val_loss: 0.5044 - val_accuracy: 0.7503\n",
            "Epoch 22/100\n",
            "2667/2667 [==============================] - 24s 9ms/step - loss: 0.5651 - accuracy: 0.7026 - val_loss: 0.5680 - val_accuracy: 0.6962\n",
            "Epoch 23/100\n",
            "2667/2667 [==============================] - 24s 9ms/step - loss: 0.5615 - accuracy: 0.7014 - val_loss: 0.5451 - val_accuracy: 0.7126\n",
            "Epoch 24/100\n",
            "2667/2667 [==============================] - 25s 9ms/step - loss: 0.5420 - accuracy: 0.7186 - val_loss: 0.5769 - val_accuracy: 0.6861\n",
            "Epoch 25/100\n",
            "2667/2667 [==============================] - 24s 9ms/step - loss: 0.5709 - accuracy: 0.6920 - val_loss: 0.5508 - val_accuracy: 0.7064\n",
            "Epoch 26/100\n",
            "2667/2667 [==============================] - 24s 9ms/step - loss: 0.5533 - accuracy: 0.7071 - val_loss: 0.5342 - val_accuracy: 0.7211\n",
            "Epoch 27/100\n",
            "2667/2667 [==============================] - 24s 9ms/step - loss: 0.4740 - accuracy: 0.7537 - val_loss: 0.5784 - val_accuracy: 0.6975\n",
            "Epoch 28/100\n",
            "2667/2667 [==============================] - 24s 9ms/step - loss: 0.5077 - accuracy: 0.7471 - val_loss: 0.2678 - val_accuracy: 0.8821\n",
            "Epoch 29/100\n",
            "2667/2667 [==============================] - 25s 9ms/step - loss: 0.4686 - accuracy: 0.7467 - val_loss: 0.6054 - val_accuracy: 0.6661\n",
            "Epoch 30/100\n",
            "2667/2667 [==============================] - 24s 9ms/step - loss: 0.5923 - accuracy: 0.6789 - val_loss: 0.5554 - val_accuracy: 0.7041\n",
            "Epoch 31/100\n",
            "2667/2667 [==============================] - 24s 9ms/step - loss: 0.5581 - accuracy: 0.7056 - val_loss: 0.5648 - val_accuracy: 0.6965\n",
            "Epoch 32/100\n",
            "2667/2667 [==============================] - 24s 9ms/step - loss: 0.5581 - accuracy: 0.7020 - val_loss: 0.5541 - val_accuracy: 0.7037\n",
            "Epoch 33/100\n",
            "2667/2667 [==============================] - 24s 9ms/step - loss: 0.5507 - accuracy: 0.7094 - val_loss: 0.5550 - val_accuracy: 0.6984\n",
            "Epoch 34/100\n",
            "2667/2667 [==============================] - 24s 9ms/step - loss: 0.5590 - accuracy: 0.7026 - val_loss: 0.5557 - val_accuracy: 0.7024\n",
            "Epoch 35/100\n",
            "2667/2667 [==============================] - 24s 9ms/step - loss: 0.5573 - accuracy: 0.7037 - val_loss: 0.5713 - val_accuracy: 0.6936\n",
            "Epoch 36/100\n",
            "2667/2667 [==============================] - 24s 9ms/step - loss: 0.5496 - accuracy: 0.7127 - val_loss: 0.5349 - val_accuracy: 0.7233\n",
            "Epoch 37/100\n",
            "2667/2667 [==============================] - 24s 9ms/step - loss: 0.4743 - accuracy: 0.7692 - val_loss: 0.3008 - val_accuracy: 0.8581\n",
            "Epoch 38/100\n",
            "2667/2667 [==============================] - 25s 9ms/step - loss: 0.4376 - accuracy: 0.7794 - val_loss: 0.5376 - val_accuracy: 0.7268\n",
            "Epoch 39/100\n",
            "2667/2667 [==============================] - 24s 9ms/step - loss: 0.4535 - accuracy: 0.7733 - val_loss: 0.5369 - val_accuracy: 0.7151\n",
            "Epoch 40/100\n",
            "2667/2667 [==============================] - 24s 9ms/step - loss: 0.5375 - accuracy: 0.7150 - val_loss: 0.5421 - val_accuracy: 0.7129\n",
            "Epoch 41/100\n",
            "2667/2667 [==============================] - 24s 9ms/step - loss: 0.5487 - accuracy: 0.7133 - val_loss: 0.6303 - val_accuracy: 0.6377\n",
            "Epoch 42/100\n",
            "2667/2667 [==============================] - 24s 9ms/step - loss: 0.6191 - accuracy: 0.6491 - val_loss: 0.5736 - val_accuracy: 0.6907\n",
            "Epoch 43/100\n",
            "2667/2667 [==============================] - 24s 9ms/step - loss: 0.5753 - accuracy: 0.6908 - val_loss: 0.5739 - val_accuracy: 0.6883\n",
            "Epoch 44/100\n",
            "2667/2667 [==============================] - 24s 9ms/step - loss: 0.5745 - accuracy: 0.6915 - val_loss: 0.5613 - val_accuracy: 0.6994\n",
            "Epoch 45/100\n",
            "2667/2667 [==============================] - 24s 9ms/step - loss: 0.5460 - accuracy: 0.7145 - val_loss: 0.5590 - val_accuracy: 0.7008\n",
            "Epoch 46/100\n",
            "2667/2667 [==============================] - 24s 9ms/step - loss: 0.5535 - accuracy: 0.7059 - val_loss: 0.5315 - val_accuracy: 0.7227\n",
            "Epoch 47/100\n",
            "2667/2667 [==============================] - 24s 9ms/step - loss: 0.6002 - accuracy: 0.6678 - val_loss: 0.5487 - val_accuracy: 0.7137\n",
            "Epoch 48/100\n",
            "2667/2667 [==============================] - 24s 9ms/step - loss: 0.5572 - accuracy: 0.7084 - val_loss: 0.5742 - val_accuracy: 0.6914\n",
            "Epoch 49/100\n",
            "2667/2667 [==============================] - 24s 9ms/step - loss: 0.5665 - accuracy: 0.6968 - val_loss: 0.5541 - val_accuracy: 0.7029\n",
            "Epoch 50/100\n",
            "2667/2667 [==============================] - 24s 9ms/step - loss: 0.5670 - accuracy: 0.6945 - val_loss: 0.5635 - val_accuracy: 0.6968\n",
            "Epoch 51/100\n",
            "2667/2667 [==============================] - 24s 9ms/step - loss: 0.5599 - accuracy: 0.7033 - val_loss: 0.5780 - val_accuracy: 0.6886\n",
            "Epoch 52/100\n",
            "2667/2667 [==============================] - 24s 9ms/step - loss: 0.5687 - accuracy: 0.6964 - val_loss: 0.5654 - val_accuracy: 0.6959\n",
            "Epoch 53/100\n",
            "2667/2667 [==============================] - 24s 9ms/step - loss: 0.5657 - accuracy: 0.6965 - val_loss: 0.5306 - val_accuracy: 0.7211\n",
            "Epoch 54/100\n",
            "2667/2667 [==============================] - 24s 9ms/step - loss: 0.5469 - accuracy: 0.7138 - val_loss: 0.5944 - val_accuracy: 0.6781\n",
            "Epoch 55/100\n",
            "2667/2667 [==============================] - 25s 9ms/step - loss: 0.5836 - accuracy: 0.6826 - val_loss: 0.6229 - val_accuracy: 0.6515\n",
            "Epoch 56/100\n",
            "2667/2667 [==============================] - 24s 9ms/step - loss: 0.6081 - accuracy: 0.6622 - val_loss: 0.6250 - val_accuracy: 0.6478\n",
            "Epoch 57/100\n",
            "2667/2667 [==============================] - 24s 9ms/step - loss: 0.6201 - accuracy: 0.6556 - val_loss: 0.6007 - val_accuracy: 0.6709\n",
            "Epoch 58/100\n",
            "2667/2667 [==============================] - 24s 9ms/step - loss: 0.5878 - accuracy: 0.6821 - val_loss: 0.5649 - val_accuracy: 0.6962\n",
            "Epoch 59/100\n",
            "2667/2667 [==============================] - 24s 9ms/step - loss: 0.5768 - accuracy: 0.6894 - val_loss: 0.5741 - val_accuracy: 0.6896\n",
            "Epoch 60/100\n",
            "2667/2667 [==============================] - 24s 9ms/step - loss: 0.5753 - accuracy: 0.6894 - val_loss: 0.5628 - val_accuracy: 0.6957\n",
            "Epoch 61/100\n",
            "2667/2667 [==============================] - 24s 9ms/step - loss: 0.5648 - accuracy: 0.6979 - val_loss: 0.5590 - val_accuracy: 0.6971\n",
            "Epoch 62/100\n",
            "2667/2667 [==============================] - 24s 9ms/step - loss: 0.5702 - accuracy: 0.6919 - val_loss: 0.5565 - val_accuracy: 0.6991\n",
            "Epoch 63/100\n",
            "2667/2667 [==============================] - 24s 9ms/step - loss: 0.5622 - accuracy: 0.6978 - val_loss: 0.5524 - val_accuracy: 0.7039\n",
            "Epoch 64/100\n",
            "2667/2667 [==============================] - 25s 9ms/step - loss: 0.5554 - accuracy: 0.7030 - val_loss: 0.5565 - val_accuracy: 0.7027\n",
            "Epoch 65/100\n",
            "2667/2667 [==============================] - 24s 9ms/step - loss: 0.5616 - accuracy: 0.7004 - val_loss: 0.5967 - val_accuracy: 0.6744\n",
            "Epoch 66/100\n",
            "2667/2667 [==============================] - 24s 9ms/step - loss: 0.5939 - accuracy: 0.6744 - val_loss: 0.5694 - val_accuracy: 0.6894\n",
            "Epoch 67/100\n",
            "2667/2667 [==============================] - 25s 9ms/step - loss: 0.5638 - accuracy: 0.6964 - val_loss: 0.5639 - val_accuracy: 0.6968\n",
            "Epoch 68/100\n",
            "2667/2667 [==============================] - 24s 9ms/step - loss: 0.5588 - accuracy: 0.6987 - val_loss: 0.5483 - val_accuracy: 0.7066\n",
            "Epoch 69/100\n",
            "2667/2667 [==============================] - 24s 9ms/step - loss: 0.5770 - accuracy: 0.6865 - val_loss: 0.5902 - val_accuracy: 0.6755\n",
            "Epoch 70/100\n",
            "2667/2667 [==============================] - 24s 9ms/step - loss: 0.5878 - accuracy: 0.6793 - val_loss: 0.5610 - val_accuracy: 0.6963\n",
            "Epoch 71/100\n",
            "2667/2667 [==============================] - 24s 9ms/step - loss: 0.5636 - accuracy: 0.6972 - val_loss: 0.5575 - val_accuracy: 0.7008\n",
            "Epoch 72/100\n",
            "2667/2667 [==============================] - 24s 9ms/step - loss: 0.5667 - accuracy: 0.6958 - val_loss: 0.6068 - val_accuracy: 0.6604\n",
            "Epoch 73/100\n",
            "2667/2667 [==============================] - 25s 9ms/step - loss: 0.5909 - accuracy: 0.6779 - val_loss: 0.5765 - val_accuracy: 0.6907\n",
            "Epoch 74/100\n",
            "2667/2667 [==============================] - 24s 9ms/step - loss: 0.5781 - accuracy: 0.6925 - val_loss: 0.5711 - val_accuracy: 0.6936\n",
            "Epoch 75/100\n",
            "2667/2667 [==============================] - 24s 9ms/step - loss: 0.5672 - accuracy: 0.6961 - val_loss: 0.5602 - val_accuracy: 0.7001\n",
            "Epoch 76/100\n",
            "2667/2667 [==============================] - 24s 9ms/step - loss: 0.5900 - accuracy: 0.6792 - val_loss: 0.6225 - val_accuracy: 0.6507\n",
            "Epoch 77/100\n",
            "2667/2667 [==============================] - 25s 9ms/step - loss: 0.6159 - accuracy: 0.6601 - val_loss: 0.5914 - val_accuracy: 0.6768\n",
            "Epoch 78/100\n",
            "2667/2667 [==============================] - 25s 9ms/step - loss: 0.6043 - accuracy: 0.6660 - val_loss: 0.6245 - val_accuracy: 0.6467\n",
            "Epoch 79/100\n",
            "2667/2667 [==============================] - 24s 9ms/step - loss: 0.6256 - accuracy: 0.6440 - val_loss: 0.6926 - val_accuracy: 0.5023\n",
            "Epoch 80/100\n",
            "2667/2667 [==============================] - 25s 9ms/step - loss: 0.6833 - accuracy: 0.5465 - val_loss: 0.5986 - val_accuracy: 0.6650\n",
            "Epoch 81/100\n",
            "2667/2667 [==============================] - 24s 9ms/step - loss: 0.5862 - accuracy: 0.6834 - val_loss: 0.5645 - val_accuracy: 0.6946\n",
            "Epoch 82/100\n",
            "2667/2667 [==============================] - 24s 9ms/step - loss: 0.5659 - accuracy: 0.6961 - val_loss: 0.5528 - val_accuracy: 0.7041\n",
            "Epoch 83/100\n",
            "2667/2667 [==============================] - 25s 9ms/step - loss: 0.5657 - accuracy: 0.6940 - val_loss: 0.5522 - val_accuracy: 0.7082\n",
            "Epoch 84/100\n",
            "2667/2667 [==============================] - 25s 9ms/step - loss: 0.5615 - accuracy: 0.6993 - val_loss: 0.5830 - val_accuracy: 0.6800\n",
            "Epoch 85/100\n",
            "2667/2667 [==============================] - 25s 9ms/step - loss: 0.5753 - accuracy: 0.6905 - val_loss: 0.5595 - val_accuracy: 0.6992\n",
            "Epoch 86/100\n",
            "2667/2667 [==============================] - 24s 9ms/step - loss: 0.5670 - accuracy: 0.6947 - val_loss: 0.5554 - val_accuracy: 0.7004\n",
            "Epoch 87/100\n",
            "2667/2667 [==============================] - 24s 9ms/step - loss: 0.5593 - accuracy: 0.7001 - val_loss: 0.5421 - val_accuracy: 0.7126\n",
            "Epoch 88/100\n",
            "2667/2667 [==============================] - 24s 9ms/step - loss: 0.5800 - accuracy: 0.6839 - val_loss: 0.5757 - val_accuracy: 0.6848\n",
            "Epoch 89/100\n",
            "2667/2667 [==============================] - 25s 9ms/step - loss: 0.5783 - accuracy: 0.6858 - val_loss: 0.5691 - val_accuracy: 0.6900\n",
            "Epoch 90/100\n",
            "2667/2667 [==============================] - 25s 9ms/step - loss: 0.5745 - accuracy: 0.6872 - val_loss: 0.6028 - val_accuracy: 0.6665\n",
            "Epoch 91/100\n",
            "2667/2667 [==============================] - 25s 9ms/step - loss: 0.5860 - accuracy: 0.6811 - val_loss: 0.5699 - val_accuracy: 0.6904\n",
            "Epoch 92/100\n",
            "2667/2667 [==============================] - 25s 9ms/step - loss: 0.5778 - accuracy: 0.6853 - val_loss: 0.5700 - val_accuracy: 0.6862\n",
            "Epoch 93/100\n",
            "2667/2667 [==============================] - 24s 9ms/step - loss: 0.5810 - accuracy: 0.6836 - val_loss: 0.5696 - val_accuracy: 0.6881\n",
            "Epoch 94/100\n",
            "2667/2667 [==============================] - 25s 9ms/step - loss: 0.5748 - accuracy: 0.6869 - val_loss: 0.5670 - val_accuracy: 0.6894\n",
            "Epoch 95/100\n",
            "2667/2667 [==============================] - 24s 9ms/step - loss: 0.5744 - accuracy: 0.6868 - val_loss: 0.5675 - val_accuracy: 0.6894\n",
            "Epoch 96/100\n",
            "2667/2667 [==============================] - 24s 9ms/step - loss: 0.5767 - accuracy: 0.6848 - val_loss: 0.5705 - val_accuracy: 0.6914\n",
            "Epoch 97/100\n",
            "2667/2667 [==============================] - 25s 9ms/step - loss: 0.5758 - accuracy: 0.6885 - val_loss: 0.5562 - val_accuracy: 0.6985\n",
            "Epoch 98/100\n",
            "2667/2667 [==============================] - 25s 9ms/step - loss: 0.5544 - accuracy: 0.7071 - val_loss: 0.4820 - val_accuracy: 0.7635\n",
            "Epoch 99/100\n",
            "2667/2667 [==============================] - 24s 9ms/step - loss: 0.5069 - accuracy: 0.7451 - val_loss: 0.5625 - val_accuracy: 0.6961\n",
            "Epoch 100/100\n",
            "2667/2667 [==============================] - 25s 9ms/step - loss: 0.5829 - accuracy: 0.6830 - val_loss: 0.5852 - val_accuracy: 0.6788\n",
            "Fold 3, 100 epochs, 2484 sec\n"
          ],
          "name": "stdout"
        },
        {
          "output_type": "display_data",
          "data": {
            "image/png": "[encoded data removed]",
            "text/plain": [
              "<Figure size 576x360 with 1 Axes>"
            ]
          },
          "metadata": {
            "tags": [],
            "needs_background": "light"
          }
        }
      ]
    },
    {
      "cell_type": "code",
      "metadata": {
        "colab": {
          "base_uri": "https://localhost:8080/"
        },
        "id": "e-jG1h5fj2Ua",
        "outputId": "060be3a0-c39b-4f0c-c972-5a0796206a7c"
      },
      "source": [
        "from keras.models import load_model\n",
        "X,y = prepare_inputs_len_x_alphabet(pc_test,nc_test,ALPHABET)\n",
        "best_model=load_model(MODELPATH)\n",
        "scores = best_model.evaluate(X, y, verbose=0)\n",
        "print(\"The best model parameters were saved during cross-validation.\")\n",
        "print(\"Best was defined as maximum validation accuracy at end of any epoch.\")\n",
        "print(\"Now re-load the best model and test it on previously unseen data.\")\n",
        "print(\"Test on\",len(pc_test),\"PC seqs\")\n",
        "print(\"Test on\",len(nc_test),\"NC seqs\")\n",
        "print(\"%s: %.2f%%\" % (best_model.metrics_names[1], scores[1]*100))\n"
      ],
      "execution_count": 12,
      "outputs": [
        {
          "output_type": "stream",
          "text": [
            "The best model parameters were saved during cross-validation.\n",
            "Best was defined as maximum validation accuracy at end of any epoch.\n",
            "Now re-load the best model and test it on previously unseen data.\n",
            "Test on 1000 PC seqs\n",
            "Test on 1000 NC seqs\n",
            "accuracy: 92.85%\n"
          ],
          "name": "stdout"
        }
      ]
    },
    {
      "cell_type": "code",
      "metadata": {
        "colab": {
          "base_uri": "https://localhost:8080/",
          "height": 312
        },
        "id": "VycUnmvUj2Ue",
        "outputId": "b7fc4c4c-36ae-401c-d1a8-2e70035108f5"
      },
      "source": [
        "from sklearn.metrics import roc_curve\n",
        "from sklearn.metrics import roc_auc_score\n",
        "ns_probs = [0 for _ in range(len(y))]\n",
        "bm_probs = best_model.predict(X)\n",
        "ns_auc = roc_auc_score(y, ns_probs)\n",
        "bm_auc = roc_auc_score(y, bm_probs)\n",
        "ns_fpr, ns_tpr, _ = roc_curve(y, ns_probs)\n",
        "bm_fpr, bm_tpr, _ = roc_curve(y, bm_probs)\n",
        "plt.plot(ns_fpr, ns_tpr, linestyle='--', label='Guess, auc=%.4f'%ns_auc)\n",
        "plt.plot(bm_fpr, bm_tpr, marker='.', label='Model, auc=%.4f'%bm_auc)\n",
        "plt.title('ROC')\n",
        "plt.xlabel('False Positive Rate')\n",
        "plt.ylabel('True Positive Rate')\n",
        "plt.legend()\n",
        "plt.show()\n",
        "print(\"%s: %.2f%%\" %('AUC',bm_auc*100.0))\n"
      ],
      "execution_count": 13,
      "outputs": [
        {
          "output_type": "display_data",
          "data": {
            "image/png": "[encoded data removed]",
            "text/plain": [
              "<Figure size 432x288 with 1 Axes>"
            ]
          },
          "metadata": {
            "tags": [],
            "needs_background": "light"
          }
        },
        {
          "output_type": "stream",
          "text": [
            "AUC: 98.54%\n"
          ],
          "name": "stdout"
        }
      ]
    },
    {
      "cell_type": "code",
      "metadata": {
        "colab": {
          "base_uri": "https://localhost:8080/",
          "height": 36
        },
        "id": "kFMb6rGNj2Ug",
        "outputId": "01796b0d-b81d-482e-cc5c-56940dc8344a"
      },
      "source": [
        "t = time.time()\n",
        "time.strftime('%Y-%m-%d %H:%M:%S %Z', time.localtime(t))"
      ],
      "execution_count": 14,
      "outputs": [
        {
          "output_type": "execute_result",
          "data": {
            "application/vnd.google.colaboratory.intrinsic+json": {
              "type": "string"
            },
            "text/plain": [
              "'2021-06-22 18:00:12 UTC'"
            ]
          },
          "metadata": {
            "tags": []
          },
          "execution_count": 14
        }
      ]
    },
    {
      "cell_type": "code",
      "metadata": {
        "id": "e-mEgDrQjUzF"
      },
      "source": [
        ""
      ],
      "execution_count": 14,
      "outputs": []
    }
  ]
}