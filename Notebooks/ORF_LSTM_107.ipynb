{
 "cells": [
  {
   "cell_type": "markdown",
   "metadata": {
    "id": "0asdcdunj2Tx"
   },
   "source": [
    "# ORF recognition by LSTM\n",
    "LSTM can only detect short ORFs. Using simulated RNA in which the ORF takes up half the sequence, LSTM recognizes ORFs in RNA of length 100 (ORF length 50) but not RNA of length 200 (ORF length 100). Here, try RNA of length 125.\n"
   ]
  },
  {
   "cell_type": "code",
   "execution_count": 13,
   "metadata": {
    "colab": {
     "base_uri": "https://localhost:8080/",
     "height": 36
    },
    "id": "QP1VTRNQj2UO",
    "outputId": "58cf4614-7cc1-4ca1-c56b-74f12e46f364"
   },
   "outputs": [
    {
     "data": {
      "application/vnd.google.colaboratory.intrinsic+json": {
       "type": "string"
      },
      "text/plain": [
       "'2021-05-18 12:13:09 UTC'"
      ]
     },
     "execution_count": 13,
     "metadata": {
      "tags": []
     },
     "output_type": "execute_result"
    }
   ],
   "source": [
    "import time \n",
    "t = time.time()\n",
    "time.strftime('%Y-%m-%d %H:%M:%S %Z', time.localtime(t))"
   ]
  },
  {
   "cell_type": "code",
   "execution_count": 14,
   "metadata": {
    "id": "Nhz4GKonj2T_"
   },
   "outputs": [],
   "source": [
    "PC_SEQUENCES=20000   # how many protein-coding sequences\n",
    "NC_SEQUENCES=20000   # how many non-coding sequences\n",
    "PC_TESTS=1000\n",
    "NC_TESTS=1000\n",
    "BASES=125            # how long is each sequence\n",
    "ALPHABET=4          # how many different letters are possible\n",
    "INPUT_SHAPE_2D = (BASES,ALPHABET,1) # Conv2D needs 3D inputs\n",
    "INPUT_SHAPE = (BASES,ALPHABET) # Conv1D needs 2D inputs\n",
    "NEURONS = 32\n",
    "#DROP_RATE = 0.2\n",
    "EPOCHS=50  # how many times to train on all the data\n",
    "SPLITS=5  # SPLITS=3 means train on 2/3 and validate on 1/3 \n",
    "FOLDS=5  # train the model this many times (range 1 to SPLITS)"
   ]
  },
  {
   "cell_type": "code",
   "execution_count": 15,
   "metadata": {
    "colab": {
     "base_uri": "https://localhost:8080/"
    },
    "id": "lr7q90rxj2UE",
    "outputId": "6e6670fb-307f-4e93-bf80-7bab47ef7ed7"
   },
   "outputs": [
    {
     "name": "stdout",
     "output_type": "stream",
     "text": [
      "On Google CoLab, mount cloud-local file, get our code from GitHub.\n"
     ]
    }
   ],
   "source": [
    "import sys\n",
    "try:\n",
    "    from google.colab import drive\n",
    "    IN_COLAB = True\n",
    "    print(\"On Google CoLab, mount cloud-local file, get our code from GitHub.\")\n",
    "    PATH='/content/drive/'\n",
    "    #drive.mount(PATH,force_remount=True)  # hardly ever need this\n",
    "    #drive.mount(PATH)    # Google will require login credentials\n",
    "    DATAPATH=PATH+'My Drive/data/'  # must end in \"/\"\n",
    "    import requests\n",
    "    r = requests.get('https://raw.githubusercontent.com/ShepherdCode/Soars2021/master/SimTools/RNA_gen.py')\n",
    "    with open('RNA_gen.py', 'w') as f:\n",
    "        f.write(r.text)  \n",
    "    from RNA_gen import *\n",
    "    r = requests.get('https://raw.githubusercontent.com/ShepherdCode/Soars2021/master/SimTools/RNA_describe.py')\n",
    "    with open('RNA_describe.py', 'w') as f:\n",
    "        f.write(r.text)  \n",
    "    from RNA_describe import *\n",
    "    r = requests.get('https://raw.githubusercontent.com/ShepherdCode/Soars2021/master/SimTools/RNA_prep.py')\n",
    "    with open('RNA_prep.py', 'w') as f:\n",
    "        f.write(r.text)  \n",
    "    from RNA_prep import *\n",
    "except:\n",
    "    print(\"CoLab not working. On my PC, use relative paths.\")\n",
    "    IN_COLAB = False\n",
    "    DATAPATH='data/'  # must end in \"/\"\n",
    "    sys.path.append(\"..\") # append parent dir in order to use sibling dirs\n",
    "    from SimTools.RNA_gen import *\n",
    "    from SimTools.RNA_describe import *\n",
    "    from SimTools.RNA_prep import *\n",
    "\n",
    "MODELPATH=\"BestModel\"  # saved on cloud instance and lost after logout\n",
    "#MODELPATH=DATAPATH+MODELPATH  # saved on Google Drive but requires login\n",
    "\n",
    "if not assert_imported_RNA_gen():\n",
    "    print(\"ERROR: Cannot use RNA_gen.\")\n",
    "if not assert_imported_RNA_prep():\n",
    "    print(\"ERROR: Cannot use RNA_prep.\")"
   ]
  },
  {
   "cell_type": "code",
   "execution_count": 16,
   "metadata": {
    "id": "EGDXH8Uwj2UM"
   },
   "outputs": [],
   "source": [
    "from os import listdir\n",
    "import csv\n",
    "from zipfile import ZipFile\n",
    "\n",
    "import numpy as np\n",
    "import pandas as pd\n",
    "from scipy import stats  # mode\n",
    "\n",
    "from sklearn.preprocessing import StandardScaler\n",
    "from sklearn.model_selection import KFold\n",
    "from sklearn.model_selection import cross_val_score\n",
    "\n",
    "from keras.models import Sequential\n",
    "from keras.layers import Dense,Embedding,Dropout\n",
    "from keras.layers import LSTM\n",
    "from keras.losses import BinaryCrossentropy\n",
    "# tf.keras.losses.BinaryCrossentropy\n",
    "\n",
    "import matplotlib.pyplot as plt\n",
    "from matplotlib import colors\n",
    "mycmap = colors.ListedColormap(['red','blue'])  # list color for label 0 then 1\n",
    "np.set_printoptions(precision=2)\n"
   ]
  },
  {
   "cell_type": "code",
   "execution_count": 17,
   "metadata": {
    "colab": {
     "base_uri": "https://localhost:8080/"
    },
    "id": "Q0FetlLPj2UQ",
    "outputId": "e122dc4e-bc1c-495a-c76c-3e5e90a8079d"
   },
   "outputs": [
    {
     "name": "stdout",
     "output_type": "stream",
     "text": [
      "Train on 20000 PC seqs\n",
      "Facts array: <class 'numpy.ndarray'>\n",
      "Facts array: (20000, 3)\n",
      "mean 5' UTR length: 29 +/- 9\n",
      "mean    ORF length: 64 +/- 12\n",
      "mean 3' UTR length: 31 +/- 7\n",
      "Train on 20000 NC seqs\n",
      "Facts array: <class 'numpy.ndarray'>\n",
      "Facts array: (20000, 3)\n",
      "mean 5' UTR length: 48 +/- 25\n",
      "mean    ORF length: 25 +/- 28\n",
      "mean 3' UTR length: 50 +/- 24\n"
     ]
    }
   ],
   "source": [
    "# Use code from our SimTools library.\n",
    "def make_generators(seq_len):\n",
    "    pcgen = Collection_Generator()  \n",
    "    pcgen.get_len_oracle().set_mean(seq_len)\n",
    "    pcgen.set_seq_oracle(Transcript_Oracle())\n",
    "    ncgen = Collection_Generator()  \n",
    "    ncgen.get_len_oracle().set_mean(seq_len)\n",
    "    return pcgen,ncgen\n",
    "def get_the_facts(seqs):\n",
    "    rd = RNA_describer()\n",
    "    facts = rd.get_three_lengths(seqs)\n",
    "    facts_ary = np.asarray(facts) # 5000 rows, 3 columns \n",
    "    print(\"Facts array:\",type(facts_ary))\n",
    "    print(\"Facts array:\",facts_ary.shape)\n",
    "    # Get the mean of each column\n",
    "    mean_5utr, mean_orf, mean_3utr = np.mean(facts_ary,axis=0)\n",
    "    std_5utr, std_orf, std_3utr = np.std(facts_ary,axis=0)\n",
    "    print(\"mean 5' UTR length:\",int(mean_5utr),\"+/-\",int(std_5utr))\n",
    "    print(\"mean    ORF length:\",int(mean_orf), \"+/-\",int(std_orf))\n",
    "    print(\"mean 3' UTR length:\",int(mean_3utr),\"+/-\",int(std_3utr))\n",
    "\n",
    "pc_sim,nc_sim = make_generators(BASES)\n",
    "pc_train = pc_sim.get_sequences(PC_SEQUENCES)\n",
    "nc_train = nc_sim.get_sequences(NC_SEQUENCES)\n",
    "print(\"Train on\",len(pc_train),\"PC seqs\")\n",
    "get_the_facts(pc_train)\n",
    "print(\"Train on\",len(nc_train),\"NC seqs\")\n",
    "get_the_facts(nc_train)"
   ]
  },
  {
   "cell_type": "code",
   "execution_count": 18,
   "metadata": {
    "colab": {
     "base_uri": "https://localhost:8080/"
    },
    "id": "CIpTrnH6j2US",
    "outputId": "f00c65ef-b68d-4dbd-bdd2-7b5725f1a960"
   },
   "outputs": [
    {
     "name": "stdout",
     "output_type": "stream",
     "text": [
      "Data ready.\n"
     ]
    }
   ],
   "source": [
    "# Use code from our SimTools library.\n",
    "X,y = prepare_inputs_len_x_alphabet(pc_train,nc_train,ALPHABET) # shuffles\n",
    "print(\"Data ready.\")"
   ]
  },
  {
   "cell_type": "code",
   "execution_count": 19,
   "metadata": {
    "colab": {
     "base_uri": "https://localhost:8080/"
    },
    "id": "7NvrVU8ij2UU",
    "outputId": "9f7fdb21-284d-4e8d-d11f-84c12601c6b4"
   },
   "outputs": [
    {
     "name": "stdout",
     "output_type": "stream",
     "text": [
      "make_DNN\n",
      "input shape: (125, 4)\n",
      "Model: \"sequential_6\"\n",
      "_________________________________________________________________\n",
      "Layer (type)                 Output Shape              Param #   \n",
      "=================================================================\n",
      "lstm_12 (LSTM)               (None, 125, 32)           4736      \n",
      "_________________________________________________________________\n",
      "lstm_13 (LSTM)               (None, 32)                8320      \n",
      "_________________________________________________________________\n",
      "dense_12 (Dense)             (None, 32)                1056      \n",
      "_________________________________________________________________\n",
      "dense_13 (Dense)             (None, 1)                 33        \n",
      "=================================================================\n",
      "Total params: 14,145\n",
      "Trainable params: 14,145\n",
      "Non-trainable params: 0\n",
      "_________________________________________________________________\n",
      "None\n"
     ]
    }
   ],
   "source": [
    "def make_DNN():\n",
    "    print(\"make_DNN\")\n",
    "    print(\"input shape:\",INPUT_SHAPE)\n",
    "    dnn = Sequential()\n",
    "    #dnn.add(Embedding(input_dim=ALPHABET, output_dim=ALPHABET))\n",
    "        #VOCABULARY_SIZE, EMBED_DIMEN, input_length=1000, input_length=1000, mask_zero=True)\n",
    "        #input_dim=[None,VOCABULARY_SIZE], output_dim=EMBED_DIMEN, mask_zero=True)\n",
    "    dnn.add(LSTM(NEURONS,return_sequences=True,input_shape=INPUT_SHAPE))\n",
    "    dnn.add(LSTM(NEURONS,return_sequences=False)) \n",
    "    dnn.add(Dense(NEURONS,activation=\"sigmoid\",dtype=np.float32))   \n",
    "    dnn.add(Dense(1,activation=\"sigmoid\",dtype=np.float32))   \n",
    "    dnn.compile(optimizer='adam',\n",
    "                loss=BinaryCrossentropy(from_logits=False),\n",
    "                metrics=['accuracy'])   # add to default metrics=loss\n",
    "    dnn.build() # input_shape=INPUT_SHAPE)\n",
    "    #ln_rate = tf.keras.optimizers.Adam(learning_rate = LN_RATE)\n",
    "    #bc=tf.keras.losses.BinaryCrossentropy(from_logits=False)\n",
    "    #model.compile(loss=bc, optimizer=ln_rate, metrics=[\"accuracy\"])\n",
    "    return dnn\n",
    "model = make_DNN()\n",
    "print(model.summary())"
   ]
  },
  {
   "cell_type": "code",
   "execution_count": 20,
   "metadata": {
    "id": "nlVF0hR3j2UW"
   },
   "outputs": [],
   "source": [
    "from keras.callbacks import ModelCheckpoint\n",
    "def do_cross_validation(X,y):\n",
    "    cv_scores = []\n",
    "    fold=0\n",
    "    mycallbacks = [ModelCheckpoint(\n",
    "        filepath=MODELPATH, save_best_only=True, \n",
    "        monitor='val_accuracy', mode='max')]   \n",
    "    splitter = KFold(n_splits=SPLITS)  # this does not shuffle\n",
    "    for train_index,valid_index in splitter.split(X):\n",
    "        if fold < FOLDS:\n",
    "            fold += 1\n",
    "            X_train=X[train_index] # inputs for training\n",
    "            y_train=y[train_index] # labels for training\n",
    "            X_valid=X[valid_index] # inputs for validation\n",
    "            y_valid=y[valid_index] # labels for validation\n",
    "            print(\"MODEL\")\n",
    "            # Call constructor on each CV. Else, continually improves the same model.\n",
    "            model = model = make_DNN()\n",
    "            print(\"FIT\")  # model.fit() implements learning\n",
    "            start_time=time.time()\n",
    "            history=model.fit(X_train, y_train, \n",
    "                    epochs=EPOCHS, \n",
    "                    verbose=1,  # ascii art while learning\n",
    "                    callbacks=mycallbacks,   # called at end of each epoch\n",
    "                    validation_data=(X_valid,y_valid))\n",
    "            end_time=time.time()\n",
    "            elapsed_time=(end_time-start_time)                        \n",
    "            print(\"Fold %d, %d epochs, %d sec\"%(fold,EPOCHS,elapsed_time))\n",
    "            # print(history.history.keys())  # all these keys will be shown in figure\n",
    "            pd.DataFrame(history.history).plot(figsize=(8,5))\n",
    "            plt.grid(True)\n",
    "            plt.gca().set_ylim(0,1) # any losses > 1 will be off the scale\n",
    "            plt.show()\n"
   ]
  },
  {
   "cell_type": "code",
   "execution_count": 21,
   "metadata": {
    "colab": {
     "base_uri": "https://localhost:8080/",
     "height": 1000
    },
    "id": "9Ggt4EsSj2UY",
    "outputId": "42434d22-3967-4839-ffb1-5df6b1b5e016"
   },
   "outputs": [
    {
     "name": "stdout",
     "output_type": "stream",
     "text": [
      "MODEL\n",
      "make_DNN\n",
      "input shape: (125, 4)\n",
      "FIT\n",
      "Epoch 1/50\n",
      "1000/1000 [==============================] - 13s 11ms/step - loss: 0.6908 - accuracy: 0.5208 - val_loss: 0.6757 - val_accuracy: 0.5825\n"
     ]
    },
    {
     "name": "stderr",
     "output_type": "stream",
     "text": [
      "WARNING:absl:Found untraced functions such as lstm_cell_16_layer_call_fn, lstm_cell_16_layer_call_and_return_conditional_losses, lstm_cell_17_layer_call_fn, lstm_cell_17_layer_call_and_return_conditional_losses, lstm_cell_16_layer_call_fn while saving (showing 5 of 10). These functions will not be directly callable after loading.\n",
      "WARNING:absl:Found untraced functions such as lstm_cell_16_layer_call_fn, lstm_cell_16_layer_call_and_return_conditional_losses, lstm_cell_17_layer_call_fn, lstm_cell_17_layer_call_and_return_conditional_losses, lstm_cell_16_layer_call_fn while saving (showing 5 of 10). These functions will not be directly callable after loading.\n"
     ]
    },
    {
     "name": "stdout",
     "output_type": "stream",
     "text": [
      "INFO:tensorflow:Assets written to: BestModel/assets\n"
     ]
    },
    {
     "name": "stderr",
     "output_type": "stream",
     "text": [
      "INFO:tensorflow:Assets written to: BestModel/assets\n"
     ]
    },
    {
     "name": "stdout",
     "output_type": "stream",
     "text": [
      "Epoch 2/50\n",
      "1000/1000 [==============================] - 10s 10ms/step - loss: 0.6669 - accuracy: 0.5960 - val_loss: 0.6541 - val_accuracy: 0.6146\n"
     ]
    },
    {
     "name": "stderr",
     "output_type": "stream",
     "text": [
      "WARNING:absl:Found untraced functions such as lstm_cell_16_layer_call_fn, lstm_cell_16_layer_call_and_return_conditional_losses, lstm_cell_17_layer_call_fn, lstm_cell_17_layer_call_and_return_conditional_losses, lstm_cell_16_layer_call_fn while saving (showing 5 of 10). These functions will not be directly callable after loading.\n",
      "WARNING:absl:Found untraced functions such as lstm_cell_16_layer_call_fn, lstm_cell_16_layer_call_and_return_conditional_losses, lstm_cell_17_layer_call_fn, lstm_cell_17_layer_call_and_return_conditional_losses, lstm_cell_16_layer_call_fn while saving (showing 5 of 10). These functions will not be directly callable after loading.\n"
     ]
    },
    {
     "name": "stdout",
     "output_type": "stream",
     "text": [
      "INFO:tensorflow:Assets written to: BestModel/assets\n"
     ]
    },
    {
     "name": "stderr",
     "output_type": "stream",
     "text": [
      "INFO:tensorflow:Assets written to: BestModel/assets\n"
     ]
    },
    {
     "name": "stdout",
     "output_type": "stream",
     "text": [
      "Epoch 3/50\n",
      "1000/1000 [==============================] - 10s 10ms/step - loss: 0.6445 - accuracy: 0.6325 - val_loss: 0.6298 - val_accuracy: 0.6461\n"
     ]
    },
    {
     "name": "stderr",
     "output_type": "stream",
     "text": [
      "WARNING:absl:Found untraced functions such as lstm_cell_16_layer_call_fn, lstm_cell_16_layer_call_and_return_conditional_losses, lstm_cell_17_layer_call_fn, lstm_cell_17_layer_call_and_return_conditional_losses, lstm_cell_16_layer_call_fn while saving (showing 5 of 10). These functions will not be directly callable after loading.\n",
      "WARNING:absl:Found untraced functions such as lstm_cell_16_layer_call_fn, lstm_cell_16_layer_call_and_return_conditional_losses, lstm_cell_17_layer_call_fn, lstm_cell_17_layer_call_and_return_conditional_losses, lstm_cell_16_layer_call_fn while saving (showing 5 of 10). These functions will not be directly callable after loading.\n"
     ]
    },
    {
     "name": "stdout",
     "output_type": "stream",
     "text": [
      "INFO:tensorflow:Assets written to: BestModel/assets\n"
     ]
    },
    {
     "name": "stderr",
     "output_type": "stream",
     "text": [
      "INFO:tensorflow:Assets written to: BestModel/assets\n"
     ]
    },
    {
     "name": "stdout",
     "output_type": "stream",
     "text": [
      "Epoch 4/50\n",
      "1000/1000 [==============================] - 10s 10ms/step - loss: 0.6126 - accuracy: 0.6664 - val_loss: 0.4929 - val_accuracy: 0.7797\n"
     ]
    },
    {
     "name": "stderr",
     "output_type": "stream",
     "text": [
      "WARNING:absl:Found untraced functions such as lstm_cell_16_layer_call_fn, lstm_cell_16_layer_call_and_return_conditional_losses, lstm_cell_17_layer_call_fn, lstm_cell_17_layer_call_and_return_conditional_losses, lstm_cell_16_layer_call_fn while saving (showing 5 of 10). These functions will not be directly callable after loading.\n",
      "WARNING:absl:Found untraced functions such as lstm_cell_16_layer_call_fn, lstm_cell_16_layer_call_and_return_conditional_losses, lstm_cell_17_layer_call_fn, lstm_cell_17_layer_call_and_return_conditional_losses, lstm_cell_16_layer_call_fn while saving (showing 5 of 10). These functions will not be directly callable after loading.\n"
     ]
    },
    {
     "name": "stdout",
     "output_type": "stream",
     "text": [
      "INFO:tensorflow:Assets written to: BestModel/assets\n"
     ]
    },
    {
     "name": "stderr",
     "output_type": "stream",
     "text": [
      "INFO:tensorflow:Assets written to: BestModel/assets\n"
     ]
    },
    {
     "name": "stdout",
     "output_type": "stream",
     "text": [
      "Epoch 5/50\n",
      "1000/1000 [==============================] - 10s 10ms/step - loss: 0.4227 - accuracy: 0.8198 - val_loss: 0.3810 - val_accuracy: 0.8378\n"
     ]
    },
    {
     "name": "stderr",
     "output_type": "stream",
     "text": [
      "WARNING:absl:Found untraced functions such as lstm_cell_16_layer_call_fn, lstm_cell_16_layer_call_and_return_conditional_losses, lstm_cell_17_layer_call_fn, lstm_cell_17_layer_call_and_return_conditional_losses, lstm_cell_16_layer_call_fn while saving (showing 5 of 10). These functions will not be directly callable after loading.\n",
      "WARNING:absl:Found untraced functions such as lstm_cell_16_layer_call_fn, lstm_cell_16_layer_call_and_return_conditional_losses, lstm_cell_17_layer_call_fn, lstm_cell_17_layer_call_and_return_conditional_losses, lstm_cell_16_layer_call_fn while saving (showing 5 of 10). These functions will not be directly callable after loading.\n"
     ]
    },
    {
     "name": "stdout",
     "output_type": "stream",
     "text": [
      "INFO:tensorflow:Assets written to: BestModel/assets\n"
     ]
    },
    {
     "name": "stderr",
     "output_type": "stream",
     "text": [
      "INFO:tensorflow:Assets written to: BestModel/assets\n"
     ]
    },
    {
     "name": "stdout",
     "output_type": "stream",
     "text": [
      "Epoch 6/50\n",
      "1000/1000 [==============================] - 10s 10ms/step - loss: 0.3873 - accuracy: 0.8335 - val_loss: 0.3914 - val_accuracy: 0.8300\n",
      "Epoch 7/50\n",
      "1000/1000 [==============================] - 10s 10ms/step - loss: 0.3741 - accuracy: 0.8377 - val_loss: 0.3921 - val_accuracy: 0.8341\n",
      "Epoch 8/50\n",
      "1000/1000 [==============================] - 10s 10ms/step - loss: 0.3722 - accuracy: 0.8389 - val_loss: 0.3734 - val_accuracy: 0.8379\n"
     ]
    },
    {
     "name": "stderr",
     "output_type": "stream",
     "text": [
      "WARNING:absl:Found untraced functions such as lstm_cell_16_layer_call_fn, lstm_cell_16_layer_call_and_return_conditional_losses, lstm_cell_17_layer_call_fn, lstm_cell_17_layer_call_and_return_conditional_losses, lstm_cell_16_layer_call_fn while saving (showing 5 of 10). These functions will not be directly callable after loading.\n",
      "WARNING:absl:Found untraced functions such as lstm_cell_16_layer_call_fn, lstm_cell_16_layer_call_and_return_conditional_losses, lstm_cell_17_layer_call_fn, lstm_cell_17_layer_call_and_return_conditional_losses, lstm_cell_16_layer_call_fn while saving (showing 5 of 10). These functions will not be directly callable after loading.\n"
     ]
    },
    {
     "name": "stdout",
     "output_type": "stream",
     "text": [
      "INFO:tensorflow:Assets written to: BestModel/assets\n"
     ]
    },
    {
     "name": "stderr",
     "output_type": "stream",
     "text": [
      "INFO:tensorflow:Assets written to: BestModel/assets\n"
     ]
    },
    {
     "name": "stdout",
     "output_type": "stream",
     "text": [
      "Epoch 9/50\n",
      "1000/1000 [==============================] - 10s 10ms/step - loss: 0.3701 - accuracy: 0.8348 - val_loss: 0.3606 - val_accuracy: 0.8382\n"
     ]
    },
    {
     "name": "stderr",
     "output_type": "stream",
     "text": [
      "WARNING:absl:Found untraced functions such as lstm_cell_16_layer_call_fn, lstm_cell_16_layer_call_and_return_conditional_losses, lstm_cell_17_layer_call_fn, lstm_cell_17_layer_call_and_return_conditional_losses, lstm_cell_16_layer_call_fn while saving (showing 5 of 10). These functions will not be directly callable after loading.\n",
      "WARNING:absl:Found untraced functions such as lstm_cell_16_layer_call_fn, lstm_cell_16_layer_call_and_return_conditional_losses, lstm_cell_17_layer_call_fn, lstm_cell_17_layer_call_and_return_conditional_losses, lstm_cell_16_layer_call_fn while saving (showing 5 of 10). These functions will not be directly callable after loading.\n"
     ]
    },
    {
     "name": "stdout",
     "output_type": "stream",
     "text": [
      "INFO:tensorflow:Assets written to: BestModel/assets\n"
     ]
    },
    {
     "name": "stderr",
     "output_type": "stream",
     "text": [
      "INFO:tensorflow:Assets written to: BestModel/assets\n"
     ]
    },
    {
     "name": "stdout",
     "output_type": "stream",
     "text": [
      "Epoch 10/50\n",
      "1000/1000 [==============================] - 10s 10ms/step - loss: 0.3535 - accuracy: 0.8447 - val_loss: 0.3560 - val_accuracy: 0.8416\n"
     ]
    },
    {
     "name": "stderr",
     "output_type": "stream",
     "text": [
      "WARNING:absl:Found untraced functions such as lstm_cell_16_layer_call_fn, lstm_cell_16_layer_call_and_return_conditional_losses, lstm_cell_17_layer_call_fn, lstm_cell_17_layer_call_and_return_conditional_losses, lstm_cell_16_layer_call_fn while saving (showing 5 of 10). These functions will not be directly callable after loading.\n",
      "WARNING:absl:Found untraced functions such as lstm_cell_16_layer_call_fn, lstm_cell_16_layer_call_and_return_conditional_losses, lstm_cell_17_layer_call_fn, lstm_cell_17_layer_call_and_return_conditional_losses, lstm_cell_16_layer_call_fn while saving (showing 5 of 10). These functions will not be directly callable after loading.\n"
     ]
    },
    {
     "name": "stdout",
     "output_type": "stream",
     "text": [
      "INFO:tensorflow:Assets written to: BestModel/assets\n"
     ]
    },
    {
     "name": "stderr",
     "output_type": "stream",
     "text": [
      "INFO:tensorflow:Assets written to: BestModel/assets\n"
     ]
    },
    {
     "name": "stdout",
     "output_type": "stream",
     "text": [
      "Epoch 11/50\n",
      "1000/1000 [==============================] - 10s 10ms/step - loss: 0.3557 - accuracy: 0.8415 - val_loss: 0.3508 - val_accuracy: 0.8441\n"
     ]
    },
    {
     "name": "stderr",
     "output_type": "stream",
     "text": [
      "WARNING:absl:Found untraced functions such as lstm_cell_16_layer_call_fn, lstm_cell_16_layer_call_and_return_conditional_losses, lstm_cell_17_layer_call_fn, lstm_cell_17_layer_call_and_return_conditional_losses, lstm_cell_16_layer_call_fn while saving (showing 5 of 10). These functions will not be directly callable after loading.\n",
      "WARNING:absl:Found untraced functions such as lstm_cell_16_layer_call_fn, lstm_cell_16_layer_call_and_return_conditional_losses, lstm_cell_17_layer_call_fn, lstm_cell_17_layer_call_and_return_conditional_losses, lstm_cell_16_layer_call_fn while saving (showing 5 of 10). These functions will not be directly callable after loading.\n"
     ]
    },
    {
     "name": "stdout",
     "output_type": "stream",
     "text": [
      "INFO:tensorflow:Assets written to: BestModel/assets\n"
     ]
    },
    {
     "name": "stderr",
     "output_type": "stream",
     "text": [
      "INFO:tensorflow:Assets written to: BestModel/assets\n"
     ]
    },
    {
     "name": "stdout",
     "output_type": "stream",
     "text": [
      "Epoch 12/50\n",
      "1000/1000 [==============================] - 10s 10ms/step - loss: 0.3466 - accuracy: 0.8484 - val_loss: 0.3871 - val_accuracy: 0.8316\n",
      "Epoch 13/50\n",
      "1000/1000 [==============================] - 10s 10ms/step - loss: 0.3421 - accuracy: 0.8477 - val_loss: 0.3745 - val_accuracy: 0.8367\n",
      "Epoch 14/50\n",
      "1000/1000 [==============================] - 10s 10ms/step - loss: 0.3323 - accuracy: 0.8569 - val_loss: 0.3340 - val_accuracy: 0.8574\n"
     ]
    },
    {
     "name": "stderr",
     "output_type": "stream",
     "text": [
      "WARNING:absl:Found untraced functions such as lstm_cell_16_layer_call_fn, lstm_cell_16_layer_call_and_return_conditional_losses, lstm_cell_17_layer_call_fn, lstm_cell_17_layer_call_and_return_conditional_losses, lstm_cell_16_layer_call_fn while saving (showing 5 of 10). These functions will not be directly callable after loading.\n",
      "WARNING:absl:Found untraced functions such as lstm_cell_16_layer_call_fn, lstm_cell_16_layer_call_and_return_conditional_losses, lstm_cell_17_layer_call_fn, lstm_cell_17_layer_call_and_return_conditional_losses, lstm_cell_16_layer_call_fn while saving (showing 5 of 10). These functions will not be directly callable after loading.\n"
     ]
    },
    {
     "name": "stdout",
     "output_type": "stream",
     "text": [
      "INFO:tensorflow:Assets written to: BestModel/assets\n"
     ]
    },
    {
     "name": "stderr",
     "output_type": "stream",
     "text": [
      "INFO:tensorflow:Assets written to: BestModel/assets\n"
     ]
    },
    {
     "name": "stdout",
     "output_type": "stream",
     "text": [
      "Epoch 15/50\n",
      "1000/1000 [==============================] - 10s 10ms/step - loss: 0.3263 - accuracy: 0.8604 - val_loss: 0.3196 - val_accuracy: 0.8625\n"
     ]
    },
    {
     "name": "stderr",
     "output_type": "stream",
     "text": [
      "WARNING:absl:Found untraced functions such as lstm_cell_16_layer_call_fn, lstm_cell_16_layer_call_and_return_conditional_losses, lstm_cell_17_layer_call_fn, lstm_cell_17_layer_call_and_return_conditional_losses, lstm_cell_16_layer_call_fn while saving (showing 5 of 10). These functions will not be directly callable after loading.\n",
      "WARNING:absl:Found untraced functions such as lstm_cell_16_layer_call_fn, lstm_cell_16_layer_call_and_return_conditional_losses, lstm_cell_17_layer_call_fn, lstm_cell_17_layer_call_and_return_conditional_losses, lstm_cell_16_layer_call_fn while saving (showing 5 of 10). These functions will not be directly callable after loading.\n"
     ]
    },
    {
     "name": "stdout",
     "output_type": "stream",
     "text": [
      "INFO:tensorflow:Assets written to: BestModel/assets\n"
     ]
    },
    {
     "name": "stderr",
     "output_type": "stream",
     "text": [
      "INFO:tensorflow:Assets written to: BestModel/assets\n"
     ]
    },
    {
     "name": "stdout",
     "output_type": "stream",
     "text": [
      "Epoch 16/50\n",
      "1000/1000 [==============================] - 10s 10ms/step - loss: 0.3111 - accuracy: 0.8714 - val_loss: 0.2998 - val_accuracy: 0.8788\n"
     ]
    },
    {
     "name": "stderr",
     "output_type": "stream",
     "text": [
      "WARNING:absl:Found untraced functions such as lstm_cell_16_layer_call_fn, lstm_cell_16_layer_call_and_return_conditional_losses, lstm_cell_17_layer_call_fn, lstm_cell_17_layer_call_and_return_conditional_losses, lstm_cell_16_layer_call_fn while saving (showing 5 of 10). These functions will not be directly callable after loading.\n",
      "WARNING:absl:Found untraced functions such as lstm_cell_16_layer_call_fn, lstm_cell_16_layer_call_and_return_conditional_losses, lstm_cell_17_layer_call_fn, lstm_cell_17_layer_call_and_return_conditional_losses, lstm_cell_16_layer_call_fn while saving (showing 5 of 10). These functions will not be directly callable after loading.\n"
     ]
    },
    {
     "name": "stdout",
     "output_type": "stream",
     "text": [
      "INFO:tensorflow:Assets written to: BestModel/assets\n"
     ]
    },
    {
     "name": "stderr",
     "output_type": "stream",
     "text": [
      "INFO:tensorflow:Assets written to: BestModel/assets\n"
     ]
    },
    {
     "name": "stdout",
     "output_type": "stream",
     "text": [
      "Epoch 17/50\n",
      "1000/1000 [==============================] - 10s 10ms/step - loss: 0.2879 - accuracy: 0.8834 - val_loss: 0.2764 - val_accuracy: 0.8880\n"
     ]
    },
    {
     "name": "stderr",
     "output_type": "stream",
     "text": [
      "WARNING:absl:Found untraced functions such as lstm_cell_16_layer_call_fn, lstm_cell_16_layer_call_and_return_conditional_losses, lstm_cell_17_layer_call_fn, lstm_cell_17_layer_call_and_return_conditional_losses, lstm_cell_16_layer_call_fn while saving (showing 5 of 10). These functions will not be directly callable after loading.\n",
      "WARNING:absl:Found untraced functions such as lstm_cell_16_layer_call_fn, lstm_cell_16_layer_call_and_return_conditional_losses, lstm_cell_17_layer_call_fn, lstm_cell_17_layer_call_and_return_conditional_losses, lstm_cell_16_layer_call_fn while saving (showing 5 of 10). These functions will not be directly callable after loading.\n"
     ]
    },
    {
     "name": "stdout",
     "output_type": "stream",
     "text": [
      "INFO:tensorflow:Assets written to: BestModel/assets\n"
     ]
    },
    {
     "name": "stderr",
     "output_type": "stream",
     "text": [
      "INFO:tensorflow:Assets written to: BestModel/assets\n"
     ]
    },
    {
     "name": "stdout",
     "output_type": "stream",
     "text": [
      "Epoch 18/50\n",
      "1000/1000 [==============================] - 10s 10ms/step - loss: 0.2811 - accuracy: 0.8879 - val_loss: 0.2688 - val_accuracy: 0.8935\n"
     ]
    },
    {
     "name": "stderr",
     "output_type": "stream",
     "text": [
      "WARNING:absl:Found untraced functions such as lstm_cell_16_layer_call_fn, lstm_cell_16_layer_call_and_return_conditional_losses, lstm_cell_17_layer_call_fn, lstm_cell_17_layer_call_and_return_conditional_losses, lstm_cell_16_layer_call_fn while saving (showing 5 of 10). These functions will not be directly callable after loading.\n",
      "WARNING:absl:Found untraced functions such as lstm_cell_16_layer_call_fn, lstm_cell_16_layer_call_and_return_conditional_losses, lstm_cell_17_layer_call_fn, lstm_cell_17_layer_call_and_return_conditional_losses, lstm_cell_16_layer_call_fn while saving (showing 5 of 10). These functions will not be directly callable after loading.\n"
     ]
    },
    {
     "name": "stdout",
     "output_type": "stream",
     "text": [
      "INFO:tensorflow:Assets written to: BestModel/assets\n"
     ]
    },
    {
     "name": "stderr",
     "output_type": "stream",
     "text": [
      "INFO:tensorflow:Assets written to: BestModel/assets\n"
     ]
    },
    {
     "name": "stdout",
     "output_type": "stream",
     "text": [
      "Epoch 19/50\n",
      "1000/1000 [==============================] - 10s 10ms/step - loss: 0.2703 - accuracy: 0.8956 - val_loss: 0.2833 - val_accuracy: 0.8931\n",
      "Epoch 20/50\n",
      "1000/1000 [==============================] - 10s 10ms/step - loss: 0.2593 - accuracy: 0.9008 - val_loss: 0.2496 - val_accuracy: 0.9054\n"
     ]
    },
    {
     "name": "stderr",
     "output_type": "stream",
     "text": [
      "WARNING:absl:Found untraced functions such as lstm_cell_16_layer_call_fn, lstm_cell_16_layer_call_and_return_conditional_losses, lstm_cell_17_layer_call_fn, lstm_cell_17_layer_call_and_return_conditional_losses, lstm_cell_16_layer_call_fn while saving (showing 5 of 10). These functions will not be directly callable after loading.\n",
      "WARNING:absl:Found untraced functions such as lstm_cell_16_layer_call_fn, lstm_cell_16_layer_call_and_return_conditional_losses, lstm_cell_17_layer_call_fn, lstm_cell_17_layer_call_and_return_conditional_losses, lstm_cell_16_layer_call_fn while saving (showing 5 of 10). These functions will not be directly callable after loading.\n"
     ]
    },
    {
     "name": "stdout",
     "output_type": "stream",
     "text": [
      "INFO:tensorflow:Assets written to: BestModel/assets\n"
     ]
    },
    {
     "name": "stderr",
     "output_type": "stream",
     "text": [
      "INFO:tensorflow:Assets written to: BestModel/assets\n"
     ]
    },
    {
     "name": "stdout",
     "output_type": "stream",
     "text": [
      "Epoch 21/50\n",
      "1000/1000 [==============================] - 10s 10ms/step - loss: 0.2533 - accuracy: 0.9047 - val_loss: 0.2627 - val_accuracy: 0.9004\n",
      "Epoch 22/50\n",
      "1000/1000 [==============================] - 10s 10ms/step - loss: 0.2542 - accuracy: 0.9024 - val_loss: 0.2399 - val_accuracy: 0.9086\n"
     ]
    },
    {
     "name": "stderr",
     "output_type": "stream",
     "text": [
      "WARNING:absl:Found untraced functions such as lstm_cell_16_layer_call_fn, lstm_cell_16_layer_call_and_return_conditional_losses, lstm_cell_17_layer_call_fn, lstm_cell_17_layer_call_and_return_conditional_losses, lstm_cell_16_layer_call_fn while saving (showing 5 of 10). These functions will not be directly callable after loading.\n",
      "WARNING:absl:Found untraced functions such as lstm_cell_16_layer_call_fn, lstm_cell_16_layer_call_and_return_conditional_losses, lstm_cell_17_layer_call_fn, lstm_cell_17_layer_call_and_return_conditional_losses, lstm_cell_16_layer_call_fn while saving (showing 5 of 10). These functions will not be directly callable after loading.\n"
     ]
    },
    {
     "name": "stdout",
     "output_type": "stream",
     "text": [
      "INFO:tensorflow:Assets written to: BestModel/assets\n"
     ]
    },
    {
     "name": "stderr",
     "output_type": "stream",
     "text": [
      "INFO:tensorflow:Assets written to: BestModel/assets\n"
     ]
    },
    {
     "name": "stdout",
     "output_type": "stream",
     "text": [
      "Epoch 23/50\n",
      "1000/1000 [==============================] - 10s 10ms/step - loss: 0.2422 - accuracy: 0.9092 - val_loss: 0.2354 - val_accuracy: 0.9086\n",
      "Epoch 24/50\n",
      "1000/1000 [==============================] - 10s 10ms/step - loss: 0.2350 - accuracy: 0.9122 - val_loss: 0.2295 - val_accuracy: 0.9158\n"
     ]
    },
    {
     "name": "stderr",
     "output_type": "stream",
     "text": [
      "WARNING:absl:Found untraced functions such as lstm_cell_16_layer_call_fn, lstm_cell_16_layer_call_and_return_conditional_losses, lstm_cell_17_layer_call_fn, lstm_cell_17_layer_call_and_return_conditional_losses, lstm_cell_16_layer_call_fn while saving (showing 5 of 10). These functions will not be directly callable after loading.\n",
      "WARNING:absl:Found untraced functions such as lstm_cell_16_layer_call_fn, lstm_cell_16_layer_call_and_return_conditional_losses, lstm_cell_17_layer_call_fn, lstm_cell_17_layer_call_and_return_conditional_losses, lstm_cell_16_layer_call_fn while saving (showing 5 of 10). These functions will not be directly callable after loading.\n"
     ]
    },
    {
     "name": "stdout",
     "output_type": "stream",
     "text": [
      "INFO:tensorflow:Assets written to: BestModel/assets\n"
     ]
    },
    {
     "name": "stderr",
     "output_type": "stream",
     "text": [
      "INFO:tensorflow:Assets written to: BestModel/assets\n"
     ]
    },
    {
     "name": "stdout",
     "output_type": "stream",
     "text": [
      "Epoch 25/50\n",
      "1000/1000 [==============================] - 10s 10ms/step - loss: 0.2327 - accuracy: 0.9147 - val_loss: 0.2187 - val_accuracy: 0.9193\n"
     ]
    },
    {
     "name": "stderr",
     "output_type": "stream",
     "text": [
      "WARNING:absl:Found untraced functions such as lstm_cell_16_layer_call_fn, lstm_cell_16_layer_call_and_return_conditional_losses, lstm_cell_17_layer_call_fn, lstm_cell_17_layer_call_and_return_conditional_losses, lstm_cell_16_layer_call_fn while saving (showing 5 of 10). These functions will not be directly callable after loading.\n",
      "WARNING:absl:Found untraced functions such as lstm_cell_16_layer_call_fn, lstm_cell_16_layer_call_and_return_conditional_losses, lstm_cell_17_layer_call_fn, lstm_cell_17_layer_call_and_return_conditional_losses, lstm_cell_16_layer_call_fn while saving (showing 5 of 10). These functions will not be directly callable after loading.\n"
     ]
    },
    {
     "name": "stdout",
     "output_type": "stream",
     "text": [
      "INFO:tensorflow:Assets written to: BestModel/assets\n"
     ]
    },
    {
     "name": "stderr",
     "output_type": "stream",
     "text": [
      "INFO:tensorflow:Assets written to: BestModel/assets\n"
     ]
    },
    {
     "name": "stdout",
     "output_type": "stream",
     "text": [
      "Epoch 26/50\n",
      "1000/1000 [==============================] - 10s 10ms/step - loss: 0.2214 - accuracy: 0.9196 - val_loss: 0.3491 - val_accuracy: 0.8428\n",
      "Epoch 27/50\n",
      "1000/1000 [==============================] - 10s 10ms/step - loss: 0.2181 - accuracy: 0.9204 - val_loss: 0.2624 - val_accuracy: 0.9024\n",
      "Epoch 28/50\n",
      "1000/1000 [==============================] - 10s 10ms/step - loss: 0.2165 - accuracy: 0.9237 - val_loss: 0.2015 - val_accuracy: 0.9279\n"
     ]
    },
    {
     "name": "stderr",
     "output_type": "stream",
     "text": [
      "WARNING:absl:Found untraced functions such as lstm_cell_16_layer_call_fn, lstm_cell_16_layer_call_and_return_conditional_losses, lstm_cell_17_layer_call_fn, lstm_cell_17_layer_call_and_return_conditional_losses, lstm_cell_16_layer_call_fn while saving (showing 5 of 10). These functions will not be directly callable after loading.\n",
      "WARNING:absl:Found untraced functions such as lstm_cell_16_layer_call_fn, lstm_cell_16_layer_call_and_return_conditional_losses, lstm_cell_17_layer_call_fn, lstm_cell_17_layer_call_and_return_conditional_losses, lstm_cell_16_layer_call_fn while saving (showing 5 of 10). These functions will not be directly callable after loading.\n"
     ]
    },
    {
     "name": "stdout",
     "output_type": "stream",
     "text": [
      "INFO:tensorflow:Assets written to: BestModel/assets\n"
     ]
    },
    {
     "name": "stderr",
     "output_type": "stream",
     "text": [
      "INFO:tensorflow:Assets written to: BestModel/assets\n"
     ]
    },
    {
     "name": "stdout",
     "output_type": "stream",
     "text": [
      "Epoch 29/50\n",
      "1000/1000 [==============================] - 10s 10ms/step - loss: 0.2145 - accuracy: 0.9242 - val_loss: 0.2064 - val_accuracy: 0.9270\n",
      "Epoch 30/50\n",
      "1000/1000 [==============================] - 10s 10ms/step - loss: 0.2014 - accuracy: 0.9290 - val_loss: 0.2351 - val_accuracy: 0.9161\n",
      "Epoch 31/50\n",
      "1000/1000 [==============================] - 10s 10ms/step - loss: 0.2030 - accuracy: 0.9288 - val_loss: 0.2099 - val_accuracy: 0.9264\n",
      "Epoch 32/50\n",
      "1000/1000 [==============================] - 10s 10ms/step - loss: 0.1950 - accuracy: 0.9332 - val_loss: 0.2139 - val_accuracy: 0.9258\n",
      "Epoch 33/50\n",
      "1000/1000 [==============================] - 10s 10ms/step - loss: 0.1910 - accuracy: 0.9335 - val_loss: 0.2091 - val_accuracy: 0.9260\n",
      "Epoch 34/50\n",
      "1000/1000 [==============================] - 10s 10ms/step - loss: 0.1937 - accuracy: 0.9342 - val_loss: 0.2208 - val_accuracy: 0.9251\n",
      "Epoch 35/50\n",
      "1000/1000 [==============================] - 10s 10ms/step - loss: 0.1847 - accuracy: 0.9359 - val_loss: 0.1771 - val_accuracy: 0.9366\n"
     ]
    },
    {
     "name": "stderr",
     "output_type": "stream",
     "text": [
      "WARNING:absl:Found untraced functions such as lstm_cell_16_layer_call_fn, lstm_cell_16_layer_call_and_return_conditional_losses, lstm_cell_17_layer_call_fn, lstm_cell_17_layer_call_and_return_conditional_losses, lstm_cell_16_layer_call_fn while saving (showing 5 of 10). These functions will not be directly callable after loading.\n",
      "WARNING:absl:Found untraced functions such as lstm_cell_16_layer_call_fn, lstm_cell_16_layer_call_and_return_conditional_losses, lstm_cell_17_layer_call_fn, lstm_cell_17_layer_call_and_return_conditional_losses, lstm_cell_16_layer_call_fn while saving (showing 5 of 10). These functions will not be directly callable after loading.\n"
     ]
    },
    {
     "name": "stdout",
     "output_type": "stream",
     "text": [
      "INFO:tensorflow:Assets written to: BestModel/assets\n"
     ]
    },
    {
     "name": "stderr",
     "output_type": "stream",
     "text": [
      "INFO:tensorflow:Assets written to: BestModel/assets\n"
     ]
    },
    {
     "name": "stdout",
     "output_type": "stream",
     "text": [
      "Epoch 36/50\n",
      "1000/1000 [==============================] - 10s 10ms/step - loss: 0.1767 - accuracy: 0.9411 - val_loss: 0.1952 - val_accuracy: 0.9310\n",
      "Epoch 37/50\n",
      "1000/1000 [==============================] - 10s 10ms/step - loss: 0.1900 - accuracy: 0.9331 - val_loss: 0.1889 - val_accuracy: 0.9320\n",
      "Epoch 38/50\n",
      "1000/1000 [==============================] - 10s 10ms/step - loss: 0.1846 - accuracy: 0.9367 - val_loss: 0.1721 - val_accuracy: 0.9402\n"
     ]
    },
    {
     "name": "stderr",
     "output_type": "stream",
     "text": [
      "WARNING:absl:Found untraced functions such as lstm_cell_16_layer_call_fn, lstm_cell_16_layer_call_and_return_conditional_losses, lstm_cell_17_layer_call_fn, lstm_cell_17_layer_call_and_return_conditional_losses, lstm_cell_16_layer_call_fn while saving (showing 5 of 10). These functions will not be directly callable after loading.\n",
      "WARNING:absl:Found untraced functions such as lstm_cell_16_layer_call_fn, lstm_cell_16_layer_call_and_return_conditional_losses, lstm_cell_17_layer_call_fn, lstm_cell_17_layer_call_and_return_conditional_losses, lstm_cell_16_layer_call_fn while saving (showing 5 of 10). These functions will not be directly callable after loading.\n"
     ]
    },
    {
     "name": "stdout",
     "output_type": "stream",
     "text": [
      "INFO:tensorflow:Assets written to: BestModel/assets\n"
     ]
    },
    {
     "name": "stderr",
     "output_type": "stream",
     "text": [
      "INFO:tensorflow:Assets written to: BestModel/assets\n"
     ]
    },
    {
     "name": "stdout",
     "output_type": "stream",
     "text": [
      "Epoch 39/50\n",
      "1000/1000 [==============================] - 10s 10ms/step - loss: 0.1849 - accuracy: 0.9381 - val_loss: 0.2100 - val_accuracy: 0.9254\n",
      "Epoch 40/50\n",
      "1000/1000 [==============================] - 10s 10ms/step - loss: 0.1858 - accuracy: 0.9371 - val_loss: 0.1773 - val_accuracy: 0.9406\n"
     ]
    },
    {
     "name": "stderr",
     "output_type": "stream",
     "text": [
      "WARNING:absl:Found untraced functions such as lstm_cell_16_layer_call_fn, lstm_cell_16_layer_call_and_return_conditional_losses, lstm_cell_17_layer_call_fn, lstm_cell_17_layer_call_and_return_conditional_losses, lstm_cell_16_layer_call_fn while saving (showing 5 of 10). These functions will not be directly callable after loading.\n",
      "WARNING:absl:Found untraced functions such as lstm_cell_16_layer_call_fn, lstm_cell_16_layer_call_and_return_conditional_losses, lstm_cell_17_layer_call_fn, lstm_cell_17_layer_call_and_return_conditional_losses, lstm_cell_16_layer_call_fn while saving (showing 5 of 10). These functions will not be directly callable after loading.\n"
     ]
    },
    {
     "name": "stdout",
     "output_type": "stream",
     "text": [
      "INFO:tensorflow:Assets written to: BestModel/assets\n"
     ]
    },
    {
     "name": "stderr",
     "output_type": "stream",
     "text": [
      "INFO:tensorflow:Assets written to: BestModel/assets\n"
     ]
    },
    {
     "name": "stdout",
     "output_type": "stream",
     "text": [
      "Epoch 41/50\n",
      "1000/1000 [==============================] - 10s 10ms/step - loss: 0.1721 - accuracy: 0.9420 - val_loss: 0.2374 - val_accuracy: 0.9170\n",
      "Epoch 42/50\n",
      "1000/1000 [==============================] - 10s 10ms/step - loss: 0.1742 - accuracy: 0.9416 - val_loss: 0.1702 - val_accuracy: 0.9400\n",
      "Epoch 43/50\n",
      "1000/1000 [==============================] - 10s 10ms/step - loss: 0.2286 - accuracy: 0.9193 - val_loss: 0.1913 - val_accuracy: 0.9319\n",
      "Epoch 44/50\n",
      "1000/1000 [==============================] - 10s 10ms/step - loss: 0.2012 - accuracy: 0.9308 - val_loss: 0.1722 - val_accuracy: 0.9409\n"
     ]
    },
    {
     "name": "stderr",
     "output_type": "stream",
     "text": [
      "WARNING:absl:Found untraced functions such as lstm_cell_16_layer_call_fn, lstm_cell_16_layer_call_and_return_conditional_losses, lstm_cell_17_layer_call_fn, lstm_cell_17_layer_call_and_return_conditional_losses, lstm_cell_16_layer_call_fn while saving (showing 5 of 10). These functions will not be directly callable after loading.\n",
      "WARNING:absl:Found untraced functions such as lstm_cell_16_layer_call_fn, lstm_cell_16_layer_call_and_return_conditional_losses, lstm_cell_17_layer_call_fn, lstm_cell_17_layer_call_and_return_conditional_losses, lstm_cell_16_layer_call_fn while saving (showing 5 of 10). These functions will not be directly callable after loading.\n"
     ]
    },
    {
     "name": "stdout",
     "output_type": "stream",
     "text": [
      "INFO:tensorflow:Assets written to: BestModel/assets\n"
     ]
    },
    {
     "name": "stderr",
     "output_type": "stream",
     "text": [
      "INFO:tensorflow:Assets written to: BestModel/assets\n"
     ]
    },
    {
     "name": "stdout",
     "output_type": "stream",
     "text": [
      "Epoch 45/50\n",
      "1000/1000 [==============================] - 10s 10ms/step - loss: 0.1748 - accuracy: 0.9403 - val_loss: 0.1680 - val_accuracy: 0.9446\n"
     ]
    },
    {
     "name": "stderr",
     "output_type": "stream",
     "text": [
      "WARNING:absl:Found untraced functions such as lstm_cell_16_layer_call_fn, lstm_cell_16_layer_call_and_return_conditional_losses, lstm_cell_17_layer_call_fn, lstm_cell_17_layer_call_and_return_conditional_losses, lstm_cell_16_layer_call_fn while saving (showing 5 of 10). These functions will not be directly callable after loading.\n",
      "WARNING:absl:Found untraced functions such as lstm_cell_16_layer_call_fn, lstm_cell_16_layer_call_and_return_conditional_losses, lstm_cell_17_layer_call_fn, lstm_cell_17_layer_call_and_return_conditional_losses, lstm_cell_16_layer_call_fn while saving (showing 5 of 10). These functions will not be directly callable after loading.\n"
     ]
    },
    {
     "name": "stdout",
     "output_type": "stream",
     "text": [
      "INFO:tensorflow:Assets written to: BestModel/assets\n"
     ]
    },
    {
     "name": "stderr",
     "output_type": "stream",
     "text": [
      "INFO:tensorflow:Assets written to: BestModel/assets\n"
     ]
    },
    {
     "name": "stdout",
     "output_type": "stream",
     "text": [
      "Epoch 46/50\n",
      "1000/1000 [==============================] - 10s 10ms/step - loss: 0.1755 - accuracy: 0.9415 - val_loss: 0.2044 - val_accuracy: 0.9308\n",
      "Epoch 47/50\n",
      "1000/1000 [==============================] - 10s 10ms/step - loss: 0.1679 - accuracy: 0.9430 - val_loss: 0.1842 - val_accuracy: 0.9348\n",
      "Epoch 48/50\n",
      "1000/1000 [==============================] - 10s 10ms/step - loss: 0.2232 - accuracy: 0.9208 - val_loss: 0.1844 - val_accuracy: 0.9383\n",
      "Epoch 49/50\n",
      "1000/1000 [==============================] - 10s 10ms/step - loss: 0.1697 - accuracy: 0.9426 - val_loss: 0.2136 - val_accuracy: 0.9270\n",
      "Epoch 50/50\n",
      "1000/1000 [==============================] - 10s 10ms/step - loss: 0.1678 - accuracy: 0.9446 - val_loss: 0.2047 - val_accuracy: 0.9284\n",
      "Fold 1, 50 epochs, 689 sec\n"
     ]
    },
    {
     "data": {
      "image/png": "[encoded data removed]",
      "text/plain": [
       "<Figure size 576x360 with 1 Axes>"
      ]
     },
     "metadata": {
      "needs_background": "light",
      "tags": []
     },
     "output_type": "display_data"
    },
    {
     "name": "stdout",
     "output_type": "stream",
     "text": [
      "MODEL\n",
      "make_DNN\n",
      "input shape: (125, 4)\n",
      "FIT\n",
      "Epoch 1/50\n",
      "1000/1000 [==============================] - 13s 11ms/step - loss: 0.6954 - accuracy: 0.4967 - val_loss: 0.6931 - val_accuracy: 0.5005\n",
      "Epoch 2/50\n",
      "1000/1000 [==============================] - 10s 10ms/step - loss: 0.6935 - accuracy: 0.5025 - val_loss: 0.6978 - val_accuracy: 0.5005\n",
      "Epoch 3/50\n",
      "1000/1000 [==============================] - 10s 10ms/step - loss: 0.6939 - accuracy: 0.5001 - val_loss: 0.6936 - val_accuracy: 0.4995\n",
      "Epoch 4/50\n",
      "1000/1000 [==============================] - 10s 10ms/step - loss: 0.6937 - accuracy: 0.4989 - val_loss: 0.6937 - val_accuracy: 0.5005\n",
      "Epoch 5/50\n",
      "1000/1000 [==============================] - 10s 10ms/step - loss: 0.6938 - accuracy: 0.4978 - val_loss: 0.6934 - val_accuracy: 0.4995\n",
      "Epoch 6/50\n",
      "1000/1000 [==============================] - 10s 10ms/step - loss: 0.6936 - accuracy: 0.4951 - val_loss: 0.6932 - val_accuracy: 0.4995\n",
      "Epoch 7/50\n",
      "1000/1000 [==============================] - 10s 10ms/step - loss: 0.6934 - accuracy: 0.5049 - val_loss: 0.6933 - val_accuracy: 0.5005\n",
      "Epoch 8/50\n",
      "1000/1000 [==============================] - 10s 10ms/step - loss: 0.6935 - accuracy: 0.4981 - val_loss: 0.6937 - val_accuracy: 0.4995\n",
      "Epoch 9/50\n",
      "1000/1000 [==============================] - 10s 10ms/step - loss: 0.6936 - accuracy: 0.4965 - val_loss: 0.6932 - val_accuracy: 0.5005\n",
      "Epoch 10/50\n",
      "1000/1000 [==============================] - 10s 10ms/step - loss: 0.6936 - accuracy: 0.5006 - val_loss: 0.6932 - val_accuracy: 0.5005\n",
      "Epoch 11/50\n",
      "1000/1000 [==============================] - 10s 10ms/step - loss: 0.6935 - accuracy: 0.4996 - val_loss: 0.6932 - val_accuracy: 0.4995\n",
      "Epoch 12/50\n",
      "1000/1000 [==============================] - 10s 10ms/step - loss: 0.6933 - accuracy: 0.5077 - val_loss: 0.6939 - val_accuracy: 0.4995\n",
      "Epoch 13/50\n",
      "1000/1000 [==============================] - 10s 10ms/step - loss: 0.6932 - accuracy: 0.5082 - val_loss: 0.6934 - val_accuracy: 0.4995\n",
      "Epoch 14/50\n",
      "1000/1000 [==============================] - 10s 10ms/step - loss: 0.6935 - accuracy: 0.5059 - val_loss: 0.6936 - val_accuracy: 0.4995\n",
      "Epoch 15/50\n",
      "1000/1000 [==============================] - 10s 10ms/step - loss: 0.6935 - accuracy: 0.4989 - val_loss: 0.6932 - val_accuracy: 0.5005\n",
      "Epoch 16/50\n",
      "1000/1000 [==============================] - 10s 10ms/step - loss: 0.6937 - accuracy: 0.4943 - val_loss: 0.6943 - val_accuracy: 0.4995\n",
      "Epoch 17/50\n",
      "1000/1000 [==============================] - 10s 10ms/step - loss: 0.6934 - accuracy: 0.5058 - val_loss: 0.6938 - val_accuracy: 0.5005\n",
      "Epoch 18/50\n",
      "1000/1000 [==============================] - 10s 10ms/step - loss: 0.6938 - accuracy: 0.4966 - val_loss: 0.6932 - val_accuracy: 0.4995\n",
      "Epoch 19/50\n",
      "1000/1000 [==============================] - 10s 10ms/step - loss: 0.6935 - accuracy: 0.4982 - val_loss: 0.6933 - val_accuracy: 0.4995\n",
      "Epoch 20/50\n",
      "1000/1000 [==============================] - 10s 10ms/step - loss: 0.6935 - accuracy: 0.4954 - val_loss: 0.6932 - val_accuracy: 0.4995\n",
      "Epoch 21/50\n",
      "1000/1000 [==============================] - 10s 10ms/step - loss: 0.6935 - accuracy: 0.4975 - val_loss: 0.6934 - val_accuracy: 0.5005\n",
      "Epoch 22/50\n",
      "1000/1000 [==============================] - 10s 10ms/step - loss: 0.6936 - accuracy: 0.4959 - val_loss: 0.6935 - val_accuracy: 0.5005\n",
      "Epoch 23/50\n",
      "1000/1000 [==============================] - 10s 10ms/step - loss: 0.6939 - accuracy: 0.4979 - val_loss: 0.6935 - val_accuracy: 0.4995\n",
      "Epoch 24/50\n",
      "1000/1000 [==============================] - 10s 10ms/step - loss: 0.6934 - accuracy: 0.5061 - val_loss: 0.6931 - val_accuracy: 0.4995\n",
      "Epoch 25/50\n",
      "1000/1000 [==============================] - 10s 10ms/step - loss: 0.6935 - accuracy: 0.4977 - val_loss: 0.6943 - val_accuracy: 0.5005\n",
      "Epoch 26/50\n",
      "1000/1000 [==============================] - 10s 10ms/step - loss: 0.6939 - accuracy: 0.4958 - val_loss: 0.6944 - val_accuracy: 0.5005\n",
      "Epoch 27/50\n",
      "1000/1000 [==============================] - 10s 10ms/step - loss: 0.6936 - accuracy: 0.5013 - val_loss: 0.6931 - val_accuracy: 0.5005\n",
      "Epoch 28/50\n",
      "1000/1000 [==============================] - 10s 10ms/step - loss: 0.6935 - accuracy: 0.5008 - val_loss: 0.6932 - val_accuracy: 0.4995\n",
      "Epoch 29/50\n",
      "1000/1000 [==============================] - 10s 10ms/step - loss: 0.6937 - accuracy: 0.4959 - val_loss: 0.6935 - val_accuracy: 0.4995\n",
      "Epoch 30/50\n",
      "1000/1000 [==============================] - 10s 10ms/step - loss: 0.6938 - accuracy: 0.4925 - val_loss: 0.6936 - val_accuracy: 0.5005\n",
      "Epoch 31/50\n",
      "1000/1000 [==============================] - 10s 10ms/step - loss: 0.6938 - accuracy: 0.4947 - val_loss: 0.6934 - val_accuracy: 0.5005\n",
      "Epoch 32/50\n",
      "1000/1000 [==============================] - 10s 10ms/step - loss: 0.6937 - accuracy: 0.4963 - val_loss: 0.6933 - val_accuracy: 0.4995\n",
      "Epoch 33/50\n",
      "1000/1000 [==============================] - 10s 10ms/step - loss: 0.6934 - accuracy: 0.5012 - val_loss: 0.6934 - val_accuracy: 0.4995\n",
      "Epoch 34/50\n",
      "1000/1000 [==============================] - 10s 10ms/step - loss: 0.6937 - accuracy: 0.4953 - val_loss: 0.6932 - val_accuracy: 0.5005\n",
      "Epoch 35/50\n",
      "1000/1000 [==============================] - 10s 10ms/step - loss: 0.6935 - accuracy: 0.5012 - val_loss: 0.6937 - val_accuracy: 0.4995\n",
      "Epoch 36/50\n",
      "1000/1000 [==============================] - 10s 10ms/step - loss: 0.6936 - accuracy: 0.5007 - val_loss: 0.6932 - val_accuracy: 0.4995\n",
      "Epoch 37/50\n",
      "1000/1000 [==============================] - 10s 10ms/step - loss: 0.6933 - accuracy: 0.5029 - val_loss: 0.6938 - val_accuracy: 0.4995\n",
      "Epoch 38/50\n",
      "1000/1000 [==============================] - 10s 10ms/step - loss: 0.6937 - accuracy: 0.4979 - val_loss: 0.6933 - val_accuracy: 0.5005\n",
      "Epoch 39/50\n",
      "1000/1000 [==============================] - 10s 10ms/step - loss: 0.6937 - accuracy: 0.4964 - val_loss: 0.6935 - val_accuracy: 0.4995\n",
      "Epoch 40/50\n",
      "1000/1000 [==============================] - 10s 10ms/step - loss: 0.6935 - accuracy: 0.5001 - val_loss: 0.6936 - val_accuracy: 0.4995\n",
      "Epoch 41/50\n",
      "1000/1000 [==============================] - 10s 10ms/step - loss: 0.6936 - accuracy: 0.4981 - val_loss: 0.6932 - val_accuracy: 0.5005\n",
      "Epoch 42/50\n",
      "1000/1000 [==============================] - 10s 10ms/step - loss: 0.6934 - accuracy: 0.5016 - val_loss: 0.6942 - val_accuracy: 0.5005\n",
      "Epoch 43/50\n",
      "1000/1000 [==============================] - 10s 10ms/step - loss: 0.6938 - accuracy: 0.4975 - val_loss: 0.6933 - val_accuracy: 0.5005\n",
      "Epoch 44/50\n",
      "1000/1000 [==============================] - 10s 10ms/step - loss: 0.6935 - accuracy: 0.5023 - val_loss: 0.6937 - val_accuracy: 0.5005\n",
      "Epoch 45/50\n",
      "1000/1000 [==============================] - 10s 10ms/step - loss: 0.6938 - accuracy: 0.4951 - val_loss: 0.6934 - val_accuracy: 0.4995\n",
      "Epoch 46/50\n",
      "1000/1000 [==============================] - 10s 10ms/step - loss: 0.6934 - accuracy: 0.5003 - val_loss: 0.6932 - val_accuracy: 0.4995\n",
      "Epoch 47/50\n",
      "1000/1000 [==============================] - 10s 10ms/step - loss: 0.6934 - accuracy: 0.5090 - val_loss: 0.6964 - val_accuracy: 0.5005\n",
      "Epoch 48/50\n",
      "1000/1000 [==============================] - 10s 10ms/step - loss: 0.6941 - accuracy: 0.4958 - val_loss: 0.6932 - val_accuracy: 0.4995\n",
      "Epoch 49/50\n",
      "1000/1000 [==============================] - 10s 10ms/step - loss: 0.6935 - accuracy: 0.4984 - val_loss: 0.6935 - val_accuracy: 0.5005\n",
      "Epoch 50/50\n",
      "1000/1000 [==============================] - 10s 10ms/step - loss: 0.6937 - accuracy: 0.4982 - val_loss: 0.6933 - val_accuracy: 0.5005\n",
      "Fold 2, 50 epochs, 513 sec\n"
     ]
    },
    {
     "data": {
      "image/png": "[encoded data removed]",
      "text/plain": [
       "<Figure size 576x360 with 1 Axes>"
      ]
     },
     "metadata": {
      "needs_background": "light",
      "tags": []
     },
     "output_type": "display_data"
    },
    {
     "name": "stdout",
     "output_type": "stream",
     "text": [
      "MODEL\n",
      "make_DNN\n",
      "input shape: (125, 4)\n",
      "FIT\n",
      "Epoch 1/50\n",
      "1000/1000 [==============================] - 13s 11ms/step - loss: 0.6963 - accuracy: 0.5015 - val_loss: 0.6934 - val_accuracy: 0.4986\n",
      "Epoch 2/50\n",
      "1000/1000 [==============================] - 10s 10ms/step - loss: 0.6936 - accuracy: 0.5083 - val_loss: 0.6941 - val_accuracy: 0.5014\n",
      "Epoch 3/50\n",
      "1000/1000 [==============================] - 10s 10ms/step - loss: 0.6937 - accuracy: 0.5031 - val_loss: 0.6932 - val_accuracy: 0.5014\n",
      "Epoch 4/50\n",
      "1000/1000 [==============================] - 10s 10ms/step - loss: 0.6936 - accuracy: 0.5009 - val_loss: 0.6931 - val_accuracy: 0.5014\n",
      "Epoch 5/50\n",
      "1000/1000 [==============================] - 10s 10ms/step - loss: 0.6936 - accuracy: 0.4986 - val_loss: 0.6932 - val_accuracy: 0.5000\n",
      "Epoch 6/50\n",
      "1000/1000 [==============================] - 10s 10ms/step - loss: 0.6935 - accuracy: 0.5010 - val_loss: 0.6944 - val_accuracy: 0.4986\n",
      "Epoch 7/50\n",
      "1000/1000 [==============================] - 10s 10ms/step - loss: 0.6940 - accuracy: 0.4950 - val_loss: 0.6933 - val_accuracy: 0.5014\n",
      "Epoch 8/50\n",
      "1000/1000 [==============================] - 10s 10ms/step - loss: 0.6936 - accuracy: 0.5017 - val_loss: 0.6932 - val_accuracy: 0.5014\n",
      "Epoch 9/50\n",
      "1000/1000 [==============================] - 10s 10ms/step - loss: 0.6936 - accuracy: 0.4983 - val_loss: 0.6938 - val_accuracy: 0.5014\n",
      "Epoch 10/50\n",
      "1000/1000 [==============================] - 10s 10ms/step - loss: 0.6937 - accuracy: 0.4966 - val_loss: 0.6932 - val_accuracy: 0.5000\n",
      "Epoch 11/50\n",
      "1000/1000 [==============================] - 10s 10ms/step - loss: 0.6935 - accuracy: 0.4998 - val_loss: 0.6934 - val_accuracy: 0.4986\n",
      "Epoch 12/50\n",
      "1000/1000 [==============================] - 10s 10ms/step - loss: 0.6935 - accuracy: 0.4995 - val_loss: 0.6932 - val_accuracy: 0.5014\n",
      "Epoch 13/50\n",
      "1000/1000 [==============================] - 10s 10ms/step - loss: 0.6935 - accuracy: 0.4989 - val_loss: 0.6943 - val_accuracy: 0.4986\n",
      "Epoch 14/50\n",
      "1000/1000 [==============================] - 10s 10ms/step - loss: 0.6936 - accuracy: 0.5017 - val_loss: 0.6933 - val_accuracy: 0.4986\n",
      "Epoch 15/50\n",
      "1000/1000 [==============================] - 10s 10ms/step - loss: 0.6936 - accuracy: 0.4969 - val_loss: 0.6943 - val_accuracy: 0.4986\n",
      "Epoch 16/50\n",
      "1000/1000 [==============================] - 10s 10ms/step - loss: 0.6932 - accuracy: 0.5069 - val_loss: 0.6932 - val_accuracy: 0.5014\n",
      "Epoch 17/50\n",
      "1000/1000 [==============================] - 10s 10ms/step - loss: 0.6936 - accuracy: 0.4946 - val_loss: 0.6932 - val_accuracy: 0.4986\n",
      "Epoch 18/50\n",
      "1000/1000 [==============================] - 10s 10ms/step - loss: 0.6935 - accuracy: 0.5023 - val_loss: 0.6934 - val_accuracy: 0.4986\n",
      "Epoch 19/50\n",
      "1000/1000 [==============================] - 10s 10ms/step - loss: 0.6934 - accuracy: 0.4975 - val_loss: 0.6932 - val_accuracy: 0.4981\n",
      "Epoch 20/50\n",
      "1000/1000 [==============================] - 10s 10ms/step - loss: 0.6934 - accuracy: 0.5068 - val_loss: 0.6932 - val_accuracy: 0.4983\n",
      "Epoch 21/50\n",
      "1000/1000 [==============================] - 10s 10ms/step - loss: 0.6936 - accuracy: 0.4984 - val_loss: 0.6935 - val_accuracy: 0.5014\n",
      "Epoch 22/50\n",
      "1000/1000 [==============================] - 10s 10ms/step - loss: 0.6936 - accuracy: 0.4947 - val_loss: 0.6936 - val_accuracy: 0.4986\n",
      "Epoch 23/50\n",
      "1000/1000 [==============================] - 10s 10ms/step - loss: 0.6936 - accuracy: 0.4959 - val_loss: 0.6934 - val_accuracy: 0.4986\n",
      "Epoch 24/50\n",
      "1000/1000 [==============================] - 10s 10ms/step - loss: 0.6934 - accuracy: 0.5061 - val_loss: 0.6933 - val_accuracy: 0.4988\n",
      "Epoch 25/50\n",
      "1000/1000 [==============================] - 10s 10ms/step - loss: 0.6934 - accuracy: 0.4988 - val_loss: 0.6931 - val_accuracy: 0.4981\n",
      "Epoch 26/50\n",
      "1000/1000 [==============================] - 10s 10ms/step - loss: 0.6933 - accuracy: 0.4961 - val_loss: 0.6933 - val_accuracy: 0.5014\n",
      "Epoch 27/50\n",
      "1000/1000 [==============================] - 10s 10ms/step - loss: 0.6930 - accuracy: 0.5074 - val_loss: 0.6952 - val_accuracy: 0.5014\n",
      "Epoch 28/50\n",
      "1000/1000 [==============================] - 10s 10ms/step - loss: 0.6935 - accuracy: 0.5038 - val_loss: 0.6857 - val_accuracy: 0.5585\n",
      "Epoch 29/50\n",
      "1000/1000 [==============================] - 10s 10ms/step - loss: 0.6893 - accuracy: 0.5389 - val_loss: 0.6694 - val_accuracy: 0.5900\n",
      "Epoch 30/50\n",
      "1000/1000 [==============================] - 10s 10ms/step - loss: 0.6732 - accuracy: 0.5910 - val_loss: 0.6585 - val_accuracy: 0.6109\n",
      "Epoch 31/50\n",
      "1000/1000 [==============================] - 10s 10ms/step - loss: 0.6608 - accuracy: 0.6039 - val_loss: 0.6395 - val_accuracy: 0.6390\n",
      "Epoch 32/50\n",
      "1000/1000 [==============================] - 10s 10ms/step - loss: 0.6312 - accuracy: 0.6399 - val_loss: 0.6107 - val_accuracy: 0.6581\n",
      "Epoch 33/50\n",
      "1000/1000 [==============================] - 10s 10ms/step - loss: 0.6115 - accuracy: 0.6533 - val_loss: 0.6008 - val_accuracy: 0.6665\n",
      "Epoch 34/50\n",
      "1000/1000 [==============================] - 10s 10ms/step - loss: 0.5955 - accuracy: 0.6612 - val_loss: 0.5862 - val_accuracy: 0.6747\n",
      "Epoch 35/50\n",
      "1000/1000 [==============================] - 10s 10ms/step - loss: 0.5806 - accuracy: 0.6818 - val_loss: 0.5626 - val_accuracy: 0.6986\n",
      "Epoch 36/50\n",
      "1000/1000 [==============================] - 10s 10ms/step - loss: 0.5529 - accuracy: 0.7053 - val_loss: 0.5211 - val_accuracy: 0.7360\n",
      "Epoch 37/50\n",
      "1000/1000 [==============================] - 10s 10ms/step - loss: 0.4913 - accuracy: 0.7639 - val_loss: 0.3450 - val_accuracy: 0.8550\n",
      "Epoch 38/50\n",
      "1000/1000 [==============================] - 10s 10ms/step - loss: 0.3439 - accuracy: 0.8593 - val_loss: 0.3277 - val_accuracy: 0.8651\n",
      "Epoch 39/50\n",
      "1000/1000 [==============================] - 10s 10ms/step - loss: 0.3056 - accuracy: 0.8763 - val_loss: 0.3029 - val_accuracy: 0.8754\n",
      "Epoch 40/50\n",
      "1000/1000 [==============================] - 10s 10ms/step - loss: 0.2927 - accuracy: 0.8857 - val_loss: 0.2798 - val_accuracy: 0.8894\n",
      "Epoch 41/50\n",
      "1000/1000 [==============================] - 10s 10ms/step - loss: 0.2768 - accuracy: 0.8899 - val_loss: 0.2752 - val_accuracy: 0.8884\n",
      "Epoch 42/50\n",
      "1000/1000 [==============================] - 10s 10ms/step - loss: 0.2662 - accuracy: 0.8949 - val_loss: 0.2798 - val_accuracy: 0.8866\n",
      "Epoch 43/50\n",
      "1000/1000 [==============================] - 10s 10ms/step - loss: 0.2691 - accuracy: 0.8931 - val_loss: 0.2553 - val_accuracy: 0.9013\n",
      "Epoch 44/50\n",
      "1000/1000 [==============================] - 10s 10ms/step - loss: 0.2495 - accuracy: 0.9027 - val_loss: 0.2883 - val_accuracy: 0.8895\n",
      "Epoch 45/50\n",
      "1000/1000 [==============================] - 10s 10ms/step - loss: 0.2421 - accuracy: 0.9078 - val_loss: 0.2520 - val_accuracy: 0.9020\n",
      "Epoch 46/50\n",
      "1000/1000 [==============================] - 10s 10ms/step - loss: 0.2321 - accuracy: 0.9102 - val_loss: 0.2685 - val_accuracy: 0.8976\n",
      "Epoch 47/50\n",
      "1000/1000 [==============================] - 10s 10ms/step - loss: 0.2352 - accuracy: 0.9082 - val_loss: 0.2516 - val_accuracy: 0.9038\n",
      "Epoch 48/50\n",
      "1000/1000 [==============================] - 10s 10ms/step - loss: 0.2280 - accuracy: 0.9119 - val_loss: 0.2822 - val_accuracy: 0.8990\n",
      "Epoch 49/50\n",
      "1000/1000 [==============================] - 10s 10ms/step - loss: 0.2317 - accuracy: 0.9146 - val_loss: 0.2292 - val_accuracy: 0.9135\n",
      "Epoch 50/50\n",
      "1000/1000 [==============================] - 10s 10ms/step - loss: 0.2256 - accuracy: 0.9148 - val_loss: 0.2215 - val_accuracy: 0.9171\n",
      "Fold 3, 50 epochs, 518 sec\n"
     ]
    },
    {
     "data": {
      "image/png": "[encoded data removed]",
      "text/plain": [
       "<Figure size 576x360 with 1 Axes>"
      ]
     },
     "metadata": {
      "needs_background": "light",
      "tags": []
     },
     "output_type": "display_data"
    },
    {
     "name": "stdout",
     "output_type": "stream",
     "text": [
      "MODEL\n",
      "make_DNN\n",
      "input shape: (125, 4)\n",
      "FIT\n",
      "Epoch 1/50\n",
      "1000/1000 [==============================] - 13s 11ms/step - loss: 0.6990 - accuracy: 0.5251 - val_loss: 0.6737 - val_accuracy: 0.5816\n",
      "Epoch 2/50\n",
      "1000/1000 [==============================] - 10s 10ms/step - loss: 0.6676 - accuracy: 0.5952 - val_loss: 0.6595 - val_accuracy: 0.6099\n",
      "Epoch 3/50\n",
      "1000/1000 [==============================] - 10s 10ms/step - loss: 0.6487 - accuracy: 0.6234 - val_loss: 0.6274 - val_accuracy: 0.6521\n",
      "Epoch 4/50\n",
      "1000/1000 [==============================] - 10s 10ms/step - loss: 0.6346 - accuracy: 0.6403 - val_loss: 0.6307 - val_accuracy: 0.6581\n",
      "Epoch 5/50\n",
      "1000/1000 [==============================] - 10s 10ms/step - loss: 0.5963 - accuracy: 0.6811 - val_loss: 0.4033 - val_accuracy: 0.8336\n",
      "Epoch 6/50\n",
      "1000/1000 [==============================] - 10s 10ms/step - loss: 0.4159 - accuracy: 0.8183 - val_loss: 0.3915 - val_accuracy: 0.8345\n",
      "Epoch 7/50\n",
      "1000/1000 [==============================] - 10s 10ms/step - loss: 0.3887 - accuracy: 0.8342 - val_loss: 0.3889 - val_accuracy: 0.8326\n",
      "Epoch 8/50\n",
      "1000/1000 [==============================] - 10s 10ms/step - loss: 0.3831 - accuracy: 0.8349 - val_loss: 0.3943 - val_accuracy: 0.8339\n",
      "Epoch 9/50\n",
      "1000/1000 [==============================] - 10s 10ms/step - loss: 0.3713 - accuracy: 0.8415 - val_loss: 0.3861 - val_accuracy: 0.8342\n",
      "Epoch 10/50\n",
      "1000/1000 [==============================] - 10s 10ms/step - loss: 0.5524 - accuracy: 0.6884 - val_loss: 0.5770 - val_accuracy: 0.7103\n",
      "Epoch 11/50\n",
      "1000/1000 [==============================] - 10s 10ms/step - loss: 0.5837 - accuracy: 0.6907 - val_loss: 0.6923 - val_accuracy: 0.5109\n",
      "Epoch 12/50\n",
      "1000/1000 [==============================] - 10s 10ms/step - loss: 0.6864 - accuracy: 0.5412 - val_loss: 0.5699 - val_accuracy: 0.6562\n",
      "Epoch 13/50\n",
      "1000/1000 [==============================] - 10s 10ms/step - loss: 0.4334 - accuracy: 0.8103 - val_loss: 0.4502 - val_accuracy: 0.7975\n",
      "Epoch 14/50\n",
      "1000/1000 [==============================] - 10s 10ms/step - loss: 0.3845 - accuracy: 0.8334 - val_loss: 0.3748 - val_accuracy: 0.8340\n",
      "Epoch 15/50\n",
      "1000/1000 [==============================] - 10s 10ms/step - loss: 0.3667 - accuracy: 0.8392 - val_loss: 0.3697 - val_accuracy: 0.8369\n",
      "Epoch 16/50\n",
      "1000/1000 [==============================] - 10s 10ms/step - loss: 0.3734 - accuracy: 0.8353 - val_loss: 0.3743 - val_accuracy: 0.8366\n",
      "Epoch 17/50\n",
      "1000/1000 [==============================] - 10s 10ms/step - loss: 0.3690 - accuracy: 0.8385 - val_loss: 0.3693 - val_accuracy: 0.8344\n",
      "Epoch 18/50\n",
      "1000/1000 [==============================] - 10s 10ms/step - loss: 0.3633 - accuracy: 0.8386 - val_loss: 0.3677 - val_accuracy: 0.8370\n",
      "Epoch 19/50\n",
      "1000/1000 [==============================] - 10s 10ms/step - loss: 0.3585 - accuracy: 0.8396 - val_loss: 0.3567 - val_accuracy: 0.8409\n",
      "Epoch 20/50\n",
      "1000/1000 [==============================] - 10s 10ms/step - loss: 0.3492 - accuracy: 0.8439 - val_loss: 0.3546 - val_accuracy: 0.8407\n",
      "Epoch 21/50\n",
      "1000/1000 [==============================] - 10s 10ms/step - loss: 0.3450 - accuracy: 0.8461 - val_loss: 0.3455 - val_accuracy: 0.8445\n",
      "Epoch 22/50\n",
      "1000/1000 [==============================] - 10s 10ms/step - loss: 0.3281 - accuracy: 0.8583 - val_loss: 0.3255 - val_accuracy: 0.8646\n",
      "Epoch 23/50\n",
      "1000/1000 [==============================] - 10s 10ms/step - loss: 0.3230 - accuracy: 0.8616 - val_loss: 0.3103 - val_accuracy: 0.8746\n",
      "Epoch 24/50\n",
      "1000/1000 [==============================] - 10s 10ms/step - loss: 0.3119 - accuracy: 0.8735 - val_loss: 0.2941 - val_accuracy: 0.8879\n",
      "Epoch 25/50\n",
      "1000/1000 [==============================] - 10s 10ms/step - loss: 0.2924 - accuracy: 0.8855 - val_loss: 0.2848 - val_accuracy: 0.8900\n",
      "Epoch 26/50\n",
      "1000/1000 [==============================] - 10s 10ms/step - loss: 0.2890 - accuracy: 0.8846 - val_loss: 0.2765 - val_accuracy: 0.8959\n",
      "Epoch 27/50\n",
      "1000/1000 [==============================] - 10s 10ms/step - loss: 0.2776 - accuracy: 0.8927 - val_loss: 0.2719 - val_accuracy: 0.9035\n",
      "Epoch 28/50\n",
      "1000/1000 [==============================] - 10s 10ms/step - loss: 0.2645 - accuracy: 0.9009 - val_loss: 0.2570 - val_accuracy: 0.9056\n",
      "Epoch 29/50\n",
      "1000/1000 [==============================] - 10s 10ms/step - loss: 0.2643 - accuracy: 0.9013 - val_loss: 0.2529 - val_accuracy: 0.9080\n",
      "Epoch 30/50\n",
      "1000/1000 [==============================] - 10s 10ms/step - loss: 0.2637 - accuracy: 0.9010 - val_loss: 0.2832 - val_accuracy: 0.8901\n",
      "Epoch 31/50\n",
      "1000/1000 [==============================] - 10s 10ms/step - loss: 0.2649 - accuracy: 0.9014 - val_loss: 0.2530 - val_accuracy: 0.9036\n",
      "Epoch 32/50\n",
      "1000/1000 [==============================] - 10s 10ms/step - loss: 0.2518 - accuracy: 0.9080 - val_loss: 0.2421 - val_accuracy: 0.9129\n",
      "Epoch 33/50\n",
      "1000/1000 [==============================] - 10s 10ms/step - loss: 0.2514 - accuracy: 0.9062 - val_loss: 0.2508 - val_accuracy: 0.9045\n",
      "Epoch 34/50\n",
      "1000/1000 [==============================] - 10s 10ms/step - loss: 0.2600 - accuracy: 0.9001 - val_loss: 0.2459 - val_accuracy: 0.9120\n",
      "Epoch 35/50\n",
      "1000/1000 [==============================] - 10s 10ms/step - loss: 0.2452 - accuracy: 0.9085 - val_loss: 0.2245 - val_accuracy: 0.9209\n",
      "Epoch 36/50\n",
      "1000/1000 [==============================] - 10s 10ms/step - loss: 0.2442 - accuracy: 0.9073 - val_loss: 0.2258 - val_accuracy: 0.9164\n",
      "Epoch 37/50\n",
      "1000/1000 [==============================] - 10s 10ms/step - loss: 0.2371 - accuracy: 0.9128 - val_loss: 0.2372 - val_accuracy: 0.9150\n",
      "Epoch 38/50\n",
      "1000/1000 [==============================] - 10s 10ms/step - loss: 0.2322 - accuracy: 0.9143 - val_loss: 0.2167 - val_accuracy: 0.9258\n",
      "Epoch 39/50\n",
      "1000/1000 [==============================] - 10s 10ms/step - loss: 0.2193 - accuracy: 0.9218 - val_loss: 0.2207 - val_accuracy: 0.9212\n",
      "Epoch 40/50\n",
      "1000/1000 [==============================] - 10s 10ms/step - loss: 0.2097 - accuracy: 0.9243 - val_loss: 0.2035 - val_accuracy: 0.9275\n",
      "Epoch 41/50\n",
      "1000/1000 [==============================] - 10s 10ms/step - loss: 0.2083 - accuracy: 0.9246 - val_loss: 0.3254 - val_accuracy: 0.8775\n",
      "Epoch 42/50\n",
      "1000/1000 [==============================] - 10s 10ms/step - loss: 0.1965 - accuracy: 0.9316 - val_loss: 0.2075 - val_accuracy: 0.9259\n",
      "Epoch 43/50\n",
      "1000/1000 [==============================] - 10s 10ms/step - loss: 0.2060 - accuracy: 0.9280 - val_loss: 0.1941 - val_accuracy: 0.9362\n",
      "Epoch 44/50\n",
      "1000/1000 [==============================] - 10s 10ms/step - loss: 0.1931 - accuracy: 0.9331 - val_loss: 0.2056 - val_accuracy: 0.9325\n",
      "Epoch 45/50\n",
      "1000/1000 [==============================] - 10s 10ms/step - loss: 0.1893 - accuracy: 0.9345 - val_loss: 0.1711 - val_accuracy: 0.9433\n",
      "Epoch 46/50\n",
      "1000/1000 [==============================] - 10s 10ms/step - loss: 0.1800 - accuracy: 0.9371 - val_loss: 0.1666 - val_accuracy: 0.9461\n"
     ]
    },
    {
     "name": "stderr",
     "output_type": "stream",
     "text": [
      "WARNING:absl:Found untraced functions such as lstm_cell_22_layer_call_fn, lstm_cell_22_layer_call_and_return_conditional_losses, lstm_cell_23_layer_call_fn, lstm_cell_23_layer_call_and_return_conditional_losses, lstm_cell_22_layer_call_fn while saving (showing 5 of 10). These functions will not be directly callable after loading.\n",
      "WARNING:absl:Found untraced functions such as lstm_cell_22_layer_call_fn, lstm_cell_22_layer_call_and_return_conditional_losses, lstm_cell_23_layer_call_fn, lstm_cell_23_layer_call_and_return_conditional_losses, lstm_cell_22_layer_call_fn while saving (showing 5 of 10). These functions will not be directly callable after loading.\n"
     ]
    },
    {
     "name": "stdout",
     "output_type": "stream",
     "text": [
      "INFO:tensorflow:Assets written to: BestModel/assets\n"
     ]
    },
    {
     "name": "stderr",
     "output_type": "stream",
     "text": [
      "INFO:tensorflow:Assets written to: BestModel/assets\n"
     ]
    },
    {
     "name": "stdout",
     "output_type": "stream",
     "text": [
      "Epoch 47/50\n",
      "1000/1000 [==============================] - 10s 10ms/step - loss: 0.1810 - accuracy: 0.9380 - val_loss: 0.1922 - val_accuracy: 0.9348\n",
      "Epoch 48/50\n",
      "1000/1000 [==============================] - 10s 10ms/step - loss: 0.1829 - accuracy: 0.9373 - val_loss: 0.2287 - val_accuracy: 0.9164\n",
      "Epoch 49/50\n",
      "1000/1000 [==============================] - 10s 10ms/step - loss: 0.1928 - accuracy: 0.9317 - val_loss: 0.1905 - val_accuracy: 0.9389\n",
      "Epoch 50/50\n",
      "1000/1000 [==============================] - 10s 10ms/step - loss: 0.1697 - accuracy: 0.9445 - val_loss: 0.1923 - val_accuracy: 0.9351\n",
      "Fold 4, 50 epochs, 527 sec\n"
     ]
    },
    {
     "data": {
      "image/png": "[encoded data removed]",
      "text/plain": [
       "<Figure size 576x360 with 1 Axes>"
      ]
     },
     "metadata": {
      "needs_background": "light",
      "tags": []
     },
     "output_type": "display_data"
    },
    {
     "name": "stdout",
     "output_type": "stream",
     "text": [
      "MODEL\n",
      "make_DNN\n",
      "input shape: (125, 4)\n",
      "FIT\n",
      "Epoch 1/50\n",
      "1000/1000 [==============================] - 13s 11ms/step - loss: 0.6872 - accuracy: 0.5282 - val_loss: 0.6729 - val_accuracy: 0.5870\n",
      "Epoch 2/50\n",
      "1000/1000 [==============================] - 10s 10ms/step - loss: 0.6655 - accuracy: 0.5990 - val_loss: 0.6486 - val_accuracy: 0.6221\n",
      "Epoch 3/50\n",
      "1000/1000 [==============================] - 10s 10ms/step - loss: 0.6377 - accuracy: 0.6382 - val_loss: 0.6392 - val_accuracy: 0.6240\n",
      "Epoch 4/50\n",
      "1000/1000 [==============================] - 10s 10ms/step - loss: 0.6212 - accuracy: 0.6498 - val_loss: 0.6265 - val_accuracy: 0.6438\n",
      "Epoch 5/50\n",
      "1000/1000 [==============================] - 10s 10ms/step - loss: 0.6140 - accuracy: 0.6545 - val_loss: 0.6097 - val_accuracy: 0.6569\n",
      "Epoch 6/50\n",
      "1000/1000 [==============================] - 10s 10ms/step - loss: 0.6019 - accuracy: 0.6611 - val_loss: 0.5917 - val_accuracy: 0.6711\n",
      "Epoch 7/50\n",
      "1000/1000 [==============================] - 10s 10ms/step - loss: 0.5809 - accuracy: 0.6798 - val_loss: 0.5819 - val_accuracy: 0.6739\n",
      "Epoch 8/50\n",
      "1000/1000 [==============================] - 10s 10ms/step - loss: 0.5591 - accuracy: 0.6947 - val_loss: 0.5642 - val_accuracy: 0.6923\n",
      "Epoch 9/50\n",
      "1000/1000 [==============================] - 10s 10ms/step - loss: 0.5530 - accuracy: 0.6969 - val_loss: 0.5655 - val_accuracy: 0.6901\n",
      "Epoch 10/50\n",
      "1000/1000 [==============================] - 10s 10ms/step - loss: 0.5530 - accuracy: 0.6978 - val_loss: 0.5636 - val_accuracy: 0.6916\n",
      "Epoch 11/50\n",
      "1000/1000 [==============================] - 10s 10ms/step - loss: 0.5521 - accuracy: 0.7017 - val_loss: 0.5642 - val_accuracy: 0.6886\n",
      "Epoch 12/50\n",
      "1000/1000 [==============================] - 10s 10ms/step - loss: 0.5456 - accuracy: 0.7089 - val_loss: 0.5581 - val_accuracy: 0.6982\n",
      "Epoch 13/50\n",
      "1000/1000 [==============================] - 10s 10ms/step - loss: 0.5442 - accuracy: 0.7113 - val_loss: 0.5454 - val_accuracy: 0.7151\n",
      "Epoch 14/50\n",
      "1000/1000 [==============================] - 10s 10ms/step - loss: 0.5435 - accuracy: 0.7117 - val_loss: 0.5564 - val_accuracy: 0.6986\n",
      "Epoch 15/50\n",
      "1000/1000 [==============================] - 10s 10ms/step - loss: 0.5316 - accuracy: 0.7288 - val_loss: 0.5674 - val_accuracy: 0.6935\n",
      "Epoch 16/50\n",
      "1000/1000 [==============================] - 10s 10ms/step - loss: 0.5183 - accuracy: 0.7410 - val_loss: 0.5727 - val_accuracy: 0.7871\n",
      "Epoch 17/50\n",
      "1000/1000 [==============================] - 10s 10ms/step - loss: 0.3675 - accuracy: 0.8544 - val_loss: 0.3217 - val_accuracy: 0.8710\n",
      "Epoch 18/50\n",
      "1000/1000 [==============================] - 10s 10ms/step - loss: 0.3218 - accuracy: 0.8758 - val_loss: 0.3097 - val_accuracy: 0.8785\n",
      "Epoch 19/50\n",
      "1000/1000 [==============================] - 10s 10ms/step - loss: 0.3252 - accuracy: 0.8703 - val_loss: 0.3070 - val_accuracy: 0.8809\n",
      "Epoch 20/50\n",
      "1000/1000 [==============================] - 10s 10ms/step - loss: 0.3187 - accuracy: 0.8759 - val_loss: 0.3124 - val_accuracy: 0.8831\n",
      "Epoch 21/50\n",
      "1000/1000 [==============================] - 11s 11ms/step - loss: 0.3062 - accuracy: 0.8845 - val_loss: 0.4454 - val_accuracy: 0.7971\n",
      "Epoch 22/50\n",
      "1000/1000 [==============================] - 11s 11ms/step - loss: 0.3540 - accuracy: 0.8513 - val_loss: 0.3082 - val_accuracy: 0.8733\n",
      "Epoch 23/50\n",
      "1000/1000 [==============================] - 11s 11ms/step - loss: 0.3046 - accuracy: 0.8738 - val_loss: 0.3158 - val_accuracy: 0.8715\n",
      "Epoch 24/50\n",
      "1000/1000 [==============================] - 11s 11ms/step - loss: 0.3068 - accuracy: 0.8773 - val_loss: 0.2933 - val_accuracy: 0.8850\n",
      "Epoch 25/50\n",
      "1000/1000 [==============================] - 11s 11ms/step - loss: 0.2900 - accuracy: 0.8839 - val_loss: 0.2826 - val_accuracy: 0.8811\n",
      "Epoch 26/50\n",
      "1000/1000 [==============================] - 10s 10ms/step - loss: 0.2902 - accuracy: 0.8818 - val_loss: 0.2787 - val_accuracy: 0.8884\n",
      "Epoch 27/50\n",
      "1000/1000 [==============================] - 10s 10ms/step - loss: 0.2807 - accuracy: 0.8869 - val_loss: 0.2690 - val_accuracy: 0.8939\n",
      "Epoch 28/50\n",
      "1000/1000 [==============================] - 10s 10ms/step - loss: 0.2688 - accuracy: 0.8972 - val_loss: 0.2615 - val_accuracy: 0.8963\n",
      "Epoch 29/50\n",
      "1000/1000 [==============================] - 11s 11ms/step - loss: 0.2601 - accuracy: 0.9008 - val_loss: 0.2437 - val_accuracy: 0.9105\n",
      "Epoch 30/50\n",
      "1000/1000 [==============================] - 11s 11ms/step - loss: 0.2484 - accuracy: 0.9054 - val_loss: 0.2247 - val_accuracy: 0.9174\n",
      "Epoch 31/50\n",
      "1000/1000 [==============================] - 11s 11ms/step - loss: 0.2525 - accuracy: 0.9040 - val_loss: 0.2392 - val_accuracy: 0.9057\n",
      "Epoch 32/50\n",
      "1000/1000 [==============================] - 11s 11ms/step - loss: 0.2440 - accuracy: 0.9083 - val_loss: 0.2740 - val_accuracy: 0.8978\n",
      "Epoch 33/50\n",
      "1000/1000 [==============================] - 11s 11ms/step - loss: 0.2384 - accuracy: 0.9113 - val_loss: 0.2441 - val_accuracy: 0.9100\n",
      "Epoch 34/50\n",
      "1000/1000 [==============================] - 11s 11ms/step - loss: 0.2382 - accuracy: 0.9129 - val_loss: 0.2552 - val_accuracy: 0.9020\n",
      "Epoch 35/50\n",
      "1000/1000 [==============================] - 11s 11ms/step - loss: 0.2284 - accuracy: 0.9139 - val_loss: 0.2103 - val_accuracy: 0.9224\n",
      "Epoch 36/50\n",
      "1000/1000 [==============================] - 11s 11ms/step - loss: 0.2100 - accuracy: 0.9232 - val_loss: 0.1940 - val_accuracy: 0.9300\n",
      "Epoch 37/50\n",
      "1000/1000 [==============================] - 11s 11ms/step - loss: 0.2131 - accuracy: 0.9235 - val_loss: 0.2054 - val_accuracy: 0.9261\n",
      "Epoch 38/50\n",
      "1000/1000 [==============================] - 10s 10ms/step - loss: 0.2203 - accuracy: 0.9221 - val_loss: 0.1958 - val_accuracy: 0.9326\n",
      "Epoch 39/50\n",
      "1000/1000 [==============================] - 11s 11ms/step - loss: 0.2048 - accuracy: 0.9268 - val_loss: 0.2007 - val_accuracy: 0.9331\n",
      "Epoch 40/50\n",
      "1000/1000 [==============================] - 11s 11ms/step - loss: 0.1986 - accuracy: 0.9300 - val_loss: 0.2458 - val_accuracy: 0.9090\n",
      "Epoch 41/50\n",
      "1000/1000 [==============================] - 11s 11ms/step - loss: 0.2148 - accuracy: 0.9224 - val_loss: 0.1872 - val_accuracy: 0.9359\n",
      "Epoch 42/50\n",
      "1000/1000 [==============================] - 11s 11ms/step - loss: 0.1902 - accuracy: 0.9342 - val_loss: 0.1848 - val_accuracy: 0.9364\n",
      "Epoch 43/50\n",
      "1000/1000 [==============================] - 11s 11ms/step - loss: 0.2036 - accuracy: 0.9278 - val_loss: 0.2068 - val_accuracy: 0.9234\n",
      "Epoch 44/50\n",
      "1000/1000 [==============================] - 11s 11ms/step - loss: 0.2486 - accuracy: 0.9064 - val_loss: 0.2697 - val_accuracy: 0.8919\n",
      "Epoch 45/50\n",
      "1000/1000 [==============================] - 11s 11ms/step - loss: 0.2741 - accuracy: 0.8907 - val_loss: 0.2511 - val_accuracy: 0.8988\n",
      "Epoch 46/50\n",
      "1000/1000 [==============================] - 11s 11ms/step - loss: 0.2513 - accuracy: 0.9000 - val_loss: 0.2412 - val_accuracy: 0.9061\n",
      "Epoch 47/50\n",
      "1000/1000 [==============================] - 11s 11ms/step - loss: 0.2420 - accuracy: 0.9035 - val_loss: 0.2273 - val_accuracy: 0.9112\n",
      "Epoch 48/50\n",
      "1000/1000 [==============================] - 11s 11ms/step - loss: 0.2354 - accuracy: 0.9086 - val_loss: 0.2197 - val_accuracy: 0.9185\n",
      "Epoch 49/50\n",
      "1000/1000 [==============================] - 11s 11ms/step - loss: 0.2217 - accuracy: 0.9164 - val_loss: 0.2131 - val_accuracy: 0.9222\n",
      "Epoch 50/50\n",
      "1000/1000 [==============================] - 11s 11ms/step - loss: 0.2197 - accuracy: 0.9186 - val_loss: 0.2249 - val_accuracy: 0.9189\n",
      "Fold 5, 50 epochs, 530 sec\n"
     ]
    },
    {
     "data": {
      "image/png": "[encoded data removed]",
      "text/plain": [
       "<Figure size 576x360 with 1 Axes>"
      ]
     },
     "metadata": {
      "needs_background": "light",
      "tags": []
     },
     "output_type": "display_data"
    }
   ],
   "source": [
    "do_cross_validation(X,y)"
   ]
  },
  {
   "cell_type": "code",
   "execution_count": 22,
   "metadata": {
    "colab": {
     "base_uri": "https://localhost:8080/"
    },
    "id": "e-jG1h5fj2Ua",
    "outputId": "941b9c9c-a639-402e-c6d4-af16fc896cee"
   },
   "outputs": [
    {
     "name": "stdout",
     "output_type": "stream",
     "text": [
      "The best model parameters were saved during cross-validation.\n",
      "Best was defined as maximum validation accuracy at end of any epoch.\n",
      "Now re-load the best model and test it on previously unseen data.\n",
      "Test on 1000 PC seqs\n",
      "Test on 1000 NC seqs\n",
      "accuracy: 94.85%\n"
     ]
    }
   ],
   "source": [
    "from keras.models import load_model\n",
    "pc_sim.set_reproducible(True)\n",
    "nc_sim.set_reproducible(True)\n",
    "pc_test = pc_sim.get_sequences(PC_TESTS)\n",
    "nc_test = nc_sim.get_sequences(NC_TESTS)\n",
    "X,y = prepare_inputs_len_x_alphabet(pc_test,nc_test,ALPHABET)\n",
    "best_model=load_model(MODELPATH)\n",
    "scores = best_model.evaluate(X, y, verbose=0)\n",
    "print(\"The best model parameters were saved during cross-validation.\")\n",
    "print(\"Best was defined as maximum validation accuracy at end of any epoch.\")\n",
    "print(\"Now re-load the best model and test it on previously unseen data.\")\n",
    "print(\"Test on\",len(pc_test),\"PC seqs\")\n",
    "print(\"Test on\",len(nc_test),\"NC seqs\")\n",
    "print(\"%s: %.2f%%\" % (best_model.metrics_names[1], scores[1]*100))\n"
   ]
  },
  {
   "cell_type": "code",
   "execution_count": 23,
   "metadata": {
    "colab": {
     "base_uri": "https://localhost:8080/",
     "height": 312
    },
    "id": "VycUnmvUj2Ue",
    "outputId": "92046844-cfd7-45f3-d795-4cdc0371ca7e"
   },
   "outputs": [
    {
     "data": {
      "image/png": "[encoded data removed]",
      "text/plain": [
       "<Figure size 432x288 with 1 Axes>"
      ]
     },
     "metadata": {
      "needs_background": "light",
      "tags": []
     },
     "output_type": "display_data"
    },
    {
     "name": "stdout",
     "output_type": "stream",
     "text": [
      "AUC: 0.97%\n"
     ]
    }
   ],
   "source": [
    "from sklearn.metrics import roc_curve\n",
    "from sklearn.metrics import roc_auc_score\n",
    "ns_probs = [0 for _ in range(len(y))]\n",
    "bm_probs = best_model.predict(X)\n",
    "ns_auc = roc_auc_score(y, ns_probs)\n",
    "bm_auc = roc_auc_score(y, bm_probs)\n",
    "ns_fpr, ns_tpr, _ = roc_curve(y, ns_probs)\n",
    "bm_fpr, bm_tpr, _ = roc_curve(y, bm_probs)\n",
    "plt.plot(ns_fpr, ns_tpr, linestyle='--', label='Guess, auc=%.4f'%ns_auc)\n",
    "plt.plot(bm_fpr, bm_tpr, marker='.', label='Model, auc=%.4f'%bm_auc)\n",
    "plt.title('ROC')\n",
    "plt.xlabel('False Positive Rate')\n",
    "plt.ylabel('True Positive Rate')\n",
    "plt.legend()\n",
    "plt.show()\n",
    "print(\"%s: %.2f%%\" %('AUC',bm_auc*100.0))\n"
   ]
  },
  {
   "cell_type": "code",
   "execution_count": 24,
   "metadata": {
    "colab": {
     "base_uri": "https://localhost:8080/",
     "height": 36
    },
    "id": "kFMb6rGNj2Ug",
    "outputId": "8f78197b-ebcf-4ae2-c9e1-1f4756adc0cf"
   },
   "outputs": [
    {
     "data": {
      "application/vnd.google.colaboratory.intrinsic+json": {
       "type": "string"
      },
      "text/plain": [
       "'2021-05-18 12:59:44 UTC'"
      ]
     },
     "execution_count": 24,
     "metadata": {
      "tags": []
     },
     "output_type": "execute_result"
    }
   ],
   "source": [
    "t = time.time()\n",
    "time.strftime('%Y-%m-%d %H:%M:%S %Z', time.localtime(t))"
   ]
  },
  {
   "cell_type": "markdown",
   "metadata": {},
   "source": [
    "## Conclusion\n",
    "The LSTM has variable success on simulated RNA of length 125.\n",
    "That is, it learns during some rounds of cross validation, but not all."
   ]
  },
  {
   "cell_type": "code",
   "execution_count": null,
   "metadata": {},
   "outputs": [],
   "source": []
  }
 ],
 "metadata": {
  "accelerator": "GPU",
  "colab": {
   "collapsed_sections": [],
   "name": "ORF_LSTM_107.ipynb",
   "provenance": []
  },
  "kernelspec": {
   "display_name": "Python 3",
   "language": "python",
   "name": "python3"
  },
  "language_info": {
   "codemirror_mode": {
    "name": "ipython",
    "version": 3
   },
   "file_extension": ".py",
   "mimetype": "text/x-python",
   "name": "python",
   "nbconvert_exporter": "python",
   "pygments_lexer": "ipython3",
   "version": "3.8.3"
  }
 },
 "nbformat": 4,
 "nbformat_minor": 1
}
