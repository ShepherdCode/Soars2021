{
  "nbformat": 4,
  "nbformat_minor": 0,
  "metadata": {
    "accelerator": "GPU",
    "colab": {
      "name": "ORF_MLP_114.ipynb",
      "provenance": [],
      "collapsed_sections": []
    },
    "kernelspec": {
      "display_name": "Python 3",
      "language": "python",
      "name": "python3"
    },
    "language_info": {
      "codemirror_mode": {
        "name": "ipython",
        "version": 3
      },
      "file_extension": ".py",
      "mimetype": "text/x-python",
      "name": "python",
      "nbconvert_exporter": "python",
      "pygments_lexer": "ipython3",
      "version": "3.8.3"
    }
  },
  "cells": [
    {
      "cell_type": "markdown",
      "metadata": {
        "id": "ojm_6E9f9Kcf"
      },
      "source": [
        "# MLP ORF to GenCode \n",
        "Train on ORFs, test on GenCode.  \n",
        "Use the model trained in notebook 113."
      ]
    },
    {
      "cell_type": "code",
      "metadata": {
        "colab": {
          "base_uri": "https://localhost:8080/"
        },
        "id": "RmPF4h_YI_sT",
        "outputId": "3fcd6733-a650-423e-af71-790625bb4eb9"
      },
      "source": [
        "import time\n",
        "def show_time():\n",
        "    t = time.time()\n",
        "    print(time.strftime('%Y-%m-%d %H:%M:%S %Z', time.localtime(t)))\n",
        "show_time()"
      ],
      "execution_count": 1,
      "outputs": [
        {
          "output_type": "stream",
          "text": [
            "2021-07-20 16:17:01 UTC\n"
          ],
          "name": "stdout"
        }
      ]
    },
    {
      "cell_type": "code",
      "metadata": {
        "id": "VQY7aTj29Kch"
      },
      "source": [
        "import numpy as np\n",
        "import pandas as pd\n",
        "import matplotlib.pyplot as plt\n",
        "from sklearn.utils import shuffle\n",
        "from sklearn.model_selection import KFold\n",
        "from sklearn.model_selection import cross_val_score\n",
        "from sklearn.metrics import roc_curve\n",
        "from sklearn.metrics import roc_auc_score\n",
        "\n",
        "from keras.models import Sequential\n",
        "from keras.layers import Dense,Embedding,Dropout\n",
        "from keras.layers import Flatten,TimeDistributed\n",
        "from keras.losses import BinaryCrossentropy\n",
        "from keras.callbacks import ModelCheckpoint\n",
        "from keras.models import load_model"
      ],
      "execution_count": 2,
      "outputs": []
    },
    {
      "cell_type": "code",
      "metadata": {
        "colab": {
          "base_uri": "https://localhost:8080/"
        },
        "id": "xUxEB53HI_sk",
        "outputId": "e413003d-cd3d-444d-aafa-5d09693de446"
      },
      "source": [
        "import sys\n",
        "IN_COLAB = False\n",
        "try:\n",
        "    from google.colab import drive\n",
        "    IN_COLAB = True\n",
        "except:\n",
        "    pass\n",
        "if IN_COLAB:\n",
        "    print(\"On Google CoLab, mount cloud-local file, get our code from GitHub.\")\n",
        "    PATH='/content/drive/'\n",
        "    #drive.mount(PATH,force_remount=True)  # hardly ever need this\n",
        "    drive.mount(PATH)    # Google will require login credentials\n",
        "    DATAPATH=PATH+'My Drive/data/'  # must end in \"/\"\n",
        "    import requests\n",
        "    r = requests.get('https://raw.githubusercontent.com/ShepherdCode/Soars2021/master/SimTools/RNA_describe.py')\n",
        "    with open('RNA_describe.py', 'w') as f:\n",
        "        f.write(r.text)  \n",
        "    from RNA_describe import ORF_counter\n",
        "    r = requests.get('https://raw.githubusercontent.com/ShepherdCode/Soars2021/master/SimTools/GenCodeTools.py')\n",
        "    with open('GenCodeTools.py', 'w') as f:\n",
        "        f.write(r.text)  \n",
        "    from GenCodeTools import GenCodeLoader\n",
        "    r = requests.get('https://raw.githubusercontent.com/ShepherdCode/Soars2021/master/SimTools/KmerTools.py')\n",
        "    with open('KmerTools.py', 'w') as f:\n",
        "        f.write(r.text)  \n",
        "    from KmerTools import KmerTools\n",
        "else:\n",
        "        print(\"CoLab not working. On my PC, use relative paths.\")\n",
        "        DATAPATH='data/'  # must end in \"/\"\n",
        "        sys.path.append(\"..\") # append parent dir in order to use sibling dirs\n",
        "        from SimTools.RNA_describe import ORF_counter\n",
        "        from SimTools.GenCodeTools import GenCodeLoader\n",
        "        from SimTools.KmerTools import KmerTools\n",
        "BESTMODELPATH=DATAPATH+\"BestModel\"  # saved on cloud instance and lost after logout\n",
        "LASTMODELPATH=DATAPATH+\"LastModel\"  # saved on Google Drive but requires login"
      ],
      "execution_count": 3,
      "outputs": [
        {
          "output_type": "stream",
          "text": [
            "On Google CoLab, mount cloud-local file, get our code from GitHub.\n",
            "Mounted at /content/drive/\n"
          ],
          "name": "stdout"
        }
      ]
    },
    {
      "cell_type": "markdown",
      "metadata": {
        "id": "8buAhZRfI_sp"
      },
      "source": [
        "## Data Load"
      ]
    },
    {
      "cell_type": "code",
      "metadata": {
        "colab": {
          "base_uri": "https://localhost:8080/"
        },
        "id": "h94xptH1tI82",
        "outputId": "64a1bc9d-33ba-4263-eea0-eb55dd52a5da"
      },
      "source": [
        "PC_TRAINS=8000\n",
        "NC_TRAINS=8000\n",
        "PC_TESTS=8000\n",
        "NC_TESTS=8000   \n",
        "PC_LENS=(200,99000)\n",
        "NC_LENS=(200,99000)   \n",
        "PC_FILENAME='gencode.v38.pc_transcripts.fa.gz'\n",
        "NC_FILENAME='gencode.v38.lncRNA_transcripts.fa.gz'\n",
        "PC_FULLPATH=DATAPATH+PC_FILENAME\n",
        "NC_FULLPATH=DATAPATH+NC_FILENAME\n",
        "MAX_K = 3\n",
        "show_time()"
      ],
      "execution_count": 4,
      "outputs": [
        {
          "output_type": "stream",
          "text": [
            "2021-07-20 16:17:24 UTC\n"
          ],
          "name": "stdout"
        }
      ]
    },
    {
      "cell_type": "code",
      "metadata": {
        "colab": {
          "base_uri": "https://localhost:8080/"
        },
        "id": "VNnPagXjtI85",
        "outputId": "7f6afc41-cf94-40da-cb88-6ed34b080882"
      },
      "source": [
        "loader=GenCodeLoader()\n",
        "loader.set_label(1)\n",
        "loader.set_check_utr(False)\n",
        "pcdf=loader.load_file(PC_FULLPATH)\n",
        "print(\"PC seqs loaded:\",len(pcdf))\n",
        "loader.set_label(0)\n",
        "loader.set_check_utr(False)\n",
        "ncdf=loader.load_file(NC_FULLPATH)\n",
        "print(\"NC seqs loaded:\",len(ncdf))\n",
        "show_time()"
      ],
      "execution_count": 5,
      "outputs": [
        {
          "output_type": "stream",
          "text": [
            "PC seqs loaded: 106143\n",
            "NC seqs loaded: 48752\n",
            "2021-07-20 16:17:32 UTC\n"
          ],
          "name": "stdout"
        }
      ]
    },
    {
      "cell_type": "code",
      "metadata": {
        "colab": {
          "base_uri": "https://localhost:8080/"
        },
        "id": "ShtPw_fGtI9E",
        "outputId": "91e5084b-1b32-4f6a-844a-819aff12ee26"
      },
      "source": [
        "def dataframe_length_filter(df,low_high):\n",
        "    (low,high)=low_high\n",
        "    # The pandas query language is strange, \n",
        "    # but this is MUCH faster than loop & drop.\n",
        "    return df[ (df['seqlen']>=low) & (df['seqlen']<=high) ]\n",
        "def dataframe_extract_sequence(df):\n",
        "    return df['sequence'].tolist()\n",
        "\n",
        "pc_all = dataframe_extract_sequence(\n",
        "    dataframe_length_filter(pcdf,PC_LENS))\n",
        "nc_all = dataframe_extract_sequence(\n",
        "    dataframe_length_filter(ncdf,NC_LENS))\n",
        "\n",
        "show_time()\n",
        "print(\"PC seqs pass filter:\",len(pc_all))\n",
        "print(\"NC seqs pass filter:\",len(nc_all))\n",
        "# Garbage collection to reduce RAM footprint\n",
        "pcdf=None\n",
        "ncdf=None"
      ],
      "execution_count": 6,
      "outputs": [
        {
          "output_type": "stream",
          "text": [
            "2021-07-20 16:17:32 UTC\n",
            "PC seqs pass filter: 105685\n",
            "NC seqs pass filter: 48469\n"
          ],
          "name": "stdout"
        }
      ]
    },
    {
      "cell_type": "code",
      "metadata": {
        "colab": {
          "base_uri": "https://localhost:8080/"
        },
        "id": "xTz0pkFlI_sr",
        "outputId": "59700a44-fcb0-40c5-939d-527b824c948f"
      },
      "source": [
        "# Describe the sequences\n",
        "def describe_sequences(list_of_seq):\n",
        "    oc = ORF_counter()\n",
        "    num_seq = len(list_of_seq)\n",
        "    rna_lens = np.zeros(num_seq)\n",
        "    orf_lens = np.zeros(num_seq)\n",
        "    for i in range(0,num_seq):\n",
        "        rna_len = len(list_of_seq[i])\n",
        "        rna_lens[i] = rna_len\n",
        "        oc.set_sequence(list_of_seq[i])\n",
        "        orf_len = oc.get_max_orf_len()\n",
        "        orf_lens[i] = orf_len\n",
        "    print (\"Average RNA length:\",rna_lens.mean())\n",
        "    print (\"Average ORF length:\",orf_lens.mean())\n",
        "    \n",
        "print(\"Sequence characteristics:\")\n",
        "print(\"PC seqs\")\n",
        "describe_sequences(pc_all)\n",
        "print(\"NC seqs\")\n",
        "describe_sequences(nc_all)\n",
        "show_time()"
      ],
      "execution_count": 7,
      "outputs": [
        {
          "output_type": "stream",
          "text": [
            "Sequence characteristics:\n",
            "PC seqs\n",
            "Average RNA length: 2301.5303212376402\n",
            "Average ORF length: 1135.4025074513886\n",
            "NC seqs\n",
            "Average RNA length: 1324.391776186841\n",
            "Average ORF length: 209.12282077203986\n",
            "2021-07-20 16:18:55 UTC\n"
          ],
          "name": "stdout"
        }
      ]
    },
    {
      "cell_type": "markdown",
      "metadata": {
        "id": "CCNh_FZaI_sv"
      },
      "source": [
        "## Data Prep"
      ]
    },
    {
      "cell_type": "code",
      "metadata": {
        "colab": {
          "base_uri": "https://localhost:8080/"
        },
        "id": "V91rP2osI_s1",
        "outputId": "382ee886-ce82-4ed6-ef07-ec17c0f9d1bd"
      },
      "source": [
        "# Any portion of a shuffled list is a random selection\n",
        "pc_train=pc_all[:PC_TRAINS] \n",
        "nc_train=nc_all[:NC_TRAINS]\n",
        "pc_test=pc_all[PC_TRAINS:PC_TRAINS+PC_TESTS] \n",
        "nc_test=nc_all[NC_TRAINS:NC_TRAINS+PC_TESTS]\n",
        "print(\"PC train, NC train:\",len(pc_train),len(nc_train))\n",
        "print(\"PC test, NC test:\",len(pc_test),len(nc_test))\n",
        "# Garbage collection\n",
        "pc_all=None\n",
        "nc_all=None"
      ],
      "execution_count": 8,
      "outputs": [
        {
          "output_type": "stream",
          "text": [
            "PC train, NC train: 8000 8000\n",
            "PC test, NC test: 8000 8000\n"
          ],
          "name": "stdout"
        }
      ]
    },
    {
      "cell_type": "code",
      "metadata": {
        "colab": {
          "base_uri": "https://localhost:8080/"
        },
        "id": "FfyPeInGI_s4",
        "outputId": "8048aea4-df4d-4308-a122-a8560fa42950"
      },
      "source": [
        "def prepare_x_and_y(seqs1,seqs0):\n",
        "    len1=len(seqs1)\n",
        "    len0=len(seqs0)\n",
        "    total=len1+len0\n",
        "    L1=np.ones(len1,dtype=np.int8)\n",
        "    L0=np.zeros(len0,dtype=np.int8)\n",
        "    S1 = np.asarray(seqs1)\n",
        "    S0 = np.asarray(seqs0)\n",
        "    all_labels = np.concatenate((L1,L0))\n",
        "    all_seqs = np.concatenate((S1,S0))  \n",
        "    return all_seqs,all_labels  # use this to test unshuffled\n",
        "    # bug in next line?\n",
        "    X,y = shuffle(all_seqs,all_labels) # sklearn.utils.shuffle \n",
        "    #Doesn't fix it\n",
        "    #X = shuffle(all_seqs,random_state=3) # sklearn.utils.shuffle \n",
        "    #y = shuffle(all_labels,random_state=3) # sklearn.utils.shuffle \n",
        "    return X,y\n",
        "Xseq,y=prepare_x_and_y(pc_train,nc_train)\n",
        "print(Xseq[:3])\n",
        "print(y[:3])\n",
        "# Tests:\n",
        "show_time()"
      ],
      "execution_count": 9,
      "outputs": [
        {
          "output_type": "stream",
          "text": [
            "['CCCAGATCTCTTCAGTTTTTATGCCTCATTCTGTGAAAATTGCTGTAGTCTCTTCCAGTTATGAAGAAGGTAACTGCAGAGGCTATTTCCTGGAATGAATCAACGAGTGAAACGAATAACTCTATGGTGACTGAATTCATTTTTCTGGGTCTCTCTGATTCTCAGGAACTCCAGACCTTCCTATTTATGTTGTTTTTTGTATTCTATGGAGGAATCGTGTTTGGAAACCTTCTTATTGTCATAACAGTGGTATCTGACTCCCACCTTCACTCTCCCATGTACTTCCTGCTAGCCAACCTCTCACTCATTGATCTGTCTCTGTCTTCAGTCACAGCCCCCAAGATGATTACTGACTTTTTCAGCCAGCGCAAAGTCATCTCTTTCAAGGGCTGCCTTGTTCAGATATTTCTCCTTCACTTCTTTGGTGGGAGTGAGATGGTGATCCTCATAGCCATGGGCTTTGACAGATATATAGCAATATGCAAGCCCCTACACTACACTACAATTATGTGTGGCAACGCATGTGTCGGCATTATGGCTGTCACATGGGGAATTGGCTTTCTCCATTCGGTGAGCCAGTTGGCGTTTGCCGTGCACTTACTCTTCTGTGGTCCCAATGAGGTCGATAGTTTTTATTGTGACCTTCCTAGGGTAATCAAACTTGCCTGTACAGATACCTACAGGCTAGATATTATGGTCATTGCTAACAGTGGTGTGCTCACTGTGTGTTCTTTTGTTCTTCTAATCATCTCATACACTATCATCCTAATGACCATCCAGCATCGCCCTTTAGATAAGTCGTCCAAAGCTCTGTCCACTTTGACTGCTCACATTACAGTAGTTCTTTTGTTCTTTGGACCATGTGTCTTTATTTATGCCTGGCCATTCCCCATCAAGTCATTAGATAAATTCCTTGCTGTATTTTATTCTGTGATCACCCCTCTCTTGAACCCAATTATATACACACTGAGGAACAAAGACATGAAGACGGCAATAAGACAGCTGAGAAAATGGGATGCACATTCTAGTGTAAAGTTTTAGATCTTATATAACTGTGAGATTAATCTCAGATAATGACACAAAATATAGTGAAGTTGGTAAGTTATTTAGTAAAGCTCATGAAAATTGTGCCCTCCATTCCCATATAATTTAGTAATTGTCTAGGAACTTCCACATACATTGCCTCAATTTATCTTTCAACAACTTGTGTGTTATATTTTGGAATACAGATACAAAGTTATTATGCTTTCAAAATATTCTTTTGCTAATTCTTAGAACAAAGAAAGGCATAAATATATTAGTATTTGTGTACACCTGTTCCTTCCTGTGTGACCCTAAGTTTAGTAGAAGAAAGGAGAGAAAATATAGCCTAGCTTATAAATTTAAAAAAAAATTTATTTGGTCCATTTTGTGAAAAACATAAAAAAAGAACTGTCACATCTTAATTTAAAAAATATATGCTTAGTGGTAAGGAGATATATGTCAACTTTTAAGAGGTTGAAAAACAAACGCCTCCCATTATAAGTTTATACTTCACCTCCCACCACTATAACAACCCAGAATCCATGAGGGCATTATCAGGAGTGAGTGGAAGAGTAAGTTTGCCAATGTGAAATGTGCCTTCTAGGTCCTAGACGTCTGTGGTATAACTGCTCATAAGCAGTAGAAAGAATTTAGAGGGATCCAGGCTCTCATCACGTTGGCACAAAGTATATTACTTGGATCCATCTATGTCATTTTCCATGGTTAATGTTTAAAAGCACAGGCTTTAAAGTAAAAAACAAAGAGCTGGATTCAACTCTACTGACTCTTATTAATCATGATTTTGGGCACATTACGTAGCTTTCATGAGCTTTAGTTTCTACATTTATAAACAGGAGATTATACCTATTATGCATGGTTATTATGAAGGAAAATGACAAAATAGATATAAATCAAATAGCCCACTTCGAGACATATTAAGCATGAATAAACATTAGATACTATTAAAATCCTATATATTAACAAAGCCAAAAGTTTCAAACTTTACTTTTTCCCAACATTCTTGTGAAATATGACACATCCCAATCTTAACAGATGCTCATTTGGGATACTGTACTTGTGAGTGGAAGTGTGTATATTTGTGTGCAAGTGTGTACTCATATACTTCCACCTTACCACCCTAGAAAGGCATGATGAAAATTTAAGATAGAAGGAAAATATAAATTGAAAAAAAAAAACCTTAACAAATGATTCTGACAAATATCTTCTCTTTCCAGGGAGAATCACTGAGCCAGAATAAAATTGAACACTAAATATTCTAAGAAAAAAGGAATCTAGTTTGTCAAAATGTGACTTGAATTAATAGATAAGGAGAGTCAGATGATAAGAGGGTCAAAATTATGTTTATCTTAGGAAAAGTAGAATAGAAAATTTATAAGCAGATTAAAAACACATAATAAAAGTAGTAAATAATAATGACAGTATCTCAAATCAGTGCAGGGGGGAAAGGCCTACTAATGTGATGGTGGGATAATTGGATAGCAATATGGGAAAAGATATATTTAATTTATTTGCTACACCAAATGCCAGGACAATCTCTAAGTGAATTCAAGACATAACTCTTTTTTCAAAAAAAC'\n",
            " 'ATGGATGGAGAGAATCACTCAGTGGTATCTGAGTTTTTGTTTCTGGGACTCACTCATTCATGGGAGATCCAGCTCCTCCTCCTAGTGTTTTCCTCTGTGCTCTATGTGGCAAGCATTACTGGAAACATCCTCATTGTGTTTTCTGTGACCACTGACCCTCACTTACACTCCCCCATGTACTTTCTACTGGCCAGTCTCTCCTTCATTGACTTAGGAGCCTGCTCTGTCACTTCTCCCAAGATGATTTATGACCTGTTCAGAAAGCGCAAAGTCATCTCCTTTGGAGGCTGCATCGCTCAAATCTTCTTCATCCACGTCGTTGGTGGTGTGGAGATGGTGCTGCTCATAGCCATGGCCTTTGACAGATATGTGGCCCTATGTAAGCCCCTCCACTATCTGACCATTATGAGCCCAAGAATGTGCCTTTCATTTCTGGCTGTTGCCTGGACCCTTGGTGTCAGTCACTCCCTGTTCCAACTGGCATTTCTTGTTAATTTAGCCTTCTGTGGCCCTAATGTGTTGGACAGCTTCTACTGTGACCTTCCTCGGCTTCTCAGACTAGCCTGTACCGACACCTACAGATTGCAGTTCATGGTCACTGTTAACAGTGGGTTTATCTGTGTGGGTACTTTCTTCATACTTCTAATCTCCTACGTCTTCATCCTGTTTACTGTTTGGAAACATTCCTCAGGTGGTTCATCCAAGGCCCTTTCCACTCTTTCAGCTCACAGCACAGTGGTCCTTTTGTTCTTTGGTCCACCCATGTTTGTGTATACACGGCCACACCCTAATTCACAGATGGACAAGTTTCTGGCTATTTTTGATGCAGTTCTCACTCCTTTTCTGAATCCAGTTGTCTATACATTCAGGAATAAGGAGATGAAGGCAGCAATAAAGAGAGTATGCAAACAGCTAGTGATTTACAAGAGGATCTCATAA'\n",
            " 'AGCCCAGTTGGCTGGACCAATGGATGGAGAGAATCACTCAGTGGTATCTGAGTTTTTGTTTCTGGGACTCACTCATTCATGGGAGATCCAGCTCCTCCTCCTAGTGTTTTCCTCTGTGCTCTATGTGGCAAGCATTACTGGAAACATCCTCATTGTGTTTTCTGTGACCACTGACCCTCACTTACACTCCCCCATGTACTTTCTACTGGCCAGTCTCTCCTTCATTGACTTAGGAGCCTGCTCTGTCACTTCTCCCAAGATGATTTATGACCTGTTCAGAAAGCGCAAAGTCATCTCCTTTGGAGGCTGCATCGCTCAAATCTTCTTCATCCACGTCGTTGGTGGTGTGGAGATGGTGCTGCTCATAGCCATGGCCTTTGACAGATATGTGGCCCTATGTAAGCCCCTCCACTATCTGACCATTATGAGCCCAAGAATGTGCCTTTCATTTCTGGCTGTTGCCTGGACCCTTGGTGTCAGTCACTCCCTGTTCCAACTGGCATTTCTTGTTAATTTAGCCTTCTGTGGCCCTAATGTGTTGGACAGCTTCTACTGTGACCTTCCTCGGCTTCTCAGACTAGCCTGTACCGACACCTACAGATTGCAGTTCATGGTCACTGTTAACAGTGGGTTTATCTGTGTGGGTACTTTCTTCATACTTCTAATCTCCTACGTCTTCATCCTGTTTACTGTTTGGAAACATTCCTCAGGTGGTTCATCCAAGGCCCTTTCCACTCTTTCAGCTCACAGCACAGTGGTCCTTTTGTTCTTTGGTCCACCCATGTTTGTGTATACACGGCCACACCCTAATTCACAGATGGACAAGTTTCTGGCTATTTTTGATGCAGTTCTCACTCCTTTTCTGAATCCAGTTGTCTATACATTCAGGAATAAGGAGATGAAGGCAGCAATAAAGAGAGTATGCAAACAGCTAGTGATTTACAAGAGGATCTCATAAATGATATAATAAGCCCTTCTCATTAAACATGATATGG']\n",
            "[1 1 1]\n",
            "2021-07-20 16:18:57 UTC\n"
          ],
          "name": "stdout"
        }
      ]
    },
    {
      "cell_type": "code",
      "metadata": {
        "colab": {
          "base_uri": "https://localhost:8080/"
        },
        "id": "LWLixZOfI_s7",
        "outputId": "6fecd818-c6ee-40c2-f0c9-91d8887d0201"
      },
      "source": [
        "def seqs_to_kmer_freqs(seqs,max_K):\n",
        "    tool = KmerTools()  # from SimTools\n",
        "    empty = tool.make_dict_upto_K(max_K)\n",
        "    collection = []\n",
        "    for seq in seqs:\n",
        "        counts = empty\n",
        "        # Last param should be True when using Harvester.\n",
        "        counts = tool.update_count_one_K(counts,max_K,seq,True)\n",
        "        # Given counts for K=3, Harvester fills in counts for K=1,2.\n",
        "        counts = tool.harvest_counts_from_K(counts,max_K)\n",
        "        fdict = tool.count_to_frequency(counts,max_K)\n",
        "        freqs = list(fdict.values())\n",
        "        collection.append(freqs)\n",
        "    return np.asarray(collection)\n",
        "Xfrq=seqs_to_kmer_freqs(Xseq,MAX_K)\n",
        "show_time()"
      ],
      "execution_count": 10,
      "outputs": [
        {
          "output_type": "stream",
          "text": [
            "2021-07-20 16:19:12 UTC\n"
          ],
          "name": "stdout"
        }
      ]
    },
    {
      "cell_type": "markdown",
      "metadata": {
        "id": "dJ4XhrzGI_s-"
      },
      "source": [
        "## Neural network"
      ]
    },
    {
      "cell_type": "code",
      "metadata": {
        "colab": {
          "base_uri": "https://localhost:8080/"
        },
        "id": "o5NPW7zKI_tC",
        "outputId": "20297e39-64ad-4376-c628-8928b0251827"
      },
      "source": [
        "best_model=load_model(BESTMODELPATH)\n",
        "print(best_model.summary())"
      ],
      "execution_count": 11,
      "outputs": [
        {
          "output_type": "stream",
          "text": [
            "Model: \"sequential_2\"\n",
            "_________________________________________________________________\n",
            "Layer (type)                 Output Shape              Param #   \n",
            "=================================================================\n",
            "dense_6 (Dense)              (None, 128)               10880     \n",
            "_________________________________________________________________\n",
            "dropout_4 (Dropout)          (None, 128)               0         \n",
            "_________________________________________________________________\n",
            "dense_7 (Dense)              (None, 128)               16512     \n",
            "_________________________________________________________________\n",
            "dropout_5 (Dropout)          (None, 128)               0         \n",
            "_________________________________________________________________\n",
            "dense_8 (Dense)              (None, 1)                 129       \n",
            "=================================================================\n",
            "Total params: 27,521\n",
            "Trainable params: 27,521\n",
            "Non-trainable params: 0\n",
            "_________________________________________________________________\n",
            "None\n"
          ],
          "name": "stdout"
        }
      ]
    },
    {
      "cell_type": "code",
      "metadata": {
        "colab": {
          "base_uri": "https://localhost:8080/"
        },
        "id": "GVImN4_0I_tJ",
        "outputId": "a21e835a-a6d7-4476-fa58-3b114fa68e59"
      },
      "source": [
        "print(\"The best model parameters were saved during cross-validation.\")\n",
        "print(\"Best was defined as maximum validation accuracy at end of any epoch.\")\n",
        "print(\"Now re-load the best model and test it on previously unseen data.\")\n",
        "Xseq,y=prepare_x_and_y(pc_test,nc_test)\n",
        "print(Xseq[0])\n",
        "Xfrq=seqs_to_kmer_freqs(Xseq,MAX_K)\n",
        "print(Xfrq[0])\n",
        "print(y[:5])\n",
        "X=Xfrq\n",
        "scores = best_model.evaluate(X, y, verbose=0)\n",
        "print(\"Test on\",len(pc_test),\"PC seqs\")\n",
        "print(\"Test on\",len(nc_test),\"NC seqs\")\n",
        "print(\"%s: %.2f%%\" % (best_model.metrics_names[1], scores[1]*100))"
      ],
      "execution_count": 12,
      "outputs": [
        {
          "output_type": "stream",
          "text": [
            "The best model parameters were saved during cross-validation.\n",
            "Best was defined as maximum validation accuracy at end of any epoch.\n",
            "Now re-load the best model and test it on previously unseen data.\n",
            "CATTCCCAGAAACCAGGAAATTTCTGAAACTGAGTTTTAAACCTGGCAACTCTTTTACCATCCCTTTGTATTTTTGCAGTTCCTCCCTATACCAGCTTCCTTACAGCTGTTCTGATTTCCTGTCGTAAGATTTTTTCTTTTCATTTTCTCCAGGGAGGGTAAATCAATATAACCTCTTCTCTAGAGAGGAGGTGGTTAGGTTGGTCTTAAGCAGTGTTAGAAGATCTATTTTTTTTCAAACCAGGTGTCTGAGCTGGGTGAATTCCAGCCTGGGGAGAGGACTTTGATCACCAGATGTTTTTTTGGTGTGCGTGCTGTCTTATGGTTGCGTGGCGAGTTTCTGCTTCAGATGCAGAGCACTGTCCAGAGCTTCCTCCAGTGGACAATAGCATATTTGTCGCAAAGGAGGTGGAAGGACAGATTCTGGGGACTTACGTTTGTATCAAGGGCTACCACCTGGTAGGAAAGAAGACCCTTTTTTGCAATGCCTCTAAGGAGTGGGATAACACCACTACTGAGTGCCGCTTGGGCCACTGTCCTGATCCTGTGCTGGTGAATGGAGAGTTCAGTTCTTCAGGGCCTGTGAATGTAAGTGACAAAATCACGTTTATGTGCAATGACCACTACATCCTCAAGGGCAGCAATCGGAGCCAGTGTCTAGAGGACCACACCTGGGCACCTCCCTTTCCCATCTGCAAAAGTAGGGACTGTGACCCTCCTGGGAATCCAGTTCATGGCTATTTTGAAGGAAATAACTTCACCTTAGGATCCACCATTAGTTATTACTGTGAAGACAGGTACTACTTAGTGGGCGTGCAGGAGCAGCAATGCGTTGATGGGGAGTGGAGCAGTGCACTTCCAGTCTGCAAGTTGATCCAGGAAGCTCCCAAACCAGAGTGTGAGAAGGCACTTCTTGCCTTTCAGGAGAGTAAGAACCTCTGCGAAGCCATGGAGAACTTTATGCAACAATTAAAGGAAAGTGGCATGACAATGGAGGAGCTAAAATATTCTCTGGAGCTGAAGAAAGCTGAGTTGAAGGCAAAATTGTTGTAACACTACAGCTGAGCAGATGTAATAGAAATAAACCTATGAATAAATTTTCTTCTTGGTTCTGAAA\n",
            "[0.26320501 0.20590868 0.24709042 0.28379588 0.07706093 0.04749104\n",
            " 0.08602151 0.05197133 0.0672043  0.05286738 0.01075269 0.07526882\n",
            " 0.0734767  0.04749104 0.06630824 0.06003584 0.04569892 0.05734767\n",
            " 0.08422939 0.09677419 0.02242152 0.01255605 0.02152466 0.01973094\n",
            " 0.01076233 0.01883408 0.00179372 0.0161435  0.02242152 0.01793722\n",
            " 0.02511211 0.0206278  0.00986547 0.01165919 0.01524664 0.01524664\n",
            " 0.01704036 0.01434978 0.02690583 0.00896861 0.02242152 0.00717489\n",
            " 0.00089686 0.02242152 0.00179372 0.00179372 0.00089686 0.00627803\n",
            " 0.01165919 0.01165919 0.02869955 0.02331839 0.02331839 0.01076233\n",
            " 0.02780269 0.01165919 0.02152466 0.00717489 0.00538117 0.01345291\n",
            " 0.02690583 0.01076233 0.0161435  0.01255605 0.00986547 0.00807175\n",
            " 0.02421525 0.01793722 0.01434978 0.00986547 0.00986547 0.01165919\n",
            " 0.01165919 0.01973094 0.00269058 0.02331839 0.02242152 0.01704036\n",
            " 0.02421525 0.0206278  0.01434978 0.02600897 0.0161435  0.04035874]\n",
            "[1 1 1 1 1]\n",
            "Test on 8000 PC seqs\n",
            "Test on 8000 NC seqs\n",
            "accuracy: 50.00%\n"
          ],
          "name": "stdout"
        }
      ]
    },
    {
      "cell_type": "code",
      "metadata": {
        "colab": {
          "base_uri": "https://localhost:8080/",
          "height": 417
        },
        "id": "sxC-6dXcC8jG",
        "outputId": "50d3bd6c-6190-4702-d89f-c27673a78862"
      },
      "source": [
        "ns_probs = [0 for _ in range(len(y))]\n",
        "bm_probs = best_model.predict(X)\n",
        "print(\"predictions.shape\",bm_probs.shape)\n",
        "print(\"first predictions\",bm_probs[:5])\n",
        "ns_auc = roc_auc_score(y, ns_probs)\n",
        "bm_auc = roc_auc_score(y, bm_probs)\n",
        "ns_fpr, ns_tpr, _ = roc_curve(y, ns_probs)\n",
        "bm_fpr, bm_tpr, _ = roc_curve(y, bm_probs)\n",
        "plt.plot(ns_fpr, ns_tpr, linestyle='--', label='Guess, auc=%.4f'%ns_auc)\n",
        "plt.plot(bm_fpr, bm_tpr, marker='.', label='Model, auc=%.4f'%bm_auc)\n",
        "plt.title('ROC')\n",
        "plt.xlabel('False Positive Rate')\n",
        "plt.ylabel('True Positive Rate')\n",
        "plt.legend()\n",
        "plt.show()\n",
        "print(\"%s: %.2f%%\" %('AUC',bm_auc*100.0))\n"
      ],
      "execution_count": 13,
      "outputs": [
        {
          "output_type": "stream",
          "text": [
            "predictions.shape (16000, 1)\n",
            "first predictions [[2.1929274e-07]\n",
            " [1.7609143e-07]\n",
            " [3.5137981e-07]\n",
            " [3.6857846e-06]\n",
            " [6.3785978e-06]]\n"
          ],
          "name": "stdout"
        },
        {
          "output_type": "display_data",
          "data": {
            "image/png": "[encoded data removed]",
            "text/plain": [
              "<Figure size 432x288 with 1 Axes>"
            ]
          },
          "metadata": {
            "tags": [],
            "needs_background": "light"
          }
        },
        {
          "output_type": "stream",
          "text": [
            "AUC: 84.78%\n"
          ],
          "name": "stdout"
        }
      ]
    },
    {
      "cell_type": "code",
      "metadata": {
        "id": "tGf2PcxRC8jT"
      },
      "source": [
        ""
      ],
      "execution_count": 13,
      "outputs": []
    }
  ]
}