{
  "nbformat": 4,
  "nbformat_minor": 0,
  "metadata": {
    "accelerator": "GPU",
    "colab": {
      "name": "ORF_MLP_114.ipynb",
      "provenance": [],
      "collapsed_sections": []
    },
    "kernelspec": {
      "display_name": "Python 3",
      "language": "python",
      "name": "python3"
    },
    "language_info": {
      "codemirror_mode": {
        "name": "ipython",
        "version": 3
      },
      "file_extension": ".py",
      "mimetype": "text/x-python",
      "name": "python",
      "nbconvert_exporter": "python",
      "pygments_lexer": "ipython3",
      "version": "3.8.3"
    }
  },
  "cells": [
    {
      "cell_type": "markdown",
      "metadata": {
        "id": "ojm_6E9f9Kcf"
      },
      "source": [
        "# MLP ORF to GenCode \n",
        "Try using a saved model.  \n",
        "Run notebook 113 first.  \n",
        "It will save to my drive / best model.  \n",
        "This notebook will use the model trained in notebook 113."
      ]
    },
    {
      "cell_type": "code",
      "metadata": {
        "colab": {
          "base_uri": "https://localhost:8080/"
        },
        "id": "RmPF4h_YI_sT",
        "outputId": "5ca73207-0b94-4bd8-d62f-f3151e32e19a"
      },
      "source": [
        "import time\n",
        "def show_time():\n",
        "    t = time.time()\n",
        "    print(time.strftime('%Y-%m-%d %H:%M:%S %Z', time.localtime(t)))\n",
        "show_time()"
      ],
      "execution_count": 1,
      "outputs": [
        {
          "output_type": "stream",
          "text": [
            "2021-07-25 21:58:07 UTC\n"
          ],
          "name": "stdout"
        }
      ]
    },
    {
      "cell_type": "code",
      "metadata": {
        "id": "VQY7aTj29Kch"
      },
      "source": [
        "import numpy as np\n",
        "import pandas as pd\n",
        "import matplotlib.pyplot as plt\n",
        "from sklearn.utils import shuffle\n",
        "from sklearn.model_selection import KFold\n",
        "from sklearn.model_selection import cross_val_score\n",
        "from sklearn.metrics import roc_curve\n",
        "from sklearn.metrics import roc_auc_score\n",
        "\n",
        "from keras.models import Sequential\n",
        "from keras.layers import Dense,Embedding,Dropout\n",
        "from keras.layers import Flatten,TimeDistributed\n",
        "from keras.losses import BinaryCrossentropy\n",
        "from keras.callbacks import ModelCheckpoint\n",
        "from keras.models import load_model"
      ],
      "execution_count": 2,
      "outputs": []
    },
    {
      "cell_type": "code",
      "metadata": {
        "colab": {
          "base_uri": "https://localhost:8080/"
        },
        "id": "xUxEB53HI_sk",
        "outputId": "3ea0c44b-71f8-49e5-d40b-0c4ddc7f81a4"
      },
      "source": [
        "import sys\n",
        "IN_COLAB = False\n",
        "try:\n",
        "    from google.colab import drive\n",
        "    IN_COLAB = True\n",
        "except:\n",
        "    pass\n",
        "if IN_COLAB:\n",
        "    print(\"On Google CoLab, mount cloud-local file, get our code from GitHub.\")\n",
        "    PATH='/content/drive/'\n",
        "    #drive.mount(PATH,force_remount=True)  # hardly ever need this\n",
        "    drive.mount(PATH)    # Google will require login credentials\n",
        "    DATAPATH=PATH+'My Drive/data/'  # must end in \"/\"\n",
        "    import requests\n",
        "    r = requests.get('https://raw.githubusercontent.com/ShepherdCode/Soars2021/master/SimTools/RNA_describe.py')\n",
        "    with open('RNA_describe.py', 'w') as f:\n",
        "        f.write(r.text)  \n",
        "    from RNA_describe import ORF_counter\n",
        "    r = requests.get('https://raw.githubusercontent.com/ShepherdCode/Soars2021/master/SimTools/GenCodeTools.py')\n",
        "    with open('GenCodeTools.py', 'w') as f:\n",
        "        f.write(r.text)  \n",
        "    from GenCodeTools import GenCodeLoader\n",
        "    r = requests.get('https://raw.githubusercontent.com/ShepherdCode/Soars2021/master/SimTools/KmerTools.py')\n",
        "    with open('KmerTools.py', 'w') as f:\n",
        "        f.write(r.text)  \n",
        "    from KmerTools import KmerTools\n",
        "else:\n",
        "        print(\"CoLab not working. On my PC, use relative paths.\")\n",
        "        DATAPATH='data/'  # must end in \"/\"\n",
        "        sys.path.append(\"..\") # append parent dir in order to use sibling dirs\n",
        "        from SimTools.RNA_describe import ORF_counter\n",
        "        from SimTools.GenCodeTools import GenCodeLoader\n",
        "        from SimTools.KmerTools import KmerTools\n",
        "BESTMODELPATH=DATAPATH+\"BestModel\"  # saved on cloud instance and lost after logout\n",
        "LASTMODELPATH=DATAPATH+\"LastModel\"  # saved on Google Drive but requires login"
      ],
      "execution_count": 3,
      "outputs": [
        {
          "output_type": "stream",
          "text": [
            "On Google CoLab, mount cloud-local file, get our code from GitHub.\n",
            "Mounted at /content/drive/\n"
          ],
          "name": "stdout"
        }
      ]
    },
    {
      "cell_type": "markdown",
      "metadata": {
        "id": "8buAhZRfI_sp"
      },
      "source": [
        "## Data Load"
      ]
    },
    {
      "cell_type": "code",
      "metadata": {
        "colab": {
          "base_uri": "https://localhost:8080/"
        },
        "id": "h94xptH1tI82",
        "outputId": "8bdc915b-9271-4c78-d3c7-944eb76acf6f"
      },
      "source": [
        "PC_TRAINS=8000\n",
        "NC_TRAINS=8000\n",
        "PC_TESTS=8000\n",
        "NC_TESTS=8000   \n",
        "PC_LENS=(200,99000)\n",
        "NC_LENS=(200,99000)   \n",
        "PC_FILENAME='gencode.v38.pc_transcripts.fa.gz'\n",
        "NC_FILENAME='gencode.v38.lncRNA_transcripts.fa.gz'\n",
        "PC_FULLPATH=DATAPATH+PC_FILENAME\n",
        "NC_FULLPATH=DATAPATH+NC_FILENAME\n",
        "MAX_K = 3\n",
        "show_time()"
      ],
      "execution_count": 4,
      "outputs": [
        {
          "output_type": "stream",
          "text": [
            "2021-07-25 21:58:28 UTC\n"
          ],
          "name": "stdout"
        }
      ]
    },
    {
      "cell_type": "code",
      "metadata": {
        "colab": {
          "base_uri": "https://localhost:8080/"
        },
        "id": "VNnPagXjtI85",
        "outputId": "972a34f8-aaf4-4b94-862b-0e1f4a63c98d"
      },
      "source": [
        "loader=GenCodeLoader()\n",
        "loader.set_label(1)\n",
        "loader.set_check_utr(False)\n",
        "pcdf=loader.load_file(PC_FULLPATH)\n",
        "print(\"PC seqs loaded:\",len(pcdf))\n",
        "loader.set_label(0)\n",
        "loader.set_check_utr(False)\n",
        "ncdf=loader.load_file(NC_FULLPATH)\n",
        "print(\"NC seqs loaded:\",len(ncdf))\n",
        "show_time()"
      ],
      "execution_count": 5,
      "outputs": [
        {
          "output_type": "stream",
          "text": [
            "PC seqs loaded: 106143\n",
            "NC seqs loaded: 48752\n",
            "2021-07-25 21:58:34 UTC\n"
          ],
          "name": "stdout"
        }
      ]
    },
    {
      "cell_type": "code",
      "metadata": {
        "colab": {
          "base_uri": "https://localhost:8080/"
        },
        "id": "ShtPw_fGtI9E",
        "outputId": "3ec8982e-08a4-4123-a0c8-2250dfe47dd3"
      },
      "source": [
        "def dataframe_length_filter(df,low_high):\n",
        "    (low,high)=low_high\n",
        "    # The pandas query language is strange, \n",
        "    # but this is MUCH faster than loop & drop.\n",
        "    return df[ (df['seqlen']>=low) & (df['seqlen']<=high) ]\n",
        "def dataframe_extract_sequence(df):\n",
        "    return df['sequence'].tolist()\n",
        "\n",
        "pc_all = dataframe_extract_sequence(\n",
        "    dataframe_length_filter(pcdf,PC_LENS))\n",
        "nc_all = dataframe_extract_sequence(\n",
        "    dataframe_length_filter(ncdf,NC_LENS))\n",
        "\n",
        "show_time()\n",
        "print(\"PC seqs pass filter:\",len(pc_all))\n",
        "print(\"NC seqs pass filter:\",len(nc_all))\n",
        "# Garbage collection to reduce RAM footprint\n",
        "pcdf=None\n",
        "ncdf=None"
      ],
      "execution_count": 6,
      "outputs": [
        {
          "output_type": "stream",
          "text": [
            "2021-07-25 21:58:34 UTC\n",
            "PC seqs pass filter: 105685\n",
            "NC seqs pass filter: 48469\n"
          ],
          "name": "stdout"
        }
      ]
    },
    {
      "cell_type": "markdown",
      "metadata": {
        "id": "CCNh_FZaI_sv"
      },
      "source": [
        "## Data Prep"
      ]
    },
    {
      "cell_type": "code",
      "metadata": {
        "colab": {
          "base_uri": "https://localhost:8080/"
        },
        "id": "V91rP2osI_s1",
        "outputId": "e47c7d5a-f68a-4f48-e009-8d4fdf6773fb"
      },
      "source": [
        "# Train set not needed because we use a pre-trained model.\n",
        "# pc_train=pc_all[:PC_TRAINS] \n",
        "# nc_train=nc_all[:NC_TRAINS]\n",
        "# print(\"PC train, NC train:\",len(pc_train),len(nc_train))\n",
        "pc_test=pc_all[PC_TRAINS:PC_TRAINS+PC_TESTS] \n",
        "nc_test=nc_all[NC_TRAINS:NC_TRAINS+PC_TESTS]\n",
        "print(\"PC test, NC test:\",len(pc_test),len(nc_test))\n",
        "# Garbage collection\n",
        "pc_all=None\n",
        "nc_all=None"
      ],
      "execution_count": 7,
      "outputs": [
        {
          "output_type": "stream",
          "text": [
            "PC test, NC test: 8000 8000\n"
          ],
          "name": "stdout"
        }
      ]
    },
    {
      "cell_type": "code",
      "metadata": {
        "colab": {
          "base_uri": "https://localhost:8080/"
        },
        "id": "FfyPeInGI_s4",
        "outputId": "1bc79d45-4d1f-4b8c-ca8b-dbfa62c1fc29"
      },
      "source": [
        "def prepare_x_and_y(seqs1,seqs0):\n",
        "    len1=len(seqs1)\n",
        "    len0=len(seqs0)\n",
        "    total=len1+len0\n",
        "    L1=np.ones(len1,dtype=np.int8)\n",
        "    L0=np.zeros(len0,dtype=np.int8)\n",
        "    S1 = np.asarray(seqs1)\n",
        "    S0 = np.asarray(seqs0)\n",
        "    all_labels = np.concatenate((L1,L0))\n",
        "    all_seqs = np.concatenate((S1,S0))  \n",
        "    return all_seqs,all_labels  # use this to test unshuffled\n",
        "    X,y = shuffle(all_seqs,all_labels) # sklearn.utils.shuffle can be RAM hog\n",
        "    return X,y\n",
        "# Skip training, load a trained model.\n",
        "# Xseq,y=prepare_x_and_y(pc_train,nc_train)\n",
        "# print(Xseq[:3])\n",
        "# print(y[:3])\n",
        "show_time()"
      ],
      "execution_count": 8,
      "outputs": [
        {
          "output_type": "stream",
          "text": [
            "2021-07-25 21:58:34 UTC\n"
          ],
          "name": "stdout"
        }
      ]
    },
    {
      "cell_type": "code",
      "metadata": {
        "colab": {
          "base_uri": "https://localhost:8080/"
        },
        "id": "LWLixZOfI_s7",
        "outputId": "8241be23-ac6a-4140-a39e-3208177c9c68"
      },
      "source": [
        "def seqs_to_kmer_freqs(seqs,max_K):\n",
        "    tool = KmerTools()  # from SimTools\n",
        "    collection = []\n",
        "    #i=0\n",
        "    for seq in seqs:\n",
        "        counts = tool.make_dict_upto_K(max_K)\n",
        "        # Last param should be True when using Harvester.\n",
        "        counts = tool.update_count_one_K(counts,max_K,seq,True)\n",
        "        # Given counts for K=3, Harvester fills in counts for K=1,2.\n",
        "        counts = tool.harvest_counts_from_K(counts,max_K)\n",
        "        fdict = tool.count_to_frequency(counts,max_K)\n",
        "        freqs = list(fdict.values())\n",
        "        collection.append(freqs)\n",
        "        #i = i+1\n",
        "        #print(i)\n",
        "    return np.asarray(collection)\n",
        "# Skip training, load a trained model.\n",
        "# Xfrq=seqs_to_kmer_freqs(Xseq,MAX_K)\n",
        "# Garbage collection\n",
        "Xseq = None\n",
        "show_time()"
      ],
      "execution_count": 9,
      "outputs": [
        {
          "output_type": "stream",
          "text": [
            "2021-07-25 21:58:34 UTC\n"
          ],
          "name": "stdout"
        }
      ]
    },
    {
      "cell_type": "markdown",
      "metadata": {
        "id": "dJ4XhrzGI_s-"
      },
      "source": [
        "## Neural network"
      ]
    },
    {
      "cell_type": "code",
      "metadata": {
        "colab": {
          "base_uri": "https://localhost:8080/"
        },
        "id": "o5NPW7zKI_tC",
        "outputId": "f76b68b0-b0b9-454c-c6b8-18d4e6c7de2a"
      },
      "source": [
        "best_model=load_model(BESTMODELPATH)\n",
        "print(best_model.summary())"
      ],
      "execution_count": 10,
      "outputs": [
        {
          "output_type": "stream",
          "text": [
            "Model: \"sequential_7\"\n",
            "_________________________________________________________________\n",
            "Layer (type)                 Output Shape              Param #   \n",
            "=================================================================\n",
            "dense_21 (Dense)             (None, 128)               10880     \n",
            "_________________________________________________________________\n",
            "dropout_14 (Dropout)         (None, 128)               0         \n",
            "_________________________________________________________________\n",
            "dense_22 (Dense)             (None, 128)               16512     \n",
            "_________________________________________________________________\n",
            "dropout_15 (Dropout)         (None, 128)               0         \n",
            "_________________________________________________________________\n",
            "dense_23 (Dense)             (None, 1)                 129       \n",
            "=================================================================\n",
            "Total params: 27,521\n",
            "Trainable params: 27,521\n",
            "Non-trainable params: 0\n",
            "_________________________________________________________________\n",
            "None\n"
          ],
          "name": "stdout"
        }
      ]
    },
    {
      "cell_type": "code",
      "metadata": {
        "colab": {
          "base_uri": "https://localhost:8080/"
        },
        "id": "GVImN4_0I_tJ",
        "outputId": "af4beb69-5410-4254-ed36-c0973f772149"
      },
      "source": [
        "print(\"The best model parameters were saved during cross-validation.\")\n",
        "print(\"Best was defined as maximum validation accuracy at end of any epoch.\")\n",
        "print(\"Now re-load the best model and test it on previously unseen data.\")\n",
        "show_time()"
      ],
      "execution_count": 11,
      "outputs": [
        {
          "output_type": "stream",
          "text": [
            "The best model parameters were saved during cross-validation.\n",
            "Best was defined as maximum validation accuracy at end of any epoch.\n",
            "Now re-load the best model and test it on previously unseen data.\n",
            "2021-07-25 21:58:40 UTC\n"
          ],
          "name": "stdout"
        }
      ]
    },
    {
      "cell_type": "code",
      "metadata": {
        "colab": {
          "base_uri": "https://localhost:8080/"
        },
        "id": "V7EI2M5yodH4",
        "outputId": "7be42f9c-9db4-47c8-e175-db31bd3ffe56"
      },
      "source": [
        "Xseq,y=prepare_x_and_y(pc_test,nc_test)\n",
        "print(Xseq[0])\n",
        "show_time()"
      ],
      "execution_count": 12,
      "outputs": [
        {
          "output_type": "stream",
          "text": [
            "CATTCCCAGAAACCAGGAAATTTCTGAAACTGAGTTTTAAACCTGGCAACTCTTTTACCATCCCTTTGTATTTTTGCAGTTCCTCCCTATACCAGCTTCCTTACAGCTGTTCTGATTTCCTGTCGTAAGATTTTTTCTTTTCATTTTCTCCAGGGAGGGTAAATCAATATAACCTCTTCTCTAGAGAGGAGGTGGTTAGGTTGGTCTTAAGCAGTGTTAGAAGATCTATTTTTTTTCAAACCAGGTGTCTGAGCTGGGTGAATTCCAGCCTGGGGAGAGGACTTTGATCACCAGATGTTTTTTTGGTGTGCGTGCTGTCTTATGGTTGCGTGGCGAGTTTCTGCTTCAGATGCAGAGCACTGTCCAGAGCTTCCTCCAGTGGACAATAGCATATTTGTCGCAAAGGAGGTGGAAGGACAGATTCTGGGGACTTACGTTTGTATCAAGGGCTACCACCTGGTAGGAAAGAAGACCCTTTTTTGCAATGCCTCTAAGGAGTGGGATAACACCACTACTGAGTGCCGCTTGGGCCACTGTCCTGATCCTGTGCTGGTGAATGGAGAGTTCAGTTCTTCAGGGCCTGTGAATGTAAGTGACAAAATCACGTTTATGTGCAATGACCACTACATCCTCAAGGGCAGCAATCGGAGCCAGTGTCTAGAGGACCACACCTGGGCACCTCCCTTTCCCATCTGCAAAAGTAGGGACTGTGACCCTCCTGGGAATCCAGTTCATGGCTATTTTGAAGGAAATAACTTCACCTTAGGATCCACCATTAGTTATTACTGTGAAGACAGGTACTACTTAGTGGGCGTGCAGGAGCAGCAATGCGTTGATGGGGAGTGGAGCAGTGCACTTCCAGTCTGCAAGTTGATCCAGGAAGCTCCCAAACCAGAGTGTGAGAAGGCACTTCTTGCCTTTCAGGAGAGTAAGAACCTCTGCGAAGCCATGGAGAACTTTATGCAACAATTAAAGGAAAGTGGCATGACAATGGAGGAGCTAAAATATTCTCTGGAGCTGAAGAAAGCTGAGTTGAAGGCAAAATTGTTGTAACACTACAGCTGAGCAGATGTAATAGAAATAAACCTATGAATAAATTTTCTTCTTGGTTCTGAAA\n",
            "2021-07-25 21:58:46 UTC\n"
          ],
          "name": "stdout"
        }
      ]
    },
    {
      "cell_type": "code",
      "metadata": {
        "colab": {
          "base_uri": "https://localhost:8080/"
        },
        "id": "upx48_rhogZb",
        "outputId": "efefde13-38f1-4cfe-acd0-c8be522f36e1"
      },
      "source": [
        "Xfrq=seqs_to_kmer_freqs(Xseq,MAX_K)\n",
        "print(Xfrq[0])\n",
        "print(y[:5])\n",
        "show_time()"
      ],
      "execution_count": 13,
      "outputs": [
        {
          "output_type": "stream",
          "text": [
            "[0.26320501 0.20590868 0.24709042 0.28379588 0.07706093 0.04749104\n",
            " 0.08602151 0.05197133 0.0672043  0.05286738 0.01075269 0.07526882\n",
            " 0.0734767  0.04749104 0.06630824 0.06003584 0.04569892 0.05734767\n",
            " 0.08422939 0.09677419 0.02242152 0.01255605 0.02152466 0.01973094\n",
            " 0.01076233 0.01883408 0.00179372 0.0161435  0.02242152 0.01793722\n",
            " 0.02511211 0.0206278  0.00986547 0.01165919 0.01524664 0.01524664\n",
            " 0.01704036 0.01434978 0.02690583 0.00896861 0.02242152 0.00717489\n",
            " 0.00089686 0.02242152 0.00179372 0.00179372 0.00089686 0.00627803\n",
            " 0.01165919 0.01165919 0.02869955 0.02331839 0.02331839 0.01076233\n",
            " 0.02780269 0.01165919 0.02152466 0.00717489 0.00538117 0.01345291\n",
            " 0.02690583 0.01076233 0.0161435  0.01255605 0.00986547 0.00807175\n",
            " 0.02421525 0.01793722 0.01434978 0.00986547 0.00986547 0.01165919\n",
            " 0.01165919 0.01973094 0.00269058 0.02331839 0.02242152 0.01704036\n",
            " 0.02421525 0.0206278  0.01434978 0.02600897 0.0161435  0.04035874]\n",
            "[1 1 1 1 1]\n",
            "2021-07-25 22:01:34 UTC\n"
          ],
          "name": "stdout"
        }
      ]
    },
    {
      "cell_type": "code",
      "metadata": {
        "colab": {
          "base_uri": "https://localhost:8080/"
        },
        "id": "bBxMn1HJoihn",
        "outputId": "bb43bd0a-d830-4f68-eced-89c9b7faa289"
      },
      "source": [
        "X=Xfrq\n",
        "scores = best_model.evaluate(X, y, verbose=0)\n",
        "show_time()\n",
        "print(\"Test on\",len(pc_test),\"PC seqs\")\n",
        "print(\"Test on\",len(nc_test),\"NC seqs\")\n",
        "print(\"%s: %.2f%%\" % (best_model.metrics_names[1], scores[1]*100))"
      ],
      "execution_count": 14,
      "outputs": [
        {
          "output_type": "stream",
          "text": [
            "2021-07-25 22:01:49 UTC\n",
            "Test on 8000 PC seqs\n",
            "Test on 8000 NC seqs\n",
            "accuracy: 61.52%\n"
          ],
          "name": "stdout"
        }
      ]
    },
    {
      "cell_type": "code",
      "metadata": {
        "colab": {
          "base_uri": "https://localhost:8080/",
          "height": 417
        },
        "id": "sxC-6dXcC8jG",
        "outputId": "57d7a318-9123-4863-a829-6f45aea590fa"
      },
      "source": [
        "ns_probs = [0 for _ in range(len(y))]\n",
        "bm_probs = best_model.predict(X)\n",
        "print(\"predictions.shape\",bm_probs.shape)\n",
        "print(\"first predictions\",bm_probs[:5])\n",
        "ns_auc = roc_auc_score(y, ns_probs)\n",
        "bm_auc = roc_auc_score(y, bm_probs)\n",
        "ns_fpr, ns_tpr, _ = roc_curve(y, ns_probs)\n",
        "bm_fpr, bm_tpr, _ = roc_curve(y, bm_probs)\n",
        "plt.plot(ns_fpr, ns_tpr, linestyle='--', label='Guess, auc=%.4f'%ns_auc)\n",
        "plt.plot(bm_fpr, bm_tpr, marker='.', label='Model, auc=%.4f'%bm_auc)\n",
        "plt.title('ROC')\n",
        "plt.xlabel('False Positive Rate')\n",
        "plt.ylabel('True Positive Rate')\n",
        "plt.legend()\n",
        "plt.show()\n",
        "print(\"%s: %.2f%%\" %('AUC',bm_auc*100.0))\n"
      ],
      "execution_count": 15,
      "outputs": [
        {
          "output_type": "stream",
          "text": [
            "predictions.shape (16000, 1)\n",
            "first predictions [[0.26954627]\n",
            " [0.23304652]\n",
            " [0.44380704]\n",
            " [0.6667039 ]\n",
            " [0.5715562 ]]\n"
          ],
          "name": "stdout"
        },
        {
          "output_type": "display_data",
          "data": {
            "image/png": "[encoded data removed]",
            "text/plain": [
              "<Figure size 432x288 with 1 Axes>"
            ]
          },
          "metadata": {
            "tags": [],
            "needs_background": "light"
          }
        },
        {
          "output_type": "stream",
          "text": [
            "AUC: 65.81%\n"
          ],
          "name": "stdout"
        }
      ]
    },
    {
      "cell_type": "code",
      "metadata": {
        "id": "tGf2PcxRC8jT"
      },
      "source": [
        ""
      ],
      "execution_count": 15,
      "outputs": []
    }
  ]
}