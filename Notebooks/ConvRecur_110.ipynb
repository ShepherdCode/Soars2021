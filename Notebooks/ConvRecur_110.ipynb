{
  "nbformat": 4,
  "nbformat_minor": 0,
  "metadata": {
    "accelerator": "GPU",
    "colab": {
      "name": "ConvRecur_110.ipynb",
      "provenance": [],
      "collapsed_sections": []
    },
    "kernelspec": {
      "display_name": "Python 3",
      "language": "python",
      "name": "python3"
    },
    "language_info": {
      "codemirror_mode": {
        "name": "ipython",
        "version": 3
      },
      "file_extension": ".py",
      "mimetype": "text/x-python",
      "name": "python",
      "nbconvert_exporter": "python",
      "pygments_lexer": "ipython3",
      "version": "3.8.3"
    }
  },
  "cells": [
    {
      "cell_type": "markdown",
      "metadata": {
        "id": "0asdcdunj2Tx"
      },
      "source": [
        "# ORF recognition by Convolutional/Recurrent\n",
        "\n",
        "Test CNN+GRU 32 on simulated RNA of length 128. \n",
        "\n",
        "Use restructured codebase from notebook 105."
      ]
    },
    {
      "cell_type": "code",
      "metadata": {
        "colab": {
          "base_uri": "https://localhost:8080/",
          "height": 36
        },
        "id": "QP1VTRNQj2UO",
        "outputId": "f9724c40-dd15-4d61-8584-1a7bd0706db4"
      },
      "source": [
        "import time \n",
        "t = time.time()\n",
        "time.strftime('%Y-%m-%d %H:%M:%S %Z', time.localtime(t))"
      ],
      "execution_count": 1,
      "outputs": [
        {
          "output_type": "execute_result",
          "data": {
            "application/vnd.google.colaboratory.intrinsic+json": {
              "type": "string"
            },
            "text/plain": [
              "'2021-06-22 11:47:19 UTC'"
            ]
          },
          "metadata": {
            "tags": []
          },
          "execution_count": 1
        }
      ]
    },
    {
      "cell_type": "code",
      "metadata": {
        "id": "Nhz4GKonj2T_"
      },
      "source": [
        "PC_SEQUENCES=32000   # how many protein-coding sequences\n",
        "NC_SEQUENCES=32000   # how many non-coding sequences\n",
        "PC_TESTS=1000\n",
        "NC_TESTS=1000\n",
        "RNA_LEN=128            # how long is each sequence\n",
        "CDS_LEN=64            # min CDS len to be coding\n",
        "ALPHABET=4          # how many different letters are possible\n",
        "INPUT_SHAPE_2D = (RNA_LEN,ALPHABET,1) # Conv2D needs 3D inputs\n",
        "INPUT_SHAPE = (RNA_LEN,ALPHABET) # Conv1D needs 2D inputs\n",
        "FILTERS = 32   # how many different patterns the model looks for\n",
        "CELLS = 32\n",
        "NEURONS = 32\n",
        "DROP_RATE = 0.4\n",
        "WIDTH = 3   # how wide each pattern is, in bases\n",
        "STRIDE_2D = (1,1)  # For Conv2D how far in each direction\n",
        "STRIDE = 1 # For Conv1D, how far between pattern matches, in bases\n",
        "EPOCHS=100  # how many times to train on all the data\n",
        "SPLITS=3  # SPLITS=3 means train on 2/3 and validate on 1/3 \n",
        "FOLDS=3  # train the model this many times (range 1 to SPLITS)"
      ],
      "execution_count": 2,
      "outputs": []
    },
    {
      "cell_type": "code",
      "metadata": {
        "colab": {
          "base_uri": "https://localhost:8080/"
        },
        "id": "lr7q90rxj2UE",
        "outputId": "4728bf52-332c-4c0e-a9bf-72bc7b546ac1"
      },
      "source": [
        "import sys\n",
        "IN_COLAB = False\n",
        "try:\n",
        "    from google.colab import drive\n",
        "    IN_COLAB = True\n",
        "except:\n",
        "    pass\n",
        "if IN_COLAB:\n",
        "    print(\"On Google CoLab, mount cloud-local file, get our code from GitHub.\")\n",
        "    PATH='/content/drive/'\n",
        "    #drive.mount(PATH,force_remount=True)  # hardly ever need this\n",
        "    #drive.mount(PATH)    # Google will require login credentials\n",
        "    DATAPATH=PATH+'My Drive/data/'  # must end in \"/\"\n",
        "    import requests\n",
        "    r = requests.get('https://raw.githubusercontent.com/ShepherdCode/Soars2021/master/SimTools/RNA_describe.py')\n",
        "    with open('RNA_describe.py', 'w') as f:\n",
        "        f.write(r.text)  \n",
        "    from RNA_describe import ORF_counter\n",
        "    from RNA_describe import Random_Base_Oracle\n",
        "    r = requests.get('https://raw.githubusercontent.com/ShepherdCode/Soars2021/master/SimTools/RNA_prep.py')\n",
        "    with open('RNA_prep.py', 'w') as f:\n",
        "        f.write(r.text)  \n",
        "    from RNA_prep import prepare_inputs_len_x_alphabet\n",
        "else:\n",
        "        print(\"CoLab not working. On my PC, use relative paths.\")\n",
        "        DATAPATH='data/'  # must end in \"/\"\n",
        "        sys.path.append(\"..\") # append parent dir in order to use sibling dirs\n",
        "        from SimTools.RNA_describe import ORF_counter,Random_Base_Oracle\n",
        "        from SimTools.RNA_prep import prepare_inputs_len_x_alphabet\n",
        "\n",
        "MODELPATH=\"BestModel\"  # saved on cloud instance and lost after logout\n",
        "#MODELPATH=DATAPATH+MODELPATH  # saved on Google Drive but requires login\n"
      ],
      "execution_count": 3,
      "outputs": [
        {
          "output_type": "stream",
          "text": [
            "On Google CoLab, mount cloud-local file, get our code from GitHub.\n"
          ],
          "name": "stdout"
        }
      ]
    },
    {
      "cell_type": "code",
      "metadata": {
        "id": "EGDXH8Uwj2UM"
      },
      "source": [
        "from os import listdir\n",
        "import csv\n",
        "from zipfile import ZipFile\n",
        "\n",
        "import numpy as np\n",
        "import pandas as pd\n",
        "from scipy import stats  # mode\n",
        "\n",
        "from sklearn.preprocessing import StandardScaler\n",
        "from sklearn.model_selection import KFold\n",
        "from sklearn.model_selection import cross_val_score\n",
        "\n",
        "from keras.models import Sequential\n",
        "from keras.layers import Dense,Embedding,Dropout\n",
        "from keras.layers import Conv1D,Conv2D\n",
        "from keras.layers import GRU,LSTM\n",
        "from keras.layers import Flatten,TimeDistributed\n",
        "from keras.layers import MaxPooling1D,MaxPooling2D\n",
        "from keras.losses import BinaryCrossentropy\n",
        "# tf.keras.losses.BinaryCrossentropy\n",
        "\n",
        "import matplotlib.pyplot as plt\n",
        "from matplotlib import colors\n",
        "mycmap = colors.ListedColormap(['red','blue'])  # list color for label 0 then 1\n",
        "np.set_printoptions(precision=2)\n"
      ],
      "execution_count": 4,
      "outputs": []
    },
    {
      "cell_type": "code",
      "metadata": {
        "colab": {
          "base_uri": "https://localhost:8080/"
        },
        "id": "CUOG_jEvGtOm",
        "outputId": "39e3ea2c-ac92-46ac-e33b-1b7a8d7f8fb8"
      },
      "source": [
        "rbo=Random_Base_Oracle(RNA_LEN,True)\n",
        "pc_all,nc_all = rbo.get_partitioned_sequences(CDS_LEN,10) # just testing\n",
        "pc_all,nc_all = rbo.get_partitioned_sequences(CDS_LEN,PC_SEQUENCES+PC_TESTS)\n",
        "print(\"Use\",len(pc_all),\"PC seqs\")\n",
        "print(\"Use\",len(nc_all),\"NC seqs\")"
      ],
      "execution_count": 5,
      "outputs": [
        {
          "output_type": "stream",
          "text": [
            "It took 48 trials to reach 10 per class.\n",
            "It took 117615 trials to reach 33000 per class.\n",
            "Use 33000 PC seqs\n",
            "Use 33000 NC seqs\n"
          ],
          "name": "stdout"
        }
      ]
    },
    {
      "cell_type": "code",
      "metadata": {
        "colab": {
          "base_uri": "https://localhost:8080/"
        },
        "id": "Q-BmSXi2jUyl",
        "outputId": "4735afb5-2183-4de1-cd97-8af51da47906"
      },
      "source": [
        "# Describe the sequences\n",
        "def describe_sequences(list_of_seq):\n",
        "    oc = ORF_counter()\n",
        "    num_seq = len(list_of_seq)\n",
        "    rna_lens = np.zeros(num_seq)\n",
        "    orf_lens = np.zeros(num_seq)\n",
        "    for i in range(0,num_seq):\n",
        "        rna_len = len(list_of_seq[i])\n",
        "        rna_lens[i] = rna_len\n",
        "        oc.set_sequence(list_of_seq[i])\n",
        "        orf_len = oc.get_max_orf_len()\n",
        "        orf_lens[i] = orf_len\n",
        "    print (\"Average RNA length:\",rna_lens.mean())\n",
        "    print (\"Average ORF length:\",orf_lens.mean())\n",
        "    \n",
        "print(\"Simulated sequences prior to adjustment:\")\n",
        "print(\"PC seqs\")\n",
        "describe_sequences(pc_all)\n",
        "print(\"NC seqs\")\n",
        "describe_sequences(nc_all)"
      ],
      "execution_count": 6,
      "outputs": [
        {
          "output_type": "stream",
          "text": [
            "Simulated sequences prior to adjustment:\n",
            "PC seqs\n",
            "Average RNA length: 128.0\n",
            "Average ORF length: 78.96127272727273\n",
            "NC seqs\n",
            "Average RNA length: 128.0\n",
            "Average ORF length: 27.65581818181818\n"
          ],
          "name": "stdout"
        }
      ]
    },
    {
      "cell_type": "code",
      "metadata": {
        "id": "iP1y7-J3jUys"
      },
      "source": [
        "pc_train=pc_all[:PC_SEQUENCES]\n",
        "nc_train=nc_all[:NC_SEQUENCES]\n",
        "pc_test=pc_all[PC_SEQUENCES:]\n",
        "nc_test=nc_all[NC_SEQUENCES:]"
      ],
      "execution_count": 7,
      "outputs": []
    },
    {
      "cell_type": "code",
      "metadata": {
        "colab": {
          "base_uri": "https://localhost:8080/"
        },
        "id": "CIpTrnH6j2US",
        "outputId": "cbc562b7-6ac6-4ff4-d708-fafa5a080bb4"
      },
      "source": [
        "# Use code from our SimTools library.\n",
        "X,y = prepare_inputs_len_x_alphabet(pc_train,nc_train,ALPHABET) # shuffles\n",
        "print(\"Data ready.\")"
      ],
      "execution_count": 8,
      "outputs": [
        {
          "output_type": "stream",
          "text": [
            "Data ready.\n"
          ],
          "name": "stdout"
        }
      ]
    },
    {
      "cell_type": "code",
      "metadata": {
        "colab": {
          "base_uri": "https://localhost:8080/"
        },
        "id": "7NvrVU8ij2UU",
        "outputId": "462ecbfd-6de8-455f-cc6a-0d15669d4032"
      },
      "source": [
        "def make_DNN():\n",
        "    print(\"make_DNN\")\n",
        "    print(\"input shape:\",INPUT_SHAPE)\n",
        "    dnn = Sequential()\n",
        "    #dnn.add(Embedding(input_dim=INPUT_SHAPE,output_dim=INPUT_SHAPE)) \n",
        "    dnn.add(Conv1D(filters=FILTERS,kernel_size=WIDTH,strides=STRIDE,padding=\"same\",\n",
        "            input_shape=INPUT_SHAPE))\n",
        "    dnn.add(Conv1D(filters=FILTERS,kernel_size=WIDTH,strides=STRIDE,padding=\"same\"))\n",
        "    dnn.add(MaxPooling1D())\n",
        "    #dnn.add(Conv1D(filters=FILTERS,kernel_size=WIDTH,strides=STRIDE,padding=\"same\"))\n",
        "    #dnn.add(Conv1D(filters=FILTERS,kernel_size=WIDTH,strides=STRIDE,padding=\"same\"))\n",
        "    #dnn.add(MaxPooling1D())\n",
        "    #dnn.add(TimeDistributed(Flatten()))\n",
        "    dnn.add(GRU(CELLS,return_sequences=True))\n",
        "    dnn.add(GRU(CELLS,return_sequences=False))\n",
        "    dnn.add(Dense(NEURONS,activation=\"sigmoid\",dtype=np.float32))   \n",
        "    dnn.add(Dropout(DROP_RATE))\n",
        "    dnn.add(Dense(1,activation=\"sigmoid\",dtype=np.float32))   \n",
        "    dnn.compile(optimizer='adam',\n",
        "                loss=BinaryCrossentropy(from_logits=False),\n",
        "                metrics=['accuracy'])   # add to default metrics=loss\n",
        "    dnn.build(input_shape=INPUT_SHAPE)\n",
        "    #ln_rate = tf.keras.optimizers.Adam(learning_rate = LN_RATE)\n",
        "    #bc=tf.keras.losses.BinaryCrossentropy(from_logits=False)\n",
        "    #model.compile(loss=bc, optimizer=ln_rate, metrics=[\"accuracy\"])\n",
        "    return dnn\n",
        "model = make_DNN()\n",
        "print(model.summary())"
      ],
      "execution_count": 9,
      "outputs": [
        {
          "output_type": "stream",
          "text": [
            "make_DNN\n",
            "input shape: (128, 4)\n",
            "Model: \"sequential\"\n",
            "_________________________________________________________________\n",
            "Layer (type)                 Output Shape              Param #   \n",
            "=================================================================\n",
            "conv1d (Conv1D)              (None, 128, 32)           416       \n",
            "_________________________________________________________________\n",
            "conv1d_1 (Conv1D)            (None, 128, 32)           3104      \n",
            "_________________________________________________________________\n",
            "max_pooling1d (MaxPooling1D) (None, 64, 32)            0         \n",
            "_________________________________________________________________\n",
            "gru (GRU)                    (None, 64, 32)            6336      \n",
            "_________________________________________________________________\n",
            "gru_1 (GRU)                  (None, 32)                6336      \n",
            "_________________________________________________________________\n",
            "dense (Dense)                (None, 32)                1056      \n",
            "_________________________________________________________________\n",
            "dropout (Dropout)            (None, 32)                0         \n",
            "_________________________________________________________________\n",
            "dense_1 (Dense)              (None, 1)                 33        \n",
            "=================================================================\n",
            "Total params: 17,281\n",
            "Trainable params: 17,281\n",
            "Non-trainable params: 0\n",
            "_________________________________________________________________\n",
            "None\n"
          ],
          "name": "stdout"
        }
      ]
    },
    {
      "cell_type": "code",
      "metadata": {
        "id": "nlVF0hR3j2UW"
      },
      "source": [
        "from keras.callbacks import ModelCheckpoint\n",
        "def do_cross_validation(X,y):\n",
        "    cv_scores = []\n",
        "    fold=0\n",
        "    mycallbacks = [ModelCheckpoint(\n",
        "        filepath=MODELPATH, save_best_only=True, \n",
        "        monitor='val_accuracy', mode='max')]   \n",
        "    splitter = KFold(n_splits=SPLITS)  # this does not shuffle\n",
        "    for train_index,valid_index in splitter.split(X):\n",
        "        if fold < FOLDS:\n",
        "            fold += 1\n",
        "            X_train=X[train_index] # inputs for training\n",
        "            y_train=y[train_index] # labels for training\n",
        "            X_valid=X[valid_index] # inputs for validation\n",
        "            y_valid=y[valid_index] # labels for validation\n",
        "            print(\"MODEL\")\n",
        "            # Call constructor on each CV. Else, continually improves the same model.\n",
        "            model = model = make_DNN()\n",
        "            print(\"FIT\")  # model.fit() implements learning\n",
        "            start_time=time.time()\n",
        "            history=model.fit(X_train, y_train, \n",
        "                    epochs=EPOCHS, \n",
        "                    verbose=1,  # ascii art while learning\n",
        "                    callbacks=mycallbacks,   # called at end of each epoch\n",
        "                    validation_data=(X_valid,y_valid))\n",
        "            end_time=time.time()\n",
        "            elapsed_time=(end_time-start_time)                        \n",
        "            print(\"Fold %d, %d epochs, %d sec\"%(fold,EPOCHS,elapsed_time))\n",
        "            # print(history.history.keys())  # all these keys will be shown in figure\n",
        "            pd.DataFrame(history.history).plot(figsize=(8,5))\n",
        "            plt.grid(True)\n",
        "            plt.gca().set_ylim(0,1) # any losses > 1 will be off the scale\n",
        "            plt.show()\n"
      ],
      "execution_count": 10,
      "outputs": []
    },
    {
      "cell_type": "code",
      "metadata": {
        "colab": {
          "base_uri": "https://localhost:8080/",
          "height": 1000
        },
        "id": "9Ggt4EsSj2UY",
        "outputId": "2a164266-f66c-41de-f681-098ce68b8c6f"
      },
      "source": [
        "do_cross_validation(X,y)"
      ],
      "execution_count": 11,
      "outputs": [
        {
          "output_type": "stream",
          "text": [
            "MODEL\n",
            "make_DNN\n",
            "input shape: (128, 4)\n",
            "FIT\n",
            "Epoch 1/100\n",
            "1334/1334 [==============================] - 44s 9ms/step - loss: 0.7040 - accuracy: 0.5133 - val_loss: 0.6745 - val_accuracy: 0.5744\n"
          ],
          "name": "stdout"
        },
        {
          "output_type": "stream",
          "text": [
            "WARNING:absl:Found untraced functions such as gru_cell_2_layer_call_fn, gru_cell_2_layer_call_and_return_conditional_losses, gru_cell_3_layer_call_fn, gru_cell_3_layer_call_and_return_conditional_losses, gru_cell_2_layer_call_fn while saving (showing 5 of 10). These functions will not be directly callable after loading.\n"
          ],
          "name": "stderr"
        },
        {
          "output_type": "stream",
          "text": [
            "INFO:tensorflow:Assets written to: BestModel/assets\n"
          ],
          "name": "stdout"
        },
        {
          "output_type": "stream",
          "text": [
            "INFO:tensorflow:Assets written to: BestModel/assets\n"
          ],
          "name": "stderr"
        },
        {
          "output_type": "stream",
          "text": [
            "Epoch 2/100\n",
            "1334/1334 [==============================] - 11s 8ms/step - loss: 0.6583 - accuracy: 0.6056 - val_loss: 0.6346 - val_accuracy: 0.6372\n"
          ],
          "name": "stdout"
        },
        {
          "output_type": "stream",
          "text": [
            "WARNING:absl:Found untraced functions such as gru_cell_2_layer_call_fn, gru_cell_2_layer_call_and_return_conditional_losses, gru_cell_3_layer_call_fn, gru_cell_3_layer_call_and_return_conditional_losses, gru_cell_2_layer_call_fn while saving (showing 5 of 10). These functions will not be directly callable after loading.\n"
          ],
          "name": "stderr"
        },
        {
          "output_type": "stream",
          "text": [
            "INFO:tensorflow:Assets written to: BestModel/assets\n"
          ],
          "name": "stdout"
        },
        {
          "output_type": "stream",
          "text": [
            "INFO:tensorflow:Assets written to: BestModel/assets\n"
          ],
          "name": "stderr"
        },
        {
          "output_type": "stream",
          "text": [
            "Epoch 3/100\n",
            "1334/1334 [==============================] - 11s 9ms/step - loss: 0.6252 - accuracy: 0.6479 - val_loss: 0.5927 - val_accuracy: 0.6795\n"
          ],
          "name": "stdout"
        },
        {
          "output_type": "stream",
          "text": [
            "WARNING:absl:Found untraced functions such as gru_cell_2_layer_call_fn, gru_cell_2_layer_call_and_return_conditional_losses, gru_cell_3_layer_call_fn, gru_cell_3_layer_call_and_return_conditional_losses, gru_cell_2_layer_call_fn while saving (showing 5 of 10). These functions will not be directly callable after loading.\n"
          ],
          "name": "stderr"
        },
        {
          "output_type": "stream",
          "text": [
            "INFO:tensorflow:Assets written to: BestModel/assets\n"
          ],
          "name": "stdout"
        },
        {
          "output_type": "stream",
          "text": [
            "INFO:tensorflow:Assets written to: BestModel/assets\n"
          ],
          "name": "stderr"
        },
        {
          "output_type": "stream",
          "text": [
            "Epoch 4/100\n",
            "1334/1334 [==============================] - 11s 8ms/step - loss: 0.5916 - accuracy: 0.6819 - val_loss: 0.5882 - val_accuracy: 0.6719\n",
            "Epoch 5/100\n",
            "1334/1334 [==============================] - 11s 9ms/step - loss: 0.5743 - accuracy: 0.6899 - val_loss: 0.5672 - val_accuracy: 0.6965\n"
          ],
          "name": "stdout"
        },
        {
          "output_type": "stream",
          "text": [
            "WARNING:absl:Found untraced functions such as gru_cell_2_layer_call_fn, gru_cell_2_layer_call_and_return_conditional_losses, gru_cell_3_layer_call_fn, gru_cell_3_layer_call_and_return_conditional_losses, gru_cell_2_layer_call_fn while saving (showing 5 of 10). These functions will not be directly callable after loading.\n"
          ],
          "name": "stderr"
        },
        {
          "output_type": "stream",
          "text": [
            "INFO:tensorflow:Assets written to: BestModel/assets\n"
          ],
          "name": "stdout"
        },
        {
          "output_type": "stream",
          "text": [
            "INFO:tensorflow:Assets written to: BestModel/assets\n"
          ],
          "name": "stderr"
        },
        {
          "output_type": "stream",
          "text": [
            "Epoch 6/100\n",
            "1334/1334 [==============================] - 11s 9ms/step - loss: 0.5711 - accuracy: 0.6950 - val_loss: 0.5663 - val_accuracy: 0.6965\n",
            "Epoch 7/100\n",
            "1334/1334 [==============================] - 11s 9ms/step - loss: 0.5647 - accuracy: 0.6996 - val_loss: 0.5634 - val_accuracy: 0.6961\n",
            "Epoch 8/100\n",
            "1334/1334 [==============================] - 12s 9ms/step - loss: 0.5627 - accuracy: 0.6967 - val_loss: 0.5724 - val_accuracy: 0.6878\n",
            "Epoch 9/100\n",
            "1334/1334 [==============================] - 11s 9ms/step - loss: 0.5598 - accuracy: 0.6986 - val_loss: 0.5595 - val_accuracy: 0.6992\n"
          ],
          "name": "stdout"
        },
        {
          "output_type": "stream",
          "text": [
            "WARNING:absl:Found untraced functions such as gru_cell_2_layer_call_fn, gru_cell_2_layer_call_and_return_conditional_losses, gru_cell_3_layer_call_fn, gru_cell_3_layer_call_and_return_conditional_losses, gru_cell_2_layer_call_fn while saving (showing 5 of 10). These functions will not be directly callable after loading.\n"
          ],
          "name": "stderr"
        },
        {
          "output_type": "stream",
          "text": [
            "INFO:tensorflow:Assets written to: BestModel/assets\n"
          ],
          "name": "stdout"
        },
        {
          "output_type": "stream",
          "text": [
            "INFO:tensorflow:Assets written to: BestModel/assets\n"
          ],
          "name": "stderr"
        },
        {
          "output_type": "stream",
          "text": [
            "Epoch 10/100\n",
            "1334/1334 [==============================] - 11s 8ms/step - loss: 0.5579 - accuracy: 0.6949 - val_loss: 0.5631 - val_accuracy: 0.6975\n",
            "Epoch 11/100\n",
            "1334/1334 [==============================] - 11s 8ms/step - loss: 0.5491 - accuracy: 0.7060 - val_loss: 0.5682 - val_accuracy: 0.6963\n",
            "Epoch 12/100\n",
            "1334/1334 [==============================] - 11s 8ms/step - loss: 0.5494 - accuracy: 0.7034 - val_loss: 0.5628 - val_accuracy: 0.6974\n",
            "Epoch 13/100\n",
            "1334/1334 [==============================] - 12s 9ms/step - loss: 0.5417 - accuracy: 0.7090 - val_loss: 0.5624 - val_accuracy: 0.6958\n",
            "Epoch 14/100\n",
            "1334/1334 [==============================] - 12s 9ms/step - loss: 0.5469 - accuracy: 0.7066 - val_loss: 0.5680 - val_accuracy: 0.6945\n",
            "Epoch 15/100\n",
            "1334/1334 [==============================] - 11s 9ms/step - loss: 0.5365 - accuracy: 0.7129 - val_loss: 0.5670 - val_accuracy: 0.6973\n",
            "Epoch 16/100\n",
            "1334/1334 [==============================] - 11s 9ms/step - loss: 0.5348 - accuracy: 0.7155 - val_loss: 0.5719 - val_accuracy: 0.6976\n",
            "Epoch 17/100\n",
            "1334/1334 [==============================] - 11s 8ms/step - loss: 0.5338 - accuracy: 0.7144 - val_loss: 0.5770 - val_accuracy: 0.6917\n",
            "Epoch 18/100\n",
            "1334/1334 [==============================] - 11s 9ms/step - loss: 0.5316 - accuracy: 0.7141 - val_loss: 0.5738 - val_accuracy: 0.6941\n",
            "Epoch 19/100\n",
            "1334/1334 [==============================] - 11s 9ms/step - loss: 0.5277 - accuracy: 0.7156 - val_loss: 0.5702 - val_accuracy: 0.6936\n",
            "Epoch 20/100\n",
            "1334/1334 [==============================] - 11s 9ms/step - loss: 0.5223 - accuracy: 0.7204 - val_loss: 0.5719 - val_accuracy: 0.6928\n",
            "Epoch 21/100\n",
            "1334/1334 [==============================] - 11s 9ms/step - loss: 0.5237 - accuracy: 0.7198 - val_loss: 0.5754 - val_accuracy: 0.6853\n",
            "Epoch 22/100\n",
            "1334/1334 [==============================] - 12s 9ms/step - loss: 0.5198 - accuracy: 0.7182 - val_loss: 0.5782 - val_accuracy: 0.6879\n",
            "Epoch 23/100\n",
            "1334/1334 [==============================] - 11s 9ms/step - loss: 0.5122 - accuracy: 0.7237 - val_loss: 0.5787 - val_accuracy: 0.6923\n",
            "Epoch 24/100\n",
            "1334/1334 [==============================] - 11s 9ms/step - loss: 0.5119 - accuracy: 0.7237 - val_loss: 0.5820 - val_accuracy: 0.6912\n",
            "Epoch 25/100\n",
            "1334/1334 [==============================] - 11s 9ms/step - loss: 0.5068 - accuracy: 0.7271 - val_loss: 0.5969 - val_accuracy: 0.6866\n",
            "Epoch 26/100\n",
            "1334/1334 [==============================] - 11s 9ms/step - loss: 0.5073 - accuracy: 0.7293 - val_loss: 0.5884 - val_accuracy: 0.6881\n",
            "Epoch 27/100\n",
            "1334/1334 [==============================] - 11s 9ms/step - loss: 0.4970 - accuracy: 0.7354 - val_loss: 0.6079 - val_accuracy: 0.6882\n",
            "Epoch 28/100\n",
            "1334/1334 [==============================] - 11s 9ms/step - loss: 0.4960 - accuracy: 0.7353 - val_loss: 0.6025 - val_accuracy: 0.6884\n",
            "Epoch 29/100\n",
            "1334/1334 [==============================] - 11s 9ms/step - loss: 0.4969 - accuracy: 0.7349 - val_loss: 0.5959 - val_accuracy: 0.6900\n",
            "Epoch 30/100\n",
            "1334/1334 [==============================] - 11s 9ms/step - loss: 0.4895 - accuracy: 0.7389 - val_loss: 0.6106 - val_accuracy: 0.6899\n",
            "Epoch 31/100\n",
            "1334/1334 [==============================] - 11s 9ms/step - loss: 0.4909 - accuracy: 0.7374 - val_loss: 0.6003 - val_accuracy: 0.6806\n",
            "Epoch 32/100\n",
            "1334/1334 [==============================] - 11s 9ms/step - loss: 0.4887 - accuracy: 0.7377 - val_loss: 0.6165 - val_accuracy: 0.6859\n",
            "Epoch 33/100\n",
            "1334/1334 [==============================] - 11s 9ms/step - loss: 0.4852 - accuracy: 0.7407 - val_loss: 0.6174 - val_accuracy: 0.6793\n",
            "Epoch 34/100\n",
            "1334/1334 [==============================] - 11s 9ms/step - loss: 0.4825 - accuracy: 0.7407 - val_loss: 0.6241 - val_accuracy: 0.6811\n",
            "Epoch 35/100\n",
            "1334/1334 [==============================] - 12s 9ms/step - loss: 0.4792 - accuracy: 0.7460 - val_loss: 0.6339 - val_accuracy: 0.6809\n",
            "Epoch 36/100\n",
            "1334/1334 [==============================] - 11s 8ms/step - loss: 0.4755 - accuracy: 0.7448 - val_loss: 0.6391 - val_accuracy: 0.6826\n",
            "Epoch 37/100\n",
            "1334/1334 [==============================] - 11s 8ms/step - loss: 0.4724 - accuracy: 0.7444 - val_loss: 0.6231 - val_accuracy: 0.6812\n",
            "Epoch 38/100\n",
            "1334/1334 [==============================] - 11s 8ms/step - loss: 0.4699 - accuracy: 0.7476 - val_loss: 0.6431 - val_accuracy: 0.6792\n",
            "Epoch 39/100\n",
            "1334/1334 [==============================] - 11s 8ms/step - loss: 0.4704 - accuracy: 0.7480 - val_loss: 0.6393 - val_accuracy: 0.6767\n",
            "Epoch 40/100\n",
            "1334/1334 [==============================] - 11s 8ms/step - loss: 0.4629 - accuracy: 0.7561 - val_loss: 0.6571 - val_accuracy: 0.6739\n",
            "Epoch 41/100\n",
            "1334/1334 [==============================] - 11s 8ms/step - loss: 0.4578 - accuracy: 0.7549 - val_loss: 0.6515 - val_accuracy: 0.6736\n",
            "Epoch 42/100\n",
            "1334/1334 [==============================] - 11s 8ms/step - loss: 0.4636 - accuracy: 0.7505 - val_loss: 0.6606 - val_accuracy: 0.6745\n",
            "Epoch 43/100\n",
            "1334/1334 [==============================] - 11s 8ms/step - loss: 0.4576 - accuracy: 0.7562 - val_loss: 0.6530 - val_accuracy: 0.6779\n",
            "Epoch 44/100\n",
            "1334/1334 [==============================] - 12s 9ms/step - loss: 0.4532 - accuracy: 0.7584 - val_loss: 0.6718 - val_accuracy: 0.6760\n",
            "Epoch 45/100\n",
            "1334/1334 [==============================] - 12s 9ms/step - loss: 0.4540 - accuracy: 0.7550 - val_loss: 0.6669 - val_accuracy: 0.6718\n",
            "Epoch 46/100\n",
            "1334/1334 [==============================] - 12s 9ms/step - loss: 0.4521 - accuracy: 0.7580 - val_loss: 0.6618 - val_accuracy: 0.6738\n",
            "Epoch 47/100\n",
            "1334/1334 [==============================] - 12s 9ms/step - loss: 0.4449 - accuracy: 0.7635 - val_loss: 0.6871 - val_accuracy: 0.6745\n",
            "Epoch 48/100\n",
            "1334/1334 [==============================] - 12s 9ms/step - loss: 0.4491 - accuracy: 0.7605 - val_loss: 0.6639 - val_accuracy: 0.6775\n",
            "Epoch 49/100\n",
            "1334/1334 [==============================] - 12s 9ms/step - loss: 0.4532 - accuracy: 0.7578 - val_loss: 0.6891 - val_accuracy: 0.6772\n",
            "Epoch 50/100\n",
            "1334/1334 [==============================] - 12s 9ms/step - loss: 0.4434 - accuracy: 0.7626 - val_loss: 0.6827 - val_accuracy: 0.6764\n",
            "Epoch 51/100\n",
            "1334/1334 [==============================] - 12s 9ms/step - loss: 0.4397 - accuracy: 0.7673 - val_loss: 0.6885 - val_accuracy: 0.6737\n",
            "Epoch 52/100\n",
            "1334/1334 [==============================] - 12s 9ms/step - loss: 0.4426 - accuracy: 0.7624 - val_loss: 0.6868 - val_accuracy: 0.6764\n",
            "Epoch 53/100\n",
            "1334/1334 [==============================] - 12s 9ms/step - loss: 0.4358 - accuracy: 0.7686 - val_loss: 0.6883 - val_accuracy: 0.6742\n",
            "Epoch 54/100\n",
            "1334/1334 [==============================] - 12s 9ms/step - loss: 0.4337 - accuracy: 0.7667 - val_loss: 0.7043 - val_accuracy: 0.6723\n",
            "Epoch 55/100\n",
            "1334/1334 [==============================] - 12s 9ms/step - loss: 0.4312 - accuracy: 0.7684 - val_loss: 0.7052 - val_accuracy: 0.6747\n",
            "Epoch 56/100\n",
            "1334/1334 [==============================] - 12s 9ms/step - loss: 0.4342 - accuracy: 0.7685 - val_loss: 0.6741 - val_accuracy: 0.6698\n",
            "Epoch 57/100\n",
            "1334/1334 [==============================] - 12s 9ms/step - loss: 0.4360 - accuracy: 0.7717 - val_loss: 0.6947 - val_accuracy: 0.6749\n",
            "Epoch 58/100\n",
            "1334/1334 [==============================] - 12s 9ms/step - loss: 0.4317 - accuracy: 0.7698 - val_loss: 0.7061 - val_accuracy: 0.6721\n",
            "Epoch 59/100\n",
            "1334/1334 [==============================] - 12s 9ms/step - loss: 0.4326 - accuracy: 0.7675 - val_loss: 0.7069 - val_accuracy: 0.6716\n",
            "Epoch 60/100\n",
            "1334/1334 [==============================] - 12s 9ms/step - loss: 0.4298 - accuracy: 0.7676 - val_loss: 0.7411 - val_accuracy: 0.6705\n",
            "Epoch 61/100\n",
            "1334/1334 [==============================] - 12s 9ms/step - loss: 0.4318 - accuracy: 0.7731 - val_loss: 0.7247 - val_accuracy: 0.6709\n",
            "Epoch 62/100\n",
            "1334/1334 [==============================] - 12s 9ms/step - loss: 0.4313 - accuracy: 0.7705 - val_loss: 0.7101 - val_accuracy: 0.6715\n",
            "Epoch 63/100\n",
            "1334/1334 [==============================] - 12s 9ms/step - loss: 0.4282 - accuracy: 0.7709 - val_loss: 0.7095 - val_accuracy: 0.6726\n",
            "Epoch 64/100\n",
            "1334/1334 [==============================] - 12s 9ms/step - loss: 0.4349 - accuracy: 0.7685 - val_loss: 0.7203 - val_accuracy: 0.6699\n",
            "Epoch 65/100\n",
            "1334/1334 [==============================] - 12s 9ms/step - loss: 0.4166 - accuracy: 0.7755 - val_loss: 0.7479 - val_accuracy: 0.6706\n",
            "Epoch 66/100\n",
            "1334/1334 [==============================] - 12s 9ms/step - loss: 0.4239 - accuracy: 0.7727 - val_loss: 0.7589 - val_accuracy: 0.6706\n",
            "Epoch 67/100\n",
            "1334/1334 [==============================] - 11s 9ms/step - loss: 0.4230 - accuracy: 0.7749 - val_loss: 0.7376 - val_accuracy: 0.6673\n",
            "Epoch 68/100\n",
            "1334/1334 [==============================] - 12s 9ms/step - loss: 0.4160 - accuracy: 0.7762 - val_loss: 0.7585 - val_accuracy: 0.6640\n",
            "Epoch 69/100\n",
            "1334/1334 [==============================] - 12s 9ms/step - loss: 0.4208 - accuracy: 0.7759 - val_loss: 0.7148 - val_accuracy: 0.6689\n",
            "Epoch 70/100\n",
            "1334/1334 [==============================] - 12s 9ms/step - loss: 0.4165 - accuracy: 0.7766 - val_loss: 0.6803 - val_accuracy: 0.6704\n",
            "Epoch 71/100\n",
            "1334/1334 [==============================] - 12s 9ms/step - loss: 0.4193 - accuracy: 0.7778 - val_loss: 0.7374 - val_accuracy: 0.6660\n",
            "Epoch 72/100\n",
            "1334/1334 [==============================] - 12s 9ms/step - loss: 0.4086 - accuracy: 0.7803 - val_loss: 0.7570 - val_accuracy: 0.6648\n",
            "Epoch 73/100\n",
            "1334/1334 [==============================] - 12s 9ms/step - loss: 0.4152 - accuracy: 0.7775 - val_loss: 0.7198 - val_accuracy: 0.6690\n",
            "Epoch 74/100\n",
            "1334/1334 [==============================] - 12s 9ms/step - loss: 0.4173 - accuracy: 0.7804 - val_loss: 0.7463 - val_accuracy: 0.6697\n",
            "Epoch 75/100\n",
            "1334/1334 [==============================] - 12s 9ms/step - loss: 0.4086 - accuracy: 0.7835 - val_loss: 0.7540 - val_accuracy: 0.6663\n",
            "Epoch 76/100\n",
            "1334/1334 [==============================] - 12s 9ms/step - loss: 0.4081 - accuracy: 0.7849 - val_loss: 0.7307 - val_accuracy: 0.6596\n",
            "Epoch 77/100\n",
            "1334/1334 [==============================] - 12s 9ms/step - loss: 0.4137 - accuracy: 0.7825 - val_loss: 0.7672 - val_accuracy: 0.6693\n",
            "Epoch 78/100\n",
            "1334/1334 [==============================] - 12s 9ms/step - loss: 0.4133 - accuracy: 0.7817 - val_loss: 0.7543 - val_accuracy: 0.6644\n",
            "Epoch 79/100\n",
            "1334/1334 [==============================] - 12s 9ms/step - loss: 0.4100 - accuracy: 0.7859 - val_loss: 0.7843 - val_accuracy: 0.6664\n",
            "Epoch 80/100\n",
            "1334/1334 [==============================] - 12s 9ms/step - loss: 0.4105 - accuracy: 0.7798 - val_loss: 0.7663 - val_accuracy: 0.6635\n",
            "Epoch 81/100\n",
            "1334/1334 [==============================] - 12s 9ms/step - loss: 0.4197 - accuracy: 0.7795 - val_loss: 0.7894 - val_accuracy: 0.6651\n",
            "Epoch 82/100\n",
            "1334/1334 [==============================] - 12s 9ms/step - loss: 0.4074 - accuracy: 0.7856 - val_loss: 0.7565 - val_accuracy: 0.6621\n",
            "Epoch 83/100\n",
            "1334/1334 [==============================] - 12s 9ms/step - loss: 0.4051 - accuracy: 0.7871 - val_loss: 0.7587 - val_accuracy: 0.6678\n",
            "Epoch 84/100\n",
            "1334/1334 [==============================] - 12s 9ms/step - loss: 0.4228 - accuracy: 0.7776 - val_loss: 0.7443 - val_accuracy: 0.6650\n",
            "Epoch 85/100\n",
            "1334/1334 [==============================] - 12s 9ms/step - loss: 0.4029 - accuracy: 0.7833 - val_loss: 0.7271 - val_accuracy: 0.6648\n",
            "Epoch 86/100\n",
            "1334/1334 [==============================] - 12s 9ms/step - loss: 0.4031 - accuracy: 0.7907 - val_loss: 0.7761 - val_accuracy: 0.6664\n",
            "Epoch 87/100\n",
            "1334/1334 [==============================] - 12s 9ms/step - loss: 0.4023 - accuracy: 0.7914 - val_loss: 0.7687 - val_accuracy: 0.6625\n",
            "Epoch 88/100\n",
            "1334/1334 [==============================] - 12s 9ms/step - loss: 0.4002 - accuracy: 0.7889 - val_loss: 0.8062 - val_accuracy: 0.6594\n",
            "Epoch 89/100\n",
            "1334/1334 [==============================] - 12s 9ms/step - loss: 0.4081 - accuracy: 0.7869 - val_loss: 0.7954 - val_accuracy: 0.6649\n",
            "Epoch 90/100\n",
            "1334/1334 [==============================] - 12s 9ms/step - loss: 0.4034 - accuracy: 0.7879 - val_loss: 0.7904 - val_accuracy: 0.6641\n",
            "Epoch 91/100\n",
            "1334/1334 [==============================] - 12s 9ms/step - loss: 0.3984 - accuracy: 0.7910 - val_loss: 0.7770 - val_accuracy: 0.6652\n",
            "Epoch 92/100\n",
            "1334/1334 [==============================] - 12s 9ms/step - loss: 0.4243 - accuracy: 0.7792 - val_loss: 0.7556 - val_accuracy: 0.6712\n",
            "Epoch 93/100\n",
            "1334/1334 [==============================] - 12s 9ms/step - loss: 0.4009 - accuracy: 0.7853 - val_loss: 0.7970 - val_accuracy: 0.6631\n",
            "Epoch 94/100\n",
            "1334/1334 [==============================] - 12s 9ms/step - loss: 0.3911 - accuracy: 0.7956 - val_loss: 0.7794 - val_accuracy: 0.6684\n",
            "Epoch 95/100\n",
            "1334/1334 [==============================] - 12s 9ms/step - loss: 0.3946 - accuracy: 0.7911 - val_loss: 0.8263 - val_accuracy: 0.6635\n",
            "Epoch 96/100\n",
            "1334/1334 [==============================] - 12s 9ms/step - loss: 0.3942 - accuracy: 0.7933 - val_loss: 0.7871 - val_accuracy: 0.6650\n",
            "Epoch 97/100\n",
            "1334/1334 [==============================] - 12s 9ms/step - loss: 0.3948 - accuracy: 0.7906 - val_loss: 0.7906 - val_accuracy: 0.6702\n",
            "Epoch 98/100\n",
            "1334/1334 [==============================] - 12s 9ms/step - loss: 0.4015 - accuracy: 0.7924 - val_loss: 0.7920 - val_accuracy: 0.6684\n",
            "Epoch 99/100\n",
            "1334/1334 [==============================] - 12s 9ms/step - loss: 0.3907 - accuracy: 0.7939 - val_loss: 0.7585 - val_accuracy: 0.6608\n",
            "Epoch 100/100\n",
            "1334/1334 [==============================] - 12s 9ms/step - loss: 0.3930 - accuracy: 0.7925 - val_loss: 0.7763 - val_accuracy: 0.6631\n",
            "Fold 1, 100 epochs, 1220 sec\n"
          ],
          "name": "stdout"
        },
        {
          "output_type": "display_data",
          "data": {
            "image/png": "[encoded data removed]",
            "text/plain": [
              "<Figure size 576x360 with 1 Axes>"
            ]
          },
          "metadata": {
            "tags": [],
            "needs_background": "light"
          }
        },
        {
          "output_type": "stream",
          "text": [
            "MODEL\n",
            "make_DNN\n",
            "input shape: (128, 4)\n",
            "FIT\n",
            "Epoch 1/100\n",
            "1334/1334 [==============================] - 15s 9ms/step - loss: 0.7025 - accuracy: 0.5106 - val_loss: 0.6747 - val_accuracy: 0.5766\n",
            "Epoch 2/100\n",
            "1334/1334 [==============================] - 12s 9ms/step - loss: 0.6634 - accuracy: 0.5910 - val_loss: 0.6320 - val_accuracy: 0.6368\n",
            "Epoch 3/100\n",
            "1334/1334 [==============================] - 12s 9ms/step - loss: 0.6295 - accuracy: 0.6445 - val_loss: 0.5906 - val_accuracy: 0.6777\n",
            "Epoch 4/100\n",
            "1334/1334 [==============================] - 12s 9ms/step - loss: 0.5886 - accuracy: 0.6862 - val_loss: 0.5848 - val_accuracy: 0.6855\n",
            "Epoch 5/100\n",
            "1334/1334 [==============================] - 12s 9ms/step - loss: 0.5749 - accuracy: 0.6923 - val_loss: 0.5722 - val_accuracy: 0.6878\n",
            "Epoch 6/100\n",
            "1334/1334 [==============================] - 12s 9ms/step - loss: 0.5700 - accuracy: 0.6972 - val_loss: 0.5773 - val_accuracy: 0.6844\n",
            "Epoch 7/100\n",
            "1334/1334 [==============================] - 12s 9ms/step - loss: 0.5675 - accuracy: 0.6946 - val_loss: 0.5651 - val_accuracy: 0.6956\n",
            "Epoch 8/100\n",
            "1334/1334 [==============================] - 12s 9ms/step - loss: 0.5604 - accuracy: 0.7040 - val_loss: 0.5742 - val_accuracy: 0.6902\n",
            "Epoch 9/100\n",
            "1334/1334 [==============================] - 11s 9ms/step - loss: 0.5609 - accuracy: 0.6981 - val_loss: 0.5681 - val_accuracy: 0.6940\n",
            "Epoch 10/100\n",
            "1334/1334 [==============================] - 12s 9ms/step - loss: 0.5575 - accuracy: 0.7008 - val_loss: 0.5732 - val_accuracy: 0.6822\n",
            "Epoch 11/100\n",
            "1334/1334 [==============================] - 12s 9ms/step - loss: 0.5552 - accuracy: 0.7039 - val_loss: 0.5702 - val_accuracy: 0.6912\n",
            "Epoch 12/100\n",
            "1334/1334 [==============================] - 12s 9ms/step - loss: 0.5510 - accuracy: 0.7051 - val_loss: 0.5669 - val_accuracy: 0.6895\n",
            "Epoch 13/100\n",
            "1334/1334 [==============================] - 12s 9ms/step - loss: 0.5448 - accuracy: 0.7125 - val_loss: 0.5670 - val_accuracy: 0.6949\n",
            "Epoch 14/100\n",
            "1334/1334 [==============================] - 12s 9ms/step - loss: 0.5477 - accuracy: 0.7061 - val_loss: 0.5735 - val_accuracy: 0.6899\n",
            "Epoch 15/100\n",
            "1334/1334 [==============================] - 12s 9ms/step - loss: 0.5425 - accuracy: 0.7122 - val_loss: 0.5731 - val_accuracy: 0.6858\n",
            "Epoch 16/100\n",
            "1334/1334 [==============================] - 11s 9ms/step - loss: 0.5383 - accuracy: 0.7165 - val_loss: 0.5679 - val_accuracy: 0.6908\n",
            "Epoch 17/100\n",
            "1334/1334 [==============================] - 12s 9ms/step - loss: 0.5372 - accuracy: 0.7138 - val_loss: 0.5663 - val_accuracy: 0.6935\n",
            "Epoch 18/100\n",
            "1334/1334 [==============================] - 12s 9ms/step - loss: 0.5348 - accuracy: 0.7165 - val_loss: 0.5808 - val_accuracy: 0.6916\n",
            "Epoch 19/100\n",
            "1334/1334 [==============================] - 12s 9ms/step - loss: 0.5340 - accuracy: 0.7168 - val_loss: 0.5830 - val_accuracy: 0.6883\n",
            "Epoch 20/100\n",
            "1334/1334 [==============================] - 12s 9ms/step - loss: 0.5299 - accuracy: 0.7183 - val_loss: 0.5757 - val_accuracy: 0.6907\n",
            "Epoch 21/100\n",
            "1334/1334 [==============================] - 12s 9ms/step - loss: 0.5246 - accuracy: 0.7207 - val_loss: 0.5742 - val_accuracy: 0.6920\n",
            "Epoch 22/100\n",
            "1334/1334 [==============================] - 12s 9ms/step - loss: 0.5264 - accuracy: 0.7239 - val_loss: 0.5729 - val_accuracy: 0.6894\n",
            "Epoch 23/100\n",
            "1334/1334 [==============================] - 12s 9ms/step - loss: 0.5192 - accuracy: 0.7264 - val_loss: 0.5872 - val_accuracy: 0.6847\n",
            "Epoch 24/100\n",
            "1334/1334 [==============================] - 12s 9ms/step - loss: 0.5196 - accuracy: 0.7242 - val_loss: 0.5855 - val_accuracy: 0.6877\n",
            "Epoch 25/100\n",
            "1334/1334 [==============================] - 12s 9ms/step - loss: 0.5156 - accuracy: 0.7274 - val_loss: 0.5805 - val_accuracy: 0.6832\n",
            "Epoch 26/100\n",
            "1334/1334 [==============================] - 12s 9ms/step - loss: 0.5119 - accuracy: 0.7303 - val_loss: 0.5923 - val_accuracy: 0.6813\n",
            "Epoch 27/100\n",
            "1334/1334 [==============================] - 12s 9ms/step - loss: 0.5180 - accuracy: 0.7248 - val_loss: 0.6102 - val_accuracy: 0.6823\n",
            "Epoch 28/100\n",
            "1334/1334 [==============================] - 12s 9ms/step - loss: 0.5092 - accuracy: 0.7273 - val_loss: 0.5945 - val_accuracy: 0.6884\n",
            "Epoch 29/100\n",
            "1334/1334 [==============================] - 12s 9ms/step - loss: 0.5057 - accuracy: 0.7325 - val_loss: 0.6022 - val_accuracy: 0.6815\n",
            "Epoch 30/100\n",
            "1334/1334 [==============================] - 12s 9ms/step - loss: 0.5050 - accuracy: 0.7329 - val_loss: 0.6001 - val_accuracy: 0.6840\n",
            "Epoch 31/100\n",
            "1334/1334 [==============================] - 12s 9ms/step - loss: 0.5034 - accuracy: 0.7355 - val_loss: 0.5963 - val_accuracy: 0.6853\n",
            "Epoch 32/100\n",
            "1334/1334 [==============================] - 12s 9ms/step - loss: 0.5006 - accuracy: 0.7343 - val_loss: 0.5973 - val_accuracy: 0.6763\n",
            "Epoch 33/100\n",
            "1334/1334 [==============================] - 12s 9ms/step - loss: 0.4951 - accuracy: 0.7409 - val_loss: 0.5951 - val_accuracy: 0.6799\n",
            "Epoch 34/100\n",
            "1334/1334 [==============================] - 12s 9ms/step - loss: 0.4947 - accuracy: 0.7378 - val_loss: 0.6099 - val_accuracy: 0.6819\n",
            "Epoch 35/100\n",
            "1334/1334 [==============================] - 12s 9ms/step - loss: 0.4847 - accuracy: 0.7448 - val_loss: 0.5986 - val_accuracy: 0.6787\n",
            "Epoch 36/100\n",
            "1334/1334 [==============================] - 12s 9ms/step - loss: 0.4913 - accuracy: 0.7422 - val_loss: 0.5942 - val_accuracy: 0.6803\n",
            "Epoch 37/100\n",
            "1334/1334 [==============================] - 12s 9ms/step - loss: 0.4835 - accuracy: 0.7446 - val_loss: 0.6227 - val_accuracy: 0.6764\n",
            "Epoch 38/100\n",
            "1334/1334 [==============================] - 12s 9ms/step - loss: 0.4871 - accuracy: 0.7448 - val_loss: 0.6359 - val_accuracy: 0.6803\n",
            "Epoch 39/100\n",
            "1334/1334 [==============================] - 12s 9ms/step - loss: 0.4790 - accuracy: 0.7471 - val_loss: 0.6418 - val_accuracy: 0.6755\n",
            "Epoch 40/100\n",
            "1334/1334 [==============================] - 12s 9ms/step - loss: 0.4841 - accuracy: 0.7425 - val_loss: 0.6207 - val_accuracy: 0.6754\n",
            "Epoch 41/100\n",
            "1334/1334 [==============================] - 12s 9ms/step - loss: 0.4735 - accuracy: 0.7474 - val_loss: 0.6438 - val_accuracy: 0.6741\n",
            "Epoch 42/100\n",
            "1334/1334 [==============================] - 12s 9ms/step - loss: 0.4757 - accuracy: 0.7515 - val_loss: 0.6191 - val_accuracy: 0.6742\n",
            "Epoch 43/100\n",
            "1334/1334 [==============================] - 12s 9ms/step - loss: 0.4739 - accuracy: 0.7475 - val_loss: 0.6244 - val_accuracy: 0.6778\n",
            "Epoch 44/100\n",
            "1334/1334 [==============================] - 12s 9ms/step - loss: 0.4867 - accuracy: 0.7410 - val_loss: 0.6424 - val_accuracy: 0.6722\n",
            "Epoch 45/100\n",
            "1334/1334 [==============================] - 12s 9ms/step - loss: 0.4656 - accuracy: 0.7544 - val_loss: 0.6435 - val_accuracy: 0.6736\n",
            "Epoch 46/100\n",
            "1334/1334 [==============================] - 12s 9ms/step - loss: 0.4719 - accuracy: 0.7500 - val_loss: 0.6504 - val_accuracy: 0.6759\n",
            "Epoch 47/100\n",
            "1334/1334 [==============================] - 12s 9ms/step - loss: 0.4654 - accuracy: 0.7563 - val_loss: 0.6612 - val_accuracy: 0.6764\n",
            "Epoch 48/100\n",
            "1334/1334 [==============================] - 12s 9ms/step - loss: 0.4630 - accuracy: 0.7539 - val_loss: 0.6252 - val_accuracy: 0.6737\n",
            "Epoch 49/100\n",
            "1334/1334 [==============================] - 11s 9ms/step - loss: 0.4617 - accuracy: 0.7540 - val_loss: 0.6545 - val_accuracy: 0.6752\n",
            "Epoch 50/100\n",
            "1334/1334 [==============================] - 11s 9ms/step - loss: 0.4640 - accuracy: 0.7553 - val_loss: 0.6660 - val_accuracy: 0.6706\n",
            "Epoch 51/100\n",
            "1334/1334 [==============================] - 11s 9ms/step - loss: 0.4575 - accuracy: 0.7589 - val_loss: 0.6626 - val_accuracy: 0.6720\n",
            "Epoch 52/100\n",
            "1334/1334 [==============================] - 12s 9ms/step - loss: 0.4584 - accuracy: 0.7576 - val_loss: 0.6563 - val_accuracy: 0.6693\n",
            "Epoch 53/100\n",
            "1334/1334 [==============================] - 12s 9ms/step - loss: 0.4603 - accuracy: 0.7551 - val_loss: 0.6857 - val_accuracy: 0.6692\n",
            "Epoch 54/100\n",
            "1334/1334 [==============================] - 11s 9ms/step - loss: 0.4507 - accuracy: 0.7601 - val_loss: 0.6721 - val_accuracy: 0.6660\n",
            "Epoch 55/100\n",
            "1334/1334 [==============================] - 12s 9ms/step - loss: 0.4513 - accuracy: 0.7610 - val_loss: 0.6491 - val_accuracy: 0.6745\n",
            "Epoch 56/100\n",
            "1334/1334 [==============================] - 12s 9ms/step - loss: 0.4509 - accuracy: 0.7594 - val_loss: 0.6858 - val_accuracy: 0.6709\n",
            "Epoch 57/100\n",
            "1334/1334 [==============================] - 12s 9ms/step - loss: 0.4462 - accuracy: 0.7635 - val_loss: 0.6863 - val_accuracy: 0.6772\n",
            "Epoch 58/100\n",
            "1334/1334 [==============================] - 12s 9ms/step - loss: 0.4486 - accuracy: 0.7580 - val_loss: 0.6722 - val_accuracy: 0.6719\n",
            "Epoch 59/100\n",
            "1334/1334 [==============================] - 11s 9ms/step - loss: 0.4448 - accuracy: 0.7622 - val_loss: 0.6825 - val_accuracy: 0.6684\n",
            "Epoch 60/100\n",
            "1334/1334 [==============================] - 12s 9ms/step - loss: 0.4434 - accuracy: 0.7633 - val_loss: 0.6819 - val_accuracy: 0.6662\n",
            "Epoch 61/100\n",
            "1334/1334 [==============================] - 12s 9ms/step - loss: 0.4438 - accuracy: 0.7654 - val_loss: 0.6783 - val_accuracy: 0.6729\n",
            "Epoch 62/100\n",
            "1334/1334 [==============================] - 11s 9ms/step - loss: 0.4518 - accuracy: 0.7569 - val_loss: 0.6897 - val_accuracy: 0.6714\n",
            "Epoch 63/100\n",
            "1334/1334 [==============================] - 12s 9ms/step - loss: 0.4401 - accuracy: 0.7680 - val_loss: 0.7181 - val_accuracy: 0.6676\n",
            "Epoch 64/100\n",
            "1334/1334 [==============================] - 12s 9ms/step - loss: 0.4430 - accuracy: 0.7622 - val_loss: 0.6455 - val_accuracy: 0.6723\n",
            "Epoch 65/100\n",
            "1334/1334 [==============================] - 12s 9ms/step - loss: 0.4451 - accuracy: 0.7632 - val_loss: 0.7141 - val_accuracy: 0.6710\n",
            "Epoch 66/100\n",
            "1334/1334 [==============================] - 11s 9ms/step - loss: 0.4365 - accuracy: 0.7689 - val_loss: 0.6802 - val_accuracy: 0.6667\n",
            "Epoch 67/100\n",
            "1334/1334 [==============================] - 12s 9ms/step - loss: 0.4326 - accuracy: 0.7674 - val_loss: 0.7157 - val_accuracy: 0.6669\n",
            "Epoch 68/100\n",
            "1334/1334 [==============================] - 11s 9ms/step - loss: 0.4331 - accuracy: 0.7721 - val_loss: 0.6794 - val_accuracy: 0.6658\n",
            "Epoch 69/100\n",
            "1334/1334 [==============================] - 12s 9ms/step - loss: 0.4284 - accuracy: 0.7708 - val_loss: 0.6841 - val_accuracy: 0.6650\n",
            "Epoch 70/100\n",
            "1334/1334 [==============================] - 11s 9ms/step - loss: 0.4254 - accuracy: 0.7739 - val_loss: 0.7183 - val_accuracy: 0.6633\n",
            "Epoch 71/100\n",
            "1334/1334 [==============================] - 12s 9ms/step - loss: 0.4339 - accuracy: 0.7708 - val_loss: 0.6888 - val_accuracy: 0.6610\n",
            "Epoch 72/100\n",
            "1334/1334 [==============================] - 12s 9ms/step - loss: 0.4295 - accuracy: 0.7734 - val_loss: 0.6925 - val_accuracy: 0.6686\n",
            "Epoch 73/100\n",
            "1334/1334 [==============================] - 12s 9ms/step - loss: 0.4247 - accuracy: 0.7740 - val_loss: 0.7155 - val_accuracy: 0.6730\n",
            "Epoch 74/100\n",
            "1334/1334 [==============================] - 12s 9ms/step - loss: 0.4264 - accuracy: 0.7737 - val_loss: 0.7109 - val_accuracy: 0.6631\n",
            "Epoch 75/100\n",
            "1334/1334 [==============================] - 12s 9ms/step - loss: 0.4251 - accuracy: 0.7760 - val_loss: 0.7292 - val_accuracy: 0.6671\n",
            "Epoch 76/100\n",
            "1334/1334 [==============================] - 12s 9ms/step - loss: 0.4238 - accuracy: 0.7772 - val_loss: 0.7055 - val_accuracy: 0.6562\n",
            "Epoch 77/100\n",
            "1334/1334 [==============================] - 11s 9ms/step - loss: 0.4580 - accuracy: 0.7605 - val_loss: 0.7066 - val_accuracy: 0.6659\n",
            "Epoch 78/100\n",
            "1334/1334 [==============================] - 11s 9ms/step - loss: 0.4242 - accuracy: 0.7740 - val_loss: 0.7032 - val_accuracy: 0.6699\n",
            "Epoch 79/100\n",
            "1334/1334 [==============================] - 12s 9ms/step - loss: 0.4261 - accuracy: 0.7730 - val_loss: 0.7096 - val_accuracy: 0.6669\n",
            "Epoch 80/100\n",
            "1334/1334 [==============================] - 12s 9ms/step - loss: 0.4211 - accuracy: 0.7718 - val_loss: 0.7244 - val_accuracy: 0.6681\n",
            "Epoch 81/100\n",
            "1334/1334 [==============================] - 12s 9ms/step - loss: 0.4210 - accuracy: 0.7753 - val_loss: 0.7611 - val_accuracy: 0.6642\n",
            "Epoch 82/100\n",
            "1334/1334 [==============================] - 12s 9ms/step - loss: 0.4166 - accuracy: 0.7793 - val_loss: 0.7526 - val_accuracy: 0.6632\n",
            "Epoch 83/100\n",
            "1334/1334 [==============================] - 12s 9ms/step - loss: 0.4147 - accuracy: 0.7820 - val_loss: 0.7425 - val_accuracy: 0.6617\n",
            "Epoch 84/100\n",
            "1334/1334 [==============================] - 12s 9ms/step - loss: 0.4163 - accuracy: 0.7798 - val_loss: 0.7460 - val_accuracy: 0.6627\n",
            "Epoch 85/100\n",
            "1334/1334 [==============================] - 12s 9ms/step - loss: 0.4220 - accuracy: 0.7722 - val_loss: 0.7135 - val_accuracy: 0.6641\n",
            "Epoch 86/100\n",
            "1334/1334 [==============================] - 11s 9ms/step - loss: 0.4130 - accuracy: 0.7804 - val_loss: 0.7390 - val_accuracy: 0.6710\n",
            "Epoch 87/100\n",
            "1334/1334 [==============================] - 12s 9ms/step - loss: 0.4127 - accuracy: 0.7803 - val_loss: 0.7222 - val_accuracy: 0.6644\n",
            "Epoch 88/100\n",
            "1334/1334 [==============================] - 12s 9ms/step - loss: 0.4113 - accuracy: 0.7845 - val_loss: 0.7710 - val_accuracy: 0.6677\n",
            "Epoch 89/100\n",
            "1334/1334 [==============================] - 12s 9ms/step - loss: 0.4080 - accuracy: 0.7829 - val_loss: 0.7242 - val_accuracy: 0.6647\n",
            "Epoch 90/100\n",
            "1334/1334 [==============================] - 12s 9ms/step - loss: 0.4079 - accuracy: 0.7829 - val_loss: 0.7559 - val_accuracy: 0.6634\n",
            "Epoch 91/100\n",
            "1334/1334 [==============================] - 12s 9ms/step - loss: 0.4110 - accuracy: 0.7839 - val_loss: 0.7466 - val_accuracy: 0.6631\n",
            "Epoch 92/100\n",
            "1334/1334 [==============================] - 12s 9ms/step - loss: 0.4169 - accuracy: 0.7791 - val_loss: 0.7331 - val_accuracy: 0.6664\n",
            "Epoch 93/100\n",
            "1334/1334 [==============================] - 12s 9ms/step - loss: 0.4150 - accuracy: 0.7817 - val_loss: 0.7435 - val_accuracy: 0.6661\n",
            "Epoch 94/100\n",
            "1334/1334 [==============================] - 11s 9ms/step - loss: 0.4180 - accuracy: 0.7780 - val_loss: 0.7525 - val_accuracy: 0.6669\n",
            "Epoch 95/100\n",
            "1334/1334 [==============================] - 12s 9ms/step - loss: 0.4024 - accuracy: 0.7880 - val_loss: 0.7692 - val_accuracy: 0.6618\n",
            "Epoch 96/100\n",
            "1334/1334 [==============================] - 11s 9ms/step - loss: 0.4041 - accuracy: 0.7861 - val_loss: 0.7764 - val_accuracy: 0.6650\n",
            "Epoch 97/100\n",
            "1334/1334 [==============================] - 12s 9ms/step - loss: 0.4113 - accuracy: 0.7840 - val_loss: 0.7388 - val_accuracy: 0.6596\n",
            "Epoch 98/100\n",
            "1334/1334 [==============================] - 12s 9ms/step - loss: 0.4068 - accuracy: 0.7845 - val_loss: 0.7403 - val_accuracy: 0.6626\n",
            "Epoch 99/100\n",
            "1334/1334 [==============================] - 12s 9ms/step - loss: 0.4018 - accuracy: 0.7861 - val_loss: 0.7534 - val_accuracy: 0.6593\n",
            "Epoch 100/100\n",
            "1334/1334 [==============================] - 12s 9ms/step - loss: 0.4170 - accuracy: 0.7799 - val_loss: 0.7660 - val_accuracy: 0.6606\n",
            "Fold 2, 100 epochs, 1160 sec\n"
          ],
          "name": "stdout"
        },
        {
          "output_type": "display_data",
          "data": {
            "image/png": "[encoded data removed]",
            "text/plain": [
              "<Figure size 576x360 with 1 Axes>"
            ]
          },
          "metadata": {
            "tags": [],
            "needs_background": "light"
          }
        },
        {
          "output_type": "stream",
          "text": [
            "MODEL\n",
            "make_DNN\n",
            "input shape: (128, 4)\n",
            "FIT\n",
            "Epoch 1/100\n",
            "1334/1334 [==============================] - 16s 9ms/step - loss: 0.7015 - accuracy: 0.5110 - val_loss: 0.6522 - val_accuracy: 0.6154\n",
            "Epoch 2/100\n",
            "1334/1334 [==============================] - 11s 9ms/step - loss: 0.6517 - accuracy: 0.6141 - val_loss: 0.6127 - val_accuracy: 0.6604\n",
            "Epoch 3/100\n",
            "1334/1334 [==============================] - 11s 9ms/step - loss: 0.6128 - accuracy: 0.6632 - val_loss: 0.5902 - val_accuracy: 0.6803\n",
            "Epoch 4/100\n",
            "1334/1334 [==============================] - 12s 9ms/step - loss: 0.5816 - accuracy: 0.6877 - val_loss: 0.5757 - val_accuracy: 0.6887\n",
            "Epoch 5/100\n",
            "1334/1334 [==============================] - 11s 9ms/step - loss: 0.5779 - accuracy: 0.6920 - val_loss: 0.5883 - val_accuracy: 0.6716\n",
            "Epoch 6/100\n",
            "1334/1334 [==============================] - 11s 9ms/step - loss: 0.5645 - accuracy: 0.7005 - val_loss: 0.5686 - val_accuracy: 0.6895\n",
            "Epoch 7/100\n",
            "1334/1334 [==============================] - 11s 9ms/step - loss: 0.5651 - accuracy: 0.6970 - val_loss: 0.5666 - val_accuracy: 0.6916\n",
            "Epoch 8/100\n",
            "1334/1334 [==============================] - 11s 9ms/step - loss: 0.5591 - accuracy: 0.7001 - val_loss: 0.5659 - val_accuracy: 0.6945\n",
            "Epoch 9/100\n",
            "1334/1334 [==============================] - 12s 9ms/step - loss: 0.5569 - accuracy: 0.7014 - val_loss: 0.5607 - val_accuracy: 0.6992\n"
          ],
          "name": "stdout"
        },
        {
          "output_type": "stream",
          "text": [
            "WARNING:absl:Found untraced functions such as gru_cell_6_layer_call_fn, gru_cell_6_layer_call_and_return_conditional_losses, gru_cell_7_layer_call_fn, gru_cell_7_layer_call_and_return_conditional_losses, gru_cell_6_layer_call_fn while saving (showing 5 of 10). These functions will not be directly callable after loading.\n"
          ],
          "name": "stderr"
        },
        {
          "output_type": "stream",
          "text": [
            "INFO:tensorflow:Assets written to: BestModel/assets\n"
          ],
          "name": "stdout"
        },
        {
          "output_type": "stream",
          "text": [
            "INFO:tensorflow:Assets written to: BestModel/assets\n"
          ],
          "name": "stderr"
        },
        {
          "output_type": "stream",
          "text": [
            "Epoch 10/100\n",
            "1334/1334 [==============================] - 11s 9ms/step - loss: 0.5504 - accuracy: 0.7092 - val_loss: 0.5636 - val_accuracy: 0.6980\n",
            "Epoch 11/100\n",
            "1334/1334 [==============================] - 11s 9ms/step - loss: 0.5527 - accuracy: 0.7085 - val_loss: 0.5637 - val_accuracy: 0.6948\n",
            "Epoch 12/100\n",
            "1334/1334 [==============================] - 11s 9ms/step - loss: 0.5454 - accuracy: 0.7097 - val_loss: 0.5613 - val_accuracy: 0.6992\n"
          ],
          "name": "stdout"
        },
        {
          "output_type": "stream",
          "text": [
            "WARNING:absl:Found untraced functions such as gru_cell_6_layer_call_fn, gru_cell_6_layer_call_and_return_conditional_losses, gru_cell_7_layer_call_fn, gru_cell_7_layer_call_and_return_conditional_losses, gru_cell_6_layer_call_fn while saving (showing 5 of 10). These functions will not be directly callable after loading.\n"
          ],
          "name": "stderr"
        },
        {
          "output_type": "stream",
          "text": [
            "INFO:tensorflow:Assets written to: BestModel/assets\n"
          ],
          "name": "stdout"
        },
        {
          "output_type": "stream",
          "text": [
            "INFO:tensorflow:Assets written to: BestModel/assets\n"
          ],
          "name": "stderr"
        },
        {
          "output_type": "stream",
          "text": [
            "Epoch 13/100\n",
            "1334/1334 [==============================] - 11s 9ms/step - loss: 0.5428 - accuracy: 0.7079 - val_loss: 0.5636 - val_accuracy: 0.6946\n",
            "Epoch 14/100\n",
            "1334/1334 [==============================] - 12s 9ms/step - loss: 0.5382 - accuracy: 0.7143 - val_loss: 0.5650 - val_accuracy: 0.6952\n",
            "Epoch 15/100\n",
            "1334/1334 [==============================] - 11s 9ms/step - loss: 0.5395 - accuracy: 0.7124 - val_loss: 0.5719 - val_accuracy: 0.6927\n",
            "Epoch 16/100\n",
            "1334/1334 [==============================] - 11s 9ms/step - loss: 0.5361 - accuracy: 0.7134 - val_loss: 0.5686 - val_accuracy: 0.6960\n",
            "Epoch 17/100\n",
            "1334/1334 [==============================] - 11s 9ms/step - loss: 0.5349 - accuracy: 0.7148 - val_loss: 0.5685 - val_accuracy: 0.6927\n",
            "Epoch 18/100\n",
            "1334/1334 [==============================] - 11s 9ms/step - loss: 0.5278 - accuracy: 0.7200 - val_loss: 0.5835 - val_accuracy: 0.6858\n",
            "Epoch 19/100\n",
            "1334/1334 [==============================] - 11s 9ms/step - loss: 0.5303 - accuracy: 0.7190 - val_loss: 0.5695 - val_accuracy: 0.6921\n",
            "Epoch 20/100\n",
            "1334/1334 [==============================] - 12s 9ms/step - loss: 0.5296 - accuracy: 0.7195 - val_loss: 0.5745 - val_accuracy: 0.6909\n",
            "Epoch 21/100\n",
            "1334/1334 [==============================] - 11s 9ms/step - loss: 0.5221 - accuracy: 0.7229 - val_loss: 0.5813 - val_accuracy: 0.6902\n",
            "Epoch 22/100\n",
            "1334/1334 [==============================] - 12s 9ms/step - loss: 0.5258 - accuracy: 0.7218 - val_loss: 0.5822 - val_accuracy: 0.6923\n",
            "Epoch 23/100\n",
            "1334/1334 [==============================] - 12s 9ms/step - loss: 0.5209 - accuracy: 0.7255 - val_loss: 0.5787 - val_accuracy: 0.6902\n",
            "Epoch 24/100\n",
            "1334/1334 [==============================] - 12s 9ms/step - loss: 0.5128 - accuracy: 0.7311 - val_loss: 0.5805 - val_accuracy: 0.6893\n",
            "Epoch 25/100\n",
            "1334/1334 [==============================] - 12s 9ms/step - loss: 0.5139 - accuracy: 0.7297 - val_loss: 0.5856 - val_accuracy: 0.6889\n",
            "Epoch 26/100\n",
            "1334/1334 [==============================] - 11s 9ms/step - loss: 0.5103 - accuracy: 0.7333 - val_loss: 0.5907 - val_accuracy: 0.6876\n",
            "Epoch 27/100\n",
            "1334/1334 [==============================] - 12s 9ms/step - loss: 0.5098 - accuracy: 0.7310 - val_loss: 0.6003 - val_accuracy: 0.6844\n",
            "Epoch 28/100\n",
            "1334/1334 [==============================] - 12s 9ms/step - loss: 0.5070 - accuracy: 0.7319 - val_loss: 0.5892 - val_accuracy: 0.6886\n",
            "Epoch 29/100\n",
            "1334/1334 [==============================] - 12s 9ms/step - loss: 0.5056 - accuracy: 0.7339 - val_loss: 0.5892 - val_accuracy: 0.6807\n",
            "Epoch 30/100\n",
            "1334/1334 [==============================] - 12s 9ms/step - loss: 0.5004 - accuracy: 0.7335 - val_loss: 0.6091 - val_accuracy: 0.6839\n",
            "Epoch 31/100\n",
            "1334/1334 [==============================] - 12s 9ms/step - loss: 0.5023 - accuracy: 0.7313 - val_loss: 0.6017 - val_accuracy: 0.6818\n",
            "Epoch 32/100\n",
            "1334/1334 [==============================] - 12s 9ms/step - loss: 0.5007 - accuracy: 0.7335 - val_loss: 0.6017 - val_accuracy: 0.6834\n",
            "Epoch 33/100\n",
            "1334/1334 [==============================] - 12s 9ms/step - loss: 0.4989 - accuracy: 0.7369 - val_loss: 0.6057 - val_accuracy: 0.6821\n",
            "Epoch 34/100\n",
            "1334/1334 [==============================] - 12s 9ms/step - loss: 0.4946 - accuracy: 0.7388 - val_loss: 0.6058 - val_accuracy: 0.6835\n",
            "Epoch 35/100\n",
            "1334/1334 [==============================] - 12s 9ms/step - loss: 0.4802 - accuracy: 0.7456 - val_loss: 0.6367 - val_accuracy: 0.6801\n",
            "Epoch 36/100\n",
            "1334/1334 [==============================] - 12s 9ms/step - loss: 0.4961 - accuracy: 0.7379 - val_loss: 0.6156 - val_accuracy: 0.6819\n",
            "Epoch 37/100\n",
            "1334/1334 [==============================] - 12s 9ms/step - loss: 0.4840 - accuracy: 0.7427 - val_loss: 0.6214 - val_accuracy: 0.6825\n",
            "Epoch 38/100\n",
            "1334/1334 [==============================] - 12s 9ms/step - loss: 0.4827 - accuracy: 0.7457 - val_loss: 0.6092 - val_accuracy: 0.6824\n",
            "Epoch 39/100\n",
            "1334/1334 [==============================] - 12s 9ms/step - loss: 0.4797 - accuracy: 0.7477 - val_loss: 0.6372 - val_accuracy: 0.6829\n",
            "Epoch 40/100\n",
            "1334/1334 [==============================] - 12s 9ms/step - loss: 0.4761 - accuracy: 0.7478 - val_loss: 0.6388 - val_accuracy: 0.6824\n",
            "Epoch 41/100\n",
            "1334/1334 [==============================] - 12s 9ms/step - loss: 0.4817 - accuracy: 0.7457 - val_loss: 0.6307 - val_accuracy: 0.6833\n",
            "Epoch 42/100\n",
            "1334/1334 [==============================] - 11s 9ms/step - loss: 0.4726 - accuracy: 0.7492 - val_loss: 0.6389 - val_accuracy: 0.6812\n",
            "Epoch 43/100\n",
            "1334/1334 [==============================] - 12s 9ms/step - loss: 0.4733 - accuracy: 0.7492 - val_loss: 0.6163 - val_accuracy: 0.6778\n",
            "Epoch 44/100\n",
            "1334/1334 [==============================] - 12s 9ms/step - loss: 0.4774 - accuracy: 0.7474 - val_loss: 0.6343 - val_accuracy: 0.6807\n",
            "Epoch 45/100\n",
            "1334/1334 [==============================] - 12s 9ms/step - loss: 0.4729 - accuracy: 0.7495 - val_loss: 0.6261 - val_accuracy: 0.6767\n",
            "Epoch 46/100\n",
            "1334/1334 [==============================] - 12s 9ms/step - loss: 0.4724 - accuracy: 0.7514 - val_loss: 0.6762 - val_accuracy: 0.6773\n",
            "Epoch 47/100\n",
            "1334/1334 [==============================] - 12s 9ms/step - loss: 0.4661 - accuracy: 0.7536 - val_loss: 0.6511 - val_accuracy: 0.6783\n",
            "Epoch 48/100\n",
            "1334/1334 [==============================] - 12s 9ms/step - loss: 0.4691 - accuracy: 0.7516 - val_loss: 0.6416 - val_accuracy: 0.6780\n",
            "Epoch 49/100\n",
            "1334/1334 [==============================] - 12s 9ms/step - loss: 0.4621 - accuracy: 0.7531 - val_loss: 0.6692 - val_accuracy: 0.6799\n",
            "Epoch 50/100\n",
            "1334/1334 [==============================] - 12s 9ms/step - loss: 0.4598 - accuracy: 0.7561 - val_loss: 0.6574 - val_accuracy: 0.6782\n",
            "Epoch 51/100\n",
            "1334/1334 [==============================] - 12s 9ms/step - loss: 0.4589 - accuracy: 0.7581 - val_loss: 0.6511 - val_accuracy: 0.6778\n",
            "Epoch 52/100\n",
            "1334/1334 [==============================] - 12s 9ms/step - loss: 0.4579 - accuracy: 0.7573 - val_loss: 0.6479 - val_accuracy: 0.6771\n",
            "Epoch 53/100\n",
            "1334/1334 [==============================] - 12s 9ms/step - loss: 0.4540 - accuracy: 0.7594 - val_loss: 0.6575 - val_accuracy: 0.6759\n",
            "Epoch 54/100\n",
            "1334/1334 [==============================] - 12s 9ms/step - loss: 0.4570 - accuracy: 0.7586 - val_loss: 0.6874 - val_accuracy: 0.6786\n",
            "Epoch 55/100\n",
            "1334/1334 [==============================] - 12s 9ms/step - loss: 0.4513 - accuracy: 0.7603 - val_loss: 0.6788 - val_accuracy: 0.6764\n",
            "Epoch 56/100\n",
            "1334/1334 [==============================] - 12s 9ms/step - loss: 0.4522 - accuracy: 0.7577 - val_loss: 0.7016 - val_accuracy: 0.6747\n",
            "Epoch 57/100\n",
            "1334/1334 [==============================] - 12s 9ms/step - loss: 0.4494 - accuracy: 0.7616 - val_loss: 0.6987 - val_accuracy: 0.6719\n",
            "Epoch 58/100\n",
            "1334/1334 [==============================] - 12s 9ms/step - loss: 0.4519 - accuracy: 0.7610 - val_loss: 0.6982 - val_accuracy: 0.6729\n",
            "Epoch 59/100\n",
            "1334/1334 [==============================] - 12s 9ms/step - loss: 0.4565 - accuracy: 0.7594 - val_loss: 0.6880 - val_accuracy: 0.6737\n",
            "Epoch 60/100\n",
            "1334/1334 [==============================] - 12s 9ms/step - loss: 0.4549 - accuracy: 0.7582 - val_loss: 0.6814 - val_accuracy: 0.6740\n",
            "Epoch 61/100\n",
            "1334/1334 [==============================] - 12s 9ms/step - loss: 0.4464 - accuracy: 0.7611 - val_loss: 0.6862 - val_accuracy: 0.6782\n",
            "Epoch 62/100\n",
            "1334/1334 [==============================] - 12s 9ms/step - loss: 0.4475 - accuracy: 0.7626 - val_loss: 0.6908 - val_accuracy: 0.6760\n",
            "Epoch 63/100\n",
            "1334/1334 [==============================] - 12s 9ms/step - loss: 0.4399 - accuracy: 0.7653 - val_loss: 0.6611 - val_accuracy: 0.6758\n",
            "Epoch 64/100\n",
            "1334/1334 [==============================] - 12s 9ms/step - loss: 0.4479 - accuracy: 0.7601 - val_loss: 0.6875 - val_accuracy: 0.6689\n",
            "Epoch 65/100\n",
            "1334/1334 [==============================] - 12s 9ms/step - loss: 0.4462 - accuracy: 0.7626 - val_loss: 0.6973 - val_accuracy: 0.6751\n",
            "Epoch 66/100\n",
            "1334/1334 [==============================] - 12s 9ms/step - loss: 0.4382 - accuracy: 0.7662 - val_loss: 0.7099 - val_accuracy: 0.6707\n",
            "Epoch 67/100\n",
            "1334/1334 [==============================] - 12s 9ms/step - loss: 0.4548 - accuracy: 0.7586 - val_loss: 0.7072 - val_accuracy: 0.6710\n",
            "Epoch 68/100\n",
            "1334/1334 [==============================] - 12s 9ms/step - loss: 0.4371 - accuracy: 0.7680 - val_loss: 0.6978 - val_accuracy: 0.6713\n",
            "Epoch 69/100\n",
            "1334/1334 [==============================] - 12s 9ms/step - loss: 0.4419 - accuracy: 0.7678 - val_loss: 0.7106 - val_accuracy: 0.6684\n",
            "Epoch 70/100\n",
            "1334/1334 [==============================] - 11s 9ms/step - loss: 0.4386 - accuracy: 0.7652 - val_loss: 0.7252 - val_accuracy: 0.6746\n",
            "Epoch 71/100\n",
            "1334/1334 [==============================] - 12s 9ms/step - loss: 0.4336 - accuracy: 0.7700 - val_loss: 0.7166 - val_accuracy: 0.6736\n",
            "Epoch 72/100\n",
            "1334/1334 [==============================] - 12s 9ms/step - loss: 0.4344 - accuracy: 0.7678 - val_loss: 0.7190 - val_accuracy: 0.6706\n",
            "Epoch 73/100\n",
            "1334/1334 [==============================] - 12s 9ms/step - loss: 0.4311 - accuracy: 0.7714 - val_loss: 0.7206 - val_accuracy: 0.6737\n",
            "Epoch 74/100\n",
            "1334/1334 [==============================] - 12s 9ms/step - loss: 0.4298 - accuracy: 0.7734 - val_loss: 0.7388 - val_accuracy: 0.6680\n",
            "Epoch 75/100\n",
            "1334/1334 [==============================] - 12s 9ms/step - loss: 0.4369 - accuracy: 0.7691 - val_loss: 0.7235 - val_accuracy: 0.6715\n",
            "Epoch 76/100\n",
            "1334/1334 [==============================] - 12s 9ms/step - loss: 0.4252 - accuracy: 0.7734 - val_loss: 0.7236 - val_accuracy: 0.6718\n",
            "Epoch 77/100\n",
            "1334/1334 [==============================] - 12s 9ms/step - loss: 0.4329 - accuracy: 0.7721 - val_loss: 0.7122 - val_accuracy: 0.6711\n",
            "Epoch 78/100\n",
            "1334/1334 [==============================] - 12s 9ms/step - loss: 0.4380 - accuracy: 0.7699 - val_loss: 0.7419 - val_accuracy: 0.6735\n",
            "Epoch 79/100\n",
            "1334/1334 [==============================] - 12s 9ms/step - loss: 0.4300 - accuracy: 0.7700 - val_loss: 0.7369 - val_accuracy: 0.6707\n",
            "Epoch 80/100\n",
            "1334/1334 [==============================] - 12s 9ms/step - loss: 0.4277 - accuracy: 0.7746 - val_loss: 0.7433 - val_accuracy: 0.6706\n",
            "Epoch 81/100\n",
            "1334/1334 [==============================] - 12s 9ms/step - loss: 0.4281 - accuracy: 0.7688 - val_loss: 0.7526 - val_accuracy: 0.6683\n",
            "Epoch 82/100\n",
            "1334/1334 [==============================] - 12s 9ms/step - loss: 0.4255 - accuracy: 0.7723 - val_loss: 0.7012 - val_accuracy: 0.6665\n",
            "Epoch 83/100\n",
            "1334/1334 [==============================] - 12s 9ms/step - loss: 0.4236 - accuracy: 0.7751 - val_loss: 0.7592 - val_accuracy: 0.6662\n",
            "Epoch 84/100\n",
            "1334/1334 [==============================] - 12s 9ms/step - loss: 0.4317 - accuracy: 0.7709 - val_loss: 0.7340 - val_accuracy: 0.6660\n",
            "Epoch 85/100\n",
            "1334/1334 [==============================] - 12s 9ms/step - loss: 0.4359 - accuracy: 0.7718 - val_loss: 0.7612 - val_accuracy: 0.6676\n",
            "Epoch 86/100\n",
            "1334/1334 [==============================] - 12s 9ms/step - loss: 0.4267 - accuracy: 0.7737 - val_loss: 0.7594 - val_accuracy: 0.6723\n",
            "Epoch 87/100\n",
            "1334/1334 [==============================] - 12s 9ms/step - loss: 0.4291 - accuracy: 0.7714 - val_loss: 0.7399 - val_accuracy: 0.6738\n",
            "Epoch 88/100\n",
            "1334/1334 [==============================] - 12s 9ms/step - loss: 0.4230 - accuracy: 0.7761 - val_loss: 0.7530 - val_accuracy: 0.6669\n",
            "Epoch 89/100\n",
            "1334/1334 [==============================] - 12s 9ms/step - loss: 0.4270 - accuracy: 0.7767 - val_loss: 0.7461 - val_accuracy: 0.6705\n",
            "Epoch 90/100\n",
            "1334/1334 [==============================] - 12s 9ms/step - loss: 0.4164 - accuracy: 0.7822 - val_loss: 0.7719 - val_accuracy: 0.6704\n",
            "Epoch 91/100\n",
            "1334/1334 [==============================] - 12s 9ms/step - loss: 0.4172 - accuracy: 0.7782 - val_loss: 0.7420 - val_accuracy: 0.6685\n",
            "Epoch 92/100\n",
            "1334/1334 [==============================] - 12s 9ms/step - loss: 0.4114 - accuracy: 0.7785 - val_loss: 0.7610 - val_accuracy: 0.6693\n",
            "Epoch 93/100\n",
            "1334/1334 [==============================] - 12s 9ms/step - loss: 0.4133 - accuracy: 0.7789 - val_loss: 0.8036 - val_accuracy: 0.6731\n",
            "Epoch 94/100\n",
            "1334/1334 [==============================] - 12s 9ms/step - loss: 0.4105 - accuracy: 0.7796 - val_loss: 0.8048 - val_accuracy: 0.6735\n",
            "Epoch 95/100\n",
            "1334/1334 [==============================] - 12s 9ms/step - loss: 0.4119 - accuracy: 0.7820 - val_loss: 0.7543 - val_accuracy: 0.6703\n",
            "Epoch 96/100\n",
            "1334/1334 [==============================] - 12s 9ms/step - loss: 0.4182 - accuracy: 0.7767 - val_loss: 0.7571 - val_accuracy: 0.6702\n",
            "Epoch 97/100\n",
            "1334/1334 [==============================] - 12s 9ms/step - loss: 0.4126 - accuracy: 0.7830 - val_loss: 0.7384 - val_accuracy: 0.6685\n",
            "Epoch 98/100\n",
            "1334/1334 [==============================] - 12s 9ms/step - loss: 0.4083 - accuracy: 0.7828 - val_loss: 0.7811 - val_accuracy: 0.6688\n",
            "Epoch 99/100\n",
            "1334/1334 [==============================] - 12s 9ms/step - loss: 0.4110 - accuracy: 0.7835 - val_loss: 0.7545 - val_accuracy: 0.6662\n",
            "Epoch 100/100\n",
            "1334/1334 [==============================] - 12s 9ms/step - loss: 0.4236 - accuracy: 0.7725 - val_loss: 0.7907 - val_accuracy: 0.6672\n",
            "Fold 3, 100 epochs, 1186 sec\n"
          ],
          "name": "stdout"
        },
        {
          "output_type": "display_data",
          "data": {
            "image/png": "[encoded data removed]",
            "text/plain": [
              "<Figure size 576x360 with 1 Axes>"
            ]
          },
          "metadata": {
            "tags": [],
            "needs_background": "light"
          }
        }
      ]
    },
    {
      "cell_type": "code",
      "metadata": {
        "colab": {
          "base_uri": "https://localhost:8080/"
        },
        "id": "e-jG1h5fj2Ua",
        "outputId": "9654a6db-27e2-45df-b7aa-3cac528caba3"
      },
      "source": [
        "from keras.models import load_model\n",
        "X,y = prepare_inputs_len_x_alphabet(pc_test,nc_test,ALPHABET)\n",
        "best_model=load_model(MODELPATH)\n",
        "scores = best_model.evaluate(X, y, verbose=0)\n",
        "print(\"The best model parameters were saved during cross-validation.\")\n",
        "print(\"Best was defined as maximum validation accuracy at end of any epoch.\")\n",
        "print(\"Now re-load the best model and test it on previously unseen data.\")\n",
        "print(\"Test on\",len(pc_test),\"PC seqs\")\n",
        "print(\"Test on\",len(nc_test),\"NC seqs\")\n",
        "print(\"%s: %.2f%%\" % (best_model.metrics_names[1], scores[1]*100))\n"
      ],
      "execution_count": 12,
      "outputs": [
        {
          "output_type": "stream",
          "text": [
            "The best model parameters were saved during cross-validation.\n",
            "Best was defined as maximum validation accuracy at end of any epoch.\n",
            "Now re-load the best model and test it on previously unseen data.\n",
            "Test on 1000 PC seqs\n",
            "Test on 1000 NC seqs\n",
            "accuracy: 69.80%\n"
          ],
          "name": "stdout"
        }
      ]
    },
    {
      "cell_type": "code",
      "metadata": {
        "colab": {
          "base_uri": "https://localhost:8080/",
          "height": 312
        },
        "id": "VycUnmvUj2Ue",
        "outputId": "b28eaa91-d238-4399-a41e-b00e5a5a8c87"
      },
      "source": [
        "from sklearn.metrics import roc_curve\n",
        "from sklearn.metrics import roc_auc_score\n",
        "ns_probs = [0 for _ in range(len(y))]\n",
        "bm_probs = best_model.predict(X)\n",
        "ns_auc = roc_auc_score(y, ns_probs)\n",
        "bm_auc = roc_auc_score(y, bm_probs)\n",
        "ns_fpr, ns_tpr, _ = roc_curve(y, ns_probs)\n",
        "bm_fpr, bm_tpr, _ = roc_curve(y, bm_probs)\n",
        "plt.plot(ns_fpr, ns_tpr, linestyle='--', label='Guess, auc=%.4f'%ns_auc)\n",
        "plt.plot(bm_fpr, bm_tpr, marker='.', label='Model, auc=%.4f'%bm_auc)\n",
        "plt.title('ROC')\n",
        "plt.xlabel('False Positive Rate')\n",
        "plt.ylabel('True Positive Rate')\n",
        "plt.legend()\n",
        "plt.show()\n",
        "print(\"%s: %.2f%%\" %('AUC',bm_auc*100.0))\n"
      ],
      "execution_count": 13,
      "outputs": [
        {
          "output_type": "display_data",
          "data": {
            "image/png": "[encoded data removed]",
            "text/plain": [
              "<Figure size 432x288 with 1 Axes>"
            ]
          },
          "metadata": {
            "tags": [],
            "needs_background": "light"
          }
        },
        {
          "output_type": "stream",
          "text": [
            "AUC: 77.74%\n"
          ],
          "name": "stdout"
        }
      ]
    },
    {
      "cell_type": "code",
      "metadata": {
        "colab": {
          "base_uri": "https://localhost:8080/",
          "height": 36
        },
        "id": "kFMb6rGNj2Ug",
        "outputId": "2519919a-f8c5-4ac1-82ab-e082ce044d97"
      },
      "source": [
        "t = time.time()\n",
        "time.strftime('%Y-%m-%d %H:%M:%S %Z', time.localtime(t))"
      ],
      "execution_count": 14,
      "outputs": [
        {
          "output_type": "execute_result",
          "data": {
            "application/vnd.google.colaboratory.intrinsic+json": {
              "type": "string"
            },
            "text/plain": [
              "'2021-06-22 12:47:10 UTC'"
            ]
          },
          "metadata": {
            "tags": []
          },
          "execution_count": 14
        }
      ]
    },
    {
      "cell_type": "code",
      "metadata": {
        "id": "e-mEgDrQjUzF"
      },
      "source": [
        ""
      ],
      "execution_count": 14,
      "outputs": []
    }
  ]
}