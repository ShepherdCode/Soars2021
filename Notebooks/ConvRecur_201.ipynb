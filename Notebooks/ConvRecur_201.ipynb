{
  "nbformat": 4,
  "nbformat_minor": 0,
  "metadata": {
    "accelerator": "GPU",
    "colab": {
      "name": "ConvRecur_201.ipynb",
      "provenance": [],
      "collapsed_sections": []
    },
    "kernelspec": {
      "display_name": "Python 3",
      "language": "python",
      "name": "python3"
    },
    "language_info": {
      "codemirror_mode": {
        "name": "ipython",
        "version": 3
      },
      "file_extension": ".py",
      "mimetype": "text/x-python",
      "name": "python",
      "nbconvert_exporter": "python",
      "pygments_lexer": "ipython3",
      "version": "3.8.3"
    }
  },
  "cells": [
    {
      "cell_type": "markdown",
      "metadata": {
        "id": "0asdcdunj2Tx"
      },
      "source": [
        "# ORF recognition by Convolutional/Recurrent\n",
        "Attempting to train the model on simulated RNA sequences of length 256.\n",
        "\n"
      ]
    },
    {
      "cell_type": "code",
      "metadata": {
        "colab": {
          "base_uri": "https://localhost:8080/",
          "height": 36
        },
        "id": "QP1VTRNQj2UO",
        "outputId": "7e965159-ade1-449a-c1f7-40d1acc7a505"
      },
      "source": [
        "import time \n",
        "t = time.time()\n",
        "time.strftime('%Y-%m-%d %H:%M:%S %Z', time.localtime(t))"
      ],
      "execution_count": 1,
      "outputs": [
        {
          "output_type": "execute_result",
          "data": {
            "application/vnd.google.colaboratory.intrinsic+json": {
              "type": "string"
            },
            "text/plain": [
              "'2021-07-01 17:38:58 UTC'"
            ]
          },
          "metadata": {
            "tags": []
          },
          "execution_count": 1
        }
      ]
    },
    {
      "cell_type": "code",
      "metadata": {
        "id": "Nhz4GKonj2T_"
      },
      "source": [
        "#Input\n",
        "PC_SEQUENCES=64000   # how many protein-coding sequences\n",
        "NC_SEQUENCES=64000   # how many non-coding sequences\n",
        "PC_TESTS=1000\n",
        "NC_TESTS=1000\n",
        "RNA_LEN=256            # how long is each sequence\n",
        "CDS_LEN=128            # min CDS len to be coding\n",
        "ALPHABET=4          # how many different letters are possible\n",
        "INPUT_SHAPE_2D = (RNA_LEN,ALPHABET,1) # Conv2D needs 3D inputs\n",
        "INPUT_SHAPE = (RNA_LEN,ALPHABET) # Conv1D needs 2D inputs\n",
        "\n",
        "#Model\n",
        "FILTERS = 32   # how many different patterns the model looks for\n",
        "CELLS = 128 #Used in LSTM layer(s)\n",
        "NEURONS = 128 #Used in Dense layer(s)\n",
        "DROP_RATE = 0.05\n",
        "WIDTH = 3   # how wide each pattern is, in bases\n",
        "STRIDE_2D = (1,1)  # For Conv2D how far in each direction\n",
        "STRIDE = 1 # For Conv1D, how far between pattern matches, in bases\n",
        "\n",
        "#Training\n",
        "EPOCHS=50  # how many times to train on all the data\n",
        "SPLITS=3  # SPLITS=3 means train on 2/3 and validate on 1/3 \n",
        "FOLDS=3  # train the model this many times (range 1 to SPLITS)"
      ],
      "execution_count": 2,
      "outputs": []
    },
    {
      "cell_type": "code",
      "metadata": {
        "colab": {
          "base_uri": "https://localhost:8080/"
        },
        "id": "lr7q90rxj2UE",
        "outputId": "8666b694-bfc3-442d-e634-c3b21e13e4fa"
      },
      "source": [
        "import sys\n",
        "IN_COLAB = False\n",
        "try:\n",
        "    from google.colab import drive\n",
        "    IN_COLAB = True\n",
        "except:\n",
        "    pass\n",
        "if IN_COLAB:\n",
        "    print(\"On Google CoLab, mount cloud-local file, get our code from GitHub.\")\n",
        "    PATH='/content/drive/'\n",
        "    #drive.mount(PATH,force_remount=True)  # hardly ever need this\n",
        "    #drive.mount(PATH)    # Google will require login credentials\n",
        "    DATAPATH=PATH+'My Drive/data/'  # must end in \"/\"\n",
        "    import requests\n",
        "    r = requests.get('https://raw.githubusercontent.com/ShepherdCode/Soars2021/master/SimTools/RNA_describe.py')\n",
        "    with open('RNA_describe.py', 'w') as f:\n",
        "        f.write(r.text)  \n",
        "    from RNA_describe import ORF_counter\n",
        "    from RNA_describe import Random_Base_Oracle\n",
        "    r = requests.get('https://raw.githubusercontent.com/ShepherdCode/Soars2021/master/SimTools/RNA_prep.py')\n",
        "    with open('RNA_prep.py', 'w') as f:\n",
        "        f.write(r.text)  \n",
        "    from RNA_prep import prepare_inputs_len_x_alphabet\n",
        "else:\n",
        "        print(\"CoLab not working. On my PC, use relative paths.\")\n",
        "        DATAPATH='data/'  # must end in \"/\"\n",
        "        sys.path.append(\"..\") # append parent dir in order to use sibling dirs\n",
        "        from SimTools.RNA_describe import ORF_counter,Random_Base_Oracle\n",
        "        from SimTools.RNA_prep import prepare_inputs_len_x_alphabet\n",
        "\n",
        "MODELPATH=\"BestModel\"  # saved on cloud instance and lost after logout\n",
        "#MODELPATH=DATAPATH+MODELPATH  # saved on Google Drive but requires login\n"
      ],
      "execution_count": 3,
      "outputs": [
        {
          "output_type": "stream",
          "text": [
            "On Google CoLab, mount cloud-local file, get our code from GitHub.\n"
          ],
          "name": "stdout"
        }
      ]
    },
    {
      "cell_type": "code",
      "metadata": {
        "id": "EGDXH8Uwj2UM"
      },
      "source": [
        "from os import listdir\n",
        "import csv\n",
        "from zipfile import ZipFile\n",
        "\n",
        "import numpy as np\n",
        "import pandas as pd\n",
        "from scipy import stats  # mode\n",
        "\n",
        "from sklearn.preprocessing import StandardScaler\n",
        "from sklearn.model_selection import KFold\n",
        "from sklearn.model_selection import cross_val_score\n",
        "\n",
        "from keras.models import Sequential\n",
        "from keras.layers import Dense,Embedding,Dropout\n",
        "from keras.layers import Conv1D,Conv2D\n",
        "from keras.layers import GRU,LSTM\n",
        "from keras.layers import Flatten,TimeDistributed\n",
        "from keras.layers import MaxPooling1D,MaxPooling2D\n",
        "from keras.losses import BinaryCrossentropy\n",
        "# tf.keras.losses.BinaryCrossentropy\n",
        "\n",
        "import matplotlib.pyplot as plt\n",
        "from matplotlib import colors\n",
        "mycmap = colors.ListedColormap(['red','blue'])  # list color for label 0 then 1\n",
        "np.set_printoptions(precision=2)\n"
      ],
      "execution_count": 4,
      "outputs": []
    },
    {
      "cell_type": "code",
      "metadata": {
        "colab": {
          "base_uri": "https://localhost:8080/"
        },
        "id": "CUOG_jEvGtOm",
        "outputId": "b8f157d2-1a1b-45d1-f235-340decbe6bf2"
      },
      "source": [
        "rbo=Random_Base_Oracle(RNA_LEN,True)\n",
        "pc_all,nc_all = rbo.get_partitioned_sequences(CDS_LEN,10) # just testing\n",
        "pc_all,nc_all = rbo.get_partitioned_sequences(CDS_LEN,PC_SEQUENCES+PC_TESTS)\n",
        "print(\"Use\",len(pc_all),\"PC seqs\")\n",
        "print(\"Use\",len(nc_all),\"NC seqs\")"
      ],
      "execution_count": 5,
      "outputs": [
        {
          "output_type": "stream",
          "text": [
            "It took 58 trials to reach 10 per class.\n",
            "It took 360381 trials to reach 65000 per class.\n",
            "Use 65000 PC seqs\n",
            "Use 65000 NC seqs\n"
          ],
          "name": "stdout"
        }
      ]
    },
    {
      "cell_type": "code",
      "metadata": {
        "colab": {
          "base_uri": "https://localhost:8080/"
        },
        "id": "Q-BmSXi2jUyl",
        "outputId": "5bd42d00-8876-4a1f-df7d-f1ae99b47e6a"
      },
      "source": [
        "# Describe the sequences\n",
        "def describe_sequences(list_of_seq):\n",
        "    oc = ORF_counter()\n",
        "    num_seq = len(list_of_seq)\n",
        "    rna_lens = np.zeros(num_seq)\n",
        "    orf_lens = np.zeros(num_seq)\n",
        "    for i in range(0,num_seq):\n",
        "        rna_len = len(list_of_seq[i])\n",
        "        rna_lens[i] = rna_len\n",
        "        oc.set_sequence(list_of_seq[i])\n",
        "        orf_len = oc.get_max_orf_len()\n",
        "        orf_lens[i] = orf_len\n",
        "    print (\"Average RNA length:\",rna_lens.mean())\n",
        "    print (\"Average ORF length:\",orf_lens.mean())\n",
        "    \n",
        "print(\"Simulated sequences prior to adjustment:\")\n",
        "print(\"PC seqs\")\n",
        "describe_sequences(pc_all)\n",
        "print(\"NC seqs\")\n",
        "describe_sequences(nc_all)"
      ],
      "execution_count": 6,
      "outputs": [
        {
          "output_type": "stream",
          "text": [
            "Simulated sequences prior to adjustment:\n",
            "PC seqs\n",
            "Average RNA length: 256.0\n",
            "Average ORF length: 156.56455384615384\n",
            "NC seqs\n",
            "Average RNA length: 256.0\n",
            "Average ORF length: 67.68724615384616\n"
          ],
          "name": "stdout"
        }
      ]
    },
    {
      "cell_type": "code",
      "metadata": {
        "id": "iP1y7-J3jUys"
      },
      "source": [
        "pc_train=pc_all[:PC_SEQUENCES]\n",
        "nc_train=nc_all[:NC_SEQUENCES]\n",
        "pc_test=pc_all[PC_SEQUENCES:]\n",
        "nc_test=nc_all[NC_SEQUENCES:]"
      ],
      "execution_count": 7,
      "outputs": []
    },
    {
      "cell_type": "code",
      "metadata": {
        "colab": {
          "base_uri": "https://localhost:8080/"
        },
        "id": "CIpTrnH6j2US",
        "outputId": "1a9d77a1-ab09-4c69-cfae-57db6af4e218"
      },
      "source": [
        "# Use code from our SimTools library.\n",
        "X,y = prepare_inputs_len_x_alphabet(pc_train,nc_train,ALPHABET) # shuffles\n",
        "print(\"Data ready.\")"
      ],
      "execution_count": 8,
      "outputs": [
        {
          "output_type": "stream",
          "text": [
            "Data ready.\n"
          ],
          "name": "stdout"
        }
      ]
    },
    {
      "cell_type": "code",
      "metadata": {
        "colab": {
          "base_uri": "https://localhost:8080/"
        },
        "id": "7NvrVU8ij2UU",
        "outputId": "253fd7e8-05a9-447f-9c41-f9da764322c7"
      },
      "source": [
        "def make_DNN():\n",
        "    print(\"make_DNN\")\n",
        "    print(\"input shape:\",INPUT_SHAPE)\n",
        "    dnn = Sequential()\n",
        "    #dnn.add(Embedding(input_dim=INPUT_SHAPE,output_dim=INPUT_SHAPE)) \n",
        "    dnn.add(Conv1D(filters=FILTERS,kernel_size=WIDTH,strides=STRIDE,padding=\"same\",\n",
        "            input_shape=INPUT_SHAPE))\n",
        "    dnn.add(Conv1D(filters=FILTERS,kernel_size=WIDTH,strides=STRIDE,padding=\"same\"))\n",
        "    dnn.add(MaxPooling1D())\n",
        "    dnn.add(Conv1D(filters=FILTERS,kernel_size=WIDTH,strides=STRIDE,padding=\"same\")) #Testing\n",
        "    dnn.add(Conv1D(filters=FILTERS,kernel_size=WIDTH,strides=STRIDE,padding=\"same\")) #Testing\n",
        "    dnn.add(MaxPooling1D()) #Testing\n",
        "    #dnn.add(TimeDistributed(Flatten()))\n",
        "    dnn.add(LSTM(CELLS,return_sequences=True))\n",
        "    dnn.add(LSTM(CELLS,return_sequences=False))\n",
        "    dnn.add(Dense(NEURONS,activation=\"sigmoid\",dtype=np.float32))   \n",
        "    dnn.add(Dropout(DROP_RATE))\n",
        "    dnn.add(Dense(1,activation=\"sigmoid\",dtype=np.float32))   \n",
        "    dnn.compile(optimizer='adam',\n",
        "                loss=BinaryCrossentropy(from_logits=False),\n",
        "                metrics=['accuracy'])   # add to default metrics=loss\n",
        "    #dnn.build(input_shape=INPUT_SHAPE)   \n",
        "    dnn.build()   \n",
        "    #ln_rate = tf.keras.optimizers.Adam(learning_rate = LN_RATE)\n",
        "    #bc=tf.keras.losses.BinaryCrossentropy(from_logits=False)\n",
        "    #model.compile(loss=bc, optimizer=ln_rate, metrics=[\"accuracy\"])\n",
        "    return dnn\n",
        "model = make_DNN()\n",
        "print(model.summary())"
      ],
      "execution_count": 9,
      "outputs": [
        {
          "output_type": "stream",
          "text": [
            "make_DNN\n",
            "input shape: (256, 4)\n",
            "Model: \"sequential\"\n",
            "_________________________________________________________________\n",
            "Layer (type)                 Output Shape              Param #   \n",
            "=================================================================\n",
            "conv1d (Conv1D)              (None, 256, 32)           416       \n",
            "_________________________________________________________________\n",
            "conv1d_1 (Conv1D)            (None, 256, 32)           3104      \n",
            "_________________________________________________________________\n",
            "max_pooling1d (MaxPooling1D) (None, 128, 32)           0         \n",
            "_________________________________________________________________\n",
            "conv1d_2 (Conv1D)            (None, 128, 32)           3104      \n",
            "_________________________________________________________________\n",
            "conv1d_3 (Conv1D)            (None, 128, 32)           3104      \n",
            "_________________________________________________________________\n",
            "max_pooling1d_1 (MaxPooling1 (None, 64, 32)            0         \n",
            "_________________________________________________________________\n",
            "lstm (LSTM)                  (None, 64, 128)           82432     \n",
            "_________________________________________________________________\n",
            "lstm_1 (LSTM)                (None, 128)               131584    \n",
            "_________________________________________________________________\n",
            "dense (Dense)                (None, 128)               16512     \n",
            "_________________________________________________________________\n",
            "dropout (Dropout)            (None, 128)               0         \n",
            "_________________________________________________________________\n",
            "dense_1 (Dense)              (None, 1)                 129       \n",
            "=================================================================\n",
            "Total params: 240,385\n",
            "Trainable params: 240,385\n",
            "Non-trainable params: 0\n",
            "_________________________________________________________________\n",
            "None\n"
          ],
          "name": "stdout"
        }
      ]
    },
    {
      "cell_type": "code",
      "metadata": {
        "id": "nlVF0hR3j2UW"
      },
      "source": [
        "from keras.callbacks import ModelCheckpoint\n",
        "def do_cross_validation(X,y):\n",
        "    cv_scores = []\n",
        "    fold=0\n",
        "    mycallbacks = [ModelCheckpoint(\n",
        "        filepath=MODELPATH, save_best_only=True, \n",
        "        monitor='val_accuracy', mode='max')]   \n",
        "    splitter = KFold(n_splits=SPLITS)  # this does not shuffle\n",
        "    for train_index,valid_index in splitter.split(X):\n",
        "        if fold < FOLDS:\n",
        "            fold += 1\n",
        "            X_train=X[train_index] # inputs for training\n",
        "            y_train=y[train_index] # labels for training\n",
        "            X_valid=X[valid_index] # inputs for validation\n",
        "            y_valid=y[valid_index] # labels for validation\n",
        "            print(\"MODEL\")\n",
        "            # Call constructor on each CV. Else, continually improves the same model.\n",
        "            model = model = make_DNN()\n",
        "            print(\"FIT\")  # model.fit() implements learning\n",
        "            start_time=time.time()\n",
        "            history=model.fit(X_train, y_train, \n",
        "                    epochs=EPOCHS, \n",
        "                    verbose=1,  # ascii art while learning\n",
        "                    callbacks=mycallbacks,   # called at end of each epoch\n",
        "                    validation_data=(X_valid,y_valid))\n",
        "            end_time=time.time()\n",
        "            elapsed_time=(end_time-start_time)                        \n",
        "            print(\"Fold %d, %d epochs, %d sec\"%(fold,EPOCHS,elapsed_time))\n",
        "            # print(history.history.keys())  # all these keys will be shown in figure\n",
        "            pd.DataFrame(history.history).plot(figsize=(8,5))\n",
        "            plt.grid(True)\n",
        "            plt.gca().set_ylim(0,1) # any losses > 1 will be off the scale\n",
        "            plt.show()\n"
      ],
      "execution_count": 10,
      "outputs": []
    },
    {
      "cell_type": "code",
      "metadata": {
        "colab": {
          "base_uri": "https://localhost:8080/",
          "height": 1000
        },
        "id": "9Ggt4EsSj2UY",
        "outputId": "5f14d702-2c4d-4b5a-f4dd-69cc7e4531a1"
      },
      "source": [
        "do_cross_validation(X,y)"
      ],
      "execution_count": 11,
      "outputs": [
        {
          "output_type": "stream",
          "text": [
            "MODEL\n",
            "make_DNN\n",
            "input shape: (256, 4)\n",
            "FIT\n",
            "Epoch 1/50\n",
            "2667/2667 [==============================] - 59s 15ms/step - loss: 0.6978 - accuracy: 0.5045 - val_loss: 0.6922 - val_accuracy: 0.5201\n"
          ],
          "name": "stdout"
        },
        {
          "output_type": "stream",
          "text": [
            "WARNING:absl:Found untraced functions such as lstm_cell_2_layer_call_and_return_conditional_losses, lstm_cell_2_layer_call_fn, lstm_cell_3_layer_call_and_return_conditional_losses, lstm_cell_3_layer_call_fn, lstm_cell_2_layer_call_fn while saving (showing 5 of 10). These functions will not be directly callable after loading.\n"
          ],
          "name": "stderr"
        },
        {
          "output_type": "stream",
          "text": [
            "INFO:tensorflow:Assets written to: BestModel/assets\n"
          ],
          "name": "stdout"
        },
        {
          "output_type": "stream",
          "text": [
            "INFO:tensorflow:Assets written to: BestModel/assets\n"
          ],
          "name": "stderr"
        },
        {
          "output_type": "stream",
          "text": [
            "Epoch 2/50\n",
            "2667/2667 [==============================] - 39s 15ms/step - loss: 0.6957 - accuracy: 0.5082 - val_loss: 0.6920 - val_accuracy: 0.5298\n"
          ],
          "name": "stdout"
        },
        {
          "output_type": "stream",
          "text": [
            "WARNING:absl:Found untraced functions such as lstm_cell_2_layer_call_and_return_conditional_losses, lstm_cell_2_layer_call_fn, lstm_cell_3_layer_call_and_return_conditional_losses, lstm_cell_3_layer_call_fn, lstm_cell_2_layer_call_fn while saving (showing 5 of 10). These functions will not be directly callable after loading.\n"
          ],
          "name": "stderr"
        },
        {
          "output_type": "stream",
          "text": [
            "INFO:tensorflow:Assets written to: BestModel/assets\n"
          ],
          "name": "stdout"
        },
        {
          "output_type": "stream",
          "text": [
            "INFO:tensorflow:Assets written to: BestModel/assets\n"
          ],
          "name": "stderr"
        },
        {
          "output_type": "stream",
          "text": [
            "Epoch 3/50\n",
            "2667/2667 [==============================] - 40s 15ms/step - loss: 0.6919 - accuracy: 0.5248 - val_loss: 0.6774 - val_accuracy: 0.5812\n"
          ],
          "name": "stdout"
        },
        {
          "output_type": "stream",
          "text": [
            "WARNING:absl:Found untraced functions such as lstm_cell_2_layer_call_and_return_conditional_losses, lstm_cell_2_layer_call_fn, lstm_cell_3_layer_call_and_return_conditional_losses, lstm_cell_3_layer_call_fn, lstm_cell_2_layer_call_fn while saving (showing 5 of 10). These functions will not be directly callable after loading.\n"
          ],
          "name": "stderr"
        },
        {
          "output_type": "stream",
          "text": [
            "INFO:tensorflow:Assets written to: BestModel/assets\n"
          ],
          "name": "stdout"
        },
        {
          "output_type": "stream",
          "text": [
            "INFO:tensorflow:Assets written to: BestModel/assets\n"
          ],
          "name": "stderr"
        },
        {
          "output_type": "stream",
          "text": [
            "Epoch 4/50\n",
            "2667/2667 [==============================] - 40s 15ms/step - loss: 0.6566 - accuracy: 0.6102 - val_loss: 0.6395 - val_accuracy: 0.6345\n"
          ],
          "name": "stdout"
        },
        {
          "output_type": "stream",
          "text": [
            "WARNING:absl:Found untraced functions such as lstm_cell_2_layer_call_and_return_conditional_losses, lstm_cell_2_layer_call_fn, lstm_cell_3_layer_call_and_return_conditional_losses, lstm_cell_3_layer_call_fn, lstm_cell_2_layer_call_fn while saving (showing 5 of 10). These functions will not be directly callable after loading.\n"
          ],
          "name": "stderr"
        },
        {
          "output_type": "stream",
          "text": [
            "INFO:tensorflow:Assets written to: BestModel/assets\n"
          ],
          "name": "stdout"
        },
        {
          "output_type": "stream",
          "text": [
            "INFO:tensorflow:Assets written to: BestModel/assets\n"
          ],
          "name": "stderr"
        },
        {
          "output_type": "stream",
          "text": [
            "Epoch 5/50\n",
            "2667/2667 [==============================] - 40s 15ms/step - loss: 0.6281 - accuracy: 0.6463 - val_loss: 0.6120 - val_accuracy: 0.6632\n"
          ],
          "name": "stdout"
        },
        {
          "output_type": "stream",
          "text": [
            "WARNING:absl:Found untraced functions such as lstm_cell_2_layer_call_and_return_conditional_losses, lstm_cell_2_layer_call_fn, lstm_cell_3_layer_call_and_return_conditional_losses, lstm_cell_3_layer_call_fn, lstm_cell_2_layer_call_fn while saving (showing 5 of 10). These functions will not be directly callable after loading.\n"
          ],
          "name": "stderr"
        },
        {
          "output_type": "stream",
          "text": [
            "INFO:tensorflow:Assets written to: BestModel/assets\n"
          ],
          "name": "stdout"
        },
        {
          "output_type": "stream",
          "text": [
            "INFO:tensorflow:Assets written to: BestModel/assets\n"
          ],
          "name": "stderr"
        },
        {
          "output_type": "stream",
          "text": [
            "Epoch 6/50\n",
            "2667/2667 [==============================] - 39s 15ms/step - loss: 0.6037 - accuracy: 0.6744 - val_loss: 0.5918 - val_accuracy: 0.6812\n"
          ],
          "name": "stdout"
        },
        {
          "output_type": "stream",
          "text": [
            "WARNING:absl:Found untraced functions such as lstm_cell_2_layer_call_and_return_conditional_losses, lstm_cell_2_layer_call_fn, lstm_cell_3_layer_call_and_return_conditional_losses, lstm_cell_3_layer_call_fn, lstm_cell_2_layer_call_fn while saving (showing 5 of 10). These functions will not be directly callable after loading.\n"
          ],
          "name": "stderr"
        },
        {
          "output_type": "stream",
          "text": [
            "INFO:tensorflow:Assets written to: BestModel/assets\n"
          ],
          "name": "stdout"
        },
        {
          "output_type": "stream",
          "text": [
            "INFO:tensorflow:Assets written to: BestModel/assets\n"
          ],
          "name": "stderr"
        },
        {
          "output_type": "stream",
          "text": [
            "Epoch 7/50\n",
            "2667/2667 [==============================] - 40s 15ms/step - loss: 0.5845 - accuracy: 0.6854 - val_loss: 0.5862 - val_accuracy: 0.6863\n"
          ],
          "name": "stdout"
        },
        {
          "output_type": "stream",
          "text": [
            "WARNING:absl:Found untraced functions such as lstm_cell_2_layer_call_and_return_conditional_losses, lstm_cell_2_layer_call_fn, lstm_cell_3_layer_call_and_return_conditional_losses, lstm_cell_3_layer_call_fn, lstm_cell_2_layer_call_fn while saving (showing 5 of 10). These functions will not be directly callable after loading.\n"
          ],
          "name": "stderr"
        },
        {
          "output_type": "stream",
          "text": [
            "INFO:tensorflow:Assets written to: BestModel/assets\n"
          ],
          "name": "stdout"
        },
        {
          "output_type": "stream",
          "text": [
            "INFO:tensorflow:Assets written to: BestModel/assets\n"
          ],
          "name": "stderr"
        },
        {
          "output_type": "stream",
          "text": [
            "Epoch 8/50\n",
            "2667/2667 [==============================] - 40s 15ms/step - loss: 0.5779 - accuracy: 0.6905 - val_loss: 0.5923 - val_accuracy: 0.6854\n",
            "Epoch 9/50\n",
            "2667/2667 [==============================] - 39s 15ms/step - loss: 0.5746 - accuracy: 0.6948 - val_loss: 0.5800 - val_accuracy: 0.6904\n"
          ],
          "name": "stdout"
        },
        {
          "output_type": "stream",
          "text": [
            "WARNING:absl:Found untraced functions such as lstm_cell_2_layer_call_and_return_conditional_losses, lstm_cell_2_layer_call_fn, lstm_cell_3_layer_call_and_return_conditional_losses, lstm_cell_3_layer_call_fn, lstm_cell_2_layer_call_fn while saving (showing 5 of 10). These functions will not be directly callable after loading.\n"
          ],
          "name": "stderr"
        },
        {
          "output_type": "stream",
          "text": [
            "INFO:tensorflow:Assets written to: BestModel/assets\n"
          ],
          "name": "stdout"
        },
        {
          "output_type": "stream",
          "text": [
            "INFO:tensorflow:Assets written to: BestModel/assets\n"
          ],
          "name": "stderr"
        },
        {
          "output_type": "stream",
          "text": [
            "Epoch 10/50\n",
            "2667/2667 [==============================] - 39s 15ms/step - loss: 0.5705 - accuracy: 0.6976 - val_loss: 0.5811 - val_accuracy: 0.6887\n",
            "Epoch 11/50\n",
            "2667/2667 [==============================] - 39s 14ms/step - loss: 0.5685 - accuracy: 0.6994 - val_loss: 0.5811 - val_accuracy: 0.6906\n"
          ],
          "name": "stdout"
        },
        {
          "output_type": "stream",
          "text": [
            "WARNING:absl:Found untraced functions such as lstm_cell_2_layer_call_and_return_conditional_losses, lstm_cell_2_layer_call_fn, lstm_cell_3_layer_call_and_return_conditional_losses, lstm_cell_3_layer_call_fn, lstm_cell_2_layer_call_fn while saving (showing 5 of 10). These functions will not be directly callable after loading.\n"
          ],
          "name": "stderr"
        },
        {
          "output_type": "stream",
          "text": [
            "INFO:tensorflow:Assets written to: BestModel/assets\n"
          ],
          "name": "stdout"
        },
        {
          "output_type": "stream",
          "text": [
            "INFO:tensorflow:Assets written to: BestModel/assets\n"
          ],
          "name": "stderr"
        },
        {
          "output_type": "stream",
          "text": [
            "Epoch 12/50\n",
            "2667/2667 [==============================] - 39s 15ms/step - loss: 0.5657 - accuracy: 0.7013 - val_loss: 0.5906 - val_accuracy: 0.6829\n",
            "Epoch 13/50\n",
            "2667/2667 [==============================] - 40s 15ms/step - loss: 0.5623 - accuracy: 0.7034 - val_loss: 0.5787 - val_accuracy: 0.6930\n"
          ],
          "name": "stdout"
        },
        {
          "output_type": "stream",
          "text": [
            "WARNING:absl:Found untraced functions such as lstm_cell_2_layer_call_and_return_conditional_losses, lstm_cell_2_layer_call_fn, lstm_cell_3_layer_call_and_return_conditional_losses, lstm_cell_3_layer_call_fn, lstm_cell_2_layer_call_fn while saving (showing 5 of 10). These functions will not be directly callable after loading.\n"
          ],
          "name": "stderr"
        },
        {
          "output_type": "stream",
          "text": [
            "INFO:tensorflow:Assets written to: BestModel/assets\n"
          ],
          "name": "stdout"
        },
        {
          "output_type": "stream",
          "text": [
            "INFO:tensorflow:Assets written to: BestModel/assets\n"
          ],
          "name": "stderr"
        },
        {
          "output_type": "stream",
          "text": [
            "Epoch 14/50\n",
            "2667/2667 [==============================] - 43s 16ms/step - loss: 0.5575 - accuracy: 0.7071 - val_loss: 0.5757 - val_accuracy: 0.6945\n"
          ],
          "name": "stdout"
        },
        {
          "output_type": "stream",
          "text": [
            "WARNING:absl:Found untraced functions such as lstm_cell_2_layer_call_and_return_conditional_losses, lstm_cell_2_layer_call_fn, lstm_cell_3_layer_call_and_return_conditional_losses, lstm_cell_3_layer_call_fn, lstm_cell_2_layer_call_fn while saving (showing 5 of 10). These functions will not be directly callable after loading.\n"
          ],
          "name": "stderr"
        },
        {
          "output_type": "stream",
          "text": [
            "INFO:tensorflow:Assets written to: BestModel/assets\n"
          ],
          "name": "stdout"
        },
        {
          "output_type": "stream",
          "text": [
            "INFO:tensorflow:Assets written to: BestModel/assets\n"
          ],
          "name": "stderr"
        },
        {
          "output_type": "stream",
          "text": [
            "Epoch 15/50\n",
            "2667/2667 [==============================] - 40s 15ms/step - loss: 0.5562 - accuracy: 0.7090 - val_loss: 0.5790 - val_accuracy: 0.6899\n",
            "Epoch 16/50\n",
            "2667/2667 [==============================] - 41s 15ms/step - loss: 0.5526 - accuracy: 0.7098 - val_loss: 0.5778 - val_accuracy: 0.6890\n",
            "Epoch 17/50\n",
            "2667/2667 [==============================] - 41s 15ms/step - loss: 0.5479 - accuracy: 0.7136 - val_loss: 0.5795 - val_accuracy: 0.6955\n"
          ],
          "name": "stdout"
        },
        {
          "output_type": "stream",
          "text": [
            "WARNING:absl:Found untraced functions such as lstm_cell_2_layer_call_and_return_conditional_losses, lstm_cell_2_layer_call_fn, lstm_cell_3_layer_call_and_return_conditional_losses, lstm_cell_3_layer_call_fn, lstm_cell_2_layer_call_fn while saving (showing 5 of 10). These functions will not be directly callable after loading.\n"
          ],
          "name": "stderr"
        },
        {
          "output_type": "stream",
          "text": [
            "INFO:tensorflow:Assets written to: BestModel/assets\n"
          ],
          "name": "stdout"
        },
        {
          "output_type": "stream",
          "text": [
            "INFO:tensorflow:Assets written to: BestModel/assets\n"
          ],
          "name": "stderr"
        },
        {
          "output_type": "stream",
          "text": [
            "Epoch 18/50\n",
            "2667/2667 [==============================] - 40s 15ms/step - loss: 0.5460 - accuracy: 0.7140 - val_loss: 0.5764 - val_accuracy: 0.6941\n",
            "Epoch 19/50\n",
            "2667/2667 [==============================] - 41s 15ms/step - loss: 0.5397 - accuracy: 0.7183 - val_loss: 0.5784 - val_accuracy: 0.6924\n",
            "Epoch 20/50\n",
            "2667/2667 [==============================] - 40s 15ms/step - loss: 0.5383 - accuracy: 0.7185 - val_loss: 0.5939 - val_accuracy: 0.6817\n",
            "Epoch 21/50\n",
            "2667/2667 [==============================] - 41s 15ms/step - loss: 0.5358 - accuracy: 0.7211 - val_loss: 0.5826 - val_accuracy: 0.6913\n",
            "Epoch 22/50\n",
            "2667/2667 [==============================] - 40s 15ms/step - loss: 0.5288 - accuracy: 0.7254 - val_loss: 0.5847 - val_accuracy: 0.6899\n",
            "Epoch 23/50\n",
            "2667/2667 [==============================] - 40s 15ms/step - loss: 0.5233 - accuracy: 0.7312 - val_loss: 0.5830 - val_accuracy: 0.6877\n",
            "Epoch 24/50\n",
            "2667/2667 [==============================] - 40s 15ms/step - loss: 0.5199 - accuracy: 0.7324 - val_loss: 0.5845 - val_accuracy: 0.6911\n",
            "Epoch 25/50\n",
            "2667/2667 [==============================] - 39s 15ms/step - loss: 0.5127 - accuracy: 0.7378 - val_loss: 0.5880 - val_accuracy: 0.6892\n",
            "Epoch 26/50\n",
            "2667/2667 [==============================] - 39s 15ms/step - loss: 0.5089 - accuracy: 0.7410 - val_loss: 0.5963 - val_accuracy: 0.6893\n",
            "Epoch 27/50\n",
            "2667/2667 [==============================] - 39s 15ms/step - loss: 0.5044 - accuracy: 0.7413 - val_loss: 0.6083 - val_accuracy: 0.6853\n",
            "Epoch 28/50\n",
            "2667/2667 [==============================] - 39s 15ms/step - loss: 0.4990 - accuracy: 0.7465 - val_loss: 0.5983 - val_accuracy: 0.6927\n",
            "Epoch 29/50\n",
            "2667/2667 [==============================] - 40s 15ms/step - loss: 0.4877 - accuracy: 0.7537 - val_loss: 0.5979 - val_accuracy: 0.6888\n",
            "Epoch 30/50\n",
            "2667/2667 [==============================] - 39s 15ms/step - loss: 0.4862 - accuracy: 0.7555 - val_loss: 0.5991 - val_accuracy: 0.6877\n",
            "Epoch 31/50\n",
            "2667/2667 [==============================] - 39s 15ms/step - loss: 0.4741 - accuracy: 0.7619 - val_loss: 0.6125 - val_accuracy: 0.6929\n",
            "Epoch 32/50\n",
            "2667/2667 [==============================] - 39s 15ms/step - loss: 0.4693 - accuracy: 0.7673 - val_loss: 0.5814 - val_accuracy: 0.7062\n"
          ],
          "name": "stdout"
        },
        {
          "output_type": "stream",
          "text": [
            "WARNING:absl:Found untraced functions such as lstm_cell_2_layer_call_and_return_conditional_losses, lstm_cell_2_layer_call_fn, lstm_cell_3_layer_call_and_return_conditional_losses, lstm_cell_3_layer_call_fn, lstm_cell_2_layer_call_fn while saving (showing 5 of 10). These functions will not be directly callable after loading.\n"
          ],
          "name": "stderr"
        },
        {
          "output_type": "stream",
          "text": [
            "INFO:tensorflow:Assets written to: BestModel/assets\n"
          ],
          "name": "stdout"
        },
        {
          "output_type": "stream",
          "text": [
            "INFO:tensorflow:Assets written to: BestModel/assets\n"
          ],
          "name": "stderr"
        },
        {
          "output_type": "stream",
          "text": [
            "Epoch 33/50\n",
            "2667/2667 [==============================] - 39s 15ms/step - loss: 0.4565 - accuracy: 0.7793 - val_loss: 0.5471 - val_accuracy: 0.7282\n"
          ],
          "name": "stdout"
        },
        {
          "output_type": "stream",
          "text": [
            "WARNING:absl:Found untraced functions such as lstm_cell_2_layer_call_and_return_conditional_losses, lstm_cell_2_layer_call_fn, lstm_cell_3_layer_call_and_return_conditional_losses, lstm_cell_3_layer_call_fn, lstm_cell_2_layer_call_fn while saving (showing 5 of 10). These functions will not be directly callable after loading.\n"
          ],
          "name": "stderr"
        },
        {
          "output_type": "stream",
          "text": [
            "INFO:tensorflow:Assets written to: BestModel/assets\n"
          ],
          "name": "stdout"
        },
        {
          "output_type": "stream",
          "text": [
            "INFO:tensorflow:Assets written to: BestModel/assets\n"
          ],
          "name": "stderr"
        },
        {
          "output_type": "stream",
          "text": [
            "Epoch 34/50\n",
            "2667/2667 [==============================] - 39s 15ms/step - loss: 0.5281 - accuracy: 0.7091 - val_loss: 0.6693 - val_accuracy: 0.5938\n",
            "Epoch 35/50\n",
            "2667/2667 [==============================] - 39s 15ms/step - loss: 0.6571 - accuracy: 0.6098 - val_loss: 0.6303 - val_accuracy: 0.6467\n",
            "Epoch 36/50\n",
            "2667/2667 [==============================] - 40s 15ms/step - loss: 0.6092 - accuracy: 0.6683 - val_loss: 0.5683 - val_accuracy: 0.7050\n",
            "Epoch 37/50\n",
            "2667/2667 [==============================] - 39s 15ms/step - loss: 0.5212 - accuracy: 0.7402 - val_loss: 0.5709 - val_accuracy: 0.7053\n",
            "Epoch 38/50\n",
            "2667/2667 [==============================] - 39s 15ms/step - loss: 0.5507 - accuracy: 0.7187 - val_loss: 0.5507 - val_accuracy: 0.7207\n",
            "Epoch 39/50\n",
            "2667/2667 [==============================] - 39s 15ms/step - loss: 0.4975 - accuracy: 0.7602 - val_loss: 0.4486 - val_accuracy: 0.7916\n"
          ],
          "name": "stdout"
        },
        {
          "output_type": "stream",
          "text": [
            "WARNING:absl:Found untraced functions such as lstm_cell_2_layer_call_and_return_conditional_losses, lstm_cell_2_layer_call_fn, lstm_cell_3_layer_call_and_return_conditional_losses, lstm_cell_3_layer_call_fn, lstm_cell_2_layer_call_fn while saving (showing 5 of 10). These functions will not be directly callable after loading.\n"
          ],
          "name": "stderr"
        },
        {
          "output_type": "stream",
          "text": [
            "INFO:tensorflow:Assets written to: BestModel/assets\n"
          ],
          "name": "stdout"
        },
        {
          "output_type": "stream",
          "text": [
            "INFO:tensorflow:Assets written to: BestModel/assets\n"
          ],
          "name": "stderr"
        },
        {
          "output_type": "stream",
          "text": [
            "Epoch 40/50\n",
            "2667/2667 [==============================] - 39s 15ms/step - loss: 0.5082 - accuracy: 0.7484 - val_loss: 0.6483 - val_accuracy: 0.6264\n",
            "Epoch 41/50\n",
            "2667/2667 [==============================] - 40s 15ms/step - loss: 0.6171 - accuracy: 0.6575 - val_loss: 0.5030 - val_accuracy: 0.7549\n",
            "Epoch 42/50\n",
            "2667/2667 [==============================] - 39s 15ms/step - loss: 0.5005 - accuracy: 0.7573 - val_loss: 0.5470 - val_accuracy: 0.7207\n",
            "Epoch 43/50\n",
            "2667/2667 [==============================] - 39s 15ms/step - loss: 0.5672 - accuracy: 0.7044 - val_loss: 0.6440 - val_accuracy: 0.6286\n",
            "Epoch 44/50\n",
            "2667/2667 [==============================] - 39s 15ms/step - loss: 0.6333 - accuracy: 0.6379 - val_loss: 0.6214 - val_accuracy: 0.6527\n",
            "Epoch 45/50\n",
            "2667/2667 [==============================] - 39s 15ms/step - loss: 0.6154 - accuracy: 0.6628 - val_loss: 0.6051 - val_accuracy: 0.6747\n",
            "Epoch 46/50\n",
            "2667/2667 [==============================] - 39s 15ms/step - loss: 0.6324 - accuracy: 0.6430 - val_loss: 0.6954 - val_accuracy: 0.5264\n",
            "Epoch 47/50\n",
            "2667/2667 [==============================] - 39s 15ms/step - loss: 0.6802 - accuracy: 0.5669 - val_loss: 0.6263 - val_accuracy: 0.6535\n",
            "Epoch 48/50\n",
            "2667/2667 [==============================] - 40s 15ms/step - loss: 0.6322 - accuracy: 0.6444 - val_loss: 0.6302 - val_accuracy: 0.6514\n",
            "Epoch 49/50\n",
            "2667/2667 [==============================] - 40s 15ms/step - loss: 0.6164 - accuracy: 0.6594 - val_loss: 0.5683 - val_accuracy: 0.7049\n",
            "Epoch 50/50\n",
            "2667/2667 [==============================] - 42s 16ms/step - loss: 0.6092 - accuracy: 0.6665 - val_loss: 0.6063 - val_accuracy: 0.6744\n",
            "Fold 1, 50 epochs, 2129 sec\n"
          ],
          "name": "stdout"
        },
        {
          "output_type": "display_data",
          "data": {
            "image/png": "[encoded data removed]",
            "text/plain": [
              "<Figure size 576x360 with 1 Axes>"
            ]
          },
          "metadata": {
            "tags": [],
            "needs_background": "light"
          }
        },
        {
          "output_type": "stream",
          "text": [
            "MODEL\n",
            "make_DNN\n",
            "input shape: (256, 4)\n",
            "FIT\n",
            "Epoch 1/50\n",
            "2667/2667 [==============================] - 45s 16ms/step - loss: 0.6983 - accuracy: 0.4990 - val_loss: 0.6949 - val_accuracy: 0.5011\n",
            "Epoch 2/50\n",
            "2667/2667 [==============================] - 40s 15ms/step - loss: 0.6956 - accuracy: 0.5023 - val_loss: 0.6948 - val_accuracy: 0.4989\n",
            "Epoch 3/50\n",
            "2667/2667 [==============================] - 40s 15ms/step - loss: 0.6937 - accuracy: 0.5059 - val_loss: 0.6920 - val_accuracy: 0.5239\n",
            "Epoch 4/50\n",
            "2667/2667 [==============================] - 40s 15ms/step - loss: 0.6923 - accuracy: 0.5210 - val_loss: 0.6846 - val_accuracy: 0.5571\n",
            "Epoch 5/50\n",
            "2667/2667 [==============================] - 40s 15ms/step - loss: 0.6842 - accuracy: 0.5554 - val_loss: 0.6709 - val_accuracy: 0.5888\n",
            "Epoch 6/50\n",
            "2667/2667 [==============================] - 40s 15ms/step - loss: 0.6591 - accuracy: 0.6063 - val_loss: 0.6284 - val_accuracy: 0.6453\n",
            "Epoch 7/50\n",
            "2667/2667 [==============================] - 40s 15ms/step - loss: 0.6332 - accuracy: 0.6421 - val_loss: 0.6216 - val_accuracy: 0.6500\n",
            "Epoch 8/50\n",
            "2667/2667 [==============================] - 40s 15ms/step - loss: 0.6252 - accuracy: 0.6497 - val_loss: 0.6104 - val_accuracy: 0.6669\n",
            "Epoch 9/50\n",
            "2667/2667 [==============================] - 40s 15ms/step - loss: 0.6121 - accuracy: 0.6644 - val_loss: 0.5942 - val_accuracy: 0.6771\n",
            "Epoch 10/50\n",
            "2667/2667 [==============================] - 40s 15ms/step - loss: 0.5932 - accuracy: 0.6807 - val_loss: 0.5826 - val_accuracy: 0.6882\n",
            "Epoch 11/50\n",
            "2667/2667 [==============================] - 40s 15ms/step - loss: 0.5830 - accuracy: 0.6880 - val_loss: 0.5801 - val_accuracy: 0.6904\n",
            "Epoch 12/50\n",
            "2667/2667 [==============================] - 40s 15ms/step - loss: 0.5805 - accuracy: 0.6912 - val_loss: 0.5776 - val_accuracy: 0.6907\n",
            "Epoch 13/50\n",
            "2667/2667 [==============================] - 40s 15ms/step - loss: 0.5779 - accuracy: 0.6930 - val_loss: 0.5760 - val_accuracy: 0.6953\n",
            "Epoch 14/50\n",
            "2667/2667 [==============================] - 40s 15ms/step - loss: 0.5767 - accuracy: 0.6922 - val_loss: 0.5762 - val_accuracy: 0.6934\n",
            "Epoch 15/50\n",
            "2667/2667 [==============================] - 40s 15ms/step - loss: 0.5740 - accuracy: 0.6946 - val_loss: 0.5717 - val_accuracy: 0.6973\n",
            "Epoch 16/50\n",
            "2667/2667 [==============================] - 40s 15ms/step - loss: 0.5711 - accuracy: 0.6951 - val_loss: 0.5771 - val_accuracy: 0.6960\n",
            "Epoch 17/50\n",
            "2667/2667 [==============================] - 40s 15ms/step - loss: 0.5697 - accuracy: 0.6989 - val_loss: 0.5766 - val_accuracy: 0.6937\n",
            "Epoch 18/50\n",
            "2667/2667 [==============================] - 40s 15ms/step - loss: 0.5700 - accuracy: 0.6970 - val_loss: 0.5755 - val_accuracy: 0.6954\n",
            "Epoch 19/50\n",
            "2667/2667 [==============================] - 40s 15ms/step - loss: 0.5684 - accuracy: 0.6991 - val_loss: 0.5703 - val_accuracy: 0.6998\n",
            "Epoch 20/50\n",
            "2667/2667 [==============================] - 40s 15ms/step - loss: 0.5649 - accuracy: 0.7001 - val_loss: 0.5687 - val_accuracy: 0.7023\n",
            "Epoch 21/50\n",
            "2667/2667 [==============================] - 40s 15ms/step - loss: 0.5619 - accuracy: 0.7051 - val_loss: 0.5750 - val_accuracy: 0.6960\n",
            "Epoch 22/50\n",
            "2667/2667 [==============================] - 40s 15ms/step - loss: 0.5626 - accuracy: 0.7032 - val_loss: 0.5780 - val_accuracy: 0.6901\n",
            "Epoch 23/50\n",
            "2667/2667 [==============================] - 40s 15ms/step - loss: 0.5623 - accuracy: 0.7042 - val_loss: 0.5681 - val_accuracy: 0.7005\n",
            "Epoch 24/50\n",
            "2667/2667 [==============================] - 40s 15ms/step - loss: 0.5631 - accuracy: 0.7050 - val_loss: 0.5692 - val_accuracy: 0.6993\n",
            "Epoch 25/50\n",
            "2667/2667 [==============================] - 40s 15ms/step - loss: 0.5628 - accuracy: 0.7029 - val_loss: 0.5635 - val_accuracy: 0.7038\n",
            "Epoch 26/50\n",
            "2667/2667 [==============================] - 39s 15ms/step - loss: 0.5580 - accuracy: 0.7082 - val_loss: 0.5684 - val_accuracy: 0.7001\n",
            "Epoch 27/50\n",
            "2667/2667 [==============================] - 40s 15ms/step - loss: 0.5454 - accuracy: 0.7195 - val_loss: 0.4715 - val_accuracy: 0.7765\n",
            "Epoch 28/50\n",
            "2667/2667 [==============================] - 40s 15ms/step - loss: 0.4700 - accuracy: 0.7771 - val_loss: 0.3511 - val_accuracy: 0.8482\n"
          ],
          "name": "stdout"
        },
        {
          "output_type": "stream",
          "text": [
            "WARNING:absl:Found untraced functions such as lstm_cell_4_layer_call_and_return_conditional_losses, lstm_cell_4_layer_call_fn, lstm_cell_5_layer_call_and_return_conditional_losses, lstm_cell_5_layer_call_fn, lstm_cell_4_layer_call_fn while saving (showing 5 of 10). These functions will not be directly callable after loading.\n"
          ],
          "name": "stderr"
        },
        {
          "output_type": "stream",
          "text": [
            "INFO:tensorflow:Assets written to: BestModel/assets\n"
          ],
          "name": "stdout"
        },
        {
          "output_type": "stream",
          "text": [
            "INFO:tensorflow:Assets written to: BestModel/assets\n"
          ],
          "name": "stderr"
        },
        {
          "output_type": "stream",
          "text": [
            "Epoch 29/50\n",
            "2667/2667 [==============================] - 39s 15ms/step - loss: 0.3382 - accuracy: 0.8546 - val_loss: 0.3008 - val_accuracy: 0.8735\n"
          ],
          "name": "stdout"
        },
        {
          "output_type": "stream",
          "text": [
            "WARNING:absl:Found untraced functions such as lstm_cell_4_layer_call_and_return_conditional_losses, lstm_cell_4_layer_call_fn, lstm_cell_5_layer_call_and_return_conditional_losses, lstm_cell_5_layer_call_fn, lstm_cell_4_layer_call_fn while saving (showing 5 of 10). These functions will not be directly callable after loading.\n"
          ],
          "name": "stderr"
        },
        {
          "output_type": "stream",
          "text": [
            "INFO:tensorflow:Assets written to: BestModel/assets\n"
          ],
          "name": "stdout"
        },
        {
          "output_type": "stream",
          "text": [
            "INFO:tensorflow:Assets written to: BestModel/assets\n"
          ],
          "name": "stderr"
        },
        {
          "output_type": "stream",
          "text": [
            "Epoch 30/50\n",
            "2667/2667 [==============================] - 39s 15ms/step - loss: 0.2471 - accuracy: 0.9009 - val_loss: 0.1801 - val_accuracy: 0.9311\n"
          ],
          "name": "stdout"
        },
        {
          "output_type": "stream",
          "text": [
            "WARNING:absl:Found untraced functions such as lstm_cell_4_layer_call_and_return_conditional_losses, lstm_cell_4_layer_call_fn, lstm_cell_5_layer_call_and_return_conditional_losses, lstm_cell_5_layer_call_fn, lstm_cell_4_layer_call_fn while saving (showing 5 of 10). These functions will not be directly callable after loading.\n"
          ],
          "name": "stderr"
        },
        {
          "output_type": "stream",
          "text": [
            "INFO:tensorflow:Assets written to: BestModel/assets\n"
          ],
          "name": "stdout"
        },
        {
          "output_type": "stream",
          "text": [
            "INFO:tensorflow:Assets written to: BestModel/assets\n"
          ],
          "name": "stderr"
        },
        {
          "output_type": "stream",
          "text": [
            "Epoch 31/50\n",
            "2667/2667 [==============================] - 40s 15ms/step - loss: 0.1858 - accuracy: 0.9285 - val_loss: 0.1722 - val_accuracy: 0.9350\n"
          ],
          "name": "stdout"
        },
        {
          "output_type": "stream",
          "text": [
            "WARNING:absl:Found untraced functions such as lstm_cell_4_layer_call_and_return_conditional_losses, lstm_cell_4_layer_call_fn, lstm_cell_5_layer_call_and_return_conditional_losses, lstm_cell_5_layer_call_fn, lstm_cell_4_layer_call_fn while saving (showing 5 of 10). These functions will not be directly callable after loading.\n"
          ],
          "name": "stderr"
        },
        {
          "output_type": "stream",
          "text": [
            "INFO:tensorflow:Assets written to: BestModel/assets\n"
          ],
          "name": "stdout"
        },
        {
          "output_type": "stream",
          "text": [
            "INFO:tensorflow:Assets written to: BestModel/assets\n"
          ],
          "name": "stderr"
        },
        {
          "output_type": "stream",
          "text": [
            "Epoch 32/50\n",
            "2667/2667 [==============================] - 40s 15ms/step - loss: 0.1591 - accuracy: 0.9400 - val_loss: 0.1551 - val_accuracy: 0.9426\n"
          ],
          "name": "stdout"
        },
        {
          "output_type": "stream",
          "text": [
            "WARNING:absl:Found untraced functions such as lstm_cell_4_layer_call_and_return_conditional_losses, lstm_cell_4_layer_call_fn, lstm_cell_5_layer_call_and_return_conditional_losses, lstm_cell_5_layer_call_fn, lstm_cell_4_layer_call_fn while saving (showing 5 of 10). These functions will not be directly callable after loading.\n"
          ],
          "name": "stderr"
        },
        {
          "output_type": "stream",
          "text": [
            "INFO:tensorflow:Assets written to: BestModel/assets\n"
          ],
          "name": "stdout"
        },
        {
          "output_type": "stream",
          "text": [
            "INFO:tensorflow:Assets written to: BestModel/assets\n"
          ],
          "name": "stderr"
        },
        {
          "output_type": "stream",
          "text": [
            "Epoch 33/50\n",
            "2667/2667 [==============================] - 40s 15ms/step - loss: 0.1420 - accuracy: 0.9497 - val_loss: 0.1193 - val_accuracy: 0.9562\n"
          ],
          "name": "stdout"
        },
        {
          "output_type": "stream",
          "text": [
            "WARNING:absl:Found untraced functions such as lstm_cell_4_layer_call_and_return_conditional_losses, lstm_cell_4_layer_call_fn, lstm_cell_5_layer_call_and_return_conditional_losses, lstm_cell_5_layer_call_fn, lstm_cell_4_layer_call_fn while saving (showing 5 of 10). These functions will not be directly callable after loading.\n"
          ],
          "name": "stderr"
        },
        {
          "output_type": "stream",
          "text": [
            "INFO:tensorflow:Assets written to: BestModel/assets\n"
          ],
          "name": "stdout"
        },
        {
          "output_type": "stream",
          "text": [
            "INFO:tensorflow:Assets written to: BestModel/assets\n"
          ],
          "name": "stderr"
        },
        {
          "output_type": "stream",
          "text": [
            "Epoch 34/50\n",
            "2667/2667 [==============================] - 40s 15ms/step - loss: 0.1200 - accuracy: 0.9558 - val_loss: 0.1178 - val_accuracy: 0.9575\n"
          ],
          "name": "stdout"
        },
        {
          "output_type": "stream",
          "text": [
            "WARNING:absl:Found untraced functions such as lstm_cell_4_layer_call_and_return_conditional_losses, lstm_cell_4_layer_call_fn, lstm_cell_5_layer_call_and_return_conditional_losses, lstm_cell_5_layer_call_fn, lstm_cell_4_layer_call_fn while saving (showing 5 of 10). These functions will not be directly callable after loading.\n"
          ],
          "name": "stderr"
        },
        {
          "output_type": "stream",
          "text": [
            "INFO:tensorflow:Assets written to: BestModel/assets\n"
          ],
          "name": "stdout"
        },
        {
          "output_type": "stream",
          "text": [
            "INFO:tensorflow:Assets written to: BestModel/assets\n"
          ],
          "name": "stderr"
        },
        {
          "output_type": "stream",
          "text": [
            "Epoch 35/50\n",
            "2667/2667 [==============================] - 39s 15ms/step - loss: 0.1141 - accuracy: 0.9593 - val_loss: 0.0982 - val_accuracy: 0.9640\n"
          ],
          "name": "stdout"
        },
        {
          "output_type": "stream",
          "text": [
            "WARNING:absl:Found untraced functions such as lstm_cell_4_layer_call_and_return_conditional_losses, lstm_cell_4_layer_call_fn, lstm_cell_5_layer_call_and_return_conditional_losses, lstm_cell_5_layer_call_fn, lstm_cell_4_layer_call_fn while saving (showing 5 of 10). These functions will not be directly callable after loading.\n"
          ],
          "name": "stderr"
        },
        {
          "output_type": "stream",
          "text": [
            "INFO:tensorflow:Assets written to: BestModel/assets\n"
          ],
          "name": "stdout"
        },
        {
          "output_type": "stream",
          "text": [
            "INFO:tensorflow:Assets written to: BestModel/assets\n"
          ],
          "name": "stderr"
        },
        {
          "output_type": "stream",
          "text": [
            "Epoch 36/50\n",
            "2667/2667 [==============================] - 40s 15ms/step - loss: 0.1027 - accuracy: 0.9633 - val_loss: 0.1268 - val_accuracy: 0.9567\n",
            "Epoch 37/50\n",
            "2667/2667 [==============================] - 40s 15ms/step - loss: 0.1209 - accuracy: 0.9588 - val_loss: 0.0946 - val_accuracy: 0.9658\n"
          ],
          "name": "stdout"
        },
        {
          "output_type": "stream",
          "text": [
            "WARNING:absl:Found untraced functions such as lstm_cell_4_layer_call_and_return_conditional_losses, lstm_cell_4_layer_call_fn, lstm_cell_5_layer_call_and_return_conditional_losses, lstm_cell_5_layer_call_fn, lstm_cell_4_layer_call_fn while saving (showing 5 of 10). These functions will not be directly callable after loading.\n"
          ],
          "name": "stderr"
        },
        {
          "output_type": "stream",
          "text": [
            "INFO:tensorflow:Assets written to: BestModel/assets\n"
          ],
          "name": "stdout"
        },
        {
          "output_type": "stream",
          "text": [
            "INFO:tensorflow:Assets written to: BestModel/assets\n"
          ],
          "name": "stderr"
        },
        {
          "output_type": "stream",
          "text": [
            "Epoch 38/50\n",
            "2667/2667 [==============================] - 40s 15ms/step - loss: 0.0946 - accuracy: 0.9673 - val_loss: 0.0824 - val_accuracy: 0.9712\n"
          ],
          "name": "stdout"
        },
        {
          "output_type": "stream",
          "text": [
            "WARNING:absl:Found untraced functions such as lstm_cell_4_layer_call_and_return_conditional_losses, lstm_cell_4_layer_call_fn, lstm_cell_5_layer_call_and_return_conditional_losses, lstm_cell_5_layer_call_fn, lstm_cell_4_layer_call_fn while saving (showing 5 of 10). These functions will not be directly callable after loading.\n"
          ],
          "name": "stderr"
        },
        {
          "output_type": "stream",
          "text": [
            "INFO:tensorflow:Assets written to: BestModel/assets\n"
          ],
          "name": "stdout"
        },
        {
          "output_type": "stream",
          "text": [
            "INFO:tensorflow:Assets written to: BestModel/assets\n"
          ],
          "name": "stderr"
        },
        {
          "output_type": "stream",
          "text": [
            "Epoch 39/50\n",
            "2667/2667 [==============================] - 40s 15ms/step - loss: 0.3059 - accuracy: 0.8545 - val_loss: 0.1997 - val_accuracy: 0.9329\n",
            "Epoch 40/50\n",
            "2667/2667 [==============================] - 40s 15ms/step - loss: 0.1622 - accuracy: 0.9415 - val_loss: 0.1096 - val_accuracy: 0.9610\n",
            "Epoch 41/50\n",
            "2667/2667 [==============================] - 40s 15ms/step - loss: 0.1034 - accuracy: 0.9642 - val_loss: 0.0936 - val_accuracy: 0.9651\n",
            "Epoch 42/50\n",
            "2667/2667 [==============================] - 40s 15ms/step - loss: 0.0842 - accuracy: 0.9709 - val_loss: 0.0828 - val_accuracy: 0.9715\n"
          ],
          "name": "stdout"
        },
        {
          "output_type": "stream",
          "text": [
            "WARNING:absl:Found untraced functions such as lstm_cell_4_layer_call_and_return_conditional_losses, lstm_cell_4_layer_call_fn, lstm_cell_5_layer_call_and_return_conditional_losses, lstm_cell_5_layer_call_fn, lstm_cell_4_layer_call_fn while saving (showing 5 of 10). These functions will not be directly callable after loading.\n"
          ],
          "name": "stderr"
        },
        {
          "output_type": "stream",
          "text": [
            "INFO:tensorflow:Assets written to: BestModel/assets\n"
          ],
          "name": "stdout"
        },
        {
          "output_type": "stream",
          "text": [
            "INFO:tensorflow:Assets written to: BestModel/assets\n"
          ],
          "name": "stderr"
        },
        {
          "output_type": "stream",
          "text": [
            "Epoch 43/50\n",
            "2667/2667 [==============================] - 39s 15ms/step - loss: 0.1903 - accuracy: 0.9283 - val_loss: 0.1163 - val_accuracy: 0.9566\n",
            "Epoch 44/50\n",
            "2667/2667 [==============================] - 40s 15ms/step - loss: 0.1144 - accuracy: 0.9635 - val_loss: 0.1037 - val_accuracy: 0.9619\n",
            "Epoch 45/50\n",
            "2667/2667 [==============================] - 40s 15ms/step - loss: 0.0874 - accuracy: 0.9715 - val_loss: 0.1282 - val_accuracy: 0.9570\n",
            "Epoch 46/50\n",
            "2667/2667 [==============================] - 40s 15ms/step - loss: 0.1129 - accuracy: 0.9633 - val_loss: 0.1160 - val_accuracy: 0.9643\n",
            "Epoch 47/50\n",
            "2667/2667 [==============================] - 40s 15ms/step - loss: 0.1361 - accuracy: 0.9504 - val_loss: 0.1289 - val_accuracy: 0.9548\n",
            "Epoch 48/50\n",
            "2667/2667 [==============================] - 39s 14ms/step - loss: 0.2958 - accuracy: 0.8640 - val_loss: 0.3875 - val_accuracy: 0.8322\n",
            "Epoch 49/50\n",
            "2667/2667 [==============================] - 40s 15ms/step - loss: 0.2827 - accuracy: 0.8870 - val_loss: 0.1082 - val_accuracy: 0.9646\n",
            "Epoch 50/50\n",
            "2667/2667 [==============================] - 40s 15ms/step - loss: 0.1335 - accuracy: 0.9540 - val_loss: 0.1104 - val_accuracy: 0.9614\n",
            "Fold 2, 50 epochs, 2125 sec\n"
          ],
          "name": "stdout"
        },
        {
          "output_type": "display_data",
          "data": {
            "image/png": "[encoded data removed]",
            "text/plain": [
              "<Figure size 576x360 with 1 Axes>"
            ]
          },
          "metadata": {
            "tags": [],
            "needs_background": "light"
          }
        },
        {
          "output_type": "stream",
          "text": [
            "MODEL\n",
            "make_DNN\n",
            "input shape: (256, 4)\n",
            "FIT\n",
            "Epoch 1/50\n",
            "2667/2667 [==============================] - 45s 15ms/step - loss: 0.6988 - accuracy: 0.4982 - val_loss: 0.6931 - val_accuracy: 0.5005\n",
            "Epoch 2/50\n",
            "2667/2667 [==============================] - 40s 15ms/step - loss: 0.6952 - accuracy: 0.5043 - val_loss: 0.6932 - val_accuracy: 0.4995\n",
            "Epoch 3/50\n",
            "2667/2667 [==============================] - 40s 15ms/step - loss: 0.6934 - accuracy: 0.5137 - val_loss: 0.6925 - val_accuracy: 0.5151\n",
            "Epoch 4/50\n",
            "2667/2667 [==============================] - 40s 15ms/step - loss: 0.6907 - accuracy: 0.5285 - val_loss: 0.6930 - val_accuracy: 0.5081\n",
            "Epoch 5/50\n",
            "2667/2667 [==============================] - 41s 15ms/step - loss: 0.6877 - accuracy: 0.5389 - val_loss: 0.6810 - val_accuracy: 0.5658\n",
            "Epoch 6/50\n",
            "2667/2667 [==============================] - 40s 15ms/step - loss: 0.6572 - accuracy: 0.6087 - val_loss: 0.6326 - val_accuracy: 0.6421\n",
            "Epoch 7/50\n",
            "2667/2667 [==============================] - 40s 15ms/step - loss: 0.6255 - accuracy: 0.6500 - val_loss: 0.6073 - val_accuracy: 0.6692\n",
            "Epoch 8/50\n",
            "2667/2667 [==============================] - 40s 15ms/step - loss: 0.5995 - accuracy: 0.6774 - val_loss: 0.5916 - val_accuracy: 0.6808\n",
            "Epoch 9/50\n",
            "2667/2667 [==============================] - 40s 15ms/step - loss: 0.5886 - accuracy: 0.6840 - val_loss: 0.5920 - val_accuracy: 0.6836\n",
            "Epoch 10/50\n",
            "2667/2667 [==============================] - 40s 15ms/step - loss: 0.5844 - accuracy: 0.6894 - val_loss: 0.5883 - val_accuracy: 0.6832\n",
            "Epoch 11/50\n",
            "2667/2667 [==============================] - 40s 15ms/step - loss: 0.5769 - accuracy: 0.6910 - val_loss: 0.5834 - val_accuracy: 0.6875\n",
            "Epoch 12/50\n",
            "2667/2667 [==============================] - 40s 15ms/step - loss: 0.5718 - accuracy: 0.6967 - val_loss: 0.5788 - val_accuracy: 0.6909\n",
            "Epoch 13/50\n",
            "2667/2667 [==============================] - 40s 15ms/step - loss: 0.5704 - accuracy: 0.6989 - val_loss: 0.5806 - val_accuracy: 0.6876\n",
            "Epoch 14/50\n",
            "2667/2667 [==============================] - 40s 15ms/step - loss: 0.5614 - accuracy: 0.7048 - val_loss: 0.5815 - val_accuracy: 0.6913\n",
            "Epoch 15/50\n",
            "2667/2667 [==============================] - 40s 15ms/step - loss: 0.5604 - accuracy: 0.7054 - val_loss: 0.5818 - val_accuracy: 0.6937\n",
            "Epoch 16/50\n",
            "2667/2667 [==============================] - 40s 15ms/step - loss: 0.5563 - accuracy: 0.7102 - val_loss: 0.5725 - val_accuracy: 0.6951\n",
            "Epoch 17/50\n",
            "2667/2667 [==============================] - 40s 15ms/step - loss: 0.5493 - accuracy: 0.7123 - val_loss: 0.5758 - val_accuracy: 0.6936\n",
            "Epoch 18/50\n",
            "2667/2667 [==============================] - 40s 15ms/step - loss: 0.5452 - accuracy: 0.7144 - val_loss: 0.5749 - val_accuracy: 0.6936\n",
            "Epoch 19/50\n",
            "2667/2667 [==============================] - 40s 15ms/step - loss: 0.5379 - accuracy: 0.7211 - val_loss: 0.5840 - val_accuracy: 0.6900\n",
            "Epoch 20/50\n",
            "2667/2667 [==============================] - 40s 15ms/step - loss: 0.5419 - accuracy: 0.7193 - val_loss: 0.5778 - val_accuracy: 0.6972\n",
            "Epoch 21/50\n",
            "2667/2667 [==============================] - 40s 15ms/step - loss: 0.5298 - accuracy: 0.7268 - val_loss: 0.5897 - val_accuracy: 0.6918\n",
            "Epoch 22/50\n",
            "2667/2667 [==============================] - 40s 15ms/step - loss: 0.5258 - accuracy: 0.7295 - val_loss: 0.5861 - val_accuracy: 0.6887\n",
            "Epoch 23/50\n",
            "2667/2667 [==============================] - 40s 15ms/step - loss: 0.5128 - accuracy: 0.7383 - val_loss: 0.6005 - val_accuracy: 0.6899\n",
            "Epoch 24/50\n",
            "2667/2667 [==============================] - 39s 15ms/step - loss: 0.5056 - accuracy: 0.7431 - val_loss: 0.5988 - val_accuracy: 0.6847\n",
            "Epoch 25/50\n",
            "2667/2667 [==============================] - 40s 15ms/step - loss: 0.5011 - accuracy: 0.7461 - val_loss: 0.5960 - val_accuracy: 0.6907\n",
            "Epoch 26/50\n",
            "2667/2667 [==============================] - 41s 15ms/step - loss: 0.4882 - accuracy: 0.7523 - val_loss: 0.6061 - val_accuracy: 0.6880\n",
            "Epoch 27/50\n",
            "2667/2667 [==============================] - 40s 15ms/step - loss: 0.4761 - accuracy: 0.7617 - val_loss: 0.6131 - val_accuracy: 0.6850\n",
            "Epoch 28/50\n",
            "2667/2667 [==============================] - 40s 15ms/step - loss: 0.4640 - accuracy: 0.7714 - val_loss: 0.5984 - val_accuracy: 0.6810\n",
            "Epoch 29/50\n",
            "2667/2667 [==============================] - 40s 15ms/step - loss: 0.4627 - accuracy: 0.7706 - val_loss: 0.6259 - val_accuracy: 0.6830\n",
            "Epoch 30/50\n",
            "2667/2667 [==============================] - 40s 15ms/step - loss: 0.4507 - accuracy: 0.7767 - val_loss: 0.6529 - val_accuracy: 0.6838\n",
            "Epoch 31/50\n",
            "2667/2667 [==============================] - 40s 15ms/step - loss: 0.4291 - accuracy: 0.7920 - val_loss: 0.6539 - val_accuracy: 0.6761\n",
            "Epoch 32/50\n",
            "2667/2667 [==============================] - 40s 15ms/step - loss: 0.4140 - accuracy: 0.8025 - val_loss: 0.6688 - val_accuracy: 0.6729\n",
            "Epoch 33/50\n",
            "2667/2667 [==============================] - 40s 15ms/step - loss: 0.4008 - accuracy: 0.8095 - val_loss: 0.7149 - val_accuracy: 0.6763\n",
            "Epoch 34/50\n",
            "2667/2667 [==============================] - 40s 15ms/step - loss: 0.3836 - accuracy: 0.8188 - val_loss: 0.7194 - val_accuracy: 0.6737\n",
            "Epoch 35/50\n",
            "2667/2667 [==============================] - 40s 15ms/step - loss: 0.3727 - accuracy: 0.8249 - val_loss: 0.7211 - val_accuracy: 0.6694\n",
            "Epoch 36/50\n",
            "2667/2667 [==============================] - 40s 15ms/step - loss: 0.3544 - accuracy: 0.8367 - val_loss: 0.7621 - val_accuracy: 0.6672\n",
            "Epoch 37/50\n",
            "2667/2667 [==============================] - 40s 15ms/step - loss: 0.3401 - accuracy: 0.8444 - val_loss: 0.7938 - val_accuracy: 0.6654\n",
            "Epoch 38/50\n",
            "2667/2667 [==============================] - 40s 15ms/step - loss: 0.3239 - accuracy: 0.8509 - val_loss: 0.8186 - val_accuracy: 0.6664\n",
            "Epoch 39/50\n",
            "2667/2667 [==============================] - 40s 15ms/step - loss: 0.3119 - accuracy: 0.8585 - val_loss: 0.8709 - val_accuracy: 0.6652\n",
            "Epoch 40/50\n",
            "2667/2667 [==============================] - 40s 15ms/step - loss: 0.2957 - accuracy: 0.8680 - val_loss: 0.9373 - val_accuracy: 0.6631\n",
            "Epoch 41/50\n",
            "2667/2667 [==============================] - 41s 15ms/step - loss: 0.2864 - accuracy: 0.8726 - val_loss: 0.9164 - val_accuracy: 0.6609\n",
            "Epoch 42/50\n",
            "2667/2667 [==============================] - 40s 15ms/step - loss: 0.2646 - accuracy: 0.8866 - val_loss: 0.8900 - val_accuracy: 0.6588\n",
            "Epoch 43/50\n",
            "2667/2667 [==============================] - 40s 15ms/step - loss: 0.2517 - accuracy: 0.8905 - val_loss: 0.9142 - val_accuracy: 0.6606\n",
            "Epoch 44/50\n",
            "2667/2667 [==============================] - 40s 15ms/step - loss: 0.2483 - accuracy: 0.8912 - val_loss: 0.9761 - val_accuracy: 0.6548\n",
            "Epoch 45/50\n",
            "2667/2667 [==============================] - 40s 15ms/step - loss: 0.2381 - accuracy: 0.8974 - val_loss: 1.0373 - val_accuracy: 0.6587\n",
            "Epoch 46/50\n",
            "2667/2667 [==============================] - 40s 15ms/step - loss: 0.2329 - accuracy: 0.9013 - val_loss: 1.0656 - val_accuracy: 0.6491\n",
            "Epoch 47/50\n",
            "2667/2667 [==============================] - 40s 15ms/step - loss: 0.2239 - accuracy: 0.9052 - val_loss: 1.0915 - val_accuracy: 0.6572\n",
            "Epoch 48/50\n",
            "2667/2667 [==============================] - 40s 15ms/step - loss: 0.1992 - accuracy: 0.9166 - val_loss: 1.1446 - val_accuracy: 0.6592\n",
            "Epoch 49/50\n",
            "2667/2667 [==============================] - 41s 15ms/step - loss: 0.2032 - accuracy: 0.9145 - val_loss: 1.1211 - val_accuracy: 0.6540\n",
            "Epoch 50/50\n",
            "2667/2667 [==============================] - 40s 15ms/step - loss: 0.1935 - accuracy: 0.9192 - val_loss: 1.1457 - val_accuracy: 0.6532\n",
            "Fold 3, 50 epochs, 2009 sec\n"
          ],
          "name": "stdout"
        },
        {
          "output_type": "display_data",
          "data": {
            "image/png": "[encoded data removed]",
            "text/plain": [
              "<Figure size 576x360 with 1 Axes>"
            ]
          },
          "metadata": {
            "tags": [],
            "needs_background": "light"
          }
        }
      ]
    },
    {
      "cell_type": "code",
      "metadata": {
        "id": "e-jG1h5fj2Ua",
        "colab": {
          "base_uri": "https://localhost:8080/"
        },
        "outputId": "2b3ffcdc-bbc6-4d70-9c60-e13e21966133"
      },
      "source": [
        "from keras.models import load_model\n",
        "X,y = prepare_inputs_len_x_alphabet(pc_test,nc_test,ALPHABET)\n",
        "best_model=load_model(MODELPATH)\n",
        "scores = best_model.evaluate(X, y, verbose=0)\n",
        "print(\"The best model parameters were saved during cross-validation.\")\n",
        "print(\"Best was defined as maximum validation accuracy at end of any epoch.\")\n",
        "print(\"Now re-load the best model and test it on previously unseen data.\")\n",
        "print(\"Test on\",len(pc_test),\"PC seqs\")\n",
        "print(\"Test on\",len(nc_test),\"NC seqs\")\n",
        "print(\"%s: %.2f%%\" % (best_model.metrics_names[1], scores[1]*100))\n"
      ],
      "execution_count": 12,
      "outputs": [
        {
          "output_type": "stream",
          "text": [
            "The best model parameters were saved during cross-validation.\n",
            "Best was defined as maximum validation accuracy at end of any epoch.\n",
            "Now re-load the best model and test it on previously unseen data.\n",
            "Test on 1000 PC seqs\n",
            "Test on 1000 NC seqs\n",
            "accuracy: 97.30%\n"
          ],
          "name": "stdout"
        }
      ]
    },
    {
      "cell_type": "code",
      "metadata": {
        "id": "VycUnmvUj2Ue",
        "colab": {
          "base_uri": "https://localhost:8080/",
          "height": 313
        },
        "outputId": "8a7337d3-6095-4e4e-c382-bde94c433a28"
      },
      "source": [
        "from sklearn.metrics import roc_curve\n",
        "from sklearn.metrics import roc_auc_score\n",
        "ns_probs = [0 for _ in range(len(y))]\n",
        "bm_probs = best_model.predict(X)\n",
        "ns_auc = roc_auc_score(y, ns_probs)\n",
        "bm_auc = roc_auc_score(y, bm_probs)\n",
        "ns_fpr, ns_tpr, _ = roc_curve(y, ns_probs)\n",
        "bm_fpr, bm_tpr, _ = roc_curve(y, bm_probs)\n",
        "plt.plot(ns_fpr, ns_tpr, linestyle='--', label='Guess, auc=%.4f'%ns_auc)\n",
        "plt.plot(bm_fpr, bm_tpr, marker='.', label='Model, auc=%.4f'%bm_auc)\n",
        "plt.title('ROC')\n",
        "plt.xlabel('False Positive Rate')\n",
        "plt.ylabel('True Positive Rate')\n",
        "plt.legend()\n",
        "plt.show()\n",
        "print(\"%s: %.2f%%\" %('AUC',bm_auc*100.0))\n"
      ],
      "execution_count": 13,
      "outputs": [
        {
          "output_type": "display_data",
          "data": {
            "image/png": "[encoded data removed]",
            "text/plain": [
              "<Figure size 432x288 with 1 Axes>"
            ]
          },
          "metadata": {
            "tags": [],
            "needs_background": "light"
          }
        },
        {
          "output_type": "stream",
          "text": [
            "AUC: 99.45%\n"
          ],
          "name": "stdout"
        }
      ]
    },
    {
      "cell_type": "code",
      "metadata": {
        "id": "kFMb6rGNj2Ug",
        "colab": {
          "base_uri": "https://localhost:8080/",
          "height": 36
        },
        "outputId": "8ca5fa86-4afc-4b51-bc84-b6849d9c9edd"
      },
      "source": [
        "t = time.time()\n",
        "time.strftime('%Y-%m-%d %H:%M:%S %Z', time.localtime(t))"
      ],
      "execution_count": 14,
      "outputs": [
        {
          "output_type": "execute_result",
          "data": {
            "application/vnd.google.colaboratory.intrinsic+json": {
              "type": "string"
            },
            "text/plain": [
              "'2021-07-01 19:24:27 UTC'"
            ]
          },
          "metadata": {
            "tags": []
          },
          "execution_count": 14
        }
      ]
    }
  ]
}