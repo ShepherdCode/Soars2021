{
  "nbformat": 4,
  "nbformat_minor": 0,
  "metadata": {
    "accelerator": "GPU",
    "colab": {
      "name": "ConvRecur_201.ipynb",
      "provenance": [],
      "collapsed_sections": []
    },
    "kernelspec": {
      "display_name": "Python 3",
      "language": "python",
      "name": "python3"
    },
    "language_info": {
      "codemirror_mode": {
        "name": "ipython",
        "version": 3
      },
      "file_extension": ".py",
      "mimetype": "text/x-python",
      "name": "python",
      "nbconvert_exporter": "python",
      "pygments_lexer": "ipython3",
      "version": "3.8.3"
    }
  },
  "cells": [
    {
      "cell_type": "markdown",
      "metadata": {
        "id": "0asdcdunj2Tx"
      },
      "source": [
        "# ORF recognition by Convolutional/Recurrent\n",
        "Attempting to train the model on simulated RNA sequences of length 256.\n",
        "\n"
      ]
    },
    {
      "cell_type": "code",
      "metadata": {
        "colab": {
          "base_uri": "https://localhost:8080/",
          "height": 36
        },
        "id": "QP1VTRNQj2UO",
        "outputId": "fbe59452-36d0-460b-ba66-3e5605386506"
      },
      "source": [
        "import time \n",
        "t = time.time()\n",
        "time.strftime('%Y-%m-%d %H:%M:%S %Z', time.localtime(t))"
      ],
      "execution_count": 1,
      "outputs": [
        {
          "output_type": "execute_result",
          "data": {
            "application/vnd.google.colaboratory.intrinsic+json": {
              "type": "string"
            },
            "text/plain": [
              "'2021-07-13 17:40:09 UTC'"
            ]
          },
          "metadata": {
            "tags": []
          },
          "execution_count": 1
        }
      ]
    },
    {
      "cell_type": "code",
      "metadata": {
        "id": "Nhz4GKonj2T_"
      },
      "source": [
        "#Input\n",
        "PC_SEQUENCES=64000   # how many protein-coding sequences\n",
        "NC_SEQUENCES=64000   # how many non-coding sequences\n",
        "PC_TESTS=1000\n",
        "NC_TESTS=1000\n",
        "RNA_LEN=256            # how long is each sequence\n",
        "CDS_LEN=128            # min CDS len to be coding\n",
        "ALPHABET=4          # how many different letters are possible\n",
        "INPUT_SHAPE_2D = (RNA_LEN,ALPHABET,1) # Conv2D needs 3D inputs\n",
        "INPUT_SHAPE = (RNA_LEN,ALPHABET) # Conv1D needs 2D inputs\n",
        "\n",
        "#Model\n",
        "FILTERS = 32   # how many different patterns the model looks for\n",
        "CELLS = 128 #Used in LSTM layer(s)\n",
        "NEURONS = 128 #Used in Dense layer(s)\n",
        "DROP_RATE = 0.1\n",
        "WIDTH = 3   # how wide each pattern is, in bases\n",
        "STRIDE_2D = (1,1)  # For Conv2D how far in each direction\n",
        "STRIDE = 1 # For Conv1D, how far between pattern matches, in bases\n",
        "ACTIVATION = 'relu'\n",
        "\n",
        "#Training\n",
        "EPOCHS=50  # how many times to train on all the data\n",
        "SPLITS=3  # SPLITS=3 means train on 2/3 and validate on 1/3 \n",
        "FOLDS=1  # train the model this many times (range 1 to SPLITS)"
      ],
      "execution_count": 2,
      "outputs": []
    },
    {
      "cell_type": "code",
      "metadata": {
        "colab": {
          "base_uri": "https://localhost:8080/"
        },
        "id": "lr7q90rxj2UE",
        "outputId": "557ad30a-a544-4df0-d30d-01c9943747d2"
      },
      "source": [
        "import sys\n",
        "IN_COLAB = False\n",
        "try:\n",
        "    from google.colab import drive\n",
        "    IN_COLAB = True\n",
        "except:\n",
        "    pass\n",
        "if IN_COLAB:\n",
        "    print(\"On Google CoLab, mount cloud-local file, get our code from GitHub.\")\n",
        "    PATH='/content/drive/'\n",
        "    #drive.mount(PATH,force_remount=True)  # hardly ever need this\n",
        "    #drive.mount(PATH)    # Google will require login credentials\n",
        "    DATAPATH=PATH+'My Drive/data/'  # must end in \"/\"\n",
        "    import requests\n",
        "    r = requests.get('https://raw.githubusercontent.com/ShepherdCode/Soars2021/master/SimTools/RNA_describe.py')\n",
        "    with open('RNA_describe.py', 'w') as f:\n",
        "        f.write(r.text)  \n",
        "    from RNA_describe import ORF_counter\n",
        "    from RNA_describe import Random_Base_Oracle\n",
        "    r = requests.get('https://raw.githubusercontent.com/ShepherdCode/Soars2021/master/SimTools/RNA_prep.py')\n",
        "    with open('RNA_prep.py', 'w') as f:\n",
        "        f.write(r.text)  \n",
        "    from RNA_prep import prepare_inputs_len_x_alphabet\n",
        "else:\n",
        "        print(\"CoLab not working. On my PC, use relative paths.\")\n",
        "        DATAPATH='data/'  # must end in \"/\"\n",
        "        sys.path.append(\"..\") # append parent dir in order to use sibling dirs\n",
        "        from SimTools.RNA_describe import ORF_counter,Random_Base_Oracle\n",
        "        from SimTools.RNA_prep import prepare_inputs_len_x_alphabet\n",
        "\n",
        "MODELPATH=\"BestModel\"  # saved on cloud instance and lost after logout\n",
        "#MODELPATH=DATAPATH+MODELPATH  # saved on Google Drive but requires login\n"
      ],
      "execution_count": 3,
      "outputs": [
        {
          "output_type": "stream",
          "text": [
            "On Google CoLab, mount cloud-local file, get our code from GitHub.\n"
          ],
          "name": "stdout"
        }
      ]
    },
    {
      "cell_type": "code",
      "metadata": {
        "id": "EGDXH8Uwj2UM"
      },
      "source": [
        "from os import listdir\n",
        "import csv\n",
        "from zipfile import ZipFile\n",
        "\n",
        "import numpy as np\n",
        "import pandas as pd\n",
        "from scipy import stats  # mode\n",
        "\n",
        "from sklearn.preprocessing import StandardScaler\n",
        "from sklearn.model_selection import KFold\n",
        "from sklearn.model_selection import cross_val_score\n",
        "\n",
        "from keras.models import Sequential\n",
        "from keras.layers import Dense,Embedding,Dropout\n",
        "from keras.layers import Conv1D,Conv2D\n",
        "from keras.layers import GRU,LSTM\n",
        "from keras.layers import Flatten,TimeDistributed\n",
        "from keras.layers import MaxPooling1D,MaxPooling2D\n",
        "from keras.losses import BinaryCrossentropy\n",
        "# tf.keras.losses.BinaryCrossentropy\n",
        "\n",
        "import matplotlib.pyplot as plt\n",
        "from matplotlib import colors\n",
        "mycmap = colors.ListedColormap(['red','blue'])  # list color for label 0 then 1\n",
        "np.set_printoptions(precision=2)\n"
      ],
      "execution_count": 4,
      "outputs": []
    },
    {
      "cell_type": "code",
      "metadata": {
        "colab": {
          "base_uri": "https://localhost:8080/"
        },
        "id": "CUOG_jEvGtOm",
        "outputId": "8f2640a9-932f-4414-9e61-d0a43644e341"
      },
      "source": [
        "rbo=Random_Base_Oracle(RNA_LEN,True)\n",
        "#pc_all,nc_all = rbo.get_partitioned_sequences(CDS_LEN,10) # just testing\n",
        "pc_all,nc_all = rbo.get_partitioned_sequences(CDS_LEN,PC_SEQUENCES+PC_TESTS)\n",
        "print(\"Use\",len(pc_all),\"PC seqs\")\n",
        "print(\"Use\",len(nc_all),\"NC seqs\")"
      ],
      "execution_count": 5,
      "outputs": [
        {
          "output_type": "stream",
          "text": [
            "It took 361106 trials to reach 65000 per class.\n",
            "Use 65000 PC seqs\n",
            "Use 65000 NC seqs\n"
          ],
          "name": "stdout"
        }
      ]
    },
    {
      "cell_type": "code",
      "metadata": {
        "colab": {
          "base_uri": "https://localhost:8080/"
        },
        "id": "Q-BmSXi2jUyl",
        "outputId": "619039a4-16c0-4324-cd40-4b75d22079a7"
      },
      "source": [
        "# Describe the sequences\n",
        "def describe_sequences(list_of_seq):\n",
        "    oc = ORF_counter()\n",
        "    num_seq = len(list_of_seq)\n",
        "    rna_lens = np.zeros(num_seq)\n",
        "    orf_lens = np.zeros(num_seq)\n",
        "    for i in range(0,num_seq):\n",
        "        rna_len = len(list_of_seq[i])\n",
        "        rna_lens[i] = rna_len\n",
        "        oc.set_sequence(list_of_seq[i])\n",
        "        orf_len = oc.get_max_orf_len()\n",
        "        orf_lens[i] = orf_len\n",
        "    print (\"Average RNA length:\",rna_lens.mean())\n",
        "    print (\"Average ORF length:\",orf_lens.mean())\n",
        "    \n",
        "print(\"Simulated sequences prior to adjustment:\")\n",
        "print(\"PC seqs\")\n",
        "describe_sequences(pc_all)\n",
        "print(\"NC seqs\")\n",
        "describe_sequences(nc_all)"
      ],
      "execution_count": 6,
      "outputs": [
        {
          "output_type": "stream",
          "text": [
            "Simulated sequences prior to adjustment:\n",
            "PC seqs\n",
            "Average RNA length: 256.0\n",
            "Average ORF length: 156.3969230769231\n",
            "NC seqs\n",
            "Average RNA length: 256.0\n",
            "Average ORF length: 67.44729230769231\n"
          ],
          "name": "stdout"
        }
      ]
    },
    {
      "cell_type": "code",
      "metadata": {
        "id": "iP1y7-J3jUys"
      },
      "source": [
        "pc_train=pc_all[:PC_SEQUENCES]\n",
        "nc_train=nc_all[:NC_SEQUENCES]\n",
        "pc_test=pc_all[PC_SEQUENCES:]\n",
        "nc_test=nc_all[NC_SEQUENCES:]"
      ],
      "execution_count": 7,
      "outputs": []
    },
    {
      "cell_type": "code",
      "metadata": {
        "colab": {
          "base_uri": "https://localhost:8080/"
        },
        "id": "CIpTrnH6j2US",
        "outputId": "3b6051ba-149b-42e7-a561-4bc5abd847d9"
      },
      "source": [
        "# Use code from our SimTools library.\n",
        "X,y = prepare_inputs_len_x_alphabet(pc_train,nc_train,ALPHABET) # shuffles\n",
        "print(\"Data ready.\")"
      ],
      "execution_count": 8,
      "outputs": [
        {
          "output_type": "stream",
          "text": [
            "Data ready.\n"
          ],
          "name": "stdout"
        }
      ]
    },
    {
      "cell_type": "code",
      "metadata": {
        "colab": {
          "base_uri": "https://localhost:8080/"
        },
        "id": "7NvrVU8ij2UU",
        "outputId": "aec944cd-bf74-499b-fc6f-d31ea1a03eaf"
      },
      "source": [
        "def make_DNN():\n",
        "    print(\"make_DNN\")\n",
        "    print(\"input shape:\",INPUT_SHAPE)\n",
        "    dnn = Sequential()\n",
        "\n",
        "    dnn.add(Conv1D(filters=FILTERS,kernel_size=WIDTH,strides=STRIDE,padding=\"same\",\n",
        "            input_shape=INPUT_SHAPE))\n",
        "    dnn.add(Conv1D(filters=FILTERS,kernel_size=WIDTH,strides=STRIDE,padding=\"same\"))\n",
        "    dnn.add(MaxPooling1D())\n",
        "\n",
        "    dnn.add(LSTM(CELLS,return_sequences=True))\n",
        "    dnn.add(LSTM(CELLS,return_sequences=False))\n",
        "\n",
        "    dnn.add(Dense(NEURONS,activation=ACTIVATION,dtype=np.float32))  \n",
        "\n",
        "    dnn.add(Dropout(DROP_RATE))\n",
        "\n",
        "    dnn.add(Dense(1,activation=ACTIVATION,dtype=np.float32))  \n",
        "\n",
        "    dnn.compile(optimizer='adam',\n",
        "                loss=BinaryCrossentropy(from_logits=False),\n",
        "                metrics=['accuracy'])   # add to default metrics=loss\n",
        "\n",
        "    dnn.build() \n",
        "\n",
        "    return dnn\n",
        "\n",
        "model = make_DNN()\n",
        "print(model.summary())"
      ],
      "execution_count": 9,
      "outputs": [
        {
          "output_type": "stream",
          "text": [
            "make_DNN\n",
            "input shape: (256, 4)\n",
            "Model: \"sequential\"\n",
            "_________________________________________________________________\n",
            "Layer (type)                 Output Shape              Param #   \n",
            "=================================================================\n",
            "conv1d (Conv1D)              (None, 256, 32)           416       \n",
            "_________________________________________________________________\n",
            "conv1d_1 (Conv1D)            (None, 256, 32)           3104      \n",
            "_________________________________________________________________\n",
            "max_pooling1d (MaxPooling1D) (None, 128, 32)           0         \n",
            "_________________________________________________________________\n",
            "lstm (LSTM)                  (None, 128, 128)          82432     \n",
            "_________________________________________________________________\n",
            "lstm_1 (LSTM)                (None, 128)               131584    \n",
            "_________________________________________________________________\n",
            "dense (Dense)                (None, 128)               16512     \n",
            "_________________________________________________________________\n",
            "dropout (Dropout)            (None, 128)               0         \n",
            "_________________________________________________________________\n",
            "dense_1 (Dense)              (None, 1)                 129       \n",
            "=================================================================\n",
            "Total params: 234,177\n",
            "Trainable params: 234,177\n",
            "Non-trainable params: 0\n",
            "_________________________________________________________________\n",
            "None\n"
          ],
          "name": "stdout"
        }
      ]
    },
    {
      "cell_type": "code",
      "metadata": {
        "id": "nlVF0hR3j2UW"
      },
      "source": [
        "from keras.callbacks import ModelCheckpoint\n",
        "def do_cross_validation(X,y):\n",
        "    cv_scores = []\n",
        "    fold=0\n",
        "    mycallbacks = [ModelCheckpoint(\n",
        "        filepath=MODELPATH, save_best_only=True, \n",
        "        monitor='val_accuracy', mode='max')]   \n",
        "    splitter = KFold(n_splits=SPLITS)  # this does not shuffle\n",
        "    for train_index,valid_index in splitter.split(X):\n",
        "        if fold < FOLDS:\n",
        "            fold += 1\n",
        "            X_train=X[train_index] # inputs for training\n",
        "            y_train=y[train_index] # labels for training\n",
        "            X_valid=X[valid_index] # inputs for validation\n",
        "            y_valid=y[valid_index] # labels for validation\n",
        "            print(\"MODEL\")\n",
        "            # Call constructor on each CV. Else, continually improves the same model.\n",
        "            model = model = make_DNN()\n",
        "            print(\"FIT\")  # model.fit() implements learning\n",
        "            start_time=time.time()\n",
        "            history=model.fit(X_train, y_train, \n",
        "                    epochs=EPOCHS, \n",
        "                    verbose=1,  # ascii art while learning\n",
        "                    callbacks=mycallbacks,   # called at end of each epoch\n",
        "                    validation_data=(X_valid,y_valid))\n",
        "            end_time=time.time()\n",
        "            elapsed_time=(end_time-start_time)                        \n",
        "            print(\"Fold %d, %d epochs, %d sec\"%(fold,EPOCHS,elapsed_time))\n",
        "            # print(history.history.keys())  # all these keys will be shown in figure\n",
        "            pd.DataFrame(history.history).plot(figsize=(8,5))\n",
        "            plt.grid(True)\n",
        "            plt.gca().set_ylim(0,1) # any losses > 1 will be off the scale\n",
        "            plt.show()\n"
      ],
      "execution_count": 10,
      "outputs": []
    },
    {
      "cell_type": "code",
      "metadata": {
        "colab": {
          "base_uri": "https://localhost:8080/",
          "height": 1000
        },
        "id": "9Ggt4EsSj2UY",
        "outputId": "d9662025-8cbd-461f-eedf-f611da1bb17a"
      },
      "source": [
        "do_cross_validation(X,y)"
      ],
      "execution_count": 11,
      "outputs": [
        {
          "output_type": "stream",
          "text": [
            "MODEL\n",
            "make_DNN\n",
            "input shape: (256, 4)\n",
            "FIT\n",
            "Epoch 1/50\n",
            "2667/2667 [==============================] - 81s 23ms/step - loss: 0.7251 - accuracy: 0.5023 - val_loss: 0.6914 - val_accuracy: 0.5286\n"
          ],
          "name": "stdout"
        },
        {
          "output_type": "stream",
          "text": [
            "WARNING:absl:Found untraced functions such as lstm_cell_2_layer_call_fn, lstm_cell_2_layer_call_and_return_conditional_losses, lstm_cell_3_layer_call_fn, lstm_cell_3_layer_call_and_return_conditional_losses, lstm_cell_2_layer_call_fn while saving (showing 5 of 10). These functions will not be directly callable after loading.\n"
          ],
          "name": "stderr"
        },
        {
          "output_type": "stream",
          "text": [
            "INFO:tensorflow:Assets written to: BestModel/assets\n"
          ],
          "name": "stdout"
        },
        {
          "output_type": "stream",
          "text": [
            "INFO:tensorflow:Assets written to: BestModel/assets\n"
          ],
          "name": "stderr"
        },
        {
          "output_type": "stream",
          "text": [
            "Epoch 2/50\n",
            "2667/2667 [==============================] - 60s 22ms/step - loss: 0.6948 - accuracy: 0.5155 - val_loss: 0.6953 - val_accuracy: 0.5133\n",
            "Epoch 3/50\n",
            "2667/2667 [==============================] - 60s 22ms/step - loss: 0.6927 - accuracy: 0.5213 - val_loss: 0.6461 - val_accuracy: 0.6306\n"
          ],
          "name": "stdout"
        },
        {
          "output_type": "stream",
          "text": [
            "WARNING:absl:Found untraced functions such as lstm_cell_2_layer_call_fn, lstm_cell_2_layer_call_and_return_conditional_losses, lstm_cell_3_layer_call_fn, lstm_cell_3_layer_call_and_return_conditional_losses, lstm_cell_2_layer_call_fn while saving (showing 5 of 10). These functions will not be directly callable after loading.\n"
          ],
          "name": "stderr"
        },
        {
          "output_type": "stream",
          "text": [
            "INFO:tensorflow:Assets written to: BestModel/assets\n"
          ],
          "name": "stdout"
        },
        {
          "output_type": "stream",
          "text": [
            "INFO:tensorflow:Assets written to: BestModel/assets\n"
          ],
          "name": "stderr"
        },
        {
          "output_type": "stream",
          "text": [
            "Epoch 4/50\n",
            "2667/2667 [==============================] - 61s 23ms/step - loss: 0.6457 - accuracy: 0.6292 - val_loss: 0.6317 - val_accuracy: 0.6419\n"
          ],
          "name": "stdout"
        },
        {
          "output_type": "stream",
          "text": [
            "WARNING:absl:Found untraced functions such as lstm_cell_2_layer_call_fn, lstm_cell_2_layer_call_and_return_conditional_losses, lstm_cell_3_layer_call_fn, lstm_cell_3_layer_call_and_return_conditional_losses, lstm_cell_2_layer_call_fn while saving (showing 5 of 10). These functions will not be directly callable after loading.\n"
          ],
          "name": "stderr"
        },
        {
          "output_type": "stream",
          "text": [
            "INFO:tensorflow:Assets written to: BestModel/assets\n"
          ],
          "name": "stdout"
        },
        {
          "output_type": "stream",
          "text": [
            "INFO:tensorflow:Assets written to: BestModel/assets\n"
          ],
          "name": "stderr"
        },
        {
          "output_type": "stream",
          "text": [
            "Epoch 5/50\n",
            "2667/2667 [==============================] - 61s 23ms/step - loss: 0.6297 - accuracy: 0.6459 - val_loss: 0.6106 - val_accuracy: 0.6650\n"
          ],
          "name": "stdout"
        },
        {
          "output_type": "stream",
          "text": [
            "WARNING:absl:Found untraced functions such as lstm_cell_2_layer_call_fn, lstm_cell_2_layer_call_and_return_conditional_losses, lstm_cell_3_layer_call_fn, lstm_cell_3_layer_call_and_return_conditional_losses, lstm_cell_2_layer_call_fn while saving (showing 5 of 10). These functions will not be directly callable after loading.\n"
          ],
          "name": "stderr"
        },
        {
          "output_type": "stream",
          "text": [
            "INFO:tensorflow:Assets written to: BestModel/assets\n"
          ],
          "name": "stdout"
        },
        {
          "output_type": "stream",
          "text": [
            "INFO:tensorflow:Assets written to: BestModel/assets\n"
          ],
          "name": "stderr"
        },
        {
          "output_type": "stream",
          "text": [
            "Epoch 6/50\n",
            "2667/2667 [==============================] - 60s 23ms/step - loss: 0.6104 - accuracy: 0.6656 - val_loss: 0.5948 - val_accuracy: 0.6812\n"
          ],
          "name": "stdout"
        },
        {
          "output_type": "stream",
          "text": [
            "WARNING:absl:Found untraced functions such as lstm_cell_2_layer_call_fn, lstm_cell_2_layer_call_and_return_conditional_losses, lstm_cell_3_layer_call_fn, lstm_cell_3_layer_call_and_return_conditional_losses, lstm_cell_2_layer_call_fn while saving (showing 5 of 10). These functions will not be directly callable after loading.\n"
          ],
          "name": "stderr"
        },
        {
          "output_type": "stream",
          "text": [
            "INFO:tensorflow:Assets written to: BestModel/assets\n"
          ],
          "name": "stdout"
        },
        {
          "output_type": "stream",
          "text": [
            "INFO:tensorflow:Assets written to: BestModel/assets\n"
          ],
          "name": "stderr"
        },
        {
          "output_type": "stream",
          "text": [
            "Epoch 7/50\n",
            "2667/2667 [==============================] - 60s 23ms/step - loss: 0.6170 - accuracy: 0.6601 - val_loss: 0.5876 - val_accuracy: 0.6873\n"
          ],
          "name": "stdout"
        },
        {
          "output_type": "stream",
          "text": [
            "WARNING:absl:Found untraced functions such as lstm_cell_2_layer_call_fn, lstm_cell_2_layer_call_and_return_conditional_losses, lstm_cell_3_layer_call_fn, lstm_cell_3_layer_call_and_return_conditional_losses, lstm_cell_2_layer_call_fn while saving (showing 5 of 10). These functions will not be directly callable after loading.\n"
          ],
          "name": "stderr"
        },
        {
          "output_type": "stream",
          "text": [
            "INFO:tensorflow:Assets written to: BestModel/assets\n"
          ],
          "name": "stdout"
        },
        {
          "output_type": "stream",
          "text": [
            "INFO:tensorflow:Assets written to: BestModel/assets\n"
          ],
          "name": "stderr"
        },
        {
          "output_type": "stream",
          "text": [
            "Epoch 8/50\n",
            "2667/2667 [==============================] - 61s 23ms/step - loss: 0.5894 - accuracy: 0.6849 - val_loss: 0.5757 - val_accuracy: 0.6971\n"
          ],
          "name": "stdout"
        },
        {
          "output_type": "stream",
          "text": [
            "WARNING:absl:Found untraced functions such as lstm_cell_2_layer_call_fn, lstm_cell_2_layer_call_and_return_conditional_losses, lstm_cell_3_layer_call_fn, lstm_cell_3_layer_call_and_return_conditional_losses, lstm_cell_2_layer_call_fn while saving (showing 5 of 10). These functions will not be directly callable after loading.\n"
          ],
          "name": "stderr"
        },
        {
          "output_type": "stream",
          "text": [
            "INFO:tensorflow:Assets written to: BestModel/assets\n"
          ],
          "name": "stdout"
        },
        {
          "output_type": "stream",
          "text": [
            "INFO:tensorflow:Assets written to: BestModel/assets\n"
          ],
          "name": "stderr"
        },
        {
          "output_type": "stream",
          "text": [
            "Epoch 9/50\n",
            "2667/2667 [==============================] - 61s 23ms/step - loss: 0.6161 - accuracy: 0.6428 - val_loss: 0.6926 - val_accuracy: 0.5078\n",
            "Epoch 10/50\n",
            "2667/2667 [==============================] - 61s 23ms/step - loss: 0.6551 - accuracy: 0.6076 - val_loss: 0.6134 - val_accuracy: 0.6625\n",
            "Epoch 11/50\n",
            "2667/2667 [==============================] - 61s 23ms/step - loss: 0.6047 - accuracy: 0.6739 - val_loss: 0.5770 - val_accuracy: 0.6950\n",
            "Epoch 12/50\n",
            "2667/2667 [==============================] - 61s 23ms/step - loss: 0.6270 - accuracy: 0.6385 - val_loss: 0.6222 - val_accuracy: 0.6517\n",
            "Epoch 13/50\n",
            "2667/2667 [==============================] - 60s 23ms/step - loss: 0.6182 - accuracy: 0.6588 - val_loss: 0.5990 - val_accuracy: 0.6769\n",
            "Epoch 14/50\n",
            "2667/2667 [==============================] - 60s 23ms/step - loss: 0.5973 - accuracy: 0.6767 - val_loss: 0.5881 - val_accuracy: 0.6851\n",
            "Epoch 15/50\n",
            "2667/2667 [==============================] - 60s 22ms/step - loss: 0.6189 - accuracy: 0.6448 - val_loss: 0.6296 - val_accuracy: 0.6487\n",
            "Epoch 16/50\n",
            "2667/2667 [==============================] - 60s 23ms/step - loss: 0.6356 - accuracy: 0.6423 - val_loss: 0.6020 - val_accuracy: 0.6755\n",
            "Epoch 17/50\n",
            "2667/2667 [==============================] - 60s 22ms/step - loss: 0.6042 - accuracy: 0.6705 - val_loss: 0.5935 - val_accuracy: 0.6831\n",
            "Epoch 18/50\n",
            "2667/2667 [==============================] - 61s 23ms/step - loss: 0.5985 - accuracy: 0.6769 - val_loss: 0.6224 - val_accuracy: 0.6517\n",
            "Epoch 19/50\n",
            "2667/2667 [==============================] - 59s 22ms/step - loss: 0.6120 - accuracy: 0.6648 - val_loss: 0.5973 - val_accuracy: 0.6788\n",
            "Epoch 20/50\n",
            "2667/2667 [==============================] - 60s 22ms/step - loss: 0.5945 - accuracy: 0.6800 - val_loss: 0.6187 - val_accuracy: 0.6634\n",
            "Epoch 21/50\n",
            "2667/2667 [==============================] - 60s 22ms/step - loss: 0.5929 - accuracy: 0.6827 - val_loss: 0.5700 - val_accuracy: 0.7023\n"
          ],
          "name": "stdout"
        },
        {
          "output_type": "stream",
          "text": [
            "WARNING:absl:Found untraced functions such as lstm_cell_2_layer_call_fn, lstm_cell_2_layer_call_and_return_conditional_losses, lstm_cell_3_layer_call_fn, lstm_cell_3_layer_call_and_return_conditional_losses, lstm_cell_2_layer_call_fn while saving (showing 5 of 10). These functions will not be directly callable after loading.\n"
          ],
          "name": "stderr"
        },
        {
          "output_type": "stream",
          "text": [
            "INFO:tensorflow:Assets written to: BestModel/assets\n"
          ],
          "name": "stdout"
        },
        {
          "output_type": "stream",
          "text": [
            "INFO:tensorflow:Assets written to: BestModel/assets\n"
          ],
          "name": "stderr"
        },
        {
          "output_type": "stream",
          "text": [
            "Epoch 22/50\n",
            "2667/2667 [==============================] - 59s 22ms/step - loss: 0.5648 - accuracy: 0.7081 - val_loss: 0.5465 - val_accuracy: 0.7246\n"
          ],
          "name": "stdout"
        },
        {
          "output_type": "stream",
          "text": [
            "WARNING:absl:Found untraced functions such as lstm_cell_2_layer_call_fn, lstm_cell_2_layer_call_and_return_conditional_losses, lstm_cell_3_layer_call_fn, lstm_cell_3_layer_call_and_return_conditional_losses, lstm_cell_2_layer_call_fn while saving (showing 5 of 10). These functions will not be directly callable after loading.\n"
          ],
          "name": "stderr"
        },
        {
          "output_type": "stream",
          "text": [
            "INFO:tensorflow:Assets written to: BestModel/assets\n"
          ],
          "name": "stdout"
        },
        {
          "output_type": "stream",
          "text": [
            "INFO:tensorflow:Assets written to: BestModel/assets\n"
          ],
          "name": "stderr"
        },
        {
          "output_type": "stream",
          "text": [
            "Epoch 23/50\n",
            "2667/2667 [==============================] - 60s 22ms/step - loss: 0.5886 - accuracy: 0.6858 - val_loss: 0.5921 - val_accuracy: 0.6812\n",
            "Epoch 24/50\n",
            "2667/2667 [==============================] - 59s 22ms/step - loss: 0.5758 - accuracy: 0.6976 - val_loss: 0.5934 - val_accuracy: 0.6850\n",
            "Epoch 25/50\n",
            "2667/2667 [==============================] - 60s 22ms/step - loss: 0.5634 - accuracy: 0.7079 - val_loss: 0.6479 - val_accuracy: 0.6276\n",
            "Epoch 26/50\n",
            "2667/2667 [==============================] - 59s 22ms/step - loss: 0.6131 - accuracy: 0.6640 - val_loss: 0.5824 - val_accuracy: 0.6917\n",
            "Epoch 27/50\n",
            "2667/2667 [==============================] - 60s 22ms/step - loss: 0.5936 - accuracy: 0.6833 - val_loss: 0.5282 - val_accuracy: 0.7385\n"
          ],
          "name": "stdout"
        },
        {
          "output_type": "stream",
          "text": [
            "WARNING:absl:Found untraced functions such as lstm_cell_2_layer_call_fn, lstm_cell_2_layer_call_and_return_conditional_losses, lstm_cell_3_layer_call_fn, lstm_cell_3_layer_call_and_return_conditional_losses, lstm_cell_2_layer_call_fn while saving (showing 5 of 10). These functions will not be directly callable after loading.\n"
          ],
          "name": "stderr"
        },
        {
          "output_type": "stream",
          "text": [
            "INFO:tensorflow:Assets written to: BestModel/assets\n"
          ],
          "name": "stdout"
        },
        {
          "output_type": "stream",
          "text": [
            "INFO:tensorflow:Assets written to: BestModel/assets\n"
          ],
          "name": "stderr"
        },
        {
          "output_type": "stream",
          "text": [
            "Epoch 28/50\n",
            "2667/2667 [==============================] - 59s 22ms/step - loss: 0.5554 - accuracy: 0.7173 - val_loss: 0.5701 - val_accuracy: 0.7082\n",
            "Epoch 29/50\n",
            "2667/2667 [==============================] - 59s 22ms/step - loss: 0.5675 - accuracy: 0.7112 - val_loss: 0.5386 - val_accuracy: 0.7245\n",
            "Epoch 30/50\n",
            "2667/2667 [==============================] - 60s 22ms/step - loss: 0.5292 - accuracy: 0.7468 - val_loss: 0.5964 - val_accuracy: 0.6776\n",
            "Epoch 31/50\n",
            "2667/2667 [==============================] - 60s 22ms/step - loss: 0.6000 - accuracy: 0.6781 - val_loss: 0.5865 - val_accuracy: 0.6870\n",
            "Epoch 32/50\n",
            "2667/2667 [==============================] - 59s 22ms/step - loss: 0.5614 - accuracy: 0.7147 - val_loss: 0.5018 - val_accuracy: 0.7976\n"
          ],
          "name": "stdout"
        },
        {
          "output_type": "stream",
          "text": [
            "WARNING:absl:Found untraced functions such as lstm_cell_2_layer_call_fn, lstm_cell_2_layer_call_and_return_conditional_losses, lstm_cell_3_layer_call_fn, lstm_cell_3_layer_call_and_return_conditional_losses, lstm_cell_2_layer_call_fn while saving (showing 5 of 10). These functions will not be directly callable after loading.\n"
          ],
          "name": "stderr"
        },
        {
          "output_type": "stream",
          "text": [
            "INFO:tensorflow:Assets written to: BestModel/assets\n"
          ],
          "name": "stdout"
        },
        {
          "output_type": "stream",
          "text": [
            "INFO:tensorflow:Assets written to: BestModel/assets\n"
          ],
          "name": "stderr"
        },
        {
          "output_type": "stream",
          "text": [
            "Epoch 33/50\n",
            "2667/2667 [==============================] - 59s 22ms/step - loss: 0.5929 - accuracy: 0.6989 - val_loss: 0.6000 - val_accuracy: 0.6756\n",
            "Epoch 34/50\n",
            "2667/2667 [==============================] - 59s 22ms/step - loss: 0.5987 - accuracy: 0.6766 - val_loss: 0.5889 - val_accuracy: 0.6875\n",
            "Epoch 35/50\n",
            "2667/2667 [==============================] - 59s 22ms/step - loss: 0.5828 - accuracy: 0.6917 - val_loss: 0.6261 - val_accuracy: 0.6499\n",
            "Epoch 36/50\n",
            "2667/2667 [==============================] - 59s 22ms/step - loss: 0.6251 - accuracy: 0.6536 - val_loss: 0.5520 - val_accuracy: 0.7296\n",
            "Epoch 37/50\n",
            "2667/2667 [==============================] - 59s 22ms/step - loss: 0.6204 - accuracy: 0.6528 - val_loss: 0.6623 - val_accuracy: 0.6055\n",
            "Epoch 38/50\n",
            "2667/2667 [==============================] - 59s 22ms/step - loss: 0.6348 - accuracy: 0.6405 - val_loss: 0.6593 - val_accuracy: 0.6209\n",
            "Epoch 39/50\n",
            "2667/2667 [==============================] - 59s 22ms/step - loss: 0.6390 - accuracy: 0.6426 - val_loss: 0.6141 - val_accuracy: 0.6624\n",
            "Epoch 40/50\n",
            "2667/2667 [==============================] - 61s 23ms/step - loss: 0.6020 - accuracy: 0.6758 - val_loss: 0.5826 - val_accuracy: 0.6897\n",
            "Epoch 41/50\n",
            "2667/2667 [==============================] - 62s 23ms/step - loss: 0.5874 - accuracy: 0.6929 - val_loss: 0.5329 - val_accuracy: 0.7401\n",
            "Epoch 42/50\n",
            "2667/2667 [==============================] - 60s 23ms/step - loss: 0.6341 - accuracy: 0.6386 - val_loss: 0.5713 - val_accuracy: 0.7030\n",
            "Epoch 43/50\n",
            "2667/2667 [==============================] - 60s 22ms/step - loss: 0.6054 - accuracy: 0.6689 - val_loss: 0.6066 - val_accuracy: 0.6726\n",
            "Epoch 44/50\n",
            "2667/2667 [==============================] - 59s 22ms/step - loss: 0.5895 - accuracy: 0.6937 - val_loss: 0.5889 - val_accuracy: 0.6885\n",
            "Epoch 45/50\n",
            "2667/2667 [==============================] - 60s 22ms/step - loss: 0.5766 - accuracy: 0.7029 - val_loss: 0.6259 - val_accuracy: 0.6455\n",
            "Epoch 46/50\n",
            "2667/2667 [==============================] - 59s 22ms/step - loss: 0.6152 - accuracy: 0.6570 - val_loss: 0.5304 - val_accuracy: 0.7413\n",
            "Epoch 47/50\n",
            "2667/2667 [==============================] - 60s 22ms/step - loss: 0.5625 - accuracy: 0.7184 - val_loss: 0.5411 - val_accuracy: 0.7397\n",
            "Epoch 48/50\n",
            "2667/2667 [==============================] - 59s 22ms/step - loss: 0.5566 - accuracy: 0.7206 - val_loss: 0.5334 - val_accuracy: 0.7393\n",
            "Epoch 49/50\n",
            "2667/2667 [==============================] - 59s 22ms/step - loss: 0.5927 - accuracy: 0.6838 - val_loss: 0.5203 - val_accuracy: 0.7488\n",
            "Epoch 50/50\n",
            "2667/2667 [==============================] - 59s 22ms/step - loss: 0.5233 - accuracy: 0.7483 - val_loss: 0.6710 - val_accuracy: 0.5807\n",
            "Fold 1, 50 epochs, 3159 sec\n"
          ],
          "name": "stdout"
        },
        {
          "output_type": "display_data",
          "data": {
            "image/png": "[encoded data removed]",
            "text/plain": [
              "<Figure size 576x360 with 1 Axes>"
            ]
          },
          "metadata": {
            "tags": [],
            "needs_background": "light"
          }
        }
      ]
    },
    {
      "cell_type": "code",
      "metadata": {
        "id": "e-jG1h5fj2Ua",
        "colab": {
          "base_uri": "https://localhost:8080/"
        },
        "outputId": "34899b97-e2e6-4a08-dc69-52b0271a313c"
      },
      "source": [
        "from keras.models import load_model\n",
        "X,y = prepare_inputs_len_x_alphabet(pc_test,nc_test,ALPHABET)\n",
        "best_model=load_model(MODELPATH)\n",
        "scores = best_model.evaluate(X, y, verbose=0)\n",
        "print(\"The best model parameters were saved during cross-validation.\")\n",
        "print(\"Best was defined as maximum validation accuracy at end of any epoch.\")\n",
        "print(\"Now re-load the best model and test it on previously unseen data.\")\n",
        "print(\"Test on\",len(pc_test),\"PC seqs\")\n",
        "print(\"Test on\",len(nc_test),\"NC seqs\")\n",
        "print(\"%s: %.2f%%\" % (best_model.metrics_names[1], scores[1]*100))\n"
      ],
      "execution_count": 12,
      "outputs": [
        {
          "output_type": "stream",
          "text": [
            "The best model parameters were saved during cross-validation.\n",
            "Best was defined as maximum validation accuracy at end of any epoch.\n",
            "Now re-load the best model and test it on previously unseen data.\n",
            "Test on 1000 PC seqs\n",
            "Test on 1000 NC seqs\n",
            "accuracy: 79.40%\n"
          ],
          "name": "stdout"
        }
      ]
    },
    {
      "cell_type": "code",
      "metadata": {
        "id": "VycUnmvUj2Ue",
        "colab": {
          "base_uri": "https://localhost:8080/",
          "height": 313
        },
        "outputId": "8eb5459f-b5aa-45bd-afc1-11df39ee8f92"
      },
      "source": [
        "from sklearn.metrics import roc_curve\n",
        "from sklearn.metrics import roc_auc_score\n",
        "ns_probs = [0 for _ in range(len(y))]\n",
        "bm_probs = best_model.predict(X)\n",
        "ns_auc = roc_auc_score(y, ns_probs)\n",
        "bm_auc = roc_auc_score(y, bm_probs)\n",
        "ns_fpr, ns_tpr, _ = roc_curve(y, ns_probs)\n",
        "bm_fpr, bm_tpr, _ = roc_curve(y, bm_probs)\n",
        "plt.plot(ns_fpr, ns_tpr, linestyle='--', label='Guess, auc=%.4f'%ns_auc)\n",
        "plt.plot(bm_fpr, bm_tpr, marker='.', label='Model, auc=%.4f'%bm_auc)\n",
        "plt.title('ROC')\n",
        "plt.xlabel('False Positive Rate')\n",
        "plt.ylabel('True Positive Rate')\n",
        "plt.legend()\n",
        "plt.show()\n",
        "print(\"%s: %.2f%%\" %('AUC',bm_auc*100.0))\n"
      ],
      "execution_count": 13,
      "outputs": [
        {
          "output_type": "display_data",
          "data": {
            "image/png": "[encoded data removed]",
            "text/plain": [
              "<Figure size 432x288 with 1 Axes>"
            ]
          },
          "metadata": {
            "tags": [],
            "needs_background": "light"
          }
        },
        {
          "output_type": "stream",
          "text": [
            "AUC: 87.88%\n"
          ],
          "name": "stdout"
        }
      ]
    },
    {
      "cell_type": "code",
      "metadata": {
        "id": "kFMb6rGNj2Ug",
        "colab": {
          "base_uri": "https://localhost:8080/",
          "height": 36
        },
        "outputId": "122b4b6d-a875-47f2-ae67-7855e03f3087"
      },
      "source": [
        "t = time.time()\n",
        "time.strftime('%Y-%m-%d %H:%M:%S %Z', time.localtime(t))"
      ],
      "execution_count": 14,
      "outputs": [
        {
          "output_type": "execute_result",
          "data": {
            "application/vnd.google.colaboratory.intrinsic+json": {
              "type": "string"
            },
            "text/plain": [
              "'2021-07-13 18:34:01 UTC'"
            ]
          },
          "metadata": {
            "tags": []
          },
          "execution_count": 14
        }
      ]
    }
  ]
}