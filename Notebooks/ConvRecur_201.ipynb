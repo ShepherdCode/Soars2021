{
  "nbformat": 4,
  "nbformat_minor": 0,
  "metadata": {
    "accelerator": "GPU",
    "colab": {
      "name": "ConvRecur_201.ipynb",
      "provenance": [],
      "collapsed_sections": []
    },
    "kernelspec": {
      "display_name": "Python 3",
      "language": "python",
      "name": "python3"
    },
    "language_info": {
      "codemirror_mode": {
        "name": "ipython",
        "version": 3
      },
      "file_extension": ".py",
      "mimetype": "text/x-python",
      "name": "python",
      "nbconvert_exporter": "python",
      "pygments_lexer": "ipython3",
      "version": "3.8.3"
    }
  },
  "cells": [
    {
      "cell_type": "markdown",
      "metadata": {
        "id": "0asdcdunj2Tx"
      },
      "source": [
        "# ORF recognition by Convolutional/Recurrent\n",
        "Attempting to train the model on simulated RNA sequences of length 256.\n",
        "\n"
      ]
    },
    {
      "cell_type": "code",
      "metadata": {
        "colab": {
          "base_uri": "https://localhost:8080/",
          "height": 36
        },
        "id": "QP1VTRNQj2UO",
        "outputId": "20d314cb-498f-4922-e488-33cefb2d4e0f"
      },
      "source": [
        "import time \n",
        "t = time.time()\n",
        "time.strftime('%Y-%m-%d %H:%M:%S %Z', time.localtime(t))"
      ],
      "execution_count": 1,
      "outputs": [
        {
          "output_type": "execute_result",
          "data": {
            "application/vnd.google.colaboratory.intrinsic+json": {
              "type": "string"
            },
            "text/plain": [
              "'2021-07-02 17:25:20 UTC'"
            ]
          },
          "metadata": {
            "tags": []
          },
          "execution_count": 1
        }
      ]
    },
    {
      "cell_type": "code",
      "metadata": {
        "id": "Nhz4GKonj2T_"
      },
      "source": [
        "#Input\n",
        "PC_SEQUENCES=64000   # how many protein-coding sequences\n",
        "NC_SEQUENCES=64000   # how many non-coding sequences\n",
        "PC_TESTS=1000\n",
        "NC_TESTS=1000\n",
        "RNA_LEN=256            # how long is each sequence\n",
        "CDS_LEN=128            # min CDS len to be coding\n",
        "ALPHABET=4          # how many different letters are possible\n",
        "INPUT_SHAPE_2D = (RNA_LEN,ALPHABET,1) # Conv2D needs 3D inputs\n",
        "INPUT_SHAPE = (RNA_LEN,ALPHABET) # Conv1D needs 2D inputs\n",
        "\n",
        "#Model\n",
        "FILTERS = 32   # how many different patterns the model looks for\n",
        "CELLS = 128 #Used in LSTM layer(s)\n",
        "NEURONS = 256 #Used in Dense layer(s)\n",
        "DROP_RATE = 0.1\n",
        "WIDTH = 3   # how wide each pattern is, in bases\n",
        "STRIDE_2D = (1,1)  # For Conv2D how far in each direction\n",
        "STRIDE = 1 # For Conv1D, how far between pattern matches, in bases\n",
        "\n",
        "#Training\n",
        "EPOCHS=50  # how many times to train on all the data\n",
        "SPLITS=3  # SPLITS=3 means train on 2/3 and validate on 1/3 \n",
        "FOLDS=3  # train the model this many times (range 1 to SPLITS)"
      ],
      "execution_count": 2,
      "outputs": []
    },
    {
      "cell_type": "code",
      "metadata": {
        "colab": {
          "base_uri": "https://localhost:8080/"
        },
        "id": "lr7q90rxj2UE",
        "outputId": "dfeef242-1711-40d9-dbd4-619b61160982"
      },
      "source": [
        "import sys\n",
        "IN_COLAB = False\n",
        "try:\n",
        "    from google.colab import drive\n",
        "    IN_COLAB = True\n",
        "except:\n",
        "    pass\n",
        "if IN_COLAB:\n",
        "    print(\"On Google CoLab, mount cloud-local file, get our code from GitHub.\")\n",
        "    PATH='/content/drive/'\n",
        "    #drive.mount(PATH,force_remount=True)  # hardly ever need this\n",
        "    #drive.mount(PATH)    # Google will require login credentials\n",
        "    DATAPATH=PATH+'My Drive/data/'  # must end in \"/\"\n",
        "    import requests\n",
        "    r = requests.get('https://raw.githubusercontent.com/ShepherdCode/Soars2021/master/SimTools/RNA_describe.py')\n",
        "    with open('RNA_describe.py', 'w') as f:\n",
        "        f.write(r.text)  \n",
        "    from RNA_describe import ORF_counter\n",
        "    from RNA_describe import Random_Base_Oracle\n",
        "    r = requests.get('https://raw.githubusercontent.com/ShepherdCode/Soars2021/master/SimTools/RNA_prep.py')\n",
        "    with open('RNA_prep.py', 'w') as f:\n",
        "        f.write(r.text)  \n",
        "    from RNA_prep import prepare_inputs_len_x_alphabet\n",
        "else:\n",
        "        print(\"CoLab not working. On my PC, use relative paths.\")\n",
        "        DATAPATH='data/'  # must end in \"/\"\n",
        "        sys.path.append(\"..\") # append parent dir in order to use sibling dirs\n",
        "        from SimTools.RNA_describe import ORF_counter,Random_Base_Oracle\n",
        "        from SimTools.RNA_prep import prepare_inputs_len_x_alphabet\n",
        "\n",
        "MODELPATH=\"BestModel\"  # saved on cloud instance and lost after logout\n",
        "#MODELPATH=DATAPATH+MODELPATH  # saved on Google Drive but requires login\n"
      ],
      "execution_count": 3,
      "outputs": [
        {
          "output_type": "stream",
          "text": [
            "On Google CoLab, mount cloud-local file, get our code from GitHub.\n"
          ],
          "name": "stdout"
        }
      ]
    },
    {
      "cell_type": "code",
      "metadata": {
        "id": "EGDXH8Uwj2UM"
      },
      "source": [
        "from os import listdir\n",
        "import csv\n",
        "from zipfile import ZipFile\n",
        "\n",
        "import numpy as np\n",
        "import pandas as pd\n",
        "from scipy import stats  # mode\n",
        "\n",
        "from sklearn.preprocessing import StandardScaler\n",
        "from sklearn.model_selection import KFold\n",
        "from sklearn.model_selection import cross_val_score\n",
        "\n",
        "from keras.models import Sequential\n",
        "from keras.layers import Dense,Embedding,Dropout\n",
        "from keras.layers import Conv1D,Conv2D\n",
        "from keras.layers import GRU,LSTM\n",
        "from keras.layers import Flatten,TimeDistributed\n",
        "from keras.layers import MaxPooling1D,MaxPooling2D\n",
        "from keras.losses import BinaryCrossentropy\n",
        "# tf.keras.losses.BinaryCrossentropy\n",
        "\n",
        "import matplotlib.pyplot as plt\n",
        "from matplotlib import colors\n",
        "mycmap = colors.ListedColormap(['red','blue'])  # list color for label 0 then 1\n",
        "np.set_printoptions(precision=2)\n"
      ],
      "execution_count": 4,
      "outputs": []
    },
    {
      "cell_type": "code",
      "metadata": {
        "colab": {
          "base_uri": "https://localhost:8080/"
        },
        "id": "CUOG_jEvGtOm",
        "outputId": "7d174bdd-68f6-4f51-9fe7-73bb402e6871"
      },
      "source": [
        "rbo=Random_Base_Oracle(RNA_LEN,True)\n",
        "pc_all,nc_all = rbo.get_partitioned_sequences(CDS_LEN,10) # just testing\n",
        "pc_all,nc_all = rbo.get_partitioned_sequences(CDS_LEN,PC_SEQUENCES+PC_TESTS)\n",
        "print(\"Use\",len(pc_all),\"PC seqs\")\n",
        "print(\"Use\",len(nc_all),\"NC seqs\")"
      ],
      "execution_count": 5,
      "outputs": [
        {
          "output_type": "stream",
          "text": [
            "It took 53 trials to reach 10 per class.\n",
            "It took 360425 trials to reach 65000 per class.\n",
            "Use 65000 PC seqs\n",
            "Use 65000 NC seqs\n"
          ],
          "name": "stdout"
        }
      ]
    },
    {
      "cell_type": "code",
      "metadata": {
        "colab": {
          "base_uri": "https://localhost:8080/"
        },
        "id": "Q-BmSXi2jUyl",
        "outputId": "3572c0b9-052d-4902-f869-b5059fadd174"
      },
      "source": [
        "# Describe the sequences\n",
        "def describe_sequences(list_of_seq):\n",
        "    oc = ORF_counter()\n",
        "    num_seq = len(list_of_seq)\n",
        "    rna_lens = np.zeros(num_seq)\n",
        "    orf_lens = np.zeros(num_seq)\n",
        "    for i in range(0,num_seq):\n",
        "        rna_len = len(list_of_seq[i])\n",
        "        rna_lens[i] = rna_len\n",
        "        oc.set_sequence(list_of_seq[i])\n",
        "        orf_len = oc.get_max_orf_len()\n",
        "        orf_lens[i] = orf_len\n",
        "    print (\"Average RNA length:\",rna_lens.mean())\n",
        "    print (\"Average ORF length:\",orf_lens.mean())\n",
        "    \n",
        "print(\"Simulated sequences prior to adjustment:\")\n",
        "print(\"PC seqs\")\n",
        "describe_sequences(pc_all)\n",
        "print(\"NC seqs\")\n",
        "describe_sequences(nc_all)"
      ],
      "execution_count": 6,
      "outputs": [
        {
          "output_type": "stream",
          "text": [
            "Simulated sequences prior to adjustment:\n",
            "PC seqs\n",
            "Average RNA length: 256.0\n",
            "Average ORF length: 156.53146153846154\n",
            "NC seqs\n",
            "Average RNA length: 256.0\n",
            "Average ORF length: 67.44512307692308\n"
          ],
          "name": "stdout"
        }
      ]
    },
    {
      "cell_type": "code",
      "metadata": {
        "id": "iP1y7-J3jUys"
      },
      "source": [
        "pc_train=pc_all[:PC_SEQUENCES]\n",
        "nc_train=nc_all[:NC_SEQUENCES]\n",
        "pc_test=pc_all[PC_SEQUENCES:]\n",
        "nc_test=nc_all[NC_SEQUENCES:]"
      ],
      "execution_count": 7,
      "outputs": []
    },
    {
      "cell_type": "code",
      "metadata": {
        "colab": {
          "base_uri": "https://localhost:8080/"
        },
        "id": "CIpTrnH6j2US",
        "outputId": "9e3c4467-4802-4150-f0bb-6fa4addc249c"
      },
      "source": [
        "# Use code from our SimTools library.\n",
        "X,y = prepare_inputs_len_x_alphabet(pc_train,nc_train,ALPHABET) # shuffles\n",
        "print(\"Data ready.\")"
      ],
      "execution_count": 8,
      "outputs": [
        {
          "output_type": "stream",
          "text": [
            "Data ready.\n"
          ],
          "name": "stdout"
        }
      ]
    },
    {
      "cell_type": "code",
      "metadata": {
        "colab": {
          "base_uri": "https://localhost:8080/"
        },
        "id": "7NvrVU8ij2UU",
        "outputId": "d043598a-0cd9-4b67-e3a2-2ee164974e98"
      },
      "source": [
        "def make_DNN():\n",
        "    print(\"make_DNN\")\n",
        "    print(\"input shape:\",INPUT_SHAPE)\n",
        "    dnn = Sequential()\n",
        "    #dnn.add(Embedding(input_dim=INPUT_SHAPE,output_dim=INPUT_SHAPE)) \n",
        "    dnn.add(Conv1D(filters=FILTERS,kernel_size=WIDTH,strides=STRIDE,padding=\"same\",\n",
        "            input_shape=INPUT_SHAPE))\n",
        "    dnn.add(Conv1D(filters=FILTERS,kernel_size=WIDTH,strides=STRIDE,padding=\"same\"))\n",
        "    dnn.add(MaxPooling1D())\n",
        "    dnn.add(Conv1D(filters=FILTERS,kernel_size=WIDTH,strides=STRIDE,padding=\"same\"))\n",
        "    dnn.add(Conv1D(filters=FILTERS,kernel_size=WIDTH,strides=STRIDE,padding=\"same\")) \n",
        "    dnn.add(MaxPooling1D())\n",
        "    #dnn.add(TimeDistributed(Flatten()))\n",
        "    dnn.add(LSTM(CELLS,return_sequences=True))\n",
        "    dnn.add(LSTM(CELLS,return_sequences=False))\n",
        "    dnn.add(Dense(NEURONS,activation=\"sigmoid\",dtype=np.float32))   \n",
        "    dnn.add(Dropout(DROP_RATE))\n",
        "    dnn.add(Dense(1,activation=\"sigmoid\",dtype=np.float32))   \n",
        "    dnn.compile(optimizer='adam',\n",
        "                loss=BinaryCrossentropy(from_logits=False),\n",
        "                metrics=['accuracy'])   # add to default metrics=loss\n",
        "    #dnn.build(input_shape=INPUT_SHAPE)   \n",
        "    dnn.build()   \n",
        "    #ln_rate = tf.keras.optimizers.Adam(learning_rate = LN_RATE)\n",
        "    #bc=tf.keras.losses.BinaryCrossentropy(from_logits=False)\n",
        "    #model.compile(loss=bc, optimizer=ln_rate, metrics=[\"accuracy\"])\n",
        "    return dnn\n",
        "model = make_DNN()\n",
        "print(model.summary())"
      ],
      "execution_count": 9,
      "outputs": [
        {
          "output_type": "stream",
          "text": [
            "make_DNN\n",
            "input shape: (256, 4)\n",
            "Model: \"sequential\"\n",
            "_________________________________________________________________\n",
            "Layer (type)                 Output Shape              Param #   \n",
            "=================================================================\n",
            "conv1d (Conv1D)              (None, 256, 32)           416       \n",
            "_________________________________________________________________\n",
            "conv1d_1 (Conv1D)            (None, 256, 32)           3104      \n",
            "_________________________________________________________________\n",
            "max_pooling1d (MaxPooling1D) (None, 128, 32)           0         \n",
            "_________________________________________________________________\n",
            "conv1d_2 (Conv1D)            (None, 128, 32)           3104      \n",
            "_________________________________________________________________\n",
            "conv1d_3 (Conv1D)            (None, 128, 32)           3104      \n",
            "_________________________________________________________________\n",
            "max_pooling1d_1 (MaxPooling1 (None, 64, 32)            0         \n",
            "_________________________________________________________________\n",
            "lstm (LSTM)                  (None, 64, 128)           82432     \n",
            "_________________________________________________________________\n",
            "lstm_1 (LSTM)                (None, 128)               131584    \n",
            "_________________________________________________________________\n",
            "dense (Dense)                (None, 256)               33024     \n",
            "_________________________________________________________________\n",
            "dropout (Dropout)            (None, 256)               0         \n",
            "_________________________________________________________________\n",
            "dense_1 (Dense)              (None, 1)                 257       \n",
            "=================================================================\n",
            "Total params: 257,025\n",
            "Trainable params: 257,025\n",
            "Non-trainable params: 0\n",
            "_________________________________________________________________\n",
            "None\n"
          ],
          "name": "stdout"
        }
      ]
    },
    {
      "cell_type": "code",
      "metadata": {
        "id": "nlVF0hR3j2UW"
      },
      "source": [
        "from keras.callbacks import ModelCheckpoint\n",
        "def do_cross_validation(X,y):\n",
        "    cv_scores = []\n",
        "    fold=0\n",
        "    mycallbacks = [ModelCheckpoint(\n",
        "        filepath=MODELPATH, save_best_only=True, \n",
        "        monitor='val_accuracy', mode='max')]   \n",
        "    splitter = KFold(n_splits=SPLITS)  # this does not shuffle\n",
        "    for train_index,valid_index in splitter.split(X):\n",
        "        if fold < FOLDS:\n",
        "            fold += 1\n",
        "            X_train=X[train_index] # inputs for training\n",
        "            y_train=y[train_index] # labels for training\n",
        "            X_valid=X[valid_index] # inputs for validation\n",
        "            y_valid=y[valid_index] # labels for validation\n",
        "            print(\"MODEL\")\n",
        "            # Call constructor on each CV. Else, continually improves the same model.\n",
        "            model = model = make_DNN()\n",
        "            print(\"FIT\")  # model.fit() implements learning\n",
        "            start_time=time.time()\n",
        "            history=model.fit(X_train, y_train, \n",
        "                    epochs=EPOCHS, \n",
        "                    verbose=1,  # ascii art while learning\n",
        "                    callbacks=mycallbacks,   # called at end of each epoch\n",
        "                    validation_data=(X_valid,y_valid))\n",
        "            end_time=time.time()\n",
        "            elapsed_time=(end_time-start_time)                        \n",
        "            print(\"Fold %d, %d epochs, %d sec\"%(fold,EPOCHS,elapsed_time))\n",
        "            # print(history.history.keys())  # all these keys will be shown in figure\n",
        "            pd.DataFrame(history.history).plot(figsize=(8,5))\n",
        "            plt.grid(True)\n",
        "            plt.gca().set_ylim(0,1) # any losses > 1 will be off the scale\n",
        "            plt.show()\n"
      ],
      "execution_count": 10,
      "outputs": []
    },
    {
      "cell_type": "code",
      "metadata": {
        "colab": {
          "base_uri": "https://localhost:8080/",
          "height": 1000
        },
        "id": "9Ggt4EsSj2UY",
        "outputId": "9990ea96-9bef-409c-8f23-439236e0f548"
      },
      "source": [
        "do_cross_validation(X,y)"
      ],
      "execution_count": 11,
      "outputs": [
        {
          "output_type": "stream",
          "text": [
            "MODEL\n",
            "make_DNN\n",
            "input shape: (256, 4)\n",
            "FIT\n",
            "Epoch 1/50\n",
            "2667/2667 [==============================] - 86s 14ms/step - loss: 0.7010 - accuracy: 0.5049 - val_loss: 0.6933 - val_accuracy: 0.4995\n"
          ],
          "name": "stdout"
        },
        {
          "output_type": "stream",
          "text": [
            "WARNING:absl:Found untraced functions such as lstm_cell_2_layer_call_fn, lstm_cell_2_layer_call_and_return_conditional_losses, lstm_cell_3_layer_call_fn, lstm_cell_3_layer_call_and_return_conditional_losses, lstm_cell_2_layer_call_fn while saving (showing 5 of 10). These functions will not be directly callable after loading.\n"
          ],
          "name": "stderr"
        },
        {
          "output_type": "stream",
          "text": [
            "INFO:tensorflow:Assets written to: BestModel/assets\n"
          ],
          "name": "stdout"
        },
        {
          "output_type": "stream",
          "text": [
            "INFO:tensorflow:Assets written to: BestModel/assets\n"
          ],
          "name": "stderr"
        },
        {
          "output_type": "stream",
          "text": [
            "Epoch 2/50\n",
            "2667/2667 [==============================] - 36s 14ms/step - loss: 0.6962 - accuracy: 0.5084 - val_loss: 0.6916 - val_accuracy: 0.5220\n"
          ],
          "name": "stdout"
        },
        {
          "output_type": "stream",
          "text": [
            "WARNING:absl:Found untraced functions such as lstm_cell_2_layer_call_fn, lstm_cell_2_layer_call_and_return_conditional_losses, lstm_cell_3_layer_call_fn, lstm_cell_3_layer_call_and_return_conditional_losses, lstm_cell_2_layer_call_fn while saving (showing 5 of 10). These functions will not be directly callable after loading.\n"
          ],
          "name": "stderr"
        },
        {
          "output_type": "stream",
          "text": [
            "INFO:tensorflow:Assets written to: BestModel/assets\n"
          ],
          "name": "stdout"
        },
        {
          "output_type": "stream",
          "text": [
            "INFO:tensorflow:Assets written to: BestModel/assets\n"
          ],
          "name": "stderr"
        },
        {
          "output_type": "stream",
          "text": [
            "Epoch 3/50\n",
            "2667/2667 [==============================] - 36s 13ms/step - loss: 0.6913 - accuracy: 0.5229 - val_loss: 0.6900 - val_accuracy: 0.5292\n"
          ],
          "name": "stdout"
        },
        {
          "output_type": "stream",
          "text": [
            "WARNING:absl:Found untraced functions such as lstm_cell_2_layer_call_fn, lstm_cell_2_layer_call_and_return_conditional_losses, lstm_cell_3_layer_call_fn, lstm_cell_3_layer_call_and_return_conditional_losses, lstm_cell_2_layer_call_fn while saving (showing 5 of 10). These functions will not be directly callable after loading.\n"
          ],
          "name": "stderr"
        },
        {
          "output_type": "stream",
          "text": [
            "INFO:tensorflow:Assets written to: BestModel/assets\n"
          ],
          "name": "stdout"
        },
        {
          "output_type": "stream",
          "text": [
            "INFO:tensorflow:Assets written to: BestModel/assets\n"
          ],
          "name": "stderr"
        },
        {
          "output_type": "stream",
          "text": [
            "Epoch 4/50\n",
            "2667/2667 [==============================] - 36s 13ms/step - loss: 0.6734 - accuracy: 0.5756 - val_loss: 0.6438 - val_accuracy: 0.6277\n"
          ],
          "name": "stdout"
        },
        {
          "output_type": "stream",
          "text": [
            "WARNING:absl:Found untraced functions such as lstm_cell_2_layer_call_fn, lstm_cell_2_layer_call_and_return_conditional_losses, lstm_cell_3_layer_call_fn, lstm_cell_3_layer_call_and_return_conditional_losses, lstm_cell_2_layer_call_fn while saving (showing 5 of 10). These functions will not be directly callable after loading.\n"
          ],
          "name": "stderr"
        },
        {
          "output_type": "stream",
          "text": [
            "INFO:tensorflow:Assets written to: BestModel/assets\n"
          ],
          "name": "stdout"
        },
        {
          "output_type": "stream",
          "text": [
            "INFO:tensorflow:Assets written to: BestModel/assets\n"
          ],
          "name": "stderr"
        },
        {
          "output_type": "stream",
          "text": [
            "Epoch 5/50\n",
            "2667/2667 [==============================] - 36s 13ms/step - loss: 0.6285 - accuracy: 0.6493 - val_loss: 0.5939 - val_accuracy: 0.6788\n"
          ],
          "name": "stdout"
        },
        {
          "output_type": "stream",
          "text": [
            "WARNING:absl:Found untraced functions such as lstm_cell_2_layer_call_fn, lstm_cell_2_layer_call_and_return_conditional_losses, lstm_cell_3_layer_call_fn, lstm_cell_3_layer_call_and_return_conditional_losses, lstm_cell_2_layer_call_fn while saving (showing 5 of 10). These functions will not be directly callable after loading.\n"
          ],
          "name": "stderr"
        },
        {
          "output_type": "stream",
          "text": [
            "INFO:tensorflow:Assets written to: BestModel/assets\n"
          ],
          "name": "stdout"
        },
        {
          "output_type": "stream",
          "text": [
            "INFO:tensorflow:Assets written to: BestModel/assets\n"
          ],
          "name": "stderr"
        },
        {
          "output_type": "stream",
          "text": [
            "Epoch 6/50\n",
            "2667/2667 [==============================] - 36s 14ms/step - loss: 0.5990 - accuracy: 0.6748 - val_loss: 0.5897 - val_accuracy: 0.6805\n"
          ],
          "name": "stdout"
        },
        {
          "output_type": "stream",
          "text": [
            "WARNING:absl:Found untraced functions such as lstm_cell_2_layer_call_fn, lstm_cell_2_layer_call_and_return_conditional_losses, lstm_cell_3_layer_call_fn, lstm_cell_3_layer_call_and_return_conditional_losses, lstm_cell_2_layer_call_fn while saving (showing 5 of 10). These functions will not be directly callable after loading.\n"
          ],
          "name": "stderr"
        },
        {
          "output_type": "stream",
          "text": [
            "INFO:tensorflow:Assets written to: BestModel/assets\n"
          ],
          "name": "stdout"
        },
        {
          "output_type": "stream",
          "text": [
            "INFO:tensorflow:Assets written to: BestModel/assets\n"
          ],
          "name": "stderr"
        },
        {
          "output_type": "stream",
          "text": [
            "Epoch 7/50\n",
            "2667/2667 [==============================] - 36s 13ms/step - loss: 0.5929 - accuracy: 0.6804 - val_loss: 0.5933 - val_accuracy: 0.6785\n",
            "Epoch 8/50\n",
            "2667/2667 [==============================] - 36s 13ms/step - loss: 0.5885 - accuracy: 0.6843 - val_loss: 0.5973 - val_accuracy: 0.6746\n",
            "Epoch 9/50\n",
            "2667/2667 [==============================] - 37s 14ms/step - loss: 0.5828 - accuracy: 0.6880 - val_loss: 0.5802 - val_accuracy: 0.6866\n"
          ],
          "name": "stdout"
        },
        {
          "output_type": "stream",
          "text": [
            "WARNING:absl:Found untraced functions such as lstm_cell_2_layer_call_fn, lstm_cell_2_layer_call_and_return_conditional_losses, lstm_cell_3_layer_call_fn, lstm_cell_3_layer_call_and_return_conditional_losses, lstm_cell_2_layer_call_fn while saving (showing 5 of 10). These functions will not be directly callable after loading.\n"
          ],
          "name": "stderr"
        },
        {
          "output_type": "stream",
          "text": [
            "INFO:tensorflow:Assets written to: BestModel/assets\n"
          ],
          "name": "stdout"
        },
        {
          "output_type": "stream",
          "text": [
            "INFO:tensorflow:Assets written to: BestModel/assets\n"
          ],
          "name": "stderr"
        },
        {
          "output_type": "stream",
          "text": [
            "Epoch 10/50\n",
            "2667/2667 [==============================] - 36s 14ms/step - loss: 0.5763 - accuracy: 0.6908 - val_loss: 0.5779 - val_accuracy: 0.6907\n"
          ],
          "name": "stdout"
        },
        {
          "output_type": "stream",
          "text": [
            "WARNING:absl:Found untraced functions such as lstm_cell_2_layer_call_fn, lstm_cell_2_layer_call_and_return_conditional_losses, lstm_cell_3_layer_call_fn, lstm_cell_3_layer_call_and_return_conditional_losses, lstm_cell_2_layer_call_fn while saving (showing 5 of 10). These functions will not be directly callable after loading.\n"
          ],
          "name": "stderr"
        },
        {
          "output_type": "stream",
          "text": [
            "INFO:tensorflow:Assets written to: BestModel/assets\n"
          ],
          "name": "stdout"
        },
        {
          "output_type": "stream",
          "text": [
            "INFO:tensorflow:Assets written to: BestModel/assets\n"
          ],
          "name": "stderr"
        },
        {
          "output_type": "stream",
          "text": [
            "Epoch 11/50\n",
            "2667/2667 [==============================] - 36s 14ms/step - loss: 0.5701 - accuracy: 0.6965 - val_loss: 0.5776 - val_accuracy: 0.6916\n"
          ],
          "name": "stdout"
        },
        {
          "output_type": "stream",
          "text": [
            "WARNING:absl:Found untraced functions such as lstm_cell_2_layer_call_fn, lstm_cell_2_layer_call_and_return_conditional_losses, lstm_cell_3_layer_call_fn, lstm_cell_3_layer_call_and_return_conditional_losses, lstm_cell_2_layer_call_fn while saving (showing 5 of 10). These functions will not be directly callable after loading.\n"
          ],
          "name": "stderr"
        },
        {
          "output_type": "stream",
          "text": [
            "INFO:tensorflow:Assets written to: BestModel/assets\n"
          ],
          "name": "stdout"
        },
        {
          "output_type": "stream",
          "text": [
            "INFO:tensorflow:Assets written to: BestModel/assets\n"
          ],
          "name": "stderr"
        },
        {
          "output_type": "stream",
          "text": [
            "Epoch 12/50\n",
            "2667/2667 [==============================] - 36s 14ms/step - loss: 0.5688 - accuracy: 0.6993 - val_loss: 0.5750 - val_accuracy: 0.6938\n"
          ],
          "name": "stdout"
        },
        {
          "output_type": "stream",
          "text": [
            "WARNING:absl:Found untraced functions such as lstm_cell_2_layer_call_fn, lstm_cell_2_layer_call_and_return_conditional_losses, lstm_cell_3_layer_call_fn, lstm_cell_3_layer_call_and_return_conditional_losses, lstm_cell_2_layer_call_fn while saving (showing 5 of 10). These functions will not be directly callable after loading.\n"
          ],
          "name": "stderr"
        },
        {
          "output_type": "stream",
          "text": [
            "INFO:tensorflow:Assets written to: BestModel/assets\n"
          ],
          "name": "stdout"
        },
        {
          "output_type": "stream",
          "text": [
            "INFO:tensorflow:Assets written to: BestModel/assets\n"
          ],
          "name": "stderr"
        },
        {
          "output_type": "stream",
          "text": [
            "Epoch 13/50\n",
            "2667/2667 [==============================] - 36s 13ms/step - loss: 0.5622 - accuracy: 0.7038 - val_loss: 0.5747 - val_accuracy: 0.6946\n"
          ],
          "name": "stdout"
        },
        {
          "output_type": "stream",
          "text": [
            "WARNING:absl:Found untraced functions such as lstm_cell_2_layer_call_fn, lstm_cell_2_layer_call_and_return_conditional_losses, lstm_cell_3_layer_call_fn, lstm_cell_3_layer_call_and_return_conditional_losses, lstm_cell_2_layer_call_fn while saving (showing 5 of 10). These functions will not be directly callable after loading.\n"
          ],
          "name": "stderr"
        },
        {
          "output_type": "stream",
          "text": [
            "INFO:tensorflow:Assets written to: BestModel/assets\n"
          ],
          "name": "stdout"
        },
        {
          "output_type": "stream",
          "text": [
            "INFO:tensorflow:Assets written to: BestModel/assets\n"
          ],
          "name": "stderr"
        },
        {
          "output_type": "stream",
          "text": [
            "Epoch 14/50\n",
            "2667/2667 [==============================] - 36s 13ms/step - loss: 0.5596 - accuracy: 0.7066 - val_loss: 0.5768 - val_accuracy: 0.6923\n",
            "Epoch 15/50\n",
            "2667/2667 [==============================] - 35s 13ms/step - loss: 0.5530 - accuracy: 0.7089 - val_loss: 0.5805 - val_accuracy: 0.6945\n",
            "Epoch 16/50\n",
            "2667/2667 [==============================] - 36s 13ms/step - loss: 0.5467 - accuracy: 0.7170 - val_loss: 0.5760 - val_accuracy: 0.6925\n",
            "Epoch 17/50\n",
            "2667/2667 [==============================] - 36s 13ms/step - loss: 0.5439 - accuracy: 0.7163 - val_loss: 0.5972 - val_accuracy: 0.6895\n",
            "Epoch 18/50\n",
            "2667/2667 [==============================] - 36s 13ms/step - loss: 0.5348 - accuracy: 0.7247 - val_loss: 0.5820 - val_accuracy: 0.6900\n",
            "Epoch 19/50\n",
            "2667/2667 [==============================] - 36s 14ms/step - loss: 0.5264 - accuracy: 0.7311 - val_loss: 0.5778 - val_accuracy: 0.6916\n",
            "Epoch 20/50\n",
            "2667/2667 [==============================] - 36s 13ms/step - loss: 0.5212 - accuracy: 0.7352 - val_loss: 0.5812 - val_accuracy: 0.6895\n",
            "Epoch 21/50\n",
            "2667/2667 [==============================] - 36s 14ms/step - loss: 0.5134 - accuracy: 0.7390 - val_loss: 0.5899 - val_accuracy: 0.6884\n",
            "Epoch 22/50\n",
            "2667/2667 [==============================] - 36s 14ms/step - loss: 0.5069 - accuracy: 0.7423 - val_loss: 0.5885 - val_accuracy: 0.6936\n",
            "Epoch 23/50\n",
            "2667/2667 [==============================] - 36s 14ms/step - loss: 0.5008 - accuracy: 0.7466 - val_loss: 0.6076 - val_accuracy: 0.6917\n",
            "Epoch 24/50\n",
            "2667/2667 [==============================] - 36s 13ms/step - loss: 0.4916 - accuracy: 0.7537 - val_loss: 0.6237 - val_accuracy: 0.6904\n",
            "Epoch 25/50\n",
            "2667/2667 [==============================] - 36s 13ms/step - loss: 0.4849 - accuracy: 0.7567 - val_loss: 0.6031 - val_accuracy: 0.6877\n",
            "Epoch 26/50\n",
            "2667/2667 [==============================] - 36s 13ms/step - loss: 0.4741 - accuracy: 0.7659 - val_loss: 0.6206 - val_accuracy: 0.6866\n",
            "Epoch 27/50\n",
            "2667/2667 [==============================] - 36s 13ms/step - loss: 0.4642 - accuracy: 0.7707 - val_loss: 0.6057 - val_accuracy: 0.6888\n",
            "Epoch 28/50\n",
            "2667/2667 [==============================] - 36s 13ms/step - loss: 0.4504 - accuracy: 0.7791 - val_loss: 0.5965 - val_accuracy: 0.6949\n"
          ],
          "name": "stdout"
        },
        {
          "output_type": "stream",
          "text": [
            "WARNING:absl:Found untraced functions such as lstm_cell_2_layer_call_fn, lstm_cell_2_layer_call_and_return_conditional_losses, lstm_cell_3_layer_call_fn, lstm_cell_3_layer_call_and_return_conditional_losses, lstm_cell_2_layer_call_fn while saving (showing 5 of 10). These functions will not be directly callable after loading.\n"
          ],
          "name": "stderr"
        },
        {
          "output_type": "stream",
          "text": [
            "INFO:tensorflow:Assets written to: BestModel/assets\n"
          ],
          "name": "stdout"
        },
        {
          "output_type": "stream",
          "text": [
            "INFO:tensorflow:Assets written to: BestModel/assets\n"
          ],
          "name": "stderr"
        },
        {
          "output_type": "stream",
          "text": [
            "Epoch 29/50\n",
            "2667/2667 [==============================] - 35s 13ms/step - loss: 0.4444 - accuracy: 0.7862 - val_loss: 0.5572 - val_accuracy: 0.7212\n"
          ],
          "name": "stdout"
        },
        {
          "output_type": "stream",
          "text": [
            "WARNING:absl:Found untraced functions such as lstm_cell_2_layer_call_fn, lstm_cell_2_layer_call_and_return_conditional_losses, lstm_cell_3_layer_call_fn, lstm_cell_3_layer_call_and_return_conditional_losses, lstm_cell_2_layer_call_fn while saving (showing 5 of 10). These functions will not be directly callable after loading.\n"
          ],
          "name": "stderr"
        },
        {
          "output_type": "stream",
          "text": [
            "INFO:tensorflow:Assets written to: BestModel/assets\n"
          ],
          "name": "stdout"
        },
        {
          "output_type": "stream",
          "text": [
            "INFO:tensorflow:Assets written to: BestModel/assets\n"
          ],
          "name": "stderr"
        },
        {
          "output_type": "stream",
          "text": [
            "Epoch 30/50\n",
            "2667/2667 [==============================] - 36s 13ms/step - loss: 0.4336 - accuracy: 0.7935 - val_loss: 0.4950 - val_accuracy: 0.7609\n"
          ],
          "name": "stdout"
        },
        {
          "output_type": "stream",
          "text": [
            "WARNING:absl:Found untraced functions such as lstm_cell_2_layer_call_fn, lstm_cell_2_layer_call_and_return_conditional_losses, lstm_cell_3_layer_call_fn, lstm_cell_3_layer_call_and_return_conditional_losses, lstm_cell_2_layer_call_fn while saving (showing 5 of 10). These functions will not be directly callable after loading.\n"
          ],
          "name": "stderr"
        },
        {
          "output_type": "stream",
          "text": [
            "INFO:tensorflow:Assets written to: BestModel/assets\n"
          ],
          "name": "stdout"
        },
        {
          "output_type": "stream",
          "text": [
            "INFO:tensorflow:Assets written to: BestModel/assets\n"
          ],
          "name": "stderr"
        },
        {
          "output_type": "stream",
          "text": [
            "Epoch 31/50\n",
            "2667/2667 [==============================] - 36s 13ms/step - loss: 0.4508 - accuracy: 0.7849 - val_loss: 0.6840 - val_accuracy: 0.5575\n",
            "Epoch 32/50\n",
            "2667/2667 [==============================] - 36s 13ms/step - loss: 0.6630 - accuracy: 0.5947 - val_loss: 0.6303 - val_accuracy: 0.6441\n",
            "Epoch 33/50\n",
            "2667/2667 [==============================] - 36s 13ms/step - loss: 0.5262 - accuracy: 0.7357 - val_loss: 0.5025 - val_accuracy: 0.7565\n",
            "Epoch 34/50\n",
            "2667/2667 [==============================] - 36s 13ms/step - loss: 0.4113 - accuracy: 0.8100 - val_loss: 0.6542 - val_accuracy: 0.6136\n",
            "Epoch 35/50\n",
            "2667/2667 [==============================] - 35s 13ms/step - loss: 0.6146 - accuracy: 0.6548 - val_loss: 0.6572 - val_accuracy: 0.6084\n",
            "Epoch 36/50\n",
            "2667/2667 [==============================] - 36s 13ms/step - loss: 0.6228 - accuracy: 0.6471 - val_loss: 0.4214 - val_accuracy: 0.8055\n"
          ],
          "name": "stdout"
        },
        {
          "output_type": "stream",
          "text": [
            "WARNING:absl:Found untraced functions such as lstm_cell_2_layer_call_fn, lstm_cell_2_layer_call_and_return_conditional_losses, lstm_cell_3_layer_call_fn, lstm_cell_3_layer_call_and_return_conditional_losses, lstm_cell_2_layer_call_fn while saving (showing 5 of 10). These functions will not be directly callable after loading.\n"
          ],
          "name": "stderr"
        },
        {
          "output_type": "stream",
          "text": [
            "INFO:tensorflow:Assets written to: BestModel/assets\n"
          ],
          "name": "stdout"
        },
        {
          "output_type": "stream",
          "text": [
            "INFO:tensorflow:Assets written to: BestModel/assets\n"
          ],
          "name": "stderr"
        },
        {
          "output_type": "stream",
          "text": [
            "Epoch 37/50\n",
            "2667/2667 [==============================] - 35s 13ms/step - loss: 0.4937 - accuracy: 0.7554 - val_loss: 0.3449 - val_accuracy: 0.8497\n"
          ],
          "name": "stdout"
        },
        {
          "output_type": "stream",
          "text": [
            "WARNING:absl:Found untraced functions such as lstm_cell_2_layer_call_fn, lstm_cell_2_layer_call_and_return_conditional_losses, lstm_cell_3_layer_call_fn, lstm_cell_3_layer_call_and_return_conditional_losses, lstm_cell_2_layer_call_fn while saving (showing 5 of 10). These functions will not be directly callable after loading.\n"
          ],
          "name": "stderr"
        },
        {
          "output_type": "stream",
          "text": [
            "INFO:tensorflow:Assets written to: BestModel/assets\n"
          ],
          "name": "stdout"
        },
        {
          "output_type": "stream",
          "text": [
            "INFO:tensorflow:Assets written to: BestModel/assets\n"
          ],
          "name": "stderr"
        },
        {
          "output_type": "stream",
          "text": [
            "Epoch 38/50\n",
            "2667/2667 [==============================] - 36s 13ms/step - loss: 0.4128 - accuracy: 0.7995 - val_loss: 0.3317 - val_accuracy: 0.8575\n"
          ],
          "name": "stdout"
        },
        {
          "output_type": "stream",
          "text": [
            "WARNING:absl:Found untraced functions such as lstm_cell_2_layer_call_fn, lstm_cell_2_layer_call_and_return_conditional_losses, lstm_cell_3_layer_call_fn, lstm_cell_3_layer_call_and_return_conditional_losses, lstm_cell_2_layer_call_fn while saving (showing 5 of 10). These functions will not be directly callable after loading.\n"
          ],
          "name": "stderr"
        },
        {
          "output_type": "stream",
          "text": [
            "INFO:tensorflow:Assets written to: BestModel/assets\n"
          ],
          "name": "stdout"
        },
        {
          "output_type": "stream",
          "text": [
            "INFO:tensorflow:Assets written to: BestModel/assets\n"
          ],
          "name": "stderr"
        },
        {
          "output_type": "stream",
          "text": [
            "Epoch 39/50\n",
            "2667/2667 [==============================] - 36s 13ms/step - loss: 0.3136 - accuracy: 0.8654 - val_loss: 0.2411 - val_accuracy: 0.9028\n"
          ],
          "name": "stdout"
        },
        {
          "output_type": "stream",
          "text": [
            "WARNING:absl:Found untraced functions such as lstm_cell_2_layer_call_fn, lstm_cell_2_layer_call_and_return_conditional_losses, lstm_cell_3_layer_call_fn, lstm_cell_3_layer_call_and_return_conditional_losses, lstm_cell_2_layer_call_fn while saving (showing 5 of 10). These functions will not be directly callable after loading.\n"
          ],
          "name": "stderr"
        },
        {
          "output_type": "stream",
          "text": [
            "INFO:tensorflow:Assets written to: BestModel/assets\n"
          ],
          "name": "stdout"
        },
        {
          "output_type": "stream",
          "text": [
            "INFO:tensorflow:Assets written to: BestModel/assets\n"
          ],
          "name": "stderr"
        },
        {
          "output_type": "stream",
          "text": [
            "Epoch 40/50\n",
            "2667/2667 [==============================] - 37s 14ms/step - loss: 0.3218 - accuracy: 0.8619 - val_loss: 0.2623 - val_accuracy: 0.8911\n",
            "Epoch 41/50\n",
            "2667/2667 [==============================] - 38s 14ms/step - loss: 0.2503 - accuracy: 0.8965 - val_loss: 0.1781 - val_accuracy: 0.9316\n"
          ],
          "name": "stdout"
        },
        {
          "output_type": "stream",
          "text": [
            "WARNING:absl:Found untraced functions such as lstm_cell_2_layer_call_fn, lstm_cell_2_layer_call_and_return_conditional_losses, lstm_cell_3_layer_call_fn, lstm_cell_3_layer_call_and_return_conditional_losses, lstm_cell_2_layer_call_fn while saving (showing 5 of 10). These functions will not be directly callable after loading.\n"
          ],
          "name": "stderr"
        },
        {
          "output_type": "stream",
          "text": [
            "INFO:tensorflow:Assets written to: BestModel/assets\n"
          ],
          "name": "stdout"
        },
        {
          "output_type": "stream",
          "text": [
            "INFO:tensorflow:Assets written to: BestModel/assets\n"
          ],
          "name": "stderr"
        },
        {
          "output_type": "stream",
          "text": [
            "Epoch 42/50\n",
            "2667/2667 [==============================] - 36s 13ms/step - loss: 0.2779 - accuracy: 0.8588 - val_loss: 0.5969 - val_accuracy: 0.6789\n",
            "Epoch 43/50\n",
            "2667/2667 [==============================] - 36s 13ms/step - loss: 0.4584 - accuracy: 0.7747 - val_loss: 0.3984 - val_accuracy: 0.8302\n",
            "Epoch 44/50\n",
            "2667/2667 [==============================] - 36s 13ms/step - loss: 0.3041 - accuracy: 0.8681 - val_loss: 0.1895 - val_accuracy: 0.9239\n",
            "Epoch 45/50\n",
            "2667/2667 [==============================] - 36s 13ms/step - loss: 0.1610 - accuracy: 0.9385 - val_loss: 0.1185 - val_accuracy: 0.9558\n"
          ],
          "name": "stdout"
        },
        {
          "output_type": "stream",
          "text": [
            "WARNING:absl:Found untraced functions such as lstm_cell_2_layer_call_fn, lstm_cell_2_layer_call_and_return_conditional_losses, lstm_cell_3_layer_call_fn, lstm_cell_3_layer_call_and_return_conditional_losses, lstm_cell_2_layer_call_fn while saving (showing 5 of 10). These functions will not be directly callable after loading.\n"
          ],
          "name": "stderr"
        },
        {
          "output_type": "stream",
          "text": [
            "INFO:tensorflow:Assets written to: BestModel/assets\n"
          ],
          "name": "stdout"
        },
        {
          "output_type": "stream",
          "text": [
            "INFO:tensorflow:Assets written to: BestModel/assets\n"
          ],
          "name": "stderr"
        },
        {
          "output_type": "stream",
          "text": [
            "Epoch 46/50\n",
            "2667/2667 [==============================] - 36s 13ms/step - loss: 0.1384 - accuracy: 0.9475 - val_loss: 0.5502 - val_accuracy: 0.7229\n",
            "Epoch 47/50\n",
            "2667/2667 [==============================] - 36s 13ms/step - loss: 0.4216 - accuracy: 0.7865 - val_loss: 0.1412 - val_accuracy: 0.9470\n",
            "Epoch 48/50\n",
            "2667/2667 [==============================] - 36s 13ms/step - loss: 0.1498 - accuracy: 0.9433 - val_loss: 0.1090 - val_accuracy: 0.9595\n"
          ],
          "name": "stdout"
        },
        {
          "output_type": "stream",
          "text": [
            "WARNING:absl:Found untraced functions such as lstm_cell_2_layer_call_fn, lstm_cell_2_layer_call_and_return_conditional_losses, lstm_cell_3_layer_call_fn, lstm_cell_3_layer_call_and_return_conditional_losses, lstm_cell_2_layer_call_fn while saving (showing 5 of 10). These functions will not be directly callable after loading.\n"
          ],
          "name": "stderr"
        },
        {
          "output_type": "stream",
          "text": [
            "INFO:tensorflow:Assets written to: BestModel/assets\n"
          ],
          "name": "stdout"
        },
        {
          "output_type": "stream",
          "text": [
            "INFO:tensorflow:Assets written to: BestModel/assets\n"
          ],
          "name": "stderr"
        },
        {
          "output_type": "stream",
          "text": [
            "Epoch 49/50\n",
            "2667/2667 [==============================] - 36s 14ms/step - loss: 0.0994 - accuracy: 0.9632 - val_loss: 0.0896 - val_accuracy: 0.9657\n"
          ],
          "name": "stdout"
        },
        {
          "output_type": "stream",
          "text": [
            "WARNING:absl:Found untraced functions such as lstm_cell_2_layer_call_fn, lstm_cell_2_layer_call_and_return_conditional_losses, lstm_cell_3_layer_call_fn, lstm_cell_3_layer_call_and_return_conditional_losses, lstm_cell_2_layer_call_fn while saving (showing 5 of 10). These functions will not be directly callable after loading.\n"
          ],
          "name": "stderr"
        },
        {
          "output_type": "stream",
          "text": [
            "INFO:tensorflow:Assets written to: BestModel/assets\n"
          ],
          "name": "stdout"
        },
        {
          "output_type": "stream",
          "text": [
            "INFO:tensorflow:Assets written to: BestModel/assets\n"
          ],
          "name": "stderr"
        },
        {
          "output_type": "stream",
          "text": [
            "Epoch 50/50\n",
            "2667/2667 [==============================] - 36s 13ms/step - loss: 0.2467 - accuracy: 0.8975 - val_loss: 0.1036 - val_accuracy: 0.9630\n",
            "Fold 1, 50 epochs, 2023 sec\n"
          ],
          "name": "stdout"
        },
        {
          "output_type": "display_data",
          "data": {
            "image/png": "[encoded data removed]",
            "text/plain": [
              "<Figure size 576x360 with 1 Axes>"
            ]
          },
          "metadata": {
            "tags": [],
            "needs_background": "light"
          }
        },
        {
          "output_type": "stream",
          "text": [
            "MODEL\n",
            "make_DNN\n",
            "input shape: (256, 4)\n",
            "FIT\n",
            "Epoch 1/50\n",
            "2667/2667 [==============================] - 40s 14ms/step - loss: 0.7012 - accuracy: 0.5055 - val_loss: 0.6976 - val_accuracy: 0.4989\n",
            "Epoch 2/50\n",
            "2667/2667 [==============================] - 36s 14ms/step - loss: 0.6962 - accuracy: 0.5016 - val_loss: 0.6933 - val_accuracy: 0.5028\n",
            "Epoch 3/50\n",
            "2667/2667 [==============================] - 38s 14ms/step - loss: 0.6935 - accuracy: 0.5127 - val_loss: 0.6929 - val_accuracy: 0.5206\n",
            "Epoch 4/50\n",
            "2667/2667 [==============================] - 38s 14ms/step - loss: 0.6925 - accuracy: 0.5112 - val_loss: 0.6900 - val_accuracy: 0.5328\n",
            "Epoch 5/50\n",
            "2667/2667 [==============================] - 37s 14ms/step - loss: 0.6909 - accuracy: 0.5295 - val_loss: 0.6899 - val_accuracy: 0.5331\n",
            "Epoch 6/50\n",
            "2667/2667 [==============================] - 37s 14ms/step - loss: 0.6773 - accuracy: 0.5650 - val_loss: 0.6318 - val_accuracy: 0.6401\n",
            "Epoch 7/50\n",
            "2667/2667 [==============================] - 37s 14ms/step - loss: 0.6356 - accuracy: 0.6412 - val_loss: 0.6296 - val_accuracy: 0.6463\n",
            "Epoch 8/50\n",
            "2667/2667 [==============================] - 37s 14ms/step - loss: 0.6250 - accuracy: 0.6498 - val_loss: 0.6288 - val_accuracy: 0.6477\n",
            "Epoch 9/50\n",
            "2667/2667 [==============================] - 37s 14ms/step - loss: 0.6273 - accuracy: 0.6458 - val_loss: 0.6233 - val_accuracy: 0.6499\n",
            "Epoch 10/50\n",
            "2667/2667 [==============================] - 37s 14ms/step - loss: 0.6223 - accuracy: 0.6536 - val_loss: 0.6261 - val_accuracy: 0.6462\n",
            "Epoch 11/50\n",
            "2667/2667 [==============================] - 37s 14ms/step - loss: 0.6231 - accuracy: 0.6490 - val_loss: 0.6306 - val_accuracy: 0.6422\n",
            "Epoch 12/50\n",
            "2667/2667 [==============================] - 37s 14ms/step - loss: 0.6224 - accuracy: 0.6536 - val_loss: 0.6284 - val_accuracy: 0.6429\n",
            "Epoch 13/50\n",
            "2667/2667 [==============================] - 36s 14ms/step - loss: 0.6199 - accuracy: 0.6543 - val_loss: 0.6191 - val_accuracy: 0.6542\n",
            "Epoch 14/50\n",
            "2667/2667 [==============================] - 36s 14ms/step - loss: 0.6205 - accuracy: 0.6537 - val_loss: 0.6198 - val_accuracy: 0.6526\n",
            "Epoch 15/50\n",
            "2667/2667 [==============================] - 36s 14ms/step - loss: 0.6145 - accuracy: 0.6593 - val_loss: 0.6061 - val_accuracy: 0.6707\n",
            "Epoch 16/50\n",
            "2667/2667 [==============================] - 36s 14ms/step - loss: 0.6018 - accuracy: 0.6723 - val_loss: 0.6039 - val_accuracy: 0.6705\n",
            "Epoch 17/50\n",
            "2667/2667 [==============================] - 36s 14ms/step - loss: 0.5922 - accuracy: 0.6806 - val_loss: 0.5900 - val_accuracy: 0.6837\n",
            "Epoch 18/50\n",
            "2667/2667 [==============================] - 37s 14ms/step - loss: 0.5857 - accuracy: 0.6839 - val_loss: 0.5959 - val_accuracy: 0.6766\n",
            "Epoch 19/50\n",
            "2667/2667 [==============================] - 37s 14ms/step - loss: 0.5842 - accuracy: 0.6858 - val_loss: 0.5890 - val_accuracy: 0.6809\n",
            "Epoch 20/50\n",
            "2667/2667 [==============================] - 37s 14ms/step - loss: 0.5852 - accuracy: 0.6840 - val_loss: 0.5889 - val_accuracy: 0.6817\n",
            "Epoch 21/50\n",
            "2667/2667 [==============================] - 37s 14ms/step - loss: 0.5832 - accuracy: 0.6860 - val_loss: 0.5833 - val_accuracy: 0.6849\n",
            "Epoch 22/50\n",
            "2667/2667 [==============================] - 37s 14ms/step - loss: 0.5791 - accuracy: 0.6911 - val_loss: 0.6176 - val_accuracy: 0.6565\n",
            "Epoch 23/50\n",
            "2667/2667 [==============================] - 37s 14ms/step - loss: 0.5842 - accuracy: 0.6880 - val_loss: 0.5821 - val_accuracy: 0.6854\n",
            "Epoch 24/50\n",
            "2667/2667 [==============================] - 37s 14ms/step - loss: 0.5835 - accuracy: 0.6869 - val_loss: 0.5857 - val_accuracy: 0.6858\n",
            "Epoch 25/50\n",
            "2667/2667 [==============================] - 37s 14ms/step - loss: 0.5773 - accuracy: 0.6924 - val_loss: 0.5896 - val_accuracy: 0.6793\n",
            "Epoch 26/50\n",
            "2667/2667 [==============================] - 38s 14ms/step - loss: 0.5775 - accuracy: 0.6919 - val_loss: 0.5880 - val_accuracy: 0.6839\n",
            "Epoch 27/50\n",
            "2667/2667 [==============================] - 37s 14ms/step - loss: 0.5787 - accuracy: 0.6919 - val_loss: 0.5867 - val_accuracy: 0.6839\n",
            "Epoch 28/50\n",
            "2667/2667 [==============================] - 38s 14ms/step - loss: 0.5737 - accuracy: 0.6936 - val_loss: 0.5957 - val_accuracy: 0.6769\n",
            "Epoch 29/50\n",
            "2667/2667 [==============================] - 37s 14ms/step - loss: 0.5765 - accuracy: 0.6918 - val_loss: 0.5962 - val_accuracy: 0.6758\n",
            "Epoch 30/50\n",
            "2667/2667 [==============================] - 37s 14ms/step - loss: 0.5756 - accuracy: 0.6936 - val_loss: 0.5855 - val_accuracy: 0.6851\n",
            "Epoch 31/50\n",
            "2667/2667 [==============================] - 37s 14ms/step - loss: 0.5764 - accuracy: 0.6910 - val_loss: 0.5897 - val_accuracy: 0.6822\n",
            "Epoch 32/50\n",
            "2667/2667 [==============================] - 37s 14ms/step - loss: 0.5776 - accuracy: 0.6917 - val_loss: 0.5819 - val_accuracy: 0.6886\n",
            "Epoch 33/50\n",
            "2667/2667 [==============================] - 37s 14ms/step - loss: 0.5685 - accuracy: 0.6997 - val_loss: 0.5788 - val_accuracy: 0.6916\n",
            "Epoch 34/50\n",
            "2667/2667 [==============================] - 37s 14ms/step - loss: 0.5519 - accuracy: 0.7128 - val_loss: 0.5239 - val_accuracy: 0.7394\n",
            "Epoch 35/50\n",
            "2667/2667 [==============================] - 37s 14ms/step - loss: 0.4981 - accuracy: 0.7582 - val_loss: 0.4173 - val_accuracy: 0.8151\n",
            "Epoch 36/50\n",
            "2667/2667 [==============================] - 37s 14ms/step - loss: 0.4028 - accuracy: 0.8231 - val_loss: 0.4028 - val_accuracy: 0.8196\n",
            "Epoch 37/50\n",
            "2667/2667 [==============================] - 37s 14ms/step - loss: 0.3806 - accuracy: 0.8361 - val_loss: 0.3514 - val_accuracy: 0.8504\n",
            "Epoch 38/50\n",
            "2667/2667 [==============================] - 36s 14ms/step - loss: 0.3192 - accuracy: 0.8685 - val_loss: 0.3062 - val_accuracy: 0.8744\n",
            "Epoch 39/50\n",
            "2667/2667 [==============================] - 36s 14ms/step - loss: 0.3878 - accuracy: 0.8251 - val_loss: 0.3044 - val_accuracy: 0.8749\n",
            "Epoch 40/50\n",
            "2667/2667 [==============================] - 37s 14ms/step - loss: 0.2853 - accuracy: 0.8847 - val_loss: 0.2483 - val_accuracy: 0.9026\n",
            "Epoch 41/50\n",
            "2667/2667 [==============================] - 37s 14ms/step - loss: 0.2410 - accuracy: 0.9074 - val_loss: 0.2402 - val_accuracy: 0.9055\n",
            "Epoch 42/50\n",
            "2667/2667 [==============================] - 37s 14ms/step - loss: 0.2154 - accuracy: 0.9176 - val_loss: 0.2305 - val_accuracy: 0.9125\n",
            "Epoch 43/50\n",
            "2667/2667 [==============================] - 37s 14ms/step - loss: 0.2127 - accuracy: 0.9203 - val_loss: 0.1865 - val_accuracy: 0.9292\n",
            "Epoch 44/50\n",
            "2667/2667 [==============================] - 37s 14ms/step - loss: 0.2077 - accuracy: 0.9216 - val_loss: 0.1693 - val_accuracy: 0.9371\n",
            "Epoch 45/50\n",
            "2667/2667 [==============================] - 37s 14ms/step - loss: 0.1800 - accuracy: 0.9330 - val_loss: 0.4956 - val_accuracy: 0.7917\n",
            "Epoch 46/50\n",
            "2667/2667 [==============================] - 37s 14ms/step - loss: 0.1869 - accuracy: 0.9302 - val_loss: 0.1469 - val_accuracy: 0.9478\n",
            "Epoch 47/50\n",
            "2667/2667 [==============================] - 37s 14ms/step - loss: 0.1636 - accuracy: 0.9407 - val_loss: 0.1633 - val_accuracy: 0.9436\n",
            "Epoch 48/50\n",
            "2667/2667 [==============================] - 37s 14ms/step - loss: 0.3405 - accuracy: 0.8484 - val_loss: 0.3779 - val_accuracy: 0.8405\n",
            "Epoch 49/50\n",
            "2667/2667 [==============================] - 37s 14ms/step - loss: 0.2858 - accuracy: 0.8868 - val_loss: 0.1621 - val_accuracy: 0.9442\n",
            "Epoch 50/50\n",
            "2667/2667 [==============================] - 37s 14ms/step - loss: 0.1731 - accuracy: 0.9378 - val_loss: 0.1694 - val_accuracy: 0.9429\n",
            "Fold 2, 50 epochs, 1884 sec\n"
          ],
          "name": "stdout"
        },
        {
          "output_type": "display_data",
          "data": {
            "image/png": "[encoded data removed]",
            "text/plain": [
              "<Figure size 576x360 with 1 Axes>"
            ]
          },
          "metadata": {
            "tags": [],
            "needs_background": "light"
          }
        },
        {
          "output_type": "stream",
          "text": [
            "MODEL\n",
            "make_DNN\n",
            "input shape: (256, 4)\n",
            "FIT\n",
            "Epoch 1/50\n",
            "2667/2667 [==============================] - 42s 14ms/step - loss: 0.7010 - accuracy: 0.5048 - val_loss: 0.6984 - val_accuracy: 0.4995\n",
            "Epoch 2/50\n",
            "2667/2667 [==============================] - 37s 14ms/step - loss: 0.6969 - accuracy: 0.5045 - val_loss: 0.6924 - val_accuracy: 0.5154\n",
            "Epoch 3/50\n",
            "2667/2667 [==============================] - 37s 14ms/step - loss: 0.6934 - accuracy: 0.5077 - val_loss: 0.6920 - val_accuracy: 0.5192\n",
            "Epoch 4/50\n",
            "2667/2667 [==============================] - 37s 14ms/step - loss: 0.6908 - accuracy: 0.5308 - val_loss: 0.6771 - val_accuracy: 0.5778\n",
            "Epoch 5/50\n",
            "2667/2667 [==============================] - 37s 14ms/step - loss: 0.6653 - accuracy: 0.5919 - val_loss: 0.6221 - val_accuracy: 0.6527\n",
            "Epoch 6/50\n",
            "2667/2667 [==============================] - 36s 14ms/step - loss: 0.6081 - accuracy: 0.6661 - val_loss: 0.6012 - val_accuracy: 0.6710\n",
            "Epoch 7/50\n",
            "2667/2667 [==============================] - 37s 14ms/step - loss: 0.5911 - accuracy: 0.6777 - val_loss: 0.5865 - val_accuracy: 0.6832\n",
            "Epoch 8/50\n",
            "2667/2667 [==============================] - 37s 14ms/step - loss: 0.5847 - accuracy: 0.6851 - val_loss: 0.5999 - val_accuracy: 0.6691\n",
            "Epoch 9/50\n",
            "2667/2667 [==============================] - 37s 14ms/step - loss: 0.5831 - accuracy: 0.6863 - val_loss: 0.5937 - val_accuracy: 0.6757\n",
            "Epoch 10/50\n",
            "2667/2667 [==============================] - 37s 14ms/step - loss: 0.5813 - accuracy: 0.6873 - val_loss: 0.5858 - val_accuracy: 0.6842\n",
            "Epoch 11/50\n",
            "2667/2667 [==============================] - 37s 14ms/step - loss: 0.5782 - accuracy: 0.6897 - val_loss: 0.5839 - val_accuracy: 0.6853\n",
            "Epoch 12/50\n",
            "2667/2667 [==============================] - 37s 14ms/step - loss: 0.5763 - accuracy: 0.6918 - val_loss: 0.5845 - val_accuracy: 0.6845\n",
            "Epoch 13/50\n",
            "2667/2667 [==============================] - 37s 14ms/step - loss: 0.5762 - accuracy: 0.6927 - val_loss: 0.5817 - val_accuracy: 0.6870\n",
            "Epoch 14/50\n",
            "2667/2667 [==============================] - 37s 14ms/step - loss: 0.5775 - accuracy: 0.6894 - val_loss: 0.5857 - val_accuracy: 0.6840\n",
            "Epoch 15/50\n",
            "2667/2667 [==============================] - 37s 14ms/step - loss: 0.5778 - accuracy: 0.6913 - val_loss: 0.5796 - val_accuracy: 0.6896\n",
            "Epoch 16/50\n",
            "2667/2667 [==============================] - 37s 14ms/step - loss: 0.5720 - accuracy: 0.6970 - val_loss: 0.5885 - val_accuracy: 0.6839\n",
            "Epoch 17/50\n",
            "2667/2667 [==============================] - 37s 14ms/step - loss: 0.5747 - accuracy: 0.6917 - val_loss: 0.5862 - val_accuracy: 0.6840\n",
            "Epoch 18/50\n",
            "2667/2667 [==============================] - 37s 14ms/step - loss: 0.5750 - accuracy: 0.6929 - val_loss: 0.5789 - val_accuracy: 0.6894\n",
            "Epoch 19/50\n",
            "2667/2667 [==============================] - 37s 14ms/step - loss: 0.5716 - accuracy: 0.6949 - val_loss: 0.5782 - val_accuracy: 0.6894\n",
            "Epoch 20/50\n",
            "2667/2667 [==============================] - 37s 14ms/step - loss: 0.5754 - accuracy: 0.6939 - val_loss: 0.5828 - val_accuracy: 0.6863\n",
            "Epoch 21/50\n",
            "2667/2667 [==============================] - 37s 14ms/step - loss: 0.5705 - accuracy: 0.6952 - val_loss: 0.5800 - val_accuracy: 0.6897\n",
            "Epoch 22/50\n",
            "2667/2667 [==============================] - 36s 14ms/step - loss: 0.5706 - accuracy: 0.6968 - val_loss: 0.5794 - val_accuracy: 0.6883\n",
            "Epoch 23/50\n",
            "2667/2667 [==============================] - 37s 14ms/step - loss: 0.5715 - accuracy: 0.6947 - val_loss: 0.5831 - val_accuracy: 0.6858\n",
            "Epoch 24/50\n",
            "2667/2667 [==============================] - 37s 14ms/step - loss: 0.5731 - accuracy: 0.6943 - val_loss: 0.5945 - val_accuracy: 0.6766\n",
            "Epoch 25/50\n",
            "2667/2667 [==============================] - 37s 14ms/step - loss: 0.5799 - accuracy: 0.6901 - val_loss: 0.5839 - val_accuracy: 0.6862\n",
            "Epoch 26/50\n",
            "2667/2667 [==============================] - 37s 14ms/step - loss: 0.5728 - accuracy: 0.6933 - val_loss: 0.5879 - val_accuracy: 0.6830\n",
            "Epoch 27/50\n",
            "2667/2667 [==============================] - 37s 14ms/step - loss: 0.5710 - accuracy: 0.6988 - val_loss: 0.5828 - val_accuracy: 0.6875\n",
            "Epoch 28/50\n",
            "2667/2667 [==============================] - 37s 14ms/step - loss: 0.5809 - accuracy: 0.6868 - val_loss: 0.5831 - val_accuracy: 0.6871\n",
            "Epoch 29/50\n",
            "2667/2667 [==============================] - 37s 14ms/step - loss: 0.5728 - accuracy: 0.6944 - val_loss: 0.5810 - val_accuracy: 0.6908\n",
            "Epoch 30/50\n",
            "2667/2667 [==============================] - 37s 14ms/step - loss: 0.5734 - accuracy: 0.6947 - val_loss: 0.5841 - val_accuracy: 0.6867\n",
            "Epoch 31/50\n",
            "2667/2667 [==============================] - 37s 14ms/step - loss: 0.5726 - accuracy: 0.6932 - val_loss: 0.5932 - val_accuracy: 0.6812\n",
            "Epoch 32/50\n",
            "2667/2667 [==============================] - 37s 14ms/step - loss: 0.5748 - accuracy: 0.6957 - val_loss: 0.5833 - val_accuracy: 0.6863\n",
            "Epoch 33/50\n",
            "2667/2667 [==============================] - 37s 14ms/step - loss: 0.5767 - accuracy: 0.6927 - val_loss: 0.5820 - val_accuracy: 0.6872\n",
            "Epoch 34/50\n",
            "2667/2667 [==============================] - 37s 14ms/step - loss: 0.5745 - accuracy: 0.6956 - val_loss: 0.5868 - val_accuracy: 0.6856\n",
            "Epoch 35/50\n",
            "2667/2667 [==============================] - 37s 14ms/step - loss: 0.5730 - accuracy: 0.6940 - val_loss: 0.5824 - val_accuracy: 0.6875\n",
            "Epoch 36/50\n",
            "2667/2667 [==============================] - 37s 14ms/step - loss: 0.5710 - accuracy: 0.6961 - val_loss: 0.5875 - val_accuracy: 0.6806\n",
            "Epoch 37/50\n",
            "2667/2667 [==============================] - 37s 14ms/step - loss: 0.5756 - accuracy: 0.6940 - val_loss: 0.5916 - val_accuracy: 0.6802\n",
            "Epoch 38/50\n",
            "2667/2667 [==============================] - 36s 13ms/step - loss: 0.5713 - accuracy: 0.6924 - val_loss: 0.5848 - val_accuracy: 0.6857\n",
            "Epoch 39/50\n",
            "2667/2667 [==============================] - 36s 14ms/step - loss: 0.5688 - accuracy: 0.6966 - val_loss: 0.5886 - val_accuracy: 0.6816\n",
            "Epoch 40/50\n",
            "2667/2667 [==============================] - 37s 14ms/step - loss: 0.5722 - accuracy: 0.6950 - val_loss: 0.5879 - val_accuracy: 0.6824\n",
            "Epoch 41/50\n",
            "2667/2667 [==============================] - 37s 14ms/step - loss: 0.5722 - accuracy: 0.6966 - val_loss: 0.5845 - val_accuracy: 0.6847\n",
            "Epoch 42/50\n",
            "2667/2667 [==============================] - 36s 14ms/step - loss: 0.5762 - accuracy: 0.6919 - val_loss: 0.5900 - val_accuracy: 0.6839\n",
            "Epoch 43/50\n",
            "2667/2667 [==============================] - 36s 14ms/step - loss: 0.5770 - accuracy: 0.6917 - val_loss: 0.5863 - val_accuracy: 0.6848\n",
            "Epoch 44/50\n",
            "2667/2667 [==============================] - 36s 14ms/step - loss: 0.5735 - accuracy: 0.6939 - val_loss: 0.5877 - val_accuracy: 0.6840\n",
            "Epoch 45/50\n",
            "2667/2667 [==============================] - 36s 14ms/step - loss: 0.5833 - accuracy: 0.6888 - val_loss: 0.5861 - val_accuracy: 0.6842\n",
            "Epoch 46/50\n",
            "2667/2667 [==============================] - 36s 14ms/step - loss: 0.5786 - accuracy: 0.6914 - val_loss: 0.5884 - val_accuracy: 0.6835\n",
            "Epoch 47/50\n",
            "2667/2667 [==============================] - 36s 14ms/step - loss: 0.5804 - accuracy: 0.6890 - val_loss: 0.5875 - val_accuracy: 0.6852\n",
            "Epoch 48/50\n",
            "2667/2667 [==============================] - 36s 14ms/step - loss: 0.5827 - accuracy: 0.6871 - val_loss: 0.5926 - val_accuracy: 0.6789\n",
            "Epoch 49/50\n",
            "2667/2667 [==============================] - 37s 14ms/step - loss: 0.5738 - accuracy: 0.6951 - val_loss: 0.5899 - val_accuracy: 0.6827\n",
            "Epoch 50/50\n",
            "2667/2667 [==============================] - 36s 14ms/step - loss: 0.5728 - accuracy: 0.6933 - val_loss: 0.5859 - val_accuracy: 0.6837\n",
            "Fold 3, 50 epochs, 1885 sec\n"
          ],
          "name": "stdout"
        },
        {
          "output_type": "display_data",
          "data": {
            "image/png": "[encoded data removed]",
            "text/plain": [
              "<Figure size 576x360 with 1 Axes>"
            ]
          },
          "metadata": {
            "tags": [],
            "needs_background": "light"
          }
        }
      ]
    },
    {
      "cell_type": "code",
      "metadata": {
        "id": "e-jG1h5fj2Ua",
        "colab": {
          "base_uri": "https://localhost:8080/"
        },
        "outputId": "2896ce26-9cd1-460c-9700-72f26e53c866"
      },
      "source": [
        "from keras.models import load_model\n",
        "X,y = prepare_inputs_len_x_alphabet(pc_test,nc_test,ALPHABET)\n",
        "best_model=load_model(MODELPATH)\n",
        "scores = best_model.evaluate(X, y, verbose=0)\n",
        "print(\"The best model parameters were saved during cross-validation.\")\n",
        "print(\"Best was defined as maximum validation accuracy at end of any epoch.\")\n",
        "print(\"Now re-load the best model and test it on previously unseen data.\")\n",
        "print(\"Test on\",len(pc_test),\"PC seqs\")\n",
        "print(\"Test on\",len(nc_test),\"NC seqs\")\n",
        "print(\"%s: %.2f%%\" % (best_model.metrics_names[1], scores[1]*100))\n"
      ],
      "execution_count": 12,
      "outputs": [
        {
          "output_type": "stream",
          "text": [
            "The best model parameters were saved during cross-validation.\n",
            "Best was defined as maximum validation accuracy at end of any epoch.\n",
            "Now re-load the best model and test it on previously unseen data.\n",
            "Test on 1000 PC seqs\n",
            "Test on 1000 NC seqs\n",
            "accuracy: 96.20%\n"
          ],
          "name": "stdout"
        }
      ]
    },
    {
      "cell_type": "code",
      "metadata": {
        "id": "VycUnmvUj2Ue",
        "colab": {
          "base_uri": "https://localhost:8080/",
          "height": 313
        },
        "outputId": "21402c15-5626-4093-fd57-09d411c8027b"
      },
      "source": [
        "from sklearn.metrics import roc_curve\n",
        "from sklearn.metrics import roc_auc_score\n",
        "ns_probs = [0 for _ in range(len(y))]\n",
        "bm_probs = best_model.predict(X)\n",
        "ns_auc = roc_auc_score(y, ns_probs)\n",
        "bm_auc = roc_auc_score(y, bm_probs)\n",
        "ns_fpr, ns_tpr, _ = roc_curve(y, ns_probs)\n",
        "bm_fpr, bm_tpr, _ = roc_curve(y, bm_probs)\n",
        "plt.plot(ns_fpr, ns_tpr, linestyle='--', label='Guess, auc=%.4f'%ns_auc)\n",
        "plt.plot(bm_fpr, bm_tpr, marker='.', label='Model, auc=%.4f'%bm_auc)\n",
        "plt.title('ROC')\n",
        "plt.xlabel('False Positive Rate')\n",
        "plt.ylabel('True Positive Rate')\n",
        "plt.legend()\n",
        "plt.show()\n",
        "print(\"%s: %.2f%%\" %('AUC',bm_auc*100.0))\n"
      ],
      "execution_count": 13,
      "outputs": [
        {
          "output_type": "display_data",
          "data": {
            "image/png": "[encoded data removed]",
            "text/plain": [
              "<Figure size 432x288 with 1 Axes>"
            ]
          },
          "metadata": {
            "tags": [],
            "needs_background": "light"
          }
        },
        {
          "output_type": "stream",
          "text": [
            "AUC: 99.44%\n"
          ],
          "name": "stdout"
        }
      ]
    },
    {
      "cell_type": "code",
      "metadata": {
        "id": "kFMb6rGNj2Ug",
        "colab": {
          "base_uri": "https://localhost:8080/",
          "height": 36
        },
        "outputId": "bd150a45-b5ab-483d-f2ea-367d2f24d661"
      },
      "source": [
        "t = time.time()\n",
        "time.strftime('%Y-%m-%d %H:%M:%S %Z', time.localtime(t))"
      ],
      "execution_count": 14,
      "outputs": [
        {
          "output_type": "execute_result",
          "data": {
            "application/vnd.google.colaboratory.intrinsic+json": {
              "type": "string"
            },
            "text/plain": [
              "'2021-07-02 19:03:03 UTC'"
            ]
          },
          "metadata": {
            "tags": []
          },
          "execution_count": 14
        }
      ]
    }
  ]
}