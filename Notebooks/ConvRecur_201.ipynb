{
  "nbformat": 4,
  "nbformat_minor": 0,
  "metadata": {
    "accelerator": "GPU",
    "colab": {
      "name": "ConvRecur_201.ipynb",
      "provenance": [],
      "collapsed_sections": []
    },
    "kernelspec": {
      "display_name": "Python 3",
      "language": "python",
      "name": "python3"
    },
    "language_info": {
      "codemirror_mode": {
        "name": "ipython",
        "version": 3
      },
      "file_extension": ".py",
      "mimetype": "text/x-python",
      "name": "python",
      "nbconvert_exporter": "python",
      "pygments_lexer": "ipython3",
      "version": "3.8.3"
    }
  },
  "cells": [
    {
      "cell_type": "markdown",
      "metadata": {
        "id": "0asdcdunj2Tx"
      },
      "source": [
        "# ORF recognition by Convolutional/Recurrent\n",
        "Attempting to train the model on simulated RNA sequences of length 256.\n",
        "\n"
      ]
    },
    {
      "cell_type": "code",
      "metadata": {
        "colab": {
          "base_uri": "https://localhost:8080/",
          "height": 36
        },
        "id": "QP1VTRNQj2UO",
        "outputId": "e5fcce66-3330-4cb2-b3df-6c4b23aec802"
      },
      "source": [
        "import time \n",
        "t = time.time()\n",
        "time.strftime('%Y-%m-%d %H:%M:%S %Z', time.localtime(t))"
      ],
      "execution_count": 1,
      "outputs": [
        {
          "output_type": "execute_result",
          "data": {
            "application/vnd.google.colaboratory.intrinsic+json": {
              "type": "string"
            },
            "text/plain": [
              "'2021-07-14 17:11:17 UTC'"
            ]
          },
          "metadata": {
            "tags": []
          },
          "execution_count": 1
        }
      ]
    },
    {
      "cell_type": "code",
      "metadata": {
        "id": "Nhz4GKonj2T_"
      },
      "source": [
        "#Input\n",
        "PC_SEQUENCES=64000   # how many protein-coding sequences\n",
        "NC_SEQUENCES=64000   # how many non-coding sequences\n",
        "PC_TESTS=1000\n",
        "NC_TESTS=1000\n",
        "RNA_LEN=256            # how long is each sequence\n",
        "CDS_LEN=128            # min CDS len to be coding\n",
        "ALPHABET=4          # how many different letters are possible\n",
        "INPUT_SHAPE_2D = (RNA_LEN,ALPHABET,1) # Conv2D needs 3D inputs\n",
        "INPUT_SHAPE = (RNA_LEN,ALPHABET) # Conv1D needs 2D inputs\n",
        "\n",
        "#Model\n",
        "FILTERS = 32   # how many different patterns the model looks for\n",
        "CELLS = 256 #Used in LSTM layer(s)\n",
        "NEURONS = 256 #Used in Dense layer(s)\n",
        "DROP_RATE = 0.1\n",
        "WIDTH = 3   # how wide each pattern is, in bases\n",
        "STRIDE_2D = (1,1)  # For Conv2D how far in each direction\n",
        "STRIDE = 1 # For Conv1D, how far between pattern matches, in bases\n",
        "ACTIVATION = 'relu'\n",
        "\n",
        "#Training\n",
        "EPOCHS=100  # how many times to train on all the data\n",
        "SPLITS=3  # SPLITS=3 means train on 2/3 and validate on 1/3 \n",
        "FOLDS=1  # train the model this many times (range 1 to SPLITS)"
      ],
      "execution_count": 2,
      "outputs": []
    },
    {
      "cell_type": "code",
      "metadata": {
        "colab": {
          "base_uri": "https://localhost:8080/"
        },
        "id": "lr7q90rxj2UE",
        "outputId": "39728dcb-7a4c-4112-f2a5-c0fc84636633"
      },
      "source": [
        "import sys\n",
        "IN_COLAB = False\n",
        "try:\n",
        "    from google.colab import drive\n",
        "    IN_COLAB = True\n",
        "except:\n",
        "    pass\n",
        "if IN_COLAB:\n",
        "    print(\"On Google CoLab, mount cloud-local file, get our code from GitHub.\")\n",
        "    PATH='/content/drive/'\n",
        "    #drive.mount(PATH,force_remount=True)  # hardly ever need this\n",
        "    #drive.mount(PATH)    # Google will require login credentials\n",
        "    DATAPATH=PATH+'My Drive/data/'  # must end in \"/\"\n",
        "    import requests\n",
        "    r = requests.get('https://raw.githubusercontent.com/ShepherdCode/Soars2021/master/SimTools/RNA_describe.py')\n",
        "    with open('RNA_describe.py', 'w') as f:\n",
        "        f.write(r.text)  \n",
        "    from RNA_describe import ORF_counter\n",
        "    from RNA_describe import Random_Base_Oracle\n",
        "    r = requests.get('https://raw.githubusercontent.com/ShepherdCode/Soars2021/master/SimTools/RNA_prep.py')\n",
        "    with open('RNA_prep.py', 'w') as f:\n",
        "        f.write(r.text)  \n",
        "    from RNA_prep import prepare_inputs_len_x_alphabet\n",
        "else:\n",
        "        print(\"CoLab not working. On my PC, use relative paths.\")\n",
        "        DATAPATH='data/'  # must end in \"/\"\n",
        "        sys.path.append(\"..\") # append parent dir in order to use sibling dirs\n",
        "        from SimTools.RNA_describe import ORF_counter,Random_Base_Oracle\n",
        "        from SimTools.RNA_prep import prepare_inputs_len_x_alphabet\n",
        "\n",
        "MODELPATH=\"BestModel\"  # saved on cloud instance and lost after logout\n",
        "#MODELPATH=DATAPATH+MODELPATH  # saved on Google Drive but requires login\n"
      ],
      "execution_count": 3,
      "outputs": [
        {
          "output_type": "stream",
          "text": [
            "On Google CoLab, mount cloud-local file, get our code from GitHub.\n"
          ],
          "name": "stdout"
        }
      ]
    },
    {
      "cell_type": "code",
      "metadata": {
        "id": "EGDXH8Uwj2UM"
      },
      "source": [
        "from os import listdir\n",
        "import csv\n",
        "from zipfile import ZipFile\n",
        "\n",
        "import numpy as np\n",
        "import pandas as pd\n",
        "from scipy import stats  # mode\n",
        "\n",
        "from sklearn.preprocessing import StandardScaler\n",
        "from sklearn.model_selection import KFold\n",
        "from sklearn.model_selection import cross_val_score\n",
        "\n",
        "from keras.models import Sequential\n",
        "from keras.layers import Dense,Embedding,Dropout\n",
        "from keras.layers import Conv1D,Conv2D\n",
        "from keras.layers import GRU,LSTM\n",
        "from keras.layers import Flatten,TimeDistributed\n",
        "from keras.layers import MaxPooling1D,MaxPooling2D\n",
        "from keras.losses import BinaryCrossentropy\n",
        "# tf.keras.losses.BinaryCrossentropy\n",
        "\n",
        "import matplotlib.pyplot as plt\n",
        "from matplotlib import colors\n",
        "mycmap = colors.ListedColormap(['red','blue'])  # list color for label 0 then 1\n",
        "np.set_printoptions(precision=2)\n"
      ],
      "execution_count": 4,
      "outputs": []
    },
    {
      "cell_type": "code",
      "metadata": {
        "colab": {
          "base_uri": "https://localhost:8080/"
        },
        "id": "CUOG_jEvGtOm",
        "outputId": "0644153d-a4b1-4bf5-c996-df74a85fb0f5"
      },
      "source": [
        "rbo=Random_Base_Oracle(RNA_LEN,True)\n",
        "#pc_all,nc_all = rbo.get_partitioned_sequences(CDS_LEN,10) # just testing\n",
        "pc_all,nc_all = rbo.get_partitioned_sequences(CDS_LEN,PC_SEQUENCES+PC_TESTS)\n",
        "print(\"Use\",len(pc_all),\"PC seqs\")\n",
        "print(\"Use\",len(nc_all),\"NC seqs\")"
      ],
      "execution_count": 5,
      "outputs": [
        {
          "output_type": "stream",
          "text": [
            "It took 360938 trials to reach 65000 per class.\n",
            "Use 65000 PC seqs\n",
            "Use 65000 NC seqs\n"
          ],
          "name": "stdout"
        }
      ]
    },
    {
      "cell_type": "code",
      "metadata": {
        "colab": {
          "base_uri": "https://localhost:8080/"
        },
        "id": "Q-BmSXi2jUyl",
        "outputId": "4f3e8e22-7415-4623-8a29-e79cbd979565"
      },
      "source": [
        "# Describe the sequences\n",
        "def describe_sequences(list_of_seq):\n",
        "    oc = ORF_counter()\n",
        "    num_seq = len(list_of_seq)\n",
        "    rna_lens = np.zeros(num_seq)\n",
        "    orf_lens = np.zeros(num_seq)\n",
        "    for i in range(0,num_seq):\n",
        "        rna_len = len(list_of_seq[i])\n",
        "        rna_lens[i] = rna_len\n",
        "        oc.set_sequence(list_of_seq[i])\n",
        "        orf_len = oc.get_max_orf_len()\n",
        "        orf_lens[i] = orf_len\n",
        "    print (\"Average RNA length:\",rna_lens.mean())\n",
        "    print (\"Average ORF length:\",orf_lens.mean())\n",
        "    \n",
        "print(\"Simulated sequences prior to adjustment:\")\n",
        "print(\"PC seqs\")\n",
        "describe_sequences(pc_all)\n",
        "print(\"NC seqs\")\n",
        "describe_sequences(nc_all)"
      ],
      "execution_count": 6,
      "outputs": [
        {
          "output_type": "stream",
          "text": [
            "Simulated sequences prior to adjustment:\n",
            "PC seqs\n",
            "Average RNA length: 256.0\n",
            "Average ORF length: 156.50884615384615\n",
            "NC seqs\n",
            "Average RNA length: 256.0\n",
            "Average ORF length: 67.65766153846154\n"
          ],
          "name": "stdout"
        }
      ]
    },
    {
      "cell_type": "code",
      "metadata": {
        "id": "iP1y7-J3jUys"
      },
      "source": [
        "pc_train=pc_all[:PC_SEQUENCES]\n",
        "nc_train=nc_all[:NC_SEQUENCES]\n",
        "pc_test=pc_all[PC_SEQUENCES:]\n",
        "nc_test=nc_all[NC_SEQUENCES:]"
      ],
      "execution_count": 7,
      "outputs": []
    },
    {
      "cell_type": "code",
      "metadata": {
        "colab": {
          "base_uri": "https://localhost:8080/"
        },
        "id": "CIpTrnH6j2US",
        "outputId": "f859df53-b74d-49b6-f018-ea46d3fbf09d"
      },
      "source": [
        "# Use code from our SimTools library.\n",
        "X,y = prepare_inputs_len_x_alphabet(pc_train,nc_train,ALPHABET) # shuffles\n",
        "print(\"Data ready.\")"
      ],
      "execution_count": 8,
      "outputs": [
        {
          "output_type": "stream",
          "text": [
            "Data ready.\n"
          ],
          "name": "stdout"
        }
      ]
    },
    {
      "cell_type": "code",
      "metadata": {
        "colab": {
          "base_uri": "https://localhost:8080/"
        },
        "id": "7NvrVU8ij2UU",
        "outputId": "3df5475e-6e9b-4f4e-945d-cae1484d4003"
      },
      "source": [
        "def make_DNN():\n",
        "    print(\"make_DNN\")\n",
        "    print(\"input shape:\",INPUT_SHAPE)\n",
        "    dnn = Sequential()\n",
        "\n",
        "    dnn.add(Conv1D(filters=FILTERS,kernel_size=WIDTH,strides=STRIDE,padding=\"same\",\n",
        "            input_shape=INPUT_SHAPE))\n",
        "    dnn.add(Conv1D(filters=FILTERS,kernel_size=WIDTH,strides=STRIDE,padding=\"same\"))\n",
        "    dnn.add(MaxPooling1D())\n",
        "\n",
        "    dnn.add(LSTM(CELLS,return_sequences=True))\n",
        "    dnn.add(LSTM(CELLS,return_sequences=False))\n",
        "\n",
        "    dnn.add(Dense(NEURONS,activation=ACTIVATION,dtype=np.float32))  \n",
        "\n",
        "    dnn.add(Dropout(DROP_RATE))\n",
        "\n",
        "    dnn.add(Dense(1,activation=ACTIVATION,dtype=np.float32))  \n",
        "\n",
        "    dnn.compile(optimizer='adam',\n",
        "                loss=BinaryCrossentropy(from_logits=False),\n",
        "                metrics=['accuracy'])   # add to default metrics=loss\n",
        "\n",
        "    dnn.build() \n",
        "\n",
        "    return dnn\n",
        "\n",
        "model = make_DNN()\n",
        "print(model.summary())"
      ],
      "execution_count": 9,
      "outputs": [
        {
          "output_type": "stream",
          "text": [
            "make_DNN\n",
            "input shape: (256, 4)\n",
            "Model: \"sequential\"\n",
            "_________________________________________________________________\n",
            "Layer (type)                 Output Shape              Param #   \n",
            "=================================================================\n",
            "conv1d (Conv1D)              (None, 256, 32)           416       \n",
            "_________________________________________________________________\n",
            "conv1d_1 (Conv1D)            (None, 256, 32)           3104      \n",
            "_________________________________________________________________\n",
            "max_pooling1d (MaxPooling1D) (None, 128, 32)           0         \n",
            "_________________________________________________________________\n",
            "lstm (LSTM)                  (None, 128, 256)          295936    \n",
            "_________________________________________________________________\n",
            "lstm_1 (LSTM)                (None, 256)               525312    \n",
            "_________________________________________________________________\n",
            "dense (Dense)                (None, 256)               65792     \n",
            "_________________________________________________________________\n",
            "dropout (Dropout)            (None, 256)               0         \n",
            "_________________________________________________________________\n",
            "dense_1 (Dense)              (None, 1)                 257       \n",
            "=================================================================\n",
            "Total params: 890,817\n",
            "Trainable params: 890,817\n",
            "Non-trainable params: 0\n",
            "_________________________________________________________________\n",
            "None\n"
          ],
          "name": "stdout"
        }
      ]
    },
    {
      "cell_type": "code",
      "metadata": {
        "id": "nlVF0hR3j2UW"
      },
      "source": [
        "from keras.callbacks import ModelCheckpoint\n",
        "def do_cross_validation(X,y):\n",
        "    cv_scores = []\n",
        "    fold=0\n",
        "    mycallbacks = [ModelCheckpoint(\n",
        "        filepath=MODELPATH, save_best_only=True, \n",
        "        monitor='val_accuracy', mode='max')]   \n",
        "    splitter = KFold(n_splits=SPLITS)  # this does not shuffle\n",
        "    for train_index,valid_index in splitter.split(X):\n",
        "        if fold < FOLDS:\n",
        "            fold += 1\n",
        "            X_train=X[train_index] # inputs for training\n",
        "            y_train=y[train_index] # labels for training\n",
        "            X_valid=X[valid_index] # inputs for validation\n",
        "            y_valid=y[valid_index] # labels for validation\n",
        "            print(\"MODEL\")\n",
        "            # Call constructor on each CV. Else, continually improves the same model.\n",
        "            model = model = make_DNN()\n",
        "            print(\"FIT\")  # model.fit() implements learning\n",
        "            start_time=time.time()\n",
        "            history=model.fit(X_train, y_train, \n",
        "                    epochs=EPOCHS, \n",
        "                    verbose=1,  # ascii art while learning\n",
        "                    callbacks=mycallbacks,   # called at end of each epoch\n",
        "                    validation_data=(X_valid,y_valid))\n",
        "            end_time=time.time()\n",
        "            elapsed_time=(end_time-start_time)                        \n",
        "            print(\"Fold %d, %d epochs, %d sec\"%(fold,EPOCHS,elapsed_time))\n",
        "            # print(history.history.keys())  # all these keys will be shown in figure\n",
        "            pd.DataFrame(history.history).plot(figsize=(8,5))\n",
        "            plt.grid(True)\n",
        "            plt.gca().set_ylim(0,1) # any losses > 1 will be off the scale\n",
        "            plt.show()\n"
      ],
      "execution_count": 10,
      "outputs": []
    },
    {
      "cell_type": "code",
      "metadata": {
        "colab": {
          "base_uri": "https://localhost:8080/",
          "height": 1000
        },
        "id": "9Ggt4EsSj2UY",
        "outputId": "085eefac-4c14-49b2-894e-7ee04c0e0893"
      },
      "source": [
        "do_cross_validation(X,y)"
      ],
      "execution_count": 11,
      "outputs": [
        {
          "output_type": "stream",
          "text": [
            "MODEL\n",
            "make_DNN\n",
            "input shape: (256, 4)\n",
            "FIT\n",
            "Epoch 1/100\n",
            "2667/2667 [==============================] - 106s 22ms/step - loss: 0.7008 - accuracy: 0.5088 - val_loss: 0.6924 - val_accuracy: 0.5178\n"
          ],
          "name": "stdout"
        },
        {
          "output_type": "stream",
          "text": [
            "WARNING:absl:Found untraced functions such as lstm_cell_2_layer_call_and_return_conditional_losses, lstm_cell_2_layer_call_fn, lstm_cell_3_layer_call_and_return_conditional_losses, lstm_cell_3_layer_call_fn, lstm_cell_2_layer_call_fn while saving (showing 5 of 10). These functions will not be directly callable after loading.\n"
          ],
          "name": "stderr"
        },
        {
          "output_type": "stream",
          "text": [
            "INFO:tensorflow:Assets written to: BestModel/assets\n"
          ],
          "name": "stdout"
        },
        {
          "output_type": "stream",
          "text": [
            "INFO:tensorflow:Assets written to: BestModel/assets\n"
          ],
          "name": "stderr"
        },
        {
          "output_type": "stream",
          "text": [
            "Epoch 2/100\n",
            "2667/2667 [==============================] - 57s 21ms/step - loss: 0.6941 - accuracy: 0.5128 - val_loss: 0.6921 - val_accuracy: 0.5083\n",
            "Epoch 3/100\n",
            "2667/2667 [==============================] - 57s 21ms/step - loss: 0.6950 - accuracy: 0.5145 - val_loss: 0.6969 - val_accuracy: 0.5213\n"
          ],
          "name": "stdout"
        },
        {
          "output_type": "stream",
          "text": [
            "WARNING:absl:Found untraced functions such as lstm_cell_2_layer_call_and_return_conditional_losses, lstm_cell_2_layer_call_fn, lstm_cell_3_layer_call_and_return_conditional_losses, lstm_cell_3_layer_call_fn, lstm_cell_2_layer_call_fn while saving (showing 5 of 10). These functions will not be directly callable after loading.\n"
          ],
          "name": "stderr"
        },
        {
          "output_type": "stream",
          "text": [
            "INFO:tensorflow:Assets written to: BestModel/assets\n"
          ],
          "name": "stdout"
        },
        {
          "output_type": "stream",
          "text": [
            "INFO:tensorflow:Assets written to: BestModel/assets\n"
          ],
          "name": "stderr"
        },
        {
          "output_type": "stream",
          "text": [
            "Epoch 4/100\n",
            "2667/2667 [==============================] - 58s 22ms/step - loss: 0.6930 - accuracy: 0.5120 - val_loss: 0.6871 - val_accuracy: 0.5407\n"
          ],
          "name": "stdout"
        },
        {
          "output_type": "stream",
          "text": [
            "WARNING:absl:Found untraced functions such as lstm_cell_2_layer_call_and_return_conditional_losses, lstm_cell_2_layer_call_fn, lstm_cell_3_layer_call_and_return_conditional_losses, lstm_cell_3_layer_call_fn, lstm_cell_2_layer_call_fn while saving (showing 5 of 10). These functions will not be directly callable after loading.\n"
          ],
          "name": "stderr"
        },
        {
          "output_type": "stream",
          "text": [
            "INFO:tensorflow:Assets written to: BestModel/assets\n"
          ],
          "name": "stdout"
        },
        {
          "output_type": "stream",
          "text": [
            "INFO:tensorflow:Assets written to: BestModel/assets\n"
          ],
          "name": "stderr"
        },
        {
          "output_type": "stream",
          "text": [
            "Epoch 5/100\n",
            "2667/2667 [==============================] - 58s 22ms/step - loss: 0.6832 - accuracy: 0.5407 - val_loss: 0.6328 - val_accuracy: 0.6453\n"
          ],
          "name": "stdout"
        },
        {
          "output_type": "stream",
          "text": [
            "WARNING:absl:Found untraced functions such as lstm_cell_2_layer_call_and_return_conditional_losses, lstm_cell_2_layer_call_fn, lstm_cell_3_layer_call_and_return_conditional_losses, lstm_cell_3_layer_call_fn, lstm_cell_2_layer_call_fn while saving (showing 5 of 10). These functions will not be directly callable after loading.\n"
          ],
          "name": "stderr"
        },
        {
          "output_type": "stream",
          "text": [
            "INFO:tensorflow:Assets written to: BestModel/assets\n"
          ],
          "name": "stdout"
        },
        {
          "output_type": "stream",
          "text": [
            "INFO:tensorflow:Assets written to: BestModel/assets\n"
          ],
          "name": "stderr"
        },
        {
          "output_type": "stream",
          "text": [
            "Epoch 6/100\n",
            "2667/2667 [==============================] - 58s 22ms/step - loss: 0.6321 - accuracy: 0.6471 - val_loss: 0.6159 - val_accuracy: 0.6593\n"
          ],
          "name": "stdout"
        },
        {
          "output_type": "stream",
          "text": [
            "WARNING:absl:Found untraced functions such as lstm_cell_2_layer_call_and_return_conditional_losses, lstm_cell_2_layer_call_fn, lstm_cell_3_layer_call_and_return_conditional_losses, lstm_cell_3_layer_call_fn, lstm_cell_2_layer_call_fn while saving (showing 5 of 10). These functions will not be directly callable after loading.\n"
          ],
          "name": "stderr"
        },
        {
          "output_type": "stream",
          "text": [
            "INFO:tensorflow:Assets written to: BestModel/assets\n"
          ],
          "name": "stdout"
        },
        {
          "output_type": "stream",
          "text": [
            "INFO:tensorflow:Assets written to: BestModel/assets\n"
          ],
          "name": "stderr"
        },
        {
          "output_type": "stream",
          "text": [
            "Epoch 7/100\n",
            "2667/2667 [==============================] - 58s 22ms/step - loss: 0.6083 - accuracy: 0.6690 - val_loss: 0.6086 - val_accuracy: 0.6865\n"
          ],
          "name": "stdout"
        },
        {
          "output_type": "stream",
          "text": [
            "WARNING:absl:Found untraced functions such as lstm_cell_2_layer_call_and_return_conditional_losses, lstm_cell_2_layer_call_fn, lstm_cell_3_layer_call_and_return_conditional_losses, lstm_cell_3_layer_call_fn, lstm_cell_2_layer_call_fn while saving (showing 5 of 10). These functions will not be directly callable after loading.\n"
          ],
          "name": "stderr"
        },
        {
          "output_type": "stream",
          "text": [
            "INFO:tensorflow:Assets written to: BestModel/assets\n"
          ],
          "name": "stdout"
        },
        {
          "output_type": "stream",
          "text": [
            "INFO:tensorflow:Assets written to: BestModel/assets\n"
          ],
          "name": "stderr"
        },
        {
          "output_type": "stream",
          "text": [
            "Epoch 8/100\n",
            "2667/2667 [==============================] - 58s 22ms/step - loss: 0.5825 - accuracy: 0.6944 - val_loss: 0.5582 - val_accuracy: 0.7135\n"
          ],
          "name": "stdout"
        },
        {
          "output_type": "stream",
          "text": [
            "WARNING:absl:Found untraced functions such as lstm_cell_2_layer_call_and_return_conditional_losses, lstm_cell_2_layer_call_fn, lstm_cell_3_layer_call_and_return_conditional_losses, lstm_cell_3_layer_call_fn, lstm_cell_2_layer_call_fn while saving (showing 5 of 10). These functions will not be directly callable after loading.\n"
          ],
          "name": "stderr"
        },
        {
          "output_type": "stream",
          "text": [
            "INFO:tensorflow:Assets written to: BestModel/assets\n"
          ],
          "name": "stdout"
        },
        {
          "output_type": "stream",
          "text": [
            "INFO:tensorflow:Assets written to: BestModel/assets\n"
          ],
          "name": "stderr"
        },
        {
          "output_type": "stream",
          "text": [
            "Epoch 9/100\n",
            "2667/2667 [==============================] - 58s 22ms/step - loss: 0.5536 - accuracy: 0.7200 - val_loss: 0.5402 - val_accuracy: 0.7256\n"
          ],
          "name": "stdout"
        },
        {
          "output_type": "stream",
          "text": [
            "WARNING:absl:Found untraced functions such as lstm_cell_2_layer_call_and_return_conditional_losses, lstm_cell_2_layer_call_fn, lstm_cell_3_layer_call_and_return_conditional_losses, lstm_cell_3_layer_call_fn, lstm_cell_2_layer_call_fn while saving (showing 5 of 10). These functions will not be directly callable after loading.\n"
          ],
          "name": "stderr"
        },
        {
          "output_type": "stream",
          "text": [
            "INFO:tensorflow:Assets written to: BestModel/assets\n"
          ],
          "name": "stdout"
        },
        {
          "output_type": "stream",
          "text": [
            "INFO:tensorflow:Assets written to: BestModel/assets\n"
          ],
          "name": "stderr"
        },
        {
          "output_type": "stream",
          "text": [
            "Epoch 10/100\n",
            "2667/2667 [==============================] - 57s 22ms/step - loss: 0.5077 - accuracy: 0.7550 - val_loss: 0.5540 - val_accuracy: 0.7217\n",
            "Epoch 11/100\n",
            "2667/2667 [==============================] - 58s 22ms/step - loss: 0.5612 - accuracy: 0.7126 - val_loss: 0.5414 - val_accuracy: 0.7267\n"
          ],
          "name": "stdout"
        },
        {
          "output_type": "stream",
          "text": [
            "WARNING:absl:Found untraced functions such as lstm_cell_2_layer_call_and_return_conditional_losses, lstm_cell_2_layer_call_fn, lstm_cell_3_layer_call_and_return_conditional_losses, lstm_cell_3_layer_call_fn, lstm_cell_2_layer_call_fn while saving (showing 5 of 10). These functions will not be directly callable after loading.\n"
          ],
          "name": "stderr"
        },
        {
          "output_type": "stream",
          "text": [
            "INFO:tensorflow:Assets written to: BestModel/assets\n"
          ],
          "name": "stdout"
        },
        {
          "output_type": "stream",
          "text": [
            "INFO:tensorflow:Assets written to: BestModel/assets\n"
          ],
          "name": "stderr"
        },
        {
          "output_type": "stream",
          "text": [
            "Epoch 12/100\n",
            "2667/2667 [==============================] - 58s 22ms/step - loss: 0.5562 - accuracy: 0.7165 - val_loss: 0.5503 - val_accuracy: 0.7294\n"
          ],
          "name": "stdout"
        },
        {
          "output_type": "stream",
          "text": [
            "WARNING:absl:Found untraced functions such as lstm_cell_2_layer_call_and_return_conditional_losses, lstm_cell_2_layer_call_fn, lstm_cell_3_layer_call_and_return_conditional_losses, lstm_cell_3_layer_call_fn, lstm_cell_2_layer_call_fn while saving (showing 5 of 10). These functions will not be directly callable after loading.\n"
          ],
          "name": "stderr"
        },
        {
          "output_type": "stream",
          "text": [
            "INFO:tensorflow:Assets written to: BestModel/assets\n"
          ],
          "name": "stdout"
        },
        {
          "output_type": "stream",
          "text": [
            "INFO:tensorflow:Assets written to: BestModel/assets\n"
          ],
          "name": "stderr"
        },
        {
          "output_type": "stream",
          "text": [
            "Epoch 13/100\n",
            "2667/2667 [==============================] - 58s 22ms/step - loss: 0.5366 - accuracy: 0.7388 - val_loss: 0.5773 - val_accuracy: 0.7015\n",
            "Epoch 14/100\n",
            "2667/2667 [==============================] - 57s 22ms/step - loss: 0.5521 - accuracy: 0.7223 - val_loss: 0.5321 - val_accuracy: 0.7472\n"
          ],
          "name": "stdout"
        },
        {
          "output_type": "stream",
          "text": [
            "WARNING:absl:Found untraced functions such as lstm_cell_2_layer_call_and_return_conditional_losses, lstm_cell_2_layer_call_fn, lstm_cell_3_layer_call_and_return_conditional_losses, lstm_cell_3_layer_call_fn, lstm_cell_2_layer_call_fn while saving (showing 5 of 10). These functions will not be directly callable after loading.\n"
          ],
          "name": "stderr"
        },
        {
          "output_type": "stream",
          "text": [
            "INFO:tensorflow:Assets written to: BestModel/assets\n"
          ],
          "name": "stdout"
        },
        {
          "output_type": "stream",
          "text": [
            "INFO:tensorflow:Assets written to: BestModel/assets\n"
          ],
          "name": "stderr"
        },
        {
          "output_type": "stream",
          "text": [
            "Epoch 15/100\n",
            "2667/2667 [==============================] - 58s 22ms/step - loss: 0.5819 - accuracy: 0.6967 - val_loss: 0.5962 - val_accuracy: 0.6804\n",
            "Epoch 16/100\n",
            "2667/2667 [==============================] - 58s 22ms/step - loss: 0.6175 - accuracy: 0.6556 - val_loss: 0.6204 - val_accuracy: 0.6537\n",
            "Epoch 17/100\n",
            "2667/2667 [==============================] - 58s 22ms/step - loss: 0.6143 - accuracy: 0.6626 - val_loss: 0.5956 - val_accuracy: 0.6786\n",
            "Epoch 18/100\n",
            "2667/2667 [==============================] - 59s 22ms/step - loss: 0.5963 - accuracy: 0.6793 - val_loss: 0.5803 - val_accuracy: 0.6914\n",
            "Epoch 19/100\n",
            "2667/2667 [==============================] - 58s 22ms/step - loss: 0.5590 - accuracy: 0.7110 - val_loss: 0.6064 - val_accuracy: 0.6688\n",
            "Epoch 20/100\n",
            "2667/2667 [==============================] - 58s 22ms/step - loss: 0.5941 - accuracy: 0.6805 - val_loss: 0.6498 - val_accuracy: 0.6437\n",
            "Epoch 21/100\n",
            "2667/2667 [==============================] - 58s 22ms/step - loss: 0.5270 - accuracy: 0.7576 - val_loss: 0.4196 - val_accuracy: 0.8227\n"
          ],
          "name": "stdout"
        },
        {
          "output_type": "stream",
          "text": [
            "WARNING:absl:Found untraced functions such as lstm_cell_2_layer_call_and_return_conditional_losses, lstm_cell_2_layer_call_fn, lstm_cell_3_layer_call_and_return_conditional_losses, lstm_cell_3_layer_call_fn, lstm_cell_2_layer_call_fn while saving (showing 5 of 10). These functions will not be directly callable after loading.\n"
          ],
          "name": "stderr"
        },
        {
          "output_type": "stream",
          "text": [
            "INFO:tensorflow:Assets written to: BestModel/assets\n"
          ],
          "name": "stdout"
        },
        {
          "output_type": "stream",
          "text": [
            "INFO:tensorflow:Assets written to: BestModel/assets\n"
          ],
          "name": "stderr"
        },
        {
          "output_type": "stream",
          "text": [
            "Epoch 22/100\n",
            "2667/2667 [==============================] - 58s 22ms/step - loss: 0.5537 - accuracy: 0.7199 - val_loss: 0.5794 - val_accuracy: 0.6924\n",
            "Epoch 23/100\n",
            "2667/2667 [==============================] - 58s 22ms/step - loss: 0.5440 - accuracy: 0.7281 - val_loss: 0.5442 - val_accuracy: 0.7241\n",
            "Epoch 24/100\n",
            "2667/2667 [==============================] - 58s 22ms/step - loss: 0.5011 - accuracy: 0.7688 - val_loss: 0.5801 - val_accuracy: 0.6982\n",
            "Epoch 25/100\n",
            "2667/2667 [==============================] - 58s 22ms/step - loss: 0.5487 - accuracy: 0.7288 - val_loss: 0.4952 - val_accuracy: 0.7774\n",
            "Epoch 26/100\n",
            "2667/2667 [==============================] - 57s 21ms/step - loss: 0.6229 - accuracy: 0.6572 - val_loss: 0.5240 - val_accuracy: 0.7564\n",
            "Epoch 27/100\n",
            "2667/2667 [==============================] - 58s 22ms/step - loss: 0.5791 - accuracy: 0.6922 - val_loss: 0.5907 - val_accuracy: 0.6839\n",
            "Epoch 28/100\n",
            "2667/2667 [==============================] - 58s 22ms/step - loss: 0.5741 - accuracy: 0.7037 - val_loss: 0.5352 - val_accuracy: 0.7440\n",
            "Epoch 29/100\n",
            "2667/2667 [==============================] - 58s 22ms/step - loss: 0.5549 - accuracy: 0.7274 - val_loss: 0.6253 - val_accuracy: 0.6510\n",
            "Epoch 30/100\n",
            "2667/2667 [==============================] - 58s 22ms/step - loss: 0.5956 - accuracy: 0.6822 - val_loss: 0.4885 - val_accuracy: 0.7717\n",
            "Epoch 31/100\n",
            "2667/2667 [==============================] - 58s 22ms/step - loss: 0.5359 - accuracy: 0.7424 - val_loss: 0.5123 - val_accuracy: 0.7730\n",
            "Epoch 32/100\n",
            "2667/2667 [==============================] - 58s 22ms/step - loss: 0.5177 - accuracy: 0.7511 - val_loss: 0.4773 - val_accuracy: 0.7767\n",
            "Epoch 33/100\n",
            "2667/2667 [==============================] - 58s 22ms/step - loss: 0.5264 - accuracy: 0.7474 - val_loss: 0.6458 - val_accuracy: 0.6221\n",
            "Epoch 34/100\n",
            "2667/2667 [==============================] - 58s 22ms/step - loss: 0.6179 - accuracy: 0.6581 - val_loss: 0.6463 - val_accuracy: 0.6352\n",
            "Epoch 35/100\n",
            "2667/2667 [==============================] - 58s 22ms/step - loss: 0.5996 - accuracy: 0.6779 - val_loss: 0.6366 - val_accuracy: 0.6331\n",
            "Epoch 36/100\n",
            "2667/2667 [==============================] - 58s 22ms/step - loss: 0.6024 - accuracy: 0.6828 - val_loss: 0.5955 - val_accuracy: 0.6768\n",
            "Epoch 37/100\n",
            "2667/2667 [==============================] - 59s 22ms/step - loss: 0.5691 - accuracy: 0.7115 - val_loss: 0.6284 - val_accuracy: 0.6412\n",
            "Epoch 38/100\n",
            "2667/2667 [==============================] - 58s 22ms/step - loss: 0.6135 - accuracy: 0.6615 - val_loss: 0.6095 - val_accuracy: 0.6736\n",
            "Epoch 39/100\n",
            "2667/2667 [==============================] - 58s 22ms/step - loss: 0.5785 - accuracy: 0.7006 - val_loss: 0.5646 - val_accuracy: 0.7078\n",
            "Epoch 40/100\n",
            "2667/2667 [==============================] - 58s 22ms/step - loss: 0.5753 - accuracy: 0.7039 - val_loss: 0.5779 - val_accuracy: 0.7091\n",
            "Epoch 41/100\n",
            "2667/2667 [==============================] - 58s 22ms/step - loss: 0.5484 - accuracy: 0.7374 - val_loss: 0.5948 - val_accuracy: 0.7676\n",
            "Epoch 42/100\n",
            "2667/2667 [==============================] - 58s 22ms/step - loss: 0.5198 - accuracy: 0.7584 - val_loss: 0.5364 - val_accuracy: 0.7425\n",
            "Epoch 43/100\n",
            "2667/2667 [==============================] - 58s 22ms/step - loss: 0.5134 - accuracy: 0.7595 - val_loss: 0.4986 - val_accuracy: 0.7680\n",
            "Epoch 44/100\n",
            "2667/2667 [==============================] - 58s 22ms/step - loss: 0.5756 - accuracy: 0.7143 - val_loss: 0.5218 - val_accuracy: 0.7455\n",
            "Epoch 45/100\n",
            "2667/2667 [==============================] - 58s 22ms/step - loss: 0.5891 - accuracy: 0.6919 - val_loss: 0.5601 - val_accuracy: 0.7237\n",
            "Epoch 46/100\n",
            "2667/2667 [==============================] - 58s 22ms/step - loss: 0.5589 - accuracy: 0.7259 - val_loss: 0.5001 - val_accuracy: 0.7786\n",
            "Epoch 47/100\n",
            "2667/2667 [==============================] - 58s 22ms/step - loss: 0.5808 - accuracy: 0.7000 - val_loss: 0.5922 - val_accuracy: 0.6888\n",
            "Epoch 48/100\n",
            "2667/2667 [==============================] - 58s 22ms/step - loss: 0.5861 - accuracy: 0.7005 - val_loss: 0.6026 - val_accuracy: 0.7097\n",
            "Epoch 49/100\n",
            "2667/2667 [==============================] - 57s 21ms/step - loss: 0.6389 - accuracy: 0.6248 - val_loss: 0.6142 - val_accuracy: 0.6642\n",
            "Epoch 50/100\n",
            "2667/2667 [==============================] - 57s 22ms/step - loss: 0.6077 - accuracy: 0.6710 - val_loss: 0.5387 - val_accuracy: 0.7290\n",
            "Epoch 51/100\n",
            "2667/2667 [==============================] - 57s 21ms/step - loss: 0.5799 - accuracy: 0.6994 - val_loss: 0.6975 - val_accuracy: 0.5006\n",
            "Epoch 52/100\n",
            "2667/2667 [==============================] - 58s 22ms/step - loss: 0.6763 - accuracy: 0.5579 - val_loss: 0.6355 - val_accuracy: 0.6421\n",
            "Epoch 53/100\n",
            "2667/2667 [==============================] - 57s 22ms/step - loss: 0.6081 - accuracy: 0.6718 - val_loss: 0.6819 - val_accuracy: 0.5655\n",
            "Epoch 54/100\n",
            "2667/2667 [==============================] - 58s 22ms/step - loss: 0.6328 - accuracy: 0.6403 - val_loss: 0.5111 - val_accuracy: 0.7554\n",
            "Epoch 55/100\n",
            "2667/2667 [==============================] - 58s 22ms/step - loss: 0.6115 - accuracy: 0.6529 - val_loss: 0.6936 - val_accuracy: 0.5005\n",
            "Epoch 56/100\n",
            "2667/2667 [==============================] - 57s 22ms/step - loss: 0.6864 - accuracy: 0.5305 - val_loss: 0.6225 - val_accuracy: 0.6572\n",
            "Epoch 57/100\n",
            "2667/2667 [==============================] - 58s 22ms/step - loss: 0.6230 - accuracy: 0.6568 - val_loss: 0.6092 - val_accuracy: 0.6647\n",
            "Epoch 58/100\n",
            "2667/2667 [==============================] - 57s 22ms/step - loss: 0.6048 - accuracy: 0.6721 - val_loss: 0.6743 - val_accuracy: 0.5006\n",
            "Epoch 59/100\n",
            "2667/2667 [==============================] - 57s 21ms/step - loss: 0.6817 - accuracy: 0.4996 - val_loss: 0.6927 - val_accuracy: 0.4994\n",
            "Epoch 60/100\n",
            "2667/2667 [==============================] - 58s 22ms/step - loss: 0.6265 - accuracy: 0.6382 - val_loss: 0.5248 - val_accuracy: 0.7413\n",
            "Epoch 61/100\n",
            "2667/2667 [==============================] - 58s 22ms/step - loss: 0.5698 - accuracy: 0.7147 - val_loss: 0.4996 - val_accuracy: 0.7612\n",
            "Epoch 62/100\n",
            "2667/2667 [==============================] - 58s 22ms/step - loss: 0.5628 - accuracy: 0.7085 - val_loss: 0.6835 - val_accuracy: 0.5600\n",
            "Epoch 63/100\n",
            "2667/2667 [==============================] - 58s 22ms/step - loss: 0.5909 - accuracy: 0.6949 - val_loss: 0.5682 - val_accuracy: 0.7180\n",
            "Epoch 64/100\n",
            "2667/2667 [==============================] - 58s 22ms/step - loss: 0.5550 - accuracy: 0.7230 - val_loss: 0.6294 - val_accuracy: 0.6481\n",
            "Epoch 65/100\n",
            "2667/2667 [==============================] - 58s 22ms/step - loss: 0.6247 - accuracy: 0.6565 - val_loss: 0.6208 - val_accuracy: 0.6510\n",
            "Epoch 66/100\n",
            "2667/2667 [==============================] - 58s 22ms/step - loss: 0.6175 - accuracy: 0.6672 - val_loss: 0.5844 - val_accuracy: 0.6896\n",
            "Epoch 67/100\n",
            "2667/2667 [==============================] - 58s 22ms/step - loss: 0.5821 - accuracy: 0.7034 - val_loss: 0.5844 - val_accuracy: 0.6943\n",
            "Epoch 68/100\n",
            "2667/2667 [==============================] - 58s 22ms/step - loss: 0.5722 - accuracy: 0.7110 - val_loss: 0.5382 - val_accuracy: 0.7341\n",
            "Epoch 69/100\n",
            "2667/2667 [==============================] - 58s 22ms/step - loss: 0.6105 - accuracy: 0.6651 - val_loss: 0.5314 - val_accuracy: 0.7372\n",
            "Epoch 70/100\n",
            "2667/2667 [==============================] - 58s 22ms/step - loss: 0.6709 - accuracy: 0.5866 - val_loss: 0.6245 - val_accuracy: 0.6586\n",
            "Epoch 71/100\n",
            "2667/2667 [==============================] - 59s 22ms/step - loss: 0.6115 - accuracy: 0.6713 - val_loss: 0.5880 - val_accuracy: 0.7019\n",
            "Epoch 72/100\n",
            "2667/2667 [==============================] - 58s 22ms/step - loss: 0.5979 - accuracy: 0.6838 - val_loss: 0.5950 - val_accuracy: 0.6749\n",
            "Epoch 73/100\n",
            "2667/2667 [==============================] - 58s 22ms/step - loss: 0.5697 - accuracy: 0.7165 - val_loss: 0.5306 - val_accuracy: 0.7374\n",
            "Epoch 74/100\n",
            "2667/2667 [==============================] - 58s 22ms/step - loss: 0.5516 - accuracy: 0.7319 - val_loss: 0.7061 - val_accuracy: 0.5006\n",
            "Epoch 75/100\n",
            "2667/2667 [==============================] - 58s 22ms/step - loss: 0.6968 - accuracy: 0.4958 - val_loss: 0.6919 - val_accuracy: 0.5230\n",
            "Epoch 76/100\n",
            "2667/2667 [==============================] - 58s 22ms/step - loss: 0.6676 - accuracy: 0.5836 - val_loss: 0.6268 - val_accuracy: 0.6509\n",
            "Epoch 77/100\n",
            "2667/2667 [==============================] - 58s 22ms/step - loss: 0.6287 - accuracy: 0.6470 - val_loss: 0.5844 - val_accuracy: 0.6878\n",
            "Epoch 78/100\n",
            "2667/2667 [==============================] - 58s 22ms/step - loss: 0.6071 - accuracy: 0.6643 - val_loss: 0.5610 - val_accuracy: 0.7103\n",
            "Epoch 79/100\n",
            "2667/2667 [==============================] - 57s 22ms/step - loss: 0.5755 - accuracy: 0.6929 - val_loss: 0.6932 - val_accuracy: 0.4995\n",
            "Epoch 80/100\n",
            "2667/2667 [==============================] - 57s 21ms/step - loss: 0.6931 - accuracy: 0.5027 - val_loss: 0.6932 - val_accuracy: 0.4994\n",
            "Epoch 81/100\n",
            "2667/2667 [==============================] - 57s 21ms/step - loss: 0.6932 - accuracy: 0.4992 - val_loss: 0.6934 - val_accuracy: 0.4994\n",
            "Epoch 82/100\n",
            "2667/2667 [==============================] - 57s 21ms/step - loss: 0.6933 - accuracy: 0.4961 - val_loss: 0.6932 - val_accuracy: 0.4994\n",
            "Epoch 83/100\n",
            "2667/2667 [==============================] - 57s 22ms/step - loss: 0.6933 - accuracy: 0.4992 - val_loss: 0.6932 - val_accuracy: 0.4994\n",
            "Epoch 84/100\n",
            "2667/2667 [==============================] - 57s 21ms/step - loss: 0.6933 - accuracy: 0.4959 - val_loss: 0.6932 - val_accuracy: 0.5006\n",
            "Epoch 85/100\n",
            "2667/2667 [==============================] - 57s 21ms/step - loss: 0.6933 - accuracy: 0.5001 - val_loss: 0.6932 - val_accuracy: 0.4994\n",
            "Epoch 86/100\n",
            "2667/2667 [==============================] - 57s 21ms/step - loss: 0.6931 - accuracy: 0.5051 - val_loss: 0.6931 - val_accuracy: 0.5006\n",
            "Epoch 87/100\n",
            "2667/2667 [==============================] - 57s 21ms/step - loss: 0.6932 - accuracy: 0.4990 - val_loss: 0.6933 - val_accuracy: 0.4994\n",
            "Epoch 88/100\n",
            "2667/2667 [==============================] - 57s 21ms/step - loss: 0.6933 - accuracy: 0.5000 - val_loss: 0.6932 - val_accuracy: 0.5006\n",
            "Epoch 89/100\n",
            "2667/2667 [==============================] - 57s 21ms/step - loss: 0.6932 - accuracy: 0.4970 - val_loss: 0.6932 - val_accuracy: 0.5006\n",
            "Epoch 90/100\n",
            "2667/2667 [==============================] - 57s 21ms/step - loss: 0.6932 - accuracy: 0.5027 - val_loss: 0.6932 - val_accuracy: 0.4994\n",
            "Epoch 91/100\n",
            "2667/2667 [==============================] - 57s 21ms/step - loss: 0.6932 - accuracy: 0.5000 - val_loss: 0.6935 - val_accuracy: 0.4994\n",
            "Epoch 92/100\n",
            "2667/2667 [==============================] - 57s 21ms/step - loss: 0.6932 - accuracy: 0.5018 - val_loss: 0.6932 - val_accuracy: 0.4994\n",
            "Epoch 93/100\n",
            "2667/2667 [==============================] - 57s 21ms/step - loss: 0.6932 - accuracy: 0.5046 - val_loss: 0.6932 - val_accuracy: 0.4994\n",
            "Epoch 94/100\n",
            "2667/2667 [==============================] - 57s 21ms/step - loss: 0.6933 - accuracy: 0.4955 - val_loss: 0.6932 - val_accuracy: 0.4994\n",
            "Epoch 95/100\n",
            "2667/2667 [==============================] - 57s 21ms/step - loss: 0.6932 - accuracy: 0.5004 - val_loss: 0.6934 - val_accuracy: 0.4994\n",
            "Epoch 96/100\n",
            "2667/2667 [==============================] - 57s 21ms/step - loss: 0.6933 - accuracy: 0.4996 - val_loss: 0.6932 - val_accuracy: 0.5006\n",
            "Epoch 97/100\n",
            "2667/2667 [==============================] - 57s 21ms/step - loss: 0.6932 - accuracy: 0.4998 - val_loss: 0.6932 - val_accuracy: 0.5006\n",
            "Epoch 98/100\n",
            "2667/2667 [==============================] - 57s 21ms/step - loss: 0.6933 - accuracy: 0.4980 - val_loss: 0.6932 - val_accuracy: 0.4994\n",
            "Epoch 99/100\n",
            "2667/2667 [==============================] - 57s 21ms/step - loss: 0.6932 - accuracy: 0.4952 - val_loss: 0.6932 - val_accuracy: 0.4994\n",
            "Epoch 100/100\n",
            "2667/2667 [==============================] - 57s 21ms/step - loss: 0.6933 - accuracy: 0.5010 - val_loss: 0.6933 - val_accuracy: 0.4994\n",
            "Fold 1, 100 epochs, 5909 sec\n"
          ],
          "name": "stdout"
        },
        {
          "output_type": "display_data",
          "data": {
            "image/png": "[encoded data removed]",
            "text/plain": [
              "<Figure size 576x360 with 1 Axes>"
            ]
          },
          "metadata": {
            "tags": [],
            "needs_background": "light"
          }
        }
      ]
    },
    {
      "cell_type": "code",
      "metadata": {
        "id": "e-jG1h5fj2Ua",
        "colab": {
          "base_uri": "https://localhost:8080/"
        },
        "outputId": "062e2936-8926-4768-b784-73af56dd7962"
      },
      "source": [
        "from keras.models import load_model\n",
        "X,y = prepare_inputs_len_x_alphabet(pc_test,nc_test,ALPHABET)\n",
        "best_model=load_model(MODELPATH)\n",
        "scores = best_model.evaluate(X, y, verbose=0)\n",
        "print(\"The best model parameters were saved during cross-validation.\")\n",
        "print(\"Best was defined as maximum validation accuracy at end of any epoch.\")\n",
        "print(\"Now re-load the best model and test it on previously unseen data.\")\n",
        "print(\"Test on\",len(pc_test),\"PC seqs\")\n",
        "print(\"Test on\",len(nc_test),\"NC seqs\")\n",
        "print(\"%s: %.2f%%\" % (best_model.metrics_names[1], scores[1]*100))\n"
      ],
      "execution_count": 12,
      "outputs": [
        {
          "output_type": "stream",
          "text": [
            "The best model parameters were saved during cross-validation.\n",
            "Best was defined as maximum validation accuracy at end of any epoch.\n",
            "Now re-load the best model and test it on previously unseen data.\n",
            "Test on 1000 PC seqs\n",
            "Test on 1000 NC seqs\n",
            "accuracy: 83.70%\n"
          ],
          "name": "stdout"
        }
      ]
    },
    {
      "cell_type": "code",
      "metadata": {
        "id": "VycUnmvUj2Ue",
        "colab": {
          "base_uri": "https://localhost:8080/",
          "height": 313
        },
        "outputId": "9292fbf1-2dbb-47a7-b897-dce2afa83c42"
      },
      "source": [
        "from sklearn.metrics import roc_curve\n",
        "from sklearn.metrics import roc_auc_score\n",
        "ns_probs = [0 for _ in range(len(y))]\n",
        "bm_probs = best_model.predict(X)\n",
        "ns_auc = roc_auc_score(y, ns_probs)\n",
        "bm_auc = roc_auc_score(y, bm_probs)\n",
        "ns_fpr, ns_tpr, _ = roc_curve(y, ns_probs)\n",
        "bm_fpr, bm_tpr, _ = roc_curve(y, bm_probs)\n",
        "plt.plot(ns_fpr, ns_tpr, linestyle='--', label='Guess, auc=%.4f'%ns_auc)\n",
        "plt.plot(bm_fpr, bm_tpr, marker='.', label='Model, auc=%.4f'%bm_auc)\n",
        "plt.title('ROC')\n",
        "plt.xlabel('False Positive Rate')\n",
        "plt.ylabel('True Positive Rate')\n",
        "plt.legend()\n",
        "plt.show()\n",
        "print(\"%s: %.2f%%\" %('AUC',bm_auc*100.0))\n"
      ],
      "execution_count": 13,
      "outputs": [
        {
          "output_type": "display_data",
          "data": {
            "image/png": "[encoded data removed]",
            "text/plain": [
              "<Figure size 432x288 with 1 Axes>"
            ]
          },
          "metadata": {
            "tags": [],
            "needs_background": "light"
          }
        },
        {
          "output_type": "stream",
          "text": [
            "AUC: 90.17%\n"
          ],
          "name": "stdout"
        }
      ]
    },
    {
      "cell_type": "code",
      "metadata": {
        "id": "kFMb6rGNj2Ug",
        "colab": {
          "base_uri": "https://localhost:8080/",
          "height": 36
        },
        "outputId": "6295a169-51c6-4d6f-bf5f-e5b306adc7ac"
      },
      "source": [
        "t = time.time()\n",
        "time.strftime('%Y-%m-%d %H:%M:%S %Z', time.localtime(t))"
      ],
      "execution_count": 14,
      "outputs": [
        {
          "output_type": "execute_result",
          "data": {
            "application/vnd.google.colaboratory.intrinsic+json": {
              "type": "string"
            },
            "text/plain": [
              "'2021-07-14 18:51:00 UTC'"
            ]
          },
          "metadata": {
            "tags": []
          },
          "execution_count": 14
        }
      ]
    }
  ]
}