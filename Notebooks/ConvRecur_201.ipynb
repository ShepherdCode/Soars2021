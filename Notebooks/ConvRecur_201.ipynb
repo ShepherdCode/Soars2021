{
  "nbformat": 4,
  "nbformat_minor": 0,
  "metadata": {
    "accelerator": "GPU",
    "colab": {
      "name": "ConvRecur_201.ipynb",
      "provenance": [],
      "collapsed_sections": []
    },
    "kernelspec": {
      "display_name": "Python 3",
      "language": "python",
      "name": "python3"
    },
    "language_info": {
      "codemirror_mode": {
        "name": "ipython",
        "version": 3
      },
      "file_extension": ".py",
      "mimetype": "text/x-python",
      "name": "python",
      "nbconvert_exporter": "python",
      "pygments_lexer": "ipython3",
      "version": "3.8.3"
    }
  },
  "cells": [
    {
      "cell_type": "markdown",
      "metadata": {
        "id": "0asdcdunj2Tx"
      },
      "source": [
        "# ORF recognition by Convolutional/Recurrent\n",
        "\n",
        "So far CNN+LSTM 64 overfits the 128 base RNA problem.\n",
        "That was using 32K samples/class. Here, try more samples. \n",
        "\n",
        "Also, build the model without specifying INPUT_SIZE.\n",
        "\n"
      ]
    },
    {
      "cell_type": "code",
      "metadata": {
        "colab": {
          "base_uri": "https://localhost:8080/",
          "height": 36
        },
        "id": "QP1VTRNQj2UO",
        "outputId": "70664921-f662-48b1-eaaf-af93f383cb30"
      },
      "source": [
        "import time \n",
        "t = time.time()\n",
        "time.strftime('%Y-%m-%d %H:%M:%S %Z', time.localtime(t))"
      ],
      "execution_count": 15,
      "outputs": [
        {
          "output_type": "execute_result",
          "data": {
            "application/vnd.google.colaboratory.intrinsic+json": {
              "type": "string"
            },
            "text/plain": [
              "'2021-07-01 16:32:56 UTC'"
            ]
          },
          "metadata": {
            "tags": []
          },
          "execution_count": 15
        }
      ]
    },
    {
      "cell_type": "code",
      "metadata": {
        "id": "Nhz4GKonj2T_"
      },
      "source": [
        "#Input\n",
        "PC_SEQUENCES=32000   # how many protein-coding sequences\n",
        "NC_SEQUENCES=32000   # how many non-coding sequences\n",
        "PC_TESTS=1000\n",
        "NC_TESTS=1000\n",
        "RNA_LEN=256            # how long is each sequence\n",
        "CDS_LEN=128            # min CDS len to be coding\n",
        "ALPHABET=4          # how many different letters are possible\n",
        "INPUT_SHAPE_2D = (RNA_LEN,ALPHABET,1) # Conv2D needs 3D inputs\n",
        "INPUT_SHAPE = (RNA_LEN,ALPHABET) # Conv1D needs 2D inputs\n",
        "\n",
        "#Model\n",
        "FILTERS = 32   # how many different patterns the model looks for\n",
        "CELLS = 128 #Used in LSTM layer(s)\n",
        "NEURONS = 128 #Used in Dense layer(s)\n",
        "DROP_RATE = 0.05\n",
        "WIDTH = 3   # how wide each pattern is, in bases\n",
        "STRIDE_2D = (1,1)  # For Conv2D how far in each direction\n",
        "STRIDE = 1 # For Conv1D, how far between pattern matches, in bases\n",
        "\n",
        "#Training\n",
        "EPOCHS=50  # how many times to train on all the data\n",
        "SPLITS=3  # SPLITS=3 means train on 2/3 and validate on 1/3 \n",
        "FOLDS=3  # train the model this many times (range 1 to SPLITS)"
      ],
      "execution_count": 16,
      "outputs": []
    },
    {
      "cell_type": "code",
      "metadata": {
        "colab": {
          "base_uri": "https://localhost:8080/"
        },
        "id": "lr7q90rxj2UE",
        "outputId": "d6f5f271-e26a-411f-caa5-3d944965a366"
      },
      "source": [
        "import sys\n",
        "IN_COLAB = False\n",
        "try:\n",
        "    from google.colab import drive\n",
        "    IN_COLAB = True\n",
        "except:\n",
        "    pass\n",
        "if IN_COLAB:\n",
        "    print(\"On Google CoLab, mount cloud-local file, get our code from GitHub.\")\n",
        "    PATH='/content/drive/'\n",
        "    #drive.mount(PATH,force_remount=True)  # hardly ever need this\n",
        "    #drive.mount(PATH)    # Google will require login credentials\n",
        "    DATAPATH=PATH+'My Drive/data/'  # must end in \"/\"\n",
        "    import requests\n",
        "    r = requests.get('https://raw.githubusercontent.com/ShepherdCode/Soars2021/master/SimTools/RNA_describe.py')\n",
        "    with open('RNA_describe.py', 'w') as f:\n",
        "        f.write(r.text)  \n",
        "    from RNA_describe import ORF_counter\n",
        "    from RNA_describe import Random_Base_Oracle\n",
        "    r = requests.get('https://raw.githubusercontent.com/ShepherdCode/Soars2021/master/SimTools/RNA_prep.py')\n",
        "    with open('RNA_prep.py', 'w') as f:\n",
        "        f.write(r.text)  \n",
        "    from RNA_prep import prepare_inputs_len_x_alphabet\n",
        "else:\n",
        "        print(\"CoLab not working. On my PC, use relative paths.\")\n",
        "        DATAPATH='data/'  # must end in \"/\"\n",
        "        sys.path.append(\"..\") # append parent dir in order to use sibling dirs\n",
        "        from SimTools.RNA_describe import ORF_counter,Random_Base_Oracle\n",
        "        from SimTools.RNA_prep import prepare_inputs_len_x_alphabet\n",
        "\n",
        "MODELPATH=\"BestModel\"  # saved on cloud instance and lost after logout\n",
        "#MODELPATH=DATAPATH+MODELPATH  # saved on Google Drive but requires login\n"
      ],
      "execution_count": 17,
      "outputs": [
        {
          "output_type": "stream",
          "text": [
            "On Google CoLab, mount cloud-local file, get our code from GitHub.\n"
          ],
          "name": "stdout"
        }
      ]
    },
    {
      "cell_type": "code",
      "metadata": {
        "id": "EGDXH8Uwj2UM"
      },
      "source": [
        "from os import listdir\n",
        "import csv\n",
        "from zipfile import ZipFile\n",
        "\n",
        "import numpy as np\n",
        "import pandas as pd\n",
        "from scipy import stats  # mode\n",
        "\n",
        "from sklearn.preprocessing import StandardScaler\n",
        "from sklearn.model_selection import KFold\n",
        "from sklearn.model_selection import cross_val_score\n",
        "\n",
        "from keras.models import Sequential\n",
        "from keras.layers import Dense,Embedding,Dropout\n",
        "from keras.layers import Conv1D,Conv2D\n",
        "from keras.layers import GRU,LSTM\n",
        "from keras.layers import Flatten,TimeDistributed\n",
        "from keras.layers import MaxPooling1D,MaxPooling2D\n",
        "from keras.losses import BinaryCrossentropy\n",
        "# tf.keras.losses.BinaryCrossentropy\n",
        "\n",
        "import matplotlib.pyplot as plt\n",
        "from matplotlib import colors\n",
        "mycmap = colors.ListedColormap(['red','blue'])  # list color for label 0 then 1\n",
        "np.set_printoptions(precision=2)\n"
      ],
      "execution_count": 18,
      "outputs": []
    },
    {
      "cell_type": "code",
      "metadata": {
        "colab": {
          "base_uri": "https://localhost:8080/"
        },
        "id": "CUOG_jEvGtOm",
        "outputId": "fb772066-30f9-4995-aaaf-94e7d16fc794"
      },
      "source": [
        "rbo=Random_Base_Oracle(RNA_LEN,True)\n",
        "pc_all,nc_all = rbo.get_partitioned_sequences(CDS_LEN,10) # just testing\n",
        "pc_all,nc_all = rbo.get_partitioned_sequences(CDS_LEN,PC_SEQUENCES+PC_TESTS)\n",
        "print(\"Use\",len(pc_all),\"PC seqs\")\n",
        "print(\"Use\",len(nc_all),\"NC seqs\")"
      ],
      "execution_count": 19,
      "outputs": [
        {
          "output_type": "stream",
          "text": [
            "It took 50 trials to reach 10 per class.\n",
            "It took 184969 trials to reach 33000 per class.\n",
            "Use 33000 PC seqs\n",
            "Use 33000 NC seqs\n"
          ],
          "name": "stdout"
        }
      ]
    },
    {
      "cell_type": "code",
      "metadata": {
        "colab": {
          "base_uri": "https://localhost:8080/"
        },
        "id": "Q-BmSXi2jUyl",
        "outputId": "8236f3fd-7028-4652-9e53-21bcc3aadcbe"
      },
      "source": [
        "# Describe the sequences\n",
        "def describe_sequences(list_of_seq):\n",
        "    oc = ORF_counter()\n",
        "    num_seq = len(list_of_seq)\n",
        "    rna_lens = np.zeros(num_seq)\n",
        "    orf_lens = np.zeros(num_seq)\n",
        "    for i in range(0,num_seq):\n",
        "        rna_len = len(list_of_seq[i])\n",
        "        rna_lens[i] = rna_len\n",
        "        oc.set_sequence(list_of_seq[i])\n",
        "        orf_len = oc.get_max_orf_len()\n",
        "        orf_lens[i] = orf_len\n",
        "    print (\"Average RNA length:\",rna_lens.mean())\n",
        "    print (\"Average ORF length:\",orf_lens.mean())\n",
        "    \n",
        "print(\"Simulated sequences prior to adjustment:\")\n",
        "print(\"PC seqs\")\n",
        "describe_sequences(pc_all)\n",
        "print(\"NC seqs\")\n",
        "describe_sequences(nc_all)"
      ],
      "execution_count": 20,
      "outputs": [
        {
          "output_type": "stream",
          "text": [
            "Simulated sequences prior to adjustment:\n",
            "PC seqs\n",
            "Average RNA length: 256.0\n",
            "Average ORF length: 156.55636363636364\n",
            "NC seqs\n",
            "Average RNA length: 256.0\n",
            "Average ORF length: 67.20145454545454\n"
          ],
          "name": "stdout"
        }
      ]
    },
    {
      "cell_type": "code",
      "metadata": {
        "id": "iP1y7-J3jUys"
      },
      "source": [
        "pc_train=pc_all[:PC_SEQUENCES]\n",
        "nc_train=nc_all[:NC_SEQUENCES]\n",
        "pc_test=pc_all[PC_SEQUENCES:]\n",
        "nc_test=nc_all[NC_SEQUENCES:]"
      ],
      "execution_count": 21,
      "outputs": []
    },
    {
      "cell_type": "code",
      "metadata": {
        "colab": {
          "base_uri": "https://localhost:8080/"
        },
        "id": "CIpTrnH6j2US",
        "outputId": "d8f5db6f-4133-4123-a8d4-e49b00c8cfc6"
      },
      "source": [
        "# Use code from our SimTools library.\n",
        "X,y = prepare_inputs_len_x_alphabet(pc_train,nc_train,ALPHABET) # shuffles\n",
        "print(\"Data ready.\")"
      ],
      "execution_count": 22,
      "outputs": [
        {
          "output_type": "stream",
          "text": [
            "Data ready.\n"
          ],
          "name": "stdout"
        }
      ]
    },
    {
      "cell_type": "code",
      "metadata": {
        "colab": {
          "base_uri": "https://localhost:8080/"
        },
        "id": "7NvrVU8ij2UU",
        "outputId": "dab812c9-f3ee-475d-c4c2-979f15f01eab"
      },
      "source": [
        "def make_DNN():\n",
        "    print(\"make_DNN\")\n",
        "    print(\"input shape:\",INPUT_SHAPE)\n",
        "    dnn = Sequential()\n",
        "    #dnn.add(Embedding(input_dim=INPUT_SHAPE,output_dim=INPUT_SHAPE)) \n",
        "    dnn.add(Conv1D(filters=FILTERS,kernel_size=WIDTH,strides=STRIDE,padding=\"same\",\n",
        "            input_shape=INPUT_SHAPE))\n",
        "    dnn.add(Conv1D(filters=FILTERS,kernel_size=WIDTH,strides=STRIDE,padding=\"same\"))\n",
        "    dnn.add(MaxPooling1D())\n",
        "    dnn.add(Conv1D(filters=FILTERS,kernel_size=WIDTH,strides=STRIDE,padding=\"same\")) #Testing\n",
        "    dnn.add(Conv1D(filters=FILTERS,kernel_size=WIDTH,strides=STRIDE,padding=\"same\")) #Testing\n",
        "    dnn.add(MaxPooling1D()) #Testing\n",
        "    #dnn.add(TimeDistributed(Flatten()))\n",
        "    dnn.add(LSTM(CELLS,return_sequences=True))\n",
        "    dnn.add(LSTM(CELLS,return_sequences=False))\n",
        "    dnn.add(Dense(NEURONS,activation=\"sigmoid\",dtype=np.float32))   \n",
        "    dnn.add(Dropout(DROP_RATE))\n",
        "    dnn.add(Dense(1,activation=\"sigmoid\",dtype=np.float32))   \n",
        "    dnn.compile(optimizer='adam',\n",
        "                loss=BinaryCrossentropy(from_logits=False),\n",
        "                metrics=['accuracy'])   # add to default metrics=loss\n",
        "    #dnn.build(input_shape=INPUT_SHAPE)   \n",
        "    dnn.build()   \n",
        "    #ln_rate = tf.keras.optimizers.Adam(learning_rate = LN_RATE)\n",
        "    #bc=tf.keras.losses.BinaryCrossentropy(from_logits=False)\n",
        "    #model.compile(loss=bc, optimizer=ln_rate, metrics=[\"accuracy\"])\n",
        "    return dnn\n",
        "model = make_DNN()\n",
        "print(model.summary())"
      ],
      "execution_count": 23,
      "outputs": [
        {
          "output_type": "stream",
          "text": [
            "make_DNN\n",
            "input shape: (256, 4)\n",
            "Model: \"sequential_2\"\n",
            "_________________________________________________________________\n",
            "Layer (type)                 Output Shape              Param #   \n",
            "=================================================================\n",
            "conv1d_8 (Conv1D)            (None, 256, 32)           416       \n",
            "_________________________________________________________________\n",
            "conv1d_9 (Conv1D)            (None, 256, 32)           3104      \n",
            "_________________________________________________________________\n",
            "max_pooling1d_4 (MaxPooling1 (None, 128, 32)           0         \n",
            "_________________________________________________________________\n",
            "conv1d_10 (Conv1D)           (None, 128, 32)           3104      \n",
            "_________________________________________________________________\n",
            "conv1d_11 (Conv1D)           (None, 128, 32)           3104      \n",
            "_________________________________________________________________\n",
            "max_pooling1d_5 (MaxPooling1 (None, 64, 32)            0         \n",
            "_________________________________________________________________\n",
            "lstm_4 (LSTM)                (None, 64, 128)           82432     \n",
            "_________________________________________________________________\n",
            "lstm_5 (LSTM)                (None, 128)               131584    \n",
            "_________________________________________________________________\n",
            "dense_4 (Dense)              (None, 128)               16512     \n",
            "_________________________________________________________________\n",
            "dropout_2 (Dropout)          (None, 128)               0         \n",
            "_________________________________________________________________\n",
            "dense_5 (Dense)              (None, 1)                 129       \n",
            "=================================================================\n",
            "Total params: 240,385\n",
            "Trainable params: 240,385\n",
            "Non-trainable params: 0\n",
            "_________________________________________________________________\n",
            "None\n"
          ],
          "name": "stdout"
        }
      ]
    },
    {
      "cell_type": "code",
      "metadata": {
        "id": "nlVF0hR3j2UW"
      },
      "source": [
        "from keras.callbacks import ModelCheckpoint\n",
        "def do_cross_validation(X,y):\n",
        "    cv_scores = []\n",
        "    fold=0\n",
        "    mycallbacks = [ModelCheckpoint(\n",
        "        filepath=MODELPATH, save_best_only=True, \n",
        "        monitor='val_accuracy', mode='max')]   \n",
        "    splitter = KFold(n_splits=SPLITS)  # this does not shuffle\n",
        "    for train_index,valid_index in splitter.split(X):\n",
        "        if fold < FOLDS:\n",
        "            fold += 1\n",
        "            X_train=X[train_index] # inputs for training\n",
        "            y_train=y[train_index] # labels for training\n",
        "            X_valid=X[valid_index] # inputs for validation\n",
        "            y_valid=y[valid_index] # labels for validation\n",
        "            print(\"MODEL\")\n",
        "            # Call constructor on each CV. Else, continually improves the same model.\n",
        "            model = model = make_DNN()\n",
        "            print(\"FIT\")  # model.fit() implements learning\n",
        "            start_time=time.time()\n",
        "            history=model.fit(X_train, y_train, \n",
        "                    epochs=EPOCHS, \n",
        "                    verbose=1,  # ascii art while learning\n",
        "                    callbacks=mycallbacks,   # called at end of each epoch\n",
        "                    validation_data=(X_valid,y_valid))\n",
        "            end_time=time.time()\n",
        "            elapsed_time=(end_time-start_time)                        \n",
        "            print(\"Fold %d, %d epochs, %d sec\"%(fold,EPOCHS,elapsed_time))\n",
        "            # print(history.history.keys())  # all these keys will be shown in figure\n",
        "            pd.DataFrame(history.history).plot(figsize=(8,5))\n",
        "            plt.grid(True)\n",
        "            plt.gca().set_ylim(0,1) # any losses > 1 will be off the scale\n",
        "            plt.show()\n"
      ],
      "execution_count": 24,
      "outputs": []
    },
    {
      "cell_type": "code",
      "metadata": {
        "colab": {
          "base_uri": "https://localhost:8080/",
          "height": 1000
        },
        "id": "9Ggt4EsSj2UY",
        "outputId": "fc359237-ddb9-4a81-ead9-52eea52f9ce3"
      },
      "source": [
        "do_cross_validation(X,y)"
      ],
      "execution_count": 25,
      "outputs": [
        {
          "output_type": "stream",
          "text": [
            "MODEL\n",
            "make_DNN\n",
            "input shape: (256, 4)\n",
            "FIT\n",
            "Epoch 1/50\n",
            "1334/1334 [==============================] - 23s 15ms/step - loss: 0.6994 - accuracy: 0.4986 - val_loss: 0.6986 - val_accuracy: 0.4960\n"
          ],
          "name": "stdout"
        },
        {
          "output_type": "stream",
          "text": [
            "WARNING:absl:Found untraced functions such as lstm_cell_8_layer_call_fn, lstm_cell_8_layer_call_and_return_conditional_losses, lstm_cell_9_layer_call_fn, lstm_cell_9_layer_call_and_return_conditional_losses, lstm_cell_8_layer_call_fn while saving (showing 5 of 10). These functions will not be directly callable after loading.\n"
          ],
          "name": "stderr"
        },
        {
          "output_type": "stream",
          "text": [
            "INFO:tensorflow:Assets written to: BestModel/assets\n"
          ],
          "name": "stdout"
        },
        {
          "output_type": "stream",
          "text": [
            "INFO:tensorflow:Assets written to: BestModel/assets\n"
          ],
          "name": "stderr"
        },
        {
          "output_type": "stream",
          "text": [
            "Epoch 2/50\n",
            "1334/1334 [==============================] - 19s 14ms/step - loss: 0.6968 - accuracy: 0.5074 - val_loss: 0.6922 - val_accuracy: 0.5174\n"
          ],
          "name": "stdout"
        },
        {
          "output_type": "stream",
          "text": [
            "WARNING:absl:Found untraced functions such as lstm_cell_8_layer_call_fn, lstm_cell_8_layer_call_and_return_conditional_losses, lstm_cell_9_layer_call_fn, lstm_cell_9_layer_call_and_return_conditional_losses, lstm_cell_8_layer_call_fn while saving (showing 5 of 10). These functions will not be directly callable after loading.\n"
          ],
          "name": "stderr"
        },
        {
          "output_type": "stream",
          "text": [
            "INFO:tensorflow:Assets written to: BestModel/assets\n"
          ],
          "name": "stdout"
        },
        {
          "output_type": "stream",
          "text": [
            "INFO:tensorflow:Assets written to: BestModel/assets\n"
          ],
          "name": "stderr"
        },
        {
          "output_type": "stream",
          "text": [
            "Epoch 3/50\n",
            "1334/1334 [==============================] - 19s 14ms/step - loss: 0.6951 - accuracy: 0.5114 - val_loss: 0.6899 - val_accuracy: 0.5260\n"
          ],
          "name": "stdout"
        },
        {
          "output_type": "stream",
          "text": [
            "WARNING:absl:Found untraced functions such as lstm_cell_8_layer_call_fn, lstm_cell_8_layer_call_and_return_conditional_losses, lstm_cell_9_layer_call_fn, lstm_cell_9_layer_call_and_return_conditional_losses, lstm_cell_8_layer_call_fn while saving (showing 5 of 10). These functions will not be directly callable after loading.\n"
          ],
          "name": "stderr"
        },
        {
          "output_type": "stream",
          "text": [
            "INFO:tensorflow:Assets written to: BestModel/assets\n"
          ],
          "name": "stdout"
        },
        {
          "output_type": "stream",
          "text": [
            "INFO:tensorflow:Assets written to: BestModel/assets\n"
          ],
          "name": "stderr"
        },
        {
          "output_type": "stream",
          "text": [
            "Epoch 4/50\n",
            "1334/1334 [==============================] - 20s 15ms/step - loss: 0.6918 - accuracy: 0.5248 - val_loss: 0.6885 - val_accuracy: 0.5383\n"
          ],
          "name": "stdout"
        },
        {
          "output_type": "stream",
          "text": [
            "WARNING:absl:Found untraced functions such as lstm_cell_8_layer_call_fn, lstm_cell_8_layer_call_and_return_conditional_losses, lstm_cell_9_layer_call_fn, lstm_cell_9_layer_call_and_return_conditional_losses, lstm_cell_8_layer_call_fn while saving (showing 5 of 10). These functions will not be directly callable after loading.\n"
          ],
          "name": "stderr"
        },
        {
          "output_type": "stream",
          "text": [
            "INFO:tensorflow:Assets written to: BestModel/assets\n"
          ],
          "name": "stdout"
        },
        {
          "output_type": "stream",
          "text": [
            "INFO:tensorflow:Assets written to: BestModel/assets\n"
          ],
          "name": "stderr"
        },
        {
          "output_type": "stream",
          "text": [
            "Epoch 5/50\n",
            "1334/1334 [==============================] - 19s 14ms/step - loss: 0.6685 - accuracy: 0.5869 - val_loss: 0.6304 - val_accuracy: 0.6453\n"
          ],
          "name": "stdout"
        },
        {
          "output_type": "stream",
          "text": [
            "WARNING:absl:Found untraced functions such as lstm_cell_8_layer_call_fn, lstm_cell_8_layer_call_and_return_conditional_losses, lstm_cell_9_layer_call_fn, lstm_cell_9_layer_call_and_return_conditional_losses, lstm_cell_8_layer_call_fn while saving (showing 5 of 10). These functions will not be directly callable after loading.\n"
          ],
          "name": "stderr"
        },
        {
          "output_type": "stream",
          "text": [
            "INFO:tensorflow:Assets written to: BestModel/assets\n"
          ],
          "name": "stdout"
        },
        {
          "output_type": "stream",
          "text": [
            "INFO:tensorflow:Assets written to: BestModel/assets\n"
          ],
          "name": "stderr"
        },
        {
          "output_type": "stream",
          "text": [
            "Epoch 6/50\n",
            "1334/1334 [==============================] - 20s 15ms/step - loss: 0.6313 - accuracy: 0.6413 - val_loss: 0.6217 - val_accuracy: 0.6530\n"
          ],
          "name": "stdout"
        },
        {
          "output_type": "stream",
          "text": [
            "WARNING:absl:Found untraced functions such as lstm_cell_8_layer_call_fn, lstm_cell_8_layer_call_and_return_conditional_losses, lstm_cell_9_layer_call_fn, lstm_cell_9_layer_call_and_return_conditional_losses, lstm_cell_8_layer_call_fn while saving (showing 5 of 10). These functions will not be directly callable after loading.\n"
          ],
          "name": "stderr"
        },
        {
          "output_type": "stream",
          "text": [
            "INFO:tensorflow:Assets written to: BestModel/assets\n"
          ],
          "name": "stdout"
        },
        {
          "output_type": "stream",
          "text": [
            "INFO:tensorflow:Assets written to: BestModel/assets\n"
          ],
          "name": "stderr"
        },
        {
          "output_type": "stream",
          "text": [
            "Epoch 7/50\n",
            "1334/1334 [==============================] - 20s 15ms/step - loss: 0.6176 - accuracy: 0.6572 - val_loss: 0.6275 - val_accuracy: 0.6454\n",
            "Epoch 8/50\n",
            "1334/1334 [==============================] - 20s 15ms/step - loss: 0.6040 - accuracy: 0.6737 - val_loss: 0.5913 - val_accuracy: 0.6812\n"
          ],
          "name": "stdout"
        },
        {
          "output_type": "stream",
          "text": [
            "WARNING:absl:Found untraced functions such as lstm_cell_8_layer_call_fn, lstm_cell_8_layer_call_and_return_conditional_losses, lstm_cell_9_layer_call_fn, lstm_cell_9_layer_call_and_return_conditional_losses, lstm_cell_8_layer_call_fn while saving (showing 5 of 10). These functions will not be directly callable after loading.\n"
          ],
          "name": "stderr"
        },
        {
          "output_type": "stream",
          "text": [
            "INFO:tensorflow:Assets written to: BestModel/assets\n"
          ],
          "name": "stdout"
        },
        {
          "output_type": "stream",
          "text": [
            "INFO:tensorflow:Assets written to: BestModel/assets\n"
          ],
          "name": "stderr"
        },
        {
          "output_type": "stream",
          "text": [
            "Epoch 9/50\n",
            "1334/1334 [==============================] - 19s 14ms/step - loss: 0.5899 - accuracy: 0.6844 - val_loss: 0.5887 - val_accuracy: 0.6869\n"
          ],
          "name": "stdout"
        },
        {
          "output_type": "stream",
          "text": [
            "WARNING:absl:Found untraced functions such as lstm_cell_8_layer_call_fn, lstm_cell_8_layer_call_and_return_conditional_losses, lstm_cell_9_layer_call_fn, lstm_cell_9_layer_call_and_return_conditional_losses, lstm_cell_8_layer_call_fn while saving (showing 5 of 10). These functions will not be directly callable after loading.\n"
          ],
          "name": "stderr"
        },
        {
          "output_type": "stream",
          "text": [
            "INFO:tensorflow:Assets written to: BestModel/assets\n"
          ],
          "name": "stdout"
        },
        {
          "output_type": "stream",
          "text": [
            "INFO:tensorflow:Assets written to: BestModel/assets\n"
          ],
          "name": "stderr"
        },
        {
          "output_type": "stream",
          "text": [
            "Epoch 10/50\n",
            "1334/1334 [==============================] - 19s 14ms/step - loss: 0.5755 - accuracy: 0.6973 - val_loss: 0.5976 - val_accuracy: 0.6724\n",
            "Epoch 11/50\n",
            "1334/1334 [==============================] - 19s 14ms/step - loss: 0.5642 - accuracy: 0.7049 - val_loss: 0.5906 - val_accuracy: 0.6852\n",
            "Epoch 12/50\n",
            "1334/1334 [==============================] - 19s 14ms/step - loss: 0.5542 - accuracy: 0.7109 - val_loss: 0.5930 - val_accuracy: 0.6772\n",
            "Epoch 13/50\n",
            "1334/1334 [==============================] - 19s 14ms/step - loss: 0.5454 - accuracy: 0.7164 - val_loss: 0.5990 - val_accuracy: 0.6756\n",
            "Epoch 14/50\n",
            "1334/1334 [==============================] - 19s 14ms/step - loss: 0.5369 - accuracy: 0.7233 - val_loss: 0.5947 - val_accuracy: 0.6762\n",
            "Epoch 15/50\n",
            "1334/1334 [==============================] - 19s 14ms/step - loss: 0.5202 - accuracy: 0.7385 - val_loss: 0.6083 - val_accuracy: 0.6767\n",
            "Epoch 16/50\n",
            "1334/1334 [==============================] - 19s 14ms/step - loss: 0.5004 - accuracy: 0.7500 - val_loss: 0.6142 - val_accuracy: 0.6785\n",
            "Epoch 17/50\n",
            "1334/1334 [==============================] - 19s 14ms/step - loss: 0.4899 - accuracy: 0.7589 - val_loss: 0.6224 - val_accuracy: 0.6722\n",
            "Epoch 18/50\n",
            "1334/1334 [==============================] - 19s 14ms/step - loss: 0.4694 - accuracy: 0.7723 - val_loss: 0.6402 - val_accuracy: 0.6701\n",
            "Epoch 19/50\n",
            "1334/1334 [==============================] - 19s 14ms/step - loss: 0.4457 - accuracy: 0.7858 - val_loss: 0.6712 - val_accuracy: 0.6665\n",
            "Epoch 20/50\n",
            "1334/1334 [==============================] - 19s 14ms/step - loss: 0.4292 - accuracy: 0.7950 - val_loss: 0.6773 - val_accuracy: 0.6613\n",
            "Epoch 21/50\n",
            "1334/1334 [==============================] - 19s 14ms/step - loss: 0.4010 - accuracy: 0.8119 - val_loss: 0.7339 - val_accuracy: 0.6572\n",
            "Epoch 22/50\n",
            "1334/1334 [==============================] - 19s 14ms/step - loss: 0.3667 - accuracy: 0.8341 - val_loss: 0.7776 - val_accuracy: 0.6515\n",
            "Epoch 23/50\n",
            "1334/1334 [==============================] - 19s 14ms/step - loss: 0.3388 - accuracy: 0.8500 - val_loss: 0.7626 - val_accuracy: 0.6496\n",
            "Epoch 24/50\n",
            "1334/1334 [==============================] - 19s 14ms/step - loss: 0.3150 - accuracy: 0.8614 - val_loss: 0.8141 - val_accuracy: 0.6489\n",
            "Epoch 25/50\n",
            "1334/1334 [==============================] - 19s 14ms/step - loss: 0.2839 - accuracy: 0.8749 - val_loss: 0.8587 - val_accuracy: 0.6435\n",
            "Epoch 26/50\n",
            "1334/1334 [==============================] - 19s 14ms/step - loss: 0.2584 - accuracy: 0.8908 - val_loss: 1.0079 - val_accuracy: 0.6439\n",
            "Epoch 27/50\n",
            "1334/1334 [==============================] - 19s 15ms/step - loss: 0.2313 - accuracy: 0.9032 - val_loss: 1.0244 - val_accuracy: 0.6436\n",
            "Epoch 28/50\n",
            "1334/1334 [==============================] - 19s 14ms/step - loss: 0.2103 - accuracy: 0.9109 - val_loss: 1.0968 - val_accuracy: 0.6378\n",
            "Epoch 29/50\n",
            "1334/1334 [==============================] - 19s 14ms/step - loss: 0.1950 - accuracy: 0.9193 - val_loss: 1.1957 - val_accuracy: 0.6300\n",
            "Epoch 30/50\n",
            "1334/1334 [==============================] - 20s 15ms/step - loss: 0.1747 - accuracy: 0.9292 - val_loss: 1.1525 - val_accuracy: 0.6377\n",
            "Epoch 31/50\n",
            "1334/1334 [==============================] - 20s 15ms/step - loss: 0.1649 - accuracy: 0.9336 - val_loss: 1.2649 - val_accuracy: 0.6372\n",
            "Epoch 32/50\n",
            "1334/1334 [==============================] - 21s 16ms/step - loss: 0.1516 - accuracy: 0.9404 - val_loss: 1.3565 - val_accuracy: 0.6386\n",
            "Epoch 33/50\n",
            "1334/1334 [==============================] - 21s 16ms/step - loss: 0.1385 - accuracy: 0.9478 - val_loss: 1.3740 - val_accuracy: 0.6303\n",
            "Epoch 34/50\n",
            "1334/1334 [==============================] - 20s 15ms/step - loss: 0.1311 - accuracy: 0.9483 - val_loss: 1.4885 - val_accuracy: 0.6401\n",
            "Epoch 35/50\n",
            "1334/1334 [==============================] - 20s 15ms/step - loss: 0.1290 - accuracy: 0.9501 - val_loss: 1.3492 - val_accuracy: 0.6364\n",
            "Epoch 36/50\n",
            "1334/1334 [==============================] - 20s 15ms/step - loss: 0.1197 - accuracy: 0.9538 - val_loss: 1.5014 - val_accuracy: 0.6387\n",
            "Epoch 37/50\n",
            "1334/1334 [==============================] - 20s 15ms/step - loss: 0.1118 - accuracy: 0.9561 - val_loss: 1.4546 - val_accuracy: 0.6408\n",
            "Epoch 38/50\n",
            "1334/1334 [==============================] - 19s 15ms/step - loss: 0.1081 - accuracy: 0.9590 - val_loss: 1.5483 - val_accuracy: 0.6382\n",
            "Epoch 39/50\n",
            "1334/1334 [==============================] - 20s 15ms/step - loss: 0.0980 - accuracy: 0.9634 - val_loss: 1.4435 - val_accuracy: 0.6327\n",
            "Epoch 40/50\n",
            "1334/1334 [==============================] - 19s 14ms/step - loss: 0.1001 - accuracy: 0.9616 - val_loss: 1.6202 - val_accuracy: 0.6357\n",
            "Epoch 41/50\n",
            "1334/1334 [==============================] - 19s 14ms/step - loss: 0.0990 - accuracy: 0.9624 - val_loss: 1.6136 - val_accuracy: 0.6357\n",
            "Epoch 42/50\n",
            "1334/1334 [==============================] - 19s 15ms/step - loss: 0.0924 - accuracy: 0.9654 - val_loss: 1.6702 - val_accuracy: 0.6396\n",
            "Epoch 43/50\n",
            "1334/1334 [==============================] - 19s 14ms/step - loss: 0.0996 - accuracy: 0.9628 - val_loss: 1.7243 - val_accuracy: 0.6389\n",
            "Epoch 44/50\n",
            "1334/1334 [==============================] - 19s 14ms/step - loss: 0.0927 - accuracy: 0.9659 - val_loss: 1.6687 - val_accuracy: 0.6278\n",
            "Epoch 45/50\n",
            "1334/1334 [==============================] - 19s 14ms/step - loss: 0.0902 - accuracy: 0.9667 - val_loss: 1.6466 - val_accuracy: 0.6340\n",
            "Epoch 46/50\n",
            "1334/1334 [==============================] - 19s 15ms/step - loss: 0.0887 - accuracy: 0.9664 - val_loss: 1.6919 - val_accuracy: 0.6422\n",
            "Epoch 47/50\n",
            "1334/1334 [==============================] - 19s 14ms/step - loss: 0.0848 - accuracy: 0.9688 - val_loss: 1.6414 - val_accuracy: 0.6354\n",
            "Epoch 48/50\n",
            "1334/1334 [==============================] - 19s 14ms/step - loss: 0.0796 - accuracy: 0.9701 - val_loss: 1.6068 - val_accuracy: 0.6404\n",
            "Epoch 49/50\n",
            "1334/1334 [==============================] - 19s 15ms/step - loss: 0.0797 - accuracy: 0.9710 - val_loss: 1.6754 - val_accuracy: 0.6391\n",
            "Epoch 50/50\n",
            "1334/1334 [==============================] - 19s 14ms/step - loss: 0.0756 - accuracy: 0.9710 - val_loss: 1.8383 - val_accuracy: 0.6420\n",
            "Fold 1, 50 epochs, 1031 sec\n"
          ],
          "name": "stdout"
        },
        {
          "output_type": "display_data",
          "data": {
            "image/png": "[encoded data removed]",
            "text/plain": [
              "<Figure size 576x360 with 1 Axes>"
            ]
          },
          "metadata": {
            "tags": [],
            "needs_background": "light"
          }
        },
        {
          "output_type": "stream",
          "text": [
            "MODEL\n",
            "make_DNN\n",
            "input shape: (256, 4)\n",
            "FIT\n",
            "Epoch 1/50\n",
            "1334/1334 [==============================] - 23s 15ms/step - loss: 0.6980 - accuracy: 0.4985 - val_loss: 0.6954 - val_accuracy: 0.5052\n",
            "Epoch 2/50\n",
            "1334/1334 [==============================] - 19s 14ms/step - loss: 0.6967 - accuracy: 0.5009 - val_loss: 0.6926 - val_accuracy: 0.5052\n",
            "Epoch 3/50\n",
            "1334/1334 [==============================] - 19s 14ms/step - loss: 0.6953 - accuracy: 0.5069 - val_loss: 0.6957 - val_accuracy: 0.5052\n",
            "Epoch 4/50\n",
            "1334/1334 [==============================] - 19s 15ms/step - loss: 0.6984 - accuracy: 0.4996 - val_loss: 0.6925 - val_accuracy: 0.5198\n",
            "Epoch 5/50\n",
            "1334/1334 [==============================] - 19s 14ms/step - loss: 0.6942 - accuracy: 0.5075 - val_loss: 0.6951 - val_accuracy: 0.4948\n",
            "Epoch 6/50\n",
            "1334/1334 [==============================] - 19s 14ms/step - loss: 0.6942 - accuracy: 0.5033 - val_loss: 0.6916 - val_accuracy: 0.5245\n",
            "Epoch 7/50\n",
            "1334/1334 [==============================] - 19s 14ms/step - loss: 0.6912 - accuracy: 0.5259 - val_loss: 0.6908 - val_accuracy: 0.5286\n",
            "Epoch 8/50\n",
            "1334/1334 [==============================] - 19s 14ms/step - loss: 0.6873 - accuracy: 0.5465 - val_loss: 0.6950 - val_accuracy: 0.4948\n",
            "Epoch 9/50\n",
            "1334/1334 [==============================] - 19s 14ms/step - loss: 0.6932 - accuracy: 0.5051 - val_loss: 0.6946 - val_accuracy: 0.5052\n",
            "Epoch 10/50\n",
            "1334/1334 [==============================] - 19s 14ms/step - loss: 0.6926 - accuracy: 0.5108 - val_loss: 0.6878 - val_accuracy: 0.5614\n",
            "Epoch 11/50\n",
            "1334/1334 [==============================] - 19s 15ms/step - loss: 0.6648 - accuracy: 0.5994 - val_loss: 0.6320 - val_accuracy: 0.6459\n",
            "Epoch 12/50\n",
            "1334/1334 [==============================] - 19s 14ms/step - loss: 0.6285 - accuracy: 0.6458 - val_loss: 0.6182 - val_accuracy: 0.6632\n",
            "Epoch 13/50\n",
            "1334/1334 [==============================] - 19s 14ms/step - loss: 0.6137 - accuracy: 0.6620 - val_loss: 0.6012 - val_accuracy: 0.6712\n",
            "Epoch 14/50\n",
            "1334/1334 [==============================] - 19s 15ms/step - loss: 0.6028 - accuracy: 0.6731 - val_loss: 0.5972 - val_accuracy: 0.6755\n",
            "Epoch 15/50\n",
            "1334/1334 [==============================] - 19s 14ms/step - loss: 0.5951 - accuracy: 0.6799 - val_loss: 0.6049 - val_accuracy: 0.6689\n",
            "Epoch 16/50\n",
            "1334/1334 [==============================] - 19s 14ms/step - loss: 0.5863 - accuracy: 0.6889 - val_loss: 0.6035 - val_accuracy: 0.6647\n",
            "Epoch 17/50\n",
            "1334/1334 [==============================] - 19s 14ms/step - loss: 0.5784 - accuracy: 0.6935 - val_loss: 0.6024 - val_accuracy: 0.6758\n",
            "Epoch 18/50\n",
            "1334/1334 [==============================] - 19s 14ms/step - loss: 0.5809 - accuracy: 0.6922 - val_loss: 0.5963 - val_accuracy: 0.6753\n",
            "Epoch 19/50\n",
            "1334/1334 [==============================] - 19s 14ms/step - loss: 0.5700 - accuracy: 0.6939 - val_loss: 0.5943 - val_accuracy: 0.6773\n",
            "Epoch 20/50\n",
            "1334/1334 [==============================] - 19s 15ms/step - loss: 0.5674 - accuracy: 0.6980 - val_loss: 0.6029 - val_accuracy: 0.6711\n",
            "Epoch 21/50\n",
            "1334/1334 [==============================] - 19s 14ms/step - loss: 0.5580 - accuracy: 0.7135 - val_loss: 0.5953 - val_accuracy: 0.6775\n",
            "Epoch 22/50\n",
            "1334/1334 [==============================] - 19s 14ms/step - loss: 0.5586 - accuracy: 0.7068 - val_loss: 0.6028 - val_accuracy: 0.6700\n",
            "Epoch 23/50\n",
            "1334/1334 [==============================] - 20s 15ms/step - loss: 0.5475 - accuracy: 0.7153 - val_loss: 0.6078 - val_accuracy: 0.6630\n",
            "Epoch 24/50\n",
            "1334/1334 [==============================] - 19s 14ms/step - loss: 0.5414 - accuracy: 0.7202 - val_loss: 0.6203 - val_accuracy: 0.6617\n",
            "Epoch 25/50\n",
            "1334/1334 [==============================] - 19s 15ms/step - loss: 0.5325 - accuracy: 0.7241 - val_loss: 0.6199 - val_accuracy: 0.6689\n",
            "Epoch 26/50\n",
            "1334/1334 [==============================] - 19s 14ms/step - loss: 0.5206 - accuracy: 0.7343 - val_loss: 0.6288 - val_accuracy: 0.6583\n",
            "Epoch 27/50\n",
            "1334/1334 [==============================] - 19s 14ms/step - loss: 0.5100 - accuracy: 0.7387 - val_loss: 0.6355 - val_accuracy: 0.6652\n",
            "Epoch 28/50\n",
            "1334/1334 [==============================] - 19s 14ms/step - loss: 0.4989 - accuracy: 0.7492 - val_loss: 0.6497 - val_accuracy: 0.6616\n",
            "Epoch 29/50\n",
            "1334/1334 [==============================] - 19s 14ms/step - loss: 0.4903 - accuracy: 0.7545 - val_loss: 0.6936 - val_accuracy: 0.6615\n",
            "Epoch 30/50\n",
            "1334/1334 [==============================] - 19s 15ms/step - loss: 0.4736 - accuracy: 0.7662 - val_loss: 0.7005 - val_accuracy: 0.6558\n",
            "Epoch 31/50\n",
            "1334/1334 [==============================] - 19s 14ms/step - loss: 0.4609 - accuracy: 0.7726 - val_loss: 0.6658 - val_accuracy: 0.6577\n",
            "Epoch 32/50\n",
            "1334/1334 [==============================] - 19s 14ms/step - loss: 0.4590 - accuracy: 0.7713 - val_loss: 0.7249 - val_accuracy: 0.6583\n",
            "Epoch 33/50\n",
            "1334/1334 [==============================] - 19s 14ms/step - loss: 0.4257 - accuracy: 0.7951 - val_loss: 0.7311 - val_accuracy: 0.6518\n",
            "Epoch 34/50\n",
            "1334/1334 [==============================] - 19s 14ms/step - loss: 0.4103 - accuracy: 0.8001 - val_loss: 0.7419 - val_accuracy: 0.6503\n",
            "Epoch 35/50\n",
            "1334/1334 [==============================] - 19s 14ms/step - loss: 0.3940 - accuracy: 0.8128 - val_loss: 0.7637 - val_accuracy: 0.6395\n",
            "Epoch 36/50\n",
            "1334/1334 [==============================] - 19s 14ms/step - loss: 0.3776 - accuracy: 0.8229 - val_loss: 0.7958 - val_accuracy: 0.6440\n",
            "Epoch 37/50\n",
            "1334/1334 [==============================] - 19s 14ms/step - loss: 0.3630 - accuracy: 0.8309 - val_loss: 0.7974 - val_accuracy: 0.6405\n",
            "Epoch 38/50\n",
            "1334/1334 [==============================] - 19s 14ms/step - loss: 0.3498 - accuracy: 0.8388 - val_loss: 0.8175 - val_accuracy: 0.6408\n",
            "Epoch 39/50\n",
            "1334/1334 [==============================] - 19s 14ms/step - loss: 0.3261 - accuracy: 0.8510 - val_loss: 0.9170 - val_accuracy: 0.6384\n",
            "Epoch 40/50\n",
            "1334/1334 [==============================] - 19s 14ms/step - loss: 0.3133 - accuracy: 0.8559 - val_loss: 0.9136 - val_accuracy: 0.6332\n",
            "Epoch 41/50\n",
            "1334/1334 [==============================] - 19s 14ms/step - loss: 0.2940 - accuracy: 0.8692 - val_loss: 0.9285 - val_accuracy: 0.6347\n",
            "Epoch 42/50\n",
            "1334/1334 [==============================] - 19s 15ms/step - loss: 0.2788 - accuracy: 0.8783 - val_loss: 1.0159 - val_accuracy: 0.6380\n",
            "Epoch 43/50\n",
            "1334/1334 [==============================] - 19s 14ms/step - loss: 0.2689 - accuracy: 0.8831 - val_loss: 0.9656 - val_accuracy: 0.6260\n",
            "Epoch 44/50\n",
            "1334/1334 [==============================] - 19s 14ms/step - loss: 0.2485 - accuracy: 0.8929 - val_loss: 1.0528 - val_accuracy: 0.6272\n",
            "Epoch 45/50\n",
            "1334/1334 [==============================] - 20s 15ms/step - loss: 0.2438 - accuracy: 0.8933 - val_loss: 1.0978 - val_accuracy: 0.6240\n",
            "Epoch 46/50\n",
            "1334/1334 [==============================] - 19s 14ms/step - loss: 0.2243 - accuracy: 0.9055 - val_loss: 1.1661 - val_accuracy: 0.6319\n",
            "Epoch 47/50\n",
            "1334/1334 [==============================] - 19s 14ms/step - loss: 0.2119 - accuracy: 0.9117 - val_loss: 1.1369 - val_accuracy: 0.6240\n",
            "Epoch 48/50\n",
            "1334/1334 [==============================] - 19s 14ms/step - loss: 0.2076 - accuracy: 0.9131 - val_loss: 1.1910 - val_accuracy: 0.6294\n",
            "Epoch 49/50\n",
            "1334/1334 [==============================] - 19s 14ms/step - loss: 0.1912 - accuracy: 0.9228 - val_loss: 1.1470 - val_accuracy: 0.6269\n",
            "Epoch 50/50\n",
            "1334/1334 [==============================] - 19s 14ms/step - loss: 0.1776 - accuracy: 0.9283 - val_loss: 1.2624 - val_accuracy: 0.6270\n",
            "Fold 2, 50 epochs, 963 sec\n"
          ],
          "name": "stdout"
        },
        {
          "output_type": "display_data",
          "data": {
            "image/png": "[encoded data removed]",
            "text/plain": [
              "<Figure size 576x360 with 1 Axes>"
            ]
          },
          "metadata": {
            "tags": [],
            "needs_background": "light"
          }
        },
        {
          "output_type": "stream",
          "text": [
            "MODEL\n",
            "make_DNN\n",
            "input shape: (256, 4)\n",
            "FIT\n",
            "Epoch 1/50\n",
            "1334/1334 [==============================] - 23s 15ms/step - loss: 0.6973 - accuracy: 0.5013 - val_loss: 0.6920 - val_accuracy: 0.5208\n",
            "Epoch 2/50\n",
            "1334/1334 [==============================] - 19s 15ms/step - loss: 0.6968 - accuracy: 0.5046 - val_loss: 0.6957 - val_accuracy: 0.5012\n",
            "Epoch 3/50\n",
            "1334/1334 [==============================] - 19s 14ms/step - loss: 0.6961 - accuracy: 0.5118 - val_loss: 0.6922 - val_accuracy: 0.5184\n",
            "Epoch 4/50\n",
            "1334/1334 [==============================] - 20s 15ms/step - loss: 0.6924 - accuracy: 0.5240 - val_loss: 0.6947 - val_accuracy: 0.5266\n",
            "Epoch 5/50\n",
            "1334/1334 [==============================] - 19s 14ms/step - loss: 0.6764 - accuracy: 0.5693 - val_loss: 0.6334 - val_accuracy: 0.6443\n",
            "Epoch 6/50\n",
            "1334/1334 [==============================] - 19s 14ms/step - loss: 0.6280 - accuracy: 0.6472 - val_loss: 0.6010 - val_accuracy: 0.6742\n",
            "Epoch 7/50\n",
            "1334/1334 [==============================] - 20s 15ms/step - loss: 0.5994 - accuracy: 0.6781 - val_loss: 0.6023 - val_accuracy: 0.6775\n",
            "Epoch 8/50\n",
            "1334/1334 [==============================] - 19s 14ms/step - loss: 0.5876 - accuracy: 0.6857 - val_loss: 0.5907 - val_accuracy: 0.6816\n",
            "Epoch 9/50\n",
            "1334/1334 [==============================] - 19s 14ms/step - loss: 0.5808 - accuracy: 0.6905 - val_loss: 0.5933 - val_accuracy: 0.6733\n",
            "Epoch 10/50\n",
            "1334/1334 [==============================] - 19s 14ms/step - loss: 0.5795 - accuracy: 0.6919 - val_loss: 0.5894 - val_accuracy: 0.6802\n",
            "Epoch 11/50\n",
            "1334/1334 [==============================] - 19s 15ms/step - loss: 0.5676 - accuracy: 0.7012 - val_loss: 0.5911 - val_accuracy: 0.6822\n",
            "Epoch 12/50\n",
            "1334/1334 [==============================] - 19s 15ms/step - loss: 0.5654 - accuracy: 0.7041 - val_loss: 0.5898 - val_accuracy: 0.6777\n",
            "Epoch 13/50\n",
            "1334/1334 [==============================] - 19s 14ms/step - loss: 0.5531 - accuracy: 0.7148 - val_loss: 0.6343 - val_accuracy: 0.6651\n",
            "Epoch 14/50\n",
            "1334/1334 [==============================] - 19s 14ms/step - loss: 0.5440 - accuracy: 0.7212 - val_loss: 0.6218 - val_accuracy: 0.6691\n",
            "Epoch 15/50\n",
            "1334/1334 [==============================] - 19s 14ms/step - loss: 0.5349 - accuracy: 0.7274 - val_loss: 0.6064 - val_accuracy: 0.6703\n",
            "Epoch 16/50\n",
            "1334/1334 [==============================] - 19s 14ms/step - loss: 0.5203 - accuracy: 0.7387 - val_loss: 0.6285 - val_accuracy: 0.6690\n",
            "Epoch 17/50\n",
            "1334/1334 [==============================] - 19s 14ms/step - loss: 0.5037 - accuracy: 0.7531 - val_loss: 0.6426 - val_accuracy: 0.6677\n",
            "Epoch 18/50\n",
            "1334/1334 [==============================] - 19s 14ms/step - loss: 0.4836 - accuracy: 0.7621 - val_loss: 0.6493 - val_accuracy: 0.6599\n",
            "Epoch 19/50\n",
            "1334/1334 [==============================] - 19s 14ms/step - loss: 0.4634 - accuracy: 0.7774 - val_loss: 0.6623 - val_accuracy: 0.6583\n",
            "Epoch 20/50\n",
            "1334/1334 [==============================] - 19s 14ms/step - loss: 0.4411 - accuracy: 0.7858 - val_loss: 0.7071 - val_accuracy: 0.6559\n",
            "Epoch 21/50\n",
            "1334/1334 [==============================] - 20s 15ms/step - loss: 0.4145 - accuracy: 0.8038 - val_loss: 0.7543 - val_accuracy: 0.6537\n",
            "Epoch 22/50\n",
            "1334/1334 [==============================] - 19s 14ms/step - loss: 0.3875 - accuracy: 0.8194 - val_loss: 0.7629 - val_accuracy: 0.6480\n",
            "Epoch 23/50\n",
            "1334/1334 [==============================] - 20s 15ms/step - loss: 0.3616 - accuracy: 0.8340 - val_loss: 0.7906 - val_accuracy: 0.6446\n",
            "Epoch 24/50\n",
            "1334/1334 [==============================] - 20s 15ms/step - loss: 0.3287 - accuracy: 0.8512 - val_loss: 0.8457 - val_accuracy: 0.6392\n",
            "Epoch 25/50\n",
            "1334/1334 [==============================] - 19s 14ms/step - loss: 0.3052 - accuracy: 0.8625 - val_loss: 0.9185 - val_accuracy: 0.6381\n",
            "Epoch 26/50\n",
            "1334/1334 [==============================] - 20s 15ms/step - loss: 0.2740 - accuracy: 0.8794 - val_loss: 0.9410 - val_accuracy: 0.6367\n",
            "Epoch 27/50\n",
            "1334/1334 [==============================] - 19s 14ms/step - loss: 0.2658 - accuracy: 0.8862 - val_loss: 1.0748 - val_accuracy: 0.6275\n",
            "Epoch 28/50\n",
            "1334/1334 [==============================] - 19s 14ms/step - loss: 0.2386 - accuracy: 0.8997 - val_loss: 1.0918 - val_accuracy: 0.6309\n",
            "Epoch 29/50\n",
            "1334/1334 [==============================] - 19s 14ms/step - loss: 0.2281 - accuracy: 0.9019 - val_loss: 1.1265 - val_accuracy: 0.6325\n",
            "Epoch 30/50\n",
            "1334/1334 [==============================] - 19s 14ms/step - loss: 0.1986 - accuracy: 0.9182 - val_loss: 1.3057 - val_accuracy: 0.6351\n",
            "Epoch 31/50\n",
            "1334/1334 [==============================] - 19s 14ms/step - loss: 0.1821 - accuracy: 0.9253 - val_loss: 1.3221 - val_accuracy: 0.6319\n",
            "Epoch 32/50\n",
            "1334/1334 [==============================] - 19s 14ms/step - loss: 0.1716 - accuracy: 0.9290 - val_loss: 1.3595 - val_accuracy: 0.6165\n",
            "Epoch 33/50\n",
            "1334/1334 [==============================] - 19s 15ms/step - loss: 0.1587 - accuracy: 0.9363 - val_loss: 1.3237 - val_accuracy: 0.6271\n",
            "Epoch 34/50\n",
            "1334/1334 [==============================] - 19s 14ms/step - loss: 0.1473 - accuracy: 0.9399 - val_loss: 1.5704 - val_accuracy: 0.6260\n",
            "Epoch 35/50\n",
            "1334/1334 [==============================] - 19s 15ms/step - loss: 0.1426 - accuracy: 0.9452 - val_loss: 1.5792 - val_accuracy: 0.6257\n",
            "Epoch 36/50\n",
            "1334/1334 [==============================] - 20s 15ms/step - loss: 0.1345 - accuracy: 0.9475 - val_loss: 1.5541 - val_accuracy: 0.6190\n",
            "Epoch 37/50\n",
            "1334/1334 [==============================] - 19s 14ms/step - loss: 0.1173 - accuracy: 0.9538 - val_loss: 1.5823 - val_accuracy: 0.6303\n",
            "Epoch 38/50\n",
            "1334/1334 [==============================] - 20s 15ms/step - loss: 0.1234 - accuracy: 0.9500 - val_loss: 1.6415 - val_accuracy: 0.6219\n",
            "Epoch 39/50\n",
            "1334/1334 [==============================] - 19s 14ms/step - loss: 0.1005 - accuracy: 0.9606 - val_loss: 1.6312 - val_accuracy: 0.6267\n",
            "Epoch 40/50\n",
            "1334/1334 [==============================] - 19s 15ms/step - loss: 0.1074 - accuracy: 0.9594 - val_loss: 1.8570 - val_accuracy: 0.6251\n",
            "Epoch 41/50\n",
            "1334/1334 [==============================] - 19s 15ms/step - loss: 0.0969 - accuracy: 0.9640 - val_loss: 1.7458 - val_accuracy: 0.6243\n",
            "Epoch 42/50\n",
            "1334/1334 [==============================] - 19s 14ms/step - loss: 0.0941 - accuracy: 0.9642 - val_loss: 1.8094 - val_accuracy: 0.6288\n",
            "Epoch 43/50\n",
            "1334/1334 [==============================] - 19s 14ms/step - loss: 0.0989 - accuracy: 0.9614 - val_loss: 1.7633 - val_accuracy: 0.6342\n",
            "Epoch 44/50\n",
            "1334/1334 [==============================] - 19s 14ms/step - loss: 0.0827 - accuracy: 0.9686 - val_loss: 1.6167 - val_accuracy: 0.6295\n",
            "Epoch 45/50\n",
            "1334/1334 [==============================] - 20s 15ms/step - loss: 0.0873 - accuracy: 0.9681 - val_loss: 1.8374 - val_accuracy: 0.6286\n",
            "Epoch 46/50\n",
            "1334/1334 [==============================] - 19s 15ms/step - loss: 0.0862 - accuracy: 0.9679 - val_loss: 1.8853 - val_accuracy: 0.6211\n",
            "Epoch 47/50\n",
            "1334/1334 [==============================] - 20s 15ms/step - loss: 0.0755 - accuracy: 0.9723 - val_loss: 1.7233 - val_accuracy: 0.6270\n",
            "Epoch 48/50\n",
            "1334/1334 [==============================] - 20s 15ms/step - loss: 0.0805 - accuracy: 0.9707 - val_loss: 1.8771 - val_accuracy: 0.6303\n",
            "Epoch 49/50\n",
            "1334/1334 [==============================] - 20s 15ms/step - loss: 0.0724 - accuracy: 0.9732 - val_loss: 1.8501 - val_accuracy: 0.6272\n",
            "Epoch 50/50\n",
            "1334/1334 [==============================] - 19s 14ms/step - loss: 0.0751 - accuracy: 0.9718 - val_loss: 1.7812 - val_accuracy: 0.6321\n",
            "Fold 3, 50 epochs, 968 sec\n"
          ],
          "name": "stdout"
        },
        {
          "output_type": "display_data",
          "data": {
            "image/png": "[encoded data removed]",
            "text/plain": [
              "<Figure size 576x360 with 1 Axes>"
            ]
          },
          "metadata": {
            "tags": [],
            "needs_background": "light"
          }
        }
      ]
    },
    {
      "cell_type": "code",
      "metadata": {
        "id": "e-jG1h5fj2Ua",
        "colab": {
          "base_uri": "https://localhost:8080/"
        },
        "outputId": "9556f527-1ee9-4b2a-ad4e-38ccc21bb1cd"
      },
      "source": [
        "from keras.models import load_model\n",
        "X,y = prepare_inputs_len_x_alphabet(pc_test,nc_test,ALPHABET)\n",
        "best_model=load_model(MODELPATH)\n",
        "scores = best_model.evaluate(X, y, verbose=0)\n",
        "print(\"The best model parameters were saved during cross-validation.\")\n",
        "print(\"Best was defined as maximum validation accuracy at end of any epoch.\")\n",
        "print(\"Now re-load the best model and test it on previously unseen data.\")\n",
        "print(\"Test on\",len(pc_test),\"PC seqs\")\n",
        "print(\"Test on\",len(nc_test),\"NC seqs\")\n",
        "print(\"%s: %.2f%%\" % (best_model.metrics_names[1], scores[1]*100))\n"
      ],
      "execution_count": 26,
      "outputs": [
        {
          "output_type": "stream",
          "text": [
            "The best model parameters were saved during cross-validation.\n",
            "Best was defined as maximum validation accuracy at end of any epoch.\n",
            "Now re-load the best model and test it on previously unseen data.\n",
            "Test on 1000 PC seqs\n",
            "Test on 1000 NC seqs\n",
            "accuracy: 68.55%\n"
          ],
          "name": "stdout"
        }
      ]
    },
    {
      "cell_type": "code",
      "metadata": {
        "id": "VycUnmvUj2Ue",
        "colab": {
          "base_uri": "https://localhost:8080/",
          "height": 313
        },
        "outputId": "22fd661e-cf43-4f54-925d-e6c6d8beb64d"
      },
      "source": [
        "from sklearn.metrics import roc_curve\n",
        "from sklearn.metrics import roc_auc_score\n",
        "ns_probs = [0 for _ in range(len(y))]\n",
        "bm_probs = best_model.predict(X)\n",
        "ns_auc = roc_auc_score(y, ns_probs)\n",
        "bm_auc = roc_auc_score(y, bm_probs)\n",
        "ns_fpr, ns_tpr, _ = roc_curve(y, ns_probs)\n",
        "bm_fpr, bm_tpr, _ = roc_curve(y, bm_probs)\n",
        "plt.plot(ns_fpr, ns_tpr, linestyle='--', label='Guess, auc=%.4f'%ns_auc)\n",
        "plt.plot(bm_fpr, bm_tpr, marker='.', label='Model, auc=%.4f'%bm_auc)\n",
        "plt.title('ROC')\n",
        "plt.xlabel('False Positive Rate')\n",
        "plt.ylabel('True Positive Rate')\n",
        "plt.legend()\n",
        "plt.show()\n",
        "print(\"%s: %.2f%%\" %('AUC',bm_auc*100.0))\n"
      ],
      "execution_count": 27,
      "outputs": [
        {
          "output_type": "display_data",
          "data": {
            "image/png": "[encoded data removed]",
            "text/plain": [
              "<Figure size 432x288 with 1 Axes>"
            ]
          },
          "metadata": {
            "tags": [],
            "needs_background": "light"
          }
        },
        {
          "output_type": "stream",
          "text": [
            "AUC: 75.56%\n"
          ],
          "name": "stdout"
        }
      ]
    },
    {
      "cell_type": "code",
      "metadata": {
        "id": "kFMb6rGNj2Ug",
        "colab": {
          "base_uri": "https://localhost:8080/",
          "height": 36
        },
        "outputId": "d57eda4a-101e-41de-fd8a-eb2b686b3d18"
      },
      "source": [
        "t = time.time()\n",
        "time.strftime('%Y-%m-%d %H:%M:%S %Z', time.localtime(t))"
      ],
      "execution_count": 28,
      "outputs": [
        {
          "output_type": "execute_result",
          "data": {
            "application/vnd.google.colaboratory.intrinsic+json": {
              "type": "string"
            },
            "text/plain": [
              "'2021-07-01 17:22:57 UTC'"
            ]
          },
          "metadata": {
            "tags": []
          },
          "execution_count": 28
        }
      ]
    }
  ]
}