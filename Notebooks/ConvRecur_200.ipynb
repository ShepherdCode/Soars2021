{
  "nbformat": 4,
  "nbformat_minor": 0,
  "metadata": {
    "accelerator": "GPU",
    "colab": {
      "name": "ConvRecur_200.ipynb",
      "provenance": [],
      "collapsed_sections": []
    },
    "kernelspec": {
      "display_name": "Python 3",
      "language": "python",
      "name": "python3"
    },
    "language_info": {
      "codemirror_mode": {
        "name": "ipython",
        "version": 3
      },
      "file_extension": ".py",
      "mimetype": "text/x-python",
      "name": "python",
      "nbconvert_exporter": "python",
      "pygments_lexer": "ipython3",
      "version": "3.8.3"
    }
  },
  "cells": [
    {
      "cell_type": "markdown",
      "metadata": {
        "id": "0asdcdunj2Tx"
      },
      "source": [
        "# ORF recognition by Convolutional/Recurrent\n",
        "\n",
        "So far CNN+LSTM 64 overfits the 128 base RNA problem.\n",
        "That was using 32K samples/class. Here, try more samples. \n",
        "\n",
        "Also, build the model without specifying INPUT_SIZE.\n",
        "\n"
      ]
    },
    {
      "cell_type": "code",
      "metadata": {
        "colab": {
          "base_uri": "https://localhost:8080/",
          "height": 36
        },
        "id": "QP1VTRNQj2UO",
        "outputId": "4af8ccb1-4277-40fb-906e-80c975faae06"
      },
      "source": [
        "import time \n",
        "t = time.time()\n",
        "time.strftime('%Y-%m-%d %H:%M:%S %Z', time.localtime(t))"
      ],
      "execution_count": 1,
      "outputs": [
        {
          "output_type": "execute_result",
          "data": {
            "application/vnd.google.colaboratory.intrinsic+json": {
              "type": "string"
            },
            "text/plain": [
              "'2021-06-24 18:59:13 UTC'"
            ]
          },
          "metadata": {
            "tags": []
          },
          "execution_count": 1
        }
      ]
    },
    {
      "cell_type": "code",
      "metadata": {
        "id": "Nhz4GKonj2T_"
      },
      "source": [
        "PC_SEQUENCES=32000   # how many protein-coding sequences\n",
        "NC_SEQUENCES=32000   # how many non-coding sequences\n",
        "PC_TESTS=1000\n",
        "NC_TESTS=1000\n",
        "RNA_LEN=128            # how long is each sequence\n",
        "CDS_LEN=64            # min CDS len to be coding\n",
        "ALPHABET=4          # how many different letters are possible\n",
        "INPUT_SHAPE_2D = (RNA_LEN,ALPHABET,1) # Conv2D needs 3D inputs\n",
        "INPUT_SHAPE = (RNA_LEN,ALPHABET) # Conv1D needs 2D inputs\n",
        "FILTERS = 16   # how many different patterns the model looks for\n",
        "CELLS = 16\n",
        "NEURONS = 16\n",
        "DROP_RATE = 0.4\n",
        "WIDTH = 3   # how wide each pattern is, in bases\n",
        "STRIDE_2D = (1,1)  # For Conv2D how far in each direction\n",
        "STRIDE = 1 # For Conv1D, how far between pattern matches, in bases\n",
        "EPOCHS=25  # how many times to train on all the data\n",
        "SPLITS=3  # SPLITS=3 means train on 2/3 and validate on 1/3 \n",
        "FOLDS=3  # train the model this many times (range 1 to SPLITS)"
      ],
      "execution_count": 2,
      "outputs": []
    },
    {
      "cell_type": "code",
      "metadata": {
        "colab": {
          "base_uri": "https://localhost:8080/"
        },
        "id": "lr7q90rxj2UE",
        "outputId": "ca164fdc-e1aa-4a2a-bdd7-95e4224b8e4f"
      },
      "source": [
        "import sys\n",
        "IN_COLAB = False\n",
        "try:\n",
        "    from google.colab import drive\n",
        "    IN_COLAB = True\n",
        "except:\n",
        "    pass\n",
        "if IN_COLAB:\n",
        "    print(\"On Google CoLab, mount cloud-local file, get our code from GitHub.\")\n",
        "    PATH='/content/drive/'\n",
        "    #drive.mount(PATH,force_remount=True)  # hardly ever need this\n",
        "    #drive.mount(PATH)    # Google will require login credentials\n",
        "    DATAPATH=PATH+'My Drive/data/'  # must end in \"/\"\n",
        "    import requests\n",
        "    r = requests.get('https://raw.githubusercontent.com/ShepherdCode/Soars2021/master/SimTools/RNA_describe.py')\n",
        "    with open('RNA_describe.py', 'w') as f:\n",
        "        f.write(r.text)  \n",
        "    from RNA_describe import ORF_counter\n",
        "    from RNA_describe import Random_Base_Oracle\n",
        "    r = requests.get('https://raw.githubusercontent.com/ShepherdCode/Soars2021/master/SimTools/RNA_prep.py')\n",
        "    with open('RNA_prep.py', 'w') as f:\n",
        "        f.write(r.text)  \n",
        "    from RNA_prep import prepare_inputs_len_x_alphabet\n",
        "else:\n",
        "        print(\"CoLab not working. On my PC, use relative paths.\")\n",
        "        DATAPATH='data/'  # must end in \"/\"\n",
        "        sys.path.append(\"..\") # append parent dir in order to use sibling dirs\n",
        "        from SimTools.RNA_describe import ORF_counter,Random_Base_Oracle\n",
        "        from SimTools.RNA_prep import prepare_inputs_len_x_alphabet\n",
        "\n",
        "MODELPATH=\"BestModel\"  # saved on cloud instance and lost after logout\n",
        "#MODELPATH=DATAPATH+MODELPATH  # saved on Google Drive but requires login\n"
      ],
      "execution_count": 3,
      "outputs": [
        {
          "output_type": "stream",
          "text": [
            "On Google CoLab, mount cloud-local file, get our code from GitHub.\n"
          ],
          "name": "stdout"
        }
      ]
    },
    {
      "cell_type": "code",
      "metadata": {
        "id": "EGDXH8Uwj2UM"
      },
      "source": [
        "from os import listdir\n",
        "import csv\n",
        "from zipfile import ZipFile\n",
        "\n",
        "import numpy as np\n",
        "import pandas as pd\n",
        "from scipy import stats  # mode\n",
        "\n",
        "from sklearn.preprocessing import StandardScaler\n",
        "from sklearn.model_selection import KFold\n",
        "from sklearn.model_selection import cross_val_score\n",
        "\n",
        "from keras.models import Sequential\n",
        "from keras.layers import Dense,Embedding,Dropout\n",
        "from keras.layers import Conv1D,Conv2D\n",
        "from keras.layers import GRU,LSTM\n",
        "from keras.layers import Flatten,TimeDistributed\n",
        "from keras.layers import MaxPooling1D,MaxPooling2D\n",
        "from keras.losses import BinaryCrossentropy\n",
        "# tf.keras.losses.BinaryCrossentropy\n",
        "\n",
        "import matplotlib.pyplot as plt\n",
        "from matplotlib import colors\n",
        "mycmap = colors.ListedColormap(['red','blue'])  # list color for label 0 then 1\n",
        "np.set_printoptions(precision=2)\n"
      ],
      "execution_count": 4,
      "outputs": []
    },
    {
      "cell_type": "code",
      "metadata": {
        "colab": {
          "base_uri": "https://localhost:8080/"
        },
        "id": "CUOG_jEvGtOm",
        "outputId": "e9e9a29e-bba0-47ff-c277-c9a7eca91ebd"
      },
      "source": [
        "rbo=Random_Base_Oracle(RNA_LEN,True)\n",
        "pc_all,nc_all = rbo.get_partitioned_sequences(CDS_LEN,10) # just testing\n",
        "pc_all,nc_all = rbo.get_partitioned_sequences(CDS_LEN,PC_SEQUENCES+PC_TESTS)\n",
        "print(\"Use\",len(pc_all),\"PC seqs\")\n",
        "print(\"Use\",len(nc_all),\"NC seqs\")"
      ],
      "execution_count": 5,
      "outputs": [
        {
          "output_type": "stream",
          "text": [
            "It took 34 trials to reach 10 per class.\n",
            "It took 130537 trials to reach 33000 per class.\n",
            "Use 33000 PC seqs\n",
            "Use 33000 NC seqs\n"
          ],
          "name": "stdout"
        }
      ]
    },
    {
      "cell_type": "code",
      "metadata": {
        "colab": {
          "base_uri": "https://localhost:8080/"
        },
        "id": "Q-BmSXi2jUyl",
        "outputId": "a2f2c7a9-c720-4b6c-94f5-ed39cf0edd5f"
      },
      "source": [
        "# Describe the sequences\n",
        "def describe_sequences(list_of_seq):\n",
        "    oc = ORF_counter()\n",
        "    num_seq = len(list_of_seq)\n",
        "    rna_lens = np.zeros(num_seq)\n",
        "    orf_lens = np.zeros(num_seq)\n",
        "    for i in range(0,num_seq):\n",
        "        rna_len = len(list_of_seq[i])\n",
        "        rna_lens[i] = rna_len\n",
        "        oc.set_sequence(list_of_seq[i])\n",
        "        orf_len = oc.get_max_orf_len()\n",
        "        orf_lens[i] = orf_len\n",
        "    print (\"Average RNA length:\",rna_lens.mean())\n",
        "    print (\"Average ORF length:\",orf_lens.mean())\n",
        "    \n",
        "print(\"Simulated sequences prior to adjustment:\")\n",
        "print(\"PC seqs\")\n",
        "describe_sequences(pc_all)\n",
        "print(\"NC seqs\")\n",
        "describe_sequences(nc_all)"
      ],
      "execution_count": 6,
      "outputs": [
        {
          "output_type": "stream",
          "text": [
            "Simulated sequences prior to adjustment:\n",
            "PC seqs\n",
            "Average RNA length: 128.0\n",
            "Average ORF length: 81.08827272727272\n",
            "NC seqs\n",
            "Average RNA length: 128.0\n",
            "Average ORF length: 28.612909090909092\n"
          ],
          "name": "stdout"
        }
      ]
    },
    {
      "cell_type": "code",
      "metadata": {
        "id": "iP1y7-J3jUys"
      },
      "source": [
        "pc_train=pc_all[:PC_SEQUENCES]\n",
        "nc_train=nc_all[:NC_SEQUENCES]\n",
        "pc_test=pc_all[PC_SEQUENCES:]\n",
        "nc_test=nc_all[NC_SEQUENCES:]"
      ],
      "execution_count": 7,
      "outputs": []
    },
    {
      "cell_type": "code",
      "metadata": {
        "colab": {
          "base_uri": "https://localhost:8080/"
        },
        "id": "CIpTrnH6j2US",
        "outputId": "77f987c2-cf69-480d-ae9e-e4a49f98ca4a"
      },
      "source": [
        "# Use code from our SimTools library.\n",
        "X,y = prepare_inputs_len_x_alphabet(pc_train,nc_train,ALPHABET) # shuffles\n",
        "print(\"Data ready.\")"
      ],
      "execution_count": 8,
      "outputs": [
        {
          "output_type": "stream",
          "text": [
            "Data ready.\n"
          ],
          "name": "stdout"
        }
      ]
    },
    {
      "cell_type": "code",
      "metadata": {
        "colab": {
          "base_uri": "https://localhost:8080/"
        },
        "id": "7NvrVU8ij2UU",
        "outputId": "da7aee34-215a-4b2b-8546-7a4298852d9f"
      },
      "source": [
        "def make_DNN():\n",
        "    print(\"make_DNN\")\n",
        "    print(\"input shape:\",INPUT_SHAPE)\n",
        "    dnn = Sequential()\n",
        "    #dnn.add(Embedding(input_dim=INPUT_SHAPE,output_dim=INPUT_SHAPE)) \n",
        "    dnn.add(Conv1D(filters=FILTERS,kernel_size=WIDTH,strides=STRIDE,padding=\"same\",\n",
        "            input_shape=INPUT_SHAPE))\n",
        "    dnn.add(Conv1D(filters=FILTERS,kernel_size=WIDTH,strides=STRIDE,padding=\"same\"))\n",
        "    dnn.add(MaxPooling1D())\n",
        "    #dnn.add(Conv1D(filters=FILTERS,kernel_size=WIDTH,strides=STRIDE,padding=\"same\"))\n",
        "    #dnn.add(Conv1D(filters=FILTERS,kernel_size=WIDTH,strides=STRIDE,padding=\"same\"))\n",
        "    #dnn.add(MaxPooling1D())\n",
        "    #dnn.add(TimeDistributed(Flatten()))\n",
        "    dnn.add(LSTM(CELLS,return_sequences=True))\n",
        "    dnn.add(LSTM(CELLS,return_sequences=False))\n",
        "    dnn.add(Dense(NEURONS,activation=\"sigmoid\",dtype=np.float32))   \n",
        "    dnn.add(Dropout(DROP_RATE))\n",
        "    dnn.add(Dense(1,activation=\"sigmoid\",dtype=np.float32))   \n",
        "    dnn.compile(optimizer='adam',\n",
        "                loss=BinaryCrossentropy(from_logits=False),\n",
        "                metrics=['accuracy'])   # add to default metrics=loss\n",
        "    #dnn.build(input_shape=INPUT_SHAPE)   \n",
        "    dnn.build()   \n",
        "    #ln_rate = tf.keras.optimizers.Adam(learning_rate = LN_RATE)\n",
        "    #bc=tf.keras.losses.BinaryCrossentropy(from_logits=False)\n",
        "    #model.compile(loss=bc, optimizer=ln_rate, metrics=[\"accuracy\"])\n",
        "    return dnn\n",
        "model = make_DNN()\n",
        "print(model.summary())"
      ],
      "execution_count": 9,
      "outputs": [
        {
          "output_type": "stream",
          "text": [
            "make_DNN\n",
            "input shape: (128, 4)\n",
            "Model: \"sequential\"\n",
            "_________________________________________________________________\n",
            "Layer (type)                 Output Shape              Param #   \n",
            "=================================================================\n",
            "conv1d (Conv1D)              (None, 128, 16)           208       \n",
            "_________________________________________________________________\n",
            "conv1d_1 (Conv1D)            (None, 128, 16)           784       \n",
            "_________________________________________________________________\n",
            "max_pooling1d (MaxPooling1D) (None, 64, 16)            0         \n",
            "_________________________________________________________________\n",
            "lstm (LSTM)                  (None, 64, 16)            2112      \n",
            "_________________________________________________________________\n",
            "lstm_1 (LSTM)                (None, 16)                2112      \n",
            "_________________________________________________________________\n",
            "dense (Dense)                (None, 16)                272       \n",
            "_________________________________________________________________\n",
            "dropout (Dropout)            (None, 16)                0         \n",
            "_________________________________________________________________\n",
            "dense_1 (Dense)              (None, 1)                 17        \n",
            "=================================================================\n",
            "Total params: 5,505\n",
            "Trainable params: 5,505\n",
            "Non-trainable params: 0\n",
            "_________________________________________________________________\n",
            "None\n"
          ],
          "name": "stdout"
        }
      ]
    },
    {
      "cell_type": "code",
      "metadata": {
        "id": "nlVF0hR3j2UW"
      },
      "source": [
        "from keras.callbacks import ModelCheckpoint\n",
        "def do_cross_validation(X,y):\n",
        "    cv_scores = []\n",
        "    fold=0\n",
        "    mycallbacks = [ModelCheckpoint(\n",
        "        filepath=MODELPATH, save_best_only=True, \n",
        "        monitor='val_accuracy', mode='max')]   \n",
        "    splitter = KFold(n_splits=SPLITS)  # this does not shuffle\n",
        "    for train_index,valid_index in splitter.split(X):\n",
        "        if fold < FOLDS:\n",
        "            fold += 1\n",
        "            X_train=X[train_index] # inputs for training\n",
        "            y_train=y[train_index] # labels for training\n",
        "            X_valid=X[valid_index] # inputs for validation\n",
        "            y_valid=y[valid_index] # labels for validation\n",
        "            print(\"MODEL\")\n",
        "            # Call constructor on each CV. Else, continually improves the same model.\n",
        "            model = model = make_DNN()\n",
        "            print(\"FIT\")  # model.fit() implements learning\n",
        "            start_time=time.time()\n",
        "            history=model.fit(X_train, y_train, \n",
        "                    epochs=EPOCHS, \n",
        "                    verbose=1,  # ascii art while learning\n",
        "                    callbacks=mycallbacks,   # called at end of each epoch\n",
        "                    validation_data=(X_valid,y_valid))\n",
        "            end_time=time.time()\n",
        "            elapsed_time=(end_time-start_time)                        \n",
        "            print(\"Fold %d, %d epochs, %d sec\"%(fold,EPOCHS,elapsed_time))\n",
        "            # print(history.history.keys())  # all these keys will be shown in figure\n",
        "            pd.DataFrame(history.history).plot(figsize=(8,5))\n",
        "            plt.grid(True)\n",
        "            plt.gca().set_ylim(0,1) # any losses > 1 will be off the scale\n",
        "            plt.show()\n"
      ],
      "execution_count": 10,
      "outputs": []
    },
    {
      "cell_type": "code",
      "metadata": {
        "colab": {
          "base_uri": "https://localhost:8080/",
          "height": 1000
        },
        "id": "9Ggt4EsSj2UY",
        "outputId": "3e7aada3-4763-4f64-af91-8a142fe85d54"
      },
      "source": [
        "do_cross_validation(X,y)"
      ],
      "execution_count": 11,
      "outputs": [
        {
          "output_type": "stream",
          "text": [
            "MODEL\n",
            "make_DNN\n",
            "input shape: (128, 4)\n",
            "FIT\n",
            "Epoch 1/25\n",
            "1334/1334 [==============================] - 34s 12ms/step - loss: 0.6984 - accuracy: 0.5054 - val_loss: 0.6851 - val_accuracy: 0.5557\n"
          ],
          "name": "stdout"
        },
        {
          "output_type": "stream",
          "text": [
            "WARNING:absl:Found untraced functions such as lstm_cell_2_layer_call_and_return_conditional_losses, lstm_cell_2_layer_call_fn, lstm_cell_3_layer_call_and_return_conditional_losses, lstm_cell_3_layer_call_fn, lstm_cell_2_layer_call_fn while saving (showing 5 of 10). These functions will not be directly callable after loading.\n"
          ],
          "name": "stderr"
        },
        {
          "output_type": "stream",
          "text": [
            "INFO:tensorflow:Assets written to: BestModel/assets\n"
          ],
          "name": "stdout"
        },
        {
          "output_type": "stream",
          "text": [
            "INFO:tensorflow:Assets written to: BestModel/assets\n"
          ],
          "name": "stderr"
        },
        {
          "output_type": "stream",
          "text": [
            "Epoch 2/25\n",
            "1334/1334 [==============================] - 14s 10ms/step - loss: 0.6796 - accuracy: 0.5679 - val_loss: 0.6558 - val_accuracy: 0.6136\n"
          ],
          "name": "stdout"
        },
        {
          "output_type": "stream",
          "text": [
            "WARNING:absl:Found untraced functions such as lstm_cell_2_layer_call_and_return_conditional_losses, lstm_cell_2_layer_call_fn, lstm_cell_3_layer_call_and_return_conditional_losses, lstm_cell_3_layer_call_fn, lstm_cell_2_layer_call_fn while saving (showing 5 of 10). These functions will not be directly callable after loading.\n"
          ],
          "name": "stderr"
        },
        {
          "output_type": "stream",
          "text": [
            "INFO:tensorflow:Assets written to: BestModel/assets\n"
          ],
          "name": "stdout"
        },
        {
          "output_type": "stream",
          "text": [
            "INFO:tensorflow:Assets written to: BestModel/assets\n"
          ],
          "name": "stderr"
        },
        {
          "output_type": "stream",
          "text": [
            "Epoch 3/25\n",
            "1334/1334 [==============================] - 14s 11ms/step - loss: 0.6489 - accuracy: 0.6251 - val_loss: 0.6325 - val_accuracy: 0.6410\n"
          ],
          "name": "stdout"
        },
        {
          "output_type": "stream",
          "text": [
            "WARNING:absl:Found untraced functions such as lstm_cell_2_layer_call_and_return_conditional_losses, lstm_cell_2_layer_call_fn, lstm_cell_3_layer_call_and_return_conditional_losses, lstm_cell_3_layer_call_fn, lstm_cell_2_layer_call_fn while saving (showing 5 of 10). These functions will not be directly callable after loading.\n"
          ],
          "name": "stderr"
        },
        {
          "output_type": "stream",
          "text": [
            "INFO:tensorflow:Assets written to: BestModel/assets\n"
          ],
          "name": "stdout"
        },
        {
          "output_type": "stream",
          "text": [
            "INFO:tensorflow:Assets written to: BestModel/assets\n"
          ],
          "name": "stderr"
        },
        {
          "output_type": "stream",
          "text": [
            "Epoch 4/25\n",
            "1334/1334 [==============================] - 14s 11ms/step - loss: 0.6359 - accuracy: 0.6401 - val_loss: 0.6164 - val_accuracy: 0.6559\n"
          ],
          "name": "stdout"
        },
        {
          "output_type": "stream",
          "text": [
            "WARNING:absl:Found untraced functions such as lstm_cell_2_layer_call_and_return_conditional_losses, lstm_cell_2_layer_call_fn, lstm_cell_3_layer_call_and_return_conditional_losses, lstm_cell_3_layer_call_fn, lstm_cell_2_layer_call_fn while saving (showing 5 of 10). These functions will not be directly callable after loading.\n"
          ],
          "name": "stderr"
        },
        {
          "output_type": "stream",
          "text": [
            "INFO:tensorflow:Assets written to: BestModel/assets\n"
          ],
          "name": "stdout"
        },
        {
          "output_type": "stream",
          "text": [
            "INFO:tensorflow:Assets written to: BestModel/assets\n"
          ],
          "name": "stderr"
        },
        {
          "output_type": "stream",
          "text": [
            "Epoch 5/25\n",
            "1334/1334 [==============================] - 14s 10ms/step - loss: 0.6235 - accuracy: 0.6498 - val_loss: 0.6083 - val_accuracy: 0.6620\n"
          ],
          "name": "stdout"
        },
        {
          "output_type": "stream",
          "text": [
            "WARNING:absl:Found untraced functions such as lstm_cell_2_layer_call_and_return_conditional_losses, lstm_cell_2_layer_call_fn, lstm_cell_3_layer_call_and_return_conditional_losses, lstm_cell_3_layer_call_fn, lstm_cell_2_layer_call_fn while saving (showing 5 of 10). These functions will not be directly callable after loading.\n"
          ],
          "name": "stderr"
        },
        {
          "output_type": "stream",
          "text": [
            "INFO:tensorflow:Assets written to: BestModel/assets\n"
          ],
          "name": "stdout"
        },
        {
          "output_type": "stream",
          "text": [
            "INFO:tensorflow:Assets written to: BestModel/assets\n"
          ],
          "name": "stderr"
        },
        {
          "output_type": "stream",
          "text": [
            "Epoch 6/25\n",
            "1334/1334 [==============================] - 14s 10ms/step - loss: 0.6025 - accuracy: 0.6725 - val_loss: 0.5936 - val_accuracy: 0.6827\n"
          ],
          "name": "stdout"
        },
        {
          "output_type": "stream",
          "text": [
            "WARNING:absl:Found untraced functions such as lstm_cell_2_layer_call_and_return_conditional_losses, lstm_cell_2_layer_call_fn, lstm_cell_3_layer_call_and_return_conditional_losses, lstm_cell_3_layer_call_fn, lstm_cell_2_layer_call_fn while saving (showing 5 of 10). These functions will not be directly callable after loading.\n"
          ],
          "name": "stderr"
        },
        {
          "output_type": "stream",
          "text": [
            "INFO:tensorflow:Assets written to: BestModel/assets\n"
          ],
          "name": "stdout"
        },
        {
          "output_type": "stream",
          "text": [
            "INFO:tensorflow:Assets written to: BestModel/assets\n"
          ],
          "name": "stderr"
        },
        {
          "output_type": "stream",
          "text": [
            "Epoch 7/25\n",
            "1334/1334 [==============================] - 14s 11ms/step - loss: 0.5846 - accuracy: 0.6877 - val_loss: 0.5742 - val_accuracy: 0.6938\n"
          ],
          "name": "stdout"
        },
        {
          "output_type": "stream",
          "text": [
            "WARNING:absl:Found untraced functions such as lstm_cell_2_layer_call_and_return_conditional_losses, lstm_cell_2_layer_call_fn, lstm_cell_3_layer_call_and_return_conditional_losses, lstm_cell_3_layer_call_fn, lstm_cell_2_layer_call_fn while saving (showing 5 of 10). These functions will not be directly callable after loading.\n"
          ],
          "name": "stderr"
        },
        {
          "output_type": "stream",
          "text": [
            "INFO:tensorflow:Assets written to: BestModel/assets\n"
          ],
          "name": "stdout"
        },
        {
          "output_type": "stream",
          "text": [
            "INFO:tensorflow:Assets written to: BestModel/assets\n"
          ],
          "name": "stderr"
        },
        {
          "output_type": "stream",
          "text": [
            "Epoch 8/25\n",
            "1334/1334 [==============================] - 14s 10ms/step - loss: 0.5736 - accuracy: 0.6962 - val_loss: 0.5678 - val_accuracy: 0.6932\n",
            "Epoch 9/25\n",
            "1334/1334 [==============================] - 14s 11ms/step - loss: 0.5758 - accuracy: 0.6913 - val_loss: 0.5651 - val_accuracy: 0.6942\n"
          ],
          "name": "stdout"
        },
        {
          "output_type": "stream",
          "text": [
            "WARNING:absl:Found untraced functions such as lstm_cell_2_layer_call_and_return_conditional_losses, lstm_cell_2_layer_call_fn, lstm_cell_3_layer_call_and_return_conditional_losses, lstm_cell_3_layer_call_fn, lstm_cell_2_layer_call_fn while saving (showing 5 of 10). These functions will not be directly callable after loading.\n"
          ],
          "name": "stderr"
        },
        {
          "output_type": "stream",
          "text": [
            "INFO:tensorflow:Assets written to: BestModel/assets\n"
          ],
          "name": "stdout"
        },
        {
          "output_type": "stream",
          "text": [
            "INFO:tensorflow:Assets written to: BestModel/assets\n"
          ],
          "name": "stderr"
        },
        {
          "output_type": "stream",
          "text": [
            "Epoch 10/25\n",
            "1334/1334 [==============================] - 14s 11ms/step - loss: 0.5694 - accuracy: 0.6965 - val_loss: 0.5636 - val_accuracy: 0.6951\n"
          ],
          "name": "stdout"
        },
        {
          "output_type": "stream",
          "text": [
            "WARNING:absl:Found untraced functions such as lstm_cell_2_layer_call_and_return_conditional_losses, lstm_cell_2_layer_call_fn, lstm_cell_3_layer_call_and_return_conditional_losses, lstm_cell_3_layer_call_fn, lstm_cell_2_layer_call_fn while saving (showing 5 of 10). These functions will not be directly callable after loading.\n"
          ],
          "name": "stderr"
        },
        {
          "output_type": "stream",
          "text": [
            "INFO:tensorflow:Assets written to: BestModel/assets\n"
          ],
          "name": "stdout"
        },
        {
          "output_type": "stream",
          "text": [
            "INFO:tensorflow:Assets written to: BestModel/assets\n"
          ],
          "name": "stderr"
        },
        {
          "output_type": "stream",
          "text": [
            "Epoch 11/25\n",
            "1334/1334 [==============================] - 14s 10ms/step - loss: 0.5673 - accuracy: 0.6980 - val_loss: 0.5645 - val_accuracy: 0.6991\n"
          ],
          "name": "stdout"
        },
        {
          "output_type": "stream",
          "text": [
            "WARNING:absl:Found untraced functions such as lstm_cell_2_layer_call_and_return_conditional_losses, lstm_cell_2_layer_call_fn, lstm_cell_3_layer_call_and_return_conditional_losses, lstm_cell_3_layer_call_fn, lstm_cell_2_layer_call_fn while saving (showing 5 of 10). These functions will not be directly callable after loading.\n"
          ],
          "name": "stderr"
        },
        {
          "output_type": "stream",
          "text": [
            "INFO:tensorflow:Assets written to: BestModel/assets\n"
          ],
          "name": "stdout"
        },
        {
          "output_type": "stream",
          "text": [
            "INFO:tensorflow:Assets written to: BestModel/assets\n"
          ],
          "name": "stderr"
        },
        {
          "output_type": "stream",
          "text": [
            "Epoch 12/25\n",
            "1334/1334 [==============================] - 14s 11ms/step - loss: 0.5670 - accuracy: 0.6995 - val_loss: 0.5591 - val_accuracy: 0.6964\n",
            "Epoch 13/25\n",
            "1334/1334 [==============================] - 14s 10ms/step - loss: 0.5666 - accuracy: 0.6965 - val_loss: 0.5627 - val_accuracy: 0.6891\n",
            "Epoch 14/25\n",
            "1334/1334 [==============================] - 14s 11ms/step - loss: 0.5627 - accuracy: 0.6992 - val_loss: 0.5639 - val_accuracy: 0.6904\n",
            "Epoch 15/25\n",
            "1334/1334 [==============================] - 14s 10ms/step - loss: 0.5612 - accuracy: 0.6991 - val_loss: 0.5609 - val_accuracy: 0.6937\n",
            "Epoch 16/25\n",
            "1334/1334 [==============================] - 14s 11ms/step - loss: 0.5607 - accuracy: 0.7009 - val_loss: 0.5803 - val_accuracy: 0.6811\n",
            "Epoch 17/25\n",
            "1334/1334 [==============================] - 14s 11ms/step - loss: 0.5631 - accuracy: 0.6989 - val_loss: 0.5612 - val_accuracy: 0.6962\n",
            "Epoch 18/25\n",
            "1334/1334 [==============================] - 14s 11ms/step - loss: 0.5608 - accuracy: 0.7025 - val_loss: 0.5618 - val_accuracy: 0.6940\n",
            "Epoch 19/25\n",
            "1334/1334 [==============================] - 14s 11ms/step - loss: 0.5615 - accuracy: 0.6971 - val_loss: 0.5576 - val_accuracy: 0.6958\n",
            "Epoch 20/25\n",
            "1334/1334 [==============================] - 14s 11ms/step - loss: 0.5598 - accuracy: 0.6964 - val_loss: 0.5573 - val_accuracy: 0.6978\n",
            "Epoch 21/25\n",
            "1334/1334 [==============================] - 14s 11ms/step - loss: 0.5550 - accuracy: 0.7023 - val_loss: 0.5640 - val_accuracy: 0.6922\n",
            "Epoch 22/25\n",
            "1334/1334 [==============================] - 14s 10ms/step - loss: 0.5596 - accuracy: 0.7027 - val_loss: 0.5658 - val_accuracy: 0.6961\n",
            "Epoch 23/25\n",
            "1334/1334 [==============================] - 14s 10ms/step - loss: 0.5559 - accuracy: 0.7006 - val_loss: 0.5581 - val_accuracy: 0.6935\n",
            "Epoch 24/25\n",
            "1334/1334 [==============================] - 14s 11ms/step - loss: 0.5509 - accuracy: 0.7047 - val_loss: 0.5587 - val_accuracy: 0.6961\n",
            "Epoch 25/25\n",
            "1334/1334 [==============================] - 14s 11ms/step - loss: 0.5496 - accuracy: 0.7046 - val_loss: 0.5568 - val_accuracy: 0.6951\n",
            "Fold 1, 25 epochs, 451 sec\n"
          ],
          "name": "stdout"
        },
        {
          "output_type": "display_data",
          "data": {
            "image/png": "[encoded data removed]",
            "text/plain": [
              "<Figure size 576x360 with 1 Axes>"
            ]
          },
          "metadata": {
            "tags": [],
            "needs_background": "light"
          }
        },
        {
          "output_type": "stream",
          "text": [
            "MODEL\n",
            "make_DNN\n",
            "input shape: (128, 4)\n",
            "FIT\n",
            "Epoch 1/25\n",
            "1334/1334 [==============================] - 18s 11ms/step - loss: 0.7142 - accuracy: 0.5045 - val_loss: 0.6872 - val_accuracy: 0.5472\n",
            "Epoch 2/25\n",
            "1334/1334 [==============================] - 14s 10ms/step - loss: 0.6863 - accuracy: 0.5478 - val_loss: 0.6623 - val_accuracy: 0.6020\n",
            "Epoch 3/25\n",
            "1334/1334 [==============================] - 14s 10ms/step - loss: 0.6630 - accuracy: 0.6017 - val_loss: 0.6369 - val_accuracy: 0.6360\n",
            "Epoch 4/25\n",
            "1334/1334 [==============================] - 14s 10ms/step - loss: 0.6398 - accuracy: 0.6337 - val_loss: 0.6314 - val_accuracy: 0.6450\n",
            "Epoch 5/25\n",
            "1334/1334 [==============================] - 14s 11ms/step - loss: 0.6317 - accuracy: 0.6456 - val_loss: 0.6240 - val_accuracy: 0.6504\n",
            "Epoch 6/25\n",
            "1334/1334 [==============================] - 14s 11ms/step - loss: 0.6114 - accuracy: 0.6659 - val_loss: 0.5833 - val_accuracy: 0.6865\n",
            "Epoch 7/25\n",
            "1334/1334 [==============================] - 14s 10ms/step - loss: 0.5892 - accuracy: 0.6839 - val_loss: 0.5733 - val_accuracy: 0.6887\n",
            "Epoch 8/25\n",
            "1334/1334 [==============================] - 14s 11ms/step - loss: 0.5786 - accuracy: 0.6899 - val_loss: 0.5672 - val_accuracy: 0.6921\n",
            "Epoch 9/25\n",
            "1334/1334 [==============================] - 14s 11ms/step - loss: 0.5721 - accuracy: 0.6934 - val_loss: 0.5679 - val_accuracy: 0.6935\n",
            "Epoch 10/25\n",
            "1334/1334 [==============================] - 14s 11ms/step - loss: 0.5727 - accuracy: 0.6911 - val_loss: 0.5621 - val_accuracy: 0.6935\n",
            "Epoch 11/25\n",
            "1334/1334 [==============================] - 14s 11ms/step - loss: 0.5653 - accuracy: 0.7001 - val_loss: 0.5584 - val_accuracy: 0.6979\n",
            "Epoch 12/25\n",
            "1334/1334 [==============================] - 14s 11ms/step - loss: 0.5652 - accuracy: 0.6981 - val_loss: 0.5624 - val_accuracy: 0.6980\n",
            "Epoch 13/25\n",
            "1334/1334 [==============================] - 14s 11ms/step - loss: 0.5646 - accuracy: 0.7004 - val_loss: 0.5599 - val_accuracy: 0.6979\n",
            "Epoch 14/25\n",
            "1334/1334 [==============================] - 14s 11ms/step - loss: 0.5621 - accuracy: 0.6960 - val_loss: 0.5593 - val_accuracy: 0.6976\n",
            "Epoch 15/25\n",
            "1334/1334 [==============================] - 14s 11ms/step - loss: 0.5639 - accuracy: 0.7009 - val_loss: 0.5590 - val_accuracy: 0.6979\n",
            "Epoch 16/25\n",
            "1334/1334 [==============================] - 14s 10ms/step - loss: 0.5597 - accuracy: 0.7015 - val_loss: 0.6811 - val_accuracy: 0.5787\n",
            "Epoch 17/25\n",
            "1334/1334 [==============================] - 14s 11ms/step - loss: 0.6613 - accuracy: 0.5959 - val_loss: 0.6087 - val_accuracy: 0.6674\n",
            "Epoch 18/25\n",
            "1334/1334 [==============================] - 14s 10ms/step - loss: 0.6071 - accuracy: 0.6673 - val_loss: 0.5600 - val_accuracy: 0.6932\n",
            "Epoch 19/25\n",
            "1334/1334 [==============================] - 14s 10ms/step - loss: 0.5620 - accuracy: 0.7012 - val_loss: 0.5578 - val_accuracy: 0.7000\n"
          ],
          "name": "stdout"
        },
        {
          "output_type": "stream",
          "text": [
            "WARNING:absl:Found untraced functions such as lstm_cell_4_layer_call_and_return_conditional_losses, lstm_cell_4_layer_call_fn, lstm_cell_5_layer_call_and_return_conditional_losses, lstm_cell_5_layer_call_fn, lstm_cell_4_layer_call_fn while saving (showing 5 of 10). These functions will not be directly callable after loading.\n"
          ],
          "name": "stderr"
        },
        {
          "output_type": "stream",
          "text": [
            "INFO:tensorflow:Assets written to: BestModel/assets\n"
          ],
          "name": "stdout"
        },
        {
          "output_type": "stream",
          "text": [
            "INFO:tensorflow:Assets written to: BestModel/assets\n"
          ],
          "name": "stderr"
        },
        {
          "output_type": "stream",
          "text": [
            "Epoch 20/25\n",
            "1334/1334 [==============================] - 14s 10ms/step - loss: 0.5597 - accuracy: 0.7005 - val_loss: 0.5598 - val_accuracy: 0.6984\n",
            "Epoch 21/25\n",
            "1334/1334 [==============================] - 14s 10ms/step - loss: 0.5623 - accuracy: 0.7040 - val_loss: 0.5557 - val_accuracy: 0.7007\n"
          ],
          "name": "stdout"
        },
        {
          "output_type": "stream",
          "text": [
            "WARNING:absl:Found untraced functions such as lstm_cell_4_layer_call_and_return_conditional_losses, lstm_cell_4_layer_call_fn, lstm_cell_5_layer_call_and_return_conditional_losses, lstm_cell_5_layer_call_fn, lstm_cell_4_layer_call_fn while saving (showing 5 of 10). These functions will not be directly callable after loading.\n"
          ],
          "name": "stderr"
        },
        {
          "output_type": "stream",
          "text": [
            "INFO:tensorflow:Assets written to: BestModel/assets\n"
          ],
          "name": "stdout"
        },
        {
          "output_type": "stream",
          "text": [
            "INFO:tensorflow:Assets written to: BestModel/assets\n"
          ],
          "name": "stderr"
        },
        {
          "output_type": "stream",
          "text": [
            "Epoch 22/25\n",
            "1334/1334 [==============================] - 14s 11ms/step - loss: 0.5586 - accuracy: 0.7011 - val_loss: 0.5606 - val_accuracy: 0.6995\n",
            "Epoch 23/25\n",
            "1334/1334 [==============================] - 14s 10ms/step - loss: 0.5540 - accuracy: 0.7032 - val_loss: 0.5540 - val_accuracy: 0.6999\n",
            "Epoch 24/25\n",
            "1334/1334 [==============================] - 14s 10ms/step - loss: 0.5548 - accuracy: 0.7034 - val_loss: 0.5898 - val_accuracy: 0.6664\n",
            "Epoch 25/25\n",
            "1334/1334 [==============================] - 14s 11ms/step - loss: 0.5601 - accuracy: 0.7008 - val_loss: 0.5578 - val_accuracy: 0.6983\n",
            "Fold 2, 25 epochs, 371 sec\n"
          ],
          "name": "stdout"
        },
        {
          "output_type": "display_data",
          "data": {
            "image/png": "[encoded data removed]",
            "text/plain": [
              "<Figure size 576x360 with 1 Axes>"
            ]
          },
          "metadata": {
            "tags": [],
            "needs_background": "light"
          }
        },
        {
          "output_type": "stream",
          "text": [
            "MODEL\n",
            "make_DNN\n",
            "input shape: (128, 4)\n",
            "FIT\n",
            "Epoch 1/25\n",
            "1334/1334 [==============================] - 18s 12ms/step - loss: 0.7016 - accuracy: 0.5252 - val_loss: 0.6573 - val_accuracy: 0.6083\n",
            "Epoch 2/25\n",
            "1334/1334 [==============================] - 14s 10ms/step - loss: 0.6572 - accuracy: 0.6055 - val_loss: 0.6307 - val_accuracy: 0.6426\n",
            "Epoch 3/25\n",
            "1334/1334 [==============================] - 14s 11ms/step - loss: 0.6355 - accuracy: 0.6422 - val_loss: 0.6426 - val_accuracy: 0.6264\n",
            "Epoch 4/25\n",
            "1334/1334 [==============================] - 14s 10ms/step - loss: 0.6218 - accuracy: 0.6590 - val_loss: 0.6162 - val_accuracy: 0.6582\n",
            "Epoch 5/25\n",
            "1334/1334 [==============================] - 14s 11ms/step - loss: 0.6051 - accuracy: 0.6714 - val_loss: 0.5960 - val_accuracy: 0.6705\n",
            "Epoch 6/25\n",
            "1334/1334 [==============================] - 14s 10ms/step - loss: 0.5894 - accuracy: 0.6863 - val_loss: 0.5809 - val_accuracy: 0.6855\n",
            "Epoch 7/25\n",
            "1334/1334 [==============================] - 14s 11ms/step - loss: 0.5806 - accuracy: 0.6884 - val_loss: 0.5841 - val_accuracy: 0.6830\n",
            "Epoch 8/25\n",
            "1334/1334 [==============================] - 14s 10ms/step - loss: 0.5749 - accuracy: 0.6955 - val_loss: 0.5725 - val_accuracy: 0.6870\n",
            "Epoch 9/25\n",
            "1334/1334 [==============================] - 14s 11ms/step - loss: 0.5711 - accuracy: 0.6971 - val_loss: 0.5722 - val_accuracy: 0.6917\n",
            "Epoch 10/25\n",
            "1334/1334 [==============================] - 14s 11ms/step - loss: 0.5753 - accuracy: 0.6894 - val_loss: 0.5656 - val_accuracy: 0.6935\n",
            "Epoch 11/25\n",
            "1334/1334 [==============================] - 14s 10ms/step - loss: 0.5660 - accuracy: 0.7008 - val_loss: 0.5634 - val_accuracy: 0.6933\n",
            "Epoch 12/25\n",
            "1334/1334 [==============================] - 14s 11ms/step - loss: 0.5621 - accuracy: 0.7025 - val_loss: 0.5634 - val_accuracy: 0.6967\n",
            "Epoch 13/25\n",
            "1334/1334 [==============================] - 14s 11ms/step - loss: 0.5669 - accuracy: 0.6975 - val_loss: 0.5969 - val_accuracy: 0.6691\n",
            "Epoch 14/25\n",
            "1334/1334 [==============================] - 14s 11ms/step - loss: 0.5718 - accuracy: 0.6925 - val_loss: 0.5627 - val_accuracy: 0.6941\n",
            "Epoch 15/25\n",
            "1334/1334 [==============================] - 14s 11ms/step - loss: 0.5571 - accuracy: 0.7062 - val_loss: 0.5600 - val_accuracy: 0.6965\n",
            "Epoch 16/25\n",
            "1334/1334 [==============================] - 14s 11ms/step - loss: 0.5606 - accuracy: 0.7039 - val_loss: 0.5627 - val_accuracy: 0.6959\n",
            "Epoch 17/25\n",
            "1334/1334 [==============================] - 14s 11ms/step - loss: 0.5560 - accuracy: 0.7055 - val_loss: 0.5598 - val_accuracy: 0.6985\n",
            "Epoch 18/25\n",
            "1334/1334 [==============================] - 14s 11ms/step - loss: 0.5500 - accuracy: 0.7101 - val_loss: 0.5654 - val_accuracy: 0.6902\n",
            "Epoch 19/25\n",
            "1334/1334 [==============================] - 14s 11ms/step - loss: 0.5572 - accuracy: 0.7072 - val_loss: 0.5623 - val_accuracy: 0.6967\n",
            "Epoch 20/25\n",
            "1334/1334 [==============================] - 14s 11ms/step - loss: 0.5522 - accuracy: 0.7104 - val_loss: 0.5612 - val_accuracy: 0.6962\n",
            "Epoch 21/25\n",
            "1334/1334 [==============================] - 15s 11ms/step - loss: 0.5504 - accuracy: 0.7106 - val_loss: 0.5573 - val_accuracy: 0.6986\n",
            "Epoch 22/25\n",
            "1334/1334 [==============================] - 14s 11ms/step - loss: 0.5515 - accuracy: 0.7074 - val_loss: 0.5570 - val_accuracy: 0.6985\n",
            "Epoch 23/25\n",
            "1334/1334 [==============================] - 14s 11ms/step - loss: 0.5536 - accuracy: 0.7021 - val_loss: 0.5554 - val_accuracy: 0.7004\n",
            "Epoch 24/25\n",
            "1334/1334 [==============================] - 14s 11ms/step - loss: 0.5506 - accuracy: 0.7067 - val_loss: 0.5572 - val_accuracy: 0.6982\n",
            "Epoch 25/25\n",
            "1334/1334 [==============================] - 14s 11ms/step - loss: 0.5544 - accuracy: 0.7047 - val_loss: 0.5608 - val_accuracy: 0.6960\n",
            "Fold 3, 25 epochs, 358 sec\n"
          ],
          "name": "stdout"
        },
        {
          "output_type": "display_data",
          "data": {
            "image/png": "[encoded data removed]",
            "text/plain": [
              "<Figure size 576x360 with 1 Axes>"
            ]
          },
          "metadata": {
            "tags": [],
            "needs_background": "light"
          }
        }
      ]
    },
    {
      "cell_type": "code",
      "metadata": {
        "id": "e-jG1h5fj2Ua",
        "colab": {
          "base_uri": "https://localhost:8080/"
        },
        "outputId": "6682d786-7a57-4dcf-8aec-f570a035b18f"
      },
      "source": [
        "from keras.models import load_model\n",
        "X,y = prepare_inputs_len_x_alphabet(pc_test,nc_test,ALPHABET)\n",
        "best_model=load_model(MODELPATH)\n",
        "scores = best_model.evaluate(X, y, verbose=0)\n",
        "print(\"The best model parameters were saved during cross-validation.\")\n",
        "print(\"Best was defined as maximum validation accuracy at end of any epoch.\")\n",
        "print(\"Now re-load the best model and test it on previously unseen data.\")\n",
        "print(\"Test on\",len(pc_test),\"PC seqs\")\n",
        "print(\"Test on\",len(nc_test),\"NC seqs\")\n",
        "print(\"%s: %.2f%%\" % (best_model.metrics_names[1], scores[1]*100))\n"
      ],
      "execution_count": 12,
      "outputs": [
        {
          "output_type": "stream",
          "text": [
            "The best model parameters were saved during cross-validation.\n",
            "Best was defined as maximum validation accuracy at end of any epoch.\n",
            "Now re-load the best model and test it on previously unseen data.\n",
            "Test on 1000 PC seqs\n",
            "Test on 1000 NC seqs\n",
            "accuracy: 68.30%\n"
          ],
          "name": "stdout"
        }
      ]
    },
    {
      "cell_type": "code",
      "metadata": {
        "id": "VycUnmvUj2Ue",
        "colab": {
          "base_uri": "https://localhost:8080/",
          "height": 313
        },
        "outputId": "287cb6c5-a398-4e82-c5e5-d41a13b69a96"
      },
      "source": [
        "from sklearn.metrics import roc_curve\n",
        "from sklearn.metrics import roc_auc_score\n",
        "ns_probs = [0 for _ in range(len(y))]\n",
        "bm_probs = best_model.predict(X)\n",
        "ns_auc = roc_auc_score(y, ns_probs)\n",
        "bm_auc = roc_auc_score(y, bm_probs)\n",
        "ns_fpr, ns_tpr, _ = roc_curve(y, ns_probs)\n",
        "bm_fpr, bm_tpr, _ = roc_curve(y, bm_probs)\n",
        "plt.plot(ns_fpr, ns_tpr, linestyle='--', label='Guess, auc=%.4f'%ns_auc)\n",
        "plt.plot(bm_fpr, bm_tpr, marker='.', label='Model, auc=%.4f'%bm_auc)\n",
        "plt.title('ROC')\n",
        "plt.xlabel('False Positive Rate')\n",
        "plt.ylabel('True Positive Rate')\n",
        "plt.legend()\n",
        "plt.show()\n",
        "print(\"%s: %.2f%%\" %('AUC',bm_auc*100.0))\n"
      ],
      "execution_count": 13,
      "outputs": [
        {
          "output_type": "display_data",
          "data": {
            "image/png": "[encoded data removed]",
            "text/plain": [
              "<Figure size 432x288 with 1 Axes>"
            ]
          },
          "metadata": {
            "tags": [],
            "needs_background": "light"
          }
        },
        {
          "output_type": "stream",
          "text": [
            "AUC: 75.79%\n"
          ],
          "name": "stdout"
        }
      ]
    },
    {
      "cell_type": "code",
      "metadata": {
        "id": "kFMb6rGNj2Ug",
        "colab": {
          "base_uri": "https://localhost:8080/",
          "height": 36
        },
        "outputId": "4287712e-45be-43ed-f48b-02cc7e431763"
      },
      "source": [
        "t = time.time()\n",
        "time.strftime('%Y-%m-%d %H:%M:%S %Z', time.localtime(t))"
      ],
      "execution_count": 14,
      "outputs": [
        {
          "output_type": "execute_result",
          "data": {
            "application/vnd.google.colaboratory.intrinsic+json": {
              "type": "string"
            },
            "text/plain": [
              "'2021-06-24 19:19:18 UTC'"
            ]
          },
          "metadata": {
            "tags": []
          },
          "execution_count": 14
        }
      ]
    },
    {
      "cell_type": "code",
      "metadata": {
        "id": "e-mEgDrQjUzF"
      },
      "source": [
        ""
      ],
      "execution_count": 14,
      "outputs": []
    }
  ]
}