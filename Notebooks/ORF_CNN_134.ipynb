{
  "nbformat": 4,
  "nbformat_minor": 0,
  "metadata": {
    "accelerator": "GPU",
    "colab": {
      "name": "ORF_CNN_134.ipynb",
      "provenance": [],
      "collapsed_sections": []
    },
    "kernelspec": {
      "display_name": "Python 3",
      "language": "python",
      "name": "python3"
    },
    "language_info": {
      "codemirror_mode": {
        "name": "ipython",
        "version": 3
      },
      "file_extension": ".py",
      "mimetype": "text/x-python",
      "name": "python",
      "nbconvert_exporter": "python",
      "pygments_lexer": "ipython3",
      "version": "3.8.3"
    }
  },
  "cells": [
    {
      "cell_type": "markdown",
      "metadata": {
        "id": "0asdcdunj2Tx"
      },
      "source": [
        "# ORF recognition by CNN\n",
        "\n",
        "Use variable number of bases between START and STOP. Thus, ncRNA will have its STOP out-of-frame or too close to the START, and pcRNA will have its STOP in-frame and far from the START."
      ]
    },
    {
      "cell_type": "code",
      "metadata": {
        "colab": {
          "base_uri": "https://localhost:8080/",
          "height": 36
        },
        "id": "QP1VTRNQj2UO",
        "outputId": "a1bcae68-764a-48dd-f49d-f10a53098c29"
      },
      "source": [
        "import time \n",
        "t = time.time()\n",
        "time.strftime('%Y-%m-%d %H:%M:%S %Z', time.localtime(t))"
      ],
      "execution_count": 31,
      "outputs": [
        {
          "output_type": "execute_result",
          "data": {
            "application/vnd.google.colaboratory.intrinsic+json": {
              "type": "string"
            },
            "text/plain": [
              "'2021-07-30 14:54:43 UTC'"
            ]
          },
          "metadata": {
            "tags": []
          },
          "execution_count": 31
        }
      ]
    },
    {
      "cell_type": "code",
      "metadata": {
        "id": "Nhz4GKonj2T_"
      },
      "source": [
        "PC_SEQUENCES=1000   # how many protein-coding sequences\n",
        "NC_SEQUENCES=1000   # how many non-coding sequences\n",
        "PC_TESTS=1000\n",
        "NC_TESTS=1000\n",
        "RNA_LEN=32            # how long is each sequence\n",
        "CDS_LEN=16            # min CDS len to be coding\n",
        "ALPHABET=4          # how many different letters are possible\n",
        "INPUT_SHAPE_2D = (RNA_LEN,ALPHABET,1) # Conv2D needs 3D inputs\n",
        "INPUT_SHAPE = (RNA_LEN,ALPHABET) # Conv1D needs 2D inputs\n",
        "FILTERS = 16   # how many different patterns the model looks for\n",
        "NEURONS = 16\n",
        "DROP_RATE = 0.75\n",
        "WIDTH = 3   # how wide each pattern is, in bases\n",
        "STRIDE_2D = (1,1)  # For Conv2D how far in each direction\n",
        "STRIDE = 1 # For Conv1D, how far between pattern matches, in bases\n",
        "EPOCHS=100  # how many times to train on all the data\n",
        "SPLITS=3  # SPLITS=3 means train on 2/3 and validate on 1/3 \n",
        "FOLDS=1  # train the model this many times (range 1 to SPLITS)"
      ],
      "execution_count": 32,
      "outputs": []
    },
    {
      "cell_type": "code",
      "metadata": {
        "colab": {
          "base_uri": "https://localhost:8080/"
        },
        "id": "lr7q90rxj2UE",
        "outputId": "f6d633a4-58b9-4283-8bd8-5a44c3b70676"
      },
      "source": [
        "import sys\n",
        "IN_COLAB = False\n",
        "try:\n",
        "    from google.colab import drive\n",
        "    IN_COLAB = True\n",
        "except:\n",
        "    pass\n",
        "if IN_COLAB:\n",
        "    print(\"On Google CoLab, mount cloud-local file, get our code from GitHub.\")\n",
        "    PATH='/content/drive/'\n",
        "    #drive.mount(PATH,force_remount=True)  # hardly ever need this\n",
        "    #drive.mount(PATH)    # Google will require login credentials\n",
        "    DATAPATH=PATH+'My Drive/data/'  # must end in \"/\"\n",
        "    import requests\n",
        "    r = requests.get('https://raw.githubusercontent.com/ShepherdCode/Soars2021/master/SimTools/RNA_describe.py')\n",
        "    with open('RNA_describe.py', 'w') as f:\n",
        "        f.write(r.text)  \n",
        "    from RNA_describe import ORF_counter\n",
        "    from RNA_describe import Random_Base_Oracle\n",
        "    r = requests.get('https://raw.githubusercontent.com/ShepherdCode/Soars2021/master/SimTools/RNA_prep.py')\n",
        "    with open('RNA_prep.py', 'w') as f:\n",
        "        f.write(r.text)  \n",
        "    from RNA_prep import prepare_inputs_len_x_alphabet\n",
        "else:\n",
        "        print(\"CoLab not working. On my PC, use relative paths.\")\n",
        "        DATAPATH='data/'  # must end in \"/\"\n",
        "        sys.path.append(\"..\") # append parent dir in order to use sibling dirs\n",
        "        from SimTools.RNA_describe import ORF_counter,Random_Base_Oracle\n",
        "        from SimTools.RNA_prep import prepare_inputs_len_x_alphabet\n",
        "\n",
        "MODELPATH=\"BestModel\"  # saved on cloud instance and lost after logout\n",
        "#MODELPATH=DATAPATH+MODELPATH  # saved on Google Drive but requires login"
      ],
      "execution_count": 33,
      "outputs": [
        {
          "output_type": "stream",
          "text": [
            "On Google CoLab, mount cloud-local file, get our code from GitHub.\n"
          ],
          "name": "stdout"
        }
      ]
    },
    {
      "cell_type": "code",
      "metadata": {
        "id": "EGDXH8Uwj2UM"
      },
      "source": [
        "from os import listdir\n",
        "import csv\n",
        "from zipfile import ZipFile\n",
        "\n",
        "import numpy as np\n",
        "import pandas as pd\n",
        "from scipy import stats  # mode\n",
        "\n",
        "from sklearn.preprocessing import StandardScaler\n",
        "from sklearn.model_selection import KFold\n",
        "from sklearn.model_selection import cross_val_score\n",
        "\n",
        "from keras.models import Sequential\n",
        "from keras.layers import Dense,Embedding,Dropout\n",
        "from keras.layers import Conv1D,Conv2D\n",
        "from keras.layers import Flatten,MaxPooling1D,MaxPooling2D\n",
        "from keras.losses import BinaryCrossentropy\n",
        "# tf.keras.losses.BinaryCrossentropy\n",
        "\n",
        "import matplotlib.pyplot as plt\n",
        "from matplotlib import colors\n",
        "mycmap = colors.ListedColormap(['red','blue'])  # list color for label 0 then 1\n",
        "np.set_printoptions(precision=2)\n"
      ],
      "execution_count": 34,
      "outputs": []
    },
    {
      "cell_type": "code",
      "metadata": {
        "colab": {
          "base_uri": "https://localhost:8080/"
        },
        "id": "CUOG_jEvGtOm",
        "outputId": "220e90a1-e012-457a-c622-8d5cb6406362"
      },
      "source": [
        "rbo=Random_Base_Oracle(RNA_LEN,True)\n",
        "pc_all,nc_all = rbo.get_partitioned_sequences(CDS_LEN,10) # just testing\n",
        "pc_all,nc_all = rbo.get_partitioned_sequences(CDS_LEN,PC_SEQUENCES+PC_TESTS)\n",
        "print(\"Use\",len(pc_all),\"PC seqs\")\n",
        "print(\"Use\",len(nc_all),\"NC seqs\")"
      ],
      "execution_count": 35,
      "outputs": [
        {
          "output_type": "stream",
          "text": [
            "It took 55 trials to reach 10 per class.\n",
            "It took 8548 trials to reach 2000 per class.\n",
            "Use 2000 PC seqs\n",
            "Use 2000 NC seqs\n"
          ],
          "name": "stdout"
        }
      ]
    },
    {
      "cell_type": "code",
      "metadata": {
        "colab": {
          "base_uri": "https://localhost:8080/"
        },
        "id": "Q-BmSXi2jUyl",
        "outputId": "3d6f2e32-5fa5-4286-e5de-199524118ee1"
      },
      "source": [
        "# Describe the sequences\n",
        "def describe_sequences(list_of_seq):\n",
        "    oc = ORF_counter()\n",
        "    num_seq = len(list_of_seq)\n",
        "    rna_lens = np.zeros(num_seq)\n",
        "    orf_lens = np.zeros(num_seq)\n",
        "    for i in range(0,num_seq):\n",
        "        rna_len = len(list_of_seq[i])\n",
        "        rna_lens[i] = rna_len\n",
        "        oc.set_sequence(list_of_seq[i])\n",
        "        orf_len = oc.get_max_orf_len()\n",
        "        orf_lens[i] = orf_len\n",
        "    print (\"Average RNA length:\",rna_lens.mean())\n",
        "    print (\"Average ORF length:\",orf_lens.mean())\n",
        "    \n",
        "print(\"Simulated sequences prior to adjustment:\")\n",
        "print(\"PC seqs\")\n",
        "describe_sequences(pc_all)\n",
        "print(\"NC seqs\")\n",
        "describe_sequences(nc_all)"
      ],
      "execution_count": 36,
      "outputs": [
        {
          "output_type": "stream",
          "text": [
            "Simulated sequences prior to adjustment:\n",
            "PC seqs\n",
            "Average RNA length: 32.0\n",
            "Average ORF length: 19.8795\n",
            "NC seqs\n",
            "Average RNA length: 32.0\n",
            "Average ORF length: 2.8485\n"
          ],
          "name": "stdout"
        }
      ]
    },
    {
      "cell_type": "code",
      "metadata": {
        "id": "iP1y7-J3jUys"
      },
      "source": [
        "pc_train=pc_all[:PC_SEQUENCES]\n",
        "nc_train=nc_all[:NC_SEQUENCES]\n",
        "pc_test=pc_all[PC_SEQUENCES:]\n",
        "nc_test=nc_all[NC_SEQUENCES:]"
      ],
      "execution_count": 37,
      "outputs": []
    },
    {
      "cell_type": "code",
      "metadata": {
        "colab": {
          "base_uri": "https://localhost:8080/"
        },
        "id": "CIpTrnH6j2US",
        "outputId": "ff330d0f-8ffd-4dc9-e62d-0d44dfe3fde2"
      },
      "source": [
        "# Use code from our SimTools library.\n",
        "X,y = prepare_inputs_len_x_alphabet(pc_train,nc_train,ALPHABET) # shuffles\n",
        "print(\"Data ready.\")"
      ],
      "execution_count": 38,
      "outputs": [
        {
          "output_type": "stream",
          "text": [
            "Data ready.\n"
          ],
          "name": "stdout"
        }
      ]
    },
    {
      "cell_type": "code",
      "metadata": {
        "colab": {
          "base_uri": "https://localhost:8080/"
        },
        "id": "7NvrVU8ij2UU",
        "outputId": "6241ae89-e217-4783-84a4-9144edca6be5"
      },
      "source": [
        "def make_DNN():\n",
        "    print(\"make_DNN\")\n",
        "    print(\"input shape:\",INPUT_SHAPE)\n",
        "    dnn = Sequential()\n",
        "    #dnn.add(Embedding(input_dim=INPUT_SHAPE,output_dim=INPUT_SHAPE)) \n",
        "    dnn.add(Conv1D(filters=FILTERS,kernel_size=WIDTH,strides=STRIDE,padding=\"same\",\n",
        "            input_shape=INPUT_SHAPE))\n",
        "    dnn.add(Conv1D(filters=FILTERS,kernel_size=WIDTH,strides=STRIDE,padding=\"same\"))\n",
        "    dnn.add(MaxPooling1D())\n",
        "    #dnn.add(Conv1D(filters=FILTERS,kernel_size=WIDTH,strides=STRIDE,padding=\"same\"))\n",
        "    #dnn.add(Conv1D(filters=FILTERS,kernel_size=WIDTH,strides=STRIDE,padding=\"same\"))\n",
        "    #dnn.add(MaxPooling1D())\n",
        "    dnn.add(Flatten())\n",
        "    dnn.add(Dense(NEURONS,activation=\"sigmoid\",dtype=np.float32))   \n",
        "    dnn.add(Dropout(DROP_RATE))\n",
        "    dnn.add(Dense(1,activation=\"sigmoid\",dtype=np.float32))   \n",
        "    dnn.compile(optimizer='adam',\n",
        "                loss=BinaryCrossentropy(from_logits=False),\n",
        "                metrics=['accuracy'])   # add to default metrics=loss\n",
        "    dnn.build(input_shape=INPUT_SHAPE)\n",
        "    #ln_rate = tf.keras.optimizers.Adam(learning_rate = LN_RATE)\n",
        "    #bc=tf.keras.losses.BinaryCrossentropy(from_logits=False)\n",
        "    #model.compile(loss=bc, optimizer=ln_rate, metrics=[\"accuracy\"])\n",
        "    return dnn\n",
        "model = make_DNN()\n",
        "print(model.summary())"
      ],
      "execution_count": 39,
      "outputs": [
        {
          "output_type": "stream",
          "text": [
            "make_DNN\n",
            "input shape: (32, 4)\n",
            "Model: \"sequential_13\"\n",
            "_________________________________________________________________\n",
            "Layer (type)                 Output Shape              Param #   \n",
            "=================================================================\n",
            "conv1d_30 (Conv1D)           (None, 32, 16)            208       \n",
            "_________________________________________________________________\n",
            "conv1d_31 (Conv1D)           (None, 32, 16)            784       \n",
            "_________________________________________________________________\n",
            "max_pooling1d_15 (MaxPooling (None, 16, 16)            0         \n",
            "_________________________________________________________________\n",
            "flatten_13 (Flatten)         (None, 256)               0         \n",
            "_________________________________________________________________\n",
            "dense_26 (Dense)             (None, 16)                4112      \n",
            "_________________________________________________________________\n",
            "dropout_13 (Dropout)         (None, 16)                0         \n",
            "_________________________________________________________________\n",
            "dense_27 (Dense)             (None, 1)                 17        \n",
            "=================================================================\n",
            "Total params: 5,121\n",
            "Trainable params: 5,121\n",
            "Non-trainable params: 0\n",
            "_________________________________________________________________\n",
            "None\n"
          ],
          "name": "stdout"
        }
      ]
    },
    {
      "cell_type": "code",
      "metadata": {
        "id": "nlVF0hR3j2UW"
      },
      "source": [
        "from keras.callbacks import ModelCheckpoint\n",
        "def do_cross_validation(X,y):\n",
        "    cv_scores = []\n",
        "    fold=0\n",
        "    mycallbacks = [ModelCheckpoint(\n",
        "        filepath=MODELPATH, save_best_only=True, \n",
        "        monitor='val_accuracy', mode='max')]   \n",
        "    splitter = KFold(n_splits=SPLITS)  # this does not shuffle\n",
        "    for train_index,valid_index in splitter.split(X):\n",
        "        if fold < FOLDS:\n",
        "            fold += 1\n",
        "            X_train=X[train_index] # inputs for training\n",
        "            y_train=y[train_index] # labels for training\n",
        "            X_valid=X[valid_index] # inputs for validation\n",
        "            y_valid=y[valid_index] # labels for validation\n",
        "            print(\"MODEL\")\n",
        "            # Call constructor on each CV. Else, continually improves the same model.\n",
        "            model = model = make_DNN()\n",
        "            print(\"FIT\")  # model.fit() implements learning\n",
        "            start_time=time.time()\n",
        "            history=model.fit(X_train, y_train, \n",
        "                    epochs=EPOCHS, \n",
        "                    verbose=1,  # ascii art while learning\n",
        "                    callbacks=mycallbacks,   # called at end of each epoch\n",
        "                    validation_data=(X_valid,y_valid))\n",
        "            end_time=time.time()\n",
        "            elapsed_time=(end_time-start_time)                        \n",
        "            print(\"Fold %d, %d epochs, %d sec\"%(fold,EPOCHS,elapsed_time))\n",
        "            # print(history.history.keys())  # all these keys will be shown in figure\n",
        "            pd.DataFrame(history.history).plot(figsize=(8,5))\n",
        "            plt.grid(True)\n",
        "            plt.gca().set_ylim(0,1) # any losses > 1 will be off the scale\n",
        "            plt.show()\n"
      ],
      "execution_count": 40,
      "outputs": []
    },
    {
      "cell_type": "code",
      "metadata": {
        "colab": {
          "base_uri": "https://localhost:8080/",
          "height": 1000
        },
        "id": "9Ggt4EsSj2UY",
        "outputId": "ead895d8-5db1-43b9-805b-d2127b1f54c0"
      },
      "source": [
        "do_cross_validation(X,y)"
      ],
      "execution_count": 41,
      "outputs": [
        {
          "output_type": "stream",
          "text": [
            "MODEL\n",
            "make_DNN\n",
            "input shape: (32, 4)\n",
            "FIT\n",
            "Epoch 1/100\n",
            "42/42 [==============================] - 1s 12ms/step - loss: 0.8224 - accuracy: 0.4515 - val_loss: 0.6884 - val_accuracy: 0.5427\n",
            "INFO:tensorflow:Assets written to: BestModel/assets\n",
            "Epoch 2/100\n",
            "42/42 [==============================] - 0s 4ms/step - loss: 0.6978 - accuracy: 0.5066 - val_loss: 0.6894 - val_accuracy: 0.5742\n",
            "INFO:tensorflow:Assets written to: BestModel/assets\n",
            "Epoch 3/100\n",
            "42/42 [==============================] - 0s 4ms/step - loss: 0.6875 - accuracy: 0.5287 - val_loss: 0.6869 - val_accuracy: 0.5967\n",
            "INFO:tensorflow:Assets written to: BestModel/assets\n",
            "Epoch 4/100\n",
            "42/42 [==============================] - 0s 5ms/step - loss: 0.6889 - accuracy: 0.5372 - val_loss: 0.6816 - val_accuracy: 0.6192\n",
            "INFO:tensorflow:Assets written to: BestModel/assets\n",
            "Epoch 5/100\n",
            "42/42 [==============================] - 0s 5ms/step - loss: 0.6846 - accuracy: 0.5481 - val_loss: 0.6774 - val_accuracy: 0.6312\n",
            "INFO:tensorflow:Assets written to: BestModel/assets\n",
            "Epoch 6/100\n",
            "42/42 [==============================] - 0s 4ms/step - loss: 0.6828 - accuracy: 0.5380 - val_loss: 0.6697 - val_accuracy: 0.6237\n",
            "Epoch 7/100\n",
            "42/42 [==============================] - 0s 5ms/step - loss: 0.6549 - accuracy: 0.6066 - val_loss: 0.6583 - val_accuracy: 0.6162\n",
            "Epoch 8/100\n",
            "42/42 [==============================] - 0s 4ms/step - loss: 0.6536 - accuracy: 0.5937 - val_loss: 0.6484 - val_accuracy: 0.6252\n",
            "Epoch 9/100\n",
            "42/42 [==============================] - 0s 4ms/step - loss: 0.6591 - accuracy: 0.5934 - val_loss: 0.6458 - val_accuracy: 0.6342\n",
            "INFO:tensorflow:Assets written to: BestModel/assets\n",
            "Epoch 10/100\n",
            "42/42 [==============================] - 0s 5ms/step - loss: 0.6603 - accuracy: 0.6002 - val_loss: 0.6420 - val_accuracy: 0.6417\n",
            "INFO:tensorflow:Assets written to: BestModel/assets\n",
            "Epoch 11/100\n",
            "42/42 [==============================] - 0s 4ms/step - loss: 0.6497 - accuracy: 0.5798 - val_loss: 0.6294 - val_accuracy: 0.6417\n",
            "Epoch 12/100\n",
            "42/42 [==============================] - 0s 5ms/step - loss: 0.6265 - accuracy: 0.6365 - val_loss: 0.6296 - val_accuracy: 0.6537\n",
            "INFO:tensorflow:Assets written to: BestModel/assets\n",
            "Epoch 13/100\n",
            "42/42 [==============================] - 0s 4ms/step - loss: 0.6281 - accuracy: 0.6412 - val_loss: 0.6190 - val_accuracy: 0.6627\n",
            "INFO:tensorflow:Assets written to: BestModel/assets\n",
            "Epoch 14/100\n",
            "42/42 [==============================] - 0s 4ms/step - loss: 0.6126 - accuracy: 0.6516 - val_loss: 0.6148 - val_accuracy: 0.6687\n",
            "INFO:tensorflow:Assets written to: BestModel/assets\n",
            "Epoch 15/100\n",
            "42/42 [==============================] - 0s 4ms/step - loss: 0.6041 - accuracy: 0.6634 - val_loss: 0.6019 - val_accuracy: 0.6807\n",
            "INFO:tensorflow:Assets written to: BestModel/assets\n",
            "Epoch 16/100\n",
            "42/42 [==============================] - 0s 4ms/step - loss: 0.5960 - accuracy: 0.6672 - val_loss: 0.5925 - val_accuracy: 0.6957\n",
            "INFO:tensorflow:Assets written to: BestModel/assets\n",
            "Epoch 17/100\n",
            "42/42 [==============================] - 0s 5ms/step - loss: 0.5772 - accuracy: 0.6634 - val_loss: 0.5890 - val_accuracy: 0.7076\n",
            "INFO:tensorflow:Assets written to: BestModel/assets\n",
            "Epoch 18/100\n",
            "42/42 [==============================] - 0s 5ms/step - loss: 0.5816 - accuracy: 0.7070 - val_loss: 0.5816 - val_accuracy: 0.7076\n",
            "Epoch 19/100\n",
            "42/42 [==============================] - 0s 4ms/step - loss: 0.5627 - accuracy: 0.7158 - val_loss: 0.5826 - val_accuracy: 0.7091\n",
            "INFO:tensorflow:Assets written to: BestModel/assets\n",
            "Epoch 20/100\n",
            "42/42 [==============================] - 0s 5ms/step - loss: 0.5678 - accuracy: 0.6984 - val_loss: 0.5709 - val_accuracy: 0.7106\n",
            "INFO:tensorflow:Assets written to: BestModel/assets\n",
            "Epoch 21/100\n",
            "42/42 [==============================] - 0s 4ms/step - loss: 0.5451 - accuracy: 0.7149 - val_loss: 0.5651 - val_accuracy: 0.7181\n",
            "INFO:tensorflow:Assets written to: BestModel/assets\n",
            "Epoch 22/100\n",
            "42/42 [==============================] - 0s 5ms/step - loss: 0.5679 - accuracy: 0.6855 - val_loss: 0.5640 - val_accuracy: 0.7211\n",
            "INFO:tensorflow:Assets written to: BestModel/assets\n",
            "Epoch 23/100\n",
            "42/42 [==============================] - 0s 5ms/step - loss: 0.5362 - accuracy: 0.7240 - val_loss: 0.5616 - val_accuracy: 0.7196\n",
            "Epoch 24/100\n",
            "42/42 [==============================] - 0s 4ms/step - loss: 0.5468 - accuracy: 0.7211 - val_loss: 0.5574 - val_accuracy: 0.7316\n",
            "INFO:tensorflow:Assets written to: BestModel/assets\n",
            "Epoch 25/100\n",
            "42/42 [==============================] - 0s 5ms/step - loss: 0.5141 - accuracy: 0.7389 - val_loss: 0.5527 - val_accuracy: 0.7361\n",
            "INFO:tensorflow:Assets written to: BestModel/assets\n",
            "Epoch 26/100\n",
            "42/42 [==============================] - 0s 4ms/step - loss: 0.5114 - accuracy: 0.7281 - val_loss: 0.5475 - val_accuracy: 0.7301\n",
            "Epoch 27/100\n",
            "42/42 [==============================] - 0s 5ms/step - loss: 0.5159 - accuracy: 0.7428 - val_loss: 0.5468 - val_accuracy: 0.7316\n",
            "Epoch 28/100\n",
            "42/42 [==============================] - 0s 5ms/step - loss: 0.5084 - accuracy: 0.7524 - val_loss: 0.5464 - val_accuracy: 0.7376\n",
            "INFO:tensorflow:Assets written to: BestModel/assets\n",
            "Epoch 29/100\n",
            "42/42 [==============================] - 0s 4ms/step - loss: 0.5078 - accuracy: 0.7402 - val_loss: 0.5456 - val_accuracy: 0.7346\n",
            "Epoch 30/100\n",
            "42/42 [==============================] - 0s 4ms/step - loss: 0.4964 - accuracy: 0.7489 - val_loss: 0.5454 - val_accuracy: 0.7376\n",
            "Epoch 31/100\n",
            "42/42 [==============================] - 0s 5ms/step - loss: 0.4839 - accuracy: 0.7517 - val_loss: 0.5385 - val_accuracy: 0.7391\n",
            "INFO:tensorflow:Assets written to: BestModel/assets\n",
            "Epoch 32/100\n",
            "42/42 [==============================] - 0s 4ms/step - loss: 0.4786 - accuracy: 0.7474 - val_loss: 0.5405 - val_accuracy: 0.7346\n",
            "Epoch 33/100\n",
            "42/42 [==============================] - 0s 5ms/step - loss: 0.4974 - accuracy: 0.7678 - val_loss: 0.5380 - val_accuracy: 0.7376\n",
            "Epoch 34/100\n",
            "42/42 [==============================] - 0s 5ms/step - loss: 0.4587 - accuracy: 0.7713 - val_loss: 0.5385 - val_accuracy: 0.7361\n",
            "Epoch 35/100\n",
            "42/42 [==============================] - 0s 4ms/step - loss: 0.4988 - accuracy: 0.7359 - val_loss: 0.5391 - val_accuracy: 0.7406\n",
            "INFO:tensorflow:Assets written to: BestModel/assets\n",
            "Epoch 36/100\n",
            "42/42 [==============================] - 0s 5ms/step - loss: 0.4630 - accuracy: 0.7731 - val_loss: 0.5366 - val_accuracy: 0.7421\n",
            "INFO:tensorflow:Assets written to: BestModel/assets\n",
            "Epoch 37/100\n",
            "42/42 [==============================] - 0s 5ms/step - loss: 0.4651 - accuracy: 0.7839 - val_loss: 0.5376 - val_accuracy: 0.7346\n",
            "Epoch 38/100\n",
            "42/42 [==============================] - 0s 4ms/step - loss: 0.4709 - accuracy: 0.7456 - val_loss: 0.5390 - val_accuracy: 0.7361\n",
            "Epoch 39/100\n",
            "42/42 [==============================] - 0s 5ms/step - loss: 0.4624 - accuracy: 0.7670 - val_loss: 0.5405 - val_accuracy: 0.7361\n",
            "Epoch 40/100\n",
            "42/42 [==============================] - 0s 5ms/step - loss: 0.4577 - accuracy: 0.7659 - val_loss: 0.5378 - val_accuracy: 0.7331\n",
            "Epoch 41/100\n",
            "42/42 [==============================] - 0s 5ms/step - loss: 0.4650 - accuracy: 0.7491 - val_loss: 0.5366 - val_accuracy: 0.7346\n",
            "Epoch 42/100\n",
            "42/42 [==============================] - 0s 4ms/step - loss: 0.4352 - accuracy: 0.7819 - val_loss: 0.5355 - val_accuracy: 0.7376\n",
            "Epoch 43/100\n",
            "42/42 [==============================] - 0s 5ms/step - loss: 0.4373 - accuracy: 0.7794 - val_loss: 0.5391 - val_accuracy: 0.7346\n",
            "Epoch 44/100\n",
            "42/42 [==============================] - 0s 5ms/step - loss: 0.4530 - accuracy: 0.7691 - val_loss: 0.5393 - val_accuracy: 0.7316\n",
            "Epoch 45/100\n",
            "42/42 [==============================] - 0s 5ms/step - loss: 0.4498 - accuracy: 0.7730 - val_loss: 0.5412 - val_accuracy: 0.7406\n",
            "Epoch 46/100\n",
            "42/42 [==============================] - 0s 4ms/step - loss: 0.4295 - accuracy: 0.7762 - val_loss: 0.5395 - val_accuracy: 0.7331\n",
            "Epoch 47/100\n",
            "42/42 [==============================] - 0s 5ms/step - loss: 0.4334 - accuracy: 0.7772 - val_loss: 0.5406 - val_accuracy: 0.7286\n",
            "Epoch 48/100\n",
            "42/42 [==============================] - 0s 5ms/step - loss: 0.4399 - accuracy: 0.7921 - val_loss: 0.5370 - val_accuracy: 0.7316\n",
            "Epoch 49/100\n",
            "42/42 [==============================] - 0s 4ms/step - loss: 0.4459 - accuracy: 0.7580 - val_loss: 0.5440 - val_accuracy: 0.7436\n",
            "INFO:tensorflow:Assets written to: BestModel/assets\n",
            "Epoch 50/100\n",
            "42/42 [==============================] - 0s 5ms/step - loss: 0.4390 - accuracy: 0.7806 - val_loss: 0.5392 - val_accuracy: 0.7451\n",
            "INFO:tensorflow:Assets written to: BestModel/assets\n",
            "Epoch 51/100\n",
            "42/42 [==============================] - 0s 4ms/step - loss: 0.4280 - accuracy: 0.7850 - val_loss: 0.5424 - val_accuracy: 0.7376\n",
            "Epoch 52/100\n",
            "42/42 [==============================] - 0s 5ms/step - loss: 0.4314 - accuracy: 0.7650 - val_loss: 0.5430 - val_accuracy: 0.7361\n",
            "Epoch 53/100\n",
            "42/42 [==============================] - 0s 5ms/step - loss: 0.4299 - accuracy: 0.7736 - val_loss: 0.5484 - val_accuracy: 0.7421\n",
            "Epoch 54/100\n",
            "42/42 [==============================] - 0s 4ms/step - loss: 0.4576 - accuracy: 0.7607 - val_loss: 0.5415 - val_accuracy: 0.7406\n",
            "Epoch 55/100\n",
            "42/42 [==============================] - 0s 5ms/step - loss: 0.4036 - accuracy: 0.7860 - val_loss: 0.5507 - val_accuracy: 0.7451\n",
            "Epoch 56/100\n",
            "42/42 [==============================] - 0s 4ms/step - loss: 0.3747 - accuracy: 0.8087 - val_loss: 0.5432 - val_accuracy: 0.7451\n",
            "Epoch 57/100\n",
            "42/42 [==============================] - 0s 5ms/step - loss: 0.4125 - accuracy: 0.7941 - val_loss: 0.5486 - val_accuracy: 0.7451\n",
            "Epoch 58/100\n",
            "42/42 [==============================] - 0s 4ms/step - loss: 0.4030 - accuracy: 0.7961 - val_loss: 0.5417 - val_accuracy: 0.7436\n",
            "Epoch 59/100\n",
            "42/42 [==============================] - 0s 4ms/step - loss: 0.4179 - accuracy: 0.7872 - val_loss: 0.5468 - val_accuracy: 0.7466\n",
            "INFO:tensorflow:Assets written to: BestModel/assets\n",
            "Epoch 60/100\n",
            "42/42 [==============================] - 0s 4ms/step - loss: 0.3934 - accuracy: 0.7937 - val_loss: 0.5472 - val_accuracy: 0.7526\n",
            "INFO:tensorflow:Assets written to: BestModel/assets\n",
            "Epoch 61/100\n",
            "42/42 [==============================] - 0s 4ms/step - loss: 0.4078 - accuracy: 0.7885 - val_loss: 0.5574 - val_accuracy: 0.7481\n",
            "Epoch 62/100\n",
            "42/42 [==============================] - 0s 5ms/step - loss: 0.4044 - accuracy: 0.7963 - val_loss: 0.5579 - val_accuracy: 0.7391\n",
            "Epoch 63/100\n",
            "42/42 [==============================] - 0s 4ms/step - loss: 0.4030 - accuracy: 0.7804 - val_loss: 0.5550 - val_accuracy: 0.7376\n",
            "Epoch 64/100\n",
            "42/42 [==============================] - 0s 5ms/step - loss: 0.4025 - accuracy: 0.7878 - val_loss: 0.5605 - val_accuracy: 0.7526\n",
            "Epoch 65/100\n",
            "42/42 [==============================] - 0s 4ms/step - loss: 0.3696 - accuracy: 0.8045 - val_loss: 0.5630 - val_accuracy: 0.7541\n",
            "INFO:tensorflow:Assets written to: BestModel/assets\n",
            "Epoch 66/100\n",
            "42/42 [==============================] - 0s 4ms/step - loss: 0.3986 - accuracy: 0.7925 - val_loss: 0.5621 - val_accuracy: 0.7511\n",
            "Epoch 67/100\n",
            "42/42 [==============================] - 0s 4ms/step - loss: 0.3941 - accuracy: 0.7830 - val_loss: 0.5587 - val_accuracy: 0.7436\n",
            "Epoch 68/100\n",
            "42/42 [==============================] - 0s 4ms/step - loss: 0.3828 - accuracy: 0.7936 - val_loss: 0.5681 - val_accuracy: 0.7406\n",
            "Epoch 69/100\n",
            "42/42 [==============================] - 0s 4ms/step - loss: 0.3795 - accuracy: 0.7984 - val_loss: 0.5663 - val_accuracy: 0.7421\n",
            "Epoch 70/100\n",
            "42/42 [==============================] - 0s 4ms/step - loss: 0.3731 - accuracy: 0.7906 - val_loss: 0.5693 - val_accuracy: 0.7406\n",
            "Epoch 71/100\n",
            "42/42 [==============================] - 0s 4ms/step - loss: 0.3822 - accuracy: 0.8080 - val_loss: 0.5679 - val_accuracy: 0.7556\n",
            "INFO:tensorflow:Assets written to: BestModel/assets\n",
            "Epoch 72/100\n",
            "42/42 [==============================] - 0s 5ms/step - loss: 0.3738 - accuracy: 0.8083 - val_loss: 0.5747 - val_accuracy: 0.7541\n",
            "Epoch 73/100\n",
            "42/42 [==============================] - 0s 4ms/step - loss: 0.3451 - accuracy: 0.8112 - val_loss: 0.5784 - val_accuracy: 0.7526\n",
            "Epoch 74/100\n",
            "42/42 [==============================] - 0s 5ms/step - loss: 0.3682 - accuracy: 0.8125 - val_loss: 0.5687 - val_accuracy: 0.7586\n",
            "INFO:tensorflow:Assets written to: BestModel/assets\n",
            "Epoch 75/100\n",
            "42/42 [==============================] - 0s 4ms/step - loss: 0.3503 - accuracy: 0.8179 - val_loss: 0.5713 - val_accuracy: 0.7421\n",
            "Epoch 76/100\n",
            "42/42 [==============================] - 0s 4ms/step - loss: 0.3690 - accuracy: 0.8025 - val_loss: 0.5808 - val_accuracy: 0.7496\n",
            "Epoch 77/100\n",
            "42/42 [==============================] - 0s 4ms/step - loss: 0.3652 - accuracy: 0.8216 - val_loss: 0.5818 - val_accuracy: 0.7526\n",
            "Epoch 78/100\n",
            "42/42 [==============================] - 0s 4ms/step - loss: 0.3686 - accuracy: 0.8118 - val_loss: 0.5797 - val_accuracy: 0.7436\n",
            "Epoch 79/100\n",
            "42/42 [==============================] - 0s 5ms/step - loss: 0.3627 - accuracy: 0.8157 - val_loss: 0.5812 - val_accuracy: 0.7571\n",
            "Epoch 80/100\n",
            "42/42 [==============================] - 0s 5ms/step - loss: 0.3818 - accuracy: 0.7803 - val_loss: 0.5863 - val_accuracy: 0.7541\n",
            "Epoch 81/100\n",
            "42/42 [==============================] - 0s 4ms/step - loss: 0.3656 - accuracy: 0.7967 - val_loss: 0.5846 - val_accuracy: 0.7526\n",
            "Epoch 82/100\n",
            "42/42 [==============================] - 0s 4ms/step - loss: 0.3547 - accuracy: 0.8090 - val_loss: 0.5915 - val_accuracy: 0.7376\n",
            "Epoch 83/100\n",
            "42/42 [==============================] - 0s 5ms/step - loss: 0.3591 - accuracy: 0.8018 - val_loss: 0.5919 - val_accuracy: 0.7511\n",
            "Epoch 84/100\n",
            "42/42 [==============================] - 0s 4ms/step - loss: 0.3459 - accuracy: 0.8101 - val_loss: 0.5923 - val_accuracy: 0.7451\n",
            "Epoch 85/100\n",
            "42/42 [==============================] - 0s 4ms/step - loss: 0.3525 - accuracy: 0.8213 - val_loss: 0.6012 - val_accuracy: 0.7541\n",
            "Epoch 86/100\n",
            "42/42 [==============================] - 0s 4ms/step - loss: 0.3534 - accuracy: 0.8250 - val_loss: 0.6057 - val_accuracy: 0.7526\n",
            "Epoch 87/100\n",
            "42/42 [==============================] - 0s 5ms/step - loss: 0.3436 - accuracy: 0.8163 - val_loss: 0.6043 - val_accuracy: 0.7421\n",
            "Epoch 88/100\n",
            "42/42 [==============================] - 0s 5ms/step - loss: 0.3404 - accuracy: 0.8266 - val_loss: 0.6202 - val_accuracy: 0.7451\n",
            "Epoch 89/100\n",
            "42/42 [==============================] - 0s 4ms/step - loss: 0.3439 - accuracy: 0.7989 - val_loss: 0.6116 - val_accuracy: 0.7481\n",
            "Epoch 90/100\n",
            "42/42 [==============================] - 0s 5ms/step - loss: 0.3462 - accuracy: 0.8230 - val_loss: 0.6248 - val_accuracy: 0.7541\n",
            "Epoch 91/100\n",
            "42/42 [==============================] - 0s 4ms/step - loss: 0.3523 - accuracy: 0.8118 - val_loss: 0.6203 - val_accuracy: 0.7451\n",
            "Epoch 92/100\n",
            "42/42 [==============================] - 0s 5ms/step - loss: 0.3255 - accuracy: 0.8228 - val_loss: 0.6127 - val_accuracy: 0.7361\n",
            "Epoch 93/100\n",
            "42/42 [==============================] - 0s 5ms/step - loss: 0.3388 - accuracy: 0.8048 - val_loss: 0.6198 - val_accuracy: 0.7436\n",
            "Epoch 94/100\n",
            "42/42 [==============================] - 0s 5ms/step - loss: 0.3589 - accuracy: 0.8132 - val_loss: 0.6213 - val_accuracy: 0.7466\n",
            "Epoch 95/100\n",
            "42/42 [==============================] - 0s 4ms/step - loss: 0.3521 - accuracy: 0.8177 - val_loss: 0.6218 - val_accuracy: 0.7511\n",
            "Epoch 96/100\n",
            "42/42 [==============================] - 0s 5ms/step - loss: 0.3479 - accuracy: 0.7939 - val_loss: 0.6358 - val_accuracy: 0.7406\n",
            "Epoch 97/100\n",
            "42/42 [==============================] - 0s 4ms/step - loss: 0.3336 - accuracy: 0.8066 - val_loss: 0.6203 - val_accuracy: 0.7466\n",
            "Epoch 98/100\n",
            "42/42 [==============================] - 0s 4ms/step - loss: 0.3582 - accuracy: 0.8037 - val_loss: 0.6421 - val_accuracy: 0.7466\n",
            "Epoch 99/100\n",
            "42/42 [==============================] - 0s 4ms/step - loss: 0.3521 - accuracy: 0.8147 - val_loss: 0.6430 - val_accuracy: 0.7346\n",
            "Epoch 100/100\n",
            "42/42 [==============================] - 0s 4ms/step - loss: 0.3348 - accuracy: 0.8157 - val_loss: 0.6532 - val_accuracy: 0.7406\n",
            "Fold 1, 100 epochs, 48 sec\n"
          ],
          "name": "stdout"
        },
        {
          "output_type": "display_data",
          "data": {
            "image/png": "[encoded data removed]",
            "text/plain": [
              "<Figure size 576x360 with 1 Axes>"
            ]
          },
          "metadata": {
            "tags": [],
            "needs_background": "light"
          }
        }
      ]
    },
    {
      "cell_type": "code",
      "metadata": {
        "id": "e-jG1h5fj2Ua",
        "colab": {
          "base_uri": "https://localhost:8080/"
        },
        "outputId": "487fe90e-e97a-4c73-a64b-9d78154a6de1"
      },
      "source": [
        "from keras.models import load_model\n",
        "X,y = prepare_inputs_len_x_alphabet(pc_test,nc_test,ALPHABET)\n",
        "best_model=load_model(MODELPATH)\n",
        "scores = best_model.evaluate(X, y, verbose=0)\n",
        "print(\"The best model parameters were saved during cross-validation.\")\n",
        "print(\"Best was defined as maximum validation accuracy at end of any epoch.\")\n",
        "print(\"Now re-load the best model and test it on previously unseen data.\")\n",
        "print(\"Test on\",len(pc_test),\"PC seqs\")\n",
        "print(\"Test on\",len(nc_test),\"NC seqs\")\n",
        "print(\"%s: %.2f%%\" % (best_model.metrics_names[1], scores[1]*100))\n"
      ],
      "execution_count": 42,
      "outputs": [
        {
          "output_type": "stream",
          "text": [
            "The best model parameters were saved during cross-validation.\n",
            "Best was defined as maximum validation accuracy at end of any epoch.\n",
            "Now re-load the best model and test it on previously unseen data.\n",
            "Test on 1000 PC seqs\n",
            "Test on 1000 NC seqs\n",
            "accuracy: 71.50%\n"
          ],
          "name": "stdout"
        }
      ]
    },
    {
      "cell_type": "code",
      "metadata": {
        "id": "VycUnmvUj2Ue",
        "colab": {
          "base_uri": "https://localhost:8080/",
          "height": 312
        },
        "outputId": "d02752de-53a1-47bb-fd6b-02ebeba41a42"
      },
      "source": [
        "from sklearn.metrics import roc_curve\n",
        "from sklearn.metrics import roc_auc_score\n",
        "ns_probs = [0 for _ in range(len(y))]\n",
        "bm_probs = best_model.predict(X)\n",
        "ns_auc = roc_auc_score(y, ns_probs)\n",
        "bm_auc = roc_auc_score(y, bm_probs)\n",
        "ns_fpr, ns_tpr, _ = roc_curve(y, ns_probs)\n",
        "bm_fpr, bm_tpr, _ = roc_curve(y, bm_probs)\n",
        "plt.plot(ns_fpr, ns_tpr, linestyle='--', label='Guess, auc=%.4f'%ns_auc)\n",
        "plt.plot(bm_fpr, bm_tpr, marker='.', label='Model, auc=%.4f'%bm_auc)\n",
        "plt.title('ROC')\n",
        "plt.xlabel('False Positive Rate')\n",
        "plt.ylabel('True Positive Rate')\n",
        "plt.legend()\n",
        "plt.show()\n",
        "print(\"%s: %.2f%%\" %('AUC',bm_auc*100.0))\n"
      ],
      "execution_count": 43,
      "outputs": [
        {
          "output_type": "display_data",
          "data": {
            "image/png": "[encoded data removed]",
            "text/plain": [
              "<Figure size 432x288 with 1 Axes>"
            ]
          },
          "metadata": {
            "tags": [],
            "needs_background": "light"
          }
        },
        {
          "output_type": "stream",
          "text": [
            "AUC: 80.08%\n"
          ],
          "name": "stdout"
        }
      ]
    },
    {
      "cell_type": "code",
      "metadata": {
        "id": "kFMb6rGNj2Ug",
        "colab": {
          "base_uri": "https://localhost:8080/",
          "height": 36
        },
        "outputId": "43a8c7d9-c9f4-4e57-8d0b-d2d696ec7c2b"
      },
      "source": [
        "t = time.time()\n",
        "time.strftime('%Y-%m-%d %H:%M:%S %Z', time.localtime(t))"
      ],
      "execution_count": 44,
      "outputs": [
        {
          "output_type": "execute_result",
          "data": {
            "application/vnd.google.colaboratory.intrinsic+json": {
              "type": "string"
            },
            "text/plain": [
              "'2021-07-30 14:55:34 UTC'"
            ]
          },
          "metadata": {
            "tags": []
          },
          "execution_count": 44
        }
      ]
    },
    {
      "cell_type": "code",
      "metadata": {
        "id": "e-mEgDrQjUzF"
      },
      "source": [
        ""
      ],
      "execution_count": 44,
      "outputs": []
    }
  ]
}