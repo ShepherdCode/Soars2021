{
  "nbformat": 4,
  "nbformat_minor": 0,
  "metadata": {
    "accelerator": "GPU",
    "colab": {
      "name": "ConvRecur_112.ipynb",
      "provenance": [],
      "collapsed_sections": []
    },
    "kernelspec": {
      "display_name": "Python 3",
      "language": "python",
      "name": "python3"
    },
    "language_info": {
      "codemirror_mode": {
        "name": "ipython",
        "version": 3
      },
      "file_extension": ".py",
      "mimetype": "text/x-python",
      "name": "python",
      "nbconvert_exporter": "python",
      "pygments_lexer": "ipython3",
      "version": "3.8.3"
    }
  },
  "cells": [
    {
      "cell_type": "markdown",
      "metadata": {
        "id": "0asdcdunj2Tx"
      },
      "source": [
        "# ORF recognition by Convolutional/Recurrent\n",
        "\n",
        "Test CNN+GRU 32 on simulated RNA of length 128. \n",
        "\n",
        "Use restructured codebase from notebook 105."
      ]
    },
    {
      "cell_type": "code",
      "metadata": {
        "colab": {
          "base_uri": "https://localhost:8080/",
          "height": 36
        },
        "id": "QP1VTRNQj2UO",
        "outputId": "c830e478-43aa-4b9a-ea1c-b345ffe98671"
      },
      "source": [
        "import time \n",
        "t = time.time()\n",
        "time.strftime('%Y-%m-%d %H:%M:%S %Z', time.localtime(t))"
      ],
      "execution_count": 15,
      "outputs": [
        {
          "output_type": "execute_result",
          "data": {
            "application/vnd.google.colaboratory.intrinsic+json": {
              "type": "string"
            },
            "text/plain": [
              "'2021-06-22 12:58:39 UTC'"
            ]
          },
          "metadata": {
            "tags": []
          },
          "execution_count": 15
        }
      ]
    },
    {
      "cell_type": "code",
      "metadata": {
        "id": "Nhz4GKonj2T_"
      },
      "source": [
        "PC_SEQUENCES=32000   # how many protein-coding sequences\n",
        "NC_SEQUENCES=32000   # how many non-coding sequences\n",
        "PC_TESTS=1000\n",
        "NC_TESTS=1000\n",
        "RNA_LEN=128            # how long is each sequence\n",
        "CDS_LEN=64            # min CDS len to be coding\n",
        "ALPHABET=4          # how many different letters are possible\n",
        "INPUT_SHAPE_2D = (RNA_LEN,ALPHABET,1) # Conv2D needs 3D inputs\n",
        "INPUT_SHAPE = (RNA_LEN,ALPHABET) # Conv1D needs 2D inputs\n",
        "FILTERS = 64   # how many different patterns the model looks for\n",
        "CELLS = 64\n",
        "NEURONS = 64\n",
        "DROP_RATE = 0.4\n",
        "WIDTH = 3   # how wide each pattern is, in bases\n",
        "STRIDE_2D = (1,1)  # For Conv2D how far in each direction\n",
        "STRIDE = 1 # For Conv1D, how far between pattern matches, in bases\n",
        "EPOCHS=100  # how many times to train on all the data\n",
        "SPLITS=3  # SPLITS=3 means train on 2/3 and validate on 1/3 \n",
        "FOLDS=3  # train the model this many times (range 1 to SPLITS)"
      ],
      "execution_count": 16,
      "outputs": []
    },
    {
      "cell_type": "code",
      "metadata": {
        "colab": {
          "base_uri": "https://localhost:8080/"
        },
        "id": "lr7q90rxj2UE",
        "outputId": "d41925d3-3c2f-4b63-b91c-478de69856ff"
      },
      "source": [
        "import sys\n",
        "IN_COLAB = False\n",
        "try:\n",
        "    from google.colab import drive\n",
        "    IN_COLAB = True\n",
        "except:\n",
        "    pass\n",
        "if IN_COLAB:\n",
        "    print(\"On Google CoLab, mount cloud-local file, get our code from GitHub.\")\n",
        "    PATH='/content/drive/'\n",
        "    #drive.mount(PATH,force_remount=True)  # hardly ever need this\n",
        "    #drive.mount(PATH)    # Google will require login credentials\n",
        "    DATAPATH=PATH+'My Drive/data/'  # must end in \"/\"\n",
        "    import requests\n",
        "    r = requests.get('https://raw.githubusercontent.com/ShepherdCode/Soars2021/master/SimTools/RNA_describe.py')\n",
        "    with open('RNA_describe.py', 'w') as f:\n",
        "        f.write(r.text)  \n",
        "    from RNA_describe import ORF_counter\n",
        "    from RNA_describe import Random_Base_Oracle\n",
        "    r = requests.get('https://raw.githubusercontent.com/ShepherdCode/Soars2021/master/SimTools/RNA_prep.py')\n",
        "    with open('RNA_prep.py', 'w') as f:\n",
        "        f.write(r.text)  \n",
        "    from RNA_prep import prepare_inputs_len_x_alphabet\n",
        "else:\n",
        "        print(\"CoLab not working. On my PC, use relative paths.\")\n",
        "        DATAPATH='data/'  # must end in \"/\"\n",
        "        sys.path.append(\"..\") # append parent dir in order to use sibling dirs\n",
        "        from SimTools.RNA_describe import ORF_counter,Random_Base_Oracle\n",
        "        from SimTools.RNA_prep import prepare_inputs_len_x_alphabet\n",
        "\n",
        "MODELPATH=\"BestModel\"  # saved on cloud instance and lost after logout\n",
        "#MODELPATH=DATAPATH+MODELPATH  # saved on Google Drive but requires login\n"
      ],
      "execution_count": 17,
      "outputs": [
        {
          "output_type": "stream",
          "text": [
            "On Google CoLab, mount cloud-local file, get our code from GitHub.\n"
          ],
          "name": "stdout"
        }
      ]
    },
    {
      "cell_type": "code",
      "metadata": {
        "id": "EGDXH8Uwj2UM"
      },
      "source": [
        "from os import listdir\n",
        "import csv\n",
        "from zipfile import ZipFile\n",
        "\n",
        "import numpy as np\n",
        "import pandas as pd\n",
        "from scipy import stats  # mode\n",
        "\n",
        "from sklearn.preprocessing import StandardScaler\n",
        "from sklearn.model_selection import KFold\n",
        "from sklearn.model_selection import cross_val_score\n",
        "\n",
        "from keras.models import Sequential\n",
        "from keras.layers import Dense,Embedding,Dropout\n",
        "from keras.layers import Conv1D,Conv2D\n",
        "from keras.layers import GRU,LSTM\n",
        "from keras.layers import Flatten,TimeDistributed\n",
        "from keras.layers import MaxPooling1D,MaxPooling2D\n",
        "from keras.losses import BinaryCrossentropy\n",
        "# tf.keras.losses.BinaryCrossentropy\n",
        "\n",
        "import matplotlib.pyplot as plt\n",
        "from matplotlib import colors\n",
        "mycmap = colors.ListedColormap(['red','blue'])  # list color for label 0 then 1\n",
        "np.set_printoptions(precision=2)\n"
      ],
      "execution_count": 18,
      "outputs": []
    },
    {
      "cell_type": "code",
      "metadata": {
        "colab": {
          "base_uri": "https://localhost:8080/"
        },
        "id": "CUOG_jEvGtOm",
        "outputId": "e1ce3dbc-e9b1-418c-e1eb-9a495f85b52c"
      },
      "source": [
        "rbo=Random_Base_Oracle(RNA_LEN,True)\n",
        "pc_all,nc_all = rbo.get_partitioned_sequences(CDS_LEN,10) # just testing\n",
        "pc_all,nc_all = rbo.get_partitioned_sequences(CDS_LEN,PC_SEQUENCES+PC_TESTS)\n",
        "print(\"Use\",len(pc_all),\"PC seqs\")\n",
        "print(\"Use\",len(nc_all),\"NC seqs\")"
      ],
      "execution_count": 19,
      "outputs": [
        {
          "output_type": "stream",
          "text": [
            "It took 41 trials to reach 10 per class.\n",
            "It took 116183 trials to reach 33000 per class.\n",
            "Use 33000 PC seqs\n",
            "Use 33000 NC seqs\n"
          ],
          "name": "stdout"
        }
      ]
    },
    {
      "cell_type": "code",
      "metadata": {
        "colab": {
          "base_uri": "https://localhost:8080/"
        },
        "id": "Q-BmSXi2jUyl",
        "outputId": "6f6b9cbb-cc90-4505-98e3-a5a02627ac1b"
      },
      "source": [
        "# Describe the sequences\n",
        "def describe_sequences(list_of_seq):\n",
        "    oc = ORF_counter()\n",
        "    num_seq = len(list_of_seq)\n",
        "    rna_lens = np.zeros(num_seq)\n",
        "    orf_lens = np.zeros(num_seq)\n",
        "    for i in range(0,num_seq):\n",
        "        rna_len = len(list_of_seq[i])\n",
        "        rna_lens[i] = rna_len\n",
        "        oc.set_sequence(list_of_seq[i])\n",
        "        orf_len = oc.get_max_orf_len()\n",
        "        orf_lens[i] = orf_len\n",
        "    print (\"Average RNA length:\",rna_lens.mean())\n",
        "    print (\"Average ORF length:\",orf_lens.mean())\n",
        "    \n",
        "print(\"Simulated sequences prior to adjustment:\")\n",
        "print(\"PC seqs\")\n",
        "describe_sequences(pc_all)\n",
        "print(\"NC seqs\")\n",
        "describe_sequences(nc_all)"
      ],
      "execution_count": 20,
      "outputs": [
        {
          "output_type": "stream",
          "text": [
            "Simulated sequences prior to adjustment:\n",
            "PC seqs\n",
            "Average RNA length: 128.0\n",
            "Average ORF length: 78.9489090909091\n",
            "NC seqs\n",
            "Average RNA length: 128.0\n",
            "Average ORF length: 27.635636363636365\n"
          ],
          "name": "stdout"
        }
      ]
    },
    {
      "cell_type": "code",
      "metadata": {
        "id": "iP1y7-J3jUys"
      },
      "source": [
        "pc_train=pc_all[:PC_SEQUENCES]\n",
        "nc_train=nc_all[:NC_SEQUENCES]\n",
        "pc_test=pc_all[PC_SEQUENCES:]\n",
        "nc_test=nc_all[NC_SEQUENCES:]"
      ],
      "execution_count": 21,
      "outputs": []
    },
    {
      "cell_type": "code",
      "metadata": {
        "colab": {
          "base_uri": "https://localhost:8080/"
        },
        "id": "CIpTrnH6j2US",
        "outputId": "3cb0f1f3-24b2-48d4-9225-54d9da8ef17d"
      },
      "source": [
        "# Use code from our SimTools library.\n",
        "X,y = prepare_inputs_len_x_alphabet(pc_train,nc_train,ALPHABET) # shuffles\n",
        "print(\"Data ready.\")"
      ],
      "execution_count": 22,
      "outputs": [
        {
          "output_type": "stream",
          "text": [
            "Data ready.\n"
          ],
          "name": "stdout"
        }
      ]
    },
    {
      "cell_type": "code",
      "metadata": {
        "colab": {
          "base_uri": "https://localhost:8080/"
        },
        "id": "7NvrVU8ij2UU",
        "outputId": "9c6d9996-bfd2-406f-fa44-082163d459bd"
      },
      "source": [
        "def make_DNN():\n",
        "    print(\"make_DNN\")\n",
        "    print(\"input shape:\",INPUT_SHAPE)\n",
        "    dnn = Sequential()\n",
        "    #dnn.add(Embedding(input_dim=INPUT_SHAPE,output_dim=INPUT_SHAPE)) \n",
        "    dnn.add(Conv1D(filters=FILTERS,kernel_size=WIDTH,strides=STRIDE,padding=\"same\",\n",
        "            input_shape=INPUT_SHAPE))\n",
        "    dnn.add(Conv1D(filters=FILTERS,kernel_size=WIDTH,strides=STRIDE,padding=\"same\"))\n",
        "    dnn.add(MaxPooling1D())\n",
        "    #dnn.add(Conv1D(filters=FILTERS,kernel_size=WIDTH,strides=STRIDE,padding=\"same\"))\n",
        "    #dnn.add(Conv1D(filters=FILTERS,kernel_size=WIDTH,strides=STRIDE,padding=\"same\"))\n",
        "    #dnn.add(MaxPooling1D())\n",
        "    #dnn.add(TimeDistributed(Flatten()))\n",
        "    dnn.add(GRU(CELLS,return_sequences=True))\n",
        "    dnn.add(GRU(CELLS,return_sequences=False))\n",
        "    dnn.add(Dense(NEURONS,activation=\"sigmoid\",dtype=np.float32))   \n",
        "    dnn.add(Dropout(DROP_RATE))\n",
        "    dnn.add(Dense(1,activation=\"sigmoid\",dtype=np.float32))   \n",
        "    dnn.compile(optimizer='adam',\n",
        "                loss=BinaryCrossentropy(from_logits=False),\n",
        "                metrics=['accuracy'])   # add to default metrics=loss\n",
        "    dnn.build(input_shape=INPUT_SHAPE)\n",
        "    #ln_rate = tf.keras.optimizers.Adam(learning_rate = LN_RATE)\n",
        "    #bc=tf.keras.losses.BinaryCrossentropy(from_logits=False)\n",
        "    #model.compile(loss=bc, optimizer=ln_rate, metrics=[\"accuracy\"])\n",
        "    return dnn\n",
        "model = make_DNN()\n",
        "print(model.summary())"
      ],
      "execution_count": 23,
      "outputs": [
        {
          "output_type": "stream",
          "text": [
            "make_DNN\n",
            "input shape: (128, 4)\n",
            "Model: \"sequential_4\"\n",
            "_________________________________________________________________\n",
            "Layer (type)                 Output Shape              Param #   \n",
            "=================================================================\n",
            "conv1d_8 (Conv1D)            (None, 128, 64)           832       \n",
            "_________________________________________________________________\n",
            "conv1d_9 (Conv1D)            (None, 128, 64)           12352     \n",
            "_________________________________________________________________\n",
            "max_pooling1d_4 (MaxPooling1 (None, 64, 64)            0         \n",
            "_________________________________________________________________\n",
            "gru_8 (GRU)                  (None, 64, 64)            24960     \n",
            "_________________________________________________________________\n",
            "gru_9 (GRU)                  (None, 64)                24960     \n",
            "_________________________________________________________________\n",
            "dense_8 (Dense)              (None, 64)                4160      \n",
            "_________________________________________________________________\n",
            "dropout_4 (Dropout)          (None, 64)                0         \n",
            "_________________________________________________________________\n",
            "dense_9 (Dense)              (None, 1)                 65        \n",
            "=================================================================\n",
            "Total params: 67,329\n",
            "Trainable params: 67,329\n",
            "Non-trainable params: 0\n",
            "_________________________________________________________________\n",
            "None\n"
          ],
          "name": "stdout"
        }
      ]
    },
    {
      "cell_type": "code",
      "metadata": {
        "id": "nlVF0hR3j2UW"
      },
      "source": [
        "from keras.callbacks import ModelCheckpoint\n",
        "def do_cross_validation(X,y):\n",
        "    cv_scores = []\n",
        "    fold=0\n",
        "    mycallbacks = [ModelCheckpoint(\n",
        "        filepath=MODELPATH, save_best_only=True, \n",
        "        monitor='val_accuracy', mode='max')]   \n",
        "    splitter = KFold(n_splits=SPLITS)  # this does not shuffle\n",
        "    for train_index,valid_index in splitter.split(X):\n",
        "        if fold < FOLDS:\n",
        "            fold += 1\n",
        "            X_train=X[train_index] # inputs for training\n",
        "            y_train=y[train_index] # labels for training\n",
        "            X_valid=X[valid_index] # inputs for validation\n",
        "            y_valid=y[valid_index] # labels for validation\n",
        "            print(\"MODEL\")\n",
        "            # Call constructor on each CV. Else, continually improves the same model.\n",
        "            model = model = make_DNN()\n",
        "            print(\"FIT\")  # model.fit() implements learning\n",
        "            start_time=time.time()\n",
        "            history=model.fit(X_train, y_train, \n",
        "                    epochs=EPOCHS, \n",
        "                    verbose=1,  # ascii art while learning\n",
        "                    callbacks=mycallbacks,   # called at end of each epoch\n",
        "                    validation_data=(X_valid,y_valid))\n",
        "            end_time=time.time()\n",
        "            elapsed_time=(end_time-start_time)                        \n",
        "            print(\"Fold %d, %d epochs, %d sec\"%(fold,EPOCHS,elapsed_time))\n",
        "            # print(history.history.keys())  # all these keys will be shown in figure\n",
        "            pd.DataFrame(history.history).plot(figsize=(8,5))\n",
        "            plt.grid(True)\n",
        "            plt.gca().set_ylim(0,1) # any losses > 1 will be off the scale\n",
        "            plt.show()\n"
      ],
      "execution_count": 24,
      "outputs": []
    },
    {
      "cell_type": "code",
      "metadata": {
        "colab": {
          "base_uri": "https://localhost:8080/",
          "height": 1000
        },
        "id": "9Ggt4EsSj2UY",
        "outputId": "f22f3f16-a19b-4118-fd97-0a9fe6503afd"
      },
      "source": [
        "do_cross_validation(X,y)"
      ],
      "execution_count": 25,
      "outputs": [
        {
          "output_type": "stream",
          "text": [
            "MODEL\n",
            "make_DNN\n",
            "input shape: (128, 4)\n",
            "FIT\n",
            "Epoch 1/100\n",
            "1334/1334 [==============================] - 16s 10ms/step - loss: 0.7030 - accuracy: 0.5217 - val_loss: 0.6536 - val_accuracy: 0.6144\n"
          ],
          "name": "stdout"
        },
        {
          "output_type": "stream",
          "text": [
            "WARNING:absl:Found untraced functions such as gru_cell_12_layer_call_fn, gru_cell_12_layer_call_and_return_conditional_losses, gru_cell_13_layer_call_fn, gru_cell_13_layer_call_and_return_conditional_losses, gru_cell_12_layer_call_fn while saving (showing 5 of 10). These functions will not be directly callable after loading.\n"
          ],
          "name": "stderr"
        },
        {
          "output_type": "stream",
          "text": [
            "INFO:tensorflow:Assets written to: BestModel/assets\n"
          ],
          "name": "stdout"
        },
        {
          "output_type": "stream",
          "text": [
            "INFO:tensorflow:Assets written to: BestModel/assets\n"
          ],
          "name": "stderr"
        },
        {
          "output_type": "stream",
          "text": [
            "Epoch 2/100\n",
            "1334/1334 [==============================] - 12s 9ms/step - loss: 0.6434 - accuracy: 0.6275 - val_loss: 0.6310 - val_accuracy: 0.6377\n"
          ],
          "name": "stdout"
        },
        {
          "output_type": "stream",
          "text": [
            "WARNING:absl:Found untraced functions such as gru_cell_12_layer_call_fn, gru_cell_12_layer_call_and_return_conditional_losses, gru_cell_13_layer_call_fn, gru_cell_13_layer_call_and_return_conditional_losses, gru_cell_12_layer_call_fn while saving (showing 5 of 10). These functions will not be directly callable after loading.\n"
          ],
          "name": "stderr"
        },
        {
          "output_type": "stream",
          "text": [
            "INFO:tensorflow:Assets written to: BestModel/assets\n"
          ],
          "name": "stdout"
        },
        {
          "output_type": "stream",
          "text": [
            "INFO:tensorflow:Assets written to: BestModel/assets\n"
          ],
          "name": "stderr"
        },
        {
          "output_type": "stream",
          "text": [
            "Epoch 3/100\n",
            "1334/1334 [==============================] - 12s 9ms/step - loss: 0.6134 - accuracy: 0.6575 - val_loss: 0.5789 - val_accuracy: 0.6861\n"
          ],
          "name": "stdout"
        },
        {
          "output_type": "stream",
          "text": [
            "WARNING:absl:Found untraced functions such as gru_cell_12_layer_call_fn, gru_cell_12_layer_call_and_return_conditional_losses, gru_cell_13_layer_call_fn, gru_cell_13_layer_call_and_return_conditional_losses, gru_cell_12_layer_call_fn while saving (showing 5 of 10). These functions will not be directly callable after loading.\n"
          ],
          "name": "stderr"
        },
        {
          "output_type": "stream",
          "text": [
            "INFO:tensorflow:Assets written to: BestModel/assets\n"
          ],
          "name": "stdout"
        },
        {
          "output_type": "stream",
          "text": [
            "INFO:tensorflow:Assets written to: BestModel/assets\n"
          ],
          "name": "stderr"
        },
        {
          "output_type": "stream",
          "text": [
            "Epoch 4/100\n",
            "1334/1334 [==============================] - 12s 9ms/step - loss: 0.5734 - accuracy: 0.6921 - val_loss: 0.5775 - val_accuracy: 0.6859\n",
            "Epoch 5/100\n",
            "1334/1334 [==============================] - 12s 9ms/step - loss: 0.5695 - accuracy: 0.6925 - val_loss: 0.5669 - val_accuracy: 0.6908\n"
          ],
          "name": "stdout"
        },
        {
          "output_type": "stream",
          "text": [
            "WARNING:absl:Found untraced functions such as gru_cell_12_layer_call_fn, gru_cell_12_layer_call_and_return_conditional_losses, gru_cell_13_layer_call_fn, gru_cell_13_layer_call_and_return_conditional_losses, gru_cell_12_layer_call_fn while saving (showing 5 of 10). These functions will not be directly callable after loading.\n"
          ],
          "name": "stderr"
        },
        {
          "output_type": "stream",
          "text": [
            "INFO:tensorflow:Assets written to: BestModel/assets\n"
          ],
          "name": "stdout"
        },
        {
          "output_type": "stream",
          "text": [
            "INFO:tensorflow:Assets written to: BestModel/assets\n"
          ],
          "name": "stderr"
        },
        {
          "output_type": "stream",
          "text": [
            "Epoch 6/100\n",
            "1334/1334 [==============================] - 12s 9ms/step - loss: 0.5586 - accuracy: 0.7017 - val_loss: 0.5695 - val_accuracy: 0.6874\n",
            "Epoch 7/100\n",
            "1334/1334 [==============================] - 12s 9ms/step - loss: 0.5473 - accuracy: 0.7077 - val_loss: 0.5658 - val_accuracy: 0.6953\n"
          ],
          "name": "stdout"
        },
        {
          "output_type": "stream",
          "text": [
            "WARNING:absl:Found untraced functions such as gru_cell_12_layer_call_fn, gru_cell_12_layer_call_and_return_conditional_losses, gru_cell_13_layer_call_fn, gru_cell_13_layer_call_and_return_conditional_losses, gru_cell_12_layer_call_fn while saving (showing 5 of 10). These functions will not be directly callable after loading.\n"
          ],
          "name": "stderr"
        },
        {
          "output_type": "stream",
          "text": [
            "INFO:tensorflow:Assets written to: BestModel/assets\n"
          ],
          "name": "stdout"
        },
        {
          "output_type": "stream",
          "text": [
            "INFO:tensorflow:Assets written to: BestModel/assets\n"
          ],
          "name": "stderr"
        },
        {
          "output_type": "stream",
          "text": [
            "Epoch 8/100\n",
            "1334/1334 [==============================] - 12s 9ms/step - loss: 0.5420 - accuracy: 0.7163 - val_loss: 0.5648 - val_accuracy: 0.6909\n",
            "Epoch 9/100\n",
            "1334/1334 [==============================] - 12s 9ms/step - loss: 0.5410 - accuracy: 0.7159 - val_loss: 0.5898 - val_accuracy: 0.6871\n",
            "Epoch 10/100\n",
            "1334/1334 [==============================] - 12s 9ms/step - loss: 0.5305 - accuracy: 0.7252 - val_loss: 0.5822 - val_accuracy: 0.6884\n",
            "Epoch 11/100\n",
            "1334/1334 [==============================] - 12s 9ms/step - loss: 0.5268 - accuracy: 0.7203 - val_loss: 0.5817 - val_accuracy: 0.6900\n",
            "Epoch 12/100\n",
            "1334/1334 [==============================] - 12s 9ms/step - loss: 0.5213 - accuracy: 0.7255 - val_loss: 0.5692 - val_accuracy: 0.6906\n",
            "Epoch 13/100\n",
            "1334/1334 [==============================] - 12s 9ms/step - loss: 0.5123 - accuracy: 0.7332 - val_loss: 0.5853 - val_accuracy: 0.6802\n",
            "Epoch 14/100\n",
            "1334/1334 [==============================] - 12s 9ms/step - loss: 0.5053 - accuracy: 0.7389 - val_loss: 0.5901 - val_accuracy: 0.6859\n",
            "Epoch 15/100\n",
            "1334/1334 [==============================] - 12s 9ms/step - loss: 0.4984 - accuracy: 0.7443 - val_loss: 0.5826 - val_accuracy: 0.6883\n",
            "Epoch 16/100\n",
            "1334/1334 [==============================] - 12s 9ms/step - loss: 0.4923 - accuracy: 0.7463 - val_loss: 0.6041 - val_accuracy: 0.6825\n",
            "Epoch 17/100\n",
            "1334/1334 [==============================] - 12s 9ms/step - loss: 0.4856 - accuracy: 0.7520 - val_loss: 0.6215 - val_accuracy: 0.6854\n",
            "Epoch 18/100\n",
            "1334/1334 [==============================] - 12s 9ms/step - loss: 0.4775 - accuracy: 0.7518 - val_loss: 0.6096 - val_accuracy: 0.6830\n",
            "Epoch 19/100\n",
            "1334/1334 [==============================] - 12s 9ms/step - loss: 0.4713 - accuracy: 0.7583 - val_loss: 0.6082 - val_accuracy: 0.6830\n",
            "Epoch 20/100\n",
            "1334/1334 [==============================] - 12s 9ms/step - loss: 0.4590 - accuracy: 0.7653 - val_loss: 0.6452 - val_accuracy: 0.6777\n",
            "Epoch 21/100\n",
            "1334/1334 [==============================] - 12s 9ms/step - loss: 0.4511 - accuracy: 0.7707 - val_loss: 0.6411 - val_accuracy: 0.6808\n",
            "Epoch 22/100\n",
            "1334/1334 [==============================] - 12s 9ms/step - loss: 0.4456 - accuracy: 0.7719 - val_loss: 0.6313 - val_accuracy: 0.6799\n",
            "Epoch 23/100\n",
            "1334/1334 [==============================] - 12s 9ms/step - loss: 0.4392 - accuracy: 0.7781 - val_loss: 0.6627 - val_accuracy: 0.6729\n",
            "Epoch 24/100\n",
            "1334/1334 [==============================] - 12s 9ms/step - loss: 0.4321 - accuracy: 0.7812 - val_loss: 0.6636 - val_accuracy: 0.6759\n",
            "Epoch 25/100\n",
            "1334/1334 [==============================] - 12s 9ms/step - loss: 0.4267 - accuracy: 0.7862 - val_loss: 0.6688 - val_accuracy: 0.6758\n",
            "Epoch 26/100\n",
            "1334/1334 [==============================] - 12s 9ms/step - loss: 0.4155 - accuracy: 0.7889 - val_loss: 0.7025 - val_accuracy: 0.6708\n",
            "Epoch 27/100\n",
            "1334/1334 [==============================] - 12s 9ms/step - loss: 0.4098 - accuracy: 0.7919 - val_loss: 0.7577 - val_accuracy: 0.6729\n",
            "Epoch 28/100\n",
            "1334/1334 [==============================] - 12s 9ms/step - loss: 0.3969 - accuracy: 0.8005 - val_loss: 0.7218 - val_accuracy: 0.6741\n",
            "Epoch 29/100\n",
            "1334/1334 [==============================] - 12s 9ms/step - loss: 0.3992 - accuracy: 0.7983 - val_loss: 0.7168 - val_accuracy: 0.6638\n",
            "Epoch 30/100\n",
            "1334/1334 [==============================] - 12s 9ms/step - loss: 0.3839 - accuracy: 0.8091 - val_loss: 0.7335 - val_accuracy: 0.6736\n",
            "Epoch 31/100\n",
            "1334/1334 [==============================] - 12s 9ms/step - loss: 0.3785 - accuracy: 0.8117 - val_loss: 0.7765 - val_accuracy: 0.6657\n",
            "Epoch 32/100\n",
            "1334/1334 [==============================] - 12s 9ms/step - loss: 0.3786 - accuracy: 0.8111 - val_loss: 0.7786 - val_accuracy: 0.6699\n",
            "Epoch 33/100\n",
            "1334/1334 [==============================] - 12s 9ms/step - loss: 0.3622 - accuracy: 0.8180 - val_loss: 0.7709 - val_accuracy: 0.6657\n",
            "Epoch 34/100\n",
            "1334/1334 [==============================] - 12s 9ms/step - loss: 0.3689 - accuracy: 0.8157 - val_loss: 0.7427 - val_accuracy: 0.6617\n",
            "Epoch 35/100\n",
            "1334/1334 [==============================] - 12s 9ms/step - loss: 0.3599 - accuracy: 0.8241 - val_loss: 0.7659 - val_accuracy: 0.6647\n",
            "Epoch 36/100\n",
            "1334/1334 [==============================] - 12s 9ms/step - loss: 0.3432 - accuracy: 0.8313 - val_loss: 0.8513 - val_accuracy: 0.6651\n",
            "Epoch 37/100\n",
            "1334/1334 [==============================] - 12s 9ms/step - loss: 0.3468 - accuracy: 0.8286 - val_loss: 0.8501 - val_accuracy: 0.6657\n",
            "Epoch 38/100\n",
            "1334/1334 [==============================] - 12s 9ms/step - loss: 0.3383 - accuracy: 0.8366 - val_loss: 0.8252 - val_accuracy: 0.6620\n",
            "Epoch 39/100\n",
            "1334/1334 [==============================] - 12s 9ms/step - loss: 0.3309 - accuracy: 0.8394 - val_loss: 0.8885 - val_accuracy: 0.6582\n",
            "Epoch 40/100\n",
            "1334/1334 [==============================] - 12s 9ms/step - loss: 0.3193 - accuracy: 0.8441 - val_loss: 0.9508 - val_accuracy: 0.6655\n",
            "Epoch 41/100\n",
            "1334/1334 [==============================] - 12s 9ms/step - loss: 0.3120 - accuracy: 0.8463 - val_loss: 0.8823 - val_accuracy: 0.6594\n",
            "Epoch 42/100\n",
            "1334/1334 [==============================] - 12s 9ms/step - loss: 0.3119 - accuracy: 0.8493 - val_loss: 0.9896 - val_accuracy: 0.6626\n",
            "Epoch 43/100\n",
            "1334/1334 [==============================] - 12s 9ms/step - loss: 0.3062 - accuracy: 0.8527 - val_loss: 0.9418 - val_accuracy: 0.6594\n",
            "Epoch 44/100\n",
            "1334/1334 [==============================] - 12s 9ms/step - loss: 0.3133 - accuracy: 0.8507 - val_loss: 0.8900 - val_accuracy: 0.6602\n",
            "Epoch 45/100\n",
            "1334/1334 [==============================] - 12s 9ms/step - loss: 0.3000 - accuracy: 0.8595 - val_loss: 0.9647 - val_accuracy: 0.6540\n",
            "Epoch 46/100\n",
            "1334/1334 [==============================] - 12s 9ms/step - loss: 0.2933 - accuracy: 0.8637 - val_loss: 1.0172 - val_accuracy: 0.6552\n",
            "Epoch 47/100\n",
            "1334/1334 [==============================] - 12s 9ms/step - loss: 0.2943 - accuracy: 0.8647 - val_loss: 0.9093 - val_accuracy: 0.6583\n",
            "Epoch 48/100\n",
            "1334/1334 [==============================] - 12s 9ms/step - loss: 0.2695 - accuracy: 0.8737 - val_loss: 0.9700 - val_accuracy: 0.6567\n",
            "Epoch 49/100\n",
            "1334/1334 [==============================] - 12s 9ms/step - loss: 0.2768 - accuracy: 0.8727 - val_loss: 0.9801 - val_accuracy: 0.6557\n",
            "Epoch 50/100\n",
            "1334/1334 [==============================] - 12s 9ms/step - loss: 0.2723 - accuracy: 0.8724 - val_loss: 1.0360 - val_accuracy: 0.6559\n",
            "Epoch 51/100\n",
            "1334/1334 [==============================] - 12s 9ms/step - loss: 0.2690 - accuracy: 0.8769 - val_loss: 1.0726 - val_accuracy: 0.6558\n",
            "Epoch 52/100\n",
            "1334/1334 [==============================] - 12s 9ms/step - loss: 0.2561 - accuracy: 0.8817 - val_loss: 1.0516 - val_accuracy: 0.6540\n",
            "Epoch 53/100\n",
            "1334/1334 [==============================] - 12s 9ms/step - loss: 0.2530 - accuracy: 0.8846 - val_loss: 1.0507 - val_accuracy: 0.6503\n",
            "Epoch 54/100\n",
            "1334/1334 [==============================] - 12s 9ms/step - loss: 0.2519 - accuracy: 0.8850 - val_loss: 1.0490 - val_accuracy: 0.6475\n",
            "Epoch 55/100\n",
            "1334/1334 [==============================] - 12s 9ms/step - loss: 0.2536 - accuracy: 0.8839 - val_loss: 0.9974 - val_accuracy: 0.6525\n",
            "Epoch 56/100\n",
            "1334/1334 [==============================] - 12s 9ms/step - loss: 0.2529 - accuracy: 0.8860 - val_loss: 1.0894 - val_accuracy: 0.6576\n",
            "Epoch 57/100\n",
            "1334/1334 [==============================] - 12s 9ms/step - loss: 0.2531 - accuracy: 0.8845 - val_loss: 1.1091 - val_accuracy: 0.6481\n",
            "Epoch 58/100\n",
            "1334/1334 [==============================] - 12s 9ms/step - loss: 0.2345 - accuracy: 0.8939 - val_loss: 1.0843 - val_accuracy: 0.6531\n",
            "Epoch 59/100\n",
            "1334/1334 [==============================] - 12s 9ms/step - loss: 0.2397 - accuracy: 0.8924 - val_loss: 1.1635 - val_accuracy: 0.6537\n",
            "Epoch 60/100\n",
            "1334/1334 [==============================] - 12s 9ms/step - loss: 0.2305 - accuracy: 0.8979 - val_loss: 1.0179 - val_accuracy: 0.6482\n",
            "Epoch 61/100\n",
            "1334/1334 [==============================] - 12s 9ms/step - loss: 0.2354 - accuracy: 0.8970 - val_loss: 1.1504 - val_accuracy: 0.6559\n",
            "Epoch 62/100\n",
            "1334/1334 [==============================] - 12s 9ms/step - loss: 0.2249 - accuracy: 0.9003 - val_loss: 1.1611 - val_accuracy: 0.6455\n",
            "Epoch 63/100\n",
            "1334/1334 [==============================] - 12s 9ms/step - loss: 0.2192 - accuracy: 0.9034 - val_loss: 1.0895 - val_accuracy: 0.6476\n",
            "Epoch 64/100\n",
            "1334/1334 [==============================] - 12s 9ms/step - loss: 0.2235 - accuracy: 0.9022 - val_loss: 1.1553 - val_accuracy: 0.6480\n",
            "Epoch 65/100\n",
            "1334/1334 [==============================] - 12s 9ms/step - loss: 0.2206 - accuracy: 0.9043 - val_loss: 1.2631 - val_accuracy: 0.6520\n",
            "Epoch 66/100\n",
            "1334/1334 [==============================] - 12s 9ms/step - loss: 0.2223 - accuracy: 0.9015 - val_loss: 1.1652 - val_accuracy: 0.6533\n",
            "Epoch 67/100\n",
            "1334/1334 [==============================] - 12s 9ms/step - loss: 0.2115 - accuracy: 0.9055 - val_loss: 1.1917 - val_accuracy: 0.6451\n",
            "Epoch 68/100\n",
            "1334/1334 [==============================] - 12s 9ms/step - loss: 0.2110 - accuracy: 0.9078 - val_loss: 1.2519 - val_accuracy: 0.6539\n",
            "Epoch 69/100\n",
            "1334/1334 [==============================] - 12s 9ms/step - loss: 0.2089 - accuracy: 0.9106 - val_loss: 1.1692 - val_accuracy: 0.6427\n",
            "Epoch 70/100\n",
            "1334/1334 [==============================] - 12s 9ms/step - loss: 0.2084 - accuracy: 0.9112 - val_loss: 1.2549 - val_accuracy: 0.6430\n",
            "Epoch 71/100\n",
            "1334/1334 [==============================] - 12s 9ms/step - loss: 0.2093 - accuracy: 0.9086 - val_loss: 1.1845 - val_accuracy: 0.6483\n",
            "Epoch 72/100\n",
            "1334/1334 [==============================] - 12s 9ms/step - loss: 0.1996 - accuracy: 0.9162 - val_loss: 1.1853 - val_accuracy: 0.6472\n",
            "Epoch 73/100\n",
            "1334/1334 [==============================] - 12s 9ms/step - loss: 0.2045 - accuracy: 0.9139 - val_loss: 1.2591 - val_accuracy: 0.6494\n",
            "Epoch 74/100\n",
            "1334/1334 [==============================] - 12s 9ms/step - loss: 0.1984 - accuracy: 0.9160 - val_loss: 1.2170 - val_accuracy: 0.6487\n",
            "Epoch 75/100\n",
            "1334/1334 [==============================] - 12s 9ms/step - loss: 0.1918 - accuracy: 0.9183 - val_loss: 1.2899 - val_accuracy: 0.6421\n",
            "Epoch 76/100\n",
            "1334/1334 [==============================] - 12s 9ms/step - loss: 0.1916 - accuracy: 0.9202 - val_loss: 1.3313 - val_accuracy: 0.6529\n",
            "Epoch 77/100\n",
            "1334/1334 [==============================] - 12s 9ms/step - loss: 0.1935 - accuracy: 0.9192 - val_loss: 1.1978 - val_accuracy: 0.6484\n",
            "Epoch 78/100\n",
            "1334/1334 [==============================] - 12s 9ms/step - loss: 0.1848 - accuracy: 0.9199 - val_loss: 1.2141 - val_accuracy: 0.6505\n",
            "Epoch 79/100\n",
            "1334/1334 [==============================] - 12s 9ms/step - loss: 0.1829 - accuracy: 0.9232 - val_loss: 1.2445 - val_accuracy: 0.6508\n",
            "Epoch 80/100\n",
            "1334/1334 [==============================] - 12s 9ms/step - loss: 0.1860 - accuracy: 0.9228 - val_loss: 1.2303 - val_accuracy: 0.6458\n",
            "Epoch 81/100\n",
            "1334/1334 [==============================] - 12s 9ms/step - loss: 0.1843 - accuracy: 0.9234 - val_loss: 1.3301 - val_accuracy: 0.6478\n",
            "Epoch 82/100\n",
            "1334/1334 [==============================] - 12s 9ms/step - loss: 0.1788 - accuracy: 0.9272 - val_loss: 1.3035 - val_accuracy: 0.6544\n",
            "Epoch 83/100\n",
            "1334/1334 [==============================] - 12s 9ms/step - loss: 0.1777 - accuracy: 0.9247 - val_loss: 1.3497 - val_accuracy: 0.6492\n",
            "Epoch 84/100\n",
            "1334/1334 [==============================] - 12s 9ms/step - loss: 0.1715 - accuracy: 0.9288 - val_loss: 1.3045 - val_accuracy: 0.6496\n",
            "Epoch 85/100\n",
            "1334/1334 [==============================] - 12s 9ms/step - loss: 0.1722 - accuracy: 0.9269 - val_loss: 1.2418 - val_accuracy: 0.6488\n",
            "Epoch 86/100\n",
            "1334/1334 [==============================] - 12s 9ms/step - loss: 0.1702 - accuracy: 0.9294 - val_loss: 1.3412 - val_accuracy: 0.6476\n",
            "Epoch 87/100\n",
            "1334/1334 [==============================] - 12s 9ms/step - loss: 0.1723 - accuracy: 0.9303 - val_loss: 1.4151 - val_accuracy: 0.6457\n",
            "Epoch 88/100\n",
            "1334/1334 [==============================] - 12s 9ms/step - loss: 0.1749 - accuracy: 0.9286 - val_loss: 1.2750 - val_accuracy: 0.6494\n",
            "Epoch 89/100\n",
            "1334/1334 [==============================] - 12s 9ms/step - loss: 0.1690 - accuracy: 0.9312 - val_loss: 1.3978 - val_accuracy: 0.6477\n",
            "Epoch 90/100\n",
            "1334/1334 [==============================] - 12s 9ms/step - loss: 0.1640 - accuracy: 0.9337 - val_loss: 1.3392 - val_accuracy: 0.6448\n",
            "Epoch 91/100\n",
            "1334/1334 [==============================] - 12s 9ms/step - loss: 0.1665 - accuracy: 0.9315 - val_loss: 1.2442 - val_accuracy: 0.6489\n",
            "Epoch 92/100\n",
            "1334/1334 [==============================] - 12s 9ms/step - loss: 0.1777 - accuracy: 0.9283 - val_loss: 1.3615 - val_accuracy: 0.6500\n",
            "Epoch 93/100\n",
            "1334/1334 [==============================] - 12s 9ms/step - loss: 0.1656 - accuracy: 0.9326 - val_loss: 1.2977 - val_accuracy: 0.6517\n",
            "Epoch 94/100\n",
            "1334/1334 [==============================] - 12s 9ms/step - loss: 0.1672 - accuracy: 0.9315 - val_loss: 1.2959 - val_accuracy: 0.6393\n",
            "Epoch 95/100\n",
            "1334/1334 [==============================] - 12s 9ms/step - loss: 0.1598 - accuracy: 0.9353 - val_loss: 1.3561 - val_accuracy: 0.6453\n",
            "Epoch 96/100\n",
            "1334/1334 [==============================] - 12s 9ms/step - loss: 0.1620 - accuracy: 0.9361 - val_loss: 1.2900 - val_accuracy: 0.6471\n",
            "Epoch 97/100\n",
            "1334/1334 [==============================] - 12s 9ms/step - loss: 0.1519 - accuracy: 0.9403 - val_loss: 1.2801 - val_accuracy: 0.6416\n",
            "Epoch 98/100\n",
            "1334/1334 [==============================] - 12s 9ms/step - loss: 0.1730 - accuracy: 0.9321 - val_loss: 1.3125 - val_accuracy: 0.6496\n",
            "Epoch 99/100\n",
            "1334/1334 [==============================] - 12s 9ms/step - loss: 0.1550 - accuracy: 0.9354 - val_loss: 1.3937 - val_accuracy: 0.6512\n",
            "Epoch 100/100\n",
            "1334/1334 [==============================] - 12s 9ms/step - loss: 0.1544 - accuracy: 0.9384 - val_loss: 1.2255 - val_accuracy: 0.6492\n",
            "Fold 1, 100 epochs, 1236 sec\n"
          ],
          "name": "stdout"
        },
        {
          "output_type": "display_data",
          "data": {
            "image/png": "[encoded data removed]",
            "text/plain": [
              "<Figure size 576x360 with 1 Axes>"
            ]
          },
          "metadata": {
            "tags": [],
            "needs_background": "light"
          }
        },
        {
          "output_type": "stream",
          "text": [
            "MODEL\n",
            "make_DNN\n",
            "input shape: (128, 4)\n",
            "FIT\n",
            "Epoch 1/100\n",
            "1334/1334 [==============================] - 16s 10ms/step - loss: 0.6996 - accuracy: 0.5232 - val_loss: 0.6431 - val_accuracy: 0.6251\n",
            "Epoch 2/100\n",
            "1334/1334 [==============================] - 12s 9ms/step - loss: 0.6444 - accuracy: 0.6237 - val_loss: 0.6055 - val_accuracy: 0.6709\n",
            "Epoch 3/100\n",
            "1334/1334 [==============================] - 12s 9ms/step - loss: 0.5995 - accuracy: 0.6735 - val_loss: 0.5771 - val_accuracy: 0.6903\n",
            "Epoch 4/100\n",
            "1334/1334 [==============================] - 12s 9ms/step - loss: 0.5769 - accuracy: 0.6882 - val_loss: 0.5691 - val_accuracy: 0.6956\n"
          ],
          "name": "stdout"
        },
        {
          "output_type": "stream",
          "text": [
            "WARNING:absl:Found untraced functions such as gru_cell_14_layer_call_fn, gru_cell_14_layer_call_and_return_conditional_losses, gru_cell_15_layer_call_fn, gru_cell_15_layer_call_and_return_conditional_losses, gru_cell_14_layer_call_fn while saving (showing 5 of 10). These functions will not be directly callable after loading.\n"
          ],
          "name": "stderr"
        },
        {
          "output_type": "stream",
          "text": [
            "INFO:tensorflow:Assets written to: BestModel/assets\n"
          ],
          "name": "stdout"
        },
        {
          "output_type": "stream",
          "text": [
            "INFO:tensorflow:Assets written to: BestModel/assets\n"
          ],
          "name": "stderr"
        },
        {
          "output_type": "stream",
          "text": [
            "Epoch 5/100\n",
            "1334/1334 [==============================] - 12s 9ms/step - loss: 0.5662 - accuracy: 0.6967 - val_loss: 0.5691 - val_accuracy: 0.6947\n",
            "Epoch 6/100\n",
            "1334/1334 [==============================] - 12s 9ms/step - loss: 0.5639 - accuracy: 0.6960 - val_loss: 0.5685 - val_accuracy: 0.6930\n",
            "Epoch 7/100\n",
            "1334/1334 [==============================] - 12s 9ms/step - loss: 0.5531 - accuracy: 0.7028 - val_loss: 0.5657 - val_accuracy: 0.6956\n"
          ],
          "name": "stdout"
        },
        {
          "output_type": "stream",
          "text": [
            "WARNING:absl:Found untraced functions such as gru_cell_14_layer_call_fn, gru_cell_14_layer_call_and_return_conditional_losses, gru_cell_15_layer_call_fn, gru_cell_15_layer_call_and_return_conditional_losses, gru_cell_14_layer_call_fn while saving (showing 5 of 10). These functions will not be directly callable after loading.\n"
          ],
          "name": "stderr"
        },
        {
          "output_type": "stream",
          "text": [
            "INFO:tensorflow:Assets written to: BestModel/assets\n"
          ],
          "name": "stdout"
        },
        {
          "output_type": "stream",
          "text": [
            "INFO:tensorflow:Assets written to: BestModel/assets\n"
          ],
          "name": "stderr"
        },
        {
          "output_type": "stream",
          "text": [
            "Epoch 8/100\n",
            "1334/1334 [==============================] - 12s 9ms/step - loss: 0.5436 - accuracy: 0.7087 - val_loss: 0.5670 - val_accuracy: 0.6967\n"
          ],
          "name": "stdout"
        },
        {
          "output_type": "stream",
          "text": [
            "WARNING:absl:Found untraced functions such as gru_cell_14_layer_call_fn, gru_cell_14_layer_call_and_return_conditional_losses, gru_cell_15_layer_call_fn, gru_cell_15_layer_call_and_return_conditional_losses, gru_cell_14_layer_call_fn while saving (showing 5 of 10). These functions will not be directly callable after loading.\n"
          ],
          "name": "stderr"
        },
        {
          "output_type": "stream",
          "text": [
            "INFO:tensorflow:Assets written to: BestModel/assets\n"
          ],
          "name": "stdout"
        },
        {
          "output_type": "stream",
          "text": [
            "INFO:tensorflow:Assets written to: BestModel/assets\n"
          ],
          "name": "stderr"
        },
        {
          "output_type": "stream",
          "text": [
            "Epoch 9/100\n",
            "1334/1334 [==============================] - 12s 9ms/step - loss: 0.5367 - accuracy: 0.7161 - val_loss: 0.5820 - val_accuracy: 0.6862\n",
            "Epoch 10/100\n",
            "1334/1334 [==============================] - 12s 9ms/step - loss: 0.5308 - accuracy: 0.7224 - val_loss: 0.5743 - val_accuracy: 0.6911\n",
            "Epoch 11/100\n",
            "1334/1334 [==============================] - 12s 9ms/step - loss: 0.5213 - accuracy: 0.7221 - val_loss: 0.5829 - val_accuracy: 0.6885\n",
            "Epoch 12/100\n",
            "1334/1334 [==============================] - 12s 9ms/step - loss: 0.5113 - accuracy: 0.7331 - val_loss: 0.5820 - val_accuracy: 0.6843\n",
            "Epoch 13/100\n",
            "1334/1334 [==============================] - 12s 9ms/step - loss: 0.5050 - accuracy: 0.7340 - val_loss: 0.6028 - val_accuracy: 0.6828\n",
            "Epoch 14/100\n",
            "1334/1334 [==============================] - 12s 9ms/step - loss: 0.4959 - accuracy: 0.7424 - val_loss: 0.6026 - val_accuracy: 0.6820\n",
            "Epoch 15/100\n",
            "1334/1334 [==============================] - 12s 9ms/step - loss: 0.4870 - accuracy: 0.7455 - val_loss: 0.6057 - val_accuracy: 0.6820\n",
            "Epoch 16/100\n",
            "1334/1334 [==============================] - 12s 9ms/step - loss: 0.4739 - accuracy: 0.7566 - val_loss: 0.6189 - val_accuracy: 0.6782\n",
            "Epoch 17/100\n",
            "1334/1334 [==============================] - 12s 9ms/step - loss: 0.4603 - accuracy: 0.7605 - val_loss: 0.6219 - val_accuracy: 0.6793\n",
            "Epoch 18/100\n",
            "1334/1334 [==============================] - 12s 9ms/step - loss: 0.4565 - accuracy: 0.7634 - val_loss: 0.6282 - val_accuracy: 0.6788\n",
            "Epoch 19/100\n",
            "1334/1334 [==============================] - 12s 9ms/step - loss: 0.4448 - accuracy: 0.7762 - val_loss: 0.6789 - val_accuracy: 0.6757\n",
            "Epoch 20/100\n",
            "1334/1334 [==============================] - 12s 9ms/step - loss: 0.4361 - accuracy: 0.7805 - val_loss: 0.6846 - val_accuracy: 0.6684\n",
            "Epoch 21/100\n",
            "1334/1334 [==============================] - 12s 9ms/step - loss: 0.4237 - accuracy: 0.7860 - val_loss: 0.7171 - val_accuracy: 0.6729\n",
            "Epoch 22/100\n",
            "1334/1334 [==============================] - 12s 9ms/step - loss: 0.4135 - accuracy: 0.7932 - val_loss: 0.7200 - val_accuracy: 0.6675\n",
            "Epoch 23/100\n",
            "1334/1334 [==============================] - 12s 9ms/step - loss: 0.4041 - accuracy: 0.7980 - val_loss: 0.7126 - val_accuracy: 0.6641\n",
            "Epoch 24/100\n",
            "1334/1334 [==============================] - 12s 9ms/step - loss: 0.3960 - accuracy: 0.8009 - val_loss: 0.7256 - val_accuracy: 0.6655\n",
            "Epoch 25/100\n",
            "1334/1334 [==============================] - 12s 9ms/step - loss: 0.3835 - accuracy: 0.8088 - val_loss: 0.7269 - val_accuracy: 0.6619\n",
            "Epoch 26/100\n",
            "1334/1334 [==============================] - 12s 9ms/step - loss: 0.3792 - accuracy: 0.8138 - val_loss: 0.8103 - val_accuracy: 0.6611\n",
            "Epoch 27/100\n",
            "1334/1334 [==============================] - 12s 9ms/step - loss: 0.3661 - accuracy: 0.8182 - val_loss: 0.7607 - val_accuracy: 0.6560\n",
            "Epoch 28/100\n",
            "1334/1334 [==============================] - 12s 9ms/step - loss: 0.3601 - accuracy: 0.8263 - val_loss: 0.8036 - val_accuracy: 0.6635\n",
            "Epoch 29/100\n",
            "1334/1334 [==============================] - 12s 9ms/step - loss: 0.3527 - accuracy: 0.8274 - val_loss: 0.8221 - val_accuracy: 0.6562\n",
            "Epoch 30/100\n",
            "1334/1334 [==============================] - 12s 9ms/step - loss: 0.3438 - accuracy: 0.8345 - val_loss: 0.8176 - val_accuracy: 0.6552\n",
            "Epoch 31/100\n",
            "1334/1334 [==============================] - 12s 9ms/step - loss: 0.3335 - accuracy: 0.8399 - val_loss: 0.8847 - val_accuracy: 0.6559\n",
            "Epoch 32/100\n",
            "1334/1334 [==============================] - 12s 9ms/step - loss: 0.3277 - accuracy: 0.8405 - val_loss: 0.8392 - val_accuracy: 0.6510\n",
            "Epoch 33/100\n",
            "1334/1334 [==============================] - 12s 9ms/step - loss: 0.3233 - accuracy: 0.8457 - val_loss: 0.9189 - val_accuracy: 0.6504\n",
            "Epoch 34/100\n",
            "1334/1334 [==============================] - 12s 9ms/step - loss: 0.3179 - accuracy: 0.8481 - val_loss: 0.8747 - val_accuracy: 0.6552\n",
            "Epoch 35/100\n",
            "1334/1334 [==============================] - 12s 9ms/step - loss: 0.3054 - accuracy: 0.8547 - val_loss: 0.8884 - val_accuracy: 0.6519\n",
            "Epoch 36/100\n",
            "1334/1334 [==============================] - 12s 9ms/step - loss: 0.2991 - accuracy: 0.8621 - val_loss: 0.9207 - val_accuracy: 0.6500\n",
            "Epoch 37/100\n",
            "1334/1334 [==============================] - 12s 9ms/step - loss: 0.3008 - accuracy: 0.8609 - val_loss: 0.9855 - val_accuracy: 0.6503\n",
            "Epoch 38/100\n",
            "1334/1334 [==============================] - 12s 9ms/step - loss: 0.2828 - accuracy: 0.8701 - val_loss: 1.0008 - val_accuracy: 0.6561\n",
            "Epoch 39/100\n",
            "1334/1334 [==============================] - 12s 9ms/step - loss: 0.2855 - accuracy: 0.8679 - val_loss: 0.9893 - val_accuracy: 0.6507\n",
            "Epoch 40/100\n",
            "1334/1334 [==============================] - 12s 9ms/step - loss: 0.2853 - accuracy: 0.8669 - val_loss: 0.9937 - val_accuracy: 0.6478\n",
            "Epoch 41/100\n",
            "1334/1334 [==============================] - 12s 9ms/step - loss: 0.2767 - accuracy: 0.8733 - val_loss: 0.9556 - val_accuracy: 0.6515\n",
            "Epoch 42/100\n",
            "1334/1334 [==============================] - 12s 9ms/step - loss: 0.2642 - accuracy: 0.8774 - val_loss: 1.0530 - val_accuracy: 0.6463\n",
            "Epoch 43/100\n",
            "1334/1334 [==============================] - 12s 9ms/step - loss: 0.2705 - accuracy: 0.8773 - val_loss: 1.0563 - val_accuracy: 0.6516\n",
            "Epoch 44/100\n",
            "1334/1334 [==============================] - 12s 9ms/step - loss: 0.2648 - accuracy: 0.8798 - val_loss: 1.0047 - val_accuracy: 0.6492\n",
            "Epoch 45/100\n",
            "1334/1334 [==============================] - 12s 9ms/step - loss: 0.2589 - accuracy: 0.8822 - val_loss: 1.0055 - val_accuracy: 0.6518\n",
            "Epoch 46/100\n",
            "1334/1334 [==============================] - 12s 9ms/step - loss: 0.2546 - accuracy: 0.8868 - val_loss: 1.1456 - val_accuracy: 0.6472\n",
            "Epoch 47/100\n",
            "1334/1334 [==============================] - 12s 9ms/step - loss: 0.2394 - accuracy: 0.8933 - val_loss: 1.1373 - val_accuracy: 0.6517\n",
            "Epoch 48/100\n",
            "1334/1334 [==============================] - 12s 9ms/step - loss: 0.2426 - accuracy: 0.8891 - val_loss: 1.0958 - val_accuracy: 0.6436\n",
            "Epoch 49/100\n",
            "1334/1334 [==============================] - 12s 9ms/step - loss: 0.2407 - accuracy: 0.8929 - val_loss: 0.9933 - val_accuracy: 0.6438\n",
            "Epoch 50/100\n",
            "1334/1334 [==============================] - 12s 9ms/step - loss: 0.2343 - accuracy: 0.8984 - val_loss: 1.1175 - val_accuracy: 0.6482\n",
            "Epoch 51/100\n",
            "1334/1334 [==============================] - 12s 9ms/step - loss: 0.2312 - accuracy: 0.8992 - val_loss: 1.0789 - val_accuracy: 0.6414\n",
            "Epoch 52/100\n",
            "1334/1334 [==============================] - 12s 9ms/step - loss: 0.2289 - accuracy: 0.8982 - val_loss: 1.0743 - val_accuracy: 0.6393\n",
            "Epoch 53/100\n",
            "1334/1334 [==============================] - 12s 9ms/step - loss: 0.2330 - accuracy: 0.8989 - val_loss: 1.1650 - val_accuracy: 0.6456\n",
            "Epoch 54/100\n",
            "1334/1334 [==============================] - 12s 9ms/step - loss: 0.2191 - accuracy: 0.9069 - val_loss: 1.1351 - val_accuracy: 0.6436\n",
            "Epoch 55/100\n",
            "1334/1334 [==============================] - 12s 9ms/step - loss: 0.2147 - accuracy: 0.9066 - val_loss: 1.1465 - val_accuracy: 0.6433\n",
            "Epoch 56/100\n",
            "1334/1334 [==============================] - 12s 9ms/step - loss: 0.2122 - accuracy: 0.9102 - val_loss: 1.1066 - val_accuracy: 0.6410\n",
            "Epoch 57/100\n",
            "1334/1334 [==============================] - 12s 9ms/step - loss: 0.2086 - accuracy: 0.9081 - val_loss: 1.2116 - val_accuracy: 0.6429\n",
            "Epoch 58/100\n",
            "1334/1334 [==============================] - 12s 9ms/step - loss: 0.2098 - accuracy: 0.9115 - val_loss: 1.1452 - val_accuracy: 0.6485\n",
            "Epoch 59/100\n",
            "1334/1334 [==============================] - 12s 9ms/step - loss: 0.2078 - accuracy: 0.9100 - val_loss: 1.2262 - val_accuracy: 0.6444\n",
            "Epoch 60/100\n",
            "1334/1334 [==============================] - 12s 9ms/step - loss: 0.2050 - accuracy: 0.9133 - val_loss: 1.2300 - val_accuracy: 0.6434\n",
            "Epoch 61/100\n",
            "1334/1334 [==============================] - 12s 9ms/step - loss: 0.1980 - accuracy: 0.9175 - val_loss: 1.2005 - val_accuracy: 0.6454\n",
            "Epoch 62/100\n",
            "1334/1334 [==============================] - 12s 9ms/step - loss: 0.1982 - accuracy: 0.9158 - val_loss: 1.1697 - val_accuracy: 0.6406\n",
            "Epoch 63/100\n",
            "1334/1334 [==============================] - 12s 9ms/step - loss: 0.1881 - accuracy: 0.9230 - val_loss: 1.1851 - val_accuracy: 0.6416\n",
            "Epoch 64/100\n",
            "1334/1334 [==============================] - 12s 9ms/step - loss: 0.1974 - accuracy: 0.9180 - val_loss: 1.2506 - val_accuracy: 0.6439\n",
            "Epoch 65/100\n",
            "1334/1334 [==============================] - 12s 9ms/step - loss: 0.1882 - accuracy: 0.9222 - val_loss: 1.2114 - val_accuracy: 0.6403\n",
            "Epoch 66/100\n",
            "1334/1334 [==============================] - 12s 9ms/step - loss: 0.1889 - accuracy: 0.9213 - val_loss: 1.2858 - val_accuracy: 0.6512\n",
            "Epoch 67/100\n",
            "1334/1334 [==============================] - 12s 9ms/step - loss: 0.1820 - accuracy: 0.9264 - val_loss: 1.2177 - val_accuracy: 0.6410\n",
            "Epoch 68/100\n",
            "1334/1334 [==============================] - 12s 9ms/step - loss: 0.1772 - accuracy: 0.9275 - val_loss: 1.2475 - val_accuracy: 0.6416\n",
            "Epoch 69/100\n",
            "1334/1334 [==============================] - 12s 9ms/step - loss: 0.1741 - accuracy: 0.9291 - val_loss: 1.3326 - val_accuracy: 0.6405\n",
            "Epoch 70/100\n",
            "1334/1334 [==============================] - 12s 9ms/step - loss: 0.1798 - accuracy: 0.9270 - val_loss: 1.2568 - val_accuracy: 0.6445\n",
            "Epoch 71/100\n",
            "1334/1334 [==============================] - 12s 9ms/step - loss: 0.1758 - accuracy: 0.9286 - val_loss: 1.2637 - val_accuracy: 0.6406\n",
            "Epoch 72/100\n",
            "1334/1334 [==============================] - 12s 9ms/step - loss: 0.1674 - accuracy: 0.9315 - val_loss: 1.2351 - val_accuracy: 0.6398\n",
            "Epoch 73/100\n",
            "1334/1334 [==============================] - 12s 9ms/step - loss: 0.1668 - accuracy: 0.9338 - val_loss: 1.2982 - val_accuracy: 0.6389\n",
            "Epoch 74/100\n",
            "1334/1334 [==============================] - 12s 9ms/step - loss: 0.1645 - accuracy: 0.9334 - val_loss: 1.3192 - val_accuracy: 0.6392\n",
            "Epoch 75/100\n",
            "1334/1334 [==============================] - 12s 9ms/step - loss: 0.1687 - accuracy: 0.9333 - val_loss: 1.4397 - val_accuracy: 0.6412\n",
            "Epoch 76/100\n",
            "1334/1334 [==============================] - 12s 9ms/step - loss: 0.1799 - accuracy: 0.9262 - val_loss: 1.3204 - val_accuracy: 0.6429\n",
            "Epoch 77/100\n",
            "1334/1334 [==============================] - 12s 9ms/step - loss: 0.1661 - accuracy: 0.9334 - val_loss: 1.3017 - val_accuracy: 0.6416\n",
            "Epoch 78/100\n",
            "1334/1334 [==============================] - 12s 9ms/step - loss: 0.1688 - accuracy: 0.9317 - val_loss: 1.3080 - val_accuracy: 0.6444\n",
            "Epoch 79/100\n",
            "1334/1334 [==============================] - 12s 9ms/step - loss: 0.1582 - accuracy: 0.9366 - val_loss: 1.3415 - val_accuracy: 0.6423\n",
            "Epoch 80/100\n",
            "1334/1334 [==============================] - 12s 9ms/step - loss: 0.1738 - accuracy: 0.9310 - val_loss: 1.3407 - val_accuracy: 0.6377\n",
            "Epoch 81/100\n",
            "1334/1334 [==============================] - 12s 9ms/step - loss: 0.1609 - accuracy: 0.9359 - val_loss: 1.3538 - val_accuracy: 0.6429\n",
            "Epoch 82/100\n",
            "1334/1334 [==============================] - 12s 9ms/step - loss: 0.1553 - accuracy: 0.9373 - val_loss: 1.3267 - val_accuracy: 0.6471\n",
            "Epoch 83/100\n",
            "1334/1334 [==============================] - 12s 9ms/step - loss: 0.1679 - accuracy: 0.9326 - val_loss: 1.3104 - val_accuracy: 0.6434\n",
            "Epoch 84/100\n",
            "1334/1334 [==============================] - 12s 9ms/step - loss: 0.1509 - accuracy: 0.9397 - val_loss: 1.3893 - val_accuracy: 0.6463\n",
            "Epoch 85/100\n",
            "1334/1334 [==============================] - 12s 9ms/step - loss: 0.1513 - accuracy: 0.9417 - val_loss: 1.3212 - val_accuracy: 0.6418\n",
            "Epoch 86/100\n",
            "1334/1334 [==============================] - 12s 9ms/step - loss: 0.1540 - accuracy: 0.9395 - val_loss: 1.3565 - val_accuracy: 0.6438\n",
            "Epoch 87/100\n",
            "1334/1334 [==============================] - 12s 9ms/step - loss: 0.1773 - accuracy: 0.9321 - val_loss: 1.3529 - val_accuracy: 0.6458\n",
            "Epoch 88/100\n",
            "1334/1334 [==============================] - 12s 9ms/step - loss: 0.1464 - accuracy: 0.9422 - val_loss: 1.4101 - val_accuracy: 0.6349\n",
            "Epoch 89/100\n",
            "1334/1334 [==============================] - 12s 9ms/step - loss: 0.1450 - accuracy: 0.9427 - val_loss: 1.4097 - val_accuracy: 0.6422\n",
            "Epoch 90/100\n",
            "1334/1334 [==============================] - 12s 9ms/step - loss: 0.1485 - accuracy: 0.9416 - val_loss: 1.3984 - val_accuracy: 0.6448\n",
            "Epoch 91/100\n",
            "1334/1334 [==============================] - 12s 9ms/step - loss: 0.1450 - accuracy: 0.9429 - val_loss: 1.4665 - val_accuracy: 0.6453\n",
            "Epoch 92/100\n",
            "1334/1334 [==============================] - 12s 9ms/step - loss: 0.1470 - accuracy: 0.9413 - val_loss: 1.3903 - val_accuracy: 0.6411\n",
            "Epoch 93/100\n",
            "1334/1334 [==============================] - 12s 9ms/step - loss: 0.1428 - accuracy: 0.9424 - val_loss: 1.3842 - val_accuracy: 0.6439\n",
            "Epoch 94/100\n",
            "1334/1334 [==============================] - 12s 9ms/step - loss: 0.1501 - accuracy: 0.9402 - val_loss: 1.3701 - val_accuracy: 0.6397\n",
            "Epoch 95/100\n",
            "1334/1334 [==============================] - 12s 9ms/step - loss: 0.1471 - accuracy: 0.9405 - val_loss: 1.2959 - val_accuracy: 0.6390\n",
            "Epoch 96/100\n",
            "1334/1334 [==============================] - 12s 9ms/step - loss: 0.1532 - accuracy: 0.9397 - val_loss: 1.3825 - val_accuracy: 0.6415\n",
            "Epoch 97/100\n",
            "1334/1334 [==============================] - 12s 9ms/step - loss: 0.1404 - accuracy: 0.9453 - val_loss: 1.3301 - val_accuracy: 0.6454\n",
            "Epoch 98/100\n",
            "1334/1334 [==============================] - 12s 9ms/step - loss: 0.1408 - accuracy: 0.9450 - val_loss: 1.3686 - val_accuracy: 0.6427\n",
            "Epoch 99/100\n",
            "1334/1334 [==============================] - 12s 9ms/step - loss: 0.1350 - accuracy: 0.9471 - val_loss: 1.4473 - val_accuracy: 0.6459\n",
            "Epoch 100/100\n",
            "1334/1334 [==============================] - 12s 9ms/step - loss: 0.1331 - accuracy: 0.9476 - val_loss: 1.4798 - val_accuracy: 0.6417\n",
            "Fold 2, 100 epochs, 1231 sec\n"
          ],
          "name": "stdout"
        },
        {
          "output_type": "display_data",
          "data": {
            "image/png": "[encoded data removed]",
            "text/plain": [
              "<Figure size 576x360 with 1 Axes>"
            ]
          },
          "metadata": {
            "tags": [],
            "needs_background": "light"
          }
        },
        {
          "output_type": "stream",
          "text": [
            "MODEL\n",
            "make_DNN\n",
            "input shape: (128, 4)\n",
            "FIT\n",
            "Epoch 1/100\n",
            "1334/1334 [==============================] - 16s 10ms/step - loss: 0.7010 - accuracy: 0.5272 - val_loss: 0.6443 - val_accuracy: 0.6171\n",
            "Epoch 2/100\n",
            "1334/1334 [==============================] - 12s 9ms/step - loss: 0.6408 - accuracy: 0.6275 - val_loss: 0.6012 - val_accuracy: 0.6706\n",
            "Epoch 3/100\n",
            "1334/1334 [==============================] - 12s 9ms/step - loss: 0.5931 - accuracy: 0.6809 - val_loss: 0.5807 - val_accuracy: 0.6879\n",
            "Epoch 4/100\n",
            "1334/1334 [==============================] - 12s 9ms/step - loss: 0.5747 - accuracy: 0.6964 - val_loss: 0.5641 - val_accuracy: 0.6943\n",
            "Epoch 5/100\n",
            "1334/1334 [==============================] - 12s 9ms/step - loss: 0.5662 - accuracy: 0.6993 - val_loss: 0.5610 - val_accuracy: 0.6974\n"
          ],
          "name": "stdout"
        },
        {
          "output_type": "stream",
          "text": [
            "WARNING:absl:Found untraced functions such as gru_cell_16_layer_call_fn, gru_cell_16_layer_call_and_return_conditional_losses, gru_cell_17_layer_call_fn, gru_cell_17_layer_call_and_return_conditional_losses, gru_cell_16_layer_call_fn while saving (showing 5 of 10). These functions will not be directly callable after loading.\n"
          ],
          "name": "stderr"
        },
        {
          "output_type": "stream",
          "text": [
            "INFO:tensorflow:Assets written to: BestModel/assets\n"
          ],
          "name": "stdout"
        },
        {
          "output_type": "stream",
          "text": [
            "INFO:tensorflow:Assets written to: BestModel/assets\n"
          ],
          "name": "stderr"
        },
        {
          "output_type": "stream",
          "text": [
            "Epoch 6/100\n",
            "1334/1334 [==============================] - 12s 9ms/step - loss: 0.5562 - accuracy: 0.7048 - val_loss: 0.5617 - val_accuracy: 0.6984\n"
          ],
          "name": "stdout"
        },
        {
          "output_type": "stream",
          "text": [
            "WARNING:absl:Found untraced functions such as gru_cell_16_layer_call_fn, gru_cell_16_layer_call_and_return_conditional_losses, gru_cell_17_layer_call_fn, gru_cell_17_layer_call_and_return_conditional_losses, gru_cell_16_layer_call_fn while saving (showing 5 of 10). These functions will not be directly callable after loading.\n"
          ],
          "name": "stderr"
        },
        {
          "output_type": "stream",
          "text": [
            "INFO:tensorflow:Assets written to: BestModel/assets\n"
          ],
          "name": "stdout"
        },
        {
          "output_type": "stream",
          "text": [
            "INFO:tensorflow:Assets written to: BestModel/assets\n"
          ],
          "name": "stderr"
        },
        {
          "output_type": "stream",
          "text": [
            "Epoch 7/100\n",
            "1334/1334 [==============================] - 12s 9ms/step - loss: 0.5482 - accuracy: 0.7110 - val_loss: 0.5617 - val_accuracy: 0.6966\n",
            "Epoch 8/100\n",
            "1334/1334 [==============================] - 12s 9ms/step - loss: 0.5448 - accuracy: 0.7132 - val_loss: 0.5617 - val_accuracy: 0.6982\n",
            "Epoch 9/100\n",
            "1334/1334 [==============================] - 12s 9ms/step - loss: 0.5422 - accuracy: 0.7144 - val_loss: 0.5647 - val_accuracy: 0.6954\n",
            "Epoch 10/100\n",
            "1334/1334 [==============================] - 12s 9ms/step - loss: 0.5336 - accuracy: 0.7199 - val_loss: 0.5760 - val_accuracy: 0.6887\n",
            "Epoch 11/100\n",
            "1334/1334 [==============================] - 12s 9ms/step - loss: 0.5299 - accuracy: 0.7201 - val_loss: 0.5715 - val_accuracy: 0.6933\n",
            "Epoch 12/100\n",
            "1334/1334 [==============================] - 12s 9ms/step - loss: 0.5155 - accuracy: 0.7309 - val_loss: 0.5723 - val_accuracy: 0.6900\n",
            "Epoch 13/100\n",
            "1334/1334 [==============================] - 12s 9ms/step - loss: 0.5129 - accuracy: 0.7342 - val_loss: 0.5812 - val_accuracy: 0.6894\n",
            "Epoch 14/100\n",
            "1334/1334 [==============================] - 12s 9ms/step - loss: 0.5047 - accuracy: 0.7387 - val_loss: 0.5977 - val_accuracy: 0.6880\n",
            "Epoch 15/100\n",
            "1334/1334 [==============================] - 12s 9ms/step - loss: 0.4942 - accuracy: 0.7435 - val_loss: 0.5814 - val_accuracy: 0.6885\n",
            "Epoch 16/100\n",
            "1334/1334 [==============================] - 12s 9ms/step - loss: 0.4890 - accuracy: 0.7511 - val_loss: 0.6110 - val_accuracy: 0.6798\n",
            "Epoch 17/100\n",
            "1334/1334 [==============================] - 12s 9ms/step - loss: 0.4819 - accuracy: 0.7526 - val_loss: 0.6054 - val_accuracy: 0.6893\n",
            "Epoch 18/100\n",
            "1334/1334 [==============================] - 12s 9ms/step - loss: 0.4712 - accuracy: 0.7599 - val_loss: 0.6158 - val_accuracy: 0.6807\n",
            "Epoch 19/100\n",
            "1334/1334 [==============================] - 12s 9ms/step - loss: 0.4668 - accuracy: 0.7616 - val_loss: 0.6560 - val_accuracy: 0.6805\n",
            "Epoch 20/100\n",
            "1334/1334 [==============================] - 12s 9ms/step - loss: 0.4582 - accuracy: 0.7674 - val_loss: 0.6350 - val_accuracy: 0.6826\n",
            "Epoch 21/100\n",
            "1334/1334 [==============================] - 12s 9ms/step - loss: 0.4441 - accuracy: 0.7755 - val_loss: 0.6333 - val_accuracy: 0.6776\n",
            "Epoch 22/100\n",
            "1334/1334 [==============================] - 12s 9ms/step - loss: 0.4437 - accuracy: 0.7752 - val_loss: 0.6388 - val_accuracy: 0.6789\n",
            "Epoch 23/100\n",
            "1334/1334 [==============================] - 12s 9ms/step - loss: 0.4326 - accuracy: 0.7801 - val_loss: 0.6736 - val_accuracy: 0.6768\n",
            "Epoch 24/100\n",
            "1334/1334 [==============================] - 12s 9ms/step - loss: 0.4205 - accuracy: 0.7877 - val_loss: 0.6838 - val_accuracy: 0.6761\n",
            "Epoch 25/100\n",
            "1334/1334 [==============================] - 12s 9ms/step - loss: 0.4199 - accuracy: 0.7903 - val_loss: 0.6983 - val_accuracy: 0.6764\n",
            "Epoch 26/100\n",
            "1334/1334 [==============================] - 12s 9ms/step - loss: 0.4093 - accuracy: 0.7948 - val_loss: 0.6947 - val_accuracy: 0.6769\n",
            "Epoch 27/100\n",
            "1334/1334 [==============================] - 12s 9ms/step - loss: 0.4048 - accuracy: 0.7964 - val_loss: 0.7374 - val_accuracy: 0.6680\n",
            "Epoch 28/100\n",
            "1334/1334 [==============================] - 12s 9ms/step - loss: 0.3941 - accuracy: 0.8022 - val_loss: 0.7142 - val_accuracy: 0.6786\n",
            "Epoch 29/100\n",
            "1334/1334 [==============================] - 12s 9ms/step - loss: 0.3894 - accuracy: 0.8066 - val_loss: 0.7207 - val_accuracy: 0.6712\n",
            "Epoch 30/100\n",
            "1334/1334 [==============================] - 12s 9ms/step - loss: 0.3859 - accuracy: 0.8090 - val_loss: 0.7201 - val_accuracy: 0.6706\n",
            "Epoch 31/100\n",
            "1334/1334 [==============================] - 12s 9ms/step - loss: 0.3679 - accuracy: 0.8200 - val_loss: 0.8164 - val_accuracy: 0.6677\n",
            "Epoch 32/100\n",
            "1334/1334 [==============================] - 12s 9ms/step - loss: 0.3708 - accuracy: 0.8153 - val_loss: 0.8152 - val_accuracy: 0.6699\n",
            "Epoch 33/100\n",
            "1334/1334 [==============================] - 12s 9ms/step - loss: 0.3695 - accuracy: 0.8183 - val_loss: 0.8089 - val_accuracy: 0.6641\n",
            "Epoch 34/100\n",
            "1334/1334 [==============================] - 12s 9ms/step - loss: 0.3470 - accuracy: 0.8297 - val_loss: 0.8717 - val_accuracy: 0.6592\n",
            "Epoch 35/100\n",
            "1334/1334 [==============================] - 12s 9ms/step - loss: 0.3465 - accuracy: 0.8295 - val_loss: 0.8251 - val_accuracy: 0.6711\n",
            "Epoch 36/100\n",
            "1334/1334 [==============================] - 12s 9ms/step - loss: 0.3476 - accuracy: 0.8326 - val_loss: 0.8270 - val_accuracy: 0.6636\n",
            "Epoch 37/100\n",
            "1334/1334 [==============================] - 12s 9ms/step - loss: 0.3296 - accuracy: 0.8405 - val_loss: 0.8162 - val_accuracy: 0.6651\n",
            "Epoch 38/100\n",
            "1334/1334 [==============================] - 12s 9ms/step - loss: 0.3328 - accuracy: 0.8387 - val_loss: 0.8452 - val_accuracy: 0.6646\n",
            "Epoch 39/100\n",
            "1334/1334 [==============================] - 12s 9ms/step - loss: 0.3238 - accuracy: 0.8443 - val_loss: 0.8885 - val_accuracy: 0.6632\n",
            "Epoch 40/100\n",
            "1334/1334 [==============================] - 12s 9ms/step - loss: 0.3135 - accuracy: 0.8492 - val_loss: 0.9058 - val_accuracy: 0.6619\n",
            "Epoch 41/100\n",
            "1334/1334 [==============================] - 12s 9ms/step - loss: 0.3120 - accuracy: 0.8513 - val_loss: 0.8147 - val_accuracy: 0.6638\n",
            "Epoch 42/100\n",
            "1334/1334 [==============================] - 12s 9ms/step - loss: 0.3188 - accuracy: 0.8482 - val_loss: 0.8336 - val_accuracy: 0.6557\n",
            "Epoch 43/100\n",
            "1334/1334 [==============================] - 13s 9ms/step - loss: 0.3061 - accuracy: 0.8580 - val_loss: 0.9397 - val_accuracy: 0.6575\n",
            "Epoch 44/100\n",
            "1334/1334 [==============================] - 12s 9ms/step - loss: 0.3016 - accuracy: 0.8562 - val_loss: 0.9349 - val_accuracy: 0.6597\n",
            "Epoch 45/100\n",
            "1334/1334 [==============================] - 12s 9ms/step - loss: 0.2857 - accuracy: 0.8677 - val_loss: 0.9596 - val_accuracy: 0.6602\n",
            "Epoch 46/100\n",
            "1334/1334 [==============================] - 13s 9ms/step - loss: 0.2741 - accuracy: 0.8739 - val_loss: 0.8949 - val_accuracy: 0.6600\n",
            "Epoch 47/100\n",
            "1334/1334 [==============================] - 12s 9ms/step - loss: 0.2794 - accuracy: 0.8716 - val_loss: 0.9431 - val_accuracy: 0.6553\n",
            "Epoch 48/100\n",
            "1334/1334 [==============================] - 12s 9ms/step - loss: 0.2773 - accuracy: 0.8719 - val_loss: 1.0186 - val_accuracy: 0.6529\n",
            "Epoch 49/100\n",
            "1334/1334 [==============================] - 12s 9ms/step - loss: 0.2756 - accuracy: 0.8753 - val_loss: 0.9931 - val_accuracy: 0.6555\n",
            "Epoch 50/100\n",
            "1334/1334 [==============================] - 12s 9ms/step - loss: 0.2668 - accuracy: 0.8790 - val_loss: 1.0088 - val_accuracy: 0.6543\n",
            "Epoch 51/100\n",
            "1334/1334 [==============================] - 12s 9ms/step - loss: 0.2612 - accuracy: 0.8821 - val_loss: 1.1121 - val_accuracy: 0.6537\n",
            "Epoch 52/100\n",
            "1334/1334 [==============================] - 12s 9ms/step - loss: 0.2536 - accuracy: 0.8842 - val_loss: 0.9726 - val_accuracy: 0.6542\n",
            "Epoch 53/100\n",
            "1334/1334 [==============================] - 12s 9ms/step - loss: 0.2604 - accuracy: 0.8824 - val_loss: 1.0740 - val_accuracy: 0.6501\n",
            "Epoch 54/100\n",
            "1334/1334 [==============================] - 12s 9ms/step - loss: 0.2502 - accuracy: 0.8856 - val_loss: 1.0427 - val_accuracy: 0.6549\n",
            "Epoch 55/100\n",
            "1334/1334 [==============================] - 12s 9ms/step - loss: 0.2447 - accuracy: 0.8905 - val_loss: 1.0906 - val_accuracy: 0.6493\n",
            "Epoch 56/100\n",
            "1334/1334 [==============================] - 12s 9ms/step - loss: 0.2345 - accuracy: 0.8950 - val_loss: 1.0791 - val_accuracy: 0.6444\n",
            "Epoch 57/100\n",
            "1334/1334 [==============================] - 12s 9ms/step - loss: 0.2353 - accuracy: 0.8963 - val_loss: 1.1246 - val_accuracy: 0.6531\n",
            "Epoch 58/100\n",
            "1334/1334 [==============================] - 12s 9ms/step - loss: 0.2310 - accuracy: 0.8972 - val_loss: 1.1337 - val_accuracy: 0.6576\n",
            "Epoch 59/100\n",
            "1334/1334 [==============================] - 12s 9ms/step - loss: 0.2426 - accuracy: 0.8941 - val_loss: 1.0677 - val_accuracy: 0.6467\n",
            "Epoch 60/100\n",
            "1334/1334 [==============================] - 13s 9ms/step - loss: 0.2212 - accuracy: 0.9026 - val_loss: 1.1262 - val_accuracy: 0.6468\n",
            "Epoch 61/100\n",
            "1334/1334 [==============================] - 13s 9ms/step - loss: 0.2307 - accuracy: 0.8992 - val_loss: 1.1109 - val_accuracy: 0.6437\n",
            "Epoch 62/100\n",
            "1334/1334 [==============================] - 12s 9ms/step - loss: 0.2227 - accuracy: 0.9029 - val_loss: 1.2337 - val_accuracy: 0.6541\n",
            "Epoch 63/100\n",
            "1334/1334 [==============================] - 12s 9ms/step - loss: 0.2194 - accuracy: 0.9058 - val_loss: 1.1390 - val_accuracy: 0.6384\n",
            "Epoch 64/100\n",
            "1334/1334 [==============================] - 12s 9ms/step - loss: 0.2144 - accuracy: 0.9083 - val_loss: 1.2439 - val_accuracy: 0.6503\n",
            "Epoch 65/100\n",
            "1334/1334 [==============================] - 12s 9ms/step - loss: 0.2234 - accuracy: 0.9057 - val_loss: 1.2490 - val_accuracy: 0.6494\n",
            "Epoch 66/100\n",
            "1334/1334 [==============================] - 12s 9ms/step - loss: 0.2117 - accuracy: 0.9087 - val_loss: 1.1548 - val_accuracy: 0.6450\n",
            "Epoch 67/100\n",
            "1334/1334 [==============================] - 12s 9ms/step - loss: 0.2012 - accuracy: 0.9146 - val_loss: 1.1392 - val_accuracy: 0.6504\n",
            "Epoch 68/100\n",
            "1334/1334 [==============================] - 12s 9ms/step - loss: 0.2057 - accuracy: 0.9126 - val_loss: 1.2291 - val_accuracy: 0.6491\n",
            "Epoch 69/100\n",
            "1334/1334 [==============================] - 13s 9ms/step - loss: 0.1945 - accuracy: 0.9168 - val_loss: 1.2635 - val_accuracy: 0.6475\n",
            "Epoch 70/100\n",
            "1334/1334 [==============================] - 12s 9ms/step - loss: 0.2017 - accuracy: 0.9150 - val_loss: 1.2372 - val_accuracy: 0.6504\n",
            "Epoch 71/100\n",
            "1334/1334 [==============================] - 12s 9ms/step - loss: 0.1979 - accuracy: 0.9166 - val_loss: 1.2654 - val_accuracy: 0.6436\n",
            "Epoch 72/100\n",
            "1334/1334 [==============================] - 12s 9ms/step - loss: 0.1924 - accuracy: 0.9185 - val_loss: 1.1848 - val_accuracy: 0.6469\n",
            "Epoch 73/100\n",
            "1334/1334 [==============================] - 12s 9ms/step - loss: 0.1905 - accuracy: 0.9185 - val_loss: 1.2521 - val_accuracy: 0.6453\n",
            "Epoch 74/100\n",
            "1334/1334 [==============================] - 12s 9ms/step - loss: 0.1897 - accuracy: 0.9202 - val_loss: 1.2470 - val_accuracy: 0.6483\n",
            "Epoch 75/100\n",
            "1334/1334 [==============================] - 12s 9ms/step - loss: 0.1945 - accuracy: 0.9198 - val_loss: 1.2564 - val_accuracy: 0.6449\n",
            "Epoch 76/100\n",
            "1334/1334 [==============================] - 12s 9ms/step - loss: 0.1778 - accuracy: 0.9242 - val_loss: 1.2526 - val_accuracy: 0.6420\n",
            "Epoch 77/100\n",
            "1334/1334 [==============================] - 12s 9ms/step - loss: 0.1844 - accuracy: 0.9242 - val_loss: 1.2835 - val_accuracy: 0.6438\n",
            "Epoch 78/100\n",
            "1334/1334 [==============================] - 12s 9ms/step - loss: 0.1808 - accuracy: 0.9269 - val_loss: 1.2655 - val_accuracy: 0.6455\n",
            "Epoch 79/100\n",
            "1334/1334 [==============================] - 12s 9ms/step - loss: 0.1806 - accuracy: 0.9256 - val_loss: 1.2406 - val_accuracy: 0.6452\n",
            "Epoch 80/100\n",
            "1334/1334 [==============================] - 12s 9ms/step - loss: 0.1806 - accuracy: 0.9241 - val_loss: 1.3106 - val_accuracy: 0.6409\n",
            "Epoch 81/100\n",
            "1334/1334 [==============================] - 12s 9ms/step - loss: 0.1771 - accuracy: 0.9289 - val_loss: 1.3187 - val_accuracy: 0.6423\n",
            "Epoch 82/100\n",
            "1334/1334 [==============================] - 12s 9ms/step - loss: 0.1711 - accuracy: 0.9300 - val_loss: 1.3090 - val_accuracy: 0.6471\n",
            "Epoch 83/100\n",
            "1334/1334 [==============================] - 12s 9ms/step - loss: 0.1657 - accuracy: 0.9324 - val_loss: 1.3194 - val_accuracy: 0.6402\n",
            "Epoch 84/100\n",
            "1334/1334 [==============================] - 12s 9ms/step - loss: 0.1707 - accuracy: 0.9323 - val_loss: 1.2773 - val_accuracy: 0.6495\n",
            "Epoch 85/100\n",
            "1334/1334 [==============================] - 12s 9ms/step - loss: 0.1657 - accuracy: 0.9298 - val_loss: 1.2693 - val_accuracy: 0.6410\n",
            "Epoch 86/100\n",
            "1334/1334 [==============================] - 12s 9ms/step - loss: 0.1605 - accuracy: 0.9348 - val_loss: 1.2677 - val_accuracy: 0.6434\n",
            "Epoch 87/100\n",
            "1334/1334 [==============================] - 12s 9ms/step - loss: 0.1617 - accuracy: 0.9335 - val_loss: 1.3339 - val_accuracy: 0.6492\n",
            "Epoch 88/100\n",
            "1334/1334 [==============================] - 12s 9ms/step - loss: 0.1604 - accuracy: 0.9362 - val_loss: 1.4364 - val_accuracy: 0.6444\n",
            "Epoch 89/100\n",
            "1334/1334 [==============================] - 13s 9ms/step - loss: 0.1584 - accuracy: 0.9367 - val_loss: 1.3777 - val_accuracy: 0.6444\n",
            "Epoch 90/100\n",
            "1334/1334 [==============================] - 13s 9ms/step - loss: 0.1643 - accuracy: 0.9337 - val_loss: 1.4133 - val_accuracy: 0.6474\n",
            "Epoch 91/100\n",
            "1334/1334 [==============================] - 12s 9ms/step - loss: 0.1598 - accuracy: 0.9357 - val_loss: 1.2915 - val_accuracy: 0.6445\n",
            "Epoch 92/100\n",
            "1334/1334 [==============================] - 12s 9ms/step - loss: 0.1575 - accuracy: 0.9369 - val_loss: 1.4073 - val_accuracy: 0.6413\n",
            "Epoch 93/100\n",
            "1334/1334 [==============================] - 12s 9ms/step - loss: 0.1458 - accuracy: 0.9410 - val_loss: 1.3783 - val_accuracy: 0.6453\n",
            "Epoch 94/100\n",
            "1334/1334 [==============================] - 12s 9ms/step - loss: 0.1508 - accuracy: 0.9410 - val_loss: 1.3529 - val_accuracy: 0.6471\n",
            "Epoch 95/100\n",
            "1334/1334 [==============================] - 12s 9ms/step - loss: 0.1586 - accuracy: 0.9364 - val_loss: 1.3772 - val_accuracy: 0.6425\n",
            "Epoch 96/100\n",
            "1334/1334 [==============================] - 12s 9ms/step - loss: 0.1560 - accuracy: 0.9376 - val_loss: 1.4068 - val_accuracy: 0.6398\n",
            "Epoch 97/100\n",
            "1334/1334 [==============================] - 12s 9ms/step - loss: 0.1436 - accuracy: 0.9433 - val_loss: 1.4256 - val_accuracy: 0.6490\n",
            "Epoch 98/100\n",
            "1334/1334 [==============================] - 13s 9ms/step - loss: 0.1397 - accuracy: 0.9444 - val_loss: 1.4043 - val_accuracy: 0.6417\n",
            "Epoch 99/100\n",
            "1334/1334 [==============================] - 12s 9ms/step - loss: 0.1479 - accuracy: 0.9419 - val_loss: 1.3848 - val_accuracy: 0.6462\n",
            "Epoch 100/100\n",
            "1334/1334 [==============================] - 13s 9ms/step - loss: 0.1540 - accuracy: 0.9391 - val_loss: 1.4651 - val_accuracy: 0.6404\n",
            "Fold 3, 100 epochs, 1247 sec\n"
          ],
          "name": "stdout"
        },
        {
          "output_type": "display_data",
          "data": {
            "image/png": "[encoded data removed]",
            "text/plain": [
              "<Figure size 576x360 with 1 Axes>"
            ]
          },
          "metadata": {
            "tags": [],
            "needs_background": "light"
          }
        }
      ]
    },
    {
      "cell_type": "code",
      "metadata": {
        "colab": {
          "base_uri": "https://localhost:8080/"
        },
        "id": "e-jG1h5fj2Ua",
        "outputId": "673fb744-478d-4787-c4de-2a56b6c5f07c"
      },
      "source": [
        "from keras.models import load_model\n",
        "X,y = prepare_inputs_len_x_alphabet(pc_test,nc_test,ALPHABET)\n",
        "best_model=load_model(MODELPATH)\n",
        "scores = best_model.evaluate(X, y, verbose=0)\n",
        "print(\"The best model parameters were saved during cross-validation.\")\n",
        "print(\"Best was defined as maximum validation accuracy at end of any epoch.\")\n",
        "print(\"Now re-load the best model and test it on previously unseen data.\")\n",
        "print(\"Test on\",len(pc_test),\"PC seqs\")\n",
        "print(\"Test on\",len(nc_test),\"NC seqs\")\n",
        "print(\"%s: %.2f%%\" % (best_model.metrics_names[1], scores[1]*100))\n"
      ],
      "execution_count": 26,
      "outputs": [
        {
          "output_type": "stream",
          "text": [
            "The best model parameters were saved during cross-validation.\n",
            "Best was defined as maximum validation accuracy at end of any epoch.\n",
            "Now re-load the best model and test it on previously unseen data.\n",
            "Test on 1000 PC seqs\n",
            "Test on 1000 NC seqs\n",
            "accuracy: 68.50%\n"
          ],
          "name": "stdout"
        }
      ]
    },
    {
      "cell_type": "code",
      "metadata": {
        "colab": {
          "base_uri": "https://localhost:8080/",
          "height": 312
        },
        "id": "VycUnmvUj2Ue",
        "outputId": "771d3b84-11a5-4191-82fc-d3fc61581c71"
      },
      "source": [
        "from sklearn.metrics import roc_curve\n",
        "from sklearn.metrics import roc_auc_score\n",
        "ns_probs = [0 for _ in range(len(y))]\n",
        "bm_probs = best_model.predict(X)\n",
        "ns_auc = roc_auc_score(y, ns_probs)\n",
        "bm_auc = roc_auc_score(y, bm_probs)\n",
        "ns_fpr, ns_tpr, _ = roc_curve(y, ns_probs)\n",
        "bm_fpr, bm_tpr, _ = roc_curve(y, bm_probs)\n",
        "plt.plot(ns_fpr, ns_tpr, linestyle='--', label='Guess, auc=%.4f'%ns_auc)\n",
        "plt.plot(bm_fpr, bm_tpr, marker='.', label='Model, auc=%.4f'%bm_auc)\n",
        "plt.title('ROC')\n",
        "plt.xlabel('False Positive Rate')\n",
        "plt.ylabel('True Positive Rate')\n",
        "plt.legend()\n",
        "plt.show()\n",
        "print(\"%s: %.2f%%\" %('AUC',bm_auc*100.0))\n"
      ],
      "execution_count": 27,
      "outputs": [
        {
          "output_type": "display_data",
          "data": {
            "image/png": "[encoded data removed]",
            "text/plain": [
              "<Figure size 432x288 with 1 Axes>"
            ]
          },
          "metadata": {
            "tags": [],
            "needs_background": "light"
          }
        },
        {
          "output_type": "stream",
          "text": [
            "AUC: 76.89%\n"
          ],
          "name": "stdout"
        }
      ]
    },
    {
      "cell_type": "code",
      "metadata": {
        "colab": {
          "base_uri": "https://localhost:8080/",
          "height": 36
        },
        "id": "kFMb6rGNj2Ug",
        "outputId": "cfa01240-f1b4-4470-d76d-9398af81c95c"
      },
      "source": [
        "t = time.time()\n",
        "time.strftime('%Y-%m-%d %H:%M:%S %Z', time.localtime(t))"
      ],
      "execution_count": 28,
      "outputs": [
        {
          "output_type": "execute_result",
          "data": {
            "application/vnd.google.colaboratory.intrinsic+json": {
              "type": "string"
            },
            "text/plain": [
              "'2021-06-22 14:00:54 UTC'"
            ]
          },
          "metadata": {
            "tags": []
          },
          "execution_count": 28
        }
      ]
    },
    {
      "cell_type": "code",
      "metadata": {
        "id": "e-mEgDrQjUzF"
      },
      "source": [
        ""
      ],
      "execution_count": 28,
      "outputs": []
    }
  ]
}