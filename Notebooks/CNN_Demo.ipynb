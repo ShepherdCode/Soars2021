{
 "cells": [
  {
   "cell_type": "markdown",
   "metadata": {
    "id": "nWxac3raPzB4"
   },
   "source": [
    "# CNN Demo\n",
    "TO DO: add a CoLab badge\n",
    "\n",
    "Can a convolutional neural network (CNN) be trained to distinguish RNA\n",
    "from nucleotide composition alone?\n",
    "More specifically, can a CNN learn to classify  \n",
    "AT-rich sequence with the label \"protein coding\"\n",
    "from GC-rich sequence with the label \"non-coding\"?\n",
    "\n",
    "This demo uses an RNA sequence simulator.\n",
    "The simulator strictly follows a frequency histogram with values for A, C, G, T.\n",
    "This is a noise-free simulation.\n",
    "\n",
    "The CNN is almost as simple as can be.\n",
    "It has one trainiable convolution layer (one dimensional) with 8 filters.\n",
    "It has one flatten layer simply to reshape the data.\n",
    "It has a trainable fully connected (dense) output layer with 1 neuron.\n",
    "More sophisticated models would incorporate embedding, pooling, dropout,\n",
    "multiple convolution layers, and multiple dense layers.\n",
    "\n",
    "The training regime is also simple.\n",
    "The model is trained for a fixed number of epochs.\n",
    "More sophisticated training would implement early stopping.\n",
    "\n",
    "This model minimizes loss at 5 epochs and overfits by 10 epochs."
   ]
  },
  {
   "cell_type": "markdown",
   "metadata": {
    "id": "tRkDy1NTPzCF"
   },
   "source": [
    "## Computing Environment Setup"
   ]
  },
  {
   "cell_type": "code",
   "execution_count": 1,
   "metadata": {
    "id": "39R_Ey6TPzCJ"
   },
   "outputs": [],
   "source": [
    "PC_SEQUENCES=2000   # how many protein-coding sequences\n",
    "NC_SEQUENCES=2000   # how many non-coding sequences\n",
    "BASES=55            # how long is each sequence\n",
    "ALPHABET=4          # how many different letters are possible\n",
    "INPUT_SHAPE_2D = (BASES,ALPHABET,1) # Conv2D needs 3D inputs\n",
    "INPUT_SHAPE = (BASES,ALPHABET) # Conv1D needs 2D inputs\n",
    "FILTERS = 8   # how many different patterns the model looks for\n",
    "WIDTH = 3   # how wide each pattern is, in bases\n",
    "STRIDE_2D = (1,1)  # For Conv2D how far in each direction\n",
    "STRIDE = 1 # For Conv1D, how far between pattern matches, in bases\n",
    "EPOCHS=10  # how many times to train on all the data\n",
    "SPLITS=4  # SPLITS=3 means train on 2/3 and validate on 1/3 \n",
    "FOLDS=1  # train the model this many times (must be 1 to SPLITS)\n"
   ]
  },
  {
   "cell_type": "code",
   "execution_count": 2,
   "metadata": {
    "colab": {
     "base_uri": "https://localhost:8080/"
    },
    "id": "ph16HKwFPzCM",
    "outputId": "3ff65497-e21b-4fe3-ad13-6f6ded75db20"
   },
   "outputs": [
    {
     "name": "stdout",
     "output_type": "stream",
     "text": [
      "CoLab not working. On my PC, use relative paths.\n"
     ]
    }
   ],
   "source": [
    "import sys\n",
    "try:\n",
    "    from google.colab import drive\n",
    "    IN_COLAB = True\n",
    "    print(\"On Google CoLab, mount cloud-local file, get our code from GitHub.\")\n",
    "    PATH='/content/drive/'\n",
    "    #drive.mount(PATH,force_remount=True)  # hardly ever need this\n",
    "    #drive.mount(PATH)    # Google will require login credentials\n",
    "    DATAPATH=PATH+'My Drive/data/'  # must end in \"/\"\n",
    "    import requests\n",
    "    r = requests.get('https://raw.githubusercontent.com/ShepherdCode/Soars2021/master/SimTools/RNA_gen.py')\n",
    "    with open('RNA_gen.py', 'w') as f:\n",
    "        f.write(r.text)  # writes to cloud local, delete the file later?\n",
    "    from RNA_gen import *\n",
    "    s = requests.get('https://raw.githubusercontent.com/ShepherdCode/Soars2021/master/LearnTools/RNA_prep.py')\n",
    "    with open('RNA_prep.py', 'w') as f:\n",
    "        f.write(s.text)  # writes to cloud local, delete the file later?\n",
    "    from learn_util import *\n",
    "except:\n",
    "    print(\"CoLab not working. On my PC, use relative paths.\")\n",
    "    IN_COLAB = False\n",
    "    DATAPATH='data/'  # must end in \"/\"\n",
    "    sys.path.append(\"..\") # append parent dir in order to use sibling dirs\n",
    "    from SimTools.RNA_gen import *\n",
    "    from LearnTools.RNA_prep import *\n",
    "\n",
    "MODELPATH=\"BestModel\"  # saved on cloud instance and lost after logout\n",
    "#MODELPATH=DATAPATH+MODELPATH  # saved on Google Drive but requires login\n",
    "\n",
    "if not assert_imported_RNA_gen():\n",
    "    print(\"ERROR: Cannot use RNA_gen.\")"
   ]
  },
  {
   "cell_type": "code",
   "execution_count": 3,
   "metadata": {
    "id": "BzNCeHtiPzCP"
   },
   "outputs": [],
   "source": [
    "from os import listdir\n",
    "import time # datetime\n",
    "import csv\n",
    "from zipfile import ZipFile\n",
    "\n",
    "import numpy as np\n",
    "import pandas as pd\n",
    "from scipy import stats  # mode\n",
    "\n",
    "from sklearn.preprocessing import StandardScaler\n",
    "from sklearn.model_selection import KFold\n",
    "from sklearn.model_selection import cross_val_score\n",
    "\n",
    "from keras.models import Sequential\n",
    "from keras.layers import Dense,Embedding\n",
    "from keras.layers import Conv1D,Conv2D\n",
    "from keras.layers import Flatten,MaxPooling1D,MaxPooling2D\n",
    "from keras.losses import BinaryCrossentropy\n",
    "# tf.keras.losses.BinaryCrossentropy\n",
    "\n",
    "import matplotlib.pyplot as plt\n",
    "from matplotlib import colors\n",
    "mycmap = colors.ListedColormap(['red','blue'])  # list color for label 0 then 1\n",
    "np.set_printoptions(precision=2)\n"
   ]
  },
  {
   "cell_type": "markdown",
   "metadata": {
    "id": "MdYEn_WTPzCS"
   },
   "source": [
    "## Data Preparation"
   ]
  },
  {
   "cell_type": "code",
   "execution_count": 4,
   "metadata": {
    "colab": {
     "base_uri": "https://localhost:8080/",
     "height": 36
    },
    "id": "hfi5Ak1FPzCU",
    "outputId": "23edf877-6ef1-4d34-95e0-7037e5aedba8"
   },
   "outputs": [
    {
     "data": {
      "text/plain": [
       "'2021-05-11 17:46:46 EDT'"
      ]
     },
     "execution_count": 4,
     "metadata": {},
     "output_type": "execute_result"
    }
   ],
   "source": [
    "# print(datetime.datetime.now())\n",
    "t = time.time()\n",
    "time.strftime('%Y-%m-%d %H:%M:%S %Z', time.localtime(t))"
   ]
  },
  {
   "cell_type": "code",
   "execution_count": 5,
   "metadata": {
    "id": "SCs9tmnJPzCX"
   },
   "outputs": [
    {
     "name": "stdout",
     "output_type": "stream",
     "text": [
      "Train on 2000 PC seqs\n",
      "Train on 2000 NC seqs\n"
     ]
    }
   ],
   "source": [
    "# Use code from our SimTools library.\n",
    "def make_generator(seq_len):\n",
    "    cgen = Collection_Generator()  \n",
    "    cgen.get_len_oracle().set_mean(seq_len)\n",
    "    return cgen\n",
    "def make_seqs(cgen,is_pc,train_count,test_count):\n",
    "    freqs = [1,1,1,1]  # the relative frequencies for four nucleotides\n",
    "    if is_pc:\n",
    "        freqs = [2,1,1,2]  # protein-coding has more A and T\n",
    "    else:\n",
    "        pass # non-coding is random uniform\n",
    "    cgen.get_seq_oracle().set_frequencies(freqs)    \n",
    "    train_set = cgen.get_sequences(train_count)\n",
    "    test_set =  cgen.get_sequences(test_count)\n",
    "    return train_set,test_set\n",
    "\n",
    "simulator = make_generator(BASES)\n",
    "pc_train,pc_test = make_seqs(simulator,True, PC_SEQUENCES,PC_SEQUENCES)\n",
    "nc_train,nc_test = make_seqs(simulator,False,NC_SEQUENCES,NC_SEQUENCES)\n",
    "print(\"Train on\",len(pc_train),\"PC seqs\")\n",
    "print(\"Train on\",len(nc_train),\"NC seqs\")"
   ]
  },
  {
   "cell_type": "code",
   "execution_count": 6,
   "metadata": {
    "colab": {
     "base_uri": "https://localhost:8080/"
    },
    "id": "e3JvO3boPzCZ",
    "outputId": "c56dd1cd-2054-467c-f297-7e40e43589a0"
   },
   "outputs": [
    {
     "name": "stdout",
     "output_type": "stream",
     "text": [
      "Assume y=f(X) and we want to learn f().\n",
      "Each input X is a sequence of A, C, G, or T. Use upper case for vector variables.\n",
      "Each output label y is a single number 0 to 1. Use lower case for scalar variables.\n",
      "X shape: (4000, 55, 4) includes PC and NC sequences shuffled.\n",
      "y shape: (4000,) includes 0s and 1s that match specific sequences.\n"
     ]
    }
   ],
   "source": [
    "# Use code from our LearnTools library.\n",
    "X,y = prepare_inputs_len_x_alphabet(pc_train,nc_train,ALPHABET)\n",
    "print(\"Assume y=f(X) and we want to learn f().\")\n",
    "print(\"Each input X is a sequence of A, C, G, or T. Use upper case for vector variables.\")\n",
    "print(\"Each output label y is a single number 0 to 1. Use lower case for scalar variables.\")\n",
    "print(\"X shape:\",X.shape, \"includes PC and NC sequences shuffled.\")\n",
    "print(\"y shape:\",y.shape, \"includes 0s and 1s that match specific sequences.\")\n"
   ]
  },
  {
   "cell_type": "markdown",
   "metadata": {
    "id": "3etr3Sh6PzCb"
   },
   "source": [
    "## Model build, train, save"
   ]
  },
  {
   "cell_type": "code",
   "execution_count": 7,
   "metadata": {
    "colab": {
     "base_uri": "https://localhost:8080/"
    },
    "id": "FVwLXvUHPzCd",
    "outputId": "4e3c750e-63aa-463c-ea21-022e2f829038"
   },
   "outputs": [
    {
     "name": "stdout",
     "output_type": "stream",
     "text": [
      "make_DNN\n",
      "input shape: (55, 4)\n",
      "Model: \"sequential\"\n",
      "_________________________________________________________________\n",
      "Layer (type)                 Output Shape              Param #   \n",
      "=================================================================\n",
      "conv1d (Conv1D)              (None, 55, 8)             104       \n",
      "_________________________________________________________________\n",
      "flatten (Flatten)            (None, 440)               0         \n",
      "_________________________________________________________________\n",
      "dense (Dense)                (None, 1)                 441       \n",
      "=================================================================\n",
      "Total params: 545\n",
      "Trainable params: 545\n",
      "Non-trainable params: 0\n",
      "_________________________________________________________________\n",
      "None\n"
     ]
    }
   ],
   "source": [
    "def make_DNN():\n",
    "    print(\"make_DNN\")\n",
    "    print(\"input shape:\",INPUT_SHAPE)\n",
    "    dnn = Sequential()\n",
    "    #dnn.add(Embedding(input_dim=4,output_dim=4)) \n",
    "    dnn.add(Conv1D(filters=FILTERS,kernel_size=WIDTH,strides=STRIDE,\n",
    "                  padding=\"same\",input_shape=INPUT_SHAPE))\n",
    "    # Data shape: [SAMPLES,BASES,FILTERS]\n",
    "    #dnn.add(MaxPooling1D())\n",
    "    dnn.add(Flatten())\n",
    "    # Data shape: [SAMPLES,BASES*FILTERS]\n",
    "    dnn.add(Dense(1,activation=\"sigmoid\",dtype=np.float32))   \n",
    "    dnn.compile(optimizer='adam',\n",
    "                loss=BinaryCrossentropy(from_logits=False),\n",
    "                metrics=['accuracy'])   # add to default metrics=loss\n",
    "    dnn.build(input_shape=INPUT_SHAPE)\n",
    "    #ln_rate = tf.keras.optimizers.Adam(learning_rate = LN_RATE)\n",
    "    #bc=tf.keras.losses.BinaryCrossentropy(from_logits=False)\n",
    "    #model.compile(loss=bc, optimizer=ln_rate, metrics=[\"accuracy\"])\n",
    "    return dnn\n",
    "model = make_DNN()\n",
    "print(model.summary())"
   ]
  },
  {
   "cell_type": "code",
   "execution_count": 8,
   "metadata": {
    "id": "o81jvk7jPzCh"
   },
   "outputs": [],
   "source": [
    "from keras.callbacks import ModelCheckpoint\n",
    "def do_cross_validation(X,y):\n",
    "    cv_scores = []\n",
    "    fold=0\n",
    "    mycallbacks = [ModelCheckpoint(\n",
    "        filepath=MODELPATH, save_best_only=True, \n",
    "        monitor='val_accuracy', mode='max')]   \n",
    "    splitter = KFold(n_splits=SPLITS)  # this does not shuffle\n",
    "    for train_index,valid_index in splitter.split(X):\n",
    "        if fold < FOLDS:\n",
    "            fold += 1\n",
    "            X_train=X[train_index] # inputs for training\n",
    "            y_train=y[train_index] # labels for training\n",
    "            X_valid=X[valid_index] # inputs for validation\n",
    "            y_valid=y[valid_index] # labels for validation\n",
    "            print(\"MODEL\")\n",
    "            # Call constructor on each CV. Else, continually improves the same model.\n",
    "            model = model = make_DNN()\n",
    "            print(\"FIT\")  # model.fit() implements learning\n",
    "            start_time=time.time()\n",
    "            history=model.fit(X_train, y_train, \n",
    "                    epochs=EPOCHS, \n",
    "                    verbose=1,  # ascii art while learning\n",
    "                    callbacks=mycallbacks,   # called at end of each epoch\n",
    "                    validation_data=(X_valid,y_valid))\n",
    "            end_time=time.time()\n",
    "            elapsed_time=(end_time-start_time)                        \n",
    "            print(\"Fold %d, %d epochs, %d sec\"%(fold,EPOCHS,elapsed_time))\n",
    "            # print(history.history.keys())  # all these keys will be shown in figure\n",
    "            pd.DataFrame(history.history).plot(figsize=(8,5))\n",
    "            plt.grid(True)\n",
    "            plt.gca().set_ylim(0,1) # any losses > 1 will be off the scale\n",
    "            plt.show()\n"
   ]
  },
  {
   "cell_type": "code",
   "execution_count": 9,
   "metadata": {
    "colab": {
     "base_uri": "https://localhost:8080/",
     "height": 828
    },
    "id": "m_I51k3UPzCj",
    "outputId": "079f83f2-e51d-4cb1-bdcb-6a0aee8cd72d"
   },
   "outputs": [
    {
     "name": "stdout",
     "output_type": "stream",
     "text": [
      "MODEL\n",
      "make_DNN\n",
      "input shape: (55, 4)\n",
      "FIT\n",
      "Epoch 1/10\n",
      "94/94 [==============================] - 2s 13ms/step - loss: 0.6663 - accuracy: 0.5792 - val_loss: 0.4551 - val_accuracy: 0.8520\n",
      "INFO:tensorflow:Assets written to: BestModel/assets\n",
      "Epoch 2/10\n",
      "94/94 [==============================] - 0s 3ms/step - loss: 0.4160 - accuracy: 0.8673 - val_loss: 0.2723 - val_accuracy: 0.9090\n",
      "INFO:tensorflow:Assets written to: BestModel/assets\n",
      "Epoch 3/10\n",
      "94/94 [==============================] - 0s 4ms/step - loss: 0.2774 - accuracy: 0.8945 - val_loss: 0.2269 - val_accuracy: 0.9150\n",
      "INFO:tensorflow:Assets written to: BestModel/assets\n",
      "Epoch 4/10\n",
      "94/94 [==============================] - 0s 3ms/step - loss: 0.2628 - accuracy: 0.8930 - val_loss: 0.2121 - val_accuracy: 0.9180\n",
      "INFO:tensorflow:Assets written to: BestModel/assets\n",
      "Epoch 5/10\n",
      "94/94 [==============================] - 0s 3ms/step - loss: 0.2507 - accuracy: 0.8942 - val_loss: 0.2077 - val_accuracy: 0.9170\n",
      "Epoch 6/10\n",
      "94/94 [==============================] - 0s 4ms/step - loss: 0.2307 - accuracy: 0.9045 - val_loss: 0.2072 - val_accuracy: 0.9170\n",
      "Epoch 7/10\n",
      "94/94 [==============================] - 0s 3ms/step - loss: 0.2358 - accuracy: 0.8987 - val_loss: 0.2040 - val_accuracy: 0.9190\n",
      "INFO:tensorflow:Assets written to: BestModel/assets\n",
      "Epoch 8/10\n",
      "94/94 [==============================] - 0s 3ms/step - loss: 0.2098 - accuracy: 0.9201 - val_loss: 0.2085 - val_accuracy: 0.9160\n",
      "Epoch 9/10\n",
      "94/94 [==============================] - 0s 4ms/step - loss: 0.2177 - accuracy: 0.9069 - val_loss: 0.2027 - val_accuracy: 0.9240\n",
      "INFO:tensorflow:Assets written to: BestModel/assets\n",
      "Epoch 10/10\n",
      "94/94 [==============================] - 0s 5ms/step - loss: 0.2279 - accuracy: 0.9084 - val_loss: 0.2032 - val_accuracy: 0.9190\n",
      "Fold 1, 10 epochs, 9 sec\n"
     ]
    },
    {
     "data": {
      "image/png": "[encoded data removed]",
      "text/plain": [
       "<Figure size 576x360 with 1 Axes>"
      ]
     },
     "metadata": {
      "needs_background": "light"
     },
     "output_type": "display_data"
    }
   ],
   "source": [
    "do_cross_validation(X,y)"
   ]
  },
  {
   "cell_type": "markdown",
   "metadata": {},
   "source": [
    "## Test"
   ]
  },
  {
   "cell_type": "code",
   "execution_count": 13,
   "metadata": {
    "id": "U39jidvAPzCl"
   },
   "outputs": [
    {
     "name": "stdout",
     "output_type": "stream",
     "text": [
      "The best model parameters were saved during cross-validation.\n",
      "Best was defined as maximum validation accuracy at end of any epoch.\n",
      "Now re-load the best model and test it on previously unseen data.\n",
      "Test on 2000 PC seqs\n",
      "Test on 2000 NC seqs\n",
      "accuracy: 89.07%\n"
     ]
    }
   ],
   "source": [
    "from keras.models import load_model\n",
    "X,y = prepare_inputs_len_x_alphabet(pc_test,nc_test,ALPHABET)\n",
    "best_model=load_model(MODELPATH)\n",
    "scores = best_model.evaluate(X, y, verbose=0)\n",
    "print(\"The best model parameters were saved during cross-validation.\")\n",
    "print(\"Best was defined as maximum validation accuracy at end of any epoch.\")\n",
    "print(\"Now re-load the best model and test it on previously unseen data.\")\n",
    "print(\"Test on\",len(pc_test),\"PC seqs\")\n",
    "print(\"Test on\",len(nc_test),\"NC seqs\")\n",
    "print(\"%s: %.2f%%\" % (best_model.metrics_names[1], scores[1]*100))\n"
   ]
  },
  {
   "cell_type": "code",
   "execution_count": 17,
   "metadata": {},
   "outputs": [
    {
     "data": {
      "image/png": "[encoded data removed]",
      "text/plain": [
       "<Figure size 432x288 with 1 Axes>"
      ]
     },
     "metadata": {
      "needs_background": "light"
     },
     "output_type": "display_data"
    }
   ],
   "source": [
    "from sklearn.metrics import roc_curve\n",
    "from sklearn.metrics import roc_auc_score\n",
    "ns_probs = [0 for _ in range(len(y))]\n",
    "bm_probs = best_model.predict(X)\n",
    "ns_auc = roc_auc_score(y, ns_probs)\n",
    "bm_auc = roc_auc_score(y, bm_probs)\n",
    "ns_fpr, ns_tpr, _ = roc_curve(y, ns_probs)\n",
    "bm_fpr, bm_tpr, _ = roc_curve(y, bm_probs)\n",
    "plt.plot(ns_fpr, ns_tpr, linestyle='--', label='Guess, auc=%.4f'%ns_auc)\n",
    "plt.plot(bm_fpr, bm_tpr, marker='.', label='Model, auc=%.4f'%bm_auc)\n",
    "plt.title('ROC')\n",
    "plt.xlabel('False Positive Rate')\n",
    "plt.ylabel('True Positive Rate')\n",
    "plt.legend()\n",
    "plt.show()\n"
   ]
  },
  {
   "cell_type": "code",
   "execution_count": null,
   "metadata": {},
   "outputs": [],
   "source": []
  }
 ],
 "metadata": {
  "colab": {
   "collapsed_sections": [],
   "name": "CNN_Demo.ipynb",
   "provenance": []
  },
  "kernelspec": {
   "display_name": "Python 3",
   "language": "python",
   "name": "python3"
  },
  "language_info": {
   "codemirror_mode": {
    "name": "ipython",
    "version": 3
   },
   "file_extension": ".py",
   "mimetype": "text/x-python",
   "name": "python",
   "nbconvert_exporter": "python",
   "pygments_lexer": "ipython3",
   "version": "3.8.3"
  }
 },
 "nbformat": 4,
 "nbformat_minor": 1
}
