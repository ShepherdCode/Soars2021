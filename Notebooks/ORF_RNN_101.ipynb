{
 "cells": [
  {
   "cell_type": "markdown",
   "metadata": {
    "id": "0asdcdunj2Tx"
   },
   "source": [
    "# ORF recognition by LSTM\n",
    "LSTM was incapable of ORF recognition on 1000 bp sequences. Try smaller.\n"
   ]
  },
  {
   "cell_type": "code",
   "execution_count": 1,
   "metadata": {
    "colab": {
     "base_uri": "https://localhost:8080/",
     "height": 36
    },
    "id": "QP1VTRNQj2UO",
    "outputId": "f98aa94a-c8b8-4558-b32d-c33b078a540e"
   },
   "outputs": [
    {
     "data": {
      "application/vnd.google.colaboratory.intrinsic+json": {
       "type": "string"
      },
      "text/plain": [
       "'2021-05-19 10:16:41 UTC'"
      ]
     },
     "execution_count": 1,
     "metadata": {
      "tags": []
     },
     "output_type": "execute_result"
    }
   ],
   "source": [
    "import time \n",
    "t = time.time()\n",
    "time.strftime('%Y-%m-%d %H:%M:%S %Z', time.localtime(t))"
   ]
  },
  {
   "cell_type": "code",
   "execution_count": 2,
   "metadata": {
    "id": "Nhz4GKonj2T_"
   },
   "outputs": [],
   "source": [
    "PC_SEQUENCES=20000   # how many protein-coding sequences\n",
    "NC_SEQUENCES=20000   # how many non-coding sequences\n",
    "PC_TESTS=1000\n",
    "NC_TESTS=1000\n",
    "BASES=100            # how long is each sequence\n",
    "ALPHABET=4          # how many different letters are possible\n",
    "INPUT_SHAPE_2D = (BASES,ALPHABET,1) # Conv2D needs 3D inputs\n",
    "INPUT_SHAPE = (BASES,ALPHABET) # Conv1D needs 2D inputs\n",
    "NEURONS = 32\n",
    "#DROP_RATE = 0.2\n",
    "EPOCHS=50  # how many times to train on all the data\n",
    "SPLITS=5  # SPLITS=3 means train on 2/3 and validate on 1/3 \n",
    "FOLDS=5  # train the model this many times (range 1 to SPLITS)"
   ]
  },
  {
   "cell_type": "code",
   "execution_count": 3,
   "metadata": {
    "colab": {
     "base_uri": "https://localhost:8080/"
    },
    "id": "lr7q90rxj2UE",
    "outputId": "a37650f0-df59-4546-82fa-e195ac090f54"
   },
   "outputs": [
    {
     "name": "stdout",
     "output_type": "stream",
     "text": [
      "On Google CoLab, mount cloud-local file, get our code from GitHub.\n"
     ]
    }
   ],
   "source": [
    "import sys\n",
    "try:\n",
    "    from google.colab import drive\n",
    "    IN_COLAB = True\n",
    "    print(\"On Google CoLab, mount cloud-local file, get our code from GitHub.\")\n",
    "    PATH='/content/drive/'\n",
    "    #drive.mount(PATH,force_remount=True)  # hardly ever need this\n",
    "    #drive.mount(PATH)    # Google will require login credentials\n",
    "    DATAPATH=PATH+'My Drive/data/'  # must end in \"/\"\n",
    "    import requests\n",
    "    r = requests.get('https://raw.githubusercontent.com/ShepherdCode/Soars2021/master/SimTools/RNA_gen.py')\n",
    "    with open('RNA_gen.py', 'w') as f:\n",
    "        f.write(r.text)  \n",
    "    from RNA_gen import *\n",
    "    r = requests.get('https://raw.githubusercontent.com/ShepherdCode/Soars2021/master/SimTools/RNA_describe.py')\n",
    "    with open('RNA_describe.py', 'w') as f:\n",
    "        f.write(r.text)  \n",
    "    from RNA_describe import *\n",
    "    r = requests.get('https://raw.githubusercontent.com/ShepherdCode/Soars2021/master/SimTools/RNA_prep.py')\n",
    "    with open('RNA_prep.py', 'w') as f:\n",
    "        f.write(r.text)  \n",
    "    from RNA_prep import *\n",
    "except:\n",
    "    print(\"CoLab not working. On my PC, use relative paths.\")\n",
    "    IN_COLAB = False\n",
    "    DATAPATH='data/'  # must end in \"/\"\n",
    "    sys.path.append(\"..\") # append parent dir in order to use sibling dirs\n",
    "    from SimTools.RNA_gen import *\n",
    "    from SimTools.RNA_describe import *\n",
    "    from SimTools.RNA_prep import *\n",
    "\n",
    "MODELPATH=\"BestModel\"  # saved on cloud instance and lost after logout\n",
    "#MODELPATH=DATAPATH+MODELPATH  # saved on Google Drive but requires login\n",
    "\n",
    "if not assert_imported_RNA_gen():\n",
    "    print(\"ERROR: Cannot use RNA_gen.\")\n",
    "if not assert_imported_RNA_prep():\n",
    "    print(\"ERROR: Cannot use RNA_prep.\")"
   ]
  },
  {
   "cell_type": "code",
   "execution_count": 4,
   "metadata": {
    "id": "EGDXH8Uwj2UM"
   },
   "outputs": [],
   "source": [
    "from os import listdir\n",
    "import csv\n",
    "from zipfile import ZipFile\n",
    "\n",
    "import numpy as np\n",
    "import pandas as pd\n",
    "from scipy import stats  # mode\n",
    "\n",
    "from sklearn.preprocessing import StandardScaler\n",
    "from sklearn.model_selection import KFold\n",
    "from sklearn.model_selection import cross_val_score\n",
    "\n",
    "from keras.models import Sequential\n",
    "from keras.layers import Dense,Embedding,Dropout\n",
    "from keras.layers import LSTM,GRU,SimpleRNN\n",
    "from keras.losses import BinaryCrossentropy\n",
    "# tf.keras.losses.BinaryCrossentropy\n",
    "\n",
    "import matplotlib.pyplot as plt\n",
    "from matplotlib import colors\n",
    "mycmap = colors.ListedColormap(['red','blue'])  # list color for label 0 then 1\n",
    "np.set_printoptions(precision=2)\n"
   ]
  },
  {
   "cell_type": "code",
   "execution_count": 5,
   "metadata": {
    "colab": {
     "base_uri": "https://localhost:8080/"
    },
    "id": "Q0FetlLPj2UQ",
    "outputId": "3a5caa6e-027e-472e-e554-1b2428a742af"
   },
   "outputs": [
    {
     "name": "stdout",
     "output_type": "stream",
     "text": [
      "Train on 20000 PC seqs\n",
      "Facts array: <class 'numpy.ndarray'>\n",
      "Facts array: (20000, 3)\n",
      "mean 5' UTR length: 23 +/- 7\n",
      "mean    ORF length: 51 +/- 9\n",
      "mean 3' UTR length: 25 +/- 5\n",
      "Train on 20000 NC seqs\n",
      "Facts array: <class 'numpy.ndarray'>\n",
      "Facts array: (20000, 3)\n",
      "mean 5' UTR length: 40 +/- 18\n",
      "mean    ORF length: 16 +/- 22\n",
      "mean 3' UTR length: 42 +/- 18\n"
     ]
    }
   ],
   "source": [
    "# Use code from our SimTools library.\n",
    "def make_generators(seq_len):\n",
    "    pcgen = Collection_Generator()  \n",
    "    pcgen.get_len_oracle().set_mean(seq_len)\n",
    "    pcgen.set_seq_oracle(Transcript_Oracle())\n",
    "    ncgen = Collection_Generator()  \n",
    "    ncgen.get_len_oracle().set_mean(seq_len)\n",
    "    return pcgen,ncgen\n",
    "def get_the_facts(seqs):\n",
    "    rd = RNA_describer()\n",
    "    facts = rd.get_three_lengths(seqs)\n",
    "    facts_ary = np.asarray(facts) # 5000 rows, 3 columns \n",
    "    print(\"Facts array:\",type(facts_ary))\n",
    "    print(\"Facts array:\",facts_ary.shape)\n",
    "    # Get the mean of each column\n",
    "    mean_5utr, mean_orf, mean_3utr = np.mean(facts_ary,axis=0)\n",
    "    std_5utr, std_orf, std_3utr = np.std(facts_ary,axis=0)\n",
    "    print(\"mean 5' UTR length:\",int(mean_5utr),\"+/-\",int(std_5utr))\n",
    "    print(\"mean    ORF length:\",int(mean_orf), \"+/-\",int(std_orf))\n",
    "    print(\"mean 3' UTR length:\",int(mean_3utr),\"+/-\",int(std_3utr))\n",
    "\n",
    "pc_sim,nc_sim = make_generators(BASES)\n",
    "pc_train = pc_sim.get_sequences(PC_SEQUENCES)\n",
    "nc_train = nc_sim.get_sequences(NC_SEQUENCES)\n",
    "print(\"Train on\",len(pc_train),\"PC seqs\")\n",
    "get_the_facts(pc_train)\n",
    "print(\"Train on\",len(nc_train),\"NC seqs\")\n",
    "get_the_facts(nc_train)"
   ]
  },
  {
   "cell_type": "code",
   "execution_count": 6,
   "metadata": {
    "colab": {
     "base_uri": "https://localhost:8080/"
    },
    "id": "CIpTrnH6j2US",
    "outputId": "67c6a53d-184d-445c-9bee-54b4eb4fb494"
   },
   "outputs": [
    {
     "name": "stdout",
     "output_type": "stream",
     "text": [
      "Data ready.\n"
     ]
    }
   ],
   "source": [
    "# Use code from our SimTools library.\n",
    "X,y = prepare_inputs_len_x_alphabet(pc_train,nc_train,ALPHABET) # shuffles\n",
    "print(\"Data ready.\")"
   ]
  },
  {
   "cell_type": "code",
   "execution_count": 7,
   "metadata": {
    "colab": {
     "base_uri": "https://localhost:8080/"
    },
    "id": "7NvrVU8ij2UU",
    "outputId": "78b5f838-df33-4395-dba5-4ce820696258"
   },
   "outputs": [
    {
     "name": "stdout",
     "output_type": "stream",
     "text": [
      "make_DNN\n",
      "input shape: (100, 4)\n",
      "Model: \"sequential\"\n",
      "_________________________________________________________________\n",
      "Layer (type)                 Output Shape              Param #   \n",
      "=================================================================\n",
      "simple_rnn (SimpleRNN)       (None, 100, 32)           1184      \n",
      "_________________________________________________________________\n",
      "simple_rnn_1 (SimpleRNN)     (None, 32)                2080      \n",
      "_________________________________________________________________\n",
      "dense (Dense)                (None, 32)                1056      \n",
      "_________________________________________________________________\n",
      "dense_1 (Dense)              (None, 1)                 33        \n",
      "=================================================================\n",
      "Total params: 4,353\n",
      "Trainable params: 4,353\n",
      "Non-trainable params: 0\n",
      "_________________________________________________________________\n",
      "None\n"
     ]
    }
   ],
   "source": [
    "def make_DNN():\n",
    "    print(\"make_DNN\")\n",
    "    print(\"input shape:\",INPUT_SHAPE)\n",
    "    dnn = Sequential()\n",
    "    #dnn.add(Embedding(input_dim=ALPHABET, output_dim=ALPHABET))\n",
    "        #VOCABULARY_SIZE, EMBED_DIMEN, input_length=1000, input_length=1000, mask_zero=True)\n",
    "        #input_dim=[None,VOCABULARY_SIZE], output_dim=EMBED_DIMEN, mask_zero=True)\n",
    "    dnn.add(SimpleRNN(NEURONS,return_sequences=True,input_shape=INPUT_SHAPE))\n",
    "    dnn.add(SimpleRNN(NEURONS,return_sequences=False)) \n",
    "    dnn.add(Dense(NEURONS,activation=\"sigmoid\",dtype=np.float32))   \n",
    "    dnn.add(Dense(1,activation=\"sigmoid\",dtype=np.float32))   \n",
    "    dnn.compile(optimizer='adam',\n",
    "                loss=BinaryCrossentropy(from_logits=False),\n",
    "                metrics=['accuracy'])   # add to default metrics=loss\n",
    "    dnn.build() # input_shape=INPUT_SHAPE)\n",
    "    #ln_rate = tf.keras.optimizers.Adam(learning_rate = LN_RATE)\n",
    "    #bc=tf.keras.losses.BinaryCrossentropy(from_logits=False)\n",
    "    #model.compile(loss=bc, optimizer=ln_rate, metrics=[\"accuracy\"])\n",
    "    return dnn\n",
    "model = make_DNN()\n",
    "print(model.summary())"
   ]
  },
  {
   "cell_type": "code",
   "execution_count": 8,
   "metadata": {
    "id": "nlVF0hR3j2UW"
   },
   "outputs": [],
   "source": [
    "from keras.callbacks import ModelCheckpoint\n",
    "def do_cross_validation(X,y):\n",
    "    cv_scores = []\n",
    "    fold=0\n",
    "    mycallbacks = [ModelCheckpoint(\n",
    "        filepath=MODELPATH, save_best_only=True, \n",
    "        monitor='val_accuracy', mode='max')]   \n",
    "    splitter = KFold(n_splits=SPLITS)  # this does not shuffle\n",
    "    for train_index,valid_index in splitter.split(X):\n",
    "        if fold < FOLDS:\n",
    "            fold += 1\n",
    "            X_train=X[train_index] # inputs for training\n",
    "            y_train=y[train_index] # labels for training\n",
    "            X_valid=X[valid_index] # inputs for validation\n",
    "            y_valid=y[valid_index] # labels for validation\n",
    "            print(\"MODEL\")\n",
    "            # Call constructor on each CV. Else, continually improves the same model.\n",
    "            model = model = make_DNN()\n",
    "            print(\"FIT\")  # model.fit() implements learning\n",
    "            start_time=time.time()\n",
    "            history=model.fit(X_train, y_train, \n",
    "                    epochs=EPOCHS, \n",
    "                    verbose=1,  # ascii art while learning\n",
    "                    callbacks=mycallbacks,   # called at end of each epoch\n",
    "                    validation_data=(X_valid,y_valid))\n",
    "            end_time=time.time()\n",
    "            elapsed_time=(end_time-start_time)                        \n",
    "            print(\"Fold %d, %d epochs, %d sec\"%(fold,EPOCHS,elapsed_time))\n",
    "            # print(history.history.keys())  # all these keys will be shown in figure\n",
    "            pd.DataFrame(history.history).plot(figsize=(8,5))\n",
    "            plt.grid(True)\n",
    "            plt.gca().set_ylim(0,1) # any losses > 1 will be off the scale\n",
    "            plt.show()\n"
   ]
  },
  {
   "cell_type": "code",
   "execution_count": 9,
   "metadata": {
    "colab": {
     "base_uri": "https://localhost:8080/",
     "height": 1000
    },
    "id": "9Ggt4EsSj2UY",
    "outputId": "1a5b289e-f98f-4d94-cfe1-00e0d88e3791"
   },
   "outputs": [
    {
     "name": "stdout",
     "output_type": "stream",
     "text": [
      "MODEL\n",
      "make_DNN\n",
      "input shape: (100, 4)\n",
      "FIT\n",
      "Epoch 1/50\n",
      "1000/1000 [==============================] - 115s 112ms/step - loss: 0.6951 - accuracy: 0.5050 - val_loss: 0.6957 - val_accuracy: 0.4996\n",
      "INFO:tensorflow:Assets written to: BestModel/assets\n",
      "Epoch 2/50\n",
      "1000/1000 [==============================] - 111s 111ms/step - loss: 0.6938 - accuracy: 0.5120 - val_loss: 0.6961 - val_accuracy: 0.4961\n",
      "Epoch 3/50\n",
      "1000/1000 [==============================] - 111s 111ms/step - loss: 0.6948 - accuracy: 0.4952 - val_loss: 0.6936 - val_accuracy: 0.5058\n",
      "INFO:tensorflow:Assets written to: BestModel/assets\n",
      "Epoch 4/50\n",
      "1000/1000 [==============================] - 111s 111ms/step - loss: 0.6941 - accuracy: 0.4970 - val_loss: 0.6933 - val_accuracy: 0.5051\n",
      "Epoch 5/50\n",
      "1000/1000 [==============================] - 111s 111ms/step - loss: 0.6940 - accuracy: 0.4964 - val_loss: 0.6948 - val_accuracy: 0.4981\n",
      "Epoch 6/50\n",
      "1000/1000 [==============================] - 111s 111ms/step - loss: 0.6947 - accuracy: 0.4984 - val_loss: 0.6948 - val_accuracy: 0.4997\n",
      "Epoch 7/50\n",
      "1000/1000 [==============================] - 111s 111ms/step - loss: 0.6945 - accuracy: 0.4991 - val_loss: 0.6939 - val_accuracy: 0.4952\n",
      "Epoch 8/50\n",
      "1000/1000 [==============================] - 111s 111ms/step - loss: 0.6942 - accuracy: 0.5040 - val_loss: 0.6939 - val_accuracy: 0.5040\n",
      "Epoch 9/50\n",
      "1000/1000 [==============================] - 111s 111ms/step - loss: 0.6942 - accuracy: 0.4989 - val_loss: 0.6948 - val_accuracy: 0.5023\n",
      "Epoch 10/50\n",
      "1000/1000 [==============================] - 110s 110ms/step - loss: 0.6938 - accuracy: 0.5038 - val_loss: 0.6937 - val_accuracy: 0.4983\n",
      "Epoch 11/50\n",
      "1000/1000 [==============================] - 111s 111ms/step - loss: 0.6937 - accuracy: 0.5058 - val_loss: 0.6937 - val_accuracy: 0.4991\n",
      "Epoch 12/50\n",
      "1000/1000 [==============================] - 110s 110ms/step - loss: 0.6936 - accuracy: 0.5038 - val_loss: 0.6943 - val_accuracy: 0.4956\n",
      "Epoch 13/50\n",
      "1000/1000 [==============================] - 111s 111ms/step - loss: 0.6943 - accuracy: 0.5039 - val_loss: 0.6948 - val_accuracy: 0.4950\n",
      "Epoch 14/50\n",
      "1000/1000 [==============================] - 111s 111ms/step - loss: 0.6946 - accuracy: 0.4981 - val_loss: 0.6973 - val_accuracy: 0.4991\n",
      "Epoch 15/50\n",
      "1000/1000 [==============================] - 111s 111ms/step - loss: 0.6946 - accuracy: 0.4992 - val_loss: 0.6957 - val_accuracy: 0.5001\n",
      "Epoch 16/50\n",
      "1000/1000 [==============================] - 112s 112ms/step - loss: 0.6942 - accuracy: 0.4979 - val_loss: 0.6936 - val_accuracy: 0.5027\n",
      "Epoch 17/50\n",
      "1000/1000 [==============================] - 111s 111ms/step - loss: 0.6940 - accuracy: 0.5042 - val_loss: 0.6944 - val_accuracy: 0.4963\n",
      "Epoch 18/50\n",
      "1000/1000 [==============================] - 111s 111ms/step - loss: 0.6948 - accuracy: 0.4970 - val_loss: 0.6947 - val_accuracy: 0.5026\n",
      "Epoch 19/50\n",
      "1000/1000 [==============================] - 110s 110ms/step - loss: 0.6941 - accuracy: 0.5023 - val_loss: 0.6932 - val_accuracy: 0.5042\n",
      "Epoch 20/50\n",
      "1000/1000 [==============================] - 109s 109ms/step - loss: 0.6941 - accuracy: 0.4996 - val_loss: 0.6949 - val_accuracy: 0.4981\n",
      "Epoch 21/50\n",
      "1000/1000 [==============================] - 114s 114ms/step - loss: 0.6944 - accuracy: 0.4993 - val_loss: 0.6936 - val_accuracy: 0.5011\n",
      "Epoch 22/50\n",
      "1000/1000 [==============================] - 113s 113ms/step - loss: 0.6943 - accuracy: 0.4951 - val_loss: 0.6937 - val_accuracy: 0.5008\n",
      "Epoch 23/50\n",
      "1000/1000 [==============================] - 113s 113ms/step - loss: 0.6940 - accuracy: 0.4997 - val_loss: 0.6936 - val_accuracy: 0.5016\n",
      "Epoch 24/50\n",
      "1000/1000 [==============================] - 111s 111ms/step - loss: 0.6940 - accuracy: 0.4987 - val_loss: 0.6945 - val_accuracy: 0.4981\n",
      "Epoch 25/50\n",
      "1000/1000 [==============================] - 111s 111ms/step - loss: 0.6940 - accuracy: 0.5012 - val_loss: 0.6938 - val_accuracy: 0.4999\n",
      "Epoch 26/50\n",
      "1000/1000 [==============================] - 110s 110ms/step - loss: 0.6941 - accuracy: 0.4967 - val_loss: 0.6939 - val_accuracy: 0.5045\n",
      "Epoch 27/50\n",
      "1000/1000 [==============================] - 107s 107ms/step - loss: 0.6940 - accuracy: 0.4994 - val_loss: 0.6940 - val_accuracy: 0.4976\n",
      "Epoch 28/50\n",
      "1000/1000 [==============================] - 109s 109ms/step - loss: 0.6940 - accuracy: 0.4996 - val_loss: 0.6944 - val_accuracy: 0.5001\n",
      "Epoch 29/50\n",
      "1000/1000 [==============================] - 112s 112ms/step - loss: 0.6941 - accuracy: 0.4964 - val_loss: 0.6945 - val_accuracy: 0.4965\n",
      "Epoch 30/50\n",
      "1000/1000 [==============================] - 113s 113ms/step - loss: 0.6940 - accuracy: 0.5020 - val_loss: 0.6936 - val_accuracy: 0.4978\n",
      "Epoch 31/50\n",
      "1000/1000 [==============================] - 113s 113ms/step - loss: 0.6937 - accuracy: 0.5053 - val_loss: 0.6932 - val_accuracy: 0.5026\n",
      "Epoch 32/50\n",
      "1000/1000 [==============================] - 112s 112ms/step - loss: 0.6941 - accuracy: 0.4995 - val_loss: 0.6933 - val_accuracy: 0.4954\n",
      "Epoch 33/50\n",
      "1000/1000 [==============================] - 113s 113ms/step - loss: 0.6936 - accuracy: 0.4996 - val_loss: 0.6932 - val_accuracy: 0.5023\n",
      "Epoch 34/50\n",
      "1000/1000 [==============================] - 113s 113ms/step - loss: 0.6940 - accuracy: 0.5010 - val_loss: 0.6948 - val_accuracy: 0.4991\n",
      "Epoch 35/50\n",
      "1000/1000 [==============================] - 112s 112ms/step - loss: 0.6939 - accuracy: 0.4979 - val_loss: 0.6935 - val_accuracy: 0.5021\n",
      "Epoch 36/50\n",
      "1000/1000 [==============================] - 114s 114ms/step - loss: 0.6939 - accuracy: 0.4990 - val_loss: 0.6945 - val_accuracy: 0.4979\n",
      "Epoch 37/50\n",
      "1000/1000 [==============================] - 113s 113ms/step - loss: 0.6941 - accuracy: 0.4929 - val_loss: 0.6942 - val_accuracy: 0.5001\n",
      "Epoch 38/50\n",
      "1000/1000 [==============================] - 114s 114ms/step - loss: 0.6939 - accuracy: 0.4946 - val_loss: 0.6932 - val_accuracy: 0.5021\n",
      "Epoch 39/50\n",
      "1000/1000 [==============================] - 114s 114ms/step - loss: 0.6934 - accuracy: 0.5077 - val_loss: 0.6936 - val_accuracy: 0.5029\n",
      "Epoch 40/50\n",
      "1000/1000 [==============================] - 114s 114ms/step - loss: 0.6940 - accuracy: 0.5035 - val_loss: 0.6933 - val_accuracy: 0.4974\n",
      "Epoch 41/50\n",
      "1000/1000 [==============================] - 114s 114ms/step - loss: 0.6937 - accuracy: 0.5065 - val_loss: 0.6934 - val_accuracy: 0.5026\n",
      "Epoch 42/50\n",
      "1000/1000 [==============================] - 114s 114ms/step - loss: 0.6939 - accuracy: 0.4972 - val_loss: 0.6934 - val_accuracy: 0.5031\n",
      "Epoch 43/50\n",
      "1000/1000 [==============================] - 114s 114ms/step - loss: 0.6937 - accuracy: 0.4997 - val_loss: 0.6940 - val_accuracy: 0.5001\n",
      "Epoch 44/50\n",
      "1000/1000 [==============================] - 115s 115ms/step - loss: 0.6937 - accuracy: 0.5034 - val_loss: 0.6933 - val_accuracy: 0.4949\n",
      "Epoch 45/50\n",
      "1000/1000 [==============================] - 114s 114ms/step - loss: 0.6936 - accuracy: 0.5013 - val_loss: 0.6938 - val_accuracy: 0.4959\n",
      "Epoch 46/50\n",
      "1000/1000 [==============================] - 114s 114ms/step - loss: 0.6936 - accuracy: 0.4995 - val_loss: 0.6934 - val_accuracy: 0.5040\n",
      "Epoch 47/50\n",
      "1000/1000 [==============================] - 114s 114ms/step - loss: 0.6937 - accuracy: 0.4953 - val_loss: 0.6937 - val_accuracy: 0.5001\n",
      "Epoch 48/50\n",
      "1000/1000 [==============================] - 115s 115ms/step - loss: 0.6934 - accuracy: 0.5035 - val_loss: 0.6942 - val_accuracy: 0.4999\n",
      "Epoch 49/50\n",
      "1000/1000 [==============================] - 114s 114ms/step - loss: 0.6933 - accuracy: 0.5073 - val_loss: 0.6932 - val_accuracy: 0.5027\n",
      "Epoch 50/50\n",
      "1000/1000 [==============================] - 114s 114ms/step - loss: 0.6933 - accuracy: 0.4975 - val_loss: 0.6931 - val_accuracy: 0.5058\n",
      "Fold 1, 50 epochs, 5617 sec\n"
     ]
    },
    {
     "data": {
      "image/png": "[encoded data removed]",
      "text/plain": [
       "<Figure size 576x360 with 1 Axes>"
      ]
     },
     "metadata": {
      "tags": []
     },
     "output_type": "display_data"
    },
    {
     "name": "stdout",
     "output_type": "stream",
     "text": [
      "MODEL\n",
      "make_DNN\n",
      "input shape: (100, 4)\n",
      "FIT\n",
      "Epoch 1/50\n",
      "1000/1000 [==============================] - 115s 114ms/step - loss: 0.7106 - accuracy: 0.4975 - val_loss: 0.6960 - val_accuracy: 0.5005\n",
      "Epoch 2/50\n",
      "1000/1000 [==============================] - 114s 114ms/step - loss: 0.6936 - accuracy: 0.5093 - val_loss: 0.6932 - val_accuracy: 0.4941\n",
      "Epoch 3/50\n",
      "1000/1000 [==============================] - 114s 114ms/step - loss: 0.6944 - accuracy: 0.5022 - val_loss: 0.6949 - val_accuracy: 0.4965\n",
      "Epoch 4/50\n",
      "1000/1000 [==============================] - 113s 113ms/step - loss: 0.6938 - accuracy: 0.5056 - val_loss: 0.6945 - val_accuracy: 0.5005\n",
      "Epoch 5/50\n",
      "1000/1000 [==============================] - 114s 114ms/step - loss: 0.6940 - accuracy: 0.5052 - val_loss: 0.6933 - val_accuracy: 0.5000\n",
      "Epoch 6/50\n",
      "1000/1000 [==============================] - 114s 114ms/step - loss: 0.6936 - accuracy: 0.5024 - val_loss: 0.6932 - val_accuracy: 0.5005\n",
      "Epoch 7/50\n",
      "1000/1000 [==============================] - 114s 114ms/step - loss: 0.6936 - accuracy: 0.5072 - val_loss: 0.6932 - val_accuracy: 0.4989\n",
      "Epoch 8/50\n",
      "1000/1000 [==============================] - 114s 114ms/step - loss: 0.6940 - accuracy: 0.4925 - val_loss: 0.6937 - val_accuracy: 0.5005\n",
      "Epoch 9/50\n",
      "1000/1000 [==============================] - 114s 114ms/step - loss: 0.6938 - accuracy: 0.5064 - val_loss: 0.6931 - val_accuracy: 0.5034\n",
      "Epoch 10/50\n",
      "1000/1000 [==============================] - 114s 114ms/step - loss: 0.6938 - accuracy: 0.4913 - val_loss: 0.6942 - val_accuracy: 0.5005\n",
      "Epoch 11/50\n",
      "1000/1000 [==============================] - 114s 114ms/step - loss: 0.6939 - accuracy: 0.4960 - val_loss: 0.6951 - val_accuracy: 0.4995\n",
      "Epoch 12/50\n",
      "1000/1000 [==============================] - 114s 114ms/step - loss: 0.6935 - accuracy: 0.5025 - val_loss: 0.6932 - val_accuracy: 0.5005\n",
      "Epoch 13/50\n",
      "1000/1000 [==============================] - 114s 114ms/step - loss: 0.6936 - accuracy: 0.4958 - val_loss: 0.6940 - val_accuracy: 0.5005\n",
      "Epoch 14/50\n",
      "1000/1000 [==============================] - 114s 114ms/step - loss: 0.6934 - accuracy: 0.5075 - val_loss: 0.6933 - val_accuracy: 0.4992\n",
      "Epoch 15/50\n",
      "1000/1000 [==============================] - 114s 114ms/step - loss: 0.6936 - accuracy: 0.4980 - val_loss: 0.6934 - val_accuracy: 0.5005\n",
      "Epoch 16/50\n",
      "1000/1000 [==============================] - 114s 114ms/step - loss: 0.6939 - accuracy: 0.4897 - val_loss: 0.6932 - val_accuracy: 0.4972\n",
      "Epoch 17/50\n",
      "1000/1000 [==============================] - 115s 115ms/step - loss: 0.6938 - accuracy: 0.4915 - val_loss: 0.6932 - val_accuracy: 0.5000\n",
      "Epoch 18/50\n",
      "1000/1000 [==============================] - 114s 114ms/step - loss: 0.6933 - accuracy: 0.5078 - val_loss: 0.6934 - val_accuracy: 0.5005\n",
      "Epoch 19/50\n",
      "1000/1000 [==============================] - 114s 114ms/step - loss: 0.6936 - accuracy: 0.4962 - val_loss: 0.6936 - val_accuracy: 0.4995\n",
      "Epoch 20/50\n",
      "1000/1000 [==============================] - 114s 114ms/step - loss: 0.6937 - accuracy: 0.4930 - val_loss: 0.6932 - val_accuracy: 0.5005\n",
      "Epoch 21/50\n",
      "1000/1000 [==============================] - 114s 114ms/step - loss: 0.6936 - accuracy: 0.4908 - val_loss: 0.6934 - val_accuracy: 0.5005\n",
      "Epoch 22/50\n",
      "1000/1000 [==============================] - 115s 115ms/step - loss: 0.6933 - accuracy: 0.5026 - val_loss: 0.6933 - val_accuracy: 0.5005\n",
      "Epoch 23/50\n",
      "1000/1000 [==============================] - 114s 114ms/step - loss: 0.6935 - accuracy: 0.4993 - val_loss: 0.6932 - val_accuracy: 0.5005\n",
      "Epoch 24/50\n",
      "1000/1000 [==============================] - 114s 114ms/step - loss: 0.6934 - accuracy: 0.4975 - val_loss: 0.6932 - val_accuracy: 0.5005\n",
      "Epoch 25/50\n",
      "1000/1000 [==============================] - 114s 114ms/step - loss: 0.6933 - accuracy: 0.5017 - val_loss: 0.6932 - val_accuracy: 0.4995\n",
      "Epoch 26/50\n",
      "1000/1000 [==============================] - 115s 115ms/step - loss: 0.6934 - accuracy: 0.5020 - val_loss: 0.6932 - val_accuracy: 0.5005\n",
      "Epoch 27/50\n",
      "1000/1000 [==============================] - 115s 115ms/step - loss: 0.6934 - accuracy: 0.4938 - val_loss: 0.6932 - val_accuracy: 0.4995\n",
      "Epoch 28/50\n",
      "1000/1000 [==============================] - 115s 115ms/step - loss: 0.6934 - accuracy: 0.4994 - val_loss: 0.6933 - val_accuracy: 0.5005\n",
      "Epoch 29/50\n",
      "1000/1000 [==============================] - 115s 115ms/step - loss: 0.6933 - accuracy: 0.5038 - val_loss: 0.6932 - val_accuracy: 0.5005\n",
      "Epoch 30/50\n",
      "1000/1000 [==============================] - 115s 115ms/step - loss: 0.6934 - accuracy: 0.5004 - val_loss: 0.6933 - val_accuracy: 0.4995\n",
      "Epoch 31/50\n",
      "1000/1000 [==============================] - 114s 114ms/step - loss: 0.6934 - accuracy: 0.4984 - val_loss: 0.6932 - val_accuracy: 0.5005\n",
      "Epoch 32/50\n",
      "1000/1000 [==============================] - 114s 114ms/step - loss: 0.6933 - accuracy: 0.5009 - val_loss: 0.6932 - val_accuracy: 0.5005\n",
      "Epoch 33/50\n",
      "1000/1000 [==============================] - 115s 115ms/step - loss: 0.6934 - accuracy: 0.5019 - val_loss: 0.6940 - val_accuracy: 0.4995\n",
      "Epoch 34/50\n",
      "1000/1000 [==============================] - 115s 115ms/step - loss: 0.6935 - accuracy: 0.4971 - val_loss: 0.6932 - val_accuracy: 0.4995\n",
      "Epoch 35/50\n",
      "1000/1000 [==============================] - 116s 116ms/step - loss: 0.6934 - accuracy: 0.4983 - val_loss: 0.6934 - val_accuracy: 0.5005\n",
      "Epoch 36/50\n",
      "1000/1000 [==============================] - 115s 115ms/step - loss: 0.6934 - accuracy: 0.4990 - val_loss: 0.6932 - val_accuracy: 0.4995\n",
      "Epoch 37/50\n",
      "1000/1000 [==============================] - 116s 116ms/step - loss: 0.6933 - accuracy: 0.5054 - val_loss: 0.6944 - val_accuracy: 0.4995\n",
      "Epoch 38/50\n",
      "1000/1000 [==============================] - 116s 116ms/step - loss: 0.6932 - accuracy: 0.5066 - val_loss: 0.6934 - val_accuracy: 0.4995\n",
      "Epoch 39/50\n",
      "1000/1000 [==============================] - 115s 115ms/step - loss: 0.6935 - accuracy: 0.4992 - val_loss: 0.6932 - val_accuracy: 0.4995\n",
      "Epoch 40/50\n",
      "1000/1000 [==============================] - 115s 115ms/step - loss: 0.6934 - accuracy: 0.5046 - val_loss: 0.6941 - val_accuracy: 0.5005\n",
      "Epoch 41/50\n",
      "1000/1000 [==============================] - 115s 115ms/step - loss: 0.6937 - accuracy: 0.4991 - val_loss: 0.6931 - val_accuracy: 0.4995\n",
      "Epoch 42/50\n",
      "1000/1000 [==============================] - 114s 115ms/step - loss: 0.6934 - accuracy: 0.4966 - val_loss: 0.6932 - val_accuracy: 0.5005\n",
      "Epoch 43/50\n",
      "1000/1000 [==============================] - 114s 114ms/step - loss: 0.6933 - accuracy: 0.5009 - val_loss: 0.6934 - val_accuracy: 0.4995\n",
      "Epoch 44/50\n",
      "1000/1000 [==============================] - 114s 114ms/step - loss: 0.6935 - accuracy: 0.4968 - val_loss: 0.6935 - val_accuracy: 0.4995\n",
      "Epoch 45/50\n",
      "1000/1000 [==============================] - 114s 114ms/step - loss: 0.6935 - accuracy: 0.4963 - val_loss: 0.6935 - val_accuracy: 0.4995\n",
      "Epoch 46/50\n",
      "1000/1000 [==============================] - 115s 115ms/step - loss: 0.6936 - accuracy: 0.4973 - val_loss: 0.6934 - val_accuracy: 0.4995\n",
      "Epoch 47/50\n",
      "1000/1000 [==============================] - 114s 114ms/step - loss: 0.6934 - accuracy: 0.5032 - val_loss: 0.6931 - val_accuracy: 0.5005\n",
      "Epoch 48/50\n",
      "1000/1000 [==============================] - 115s 115ms/step - loss: 0.6934 - accuracy: 0.4972 - val_loss: 0.6933 - val_accuracy: 0.5005\n",
      "Epoch 49/50\n",
      "1000/1000 [==============================] - 114s 114ms/step - loss: 0.6934 - accuracy: 0.4964 - val_loss: 0.6932 - val_accuracy: 0.5005\n",
      "Epoch 50/50\n",
      "1000/1000 [==============================] - 114s 114ms/step - loss: 0.6933 - accuracy: 0.5017 - val_loss: 0.6935 - val_accuracy: 0.5005\n",
      "Fold 2, 50 epochs, 5720 sec\n"
     ]
    },
    {
     "data": {
      "image/png": "[encoded data removed]",
      "text/plain": [
       "<Figure size 576x360 with 1 Axes>"
      ]
     },
     "metadata": {
      "tags": []
     },
     "output_type": "display_data"
    },
    {
     "name": "stdout",
     "output_type": "stream",
     "text": [
      "MODEL\n",
      "make_DNN\n",
      "input shape: (100, 4)\n",
      "FIT\n",
      "Epoch 1/50\n",
      "1000/1000 [==============================] - 117s 115ms/step - loss: 0.6983 - accuracy: 0.4979 - val_loss: 0.6962 - val_accuracy: 0.4986\n",
      "Epoch 2/50\n",
      "1000/1000 [==============================] - 115s 115ms/step - loss: 0.6941 - accuracy: 0.5022 - val_loss: 0.6939 - val_accuracy: 0.5013\n",
      "Epoch 3/50\n",
      "1000/1000 [==============================] - 114s 114ms/step - loss: 0.6938 - accuracy: 0.5065 - val_loss: 0.6939 - val_accuracy: 0.4905\n",
      "Epoch 4/50\n",
      "1000/1000 [==============================] - 115s 115ms/step - loss: 0.6944 - accuracy: 0.4911 - val_loss: 0.6939 - val_accuracy: 0.4934\n",
      "Epoch 5/50\n",
      "1000/1000 [==============================] - 115s 115ms/step - loss: 0.6945 - accuracy: 0.4961 - val_loss: 0.6949 - val_accuracy: 0.5014\n",
      "Epoch 6/50\n",
      "1000/1000 [==============================] - 115s 115ms/step - loss: 0.6941 - accuracy: 0.4947 - val_loss: 0.6940 - val_accuracy: 0.4986\n",
      "Epoch 7/50\n",
      "1000/1000 [==============================] - 116s 116ms/step - loss: 0.6940 - accuracy: 0.4976 - val_loss: 0.6936 - val_accuracy: 0.5006\n",
      "Epoch 8/50\n",
      "1000/1000 [==============================] - 115s 115ms/step - loss: 0.6944 - accuracy: 0.4937 - val_loss: 0.6941 - val_accuracy: 0.4994\n",
      "Epoch 9/50\n",
      "1000/1000 [==============================] - 116s 116ms/step - loss: 0.6937 - accuracy: 0.4969 - val_loss: 0.6940 - val_accuracy: 0.4986\n",
      "Epoch 10/50\n",
      "1000/1000 [==============================] - 114s 114ms/step - loss: 0.6941 - accuracy: 0.4996 - val_loss: 0.6933 - val_accuracy: 0.5001\n",
      "Epoch 11/50\n",
      "1000/1000 [==============================] - 111s 111ms/step - loss: 0.6938 - accuracy: 0.5024 - val_loss: 0.6942 - val_accuracy: 0.5014\n",
      "Epoch 12/50\n",
      "1000/1000 [==============================] - 113s 113ms/step - loss: 0.6933 - accuracy: 0.5077 - val_loss: 0.6933 - val_accuracy: 0.4975\n",
      "Epoch 13/50\n",
      "1000/1000 [==============================] - 112s 112ms/step - loss: 0.6934 - accuracy: 0.5053 - val_loss: 0.6933 - val_accuracy: 0.5014\n",
      "Epoch 14/50\n",
      "1000/1000 [==============================] - 112s 112ms/step - loss: 0.6936 - accuracy: 0.4973 - val_loss: 0.6934 - val_accuracy: 0.5014\n",
      "Epoch 15/50\n",
      "1000/1000 [==============================] - 113s 113ms/step - loss: 0.6935 - accuracy: 0.5030 - val_loss: 0.6934 - val_accuracy: 0.4986\n",
      "Epoch 16/50\n",
      "1000/1000 [==============================] - 113s 113ms/step - loss: 0.6933 - accuracy: 0.5050 - val_loss: 0.6932 - val_accuracy: 0.4921\n",
      "Epoch 17/50\n",
      "1000/1000 [==============================] - 112s 112ms/step - loss: 0.6934 - accuracy: 0.5004 - val_loss: 0.6940 - val_accuracy: 0.4986\n",
      "Epoch 18/50\n",
      "1000/1000 [==============================] - 112s 112ms/step - loss: 0.6934 - accuracy: 0.5057 - val_loss: 0.6931 - val_accuracy: 0.4974\n",
      "Epoch 19/50\n",
      "1000/1000 [==============================] - 112s 112ms/step - loss: 0.6932 - accuracy: 0.5057 - val_loss: 0.6932 - val_accuracy: 0.5014\n",
      "Epoch 20/50\n",
      "1000/1000 [==============================] - 112s 112ms/step - loss: 0.6934 - accuracy: 0.4993 - val_loss: 0.6934 - val_accuracy: 0.4986\n",
      "Epoch 21/50\n",
      "1000/1000 [==============================] - 113s 113ms/step - loss: 0.6934 - accuracy: 0.4971 - val_loss: 0.6931 - val_accuracy: 0.5014\n",
      "Epoch 22/50\n",
      "1000/1000 [==============================] - 112s 112ms/step - loss: 0.6934 - accuracy: 0.4976 - val_loss: 0.6934 - val_accuracy: 0.4986\n",
      "Epoch 23/50\n",
      "1000/1000 [==============================] - 112s 112ms/step - loss: 0.6933 - accuracy: 0.4990 - val_loss: 0.6932 - val_accuracy: 0.4986\n",
      "Epoch 24/50\n",
      "1000/1000 [==============================] - 111s 111ms/step - loss: 0.6933 - accuracy: 0.5001 - val_loss: 0.6932 - val_accuracy: 0.5014\n",
      "Epoch 25/50\n",
      "1000/1000 [==============================] - 112s 112ms/step - loss: 0.6932 - accuracy: 0.5052 - val_loss: 0.6932 - val_accuracy: 0.4986\n",
      "Epoch 26/50\n",
      "1000/1000 [==============================] - 112s 112ms/step - loss: 0.6933 - accuracy: 0.4967 - val_loss: 0.6932 - val_accuracy: 0.4986\n",
      "Epoch 27/50\n",
      "1000/1000 [==============================] - 111s 111ms/step - loss: 0.6934 - accuracy: 0.4918 - val_loss: 0.6932 - val_accuracy: 0.5014\n",
      "Epoch 28/50\n",
      "1000/1000 [==============================] - 111s 111ms/step - loss: 0.6933 - accuracy: 0.4987 - val_loss: 0.6932 - val_accuracy: 0.5014\n",
      "Epoch 29/50\n",
      "1000/1000 [==============================] - 112s 112ms/step - loss: 0.6932 - accuracy: 0.5015 - val_loss: 0.6932 - val_accuracy: 0.4986\n",
      "Epoch 30/50\n",
      "1000/1000 [==============================] - 111s 111ms/step - loss: 0.6933 - accuracy: 0.5022 - val_loss: 0.6935 - val_accuracy: 0.4986\n",
      "Epoch 31/50\n",
      "1000/1000 [==============================] - 110s 110ms/step - loss: 0.6934 - accuracy: 0.4953 - val_loss: 0.6932 - val_accuracy: 0.4986\n",
      "Epoch 32/50\n",
      "1000/1000 [==============================] - 113s 113ms/step - loss: 0.6933 - accuracy: 0.4994 - val_loss: 0.6932 - val_accuracy: 0.4986\n",
      "Epoch 33/50\n",
      "1000/1000 [==============================] - 113s 113ms/step - loss: 0.6933 - accuracy: 0.4952 - val_loss: 0.6936 - val_accuracy: 0.5014\n",
      "Epoch 34/50\n",
      "1000/1000 [==============================] - 112s 112ms/step - loss: 0.6933 - accuracy: 0.5028 - val_loss: 0.6934 - val_accuracy: 0.4986\n",
      "Epoch 35/50\n",
      "1000/1000 [==============================] - 112s 112ms/step - loss: 0.6935 - accuracy: 0.4915 - val_loss: 0.6932 - val_accuracy: 0.4986\n",
      "Epoch 36/50\n",
      "1000/1000 [==============================] - 111s 112ms/step - loss: 0.6933 - accuracy: 0.5018 - val_loss: 0.6935 - val_accuracy: 0.4986\n",
      "Epoch 37/50\n",
      "1000/1000 [==============================] - 113s 113ms/step - loss: 0.6934 - accuracy: 0.4964 - val_loss: 0.6932 - val_accuracy: 0.4986\n",
      "Epoch 38/50\n",
      "1000/1000 [==============================] - 112s 112ms/step - loss: 0.6933 - accuracy: 0.4993 - val_loss: 0.6932 - val_accuracy: 0.5014\n",
      "Epoch 39/50\n",
      "1000/1000 [==============================] - 109s 109ms/step - loss: 0.6933 - accuracy: 0.4992 - val_loss: 0.6932 - val_accuracy: 0.4986\n",
      "Epoch 40/50\n",
      "1000/1000 [==============================] - 112s 112ms/step - loss: 0.6933 - accuracy: 0.5036 - val_loss: 0.6935 - val_accuracy: 0.4986\n",
      "Epoch 41/50\n",
      "1000/1000 [==============================] - 111s 111ms/step - loss: 0.6932 - accuracy: 0.5034 - val_loss: 0.6933 - val_accuracy: 0.4986\n",
      "Epoch 42/50\n",
      "1000/1000 [==============================] - 110s 110ms/step - loss: 0.6933 - accuracy: 0.5008 - val_loss: 0.6932 - val_accuracy: 0.5014\n",
      "Epoch 43/50\n",
      "1000/1000 [==============================] - 109s 109ms/step - loss: 0.6932 - accuracy: 0.5049 - val_loss: 0.6932 - val_accuracy: 0.4986\n",
      "Epoch 44/50\n",
      "1000/1000 [==============================] - 109s 109ms/step - loss: 0.6933 - accuracy: 0.4967 - val_loss: 0.6932 - val_accuracy: 0.5014\n",
      "Epoch 45/50\n",
      "1000/1000 [==============================] - 109s 109ms/step - loss: 0.6933 - accuracy: 0.4967 - val_loss: 0.6932 - val_accuracy: 0.5014\n",
      "Epoch 46/50\n",
      "1000/1000 [==============================] - 112s 112ms/step - loss: 0.6933 - accuracy: 0.4973 - val_loss: 0.6933 - val_accuracy: 0.5014\n",
      "Epoch 47/50\n",
      "1000/1000 [==============================] - 109s 109ms/step - loss: 0.6933 - accuracy: 0.5004 - val_loss: 0.6935 - val_accuracy: 0.4986\n",
      "Epoch 48/50\n",
      "1000/1000 [==============================] - 107s 107ms/step - loss: 0.6933 - accuracy: 0.5005 - val_loss: 0.6931 - val_accuracy: 0.5014\n",
      "Epoch 49/50\n",
      "1000/1000 [==============================] - 109s 109ms/step - loss: 0.6933 - accuracy: 0.4976 - val_loss: 0.6933 - val_accuracy: 0.5014\n",
      "Epoch 50/50\n",
      "1000/1000 [==============================] - 107s 107ms/step - loss: 0.6932 - accuracy: 0.5035 - val_loss: 0.6932 - val_accuracy: 0.4986\n",
      "Fold 3, 50 epochs, 5599 sec\n"
     ]
    },
    {
     "data": {
      "image/png": "[encoded data removed]",
      "text/plain": [
       "<Figure size 576x360 with 1 Axes>"
      ]
     },
     "metadata": {
      "tags": []
     },
     "output_type": "display_data"
    },
    {
     "name": "stdout",
     "output_type": "stream",
     "text": [
      "MODEL\n",
      "make_DNN\n",
      "input shape: (100, 4)\n",
      "FIT\n",
      "Epoch 1/50\n",
      "1000/1000 [==============================] - 109s 108ms/step - loss: 0.6958 - accuracy: 0.4993 - val_loss: 0.6937 - val_accuracy: 0.4947\n",
      "Epoch 2/50\n",
      "1000/1000 [==============================] - 109s 109ms/step - loss: 0.6945 - accuracy: 0.4942 - val_loss: 0.6945 - val_accuracy: 0.4906\n",
      "Epoch 3/50\n",
      "1000/1000 [==============================] - 108s 108ms/step - loss: 0.6944 - accuracy: 0.4984 - val_loss: 0.6940 - val_accuracy: 0.5027\n",
      "Epoch 4/50\n",
      "1000/1000 [==============================] - 108s 108ms/step - loss: 0.6939 - accuracy: 0.5025 - val_loss: 0.6941 - val_accuracy: 0.5048\n",
      "Epoch 5/50\n",
      "1000/1000 [==============================] - 107s 107ms/step - loss: 0.6941 - accuracy: 0.5012 - val_loss: 0.6940 - val_accuracy: 0.5040\n",
      "Epoch 6/50\n",
      "1000/1000 [==============================] - 108s 108ms/step - loss: 0.6943 - accuracy: 0.5031 - val_loss: 0.6932 - val_accuracy: 0.4989\n",
      "Epoch 7/50\n",
      "1000/1000 [==============================] - 108s 108ms/step - loss: 0.6943 - accuracy: 0.4891 - val_loss: 0.6945 - val_accuracy: 0.4954\n",
      "Epoch 8/50\n",
      "1000/1000 [==============================] - 108s 108ms/step - loss: 0.6939 - accuracy: 0.5055 - val_loss: 0.6959 - val_accuracy: 0.4960\n",
      "Epoch 9/50\n",
      "1000/1000 [==============================] - 108s 108ms/step - loss: 0.6943 - accuracy: 0.4933 - val_loss: 0.6956 - val_accuracy: 0.5040\n",
      "Epoch 10/50\n",
      "1000/1000 [==============================] - 108s 108ms/step - loss: 0.6940 - accuracy: 0.4926 - val_loss: 0.6951 - val_accuracy: 0.4960\n",
      "Epoch 11/50\n",
      "1000/1000 [==============================] - 108s 108ms/step - loss: 0.6941 - accuracy: 0.4962 - val_loss: 0.6933 - val_accuracy: 0.4960\n",
      "Epoch 12/50\n",
      "1000/1000 [==============================] - 108s 108ms/step - loss: 0.6934 - accuracy: 0.5030 - val_loss: 0.6931 - val_accuracy: 0.5040\n",
      "Epoch 13/50\n",
      "1000/1000 [==============================] - 110s 110ms/step - loss: 0.6938 - accuracy: 0.4952 - val_loss: 0.6930 - val_accuracy: 0.5077\n",
      "INFO:tensorflow:Assets written to: BestModel/assets\n",
      "Epoch 14/50\n",
      "1000/1000 [==============================] - 109s 109ms/step - loss: 0.6936 - accuracy: 0.4987 - val_loss: 0.6932 - val_accuracy: 0.5045\n",
      "Epoch 15/50\n",
      "1000/1000 [==============================] - 110s 110ms/step - loss: 0.6938 - accuracy: 0.4962 - val_loss: 0.6934 - val_accuracy: 0.5042\n",
      "Epoch 16/50\n",
      "1000/1000 [==============================] - 109s 109ms/step - loss: 0.6937 - accuracy: 0.4968 - val_loss: 0.6932 - val_accuracy: 0.4960\n",
      "Epoch 17/50\n",
      "1000/1000 [==============================] - 108s 108ms/step - loss: 0.6939 - accuracy: 0.5000 - val_loss: 0.6931 - val_accuracy: 0.5054\n",
      "Epoch 18/50\n",
      "1000/1000 [==============================] - 108s 108ms/step - loss: 0.6938 - accuracy: 0.5000 - val_loss: 0.6933 - val_accuracy: 0.5054\n",
      "Epoch 19/50\n",
      "1000/1000 [==============================] - 108s 108ms/step - loss: 0.6936 - accuracy: 0.5007 - val_loss: 0.6931 - val_accuracy: 0.5054\n",
      "Epoch 20/50\n",
      "1000/1000 [==============================] - 108s 108ms/step - loss: 0.6935 - accuracy: 0.5020 - val_loss: 0.6932 - val_accuracy: 0.5040\n",
      "Epoch 21/50\n",
      "1000/1000 [==============================] - 108s 108ms/step - loss: 0.6934 - accuracy: 0.5007 - val_loss: 0.6931 - val_accuracy: 0.5054\n",
      "Epoch 22/50\n",
      "1000/1000 [==============================] - 109s 109ms/step - loss: 0.6934 - accuracy: 0.5013 - val_loss: 0.6934 - val_accuracy: 0.4960\n",
      "Epoch 23/50\n",
      "1000/1000 [==============================] - 108s 108ms/step - loss: 0.6936 - accuracy: 0.4983 - val_loss: 0.6933 - val_accuracy: 0.5054\n",
      "Epoch 24/50\n",
      "1000/1000 [==============================] - 109s 109ms/step - loss: 0.6936 - accuracy: 0.5009 - val_loss: 0.6932 - val_accuracy: 0.5040\n",
      "Epoch 25/50\n",
      "1000/1000 [==============================] - 108s 108ms/step - loss: 0.6935 - accuracy: 0.4942 - val_loss: 0.6934 - val_accuracy: 0.5054\n",
      "Epoch 26/50\n",
      "1000/1000 [==============================] - 107s 107ms/step - loss: 0.6937 - accuracy: 0.4973 - val_loss: 0.6931 - val_accuracy: 0.5054\n",
      "Epoch 27/50\n",
      "1000/1000 [==============================] - 111s 111ms/step - loss: 0.6935 - accuracy: 0.4943 - val_loss: 0.6934 - val_accuracy: 0.5040\n",
      "Epoch 28/50\n",
      "1000/1000 [==============================] - 110s 110ms/step - loss: 0.6934 - accuracy: 0.5042 - val_loss: 0.6938 - val_accuracy: 0.5054\n",
      "Epoch 29/50\n",
      "1000/1000 [==============================] - 113s 113ms/step - loss: 0.6935 - accuracy: 0.5002 - val_loss: 0.6931 - val_accuracy: 0.5040\n",
      "Epoch 30/50\n",
      "1000/1000 [==============================] - 109s 109ms/step - loss: 0.6934 - accuracy: 0.5038 - val_loss: 0.6931 - val_accuracy: 0.5040\n",
      "Epoch 31/50\n",
      "1000/1000 [==============================] - 109s 109ms/step - loss: 0.6934 - accuracy: 0.5027 - val_loss: 0.6932 - val_accuracy: 0.4946\n",
      "Epoch 32/50\n",
      "1000/1000 [==============================] - 108s 108ms/step - loss: 0.6935 - accuracy: 0.4972 - val_loss: 0.6931 - val_accuracy: 0.5040\n",
      "Epoch 33/50\n",
      "1000/1000 [==============================] - 108s 108ms/step - loss: 0.6934 - accuracy: 0.5014 - val_loss: 0.6932 - val_accuracy: 0.4946\n",
      "Epoch 34/50\n",
      "1000/1000 [==============================] - 107s 107ms/step - loss: 0.6934 - accuracy: 0.4991 - val_loss: 0.6931 - val_accuracy: 0.5054\n",
      "Epoch 35/50\n",
      "1000/1000 [==============================] - 107s 107ms/step - loss: 0.6935 - accuracy: 0.4972 - val_loss: 0.6940 - val_accuracy: 0.4946\n",
      "Epoch 36/50\n",
      "1000/1000 [==============================] - 107s 107ms/step - loss: 0.6932 - accuracy: 0.5041 - val_loss: 0.6932 - val_accuracy: 0.5040\n",
      "Epoch 37/50\n",
      "1000/1000 [==============================] - 106s 106ms/step - loss: 0.6935 - accuracy: 0.4969 - val_loss: 0.6931 - val_accuracy: 0.5054\n",
      "Epoch 38/50\n",
      "1000/1000 [==============================] - 106s 106ms/step - loss: 0.6935 - accuracy: 0.5003 - val_loss: 0.6933 - val_accuracy: 0.4960\n",
      "Epoch 39/50\n",
      "1000/1000 [==============================] - 106s 106ms/step - loss: 0.6933 - accuracy: 0.5052 - val_loss: 0.6937 - val_accuracy: 0.4960\n",
      "Epoch 40/50\n",
      "1000/1000 [==============================] - 105s 105ms/step - loss: 0.6935 - accuracy: 0.4965 - val_loss: 0.6938 - val_accuracy: 0.4960\n",
      "Epoch 41/50\n",
      "1000/1000 [==============================] - 105s 105ms/step - loss: 0.6937 - accuracy: 0.4960 - val_loss: 0.6931 - val_accuracy: 0.5040\n",
      "Epoch 42/50\n",
      "1000/1000 [==============================] - 106s 106ms/step - loss: 0.6935 - accuracy: 0.4991 - val_loss: 0.6932 - val_accuracy: 0.5056\n",
      "Epoch 43/50\n",
      "1000/1000 [==============================] - 106s 106ms/step - loss: 0.6934 - accuracy: 0.5025 - val_loss: 0.6933 - val_accuracy: 0.4960\n",
      "Epoch 44/50\n",
      "1000/1000 [==============================] - 111s 111ms/step - loss: 0.6934 - accuracy: 0.5051 - val_loss: 0.6935 - val_accuracy: 0.4959\n",
      "Epoch 45/50\n",
      "1000/1000 [==============================] - 112s 112ms/step - loss: 0.6934 - accuracy: 0.4979 - val_loss: 0.6932 - val_accuracy: 0.5040\n",
      "Epoch 46/50\n",
      "1000/1000 [==============================] - 111s 111ms/step - loss: 0.6933 - accuracy: 0.4990 - val_loss: 0.6931 - val_accuracy: 0.5113\n",
      "INFO:tensorflow:Assets written to: BestModel/assets\n",
      "Epoch 47/50\n",
      "1000/1000 [==============================] - 113s 113ms/step - loss: 0.6931 - accuracy: 0.5075 - val_loss: 0.6932 - val_accuracy: 0.4961\n",
      "Epoch 48/50\n",
      "1000/1000 [==============================] - 111s 111ms/step - loss: 0.6933 - accuracy: 0.5067 - val_loss: 0.6935 - val_accuracy: 0.4970\n",
      "Epoch 49/50\n",
      "1000/1000 [==============================] - 105s 105ms/step - loss: 0.6932 - accuracy: 0.4995 - val_loss: 0.6936 - val_accuracy: 0.4960\n",
      "Epoch 50/50\n",
      "1000/1000 [==============================] - 105s 105ms/step - loss: 0.6936 - accuracy: 0.4990 - val_loss: 0.6937 - val_accuracy: 0.5040\n",
      "Fold 4, 50 epochs, 5419 sec\n"
     ]
    },
    {
     "data": {
      "image/png": "[encoded data removed]",
      "text/plain": [
       "<Figure size 576x360 with 1 Axes>"
      ]
     },
     "metadata": {
      "needs_background": "light",
      "tags": []
     },
     "output_type": "display_data"
    },
    {
     "name": "stdout",
     "output_type": "stream",
     "text": [
      "MODEL\n",
      "make_DNN\n",
      "input shape: (100, 4)\n",
      "FIT\n",
      "Epoch 1/50\n",
      "1000/1000 [==============================] - 107s 106ms/step - loss: 0.6951 - accuracy: 0.5043 - val_loss: 0.6941 - val_accuracy: 0.4909\n",
      "Epoch 2/50\n",
      "1000/1000 [==============================] - 105s 105ms/step - loss: 0.6944 - accuracy: 0.4991 - val_loss: 0.6934 - val_accuracy: 0.4955\n",
      "Epoch 3/50\n",
      "1000/1000 [==============================] - 106s 106ms/step - loss: 0.6942 - accuracy: 0.4929 - val_loss: 0.6940 - val_accuracy: 0.4933\n",
      "Epoch 4/50\n",
      "1000/1000 [==============================] - 106s 106ms/step - loss: 0.6940 - accuracy: 0.5001 - val_loss: 0.6959 - val_accuracy: 0.4941\n",
      "Epoch 5/50\n",
      "1000/1000 [==============================] - 105s 105ms/step - loss: 0.6941 - accuracy: 0.5036 - val_loss: 0.6942 - val_accuracy: 0.5005\n",
      "Epoch 6/50\n",
      "1000/1000 [==============================] - 106s 106ms/step - loss: 0.6944 - accuracy: 0.4958 - val_loss: 0.6932 - val_accuracy: 0.5050\n",
      "Epoch 7/50\n",
      "1000/1000 [==============================] - 104s 104ms/step - loss: 0.6946 - accuracy: 0.4936 - val_loss: 0.6938 - val_accuracy: 0.5074\n",
      "Epoch 8/50\n",
      "1000/1000 [==============================] - 108s 108ms/step - loss: 0.6942 - accuracy: 0.4973 - val_loss: 0.6933 - val_accuracy: 0.4941\n",
      "Epoch 9/50\n",
      "1000/1000 [==============================] - 111s 111ms/step - loss: 0.6941 - accuracy: 0.4990 - val_loss: 0.6933 - val_accuracy: 0.5031\n",
      "Epoch 10/50\n",
      "1000/1000 [==============================] - 110s 110ms/step - loss: 0.6940 - accuracy: 0.5080 - val_loss: 0.6933 - val_accuracy: 0.5061\n",
      "Epoch 11/50\n",
      "1000/1000 [==============================] - 111s 111ms/step - loss: 0.6944 - accuracy: 0.4930 - val_loss: 0.6937 - val_accuracy: 0.4972\n",
      "Epoch 12/50\n",
      "1000/1000 [==============================] - 111s 111ms/step - loss: 0.6942 - accuracy: 0.4950 - val_loss: 0.6930 - val_accuracy: 0.5098\n",
      "Epoch 13/50\n",
      "1000/1000 [==============================] - 106s 106ms/step - loss: 0.6942 - accuracy: 0.4966 - val_loss: 0.6933 - val_accuracy: 0.5031\n",
      "Epoch 14/50\n",
      "1000/1000 [==============================] - 104s 104ms/step - loss: 0.6941 - accuracy: 0.5024 - val_loss: 0.6932 - val_accuracy: 0.5024\n",
      "Epoch 15/50\n",
      "1000/1000 [==============================] - 105s 105ms/step - loss: 0.6937 - accuracy: 0.5007 - val_loss: 0.6934 - val_accuracy: 0.4967\n",
      "Epoch 16/50\n",
      "1000/1000 [==============================] - 104s 104ms/step - loss: 0.6939 - accuracy: 0.4969 - val_loss: 0.6953 - val_accuracy: 0.4911\n",
      "Epoch 17/50\n",
      "1000/1000 [==============================] - 106s 106ms/step - loss: 0.6940 - accuracy: 0.4970 - val_loss: 0.6935 - val_accuracy: 0.4970\n",
      "Epoch 18/50\n",
      "1000/1000 [==============================] - 109s 109ms/step - loss: 0.6938 - accuracy: 0.5020 - val_loss: 0.6930 - val_accuracy: 0.5064\n",
      "Epoch 19/50\n",
      "1000/1000 [==============================] - 109s 109ms/step - loss: 0.6941 - accuracy: 0.4912 - val_loss: 0.6939 - val_accuracy: 0.4933\n",
      "Epoch 20/50\n",
      "1000/1000 [==============================] - 110s 110ms/step - loss: 0.6939 - accuracy: 0.5000 - val_loss: 0.6936 - val_accuracy: 0.4959\n",
      "Epoch 21/50\n",
      "1000/1000 [==============================] - 109s 109ms/step - loss: 0.6938 - accuracy: 0.5024 - val_loss: 0.6933 - val_accuracy: 0.5030\n",
      "Epoch 22/50\n",
      "1000/1000 [==============================] - 106s 106ms/step - loss: 0.6933 - accuracy: 0.5054 - val_loss: 0.6947 - val_accuracy: 0.4970\n",
      "Epoch 23/50\n",
      "1000/1000 [==============================] - 104s 104ms/step - loss: 0.6936 - accuracy: 0.5018 - val_loss: 0.6931 - val_accuracy: 0.5030\n",
      "Epoch 24/50\n",
      "1000/1000 [==============================] - 104s 104ms/step - loss: 0.6934 - accuracy: 0.4985 - val_loss: 0.6934 - val_accuracy: 0.4970\n",
      "Epoch 25/50\n",
      "1000/1000 [==============================] - 104s 104ms/step - loss: 0.6935 - accuracy: 0.4986 - val_loss: 0.6931 - val_accuracy: 0.5030\n",
      "Epoch 26/50\n",
      "1000/1000 [==============================] - 104s 104ms/step - loss: 0.6935 - accuracy: 0.5038 - val_loss: 0.6932 - val_accuracy: 0.4970\n",
      "Epoch 27/50\n",
      "1000/1000 [==============================] - 104s 105ms/step - loss: 0.6935 - accuracy: 0.4988 - val_loss: 0.6931 - val_accuracy: 0.5030\n",
      "Epoch 28/50\n",
      "1000/1000 [==============================] - 105s 105ms/step - loss: 0.6934 - accuracy: 0.4974 - val_loss: 0.6932 - val_accuracy: 0.4972\n",
      "Epoch 29/50\n",
      "1000/1000 [==============================] - 105s 105ms/step - loss: 0.6933 - accuracy: 0.5043 - val_loss: 0.6932 - val_accuracy: 0.5030\n",
      "Epoch 30/50\n",
      "1000/1000 [==============================] - 104s 104ms/step - loss: 0.6934 - accuracy: 0.4978 - val_loss: 0.6932 - val_accuracy: 0.4970\n",
      "Epoch 31/50\n",
      "1000/1000 [==============================] - 103s 103ms/step - loss: 0.6932 - accuracy: 0.5042 - val_loss: 0.6934 - val_accuracy: 0.4970\n",
      "Epoch 32/50\n",
      "1000/1000 [==============================] - 104s 104ms/step - loss: 0.6934 - accuracy: 0.4994 - val_loss: 0.6932 - val_accuracy: 0.4970\n",
      "Epoch 33/50\n",
      "1000/1000 [==============================] - 104s 104ms/step - loss: 0.6932 - accuracy: 0.5070 - val_loss: 0.6932 - val_accuracy: 0.5030\n",
      "Epoch 34/50\n",
      "1000/1000 [==============================] - 105s 105ms/step - loss: 0.6934 - accuracy: 0.4990 - val_loss: 0.6933 - val_accuracy: 0.4970\n",
      "Epoch 35/50\n",
      "1000/1000 [==============================] - 104s 104ms/step - loss: 0.6933 - accuracy: 0.4998 - val_loss: 0.6935 - val_accuracy: 0.4970\n",
      "Epoch 36/50\n",
      "1000/1000 [==============================] - 104s 104ms/step - loss: 0.6935 - accuracy: 0.4944 - val_loss: 0.6933 - val_accuracy: 0.4970\n",
      "Epoch 37/50\n",
      "1000/1000 [==============================] - 104s 104ms/step - loss: 0.6934 - accuracy: 0.4970 - val_loss: 0.6932 - val_accuracy: 0.4970\n",
      "Epoch 38/50\n",
      "1000/1000 [==============================] - 104s 104ms/step - loss: 0.6933 - accuracy: 0.5010 - val_loss: 0.6934 - val_accuracy: 0.5030\n",
      "Epoch 39/50\n",
      "1000/1000 [==============================] - 103s 103ms/step - loss: 0.6932 - accuracy: 0.5045 - val_loss: 0.6932 - val_accuracy: 0.5030\n",
      "Epoch 40/50\n",
      "1000/1000 [==============================] - 107s 107ms/step - loss: 0.6933 - accuracy: 0.5015 - val_loss: 0.6934 - val_accuracy: 0.4970\n",
      "Epoch 41/50\n",
      "1000/1000 [==============================] - 105s 105ms/step - loss: 0.6934 - accuracy: 0.4962 - val_loss: 0.6932 - val_accuracy: 0.5030\n",
      "Epoch 42/50\n",
      "1000/1000 [==============================] - 105s 105ms/step - loss: 0.6933 - accuracy: 0.5044 - val_loss: 0.6933 - val_accuracy: 0.5030\n",
      "Epoch 43/50\n",
      "1000/1000 [==============================] - 105s 105ms/step - loss: 0.6933 - accuracy: 0.5025 - val_loss: 0.6932 - val_accuracy: 0.5030\n",
      "Epoch 44/50\n",
      "1000/1000 [==============================] - 107s 107ms/step - loss: 0.6934 - accuracy: 0.4954 - val_loss: 0.6936 - val_accuracy: 0.4970\n",
      "Epoch 45/50\n",
      "1000/1000 [==============================] - 104s 104ms/step - loss: 0.6934 - accuracy: 0.4992 - val_loss: 0.6933 - val_accuracy: 0.4970\n",
      "Epoch 46/50\n",
      "1000/1000 [==============================] - 107s 107ms/step - loss: 0.6933 - accuracy: 0.5030 - val_loss: 0.6941 - val_accuracy: 0.4970\n",
      "Epoch 47/50\n",
      "1000/1000 [==============================] - 106s 106ms/step - loss: 0.6934 - accuracy: 0.5008 - val_loss: 0.6934 - val_accuracy: 0.4970\n",
      "Epoch 48/50\n",
      "1000/1000 [==============================] - 110s 110ms/step - loss: 0.6933 - accuracy: 0.5015 - val_loss: 0.6932 - val_accuracy: 0.5030\n",
      "Epoch 49/50\n",
      "1000/1000 [==============================] - 110s 110ms/step - loss: 0.6934 - accuracy: 0.4961 - val_loss: 0.6931 - val_accuracy: 0.5030\n",
      "Epoch 50/50\n",
      "1000/1000 [==============================] - 108s 108ms/step - loss: 0.6932 - accuracy: 0.5031 - val_loss: 0.6932 - val_accuracy: 0.5030\n",
      "Fold 5, 50 epochs, 5302 sec\n"
     ]
    },
    {
     "data": {
      "image/png": "[encoded data removed]",
      "text/plain": [
       "<Figure size 576x360 with 1 Axes>"
      ]
     },
     "metadata": {
      "needs_background": "light",
      "tags": []
     },
     "output_type": "display_data"
    }
   ],
   "source": [
    "do_cross_validation(X,y)"
   ]
  },
  {
   "cell_type": "code",
   "execution_count": 10,
   "metadata": {
    "colab": {
     "base_uri": "https://localhost:8080/"
    },
    "id": "e-jG1h5fj2Ua",
    "outputId": "225b65af-8e71-4c04-f640-80afef1e5bcb"
   },
   "outputs": [
    {
     "name": "stdout",
     "output_type": "stream",
     "text": [
      "The best model parameters were saved during cross-validation.\n",
      "Best was defined as maximum validation accuracy at end of any epoch.\n",
      "Now re-load the best model and test it on previously unseen data.\n",
      "Test on 1000 PC seqs\n",
      "Test on 1000 NC seqs\n",
      "accuracy: 49.95%\n"
     ]
    }
   ],
   "source": [
    "from keras.models import load_model\n",
    "pc_sim.set_reproducible(True)\n",
    "nc_sim.set_reproducible(True)\n",
    "pc_test = pc_sim.get_sequences(PC_TESTS)\n",
    "nc_test = nc_sim.get_sequences(NC_TESTS)\n",
    "X,y = prepare_inputs_len_x_alphabet(pc_test,nc_test,ALPHABET)\n",
    "best_model=load_model(MODELPATH)\n",
    "scores = best_model.evaluate(X, y, verbose=0)\n",
    "print(\"The best model parameters were saved during cross-validation.\")\n",
    "print(\"Best was defined as maximum validation accuracy at end of any epoch.\")\n",
    "print(\"Now re-load the best model and test it on previously unseen data.\")\n",
    "print(\"Test on\",len(pc_test),\"PC seqs\")\n",
    "print(\"Test on\",len(nc_test),\"NC seqs\")\n",
    "print(\"%s: %.2f%%\" % (best_model.metrics_names[1], scores[1]*100))\n"
   ]
  },
  {
   "cell_type": "code",
   "execution_count": 11,
   "metadata": {
    "colab": {
     "base_uri": "https://localhost:8080/",
     "height": 312
    },
    "id": "VycUnmvUj2Ue",
    "outputId": "ea20c7d8-b64d-4854-84b8-4a894f2aabef"
   },
   "outputs": [
    {
     "data": {
      "image/png": "[encoded data removed]",
      "text/plain": [
       "<Figure size 432x288 with 1 Axes>"
      ]
     },
     "metadata": {
      "needs_background": "light",
      "tags": []
     },
     "output_type": "display_data"
    },
    {
     "name": "stdout",
     "output_type": "stream",
     "text": [
      "AUC: 0.48%\n"
     ]
    }
   ],
   "source": [
    "from sklearn.metrics import roc_curve\n",
    "from sklearn.metrics import roc_auc_score\n",
    "ns_probs = [0 for _ in range(len(y))]\n",
    "bm_probs = best_model.predict(X)\n",
    "ns_auc = roc_auc_score(y, ns_probs)\n",
    "bm_auc = roc_auc_score(y, bm_probs)\n",
    "ns_fpr, ns_tpr, _ = roc_curve(y, ns_probs)\n",
    "bm_fpr, bm_tpr, _ = roc_curve(y, bm_probs)\n",
    "plt.plot(ns_fpr, ns_tpr, linestyle='--', label='Guess, auc=%.4f'%ns_auc)\n",
    "plt.plot(bm_fpr, bm_tpr, marker='.', label='Model, auc=%.4f'%bm_auc)\n",
    "plt.title('ROC')\n",
    "plt.xlabel('False Positive Rate')\n",
    "plt.ylabel('True Positive Rate')\n",
    "plt.legend()\n",
    "plt.show()\n",
    "print(\"%s: %.2f%%\" %('AUC',bm_auc))\n"
   ]
  },
  {
   "cell_type": "code",
   "execution_count": 12,
   "metadata": {
    "colab": {
     "base_uri": "https://localhost:8080/",
     "height": 36
    },
    "id": "kFMb6rGNj2Ug",
    "outputId": "0ed96be5-09aa-48a2-b9af-b4def8e17153"
   },
   "outputs": [
    {
     "data": {
      "application/vnd.google.colaboratory.intrinsic+json": {
       "type": "string"
      },
      "text/plain": [
       "'2021-05-19 17:58:00 UTC'"
      ]
     },
     "execution_count": 12,
     "metadata": {
      "tags": []
     },
     "output_type": "execute_result"
    }
   ],
   "source": [
    "t = time.time()\n",
    "time.strftime('%Y-%m-%d %H:%M:%S %Z', time.localtime(t))"
   ]
  }
 ],
 "metadata": {
  "accelerator": "GPU",
  "colab": {
   "collapsed_sections": [],
   "name": "ORF_RNN_101.ipynb",
   "provenance": []
  },
  "kernelspec": {
   "display_name": "Python 3",
   "language": "python",
   "name": "python3"
  },
  "language_info": {
   "codemirror_mode": {
    "name": "ipython",
    "version": 3
   },
   "file_extension": ".py",
   "mimetype": "text/x-python",
   "name": "python",
   "nbconvert_exporter": "python",
   "pygments_lexer": "ipython3",
   "version": "3.8.3"
  }
 },
 "nbformat": 4,
 "nbformat_minor": 1
}
