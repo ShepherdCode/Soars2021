{
 "cells": [
  {
   "cell_type": "markdown",
   "metadata": {},
   "source": [
    "# Graph\n",
    "Listing all paths from source to sink in an undirected weighted graph.  \n",
    "Jason Miller.  "
   ]
  },
  {
   "cell_type": "code",
   "execution_count": 1,
   "metadata": {},
   "outputs": [],
   "source": [
    "import numpy as np"
   ]
  },
  {
   "cell_type": "markdown",
   "metadata": {},
   "source": [
    "## Define the Graph\n",
    "Represent the graph on page 377, Fig 5.3, of Kurose & Ross 7th ed."
   ]
  },
  {
   "cell_type": "code",
   "execution_count": 2,
   "metadata": {},
   "outputs": [],
   "source": [
    "G=np.zeros( (6,6), dtype=np.int8)\n",
    "NODES=['u','v','w','x','y','z']\n",
    "nodecount = len(NODES)\n",
    "u,v,w,x,y,z=0,1,2,3,4,5"
   ]
  },
  {
   "cell_type": "code",
   "execution_count": 3,
   "metadata": {},
   "outputs": [],
   "source": [
    "def add_edge(graph,node1,node2,weight):\n",
    "    graph[node1,node2]=graph[node2,node1]=weight\n",
    "add_edge(G,u,v,2)\n",
    "add_edge(G,u,x,1)\n",
    "add_edge(G,u,w,5)\n",
    "add_edge(G,x,v,2)\n",
    "add_edge(G,x,w,3)\n",
    "add_edge(G,x,y,1)\n",
    "add_edge(G,w,v,3)\n",
    "add_edge(G,w,y,1)\n",
    "add_edge(G,w,z,5)\n",
    "add_edge(G,y,z,2)"
   ]
  },
  {
   "cell_type": "code",
   "execution_count": 4,
   "metadata": {},
   "outputs": [
    {
     "name": "stdout",
     "output_type": "stream",
     "text": [
      "Node count: 6\n",
      "Edge count: 10\n",
      "[[0 2 5 1 0 0]\n",
      " [2 0 3 2 0 0]\n",
      " [5 3 0 3 1 5]\n",
      " [1 2 3 0 1 0]\n",
      " [0 0 1 1 0 2]\n",
      " [0 0 5 0 2 0]]\n"
     ]
    }
   ],
   "source": [
    "print(\"Node count:\",len(G))\n",
    "print(\"Edge count:\",np.count_nonzero(G)//2)\n",
    "print(G)"
   ]
  },
  {
   "cell_type": "markdown",
   "metadata": {},
   "source": [
    "## Graph utility functions"
   ]
  },
  {
   "cell_type": "code",
   "execution_count": 5,
   "metadata": {},
   "outputs": [],
   "source": [
    "def list_paths_from(graph,this_path,all_paths):\n",
    "    this_node=this_path[-1]\n",
    "    for i in range(0,len(graph)):\n",
    "        if i not in this_path: # avoid cycles\n",
    "            if graph[this_node,i]>0: # positive weight => adjacency\n",
    "                next_path = this_path.copy()\n",
    "                next_path.append(i)\n",
    "                #print(\"this_path\",this_path)\n",
    "                #print(\"next_path\",next_path)\n",
    "                all_paths.append(next_path)\n",
    "                all_paths = list_paths_from(graph,next_path,all_paths)\n",
    "    return all_paths\n",
    "def get_path_name(one_path):\n",
    "    pname=''\n",
    "    for i in one_path:\n",
    "        pname = pname + NODES[i]\n",
    "    return pname\n",
    "def show_all_paths(paths):\n",
    "    c = 0\n",
    "    for p in paths:\n",
    "        c = c+1\n",
    "        print(c,get_path_name(p))\n",
    "def list_paths_a_to_b(graph,a,b):\n",
    "    paths_from_a = [[a]]\n",
    "    paths_from_a = list_paths_from(G,[a],paths_from_a)\n",
    "    paths_a_to_b = []\n",
    "    for p in paths_from_a:\n",
    "        if p[-1]==b:\n",
    "            paths_a_to_b.append(p)\n",
    "    show_all_paths(paths_a_to_b)"
   ]
  },
  {
   "cell_type": "markdown",
   "metadata": {},
   "source": [
    "## Graph exploration "
   ]
  },
  {
   "cell_type": "code",
   "execution_count": 6,
   "metadata": {},
   "outputs": [],
   "source": [
    "# Long output, was used for debugging\n",
    "paths_from_Y = [[y]]\n",
    "paths_from_Y = list_paths_from(G,[y],paths_from_Y)\n",
    "# show_all_paths(paths_from_Y)"
   ]
  },
  {
   "cell_type": "code",
   "execution_count": 7,
   "metadata": {},
   "outputs": [
    {
     "name": "stdout",
     "output_type": "stream",
     "text": [
      "1 ywu\n",
      "2 ywvu\n",
      "3 ywvxu\n",
      "4 ywxu\n",
      "5 ywxvu\n",
      "6 yxu\n",
      "7 yxvu\n",
      "8 yxvwu\n",
      "9 yxwu\n",
      "10 yxwvu\n",
      "11 yzwu\n",
      "12 yzwvu\n",
      "13 yzwvxu\n",
      "14 yzwxu\n",
      "15 yzwxvu\n"
     ]
    }
   ],
   "source": [
    "list_paths_a_to_b(G,y,u)"
   ]
  },
  {
   "cell_type": "code",
   "execution_count": 8,
   "metadata": {},
   "outputs": [
    {
     "name": "stdout",
     "output_type": "stream",
     "text": [
      "1 xuvwyz\n",
      "2 xuvwz\n",
      "3 xuwyz\n",
      "4 xuwz\n",
      "5 xvuwyz\n",
      "6 xvuwz\n",
      "7 xvwyz\n",
      "8 xvwz\n",
      "9 xwyz\n",
      "10 xwz\n",
      "11 xywz\n",
      "12 xyz\n"
     ]
    }
   ],
   "source": [
    "list_paths_a_to_b(G,x,z)"
   ]
  },
  {
   "cell_type": "code",
   "execution_count": 9,
   "metadata": {},
   "outputs": [
    {
     "name": "stdout",
     "output_type": "stream",
     "text": [
      "1 zwu\n",
      "2 zwvu\n",
      "3 zwvxu\n",
      "4 zwxu\n",
      "5 zwxvu\n",
      "6 zwyxu\n",
      "7 zwyxvu\n",
      "8 zywu\n",
      "9 zywvu\n",
      "10 zywvxu\n",
      "11 zywxu\n",
      "12 zywxvu\n",
      "13 zyxu\n",
      "14 zyxvu\n",
      "15 zyxvwu\n",
      "16 zyxwu\n",
      "17 zyxwvu\n"
     ]
    }
   ],
   "source": [
    "list_paths_a_to_b(G,z,u)"
   ]
  },
  {
   "cell_type": "code",
   "execution_count": 10,
   "metadata": {},
   "outputs": [
    {
     "name": "stdout",
     "output_type": "stream",
     "text": [
      "1 zw\n",
      "2 zyw\n",
      "3 zyxuvw\n",
      "4 zyxuw\n",
      "5 zyxvuw\n",
      "6 zyxvw\n",
      "7 zyxw\n"
     ]
    }
   ],
   "source": [
    "list_paths_a_to_b(G,z,w)"
   ]
  },
  {
   "cell_type": "code",
   "execution_count": null,
   "metadata": {},
   "outputs": [],
   "source": []
  }
 ],
 "metadata": {
  "kernelspec": {
   "display_name": "Python 3",
   "language": "python",
   "name": "python3"
  },
  "language_info": {
   "codemirror_mode": {
    "name": "ipython",
    "version": 3
   },
   "file_extension": ".py",
   "mimetype": "text/x-python",
   "name": "python",
   "nbconvert_exporter": "python",
   "pygments_lexer": "ipython3",
   "version": "3.8.3"
  }
 },
 "nbformat": 4,
 "nbformat_minor": 2
}
