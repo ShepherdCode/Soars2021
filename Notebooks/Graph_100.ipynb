{
 "cells": [
  {
   "cell_type": "code",
   "execution_count": 1,
   "metadata": {},
   "outputs": [],
   "source": [
    "import numpy as np"
   ]
  },
  {
   "cell_type": "code",
   "execution_count": 2,
   "metadata": {},
   "outputs": [],
   "source": [
    "G=np.zeros( (6,6), dtype=np.int8)\n",
    "NODES=['u','v','w','x','y','z']\n",
    "nodecount = len(NODES)\n",
    "u,v,w,x,y,z=0,1,2,3,4,5"
   ]
  },
  {
   "cell_type": "code",
   "execution_count": 3,
   "metadata": {},
   "outputs": [],
   "source": [
    "def add_edge(graph,node1,node2,weight):\n",
    "    graph[node1,node2]=graph[node2,node1]=weight\n",
    "add_edge(G,u,v,2)\n",
    "add_edge(G,u,x,1)\n",
    "add_edge(G,u,w,5)\n",
    "add_edge(G,x,v,2)\n",
    "add_edge(G,x,w,3)\n",
    "add_edge(G,x,y,1)\n",
    "add_edge(G,w,v,3)\n",
    "add_edge(G,w,y,1)\n",
    "add_edge(G,w,z,5)\n",
    "add_edge(G,y,z,2)"
   ]
  },
  {
   "cell_type": "code",
   "execution_count": 4,
   "metadata": {},
   "outputs": [
    {
     "name": "stdout",
     "output_type": "stream",
     "text": [
      "Node count: 6\n",
      "Edge count: 10\n",
      "[[0 2 5 1 0 0]\n",
      " [2 0 3 2 0 0]\n",
      " [5 3 0 3 1 5]\n",
      " [1 2 3 0 1 0]\n",
      " [0 0 1 1 0 2]\n",
      " [0 0 5 0 2 0]]\n"
     ]
    }
   ],
   "source": [
    "print(\"Node count:\",len(G))\n",
    "print(\"Edge count:\",np.count_nonzero(G)//2)\n",
    "print(G)"
   ]
  },
  {
   "cell_type": "code",
   "execution_count": 7,
   "metadata": {},
   "outputs": [],
   "source": [
    "def list_paths_from(graph,node,exclude):\n",
    "    for i in range(0,nodecount):\n",
    "        if i!=node:\n",
    "            if graph[node,i]>0:\n",
    "                if i not in exclude:\n",
    "                    exclude.append(i)\n",
    "    return exclude\n",
    "def show_path_name(intlist):\n",
    "    name=''\n",
    "    for i in intlist:\n",
    "        name = name + NODES[i]\n",
    "    return name"
   ]
  },
  {
   "cell_type": "code",
   "execution_count": 9,
   "metadata": {},
   "outputs": [
    {
     "name": "stdout",
     "output_type": "stream",
     "text": [
      "vwx\n"
     ]
    }
   ],
   "source": [
    "U = list_paths_from(G,u,[])\n",
    "NU = show_path_name(U)\n",
    "print(NU)"
   ]
  },
  {
   "cell_type": "code",
   "execution_count": null,
   "metadata": {},
   "outputs": [],
   "source": []
  }
 ],
 "metadata": {
  "kernelspec": {
   "display_name": "Python 3",
   "language": "python",
   "name": "python3"
  },
  "language_info": {
   "codemirror_mode": {
    "name": "ipython",
    "version": 3
   },
   "file_extension": ".py",
   "mimetype": "text/x-python",
   "name": "python",
   "nbconvert_exporter": "python",
   "pygments_lexer": "ipython3",
   "version": "3.8.3"
  }
 },
 "nbformat": 4,
 "nbformat_minor": 2
}
