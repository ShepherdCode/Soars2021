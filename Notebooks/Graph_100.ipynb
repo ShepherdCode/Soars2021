{
 "cells": [
  {
   "cell_type": "code",
   "execution_count": 1,
   "metadata": {},
   "outputs": [],
   "source": [
    "import numpy as np"
   ]
  },
  {
   "cell_type": "code",
   "execution_count": 2,
   "metadata": {},
   "outputs": [],
   "source": [
    "G=np.zeros( (6,6), dtype=np.int8)\n",
    "NODES=['u','v','w','x','y','z']\n",
    "nodecount = len(NODES)\n",
    "u,v,w,x,y,z=0,1,2,3,4,5"
   ]
  },
  {
   "cell_type": "code",
   "execution_count": 3,
   "metadata": {},
   "outputs": [],
   "source": [
    "def add_edge(graph,node1,node2,weight):\n",
    "    graph[node1,node2]=graph[node2,node1]=weight\n",
    "add_edge(G,u,v,2)\n",
    "add_edge(G,u,x,1)\n",
    "add_edge(G,u,w,5)\n",
    "add_edge(G,x,v,2)\n",
    "add_edge(G,x,w,3)\n",
    "add_edge(G,x,y,1)\n",
    "add_edge(G,w,v,3)\n",
    "add_edge(G,w,y,1)\n",
    "add_edge(G,w,z,5)\n",
    "add_edge(G,y,z,2)"
   ]
  },
  {
   "cell_type": "code",
   "execution_count": 4,
   "metadata": {},
   "outputs": [
    {
     "name": "stdout",
     "output_type": "stream",
     "text": [
      "Node count: 6\n",
      "Edge count: 10\n",
      "[[0 2 5 1 0 0]\n",
      " [2 0 3 2 0 0]\n",
      " [5 3 0 3 1 5]\n",
      " [1 2 3 0 1 0]\n",
      " [0 0 1 1 0 2]\n",
      " [0 0 5 0 2 0]]\n"
     ]
    }
   ],
   "source": [
    "print(\"Node count:\",len(G))\n",
    "print(\"Edge count:\",np.count_nonzero(G)//2)\n",
    "print(G)"
   ]
  },
  {
   "cell_type": "code",
   "execution_count": 49,
   "metadata": {},
   "outputs": [],
   "source": [
    "def list_paths_from(graph,this_path,all_paths):\n",
    "    this_node=this_path[-1]\n",
    "    for i in range(0,len(graph)):\n",
    "        if i not in this_path: # avoid cycles\n",
    "            if graph[this_node,i]>0: # positive weight => adjacency\n",
    "                next_path = this_path.copy()\n",
    "                next_path.append(i)\n",
    "                #print(\"this_path\",this_path)\n",
    "                #print(\"next_path\",next_path)\n",
    "                all_paths.append(next_path)\n",
    "                all_paths = list_paths_from(graph,next_path,all_paths)\n",
    "    return all_paths\n",
    "def get_path_name(one_path):\n",
    "    pname=''\n",
    "    for i in one_path:\n",
    "        pname = pname + NODES[i]\n",
    "    return pname\n",
    "def show_all_paths(paths):\n",
    "    for p in paths:\n",
    "        print(get_path_name(p))"
   ]
  },
  {
   "cell_type": "code",
   "execution_count": 50,
   "metadata": {},
   "outputs": [
    {
     "name": "stdout",
     "output_type": "stream",
     "text": [
      "u\n",
      "uv\n",
      "uvw\n",
      "uvwx\n",
      "uvwxy\n",
      "uvwxyz\n",
      "uvwy\n",
      "uvwyx\n",
      "uvwyz\n",
      "uvwz\n",
      "uvwzy\n",
      "uvwzyx\n",
      "uvx\n",
      "uvxw\n",
      "uvxwy\n",
      "uvxwyz\n",
      "uvxwz\n",
      "uvxwzy\n",
      "uvxy\n",
      "uvxyw\n",
      "uvxywz\n",
      "uvxyz\n",
      "uvxyzw\n",
      "uw\n",
      "uwv\n",
      "uwvx\n",
      "uwvxy\n",
      "uwvxyz\n",
      "uwx\n",
      "uwxv\n",
      "uwxy\n",
      "uwxyz\n",
      "uwy\n",
      "uwyx\n",
      "uwyxv\n",
      "uwyz\n",
      "uwz\n",
      "uwzy\n",
      "uwzyx\n",
      "uwzyxv\n",
      "ux\n",
      "uxv\n",
      "uxvw\n",
      "uxvwy\n",
      "uxvwyz\n",
      "uxvwz\n",
      "uxvwzy\n",
      "uxw\n",
      "uxwv\n",
      "uxwy\n",
      "uxwyz\n",
      "uxwz\n",
      "uxwzy\n",
      "uxy\n",
      "uxyw\n",
      "uxywv\n",
      "uxywz\n",
      "uxyz\n",
      "uxyzw\n",
      "uxyzwv\n"
     ]
    }
   ],
   "source": [
    "paths_from_U = [[u]]\n",
    "paths_from_U = list_paths_from(G,[u],paths_from_U)\n",
    "show_all_paths(paths_from_U)"
   ]
  },
  {
   "cell_type": "code",
   "execution_count": null,
   "metadata": {},
   "outputs": [],
   "source": []
  }
 ],
 "metadata": {
  "kernelspec": {
   "display_name": "Python 3",
   "language": "python",
   "name": "python3"
  },
  "language_info": {
   "codemirror_mode": {
    "name": "ipython",
    "version": 3
   },
   "file_extension": ".py",
   "mimetype": "text/x-python",
   "name": "python",
   "nbconvert_exporter": "python",
   "pygments_lexer": "ipython3",
   "version": "3.8.3"
  }
 },
 "nbformat": 4,
 "nbformat_minor": 2
}
