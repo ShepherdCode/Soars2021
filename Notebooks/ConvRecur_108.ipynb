{
  "nbformat": 4,
  "nbformat_minor": 0,
  "metadata": {
    "accelerator": "GPU",
    "colab": {
      "name": "ConvRecur_108.ipynb",
      "provenance": [],
      "collapsed_sections": []
    },
    "kernelspec": {
      "display_name": "Python 3",
      "language": "python",
      "name": "python3"
    },
    "language_info": {
      "codemirror_mode": {
        "name": "ipython",
        "version": 3
      },
      "file_extension": ".py",
      "mimetype": "text/x-python",
      "name": "python",
      "nbconvert_exporter": "python",
      "pygments_lexer": "ipython3",
      "version": "3.8.3"
    }
  },
  "cells": [
    {
      "cell_type": "markdown",
      "metadata": {
        "id": "0asdcdunj2Tx"
      },
      "source": [
        "# ORF recognition by Convolutional/Recurrent\n",
        "\n",
        "Test CNN+GRU 16 on simulated RNA of length 64. \n",
        "\n",
        "Use restructured codebase from notebook 105."
      ]
    },
    {
      "cell_type": "code",
      "metadata": {
        "colab": {
          "base_uri": "https://localhost:8080/",
          "height": 36
        },
        "id": "QP1VTRNQj2UO",
        "outputId": "b7e90587-edc7-43ea-e418-832d432dba4d"
      },
      "source": [
        "import time \n",
        "t = time.time()\n",
        "time.strftime('%Y-%m-%d %H:%M:%S %Z', time.localtime(t))"
      ],
      "execution_count": 1,
      "outputs": [
        {
          "output_type": "execute_result",
          "data": {
            "application/vnd.google.colaboratory.intrinsic+json": {
              "type": "string"
            },
            "text/plain": [
              "'2021-06-21 17:21:01 UTC'"
            ]
          },
          "metadata": {
            "tags": []
          },
          "execution_count": 1
        }
      ]
    },
    {
      "cell_type": "code",
      "metadata": {
        "id": "Nhz4GKonj2T_"
      },
      "source": [
        "PC_SEQUENCES=32000   # how many protein-coding sequences\n",
        "NC_SEQUENCES=32000   # how many non-coding sequences\n",
        "PC_TESTS=1000\n",
        "NC_TESTS=1000\n",
        "RNA_LEN=64            # how long is each sequence\n",
        "CDS_LEN=32            # min CDS len to be coding\n",
        "ALPHABET=4          # how many different letters are possible\n",
        "INPUT_SHAPE_2D = (RNA_LEN,ALPHABET,1) # Conv2D needs 3D inputs\n",
        "INPUT_SHAPE = (RNA_LEN,ALPHABET) # Conv1D needs 2D inputs\n",
        "FILTERS = 16   # how many different patterns the model looks for\n",
        "CELLS = 16\n",
        "NEURONS = 16\n",
        "DROP_RATE = 0.4\n",
        "WIDTH = 3   # how wide each pattern is, in bases\n",
        "STRIDE_2D = (1,1)  # For Conv2D how far in each direction\n",
        "STRIDE = 1 # For Conv1D, how far between pattern matches, in bases\n",
        "EPOCHS=100  # how many times to train on all the data\n",
        "SPLITS=3  # SPLITS=3 means train on 2/3 and validate on 1/3 \n",
        "FOLDS=3  # train the model this many times (range 1 to SPLITS)"
      ],
      "execution_count": 2,
      "outputs": []
    },
    {
      "cell_type": "code",
      "metadata": {
        "colab": {
          "base_uri": "https://localhost:8080/"
        },
        "id": "lr7q90rxj2UE",
        "outputId": "e99c9d50-8f20-42e1-d695-0746ad61d6ae"
      },
      "source": [
        "import sys\n",
        "IN_COLAB = False\n",
        "try:\n",
        "    from google.colab import drive\n",
        "    IN_COLAB = True\n",
        "except:\n",
        "    pass\n",
        "if IN_COLAB:\n",
        "    print(\"On Google CoLab, mount cloud-local file, get our code from GitHub.\")\n",
        "    PATH='/content/drive/'\n",
        "    #drive.mount(PATH,force_remount=True)  # hardly ever need this\n",
        "    #drive.mount(PATH)    # Google will require login credentials\n",
        "    DATAPATH=PATH+'My Drive/data/'  # must end in \"/\"\n",
        "    import requests\n",
        "    r = requests.get('https://raw.githubusercontent.com/ShepherdCode/Soars2021/master/SimTools/RNA_describe.py')\n",
        "    with open('RNA_describe.py', 'w') as f:\n",
        "        f.write(r.text)  \n",
        "    from RNA_describe import ORF_counter\n",
        "    from RNA_describe import Random_Base_Oracle\n",
        "    r = requests.get('https://raw.githubusercontent.com/ShepherdCode/Soars2021/master/SimTools/RNA_prep.py')\n",
        "    with open('RNA_prep.py', 'w') as f:\n",
        "        f.write(r.text)  \n",
        "    from RNA_prep import prepare_inputs_len_x_alphabet\n",
        "else:\n",
        "        print(\"CoLab not working. On my PC, use relative paths.\")\n",
        "        DATAPATH='data/'  # must end in \"/\"\n",
        "        sys.path.append(\"..\") # append parent dir in order to use sibling dirs\n",
        "        from SimTools.RNA_describe import ORF_counter,Random_Base_Oracle\n",
        "        from SimTools.RNA_prep import prepare_inputs_len_x_alphabet\n",
        "\n",
        "MODELPATH=\"BestModel\"  # saved on cloud instance and lost after logout\n",
        "#MODELPATH=DATAPATH+MODELPATH  # saved on Google Drive but requires login\n"
      ],
      "execution_count": 3,
      "outputs": [
        {
          "output_type": "stream",
          "text": [
            "On Google CoLab, mount cloud-local file, get our code from GitHub.\n"
          ],
          "name": "stdout"
        }
      ]
    },
    {
      "cell_type": "code",
      "metadata": {
        "id": "EGDXH8Uwj2UM"
      },
      "source": [
        "from os import listdir\n",
        "import csv\n",
        "from zipfile import ZipFile\n",
        "\n",
        "import numpy as np\n",
        "import pandas as pd\n",
        "from scipy import stats  # mode\n",
        "\n",
        "from sklearn.preprocessing import StandardScaler\n",
        "from sklearn.model_selection import KFold\n",
        "from sklearn.model_selection import cross_val_score\n",
        "\n",
        "from keras.models import Sequential\n",
        "from keras.layers import Dense,Embedding,Dropout\n",
        "from keras.layers import Conv1D,Conv2D\n",
        "from keras.layers import GRU,LSTM\n",
        "from keras.layers import Flatten,TimeDistributed\n",
        "from keras.layers import MaxPooling1D,MaxPooling2D\n",
        "from keras.losses import BinaryCrossentropy\n",
        "# tf.keras.losses.BinaryCrossentropy\n",
        "\n",
        "import matplotlib.pyplot as plt\n",
        "from matplotlib import colors\n",
        "mycmap = colors.ListedColormap(['red','blue'])  # list color for label 0 then 1\n",
        "np.set_printoptions(precision=2)\n"
      ],
      "execution_count": 4,
      "outputs": []
    },
    {
      "cell_type": "code",
      "metadata": {
        "colab": {
          "base_uri": "https://localhost:8080/"
        },
        "id": "CUOG_jEvGtOm",
        "outputId": "c42adca0-5ef1-4266-e2f4-201fcba9eba6"
      },
      "source": [
        "rbo=Random_Base_Oracle(RNA_LEN,True)\n",
        "pc_all,nc_all = rbo.get_partitioned_sequences(CDS_LEN,10) # just testing\n",
        "pc_all,nc_all = rbo.get_partitioned_sequences(CDS_LEN,PC_SEQUENCES+PC_TESTS)\n",
        "print(\"Use\",len(pc_all),\"PC seqs\")\n",
        "print(\"Use\",len(nc_all),\"NC seqs\")"
      ],
      "execution_count": 5,
      "outputs": [
        {
          "output_type": "stream",
          "text": [
            "It took 56 trials to reach 10 per class.\n",
            "It took 103391 trials to reach 33000 per class.\n",
            "Use 33000 PC seqs\n",
            "Use 33000 NC seqs\n"
          ],
          "name": "stdout"
        }
      ]
    },
    {
      "cell_type": "code",
      "metadata": {
        "colab": {
          "base_uri": "https://localhost:8080/"
        },
        "id": "Q-BmSXi2jUyl",
        "outputId": "95d6e595-0f7f-4fbb-d6ad-6807b11a5d48"
      },
      "source": [
        "# Describe the sequences\n",
        "def describe_sequences(list_of_seq):\n",
        "    oc = ORF_counter()\n",
        "    num_seq = len(list_of_seq)\n",
        "    rna_lens = np.zeros(num_seq)\n",
        "    orf_lens = np.zeros(num_seq)\n",
        "    for i in range(0,num_seq):\n",
        "        rna_len = len(list_of_seq[i])\n",
        "        rna_lens[i] = rna_len\n",
        "        oc.set_sequence(list_of_seq[i])\n",
        "        orf_len = oc.get_max_orf_len()\n",
        "        orf_lens[i] = orf_len\n",
        "    print (\"Average RNA length:\",rna_lens.mean())\n",
        "    print (\"Average ORF length:\",orf_lens.mean())\n",
        "    \n",
        "print(\"Simulated sequences prior to adjustment:\")\n",
        "print(\"PC seqs\")\n",
        "describe_sequences(pc_all)\n",
        "print(\"NC seqs\")\n",
        "describe_sequences(nc_all)"
      ],
      "execution_count": 6,
      "outputs": [
        {
          "output_type": "stream",
          "text": [
            "Simulated sequences prior to adjustment:\n",
            "PC seqs\n",
            "Average RNA length: 64.0\n",
            "Average ORF length: 38.32090909090909\n",
            "NC seqs\n",
            "Average RNA length: 64.0\n",
            "Average ORF length: 8.165\n"
          ],
          "name": "stdout"
        }
      ]
    },
    {
      "cell_type": "code",
      "metadata": {
        "id": "iP1y7-J3jUys"
      },
      "source": [
        "pc_train=pc_all[:PC_SEQUENCES]\n",
        "nc_train=nc_all[:NC_SEQUENCES]\n",
        "pc_test=pc_all[PC_SEQUENCES:]\n",
        "nc_test=nc_all[NC_SEQUENCES:]"
      ],
      "execution_count": 7,
      "outputs": []
    },
    {
      "cell_type": "code",
      "metadata": {
        "colab": {
          "base_uri": "https://localhost:8080/"
        },
        "id": "CIpTrnH6j2US",
        "outputId": "13d91ed6-b218-447b-db6a-ec88e26803a5"
      },
      "source": [
        "# Use code from our SimTools library.\n",
        "X,y = prepare_inputs_len_x_alphabet(pc_train,nc_train,ALPHABET) # shuffles\n",
        "print(\"Data ready.\")"
      ],
      "execution_count": 8,
      "outputs": [
        {
          "output_type": "stream",
          "text": [
            "Data ready.\n"
          ],
          "name": "stdout"
        }
      ]
    },
    {
      "cell_type": "code",
      "metadata": {
        "colab": {
          "base_uri": "https://localhost:8080/"
        },
        "id": "7NvrVU8ij2UU",
        "outputId": "12e6aa5b-219f-43db-e12c-a70ada115684"
      },
      "source": [
        "def make_DNN():\n",
        "    print(\"make_DNN\")\n",
        "    print(\"input shape:\",INPUT_SHAPE)\n",
        "    dnn = Sequential()\n",
        "    #dnn.add(Embedding(input_dim=INPUT_SHAPE,output_dim=INPUT_SHAPE)) \n",
        "    dnn.add(Conv1D(filters=FILTERS,kernel_size=WIDTH,strides=STRIDE,padding=\"same\",\n",
        "            input_shape=INPUT_SHAPE))\n",
        "    dnn.add(Conv1D(filters=FILTERS,kernel_size=WIDTH,strides=STRIDE,padding=\"same\"))\n",
        "    dnn.add(MaxPooling1D())\n",
        "    #dnn.add(Conv1D(filters=FILTERS,kernel_size=WIDTH,strides=STRIDE,padding=\"same\"))\n",
        "    #dnn.add(Conv1D(filters=FILTERS,kernel_size=WIDTH,strides=STRIDE,padding=\"same\"))\n",
        "    #dnn.add(MaxPooling1D())\n",
        "    #dnn.add(TimeDistributed(Flatten()))\n",
        "    dnn.add(GRU(CELLS,return_sequences=True))\n",
        "    dnn.add(GRU(CELLS,return_sequences=False))\n",
        "    dnn.add(Dense(NEURONS,activation=\"sigmoid\",dtype=np.float32))   \n",
        "    dnn.add(Dropout(DROP_RATE))\n",
        "    dnn.add(Dense(1,activation=\"sigmoid\",dtype=np.float32))   \n",
        "    dnn.compile(optimizer='adam',\n",
        "                loss=BinaryCrossentropy(from_logits=False),\n",
        "                metrics=['accuracy'])   # add to default metrics=loss\n",
        "    dnn.build(input_shape=INPUT_SHAPE)\n",
        "    #ln_rate = tf.keras.optimizers.Adam(learning_rate = LN_RATE)\n",
        "    #bc=tf.keras.losses.BinaryCrossentropy(from_logits=False)\n",
        "    #model.compile(loss=bc, optimizer=ln_rate, metrics=[\"accuracy\"])\n",
        "    return dnn\n",
        "model = make_DNN()\n",
        "print(model.summary())"
      ],
      "execution_count": 9,
      "outputs": [
        {
          "output_type": "stream",
          "text": [
            "make_DNN\n",
            "input shape: (64, 4)\n",
            "Model: \"sequential\"\n",
            "_________________________________________________________________\n",
            "Layer (type)                 Output Shape              Param #   \n",
            "=================================================================\n",
            "conv1d (Conv1D)              (None, 64, 16)            208       \n",
            "_________________________________________________________________\n",
            "conv1d_1 (Conv1D)            (None, 64, 16)            784       \n",
            "_________________________________________________________________\n",
            "max_pooling1d (MaxPooling1D) (None, 32, 16)            0         \n",
            "_________________________________________________________________\n",
            "gru (GRU)                    (None, 32, 16)            1632      \n",
            "_________________________________________________________________\n",
            "gru_1 (GRU)                  (None, 16)                1632      \n",
            "_________________________________________________________________\n",
            "dense (Dense)                (None, 16)                272       \n",
            "_________________________________________________________________\n",
            "dropout (Dropout)            (None, 16)                0         \n",
            "_________________________________________________________________\n",
            "dense_1 (Dense)              (None, 1)                 17        \n",
            "=================================================================\n",
            "Total params: 4,545\n",
            "Trainable params: 4,545\n",
            "Non-trainable params: 0\n",
            "_________________________________________________________________\n",
            "None\n"
          ],
          "name": "stdout"
        }
      ]
    },
    {
      "cell_type": "code",
      "metadata": {
        "id": "nlVF0hR3j2UW"
      },
      "source": [
        "from keras.callbacks import ModelCheckpoint\n",
        "def do_cross_validation(X,y):\n",
        "    cv_scores = []\n",
        "    fold=0\n",
        "    mycallbacks = [ModelCheckpoint(\n",
        "        filepath=MODELPATH, save_best_only=True, \n",
        "        monitor='val_accuracy', mode='max')]   \n",
        "    splitter = KFold(n_splits=SPLITS)  # this does not shuffle\n",
        "    for train_index,valid_index in splitter.split(X):\n",
        "        if fold < FOLDS:\n",
        "            fold += 1\n",
        "            X_train=X[train_index] # inputs for training\n",
        "            y_train=y[train_index] # labels for training\n",
        "            X_valid=X[valid_index] # inputs for validation\n",
        "            y_valid=y[valid_index] # labels for validation\n",
        "            print(\"MODEL\")\n",
        "            # Call constructor on each CV. Else, continually improves the same model.\n",
        "            model = model = make_DNN()\n",
        "            print(\"FIT\")  # model.fit() implements learning\n",
        "            start_time=time.time()\n",
        "            history=model.fit(X_train, y_train, \n",
        "                    epochs=EPOCHS, \n",
        "                    verbose=1,  # ascii art while learning\n",
        "                    callbacks=mycallbacks,   # called at end of each epoch\n",
        "                    validation_data=(X_valid,y_valid))\n",
        "            end_time=time.time()\n",
        "            elapsed_time=(end_time-start_time)                        \n",
        "            print(\"Fold %d, %d epochs, %d sec\"%(fold,EPOCHS,elapsed_time))\n",
        "            # print(history.history.keys())  # all these keys will be shown in figure\n",
        "            pd.DataFrame(history.history).plot(figsize=(8,5))\n",
        "            plt.grid(True)\n",
        "            plt.gca().set_ylim(0,1) # any losses > 1 will be off the scale\n",
        "            plt.show()\n"
      ],
      "execution_count": 10,
      "outputs": []
    },
    {
      "cell_type": "code",
      "metadata": {
        "colab": {
          "base_uri": "https://localhost:8080/",
          "height": 1000
        },
        "id": "9Ggt4EsSj2UY",
        "outputId": "76ea7cb5-98fd-4df8-8aae-34cf4b112334"
      },
      "source": [
        "do_cross_validation(X,y)"
      ],
      "execution_count": 11,
      "outputs": [
        {
          "output_type": "stream",
          "text": [
            "MODEL\n",
            "make_DNN\n",
            "input shape: (64, 4)\n",
            "FIT\n",
            "Epoch 1/100\n",
            "1334/1334 [==============================] - 41s 8ms/step - loss: 0.7022 - accuracy: 0.5273 - val_loss: 0.6451 - val_accuracy: 0.6192\n"
          ],
          "name": "stdout"
        },
        {
          "output_type": "stream",
          "text": [
            "WARNING:absl:Found untraced functions such as gru_cell_2_layer_call_and_return_conditional_losses, gru_cell_2_layer_call_fn, gru_cell_3_layer_call_and_return_conditional_losses, gru_cell_3_layer_call_fn, gru_cell_2_layer_call_fn while saving (showing 5 of 10). These functions will not be directly callable after loading.\n"
          ],
          "name": "stderr"
        },
        {
          "output_type": "stream",
          "text": [
            "INFO:tensorflow:Assets written to: BestModel/assets\n"
          ],
          "name": "stdout"
        },
        {
          "output_type": "stream",
          "text": [
            "INFO:tensorflow:Assets written to: BestModel/assets\n"
          ],
          "name": "stderr"
        },
        {
          "output_type": "stream",
          "text": [
            "Epoch 2/100\n",
            "1334/1334 [==============================] - 9s 7ms/step - loss: 0.6357 - accuracy: 0.6342 - val_loss: 0.6229 - val_accuracy: 0.6397\n"
          ],
          "name": "stdout"
        },
        {
          "output_type": "stream",
          "text": [
            "WARNING:absl:Found untraced functions such as gru_cell_2_layer_call_and_return_conditional_losses, gru_cell_2_layer_call_fn, gru_cell_3_layer_call_and_return_conditional_losses, gru_cell_3_layer_call_fn, gru_cell_2_layer_call_fn while saving (showing 5 of 10). These functions will not be directly callable after loading.\n"
          ],
          "name": "stderr"
        },
        {
          "output_type": "stream",
          "text": [
            "INFO:tensorflow:Assets written to: BestModel/assets\n"
          ],
          "name": "stdout"
        },
        {
          "output_type": "stream",
          "text": [
            "INFO:tensorflow:Assets written to: BestModel/assets\n"
          ],
          "name": "stderr"
        },
        {
          "output_type": "stream",
          "text": [
            "Epoch 3/100\n",
            "1334/1334 [==============================] - 9s 7ms/step - loss: 0.6281 - accuracy: 0.6419 - val_loss: 0.6246 - val_accuracy: 0.6440\n"
          ],
          "name": "stdout"
        },
        {
          "output_type": "stream",
          "text": [
            "WARNING:absl:Found untraced functions such as gru_cell_2_layer_call_and_return_conditional_losses, gru_cell_2_layer_call_fn, gru_cell_3_layer_call_and_return_conditional_losses, gru_cell_3_layer_call_fn, gru_cell_2_layer_call_fn while saving (showing 5 of 10). These functions will not be directly callable after loading.\n"
          ],
          "name": "stderr"
        },
        {
          "output_type": "stream",
          "text": [
            "INFO:tensorflow:Assets written to: BestModel/assets\n"
          ],
          "name": "stdout"
        },
        {
          "output_type": "stream",
          "text": [
            "INFO:tensorflow:Assets written to: BestModel/assets\n"
          ],
          "name": "stderr"
        },
        {
          "output_type": "stream",
          "text": [
            "Epoch 4/100\n",
            "1334/1334 [==============================] - 9s 7ms/step - loss: 0.6212 - accuracy: 0.6492 - val_loss: 0.6102 - val_accuracy: 0.6576\n"
          ],
          "name": "stdout"
        },
        {
          "output_type": "stream",
          "text": [
            "WARNING:absl:Found untraced functions such as gru_cell_2_layer_call_and_return_conditional_losses, gru_cell_2_layer_call_fn, gru_cell_3_layer_call_and_return_conditional_losses, gru_cell_3_layer_call_fn, gru_cell_2_layer_call_fn while saving (showing 5 of 10). These functions will not be directly callable after loading.\n"
          ],
          "name": "stderr"
        },
        {
          "output_type": "stream",
          "text": [
            "INFO:tensorflow:Assets written to: BestModel/assets\n"
          ],
          "name": "stdout"
        },
        {
          "output_type": "stream",
          "text": [
            "INFO:tensorflow:Assets written to: BestModel/assets\n"
          ],
          "name": "stderr"
        },
        {
          "output_type": "stream",
          "text": [
            "Epoch 5/100\n",
            "1334/1334 [==============================] - 9s 7ms/step - loss: 0.6002 - accuracy: 0.6677 - val_loss: 0.5693 - val_accuracy: 0.6911\n"
          ],
          "name": "stdout"
        },
        {
          "output_type": "stream",
          "text": [
            "WARNING:absl:Found untraced functions such as gru_cell_2_layer_call_and_return_conditional_losses, gru_cell_2_layer_call_fn, gru_cell_3_layer_call_and_return_conditional_losses, gru_cell_3_layer_call_fn, gru_cell_2_layer_call_fn while saving (showing 5 of 10). These functions will not be directly callable after loading.\n"
          ],
          "name": "stderr"
        },
        {
          "output_type": "stream",
          "text": [
            "INFO:tensorflow:Assets written to: BestModel/assets\n"
          ],
          "name": "stdout"
        },
        {
          "output_type": "stream",
          "text": [
            "INFO:tensorflow:Assets written to: BestModel/assets\n"
          ],
          "name": "stderr"
        },
        {
          "output_type": "stream",
          "text": [
            "Epoch 6/100\n",
            "1334/1334 [==============================] - 9s 7ms/step - loss: 0.5663 - accuracy: 0.6933 - val_loss: 0.5597 - val_accuracy: 0.6942\n"
          ],
          "name": "stdout"
        },
        {
          "output_type": "stream",
          "text": [
            "WARNING:absl:Found untraced functions such as gru_cell_2_layer_call_and_return_conditional_losses, gru_cell_2_layer_call_fn, gru_cell_3_layer_call_and_return_conditional_losses, gru_cell_3_layer_call_fn, gru_cell_2_layer_call_fn while saving (showing 5 of 10). These functions will not be directly callable after loading.\n"
          ],
          "name": "stderr"
        },
        {
          "output_type": "stream",
          "text": [
            "INFO:tensorflow:Assets written to: BestModel/assets\n"
          ],
          "name": "stdout"
        },
        {
          "output_type": "stream",
          "text": [
            "INFO:tensorflow:Assets written to: BestModel/assets\n"
          ],
          "name": "stderr"
        },
        {
          "output_type": "stream",
          "text": [
            "Epoch 7/100\n",
            "1334/1334 [==============================] - 9s 7ms/step - loss: 0.5602 - accuracy: 0.6968 - val_loss: 0.5479 - val_accuracy: 0.7016\n"
          ],
          "name": "stdout"
        },
        {
          "output_type": "stream",
          "text": [
            "WARNING:absl:Found untraced functions such as gru_cell_2_layer_call_and_return_conditional_losses, gru_cell_2_layer_call_fn, gru_cell_3_layer_call_and_return_conditional_losses, gru_cell_3_layer_call_fn, gru_cell_2_layer_call_fn while saving (showing 5 of 10). These functions will not be directly callable after loading.\n"
          ],
          "name": "stderr"
        },
        {
          "output_type": "stream",
          "text": [
            "INFO:tensorflow:Assets written to: BestModel/assets\n"
          ],
          "name": "stdout"
        },
        {
          "output_type": "stream",
          "text": [
            "INFO:tensorflow:Assets written to: BestModel/assets\n"
          ],
          "name": "stderr"
        },
        {
          "output_type": "stream",
          "text": [
            "Epoch 8/100\n",
            "1334/1334 [==============================] - 9s 7ms/step - loss: 0.5509 - accuracy: 0.7018 - val_loss: 0.5471 - val_accuracy: 0.6978\n",
            "Epoch 9/100\n",
            "1334/1334 [==============================] - 9s 7ms/step - loss: 0.5457 - accuracy: 0.7020 - val_loss: 0.5430 - val_accuracy: 0.6992\n",
            "Epoch 10/100\n",
            "1334/1334 [==============================] - 9s 7ms/step - loss: 0.5369 - accuracy: 0.7123 - val_loss: 0.5426 - val_accuracy: 0.7017\n"
          ],
          "name": "stdout"
        },
        {
          "output_type": "stream",
          "text": [
            "WARNING:absl:Found untraced functions such as gru_cell_2_layer_call_and_return_conditional_losses, gru_cell_2_layer_call_fn, gru_cell_3_layer_call_and_return_conditional_losses, gru_cell_3_layer_call_fn, gru_cell_2_layer_call_fn while saving (showing 5 of 10). These functions will not be directly callable after loading.\n"
          ],
          "name": "stderr"
        },
        {
          "output_type": "stream",
          "text": [
            "INFO:tensorflow:Assets written to: BestModel/assets\n"
          ],
          "name": "stdout"
        },
        {
          "output_type": "stream",
          "text": [
            "INFO:tensorflow:Assets written to: BestModel/assets\n"
          ],
          "name": "stderr"
        },
        {
          "output_type": "stream",
          "text": [
            "Epoch 11/100\n",
            "1334/1334 [==============================] - 9s 7ms/step - loss: 0.5425 - accuracy: 0.7054 - val_loss: 0.5356 - val_accuracy: 0.7056\n"
          ],
          "name": "stdout"
        },
        {
          "output_type": "stream",
          "text": [
            "WARNING:absl:Found untraced functions such as gru_cell_2_layer_call_and_return_conditional_losses, gru_cell_2_layer_call_fn, gru_cell_3_layer_call_and_return_conditional_losses, gru_cell_3_layer_call_fn, gru_cell_2_layer_call_fn while saving (showing 5 of 10). These functions will not be directly callable after loading.\n"
          ],
          "name": "stderr"
        },
        {
          "output_type": "stream",
          "text": [
            "INFO:tensorflow:Assets written to: BestModel/assets\n"
          ],
          "name": "stdout"
        },
        {
          "output_type": "stream",
          "text": [
            "INFO:tensorflow:Assets written to: BestModel/assets\n"
          ],
          "name": "stderr"
        },
        {
          "output_type": "stream",
          "text": [
            "Epoch 12/100\n",
            "1334/1334 [==============================] - 9s 7ms/step - loss: 0.5339 - accuracy: 0.7102 - val_loss: 0.5401 - val_accuracy: 0.7040\n",
            "Epoch 13/100\n",
            "1334/1334 [==============================] - 9s 7ms/step - loss: 0.5372 - accuracy: 0.7070 - val_loss: 0.5422 - val_accuracy: 0.6996\n",
            "Epoch 14/100\n",
            "1334/1334 [==============================] - 9s 7ms/step - loss: 0.5371 - accuracy: 0.7074 - val_loss: 0.5397 - val_accuracy: 0.7035\n",
            "Epoch 15/100\n",
            "1334/1334 [==============================] - 9s 7ms/step - loss: 0.5328 - accuracy: 0.7111 - val_loss: 0.5344 - val_accuracy: 0.7071\n"
          ],
          "name": "stdout"
        },
        {
          "output_type": "stream",
          "text": [
            "WARNING:absl:Found untraced functions such as gru_cell_2_layer_call_and_return_conditional_losses, gru_cell_2_layer_call_fn, gru_cell_3_layer_call_and_return_conditional_losses, gru_cell_3_layer_call_fn, gru_cell_2_layer_call_fn while saving (showing 5 of 10). These functions will not be directly callable after loading.\n"
          ],
          "name": "stderr"
        },
        {
          "output_type": "stream",
          "text": [
            "INFO:tensorflow:Assets written to: BestModel/assets\n"
          ],
          "name": "stdout"
        },
        {
          "output_type": "stream",
          "text": [
            "INFO:tensorflow:Assets written to: BestModel/assets\n"
          ],
          "name": "stderr"
        },
        {
          "output_type": "stream",
          "text": [
            "Epoch 16/100\n",
            "1334/1334 [==============================] - 9s 7ms/step - loss: 0.5305 - accuracy: 0.7108 - val_loss: 0.5345 - val_accuracy: 0.7115\n"
          ],
          "name": "stdout"
        },
        {
          "output_type": "stream",
          "text": [
            "WARNING:absl:Found untraced functions such as gru_cell_2_layer_call_and_return_conditional_losses, gru_cell_2_layer_call_fn, gru_cell_3_layer_call_and_return_conditional_losses, gru_cell_3_layer_call_fn, gru_cell_2_layer_call_fn while saving (showing 5 of 10). These functions will not be directly callable after loading.\n"
          ],
          "name": "stderr"
        },
        {
          "output_type": "stream",
          "text": [
            "INFO:tensorflow:Assets written to: BestModel/assets\n"
          ],
          "name": "stdout"
        },
        {
          "output_type": "stream",
          "text": [
            "INFO:tensorflow:Assets written to: BestModel/assets\n"
          ],
          "name": "stderr"
        },
        {
          "output_type": "stream",
          "text": [
            "Epoch 17/100\n",
            "1334/1334 [==============================] - 9s 7ms/step - loss: 0.5319 - accuracy: 0.7088 - val_loss: 0.5342 - val_accuracy: 0.7082\n",
            "Epoch 18/100\n",
            "1334/1334 [==============================] - 9s 7ms/step - loss: 0.5259 - accuracy: 0.7171 - val_loss: 0.5280 - val_accuracy: 0.7092\n",
            "Epoch 19/100\n",
            "1334/1334 [==============================] - 9s 7ms/step - loss: 0.5257 - accuracy: 0.7138 - val_loss: 0.5321 - val_accuracy: 0.7073\n",
            "Epoch 20/100\n",
            "1334/1334 [==============================] - 9s 7ms/step - loss: 0.5245 - accuracy: 0.7135 - val_loss: 0.5415 - val_accuracy: 0.7066\n",
            "Epoch 21/100\n",
            "1334/1334 [==============================] - 9s 7ms/step - loss: 0.5261 - accuracy: 0.7147 - val_loss: 0.5529 - val_accuracy: 0.7003\n",
            "Epoch 22/100\n",
            "1334/1334 [==============================] - 9s 7ms/step - loss: 0.5227 - accuracy: 0.7146 - val_loss: 0.5302 - val_accuracy: 0.7106\n",
            "Epoch 23/100\n",
            "1334/1334 [==============================] - 9s 7ms/step - loss: 0.5188 - accuracy: 0.7182 - val_loss: 0.5545 - val_accuracy: 0.7071\n",
            "Epoch 24/100\n",
            "1334/1334 [==============================] - 9s 7ms/step - loss: 0.5245 - accuracy: 0.7123 - val_loss: 0.5311 - val_accuracy: 0.7075\n",
            "Epoch 25/100\n",
            "1334/1334 [==============================] - 9s 7ms/step - loss: 0.5209 - accuracy: 0.7158 - val_loss: 0.5338 - val_accuracy: 0.7123\n"
          ],
          "name": "stdout"
        },
        {
          "output_type": "stream",
          "text": [
            "WARNING:absl:Found untraced functions such as gru_cell_2_layer_call_and_return_conditional_losses, gru_cell_2_layer_call_fn, gru_cell_3_layer_call_and_return_conditional_losses, gru_cell_3_layer_call_fn, gru_cell_2_layer_call_fn while saving (showing 5 of 10). These functions will not be directly callable after loading.\n"
          ],
          "name": "stderr"
        },
        {
          "output_type": "stream",
          "text": [
            "INFO:tensorflow:Assets written to: BestModel/assets\n"
          ],
          "name": "stdout"
        },
        {
          "output_type": "stream",
          "text": [
            "INFO:tensorflow:Assets written to: BestModel/assets\n"
          ],
          "name": "stderr"
        },
        {
          "output_type": "stream",
          "text": [
            "Epoch 26/100\n",
            "1334/1334 [==============================] - 9s 7ms/step - loss: 0.5199 - accuracy: 0.7141 - val_loss: 0.5272 - val_accuracy: 0.7166\n"
          ],
          "name": "stdout"
        },
        {
          "output_type": "stream",
          "text": [
            "WARNING:absl:Found untraced functions such as gru_cell_2_layer_call_and_return_conditional_losses, gru_cell_2_layer_call_fn, gru_cell_3_layer_call_and_return_conditional_losses, gru_cell_3_layer_call_fn, gru_cell_2_layer_call_fn while saving (showing 5 of 10). These functions will not be directly callable after loading.\n"
          ],
          "name": "stderr"
        },
        {
          "output_type": "stream",
          "text": [
            "INFO:tensorflow:Assets written to: BestModel/assets\n"
          ],
          "name": "stdout"
        },
        {
          "output_type": "stream",
          "text": [
            "INFO:tensorflow:Assets written to: BestModel/assets\n"
          ],
          "name": "stderr"
        },
        {
          "output_type": "stream",
          "text": [
            "Epoch 27/100\n",
            "1334/1334 [==============================] - 9s 7ms/step - loss: 0.5184 - accuracy: 0.7204 - val_loss: 0.5306 - val_accuracy: 0.7141\n",
            "Epoch 28/100\n",
            "1334/1334 [==============================] - 9s 7ms/step - loss: 0.5174 - accuracy: 0.7170 - val_loss: 0.5254 - val_accuracy: 0.7182\n"
          ],
          "name": "stdout"
        },
        {
          "output_type": "stream",
          "text": [
            "WARNING:absl:Found untraced functions such as gru_cell_2_layer_call_and_return_conditional_losses, gru_cell_2_layer_call_fn, gru_cell_3_layer_call_and_return_conditional_losses, gru_cell_3_layer_call_fn, gru_cell_2_layer_call_fn while saving (showing 5 of 10). These functions will not be directly callable after loading.\n"
          ],
          "name": "stderr"
        },
        {
          "output_type": "stream",
          "text": [
            "INFO:tensorflow:Assets written to: BestModel/assets\n"
          ],
          "name": "stdout"
        },
        {
          "output_type": "stream",
          "text": [
            "INFO:tensorflow:Assets written to: BestModel/assets\n"
          ],
          "name": "stderr"
        },
        {
          "output_type": "stream",
          "text": [
            "Epoch 29/100\n",
            "1334/1334 [==============================] - 9s 7ms/step - loss: 0.5190 - accuracy: 0.7157 - val_loss: 0.5247 - val_accuracy: 0.7169\n",
            "Epoch 30/100\n",
            "1334/1334 [==============================] - 9s 7ms/step - loss: 0.5156 - accuracy: 0.7192 - val_loss: 0.5232 - val_accuracy: 0.7169\n",
            "Epoch 31/100\n",
            "1334/1334 [==============================] - 9s 7ms/step - loss: 0.5167 - accuracy: 0.7179 - val_loss: 0.5237 - val_accuracy: 0.7194\n"
          ],
          "name": "stdout"
        },
        {
          "output_type": "stream",
          "text": [
            "WARNING:absl:Found untraced functions such as gru_cell_2_layer_call_and_return_conditional_losses, gru_cell_2_layer_call_fn, gru_cell_3_layer_call_and_return_conditional_losses, gru_cell_3_layer_call_fn, gru_cell_2_layer_call_fn while saving (showing 5 of 10). These functions will not be directly callable after loading.\n"
          ],
          "name": "stderr"
        },
        {
          "output_type": "stream",
          "text": [
            "INFO:tensorflow:Assets written to: BestModel/assets\n"
          ],
          "name": "stdout"
        },
        {
          "output_type": "stream",
          "text": [
            "INFO:tensorflow:Assets written to: BestModel/assets\n"
          ],
          "name": "stderr"
        },
        {
          "output_type": "stream",
          "text": [
            "Epoch 32/100\n",
            "1334/1334 [==============================] - 9s 7ms/step - loss: 0.5124 - accuracy: 0.7180 - val_loss: 0.5213 - val_accuracy: 0.7190\n",
            "Epoch 33/100\n",
            "1334/1334 [==============================] - 9s 7ms/step - loss: 0.5138 - accuracy: 0.7192 - val_loss: 0.5219 - val_accuracy: 0.7173\n",
            "Epoch 34/100\n",
            "1334/1334 [==============================] - 9s 7ms/step - loss: 0.5141 - accuracy: 0.7182 - val_loss: 0.5220 - val_accuracy: 0.7219\n"
          ],
          "name": "stdout"
        },
        {
          "output_type": "stream",
          "text": [
            "WARNING:absl:Found untraced functions such as gru_cell_2_layer_call_and_return_conditional_losses, gru_cell_2_layer_call_fn, gru_cell_3_layer_call_and_return_conditional_losses, gru_cell_3_layer_call_fn, gru_cell_2_layer_call_fn while saving (showing 5 of 10). These functions will not be directly callable after loading.\n"
          ],
          "name": "stderr"
        },
        {
          "output_type": "stream",
          "text": [
            "INFO:tensorflow:Assets written to: BestModel/assets\n"
          ],
          "name": "stdout"
        },
        {
          "output_type": "stream",
          "text": [
            "INFO:tensorflow:Assets written to: BestModel/assets\n"
          ],
          "name": "stderr"
        },
        {
          "output_type": "stream",
          "text": [
            "Epoch 35/100\n",
            "1334/1334 [==============================] - 9s 7ms/step - loss: 0.5136 - accuracy: 0.7204 - val_loss: 0.5178 - val_accuracy: 0.7226\n"
          ],
          "name": "stdout"
        },
        {
          "output_type": "stream",
          "text": [
            "WARNING:absl:Found untraced functions such as gru_cell_2_layer_call_and_return_conditional_losses, gru_cell_2_layer_call_fn, gru_cell_3_layer_call_and_return_conditional_losses, gru_cell_3_layer_call_fn, gru_cell_2_layer_call_fn while saving (showing 5 of 10). These functions will not be directly callable after loading.\n"
          ],
          "name": "stderr"
        },
        {
          "output_type": "stream",
          "text": [
            "INFO:tensorflow:Assets written to: BestModel/assets\n"
          ],
          "name": "stdout"
        },
        {
          "output_type": "stream",
          "text": [
            "INFO:tensorflow:Assets written to: BestModel/assets\n"
          ],
          "name": "stderr"
        },
        {
          "output_type": "stream",
          "text": [
            "Epoch 36/100\n",
            "1334/1334 [==============================] - 9s 7ms/step - loss: 0.5090 - accuracy: 0.7268 - val_loss: 0.5210 - val_accuracy: 0.7176\n",
            "Epoch 37/100\n",
            "1334/1334 [==============================] - 10s 7ms/step - loss: 0.5115 - accuracy: 0.7206 - val_loss: 0.5218 - val_accuracy: 0.7171\n",
            "Epoch 38/100\n",
            "1334/1334 [==============================] - 9s 7ms/step - loss: 0.5060 - accuracy: 0.7267 - val_loss: 0.5193 - val_accuracy: 0.7206\n",
            "Epoch 39/100\n",
            "1334/1334 [==============================] - 9s 7ms/step - loss: 0.5098 - accuracy: 0.7199 - val_loss: 0.5175 - val_accuracy: 0.7210\n",
            "Epoch 40/100\n",
            "1334/1334 [==============================] - 9s 7ms/step - loss: 0.5071 - accuracy: 0.7251 - val_loss: 0.5272 - val_accuracy: 0.7219\n",
            "Epoch 41/100\n",
            "1334/1334 [==============================] - 9s 7ms/step - loss: 0.5047 - accuracy: 0.7261 - val_loss: 0.5198 - val_accuracy: 0.7183\n",
            "Epoch 42/100\n",
            "1334/1334 [==============================] - 9s 7ms/step - loss: 0.5073 - accuracy: 0.7247 - val_loss: 0.5210 - val_accuracy: 0.7197\n",
            "Epoch 43/100\n",
            "1334/1334 [==============================] - 9s 7ms/step - loss: 0.5054 - accuracy: 0.7252 - val_loss: 0.5165 - val_accuracy: 0.7234\n"
          ],
          "name": "stdout"
        },
        {
          "output_type": "stream",
          "text": [
            "WARNING:absl:Found untraced functions such as gru_cell_2_layer_call_and_return_conditional_losses, gru_cell_2_layer_call_fn, gru_cell_3_layer_call_and_return_conditional_losses, gru_cell_3_layer_call_fn, gru_cell_2_layer_call_fn while saving (showing 5 of 10). These functions will not be directly callable after loading.\n"
          ],
          "name": "stderr"
        },
        {
          "output_type": "stream",
          "text": [
            "INFO:tensorflow:Assets written to: BestModel/assets\n"
          ],
          "name": "stdout"
        },
        {
          "output_type": "stream",
          "text": [
            "INFO:tensorflow:Assets written to: BestModel/assets\n"
          ],
          "name": "stderr"
        },
        {
          "output_type": "stream",
          "text": [
            "Epoch 44/100\n",
            "1334/1334 [==============================] - 9s 7ms/step - loss: 0.5026 - accuracy: 0.7279 - val_loss: 0.5318 - val_accuracy: 0.7155\n",
            "Epoch 45/100\n",
            "1334/1334 [==============================] - 9s 7ms/step - loss: 0.5020 - accuracy: 0.7275 - val_loss: 0.5204 - val_accuracy: 0.7222\n",
            "Epoch 46/100\n",
            "1334/1334 [==============================] - 9s 7ms/step - loss: 0.5026 - accuracy: 0.7318 - val_loss: 0.5301 - val_accuracy: 0.7150\n",
            "Epoch 47/100\n",
            "1334/1334 [==============================] - 9s 7ms/step - loss: 0.5024 - accuracy: 0.7273 - val_loss: 0.5230 - val_accuracy: 0.7182\n",
            "Epoch 48/100\n",
            "1334/1334 [==============================] - 9s 7ms/step - loss: 0.5002 - accuracy: 0.7274 - val_loss: 0.5133 - val_accuracy: 0.7232\n",
            "Epoch 49/100\n",
            "1334/1334 [==============================] - 9s 7ms/step - loss: 0.4953 - accuracy: 0.7312 - val_loss: 0.5214 - val_accuracy: 0.7212\n",
            "Epoch 50/100\n",
            "1334/1334 [==============================] - 9s 7ms/step - loss: 0.4978 - accuracy: 0.7300 - val_loss: 0.5140 - val_accuracy: 0.7255\n"
          ],
          "name": "stdout"
        },
        {
          "output_type": "stream",
          "text": [
            "WARNING:absl:Found untraced functions such as gru_cell_2_layer_call_and_return_conditional_losses, gru_cell_2_layer_call_fn, gru_cell_3_layer_call_and_return_conditional_losses, gru_cell_3_layer_call_fn, gru_cell_2_layer_call_fn while saving (showing 5 of 10). These functions will not be directly callable after loading.\n"
          ],
          "name": "stderr"
        },
        {
          "output_type": "stream",
          "text": [
            "INFO:tensorflow:Assets written to: BestModel/assets\n"
          ],
          "name": "stdout"
        },
        {
          "output_type": "stream",
          "text": [
            "INFO:tensorflow:Assets written to: BestModel/assets\n"
          ],
          "name": "stderr"
        },
        {
          "output_type": "stream",
          "text": [
            "Epoch 51/100\n",
            "1334/1334 [==============================] - 9s 7ms/step - loss: 0.4935 - accuracy: 0.7329 - val_loss: 0.5162 - val_accuracy: 0.7253\n",
            "Epoch 52/100\n",
            "1334/1334 [==============================] - 9s 7ms/step - loss: 0.4979 - accuracy: 0.7294 - val_loss: 0.5168 - val_accuracy: 0.7242\n",
            "Epoch 53/100\n",
            "1334/1334 [==============================] - 9s 7ms/step - loss: 0.4915 - accuracy: 0.7367 - val_loss: 0.5116 - val_accuracy: 0.7240\n",
            "Epoch 54/100\n",
            "1334/1334 [==============================] - 9s 7ms/step - loss: 0.4918 - accuracy: 0.7322 - val_loss: 0.5109 - val_accuracy: 0.7262\n"
          ],
          "name": "stdout"
        },
        {
          "output_type": "stream",
          "text": [
            "WARNING:absl:Found untraced functions such as gru_cell_2_layer_call_and_return_conditional_losses, gru_cell_2_layer_call_fn, gru_cell_3_layer_call_and_return_conditional_losses, gru_cell_3_layer_call_fn, gru_cell_2_layer_call_fn while saving (showing 5 of 10). These functions will not be directly callable after loading.\n"
          ],
          "name": "stderr"
        },
        {
          "output_type": "stream",
          "text": [
            "INFO:tensorflow:Assets written to: BestModel/assets\n"
          ],
          "name": "stdout"
        },
        {
          "output_type": "stream",
          "text": [
            "INFO:tensorflow:Assets written to: BestModel/assets\n"
          ],
          "name": "stderr"
        },
        {
          "output_type": "stream",
          "text": [
            "Epoch 55/100\n",
            "1334/1334 [==============================] - 9s 7ms/step - loss: 0.4886 - accuracy: 0.7370 - val_loss: 0.5146 - val_accuracy: 0.7246\n",
            "Epoch 56/100\n",
            "1334/1334 [==============================] - 9s 7ms/step - loss: 0.4890 - accuracy: 0.7382 - val_loss: 0.5105 - val_accuracy: 0.7262\n",
            "Epoch 57/100\n",
            "1334/1334 [==============================] - 9s 7ms/step - loss: 0.4902 - accuracy: 0.7378 - val_loss: 0.5189 - val_accuracy: 0.7226\n",
            "Epoch 58/100\n",
            "1334/1334 [==============================] - 9s 7ms/step - loss: 0.4902 - accuracy: 0.7364 - val_loss: 0.5131 - val_accuracy: 0.7253\n",
            "Epoch 59/100\n",
            "1334/1334 [==============================] - 9s 7ms/step - loss: 0.4914 - accuracy: 0.7327 - val_loss: 0.5092 - val_accuracy: 0.7309\n"
          ],
          "name": "stdout"
        },
        {
          "output_type": "stream",
          "text": [
            "WARNING:absl:Found untraced functions such as gru_cell_2_layer_call_and_return_conditional_losses, gru_cell_2_layer_call_fn, gru_cell_3_layer_call_and_return_conditional_losses, gru_cell_3_layer_call_fn, gru_cell_2_layer_call_fn while saving (showing 5 of 10). These functions will not be directly callable after loading.\n"
          ],
          "name": "stderr"
        },
        {
          "output_type": "stream",
          "text": [
            "INFO:tensorflow:Assets written to: BestModel/assets\n"
          ],
          "name": "stdout"
        },
        {
          "output_type": "stream",
          "text": [
            "INFO:tensorflow:Assets written to: BestModel/assets\n"
          ],
          "name": "stderr"
        },
        {
          "output_type": "stream",
          "text": [
            "Epoch 60/100\n",
            "1334/1334 [==============================] - 9s 7ms/step - loss: 0.4816 - accuracy: 0.7405 - val_loss: 0.5033 - val_accuracy: 0.7312\n"
          ],
          "name": "stdout"
        },
        {
          "output_type": "stream",
          "text": [
            "WARNING:absl:Found untraced functions such as gru_cell_2_layer_call_and_return_conditional_losses, gru_cell_2_layer_call_fn, gru_cell_3_layer_call_and_return_conditional_losses, gru_cell_3_layer_call_fn, gru_cell_2_layer_call_fn while saving (showing 5 of 10). These functions will not be directly callable after loading.\n"
          ],
          "name": "stderr"
        },
        {
          "output_type": "stream",
          "text": [
            "INFO:tensorflow:Assets written to: BestModel/assets\n"
          ],
          "name": "stdout"
        },
        {
          "output_type": "stream",
          "text": [
            "INFO:tensorflow:Assets written to: BestModel/assets\n"
          ],
          "name": "stderr"
        },
        {
          "output_type": "stream",
          "text": [
            "Epoch 61/100\n",
            "1334/1334 [==============================] - 9s 7ms/step - loss: 0.4849 - accuracy: 0.7389 - val_loss: 0.5288 - val_accuracy: 0.7143\n",
            "Epoch 62/100\n",
            "1334/1334 [==============================] - 9s 7ms/step - loss: 0.4819 - accuracy: 0.7413 - val_loss: 0.5033 - val_accuracy: 0.7323\n"
          ],
          "name": "stdout"
        },
        {
          "output_type": "stream",
          "text": [
            "WARNING:absl:Found untraced functions such as gru_cell_2_layer_call_and_return_conditional_losses, gru_cell_2_layer_call_fn, gru_cell_3_layer_call_and_return_conditional_losses, gru_cell_3_layer_call_fn, gru_cell_2_layer_call_fn while saving (showing 5 of 10). These functions will not be directly callable after loading.\n"
          ],
          "name": "stderr"
        },
        {
          "output_type": "stream",
          "text": [
            "INFO:tensorflow:Assets written to: BestModel/assets\n"
          ],
          "name": "stdout"
        },
        {
          "output_type": "stream",
          "text": [
            "INFO:tensorflow:Assets written to: BestModel/assets\n"
          ],
          "name": "stderr"
        },
        {
          "output_type": "stream",
          "text": [
            "Epoch 63/100\n",
            "1334/1334 [==============================] - 9s 7ms/step - loss: 0.4760 - accuracy: 0.7473 - val_loss: 0.5035 - val_accuracy: 0.7360\n"
          ],
          "name": "stdout"
        },
        {
          "output_type": "stream",
          "text": [
            "WARNING:absl:Found untraced functions such as gru_cell_2_layer_call_and_return_conditional_losses, gru_cell_2_layer_call_fn, gru_cell_3_layer_call_and_return_conditional_losses, gru_cell_3_layer_call_fn, gru_cell_2_layer_call_fn while saving (showing 5 of 10). These functions will not be directly callable after loading.\n"
          ],
          "name": "stderr"
        },
        {
          "output_type": "stream",
          "text": [
            "INFO:tensorflow:Assets written to: BestModel/assets\n"
          ],
          "name": "stdout"
        },
        {
          "output_type": "stream",
          "text": [
            "INFO:tensorflow:Assets written to: BestModel/assets\n"
          ],
          "name": "stderr"
        },
        {
          "output_type": "stream",
          "text": [
            "Epoch 64/100\n",
            "1334/1334 [==============================] - 9s 7ms/step - loss: 0.4822 - accuracy: 0.7445 - val_loss: 0.5069 - val_accuracy: 0.7331\n",
            "Epoch 65/100\n",
            "1334/1334 [==============================] - 9s 7ms/step - loss: 0.4763 - accuracy: 0.7472 - val_loss: 0.4957 - val_accuracy: 0.7390\n"
          ],
          "name": "stdout"
        },
        {
          "output_type": "stream",
          "text": [
            "WARNING:absl:Found untraced functions such as gru_cell_2_layer_call_and_return_conditional_losses, gru_cell_2_layer_call_fn, gru_cell_3_layer_call_and_return_conditional_losses, gru_cell_3_layer_call_fn, gru_cell_2_layer_call_fn while saving (showing 5 of 10). These functions will not be directly callable after loading.\n"
          ],
          "name": "stderr"
        },
        {
          "output_type": "stream",
          "text": [
            "INFO:tensorflow:Assets written to: BestModel/assets\n"
          ],
          "name": "stdout"
        },
        {
          "output_type": "stream",
          "text": [
            "INFO:tensorflow:Assets written to: BestModel/assets\n"
          ],
          "name": "stderr"
        },
        {
          "output_type": "stream",
          "text": [
            "Epoch 66/100\n",
            "1334/1334 [==============================] - 9s 7ms/step - loss: 0.4754 - accuracy: 0.7474 - val_loss: 0.4972 - val_accuracy: 0.7374\n",
            "Epoch 67/100\n",
            "1334/1334 [==============================] - 9s 7ms/step - loss: 0.4764 - accuracy: 0.7491 - val_loss: 0.4958 - val_accuracy: 0.7392\n"
          ],
          "name": "stdout"
        },
        {
          "output_type": "stream",
          "text": [
            "WARNING:absl:Found untraced functions such as gru_cell_2_layer_call_and_return_conditional_losses, gru_cell_2_layer_call_fn, gru_cell_3_layer_call_and_return_conditional_losses, gru_cell_3_layer_call_fn, gru_cell_2_layer_call_fn while saving (showing 5 of 10). These functions will not be directly callable after loading.\n"
          ],
          "name": "stderr"
        },
        {
          "output_type": "stream",
          "text": [
            "INFO:tensorflow:Assets written to: BestModel/assets\n"
          ],
          "name": "stdout"
        },
        {
          "output_type": "stream",
          "text": [
            "INFO:tensorflow:Assets written to: BestModel/assets\n"
          ],
          "name": "stderr"
        },
        {
          "output_type": "stream",
          "text": [
            "Epoch 68/100\n",
            "1334/1334 [==============================] - 9s 7ms/step - loss: 0.4739 - accuracy: 0.7488 - val_loss: 0.4982 - val_accuracy: 0.7393\n"
          ],
          "name": "stdout"
        },
        {
          "output_type": "stream",
          "text": [
            "WARNING:absl:Found untraced functions such as gru_cell_2_layer_call_and_return_conditional_losses, gru_cell_2_layer_call_fn, gru_cell_3_layer_call_and_return_conditional_losses, gru_cell_3_layer_call_fn, gru_cell_2_layer_call_fn while saving (showing 5 of 10). These functions will not be directly callable after loading.\n"
          ],
          "name": "stderr"
        },
        {
          "output_type": "stream",
          "text": [
            "INFO:tensorflow:Assets written to: BestModel/assets\n"
          ],
          "name": "stdout"
        },
        {
          "output_type": "stream",
          "text": [
            "INFO:tensorflow:Assets written to: BestModel/assets\n"
          ],
          "name": "stderr"
        },
        {
          "output_type": "stream",
          "text": [
            "Epoch 69/100\n",
            "1334/1334 [==============================] - 9s 7ms/step - loss: 0.4744 - accuracy: 0.7532 - val_loss: 0.4917 - val_accuracy: 0.7418\n"
          ],
          "name": "stdout"
        },
        {
          "output_type": "stream",
          "text": [
            "WARNING:absl:Found untraced functions such as gru_cell_2_layer_call_and_return_conditional_losses, gru_cell_2_layer_call_fn, gru_cell_3_layer_call_and_return_conditional_losses, gru_cell_3_layer_call_fn, gru_cell_2_layer_call_fn while saving (showing 5 of 10). These functions will not be directly callable after loading.\n"
          ],
          "name": "stderr"
        },
        {
          "output_type": "stream",
          "text": [
            "INFO:tensorflow:Assets written to: BestModel/assets\n"
          ],
          "name": "stdout"
        },
        {
          "output_type": "stream",
          "text": [
            "INFO:tensorflow:Assets written to: BestModel/assets\n"
          ],
          "name": "stderr"
        },
        {
          "output_type": "stream",
          "text": [
            "Epoch 70/100\n",
            "1334/1334 [==============================] - 9s 7ms/step - loss: 0.4740 - accuracy: 0.7503 - val_loss: 0.4929 - val_accuracy: 0.7414\n",
            "Epoch 71/100\n",
            "1334/1334 [==============================] - 9s 7ms/step - loss: 0.4740 - accuracy: 0.7493 - val_loss: 0.4944 - val_accuracy: 0.7427\n"
          ],
          "name": "stdout"
        },
        {
          "output_type": "stream",
          "text": [
            "WARNING:absl:Found untraced functions such as gru_cell_2_layer_call_and_return_conditional_losses, gru_cell_2_layer_call_fn, gru_cell_3_layer_call_and_return_conditional_losses, gru_cell_3_layer_call_fn, gru_cell_2_layer_call_fn while saving (showing 5 of 10). These functions will not be directly callable after loading.\n"
          ],
          "name": "stderr"
        },
        {
          "output_type": "stream",
          "text": [
            "INFO:tensorflow:Assets written to: BestModel/assets\n"
          ],
          "name": "stdout"
        },
        {
          "output_type": "stream",
          "text": [
            "INFO:tensorflow:Assets written to: BestModel/assets\n"
          ],
          "name": "stderr"
        },
        {
          "output_type": "stream",
          "text": [
            "Epoch 72/100\n",
            "1334/1334 [==============================] - 9s 7ms/step - loss: 0.4769 - accuracy: 0.7485 - val_loss: 0.4944 - val_accuracy: 0.7426\n",
            "Epoch 73/100\n",
            "1334/1334 [==============================] - 9s 7ms/step - loss: 0.4692 - accuracy: 0.7523 - val_loss: 0.4897 - val_accuracy: 0.7475\n"
          ],
          "name": "stdout"
        },
        {
          "output_type": "stream",
          "text": [
            "WARNING:absl:Found untraced functions such as gru_cell_2_layer_call_and_return_conditional_losses, gru_cell_2_layer_call_fn, gru_cell_3_layer_call_and_return_conditional_losses, gru_cell_3_layer_call_fn, gru_cell_2_layer_call_fn while saving (showing 5 of 10). These functions will not be directly callable after loading.\n"
          ],
          "name": "stderr"
        },
        {
          "output_type": "stream",
          "text": [
            "INFO:tensorflow:Assets written to: BestModel/assets\n"
          ],
          "name": "stdout"
        },
        {
          "output_type": "stream",
          "text": [
            "INFO:tensorflow:Assets written to: BestModel/assets\n"
          ],
          "name": "stderr"
        },
        {
          "output_type": "stream",
          "text": [
            "Epoch 74/100\n",
            "1334/1334 [==============================] - 9s 7ms/step - loss: 0.4625 - accuracy: 0.7541 - val_loss: 0.4995 - val_accuracy: 0.7449\n",
            "Epoch 75/100\n",
            "1334/1334 [==============================] - 9s 7ms/step - loss: 0.4635 - accuracy: 0.7577 - val_loss: 0.4868 - val_accuracy: 0.7465\n",
            "Epoch 76/100\n",
            "1334/1334 [==============================] - 9s 7ms/step - loss: 0.4620 - accuracy: 0.7587 - val_loss: 0.4748 - val_accuracy: 0.7549\n"
          ],
          "name": "stdout"
        },
        {
          "output_type": "stream",
          "text": [
            "WARNING:absl:Found untraced functions such as gru_cell_2_layer_call_and_return_conditional_losses, gru_cell_2_layer_call_fn, gru_cell_3_layer_call_and_return_conditional_losses, gru_cell_3_layer_call_fn, gru_cell_2_layer_call_fn while saving (showing 5 of 10). These functions will not be directly callable after loading.\n"
          ],
          "name": "stderr"
        },
        {
          "output_type": "stream",
          "text": [
            "INFO:tensorflow:Assets written to: BestModel/assets\n"
          ],
          "name": "stdout"
        },
        {
          "output_type": "stream",
          "text": [
            "INFO:tensorflow:Assets written to: BestModel/assets\n"
          ],
          "name": "stderr"
        },
        {
          "output_type": "stream",
          "text": [
            "Epoch 77/100\n",
            "1334/1334 [==============================] - 9s 7ms/step - loss: 0.4583 - accuracy: 0.7655 - val_loss: 0.4799 - val_accuracy: 0.7485\n",
            "Epoch 78/100\n",
            "1334/1334 [==============================] - 9s 7ms/step - loss: 0.4523 - accuracy: 0.7700 - val_loss: 0.4725 - val_accuracy: 0.7564\n"
          ],
          "name": "stdout"
        },
        {
          "output_type": "stream",
          "text": [
            "WARNING:absl:Found untraced functions such as gru_cell_2_layer_call_and_return_conditional_losses, gru_cell_2_layer_call_fn, gru_cell_3_layer_call_and_return_conditional_losses, gru_cell_3_layer_call_fn, gru_cell_2_layer_call_fn while saving (showing 5 of 10). These functions will not be directly callable after loading.\n"
          ],
          "name": "stderr"
        },
        {
          "output_type": "stream",
          "text": [
            "INFO:tensorflow:Assets written to: BestModel/assets\n"
          ],
          "name": "stdout"
        },
        {
          "output_type": "stream",
          "text": [
            "INFO:tensorflow:Assets written to: BestModel/assets\n"
          ],
          "name": "stderr"
        },
        {
          "output_type": "stream",
          "text": [
            "Epoch 79/100\n",
            "1334/1334 [==============================] - 9s 7ms/step - loss: 0.4512 - accuracy: 0.7711 - val_loss: 0.4721 - val_accuracy: 0.7588\n"
          ],
          "name": "stdout"
        },
        {
          "output_type": "stream",
          "text": [
            "WARNING:absl:Found untraced functions such as gru_cell_2_layer_call_and_return_conditional_losses, gru_cell_2_layer_call_fn, gru_cell_3_layer_call_and_return_conditional_losses, gru_cell_3_layer_call_fn, gru_cell_2_layer_call_fn while saving (showing 5 of 10). These functions will not be directly callable after loading.\n"
          ],
          "name": "stderr"
        },
        {
          "output_type": "stream",
          "text": [
            "INFO:tensorflow:Assets written to: BestModel/assets\n"
          ],
          "name": "stdout"
        },
        {
          "output_type": "stream",
          "text": [
            "INFO:tensorflow:Assets written to: BestModel/assets\n"
          ],
          "name": "stderr"
        },
        {
          "output_type": "stream",
          "text": [
            "Epoch 80/100\n",
            "1334/1334 [==============================] - 9s 7ms/step - loss: 0.4498 - accuracy: 0.7717 - val_loss: 0.4729 - val_accuracy: 0.7589\n"
          ],
          "name": "stdout"
        },
        {
          "output_type": "stream",
          "text": [
            "WARNING:absl:Found untraced functions such as gru_cell_2_layer_call_and_return_conditional_losses, gru_cell_2_layer_call_fn, gru_cell_3_layer_call_and_return_conditional_losses, gru_cell_3_layer_call_fn, gru_cell_2_layer_call_fn while saving (showing 5 of 10). These functions will not be directly callable after loading.\n"
          ],
          "name": "stderr"
        },
        {
          "output_type": "stream",
          "text": [
            "INFO:tensorflow:Assets written to: BestModel/assets\n"
          ],
          "name": "stdout"
        },
        {
          "output_type": "stream",
          "text": [
            "INFO:tensorflow:Assets written to: BestModel/assets\n"
          ],
          "name": "stderr"
        },
        {
          "output_type": "stream",
          "text": [
            "Epoch 81/100\n",
            "1334/1334 [==============================] - 9s 7ms/step - loss: 0.4565 - accuracy: 0.7684 - val_loss: 0.4626 - val_accuracy: 0.7639\n"
          ],
          "name": "stdout"
        },
        {
          "output_type": "stream",
          "text": [
            "WARNING:absl:Found untraced functions such as gru_cell_2_layer_call_and_return_conditional_losses, gru_cell_2_layer_call_fn, gru_cell_3_layer_call_and_return_conditional_losses, gru_cell_3_layer_call_fn, gru_cell_2_layer_call_fn while saving (showing 5 of 10). These functions will not be directly callable after loading.\n"
          ],
          "name": "stderr"
        },
        {
          "output_type": "stream",
          "text": [
            "INFO:tensorflow:Assets written to: BestModel/assets\n"
          ],
          "name": "stdout"
        },
        {
          "output_type": "stream",
          "text": [
            "INFO:tensorflow:Assets written to: BestModel/assets\n"
          ],
          "name": "stderr"
        },
        {
          "output_type": "stream",
          "text": [
            "Epoch 82/100\n",
            "1334/1334 [==============================] - 9s 7ms/step - loss: 0.4433 - accuracy: 0.7740 - val_loss: 0.4682 - val_accuracy: 0.7668\n"
          ],
          "name": "stdout"
        },
        {
          "output_type": "stream",
          "text": [
            "WARNING:absl:Found untraced functions such as gru_cell_2_layer_call_and_return_conditional_losses, gru_cell_2_layer_call_fn, gru_cell_3_layer_call_and_return_conditional_losses, gru_cell_3_layer_call_fn, gru_cell_2_layer_call_fn while saving (showing 5 of 10). These functions will not be directly callable after loading.\n"
          ],
          "name": "stderr"
        },
        {
          "output_type": "stream",
          "text": [
            "INFO:tensorflow:Assets written to: BestModel/assets\n"
          ],
          "name": "stdout"
        },
        {
          "output_type": "stream",
          "text": [
            "INFO:tensorflow:Assets written to: BestModel/assets\n"
          ],
          "name": "stderr"
        },
        {
          "output_type": "stream",
          "text": [
            "Epoch 83/100\n",
            "1334/1334 [==============================] - 9s 7ms/step - loss: 0.4424 - accuracy: 0.7805 - val_loss: 0.4611 - val_accuracy: 0.7666\n",
            "Epoch 84/100\n",
            "1334/1334 [==============================] - 9s 7ms/step - loss: 0.4423 - accuracy: 0.7742 - val_loss: 0.4557 - val_accuracy: 0.7722\n"
          ],
          "name": "stdout"
        },
        {
          "output_type": "stream",
          "text": [
            "WARNING:absl:Found untraced functions such as gru_cell_2_layer_call_and_return_conditional_losses, gru_cell_2_layer_call_fn, gru_cell_3_layer_call_and_return_conditional_losses, gru_cell_3_layer_call_fn, gru_cell_2_layer_call_fn while saving (showing 5 of 10). These functions will not be directly callable after loading.\n"
          ],
          "name": "stderr"
        },
        {
          "output_type": "stream",
          "text": [
            "INFO:tensorflow:Assets written to: BestModel/assets\n"
          ],
          "name": "stdout"
        },
        {
          "output_type": "stream",
          "text": [
            "INFO:tensorflow:Assets written to: BestModel/assets\n"
          ],
          "name": "stderr"
        },
        {
          "output_type": "stream",
          "text": [
            "Epoch 85/100\n",
            "1334/1334 [==============================] - 9s 7ms/step - loss: 0.4406 - accuracy: 0.7777 - val_loss: 0.4485 - val_accuracy: 0.7757\n"
          ],
          "name": "stdout"
        },
        {
          "output_type": "stream",
          "text": [
            "WARNING:absl:Found untraced functions such as gru_cell_2_layer_call_and_return_conditional_losses, gru_cell_2_layer_call_fn, gru_cell_3_layer_call_and_return_conditional_losses, gru_cell_3_layer_call_fn, gru_cell_2_layer_call_fn while saving (showing 5 of 10). These functions will not be directly callable after loading.\n"
          ],
          "name": "stderr"
        },
        {
          "output_type": "stream",
          "text": [
            "INFO:tensorflow:Assets written to: BestModel/assets\n"
          ],
          "name": "stdout"
        },
        {
          "output_type": "stream",
          "text": [
            "INFO:tensorflow:Assets written to: BestModel/assets\n"
          ],
          "name": "stderr"
        },
        {
          "output_type": "stream",
          "text": [
            "Epoch 86/100\n",
            "1334/1334 [==============================] - 9s 7ms/step - loss: 0.4350 - accuracy: 0.7792 - val_loss: 0.4493 - val_accuracy: 0.7765\n"
          ],
          "name": "stdout"
        },
        {
          "output_type": "stream",
          "text": [
            "WARNING:absl:Found untraced functions such as gru_cell_2_layer_call_and_return_conditional_losses, gru_cell_2_layer_call_fn, gru_cell_3_layer_call_and_return_conditional_losses, gru_cell_3_layer_call_fn, gru_cell_2_layer_call_fn while saving (showing 5 of 10). These functions will not be directly callable after loading.\n"
          ],
          "name": "stderr"
        },
        {
          "output_type": "stream",
          "text": [
            "INFO:tensorflow:Assets written to: BestModel/assets\n"
          ],
          "name": "stdout"
        },
        {
          "output_type": "stream",
          "text": [
            "INFO:tensorflow:Assets written to: BestModel/assets\n"
          ],
          "name": "stderr"
        },
        {
          "output_type": "stream",
          "text": [
            "Epoch 87/100\n",
            "1334/1334 [==============================] - 9s 7ms/step - loss: 0.4610 - accuracy: 0.7692 - val_loss: 0.4761 - val_accuracy: 0.7592\n",
            "Epoch 88/100\n",
            "1334/1334 [==============================] - 9s 7ms/step - loss: 0.4543 - accuracy: 0.7711 - val_loss: 0.4479 - val_accuracy: 0.7785\n"
          ],
          "name": "stdout"
        },
        {
          "output_type": "stream",
          "text": [
            "WARNING:absl:Found untraced functions such as gru_cell_2_layer_call_and_return_conditional_losses, gru_cell_2_layer_call_fn, gru_cell_3_layer_call_and_return_conditional_losses, gru_cell_3_layer_call_fn, gru_cell_2_layer_call_fn while saving (showing 5 of 10). These functions will not be directly callable after loading.\n"
          ],
          "name": "stderr"
        },
        {
          "output_type": "stream",
          "text": [
            "INFO:tensorflow:Assets written to: BestModel/assets\n"
          ],
          "name": "stdout"
        },
        {
          "output_type": "stream",
          "text": [
            "INFO:tensorflow:Assets written to: BestModel/assets\n"
          ],
          "name": "stderr"
        },
        {
          "output_type": "stream",
          "text": [
            "Epoch 89/100\n",
            "1334/1334 [==============================] - 9s 7ms/step - loss: 0.4333 - accuracy: 0.7851 - val_loss: 0.4299 - val_accuracy: 0.7886\n"
          ],
          "name": "stdout"
        },
        {
          "output_type": "stream",
          "text": [
            "WARNING:absl:Found untraced functions such as gru_cell_2_layer_call_and_return_conditional_losses, gru_cell_2_layer_call_fn, gru_cell_3_layer_call_and_return_conditional_losses, gru_cell_3_layer_call_fn, gru_cell_2_layer_call_fn while saving (showing 5 of 10). These functions will not be directly callable after loading.\n"
          ],
          "name": "stderr"
        },
        {
          "output_type": "stream",
          "text": [
            "INFO:tensorflow:Assets written to: BestModel/assets\n"
          ],
          "name": "stdout"
        },
        {
          "output_type": "stream",
          "text": [
            "INFO:tensorflow:Assets written to: BestModel/assets\n"
          ],
          "name": "stderr"
        },
        {
          "output_type": "stream",
          "text": [
            "Epoch 90/100\n",
            "1334/1334 [==============================] - 9s 7ms/step - loss: 0.4163 - accuracy: 0.7988 - val_loss: 0.4201 - val_accuracy: 0.7946\n"
          ],
          "name": "stdout"
        },
        {
          "output_type": "stream",
          "text": [
            "WARNING:absl:Found untraced functions such as gru_cell_2_layer_call_and_return_conditional_losses, gru_cell_2_layer_call_fn, gru_cell_3_layer_call_and_return_conditional_losses, gru_cell_3_layer_call_fn, gru_cell_2_layer_call_fn while saving (showing 5 of 10). These functions will not be directly callable after loading.\n"
          ],
          "name": "stderr"
        },
        {
          "output_type": "stream",
          "text": [
            "INFO:tensorflow:Assets written to: BestModel/assets\n"
          ],
          "name": "stdout"
        },
        {
          "output_type": "stream",
          "text": [
            "INFO:tensorflow:Assets written to: BestModel/assets\n"
          ],
          "name": "stderr"
        },
        {
          "output_type": "stream",
          "text": [
            "Epoch 91/100\n",
            "1334/1334 [==============================] - 9s 7ms/step - loss: 0.4063 - accuracy: 0.8028 - val_loss: 0.4128 - val_accuracy: 0.7995\n"
          ],
          "name": "stdout"
        },
        {
          "output_type": "stream",
          "text": [
            "WARNING:absl:Found untraced functions such as gru_cell_2_layer_call_and_return_conditional_losses, gru_cell_2_layer_call_fn, gru_cell_3_layer_call_and_return_conditional_losses, gru_cell_3_layer_call_fn, gru_cell_2_layer_call_fn while saving (showing 5 of 10). These functions will not be directly callable after loading.\n"
          ],
          "name": "stderr"
        },
        {
          "output_type": "stream",
          "text": [
            "INFO:tensorflow:Assets written to: BestModel/assets\n"
          ],
          "name": "stdout"
        },
        {
          "output_type": "stream",
          "text": [
            "INFO:tensorflow:Assets written to: BestModel/assets\n"
          ],
          "name": "stderr"
        },
        {
          "output_type": "stream",
          "text": [
            "Epoch 92/100\n",
            "1334/1334 [==============================] - 9s 7ms/step - loss: 0.3868 - accuracy: 0.8170 - val_loss: 0.3965 - val_accuracy: 0.8061\n"
          ],
          "name": "stdout"
        },
        {
          "output_type": "stream",
          "text": [
            "WARNING:absl:Found untraced functions such as gru_cell_2_layer_call_and_return_conditional_losses, gru_cell_2_layer_call_fn, gru_cell_3_layer_call_and_return_conditional_losses, gru_cell_3_layer_call_fn, gru_cell_2_layer_call_fn while saving (showing 5 of 10). These functions will not be directly callable after loading.\n"
          ],
          "name": "stderr"
        },
        {
          "output_type": "stream",
          "text": [
            "INFO:tensorflow:Assets written to: BestModel/assets\n"
          ],
          "name": "stdout"
        },
        {
          "output_type": "stream",
          "text": [
            "INFO:tensorflow:Assets written to: BestModel/assets\n"
          ],
          "name": "stderr"
        },
        {
          "output_type": "stream",
          "text": [
            "Epoch 93/100\n",
            "1334/1334 [==============================] - 9s 7ms/step - loss: 0.3904 - accuracy: 0.8125 - val_loss: 0.3958 - val_accuracy: 0.8098\n"
          ],
          "name": "stdout"
        },
        {
          "output_type": "stream",
          "text": [
            "WARNING:absl:Found untraced functions such as gru_cell_2_layer_call_and_return_conditional_losses, gru_cell_2_layer_call_fn, gru_cell_3_layer_call_and_return_conditional_losses, gru_cell_3_layer_call_fn, gru_cell_2_layer_call_fn while saving (showing 5 of 10). These functions will not be directly callable after loading.\n"
          ],
          "name": "stderr"
        },
        {
          "output_type": "stream",
          "text": [
            "INFO:tensorflow:Assets written to: BestModel/assets\n"
          ],
          "name": "stdout"
        },
        {
          "output_type": "stream",
          "text": [
            "INFO:tensorflow:Assets written to: BestModel/assets\n"
          ],
          "name": "stderr"
        },
        {
          "output_type": "stream",
          "text": [
            "Epoch 94/100\n",
            "1334/1334 [==============================] - 9s 7ms/step - loss: 0.3832 - accuracy: 0.8178 - val_loss: 0.3728 - val_accuracy: 0.8165\n"
          ],
          "name": "stdout"
        },
        {
          "output_type": "stream",
          "text": [
            "WARNING:absl:Found untraced functions such as gru_cell_2_layer_call_and_return_conditional_losses, gru_cell_2_layer_call_fn, gru_cell_3_layer_call_and_return_conditional_losses, gru_cell_3_layer_call_fn, gru_cell_2_layer_call_fn while saving (showing 5 of 10). These functions will not be directly callable after loading.\n"
          ],
          "name": "stderr"
        },
        {
          "output_type": "stream",
          "text": [
            "INFO:tensorflow:Assets written to: BestModel/assets\n"
          ],
          "name": "stdout"
        },
        {
          "output_type": "stream",
          "text": [
            "INFO:tensorflow:Assets written to: BestModel/assets\n"
          ],
          "name": "stderr"
        },
        {
          "output_type": "stream",
          "text": [
            "Epoch 95/100\n",
            "1334/1334 [==============================] - 9s 7ms/step - loss: 0.3748 - accuracy: 0.8196 - val_loss: 0.3664 - val_accuracy: 0.8174\n"
          ],
          "name": "stdout"
        },
        {
          "output_type": "stream",
          "text": [
            "WARNING:absl:Found untraced functions such as gru_cell_2_layer_call_and_return_conditional_losses, gru_cell_2_layer_call_fn, gru_cell_3_layer_call_and_return_conditional_losses, gru_cell_3_layer_call_fn, gru_cell_2_layer_call_fn while saving (showing 5 of 10). These functions will not be directly callable after loading.\n"
          ],
          "name": "stderr"
        },
        {
          "output_type": "stream",
          "text": [
            "INFO:tensorflow:Assets written to: BestModel/assets\n"
          ],
          "name": "stdout"
        },
        {
          "output_type": "stream",
          "text": [
            "INFO:tensorflow:Assets written to: BestModel/assets\n"
          ],
          "name": "stderr"
        },
        {
          "output_type": "stream",
          "text": [
            "Epoch 96/100\n",
            "1334/1334 [==============================] - 9s 7ms/step - loss: 0.5701 - accuracy: 0.6934 - val_loss: 0.6329 - val_accuracy: 0.6223\n",
            "Epoch 97/100\n",
            "1334/1334 [==============================] - 9s 7ms/step - loss: 0.6387 - accuracy: 0.6243 - val_loss: 0.6194 - val_accuracy: 0.6323\n",
            "Epoch 98/100\n",
            "1334/1334 [==============================] - 9s 7ms/step - loss: 0.6244 - accuracy: 0.6438 - val_loss: 0.5961 - val_accuracy: 0.6598\n",
            "Epoch 99/100\n",
            "1334/1334 [==============================] - 9s 7ms/step - loss: 0.5933 - accuracy: 0.6673 - val_loss: 0.5729 - val_accuracy: 0.6778\n",
            "Epoch 100/100\n",
            "1334/1334 [==============================] - 9s 7ms/step - loss: 0.5693 - accuracy: 0.6885 - val_loss: 0.5653 - val_accuracy: 0.6927\n",
            "Fold 1, 100 epochs, 1258 sec\n"
          ],
          "name": "stdout"
        },
        {
          "output_type": "display_data",
          "data": {
            "image/png": "[encoded data removed]",
            "text/plain": [
              "<Figure size 576x360 with 1 Axes>"
            ]
          },
          "metadata": {
            "tags": [],
            "needs_background": "light"
          }
        },
        {
          "output_type": "stream",
          "text": [
            "MODEL\n",
            "make_DNN\n",
            "input shape: (64, 4)\n",
            "FIT\n",
            "Epoch 1/100\n",
            "1334/1334 [==============================] - 13s 8ms/step - loss: 0.7138 - accuracy: 0.5175 - val_loss: 0.6356 - val_accuracy: 0.6359\n",
            "Epoch 2/100\n",
            "1334/1334 [==============================] - 9s 7ms/step - loss: 0.6396 - accuracy: 0.6305 - val_loss: 0.6224 - val_accuracy: 0.6459\n",
            "Epoch 3/100\n",
            "1334/1334 [==============================] - 9s 7ms/step - loss: 0.6291 - accuracy: 0.6407 - val_loss: 0.6177 - val_accuracy: 0.6495\n",
            "Epoch 4/100\n",
            "1334/1334 [==============================] - 9s 7ms/step - loss: 0.6238 - accuracy: 0.6445 - val_loss: 0.6204 - val_accuracy: 0.6493\n",
            "Epoch 5/100\n",
            "1334/1334 [==============================] - 9s 7ms/step - loss: 0.6191 - accuracy: 0.6468 - val_loss: 0.6128 - val_accuracy: 0.6541\n",
            "Epoch 6/100\n",
            "1334/1334 [==============================] - 9s 7ms/step - loss: 0.6166 - accuracy: 0.6561 - val_loss: 0.6042 - val_accuracy: 0.6663\n",
            "Epoch 7/100\n",
            "1334/1334 [==============================] - 9s 7ms/step - loss: 0.6032 - accuracy: 0.6658 - val_loss: 0.5870 - val_accuracy: 0.6834\n",
            "Epoch 8/100\n",
            "1334/1334 [==============================] - 9s 7ms/step - loss: 0.5699 - accuracy: 0.6911 - val_loss: 0.5559 - val_accuracy: 0.6993\n",
            "Epoch 9/100\n",
            "1334/1334 [==============================] - 9s 7ms/step - loss: 0.5604 - accuracy: 0.6963 - val_loss: 0.5513 - val_accuracy: 0.7026\n",
            "Epoch 10/100\n",
            "1334/1334 [==============================] - 9s 7ms/step - loss: 0.5512 - accuracy: 0.7007 - val_loss: 0.5404 - val_accuracy: 0.7079\n",
            "Epoch 11/100\n",
            "1334/1334 [==============================] - 9s 7ms/step - loss: 0.5520 - accuracy: 0.7028 - val_loss: 0.5326 - val_accuracy: 0.7111\n",
            "Epoch 12/100\n",
            "1334/1334 [==============================] - 9s 7ms/step - loss: 0.5423 - accuracy: 0.7058 - val_loss: 0.5387 - val_accuracy: 0.7089\n",
            "Epoch 13/100\n",
            "1334/1334 [==============================] - 9s 7ms/step - loss: 0.5374 - accuracy: 0.7084 - val_loss: 0.5273 - val_accuracy: 0.7149\n",
            "Epoch 14/100\n",
            "1334/1334 [==============================] - 9s 7ms/step - loss: 0.5376 - accuracy: 0.7045 - val_loss: 0.5291 - val_accuracy: 0.7123\n",
            "Epoch 15/100\n",
            "1334/1334 [==============================] - 9s 7ms/step - loss: 0.5354 - accuracy: 0.7103 - val_loss: 0.5261 - val_accuracy: 0.7164\n",
            "Epoch 16/100\n",
            "1334/1334 [==============================] - 9s 7ms/step - loss: 0.5276 - accuracy: 0.7163 - val_loss: 0.5269 - val_accuracy: 0.7162\n",
            "Epoch 17/100\n",
            "1334/1334 [==============================] - 9s 7ms/step - loss: 0.5278 - accuracy: 0.7126 - val_loss: 0.5256 - val_accuracy: 0.7150\n",
            "Epoch 18/100\n",
            "1334/1334 [==============================] - 9s 7ms/step - loss: 0.5241 - accuracy: 0.7201 - val_loss: 0.5208 - val_accuracy: 0.7153\n",
            "Epoch 19/100\n",
            "1334/1334 [==============================] - 9s 7ms/step - loss: 0.5213 - accuracy: 0.7192 - val_loss: 0.5168 - val_accuracy: 0.7247\n",
            "Epoch 20/100\n",
            "1334/1334 [==============================] - 9s 7ms/step - loss: 0.5168 - accuracy: 0.7237 - val_loss: 0.5155 - val_accuracy: 0.7251\n",
            "Epoch 21/100\n",
            "1334/1334 [==============================] - 9s 7ms/step - loss: 0.5133 - accuracy: 0.7219 - val_loss: 0.5136 - val_accuracy: 0.7262\n",
            "Epoch 22/100\n",
            "1334/1334 [==============================] - 9s 7ms/step - loss: 0.5101 - accuracy: 0.7228 - val_loss: 0.5110 - val_accuracy: 0.7275\n",
            "Epoch 23/100\n",
            "1334/1334 [==============================] - 9s 7ms/step - loss: 0.5118 - accuracy: 0.7249 - val_loss: 0.5112 - val_accuracy: 0.7297\n",
            "Epoch 24/100\n",
            "1334/1334 [==============================] - 9s 7ms/step - loss: 0.5013 - accuracy: 0.7336 - val_loss: 0.4973 - val_accuracy: 0.7364\n",
            "Epoch 25/100\n",
            "1334/1334 [==============================] - 9s 7ms/step - loss: 0.4980 - accuracy: 0.7331 - val_loss: 0.5173 - val_accuracy: 0.7258\n",
            "Epoch 26/100\n",
            "1334/1334 [==============================] - 9s 7ms/step - loss: 0.4985 - accuracy: 0.7337 - val_loss: 0.4912 - val_accuracy: 0.7426\n",
            "Epoch 27/100\n",
            "1334/1334 [==============================] - 9s 7ms/step - loss: 0.4891 - accuracy: 0.7438 - val_loss: 0.4730 - val_accuracy: 0.7581\n",
            "Epoch 28/100\n",
            "1334/1334 [==============================] - 9s 7ms/step - loss: 0.5230 - accuracy: 0.7233 - val_loss: 0.4846 - val_accuracy: 0.7483\n",
            "Epoch 29/100\n",
            "1334/1334 [==============================] - 9s 7ms/step - loss: 0.4748 - accuracy: 0.7576 - val_loss: 0.4553 - val_accuracy: 0.7745\n",
            "Epoch 30/100\n",
            "1334/1334 [==============================] - 9s 7ms/step - loss: 0.4447 - accuracy: 0.7767 - val_loss: 0.4527 - val_accuracy: 0.7749\n",
            "Epoch 31/100\n",
            "1334/1334 [==============================] - 9s 7ms/step - loss: 0.4361 - accuracy: 0.7855 - val_loss: 0.4271 - val_accuracy: 0.7894\n",
            "Epoch 32/100\n",
            "1334/1334 [==============================] - 9s 7ms/step - loss: 0.4517 - accuracy: 0.7758 - val_loss: 0.4115 - val_accuracy: 0.8018\n",
            "Epoch 33/100\n",
            "1334/1334 [==============================] - 9s 7ms/step - loss: 0.4078 - accuracy: 0.8031 - val_loss: 0.3846 - val_accuracy: 0.8170\n",
            "Epoch 34/100\n",
            "1334/1334 [==============================] - 9s 7ms/step - loss: 0.3941 - accuracy: 0.8130 - val_loss: 0.3938 - val_accuracy: 0.8147\n",
            "Epoch 35/100\n",
            "1334/1334 [==============================] - 9s 7ms/step - loss: 0.3817 - accuracy: 0.8162 - val_loss: 0.3365 - val_accuracy: 0.8414\n"
          ],
          "name": "stdout"
        },
        {
          "output_type": "stream",
          "text": [
            "WARNING:absl:Found untraced functions such as gru_cell_4_layer_call_and_return_conditional_losses, gru_cell_4_layer_call_fn, gru_cell_5_layer_call_and_return_conditional_losses, gru_cell_5_layer_call_fn, gru_cell_4_layer_call_fn while saving (showing 5 of 10). These functions will not be directly callable after loading.\n"
          ],
          "name": "stderr"
        },
        {
          "output_type": "stream",
          "text": [
            "INFO:tensorflow:Assets written to: BestModel/assets\n"
          ],
          "name": "stdout"
        },
        {
          "output_type": "stream",
          "text": [
            "INFO:tensorflow:Assets written to: BestModel/assets\n"
          ],
          "name": "stderr"
        },
        {
          "output_type": "stream",
          "text": [
            "Epoch 36/100\n",
            "1334/1334 [==============================] - 9s 7ms/step - loss: 0.4598 - accuracy: 0.7649 - val_loss: 0.4574 - val_accuracy: 0.7751\n",
            "Epoch 37/100\n",
            "1334/1334 [==============================] - 9s 7ms/step - loss: 0.4437 - accuracy: 0.7836 - val_loss: 0.4145 - val_accuracy: 0.8059\n",
            "Epoch 38/100\n",
            "1334/1334 [==============================] - 9s 7ms/step - loss: 0.4630 - accuracy: 0.7703 - val_loss: 0.4301 - val_accuracy: 0.7916\n",
            "Epoch 39/100\n",
            "1334/1334 [==============================] - 9s 7ms/step - loss: 0.4411 - accuracy: 0.7825 - val_loss: 0.4372 - val_accuracy: 0.7875\n",
            "Epoch 40/100\n",
            "1334/1334 [==============================] - 9s 7ms/step - loss: 0.4478 - accuracy: 0.7739 - val_loss: 0.4342 - val_accuracy: 0.7899\n",
            "Epoch 41/100\n",
            "1334/1334 [==============================] - 9s 7ms/step - loss: 0.4473 - accuracy: 0.7760 - val_loss: 0.4342 - val_accuracy: 0.7879\n",
            "Epoch 42/100\n",
            "1334/1334 [==============================] - 9s 7ms/step - loss: 0.4492 - accuracy: 0.7746 - val_loss: 0.4223 - val_accuracy: 0.7987\n",
            "Epoch 43/100\n",
            "1334/1334 [==============================] - 9s 7ms/step - loss: 0.4458 - accuracy: 0.7766 - val_loss: 0.4285 - val_accuracy: 0.7902\n",
            "Epoch 44/100\n",
            "1334/1334 [==============================] - 9s 7ms/step - loss: 0.4392 - accuracy: 0.7811 - val_loss: 0.4564 - val_accuracy: 0.7676\n",
            "Epoch 45/100\n",
            "1334/1334 [==============================] - 9s 7ms/step - loss: 0.4378 - accuracy: 0.7803 - val_loss: 0.4224 - val_accuracy: 0.7973\n",
            "Epoch 46/100\n",
            "1334/1334 [==============================] - 9s 7ms/step - loss: 0.4349 - accuracy: 0.7848 - val_loss: 0.4206 - val_accuracy: 0.7963\n",
            "Epoch 47/100\n",
            "1334/1334 [==============================] - 9s 7ms/step - loss: 0.4368 - accuracy: 0.7838 - val_loss: 0.4167 - val_accuracy: 0.7989\n",
            "Epoch 48/100\n",
            "1334/1334 [==============================] - 9s 7ms/step - loss: 0.4266 - accuracy: 0.7875 - val_loss: 0.4133 - val_accuracy: 0.7961\n",
            "Epoch 49/100\n",
            "1334/1334 [==============================] - 9s 7ms/step - loss: 0.4232 - accuracy: 0.7896 - val_loss: 0.4248 - val_accuracy: 0.7959\n",
            "Epoch 50/100\n",
            "1334/1334 [==============================] - 9s 7ms/step - loss: 0.5081 - accuracy: 0.7286 - val_loss: 0.5263 - val_accuracy: 0.7206\n",
            "Epoch 51/100\n",
            "1334/1334 [==============================] - 9s 7ms/step - loss: 0.5263 - accuracy: 0.7219 - val_loss: 0.4878 - val_accuracy: 0.7546\n",
            "Epoch 52/100\n",
            "1334/1334 [==============================] - 9s 7ms/step - loss: 0.4801 - accuracy: 0.7581 - val_loss: 0.4323 - val_accuracy: 0.7838\n",
            "Epoch 53/100\n",
            "1334/1334 [==============================] - 9s 7ms/step - loss: 0.4457 - accuracy: 0.7746 - val_loss: 0.5426 - val_accuracy: 0.7113\n",
            "Epoch 54/100\n",
            "1334/1334 [==============================] - 9s 7ms/step - loss: 0.5188 - accuracy: 0.7297 - val_loss: 0.4176 - val_accuracy: 0.7971\n",
            "Epoch 55/100\n",
            "1334/1334 [==============================] - 9s 7ms/step - loss: 0.4294 - accuracy: 0.7893 - val_loss: 0.4136 - val_accuracy: 0.8008\n",
            "Epoch 56/100\n",
            "1334/1334 [==============================] - 9s 7ms/step - loss: 0.4131 - accuracy: 0.7995 - val_loss: 0.4232 - val_accuracy: 0.7914\n",
            "Epoch 57/100\n",
            "1334/1334 [==============================] - 9s 7ms/step - loss: 0.4116 - accuracy: 0.7938 - val_loss: 0.4108 - val_accuracy: 0.8073\n",
            "Epoch 58/100\n",
            "1334/1334 [==============================] - 9s 7ms/step - loss: 0.4212 - accuracy: 0.7886 - val_loss: 0.4013 - val_accuracy: 0.8035\n",
            "Epoch 59/100\n",
            "1334/1334 [==============================] - 9s 7ms/step - loss: 0.4114 - accuracy: 0.8007 - val_loss: 0.3998 - val_accuracy: 0.8042\n",
            "Epoch 60/100\n",
            "1334/1334 [==============================] - 9s 7ms/step - loss: 0.3994 - accuracy: 0.8070 - val_loss: 0.4017 - val_accuracy: 0.8067\n",
            "Epoch 61/100\n",
            "1334/1334 [==============================] - 9s 7ms/step - loss: 0.3797 - accuracy: 0.8134 - val_loss: 0.5087 - val_accuracy: 0.7524\n",
            "Epoch 62/100\n",
            "1334/1334 [==============================] - 9s 7ms/step - loss: 0.3930 - accuracy: 0.8063 - val_loss: 0.3776 - val_accuracy: 0.8163\n",
            "Epoch 63/100\n",
            "1334/1334 [==============================] - 9s 7ms/step - loss: 0.3741 - accuracy: 0.8206 - val_loss: 0.3533 - val_accuracy: 0.8270\n",
            "Epoch 64/100\n",
            "1334/1334 [==============================] - 9s 7ms/step - loss: 0.3689 - accuracy: 0.8207 - val_loss: 0.3467 - val_accuracy: 0.8359\n",
            "Epoch 65/100\n",
            "1334/1334 [==============================] - 9s 7ms/step - loss: 0.4522 - accuracy: 0.7658 - val_loss: 0.5823 - val_accuracy: 0.6811\n",
            "Epoch 66/100\n",
            "1334/1334 [==============================] - 9s 7ms/step - loss: 0.5719 - accuracy: 0.6918 - val_loss: 0.4667 - val_accuracy: 0.7700\n",
            "Epoch 67/100\n",
            "1334/1334 [==============================] - 9s 7ms/step - loss: 0.4121 - accuracy: 0.8006 - val_loss: 0.3521 - val_accuracy: 0.8316\n",
            "Epoch 68/100\n",
            "1334/1334 [==============================] - 9s 7ms/step - loss: 0.3677 - accuracy: 0.8210 - val_loss: 0.3353 - val_accuracy: 0.8355\n",
            "Epoch 69/100\n",
            "1334/1334 [==============================] - 9s 7ms/step - loss: 0.3418 - accuracy: 0.8312 - val_loss: 0.3508 - val_accuracy: 0.8258\n",
            "Epoch 70/100\n",
            "1334/1334 [==============================] - 9s 7ms/step - loss: 0.3422 - accuracy: 0.8334 - val_loss: 0.3288 - val_accuracy: 0.8411\n",
            "Epoch 71/100\n",
            "1334/1334 [==============================] - 9s 7ms/step - loss: 0.3984 - accuracy: 0.8132 - val_loss: 0.3341 - val_accuracy: 0.8381\n",
            "Epoch 72/100\n",
            "1334/1334 [==============================] - 9s 7ms/step - loss: 0.3302 - accuracy: 0.8385 - val_loss: 0.3142 - val_accuracy: 0.8453\n"
          ],
          "name": "stdout"
        },
        {
          "output_type": "stream",
          "text": [
            "WARNING:absl:Found untraced functions such as gru_cell_4_layer_call_and_return_conditional_losses, gru_cell_4_layer_call_fn, gru_cell_5_layer_call_and_return_conditional_losses, gru_cell_5_layer_call_fn, gru_cell_4_layer_call_fn while saving (showing 5 of 10). These functions will not be directly callable after loading.\n"
          ],
          "name": "stderr"
        },
        {
          "output_type": "stream",
          "text": [
            "INFO:tensorflow:Assets written to: BestModel/assets\n"
          ],
          "name": "stdout"
        },
        {
          "output_type": "stream",
          "text": [
            "INFO:tensorflow:Assets written to: BestModel/assets\n"
          ],
          "name": "stderr"
        },
        {
          "output_type": "stream",
          "text": [
            "Epoch 73/100\n",
            "1334/1334 [==============================] - 9s 7ms/step - loss: 0.3233 - accuracy: 0.8400 - val_loss: 0.3027 - val_accuracy: 0.8517\n"
          ],
          "name": "stdout"
        },
        {
          "output_type": "stream",
          "text": [
            "WARNING:absl:Found untraced functions such as gru_cell_4_layer_call_and_return_conditional_losses, gru_cell_4_layer_call_fn, gru_cell_5_layer_call_and_return_conditional_losses, gru_cell_5_layer_call_fn, gru_cell_4_layer_call_fn while saving (showing 5 of 10). These functions will not be directly callable after loading.\n"
          ],
          "name": "stderr"
        },
        {
          "output_type": "stream",
          "text": [
            "INFO:tensorflow:Assets written to: BestModel/assets\n"
          ],
          "name": "stdout"
        },
        {
          "output_type": "stream",
          "text": [
            "INFO:tensorflow:Assets written to: BestModel/assets\n"
          ],
          "name": "stderr"
        },
        {
          "output_type": "stream",
          "text": [
            "Epoch 74/100\n",
            "1334/1334 [==============================] - 9s 7ms/step - loss: 0.3400 - accuracy: 0.8296 - val_loss: 0.4102 - val_accuracy: 0.8138\n",
            "Epoch 75/100\n",
            "1334/1334 [==============================] - 9s 7ms/step - loss: 0.4424 - accuracy: 0.7895 - val_loss: 0.3952 - val_accuracy: 0.8018\n",
            "Epoch 76/100\n",
            "1334/1334 [==============================] - 9s 7ms/step - loss: 0.3751 - accuracy: 0.8137 - val_loss: 0.4704 - val_accuracy: 0.7562\n",
            "Epoch 77/100\n",
            "1334/1334 [==============================] - 9s 7ms/step - loss: 0.4406 - accuracy: 0.7806 - val_loss: 0.4103 - val_accuracy: 0.7937\n",
            "Epoch 78/100\n",
            "1334/1334 [==============================] - 9s 7ms/step - loss: 0.4030 - accuracy: 0.8027 - val_loss: 0.3884 - val_accuracy: 0.8054\n",
            "Epoch 79/100\n",
            "1334/1334 [==============================] - 9s 7ms/step - loss: 0.3728 - accuracy: 0.8161 - val_loss: 0.3121 - val_accuracy: 0.8462\n",
            "Epoch 80/100\n",
            "1334/1334 [==============================] - 9s 7ms/step - loss: 0.3312 - accuracy: 0.8385 - val_loss: 0.3126 - val_accuracy: 0.8439\n",
            "Epoch 81/100\n",
            "1334/1334 [==============================] - 9s 7ms/step - loss: 0.3298 - accuracy: 0.8398 - val_loss: 0.3344 - val_accuracy: 0.8328\n",
            "Epoch 82/100\n",
            "1334/1334 [==============================] - 9s 7ms/step - loss: 0.3361 - accuracy: 0.8316 - val_loss: 0.3258 - val_accuracy: 0.8422\n",
            "Epoch 83/100\n",
            "1334/1334 [==============================] - 9s 7ms/step - loss: 0.3324 - accuracy: 0.8352 - val_loss: 0.3107 - val_accuracy: 0.8461\n",
            "Epoch 84/100\n",
            "1334/1334 [==============================] - 9s 7ms/step - loss: 0.3703 - accuracy: 0.8200 - val_loss: 0.3250 - val_accuracy: 0.8468\n",
            "Epoch 85/100\n",
            "1334/1334 [==============================] - 9s 7ms/step - loss: 0.3243 - accuracy: 0.8412 - val_loss: 0.3106 - val_accuracy: 0.8453\n",
            "Epoch 86/100\n",
            "1334/1334 [==============================] - 9s 7ms/step - loss: 0.3111 - accuracy: 0.8465 - val_loss: 0.3029 - val_accuracy: 0.8488\n",
            "Epoch 87/100\n",
            "1334/1334 [==============================] - 9s 7ms/step - loss: 0.3332 - accuracy: 0.8369 - val_loss: 0.3054 - val_accuracy: 0.8507\n",
            "Epoch 88/100\n",
            "1334/1334 [==============================] - 9s 7ms/step - loss: 0.3560 - accuracy: 0.8279 - val_loss: 0.2934 - val_accuracy: 0.8556\n"
          ],
          "name": "stdout"
        },
        {
          "output_type": "stream",
          "text": [
            "WARNING:absl:Found untraced functions such as gru_cell_4_layer_call_and_return_conditional_losses, gru_cell_4_layer_call_fn, gru_cell_5_layer_call_and_return_conditional_losses, gru_cell_5_layer_call_fn, gru_cell_4_layer_call_fn while saving (showing 5 of 10). These functions will not be directly callable after loading.\n"
          ],
          "name": "stderr"
        },
        {
          "output_type": "stream",
          "text": [
            "INFO:tensorflow:Assets written to: BestModel/assets\n"
          ],
          "name": "stdout"
        },
        {
          "output_type": "stream",
          "text": [
            "INFO:tensorflow:Assets written to: BestModel/assets\n"
          ],
          "name": "stderr"
        },
        {
          "output_type": "stream",
          "text": [
            "Epoch 89/100\n",
            "1334/1334 [==============================] - 9s 7ms/step - loss: 0.3188 - accuracy: 0.8453 - val_loss: 0.3522 - val_accuracy: 0.8326\n",
            "Epoch 90/100\n",
            "1334/1334 [==============================] - 9s 7ms/step - loss: 0.3370 - accuracy: 0.8395 - val_loss: 0.3129 - val_accuracy: 0.8497\n",
            "Epoch 91/100\n",
            "1334/1334 [==============================] - 9s 7ms/step - loss: 0.3334 - accuracy: 0.8388 - val_loss: 0.3080 - val_accuracy: 0.8497\n",
            "Epoch 92/100\n",
            "1334/1334 [==============================] - 9s 7ms/step - loss: 0.3048 - accuracy: 0.8497 - val_loss: 0.2952 - val_accuracy: 0.8552\n",
            "Epoch 93/100\n",
            "1334/1334 [==============================] - 9s 7ms/step - loss: 0.3371 - accuracy: 0.8251 - val_loss: 0.6855 - val_accuracy: 0.5589\n",
            "Epoch 94/100\n",
            "1334/1334 [==============================] - 9s 7ms/step - loss: 0.6303 - accuracy: 0.6297 - val_loss: 0.3354 - val_accuracy: 0.8373\n",
            "Epoch 95/100\n",
            "1334/1334 [==============================] - 9s 7ms/step - loss: 0.3466 - accuracy: 0.8370 - val_loss: 0.4445 - val_accuracy: 0.7896\n",
            "Epoch 96/100\n",
            "1334/1334 [==============================] - 9s 7ms/step - loss: 0.3563 - accuracy: 0.8340 - val_loss: 0.3101 - val_accuracy: 0.8480\n",
            "Epoch 97/100\n",
            "1334/1334 [==============================] - 9s 7ms/step - loss: 0.3112 - accuracy: 0.8463 - val_loss: 0.3009 - val_accuracy: 0.8560\n"
          ],
          "name": "stdout"
        },
        {
          "output_type": "stream",
          "text": [
            "WARNING:absl:Found untraced functions such as gru_cell_4_layer_call_and_return_conditional_losses, gru_cell_4_layer_call_fn, gru_cell_5_layer_call_and_return_conditional_losses, gru_cell_5_layer_call_fn, gru_cell_4_layer_call_fn while saving (showing 5 of 10). These functions will not be directly callable after loading.\n"
          ],
          "name": "stderr"
        },
        {
          "output_type": "stream",
          "text": [
            "INFO:tensorflow:Assets written to: BestModel/assets\n"
          ],
          "name": "stdout"
        },
        {
          "output_type": "stream",
          "text": [
            "INFO:tensorflow:Assets written to: BestModel/assets\n"
          ],
          "name": "stderr"
        },
        {
          "output_type": "stream",
          "text": [
            "Epoch 98/100\n",
            "1334/1334 [==============================] - 9s 7ms/step - loss: 0.3072 - accuracy: 0.8499 - val_loss: 0.3073 - val_accuracy: 0.8504\n",
            "Epoch 99/100\n",
            "1334/1334 [==============================] - 9s 7ms/step - loss: 0.2904 - accuracy: 0.8565 - val_loss: 0.3351 - val_accuracy: 0.8402\n",
            "Epoch 100/100\n",
            "1334/1334 [==============================] - 9s 7ms/step - loss: 0.2878 - accuracy: 0.8622 - val_loss: 0.2813 - val_accuracy: 0.8635\n"
          ],
          "name": "stdout"
        },
        {
          "output_type": "stream",
          "text": [
            "WARNING:absl:Found untraced functions such as gru_cell_4_layer_call_and_return_conditional_losses, gru_cell_4_layer_call_fn, gru_cell_5_layer_call_and_return_conditional_losses, gru_cell_5_layer_call_fn, gru_cell_4_layer_call_fn while saving (showing 5 of 10). These functions will not be directly callable after loading.\n"
          ],
          "name": "stderr"
        },
        {
          "output_type": "stream",
          "text": [
            "INFO:tensorflow:Assets written to: BestModel/assets\n"
          ],
          "name": "stdout"
        },
        {
          "output_type": "stream",
          "text": [
            "INFO:tensorflow:Assets written to: BestModel/assets\n"
          ],
          "name": "stderr"
        },
        {
          "output_type": "stream",
          "text": [
            "Fold 2, 100 epochs, 962 sec\n"
          ],
          "name": "stdout"
        },
        {
          "output_type": "display_data",
          "data": {
            "image/png": "[encoded data removed]",
            "text/plain": [
              "<Figure size 576x360 with 1 Axes>"
            ]
          },
          "metadata": {
            "tags": [],
            "needs_background": "light"
          }
        },
        {
          "output_type": "stream",
          "text": [
            "MODEL\n",
            "make_DNN\n",
            "input shape: (64, 4)\n",
            "FIT\n",
            "Epoch 1/100\n",
            "1334/1334 [==============================] - 13s 7ms/step - loss: 0.7032 - accuracy: 0.5332 - val_loss: 0.6446 - val_accuracy: 0.6237\n",
            "Epoch 2/100\n",
            "1334/1334 [==============================] - 9s 7ms/step - loss: 0.6377 - accuracy: 0.6318 - val_loss: 0.6261 - val_accuracy: 0.6367\n",
            "Epoch 3/100\n",
            "1334/1334 [==============================] - 9s 7ms/step - loss: 0.6286 - accuracy: 0.6381 - val_loss: 0.6232 - val_accuracy: 0.6401\n",
            "Epoch 4/100\n",
            "1334/1334 [==============================] - 9s 7ms/step - loss: 0.6226 - accuracy: 0.6458 - val_loss: 0.6207 - val_accuracy: 0.6411\n",
            "Epoch 5/100\n",
            "1334/1334 [==============================] - 9s 7ms/step - loss: 0.6227 - accuracy: 0.6462 - val_loss: 0.6196 - val_accuracy: 0.6421\n",
            "Epoch 6/100\n",
            "1334/1334 [==============================] - 9s 7ms/step - loss: 0.6191 - accuracy: 0.6515 - val_loss: 0.6173 - val_accuracy: 0.6458\n",
            "Epoch 7/100\n",
            "1334/1334 [==============================] - 9s 7ms/step - loss: 0.6172 - accuracy: 0.6518 - val_loss: 0.6186 - val_accuracy: 0.6467\n",
            "Epoch 8/100\n",
            "1334/1334 [==============================] - 9s 7ms/step - loss: 0.6100 - accuracy: 0.6590 - val_loss: 0.6003 - val_accuracy: 0.6613\n",
            "Epoch 9/100\n",
            "1334/1334 [==============================] - 9s 7ms/step - loss: 0.5966 - accuracy: 0.6736 - val_loss: 0.5841 - val_accuracy: 0.6793\n",
            "Epoch 10/100\n",
            "1334/1334 [==============================] - 9s 7ms/step - loss: 0.5830 - accuracy: 0.6785 - val_loss: 0.5698 - val_accuracy: 0.6851\n",
            "Epoch 11/100\n",
            "1334/1334 [==============================] - 9s 7ms/step - loss: 0.5687 - accuracy: 0.6931 - val_loss: 0.5603 - val_accuracy: 0.6922\n",
            "Epoch 12/100\n",
            "1334/1334 [==============================] - 9s 7ms/step - loss: 0.5542 - accuracy: 0.7009 - val_loss: 0.5561 - val_accuracy: 0.6946\n",
            "Epoch 13/100\n",
            "1334/1334 [==============================] - 9s 7ms/step - loss: 0.5462 - accuracy: 0.7048 - val_loss: 0.5542 - val_accuracy: 0.6975\n",
            "Epoch 14/100\n",
            "1334/1334 [==============================] - 9s 7ms/step - loss: 0.5465 - accuracy: 0.7023 - val_loss: 0.5462 - val_accuracy: 0.7009\n",
            "Epoch 15/100\n",
            "1334/1334 [==============================] - 9s 7ms/step - loss: 0.5425 - accuracy: 0.7046 - val_loss: 0.5491 - val_accuracy: 0.7022\n",
            "Epoch 16/100\n",
            "1334/1334 [==============================] - 9s 7ms/step - loss: 0.5374 - accuracy: 0.7106 - val_loss: 0.5437 - val_accuracy: 0.7008\n",
            "Epoch 17/100\n",
            "1334/1334 [==============================] - 9s 7ms/step - loss: 0.5354 - accuracy: 0.7063 - val_loss: 0.5426 - val_accuracy: 0.7004\n",
            "Epoch 18/100\n",
            "1334/1334 [==============================] - 9s 7ms/step - loss: 0.5357 - accuracy: 0.7057 - val_loss: 0.5471 - val_accuracy: 0.6992\n",
            "Epoch 19/100\n",
            "1334/1334 [==============================] - 9s 7ms/step - loss: 0.5369 - accuracy: 0.7094 - val_loss: 0.5405 - val_accuracy: 0.7035\n",
            "Epoch 20/100\n",
            "1334/1334 [==============================] - 9s 7ms/step - loss: 0.5285 - accuracy: 0.7125 - val_loss: 0.5471 - val_accuracy: 0.6998\n",
            "Epoch 21/100\n",
            "1334/1334 [==============================] - 9s 7ms/step - loss: 0.5315 - accuracy: 0.7136 - val_loss: 0.5409 - val_accuracy: 0.7013\n",
            "Epoch 22/100\n",
            "1334/1334 [==============================] - 9s 7ms/step - loss: 0.5323 - accuracy: 0.7129 - val_loss: 0.5475 - val_accuracy: 0.6995\n",
            "Epoch 23/100\n",
            "1334/1334 [==============================] - 9s 7ms/step - loss: 0.5269 - accuracy: 0.7107 - val_loss: 0.5385 - val_accuracy: 0.7032\n",
            "Epoch 24/100\n",
            "1334/1334 [==============================] - 9s 7ms/step - loss: 0.5220 - accuracy: 0.7178 - val_loss: 0.5387 - val_accuracy: 0.7011\n",
            "Epoch 25/100\n",
            "1334/1334 [==============================] - 9s 7ms/step - loss: 0.5227 - accuracy: 0.7194 - val_loss: 0.5406 - val_accuracy: 0.7050\n",
            "Epoch 26/100\n",
            "1334/1334 [==============================] - 9s 7ms/step - loss: 0.5200 - accuracy: 0.7161 - val_loss: 0.5358 - val_accuracy: 0.7050\n",
            "Epoch 27/100\n",
            "1334/1334 [==============================] - 9s 7ms/step - loss: 0.5172 - accuracy: 0.7224 - val_loss: 0.5357 - val_accuracy: 0.7096\n",
            "Epoch 28/100\n",
            "1334/1334 [==============================] - 9s 7ms/step - loss: 0.5178 - accuracy: 0.7220 - val_loss: 0.5407 - val_accuracy: 0.7047\n",
            "Epoch 29/100\n",
            "1334/1334 [==============================] - 9s 7ms/step - loss: 0.5166 - accuracy: 0.7251 - val_loss: 0.5343 - val_accuracy: 0.7110\n",
            "Epoch 30/100\n",
            "1334/1334 [==============================] - 9s 7ms/step - loss: 0.5122 - accuracy: 0.7256 - val_loss: 0.5356 - val_accuracy: 0.7107\n",
            "Epoch 31/100\n",
            "1334/1334 [==============================] - 9s 7ms/step - loss: 0.5114 - accuracy: 0.7295 - val_loss: 0.5307 - val_accuracy: 0.7161\n",
            "Epoch 32/100\n",
            "1334/1334 [==============================] - 9s 7ms/step - loss: 0.5110 - accuracy: 0.7313 - val_loss: 0.5646 - val_accuracy: 0.6881\n",
            "Epoch 33/100\n",
            "1334/1334 [==============================] - 9s 7ms/step - loss: 0.5152 - accuracy: 0.7244 - val_loss: 0.5252 - val_accuracy: 0.7175\n",
            "Epoch 34/100\n",
            "1334/1334 [==============================] - 9s 7ms/step - loss: 0.5061 - accuracy: 0.7333 - val_loss: 0.5236 - val_accuracy: 0.7166\n",
            "Epoch 35/100\n",
            "1334/1334 [==============================] - 9s 7ms/step - loss: 0.5036 - accuracy: 0.7330 - val_loss: 0.5252 - val_accuracy: 0.7171\n",
            "Epoch 36/100\n",
            "1334/1334 [==============================] - 9s 7ms/step - loss: 0.5007 - accuracy: 0.7356 - val_loss: 0.5180 - val_accuracy: 0.7202\n",
            "Epoch 37/100\n",
            "1334/1334 [==============================] - 9s 7ms/step - loss: 0.4971 - accuracy: 0.7377 - val_loss: 0.5266 - val_accuracy: 0.7171\n",
            "Epoch 38/100\n",
            "1334/1334 [==============================] - 9s 7ms/step - loss: 0.5043 - accuracy: 0.7340 - val_loss: 0.5246 - val_accuracy: 0.7187\n",
            "Epoch 39/100\n",
            "1334/1334 [==============================] - 9s 7ms/step - loss: 0.4942 - accuracy: 0.7445 - val_loss: 0.5074 - val_accuracy: 0.7287\n",
            "Epoch 40/100\n",
            "1334/1334 [==============================] - 9s 7ms/step - loss: 0.4929 - accuracy: 0.7399 - val_loss: 0.5128 - val_accuracy: 0.7262\n",
            "Epoch 41/100\n",
            "1334/1334 [==============================] - 9s 7ms/step - loss: 0.4931 - accuracy: 0.7392 - val_loss: 0.5073 - val_accuracy: 0.7299\n",
            "Epoch 42/100\n",
            "1334/1334 [==============================] - 9s 7ms/step - loss: 0.4892 - accuracy: 0.7471 - val_loss: 0.5106 - val_accuracy: 0.7277\n",
            "Epoch 43/100\n",
            "1334/1334 [==============================] - 9s 7ms/step - loss: 0.4864 - accuracy: 0.7473 - val_loss: 0.5007 - val_accuracy: 0.7336\n",
            "Epoch 44/100\n",
            "1334/1334 [==============================] - 9s 7ms/step - loss: 0.4839 - accuracy: 0.7486 - val_loss: 0.5095 - val_accuracy: 0.7298\n",
            "Epoch 45/100\n",
            "1334/1334 [==============================] - 9s 7ms/step - loss: 0.4870 - accuracy: 0.7426 - val_loss: 0.5018 - val_accuracy: 0.7320\n",
            "Epoch 46/100\n",
            "1334/1334 [==============================] - 9s 7ms/step - loss: 0.4814 - accuracy: 0.7487 - val_loss: 0.4940 - val_accuracy: 0.7409\n",
            "Epoch 47/100\n",
            "1334/1334 [==============================] - 10s 7ms/step - loss: 0.4723 - accuracy: 0.7525 - val_loss: 0.4955 - val_accuracy: 0.7339\n",
            "Epoch 48/100\n",
            "1334/1334 [==============================] - 9s 7ms/step - loss: 0.4732 - accuracy: 0.7552 - val_loss: 0.5004 - val_accuracy: 0.7319\n",
            "Epoch 49/100\n",
            "1334/1334 [==============================] - 9s 7ms/step - loss: 0.4754 - accuracy: 0.7552 - val_loss: 0.4797 - val_accuracy: 0.7462\n",
            "Epoch 50/100\n",
            "1334/1334 [==============================] - 9s 7ms/step - loss: 0.4686 - accuracy: 0.7571 - val_loss: 0.4753 - val_accuracy: 0.7501\n",
            "Epoch 51/100\n",
            "1334/1334 [==============================] - 9s 7ms/step - loss: 0.4589 - accuracy: 0.7611 - val_loss: 0.4883 - val_accuracy: 0.7406\n",
            "Epoch 52/100\n",
            "1334/1334 [==============================] - 9s 7ms/step - loss: 0.4604 - accuracy: 0.7631 - val_loss: 0.4927 - val_accuracy: 0.7404\n",
            "Epoch 53/100\n",
            "1334/1334 [==============================] - 9s 7ms/step - loss: 0.4614 - accuracy: 0.7602 - val_loss: 0.4627 - val_accuracy: 0.7559\n",
            "Epoch 54/100\n",
            "1334/1334 [==============================] - 9s 7ms/step - loss: 0.4532 - accuracy: 0.7673 - val_loss: 0.5655 - val_accuracy: 0.6855\n",
            "Epoch 55/100\n",
            "1334/1334 [==============================] - 9s 7ms/step - loss: 0.4880 - accuracy: 0.7463 - val_loss: 0.4531 - val_accuracy: 0.7606\n",
            "Epoch 56/100\n",
            "1334/1334 [==============================] - 9s 7ms/step - loss: 0.4593 - accuracy: 0.7627 - val_loss: 0.4493 - val_accuracy: 0.7645\n",
            "Epoch 57/100\n",
            "1334/1334 [==============================] - 9s 7ms/step - loss: 0.4396 - accuracy: 0.7754 - val_loss: 0.4662 - val_accuracy: 0.7544\n",
            "Epoch 58/100\n",
            "1334/1334 [==============================] - 9s 7ms/step - loss: 0.4463 - accuracy: 0.7730 - val_loss: 0.4332 - val_accuracy: 0.7757\n",
            "Epoch 59/100\n",
            "1334/1334 [==============================] - 9s 7ms/step - loss: 0.4219 - accuracy: 0.7874 - val_loss: 0.4219 - val_accuracy: 0.7848\n",
            "Epoch 60/100\n",
            "1334/1334 [==============================] - 9s 7ms/step - loss: 0.4200 - accuracy: 0.7918 - val_loss: 0.4347 - val_accuracy: 0.7770\n",
            "Epoch 61/100\n",
            "1334/1334 [==============================] - 9s 7ms/step - loss: 0.4081 - accuracy: 0.7993 - val_loss: 0.4228 - val_accuracy: 0.7907\n",
            "Epoch 62/100\n",
            "1334/1334 [==============================] - 9s 7ms/step - loss: 0.4021 - accuracy: 0.8031 - val_loss: 0.4651 - val_accuracy: 0.7649\n",
            "Epoch 63/100\n",
            "1334/1334 [==============================] - 9s 7ms/step - loss: 0.3986 - accuracy: 0.8084 - val_loss: 0.3936 - val_accuracy: 0.8016\n",
            "Epoch 64/100\n",
            "1334/1334 [==============================] - 9s 7ms/step - loss: 0.3880 - accuracy: 0.8114 - val_loss: 0.3869 - val_accuracy: 0.8061\n",
            "Epoch 65/100\n",
            "1334/1334 [==============================] - 9s 7ms/step - loss: 0.3846 - accuracy: 0.8100 - val_loss: 0.3742 - val_accuracy: 0.8109\n",
            "Epoch 66/100\n",
            "1334/1334 [==============================] - 9s 7ms/step - loss: 0.3692 - accuracy: 0.8205 - val_loss: 0.3709 - val_accuracy: 0.8123\n",
            "Epoch 67/100\n",
            "1334/1334 [==============================] - 10s 7ms/step - loss: 0.3718 - accuracy: 0.8172 - val_loss: 0.3622 - val_accuracy: 0.8157\n",
            "Epoch 68/100\n",
            "1334/1334 [==============================] - 10s 7ms/step - loss: 0.3722 - accuracy: 0.8180 - val_loss: 0.3706 - val_accuracy: 0.8117\n",
            "Epoch 69/100\n",
            "1334/1334 [==============================] - 10s 7ms/step - loss: 0.3685 - accuracy: 0.8192 - val_loss: 0.3498 - val_accuracy: 0.8254\n",
            "Epoch 70/100\n",
            "1334/1334 [==============================] - 10s 7ms/step - loss: 0.3533 - accuracy: 0.8252 - val_loss: 0.3578 - val_accuracy: 0.8210\n",
            "Epoch 71/100\n",
            "1334/1334 [==============================] - 10s 7ms/step - loss: 0.3535 - accuracy: 0.8281 - val_loss: 0.3613 - val_accuracy: 0.8164\n",
            "Epoch 72/100\n",
            "1334/1334 [==============================] - 10s 7ms/step - loss: 0.3422 - accuracy: 0.8340 - val_loss: 0.3553 - val_accuracy: 0.8227\n",
            "Epoch 73/100\n",
            "1334/1334 [==============================] - 9s 7ms/step - loss: 0.3460 - accuracy: 0.8304 - val_loss: 0.5587 - val_accuracy: 0.7198\n",
            "Epoch 74/100\n",
            "1334/1334 [==============================] - 10s 7ms/step - loss: 0.3960 - accuracy: 0.7998 - val_loss: 0.3344 - val_accuracy: 0.8279\n",
            "Epoch 75/100\n",
            "1334/1334 [==============================] - 10s 7ms/step - loss: 0.3320 - accuracy: 0.8359 - val_loss: 0.3467 - val_accuracy: 0.8256\n",
            "Epoch 76/100\n",
            "1334/1334 [==============================] - 10s 7ms/step - loss: 0.3391 - accuracy: 0.8358 - val_loss: 0.5723 - val_accuracy: 0.6961\n",
            "Epoch 77/100\n",
            "1334/1334 [==============================] - 9s 7ms/step - loss: 0.4956 - accuracy: 0.7513 - val_loss: 0.3956 - val_accuracy: 0.8005\n",
            "Epoch 78/100\n",
            "1334/1334 [==============================] - 9s 7ms/step - loss: 0.3649 - accuracy: 0.8220 - val_loss: 0.3353 - val_accuracy: 0.8329\n",
            "Epoch 79/100\n",
            "1334/1334 [==============================] - 10s 7ms/step - loss: 0.3182 - accuracy: 0.8456 - val_loss: 0.3078 - val_accuracy: 0.8451\n",
            "Epoch 80/100\n",
            "1334/1334 [==============================] - 10s 7ms/step - loss: 0.3018 - accuracy: 0.8490 - val_loss: 0.3022 - val_accuracy: 0.8471\n",
            "Epoch 81/100\n",
            "1334/1334 [==============================] - 10s 7ms/step - loss: 0.3886 - accuracy: 0.8077 - val_loss: 0.4294 - val_accuracy: 0.7886\n",
            "Epoch 82/100\n",
            "1334/1334 [==============================] - 10s 8ms/step - loss: 0.4037 - accuracy: 0.8027 - val_loss: 0.3669 - val_accuracy: 0.8171\n",
            "Epoch 83/100\n",
            "1334/1334 [==============================] - 10s 7ms/step - loss: 0.3700 - accuracy: 0.8174 - val_loss: 0.3748 - val_accuracy: 0.8140\n",
            "Epoch 84/100\n",
            "1334/1334 [==============================] - 10s 7ms/step - loss: 0.3499 - accuracy: 0.8271 - val_loss: 0.3336 - val_accuracy: 0.8287\n",
            "Epoch 85/100\n",
            "1334/1334 [==============================] - 10s 7ms/step - loss: 0.3457 - accuracy: 0.8279 - val_loss: 0.3602 - val_accuracy: 0.8228\n",
            "Epoch 86/100\n",
            "1334/1334 [==============================] - 9s 7ms/step - loss: 0.3358 - accuracy: 0.8382 - val_loss: 0.3398 - val_accuracy: 0.8304\n",
            "Epoch 87/100\n",
            "1334/1334 [==============================] - 9s 7ms/step - loss: 0.3180 - accuracy: 0.8426 - val_loss: 0.2906 - val_accuracy: 0.8507\n",
            "Epoch 88/100\n",
            "1334/1334 [==============================] - 9s 7ms/step - loss: 0.3076 - accuracy: 0.8496 - val_loss: 0.2894 - val_accuracy: 0.8528\n",
            "Epoch 89/100\n",
            "1334/1334 [==============================] - 9s 7ms/step - loss: 0.3067 - accuracy: 0.8481 - val_loss: 0.6202 - val_accuracy: 0.6447\n",
            "Epoch 90/100\n",
            "1334/1334 [==============================] - 9s 7ms/step - loss: 0.5521 - accuracy: 0.7094 - val_loss: 0.3600 - val_accuracy: 0.8250\n",
            "Epoch 91/100\n",
            "1334/1334 [==============================] - 9s 7ms/step - loss: 0.3667 - accuracy: 0.8313 - val_loss: 0.4796 - val_accuracy: 0.7554\n",
            "Epoch 92/100\n",
            "1334/1334 [==============================] - 9s 7ms/step - loss: 0.4503 - accuracy: 0.7795 - val_loss: 0.4140 - val_accuracy: 0.7914\n",
            "Epoch 93/100\n",
            "1334/1334 [==============================] - 9s 7ms/step - loss: 0.4017 - accuracy: 0.8113 - val_loss: 0.3733 - val_accuracy: 0.8148\n",
            "Epoch 94/100\n",
            "1334/1334 [==============================] - 9s 7ms/step - loss: 0.3778 - accuracy: 0.8229 - val_loss: 0.3657 - val_accuracy: 0.8312\n",
            "Epoch 95/100\n",
            "1334/1334 [==============================] - 9s 7ms/step - loss: 0.4164 - accuracy: 0.7989 - val_loss: 0.4118 - val_accuracy: 0.7915\n",
            "Epoch 96/100\n",
            "1334/1334 [==============================] - 9s 7ms/step - loss: 0.3967 - accuracy: 0.8035 - val_loss: 0.3741 - val_accuracy: 0.8008\n",
            "Epoch 97/100\n",
            "1334/1334 [==============================] - 9s 7ms/step - loss: 0.3995 - accuracy: 0.8050 - val_loss: 0.4876 - val_accuracy: 0.7463\n",
            "Epoch 98/100\n",
            "1334/1334 [==============================] - 9s 7ms/step - loss: 0.4426 - accuracy: 0.7794 - val_loss: 0.4209 - val_accuracy: 0.7841\n",
            "Epoch 99/100\n",
            "1334/1334 [==============================] - 9s 7ms/step - loss: 0.4302 - accuracy: 0.7832 - val_loss: 0.4656 - val_accuracy: 0.7731\n",
            "Epoch 100/100\n",
            "1334/1334 [==============================] - 9s 7ms/step - loss: 0.4393 - accuracy: 0.7829 - val_loss: 0.4479 - val_accuracy: 0.7771\n",
            "Fold 3, 100 epochs, 941 sec\n"
          ],
          "name": "stdout"
        },
        {
          "output_type": "display_data",
          "data": {
            "image/png": "[encoded data removed]",
            "text/plain": [
              "<Figure size 576x360 with 1 Axes>"
            ]
          },
          "metadata": {
            "tags": [],
            "needs_background": "light"
          }
        }
      ]
    },
    {
      "cell_type": "code",
      "metadata": {
        "id": "e-jG1h5fj2Ua",
        "colab": {
          "base_uri": "https://localhost:8080/"
        },
        "outputId": "3c2708e8-ea01-4329-c0e4-923416f4644e"
      },
      "source": [
        "from keras.models import load_model\n",
        "X,y = prepare_inputs_len_x_alphabet(pc_test,nc_test,ALPHABET)\n",
        "best_model=load_model(MODELPATH)\n",
        "scores = best_model.evaluate(X, y, verbose=0)\n",
        "print(\"The best model parameters were saved during cross-validation.\")\n",
        "print(\"Best was defined as maximum validation accuracy at end of any epoch.\")\n",
        "print(\"Now re-load the best model and test it on previously unseen data.\")\n",
        "print(\"Test on\",len(pc_test),\"PC seqs\")\n",
        "print(\"Test on\",len(nc_test),\"NC seqs\")\n",
        "print(\"%s: %.2f%%\" % (best_model.metrics_names[1], scores[1]*100))\n"
      ],
      "execution_count": 12,
      "outputs": [
        {
          "output_type": "stream",
          "text": [
            "The best model parameters were saved during cross-validation.\n",
            "Best was defined as maximum validation accuracy at end of any epoch.\n",
            "Now re-load the best model and test it on previously unseen data.\n",
            "Test on 1000 PC seqs\n",
            "Test on 1000 NC seqs\n",
            "accuracy: 85.80%\n"
          ],
          "name": "stdout"
        }
      ]
    },
    {
      "cell_type": "code",
      "metadata": {
        "id": "VycUnmvUj2Ue",
        "colab": {
          "base_uri": "https://localhost:8080/",
          "height": 312
        },
        "outputId": "bb2d4467-5362-4157-f6c7-e3ebdfddf30d"
      },
      "source": [
        "from sklearn.metrics import roc_curve\n",
        "from sklearn.metrics import roc_auc_score\n",
        "ns_probs = [0 for _ in range(len(y))]\n",
        "bm_probs = best_model.predict(X)\n",
        "ns_auc = roc_auc_score(y, ns_probs)\n",
        "bm_auc = roc_auc_score(y, bm_probs)\n",
        "ns_fpr, ns_tpr, _ = roc_curve(y, ns_probs)\n",
        "bm_fpr, bm_tpr, _ = roc_curve(y, bm_probs)\n",
        "plt.plot(ns_fpr, ns_tpr, linestyle='--', label='Guess, auc=%.4f'%ns_auc)\n",
        "plt.plot(bm_fpr, bm_tpr, marker='.', label='Model, auc=%.4f'%bm_auc)\n",
        "plt.title('ROC')\n",
        "plt.xlabel('False Positive Rate')\n",
        "plt.ylabel('True Positive Rate')\n",
        "plt.legend()\n",
        "plt.show()\n",
        "print(\"%s: %.2f%%\" %('AUC',bm_auc*100.0))\n"
      ],
      "execution_count": 13,
      "outputs": [
        {
          "output_type": "display_data",
          "data": {
            "image/png": "[encoded data removed]",
            "text/plain": [
              "<Figure size 432x288 with 1 Axes>"
            ]
          },
          "metadata": {
            "tags": [],
            "needs_background": "light"
          }
        },
        {
          "output_type": "stream",
          "text": [
            "AUC: 94.42%\n"
          ],
          "name": "stdout"
        }
      ]
    },
    {
      "cell_type": "code",
      "metadata": {
        "id": "kFMb6rGNj2Ug",
        "colab": {
          "base_uri": "https://localhost:8080/",
          "height": 36
        },
        "outputId": "d27e7d30-946e-4385-ede5-7743467d06dc"
      },
      "source": [
        "t = time.time()\n",
        "time.strftime('%Y-%m-%d %H:%M:%S %Z', time.localtime(t))"
      ],
      "execution_count": 14,
      "outputs": [
        {
          "output_type": "execute_result",
          "data": {
            "application/vnd.google.colaboratory.intrinsic+json": {
              "type": "string"
            },
            "text/plain": [
              "'2021-06-21 18:14:02 UTC'"
            ]
          },
          "metadata": {
            "tags": []
          },
          "execution_count": 14
        }
      ]
    },
    {
      "cell_type": "code",
      "metadata": {
        "id": "e-mEgDrQjUzF"
      },
      "source": [
        ""
      ],
      "execution_count": 14,
      "outputs": []
    }
  ]
}