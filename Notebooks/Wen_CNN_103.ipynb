{
  "nbformat": 4,
  "nbformat_minor": 0,
  "metadata": {
    "accelerator": "GPU",
    "colab": {
      "name": "Wen_CNN_103.ipynb",
      "provenance": [],
      "collapsed_sections": []
    },
    "kernelspec": {
      "display_name": "Python 3",
      "language": "python",
      "name": "python3"
    },
    "language_info": {
      "codemirror_mode": {
        "name": "ipython",
        "version": 3
      },
      "file_extension": ".py",
      "mimetype": "text/x-python",
      "name": "python",
      "nbconvert_exporter": "python",
      "pygments_lexer": "ipython3",
      "version": "3.8.3"
    }
  },
  "cells": [
    {
      "cell_type": "markdown",
      "metadata": {
        "id": "ojm_6E9f9Kcf"
      },
      "source": [
        "# Wen CNN \n",
        "\n",
        "Simulate the CNN approach of Wen et al. 2019.\n",
        "\n",
        "Help SOARS students investigate properties of individual RNA"
      ]
    },
    {
      "cell_type": "code",
      "metadata": {
        "colab": {
          "base_uri": "https://localhost:8080/"
        },
        "id": "RmPF4h_YI_sT",
        "outputId": "c199aa63-3134-4ea1-9d48-4a35aec63cec"
      },
      "source": [
        "import time\n",
        "def show_time():\n",
        "    t = time.time()\n",
        "    print(time.strftime('%Y-%m-%d %H:%M:%S %Z', time.localtime(t)))\n",
        "show_time()"
      ],
      "execution_count": 34,
      "outputs": [
        {
          "output_type": "stream",
          "text": [
            "2021-08-04 16:11:45 UTC\n"
          ],
          "name": "stdout"
        }
      ]
    },
    {
      "cell_type": "markdown",
      "metadata": {
        "id": "L3Z2ZUb8oE_s"
      },
      "source": [
        "## Transcripts  of interest\n",
        "The sources of data are:  \n",
        "Annotation from GenCode (GFF 9-column format).  \n",
        "Links to Ensembl.org, the source of GenCode data.\n",
        "\n",
        "### mRNA HOXA\n",
        "\n",
        "- This transcript has length 1686: [ENST00000222718](https://useast.ensembl.org/Homo_sapiens/Transcript/Summary?db=core;g=ENSG00000105996;r=7:27096124-27099966;t=ENST00000222718)\n",
        "- Transcript name is HOXA2-201\n",
        "- Gene name is Homeobox A2 (gene symbol HOX1K)\n",
        "- Gene [page](https://useast.ensembl.org/Homo_sapiens/Gene/Summary?db=core;g=ENSG00000105996;r=7:27096124-27099966;t=ENST00000222718)\n",
        "at Ensemble says \"This gene has 2 transcripts.\"\n",
        "- HOX describes a cluster of genes \n",
        "that collectively determine timing and layout of body growth.\n",
        "HOX genes are very important to all animals and plants \n",
        "in the control of their body development.\n",
        "\n",
        "### LncRNA HOTAIR\n",
        "- GenCode annotation: chr7\tHAVANA\ttranscript\t27096124\t27099966\t.\t+\t.\tID=ENST00000429611.7;Parent=ENSG00000233429.9;gene_id=ENSG00000233429.9;transcript_id=ENST00000429611.7;gene_type=lncRNA;gene_name=HOTAIRM1;transcript_type=lncRNA;transcript_name=HOTAIRM1-203;level=1;transcript_support_level=1;hgnc_id=HGNC:37117;tag=basic,exp_conf;havana_gene=OTTHUMG00000158089.4;havana_transcript=OTTHUMT00000358453.1\n",
        "- Gene [page](https://useast.ensembl.org/Homo_sapiens/Gene/Summary?db=core;g=ENSG00000233429;r=7:27096124-27099966;t=ENST00000429611)\n",
        "at Ensembl says \"This gene has 6 transcripts.\"\n",
        "- This transcript has length 722: [ENST00000429611](https://useast.ensembl.org/Homo_sapiens/Transcript/Summary?db=core;g=ENSG00000233429;r=7:27096124-27099966;t=ENST00000429611) \n",
        "- Gene name is \"HOTAIRM1: HOXA Transcript Antisense RNA, myeloid-specific 1\".\n",
        "The name tells us this lncRNA is transcribed from the opposite strand \n",
        "(reverse complement) of the protein-coding HOXA gene.\n",
        "- Genome location is 7p15.2 (short arm of chr 7)\n",
        "\n",
        "### mRNA APOA\n",
        "- GenCode annotation: chr11\tHAVANA\ttranscript\t116835751\t116837586\t.\t-\t.\tID=ENST00000375320.5;Parent=ENSG00000118137.10;gene_id=ENSG00000118137.10;transcript_id=ENST00000375320.5;gene_type=protein_coding;gene_name=APOA1;transcript_type=protein_coding;transcript_name=APOA1-203;level=2;protein_id=ENSP00000364469.1;transcript_support_level=3;hgnc_id=HGNC:600;tag=alternative_5_UTR,basic,appris_principal_1,CCDS;ccdsid=CCDS8378.1;havana_gene=OTTHUMG00000046112.5;havana_transcript=OTTHUMT00000142222.1\n",
        "- Gene [page](https://useast.ensembl.org/Homo_sapiens/Gene/Summary?db=core;g=ENSG00000118137;r=11:116835751-116837622;t=ENST00000375320)\n",
        "at Ensemble says \"This gene has 5 transcripts.\"\n",
        "- This transcript has length 940: [ENST00000375320](https://useast.ensembl.org/Homo_sapiens/Transcript/Summary?db=core;g=ENSG00000118137;r=11:116835751-116837622;t=ENST00000375320)\n",
        "- Gene name is Apolipoprotein A1\n",
        "- The protein from the Apolipoprotein A1 gene is implicated in Alzheimer's disease.\n",
        "\n",
        "### LncRNA APOA1-AS\n",
        "- GenCode annotation: chr11\tHAVANA\ttranscript\t116836166\t116856018\t.\t+\t.\tID=ENST00000669664.1;Parent=ENSG00000235910.2;gene_id=ENSG00000235910.2;transcript_id=ENST00000669664.1;gene_type=lncRNA;gene_name=APOA1-AS;transcript_type=lncRNA;transcript_name=APOA1-AS-202;level=2;hgnc_id=HGNC:40079;tag=basic,Ensembl_canonical,TAGENE;havana_gene=OTTHUMG00000150649.2;havana_transcript=OTTHUMT00000524029.1\n",
        "- Gene [page](https://useast.ensembl.org/Homo_sapiens/Gene/Summary?db=core;g=ENSG00000235910;r=11:116836166-116856018;t=ENST00000669664)\n",
        "at Ensembl says \"This gene has 2 transcripts.\"\n",
        "- This transcript has length 956: [ENST00000669664](https://useast.ensembl.org/Homo_sapiens/Transcript/Summary?db=core;g=ENSG00000235910;r=11:116836166-116856018;t=ENST00000669664)\n",
        "- Gene name is \"APOA1 antisense RNA\".\n",
        "The name tells us this lncRNA is transcribed from the opposite strand\n",
        "(reverse complement) of the protein-coding APOA1 gene.\n",
        "- Genome location is 11q23.3 (long arm of chr 11)\n"
      ]
    },
    {
      "cell_type": "code",
      "metadata": {
        "id": "z5yutJGooE_y"
      },
      "source": [
        "selectedX=[]\n",
        "selectedY=[]\n",
        "#>ENST00000222718.7|ENSG00000105996.7|OTTHUMG00000023208.7|OTTHUMT00000358508.4|HOXA2-201|HOXA2|1686|UTR5:1-183|CDS:184-1314|UTR3:1315-1686|\n",
        "selectedX.append('AGTTTAATAGTAGCGCGGTCCCCATACGGCTGTAATCAGTGAATTAGAAAAAAAACACCCTAGCAGCGATATTCTATGATAGATTTTTTTTCCTCTGCGCTCGCCTTTTTCCTAGGCCTTGCCCCCCCAAAGCCCCTCCAAAAGAGGGAACTTTTTCTCTGAGGGGGCTCCAAGGAGAAGGCCATGAATTACGAATTTGAGCGAGAGATTGGTTTTATCAATAGCCAGCCGTCGCTCGCTGAGTGCCTGACATCTTTTCCCCCTGTCGCTGATACATTTCAAAGTTCATCAATCAAGACCTCGACGCTTTCACACTCGACACTGATTCCTCCTCCTTTTGAGCAGACCATTCCCAGCCTGAACCCCGGCAGTCACCCTCGCCACGGCGCTGGCGGCCGCCCCAAGCCGAGCCCCGCGGGCAGCCGCGGCAGCCCGGTGCCCGCCGGCGCCCTGCAGCCGCCCGAGTACCCCTGGATGAAGGAGAAGAAGGCGGCCAAGAAAACCGCACTTCTGCCGGCCGCCGCCGCCGCCGCCACCGCCGCAGCCACCGGCCCTGCTTGCCTCAGCCACAAAGAATCCCTGGAAATCGCCGATGGCAGCGGCGGGGGATCGCGGCGCCTGAGAACTGCTTACACCAACACACAGCTTCTAGAGCTGGAAAAAGAATTTCATTTCAACAAGTACCTTTGCAGACCCCGAAGGGTGGAGATTGCAGCGCTGCTGGATTTGACTGAGAGACAAGTGAAAGTGTGGTTTCAGAACCGGAGGATGAAGCACAAGAGGCAGACCCAGTGCAAGGAAAACCAAAACAGCGAAGGGAAATGTAAAAGCCTTGAGGACTCCGAGAAAGTAGAGGAGGACGAGGAAGAGAAGACGCTCTTTGAGCAAGCCCTTAGCGTCTCTGGGGCCCTTCTGGAGAGGGAAGGCTACACTTTTCAGCAAAATGCCCTCTCTCAGCAGCAGGCTCCCAATGGACACAATGGCGACTCCCAAAGTTTCCCAGTCTCGCCTTTAACCAGCAATGAGAAAAATCTGAAACATTTTCAGCACCAGTCACCCACTGTTCCCAACTGCTTGTCAACAATGGGCCAGAACTGTGGAGCTGGCCTAAACAATGACAGTCCTGAGGCCCTTGAGGTCCCCTCTTTGCAGGACTTTAGCGTTTTCTCCACAGATTCCTGCCTGCAGCTTTCAGATGCAGTTTCACCCAGTTTGCCAGGTTCCCTCGACAGTCCCGTAGATATTTCAGCTGACAGCTTAGACTTTTTTACAGACACACTCACCACAATCGACTTGCAGCATCTGAATTACTAAAAACATTAAAGCAAAACAAAGCATCACCAAACAAAAACTCCTTTGACCAGGTGGTTTTGCCTTCTTTTATTTGGGAGTTTATTTTTTATTTTCTTCTTGACCTACCCCTTCCCTCCTTTAAGTGTTGAGGATTTTCTGTTTAGTGATTCCCTGACCCAGTTTCAAACAGAGCCATCTTTTACAGATTATTTTGGAGTTTTAGTTGTTTTAAACCTAACTCAACAACCCTTTATGTGATTCCTGAGAGCAGTATGAGGCCTGCAAGAAAGTGATCATATAATTGTATCTTCACTTTCTTTTTATTTTTGTATTACATTGGGATGCATTGTCATGCATATTTTTTGTAGAATAAATTCTCCTTTGCTATAAGTA')\n",
        "selectedY.append(1) # coding\n",
        "#>ENST00000429611.7|ENSG00000233429.9|OTTHUMG00000158089.4|OTTHUMT00000358453.1|HOTAIRM1-203|HOTAIRM1|722|\n",
        "selectedX.append('CACCGTTTTAGTGGCATTTAAATCCCCGGCGCTCCGCCGTCTAGGTGACGCGCAGTCGCCCCCCCAGGCAGCCTAGGCGGCGGCAGCTGCTGCGGCGACTGCAAAGGCCGATTTGGAGTGCTGGAGCGAAGAAGAGCAAAAGCTGCGTTCTGCGCGCGCCCGACTCCGCTGCCCGCCCCGCCAGGCCTCCGGGAGGTGGGGGCTGGGAGGCGTCCCCCGCTCCCGCCCCCTCCCCACCGTTCAATGAAAGATGAACTGGCGAGAGGACGAATCGCATCCAGGAGCTGCGCAGCCCTGGCCGCTGCCGGGACGCCCTGCTCCGCGCTGAGCTTGGGGCCAGAAACCAGCCATAGTCCCCACACTCCGCCGCCGCAGCTGAGATTTAGCGGAGGAAGGGGCGAGGGAAGGTAGGGAGCAAACCTATGAAGAAACATCGCGTTGTCATTGGAACTTCCAAGCCTTTGCTGTTAAGAGCCAGGTTCTTAAATCAACCCGCCCCACACACATGTTGCTTACATGCTGCGTTTTCTCACGGTCTGTTTTGCCTGAACCCATCAACAGCTGGGAGATTAATCAACCACACTGAAAATGTGGAGGGATTTATGGGGGAGGGGGTTGAAATGTGGGTGTTTGAAACAAAAGTGTATAAACAAATGAATTGTTGATAACTTAGTTATTGACCTGGAGACTGGTAGCTTATTAAAGAAACTCCGTGTTACTCA')\n",
        "selectedY.append(0) # noncoding\n",
        "#>ENST00000375320.5|ENSG00000118137.10|OTTHUMG00000046112.5|OTTHUMT00000142222.1|APOA1-203|APOA1|940|UTR5:1-79|CDS:80-883|UTR3:884-940|\n",
        "selectedX.append('CCCGGTCACTCTGGCTCCCCAGCTCAAGGTTCAGGCCTTGCCCCAGGCCGGGCCTCTGGGTCCCCCACGGCCCTTCAGGATGAAAGCTGCGGTGCTGACCTTGGCCGTGCTCTTCCTGACGGGGAGCCAGGCTCGGCATTTCTGGCAGCAAGATGAACCCCCCCAGAGCCCCTGGGATCGAGTGAAGGACCTGGCCACTGTGTACGTGGATGTGCTCAAAGACAGCGGCAGAGACTATGTGTCCCAGTTTGAAGGCTCCGCCTTGGGAAAACAGCTAAACCTAAAGCTCCTTGACAACTGGGACAGCGTGACCTCCACCTTCAGCAAGCTGCGCGAACAGCTCGGCCCTGTGACCCAGGAGTTCTGGGATAACCTGGAAAAGGAGACAGAGGGCCTGAGGCAGGAGATGAGCAAGGATCTGGAGGAGGTGAAGGCCAAGGTGCAGCCCTACCTGGACGACTTCCAGAAGAAGTGGCAGGAGGAGATGGAGCTCTACCGCCAGAAGGTGGAGCCGCTGCGCGCAGAGCTCCAAGAGGGCGCGCGCCAGAAGCTGCACGAGCTGCAAGAGAAGCTGAGCCCACTGGGCGAGGAGATGCGCGACCGCGCGCGCGCCCATGTGGACGCGCTGCGCACGCATCTGGCCCCCTACAGCGACGAGCTGCGCCAGCGCTTGGCCGCGCGCCTTGAGGCTCTCAAGGAGAACGGCGGCGCCAGACTGGCCGAGTACCACGCCAAGGCCACCGAGCATCTGAGCACGCTCAGCGAGAAGGCCAAGCCCGCGCTCGAGGACCTCCGCCAAGGCCTGCTGCCCGTGCTGGAGAGCTTCAAGGTCAGCTTCCTGAGCGCTCTCGAGGAGTACACTAAGAAGCTCAACACCCAGTGAGGCGCCCGCCGCCGCCCCCCTTCCCGGTGCTCAGAATAAACGTTTCCAAAGTGGGAA')\n",
        "selectedY.append(1) # coding\n",
        "#>ENST00000669664.1|ENSG00000235910.2|OTTHUMG00000150649.2|OTTHUMT00000524029.1|APOA1-AS-202|APOA1-AS|956|\n",
        "selectedX.append('TCTGCGCGCAGCGGCTCCACCTTCTGGCGGTAGAGCTCCATCTCCTCCTGCCACTTCTTCTGGAAGTCGTCCAGGGTGGCAGGCAGGGAGATTACGGACAGCATGGGGCATGTGAAATCCTGACACTTCTACAAATTGGGAAGAAACCTTTGGCATGCTGCCTGCTTAGTGCTCTCACAGTGCCTGGCCTCATACTGGCTGGTGGCAAATCGCCATCAAGGAAATAGATCCAAATGGCAAACCTTCTTCATCCACCAGGACCCAACCCACAGGCTACTTATTGCTGGAAACCTACGTTGTTCCTTGGATTGAAGTAATCTCTCCCTCCTCTGGTGCGCCCACAGCACTTGCACCAACAGTGGGTACTCAACAGACTAGCGTGCCTGCCGAAGAAGGGGTCCTCTGACAATCAGGGGACAATGGGGAATTATGCTCTCCAGACTTTCTACACACACAAGTCACACAGGAAGGAAGGTAAAGAGAAACTAGAGAAAATAATTTTTGAAGAAAAACATTTCAGGAAGTATTGAAAGTACACGGTAACTCAGCCTGGGGCAGGGGTGGAGGGCAGCAGCACTGTTTGCTGCAGCTATGCTCCTTCCTCAGTGCCCTGCACACCCGGGACTTGCTCGGTGAGCATCTCTCGTGTCAGTGACAGCTAGTGTGAGTACTCTTATGTTCAGCTGCCCCTGACTACCTCTTGACTTTGGGGACAAGTTACTTAATCTCTGTGCCTCCGCTGTTTCACTGGTAAATGGGAATAAGAGTTGGTTATTCTAGGGTTGTAGGGTTGTTGTAAGGATTAAATGAATCCGTATGTGAACAGCATTTGGTGCCTGGCACATGTGAGCTCAGCCGGGCGCGGTGGCTCATGCCTGTAATCCCAGCACTTTGGGAGGCCAAGGCGTGCGGATCACGAGGTCAGGAGATCGAGACCATCCTGGCTAACACGGTGA')\n",
        "selectedY.append(0) # noncoding\n"
      ],
      "execution_count": 35,
      "outputs": []
    },
    {
      "cell_type": "code",
      "metadata": {
        "id": "VQY7aTj29Kch"
      },
      "source": [
        "import numpy as np\n",
        "import pandas as pd\n",
        "import matplotlib.pyplot as plt\n",
        "from sklearn.utils import shuffle\n",
        "from sklearn.model_selection import KFold\n",
        "from sklearn.model_selection import cross_val_score\n",
        "from sklearn.metrics import roc_curve\n",
        "from sklearn.metrics import roc_auc_score\n",
        "\n",
        "from keras.models import Sequential\n",
        "from keras.layers import Conv2D,MaxPooling2D\n",
        "from keras.layers import Dense,Embedding,Dropout\n",
        "from keras.layers import Flatten,TimeDistributed\n",
        "from keras.losses import BinaryCrossentropy\n",
        "from keras.callbacks import ModelCheckpoint\n",
        "from keras.models import load_model"
      ],
      "execution_count": 36,
      "outputs": []
    },
    {
      "cell_type": "code",
      "metadata": {
        "colab": {
          "base_uri": "https://localhost:8080/"
        },
        "id": "xUxEB53HI_sk",
        "outputId": "0c32be1e-fa6c-4f46-a584-a3eb29b28b07"
      },
      "source": [
        "import sys\n",
        "IN_COLAB = False\n",
        "try:\n",
        "    from google.colab import drive\n",
        "    IN_COLAB = True\n",
        "except:\n",
        "    pass\n",
        "if IN_COLAB:\n",
        "    print(\"On Google CoLab, mount cloud-local file, get our code from GitHub.\")\n",
        "    PATH='/content/drive/'\n",
        "    #drive.mount(PATH,force_remount=True)  # hardly ever need this\n",
        "    drive.mount(PATH)    # Google will require login credentials\n",
        "    DATAPATH=PATH+'My Drive/data/'  # must end in \"/\"\n",
        "    import requests\n",
        "    r = requests.get('https://raw.githubusercontent.com/ShepherdCode/Soars2021/master/SimTools/RNA_describe.py')\n",
        "    with open('RNA_describe.py', 'w') as f:\n",
        "        f.write(r.text)  \n",
        "    from RNA_describe import ORF_counter\n",
        "    r = requests.get('https://raw.githubusercontent.com/ShepherdCode/Soars2021/master/SimTools/GenCodeTools.py')\n",
        "    with open('GenCodeTools.py', 'w') as f:\n",
        "        f.write(r.text)  \n",
        "    from GenCodeTools import GenCodeLoader\n",
        "    r = requests.get('https://raw.githubusercontent.com/ShepherdCode/Soars2021/master/SimTools/KmerTools.py')\n",
        "    with open('KmerTools.py', 'w') as f:\n",
        "        f.write(r.text)  \n",
        "    from KmerTools import KmerTools\n",
        "else:\n",
        "        print(\"CoLab not working. On my PC, use relative paths.\")\n",
        "        DATAPATH='data/'  # must end in \"/\"\n",
        "        sys.path.append(\"..\") # append parent dir in order to use sibling dirs\n",
        "        from SimTools.RNA_describe import ORF_counter\n",
        "        from SimTools.GenCodeTools import GenCodeLoader\n",
        "        from SimTools.KmerTools import KmerTools\n",
        "BESTMODELPATH=DATAPATH+\"BestModel\"  # saved on cloud instance and lost after logout\n",
        "LASTMODELPATH=DATAPATH+\"LastModel\"  # saved on Google Drive but requires login"
      ],
      "execution_count": 37,
      "outputs": [
        {
          "output_type": "stream",
          "text": [
            "On Google CoLab, mount cloud-local file, get our code from GitHub.\n",
            "Drive already mounted at /content/drive/; to attempt to forcibly remount, call drive.mount(\"/content/drive/\", force_remount=True).\n"
          ],
          "name": "stdout"
        }
      ]
    },
    {
      "cell_type": "markdown",
      "metadata": {
        "id": "8buAhZRfI_sp"
      },
      "source": [
        "## Data Load"
      ]
    },
    {
      "cell_type": "code",
      "metadata": {
        "colab": {
          "base_uri": "https://localhost:8080/"
        },
        "id": "h94xptH1tI82",
        "outputId": "2d086d95-3e4d-4584-97ec-039aa13ecb7b"
      },
      "source": [
        "PC_TRAINS=8000\n",
        "NC_TRAINS=8000\n",
        "PC_TESTS=2000\n",
        "NC_TESTS=2000   \n",
        "PC_LENS=(200,4000)\n",
        "NC_LENS=(200,4000)   # Wen used 3500 for hyperparameter, 3000 for train\n",
        "PC_FILENAME='gencode.v38.pc_transcripts.fa.gz'\n",
        "NC_FILENAME='gencode.v38.lncRNA_transcripts.fa.gz'\n",
        "PC_FULLPATH=DATAPATH+PC_FILENAME\n",
        "NC_FULLPATH=DATAPATH+NC_FILENAME\n",
        "MAX_K = 3 \n",
        "# With K={1,2,3}, num K-mers is 4^3 + 4^2 + 4^1 = 84.\n",
        "# Wen specified 17x20 which is impossible.\n",
        "# The factors of 84 are 1, 2, 3, 4, 6, 7, 12, 14, 21, 28, 42 and 84.\n",
        "FRQ_CNT=84\n",
        "ROWS=7\n",
        "COLS=FRQ_CNT//ROWS\n",
        "SHAPE2D = (ROWS,COLS,1)\n",
        "EPOCHS=50 # 1000 # 200\n",
        "SPLITS=5\n",
        "FOLDS=1   # make this 5 for serious testing\n",
        "show_time()"
      ],
      "execution_count": 38,
      "outputs": [
        {
          "output_type": "stream",
          "text": [
            "2021-08-04 16:11:47 UTC\n"
          ],
          "name": "stdout"
        }
      ]
    },
    {
      "cell_type": "code",
      "metadata": {
        "colab": {
          "base_uri": "https://localhost:8080/"
        },
        "id": "VNnPagXjtI85",
        "outputId": "2a2bd5d3-1dbe-4592-8103-f5d8a302b6c1"
      },
      "source": [
        "loader=GenCodeLoader()\n",
        "loader.set_label(1)\n",
        "loader.set_check_utr(True)\n",
        "pcdf=loader.load_file(PC_FULLPATH)\n",
        "print(\"PC seqs loaded:\",len(pcdf))\n",
        "loader.set_label(0)\n",
        "loader.set_check_utr(False)\n",
        "ncdf=loader.load_file(NC_FULLPATH)\n",
        "print(\"NC seqs loaded:\",len(ncdf))\n",
        "show_time()"
      ],
      "execution_count": 39,
      "outputs": [
        {
          "output_type": "stream",
          "text": [
            "PC seqs loaded: 70825\n",
            "NC seqs loaded: 48752\n",
            "2021-08-04 16:11:53 UTC\n"
          ],
          "name": "stdout"
        }
      ]
    },
    {
      "cell_type": "code",
      "metadata": {
        "colab": {
          "base_uri": "https://localhost:8080/"
        },
        "id": "ShtPw_fGtI9E",
        "outputId": "321e611f-6d04-4c5f-cf87-a2cd001a2628"
      },
      "source": [
        "def dataframe_length_filter(df,low_high):\n",
        "    (low,high)=low_high\n",
        "    # The pandas query language is strange, \n",
        "    # but this is MUCH faster than loop & drop.\n",
        "    return df[ (df['seqlen']>=low) & (df['seqlen']<=high) ]\n",
        "def dataframe_extract_sequence(df):\n",
        "    return df['sequence'].tolist()\n",
        "\n",
        "pc_all = dataframe_extract_sequence(\n",
        "    dataframe_length_filter(pcdf,PC_LENS))\n",
        "nc_all = dataframe_extract_sequence(\n",
        "    dataframe_length_filter(ncdf,NC_LENS))\n",
        "\n",
        "show_time()\n",
        "print(\"PC seqs pass filter:\",len(pc_all))\n",
        "print(\"NC seqs pass filter:\",len(nc_all))\n",
        "# Garbage collection to reduce RAM footprint\n",
        "pcdf=None\n",
        "ncdf=None"
      ],
      "execution_count": 40,
      "outputs": [
        {
          "output_type": "stream",
          "text": [
            "2021-08-04 16:11:53 UTC\n",
            "PC seqs pass filter: 55381\n",
            "NC seqs pass filter: 46919\n"
          ],
          "name": "stdout"
        }
      ]
    },
    {
      "cell_type": "markdown",
      "metadata": {
        "id": "CCNh_FZaI_sv"
      },
      "source": [
        "## Data Prep"
      ]
    },
    {
      "cell_type": "code",
      "metadata": {
        "colab": {
          "base_uri": "https://localhost:8080/"
        },
        "id": "V91rP2osI_s1",
        "outputId": "05857c7a-adbb-4948-8436-77d5418265bf"
      },
      "source": [
        "pc_train=pc_all[:PC_TRAINS] \n",
        "nc_train=nc_all[:NC_TRAINS]\n",
        "print(\"PC train, NC train:\",len(pc_train),len(nc_train))\n",
        "pc_test=pc_all[PC_TRAINS:PC_TRAINS+PC_TESTS] \n",
        "nc_test=nc_all[NC_TRAINS:NC_TRAINS+PC_TESTS]\n",
        "print(\"PC test, NC test:\",len(pc_test),len(nc_test))\n",
        "# Garbage collection\n",
        "pc_all=None\n",
        "nc_all=None"
      ],
      "execution_count": 41,
      "outputs": [
        {
          "output_type": "stream",
          "text": [
            "PC train, NC train: 8000 8000\n",
            "PC test, NC test: 2000 2000\n"
          ],
          "name": "stdout"
        }
      ]
    },
    {
      "cell_type": "code",
      "metadata": {
        "id": "FfyPeInGI_s4"
      },
      "source": [
        "def prepare_x_and_y(seqs1,seqs0):\n",
        "    len1=len(seqs1)\n",
        "    len0=len(seqs0)\n",
        "    total=len1+len0\n",
        "    L1=np.ones(len1,dtype=np.int8)\n",
        "    L0=np.zeros(len0,dtype=np.int8)\n",
        "    S1 = np.asarray(seqs1)\n",
        "    S0 = np.asarray(seqs0)\n",
        "    all_labels = np.concatenate((L1,L0))\n",
        "    all_seqs = np.concatenate((S1,S0))  \n",
        "    # interleave (uses less RAM than shuffle)\n",
        "    for i in range(0,len0):\n",
        "        all_labels[i*2] = L0[i]\n",
        "        all_seqs[i*2] = S0[i]\n",
        "        all_labels[i*2+1] = L1[i]\n",
        "        all_seqs[i*2+1] = S1[i]\n",
        "    return all_seqs,all_labels  # use this to test unshuffled\n",
        "    X,y = shuffle(all_seqs,all_labels) # sklearn.utils.shuffle \n",
        "    return X,y\n"
      ],
      "execution_count": 42,
      "outputs": []
    },
    {
      "cell_type": "code",
      "metadata": {
        "colab": {
          "base_uri": "https://localhost:8080/"
        },
        "id": "vpgzXXAao8sj",
        "outputId": "81d023c4-0159-4814-fdae-90861c24dbb2"
      },
      "source": [
        "Xseq,y=prepare_x_and_y(pc_train,nc_train)\n",
        "#print(Xseq[:3])\n",
        "#print(y[:3])\n",
        "show_time()"
      ],
      "execution_count": 43,
      "outputs": [
        {
          "output_type": "stream",
          "text": [
            "2021-08-04 16:11:54 UTC\n"
          ],
          "name": "stdout"
        }
      ]
    },
    {
      "cell_type": "code",
      "metadata": {
        "colab": {
          "base_uri": "https://localhost:8080/"
        },
        "id": "LWLixZOfI_s7",
        "outputId": "52e60e96-71fa-49fb-8754-7f99429a777b"
      },
      "source": [
        "def seqs_to_kmer_freqs(seqs,max_K):\n",
        "    tool = KmerTools()  # from SimTools\n",
        "    collection = []\n",
        "    for seq in seqs:\n",
        "        counts = tool.make_dict_upto_K(max_K)\n",
        "        # Last param should be True when using Harvester.\n",
        "        counts = tool.update_count_one_K(counts,max_K,seq,True)\n",
        "        # Given counts for K=3, Harvester fills in counts for K=1,2.\n",
        "        counts = tool.harvest_counts_from_K(counts,max_K)\n",
        "        fdict = tool.count_to_frequency(counts,max_K)\n",
        "        freqs = list(fdict.values())\n",
        "        collection.append(freqs)\n",
        "    return np.asarray(collection)\n",
        "Xfrq=seqs_to_kmer_freqs(Xseq,MAX_K)\n",
        "# Garbage collection\n",
        "Xseq = None\n",
        "show_time()"
      ],
      "execution_count": 44,
      "outputs": [
        {
          "output_type": "stream",
          "text": [
            "2021-08-04 16:12:07 UTC\n"
          ],
          "name": "stdout"
        }
      ]
    },
    {
      "cell_type": "code",
      "metadata": {
        "colab": {
          "base_uri": "https://localhost:8080/"
        },
        "id": "WBBY4rH3cwT2",
        "outputId": "0ff87587-4294-4f44-85c0-11df3df570a6"
      },
      "source": [
        "def reshape(frequency_matrix):\n",
        "    seq_cnt,frq_cnt=Xfrq.shape \n",
        "    # CNN inputs require a last dimension = numbers per pixel.\n",
        "    # For RGB images it is 3.\n",
        "    # For our frequency matrix it is 1.\n",
        "    new_matrix = frequency_matrix.reshape(seq_cnt,ROWS,COLS,1)\n",
        "    return new_matrix\n",
        "\n",
        "print(\"Xfrq\")\n",
        "print(\"Xfrq type\",type(Xfrq))\n",
        "print(\"Xfrq shape\",Xfrq.shape)\n",
        "Xfrq2D = reshape(Xfrq)\n",
        "print(\"Xfrq2D shape\",Xfrq2D.shape)"
      ],
      "execution_count": 45,
      "outputs": [
        {
          "output_type": "stream",
          "text": [
            "Xfrq\n",
            "Xfrq type <class 'numpy.ndarray'>\n",
            "Xfrq shape (16000, 84)\n",
            "Xfrq2D shape (16000, 7, 12, 1)\n"
          ],
          "name": "stdout"
        }
      ]
    },
    {
      "cell_type": "markdown",
      "metadata": {
        "id": "dJ4XhrzGI_s-"
      },
      "source": [
        "## Build and train a neural network"
      ]
    },
    {
      "cell_type": "code",
      "metadata": {
        "colab": {
          "base_uri": "https://localhost:8080/"
        },
        "id": "o5NPW7zKI_tC",
        "outputId": "978d8965-ed3c-4b99-c1f3-3928bb626b20"
      },
      "source": [
        "def make_DNN(shape):\n",
        "    dt=np.float32\n",
        "    print(\"make_DNN\")\n",
        "    print(\"input shape:\",shape)\n",
        "    WIDTH=(3,3)\n",
        "    STRIDE=(1,1)\n",
        "    dnn = Sequential()\n",
        "    dnn.add(Conv2D(filters=32,kernel_size=WIDTH,strides=STRIDE,activation=\"relu\",padding=\"same\",\n",
        "            input_shape=shape))\n",
        "    dnn.add(Conv2D(filters=64,kernel_size=WIDTH,strides=STRIDE,activation=\"relu\",padding=\"same\"))\n",
        "    dnn.add(MaxPooling2D())\n",
        "    dnn.add(Flatten())\n",
        "    dnn.add(Dropout(0.25))\n",
        "    dnn.add(Dense(128,activation=\"sigmoid\",dtype=dt)) \n",
        "    dnn.add(Dropout(0.50))\n",
        "    dnn.add(Dense(1,activation=\"sigmoid\",dtype=dt))   \n",
        "    dnn.compile(optimizer='adam',    # adadelta doesn't work as well\n",
        "                loss=BinaryCrossentropy(from_logits=False),\n",
        "                metrics=['accuracy'])   # add to default metrics=loss\n",
        "    dnn.build(input_shape=shape) \n",
        "    return dnn\n",
        "model = make_DNN(SHAPE2D)\n",
        "print(model.summary())"
      ],
      "execution_count": 46,
      "outputs": [
        {
          "output_type": "stream",
          "text": [
            "make_DNN\n",
            "input shape: (7, 12, 1)\n",
            "Model: \"sequential_2\"\n",
            "_________________________________________________________________\n",
            "Layer (type)                 Output Shape              Param #   \n",
            "=================================================================\n",
            "conv2d_4 (Conv2D)            (None, 7, 12, 32)         320       \n",
            "_________________________________________________________________\n",
            "conv2d_5 (Conv2D)            (None, 7, 12, 64)         18496     \n",
            "_________________________________________________________________\n",
            "max_pooling2d_2 (MaxPooling2 (None, 3, 6, 64)          0         \n",
            "_________________________________________________________________\n",
            "flatten_2 (Flatten)          (None, 1152)              0         \n",
            "_________________________________________________________________\n",
            "dropout_4 (Dropout)          (None, 1152)              0         \n",
            "_________________________________________________________________\n",
            "dense_4 (Dense)              (None, 128)               147584    \n",
            "_________________________________________________________________\n",
            "dropout_5 (Dropout)          (None, 128)               0         \n",
            "_________________________________________________________________\n",
            "dense_5 (Dense)              (None, 1)                 129       \n",
            "=================================================================\n",
            "Total params: 166,529\n",
            "Trainable params: 166,529\n",
            "Non-trainable params: 0\n",
            "_________________________________________________________________\n",
            "None\n"
          ],
          "name": "stdout"
        }
      ]
    },
    {
      "cell_type": "code",
      "metadata": {
        "id": "7xBalIrXrEAS"
      },
      "source": [
        "def do_cross_validation(X,y,shape):\n",
        "    cv_scores = []\n",
        "    fold=0\n",
        "    mycallbacks = [ModelCheckpoint(\n",
        "        filepath=BESTMODELPATH, save_best_only=True, \n",
        "        monitor='val_accuracy', mode='max')]   \n",
        "    # When shuffle=True, the valid indices are a random subset.\n",
        "    splitter = KFold(n_splits=SPLITS,shuffle=True) \n",
        "    model = None\n",
        "    for train_index,valid_index in splitter.split(X):\n",
        "        if fold < FOLDS:\n",
        "            fold += 1\n",
        "            X_train=X[train_index] # inputs for training\n",
        "            y_train=y[train_index] # labels for training\n",
        "            X_valid=X[valid_index] # inputs for validation\n",
        "            y_valid=y[valid_index] # labels for validation\n",
        "            print(\"MODEL\")\n",
        "            # Call constructor on each CV. Else, continually improves the same model.\n",
        "            model = model = make_DNN(shape)\n",
        "            print(\"FIT\")  # model.fit() implements learning\n",
        "            start_time=time.time()\n",
        "            history=model.fit(X_train, y_train, \n",
        "                    epochs=EPOCHS, \n",
        "                    verbose=1,  # ascii art while learning\n",
        "                    callbacks=mycallbacks,   # called at end of each epoch\n",
        "                    validation_data=(X_valid,y_valid))\n",
        "            end_time=time.time()\n",
        "            elapsed_time=(end_time-start_time)                        \n",
        "            print(\"Fold %d, %d epochs, %d sec\"%(fold,EPOCHS,elapsed_time))\n",
        "            # print(history.history.keys())  # all these keys will be shown in figure\n",
        "            pd.DataFrame(history.history).plot(figsize=(8,5))\n",
        "            plt.grid(True)\n",
        "            plt.gca().set_ylim(0,1) # any losses > 1 will be off the scale\n",
        "            plt.show()\n",
        "    return model  # parameters at end of training"
      ],
      "execution_count": 47,
      "outputs": []
    },
    {
      "cell_type": "code",
      "metadata": {
        "colab": {
          "base_uri": "https://localhost:8080/",
          "height": 1000
        },
        "id": "BM6UjBzrrEAV",
        "outputId": "bf99db48-c332-4584-9527-eab3c3273ab6"
      },
      "source": [
        "show_time()\n",
        "last_model = do_cross_validation(Xfrq2D,y,SHAPE2D)\n",
        "last_model.save(LASTMODELPATH)"
      ],
      "execution_count": 48,
      "outputs": [
        {
          "output_type": "stream",
          "text": [
            "2021-08-04 16:12:07 UTC\n",
            "MODEL\n",
            "make_DNN\n",
            "input shape: (7, 12, 1)\n",
            "FIT\n",
            "Epoch 1/50\n",
            "400/400 [==============================] - 3s 5ms/step - loss: 0.7185 - accuracy: 0.5371 - val_loss: 0.6323 - val_accuracy: 0.6378\n",
            "INFO:tensorflow:Assets written to: /content/drive/My Drive/data/BestModel/assets\n",
            "Epoch 2/50\n",
            "400/400 [==============================] - 2s 4ms/step - loss: 0.6184 - accuracy: 0.6622 - val_loss: 0.5713 - val_accuracy: 0.7053\n",
            "INFO:tensorflow:Assets written to: /content/drive/My Drive/data/BestModel/assets\n",
            "Epoch 3/50\n",
            "400/400 [==============================] - 2s 4ms/step - loss: 0.5771 - accuracy: 0.7062 - val_loss: 0.5177 - val_accuracy: 0.7531\n",
            "INFO:tensorflow:Assets written to: /content/drive/My Drive/data/BestModel/assets\n",
            "Epoch 4/50\n",
            "400/400 [==============================] - 2s 4ms/step - loss: 0.5235 - accuracy: 0.7428 - val_loss: 0.4701 - val_accuracy: 0.7834\n",
            "INFO:tensorflow:Assets written to: /content/drive/My Drive/data/BestModel/assets\n",
            "Epoch 5/50\n",
            "400/400 [==============================] - 2s 4ms/step - loss: 0.4770 - accuracy: 0.7819 - val_loss: 0.4494 - val_accuracy: 0.7900\n",
            "INFO:tensorflow:Assets written to: /content/drive/My Drive/data/BestModel/assets\n",
            "Epoch 6/50\n",
            "400/400 [==============================] - 2s 4ms/step - loss: 0.4430 - accuracy: 0.7965 - val_loss: 0.4127 - val_accuracy: 0.8178\n",
            "INFO:tensorflow:Assets written to: /content/drive/My Drive/data/BestModel/assets\n",
            "Epoch 7/50\n",
            "400/400 [==============================] - 2s 4ms/step - loss: 0.4271 - accuracy: 0.8079 - val_loss: 0.3993 - val_accuracy: 0.8263\n",
            "INFO:tensorflow:Assets written to: /content/drive/My Drive/data/BestModel/assets\n",
            "Epoch 8/50\n",
            "400/400 [==============================] - 2s 4ms/step - loss: 0.4036 - accuracy: 0.8170 - val_loss: 0.3771 - val_accuracy: 0.8394\n",
            "INFO:tensorflow:Assets written to: /content/drive/My Drive/data/BestModel/assets\n",
            "Epoch 9/50\n",
            "400/400 [==============================] - 2s 4ms/step - loss: 0.3961 - accuracy: 0.8272 - val_loss: 0.3670 - val_accuracy: 0.8356\n",
            "Epoch 10/50\n",
            "400/400 [==============================] - 2s 4ms/step - loss: 0.3825 - accuracy: 0.8302 - val_loss: 0.3621 - val_accuracy: 0.8447\n",
            "INFO:tensorflow:Assets written to: /content/drive/My Drive/data/BestModel/assets\n",
            "Epoch 11/50\n",
            "400/400 [==============================] - 2s 4ms/step - loss: 0.3728 - accuracy: 0.8395 - val_loss: 0.3715 - val_accuracy: 0.8413\n",
            "Epoch 12/50\n",
            "400/400 [==============================] - 2s 4ms/step - loss: 0.3750 - accuracy: 0.8367 - val_loss: 0.3577 - val_accuracy: 0.8484\n",
            "INFO:tensorflow:Assets written to: /content/drive/My Drive/data/BestModel/assets\n",
            "Epoch 13/50\n",
            "400/400 [==============================] - 2s 4ms/step - loss: 0.3589 - accuracy: 0.8447 - val_loss: 0.3517 - val_accuracy: 0.8494\n",
            "INFO:tensorflow:Assets written to: /content/drive/My Drive/data/BestModel/assets\n",
            "Epoch 14/50\n",
            "400/400 [==============================] - 2s 4ms/step - loss: 0.3648 - accuracy: 0.8448 - val_loss: 0.3504 - val_accuracy: 0.8525\n",
            "INFO:tensorflow:Assets written to: /content/drive/My Drive/data/BestModel/assets\n",
            "Epoch 15/50\n",
            "400/400 [==============================] - 2s 4ms/step - loss: 0.3511 - accuracy: 0.8486 - val_loss: 0.3507 - val_accuracy: 0.8487\n",
            "Epoch 16/50\n",
            "400/400 [==============================] - 2s 4ms/step - loss: 0.3461 - accuracy: 0.8499 - val_loss: 0.3550 - val_accuracy: 0.8494\n",
            "Epoch 17/50\n",
            "400/400 [==============================] - 2s 4ms/step - loss: 0.3447 - accuracy: 0.8460 - val_loss: 0.3396 - val_accuracy: 0.8572\n",
            "INFO:tensorflow:Assets written to: /content/drive/My Drive/data/BestModel/assets\n",
            "Epoch 18/50\n",
            "400/400 [==============================] - 2s 4ms/step - loss: 0.3402 - accuracy: 0.8507 - val_loss: 0.3395 - val_accuracy: 0.8544\n",
            "Epoch 19/50\n",
            "400/400 [==============================] - 2s 4ms/step - loss: 0.3372 - accuracy: 0.8522 - val_loss: 0.3452 - val_accuracy: 0.8559\n",
            "Epoch 20/50\n",
            "400/400 [==============================] - 2s 4ms/step - loss: 0.3295 - accuracy: 0.8564 - val_loss: 0.3426 - val_accuracy: 0.8547\n",
            "Epoch 21/50\n",
            "400/400 [==============================] - 2s 4ms/step - loss: 0.3152 - accuracy: 0.8614 - val_loss: 0.3349 - val_accuracy: 0.8584\n",
            "INFO:tensorflow:Assets written to: /content/drive/My Drive/data/BestModel/assets\n",
            "Epoch 22/50\n",
            "400/400 [==============================] - 2s 4ms/step - loss: 0.3233 - accuracy: 0.8572 - val_loss: 0.3297 - val_accuracy: 0.8625\n",
            "INFO:tensorflow:Assets written to: /content/drive/My Drive/data/BestModel/assets\n",
            "Epoch 23/50\n",
            "400/400 [==============================] - 2s 4ms/step - loss: 0.3197 - accuracy: 0.8558 - val_loss: 0.3367 - val_accuracy: 0.8572\n",
            "Epoch 24/50\n",
            "400/400 [==============================] - 2s 4ms/step - loss: 0.3230 - accuracy: 0.8649 - val_loss: 0.3326 - val_accuracy: 0.8597\n",
            "Epoch 25/50\n",
            "400/400 [==============================] - 2s 4ms/step - loss: 0.3168 - accuracy: 0.8595 - val_loss: 0.3290 - val_accuracy: 0.8644\n",
            "INFO:tensorflow:Assets written to: /content/drive/My Drive/data/BestModel/assets\n",
            "Epoch 26/50\n",
            "400/400 [==============================] - 2s 4ms/step - loss: 0.3197 - accuracy: 0.8593 - val_loss: 0.3369 - val_accuracy: 0.8581\n",
            "Epoch 27/50\n",
            "400/400 [==============================] - 2s 4ms/step - loss: 0.3177 - accuracy: 0.8600 - val_loss: 0.3284 - val_accuracy: 0.8650\n",
            "INFO:tensorflow:Assets written to: /content/drive/My Drive/data/BestModel/assets\n",
            "Epoch 28/50\n",
            "400/400 [==============================] - 2s 4ms/step - loss: 0.3119 - accuracy: 0.8649 - val_loss: 0.3275 - val_accuracy: 0.8678\n",
            "INFO:tensorflow:Assets written to: /content/drive/My Drive/data/BestModel/assets\n",
            "Epoch 29/50\n",
            "400/400 [==============================] - 2s 4ms/step - loss: 0.3130 - accuracy: 0.8641 - val_loss: 0.3251 - val_accuracy: 0.8647\n",
            "Epoch 30/50\n",
            "400/400 [==============================] - 2s 4ms/step - loss: 0.3138 - accuracy: 0.8638 - val_loss: 0.3258 - val_accuracy: 0.8687\n",
            "INFO:tensorflow:Assets written to: /content/drive/My Drive/data/BestModel/assets\n",
            "Epoch 31/50\n",
            "400/400 [==============================] - 2s 4ms/step - loss: 0.3106 - accuracy: 0.8638 - val_loss: 0.3208 - val_accuracy: 0.8659\n",
            "Epoch 32/50\n",
            "400/400 [==============================] - 2s 4ms/step - loss: 0.3071 - accuracy: 0.8629 - val_loss: 0.3182 - val_accuracy: 0.8662\n",
            "Epoch 33/50\n",
            "400/400 [==============================] - 2s 4ms/step - loss: 0.2965 - accuracy: 0.8696 - val_loss: 0.3160 - val_accuracy: 0.8700\n",
            "INFO:tensorflow:Assets written to: /content/drive/My Drive/data/BestModel/assets\n",
            "Epoch 34/50\n",
            "400/400 [==============================] - 2s 4ms/step - loss: 0.3028 - accuracy: 0.8692 - val_loss: 0.3209 - val_accuracy: 0.8653\n",
            "Epoch 35/50\n",
            "400/400 [==============================] - 2s 4ms/step - loss: 0.3050 - accuracy: 0.8668 - val_loss: 0.3261 - val_accuracy: 0.8653\n",
            "Epoch 36/50\n",
            "400/400 [==============================] - 2s 4ms/step - loss: 0.2911 - accuracy: 0.8708 - val_loss: 0.3359 - val_accuracy: 0.8578\n",
            "Epoch 37/50\n",
            "400/400 [==============================] - 2s 4ms/step - loss: 0.2980 - accuracy: 0.8718 - val_loss: 0.3159 - val_accuracy: 0.8719\n",
            "INFO:tensorflow:Assets written to: /content/drive/My Drive/data/BestModel/assets\n",
            "Epoch 38/50\n",
            "400/400 [==============================] - 2s 4ms/step - loss: 0.2794 - accuracy: 0.8796 - val_loss: 0.3197 - val_accuracy: 0.8678\n",
            "Epoch 39/50\n",
            "400/400 [==============================] - 2s 4ms/step - loss: 0.2914 - accuracy: 0.8741 - val_loss: 0.3160 - val_accuracy: 0.8675\n",
            "Epoch 40/50\n",
            "400/400 [==============================] - 2s 4ms/step - loss: 0.2886 - accuracy: 0.8746 - val_loss: 0.3108 - val_accuracy: 0.8672\n",
            "Epoch 41/50\n",
            "400/400 [==============================] - 2s 4ms/step - loss: 0.2917 - accuracy: 0.8737 - val_loss: 0.3115 - val_accuracy: 0.8703\n",
            "Epoch 42/50\n",
            "400/400 [==============================] - 2s 4ms/step - loss: 0.2892 - accuracy: 0.8771 - val_loss: 0.3068 - val_accuracy: 0.8744\n",
            "INFO:tensorflow:Assets written to: /content/drive/My Drive/data/BestModel/assets\n",
            "Epoch 43/50\n",
            "400/400 [==============================] - 2s 4ms/step - loss: 0.2727 - accuracy: 0.8807 - val_loss: 0.3126 - val_accuracy: 0.8712\n",
            "Epoch 44/50\n",
            "400/400 [==============================] - 2s 4ms/step - loss: 0.2749 - accuracy: 0.8801 - val_loss: 0.3125 - val_accuracy: 0.8653\n",
            "Epoch 45/50\n",
            "400/400 [==============================] - 2s 4ms/step - loss: 0.2770 - accuracy: 0.8807 - val_loss: 0.3089 - val_accuracy: 0.8728\n",
            "Epoch 46/50\n",
            "400/400 [==============================] - 2s 4ms/step - loss: 0.2785 - accuracy: 0.8808 - val_loss: 0.3099 - val_accuracy: 0.8744\n",
            "Epoch 47/50\n",
            "400/400 [==============================] - 2s 4ms/step - loss: 0.2739 - accuracy: 0.8826 - val_loss: 0.3108 - val_accuracy: 0.8625\n",
            "Epoch 48/50\n",
            "400/400 [==============================] - 2s 4ms/step - loss: 0.2742 - accuracy: 0.8821 - val_loss: 0.3121 - val_accuracy: 0.8725\n",
            "Epoch 49/50\n",
            "400/400 [==============================] - 2s 4ms/step - loss: 0.2755 - accuracy: 0.8800 - val_loss: 0.3035 - val_accuracy: 0.8706\n",
            "Epoch 50/50\n",
            "400/400 [==============================] - 2s 4ms/step - loss: 0.2667 - accuracy: 0.8870 - val_loss: 0.3114 - val_accuracy: 0.8681\n",
            "Fold 1, 50 epochs, 116 sec\n"
          ],
          "name": "stdout"
        },
        {
          "output_type": "display_data",
          "data": {
            "image/png": "[encoded data removed]",
            "text/plain": [
              "<Figure size 576x360 with 1 Axes>"
            ]
          },
          "metadata": {
            "tags": [],
            "needs_background": "light"
          }
        },
        {
          "output_type": "stream",
          "text": [
            "INFO:tensorflow:Assets written to: /content/drive/My Drive/data/LastModel/assets\n"
          ],
          "name": "stdout"
        }
      ]
    },
    {
      "cell_type": "markdown",
      "metadata": {
        "id": "OsytC9VUrEAX"
      },
      "source": [
        "## Test the neural network"
      ]
    },
    {
      "cell_type": "code",
      "metadata": {
        "colab": {
          "base_uri": "https://localhost:8080/"
        },
        "id": "yl_32wkloFA7",
        "outputId": "c69fa28e-da40-4b7a-cc2b-ac352f2db9f5"
      },
      "source": [
        "show_time()\n",
        "model = load_model(BESTMODELPATH)\n",
        "Xseq,y=prepare_x_and_y(pc_test,nc_test)  # test sequences\n",
        "Xfrq=seqs_to_kmer_freqs(Xseq,MAX_K)      # converted to K-mer frequencies\n",
        "X = reshape(Xfrq)                        # and formatted as 2D matrix\n",
        "show_time()"
      ],
      "execution_count": 49,
      "outputs": [
        {
          "output_type": "stream",
          "text": [
            "2021-08-04 16:14:06 UTC\n",
            "2021-08-04 16:14:10 UTC\n"
          ],
          "name": "stdout"
        }
      ]
    },
    {
      "cell_type": "code",
      "metadata": {
        "id": "8hIqe1r1rEAa",
        "colab": {
          "base_uri": "https://localhost:8080/"
        },
        "outputId": "034999fe-0180-4820-a256-fbe4b06fa6a7"
      },
      "source": [
        "scores = model.evaluate(X, y, verbose=0)\n",
        "print(\"%s: %.2f%%\" % (model.metrics_names[1], scores[1]*100))"
      ],
      "execution_count": 50,
      "outputs": [
        {
          "output_type": "stream",
          "text": [
            "accuracy: 87.95%\n"
          ],
          "name": "stdout"
        }
      ]
    },
    {
      "cell_type": "markdown",
      "metadata": {
        "id": "TTxQB_cbp-2s"
      },
      "source": [
        "## Apply the network to specific data sets"
      ]
    },
    {
      "cell_type": "code",
      "metadata": {
        "id": "8keogpZypr_E"
      },
      "source": [
        "def prepare_one(seqs1,label):\n",
        "    len1=len(seqs1)\n",
        "    if label==1:\n",
        "        L1=np.ones(len1,dtype=np.int8)\n",
        "    else:\n",
        "        L1=np.zeros(len1,dtype=np.int8)\n",
        "    Xfrq=seqs_to_kmer_freqs(seqs1,MAX_K)      # converted to K-mer frequencies\n",
        "    return Xfrq,L1\n"
      ],
      "execution_count": 51,
      "outputs": []
    },
    {
      "cell_type": "code",
      "metadata": {
        "colab": {
          "base_uri": "https://localhost:8080/"
        },
        "id": "uKZErkm5oFBA",
        "outputId": "acd3424c-84ae-41f0-95be-1561803268be"
      },
      "source": [
        "print(\"The protein coding test set...\")\n",
        "Xfrq,y = prepare_one(pc_test,1)\n",
        "rows=7\n",
        "cols=FRQ_CNT//rows\n",
        "seq_cnt,old_rows=Xfrq.shape \n",
        "X = Xfrq.reshape(seq_cnt,rows,cols,1)\n",
        "\n",
        "scores = model.evaluate(X, y, verbose=0)\n",
        "print(\"%s: %.2f%%\" % (model.metrics_names[1], scores[1]*100))\n",
        "bm_probs = model.predict(X)\n",
        "print(\"First few scores...\")\n",
        "print(bm_probs[:5])"
      ],
      "execution_count": 52,
      "outputs": [
        {
          "output_type": "stream",
          "text": [
            "The protein coding test set...\n",
            "accuracy: 86.80%\n",
            "First few scores...\n",
            "[[0.91308117]\n",
            " [0.99579006]\n",
            " [0.52414906]\n",
            " [0.53665304]\n",
            " [0.5707034 ]]\n"
          ],
          "name": "stdout"
        }
      ]
    },
    {
      "cell_type": "code",
      "metadata": {
        "id": "-cSLTNfzrEAo",
        "colab": {
          "base_uri": "https://localhost:8080/"
        },
        "outputId": "cf670148-fbf2-4020-bdba-5606635b988c"
      },
      "source": [
        "print(\"The non coding test set...\")\n",
        "Xfrq,y = prepare_one(nc_test,1)\n",
        "rows=7\n",
        "cols=FRQ_CNT//rows\n",
        "seq_cnt,old_rows=Xfrq.shape \n",
        "X = Xfrq.reshape(seq_cnt,rows,cols,1)\n",
        "\n",
        "scores = model.evaluate(X, y, verbose=0)\n",
        "print(\"%s: %.2f%%\" % (model.metrics_names[1], scores[1]*100))\n",
        "bm_probs = model.predict(X)\n",
        "print(\"First few scores...\")\n",
        "print(bm_probs[:5])"
      ],
      "execution_count": 53,
      "outputs": [
        {
          "output_type": "stream",
          "text": [
            "The non coding test set...\n",
            "accuracy: 10.90%\n",
            "First few scores...\n",
            "[[0.22125717]\n",
            " [0.4302455 ]\n",
            " [0.18622719]\n",
            " [0.13985981]\n",
            " [0.02205852]]\n"
          ],
          "name": "stdout"
        }
      ]
    },
    {
      "cell_type": "code",
      "metadata": {
        "colab": {
          "base_uri": "https://localhost:8080/"
        },
        "id": "1yjj57go7G4I",
        "outputId": "c51b4c8f-8563-4558-ff6b-ceb852f68c81"
      },
      "source": [
        "print(\"The sequences of interest...\")\n",
        "Xfrq,y = prepare_one(selectedX,41)  # don't use second parameter; set y on next line\n",
        "y = np.asarray(selectedY)\n",
        "rows=7\n",
        "cols=FRQ_CNT//rows\n",
        "seq_cnt,old_rows=Xfrq.shape \n",
        "X = Xfrq.reshape(seq_cnt,rows,cols,1)\n",
        "\n",
        "\n",
        "scores = model.evaluate(X, y, verbose=0)\n",
        "print(\"%s: %.2f%%\" % (model.metrics_names[1], scores[1]*100))\n",
        "bm_probs = model.predict(X)\n",
        "print(\"First few scores...\")\n",
        "print(bm_probs[:5])"
      ],
      "execution_count": 54,
      "outputs": [
        {
          "output_type": "stream",
          "text": [
            "The sequences of interest...\n",
            "accuracy: 75.00%\n",
            "First few scores...\n",
            "[[0.4513984 ]\n",
            " [0.12094621]\n",
            " [0.9505478 ]\n",
            " [0.01103988]]\n"
          ],
          "name": "stdout"
        }
      ]
    }
  ]
}