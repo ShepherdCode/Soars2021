{
  "nbformat": 4,
  "nbformat_minor": 0,
  "metadata": {
    "accelerator": "GPU",
    "colab": {
      "name": "ORF_LSTM_103.ipynb",
      "provenance": [],
      "collapsed_sections": []
    },
    "kernelspec": {
      "display_name": "Python 3",
      "language": "python",
      "name": "python3"
    },
    "language_info": {
      "codemirror_mode": {
        "name": "ipython",
        "version": 3
      },
      "file_extension": ".py",
      "mimetype": "text/x-python",
      "name": "python",
      "nbconvert_exporter": "python",
      "pygments_lexer": "ipython3",
      "version": "3.8.3"
    }
  },
  "cells": [
    {
      "cell_type": "markdown",
      "metadata": {
        "id": "0asdcdunj2Tx"
      },
      "source": [
        "# ORF recognition by LSTM\n",
        "LSTM was incapable of ORF recognition on 1000 bp sequences. Try smaller.\n"
      ]
    },
    {
      "cell_type": "code",
      "metadata": {
        "colab": {
          "base_uri": "https://localhost:8080/",
          "height": 36
        },
        "id": "QP1VTRNQj2UO",
        "outputId": "102e8c6f-3a33-4829-b71a-cfb2b37f72ec"
      },
      "source": [
        "import time \n",
        "t = time.time()\n",
        "time.strftime('%Y-%m-%d %H:%M:%S %Z', time.localtime(t))"
      ],
      "execution_count": 1,
      "outputs": [
        {
          "output_type": "execute_result",
          "data": {
            "application/vnd.google.colaboratory.intrinsic+json": {
              "type": "string"
            },
            "text/plain": [
              "'2021-05-18 11:28:50 UTC'"
            ]
          },
          "metadata": {
            "tags": []
          },
          "execution_count": 1
        }
      ]
    },
    {
      "cell_type": "code",
      "metadata": {
        "id": "Nhz4GKonj2T_"
      },
      "source": [
        "PC_SEQUENCES=20000   # how many protein-coding sequences\n",
        "NC_SEQUENCES=20000   # how many non-coding sequences\n",
        "PC_TESTS=1000\n",
        "NC_TESTS=1000\n",
        "BASES=100            # how long is each sequence\n",
        "ALPHABET=4          # how many different letters are possible\n",
        "INPUT_SHAPE_2D = (BASES,ALPHABET,1) # Conv2D needs 3D inputs\n",
        "INPUT_SHAPE = (BASES,ALPHABET) # Conv1D needs 2D inputs\n",
        "NEURONS = 32\n",
        "#DROP_RATE = 0.2\n",
        "EPOCHS=50  # how many times to train on all the data\n",
        "SPLITS=5  # SPLITS=3 means train on 2/3 and validate on 1/3 \n",
        "FOLDS=5  # train the model this many times (range 1 to SPLITS)"
      ],
      "execution_count": 2,
      "outputs": []
    },
    {
      "cell_type": "code",
      "metadata": {
        "colab": {
          "base_uri": "https://localhost:8080/"
        },
        "id": "lr7q90rxj2UE",
        "outputId": "2bc978db-2d7c-40bc-e673-b5f5c6cdbea7"
      },
      "source": [
        "import sys\n",
        "try:\n",
        "    from google.colab import drive\n",
        "    IN_COLAB = True\n",
        "    print(\"On Google CoLab, mount cloud-local file, get our code from GitHub.\")\n",
        "    PATH='/content/drive/'\n",
        "    #drive.mount(PATH,force_remount=True)  # hardly ever need this\n",
        "    #drive.mount(PATH)    # Google will require login credentials\n",
        "    DATAPATH=PATH+'My Drive/data/'  # must end in \"/\"\n",
        "    import requests\n",
        "    r = requests.get('https://raw.githubusercontent.com/ShepherdCode/Soars2021/master/SimTools/RNA_gen.py')\n",
        "    with open('RNA_gen.py', 'w') as f:\n",
        "        f.write(r.text)  \n",
        "    from RNA_gen import *\n",
        "    r = requests.get('https://raw.githubusercontent.com/ShepherdCode/Soars2021/master/SimTools/RNA_describe.py')\n",
        "    with open('RNA_describe.py', 'w') as f:\n",
        "        f.write(r.text)  \n",
        "    from RNA_describe import *\n",
        "    r = requests.get('https://raw.githubusercontent.com/ShepherdCode/Soars2021/master/SimTools/RNA_prep.py')\n",
        "    with open('RNA_prep.py', 'w') as f:\n",
        "        f.write(r.text)  \n",
        "    from RNA_prep import *\n",
        "except:\n",
        "    print(\"CoLab not working. On my PC, use relative paths.\")\n",
        "    IN_COLAB = False\n",
        "    DATAPATH='data/'  # must end in \"/\"\n",
        "    sys.path.append(\"..\") # append parent dir in order to use sibling dirs\n",
        "    from SimTools.RNA_gen import *\n",
        "    from SimTools.RNA_describe import *\n",
        "    from SimTools.RNA_prep import *\n",
        "\n",
        "MODELPATH=\"BestModel\"  # saved on cloud instance and lost after logout\n",
        "#MODELPATH=DATAPATH+MODELPATH  # saved on Google Drive but requires login\n",
        "\n",
        "if not assert_imported_RNA_gen():\n",
        "    print(\"ERROR: Cannot use RNA_gen.\")\n",
        "if not assert_imported_RNA_prep():\n",
        "    print(\"ERROR: Cannot use RNA_prep.\")"
      ],
      "execution_count": 3,
      "outputs": [
        {
          "output_type": "stream",
          "text": [
            "On Google CoLab, mount cloud-local file, get our code from GitHub.\n"
          ],
          "name": "stdout"
        }
      ]
    },
    {
      "cell_type": "code",
      "metadata": {
        "id": "EGDXH8Uwj2UM"
      },
      "source": [
        "from os import listdir\n",
        "import csv\n",
        "from zipfile import ZipFile\n",
        "\n",
        "import numpy as np\n",
        "import pandas as pd\n",
        "from scipy import stats  # mode\n",
        "\n",
        "from sklearn.preprocessing import StandardScaler\n",
        "from sklearn.model_selection import KFold\n",
        "from sklearn.model_selection import cross_val_score\n",
        "\n",
        "from keras.models import Sequential\n",
        "from keras.layers import Dense,Embedding,Dropout\n",
        "from keras.layers import LSTM\n",
        "from keras.losses import BinaryCrossentropy\n",
        "# tf.keras.losses.BinaryCrossentropy\n",
        "\n",
        "import matplotlib.pyplot as plt\n",
        "from matplotlib import colors\n",
        "mycmap = colors.ListedColormap(['red','blue'])  # list color for label 0 then 1\n",
        "np.set_printoptions(precision=2)\n"
      ],
      "execution_count": 4,
      "outputs": []
    },
    {
      "cell_type": "code",
      "metadata": {
        "colab": {
          "base_uri": "https://localhost:8080/"
        },
        "id": "Q0FetlLPj2UQ",
        "outputId": "16d62f34-d210-4544-d442-97da9fb56c33"
      },
      "source": [
        "# Use code from our SimTools library.\n",
        "def make_generators(seq_len):\n",
        "    pcgen = Collection_Generator()  \n",
        "    pcgen.get_len_oracle().set_mean(seq_len)\n",
        "    pcgen.set_seq_oracle(Transcript_Oracle())\n",
        "    ncgen = Collection_Generator()  \n",
        "    ncgen.get_len_oracle().set_mean(seq_len)\n",
        "    return pcgen,ncgen\n",
        "def get_the_facts(seqs):\n",
        "    rd = RNA_describer()\n",
        "    facts = rd.get_three_lengths(seqs)\n",
        "    facts_ary = np.asarray(facts) # 5000 rows, 3 columns \n",
        "    print(\"Facts array:\",type(facts_ary))\n",
        "    print(\"Facts array:\",facts_ary.shape)\n",
        "    # Get the mean of each column\n",
        "    mean_5utr, mean_orf, mean_3utr = np.mean(facts_ary,axis=0)\n",
        "    std_5utr, std_orf, std_3utr = np.std(facts_ary,axis=0)\n",
        "    print(\"mean 5' UTR length:\",int(mean_5utr),\"+/-\",int(std_5utr))\n",
        "    print(\"mean    ORF length:\",int(mean_orf), \"+/-\",int(std_orf))\n",
        "    print(\"mean 3' UTR length:\",int(mean_3utr),\"+/-\",int(std_3utr))\n",
        "\n",
        "pc_sim,nc_sim = make_generators(BASES)\n",
        "pc_train = pc_sim.get_sequences(PC_SEQUENCES)\n",
        "nc_train = nc_sim.get_sequences(NC_SEQUENCES)\n",
        "print(\"Train on\",len(pc_train),\"PC seqs\")\n",
        "get_the_facts(pc_train)\n",
        "print(\"Train on\",len(nc_train),\"NC seqs\")\n",
        "get_the_facts(nc_train)"
      ],
      "execution_count": 5,
      "outputs": [
        {
          "output_type": "stream",
          "text": [
            "Train on 20000 PC seqs\n",
            "Facts array: <class 'numpy.ndarray'>\n",
            "Facts array: (20000, 3)\n",
            "mean 5' UTR length: 23 +/- 7\n",
            "mean    ORF length: 51 +/- 10\n",
            "mean 3' UTR length: 25 +/- 5\n",
            "Train on 20000 NC seqs\n",
            "Facts array: <class 'numpy.ndarray'>\n",
            "Facts array: (20000, 3)\n",
            "mean 5' UTR length: 40 +/- 18\n",
            "mean    ORF length: 17 +/- 22\n",
            "mean 3' UTR length: 42 +/- 18\n"
          ],
          "name": "stdout"
        }
      ]
    },
    {
      "cell_type": "code",
      "metadata": {
        "colab": {
          "base_uri": "https://localhost:8080/"
        },
        "id": "CIpTrnH6j2US",
        "outputId": "cea4ec55-d59f-481c-9dae-3de2770e687f"
      },
      "source": [
        "# Use code from our SimTools library.\n",
        "X,y = prepare_inputs_len_x_alphabet(pc_train,nc_train,ALPHABET) # shuffles\n",
        "print(\"Data ready.\")"
      ],
      "execution_count": 6,
      "outputs": [
        {
          "output_type": "stream",
          "text": [
            "Data ready.\n"
          ],
          "name": "stdout"
        }
      ]
    },
    {
      "cell_type": "code",
      "metadata": {
        "colab": {
          "base_uri": "https://localhost:8080/"
        },
        "id": "7NvrVU8ij2UU",
        "outputId": "d6461a43-6dda-4bec-e0de-13a9ad5c4a65"
      },
      "source": [
        "def make_DNN():\n",
        "    print(\"make_DNN\")\n",
        "    print(\"input shape:\",INPUT_SHAPE)\n",
        "    dnn = Sequential()\n",
        "    #dnn.add(Embedding(input_dim=ALPHABET, output_dim=ALPHABET))\n",
        "        #VOCABULARY_SIZE, EMBED_DIMEN, input_length=1000, input_length=1000, mask_zero=True)\n",
        "        #input_dim=[None,VOCABULARY_SIZE], output_dim=EMBED_DIMEN, mask_zero=True)\n",
        "    dnn.add(LSTM(NEURONS,return_sequences=True,input_shape=INPUT_SHAPE))\n",
        "    dnn.add(LSTM(NEURONS,return_sequences=False)) \n",
        "    dnn.add(Dense(NEURONS,activation=\"sigmoid\",dtype=np.float32))   \n",
        "    dnn.add(Dense(1,activation=\"sigmoid\",dtype=np.float32))   \n",
        "    dnn.compile(optimizer='adam',\n",
        "                loss=BinaryCrossentropy(from_logits=False),\n",
        "                metrics=['accuracy'])   # add to default metrics=loss\n",
        "    dnn.build() # input_shape=INPUT_SHAPE)\n",
        "    #ln_rate = tf.keras.optimizers.Adam(learning_rate = LN_RATE)\n",
        "    #bc=tf.keras.losses.BinaryCrossentropy(from_logits=False)\n",
        "    #model.compile(loss=bc, optimizer=ln_rate, metrics=[\"accuracy\"])\n",
        "    return dnn\n",
        "model = make_DNN()\n",
        "print(model.summary())"
      ],
      "execution_count": 7,
      "outputs": [
        {
          "output_type": "stream",
          "text": [
            "make_DNN\n",
            "input shape: (100, 4)\n",
            "Model: \"sequential\"\n",
            "_________________________________________________________________\n",
            "Layer (type)                 Output Shape              Param #   \n",
            "=================================================================\n",
            "lstm (LSTM)                  (None, 100, 32)           4736      \n",
            "_________________________________________________________________\n",
            "lstm_1 (LSTM)                (None, 32)                8320      \n",
            "_________________________________________________________________\n",
            "dense (Dense)                (None, 32)                1056      \n",
            "_________________________________________________________________\n",
            "dense_1 (Dense)              (None, 1)                 33        \n",
            "=================================================================\n",
            "Total params: 14,145\n",
            "Trainable params: 14,145\n",
            "Non-trainable params: 0\n",
            "_________________________________________________________________\n",
            "None\n"
          ],
          "name": "stdout"
        }
      ]
    },
    {
      "cell_type": "code",
      "metadata": {
        "id": "nlVF0hR3j2UW"
      },
      "source": [
        "from keras.callbacks import ModelCheckpoint\n",
        "def do_cross_validation(X,y):\n",
        "    cv_scores = []\n",
        "    fold=0\n",
        "    mycallbacks = [ModelCheckpoint(\n",
        "        filepath=MODELPATH, save_best_only=True, \n",
        "        monitor='val_accuracy', mode='max')]   \n",
        "    splitter = KFold(n_splits=SPLITS)  # this does not shuffle\n",
        "    for train_index,valid_index in splitter.split(X):\n",
        "        if fold < FOLDS:\n",
        "            fold += 1\n",
        "            X_train=X[train_index] # inputs for training\n",
        "            y_train=y[train_index] # labels for training\n",
        "            X_valid=X[valid_index] # inputs for validation\n",
        "            y_valid=y[valid_index] # labels for validation\n",
        "            print(\"MODEL\")\n",
        "            # Call constructor on each CV. Else, continually improves the same model.\n",
        "            model = model = make_DNN()\n",
        "            print(\"FIT\")  # model.fit() implements learning\n",
        "            start_time=time.time()\n",
        "            history=model.fit(X_train, y_train, \n",
        "                    epochs=EPOCHS, \n",
        "                    verbose=1,  # ascii art while learning\n",
        "                    callbacks=mycallbacks,   # called at end of each epoch\n",
        "                    validation_data=(X_valid,y_valid))\n",
        "            end_time=time.time()\n",
        "            elapsed_time=(end_time-start_time)                        \n",
        "            print(\"Fold %d, %d epochs, %d sec\"%(fold,EPOCHS,elapsed_time))\n",
        "            # print(history.history.keys())  # all these keys will be shown in figure\n",
        "            pd.DataFrame(history.history).plot(figsize=(8,5))\n",
        "            plt.grid(True)\n",
        "            plt.gca().set_ylim(0,1) # any losses > 1 will be off the scale\n",
        "            plt.show()\n"
      ],
      "execution_count": 8,
      "outputs": []
    },
    {
      "cell_type": "code",
      "metadata": {
        "colab": {
          "base_uri": "https://localhost:8080/",
          "height": 1000
        },
        "id": "9Ggt4EsSj2UY",
        "outputId": "aa15e151-2519-4b5f-f5b0-d5d31ea49840"
      },
      "source": [
        "do_cross_validation(X,y)"
      ],
      "execution_count": 9,
      "outputs": [
        {
          "output_type": "stream",
          "text": [
            "MODEL\n",
            "make_DNN\n",
            "input shape: (100, 4)\n",
            "FIT\n",
            "Epoch 1/50\n",
            "1000/1000 [==============================] - 26s 9ms/step - loss: 0.6841 - accuracy: 0.5423 - val_loss: 0.6620 - val_accuracy: 0.6053\n"
          ],
          "name": "stdout"
        },
        {
          "output_type": "stream",
          "text": [
            "WARNING:absl:Found untraced functions such as lstm_cell_2_layer_call_fn, lstm_cell_2_layer_call_and_return_conditional_losses, lstm_cell_3_layer_call_fn, lstm_cell_3_layer_call_and_return_conditional_losses, lstm_cell_2_layer_call_fn while saving (showing 5 of 10). These functions will not be directly callable after loading.\n",
            "WARNING:absl:Found untraced functions such as lstm_cell_2_layer_call_fn, lstm_cell_2_layer_call_and_return_conditional_losses, lstm_cell_3_layer_call_fn, lstm_cell_3_layer_call_and_return_conditional_losses, lstm_cell_2_layer_call_fn while saving (showing 5 of 10). These functions will not be directly callable after loading.\n"
          ],
          "name": "stderr"
        },
        {
          "output_type": "stream",
          "text": [
            "INFO:tensorflow:Assets written to: BestModel/assets\n"
          ],
          "name": "stdout"
        },
        {
          "output_type": "stream",
          "text": [
            "INFO:tensorflow:Assets written to: BestModel/assets\n"
          ],
          "name": "stderr"
        },
        {
          "output_type": "stream",
          "text": [
            "Epoch 2/50\n",
            "1000/1000 [==============================] - 8s 8ms/step - loss: 0.6535 - accuracy: 0.6205 - val_loss: 0.6269 - val_accuracy: 0.6515\n"
          ],
          "name": "stdout"
        },
        {
          "output_type": "stream",
          "text": [
            "WARNING:absl:Found untraced functions such as lstm_cell_2_layer_call_fn, lstm_cell_2_layer_call_and_return_conditional_losses, lstm_cell_3_layer_call_fn, lstm_cell_3_layer_call_and_return_conditional_losses, lstm_cell_2_layer_call_fn while saving (showing 5 of 10). These functions will not be directly callable after loading.\n",
            "WARNING:absl:Found untraced functions such as lstm_cell_2_layer_call_fn, lstm_cell_2_layer_call_and_return_conditional_losses, lstm_cell_3_layer_call_fn, lstm_cell_3_layer_call_and_return_conditional_losses, lstm_cell_2_layer_call_fn while saving (showing 5 of 10). These functions will not be directly callable after loading.\n"
          ],
          "name": "stderr"
        },
        {
          "output_type": "stream",
          "text": [
            "INFO:tensorflow:Assets written to: BestModel/assets\n"
          ],
          "name": "stdout"
        },
        {
          "output_type": "stream",
          "text": [
            "INFO:tensorflow:Assets written to: BestModel/assets\n"
          ],
          "name": "stderr"
        },
        {
          "output_type": "stream",
          "text": [
            "Epoch 3/50\n",
            "1000/1000 [==============================] - 8s 8ms/step - loss: 0.6175 - accuracy: 0.6564 - val_loss: 0.6061 - val_accuracy: 0.6600\n"
          ],
          "name": "stdout"
        },
        {
          "output_type": "stream",
          "text": [
            "WARNING:absl:Found untraced functions such as lstm_cell_2_layer_call_fn, lstm_cell_2_layer_call_and_return_conditional_losses, lstm_cell_3_layer_call_fn, lstm_cell_3_layer_call_and_return_conditional_losses, lstm_cell_2_layer_call_fn while saving (showing 5 of 10). These functions will not be directly callable after loading.\n",
            "WARNING:absl:Found untraced functions such as lstm_cell_2_layer_call_fn, lstm_cell_2_layer_call_and_return_conditional_losses, lstm_cell_3_layer_call_fn, lstm_cell_3_layer_call_and_return_conditional_losses, lstm_cell_2_layer_call_fn while saving (showing 5 of 10). These functions will not be directly callable after loading.\n"
          ],
          "name": "stderr"
        },
        {
          "output_type": "stream",
          "text": [
            "INFO:tensorflow:Assets written to: BestModel/assets\n"
          ],
          "name": "stdout"
        },
        {
          "output_type": "stream",
          "text": [
            "INFO:tensorflow:Assets written to: BestModel/assets\n"
          ],
          "name": "stderr"
        },
        {
          "output_type": "stream",
          "text": [
            "Epoch 4/50\n",
            "1000/1000 [==============================] - 8s 8ms/step - loss: 0.5993 - accuracy: 0.6709 - val_loss: 0.5754 - val_accuracy: 0.6892\n"
          ],
          "name": "stdout"
        },
        {
          "output_type": "stream",
          "text": [
            "WARNING:absl:Found untraced functions such as lstm_cell_2_layer_call_fn, lstm_cell_2_layer_call_and_return_conditional_losses, lstm_cell_3_layer_call_fn, lstm_cell_3_layer_call_and_return_conditional_losses, lstm_cell_2_layer_call_fn while saving (showing 5 of 10). These functions will not be directly callable after loading.\n",
            "WARNING:absl:Found untraced functions such as lstm_cell_2_layer_call_fn, lstm_cell_2_layer_call_and_return_conditional_losses, lstm_cell_3_layer_call_fn, lstm_cell_3_layer_call_and_return_conditional_losses, lstm_cell_2_layer_call_fn while saving (showing 5 of 10). These functions will not be directly callable after loading.\n"
          ],
          "name": "stderr"
        },
        {
          "output_type": "stream",
          "text": [
            "INFO:tensorflow:Assets written to: BestModel/assets\n"
          ],
          "name": "stdout"
        },
        {
          "output_type": "stream",
          "text": [
            "INFO:tensorflow:Assets written to: BestModel/assets\n"
          ],
          "name": "stderr"
        },
        {
          "output_type": "stream",
          "text": [
            "Epoch 5/50\n",
            "1000/1000 [==============================] - 8s 8ms/step - loss: 0.5700 - accuracy: 0.6918 - val_loss: 0.5589 - val_accuracy: 0.7028\n"
          ],
          "name": "stdout"
        },
        {
          "output_type": "stream",
          "text": [
            "WARNING:absl:Found untraced functions such as lstm_cell_2_layer_call_fn, lstm_cell_2_layer_call_and_return_conditional_losses, lstm_cell_3_layer_call_fn, lstm_cell_3_layer_call_and_return_conditional_losses, lstm_cell_2_layer_call_fn while saving (showing 5 of 10). These functions will not be directly callable after loading.\n",
            "WARNING:absl:Found untraced functions such as lstm_cell_2_layer_call_fn, lstm_cell_2_layer_call_and_return_conditional_losses, lstm_cell_3_layer_call_fn, lstm_cell_3_layer_call_and_return_conditional_losses, lstm_cell_2_layer_call_fn while saving (showing 5 of 10). These functions will not be directly callable after loading.\n"
          ],
          "name": "stderr"
        },
        {
          "output_type": "stream",
          "text": [
            "INFO:tensorflow:Assets written to: BestModel/assets\n"
          ],
          "name": "stdout"
        },
        {
          "output_type": "stream",
          "text": [
            "INFO:tensorflow:Assets written to: BestModel/assets\n"
          ],
          "name": "stderr"
        },
        {
          "output_type": "stream",
          "text": [
            "Epoch 6/50\n",
            "1000/1000 [==============================] - 8s 8ms/step - loss: 0.5521 - accuracy: 0.7080 - val_loss: 0.5406 - val_accuracy: 0.7096\n"
          ],
          "name": "stdout"
        },
        {
          "output_type": "stream",
          "text": [
            "WARNING:absl:Found untraced functions such as lstm_cell_2_layer_call_fn, lstm_cell_2_layer_call_and_return_conditional_losses, lstm_cell_3_layer_call_fn, lstm_cell_3_layer_call_and_return_conditional_losses, lstm_cell_2_layer_call_fn while saving (showing 5 of 10). These functions will not be directly callable after loading.\n",
            "WARNING:absl:Found untraced functions such as lstm_cell_2_layer_call_fn, lstm_cell_2_layer_call_and_return_conditional_losses, lstm_cell_3_layer_call_fn, lstm_cell_3_layer_call_and_return_conditional_losses, lstm_cell_2_layer_call_fn while saving (showing 5 of 10). These functions will not be directly callable after loading.\n"
          ],
          "name": "stderr"
        },
        {
          "output_type": "stream",
          "text": [
            "INFO:tensorflow:Assets written to: BestModel/assets\n"
          ],
          "name": "stdout"
        },
        {
          "output_type": "stream",
          "text": [
            "INFO:tensorflow:Assets written to: BestModel/assets\n"
          ],
          "name": "stderr"
        },
        {
          "output_type": "stream",
          "text": [
            "Epoch 7/50\n",
            "1000/1000 [==============================] - 8s 8ms/step - loss: 0.5358 - accuracy: 0.7191 - val_loss: 0.5388 - val_accuracy: 0.7099\n"
          ],
          "name": "stdout"
        },
        {
          "output_type": "stream",
          "text": [
            "WARNING:absl:Found untraced functions such as lstm_cell_2_layer_call_fn, lstm_cell_2_layer_call_and_return_conditional_losses, lstm_cell_3_layer_call_fn, lstm_cell_3_layer_call_and_return_conditional_losses, lstm_cell_2_layer_call_fn while saving (showing 5 of 10). These functions will not be directly callable after loading.\n",
            "WARNING:absl:Found untraced functions such as lstm_cell_2_layer_call_fn, lstm_cell_2_layer_call_and_return_conditional_losses, lstm_cell_3_layer_call_fn, lstm_cell_3_layer_call_and_return_conditional_losses, lstm_cell_2_layer_call_fn while saving (showing 5 of 10). These functions will not be directly callable after loading.\n"
          ],
          "name": "stderr"
        },
        {
          "output_type": "stream",
          "text": [
            "INFO:tensorflow:Assets written to: BestModel/assets\n"
          ],
          "name": "stdout"
        },
        {
          "output_type": "stream",
          "text": [
            "INFO:tensorflow:Assets written to: BestModel/assets\n"
          ],
          "name": "stderr"
        },
        {
          "output_type": "stream",
          "text": [
            "Epoch 8/50\n",
            "1000/1000 [==============================] - 8s 8ms/step - loss: 0.5314 - accuracy: 0.7152 - val_loss: 0.5287 - val_accuracy: 0.7180\n"
          ],
          "name": "stdout"
        },
        {
          "output_type": "stream",
          "text": [
            "WARNING:absl:Found untraced functions such as lstm_cell_2_layer_call_fn, lstm_cell_2_layer_call_and_return_conditional_losses, lstm_cell_3_layer_call_fn, lstm_cell_3_layer_call_and_return_conditional_losses, lstm_cell_2_layer_call_fn while saving (showing 5 of 10). These functions will not be directly callable after loading.\n",
            "WARNING:absl:Found untraced functions such as lstm_cell_2_layer_call_fn, lstm_cell_2_layer_call_and_return_conditional_losses, lstm_cell_3_layer_call_fn, lstm_cell_3_layer_call_and_return_conditional_losses, lstm_cell_2_layer_call_fn while saving (showing 5 of 10). These functions will not be directly callable after loading.\n"
          ],
          "name": "stderr"
        },
        {
          "output_type": "stream",
          "text": [
            "INFO:tensorflow:Assets written to: BestModel/assets\n"
          ],
          "name": "stdout"
        },
        {
          "output_type": "stream",
          "text": [
            "INFO:tensorflow:Assets written to: BestModel/assets\n"
          ],
          "name": "stderr"
        },
        {
          "output_type": "stream",
          "text": [
            "Epoch 9/50\n",
            "1000/1000 [==============================] - 8s 8ms/step - loss: 0.5209 - accuracy: 0.7322 - val_loss: 0.5225 - val_accuracy: 0.7284\n"
          ],
          "name": "stdout"
        },
        {
          "output_type": "stream",
          "text": [
            "WARNING:absl:Found untraced functions such as lstm_cell_2_layer_call_fn, lstm_cell_2_layer_call_and_return_conditional_losses, lstm_cell_3_layer_call_fn, lstm_cell_3_layer_call_and_return_conditional_losses, lstm_cell_2_layer_call_fn while saving (showing 5 of 10). These functions will not be directly callable after loading.\n",
            "WARNING:absl:Found untraced functions such as lstm_cell_2_layer_call_fn, lstm_cell_2_layer_call_and_return_conditional_losses, lstm_cell_3_layer_call_fn, lstm_cell_3_layer_call_and_return_conditional_losses, lstm_cell_2_layer_call_fn while saving (showing 5 of 10). These functions will not be directly callable after loading.\n"
          ],
          "name": "stderr"
        },
        {
          "output_type": "stream",
          "text": [
            "INFO:tensorflow:Assets written to: BestModel/assets\n"
          ],
          "name": "stdout"
        },
        {
          "output_type": "stream",
          "text": [
            "INFO:tensorflow:Assets written to: BestModel/assets\n"
          ],
          "name": "stderr"
        },
        {
          "output_type": "stream",
          "text": [
            "Epoch 10/50\n",
            "1000/1000 [==============================] - 8s 8ms/step - loss: 0.5104 - accuracy: 0.7396 - val_loss: 0.5030 - val_accuracy: 0.7495\n"
          ],
          "name": "stdout"
        },
        {
          "output_type": "stream",
          "text": [
            "WARNING:absl:Found untraced functions such as lstm_cell_2_layer_call_fn, lstm_cell_2_layer_call_and_return_conditional_losses, lstm_cell_3_layer_call_fn, lstm_cell_3_layer_call_and_return_conditional_losses, lstm_cell_2_layer_call_fn while saving (showing 5 of 10). These functions will not be directly callable after loading.\n",
            "WARNING:absl:Found untraced functions such as lstm_cell_2_layer_call_fn, lstm_cell_2_layer_call_and_return_conditional_losses, lstm_cell_3_layer_call_fn, lstm_cell_3_layer_call_and_return_conditional_losses, lstm_cell_2_layer_call_fn while saving (showing 5 of 10). These functions will not be directly callable after loading.\n"
          ],
          "name": "stderr"
        },
        {
          "output_type": "stream",
          "text": [
            "INFO:tensorflow:Assets written to: BestModel/assets\n"
          ],
          "name": "stdout"
        },
        {
          "output_type": "stream",
          "text": [
            "INFO:tensorflow:Assets written to: BestModel/assets\n"
          ],
          "name": "stderr"
        },
        {
          "output_type": "stream",
          "text": [
            "Epoch 11/50\n",
            "1000/1000 [==============================] - 8s 8ms/step - loss: 0.4899 - accuracy: 0.7592 - val_loss: 0.4190 - val_accuracy: 0.8158\n"
          ],
          "name": "stdout"
        },
        {
          "output_type": "stream",
          "text": [
            "WARNING:absl:Found untraced functions such as lstm_cell_2_layer_call_fn, lstm_cell_2_layer_call_and_return_conditional_losses, lstm_cell_3_layer_call_fn, lstm_cell_3_layer_call_and_return_conditional_losses, lstm_cell_2_layer_call_fn while saving (showing 5 of 10). These functions will not be directly callable after loading.\n",
            "WARNING:absl:Found untraced functions such as lstm_cell_2_layer_call_fn, lstm_cell_2_layer_call_and_return_conditional_losses, lstm_cell_3_layer_call_fn, lstm_cell_3_layer_call_and_return_conditional_losses, lstm_cell_2_layer_call_fn while saving (showing 5 of 10). These functions will not be directly callable after loading.\n"
          ],
          "name": "stderr"
        },
        {
          "output_type": "stream",
          "text": [
            "INFO:tensorflow:Assets written to: BestModel/assets\n"
          ],
          "name": "stdout"
        },
        {
          "output_type": "stream",
          "text": [
            "INFO:tensorflow:Assets written to: BestModel/assets\n"
          ],
          "name": "stderr"
        },
        {
          "output_type": "stream",
          "text": [
            "Epoch 12/50\n",
            "1000/1000 [==============================] - 8s 8ms/step - loss: 0.3851 - accuracy: 0.8349 - val_loss: 0.2898 - val_accuracy: 0.8898\n"
          ],
          "name": "stdout"
        },
        {
          "output_type": "stream",
          "text": [
            "WARNING:absl:Found untraced functions such as lstm_cell_2_layer_call_fn, lstm_cell_2_layer_call_and_return_conditional_losses, lstm_cell_3_layer_call_fn, lstm_cell_3_layer_call_and_return_conditional_losses, lstm_cell_2_layer_call_fn while saving (showing 5 of 10). These functions will not be directly callable after loading.\n",
            "WARNING:absl:Found untraced functions such as lstm_cell_2_layer_call_fn, lstm_cell_2_layer_call_and_return_conditional_losses, lstm_cell_3_layer_call_fn, lstm_cell_3_layer_call_and_return_conditional_losses, lstm_cell_2_layer_call_fn while saving (showing 5 of 10). These functions will not be directly callable after loading.\n"
          ],
          "name": "stderr"
        },
        {
          "output_type": "stream",
          "text": [
            "INFO:tensorflow:Assets written to: BestModel/assets\n"
          ],
          "name": "stdout"
        },
        {
          "output_type": "stream",
          "text": [
            "INFO:tensorflow:Assets written to: BestModel/assets\n"
          ],
          "name": "stderr"
        },
        {
          "output_type": "stream",
          "text": [
            "Epoch 13/50\n",
            "1000/1000 [==============================] - 8s 8ms/step - loss: 0.2821 - accuracy: 0.8915 - val_loss: 0.2823 - val_accuracy: 0.8866\n",
            "Epoch 14/50\n",
            "1000/1000 [==============================] - 8s 8ms/step - loss: 0.3770 - accuracy: 0.8008 - val_loss: 0.6938 - val_accuracy: 0.4933\n",
            "Epoch 15/50\n",
            "1000/1000 [==============================] - 8s 8ms/step - loss: 0.6928 - accuracy: 0.5106 - val_loss: 0.5720 - val_accuracy: 0.6875\n",
            "Epoch 16/50\n",
            "1000/1000 [==============================] - 8s 8ms/step - loss: 0.5406 - accuracy: 0.7131 - val_loss: 0.5301 - val_accuracy: 0.7169\n",
            "Epoch 17/50\n",
            "1000/1000 [==============================] - 8s 8ms/step - loss: 0.5027 - accuracy: 0.7391 - val_loss: 0.4312 - val_accuracy: 0.8096\n",
            "Epoch 18/50\n",
            "1000/1000 [==============================] - 8s 8ms/step - loss: 0.3529 - accuracy: 0.8443 - val_loss: 0.2802 - val_accuracy: 0.8881\n",
            "Epoch 19/50\n",
            "1000/1000 [==============================] - 8s 8ms/step - loss: 0.3053 - accuracy: 0.8804 - val_loss: 0.2686 - val_accuracy: 0.8959\n"
          ],
          "name": "stdout"
        },
        {
          "output_type": "stream",
          "text": [
            "WARNING:absl:Found untraced functions such as lstm_cell_2_layer_call_fn, lstm_cell_2_layer_call_and_return_conditional_losses, lstm_cell_3_layer_call_fn, lstm_cell_3_layer_call_and_return_conditional_losses, lstm_cell_2_layer_call_fn while saving (showing 5 of 10). These functions will not be directly callable after loading.\n",
            "WARNING:absl:Found untraced functions such as lstm_cell_2_layer_call_fn, lstm_cell_2_layer_call_and_return_conditional_losses, lstm_cell_3_layer_call_fn, lstm_cell_3_layer_call_and_return_conditional_losses, lstm_cell_2_layer_call_fn while saving (showing 5 of 10). These functions will not be directly callable after loading.\n"
          ],
          "name": "stderr"
        },
        {
          "output_type": "stream",
          "text": [
            "INFO:tensorflow:Assets written to: BestModel/assets\n"
          ],
          "name": "stdout"
        },
        {
          "output_type": "stream",
          "text": [
            "INFO:tensorflow:Assets written to: BestModel/assets\n"
          ],
          "name": "stderr"
        },
        {
          "output_type": "stream",
          "text": [
            "Epoch 20/50\n",
            "1000/1000 [==============================] - 8s 8ms/step - loss: 0.2808 - accuracy: 0.8960 - val_loss: 0.2618 - val_accuracy: 0.9010\n"
          ],
          "name": "stdout"
        },
        {
          "output_type": "stream",
          "text": [
            "WARNING:absl:Found untraced functions such as lstm_cell_2_layer_call_fn, lstm_cell_2_layer_call_and_return_conditional_losses, lstm_cell_3_layer_call_fn, lstm_cell_3_layer_call_and_return_conditional_losses, lstm_cell_2_layer_call_fn while saving (showing 5 of 10). These functions will not be directly callable after loading.\n",
            "WARNING:absl:Found untraced functions such as lstm_cell_2_layer_call_fn, lstm_cell_2_layer_call_and_return_conditional_losses, lstm_cell_3_layer_call_fn, lstm_cell_3_layer_call_and_return_conditional_losses, lstm_cell_2_layer_call_fn while saving (showing 5 of 10). These functions will not be directly callable after loading.\n"
          ],
          "name": "stderr"
        },
        {
          "output_type": "stream",
          "text": [
            "INFO:tensorflow:Assets written to: BestModel/assets\n"
          ],
          "name": "stdout"
        },
        {
          "output_type": "stream",
          "text": [
            "INFO:tensorflow:Assets written to: BestModel/assets\n"
          ],
          "name": "stderr"
        },
        {
          "output_type": "stream",
          "text": [
            "Epoch 21/50\n",
            "1000/1000 [==============================] - 8s 8ms/step - loss: 0.2419 - accuracy: 0.9088 - val_loss: 0.2912 - val_accuracy: 0.8841\n",
            "Epoch 22/50\n",
            "1000/1000 [==============================] - 8s 8ms/step - loss: 0.2598 - accuracy: 0.9044 - val_loss: 0.2453 - val_accuracy: 0.9105\n"
          ],
          "name": "stdout"
        },
        {
          "output_type": "stream",
          "text": [
            "WARNING:absl:Found untraced functions such as lstm_cell_2_layer_call_fn, lstm_cell_2_layer_call_and_return_conditional_losses, lstm_cell_3_layer_call_fn, lstm_cell_3_layer_call_and_return_conditional_losses, lstm_cell_2_layer_call_fn while saving (showing 5 of 10). These functions will not be directly callable after loading.\n",
            "WARNING:absl:Found untraced functions such as lstm_cell_2_layer_call_fn, lstm_cell_2_layer_call_and_return_conditional_losses, lstm_cell_3_layer_call_fn, lstm_cell_3_layer_call_and_return_conditional_losses, lstm_cell_2_layer_call_fn while saving (showing 5 of 10). These functions will not be directly callable after loading.\n"
          ],
          "name": "stderr"
        },
        {
          "output_type": "stream",
          "text": [
            "INFO:tensorflow:Assets written to: BestModel/assets\n"
          ],
          "name": "stdout"
        },
        {
          "output_type": "stream",
          "text": [
            "INFO:tensorflow:Assets written to: BestModel/assets\n"
          ],
          "name": "stderr"
        },
        {
          "output_type": "stream",
          "text": [
            "Epoch 23/50\n",
            "1000/1000 [==============================] - 8s 8ms/step - loss: 0.2445 - accuracy: 0.9091 - val_loss: 0.2455 - val_accuracy: 0.9109\n"
          ],
          "name": "stdout"
        },
        {
          "output_type": "stream",
          "text": [
            "WARNING:absl:Found untraced functions such as lstm_cell_2_layer_call_fn, lstm_cell_2_layer_call_and_return_conditional_losses, lstm_cell_3_layer_call_fn, lstm_cell_3_layer_call_and_return_conditional_losses, lstm_cell_2_layer_call_fn while saving (showing 5 of 10). These functions will not be directly callable after loading.\n",
            "WARNING:absl:Found untraced functions such as lstm_cell_2_layer_call_fn, lstm_cell_2_layer_call_and_return_conditional_losses, lstm_cell_3_layer_call_fn, lstm_cell_3_layer_call_and_return_conditional_losses, lstm_cell_2_layer_call_fn while saving (showing 5 of 10). These functions will not be directly callable after loading.\n"
          ],
          "name": "stderr"
        },
        {
          "output_type": "stream",
          "text": [
            "INFO:tensorflow:Assets written to: BestModel/assets\n"
          ],
          "name": "stdout"
        },
        {
          "output_type": "stream",
          "text": [
            "INFO:tensorflow:Assets written to: BestModel/assets\n"
          ],
          "name": "stderr"
        },
        {
          "output_type": "stream",
          "text": [
            "Epoch 24/50\n",
            "1000/1000 [==============================] - 8s 8ms/step - loss: 0.2357 - accuracy: 0.9105 - val_loss: 0.2491 - val_accuracy: 0.9084\n",
            "Epoch 25/50\n",
            "1000/1000 [==============================] - 8s 8ms/step - loss: 0.2399 - accuracy: 0.9097 - val_loss: 0.2432 - val_accuracy: 0.9095\n",
            "Epoch 26/50\n",
            "1000/1000 [==============================] - 8s 8ms/step - loss: 0.2574 - accuracy: 0.9023 - val_loss: 0.2367 - val_accuracy: 0.9144\n"
          ],
          "name": "stdout"
        },
        {
          "output_type": "stream",
          "text": [
            "WARNING:absl:Found untraced functions such as lstm_cell_2_layer_call_fn, lstm_cell_2_layer_call_and_return_conditional_losses, lstm_cell_3_layer_call_fn, lstm_cell_3_layer_call_and_return_conditional_losses, lstm_cell_2_layer_call_fn while saving (showing 5 of 10). These functions will not be directly callable after loading.\n",
            "WARNING:absl:Found untraced functions such as lstm_cell_2_layer_call_fn, lstm_cell_2_layer_call_and_return_conditional_losses, lstm_cell_3_layer_call_fn, lstm_cell_3_layer_call_and_return_conditional_losses, lstm_cell_2_layer_call_fn while saving (showing 5 of 10). These functions will not be directly callable after loading.\n"
          ],
          "name": "stderr"
        },
        {
          "output_type": "stream",
          "text": [
            "INFO:tensorflow:Assets written to: BestModel/assets\n"
          ],
          "name": "stdout"
        },
        {
          "output_type": "stream",
          "text": [
            "INFO:tensorflow:Assets written to: BestModel/assets\n"
          ],
          "name": "stderr"
        },
        {
          "output_type": "stream",
          "text": [
            "Epoch 27/50\n",
            "1000/1000 [==============================] - 8s 8ms/step - loss: 0.2435 - accuracy: 0.9121 - val_loss: 0.2641 - val_accuracy: 0.9036\n",
            "Epoch 28/50\n",
            "1000/1000 [==============================] - 8s 8ms/step - loss: 0.2466 - accuracy: 0.9098 - val_loss: 0.2225 - val_accuracy: 0.9230\n"
          ],
          "name": "stdout"
        },
        {
          "output_type": "stream",
          "text": [
            "WARNING:absl:Found untraced functions such as lstm_cell_2_layer_call_fn, lstm_cell_2_layer_call_and_return_conditional_losses, lstm_cell_3_layer_call_fn, lstm_cell_3_layer_call_and_return_conditional_losses, lstm_cell_2_layer_call_fn while saving (showing 5 of 10). These functions will not be directly callable after loading.\n",
            "WARNING:absl:Found untraced functions such as lstm_cell_2_layer_call_fn, lstm_cell_2_layer_call_and_return_conditional_losses, lstm_cell_3_layer_call_fn, lstm_cell_3_layer_call_and_return_conditional_losses, lstm_cell_2_layer_call_fn while saving (showing 5 of 10). These functions will not be directly callable after loading.\n"
          ],
          "name": "stderr"
        },
        {
          "output_type": "stream",
          "text": [
            "INFO:tensorflow:Assets written to: BestModel/assets\n"
          ],
          "name": "stdout"
        },
        {
          "output_type": "stream",
          "text": [
            "INFO:tensorflow:Assets written to: BestModel/assets\n"
          ],
          "name": "stderr"
        },
        {
          "output_type": "stream",
          "text": [
            "Epoch 29/50\n",
            "1000/1000 [==============================] - 8s 8ms/step - loss: 0.2206 - accuracy: 0.9190 - val_loss: 0.2143 - val_accuracy: 0.9210\n",
            "Epoch 30/50\n",
            "1000/1000 [==============================] - 8s 8ms/step - loss: 0.2048 - accuracy: 0.9252 - val_loss: 0.2199 - val_accuracy: 0.9214\n",
            "Epoch 31/50\n",
            "1000/1000 [==============================] - 8s 8ms/step - loss: 0.2111 - accuracy: 0.9244 - val_loss: 0.2147 - val_accuracy: 0.9224\n",
            "Epoch 32/50\n",
            "1000/1000 [==============================] - 8s 8ms/step - loss: 0.2080 - accuracy: 0.9250 - val_loss: 0.2215 - val_accuracy: 0.9205\n",
            "Epoch 33/50\n",
            "1000/1000 [==============================] - 8s 8ms/step - loss: 0.2134 - accuracy: 0.9213 - val_loss: 0.2047 - val_accuracy: 0.9295\n"
          ],
          "name": "stdout"
        },
        {
          "output_type": "stream",
          "text": [
            "WARNING:absl:Found untraced functions such as lstm_cell_2_layer_call_fn, lstm_cell_2_layer_call_and_return_conditional_losses, lstm_cell_3_layer_call_fn, lstm_cell_3_layer_call_and_return_conditional_losses, lstm_cell_2_layer_call_fn while saving (showing 5 of 10). These functions will not be directly callable after loading.\n",
            "WARNING:absl:Found untraced functions such as lstm_cell_2_layer_call_fn, lstm_cell_2_layer_call_and_return_conditional_losses, lstm_cell_3_layer_call_fn, lstm_cell_3_layer_call_and_return_conditional_losses, lstm_cell_2_layer_call_fn while saving (showing 5 of 10). These functions will not be directly callable after loading.\n"
          ],
          "name": "stderr"
        },
        {
          "output_type": "stream",
          "text": [
            "INFO:tensorflow:Assets written to: BestModel/assets\n"
          ],
          "name": "stdout"
        },
        {
          "output_type": "stream",
          "text": [
            "INFO:tensorflow:Assets written to: BestModel/assets\n"
          ],
          "name": "stderr"
        },
        {
          "output_type": "stream",
          "text": [
            "Epoch 34/50\n",
            "1000/1000 [==============================] - 8s 8ms/step - loss: 0.1978 - accuracy: 0.9291 - val_loss: 0.2100 - val_accuracy: 0.9226\n",
            "Epoch 35/50\n",
            "1000/1000 [==============================] - 8s 8ms/step - loss: 0.1919 - accuracy: 0.9315 - val_loss: 0.2011 - val_accuracy: 0.9309\n"
          ],
          "name": "stdout"
        },
        {
          "output_type": "stream",
          "text": [
            "WARNING:absl:Found untraced functions such as lstm_cell_2_layer_call_fn, lstm_cell_2_layer_call_and_return_conditional_losses, lstm_cell_3_layer_call_fn, lstm_cell_3_layer_call_and_return_conditional_losses, lstm_cell_2_layer_call_fn while saving (showing 5 of 10). These functions will not be directly callable after loading.\n",
            "WARNING:absl:Found untraced functions such as lstm_cell_2_layer_call_fn, lstm_cell_2_layer_call_and_return_conditional_losses, lstm_cell_3_layer_call_fn, lstm_cell_3_layer_call_and_return_conditional_losses, lstm_cell_2_layer_call_fn while saving (showing 5 of 10). These functions will not be directly callable after loading.\n"
          ],
          "name": "stderr"
        },
        {
          "output_type": "stream",
          "text": [
            "INFO:tensorflow:Assets written to: BestModel/assets\n"
          ],
          "name": "stdout"
        },
        {
          "output_type": "stream",
          "text": [
            "INFO:tensorflow:Assets written to: BestModel/assets\n"
          ],
          "name": "stderr"
        },
        {
          "output_type": "stream",
          "text": [
            "Epoch 36/50\n",
            "1000/1000 [==============================] - 8s 8ms/step - loss: 0.1809 - accuracy: 0.9378 - val_loss: 0.2127 - val_accuracy: 0.9247\n",
            "Epoch 37/50\n",
            "1000/1000 [==============================] - 8s 8ms/step - loss: 0.1826 - accuracy: 0.9367 - val_loss: 0.1988 - val_accuracy: 0.9302\n",
            "Epoch 38/50\n",
            "1000/1000 [==============================] - 8s 8ms/step - loss: 0.1822 - accuracy: 0.9356 - val_loss: 0.1965 - val_accuracy: 0.9317\n"
          ],
          "name": "stdout"
        },
        {
          "output_type": "stream",
          "text": [
            "WARNING:absl:Found untraced functions such as lstm_cell_2_layer_call_fn, lstm_cell_2_layer_call_and_return_conditional_losses, lstm_cell_3_layer_call_fn, lstm_cell_3_layer_call_and_return_conditional_losses, lstm_cell_2_layer_call_fn while saving (showing 5 of 10). These functions will not be directly callable after loading.\n",
            "WARNING:absl:Found untraced functions such as lstm_cell_2_layer_call_fn, lstm_cell_2_layer_call_and_return_conditional_losses, lstm_cell_3_layer_call_fn, lstm_cell_3_layer_call_and_return_conditional_losses, lstm_cell_2_layer_call_fn while saving (showing 5 of 10). These functions will not be directly callable after loading.\n"
          ],
          "name": "stderr"
        },
        {
          "output_type": "stream",
          "text": [
            "INFO:tensorflow:Assets written to: BestModel/assets\n"
          ],
          "name": "stdout"
        },
        {
          "output_type": "stream",
          "text": [
            "INFO:tensorflow:Assets written to: BestModel/assets\n"
          ],
          "name": "stderr"
        },
        {
          "output_type": "stream",
          "text": [
            "Epoch 39/50\n",
            "1000/1000 [==============================] - 8s 8ms/step - loss: 0.2098 - accuracy: 0.9266 - val_loss: 0.1824 - val_accuracy: 0.9388\n"
          ],
          "name": "stdout"
        },
        {
          "output_type": "stream",
          "text": [
            "WARNING:absl:Found untraced functions such as lstm_cell_2_layer_call_fn, lstm_cell_2_layer_call_and_return_conditional_losses, lstm_cell_3_layer_call_fn, lstm_cell_3_layer_call_and_return_conditional_losses, lstm_cell_2_layer_call_fn while saving (showing 5 of 10). These functions will not be directly callable after loading.\n",
            "WARNING:absl:Found untraced functions such as lstm_cell_2_layer_call_fn, lstm_cell_2_layer_call_and_return_conditional_losses, lstm_cell_3_layer_call_fn, lstm_cell_3_layer_call_and_return_conditional_losses, lstm_cell_2_layer_call_fn while saving (showing 5 of 10). These functions will not be directly callable after loading.\n"
          ],
          "name": "stderr"
        },
        {
          "output_type": "stream",
          "text": [
            "INFO:tensorflow:Assets written to: BestModel/assets\n"
          ],
          "name": "stdout"
        },
        {
          "output_type": "stream",
          "text": [
            "INFO:tensorflow:Assets written to: BestModel/assets\n"
          ],
          "name": "stderr"
        },
        {
          "output_type": "stream",
          "text": [
            "Epoch 40/50\n",
            "1000/1000 [==============================] - 8s 8ms/step - loss: 0.1733 - accuracy: 0.9408 - val_loss: 0.2115 - val_accuracy: 0.9216\n",
            "Epoch 41/50\n",
            "1000/1000 [==============================] - 8s 8ms/step - loss: 0.1805 - accuracy: 0.9377 - val_loss: 0.1945 - val_accuracy: 0.9331\n",
            "Epoch 42/50\n",
            "1000/1000 [==============================] - 8s 8ms/step - loss: 0.1723 - accuracy: 0.9414 - val_loss: 0.1752 - val_accuracy: 0.9431\n"
          ],
          "name": "stdout"
        },
        {
          "output_type": "stream",
          "text": [
            "WARNING:absl:Found untraced functions such as lstm_cell_2_layer_call_fn, lstm_cell_2_layer_call_and_return_conditional_losses, lstm_cell_3_layer_call_fn, lstm_cell_3_layer_call_and_return_conditional_losses, lstm_cell_2_layer_call_fn while saving (showing 5 of 10). These functions will not be directly callable after loading.\n",
            "WARNING:absl:Found untraced functions such as lstm_cell_2_layer_call_fn, lstm_cell_2_layer_call_and_return_conditional_losses, lstm_cell_3_layer_call_fn, lstm_cell_3_layer_call_and_return_conditional_losses, lstm_cell_2_layer_call_fn while saving (showing 5 of 10). These functions will not be directly callable after loading.\n"
          ],
          "name": "stderr"
        },
        {
          "output_type": "stream",
          "text": [
            "INFO:tensorflow:Assets written to: BestModel/assets\n"
          ],
          "name": "stdout"
        },
        {
          "output_type": "stream",
          "text": [
            "INFO:tensorflow:Assets written to: BestModel/assets\n"
          ],
          "name": "stderr"
        },
        {
          "output_type": "stream",
          "text": [
            "Epoch 43/50\n",
            "1000/1000 [==============================] - 8s 8ms/step - loss: 0.1612 - accuracy: 0.9457 - val_loss: 0.1928 - val_accuracy: 0.9319\n",
            "Epoch 44/50\n",
            "1000/1000 [==============================] - 8s 8ms/step - loss: 0.1605 - accuracy: 0.9447 - val_loss: 0.3015 - val_accuracy: 0.8957\n",
            "Epoch 45/50\n",
            "1000/1000 [==============================] - 8s 8ms/step - loss: 0.2116 - accuracy: 0.9251 - val_loss: 0.1626 - val_accuracy: 0.9473\n"
          ],
          "name": "stdout"
        },
        {
          "output_type": "stream",
          "text": [
            "WARNING:absl:Found untraced functions such as lstm_cell_2_layer_call_fn, lstm_cell_2_layer_call_and_return_conditional_losses, lstm_cell_3_layer_call_fn, lstm_cell_3_layer_call_and_return_conditional_losses, lstm_cell_2_layer_call_fn while saving (showing 5 of 10). These functions will not be directly callable after loading.\n",
            "WARNING:absl:Found untraced functions such as lstm_cell_2_layer_call_fn, lstm_cell_2_layer_call_and_return_conditional_losses, lstm_cell_3_layer_call_fn, lstm_cell_3_layer_call_and_return_conditional_losses, lstm_cell_2_layer_call_fn while saving (showing 5 of 10). These functions will not be directly callable after loading.\n"
          ],
          "name": "stderr"
        },
        {
          "output_type": "stream",
          "text": [
            "INFO:tensorflow:Assets written to: BestModel/assets\n"
          ],
          "name": "stdout"
        },
        {
          "output_type": "stream",
          "text": [
            "INFO:tensorflow:Assets written to: BestModel/assets\n"
          ],
          "name": "stderr"
        },
        {
          "output_type": "stream",
          "text": [
            "Epoch 46/50\n",
            "1000/1000 [==============================] - 8s 8ms/step - loss: 0.1563 - accuracy: 0.9480 - val_loss: 0.1783 - val_accuracy: 0.9441\n",
            "Epoch 47/50\n",
            "1000/1000 [==============================] - 8s 8ms/step - loss: 0.1597 - accuracy: 0.9486 - val_loss: 0.1541 - val_accuracy: 0.9517\n"
          ],
          "name": "stdout"
        },
        {
          "output_type": "stream",
          "text": [
            "WARNING:absl:Found untraced functions such as lstm_cell_2_layer_call_fn, lstm_cell_2_layer_call_and_return_conditional_losses, lstm_cell_3_layer_call_fn, lstm_cell_3_layer_call_and_return_conditional_losses, lstm_cell_2_layer_call_fn while saving (showing 5 of 10). These functions will not be directly callable after loading.\n",
            "WARNING:absl:Found untraced functions such as lstm_cell_2_layer_call_fn, lstm_cell_2_layer_call_and_return_conditional_losses, lstm_cell_3_layer_call_fn, lstm_cell_3_layer_call_and_return_conditional_losses, lstm_cell_2_layer_call_fn while saving (showing 5 of 10). These functions will not be directly callable after loading.\n"
          ],
          "name": "stderr"
        },
        {
          "output_type": "stream",
          "text": [
            "INFO:tensorflow:Assets written to: BestModel/assets\n"
          ],
          "name": "stdout"
        },
        {
          "output_type": "stream",
          "text": [
            "INFO:tensorflow:Assets written to: BestModel/assets\n"
          ],
          "name": "stderr"
        },
        {
          "output_type": "stream",
          "text": [
            "Epoch 48/50\n",
            "1000/1000 [==============================] - 9s 9ms/step - loss: 0.1563 - accuracy: 0.9486 - val_loss: 0.1612 - val_accuracy: 0.9473\n",
            "Epoch 49/50\n",
            "1000/1000 [==============================] - 8s 8ms/step - loss: 0.1480 - accuracy: 0.9529 - val_loss: 0.1903 - val_accuracy: 0.9342\n",
            "Epoch 50/50\n",
            "1000/1000 [==============================] - 8s 8ms/step - loss: 0.1765 - accuracy: 0.9405 - val_loss: 0.1940 - val_accuracy: 0.9329\n",
            "Fold 1, 50 epochs, 619 sec\n"
          ],
          "name": "stdout"
        },
        {
          "output_type": "display_data",
          "data": {
            "image/png": "[encoded data removed]",
            "text/plain": [
              "<Figure size 576x360 with 1 Axes>"
            ]
          },
          "metadata": {
            "tags": [],
            "needs_background": "light"
          }
        },
        {
          "output_type": "stream",
          "text": [
            "MODEL\n",
            "make_DNN\n",
            "input shape: (100, 4)\n",
            "FIT\n",
            "Epoch 1/50\n",
            "1000/1000 [==============================] - 11s 9ms/step - loss: 0.7019 - accuracy: 0.5033 - val_loss: 0.6931 - val_accuracy: 0.4990\n",
            "Epoch 2/50\n",
            "1000/1000 [==============================] - 8s 8ms/step - loss: 0.6935 - accuracy: 0.4984 - val_loss: 0.6946 - val_accuracy: 0.4995\n",
            "Epoch 3/50\n",
            "1000/1000 [==============================] - 8s 8ms/step - loss: 0.6938 - accuracy: 0.5004 - val_loss: 0.6958 - val_accuracy: 0.5005\n",
            "Epoch 4/50\n",
            "1000/1000 [==============================] - 9s 9ms/step - loss: 0.6940 - accuracy: 0.5036 - val_loss: 0.6936 - val_accuracy: 0.4995\n",
            "Epoch 5/50\n",
            "1000/1000 [==============================] - 9s 9ms/step - loss: 0.6936 - accuracy: 0.5002 - val_loss: 0.6932 - val_accuracy: 0.4951\n",
            "Epoch 6/50\n",
            "1000/1000 [==============================] - 8s 8ms/step - loss: 0.6937 - accuracy: 0.5016 - val_loss: 0.6938 - val_accuracy: 0.4995\n",
            "Epoch 7/50\n",
            "1000/1000 [==============================] - 8s 8ms/step - loss: 0.6937 - accuracy: 0.5045 - val_loss: 0.6931 - val_accuracy: 0.4995\n",
            "Epoch 8/50\n",
            "1000/1000 [==============================] - 9s 9ms/step - loss: 0.6936 - accuracy: 0.4955 - val_loss: 0.6932 - val_accuracy: 0.4995\n",
            "Epoch 9/50\n",
            "1000/1000 [==============================] - 8s 8ms/step - loss: 0.6932 - accuracy: 0.5045 - val_loss: 0.6893 - val_accuracy: 0.5474\n",
            "Epoch 10/50\n",
            "1000/1000 [==============================] - 9s 9ms/step - loss: 0.6810 - accuracy: 0.5690 - val_loss: 0.6667 - val_accuracy: 0.5930\n",
            "Epoch 11/50\n",
            "1000/1000 [==============================] - 8s 8ms/step - loss: 0.6636 - accuracy: 0.5992 - val_loss: 0.6463 - val_accuracy: 0.6254\n",
            "Epoch 12/50\n",
            "1000/1000 [==============================] - 8s 9ms/step - loss: 0.6398 - accuracy: 0.6343 - val_loss: 0.6246 - val_accuracy: 0.6490\n",
            "Epoch 13/50\n",
            "1000/1000 [==============================] - 8s 8ms/step - loss: 0.6051 - accuracy: 0.6699 - val_loss: 0.5527 - val_accuracy: 0.7189\n",
            "Epoch 14/50\n",
            "1000/1000 [==============================] - 8s 8ms/step - loss: 0.5533 - accuracy: 0.7169 - val_loss: 0.5042 - val_accuracy: 0.7651\n",
            "Epoch 15/50\n",
            "1000/1000 [==============================] - 8s 8ms/step - loss: 0.3870 - accuracy: 0.8396 - val_loss: 0.3171 - val_accuracy: 0.8714\n",
            "Epoch 16/50\n",
            "1000/1000 [==============================] - 9s 9ms/step - loss: 0.3354 - accuracy: 0.8577 - val_loss: 0.3176 - val_accuracy: 0.8731\n",
            "Epoch 17/50\n",
            "1000/1000 [==============================] - 8s 8ms/step - loss: 0.3172 - accuracy: 0.8689 - val_loss: 0.2758 - val_accuracy: 0.8874\n",
            "Epoch 18/50\n",
            "1000/1000 [==============================] - 9s 9ms/step - loss: 0.2921 - accuracy: 0.8805 - val_loss: 0.2603 - val_accuracy: 0.8940\n",
            "Epoch 19/50\n",
            "1000/1000 [==============================] - 9s 9ms/step - loss: 0.2767 - accuracy: 0.8893 - val_loss: 0.2650 - val_accuracy: 0.8992\n",
            "Epoch 20/50\n",
            "1000/1000 [==============================] - 9s 9ms/step - loss: 0.2574 - accuracy: 0.9020 - val_loss: 0.2256 - val_accuracy: 0.9153\n",
            "Epoch 21/50\n",
            "1000/1000 [==============================] - 8s 8ms/step - loss: 0.2444 - accuracy: 0.9073 - val_loss: 0.2174 - val_accuracy: 0.9240\n",
            "Epoch 22/50\n",
            "1000/1000 [==============================] - 9s 9ms/step - loss: 0.2315 - accuracy: 0.9145 - val_loss: 0.2012 - val_accuracy: 0.9270\n",
            "Epoch 23/50\n",
            "1000/1000 [==============================] - 8s 8ms/step - loss: 0.2188 - accuracy: 0.9237 - val_loss: 0.1934 - val_accuracy: 0.9356\n",
            "Epoch 24/50\n",
            "1000/1000 [==============================] - 9s 9ms/step - loss: 0.2088 - accuracy: 0.9265 - val_loss: 0.1773 - val_accuracy: 0.9416\n",
            "Epoch 25/50\n",
            "1000/1000 [==============================] - 9s 9ms/step - loss: 0.1985 - accuracy: 0.9320 - val_loss: 0.2018 - val_accuracy: 0.9349\n",
            "Epoch 26/50\n",
            "1000/1000 [==============================] - 9s 9ms/step - loss: 0.1880 - accuracy: 0.9371 - val_loss: 0.1706 - val_accuracy: 0.9469\n",
            "Epoch 27/50\n",
            "1000/1000 [==============================] - 8s 8ms/step - loss: 0.1920 - accuracy: 0.9369 - val_loss: 0.1734 - val_accuracy: 0.9441\n",
            "Epoch 28/50\n",
            "1000/1000 [==============================] - 8s 8ms/step - loss: 0.1872 - accuracy: 0.9375 - val_loss: 0.1690 - val_accuracy: 0.9457\n",
            "Epoch 29/50\n",
            "1000/1000 [==============================] - 9s 9ms/step - loss: 0.1742 - accuracy: 0.9425 - val_loss: 0.2425 - val_accuracy: 0.9054\n",
            "Epoch 30/50\n",
            "1000/1000 [==============================] - 8s 8ms/step - loss: 0.1761 - accuracy: 0.9400 - val_loss: 0.2178 - val_accuracy: 0.9254\n",
            "Epoch 31/50\n",
            "1000/1000 [==============================] - 9s 9ms/step - loss: 0.1943 - accuracy: 0.9345 - val_loss: 0.1522 - val_accuracy: 0.9523\n"
          ],
          "name": "stdout"
        },
        {
          "output_type": "stream",
          "text": [
            "WARNING:absl:Found untraced functions such as lstm_cell_4_layer_call_fn, lstm_cell_4_layer_call_and_return_conditional_losses, lstm_cell_5_layer_call_fn, lstm_cell_5_layer_call_and_return_conditional_losses, lstm_cell_4_layer_call_fn while saving (showing 5 of 10). These functions will not be directly callable after loading.\n",
            "WARNING:absl:Found untraced functions such as lstm_cell_4_layer_call_fn, lstm_cell_4_layer_call_and_return_conditional_losses, lstm_cell_5_layer_call_fn, lstm_cell_5_layer_call_and_return_conditional_losses, lstm_cell_4_layer_call_fn while saving (showing 5 of 10). These functions will not be directly callable after loading.\n"
          ],
          "name": "stderr"
        },
        {
          "output_type": "stream",
          "text": [
            "INFO:tensorflow:Assets written to: BestModel/assets\n"
          ],
          "name": "stdout"
        },
        {
          "output_type": "stream",
          "text": [
            "INFO:tensorflow:Assets written to: BestModel/assets\n"
          ],
          "name": "stderr"
        },
        {
          "output_type": "stream",
          "text": [
            "Epoch 32/50\n",
            "1000/1000 [==============================] - 9s 9ms/step - loss: 0.1720 - accuracy: 0.9436 - val_loss: 0.1841 - val_accuracy: 0.9426\n",
            "Epoch 33/50\n",
            "1000/1000 [==============================] - 9s 9ms/step - loss: 0.1740 - accuracy: 0.9440 - val_loss: 0.1514 - val_accuracy: 0.9534\n"
          ],
          "name": "stdout"
        },
        {
          "output_type": "stream",
          "text": [
            "WARNING:absl:Found untraced functions such as lstm_cell_4_layer_call_fn, lstm_cell_4_layer_call_and_return_conditional_losses, lstm_cell_5_layer_call_fn, lstm_cell_5_layer_call_and_return_conditional_losses, lstm_cell_4_layer_call_fn while saving (showing 5 of 10). These functions will not be directly callable after loading.\n",
            "WARNING:absl:Found untraced functions such as lstm_cell_4_layer_call_fn, lstm_cell_4_layer_call_and_return_conditional_losses, lstm_cell_5_layer_call_fn, lstm_cell_5_layer_call_and_return_conditional_losses, lstm_cell_4_layer_call_fn while saving (showing 5 of 10). These functions will not be directly callable after loading.\n"
          ],
          "name": "stderr"
        },
        {
          "output_type": "stream",
          "text": [
            "INFO:tensorflow:Assets written to: BestModel/assets\n"
          ],
          "name": "stdout"
        },
        {
          "output_type": "stream",
          "text": [
            "INFO:tensorflow:Assets written to: BestModel/assets\n"
          ],
          "name": "stderr"
        },
        {
          "output_type": "stream",
          "text": [
            "Epoch 34/50\n",
            "1000/1000 [==============================] - 8s 8ms/step - loss: 0.1754 - accuracy: 0.9433 - val_loss: 0.2407 - val_accuracy: 0.9194\n",
            "Epoch 35/50\n",
            "1000/1000 [==============================] - 8s 8ms/step - loss: 0.1599 - accuracy: 0.9489 - val_loss: 0.1645 - val_accuracy: 0.9460\n",
            "Epoch 36/50\n",
            "1000/1000 [==============================] - 8s 8ms/step - loss: 0.1695 - accuracy: 0.9455 - val_loss: 0.1481 - val_accuracy: 0.9505\n",
            "Epoch 37/50\n",
            "1000/1000 [==============================] - 9s 9ms/step - loss: 0.1515 - accuracy: 0.9496 - val_loss: 0.1740 - val_accuracy: 0.9474\n",
            "Epoch 38/50\n",
            "1000/1000 [==============================] - 8s 8ms/step - loss: 0.1618 - accuracy: 0.9462 - val_loss: 0.1471 - val_accuracy: 0.9535\n"
          ],
          "name": "stdout"
        },
        {
          "output_type": "stream",
          "text": [
            "WARNING:absl:Found untraced functions such as lstm_cell_4_layer_call_fn, lstm_cell_4_layer_call_and_return_conditional_losses, lstm_cell_5_layer_call_fn, lstm_cell_5_layer_call_and_return_conditional_losses, lstm_cell_4_layer_call_fn while saving (showing 5 of 10). These functions will not be directly callable after loading.\n",
            "WARNING:absl:Found untraced functions such as lstm_cell_4_layer_call_fn, lstm_cell_4_layer_call_and_return_conditional_losses, lstm_cell_5_layer_call_fn, lstm_cell_5_layer_call_and_return_conditional_losses, lstm_cell_4_layer_call_fn while saving (showing 5 of 10). These functions will not be directly callable after loading.\n"
          ],
          "name": "stderr"
        },
        {
          "output_type": "stream",
          "text": [
            "INFO:tensorflow:Assets written to: BestModel/assets\n"
          ],
          "name": "stdout"
        },
        {
          "output_type": "stream",
          "text": [
            "INFO:tensorflow:Assets written to: BestModel/assets\n"
          ],
          "name": "stderr"
        },
        {
          "output_type": "stream",
          "text": [
            "Epoch 39/50\n",
            "1000/1000 [==============================] - 9s 9ms/step - loss: 0.1563 - accuracy: 0.9488 - val_loss: 0.1775 - val_accuracy: 0.9395\n",
            "Epoch 40/50\n",
            "1000/1000 [==============================] - 8s 8ms/step - loss: 0.1513 - accuracy: 0.9489 - val_loss: 0.1954 - val_accuracy: 0.9324\n",
            "Epoch 41/50\n",
            "1000/1000 [==============================] - 8s 8ms/step - loss: 0.1589 - accuracy: 0.9479 - val_loss: 0.1439 - val_accuracy: 0.9529\n",
            "Epoch 42/50\n",
            "1000/1000 [==============================] - 9s 9ms/step - loss: 0.1489 - accuracy: 0.9511 - val_loss: 0.1501 - val_accuracy: 0.9499\n",
            "Epoch 43/50\n",
            "1000/1000 [==============================] - 9s 9ms/step - loss: 0.1489 - accuracy: 0.9522 - val_loss: 0.1547 - val_accuracy: 0.9503\n",
            "Epoch 44/50\n",
            "1000/1000 [==============================] - 8s 8ms/step - loss: 0.1448 - accuracy: 0.9531 - val_loss: 0.1416 - val_accuracy: 0.9511\n",
            "Epoch 45/50\n",
            "1000/1000 [==============================] - 9s 9ms/step - loss: 0.1462 - accuracy: 0.9514 - val_loss: 0.1381 - val_accuracy: 0.9553\n"
          ],
          "name": "stdout"
        },
        {
          "output_type": "stream",
          "text": [
            "WARNING:absl:Found untraced functions such as lstm_cell_4_layer_call_fn, lstm_cell_4_layer_call_and_return_conditional_losses, lstm_cell_5_layer_call_fn, lstm_cell_5_layer_call_and_return_conditional_losses, lstm_cell_4_layer_call_fn while saving (showing 5 of 10). These functions will not be directly callable after loading.\n",
            "WARNING:absl:Found untraced functions such as lstm_cell_4_layer_call_fn, lstm_cell_4_layer_call_and_return_conditional_losses, lstm_cell_5_layer_call_fn, lstm_cell_5_layer_call_and_return_conditional_losses, lstm_cell_4_layer_call_fn while saving (showing 5 of 10). These functions will not be directly callable after loading.\n"
          ],
          "name": "stderr"
        },
        {
          "output_type": "stream",
          "text": [
            "INFO:tensorflow:Assets written to: BestModel/assets\n"
          ],
          "name": "stdout"
        },
        {
          "output_type": "stream",
          "text": [
            "INFO:tensorflow:Assets written to: BestModel/assets\n"
          ],
          "name": "stderr"
        },
        {
          "output_type": "stream",
          "text": [
            "Epoch 46/50\n",
            "1000/1000 [==============================] - 9s 9ms/step - loss: 0.1452 - accuracy: 0.9535 - val_loss: 0.1380 - val_accuracy: 0.9539\n",
            "Epoch 47/50\n",
            "1000/1000 [==============================] - 9s 9ms/step - loss: 0.1404 - accuracy: 0.9547 - val_loss: 0.1590 - val_accuracy: 0.9449\n",
            "Epoch 48/50\n",
            "1000/1000 [==============================] - 8s 8ms/step - loss: 0.2013 - accuracy: 0.9270 - val_loss: 0.1702 - val_accuracy: 0.9503\n",
            "Epoch 49/50\n",
            "1000/1000 [==============================] - 8s 8ms/step - loss: 0.1645 - accuracy: 0.9502 - val_loss: 0.1248 - val_accuracy: 0.9609\n"
          ],
          "name": "stdout"
        },
        {
          "output_type": "stream",
          "text": [
            "WARNING:absl:Found untraced functions such as lstm_cell_4_layer_call_fn, lstm_cell_4_layer_call_and_return_conditional_losses, lstm_cell_5_layer_call_fn, lstm_cell_5_layer_call_and_return_conditional_losses, lstm_cell_4_layer_call_fn while saving (showing 5 of 10). These functions will not be directly callable after loading.\n",
            "WARNING:absl:Found untraced functions such as lstm_cell_4_layer_call_fn, lstm_cell_4_layer_call_and_return_conditional_losses, lstm_cell_5_layer_call_fn, lstm_cell_5_layer_call_and_return_conditional_losses, lstm_cell_4_layer_call_fn while saving (showing 5 of 10). These functions will not be directly callable after loading.\n"
          ],
          "name": "stderr"
        },
        {
          "output_type": "stream",
          "text": [
            "INFO:tensorflow:Assets written to: BestModel/assets\n"
          ],
          "name": "stdout"
        },
        {
          "output_type": "stream",
          "text": [
            "INFO:tensorflow:Assets written to: BestModel/assets\n"
          ],
          "name": "stderr"
        },
        {
          "output_type": "stream",
          "text": [
            "Epoch 50/50\n",
            "1000/1000 [==============================] - 9s 9ms/step - loss: 0.1294 - accuracy: 0.9589 - val_loss: 0.1339 - val_accuracy: 0.9585\n",
            "Fold 2, 50 epochs, 464 sec\n"
          ],
          "name": "stdout"
        },
        {
          "output_type": "display_data",
          "data": {
            "image/png": "[encoded data removed]",
            "text/plain": [
              "<Figure size 576x360 with 1 Axes>"
            ]
          },
          "metadata": {
            "tags": [],
            "needs_background": "light"
          }
        },
        {
          "output_type": "stream",
          "text": [
            "MODEL\n",
            "make_DNN\n",
            "input shape: (100, 4)\n",
            "FIT\n",
            "Epoch 1/50\n",
            "1000/1000 [==============================] - 11s 9ms/step - loss: 0.6831 - accuracy: 0.5549 - val_loss: 0.6604 - val_accuracy: 0.6036\n",
            "Epoch 2/50\n",
            "1000/1000 [==============================] - 8s 8ms/step - loss: 0.6514 - accuracy: 0.6194 - val_loss: 0.6304 - val_accuracy: 0.6481\n",
            "Epoch 3/50\n",
            "1000/1000 [==============================] - 8s 8ms/step - loss: 0.6178 - accuracy: 0.6607 - val_loss: 0.5935 - val_accuracy: 0.6826\n",
            "Epoch 4/50\n",
            "1000/1000 [==============================] - 8s 8ms/step - loss: 0.5208 - accuracy: 0.7461 - val_loss: 0.3567 - val_accuracy: 0.8584\n",
            "Epoch 5/50\n",
            "1000/1000 [==============================] - 9s 9ms/step - loss: 0.3592 - accuracy: 0.8532 - val_loss: 0.3378 - val_accuracy: 0.8581\n",
            "Epoch 6/50\n",
            "1000/1000 [==============================] - 9s 9ms/step - loss: 0.3459 - accuracy: 0.8497 - val_loss: 0.3318 - val_accuracy: 0.8566\n",
            "Epoch 7/50\n",
            "1000/1000 [==============================] - 9s 9ms/step - loss: 0.3292 - accuracy: 0.8596 - val_loss: 0.3144 - val_accuracy: 0.8712\n",
            "Epoch 8/50\n",
            "1000/1000 [==============================] - 9s 9ms/step - loss: 0.3212 - accuracy: 0.8657 - val_loss: 0.3076 - val_accuracy: 0.8750\n",
            "Epoch 9/50\n",
            "1000/1000 [==============================] - 8s 8ms/step - loss: 0.3027 - accuracy: 0.8770 - val_loss: 0.2976 - val_accuracy: 0.8785\n",
            "Epoch 10/50\n",
            "1000/1000 [==============================] - 9s 9ms/step - loss: 0.3053 - accuracy: 0.8774 - val_loss: 0.2882 - val_accuracy: 0.8841\n",
            "Epoch 11/50\n",
            "1000/1000 [==============================] - 8s 8ms/step - loss: 0.2791 - accuracy: 0.8907 - val_loss: 0.2950 - val_accuracy: 0.8891\n",
            "Epoch 12/50\n",
            "1000/1000 [==============================] - 9s 9ms/step - loss: 0.2582 - accuracy: 0.9008 - val_loss: 0.2642 - val_accuracy: 0.8965\n",
            "Epoch 13/50\n",
            "1000/1000 [==============================] - 9s 9ms/step - loss: 0.2572 - accuracy: 0.9011 - val_loss: 0.2323 - val_accuracy: 0.9158\n",
            "Epoch 14/50\n",
            "1000/1000 [==============================] - 9s 9ms/step - loss: 0.2525 - accuracy: 0.9037 - val_loss: 0.2644 - val_accuracy: 0.8895\n",
            "Epoch 15/50\n",
            "1000/1000 [==============================] - 9s 9ms/step - loss: 0.2423 - accuracy: 0.9041 - val_loss: 0.2507 - val_accuracy: 0.8992\n",
            "Epoch 16/50\n",
            "1000/1000 [==============================] - 9s 9ms/step - loss: 0.2346 - accuracy: 0.9077 - val_loss: 0.2214 - val_accuracy: 0.9218\n",
            "Epoch 17/50\n",
            "1000/1000 [==============================] - 9s 9ms/step - loss: 0.2167 - accuracy: 0.9182 - val_loss: 0.2223 - val_accuracy: 0.9166\n",
            "Epoch 18/50\n",
            "1000/1000 [==============================] - 9s 9ms/step - loss: 0.2181 - accuracy: 0.9182 - val_loss: 0.1988 - val_accuracy: 0.9290\n",
            "Epoch 19/50\n",
            "1000/1000 [==============================] - 9s 9ms/step - loss: 0.2263 - accuracy: 0.9146 - val_loss: 0.2144 - val_accuracy: 0.9184\n",
            "Epoch 20/50\n",
            "1000/1000 [==============================] - 9s 9ms/step - loss: 0.2024 - accuracy: 0.9251 - val_loss: 0.2263 - val_accuracy: 0.9100\n",
            "Epoch 21/50\n",
            "1000/1000 [==============================] - 9s 9ms/step - loss: 0.2069 - accuracy: 0.9272 - val_loss: 0.1926 - val_accuracy: 0.9331\n",
            "Epoch 22/50\n",
            "1000/1000 [==============================] - 9s 9ms/step - loss: 0.2466 - accuracy: 0.9084 - val_loss: 0.2457 - val_accuracy: 0.9089\n",
            "Epoch 23/50\n",
            "1000/1000 [==============================] - 9s 9ms/step - loss: 0.2503 - accuracy: 0.9100 - val_loss: 0.2197 - val_accuracy: 0.9233\n",
            "Epoch 24/50\n",
            "1000/1000 [==============================] - 9s 9ms/step - loss: 0.2165 - accuracy: 0.9211 - val_loss: 0.2092 - val_accuracy: 0.9261\n",
            "Epoch 25/50\n",
            "1000/1000 [==============================] - 9s 9ms/step - loss: 0.2109 - accuracy: 0.9245 - val_loss: 0.2425 - val_accuracy: 0.9109\n",
            "Epoch 26/50\n",
            "1000/1000 [==============================] - 9s 9ms/step - loss: 0.2589 - accuracy: 0.8974 - val_loss: 0.3081 - val_accuracy: 0.8852\n",
            "Epoch 27/50\n",
            "1000/1000 [==============================] - 9s 9ms/step - loss: 0.2784 - accuracy: 0.8911 - val_loss: 0.2335 - val_accuracy: 0.9162\n",
            "Epoch 28/50\n",
            "1000/1000 [==============================] - 9s 9ms/step - loss: 0.2184 - accuracy: 0.9249 - val_loss: 0.3686 - val_accuracy: 0.9064\n",
            "Epoch 29/50\n",
            "1000/1000 [==============================] - 9s 9ms/step - loss: 0.4237 - accuracy: 0.8077 - val_loss: 0.2522 - val_accuracy: 0.9096\n",
            "Epoch 30/50\n",
            "1000/1000 [==============================] - 9s 9ms/step - loss: 0.2271 - accuracy: 0.9252 - val_loss: 0.2169 - val_accuracy: 0.9240\n",
            "Epoch 31/50\n",
            "1000/1000 [==============================] - 9s 9ms/step - loss: 0.1972 - accuracy: 0.9316 - val_loss: 0.1891 - val_accuracy: 0.9395\n",
            "Epoch 32/50\n",
            "1000/1000 [==============================] - 9s 9ms/step - loss: 0.1922 - accuracy: 0.9335 - val_loss: 0.1715 - val_accuracy: 0.9421\n",
            "Epoch 33/50\n",
            "1000/1000 [==============================] - 9s 9ms/step - loss: 0.1769 - accuracy: 0.9403 - val_loss: 0.1562 - val_accuracy: 0.9524\n",
            "Epoch 34/50\n",
            "1000/1000 [==============================] - 9s 9ms/step - loss: 0.1771 - accuracy: 0.9408 - val_loss: 0.1975 - val_accuracy: 0.9356\n",
            "Epoch 35/50\n",
            "1000/1000 [==============================] - 9s 9ms/step - loss: 0.1792 - accuracy: 0.9414 - val_loss: 0.1601 - val_accuracy: 0.9505\n",
            "Epoch 36/50\n",
            "1000/1000 [==============================] - 9s 9ms/step - loss: 0.1669 - accuracy: 0.9463 - val_loss: 0.1720 - val_accuracy: 0.9461\n",
            "Epoch 37/50\n",
            "1000/1000 [==============================] - 9s 9ms/step - loss: 0.1631 - accuracy: 0.9486 - val_loss: 0.1567 - val_accuracy: 0.9517\n",
            "Epoch 38/50\n",
            "1000/1000 [==============================] - 9s 9ms/step - loss: 0.1628 - accuracy: 0.9481 - val_loss: 0.1563 - val_accuracy: 0.9509\n",
            "Epoch 39/50\n",
            "1000/1000 [==============================] - 9s 9ms/step - loss: 0.1559 - accuracy: 0.9498 - val_loss: 0.1809 - val_accuracy: 0.9409\n",
            "Epoch 40/50\n",
            "1000/1000 [==============================] - 9s 9ms/step - loss: 0.1569 - accuracy: 0.9501 - val_loss: 0.1577 - val_accuracy: 0.9516\n",
            "Epoch 41/50\n",
            "1000/1000 [==============================] - 9s 9ms/step - loss: 0.1653 - accuracy: 0.9453 - val_loss: 0.1575 - val_accuracy: 0.9534\n",
            "Epoch 42/50\n",
            "1000/1000 [==============================] - 9s 9ms/step - loss: 0.1599 - accuracy: 0.9490 - val_loss: 0.1551 - val_accuracy: 0.9536\n",
            "Epoch 43/50\n",
            "1000/1000 [==============================] - 9s 9ms/step - loss: 0.1608 - accuracy: 0.9480 - val_loss: 0.1391 - val_accuracy: 0.9553\n",
            "Epoch 44/50\n",
            "1000/1000 [==============================] - 9s 9ms/step - loss: 0.1472 - accuracy: 0.9534 - val_loss: 0.1661 - val_accuracy: 0.9498\n",
            "Epoch 45/50\n",
            "1000/1000 [==============================] - 9s 9ms/step - loss: 0.1525 - accuracy: 0.9511 - val_loss: 0.1469 - val_accuracy: 0.9553\n",
            "Epoch 46/50\n",
            "1000/1000 [==============================] - 9s 9ms/step - loss: 0.1428 - accuracy: 0.9561 - val_loss: 0.1423 - val_accuracy: 0.9600\n",
            "Epoch 47/50\n",
            "1000/1000 [==============================] - 9s 9ms/step - loss: 0.1426 - accuracy: 0.9563 - val_loss: 0.1684 - val_accuracy: 0.9457\n",
            "Epoch 48/50\n",
            "1000/1000 [==============================] - 9s 9ms/step - loss: 0.1432 - accuracy: 0.9548 - val_loss: 0.1514 - val_accuracy: 0.9534\n",
            "Epoch 49/50\n",
            "1000/1000 [==============================] - 9s 9ms/step - loss: 0.1429 - accuracy: 0.9548 - val_loss: 0.1500 - val_accuracy: 0.9566\n",
            "Epoch 50/50\n",
            "1000/1000 [==============================] - 9s 9ms/step - loss: 0.1426 - accuracy: 0.9575 - val_loss: 0.1635 - val_accuracy: 0.9466\n",
            "Fold 3, 50 epochs, 430 sec\n"
          ],
          "name": "stdout"
        },
        {
          "output_type": "display_data",
          "data": {
            "image/png": "[encoded data removed]",
            "text/plain": [
              "<Figure size 576x360 with 1 Axes>"
            ]
          },
          "metadata": {
            "tags": [],
            "needs_background": "light"
          }
        },
        {
          "output_type": "stream",
          "text": [
            "MODEL\n",
            "make_DNN\n",
            "input shape: (100, 4)\n",
            "FIT\n",
            "Epoch 1/50\n",
            "1000/1000 [==============================] - 12s 9ms/step - loss: 0.6795 - accuracy: 0.5519 - val_loss: 0.6501 - val_accuracy: 0.6273\n",
            "Epoch 2/50\n",
            "1000/1000 [==============================] - 9s 9ms/step - loss: 0.6407 - accuracy: 0.6363 - val_loss: 0.6172 - val_accuracy: 0.6566\n",
            "Epoch 3/50\n",
            "1000/1000 [==============================] - 8s 8ms/step - loss: 0.6085 - accuracy: 0.6710 - val_loss: 0.4627 - val_accuracy: 0.7903\n",
            "Epoch 4/50\n",
            "1000/1000 [==============================] - 9s 9ms/step - loss: 0.4047 - accuracy: 0.8347 - val_loss: 0.3383 - val_accuracy: 0.8566\n",
            "Epoch 5/50\n",
            "1000/1000 [==============================] - 9s 9ms/step - loss: 0.3471 - accuracy: 0.8570 - val_loss: 0.3357 - val_accuracy: 0.8630\n",
            "Epoch 6/50\n",
            "1000/1000 [==============================] - 9s 9ms/step - loss: 0.3353 - accuracy: 0.8611 - val_loss: 0.3315 - val_accuracy: 0.8618\n",
            "Epoch 7/50\n",
            "1000/1000 [==============================] - 9s 9ms/step - loss: 0.3405 - accuracy: 0.8589 - val_loss: 0.3202 - val_accuracy: 0.8677\n",
            "Epoch 8/50\n",
            "1000/1000 [==============================] - 9s 9ms/step - loss: 0.3313 - accuracy: 0.8629 - val_loss: 0.3284 - val_accuracy: 0.8600\n",
            "Epoch 9/50\n",
            "1000/1000 [==============================] - 9s 9ms/step - loss: 0.3312 - accuracy: 0.8591 - val_loss: 0.3124 - val_accuracy: 0.8694\n",
            "Epoch 10/50\n",
            "1000/1000 [==============================] - 9s 9ms/step - loss: 0.3201 - accuracy: 0.8666 - val_loss: 0.3125 - val_accuracy: 0.8683\n",
            "Epoch 11/50\n",
            "1000/1000 [==============================] - 9s 9ms/step - loss: 0.3122 - accuracy: 0.8720 - val_loss: 0.3007 - val_accuracy: 0.8780\n",
            "Epoch 12/50\n",
            "1000/1000 [==============================] - 9s 9ms/step - loss: 0.3021 - accuracy: 0.8768 - val_loss: 0.3196 - val_accuracy: 0.8609\n",
            "Epoch 13/50\n",
            "1000/1000 [==============================] - 9s 9ms/step - loss: 0.2936 - accuracy: 0.8795 - val_loss: 0.2773 - val_accuracy: 0.8907\n",
            "Epoch 14/50\n",
            "1000/1000 [==============================] - 9s 9ms/step - loss: 0.2872 - accuracy: 0.8853 - val_loss: 0.2679 - val_accuracy: 0.8953\n",
            "Epoch 15/50\n",
            "1000/1000 [==============================] - 9s 9ms/step - loss: 0.2840 - accuracy: 0.8833 - val_loss: 0.3587 - val_accuracy: 0.8572\n",
            "Epoch 16/50\n",
            "1000/1000 [==============================] - 9s 9ms/step - loss: 0.3469 - accuracy: 0.8622 - val_loss: 0.2944 - val_accuracy: 0.8866\n",
            "Epoch 17/50\n",
            "1000/1000 [==============================] - 9s 9ms/step - loss: 0.2903 - accuracy: 0.8871 - val_loss: 0.2700 - val_accuracy: 0.8963\n",
            "Epoch 18/50\n",
            "1000/1000 [==============================] - 9s 9ms/step - loss: 0.2614 - accuracy: 0.8997 - val_loss: 0.2541 - val_accuracy: 0.9061\n",
            "Epoch 19/50\n",
            "1000/1000 [==============================] - 9s 9ms/step - loss: 0.2496 - accuracy: 0.9070 - val_loss: 0.2435 - val_accuracy: 0.9076\n",
            "Epoch 20/50\n",
            "1000/1000 [==============================] - 9s 9ms/step - loss: 0.2332 - accuracy: 0.9127 - val_loss: 0.2182 - val_accuracy: 0.9197\n",
            "Epoch 21/50\n",
            "1000/1000 [==============================] - 9s 9ms/step - loss: 0.2291 - accuracy: 0.9156 - val_loss: 0.2184 - val_accuracy: 0.9161\n",
            "Epoch 22/50\n",
            "1000/1000 [==============================] - 9s 9ms/step - loss: 0.2282 - accuracy: 0.9155 - val_loss: 0.2196 - val_accuracy: 0.9175\n",
            "Epoch 23/50\n",
            "1000/1000 [==============================] - 9s 9ms/step - loss: 0.2115 - accuracy: 0.9243 - val_loss: 0.2161 - val_accuracy: 0.9186\n",
            "Epoch 24/50\n",
            "1000/1000 [==============================] - 9s 9ms/step - loss: 0.2165 - accuracy: 0.9181 - val_loss: 0.2011 - val_accuracy: 0.9254\n",
            "Epoch 25/50\n",
            "1000/1000 [==============================] - 9s 9ms/step - loss: 0.2089 - accuracy: 0.9226 - val_loss: 0.1982 - val_accuracy: 0.9280\n",
            "Epoch 26/50\n",
            "1000/1000 [==============================] - 9s 9ms/step - loss: 0.2059 - accuracy: 0.9232 - val_loss: 0.2315 - val_accuracy: 0.9184\n",
            "Epoch 27/50\n",
            "1000/1000 [==============================] - 9s 9ms/step - loss: 0.2178 - accuracy: 0.9242 - val_loss: 0.2498 - val_accuracy: 0.9096\n",
            "Epoch 28/50\n",
            "1000/1000 [==============================] - 9s 9ms/step - loss: 0.2015 - accuracy: 0.9255 - val_loss: 0.1985 - val_accuracy: 0.9287\n",
            "Epoch 29/50\n",
            "1000/1000 [==============================] - 9s 9ms/step - loss: 0.1989 - accuracy: 0.9285 - val_loss: 0.2506 - val_accuracy: 0.9118\n",
            "Epoch 30/50\n",
            "1000/1000 [==============================] - 9s 9ms/step - loss: 0.1901 - accuracy: 0.9321 - val_loss: 0.1864 - val_accuracy: 0.9362\n",
            "Epoch 31/50\n",
            "1000/1000 [==============================] - 9s 9ms/step - loss: 0.1772 - accuracy: 0.9377 - val_loss: 0.2324 - val_accuracy: 0.9143\n",
            "Epoch 32/50\n",
            "1000/1000 [==============================] - 9s 9ms/step - loss: 0.1867 - accuracy: 0.9352 - val_loss: 0.1758 - val_accuracy: 0.9402\n",
            "Epoch 33/50\n",
            "1000/1000 [==============================] - 9s 9ms/step - loss: 0.1692 - accuracy: 0.9451 - val_loss: 0.1786 - val_accuracy: 0.9450\n",
            "Epoch 34/50\n",
            "1000/1000 [==============================] - 9s 9ms/step - loss: 0.1688 - accuracy: 0.9456 - val_loss: 0.1840 - val_accuracy: 0.9449\n",
            "Epoch 35/50\n",
            "1000/1000 [==============================] - 9s 9ms/step - loss: 0.1688 - accuracy: 0.9474 - val_loss: 0.1643 - val_accuracy: 0.9457\n",
            "Epoch 36/50\n",
            "1000/1000 [==============================] - 9s 9ms/step - loss: 0.1641 - accuracy: 0.9461 - val_loss: 0.1661 - val_accuracy: 0.9420\n",
            "Epoch 37/50\n",
            "1000/1000 [==============================] - 9s 9ms/step - loss: 0.1539 - accuracy: 0.9500 - val_loss: 0.1598 - val_accuracy: 0.9480\n",
            "Epoch 38/50\n",
            "1000/1000 [==============================] - 9s 9ms/step - loss: 0.1610 - accuracy: 0.9472 - val_loss: 0.1737 - val_accuracy: 0.9375\n",
            "Epoch 39/50\n",
            "1000/1000 [==============================] - 9s 9ms/step - loss: 0.1528 - accuracy: 0.9473 - val_loss: 0.1574 - val_accuracy: 0.9516\n",
            "Epoch 40/50\n",
            "1000/1000 [==============================] - 9s 9ms/step - loss: 0.1597 - accuracy: 0.9511 - val_loss: 0.1587 - val_accuracy: 0.9528\n",
            "Epoch 41/50\n",
            "1000/1000 [==============================] - 9s 9ms/step - loss: 0.1409 - accuracy: 0.9569 - val_loss: 0.1765 - val_accuracy: 0.9477\n",
            "Epoch 42/50\n",
            "1000/1000 [==============================] - 9s 9ms/step - loss: 0.1715 - accuracy: 0.9485 - val_loss: 0.2594 - val_accuracy: 0.9150\n",
            "Epoch 43/50\n",
            "1000/1000 [==============================] - 9s 9ms/step - loss: 0.1471 - accuracy: 0.9554 - val_loss: 0.2228 - val_accuracy: 0.9273\n",
            "Epoch 44/50\n",
            "1000/1000 [==============================] - 9s 9ms/step - loss: 0.1697 - accuracy: 0.9476 - val_loss: 0.1626 - val_accuracy: 0.9498\n",
            "Epoch 45/50\n",
            "1000/1000 [==============================] - 9s 9ms/step - loss: 0.1548 - accuracy: 0.9489 - val_loss: 0.1618 - val_accuracy: 0.9460\n",
            "Epoch 46/50\n",
            "1000/1000 [==============================] - 9s 9ms/step - loss: 0.1362 - accuracy: 0.9548 - val_loss: 0.1626 - val_accuracy: 0.9481\n",
            "Epoch 47/50\n",
            "1000/1000 [==============================] - 9s 9ms/step - loss: 0.1464 - accuracy: 0.9543 - val_loss: 0.1359 - val_accuracy: 0.9555\n",
            "Epoch 48/50\n",
            "1000/1000 [==============================] - 9s 9ms/step - loss: 0.1356 - accuracy: 0.9572 - val_loss: 0.1517 - val_accuracy: 0.9481\n",
            "Epoch 49/50\n",
            "1000/1000 [==============================] - 9s 9ms/step - loss: 0.1353 - accuracy: 0.9561 - val_loss: 0.1388 - val_accuracy: 0.9560\n",
            "Epoch 50/50\n",
            "1000/1000 [==============================] - 9s 9ms/step - loss: 0.1399 - accuracy: 0.9544 - val_loss: 0.1343 - val_accuracy: 0.9560\n",
            "Fold 4, 50 epochs, 436 sec\n"
          ],
          "name": "stdout"
        },
        {
          "output_type": "display_data",
          "data": {
            "image/png": "[encoded data removed]",
            "text/plain": [
              "<Figure size 576x360 with 1 Axes>"
            ]
          },
          "metadata": {
            "tags": [],
            "needs_background": "light"
          }
        },
        {
          "output_type": "stream",
          "text": [
            "MODEL\n",
            "make_DNN\n",
            "input shape: (100, 4)\n",
            "FIT\n",
            "Epoch 1/50\n",
            "1000/1000 [==============================] - 11s 9ms/step - loss: 0.6948 - accuracy: 0.5144 - val_loss: 0.6553 - val_accuracy: 0.6170\n",
            "Epoch 2/50\n",
            "1000/1000 [==============================] - 8s 8ms/step - loss: 0.6533 - accuracy: 0.6186 - val_loss: 0.6097 - val_accuracy: 0.6670\n",
            "Epoch 3/50\n",
            "1000/1000 [==============================] - 9s 9ms/step - loss: 0.6190 - accuracy: 0.6625 - val_loss: 0.5870 - val_accuracy: 0.6896\n",
            "Epoch 4/50\n",
            "1000/1000 [==============================] - 9s 9ms/step - loss: 0.5992 - accuracy: 0.6815 - val_loss: 0.5894 - val_accuracy: 0.6935\n",
            "Epoch 5/50\n",
            "1000/1000 [==============================] - 9s 9ms/step - loss: 0.5534 - accuracy: 0.7189 - val_loss: 0.3651 - val_accuracy: 0.8515\n",
            "Epoch 6/50\n",
            "1000/1000 [==============================] - 9s 9ms/step - loss: 0.3575 - accuracy: 0.8526 - val_loss: 0.3579 - val_accuracy: 0.8545\n",
            "Epoch 7/50\n",
            "1000/1000 [==============================] - 9s 9ms/step - loss: 0.3507 - accuracy: 0.8560 - val_loss: 0.3263 - val_accuracy: 0.8650\n",
            "Epoch 8/50\n",
            "1000/1000 [==============================] - 9s 9ms/step - loss: 0.3203 - accuracy: 0.8677 - val_loss: 0.3375 - val_accuracy: 0.8454\n",
            "Epoch 9/50\n",
            "1000/1000 [==============================] - 9s 9ms/step - loss: 0.3093 - accuracy: 0.8718 - val_loss: 0.3012 - val_accuracy: 0.8755\n",
            "Epoch 10/50\n",
            "1000/1000 [==============================] - 9s 9ms/step - loss: 0.2947 - accuracy: 0.8793 - val_loss: 0.3186 - val_accuracy: 0.8670\n",
            "Epoch 11/50\n",
            "1000/1000 [==============================] - 9s 9ms/step - loss: 0.2913 - accuracy: 0.8815 - val_loss: 0.2878 - val_accuracy: 0.8795\n",
            "Epoch 12/50\n",
            "1000/1000 [==============================] - 9s 9ms/step - loss: 0.2709 - accuracy: 0.8970 - val_loss: 0.2658 - val_accuracy: 0.8954\n",
            "Epoch 13/50\n",
            "1000/1000 [==============================] - 9s 9ms/step - loss: 0.2602 - accuracy: 0.9002 - val_loss: 0.2473 - val_accuracy: 0.9069\n",
            "Epoch 14/50\n",
            "1000/1000 [==============================] - 9s 9ms/step - loss: 0.2559 - accuracy: 0.9034 - val_loss: 0.2613 - val_accuracy: 0.9055\n",
            "Epoch 15/50\n",
            "1000/1000 [==============================] - 9s 9ms/step - loss: 0.2402 - accuracy: 0.9116 - val_loss: 0.2410 - val_accuracy: 0.9081\n",
            "Epoch 16/50\n",
            "1000/1000 [==============================] - 9s 9ms/step - loss: 0.2409 - accuracy: 0.9119 - val_loss: 0.2952 - val_accuracy: 0.8969\n",
            "Epoch 17/50\n",
            "1000/1000 [==============================] - 9s 9ms/step - loss: 0.2630 - accuracy: 0.9061 - val_loss: 0.2155 - val_accuracy: 0.9229\n",
            "Epoch 18/50\n",
            "1000/1000 [==============================] - 9s 9ms/step - loss: 0.2210 - accuracy: 0.9204 - val_loss: 0.2082 - val_accuracy: 0.9249\n",
            "Epoch 19/50\n",
            "1000/1000 [==============================] - 9s 9ms/step - loss: 0.2279 - accuracy: 0.9152 - val_loss: 0.2140 - val_accuracy: 0.9246\n",
            "Epoch 20/50\n",
            "1000/1000 [==============================] - 9s 9ms/step - loss: 0.2046 - accuracy: 0.9268 - val_loss: 0.2108 - val_accuracy: 0.9252\n",
            "Epoch 21/50\n",
            "1000/1000 [==============================] - 9s 9ms/step - loss: 0.2005 - accuracy: 0.9278 - val_loss: 0.2314 - val_accuracy: 0.9114\n",
            "Epoch 22/50\n",
            "1000/1000 [==============================] - 9s 9ms/step - loss: 0.2201 - accuracy: 0.9185 - val_loss: 0.2012 - val_accuracy: 0.9270\n",
            "Epoch 23/50\n",
            "1000/1000 [==============================] - 9s 9ms/step - loss: 0.2338 - accuracy: 0.9148 - val_loss: 0.2672 - val_accuracy: 0.9062\n",
            "Epoch 24/50\n",
            "1000/1000 [==============================] - 9s 9ms/step - loss: 0.2978 - accuracy: 0.8763 - val_loss: 0.3015 - val_accuracy: 0.8873\n",
            "Epoch 25/50\n",
            "1000/1000 [==============================] - 9s 9ms/step - loss: 0.2776 - accuracy: 0.8987 - val_loss: 0.3832 - val_accuracy: 0.8371\n",
            "Epoch 26/50\n",
            "1000/1000 [==============================] - 9s 9ms/step - loss: 0.2998 - accuracy: 0.8863 - val_loss: 0.2389 - val_accuracy: 0.9060\n",
            "Epoch 27/50\n",
            "1000/1000 [==============================] - 9s 9ms/step - loss: 0.2295 - accuracy: 0.9148 - val_loss: 0.2418 - val_accuracy: 0.9096\n",
            "Epoch 28/50\n",
            "1000/1000 [==============================] - 9s 9ms/step - loss: 0.2190 - accuracy: 0.9204 - val_loss: 0.2316 - val_accuracy: 0.9110\n",
            "Epoch 29/50\n",
            "1000/1000 [==============================] - 9s 9ms/step - loss: 0.2335 - accuracy: 0.9103 - val_loss: 0.2196 - val_accuracy: 0.9165\n",
            "Epoch 30/50\n",
            "1000/1000 [==============================] - 9s 9ms/step - loss: 0.2033 - accuracy: 0.9270 - val_loss: 0.2529 - val_accuracy: 0.9013\n",
            "Epoch 31/50\n",
            "1000/1000 [==============================] - 9s 9ms/step - loss: 0.2074 - accuracy: 0.9247 - val_loss: 0.2139 - val_accuracy: 0.9215\n",
            "Epoch 32/50\n",
            "1000/1000 [==============================] - 9s 9ms/step - loss: 0.2048 - accuracy: 0.9261 - val_loss: 0.2048 - val_accuracy: 0.9270\n",
            "Epoch 33/50\n",
            "1000/1000 [==============================] - 9s 9ms/step - loss: 0.1883 - accuracy: 0.9345 - val_loss: 0.1812 - val_accuracy: 0.9366\n",
            "Epoch 34/50\n",
            "1000/1000 [==============================] - 9s 9ms/step - loss: 0.1864 - accuracy: 0.9356 - val_loss: 0.2176 - val_accuracy: 0.9204\n",
            "Epoch 35/50\n",
            "1000/1000 [==============================] - 9s 9ms/step - loss: 0.1788 - accuracy: 0.9389 - val_loss: 0.1726 - val_accuracy: 0.9425\n",
            "Epoch 36/50\n",
            "1000/1000 [==============================] - 9s 9ms/step - loss: 0.1818 - accuracy: 0.9376 - val_loss: 0.1941 - val_accuracy: 0.9285\n",
            "Epoch 37/50\n",
            "1000/1000 [==============================] - 9s 9ms/step - loss: 0.1721 - accuracy: 0.9417 - val_loss: 0.1645 - val_accuracy: 0.9434\n",
            "Epoch 38/50\n",
            "1000/1000 [==============================] - 9s 9ms/step - loss: 0.1784 - accuracy: 0.9391 - val_loss: 0.1812 - val_accuracy: 0.9310\n",
            "Epoch 39/50\n",
            "1000/1000 [==============================] - 9s 9ms/step - loss: 0.1786 - accuracy: 0.9356 - val_loss: 0.2155 - val_accuracy: 0.9251\n",
            "Epoch 40/50\n",
            "1000/1000 [==============================] - 9s 9ms/step - loss: 0.1791 - accuracy: 0.9388 - val_loss: 0.1560 - val_accuracy: 0.9477\n",
            "Epoch 41/50\n",
            "1000/1000 [==============================] - 9s 9ms/step - loss: 0.1899 - accuracy: 0.9304 - val_loss: 0.1691 - val_accuracy: 0.9442\n",
            "Epoch 42/50\n",
            "1000/1000 [==============================] - 9s 9ms/step - loss: 0.1705 - accuracy: 0.9397 - val_loss: 0.2104 - val_accuracy: 0.9214\n",
            "Epoch 43/50\n",
            "1000/1000 [==============================] - 9s 9ms/step - loss: 0.1789 - accuracy: 0.9394 - val_loss: 0.1615 - val_accuracy: 0.9477\n",
            "Epoch 44/50\n",
            "1000/1000 [==============================] - 9s 9ms/step - loss: 0.1614 - accuracy: 0.9455 - val_loss: 0.1529 - val_accuracy: 0.9489\n",
            "Epoch 45/50\n",
            "1000/1000 [==============================] - 9s 9ms/step - loss: 0.1579 - accuracy: 0.9463 - val_loss: 0.1614 - val_accuracy: 0.9425\n",
            "Epoch 46/50\n",
            "1000/1000 [==============================] - 9s 9ms/step - loss: 0.1536 - accuracy: 0.9480 - val_loss: 0.1660 - val_accuracy: 0.9420\n",
            "Epoch 47/50\n",
            "1000/1000 [==============================] - 9s 9ms/step - loss: 0.1586 - accuracy: 0.9456 - val_loss: 0.1644 - val_accuracy: 0.9430\n",
            "Epoch 48/50\n",
            "1000/1000 [==============================] - 9s 9ms/step - loss: 0.1475 - accuracy: 0.9498 - val_loss: 0.2343 - val_accuracy: 0.9221\n",
            "Epoch 49/50\n",
            "1000/1000 [==============================] - 9s 9ms/step - loss: 0.1801 - accuracy: 0.9406 - val_loss: 0.1620 - val_accuracy: 0.9461\n",
            "Epoch 50/50\n",
            "1000/1000 [==============================] - 9s 9ms/step - loss: 0.1455 - accuracy: 0.9515 - val_loss: 0.1616 - val_accuracy: 0.9438\n",
            "Fold 5, 50 epochs, 434 sec\n"
          ],
          "name": "stdout"
        },
        {
          "output_type": "display_data",
          "data": {
            "image/png": "[encoded data removed]",
            "text/plain": [
              "<Figure size 576x360 with 1 Axes>"
            ]
          },
          "metadata": {
            "tags": [],
            "needs_background": "light"
          }
        }
      ]
    },
    {
      "cell_type": "code",
      "metadata": {
        "colab": {
          "base_uri": "https://localhost:8080/"
        },
        "id": "e-jG1h5fj2Ua",
        "outputId": "13abf0b0-defb-4112-af2c-c9cb5aabeee5"
      },
      "source": [
        "from keras.models import load_model\n",
        "pc_sim.set_reproducible(True)\n",
        "nc_sim.set_reproducible(True)\n",
        "pc_test = pc_sim.get_sequences(PC_TESTS)\n",
        "nc_test = nc_sim.get_sequences(NC_TESTS)\n",
        "X,y = prepare_inputs_len_x_alphabet(pc_test,nc_test,ALPHABET)\n",
        "best_model=load_model(MODELPATH)\n",
        "scores = best_model.evaluate(X, y, verbose=0)\n",
        "print(\"The best model parameters were saved during cross-validation.\")\n",
        "print(\"Best was defined as maximum validation accuracy at end of any epoch.\")\n",
        "print(\"Now re-load the best model and test it on previously unseen data.\")\n",
        "print(\"Test on\",len(pc_test),\"PC seqs\")\n",
        "print(\"Test on\",len(nc_test),\"NC seqs\")\n",
        "print(\"%s: %.2f%%\" % (best_model.metrics_names[1], scores[1]*100))\n"
      ],
      "execution_count": 10,
      "outputs": [
        {
          "output_type": "stream",
          "text": [
            "The best model parameters were saved during cross-validation.\n",
            "Best was defined as maximum validation accuracy at end of any epoch.\n",
            "Now re-load the best model and test it on previously unseen data.\n",
            "Test on 1000 PC seqs\n",
            "Test on 1000 NC seqs\n",
            "accuracy: 96.50%\n"
          ],
          "name": "stdout"
        }
      ]
    },
    {
      "cell_type": "code",
      "metadata": {
        "colab": {
          "base_uri": "https://localhost:8080/",
          "height": 312
        },
        "id": "VycUnmvUj2Ue",
        "outputId": "8d47cf01-cbdb-42ef-8d4f-d58c1278d740"
      },
      "source": [
        "from sklearn.metrics import roc_curve\n",
        "from sklearn.metrics import roc_auc_score\n",
        "ns_probs = [0 for _ in range(len(y))]\n",
        "bm_probs = best_model.predict(X)\n",
        "ns_auc = roc_auc_score(y, ns_probs)\n",
        "bm_auc = roc_auc_score(y, bm_probs)\n",
        "ns_fpr, ns_tpr, _ = roc_curve(y, ns_probs)\n",
        "bm_fpr, bm_tpr, _ = roc_curve(y, bm_probs)\n",
        "plt.plot(ns_fpr, ns_tpr, linestyle='--', label='Guess, auc=%.4f'%ns_auc)\n",
        "plt.plot(bm_fpr, bm_tpr, marker='.', label='Model, auc=%.4f'%bm_auc)\n",
        "plt.title('ROC')\n",
        "plt.xlabel('False Positive Rate')\n",
        "plt.ylabel('True Positive Rate')\n",
        "plt.legend()\n",
        "plt.show()\n",
        "print(\"%s: %.2f%%\" %('AUC',bm_auc))\n"
      ],
      "execution_count": 11,
      "outputs": [
        {
          "output_type": "display_data",
          "data": {
            "image/png": "[encoded data removed]",
            "text/plain": [
              "<Figure size 432x288 with 1 Axes>"
            ]
          },
          "metadata": {
            "tags": [],
            "needs_background": "light"
          }
        },
        {
          "output_type": "stream",
          "text": [
            "AUC: 0.99%\n"
          ],
          "name": "stdout"
        }
      ]
    },
    {
      "cell_type": "code",
      "metadata": {
        "colab": {
          "base_uri": "https://localhost:8080/",
          "height": 36
        },
        "id": "kFMb6rGNj2Ug",
        "outputId": "6fdc1e15-0e37-4ff7-eb92-755ccac7a92b"
      },
      "source": [
        "t = time.time()\n",
        "time.strftime('%Y-%m-%d %H:%M:%S %Z', time.localtime(t))"
      ],
      "execution_count": 12,
      "outputs": [
        {
          "output_type": "execute_result",
          "data": {
            "application/vnd.google.colaboratory.intrinsic+json": {
              "type": "string"
            },
            "text/plain": [
              "'2021-05-18 12:08:54 UTC'"
            ]
          },
          "metadata": {
            "tags": []
          },
          "execution_count": 12
        }
      ]
    }
  ]
}