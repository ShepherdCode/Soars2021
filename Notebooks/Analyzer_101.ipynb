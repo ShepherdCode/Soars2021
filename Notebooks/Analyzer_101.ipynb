{
  "nbformat": 4,
  "nbformat_minor": 0,
  "metadata": {
    "colab": {
      "name": "Analyzer_101.ipynb",
      "provenance": [],
      "collapsed_sections": []
    },
    "kernelspec": {
      "name": "python3",
      "display_name": "Python 3"
    },
    "language_info": {
      "name": "python"
    }
  },
  "cells": [
    {
      "cell_type": "markdown",
      "metadata": {
        "id": "QxjDXgzOuzm9"
      },
      "source": [
        "##Analyzer\n",
        "\n",
        "Statistically and visually compare mRNA and lncRNA sequences from GenCode.v38.\n",
        "\n",
        "Assume user downloaded files from GenCode38 [FTP](http://ftp.ebi.ac.uk/pub/databases/gencode/Gencode_human/release_38/)\n",
        "to a subdirectory called data."
      ]
    },
    {
      "cell_type": "markdown",
      "metadata": {
        "id": "CWH1hul6uKub"
      },
      "source": [
        "##Import Dependencies\n"
      ]
    },
    {
      "cell_type": "code",
      "metadata": {
        "colab": {
          "base_uri": "https://localhost:8080/"
        },
        "id": "cMB8T39CuJ2Y",
        "outputId": "353cc502-77b9-411b-b3cd-d994dca4f84a"
      },
      "source": [
        "import numpy as np\n",
        "import matplotlib.pyplot as plt\n",
        "import random\n",
        "\n",
        "import pandas as pd\n",
        "import gzip\n",
        "from scipy.stats import chisquare, kstest\n",
        "import sys\n",
        "try:\n",
        "    from google.colab import drive\n",
        "    IN_COLAB = True\n",
        "    print(\"On Google CoLab, mount cloud-local file, get our code from GitHub.\")\n",
        "    PATH='/content/drive/'\n",
        "    #drive.mount(PATH,force_remount=True)  # hardly ever need this\n",
        "    drive.mount(PATH)    # Google will require login credentials\n",
        "    DATAPATH=PATH+'My Drive/data/'  # must end in \"/\"\n",
        "    import requests\n",
        "    s = requests.get('https://raw.githubusercontent.com/ShepherdCode/Soars2021/master/SimTools/RNA_describe.py')\n",
        "    with open('RNA_describe.py', 'w') as f:\n",
        "      f.write(s.text)  # writes to cloud local, delete the file later?\n",
        "    s = requests.get('https://raw.githubusercontent.com/ShepherdCode/Soars2021/master/SimTools/GenCodeTools.py')\n",
        "    with open ('GenCodeTools.py', 'w') as f:\n",
        "      f.write(s.text)\n",
        "    s = requests.get('https://raw.githubusercontent.com/ShepherdCode/Soars2021/master/SimTools/plot_generator.py')\n",
        "    with open('plot_generator.py', 'w') as f:\n",
        "      f.write(s.text)\n",
        "    s = requests.get('https://raw.githubusercontent.com/ShepherdCode/Soars2021/master/SimTools/KmerTools.py')\n",
        "    with open('KmerTools.py', 'w') as f:\n",
        "      f.write(s.text)  \n",
        "    from KmerTools import KmerTools\n",
        "    from RNA_describe import *\n",
        "    from GenCodeTools import *\n",
        "    from plot_generator import *\n",
        "except:\n",
        "    print(\"CoLab not working. On my PC, use relative paths.\")\n",
        "    IN_COLAB = False\n",
        "    DATAPATH='../data/'  # must end in \"/\"\n",
        "    sys.path.append(\"..\") # append parent dir in order to use sibling dirs\n",
        "    from SimTools.RNA_describe import *\n",
        "    from SimTools.GenCodeTools import *\n",
        "    from SimTools.plot_generator import *\n",
        "    from SimTools.KmerTools import KmerTools\n",
        "\n",
        "MODELPATH=\"BestModel\"  # saved on cloud instance and lost after logout\n",
        "#MODELPATH=DATAPATH+MODELPATH  # saved on Google Drive but requires login\n",
        "\n",
        "if not assert_imported_RNA_describe():\n",
        "    print(\"ERROR: Cannot use RNA_describe.\")"
      ],
      "execution_count": 1,
      "outputs": [
        {
          "output_type": "stream",
          "text": [
            "On Google CoLab, mount cloud-local file, get our code from GitHub.\n",
            "Drive already mounted at /content/drive/; to attempt to forcibly remount, call drive.mount(\"/content/drive/\", force_remount=True).\n"
          ],
          "name": "stdout"
        }
      ]
    },
    {
      "cell_type": "markdown",
      "metadata": {
        "id": "T8RNNlZGsZN5"
      },
      "source": [
        "##Load GenCode Data\n",
        "Loads GenCode.v38 data.\n",
        "\n",
        "Filters out mRNA sequences based on UTR check."
      ]
    },
    {
      "cell_type": "code",
      "metadata": {
        "colab": {
          "base_uri": "https://localhost:8080/"
        },
        "id": "37JnfHgWt_-U",
        "outputId": "95e2d6f7-9270-4898-d633-46fb2d0e6e40"
      },
      "source": [
        "PC_FILENAME='gencode.v38.pc_transcripts.fa.gz'\n",
        "NC_FILENAME='gencode.v38.lncRNA_transcripts.fa.gz'\n",
        "PC_FULLPATH=DATAPATH+PC_FILENAME\n",
        "NC_FULLPATH=DATAPATH+NC_FILENAME\n",
        "loader=GenCodeLoader()\n",
        "loader.set_label(1)\n",
        "loader.set_check_list(None) \n",
        "loader.set_check_utr(True)\n",
        "pcdf=loader.load_file(PC_FULLPATH)\n",
        "print(\"PC seqs loaded:\",len(pcdf))\n",
        "loader.set_label(0)\n",
        "loader.set_check_list(None)\n",
        "loader.set_check_utr(False)\n",
        "ncdf=loader.load_file(NC_FULLPATH)\n",
        "print(\"NC seqs loaded:\",len(ncdf))"
      ],
      "execution_count": 2,
      "outputs": [
        {
          "output_type": "stream",
          "text": [
            "PC seqs loaded: 70825\n",
            "NC seqs loaded: 48752\n"
          ],
          "name": "stdout"
        }
      ]
    },
    {
      "cell_type": "markdown",
      "metadata": {
        "id": "J0y1XAPLvr_G"
      },
      "source": [
        "##Process Sequences\n",
        "Sampling, binning, length constraints, etc.\n"
      ]
    },
    {
      "cell_type": "code",
      "metadata": {
        "id": "6V7WMCLN3l1q"
      },
      "source": [
        "APPLY_SUBSET = True             #Option to subset the data\n",
        "MINIMUM_SEQUENCE_LENGTH = 200   #Minimum exclusive length to filter out sequences by\n",
        "MAXIMUM_SEQUENCE_LENGTH = 4000  #Maximum inclusive length to filter out sequences by\n",
        "SAMPLE_FRACTION = 1             #What fraction of the GenCode data set to take a sample of\n",
        "REPRODUCABILITY_SEED = 314159   #Use to reproduce random sampling"
      ],
      "execution_count": 3,
      "outputs": []
    },
    {
      "cell_type": "code",
      "metadata": {
        "colab": {
          "base_uri": "https://localhost:8080/"
        },
        "id": "ANtZknso53FT",
        "outputId": "9b224df8-a97c-48c8-c4af-7ec242f345ea"
      },
      "source": [
        "if APPLY_SUBSET:\n",
        "  pcdf = pcdf.sample(frac=SAMPLE_FRACTION, random_state=REPRODUCABILITY_SEED)\n",
        "  ncdf = ncdf.sample(frac=SAMPLE_FRACTION, random_state=REPRODUCABILITY_SEED)\n",
        "\n",
        "  print('PC sample size:', len(pcdf))\n",
        "  print('NC sample size:', len(ncdf))"
      ],
      "execution_count": 4,
      "outputs": [
        {
          "output_type": "stream",
          "text": [
            "PC sample size: 70825\n",
            "NC sample size: 48752\n"
          ],
          "name": "stdout"
        }
      ]
    },
    {
      "cell_type": "code",
      "metadata": {
        "id": "7ga4K3Aw4sJd"
      },
      "source": [
        "def subset_list_by_len_bounds(input_list, min_len, max_len):\n",
        "  return list(filter(lambda x: len(x) > min_len and len(x) <= max_len, input_list))"
      ],
      "execution_count": 5,
      "outputs": []
    },
    {
      "cell_type": "code",
      "metadata": {
        "colab": {
          "base_uri": "https://localhost:8080/"
        },
        "id": "D7pejW0g1lnR",
        "outputId": "6e95dc67-cc51-4711-df18-ba964d57f5de"
      },
      "source": [
        "pc_sequences = pcdf['sequence'].tolist()\n",
        "nc_sequences = ncdf['sequence'].tolist()\n",
        "\n",
        "if APPLY_SUBSET:\n",
        "  pc_sequences = subset_list_by_len_bounds(pc_sequences, MINIMUM_SEQUENCE_LENGTH, MAXIMUM_SEQUENCE_LENGTH)\n",
        "  nc_sequences = subset_list_by_len_bounds(nc_sequences, MINIMUM_SEQUENCE_LENGTH, MAXIMUM_SEQUENCE_LENGTH)\n",
        "\n",
        "  print('PC seqs in length range','('+str(MINIMUM_SEQUENCE_LENGTH),'-',str(MAXIMUM_SEQUENCE_LENGTH)+'):', len(pc_sequences))\n",
        "  print('NC seqs in length range','('+str(MINIMUM_SEQUENCE_LENGTH),'-',str(MAXIMUM_SEQUENCE_LENGTH)+'):', len(nc_sequences))\n",
        "\n",
        "#Garbage collection\n",
        "pcdf = None\n",
        "ncdf = None"
      ],
      "execution_count": 6,
      "outputs": [
        {
          "output_type": "stream",
          "text": [
            "PC seqs in length range (200 - 4000): 55381\n",
            "NC seqs in length range (200 - 4000): 46912\n"
          ],
          "name": "stdout"
        }
      ]
    },
    {
      "cell_type": "markdown",
      "metadata": {
        "id": "mZq-IPZe2KAn"
      },
      "source": [
        "##Generate Simulated Sequences\n",
        "\n",
        "Generate fake sequences for now to test plots\n",
        "\n",
        "---"
      ]
    },
    {
      "cell_type": "code",
      "metadata": {
        "id": "KuPgFeXI1npe"
      },
      "source": [
        "NUM_FAKE_SEQS_PER_LENGTH = 10\n",
        "random.seed(REPRODUCABILITY_SEED)\n",
        "fake_sequences = []\n",
        "for length in range(MINIMUM_SEQUENCE_LENGTH + 1, MAXIMUM_SEQUENCE_LENGTH + 1):\n",
        "  for size in range(0, NUM_FAKE_SEQS_PER_LENGTH):\n",
        "    sequence = ''.join(random.choices(['A', 'C', 'G', 'T'], k=length))\n",
        "    fake_sequences.append(sequence)"
      ],
      "execution_count": 7,
      "outputs": []
    },
    {
      "cell_type": "markdown",
      "metadata": {
        "id": "4k6CG3pCveOY"
      },
      "source": [
        "##Generate Statistics"
      ]
    },
    {
      "cell_type": "markdown",
      "metadata": {
        "id": "FhdVaD5VBKZh"
      },
      "source": [
        "\n",
        "Using KmerTools to get the K-mer counts upto 3.\n",
        "It returns the value in Dictionary form. (Key-Value Pair)"
      ]
    },
    {
      "cell_type": "code",
      "metadata": {
        "id": "MlIzMUBMBFG3"
      },
      "source": [
        "MAX_K = 3\n",
        "tool = KmerTools()\n",
        "\n",
        "pc_counts = tool.make_dict_upto_K(MAX_K)\n",
        "for sample in pc_sequences:\n",
        "    tool.update_count_one_K(pc_counts,MAX_K,sample,True)\n",
        "tool.harvest_counts_from_K(pc_counts,MAX_K)\n",
        "pc_freqs = tool.count_to_frequency(pc_counts,MAX_K)\n",
        "\n",
        "nc_counts = tool.make_dict_upto_K(MAX_K)\n",
        "for sample in nc_sequences:\n",
        "    tool.update_count_one_K(nc_counts,MAX_K,sample,True)\n",
        "tool.harvest_counts_from_K(nc_counts,MAX_K)\n",
        "nc_freqs = tool.count_to_frequency(nc_counts,MAX_K)\n",
        "\n",
        "fake_counts = tool.make_dict_upto_K(MAX_K)\n",
        "for sample in fake_sequences:\n",
        "  tool.update_count_one_K(fake_counts, MAX_K, sample, True)\n",
        "tool.harvest_counts_from_K(fake_counts, MAX_K)\n",
        "fake_freqs = tool.count_to_frequency(fake_counts, MAX_K)\n",
        "\n",
        "\n",
        "#Garbage collection\n",
        "pc_counts = None\n",
        "nc_counts = None\n",
        "fake_counts = None"
      ],
      "execution_count": 8,
      "outputs": []
    },
    {
      "cell_type": "markdown",
      "metadata": {
        "id": "Wc3GALLxBbx2"
      },
      "source": [
        "This function takes a dictionary as a parameter. It checks the length of the key to determine if it is 1-mer, 2-mer or 3 mer and assign the values respectively. "
      ]
    },
    {
      "cell_type": "code",
      "metadata": {
        "id": "ApuWlBClBXpe"
      },
      "source": [
        "def get_stats(dict):\n",
        "  one_mer = []\n",
        "  one_mer_key = []\n",
        "  two_mer= []\n",
        "  two_mer_key=[]\n",
        "  three_mer= []\n",
        "  three_mer_key=[]\n",
        "  for sequence in enumerate(dict.items()):\n",
        "    if(len(sequence[1][0])==1):\n",
        "      one_mer.append(sequence[1][1])\n",
        "      one_mer_key.append(sequence[1][0])\n",
        "    if(len(sequence[1][0])==2):\n",
        "      two_mer.append(sequence[1][1])\n",
        "      two_mer_key.append(sequence[1][0])\n",
        "    if(len(sequence[1][0])==3):\n",
        "      three_mer.append(sequence[1][1])\n",
        "      three_mer_key.append(sequence[1][0])\n",
        "  return one_mer_key, one_mer, two_mer_key,two_mer, three_mer_key, three_mer"
      ],
      "execution_count": 9,
      "outputs": []
    },
    {
      "cell_type": "code",
      "metadata": {
        "id": "1Dz2OrqbBmgE"
      },
      "source": [
        "#Gets the list  of 1-mer, 2-mer and 3-mer counts along with their key\n",
        "#In the order of Key-Value. \n",
        "pc_stats = get_stats(pc_freqs)\n",
        "nc_stats = get_stats(nc_freqs)\n",
        "fake_stats = get_stats(fake_freqs)\n",
        "\n",
        "#1-mer\n",
        "one_mer_pc = np.asarray(pc_stats[1])\n",
        "one_mer_nc = np.asarray(nc_stats[1])\n",
        "one_mer_fake = np.asarray(fake_stats[1])\n",
        "#2-mer\n",
        "two_mer_pc = np.asarray(pc_stats[3])\n",
        "two_mer_nc = np.asarray(nc_stats[3])\n",
        "two_mer_fake = np.asarray(fake_stats[3])\n",
        "#3-mer\n",
        "three_mer_pc = np.asarray(pc_stats[5])\n",
        "three_mer_nc = np.asarray(nc_stats[5])\n",
        "three_mer_fake = np.asarray(fake_stats[5])\n",
        "\n",
        "#Keys that can be used as labels.\n",
        "one_mer_keys = pc_stats[0]\n",
        "two_mer_keys = pc_stats[2]\n",
        "three_mer_keys = pc_stats[4]\n",
        "\n",
        "#Garbage collection\n",
        "pc_freqs = None\n",
        "nc_freqs = None\n",
        "fake_freqs = None\n",
        "pc_stats = None\n",
        "nc_stats = None\n",
        "fake_stats = None"
      ],
      "execution_count": 10,
      "outputs": []
    },
    {
      "cell_type": "code",
      "metadata": {
        "id": "u8XDvm3i5nG7"
      },
      "source": [
        "oc = ORF_counter()\n",
        "\n",
        "pc_max_orf_len = np.empty(1, dtype=object)\n",
        "nc_max_orf_len = np.empty(1, dtype=object)\n",
        "pc_max_orf_len[0] = np.zeros(len(pc_sequences))\n",
        "nc_max_orf_len[0] = np.zeros(len(nc_sequences))\n",
        "\n",
        "for i in range(len(pc_sequences)):\n",
        "  oc.set_sequence(pc_sequences[i])\n",
        "  pc_max_orf_len[0][i] = oc.get_max_orf_len()\n",
        "for i in range(len(nc_sequences)):\n",
        "  oc.set_sequence(nc_sequences[i])\n",
        "  nc_max_orf_len[0][i] = oc.get_max_orf_len()"
      ],
      "execution_count": 11,
      "outputs": []
    },
    {
      "cell_type": "markdown",
      "metadata": {
        "id": "8Xq9mfp3H74S"
      },
      "source": [
        "Using Correlation to see if the total length of series have any relation to the length of ORF. "
      ]
    },
    {
      "cell_type": "code",
      "metadata": {
        "id": "w4LH8MEN7GKD"
      },
      "source": [
        "pc_seq_len = []\n",
        "for i in range(len(pc_sequences)):\n",
        "  pc_seq_len.append(len(pc_sequences[i]))\n",
        "pc_seq_len = np.asarray(pc_seq_len)\n",
        "pc_seq_len_orf_len_corrcoef = np.corrcoef(pc_seq_len, pc_max_orf_len[0])"
      ],
      "execution_count": 12,
      "outputs": []
    },
    {
      "cell_type": "code",
      "metadata": {
        "id": "i0pYce2tM8z9"
      },
      "source": [
        "nc_seq_len = []\n",
        "for i in range(len(nc_sequences)):\n",
        "  nc_seq_len.append(len(nc_sequences[i]))\n",
        "nc_seq_len = np.asarray(nc_seq_len)\n",
        "nc_seq_len_orf_len_corrcoef = np.corrcoef(nc_seq_len, nc_max_orf_len[0])"
      ],
      "execution_count": 13,
      "outputs": []
    },
    {
      "cell_type": "markdown",
      "metadata": {
        "id": "sSZUi6IdYDBK"
      },
      "source": [
        "KS-Similarity Test\n",
        "Not sure how it works but lets give it a shot. "
      ]
    },
    {
      "cell_type": "code",
      "metadata": {
        "colab": {
          "base_uri": "https://localhost:8080/"
        },
        "id": "IBA-UEPgYCcK",
        "outputId": "272d346d-0c16-468e-c128-002f3f8a2524"
      },
      "source": [
        "x = kstest(two_mer_pc, \"norm\")\n",
        "print(x)"
      ],
      "execution_count": 14,
      "outputs": [
        {
          "output_type": "stream",
          "text": [
            "KstestResult(statistic=0.5115679341926332, pvalue=0.00020704247837182745)\n"
          ],
          "name": "stdout"
        }
      ]
    },
    {
      "cell_type": "markdown",
      "metadata": {
        "id": "4pFBfhxPvkxI"
      },
      "source": [
        "##Results"
      ]
    },
    {
      "cell_type": "code",
      "metadata": {
        "id": "8hWYWuiIeSqR"
      },
      "source": [
        "data_set_names = ['mRNA', 'lncRNA', 'fake']"
      ],
      "execution_count": 15,
      "outputs": []
    },
    {
      "cell_type": "code",
      "metadata": {
        "colab": {
          "base_uri": "https://localhost:8080/",
          "height": 1000
        },
        "id": "lrE3WojZPRMx",
        "outputId": "de9659a0-02f4-414c-a524-ff8dc7bc25ce"
      },
      "source": [
        "pg = PlotGenerator()\n",
        "pg.set_text_options(90, 'right', 0, 'center', 12)\n",
        "\n",
        "pg.set_text('1-Mer Frequencies', 'Mers', 'Frequency', one_mer_keys, None)\n",
        "pg.bar_plot([one_mer_pc, one_mer_nc, one_mer_fake], data_set_names)\n",
        "\n",
        "pg.set_text_options(90, 'right', 0, 'center', 8)\n",
        "pg.set_text('2-Mer Frequencies', 'Mers', 'Frequency', two_mer_keys, None)\n",
        "pg.bar_plot([two_mer_pc, two_mer_nc, two_mer_fake], data_set_names)\n",
        "\n",
        "pg.set_figure_options(width=16)\n",
        "pg.set_text_options(90, 'right', 0, 'center', 6)\n",
        "pg.set_text('3-Mer Frequencies', 'Mers', 'Frequency', three_mer_keys, None)\n",
        "pg.bar_plot([three_mer_pc, three_mer_nc, three_mer_fake], data_set_names)\n",
        "\n",
        "pg.set_figure_options()\n",
        "pg.set_text_options(45, 'right', 0, 'center', 12)\n",
        "pg.set_text('Max ORF Lengths', 'RNA Types', 'Max ORF Length', [''], None)\n",
        "pg.box_plot([pc_max_orf_len, nc_max_orf_len], ['mRNA', 'lncRNA'], False)\n",
        "\n",
        "pg.set_text('mRNA ORF Length vs Sequence Length', 'Sequence Length', 'ORF Length', None, None)\n",
        "pg.scatter_plot(pc_seq_len, pc_max_orf_len[0], trendline=True)\n",
        "print('mRNA Sequence Length ORF Length Correlation Coefficient:')\n",
        "print('\\t', pc_seq_len_orf_len_corrcoef)\n",
        "\n",
        "pg.set_text('lncRNA ORF Length vs Sequence Length', 'Sequence Length', 'ORF Length', None, None)\n",
        "pg.scatter_plot(nc_seq_len, nc_max_orf_len[0], trendline=True)\n",
        "print('lnc Sequence Length ORF Length Correlation Coefficient:')\n",
        "print('\\t', nc_seq_len_orf_len_corrcoef)"
      ],
      "execution_count": 25,
      "outputs": [
        {
          "output_type": "display_data",
          "data": {
            "image/png": "[encoded data removed]",
            "text/plain": [
              "<Figure size 460.8x345.6 with 1 Axes>"
            ]
          },
          "metadata": {
            "tags": [],
            "needs_background": "light"
          }
        },
        {
          "output_type": "display_data",
          "data": {
            "image/png": "[encoded data removed]",
            "text/plain": [
              "<Figure size 460.8x345.6 with 1 Axes>"
            ]
          },
          "metadata": {
            "tags": [],
            "needs_background": "light"
          }
        },
        {
          "output_type": "display_data",
          "data": {
            "image/png": "[encoded data removed]",
            "text/plain": [
              "<Figure size 1152x345.6 with 1 Axes>"
            ]
          },
          "metadata": {
            "tags": [],
            "needs_background": "light"
          }
        },
        {
          "output_type": "display_data",
          "data": {
            "image/png": "[encoded data removed]",
            "text/plain": [
              "<Figure size 460.8x345.6 with 1 Axes>"
            ]
          },
          "metadata": {
            "tags": [],
            "needs_background": "light"
          }
        },
        {
          "output_type": "display_data",
          "data": {
            "image/png": "[encoded data removed]",
            "text/plain": [
              "<Figure size 460.8x345.6 with 1 Axes>"
            ]
          },
          "metadata": {
            "tags": [],
            "needs_background": "light"
          }
        },
        {
          "output_type": "stream",
          "text": [
            "mRNA Sequence Length ORF Length Correlation Coefficient:\n",
            "\t [[1.         0.71390581]\n",
            " [0.71390581 1.        ]]\n"
          ],
          "name": "stdout"
        },
        {
          "output_type": "display_data",
          "data": {
            "image/png": "[encoded data removed]",
            "text/plain": [
              "<Figure size 460.8x345.6 with 1 Axes>"
            ]
          },
          "metadata": {
            "tags": [],
            "needs_background": "light"
          }
        },
        {
          "output_type": "stream",
          "text": [
            "lnc Sequence Length ORF Length Correlation Coefficient:\n",
            "\t [[1.         0.46745122]\n",
            " [0.46745122 1.        ]]\n"
          ],
          "name": "stdout"
        }
      ]
    }
  ]
}