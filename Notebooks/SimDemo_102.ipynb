{
 "cells": [
  {
   "cell_type": "markdown",
   "metadata": {},
   "source": [
    "# RNA Simulator from NASA Spring 2021\n",
    "This simulator was developed by Keagen Thomson during his NASA fellowship with John Little. \n",
    "\n",
    "The original ORF generator was at:[ShepherdCode/SheperdML/Nasa2021/GenFASTA.py](https://github.com/ShepherdCode/ShepherdML/blob/master/Nasa2021/GenFASTA.py)\n",
    "\n",
    "The companion ORF finder was at:[ShepherdCode/SheperdML/Nasa2021/PyORF.py]()\n",
    "\n",
    "TO DO: Transform this code from a notebook into a SimTools module."
   ]
  },
  {
   "cell_type": "code",
   "execution_count": 1,
   "metadata": {},
   "outputs": [],
   "source": [
    "import random\n",
    "import itertools\n",
    "#import os\n",
    "import sys\n",
    "\n",
    "sys.path.append(\"..\")\n",
    "from SimTools.RNA_describe import ORF_counter"
   ]
  },
  {
   "cell_type": "code",
   "execution_count": 2,
   "metadata": {},
   "outputs": [],
   "source": [
    "Pairs = (\"A\",\"C\", \"G\", \"T\")\n",
    "Codons = itertools.product(Pairs, repeat=3)\n",
    "all_codons = [\"\".join(codon) for codon in Codons]\n",
    "start = \"ATG\"\n",
    "stop = (\"TAA\", \"TAG\", \"TGA\") \n",
    "no_stops = [codon for codon in all_codons if codon not in stop]"
   ]
  },
  {
   "cell_type": "markdown",
   "metadata": {},
   "source": [
    "Prepends a random A, G, C, or T for the input frame e.g. prepends 1 character if in frame 2, and 2 if in frame 3\n"
   ]
  },
  {
   "cell_type": "code",
   "execution_count": 3,
   "metadata": {},
   "outputs": [],
   "source": [
    "def shift_frame(input_seq,frame = 2):\n",
    "  output = input_seq\n",
    "  if frame in (1,2,3):\n",
    "    for i in range(frame-1):\n",
    "      output.insert(0, random.choice((\"A\",\"G\",\"C\",\"T\")))\n",
    "    return output\n",
    "  else:\n",
    "    raise ValueError(\"Frame Must Be 1, 2 or 3. Frame Entered: \" +frame)\n"
   ]
  },
  {
   "cell_type": "markdown",
   "metadata": {},
   "source": [
    "Places random codons length times, and uses choices from no_stops if coding, and all_codons if not coding"
   ]
  },
  {
   "cell_type": "code",
   "execution_count": 4,
   "metadata": {},
   "outputs": [],
   "source": [
    "def codon_placer(length, coding = True):\n",
    "  lno_stops = no_stops\n",
    "  lall_codons = all_codons\n",
    "\n",
    "  if coding == True:\n",
    "    return random.choices(lno_stops, k=length)\n",
    "  else:\n",
    "    return random.choices(lall_codons,k=length)"
   ]
  },
  {
   "cell_type": "markdown",
   "metadata": {},
   "source": [
    "Returns random indexes a start and stop codon should be placed arbitrarily chooses a variation within 1/3rd the 2nd and 4th Quintile"
   ]
  },
  {
   "cell_type": "code",
   "execution_count": 5,
   "metadata": {},
   "outputs": [],
   "source": [
    "def get_index_placement(total_codons):\n",
    "  quintile = total_codons // 5\n",
    "  variation = quintile // 3\n",
    "  start_placement = quintile + random.randint(-variation, variation)\n",
    "  stop_placement = (quintile*4) + random.randint(-variation, variation)\n",
    "  return start_placement, stop_placement"
   ]
  },
  {
   "cell_type": "markdown",
   "metadata": {},
   "source": [
    "Generates a random (hypothesized) coding or non-coding sequence of length characters in frame  \n",
    "length: Number of characters the sequence should be  \n",
    "coding: Whether or not the sequence should have stop codons placed, or randomly generated (True, False respectively)  \n",
    "frame: The frame the sequence should be in which determines how many bases are appended to the sequences start. Must be 1, 2 or 3"
   ]
  },
  {
   "cell_type": "code",
   "execution_count": 6,
   "metadata": {},
   "outputs": [],
   "source": [
    "def generate_seq(length, coding = False, frame = 1):\n",
    "  codons_to_place = (length//3) + 1\n",
    "\n",
    "  if coding and frame in (1,2,3):\n",
    "    start_index, stop_index = get_index_placement(codons_to_place)\n",
    "    UTR_5_len = start_index-1\n",
    "    orf_length = stop_index-start_index - 2\n",
    "    UTR_3_len = codons_to_place - stop_index + 1\n",
    "      \n",
    "    UTR_5 = codon_placer(UTR_5_len, False)\n",
    "    sequence_orf = codon_placer(orf_length, True)\n",
    "    sequence_orf.insert(0, start)\n",
    "    sequence_orf.append(random.choice(stop))\n",
    "    UTR_3 = codon_placer(UTR_3_len, False)\n",
    "\n",
    "    UTR_5.extend(sequence_orf)\n",
    "    UTR_5.extend(UTR_3)\n",
    "    output = shift_frame(UTR_5, frame)\n",
    "    output = ''.join(output)\n",
    "    # Unclear what last return pair represented.\n",
    "    #return output[0:length], coding, frame, (start_index, stop_index)\n",
    "    return output[0:length], coding, frame\n",
    "\n",
    "  elif not coding and frame in (1,2,3):\n",
    "    placed_codons = codon_placer(codons_to_place, coding)\n",
    "    output = shift_frame(placed_codons, frame)\n",
    "    output = ''.join(output)\n",
    "    return output[0:length] , coding, frame\n",
    "  else:\n",
    "    raise ValueError(\"Frame must be 1, 2 or 3\")"
   ]
  },
  {
   "cell_type": "markdown",
   "metadata": {},
   "source": [
    "Try using the code above."
   ]
  },
  {
   "cell_type": "code",
   "execution_count": 7,
   "metadata": {},
   "outputs": [],
   "source": [
    "PC=True\n",
    "NC=False\n",
    "RNA_LEN=15"
   ]
  },
  {
   "cell_type": "code",
   "execution_count": 8,
   "metadata": {},
   "outputs": [
    {
     "name": "stdout",
     "output_type": "stream",
     "text": [
      "('GATGGTCTAAGCTTT', True, 2)\n"
     ]
    }
   ],
   "source": [
    "seq1=generate_seq(RNA_LEN,PC,2)\n",
    "print(seq1)"
   ]
  },
  {
   "cell_type": "code",
   "execution_count": 9,
   "metadata": {},
   "outputs": [
    {
     "name": "stdout",
     "output_type": "stream",
     "text": [
      "PC count 1000\n",
      "CACTTACCAACGACCTTTGATAACCGCATGGCTAGCGAGGACGTAACGCTGGCCTAACTCTCATGATAATCGATCCACACGGACACCCACTTCCAACGAGCGTAAATCAACCTTCTATTTCCACTGATGAGGATAGGGCGCACTTTTCTAATAACCTTGGATGCAGTCAATCCACCCAGTGTTTCGTGTGGAAAACCGCTTTGGACCGGTCAGTCGCAGTTACCCGAGCCTATGTCGCTAAAAAGTAATGCTTCTATGTGCTACAATGTCTATTCCGGAGTGATGTACTACTGGGCTATTCGTCATCCGGTGGTTTCCATGAAGGCAGACAACTTTGCGAGAAGAGTGAGCAGGTGCCCTCGACCGTACCTGGTGCCAGTTTCGCGGGCTACTGGTATTTGTCCAAACAACCTGGTTGAGATAAAATTAATTAGTATCGGGTACCTAGACCCGTGCCACGGTTATAGCTGTAGCAGGCGTAGCCGTCTACTGTGCCTCGCCCCTGGCGTAATTCTATACATTAAATGCCGGTCCGTCACGCCATTAGGGACGCCTAGTGGCATGACACTAGGGGAGCTGAGACATTGTAGTGTTCATCACGCGACCGCCAACTGGCTACAGCAATCTAAATCATCTCAAATAAATTGCTTCGGTGCAGAACTTGTGGTTTGTGACTGGCGTCAAATCTGTGGAATGATCAATAGAGGCACATCCGTGGTGACATTCATATAAATTAGCAGACCATGTAACTTGCCACGAATCTTTCACGCAGGCTATGGCTACCCGATCGAGGTTTCTCAGGCTAGTAGTTTTACCTAGGGGCCGGGTCTGTCGGGGGTGCGGGCCCGTGACAGGTTCGATCATAAGTGCTCGGACCGGGACATGCCGCACAACGATTATGGCCCTCCGATCGCCTCCTTCTTTGTTGCATCACGTAGCCTATTCGACAAAATGTAAGTCAGTTGGCCGTATCTACCCTCATAGAACATATCCACCCGTT\n",
      "NC count 1000\n",
      "GCGGTGGCCCCGATGCGTTCAGTTTACTCTAAGAATGTACCGATCTAACCACCGGAGGCATTATGAACGCGACCAGTTGACGAGCCATATCGCCCTTGCTGGAGTGTGCAGGTACTTCATTGAAAGGCCATGGTTGAGGTGCCATTCTAGAGATTATTGGCGGTGGCTTCCGAATATAACAGGAATTTCTTCAAGCTCGTAGCCCTTCGGTTTAACGTGGCAAGGCCCTGTAGAGAAGTGCTGCATCTTCAGTGGATGTATAGTCTCTTTCCTGCAAGCCGCAGGCAAGGAGATTCTGCATGAAAGGTGTCCAGCGTTCAAGAGAAATAGTATCTTATATGGCATCAGGACGCTACGTTTGCAAACAGATTCGCCCCACGGACATCCACTTACCGCGTTGCCTACGAGATTAGGTAACAGCGCACAGGTGTAGGATGCACGTTTCGGTTATAGTTTCGGTGTTGCAGCATCTGATTACACTATATTGTCGATGCGCATGTAATTAGAGTGGTGCCATATATAAATTTGGCTCCACCTCGGTCGGGGCTCTTAAATGGTGAATTAGTTAAACCTTAAGGTTAGAGCTAGCTGCCCTCGTCCCACTGTGCGTTAAATCGCTCCGACCACCAGTGGCAGTTTCATAGAAGCCTCGTGGTAAGGATACTTTCCAAAAGCGTGTTTTCCATAACGAAGCTCCCGGTGGATTAACGTCTTACCCATGCTTATTGAATCGCGCATCCCAGATTTGATGCACCTACTACGTTACCTCTGAAGCAGTGGTAATTTCTAAATTCCGATAGCCGCTGCTGGCCTTTTCTTTTGAAGCACCCCACTACCCGTAGTGCCGGGTAGGCGTTATGATGCTATGCGTCATTGTCTGCCAGATTAGGGTCCATGCACCCAGCCGAAATGAAGCACAGACGTACGATGAAGATGGGTTAGTTCGCGAGTCACGCAGTAAGTCAGGCGTTTATTGTAAATACGGGATGCGTGCTTCGTT\n"
     ]
    }
   ],
   "source": [
    "RNA_LEN=1000\n",
    "PC_SAMPLES=1000\n",
    "NC_SAMPLES=1000\n",
    "pc_all=[]\n",
    "nc_all=[]\n",
    "frame=1\n",
    "for i in range(0,PC_SAMPLES):\n",
    "    rec=generate_seq(RNA_LEN,NC)\n",
    "    seq=rec[0]\n",
    "    nc_all.append(seq)\n",
    "    rec=generate_seq(RNA_LEN,PC,frame)\n",
    "    seq=rec[0]\n",
    "    pc_all.append(seq)\n",
    "    frame += 1\n",
    "    if frame>3:\n",
    "        frame=1\n",
    "print(\"PC count\",len(pc_all))\n",
    "print(pc_all[0])\n",
    "print(\"NC count\",len(nc_all))\n",
    "print(nc_all[0])    "
   ]
  },
  {
   "cell_type": "markdown",
   "metadata": {},
   "source": [
    "Evaluate the results above"
   ]
  },
  {
   "cell_type": "code",
   "execution_count": 10,
   "metadata": {},
   "outputs": [
    {
     "name": "stdout",
     "output_type": "stream",
     "text": [
      "Simulated sequences:\n",
      "PC seqs\n",
      "Average RNA length: 1000.0\n",
      "Average ORF length: 602.361\n",
      "NC seqs\n",
      "Average RNA length: 1000.0\n",
      "Average ORF length: 182.031\n"
     ]
    }
   ],
   "source": [
    "oc = ORF_counter()\n",
    "print(\"Simulated sequences:\")\n",
    "print(\"PC seqs\")\n",
    "oc.describe_sequences(pc_all)\n",
    "print(\"NC seqs\")\n",
    "oc.describe_sequences(nc_all)"
   ]
  }
 ],
 "metadata": {
  "kernelspec": {
   "display_name": "Python 3",
   "language": "python",
   "name": "python3"
  },
  "language_info": {
   "codemirror_mode": {
    "name": "ipython",
    "version": 3
   },
   "file_extension": ".py",
   "mimetype": "text/x-python",
   "name": "python",
   "nbconvert_exporter": "python",
   "pygments_lexer": "ipython3",
   "version": "3.8.3"
  }
 },
 "nbformat": 4,
 "nbformat_minor": 2
}
