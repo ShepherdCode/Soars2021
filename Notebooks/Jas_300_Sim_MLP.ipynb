{
 "cells": [
  {
   "cell_type": "markdown",
   "metadata": {
    "id": "ojm_6E9f9Kcf"
   },
   "source": [
    "# MLP on Simulated ORFs  \n",
    "Start with ORF_MLP_118 which had the simulator bug fix.  \n",
    "Evaluate MLP that is wide and deep.  \n",
    "Train on copious simulated data.  \n",
    "Use uniform but realistic RNA lengths.  "
   ]
  },
  {
   "cell_type": "code",
   "execution_count": 1,
   "metadata": {
    "colab": {
     "base_uri": "https://localhost:8080/"
    },
    "id": "RmPF4h_YI_sT",
    "outputId": "2c427931-c1aa-4101-cef2-847c69d1384e"
   },
   "outputs": [
    {
     "name": "stdout",
     "output_type": "stream",
     "text": [
      "2021-08-16 07:51:42 EDT\n"
     ]
    }
   ],
   "source": [
    "import time\n",
    "def show_time():\n",
    "    t = time.time()\n",
    "    print(time.strftime('%Y-%m-%d %H:%M:%S %Z', time.localtime(t)))\n",
    "show_time()"
   ]
  },
  {
   "cell_type": "code",
   "execution_count": 2,
   "metadata": {
    "id": "NEbXt5N4I_sc"
   },
   "outputs": [],
   "source": [
    "PC_TRAINS=1000\n",
    "NC_TRAINS=1000\n",
    "PC_TESTS=1000\n",
    "NC_TESTS=1000   \n",
    "RNA_LEN=1000  \n",
    "MAX_K = 3 \n",
    "INPUT_SHAPE=(None,84)  # 4^3 + 4^2 + 4^1\n",
    "NEURONS=128\n",
    "DROP_RATE=0.30\n",
    "EPOCHS=10 # 200\n",
    "SPLITS=3\n",
    "FOLDS=1   # make this 5 for serious testing"
   ]
  },
  {
   "cell_type": "code",
   "execution_count": 3,
   "metadata": {
    "id": "VQY7aTj29Kch"
   },
   "outputs": [
    {
     "name": "stderr",
     "output_type": "stream",
     "text": [
      "2021-08-16 07:51:42.625793: I tensorflow/stream_executor/platform/default/dso_loader.cc:53] Successfully opened dynamic library libcudart.so.11.0\n"
     ]
    }
   ],
   "source": [
    "import numpy as np\n",
    "import pandas as pd\n",
    "import matplotlib.pyplot as plt\n",
    "\n",
    "from sklearn.utils import shuffle \n",
    "from sklearn.model_selection import KFold\n",
    "from sklearn.model_selection import cross_val_score\n",
    "from sklearn.metrics import roc_curve\n",
    "from sklearn.metrics import roc_auc_score\n",
    "\n",
    "from keras.models import Sequential\n",
    "from keras.layers import Dense,Embedding,Dropout\n",
    "from keras.layers import Flatten,TimeDistributed\n",
    "from keras.losses import BinaryCrossentropy\n",
    "from keras.callbacks import ModelCheckpoint\n",
    "from keras.models import load_model"
   ]
  },
  {
   "cell_type": "code",
   "execution_count": 4,
   "metadata": {
    "colab": {
     "base_uri": "https://localhost:8080/"
    },
    "id": "xUxEB53HI_sk",
    "outputId": "2daf7679-5e1a-435c-91c3-eca3e6b172e1"
   },
   "outputs": [
    {
     "name": "stdout",
     "output_type": "stream",
     "text": [
      "CoLab not working. On my PC, use relative paths.\n"
     ]
    }
   ],
   "source": [
    "import sys\n",
    "IN_COLAB = False\n",
    "try:\n",
    "    from google.colab import drive\n",
    "    IN_COLAB = True\n",
    "except:\n",
    "    pass\n",
    "if IN_COLAB:\n",
    "    print(\"On Google CoLab, mount cloud-local file, get our code from GitHub.\")\n",
    "    PATH='/content/drive/'\n",
    "    #drive.mount(PATH,force_remount=True)  # hardly ever need this\n",
    "    drive.mount(PATH)    # Google will require login credentials\n",
    "    DATAPATH=PATH+'My Drive/data/'  # must end in \"/\"\n",
    "    import requests\n",
    "    r = requests.get('https://raw.githubusercontent.com/ShepherdCode/Soars2021/master/SimTools/RNA_describe.py')\n",
    "    with open('RNA_describe.py', 'w') as f:\n",
    "        f.write(r.text)  \n",
    "    from RNA_describe import ORF_counter\n",
    "    r = requests.get('https://raw.githubusercontent.com/ShepherdCode/Soars2021/master/SimTools/RNA_gen.py')\n",
    "    with open('RNA_gen.py', 'w') as f:\n",
    "        f.write(r.text)  \n",
    "    from RNA_gen import Collection_Generator, Transcript_Oracle\n",
    "    r = requests.get('https://raw.githubusercontent.com/ShepherdCode/Soars2021/master/SimTools/KmerTools.py')\n",
    "    with open('KmerTools.py', 'w') as f:\n",
    "        f.write(r.text)  \n",
    "    from KmerTools import KmerTools\n",
    "else:\n",
    "        print(\"CoLab not working. On my PC, use relative paths.\")\n",
    "        DATAPATH='data/'  # must end in \"/\"\n",
    "        sys.path.append(\"..\") # append parent dir in order to use sibling dirs\n",
    "        from SimTools.RNA_describe import ORF_counter\n",
    "        from SimTools.RNA_gen import Collection_Generator, Transcript_Oracle\n",
    "        from SimTools.KmerTools import KmerTools\n",
    "BESTMODELPATH=DATAPATH+\"BestModel\"  # saved on cloud instance and lost after logout\n",
    "LASTMODELPATH=DATAPATH+\"LastModel\"  # saved on Google Drive but requires login"
   ]
  },
  {
   "cell_type": "markdown",
   "metadata": {
    "id": "8buAhZRfI_sp"
   },
   "source": [
    "## Data Load\n"
   ]
  },
  {
   "cell_type": "code",
   "execution_count": 5,
   "metadata": {
    "colab": {
     "base_uri": "https://localhost:8080/"
    },
    "id": "821EDJ1gg1zj",
    "outputId": "8ab1803d-79d0-448b-98d0-75ed07bf15da"
   },
   "outputs": [
    {
     "name": "stdout",
     "output_type": "stream",
     "text": [
      "2021-08-16 07:51:43 EDT\n",
      "Generated 2000 PC seqs\n",
      "Generated 2000 NC seqs\n"
     ]
    }
   ],
   "source": [
    "show_time()\n",
    "def make_generators(seq_len):\n",
    "    pcgen = Collection_Generator()  \n",
    "    pcgen.get_len_oracle().set_mean(seq_len)\n",
    "    pcgen.set_seq_oracle(Transcript_Oracle())\n",
    "    ncgen = Collection_Generator()  \n",
    "    ncgen.get_len_oracle().set_mean(seq_len)\n",
    "    return pcgen,ncgen\n",
    "\n",
    "pc_sim,nc_sim = make_generators(RNA_LEN)\n",
    "pc_all = pc_sim.get_sequences(PC_TRAINS+PC_TESTS)\n",
    "nc_all = nc_sim.get_sequences(NC_TRAINS+NC_TESTS)\n",
    "print(\"Generated\",len(pc_all),\"PC seqs\")\n",
    "print(\"Generated\",len(nc_all),\"NC seqs\")\n",
    "pc_sim=None\n",
    "nc_sim=None"
   ]
  },
  {
   "cell_type": "code",
   "execution_count": 6,
   "metadata": {
    "colab": {
     "base_uri": "https://localhost:8080/"
    },
    "id": "aJBMFn1jhIB2",
    "outputId": "ecef2d76-d42a-4f3c-b2f4-07a4db459988"
   },
   "outputs": [
    {
     "name": "stdout",
     "output_type": "stream",
     "text": [
      "Simulated sequence characteristics:\n",
      "PC seqs\n",
      "Average RNA length: 1000.0\n",
      "Average ORF length: 674.8335\n",
      "NC seqs\n",
      "Average RNA length: 1000.0\n",
      "Average ORF length: 180.3675\n",
      "2021-08-16 07:51:43 EDT\n"
     ]
    }
   ],
   "source": [
    "# Describe the sequences\n",
    "def describe_sequences(list_of_seq):\n",
    "    oc = ORF_counter()\n",
    "    num_seq = len(list_of_seq)\n",
    "    rna_lens = np.zeros(num_seq)\n",
    "    orf_lens = np.zeros(num_seq)\n",
    "    for i in range(0,num_seq):\n",
    "        rna_len = len(list_of_seq[i])\n",
    "        rna_lens[i] = rna_len\n",
    "        oc.set_sequence(list_of_seq[i])\n",
    "        orf_len = oc.get_max_orf_len()\n",
    "        orf_lens[i] = orf_len\n",
    "    print (\"Average RNA length:\",rna_lens.mean())\n",
    "    print (\"Average ORF length:\",orf_lens.mean())\n",
    "    \n",
    "print(\"Simulated sequence characteristics:\")\n",
    "print(\"PC seqs\")\n",
    "describe_sequences(pc_all)\n",
    "print(\"NC seqs\")\n",
    "describe_sequences(nc_all)\n",
    "show_time()"
   ]
  },
  {
   "cell_type": "markdown",
   "metadata": {
    "id": "CCNh_FZaI_sv"
   },
   "source": [
    "## Data Prep"
   ]
  },
  {
   "cell_type": "code",
   "execution_count": 7,
   "metadata": {
    "colab": {
     "base_uri": "https://localhost:8080/"
    },
    "id": "FfyPeInGI_s4",
    "outputId": "47d999fd-c58f-444b-f3c0-ea529b85ec15"
   },
   "outputs": [
    {
     "name": "stdout",
     "output_type": "stream",
     "text": [
      "The first few shuffled labels:\n",
      "[1 0 0 1 1 0 0 0 1 0 0 0 1 0 1 0 1 1 1 1 1 0 0 1 1 1 1 1 0 0]\n",
      "2021-08-16 07:51:44 EDT\n"
     ]
    }
   ],
   "source": [
    "def combine_pos_and_neg(seqs1,seqs0):\n",
    "    len1=len(seqs1)\n",
    "    len0=len(seqs0)\n",
    "    L1=np.ones(len1,dtype=np.int8)\n",
    "    L0=np.zeros(len0,dtype=np.int8)\n",
    "    S1 = np.asarray(seqs1)\n",
    "    S0 = np.asarray(seqs0)\n",
    "    all_labels = np.concatenate((L1,L0))\n",
    "    all_seqs = np.concatenate((S1,S0))  \n",
    "    #X = shuffle(all_seqs,random_state=3) # sklearn.utils.shuffle \n",
    "    #y = shuffle(all_labels,random_state=3) # sklearn.utils.shuffle \n",
    "    X,y = shuffle(all_seqs,all_labels) # sklearn.utils.shuffle \n",
    "    return X,y\n",
    "Xseq,y=combine_pos_and_neg(pc_all,nc_all)\n",
    "print(\"The first few shuffled labels:\")\n",
    "print(y[:30])\n",
    "pc_all=None\n",
    "nc_all=None\n",
    "show_time()"
   ]
  },
  {
   "cell_type": "code",
   "execution_count": 8,
   "metadata": {
    "colab": {
     "base_uri": "https://localhost:8080/"
    },
    "id": "LWLixZOfI_s7",
    "outputId": "30ea7530-b5b3-4861-d4d8-8abeb1f86682"
   },
   "outputs": [
    {
     "name": "stdout",
     "output_type": "stream",
     "text": [
      "{'A': 0.246, 'C': 0.252, 'G': 0.243, 'T': 0.259, 'AA': 0.05905905905905906, 'AC': 0.05905905905905906, 'AG': 0.06106106106106106, 'AT': 0.06706706706706707, 'CA': 0.06306306306306306, 'CC': 0.06606606606606606, 'CG': 0.05905905905905906, 'CT': 0.06406406406406406, 'GA': 0.06006006006006006, 'GC': 0.06006006006006006, 'GG': 0.06506506506506507, 'GT': 0.05805805805805806, 'TA': 0.06306306306306306, 'TC': 0.06706706706706707, 'TG': 0.05805805805805806, 'TT': 0.07007007007007007, 'AAA': 0.012024048096192385, 'AAC': 0.018036072144288578, 'AAG': 0.014028056112224449, 'AAT': 0.01503006012024048, 'ACA': 0.014028056112224449, 'ACC': 0.01603206412825651, 'ACG': 0.01002004008016032, 'ACT': 0.01903807615230461, 'AGA': 0.01903807615230461, 'AGC': 0.01903807615230461, 'AGG': 0.011022044088176353, 'AGT': 0.012024048096192385, 'ATA': 0.01503006012024048, 'ATC': 0.017034068136272545, 'ATG': 0.01903807615230461, 'ATT': 0.01503006012024048, 'CAA': 0.017034068136272545, 'CAC': 0.011022044088176353, 'CAG': 0.02004008016032064, 'CAT': 0.01503006012024048, 'CCA': 0.018036072144288578, 'CCC': 0.018036072144288578, 'CCG': 0.014028056112224449, 'CCT': 0.01603206412825651, 'CGA': 0.01503006012024048, 'CGC': 0.011022044088176353, 'CGG': 0.01603206412825651, 'CGT': 0.017034068136272545, 'CTA': 0.013026052104208416, 'CTC': 0.012024048096192385, 'CTG': 0.02004008016032064, 'CTT': 0.01903807615230461, 'GAA': 0.018036072144288578, 'GAC': 0.01603206412825651, 'GAG': 0.01002004008016032, 'GAT': 0.01603206412825651, 'GCA': 0.014028056112224449, 'GCC': 0.01903807615230461, 'GCG': 0.017034068136272545, 'GCT': 0.01002004008016032, 'GGA': 0.018036072144288578, 'GGC': 0.018036072144288578, 'GGG': 0.01603206412825651, 'GGT': 0.013026052104208416, 'GTA': 0.017034068136272545, 'GTC': 0.02004008016032064, 'GTG': 0.006012024048096192, 'GTT': 0.01503006012024048, 'TAA': 0.011022044088176353, 'TAC': 0.014028056112224449, 'TAG': 0.017034068136272545, 'TAT': 0.021042084168336674, 'TCA': 0.017034068136272545, 'TCC': 0.013026052104208416, 'TCG': 0.018036072144288578, 'TCT': 0.01903807615230461, 'TGA': 0.008016032064128256, 'TGC': 0.012024048096192385, 'TGG': 0.022044088176352707, 'TGT': 0.01603206412825651, 'TTA': 0.018036072144288578, 'TTC': 0.018036072144288578, 'TTG': 0.013026052104208416, 'TTT': 0.021042084168336674}\n",
      "{'A': 0.261, 'C': 0.249, 'G': 0.238, 'T': 0.252, 'AA': 0.08008008008008008, 'AC': 0.05905905905905906, 'AG': 0.057057057057057055, 'AT': 0.06506506506506507, 'CA': 0.05805805805805806, 'CC': 0.06706706706706707, 'CG': 0.06406406406406406, 'CT': 0.05905905905905906, 'GA': 0.05805805805805806, 'GC': 0.06106106106106106, 'GG': 0.057057057057057055, 'GT': 0.062062062062062065, 'TA': 0.06506506506506507, 'TC': 0.06106106106106106, 'TG': 0.06006006006006006, 'TT': 0.06606606606606606, 'AAA': 0.027054108216432865, 'AAC': 0.011022044088176353, 'AAG': 0.023046092184368736, 'AAT': 0.01903807615230461, 'ACA': 0.011022044088176353, 'ACC': 0.01503006012024048, 'ACG': 0.014028056112224449, 'ACT': 0.01903807615230461, 'AGA': 0.009018036072144289, 'AGC': 0.02004008016032064, 'AGG': 0.013026052104208416, 'AGT': 0.01503006012024048, 'ATA': 0.021042084168336674, 'ATC': 0.008016032064128256, 'ATG': 0.01503006012024048, 'ATT': 0.021042084168336674, 'CAA': 0.01503006012024048, 'CAC': 0.01903807615230461, 'CAG': 0.01503006012024048, 'CAT': 0.009018036072144289, 'CCA': 0.01503006012024048, 'CCC': 0.021042084168336674, 'CCG': 0.01903807615230461, 'CCT': 0.012024048096192385, 'CGA': 0.01603206412825651, 'CGC': 0.017034068136272545, 'CGG': 0.01603206412825651, 'CGT': 0.01503006012024048, 'CTA': 0.012024048096192385, 'CTC': 0.02004008016032064, 'CTG': 0.018036072144288578, 'CTT': 0.009018036072144289, 'GAA': 0.02004008016032064, 'GAC': 0.01503006012024048, 'GAG': 0.01002004008016032, 'GAT': 0.013026052104208416, 'GCA': 0.014028056112224449, 'GCC': 0.01603206412825651, 'GCG': 0.01503006012024048, 'GCT': 0.01603206412825651, 'GGA': 0.01603206412825651, 'GGC': 0.009018036072144289, 'GGG': 0.01603206412825651, 'GGT': 0.01603206412825651, 'GTA': 0.018036072144288578, 'GTC': 0.01903807615230461, 'GTG': 0.009018036072144289, 'GTT': 0.01603206412825651, 'TAA': 0.018036072144288578, 'TAC': 0.014028056112224449, 'TAG': 0.009018036072144289, 'TAT': 0.02404809619238477, 'TCA': 0.018036072144288578, 'TCC': 0.01503006012024048, 'TCG': 0.01603206412825651, 'TCT': 0.011022044088176353, 'TGA': 0.017034068136272545, 'TGC': 0.01503006012024048, 'TGG': 0.012024048096192385, 'TGT': 0.01603206412825651, 'TTA': 0.014028056112224449, 'TTC': 0.014028056112224449, 'TTG': 0.018036072144288578, 'TTT': 0.02004008016032064}\n",
      "{'A': 0.247, 'C': 0.235, 'G': 0.273, 'T': 0.245, 'AA': 0.06006006006006006, 'AC': 0.06606606606606606, 'AG': 0.05905905905905906, 'AT': 0.06106106106106106, 'CA': 0.06106106106106106, 'CC': 0.05305305305305305, 'CG': 0.07007007007007007, 'CT': 0.05105105105105105, 'GA': 0.06606606606606606, 'GC': 0.06106106106106106, 'GG': 0.07107107107107107, 'GT': 0.07507507507507508, 'TA': 0.05905905905905906, 'TC': 0.055055055055055056, 'TG': 0.07307307307307308, 'TT': 0.05805805805805806, 'AAA': 0.011022044088176353, 'AAC': 0.018036072144288578, 'AAG': 0.017034068136272545, 'AAT': 0.014028056112224449, 'ACA': 0.013026052104208416, 'ACC': 0.01603206412825651, 'ACG': 0.021042084168336674, 'ACT': 0.01603206412825651, 'AGA': 0.01603206412825651, 'AGC': 0.018036072144288578, 'AGG': 0.013026052104208416, 'AGT': 0.012024048096192385, 'ATA': 0.014028056112224449, 'ATC': 0.01002004008016032, 'ATG': 0.01903807615230461, 'ATT': 0.018036072144288578, 'CAA': 0.013026052104208416, 'CAC': 0.01503006012024048, 'CAG': 0.017034068136272545, 'CAT': 0.01603206412825651, 'CCA': 0.021042084168336674, 'CCC': 0.01002004008016032, 'CCG': 0.012024048096192385, 'CCT': 0.01002004008016032, 'CGA': 0.01503006012024048, 'CGC': 0.011022044088176353, 'CGG': 0.01903807615230461, 'CGT': 0.025050100200400802, 'CTA': 0.012024048096192385, 'CTC': 0.008016032064128256, 'CTG': 0.01503006012024048, 'CTT': 0.01603206412825651, 'GAA': 0.026052104208416832, 'GAC': 0.018036072144288578, 'GAG': 0.0070140280561122245, 'GAT': 0.014028056112224449, 'GCA': 0.011022044088176353, 'GCC': 0.01503006012024048, 'GCG': 0.02004008016032064, 'GCT': 0.01503006012024048, 'GGA': 0.01903807615230461, 'GGC': 0.021042084168336674, 'GGG': 0.01603206412825651, 'GGT': 0.01503006012024048, 'GTA': 0.018036072144288578, 'GTC': 0.017034068136272545, 'GTG': 0.026052104208416832, 'GTT': 0.014028056112224449, 'TAA': 0.01002004008016032, 'TAC': 0.014028056112224449, 'TAG': 0.018036072144288578, 'TAT': 0.017034068136272545, 'TCA': 0.01603206412825651, 'TCC': 0.012024048096192385, 'TCG': 0.017034068136272545, 'TCT': 0.01002004008016032, 'TGA': 0.01603206412825651, 'TGC': 0.011022044088176353, 'TGG': 0.023046092184368736, 'TGT': 0.023046092184368736, 'TTA': 0.01503006012024048, 'TTC': 0.02004008016032064, 'TTG': 0.013026052104208416, 'TTT': 0.01002004008016032}\n",
      "First few K-mer frequency matrices:\n",
      "[[0.246      0.252      0.243      0.259      0.05905906 0.05905906\n",
      "  0.06106106 0.06706707 0.06306306 0.06606607 0.05905906 0.06406406\n",
      "  0.06006006 0.06006006 0.06506507 0.05805806 0.06306306 0.06706707\n",
      "  0.05805806 0.07007007 0.01202405 0.01803607 0.01402806 0.01503006\n",
      "  0.01402806 0.01603206 0.01002004 0.01903808 0.01903808 0.01903808\n",
      "  0.01102204 0.01202405 0.01503006 0.01703407 0.01903808 0.01503006\n",
      "  0.01703407 0.01102204 0.02004008 0.01503006 0.01803607 0.01803607\n",
      "  0.01402806 0.01603206 0.01503006 0.01102204 0.01603206 0.01703407\n",
      "  0.01302605 0.01202405 0.02004008 0.01903808 0.01803607 0.01603206\n",
      "  0.01002004 0.01603206 0.01402806 0.01903808 0.01703407 0.01002004\n",
      "  0.01803607 0.01803607 0.01603206 0.01302605 0.01703407 0.02004008\n",
      "  0.00601202 0.01503006 0.01102204 0.01402806 0.01703407 0.02104208\n",
      "  0.01703407 0.01302605 0.01803607 0.01903808 0.00801603 0.01202405\n",
      "  0.02204409 0.01603206 0.01803607 0.01803607 0.01302605 0.02104208]\n",
      " [0.261      0.249      0.238      0.252      0.08008008 0.05905906\n",
      "  0.05705706 0.06506507 0.05805806 0.06706707 0.06406406 0.05905906\n",
      "  0.05805806 0.06106106 0.05705706 0.06206206 0.06506507 0.06106106\n",
      "  0.06006006 0.06606607 0.02705411 0.01102204 0.02304609 0.01903808\n",
      "  0.01102204 0.01503006 0.01402806 0.01903808 0.00901804 0.02004008\n",
      "  0.01302605 0.01503006 0.02104208 0.00801603 0.01503006 0.02104208\n",
      "  0.01503006 0.01903808 0.01503006 0.00901804 0.01503006 0.02104208\n",
      "  0.01903808 0.01202405 0.01603206 0.01703407 0.01603206 0.01503006\n",
      "  0.01202405 0.02004008 0.01803607 0.00901804 0.02004008 0.01503006\n",
      "  0.01002004 0.01302605 0.01402806 0.01603206 0.01503006 0.01603206\n",
      "  0.01603206 0.00901804 0.01603206 0.01603206 0.01803607 0.01903808\n",
      "  0.00901804 0.01603206 0.01803607 0.01402806 0.00901804 0.0240481\n",
      "  0.01803607 0.01503006 0.01603206 0.01102204 0.01703407 0.01503006\n",
      "  0.01202405 0.01603206 0.01402806 0.01402806 0.01803607 0.02004008]\n",
      " [0.247      0.235      0.273      0.245      0.06006006 0.06606607\n",
      "  0.05905906 0.06106106 0.06106106 0.05305305 0.07007007 0.05105105\n",
      "  0.06606607 0.06106106 0.07107107 0.07507508 0.05905906 0.05505506\n",
      "  0.07307307 0.05805806 0.01102204 0.01803607 0.01703407 0.01402806\n",
      "  0.01302605 0.01603206 0.02104208 0.01603206 0.01603206 0.01803607\n",
      "  0.01302605 0.01202405 0.01402806 0.01002004 0.01903808 0.01803607\n",
      "  0.01302605 0.01503006 0.01703407 0.01603206 0.02104208 0.01002004\n",
      "  0.01202405 0.01002004 0.01503006 0.01102204 0.01903808 0.0250501\n",
      "  0.01202405 0.00801603 0.01503006 0.01603206 0.0260521  0.01803607\n",
      "  0.00701403 0.01402806 0.01102204 0.01503006 0.02004008 0.01503006\n",
      "  0.01903808 0.02104208 0.01603206 0.01503006 0.01803607 0.01703407\n",
      "  0.0260521  0.01402806 0.01002004 0.01402806 0.01803607 0.01703407\n",
      "  0.01603206 0.01202405 0.01703407 0.01002004 0.01603206 0.01102204\n",
      "  0.02304609 0.02304609 0.01503006 0.02004008 0.01302605 0.01002004]]\n",
      "2021-08-16 07:51:44 EDT\n"
     ]
    }
   ],
   "source": [
    "def seqs_to_kmer_freqs(seqs,max_K):\n",
    "    tool = KmerTools()  # from SimTools\n",
    "    collection = []\n",
    "    debug = 0\n",
    "    for seq in seqs:\n",
    "        counts = tool.make_dict_upto_K(max_K)\n",
    "        # Last param should be True when using Harvester.\n",
    "        counts = tool.update_count_one_K(counts,max_K,seq,True)\n",
    "        # Given counts for K=3, Harvester fills in counts for K=1,2.\n",
    "        counts = tool.harvest_counts_from_K(counts,max_K)\n",
    "        fdict = tool.count_to_frequency(counts,max_K)\n",
    "        freqs = list(fdict.values())\n",
    "        collection.append(freqs)\n",
    "        if (debug<3):\n",
    "            print(fdict)\n",
    "            debug += 1;\n",
    "    return np.asarray(collection)\n",
    "Xfrq=seqs_to_kmer_freqs(Xseq,MAX_K)\n",
    "print(\"First few K-mer frequency matrices:\")\n",
    "print(Xfrq[:3])\n",
    "Xseq = None\n",
    "show_time()"
   ]
  },
  {
   "cell_type": "code",
   "execution_count": 9,
   "metadata": {
    "colab": {
     "base_uri": "https://localhost:8080/"
    },
    "id": "V91rP2osI_s1",
    "outputId": "4a3b3d83-e74e-45b0-84b7-157a27fa3a64"
   },
   "outputs": [
    {
     "name": "stdout",
     "output_type": "stream",
     "text": [
      "Training set size= 2000 = 2000\n",
      "Reserved test set size= 2000 = 2000\n",
      "2021-08-16 07:51:44 EDT\n"
     ]
    }
   ],
   "source": [
    "# Assume X and y were shuffled.\n",
    "train_size=PC_TRAINS+NC_TRAINS\n",
    "X_train=Xfrq[:train_size] \n",
    "X_test=Xfrq[train_size:]\n",
    "y_train=y[:train_size] \n",
    "y_test=y[train_size:]\n",
    "print(\"Training set size=\",len(X_train),\"=\",len(y_train))\n",
    "print(\"Reserved test set size=\",len(X_test),\"=\",len(y_test))\n",
    "Xfrq=None\n",
    "y=None\n",
    "show_time()"
   ]
  },
  {
   "cell_type": "markdown",
   "metadata": {
    "id": "dJ4XhrzGI_s-"
   },
   "source": [
    "## Neural network"
   ]
  },
  {
   "cell_type": "code",
   "execution_count": 10,
   "metadata": {
    "colab": {
     "base_uri": "https://localhost:8080/"
    },
    "id": "o5NPW7zKI_tC",
    "outputId": "e44742b8-4c03-4bdb-9e1a-6cb433ff5fc9"
   },
   "outputs": [
    {
     "name": "stdout",
     "output_type": "stream",
     "text": [
      "make_DNN\n",
      "input shape: (None, 84)\n",
      "Model: \"sequential\"\n",
      "_________________________________________________________________\n",
      "Layer (type)                 Output Shape              Param #   \n",
      "=================================================================\n",
      "dense (Dense)                (None, 128)               10880     \n",
      "_________________________________________________________________\n",
      "dropout (Dropout)            (None, 128)               0         \n",
      "_________________________________________________________________\n",
      "dense_1 (Dense)              (None, 128)               16512     \n",
      "_________________________________________________________________\n",
      "dropout_1 (Dropout)          (None, 128)               0         \n",
      "_________________________________________________________________\n",
      "dense_2 (Dense)              (None, 128)               16512     \n",
      "_________________________________________________________________\n",
      "dropout_2 (Dropout)          (None, 128)               0         \n",
      "_________________________________________________________________\n",
      "dense_3 (Dense)              (None, 1)                 129       \n",
      "=================================================================\n",
      "Total params: 44,033\n",
      "Trainable params: 44,033\n",
      "Non-trainable params: 0\n",
      "_________________________________________________________________\n",
      "None\n"
     ]
    },
    {
     "name": "stderr",
     "output_type": "stream",
     "text": [
      "2021-08-16 07:51:44.852936: I tensorflow/stream_executor/platform/default/dso_loader.cc:53] Successfully opened dynamic library libcuda.so.1\n",
      "2021-08-16 07:51:44.912759: I tensorflow/stream_executor/cuda/cuda_gpu_executor.cc:937] successful NUMA node read from SysFS had negative value (-1), but there must be at least one NUMA node, so returning NUMA node zero\n",
      "2021-08-16 07:51:44.915381: I tensorflow/core/common_runtime/gpu/gpu_device.cc:1733] Found device 0 with properties: \n",
      "pciBusID: 0000:02:00.0 name: NVIDIA GeForce RTX 2080 Ti computeCapability: 7.5\n",
      "coreClock: 1.545GHz coreCount: 68 deviceMemorySize: 10.75GiB deviceMemoryBandwidth: 573.69GiB/s\n",
      "2021-08-16 07:51:44.915513: I tensorflow/stream_executor/platform/default/dso_loader.cc:53] Successfully opened dynamic library libcudart.so.11.0\n",
      "2021-08-16 07:51:44.920749: I tensorflow/stream_executor/platform/default/dso_loader.cc:53] Successfully opened dynamic library libcublas.so.11\n",
      "2021-08-16 07:51:44.920817: I tensorflow/stream_executor/platform/default/dso_loader.cc:53] Successfully opened dynamic library libcublasLt.so.11\n",
      "2021-08-16 07:51:44.923320: I tensorflow/stream_executor/platform/default/dso_loader.cc:53] Successfully opened dynamic library libcufft.so.10\n",
      "2021-08-16 07:51:44.923567: I tensorflow/stream_executor/platform/default/dso_loader.cc:53] Successfully opened dynamic library libcurand.so.10\n",
      "2021-08-16 07:51:44.924027: I tensorflow/stream_executor/platform/default/dso_loader.cc:53] Successfully opened dynamic library libcusolver.so.11\n",
      "2021-08-16 07:51:44.924727: I tensorflow/stream_executor/platform/default/dso_loader.cc:53] Successfully opened dynamic library libcusparse.so.11\n",
      "2021-08-16 07:51:44.924870: I tensorflow/stream_executor/platform/default/dso_loader.cc:53] Successfully opened dynamic library libcudnn.so.8\n",
      "2021-08-16 07:51:44.924979: I tensorflow/stream_executor/cuda/cuda_gpu_executor.cc:937] successful NUMA node read from SysFS had negative value (-1), but there must be at least one NUMA node, so returning NUMA node zero\n",
      "2021-08-16 07:51:44.925851: I tensorflow/stream_executor/cuda/cuda_gpu_executor.cc:937] successful NUMA node read from SysFS had negative value (-1), but there must be at least one NUMA node, so returning NUMA node zero\n",
      "2021-08-16 07:51:44.926467: I tensorflow/core/common_runtime/gpu/gpu_device.cc:1871] Adding visible gpu devices: 0\n",
      "2021-08-16 07:51:44.926821: I tensorflow/core/platform/cpu_feature_guard.cc:142] This TensorFlow binary is optimized with oneAPI Deep Neural Network Library (oneDNN) to use the following CPU instructions in performance-critical operations:  AVX2 AVX512F FMA\n",
      "To enable them in other operations, rebuild TensorFlow with the appropriate compiler flags.\n",
      "2021-08-16 07:51:44.927636: I tensorflow/stream_executor/cuda/cuda_gpu_executor.cc:937] successful NUMA node read from SysFS had negative value (-1), but there must be at least one NUMA node, so returning NUMA node zero\n",
      "2021-08-16 07:51:44.928299: I tensorflow/core/common_runtime/gpu/gpu_device.cc:1733] Found device 0 with properties: \n",
      "pciBusID: 0000:02:00.0 name: NVIDIA GeForce RTX 2080 Ti computeCapability: 7.5\n",
      "coreClock: 1.545GHz coreCount: 68 deviceMemorySize: 10.75GiB deviceMemoryBandwidth: 573.69GiB/s\n",
      "2021-08-16 07:51:44.928356: I tensorflow/stream_executor/cuda/cuda_gpu_executor.cc:937] successful NUMA node read from SysFS had negative value (-1), but there must be at least one NUMA node, so returning NUMA node zero\n",
      "2021-08-16 07:51:44.929354: I tensorflow/stream_executor/cuda/cuda_gpu_executor.cc:937] successful NUMA node read from SysFS had negative value (-1), but there must be at least one NUMA node, so returning NUMA node zero\n",
      "2021-08-16 07:51:44.930326: I tensorflow/core/common_runtime/gpu/gpu_device.cc:1871] Adding visible gpu devices: 0\n",
      "2021-08-16 07:51:44.930350: I tensorflow/stream_executor/platform/default/dso_loader.cc:53] Successfully opened dynamic library libcudart.so.11.0\n",
      "2021-08-16 07:51:45.246428: I tensorflow/core/common_runtime/gpu/gpu_device.cc:1258] Device interconnect StreamExecutor with strength 1 edge matrix:\n",
      "2021-08-16 07:51:45.246463: I tensorflow/core/common_runtime/gpu/gpu_device.cc:1264]      0 \n",
      "2021-08-16 07:51:45.246467: I tensorflow/core/common_runtime/gpu/gpu_device.cc:1277] 0:   N \n",
      "2021-08-16 07:51:45.246634: I tensorflow/stream_executor/cuda/cuda_gpu_executor.cc:937] successful NUMA node read from SysFS had negative value (-1), but there must be at least one NUMA node, so returning NUMA node zero\n",
      "2021-08-16 07:51:45.247103: I tensorflow/stream_executor/cuda/cuda_gpu_executor.cc:937] successful NUMA node read from SysFS had negative value (-1), but there must be at least one NUMA node, so returning NUMA node zero\n",
      "2021-08-16 07:51:45.247529: I tensorflow/stream_executor/cuda/cuda_gpu_executor.cc:937] successful NUMA node read from SysFS had negative value (-1), but there must be at least one NUMA node, so returning NUMA node zero\n",
      "2021-08-16 07:51:45.247958: I tensorflow/core/common_runtime/gpu/gpu_device.cc:1418] Created TensorFlow device (/job:localhost/replica:0/task:0/device:GPU:0 with 9336 MB memory) -> physical GPU (device: 0, name: NVIDIA GeForce RTX 2080 Ti, pci bus id: 0000:02:00.0, compute capability: 7.5)\n"
     ]
    }
   ],
   "source": [
    "def make_DNN():\n",
    "    dt=np.float32\n",
    "    print(\"make_DNN\")\n",
    "    print(\"input shape:\",INPUT_SHAPE)\n",
    "    dnn = Sequential()\n",
    "    dnn.add(Dense(NEURONS,activation=\"sigmoid\",dtype=dt))  \n",
    "    dnn.add(Dropout(DROP_RATE))\n",
    "    dnn.add(Dense(NEURONS,activation=\"sigmoid\",dtype=dt)) \n",
    "    dnn.add(Dropout(DROP_RATE))\n",
    "    dnn.add(Dense(NEURONS,activation=\"sigmoid\",dtype=dt)) \n",
    "    dnn.add(Dropout(DROP_RATE))\n",
    "    dnn.add(Dense(1,activation=\"sigmoid\",dtype=dt))   \n",
    "    dnn.compile(optimizer='adam',    \n",
    "                loss=BinaryCrossentropy(from_logits=False),\n",
    "                metrics=['accuracy'])   # add to default metrics=loss\n",
    "    dnn.build(input_shape=INPUT_SHAPE) \n",
    "    return dnn\n",
    "model = make_DNN()\n",
    "print(model.summary())"
   ]
  },
  {
   "cell_type": "code",
   "execution_count": 11,
   "metadata": {
    "id": "E2Dr6L9lI_tE"
   },
   "outputs": [],
   "source": [
    "def do_cross_validation(X,y):\n",
    "    cv_scores = []\n",
    "    fold=0\n",
    "    mycallbacks = [ModelCheckpoint(\n",
    "        filepath=BESTMODELPATH, save_best_only=True, \n",
    "        monitor='val_accuracy', mode='max')]   \n",
    "    # When shuffle=True, the valid indices are a random subset.\n",
    "    # No need to shuffle here assuming data was shuffled above.\n",
    "    splitter = KFold(n_splits=SPLITS,shuffle=False) \n",
    "    model = None\n",
    "    for train_index,valid_index in splitter.split(X):\n",
    "        if fold < FOLDS:\n",
    "            fold += 1\n",
    "            X_train=X[train_index] # inputs for training\n",
    "            y_train=y[train_index] # labels for training\n",
    "            X_valid=X[valid_index] # inputs for validation\n",
    "            y_valid=y[valid_index] # labels for validation\n",
    "            print(\"MODEL\")\n",
    "            # Call constructor on each CV. Else, continually improves the same model.\n",
    "            model = model = make_DNN()\n",
    "            print(\"FIT\")  # model.fit() implements learning\n",
    "            start_time=time.time()\n",
    "            history=model.fit(X_train, y_train, \n",
    "                    epochs=EPOCHS, \n",
    "                    verbose=1,  # ascii art while learning\n",
    "                    callbacks=mycallbacks,   # called at end of each epoch\n",
    "                    validation_data=(X_valid,y_valid))\n",
    "            end_time=time.time()\n",
    "            elapsed_time=(end_time-start_time)                        \n",
    "            print(\"Fold %d, %d epochs, %d sec\"%(fold,EPOCHS,elapsed_time))\n",
    "            # print(history.history.keys())  # all these keys will be shown in figure\n",
    "            pd.DataFrame(history.history).plot(figsize=(8,5))\n",
    "            plt.grid(True)\n",
    "            plt.gca().set_ylim(0,1) # any losses > 1 will be off the scale\n",
    "            plt.show()\n",
    "    return model  # parameters at end of training"
   ]
  },
  {
   "cell_type": "code",
   "execution_count": 17,
   "metadata": {
    "colab": {
     "base_uri": "https://localhost:8080/",
     "height": 1000
    },
    "id": "Ey7Q-YWcI_tH",
    "outputId": "99860c16-9c39-4965-c7f5-2e4d32153b27"
   },
   "outputs": [
    {
     "name": "stdout",
     "output_type": "stream",
     "text": [
      "2021-08-16 07:54:35 EDT\n",
      "MODEL\n",
      "make_DNN\n",
      "input shape: (None, 84)\n",
      "FIT\n",
      "Epoch 1/10\n",
      "42/42 [==============================] - 1s 4ms/step - loss: 0.7327 - accuracy: 0.4829 - val_loss: 0.6924 - val_accuracy: 0.5217\n",
      "INFO:tensorflow:Assets written to: data/BestModel/assets\n",
      "Epoch 2/10\n",
      "42/42 [==============================] - 0s 2ms/step - loss: 0.7169 - accuracy: 0.5132 - val_loss: 0.6959 - val_accuracy: 0.5217\n",
      "Epoch 3/10\n",
      "42/42 [==============================] - 0s 1ms/step - loss: 0.7269 - accuracy: 0.5092 - val_loss: 0.6922 - val_accuracy: 0.5217\n",
      "Epoch 4/10\n",
      "42/42 [==============================] - 0s 2ms/step - loss: 0.7096 - accuracy: 0.5390 - val_loss: 0.6968 - val_accuracy: 0.5217\n",
      "Epoch 5/10\n",
      "42/42 [==============================] - 0s 1ms/step - loss: 0.7084 - accuracy: 0.5156 - val_loss: 0.6932 - val_accuracy: 0.4783\n",
      "Epoch 6/10\n",
      "42/42 [==============================] - 0s 2ms/step - loss: 0.7042 - accuracy: 0.4950 - val_loss: 0.6925 - val_accuracy: 0.5217\n",
      "Epoch 7/10\n",
      "42/42 [==============================] - 0s 2ms/step - loss: 0.7011 - accuracy: 0.5092 - val_loss: 0.6933 - val_accuracy: 0.4783\n",
      "Epoch 8/10\n",
      "42/42 [==============================] - 0s 2ms/step - loss: 0.7113 - accuracy: 0.4848 - val_loss: 0.6927 - val_accuracy: 0.5217\n",
      "Epoch 9/10\n",
      "42/42 [==============================] - 0s 2ms/step - loss: 0.6977 - accuracy: 0.5080 - val_loss: 0.6935 - val_accuracy: 0.5217\n",
      "Epoch 10/10\n",
      "42/42 [==============================] - 0s 2ms/step - loss: 0.7054 - accuracy: 0.5112 - val_loss: 0.6965 - val_accuracy: 0.4783\n",
      "Fold 1, 10 epochs, 1 sec\n"
     ]
    },
    {
     "data": {
      "image/png": "[encoded data removed]",
      "text/plain": [
       "<Figure size 576x360 with 1 Axes>"
      ]
     },
     "metadata": {
      "needs_background": "light"
     },
     "output_type": "display_data"
    }
   ],
   "source": [
    "show_time()\n",
    "last_model = do_cross_validation(X_train,y_train)\n",
    "best_model = load_model(BESTMODELPATH)"
   ]
  },
  {
   "cell_type": "code",
   "execution_count": 18,
   "metadata": {
    "id": "tGf2PcxRC8jT"
   },
   "outputs": [],
   "source": [
    "def show_test_AUC(model,X,y):\n",
    "    ns_probs = [0 for _ in range(len(y))]\n",
    "    bm_probs = model.predict(X)\n",
    "    ns_auc = roc_auc_score(y, ns_probs)\n",
    "    bm_auc = roc_auc_score(y, bm_probs)\n",
    "    ns_fpr, ns_tpr, _ = roc_curve(y, ns_probs)\n",
    "    bm_fpr, bm_tpr, _ = roc_curve(y, bm_probs)\n",
    "    plt.plot(ns_fpr, ns_tpr, linestyle='--', label='Guess, auc=%.4f'%ns_auc)\n",
    "    plt.plot(bm_fpr, bm_tpr, marker='.', label='Model, auc=%.4f'%bm_auc)\n",
    "    plt.title('ROC')\n",
    "    plt.xlabel('False Positive Rate')\n",
    "    plt.ylabel('True Positive Rate')\n",
    "    plt.legend()\n",
    "    plt.show()\n",
    "    print(\"%s: %.2f%%\" %('AUC',bm_auc*100.0))\n",
    "def show_test_accuracy(model,X,y):\n",
    "    scores = model.evaluate(X, y, verbose=0)\n",
    "    print(\"%s: %.2f%%\" % (model.metrics_names[1], scores[1]*100))\n"
   ]
  },
  {
   "cell_type": "code",
   "execution_count": 19,
   "metadata": {
    "colab": {
     "base_uri": "https://localhost:8080/",
     "height": 469
    },
    "id": "MXkPiM4_FG2N",
    "outputId": "b4dd4315-418e-4ea6-8899-0339dc701015"
   },
   "outputs": [
    {
     "name": "stdout",
     "output_type": "stream",
     "text": [
      "Accuracy on training data.\n",
      "2021-08-16 07:54:58 EDT\n"
     ]
    },
    {
     "data": {
      "image/png": "[encoded data removed]",
      "text/plain": [
       "<Figure size 432x288 with 1 Axes>"
      ]
     },
     "metadata": {
      "needs_background": "light"
     },
     "output_type": "display_data"
    },
    {
     "name": "stdout",
     "output_type": "stream",
     "text": [
      "AUC: 57.50%\n",
      "accuracy: 51.60%\n",
      "2021-08-16 07:54:59 EDT\n"
     ]
    }
   ],
   "source": [
    "print(\"Accuracy on training data.\")\n",
    "show_time()\n",
    "show_test_AUC(best_model,X_train,y_train)\n",
    "show_test_accuracy(best_model,X_train,y_train)\n",
    "show_time()"
   ]
  },
  {
   "cell_type": "code",
   "execution_count": 20,
   "metadata": {
    "colab": {
     "base_uri": "https://localhost:8080/",
     "height": 469
    },
    "id": "kdD6SyVhFXaM",
    "outputId": "78e0ce43-f59e-4e83-9366-f79fa0e19bb4"
   },
   "outputs": [
    {
     "name": "stdout",
     "output_type": "stream",
     "text": [
      "Accuracy on test data.\n",
      "2021-08-16 07:55:01 EDT\n"
     ]
    },
    {
     "data": {
      "image/png": "[encoded data removed]",
      "text/plain": [
       "<Figure size 432x288 with 1 Axes>"
      ]
     },
     "metadata": {
      "needs_background": "light"
     },
     "output_type": "display_data"
    },
    {
     "name": "stdout",
     "output_type": "stream",
     "text": [
      "AUC: 75.04%\n",
      "accuracy: 51.60%\n",
      "2021-08-16 07:55:01 EDT\n"
     ]
    }
   ],
   "source": [
    "print(\"Accuracy on test data.\")\n",
    "show_time()\n",
    "show_test_AUC(last_model,X_test,y_test)\n",
    "show_test_accuracy(last_model,X_test,y_test)\n",
    "show_time()"
   ]
  },
  {
   "cell_type": "code",
   "execution_count": null,
   "metadata": {},
   "outputs": [],
   "source": []
  }
 ],
 "metadata": {
  "accelerator": "GPU",
  "colab": {
   "collapsed_sections": [],
   "name": "ORF_MLP_117.ipynb",
   "provenance": []
  },
  "kernelspec": {
   "display_name": "Python 3 (ipykernel)",
   "language": "python",
   "name": "python3"
  },
  "language_info": {
   "codemirror_mode": {
    "name": "ipython",
    "version": 3
   },
   "file_extension": ".py",
   "mimetype": "text/x-python",
   "name": "python",
   "nbconvert_exporter": "python",
   "pygments_lexer": "ipython3",
   "version": "3.8.10"
  }
 },
 "nbformat": 4,
 "nbformat_minor": 1
}
