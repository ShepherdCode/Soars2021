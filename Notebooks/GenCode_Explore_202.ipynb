{
  "nbformat": 4,
  "nbformat_minor": 0,
  "metadata": {
    "kernelspec": {
      "display_name": "Python 3",
      "language": "python",
      "name": "python3"
    },
    "language_info": {
      "codemirror_mode": {
        "name": "ipython",
        "version": 3
      },
      "file_extension": ".py",
      "mimetype": "text/x-python",
      "name": "python",
      "nbconvert_exporter": "python",
      "pygments_lexer": "ipython3",
      "version": "3.8.3"
    },
    "colab": {
      "name": "GenCode_Explore_202.ipynb",
      "provenance": []
    },
    "accelerator": "GPU"
  },
  "cells": [
    {
      "cell_type": "markdown",
      "metadata": {
        "id": "YFNR4rUpL8Kt"
      },
      "source": [
        ""
      ]
    },
    {
      "cell_type": "markdown",
      "metadata": {
        "id": "tFJJK7JDL6Q1"
      },
      "source": [
        "# GenCode Explore\n",
        "\n",
        "Explore the human RNA sequences from GenCode.\n",
        "\n",
        "Assume user downloaded files from GenCode 38 [FTP](http://ftp.ebi.ac.uk/pub/databases/gencode/Gencode_human/release_38/)\n",
        "to a subdirectory called data.\n",
        "\n",
        "Improve on GenCode_Explore_101.ipynb\n",
        "\n",
        "Use ORF_counter. \n",
        "\n",
        "Use MatPlotLib to make box plots and heat maps."
      ]
    },
    {
      "cell_type": "code",
      "metadata": {
        "colab": {
          "base_uri": "https://localhost:8080/"
        },
        "id": "eDgS-z1tL6Q2",
        "outputId": "9830fba8-70a8-4ef5-aafd-4b26effd2e0e"
      },
      "source": [
        "import time \n",
        "def show_time():\n",
        "    t = time.time()\n",
        "    s = time.strftime('%Y-%m-%d %H:%M:%S %Z', time.localtime(t))\n",
        "    print(s)\n",
        "show_time()"
      ],
      "execution_count": 1,
      "outputs": [
        {
          "output_type": "stream",
          "text": [
            "2021-06-01 20:12:12 UTC\n"
          ],
          "name": "stdout"
        }
      ]
    },
    {
      "cell_type": "code",
      "metadata": {
        "colab": {
          "base_uri": "https://localhost:8080/"
        },
        "id": "tckHr4SuL6Q5",
        "outputId": "96834072-5d2e-452f-c8f0-d7aab45c25d0"
      },
      "source": [
        "import numpy as np\n",
        "import pandas as pd\n",
        "import gzip\n",
        "import sys\n",
        "try:\n",
        "    from google.colab import drive\n",
        "    IN_COLAB = True\n",
        "    print(\"On Google CoLab, mount cloud-local file, get our code from GitHub.\")\n",
        "    PATH='/content/drive/'\n",
        "    #drive.mount(PATH,force_remount=True)  # hardly ever need this\n",
        "    drive.mount(PATH)    # Google will require login credentials\n",
        "    DATAPATH=PATH+'My Drive/data/'  # must end in \"/\"\n",
        "    import requests\n",
        "    s = requests.get('https://raw.githubusercontent.com/ShepherdCode/Soars2021/master/SimTools/RNA_describe.py')\n",
        "    with open('RNA_describe.py', 'w') as f:\n",
        "        f.write(s.text)  # writes to cloud local, delete the file later?\n",
        "    from RNA_describe import *\n",
        "except:\n",
        "    print(\"CoLab not working. On my PC, use relative paths.\")\n",
        "    IN_COLAB = False\n",
        "    DATAPATH='../data/'  # must end in \"/\"\n",
        "    sys.path.append(\"..\") # append parent dir in order to use sibling dirs\n",
        "    from SimTools.RNA_describe import *\n",
        "\n",
        "MODELPATH=\"BestModel\"  # saved on cloud instance and lost after logout\n",
        "#MODELPATH=DATAPATH+MODELPATH  # saved on Google Drive but requires login\n",
        "\n",
        "if not assert_imported_RNA_describe():\n",
        "    print(\"ERROR: Cannot use RNA_describe.\")"
      ],
      "execution_count": 2,
      "outputs": [
        {
          "output_type": "stream",
          "text": [
            "On Google CoLab, mount cloud-local file, get our code from GitHub.\n",
            "Drive already mounted at /content/drive/; to attempt to forcibly remount, call drive.mount(\"/content/drive/\", force_remount=True).\n"
          ],
          "name": "stdout"
        }
      ]
    },
    {
      "cell_type": "code",
      "metadata": {
        "id": "qdPZNYUwL6Q6"
      },
      "source": [
        "PC_FILENAME='gencode.v38.pc_transcripts.fa.gz'\n",
        "NC_FILENAME='gencode.v38.lncRNA_transcripts.fa.gz'"
      ],
      "execution_count": 3,
      "outputs": []
    },
    {
      "cell_type": "code",
      "metadata": {
        "id": "UpG1fmR_L6Q7"
      },
      "source": [
        "def load_gencode(filename,label):\n",
        "    DEFLINE='>'\n",
        "    DELIM='|'\n",
        "    EMPTY=''\n",
        "    labels=[]  # usually 1 for protein-coding or 0 for non-coding\n",
        "    seqs=[]    # usually string of ACGT\n",
        "    lens=[]    # sequence length\n",
        "    ids=[]     # GenCode transcript ID, always starts ENST\n",
        "    one_seq = EMPTY\n",
        "    one_id = None\n",
        "    # Use gzip 'r' mode to open file in read-only mode.\n",
        "    # Use gzip 't' mode to read each line of text as type string.\n",
        "    with gzip.open (filename,'rt') as infile:\n",
        "        for line in infile:\n",
        "            if line[0]==DEFLINE:\n",
        "                # Save the previous sequence if one exists.\n",
        "                if not one_seq == EMPTY:\n",
        "                    labels.append(label)\n",
        "                    seqs.append(one_seq)\n",
        "                    lens.append(len(one_seq))\n",
        "                    ids.append(one_id)\n",
        "                # Get ready to read the next sequence. \n",
        "                # Parse a GenCode defline that is formatted like this:\n",
        "                # >transcript_ID|gene_ID|other_fields other_info|other_info\n",
        "                one_id = line[1:].split(DELIM)[0]\n",
        "                one_seq = EMPTY\n",
        "            else:\n",
        "                # Continue loading sequence lines till next defline.\n",
        "                additional = line.rstrip()\n",
        "                one_seq = one_seq + additional\n",
        "        # Don't forget to save the last sequence after end-of-file.\n",
        "        if not one_seq == EMPTY:\n",
        "            labels.append(label)\n",
        "            seqs.append(one_seq)\n",
        "            lens.append(len(one_seq))\n",
        "            ids.append(one_id)\n",
        "\n",
        "    df1=pd.DataFrame(ids,columns=['tid'])\n",
        "    df2=pd.DataFrame(labels,columns=['class'])\n",
        "    df3=pd.DataFrame(seqs,columns=['sequence'])\n",
        "    df4=pd.DataFrame(lens,columns=['seqlen'])\n",
        "    df=pd.concat((df1,df2,df3,df4),axis=1)\n",
        "    return df"
      ],
      "execution_count": 4,
      "outputs": []
    },
    {
      "cell_type": "code",
      "metadata": {
        "id": "rBgSTD81L6Q8"
      },
      "source": [
        "def get_the_facts(seqs,verbose=False):\n",
        "    oc = ORF_counter()\n",
        "    count = len(seqs)\n",
        "    max_orf_lengths=np.zeros(count)\n",
        "    for s in range(0,count):\n",
        "        seq = seqs[s]\n",
        "        oc.set_sequence(seq)\n",
        "        max_orf = oc.get_max_orf_len()\n",
        "        max_orf_lengths[s] = max_orf\n",
        "    mean_max_orf = np.mean(max_orf_lengths,axis=0)\n",
        "    std_max_orf = np.std(max_orf_lengths,axis=0)\n",
        "    if verbose:\n",
        "        print(\"mean longest ORF length:\",int(mean_max_orf),\"+/-\",int(std_max_orf))\n",
        "    return mean_max_orf"
      ],
      "execution_count": 5,
      "outputs": []
    },
    {
      "cell_type": "markdown",
      "metadata": {
        "id": "-6bcVG0iL6Q9"
      },
      "source": [
        "## Load the GenCode data.\n",
        "Warning: GenCode has\n",
        "over 100K protein-coding RNA (mRNA) \n",
        "and almost 50K non-coding RNA (lncRNA)."
      ]
    },
    {
      "cell_type": "code",
      "metadata": {
        "colab": {
          "base_uri": "https://localhost:8080/"
        },
        "id": "FwwunxFxL6Q-",
        "outputId": "c42a194b-01e6-4e20-8b6c-8cd733b9c146"
      },
      "source": [
        "PC_FULLPATH=DATAPATH+PC_FILENAME\n",
        "NC_FULLPATH=DATAPATH+NC_FILENAME\n",
        "show_time()\n",
        "pcdf=load_gencode(PC_FULLPATH,1)\n",
        "print(\"PC seqs loaded:\",len(pcdf))\n",
        "show_time()\n",
        "ncdf=load_gencode(NC_FULLPATH,0)\n",
        "print(\"NC seqs loaded:\",len(ncdf))\n",
        "show_time()"
      ],
      "execution_count": 6,
      "outputs": [
        {
          "output_type": "stream",
          "text": [
            "2021-06-01 20:12:12 UTC\n",
            "PC seqs loaded: 106143\n",
            "2021-06-01 20:12:16 UTC\n",
            "NC seqs loaded: 48752\n",
            "2021-06-01 20:12:17 UTC\n"
          ],
          "name": "stdout"
        }
      ]
    },
    {
      "cell_type": "code",
      "metadata": {
        "colab": {
          "base_uri": "https://localhost:8080/"
        },
        "id": "7iW7zf4pL6Q_",
        "outputId": "7a0ac11b-b587-4b82-ffc5-a68e2c108326"
      },
      "source": [
        "print(\"Sorting PC...\")\n",
        "pcdf.sort_values('seqlen', ascending=True, inplace=True)\n",
        "print(\"Sorting NC...\")\n",
        "ncdf.sort_values('seqlen', ascending=True, inplace=True)"
      ],
      "execution_count": 7,
      "outputs": [
        {
          "output_type": "stream",
          "text": [
            "Sorting PC...\n",
            "Sorting NC...\n"
          ],
          "name": "stdout"
        }
      ]
    },
    {
      "cell_type": "markdown",
      "metadata": {
        "id": "TbUk5m5xL6RB"
      },
      "source": [
        "## Subset by RNA length and analyze ORF lengths\n"
      ]
    },
    {
      "cell_type": "code",
      "metadata": {
        "id": "xYgW0zSlL6RC"
      },
      "source": [
        "# This is a fast way to slice if you have length thresholds.\n",
        "# TO DO: choose length thresholds and apply to PC and NC RNA.\n",
        "# For example: 200, 400, 800, 1600, 3200, 6400 (e.g. 200-399, etc.)\n",
        "mask = (ncdf['sequence'].str.len() < 1000)\n",
        "subset = ncdf.loc[mask]\n",
        "\n",
        "# Here is one way to extract a list from a dataframe. \n",
        "mylist=subset['sequence'].tolist()\n",
        "\n",
        "mask = (pcdf['sequence'].str.len() < 800)\n",
        "subset = pcdf.loc[mask]\n",
        "subset_list = subset['sequence'].tolist()\n"
      ],
      "execution_count": 8,
      "outputs": []
    },
    {
      "cell_type": "code",
      "metadata": {
        "colab": {
          "base_uri": "https://localhost:8080/",
          "height": 956
        },
        "id": "TMMnTdSiL6RD",
        "outputId": "5d78a3ba-b964-457a-f75f-5a853b836f3a"
      },
      "source": [
        "import matplotlib.pyplot as plt\n",
        "\n",
        "max_len_data = []\n",
        "max_cnt_data = []\n",
        "contain_data = []\n",
        "\n",
        "for i in range(0, len(subset_list)): #Actual is range(0, len(pcdf))\n",
        "    #record = pcdf.iloc[i]\n",
        "    #rna = record['sequence']\n",
        "    rna = subset_list[i]\n",
        "    #tid = record['tid']\n",
        "    oc = ORF_counter()\n",
        "    oc.set_sequence(rna)\n",
        "    max_len = oc.get_max_orf_len()\n",
        "    max_cnt = oc.count_maximal_orfs()\n",
        "    contain = oc.count_contained_orfs()\n",
        "    max_len_data.append(max_len)\n",
        "    max_cnt_data.append(max_cnt)\n",
        "    contain_data.append(contain)\n",
        "\n",
        "fig1, ax1 = plt.subplots()\n",
        "ax1.set_title('Length of Longest ORF')\n",
        "ax1.boxplot(max_len_data)\n",
        "fig2, ax2 = plt.subplots()\n",
        "ax2.set_title('Count Non-contained ORFs')\n",
        "ax2.boxplot(max_cnt_data)\n",
        "fig3, ax3 = plt.subplots()\n",
        "ax3.set_title('Count Contained ORFs')\n",
        "ax3.boxplot(contain_data)"
      ],
      "execution_count": 10,
      "outputs": [
        {
          "output_type": "execute_result",
          "data": {
            "text/plain": [
              "{'boxes': [<matplotlib.lines.Line2D at 0x7fa9fdf89710>],\n",
              " 'caps': [<matplotlib.lines.Line2D at 0x7fa9fdf90750>,\n",
              "  <matplotlib.lines.Line2D at 0x7fa9fdf90c90>],\n",
              " 'fliers': [<matplotlib.lines.Line2D at 0x7fa9fdf98790>],\n",
              " 'means': [],\n",
              " 'medians': [<matplotlib.lines.Line2D at 0x7fa9fdf98250>],\n",
              " 'whiskers': [<matplotlib.lines.Line2D at 0x7fa9fdf89c90>,\n",
              "  <matplotlib.lines.Line2D at 0x7fa9fdf90210>]}"
            ]
          },
          "metadata": {
            "tags": []
          },
          "execution_count": 10
        },
        {
          "output_type": "display_data",
          "data": {
            "image/png": "[encoded data removed]",
            "text/plain": [
              "<Figure size 432x288 with 1 Axes>"
            ]
          },
          "metadata": {
            "tags": [],
            "needs_background": "light"
          }
        },
        {
          "output_type": "display_data",
          "data": {
            "image/png": "[encoded data removed]",
            "text/plain": [
              "<Figure size 432x288 with 1 Axes>"
            ]
          },
          "metadata": {
            "tags": [],
            "needs_background": "light"
          }
        },
        {
          "output_type": "display_data",
          "data": {
            "image/png": "[encoded data removed]",
            "text/plain": [
              "<Figure size 432x288 with 1 Axes>"
            ]
          },
          "metadata": {
            "tags": [],
            "needs_background": "light"
          }
        }
      ]
    },
    {
      "cell_type": "markdown",
      "metadata": {
        "id": "WvQyyhudL6RE"
      },
      "source": [
        "## Plotting examples\n",
        "[boxplot doc](https://matplotlib.org/stable/api/_as_gen/matplotlib.pyplot.boxplot.html)  \n",
        "[boxplot demo](https://matplotlib.org/stable/gallery/pyplots/boxplot_demo_pyplot.html)  \n",
        "[heatmap examples](https://stackoverflow.com/questions/33282368/plotting-a-2d-heatmap-with-matplotlib) - scroll down!  "
      ]
    },
    {
      "cell_type": "code",
      "metadata": {
        "id": "3O-vZ-vxL6RF"
      },
      "source": [
        ""
      ],
      "execution_count": 9,
      "outputs": []
    }
  ]
}