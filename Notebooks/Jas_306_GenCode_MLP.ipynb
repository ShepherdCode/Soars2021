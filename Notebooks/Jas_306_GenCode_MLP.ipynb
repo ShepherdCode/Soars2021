{
 "cells": [
  {
   "cell_type": "markdown",
   "metadata": {
    "id": "ojm_6E9f9Kcf"
   },
   "source": [
    "# MLP ORF to GenCode \n",
    "\n",
    "Use GenCode 38 and ORF-restricted, length-restricted data.  \n",
    "Use model pre-trained on Simulated ORF.  \n",
    "Test accuracy 63%.  "
   ]
  },
  {
   "cell_type": "code",
   "execution_count": 1,
   "metadata": {
    "colab": {
     "base_uri": "https://localhost:8080/"
    },
    "id": "RmPF4h_YI_sT",
    "outputId": "a1edd650-41ca-4e7e-e543-a8e36a0b40c9"
   },
   "outputs": [
    {
     "name": "stdout",
     "output_type": "stream",
     "text": [
      "2021-08-16 16:54:30 EDT\n"
     ]
    }
   ],
   "source": [
    "import time\n",
    "def show_time():\n",
    "    t = time.time()\n",
    "    print(time.strftime('%Y-%m-%d %H:%M:%S %Z', time.localtime(t)))\n",
    "show_time()"
   ]
  },
  {
   "cell_type": "code",
   "execution_count": 2,
   "metadata": {
    "id": "VQY7aTj29Kch"
   },
   "outputs": [
    {
     "name": "stderr",
     "output_type": "stream",
     "text": [
      "2021-08-16 16:54:31.305077: I tensorflow/stream_executor/platform/default/dso_loader.cc:53] Successfully opened dynamic library libcudart.so.11.0\n"
     ]
    }
   ],
   "source": [
    "import numpy as np\n",
    "import pandas as pd\n",
    "import matplotlib.pyplot as plt\n",
    "from sklearn.utils import shuffle\n",
    "from sklearn.model_selection import KFold\n",
    "from sklearn.model_selection import cross_val_score\n",
    "from sklearn.metrics import roc_curve\n",
    "from sklearn.metrics import roc_auc_score\n",
    "\n",
    "from keras.models import Sequential\n",
    "from keras.layers import Dense,Embedding,Dropout\n",
    "from keras.layers import Flatten,TimeDistributed\n",
    "from keras.losses import BinaryCrossentropy\n",
    "from keras.callbacks import ModelCheckpoint\n",
    "from keras.models import load_model"
   ]
  },
  {
   "cell_type": "code",
   "execution_count": 3,
   "metadata": {
    "colab": {
     "base_uri": "https://localhost:8080/"
    },
    "id": "xUxEB53HI_sk",
    "outputId": "50c1004f-ef2f-4f51-d2d6-358a70a9a4fb"
   },
   "outputs": [
    {
     "name": "stdout",
     "output_type": "stream",
     "text": [
      "CoLab not working. On my PC, use relative paths.\n"
     ]
    }
   ],
   "source": [
    "import sys\n",
    "IN_COLAB = False\n",
    "try:\n",
    "    from google.colab import drive\n",
    "    IN_COLAB = True\n",
    "except:\n",
    "    pass\n",
    "if IN_COLAB:\n",
    "    print(\"On Google CoLab, mount cloud-local file, get our code from GitHub.\")\n",
    "    PATH='/content/drive/'\n",
    "    #drive.mount(PATH,force_remount=True)  # hardly ever need this\n",
    "    drive.mount(PATH)    # Google will require login credentials\n",
    "    DATAPATH=PATH+'My Drive/data/'  # must end in \"/\"\n",
    "    import requests\n",
    "    r = requests.get('https://raw.githubusercontent.com/ShepherdCode/Soars2021/master/SimTools/RNA_describe.py')\n",
    "    with open('RNA_describe.py', 'w') as f:\n",
    "        f.write(r.text)  \n",
    "    from RNA_describe import ORF_counter\n",
    "    r = requests.get('https://raw.githubusercontent.com/ShepherdCode/Soars2021/master/SimTools/GenCodeTools.py')\n",
    "    with open('GenCodeTools.py', 'w') as f:\n",
    "        f.write(r.text)  \n",
    "    from GenCodeTools import GenCodeLoader\n",
    "    r = requests.get('https://raw.githubusercontent.com/ShepherdCode/Soars2021/master/SimTools/KmerTools.py')\n",
    "    with open('KmerTools.py', 'w') as f:\n",
    "        f.write(r.text)  \n",
    "    from KmerTools import KmerTools\n",
    "else:\n",
    "        print(\"CoLab not working. On my PC, use relative paths.\")\n",
    "        DATAPATH='data/'  # must end in \"/\"\n",
    "        sys.path.append(\"..\") # append parent dir in order to use sibling dirs\n",
    "        from SimTools.RNA_describe import ORF_counter\n",
    "        from SimTools.GenCodeTools import GenCodeLoader\n",
    "        from SimTools.KmerTools import KmerTools\n",
    "BESTMODELPATH=DATAPATH+\"BestModel-304\"  \n",
    "LASTMODELPATH=DATAPATH+\"LastModel\"  "
   ]
  },
  {
   "cell_type": "markdown",
   "metadata": {
    "id": "8buAhZRfI_sp"
   },
   "source": [
    "## Data Load"
   ]
  },
  {
   "cell_type": "code",
   "execution_count": 4,
   "metadata": {
    "colab": {
     "base_uri": "https://localhost:8080/"
    },
    "id": "h94xptH1tI82",
    "outputId": "1768facb-1428-432e-bdb0-e16ae90109f4"
   },
   "outputs": [
    {
     "name": "stdout",
     "output_type": "stream",
     "text": [
      "2021-08-16 16:54:31 EDT\n"
     ]
    }
   ],
   "source": [
    "PC_TRAINS=1000\n",
    "NC_TRAINS=1000\n",
    "PC_TESTS=40000\n",
    "NC_TESTS=40000   \n",
    "PC_LENS=(200,4000)\n",
    "NC_LENS=(200,4000)   # Wen used 3500 for hyperparameter, 3000 for train\n",
    "PC_FILENAME='gencode.v38.pc_transcripts.fa.gz'\n",
    "NC_FILENAME='gencode.v38.lncRNA_transcripts.fa.gz'\n",
    "PC_FULLPATH=DATAPATH+PC_FILENAME\n",
    "NC_FULLPATH=DATAPATH+NC_FILENAME\n",
    "MAX_K = 3 \n",
    "INPUT_SHAPE=(None,84)  # 4^3 + 4^2 + 4^1\n",
    "NEURONS=32\n",
    "DROP_RATE=0.30\n",
    "EPOCHS=200\n",
    "SPLITS=3\n",
    "FOLDS=3   \n",
    "show_time()"
   ]
  },
  {
   "cell_type": "code",
   "execution_count": 5,
   "metadata": {
    "colab": {
     "base_uri": "https://localhost:8080/"
    },
    "id": "VNnPagXjtI85",
    "outputId": "5f0a0e19-625d-4348-ae2c-959322fc1628"
   },
   "outputs": [
    {
     "name": "stdout",
     "output_type": "stream",
     "text": [
      "PC seqs loaded: 70825\n",
      "NC seqs loaded: 48752\n",
      "2021-08-16 16:54:34 EDT\n"
     ]
    }
   ],
   "source": [
    "loader=GenCodeLoader()\n",
    "loader.set_label(1)\n",
    "loader.set_check_utr(True)  # ORF-restricted\n",
    "pcdf=loader.load_file(PC_FULLPATH)\n",
    "print(\"PC seqs loaded:\",len(pcdf))\n",
    "loader.set_label(0)\n",
    "loader.set_check_utr(False)\n",
    "ncdf=loader.load_file(NC_FULLPATH)\n",
    "print(\"NC seqs loaded:\",len(ncdf))\n",
    "show_time()"
   ]
  },
  {
   "cell_type": "code",
   "execution_count": 6,
   "metadata": {
    "colab": {
     "base_uri": "https://localhost:8080/"
    },
    "id": "ShtPw_fGtI9E",
    "outputId": "7e2cef66-c962-4fc3-c907-eb2170fa5901"
   },
   "outputs": [
    {
     "name": "stdout",
     "output_type": "stream",
     "text": [
      "2021-08-16 16:54:34 EDT\n",
      "PC seqs pass filter: 55381\n",
      "NC seqs pass filter: 46919\n"
     ]
    }
   ],
   "source": [
    "def dataframe_length_filter(df,low_high):\n",
    "    (low,high)=low_high\n",
    "    # The pandas query language is strange, \n",
    "    # but this is MUCH faster than loop & drop.\n",
    "    return df[ (df['seqlen']>=low) & (df['seqlen']<=high) ]\n",
    "def dataframe_extract_sequence(df):\n",
    "    return df['sequence'].tolist()\n",
    "\n",
    "pc_all = dataframe_extract_sequence(\n",
    "    dataframe_length_filter(pcdf,PC_LENS))  # length-restricted\n",
    "nc_all = dataframe_extract_sequence(\n",
    "    dataframe_length_filter(ncdf,NC_LENS))\n",
    "\n",
    "show_time()\n",
    "print(\"PC seqs pass filter:\",len(pc_all))\n",
    "print(\"NC seqs pass filter:\",len(nc_all))\n",
    "# Garbage collection to reduce RAM footprint\n",
    "pcdf=None\n",
    "ncdf=None"
   ]
  },
  {
   "cell_type": "code",
   "execution_count": 7,
   "metadata": {},
   "outputs": [
    {
     "name": "stdout",
     "output_type": "stream",
     "text": [
      "Simulated sequence characteristics:\n",
      "PC seqs\n",
      "Average RNA length: 1935.5395713331286\n",
      "Average ORF length: 1047.2401906791138\n",
      "NC seqs\n",
      "Average RNA length: 1179.5947483961722\n",
      "Average ORF length: 203.12651591039878\n",
      "2021-08-16 16:54:48 EDT\n"
     ]
    }
   ],
   "source": [
    "# Describe the sequences\n",
    "def describe_sequences(list_of_seq):\n",
    "    oc = ORF_counter()\n",
    "    num_seq = len(list_of_seq)\n",
    "    rna_lens = np.zeros(num_seq)\n",
    "    orf_lens = np.zeros(num_seq)\n",
    "    for i in range(0,num_seq):\n",
    "        rna_len = len(list_of_seq[i])\n",
    "        rna_lens[i] = rna_len\n",
    "        oc.set_sequence(list_of_seq[i])\n",
    "        orf_len = oc.get_max_orf_len()\n",
    "        orf_lens[i] = orf_len\n",
    "    print (\"Average RNA length:\",rna_lens.mean())\n",
    "    print (\"Average ORF length:\",orf_lens.mean())\n",
    "    \n",
    "print(\"Simulated sequence characteristics:\")\n",
    "print(\"PC seqs\")\n",
    "describe_sequences(pc_all)\n",
    "print(\"NC seqs\")\n",
    "describe_sequences(nc_all)\n",
    "show_time()"
   ]
  },
  {
   "cell_type": "markdown",
   "metadata": {
    "id": "CCNh_FZaI_sv"
   },
   "source": [
    "## Data Prep"
   ]
  },
  {
   "cell_type": "code",
   "execution_count": 8,
   "metadata": {},
   "outputs": [
    {
     "name": "stdout",
     "output_type": "stream",
     "text": [
      "The first few shuffled labels:\n",
      "[0 1 0 1 0 1 0 0 1 0 0 0 0 0 0 1 0 1 0 0 1 0 0 1 1 0 1 1 1 1]\n",
      "2021-08-16 16:54:50 EDT\n"
     ]
    }
   ],
   "source": [
    "def combine_pos_and_neg(seqs1,seqs0):\n",
    "    len1=len(seqs1)\n",
    "    len0=len(seqs0)\n",
    "    L1=np.ones(len1,dtype=np.int8)\n",
    "    L0=np.zeros(len0,dtype=np.int8)\n",
    "    S1 = np.asarray(seqs1)\n",
    "    S0 = np.asarray(seqs0)\n",
    "    all_labels = np.concatenate((L1,L0))\n",
    "    all_seqs = np.concatenate((S1,S0))  \n",
    "    #X = shuffle(all_seqs,random_state=3) # sklearn.utils.shuffle \n",
    "    #y = shuffle(all_labels,random_state=3) # sklearn.utils.shuffle \n",
    "    X,y = shuffle(all_seqs,all_labels) # sklearn.utils.shuffle \n",
    "    return X,y\n",
    "Xseq,y=combine_pos_and_neg(pc_all,nc_all)\n",
    "print(\"The first few shuffled labels:\")\n",
    "print(y[:30])\n",
    "pc_all=None\n",
    "nc_all=None\n",
    "show_time()"
   ]
  },
  {
   "cell_type": "code",
   "execution_count": 9,
   "metadata": {},
   "outputs": [
    {
     "name": "stdout",
     "output_type": "stream",
     "text": [
      "{'A': 0.3463302752293578, 'C': 0.1353211009174312, 'G': 0.1628440366972477, 'T': 0.3555045871559633, 'AA': 0.12183908045977011, 'AC': 0.03218390804597701, 'AG': 0.052873563218390804, 'AT': 0.14022988505747128, 'CA': 0.0735632183908046, 'CC': 0.020689655172413793, 'CG': 0.006896551724137931, 'CT': 0.034482758620689655, 'GA': 0.04367816091954023, 'GC': 0.022988505747126436, 'GG': 0.052873563218390804, 'GT': 0.041379310344827586, 'TA': 0.10804597701149425, 'TC': 0.059770114942528735, 'TG': 0.05057471264367816, 'TT': 0.13793103448275862, 'AAA': 0.027649769585253458, 'AAC': 0.004608294930875576, 'AAG': 0.027649769585253458, 'AAT': 0.06221198156682028, 'ACA': 0.020737327188940093, 'ACC': 0.0, 'ACG': 0.002304147465437788, 'ACT': 0.009216589861751152, 'AGA': 0.01152073732718894, 'AGC': 0.01152073732718894, 'AGG': 0.01152073732718894, 'AGT': 0.016129032258064516, 'ATA': 0.059907834101382486, 'ATC': 0.016129032258064516, 'ATG': 0.01152073732718894, 'ATT': 0.052995391705069124, 'CAA': 0.020737327188940093, 'CAC': 0.013824884792626729, 'CAG': 0.018433179723502304, 'CAT': 0.020737327188940093, 'CCA': 0.009216589861751152, 'CCC': 0.004608294930875576, 'CCG': 0.002304147465437788, 'CCT': 0.004608294930875576, 'CGA': 0.002304147465437788, 'CGC': 0.002304147465437788, 'CGG': 0.002304147465437788, 'CGT': 0.0, 'CTA': 0.01152073732718894, 'CTC': 0.01152073732718894, 'CTG': 0.0069124423963133645, 'CTT': 0.004608294930875576, 'GAA': 0.018433179723502304, 'GAC': 0.01152073732718894, 'GAG': 0.0069124423963133645, 'GAT': 0.0069124423963133645, 'GCA': 0.01152073732718894, 'GCC': 0.0069124423963133645, 'GCG': 0.0, 'GCT': 0.004608294930875576, 'GGA': 0.013824884792626729, 'GGC': 0.0069124423963133645, 'GGG': 0.020737327188940093, 'GGT': 0.01152073732718894, 'GTA': 0.002304147465437788, 'GTC': 0.01152073732718894, 'GTG': 0.0069124423963133645, 'GTT': 0.020737327188940093, 'TAA': 0.055299539170506916, 'TAC': 0.002304147465437788, 'TAG': 0.0, 'TAT': 0.05069124423963134, 'TCA': 0.03225806451612903, 'TCC': 0.009216589861751152, 'TCG': 0.002304147465437788, 'TCT': 0.016129032258064516, 'TGA': 0.016129032258064516, 'TGC': 0.002304147465437788, 'TGG': 0.018433179723502304, 'TGT': 0.013824884792626729, 'TTA': 0.03456221198156682, 'TTC': 0.020737327188940093, 'TTG': 0.02304147465437788, 'TTT': 0.059907834101382486}\n",
      "{'A': 0.2681119648737651, 'C': 0.27854006586169044, 'G': 0.25329308452250276, 'T': 0.20005488474204172, 'AA': 0.07795772714795499, 'AC': 0.05764479824320615, 'AG': 0.09278067526763656, 'AT': 0.03980236069173758, 'CA': 0.07246774636288773, 'CC': 0.1034861377985177, 'CG': 0.032939884710403516, 'CT': 0.0697227559703541, 'GA': 0.08976118583584958, 'GC': 0.06258578094976668, 'GG': 0.061213285753499866, 'GT': 0.03952786165248422, 'TA': 0.027998902003842988, 'TC': 0.05462530881141916, 'TG': 0.06642876749931376, 'TT': 0.051056821301125446, 'AAA': 0.027182866556836903, 'AAC': 0.014277869302580999, 'AAG': 0.025260845689181768, 'AAT': 0.011257550796265788, 'ACA': 0.014827018121911038, 'ACC': 0.02059308072487644, 'ACG': 0.009060955518945634, 'ACT': 0.013179571663920923, 'AGA': 0.032399780340472265, 'AGC': 0.02086765513454146, 'AGG': 0.024986271279516747, 'AGT': 0.014552443712246019, 'ATA': 0.007688083470620538, 'ATC': 0.008511806699615597, 'ATG': 0.013179571663920923, 'ATT': 0.01043382756727073, 'CAA': 0.015376166941241077, 'CAC': 0.016474464579901153, 'CAG': 0.03212520593080725, 'CAT': 0.008511806699615597, 'CCA': 0.027457440966501923, 'CCC': 0.03844041735310269, 'CCG': 0.013454146073585941, 'CCT': 0.02416254805052169, 'CGA': 0.009335529928610654, 'CGC': 0.009884678747940691, 'CGG': 0.008786381109280615, 'CGT': 0.004942339373970346, 'CTA': 0.009335529928610654, 'CTC': 0.020043931905546403, 'CTG': 0.022515101592531575, 'CTT': 0.01784733662822625, 'GAA': 0.026084568918176825, 'GAC': 0.02086765513454146, 'GAG': 0.029379461834157055, 'GAT': 0.013454146073585941, 'GCA': 0.01757276221856123, 'GCC': 0.023887973640856673, 'GCG': 0.005216913783635365, 'GCT': 0.015925315760571115, 'GGA': 0.027182866556836903, 'GGC': 0.014277869302580999, 'GGG': 0.01070840197693575, 'GGT': 0.009060955518945634, 'GTA': 0.005766062602965404, 'GTC': 0.012630422844590884, 'GTG': 0.012630422844590884, 'GTT': 0.008511806699615597, 'TAA': 0.009335529928610654, 'TAC': 0.0060406370126304225, 'TAG': 0.0060406370126304225, 'TAT': 0.006589785831960461, 'TCA': 0.012630422844590884, 'TCC': 0.02059308072487644, 'TCG': 0.004942339373970346, 'TCT': 0.016474464579901153, 'TGA': 0.02086765513454146, 'TGC': 0.01757276221856123, 'TGG': 0.016749038989566173, 'TGT': 0.010982976386600769, 'TTA': 0.005216913783635365, 'TTC': 0.013454146073585941, 'TTG': 0.018121911037891267, 'TTT': 0.014277869302580999}\n",
      "{'A': 0.25972006220839816, 'C': 0.2643856920684292, 'G': 0.2223950233281493, 'T': 0.2534992223950233, 'AA': 0.08255451713395638, 'AC': 0.04205607476635514, 'AG': 0.0794392523364486, 'AT': 0.05451713395638629, 'CA': 0.07165109034267912, 'CC': 0.08255451713395638, 'CG': 0.01557632398753894, 'CT': 0.09501557632398754, 'GA': 0.07165109034267912, 'GC': 0.06230529595015576, 'GG': 0.06074766355140187, 'GT': 0.028037383177570093, 'TA': 0.03426791277258567, 'TC': 0.0778816199376947, 'TG': 0.06697819314641744, 'TT': 0.07476635514018691, 'AAA': 0.028081123244929798, 'AAC': 0.0124804992199688, 'AAG': 0.0218408736349454, 'AAT': 0.0187207488299532, 'ACA': 0.0093603744149766, 'ACC': 0.0078003120124804995, 'ACG': 0.0015600624024961, 'ACT': 0.0234009360374415, 'AGA': 0.028081123244929798, 'AGC': 0.0202808112324493, 'AGG': 0.028081123244929798, 'AGT': 0.0031201248049922, 'ATA': 0.0109204368174727, 'ATC': 0.0093603744149766, 'ATG': 0.0171606864274571, 'ATT': 0.0171606864274571, 'CAA': 0.0171606864274571, 'CAC': 0.0109204368174727, 'CAG': 0.028081123244929798, 'CAT': 0.015600624024960999, 'CCA': 0.029641185647425898, 'CCC': 0.014040561622464899, 'CCG': 0.0078003120124804995, 'CCT': 0.031201248049921998, 'CGA': 0.0078003120124804995, 'CGC': 0.0031201248049922, 'CGG': 0.0031201248049922, 'CGT': 0.0015600624024961, 'CTA': 0.014040561622464899, 'CTC': 0.031201248049921998, 'CTG': 0.0265210608424337, 'CTT': 0.0234009360374415, 'GAA': 0.0249609984399376, 'GAC': 0.0124804992199688, 'GAG': 0.0234009360374415, 'GAT': 0.0109204368174727, 'GCA': 0.0171606864274571, 'GCC': 0.0265210608424337, 'GCG': 0.0, 'GCT': 0.0187207488299532, 'GGA': 0.0187207488299532, 'GGC': 0.0202808112324493, 'GGG': 0.0078003120124804995, 'GGT': 0.014040561622464899, 'GTA': 0.0015600624024961, 'GTC': 0.0093603744149766, 'GTG': 0.0078003120124804995, 'GTT': 0.0093603744149766, 'TAA': 0.0124804992199688, 'TAC': 0.0062402496099844, 'TAG': 0.0062402496099844, 'TAT': 0.0093603744149766, 'TCA': 0.015600624024960999, 'TCC': 0.0343213728549142, 'TCG': 0.0062402496099844, 'TCT': 0.0218408736349454, 'TGA': 0.0171606864274571, 'TGC': 0.0187207488299532, 'TGG': 0.0218408736349454, 'TGT': 0.0093603744149766, 'TTA': 0.0078003120124804995, 'TTC': 0.028081123244929798, 'TTG': 0.014040561622464899, 'TTT': 0.0249609984399376}\n",
      "First few K-mer frequency matrices:\n",
      "[[0.34633028 0.1353211  0.16284404 0.35550459 0.12183908 0.03218391\n",
      "  0.05287356 0.14022989 0.07356322 0.02068966 0.00689655 0.03448276\n",
      "  0.04367816 0.02298851 0.05287356 0.04137931 0.10804598 0.05977011\n",
      "  0.05057471 0.13793103 0.02764977 0.00460829 0.02764977 0.06221198\n",
      "  0.02073733 0.         0.00230415 0.00921659 0.01152074 0.01152074\n",
      "  0.01152074 0.01612903 0.05990783 0.01612903 0.01152074 0.05299539\n",
      "  0.02073733 0.01382488 0.01843318 0.02073733 0.00921659 0.00460829\n",
      "  0.00230415 0.00460829 0.00230415 0.00230415 0.00230415 0.\n",
      "  0.01152074 0.01152074 0.00691244 0.00460829 0.01843318 0.01152074\n",
      "  0.00691244 0.00691244 0.01152074 0.00691244 0.         0.00460829\n",
      "  0.01382488 0.00691244 0.02073733 0.01152074 0.00230415 0.01152074\n",
      "  0.00691244 0.02073733 0.05529954 0.00230415 0.         0.05069124\n",
      "  0.03225806 0.00921659 0.00230415 0.01612903 0.01612903 0.00230415\n",
      "  0.01843318 0.01382488 0.03456221 0.02073733 0.02304147 0.05990783]\n",
      " [0.26811196 0.27854007 0.25329308 0.20005488 0.07795773 0.0576448\n",
      "  0.09278068 0.03980236 0.07246775 0.10348614 0.03293988 0.06972276\n",
      "  0.08976119 0.06258578 0.06121329 0.03952786 0.0279989  0.05462531\n",
      "  0.06642877 0.05105682 0.02718287 0.01427787 0.02526085 0.01125755\n",
      "  0.01482702 0.02059308 0.00906096 0.01317957 0.03239978 0.02086766\n",
      "  0.02498627 0.01455244 0.00768808 0.00851181 0.01317957 0.01043383\n",
      "  0.01537617 0.01647446 0.03212521 0.00851181 0.02745744 0.03844042\n",
      "  0.01345415 0.02416255 0.00933553 0.00988468 0.00878638 0.00494234\n",
      "  0.00933553 0.02004393 0.0225151  0.01784734 0.02608457 0.02086766\n",
      "  0.02937946 0.01345415 0.01757276 0.02388797 0.00521691 0.01592532\n",
      "  0.02718287 0.01427787 0.0107084  0.00906096 0.00576606 0.01263042\n",
      "  0.01263042 0.00851181 0.00933553 0.00604064 0.00604064 0.00658979\n",
      "  0.01263042 0.02059308 0.00494234 0.01647446 0.02086766 0.01757276\n",
      "  0.01674904 0.01098298 0.00521691 0.01345415 0.01812191 0.01427787]\n",
      " [0.25972006 0.26438569 0.22239502 0.25349922 0.08255452 0.04205607\n",
      "  0.07943925 0.05451713 0.07165109 0.08255452 0.01557632 0.09501558\n",
      "  0.07165109 0.0623053  0.06074766 0.02803738 0.03426791 0.07788162\n",
      "  0.06697819 0.07476636 0.02808112 0.0124805  0.02184087 0.01872075\n",
      "  0.00936037 0.00780031 0.00156006 0.02340094 0.02808112 0.02028081\n",
      "  0.02808112 0.00312012 0.01092044 0.00936037 0.01716069 0.01716069\n",
      "  0.01716069 0.01092044 0.02808112 0.01560062 0.02964119 0.01404056\n",
      "  0.00780031 0.03120125 0.00780031 0.00312012 0.00312012 0.00156006\n",
      "  0.01404056 0.03120125 0.02652106 0.02340094 0.024961   0.0124805\n",
      "  0.02340094 0.01092044 0.01716069 0.02652106 0.         0.01872075\n",
      "  0.01872075 0.02028081 0.00780031 0.01404056 0.00156006 0.00936037\n",
      "  0.00780031 0.00936037 0.0124805  0.00624025 0.00624025 0.00936037\n",
      "  0.01560062 0.03432137 0.00624025 0.02184087 0.01716069 0.01872075\n",
      "  0.02184087 0.00936037 0.00780031 0.02808112 0.01404056 0.024961  ]]\n",
      "2021-08-16 16:55:20 EDT\n"
     ]
    }
   ],
   "source": [
    "def seqs_to_kmer_freqs(seqs,max_K):\n",
    "    tool = KmerTools()  # from SimTools\n",
    "    collection = []\n",
    "    debug = 0\n",
    "    for seq in seqs:\n",
    "        counts = tool.make_dict_upto_K(max_K)\n",
    "        # Last param should be True when using Harvester.\n",
    "        counts = tool.update_count_one_K(counts,max_K,seq,True)\n",
    "        # Given counts for K=3, Harvester fills in counts for K=1,2.\n",
    "        counts = tool.harvest_counts_from_K(counts,max_K)\n",
    "        fdict = tool.count_to_frequency(counts,max_K)\n",
    "        freqs = list(fdict.values())\n",
    "        collection.append(freqs)\n",
    "        if (debug<3):\n",
    "            print(fdict)\n",
    "            debug += 1;\n",
    "    return np.asarray(collection)\n",
    "Xfrq=seqs_to_kmer_freqs(Xseq,MAX_K)\n",
    "print(\"First few K-mer frequency matrices:\")\n",
    "print(Xfrq[:3])\n",
    "Xseq = None\n",
    "show_time()"
   ]
  },
  {
   "cell_type": "code",
   "execution_count": 10,
   "metadata": {},
   "outputs": [
    {
     "name": "stdout",
     "output_type": "stream",
     "text": [
      "Training set size= 2000 = 2000\n",
      "Reserved test set size= 100300 = 100300\n",
      "2021-08-16 16:55:20 EDT\n"
     ]
    }
   ],
   "source": [
    "# Assume X and y were shuffled.\n",
    "train_size=PC_TRAINS+NC_TRAINS\n",
    "X_train=Xfrq[:train_size] \n",
    "X_test=Xfrq[train_size:]\n",
    "y_train=y[:train_size] \n",
    "y_test=y[train_size:]\n",
    "print(\"Training set size=\",len(X_train),\"=\",len(y_train))\n",
    "print(\"Reserved test set size=\",len(X_test),\"=\",len(y_test))\n",
    "Xfrq=None\n",
    "y=None\n",
    "show_time()"
   ]
  },
  {
   "cell_type": "markdown",
   "metadata": {
    "id": "dJ4XhrzGI_s-"
   },
   "source": [
    "## Load a trained neural network"
   ]
  },
  {
   "cell_type": "code",
   "execution_count": 11,
   "metadata": {
    "colab": {
     "base_uri": "https://localhost:8080/",
     "height": 1000
    },
    "id": "BM6UjBzrrEAV",
    "outputId": "4d7ffa1e-f349-40ef-ee05-a3a8b038c3c7"
   },
   "outputs": [
    {
     "name": "stdout",
     "output_type": "stream",
     "text": [
      "2021-08-16 16:55:20 EDT\n"
     ]
    },
    {
     "name": "stderr",
     "output_type": "stream",
     "text": [
      "2021-08-16 16:55:20.271855: I tensorflow/stream_executor/platform/default/dso_loader.cc:53] Successfully opened dynamic library libcuda.so.1\n",
      "2021-08-16 16:55:20.322047: I tensorflow/stream_executor/cuda/cuda_gpu_executor.cc:937] successful NUMA node read from SysFS had negative value (-1), but there must be at least one NUMA node, so returning NUMA node zero\n",
      "2021-08-16 16:55:20.323003: I tensorflow/core/common_runtime/gpu/gpu_device.cc:1733] Found device 0 with properties: \n",
      "pciBusID: 0000:02:00.0 name: NVIDIA GeForce RTX 2080 Ti computeCapability: 7.5\n",
      "coreClock: 1.545GHz coreCount: 68 deviceMemorySize: 10.75GiB deviceMemoryBandwidth: 573.69GiB/s\n",
      "2021-08-16 16:55:20.323037: I tensorflow/stream_executor/platform/default/dso_loader.cc:53] Successfully opened dynamic library libcudart.so.11.0\n",
      "2021-08-16 16:55:20.326262: I tensorflow/stream_executor/platform/default/dso_loader.cc:53] Successfully opened dynamic library libcublas.so.11\n",
      "2021-08-16 16:55:20.326299: I tensorflow/stream_executor/platform/default/dso_loader.cc:53] Successfully opened dynamic library libcublasLt.so.11\n",
      "2021-08-16 16:55:20.327930: I tensorflow/stream_executor/platform/default/dso_loader.cc:53] Successfully opened dynamic library libcufft.so.10\n",
      "2021-08-16 16:55:20.328124: I tensorflow/stream_executor/platform/default/dso_loader.cc:53] Successfully opened dynamic library libcurand.so.10\n",
      "2021-08-16 16:55:20.328470: I tensorflow/stream_executor/platform/default/dso_loader.cc:53] Successfully opened dynamic library libcusolver.so.11\n",
      "2021-08-16 16:55:20.328990: I tensorflow/stream_executor/platform/default/dso_loader.cc:53] Successfully opened dynamic library libcusparse.so.11\n",
      "2021-08-16 16:55:20.329081: I tensorflow/stream_executor/platform/default/dso_loader.cc:53] Successfully opened dynamic library libcudnn.so.8\n",
      "2021-08-16 16:55:20.329139: I tensorflow/stream_executor/cuda/cuda_gpu_executor.cc:937] successful NUMA node read from SysFS had negative value (-1), but there must be at least one NUMA node, so returning NUMA node zero\n",
      "2021-08-16 16:55:20.329777: I tensorflow/stream_executor/cuda/cuda_gpu_executor.cc:937] successful NUMA node read from SysFS had negative value (-1), but there must be at least one NUMA node, so returning NUMA node zero\n",
      "2021-08-16 16:55:20.330332: I tensorflow/core/common_runtime/gpu/gpu_device.cc:1871] Adding visible gpu devices: 0\n",
      "2021-08-16 16:55:20.330691: I tensorflow/core/platform/cpu_feature_guard.cc:142] This TensorFlow binary is optimized with oneAPI Deep Neural Network Library (oneDNN) to use the following CPU instructions in performance-critical operations:  AVX2 AVX512F FMA\n",
      "To enable them in other operations, rebuild TensorFlow with the appropriate compiler flags.\n",
      "2021-08-16 16:55:20.331796: I tensorflow/stream_executor/cuda/cuda_gpu_executor.cc:937] successful NUMA node read from SysFS had negative value (-1), but there must be at least one NUMA node, so returning NUMA node zero\n",
      "2021-08-16 16:55:20.332393: I tensorflow/core/common_runtime/gpu/gpu_device.cc:1733] Found device 0 with properties: \n",
      "pciBusID: 0000:02:00.0 name: NVIDIA GeForce RTX 2080 Ti computeCapability: 7.5\n",
      "coreClock: 1.545GHz coreCount: 68 deviceMemorySize: 10.75GiB deviceMemoryBandwidth: 573.69GiB/s\n",
      "2021-08-16 16:55:20.332435: I tensorflow/stream_executor/cuda/cuda_gpu_executor.cc:937] successful NUMA node read from SysFS had negative value (-1), but there must be at least one NUMA node, so returning NUMA node zero\n",
      "2021-08-16 16:55:20.332955: I tensorflow/stream_executor/cuda/cuda_gpu_executor.cc:937] successful NUMA node read from SysFS had negative value (-1), but there must be at least one NUMA node, so returning NUMA node zero\n",
      "2021-08-16 16:55:20.333415: I tensorflow/core/common_runtime/gpu/gpu_device.cc:1871] Adding visible gpu devices: 0\n",
      "2021-08-16 16:55:20.333441: I tensorflow/stream_executor/platform/default/dso_loader.cc:53] Successfully opened dynamic library libcudart.so.11.0\n",
      "2021-08-16 16:55:20.648315: I tensorflow/core/common_runtime/gpu/gpu_device.cc:1258] Device interconnect StreamExecutor with strength 1 edge matrix:\n",
      "2021-08-16 16:55:20.648341: I tensorflow/core/common_runtime/gpu/gpu_device.cc:1264]      0 \n",
      "2021-08-16 16:55:20.648344: I tensorflow/core/common_runtime/gpu/gpu_device.cc:1277] 0:   N \n",
      "2021-08-16 16:55:20.648503: I tensorflow/stream_executor/cuda/cuda_gpu_executor.cc:937] successful NUMA node read from SysFS had negative value (-1), but there must be at least one NUMA node, so returning NUMA node zero\n",
      "2021-08-16 16:55:20.648959: I tensorflow/stream_executor/cuda/cuda_gpu_executor.cc:937] successful NUMA node read from SysFS had negative value (-1), but there must be at least one NUMA node, so returning NUMA node zero\n",
      "2021-08-16 16:55:20.649381: I tensorflow/stream_executor/cuda/cuda_gpu_executor.cc:937] successful NUMA node read from SysFS had negative value (-1), but there must be at least one NUMA node, so returning NUMA node zero\n",
      "2021-08-16 16:55:20.649797: I tensorflow/core/common_runtime/gpu/gpu_device.cc:1418] Created TensorFlow device (/job:localhost/replica:0/task:0/device:GPU:0 with 9350 MB memory) -> physical GPU (device: 0, name: NVIDIA GeForce RTX 2080 Ti, pci bus id: 0000:02:00.0, compute capability: 7.5)\n"
     ]
    },
    {
     "name": "stdout",
     "output_type": "stream",
     "text": [
      "Model: \"sequential_1\"\n",
      "_________________________________________________________________\n",
      "Layer (type)                 Output Shape              Param #   \n",
      "=================================================================\n",
      "dense_4 (Dense)              (None, 32)                2720      \n",
      "_________________________________________________________________\n",
      "dropout_3 (Dropout)          (None, 32)                0         \n",
      "_________________________________________________________________\n",
      "dense_5 (Dense)              (None, 32)                1056      \n",
      "_________________________________________________________________\n",
      "dropout_4 (Dropout)          (None, 32)                0         \n",
      "_________________________________________________________________\n",
      "dense_6 (Dense)              (None, 32)                1056      \n",
      "_________________________________________________________________\n",
      "dropout_5 (Dropout)          (None, 32)                0         \n",
      "_________________________________________________________________\n",
      "dense_7 (Dense)              (None, 1)                 33        \n",
      "=================================================================\n",
      "Total params: 4,865\n",
      "Trainable params: 4,865\n",
      "Non-trainable params: 0\n",
      "_________________________________________________________________\n",
      "None\n"
     ]
    }
   ],
   "source": [
    "show_time()\n",
    "model = load_model(BESTMODELPATH)\n",
    "print(model.summary())"
   ]
  },
  {
   "cell_type": "markdown",
   "metadata": {
    "id": "OsytC9VUrEAX"
   },
   "source": [
    "## Test the neural network"
   ]
  },
  {
   "cell_type": "code",
   "execution_count": 12,
   "metadata": {
    "id": "8hIqe1r1rEAa"
   },
   "outputs": [],
   "source": [
    "def show_test_AUC(model,X,y):\n",
    "    ns_probs = [0 for _ in range(len(y))]\n",
    "    bm_probs = model.predict(X)\n",
    "    ns_auc = roc_auc_score(y, ns_probs)\n",
    "    bm_auc = roc_auc_score(y, bm_probs)\n",
    "    ns_fpr, ns_tpr, _ = roc_curve(y, ns_probs)\n",
    "    bm_fpr, bm_tpr, _ = roc_curve(y, bm_probs)\n",
    "    plt.plot(ns_fpr, ns_tpr, linestyle='--', label='Guess, auc=%.4f'%ns_auc)\n",
    "    plt.plot(bm_fpr, bm_tpr, marker='.', label='Model, auc=%.4f'%bm_auc)\n",
    "    plt.title('ROC')\n",
    "    plt.xlabel('False Positive Rate')\n",
    "    plt.ylabel('True Positive Rate')\n",
    "    plt.legend()\n",
    "    plt.show()\n",
    "    print(\"%s: %.2f%%\" %('AUC',bm_auc*100.0))\n",
    "def show_test_accuracy(model,X,y):\n",
    "    scores = model.evaluate(X, y, verbose=0)\n",
    "    print(\"%s: %.2f%%\" % (model.metrics_names[1], scores[1]*100))\n"
   ]
  },
  {
   "cell_type": "code",
   "execution_count": 13,
   "metadata": {
    "colab": {
     "base_uri": "https://localhost:8080/",
     "height": 469
    },
    "id": "tGf2PcxRC8jT",
    "outputId": "489f5c26-0ff9-4f02-f078-39e3abcc51ba"
   },
   "outputs": [
    {
     "name": "stdout",
     "output_type": "stream",
     "text": [
      "Accuracy on test data.\n",
      "2021-08-16 16:55:20 EDT\n"
     ]
    },
    {
     "name": "stderr",
     "output_type": "stream",
     "text": [
      "2021-08-16 16:55:21.025145: I tensorflow/compiler/mlir/mlir_graph_optimization_pass.cc:176] None of the MLIR Optimization Passes are enabled (registered 2)\n",
      "2021-08-16 16:55:21.026582: I tensorflow/core/platform/profile_utils/cpu_utils.cc:114] CPU Frequency: 2496000000 Hz\n",
      "2021-08-16 16:55:23.186393: I tensorflow/stream_executor/platform/default/dso_loader.cc:53] Successfully opened dynamic library libcublas.so.11\n",
      "2021-08-16 16:55:23.749892: I tensorflow/stream_executor/platform/default/dso_loader.cc:53] Successfully opened dynamic library libcublasLt.so.11\n"
     ]
    },
    {
     "data": {
      "image/png": "[encoded data removed]",
      "text/plain": [
       "<Figure size 432x288 with 1 Axes>"
      ]
     },
     "metadata": {
      "needs_background": "light"
     },
     "output_type": "display_data"
    },
    {
     "name": "stdout",
     "output_type": "stream",
     "text": [
      "AUC: 68.79%\n",
      "accuracy: 63.35%\n",
      "2021-08-16 16:55:27 EDT\n"
     ]
    }
   ],
   "source": [
    "print(\"Accuracy on test data.\")\n",
    "show_time()\n",
    "show_test_AUC(model,X_test,y_test)\n",
    "show_test_accuracy(model,X_test,y_test)\n",
    "show_time()"
   ]
  },
  {
   "cell_type": "code",
   "execution_count": null,
   "metadata": {
    "id": "-cSLTNfzrEAo"
   },
   "outputs": [],
   "source": []
  }
 ],
 "metadata": {
  "accelerator": "GPU",
  "colab": {
   "collapsed_sections": [],
   "name": "ORF_MLP_122.ipynb",
   "provenance": []
  },
  "kernelspec": {
   "display_name": "Python 3 (ipykernel)",
   "language": "python",
   "name": "python3"
  },
  "language_info": {
   "codemirror_mode": {
    "name": "ipython",
    "version": 3
   },
   "file_extension": ".py",
   "mimetype": "text/x-python",
   "name": "python",
   "nbconvert_exporter": "python",
   "pygments_lexer": "ipython3",
   "version": "3.8.10"
  }
 },
 "nbformat": 4,
 "nbformat_minor": 1
}
