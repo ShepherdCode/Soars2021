{
 "cells": [
  {
   "cell_type": "markdown",
   "metadata": {
    "id": "0asdcdunj2Tx"
   },
   "source": [
    "# ORF recognition by MLP\n",
    "\n",
    "The MLP cannot read RNA sequences.\n",
    "Here, the inputs are codon frequencies.\n",
    "Measure a simple MLP on simulated RNA with and without ORF."
   ]
  },
  {
   "cell_type": "code",
   "execution_count": 37,
   "metadata": {
    "colab": {
     "base_uri": "https://localhost:8080/",
     "height": 36
    },
    "id": "QP1VTRNQj2UO",
    "outputId": "160ab1d7-83ce-4ab1-a9c2-7bbed840e7b9"
   },
   "outputs": [
    {
     "data": {
      "application/vnd.google.colaboratory.intrinsic+json": {
       "type": "string"
      },
      "text/plain": [
       "'2021-05-17 16:14:10 UTC'"
      ]
     },
     "execution_count": 37,
     "metadata": {
      "tags": []
     },
     "output_type": "execute_result"
    }
   ],
   "source": [
    "import time \n",
    "t = time.time()\n",
    "time.strftime('%Y-%m-%d %H:%M:%S %Z', time.localtime(t))"
   ]
  },
  {
   "cell_type": "code",
   "execution_count": 38,
   "metadata": {
    "id": "Nhz4GKonj2T_"
   },
   "outputs": [],
   "source": [
    "PC_SEQUENCES=20000   # how many protein-coding sequences\n",
    "NC_SEQUENCES=20000   # how many non-coding sequences\n",
    "PC_TESTS=1000\n",
    "NC_TESTS=1000\n",
    "BASES=1000            # how long is each sequence\n",
    "ALPHABET=4          # how many different letters are possible\n",
    "CODON_SPACE=64\n",
    "INPUT_SHAPE_2D = (BASES,ALPHABET,1) # Conv2D needs 3D inputs\n",
    "INPUT_SHAPE = (BASES,CODON_SPACE) # Conv1D needs 2D inputs\n",
    "#FILTERS = 32   # how many different patterns the model looks for\n",
    "#WIDTH = 3   # how wide each pattern is, in bases\n",
    "#STRIDE_2D = (1,1)  # For Conv2D how far in each direction\n",
    "#STRIDE = 1 # For Conv1D, how far between pattern matches, in bases\n",
    "NEURONS = 32\n",
    "#DROP_RATE = 0.01\n",
    "EPOCHS=50  # how many times to train on all the data\n",
    "SPLITS=5  # SPLITS=3 means train on 2/3 and validate on 1/3 \n",
    "FOLDS=5  # train the model this many times (range 1 to SPLITS)"
   ]
  },
  {
   "cell_type": "code",
   "execution_count": 39,
   "metadata": {
    "colab": {
     "base_uri": "https://localhost:8080/"
    },
    "id": "lr7q90rxj2UE",
    "outputId": "8ce44936-9b55-42a6-80e6-1886bd5b6419"
   },
   "outputs": [
    {
     "name": "stdout",
     "output_type": "stream",
     "text": [
      "On Google CoLab, mount cloud-local file, get our code from GitHub.\n"
     ]
    }
   ],
   "source": [
    "import sys\n",
    "try:\n",
    "    from google.colab import drive\n",
    "    IN_COLAB = True\n",
    "    print(\"On Google CoLab, mount cloud-local file, get our code from GitHub.\")\n",
    "    PATH='/content/drive/'\n",
    "    #drive.mount(PATH,force_remount=True)  # hardly ever need this\n",
    "    #drive.mount(PATH)    # Google will require login credentials\n",
    "    DATAPATH=PATH+'My Drive/data/'  # must end in \"/\"\n",
    "    import requests\n",
    "    r = requests.get('https://raw.githubusercontent.com/ShepherdCode/Soars2021/master/SimTools/RNA_gen.py')\n",
    "    with open('RNA_gen.py', 'w') as f:\n",
    "        f.write(r.text)  \n",
    "    from RNA_gen import *\n",
    "    r = requests.get('https://raw.githubusercontent.com/ShepherdCode/Soars2021/master/SimTools/RNA_describe.py')\n",
    "    with open('RNA_describe.py', 'w') as f:\n",
    "        f.write(r.text)  \n",
    "    from RNA_describe import *\n",
    "    r = requests.get('https://raw.githubusercontent.com/ShepherdCode/Soars2021/master/SimTools/RNA_prep.py')\n",
    "    with open('RNA_prep.py', 'w') as f:\n",
    "        f.write(r.text)  \n",
    "    from RNA_prep import *\n",
    "except:\n",
    "    print(\"CoLab not working. On my PC, use relative paths.\")\n",
    "    IN_COLAB = False\n",
    "    DATAPATH='data/'  # must end in \"/\"\n",
    "    sys.path.append(\"..\") # append parent dir in order to use sibling dirs\n",
    "    from SimTools.RNA_gen import *\n",
    "    from SimTools.RNA_describe import *\n",
    "    from SimTools.RNA_prep import *\n",
    "\n",
    "MODELPATH=\"BestModel\"  # saved on cloud instance and lost after logout\n",
    "#MODELPATH=DATAPATH+MODELPATH  # saved on Google Drive but requires login\n",
    "\n",
    "if not assert_imported_RNA_gen():\n",
    "    print(\"ERROR: Cannot use RNA_gen.\")\n",
    "if not assert_imported_RNA_prep():\n",
    "    print(\"ERROR: Cannot use RNA_prep.\")"
   ]
  },
  {
   "cell_type": "code",
   "execution_count": 40,
   "metadata": {
    "id": "EGDXH8Uwj2UM"
   },
   "outputs": [],
   "source": [
    "from os import listdir\n",
    "import csv\n",
    "from zipfile import ZipFile\n",
    "\n",
    "import numpy as np\n",
    "import pandas as pd\n",
    "from scipy import stats  # mode\n",
    "\n",
    "from sklearn.preprocessing import StandardScaler\n",
    "from sklearn.model_selection import KFold\n",
    "from sklearn.model_selection import cross_val_score\n",
    "\n",
    "from keras.models import Sequential\n",
    "from keras.layers import Dense,Embedding,Dropout\n",
    "from keras.layers import Conv1D,Conv2D\n",
    "from keras.layers import Flatten,MaxPooling1D,MaxPooling2D\n",
    "from keras.losses import BinaryCrossentropy\n",
    "# tf.keras.losses.BinaryCrossentropy\n",
    "\n",
    "import matplotlib.pyplot as plt\n",
    "from matplotlib import colors\n",
    "mycmap = colors.ListedColormap(['red','blue'])  # list color for label 0 then 1\n",
    "np.set_printoptions(precision=2)\n"
   ]
  },
  {
   "cell_type": "code",
   "execution_count": 41,
   "metadata": {
    "colab": {
     "base_uri": "https://localhost:8080/"
    },
    "id": "Q0FetlLPj2UQ",
    "outputId": "6434cdd9-fdd9-4b21-f9de-e93f5c31a177"
   },
   "outputs": [
    {
     "name": "stdout",
     "output_type": "stream",
     "text": [
      "Train on 20000 PC seqs\n",
      "Train on 20000 NC seqs\n"
     ]
    }
   ],
   "source": [
    "# Use code from our SimTools library.\n",
    "def make_generators(seq_len):\n",
    "    pcgen = Collection_Generator()  \n",
    "    pcgen.get_len_oracle().set_mean(seq_len)\n",
    "    pcgen.set_seq_oracle(Transcript_Oracle())\n",
    "    ncgen = Collection_Generator()  \n",
    "    ncgen.get_len_oracle().set_mean(seq_len)\n",
    "    return pcgen,ncgen\n",
    "\n",
    "pc_sim,nc_sim = make_generators(BASES)\n",
    "pc_train = pc_sim.get_sequences(PC_SEQUENCES)\n",
    "nc_train = nc_sim.get_sequences(NC_SEQUENCES)\n",
    "print(\"Train on\",len(pc_train),\"PC seqs\")\n",
    "print(\"Train on\",len(nc_train),\"NC seqs\")"
   ]
  },
  {
   "cell_type": "code",
   "execution_count": 42,
   "metadata": {
    "colab": {
     "base_uri": "https://localhost:8080/"
    },
    "id": "CIpTrnH6j2US",
    "outputId": "baa4c316-e00e-45c6-cfbb-3fe38547049e"
   },
   "outputs": [
    {
     "name": "stdout",
     "output_type": "stream",
     "text": [
      "X shape: (40000, 64)\n"
     ]
    }
   ],
   "source": [
    "# Use code from our SimTools library.\n",
    "X,y = prepare_inputs_codon_frequency(pc_train,nc_train) # shuffles\n",
    "print(\"X shape:\",X.shape)"
   ]
  },
  {
   "cell_type": "code",
   "execution_count": 43,
   "metadata": {
    "colab": {
     "base_uri": "https://localhost:8080/"
    },
    "id": "7NvrVU8ij2UU",
    "outputId": "aa37bfe5-6770-4497-a0c8-b651eac85946"
   },
   "outputs": [
    {
     "name": "stdout",
     "output_type": "stream",
     "text": [
      "make_DNN\n",
      "input shape: (1000, 64)\n",
      "Model: \"sequential_17\"\n",
      "_________________________________________________________________\n",
      "Layer (type)                 Output Shape              Param #   \n",
      "=================================================================\n",
      "dense_80 (Dense)             (1000, 32)                2080      \n",
      "_________________________________________________________________\n",
      "dense_81 (Dense)             (1000, 32)                1056      \n",
      "_________________________________________________________________\n",
      "dense_82 (Dense)             (1000, 32)                1056      \n",
      "_________________________________________________________________\n",
      "dense_83 (Dense)             (1000, 32)                1056      \n",
      "_________________________________________________________________\n",
      "dense_84 (Dense)             (1000, 1)                 33        \n",
      "=================================================================\n",
      "Total params: 5,281\n",
      "Trainable params: 5,281\n",
      "Non-trainable params: 0\n",
      "_________________________________________________________________\n",
      "None\n"
     ]
    }
   ],
   "source": [
    "def make_DNN():\n",
    "    print(\"make_DNN\")\n",
    "    print(\"input shape:\",INPUT_SHAPE)\n",
    "    dnn = Sequential()\n",
    "    dnn.add(Dense(NEURONS,activation=\"sigmoid\",dtype=np.float32))   \n",
    "    dnn.add(Dense(NEURONS,activation=\"sigmoid\",dtype=np.float32))   \n",
    "    dnn.add(Dense(NEURONS,activation=\"sigmoid\",dtype=np.float32))   \n",
    "    dnn.add(Dense(NEURONS,activation=\"sigmoid\",dtype=np.float32))   \n",
    "    dnn.add(Dense(1,activation=\"sigmoid\",dtype=np.float32))   \n",
    "    dnn.compile(optimizer='adam',\n",
    "                loss=BinaryCrossentropy(from_logits=False),\n",
    "                metrics=['accuracy'])   # add to default metrics=loss\n",
    "    dnn.build(input_shape=INPUT_SHAPE)\n",
    "    #ln_rate = tf.keras.optimizers.Adam(learning_rate = LN_RATE)\n",
    "    #bc=tf.keras.losses.BinaryCrossentropy(from_logits=False)\n",
    "    #model.compile(loss=bc, optimizer=ln_rate, metrics=[\"accuracy\"])\n",
    "    return dnn\n",
    "model = make_DNN()\n",
    "print(model.summary())"
   ]
  },
  {
   "cell_type": "code",
   "execution_count": 44,
   "metadata": {
    "id": "nlVF0hR3j2UW"
   },
   "outputs": [],
   "source": [
    "from keras.callbacks import ModelCheckpoint\n",
    "def do_cross_validation(X,y):\n",
    "    cv_scores = []\n",
    "    fold=0\n",
    "    mycallbacks = [ModelCheckpoint(\n",
    "        filepath=MODELPATH, save_best_only=True, \n",
    "        monitor='val_accuracy', mode='max')]   \n",
    "    splitter = KFold(n_splits=SPLITS)  # this does not shuffle\n",
    "    for train_index,valid_index in splitter.split(X):\n",
    "        if fold < FOLDS:\n",
    "            fold += 1\n",
    "            X_train=X[train_index] # inputs for training\n",
    "            y_train=y[train_index] # labels for training\n",
    "            X_valid=X[valid_index] # inputs for validation\n",
    "            y_valid=y[valid_index] # labels for validation\n",
    "            print(\"MODEL\")\n",
    "            # Call constructor on each CV. Else, continually improves the same model.\n",
    "            model = model = make_DNN()\n",
    "            print(\"FIT\")  # model.fit() implements learning\n",
    "            start_time=time.time()\n",
    "            history=model.fit(X_train, y_train, \n",
    "                    epochs=EPOCHS, \n",
    "                    verbose=1,  # ascii art while learning\n",
    "                    callbacks=mycallbacks,   # called at end of each epoch\n",
    "                    validation_data=(X_valid,y_valid))\n",
    "            end_time=time.time()\n",
    "            elapsed_time=(end_time-start_time)                        \n",
    "            print(\"Fold %d, %d epochs, %d sec\"%(fold,EPOCHS,elapsed_time))\n",
    "            # print(history.history.keys())  # all these keys will be shown in figure\n",
    "            pd.DataFrame(history.history).plot(figsize=(8,5))\n",
    "            plt.grid(True)\n",
    "            plt.gca().set_ylim(0,1) # any losses > 1 will be off the scale\n",
    "            plt.show()\n"
   ]
  },
  {
   "cell_type": "code",
   "execution_count": 45,
   "metadata": {
    "colab": {
     "base_uri": "https://localhost:8080/",
     "height": 1000
    },
    "id": "9Ggt4EsSj2UY",
    "outputId": "e7693260-3eb3-49e9-953a-7e0f66edce6f"
   },
   "outputs": [
    {
     "name": "stdout",
     "output_type": "stream",
     "text": [
      "MODEL\n",
      "make_DNN\n",
      "input shape: (1000, 64)\n",
      "FIT\n",
      "Epoch 1/50\n",
      "1000/1000 [==============================] - 2s 2ms/step - loss: 0.6984 - accuracy: 0.4998 - val_loss: 0.6945 - val_accuracy: 0.4999\n",
      "INFO:tensorflow:Assets written to: BestModel/assets\n",
      "Epoch 2/50\n",
      "1000/1000 [==============================] - 2s 2ms/step - loss: 0.6939 - accuracy: 0.5040 - val_loss: 0.6986 - val_accuracy: 0.4999\n",
      "Epoch 3/50\n",
      "1000/1000 [==============================] - 2s 2ms/step - loss: 0.6938 - accuracy: 0.5026 - val_loss: 0.6931 - val_accuracy: 0.4999\n",
      "Epoch 4/50\n",
      "1000/1000 [==============================] - 2s 2ms/step - loss: 0.6937 - accuracy: 0.4990 - val_loss: 0.6932 - val_accuracy: 0.4999\n",
      "Epoch 5/50\n",
      "1000/1000 [==============================] - 2s 2ms/step - loss: 0.6941 - accuracy: 0.4998 - val_loss: 0.6930 - val_accuracy: 0.4999\n",
      "Epoch 6/50\n",
      "1000/1000 [==============================] - 2s 2ms/step - loss: 0.6936 - accuracy: 0.4994 - val_loss: 0.6936 - val_accuracy: 0.4999\n",
      "Epoch 7/50\n",
      "1000/1000 [==============================] - 2s 2ms/step - loss: 0.6933 - accuracy: 0.5062 - val_loss: 0.6917 - val_accuracy: 0.5001\n",
      "INFO:tensorflow:Assets written to: BestModel/assets\n",
      "Epoch 8/50\n",
      "1000/1000 [==============================] - 2s 2ms/step - loss: 0.6882 - accuracy: 0.5477 - val_loss: 0.6687 - val_accuracy: 0.5776\n",
      "INFO:tensorflow:Assets written to: BestModel/assets\n",
      "Epoch 9/50\n",
      "1000/1000 [==============================] - 2s 2ms/step - loss: 0.6509 - accuracy: 0.6342 - val_loss: 0.6406 - val_accuracy: 0.6265\n",
      "INFO:tensorflow:Assets written to: BestModel/assets\n",
      "Epoch 10/50\n",
      "1000/1000 [==============================] - 2s 2ms/step - loss: 0.6183 - accuracy: 0.6561 - val_loss: 0.6217 - val_accuracy: 0.6536\n",
      "INFO:tensorflow:Assets written to: BestModel/assets\n",
      "Epoch 11/50\n",
      "1000/1000 [==============================] - 2s 2ms/step - loss: 0.6138 - accuracy: 0.6649 - val_loss: 0.6144 - val_accuracy: 0.6612\n",
      "INFO:tensorflow:Assets written to: BestModel/assets\n",
      "Epoch 12/50\n",
      "1000/1000 [==============================] - 2s 2ms/step - loss: 0.6111 - accuracy: 0.6609 - val_loss: 0.6193 - val_accuracy: 0.6559\n",
      "Epoch 13/50\n",
      "1000/1000 [==============================] - 2s 2ms/step - loss: 0.6096 - accuracy: 0.6665 - val_loss: 0.6133 - val_accuracy: 0.6618\n",
      "INFO:tensorflow:Assets written to: BestModel/assets\n",
      "Epoch 14/50\n",
      "1000/1000 [==============================] - 2s 2ms/step - loss: 0.6086 - accuracy: 0.6691 - val_loss: 0.6168 - val_accuracy: 0.6580\n",
      "Epoch 15/50\n",
      "1000/1000 [==============================] - 2s 2ms/step - loss: 0.6034 - accuracy: 0.6734 - val_loss: 0.6131 - val_accuracy: 0.6603\n",
      "Epoch 16/50\n",
      "1000/1000 [==============================] - 2s 2ms/step - loss: 0.6031 - accuracy: 0.6736 - val_loss: 0.6093 - val_accuracy: 0.6634\n",
      "INFO:tensorflow:Assets written to: BestModel/assets\n",
      "Epoch 17/50\n",
      "1000/1000 [==============================] - 2s 2ms/step - loss: 0.6040 - accuracy: 0.6714 - val_loss: 0.6129 - val_accuracy: 0.6654\n",
      "INFO:tensorflow:Assets written to: BestModel/assets\n",
      "Epoch 18/50\n",
      "1000/1000 [==============================] - 2s 2ms/step - loss: 0.6078 - accuracy: 0.6688 - val_loss: 0.6107 - val_accuracy: 0.6661\n",
      "INFO:tensorflow:Assets written to: BestModel/assets\n",
      "Epoch 19/50\n",
      "1000/1000 [==============================] - 2s 2ms/step - loss: 0.6030 - accuracy: 0.6751 - val_loss: 0.6122 - val_accuracy: 0.6666\n",
      "INFO:tensorflow:Assets written to: BestModel/assets\n",
      "Epoch 20/50\n",
      "1000/1000 [==============================] - 2s 2ms/step - loss: 0.6043 - accuracy: 0.6717 - val_loss: 0.6207 - val_accuracy: 0.6585\n",
      "Epoch 21/50\n",
      "1000/1000 [==============================] - 2s 2ms/step - loss: 0.6026 - accuracy: 0.6757 - val_loss: 0.6165 - val_accuracy: 0.6594\n",
      "Epoch 22/50\n",
      "1000/1000 [==============================] - 2s 2ms/step - loss: 0.6000 - accuracy: 0.6757 - val_loss: 0.6041 - val_accuracy: 0.6675\n",
      "INFO:tensorflow:Assets written to: BestModel/assets\n",
      "Epoch 23/50\n",
      "1000/1000 [==============================] - 2s 2ms/step - loss: 0.6002 - accuracy: 0.6741 - val_loss: 0.6089 - val_accuracy: 0.6675\n",
      "Epoch 24/50\n",
      "1000/1000 [==============================] - 2s 2ms/step - loss: 0.6002 - accuracy: 0.6777 - val_loss: 0.6041 - val_accuracy: 0.6685\n",
      "INFO:tensorflow:Assets written to: BestModel/assets\n",
      "Epoch 25/50\n",
      "1000/1000 [==============================] - 2s 2ms/step - loss: 0.6012 - accuracy: 0.6736 - val_loss: 0.6047 - val_accuracy: 0.6680\n",
      "Epoch 26/50\n",
      "1000/1000 [==============================] - 2s 2ms/step - loss: 0.6032 - accuracy: 0.6728 - val_loss: 0.6127 - val_accuracy: 0.6630\n",
      "Epoch 27/50\n",
      "1000/1000 [==============================] - 2s 2ms/step - loss: 0.5997 - accuracy: 0.6748 - val_loss: 0.6145 - val_accuracy: 0.6624\n",
      "Epoch 28/50\n",
      "1000/1000 [==============================] - 2s 2ms/step - loss: 0.6056 - accuracy: 0.6692 - val_loss: 0.6032 - val_accuracy: 0.6708\n",
      "INFO:tensorflow:Assets written to: BestModel/assets\n",
      "Epoch 29/50\n",
      "1000/1000 [==============================] - 2s 2ms/step - loss: 0.5990 - accuracy: 0.6778 - val_loss: 0.6039 - val_accuracy: 0.6720\n",
      "INFO:tensorflow:Assets written to: BestModel/assets\n",
      "Epoch 30/50\n",
      "1000/1000 [==============================] - 2s 2ms/step - loss: 0.6026 - accuracy: 0.6728 - val_loss: 0.6022 - val_accuracy: 0.6678\n",
      "Epoch 31/50\n",
      "1000/1000 [==============================] - 2s 2ms/step - loss: 0.6013 - accuracy: 0.6729 - val_loss: 0.6061 - val_accuracy: 0.6712\n",
      "Epoch 32/50\n",
      "1000/1000 [==============================] - 2s 2ms/step - loss: 0.6052 - accuracy: 0.6675 - val_loss: 0.6024 - val_accuracy: 0.6718\n",
      "Epoch 33/50\n",
      "1000/1000 [==============================] - 2s 2ms/step - loss: 0.6015 - accuracy: 0.6712 - val_loss: 0.6103 - val_accuracy: 0.6645\n",
      "Epoch 34/50\n",
      "1000/1000 [==============================] - 2s 2ms/step - loss: 0.5981 - accuracy: 0.6751 - val_loss: 0.6017 - val_accuracy: 0.6685\n",
      "Epoch 35/50\n",
      "1000/1000 [==============================] - 2s 2ms/step - loss: 0.6020 - accuracy: 0.6708 - val_loss: 0.6022 - val_accuracy: 0.6729\n",
      "INFO:tensorflow:Assets written to: BestModel/assets\n",
      "Epoch 36/50\n",
      "1000/1000 [==============================] - 2s 2ms/step - loss: 0.6008 - accuracy: 0.6732 - val_loss: 0.6016 - val_accuracy: 0.6709\n",
      "Epoch 37/50\n",
      "1000/1000 [==============================] - 2s 2ms/step - loss: 0.5961 - accuracy: 0.6822 - val_loss: 0.6030 - val_accuracy: 0.6720\n",
      "Epoch 38/50\n",
      "1000/1000 [==============================] - 2s 2ms/step - loss: 0.5972 - accuracy: 0.6785 - val_loss: 0.6025 - val_accuracy: 0.6736\n",
      "INFO:tensorflow:Assets written to: BestModel/assets\n",
      "Epoch 39/50\n",
      "1000/1000 [==============================] - 2s 2ms/step - loss: 0.6008 - accuracy: 0.6713 - val_loss: 0.6016 - val_accuracy: 0.6711\n",
      "Epoch 40/50\n",
      "1000/1000 [==============================] - 2s 2ms/step - loss: 0.5971 - accuracy: 0.6773 - val_loss: 0.6034 - val_accuracy: 0.6712\n",
      "Epoch 41/50\n",
      "1000/1000 [==============================] - 2s 2ms/step - loss: 0.6021 - accuracy: 0.6721 - val_loss: 0.6048 - val_accuracy: 0.6716\n",
      "Epoch 42/50\n",
      "1000/1000 [==============================] - 2s 2ms/step - loss: 0.5959 - accuracy: 0.6783 - val_loss: 0.6016 - val_accuracy: 0.6725\n",
      "Epoch 43/50\n",
      "1000/1000 [==============================] - 2s 2ms/step - loss: 0.6000 - accuracy: 0.6736 - val_loss: 0.6018 - val_accuracy: 0.6726\n",
      "Epoch 44/50\n",
      "1000/1000 [==============================] - 2s 2ms/step - loss: 0.5966 - accuracy: 0.6771 - val_loss: 0.6015 - val_accuracy: 0.6725\n",
      "Epoch 45/50\n",
      "1000/1000 [==============================] - 2s 2ms/step - loss: 0.5920 - accuracy: 0.6809 - val_loss: 0.6013 - val_accuracy: 0.6719\n",
      "Epoch 46/50\n",
      "1000/1000 [==============================] - 2s 2ms/step - loss: 0.6006 - accuracy: 0.6753 - val_loss: 0.6017 - val_accuracy: 0.6731\n",
      "Epoch 47/50\n",
      "1000/1000 [==============================] - 2s 2ms/step - loss: 0.5966 - accuracy: 0.6774 - val_loss: 0.6067 - val_accuracy: 0.6696\n",
      "Epoch 48/50\n",
      "1000/1000 [==============================] - 2s 2ms/step - loss: 0.5988 - accuracy: 0.6780 - val_loss: 0.6067 - val_accuracy: 0.6697\n",
      "Epoch 49/50\n",
      "1000/1000 [==============================] - 2s 2ms/step - loss: 0.5960 - accuracy: 0.6774 - val_loss: 0.6011 - val_accuracy: 0.6720\n",
      "Epoch 50/50\n",
      "1000/1000 [==============================] - 2s 2ms/step - loss: 0.5971 - accuracy: 0.6758 - val_loss: 0.6034 - val_accuracy: 0.6735\n",
      "Fold 1, 50 epochs, 112 sec\n"
     ]
    },
    {
     "data": {
      "image/png": "[encoded data removed]",
      "text/plain": [
       "<Figure size 576x360 with 1 Axes>"
      ]
     },
     "metadata": {
      "needs_background": "light",
      "tags": []
     },
     "output_type": "display_data"
    },
    {
     "name": "stdout",
     "output_type": "stream",
     "text": [
      "MODEL\n",
      "make_DNN\n",
      "input shape: (1000, 64)\n",
      "FIT\n",
      "Epoch 1/50\n",
      "1000/1000 [==============================] - 3s 2ms/step - loss: 0.6954 - accuracy: 0.5041 - val_loss: 0.6936 - val_accuracy: 0.5005\n",
      "Epoch 2/50\n",
      "1000/1000 [==============================] - 2s 2ms/step - loss: 0.6940 - accuracy: 0.4945 - val_loss: 0.6937 - val_accuracy: 0.5005\n",
      "Epoch 3/50\n",
      "1000/1000 [==============================] - 2s 2ms/step - loss: 0.6940 - accuracy: 0.5019 - val_loss: 0.6949 - val_accuracy: 0.5005\n",
      "Epoch 4/50\n",
      "1000/1000 [==============================] - 2s 2ms/step - loss: 0.6940 - accuracy: 0.4964 - val_loss: 0.6931 - val_accuracy: 0.4995\n",
      "Epoch 5/50\n",
      "1000/1000 [==============================] - 2s 2ms/step - loss: 0.6938 - accuracy: 0.5025 - val_loss: 0.6934 - val_accuracy: 0.5005\n",
      "Epoch 6/50\n",
      "1000/1000 [==============================] - 2s 2ms/step - loss: 0.6936 - accuracy: 0.4979 - val_loss: 0.6928 - val_accuracy: 0.5000\n",
      "Epoch 7/50\n",
      "1000/1000 [==============================] - 2s 2ms/step - loss: 0.6932 - accuracy: 0.5085 - val_loss: 0.6928 - val_accuracy: 0.4995\n",
      "Epoch 8/50\n",
      "1000/1000 [==============================] - 2s 2ms/step - loss: 0.6909 - accuracy: 0.5359 - val_loss: 0.6780 - val_accuracy: 0.6499\n",
      "Epoch 9/50\n",
      "1000/1000 [==============================] - 2s 2ms/step - loss: 0.6643 - accuracy: 0.6263 - val_loss: 0.6252 - val_accuracy: 0.6571\n",
      "Epoch 10/50\n",
      "1000/1000 [==============================] - 2s 2ms/step - loss: 0.6195 - accuracy: 0.6555 - val_loss: 0.6109 - val_accuracy: 0.6689\n",
      "Epoch 11/50\n",
      "1000/1000 [==============================] - 2s 2ms/step - loss: 0.6139 - accuracy: 0.6570 - val_loss: 0.6277 - val_accuracy: 0.6489\n",
      "Epoch 12/50\n",
      "1000/1000 [==============================] - 2s 2ms/step - loss: 0.6146 - accuracy: 0.6597 - val_loss: 0.6323 - val_accuracy: 0.6429\n",
      "Epoch 13/50\n",
      "1000/1000 [==============================] - 2s 2ms/step - loss: 0.6147 - accuracy: 0.6606 - val_loss: 0.6048 - val_accuracy: 0.6711\n",
      "Epoch 14/50\n",
      "1000/1000 [==============================] - 2s 2ms/step - loss: 0.6101 - accuracy: 0.6657 - val_loss: 0.6032 - val_accuracy: 0.6709\n",
      "Epoch 15/50\n",
      "1000/1000 [==============================] - 2s 2ms/step - loss: 0.6070 - accuracy: 0.6683 - val_loss: 0.6022 - val_accuracy: 0.6721\n",
      "Epoch 16/50\n",
      "1000/1000 [==============================] - 2s 2ms/step - loss: 0.6076 - accuracy: 0.6678 - val_loss: 0.6221 - val_accuracy: 0.6551\n",
      "Epoch 17/50\n",
      "1000/1000 [==============================] - 2s 2ms/step - loss: 0.6043 - accuracy: 0.6706 - val_loss: 0.6024 - val_accuracy: 0.6679\n",
      "Epoch 18/50\n",
      "1000/1000 [==============================] - 2s 2ms/step - loss: 0.6082 - accuracy: 0.6657 - val_loss: 0.6019 - val_accuracy: 0.6779\n",
      "INFO:tensorflow:Assets written to: BestModel/assets\n",
      "Epoch 19/50\n",
      "1000/1000 [==============================] - 2s 2ms/step - loss: 0.6037 - accuracy: 0.6716 - val_loss: 0.6036 - val_accuracy: 0.6683\n",
      "Epoch 20/50\n",
      "1000/1000 [==============================] - 2s 2ms/step - loss: 0.6005 - accuracy: 0.6730 - val_loss: 0.6009 - val_accuracy: 0.6791\n",
      "INFO:tensorflow:Assets written to: BestModel/assets\n",
      "Epoch 21/50\n",
      "1000/1000 [==============================] - 2s 2ms/step - loss: 0.6043 - accuracy: 0.6723 - val_loss: 0.5979 - val_accuracy: 0.6795\n",
      "INFO:tensorflow:Assets written to: BestModel/assets\n",
      "Epoch 22/50\n",
      "1000/1000 [==============================] - 2s 2ms/step - loss: 0.6053 - accuracy: 0.6658 - val_loss: 0.5972 - val_accuracy: 0.6779\n",
      "Epoch 23/50\n",
      "1000/1000 [==============================] - 2s 2ms/step - loss: 0.6030 - accuracy: 0.6697 - val_loss: 0.5970 - val_accuracy: 0.6787\n",
      "Epoch 24/50\n",
      "1000/1000 [==============================] - 2s 2ms/step - loss: 0.6026 - accuracy: 0.6744 - val_loss: 0.6084 - val_accuracy: 0.6658\n",
      "Epoch 25/50\n",
      "1000/1000 [==============================] - 2s 2ms/step - loss: 0.6012 - accuracy: 0.6744 - val_loss: 0.5990 - val_accuracy: 0.6791\n",
      "Epoch 26/50\n",
      "1000/1000 [==============================] - 2s 2ms/step - loss: 0.5999 - accuracy: 0.6753 - val_loss: 0.5984 - val_accuracy: 0.6768\n",
      "Epoch 27/50\n",
      "1000/1000 [==============================] - 2s 2ms/step - loss: 0.6022 - accuracy: 0.6745 - val_loss: 0.6055 - val_accuracy: 0.6689\n",
      "Epoch 28/50\n",
      "1000/1000 [==============================] - 2s 2ms/step - loss: 0.6043 - accuracy: 0.6675 - val_loss: 0.5957 - val_accuracy: 0.6793\n",
      "Epoch 29/50\n",
      "1000/1000 [==============================] - 2s 2ms/step - loss: 0.5990 - accuracy: 0.6766 - val_loss: 0.5956 - val_accuracy: 0.6801\n",
      "INFO:tensorflow:Assets written to: BestModel/assets\n",
      "Epoch 30/50\n",
      "1000/1000 [==============================] - 2s 2ms/step - loss: 0.5998 - accuracy: 0.6765 - val_loss: 0.5954 - val_accuracy: 0.6799\n",
      "Epoch 31/50\n",
      "1000/1000 [==============================] - 2s 2ms/step - loss: 0.6029 - accuracy: 0.6717 - val_loss: 0.6023 - val_accuracy: 0.6739\n",
      "Epoch 32/50\n",
      "1000/1000 [==============================] - 2s 2ms/step - loss: 0.6044 - accuracy: 0.6718 - val_loss: 0.5960 - val_accuracy: 0.6765\n",
      "Epoch 33/50\n",
      "1000/1000 [==============================] - 2s 2ms/step - loss: 0.5990 - accuracy: 0.6731 - val_loss: 0.5965 - val_accuracy: 0.6764\n",
      "Epoch 34/50\n",
      "1000/1000 [==============================] - 2s 2ms/step - loss: 0.6000 - accuracy: 0.6729 - val_loss: 0.6008 - val_accuracy: 0.6761\n",
      "Epoch 35/50\n",
      "1000/1000 [==============================] - 2s 2ms/step - loss: 0.5992 - accuracy: 0.6754 - val_loss: 0.6005 - val_accuracy: 0.6768\n",
      "Epoch 36/50\n",
      "1000/1000 [==============================] - 2s 2ms/step - loss: 0.6021 - accuracy: 0.6729 - val_loss: 0.5962 - val_accuracy: 0.6775\n",
      "Epoch 37/50\n",
      "1000/1000 [==============================] - 2s 2ms/step - loss: 0.6016 - accuracy: 0.6733 - val_loss: 0.5949 - val_accuracy: 0.6793\n",
      "Epoch 38/50\n",
      "1000/1000 [==============================] - 2s 2ms/step - loss: 0.6056 - accuracy: 0.6706 - val_loss: 0.5947 - val_accuracy: 0.6800\n",
      "Epoch 39/50\n",
      "1000/1000 [==============================] - 2s 2ms/step - loss: 0.6011 - accuracy: 0.6745 - val_loss: 0.5990 - val_accuracy: 0.6773\n",
      "Epoch 40/50\n",
      "1000/1000 [==============================] - 2s 2ms/step - loss: 0.6063 - accuracy: 0.6661 - val_loss: 0.6077 - val_accuracy: 0.6685\n",
      "Epoch 41/50\n",
      "1000/1000 [==============================] - 2s 2ms/step - loss: 0.6004 - accuracy: 0.6768 - val_loss: 0.5969 - val_accuracy: 0.6770\n",
      "Epoch 42/50\n",
      "1000/1000 [==============================] - 2s 2ms/step - loss: 0.6005 - accuracy: 0.6735 - val_loss: 0.5948 - val_accuracy: 0.6805\n",
      "INFO:tensorflow:Assets written to: BestModel/assets\n",
      "Epoch 43/50\n",
      "1000/1000 [==============================] - 2s 2ms/step - loss: 0.5984 - accuracy: 0.6741 - val_loss: 0.6042 - val_accuracy: 0.6729\n",
      "Epoch 44/50\n",
      "1000/1000 [==============================] - 2s 2ms/step - loss: 0.5994 - accuracy: 0.6765 - val_loss: 0.5950 - val_accuracy: 0.6780\n",
      "Epoch 45/50\n",
      "1000/1000 [==============================] - 2s 2ms/step - loss: 0.6020 - accuracy: 0.6662 - val_loss: 0.6053 - val_accuracy: 0.6725\n",
      "Epoch 46/50\n",
      "1000/1000 [==============================] - 2s 2ms/step - loss: 0.6029 - accuracy: 0.6721 - val_loss: 0.6076 - val_accuracy: 0.6668\n",
      "Epoch 47/50\n",
      "1000/1000 [==============================] - 2s 2ms/step - loss: 0.6030 - accuracy: 0.6706 - val_loss: 0.5977 - val_accuracy: 0.6783\n",
      "Epoch 48/50\n",
      "1000/1000 [==============================] - 2s 2ms/step - loss: 0.6012 - accuracy: 0.6732 - val_loss: 0.5946 - val_accuracy: 0.6795\n",
      "Epoch 49/50\n",
      "1000/1000 [==============================] - 2s 2ms/step - loss: 0.6033 - accuracy: 0.6721 - val_loss: 0.5953 - val_accuracy: 0.6790\n",
      "Epoch 50/50\n",
      "1000/1000 [==============================] - 2s 2ms/step - loss: 0.6004 - accuracy: 0.6748 - val_loss: 0.5948 - val_accuracy: 0.6800\n",
      "Fold 2, 50 epochs, 104 sec\n"
     ]
    },
    {
     "data": {
      "image/png": "[encoded data removed]",
      "text/plain": [
       "<Figure size 576x360 with 1 Axes>"
      ]
     },
     "metadata": {
      "needs_background": "light",
      "tags": []
     },
     "output_type": "display_data"
    },
    {
     "name": "stdout",
     "output_type": "stream",
     "text": [
      "MODEL\n",
      "make_DNN\n",
      "input shape: (1000, 64)\n",
      "FIT\n",
      "Epoch 1/50\n",
      "1000/1000 [==============================] - 3s 2ms/step - loss: 0.6950 - accuracy: 0.4963 - val_loss: 0.6933 - val_accuracy: 0.5014\n",
      "Epoch 2/50\n",
      "1000/1000 [==============================] - 2s 2ms/step - loss: 0.6938 - accuracy: 0.5031 - val_loss: 0.6933 - val_accuracy: 0.4986\n",
      "Epoch 3/50\n",
      "1000/1000 [==============================] - 2s 2ms/step - loss: 0.6939 - accuracy: 0.4983 - val_loss: 0.6940 - val_accuracy: 0.4986\n",
      "Epoch 4/50\n",
      "1000/1000 [==============================] - 2s 2ms/step - loss: 0.6935 - accuracy: 0.5107 - val_loss: 0.6935 - val_accuracy: 0.5014\n",
      "Epoch 5/50\n",
      "1000/1000 [==============================] - 2s 2ms/step - loss: 0.6938 - accuracy: 0.4979 - val_loss: 0.6937 - val_accuracy: 0.5014\n",
      "Epoch 6/50\n",
      "1000/1000 [==============================] - 2s 2ms/step - loss: 0.6936 - accuracy: 0.5047 - val_loss: 0.6934 - val_accuracy: 0.5014\n",
      "Epoch 7/50\n",
      "1000/1000 [==============================] - 2s 2ms/step - loss: 0.6934 - accuracy: 0.5010 - val_loss: 0.6925 - val_accuracy: 0.5014\n",
      "Epoch 8/50\n",
      "1000/1000 [==============================] - 2s 2ms/step - loss: 0.6926 - accuracy: 0.5109 - val_loss: 0.6869 - val_accuracy: 0.5079\n",
      "Epoch 9/50\n",
      "1000/1000 [==============================] - 2s 2ms/step - loss: 0.6799 - accuracy: 0.5698 - val_loss: 0.6383 - val_accuracy: 0.6430\n",
      "Epoch 10/50\n",
      "1000/1000 [==============================] - 2s 2ms/step - loss: 0.6294 - accuracy: 0.6481 - val_loss: 0.6339 - val_accuracy: 0.6407\n",
      "Epoch 11/50\n",
      "1000/1000 [==============================] - 2s 2ms/step - loss: 0.6204 - accuracy: 0.6511 - val_loss: 0.6181 - val_accuracy: 0.6612\n",
      "Epoch 12/50\n",
      "1000/1000 [==============================] - 2s 2ms/step - loss: 0.6109 - accuracy: 0.6638 - val_loss: 0.6044 - val_accuracy: 0.6691\n",
      "Epoch 13/50\n",
      "1000/1000 [==============================] - 2s 2ms/step - loss: 0.6098 - accuracy: 0.6683 - val_loss: 0.6038 - val_accuracy: 0.6730\n",
      "Epoch 14/50\n",
      "1000/1000 [==============================] - 2s 2ms/step - loss: 0.6089 - accuracy: 0.6646 - val_loss: 0.6043 - val_accuracy: 0.6729\n",
      "Epoch 15/50\n",
      "1000/1000 [==============================] - 2s 2ms/step - loss: 0.6078 - accuracy: 0.6680 - val_loss: 0.6202 - val_accuracy: 0.6562\n",
      "Epoch 16/50\n",
      "1000/1000 [==============================] - 2s 2ms/step - loss: 0.6069 - accuracy: 0.6684 - val_loss: 0.6003 - val_accuracy: 0.6762\n",
      "Epoch 17/50\n",
      "1000/1000 [==============================] - 2s 2ms/step - loss: 0.6089 - accuracy: 0.6654 - val_loss: 0.6105 - val_accuracy: 0.6649\n",
      "Epoch 18/50\n",
      "1000/1000 [==============================] - 2s 2ms/step - loss: 0.6061 - accuracy: 0.6704 - val_loss: 0.5988 - val_accuracy: 0.6794\n",
      "Epoch 19/50\n",
      "1000/1000 [==============================] - 2s 2ms/step - loss: 0.6090 - accuracy: 0.6650 - val_loss: 0.6053 - val_accuracy: 0.6715\n",
      "Epoch 20/50\n",
      "1000/1000 [==============================] - 2s 2ms/step - loss: 0.6066 - accuracy: 0.6705 - val_loss: 0.5974 - val_accuracy: 0.6802\n",
      "Epoch 21/50\n",
      "1000/1000 [==============================] - 2s 2ms/step - loss: 0.6039 - accuracy: 0.6735 - val_loss: 0.5975 - val_accuracy: 0.6790\n",
      "Epoch 22/50\n",
      "1000/1000 [==============================] - 2s 2ms/step - loss: 0.6029 - accuracy: 0.6728 - val_loss: 0.5957 - val_accuracy: 0.6827\n",
      "INFO:tensorflow:Assets written to: BestModel/assets\n",
      "Epoch 23/50\n",
      "1000/1000 [==============================] - 2s 2ms/step - loss: 0.6036 - accuracy: 0.6713 - val_loss: 0.6031 - val_accuracy: 0.6722\n",
      "Epoch 24/50\n",
      "1000/1000 [==============================] - 2s 2ms/step - loss: 0.6036 - accuracy: 0.6710 - val_loss: 0.5949 - val_accuracy: 0.6820\n",
      "Epoch 25/50\n",
      "1000/1000 [==============================] - 2s 2ms/step - loss: 0.6048 - accuracy: 0.6704 - val_loss: 0.5964 - val_accuracy: 0.6787\n",
      "Epoch 26/50\n",
      "1000/1000 [==============================] - 2s 2ms/step - loss: 0.6033 - accuracy: 0.6711 - val_loss: 0.5959 - val_accuracy: 0.6785\n",
      "Epoch 27/50\n",
      "1000/1000 [==============================] - 2s 2ms/step - loss: 0.6041 - accuracy: 0.6719 - val_loss: 0.5996 - val_accuracy: 0.6758\n",
      "Epoch 28/50\n",
      "1000/1000 [==============================] - 2s 2ms/step - loss: 0.5992 - accuracy: 0.6756 - val_loss: 0.6133 - val_accuracy: 0.6622\n",
      "Epoch 29/50\n",
      "1000/1000 [==============================] - 2s 2ms/step - loss: 0.6046 - accuracy: 0.6714 - val_loss: 0.6346 - val_accuracy: 0.6430\n",
      "Epoch 30/50\n",
      "1000/1000 [==============================] - 2s 2ms/step - loss: 0.6071 - accuracy: 0.6709 - val_loss: 0.5982 - val_accuracy: 0.6785\n",
      "Epoch 31/50\n",
      "1000/1000 [==============================] - 2s 2ms/step - loss: 0.6026 - accuracy: 0.6712 - val_loss: 0.5972 - val_accuracy: 0.6800\n",
      "Epoch 32/50\n",
      "1000/1000 [==============================] - 2s 2ms/step - loss: 0.6075 - accuracy: 0.6670 - val_loss: 0.5936 - val_accuracy: 0.6811\n",
      "Epoch 33/50\n",
      "1000/1000 [==============================] - 2s 2ms/step - loss: 0.6031 - accuracy: 0.6722 - val_loss: 0.5936 - val_accuracy: 0.6811\n",
      "Epoch 34/50\n",
      "1000/1000 [==============================] - 2s 2ms/step - loss: 0.6025 - accuracy: 0.6705 - val_loss: 0.5948 - val_accuracy: 0.6817\n",
      "Epoch 35/50\n",
      "1000/1000 [==============================] - 2s 2ms/step - loss: 0.6021 - accuracy: 0.6738 - val_loss: 0.5934 - val_accuracy: 0.6809\n",
      "Epoch 36/50\n",
      "1000/1000 [==============================] - 2s 2ms/step - loss: 0.5989 - accuracy: 0.6748 - val_loss: 0.6010 - val_accuracy: 0.6730\n",
      "Epoch 37/50\n",
      "1000/1000 [==============================] - 2s 2ms/step - loss: 0.5992 - accuracy: 0.6759 - val_loss: 0.5930 - val_accuracy: 0.6820\n",
      "Epoch 38/50\n",
      "1000/1000 [==============================] - 2s 2ms/step - loss: 0.6027 - accuracy: 0.6712 - val_loss: 0.5964 - val_accuracy: 0.6805\n",
      "Epoch 39/50\n",
      "1000/1000 [==============================] - 2s 2ms/step - loss: 0.6019 - accuracy: 0.6723 - val_loss: 0.5929 - val_accuracy: 0.6833\n",
      "INFO:tensorflow:Assets written to: BestModel/assets\n",
      "Epoch 40/50\n",
      "1000/1000 [==============================] - 2s 2ms/step - loss: 0.6011 - accuracy: 0.6716 - val_loss: 0.5942 - val_accuracy: 0.6817\n",
      "Epoch 41/50\n",
      "1000/1000 [==============================] - 2s 2ms/step - loss: 0.6011 - accuracy: 0.6727 - val_loss: 0.5958 - val_accuracy: 0.6816\n",
      "Epoch 42/50\n",
      "1000/1000 [==============================] - 2s 2ms/step - loss: 0.6001 - accuracy: 0.6756 - val_loss: 0.6129 - val_accuracy: 0.6647\n",
      "Epoch 43/50\n",
      "1000/1000 [==============================] - 2s 2ms/step - loss: 0.6044 - accuracy: 0.6713 - val_loss: 0.6134 - val_accuracy: 0.6637\n",
      "Epoch 44/50\n",
      "1000/1000 [==============================] - 2s 2ms/step - loss: 0.6000 - accuracy: 0.6730 - val_loss: 0.6050 - val_accuracy: 0.6721\n",
      "Epoch 45/50\n",
      "1000/1000 [==============================] - 2s 2ms/step - loss: 0.6012 - accuracy: 0.6749 - val_loss: 0.5943 - val_accuracy: 0.6830\n",
      "Epoch 46/50\n",
      "1000/1000 [==============================] - 2s 2ms/step - loss: 0.5997 - accuracy: 0.6733 - val_loss: 0.5935 - val_accuracy: 0.6829\n",
      "Epoch 47/50\n",
      "1000/1000 [==============================] - 2s 2ms/step - loss: 0.6003 - accuracy: 0.6718 - val_loss: 0.6137 - val_accuracy: 0.6630\n",
      "Epoch 48/50\n",
      "1000/1000 [==============================] - 2s 2ms/step - loss: 0.6005 - accuracy: 0.6727 - val_loss: 0.5929 - val_accuracy: 0.6831\n",
      "Epoch 49/50\n",
      "1000/1000 [==============================] - 2s 2ms/step - loss: 0.5978 - accuracy: 0.6758 - val_loss: 0.5937 - val_accuracy: 0.6815\n",
      "Epoch 50/50\n",
      "1000/1000 [==============================] - 2s 2ms/step - loss: 0.5977 - accuracy: 0.6771 - val_loss: 0.5927 - val_accuracy: 0.6824\n",
      "Fold 3, 50 epochs, 102 sec\n"
     ]
    },
    {
     "data": {
      "image/png": "[encoded data removed]",
      "text/plain": [
       "<Figure size 576x360 with 1 Axes>"
      ]
     },
     "metadata": {
      "needs_background": "light",
      "tags": []
     },
     "output_type": "display_data"
    },
    {
     "name": "stdout",
     "output_type": "stream",
     "text": [
      "MODEL\n",
      "make_DNN\n",
      "input shape: (1000, 64)\n",
      "FIT\n",
      "Epoch 1/50\n",
      "1000/1000 [==============================] - 3s 2ms/step - loss: 0.7014 - accuracy: 0.4950 - val_loss: 0.6933 - val_accuracy: 0.5040\n",
      "Epoch 2/50\n",
      "1000/1000 [==============================] - 2s 2ms/step - loss: 0.6939 - accuracy: 0.4949 - val_loss: 0.6931 - val_accuracy: 0.5040\n",
      "Epoch 3/50\n",
      "1000/1000 [==============================] - 2s 2ms/step - loss: 0.6937 - accuracy: 0.5041 - val_loss: 0.6944 - val_accuracy: 0.5040\n",
      "Epoch 4/50\n",
      "1000/1000 [==============================] - 2s 2ms/step - loss: 0.6938 - accuracy: 0.5005 - val_loss: 0.6933 - val_accuracy: 0.5040\n",
      "Epoch 5/50\n",
      "1000/1000 [==============================] - 2s 2ms/step - loss: 0.6935 - accuracy: 0.5007 - val_loss: 0.6956 - val_accuracy: 0.4960\n",
      "Epoch 6/50\n",
      "1000/1000 [==============================] - 2s 2ms/step - loss: 0.6941 - accuracy: 0.4992 - val_loss: 0.6951 - val_accuracy: 0.4960\n",
      "Epoch 7/50\n",
      "1000/1000 [==============================] - 2s 2ms/step - loss: 0.6935 - accuracy: 0.5044 - val_loss: 0.6936 - val_accuracy: 0.4960\n",
      "Epoch 8/50\n",
      "1000/1000 [==============================] - 2s 2ms/step - loss: 0.6934 - accuracy: 0.5023 - val_loss: 0.6939 - val_accuracy: 0.4960\n",
      "Epoch 9/50\n",
      "1000/1000 [==============================] - 2s 2ms/step - loss: 0.6893 - accuracy: 0.5317 - val_loss: 0.6606 - val_accuracy: 0.6614\n",
      "Epoch 10/50\n",
      "1000/1000 [==============================] - 2s 2ms/step - loss: 0.6484 - accuracy: 0.6363 - val_loss: 0.6483 - val_accuracy: 0.6221\n",
      "Epoch 11/50\n",
      "1000/1000 [==============================] - 2s 2ms/step - loss: 0.6209 - accuracy: 0.6548 - val_loss: 0.6136 - val_accuracy: 0.6619\n",
      "Epoch 12/50\n",
      "1000/1000 [==============================] - 2s 2ms/step - loss: 0.6152 - accuracy: 0.6611 - val_loss: 0.6047 - val_accuracy: 0.6724\n",
      "Epoch 13/50\n",
      "1000/1000 [==============================] - 2s 2ms/step - loss: 0.6104 - accuracy: 0.6659 - val_loss: 0.6042 - val_accuracy: 0.6706\n",
      "Epoch 14/50\n",
      "1000/1000 [==============================] - 2s 2ms/step - loss: 0.6089 - accuracy: 0.6683 - val_loss: 0.6009 - val_accuracy: 0.6764\n",
      "Epoch 15/50\n",
      "1000/1000 [==============================] - 2s 2ms/step - loss: 0.6048 - accuracy: 0.6712 - val_loss: 0.6015 - val_accuracy: 0.6740\n",
      "Epoch 16/50\n",
      "1000/1000 [==============================] - 2s 2ms/step - loss: 0.6061 - accuracy: 0.6694 - val_loss: 0.5997 - val_accuracy: 0.6785\n",
      "Epoch 17/50\n",
      "1000/1000 [==============================] - 2s 2ms/step - loss: 0.6074 - accuracy: 0.6708 - val_loss: 0.6063 - val_accuracy: 0.6691\n",
      "Epoch 18/50\n",
      "1000/1000 [==============================] - 2s 2ms/step - loss: 0.6111 - accuracy: 0.6701 - val_loss: 0.6005 - val_accuracy: 0.6734\n",
      "Epoch 19/50\n",
      "1000/1000 [==============================] - 2s 2ms/step - loss: 0.6045 - accuracy: 0.6689 - val_loss: 0.5981 - val_accuracy: 0.6755\n",
      "Epoch 20/50\n",
      "1000/1000 [==============================] - 2s 2ms/step - loss: 0.6063 - accuracy: 0.6691 - val_loss: 0.6172 - val_accuracy: 0.6530\n",
      "Epoch 21/50\n",
      "1000/1000 [==============================] - 2s 2ms/step - loss: 0.6061 - accuracy: 0.6696 - val_loss: 0.6022 - val_accuracy: 0.6676\n",
      "Epoch 22/50\n",
      "1000/1000 [==============================] - 2s 2ms/step - loss: 0.6085 - accuracy: 0.6650 - val_loss: 0.5973 - val_accuracy: 0.6773\n",
      "Epoch 23/50\n",
      "1000/1000 [==============================] - 2s 2ms/step - loss: 0.6031 - accuracy: 0.6713 - val_loss: 0.6115 - val_accuracy: 0.6569\n",
      "Epoch 24/50\n",
      "1000/1000 [==============================] - 2s 2ms/step - loss: 0.6019 - accuracy: 0.6719 - val_loss: 0.6226 - val_accuracy: 0.6504\n",
      "Epoch 25/50\n",
      "1000/1000 [==============================] - 2s 2ms/step - loss: 0.5994 - accuracy: 0.6740 - val_loss: 0.6078 - val_accuracy: 0.6675\n",
      "Epoch 26/50\n",
      "1000/1000 [==============================] - 2s 2ms/step - loss: 0.6020 - accuracy: 0.6763 - val_loss: 0.6030 - val_accuracy: 0.6684\n",
      "Epoch 27/50\n",
      "1000/1000 [==============================] - 2s 2ms/step - loss: 0.6008 - accuracy: 0.6755 - val_loss: 0.5971 - val_accuracy: 0.6785\n",
      "Epoch 28/50\n",
      "1000/1000 [==============================] - 2s 2ms/step - loss: 0.6027 - accuracy: 0.6731 - val_loss: 0.6019 - val_accuracy: 0.6680\n",
      "Epoch 29/50\n",
      "1000/1000 [==============================] - 2s 2ms/step - loss: 0.6008 - accuracy: 0.6761 - val_loss: 0.5948 - val_accuracy: 0.6776\n",
      "Epoch 30/50\n",
      "1000/1000 [==============================] - 2s 2ms/step - loss: 0.5987 - accuracy: 0.6738 - val_loss: 0.5950 - val_accuracy: 0.6777\n",
      "Epoch 31/50\n",
      "1000/1000 [==============================] - 2s 2ms/step - loss: 0.6021 - accuracy: 0.6714 - val_loss: 0.5960 - val_accuracy: 0.6760\n",
      "Epoch 32/50\n",
      "1000/1000 [==============================] - 2s 2ms/step - loss: 0.6048 - accuracy: 0.6707 - val_loss: 0.5992 - val_accuracy: 0.6760\n",
      "Epoch 33/50\n",
      "1000/1000 [==============================] - 2s 2ms/step - loss: 0.6032 - accuracy: 0.6701 - val_loss: 0.5947 - val_accuracy: 0.6779\n",
      "Epoch 34/50\n",
      "1000/1000 [==============================] - 2s 2ms/step - loss: 0.5979 - accuracy: 0.6774 - val_loss: 0.5951 - val_accuracy: 0.6810\n",
      "Epoch 35/50\n",
      "1000/1000 [==============================] - 2s 2ms/step - loss: 0.6021 - accuracy: 0.6755 - val_loss: 0.5946 - val_accuracy: 0.6785\n",
      "Epoch 36/50\n",
      "1000/1000 [==============================] - 2s 2ms/step - loss: 0.6006 - accuracy: 0.6752 - val_loss: 0.5946 - val_accuracy: 0.6779\n",
      "Epoch 37/50\n",
      "1000/1000 [==============================] - 2s 2ms/step - loss: 0.6019 - accuracy: 0.6704 - val_loss: 0.5949 - val_accuracy: 0.6802\n",
      "Epoch 38/50\n",
      "1000/1000 [==============================] - 2s 2ms/step - loss: 0.6005 - accuracy: 0.6729 - val_loss: 0.5963 - val_accuracy: 0.6780\n",
      "Epoch 39/50\n",
      "1000/1000 [==============================] - 2s 2ms/step - loss: 0.6019 - accuracy: 0.6736 - val_loss: 0.5996 - val_accuracy: 0.6721\n",
      "Epoch 40/50\n",
      "1000/1000 [==============================] - 2s 2ms/step - loss: 0.6021 - accuracy: 0.6714 - val_loss: 0.5952 - val_accuracy: 0.6768\n",
      "Epoch 41/50\n",
      "1000/1000 [==============================] - 2s 2ms/step - loss: 0.5993 - accuracy: 0.6748 - val_loss: 0.6075 - val_accuracy: 0.6604\n",
      "Epoch 42/50\n",
      "1000/1000 [==============================] - 2s 2ms/step - loss: 0.6033 - accuracy: 0.6715 - val_loss: 0.5958 - val_accuracy: 0.6764\n",
      "Epoch 43/50\n",
      "1000/1000 [==============================] - 2s 2ms/step - loss: 0.6014 - accuracy: 0.6747 - val_loss: 0.6168 - val_accuracy: 0.6566\n",
      "Epoch 44/50\n",
      "1000/1000 [==============================] - 2s 2ms/step - loss: 0.5982 - accuracy: 0.6751 - val_loss: 0.5947 - val_accuracy: 0.6798\n",
      "Epoch 45/50\n",
      "1000/1000 [==============================] - 2s 2ms/step - loss: 0.5998 - accuracy: 0.6779 - val_loss: 0.5966 - val_accuracy: 0.6785\n",
      "Epoch 46/50\n",
      "1000/1000 [==============================] - 2s 2ms/step - loss: 0.5989 - accuracy: 0.6771 - val_loss: 0.5980 - val_accuracy: 0.6727\n",
      "Epoch 47/50\n",
      "1000/1000 [==============================] - 2s 2ms/step - loss: 0.6010 - accuracy: 0.6774 - val_loss: 0.5965 - val_accuracy: 0.6745\n",
      "Epoch 48/50\n",
      "1000/1000 [==============================] - 2s 2ms/step - loss: 0.6003 - accuracy: 0.6742 - val_loss: 0.6004 - val_accuracy: 0.6747\n",
      "Epoch 49/50\n",
      "1000/1000 [==============================] - 2s 2ms/step - loss: 0.6016 - accuracy: 0.6719 - val_loss: 0.5953 - val_accuracy: 0.6759\n",
      "Epoch 50/50\n",
      "1000/1000 [==============================] - 2s 2ms/step - loss: 0.6003 - accuracy: 0.6736 - val_loss: 0.5947 - val_accuracy: 0.6766\n",
      "Fold 4, 50 epochs, 102 sec\n"
     ]
    },
    {
     "data": {
      "image/png": "[encoded data removed]",
      "text/plain": [
       "<Figure size 576x360 with 1 Axes>"
      ]
     },
     "metadata": {
      "needs_background": "light",
      "tags": []
     },
     "output_type": "display_data"
    },
    {
     "name": "stdout",
     "output_type": "stream",
     "text": [
      "MODEL\n",
      "make_DNN\n",
      "input shape: (1000, 64)\n",
      "FIT\n",
      "Epoch 1/50\n",
      "1000/1000 [==============================] - 3s 2ms/step - loss: 0.6943 - accuracy: 0.4962 - val_loss: 0.6942 - val_accuracy: 0.5030\n",
      "Epoch 2/50\n",
      "1000/1000 [==============================] - 2s 2ms/step - loss: 0.6940 - accuracy: 0.5009 - val_loss: 0.6934 - val_accuracy: 0.4970\n",
      "Epoch 3/50\n",
      "1000/1000 [==============================] - 2s 2ms/step - loss: 0.6939 - accuracy: 0.4958 - val_loss: 0.6931 - val_accuracy: 0.5030\n",
      "Epoch 4/50\n",
      "1000/1000 [==============================] - 2s 2ms/step - loss: 0.6936 - accuracy: 0.5030 - val_loss: 0.6933 - val_accuracy: 0.5030\n",
      "Epoch 5/50\n",
      "1000/1000 [==============================] - 2s 2ms/step - loss: 0.6935 - accuracy: 0.4958 - val_loss: 0.6944 - val_accuracy: 0.5030\n",
      "Epoch 6/50\n",
      "1000/1000 [==============================] - 2s 2ms/step - loss: 0.6936 - accuracy: 0.5013 - val_loss: 0.6930 - val_accuracy: 0.4970\n",
      "Epoch 7/50\n",
      "1000/1000 [==============================] - 2s 2ms/step - loss: 0.6934 - accuracy: 0.5023 - val_loss: 0.6927 - val_accuracy: 0.5030\n",
      "Epoch 8/50\n",
      "1000/1000 [==============================] - 2s 2ms/step - loss: 0.6925 - accuracy: 0.5198 - val_loss: 0.6856 - val_accuracy: 0.6158\n",
      "Epoch 9/50\n",
      "1000/1000 [==============================] - 2s 2ms/step - loss: 0.6756 - accuracy: 0.5762 - val_loss: 0.6223 - val_accuracy: 0.6585\n",
      "Epoch 10/50\n",
      "1000/1000 [==============================] - 2s 2ms/step - loss: 0.6199 - accuracy: 0.6522 - val_loss: 0.6148 - val_accuracy: 0.6612\n",
      "Epoch 11/50\n",
      "1000/1000 [==============================] - 2s 2ms/step - loss: 0.6153 - accuracy: 0.6608 - val_loss: 0.6124 - val_accuracy: 0.6610\n",
      "Epoch 12/50\n",
      "1000/1000 [==============================] - 2s 2ms/step - loss: 0.6078 - accuracy: 0.6666 - val_loss: 0.6110 - val_accuracy: 0.6634\n",
      "Epoch 13/50\n",
      "1000/1000 [==============================] - 2s 2ms/step - loss: 0.6126 - accuracy: 0.6631 - val_loss: 0.6102 - val_accuracy: 0.6681\n",
      "Epoch 14/50\n",
      "1000/1000 [==============================] - 2s 2ms/step - loss: 0.6035 - accuracy: 0.6717 - val_loss: 0.6099 - val_accuracy: 0.6628\n",
      "Epoch 15/50\n",
      "1000/1000 [==============================] - 2s 2ms/step - loss: 0.6078 - accuracy: 0.6670 - val_loss: 0.6084 - val_accuracy: 0.6693\n",
      "Epoch 16/50\n",
      "1000/1000 [==============================] - 2s 2ms/step - loss: 0.6057 - accuracy: 0.6696 - val_loss: 0.6279 - val_accuracy: 0.6481\n",
      "Epoch 17/50\n",
      "1000/1000 [==============================] - 2s 2ms/step - loss: 0.6087 - accuracy: 0.6612 - val_loss: 0.6168 - val_accuracy: 0.6621\n",
      "Epoch 18/50\n",
      "1000/1000 [==============================] - 2s 2ms/step - loss: 0.6027 - accuracy: 0.6740 - val_loss: 0.6145 - val_accuracy: 0.6640\n",
      "Epoch 19/50\n",
      "1000/1000 [==============================] - 2s 2ms/step - loss: 0.6041 - accuracy: 0.6717 - val_loss: 0.6147 - val_accuracy: 0.6579\n",
      "Epoch 20/50\n",
      "1000/1000 [==============================] - 2s 2ms/step - loss: 0.6005 - accuracy: 0.6801 - val_loss: 0.6108 - val_accuracy: 0.6606\n",
      "Epoch 21/50\n",
      "1000/1000 [==============================] - 2s 2ms/step - loss: 0.6006 - accuracy: 0.6759 - val_loss: 0.6036 - val_accuracy: 0.6722\n",
      "Epoch 22/50\n",
      "1000/1000 [==============================] - 2s 2ms/step - loss: 0.5978 - accuracy: 0.6725 - val_loss: 0.6197 - val_accuracy: 0.6591\n",
      "Epoch 23/50\n",
      "1000/1000 [==============================] - 2s 2ms/step - loss: 0.6013 - accuracy: 0.6703 - val_loss: 0.6165 - val_accuracy: 0.6581\n",
      "Epoch 24/50\n",
      "1000/1000 [==============================] - 2s 2ms/step - loss: 0.6003 - accuracy: 0.6731 - val_loss: 0.6107 - val_accuracy: 0.6680\n",
      "Epoch 25/50\n",
      "1000/1000 [==============================] - 2s 2ms/step - loss: 0.6005 - accuracy: 0.6732 - val_loss: 0.6029 - val_accuracy: 0.6718\n",
      "Epoch 26/50\n",
      "1000/1000 [==============================] - 2s 2ms/step - loss: 0.6010 - accuracy: 0.6710 - val_loss: 0.6058 - val_accuracy: 0.6709\n",
      "Epoch 27/50\n",
      "1000/1000 [==============================] - 2s 2ms/step - loss: 0.5983 - accuracy: 0.6736 - val_loss: 0.6080 - val_accuracy: 0.6702\n",
      "Epoch 28/50\n",
      "1000/1000 [==============================] - 2s 2ms/step - loss: 0.5994 - accuracy: 0.6742 - val_loss: 0.6061 - val_accuracy: 0.6669\n",
      "Epoch 29/50\n",
      "1000/1000 [==============================] - 2s 2ms/step - loss: 0.6001 - accuracy: 0.6735 - val_loss: 0.6116 - val_accuracy: 0.6661\n",
      "Epoch 30/50\n",
      "1000/1000 [==============================] - 2s 2ms/step - loss: 0.6017 - accuracy: 0.6725 - val_loss: 0.6018 - val_accuracy: 0.6729\n",
      "Epoch 31/50\n",
      "1000/1000 [==============================] - 2s 2ms/step - loss: 0.5981 - accuracy: 0.6797 - val_loss: 0.6039 - val_accuracy: 0.6721\n",
      "Epoch 32/50\n",
      "1000/1000 [==============================] - 2s 2ms/step - loss: 0.5995 - accuracy: 0.6736 - val_loss: 0.6016 - val_accuracy: 0.6724\n",
      "Epoch 33/50\n",
      "1000/1000 [==============================] - 2s 2ms/step - loss: 0.5969 - accuracy: 0.6757 - val_loss: 0.6118 - val_accuracy: 0.6651\n",
      "Epoch 34/50\n",
      "1000/1000 [==============================] - 2s 2ms/step - loss: 0.5966 - accuracy: 0.6788 - val_loss: 0.6014 - val_accuracy: 0.6726\n",
      "Epoch 35/50\n",
      "1000/1000 [==============================] - 2s 2ms/step - loss: 0.6008 - accuracy: 0.6749 - val_loss: 0.6049 - val_accuracy: 0.6666\n",
      "Epoch 36/50\n",
      "1000/1000 [==============================] - 2s 2ms/step - loss: 0.5991 - accuracy: 0.6746 - val_loss: 0.6197 - val_accuracy: 0.6593\n",
      "Epoch 37/50\n",
      "1000/1000 [==============================] - 2s 2ms/step - loss: 0.5991 - accuracy: 0.6779 - val_loss: 0.6015 - val_accuracy: 0.6729\n",
      "Epoch 38/50\n",
      "1000/1000 [==============================] - 2s 2ms/step - loss: 0.5993 - accuracy: 0.6737 - val_loss: 0.6014 - val_accuracy: 0.6733\n",
      "Epoch 39/50\n",
      "1000/1000 [==============================] - 2s 2ms/step - loss: 0.5949 - accuracy: 0.6768 - val_loss: 0.6174 - val_accuracy: 0.6568\n",
      "Epoch 40/50\n",
      "1000/1000 [==============================] - 2s 2ms/step - loss: 0.6046 - accuracy: 0.6721 - val_loss: 0.6017 - val_accuracy: 0.6720\n",
      "Epoch 41/50\n",
      "1000/1000 [==============================] - 2s 2ms/step - loss: 0.5982 - accuracy: 0.6750 - val_loss: 0.6013 - val_accuracy: 0.6746\n",
      "Epoch 42/50\n",
      "1000/1000 [==============================] - 2s 2ms/step - loss: 0.5954 - accuracy: 0.6779 - val_loss: 0.6063 - val_accuracy: 0.6672\n",
      "Epoch 43/50\n",
      "1000/1000 [==============================] - 2s 2ms/step - loss: 0.6001 - accuracy: 0.6725 - val_loss: 0.6014 - val_accuracy: 0.6735\n",
      "Epoch 44/50\n",
      "1000/1000 [==============================] - 2s 2ms/step - loss: 0.6009 - accuracy: 0.6745 - val_loss: 0.6013 - val_accuracy: 0.6749\n",
      "Epoch 45/50\n",
      "1000/1000 [==============================] - 2s 2ms/step - loss: 0.5997 - accuracy: 0.6740 - val_loss: 0.6107 - val_accuracy: 0.6662\n",
      "Epoch 46/50\n",
      "1000/1000 [==============================] - 2s 2ms/step - loss: 0.6020 - accuracy: 0.6734 - val_loss: 0.6035 - val_accuracy: 0.6684\n",
      "Epoch 47/50\n",
      "1000/1000 [==============================] - 2s 2ms/step - loss: 0.6000 - accuracy: 0.6759 - val_loss: 0.6013 - val_accuracy: 0.6733\n",
      "Epoch 48/50\n",
      "1000/1000 [==============================] - 2s 2ms/step - loss: 0.5968 - accuracy: 0.6797 - val_loss: 0.6077 - val_accuracy: 0.6659\n",
      "Epoch 49/50\n",
      "1000/1000 [==============================] - 2s 2ms/step - loss: 0.6012 - accuracy: 0.6764 - val_loss: 0.6057 - val_accuracy: 0.6660\n",
      "Epoch 50/50\n",
      "1000/1000 [==============================] - 2s 2ms/step - loss: 0.5998 - accuracy: 0.6755 - val_loss: 0.6048 - val_accuracy: 0.6666\n",
      "Fold 5, 50 epochs, 103 sec\n"
     ]
    },
    {
     "data": {
      "image/png": "[encoded data removed]",
      "text/plain": [
       "<Figure size 576x360 with 1 Axes>"
      ]
     },
     "metadata": {
      "needs_background": "light",
      "tags": []
     },
     "output_type": "display_data"
    }
   ],
   "source": [
    "do_cross_validation(X,y)"
   ]
  },
  {
   "cell_type": "code",
   "execution_count": 46,
   "metadata": {
    "colab": {
     "base_uri": "https://localhost:8080/"
    },
    "id": "e-jG1h5fj2Ua",
    "outputId": "040b9ebd-fdbe-4e73-d5e8-0bccef3f7711"
   },
   "outputs": [
    {
     "name": "stdout",
     "output_type": "stream",
     "text": [
      "X shape: (40000, 64)\n",
      "The best model parameters were saved during cross-validation.\n",
      "Best was defined as maximum validation accuracy at end of any epoch.\n",
      "Now re-load the best model and test it on previously unseen data.\n",
      "Test on 1000 PC seqs\n",
      "Test on 1000 NC seqs\n",
      "accuracy: 67.82%\n"
     ]
    }
   ],
   "source": [
    "from keras.models import load_model\n",
    "pc_sim.set_reproducible(True)\n",
    "nc_sim.set_reproducible(True)\n",
    "pc_test = pc_sim.get_sequences(PC_TESTS)\n",
    "nc_test = nc_sim.get_sequences(NC_TESTS)\n",
    "X,y = prepare_inputs_codon_frequency(pc_train,nc_train) # shuffles\n",
    "print(\"X shape:\",X.shape)\n",
    "best_model=load_model(MODELPATH)\n",
    "scores = best_model.evaluate(X, y, verbose=0)\n",
    "print(\"The best model parameters were saved during cross-validation.\")\n",
    "print(\"Best was defined as maximum validation accuracy at end of any epoch.\")\n",
    "print(\"Now re-load the best model and test it on previously unseen data.\")\n",
    "print(\"Test on\",len(pc_test),\"PC seqs\")\n",
    "print(\"Test on\",len(nc_test),\"NC seqs\")\n",
    "print(\"%s: %.2f%%\" % (best_model.metrics_names[1], scores[1]*100))\n"
   ]
  },
  {
   "cell_type": "code",
   "execution_count": 47,
   "metadata": {
    "colab": {
     "base_uri": "https://localhost:8080/",
     "height": 312
    },
    "id": "VycUnmvUj2Ue",
    "outputId": "70b988dd-0aca-45ee-a56c-187cb0b1fbe5"
   },
   "outputs": [
    {
     "data": {
      "image/png": "[encoded data removed]",
      "text/plain": [
       "<Figure size 432x288 with 1 Axes>"
      ]
     },
     "metadata": {
      "needs_background": "light",
      "tags": []
     },
     "output_type": "display_data"
    },
    {
     "name": "stdout",
     "output_type": "stream",
     "text": [
      "AUC: 0.74%\n"
     ]
    }
   ],
   "source": [
    "from sklearn.metrics import roc_curve\n",
    "from sklearn.metrics import roc_auc_score\n",
    "ns_probs = [0 for _ in range(len(y))]\n",
    "bm_probs = best_model.predict(X)\n",
    "ns_auc = roc_auc_score(y, ns_probs)\n",
    "bm_auc = roc_auc_score(y, bm_probs)\n",
    "ns_fpr, ns_tpr, _ = roc_curve(y, ns_probs)\n",
    "bm_fpr, bm_tpr, _ = roc_curve(y, bm_probs)\n",
    "plt.plot(ns_fpr, ns_tpr, linestyle='--', label='Guess, auc=%.4f'%ns_auc)\n",
    "plt.plot(bm_fpr, bm_tpr, marker='.', label='Model, auc=%.4f'%bm_auc)\n",
    "plt.title('ROC')\n",
    "plt.xlabel('False Positive Rate')\n",
    "plt.ylabel('True Positive Rate')\n",
    "plt.legend()\n",
    "plt.show()\n",
    "print(\"%s: %.2f%%\" %('AUC',bm_auc*100.0))\n"
   ]
  },
  {
   "cell_type": "code",
   "execution_count": 48,
   "metadata": {
    "colab": {
     "base_uri": "https://localhost:8080/",
     "height": 36
    },
    "id": "kFMb6rGNj2Ug",
    "outputId": "4ed1efbe-2e60-4019-8eab-72adb4f0aa92"
   },
   "outputs": [
    {
     "data": {
      "application/vnd.google.colaboratory.intrinsic+json": {
       "type": "string"
      },
      "text/plain": [
       "'2021-05-17 16:26:23 UTC'"
      ]
     },
     "execution_count": 48,
     "metadata": {
      "tags": []
     },
     "output_type": "execute_result"
    }
   ],
   "source": [
    "t = time.time()\n",
    "time.strftime('%Y-%m-%d %H:%M:%S %Z', time.localtime(t))"
   ]
  },
  {
   "cell_type": "markdown",
   "metadata": {
    "id": "t0HmPXUW5TvY"
   },
   "source": [
    "## Conclusion\n",
    "The MLP achieved only about 65% accuracy in classifying simulated RNA with and without ORFs. Since MLPs do better on real RNA, we learn that there is more to classification than ORF recognition."
   ]
  },
  {
   "cell_type": "code",
   "execution_count": null,
   "metadata": {},
   "outputs": [],
   "source": []
  }
 ],
 "metadata": {
  "accelerator": "GPU",
  "colab": {
   "collapsed_sections": [],
   "name": "ORF_MLP_103.ipynb",
   "provenance": []
  },
  "kernelspec": {
   "display_name": "Python 3",
   "language": "python",
   "name": "python3"
  },
  "language_info": {
   "codemirror_mode": {
    "name": "ipython",
    "version": 3
   },
   "file_extension": ".py",
   "mimetype": "text/x-python",
   "name": "python",
   "nbconvert_exporter": "python",
   "pygments_lexer": "ipython3",
   "version": "3.8.3"
  }
 },
 "nbformat": 4,
 "nbformat_minor": 1
}
