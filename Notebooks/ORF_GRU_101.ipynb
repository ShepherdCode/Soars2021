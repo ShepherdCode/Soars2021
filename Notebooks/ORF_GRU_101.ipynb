{
  "nbformat": 4,
  "nbformat_minor": 0,
  "metadata": {
    "accelerator": "GPU",
    "colab": {
      "name": "ORF_GRU_101.ipynb",
      "provenance": [],
      "collapsed_sections": []
    },
    "kernelspec": {
      "display_name": "Python 3",
      "language": "python",
      "name": "python3"
    },
    "language_info": {
      "codemirror_mode": {
        "name": "ipython",
        "version": 3
      },
      "file_extension": ".py",
      "mimetype": "text/x-python",
      "name": "python",
      "nbconvert_exporter": "python",
      "pygments_lexer": "ipython3",
      "version": "3.8.3"
    }
  },
  "cells": [
    {
      "cell_type": "markdown",
      "metadata": {
        "id": "0asdcdunj2Tx"
      },
      "source": [
        "# ORF recognition by LSTM\n",
        "LSTM was incapable of ORF recognition on 1000 bp sequences. Try smaller.\n"
      ]
    },
    {
      "cell_type": "code",
      "metadata": {
        "colab": {
          "base_uri": "https://localhost:8080/",
          "height": 36
        },
        "id": "QP1VTRNQj2UO",
        "outputId": "3fc609b6-b0a5-473e-fc23-24bb696dae8c"
      },
      "source": [
        "import time \n",
        "t = time.time()\n",
        "time.strftime('%Y-%m-%d %H:%M:%S %Z', time.localtime(t))"
      ],
      "execution_count": 1,
      "outputs": [
        {
          "output_type": "execute_result",
          "data": {
            "application/vnd.google.colaboratory.intrinsic+json": {
              "type": "string"
            },
            "text/plain": [
              "'2021-05-18 23:21:38 UTC'"
            ]
          },
          "metadata": {
            "tags": []
          },
          "execution_count": 1
        }
      ]
    },
    {
      "cell_type": "code",
      "metadata": {
        "id": "Nhz4GKonj2T_"
      },
      "source": [
        "PC_SEQUENCES=20000   # how many protein-coding sequences\n",
        "NC_SEQUENCES=20000   # how many non-coding sequences\n",
        "PC_TESTS=1000\n",
        "NC_TESTS=1000\n",
        "BASES=100            # how long is each sequence\n",
        "ALPHABET=4          # how many different letters are possible\n",
        "INPUT_SHAPE_2D = (BASES,ALPHABET,1) # Conv2D needs 3D inputs\n",
        "INPUT_SHAPE = (BASES,ALPHABET) # Conv1D needs 2D inputs\n",
        "NEURONS = 32\n",
        "#DROP_RATE = 0.2\n",
        "EPOCHS=50  # how many times to train on all the data\n",
        "SPLITS=5  # SPLITS=3 means train on 2/3 and validate on 1/3 \n",
        "FOLDS=5  # train the model this many times (range 1 to SPLITS)"
      ],
      "execution_count": 2,
      "outputs": []
    },
    {
      "cell_type": "code",
      "metadata": {
        "colab": {
          "base_uri": "https://localhost:8080/"
        },
        "id": "lr7q90rxj2UE",
        "outputId": "19ba4960-2034-4fde-8b97-e75513a7a529"
      },
      "source": [
        "import sys\n",
        "try:\n",
        "    from google.colab import drive\n",
        "    IN_COLAB = True\n",
        "    print(\"On Google CoLab, mount cloud-local file, get our code from GitHub.\")\n",
        "    PATH='/content/drive/'\n",
        "    #drive.mount(PATH,force_remount=True)  # hardly ever need this\n",
        "    #drive.mount(PATH)    # Google will require login credentials\n",
        "    DATAPATH=PATH+'My Drive/data/'  # must end in \"/\"\n",
        "    import requests\n",
        "    r = requests.get('https://raw.githubusercontent.com/ShepherdCode/Soars2021/master/SimTools/RNA_gen.py')\n",
        "    with open('RNA_gen.py', 'w') as f:\n",
        "        f.write(r.text)  \n",
        "    from RNA_gen import *\n",
        "    r = requests.get('https://raw.githubusercontent.com/ShepherdCode/Soars2021/master/SimTools/RNA_describe.py')\n",
        "    with open('RNA_describe.py', 'w') as f:\n",
        "        f.write(r.text)  \n",
        "    from RNA_describe import *\n",
        "    r = requests.get('https://raw.githubusercontent.com/ShepherdCode/Soars2021/master/SimTools/RNA_prep.py')\n",
        "    with open('RNA_prep.py', 'w') as f:\n",
        "        f.write(r.text)  \n",
        "    from RNA_prep import *\n",
        "except:\n",
        "    print(\"CoLab not working. On my PC, use relative paths.\")\n",
        "    IN_COLAB = False\n",
        "    DATAPATH='data/'  # must end in \"/\"\n",
        "    sys.path.append(\"..\") # append parent dir in order to use sibling dirs\n",
        "    from SimTools.RNA_gen import *\n",
        "    from SimTools.RNA_describe import *\n",
        "    from SimTools.RNA_prep import *\n",
        "\n",
        "MODELPATH=\"BestModel\"  # saved on cloud instance and lost after logout\n",
        "#MODELPATH=DATAPATH+MODELPATH  # saved on Google Drive but requires login\n",
        "\n",
        "if not assert_imported_RNA_gen():\n",
        "    print(\"ERROR: Cannot use RNA_gen.\")\n",
        "if not assert_imported_RNA_prep():\n",
        "    print(\"ERROR: Cannot use RNA_prep.\")"
      ],
      "execution_count": 3,
      "outputs": [
        {
          "output_type": "stream",
          "text": [
            "On Google CoLab, mount cloud-local file, get our code from GitHub.\n"
          ],
          "name": "stdout"
        }
      ]
    },
    {
      "cell_type": "code",
      "metadata": {
        "id": "EGDXH8Uwj2UM"
      },
      "source": [
        "from os import listdir\n",
        "import csv\n",
        "from zipfile import ZipFile\n",
        "\n",
        "import numpy as np\n",
        "import pandas as pd\n",
        "from scipy import stats  # mode\n",
        "\n",
        "from sklearn.preprocessing import StandardScaler\n",
        "from sklearn.model_selection import KFold\n",
        "from sklearn.model_selection import cross_val_score\n",
        "\n",
        "from keras.models import Sequential\n",
        "from keras.layers import Dense,Embedding,Dropout\n",
        "from keras.layers import LSTM,GRU,SimpleRNN\n",
        "from keras.losses import BinaryCrossentropy\n",
        "# tf.keras.losses.BinaryCrossentropy\n",
        "\n",
        "import matplotlib.pyplot as plt\n",
        "from matplotlib import colors\n",
        "mycmap = colors.ListedColormap(['red','blue'])  # list color for label 0 then 1\n",
        "np.set_printoptions(precision=2)\n"
      ],
      "execution_count": 4,
      "outputs": []
    },
    {
      "cell_type": "code",
      "metadata": {
        "colab": {
          "base_uri": "https://localhost:8080/"
        },
        "id": "Q0FetlLPj2UQ",
        "outputId": "f22d82e9-c5a1-4b35-dcb0-136a549507eb"
      },
      "source": [
        "# Use code from our SimTools library.\n",
        "def make_generators(seq_len):\n",
        "    pcgen = Collection_Generator()  \n",
        "    pcgen.get_len_oracle().set_mean(seq_len)\n",
        "    pcgen.set_seq_oracle(Transcript_Oracle())\n",
        "    ncgen = Collection_Generator()  \n",
        "    ncgen.get_len_oracle().set_mean(seq_len)\n",
        "    return pcgen,ncgen\n",
        "def get_the_facts(seqs):\n",
        "    rd = RNA_describer()\n",
        "    facts = rd.get_three_lengths(seqs)\n",
        "    facts_ary = np.asarray(facts) # 5000 rows, 3 columns \n",
        "    print(\"Facts array:\",type(facts_ary))\n",
        "    print(\"Facts array:\",facts_ary.shape)\n",
        "    # Get the mean of each column\n",
        "    mean_5utr, mean_orf, mean_3utr = np.mean(facts_ary,axis=0)\n",
        "    std_5utr, std_orf, std_3utr = np.std(facts_ary,axis=0)\n",
        "    print(\"mean 5' UTR length:\",int(mean_5utr),\"+/-\",int(std_5utr))\n",
        "    print(\"mean    ORF length:\",int(mean_orf), \"+/-\",int(std_orf))\n",
        "    print(\"mean 3' UTR length:\",int(mean_3utr),\"+/-\",int(std_3utr))\n",
        "\n",
        "pc_sim,nc_sim = make_generators(BASES)\n",
        "pc_train = pc_sim.get_sequences(PC_SEQUENCES)\n",
        "nc_train = nc_sim.get_sequences(NC_SEQUENCES)\n",
        "print(\"Train on\",len(pc_train),\"PC seqs\")\n",
        "get_the_facts(pc_train)\n",
        "print(\"Train on\",len(nc_train),\"NC seqs\")\n",
        "get_the_facts(nc_train)"
      ],
      "execution_count": 5,
      "outputs": [
        {
          "output_type": "stream",
          "text": [
            "Train on 20000 PC seqs\n",
            "Facts array: <class 'numpy.ndarray'>\n",
            "Facts array: (20000, 3)\n",
            "mean 5' UTR length: 23 +/- 6\n",
            "mean    ORF length: 51 +/- 10\n",
            "mean 3' UTR length: 25 +/- 5\n",
            "Train on 20000 NC seqs\n",
            "Facts array: <class 'numpy.ndarray'>\n",
            "Facts array: (20000, 3)\n",
            "mean 5' UTR length: 40 +/- 18\n",
            "mean    ORF length: 16 +/- 22\n",
            "mean 3' UTR length: 42 +/- 18\n"
          ],
          "name": "stdout"
        }
      ]
    },
    {
      "cell_type": "code",
      "metadata": {
        "colab": {
          "base_uri": "https://localhost:8080/"
        },
        "id": "CIpTrnH6j2US",
        "outputId": "876936b9-e4a0-4d54-b16a-0a99627e86fc"
      },
      "source": [
        "# Use code from our SimTools library.\n",
        "X,y = prepare_inputs_len_x_alphabet(pc_train,nc_train,ALPHABET) # shuffles\n",
        "print(\"Data ready.\")"
      ],
      "execution_count": 6,
      "outputs": [
        {
          "output_type": "stream",
          "text": [
            "Data ready.\n"
          ],
          "name": "stdout"
        }
      ]
    },
    {
      "cell_type": "code",
      "metadata": {
        "colab": {
          "base_uri": "https://localhost:8080/"
        },
        "id": "7NvrVU8ij2UU",
        "outputId": "0b03a5c8-20dc-495b-bbdd-f97fd3118a79"
      },
      "source": [
        "def make_DNN():\n",
        "    print(\"make_DNN\")\n",
        "    print(\"input shape:\",INPUT_SHAPE)\n",
        "    dnn = Sequential()\n",
        "    #dnn.add(Embedding(input_dim=ALPHABET, output_dim=ALPHABET))\n",
        "        #VOCABULARY_SIZE, EMBED_DIMEN, input_length=1000, input_length=1000, mask_zero=True)\n",
        "        #input_dim=[None,VOCABULARY_SIZE], output_dim=EMBED_DIMEN, mask_zero=True)\n",
        "    dnn.add(GRU(NEURONS,return_sequences=True,input_shape=INPUT_SHAPE))\n",
        "    dnn.add(GRU(NEURONS,return_sequences=False)) \n",
        "    dnn.add(Dense(NEURONS,activation=\"sigmoid\",dtype=np.float32))   \n",
        "    dnn.add(Dense(1,activation=\"sigmoid\",dtype=np.float32))   \n",
        "    dnn.compile(optimizer='adam',\n",
        "                loss=BinaryCrossentropy(from_logits=False),\n",
        "                metrics=['accuracy'])   # add to default metrics=loss\n",
        "    dnn.build() # input_shape=INPUT_SHAPE)\n",
        "    #ln_rate = tf.keras.optimizers.Adam(learning_rate = LN_RATE)\n",
        "    #bc=tf.keras.losses.BinaryCrossentropy(from_logits=False)\n",
        "    #model.compile(loss=bc, optimizer=ln_rate, metrics=[\"accuracy\"])\n",
        "    return dnn\n",
        "model = make_DNN()\n",
        "print(model.summary())"
      ],
      "execution_count": 7,
      "outputs": [
        {
          "output_type": "stream",
          "text": [
            "make_DNN\n",
            "input shape: (100, 4)\n",
            "Model: \"sequential\"\n",
            "_________________________________________________________________\n",
            "Layer (type)                 Output Shape              Param #   \n",
            "=================================================================\n",
            "gru (GRU)                    (None, 100, 32)           3648      \n",
            "_________________________________________________________________\n",
            "gru_1 (GRU)                  (None, 32)                6336      \n",
            "_________________________________________________________________\n",
            "dense (Dense)                (None, 32)                1056      \n",
            "_________________________________________________________________\n",
            "dense_1 (Dense)              (None, 1)                 33        \n",
            "=================================================================\n",
            "Total params: 11,073\n",
            "Trainable params: 11,073\n",
            "Non-trainable params: 0\n",
            "_________________________________________________________________\n",
            "None\n"
          ],
          "name": "stdout"
        }
      ]
    },
    {
      "cell_type": "code",
      "metadata": {
        "id": "nlVF0hR3j2UW"
      },
      "source": [
        "from keras.callbacks import ModelCheckpoint\n",
        "def do_cross_validation(X,y):\n",
        "    cv_scores = []\n",
        "    fold=0\n",
        "    mycallbacks = [ModelCheckpoint(\n",
        "        filepath=MODELPATH, save_best_only=True, \n",
        "        monitor='val_accuracy', mode='max')]   \n",
        "    splitter = KFold(n_splits=SPLITS)  # this does not shuffle\n",
        "    for train_index,valid_index in splitter.split(X):\n",
        "        if fold < FOLDS:\n",
        "            fold += 1\n",
        "            X_train=X[train_index] # inputs for training\n",
        "            y_train=y[train_index] # labels for training\n",
        "            X_valid=X[valid_index] # inputs for validation\n",
        "            y_valid=y[valid_index] # labels for validation\n",
        "            print(\"MODEL\")\n",
        "            # Call constructor on each CV. Else, continually improves the same model.\n",
        "            model = model = make_DNN()\n",
        "            print(\"FIT\")  # model.fit() implements learning\n",
        "            start_time=time.time()\n",
        "            history=model.fit(X_train, y_train, \n",
        "                    epochs=EPOCHS, \n",
        "                    verbose=1,  # ascii art while learning\n",
        "                    callbacks=mycallbacks,   # called at end of each epoch\n",
        "                    validation_data=(X_valid,y_valid))\n",
        "            end_time=time.time()\n",
        "            elapsed_time=(end_time-start_time)                        \n",
        "            print(\"Fold %d, %d epochs, %d sec\"%(fold,EPOCHS,elapsed_time))\n",
        "            # print(history.history.keys())  # all these keys will be shown in figure\n",
        "            pd.DataFrame(history.history).plot(figsize=(8,5))\n",
        "            plt.grid(True)\n",
        "            plt.gca().set_ylim(0,1) # any losses > 1 will be off the scale\n",
        "            plt.show()\n"
      ],
      "execution_count": 8,
      "outputs": []
    },
    {
      "cell_type": "code",
      "metadata": {
        "colab": {
          "base_uri": "https://localhost:8080/",
          "height": 1000
        },
        "id": "9Ggt4EsSj2UY",
        "outputId": "ee419c91-0787-47e3-8863-7552ee3b743a"
      },
      "source": [
        "do_cross_validation(X,y)"
      ],
      "execution_count": 9,
      "outputs": [
        {
          "output_type": "stream",
          "text": [
            "MODEL\n",
            "make_DNN\n",
            "input shape: (100, 4)\n",
            "FIT\n",
            "Epoch 1/50\n",
            "1000/1000 [==============================] - 29s 11ms/step - loss: 0.6944 - accuracy: 0.4964 - val_loss: 0.6935 - val_accuracy: 0.4999\n"
          ],
          "name": "stdout"
        },
        {
          "output_type": "stream",
          "text": [
            "WARNING:absl:Found untraced functions such as gru_cell_2_layer_call_and_return_conditional_losses, gru_cell_2_layer_call_fn, gru_cell_3_layer_call_and_return_conditional_losses, gru_cell_3_layer_call_fn, gru_cell_2_layer_call_fn while saving (showing 5 of 10). These functions will not be directly callable after loading.\n",
            "WARNING:absl:Found untraced functions such as gru_cell_2_layer_call_and_return_conditional_losses, gru_cell_2_layer_call_fn, gru_cell_3_layer_call_and_return_conditional_losses, gru_cell_3_layer_call_fn, gru_cell_2_layer_call_fn while saving (showing 5 of 10). These functions will not be directly callable after loading.\n"
          ],
          "name": "stderr"
        },
        {
          "output_type": "stream",
          "text": [
            "INFO:tensorflow:Assets written to: BestModel/assets\n"
          ],
          "name": "stdout"
        },
        {
          "output_type": "stream",
          "text": [
            "INFO:tensorflow:Assets written to: BestModel/assets\n"
          ],
          "name": "stderr"
        },
        {
          "output_type": "stream",
          "text": [
            "Epoch 2/50\n",
            "1000/1000 [==============================] - 10s 10ms/step - loss: 0.6937 - accuracy: 0.5010 - val_loss: 0.6935 - val_accuracy: 0.4999\n",
            "Epoch 3/50\n",
            "1000/1000 [==============================] - 10s 10ms/step - loss: 0.6937 - accuracy: 0.4981 - val_loss: 0.6934 - val_accuracy: 0.4999\n",
            "Epoch 4/50\n",
            "1000/1000 [==============================] - 10s 10ms/step - loss: 0.6934 - accuracy: 0.5059 - val_loss: 0.6932 - val_accuracy: 0.5001\n"
          ],
          "name": "stdout"
        },
        {
          "output_type": "stream",
          "text": [
            "WARNING:absl:Found untraced functions such as gru_cell_2_layer_call_and_return_conditional_losses, gru_cell_2_layer_call_fn, gru_cell_3_layer_call_and_return_conditional_losses, gru_cell_3_layer_call_fn, gru_cell_2_layer_call_fn while saving (showing 5 of 10). These functions will not be directly callable after loading.\n",
            "WARNING:absl:Found untraced functions such as gru_cell_2_layer_call_and_return_conditional_losses, gru_cell_2_layer_call_fn, gru_cell_3_layer_call_and_return_conditional_losses, gru_cell_3_layer_call_fn, gru_cell_2_layer_call_fn while saving (showing 5 of 10). These functions will not be directly callable after loading.\n"
          ],
          "name": "stderr"
        },
        {
          "output_type": "stream",
          "text": [
            "INFO:tensorflow:Assets written to: BestModel/assets\n"
          ],
          "name": "stdout"
        },
        {
          "output_type": "stream",
          "text": [
            "INFO:tensorflow:Assets written to: BestModel/assets\n"
          ],
          "name": "stderr"
        },
        {
          "output_type": "stream",
          "text": [
            "Epoch 5/50\n",
            "1000/1000 [==============================] - 10s 10ms/step - loss: 0.6935 - accuracy: 0.5003 - val_loss: 0.6932 - val_accuracy: 0.4994\n",
            "Epoch 6/50\n",
            "1000/1000 [==============================] - 10s 10ms/step - loss: 0.6935 - accuracy: 0.5014 - val_loss: 0.6937 - val_accuracy: 0.4999\n",
            "Epoch 7/50\n",
            "1000/1000 [==============================] - 10s 10ms/step - loss: 0.6937 - accuracy: 0.4993 - val_loss: 0.6942 - val_accuracy: 0.5001\n",
            "Epoch 8/50\n",
            "1000/1000 [==============================] - 10s 10ms/step - loss: 0.6935 - accuracy: 0.5040 - val_loss: 0.6940 - val_accuracy: 0.4999\n",
            "Epoch 9/50\n",
            "1000/1000 [==============================] - 10s 10ms/step - loss: 0.6937 - accuracy: 0.5003 - val_loss: 0.6934 - val_accuracy: 0.5001\n",
            "Epoch 10/50\n",
            "1000/1000 [==============================] - 10s 10ms/step - loss: 0.6934 - accuracy: 0.5063 - val_loss: 0.6932 - val_accuracy: 0.5001\n",
            "Epoch 11/50\n",
            "1000/1000 [==============================] - 10s 10ms/step - loss: 0.6935 - accuracy: 0.4971 - val_loss: 0.6935 - val_accuracy: 0.5001\n",
            "Epoch 12/50\n",
            "1000/1000 [==============================] - 10s 10ms/step - loss: 0.6936 - accuracy: 0.4972 - val_loss: 0.6943 - val_accuracy: 0.5001\n",
            "Epoch 13/50\n",
            "1000/1000 [==============================] - 10s 10ms/step - loss: 0.6936 - accuracy: 0.4974 - val_loss: 0.6936 - val_accuracy: 0.5001\n",
            "Epoch 14/50\n",
            "1000/1000 [==============================] - 10s 10ms/step - loss: 0.6936 - accuracy: 0.4980 - val_loss: 0.6954 - val_accuracy: 0.4999\n",
            "Epoch 15/50\n",
            "1000/1000 [==============================] - 10s 10ms/step - loss: 0.6939 - accuracy: 0.4978 - val_loss: 0.6936 - val_accuracy: 0.5001\n",
            "Epoch 16/50\n",
            "1000/1000 [==============================] - 10s 10ms/step - loss: 0.6939 - accuracy: 0.4946 - val_loss: 0.6952 - val_accuracy: 0.4999\n",
            "Epoch 17/50\n",
            "1000/1000 [==============================] - 10s 10ms/step - loss: 0.6936 - accuracy: 0.4995 - val_loss: 0.6932 - val_accuracy: 0.5023\n"
          ],
          "name": "stdout"
        },
        {
          "output_type": "stream",
          "text": [
            "WARNING:absl:Found untraced functions such as gru_cell_2_layer_call_and_return_conditional_losses, gru_cell_2_layer_call_fn, gru_cell_3_layer_call_and_return_conditional_losses, gru_cell_3_layer_call_fn, gru_cell_2_layer_call_fn while saving (showing 5 of 10). These functions will not be directly callable after loading.\n",
            "WARNING:absl:Found untraced functions such as gru_cell_2_layer_call_and_return_conditional_losses, gru_cell_2_layer_call_fn, gru_cell_3_layer_call_and_return_conditional_losses, gru_cell_3_layer_call_fn, gru_cell_2_layer_call_fn while saving (showing 5 of 10). These functions will not be directly callable after loading.\n"
          ],
          "name": "stderr"
        },
        {
          "output_type": "stream",
          "text": [
            "INFO:tensorflow:Assets written to: BestModel/assets\n"
          ],
          "name": "stdout"
        },
        {
          "output_type": "stream",
          "text": [
            "INFO:tensorflow:Assets written to: BestModel/assets\n"
          ],
          "name": "stderr"
        },
        {
          "output_type": "stream",
          "text": [
            "Epoch 18/50\n",
            "1000/1000 [==============================] - 10s 10ms/step - loss: 0.6935 - accuracy: 0.5034 - val_loss: 0.6939 - val_accuracy: 0.5001\n",
            "Epoch 19/50\n",
            "1000/1000 [==============================] - 10s 10ms/step - loss: 0.6938 - accuracy: 0.4988 - val_loss: 0.6936 - val_accuracy: 0.5044\n"
          ],
          "name": "stdout"
        },
        {
          "output_type": "stream",
          "text": [
            "WARNING:absl:Found untraced functions such as gru_cell_2_layer_call_and_return_conditional_losses, gru_cell_2_layer_call_fn, gru_cell_3_layer_call_and_return_conditional_losses, gru_cell_3_layer_call_fn, gru_cell_2_layer_call_fn while saving (showing 5 of 10). These functions will not be directly callable after loading.\n",
            "WARNING:absl:Found untraced functions such as gru_cell_2_layer_call_and_return_conditional_losses, gru_cell_2_layer_call_fn, gru_cell_3_layer_call_and_return_conditional_losses, gru_cell_3_layer_call_fn, gru_cell_2_layer_call_fn while saving (showing 5 of 10). These functions will not be directly callable after loading.\n"
          ],
          "name": "stderr"
        },
        {
          "output_type": "stream",
          "text": [
            "INFO:tensorflow:Assets written to: BestModel/assets\n"
          ],
          "name": "stdout"
        },
        {
          "output_type": "stream",
          "text": [
            "INFO:tensorflow:Assets written to: BestModel/assets\n"
          ],
          "name": "stderr"
        },
        {
          "output_type": "stream",
          "text": [
            "Epoch 20/50\n",
            "1000/1000 [==============================] - 10s 10ms/step - loss: 0.6934 - accuracy: 0.5021 - val_loss: 0.6940 - val_accuracy: 0.5000\n",
            "Epoch 21/50\n",
            "1000/1000 [==============================] - 10s 10ms/step - loss: 0.6933 - accuracy: 0.5040 - val_loss: 0.6932 - val_accuracy: 0.4976\n",
            "Epoch 22/50\n",
            "1000/1000 [==============================] - 10s 10ms/step - loss: 0.6934 - accuracy: 0.5037 - val_loss: 0.6937 - val_accuracy: 0.4961\n",
            "Epoch 23/50\n",
            "1000/1000 [==============================] - 10s 10ms/step - loss: 0.6933 - accuracy: 0.5010 - val_loss: 0.6940 - val_accuracy: 0.4967\n",
            "Epoch 24/50\n",
            "1000/1000 [==============================] - 10s 10ms/step - loss: 0.6930 - accuracy: 0.5126 - val_loss: 0.6936 - val_accuracy: 0.4997\n",
            "Epoch 25/50\n",
            "1000/1000 [==============================] - 10s 10ms/step - loss: 0.6933 - accuracy: 0.5038 - val_loss: 0.6938 - val_accuracy: 0.4999\n",
            "Epoch 26/50\n",
            "1000/1000 [==============================] - 10s 10ms/step - loss: 0.6932 - accuracy: 0.5090 - val_loss: 0.6938 - val_accuracy: 0.4995\n",
            "Epoch 27/50\n",
            "1000/1000 [==============================] - 10s 10ms/step - loss: 0.6920 - accuracy: 0.5155 - val_loss: 0.6605 - val_accuracy: 0.6054\n"
          ],
          "name": "stdout"
        },
        {
          "output_type": "stream",
          "text": [
            "WARNING:absl:Found untraced functions such as gru_cell_2_layer_call_and_return_conditional_losses, gru_cell_2_layer_call_fn, gru_cell_3_layer_call_and_return_conditional_losses, gru_cell_3_layer_call_fn, gru_cell_2_layer_call_fn while saving (showing 5 of 10). These functions will not be directly callable after loading.\n",
            "WARNING:absl:Found untraced functions such as gru_cell_2_layer_call_and_return_conditional_losses, gru_cell_2_layer_call_fn, gru_cell_3_layer_call_and_return_conditional_losses, gru_cell_3_layer_call_fn, gru_cell_2_layer_call_fn while saving (showing 5 of 10). These functions will not be directly callable after loading.\n"
          ],
          "name": "stderr"
        },
        {
          "output_type": "stream",
          "text": [
            "INFO:tensorflow:Assets written to: BestModel/assets\n"
          ],
          "name": "stdout"
        },
        {
          "output_type": "stream",
          "text": [
            "INFO:tensorflow:Assets written to: BestModel/assets\n"
          ],
          "name": "stderr"
        },
        {
          "output_type": "stream",
          "text": [
            "Epoch 28/50\n",
            "1000/1000 [==============================] - 10s 10ms/step - loss: 0.6194 - accuracy: 0.6581 - val_loss: 0.3573 - val_accuracy: 0.8572\n"
          ],
          "name": "stdout"
        },
        {
          "output_type": "stream",
          "text": [
            "WARNING:absl:Found untraced functions such as gru_cell_2_layer_call_and_return_conditional_losses, gru_cell_2_layer_call_fn, gru_cell_3_layer_call_and_return_conditional_losses, gru_cell_3_layer_call_fn, gru_cell_2_layer_call_fn while saving (showing 5 of 10). These functions will not be directly callable after loading.\n",
            "WARNING:absl:Found untraced functions such as gru_cell_2_layer_call_and_return_conditional_losses, gru_cell_2_layer_call_fn, gru_cell_3_layer_call_and_return_conditional_losses, gru_cell_3_layer_call_fn, gru_cell_2_layer_call_fn while saving (showing 5 of 10). These functions will not be directly callable after loading.\n"
          ],
          "name": "stderr"
        },
        {
          "output_type": "stream",
          "text": [
            "INFO:tensorflow:Assets written to: BestModel/assets\n"
          ],
          "name": "stdout"
        },
        {
          "output_type": "stream",
          "text": [
            "INFO:tensorflow:Assets written to: BestModel/assets\n"
          ],
          "name": "stderr"
        },
        {
          "output_type": "stream",
          "text": [
            "Epoch 29/50\n",
            "1000/1000 [==============================] - 10s 10ms/step - loss: 0.3494 - accuracy: 0.8588 - val_loss: 0.3316 - val_accuracy: 0.8643\n"
          ],
          "name": "stdout"
        },
        {
          "output_type": "stream",
          "text": [
            "WARNING:absl:Found untraced functions such as gru_cell_2_layer_call_and_return_conditional_losses, gru_cell_2_layer_call_fn, gru_cell_3_layer_call_and_return_conditional_losses, gru_cell_3_layer_call_fn, gru_cell_2_layer_call_fn while saving (showing 5 of 10). These functions will not be directly callable after loading.\n",
            "WARNING:absl:Found untraced functions such as gru_cell_2_layer_call_and_return_conditional_losses, gru_cell_2_layer_call_fn, gru_cell_3_layer_call_and_return_conditional_losses, gru_cell_3_layer_call_fn, gru_cell_2_layer_call_fn while saving (showing 5 of 10). These functions will not be directly callable after loading.\n"
          ],
          "name": "stderr"
        },
        {
          "output_type": "stream",
          "text": [
            "INFO:tensorflow:Assets written to: BestModel/assets\n"
          ],
          "name": "stdout"
        },
        {
          "output_type": "stream",
          "text": [
            "INFO:tensorflow:Assets written to: BestModel/assets\n"
          ],
          "name": "stderr"
        },
        {
          "output_type": "stream",
          "text": [
            "Epoch 30/50\n",
            "1000/1000 [==============================] - 10s 10ms/step - loss: 0.3305 - accuracy: 0.8637 - val_loss: 0.3476 - val_accuracy: 0.8594\n",
            "Epoch 31/50\n",
            "1000/1000 [==============================] - 10s 10ms/step - loss: 0.3135 - accuracy: 0.8697 - val_loss: 0.2887 - val_accuracy: 0.8808\n"
          ],
          "name": "stdout"
        },
        {
          "output_type": "stream",
          "text": [
            "WARNING:absl:Found untraced functions such as gru_cell_2_layer_call_and_return_conditional_losses, gru_cell_2_layer_call_fn, gru_cell_3_layer_call_and_return_conditional_losses, gru_cell_3_layer_call_fn, gru_cell_2_layer_call_fn while saving (showing 5 of 10). These functions will not be directly callable after loading.\n",
            "WARNING:absl:Found untraced functions such as gru_cell_2_layer_call_and_return_conditional_losses, gru_cell_2_layer_call_fn, gru_cell_3_layer_call_and_return_conditional_losses, gru_cell_3_layer_call_fn, gru_cell_2_layer_call_fn while saving (showing 5 of 10). These functions will not be directly callable after loading.\n"
          ],
          "name": "stderr"
        },
        {
          "output_type": "stream",
          "text": [
            "INFO:tensorflow:Assets written to: BestModel/assets\n"
          ],
          "name": "stdout"
        },
        {
          "output_type": "stream",
          "text": [
            "INFO:tensorflow:Assets written to: BestModel/assets\n"
          ],
          "name": "stderr"
        },
        {
          "output_type": "stream",
          "text": [
            "Epoch 32/50\n",
            "1000/1000 [==============================] - 10s 10ms/step - loss: 0.2889 - accuracy: 0.8839 - val_loss: 0.2554 - val_accuracy: 0.9051\n"
          ],
          "name": "stdout"
        },
        {
          "output_type": "stream",
          "text": [
            "WARNING:absl:Found untraced functions such as gru_cell_2_layer_call_and_return_conditional_losses, gru_cell_2_layer_call_fn, gru_cell_3_layer_call_and_return_conditional_losses, gru_cell_3_layer_call_fn, gru_cell_2_layer_call_fn while saving (showing 5 of 10). These functions will not be directly callable after loading.\n",
            "WARNING:absl:Found untraced functions such as gru_cell_2_layer_call_and_return_conditional_losses, gru_cell_2_layer_call_fn, gru_cell_3_layer_call_and_return_conditional_losses, gru_cell_3_layer_call_fn, gru_cell_2_layer_call_fn while saving (showing 5 of 10). These functions will not be directly callable after loading.\n"
          ],
          "name": "stderr"
        },
        {
          "output_type": "stream",
          "text": [
            "INFO:tensorflow:Assets written to: BestModel/assets\n"
          ],
          "name": "stdout"
        },
        {
          "output_type": "stream",
          "text": [
            "INFO:tensorflow:Assets written to: BestModel/assets\n"
          ],
          "name": "stderr"
        },
        {
          "output_type": "stream",
          "text": [
            "Epoch 33/50\n",
            "1000/1000 [==============================] - 10s 10ms/step - loss: 0.2559 - accuracy: 0.9044 - val_loss: 0.2313 - val_accuracy: 0.9160\n"
          ],
          "name": "stdout"
        },
        {
          "output_type": "stream",
          "text": [
            "WARNING:absl:Found untraced functions such as gru_cell_2_layer_call_and_return_conditional_losses, gru_cell_2_layer_call_fn, gru_cell_3_layer_call_and_return_conditional_losses, gru_cell_3_layer_call_fn, gru_cell_2_layer_call_fn while saving (showing 5 of 10). These functions will not be directly callable after loading.\n",
            "WARNING:absl:Found untraced functions such as gru_cell_2_layer_call_and_return_conditional_losses, gru_cell_2_layer_call_fn, gru_cell_3_layer_call_and_return_conditional_losses, gru_cell_3_layer_call_fn, gru_cell_2_layer_call_fn while saving (showing 5 of 10). These functions will not be directly callable after loading.\n"
          ],
          "name": "stderr"
        },
        {
          "output_type": "stream",
          "text": [
            "INFO:tensorflow:Assets written to: BestModel/assets\n"
          ],
          "name": "stdout"
        },
        {
          "output_type": "stream",
          "text": [
            "INFO:tensorflow:Assets written to: BestModel/assets\n"
          ],
          "name": "stderr"
        },
        {
          "output_type": "stream",
          "text": [
            "Epoch 34/50\n",
            "1000/1000 [==============================] - 10s 10ms/step - loss: 0.2283 - accuracy: 0.9194 - val_loss: 0.2158 - val_accuracy: 0.9260\n"
          ],
          "name": "stdout"
        },
        {
          "output_type": "stream",
          "text": [
            "WARNING:absl:Found untraced functions such as gru_cell_2_layer_call_and_return_conditional_losses, gru_cell_2_layer_call_fn, gru_cell_3_layer_call_and_return_conditional_losses, gru_cell_3_layer_call_fn, gru_cell_2_layer_call_fn while saving (showing 5 of 10). These functions will not be directly callable after loading.\n",
            "WARNING:absl:Found untraced functions such as gru_cell_2_layer_call_and_return_conditional_losses, gru_cell_2_layer_call_fn, gru_cell_3_layer_call_and_return_conditional_losses, gru_cell_3_layer_call_fn, gru_cell_2_layer_call_fn while saving (showing 5 of 10). These functions will not be directly callable after loading.\n"
          ],
          "name": "stderr"
        },
        {
          "output_type": "stream",
          "text": [
            "INFO:tensorflow:Assets written to: BestModel/assets\n"
          ],
          "name": "stdout"
        },
        {
          "output_type": "stream",
          "text": [
            "INFO:tensorflow:Assets written to: BestModel/assets\n"
          ],
          "name": "stderr"
        },
        {
          "output_type": "stream",
          "text": [
            "Epoch 35/50\n",
            "1000/1000 [==============================] - 10s 10ms/step - loss: 0.2226 - accuracy: 0.9216 - val_loss: 0.2206 - val_accuracy: 0.9239\n",
            "Epoch 36/50\n",
            "1000/1000 [==============================] - 10s 10ms/step - loss: 0.2122 - accuracy: 0.9272 - val_loss: 0.1950 - val_accuracy: 0.9367\n"
          ],
          "name": "stdout"
        },
        {
          "output_type": "stream",
          "text": [
            "WARNING:absl:Found untraced functions such as gru_cell_2_layer_call_and_return_conditional_losses, gru_cell_2_layer_call_fn, gru_cell_3_layer_call_and_return_conditional_losses, gru_cell_3_layer_call_fn, gru_cell_2_layer_call_fn while saving (showing 5 of 10). These functions will not be directly callable after loading.\n",
            "WARNING:absl:Found untraced functions such as gru_cell_2_layer_call_and_return_conditional_losses, gru_cell_2_layer_call_fn, gru_cell_3_layer_call_and_return_conditional_losses, gru_cell_3_layer_call_fn, gru_cell_2_layer_call_fn while saving (showing 5 of 10). These functions will not be directly callable after loading.\n"
          ],
          "name": "stderr"
        },
        {
          "output_type": "stream",
          "text": [
            "INFO:tensorflow:Assets written to: BestModel/assets\n"
          ],
          "name": "stdout"
        },
        {
          "output_type": "stream",
          "text": [
            "INFO:tensorflow:Assets written to: BestModel/assets\n"
          ],
          "name": "stderr"
        },
        {
          "output_type": "stream",
          "text": [
            "Epoch 37/50\n",
            "1000/1000 [==============================] - 10s 10ms/step - loss: 0.2024 - accuracy: 0.9319 - val_loss: 0.2068 - val_accuracy: 0.9311\n",
            "Epoch 38/50\n",
            "1000/1000 [==============================] - 10s 10ms/step - loss: 0.1941 - accuracy: 0.9360 - val_loss: 0.2031 - val_accuracy: 0.9315\n",
            "Epoch 39/50\n",
            "1000/1000 [==============================] - 10s 10ms/step - loss: 0.1916 - accuracy: 0.9374 - val_loss: 0.1836 - val_accuracy: 0.9414\n"
          ],
          "name": "stdout"
        },
        {
          "output_type": "stream",
          "text": [
            "WARNING:absl:Found untraced functions such as gru_cell_2_layer_call_and_return_conditional_losses, gru_cell_2_layer_call_fn, gru_cell_3_layer_call_and_return_conditional_losses, gru_cell_3_layer_call_fn, gru_cell_2_layer_call_fn while saving (showing 5 of 10). These functions will not be directly callable after loading.\n",
            "WARNING:absl:Found untraced functions such as gru_cell_2_layer_call_and_return_conditional_losses, gru_cell_2_layer_call_fn, gru_cell_3_layer_call_and_return_conditional_losses, gru_cell_3_layer_call_fn, gru_cell_2_layer_call_fn while saving (showing 5 of 10). These functions will not be directly callable after loading.\n"
          ],
          "name": "stderr"
        },
        {
          "output_type": "stream",
          "text": [
            "INFO:tensorflow:Assets written to: BestModel/assets\n"
          ],
          "name": "stdout"
        },
        {
          "output_type": "stream",
          "text": [
            "INFO:tensorflow:Assets written to: BestModel/assets\n"
          ],
          "name": "stderr"
        },
        {
          "output_type": "stream",
          "text": [
            "Epoch 40/50\n",
            "1000/1000 [==============================] - 10s 10ms/step - loss: 0.1826 - accuracy: 0.9395 - val_loss: 0.1800 - val_accuracy: 0.9430\n"
          ],
          "name": "stdout"
        },
        {
          "output_type": "stream",
          "text": [
            "WARNING:absl:Found untraced functions such as gru_cell_2_layer_call_and_return_conditional_losses, gru_cell_2_layer_call_fn, gru_cell_3_layer_call_and_return_conditional_losses, gru_cell_3_layer_call_fn, gru_cell_2_layer_call_fn while saving (showing 5 of 10). These functions will not be directly callable after loading.\n",
            "WARNING:absl:Found untraced functions such as gru_cell_2_layer_call_and_return_conditional_losses, gru_cell_2_layer_call_fn, gru_cell_3_layer_call_and_return_conditional_losses, gru_cell_3_layer_call_fn, gru_cell_2_layer_call_fn while saving (showing 5 of 10). These functions will not be directly callable after loading.\n"
          ],
          "name": "stderr"
        },
        {
          "output_type": "stream",
          "text": [
            "INFO:tensorflow:Assets written to: BestModel/assets\n"
          ],
          "name": "stdout"
        },
        {
          "output_type": "stream",
          "text": [
            "INFO:tensorflow:Assets written to: BestModel/assets\n"
          ],
          "name": "stderr"
        },
        {
          "output_type": "stream",
          "text": [
            "Epoch 41/50\n",
            "1000/1000 [==============================] - 10s 10ms/step - loss: 0.1798 - accuracy: 0.9399 - val_loss: 0.1756 - val_accuracy: 0.9424\n",
            "Epoch 42/50\n",
            "1000/1000 [==============================] - 10s 10ms/step - loss: 0.1701 - accuracy: 0.9464 - val_loss: 0.1723 - val_accuracy: 0.9436\n"
          ],
          "name": "stdout"
        },
        {
          "output_type": "stream",
          "text": [
            "WARNING:absl:Found untraced functions such as gru_cell_2_layer_call_and_return_conditional_losses, gru_cell_2_layer_call_fn, gru_cell_3_layer_call_and_return_conditional_losses, gru_cell_3_layer_call_fn, gru_cell_2_layer_call_fn while saving (showing 5 of 10). These functions will not be directly callable after loading.\n",
            "WARNING:absl:Found untraced functions such as gru_cell_2_layer_call_and_return_conditional_losses, gru_cell_2_layer_call_fn, gru_cell_3_layer_call_and_return_conditional_losses, gru_cell_3_layer_call_fn, gru_cell_2_layer_call_fn while saving (showing 5 of 10). These functions will not be directly callable after loading.\n"
          ],
          "name": "stderr"
        },
        {
          "output_type": "stream",
          "text": [
            "INFO:tensorflow:Assets written to: BestModel/assets\n"
          ],
          "name": "stdout"
        },
        {
          "output_type": "stream",
          "text": [
            "INFO:tensorflow:Assets written to: BestModel/assets\n"
          ],
          "name": "stderr"
        },
        {
          "output_type": "stream",
          "text": [
            "Epoch 43/50\n",
            "1000/1000 [==============================] - 10s 10ms/step - loss: 0.1787 - accuracy: 0.9416 - val_loss: 0.1729 - val_accuracy: 0.9473\n"
          ],
          "name": "stdout"
        },
        {
          "output_type": "stream",
          "text": [
            "WARNING:absl:Found untraced functions such as gru_cell_2_layer_call_and_return_conditional_losses, gru_cell_2_layer_call_fn, gru_cell_3_layer_call_and_return_conditional_losses, gru_cell_3_layer_call_fn, gru_cell_2_layer_call_fn while saving (showing 5 of 10). These functions will not be directly callable after loading.\n",
            "WARNING:absl:Found untraced functions such as gru_cell_2_layer_call_and_return_conditional_losses, gru_cell_2_layer_call_fn, gru_cell_3_layer_call_and_return_conditional_losses, gru_cell_3_layer_call_fn, gru_cell_2_layer_call_fn while saving (showing 5 of 10). These functions will not be directly callable after loading.\n"
          ],
          "name": "stderr"
        },
        {
          "output_type": "stream",
          "text": [
            "INFO:tensorflow:Assets written to: BestModel/assets\n"
          ],
          "name": "stdout"
        },
        {
          "output_type": "stream",
          "text": [
            "INFO:tensorflow:Assets written to: BestModel/assets\n"
          ],
          "name": "stderr"
        },
        {
          "output_type": "stream",
          "text": [
            "Epoch 44/50\n",
            "1000/1000 [==============================] - 10s 10ms/step - loss: 0.1757 - accuracy: 0.9425 - val_loss: 0.1742 - val_accuracy: 0.9431\n",
            "Epoch 45/50\n",
            "1000/1000 [==============================] - 10s 10ms/step - loss: 0.1649 - accuracy: 0.9460 - val_loss: 0.1620 - val_accuracy: 0.9507\n"
          ],
          "name": "stdout"
        },
        {
          "output_type": "stream",
          "text": [
            "WARNING:absl:Found untraced functions such as gru_cell_2_layer_call_and_return_conditional_losses, gru_cell_2_layer_call_fn, gru_cell_3_layer_call_and_return_conditional_losses, gru_cell_3_layer_call_fn, gru_cell_2_layer_call_fn while saving (showing 5 of 10). These functions will not be directly callable after loading.\n",
            "WARNING:absl:Found untraced functions such as gru_cell_2_layer_call_and_return_conditional_losses, gru_cell_2_layer_call_fn, gru_cell_3_layer_call_and_return_conditional_losses, gru_cell_3_layer_call_fn, gru_cell_2_layer_call_fn while saving (showing 5 of 10). These functions will not be directly callable after loading.\n"
          ],
          "name": "stderr"
        },
        {
          "output_type": "stream",
          "text": [
            "INFO:tensorflow:Assets written to: BestModel/assets\n"
          ],
          "name": "stdout"
        },
        {
          "output_type": "stream",
          "text": [
            "INFO:tensorflow:Assets written to: BestModel/assets\n"
          ],
          "name": "stderr"
        },
        {
          "output_type": "stream",
          "text": [
            "Epoch 46/50\n",
            "1000/1000 [==============================] - 10s 10ms/step - loss: 0.1571 - accuracy: 0.9503 - val_loss: 0.1529 - val_accuracy: 0.9521\n"
          ],
          "name": "stdout"
        },
        {
          "output_type": "stream",
          "text": [
            "WARNING:absl:Found untraced functions such as gru_cell_2_layer_call_and_return_conditional_losses, gru_cell_2_layer_call_fn, gru_cell_3_layer_call_and_return_conditional_losses, gru_cell_3_layer_call_fn, gru_cell_2_layer_call_fn while saving (showing 5 of 10). These functions will not be directly callable after loading.\n",
            "WARNING:absl:Found untraced functions such as gru_cell_2_layer_call_and_return_conditional_losses, gru_cell_2_layer_call_fn, gru_cell_3_layer_call_and_return_conditional_losses, gru_cell_3_layer_call_fn, gru_cell_2_layer_call_fn while saving (showing 5 of 10). These functions will not be directly callable after loading.\n"
          ],
          "name": "stderr"
        },
        {
          "output_type": "stream",
          "text": [
            "INFO:tensorflow:Assets written to: BestModel/assets\n"
          ],
          "name": "stdout"
        },
        {
          "output_type": "stream",
          "text": [
            "INFO:tensorflow:Assets written to: BestModel/assets\n"
          ],
          "name": "stderr"
        },
        {
          "output_type": "stream",
          "text": [
            "Epoch 47/50\n",
            "1000/1000 [==============================] - 10s 10ms/step - loss: 0.1525 - accuracy: 0.9515 - val_loss: 0.1525 - val_accuracy: 0.9540\n"
          ],
          "name": "stdout"
        },
        {
          "output_type": "stream",
          "text": [
            "WARNING:absl:Found untraced functions such as gru_cell_2_layer_call_and_return_conditional_losses, gru_cell_2_layer_call_fn, gru_cell_3_layer_call_and_return_conditional_losses, gru_cell_3_layer_call_fn, gru_cell_2_layer_call_fn while saving (showing 5 of 10). These functions will not be directly callable after loading.\n",
            "WARNING:absl:Found untraced functions such as gru_cell_2_layer_call_and_return_conditional_losses, gru_cell_2_layer_call_fn, gru_cell_3_layer_call_and_return_conditional_losses, gru_cell_3_layer_call_fn, gru_cell_2_layer_call_fn while saving (showing 5 of 10). These functions will not be directly callable after loading.\n"
          ],
          "name": "stderr"
        },
        {
          "output_type": "stream",
          "text": [
            "INFO:tensorflow:Assets written to: BestModel/assets\n"
          ],
          "name": "stdout"
        },
        {
          "output_type": "stream",
          "text": [
            "INFO:tensorflow:Assets written to: BestModel/assets\n"
          ],
          "name": "stderr"
        },
        {
          "output_type": "stream",
          "text": [
            "Epoch 48/50\n",
            "1000/1000 [==============================] - 10s 10ms/step - loss: 0.1591 - accuracy: 0.9494 - val_loss: 0.1517 - val_accuracy: 0.9532\n",
            "Epoch 49/50\n",
            "1000/1000 [==============================] - 10s 10ms/step - loss: 0.1507 - accuracy: 0.9522 - val_loss: 0.1882 - val_accuracy: 0.9379\n",
            "Epoch 50/50\n",
            "1000/1000 [==============================] - 10s 10ms/step - loss: 0.1525 - accuracy: 0.9519 - val_loss: 0.1485 - val_accuracy: 0.9539\n",
            "Fold 1, 50 epochs, 687 sec\n"
          ],
          "name": "stdout"
        },
        {
          "output_type": "display_data",
          "data": {
            "image/png": "[encoded data removed]",
            "text/plain": [
              "<Figure size 576x360 with 1 Axes>"
            ]
          },
          "metadata": {
            "tags": [],
            "needs_background": "light"
          }
        },
        {
          "output_type": "stream",
          "text": [
            "MODEL\n",
            "make_DNN\n",
            "input shape: (100, 4)\n",
            "FIT\n",
            "Epoch 1/50\n",
            "1000/1000 [==============================] - 13s 11ms/step - loss: 0.6965 - accuracy: 0.5004 - val_loss: 0.6932 - val_accuracy: 0.5005\n",
            "Epoch 2/50\n",
            "1000/1000 [==============================] - 10s 10ms/step - loss: 0.6934 - accuracy: 0.5056 - val_loss: 0.6933 - val_accuracy: 0.4995\n",
            "Epoch 3/50\n",
            "1000/1000 [==============================] - 10s 10ms/step - loss: 0.6937 - accuracy: 0.4919 - val_loss: 0.6949 - val_accuracy: 0.4995\n",
            "Epoch 4/50\n",
            "1000/1000 [==============================] - 10s 10ms/step - loss: 0.6940 - accuracy: 0.4946 - val_loss: 0.6933 - val_accuracy: 0.4958\n",
            "Epoch 5/50\n",
            "1000/1000 [==============================] - 10s 10ms/step - loss: 0.6934 - accuracy: 0.5078 - val_loss: 0.6934 - val_accuracy: 0.4995\n",
            "Epoch 6/50\n",
            "1000/1000 [==============================] - 10s 10ms/step - loss: 0.6936 - accuracy: 0.5008 - val_loss: 0.6933 - val_accuracy: 0.4938\n",
            "Epoch 7/50\n",
            "1000/1000 [==============================] - 10s 10ms/step - loss: 0.6933 - accuracy: 0.5056 - val_loss: 0.6940 - val_accuracy: 0.5004\n",
            "Epoch 8/50\n",
            "1000/1000 [==============================] - 10s 10ms/step - loss: 0.6938 - accuracy: 0.4998 - val_loss: 0.6938 - val_accuracy: 0.5000\n",
            "Epoch 9/50\n",
            "1000/1000 [==============================] - 10s 10ms/step - loss: 0.6930 - accuracy: 0.5108 - val_loss: 0.6934 - val_accuracy: 0.4933\n",
            "Epoch 10/50\n",
            "1000/1000 [==============================] - 10s 10ms/step - loss: 0.6934 - accuracy: 0.5036 - val_loss: 0.6937 - val_accuracy: 0.4984\n",
            "Epoch 11/50\n",
            "1000/1000 [==============================] - 10s 10ms/step - loss: 0.6715 - accuracy: 0.5606 - val_loss: 0.5686 - val_accuracy: 0.6915\n",
            "Epoch 12/50\n",
            "1000/1000 [==============================] - 10s 10ms/step - loss: 0.5597 - accuracy: 0.7022 - val_loss: 0.5381 - val_accuracy: 0.7110\n",
            "Epoch 13/50\n",
            "1000/1000 [==============================] - 10s 10ms/step - loss: 0.5380 - accuracy: 0.7143 - val_loss: 0.5347 - val_accuracy: 0.7119\n",
            "Epoch 14/50\n",
            "1000/1000 [==============================] - 10s 10ms/step - loss: 0.5326 - accuracy: 0.7172 - val_loss: 0.5412 - val_accuracy: 0.7009\n",
            "Epoch 15/50\n",
            "1000/1000 [==============================] - 10s 10ms/step - loss: 0.5315 - accuracy: 0.7170 - val_loss: 0.5349 - val_accuracy: 0.7117\n",
            "Epoch 16/50\n",
            "1000/1000 [==============================] - 10s 10ms/step - loss: 0.5259 - accuracy: 0.7238 - val_loss: 0.5344 - val_accuracy: 0.7172\n",
            "Epoch 17/50\n",
            "1000/1000 [==============================] - 10s 10ms/step - loss: 0.5275 - accuracy: 0.7185 - val_loss: 0.5374 - val_accuracy: 0.7065\n",
            "Epoch 18/50\n",
            "1000/1000 [==============================] - 10s 10ms/step - loss: 0.5237 - accuracy: 0.7212 - val_loss: 0.5374 - val_accuracy: 0.7141\n",
            "Epoch 19/50\n",
            "1000/1000 [==============================] - 10s 10ms/step - loss: 0.5243 - accuracy: 0.7230 - val_loss: 0.5315 - val_accuracy: 0.7159\n",
            "Epoch 20/50\n",
            "1000/1000 [==============================] - 10s 10ms/step - loss: 0.5193 - accuracy: 0.7258 - val_loss: 0.5306 - val_accuracy: 0.7206\n",
            "Epoch 21/50\n",
            "1000/1000 [==============================] - 10s 10ms/step - loss: 0.5183 - accuracy: 0.7322 - val_loss: 0.5306 - val_accuracy: 0.7215\n",
            "Epoch 22/50\n",
            "1000/1000 [==============================] - 10s 10ms/step - loss: 0.5228 - accuracy: 0.7213 - val_loss: 0.5313 - val_accuracy: 0.7170\n",
            "Epoch 23/50\n",
            "1000/1000 [==============================] - 10s 10ms/step - loss: 0.5161 - accuracy: 0.7293 - val_loss: 0.5389 - val_accuracy: 0.7081\n",
            "Epoch 24/50\n",
            "1000/1000 [==============================] - 10s 10ms/step - loss: 0.5159 - accuracy: 0.7326 - val_loss: 0.5290 - val_accuracy: 0.7193\n",
            "Epoch 25/50\n",
            "1000/1000 [==============================] - 10s 10ms/step - loss: 0.5103 - accuracy: 0.7383 - val_loss: 0.5276 - val_accuracy: 0.7174\n",
            "Epoch 26/50\n",
            "1000/1000 [==============================] - 10s 10ms/step - loss: 0.5146 - accuracy: 0.7353 - val_loss: 0.5303 - val_accuracy: 0.7159\n",
            "Epoch 27/50\n",
            "1000/1000 [==============================] - 10s 10ms/step - loss: 0.5096 - accuracy: 0.7345 - val_loss: 0.5288 - val_accuracy: 0.7204\n",
            "Epoch 28/50\n",
            "1000/1000 [==============================] - 10s 10ms/step - loss: 0.5106 - accuracy: 0.7378 - val_loss: 0.5322 - val_accuracy: 0.7155\n",
            "Epoch 29/50\n",
            "1000/1000 [==============================] - 10s 10ms/step - loss: 0.5048 - accuracy: 0.7354 - val_loss: 0.5314 - val_accuracy: 0.7204\n",
            "Epoch 30/50\n",
            "1000/1000 [==============================] - 10s 10ms/step - loss: 0.5023 - accuracy: 0.7396 - val_loss: 0.5345 - val_accuracy: 0.7178\n",
            "Epoch 31/50\n",
            "1000/1000 [==============================] - 10s 10ms/step - loss: 0.4992 - accuracy: 0.7455 - val_loss: 0.5280 - val_accuracy: 0.7179\n",
            "Epoch 32/50\n",
            "1000/1000 [==============================] - 10s 10ms/step - loss: 0.4960 - accuracy: 0.7446 - val_loss: 0.5329 - val_accuracy: 0.7163\n",
            "Epoch 33/50\n",
            "1000/1000 [==============================] - 10s 10ms/step - loss: 0.4955 - accuracy: 0.7422 - val_loss: 0.5362 - val_accuracy: 0.7103\n",
            "Epoch 34/50\n",
            "1000/1000 [==============================] - 10s 10ms/step - loss: 0.4912 - accuracy: 0.7497 - val_loss: 0.5280 - val_accuracy: 0.7196\n",
            "Epoch 35/50\n",
            "1000/1000 [==============================] - 10s 10ms/step - loss: 0.4879 - accuracy: 0.7534 - val_loss: 0.5278 - val_accuracy: 0.7219\n",
            "Epoch 36/50\n",
            "1000/1000 [==============================] - 10s 10ms/step - loss: 0.4760 - accuracy: 0.7593 - val_loss: 0.4501 - val_accuracy: 0.7894\n",
            "Epoch 37/50\n",
            "1000/1000 [==============================] - 10s 10ms/step - loss: 0.3630 - accuracy: 0.8424 - val_loss: 0.2934 - val_accuracy: 0.8816\n",
            "Epoch 38/50\n",
            "1000/1000 [==============================] - 10s 10ms/step - loss: 0.2759 - accuracy: 0.8867 - val_loss: 0.2920 - val_accuracy: 0.8819\n",
            "Epoch 39/50\n",
            "1000/1000 [==============================] - 10s 10ms/step - loss: 0.2470 - accuracy: 0.9019 - val_loss: 0.2381 - val_accuracy: 0.9082\n",
            "Epoch 40/50\n",
            "1000/1000 [==============================] - 10s 10ms/step - loss: 0.2229 - accuracy: 0.9147 - val_loss: 0.2264 - val_accuracy: 0.9160\n",
            "Epoch 41/50\n",
            "1000/1000 [==============================] - 10s 10ms/step - loss: 0.2137 - accuracy: 0.9195 - val_loss: 0.2324 - val_accuracy: 0.9111\n",
            "Epoch 42/50\n",
            "1000/1000 [==============================] - 10s 10ms/step - loss: 0.2091 - accuracy: 0.9210 - val_loss: 0.2274 - val_accuracy: 0.9158\n",
            "Epoch 43/50\n",
            "1000/1000 [==============================] - 10s 10ms/step - loss: 0.1984 - accuracy: 0.9274 - val_loss: 0.2199 - val_accuracy: 0.9191\n",
            "Epoch 44/50\n",
            "1000/1000 [==============================] - 10s 10ms/step - loss: 0.1914 - accuracy: 0.9310 - val_loss: 0.2102 - val_accuracy: 0.9254\n",
            "Epoch 45/50\n",
            "1000/1000 [==============================] - 10s 10ms/step - loss: 0.1870 - accuracy: 0.9331 - val_loss: 0.2391 - val_accuracy: 0.9135\n",
            "Epoch 46/50\n",
            "1000/1000 [==============================] - 10s 10ms/step - loss: 0.1856 - accuracy: 0.9350 - val_loss: 0.2106 - val_accuracy: 0.9243\n",
            "Epoch 47/50\n",
            "1000/1000 [==============================] - 10s 10ms/step - loss: 0.1773 - accuracy: 0.9373 - val_loss: 0.2097 - val_accuracy: 0.9233\n",
            "Epoch 48/50\n",
            "1000/1000 [==============================] - 10s 10ms/step - loss: 0.1752 - accuracy: 0.9391 - val_loss: 0.2043 - val_accuracy: 0.9266\n",
            "Epoch 49/50\n",
            "1000/1000 [==============================] - 10s 10ms/step - loss: 0.1774 - accuracy: 0.9379 - val_loss: 0.2081 - val_accuracy: 0.9264\n",
            "Epoch 50/50\n",
            "1000/1000 [==============================] - 10s 10ms/step - loss: 0.1617 - accuracy: 0.9445 - val_loss: 0.1947 - val_accuracy: 0.9285\n",
            "Fold 2, 50 epochs, 511 sec\n"
          ],
          "name": "stdout"
        },
        {
          "output_type": "display_data",
          "data": {
            "image/png": "[encoded data removed]",
            "text/plain": [
              "<Figure size 576x360 with 1 Axes>"
            ]
          },
          "metadata": {
            "tags": [],
            "needs_background": "light"
          }
        },
        {
          "output_type": "stream",
          "text": [
            "MODEL\n",
            "make_DNN\n",
            "input shape: (100, 4)\n",
            "FIT\n",
            "Epoch 1/50\n",
            "1000/1000 [==============================] - 14s 11ms/step - loss: 0.6955 - accuracy: 0.5045 - val_loss: 0.6933 - val_accuracy: 0.4986\n",
            "Epoch 2/50\n",
            "1000/1000 [==============================] - 10s 10ms/step - loss: 0.6936 - accuracy: 0.4998 - val_loss: 0.6933 - val_accuracy: 0.5014\n",
            "Epoch 3/50\n",
            "1000/1000 [==============================] - 10s 10ms/step - loss: 0.6937 - accuracy: 0.4983 - val_loss: 0.6937 - val_accuracy: 0.4986\n",
            "Epoch 4/50\n",
            "1000/1000 [==============================] - 10s 10ms/step - loss: 0.6937 - accuracy: 0.5017 - val_loss: 0.6932 - val_accuracy: 0.5014\n",
            "Epoch 5/50\n",
            "1000/1000 [==============================] - 10s 10ms/step - loss: 0.6936 - accuracy: 0.5016 - val_loss: 0.6973 - val_accuracy: 0.4986\n",
            "Epoch 6/50\n",
            "1000/1000 [==============================] - 10s 10ms/step - loss: 0.6942 - accuracy: 0.4926 - val_loss: 0.6936 - val_accuracy: 0.4941\n",
            "Epoch 7/50\n",
            "1000/1000 [==============================] - 10s 10ms/step - loss: 0.6935 - accuracy: 0.5054 - val_loss: 0.6950 - val_accuracy: 0.4986\n",
            "Epoch 8/50\n",
            "1000/1000 [==============================] - 10s 10ms/step - loss: 0.6939 - accuracy: 0.4958 - val_loss: 0.6934 - val_accuracy: 0.5021\n",
            "Epoch 9/50\n",
            "1000/1000 [==============================] - 10s 10ms/step - loss: 0.6932 - accuracy: 0.5073 - val_loss: 0.6932 - val_accuracy: 0.5014\n",
            "Epoch 10/50\n",
            "1000/1000 [==============================] - 10s 10ms/step - loss: 0.6934 - accuracy: 0.5029 - val_loss: 0.6933 - val_accuracy: 0.4902\n",
            "Epoch 11/50\n",
            "1000/1000 [==============================] - 10s 10ms/step - loss: 0.6936 - accuracy: 0.5005 - val_loss: 0.6934 - val_accuracy: 0.5014\n",
            "Epoch 12/50\n",
            "1000/1000 [==============================] - 10s 10ms/step - loss: 0.6935 - accuracy: 0.5017 - val_loss: 0.6933 - val_accuracy: 0.5014\n",
            "Epoch 13/50\n",
            "1000/1000 [==============================] - 10s 10ms/step - loss: 0.6934 - accuracy: 0.5022 - val_loss: 0.6933 - val_accuracy: 0.4991\n",
            "Epoch 14/50\n",
            "1000/1000 [==============================] - 10s 10ms/step - loss: 0.6935 - accuracy: 0.5051 - val_loss: 0.6930 - val_accuracy: 0.5064\n",
            "Epoch 15/50\n",
            "1000/1000 [==============================] - 10s 10ms/step - loss: 0.6933 - accuracy: 0.5014 - val_loss: 0.6933 - val_accuracy: 0.4956\n",
            "Epoch 16/50\n",
            "1000/1000 [==============================] - 10s 10ms/step - loss: 0.6932 - accuracy: 0.5050 - val_loss: 0.6937 - val_accuracy: 0.5031\n",
            "Epoch 17/50\n",
            "1000/1000 [==============================] - 10s 10ms/step - loss: 0.6934 - accuracy: 0.5053 - val_loss: 0.6943 - val_accuracy: 0.5014\n",
            "Epoch 18/50\n",
            "1000/1000 [==============================] - 10s 10ms/step - loss: 0.6933 - accuracy: 0.5002 - val_loss: 0.6611 - val_accuracy: 0.6204\n",
            "Epoch 19/50\n",
            "1000/1000 [==============================] - 10s 10ms/step - loss: 0.6182 - accuracy: 0.6505 - val_loss: 0.5472 - val_accuracy: 0.7101\n",
            "Epoch 20/50\n",
            "1000/1000 [==============================] - 10s 10ms/step - loss: 0.5409 - accuracy: 0.7095 - val_loss: 0.5440 - val_accuracy: 0.7080\n",
            "Epoch 21/50\n",
            "1000/1000 [==============================] - 10s 10ms/step - loss: 0.5388 - accuracy: 0.7120 - val_loss: 0.5399 - val_accuracy: 0.7130\n",
            "Epoch 22/50\n",
            "1000/1000 [==============================] - 10s 10ms/step - loss: 0.5300 - accuracy: 0.7150 - val_loss: 0.5460 - val_accuracy: 0.7088\n",
            "Epoch 23/50\n",
            "1000/1000 [==============================] - 10s 10ms/step - loss: 0.5270 - accuracy: 0.7204 - val_loss: 0.5449 - val_accuracy: 0.7082\n",
            "Epoch 24/50\n",
            "1000/1000 [==============================] - 10s 10ms/step - loss: 0.5265 - accuracy: 0.7220 - val_loss: 0.5346 - val_accuracy: 0.7156\n",
            "Epoch 25/50\n",
            "1000/1000 [==============================] - 10s 10ms/step - loss: 0.5241 - accuracy: 0.7219 - val_loss: 0.5338 - val_accuracy: 0.7156\n",
            "Epoch 26/50\n",
            "1000/1000 [==============================] - 11s 11ms/step - loss: 0.5232 - accuracy: 0.7233 - val_loss: 0.5334 - val_accuracy: 0.7141\n",
            "Epoch 27/50\n",
            "1000/1000 [==============================] - 10s 10ms/step - loss: 0.5213 - accuracy: 0.7235 - val_loss: 0.5350 - val_accuracy: 0.7149\n",
            "Epoch 28/50\n",
            "1000/1000 [==============================] - 10s 10ms/step - loss: 0.5177 - accuracy: 0.7282 - val_loss: 0.5416 - val_accuracy: 0.7088\n",
            "Epoch 29/50\n",
            "1000/1000 [==============================] - 10s 10ms/step - loss: 0.5161 - accuracy: 0.7316 - val_loss: 0.5424 - val_accuracy: 0.7082\n",
            "Epoch 30/50\n",
            "1000/1000 [==============================] - 10s 10ms/step - loss: 0.5142 - accuracy: 0.7295 - val_loss: 0.5325 - val_accuracy: 0.7185\n",
            "Epoch 31/50\n",
            "1000/1000 [==============================] - 10s 10ms/step - loss: 0.5170 - accuracy: 0.7274 - val_loss: 0.5331 - val_accuracy: 0.7163\n",
            "Epoch 32/50\n",
            "1000/1000 [==============================] - 10s 10ms/step - loss: 0.5138 - accuracy: 0.7283 - val_loss: 0.5369 - val_accuracy: 0.7153\n",
            "Epoch 33/50\n",
            "1000/1000 [==============================] - 10s 10ms/step - loss: 0.5104 - accuracy: 0.7304 - val_loss: 0.5373 - val_accuracy: 0.7176\n",
            "Epoch 34/50\n",
            "1000/1000 [==============================] - 10s 10ms/step - loss: 0.5091 - accuracy: 0.7352 - val_loss: 0.5400 - val_accuracy: 0.7136\n",
            "Epoch 35/50\n",
            "1000/1000 [==============================] - 10s 10ms/step - loss: 0.5086 - accuracy: 0.7335 - val_loss: 0.5333 - val_accuracy: 0.7185\n",
            "Epoch 36/50\n",
            "1000/1000 [==============================] - 10s 10ms/step - loss: 0.5056 - accuracy: 0.7397 - val_loss: 0.5302 - val_accuracy: 0.7219\n",
            "Epoch 37/50\n",
            "1000/1000 [==============================] - 10s 10ms/step - loss: 0.5001 - accuracy: 0.7402 - val_loss: 0.5425 - val_accuracy: 0.7134\n",
            "Epoch 38/50\n",
            "1000/1000 [==============================] - 10s 10ms/step - loss: 0.4960 - accuracy: 0.7460 - val_loss: 0.5229 - val_accuracy: 0.7309\n",
            "Epoch 39/50\n",
            "1000/1000 [==============================] - 10s 10ms/step - loss: 0.4664 - accuracy: 0.7717 - val_loss: 0.3358 - val_accuracy: 0.8631\n",
            "Epoch 40/50\n",
            "1000/1000 [==============================] - 10s 10ms/step - loss: 0.2990 - accuracy: 0.8759 - val_loss: 0.2670 - val_accuracy: 0.8954\n",
            "Epoch 41/50\n",
            "1000/1000 [==============================] - 10s 10ms/step - loss: 0.2541 - accuracy: 0.9014 - val_loss: 0.2411 - val_accuracy: 0.9081\n",
            "Epoch 42/50\n",
            "1000/1000 [==============================] - 11s 11ms/step - loss: 0.2329 - accuracy: 0.9128 - val_loss: 0.2212 - val_accuracy: 0.9153\n",
            "Epoch 43/50\n",
            "1000/1000 [==============================] - 10s 10ms/step - loss: 0.2183 - accuracy: 0.9184 - val_loss: 0.2148 - val_accuracy: 0.9195\n",
            "Epoch 44/50\n",
            "1000/1000 [==============================] - 10s 10ms/step - loss: 0.2104 - accuracy: 0.9219 - val_loss: 0.2045 - val_accuracy: 0.9250\n",
            "Epoch 45/50\n",
            "1000/1000 [==============================] - 10s 10ms/step - loss: 0.2038 - accuracy: 0.9237 - val_loss: 0.2040 - val_accuracy: 0.9240\n",
            "Epoch 46/50\n",
            "1000/1000 [==============================] - 10s 10ms/step - loss: 0.1984 - accuracy: 0.9263 - val_loss: 0.1961 - val_accuracy: 0.9300\n",
            "Epoch 47/50\n",
            "1000/1000 [==============================] - 10s 10ms/step - loss: 0.1942 - accuracy: 0.9281 - val_loss: 0.1995 - val_accuracy: 0.9295\n",
            "Epoch 48/50\n",
            "1000/1000 [==============================] - 10s 10ms/step - loss: 0.1856 - accuracy: 0.9327 - val_loss: 0.1927 - val_accuracy: 0.9312\n",
            "Epoch 49/50\n",
            "1000/1000 [==============================] - 10s 10ms/step - loss: 0.1771 - accuracy: 0.9373 - val_loss: 0.1948 - val_accuracy: 0.9341\n",
            "Epoch 50/50\n",
            "1000/1000 [==============================] - 10s 10ms/step - loss: 0.1769 - accuracy: 0.9376 - val_loss: 0.1947 - val_accuracy: 0.9325\n",
            "Fold 3, 50 epochs, 514 sec\n"
          ],
          "name": "stdout"
        },
        {
          "output_type": "display_data",
          "data": {
            "image/png": "[encoded data removed]",
            "text/plain": [
              "<Figure size 576x360 with 1 Axes>"
            ]
          },
          "metadata": {
            "tags": [],
            "needs_background": "light"
          }
        },
        {
          "output_type": "stream",
          "text": [
            "MODEL\n",
            "make_DNN\n",
            "input shape: (100, 4)\n",
            "FIT\n",
            "Epoch 1/50\n",
            "1000/1000 [==============================] - 13s 11ms/step - loss: 0.6938 - accuracy: 0.4967 - val_loss: 0.6936 - val_accuracy: 0.5040\n",
            "Epoch 2/50\n",
            "1000/1000 [==============================] - 10s 10ms/step - loss: 0.6937 - accuracy: 0.4994 - val_loss: 0.6931 - val_accuracy: 0.5040\n",
            "Epoch 3/50\n",
            "1000/1000 [==============================] - 10s 10ms/step - loss: 0.6934 - accuracy: 0.4976 - val_loss: 0.6932 - val_accuracy: 0.5040\n",
            "Epoch 4/50\n",
            "1000/1000 [==============================] - 10s 10ms/step - loss: 0.6939 - accuracy: 0.4960 - val_loss: 0.6931 - val_accuracy: 0.5040\n",
            "Epoch 5/50\n",
            "1000/1000 [==============================] - 10s 10ms/step - loss: 0.6936 - accuracy: 0.5045 - val_loss: 0.6931 - val_accuracy: 0.5025\n",
            "Epoch 6/50\n",
            "1000/1000 [==============================] - 10s 10ms/step - loss: 0.6937 - accuracy: 0.4949 - val_loss: 0.6941 - val_accuracy: 0.4960\n",
            "Epoch 7/50\n",
            "1000/1000 [==============================] - 11s 11ms/step - loss: 0.6936 - accuracy: 0.5056 - val_loss: 0.6932 - val_accuracy: 0.4960\n",
            "Epoch 8/50\n",
            "1000/1000 [==============================] - 10s 10ms/step - loss: 0.6938 - accuracy: 0.4955 - val_loss: 0.6935 - val_accuracy: 0.4960\n",
            "Epoch 9/50\n",
            "1000/1000 [==============================] - 10s 10ms/step - loss: 0.6936 - accuracy: 0.4998 - val_loss: 0.6961 - val_accuracy: 0.5040\n",
            "Epoch 10/50\n",
            "1000/1000 [==============================] - 10s 10ms/step - loss: 0.6941 - accuracy: 0.4930 - val_loss: 0.6934 - val_accuracy: 0.4960\n",
            "Epoch 11/50\n",
            "1000/1000 [==============================] - 10s 10ms/step - loss: 0.6935 - accuracy: 0.5023 - val_loss: 0.6931 - val_accuracy: 0.5040\n",
            "Epoch 12/50\n",
            "1000/1000 [==============================] - 10s 10ms/step - loss: 0.6934 - accuracy: 0.5083 - val_loss: 0.6933 - val_accuracy: 0.5040\n",
            "Epoch 13/50\n",
            "1000/1000 [==============================] - 10s 10ms/step - loss: 0.6938 - accuracy: 0.4908 - val_loss: 0.6936 - val_accuracy: 0.4960\n",
            "Epoch 14/50\n",
            "1000/1000 [==============================] - 10s 10ms/step - loss: 0.6935 - accuracy: 0.5011 - val_loss: 0.6935 - val_accuracy: 0.4960\n",
            "Epoch 15/50\n",
            "1000/1000 [==============================] - 10s 10ms/step - loss: 0.6935 - accuracy: 0.4974 - val_loss: 0.6931 - val_accuracy: 0.5040\n",
            "Epoch 16/50\n",
            "1000/1000 [==============================] - 10s 10ms/step - loss: 0.6933 - accuracy: 0.4992 - val_loss: 0.6932 - val_accuracy: 0.4960\n",
            "Epoch 17/50\n",
            "1000/1000 [==============================] - 10s 10ms/step - loss: 0.6936 - accuracy: 0.5008 - val_loss: 0.6931 - val_accuracy: 0.5040\n",
            "Epoch 18/50\n",
            "1000/1000 [==============================] - 10s 10ms/step - loss: 0.6935 - accuracy: 0.4982 - val_loss: 0.6939 - val_accuracy: 0.4960\n",
            "Epoch 19/50\n",
            "1000/1000 [==============================] - 10s 10ms/step - loss: 0.6936 - accuracy: 0.4999 - val_loss: 0.6938 - val_accuracy: 0.4960\n",
            "Epoch 20/50\n",
            "1000/1000 [==============================] - 10s 10ms/step - loss: 0.6936 - accuracy: 0.5019 - val_loss: 0.6932 - val_accuracy: 0.4960\n",
            "Epoch 21/50\n",
            "1000/1000 [==============================] - 10s 10ms/step - loss: 0.6937 - accuracy: 0.4981 - val_loss: 0.6931 - val_accuracy: 0.5040\n",
            "Epoch 22/50\n",
            "1000/1000 [==============================] - 10s 10ms/step - loss: 0.6936 - accuracy: 0.5016 - val_loss: 0.6988 - val_accuracy: 0.4960\n",
            "Epoch 23/50\n",
            "1000/1000 [==============================] - 10s 10ms/step - loss: 0.6939 - accuracy: 0.5018 - val_loss: 0.6932 - val_accuracy: 0.4960\n",
            "Epoch 24/50\n",
            "1000/1000 [==============================] - 10s 10ms/step - loss: 0.6936 - accuracy: 0.4978 - val_loss: 0.6932 - val_accuracy: 0.5040\n",
            "Epoch 25/50\n",
            "1000/1000 [==============================] - 10s 10ms/step - loss: 0.6935 - accuracy: 0.4991 - val_loss: 0.6931 - val_accuracy: 0.5024\n",
            "Epoch 26/50\n",
            "1000/1000 [==============================] - 11s 11ms/step - loss: 0.6935 - accuracy: 0.4977 - val_loss: 0.6935 - val_accuracy: 0.5040\n",
            "Epoch 27/50\n",
            "1000/1000 [==============================] - 10s 10ms/step - loss: 0.6936 - accuracy: 0.5011 - val_loss: 0.6934 - val_accuracy: 0.4960\n",
            "Epoch 28/50\n",
            "1000/1000 [==============================] - 10s 10ms/step - loss: 0.6936 - accuracy: 0.4992 - val_loss: 0.6934 - val_accuracy: 0.4960\n",
            "Epoch 29/50\n",
            "1000/1000 [==============================] - 10s 10ms/step - loss: 0.6938 - accuracy: 0.4881 - val_loss: 0.6931 - val_accuracy: 0.5040\n",
            "Epoch 30/50\n",
            "1000/1000 [==============================] - 10s 10ms/step - loss: 0.6936 - accuracy: 0.4957 - val_loss: 0.6932 - val_accuracy: 0.4960\n",
            "Epoch 31/50\n",
            "1000/1000 [==============================] - 10s 10ms/step - loss: 0.6935 - accuracy: 0.5008 - val_loss: 0.6931 - val_accuracy: 0.5065\n",
            "Epoch 32/50\n",
            "1000/1000 [==============================] - 11s 11ms/step - loss: 0.6934 - accuracy: 0.5039 - val_loss: 0.6935 - val_accuracy: 0.4960\n",
            "Epoch 33/50\n",
            "1000/1000 [==============================] - 10s 10ms/step - loss: 0.6937 - accuracy: 0.4988 - val_loss: 0.6932 - val_accuracy: 0.5040\n",
            "Epoch 34/50\n",
            "1000/1000 [==============================] - 10s 10ms/step - loss: 0.6936 - accuracy: 0.5019 - val_loss: 0.6936 - val_accuracy: 0.4886\n",
            "Epoch 35/50\n",
            "1000/1000 [==============================] - 10s 10ms/step - loss: 0.6935 - accuracy: 0.5005 - val_loss: 0.6936 - val_accuracy: 0.4960\n",
            "Epoch 36/50\n",
            "1000/1000 [==============================] - 10s 10ms/step - loss: 0.6936 - accuracy: 0.4957 - val_loss: 0.6931 - val_accuracy: 0.5048\n",
            "Epoch 37/50\n",
            "1000/1000 [==============================] - 10s 10ms/step - loss: 0.6935 - accuracy: 0.5018 - val_loss: 0.6938 - val_accuracy: 0.5040\n",
            "Epoch 38/50\n",
            "1000/1000 [==============================] - 10s 10ms/step - loss: 0.6932 - accuracy: 0.5034 - val_loss: 0.6931 - val_accuracy: 0.5102\n",
            "Epoch 39/50\n",
            "1000/1000 [==============================] - 10s 10ms/step - loss: 0.6934 - accuracy: 0.5020 - val_loss: 0.6932 - val_accuracy: 0.5060\n",
            "Epoch 40/50\n",
            "1000/1000 [==============================] - 11s 11ms/step - loss: 0.6933 - accuracy: 0.5029 - val_loss: 0.6931 - val_accuracy: 0.5061\n",
            "Epoch 41/50\n",
            "1000/1000 [==============================] - 10s 10ms/step - loss: 0.6928 - accuracy: 0.5123 - val_loss: 0.6933 - val_accuracy: 0.5014\n",
            "Epoch 42/50\n",
            "1000/1000 [==============================] - 10s 10ms/step - loss: 0.6930 - accuracy: 0.5103 - val_loss: 0.6965 - val_accuracy: 0.4970\n",
            "Epoch 43/50\n",
            "1000/1000 [==============================] - 10s 10ms/step - loss: 0.6923 - accuracy: 0.5097 - val_loss: 0.6680 - val_accuracy: 0.6074\n",
            "Epoch 44/50\n",
            "1000/1000 [==============================] - 10s 10ms/step - loss: 0.6152 - accuracy: 0.6537 - val_loss: 0.5630 - val_accuracy: 0.6931\n",
            "Epoch 45/50\n",
            "1000/1000 [==============================] - 10s 10ms/step - loss: 0.5402 - accuracy: 0.7112 - val_loss: 0.5481 - val_accuracy: 0.7017\n",
            "Epoch 46/50\n",
            "1000/1000 [==============================] - 11s 11ms/step - loss: 0.5320 - accuracy: 0.7171 - val_loss: 0.5447 - val_accuracy: 0.7049\n",
            "Epoch 47/50\n",
            "1000/1000 [==============================] - 11s 11ms/step - loss: 0.5266 - accuracy: 0.7210 - val_loss: 0.5487 - val_accuracy: 0.7067\n",
            "Epoch 48/50\n",
            "1000/1000 [==============================] - 11s 11ms/step - loss: 0.5282 - accuracy: 0.7197 - val_loss: 0.5427 - val_accuracy: 0.7076\n",
            "Epoch 49/50\n",
            "1000/1000 [==============================] - 10s 10ms/step - loss: 0.5204 - accuracy: 0.7290 - val_loss: 0.5398 - val_accuracy: 0.7078\n",
            "Epoch 50/50\n",
            "1000/1000 [==============================] - 10s 10ms/step - loss: 0.5248 - accuracy: 0.7205 - val_loss: 0.5368 - val_accuracy: 0.7081\n",
            "Fold 4, 50 epochs, 519 sec\n"
          ],
          "name": "stdout"
        },
        {
          "output_type": "display_data",
          "data": {
            "image/png": "[encoded data removed]",
            "text/plain": [
              "<Figure size 576x360 with 1 Axes>"
            ]
          },
          "metadata": {
            "tags": [],
            "needs_background": "light"
          }
        },
        {
          "output_type": "stream",
          "text": [
            "MODEL\n",
            "make_DNN\n",
            "input shape: (100, 4)\n",
            "FIT\n",
            "Epoch 1/50\n",
            "1000/1000 [==============================] - 14s 11ms/step - loss: 0.6939 - accuracy: 0.4966 - val_loss: 0.6944 - val_accuracy: 0.4970\n",
            "Epoch 2/50\n",
            "1000/1000 [==============================] - 10s 10ms/step - loss: 0.6938 - accuracy: 0.5002 - val_loss: 0.6934 - val_accuracy: 0.4970\n",
            "Epoch 3/50\n",
            "1000/1000 [==============================] - 10s 10ms/step - loss: 0.6935 - accuracy: 0.5006 - val_loss: 0.6942 - val_accuracy: 0.5030\n",
            "Epoch 4/50\n",
            "1000/1000 [==============================] - 10s 10ms/step - loss: 0.6935 - accuracy: 0.5066 - val_loss: 0.6942 - val_accuracy: 0.4970\n",
            "Epoch 5/50\n",
            "1000/1000 [==============================] - 10s 10ms/step - loss: 0.6935 - accuracy: 0.5029 - val_loss: 0.6945 - val_accuracy: 0.4970\n",
            "Epoch 6/50\n",
            "1000/1000 [==============================] - 10s 10ms/step - loss: 0.6937 - accuracy: 0.5020 - val_loss: 0.6940 - val_accuracy: 0.5030\n",
            "Epoch 7/50\n",
            "1000/1000 [==============================] - 10s 10ms/step - loss: 0.6895 - accuracy: 0.5220 - val_loss: 0.6611 - val_accuracy: 0.6099\n",
            "Epoch 8/50\n",
            "1000/1000 [==============================] - 10s 10ms/step - loss: 0.6507 - accuracy: 0.6191 - val_loss: 0.6228 - val_accuracy: 0.6591\n",
            "Epoch 9/50\n",
            "1000/1000 [==============================] - 10s 10ms/step - loss: 0.5758 - accuracy: 0.6996 - val_loss: 0.3707 - val_accuracy: 0.8495\n",
            "Epoch 10/50\n",
            "1000/1000 [==============================] - 10s 10ms/step - loss: 0.3582 - accuracy: 0.8562 - val_loss: 0.3350 - val_accuracy: 0.8616\n",
            "Epoch 11/50\n",
            "1000/1000 [==============================] - 10s 10ms/step - loss: 0.3353 - accuracy: 0.8613 - val_loss: 0.3236 - val_accuracy: 0.8650\n",
            "Epoch 12/50\n",
            "1000/1000 [==============================] - 10s 10ms/step - loss: 0.3276 - accuracy: 0.8630 - val_loss: 0.3432 - val_accuracy: 0.8533\n",
            "Epoch 13/50\n",
            "1000/1000 [==============================] - 10s 10ms/step - loss: 0.3161 - accuracy: 0.8682 - val_loss: 0.3342 - val_accuracy: 0.8650\n",
            "Epoch 14/50\n",
            "1000/1000 [==============================] - 10s 10ms/step - loss: 0.3017 - accuracy: 0.8773 - val_loss: 0.2977 - val_accuracy: 0.8783\n",
            "Epoch 15/50\n",
            "1000/1000 [==============================] - 10s 10ms/step - loss: 0.2833 - accuracy: 0.8864 - val_loss: 0.2671 - val_accuracy: 0.8966\n",
            "Epoch 16/50\n",
            "1000/1000 [==============================] - 11s 11ms/step - loss: 0.2641 - accuracy: 0.9001 - val_loss: 0.2597 - val_accuracy: 0.9049\n",
            "Epoch 17/50\n",
            "1000/1000 [==============================] - 10s 10ms/step - loss: 0.3023 - accuracy: 0.8924 - val_loss: 0.2358 - val_accuracy: 0.9154\n",
            "Epoch 18/50\n",
            "1000/1000 [==============================] - 11s 11ms/step - loss: 0.2241 - accuracy: 0.9235 - val_loss: 0.2626 - val_accuracy: 0.9060\n",
            "Epoch 19/50\n",
            "1000/1000 [==============================] - 10s 10ms/step - loss: 0.2230 - accuracy: 0.9224 - val_loss: 0.1917 - val_accuracy: 0.9364\n",
            "Epoch 20/50\n",
            "1000/1000 [==============================] - 10s 10ms/step - loss: 0.2088 - accuracy: 0.9289 - val_loss: 0.2125 - val_accuracy: 0.9301\n",
            "Epoch 21/50\n",
            "1000/1000 [==============================] - 11s 11ms/step - loss: 0.1992 - accuracy: 0.9318 - val_loss: 0.2089 - val_accuracy: 0.9235\n",
            "Epoch 22/50\n",
            "1000/1000 [==============================] - 10s 10ms/step - loss: 0.1872 - accuracy: 0.9343 - val_loss: 0.1721 - val_accuracy: 0.9429\n",
            "Epoch 23/50\n",
            "1000/1000 [==============================] - 10s 10ms/step - loss: 0.1898 - accuracy: 0.9356 - val_loss: 0.1866 - val_accuracy: 0.9381\n",
            "Epoch 24/50\n",
            "1000/1000 [==============================] - 10s 10ms/step - loss: 0.1793 - accuracy: 0.9394 - val_loss: 0.1709 - val_accuracy: 0.9449\n",
            "Epoch 25/50\n",
            "1000/1000 [==============================] - 10s 10ms/step - loss: 0.1711 - accuracy: 0.9451 - val_loss: 0.1630 - val_accuracy: 0.9498\n",
            "Epoch 26/50\n",
            "1000/1000 [==============================] - 10s 10ms/step - loss: 0.1719 - accuracy: 0.9425 - val_loss: 0.1988 - val_accuracy: 0.9360\n",
            "Epoch 27/50\n",
            "1000/1000 [==============================] - 10s 10ms/step - loss: 0.1718 - accuracy: 0.9434 - val_loss: 0.1610 - val_accuracy: 0.9506\n",
            "Epoch 28/50\n",
            "1000/1000 [==============================] - 10s 10ms/step - loss: 0.1665 - accuracy: 0.9449 - val_loss: 0.1850 - val_accuracy: 0.9390\n",
            "Epoch 29/50\n",
            "1000/1000 [==============================] - 10s 10ms/step - loss: 0.1711 - accuracy: 0.9450 - val_loss: 0.1999 - val_accuracy: 0.9348\n",
            "Epoch 30/50\n",
            "1000/1000 [==============================] - 11s 11ms/step - loss: 0.1569 - accuracy: 0.9486 - val_loss: 0.1655 - val_accuracy: 0.9461\n",
            "Epoch 31/50\n",
            "1000/1000 [==============================] - 10s 10ms/step - loss: 0.1652 - accuracy: 0.9471 - val_loss: 0.1608 - val_accuracy: 0.9480\n",
            "Epoch 32/50\n",
            "1000/1000 [==============================] - 10s 10ms/step - loss: 0.1585 - accuracy: 0.9478 - val_loss: 0.1595 - val_accuracy: 0.9494\n",
            "Epoch 33/50\n",
            "1000/1000 [==============================] - 10s 10ms/step - loss: 0.1554 - accuracy: 0.9499 - val_loss: 0.1587 - val_accuracy: 0.9490\n",
            "Epoch 34/50\n",
            "1000/1000 [==============================] - 10s 10ms/step - loss: 0.1622 - accuracy: 0.9461 - val_loss: 0.1443 - val_accuracy: 0.9565\n"
          ],
          "name": "stdout"
        },
        {
          "output_type": "stream",
          "text": [
            "WARNING:absl:Found untraced functions such as gru_cell_10_layer_call_and_return_conditional_losses, gru_cell_10_layer_call_fn, gru_cell_11_layer_call_and_return_conditional_losses, gru_cell_11_layer_call_fn, gru_cell_10_layer_call_fn while saving (showing 5 of 10). These functions will not be directly callable after loading.\n",
            "WARNING:absl:Found untraced functions such as gru_cell_10_layer_call_and_return_conditional_losses, gru_cell_10_layer_call_fn, gru_cell_11_layer_call_and_return_conditional_losses, gru_cell_11_layer_call_fn, gru_cell_10_layer_call_fn while saving (showing 5 of 10). These functions will not be directly callable after loading.\n"
          ],
          "name": "stderr"
        },
        {
          "output_type": "stream",
          "text": [
            "INFO:tensorflow:Assets written to: BestModel/assets\n"
          ],
          "name": "stdout"
        },
        {
          "output_type": "stream",
          "text": [
            "INFO:tensorflow:Assets written to: BestModel/assets\n"
          ],
          "name": "stderr"
        },
        {
          "output_type": "stream",
          "text": [
            "Epoch 35/50\n",
            "1000/1000 [==============================] - 10s 10ms/step - loss: 0.1512 - accuracy: 0.9511 - val_loss: 0.1806 - val_accuracy: 0.9385\n",
            "Epoch 36/50\n",
            "1000/1000 [==============================] - 10s 10ms/step - loss: 0.1491 - accuracy: 0.9520 - val_loss: 0.1847 - val_accuracy: 0.9406\n",
            "Epoch 37/50\n",
            "1000/1000 [==============================] - 10s 10ms/step - loss: 0.1518 - accuracy: 0.9503 - val_loss: 0.1608 - val_accuracy: 0.9495\n",
            "Epoch 38/50\n",
            "1000/1000 [==============================] - 10s 10ms/step - loss: 0.1467 - accuracy: 0.9530 - val_loss: 0.1581 - val_accuracy: 0.9511\n",
            "Epoch 39/50\n",
            "1000/1000 [==============================] - 10s 10ms/step - loss: 0.1479 - accuracy: 0.9513 - val_loss: 0.1431 - val_accuracy: 0.9535\n",
            "Epoch 40/50\n",
            "1000/1000 [==============================] - 10s 10ms/step - loss: 0.1630 - accuracy: 0.9478 - val_loss: 0.1732 - val_accuracy: 0.9435\n",
            "Epoch 41/50\n",
            "1000/1000 [==============================] - 11s 11ms/step - loss: 0.1399 - accuracy: 0.9551 - val_loss: 0.1531 - val_accuracy: 0.9517\n",
            "Epoch 42/50\n",
            "1000/1000 [==============================] - 11s 11ms/step - loss: 0.1459 - accuracy: 0.9538 - val_loss: 0.1353 - val_accuracy: 0.9575\n"
          ],
          "name": "stdout"
        },
        {
          "output_type": "stream",
          "text": [
            "WARNING:absl:Found untraced functions such as gru_cell_10_layer_call_and_return_conditional_losses, gru_cell_10_layer_call_fn, gru_cell_11_layer_call_and_return_conditional_losses, gru_cell_11_layer_call_fn, gru_cell_10_layer_call_fn while saving (showing 5 of 10). These functions will not be directly callable after loading.\n",
            "WARNING:absl:Found untraced functions such as gru_cell_10_layer_call_and_return_conditional_losses, gru_cell_10_layer_call_fn, gru_cell_11_layer_call_and_return_conditional_losses, gru_cell_11_layer_call_fn, gru_cell_10_layer_call_fn while saving (showing 5 of 10). These functions will not be directly callable after loading.\n"
          ],
          "name": "stderr"
        },
        {
          "output_type": "stream",
          "text": [
            "INFO:tensorflow:Assets written to: BestModel/assets\n"
          ],
          "name": "stdout"
        },
        {
          "output_type": "stream",
          "text": [
            "INFO:tensorflow:Assets written to: BestModel/assets\n"
          ],
          "name": "stderr"
        },
        {
          "output_type": "stream",
          "text": [
            "Epoch 43/50\n",
            "1000/1000 [==============================] - 11s 11ms/step - loss: 0.1416 - accuracy: 0.9554 - val_loss: 0.1413 - val_accuracy: 0.9559\n",
            "Epoch 44/50\n",
            "1000/1000 [==============================] - 10s 10ms/step - loss: 0.1435 - accuracy: 0.9540 - val_loss: 0.1646 - val_accuracy: 0.9523\n",
            "Epoch 45/50\n",
            "1000/1000 [==============================] - 10s 10ms/step - loss: 0.1488 - accuracy: 0.9514 - val_loss: 0.1485 - val_accuracy: 0.9525\n",
            "Epoch 46/50\n",
            "1000/1000 [==============================] - 10s 10ms/step - loss: 0.1378 - accuracy: 0.9555 - val_loss: 0.1459 - val_accuracy: 0.9541\n",
            "Epoch 47/50\n",
            "1000/1000 [==============================] - 10s 10ms/step - loss: 0.1367 - accuracy: 0.9565 - val_loss: 0.1434 - val_accuracy: 0.9563\n",
            "Epoch 48/50\n",
            "1000/1000 [==============================] - 10s 10ms/step - loss: 0.1390 - accuracy: 0.9548 - val_loss: 0.1493 - val_accuracy: 0.9540\n",
            "Epoch 49/50\n",
            "1000/1000 [==============================] - 10s 10ms/step - loss: 0.1398 - accuracy: 0.9559 - val_loss: 0.1586 - val_accuracy: 0.9516\n",
            "Epoch 50/50\n",
            "1000/1000 [==============================] - 10s 10ms/step - loss: 0.1339 - accuracy: 0.9574 - val_loss: 0.1652 - val_accuracy: 0.9454\n",
            "Fold 5, 50 epochs, 539 sec\n"
          ],
          "name": "stdout"
        },
        {
          "output_type": "display_data",
          "data": {
            "image/png": "[encoded data removed]",
            "text/plain": [
              "<Figure size 576x360 with 1 Axes>"
            ]
          },
          "metadata": {
            "tags": [],
            "needs_background": "light"
          }
        }
      ]
    },
    {
      "cell_type": "code",
      "metadata": {
        "colab": {
          "base_uri": "https://localhost:8080/"
        },
        "id": "e-jG1h5fj2Ua",
        "outputId": "26d99b69-1016-4d05-9f27-50cfe055bae7"
      },
      "source": [
        "from keras.models import load_model\n",
        "pc_sim.set_reproducible(True)\n",
        "nc_sim.set_reproducible(True)\n",
        "pc_test = pc_sim.get_sequences(PC_TESTS)\n",
        "nc_test = nc_sim.get_sequences(NC_TESTS)\n",
        "X,y = prepare_inputs_len_x_alphabet(pc_test,nc_test,ALPHABET)\n",
        "best_model=load_model(MODELPATH)\n",
        "scores = best_model.evaluate(X, y, verbose=0)\n",
        "print(\"The best model parameters were saved during cross-validation.\")\n",
        "print(\"Best was defined as maximum validation accuracy at end of any epoch.\")\n",
        "print(\"Now re-load the best model and test it on previously unseen data.\")\n",
        "print(\"Test on\",len(pc_test),\"PC seqs\")\n",
        "print(\"Test on\",len(nc_test),\"NC seqs\")\n",
        "print(\"%s: %.2f%%\" % (best_model.metrics_names[1], scores[1]*100))\n"
      ],
      "execution_count": 10,
      "outputs": [
        {
          "output_type": "stream",
          "text": [
            "The best model parameters were saved during cross-validation.\n",
            "Best was defined as maximum validation accuracy at end of any epoch.\n",
            "Now re-load the best model and test it on previously unseen data.\n",
            "Test on 1000 PC seqs\n",
            "Test on 1000 NC seqs\n",
            "accuracy: 96.20%\n"
          ],
          "name": "stdout"
        }
      ]
    },
    {
      "cell_type": "code",
      "metadata": {
        "colab": {
          "base_uri": "https://localhost:8080/",
          "height": 312
        },
        "id": "VycUnmvUj2Ue",
        "outputId": "a0ca0dff-baf8-4cf2-84fd-84ba269e9d2e"
      },
      "source": [
        "from sklearn.metrics import roc_curve\n",
        "from sklearn.metrics import roc_auc_score\n",
        "ns_probs = [0 for _ in range(len(y))]\n",
        "bm_probs = best_model.predict(X)\n",
        "ns_auc = roc_auc_score(y, ns_probs)\n",
        "bm_auc = roc_auc_score(y, bm_probs)\n",
        "ns_fpr, ns_tpr, _ = roc_curve(y, ns_probs)\n",
        "bm_fpr, bm_tpr, _ = roc_curve(y, bm_probs)\n",
        "plt.plot(ns_fpr, ns_tpr, linestyle='--', label='Guess, auc=%.4f'%ns_auc)\n",
        "plt.plot(bm_fpr, bm_tpr, marker='.', label='Model, auc=%.4f'%bm_auc)\n",
        "plt.title('ROC')\n",
        "plt.xlabel('False Positive Rate')\n",
        "plt.ylabel('True Positive Rate')\n",
        "plt.legend()\n",
        "plt.show()\n",
        "print(\"%s: %.2f%%\" %('AUC',bm_auc))\n"
      ],
      "execution_count": 11,
      "outputs": [
        {
          "output_type": "display_data",
          "data": {
            "image/png": "[encoded data removed]",
            "text/plain": [
              "<Figure size 432x288 with 1 Axes>"
            ]
          },
          "metadata": {
            "tags": [],
            "needs_background": "light"
          }
        },
        {
          "output_type": "stream",
          "text": [
            "AUC: 0.98%\n"
          ],
          "name": "stdout"
        }
      ]
    },
    {
      "cell_type": "code",
      "metadata": {
        "colab": {
          "base_uri": "https://localhost:8080/",
          "height": 36
        },
        "id": "kFMb6rGNj2Ug",
        "outputId": "d67bfe42-a00e-4d04-c1b3-2a509424ae04"
      },
      "source": [
        "t = time.time()\n",
        "time.strftime('%Y-%m-%d %H:%M:%S %Z', time.localtime(t))"
      ],
      "execution_count": 12,
      "outputs": [
        {
          "output_type": "execute_result",
          "data": {
            "application/vnd.google.colaboratory.intrinsic+json": {
              "type": "string"
            },
            "text/plain": [
              "'2021-05-19 00:08:16 UTC'"
            ]
          },
          "metadata": {
            "tags": []
          },
          "execution_count": 12
        }
      ]
    }
  ]
}