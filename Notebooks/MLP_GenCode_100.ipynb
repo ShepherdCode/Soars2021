{
 "cells": [
  {
   "cell_type": "markdown",
   "metadata": {
    "id": "ojm_6E9f9Kcf"
   },
   "source": [
    "# MLP GenCode \n",
    "Wen et al 2019 used DNN to distinguish GenCode mRNA/lncRNA.\n",
    "Based on K-mer frequencies, K={1,2,3}, they reported 99% accuracy.\n",
    "Their CNN used 2 Conv2D layers of 32 filters of width 3x3, max pool 2x2, 25% drop, dense 128.\n",
    "Can we reproduce that with MLP layers instead of CNN?\n",
    "Extract features as list of K-mer frequencies for K={1,2,3}."
   ]
  },
  {
   "cell_type": "code",
   "execution_count": 1,
   "metadata": {},
   "outputs": [
    {
     "name": "stdout",
     "output_type": "stream",
     "text": [
      "2021-07-10 11:49:08 EDT\n"
     ]
    }
   ],
   "source": [
    "import time\n",
    "def show_time():\n",
    "    t = time.time()\n",
    "    print(time.strftime('%Y-%m-%d %H:%M:%S %Z', time.localtime(t)))\n",
    "show_time()"
   ]
  },
  {
   "cell_type": "code",
   "execution_count": 2,
   "metadata": {},
   "outputs": [],
   "source": [
    "PC_TRAINS=8000\n",
    "NC_TRAINS=8000\n",
    "PC_TESTS=2000\n",
    "NC_TESTS=2000   # Wen et al 2019 used 8000 and 2000 of each class\n",
    "PC_LENS=(200,4000)\n",
    "NC_LENS=(200,4000)    # Wen et al 2019 used 250-3500 for lncRNA only\n",
    "MAX_K = 3\n",
    "INPUT_SHAPE=(None,84)  # 4^3 + 4^2 + 4^1\n",
    "NEURONS=16\n",
    "EPOCHS=10\n",
    "SPLITS=5\n",
    "FOLDS=1   # make this 5 for serious testing"
   ]
  },
  {
   "cell_type": "code",
   "execution_count": 3,
   "metadata": {
    "id": "VQY7aTj29Kch"
   },
   "outputs": [],
   "source": [
    "import numpy as np\n",
    "import pandas as pd\n",
    "import matplotlib.pyplot as plt\n",
    "from sklearn.utils import shuffle\n",
    "from sklearn.model_selection import KFold\n",
    "from sklearn.model_selection import cross_val_score\n",
    "\n",
    "from keras.models import Sequential\n",
    "from keras.layers import Dense,Embedding,Dropout\n",
    "from keras.layers import Flatten,TimeDistributed\n",
    "from keras.losses import BinaryCrossentropy\n",
    "from keras.callbacks import ModelCheckpoint\n"
   ]
  },
  {
   "cell_type": "code",
   "execution_count": 4,
   "metadata": {},
   "outputs": [
    {
     "name": "stdout",
     "output_type": "stream",
     "text": [
      "CoLab not working. On my PC, use relative paths.\n"
     ]
    }
   ],
   "source": [
    "import sys\n",
    "IN_COLAB = False\n",
    "try:\n",
    "    from google.colab import drive\n",
    "    IN_COLAB = True\n",
    "except:\n",
    "    pass\n",
    "if IN_COLAB:\n",
    "    print(\"On Google CoLab, mount cloud-local file, get our code from GitHub.\")\n",
    "    PATH='/content/drive/'\n",
    "    #drive.mount(PATH,force_remount=True)  # hardly ever need this\n",
    "    #drive.mount(PATH)    # Google will require login credentials\n",
    "    DATAPATH=PATH+'My Drive/data/'  # must end in \"/\"\n",
    "    import requests\n",
    "    r = requests.get('https://raw.githubusercontent.com/ShepherdCode/Soars2021/master/SimTools/GenCodeTools.py')\n",
    "    with open('GenCodeTools.py', 'w') as f:\n",
    "        f.write(r.text)  \n",
    "    from GenCodeTools import GenCodeLoader\n",
    "    r = requests.get('https://raw.githubusercontent.com/ShepherdCode/Soars2021/master/SimTools/KmerTools.py')\n",
    "    with open('KmerTools.py', 'w') as f:\n",
    "        f.write(r.text)  \n",
    "    from KmerTools import KmerTools\n",
    "else:\n",
    "        print(\"CoLab not working. On my PC, use relative paths.\")\n",
    "        DATAPATH='data/'  # must end in \"/\"\n",
    "        sys.path.append(\"..\") # append parent dir in order to use sibling dirs\n",
    "        from SimTools.GenCodeTools import GenCodeLoader\n",
    "        from SimTools.KmerTools import KmerTools\n",
    "MODELPATH=\"BestModel\"  # saved on cloud instance and lost after logout\n",
    "#MODELPATH=DATAPATH+MODELPATH  # saved on Google Drive but requires login"
   ]
  },
  {
   "cell_type": "markdown",
   "metadata": {},
   "source": [
    "## Data Load\n",
    "Restrict mRNA to those transcripts with a recognized ORF."
   ]
  },
  {
   "cell_type": "code",
   "execution_count": 5,
   "metadata": {},
   "outputs": [],
   "source": [
    "PC_FILENAME='gencode.v38.pc_transcripts.fa.gz'\n",
    "NC_FILENAME='gencode.v38.lncRNA_transcripts.fa.gz'\n",
    "PC_FULLPATH=DATAPATH+PC_FILENAME\n",
    "NC_FULLPATH=DATAPATH+NC_FILENAME"
   ]
  },
  {
   "cell_type": "code",
   "execution_count": 6,
   "metadata": {},
   "outputs": [
    {
     "name": "stdout",
     "output_type": "stream",
     "text": [
      "PC seqs loaded: 70825\n",
      "NC seqs loaded: 48752\n",
      "2021-07-10 11:49:25 EDT\n"
     ]
    }
   ],
   "source": [
    "# Full GenCode ver 38 human is 106143 pc + 48752 nc and loads in 7 sec.\n",
    "# Expect fewer transcripts if special filtering is used.\n",
    "loader=GenCodeLoader()\n",
    "loader.set_label(1)\n",
    "loader.set_check_utr(True)\n",
    "pcdf=loader.load_file(PC_FULLPATH)\n",
    "print(\"PC seqs loaded:\",len(pcdf))\n",
    "loader.set_label(0)\n",
    "loader.set_check_utr(False)\n",
    "ncdf=loader.load_file(NC_FULLPATH)\n",
    "print(\"NC seqs loaded:\",len(ncdf))\n",
    "show_time()"
   ]
  },
  {
   "cell_type": "markdown",
   "metadata": {},
   "source": [
    "## Data Prep"
   ]
  },
  {
   "cell_type": "code",
   "execution_count": 7,
   "metadata": {},
   "outputs": [
    {
     "name": "stdout",
     "output_type": "stream",
     "text": [
      "2021-07-10 11:49:25 EDT\n",
      "PC seqs pass filter: 55381\n",
      "NC seqs pass filter: 46919\n"
     ]
    }
   ],
   "source": [
    "def dataframe_length_filter(df,low_high):\n",
    "    (low,high)=low_high\n",
    "    # The pandas query language is strange, \n",
    "    # but this is MUCH faster than loop & drop.\n",
    "    return df[ (df['seqlen']>=low) & (df['seqlen']<=high) ]\n",
    "def dataframe_shuffle(df):\n",
    "    # The ignore_index option is new in Pandas 1.3. \n",
    "    # The default (False) replicates the old behavior: shuffle the index too.\n",
    "    # The new option seems more logical th\n",
    "    # After shuffling, df.iloc[0] has index == 0.\n",
    "    return df.sample(frac=1,ignore_index=True)\n",
    "def dataframe_extract_sequence(df):\n",
    "    return df['sequence'].tolist()\n",
    "\n",
    "pc_all = dataframe_extract_sequence(\n",
    "    dataframe_shuffle(\n",
    "    dataframe_length_filter(pcdf,PC_LENS)))\n",
    "nc_all = dataframe_extract_sequence(\n",
    "    dataframe_shuffle(\n",
    "    dataframe_length_filter(ncdf,NC_LENS)))\n",
    "\n",
    "show_time()\n",
    "print(\"PC seqs pass filter:\",len(pc_all))\n",
    "print(\"NC seqs pass filter:\",len(nc_all))\n",
    "# Garbage collection to reduce RAM footprint\n",
    "pcdf=None\n",
    "ncdf=None"
   ]
  },
  {
   "cell_type": "code",
   "execution_count": 8,
   "metadata": {},
   "outputs": [],
   "source": [
    "# Any portion of a shuffled list is a random selection\n",
    "pc_train=pc_all[:PC_TRAINS] \n",
    "nc_train=pc_all[:NC_TRAINS]\n",
    "pc_test=pc_all[PC_TRAINS:PC_TESTS] \n",
    "nc_test=pc_all[NC_TRAINS:PC_TESTS]\n",
    "# Garbage collection\n",
    "pc_all=None\n",
    "nc_all=None"
   ]
  },
  {
   "cell_type": "code",
   "execution_count": 9,
   "metadata": {},
   "outputs": [
    {
     "name": "stdout",
     "output_type": "stream",
     "text": [
      "2021-07-10 11:49:26 EDT\n"
     ]
    }
   ],
   "source": [
    "def prepare_x_and_y(seqs1,seqs0):\n",
    "    len1=len(seqs1)\n",
    "    len0=len(seqs0)\n",
    "    labels1=np.ones(len1,dtype=np.int8)\n",
    "    labels0=np.zeros(len0,dtype=np.int8)\n",
    "    all_labels = np.concatenate((labels1,labels0))\n",
    "    seqs1 = np.asarray(seqs1)\n",
    "    seqs0 = np.asarray(seqs0)\n",
    "    all_seqs = np.concatenate((seqs1,seqs0),axis=0)\n",
    "    # return all_seqs,all_labels  # test unshuffled\n",
    "    X,y = shuffle(all_seqs,all_labels) # sklearn.utils.shuffle\n",
    "    return X,y\n",
    "Xseq,y=prepare_x_and_y(pc_train,nc_train)\n",
    "#print(pc_train[0])\n",
    "#print(Xseq[0],y[0])\n",
    "show_time()"
   ]
  },
  {
   "cell_type": "code",
   "execution_count": 10,
   "metadata": {},
   "outputs": [
    {
     "name": "stdout",
     "output_type": "stream",
     "text": [
      "2021-07-10 11:49:40 EDT\n",
      "X shape (16000, 84)\n",
      "<class 'numpy.ndarray'> of <class 'numpy.ndarray'> of <class 'numpy.float64'>\n",
      "y shape (16000,)\n"
     ]
    }
   ],
   "source": [
    "def seqs_to_kmer_freqs(seqs,max_K):\n",
    "    tool = KmerTools()  # from SimTools\n",
    "    empty = tool.make_dict_upto_K(max_K)\n",
    "    collection = []\n",
    "    for seq in seqs:\n",
    "        counts = empty\n",
    "        counts = tool.update_count_one_K(counts,max_K,seq,True)\n",
    "        counts = tool.harvest_counts_from_K(counts,max_K)\n",
    "        fdict = tool.count_to_frequency(counts,max_K)\n",
    "        freqs = list(fdict.values())\n",
    "        collection.append(freqs)\n",
    "    return np.asarray(collection)\n",
    "Xfrq=seqs_to_kmer_freqs(Xseq,MAX_K)\n",
    "show_time()\n",
    "print(\"X shape\",np.shape(Xfrq))\n",
    "print(type(Xfrq),\"of\",type(Xfrq[0]),\"of\",type(Xfrq[0][0]))\n",
    "print(\"y shape\",np.shape(y))"
   ]
  },
  {
   "cell_type": "markdown",
   "metadata": {},
   "source": [
    "## Neural network"
   ]
  },
  {
   "cell_type": "code",
   "execution_count": 11,
   "metadata": {},
   "outputs": [
    {
     "name": "stdout",
     "output_type": "stream",
     "text": [
      "make_DNN\n",
      "input shape: (None, 84)\n",
      "Model: \"sequential\"\n",
      "_________________________________________________________________\n",
      "Layer (type)                 Output Shape              Param #   \n",
      "=================================================================\n",
      "dense (Dense)                (None, 16)                1360      \n",
      "_________________________________________________________________\n",
      "dense_1 (Dense)              (None, 16)                272       \n",
      "_________________________________________________________________\n",
      "dense_2 (Dense)              (None, 1)                 17        \n",
      "=================================================================\n",
      "Total params: 1,649\n",
      "Trainable params: 1,649\n",
      "Non-trainable params: 0\n",
      "_________________________________________________________________\n",
      "None\n"
     ]
    }
   ],
   "source": [
    "def make_DNN():\n",
    "    dt=np.float32\n",
    "    print(\"make_DNN\")\n",
    "    print(\"input shape:\",INPUT_SHAPE)\n",
    "    dnn = Sequential()\n",
    "    #dnn.add(Flatten())\n",
    "    dnn.add(Dense(NEURONS,activation=\"sigmoid\",dtype=dt))\n",
    "                #  input_shape=INPUT_SHAPE ))   \n",
    "    dnn.add(Dense(NEURONS,activation=\"sigmoid\",dtype=dt)) \n",
    "    #dnn.add(Dropout(DROP_RATE))\n",
    "    dnn.add(Dense(1,activation=\"sigmoid\",dtype=dt))   \n",
    "    dnn.compile(optimizer='adam',\n",
    "                loss=BinaryCrossentropy(from_logits=False),\n",
    "                metrics=['accuracy'])   # add to default metrics=loss\n",
    "    dnn.build(input_shape=INPUT_SHAPE) \n",
    "    return dnn\n",
    "model = make_DNN()\n",
    "print(model.summary())"
   ]
  },
  {
   "cell_type": "code",
   "execution_count": 12,
   "metadata": {},
   "outputs": [],
   "source": [
    "def do_cross_validation(X,y):\n",
    "    cv_scores = []\n",
    "    fold=0\n",
    "    mycallbacks = [ModelCheckpoint(\n",
    "        filepath=MODELPATH, save_best_only=True, \n",
    "        monitor='val_accuracy', mode='max')]   \n",
    "    splitter = KFold(n_splits=SPLITS)  # this does not shuffle\n",
    "    for train_index,valid_index in splitter.split(X):\n",
    "        if fold < FOLDS:\n",
    "            fold += 1\n",
    "            X_train=X[train_index] # inputs for training\n",
    "            y_train=y[train_index] # labels for training\n",
    "            X_valid=X[valid_index] # inputs for validation\n",
    "            y_valid=y[valid_index] # labels for validation\n",
    "            print(\"MODEL\")\n",
    "            # Call constructor on each CV. Else, continually improves the same model.\n",
    "            model = model = make_DNN()\n",
    "            print(\"FIT\")  # model.fit() implements learning\n",
    "            start_time=time.time()\n",
    "            history=model.fit(X_train, y_train, \n",
    "                    epochs=EPOCHS, \n",
    "                    verbose=1,  # ascii art while learning\n",
    "                    callbacks=mycallbacks,   # called at end of each epoch\n",
    "                    validation_data=(X_valid,y_valid))\n",
    "            end_time=time.time()\n",
    "            elapsed_time=(end_time-start_time)                        \n",
    "            print(\"Fold %d, %d epochs, %d sec\"%(fold,EPOCHS,elapsed_time))\n",
    "            # print(history.history.keys())  # all these keys will be shown in figure\n",
    "            pd.DataFrame(history.history).plot(figsize=(8,5))\n",
    "            plt.grid(True)\n",
    "            plt.gca().set_ylim(0,1) # any losses > 1 will be off the scale\n",
    "            plt.show()"
   ]
  },
  {
   "cell_type": "code",
   "execution_count": 13,
   "metadata": {},
   "outputs": [
    {
     "name": "stdout",
     "output_type": "stream",
     "text": [
      "MODEL\n",
      "make_DNN\n",
      "input shape: (None, 84)\n",
      "FIT\n",
      "Epoch 1/10\n",
      "400/400 [==============================] - 16s 3ms/step - loss: 0.7054 - accuracy: 0.5024 - val_loss: 0.6931 - val_accuracy: 0.5078\n",
      "INFO:tensorflow:Assets written to: BestModel/assets\n",
      "Epoch 2/10\n",
      "400/400 [==============================] - 1s 2ms/step - loss: 0.6935 - accuracy: 0.4955 - val_loss: 0.6930 - val_accuracy: 0.5078\n",
      "Epoch 3/10\n",
      "400/400 [==============================] - 1s 2ms/step - loss: 0.6934 - accuracy: 0.5078 - val_loss: 0.6933 - val_accuracy: 0.5078\n",
      "Epoch 4/10\n",
      "400/400 [==============================] - 1s 2ms/step - loss: 0.6934 - accuracy: 0.4988 - val_loss: 0.6942 - val_accuracy: 0.5078\n",
      "Epoch 5/10\n",
      "400/400 [==============================] - 1s 2ms/step - loss: 0.6940 - accuracy: 0.4945 - val_loss: 0.6932 - val_accuracy: 0.4922\n",
      "Epoch 6/10\n",
      "400/400 [==============================] - 1s 2ms/step - loss: 0.6936 - accuracy: 0.4960 - val_loss: 0.6933 - val_accuracy: 0.4922\n",
      "Epoch 7/10\n",
      "400/400 [==============================] - 1s 2ms/step - loss: 0.6935 - accuracy: 0.5036 - val_loss: 0.6930 - val_accuracy: 0.5078\n",
      "Epoch 8/10\n",
      "400/400 [==============================] - 1s 2ms/step - loss: 0.6936 - accuracy: 0.4952 - val_loss: 0.6954 - val_accuracy: 0.4922\n",
      "Epoch 9/10\n",
      "400/400 [==============================] - 1s 2ms/step - loss: 0.6936 - accuracy: 0.5000 - val_loss: 0.6936 - val_accuracy: 0.4922\n",
      "Epoch 10/10\n",
      "400/400 [==============================] - 1s 2ms/step - loss: 0.6935 - accuracy: 0.5065 - val_loss: 0.6931 - val_accuracy: 0.5078\n",
      "Fold 1, 10 epochs, 23 sec\n"
     ]
    },
    {
     "data": {
      "image/png": "[encoded data removed]",
      "text/plain": [
       "<Figure size 576x360 with 1 Axes>"
      ]
     },
     "metadata": {
      "needs_background": "light"
     },
     "output_type": "display_data"
    }
   ],
   "source": [
    "do_cross_validation(Xfrq,y)"
   ]
  },
  {
   "cell_type": "code",
   "execution_count": null,
   "metadata": {},
   "outputs": [],
   "source": [
    "# TO DO: run trained model on (pc_test,nc_test)\n",
    "# and draw the AUC.\n",
    "# Borrow code from other notebooks."
   ]
  }
 ],
 "metadata": {
  "accelerator": "GPU",
  "colab": {
   "collapsed_sections": [],
   "name": "MLP_205.ipynb",
   "provenance": [],
   "toc_visible": true
  },
  "kernelspec": {
   "display_name": "Python 3",
   "language": "python",
   "name": "python3"
  },
  "language_info": {
   "codemirror_mode": {
    "name": "ipython",
    "version": 3
   },
   "file_extension": ".py",
   "mimetype": "text/x-python",
   "name": "python",
   "nbconvert_exporter": "python",
   "pygments_lexer": "ipython3",
   "version": "3.8.3"
  }
 },
 "nbformat": 4,
 "nbformat_minor": 1
}
