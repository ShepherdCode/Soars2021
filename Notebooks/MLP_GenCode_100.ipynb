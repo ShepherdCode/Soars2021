{
 "cells": [
  {
   "cell_type": "markdown",
   "metadata": {
    "id": "ojm_6E9f9Kcf"
   },
   "source": [
    "# MLP GenCode \n",
    "Wen et al 2019 used DNN to distinguish GenCode mRNA/lncRNA.\n",
    "Based on K-mer frequencies, K={1,2,3}, they reported 99% accuracy.\n",
    "Their CNN used 2 Conv2D layers of 32 filters of width 3x3, max pool 2x2, 25% drop, dense 128.\n",
    "Can we reproduce that with MLP layers instead of CNN?\n",
    "Extract features as list of K-mer frequencies for K={1,2,3}."
   ]
  },
  {
   "cell_type": "code",
   "execution_count": 1,
   "metadata": {},
   "outputs": [
    {
     "name": "stdout",
     "output_type": "stream",
     "text": [
      "2021-07-10 10:19:18 EDT\n"
     ]
    }
   ],
   "source": [
    "import time\n",
    "def show_time():\n",
    "    t = time.time()\n",
    "    print(time.strftime('%Y-%m-%d %H:%M:%S %Z', time.localtime(t)))\n",
    "show_time()"
   ]
  },
  {
   "cell_type": "code",
   "execution_count": 2,
   "metadata": {},
   "outputs": [],
   "source": [
    "PC_TRAINS=8000\n",
    "NC_TRAINS=8000\n",
    "PC_TESTS=2000\n",
    "NC_TESTS=2000   # Wen et al 2019 used 8000 and 2000 of each class\n",
    "PC_LENS=(200,4000)\n",
    "NC_LENS=(200,4000)    # Wen et al 2019 used 250-3500 for lncRNA only\n",
    "MAX_K = 3"
   ]
  },
  {
   "cell_type": "code",
   "execution_count": 3,
   "metadata": {
    "id": "VQY7aTj29Kch"
   },
   "outputs": [],
   "source": [
    "import numpy as np\n",
    "import pandas as pd\n",
    "import matplotlib.pyplot as plt\n",
    "from sklearn.utils import shuffle"
   ]
  },
  {
   "cell_type": "code",
   "execution_count": 4,
   "metadata": {},
   "outputs": [
    {
     "name": "stdout",
     "output_type": "stream",
     "text": [
      "CoLab not working. On my PC, use relative paths.\n"
     ]
    }
   ],
   "source": [
    "import sys\n",
    "IN_COLAB = False\n",
    "try:\n",
    "    from google.colab import drive\n",
    "    IN_COLAB = True\n",
    "except:\n",
    "    pass\n",
    "if IN_COLAB:\n",
    "    print(\"On Google CoLab, mount cloud-local file, get our code from GitHub.\")\n",
    "    PATH='/content/drive/'\n",
    "    #drive.mount(PATH,force_remount=True)  # hardly ever need this\n",
    "    #drive.mount(PATH)    # Google will require login credentials\n",
    "    DATAPATH=PATH+'My Drive/data/'  # must end in \"/\"\n",
    "    import requests\n",
    "    r = requests.get('https://raw.githubusercontent.com/ShepherdCode/Soars2021/master/SimTools/GenCodeTools.py')\n",
    "    with open('GenCodeTools.py', 'w') as f:\n",
    "        f.write(r.text)  \n",
    "    from GenCodeTools import GenCodeLoader\n",
    "    r = requests.get('https://raw.githubusercontent.com/ShepherdCode/Soars2021/master/SimTools/KmerTools.py')\n",
    "    with open('KmerTools.py', 'w') as f:\n",
    "        f.write(r.text)  \n",
    "    from KmerTools import KmerTools\n",
    "else:\n",
    "        print(\"CoLab not working. On my PC, use relative paths.\")\n",
    "        DATAPATH='data/'  # must end in \"/\"\n",
    "        sys.path.append(\"..\") # append parent dir in order to use sibling dirs\n",
    "        from SimTools.GenCodeTools import GenCodeLoader\n",
    "        from SimTools.KmerTools import KmerTools\n",
    "MODELPATH=\"BestModel\"  # saved on cloud instance and lost after logout\n",
    "#MODELPATH=DATAPATH+MODELPATH  # saved on Google Drive but requires login"
   ]
  },
  {
   "cell_type": "markdown",
   "metadata": {},
   "source": [
    "## Data Load\n",
    "Restrict mRNA to those transcripts with a recognized ORF."
   ]
  },
  {
   "cell_type": "code",
   "execution_count": 5,
   "metadata": {},
   "outputs": [],
   "source": [
    "PC_FILENAME='gencode.v38.pc_transcripts.fa.gz'\n",
    "NC_FILENAME='gencode.v38.lncRNA_transcripts.fa.gz'\n",
    "PC_FULLPATH=DATAPATH+PC_FILENAME\n",
    "NC_FULLPATH=DATAPATH+NC_FILENAME"
   ]
  },
  {
   "cell_type": "code",
   "execution_count": 6,
   "metadata": {},
   "outputs": [
    {
     "name": "stdout",
     "output_type": "stream",
     "text": [
      "PC seqs loaded: 70825\n",
      "NC seqs loaded: 48752\n",
      "2021-07-10 10:19:27 EDT\n"
     ]
    }
   ],
   "source": [
    "# Full GenCode ver 38 human is 106143 pc + 48752 nc and loads in 7 sec.\n",
    "# Expect fewer transcripts if special filtering is used.\n",
    "loader=GenCodeLoader()\n",
    "loader.set_label(1)\n",
    "loader.set_check_utr(True)\n",
    "pcdf=loader.load_file(PC_FULLPATH)\n",
    "print(\"PC seqs loaded:\",len(pcdf))\n",
    "loader.set_label(0)\n",
    "loader.set_check_utr(False)\n",
    "ncdf=loader.load_file(NC_FULLPATH)\n",
    "print(\"NC seqs loaded:\",len(ncdf))\n",
    "show_time()"
   ]
  },
  {
   "cell_type": "markdown",
   "metadata": {},
   "source": [
    "## Data Prep"
   ]
  },
  {
   "cell_type": "code",
   "execution_count": 7,
   "metadata": {},
   "outputs": [
    {
     "name": "stdout",
     "output_type": "stream",
     "text": [
      "2021-07-10 10:19:27 EDT\n",
      "PC seqs pass filter: 55381\n",
      "NC seqs pass filter: 46919\n"
     ]
    }
   ],
   "source": [
    "def dataframe_length_filter(df,low_high):\n",
    "    (low,high)=low_high\n",
    "    # The pandas query language is strange, \n",
    "    # but this is MUCH faster than loop & drop.\n",
    "    return df[ (df['seqlen']>=low) & (df['seqlen']<=high) ]\n",
    "def dataframe_shuffle(df):\n",
    "    # The ignore_index option is new in Pandas 1.3. \n",
    "    # The default (False) replicates the old behavior: shuffle the index too.\n",
    "    # The new option seems more logical th\n",
    "    # After shuffling, df.iloc[0] has index == 0.\n",
    "    return df.sample(frac=1,ignore_index=True)\n",
    "def dataframe_extract_sequence(df):\n",
    "    return df['sequence'].tolist()\n",
    "\n",
    "pc_all = dataframe_extract_sequence(\n",
    "    dataframe_shuffle(\n",
    "    dataframe_length_filter(pcdf,PC_LENS)))\n",
    "nc_all = dataframe_extract_sequence(\n",
    "    dataframe_shuffle(\n",
    "    dataframe_length_filter(ncdf,NC_LENS)))\n",
    "\n",
    "show_time()\n",
    "print(\"PC seqs pass filter:\",len(pc_all))\n",
    "print(\"NC seqs pass filter:\",len(nc_all))\n",
    "# Garbage collection to reduce RAM footprint\n",
    "pcdf=None\n",
    "ncdf=None"
   ]
  },
  {
   "cell_type": "code",
   "execution_count": 8,
   "metadata": {},
   "outputs": [],
   "source": [
    "# Any portion of a shuffled list is a random selection\n",
    "pc_train=pc_all[:PC_TRAINS] \n",
    "nc_train=pc_all[:NC_TRAINS]\n",
    "pc_test=pc_all[PC_TRAINS:PC_TESTS] \n",
    "nc_test=pc_all[NC_TRAINS:PC_TESTS]\n",
    "# Garbage collection\n",
    "pc_all=None\n",
    "nc_all=None"
   ]
  },
  {
   "cell_type": "code",
   "execution_count": 9,
   "metadata": {},
   "outputs": [],
   "source": [
    "def prepare_x_and_y(seqs1,seqs0):\n",
    "    len1=len(seqs1)\n",
    "    len0=len(seqs0)\n",
    "    labels1=[1]*len1\n",
    "    labels0=[0]*len0\n",
    "    all_seqs = seqs1 + seqs0\n",
    "    all_labels = labels1 + labels0\n",
    "    X,y = shuffle(all_seqs,all_labels) # sklearn.utils.shuffle\n",
    "    return X,y\n",
    "Xseq,y=prepare_x_and_y(pc_train,nc_train)"
   ]
  },
  {
   "cell_type": "code",
   "execution_count": 10,
   "metadata": {},
   "outputs": [
    {
     "name": "stdout",
     "output_type": "stream",
     "text": [
      "X[0]:\n",
      " {'A': 0.3153846153846154, 'C': 0.20586080586080585, 'G': 0.21135531135531135, 'T': 0.2673992673992674, 'AA': 0.10406742396482228, 'AC': 0.052766581165262, 'AG': 0.0754855258336387, 'AT': 0.08318065225357274, 'CA': 0.08171491388787101, 'CC': 0.04727006229388054, 'CG': 0.015390252839868083, 'CT': 0.061194576768046904, 'GA': 0.07145474532795897, 'GC': 0.04690362770245511, 'GG': 0.043972150971051664, 'GT': 0.049102235251007695, 'TA': 0.05826310003664346, 'TC': 0.05899596921949432, 'TG': 0.07658482960791499, 'TT': 0.07365335287651155, 'AAA': 0.03409090909090909, 'AAC': 0.015762463343108504, 'AAG': 0.025293255131964808, 'AAT': 0.028958944281524925, 'ACA': 0.021994134897360705, 'ACC': 0.009530791788856305, 'ACG': 0.004765395894428153, 'ACT': 0.016495601173020527, 'AGA': 0.024560117302052785, 'AGC': 0.019794721407624633, 'AGG': 0.014296187683284457, 'AGT': 0.01686217008797654, 'ATA': 0.01686217008797654, 'ATC': 0.020161290322580645, 'ATG': 0.023826979472140762, 'ATT': 0.022360703812316716, 'CAA': 0.024560117302052785, 'CAC': 0.015029325513196481, 'CAG': 0.026026392961876834, 'CAT': 0.016129032258064516, 'CCA': 0.018328445747800588, 'CCC': 0.010997067448680353, 'CCG': 0.002565982404692082, 'CCT': 0.015395894428152493, 'CGA': 0.006231671554252199, 'CGC': 0.002565982404692082, 'CGG': 0.0032991202346041057, 'CGT': 0.0032991202346041057, 'CTA': 0.011730205278592375, 'CTC': 0.013196480938416423, 'CTG': 0.020161290322580645, 'CTT': 0.016129032258064516, 'GAA': 0.02785923753665689, 'GAC': 0.009530791788856305, 'GAG': 0.015395894428152493, 'GAT': 0.0186950146627566, 'GCA': 0.02126099706744868, 'GCC': 0.009530791788856305, 'GCG': 0.002932551319648094, 'GCT': 0.012829912023460411, 'GGA': 0.0186950146627566, 'GGC': 0.00843108504398827, 'GGG': 0.0076979472140762464, 'GGT': 0.009164222873900294, 'GTA': 0.010997067448680353, 'GTC': 0.009897360703812317, 'GTG': 0.014296187683284457, 'GTT': 0.013929618768328446, 'TAA': 0.017595307917888565, 'TAC': 0.012463343108504398, 'TAG': 0.008797653958944282, 'TAT': 0.019428152492668622, 'TCA': 0.020161290322580645, 'TCC': 0.01722873900293255, 'TCG': 0.005131964809384164, 'TCT': 0.016495601173020527, 'TGA': 0.021994134897360705, 'TGC': 0.016129032258064516, 'TGG': 0.0186950146627566, 'TGT': 0.019794721407624633, 'TTA': 0.0186950146627566, 'TTC': 0.015762463343108504, 'TTG': 0.018328445747800588, 'TTT': 0.020894428152492667}\n"
     ]
    }
   ],
   "source": [
    "def seqs_to_kmer_freqs(seqs,max_K):\n",
    "    tool = KmerTools()  # from SimTools\n",
    "    empty = tool.make_dict_upto_K(max_K)\n",
    "    Xnew = []\n",
    "    for seq in seqs:\n",
    "        counts = empty\n",
    "        counts = tool.update_count_one_K(counts,max_K,seq,True)\n",
    "        counts = tool.harvest_counts_from_K(counts,max_K)\n",
    "        freqs = tool.count_to_frequency(counts,max_K)\n",
    "        Xnew.append(freqs)\n",
    "    return Xnew\n",
    "Xcnt=seqs_to_kmer_freqs(Xseq,MAX_K)\n",
    "print (\"X[0]:\\n\",Xcnt[0])"
   ]
  },
  {
   "cell_type": "code",
   "execution_count": 11,
   "metadata": {},
   "outputs": [
    {
     "ename": "NameError",
     "evalue": "name 'tool' is not defined",
     "output_type": "error",
     "traceback": [
      "\u001b[0;31m---------------------------------------------------------------------------\u001b[0m",
      "\u001b[0;31mNameError\u001b[0m                                 Traceback (most recent call last)",
      "\u001b[0;32m<ipython-input-11-5973a51f518b>\u001b[0m in \u001b[0;36m<module>\u001b[0;34m\u001b[0m\n\u001b[0;32m----> 1\u001b[0;31m \u001b[0mnc_counts\u001b[0m \u001b[0;34m=\u001b[0m \u001b[0mtool\u001b[0m\u001b[0;34m.\u001b[0m\u001b[0mmake_dict_upto_K\u001b[0m\u001b[0;34m(\u001b[0m\u001b[0mMAX_K\u001b[0m\u001b[0;34m)\u001b[0m\u001b[0;34m\u001b[0m\u001b[0;34m\u001b[0m\u001b[0m\n\u001b[0m\u001b[1;32m      2\u001b[0m \u001b[0;32mfor\u001b[0m \u001b[0msample\u001b[0m \u001b[0;32min\u001b[0m \u001b[0mnc_all\u001b[0m\u001b[0;34m:\u001b[0m\u001b[0;34m\u001b[0m\u001b[0;34m\u001b[0m\u001b[0m\n\u001b[1;32m      3\u001b[0m     \u001b[0mtool\u001b[0m\u001b[0;34m.\u001b[0m\u001b[0mupdate_count_one_K\u001b[0m\u001b[0;34m(\u001b[0m\u001b[0mnc_counts\u001b[0m\u001b[0;34m,\u001b[0m\u001b[0mMAX_K\u001b[0m\u001b[0;34m,\u001b[0m\u001b[0msample\u001b[0m\u001b[0;34m,\u001b[0m\u001b[0;32mTrue\u001b[0m\u001b[0;34m)\u001b[0m\u001b[0;34m\u001b[0m\u001b[0;34m\u001b[0m\u001b[0m\n\u001b[1;32m      4\u001b[0m \u001b[0mtool\u001b[0m\u001b[0;34m.\u001b[0m\u001b[0mharvest_counts_from_K\u001b[0m\u001b[0;34m(\u001b[0m\u001b[0mnc_counts\u001b[0m\u001b[0;34m,\u001b[0m\u001b[0mMAX_K\u001b[0m\u001b[0;34m)\u001b[0m\u001b[0;34m\u001b[0m\u001b[0;34m\u001b[0m\u001b[0m\n\u001b[1;32m      5\u001b[0m \u001b[0mprint\u001b[0m\u001b[0;34m(\u001b[0m\u001b[0;34m\"NC counts:\\n\"\u001b[0m\u001b[0;34m,\u001b[0m\u001b[0mnc_counts\u001b[0m\u001b[0;34m)\u001b[0m\u001b[0;34m\u001b[0m\u001b[0;34m\u001b[0m\u001b[0m\n",
      "\u001b[0;31mNameError\u001b[0m: name 'tool' is not defined"
     ]
    }
   ],
   "source": [
    "nc_counts = tool.make_dict_upto_K(MAX_K)\n",
    "for sample in nc_all:\n",
    "    tool.update_count_one_K(nc_counts,MAX_K,sample,True)\n",
    "tool.harvest_counts_from_K(nc_counts,MAX_K)\n",
    "print(\"NC counts:\\n\",nc_counts)\n",
    "nc_freqs = tool.count_to_frequency(nc_counts,MAX_K)\n",
    "print (\"Frequency:\\n\",nc_freqs)"
   ]
  },
  {
   "cell_type": "code",
   "execution_count": null,
   "metadata": {},
   "outputs": [],
   "source": [
    "X,y = prepare_inputs_len_x_alphabet(pc_train,nc_train,ALPHABET) # shuffles\n",
    "print(\"Data ready.\")"
   ]
  }
 ],
 "metadata": {
  "accelerator": "GPU",
  "colab": {
   "collapsed_sections": [],
   "name": "MLP_205.ipynb",
   "provenance": [],
   "toc_visible": true
  },
  "kernelspec": {
   "display_name": "Python 3",
   "language": "python",
   "name": "python3"
  },
  "language_info": {
   "codemirror_mode": {
    "name": "ipython",
    "version": 3
   },
   "file_extension": ".py",
   "mimetype": "text/x-python",
   "name": "python",
   "nbconvert_exporter": "python",
   "pygments_lexer": "ipython3",
   "version": "3.8.3"
  }
 },
 "nbformat": 4,
 "nbformat_minor": 1
}
