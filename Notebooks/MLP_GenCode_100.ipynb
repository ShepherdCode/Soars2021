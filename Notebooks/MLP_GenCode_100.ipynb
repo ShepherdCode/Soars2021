{
  "nbformat": 4,
  "nbformat_minor": 0,
  "metadata": {
    "accelerator": "GPU",
    "colab": {
      "name": "MLP_GenCode_100.ipynb",
      "provenance": [],
      "collapsed_sections": [],
      "toc_visible": true
    },
    "kernelspec": {
      "display_name": "Python 3",
      "language": "python",
      "name": "python3"
    },
    "language_info": {
      "codemirror_mode": {
        "name": "ipython",
        "version": 3
      },
      "file_extension": ".py",
      "mimetype": "text/x-python",
      "name": "python",
      "nbconvert_exporter": "python",
      "pygments_lexer": "ipython3",
      "version": "3.8.3"
    }
  },
  "cells": [
    {
      "cell_type": "markdown",
      "metadata": {
        "id": "ojm_6E9f9Kcf"
      },
      "source": [
        "# MLP GenCode \n",
        "Wen et al 2019 used DNN to distinguish GenCode mRNA/lncRNA.\n",
        "Based on K-mer frequencies, K={1,2,3}, they reported 99% accuracy.\n",
        "Their CNN used 2 Conv2D layers of 32 filters of width 3x3, max pool 2x2, 25% drop, dense 128.\n",
        "Can we reproduce that with MLP layers instead of CNN?\n",
        "Extract features as list of K-mer frequencies for K={1,2,3}."
      ]
    },
    {
      "cell_type": "code",
      "metadata": {
        "colab": {
          "base_uri": "https://localhost:8080/"
        },
        "id": "RmPF4h_YI_sT",
        "outputId": "f72b19a9-ff88-4286-a714-5dbe7835b08b"
      },
      "source": [
        "import time\n",
        "def show_time():\n",
        "    t = time.time()\n",
        "    print(time.strftime('%Y-%m-%d %H:%M:%S %Z', time.localtime(t)))\n",
        "show_time()"
      ],
      "execution_count": 1,
      "outputs": [
        {
          "output_type": "stream",
          "text": [
            "2021-07-10 17:28:18 UTC\n"
          ],
          "name": "stdout"
        }
      ]
    },
    {
      "cell_type": "code",
      "metadata": {
        "id": "NEbXt5N4I_sc"
      },
      "source": [
        "PC_TRAINS=8000\n",
        "NC_TRAINS=8000\n",
        "PC_TESTS=2000\n",
        "NC_TESTS=2000   # Wen et al 2019 used 8000 and 2000 of each class\n",
        "PC_LENS=(200,4000)\n",
        "NC_LENS=(200,4000)    # Wen et al 2019 used 250-3500 for lncRNA only\n",
        "MAX_K = 3\n",
        "INPUT_SHAPE=(None,84)  # 4^3 + 4^2 + 4^1\n",
        "NEURONS=16\n",
        "EPOCHS=50\n",
        "SPLITS=5\n",
        "FOLDS=1   # make this 5 for serious testing"
      ],
      "execution_count": 2,
      "outputs": []
    },
    {
      "cell_type": "code",
      "metadata": {
        "id": "VQY7aTj29Kch"
      },
      "source": [
        "import numpy as np\n",
        "import pandas as pd\n",
        "import matplotlib.pyplot as plt\n",
        "from sklearn.utils import shuffle\n",
        "from sklearn.model_selection import KFold\n",
        "from sklearn.model_selection import cross_val_score\n",
        "\n",
        "from keras.models import Sequential\n",
        "from keras.layers import Dense,Embedding,Dropout\n",
        "from keras.layers import Flatten,TimeDistributed\n",
        "from keras.losses import BinaryCrossentropy\n",
        "from keras.callbacks import ModelCheckpoint\n"
      ],
      "execution_count": 3,
      "outputs": []
    },
    {
      "cell_type": "code",
      "metadata": {
        "colab": {
          "base_uri": "https://localhost:8080/"
        },
        "id": "xUxEB53HI_sk",
        "outputId": "d5f22425-2471-4d72-f588-092823b031fd"
      },
      "source": [
        "import sys\n",
        "IN_COLAB = False\n",
        "try:\n",
        "    from google.colab import drive\n",
        "    IN_COLAB = True\n",
        "except:\n",
        "    pass\n",
        "if IN_COLAB:\n",
        "    print(\"On Google CoLab, mount cloud-local file, get our code from GitHub.\")\n",
        "    PATH='/content/drive/'\n",
        "    #drive.mount(PATH,force_remount=True)  # hardly ever need this\n",
        "    drive.mount(PATH)    # Google will require login credentials\n",
        "    DATAPATH=PATH+'My Drive/data/'  # must end in \"/\"\n",
        "    import requests\n",
        "    r = requests.get('https://raw.githubusercontent.com/ShepherdCode/Soars2021/master/SimTools/GenCodeTools.py')\n",
        "    with open('GenCodeTools.py', 'w') as f:\n",
        "        f.write(r.text)  \n",
        "    from GenCodeTools import GenCodeLoader\n",
        "    r = requests.get('https://raw.githubusercontent.com/ShepherdCode/Soars2021/master/SimTools/KmerTools.py')\n",
        "    with open('KmerTools.py', 'w') as f:\n",
        "        f.write(r.text)  \n",
        "    from KmerTools import KmerTools\n",
        "else:\n",
        "        print(\"CoLab not working. On my PC, use relative paths.\")\n",
        "        DATAPATH='data/'  # must end in \"/\"\n",
        "        sys.path.append(\"..\") # append parent dir in order to use sibling dirs\n",
        "        from SimTools.GenCodeTools import GenCodeLoader\n",
        "        from SimTools.KmerTools import KmerTools\n",
        "MODELPATH=\"BestModel\"  # saved on cloud instance and lost after logout\n",
        "#MODELPATH=DATAPATH+MODELPATH  # saved on Google Drive but requires login"
      ],
      "execution_count": 4,
      "outputs": [
        {
          "output_type": "stream",
          "text": [
            "On Google CoLab, mount cloud-local file, get our code from GitHub.\n",
            "Drive already mounted at /content/drive/; to attempt to forcibly remount, call drive.mount(\"/content/drive/\", force_remount=True).\n"
          ],
          "name": "stdout"
        }
      ]
    },
    {
      "cell_type": "markdown",
      "metadata": {
        "id": "8buAhZRfI_sp"
      },
      "source": [
        "## Data Load\n",
        "Restrict mRNA to those transcripts with a recognized ORF."
      ]
    },
    {
      "cell_type": "code",
      "metadata": {
        "id": "ypn0lhiqI_sq"
      },
      "source": [
        "PC_FILENAME='gencode.v38.pc_transcripts.fa.gz'\n",
        "NC_FILENAME='gencode.v38.lncRNA_transcripts.fa.gz'\n",
        "PC_FULLPATH=DATAPATH+PC_FILENAME\n",
        "NC_FULLPATH=DATAPATH+NC_FILENAME"
      ],
      "execution_count": 5,
      "outputs": []
    },
    {
      "cell_type": "code",
      "metadata": {
        "colab": {
          "base_uri": "https://localhost:8080/"
        },
        "id": "xTz0pkFlI_sr",
        "outputId": "6398da42-cc52-42d0-a336-a9d299ef92f3"
      },
      "source": [
        "# Full GenCode ver 38 human is 106143 pc + 48752 nc and loads in 7 sec.\n",
        "# Expect fewer transcripts if special filtering is used.\n",
        "loader=GenCodeLoader()\n",
        "loader.set_label(1)\n",
        "loader.set_check_utr(True)\n",
        "pcdf=loader.load_file(PC_FULLPATH)\n",
        "print(\"PC seqs loaded:\",len(pcdf))\n",
        "loader.set_label(0)\n",
        "loader.set_check_utr(False)\n",
        "ncdf=loader.load_file(NC_FULLPATH)\n",
        "print(\"NC seqs loaded:\",len(ncdf))\n",
        "show_time()"
      ],
      "execution_count": 6,
      "outputs": [
        {
          "output_type": "stream",
          "text": [
            "PC seqs loaded: 70825\n",
            "NC seqs loaded: 48752\n",
            "2021-07-10 17:28:27 UTC\n"
          ],
          "name": "stdout"
        }
      ]
    },
    {
      "cell_type": "markdown",
      "metadata": {
        "id": "CCNh_FZaI_sv"
      },
      "source": [
        "## Data Prep"
      ]
    },
    {
      "cell_type": "code",
      "metadata": {
        "colab": {
          "base_uri": "https://localhost:8080/"
        },
        "id": "mkBXTJ__I_sx",
        "outputId": "31ca38b5-de8e-4c28-c108-2f416bf4d791"
      },
      "source": [
        "def dataframe_length_filter(df,low_high):\n",
        "    (low,high)=low_high\n",
        "    # The pandas query language is strange, \n",
        "    # but this is MUCH faster than loop & drop.\n",
        "    return df[ (df['seqlen']>=low) & (df['seqlen']<=high) ]\n",
        "def dataframe_shuffle(df):\n",
        "    # The ignore_index option is new in Pandas 1.3. \n",
        "    # The default (False) replicates the old behavior: shuffle the index too.\n",
        "    # The new option seems more logical th\n",
        "    # After shuffling, df.iloc[0] has index == 0.\n",
        "    # return df.sample(frac=1,ignore_index=True)\n",
        "    return df.sample(frac=1)  # Use this till CoLab upgrades Pandas\n",
        "def dataframe_extract_sequence(df):\n",
        "    return df['sequence'].tolist()\n",
        "\n",
        "pc_all = dataframe_extract_sequence(\n",
        "    dataframe_shuffle(\n",
        "    dataframe_length_filter(pcdf,PC_LENS)))\n",
        "nc_all = dataframe_extract_sequence(\n",
        "    dataframe_shuffle(\n",
        "    dataframe_length_filter(ncdf,NC_LENS)))\n",
        "\n",
        "show_time()\n",
        "print(\"PC seqs pass filter:\",len(pc_all))\n",
        "print(\"NC seqs pass filter:\",len(nc_all))\n",
        "# Garbage collection to reduce RAM footprint\n",
        "pcdf=None\n",
        "ncdf=None"
      ],
      "execution_count": 7,
      "outputs": [
        {
          "output_type": "stream",
          "text": [
            "2021-07-10 17:28:27 UTC\n",
            "PC seqs pass filter: 55381\n",
            "NC seqs pass filter: 46919\n"
          ],
          "name": "stdout"
        }
      ]
    },
    {
      "cell_type": "code",
      "metadata": {
        "id": "V91rP2osI_s1"
      },
      "source": [
        "# Any portion of a shuffled list is a random selection\n",
        "pc_train=pc_all[:PC_TRAINS] \n",
        "nc_train=nc_all[:NC_TRAINS]\n",
        "pc_test=pc_all[PC_TRAINS:PC_TESTS] \n",
        "nc_test=nc_all[NC_TRAINS:PC_TESTS]\n",
        "# Garbage collection\n",
        "pc_all=None\n",
        "nc_all=None"
      ],
      "execution_count": 8,
      "outputs": []
    },
    {
      "cell_type": "code",
      "metadata": {
        "colab": {
          "base_uri": "https://localhost:8080/"
        },
        "id": "FfyPeInGI_s4",
        "outputId": "a4238e37-1d9b-4603-f8f0-c36fff7ff89d"
      },
      "source": [
        "def prepare_x_and_y(seqs1,seqs0):\n",
        "    len1=len(seqs1)\n",
        "    len0=len(seqs0)\n",
        "    labels1=np.ones(len1,dtype=np.int8)\n",
        "    labels0=np.zeros(len0,dtype=np.int8)\n",
        "    all_labels = np.concatenate((labels1,labels0))\n",
        "    seqs1 = np.asarray(seqs1)\n",
        "    seqs0 = np.asarray(seqs0)\n",
        "    all_seqs = np.concatenate((seqs1,seqs0),axis=0)\n",
        "    # return all_seqs,all_labels  # test unshuffled\n",
        "    tandem=(all_seqs,all_labels)\n",
        "    X,y = shuffle(tandem) # sklearn.utils.shuffle\n",
        "    return X,y\n",
        "Xseq,y=prepare_x_and_y(pc_train,nc_train)\n",
        "#print(pc_train[0])\n",
        "#print(Xseq[0],y[0])\n",
        "show_time()"
      ],
      "execution_count": 9,
      "outputs": [
        {
          "output_type": "stream",
          "text": [
            "2021-07-10 17:28:28 UTC\n"
          ],
          "name": "stdout"
        }
      ]
    },
    {
      "cell_type": "code",
      "metadata": {
        "colab": {
          "base_uri": "https://localhost:8080/"
        },
        "id": "LWLixZOfI_s7",
        "outputId": "4674d89c-d8cf-4e28-f91f-0dddf8577561"
      },
      "source": [
        "def seqs_to_kmer_freqs(seqs,max_K):\n",
        "    tool = KmerTools()  # from SimTools\n",
        "    empty = tool.make_dict_upto_K(max_K)\n",
        "    collection = []\n",
        "    for seq in seqs:\n",
        "        counts = empty\n",
        "        counts = tool.update_count_one_K(counts,max_K,seq,True)\n",
        "        counts = tool.harvest_counts_from_K(counts,max_K)\n",
        "        fdict = tool.count_to_frequency(counts,max_K)\n",
        "        freqs = list(fdict.values())\n",
        "        collection.append(freqs)\n",
        "    return np.asarray(collection)\n",
        "Xfrq=seqs_to_kmer_freqs(Xseq,MAX_K)\n",
        "show_time()\n",
        "print(\"X shape\",np.shape(Xfrq))\n",
        "print(type(Xfrq),\"of\",type(Xfrq[0]),\"of\",type(Xfrq[0][0]))\n",
        "print(\"y shape\",np.shape(y))"
      ],
      "execution_count": 10,
      "outputs": [
        {
          "output_type": "stream",
          "text": [
            "2021-07-10 17:28:41 UTC\n",
            "X shape (16000, 84)\n",
            "<class 'numpy.ndarray'> of <class 'numpy.ndarray'> of <class 'numpy.float64'>\n",
            "y shape (16000,)\n"
          ],
          "name": "stdout"
        }
      ]
    },
    {
      "cell_type": "markdown",
      "metadata": {
        "id": "dJ4XhrzGI_s-"
      },
      "source": [
        "## Neural network"
      ]
    },
    {
      "cell_type": "code",
      "metadata": {
        "colab": {
          "base_uri": "https://localhost:8080/"
        },
        "id": "o5NPW7zKI_tC",
        "outputId": "612609a4-4507-47dc-be4c-c7baa37dd646"
      },
      "source": [
        "def make_DNN():\n",
        "    dt=np.float32\n",
        "    print(\"make_DNN\")\n",
        "    print(\"input shape:\",INPUT_SHAPE)\n",
        "    dnn = Sequential()\n",
        "    dnn.add(Dense(NEURONS,activation=\"sigmoid\",dtype=dt))\n",
        "    dnn.add(Dense(NEURONS,activation=\"sigmoid\",dtype=dt)) \n",
        "    #dnn.add(Dropout(DROP_RATE))\n",
        "    dnn.add(Dense(1,activation=\"sigmoid\",dtype=dt))   \n",
        "    dnn.compile(optimizer='adam',\n",
        "                loss=BinaryCrossentropy(from_logits=False),\n",
        "                metrics=['accuracy'])   # add to default metrics=loss\n",
        "    dnn.build(input_shape=INPUT_SHAPE) \n",
        "    return dnn\n",
        "model = make_DNN()\n",
        "print(model.summary())"
      ],
      "execution_count": 11,
      "outputs": [
        {
          "output_type": "stream",
          "text": [
            "make_DNN\n",
            "input shape: (None, 84)\n",
            "Model: \"sequential\"\n",
            "_________________________________________________________________\n",
            "Layer (type)                 Output Shape              Param #   \n",
            "=================================================================\n",
            "dense (Dense)                (None, 16)                1360      \n",
            "_________________________________________________________________\n",
            "dense_1 (Dense)              (None, 16)                272       \n",
            "_________________________________________________________________\n",
            "dense_2 (Dense)              (None, 1)                 17        \n",
            "=================================================================\n",
            "Total params: 1,649\n",
            "Trainable params: 1,649\n",
            "Non-trainable params: 0\n",
            "_________________________________________________________________\n",
            "None\n"
          ],
          "name": "stdout"
        }
      ]
    },
    {
      "cell_type": "code",
      "metadata": {
        "id": "E2Dr6L9lI_tE"
      },
      "source": [
        "def do_cross_validation(X,y):\n",
        "    cv_scores = []\n",
        "    fold=0\n",
        "    mycallbacks = [ModelCheckpoint(\n",
        "        filepath=MODELPATH, save_best_only=True, \n",
        "        monitor='val_accuracy', mode='max')]   \n",
        "    splitter = KFold(n_splits=SPLITS)  # this does not shuffle\n",
        "    for train_index,valid_index in splitter.split(X):\n",
        "        if fold < FOLDS:\n",
        "            fold += 1\n",
        "            X_train=X[train_index] # inputs for training\n",
        "            y_train=y[train_index] # labels for training\n",
        "            X_valid=X[valid_index] # inputs for validation\n",
        "            y_valid=y[valid_index] # labels for validation\n",
        "            print(\"MODEL\")\n",
        "            # Call constructor on each CV. Else, continually improves the same model.\n",
        "            model = model = make_DNN()\n",
        "            print(\"FIT\")  # model.fit() implements learning\n",
        "            start_time=time.time()\n",
        "            history=model.fit(X_train, y_train, \n",
        "                    epochs=EPOCHS, \n",
        "                    verbose=1,  # ascii art while learning\n",
        "                    callbacks=mycallbacks,   # called at end of each epoch\n",
        "                    validation_data=(X_valid,y_valid))\n",
        "            end_time=time.time()\n",
        "            elapsed_time=(end_time-start_time)                        \n",
        "            print(\"Fold %d, %d epochs, %d sec\"%(fold,EPOCHS,elapsed_time))\n",
        "            # print(history.history.keys())  # all these keys will be shown in figure\n",
        "            pd.DataFrame(history.history).plot(figsize=(8,5))\n",
        "            plt.grid(True)\n",
        "            plt.gca().set_ylim(0,1) # any losses > 1 will be off the scale\n",
        "            plt.show()"
      ],
      "execution_count": 12,
      "outputs": []
    },
    {
      "cell_type": "code",
      "metadata": {
        "colab": {
          "base_uri": "https://localhost:8080/",
          "height": 1000
        },
        "id": "Ey7Q-YWcI_tH",
        "outputId": "250598ac-c028-4624-adb5-25bc3247b738"
      },
      "source": [
        "do_cross_validation(Xfrq,y)"
      ],
      "execution_count": 13,
      "outputs": [
        {
          "output_type": "stream",
          "text": [
            "MODEL\n",
            "make_DNN\n",
            "input shape: (None, 84)\n",
            "FIT\n",
            "Epoch 1/50\n",
            "400/400 [==============================] - 16s 4ms/step - loss: 0.6610 - accuracy: 0.6273 - val_loss: 1.0189 - val_accuracy: 0.0000e+00\n",
            "INFO:tensorflow:Assets written to: BestModel/assets\n",
            "Epoch 2/50\n",
            "400/400 [==============================] - 1s 3ms/step - loss: 0.6624 - accuracy: 0.6239 - val_loss: 0.9976 - val_accuracy: 0.0000e+00\n",
            "Epoch 3/50\n",
            "400/400 [==============================] - 1s 3ms/step - loss: 0.6669 - accuracy: 0.6153 - val_loss: 0.9924 - val_accuracy: 0.0000e+00\n",
            "Epoch 4/50\n",
            "400/400 [==============================] - 1s 3ms/step - loss: 0.6625 - accuracy: 0.6237 - val_loss: 0.9835 - val_accuracy: 0.0000e+00\n",
            "Epoch 5/50\n",
            "400/400 [==============================] - 1s 3ms/step - loss: 0.6595 - accuracy: 0.6292 - val_loss: 0.9888 - val_accuracy: 0.0000e+00\n",
            "Epoch 6/50\n",
            "400/400 [==============================] - 1s 3ms/step - loss: 0.6621 - accuracy: 0.6237 - val_loss: 0.9620 - val_accuracy: 0.0000e+00\n",
            "Epoch 7/50\n",
            "400/400 [==============================] - 1s 3ms/step - loss: 0.6626 - accuracy: 0.6223 - val_loss: 1.0448 - val_accuracy: 0.0000e+00\n",
            "Epoch 8/50\n",
            "400/400 [==============================] - 1s 3ms/step - loss: 0.6609 - accuracy: 0.6254 - val_loss: 0.9883 - val_accuracy: 0.0000e+00\n",
            "Epoch 9/50\n",
            "400/400 [==============================] - 1s 3ms/step - loss: 0.6630 - accuracy: 0.6208 - val_loss: 0.9429 - val_accuracy: 0.0000e+00\n",
            "Epoch 10/50\n",
            "400/400 [==============================] - 1s 3ms/step - loss: 0.6630 - accuracy: 0.6200 - val_loss: 1.0032 - val_accuracy: 0.0000e+00\n",
            "Epoch 11/50\n",
            "400/400 [==============================] - 1s 3ms/step - loss: 0.6598 - accuracy: 0.6244 - val_loss: 1.0284 - val_accuracy: 0.0000e+00\n",
            "Epoch 12/50\n",
            "400/400 [==============================] - 1s 3ms/step - loss: 0.6584 - accuracy: 0.6272 - val_loss: 0.9909 - val_accuracy: 0.0000e+00\n",
            "Epoch 13/50\n",
            "400/400 [==============================] - 1s 3ms/step - loss: 0.6567 - accuracy: 0.6289 - val_loss: 1.0005 - val_accuracy: 0.0000e+00\n",
            "Epoch 14/50\n",
            "400/400 [==============================] - 1s 3ms/step - loss: 0.6585 - accuracy: 0.6248 - val_loss: 0.9862 - val_accuracy: 0.0000e+00\n",
            "Epoch 15/50\n",
            "400/400 [==============================] - 1s 3ms/step - loss: 0.6564 - accuracy: 0.6271 - val_loss: 0.9311 - val_accuracy: 0.0000e+00\n",
            "Epoch 16/50\n",
            "400/400 [==============================] - 1s 3ms/step - loss: 0.6587 - accuracy: 0.6196 - val_loss: 0.9400 - val_accuracy: 0.0000e+00\n",
            "Epoch 17/50\n",
            "400/400 [==============================] - 1s 3ms/step - loss: 0.6545 - accuracy: 0.6261 - val_loss: 0.8793 - val_accuracy: 3.1250e-04\n",
            "INFO:tensorflow:Assets written to: BestModel/assets\n",
            "Epoch 18/50\n",
            "400/400 [==============================] - 1s 3ms/step - loss: 0.6539 - accuracy: 0.6239 - val_loss: 0.9502 - val_accuracy: 3.1250e-04\n",
            "Epoch 19/50\n",
            "400/400 [==============================] - 1s 3ms/step - loss: 0.6482 - accuracy: 0.6320 - val_loss: 0.9918 - val_accuracy: 3.1250e-04\n",
            "Epoch 20/50\n",
            "400/400 [==============================] - 1s 3ms/step - loss: 0.6496 - accuracy: 0.6239 - val_loss: 0.9399 - val_accuracy: 6.2500e-04\n",
            "INFO:tensorflow:Assets written to: BestModel/assets\n",
            "Epoch 21/50\n",
            "400/400 [==============================] - 1s 3ms/step - loss: 0.6464 - accuracy: 0.6232 - val_loss: 0.8977 - val_accuracy: 6.2500e-04\n",
            "Epoch 22/50\n",
            "400/400 [==============================] - 1s 3ms/step - loss: 0.6441 - accuracy: 0.6194 - val_loss: 1.0140 - val_accuracy: 6.2500e-04\n",
            "Epoch 23/50\n",
            "400/400 [==============================] - 1s 3ms/step - loss: 0.6372 - accuracy: 0.6247 - val_loss: 0.9619 - val_accuracy: 6.2500e-04\n",
            "Epoch 24/50\n",
            "400/400 [==============================] - 1s 3ms/step - loss: 0.6346 - accuracy: 0.6190 - val_loss: 0.8563 - val_accuracy: 9.3750e-04\n",
            "INFO:tensorflow:Assets written to: BestModel/assets\n",
            "Epoch 25/50\n",
            "400/400 [==============================] - 1s 3ms/step - loss: 0.6257 - accuracy: 0.6237 - val_loss: 0.8366 - val_accuracy: 0.0012\n",
            "INFO:tensorflow:Assets written to: BestModel/assets\n",
            "Epoch 26/50\n",
            "400/400 [==============================] - 1s 3ms/step - loss: 0.6176 - accuracy: 0.6247 - val_loss: 0.9901 - val_accuracy: 9.3750e-04\n",
            "Epoch 27/50\n",
            "400/400 [==============================] - 1s 3ms/step - loss: 0.6074 - accuracy: 0.6275 - val_loss: 0.9334 - val_accuracy: 0.0012\n",
            "Epoch 28/50\n",
            "400/400 [==============================] - 1s 3ms/step - loss: 0.5977 - accuracy: 0.6277 - val_loss: 0.8949 - val_accuracy: 0.0012\n",
            "Epoch 29/50\n",
            "400/400 [==============================] - 1s 3ms/step - loss: 0.5896 - accuracy: 0.6183 - val_loss: 0.8756 - val_accuracy: 0.0012\n",
            "Epoch 30/50\n",
            "400/400 [==============================] - 1s 3ms/step - loss: 0.5735 - accuracy: 0.6204 - val_loss: 0.8771 - val_accuracy: 0.0031\n",
            "INFO:tensorflow:Assets written to: BestModel/assets\n",
            "Epoch 31/50\n",
            "400/400 [==============================] - 1s 3ms/step - loss: 0.5594 - accuracy: 0.6396 - val_loss: 0.7502 - val_accuracy: 0.0869\n",
            "INFO:tensorflow:Assets written to: BestModel/assets\n",
            "Epoch 32/50\n",
            "400/400 [==============================] - 1s 3ms/step - loss: 0.5425 - accuracy: 0.6616 - val_loss: 0.8296 - val_accuracy: 0.0450\n",
            "Epoch 33/50\n",
            "400/400 [==============================] - 1s 3ms/step - loss: 0.5219 - accuracy: 0.6801 - val_loss: 0.7743 - val_accuracy: 0.0859\n",
            "Epoch 34/50\n",
            "400/400 [==============================] - 1s 3ms/step - loss: 0.5039 - accuracy: 0.7717 - val_loss: 0.7976 - val_accuracy: 0.0838\n",
            "Epoch 35/50\n",
            "400/400 [==============================] - 1s 3ms/step - loss: 0.4876 - accuracy: 0.8183 - val_loss: 0.8007 - val_accuracy: 0.0869\n",
            "Epoch 36/50\n",
            "400/400 [==============================] - 1s 3ms/step - loss: 0.4670 - accuracy: 0.8461 - val_loss: 0.6339 - val_accuracy: 0.7700\n",
            "INFO:tensorflow:Assets written to: BestModel/assets\n",
            "Epoch 37/50\n",
            "400/400 [==============================] - 1s 3ms/step - loss: 0.4496 - accuracy: 0.9037 - val_loss: 0.7664 - val_accuracy: 0.1178\n",
            "Epoch 38/50\n",
            "400/400 [==============================] - 1s 3ms/step - loss: 0.4293 - accuracy: 0.9241 - val_loss: 0.6329 - val_accuracy: 0.7088\n",
            "Epoch 39/50\n",
            "400/400 [==============================] - 1s 3ms/step - loss: 0.4068 - accuracy: 0.9508 - val_loss: 0.6134 - val_accuracy: 0.7778\n",
            "INFO:tensorflow:Assets written to: BestModel/assets\n",
            "Epoch 40/50\n",
            "400/400 [==============================] - 1s 3ms/step - loss: 0.3945 - accuracy: 0.9401 - val_loss: 0.6008 - val_accuracy: 0.8125\n",
            "INFO:tensorflow:Assets written to: BestModel/assets\n",
            "Epoch 41/50\n",
            "400/400 [==============================] - 1s 3ms/step - loss: 0.3769 - accuracy: 0.9315 - val_loss: 0.5682 - val_accuracy: 0.9237\n",
            "INFO:tensorflow:Assets written to: BestModel/assets\n",
            "Epoch 42/50\n",
            "400/400 [==============================] - 1s 3ms/step - loss: 0.3590 - accuracy: 0.9369 - val_loss: 0.5752 - val_accuracy: 0.8737\n",
            "Epoch 43/50\n",
            "400/400 [==============================] - 1s 3ms/step - loss: 0.3484 - accuracy: 0.9321 - val_loss: 0.5130 - val_accuracy: 0.9731\n",
            "INFO:tensorflow:Assets written to: BestModel/assets\n",
            "Epoch 44/50\n",
            "400/400 [==============================] - 1s 3ms/step - loss: 0.3338 - accuracy: 0.9284 - val_loss: 0.5852 - val_accuracy: 0.7753\n",
            "Epoch 45/50\n",
            "400/400 [==============================] - 1s 3ms/step - loss: 0.3200 - accuracy: 0.9286 - val_loss: 0.5215 - val_accuracy: 0.9453\n",
            "Epoch 46/50\n",
            "400/400 [==============================] - 1s 3ms/step - loss: 0.3114 - accuracy: 0.9282 - val_loss: 0.6063 - val_accuracy: 0.6844\n",
            "Epoch 47/50\n",
            "400/400 [==============================] - 1s 3ms/step - loss: 0.3024 - accuracy: 0.9267 - val_loss: 0.5062 - val_accuracy: 0.9456\n",
            "Epoch 48/50\n",
            "400/400 [==============================] - 1s 3ms/step - loss: 0.2920 - accuracy: 0.9300 - val_loss: 0.5189 - val_accuracy: 0.9222\n",
            "Epoch 49/50\n",
            "400/400 [==============================] - 1s 3ms/step - loss: 0.2820 - accuracy: 0.9243 - val_loss: 0.5767 - val_accuracy: 0.7425\n",
            "Epoch 50/50\n",
            "400/400 [==============================] - 1s 3ms/step - loss: 0.2765 - accuracy: 0.9284 - val_loss: 0.5111 - val_accuracy: 0.9153\n",
            "Fold 1, 50 epochs, 95 sec\n"
          ],
          "name": "stdout"
        },
        {
          "output_type": "display_data",
          "data": {
            "image/png": "[encoded data removed]",
            "text/plain": [
              "<Figure size 576x360 with 1 Axes>"
            ]
          },
          "metadata": {
            "tags": [],
            "needs_background": "light"
          }
        }
      ]
    },
    {
      "cell_type": "code",
      "metadata": {
        "id": "GVImN4_0I_tJ"
      },
      "source": [
        "# TO DO: run trained model on (pc_test,nc_test)\n",
        "# and draw the AUC.\n",
        "# Borrow code from other notebooks."
      ],
      "execution_count": 14,
      "outputs": []
    }
  ]
}