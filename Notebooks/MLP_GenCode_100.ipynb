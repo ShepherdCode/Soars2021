{
  "nbformat": 4,
  "nbformat_minor": 0,
  "metadata": {
    "accelerator": "GPU",
    "colab": {
      "name": "MLP_GenCode_100.ipynb",
      "provenance": [],
      "collapsed_sections": [],
      "toc_visible": true
    },
    "kernelspec": {
      "display_name": "Python 3",
      "language": "python",
      "name": "python3"
    },
    "language_info": {
      "codemirror_mode": {
        "name": "ipython",
        "version": 3
      },
      "file_extension": ".py",
      "mimetype": "text/x-python",
      "name": "python",
      "nbconvert_exporter": "python",
      "pygments_lexer": "ipython3",
      "version": "3.8.3"
    }
  },
  "cells": [
    {
      "cell_type": "markdown",
      "metadata": {
        "id": "ojm_6E9f9Kcf"
      },
      "source": [
        "# MLP GenCode \n",
        "Wen et al 2019 used DNN to distinguish GenCode mRNA/lncRNA.\n",
        "Based on K-mer frequencies, K={1,2,3}, they reported 99% accuracy.\n",
        "Their CNN used 2 Conv2D layers of 32 filters of width 3x3, max pool 2x2, 25% drop, dense 128.\n",
        "Can we reproduce that with MLP layers instead of CNN?\n",
        "Extract features as list of K-mer frequencies for K={1,2,3}."
      ]
    },
    {
      "cell_type": "code",
      "metadata": {
        "colab": {
          "base_uri": "https://localhost:8080/"
        },
        "id": "RmPF4h_YI_sT",
        "outputId": "aaf370d2-c53a-412e-e0fa-ecaa55d87190"
      },
      "source": [
        "import time\n",
        "def show_time():\n",
        "    t = time.time()\n",
        "    print(time.strftime('%Y-%m-%d %H:%M:%S %Z', time.localtime(t)))\n",
        "show_time()"
      ],
      "execution_count": 15,
      "outputs": [
        {
          "output_type": "stream",
          "text": [
            "2021-07-10 16:05:41 UTC\n"
          ],
          "name": "stdout"
        }
      ]
    },
    {
      "cell_type": "code",
      "metadata": {
        "id": "NEbXt5N4I_sc"
      },
      "source": [
        "PC_TRAINS=8000\n",
        "NC_TRAINS=8000\n",
        "PC_TESTS=2000\n",
        "NC_TESTS=2000   # Wen et al 2019 used 8000 and 2000 of each class\n",
        "PC_LENS=(200,4000)\n",
        "NC_LENS=(200,4000)    # Wen et al 2019 used 250-3500 for lncRNA only\n",
        "MAX_K = 3\n",
        "INPUT_SHAPE=(None,84)  # 4^3 + 4^2 + 4^1\n",
        "NEURONS=16\n",
        "EPOCHS=10\n",
        "SPLITS=5\n",
        "FOLDS=1   # make this 5 for serious testing"
      ],
      "execution_count": 16,
      "outputs": []
    },
    {
      "cell_type": "code",
      "metadata": {
        "id": "VQY7aTj29Kch"
      },
      "source": [
        "import numpy as np\n",
        "import pandas as pd\n",
        "import matplotlib.pyplot as plt\n",
        "from sklearn.utils import shuffle\n",
        "from sklearn.model_selection import KFold\n",
        "from sklearn.model_selection import cross_val_score\n",
        "\n",
        "from keras.models import Sequential\n",
        "from keras.layers import Dense,Embedding,Dropout\n",
        "from keras.layers import Flatten,TimeDistributed\n",
        "from keras.losses import BinaryCrossentropy\n",
        "from keras.callbacks import ModelCheckpoint\n"
      ],
      "execution_count": 17,
      "outputs": []
    },
    {
      "cell_type": "code",
      "metadata": {
        "colab": {
          "base_uri": "https://localhost:8080/"
        },
        "id": "xUxEB53HI_sk",
        "outputId": "38fbc488-09f3-4221-df65-ff19453e7359"
      },
      "source": [
        "import sys\n",
        "IN_COLAB = False\n",
        "try:\n",
        "    from google.colab import drive\n",
        "    IN_COLAB = True\n",
        "except:\n",
        "    pass\n",
        "if IN_COLAB:\n",
        "    print(\"On Google CoLab, mount cloud-local file, get our code from GitHub.\")\n",
        "    PATH='/content/drive/'\n",
        "    #drive.mount(PATH,force_remount=True)  # hardly ever need this\n",
        "    drive.mount(PATH)    # Google will require login credentials\n",
        "    DATAPATH=PATH+'My Drive/data/'  # must end in \"/\"\n",
        "    import requests\n",
        "    r = requests.get('https://raw.githubusercontent.com/ShepherdCode/Soars2021/master/SimTools/GenCodeTools.py')\n",
        "    with open('GenCodeTools.py', 'w') as f:\n",
        "        f.write(r.text)  \n",
        "    from GenCodeTools import GenCodeLoader\n",
        "    r = requests.get('https://raw.githubusercontent.com/ShepherdCode/Soars2021/master/SimTools/KmerTools.py')\n",
        "    with open('KmerTools.py', 'w') as f:\n",
        "        f.write(r.text)  \n",
        "    from KmerTools import KmerTools\n",
        "else:\n",
        "        print(\"CoLab not working. On my PC, use relative paths.\")\n",
        "        DATAPATH='data/'  # must end in \"/\"\n",
        "        sys.path.append(\"..\") # append parent dir in order to use sibling dirs\n",
        "        from SimTools.GenCodeTools import GenCodeLoader\n",
        "        from SimTools.KmerTools import KmerTools\n",
        "MODELPATH=\"BestModel\"  # saved on cloud instance and lost after logout\n",
        "#MODELPATH=DATAPATH+MODELPATH  # saved on Google Drive but requires login"
      ],
      "execution_count": 18,
      "outputs": [
        {
          "output_type": "stream",
          "text": [
            "On Google CoLab, mount cloud-local file, get our code from GitHub.\n",
            "Drive already mounted at /content/drive/; to attempt to forcibly remount, call drive.mount(\"/content/drive/\", force_remount=True).\n"
          ],
          "name": "stdout"
        }
      ]
    },
    {
      "cell_type": "markdown",
      "metadata": {
        "id": "8buAhZRfI_sp"
      },
      "source": [
        "## Data Load\n",
        "Restrict mRNA to those transcripts with a recognized ORF."
      ]
    },
    {
      "cell_type": "code",
      "metadata": {
        "id": "ypn0lhiqI_sq"
      },
      "source": [
        "PC_FILENAME='gencode.v38.pc_transcripts.fa.gz'\n",
        "NC_FILENAME='gencode.v38.lncRNA_transcripts.fa.gz'\n",
        "PC_FULLPATH=DATAPATH+PC_FILENAME\n",
        "NC_FULLPATH=DATAPATH+NC_FILENAME"
      ],
      "execution_count": 19,
      "outputs": []
    },
    {
      "cell_type": "code",
      "metadata": {
        "colab": {
          "base_uri": "https://localhost:8080/"
        },
        "id": "xTz0pkFlI_sr",
        "outputId": "1d7b9f52-1916-4817-c14c-5ef5772b3c47"
      },
      "source": [
        "# Full GenCode ver 38 human is 106143 pc + 48752 nc and loads in 7 sec.\n",
        "# Expect fewer transcripts if special filtering is used.\n",
        "loader=GenCodeLoader()\n",
        "loader.set_label(1)\n",
        "loader.set_check_utr(True)\n",
        "pcdf=loader.load_file(PC_FULLPATH)\n",
        "print(\"PC seqs loaded:\",len(pcdf))\n",
        "loader.set_label(0)\n",
        "loader.set_check_utr(False)\n",
        "ncdf=loader.load_file(NC_FULLPATH)\n",
        "print(\"NC seqs loaded:\",len(ncdf))\n",
        "show_time()"
      ],
      "execution_count": 20,
      "outputs": [
        {
          "output_type": "stream",
          "text": [
            "PC seqs loaded: 70825\n",
            "NC seqs loaded: 48752\n",
            "2021-07-10 16:05:46 UTC\n"
          ],
          "name": "stdout"
        }
      ]
    },
    {
      "cell_type": "markdown",
      "metadata": {
        "id": "CCNh_FZaI_sv"
      },
      "source": [
        "## Data Prep"
      ]
    },
    {
      "cell_type": "code",
      "metadata": {
        "colab": {
          "base_uri": "https://localhost:8080/"
        },
        "id": "mkBXTJ__I_sx",
        "outputId": "d4b7b842-681e-4b91-cacb-cf32fc3ee68a"
      },
      "source": [
        "def dataframe_length_filter(df,low_high):\n",
        "    (low,high)=low_high\n",
        "    # The pandas query language is strange, \n",
        "    # but this is MUCH faster than loop & drop.\n",
        "    return df[ (df['seqlen']>=low) & (df['seqlen']<=high) ]\n",
        "def dataframe_shuffle(df):\n",
        "    # The ignore_index option is new in Pandas 1.3. \n",
        "    # The default (False) replicates the old behavior: shuffle the index too.\n",
        "    # The new option seems more logical th\n",
        "    # After shuffling, df.iloc[0] has index == 0.\n",
        "    # return df.sample(frac=1,ignore_index=True)\n",
        "    return df.sample(frac=1)  # Use this till CoLab upgrades Pandas\n",
        "def dataframe_extract_sequence(df):\n",
        "    return df['sequence'].tolist()\n",
        "\n",
        "pc_all = dataframe_extract_sequence(\n",
        "    dataframe_shuffle(\n",
        "    dataframe_length_filter(pcdf,PC_LENS)))\n",
        "nc_all = dataframe_extract_sequence(\n",
        "    dataframe_shuffle(\n",
        "    dataframe_length_filter(ncdf,NC_LENS)))\n",
        "\n",
        "show_time()\n",
        "print(\"PC seqs pass filter:\",len(pc_all))\n",
        "print(\"NC seqs pass filter:\",len(nc_all))\n",
        "# Garbage collection to reduce RAM footprint\n",
        "pcdf=None\n",
        "ncdf=None"
      ],
      "execution_count": 21,
      "outputs": [
        {
          "output_type": "stream",
          "text": [
            "2021-07-10 16:05:46 UTC\n",
            "PC seqs pass filter: 55381\n",
            "NC seqs pass filter: 46919\n"
          ],
          "name": "stdout"
        }
      ]
    },
    {
      "cell_type": "code",
      "metadata": {
        "id": "V91rP2osI_s1"
      },
      "source": [
        "# Any portion of a shuffled list is a random selection\n",
        "pc_train=pc_all[:PC_TRAINS] \n",
        "nc_train=pc_all[:NC_TRAINS]\n",
        "pc_test=pc_all[PC_TRAINS:PC_TESTS] \n",
        "nc_test=pc_all[NC_TRAINS:PC_TESTS]\n",
        "# Garbage collection\n",
        "pc_all=None\n",
        "nc_all=None"
      ],
      "execution_count": 22,
      "outputs": []
    },
    {
      "cell_type": "code",
      "metadata": {
        "colab": {
          "base_uri": "https://localhost:8080/"
        },
        "id": "FfyPeInGI_s4",
        "outputId": "ed12fb42-4869-4935-9267-1f8cdab969fe"
      },
      "source": [
        "def prepare_x_and_y(seqs1,seqs0):\n",
        "    len1=len(seqs1)\n",
        "    len0=len(seqs0)\n",
        "    labels1=np.ones(len1,dtype=np.int8)\n",
        "    labels0=np.zeros(len0,dtype=np.int8)\n",
        "    all_labels = np.concatenate((labels1,labels0))\n",
        "    seqs1 = np.asarray(seqs1)\n",
        "    seqs0 = np.asarray(seqs0)\n",
        "    all_seqs = np.concatenate((seqs1,seqs0),axis=0)\n",
        "    # return all_seqs,all_labels  # test unshuffled\n",
        "    X,y = shuffle(all_seqs,all_labels) # sklearn.utils.shuffle\n",
        "    return X,y\n",
        "Xseq,y=prepare_x_and_y(pc_train,nc_train)\n",
        "#print(pc_train[0])\n",
        "#print(Xseq[0],y[0])\n",
        "show_time()"
      ],
      "execution_count": 23,
      "outputs": [
        {
          "output_type": "stream",
          "text": [
            "2021-07-10 16:05:47 UTC\n"
          ],
          "name": "stdout"
        }
      ]
    },
    {
      "cell_type": "code",
      "metadata": {
        "colab": {
          "base_uri": "https://localhost:8080/"
        },
        "id": "LWLixZOfI_s7",
        "outputId": "f7d07cb3-5f90-4e5a-c965-ffa0dca98a7b"
      },
      "source": [
        "def seqs_to_kmer_freqs(seqs,max_K):\n",
        "    tool = KmerTools()  # from SimTools\n",
        "    empty = tool.make_dict_upto_K(max_K)\n",
        "    collection = []\n",
        "    for seq in seqs:\n",
        "        counts = empty\n",
        "        counts = tool.update_count_one_K(counts,max_K,seq,True)\n",
        "        counts = tool.harvest_counts_from_K(counts,max_K)\n",
        "        fdict = tool.count_to_frequency(counts,max_K)\n",
        "        freqs = list(fdict.values())\n",
        "        collection.append(freqs)\n",
        "    return np.asarray(collection)\n",
        "Xfrq=seqs_to_kmer_freqs(Xseq,MAX_K)\n",
        "show_time()\n",
        "print(\"X shape\",np.shape(Xfrq))\n",
        "print(type(Xfrq),\"of\",type(Xfrq[0]),\"of\",type(Xfrq[0][0]))\n",
        "print(\"y shape\",np.shape(y))"
      ],
      "execution_count": 24,
      "outputs": [
        {
          "output_type": "stream",
          "text": [
            "2021-07-10 16:05:57 UTC\n",
            "X shape (16000, 84)\n",
            "<class 'numpy.ndarray'> of <class 'numpy.ndarray'> of <class 'numpy.float64'>\n",
            "y shape (16000,)\n"
          ],
          "name": "stdout"
        }
      ]
    },
    {
      "cell_type": "markdown",
      "metadata": {
        "id": "dJ4XhrzGI_s-"
      },
      "source": [
        "## Neural network"
      ]
    },
    {
      "cell_type": "code",
      "metadata": {
        "colab": {
          "base_uri": "https://localhost:8080/"
        },
        "id": "o5NPW7zKI_tC",
        "outputId": "a9bb399d-2ab5-4278-82fd-adb7f5b7aff3"
      },
      "source": [
        "def make_DNN():\n",
        "    dt=np.float32\n",
        "    print(\"make_DNN\")\n",
        "    print(\"input shape:\",INPUT_SHAPE)\n",
        "    dnn = Sequential()\n",
        "    dnn.add(Dense(NEURONS,activation=\"sigmoid\",dtype=dt))\n",
        "    dnn.add(Dense(NEURONS,activation=\"sigmoid\",dtype=dt)) \n",
        "    #dnn.add(Dropout(DROP_RATE))\n",
        "    dnn.add(Dense(1,activation=\"sigmoid\",dtype=dt))   \n",
        "    dnn.compile(optimizer='adam',\n",
        "                loss=BinaryCrossentropy(from_logits=False),\n",
        "                metrics=['accuracy'])   # add to default metrics=loss\n",
        "    dnn.build(input_shape=INPUT_SHAPE) \n",
        "    return dnn\n",
        "model = make_DNN()\n",
        "print(model.summary())"
      ],
      "execution_count": 25,
      "outputs": [
        {
          "output_type": "stream",
          "text": [
            "make_DNN\n",
            "input shape: (None, 84)\n",
            "Model: \"sequential\"\n",
            "_________________________________________________________________\n",
            "Layer (type)                 Output Shape              Param #   \n",
            "=================================================================\n",
            "dense (Dense)                (None, 16)                1360      \n",
            "_________________________________________________________________\n",
            "dense_1 (Dense)              (None, 16)                272       \n",
            "_________________________________________________________________\n",
            "dense_2 (Dense)              (None, 1)                 17        \n",
            "=================================================================\n",
            "Total params: 1,649\n",
            "Trainable params: 1,649\n",
            "Non-trainable params: 0\n",
            "_________________________________________________________________\n",
            "None\n"
          ],
          "name": "stdout"
        }
      ]
    },
    {
      "cell_type": "code",
      "metadata": {
        "id": "E2Dr6L9lI_tE"
      },
      "source": [
        "def do_cross_validation(X,y):\n",
        "    cv_scores = []\n",
        "    fold=0\n",
        "    mycallbacks = [ModelCheckpoint(\n",
        "        filepath=MODELPATH, save_best_only=True, \n",
        "        monitor='val_accuracy', mode='max')]   \n",
        "    splitter = KFold(n_splits=SPLITS)  # this does not shuffle\n",
        "    for train_index,valid_index in splitter.split(X):\n",
        "        if fold < FOLDS:\n",
        "            fold += 1\n",
        "            X_train=X[train_index] # inputs for training\n",
        "            y_train=y[train_index] # labels for training\n",
        "            X_valid=X[valid_index] # inputs for validation\n",
        "            y_valid=y[valid_index] # labels for validation\n",
        "            print(\"MODEL\")\n",
        "            # Call constructor on each CV. Else, continually improves the same model.\n",
        "            model = model = make_DNN()\n",
        "            print(\"FIT\")  # model.fit() implements learning\n",
        "            start_time=time.time()\n",
        "            history=model.fit(X_train, y_train, \n",
        "                    epochs=EPOCHS, \n",
        "                    verbose=1,  # ascii art while learning\n",
        "                    callbacks=mycallbacks,   # called at end of each epoch\n",
        "                    validation_data=(X_valid,y_valid))\n",
        "            end_time=time.time()\n",
        "            elapsed_time=(end_time-start_time)                        \n",
        "            print(\"Fold %d, %d epochs, %d sec\"%(fold,EPOCHS,elapsed_time))\n",
        "            # print(history.history.keys())  # all these keys will be shown in figure\n",
        "            pd.DataFrame(history.history).plot(figsize=(8,5))\n",
        "            plt.grid(True)\n",
        "            plt.gca().set_ylim(0,1) # any losses > 1 will be off the scale\n",
        "            plt.show()"
      ],
      "execution_count": 26,
      "outputs": []
    },
    {
      "cell_type": "code",
      "metadata": {
        "colab": {
          "base_uri": "https://localhost:8080/",
          "height": 813
        },
        "id": "Ey7Q-YWcI_tH",
        "outputId": "182dc403-fecc-4e8e-fd11-2a3b2b8cc177"
      },
      "source": [
        "do_cross_validation(Xfrq,y)"
      ],
      "execution_count": 27,
      "outputs": [
        {
          "output_type": "stream",
          "text": [
            "MODEL\n",
            "make_DNN\n",
            "input shape: (None, 84)\n",
            "FIT\n",
            "Epoch 1/10\n",
            "400/400 [==============================] - 14s 3ms/step - loss: 0.6958 - accuracy: 0.5064 - val_loss: 0.6945 - val_accuracy: 0.4991\n",
            "INFO:tensorflow:Assets written to: BestModel/assets\n",
            "Epoch 2/10\n",
            "400/400 [==============================] - 1s 2ms/step - loss: 0.6941 - accuracy: 0.4976 - val_loss: 0.6933 - val_accuracy: 0.4991\n",
            "Epoch 3/10\n",
            "400/400 [==============================] - 1s 2ms/step - loss: 0.6939 - accuracy: 0.4961 - val_loss: 0.6936 - val_accuracy: 0.5009\n",
            "INFO:tensorflow:Assets written to: BestModel/assets\n",
            "Epoch 4/10\n",
            "400/400 [==============================] - 1s 2ms/step - loss: 0.6939 - accuracy: 0.4903 - val_loss: 0.6934 - val_accuracy: 0.5009\n",
            "Epoch 5/10\n",
            "400/400 [==============================] - 1s 2ms/step - loss: 0.6937 - accuracy: 0.4904 - val_loss: 0.6933 - val_accuracy: 0.5009\n",
            "Epoch 6/10\n",
            "400/400 [==============================] - 1s 2ms/step - loss: 0.6939 - accuracy: 0.4920 - val_loss: 0.6935 - val_accuracy: 0.5009\n",
            "Epoch 7/10\n",
            "400/400 [==============================] - 1s 2ms/step - loss: 0.6939 - accuracy: 0.4927 - val_loss: 0.6936 - val_accuracy: 0.4991\n",
            "Epoch 8/10\n",
            "400/400 [==============================] - 1s 2ms/step - loss: 0.6935 - accuracy: 0.5047 - val_loss: 0.6949 - val_accuracy: 0.5009\n",
            "Epoch 9/10\n",
            "400/400 [==============================] - 1s 2ms/step - loss: 0.6941 - accuracy: 0.4964 - val_loss: 0.6936 - val_accuracy: 0.5009\n",
            "Epoch 10/10\n",
            "400/400 [==============================] - 1s 2ms/step - loss: 0.6935 - accuracy: 0.4985 - val_loss: 0.6931 - val_accuracy: 0.5009\n",
            "Fold 1, 10 epochs, 32 sec\n"
          ],
          "name": "stdout"
        },
        {
          "output_type": "display_data",
          "data": {
            "image/png": "[encoded data removed]",
            "text/plain": [
              "<Figure size 576x360 with 1 Axes>"
            ]
          },
          "metadata": {
            "tags": [],
            "needs_background": "light"
          }
        }
      ]
    },
    {
      "cell_type": "code",
      "metadata": {
        "id": "GVImN4_0I_tJ"
      },
      "source": [
        "# TO DO: run trained model on (pc_test,nc_test)\n",
        "# and draw the AUC.\n",
        "# Borrow code from other notebooks."
      ],
      "execution_count": 28,
      "outputs": []
    }
  ]
}