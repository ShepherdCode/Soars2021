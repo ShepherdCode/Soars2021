{
  "nbformat": 4,
  "nbformat_minor": 0,
  "metadata": {
    "accelerator": "GPU",
    "colab": {
      "name": "MLP_GenCode_100.ipynb",
      "provenance": [],
      "collapsed_sections": [],
      "toc_visible": true
    },
    "kernelspec": {
      "display_name": "Python 3",
      "language": "python",
      "name": "python3"
    },
    "language_info": {
      "codemirror_mode": {
        "name": "ipython",
        "version": 3
      },
      "file_extension": ".py",
      "mimetype": "text/x-python",
      "name": "python",
      "nbconvert_exporter": "python",
      "pygments_lexer": "ipython3",
      "version": "3.8.3"
    }
  },
  "cells": [
    {
      "cell_type": "markdown",
      "metadata": {
        "id": "ojm_6E9f9Kcf"
      },
      "source": [
        "# MLP GenCode \n",
        "Wen et al 2019 used DNN to distinguish GenCode mRNA/lncRNA.\n",
        "Based on K-mer frequencies, K={1,2,3}, they reported 99% accuracy.\n",
        "Their CNN used 2 Conv2D layers of 32 filters of width 3x3, max pool 2x2, 25% drop, dense 128.\n",
        "Can we reproduce that with MLP layers instead of CNN?\n",
        "Extract features as list of K-mer frequencies for K={1,2,3}."
      ]
    },
    {
      "cell_type": "code",
      "metadata": {
        "colab": {
          "base_uri": "https://localhost:8080/"
        },
        "id": "RmPF4h_YI_sT",
        "outputId": "4596ceb5-54e5-4ea3-ed21-866eb792d7fa"
      },
      "source": [
        "import time\n",
        "def show_time():\n",
        "    t = time.time()\n",
        "    print(time.strftime('%Y-%m-%d %H:%M:%S %Z', time.localtime(t)))\n",
        "show_time()"
      ],
      "execution_count": 15,
      "outputs": [
        {
          "output_type": "stream",
          "text": [
            "2021-07-10 17:18:00 UTC\n"
          ],
          "name": "stdout"
        }
      ]
    },
    {
      "cell_type": "code",
      "metadata": {
        "id": "NEbXt5N4I_sc"
      },
      "source": [
        "PC_TRAINS=8000\n",
        "NC_TRAINS=8000\n",
        "PC_TESTS=2000\n",
        "NC_TESTS=2000   # Wen et al 2019 used 8000 and 2000 of each class\n",
        "PC_LENS=(200,4000)\n",
        "NC_LENS=(200,4000)    # Wen et al 2019 used 250-3500 for lncRNA only\n",
        "MAX_K = 3\n",
        "INPUT_SHAPE=(None,84)  # 4^3 + 4^2 + 4^1\n",
        "NEURONS=16\n",
        "EPOCHS=50\n",
        "SPLITS=5\n",
        "FOLDS=1   # make this 5 for serious testing"
      ],
      "execution_count": 16,
      "outputs": []
    },
    {
      "cell_type": "code",
      "metadata": {
        "id": "VQY7aTj29Kch"
      },
      "source": [
        "import numpy as np\n",
        "import pandas as pd\n",
        "import matplotlib.pyplot as plt\n",
        "from sklearn.utils import shuffle\n",
        "from sklearn.model_selection import KFold\n",
        "from sklearn.model_selection import cross_val_score\n",
        "\n",
        "from keras.models import Sequential\n",
        "from keras.layers import Dense,Embedding,Dropout\n",
        "from keras.layers import Flatten,TimeDistributed\n",
        "from keras.losses import BinaryCrossentropy\n",
        "from keras.callbacks import ModelCheckpoint\n"
      ],
      "execution_count": 17,
      "outputs": []
    },
    {
      "cell_type": "code",
      "metadata": {
        "colab": {
          "base_uri": "https://localhost:8080/"
        },
        "id": "xUxEB53HI_sk",
        "outputId": "956765c0-6456-43cb-f7bd-3276b664fa2a"
      },
      "source": [
        "import sys\n",
        "IN_COLAB = False\n",
        "try:\n",
        "    from google.colab import drive\n",
        "    IN_COLAB = True\n",
        "except:\n",
        "    pass\n",
        "if IN_COLAB:\n",
        "    print(\"On Google CoLab, mount cloud-local file, get our code from GitHub.\")\n",
        "    PATH='/content/drive/'\n",
        "    #drive.mount(PATH,force_remount=True)  # hardly ever need this\n",
        "    drive.mount(PATH)    # Google will require login credentials\n",
        "    DATAPATH=PATH+'My Drive/data/'  # must end in \"/\"\n",
        "    import requests\n",
        "    r = requests.get('https://raw.githubusercontent.com/ShepherdCode/Soars2021/master/SimTools/GenCodeTools.py')\n",
        "    with open('GenCodeTools.py', 'w') as f:\n",
        "        f.write(r.text)  \n",
        "    from GenCodeTools import GenCodeLoader\n",
        "    r = requests.get('https://raw.githubusercontent.com/ShepherdCode/Soars2021/master/SimTools/KmerTools.py')\n",
        "    with open('KmerTools.py', 'w') as f:\n",
        "        f.write(r.text)  \n",
        "    from KmerTools import KmerTools\n",
        "else:\n",
        "        print(\"CoLab not working. On my PC, use relative paths.\")\n",
        "        DATAPATH='data/'  # must end in \"/\"\n",
        "        sys.path.append(\"..\") # append parent dir in order to use sibling dirs\n",
        "        from SimTools.GenCodeTools import GenCodeLoader\n",
        "        from SimTools.KmerTools import KmerTools\n",
        "MODELPATH=\"BestModel\"  # saved on cloud instance and lost after logout\n",
        "#MODELPATH=DATAPATH+MODELPATH  # saved on Google Drive but requires login"
      ],
      "execution_count": 18,
      "outputs": [
        {
          "output_type": "stream",
          "text": [
            "On Google CoLab, mount cloud-local file, get our code from GitHub.\n",
            "Drive already mounted at /content/drive/; to attempt to forcibly remount, call drive.mount(\"/content/drive/\", force_remount=True).\n"
          ],
          "name": "stdout"
        }
      ]
    },
    {
      "cell_type": "markdown",
      "metadata": {
        "id": "8buAhZRfI_sp"
      },
      "source": [
        "## Data Load\n",
        "Restrict mRNA to those transcripts with a recognized ORF."
      ]
    },
    {
      "cell_type": "code",
      "metadata": {
        "id": "ypn0lhiqI_sq"
      },
      "source": [
        "PC_FILENAME='gencode.v38.pc_transcripts.fa.gz'\n",
        "NC_FILENAME='gencode.v38.lncRNA_transcripts.fa.gz'\n",
        "PC_FULLPATH=DATAPATH+PC_FILENAME\n",
        "NC_FULLPATH=DATAPATH+NC_FILENAME"
      ],
      "execution_count": 19,
      "outputs": []
    },
    {
      "cell_type": "code",
      "metadata": {
        "colab": {
          "base_uri": "https://localhost:8080/"
        },
        "id": "xTz0pkFlI_sr",
        "outputId": "3b4197f0-6cab-45a1-9396-0f9cfdbf7973"
      },
      "source": [
        "# Full GenCode ver 38 human is 106143 pc + 48752 nc and loads in 7 sec.\n",
        "# Expect fewer transcripts if special filtering is used.\n",
        "loader=GenCodeLoader()\n",
        "loader.set_label(1)\n",
        "loader.set_check_utr(True)\n",
        "pcdf=loader.load_file(PC_FULLPATH)\n",
        "print(\"PC seqs loaded:\",len(pcdf))\n",
        "loader.set_label(0)\n",
        "loader.set_check_utr(False)\n",
        "ncdf=loader.load_file(NC_FULLPATH)\n",
        "print(\"NC seqs loaded:\",len(ncdf))\n",
        "show_time()"
      ],
      "execution_count": 20,
      "outputs": [
        {
          "output_type": "stream",
          "text": [
            "PC seqs loaded: 70825\n",
            "NC seqs loaded: 48752\n",
            "2021-07-10 17:18:07 UTC\n"
          ],
          "name": "stdout"
        }
      ]
    },
    {
      "cell_type": "markdown",
      "metadata": {
        "id": "CCNh_FZaI_sv"
      },
      "source": [
        "## Data Prep"
      ]
    },
    {
      "cell_type": "code",
      "metadata": {
        "colab": {
          "base_uri": "https://localhost:8080/"
        },
        "id": "mkBXTJ__I_sx",
        "outputId": "08c4074c-082f-42ce-97f5-42e6dbd919e8"
      },
      "source": [
        "def dataframe_length_filter(df,low_high):\n",
        "    (low,high)=low_high\n",
        "    # The pandas query language is strange, \n",
        "    # but this is MUCH faster than loop & drop.\n",
        "    return df[ (df['seqlen']>=low) & (df['seqlen']<=high) ]\n",
        "def dataframe_shuffle(df):\n",
        "    # The ignore_index option is new in Pandas 1.3. \n",
        "    # The default (False) replicates the old behavior: shuffle the index too.\n",
        "    # The new option seems more logical th\n",
        "    # After shuffling, df.iloc[0] has index == 0.\n",
        "    # return df.sample(frac=1,ignore_index=True)\n",
        "    return df.sample(frac=1)  # Use this till CoLab upgrades Pandas\n",
        "def dataframe_extract_sequence(df):\n",
        "    return df['sequence'].tolist()\n",
        "\n",
        "pc_all = dataframe_extract_sequence(\n",
        "    dataframe_shuffle(\n",
        "    dataframe_length_filter(pcdf,PC_LENS)))\n",
        "nc_all = dataframe_extract_sequence(\n",
        "    dataframe_shuffle(\n",
        "    dataframe_length_filter(ncdf,NC_LENS)))\n",
        "\n",
        "show_time()\n",
        "print(\"PC seqs pass filter:\",len(pc_all))\n",
        "print(\"NC seqs pass filter:\",len(nc_all))\n",
        "# Garbage collection to reduce RAM footprint\n",
        "pcdf=None\n",
        "ncdf=None"
      ],
      "execution_count": 21,
      "outputs": [
        {
          "output_type": "stream",
          "text": [
            "2021-07-10 17:18:07 UTC\n",
            "PC seqs pass filter: 55381\n",
            "NC seqs pass filter: 46919\n"
          ],
          "name": "stdout"
        }
      ]
    },
    {
      "cell_type": "code",
      "metadata": {
        "id": "V91rP2osI_s1"
      },
      "source": [
        "# Any portion of a shuffled list is a random selection\n",
        "pc_train=pc_all[:PC_TRAINS] \n",
        "nc_train=nc_all[:NC_TRAINS]\n",
        "pc_test=pc_all[PC_TRAINS:PC_TESTS] \n",
        "nc_test=nc_all[NC_TRAINS:PC_TESTS]\n",
        "# Garbage collection\n",
        "pc_all=None\n",
        "nc_all=None"
      ],
      "execution_count": 22,
      "outputs": []
    },
    {
      "cell_type": "code",
      "metadata": {
        "colab": {
          "base_uri": "https://localhost:8080/"
        },
        "id": "FfyPeInGI_s4",
        "outputId": "8c53137b-eed5-4fbd-d6f5-ea910b484b85"
      },
      "source": [
        "def prepare_x_and_y(seqs1,seqs0):\n",
        "    len1=len(seqs1)\n",
        "    len0=len(seqs0)\n",
        "    labels1=np.ones(len1,dtype=np.int8)\n",
        "    labels0=np.zeros(len0,dtype=np.int8)\n",
        "    all_labels = np.concatenate((labels1,labels0))\n",
        "    seqs1 = np.asarray(seqs1)\n",
        "    seqs0 = np.asarray(seqs0)\n",
        "    all_seqs = np.concatenate((seqs1,seqs0),axis=0)\n",
        "    # return all_seqs,all_labels  # test unshuffled\n",
        "    tandem=(all_seqs,all_labels)\n",
        "    X,y = shuffle(tandem) # sklearn.utils.shuffle\n",
        "    return X,y\n",
        "Xseq,y=prepare_x_and_y(pc_train,nc_train)\n",
        "#print(pc_train[0])\n",
        "#print(Xseq[0],y[0])\n",
        "show_time()"
      ],
      "execution_count": 23,
      "outputs": [
        {
          "output_type": "stream",
          "text": [
            "2021-07-10 17:18:07 UTC\n"
          ],
          "name": "stdout"
        }
      ]
    },
    {
      "cell_type": "code",
      "metadata": {
        "colab": {
          "base_uri": "https://localhost:8080/"
        },
        "id": "LWLixZOfI_s7",
        "outputId": "a05fb879-bf4f-4a3d-841f-82e9e832cd53"
      },
      "source": [
        "def seqs_to_kmer_freqs(seqs,max_K):\n",
        "    tool = KmerTools()  # from SimTools\n",
        "    empty = tool.make_dict_upto_K(max_K)\n",
        "    collection = []\n",
        "    for seq in seqs:\n",
        "        counts = empty\n",
        "        counts = tool.update_count_one_K(counts,max_K,seq,True)\n",
        "        counts = tool.harvest_counts_from_K(counts,max_K)\n",
        "        fdict = tool.count_to_frequency(counts,max_K)\n",
        "        freqs = list(fdict.values())\n",
        "        collection.append(freqs)\n",
        "    return np.asarray(collection)\n",
        "Xfrq=seqs_to_kmer_freqs(Xseq,MAX_K)\n",
        "show_time()\n",
        "print(\"X shape\",np.shape(Xfrq))\n",
        "print(type(Xfrq),\"of\",type(Xfrq[0]),\"of\",type(Xfrq[0][0]))\n",
        "print(\"y shape\",np.shape(y))"
      ],
      "execution_count": 24,
      "outputs": [
        {
          "output_type": "stream",
          "text": [
            "2021-07-10 17:18:20 UTC\n",
            "X shape (16000, 84)\n",
            "<class 'numpy.ndarray'> of <class 'numpy.ndarray'> of <class 'numpy.float64'>\n",
            "y shape (16000,)\n"
          ],
          "name": "stdout"
        }
      ]
    },
    {
      "cell_type": "markdown",
      "metadata": {
        "id": "dJ4XhrzGI_s-"
      },
      "source": [
        "## Neural network"
      ]
    },
    {
      "cell_type": "code",
      "metadata": {
        "colab": {
          "base_uri": "https://localhost:8080/"
        },
        "id": "o5NPW7zKI_tC",
        "outputId": "46186687-2e3a-4c0d-f183-662728a664ab"
      },
      "source": [
        "def make_DNN():\n",
        "    dt=np.float32\n",
        "    print(\"make_DNN\")\n",
        "    print(\"input shape:\",INPUT_SHAPE)\n",
        "    dnn = Sequential()\n",
        "    dnn.add(Dense(NEURONS,activation=\"sigmoid\",dtype=dt))\n",
        "    dnn.add(Dense(NEURONS,activation=\"sigmoid\",dtype=dt)) \n",
        "    #dnn.add(Dropout(DROP_RATE))\n",
        "    dnn.add(Dense(1,activation=\"sigmoid\",dtype=dt))   \n",
        "    dnn.compile(optimizer='adam',\n",
        "                loss=BinaryCrossentropy(from_logits=False),\n",
        "                metrics=['accuracy'])   # add to default metrics=loss\n",
        "    dnn.build(input_shape=INPUT_SHAPE) \n",
        "    return dnn\n",
        "model = make_DNN()\n",
        "print(model.summary())"
      ],
      "execution_count": 25,
      "outputs": [
        {
          "output_type": "stream",
          "text": [
            "make_DNN\n",
            "input shape: (None, 84)\n",
            "Model: \"sequential_2\"\n",
            "_________________________________________________________________\n",
            "Layer (type)                 Output Shape              Param #   \n",
            "=================================================================\n",
            "dense_6 (Dense)              (None, 16)                1360      \n",
            "_________________________________________________________________\n",
            "dense_7 (Dense)              (None, 16)                272       \n",
            "_________________________________________________________________\n",
            "dense_8 (Dense)              (None, 1)                 17        \n",
            "=================================================================\n",
            "Total params: 1,649\n",
            "Trainable params: 1,649\n",
            "Non-trainable params: 0\n",
            "_________________________________________________________________\n",
            "None\n"
          ],
          "name": "stdout"
        }
      ]
    },
    {
      "cell_type": "code",
      "metadata": {
        "id": "E2Dr6L9lI_tE"
      },
      "source": [
        "def do_cross_validation(X,y):\n",
        "    cv_scores = []\n",
        "    fold=0\n",
        "    mycallbacks = [ModelCheckpoint(\n",
        "        filepath=MODELPATH, save_best_only=True, \n",
        "        monitor='val_accuracy', mode='max')]   \n",
        "    splitter = KFold(n_splits=SPLITS)  # this does not shuffle\n",
        "    for train_index,valid_index in splitter.split(X):\n",
        "        if fold < FOLDS:\n",
        "            fold += 1\n",
        "            X_train=X[train_index] # inputs for training\n",
        "            y_train=y[train_index] # labels for training\n",
        "            X_valid=X[valid_index] # inputs for validation\n",
        "            y_valid=y[valid_index] # labels for validation\n",
        "            print(\"MODEL\")\n",
        "            # Call constructor on each CV. Else, continually improves the same model.\n",
        "            model = model = make_DNN()\n",
        "            print(\"FIT\")  # model.fit() implements learning\n",
        "            start_time=time.time()\n",
        "            history=model.fit(X_train, y_train, \n",
        "                    epochs=EPOCHS, \n",
        "                    verbose=1,  # ascii art while learning\n",
        "                    callbacks=mycallbacks,   # called at end of each epoch\n",
        "                    validation_data=(X_valid,y_valid))\n",
        "            end_time=time.time()\n",
        "            elapsed_time=(end_time-start_time)                        \n",
        "            print(\"Fold %d, %d epochs, %d sec\"%(fold,EPOCHS,elapsed_time))\n",
        "            # print(history.history.keys())  # all these keys will be shown in figure\n",
        "            pd.DataFrame(history.history).plot(figsize=(8,5))\n",
        "            plt.grid(True)\n",
        "            plt.gca().set_ylim(0,1) # any losses > 1 will be off the scale\n",
        "            plt.show()"
      ],
      "execution_count": 26,
      "outputs": []
    },
    {
      "cell_type": "code",
      "metadata": {
        "colab": {
          "base_uri": "https://localhost:8080/",
          "height": 1000
        },
        "id": "Ey7Q-YWcI_tH",
        "outputId": "e3e349d9-e38c-4913-9d14-9060fd2d291c"
      },
      "source": [
        "do_cross_validation(Xfrq,y)"
      ],
      "execution_count": 27,
      "outputs": [
        {
          "output_type": "stream",
          "text": [
            "MODEL\n",
            "make_DNN\n",
            "input shape: (None, 84)\n",
            "FIT\n",
            "Epoch 1/50\n",
            "400/400 [==============================] - 2s 3ms/step - loss: 0.6886 - accuracy: 0.5558 - val_loss: 0.9807 - val_accuracy: 0.0000e+00\n",
            "INFO:tensorflow:Assets written to: BestModel/assets\n",
            "Epoch 2/50\n",
            "400/400 [==============================] - 1s 3ms/step - loss: 0.6631 - accuracy: 0.6223 - val_loss: 1.0238 - val_accuracy: 0.0000e+00\n",
            "Epoch 3/50\n",
            "400/400 [==============================] - 1s 3ms/step - loss: 0.6603 - accuracy: 0.6280 - val_loss: 0.9519 - val_accuracy: 0.0000e+00\n",
            "Epoch 4/50\n",
            "400/400 [==============================] - 1s 3ms/step - loss: 0.6615 - accuracy: 0.6252 - val_loss: 0.9568 - val_accuracy: 0.0000e+00\n",
            "Epoch 5/50\n",
            "400/400 [==============================] - 1s 3ms/step - loss: 0.6611 - accuracy: 0.6256 - val_loss: 0.9839 - val_accuracy: 0.0000e+00\n",
            "Epoch 6/50\n",
            "400/400 [==============================] - 1s 3ms/step - loss: 0.6635 - accuracy: 0.6203 - val_loss: 0.9537 - val_accuracy: 0.0000e+00\n",
            "Epoch 7/50\n",
            "400/400 [==============================] - 1s 3ms/step - loss: 0.6602 - accuracy: 0.6261 - val_loss: 0.9719 - val_accuracy: 0.0000e+00\n",
            "Epoch 8/50\n",
            "400/400 [==============================] - 1s 3ms/step - loss: 0.6635 - accuracy: 0.6184 - val_loss: 1.0067 - val_accuracy: 0.0000e+00\n",
            "Epoch 9/50\n",
            "400/400 [==============================] - 1s 3ms/step - loss: 0.6633 - accuracy: 0.6191 - val_loss: 0.9248 - val_accuracy: 0.0000e+00\n",
            "Epoch 10/50\n",
            "400/400 [==============================] - 1s 3ms/step - loss: 0.6608 - accuracy: 0.6226 - val_loss: 1.0148 - val_accuracy: 0.0000e+00\n",
            "Epoch 11/50\n",
            "400/400 [==============================] - 1s 3ms/step - loss: 0.6562 - accuracy: 0.6307 - val_loss: 0.9467 - val_accuracy: 0.0000e+00\n",
            "Epoch 12/50\n",
            "400/400 [==============================] - 1s 3ms/step - loss: 0.6576 - accuracy: 0.6266 - val_loss: 1.0236 - val_accuracy: 0.0000e+00\n",
            "Epoch 13/50\n",
            "400/400 [==============================] - 1s 3ms/step - loss: 0.6576 - accuracy: 0.6254 - val_loss: 0.9883 - val_accuracy: 0.0000e+00\n",
            "Epoch 14/50\n",
            "400/400 [==============================] - 1s 3ms/step - loss: 0.6544 - accuracy: 0.6295 - val_loss: 0.9511 - val_accuracy: 0.0000e+00\n",
            "Epoch 15/50\n",
            "400/400 [==============================] - 1s 3ms/step - loss: 0.6565 - accuracy: 0.6236 - val_loss: 0.9793 - val_accuracy: 0.0000e+00\n",
            "Epoch 16/50\n",
            "400/400 [==============================] - 1s 3ms/step - loss: 0.6528 - accuracy: 0.6287 - val_loss: 0.9550 - val_accuracy: 0.0000e+00\n",
            "Epoch 17/50\n",
            "400/400 [==============================] - 1s 3ms/step - loss: 0.6529 - accuracy: 0.6241 - val_loss: 1.0032 - val_accuracy: 0.0000e+00\n",
            "Epoch 18/50\n",
            "400/400 [==============================] - 1s 3ms/step - loss: 0.6502 - accuracy: 0.6251 - val_loss: 0.9534 - val_accuracy: 0.0000e+00\n",
            "Epoch 19/50\n",
            "400/400 [==============================] - 1s 3ms/step - loss: 0.6484 - accuracy: 0.6236 - val_loss: 1.0019 - val_accuracy: 0.0000e+00\n",
            "Epoch 20/50\n",
            "400/400 [==============================] - 1s 3ms/step - loss: 0.6436 - accuracy: 0.6266 - val_loss: 1.0134 - val_accuracy: 0.0000e+00\n",
            "Epoch 21/50\n",
            "400/400 [==============================] - 1s 3ms/step - loss: 0.6413 - accuracy: 0.6247 - val_loss: 0.9315 - val_accuracy: 0.0000e+00\n",
            "Epoch 22/50\n",
            "400/400 [==============================] - 1s 3ms/step - loss: 0.6349 - accuracy: 0.6283 - val_loss: 0.8783 - val_accuracy: 3.1250e-04\n",
            "INFO:tensorflow:Assets written to: BestModel/assets\n",
            "Epoch 23/50\n",
            "400/400 [==============================] - 1s 3ms/step - loss: 0.6331 - accuracy: 0.6220 - val_loss: 0.8875 - val_accuracy: 6.2500e-04\n",
            "INFO:tensorflow:Assets written to: BestModel/assets\n",
            "Epoch 24/50\n",
            "400/400 [==============================] - 1s 3ms/step - loss: 0.6252 - accuracy: 0.6236 - val_loss: 0.8307 - val_accuracy: 6.2500e-04\n",
            "Epoch 25/50\n",
            "400/400 [==============================] - 1s 3ms/step - loss: 0.6168 - accuracy: 0.6233 - val_loss: 0.7833 - val_accuracy: 9.3750e-04\n",
            "INFO:tensorflow:Assets written to: BestModel/assets\n",
            "Epoch 26/50\n",
            "400/400 [==============================] - 1s 3ms/step - loss: 0.6080 - accuracy: 0.6244 - val_loss: 0.8523 - val_accuracy: 9.3750e-04\n",
            "Epoch 27/50\n",
            "400/400 [==============================] - 1s 3ms/step - loss: 0.6002 - accuracy: 0.6190 - val_loss: 0.9654 - val_accuracy: 6.2500e-04\n",
            "Epoch 28/50\n",
            "400/400 [==============================] - 1s 3ms/step - loss: 0.5892 - accuracy: 0.6180 - val_loss: 0.8615 - val_accuracy: 9.3750e-04\n",
            "Epoch 29/50\n",
            "400/400 [==============================] - 1s 3ms/step - loss: 0.5719 - accuracy: 0.6226 - val_loss: 0.7582 - val_accuracy: 0.1166\n",
            "INFO:tensorflow:Assets written to: BestModel/assets\n",
            "Epoch 30/50\n",
            "400/400 [==============================] - 1s 3ms/step - loss: 0.5548 - accuracy: 0.6330 - val_loss: 0.6374 - val_accuracy: 0.9028\n",
            "INFO:tensorflow:Assets written to: BestModel/assets\n",
            "Epoch 31/50\n",
            "400/400 [==============================] - 1s 3ms/step - loss: 0.5370 - accuracy: 0.7092 - val_loss: 0.6738 - val_accuracy: 0.8928\n",
            "Epoch 32/50\n",
            "400/400 [==============================] - 1s 3ms/step - loss: 0.5226 - accuracy: 0.7067 - val_loss: 0.6694 - val_accuracy: 0.8938\n",
            "Epoch 33/50\n",
            "400/400 [==============================] - 1s 3ms/step - loss: 0.5031 - accuracy: 0.7884 - val_loss: 0.5772 - val_accuracy: 0.9053\n",
            "INFO:tensorflow:Assets written to: BestModel/assets\n",
            "Epoch 34/50\n",
            "400/400 [==============================] - 1s 3ms/step - loss: 0.4837 - accuracy: 0.8630 - val_loss: 0.6209 - val_accuracy: 0.8997\n",
            "Epoch 35/50\n",
            "400/400 [==============================] - 1s 3ms/step - loss: 0.4582 - accuracy: 0.8596 - val_loss: 0.5209 - val_accuracy: 0.9116\n",
            "INFO:tensorflow:Assets written to: BestModel/assets\n",
            "Epoch 36/50\n",
            "400/400 [==============================] - 1s 3ms/step - loss: 0.4394 - accuracy: 0.9267 - val_loss: 0.5374 - val_accuracy: 0.9053\n",
            "Epoch 37/50\n",
            "400/400 [==============================] - 1s 3ms/step - loss: 0.4203 - accuracy: 0.9429 - val_loss: 0.4150 - val_accuracy: 0.9275\n",
            "INFO:tensorflow:Assets written to: BestModel/assets\n",
            "Epoch 38/50\n",
            "400/400 [==============================] - 1s 3ms/step - loss: 0.4042 - accuracy: 0.9386 - val_loss: 0.5345 - val_accuracy: 0.9044\n",
            "Epoch 39/50\n",
            "400/400 [==============================] - 1s 3ms/step - loss: 0.3837 - accuracy: 0.9483 - val_loss: 0.3639 - val_accuracy: 0.9287\n",
            "INFO:tensorflow:Assets written to: BestModel/assets\n",
            "Epoch 40/50\n",
            "400/400 [==============================] - 1s 3ms/step - loss: 0.3688 - accuracy: 0.9370 - val_loss: 0.3822 - val_accuracy: 0.9228\n",
            "Epoch 41/50\n",
            "400/400 [==============================] - 1s 3ms/step - loss: 0.3528 - accuracy: 0.9424 - val_loss: 0.2810 - val_accuracy: 0.9403\n",
            "INFO:tensorflow:Assets written to: BestModel/assets\n",
            "Epoch 42/50\n",
            "400/400 [==============================] - 1s 3ms/step - loss: 0.3363 - accuracy: 0.9326 - val_loss: 0.3534 - val_accuracy: 0.9228\n",
            "Epoch 43/50\n",
            "400/400 [==============================] - 1s 3ms/step - loss: 0.3203 - accuracy: 0.9337 - val_loss: 0.2916 - val_accuracy: 0.9312\n",
            "Epoch 44/50\n",
            "400/400 [==============================] - 1s 3ms/step - loss: 0.3114 - accuracy: 0.9287 - val_loss: 0.3029 - val_accuracy: 0.9278\n",
            "Epoch 45/50\n",
            "400/400 [==============================] - 1s 3ms/step - loss: 0.2947 - accuracy: 0.9318 - val_loss: 0.3091 - val_accuracy: 0.9256\n",
            "Epoch 46/50\n",
            "400/400 [==============================] - 1s 3ms/step - loss: 0.2878 - accuracy: 0.9303 - val_loss: 0.2638 - val_accuracy: 0.9316\n",
            "Epoch 47/50\n",
            "400/400 [==============================] - 1s 3ms/step - loss: 0.2775 - accuracy: 0.9290 - val_loss: 0.3347 - val_accuracy: 0.9191\n",
            "Epoch 48/50\n",
            "400/400 [==============================] - 1s 3ms/step - loss: 0.2639 - accuracy: 0.9333 - val_loss: 0.3386 - val_accuracy: 0.9175\n",
            "Epoch 49/50\n",
            "400/400 [==============================] - 1s 3ms/step - loss: 0.2569 - accuracy: 0.9355 - val_loss: 0.3436 - val_accuracy: 0.9166\n",
            "Epoch 50/50\n",
            "400/400 [==============================] - 1s 3ms/step - loss: 0.2509 - accuracy: 0.9323 - val_loss: 0.2827 - val_accuracy: 0.9256\n",
            "Fold 1, 50 epochs, 68 sec\n"
          ],
          "name": "stdout"
        },
        {
          "output_type": "display_data",
          "data": {
            "image/png": "[encoded data removed]",
            "text/plain": [
              "<Figure size 576x360 with 1 Axes>"
            ]
          },
          "metadata": {
            "tags": [],
            "needs_background": "light"
          }
        }
      ]
    },
    {
      "cell_type": "code",
      "metadata": {
        "id": "GVImN4_0I_tJ"
      },
      "source": [
        "# TO DO: run trained model on (pc_test,nc_test)\n",
        "# and draw the AUC.\n",
        "# Borrow code from other notebooks."
      ],
      "execution_count": 28,
      "outputs": []
    }
  ]
}