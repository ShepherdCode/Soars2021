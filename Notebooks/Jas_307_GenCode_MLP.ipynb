{
 "cells": [
  {
   "cell_type": "markdown",
   "metadata": {
    "id": "ojm_6E9f9Kcf"
   },
   "source": [
    "# MLP ORF to GenCode \n",
    "\n",
    "Use GenCode 38 and length-restricted data.  \n",
    "Use model pre-trained on Simulated ORF.  "
   ]
  },
  {
   "cell_type": "code",
   "execution_count": 1,
   "metadata": {
    "colab": {
     "base_uri": "https://localhost:8080/"
    },
    "id": "RmPF4h_YI_sT",
    "outputId": "a1edd650-41ca-4e7e-e543-a8e36a0b40c9"
   },
   "outputs": [
    {
     "name": "stdout",
     "output_type": "stream",
     "text": [
      "2021-08-16 17:06:18 EDT\n"
     ]
    }
   ],
   "source": [
    "import time\n",
    "def show_time():\n",
    "    t = time.time()\n",
    "    print(time.strftime('%Y-%m-%d %H:%M:%S %Z', time.localtime(t)))\n",
    "show_time()"
   ]
  },
  {
   "cell_type": "code",
   "execution_count": 2,
   "metadata": {
    "id": "VQY7aTj29Kch"
   },
   "outputs": [
    {
     "name": "stderr",
     "output_type": "stream",
     "text": [
      "2021-08-16 17:06:18.884843: I tensorflow/stream_executor/platform/default/dso_loader.cc:53] Successfully opened dynamic library libcudart.so.11.0\n"
     ]
    }
   ],
   "source": [
    "import numpy as np\n",
    "import pandas as pd\n",
    "import matplotlib.pyplot as plt\n",
    "from sklearn.utils import shuffle\n",
    "from sklearn.model_selection import KFold\n",
    "from sklearn.model_selection import cross_val_score\n",
    "from sklearn.metrics import roc_curve\n",
    "from sklearn.metrics import roc_auc_score\n",
    "\n",
    "from keras.models import Sequential\n",
    "from keras.layers import Dense,Embedding,Dropout\n",
    "from keras.layers import Flatten,TimeDistributed\n",
    "from keras.losses import BinaryCrossentropy\n",
    "from keras.callbacks import ModelCheckpoint\n",
    "from keras.models import load_model"
   ]
  },
  {
   "cell_type": "code",
   "execution_count": 3,
   "metadata": {
    "colab": {
     "base_uri": "https://localhost:8080/"
    },
    "id": "xUxEB53HI_sk",
    "outputId": "50c1004f-ef2f-4f51-d2d6-358a70a9a4fb"
   },
   "outputs": [
    {
     "name": "stdout",
     "output_type": "stream",
     "text": [
      "CoLab not working. On my PC, use relative paths.\n"
     ]
    }
   ],
   "source": [
    "import sys\n",
    "IN_COLAB = False\n",
    "try:\n",
    "    from google.colab import drive\n",
    "    IN_COLAB = True\n",
    "except:\n",
    "    pass\n",
    "if IN_COLAB:\n",
    "    print(\"On Google CoLab, mount cloud-local file, get our code from GitHub.\")\n",
    "    PATH='/content/drive/'\n",
    "    #drive.mount(PATH,force_remount=True)  # hardly ever need this\n",
    "    drive.mount(PATH)    # Google will require login credentials\n",
    "    DATAPATH=PATH+'My Drive/data/'  # must end in \"/\"\n",
    "    import requests\n",
    "    r = requests.get('https://raw.githubusercontent.com/ShepherdCode/Soars2021/master/SimTools/RNA_describe.py')\n",
    "    with open('RNA_describe.py', 'w') as f:\n",
    "        f.write(r.text)  \n",
    "    from RNA_describe import ORF_counter\n",
    "    r = requests.get('https://raw.githubusercontent.com/ShepherdCode/Soars2021/master/SimTools/GenCodeTools.py')\n",
    "    with open('GenCodeTools.py', 'w') as f:\n",
    "        f.write(r.text)  \n",
    "    from GenCodeTools import GenCodeLoader\n",
    "    r = requests.get('https://raw.githubusercontent.com/ShepherdCode/Soars2021/master/SimTools/KmerTools.py')\n",
    "    with open('KmerTools.py', 'w') as f:\n",
    "        f.write(r.text)  \n",
    "    from KmerTools import KmerTools\n",
    "else:\n",
    "        print(\"CoLab not working. On my PC, use relative paths.\")\n",
    "        DATAPATH='data/'  # must end in \"/\"\n",
    "        sys.path.append(\"..\") # append parent dir in order to use sibling dirs\n",
    "        from SimTools.RNA_describe import ORF_counter\n",
    "        from SimTools.GenCodeTools import GenCodeLoader\n",
    "        from SimTools.KmerTools import KmerTools\n",
    "BESTMODELPATH=DATAPATH+\"BestModel-304\"  \n",
    "LASTMODELPATH=DATAPATH+\"LastModel\"  "
   ]
  },
  {
   "cell_type": "markdown",
   "metadata": {
    "id": "8buAhZRfI_sp"
   },
   "source": [
    "## Data Load"
   ]
  },
  {
   "cell_type": "code",
   "execution_count": 4,
   "metadata": {
    "colab": {
     "base_uri": "https://localhost:8080/"
    },
    "id": "h94xptH1tI82",
    "outputId": "1768facb-1428-432e-bdb0-e16ae90109f4"
   },
   "outputs": [
    {
     "name": "stdout",
     "output_type": "stream",
     "text": [
      "2021-08-16 17:06:19 EDT\n"
     ]
    }
   ],
   "source": [
    "PC_TRAINS=1000\n",
    "NC_TRAINS=1000\n",
    "PC_TESTS=40000\n",
    "NC_TESTS=40000   \n",
    "PC_LENS=(200,4000)\n",
    "NC_LENS=(200,4000)   # Wen used 3500 for hyperparameter, 3000 for train\n",
    "PC_FILENAME='gencode.v38.pc_transcripts.fa.gz'\n",
    "NC_FILENAME='gencode.v38.lncRNA_transcripts.fa.gz'\n",
    "PC_FULLPATH=DATAPATH+PC_FILENAME\n",
    "NC_FULLPATH=DATAPATH+NC_FILENAME\n",
    "MAX_K = 3 \n",
    "INPUT_SHAPE=(None,84)  # 4^3 + 4^2 + 4^1\n",
    "NEURONS=32\n",
    "DROP_RATE=0.30\n",
    "EPOCHS=200\n",
    "SPLITS=3\n",
    "FOLDS=3   \n",
    "show_time()"
   ]
  },
  {
   "cell_type": "code",
   "execution_count": 5,
   "metadata": {
    "colab": {
     "base_uri": "https://localhost:8080/"
    },
    "id": "VNnPagXjtI85",
    "outputId": "5f0a0e19-625d-4348-ae2c-959322fc1628"
   },
   "outputs": [
    {
     "name": "stdout",
     "output_type": "stream",
     "text": [
      "PC seqs loaded: 106143\n",
      "NC seqs loaded: 48752\n",
      "2021-08-16 17:06:21 EDT\n"
     ]
    }
   ],
   "source": [
    "loader=GenCodeLoader()\n",
    "loader.set_label(1)\n",
    "loader.set_check_utr(False)  # not ORF-restricted\n",
    "pcdf=loader.load_file(PC_FULLPATH)\n",
    "print(\"PC seqs loaded:\",len(pcdf))\n",
    "loader.set_label(0)\n",
    "loader.set_check_utr(False)\n",
    "ncdf=loader.load_file(NC_FULLPATH)\n",
    "print(\"NC seqs loaded:\",len(ncdf))\n",
    "show_time()"
   ]
  },
  {
   "cell_type": "code",
   "execution_count": 6,
   "metadata": {
    "colab": {
     "base_uri": "https://localhost:8080/"
    },
    "id": "ShtPw_fGtI9E",
    "outputId": "7e2cef66-c962-4fc3-c907-eb2170fa5901"
   },
   "outputs": [
    {
     "name": "stdout",
     "output_type": "stream",
     "text": [
      "2021-08-16 17:06:21 EDT\n",
      "PC seqs pass filter: 88964\n",
      "NC seqs pass filter: 46919\n"
     ]
    }
   ],
   "source": [
    "def dataframe_length_filter(df,low_high):\n",
    "    (low,high)=low_high\n",
    "    # The pandas query language is strange, \n",
    "    # but this is MUCH faster than loop & drop.\n",
    "    return df[ (df['seqlen']>=low) & (df['seqlen']<=high) ]\n",
    "def dataframe_extract_sequence(df):\n",
    "    return df['sequence'].tolist()\n",
    "\n",
    "pc_all = dataframe_extract_sequence(\n",
    "    dataframe_length_filter(pcdf,PC_LENS))  # length-restricted\n",
    "nc_all = dataframe_extract_sequence(\n",
    "    dataframe_length_filter(ncdf,NC_LENS))\n",
    "\n",
    "show_time()\n",
    "print(\"PC seqs pass filter:\",len(pc_all))\n",
    "print(\"NC seqs pass filter:\",len(nc_all))\n",
    "# Garbage collection to reduce RAM footprint\n",
    "pcdf=None\n",
    "ncdf=None"
   ]
  },
  {
   "cell_type": "code",
   "execution_count": 7,
   "metadata": {},
   "outputs": [
    {
     "name": "stdout",
     "output_type": "stream",
     "text": [
      "Simulated sequence characteristics:\n",
      "PC seqs\n",
      "Average RNA length: 1546.957241131244\n",
      "Average ORF length: 785.6919203273234\n",
      "NC seqs\n",
      "Average RNA length: 1179.5947483961722\n",
      "Average ORF length: 203.12651591039878\n",
      "2021-08-16 17:06:39 EDT\n"
     ]
    }
   ],
   "source": [
    "# Describe the sequences\n",
    "def describe_sequences(list_of_seq):\n",
    "    oc = ORF_counter()\n",
    "    num_seq = len(list_of_seq)\n",
    "    rna_lens = np.zeros(num_seq)\n",
    "    orf_lens = np.zeros(num_seq)\n",
    "    for i in range(0,num_seq):\n",
    "        rna_len = len(list_of_seq[i])\n",
    "        rna_lens[i] = rna_len\n",
    "        oc.set_sequence(list_of_seq[i])\n",
    "        orf_len = oc.get_max_orf_len()\n",
    "        orf_lens[i] = orf_len\n",
    "    print (\"Average RNA length:\",rna_lens.mean())\n",
    "    print (\"Average ORF length:\",orf_lens.mean())\n",
    "    \n",
    "print(\"Simulated sequence characteristics:\")\n",
    "print(\"PC seqs\")\n",
    "describe_sequences(pc_all)\n",
    "print(\"NC seqs\")\n",
    "describe_sequences(nc_all)\n",
    "show_time()"
   ]
  },
  {
   "cell_type": "markdown",
   "metadata": {
    "id": "CCNh_FZaI_sv"
   },
   "source": [
    "## Data Prep"
   ]
  },
  {
   "cell_type": "code",
   "execution_count": 8,
   "metadata": {},
   "outputs": [
    {
     "name": "stdout",
     "output_type": "stream",
     "text": [
      "The first few shuffled labels:\n",
      "[0 1 1 1 1 1 1 1 1 1 1 0 1 0 0 0 1 1 1 1 0 1 0 1 1 1 1 0 1 1]\n",
      "2021-08-16 17:06:42 EDT\n"
     ]
    }
   ],
   "source": [
    "def combine_pos_and_neg(seqs1,seqs0):\n",
    "    len1=len(seqs1)\n",
    "    len0=len(seqs0)\n",
    "    L1=np.ones(len1,dtype=np.int8)\n",
    "    L0=np.zeros(len0,dtype=np.int8)\n",
    "    S1 = np.asarray(seqs1)\n",
    "    S0 = np.asarray(seqs0)\n",
    "    all_labels = np.concatenate((L1,L0))\n",
    "    all_seqs = np.concatenate((S1,S0))  \n",
    "    #X = shuffle(all_seqs,random_state=3) # sklearn.utils.shuffle \n",
    "    #y = shuffle(all_labels,random_state=3) # sklearn.utils.shuffle \n",
    "    X,y = shuffle(all_seqs,all_labels) # sklearn.utils.shuffle \n",
    "    return X,y\n",
    "Xseq,y=combine_pos_and_neg(pc_all,nc_all)\n",
    "print(\"The first few shuffled labels:\")\n",
    "print(y[:30])\n",
    "pc_all=None\n",
    "nc_all=None\n",
    "show_time()"
   ]
  },
  {
   "cell_type": "code",
   "execution_count": 9,
   "metadata": {},
   "outputs": [
    {
     "name": "stdout",
     "output_type": "stream",
     "text": [
      "{'A': 0.22705479452054794, 'C': 0.25616438356164384, 'G': 0.2732876712328767, 'T': 0.24349315068493152, 'AA': 0.05618362452894827, 'AC': 0.046248715313463515, 'AG': 0.07194244604316546, 'AT': 0.05275779376498801, 'CA': 0.07057211373758136, 'CC': 0.07297019527235354, 'CG': 0.03734155532716684, 'CT': 0.07536827680712573, 'GA': 0.05823912298732443, 'GC': 0.07982185680027407, 'GG': 0.08770126755738267, 'GT': 0.047619047619047616, 'TA': 0.0421377183967112, 'TC': 0.05721137375813635, 'TG': 0.07605344295991778, 'TT': 0.06783144912641316, 'AAA': 0.017477724468814255, 'AAC': 0.008910212474297465, 'AAG': 0.015078821110349555, 'AAT': 0.014736120630568882, 'ACA': 0.013708019191226868, 'ACC': 0.01405071967100754, 'ACG': 0.0054832076764907475, 'ACT': 0.013022618231665525, 'AGA': 0.01782042494859493, 'AGC': 0.021590130226182315, 'AGG': 0.020904729266620972, 'AGT': 0.011651816312542838, 'ATA': 0.01233721727210418, 'ATC': 0.008910212474297465, 'ATG': 0.01405071967100754, 'ATT': 0.017135023989033583, 'CAA': 0.01028101439342015, 'CAC': 0.01610692254969157, 'CAG': 0.030843043180260453, 'CAT': 0.013365318711446196, 'CCA': 0.019533927347498287, 'CCC': 0.016792323509252912, 'CCG': 0.01439342015078821, 'CCT': 0.02227553118574366, 'CGA': 0.0037697052775873888, 'CGC': 0.015421521590130226, 'CGG': 0.013708019191226868, 'CGT': 0.004455106237148732, 'CTA': 0.009938313913639479, 'CTC': 0.02021932830705963, 'CTG': 0.027758738862234407, 'CTT': 0.017477724468814255, 'GAA': 0.015421521590130226, 'GAC': 0.013365318711446196, 'GAG': 0.018505825908156272, 'GAT': 0.010966415352981495, 'GCA': 0.023303632625085675, 'GCC': 0.023646333104866347, 'GCG': 0.013022618231665525, 'GCT': 0.019876627827278958, 'GGA': 0.02021932830705963, 'GGC': 0.027073337902673064, 'GGG': 0.027416038382453736, 'GGT': 0.013022618231665525, 'GTA': 0.007196710075394105, 'GTC': 0.011994516792323509, 'GTG': 0.017135023989033583, 'GTT': 0.011309115832762166, 'TAA': 0.013022618231665525, 'TAC': 0.007882111034955449, 'TAG': 0.0075394105551747775, 'TAT': 0.013708019191226868, 'TCA': 0.01405071967100754, 'TCC': 0.018505825908156272, 'TCG': 0.004455106237148732, 'TCT': 0.02021932830705963, 'TGA': 0.01644962302947224, 'TGC': 0.015421521590130226, 'TGG': 0.02570253598355038, 'TGT': 0.018505825908156272, 'TTA': 0.012679917751884852, 'TTC': 0.01610692254969157, 'TTG': 0.017135023989033583, 'TTT': 0.02193283070596299}\n",
      "{'A': 0.21247947454844007, 'C': 0.290311986863711, 'G': 0.3238095238095238, 'T': 0.17339901477832512, 'AA': 0.03810775295663601, 'AC': 0.03777923784494087, 'AG': 0.10906701708278581, 'AT': 0.027266754270696452, 'CA': 0.07917214191852825, 'CC': 0.1107095926412615, 'CG': 0.03252299605781866, 'CT': 0.06800262812089355, 'GA': 0.08278580814717477, 'GC': 0.08837056504599211, 'GG': 0.10775295663600526, 'GT': 0.0450065703022339, 'TA': 0.012483574244415242, 'TC': 0.05354796320630749, 'TG': 0.07424441524310119, 'TT': 0.03318002628120893, 'AAA': 0.005915215248110417, 'AAC': 0.00558659217877095, 'AAG': 0.020374630299046993, 'AAT': 0.006243838317449885, 'ACA': 0.0111731843575419, 'ACC': 0.015445284258954979, 'ACG': 0.0023003614853762734, 'ACT': 0.008872822872165627, 'AGA': 0.025303976339139007, 'AGC': 0.03483404534998357, 'AGG': 0.037134406835359846, 'AGT': 0.011830430496220835, 'ATA': 0.0013144922773578706, 'ATC': 0.00558659217877095, 'ATG': 0.013802168912257641, 'ATT': 0.006572461386789352, 'CAA': 0.012159053565560303, 'CAC': 0.01511666118961551, 'CAG': 0.04173512980611239, 'CAT': 0.009858692080184028, 'CCA': 0.03319093000328623, 'CCC': 0.037134406835359846, 'CCG': 0.016102530397633912, 'CCT': 0.024318107131120606, 'CGA': 0.0052579691094314825, 'CGC': 0.006572461386789352, 'CGG': 0.014130791981597108, 'CGT': 0.006572461386789352, 'CTA': 0.0023003614853762734, 'CTC': 0.021360499507065395, 'CTG': 0.03187643772592836, 'CTT': 0.01248767663489977, 'GAA': 0.01643115346697338, 'GAC': 0.014130791981597108, 'GAG': 0.045021360499507064, 'GAT': 0.007229707525468288, 'GCA': 0.020046007229707525, 'GCC': 0.03910614525139665, 'GCG': 0.009530069010844562, 'GCT': 0.019717384160368057, 'GGA': 0.03549129148866251, 'GGC': 0.03023332237923102, 'GGG': 0.028590207032533684, 'GGT': 0.013473545842918173, 'GTA': 0.00558659217877095, 'GTC': 0.012159053565560303, 'GTG': 0.020374630299046993, 'GTT': 0.0069010844561288205, 'TAA': 0.003614853762734144, 'TAC': 0.0029576076240552087, 'TAG': 0.001971738416036806, 'TAT': 0.003943476832073612, 'TCA': 0.014788038120276044, 'TCC': 0.019060138021689123, 'TCG': 0.004600722970752547, 'TCT': 0.01511666118961551, 'TGA': 0.01643115346697338, 'TGC': 0.01675977653631285, 'TGG': 0.027932960893854747, 'TGT': 0.013144922773578704, 'TTA': 0.003286230693394676, 'TTC': 0.014459415050936576, 'TTG': 0.00821557673348669, 'TTT': 0.007229707525468288}\n",
      "{'A': 0.2991162474507138, 'C': 0.2355540448674371, 'G': 0.18592794017675052, 'T': 0.2794017675050986, 'AA': 0.0999659979598776, 'AC': 0.060183611016661, 'AG': 0.06596395783747025, 'AT': 0.0731043862631758, 'CA': 0.08262495749744984, 'CC': 0.06732403944236655, 'CG': 0.014280856851411085, 'CT': 0.07106426385583135, 'GA': 0.05440326419585175, 'GC': 0.04182250935056103, 'GG': 0.04828289697381843, 'GT': 0.04148248894933696, 'TA': 0.06222373342400544, 'TC': 0.06630397823869433, 'TG': 0.05746344780686841, 'TT': 0.09350561033662019, 'AAA': 0.03605442176870748, 'AAC': 0.018367346938775512, 'AAG': 0.022108843537414966, 'AAT': 0.02346938775510204, 'ACA': 0.02142857142857143, 'ACC': 0.02074829931972789, 'ACG': 0.003401360544217687, 'ACT': 0.014625850340136054, 'AGA': 0.019387755102040816, 'AGC': 0.013265306122448979, 'AGG': 0.01870748299319728, 'AGT': 0.014625850340136054, 'ATA': 0.02074829931972789, 'ATC': 0.012585034013605442, 'ATG': 0.017006802721088437, 'ATT': 0.022789115646258504, 'CAA': 0.02142857142857143, 'CAC': 0.018367346938775512, 'CAG': 0.022108843537414966, 'CAT': 0.02074829931972789, 'CCA': 0.026530612244897958, 'CCC': 0.015306122448979591, 'CCG': 0.006462585034013605, 'CCT': 0.01904761904761905, 'CGA': 0.002380952380952381, 'CGC': 0.005782312925170068, 'CGG': 0.004421768707482994, 'CGT': 0.0017006802721088435, 'CTA': 0.014965986394557823, 'CTC': 0.02108843537414966, 'CTG': 0.017006802721088437, 'CTT': 0.01802721088435374, 'GAA': 0.01870748299319728, 'GAC': 0.011904761904761904, 'GAG': 0.011904761904761904, 'GAT': 0.011904761904761904, 'GCA': 0.013945578231292517, 'GCC': 0.013265306122448979, 'GCG': 0.0020408163265306124, 'GCT': 0.012585034013605442, 'GGA': 0.01802721088435374, 'GGC': 0.012585034013605442, 'GGG': 0.009863945578231292, 'GGT': 0.007823129251700681, 'GTA': 0.008503401360544218, 'GTC': 0.009183673469387756, 'GTG': 0.01054421768707483, 'GTT': 0.013265306122448979, 'TAA': 0.023809523809523808, 'TAC': 0.011564625850340135, 'TAG': 0.009863945578231292, 'TAT': 0.017006802721088437, 'TCA': 0.02074829931972789, 'TCC': 0.01802721088435374, 'TCG': 0.002380952380952381, 'TCT': 0.024829931972789116, 'TGA': 0.014625850340136054, 'TGC': 0.01020408163265306, 'TGG': 0.015306122448979591, 'TGT': 0.017346938775510204, 'TTA': 0.01802721088435374, 'TTC': 0.02346938775510204, 'TTG': 0.012585034013605442, 'TTT': 0.03945578231292517}\n",
      "First few K-mer frequency matrices:\n",
      "[[0.22705479 0.25616438 0.27328767 0.24349315 0.05618362 0.04624872\n",
      "  0.07194245 0.05275779 0.07057211 0.0729702  0.03734156 0.07536828\n",
      "  0.05823912 0.07982186 0.08770127 0.04761905 0.04213772 0.05721137\n",
      "  0.07605344 0.06783145 0.01747772 0.00891021 0.01507882 0.01473612\n",
      "  0.01370802 0.01405072 0.00548321 0.01302262 0.01782042 0.02159013\n",
      "  0.02090473 0.01165182 0.01233722 0.00891021 0.01405072 0.01713502\n",
      "  0.01028101 0.01610692 0.03084304 0.01336532 0.01953393 0.01679232\n",
      "  0.01439342 0.02227553 0.00376971 0.01542152 0.01370802 0.00445511\n",
      "  0.00993831 0.02021933 0.02775874 0.01747772 0.01542152 0.01336532\n",
      "  0.01850583 0.01096642 0.02330363 0.02364633 0.01302262 0.01987663\n",
      "  0.02021933 0.02707334 0.02741604 0.01302262 0.00719671 0.01199452\n",
      "  0.01713502 0.01130912 0.01302262 0.00788211 0.00753941 0.01370802\n",
      "  0.01405072 0.01850583 0.00445511 0.02021933 0.01644962 0.01542152\n",
      "  0.02570254 0.01850583 0.01267992 0.01610692 0.01713502 0.02193283]\n",
      " [0.21247947 0.29031199 0.32380952 0.17339901 0.03810775 0.03777924\n",
      "  0.10906702 0.02726675 0.07917214 0.11070959 0.032523   0.06800263\n",
      "  0.08278581 0.08837057 0.10775296 0.04500657 0.01248357 0.05354796\n",
      "  0.07424442 0.03318003 0.00591522 0.00558659 0.02037463 0.00624384\n",
      "  0.01117318 0.01544528 0.00230036 0.00887282 0.02530398 0.03483405\n",
      "  0.03713441 0.01183043 0.00131449 0.00558659 0.01380217 0.00657246\n",
      "  0.01215905 0.01511666 0.04173513 0.00985869 0.03319093 0.03713441\n",
      "  0.01610253 0.02431811 0.00525797 0.00657246 0.01413079 0.00657246\n",
      "  0.00230036 0.0213605  0.03187644 0.01248768 0.01643115 0.01413079\n",
      "  0.04502136 0.00722971 0.02004601 0.03910615 0.00953007 0.01971738\n",
      "  0.03549129 0.03023332 0.02859021 0.01347355 0.00558659 0.01215905\n",
      "  0.02037463 0.00690108 0.00361485 0.00295761 0.00197174 0.00394348\n",
      "  0.01478804 0.01906014 0.00460072 0.01511666 0.01643115 0.01675978\n",
      "  0.02793296 0.01314492 0.00328623 0.01445942 0.00821558 0.00722971]\n",
      " [0.29911625 0.23555404 0.18592794 0.27940177 0.099966   0.06018361\n",
      "  0.06596396 0.07310439 0.08262496 0.06732404 0.01428086 0.07106426\n",
      "  0.05440326 0.04182251 0.0482829  0.04148249 0.06222373 0.06630398\n",
      "  0.05746345 0.09350561 0.03605442 0.01836735 0.02210884 0.02346939\n",
      "  0.02142857 0.0207483  0.00340136 0.01462585 0.01938776 0.01326531\n",
      "  0.01870748 0.01462585 0.0207483  0.01258503 0.0170068  0.02278912\n",
      "  0.02142857 0.01836735 0.02210884 0.0207483  0.02653061 0.01530612\n",
      "  0.00646259 0.01904762 0.00238095 0.00578231 0.00442177 0.00170068\n",
      "  0.01496599 0.02108844 0.0170068  0.01802721 0.01870748 0.01190476\n",
      "  0.01190476 0.01190476 0.01394558 0.01326531 0.00204082 0.01258503\n",
      "  0.01802721 0.01258503 0.00986395 0.00782313 0.0085034  0.00918367\n",
      "  0.01054422 0.01326531 0.02380952 0.01156463 0.00986395 0.0170068\n",
      "  0.0207483  0.01802721 0.00238095 0.02482993 0.01462585 0.01020408\n",
      "  0.01530612 0.01734694 0.01802721 0.02346939 0.01258503 0.03945578]]\n",
      "2021-08-16 17:07:20 EDT\n"
     ]
    }
   ],
   "source": [
    "def seqs_to_kmer_freqs(seqs,max_K):\n",
    "    tool = KmerTools()  # from SimTools\n",
    "    collection = []\n",
    "    debug = 0\n",
    "    for seq in seqs:\n",
    "        counts = tool.make_dict_upto_K(max_K)\n",
    "        # Last param should be True when using Harvester.\n",
    "        counts = tool.update_count_one_K(counts,max_K,seq,True)\n",
    "        # Given counts for K=3, Harvester fills in counts for K=1,2.\n",
    "        counts = tool.harvest_counts_from_K(counts,max_K)\n",
    "        fdict = tool.count_to_frequency(counts,max_K)\n",
    "        freqs = list(fdict.values())\n",
    "        collection.append(freqs)\n",
    "        if (debug<3):\n",
    "            print(fdict)\n",
    "            debug += 1;\n",
    "    return np.asarray(collection)\n",
    "Xfrq=seqs_to_kmer_freqs(Xseq,MAX_K)\n",
    "print(\"First few K-mer frequency matrices:\")\n",
    "print(Xfrq[:3])\n",
    "Xseq = None\n",
    "show_time()"
   ]
  },
  {
   "cell_type": "code",
   "execution_count": 10,
   "metadata": {},
   "outputs": [
    {
     "name": "stdout",
     "output_type": "stream",
     "text": [
      "Training set size= 2000 = 2000\n",
      "Reserved test set size= 133883 = 133883\n",
      "2021-08-16 17:07:20 EDT\n"
     ]
    }
   ],
   "source": [
    "# Assume X and y were shuffled.\n",
    "train_size=PC_TRAINS+NC_TRAINS\n",
    "X_train=Xfrq[:train_size] \n",
    "X_test=Xfrq[train_size:]\n",
    "y_train=y[:train_size] \n",
    "y_test=y[train_size:]\n",
    "print(\"Training set size=\",len(X_train),\"=\",len(y_train))\n",
    "print(\"Reserved test set size=\",len(X_test),\"=\",len(y_test))\n",
    "Xfrq=None\n",
    "y=None\n",
    "show_time()"
   ]
  },
  {
   "cell_type": "markdown",
   "metadata": {
    "id": "dJ4XhrzGI_s-"
   },
   "source": [
    "## Load a trained neural network"
   ]
  },
  {
   "cell_type": "code",
   "execution_count": 11,
   "metadata": {
    "colab": {
     "base_uri": "https://localhost:8080/",
     "height": 1000
    },
    "id": "BM6UjBzrrEAV",
    "outputId": "4d7ffa1e-f349-40ef-ee05-a3a8b038c3c7"
   },
   "outputs": [
    {
     "name": "stdout",
     "output_type": "stream",
     "text": [
      "2021-08-16 17:07:20 EDT\n"
     ]
    },
    {
     "name": "stderr",
     "output_type": "stream",
     "text": [
      "2021-08-16 17:07:20.290637: I tensorflow/stream_executor/platform/default/dso_loader.cc:53] Successfully opened dynamic library libcuda.so.1\n",
      "2021-08-16 17:07:20.361037: I tensorflow/stream_executor/cuda/cuda_gpu_executor.cc:937] successful NUMA node read from SysFS had negative value (-1), but there must be at least one NUMA node, so returning NUMA node zero\n",
      "2021-08-16 17:07:20.363064: I tensorflow/core/common_runtime/gpu/gpu_device.cc:1733] Found device 0 with properties: \n",
      "pciBusID: 0000:02:00.0 name: NVIDIA GeForce RTX 2080 Ti computeCapability: 7.5\n",
      "coreClock: 1.545GHz coreCount: 68 deviceMemorySize: 10.75GiB deviceMemoryBandwidth: 573.69GiB/s\n",
      "2021-08-16 17:07:20.363232: I tensorflow/stream_executor/platform/default/dso_loader.cc:53] Successfully opened dynamic library libcudart.so.11.0\n",
      "2021-08-16 17:07:20.381322: I tensorflow/stream_executor/platform/default/dso_loader.cc:53] Successfully opened dynamic library libcublas.so.11\n",
      "2021-08-16 17:07:20.381598: I tensorflow/stream_executor/platform/default/dso_loader.cc:53] Successfully opened dynamic library libcublasLt.so.11\n",
      "2021-08-16 17:07:20.389401: I tensorflow/stream_executor/platform/default/dso_loader.cc:53] Successfully opened dynamic library libcufft.so.10\n",
      "2021-08-16 17:07:20.391444: I tensorflow/stream_executor/platform/default/dso_loader.cc:53] Successfully opened dynamic library libcurand.so.10\n",
      "2021-08-16 17:07:20.393361: I tensorflow/stream_executor/platform/default/dso_loader.cc:53] Successfully opened dynamic library libcusolver.so.11\n",
      "2021-08-16 17:07:20.397070: I tensorflow/stream_executor/platform/default/dso_loader.cc:53] Successfully opened dynamic library libcusparse.so.11\n",
      "2021-08-16 17:07:20.398706: I tensorflow/stream_executor/platform/default/dso_loader.cc:53] Successfully opened dynamic library libcudnn.so.8\n",
      "2021-08-16 17:07:20.398896: I tensorflow/stream_executor/cuda/cuda_gpu_executor.cc:937] successful NUMA node read from SysFS had negative value (-1), but there must be at least one NUMA node, so returning NUMA node zero\n",
      "2021-08-16 17:07:20.399451: I tensorflow/stream_executor/cuda/cuda_gpu_executor.cc:937] successful NUMA node read from SysFS had negative value (-1), but there must be at least one NUMA node, so returning NUMA node zero\n",
      "2021-08-16 17:07:20.400288: I tensorflow/core/common_runtime/gpu/gpu_device.cc:1871] Adding visible gpu devices: 0\n",
      "2021-08-16 17:07:20.403623: I tensorflow/core/platform/cpu_feature_guard.cc:142] This TensorFlow binary is optimized with oneAPI Deep Neural Network Library (oneDNN) to use the following CPU instructions in performance-critical operations:  AVX2 AVX512F FMA\n",
      "To enable them in other operations, rebuild TensorFlow with the appropriate compiler flags.\n",
      "2021-08-16 17:07:20.404891: I tensorflow/stream_executor/cuda/cuda_gpu_executor.cc:937] successful NUMA node read from SysFS had negative value (-1), but there must be at least one NUMA node, so returning NUMA node zero\n",
      "2021-08-16 17:07:20.405200: I tensorflow/core/common_runtime/gpu/gpu_device.cc:1733] Found device 0 with properties: \n",
      "pciBusID: 0000:02:00.0 name: NVIDIA GeForce RTX 2080 Ti computeCapability: 7.5\n",
      "coreClock: 1.545GHz coreCount: 68 deviceMemorySize: 10.75GiB deviceMemoryBandwidth: 573.69GiB/s\n",
      "2021-08-16 17:07:20.405247: I tensorflow/stream_executor/cuda/cuda_gpu_executor.cc:937] successful NUMA node read from SysFS had negative value (-1), but there must be at least one NUMA node, so returning NUMA node zero\n",
      "2021-08-16 17:07:20.405506: I tensorflow/stream_executor/cuda/cuda_gpu_executor.cc:937] successful NUMA node read from SysFS had negative value (-1), but there must be at least one NUMA node, so returning NUMA node zero\n",
      "2021-08-16 17:07:20.405746: I tensorflow/core/common_runtime/gpu/gpu_device.cc:1871] Adding visible gpu devices: 0\n",
      "2021-08-16 17:07:20.406013: I tensorflow/stream_executor/platform/default/dso_loader.cc:53] Successfully opened dynamic library libcudart.so.11.0\n",
      "2021-08-16 17:07:21.017817: I tensorflow/core/common_runtime/gpu/gpu_device.cc:1258] Device interconnect StreamExecutor with strength 1 edge matrix:\n",
      "2021-08-16 17:07:21.017837: I tensorflow/core/common_runtime/gpu/gpu_device.cc:1264]      0 \n",
      "2021-08-16 17:07:21.017840: I tensorflow/core/common_runtime/gpu/gpu_device.cc:1277] 0:   N \n",
      "2021-08-16 17:07:21.018069: I tensorflow/stream_executor/cuda/cuda_gpu_executor.cc:937] successful NUMA node read from SysFS had negative value (-1), but there must be at least one NUMA node, so returning NUMA node zero\n",
      "2021-08-16 17:07:21.018291: I tensorflow/stream_executor/cuda/cuda_gpu_executor.cc:937] successful NUMA node read from SysFS had negative value (-1), but there must be at least one NUMA node, so returning NUMA node zero\n",
      "2021-08-16 17:07:21.018479: I tensorflow/stream_executor/cuda/cuda_gpu_executor.cc:937] successful NUMA node read from SysFS had negative value (-1), but there must be at least one NUMA node, so returning NUMA node zero\n",
      "2021-08-16 17:07:21.018781: I tensorflow/core/common_runtime/gpu/gpu_device.cc:1418] Created TensorFlow device (/job:localhost/replica:0/task:0/device:GPU:0 with 311 MB memory) -> physical GPU (device: 0, name: NVIDIA GeForce RTX 2080 Ti, pci bus id: 0000:02:00.0, compute capability: 7.5)\n"
     ]
    },
    {
     "name": "stdout",
     "output_type": "stream",
     "text": [
      "Model: \"sequential_1\"\n",
      "_________________________________________________________________\n",
      "Layer (type)                 Output Shape              Param #   \n",
      "=================================================================\n",
      "dense_4 (Dense)              (None, 32)                2720      \n",
      "_________________________________________________________________\n",
      "dropout_3 (Dropout)          (None, 32)                0         \n",
      "_________________________________________________________________\n",
      "dense_5 (Dense)              (None, 32)                1056      \n",
      "_________________________________________________________________\n",
      "dropout_4 (Dropout)          (None, 32)                0         \n",
      "_________________________________________________________________\n",
      "dense_6 (Dense)              (None, 32)                1056      \n",
      "_________________________________________________________________\n",
      "dropout_5 (Dropout)          (None, 32)                0         \n",
      "_________________________________________________________________\n",
      "dense_7 (Dense)              (None, 1)                 33        \n",
      "=================================================================\n",
      "Total params: 4,865\n",
      "Trainable params: 4,865\n",
      "Non-trainable params: 0\n",
      "_________________________________________________________________\n",
      "None\n"
     ]
    }
   ],
   "source": [
    "show_time()\n",
    "model = load_model(BESTMODELPATH)\n",
    "print(model.summary())"
   ]
  },
  {
   "cell_type": "markdown",
   "metadata": {
    "id": "OsytC9VUrEAX"
   },
   "source": [
    "## Test the neural network"
   ]
  },
  {
   "cell_type": "code",
   "execution_count": 12,
   "metadata": {
    "id": "8hIqe1r1rEAa"
   },
   "outputs": [],
   "source": [
    "def show_test_AUC(model,X,y):\n",
    "    ns_probs = [0 for _ in range(len(y))]\n",
    "    bm_probs = model.predict(X)\n",
    "    ns_auc = roc_auc_score(y, ns_probs)\n",
    "    bm_auc = roc_auc_score(y, bm_probs)\n",
    "    ns_fpr, ns_tpr, _ = roc_curve(y, ns_probs)\n",
    "    bm_fpr, bm_tpr, _ = roc_curve(y, bm_probs)\n",
    "    plt.plot(ns_fpr, ns_tpr, linestyle='--', label='Guess, auc=%.4f'%ns_auc)\n",
    "    plt.plot(bm_fpr, bm_tpr, marker='.', label='Model, auc=%.4f'%bm_auc)\n",
    "    plt.title('ROC')\n",
    "    plt.xlabel('False Positive Rate')\n",
    "    plt.ylabel('True Positive Rate')\n",
    "    plt.legend()\n",
    "    plt.show()\n",
    "    print(\"%s: %.2f%%\" %('AUC',bm_auc*100.0))\n",
    "def show_test_accuracy(model,X,y):\n",
    "    scores = model.evaluate(X, y, verbose=0)\n",
    "    print(\"%s: %.2f%%\" % (model.metrics_names[1], scores[1]*100))\n"
   ]
  },
  {
   "cell_type": "code",
   "execution_count": 13,
   "metadata": {
    "colab": {
     "base_uri": "https://localhost:8080/",
     "height": 469
    },
    "id": "tGf2PcxRC8jT",
    "outputId": "489f5c26-0ff9-4f02-f078-39e3abcc51ba"
   },
   "outputs": [
    {
     "name": "stdout",
     "output_type": "stream",
     "text": [
      "Accuracy on test data.\n",
      "2021-08-16 17:07:21 EDT\n"
     ]
    },
    {
     "name": "stderr",
     "output_type": "stream",
     "text": [
      "2021-08-16 17:07:21.422965: I tensorflow/compiler/mlir/mlir_graph_optimization_pass.cc:176] None of the MLIR Optimization Passes are enabled (registered 2)\n",
      "2021-08-16 17:07:21.445841: I tensorflow/core/platform/profile_utils/cpu_utils.cc:114] CPU Frequency: 2496000000 Hz\n",
      "2021-08-16 17:07:23.732115: I tensorflow/stream_executor/platform/default/dso_loader.cc:53] Successfully opened dynamic library libcublas.so.11\n",
      "2021-08-16 17:07:24.297298: I tensorflow/stream_executor/platform/default/dso_loader.cc:53] Successfully opened dynamic library libcublasLt.so.11\n"
     ]
    },
    {
     "data": {
      "image/png": "[encoded data removed]",
      "text/plain": [
       "<Figure size 432x288 with 1 Axes>"
      ]
     },
     "metadata": {
      "needs_background": "light"
     },
     "output_type": "display_data"
    },
    {
     "name": "stdout",
     "output_type": "stream",
     "text": [
      "AUC: 70.49%\n",
      "accuracy: 65.18%\n",
      "2021-08-16 17:07:29 EDT\n"
     ]
    }
   ],
   "source": [
    "print(\"Accuracy on test data.\")\n",
    "show_time()\n",
    "show_test_AUC(model,X_test,y_test)\n",
    "show_test_accuracy(model,X_test,y_test)\n",
    "show_time()"
   ]
  },
  {
   "cell_type": "code",
   "execution_count": null,
   "metadata": {
    "id": "-cSLTNfzrEAo"
   },
   "outputs": [],
   "source": []
  }
 ],
 "metadata": {
  "accelerator": "GPU",
  "colab": {
   "collapsed_sections": [],
   "name": "ORF_MLP_122.ipynb",
   "provenance": []
  },
  "kernelspec": {
   "display_name": "Python 3 (ipykernel)",
   "language": "python",
   "name": "python3"
  },
  "language_info": {
   "codemirror_mode": {
    "name": "ipython",
    "version": 3
   },
   "file_extension": ".py",
   "mimetype": "text/x-python",
   "name": "python",
   "nbconvert_exporter": "python",
   "pygments_lexer": "ipython3",
   "version": "3.8.10"
  }
 },
 "nbformat": 4,
 "nbformat_minor": 1
}
