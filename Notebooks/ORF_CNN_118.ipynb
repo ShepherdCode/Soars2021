{
 "cells": [
  {
   "cell_type": "markdown",
   "metadata": {
    "id": "0asdcdunj2Tx"
   },
   "source": [
    "# ORF recognition by CNN\n",
    "\n",
    "Use variable number of bases between START and STOP. Thus, ncRNA will have its STOP out-of-frame or too close to the START, and pcRNA will have its STOP in-frame and far from the START."
   ]
  },
  {
   "cell_type": "code",
   "execution_count": 27,
   "metadata": {
    "colab": {
     "base_uri": "https://localhost:8080/",
     "height": 36
    },
    "id": "QP1VTRNQj2UO",
    "outputId": "67033c11-3cad-4320-b542-083a0e577a3b"
   },
   "outputs": [
    {
     "data": {
      "application/vnd.google.colaboratory.intrinsic+json": {
       "type": "string"
      },
      "text/plain": [
       "'2021-06-11 19:47:36 UTC'"
      ]
     },
     "execution_count": 27,
     "metadata": {
      "tags": []
     },
     "output_type": "execute_result"
    }
   ],
   "source": [
    "import time \n",
    "t = time.time()\n",
    "time.strftime('%Y-%m-%d %H:%M:%S %Z', time.localtime(t))"
   ]
  },
  {
   "cell_type": "code",
   "execution_count": 28,
   "metadata": {
    "id": "Nhz4GKonj2T_"
   },
   "outputs": [],
   "source": [
    "PC_SEQUENCES=4000   # how many protein-coding sequences\n",
    "NC_SEQUENCES=4000   # how many non-coding sequences\n",
    "PC_TESTS=1000\n",
    "NC_TESTS=1000\n",
    "RNA_LEN=36            # how long is each sequence\n",
    "CDS_LEN=18            # min CDS len to be coding\n",
    "ALPHABET=4          # how many different letters are possible\n",
    "INPUT_SHAPE_2D = (RNA_LEN,ALPHABET,1) # Conv2D needs 3D inputs\n",
    "INPUT_SHAPE = (RNA_LEN,ALPHABET) # Conv1D needs 2D inputs\n",
    "FILTERS = 16   # how many different patterns the model looks for\n",
    "NEURONS = 16\n",
    "DROP_RATE = 0.4\n",
    "WIDTH = 3   # how wide each pattern is, in bases\n",
    "STRIDE_2D = (1,1)  # For Conv2D how far in each direction\n",
    "STRIDE = 1 # For Conv1D, how far between pattern matches, in bases\n",
    "EPOCHS=25  # how many times to train on all the data\n",
    "SPLITS=5  # SPLITS=3 means train on 2/3 and validate on 1/3 \n",
    "FOLDS=5  # train the model this many times (range 1 to SPLITS)"
   ]
  },
  {
   "cell_type": "code",
   "execution_count": 29,
   "metadata": {
    "colab": {
     "base_uri": "https://localhost:8080/"
    },
    "id": "lr7q90rxj2UE",
    "outputId": "3bf9474b-6ca0-4b53-8865-15628af347ab"
   },
   "outputs": [
    {
     "name": "stdout",
     "output_type": "stream",
     "text": [
      "On Google CoLab, mount cloud-local file, get our code from GitHub.\n"
     ]
    }
   ],
   "source": [
    "import sys\n",
    "try:\n",
    "    from google.colab import drive\n",
    "    IN_COLAB = True\n",
    "    print(\"On Google CoLab, mount cloud-local file, get our code from GitHub.\")\n",
    "    PATH='/content/drive/'\n",
    "    #drive.mount(PATH,force_remount=True)  # hardly ever need this\n",
    "    #drive.mount(PATH)    # Google will require login credentials\n",
    "    DATAPATH=PATH+'My Drive/data/'  # must end in \"/\"\n",
    "    import requests\n",
    "    r = requests.get('https://raw.githubusercontent.com/ShepherdCode/Soars2021/master/SimTools/RNA_gen.py')\n",
    "    with open('RNA_gen.py', 'w') as f:\n",
    "        f.write(r.text)  \n",
    "    from RNA_gen import *\n",
    "    r = requests.get('https://raw.githubusercontent.com/ShepherdCode/Soars2021/master/SimTools/RNA_describe.py')\n",
    "    with open('RNA_describe.py', 'w') as f:\n",
    "        f.write(r.text)  \n",
    "    from RNA_describe import ORF_counter\n",
    "    r = requests.get('https://raw.githubusercontent.com/ShepherdCode/Soars2021/master/SimTools/RNA_prep.py')\n",
    "    with open('RNA_prep.py', 'w') as f:\n",
    "        f.write(r.text)  \n",
    "    from RNA_prep import *\n",
    "except:\n",
    "    print(\"CoLab not working. On my PC, use relative paths.\")\n",
    "    IN_COLAB = False\n",
    "    DATAPATH='data/'  # must end in \"/\"\n",
    "    sys.path.append(\"..\") # append parent dir in order to use sibling dirs\n",
    "    from SimTools.RNA_gen import *\n",
    "    from SimTools.RNA_describe import ORF_counter\n",
    "    from SimTools.RNA_prep import *\n",
    "\n",
    "MODELPATH=\"BestModel\"  # saved on cloud instance and lost after logout\n",
    "#MODELPATH=DATAPATH+MODELPATH  # saved on Google Drive but requires login\n",
    "\n",
    "if not assert_imported_RNA_gen():\n",
    "    print(\"ERROR: Cannot use RNA_gen.\")\n",
    "if not assert_imported_RNA_prep():\n",
    "    print(\"ERROR: Cannot use RNA_prep.\")"
   ]
  },
  {
   "cell_type": "code",
   "execution_count": 30,
   "metadata": {
    "id": "EGDXH8Uwj2UM"
   },
   "outputs": [],
   "source": [
    "from os import listdir\n",
    "import csv\n",
    "from zipfile import ZipFile\n",
    "\n",
    "import numpy as np\n",
    "import pandas as pd\n",
    "from scipy import stats  # mode\n",
    "\n",
    "from sklearn.preprocessing import StandardScaler\n",
    "from sklearn.model_selection import KFold\n",
    "from sklearn.model_selection import cross_val_score\n",
    "\n",
    "from keras.models import Sequential\n",
    "from keras.layers import Dense,Embedding,Dropout\n",
    "from keras.layers import Conv1D,Conv2D\n",
    "from keras.layers import Flatten,MaxPooling1D,MaxPooling2D\n",
    "from keras.losses import BinaryCrossentropy\n",
    "# tf.keras.losses.BinaryCrossentropy\n",
    "\n",
    "import matplotlib.pyplot as plt\n",
    "from matplotlib import colors\n",
    "mycmap = colors.ListedColormap(['red','blue'])  # list color for label 0 then 1\n",
    "np.set_printoptions(precision=2)\n"
   ]
  },
  {
   "cell_type": "code",
   "execution_count": 31,
   "metadata": {
    "colab": {
     "base_uri": "https://localhost:8080/"
    },
    "id": "CUOG_jEvGtOm",
    "outputId": "97e58a26-ad52-45b5-880a-4a72c25cf7e8"
   },
   "outputs": [
    {
     "name": "stdout",
     "output_type": "stream",
     "text": [
      "It took 31 trials to reach 10 per class.\n",
      "It took 13901 trials to reach 5000 per class.\n",
      "Use 5000 PC seqs\n",
      "Use 5000 NC seqs\n"
     ]
    }
   ],
   "source": [
    "import random\n",
    "def partition_random_sequences(goal_per_class):\n",
    "    pc_seqs=[]\n",
    "    nc_seqs=[]\n",
    "    oc = ORF_counter()\n",
    "    trials = 0\n",
    "    pc_cnt = 0\n",
    "    nc_cnt = 0\n",
    "    bases=['A','C','G','T']\n",
    "    while pc_cnt<goal_per_class or nc_cnt<goal_per_class:\n",
    "        trials += 1        \n",
    "        between_bases = random.randint(0,RNA_LEN-6) \n",
    "        utr5_bases = (RNA_LEN - (between_bases + 6)) // 2\n",
    "        utr3_bases = RNA_LEN - (utr5_bases + (between_bases+6))\n",
    "        one_seq  = \"\".join(random.choices(bases,k=utr5_bases)) \n",
    "        one_seq += 'ATG'    \n",
    "        one_seq += \"\".join(random.choices(bases,k=between_bases)) \n",
    "        random_stop = random.choice(['TAA','TAG','TGA']) # random frame\n",
    "        one_seq += random_stop\n",
    "        one_seq += \"\".join(random.choices(bases,k=utr3_bases))  \n",
    "        if len(one_seq) != RNA_LEN:\n",
    "            print(\"WRONG LENGTH:\",len(one_seq),utr5_bases,between_bases,utr3_bases)\n",
    "        oc.set_sequence(one_seq)\n",
    "        cds_len = oc.get_max_cds_len() + 3\n",
    "        if cds_len >= CDS_LEN and pc_cnt<goal_per_class:\n",
    "            pc_cnt += 1\n",
    "            pc_seqs.append(one_seq)\n",
    "        elif cds_len < CDS_LEN and nc_cnt<goal_per_class:\n",
    "            nc_cnt += 1\n",
    "            nc_seqs.append(one_seq)\n",
    "    print (\"It took %d trials to reach %d per class.\"%(trials,goal_per_class))\n",
    "    return pc_seqs,nc_seqs\n",
    "pc_all,nc_all=partition_random_sequences(10)  # just testing\n",
    "pc_all,nc_all=partition_random_sequences(PC_SEQUENCES+PC_TESTS)\n",
    "print(\"Use\",len(pc_all),\"PC seqs\")\n",
    "print(\"Use\",len(nc_all),\"NC seqs\")"
   ]
  },
  {
   "cell_type": "code",
   "execution_count": 32,
   "metadata": {
    "colab": {
     "base_uri": "https://localhost:8080/"
    },
    "id": "Q-BmSXi2jUyl",
    "outputId": "e229decc-2878-43af-b4fa-a11395261dfb"
   },
   "outputs": [
    {
     "name": "stdout",
     "output_type": "stream",
     "text": [
      "Simulated sequences prior to adjustment:\n",
      "PC seqs\n",
      "Average RNA length: 36.0\n",
      "Average ORF length: 19.8882\n",
      "NC seqs\n",
      "Average RNA length: 36.0\n",
      "Average ORF length: 1.9764\n"
     ]
    }
   ],
   "source": [
    "# Describe the sequences\n",
    "def describe_sequences(list_of_seq):\n",
    "    oc = ORF_counter()\n",
    "    num_seq = len(list_of_seq)\n",
    "    rna_lens = np.zeros(num_seq)\n",
    "    orf_lens = np.zeros(num_seq)\n",
    "    for i in range(0,num_seq):\n",
    "        rna_len = len(list_of_seq[i])\n",
    "        rna_lens[i] = rna_len\n",
    "        oc.set_sequence(list_of_seq[i])\n",
    "        orf_len = oc.get_max_orf_len()\n",
    "        orf_lens[i] = orf_len\n",
    "    print (\"Average RNA length:\",rna_lens.mean())\n",
    "    print (\"Average ORF length:\",orf_lens.mean())\n",
    "    \n",
    "print(\"Simulated sequences prior to adjustment:\")\n",
    "print(\"PC seqs\")\n",
    "describe_sequences(pc_all)\n",
    "print(\"NC seqs\")\n",
    "describe_sequences(nc_all)"
   ]
  },
  {
   "cell_type": "code",
   "execution_count": 33,
   "metadata": {
    "id": "iP1y7-J3jUys"
   },
   "outputs": [],
   "source": [
    "pc_train=pc_all[:PC_SEQUENCES]\n",
    "nc_train=nc_all[:NC_SEQUENCES]\n",
    "pc_test=pc_all[PC_SEQUENCES:]\n",
    "nc_test=nc_all[NC_SEQUENCES:]"
   ]
  },
  {
   "cell_type": "code",
   "execution_count": 34,
   "metadata": {
    "colab": {
     "base_uri": "https://localhost:8080/"
    },
    "id": "CIpTrnH6j2US",
    "outputId": "3184bf6a-a3f1-455a-e2c7-75edb63d2a02"
   },
   "outputs": [
    {
     "name": "stdout",
     "output_type": "stream",
     "text": [
      "Data ready.\n"
     ]
    }
   ],
   "source": [
    "# Use code from our SimTools library.\n",
    "X,y = prepare_inputs_len_x_alphabet(pc_train,nc_train,ALPHABET) # shuffles\n",
    "print(\"Data ready.\")"
   ]
  },
  {
   "cell_type": "code",
   "execution_count": 35,
   "metadata": {
    "colab": {
     "base_uri": "https://localhost:8080/"
    },
    "id": "7NvrVU8ij2UU",
    "outputId": "76546aaa-2f96-4a02-c3cc-4d551be6f595"
   },
   "outputs": [
    {
     "name": "stdout",
     "output_type": "stream",
     "text": [
      "make_DNN\n",
      "input shape: (36, 4)\n",
      "Model: \"sequential_2\"\n",
      "_________________________________________________________________\n",
      "Layer (type)                 Output Shape              Param #   \n",
      "=================================================================\n",
      "conv1d_4 (Conv1D)            (None, 36, 16)            208       \n",
      "_________________________________________________________________\n",
      "conv1d_5 (Conv1D)            (None, 36, 16)            784       \n",
      "_________________________________________________________________\n",
      "max_pooling1d_2 (MaxPooling1 (None, 18, 16)            0         \n",
      "_________________________________________________________________\n",
      "flatten_2 (Flatten)          (None, 288)               0         \n",
      "_________________________________________________________________\n",
      "dense_4 (Dense)              (None, 16)                4624      \n",
      "_________________________________________________________________\n",
      "dropout_2 (Dropout)          (None, 16)                0         \n",
      "_________________________________________________________________\n",
      "dense_5 (Dense)              (None, 1)                 17        \n",
      "=================================================================\n",
      "Total params: 5,633\n",
      "Trainable params: 5,633\n",
      "Non-trainable params: 0\n",
      "_________________________________________________________________\n",
      "None\n"
     ]
    }
   ],
   "source": [
    "def make_DNN():\n",
    "    print(\"make_DNN\")\n",
    "    print(\"input shape:\",INPUT_SHAPE)\n",
    "    dnn = Sequential()\n",
    "    #dnn.add(Embedding(input_dim=INPUT_SHAPE,output_dim=INPUT_SHAPE)) \n",
    "    dnn.add(Conv1D(filters=FILTERS,kernel_size=WIDTH,strides=STRIDE,padding=\"same\",\n",
    "            input_shape=INPUT_SHAPE))\n",
    "    dnn.add(Conv1D(filters=FILTERS,kernel_size=WIDTH,strides=STRIDE,padding=\"same\"))\n",
    "    dnn.add(MaxPooling1D())\n",
    "    #dnn.add(Conv1D(filters=FILTERS,kernel_size=WIDTH,strides=STRIDE,padding=\"same\"))\n",
    "    #dnn.add(Conv1D(filters=FILTERS,kernel_size=WIDTH,strides=STRIDE,padding=\"same\"))\n",
    "    #dnn.add(MaxPooling1D())\n",
    "    dnn.add(Flatten())\n",
    "    dnn.add(Dense(NEURONS,activation=\"sigmoid\",dtype=np.float32))   \n",
    "    dnn.add(Dropout(DROP_RATE))\n",
    "    dnn.add(Dense(1,activation=\"sigmoid\",dtype=np.float32))   \n",
    "    dnn.compile(optimizer='adam',\n",
    "                loss=BinaryCrossentropy(from_logits=False),\n",
    "                metrics=['accuracy'])   # add to default metrics=loss\n",
    "    dnn.build(input_shape=INPUT_SHAPE)\n",
    "    #ln_rate = tf.keras.optimizers.Adam(learning_rate = LN_RATE)\n",
    "    #bc=tf.keras.losses.BinaryCrossentropy(from_logits=False)\n",
    "    #model.compile(loss=bc, optimizer=ln_rate, metrics=[\"accuracy\"])\n",
    "    return dnn\n",
    "model = make_DNN()\n",
    "print(model.summary())"
   ]
  },
  {
   "cell_type": "code",
   "execution_count": 36,
   "metadata": {
    "id": "nlVF0hR3j2UW"
   },
   "outputs": [],
   "source": [
    "from keras.callbacks import ModelCheckpoint\n",
    "def do_cross_validation(X,y):\n",
    "    cv_scores = []\n",
    "    fold=0\n",
    "    mycallbacks = [ModelCheckpoint(\n",
    "        filepath=MODELPATH, save_best_only=True, \n",
    "        monitor='val_accuracy', mode='max')]   \n",
    "    splitter = KFold(n_splits=SPLITS)  # this does not shuffle\n",
    "    for train_index,valid_index in splitter.split(X):\n",
    "        if fold < FOLDS:\n",
    "            fold += 1\n",
    "            X_train=X[train_index] # inputs for training\n",
    "            y_train=y[train_index] # labels for training\n",
    "            X_valid=X[valid_index] # inputs for validation\n",
    "            y_valid=y[valid_index] # labels for validation\n",
    "            print(\"MODEL\")\n",
    "            # Call constructor on each CV. Else, continually improves the same model.\n",
    "            model = model = make_DNN()\n",
    "            print(\"FIT\")  # model.fit() implements learning\n",
    "            start_time=time.time()\n",
    "            history=model.fit(X_train, y_train, \n",
    "                    epochs=EPOCHS, \n",
    "                    verbose=1,  # ascii art while learning\n",
    "                    callbacks=mycallbacks,   # called at end of each epoch\n",
    "                    validation_data=(X_valid,y_valid))\n",
    "            end_time=time.time()\n",
    "            elapsed_time=(end_time-start_time)                        \n",
    "            print(\"Fold %d, %d epochs, %d sec\"%(fold,EPOCHS,elapsed_time))\n",
    "            # print(history.history.keys())  # all these keys will be shown in figure\n",
    "            pd.DataFrame(history.history).plot(figsize=(8,5))\n",
    "            plt.grid(True)\n",
    "            plt.gca().set_ylim(0,1) # any losses > 1 will be off the scale\n",
    "            plt.show()\n"
   ]
  },
  {
   "cell_type": "code",
   "execution_count": 37,
   "metadata": {
    "colab": {
     "base_uri": "https://localhost:8080/",
     "height": 1000
    },
    "id": "9Ggt4EsSj2UY",
    "outputId": "a8597b45-6e7a-4f10-cd11-9e424477974f"
   },
   "outputs": [
    {
     "name": "stdout",
     "output_type": "stream",
     "text": [
      "MODEL\n",
      "make_DNN\n",
      "input shape: (36, 4)\n",
      "FIT\n",
      "Epoch 1/25\n",
      "200/200 [==============================] - 23s 5ms/step - loss: 0.7292 - accuracy: 0.5091 - val_loss: 0.6693 - val_accuracy: 0.6244\n",
      "INFO:tensorflow:Assets written to: BestModel/assets\n",
      "Epoch 2/25\n",
      "200/200 [==============================] - 1s 3ms/step - loss: 0.6703 - accuracy: 0.5826 - val_loss: 0.6363 - val_accuracy: 0.6456\n",
      "INFO:tensorflow:Assets written to: BestModel/assets\n",
      "Epoch 3/25\n",
      "200/200 [==============================] - 1s 3ms/step - loss: 0.6378 - accuracy: 0.6252 - val_loss: 0.6109 - val_accuracy: 0.6719\n",
      "INFO:tensorflow:Assets written to: BestModel/assets\n",
      "Epoch 4/25\n",
      "200/200 [==============================] - 1s 3ms/step - loss: 0.6032 - accuracy: 0.6745 - val_loss: 0.6020 - val_accuracy: 0.6812\n",
      "INFO:tensorflow:Assets written to: BestModel/assets\n",
      "Epoch 5/25\n",
      "200/200 [==============================] - 1s 3ms/step - loss: 0.5934 - accuracy: 0.6855 - val_loss: 0.5915 - val_accuracy: 0.6856\n",
      "INFO:tensorflow:Assets written to: BestModel/assets\n",
      "Epoch 6/25\n",
      "200/200 [==============================] - 1s 3ms/step - loss: 0.5722 - accuracy: 0.7044 - val_loss: 0.5847 - val_accuracy: 0.6975\n",
      "INFO:tensorflow:Assets written to: BestModel/assets\n",
      "Epoch 7/25\n",
      "200/200 [==============================] - 1s 3ms/step - loss: 0.5676 - accuracy: 0.7006 - val_loss: 0.5772 - val_accuracy: 0.7044\n",
      "INFO:tensorflow:Assets written to: BestModel/assets\n",
      "Epoch 8/25\n",
      "200/200 [==============================] - 1s 3ms/step - loss: 0.5578 - accuracy: 0.7147 - val_loss: 0.5696 - val_accuracy: 0.7150\n",
      "INFO:tensorflow:Assets written to: BestModel/assets\n",
      "Epoch 9/25\n",
      "200/200 [==============================] - 1s 3ms/step - loss: 0.5332 - accuracy: 0.7296 - val_loss: 0.5611 - val_accuracy: 0.7181\n",
      "INFO:tensorflow:Assets written to: BestModel/assets\n",
      "Epoch 10/25\n",
      "200/200 [==============================] - 1s 3ms/step - loss: 0.5301 - accuracy: 0.7349 - val_loss: 0.5533 - val_accuracy: 0.7200\n",
      "INFO:tensorflow:Assets written to: BestModel/assets\n",
      "Epoch 11/25\n",
      "200/200 [==============================] - 1s 3ms/step - loss: 0.5221 - accuracy: 0.7393 - val_loss: 0.5461 - val_accuracy: 0.7287\n",
      "INFO:tensorflow:Assets written to: BestModel/assets\n",
      "Epoch 12/25\n",
      "200/200 [==============================] - 1s 3ms/step - loss: 0.5169 - accuracy: 0.7383 - val_loss: 0.5394 - val_accuracy: 0.7306\n",
      "INFO:tensorflow:Assets written to: BestModel/assets\n",
      "Epoch 13/25\n",
      "200/200 [==============================] - 1s 3ms/step - loss: 0.5085 - accuracy: 0.7545 - val_loss: 0.5375 - val_accuracy: 0.7331\n",
      "INFO:tensorflow:Assets written to: BestModel/assets\n",
      "Epoch 14/25\n",
      "200/200 [==============================] - 1s 3ms/step - loss: 0.4913 - accuracy: 0.7671 - val_loss: 0.5307 - val_accuracy: 0.7437\n",
      "INFO:tensorflow:Assets written to: BestModel/assets\n",
      "Epoch 15/25\n",
      "200/200 [==============================] - 1s 3ms/step - loss: 0.4850 - accuracy: 0.7628 - val_loss: 0.5263 - val_accuracy: 0.7406\n",
      "Epoch 16/25\n",
      "200/200 [==============================] - 1s 3ms/step - loss: 0.4713 - accuracy: 0.7679 - val_loss: 0.5257 - val_accuracy: 0.7325\n",
      "Epoch 17/25\n",
      "200/200 [==============================] - 1s 3ms/step - loss: 0.4639 - accuracy: 0.7729 - val_loss: 0.5224 - val_accuracy: 0.7519\n",
      "INFO:tensorflow:Assets written to: BestModel/assets\n",
      "Epoch 18/25\n",
      "200/200 [==============================] - 1s 3ms/step - loss: 0.4539 - accuracy: 0.7766 - val_loss: 0.5183 - val_accuracy: 0.7444\n",
      "Epoch 19/25\n",
      "200/200 [==============================] - 1s 3ms/step - loss: 0.4341 - accuracy: 0.7982 - val_loss: 0.5134 - val_accuracy: 0.7494\n",
      "Epoch 20/25\n",
      "200/200 [==============================] - 1s 3ms/step - loss: 0.4452 - accuracy: 0.7813 - val_loss: 0.5173 - val_accuracy: 0.7462\n",
      "Epoch 21/25\n",
      "200/200 [==============================] - 1s 3ms/step - loss: 0.4451 - accuracy: 0.7893 - val_loss: 0.5156 - val_accuracy: 0.7506\n",
      "Epoch 22/25\n",
      "200/200 [==============================] - 1s 3ms/step - loss: 0.4443 - accuracy: 0.7818 - val_loss: 0.5138 - val_accuracy: 0.7494\n",
      "Epoch 23/25\n",
      "200/200 [==============================] - 1s 3ms/step - loss: 0.4324 - accuracy: 0.7829 - val_loss: 0.5117 - val_accuracy: 0.7544\n",
      "INFO:tensorflow:Assets written to: BestModel/assets\n",
      "Epoch 24/25\n",
      "200/200 [==============================] - 1s 3ms/step - loss: 0.4353 - accuracy: 0.7869 - val_loss: 0.5230 - val_accuracy: 0.7462\n",
      "Epoch 25/25\n",
      "200/200 [==============================] - 1s 3ms/step - loss: 0.4214 - accuracy: 0.7947 - val_loss: 0.5126 - val_accuracy: 0.7544\n",
      "Fold 1, 25 epochs, 88 sec\n"
     ]
    },
    {
     "data": {
      "image/png": "[encoded data removed]",
      "text/plain": [
       "<Figure size 576x360 with 1 Axes>"
      ]
     },
     "metadata": {
      "needs_background": "light",
      "tags": []
     },
     "output_type": "display_data"
    },
    {
     "name": "stdout",
     "output_type": "stream",
     "text": [
      "MODEL\n",
      "make_DNN\n",
      "input shape: (36, 4)\n",
      "FIT\n",
      "Epoch 1/25\n",
      "200/200 [==============================] - 2s 4ms/step - loss: 0.7250 - accuracy: 0.5136 - val_loss: 0.6606 - val_accuracy: 0.6162\n",
      "Epoch 2/25\n",
      "200/200 [==============================] - 1s 3ms/step - loss: 0.6581 - accuracy: 0.6027 - val_loss: 0.6227 - val_accuracy: 0.6669\n",
      "Epoch 3/25\n",
      "200/200 [==============================] - 1s 3ms/step - loss: 0.6208 - accuracy: 0.6606 - val_loss: 0.6031 - val_accuracy: 0.6775\n",
      "Epoch 4/25\n",
      "200/200 [==============================] - 1s 3ms/step - loss: 0.5926 - accuracy: 0.6821 - val_loss: 0.5835 - val_accuracy: 0.7031\n",
      "Epoch 5/25\n",
      "200/200 [==============================] - 1s 3ms/step - loss: 0.5970 - accuracy: 0.6845 - val_loss: 0.5773 - val_accuracy: 0.7038\n",
      "Epoch 6/25\n",
      "200/200 [==============================] - 1s 3ms/step - loss: 0.5758 - accuracy: 0.7003 - val_loss: 0.5636 - val_accuracy: 0.7100\n",
      "Epoch 7/25\n",
      "200/200 [==============================] - 1s 3ms/step - loss: 0.5590 - accuracy: 0.7107 - val_loss: 0.5558 - val_accuracy: 0.7156\n",
      "Epoch 8/25\n",
      "200/200 [==============================] - 1s 3ms/step - loss: 0.5493 - accuracy: 0.7156 - val_loss: 0.5521 - val_accuracy: 0.7119\n",
      "Epoch 9/25\n",
      "200/200 [==============================] - 1s 3ms/step - loss: 0.5334 - accuracy: 0.7388 - val_loss: 0.5391 - val_accuracy: 0.7356\n",
      "Epoch 10/25\n",
      "200/200 [==============================] - 1s 3ms/step - loss: 0.5319 - accuracy: 0.7302 - val_loss: 0.5298 - val_accuracy: 0.7437\n",
      "Epoch 11/25\n",
      "200/200 [==============================] - 1s 3ms/step - loss: 0.5219 - accuracy: 0.7372 - val_loss: 0.5227 - val_accuracy: 0.7431\n",
      "Epoch 12/25\n",
      "200/200 [==============================] - 1s 3ms/step - loss: 0.5122 - accuracy: 0.7429 - val_loss: 0.5128 - val_accuracy: 0.7450\n",
      "Epoch 13/25\n",
      "200/200 [==============================] - 1s 3ms/step - loss: 0.4989 - accuracy: 0.7573 - val_loss: 0.5096 - val_accuracy: 0.7594\n",
      "INFO:tensorflow:Assets written to: BestModel/assets\n",
      "Epoch 14/25\n",
      "200/200 [==============================] - 1s 3ms/step - loss: 0.4809 - accuracy: 0.7572 - val_loss: 0.5059 - val_accuracy: 0.7619\n",
      "INFO:tensorflow:Assets written to: BestModel/assets\n",
      "Epoch 15/25\n",
      "200/200 [==============================] - 1s 3ms/step - loss: 0.4776 - accuracy: 0.7659 - val_loss: 0.5005 - val_accuracy: 0.7631\n",
      "INFO:tensorflow:Assets written to: BestModel/assets\n",
      "Epoch 16/25\n",
      "200/200 [==============================] - 1s 3ms/step - loss: 0.4592 - accuracy: 0.7731 - val_loss: 0.4964 - val_accuracy: 0.7631\n",
      "Epoch 17/25\n",
      "200/200 [==============================] - 1s 3ms/step - loss: 0.4661 - accuracy: 0.7713 - val_loss: 0.4932 - val_accuracy: 0.7738\n",
      "INFO:tensorflow:Assets written to: BestModel/assets\n",
      "Epoch 18/25\n",
      "200/200 [==============================] - 1s 3ms/step - loss: 0.4477 - accuracy: 0.7827 - val_loss: 0.4912 - val_accuracy: 0.7738\n",
      "Epoch 19/25\n",
      "200/200 [==============================] - 1s 3ms/step - loss: 0.4496 - accuracy: 0.7693 - val_loss: 0.4889 - val_accuracy: 0.7794\n",
      "INFO:tensorflow:Assets written to: BestModel/assets\n",
      "Epoch 20/25\n",
      "200/200 [==============================] - 1s 3ms/step - loss: 0.4426 - accuracy: 0.7758 - val_loss: 0.4878 - val_accuracy: 0.7694\n",
      "Epoch 21/25\n",
      "200/200 [==============================] - 1s 3ms/step - loss: 0.4384 - accuracy: 0.7768 - val_loss: 0.4838 - val_accuracy: 0.7731\n",
      "Epoch 22/25\n",
      "200/200 [==============================] - 1s 3ms/step - loss: 0.4448 - accuracy: 0.7761 - val_loss: 0.4846 - val_accuracy: 0.7663\n",
      "Epoch 23/25\n",
      "200/200 [==============================] - 1s 3ms/step - loss: 0.4230 - accuracy: 0.7864 - val_loss: 0.4877 - val_accuracy: 0.7694\n",
      "Epoch 24/25\n",
      "200/200 [==============================] - 1s 3ms/step - loss: 0.4291 - accuracy: 0.7789 - val_loss: 0.4865 - val_accuracy: 0.7725\n",
      "Epoch 25/25\n",
      "200/200 [==============================] - 1s 3ms/step - loss: 0.4067 - accuracy: 0.7920 - val_loss: 0.4775 - val_accuracy: 0.7763\n",
      "Fold 2, 25 epochs, 21 sec\n"
     ]
    },
    {
     "data": {
      "image/png": "[encoded data removed]",
      "text/plain": [
       "<Figure size 576x360 with 1 Axes>"
      ]
     },
     "metadata": {
      "needs_background": "light",
      "tags": []
     },
     "output_type": "display_data"
    },
    {
     "name": "stdout",
     "output_type": "stream",
     "text": [
      "MODEL\n",
      "make_DNN\n",
      "input shape: (36, 4)\n",
      "FIT\n",
      "Epoch 1/25\n",
      "200/200 [==============================] - 2s 4ms/step - loss: 0.7183 - accuracy: 0.5251 - val_loss: 0.6545 - val_accuracy: 0.6256\n",
      "Epoch 2/25\n",
      "200/200 [==============================] - 1s 3ms/step - loss: 0.6462 - accuracy: 0.6295 - val_loss: 0.6252 - val_accuracy: 0.6619\n",
      "Epoch 3/25\n",
      "200/200 [==============================] - 1s 3ms/step - loss: 0.6131 - accuracy: 0.6611 - val_loss: 0.6069 - val_accuracy: 0.6725\n",
      "Epoch 4/25\n",
      "200/200 [==============================] - 1s 3ms/step - loss: 0.5968 - accuracy: 0.6773 - val_loss: 0.5962 - val_accuracy: 0.6681\n",
      "Epoch 5/25\n",
      "200/200 [==============================] - 1s 3ms/step - loss: 0.5781 - accuracy: 0.6890 - val_loss: 0.5845 - val_accuracy: 0.6875\n",
      "Epoch 6/25\n",
      "200/200 [==============================] - 1s 3ms/step - loss: 0.5614 - accuracy: 0.7094 - val_loss: 0.5754 - val_accuracy: 0.7050\n",
      "Epoch 7/25\n",
      "200/200 [==============================] - 1s 3ms/step - loss: 0.5537 - accuracy: 0.7059 - val_loss: 0.5628 - val_accuracy: 0.7056\n",
      "Epoch 8/25\n",
      "200/200 [==============================] - 1s 3ms/step - loss: 0.5510 - accuracy: 0.7228 - val_loss: 0.5536 - val_accuracy: 0.7125\n",
      "Epoch 9/25\n",
      "200/200 [==============================] - 1s 3ms/step - loss: 0.5313 - accuracy: 0.7311 - val_loss: 0.5454 - val_accuracy: 0.7225\n",
      "Epoch 10/25\n",
      "200/200 [==============================] - 1s 3ms/step - loss: 0.5107 - accuracy: 0.7391 - val_loss: 0.5369 - val_accuracy: 0.7237\n",
      "Epoch 11/25\n",
      "200/200 [==============================] - 1s 3ms/step - loss: 0.5109 - accuracy: 0.7385 - val_loss: 0.5302 - val_accuracy: 0.7375\n",
      "Epoch 12/25\n",
      "200/200 [==============================] - 1s 3ms/step - loss: 0.4958 - accuracy: 0.7511 - val_loss: 0.5269 - val_accuracy: 0.7450\n",
      "Epoch 13/25\n",
      "200/200 [==============================] - 1s 3ms/step - loss: 0.4866 - accuracy: 0.7548 - val_loss: 0.5255 - val_accuracy: 0.7312\n",
      "Epoch 14/25\n",
      "200/200 [==============================] - 1s 3ms/step - loss: 0.4751 - accuracy: 0.7649 - val_loss: 0.5155 - val_accuracy: 0.7481\n",
      "Epoch 15/25\n",
      "200/200 [==============================] - 1s 3ms/step - loss: 0.4723 - accuracy: 0.7662 - val_loss: 0.5111 - val_accuracy: 0.7469\n",
      "Epoch 16/25\n",
      "200/200 [==============================] - 1s 3ms/step - loss: 0.4686 - accuracy: 0.7635 - val_loss: 0.5087 - val_accuracy: 0.7531\n",
      "Epoch 17/25\n",
      "200/200 [==============================] - 1s 3ms/step - loss: 0.4540 - accuracy: 0.7828 - val_loss: 0.5087 - val_accuracy: 0.7556\n",
      "Epoch 18/25\n",
      "200/200 [==============================] - 1s 3ms/step - loss: 0.4591 - accuracy: 0.7792 - val_loss: 0.5030 - val_accuracy: 0.7500\n",
      "Epoch 19/25\n",
      "200/200 [==============================] - 1s 3ms/step - loss: 0.4334 - accuracy: 0.7871 - val_loss: 0.5037 - val_accuracy: 0.7506\n",
      "Epoch 20/25\n",
      "200/200 [==============================] - 1s 3ms/step - loss: 0.4388 - accuracy: 0.7883 - val_loss: 0.4997 - val_accuracy: 0.7650\n",
      "Epoch 21/25\n",
      "200/200 [==============================] - 1s 3ms/step - loss: 0.4397 - accuracy: 0.7785 - val_loss: 0.5006 - val_accuracy: 0.7513\n",
      "Epoch 22/25\n",
      "200/200 [==============================] - 1s 3ms/step - loss: 0.4202 - accuracy: 0.7951 - val_loss: 0.5041 - val_accuracy: 0.7575\n",
      "Epoch 23/25\n",
      "200/200 [==============================] - 1s 3ms/step - loss: 0.4198 - accuracy: 0.7874 - val_loss: 0.5002 - val_accuracy: 0.7625\n",
      "Epoch 24/25\n",
      "200/200 [==============================] - 1s 3ms/step - loss: 0.4127 - accuracy: 0.8018 - val_loss: 0.5017 - val_accuracy: 0.7613\n",
      "Epoch 25/25\n",
      "200/200 [==============================] - 1s 3ms/step - loss: 0.4122 - accuracy: 0.8005 - val_loss: 0.5055 - val_accuracy: 0.7638\n",
      "Fold 3, 25 epochs, 16 sec\n"
     ]
    },
    {
     "data": {
      "image/png": "[encoded data removed]",
      "text/plain": [
       "<Figure size 576x360 with 1 Axes>"
      ]
     },
     "metadata": {
      "needs_background": "light",
      "tags": []
     },
     "output_type": "display_data"
    },
    {
     "name": "stdout",
     "output_type": "stream",
     "text": [
      "MODEL\n",
      "make_DNN\n",
      "input shape: (36, 4)\n",
      "FIT\n",
      "Epoch 1/25\n",
      "200/200 [==============================] - 2s 4ms/step - loss: 0.7153 - accuracy: 0.5275 - val_loss: 0.6650 - val_accuracy: 0.5938\n",
      "Epoch 2/25\n",
      "200/200 [==============================] - 1s 3ms/step - loss: 0.6650 - accuracy: 0.6056 - val_loss: 0.6254 - val_accuracy: 0.6637\n",
      "Epoch 3/25\n",
      "200/200 [==============================] - 1s 3ms/step - loss: 0.6251 - accuracy: 0.6576 - val_loss: 0.6076 - val_accuracy: 0.6775\n",
      "Epoch 4/25\n",
      "200/200 [==============================] - 1s 3ms/step - loss: 0.6085 - accuracy: 0.6655 - val_loss: 0.5950 - val_accuracy: 0.6869\n",
      "Epoch 5/25\n",
      "200/200 [==============================] - 1s 3ms/step - loss: 0.5806 - accuracy: 0.6864 - val_loss: 0.5860 - val_accuracy: 0.6894\n",
      "Epoch 6/25\n",
      "200/200 [==============================] - 1s 3ms/step - loss: 0.5745 - accuracy: 0.6923 - val_loss: 0.5775 - val_accuracy: 0.6881\n",
      "Epoch 7/25\n",
      "200/200 [==============================] - 1s 3ms/step - loss: 0.5639 - accuracy: 0.7052 - val_loss: 0.5703 - val_accuracy: 0.6975\n",
      "Epoch 8/25\n",
      "200/200 [==============================] - 1s 3ms/step - loss: 0.5476 - accuracy: 0.7213 - val_loss: 0.5636 - val_accuracy: 0.7000\n",
      "Epoch 9/25\n",
      "200/200 [==============================] - 1s 3ms/step - loss: 0.5395 - accuracy: 0.7183 - val_loss: 0.5543 - val_accuracy: 0.7125\n",
      "Epoch 10/25\n",
      "200/200 [==============================] - 1s 3ms/step - loss: 0.5304 - accuracy: 0.7175 - val_loss: 0.5497 - val_accuracy: 0.7175\n",
      "Epoch 11/25\n",
      "200/200 [==============================] - 1s 3ms/step - loss: 0.5114 - accuracy: 0.7442 - val_loss: 0.5435 - val_accuracy: 0.7225\n",
      "Epoch 12/25\n",
      "200/200 [==============================] - 1s 3ms/step - loss: 0.5040 - accuracy: 0.7453 - val_loss: 0.5406 - val_accuracy: 0.7287\n",
      "Epoch 13/25\n",
      "200/200 [==============================] - 1s 3ms/step - loss: 0.4956 - accuracy: 0.7503 - val_loss: 0.5345 - val_accuracy: 0.7337\n",
      "Epoch 14/25\n",
      "200/200 [==============================] - 1s 3ms/step - loss: 0.4889 - accuracy: 0.7585 - val_loss: 0.5359 - val_accuracy: 0.7287\n",
      "Epoch 15/25\n",
      "200/200 [==============================] - 1s 3ms/step - loss: 0.4787 - accuracy: 0.7647 - val_loss: 0.5311 - val_accuracy: 0.7306\n",
      "Epoch 16/25\n",
      "200/200 [==============================] - 1s 3ms/step - loss: 0.4732 - accuracy: 0.7746 - val_loss: 0.5330 - val_accuracy: 0.7369\n",
      "Epoch 17/25\n",
      "200/200 [==============================] - 1s 3ms/step - loss: 0.4635 - accuracy: 0.7745 - val_loss: 0.5285 - val_accuracy: 0.7350\n",
      "Epoch 18/25\n",
      "200/200 [==============================] - 1s 3ms/step - loss: 0.4618 - accuracy: 0.7753 - val_loss: 0.5331 - val_accuracy: 0.7387\n",
      "Epoch 19/25\n",
      "200/200 [==============================] - 1s 3ms/step - loss: 0.4489 - accuracy: 0.7834 - val_loss: 0.5281 - val_accuracy: 0.7331\n",
      "Epoch 20/25\n",
      "200/200 [==============================] - 1s 3ms/step - loss: 0.4441 - accuracy: 0.7792 - val_loss: 0.5276 - val_accuracy: 0.7394\n",
      "Epoch 21/25\n",
      "200/200 [==============================] - 1s 3ms/step - loss: 0.4356 - accuracy: 0.7951 - val_loss: 0.5255 - val_accuracy: 0.7494\n",
      "Epoch 22/25\n",
      "200/200 [==============================] - 1s 3ms/step - loss: 0.4256 - accuracy: 0.7946 - val_loss: 0.5242 - val_accuracy: 0.7425\n",
      "Epoch 23/25\n",
      "200/200 [==============================] - 1s 3ms/step - loss: 0.4287 - accuracy: 0.7960 - val_loss: 0.5238 - val_accuracy: 0.7394\n",
      "Epoch 24/25\n",
      "200/200 [==============================] - 1s 3ms/step - loss: 0.4248 - accuracy: 0.7986 - val_loss: 0.5260 - val_accuracy: 0.7425\n",
      "Epoch 25/25\n",
      "200/200 [==============================] - 1s 3ms/step - loss: 0.4200 - accuracy: 0.7974 - val_loss: 0.5289 - val_accuracy: 0.7425\n",
      "Fold 4, 25 epochs, 16 sec\n"
     ]
    },
    {
     "data": {
      "image/png": "[encoded data removed]",
      "text/plain": [
       "<Figure size 576x360 with 1 Axes>"
      ]
     },
     "metadata": {
      "needs_background": "light",
      "tags": []
     },
     "output_type": "display_data"
    },
    {
     "name": "stdout",
     "output_type": "stream",
     "text": [
      "MODEL\n",
      "make_DNN\n",
      "input shape: (36, 4)\n",
      "FIT\n",
      "Epoch 1/25\n",
      "200/200 [==============================] - 2s 5ms/step - loss: 0.7032 - accuracy: 0.5215 - val_loss: 0.6752 - val_accuracy: 0.6075\n",
      "Epoch 2/25\n",
      "200/200 [==============================] - 1s 3ms/step - loss: 0.6693 - accuracy: 0.5924 - val_loss: 0.6384 - val_accuracy: 0.6450\n",
      "Epoch 3/25\n",
      "200/200 [==============================] - 1s 3ms/step - loss: 0.6421 - accuracy: 0.6322 - val_loss: 0.6044 - val_accuracy: 0.6806\n",
      "Epoch 4/25\n",
      "200/200 [==============================] - 1s 3ms/step - loss: 0.6080 - accuracy: 0.6791 - val_loss: 0.5934 - val_accuracy: 0.6787\n",
      "Epoch 5/25\n",
      "200/200 [==============================] - 1s 3ms/step - loss: 0.5993 - accuracy: 0.6780 - val_loss: 0.5794 - val_accuracy: 0.7013\n",
      "Epoch 6/25\n",
      "200/200 [==============================] - 1s 3ms/step - loss: 0.5875 - accuracy: 0.6910 - val_loss: 0.5698 - val_accuracy: 0.7025\n",
      "Epoch 7/25\n",
      "200/200 [==============================] - 1s 3ms/step - loss: 0.5738 - accuracy: 0.6990 - val_loss: 0.5628 - val_accuracy: 0.7038\n",
      "Epoch 8/25\n",
      "200/200 [==============================] - 1s 3ms/step - loss: 0.5659 - accuracy: 0.7060 - val_loss: 0.5575 - val_accuracy: 0.7150\n",
      "Epoch 9/25\n",
      "200/200 [==============================] - 1s 3ms/step - loss: 0.5485 - accuracy: 0.7314 - val_loss: 0.5528 - val_accuracy: 0.7181\n",
      "Epoch 10/25\n",
      "200/200 [==============================] - 1s 3ms/step - loss: 0.5382 - accuracy: 0.7214 - val_loss: 0.5463 - val_accuracy: 0.7250\n",
      "Epoch 11/25\n",
      "200/200 [==============================] - 1s 3ms/step - loss: 0.5318 - accuracy: 0.7324 - val_loss: 0.5400 - val_accuracy: 0.7250\n",
      "Epoch 12/25\n",
      "200/200 [==============================] - 1s 3ms/step - loss: 0.5325 - accuracy: 0.7315 - val_loss: 0.5336 - val_accuracy: 0.7400\n",
      "Epoch 13/25\n",
      "200/200 [==============================] - 1s 3ms/step - loss: 0.5108 - accuracy: 0.7465 - val_loss: 0.5401 - val_accuracy: 0.7281\n",
      "Epoch 14/25\n",
      "200/200 [==============================] - 1s 3ms/step - loss: 0.5072 - accuracy: 0.7463 - val_loss: 0.5238 - val_accuracy: 0.7394\n",
      "Epoch 15/25\n",
      "200/200 [==============================] - 1s 3ms/step - loss: 0.4963 - accuracy: 0.7608 - val_loss: 0.5199 - val_accuracy: 0.7400\n",
      "Epoch 16/25\n",
      "200/200 [==============================] - 1s 3ms/step - loss: 0.4937 - accuracy: 0.7540 - val_loss: 0.5179 - val_accuracy: 0.7469\n",
      "Epoch 17/25\n",
      "200/200 [==============================] - 1s 3ms/step - loss: 0.4929 - accuracy: 0.7611 - val_loss: 0.5158 - val_accuracy: 0.7437\n",
      "Epoch 18/25\n",
      "200/200 [==============================] - 1s 3ms/step - loss: 0.4653 - accuracy: 0.7706 - val_loss: 0.5057 - val_accuracy: 0.7550\n",
      "Epoch 19/25\n",
      "200/200 [==============================] - 1s 3ms/step - loss: 0.4674 - accuracy: 0.7656 - val_loss: 0.5139 - val_accuracy: 0.7538\n",
      "Epoch 20/25\n",
      "200/200 [==============================] - 1s 3ms/step - loss: 0.4696 - accuracy: 0.7660 - val_loss: 0.5056 - val_accuracy: 0.7481\n",
      "Epoch 21/25\n",
      "200/200 [==============================] - 1s 3ms/step - loss: 0.4671 - accuracy: 0.7655 - val_loss: 0.4992 - val_accuracy: 0.7556\n",
      "Epoch 22/25\n",
      "200/200 [==============================] - 1s 3ms/step - loss: 0.4466 - accuracy: 0.7843 - val_loss: 0.5023 - val_accuracy: 0.7625\n",
      "Epoch 23/25\n",
      "200/200 [==============================] - 1s 3ms/step - loss: 0.4550 - accuracy: 0.7789 - val_loss: 0.5002 - val_accuracy: 0.7638\n",
      "Epoch 24/25\n",
      "200/200 [==============================] - 1s 3ms/step - loss: 0.4356 - accuracy: 0.7872 - val_loss: 0.5001 - val_accuracy: 0.7613\n",
      "Epoch 25/25\n",
      "200/200 [==============================] - 1s 3ms/step - loss: 0.4289 - accuracy: 0.7820 - val_loss: 0.4939 - val_accuracy: 0.7706\n",
      "Fold 5, 25 epochs, 21 sec\n"
     ]
    },
    {
     "data": {
      "image/png": "[encoded data removed]",
      "text/plain": [
       "<Figure size 576x360 with 1 Axes>"
      ]
     },
     "metadata": {
      "needs_background": "light",
      "tags": []
     },
     "output_type": "display_data"
    }
   ],
   "source": [
    "do_cross_validation(X,y)"
   ]
  },
  {
   "cell_type": "code",
   "execution_count": 38,
   "metadata": {
    "colab": {
     "base_uri": "https://localhost:8080/"
    },
    "id": "e-jG1h5fj2Ua",
    "outputId": "fdacacd5-0851-4893-b842-f95ffa09c888"
   },
   "outputs": [
    {
     "name": "stdout",
     "output_type": "stream",
     "text": [
      "The best model parameters were saved during cross-validation.\n",
      "Best was defined as maximum validation accuracy at end of any epoch.\n",
      "Now re-load the best model and test it on previously unseen data.\n",
      "Test on 1000 PC seqs\n",
      "Test on 1000 NC seqs\n",
      "accuracy: 76.30%\n"
     ]
    }
   ],
   "source": [
    "from keras.models import load_model\n",
    "X,y = prepare_inputs_len_x_alphabet(pc_test,nc_test,ALPHABET)\n",
    "best_model=load_model(MODELPATH)\n",
    "scores = best_model.evaluate(X, y, verbose=0)\n",
    "print(\"The best model parameters were saved during cross-validation.\")\n",
    "print(\"Best was defined as maximum validation accuracy at end of any epoch.\")\n",
    "print(\"Now re-load the best model and test it on previously unseen data.\")\n",
    "print(\"Test on\",len(pc_test),\"PC seqs\")\n",
    "print(\"Test on\",len(nc_test),\"NC seqs\")\n",
    "print(\"%s: %.2f%%\" % (best_model.metrics_names[1], scores[1]*100))\n"
   ]
  },
  {
   "cell_type": "code",
   "execution_count": 39,
   "metadata": {
    "colab": {
     "base_uri": "https://localhost:8080/",
     "height": 312
    },
    "id": "VycUnmvUj2Ue",
    "outputId": "e1cb6f80-4a20-4950-ab10-852b484683d9"
   },
   "outputs": [
    {
     "data": {
      "image/png": "[encoded data removed]",
      "text/plain": [
       "<Figure size 432x288 with 1 Axes>"
      ]
     },
     "metadata": {
      "needs_background": "light",
      "tags": []
     },
     "output_type": "display_data"
    },
    {
     "name": "stdout",
     "output_type": "stream",
     "text": [
      "AUC: 84.45%\n"
     ]
    }
   ],
   "source": [
    "from sklearn.metrics import roc_curve\n",
    "from sklearn.metrics import roc_auc_score\n",
    "ns_probs = [0 for _ in range(len(y))]\n",
    "bm_probs = best_model.predict(X)\n",
    "ns_auc = roc_auc_score(y, ns_probs)\n",
    "bm_auc = roc_auc_score(y, bm_probs)\n",
    "ns_fpr, ns_tpr, _ = roc_curve(y, ns_probs)\n",
    "bm_fpr, bm_tpr, _ = roc_curve(y, bm_probs)\n",
    "plt.plot(ns_fpr, ns_tpr, linestyle='--', label='Guess, auc=%.4f'%ns_auc)\n",
    "plt.plot(bm_fpr, bm_tpr, marker='.', label='Model, auc=%.4f'%bm_auc)\n",
    "plt.title('ROC')\n",
    "plt.xlabel('False Positive Rate')\n",
    "plt.ylabel('True Positive Rate')\n",
    "plt.legend()\n",
    "plt.show()\n",
    "print(\"%s: %.2f%%\" %('AUC',bm_auc*100.0))\n"
   ]
  },
  {
   "cell_type": "code",
   "execution_count": 40,
   "metadata": {
    "colab": {
     "base_uri": "https://localhost:8080/",
     "height": 36
    },
    "id": "kFMb6rGNj2Ug",
    "outputId": "2f3019a8-e359-4846-92ab-4f57c8a6c269"
   },
   "outputs": [
    {
     "data": {
      "application/vnd.google.colaboratory.intrinsic+json": {
       "type": "string"
      },
      "text/plain": [
       "'2021-06-11 19:50:25 UTC'"
      ]
     },
     "execution_count": 40,
     "metadata": {
      "tags": []
     },
     "output_type": "execute_result"
    }
   ],
   "source": [
    "t = time.time()\n",
    "time.strftime('%Y-%m-%d %H:%M:%S %Z', time.localtime(t))"
   ]
  },
  {
   "cell_type": "code",
   "execution_count": 40,
   "metadata": {
    "id": "e-mEgDrQjUzF"
   },
   "outputs": [],
   "source": []
  }
 ],
 "metadata": {
  "accelerator": "GPU",
  "colab": {
   "collapsed_sections": [],
   "name": "ORF_CNN_118.ipynb",
   "provenance": []
  },
  "kernelspec": {
   "display_name": "Python 3",
   "language": "python",
   "name": "python3"
  },
  "language_info": {
   "codemirror_mode": {
    "name": "ipython",
    "version": 3
   },
   "file_extension": ".py",
   "mimetype": "text/x-python",
   "name": "python",
   "nbconvert_exporter": "python",
   "pygments_lexer": "ipython3",
   "version": "3.8.3"
  }
 },
 "nbformat": 4,
 "nbformat_minor": 1
}
