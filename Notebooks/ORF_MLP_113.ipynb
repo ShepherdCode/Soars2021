{
  "nbformat": 4,
  "nbformat_minor": 0,
  "metadata": {
    "accelerator": "GPU",
    "colab": {
      "name": "ORF_MLP_113.ipynb",
      "provenance": [],
      "collapsed_sections": []
    },
    "kernelspec": {
      "display_name": "Python 3",
      "language": "python",
      "name": "python3"
    },
    "language_info": {
      "codemirror_mode": {
        "name": "ipython",
        "version": 3
      },
      "file_extension": ".py",
      "mimetype": "text/x-python",
      "name": "python",
      "nbconvert_exporter": "python",
      "pygments_lexer": "ipython3",
      "version": "3.8.3"
    }
  },
  "cells": [
    {
      "cell_type": "markdown",
      "metadata": {
        "id": "ojm_6E9f9Kcf"
      },
      "source": [
        "# ORF MLP  \n",
        "We have an MLP that learns well on GenCode or Sim RNA.  \n",
        "Now improve the experimental design.  \n",
        "Train on one, test on the other.  \n",
        "Save best and last models.  \n",
        "Make a confusion matrix.  "
      ]
    },
    {
      "cell_type": "code",
      "metadata": {
        "colab": {
          "base_uri": "https://localhost:8080/"
        },
        "id": "RmPF4h_YI_sT",
        "outputId": "a6d7a643-db37-4f85-dfd3-757d4ea4995a"
      },
      "source": [
        "import time\n",
        "def show_time():\n",
        "    t = time.time()\n",
        "    print(time.strftime('%Y-%m-%d %H:%M:%S %Z', time.localtime(t)))\n",
        "show_time()"
      ],
      "execution_count": 40,
      "outputs": [
        {
          "output_type": "stream",
          "text": [
            "2021-07-25 21:39:11 UTC\n"
          ],
          "name": "stdout"
        }
      ]
    },
    {
      "cell_type": "code",
      "metadata": {
        "id": "NEbXt5N4I_sc"
      },
      "source": [
        "PC_TRAINS=8000\n",
        "NC_TRAINS=8000\n",
        "PC_TESTS=8000\n",
        "NC_TESTS=8000   # Wen et al 2019 used 8000 and 2000 of each class\n",
        "RNA_LEN=1000\n",
        "MAX_K = 3\n",
        "INPUT_SHAPE=(None,84)  # 4^3 + 4^2 + 4^1\n",
        "NEURONS=128\n",
        "DROP_RATE=0.01\n",
        "EPOCHS=100   # 200 \n",
        "SPLITS=5\n",
        "FOLDS=1   # make this 5 for serious testing"
      ],
      "execution_count": 41,
      "outputs": []
    },
    {
      "cell_type": "code",
      "metadata": {
        "id": "VQY7aTj29Kch"
      },
      "source": [
        "import numpy as np\n",
        "import pandas as pd\n",
        "import matplotlib.pyplot as plt\n",
        "from sklearn.utils import shuffle\n",
        "from sklearn.model_selection import KFold\n",
        "from sklearn.model_selection import cross_val_score\n",
        "from sklearn.metrics import roc_curve\n",
        "from sklearn.metrics import roc_auc_score\n",
        "\n",
        "from keras.models import Sequential\n",
        "from keras.layers import Dense,Embedding,Dropout\n",
        "from keras.layers import Flatten,TimeDistributed\n",
        "from keras.losses import BinaryCrossentropy\n",
        "from keras.callbacks import ModelCheckpoint\n",
        "from keras.models import load_model"
      ],
      "execution_count": 42,
      "outputs": []
    },
    {
      "cell_type": "code",
      "metadata": {
        "colab": {
          "base_uri": "https://localhost:8080/"
        },
        "id": "xUxEB53HI_sk",
        "outputId": "5b9b61c4-3b1c-4db3-eadf-217eee7f8175"
      },
      "source": [
        "import sys\n",
        "IN_COLAB = False\n",
        "try:\n",
        "    from google.colab import drive\n",
        "    IN_COLAB = True\n",
        "except:\n",
        "    pass\n",
        "if IN_COLAB:\n",
        "    print(\"On Google CoLab, mount cloud-local file, get our code from GitHub.\")\n",
        "    PATH='/content/drive/'\n",
        "    #drive.mount(PATH,force_remount=True)  # hardly ever need this\n",
        "    drive.mount(PATH)    # Google will require login credentials\n",
        "    DATAPATH=PATH+'My Drive/data/'  # must end in \"/\"\n",
        "    import requests\n",
        "    r = requests.get('https://raw.githubusercontent.com/ShepherdCode/Soars2021/master/SimTools/RNA_describe.py')\n",
        "    with open('RNA_describe.py', 'w') as f:\n",
        "        f.write(r.text)  \n",
        "    from RNA_describe import ORF_counter\n",
        "    r = requests.get('https://raw.githubusercontent.com/ShepherdCode/Soars2021/master/SimTools/RNA_gen.py')\n",
        "    with open('RNA_gen.py', 'w') as f:\n",
        "        f.write(r.text)  \n",
        "    from RNA_gen import Collection_Generator, Transcript_Oracle\n",
        "    r = requests.get('https://raw.githubusercontent.com/ShepherdCode/Soars2021/master/SimTools/KmerTools.py')\n",
        "    with open('KmerTools.py', 'w') as f:\n",
        "        f.write(r.text)  \n",
        "    from KmerTools import KmerTools\n",
        "else:\n",
        "        print(\"CoLab not working. On my PC, use relative paths.\")\n",
        "        DATAPATH='data/'  # must end in \"/\"\n",
        "        sys.path.append(\"..\") # append parent dir in order to use sibling dirs\n",
        "        from SimTools.RNA_describe import ORF_counter\n",
        "        from SimTools.RNA_gen import Collection_Generator, Transcript_Oracle\n",
        "        from SimTools.KmerTools import KmerTools\n",
        "BESTMODELPATH=DATAPATH+\"BestModel\"  # saved on cloud instance and lost after logout\n",
        "LASTMODELPATH=DATAPATH+\"LastModel\"  # saved on Google Drive but requires login"
      ],
      "execution_count": 43,
      "outputs": [
        {
          "output_type": "stream",
          "text": [
            "On Google CoLab, mount cloud-local file, get our code from GitHub.\n",
            "Drive already mounted at /content/drive/; to attempt to forcibly remount, call drive.mount(\"/content/drive/\", force_remount=True).\n"
          ],
          "name": "stdout"
        }
      ]
    },
    {
      "cell_type": "markdown",
      "metadata": {
        "id": "8buAhZRfI_sp"
      },
      "source": [
        "## Data Load\n",
        "Restrict mRNA to those transcripts with a recognized ORF."
      ]
    },
    {
      "cell_type": "code",
      "metadata": {
        "colab": {
          "base_uri": "https://localhost:8080/"
        },
        "id": "ypn0lhiqI_sq",
        "outputId": "aab31d23-f82f-49d5-e35f-5fa4e12f8b7c"
      },
      "source": [
        "show_time()\n",
        "def make_generators(seq_len):\n",
        "    pcgen = Collection_Generator()  \n",
        "    pcgen.get_len_oracle().set_mean(seq_len)\n",
        "    pcgen.set_seq_oracle(Transcript_Oracle())\n",
        "    ncgen = Collection_Generator()  \n",
        "    ncgen.get_len_oracle().set_mean(seq_len)\n",
        "    return pcgen,ncgen\n",
        "\n",
        "pc_sim,nc_sim = make_generators(RNA_LEN)\n",
        "pc_all = pc_sim.get_sequences(PC_TRAINS+PC_TESTS)\n",
        "nc_all = nc_sim.get_sequences(NC_TRAINS+NC_TESTS)\n",
        "print(\"Generated\",len(pc_all),\"PC seqs\")\n",
        "print(\"Generated\",len(nc_all),\"NC seqs\")"
      ],
      "execution_count": 44,
      "outputs": [
        {
          "output_type": "stream",
          "text": [
            "2021-07-25 21:39:12 UTC\n",
            "Generated 16000 PC seqs\n",
            "Generated 16000 NC seqs\n"
          ],
          "name": "stdout"
        }
      ]
    },
    {
      "cell_type": "code",
      "metadata": {
        "colab": {
          "base_uri": "https://localhost:8080/"
        },
        "id": "xTz0pkFlI_sr",
        "outputId": "a75e0ee1-4064-4917-d615-0ed9396cbaf2"
      },
      "source": [
        "# Describe the sequences\n",
        "def describe_sequences(list_of_seq):\n",
        "    oc = ORF_counter()\n",
        "    num_seq = len(list_of_seq)\n",
        "    rna_lens = np.zeros(num_seq)\n",
        "    orf_lens = np.zeros(num_seq)\n",
        "    for i in range(0,num_seq):\n",
        "        rna_len = len(list_of_seq[i])\n",
        "        rna_lens[i] = rna_len\n",
        "        oc.set_sequence(list_of_seq[i])\n",
        "        orf_len = oc.get_max_orf_len()\n",
        "        orf_lens[i] = orf_len\n",
        "    print (\"Average RNA length:\",rna_lens.mean())\n",
        "    print (\"Average ORF length:\",orf_lens.mean())\n",
        "    \n",
        "print(\"Simulated sequences prior to adjustment:\")\n",
        "print(\"PC seqs\")\n",
        "describe_sequences(pc_all)\n",
        "print(\"NC seqs\")\n",
        "describe_sequences(nc_all)\n",
        "show_time()"
      ],
      "execution_count": 45,
      "outputs": [
        {
          "output_type": "stream",
          "text": [
            "Simulated sequences prior to adjustment:\n",
            "PC seqs\n",
            "Average RNA length: 1000.0\n",
            "Average ORF length: 674.393625\n",
            "NC seqs\n",
            "Average RNA length: 1000.0\n",
            "Average ORF length: 180.1475625\n",
            "2021-07-25 21:39:30 UTC\n"
          ],
          "name": "stdout"
        }
      ]
    },
    {
      "cell_type": "markdown",
      "metadata": {
        "id": "CCNh_FZaI_sv"
      },
      "source": [
        "## Data Prep"
      ]
    },
    {
      "cell_type": "code",
      "metadata": {
        "colab": {
          "base_uri": "https://localhost:8080/"
        },
        "id": "V91rP2osI_s1",
        "outputId": "51366485-685f-4db5-a93f-cbf30df10d60"
      },
      "source": [
        "# Any portion of a shuffled list is a random selection\n",
        "pc_train=pc_all[:PC_TRAINS] \n",
        "nc_train=nc_all[:NC_TRAINS]\n",
        "pc_test=pc_all[PC_TRAINS:PC_TRAINS+PC_TESTS] \n",
        "nc_test=nc_all[NC_TRAINS:NC_TRAINS+PC_TESTS]\n",
        "print(\"PC train, NC train:\",len(pc_train),len(nc_train))\n",
        "print(\"PC test, NC test:\",len(pc_test),len(nc_test))\n",
        "# Garbage collection\n",
        "pc_all=None\n",
        "nc_all=None"
      ],
      "execution_count": 46,
      "outputs": [
        {
          "output_type": "stream",
          "text": [
            "PC train, NC train: 8000 8000\n",
            "PC test, NC test: 8000 8000\n"
          ],
          "name": "stdout"
        }
      ]
    },
    {
      "cell_type": "code",
      "metadata": {
        "colab": {
          "base_uri": "https://localhost:8080/"
        },
        "id": "FfyPeInGI_s4",
        "outputId": "ac498675-e77f-4e08-d794-5ef05c9cfb52"
      },
      "source": [
        "def prepare_x_and_y(seqs1,seqs0):\n",
        "    len1=len(seqs1)\n",
        "    len0=len(seqs0)\n",
        "    total=len1+len0\n",
        "    L1=np.ones(len1,dtype=np.int8)\n",
        "    L0=np.zeros(len0,dtype=np.int8)\n",
        "    S1 = np.asarray(seqs1)\n",
        "    S0 = np.asarray(seqs0)\n",
        "    # This code alternates PC/NC because I wronly suspected a bug in the shuffle code below.\n",
        "    all_labels = np.concatenate((L1,L0))\n",
        "    all_seqs = np.concatenate((S1,S0))  \n",
        "    for i in range(0,len0):\n",
        "        all_labels[i*2] = L0[i]\n",
        "        all_seqs[i*2] = S0[i]\n",
        "        all_labels[i*2+1] = L1[i]\n",
        "        all_seqs[i*2+1] = S1[i]\n",
        "    return all_seqs,all_labels  # use this to test unshuffled\n",
        "    X = shuffle(all_seqs,random_state=3) # sklearn.utils.shuffle \n",
        "    y = shuffle(all_labels,random_state=3) # sklearn.utils.shuffle \n",
        "    return X,y\n",
        "Xseq,y=prepare_x_and_y(pc_train,nc_train)\n",
        "print(Xseq[:3])\n",
        "print(y[:3])\n",
        "# Tests:\n",
        "show_time()"
      ],
      "execution_count": 47,
      "outputs": [
        {
          "output_type": "stream",
          "text": [
            "['TTTGTCTCCTTCGACCCTGGATACTATTGGTCGTCAAGGTAGAACTTGCGTTAGACGAACACTATGGGCACCGCGGCAGAGACGGACACAGGAAACATTATGCACGCCTTTACGTCAGTCATTCCCGTAGAACAACCTGGATGTGTGTGGCATGTTTTTTTTTGCCCACGTCCGTTCTCTGATAATGACTATCCGTGATGATGGTGTATCCAGTGACGTAAGATCTACAACTGAGCTAATGTTTCCTGTCTTCTTACGATTAGTTGCCTCCCCTACACATTCCGCAGCTGACAAGAATTGGTATGATCATTGGTCCTGCTTCAGTATACCAACGAAGCGTATCTTTGGTGCACGCCAACCAAGTCAGGGTGCTAAAAGATCGGTTGCCATCTATGGGGTTGCATGCACTGCTTCTTTGCATCTGAGAGCTCCAAAACTGATAATAGCCTAGCATCGTTAAGATTATCGTTCTGGTACATGGCAAAGGGTGACAAGTCATGTGGAGATGCCGTTACCCCGTGGACTGTCCCCGGTGATCCCAGAGGGGGAGCCATGCCTGACCAGGGGGCTAACCATCACTGGAGTGGTGCTTCAGTACATAGTGCACATGCCAACGTTGTCTCAGATTGATGAGAATGGCGCGTCGTCAACCTCCCCCGTACCTTCCACAGTTGTTCGTTCTGGCTTATATGGTTCGAGATTTACAGCAGAAGAAGGTCCGACAATCCCTAGAACTACGTTGGGAGGTAAACTGCTTGAGGATGCACACAAATTTCCAGCCGGCCAACTAAAGCAAACTACCCTGTACTCGACCCGTGTTATACGTACTTGAGAGCCTATAATCGTGCCACAATGTATACTTCCGTAAAGACCTCGGAACAAGGTAGGCGGGTCAGCGAAAACGACGGTGAGATCGTTGGAAATAGCAGTAGACATCACCACAAAGGCGCCGTCCAATTGTGAACACCTTGAGGGCCATCCCTCAGCGGGGGAGCTTACT'\n",
            " 'AGCCCCAAAAGGCGCAAACACAGTTAACCTCACTGCATGCCGAGACCATGGAAGTGTGGAGGATGTCAGTGTTAGCTCATCACGGTCCTCAGCCCTTGCTAACGTCGGCAGCCATTATTTTGGGGTTTTTGAACATCCAGGCAGACATCGTGTCGTGGTGTCAAGTGGTGTGTGCTAGTCGACCGCATAGAGAACCCAAAAGGTCTTGGTCCCGGCAACCGCAAAGGGGTAAAATTCATACGCTGCTTAGGGACAAGGCATATGATCGTAATGTAATTTCCTACATATACCATAGTAGCGGTCTGCGACCTAACGACTACTTGTTTGGGGTCGGCTGCATGCCACACTTGGTGCAACCTCCGGCTGAAGTTACAAGACTGTTGTGTAGAGTTAGTACGATTTACACGGCTGAAACGCTTTTCCACGTAACAGGATTCGATTGCTATCTCATCACTTATTTCGGGAGAGGCCAGCCTGGAACGCCATCAGGCAAGGTATTAGGTTCTTCTTTCAAGCGGTATTGCCCATTGCAGGTAGGACTGCCGTGCCTTCATGTTGAAGTTGCGTTTACGTGCTACCGTGTCATCGGGGTCCCTGATCACACCTATGCTCCACTTCCCTATGCAGCAGGGAGACACGGAGATCTAGTACTATGTATTGGCTTCCATGACGGAGAAGCGGTTCTACTCCGGGGCCCTGGTCCGTCACGCTCGGCACCTCCATTCATCAACTACGAGGAAGTCACATTACACGTGAACCACAGCTTGTCAACTCCCAGTAAAGCCTTCTGCGGACGAAGAAGCAACATCCTCTCGAGGAAATGGATAACGGAGAGTTGCGCGCACACTACGGACGGGTCTGAGACCGCTTCGCTAACACAGGTTCACGAATTAGGGACTAAAATTAATTCAATAGAACGGCCGGAGCTACAGCCATGAATAAGTCCATGTGCTCCTTATCAACCTTCAGTGATACTAGTGCGCGAGAACTGTATGAAAAG'\n",
            " 'AAGTGACTAAATGGCGAAATTCCCTGGGGTCGAAGAATTGCCACGCATAGCATAATGCGCACAGTCCTCCATTACTACTAATCCTCGTCTACATTGAGGAAGGAAGCACAAACTGACGATGGTGAGACGTTTGAGAGGCCTATTCGCTACTCTGTCAAAGGCCATGACCAGGCAATCCTACTCCAATTGAGGTAGAAGCCAGACGATAGACCACGGGGGTGATGCCGTGAAGTCTCGGGTGATGAAGACGATGTGGACAACCGCCACCGACAAAACTTCGATGGAGTCTCGACTTACTACGCATCCGTAGCGTTGCGTCATACATCTTTTCTTTCTGCAGACTAAGTTTGGCTTGGTCATCGGAACGCGTGACGCTGTATCGTATTACTTGAGGTTTTCCCTGATATCGCTAGCTGGTCACTCGTAAGAAAATAAATCCCTTGCTCTTACGCATTCGCTAGATCTAAGGCAGTCAAGTCAGTCGCACCCGGATGCGGTAAGTGCGCACAAACTATTACGCAGCCTAGCTTGCTCCCGAGTAATCTAGCATAGTAAGCAATCCATCGTGCTTACTACATTTGAACGATTGCCTTTCGATGCGTAAACTCTCTCGGTAGCGGGTCTAAAGCATATGACCGGAACACTGAAGCTTTTTCTCTCGAGTACATCCAGAACATCACTGCCCGTTCCAGAGAGCGGAAGCGCTCGCATATCCAGGTCTTTCCCTAAGGACCGGATTTGAGTGAACACTTAGAAGGAAAACAAAGCGCGCTTGGAAATGGATATTCGCCACTTGCTAAGTGCCCGGATGAAACCAGGATTGTCCTGCAACCTTCGTCCTGAGCCCAGATCCGTCATCCAATGCTAGCGTTGACGACTCCATTGTAAGCGAGCTGAGCGGCCCCGAACAAAGGACTATTGGTGTAAATTCCCAGGCAGACGTTGGATGATCTGGGTCAGACGATCTTGTCCAAGCAGAAGTAAACGCCTAGAACGCCAA']\n",
            "[0 1 0]\n",
            "2021-07-25 21:39:30 UTC\n"
          ],
          "name": "stdout"
        }
      ]
    },
    {
      "cell_type": "code",
      "metadata": {
        "colab": {
          "base_uri": "https://localhost:8080/"
        },
        "id": "LWLixZOfI_s7",
        "outputId": "6bfa7478-8175-4b2b-bcbd-56d16e42a9c5"
      },
      "source": [
        "def seqs_to_kmer_freqs(seqs,max_K):\n",
        "    tool = KmerTools()  # from SimTools\n",
        "    collection = []\n",
        "    for seq in seqs:\n",
        "        counts = tool.make_dict_upto_K(max_K)\n",
        "        # Last param should be True when using Harvester.\n",
        "        counts = tool.update_count_one_K(counts,max_K,seq,True)\n",
        "        # Given counts for K=3, Harvester fills in counts for K=1,2.\n",
        "        counts = tool.harvest_counts_from_K(counts,max_K)\n",
        "        fdict = tool.count_to_frequency(counts,max_K)\n",
        "        freqs = list(fdict.values())\n",
        "        collection.append(freqs)\n",
        "    return np.asarray(collection)\n",
        "Xfrq=seqs_to_kmer_freqs(Xseq,MAX_K)\n",
        "show_time()"
      ],
      "execution_count": 48,
      "outputs": [
        {
          "output_type": "stream",
          "text": [
            "2021-07-25 21:39:38 UTC\n"
          ],
          "name": "stdout"
        }
      ]
    },
    {
      "cell_type": "markdown",
      "metadata": {
        "id": "dJ4XhrzGI_s-"
      },
      "source": [
        "## Neural network"
      ]
    },
    {
      "cell_type": "code",
      "metadata": {
        "colab": {
          "base_uri": "https://localhost:8080/"
        },
        "id": "o5NPW7zKI_tC",
        "outputId": "a53e1ab1-5f70-454b-bbe3-62fa387fdfb5"
      },
      "source": [
        "def make_DNN():\n",
        "    dt=np.float32\n",
        "    print(\"make_DNN\")\n",
        "    print(\"input shape:\",INPUT_SHAPE)\n",
        "    dnn = Sequential()\n",
        "    dnn.add(Dense(NEURONS,activation=\"sigmoid\",dtype=dt))  # relu doesn't work as well\n",
        "    dnn.add(Dropout(DROP_RATE))\n",
        "    dnn.add(Dense(NEURONS,activation=\"sigmoid\",dtype=dt)) \n",
        "    dnn.add(Dropout(DROP_RATE))\n",
        "    dnn.add(Dense(1,activation=\"sigmoid\",dtype=dt))   \n",
        "    dnn.compile(optimizer='adam',    # adadelta doesn't work as well\n",
        "                loss=BinaryCrossentropy(from_logits=False),\n",
        "                metrics=['accuracy'])   # add to default metrics=loss\n",
        "    dnn.build(input_shape=INPUT_SHAPE) \n",
        "    return dnn\n",
        "model = make_DNN()\n",
        "print(model.summary())"
      ],
      "execution_count": 49,
      "outputs": [
        {
          "output_type": "stream",
          "text": [
            "make_DNN\n",
            "input shape: (None, 84)\n",
            "Model: \"sequential_6\"\n",
            "_________________________________________________________________\n",
            "Layer (type)                 Output Shape              Param #   \n",
            "=================================================================\n",
            "dense_18 (Dense)             (None, 128)               10880     \n",
            "_________________________________________________________________\n",
            "dropout_12 (Dropout)         (None, 128)               0         \n",
            "_________________________________________________________________\n",
            "dense_19 (Dense)             (None, 128)               16512     \n",
            "_________________________________________________________________\n",
            "dropout_13 (Dropout)         (None, 128)               0         \n",
            "_________________________________________________________________\n",
            "dense_20 (Dense)             (None, 1)                 129       \n",
            "=================================================================\n",
            "Total params: 27,521\n",
            "Trainable params: 27,521\n",
            "Non-trainable params: 0\n",
            "_________________________________________________________________\n",
            "None\n"
          ],
          "name": "stdout"
        }
      ]
    },
    {
      "cell_type": "code",
      "metadata": {
        "id": "E2Dr6L9lI_tE"
      },
      "source": [
        "def do_cross_validation(X,y):\n",
        "    cv_scores = []\n",
        "    fold=0\n",
        "    # One checkpoint object survives five folds to save best overall.\n",
        "    mycallbacks = [ModelCheckpoint(\n",
        "        filepath=BESTMODELPATH, save_best_only=True, \n",
        "        monitor='val_accuracy', mode='max')]   \n",
        "    # When shuffle=True, the valid indices are a random subset.\n",
        "    splitter = KFold(n_splits=SPLITS,shuffle=True)\n",
        "    for train_index,valid_index in splitter.split(X):\n",
        "        if fold < FOLDS:\n",
        "            fold += 1\n",
        "            X_train=X[train_index] # inputs for training\n",
        "            y_train=y[train_index] # labels for training\n",
        "            X_valid=X[valid_index] # inputs for validation\n",
        "            y_valid=y[valid_index] # labels for validation\n",
        "            print(\"MODEL\")\n",
        "            # Call constructor on each CV. Else, continually improves the same model.\n",
        "            model = model = make_DNN()\n",
        "            print(\"FIT\")  # model.fit() implements learning\n",
        "            start_time=time.time()\n",
        "            history=model.fit(X_train, y_train, \n",
        "                    epochs=EPOCHS, \n",
        "                    verbose=1,  # ascii art while learning\n",
        "                    callbacks=mycallbacks,   # called at end of each epoch\n",
        "                    validation_data=(X_valid,y_valid))\n",
        "            end_time=time.time()\n",
        "            elapsed_time=(end_time-start_time)                        \n",
        "            print(\"Fold %d, %d epochs, %d sec\"%(fold,EPOCHS,elapsed_time))\n",
        "            # print(history.history.keys())  # all these keys will be shown in figure\n",
        "            pd.DataFrame(history.history).plot(figsize=(8,5))\n",
        "            plt.grid(True)\n",
        "            plt.gca().set_ylim(0,1) # any losses > 1 will be off the scale\n",
        "            plt.show()\n",
        "    return model  # parameters at end of training"
      ],
      "execution_count": 50,
      "outputs": []
    },
    {
      "cell_type": "code",
      "metadata": {
        "colab": {
          "base_uri": "https://localhost:8080/",
          "height": 1000
        },
        "id": "Ey7Q-YWcI_tH",
        "outputId": "52d0c571-b354-4274-f0d0-59bce3f73347"
      },
      "source": [
        "show_time()\n",
        "last_model = do_cross_validation(Xfrq,y)\n",
        "last_model.save(LASTMODELPATH)"
      ],
      "execution_count": 51,
      "outputs": [
        {
          "output_type": "stream",
          "text": [
            "2021-07-25 21:39:38 UTC\n",
            "MODEL\n",
            "make_DNN\n",
            "input shape: (None, 84)\n",
            "FIT\n",
            "Epoch 1/100\n",
            "400/400 [==============================] - 2s 3ms/step - loss: 0.7011 - accuracy: 0.5112 - val_loss: 0.6964 - val_accuracy: 0.4928\n",
            "INFO:tensorflow:Assets written to: /content/drive/My Drive/data/BestModel/assets\n",
            "Epoch 2/100\n",
            "400/400 [==============================] - 1s 2ms/step - loss: 0.6965 - accuracy: 0.4979 - val_loss: 0.6920 - val_accuracy: 0.4928\n",
            "Epoch 3/100\n",
            "400/400 [==============================] - 1s 2ms/step - loss: 0.6970 - accuracy: 0.5011 - val_loss: 0.6925 - val_accuracy: 0.4928\n",
            "Epoch 4/100\n",
            "400/400 [==============================] - 1s 2ms/step - loss: 0.6938 - accuracy: 0.5143 - val_loss: 0.6893 - val_accuracy: 0.4931\n",
            "INFO:tensorflow:Assets written to: /content/drive/My Drive/data/BestModel/assets\n",
            "Epoch 5/100\n",
            "400/400 [==============================] - 1s 2ms/step - loss: 0.6889 - accuracy: 0.5341 - val_loss: 0.6815 - val_accuracy: 0.5991\n",
            "INFO:tensorflow:Assets written to: /content/drive/My Drive/data/BestModel/assets\n",
            "Epoch 6/100\n",
            "400/400 [==============================] - 1s 2ms/step - loss: 0.6834 - accuracy: 0.5523 - val_loss: 0.6735 - val_accuracy: 0.6169\n",
            "INFO:tensorflow:Assets written to: /content/drive/My Drive/data/BestModel/assets\n",
            "Epoch 7/100\n",
            "400/400 [==============================] - 1s 2ms/step - loss: 0.6740 - accuracy: 0.5829 - val_loss: 0.6617 - val_accuracy: 0.5969\n",
            "Epoch 8/100\n",
            "400/400 [==============================] - 1s 2ms/step - loss: 0.6573 - accuracy: 0.6204 - val_loss: 0.6450 - val_accuracy: 0.6234\n",
            "INFO:tensorflow:Assets written to: /content/drive/My Drive/data/BestModel/assets\n",
            "Epoch 9/100\n",
            "400/400 [==============================] - 1s 2ms/step - loss: 0.6406 - accuracy: 0.6373 - val_loss: 0.6195 - val_accuracy: 0.6625\n",
            "INFO:tensorflow:Assets written to: /content/drive/My Drive/data/BestModel/assets\n",
            "Epoch 10/100\n",
            "400/400 [==============================] - 1s 2ms/step - loss: 0.6166 - accuracy: 0.6625 - val_loss: 0.6369 - val_accuracy: 0.6153\n",
            "Epoch 11/100\n",
            "400/400 [==============================] - 1s 2ms/step - loss: 0.6108 - accuracy: 0.6663 - val_loss: 0.5948 - val_accuracy: 0.6731\n",
            "INFO:tensorflow:Assets written to: /content/drive/My Drive/data/BestModel/assets\n",
            "Epoch 12/100\n",
            "400/400 [==============================] - 1s 2ms/step - loss: 0.5987 - accuracy: 0.6811 - val_loss: 0.5799 - val_accuracy: 0.6994\n",
            "INFO:tensorflow:Assets written to: /content/drive/My Drive/data/BestModel/assets\n",
            "Epoch 13/100\n",
            "400/400 [==============================] - 1s 2ms/step - loss: 0.5945 - accuracy: 0.6766 - val_loss: 0.6124 - val_accuracy: 0.6559\n",
            "Epoch 14/100\n",
            "400/400 [==============================] - 1s 2ms/step - loss: 0.5932 - accuracy: 0.6809 - val_loss: 0.5930 - val_accuracy: 0.6706\n",
            "Epoch 15/100\n",
            "400/400 [==============================] - 1s 2ms/step - loss: 0.5960 - accuracy: 0.6776 - val_loss: 0.5898 - val_accuracy: 0.6734\n",
            "Epoch 16/100\n",
            "400/400 [==============================] - 1s 2ms/step - loss: 0.5876 - accuracy: 0.6853 - val_loss: 0.5777 - val_accuracy: 0.7006\n",
            "INFO:tensorflow:Assets written to: /content/drive/My Drive/data/BestModel/assets\n",
            "Epoch 17/100\n",
            "400/400 [==============================] - 1s 2ms/step - loss: 0.5850 - accuracy: 0.6883 - val_loss: 0.5610 - val_accuracy: 0.7103\n",
            "INFO:tensorflow:Assets written to: /content/drive/My Drive/data/BestModel/assets\n",
            "Epoch 18/100\n",
            "400/400 [==============================] - 1s 2ms/step - loss: 0.5797 - accuracy: 0.6851 - val_loss: 0.5804 - val_accuracy: 0.6934\n",
            "Epoch 19/100\n",
            "400/400 [==============================] - 1s 2ms/step - loss: 0.5764 - accuracy: 0.6952 - val_loss: 0.5645 - val_accuracy: 0.7103\n",
            "Epoch 20/100\n",
            "400/400 [==============================] - 1s 2ms/step - loss: 0.5892 - accuracy: 0.6839 - val_loss: 0.5542 - val_accuracy: 0.7156\n",
            "INFO:tensorflow:Assets written to: /content/drive/My Drive/data/BestModel/assets\n",
            "Epoch 21/100\n",
            "400/400 [==============================] - 1s 2ms/step - loss: 0.5763 - accuracy: 0.6878 - val_loss: 0.5896 - val_accuracy: 0.6812\n",
            "Epoch 22/100\n",
            "400/400 [==============================] - 1s 2ms/step - loss: 0.5660 - accuracy: 0.7022 - val_loss: 0.5539 - val_accuracy: 0.7194\n",
            "INFO:tensorflow:Assets written to: /content/drive/My Drive/data/BestModel/assets\n",
            "Epoch 23/100\n",
            "400/400 [==============================] - 1s 2ms/step - loss: 0.5762 - accuracy: 0.6919 - val_loss: 0.5632 - val_accuracy: 0.7078\n",
            "Epoch 24/100\n",
            "400/400 [==============================] - 1s 2ms/step - loss: 0.5732 - accuracy: 0.6944 - val_loss: 0.5502 - val_accuracy: 0.7150\n",
            "Epoch 25/100\n",
            "400/400 [==============================] - 1s 2ms/step - loss: 0.5696 - accuracy: 0.6999 - val_loss: 0.5630 - val_accuracy: 0.6994\n",
            "Epoch 26/100\n",
            "400/400 [==============================] - 1s 2ms/step - loss: 0.5655 - accuracy: 0.6995 - val_loss: 0.5457 - val_accuracy: 0.7262\n",
            "INFO:tensorflow:Assets written to: /content/drive/My Drive/data/BestModel/assets\n",
            "Epoch 27/100\n",
            "400/400 [==============================] - 1s 2ms/step - loss: 0.5774 - accuracy: 0.6955 - val_loss: 0.5450 - val_accuracy: 0.7272\n",
            "INFO:tensorflow:Assets written to: /content/drive/My Drive/data/BestModel/assets\n",
            "Epoch 28/100\n",
            "400/400 [==============================] - 1s 2ms/step - loss: 0.5637 - accuracy: 0.7112 - val_loss: 0.5454 - val_accuracy: 0.7228\n",
            "Epoch 29/100\n",
            "400/400 [==============================] - 1s 2ms/step - loss: 0.5763 - accuracy: 0.6918 - val_loss: 0.5472 - val_accuracy: 0.7200\n",
            "Epoch 30/100\n",
            "400/400 [==============================] - 1s 2ms/step - loss: 0.5632 - accuracy: 0.7108 - val_loss: 0.5406 - val_accuracy: 0.7297\n",
            "INFO:tensorflow:Assets written to: /content/drive/My Drive/data/BestModel/assets\n",
            "Epoch 31/100\n",
            "400/400 [==============================] - 1s 2ms/step - loss: 0.5591 - accuracy: 0.7087 - val_loss: 0.5375 - val_accuracy: 0.7259\n",
            "Epoch 32/100\n",
            "400/400 [==============================] - 1s 2ms/step - loss: 0.5580 - accuracy: 0.7177 - val_loss: 0.5578 - val_accuracy: 0.7063\n",
            "Epoch 33/100\n",
            "400/400 [==============================] - 1s 2ms/step - loss: 0.5606 - accuracy: 0.7052 - val_loss: 0.5427 - val_accuracy: 0.7219\n",
            "Epoch 34/100\n",
            "400/400 [==============================] - 1s 2ms/step - loss: 0.5581 - accuracy: 0.7091 - val_loss: 0.5447 - val_accuracy: 0.7172\n",
            "Epoch 35/100\n",
            "400/400 [==============================] - 1s 2ms/step - loss: 0.5604 - accuracy: 0.7053 - val_loss: 0.5347 - val_accuracy: 0.7303\n",
            "INFO:tensorflow:Assets written to: /content/drive/My Drive/data/BestModel/assets\n",
            "Epoch 36/100\n",
            "400/400 [==============================] - 1s 2ms/step - loss: 0.5588 - accuracy: 0.7067 - val_loss: 0.5367 - val_accuracy: 0.7281\n",
            "Epoch 37/100\n",
            "400/400 [==============================] - 1s 2ms/step - loss: 0.5626 - accuracy: 0.7116 - val_loss: 0.5460 - val_accuracy: 0.7237\n",
            "Epoch 38/100\n",
            "400/400 [==============================] - 1s 2ms/step - loss: 0.5615 - accuracy: 0.7000 - val_loss: 0.5337 - val_accuracy: 0.7278\n",
            "Epoch 39/100\n",
            "400/400 [==============================] - 1s 2ms/step - loss: 0.5567 - accuracy: 0.7103 - val_loss: 0.5329 - val_accuracy: 0.7272\n",
            "Epoch 40/100\n",
            "400/400 [==============================] - 1s 2ms/step - loss: 0.5578 - accuracy: 0.7096 - val_loss: 0.5362 - val_accuracy: 0.7284\n",
            "Epoch 41/100\n",
            "400/400 [==============================] - 1s 2ms/step - loss: 0.5613 - accuracy: 0.7050 - val_loss: 0.5369 - val_accuracy: 0.7266\n",
            "Epoch 42/100\n",
            "400/400 [==============================] - 1s 2ms/step - loss: 0.5514 - accuracy: 0.7156 - val_loss: 0.5631 - val_accuracy: 0.7056\n",
            "Epoch 43/100\n",
            "400/400 [==============================] - 1s 2ms/step - loss: 0.5638 - accuracy: 0.7065 - val_loss: 0.5297 - val_accuracy: 0.7281\n",
            "Epoch 44/100\n",
            "400/400 [==============================] - 1s 2ms/step - loss: 0.5562 - accuracy: 0.7127 - val_loss: 0.5368 - val_accuracy: 0.7300\n",
            "Epoch 45/100\n",
            "400/400 [==============================] - 1s 2ms/step - loss: 0.5552 - accuracy: 0.7130 - val_loss: 0.5285 - val_accuracy: 0.7297\n",
            "Epoch 46/100\n",
            "400/400 [==============================] - 1s 2ms/step - loss: 0.5525 - accuracy: 0.7054 - val_loss: 0.5312 - val_accuracy: 0.7300\n",
            "Epoch 47/100\n",
            "400/400 [==============================] - 1s 2ms/step - loss: 0.5527 - accuracy: 0.7156 - val_loss: 0.5470 - val_accuracy: 0.7184\n",
            "Epoch 48/100\n",
            "400/400 [==============================] - 1s 2ms/step - loss: 0.5521 - accuracy: 0.7152 - val_loss: 0.5284 - val_accuracy: 0.7347\n",
            "INFO:tensorflow:Assets written to: /content/drive/My Drive/data/BestModel/assets\n",
            "Epoch 49/100\n",
            "400/400 [==============================] - 1s 2ms/step - loss: 0.5451 - accuracy: 0.7194 - val_loss: 0.5288 - val_accuracy: 0.7297\n",
            "Epoch 50/100\n",
            "400/400 [==============================] - 1s 2ms/step - loss: 0.5525 - accuracy: 0.7110 - val_loss: 0.5289 - val_accuracy: 0.7337\n",
            "Epoch 51/100\n",
            "400/400 [==============================] - 1s 2ms/step - loss: 0.5551 - accuracy: 0.7091 - val_loss: 0.5286 - val_accuracy: 0.7350\n",
            "INFO:tensorflow:Assets written to: /content/drive/My Drive/data/BestModel/assets\n",
            "Epoch 52/100\n",
            "400/400 [==============================] - 1s 2ms/step - loss: 0.5462 - accuracy: 0.7221 - val_loss: 0.5313 - val_accuracy: 0.7325\n",
            "Epoch 53/100\n",
            "400/400 [==============================] - 1s 2ms/step - loss: 0.5442 - accuracy: 0.7164 - val_loss: 0.5276 - val_accuracy: 0.7303\n",
            "Epoch 54/100\n",
            "400/400 [==============================] - 1s 2ms/step - loss: 0.5514 - accuracy: 0.7146 - val_loss: 0.5570 - val_accuracy: 0.7084\n",
            "Epoch 55/100\n",
            "400/400 [==============================] - 1s 2ms/step - loss: 0.5529 - accuracy: 0.7117 - val_loss: 0.5282 - val_accuracy: 0.7322\n",
            "Epoch 56/100\n",
            "400/400 [==============================] - 1s 2ms/step - loss: 0.5459 - accuracy: 0.7156 - val_loss: 0.5277 - val_accuracy: 0.7294\n",
            "Epoch 57/100\n",
            "400/400 [==============================] - 1s 2ms/step - loss: 0.5500 - accuracy: 0.7167 - val_loss: 0.5270 - val_accuracy: 0.7341\n",
            "Epoch 58/100\n",
            "400/400 [==============================] - 1s 2ms/step - loss: 0.5422 - accuracy: 0.7273 - val_loss: 0.5310 - val_accuracy: 0.7328\n",
            "Epoch 59/100\n",
            "400/400 [==============================] - 1s 2ms/step - loss: 0.5497 - accuracy: 0.7176 - val_loss: 0.5298 - val_accuracy: 0.7328\n",
            "Epoch 60/100\n",
            "400/400 [==============================] - 1s 2ms/step - loss: 0.5591 - accuracy: 0.7114 - val_loss: 0.5438 - val_accuracy: 0.7241\n",
            "Epoch 61/100\n",
            "400/400 [==============================] - 1s 2ms/step - loss: 0.5476 - accuracy: 0.7227 - val_loss: 0.5253 - val_accuracy: 0.7322\n",
            "Epoch 62/100\n",
            "400/400 [==============================] - 1s 2ms/step - loss: 0.5444 - accuracy: 0.7236 - val_loss: 0.5346 - val_accuracy: 0.7319\n",
            "Epoch 63/100\n",
            "400/400 [==============================] - 1s 2ms/step - loss: 0.5410 - accuracy: 0.7252 - val_loss: 0.5275 - val_accuracy: 0.7322\n",
            "Epoch 64/100\n",
            "400/400 [==============================] - 1s 2ms/step - loss: 0.5419 - accuracy: 0.7239 - val_loss: 0.5345 - val_accuracy: 0.7322\n",
            "Epoch 65/100\n",
            "400/400 [==============================] - 1s 2ms/step - loss: 0.5610 - accuracy: 0.7083 - val_loss: 0.5246 - val_accuracy: 0.7325\n",
            "Epoch 66/100\n",
            "400/400 [==============================] - 1s 2ms/step - loss: 0.5459 - accuracy: 0.7206 - val_loss: 0.5379 - val_accuracy: 0.7306\n",
            "Epoch 67/100\n",
            "400/400 [==============================] - 1s 2ms/step - loss: 0.5501 - accuracy: 0.7170 - val_loss: 0.5500 - val_accuracy: 0.7181\n",
            "Epoch 68/100\n",
            "400/400 [==============================] - 1s 2ms/step - loss: 0.5479 - accuracy: 0.7169 - val_loss: 0.5253 - val_accuracy: 0.7381\n",
            "INFO:tensorflow:Assets written to: /content/drive/My Drive/data/BestModel/assets\n",
            "Epoch 69/100\n",
            "400/400 [==============================] - 1s 2ms/step - loss: 0.5409 - accuracy: 0.7164 - val_loss: 0.5251 - val_accuracy: 0.7337\n",
            "Epoch 70/100\n",
            "400/400 [==============================] - 1s 2ms/step - loss: 0.5454 - accuracy: 0.7221 - val_loss: 0.5459 - val_accuracy: 0.7231\n",
            "Epoch 71/100\n",
            "400/400 [==============================] - 1s 2ms/step - loss: 0.5381 - accuracy: 0.7179 - val_loss: 0.5308 - val_accuracy: 0.7325\n",
            "Epoch 72/100\n",
            "400/400 [==============================] - 1s 2ms/step - loss: 0.5439 - accuracy: 0.7176 - val_loss: 0.5262 - val_accuracy: 0.7366\n",
            "Epoch 73/100\n",
            "400/400 [==============================] - 1s 2ms/step - loss: 0.5422 - accuracy: 0.7227 - val_loss: 0.5405 - val_accuracy: 0.7287\n",
            "Epoch 74/100\n",
            "400/400 [==============================] - 1s 2ms/step - loss: 0.5407 - accuracy: 0.7219 - val_loss: 0.5432 - val_accuracy: 0.7256\n",
            "Epoch 75/100\n",
            "400/400 [==============================] - 1s 2ms/step - loss: 0.5506 - accuracy: 0.7147 - val_loss: 0.5261 - val_accuracy: 0.7359\n",
            "Epoch 76/100\n",
            "400/400 [==============================] - 1s 2ms/step - loss: 0.5430 - accuracy: 0.7201 - val_loss: 0.5456 - val_accuracy: 0.7222\n",
            "Epoch 77/100\n",
            "400/400 [==============================] - 1s 2ms/step - loss: 0.5465 - accuracy: 0.7170 - val_loss: 0.5314 - val_accuracy: 0.7300\n",
            "Epoch 78/100\n",
            "400/400 [==============================] - 1s 2ms/step - loss: 0.5397 - accuracy: 0.7189 - val_loss: 0.5312 - val_accuracy: 0.7297\n",
            "Epoch 79/100\n",
            "400/400 [==============================] - 1s 2ms/step - loss: 0.5431 - accuracy: 0.7212 - val_loss: 0.5273 - val_accuracy: 0.7334\n",
            "Epoch 80/100\n",
            "400/400 [==============================] - 1s 2ms/step - loss: 0.5356 - accuracy: 0.7307 - val_loss: 0.5254 - val_accuracy: 0.7359\n",
            "Epoch 81/100\n",
            "400/400 [==============================] - 1s 2ms/step - loss: 0.5412 - accuracy: 0.7239 - val_loss: 0.5359 - val_accuracy: 0.7316\n",
            "Epoch 82/100\n",
            "400/400 [==============================] - 1s 2ms/step - loss: 0.5433 - accuracy: 0.7178 - val_loss: 0.5242 - val_accuracy: 0.7341\n",
            "Epoch 83/100\n",
            "400/400 [==============================] - 1s 2ms/step - loss: 0.5367 - accuracy: 0.7271 - val_loss: 0.5499 - val_accuracy: 0.7212\n",
            "Epoch 84/100\n",
            "400/400 [==============================] - 1s 2ms/step - loss: 0.5453 - accuracy: 0.7163 - val_loss: 0.5239 - val_accuracy: 0.7312\n",
            "Epoch 85/100\n",
            "400/400 [==============================] - 1s 2ms/step - loss: 0.5432 - accuracy: 0.7275 - val_loss: 0.5235 - val_accuracy: 0.7362\n",
            "Epoch 86/100\n",
            "400/400 [==============================] - 1s 2ms/step - loss: 0.5327 - accuracy: 0.7297 - val_loss: 0.5332 - val_accuracy: 0.7278\n",
            "Epoch 87/100\n",
            "400/400 [==============================] - 1s 2ms/step - loss: 0.5376 - accuracy: 0.7273 - val_loss: 0.5246 - val_accuracy: 0.7350\n",
            "Epoch 88/100\n",
            "400/400 [==============================] - 1s 2ms/step - loss: 0.5386 - accuracy: 0.7247 - val_loss: 0.5311 - val_accuracy: 0.7328\n",
            "Epoch 89/100\n",
            "400/400 [==============================] - 1s 2ms/step - loss: 0.5338 - accuracy: 0.7286 - val_loss: 0.5259 - val_accuracy: 0.7359\n",
            "Epoch 90/100\n",
            "400/400 [==============================] - 1s 2ms/step - loss: 0.5380 - accuracy: 0.7296 - val_loss: 0.5255 - val_accuracy: 0.7322\n",
            "Epoch 91/100\n",
            "400/400 [==============================] - 1s 2ms/step - loss: 0.5488 - accuracy: 0.7146 - val_loss: 0.5286 - val_accuracy: 0.7356\n",
            "Epoch 92/100\n",
            "400/400 [==============================] - 1s 2ms/step - loss: 0.5512 - accuracy: 0.7143 - val_loss: 0.5241 - val_accuracy: 0.7359\n",
            "Epoch 93/100\n",
            "400/400 [==============================] - 1s 2ms/step - loss: 0.5312 - accuracy: 0.7289 - val_loss: 0.5387 - val_accuracy: 0.7278\n",
            "Epoch 94/100\n",
            "400/400 [==============================] - 1s 2ms/step - loss: 0.5328 - accuracy: 0.7279 - val_loss: 0.5238 - val_accuracy: 0.7350\n",
            "Epoch 95/100\n",
            "400/400 [==============================] - 1s 2ms/step - loss: 0.5477 - accuracy: 0.7169 - val_loss: 0.5345 - val_accuracy: 0.7309\n",
            "Epoch 96/100\n",
            "400/400 [==============================] - 1s 2ms/step - loss: 0.5404 - accuracy: 0.7255 - val_loss: 0.5268 - val_accuracy: 0.7366\n",
            "Epoch 97/100\n",
            "400/400 [==============================] - 1s 2ms/step - loss: 0.5444 - accuracy: 0.7209 - val_loss: 0.5339 - val_accuracy: 0.7284\n",
            "Epoch 98/100\n",
            "400/400 [==============================] - 1s 2ms/step - loss: 0.5392 - accuracy: 0.7266 - val_loss: 0.5293 - val_accuracy: 0.7350\n",
            "Epoch 99/100\n",
            "400/400 [==============================] - 1s 2ms/step - loss: 0.5422 - accuracy: 0.7279 - val_loss: 0.5309 - val_accuracy: 0.7337\n",
            "Epoch 100/100\n",
            "400/400 [==============================] - 1s 2ms/step - loss: 0.5440 - accuracy: 0.7249 - val_loss: 0.5404 - val_accuracy: 0.7272\n",
            "Fold 1, 100 epochs, 107 sec\n"
          ],
          "name": "stdout"
        },
        {
          "output_type": "display_data",
          "data": {
            "image/png": "[encoded data removed]",
            "text/plain": [
              "<Figure size 576x360 with 1 Axes>"
            ]
          },
          "metadata": {
            "tags": [],
            "needs_background": "light"
          }
        },
        {
          "output_type": "stream",
          "text": [
            "INFO:tensorflow:Assets written to: /content/drive/My Drive/data/LastModel/assets\n"
          ],
          "name": "stdout"
        }
      ]
    },
    {
      "cell_type": "code",
      "metadata": {
        "id": "tGf2PcxRC8jT"
      },
      "source": [
        "def show_test_AUC(model,X,y):\n",
        "    ns_probs = [0 for _ in range(len(y))]\n",
        "    bm_probs = model.predict(X)\n",
        "    ns_auc = roc_auc_score(y, ns_probs)\n",
        "    bm_auc = roc_auc_score(y, bm_probs)\n",
        "    ns_fpr, ns_tpr, _ = roc_curve(y, ns_probs)\n",
        "    bm_fpr, bm_tpr, _ = roc_curve(y, bm_probs)\n",
        "    plt.plot(ns_fpr, ns_tpr, linestyle='--', label='Guess, auc=%.4f'%ns_auc)\n",
        "    plt.plot(bm_fpr, bm_tpr, marker='.', label='Model, auc=%.4f'%bm_auc)\n",
        "    plt.title('ROC')\n",
        "    plt.xlabel('False Positive Rate')\n",
        "    plt.ylabel('True Positive Rate')\n",
        "    plt.legend()\n",
        "    plt.show()\n",
        "    print(\"%s: %.2f%%\" %('AUC',bm_auc*100.0))\n",
        "def show_test_accuracy(model,X,y):\n",
        "    scores = model.evaluate(X, y, verbose=0)\n",
        "    print(\"%s: %.2f%%\" % (model.metrics_names[1], scores[1]*100))\n"
      ],
      "execution_count": 52,
      "outputs": []
    },
    {
      "cell_type": "code",
      "metadata": {
        "colab": {
          "base_uri": "https://localhost:8080/",
          "height": 469
        },
        "id": "qI__Wk_SZoLD",
        "outputId": "aef6789f-b7f3-4823-cf1f-ec3ab7cdb81f"
      },
      "source": [
        "print(\"Accuracy on training data.\")\n",
        "print(\"Prepare...\")\n",
        "show_time()\n",
        "Xseq,y=prepare_x_and_y(pc_train,nc_train)\n",
        "print(\"Extract K-mer features...\")\n",
        "show_time()\n",
        "Xfrq=seqs_to_kmer_freqs(Xseq,MAX_K)\n",
        "print(\"Plot...\")\n",
        "show_time()\n",
        "show_test_AUC(last_model,Xfrq,y)\n",
        "show_test_accuracy(last_model,Xfrq,y)\n",
        "show_time()"
      ],
      "execution_count": 53,
      "outputs": [
        {
          "output_type": "stream",
          "text": [
            "Accuracy on training data.\n",
            "Prepare...\n",
            "2021-07-25 21:41:28 UTC\n",
            "Extract K-mer features...\n",
            "2021-07-25 21:41:28 UTC\n",
            "Plot...\n",
            "2021-07-25 21:41:36 UTC\n"
          ],
          "name": "stdout"
        },
        {
          "output_type": "display_data",
          "data": {
            "image/png": "[encoded data removed]",
            "text/plain": [
              "<Figure size 432x288 with 1 Axes>"
            ]
          },
          "metadata": {
            "tags": [],
            "needs_background": "light"
          }
        },
        {
          "output_type": "stream",
          "text": [
            "AUC: 81.28%\n",
            "accuracy: 71.84%\n",
            "2021-07-25 21:41:37 UTC\n"
          ],
          "name": "stdout"
        }
      ]
    },
    {
      "cell_type": "code",
      "metadata": {
        "colab": {
          "base_uri": "https://localhost:8080/",
          "height": 469
        },
        "id": "RU_sDV30Zq6G",
        "outputId": "91921423-ea0a-4312-bcad-c46eac51b53c"
      },
      "source": [
        "print(\"Accuracy on test data.\")\n",
        "print(\"Prepare...\")\n",
        "show_time()\n",
        "Xseq,y=prepare_x_and_y(pc_test,nc_test)\n",
        "print(\"Extract K-mer features...\")\n",
        "show_time()\n",
        "Xfrq=seqs_to_kmer_freqs(Xseq,MAX_K)\n",
        "print(\"Plot...\")\n",
        "show_time()\n",
        "show_test_AUC(last_model,Xfrq,y)\n",
        "show_test_accuracy(last_model,Xfrq,y)\n",
        "show_time()"
      ],
      "execution_count": 54,
      "outputs": [
        {
          "output_type": "stream",
          "text": [
            "Accuracy on test data.\n",
            "Prepare...\n",
            "2021-07-25 21:41:37 UTC\n",
            "Extract K-mer features...\n",
            "2021-07-25 21:41:37 UTC\n",
            "Plot...\n",
            "2021-07-25 21:41:45 UTC\n"
          ],
          "name": "stdout"
        },
        {
          "output_type": "display_data",
          "data": {
            "image/png": "[encoded data removed]",
            "text/plain": [
              "<Figure size 432x288 with 1 Axes>"
            ]
          },
          "metadata": {
            "tags": [],
            "needs_background": "light"
          }
        },
        {
          "output_type": "stream",
          "text": [
            "AUC: 82.09%\n",
            "accuracy: 72.52%\n",
            "2021-07-25 21:41:46 UTC\n"
          ],
          "name": "stdout"
        }
      ]
    }
  ]
}