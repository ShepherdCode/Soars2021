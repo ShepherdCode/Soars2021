{
  "nbformat": 4,
  "nbformat_minor": 0,
  "metadata": {
    "accelerator": "GPU",
    "colab": {
      "name": "ConvRecur_104.ipynb",
      "provenance": [],
      "collapsed_sections": []
    },
    "kernelspec": {
      "display_name": "Python 3",
      "language": "python",
      "name": "python3"
    },
    "language_info": {
      "codemirror_mode": {
        "name": "ipython",
        "version": 3
      },
      "file_extension": ".py",
      "mimetype": "text/x-python",
      "name": "python",
      "nbconvert_exporter": "python",
      "pygments_lexer": "ipython3",
      "version": "3.8.3"
    }
  },
  "cells": [
    {
      "cell_type": "markdown",
      "metadata": {
        "id": "0asdcdunj2Tx"
      },
      "source": [
        "# ORF recognition by Convolutional/Recurrent\n",
        "\n",
        "Start with ORF_CNN_118 and add an LSTM layer."
      ]
    },
    {
      "cell_type": "code",
      "metadata": {
        "colab": {
          "base_uri": "https://localhost:8080/",
          "height": 36
        },
        "id": "QP1VTRNQj2UO",
        "outputId": "85f76b2c-7570-49e5-ff6c-26c1bc79b751"
      },
      "source": [
        "import time \n",
        "t = time.time()\n",
        "time.strftime('%Y-%m-%d %H:%M:%S %Z', time.localtime(t))"
      ],
      "execution_count": 1,
      "outputs": [
        {
          "output_type": "execute_result",
          "data": {
            "application/vnd.google.colaboratory.intrinsic+json": {
              "type": "string"
            },
            "text/plain": [
              "'2021-06-17 19:51:34 UTC'"
            ]
          },
          "metadata": {
            "tags": []
          },
          "execution_count": 1
        }
      ]
    },
    {
      "cell_type": "code",
      "metadata": {
        "id": "Nhz4GKonj2T_"
      },
      "source": [
        "PC_SEQUENCES=32000   # how many protein-coding sequences\n",
        "NC_SEQUENCES=32000   # how many non-coding sequences\n",
        "PC_TESTS=1000\n",
        "NC_TESTS=1000\n",
        "RNA_LEN=100            # how long is each sequence\n",
        "CDS_LEN=60            # min CDS len to be coding\n",
        "ALPHABET=4          # how many different letters are possible\n",
        "INPUT_SHAPE_2D = (RNA_LEN,ALPHABET,1) # Conv2D needs 3D inputs\n",
        "INPUT_SHAPE = (RNA_LEN,ALPHABET) # Conv1D needs 2D inputs\n",
        "FILTERS = 32   # how many different patterns the model looks for\n",
        "CELLS = 32\n",
        "NEURONS = 32\n",
        "DROP_RATE = 0.4\n",
        "WIDTH = 3   # how wide each pattern is, in bases\n",
        "STRIDE_2D = (1,1)  # For Conv2D how far in each direction\n",
        "STRIDE = 1 # For Conv1D, how far between pattern matches, in bases\n",
        "EPOCHS=100  # how many times to train on all the data\n",
        "SPLITS=3  # SPLITS=3 means train on 2/3 and validate on 1/3 \n",
        "FOLDS=3  # train the model this many times (range 1 to SPLITS)"
      ],
      "execution_count": 2,
      "outputs": []
    },
    {
      "cell_type": "code",
      "metadata": {
        "colab": {
          "base_uri": "https://localhost:8080/"
        },
        "id": "lr7q90rxj2UE",
        "outputId": "fb981028-6944-4f6a-c1c3-3742fc519ca0"
      },
      "source": [
        "import sys\n",
        "try:\n",
        "    from google.colab import drive\n",
        "    IN_COLAB = True\n",
        "    print(\"On Google CoLab, mount cloud-local file, get our code from GitHub.\")\n",
        "    PATH='/content/drive/'\n",
        "    #drive.mount(PATH,force_remount=True)  # hardly ever need this\n",
        "    #drive.mount(PATH)    # Google will require login credentials\n",
        "    DATAPATH=PATH+'My Drive/data/'  # must end in \"/\"\n",
        "    import requests\n",
        "    r = requests.get('https://raw.githubusercontent.com/ShepherdCode/Soars2021/master/SimTools/RNA_gen.py')\n",
        "    with open('RNA_gen.py', 'w') as f:\n",
        "        f.write(r.text)  \n",
        "    from RNA_gen import *\n",
        "    r = requests.get('https://raw.githubusercontent.com/ShepherdCode/Soars2021/master/SimTools/RNA_describe.py')\n",
        "    with open('RNA_describe.py', 'w') as f:\n",
        "        f.write(r.text)  \n",
        "    from RNA_describe import ORF_counter\n",
        "    r = requests.get('https://raw.githubusercontent.com/ShepherdCode/Soars2021/master/SimTools/RNA_prep.py')\n",
        "    with open('RNA_prep.py', 'w') as f:\n",
        "        f.write(r.text)  \n",
        "    from RNA_prep import *\n",
        "except:\n",
        "    print(\"CoLab not working. On my PC, use relative paths.\")\n",
        "    IN_COLAB = False\n",
        "    DATAPATH='data/'  # must end in \"/\"\n",
        "    sys.path.append(\"..\") # append parent dir in order to use sibling dirs\n",
        "    from SimTools.RNA_gen import *\n",
        "    from SimTools.RNA_describe import ORF_counter\n",
        "    from SimTools.RNA_prep import *\n",
        "\n",
        "MODELPATH=\"BestModel\"  # saved on cloud instance and lost after logout\n",
        "#MODELPATH=DATAPATH+MODELPATH  # saved on Google Drive but requires login\n",
        "\n",
        "if not assert_imported_RNA_gen():\n",
        "    print(\"ERROR: Cannot use RNA_gen.\")\n",
        "if not assert_imported_RNA_prep():\n",
        "    print(\"ERROR: Cannot use RNA_prep.\")"
      ],
      "execution_count": 3,
      "outputs": [
        {
          "output_type": "stream",
          "text": [
            "On Google CoLab, mount cloud-local file, get our code from GitHub.\n"
          ],
          "name": "stdout"
        }
      ]
    },
    {
      "cell_type": "code",
      "metadata": {
        "id": "EGDXH8Uwj2UM"
      },
      "source": [
        "from os import listdir\n",
        "import csv\n",
        "from zipfile import ZipFile\n",
        "\n",
        "import numpy as np\n",
        "import pandas as pd\n",
        "from scipy import stats  # mode\n",
        "\n",
        "from sklearn.preprocessing import StandardScaler\n",
        "from sklearn.model_selection import KFold\n",
        "from sklearn.model_selection import cross_val_score\n",
        "\n",
        "from keras.models import Sequential\n",
        "from keras.layers import Dense,Embedding,Dropout\n",
        "from keras.layers import Conv1D,Conv2D\n",
        "from keras.layers import GRU,LSTM\n",
        "from keras.layers import Flatten,TimeDistributed\n",
        "from keras.layers import MaxPooling1D,MaxPooling2D\n",
        "from keras.losses import BinaryCrossentropy\n",
        "# tf.keras.losses.BinaryCrossentropy\n",
        "\n",
        "import matplotlib.pyplot as plt\n",
        "from matplotlib import colors\n",
        "mycmap = colors.ListedColormap(['red','blue'])  # list color for label 0 then 1\n",
        "np.set_printoptions(precision=2)\n"
      ],
      "execution_count": 4,
      "outputs": []
    },
    {
      "cell_type": "code",
      "metadata": {
        "colab": {
          "base_uri": "https://localhost:8080/"
        },
        "id": "CUOG_jEvGtOm",
        "outputId": "27127a55-b456-4320-c672-4033d87e4603"
      },
      "source": [
        "import random\n",
        "def partition_random_sequences(goal_per_class):\n",
        "    pc_seqs=[]\n",
        "    nc_seqs=[]\n",
        "    oc = ORF_counter()\n",
        "    trials = 0\n",
        "    pc_cnt = 0\n",
        "    nc_cnt = 0\n",
        "    bases=['A','C','G','T']\n",
        "    while pc_cnt<goal_per_class or nc_cnt<goal_per_class:\n",
        "        trials += 1        \n",
        "        between_bases = random.randint(0,RNA_LEN-6) \n",
        "        utr5_bases = (RNA_LEN - (between_bases + 6)) // 2\n",
        "        utr3_bases = RNA_LEN - (utr5_bases + (between_bases+6))\n",
        "        one_seq  = \"\".join(random.choices(bases,k=utr5_bases)) \n",
        "        one_seq += 'ATG'    \n",
        "        one_seq += \"\".join(random.choices(bases,k=between_bases)) \n",
        "        random_stop = random.choice(['TAA','TAG','TGA']) # random frame\n",
        "        one_seq += random_stop\n",
        "        one_seq += \"\".join(random.choices(bases,k=utr3_bases))  \n",
        "        if len(one_seq) != RNA_LEN:\n",
        "            print(\"WRONG LENGTH:\",len(one_seq),utr5_bases,between_bases,utr3_bases)\n",
        "        oc.set_sequence(one_seq)\n",
        "        cds_len = oc.get_max_cds_len() + 3\n",
        "        if cds_len >= CDS_LEN and pc_cnt<goal_per_class:\n",
        "            pc_cnt += 1\n",
        "            pc_seqs.append(one_seq)\n",
        "        elif cds_len < CDS_LEN and nc_cnt<goal_per_class:\n",
        "            nc_cnt += 1\n",
        "            nc_seqs.append(one_seq)\n",
        "    print (\"It took %d trials to reach %d per class.\"%(trials,goal_per_class))\n",
        "    return pc_seqs,nc_seqs\n",
        "pc_all,nc_all=partition_random_sequences(10)  # just testing\n",
        "pc_all,nc_all=partition_random_sequences(PC_SEQUENCES+PC_TESTS)\n",
        "print(\"Use\",len(pc_all),\"PC seqs\")\n",
        "print(\"Use\",len(nc_all),\"NC seqs\")"
      ],
      "execution_count": 5,
      "outputs": [
        {
          "output_type": "stream",
          "text": [
            "It took 52 trials to reach 10 per class.\n",
            "It took 157988 trials to reach 33000 per class.\n",
            "Use 33000 PC seqs\n",
            "Use 33000 NC seqs\n"
          ],
          "name": "stdout"
        }
      ]
    },
    {
      "cell_type": "code",
      "metadata": {
        "colab": {
          "base_uri": "https://localhost:8080/"
        },
        "id": "Q-BmSXi2jUyl",
        "outputId": "4b488564-5c84-4c1c-9df1-58c18787ca87"
      },
      "source": [
        "# Describe the sequences\n",
        "def describe_sequences(list_of_seq):\n",
        "    oc = ORF_counter()\n",
        "    num_seq = len(list_of_seq)\n",
        "    rna_lens = np.zeros(num_seq)\n",
        "    orf_lens = np.zeros(num_seq)\n",
        "    for i in range(0,num_seq):\n",
        "        rna_len = len(list_of_seq[i])\n",
        "        rna_lens[i] = rna_len\n",
        "        oc.set_sequence(list_of_seq[i])\n",
        "        orf_len = oc.get_max_orf_len()\n",
        "        orf_lens[i] = orf_len\n",
        "    print (\"Average RNA length:\",rna_lens.mean())\n",
        "    print (\"Average ORF length:\",orf_lens.mean())\n",
        "    \n",
        "print(\"Simulated sequences prior to adjustment:\")\n",
        "print(\"PC seqs\")\n",
        "describe_sequences(pc_all)\n",
        "print(\"NC seqs\")\n",
        "describe_sequences(nc_all)"
      ],
      "execution_count": 6,
      "outputs": [
        {
          "output_type": "stream",
          "text": [
            "Simulated sequences prior to adjustment:\n",
            "PC seqs\n",
            "Average RNA length: 100.0\n",
            "Average ORF length: 67.48281818181819\n",
            "NC seqs\n",
            "Average RNA length: 100.0\n",
            "Average ORF length: 22.080272727272728\n"
          ],
          "name": "stdout"
        }
      ]
    },
    {
      "cell_type": "code",
      "metadata": {
        "id": "iP1y7-J3jUys"
      },
      "source": [
        "pc_train=pc_all[:PC_SEQUENCES]\n",
        "nc_train=nc_all[:NC_SEQUENCES]\n",
        "pc_test=pc_all[PC_SEQUENCES:]\n",
        "nc_test=nc_all[NC_SEQUENCES:]"
      ],
      "execution_count": 7,
      "outputs": []
    },
    {
      "cell_type": "code",
      "metadata": {
        "colab": {
          "base_uri": "https://localhost:8080/"
        },
        "id": "CIpTrnH6j2US",
        "outputId": "2b72f200-13a8-44f8-a7cb-ca967173e3cf"
      },
      "source": [
        "# Use code from our SimTools library.\n",
        "X,y = prepare_inputs_len_x_alphabet(pc_train,nc_train,ALPHABET) # shuffles\n",
        "print(\"Data ready.\")"
      ],
      "execution_count": 8,
      "outputs": [
        {
          "output_type": "stream",
          "text": [
            "Data ready.\n"
          ],
          "name": "stdout"
        }
      ]
    },
    {
      "cell_type": "code",
      "metadata": {
        "colab": {
          "base_uri": "https://localhost:8080/"
        },
        "id": "7NvrVU8ij2UU",
        "outputId": "8c7af97f-b0dc-4565-e29f-6b37e1b9e584"
      },
      "source": [
        "def make_DNN():\n",
        "    print(\"make_DNN\")\n",
        "    print(\"input shape:\",INPUT_SHAPE)\n",
        "    dnn = Sequential()\n",
        "    #dnn.add(Embedding(input_dim=INPUT_SHAPE,output_dim=INPUT_SHAPE)) \n",
        "    dnn.add(Conv1D(filters=FILTERS,kernel_size=WIDTH,strides=STRIDE,padding=\"same\",\n",
        "            input_shape=INPUT_SHAPE))\n",
        "    dnn.add(Conv1D(filters=FILTERS,kernel_size=WIDTH,strides=STRIDE,padding=\"same\"))\n",
        "    dnn.add(MaxPooling1D())\n",
        "    #dnn.add(Conv1D(filters=FILTERS,kernel_size=WIDTH,strides=STRIDE,padding=\"same\"))\n",
        "    #dnn.add(Conv1D(filters=FILTERS,kernel_size=WIDTH,strides=STRIDE,padding=\"same\"))\n",
        "    #dnn.add(MaxPooling1D())\n",
        "    #dnn.add(TimeDistributed(Flatten()))\n",
        "    dnn.add(GRU(CELLS,return_sequences=True))\n",
        "    dnn.add(GRU(CELLS,return_sequences=False))\n",
        "    dnn.add(Dense(NEURONS,activation=\"sigmoid\",dtype=np.float32))   \n",
        "    dnn.add(Dropout(DROP_RATE))\n",
        "    dnn.add(Dense(1,activation=\"sigmoid\",dtype=np.float32))   \n",
        "    dnn.compile(optimizer='adam',\n",
        "                loss=BinaryCrossentropy(from_logits=False),\n",
        "                metrics=['accuracy'])   # add to default metrics=loss\n",
        "    dnn.build(input_shape=INPUT_SHAPE)\n",
        "    #ln_rate = tf.keras.optimizers.Adam(learning_rate = LN_RATE)\n",
        "    #bc=tf.keras.losses.BinaryCrossentropy(from_logits=False)\n",
        "    #model.compile(loss=bc, optimizer=ln_rate, metrics=[\"accuracy\"])\n",
        "    return dnn\n",
        "model = make_DNN()\n",
        "print(model.summary())"
      ],
      "execution_count": 9,
      "outputs": [
        {
          "output_type": "stream",
          "text": [
            "make_DNN\n",
            "input shape: (100, 4)\n",
            "Model: \"sequential\"\n",
            "_________________________________________________________________\n",
            "Layer (type)                 Output Shape              Param #   \n",
            "=================================================================\n",
            "conv1d (Conv1D)              (None, 100, 32)           416       \n",
            "_________________________________________________________________\n",
            "conv1d_1 (Conv1D)            (None, 100, 32)           3104      \n",
            "_________________________________________________________________\n",
            "max_pooling1d (MaxPooling1D) (None, 50, 32)            0         \n",
            "_________________________________________________________________\n",
            "gru (GRU)                    (None, 50, 32)            6336      \n",
            "_________________________________________________________________\n",
            "gru_1 (GRU)                  (None, 32)                6336      \n",
            "_________________________________________________________________\n",
            "dense (Dense)                (None, 32)                1056      \n",
            "_________________________________________________________________\n",
            "dropout (Dropout)            (None, 32)                0         \n",
            "_________________________________________________________________\n",
            "dense_1 (Dense)              (None, 1)                 33        \n",
            "=================================================================\n",
            "Total params: 17,281\n",
            "Trainable params: 17,281\n",
            "Non-trainable params: 0\n",
            "_________________________________________________________________\n",
            "None\n"
          ],
          "name": "stdout"
        }
      ]
    },
    {
      "cell_type": "code",
      "metadata": {
        "id": "nlVF0hR3j2UW"
      },
      "source": [
        "from keras.callbacks import ModelCheckpoint\n",
        "def do_cross_validation(X,y):\n",
        "    cv_scores = []\n",
        "    fold=0\n",
        "    mycallbacks = [ModelCheckpoint(\n",
        "        filepath=MODELPATH, save_best_only=True, \n",
        "        monitor='val_accuracy', mode='max')]   \n",
        "    splitter = KFold(n_splits=SPLITS)  # this does not shuffle\n",
        "    for train_index,valid_index in splitter.split(X):\n",
        "        if fold < FOLDS:\n",
        "            fold += 1\n",
        "            X_train=X[train_index] # inputs for training\n",
        "            y_train=y[train_index] # labels for training\n",
        "            X_valid=X[valid_index] # inputs for validation\n",
        "            y_valid=y[valid_index] # labels for validation\n",
        "            print(\"MODEL\")\n",
        "            # Call constructor on each CV. Else, continually improves the same model.\n",
        "            model = model = make_DNN()\n",
        "            print(\"FIT\")  # model.fit() implements learning\n",
        "            start_time=time.time()\n",
        "            history=model.fit(X_train, y_train, \n",
        "                    epochs=EPOCHS, \n",
        "                    verbose=1,  # ascii art while learning\n",
        "                    callbacks=mycallbacks,   # called at end of each epoch\n",
        "                    validation_data=(X_valid,y_valid))\n",
        "            end_time=time.time()\n",
        "            elapsed_time=(end_time-start_time)                        \n",
        "            print(\"Fold %d, %d epochs, %d sec\"%(fold,EPOCHS,elapsed_time))\n",
        "            # print(history.history.keys())  # all these keys will be shown in figure\n",
        "            pd.DataFrame(history.history).plot(figsize=(8,5))\n",
        "            plt.grid(True)\n",
        "            plt.gca().set_ylim(0,1) # any losses > 1 will be off the scale\n",
        "            plt.show()\n"
      ],
      "execution_count": 10,
      "outputs": []
    },
    {
      "cell_type": "code",
      "metadata": {
        "colab": {
          "base_uri": "https://localhost:8080/",
          "height": 1000
        },
        "id": "9Ggt4EsSj2UY",
        "outputId": "bd4b0e9f-4b45-49c8-e7fa-e375bbbf9cf1"
      },
      "source": [
        "do_cross_validation(X,y)"
      ],
      "execution_count": 11,
      "outputs": [
        {
          "output_type": "stream",
          "text": [
            "MODEL\n",
            "make_DNN\n",
            "input shape: (100, 4)\n",
            "FIT\n",
            "Epoch 1/100\n",
            "1334/1334 [==============================] - 33s 11ms/step - loss: 0.6922 - accuracy: 0.5410 - val_loss: 0.6183 - val_accuracy: 0.6545\n"
          ],
          "name": "stdout"
        },
        {
          "output_type": "stream",
          "text": [
            "WARNING:absl:Found untraced functions such as gru_cell_2_layer_call_and_return_conditional_losses, gru_cell_2_layer_call_fn, gru_cell_3_layer_call_and_return_conditional_losses, gru_cell_3_layer_call_fn, gru_cell_2_layer_call_fn while saving (showing 5 of 10). These functions will not be directly callable after loading.\n"
          ],
          "name": "stderr"
        },
        {
          "output_type": "stream",
          "text": [
            "INFO:tensorflow:Assets written to: BestModel/assets\n"
          ],
          "name": "stdout"
        },
        {
          "output_type": "stream",
          "text": [
            "INFO:tensorflow:Assets written to: BestModel/assets\n"
          ],
          "name": "stderr"
        },
        {
          "output_type": "stream",
          "text": [
            "Epoch 2/100\n",
            "1334/1334 [==============================] - 13s 10ms/step - loss: 0.6165 - accuracy: 0.6553 - val_loss: 0.6032 - val_accuracy: 0.6667\n"
          ],
          "name": "stdout"
        },
        {
          "output_type": "stream",
          "text": [
            "WARNING:absl:Found untraced functions such as gru_cell_2_layer_call_and_return_conditional_losses, gru_cell_2_layer_call_fn, gru_cell_3_layer_call_and_return_conditional_losses, gru_cell_3_layer_call_fn, gru_cell_2_layer_call_fn while saving (showing 5 of 10). These functions will not be directly callable after loading.\n"
          ],
          "name": "stderr"
        },
        {
          "output_type": "stream",
          "text": [
            "INFO:tensorflow:Assets written to: BestModel/assets\n"
          ],
          "name": "stdout"
        },
        {
          "output_type": "stream",
          "text": [
            "INFO:tensorflow:Assets written to: BestModel/assets\n"
          ],
          "name": "stderr"
        },
        {
          "output_type": "stream",
          "text": [
            "Epoch 3/100\n",
            "1334/1334 [==============================] - 13s 10ms/step - loss: 0.5952 - accuracy: 0.6790 - val_loss: 0.5570 - val_accuracy: 0.7050\n"
          ],
          "name": "stdout"
        },
        {
          "output_type": "stream",
          "text": [
            "WARNING:absl:Found untraced functions such as gru_cell_2_layer_call_and_return_conditional_losses, gru_cell_2_layer_call_fn, gru_cell_3_layer_call_and_return_conditional_losses, gru_cell_3_layer_call_fn, gru_cell_2_layer_call_fn while saving (showing 5 of 10). These functions will not be directly callable after loading.\n"
          ],
          "name": "stderr"
        },
        {
          "output_type": "stream",
          "text": [
            "INFO:tensorflow:Assets written to: BestModel/assets\n"
          ],
          "name": "stdout"
        },
        {
          "output_type": "stream",
          "text": [
            "INFO:tensorflow:Assets written to: BestModel/assets\n"
          ],
          "name": "stderr"
        },
        {
          "output_type": "stream",
          "text": [
            "Epoch 4/100\n",
            "1334/1334 [==============================] - 13s 10ms/step - loss: 0.5535 - accuracy: 0.7076 - val_loss: 0.5445 - val_accuracy: 0.7074\n"
          ],
          "name": "stdout"
        },
        {
          "output_type": "stream",
          "text": [
            "WARNING:absl:Found untraced functions such as gru_cell_2_layer_call_and_return_conditional_losses, gru_cell_2_layer_call_fn, gru_cell_3_layer_call_and_return_conditional_losses, gru_cell_3_layer_call_fn, gru_cell_2_layer_call_fn while saving (showing 5 of 10). These functions will not be directly callable after loading.\n"
          ],
          "name": "stderr"
        },
        {
          "output_type": "stream",
          "text": [
            "INFO:tensorflow:Assets written to: BestModel/assets\n"
          ],
          "name": "stdout"
        },
        {
          "output_type": "stream",
          "text": [
            "INFO:tensorflow:Assets written to: BestModel/assets\n"
          ],
          "name": "stderr"
        },
        {
          "output_type": "stream",
          "text": [
            "Epoch 5/100\n",
            "1334/1334 [==============================] - 13s 10ms/step - loss: 0.5402 - accuracy: 0.7097 - val_loss: 0.5345 - val_accuracy: 0.7092\n"
          ],
          "name": "stdout"
        },
        {
          "output_type": "stream",
          "text": [
            "WARNING:absl:Found untraced functions such as gru_cell_2_layer_call_and_return_conditional_losses, gru_cell_2_layer_call_fn, gru_cell_3_layer_call_and_return_conditional_losses, gru_cell_3_layer_call_fn, gru_cell_2_layer_call_fn while saving (showing 5 of 10). These functions will not be directly callable after loading.\n"
          ],
          "name": "stderr"
        },
        {
          "output_type": "stream",
          "text": [
            "INFO:tensorflow:Assets written to: BestModel/assets\n"
          ],
          "name": "stdout"
        },
        {
          "output_type": "stream",
          "text": [
            "INFO:tensorflow:Assets written to: BestModel/assets\n"
          ],
          "name": "stderr"
        },
        {
          "output_type": "stream",
          "text": [
            "Epoch 6/100\n",
            "1334/1334 [==============================] - 13s 10ms/step - loss: 0.5314 - accuracy: 0.7169 - val_loss: 0.5325 - val_accuracy: 0.7157\n"
          ],
          "name": "stdout"
        },
        {
          "output_type": "stream",
          "text": [
            "WARNING:absl:Found untraced functions such as gru_cell_2_layer_call_and_return_conditional_losses, gru_cell_2_layer_call_fn, gru_cell_3_layer_call_and_return_conditional_losses, gru_cell_3_layer_call_fn, gru_cell_2_layer_call_fn while saving (showing 5 of 10). These functions will not be directly callable after loading.\n"
          ],
          "name": "stderr"
        },
        {
          "output_type": "stream",
          "text": [
            "INFO:tensorflow:Assets written to: BestModel/assets\n"
          ],
          "name": "stdout"
        },
        {
          "output_type": "stream",
          "text": [
            "INFO:tensorflow:Assets written to: BestModel/assets\n"
          ],
          "name": "stderr"
        },
        {
          "output_type": "stream",
          "text": [
            "Epoch 7/100\n",
            "1334/1334 [==============================] - 13s 10ms/step - loss: 0.5225 - accuracy: 0.7231 - val_loss: 0.5295 - val_accuracy: 0.7148\n",
            "Epoch 8/100\n",
            "1334/1334 [==============================] - 13s 10ms/step - loss: 0.5207 - accuracy: 0.7260 - val_loss: 0.5511 - val_accuracy: 0.7105\n",
            "Epoch 9/100\n",
            "1334/1334 [==============================] - 13s 10ms/step - loss: 0.5128 - accuracy: 0.7281 - val_loss: 0.5233 - val_accuracy: 0.7181\n"
          ],
          "name": "stdout"
        },
        {
          "output_type": "stream",
          "text": [
            "WARNING:absl:Found untraced functions such as gru_cell_2_layer_call_and_return_conditional_losses, gru_cell_2_layer_call_fn, gru_cell_3_layer_call_and_return_conditional_losses, gru_cell_3_layer_call_fn, gru_cell_2_layer_call_fn while saving (showing 5 of 10). These functions will not be directly callable after loading.\n"
          ],
          "name": "stderr"
        },
        {
          "output_type": "stream",
          "text": [
            "INFO:tensorflow:Assets written to: BestModel/assets\n"
          ],
          "name": "stdout"
        },
        {
          "output_type": "stream",
          "text": [
            "INFO:tensorflow:Assets written to: BestModel/assets\n"
          ],
          "name": "stderr"
        },
        {
          "output_type": "stream",
          "text": [
            "Epoch 10/100\n",
            "1334/1334 [==============================] - 13s 10ms/step - loss: 0.5140 - accuracy: 0.7239 - val_loss: 0.5224 - val_accuracy: 0.7192\n"
          ],
          "name": "stdout"
        },
        {
          "output_type": "stream",
          "text": [
            "WARNING:absl:Found untraced functions such as gru_cell_2_layer_call_and_return_conditional_losses, gru_cell_2_layer_call_fn, gru_cell_3_layer_call_and_return_conditional_losses, gru_cell_3_layer_call_fn, gru_cell_2_layer_call_fn while saving (showing 5 of 10). These functions will not be directly callable after loading.\n"
          ],
          "name": "stderr"
        },
        {
          "output_type": "stream",
          "text": [
            "INFO:tensorflow:Assets written to: BestModel/assets\n"
          ],
          "name": "stdout"
        },
        {
          "output_type": "stream",
          "text": [
            "INFO:tensorflow:Assets written to: BestModel/assets\n"
          ],
          "name": "stderr"
        },
        {
          "output_type": "stream",
          "text": [
            "Epoch 11/100\n",
            "1334/1334 [==============================] - 13s 10ms/step - loss: 0.5128 - accuracy: 0.7251 - val_loss: 0.5315 - val_accuracy: 0.7140\n",
            "Epoch 12/100\n",
            "1334/1334 [==============================] - 13s 10ms/step - loss: 0.5052 - accuracy: 0.7321 - val_loss: 0.5226 - val_accuracy: 0.7173\n",
            "Epoch 13/100\n",
            "1334/1334 [==============================] - 13s 10ms/step - loss: 0.5097 - accuracy: 0.7278 - val_loss: 0.5228 - val_accuracy: 0.7184\n",
            "Epoch 14/100\n",
            "1334/1334 [==============================] - 13s 10ms/step - loss: 0.5004 - accuracy: 0.7333 - val_loss: 0.5252 - val_accuracy: 0.7213\n"
          ],
          "name": "stdout"
        },
        {
          "output_type": "stream",
          "text": [
            "WARNING:absl:Found untraced functions such as gru_cell_2_layer_call_and_return_conditional_losses, gru_cell_2_layer_call_fn, gru_cell_3_layer_call_and_return_conditional_losses, gru_cell_3_layer_call_fn, gru_cell_2_layer_call_fn while saving (showing 5 of 10). These functions will not be directly callable after loading.\n"
          ],
          "name": "stderr"
        },
        {
          "output_type": "stream",
          "text": [
            "INFO:tensorflow:Assets written to: BestModel/assets\n"
          ],
          "name": "stdout"
        },
        {
          "output_type": "stream",
          "text": [
            "INFO:tensorflow:Assets written to: BestModel/assets\n"
          ],
          "name": "stderr"
        },
        {
          "output_type": "stream",
          "text": [
            "Epoch 15/100\n",
            "1334/1334 [==============================] - 13s 10ms/step - loss: 0.4968 - accuracy: 0.7396 - val_loss: 0.5317 - val_accuracy: 0.7174\n",
            "Epoch 16/100\n",
            "1334/1334 [==============================] - 13s 10ms/step - loss: 0.4987 - accuracy: 0.7342 - val_loss: 0.5377 - val_accuracy: 0.7215\n"
          ],
          "name": "stdout"
        },
        {
          "output_type": "stream",
          "text": [
            "WARNING:absl:Found untraced functions such as gru_cell_2_layer_call_and_return_conditional_losses, gru_cell_2_layer_call_fn, gru_cell_3_layer_call_and_return_conditional_losses, gru_cell_3_layer_call_fn, gru_cell_2_layer_call_fn while saving (showing 5 of 10). These functions will not be directly callable after loading.\n"
          ],
          "name": "stderr"
        },
        {
          "output_type": "stream",
          "text": [
            "INFO:tensorflow:Assets written to: BestModel/assets\n"
          ],
          "name": "stdout"
        },
        {
          "output_type": "stream",
          "text": [
            "INFO:tensorflow:Assets written to: BestModel/assets\n"
          ],
          "name": "stderr"
        },
        {
          "output_type": "stream",
          "text": [
            "Epoch 17/100\n",
            "1334/1334 [==============================] - 13s 10ms/step - loss: 0.4947 - accuracy: 0.7392 - val_loss: 0.5293 - val_accuracy: 0.7139\n",
            "Epoch 18/100\n",
            "1334/1334 [==============================] - 13s 9ms/step - loss: 0.4916 - accuracy: 0.7358 - val_loss: 0.5311 - val_accuracy: 0.7166\n",
            "Epoch 19/100\n",
            "1334/1334 [==============================] - 13s 10ms/step - loss: 0.4928 - accuracy: 0.7366 - val_loss: 0.5262 - val_accuracy: 0.7198\n",
            "Epoch 20/100\n",
            "1334/1334 [==============================] - 13s 10ms/step - loss: 0.4863 - accuracy: 0.7409 - val_loss: 0.5438 - val_accuracy: 0.7180\n",
            "Epoch 21/100\n",
            "1334/1334 [==============================] - 13s 10ms/step - loss: 0.4858 - accuracy: 0.7401 - val_loss: 0.5399 - val_accuracy: 0.7199\n",
            "Epoch 22/100\n",
            "1334/1334 [==============================] - 13s 10ms/step - loss: 0.4808 - accuracy: 0.7437 - val_loss: 0.5400 - val_accuracy: 0.7168\n",
            "Epoch 23/100\n",
            "1334/1334 [==============================] - 13s 10ms/step - loss: 0.4807 - accuracy: 0.7430 - val_loss: 0.5421 - val_accuracy: 0.7194\n",
            "Epoch 24/100\n",
            "1334/1334 [==============================] - 13s 10ms/step - loss: 0.4783 - accuracy: 0.7460 - val_loss: 0.5480 - val_accuracy: 0.7172\n",
            "Epoch 25/100\n",
            "1334/1334 [==============================] - 13s 10ms/step - loss: 0.4735 - accuracy: 0.7492 - val_loss: 0.5335 - val_accuracy: 0.7162\n",
            "Epoch 26/100\n",
            "1334/1334 [==============================] - 13s 9ms/step - loss: 0.4761 - accuracy: 0.7456 - val_loss: 0.5415 - val_accuracy: 0.7159\n",
            "Epoch 27/100\n",
            "1334/1334 [==============================] - 13s 10ms/step - loss: 0.4713 - accuracy: 0.7486 - val_loss: 0.5571 - val_accuracy: 0.7137\n",
            "Epoch 28/100\n",
            "1334/1334 [==============================] - 13s 10ms/step - loss: 0.4706 - accuracy: 0.7494 - val_loss: 0.5551 - val_accuracy: 0.7151\n",
            "Epoch 29/100\n",
            "1334/1334 [==============================] - 13s 10ms/step - loss: 0.4662 - accuracy: 0.7525 - val_loss: 0.5483 - val_accuracy: 0.7099\n",
            "Epoch 30/100\n",
            "1334/1334 [==============================] - 13s 10ms/step - loss: 0.4707 - accuracy: 0.7497 - val_loss: 0.5468 - val_accuracy: 0.7091\n",
            "Epoch 31/100\n",
            "1334/1334 [==============================] - 13s 10ms/step - loss: 0.4600 - accuracy: 0.7511 - val_loss: 0.5500 - val_accuracy: 0.7117\n",
            "Epoch 32/100\n",
            "1334/1334 [==============================] - 13s 10ms/step - loss: 0.4630 - accuracy: 0.7504 - val_loss: 0.5637 - val_accuracy: 0.7121\n",
            "Epoch 33/100\n",
            "1334/1334 [==============================] - 13s 10ms/step - loss: 0.4603 - accuracy: 0.7554 - val_loss: 0.5540 - val_accuracy: 0.7163\n",
            "Epoch 34/100\n",
            "1334/1334 [==============================] - 13s 10ms/step - loss: 0.4580 - accuracy: 0.7584 - val_loss: 0.5571 - val_accuracy: 0.7111\n",
            "Epoch 35/100\n",
            "1334/1334 [==============================] - 13s 10ms/step - loss: 0.4549 - accuracy: 0.7605 - val_loss: 0.5863 - val_accuracy: 0.7107\n",
            "Epoch 36/100\n",
            "1334/1334 [==============================] - 13s 10ms/step - loss: 0.4516 - accuracy: 0.7582 - val_loss: 0.5757 - val_accuracy: 0.7086\n",
            "Epoch 37/100\n",
            "1334/1334 [==============================] - 13s 10ms/step - loss: 0.4511 - accuracy: 0.7600 - val_loss: 0.5758 - val_accuracy: 0.7108\n",
            "Epoch 38/100\n",
            "1334/1334 [==============================] - 13s 10ms/step - loss: 0.4501 - accuracy: 0.7604 - val_loss: 0.5597 - val_accuracy: 0.7084\n",
            "Epoch 39/100\n",
            "1334/1334 [==============================] - 13s 10ms/step - loss: 0.4473 - accuracy: 0.7600 - val_loss: 0.5763 - val_accuracy: 0.7115\n",
            "Epoch 40/100\n",
            "1334/1334 [==============================] - 13s 10ms/step - loss: 0.4376 - accuracy: 0.7666 - val_loss: 0.6020 - val_accuracy: 0.7127\n",
            "Epoch 41/100\n",
            "1334/1334 [==============================] - 13s 10ms/step - loss: 0.4424 - accuracy: 0.7656 - val_loss: 0.5863 - val_accuracy: 0.7095\n",
            "Epoch 42/100\n",
            "1334/1334 [==============================] - 13s 10ms/step - loss: 0.4373 - accuracy: 0.7683 - val_loss: 0.5950 - val_accuracy: 0.7073\n",
            "Epoch 43/100\n",
            "1334/1334 [==============================] - 13s 10ms/step - loss: 0.4352 - accuracy: 0.7685 - val_loss: 0.5795 - val_accuracy: 0.7087\n",
            "Epoch 44/100\n",
            "1334/1334 [==============================] - 13s 10ms/step - loss: 0.4306 - accuracy: 0.7715 - val_loss: 0.6140 - val_accuracy: 0.7076\n",
            "Epoch 45/100\n",
            "1334/1334 [==============================] - 13s 10ms/step - loss: 0.4297 - accuracy: 0.7704 - val_loss: 0.5961 - val_accuracy: 0.7045\n",
            "Epoch 46/100\n",
            "1334/1334 [==============================] - 13s 10ms/step - loss: 0.4529 - accuracy: 0.7562 - val_loss: 0.5846 - val_accuracy: 0.7103\n",
            "Epoch 47/100\n",
            "1334/1334 [==============================] - 13s 10ms/step - loss: 0.4283 - accuracy: 0.7736 - val_loss: 0.6001 - val_accuracy: 0.7052\n",
            "Epoch 48/100\n",
            "1334/1334 [==============================] - 13s 10ms/step - loss: 0.4289 - accuracy: 0.7737 - val_loss: 0.6063 - val_accuracy: 0.7076\n",
            "Epoch 49/100\n",
            "1334/1334 [==============================] - 13s 10ms/step - loss: 0.4238 - accuracy: 0.7750 - val_loss: 0.5940 - val_accuracy: 0.7052\n",
            "Epoch 50/100\n",
            "1334/1334 [==============================] - 13s 10ms/step - loss: 0.4247 - accuracy: 0.7737 - val_loss: 0.6221 - val_accuracy: 0.7084\n",
            "Epoch 51/100\n",
            "1334/1334 [==============================] - 13s 10ms/step - loss: 0.4172 - accuracy: 0.7768 - val_loss: 0.6119 - val_accuracy: 0.7052\n",
            "Epoch 52/100\n",
            "1334/1334 [==============================] - 13s 10ms/step - loss: 0.4218 - accuracy: 0.7770 - val_loss: 0.6685 - val_accuracy: 0.7032\n",
            "Epoch 53/100\n",
            "1334/1334 [==============================] - 13s 10ms/step - loss: 0.4148 - accuracy: 0.7801 - val_loss: 0.6326 - val_accuracy: 0.7066\n",
            "Epoch 54/100\n",
            "1334/1334 [==============================] - 13s 10ms/step - loss: 0.4152 - accuracy: 0.7805 - val_loss: 0.6143 - val_accuracy: 0.7028\n",
            "Epoch 55/100\n",
            "1334/1334 [==============================] - 13s 10ms/step - loss: 0.4127 - accuracy: 0.7802 - val_loss: 0.6190 - val_accuracy: 0.7050\n",
            "Epoch 56/100\n",
            "1334/1334 [==============================] - 13s 10ms/step - loss: 0.4166 - accuracy: 0.7797 - val_loss: 0.6452 - val_accuracy: 0.7008\n",
            "Epoch 57/100\n",
            "1334/1334 [==============================] - 13s 10ms/step - loss: 0.4135 - accuracy: 0.7795 - val_loss: 0.6333 - val_accuracy: 0.7047\n",
            "Epoch 58/100\n",
            "1334/1334 [==============================] - 13s 10ms/step - loss: 0.4070 - accuracy: 0.7839 - val_loss: 0.6256 - val_accuracy: 0.6973\n",
            "Epoch 59/100\n",
            "1334/1334 [==============================] - 13s 10ms/step - loss: 0.4061 - accuracy: 0.7815 - val_loss: 0.6507 - val_accuracy: 0.7003\n",
            "Epoch 60/100\n",
            "1334/1334 [==============================] - 13s 10ms/step - loss: 0.4016 - accuracy: 0.7885 - val_loss: 0.6546 - val_accuracy: 0.7010\n",
            "Epoch 61/100\n",
            "1334/1334 [==============================] - 13s 10ms/step - loss: 0.3986 - accuracy: 0.7879 - val_loss: 0.6270 - val_accuracy: 0.6973\n",
            "Epoch 62/100\n",
            "1334/1334 [==============================] - 13s 10ms/step - loss: 0.4024 - accuracy: 0.7875 - val_loss: 0.6176 - val_accuracy: 0.6942\n",
            "Epoch 63/100\n",
            "1334/1334 [==============================] - 13s 10ms/step - loss: 0.4066 - accuracy: 0.7816 - val_loss: 0.6717 - val_accuracy: 0.6967\n",
            "Epoch 64/100\n",
            "1334/1334 [==============================] - 13s 10ms/step - loss: 0.3998 - accuracy: 0.7874 - val_loss: 0.6622 - val_accuracy: 0.7023\n",
            "Epoch 65/100\n",
            "1334/1334 [==============================] - 13s 10ms/step - loss: 0.3964 - accuracy: 0.7901 - val_loss: 0.6562 - val_accuracy: 0.6992\n",
            "Epoch 66/100\n",
            "1334/1334 [==============================] - 13s 10ms/step - loss: 0.3961 - accuracy: 0.7898 - val_loss: 0.6582 - val_accuracy: 0.6952\n",
            "Epoch 67/100\n",
            "1334/1334 [==============================] - 13s 10ms/step - loss: 0.3918 - accuracy: 0.7955 - val_loss: 0.6530 - val_accuracy: 0.6959\n",
            "Epoch 68/100\n",
            "1334/1334 [==============================] - 13s 10ms/step - loss: 0.4012 - accuracy: 0.7880 - val_loss: 0.6497 - val_accuracy: 0.6969\n",
            "Epoch 69/100\n",
            "1334/1334 [==============================] - 13s 10ms/step - loss: 0.3922 - accuracy: 0.7931 - val_loss: 0.6809 - val_accuracy: 0.7034\n",
            "Epoch 70/100\n",
            "1334/1334 [==============================] - 13s 10ms/step - loss: 0.3930 - accuracy: 0.7917 - val_loss: 0.6714 - val_accuracy: 0.6994\n",
            "Epoch 71/100\n",
            "1334/1334 [==============================] - 13s 10ms/step - loss: 0.3984 - accuracy: 0.7883 - val_loss: 0.6738 - val_accuracy: 0.6966\n",
            "Epoch 72/100\n",
            "1334/1334 [==============================] - 13s 10ms/step - loss: 0.3924 - accuracy: 0.7896 - val_loss: 0.6544 - val_accuracy: 0.6927\n",
            "Epoch 73/100\n",
            "1334/1334 [==============================] - 13s 10ms/step - loss: 0.3837 - accuracy: 0.7959 - val_loss: 0.6850 - val_accuracy: 0.6984\n",
            "Epoch 74/100\n",
            "1334/1334 [==============================] - 13s 10ms/step - loss: 0.3903 - accuracy: 0.7926 - val_loss: 0.6521 - val_accuracy: 0.6938\n",
            "Epoch 75/100\n",
            "1334/1334 [==============================] - 13s 10ms/step - loss: 0.3951 - accuracy: 0.7927 - val_loss: 0.6985 - val_accuracy: 0.6988\n",
            "Epoch 76/100\n",
            "1334/1334 [==============================] - 13s 10ms/step - loss: 0.3837 - accuracy: 0.7964 - val_loss: 0.7092 - val_accuracy: 0.6993\n",
            "Epoch 77/100\n",
            "1334/1334 [==============================] - 13s 10ms/step - loss: 0.3849 - accuracy: 0.7975 - val_loss: 0.6577 - val_accuracy: 0.6961\n",
            "Epoch 78/100\n",
            "1334/1334 [==============================] - 13s 10ms/step - loss: 0.3854 - accuracy: 0.7964 - val_loss: 0.6854 - val_accuracy: 0.6951\n",
            "Epoch 79/100\n",
            "1334/1334 [==============================] - 13s 10ms/step - loss: 0.3867 - accuracy: 0.7983 - val_loss: 0.6966 - val_accuracy: 0.6983\n",
            "Epoch 80/100\n",
            "1334/1334 [==============================] - 13s 10ms/step - loss: 0.3805 - accuracy: 0.7972 - val_loss: 0.6622 - val_accuracy: 0.6965\n",
            "Epoch 81/100\n",
            "1334/1334 [==============================] - 13s 10ms/step - loss: 0.3848 - accuracy: 0.7980 - val_loss: 0.6804 - val_accuracy: 0.6979\n",
            "Epoch 82/100\n",
            "1334/1334 [==============================] - 13s 10ms/step - loss: 0.3780 - accuracy: 0.8014 - val_loss: 0.7081 - val_accuracy: 0.6950\n",
            "Epoch 83/100\n",
            "1334/1334 [==============================] - 13s 10ms/step - loss: 0.3696 - accuracy: 0.8051 - val_loss: 0.6922 - val_accuracy: 0.6927\n",
            "Epoch 84/100\n",
            "1334/1334 [==============================] - 13s 10ms/step - loss: 0.3842 - accuracy: 0.8000 - val_loss: 0.7233 - val_accuracy: 0.6997\n",
            "Epoch 85/100\n",
            "1334/1334 [==============================] - 13s 10ms/step - loss: 0.3715 - accuracy: 0.8055 - val_loss: 0.6889 - val_accuracy: 0.6973\n",
            "Epoch 86/100\n",
            "1334/1334 [==============================] - 13s 10ms/step - loss: 0.3719 - accuracy: 0.8044 - val_loss: 0.7231 - val_accuracy: 0.6922\n",
            "Epoch 87/100\n",
            "1334/1334 [==============================] - 13s 10ms/step - loss: 0.3752 - accuracy: 0.8050 - val_loss: 0.7070 - val_accuracy: 0.6953\n",
            "Epoch 88/100\n",
            "1334/1334 [==============================] - 13s 10ms/step - loss: 0.3661 - accuracy: 0.8071 - val_loss: 0.6878 - val_accuracy: 0.6962\n",
            "Epoch 89/100\n",
            "1334/1334 [==============================] - 13s 10ms/step - loss: 0.3859 - accuracy: 0.7968 - val_loss: 0.6738 - val_accuracy: 0.6892\n",
            "Epoch 90/100\n",
            "1334/1334 [==============================] - 13s 10ms/step - loss: 0.3696 - accuracy: 0.8078 - val_loss: 0.7158 - val_accuracy: 0.6937\n",
            "Epoch 91/100\n",
            "1334/1334 [==============================] - 13s 10ms/step - loss: 0.3733 - accuracy: 0.8048 - val_loss: 0.7352 - val_accuracy: 0.6920\n",
            "Epoch 92/100\n",
            "1334/1334 [==============================] - 13s 10ms/step - loss: 0.3646 - accuracy: 0.8089 - val_loss: 0.7159 - val_accuracy: 0.6949\n",
            "Epoch 93/100\n",
            "1334/1334 [==============================] - 13s 10ms/step - loss: 0.3677 - accuracy: 0.8097 - val_loss: 0.7252 - val_accuracy: 0.6934\n",
            "Epoch 94/100\n",
            "1334/1334 [==============================] - 13s 10ms/step - loss: 0.3678 - accuracy: 0.8071 - val_loss: 0.7101 - val_accuracy: 0.6890\n",
            "Epoch 95/100\n",
            "1334/1334 [==============================] - 13s 10ms/step - loss: 0.3625 - accuracy: 0.8095 - val_loss: 0.6716 - val_accuracy: 0.6943\n",
            "Epoch 96/100\n",
            "1334/1334 [==============================] - 13s 10ms/step - loss: 0.3921 - accuracy: 0.7979 - val_loss: 0.6861 - val_accuracy: 0.6913\n",
            "Epoch 97/100\n",
            "1334/1334 [==============================] - 13s 10ms/step - loss: 0.3651 - accuracy: 0.8054 - val_loss: 0.7497 - val_accuracy: 0.6936\n",
            "Epoch 98/100\n",
            "1334/1334 [==============================] - 13s 10ms/step - loss: 0.3570 - accuracy: 0.8125 - val_loss: 0.7596 - val_accuracy: 0.6925\n",
            "Epoch 99/100\n",
            "1334/1334 [==============================] - 13s 10ms/step - loss: 0.3670 - accuracy: 0.8090 - val_loss: 0.6573 - val_accuracy: 0.6958\n",
            "Epoch 100/100\n",
            "1334/1334 [==============================] - 13s 10ms/step - loss: 0.3706 - accuracy: 0.8052 - val_loss: 0.7140 - val_accuracy: 0.6930\n",
            "Fold 1, 100 epochs, 1391 sec\n"
          ],
          "name": "stdout"
        },
        {
          "output_type": "display_data",
          "data": {
            "image/png": "[encoded data removed]",
            "text/plain": [
              "<Figure size 576x360 with 1 Axes>"
            ]
          },
          "metadata": {
            "tags": [],
            "needs_background": "light"
          }
        },
        {
          "output_type": "stream",
          "text": [
            "MODEL\n",
            "make_DNN\n",
            "input shape: (100, 4)\n",
            "FIT\n",
            "Epoch 1/100\n",
            "1334/1334 [==============================] - 17s 11ms/step - loss: 0.6941 - accuracy: 0.5365 - val_loss: 0.6127 - val_accuracy: 0.6602\n",
            "Epoch 2/100\n",
            "1334/1334 [==============================] - 13s 10ms/step - loss: 0.6100 - accuracy: 0.6658 - val_loss: 0.6083 - val_accuracy: 0.6537\n",
            "Epoch 3/100\n",
            "1334/1334 [==============================] - 13s 10ms/step - loss: 0.5659 - accuracy: 0.7003 - val_loss: 0.5475 - val_accuracy: 0.7042\n",
            "Epoch 4/100\n",
            "1334/1334 [==============================] - 13s 10ms/step - loss: 0.5387 - accuracy: 0.7130 - val_loss: 0.5298 - val_accuracy: 0.7196\n",
            "Epoch 5/100\n",
            "1334/1334 [==============================] - 13s 10ms/step - loss: 0.5273 - accuracy: 0.7195 - val_loss: 0.5277 - val_accuracy: 0.7191\n",
            "Epoch 6/100\n",
            "1334/1334 [==============================] - 13s 10ms/step - loss: 0.5206 - accuracy: 0.7242 - val_loss: 0.5216 - val_accuracy: 0.7233\n"
          ],
          "name": "stdout"
        },
        {
          "output_type": "stream",
          "text": [
            "WARNING:absl:Found untraced functions such as gru_cell_4_layer_call_and_return_conditional_losses, gru_cell_4_layer_call_fn, gru_cell_5_layer_call_and_return_conditional_losses, gru_cell_5_layer_call_fn, gru_cell_4_layer_call_fn while saving (showing 5 of 10). These functions will not be directly callable after loading.\n"
          ],
          "name": "stderr"
        },
        {
          "output_type": "stream",
          "text": [
            "INFO:tensorflow:Assets written to: BestModel/assets\n"
          ],
          "name": "stdout"
        },
        {
          "output_type": "stream",
          "text": [
            "INFO:tensorflow:Assets written to: BestModel/assets\n"
          ],
          "name": "stderr"
        },
        {
          "output_type": "stream",
          "text": [
            "Epoch 7/100\n",
            "1334/1334 [==============================] - 13s 10ms/step - loss: 0.5148 - accuracy: 0.7270 - val_loss: 0.5170 - val_accuracy: 0.7257\n"
          ],
          "name": "stdout"
        },
        {
          "output_type": "stream",
          "text": [
            "WARNING:absl:Found untraced functions such as gru_cell_4_layer_call_and_return_conditional_losses, gru_cell_4_layer_call_fn, gru_cell_5_layer_call_and_return_conditional_losses, gru_cell_5_layer_call_fn, gru_cell_4_layer_call_fn while saving (showing 5 of 10). These functions will not be directly callable after loading.\n"
          ],
          "name": "stderr"
        },
        {
          "output_type": "stream",
          "text": [
            "INFO:tensorflow:Assets written to: BestModel/assets\n"
          ],
          "name": "stdout"
        },
        {
          "output_type": "stream",
          "text": [
            "INFO:tensorflow:Assets written to: BestModel/assets\n"
          ],
          "name": "stderr"
        },
        {
          "output_type": "stream",
          "text": [
            "Epoch 8/100\n",
            "1334/1334 [==============================] - 13s 10ms/step - loss: 0.5084 - accuracy: 0.7299 - val_loss: 0.5213 - val_accuracy: 0.7209\n",
            "Epoch 9/100\n",
            "1334/1334 [==============================] - 13s 10ms/step - loss: 0.5104 - accuracy: 0.7290 - val_loss: 0.5283 - val_accuracy: 0.7212\n",
            "Epoch 10/100\n",
            "1334/1334 [==============================] - 13s 10ms/step - loss: 0.5015 - accuracy: 0.7363 - val_loss: 0.5187 - val_accuracy: 0.7265\n"
          ],
          "name": "stdout"
        },
        {
          "output_type": "stream",
          "text": [
            "WARNING:absl:Found untraced functions such as gru_cell_4_layer_call_and_return_conditional_losses, gru_cell_4_layer_call_fn, gru_cell_5_layer_call_and_return_conditional_losses, gru_cell_5_layer_call_fn, gru_cell_4_layer_call_fn while saving (showing 5 of 10). These functions will not be directly callable after loading.\n"
          ],
          "name": "stderr"
        },
        {
          "output_type": "stream",
          "text": [
            "INFO:tensorflow:Assets written to: BestModel/assets\n"
          ],
          "name": "stdout"
        },
        {
          "output_type": "stream",
          "text": [
            "INFO:tensorflow:Assets written to: BestModel/assets\n"
          ],
          "name": "stderr"
        },
        {
          "output_type": "stream",
          "text": [
            "Epoch 11/100\n",
            "1334/1334 [==============================] - 13s 10ms/step - loss: 0.4988 - accuracy: 0.7357 - val_loss: 0.5211 - val_accuracy: 0.7240\n",
            "Epoch 12/100\n",
            "1334/1334 [==============================] - 13s 10ms/step - loss: 0.4993 - accuracy: 0.7371 - val_loss: 0.5139 - val_accuracy: 0.7286\n"
          ],
          "name": "stdout"
        },
        {
          "output_type": "stream",
          "text": [
            "WARNING:absl:Found untraced functions such as gru_cell_4_layer_call_and_return_conditional_losses, gru_cell_4_layer_call_fn, gru_cell_5_layer_call_and_return_conditional_losses, gru_cell_5_layer_call_fn, gru_cell_4_layer_call_fn while saving (showing 5 of 10). These functions will not be directly callable after loading.\n"
          ],
          "name": "stderr"
        },
        {
          "output_type": "stream",
          "text": [
            "INFO:tensorflow:Assets written to: BestModel/assets\n"
          ],
          "name": "stdout"
        },
        {
          "output_type": "stream",
          "text": [
            "INFO:tensorflow:Assets written to: BestModel/assets\n"
          ],
          "name": "stderr"
        },
        {
          "output_type": "stream",
          "text": [
            "Epoch 13/100\n",
            "1334/1334 [==============================] - 13s 10ms/step - loss: 0.4962 - accuracy: 0.7404 - val_loss: 0.5206 - val_accuracy: 0.7255\n",
            "Epoch 14/100\n",
            "1334/1334 [==============================] - 13s 10ms/step - loss: 0.4967 - accuracy: 0.7360 - val_loss: 0.5477 - val_accuracy: 0.7271\n",
            "Epoch 15/100\n",
            "1334/1334 [==============================] - 13s 10ms/step - loss: 0.4922 - accuracy: 0.7411 - val_loss: 0.5154 - val_accuracy: 0.7272\n",
            "Epoch 16/100\n",
            "1334/1334 [==============================] - 13s 10ms/step - loss: 0.4804 - accuracy: 0.7485 - val_loss: 0.5261 - val_accuracy: 0.7201\n",
            "Epoch 17/100\n",
            "1334/1334 [==============================] - 13s 10ms/step - loss: 0.4874 - accuracy: 0.7424 - val_loss: 0.5221 - val_accuracy: 0.7305\n"
          ],
          "name": "stdout"
        },
        {
          "output_type": "stream",
          "text": [
            "WARNING:absl:Found untraced functions such as gru_cell_4_layer_call_and_return_conditional_losses, gru_cell_4_layer_call_fn, gru_cell_5_layer_call_and_return_conditional_losses, gru_cell_5_layer_call_fn, gru_cell_4_layer_call_fn while saving (showing 5 of 10). These functions will not be directly callable after loading.\n"
          ],
          "name": "stderr"
        },
        {
          "output_type": "stream",
          "text": [
            "INFO:tensorflow:Assets written to: BestModel/assets\n"
          ],
          "name": "stdout"
        },
        {
          "output_type": "stream",
          "text": [
            "INFO:tensorflow:Assets written to: BestModel/assets\n"
          ],
          "name": "stderr"
        },
        {
          "output_type": "stream",
          "text": [
            "Epoch 18/100\n",
            "1334/1334 [==============================] - 13s 10ms/step - loss: 0.4796 - accuracy: 0.7481 - val_loss: 0.5262 - val_accuracy: 0.7213\n",
            "Epoch 19/100\n",
            "1334/1334 [==============================] - 13s 10ms/step - loss: 0.4802 - accuracy: 0.7486 - val_loss: 0.5208 - val_accuracy: 0.7300\n",
            "Epoch 20/100\n",
            "1334/1334 [==============================] - 13s 10ms/step - loss: 0.4743 - accuracy: 0.7542 - val_loss: 0.5214 - val_accuracy: 0.7288\n",
            "Epoch 21/100\n",
            "1334/1334 [==============================] - 13s 10ms/step - loss: 0.4760 - accuracy: 0.7491 - val_loss: 0.5448 - val_accuracy: 0.7276\n",
            "Epoch 22/100\n",
            "1334/1334 [==============================] - 13s 10ms/step - loss: 0.4724 - accuracy: 0.7506 - val_loss: 0.5249 - val_accuracy: 0.7243\n",
            "Epoch 23/100\n",
            "1334/1334 [==============================] - 13s 10ms/step - loss: 0.4745 - accuracy: 0.7492 - val_loss: 0.5242 - val_accuracy: 0.7269\n",
            "Epoch 24/100\n",
            "1334/1334 [==============================] - 13s 10ms/step - loss: 0.4670 - accuracy: 0.7557 - val_loss: 0.5237 - val_accuracy: 0.7317\n"
          ],
          "name": "stdout"
        },
        {
          "output_type": "stream",
          "text": [
            "WARNING:absl:Found untraced functions such as gru_cell_4_layer_call_and_return_conditional_losses, gru_cell_4_layer_call_fn, gru_cell_5_layer_call_and_return_conditional_losses, gru_cell_5_layer_call_fn, gru_cell_4_layer_call_fn while saving (showing 5 of 10). These functions will not be directly callable after loading.\n"
          ],
          "name": "stderr"
        },
        {
          "output_type": "stream",
          "text": [
            "INFO:tensorflow:Assets written to: BestModel/assets\n"
          ],
          "name": "stdout"
        },
        {
          "output_type": "stream",
          "text": [
            "INFO:tensorflow:Assets written to: BestModel/assets\n"
          ],
          "name": "stderr"
        },
        {
          "output_type": "stream",
          "text": [
            "Epoch 25/100\n",
            "1334/1334 [==============================] - 13s 10ms/step - loss: 0.4705 - accuracy: 0.7541 - val_loss: 0.5337 - val_accuracy: 0.7220\n",
            "Epoch 26/100\n",
            "1334/1334 [==============================] - 13s 10ms/step - loss: 0.4593 - accuracy: 0.7588 - val_loss: 0.5353 - val_accuracy: 0.7254\n",
            "Epoch 27/100\n",
            "1334/1334 [==============================] - 13s 10ms/step - loss: 0.4587 - accuracy: 0.7577 - val_loss: 0.5365 - val_accuracy: 0.7257\n",
            "Epoch 28/100\n",
            "1334/1334 [==============================] - 13s 10ms/step - loss: 0.4587 - accuracy: 0.7598 - val_loss: 0.5376 - val_accuracy: 0.7247\n",
            "Epoch 29/100\n",
            "1334/1334 [==============================] - 13s 10ms/step - loss: 0.4519 - accuracy: 0.7643 - val_loss: 0.5277 - val_accuracy: 0.7284\n",
            "Epoch 30/100\n",
            "1334/1334 [==============================] - 13s 10ms/step - loss: 0.4493 - accuracy: 0.7653 - val_loss: 0.5445 - val_accuracy: 0.7282\n",
            "Epoch 31/100\n",
            "1334/1334 [==============================] - 13s 10ms/step - loss: 0.4500 - accuracy: 0.7697 - val_loss: 0.5374 - val_accuracy: 0.7235\n",
            "Epoch 32/100\n",
            "1334/1334 [==============================] - 13s 10ms/step - loss: 0.4477 - accuracy: 0.7651 - val_loss: 0.5667 - val_accuracy: 0.7229\n",
            "Epoch 33/100\n",
            "1334/1334 [==============================] - 13s 10ms/step - loss: 0.4496 - accuracy: 0.7648 - val_loss: 0.5634 - val_accuracy: 0.7212\n",
            "Epoch 34/100\n",
            "1334/1334 [==============================] - 13s 10ms/step - loss: 0.4452 - accuracy: 0.7640 - val_loss: 0.5431 - val_accuracy: 0.7231\n",
            "Epoch 35/100\n",
            "1334/1334 [==============================] - 13s 10ms/step - loss: 0.4417 - accuracy: 0.7700 - val_loss: 0.5566 - val_accuracy: 0.7221\n",
            "Epoch 36/100\n",
            "1334/1334 [==============================] - 13s 10ms/step - loss: 0.4450 - accuracy: 0.7689 - val_loss: 0.5593 - val_accuracy: 0.7247\n",
            "Epoch 37/100\n",
            "1334/1334 [==============================] - 13s 10ms/step - loss: 0.4348 - accuracy: 0.7749 - val_loss: 0.5725 - val_accuracy: 0.7198\n",
            "Epoch 38/100\n",
            "1334/1334 [==============================] - 13s 10ms/step - loss: 0.4374 - accuracy: 0.7689 - val_loss: 0.5721 - val_accuracy: 0.7214\n",
            "Epoch 39/100\n",
            "1334/1334 [==============================] - 13s 10ms/step - loss: 0.4346 - accuracy: 0.7751 - val_loss: 0.5614 - val_accuracy: 0.7210\n",
            "Epoch 40/100\n",
            "1334/1334 [==============================] - 13s 10ms/step - loss: 0.4341 - accuracy: 0.7735 - val_loss: 0.5598 - val_accuracy: 0.7211\n",
            "Epoch 41/100\n",
            "1334/1334 [==============================] - 13s 10ms/step - loss: 0.4228 - accuracy: 0.7772 - val_loss: 0.5833 - val_accuracy: 0.7195\n",
            "Epoch 42/100\n",
            "1334/1334 [==============================] - 13s 10ms/step - loss: 0.4258 - accuracy: 0.7802 - val_loss: 0.5625 - val_accuracy: 0.7195\n",
            "Epoch 43/100\n",
            "1334/1334 [==============================] - 13s 10ms/step - loss: 0.4276 - accuracy: 0.7766 - val_loss: 0.5862 - val_accuracy: 0.7197\n",
            "Epoch 44/100\n",
            "1334/1334 [==============================] - 13s 10ms/step - loss: 0.4281 - accuracy: 0.7801 - val_loss: 0.6071 - val_accuracy: 0.7176\n",
            "Epoch 45/100\n",
            "1334/1334 [==============================] - 13s 10ms/step - loss: 0.4179 - accuracy: 0.7793 - val_loss: 0.5863 - val_accuracy: 0.7225\n",
            "Epoch 46/100\n",
            "1334/1334 [==============================] - 13s 10ms/step - loss: 0.4160 - accuracy: 0.7803 - val_loss: 0.6178 - val_accuracy: 0.7178\n",
            "Epoch 47/100\n",
            "1334/1334 [==============================] - 13s 10ms/step - loss: 0.4181 - accuracy: 0.7811 - val_loss: 0.6189 - val_accuracy: 0.7202\n",
            "Epoch 48/100\n",
            "1334/1334 [==============================] - 13s 10ms/step - loss: 0.4214 - accuracy: 0.7815 - val_loss: 0.5805 - val_accuracy: 0.7145\n",
            "Epoch 49/100\n",
            "1334/1334 [==============================] - 13s 10ms/step - loss: 0.4115 - accuracy: 0.7850 - val_loss: 0.6106 - val_accuracy: 0.7160\n",
            "Epoch 50/100\n",
            "1334/1334 [==============================] - 13s 10ms/step - loss: 0.4122 - accuracy: 0.7858 - val_loss: 0.5935 - val_accuracy: 0.7209\n",
            "Epoch 51/100\n",
            "1334/1334 [==============================] - 13s 10ms/step - loss: 0.4078 - accuracy: 0.7880 - val_loss: 0.5891 - val_accuracy: 0.7172\n",
            "Epoch 52/100\n",
            "1334/1334 [==============================] - 13s 10ms/step - loss: 0.4100 - accuracy: 0.7876 - val_loss: 0.6012 - val_accuracy: 0.7130\n",
            "Epoch 53/100\n",
            "1334/1334 [==============================] - 13s 10ms/step - loss: 0.4079 - accuracy: 0.7862 - val_loss: 0.6236 - val_accuracy: 0.7181\n",
            "Epoch 54/100\n",
            "1334/1334 [==============================] - 13s 10ms/step - loss: 0.4053 - accuracy: 0.7888 - val_loss: 0.6419 - val_accuracy: 0.7138\n",
            "Epoch 55/100\n",
            "1334/1334 [==============================] - 13s 10ms/step - loss: 0.4071 - accuracy: 0.7909 - val_loss: 0.6304 - val_accuracy: 0.7146\n",
            "Epoch 56/100\n",
            "1334/1334 [==============================] - 13s 10ms/step - loss: 0.3952 - accuracy: 0.7927 - val_loss: 0.5978 - val_accuracy: 0.7157\n",
            "Epoch 57/100\n",
            "1334/1334 [==============================] - 13s 10ms/step - loss: 0.3987 - accuracy: 0.7940 - val_loss: 0.6262 - val_accuracy: 0.7115\n",
            "Epoch 58/100\n",
            "1334/1334 [==============================] - 13s 10ms/step - loss: 0.4007 - accuracy: 0.7907 - val_loss: 0.6091 - val_accuracy: 0.7136\n",
            "Epoch 59/100\n",
            "1334/1334 [==============================] - 13s 10ms/step - loss: 0.3951 - accuracy: 0.7957 - val_loss: 0.6328 - val_accuracy: 0.7156\n",
            "Epoch 60/100\n",
            "1334/1334 [==============================] - 13s 10ms/step - loss: 0.3939 - accuracy: 0.7940 - val_loss: 0.6505 - val_accuracy: 0.7120\n",
            "Epoch 61/100\n",
            "1334/1334 [==============================] - 13s 10ms/step - loss: 0.3972 - accuracy: 0.7913 - val_loss: 0.6387 - val_accuracy: 0.7160\n",
            "Epoch 62/100\n",
            "1334/1334 [==============================] - 13s 10ms/step - loss: 0.3947 - accuracy: 0.7919 - val_loss: 0.6486 - val_accuracy: 0.7092\n",
            "Epoch 63/100\n",
            "1334/1334 [==============================] - 13s 10ms/step - loss: 0.3929 - accuracy: 0.7966 - val_loss: 0.6405 - val_accuracy: 0.7145\n",
            "Epoch 64/100\n",
            "1334/1334 [==============================] - 13s 10ms/step - loss: 0.3914 - accuracy: 0.7988 - val_loss: 0.6366 - val_accuracy: 0.7108\n",
            "Epoch 65/100\n",
            "1334/1334 [==============================] - 13s 10ms/step - loss: 0.3882 - accuracy: 0.7976 - val_loss: 0.6101 - val_accuracy: 0.7104\n",
            "Epoch 66/100\n",
            "1334/1334 [==============================] - 13s 10ms/step - loss: 0.3867 - accuracy: 0.7984 - val_loss: 0.6557 - val_accuracy: 0.7108\n",
            "Epoch 67/100\n",
            "1334/1334 [==============================] - 13s 10ms/step - loss: 0.4005 - accuracy: 0.7944 - val_loss: 0.6513 - val_accuracy: 0.7089\n",
            "Epoch 68/100\n",
            "1334/1334 [==============================] - 13s 10ms/step - loss: 0.3845 - accuracy: 0.7984 - val_loss: 0.6602 - val_accuracy: 0.7090\n",
            "Epoch 69/100\n",
            "1334/1334 [==============================] - 13s 10ms/step - loss: 0.3884 - accuracy: 0.7987 - val_loss: 0.6508 - val_accuracy: 0.7123\n",
            "Epoch 70/100\n",
            "1334/1334 [==============================] - 13s 10ms/step - loss: 0.3785 - accuracy: 0.8031 - val_loss: 0.6540 - val_accuracy: 0.7107\n",
            "Epoch 71/100\n",
            "1334/1334 [==============================] - 13s 10ms/step - loss: 0.3918 - accuracy: 0.7985 - val_loss: 0.6490 - val_accuracy: 0.7130\n",
            "Epoch 72/100\n",
            "1334/1334 [==============================] - 13s 10ms/step - loss: 0.3769 - accuracy: 0.8047 - val_loss: 0.6633 - val_accuracy: 0.7121\n",
            "Epoch 73/100\n",
            "1334/1334 [==============================] - 13s 10ms/step - loss: 0.3821 - accuracy: 0.8026 - val_loss: 0.6381 - val_accuracy: 0.7100\n",
            "Epoch 74/100\n",
            "1334/1334 [==============================] - 13s 10ms/step - loss: 0.3829 - accuracy: 0.8006 - val_loss: 0.6734 - val_accuracy: 0.7058\n",
            "Epoch 75/100\n",
            "1334/1334 [==============================] - 13s 10ms/step - loss: 0.3738 - accuracy: 0.8054 - val_loss: 0.6791 - val_accuracy: 0.7101\n",
            "Epoch 76/100\n",
            "1334/1334 [==============================] - 13s 10ms/step - loss: 0.3766 - accuracy: 0.8067 - val_loss: 0.6450 - val_accuracy: 0.7114\n",
            "Epoch 77/100\n",
            "1334/1334 [==============================] - 13s 10ms/step - loss: 0.4092 - accuracy: 0.7900 - val_loss: 0.6270 - val_accuracy: 0.7125\n",
            "Epoch 78/100\n",
            "1334/1334 [==============================] - 13s 10ms/step - loss: 0.3754 - accuracy: 0.8048 - val_loss: 0.6752 - val_accuracy: 0.7118\n",
            "Epoch 79/100\n",
            "1334/1334 [==============================] - 13s 10ms/step - loss: 0.3687 - accuracy: 0.8084 - val_loss: 0.6696 - val_accuracy: 0.7117\n",
            "Epoch 80/100\n",
            "1334/1334 [==============================] - 13s 10ms/step - loss: 0.3678 - accuracy: 0.8103 - val_loss: 0.6512 - val_accuracy: 0.7100\n",
            "Epoch 81/100\n",
            "1334/1334 [==============================] - 13s 10ms/step - loss: 0.3821 - accuracy: 0.8037 - val_loss: 0.6579 - val_accuracy: 0.7120\n",
            "Epoch 82/100\n",
            "1334/1334 [==============================] - 13s 10ms/step - loss: 0.3858 - accuracy: 0.8057 - val_loss: 0.6495 - val_accuracy: 0.7074\n",
            "Epoch 83/100\n",
            "1334/1334 [==============================] - 13s 10ms/step - loss: 0.3691 - accuracy: 0.8077 - val_loss: 0.6842 - val_accuracy: 0.7060\n",
            "Epoch 84/100\n",
            "1334/1334 [==============================] - 13s 10ms/step - loss: 0.3680 - accuracy: 0.8086 - val_loss: 0.6875 - val_accuracy: 0.7054\n",
            "Epoch 85/100\n",
            "1334/1334 [==============================] - 13s 10ms/step - loss: 0.3706 - accuracy: 0.8071 - val_loss: 0.6874 - val_accuracy: 0.7075\n",
            "Epoch 86/100\n",
            "1334/1334 [==============================] - 13s 10ms/step - loss: 0.3701 - accuracy: 0.8091 - val_loss: 0.6830 - val_accuracy: 0.7076\n",
            "Epoch 87/100\n",
            "1334/1334 [==============================] - 13s 10ms/step - loss: 0.3599 - accuracy: 0.8135 - val_loss: 0.6743 - val_accuracy: 0.7083\n",
            "Epoch 88/100\n",
            "1334/1334 [==============================] - 13s 10ms/step - loss: 0.3627 - accuracy: 0.8121 - val_loss: 0.7123 - val_accuracy: 0.7073\n",
            "Epoch 89/100\n",
            "1334/1334 [==============================] - 13s 10ms/step - loss: 0.3663 - accuracy: 0.8119 - val_loss: 0.6921 - val_accuracy: 0.7086\n",
            "Epoch 90/100\n",
            "1334/1334 [==============================] - 13s 10ms/step - loss: 0.3578 - accuracy: 0.8172 - val_loss: 0.6694 - val_accuracy: 0.7087\n",
            "Epoch 91/100\n",
            "1334/1334 [==============================] - 13s 10ms/step - loss: 0.3692 - accuracy: 0.8123 - val_loss: 0.6649 - val_accuracy: 0.7055\n",
            "Epoch 92/100\n",
            "1334/1334 [==============================] - 13s 10ms/step - loss: 0.3666 - accuracy: 0.8120 - val_loss: 0.6801 - val_accuracy: 0.7102\n",
            "Epoch 93/100\n",
            "1334/1334 [==============================] - 13s 10ms/step - loss: 0.3624 - accuracy: 0.8142 - val_loss: 0.6993 - val_accuracy: 0.7050\n",
            "Epoch 94/100\n",
            "1334/1334 [==============================] - 13s 10ms/step - loss: 0.4484 - accuracy: 0.7720 - val_loss: 0.6909 - val_accuracy: 0.7063\n",
            "Epoch 95/100\n",
            "1334/1334 [==============================] - 14s 10ms/step - loss: 0.3551 - accuracy: 0.8155 - val_loss: 0.6828 - val_accuracy: 0.7064\n",
            "Epoch 96/100\n",
            "1334/1334 [==============================] - 13s 10ms/step - loss: 0.3529 - accuracy: 0.8191 - val_loss: 0.6948 - val_accuracy: 0.7065\n",
            "Epoch 97/100\n",
            "1334/1334 [==============================] - 13s 10ms/step - loss: 0.3633 - accuracy: 0.8145 - val_loss: 0.7004 - val_accuracy: 0.7052\n",
            "Epoch 98/100\n",
            "1334/1334 [==============================] - 13s 10ms/step - loss: 0.3549 - accuracy: 0.8144 - val_loss: 0.6908 - val_accuracy: 0.7065\n",
            "Epoch 99/100\n",
            "1334/1334 [==============================] - 13s 10ms/step - loss: 0.3511 - accuracy: 0.8175 - val_loss: 0.7166 - val_accuracy: 0.7077\n",
            "Epoch 100/100\n",
            "1334/1334 [==============================] - 13s 10ms/step - loss: 0.3557 - accuracy: 0.8151 - val_loss: 0.6514 - val_accuracy: 0.7035\n",
            "Fold 2, 100 epochs, 1404 sec\n"
          ],
          "name": "stdout"
        },
        {
          "output_type": "display_data",
          "data": {
            "image/png": "[encoded data removed]",
            "text/plain": [
              "<Figure size 576x360 with 1 Axes>"
            ]
          },
          "metadata": {
            "tags": [],
            "needs_background": "light"
          }
        },
        {
          "output_type": "stream",
          "text": [
            "MODEL\n",
            "make_DNN\n",
            "input shape: (100, 4)\n",
            "FIT\n",
            "Epoch 1/100\n",
            "1334/1334 [==============================] - 17s 10ms/step - loss: 0.6920 - accuracy: 0.5447 - val_loss: 0.6103 - val_accuracy: 0.6608\n",
            "Epoch 2/100\n",
            "1334/1334 [==============================] - 13s 10ms/step - loss: 0.6110 - accuracy: 0.6629 - val_loss: 0.5678 - val_accuracy: 0.6946\n",
            "Epoch 3/100\n",
            "1334/1334 [==============================] - 13s 10ms/step - loss: 0.5577 - accuracy: 0.7046 - val_loss: 0.5409 - val_accuracy: 0.7103\n",
            "Epoch 4/100\n",
            "1334/1334 [==============================] - 13s 10ms/step - loss: 0.5385 - accuracy: 0.7140 - val_loss: 0.5291 - val_accuracy: 0.7158\n",
            "Epoch 5/100\n",
            "1334/1334 [==============================] - 13s 10ms/step - loss: 0.5307 - accuracy: 0.7153 - val_loss: 0.5257 - val_accuracy: 0.7116\n",
            "Epoch 6/100\n",
            "1334/1334 [==============================] - 13s 10ms/step - loss: 0.5243 - accuracy: 0.7233 - val_loss: 0.5205 - val_accuracy: 0.7175\n",
            "Epoch 7/100\n",
            "1334/1334 [==============================] - 13s 10ms/step - loss: 0.5205 - accuracy: 0.7212 - val_loss: 0.5192 - val_accuracy: 0.7167\n",
            "Epoch 8/100\n",
            "1334/1334 [==============================] - 13s 10ms/step - loss: 0.5149 - accuracy: 0.7310 - val_loss: 0.5168 - val_accuracy: 0.7194\n",
            "Epoch 9/100\n",
            "1334/1334 [==============================] - 13s 10ms/step - loss: 0.5108 - accuracy: 0.7319 - val_loss: 0.5227 - val_accuracy: 0.7179\n",
            "Epoch 10/100\n",
            "1334/1334 [==============================] - 13s 10ms/step - loss: 0.5085 - accuracy: 0.7293 - val_loss: 0.5215 - val_accuracy: 0.7187\n",
            "Epoch 11/100\n",
            "1334/1334 [==============================] - 13s 10ms/step - loss: 0.5081 - accuracy: 0.7317 - val_loss: 0.5297 - val_accuracy: 0.7135\n",
            "Epoch 12/100\n",
            "1334/1334 [==============================] - 13s 10ms/step - loss: 0.5030 - accuracy: 0.7372 - val_loss: 0.5226 - val_accuracy: 0.7188\n",
            "Epoch 13/100\n",
            "1334/1334 [==============================] - 13s 10ms/step - loss: 0.5004 - accuracy: 0.7378 - val_loss: 0.5305 - val_accuracy: 0.7135\n",
            "Epoch 14/100\n",
            "1334/1334 [==============================] - 13s 10ms/step - loss: 0.4977 - accuracy: 0.7339 - val_loss: 0.5287 - val_accuracy: 0.7199\n",
            "Epoch 15/100\n",
            "1334/1334 [==============================] - 13s 10ms/step - loss: 0.5004 - accuracy: 0.7353 - val_loss: 0.5405 - val_accuracy: 0.7163\n",
            "Epoch 16/100\n",
            "1334/1334 [==============================] - 13s 10ms/step - loss: 0.4981 - accuracy: 0.7373 - val_loss: 0.5236 - val_accuracy: 0.7156\n",
            "Epoch 17/100\n",
            "1334/1334 [==============================] - 13s 10ms/step - loss: 0.4902 - accuracy: 0.7403 - val_loss: 0.5245 - val_accuracy: 0.7172\n",
            "Epoch 18/100\n",
            "1334/1334 [==============================] - 13s 10ms/step - loss: 0.4929 - accuracy: 0.7420 - val_loss: 0.5289 - val_accuracy: 0.7194\n",
            "Epoch 19/100\n",
            "1334/1334 [==============================] - 13s 10ms/step - loss: 0.4885 - accuracy: 0.7429 - val_loss: 0.5274 - val_accuracy: 0.7159\n",
            "Epoch 20/100\n",
            "1334/1334 [==============================] - 13s 10ms/step - loss: 0.4814 - accuracy: 0.7474 - val_loss: 0.5328 - val_accuracy: 0.7192\n",
            "Epoch 21/100\n",
            "1334/1334 [==============================] - 13s 10ms/step - loss: 0.4826 - accuracy: 0.7445 - val_loss: 0.5277 - val_accuracy: 0.7152\n",
            "Epoch 22/100\n",
            "1334/1334 [==============================] - 13s 10ms/step - loss: 0.4773 - accuracy: 0.7475 - val_loss: 0.5308 - val_accuracy: 0.7177\n",
            "Epoch 23/100\n",
            "1334/1334 [==============================] - 13s 10ms/step - loss: 0.4755 - accuracy: 0.7485 - val_loss: 0.5382 - val_accuracy: 0.7147\n",
            "Epoch 24/100\n",
            "1334/1334 [==============================] - 13s 10ms/step - loss: 0.4779 - accuracy: 0.7498 - val_loss: 0.5453 - val_accuracy: 0.7127\n",
            "Epoch 25/100\n",
            "1334/1334 [==============================] - 13s 10ms/step - loss: 0.4681 - accuracy: 0.7557 - val_loss: 0.5379 - val_accuracy: 0.7132\n",
            "Epoch 26/100\n",
            "1334/1334 [==============================] - 13s 10ms/step - loss: 0.4683 - accuracy: 0.7545 - val_loss: 0.5545 - val_accuracy: 0.7120\n",
            "Epoch 27/100\n",
            "1334/1334 [==============================] - 14s 10ms/step - loss: 0.4654 - accuracy: 0.7562 - val_loss: 0.5477 - val_accuracy: 0.7138\n",
            "Epoch 28/100\n",
            "1334/1334 [==============================] - 13s 10ms/step - loss: 0.4632 - accuracy: 0.7556 - val_loss: 0.5433 - val_accuracy: 0.7138\n",
            "Epoch 29/100\n",
            "1334/1334 [==============================] - 13s 10ms/step - loss: 0.4617 - accuracy: 0.7580 - val_loss: 0.5665 - val_accuracy: 0.7108\n",
            "Epoch 30/100\n",
            "1334/1334 [==============================] - 13s 10ms/step - loss: 0.4590 - accuracy: 0.7607 - val_loss: 0.5597 - val_accuracy: 0.7082\n",
            "Epoch 31/100\n",
            "1334/1334 [==============================] - 13s 10ms/step - loss: 0.4587 - accuracy: 0.7611 - val_loss: 0.5721 - val_accuracy: 0.7122\n",
            "Epoch 32/100\n",
            "1334/1334 [==============================] - 13s 10ms/step - loss: 0.4538 - accuracy: 0.7631 - val_loss: 0.5716 - val_accuracy: 0.7135\n",
            "Epoch 33/100\n",
            "1334/1334 [==============================] - 13s 10ms/step - loss: 0.4469 - accuracy: 0.7667 - val_loss: 0.5568 - val_accuracy: 0.7102\n",
            "Epoch 34/100\n",
            "1334/1334 [==============================] - 13s 10ms/step - loss: 0.4500 - accuracy: 0.7682 - val_loss: 0.5599 - val_accuracy: 0.7056\n",
            "Epoch 35/100\n",
            "1334/1334 [==============================] - 13s 10ms/step - loss: 0.4471 - accuracy: 0.7648 - val_loss: 0.5607 - val_accuracy: 0.7069\n",
            "Epoch 36/100\n",
            "1334/1334 [==============================] - 13s 10ms/step - loss: 0.4477 - accuracy: 0.7682 - val_loss: 0.5955 - val_accuracy: 0.7066\n",
            "Epoch 37/100\n",
            "1334/1334 [==============================] - 13s 10ms/step - loss: 0.4409 - accuracy: 0.7699 - val_loss: 0.5739 - val_accuracy: 0.7074\n",
            "Epoch 38/100\n",
            "1334/1334 [==============================] - 13s 10ms/step - loss: 0.4405 - accuracy: 0.7717 - val_loss: 0.5913 - val_accuracy: 0.7092\n",
            "Epoch 39/100\n",
            "1334/1334 [==============================] - 13s 10ms/step - loss: 0.4367 - accuracy: 0.7766 - val_loss: 0.6254 - val_accuracy: 0.7077\n",
            "Epoch 40/100\n",
            "1334/1334 [==============================] - 13s 10ms/step - loss: 0.4384 - accuracy: 0.7711 - val_loss: 0.6418 - val_accuracy: 0.7118\n",
            "Epoch 41/100\n",
            "1334/1334 [==============================] - 14s 10ms/step - loss: 0.4325 - accuracy: 0.7793 - val_loss: 0.5917 - val_accuracy: 0.7066\n",
            "Epoch 42/100\n",
            "1334/1334 [==============================] - 14s 10ms/step - loss: 0.4281 - accuracy: 0.7793 - val_loss: 0.6113 - val_accuracy: 0.7026\n",
            "Epoch 43/100\n",
            "1334/1334 [==============================] - 13s 10ms/step - loss: 0.4254 - accuracy: 0.7817 - val_loss: 0.6351 - val_accuracy: 0.7046\n",
            "Epoch 44/100\n",
            "1334/1334 [==============================] - 13s 10ms/step - loss: 0.4285 - accuracy: 0.7755 - val_loss: 0.6376 - val_accuracy: 0.7023\n",
            "Epoch 45/100\n",
            "1334/1334 [==============================] - 13s 10ms/step - loss: 0.4236 - accuracy: 0.7840 - val_loss: 0.6075 - val_accuracy: 0.7019\n",
            "Epoch 46/100\n",
            "1334/1334 [==============================] - 13s 10ms/step - loss: 0.4215 - accuracy: 0.7843 - val_loss: 0.5957 - val_accuracy: 0.7002\n",
            "Epoch 47/100\n",
            "1334/1334 [==============================] - 13s 10ms/step - loss: 0.4209 - accuracy: 0.7878 - val_loss: 0.6118 - val_accuracy: 0.6989\n",
            "Epoch 48/100\n",
            "1334/1334 [==============================] - 13s 10ms/step - loss: 0.4142 - accuracy: 0.7877 - val_loss: 0.6259 - val_accuracy: 0.7059\n",
            "Epoch 49/100\n",
            "1334/1334 [==============================] - 14s 10ms/step - loss: 0.4171 - accuracy: 0.7869 - val_loss: 0.6347 - val_accuracy: 0.7022\n",
            "Epoch 50/100\n",
            "1334/1334 [==============================] - 13s 10ms/step - loss: 0.4145 - accuracy: 0.7895 - val_loss: 0.6162 - val_accuracy: 0.6991\n",
            "Epoch 51/100\n",
            "1334/1334 [==============================] - 13s 10ms/step - loss: 0.4113 - accuracy: 0.7906 - val_loss: 0.6541 - val_accuracy: 0.7049\n",
            "Epoch 52/100\n",
            "1334/1334 [==============================] - 13s 10ms/step - loss: 0.4058 - accuracy: 0.7934 - val_loss: 0.6321 - val_accuracy: 0.7081\n",
            "Epoch 53/100\n",
            "1334/1334 [==============================] - 13s 10ms/step - loss: 0.4120 - accuracy: 0.7921 - val_loss: 0.6718 - val_accuracy: 0.7003\n",
            "Epoch 54/100\n",
            "1334/1334 [==============================] - 13s 10ms/step - loss: 0.4071 - accuracy: 0.7910 - val_loss: 0.6446 - val_accuracy: 0.6959\n",
            "Epoch 55/100\n",
            "1334/1334 [==============================] - 13s 10ms/step - loss: 0.4035 - accuracy: 0.7914 - val_loss: 0.6505 - val_accuracy: 0.6974\n",
            "Epoch 56/100\n",
            "1334/1334 [==============================] - 14s 10ms/step - loss: 0.3982 - accuracy: 0.8008 - val_loss: 0.6801 - val_accuracy: 0.7027\n",
            "Epoch 57/100\n",
            "1334/1334 [==============================] - 13s 10ms/step - loss: 0.4009 - accuracy: 0.7952 - val_loss: 0.6666 - val_accuracy: 0.6988\n",
            "Epoch 58/100\n",
            "1334/1334 [==============================] - 13s 10ms/step - loss: 0.4012 - accuracy: 0.7947 - val_loss: 0.6897 - val_accuracy: 0.6939\n",
            "Epoch 59/100\n",
            "1334/1334 [==============================] - 13s 10ms/step - loss: 0.3977 - accuracy: 0.7978 - val_loss: 0.6787 - val_accuracy: 0.6969\n",
            "Epoch 60/100\n",
            "1334/1334 [==============================] - 13s 10ms/step - loss: 0.3983 - accuracy: 0.7938 - val_loss: 0.6962 - val_accuracy: 0.6988\n",
            "Epoch 61/100\n",
            "1334/1334 [==============================] - 13s 10ms/step - loss: 0.3908 - accuracy: 0.8013 - val_loss: 0.6735 - val_accuracy: 0.6993\n",
            "Epoch 62/100\n",
            "1334/1334 [==============================] - 13s 10ms/step - loss: 0.3955 - accuracy: 0.7957 - val_loss: 0.6944 - val_accuracy: 0.6957\n",
            "Epoch 63/100\n",
            "1334/1334 [==============================] - 13s 10ms/step - loss: 0.3932 - accuracy: 0.8035 - val_loss: 0.6696 - val_accuracy: 0.7001\n",
            "Epoch 64/100\n",
            "1334/1334 [==============================] - 14s 10ms/step - loss: 0.3895 - accuracy: 0.8020 - val_loss: 0.6908 - val_accuracy: 0.7005\n",
            "Epoch 65/100\n",
            "1334/1334 [==============================] - 13s 10ms/step - loss: 0.3924 - accuracy: 0.8020 - val_loss: 0.6699 - val_accuracy: 0.6964\n",
            "Epoch 66/100\n",
            "1334/1334 [==============================] - 13s 10ms/step - loss: 0.3902 - accuracy: 0.8015 - val_loss: 0.6981 - val_accuracy: 0.6973\n",
            "Epoch 67/100\n",
            "1334/1334 [==============================] - 13s 10ms/step - loss: 0.3812 - accuracy: 0.8082 - val_loss: 0.6989 - val_accuracy: 0.6921\n",
            "Epoch 68/100\n",
            "1334/1334 [==============================] - 13s 10ms/step - loss: 0.3832 - accuracy: 0.8044 - val_loss: 0.6832 - val_accuracy: 0.6981\n",
            "Epoch 69/100\n",
            "1334/1334 [==============================] - 13s 10ms/step - loss: 0.3817 - accuracy: 0.8062 - val_loss: 0.7060 - val_accuracy: 0.6946\n",
            "Epoch 70/100\n",
            "1334/1334 [==============================] - 13s 10ms/step - loss: 0.3872 - accuracy: 0.8077 - val_loss: 0.6724 - val_accuracy: 0.6963\n",
            "Epoch 71/100\n",
            "1334/1334 [==============================] - 13s 10ms/step - loss: 0.3735 - accuracy: 0.8151 - val_loss: 0.7308 - val_accuracy: 0.6959\n",
            "Epoch 72/100\n",
            "1334/1334 [==============================] - 13s 10ms/step - loss: 0.3749 - accuracy: 0.8138 - val_loss: 0.7180 - val_accuracy: 0.7012\n",
            "Epoch 73/100\n",
            "1334/1334 [==============================] - 14s 10ms/step - loss: 0.3844 - accuracy: 0.8077 - val_loss: 0.7004 - val_accuracy: 0.6984\n",
            "Epoch 74/100\n",
            "1334/1334 [==============================] - 13s 10ms/step - loss: 0.3724 - accuracy: 0.8126 - val_loss: 0.6918 - val_accuracy: 0.6933\n",
            "Epoch 75/100\n",
            "1334/1334 [==============================] - 13s 10ms/step - loss: 0.3708 - accuracy: 0.8157 - val_loss: 0.7125 - val_accuracy: 0.6935\n",
            "Epoch 76/100\n",
            "1334/1334 [==============================] - 14s 10ms/step - loss: 0.3730 - accuracy: 0.8134 - val_loss: 0.6908 - val_accuracy: 0.6976\n",
            "Epoch 77/100\n",
            "1334/1334 [==============================] - 13s 10ms/step - loss: 0.3800 - accuracy: 0.8093 - val_loss: 0.6813 - val_accuracy: 0.6901\n",
            "Epoch 78/100\n",
            "1334/1334 [==============================] - 13s 10ms/step - loss: 0.3743 - accuracy: 0.8143 - val_loss: 0.6924 - val_accuracy: 0.6944\n",
            "Epoch 79/100\n",
            "1334/1334 [==============================] - 13s 10ms/step - loss: 0.3718 - accuracy: 0.8154 - val_loss: 0.7115 - val_accuracy: 0.6947\n",
            "Epoch 80/100\n",
            "1334/1334 [==============================] - 14s 10ms/step - loss: 0.3670 - accuracy: 0.8174 - val_loss: 0.7157 - val_accuracy: 0.6963\n",
            "Epoch 81/100\n",
            "1334/1334 [==============================] - 14s 10ms/step - loss: 0.3697 - accuracy: 0.8145 - val_loss: 0.7202 - val_accuracy: 0.6940\n",
            "Epoch 82/100\n",
            "1334/1334 [==============================] - 14s 10ms/step - loss: 0.3712 - accuracy: 0.8132 - val_loss: 0.7384 - val_accuracy: 0.6919\n",
            "Epoch 83/100\n",
            "1334/1334 [==============================] - 14s 10ms/step - loss: 0.3724 - accuracy: 0.8132 - val_loss: 0.7188 - val_accuracy: 0.6972\n",
            "Epoch 84/100\n",
            "1334/1334 [==============================] - 13s 10ms/step - loss: 0.3780 - accuracy: 0.8138 - val_loss: 0.7548 - val_accuracy: 0.6937\n",
            "Epoch 85/100\n",
            "1334/1334 [==============================] - 14s 10ms/step - loss: 0.3617 - accuracy: 0.8198 - val_loss: 0.7167 - val_accuracy: 0.6949\n",
            "Epoch 86/100\n",
            "1334/1334 [==============================] - 14s 10ms/step - loss: 0.3640 - accuracy: 0.8209 - val_loss: 0.7574 - val_accuracy: 0.6940\n",
            "Epoch 87/100\n",
            "1334/1334 [==============================] - 14s 11ms/step - loss: 0.3627 - accuracy: 0.8192 - val_loss: 0.7909 - val_accuracy: 0.6911\n",
            "Epoch 88/100\n",
            "1334/1334 [==============================] - 14s 10ms/step - loss: 0.3680 - accuracy: 0.8171 - val_loss: 0.6936 - val_accuracy: 0.6883\n",
            "Epoch 89/100\n",
            "1334/1334 [==============================] - 13s 10ms/step - loss: 0.3619 - accuracy: 0.8174 - val_loss: 0.7371 - val_accuracy: 0.6943\n",
            "Epoch 90/100\n",
            "1334/1334 [==============================] - 14s 10ms/step - loss: 0.3699 - accuracy: 0.8182 - val_loss: 0.7164 - val_accuracy: 0.6872\n",
            "Epoch 91/100\n",
            "1334/1334 [==============================] - 13s 10ms/step - loss: 0.3598 - accuracy: 0.8203 - val_loss: 0.7095 - val_accuracy: 0.6892\n",
            "Epoch 92/100\n",
            "1334/1334 [==============================] - 14s 10ms/step - loss: 0.3629 - accuracy: 0.8203 - val_loss: 0.7250 - val_accuracy: 0.6902\n",
            "Epoch 93/100\n",
            "1334/1334 [==============================] - 14s 10ms/step - loss: 0.3564 - accuracy: 0.8253 - val_loss: 0.7364 - val_accuracy: 0.6947\n",
            "Epoch 94/100\n",
            "1334/1334 [==============================] - 14s 10ms/step - loss: 0.3506 - accuracy: 0.8281 - val_loss: 0.7255 - val_accuracy: 0.6882\n",
            "Epoch 95/100\n",
            "1334/1334 [==============================] - 14s 10ms/step - loss: 0.3636 - accuracy: 0.8222 - val_loss: 0.7953 - val_accuracy: 0.6889\n",
            "Epoch 96/100\n",
            "1334/1334 [==============================] - 13s 10ms/step - loss: 0.3537 - accuracy: 0.8270 - val_loss: 0.6973 - val_accuracy: 0.6901\n",
            "Epoch 97/100\n",
            "1334/1334 [==============================] - 14s 10ms/step - loss: 0.3561 - accuracy: 0.8241 - val_loss: 0.7580 - val_accuracy: 0.6910\n",
            "Epoch 98/100\n",
            "1334/1334 [==============================] - 14s 11ms/step - loss: 0.3547 - accuracy: 0.8233 - val_loss: 0.7342 - val_accuracy: 0.6950\n",
            "Epoch 99/100\n",
            "1334/1334 [==============================] - 14s 10ms/step - loss: 0.3631 - accuracy: 0.8218 - val_loss: 0.7773 - val_accuracy: 0.6937\n",
            "Epoch 100/100\n",
            "1334/1334 [==============================] - 14s 10ms/step - loss: 0.3475 - accuracy: 0.8308 - val_loss: 0.7632 - val_accuracy: 0.6911\n",
            "Fold 3, 100 epochs, 1343 sec\n"
          ],
          "name": "stdout"
        },
        {
          "output_type": "display_data",
          "data": {
            "image/png": "[encoded data removed]",
            "text/plain": [
              "<Figure size 576x360 with 1 Axes>"
            ]
          },
          "metadata": {
            "tags": [],
            "needs_background": "light"
          }
        }
      ]
    },
    {
      "cell_type": "code",
      "metadata": {
        "colab": {
          "base_uri": "https://localhost:8080/"
        },
        "id": "e-jG1h5fj2Ua",
        "outputId": "b1dc1f6d-d2b6-437f-86a3-14927f1570a1"
      },
      "source": [
        "from keras.models import load_model\n",
        "X,y = prepare_inputs_len_x_alphabet(pc_test,nc_test,ALPHABET)\n",
        "best_model=load_model(MODELPATH)\n",
        "scores = best_model.evaluate(X, y, verbose=0)\n",
        "print(\"The best model parameters were saved during cross-validation.\")\n",
        "print(\"Best was defined as maximum validation accuracy at end of any epoch.\")\n",
        "print(\"Now re-load the best model and test it on previously unseen data.\")\n",
        "print(\"Test on\",len(pc_test),\"PC seqs\")\n",
        "print(\"Test on\",len(nc_test),\"NC seqs\")\n",
        "print(\"%s: %.2f%%\" % (best_model.metrics_names[1], scores[1]*100))\n"
      ],
      "execution_count": 12,
      "outputs": [
        {
          "output_type": "stream",
          "text": [
            "The best model parameters were saved during cross-validation.\n",
            "Best was defined as maximum validation accuracy at end of any epoch.\n",
            "Now re-load the best model and test it on previously unseen data.\n",
            "Test on 1000 PC seqs\n",
            "Test on 1000 NC seqs\n",
            "accuracy: 72.45%\n"
          ],
          "name": "stdout"
        }
      ]
    },
    {
      "cell_type": "code",
      "metadata": {
        "colab": {
          "base_uri": "https://localhost:8080/",
          "height": 312
        },
        "id": "VycUnmvUj2Ue",
        "outputId": "0e900615-e977-40da-b74c-b5b6d089f1d2"
      },
      "source": [
        "from sklearn.metrics import roc_curve\n",
        "from sklearn.metrics import roc_auc_score\n",
        "ns_probs = [0 for _ in range(len(y))]\n",
        "bm_probs = best_model.predict(X)\n",
        "ns_auc = roc_auc_score(y, ns_probs)\n",
        "bm_auc = roc_auc_score(y, bm_probs)\n",
        "ns_fpr, ns_tpr, _ = roc_curve(y, ns_probs)\n",
        "bm_fpr, bm_tpr, _ = roc_curve(y, bm_probs)\n",
        "plt.plot(ns_fpr, ns_tpr, linestyle='--', label='Guess, auc=%.4f'%ns_auc)\n",
        "plt.plot(bm_fpr, bm_tpr, marker='.', label='Model, auc=%.4f'%bm_auc)\n",
        "plt.title('ROC')\n",
        "plt.xlabel('False Positive Rate')\n",
        "plt.ylabel('True Positive Rate')\n",
        "plt.legend()\n",
        "plt.show()\n",
        "print(\"%s: %.2f%%\" %('AUC',bm_auc*100.0))\n"
      ],
      "execution_count": 13,
      "outputs": [
        {
          "output_type": "display_data",
          "data": {
            "image/png": "[encoded data removed]",
            "text/plain": [
              "<Figure size 432x288 with 1 Axes>"
            ]
          },
          "metadata": {
            "tags": [],
            "needs_background": "light"
          }
        },
        {
          "output_type": "stream",
          "text": [
            "AUC: 81.66%\n"
          ],
          "name": "stdout"
        }
      ]
    },
    {
      "cell_type": "code",
      "metadata": {
        "colab": {
          "base_uri": "https://localhost:8080/",
          "height": 36
        },
        "id": "kFMb6rGNj2Ug",
        "outputId": "ec7cced4-1d27-42be-8e4c-3fcb9c7eb6eb"
      },
      "source": [
        "t = time.time()\n",
        "time.strftime('%Y-%m-%d %H:%M:%S %Z', time.localtime(t))"
      ],
      "execution_count": 14,
      "outputs": [
        {
          "output_type": "execute_result",
          "data": {
            "application/vnd.google.colaboratory.intrinsic+json": {
              "type": "string"
            },
            "text/plain": [
              "'2021-06-17 21:00:56 UTC'"
            ]
          },
          "metadata": {
            "tags": []
          },
          "execution_count": 14
        }
      ]
    },
    {
      "cell_type": "code",
      "metadata": {
        "id": "e-mEgDrQjUzF"
      },
      "source": [
        ""
      ],
      "execution_count": 14,
      "outputs": []
    }
  ]
}