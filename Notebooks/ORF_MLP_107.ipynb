{
  "nbformat": 4,
  "nbformat_minor": 0,
  "metadata": {
    "accelerator": "GPU",
    "colab": {
      "name": "ORF_MLP_107.ipynb",
      "provenance": [],
      "collapsed_sections": []
    },
    "kernelspec": {
      "display_name": "Python 3",
      "language": "python",
      "name": "python3"
    },
    "language_info": {
      "codemirror_mode": {
        "name": "ipython",
        "version": 3
      },
      "file_extension": ".py",
      "mimetype": "text/x-python",
      "name": "python",
      "nbconvert_exporter": "python",
      "pygments_lexer": "ipython3",
      "version": "3.8.3"
    }
  },
  "cells": [
    {
      "cell_type": "markdown",
      "metadata": {
        "id": "0asdcdunj2Tx"
      },
      "source": [
        "# ORF recognition by MLP\n",
        "\n",
        "So far, no MLP has exceeded 50% accurcy on any ORF problem.\n",
        "Here, try a variety of things.\n",
        "\n",
        "RNA length 16, CDS length 8.\n",
        "No luck with 32 neurons or 64 neurons\n",
        "Instead of sigmoid, tried tanh and relu.\n",
        "Instead of 4 layers, tried 1.\n",
        "RNA length 12, CDS length 6.\n",
        "2 layers of 32 neurons, sigmoid.\n",
        "Even 512 neurons, rectangular or triangular, didn't work.\n",
        "Move INPUT_SHAPE from compile() to first layer parameter. \n",
        "\n",
        "This works: All PC='AC'*, all NC='GT'*. \n",
        "100% accurate on one epoch with 2 layers of 12 neurons.\n",
        "\n",
        "Nothing works! Now suspect the data preparation is incorrect. Try trivializing the problem by always adding ATG or TAG."
      ]
    },
    {
      "cell_type": "code",
      "metadata": {
        "colab": {
          "base_uri": "https://localhost:8080/",
          "height": 36
        },
        "id": "QP1VTRNQj2UO",
        "outputId": "d8833010-5dd3-4cd2-e56c-3eb8eca2c139"
      },
      "source": [
        "import time \n",
        "t = time.time()\n",
        "time.strftime('%Y-%m-%d %H:%M:%S %Z', time.localtime(t))"
      ],
      "execution_count": null,
      "outputs": [
        {
          "output_type": "execute_result",
          "data": {
            "application/vnd.google.colaboratory.intrinsic+json": {
              "type": "string"
            },
            "text/plain": [
              "'2021-06-23 17:59:24 UTC'"
            ]
          },
          "metadata": {
            "tags": []
          },
          "execution_count": 1
        }
      ]
    },
    {
      "cell_type": "code",
      "metadata": {
        "id": "Nhz4GKonj2T_"
      },
      "source": [
        "PC_SEQUENCES=32000   # how many protein-coding sequences\n",
        "NC_SEQUENCES=32000   # how many non-coding sequences\n",
        "PC_TESTS=1000\n",
        "NC_TESTS=1000\n",
        "RNA_LEN=16            # how long is each sequence\n",
        "CDS_LEN=8           # min CDS len to be coding\n",
        "ALPHABET=4          # how many different letters are possible\n",
        "INPUT_SHAPE_2D = (RNA_LEN,ALPHABET,1) # Conv2D needs 3D inputs\n",
        "INPUT_SHAPE = (None,RNA_LEN,ALPHABET) # MLP requires batch size None\n",
        "FILTERS = 16   # how many different patterns the model looks for\n",
        "CELLS = 16\n",
        "NEURONS = 16\n",
        "DROP_RATE = 0.4\n",
        "WIDTH = 3   # how wide each pattern is, in bases\n",
        "STRIDE_2D = (1,1)  # For Conv2D how far in each direction\n",
        "STRIDE = 1 # For Conv1D, how far between pattern matches, in bases\n",
        "EPOCHS=50  # how many times to train on all the data\n",
        "SPLITS=3  # SPLITS=3 means train on 2/3 and validate on 1/3 \n",
        "FOLDS=3  # train the model this many times (range 1 to SPLITS)"
      ],
      "execution_count": null,
      "outputs": []
    },
    {
      "cell_type": "code",
      "metadata": {
        "colab": {
          "base_uri": "https://localhost:8080/"
        },
        "id": "lr7q90rxj2UE",
        "outputId": "af89ea03-2ca6-4f97-91f1-b6ee9a723fa4"
      },
      "source": [
        "import sys\n",
        "IN_COLAB = False\n",
        "try:\n",
        "    from google.colab import drive\n",
        "    IN_COLAB = True\n",
        "except:\n",
        "    pass\n",
        "if IN_COLAB:\n",
        "    print(\"On Google CoLab, mount cloud-local file, get our code from GitHub.\")\n",
        "    PATH='/content/drive/'\n",
        "    #drive.mount(PATH,force_remount=True)  # hardly ever need this\n",
        "    #drive.mount(PATH)    # Google will require login credentials\n",
        "    DATAPATH=PATH+'My Drive/data/'  # must end in \"/\"\n",
        "    import requests\n",
        "    r = requests.get('https://raw.githubusercontent.com/ShepherdCode/Soars2021/master/SimTools/RNA_describe.py')\n",
        "    with open('RNA_describe.py', 'w') as f:\n",
        "        f.write(r.text)  \n",
        "    from RNA_describe import ORF_counter\n",
        "    from RNA_describe import Random_Base_Oracle\n",
        "    r = requests.get('https://raw.githubusercontent.com/ShepherdCode/Soars2021/master/SimTools/RNA_prep.py')\n",
        "    with open('RNA_prep.py', 'w') as f:\n",
        "        f.write(r.text)  \n",
        "    from RNA_prep import prepare_inputs_len_x_alphabet\n",
        "else:\n",
        "        print(\"CoLab not working. On my PC, use relative paths.\")\n",
        "        DATAPATH='data/'  # must end in \"/\"\n",
        "        sys.path.append(\"..\") # append parent dir in order to use sibling dirs\n",
        "        from SimTools.RNA_describe import ORF_counter,Random_Base_Oracle\n",
        "        from SimTools.RNA_prep import prepare_inputs_len_x_alphabet\n",
        "\n",
        "MODELPATH=\"BestModel\"  # saved on cloud instance and lost after logout\n",
        "#MODELPATH=DATAPATH+MODELPATH  # saved on Google Drive but requires login\n"
      ],
      "execution_count": null,
      "outputs": [
        {
          "output_type": "stream",
          "text": [
            "On Google CoLab, mount cloud-local file, get our code from GitHub.\n"
          ],
          "name": "stdout"
        }
      ]
    },
    {
      "cell_type": "code",
      "metadata": {
        "id": "EGDXH8Uwj2UM"
      },
      "source": [
        "from os import listdir\n",
        "import csv\n",
        "from zipfile import ZipFile\n",
        "\n",
        "import numpy as np\n",
        "import pandas as pd\n",
        "from scipy import stats  # mode\n",
        "\n",
        "from sklearn.preprocessing import StandardScaler\n",
        "from sklearn.model_selection import KFold\n",
        "from sklearn.model_selection import cross_val_score\n",
        "\n",
        "from keras.models import Sequential\n",
        "from keras.layers import Dense,Embedding,Dropout\n",
        "from keras.layers import Conv1D,Conv2D\n",
        "from keras.layers import GRU,LSTM\n",
        "from keras.layers import Flatten,TimeDistributed\n",
        "from keras.layers import MaxPooling1D,MaxPooling2D\n",
        "from keras.losses import BinaryCrossentropy\n",
        "# tf.keras.losses.BinaryCrossentropy\n",
        "\n",
        "import matplotlib.pyplot as plt\n",
        "from matplotlib import colors\n",
        "mycmap = colors.ListedColormap(['red','blue'])  # list color for label 0 then 1\n",
        "np.set_printoptions(precision=2)\n"
      ],
      "execution_count": null,
      "outputs": []
    },
    {
      "cell_type": "code",
      "metadata": {
        "colab": {
          "base_uri": "https://localhost:8080/"
        },
        "id": "CUOG_jEvGtOm",
        "outputId": "d3002a42-d46e-443c-b774-9273452ef125"
      },
      "source": [
        "rbo=Random_Base_Oracle(RNA_LEN,True)\n",
        "pc_all,nc_all = rbo.get_partitioned_sequences(CDS_LEN,10) # just testing\n",
        "pc_all,nc_all = rbo.get_partitioned_sequences(CDS_LEN,PC_SEQUENCES+PC_TESTS)\n",
        "print(\"Use\",len(pc_all),\"PC seqs\")\n",
        "print(\"Use\",len(nc_all),\"NC seqs\")"
      ],
      "execution_count": null,
      "outputs": [
        {
          "output_type": "stream",
          "text": [
            "It took 47 trials to reach 10 per class.\n",
            "It took 112082 trials to reach 33000 per class.\n",
            "Use 33000 PC seqs\n",
            "Use 33000 NC seqs\n"
          ],
          "name": "stdout"
        }
      ]
    },
    {
      "cell_type": "code",
      "metadata": {
        "id": "pIMcOB-9yEV6"
      },
      "source": [
        "# Make the problem super easy!\n",
        "def trivialize_sequences(list_of_seq,option):\n",
        "    num_seq = len(list_of_seq)\n",
        "    for i in range(0,num_seq):\n",
        "        seq = list_of_seq[i]\n",
        "        if option==0:\n",
        "            list_of_seq[i] = 'TTTTTT'+seq[6:]\n",
        "        else:\n",
        "            list_of_seq[i] = 'AAAAAA'+seq[6:]\n",
        "\n",
        "if False:\n",
        "    print(\"Trivialize...\")\n",
        "    trivialize_sequences(pc_all,1)\n",
        "    print(\"Trivial PC:\",pc_all[:5])\n",
        "    print(\"Trivial PC:\",pc_all[-5:])\n",
        "    trivialize_sequences(nc_all,0)\n",
        "    print(\"Trivial NC:\",nc_all[:5])\n",
        "    print(\"Trivial NC:\",nc_all[-5:])"
      ],
      "execution_count": null,
      "outputs": []
    },
    {
      "cell_type": "code",
      "metadata": {
        "colab": {
          "base_uri": "https://localhost:8080/"
        },
        "id": "Q-BmSXi2jUyl",
        "outputId": "e866bedb-4672-4c56-d3f5-da5b45e9f936"
      },
      "source": [
        "# Describe the sequences\n",
        "def describe_sequences(list_of_seq):\n",
        "    oc = ORF_counter()\n",
        "    num_seq = len(list_of_seq)\n",
        "    rna_lens = np.zeros(num_seq)\n",
        "    orf_lens = np.zeros(num_seq)\n",
        "    for i in range(0,num_seq):\n",
        "        rna_len = len(list_of_seq[i])\n",
        "        rna_lens[i] = rna_len\n",
        "        oc.set_sequence(list_of_seq[i])\n",
        "        orf_len = oc.get_max_orf_len()\n",
        "        orf_lens[i] = orf_len\n",
        "    print (\"Average RNA length:\",rna_lens.mean())\n",
        "    print (\"Average ORF length:\",orf_lens.mean())\n",
        "    \n",
        "print(\"Simulated sequences prior to adjustment:\")\n",
        "print(\"PC seqs\")\n",
        "describe_sequences(pc_all)\n",
        "print(\"NC seqs\")\n",
        "describe_sequences(nc_all)"
      ],
      "execution_count": null,
      "outputs": [
        {
          "output_type": "stream",
          "text": [
            "Simulated sequences prior to adjustment:\n",
            "PC seqs\n",
            "Average RNA length: 16.0\n",
            "Average ORF length: 8.662545454545455\n",
            "NC seqs\n",
            "Average RNA length: 16.0\n",
            "Average ORF length: 0.5552727272727273\n"
          ],
          "name": "stdout"
        }
      ]
    },
    {
      "cell_type": "code",
      "metadata": {
        "id": "iP1y7-J3jUys"
      },
      "source": [
        "pc_train=pc_all[:PC_SEQUENCES]\n",
        "nc_train=nc_all[:NC_SEQUENCES]\n",
        "pc_test=pc_all[PC_SEQUENCES:]\n",
        "nc_test=nc_all[NC_SEQUENCES:]"
      ],
      "execution_count": null,
      "outputs": []
    },
    {
      "cell_type": "code",
      "metadata": {
        "colab": {
          "base_uri": "https://localhost:8080/"
        },
        "id": "CIpTrnH6j2US",
        "outputId": "431736a6-921e-4790-f24f-e153be3f1be6"
      },
      "source": [
        "# Use code from our SimTools library.\n",
        "X,y = prepare_inputs_len_x_alphabet(pc_train,nc_train,ALPHABET) # shuffles\n",
        "print(\"Data ready.\")"
      ],
      "execution_count": null,
      "outputs": [
        {
          "output_type": "stream",
          "text": [
            "Data ready.\n"
          ],
          "name": "stdout"
        }
      ]
    },
    {
      "cell_type": "code",
      "metadata": {
        "colab": {
          "base_uri": "https://localhost:8080/"
        },
        "id": "CVhr6K95qil7",
        "outputId": "0caf5b81-2fdf-4562-9bb3-b5fd7cb7c1a9"
      },
      "source": [
        "print(len(X),\"sequences total\")\n",
        "print(len(X[0]),\"bases/sequence\")\n",
        "print(len(X[0][0]),\"dimensions/base\")\n",
        "#print(X[0])\n",
        "print(type(X[0]))\n",
        "print(X[0].shape)"
      ],
      "execution_count": null,
      "outputs": [
        {
          "output_type": "stream",
          "text": [
            "64000 sequences total\n",
            "16 bases/sequence\n",
            "4 dimensions/base\n",
            "<class 'numpy.ndarray'>\n",
            "(16, 4)\n"
          ],
          "name": "stdout"
        }
      ]
    },
    {
      "cell_type": "code",
      "metadata": {
        "colab": {
          "base_uri": "https://localhost:8080/"
        },
        "id": "7NvrVU8ij2UU",
        "outputId": "d20ab78a-dbbb-448f-ee07-41c47de5e915"
      },
      "source": [
        "def make_DNN():\n",
        "    print(\"make_DNN\")\n",
        "    print(\"input shape:\",INPUT_SHAPE)\n",
        "    dnn = Sequential()\n",
        "    dnn.add(Flatten())\n",
        "    dnn.add(Dense(NEURONS,activation=\"sigmoid\",dtype=np.float32,\n",
        "                 input_shape=INPUT_SHAPE ))   \n",
        "    dnn.add(Dense(NEURONS,activation=\"sigmoid\",dtype=np.float32))   \n",
        "    dnn.add(Dense(NEURONS,activation=\"sigmoid\",dtype=np.float32))   \n",
        "    dnn.add(Dense(NEURONS,activation=\"sigmoid\",dtype=np.float32))   \n",
        "    #dnn.add(Dropout(DROP_RATE))\n",
        "    dnn.add(Dense(1,activation=\"sigmoid\",dtype=np.float32))   \n",
        "    dnn.compile(optimizer='adam',\n",
        "                loss=BinaryCrossentropy(from_logits=False),\n",
        "                metrics=['accuracy'])   # add to default metrics=loss\n",
        "    dnn.build(input_shape=INPUT_SHAPE) \n",
        "    #dnn.build() \n",
        "    #ln_rate = tf.keras.optimizers.Adam(learning_rate = LN_RATE)\n",
        "    #bc=tf.keras.losses.BinaryCrossentropy(from_logits=False)\n",
        "    #model.compile(loss=bc, optimizer=ln_rate, metrics=[\"accuracy\"])\n",
        "    return dnn\n",
        "\n",
        "model = make_DNN()\n",
        "print(model.summary())"
      ],
      "execution_count": null,
      "outputs": [
        {
          "output_type": "stream",
          "text": [
            "make_DNN\n",
            "input shape: (None, 16, 4)\n",
            "Model: \"sequential\"\n",
            "_________________________________________________________________\n",
            "Layer (type)                 Output Shape              Param #   \n",
            "=================================================================\n",
            "flatten (Flatten)            (None, 64)                0         \n",
            "_________________________________________________________________\n",
            "dense (Dense)                (None, 16)                1040      \n",
            "_________________________________________________________________\n",
            "dense_1 (Dense)              (None, 16)                272       \n",
            "_________________________________________________________________\n",
            "dense_2 (Dense)              (None, 16)                272       \n",
            "_________________________________________________________________\n",
            "dense_3 (Dense)              (None, 16)                272       \n",
            "_________________________________________________________________\n",
            "dense_4 (Dense)              (None, 1)                 17        \n",
            "=================================================================\n",
            "Total params: 1,873\n",
            "Trainable params: 1,873\n",
            "Non-trainable params: 0\n",
            "_________________________________________________________________\n",
            "None\n"
          ],
          "name": "stdout"
        }
      ]
    },
    {
      "cell_type": "code",
      "metadata": {
        "id": "nlVF0hR3j2UW"
      },
      "source": [
        "from keras.callbacks import ModelCheckpoint\n",
        "def do_cross_validation(X,y):\n",
        "    cv_scores = []\n",
        "    fold=0\n",
        "    mycallbacks = [ModelCheckpoint(\n",
        "        filepath=MODELPATH, save_best_only=True, \n",
        "        monitor='val_accuracy', mode='max')]   \n",
        "    splitter = KFold(n_splits=SPLITS)  # this does not shuffle\n",
        "    for train_index,valid_index in splitter.split(X):\n",
        "        if fold < FOLDS:\n",
        "            fold += 1\n",
        "            X_train=X[train_index] # inputs for training\n",
        "            y_train=y[train_index] # labels for training\n",
        "            X_valid=X[valid_index] # inputs for validation\n",
        "            y_valid=y[valid_index] # labels for validation\n",
        "            print(\"MODEL\")\n",
        "            # Call constructor on each CV. Else, continually improves the same model.\n",
        "            model = model = make_DNN()\n",
        "            print(\"FIT\")  # model.fit() implements learning\n",
        "            start_time=time.time()\n",
        "            history=model.fit(X_train, y_train, \n",
        "                    epochs=EPOCHS, \n",
        "                    verbose=1,  # ascii art while learning\n",
        "                    callbacks=mycallbacks,   # called at end of each epoch\n",
        "                    validation_data=(X_valid,y_valid))\n",
        "            end_time=time.time()\n",
        "            elapsed_time=(end_time-start_time)                        \n",
        "            print(\"Fold %d, %d epochs, %d sec\"%(fold,EPOCHS,elapsed_time))\n",
        "            # print(history.history.keys())  # all these keys will be shown in figure\n",
        "            pd.DataFrame(history.history).plot(figsize=(8,5))\n",
        "            plt.grid(True)\n",
        "            plt.gca().set_ylim(0,1) # any losses > 1 will be off the scale\n",
        "            plt.show()\n"
      ],
      "execution_count": null,
      "outputs": []
    },
    {
      "cell_type": "code",
      "metadata": {
        "colab": {
          "base_uri": "https://localhost:8080/",
          "height": 1000
        },
        "id": "9Ggt4EsSj2UY",
        "outputId": "c1dfc1ac-4547-49d2-a575-019fbd2bde93"
      },
      "source": [
        "do_cross_validation(X,y)"
      ],
      "execution_count": 13,
      "outputs": [
        {
          "output_type": "stream",
          "text": [
            "MODEL\n",
            "make_DNN\n",
            "input shape: (None, 16, 4)\n",
            "FIT\n",
            "Epoch 1/50\n",
            "1334/1334 [==============================] - 22s 5ms/step - loss: 0.5612 - accuracy: 0.7061 - val_loss: 0.3606 - val_accuracy: 0.8586\n",
            "INFO:tensorflow:Assets written to: BestModel/assets\n",
            "Epoch 2/50\n",
            "1334/1334 [==============================] - 6s 4ms/step - loss: 0.3550 - accuracy: 0.8602 - val_loss: 0.3197 - val_accuracy: 0.8801\n",
            "INFO:tensorflow:Assets written to: BestModel/assets\n",
            "Epoch 3/50\n",
            "1334/1334 [==============================] - 7s 5ms/step - loss: 0.2966 - accuracy: 0.8942 - val_loss: 0.2245 - val_accuracy: 0.9282\n",
            "INFO:tensorflow:Assets written to: BestModel/assets\n",
            "Epoch 4/50\n",
            "1334/1334 [==============================] - 6s 4ms/step - loss: 0.2155 - accuracy: 0.9280 - val_loss: 0.1568 - val_accuracy: 0.9411\n",
            "INFO:tensorflow:Assets written to: BestModel/assets\n",
            "Epoch 5/50\n",
            "1334/1334 [==============================] - 6s 4ms/step - loss: 0.1433 - accuracy: 0.9476 - val_loss: 0.1190 - val_accuracy: 0.9572\n",
            "INFO:tensorflow:Assets written to: BestModel/assets\n",
            "Epoch 6/50\n",
            "1334/1334 [==============================] - 7s 5ms/step - loss: 0.1177 - accuracy: 0.9579 - val_loss: 0.1048 - val_accuracy: 0.9615\n",
            "INFO:tensorflow:Assets written to: BestModel/assets\n",
            "Epoch 7/50\n",
            "1334/1334 [==============================] - 6s 4ms/step - loss: 0.1028 - accuracy: 0.9620 - val_loss: 0.0941 - val_accuracy: 0.9658\n",
            "INFO:tensorflow:Assets written to: BestModel/assets\n",
            "Epoch 8/50\n",
            "1334/1334 [==============================] - 6s 4ms/step - loss: 0.0876 - accuracy: 0.9683 - val_loss: 0.0855 - val_accuracy: 0.9685\n",
            "INFO:tensorflow:Assets written to: BestModel/assets\n",
            "Epoch 9/50\n",
            "1334/1334 [==============================] - 6s 4ms/step - loss: 0.0779 - accuracy: 0.9712 - val_loss: 0.0782 - val_accuracy: 0.9702\n",
            "INFO:tensorflow:Assets written to: BestModel/assets\n",
            "Epoch 10/50\n",
            "1334/1334 [==============================] - 6s 4ms/step - loss: 0.0699 - accuracy: 0.9745 - val_loss: 0.0698 - val_accuracy: 0.9741\n",
            "INFO:tensorflow:Assets written to: BestModel/assets\n",
            "Epoch 11/50\n",
            "1334/1334 [==============================] - 6s 4ms/step - loss: 0.0652 - accuracy: 0.9759 - val_loss: 0.0674 - val_accuracy: 0.9749\n",
            "INFO:tensorflow:Assets written to: BestModel/assets\n",
            "Epoch 12/50\n",
            "1334/1334 [==============================] - 6s 4ms/step - loss: 0.0599 - accuracy: 0.9779 - val_loss: 0.0606 - val_accuracy: 0.9775\n",
            "INFO:tensorflow:Assets written to: BestModel/assets\n",
            "Epoch 13/50\n",
            "1334/1334 [==============================] - 6s 4ms/step - loss: 0.0531 - accuracy: 0.9810 - val_loss: 0.0729 - val_accuracy: 0.9727\n",
            "Epoch 14/50\n",
            "1334/1334 [==============================] - 7s 5ms/step - loss: 0.0483 - accuracy: 0.9822 - val_loss: 0.0556 - val_accuracy: 0.9796\n",
            "INFO:tensorflow:Assets written to: BestModel/assets\n",
            "Epoch 15/50\n",
            "1334/1334 [==============================] - 6s 4ms/step - loss: 0.0465 - accuracy: 0.9833 - val_loss: 0.0574 - val_accuracy: 0.9789\n",
            "Epoch 16/50\n",
            "1334/1334 [==============================] - 6s 4ms/step - loss: 0.0448 - accuracy: 0.9836 - val_loss: 0.0504 - val_accuracy: 0.9821\n",
            "INFO:tensorflow:Assets written to: BestModel/assets\n",
            "Epoch 17/50\n",
            "1334/1334 [==============================] - 6s 4ms/step - loss: 0.0401 - accuracy: 0.9861 - val_loss: 0.0498 - val_accuracy: 0.9813\n",
            "Epoch 18/50\n",
            "1334/1334 [==============================] - 6s 4ms/step - loss: 0.0379 - accuracy: 0.9859 - val_loss: 0.0507 - val_accuracy: 0.9810\n",
            "Epoch 19/50\n",
            "1334/1334 [==============================] - 7s 5ms/step - loss: 0.0370 - accuracy: 0.9868 - val_loss: 0.0622 - val_accuracy: 0.9760\n",
            "Epoch 20/50\n",
            "1334/1334 [==============================] - 7s 5ms/step - loss: 0.0349 - accuracy: 0.9870 - val_loss: 0.0510 - val_accuracy: 0.9817\n",
            "Epoch 21/50\n",
            "1334/1334 [==============================] - 7s 5ms/step - loss: 0.0338 - accuracy: 0.9877 - val_loss: 0.0466 - val_accuracy: 0.9839\n",
            "INFO:tensorflow:Assets written to: BestModel/assets\n",
            "Epoch 22/50\n",
            "1334/1334 [==============================] - 7s 5ms/step - loss: 0.0322 - accuracy: 0.9886 - val_loss: 0.0633 - val_accuracy: 0.9765\n",
            "Epoch 23/50\n",
            "1334/1334 [==============================] - 7s 5ms/step - loss: 0.0341 - accuracy: 0.9869 - val_loss: 0.0444 - val_accuracy: 0.9841\n",
            "INFO:tensorflow:Assets written to: BestModel/assets\n",
            "Epoch 24/50\n",
            "1334/1334 [==============================] - 7s 5ms/step - loss: 0.0330 - accuracy: 0.9875 - val_loss: 0.0424 - val_accuracy: 0.9847\n",
            "INFO:tensorflow:Assets written to: BestModel/assets\n",
            "Epoch 25/50\n",
            "1334/1334 [==============================] - 7s 5ms/step - loss: 0.0316 - accuracy: 0.9887 - val_loss: 0.0423 - val_accuracy: 0.9846\n",
            "Epoch 26/50\n",
            "1334/1334 [==============================] - 6s 4ms/step - loss: 0.0300 - accuracy: 0.9897 - val_loss: 0.0412 - val_accuracy: 0.9848\n",
            "INFO:tensorflow:Assets written to: BestModel/assets\n",
            "Epoch 27/50\n",
            "1334/1334 [==============================] - 6s 4ms/step - loss: 0.0294 - accuracy: 0.9895 - val_loss: 0.0490 - val_accuracy: 0.9829\n",
            "Epoch 28/50\n",
            "1334/1334 [==============================] - 6s 4ms/step - loss: 0.0269 - accuracy: 0.9906 - val_loss: 0.0394 - val_accuracy: 0.9859\n",
            "INFO:tensorflow:Assets written to: BestModel/assets\n",
            "Epoch 29/50\n",
            "1334/1334 [==============================] - 6s 4ms/step - loss: 0.0282 - accuracy: 0.9900 - val_loss: 0.0433 - val_accuracy: 0.9851\n",
            "Epoch 30/50\n",
            "1334/1334 [==============================] - 7s 5ms/step - loss: 0.0278 - accuracy: 0.9893 - val_loss: 0.0393 - val_accuracy: 0.9860\n",
            "INFO:tensorflow:Assets written to: BestModel/assets\n",
            "Epoch 31/50\n",
            "1334/1334 [==============================] - 7s 5ms/step - loss: 0.0258 - accuracy: 0.9909 - val_loss: 0.0409 - val_accuracy: 0.9856\n",
            "Epoch 32/50\n",
            "1334/1334 [==============================] - 6s 4ms/step - loss: 0.0270 - accuracy: 0.9907 - val_loss: 0.0442 - val_accuracy: 0.9844\n",
            "Epoch 33/50\n",
            "1334/1334 [==============================] - 7s 5ms/step - loss: 0.0264 - accuracy: 0.9905 - val_loss: 0.0403 - val_accuracy: 0.9856\n",
            "Epoch 34/50\n",
            "1334/1334 [==============================] - 7s 5ms/step - loss: 0.0260 - accuracy: 0.9911 - val_loss: 0.0405 - val_accuracy: 0.9850\n",
            "Epoch 35/50\n",
            "1334/1334 [==============================] - 6s 4ms/step - loss: 0.0226 - accuracy: 0.9921 - val_loss: 0.0440 - val_accuracy: 0.9840\n",
            "Epoch 36/50\n",
            "1334/1334 [==============================] - 7s 5ms/step - loss: 0.0247 - accuracy: 0.9909 - val_loss: 0.0393 - val_accuracy: 0.9862\n",
            "INFO:tensorflow:Assets written to: BestModel/assets\n",
            "Epoch 37/50\n",
            "1334/1334 [==============================] - 6s 4ms/step - loss: 0.0242 - accuracy: 0.9920 - val_loss: 0.0373 - val_accuracy: 0.9860\n",
            "Epoch 38/50\n",
            "1334/1334 [==============================] - 6s 4ms/step - loss: 0.0226 - accuracy: 0.9923 - val_loss: 0.0387 - val_accuracy: 0.9864\n",
            "INFO:tensorflow:Assets written to: BestModel/assets\n",
            "Epoch 39/50\n",
            "1334/1334 [==============================] - 6s 4ms/step - loss: 0.0246 - accuracy: 0.9909 - val_loss: 0.0647 - val_accuracy: 0.9768\n",
            "Epoch 40/50\n",
            "1334/1334 [==============================] - 6s 4ms/step - loss: 0.0212 - accuracy: 0.9924 - val_loss: 0.0378 - val_accuracy: 0.9865\n",
            "INFO:tensorflow:Assets written to: BestModel/assets\n",
            "Epoch 41/50\n",
            "1334/1334 [==============================] - 7s 5ms/step - loss: 0.0208 - accuracy: 0.9926 - val_loss: 0.0378 - val_accuracy: 0.9865\n",
            "Epoch 42/50\n",
            "1334/1334 [==============================] - 7s 5ms/step - loss: 0.0203 - accuracy: 0.9933 - val_loss: 0.0361 - val_accuracy: 0.9874\n",
            "INFO:tensorflow:Assets written to: BestModel/assets\n",
            "Epoch 43/50\n",
            "1334/1334 [==============================] - 6s 4ms/step - loss: 0.0208 - accuracy: 0.9928 - val_loss: 0.0353 - val_accuracy: 0.9871\n",
            "Epoch 44/50\n",
            "1334/1334 [==============================] - 6s 4ms/step - loss: 0.0206 - accuracy: 0.9927 - val_loss: 0.0388 - val_accuracy: 0.9860\n",
            "Epoch 45/50\n",
            "1334/1334 [==============================] - 7s 5ms/step - loss: 0.0208 - accuracy: 0.9932 - val_loss: 0.0371 - val_accuracy: 0.9869\n",
            "Epoch 46/50\n",
            "1334/1334 [==============================] - 6s 4ms/step - loss: 0.0195 - accuracy: 0.9933 - val_loss: 0.0364 - val_accuracy: 0.9874\n",
            "INFO:tensorflow:Assets written to: BestModel/assets\n",
            "Epoch 47/50\n",
            "1334/1334 [==============================] - 7s 5ms/step - loss: 0.0188 - accuracy: 0.9939 - val_loss: 0.0359 - val_accuracy: 0.9873\n",
            "Epoch 48/50\n",
            "1334/1334 [==============================] - 6s 4ms/step - loss: 0.0174 - accuracy: 0.9937 - val_loss: 0.0365 - val_accuracy: 0.9873\n",
            "Epoch 49/50\n",
            "1334/1334 [==============================] - 6s 4ms/step - loss: 0.0192 - accuracy: 0.9935 - val_loss: 0.0366 - val_accuracy: 0.9874\n",
            "Epoch 50/50\n",
            "1334/1334 [==============================] - 7s 5ms/step - loss: 0.0187 - accuracy: 0.9935 - val_loss: 0.0334 - val_accuracy: 0.9880\n",
            "INFO:tensorflow:Assets written to: BestModel/assets\n",
            "Fold 1, 50 epochs, 396 sec\n"
          ],
          "name": "stdout"
        },
        {
          "output_type": "display_data",
          "data": {
            "image/png": "[encoded data removed]",
            "text/plain": [
              "<Figure size 576x360 with 1 Axes>"
            ]
          },
          "metadata": {
            "tags": []
          }
        },
        {
          "output_type": "stream",
          "text": [
            "MODEL\n",
            "make_DNN\n",
            "input shape: (None, 16, 4)\n",
            "FIT\n",
            "Epoch 1/50\n",
            "1334/1334 [==============================] - 8s 5ms/step - loss: 0.5621 - accuracy: 0.6999 - val_loss: 0.3690 - val_accuracy: 0.8519\n",
            "Epoch 2/50\n",
            "1334/1334 [==============================] - 6s 4ms/step - loss: 0.3523 - accuracy: 0.8645 - val_loss: 0.3349 - val_accuracy: 0.8712\n",
            "Epoch 3/50\n",
            "1334/1334 [==============================] - 6s 4ms/step - loss: 0.3073 - accuracy: 0.8867 - val_loss: 0.2418 - val_accuracy: 0.9236\n",
            "Epoch 4/50\n",
            "1334/1334 [==============================] - 7s 5ms/step - loss: 0.2225 - accuracy: 0.9304 - val_loss: 0.1897 - val_accuracy: 0.9350\n",
            "Epoch 5/50\n",
            "1334/1334 [==============================] - 6s 4ms/step - loss: 0.1736 - accuracy: 0.9384 - val_loss: 0.1468 - val_accuracy: 0.9469\n",
            "Epoch 6/50\n",
            "1334/1334 [==============================] - 7s 5ms/step - loss: 0.1318 - accuracy: 0.9518 - val_loss: 0.1228 - val_accuracy: 0.9571\n",
            "Epoch 7/50\n",
            "1334/1334 [==============================] - 7s 5ms/step - loss: 0.1143 - accuracy: 0.9579 - val_loss: 0.1115 - val_accuracy: 0.9597\n",
            "Epoch 8/50\n",
            "1334/1334 [==============================] - 6s 4ms/step - loss: 0.1036 - accuracy: 0.9625 - val_loss: 0.1040 - val_accuracy: 0.9626\n",
            "Epoch 9/50\n",
            "1334/1334 [==============================] - 6s 5ms/step - loss: 0.0926 - accuracy: 0.9667 - val_loss: 0.0991 - val_accuracy: 0.9659\n",
            "Epoch 10/50\n",
            "1334/1334 [==============================] - 6s 4ms/step - loss: 0.0874 - accuracy: 0.9696 - val_loss: 0.0969 - val_accuracy: 0.9671\n",
            "Epoch 11/50\n",
            "1334/1334 [==============================] - 7s 5ms/step - loss: 0.0840 - accuracy: 0.9706 - val_loss: 0.0906 - val_accuracy: 0.9675\n",
            "Epoch 12/50\n",
            "1334/1334 [==============================] - 6s 5ms/step - loss: 0.0783 - accuracy: 0.9724 - val_loss: 0.0869 - val_accuracy: 0.9696\n",
            "Epoch 13/50\n",
            "1334/1334 [==============================] - 7s 5ms/step - loss: 0.0722 - accuracy: 0.9747 - val_loss: 0.0831 - val_accuracy: 0.9706\n",
            "Epoch 14/50\n",
            "1334/1334 [==============================] - 7s 5ms/step - loss: 0.0696 - accuracy: 0.9758 - val_loss: 0.0963 - val_accuracy: 0.9661\n",
            "Epoch 15/50\n",
            "1334/1334 [==============================] - 6s 4ms/step - loss: 0.0665 - accuracy: 0.9774 - val_loss: 0.0762 - val_accuracy: 0.9723\n",
            "Epoch 16/50\n",
            "1334/1334 [==============================] - 7s 5ms/step - loss: 0.0625 - accuracy: 0.9790 - val_loss: 0.0737 - val_accuracy: 0.9739\n",
            "Epoch 17/50\n",
            "1334/1334 [==============================] - 6s 4ms/step - loss: 0.0582 - accuracy: 0.9795 - val_loss: 0.0667 - val_accuracy: 0.9751\n",
            "Epoch 18/50\n",
            "1334/1334 [==============================] - 6s 4ms/step - loss: 0.0565 - accuracy: 0.9807 - val_loss: 0.0726 - val_accuracy: 0.9725\n",
            "Epoch 19/50\n",
            "1334/1334 [==============================] - 7s 5ms/step - loss: 0.0510 - accuracy: 0.9823 - val_loss: 0.0607 - val_accuracy: 0.9774\n",
            "Epoch 20/50\n",
            "1334/1334 [==============================] - 6s 4ms/step - loss: 0.0492 - accuracy: 0.9823 - val_loss: 0.0593 - val_accuracy: 0.9787\n",
            "Epoch 21/50\n",
            "1334/1334 [==============================] - 7s 5ms/step - loss: 0.0443 - accuracy: 0.9842 - val_loss: 0.0535 - val_accuracy: 0.9797\n",
            "Epoch 22/50\n",
            "1334/1334 [==============================] - 6s 4ms/step - loss: 0.0444 - accuracy: 0.9831 - val_loss: 0.0573 - val_accuracy: 0.9784\n",
            "Epoch 23/50\n",
            "1334/1334 [==============================] - 6s 4ms/step - loss: 0.0394 - accuracy: 0.9863 - val_loss: 0.0525 - val_accuracy: 0.9805\n",
            "Epoch 24/50\n",
            "1334/1334 [==============================] - 6s 4ms/step - loss: 0.0368 - accuracy: 0.9871 - val_loss: 0.0490 - val_accuracy: 0.9815\n",
            "Epoch 25/50\n",
            "1334/1334 [==============================] - 6s 4ms/step - loss: 0.0367 - accuracy: 0.9871 - val_loss: 0.0482 - val_accuracy: 0.9820\n",
            "Epoch 26/50\n",
            "1334/1334 [==============================] - 7s 5ms/step - loss: 0.0331 - accuracy: 0.9879 - val_loss: 0.0467 - val_accuracy: 0.9830\n",
            "Epoch 27/50\n",
            "1334/1334 [==============================] - 7s 5ms/step - loss: 0.0335 - accuracy: 0.9868 - val_loss: 0.0469 - val_accuracy: 0.9833\n",
            "Epoch 28/50\n",
            "1334/1334 [==============================] - 7s 5ms/step - loss: 0.0292 - accuracy: 0.9899 - val_loss: 0.0468 - val_accuracy: 0.9832\n",
            "Epoch 29/50\n",
            "1334/1334 [==============================] - 6s 4ms/step - loss: 0.0322 - accuracy: 0.9881 - val_loss: 0.0428 - val_accuracy: 0.9845\n",
            "Epoch 30/50\n",
            "1334/1334 [==============================] - 6s 4ms/step - loss: 0.0261 - accuracy: 0.9903 - val_loss: 0.0407 - val_accuracy: 0.9857\n",
            "Epoch 31/50\n",
            "1334/1334 [==============================] - 7s 5ms/step - loss: 0.0284 - accuracy: 0.9901 - val_loss: 0.0683 - val_accuracy: 0.9751\n",
            "Epoch 32/50\n",
            "1334/1334 [==============================] - 6s 4ms/step - loss: 0.0285 - accuracy: 0.9899 - val_loss: 0.0397 - val_accuracy: 0.9858\n",
            "Epoch 33/50\n",
            "1334/1334 [==============================] - 6s 4ms/step - loss: 0.0268 - accuracy: 0.9900 - val_loss: 0.0389 - val_accuracy: 0.9860\n",
            "Epoch 34/50\n",
            "1334/1334 [==============================] - 7s 5ms/step - loss: 0.0250 - accuracy: 0.9912 - val_loss: 0.0463 - val_accuracy: 0.9844\n",
            "Epoch 35/50\n",
            "1334/1334 [==============================] - 6s 4ms/step - loss: 0.0257 - accuracy: 0.9911 - val_loss: 0.0403 - val_accuracy: 0.9850\n",
            "Epoch 36/50\n",
            "1334/1334 [==============================] - 6s 4ms/step - loss: 0.0219 - accuracy: 0.9929 - val_loss: 0.0427 - val_accuracy: 0.9845\n",
            "Epoch 37/50\n",
            "1334/1334 [==============================] - 7s 5ms/step - loss: 0.0224 - accuracy: 0.9920 - val_loss: 0.0428 - val_accuracy: 0.9852\n",
            "Epoch 38/50\n",
            "1334/1334 [==============================] - 7s 5ms/step - loss: 0.0224 - accuracy: 0.9923 - val_loss: 0.0348 - val_accuracy: 0.9878\n",
            "Epoch 39/50\n",
            "1334/1334 [==============================] - 6s 4ms/step - loss: 0.0207 - accuracy: 0.9926 - val_loss: 0.0357 - val_accuracy: 0.9869\n",
            "Epoch 40/50\n",
            "1334/1334 [==============================] - 6s 4ms/step - loss: 0.0180 - accuracy: 0.9935 - val_loss: 0.0378 - val_accuracy: 0.9869\n",
            "Epoch 41/50\n",
            "1334/1334 [==============================] - 7s 5ms/step - loss: 0.0200 - accuracy: 0.9933 - val_loss: 0.0391 - val_accuracy: 0.9861\n",
            "Epoch 42/50\n",
            "1334/1334 [==============================] - 7s 5ms/step - loss: 0.0194 - accuracy: 0.9930 - val_loss: 0.0351 - val_accuracy: 0.9880\n",
            "Epoch 43/50\n",
            "1334/1334 [==============================] - 7s 5ms/step - loss: 0.0180 - accuracy: 0.9936 - val_loss: 0.0319 - val_accuracy: 0.9892\n",
            "INFO:tensorflow:Assets written to: BestModel/assets\n",
            "Epoch 44/50\n",
            "1334/1334 [==============================] - 6s 4ms/step - loss: 0.0186 - accuracy: 0.9937 - val_loss: 0.0335 - val_accuracy: 0.9891\n",
            "Epoch 45/50\n",
            "1334/1334 [==============================] - 6s 4ms/step - loss: 0.0199 - accuracy: 0.9932 - val_loss: 0.0333 - val_accuracy: 0.9886\n",
            "Epoch 46/50\n",
            "1334/1334 [==============================] - 6s 4ms/step - loss: 0.0178 - accuracy: 0.9936 - val_loss: 0.0317 - val_accuracy: 0.9890\n",
            "Epoch 47/50\n",
            "1334/1334 [==============================] - 7s 5ms/step - loss: 0.0141 - accuracy: 0.9954 - val_loss: 0.0355 - val_accuracy: 0.9881\n",
            "Epoch 48/50\n",
            "1334/1334 [==============================] - 6s 4ms/step - loss: 0.0150 - accuracy: 0.9946 - val_loss: 0.0304 - val_accuracy: 0.9894\n",
            "INFO:tensorflow:Assets written to: BestModel/assets\n",
            "Epoch 49/50\n",
            "1334/1334 [==============================] - 7s 5ms/step - loss: 0.0160 - accuracy: 0.9937 - val_loss: 0.0286 - val_accuracy: 0.9904\n",
            "INFO:tensorflow:Assets written to: BestModel/assets\n",
            "Epoch 50/50\n",
            "1334/1334 [==============================] - 7s 5ms/step - loss: 0.0147 - accuracy: 0.9953 - val_loss: 0.0297 - val_accuracy: 0.9899\n",
            "Fold 2, 50 epochs, 382 sec\n"
          ],
          "name": "stdout"
        },
        {
          "output_type": "display_data",
          "data": {
            "image/png": "[encoded data removed]",
            "text/plain": [
              "<Figure size 576x360 with 1 Axes>"
            ]
          },
          "metadata": {
            "tags": []
          }
        },
        {
          "output_type": "stream",
          "text": [
            "MODEL\n",
            "make_DNN\n",
            "input shape: (None, 16, 4)\n",
            "FIT\n",
            "Epoch 1/50\n",
            "1334/1334 [==============================] - 8s 6ms/step - loss: 0.5995 - accuracy: 0.6787 - val_loss: 0.3443 - val_accuracy: 0.8685\n",
            "Epoch 2/50\n",
            "1334/1334 [==============================] - 7s 5ms/step - loss: 0.3139 - accuracy: 0.8878 - val_loss: 0.2352 - val_accuracy: 0.9300\n",
            "Epoch 3/50\n",
            "1334/1334 [==============================] - 6s 4ms/step - loss: 0.2272 - accuracy: 0.9310 - val_loss: 0.1958 - val_accuracy: 0.9360\n",
            "Epoch 4/50\n",
            "1334/1334 [==============================] - 7s 5ms/step - loss: 0.1869 - accuracy: 0.9367 - val_loss: 0.1589 - val_accuracy: 0.9455\n",
            "Epoch 5/50\n",
            "1334/1334 [==============================] - 6s 4ms/step - loss: 0.1513 - accuracy: 0.9469 - val_loss: 0.1198 - val_accuracy: 0.9585\n",
            "Epoch 6/50\n",
            "1334/1334 [==============================] - 6s 4ms/step - loss: 0.1140 - accuracy: 0.9609 - val_loss: 0.0947 - val_accuracy: 0.9678\n",
            "Epoch 7/50\n",
            "1334/1334 [==============================] - 7s 5ms/step - loss: 0.0921 - accuracy: 0.9692 - val_loss: 0.0830 - val_accuracy: 0.9726\n",
            "Epoch 8/50\n",
            "1334/1334 [==============================] - 6s 4ms/step - loss: 0.0829 - accuracy: 0.9727 - val_loss: 0.0775 - val_accuracy: 0.9743\n",
            "Epoch 9/50\n",
            "1334/1334 [==============================] - 7s 5ms/step - loss: 0.0793 - accuracy: 0.9729 - val_loss: 0.0715 - val_accuracy: 0.9758\n",
            "Epoch 10/50\n",
            "1334/1334 [==============================] - 7s 5ms/step - loss: 0.0704 - accuracy: 0.9768 - val_loss: 0.0661 - val_accuracy: 0.9769\n",
            "Epoch 11/50\n",
            "1334/1334 [==============================] - 6s 4ms/step - loss: 0.0656 - accuracy: 0.9774 - val_loss: 0.0611 - val_accuracy: 0.9785\n",
            "Epoch 12/50\n",
            "1334/1334 [==============================] - 6s 4ms/step - loss: 0.0600 - accuracy: 0.9786 - val_loss: 0.0583 - val_accuracy: 0.9803\n",
            "Epoch 13/50\n",
            "1334/1334 [==============================] - 6s 4ms/step - loss: 0.0573 - accuracy: 0.9794 - val_loss: 0.0566 - val_accuracy: 0.9795\n",
            "Epoch 14/50\n",
            "1334/1334 [==============================] - 6s 4ms/step - loss: 0.0492 - accuracy: 0.9822 - val_loss: 0.0506 - val_accuracy: 0.9818\n",
            "Epoch 15/50\n",
            "1334/1334 [==============================] - 6s 5ms/step - loss: 0.0458 - accuracy: 0.9833 - val_loss: 0.0452 - val_accuracy: 0.9838\n",
            "Epoch 16/50\n",
            "1334/1334 [==============================] - 6s 5ms/step - loss: 0.0427 - accuracy: 0.9848 - val_loss: 0.0418 - val_accuracy: 0.9845\n",
            "Epoch 17/50\n",
            "1334/1334 [==============================] - 6s 5ms/step - loss: 0.0416 - accuracy: 0.9841 - val_loss: 0.0407 - val_accuracy: 0.9851\n",
            "Epoch 18/50\n",
            "1334/1334 [==============================] - 7s 5ms/step - loss: 0.0369 - accuracy: 0.9864 - val_loss: 0.0370 - val_accuracy: 0.9866\n",
            "Epoch 19/50\n",
            "1334/1334 [==============================] - 6s 4ms/step - loss: 0.0339 - accuracy: 0.9877 - val_loss: 0.0358 - val_accuracy: 0.9875\n",
            "Epoch 20/50\n",
            "1334/1334 [==============================] - 7s 6ms/step - loss: 0.0324 - accuracy: 0.9877 - val_loss: 0.0333 - val_accuracy: 0.9883\n",
            "Epoch 21/50\n",
            "1334/1334 [==============================] - 7s 5ms/step - loss: 0.0302 - accuracy: 0.9887 - val_loss: 0.0340 - val_accuracy: 0.9877\n",
            "Epoch 22/50\n",
            "1334/1334 [==============================] - 7s 5ms/step - loss: 0.0280 - accuracy: 0.9901 - val_loss: 0.0361 - val_accuracy: 0.9872\n",
            "Epoch 23/50\n",
            "1334/1334 [==============================] - 7s 5ms/step - loss: 0.0270 - accuracy: 0.9905 - val_loss: 0.0333 - val_accuracy: 0.9877\n",
            "Epoch 24/50\n",
            "1334/1334 [==============================] - 7s 5ms/step - loss: 0.0252 - accuracy: 0.9905 - val_loss: 0.0304 - val_accuracy: 0.9896\n",
            "Epoch 25/50\n",
            "1334/1334 [==============================] - 7s 5ms/step - loss: 0.0239 - accuracy: 0.9916 - val_loss: 0.0292 - val_accuracy: 0.9897\n",
            "Epoch 26/50\n",
            "1334/1334 [==============================] - 7s 5ms/step - loss: 0.0208 - accuracy: 0.9927 - val_loss: 0.0279 - val_accuracy: 0.9901\n",
            "Epoch 27/50\n",
            "1334/1334 [==============================] - 6s 4ms/step - loss: 0.0206 - accuracy: 0.9928 - val_loss: 0.0245 - val_accuracy: 0.9917\n",
            "INFO:tensorflow:Assets written to: BestModel/assets\n",
            "Epoch 28/50\n",
            "1334/1334 [==============================] - 7s 5ms/step - loss: 0.0181 - accuracy: 0.9942 - val_loss: 0.0249 - val_accuracy: 0.9917\n",
            "Epoch 29/50\n",
            "1334/1334 [==============================] - 7s 5ms/step - loss: 0.0190 - accuracy: 0.9942 - val_loss: 0.0238 - val_accuracy: 0.9925\n",
            "INFO:tensorflow:Assets written to: BestModel/assets\n",
            "Epoch 30/50\n",
            "1334/1334 [==============================] - 6s 5ms/step - loss: 0.0162 - accuracy: 0.9950 - val_loss: 0.0231 - val_accuracy: 0.9928\n",
            "INFO:tensorflow:Assets written to: BestModel/assets\n",
            "Epoch 31/50\n",
            "1334/1334 [==============================] - 6s 5ms/step - loss: 0.0177 - accuracy: 0.9942 - val_loss: 0.0235 - val_accuracy: 0.9923\n",
            "Epoch 32/50\n",
            "1334/1334 [==============================] - 7s 5ms/step - loss: 0.0145 - accuracy: 0.9955 - val_loss: 0.0215 - val_accuracy: 0.9933\n",
            "INFO:tensorflow:Assets written to: BestModel/assets\n",
            "Epoch 33/50\n",
            "1334/1334 [==============================] - 6s 5ms/step - loss: 0.0150 - accuracy: 0.9957 - val_loss: 0.0223 - val_accuracy: 0.9928\n",
            "Epoch 34/50\n",
            "1334/1334 [==============================] - 6s 4ms/step - loss: 0.0137 - accuracy: 0.9959 - val_loss: 0.0211 - val_accuracy: 0.9931\n",
            "Epoch 35/50\n",
            "1334/1334 [==============================] - 6s 5ms/step - loss: 0.0153 - accuracy: 0.9955 - val_loss: 0.0212 - val_accuracy: 0.9934\n",
            "INFO:tensorflow:Assets written to: BestModel/assets\n",
            "Epoch 36/50\n",
            "1334/1334 [==============================] - 7s 5ms/step - loss: 0.0175 - accuracy: 0.9946 - val_loss: 0.0205 - val_accuracy: 0.9937\n",
            "INFO:tensorflow:Assets written to: BestModel/assets\n",
            "Epoch 37/50\n",
            "1334/1334 [==============================] - 6s 5ms/step - loss: 0.0148 - accuracy: 0.9959 - val_loss: 0.0197 - val_accuracy: 0.9934\n",
            "Epoch 38/50\n",
            "1334/1334 [==============================] - 6s 5ms/step - loss: 0.0121 - accuracy: 0.9964 - val_loss: 0.0236 - val_accuracy: 0.9925\n",
            "Epoch 39/50\n",
            "1334/1334 [==============================] - 6s 4ms/step - loss: 0.0135 - accuracy: 0.9959 - val_loss: 0.0199 - val_accuracy: 0.9939\n",
            "INFO:tensorflow:Assets written to: BestModel/assets\n",
            "Epoch 40/50\n",
            "1334/1334 [==============================] - 7s 5ms/step - loss: 0.0108 - accuracy: 0.9970 - val_loss: 0.0192 - val_accuracy: 0.9940\n",
            "INFO:tensorflow:Assets written to: BestModel/assets\n",
            "Epoch 41/50\n",
            "1334/1334 [==============================] - 7s 5ms/step - loss: 0.0140 - accuracy: 0.9963 - val_loss: 0.0211 - val_accuracy: 0.9936\n",
            "Epoch 42/50\n",
            "1334/1334 [==============================] - 6s 4ms/step - loss: 0.0117 - accuracy: 0.9970 - val_loss: 0.0270 - val_accuracy: 0.9914\n",
            "Epoch 43/50\n",
            "1334/1334 [==============================] - 6s 5ms/step - loss: 0.0113 - accuracy: 0.9965 - val_loss: 0.0181 - val_accuracy: 0.9947\n",
            "INFO:tensorflow:Assets written to: BestModel/assets\n",
            "Epoch 44/50\n",
            "1334/1334 [==============================] - 6s 5ms/step - loss: 0.0117 - accuracy: 0.9965 - val_loss: 0.0184 - val_accuracy: 0.9947\n",
            "Epoch 45/50\n",
            "1334/1334 [==============================] - 6s 5ms/step - loss: 0.0102 - accuracy: 0.9969 - val_loss: 0.0191 - val_accuracy: 0.9940\n",
            "Epoch 46/50\n",
            "1334/1334 [==============================] - 6s 5ms/step - loss: 0.0104 - accuracy: 0.9974 - val_loss: 0.0181 - val_accuracy: 0.9948\n",
            "INFO:tensorflow:Assets written to: BestModel/assets\n",
            "Epoch 47/50\n",
            "1334/1334 [==============================] - 7s 6ms/step - loss: 0.0113 - accuracy: 0.9973 - val_loss: 0.0173 - val_accuracy: 0.9950\n",
            "INFO:tensorflow:Assets written to: BestModel/assets\n",
            "Epoch 48/50\n",
            "1334/1334 [==============================] - 7s 6ms/step - loss: 0.0109 - accuracy: 0.9967 - val_loss: 0.0186 - val_accuracy: 0.9943\n",
            "Epoch 49/50\n",
            "1334/1334 [==============================] - 6s 5ms/step - loss: 0.0105 - accuracy: 0.9972 - val_loss: 0.0169 - val_accuracy: 0.9953\n",
            "INFO:tensorflow:Assets written to: BestModel/assets\n",
            "Epoch 50/50\n",
            "1334/1334 [==============================] - 6s 5ms/step - loss: 0.0094 - accuracy: 0.9978 - val_loss: 0.0205 - val_accuracy: 0.9942\n",
            "Fold 3, 50 epochs, 382 sec\n"
          ],
          "name": "stdout"
        },
        {
          "output_type": "display_data",
          "data": {
            "image/png": "[encoded data removed]",
            "text/plain": [
              "<Figure size 576x360 with 1 Axes>"
            ]
          },
          "metadata": {
            "tags": [],
            "needs_background": "light"
          }
        }
      ]
    },
    {
      "cell_type": "code",
      "metadata": {
        "id": "e-jG1h5fj2Ua",
        "colab": {
          "base_uri": "https://localhost:8080/"
        },
        "outputId": "3ca1cbb9-dc4a-423e-a3ff-8e986d4972ee"
      },
      "source": [
        "from keras.models import load_model\n",
        "X,y = prepare_inputs_len_x_alphabet(pc_test,nc_test,ALPHABET)\n",
        "best_model=load_model(MODELPATH)\n",
        "scores = best_model.evaluate(X, y, verbose=0)\n",
        "print(\"The best model parameters were saved during cross-validation.\")\n",
        "print(\"Best was defined as maximum validation accuracy at end of any epoch.\")\n",
        "print(\"Now re-load the best model and test it on previously unseen data.\")\n",
        "print(\"Test on\",len(pc_test),\"PC seqs\")\n",
        "print(\"Test on\",len(nc_test),\"NC seqs\")\n",
        "print(\"%s: %.2f%%\" % (best_model.metrics_names[1], scores[1]*100))\n"
      ],
      "execution_count": 14,
      "outputs": [
        {
          "output_type": "stream",
          "text": [
            "The best model parameters were saved during cross-validation.\n",
            "Best was defined as maximum validation accuracy at end of any epoch.\n",
            "Now re-load the best model and test it on previously unseen data.\n",
            "Test on 1000 PC seqs\n",
            "Test on 1000 NC seqs\n",
            "accuracy: 99.65%\n"
          ],
          "name": "stdout"
        }
      ]
    },
    {
      "cell_type": "code",
      "metadata": {
        "id": "VycUnmvUj2Ue",
        "colab": {
          "base_uri": "https://localhost:8080/",
          "height": 312
        },
        "outputId": "8c33967b-192b-4219-fe7f-0ed60320553e"
      },
      "source": [
        "from sklearn.metrics import roc_curve\n",
        "from sklearn.metrics import roc_auc_score\n",
        "ns_probs = [0 for _ in range(len(y))]\n",
        "bm_probs = best_model.predict(X)\n",
        "ns_auc = roc_auc_score(y, ns_probs)\n",
        "bm_auc = roc_auc_score(y, bm_probs)\n",
        "ns_fpr, ns_tpr, _ = roc_curve(y, ns_probs)\n",
        "bm_fpr, bm_tpr, _ = roc_curve(y, bm_probs)\n",
        "plt.plot(ns_fpr, ns_tpr, linestyle='--', label='Guess, auc=%.4f'%ns_auc)\n",
        "plt.plot(bm_fpr, bm_tpr, marker='.', label='Model, auc=%.4f'%bm_auc)\n",
        "plt.title('ROC')\n",
        "plt.xlabel('False Positive Rate')\n",
        "plt.ylabel('True Positive Rate')\n",
        "plt.legend()\n",
        "plt.show()\n",
        "print(\"%s: %.2f%%\" %('AUC',bm_auc*100.0))\n"
      ],
      "execution_count": 15,
      "outputs": [
        {
          "output_type": "display_data",
          "data": {
            "image/png": "[encoded data removed]",
            "text/plain": [
              "<Figure size 432x288 with 1 Axes>"
            ]
          },
          "metadata": {
            "tags": [],
            "needs_background": "light"
          }
        },
        {
          "output_type": "stream",
          "text": [
            "AUC: 99.99%\n"
          ],
          "name": "stdout"
        }
      ]
    },
    {
      "cell_type": "code",
      "metadata": {
        "id": "kFMb6rGNj2Ug",
        "colab": {
          "base_uri": "https://localhost:8080/",
          "height": 36
        },
        "outputId": "2b9d7e9b-25e8-4063-9c20-748afeedb961"
      },
      "source": [
        "t = time.time()\n",
        "time.strftime('%Y-%m-%d %H:%M:%S %Z', time.localtime(t))"
      ],
      "execution_count": 16,
      "outputs": [
        {
          "output_type": "execute_result",
          "data": {
            "application/vnd.google.colaboratory.intrinsic+json": {
              "type": "string"
            },
            "text/plain": [
              "'2021-06-23 18:18:59 UTC'"
            ]
          },
          "metadata": {
            "tags": []
          },
          "execution_count": 16
        }
      ]
    },
    {
      "cell_type": "code",
      "metadata": {
        "id": "e-mEgDrQjUzF"
      },
      "source": [
        ""
      ],
      "execution_count": 16,
      "outputs": []
    }
  ]
}