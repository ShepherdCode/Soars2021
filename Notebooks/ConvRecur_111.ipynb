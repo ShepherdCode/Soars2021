{
  "nbformat": 4,
  "nbformat_minor": 0,
  "metadata": {
    "accelerator": "GPU",
    "colab": {
      "name": "ConvRecur_111.ipynb",
      "provenance": [],
      "collapsed_sections": []
    },
    "kernelspec": {
      "display_name": "Python 3",
      "language": "python",
      "name": "python3"
    },
    "language_info": {
      "codemirror_mode": {
        "name": "ipython",
        "version": 3
      },
      "file_extension": ".py",
      "mimetype": "text/x-python",
      "name": "python",
      "nbconvert_exporter": "python",
      "pygments_lexer": "ipython3",
      "version": "3.8.3"
    }
  },
  "cells": [
    {
      "cell_type": "markdown",
      "metadata": {
        "id": "0asdcdunj2Tx"
      },
      "source": [
        "# ORF recognition by Convolutional/Recurrent\n",
        "\n",
        "Test CNN+LSTM 32 on simulated RNA of length 128. \n",
        "\n",
        "Use restructured codebase from notebook 105."
      ]
    },
    {
      "cell_type": "code",
      "metadata": {
        "colab": {
          "base_uri": "https://localhost:8080/",
          "height": 36
        },
        "id": "QP1VTRNQj2UO",
        "outputId": "bf62ed41-90d6-48ef-b8a6-161e1dba5046"
      },
      "source": [
        "import time \n",
        "t = time.time()\n",
        "time.strftime('%Y-%m-%d %H:%M:%S %Z', time.localtime(t))"
      ],
      "execution_count": 1,
      "outputs": [
        {
          "output_type": "execute_result",
          "data": {
            "application/vnd.google.colaboratory.intrinsic+json": {
              "type": "string"
            },
            "text/plain": [
              "'2021-06-22 11:50:29 UTC'"
            ]
          },
          "metadata": {
            "tags": []
          },
          "execution_count": 1
        }
      ]
    },
    {
      "cell_type": "code",
      "metadata": {
        "id": "Nhz4GKonj2T_"
      },
      "source": [
        "PC_SEQUENCES=32000   # how many protein-coding sequences\n",
        "NC_SEQUENCES=32000   # how many non-coding sequences\n",
        "PC_TESTS=1000\n",
        "NC_TESTS=1000\n",
        "RNA_LEN=128            # how long is each sequence\n",
        "CDS_LEN=64            # min CDS len to be coding\n",
        "ALPHABET=4          # how many different letters are possible\n",
        "INPUT_SHAPE_2D = (RNA_LEN,ALPHABET,1) # Conv2D needs 3D inputs\n",
        "INPUT_SHAPE = (RNA_LEN,ALPHABET) # Conv1D needs 2D inputs\n",
        "FILTERS = 32   # how many different patterns the model looks for\n",
        "CELLS = 32\n",
        "NEURONS = 32\n",
        "DROP_RATE = 0.4\n",
        "WIDTH = 3   # how wide each pattern is, in bases\n",
        "STRIDE_2D = (1,1)  # For Conv2D how far in each direction\n",
        "STRIDE = 1 # For Conv1D, how far between pattern matches, in bases\n",
        "EPOCHS=100  # how many times to train on all the data\n",
        "SPLITS=3  # SPLITS=3 means train on 2/3 and validate on 1/3 \n",
        "FOLDS=3  # train the model this many times (range 1 to SPLITS)"
      ],
      "execution_count": 2,
      "outputs": []
    },
    {
      "cell_type": "code",
      "metadata": {
        "colab": {
          "base_uri": "https://localhost:8080/"
        },
        "id": "lr7q90rxj2UE",
        "outputId": "32c14a72-84a3-44c0-c528-74de39355889"
      },
      "source": [
        "import sys\n",
        "IN_COLAB = False\n",
        "try:\n",
        "    from google.colab import drive\n",
        "    IN_COLAB = True\n",
        "except:\n",
        "    pass\n",
        "if IN_COLAB:\n",
        "    print(\"On Google CoLab, mount cloud-local file, get our code from GitHub.\")\n",
        "    PATH='/content/drive/'\n",
        "    #drive.mount(PATH,force_remount=True)  # hardly ever need this\n",
        "    #drive.mount(PATH)    # Google will require login credentials\n",
        "    DATAPATH=PATH+'My Drive/data/'  # must end in \"/\"\n",
        "    import requests\n",
        "    r = requests.get('https://raw.githubusercontent.com/ShepherdCode/Soars2021/master/SimTools/RNA_describe.py')\n",
        "    with open('RNA_describe.py', 'w') as f:\n",
        "        f.write(r.text)  \n",
        "    from RNA_describe import ORF_counter\n",
        "    from RNA_describe import Random_Base_Oracle\n",
        "    r = requests.get('https://raw.githubusercontent.com/ShepherdCode/Soars2021/master/SimTools/RNA_prep.py')\n",
        "    with open('RNA_prep.py', 'w') as f:\n",
        "        f.write(r.text)  \n",
        "    from RNA_prep import prepare_inputs_len_x_alphabet\n",
        "else:\n",
        "        print(\"CoLab not working. On my PC, use relative paths.\")\n",
        "        DATAPATH='data/'  # must end in \"/\"\n",
        "        sys.path.append(\"..\") # append parent dir in order to use sibling dirs\n",
        "        from SimTools.RNA_describe import ORF_counter,Random_Base_Oracle\n",
        "        from SimTools.RNA_prep import prepare_inputs_len_x_alphabet\n",
        "\n",
        "MODELPATH=\"BestModel\"  # saved on cloud instance and lost after logout\n",
        "#MODELPATH=DATAPATH+MODELPATH  # saved on Google Drive but requires login\n"
      ],
      "execution_count": 3,
      "outputs": [
        {
          "output_type": "stream",
          "text": [
            "On Google CoLab, mount cloud-local file, get our code from GitHub.\n"
          ],
          "name": "stdout"
        }
      ]
    },
    {
      "cell_type": "code",
      "metadata": {
        "id": "EGDXH8Uwj2UM"
      },
      "source": [
        "from os import listdir\n",
        "import csv\n",
        "from zipfile import ZipFile\n",
        "\n",
        "import numpy as np\n",
        "import pandas as pd\n",
        "from scipy import stats  # mode\n",
        "\n",
        "from sklearn.preprocessing import StandardScaler\n",
        "from sklearn.model_selection import KFold\n",
        "from sklearn.model_selection import cross_val_score\n",
        "\n",
        "from keras.models import Sequential\n",
        "from keras.layers import Dense,Embedding,Dropout\n",
        "from keras.layers import Conv1D,Conv2D\n",
        "from keras.layers import GRU,LSTM\n",
        "from keras.layers import Flatten,TimeDistributed\n",
        "from keras.layers import MaxPooling1D,MaxPooling2D\n",
        "from keras.losses import BinaryCrossentropy\n",
        "# tf.keras.losses.BinaryCrossentropy\n",
        "\n",
        "import matplotlib.pyplot as plt\n",
        "from matplotlib import colors\n",
        "mycmap = colors.ListedColormap(['red','blue'])  # list color for label 0 then 1\n",
        "np.set_printoptions(precision=2)\n"
      ],
      "execution_count": 4,
      "outputs": []
    },
    {
      "cell_type": "code",
      "metadata": {
        "colab": {
          "base_uri": "https://localhost:8080/"
        },
        "id": "CUOG_jEvGtOm",
        "outputId": "c03850f3-f753-49e8-a330-dd5bc7d8351a"
      },
      "source": [
        "rbo=Random_Base_Oracle(RNA_LEN,True)\n",
        "pc_all,nc_all = rbo.get_partitioned_sequences(CDS_LEN,10) # just testing\n",
        "pc_all,nc_all = rbo.get_partitioned_sequences(CDS_LEN,PC_SEQUENCES+PC_TESTS)\n",
        "print(\"Use\",len(pc_all),\"PC seqs\")\n",
        "print(\"Use\",len(nc_all),\"NC seqs\")"
      ],
      "execution_count": 5,
      "outputs": [
        {
          "output_type": "stream",
          "text": [
            "It took 30 trials to reach 10 per class.\n",
            "It took 117506 trials to reach 33000 per class.\n",
            "Use 33000 PC seqs\n",
            "Use 33000 NC seqs\n"
          ],
          "name": "stdout"
        }
      ]
    },
    {
      "cell_type": "code",
      "metadata": {
        "colab": {
          "base_uri": "https://localhost:8080/"
        },
        "id": "Q-BmSXi2jUyl",
        "outputId": "99ebb0ea-20f8-41e1-c47a-ba55996075ee"
      },
      "source": [
        "# Describe the sequences\n",
        "def describe_sequences(list_of_seq):\n",
        "    oc = ORF_counter()\n",
        "    num_seq = len(list_of_seq)\n",
        "    rna_lens = np.zeros(num_seq)\n",
        "    orf_lens = np.zeros(num_seq)\n",
        "    for i in range(0,num_seq):\n",
        "        rna_len = len(list_of_seq[i])\n",
        "        rna_lens[i] = rna_len\n",
        "        oc.set_sequence(list_of_seq[i])\n",
        "        orf_len = oc.get_max_orf_len()\n",
        "        orf_lens[i] = orf_len\n",
        "    print (\"Average RNA length:\",rna_lens.mean())\n",
        "    print (\"Average ORF length:\",orf_lens.mean())\n",
        "    \n",
        "print(\"Simulated sequences prior to adjustment:\")\n",
        "print(\"PC seqs\")\n",
        "describe_sequences(pc_all)\n",
        "print(\"NC seqs\")\n",
        "describe_sequences(nc_all)"
      ],
      "execution_count": 6,
      "outputs": [
        {
          "output_type": "stream",
          "text": [
            "Simulated sequences prior to adjustment:\n",
            "PC seqs\n",
            "Average RNA length: 128.0\n",
            "Average ORF length: 78.997\n",
            "NC seqs\n",
            "Average RNA length: 128.0\n",
            "Average ORF length: 27.665181818181818\n"
          ],
          "name": "stdout"
        }
      ]
    },
    {
      "cell_type": "code",
      "metadata": {
        "id": "iP1y7-J3jUys"
      },
      "source": [
        "pc_train=pc_all[:PC_SEQUENCES]\n",
        "nc_train=nc_all[:NC_SEQUENCES]\n",
        "pc_test=pc_all[PC_SEQUENCES:]\n",
        "nc_test=nc_all[NC_SEQUENCES:]"
      ],
      "execution_count": 7,
      "outputs": []
    },
    {
      "cell_type": "code",
      "metadata": {
        "colab": {
          "base_uri": "https://localhost:8080/"
        },
        "id": "CIpTrnH6j2US",
        "outputId": "baed0d01-385a-41e0-caef-290a3978c4f2"
      },
      "source": [
        "# Use code from our SimTools library.\n",
        "X,y = prepare_inputs_len_x_alphabet(pc_train,nc_train,ALPHABET) # shuffles\n",
        "print(\"Data ready.\")"
      ],
      "execution_count": 8,
      "outputs": [
        {
          "output_type": "stream",
          "text": [
            "Data ready.\n"
          ],
          "name": "stdout"
        }
      ]
    },
    {
      "cell_type": "code",
      "metadata": {
        "colab": {
          "base_uri": "https://localhost:8080/"
        },
        "id": "7NvrVU8ij2UU",
        "outputId": "ae015e37-b602-48be-eb5e-341e0cdd0bfd"
      },
      "source": [
        "def make_DNN():\n",
        "    print(\"make_DNN\")\n",
        "    print(\"input shape:\",INPUT_SHAPE)\n",
        "    dnn = Sequential()\n",
        "    #dnn.add(Embedding(input_dim=INPUT_SHAPE,output_dim=INPUT_SHAPE)) \n",
        "    dnn.add(Conv1D(filters=FILTERS,kernel_size=WIDTH,strides=STRIDE,padding=\"same\",\n",
        "            input_shape=INPUT_SHAPE))\n",
        "    dnn.add(Conv1D(filters=FILTERS,kernel_size=WIDTH,strides=STRIDE,padding=\"same\"))\n",
        "    dnn.add(MaxPooling1D())\n",
        "    #dnn.add(Conv1D(filters=FILTERS,kernel_size=WIDTH,strides=STRIDE,padding=\"same\"))\n",
        "    #dnn.add(Conv1D(filters=FILTERS,kernel_size=WIDTH,strides=STRIDE,padding=\"same\"))\n",
        "    #dnn.add(MaxPooling1D())\n",
        "    #dnn.add(TimeDistributed(Flatten()))\n",
        "    dnn.add(LSTM(CELLS,return_sequences=True))\n",
        "    dnn.add(LSTM(CELLS,return_sequences=False))\n",
        "    dnn.add(Dense(NEURONS,activation=\"sigmoid\",dtype=np.float32))   \n",
        "    dnn.add(Dropout(DROP_RATE))\n",
        "    dnn.add(Dense(1,activation=\"sigmoid\",dtype=np.float32))   \n",
        "    dnn.compile(optimizer='adam',\n",
        "                loss=BinaryCrossentropy(from_logits=False),\n",
        "                metrics=['accuracy'])   # add to default metrics=loss\n",
        "    dnn.build(input_shape=INPUT_SHAPE)\n",
        "    #ln_rate = tf.keras.optimizers.Adam(learning_rate = LN_RATE)\n",
        "    #bc=tf.keras.losses.BinaryCrossentropy(from_logits=False)\n",
        "    #model.compile(loss=bc, optimizer=ln_rate, metrics=[\"accuracy\"])\n",
        "    return dnn\n",
        "model = make_DNN()\n",
        "print(model.summary())"
      ],
      "execution_count": 9,
      "outputs": [
        {
          "output_type": "stream",
          "text": [
            "make_DNN\n",
            "input shape: (128, 4)\n",
            "Model: \"sequential\"\n",
            "_________________________________________________________________\n",
            "Layer (type)                 Output Shape              Param #   \n",
            "=================================================================\n",
            "conv1d (Conv1D)              (None, 128, 32)           416       \n",
            "_________________________________________________________________\n",
            "conv1d_1 (Conv1D)            (None, 128, 32)           3104      \n",
            "_________________________________________________________________\n",
            "max_pooling1d (MaxPooling1D) (None, 64, 32)            0         \n",
            "_________________________________________________________________\n",
            "lstm (LSTM)                  (None, 64, 32)            8320      \n",
            "_________________________________________________________________\n",
            "lstm_1 (LSTM)                (None, 32)                8320      \n",
            "_________________________________________________________________\n",
            "dense (Dense)                (None, 32)                1056      \n",
            "_________________________________________________________________\n",
            "dropout (Dropout)            (None, 32)                0         \n",
            "_________________________________________________________________\n",
            "dense_1 (Dense)              (None, 1)                 33        \n",
            "=================================================================\n",
            "Total params: 21,249\n",
            "Trainable params: 21,249\n",
            "Non-trainable params: 0\n",
            "_________________________________________________________________\n",
            "None\n"
          ],
          "name": "stdout"
        }
      ]
    },
    {
      "cell_type": "code",
      "metadata": {
        "id": "nlVF0hR3j2UW"
      },
      "source": [
        "from keras.callbacks import ModelCheckpoint\n",
        "def do_cross_validation(X,y):\n",
        "    cv_scores = []\n",
        "    fold=0\n",
        "    mycallbacks = [ModelCheckpoint(\n",
        "        filepath=MODELPATH, save_best_only=True, \n",
        "        monitor='val_accuracy', mode='max')]   \n",
        "    splitter = KFold(n_splits=SPLITS)  # this does not shuffle\n",
        "    for train_index,valid_index in splitter.split(X):\n",
        "        if fold < FOLDS:\n",
        "            fold += 1\n",
        "            X_train=X[train_index] # inputs for training\n",
        "            y_train=y[train_index] # labels for training\n",
        "            X_valid=X[valid_index] # inputs for validation\n",
        "            y_valid=y[valid_index] # labels for validation\n",
        "            print(\"MODEL\")\n",
        "            # Call constructor on each CV. Else, continually improves the same model.\n",
        "            model = model = make_DNN()\n",
        "            print(\"FIT\")  # model.fit() implements learning\n",
        "            start_time=time.time()\n",
        "            history=model.fit(X_train, y_train, \n",
        "                    epochs=EPOCHS, \n",
        "                    verbose=1,  # ascii art while learning\n",
        "                    callbacks=mycallbacks,   # called at end of each epoch\n",
        "                    validation_data=(X_valid,y_valid))\n",
        "            end_time=time.time()\n",
        "            elapsed_time=(end_time-start_time)                        \n",
        "            print(\"Fold %d, %d epochs, %d sec\"%(fold,EPOCHS,elapsed_time))\n",
        "            # print(history.history.keys())  # all these keys will be shown in figure\n",
        "            pd.DataFrame(history.history).plot(figsize=(8,5))\n",
        "            plt.grid(True)\n",
        "            plt.gca().set_ylim(0,1) # any losses > 1 will be off the scale\n",
        "            plt.show()\n"
      ],
      "execution_count": 10,
      "outputs": []
    },
    {
      "cell_type": "code",
      "metadata": {
        "colab": {
          "base_uri": "https://localhost:8080/",
          "height": 1000
        },
        "id": "9Ggt4EsSj2UY",
        "outputId": "02ea2537-3044-4c32-9907-b3208ab129d5"
      },
      "source": [
        "do_cross_validation(X,y)"
      ],
      "execution_count": 11,
      "outputs": [
        {
          "output_type": "stream",
          "text": [
            "MODEL\n",
            "make_DNN\n",
            "input shape: (128, 4)\n",
            "FIT\n",
            "Epoch 1/100\n",
            "1334/1334 [==============================] - 45s 10ms/step - loss: 0.7142 - accuracy: 0.5010 - val_loss: 0.6928 - val_accuracy: 0.5091\n"
          ],
          "name": "stdout"
        },
        {
          "output_type": "stream",
          "text": [
            "WARNING:absl:Found untraced functions such as lstm_cell_2_layer_call_fn, lstm_cell_2_layer_call_and_return_conditional_losses, lstm_cell_3_layer_call_fn, lstm_cell_3_layer_call_and_return_conditional_losses, lstm_cell_2_layer_call_fn while saving (showing 5 of 10). These functions will not be directly callable after loading.\n"
          ],
          "name": "stderr"
        },
        {
          "output_type": "stream",
          "text": [
            "INFO:tensorflow:Assets written to: BestModel/assets\n"
          ],
          "name": "stdout"
        },
        {
          "output_type": "stream",
          "text": [
            "INFO:tensorflow:Assets written to: BestModel/assets\n"
          ],
          "name": "stderr"
        },
        {
          "output_type": "stream",
          "text": [
            "Epoch 2/100\n",
            "1334/1334 [==============================] - 12s 9ms/step - loss: 0.6903 - accuracy: 0.5342 - val_loss: 0.6796 - val_accuracy: 0.5655\n"
          ],
          "name": "stdout"
        },
        {
          "output_type": "stream",
          "text": [
            "WARNING:absl:Found untraced functions such as lstm_cell_2_layer_call_fn, lstm_cell_2_layer_call_and_return_conditional_losses, lstm_cell_3_layer_call_fn, lstm_cell_3_layer_call_and_return_conditional_losses, lstm_cell_2_layer_call_fn while saving (showing 5 of 10). These functions will not be directly callable after loading.\n"
          ],
          "name": "stderr"
        },
        {
          "output_type": "stream",
          "text": [
            "INFO:tensorflow:Assets written to: BestModel/assets\n"
          ],
          "name": "stdout"
        },
        {
          "output_type": "stream",
          "text": [
            "INFO:tensorflow:Assets written to: BestModel/assets\n"
          ],
          "name": "stderr"
        },
        {
          "output_type": "stream",
          "text": [
            "Epoch 3/100\n",
            "1334/1334 [==============================] - 12s 9ms/step - loss: 0.6788 - accuracy: 0.5699 - val_loss: 0.6580 - val_accuracy: 0.6096\n"
          ],
          "name": "stdout"
        },
        {
          "output_type": "stream",
          "text": [
            "WARNING:absl:Found untraced functions such as lstm_cell_2_layer_call_fn, lstm_cell_2_layer_call_and_return_conditional_losses, lstm_cell_3_layer_call_fn, lstm_cell_3_layer_call_and_return_conditional_losses, lstm_cell_2_layer_call_fn while saving (showing 5 of 10). These functions will not be directly callable after loading.\n"
          ],
          "name": "stderr"
        },
        {
          "output_type": "stream",
          "text": [
            "INFO:tensorflow:Assets written to: BestModel/assets\n"
          ],
          "name": "stdout"
        },
        {
          "output_type": "stream",
          "text": [
            "INFO:tensorflow:Assets written to: BestModel/assets\n"
          ],
          "name": "stderr"
        },
        {
          "output_type": "stream",
          "text": [
            "Epoch 4/100\n",
            "1334/1334 [==============================] - 12s 9ms/step - loss: 0.6565 - accuracy: 0.6107 - val_loss: 0.6481 - val_accuracy: 0.6228\n"
          ],
          "name": "stdout"
        },
        {
          "output_type": "stream",
          "text": [
            "WARNING:absl:Found untraced functions such as lstm_cell_2_layer_call_fn, lstm_cell_2_layer_call_and_return_conditional_losses, lstm_cell_3_layer_call_fn, lstm_cell_3_layer_call_and_return_conditional_losses, lstm_cell_2_layer_call_fn while saving (showing 5 of 10). These functions will not be directly callable after loading.\n"
          ],
          "name": "stderr"
        },
        {
          "output_type": "stream",
          "text": [
            "INFO:tensorflow:Assets written to: BestModel/assets\n"
          ],
          "name": "stdout"
        },
        {
          "output_type": "stream",
          "text": [
            "INFO:tensorflow:Assets written to: BestModel/assets\n"
          ],
          "name": "stderr"
        },
        {
          "output_type": "stream",
          "text": [
            "Epoch 5/100\n",
            "1334/1334 [==============================] - 12s 9ms/step - loss: 0.6371 - accuracy: 0.6354 - val_loss: 0.6208 - val_accuracy: 0.6460\n"
          ],
          "name": "stdout"
        },
        {
          "output_type": "stream",
          "text": [
            "WARNING:absl:Found untraced functions such as lstm_cell_2_layer_call_fn, lstm_cell_2_layer_call_and_return_conditional_losses, lstm_cell_3_layer_call_fn, lstm_cell_3_layer_call_and_return_conditional_losses, lstm_cell_2_layer_call_fn while saving (showing 5 of 10). These functions will not be directly callable after loading.\n"
          ],
          "name": "stderr"
        },
        {
          "output_type": "stream",
          "text": [
            "INFO:tensorflow:Assets written to: BestModel/assets\n"
          ],
          "name": "stdout"
        },
        {
          "output_type": "stream",
          "text": [
            "INFO:tensorflow:Assets written to: BestModel/assets\n"
          ],
          "name": "stderr"
        },
        {
          "output_type": "stream",
          "text": [
            "Epoch 6/100\n",
            "1334/1334 [==============================] - 12s 9ms/step - loss: 0.6072 - accuracy: 0.6681 - val_loss: 0.5978 - val_accuracy: 0.6718\n"
          ],
          "name": "stdout"
        },
        {
          "output_type": "stream",
          "text": [
            "WARNING:absl:Found untraced functions such as lstm_cell_2_layer_call_fn, lstm_cell_2_layer_call_and_return_conditional_losses, lstm_cell_3_layer_call_fn, lstm_cell_3_layer_call_and_return_conditional_losses, lstm_cell_2_layer_call_fn while saving (showing 5 of 10). These functions will not be directly callable after loading.\n"
          ],
          "name": "stderr"
        },
        {
          "output_type": "stream",
          "text": [
            "INFO:tensorflow:Assets written to: BestModel/assets\n"
          ],
          "name": "stdout"
        },
        {
          "output_type": "stream",
          "text": [
            "INFO:tensorflow:Assets written to: BestModel/assets\n"
          ],
          "name": "stderr"
        },
        {
          "output_type": "stream",
          "text": [
            "Epoch 7/100\n",
            "1334/1334 [==============================] - 12s 9ms/step - loss: 0.5889 - accuracy: 0.6882 - val_loss: 0.5870 - val_accuracy: 0.6808\n"
          ],
          "name": "stdout"
        },
        {
          "output_type": "stream",
          "text": [
            "WARNING:absl:Found untraced functions such as lstm_cell_2_layer_call_fn, lstm_cell_2_layer_call_and_return_conditional_losses, lstm_cell_3_layer_call_fn, lstm_cell_3_layer_call_and_return_conditional_losses, lstm_cell_2_layer_call_fn while saving (showing 5 of 10). These functions will not be directly callable after loading.\n"
          ],
          "name": "stderr"
        },
        {
          "output_type": "stream",
          "text": [
            "INFO:tensorflow:Assets written to: BestModel/assets\n"
          ],
          "name": "stdout"
        },
        {
          "output_type": "stream",
          "text": [
            "INFO:tensorflow:Assets written to: BestModel/assets\n"
          ],
          "name": "stderr"
        },
        {
          "output_type": "stream",
          "text": [
            "Epoch 8/100\n",
            "1334/1334 [==============================] - 12s 9ms/step - loss: 0.5797 - accuracy: 0.6931 - val_loss: 0.5821 - val_accuracy: 0.6853\n"
          ],
          "name": "stdout"
        },
        {
          "output_type": "stream",
          "text": [
            "WARNING:absl:Found untraced functions such as lstm_cell_2_layer_call_fn, lstm_cell_2_layer_call_and_return_conditional_losses, lstm_cell_3_layer_call_fn, lstm_cell_3_layer_call_and_return_conditional_losses, lstm_cell_2_layer_call_fn while saving (showing 5 of 10). These functions will not be directly callable after loading.\n"
          ],
          "name": "stderr"
        },
        {
          "output_type": "stream",
          "text": [
            "INFO:tensorflow:Assets written to: BestModel/assets\n"
          ],
          "name": "stdout"
        },
        {
          "output_type": "stream",
          "text": [
            "INFO:tensorflow:Assets written to: BestModel/assets\n"
          ],
          "name": "stderr"
        },
        {
          "output_type": "stream",
          "text": [
            "Epoch 9/100\n",
            "1334/1334 [==============================] - 12s 9ms/step - loss: 0.5788 - accuracy: 0.6886 - val_loss: 0.5808 - val_accuracy: 0.6845\n",
            "Epoch 10/100\n",
            "1334/1334 [==============================] - 12s 9ms/step - loss: 0.5721 - accuracy: 0.6939 - val_loss: 0.5789 - val_accuracy: 0.6876\n"
          ],
          "name": "stdout"
        },
        {
          "output_type": "stream",
          "text": [
            "WARNING:absl:Found untraced functions such as lstm_cell_2_layer_call_fn, lstm_cell_2_layer_call_and_return_conditional_losses, lstm_cell_3_layer_call_fn, lstm_cell_3_layer_call_and_return_conditional_losses, lstm_cell_2_layer_call_fn while saving (showing 5 of 10). These functions will not be directly callable after loading.\n"
          ],
          "name": "stderr"
        },
        {
          "output_type": "stream",
          "text": [
            "INFO:tensorflow:Assets written to: BestModel/assets\n"
          ],
          "name": "stdout"
        },
        {
          "output_type": "stream",
          "text": [
            "INFO:tensorflow:Assets written to: BestModel/assets\n"
          ],
          "name": "stderr"
        },
        {
          "output_type": "stream",
          "text": [
            "Epoch 11/100\n",
            "1334/1334 [==============================] - 12s 9ms/step - loss: 0.5700 - accuracy: 0.6992 - val_loss: 0.5784 - val_accuracy: 0.6889\n"
          ],
          "name": "stdout"
        },
        {
          "output_type": "stream",
          "text": [
            "WARNING:absl:Found untraced functions such as lstm_cell_2_layer_call_fn, lstm_cell_2_layer_call_and_return_conditional_losses, lstm_cell_3_layer_call_fn, lstm_cell_3_layer_call_and_return_conditional_losses, lstm_cell_2_layer_call_fn while saving (showing 5 of 10). These functions will not be directly callable after loading.\n"
          ],
          "name": "stderr"
        },
        {
          "output_type": "stream",
          "text": [
            "INFO:tensorflow:Assets written to: BestModel/assets\n"
          ],
          "name": "stdout"
        },
        {
          "output_type": "stream",
          "text": [
            "INFO:tensorflow:Assets written to: BestModel/assets\n"
          ],
          "name": "stderr"
        },
        {
          "output_type": "stream",
          "text": [
            "Epoch 12/100\n",
            "1334/1334 [==============================] - 12s 9ms/step - loss: 0.5670 - accuracy: 0.6989 - val_loss: 0.5769 - val_accuracy: 0.6873\n",
            "Epoch 13/100\n",
            "1334/1334 [==============================] - 12s 9ms/step - loss: 0.5610 - accuracy: 0.6989 - val_loss: 0.5760 - val_accuracy: 0.6886\n",
            "Epoch 14/100\n",
            "1334/1334 [==============================] - 12s 9ms/step - loss: 0.5591 - accuracy: 0.7043 - val_loss: 0.5779 - val_accuracy: 0.6883\n",
            "Epoch 15/100\n",
            "1334/1334 [==============================] - 12s 9ms/step - loss: 0.5580 - accuracy: 0.7006 - val_loss: 0.5912 - val_accuracy: 0.6846\n",
            "Epoch 16/100\n",
            "1334/1334 [==============================] - 12s 9ms/step - loss: 0.5512 - accuracy: 0.7095 - val_loss: 0.5806 - val_accuracy: 0.6862\n",
            "Epoch 17/100\n",
            "1334/1334 [==============================] - 12s 9ms/step - loss: 0.5450 - accuracy: 0.7160 - val_loss: 0.5747 - val_accuracy: 0.6856\n",
            "Epoch 18/100\n",
            "1334/1334 [==============================] - 13s 10ms/step - loss: 0.5484 - accuracy: 0.7116 - val_loss: 0.5733 - val_accuracy: 0.6897\n"
          ],
          "name": "stdout"
        },
        {
          "output_type": "stream",
          "text": [
            "WARNING:absl:Found untraced functions such as lstm_cell_2_layer_call_fn, lstm_cell_2_layer_call_and_return_conditional_losses, lstm_cell_3_layer_call_fn, lstm_cell_3_layer_call_and_return_conditional_losses, lstm_cell_2_layer_call_fn while saving (showing 5 of 10). These functions will not be directly callable after loading.\n"
          ],
          "name": "stderr"
        },
        {
          "output_type": "stream",
          "text": [
            "INFO:tensorflow:Assets written to: BestModel/assets\n"
          ],
          "name": "stdout"
        },
        {
          "output_type": "stream",
          "text": [
            "INFO:tensorflow:Assets written to: BestModel/assets\n"
          ],
          "name": "stderr"
        },
        {
          "output_type": "stream",
          "text": [
            "Epoch 19/100\n",
            "1334/1334 [==============================] - 13s 10ms/step - loss: 0.5422 - accuracy: 0.7148 - val_loss: 0.5758 - val_accuracy: 0.6883\n",
            "Epoch 20/100\n",
            "1334/1334 [==============================] - 13s 10ms/step - loss: 0.5417 - accuracy: 0.7160 - val_loss: 0.5861 - val_accuracy: 0.6889\n",
            "Epoch 21/100\n",
            "1334/1334 [==============================] - 13s 10ms/step - loss: 0.5439 - accuracy: 0.7140 - val_loss: 0.5738 - val_accuracy: 0.6877\n",
            "Epoch 22/100\n",
            "1334/1334 [==============================] - 15s 11ms/step - loss: 0.5312 - accuracy: 0.7202 - val_loss: 0.5838 - val_accuracy: 0.6861\n",
            "Epoch 23/100\n",
            "1334/1334 [==============================] - 15s 11ms/step - loss: 0.5384 - accuracy: 0.7141 - val_loss: 0.5943 - val_accuracy: 0.6859\n",
            "Epoch 24/100\n",
            "1334/1334 [==============================] - 15s 11ms/step - loss: 0.5296 - accuracy: 0.7216 - val_loss: 0.5982 - val_accuracy: 0.6757\n",
            "Epoch 25/100\n",
            "1334/1334 [==============================] - 15s 11ms/step - loss: 0.5282 - accuracy: 0.7205 - val_loss: 0.5932 - val_accuracy: 0.6847\n",
            "Epoch 26/100\n",
            "1334/1334 [==============================] - 15s 11ms/step - loss: 0.5252 - accuracy: 0.7236 - val_loss: 0.5816 - val_accuracy: 0.6856\n",
            "Epoch 27/100\n",
            "1334/1334 [==============================] - 15s 11ms/step - loss: 0.5217 - accuracy: 0.7280 - val_loss: 0.5832 - val_accuracy: 0.6833\n",
            "Epoch 28/100\n",
            "1334/1334 [==============================] - 13s 10ms/step - loss: 0.5204 - accuracy: 0.7284 - val_loss: 0.5842 - val_accuracy: 0.6887\n",
            "Epoch 29/100\n",
            "1334/1334 [==============================] - 13s 10ms/step - loss: 0.5145 - accuracy: 0.7295 - val_loss: 0.5906 - val_accuracy: 0.6821\n",
            "Epoch 30/100\n",
            "1334/1334 [==============================] - 13s 10ms/step - loss: 0.5181 - accuracy: 0.7294 - val_loss: 0.5946 - val_accuracy: 0.6837\n",
            "Epoch 31/100\n",
            "1334/1334 [==============================] - 13s 9ms/step - loss: 0.5111 - accuracy: 0.7330 - val_loss: 0.6020 - val_accuracy: 0.6822\n",
            "Epoch 32/100\n",
            "1334/1334 [==============================] - 13s 9ms/step - loss: 0.5069 - accuracy: 0.7372 - val_loss: 0.6072 - val_accuracy: 0.6806\n",
            "Epoch 33/100\n",
            "1334/1334 [==============================] - 13s 9ms/step - loss: 0.5080 - accuracy: 0.7363 - val_loss: 0.5960 - val_accuracy: 0.6750\n",
            "Epoch 34/100\n",
            "1334/1334 [==============================] - 12s 9ms/step - loss: 0.5034 - accuracy: 0.7392 - val_loss: 0.6038 - val_accuracy: 0.6769\n",
            "Epoch 35/100\n",
            "1334/1334 [==============================] - 12s 9ms/step - loss: 0.4960 - accuracy: 0.7412 - val_loss: 0.6064 - val_accuracy: 0.6784\n",
            "Epoch 36/100\n",
            "1334/1334 [==============================] - 12s 9ms/step - loss: 0.5012 - accuracy: 0.7397 - val_loss: 0.6050 - val_accuracy: 0.6793\n",
            "Epoch 37/100\n",
            "1334/1334 [==============================] - 12s 9ms/step - loss: 0.4887 - accuracy: 0.7472 - val_loss: 0.5953 - val_accuracy: 0.6814\n",
            "Epoch 38/100\n",
            "1334/1334 [==============================] - 12s 9ms/step - loss: 0.4922 - accuracy: 0.7445 - val_loss: 0.6175 - val_accuracy: 0.6760\n",
            "Epoch 39/100\n",
            "1334/1334 [==============================] - 12s 9ms/step - loss: 0.4948 - accuracy: 0.7446 - val_loss: 0.6282 - val_accuracy: 0.6733\n",
            "Epoch 40/100\n",
            "1334/1334 [==============================] - 12s 9ms/step - loss: 0.4904 - accuracy: 0.7502 - val_loss: 0.6357 - val_accuracy: 0.6759\n",
            "Epoch 41/100\n",
            "1334/1334 [==============================] - 12s 9ms/step - loss: 0.4890 - accuracy: 0.7423 - val_loss: 0.6343 - val_accuracy: 0.6711\n",
            "Epoch 42/100\n",
            "1334/1334 [==============================] - 12s 9ms/step - loss: 0.4851 - accuracy: 0.7511 - val_loss: 0.6321 - val_accuracy: 0.6751\n",
            "Epoch 43/100\n",
            "1334/1334 [==============================] - 12s 9ms/step - loss: 0.4767 - accuracy: 0.7511 - val_loss: 0.6328 - val_accuracy: 0.6769\n",
            "Epoch 44/100\n",
            "1334/1334 [==============================] - 12s 9ms/step - loss: 0.4839 - accuracy: 0.7471 - val_loss: 0.6455 - val_accuracy: 0.6750\n",
            "Epoch 45/100\n",
            "1334/1334 [==============================] - 12s 9ms/step - loss: 0.4754 - accuracy: 0.7583 - val_loss: 0.6416 - val_accuracy: 0.6807\n",
            "Epoch 46/100\n",
            "1334/1334 [==============================] - 12s 9ms/step - loss: 0.4730 - accuracy: 0.7565 - val_loss: 0.6180 - val_accuracy: 0.6726\n",
            "Epoch 47/100\n",
            "1334/1334 [==============================] - 12s 9ms/step - loss: 0.4729 - accuracy: 0.7555 - val_loss: 0.6564 - val_accuracy: 0.6775\n",
            "Epoch 48/100\n",
            "1334/1334 [==============================] - 12s 9ms/step - loss: 0.4634 - accuracy: 0.7592 - val_loss: 0.6462 - val_accuracy: 0.6747\n",
            "Epoch 49/100\n",
            "1334/1334 [==============================] - 12s 9ms/step - loss: 0.4593 - accuracy: 0.7629 - val_loss: 0.6685 - val_accuracy: 0.6768\n",
            "Epoch 50/100\n",
            "1334/1334 [==============================] - 12s 9ms/step - loss: 0.4625 - accuracy: 0.7605 - val_loss: 0.6501 - val_accuracy: 0.6744\n",
            "Epoch 51/100\n",
            "1334/1334 [==============================] - 12s 9ms/step - loss: 0.4724 - accuracy: 0.7549 - val_loss: 0.6357 - val_accuracy: 0.6728\n",
            "Epoch 52/100\n",
            "1334/1334 [==============================] - 12s 9ms/step - loss: 0.4604 - accuracy: 0.7614 - val_loss: 0.6452 - val_accuracy: 0.6747\n",
            "Epoch 53/100\n",
            "1334/1334 [==============================] - 12s 9ms/step - loss: 0.4628 - accuracy: 0.7624 - val_loss: 0.6590 - val_accuracy: 0.6754\n",
            "Epoch 54/100\n",
            "1334/1334 [==============================] - 12s 9ms/step - loss: 0.4525 - accuracy: 0.7659 - val_loss: 0.6627 - val_accuracy: 0.6684\n",
            "Epoch 55/100\n",
            "1334/1334 [==============================] - 12s 9ms/step - loss: 0.4565 - accuracy: 0.7631 - val_loss: 0.6580 - val_accuracy: 0.6710\n",
            "Epoch 56/100\n",
            "1334/1334 [==============================] - 12s 9ms/step - loss: 0.4547 - accuracy: 0.7643 - val_loss: 0.6645 - val_accuracy: 0.6750\n",
            "Epoch 57/100\n",
            "1334/1334 [==============================] - 12s 9ms/step - loss: 0.4530 - accuracy: 0.7650 - val_loss: 0.6731 - val_accuracy: 0.6728\n",
            "Epoch 58/100\n",
            "1334/1334 [==============================] - 12s 9ms/step - loss: 0.4464 - accuracy: 0.7702 - val_loss: 0.6863 - val_accuracy: 0.6685\n",
            "Epoch 59/100\n",
            "1334/1334 [==============================] - 12s 9ms/step - loss: 0.4491 - accuracy: 0.7680 - val_loss: 0.6815 - val_accuracy: 0.6681\n",
            "Epoch 60/100\n",
            "1334/1334 [==============================] - 12s 9ms/step - loss: 0.4509 - accuracy: 0.7654 - val_loss: 0.6638 - val_accuracy: 0.6656\n",
            "Epoch 61/100\n",
            "1334/1334 [==============================] - 12s 9ms/step - loss: 0.4455 - accuracy: 0.7733 - val_loss: 0.6682 - val_accuracy: 0.6711\n",
            "Epoch 62/100\n",
            "1334/1334 [==============================] - 12s 9ms/step - loss: 0.4434 - accuracy: 0.7679 - val_loss: 0.6963 - val_accuracy: 0.6673\n",
            "Epoch 63/100\n",
            "1334/1334 [==============================] - 12s 9ms/step - loss: 0.4394 - accuracy: 0.7759 - val_loss: 0.6850 - val_accuracy: 0.6681\n",
            "Epoch 64/100\n",
            "1334/1334 [==============================] - 12s 9ms/step - loss: 0.4496 - accuracy: 0.7688 - val_loss: 0.7114 - val_accuracy: 0.6664\n",
            "Epoch 65/100\n",
            "1334/1334 [==============================] - 12s 9ms/step - loss: 0.4372 - accuracy: 0.7732 - val_loss: 0.6810 - val_accuracy: 0.6692\n",
            "Epoch 66/100\n",
            "1334/1334 [==============================] - 12s 9ms/step - loss: 0.4382 - accuracy: 0.7737 - val_loss: 0.6865 - val_accuracy: 0.6695\n",
            "Epoch 67/100\n",
            "1334/1334 [==============================] - 12s 9ms/step - loss: 0.4343 - accuracy: 0.7778 - val_loss: 0.7020 - val_accuracy: 0.6687\n",
            "Epoch 68/100\n",
            "1334/1334 [==============================] - 12s 9ms/step - loss: 0.4269 - accuracy: 0.7809 - val_loss: 0.7072 - val_accuracy: 0.6693\n",
            "Epoch 69/100\n",
            "1334/1334 [==============================] - 12s 9ms/step - loss: 0.4342 - accuracy: 0.7759 - val_loss: 0.7349 - val_accuracy: 0.6665\n",
            "Epoch 70/100\n",
            "1334/1334 [==============================] - 12s 9ms/step - loss: 0.4277 - accuracy: 0.7813 - val_loss: 0.7295 - val_accuracy: 0.6651\n",
            "Epoch 71/100\n",
            "1334/1334 [==============================] - 12s 9ms/step - loss: 0.4380 - accuracy: 0.7755 - val_loss: 0.7249 - val_accuracy: 0.6664\n",
            "Epoch 72/100\n",
            "1334/1334 [==============================] - 12s 9ms/step - loss: 0.4277 - accuracy: 0.7788 - val_loss: 0.7019 - val_accuracy: 0.6671\n",
            "Epoch 73/100\n",
            "1334/1334 [==============================] - 12s 9ms/step - loss: 0.4273 - accuracy: 0.7776 - val_loss: 0.7259 - val_accuracy: 0.6663\n",
            "Epoch 74/100\n",
            "1334/1334 [==============================] - 12s 9ms/step - loss: 0.4247 - accuracy: 0.7775 - val_loss: 0.7088 - val_accuracy: 0.6702\n",
            "Epoch 75/100\n",
            "1334/1334 [==============================] - 12s 9ms/step - loss: 0.4253 - accuracy: 0.7801 - val_loss: 0.7845 - val_accuracy: 0.6652\n",
            "Epoch 76/100\n",
            "1334/1334 [==============================] - 12s 9ms/step - loss: 0.4212 - accuracy: 0.7842 - val_loss: 0.6908 - val_accuracy: 0.6688\n",
            "Epoch 77/100\n",
            "1334/1334 [==============================] - 12s 9ms/step - loss: 0.4258 - accuracy: 0.7819 - val_loss: 0.7554 - val_accuracy: 0.6655\n",
            "Epoch 78/100\n",
            "1334/1334 [==============================] - 12s 9ms/step - loss: 0.4160 - accuracy: 0.7851 - val_loss: 0.7495 - val_accuracy: 0.6629\n",
            "Epoch 79/100\n",
            "1334/1334 [==============================] - 12s 9ms/step - loss: 0.4194 - accuracy: 0.7855 - val_loss: 0.7724 - val_accuracy: 0.6694\n",
            "Epoch 80/100\n",
            "1334/1334 [==============================] - 12s 9ms/step - loss: 0.4184 - accuracy: 0.7828 - val_loss: 0.7794 - val_accuracy: 0.6653\n",
            "Epoch 81/100\n",
            "1334/1334 [==============================] - 12s 9ms/step - loss: 0.4157 - accuracy: 0.7855 - val_loss: 0.7484 - val_accuracy: 0.6669\n",
            "Epoch 82/100\n",
            "1334/1334 [==============================] - 12s 9ms/step - loss: 0.4123 - accuracy: 0.7851 - val_loss: 0.7552 - val_accuracy: 0.6683\n",
            "Epoch 83/100\n",
            "1334/1334 [==============================] - 12s 9ms/step - loss: 0.4086 - accuracy: 0.7894 - val_loss: 0.7524 - val_accuracy: 0.6668\n",
            "Epoch 84/100\n",
            "1334/1334 [==============================] - 12s 9ms/step - loss: 0.4224 - accuracy: 0.7819 - val_loss: 0.7943 - val_accuracy: 0.6680\n",
            "Epoch 85/100\n",
            "1334/1334 [==============================] - 12s 9ms/step - loss: 0.4036 - accuracy: 0.7907 - val_loss: 0.7422 - val_accuracy: 0.6641\n",
            "Epoch 86/100\n",
            "1334/1334 [==============================] - 12s 9ms/step - loss: 0.4094 - accuracy: 0.7891 - val_loss: 0.7739 - val_accuracy: 0.6628\n",
            "Epoch 87/100\n",
            "1334/1334 [==============================] - 13s 10ms/step - loss: 0.4064 - accuracy: 0.7947 - val_loss: 0.7551 - val_accuracy: 0.6644\n",
            "Epoch 88/100\n",
            "1334/1334 [==============================] - 13s 10ms/step - loss: 0.4132 - accuracy: 0.7883 - val_loss: 0.8064 - val_accuracy: 0.6590\n",
            "Epoch 89/100\n",
            "1334/1334 [==============================] - 13s 10ms/step - loss: 0.4132 - accuracy: 0.7887 - val_loss: 0.7947 - val_accuracy: 0.6615\n",
            "Epoch 90/100\n",
            "1334/1334 [==============================] - 13s 10ms/step - loss: 0.4153 - accuracy: 0.7858 - val_loss: 0.7833 - val_accuracy: 0.6624\n",
            "Epoch 91/100\n",
            "1334/1334 [==============================] - 15s 11ms/step - loss: 0.4020 - accuracy: 0.7928 - val_loss: 0.7620 - val_accuracy: 0.6638\n",
            "Epoch 92/100\n",
            "1334/1334 [==============================] - 15s 11ms/step - loss: 0.4041 - accuracy: 0.7937 - val_loss: 0.7849 - val_accuracy: 0.6630\n",
            "Epoch 93/100\n",
            "1334/1334 [==============================] - 15s 11ms/step - loss: 0.4108 - accuracy: 0.7875 - val_loss: 0.8124 - val_accuracy: 0.6664\n",
            "Epoch 94/100\n",
            "1334/1334 [==============================] - 15s 11ms/step - loss: 0.4043 - accuracy: 0.7902 - val_loss: 0.7952 - val_accuracy: 0.6593\n",
            "Epoch 95/100\n",
            "1334/1334 [==============================] - 15s 11ms/step - loss: 0.4048 - accuracy: 0.7919 - val_loss: 0.7862 - val_accuracy: 0.6604\n",
            "Epoch 96/100\n",
            "1334/1334 [==============================] - 14s 11ms/step - loss: 0.3941 - accuracy: 0.7972 - val_loss: 0.7648 - val_accuracy: 0.6631\n",
            "Epoch 97/100\n",
            "1334/1334 [==============================] - 14s 10ms/step - loss: 0.3999 - accuracy: 0.7942 - val_loss: 0.7574 - val_accuracy: 0.6656\n",
            "Epoch 98/100\n",
            "1334/1334 [==============================] - 14s 10ms/step - loss: 0.4014 - accuracy: 0.7961 - val_loss: 0.8064 - val_accuracy: 0.6670\n",
            "Epoch 99/100\n",
            "1334/1334 [==============================] - 13s 10ms/step - loss: 0.3955 - accuracy: 0.7923 - val_loss: 0.8449 - val_accuracy: 0.6604\n",
            "Epoch 100/100\n",
            "1334/1334 [==============================] - 13s 10ms/step - loss: 0.3961 - accuracy: 0.7944 - val_loss: 0.7735 - val_accuracy: 0.6577\n",
            "Fold 1, 100 epochs, 1377 sec\n"
          ],
          "name": "stdout"
        },
        {
          "output_type": "display_data",
          "data": {
            "image/png": "[encoded data removed]",
            "text/plain": [
              "<Figure size 576x360 with 1 Axes>"
            ]
          },
          "metadata": {
            "tags": [],
            "needs_background": "light"
          }
        },
        {
          "output_type": "stream",
          "text": [
            "MODEL\n",
            "make_DNN\n",
            "input shape: (128, 4)\n",
            "FIT\n",
            "Epoch 1/100\n",
            "1334/1334 [==============================] - 17s 11ms/step - loss: 0.7068 - accuracy: 0.5088 - val_loss: 0.6736 - val_accuracy: 0.5839\n",
            "Epoch 2/100\n",
            "1334/1334 [==============================] - 12s 9ms/step - loss: 0.6717 - accuracy: 0.5836 - val_loss: 0.6460 - val_accuracy: 0.6225\n",
            "Epoch 3/100\n",
            "1334/1334 [==============================] - 13s 9ms/step - loss: 0.6392 - accuracy: 0.6332 - val_loss: 0.6276 - val_accuracy: 0.6480\n",
            "Epoch 4/100\n",
            "1334/1334 [==============================] - 13s 9ms/step - loss: 0.6247 - accuracy: 0.6509 - val_loss: 0.6013 - val_accuracy: 0.6684\n",
            "Epoch 5/100\n",
            "1334/1334 [==============================] - 12s 9ms/step - loss: 0.5969 - accuracy: 0.6754 - val_loss: 0.5878 - val_accuracy: 0.6867\n",
            "Epoch 6/100\n",
            "1334/1334 [==============================] - 12s 9ms/step - loss: 0.5831 - accuracy: 0.6883 - val_loss: 0.5771 - val_accuracy: 0.6893\n",
            "Epoch 7/100\n",
            "1334/1334 [==============================] - 12s 9ms/step - loss: 0.5772 - accuracy: 0.6914 - val_loss: 0.5768 - val_accuracy: 0.6921\n"
          ],
          "name": "stdout"
        },
        {
          "output_type": "stream",
          "text": [
            "WARNING:absl:Found untraced functions such as lstm_cell_4_layer_call_fn, lstm_cell_4_layer_call_and_return_conditional_losses, lstm_cell_5_layer_call_fn, lstm_cell_5_layer_call_and_return_conditional_losses, lstm_cell_4_layer_call_fn while saving (showing 5 of 10). These functions will not be directly callable after loading.\n"
          ],
          "name": "stderr"
        },
        {
          "output_type": "stream",
          "text": [
            "INFO:tensorflow:Assets written to: BestModel/assets\n"
          ],
          "name": "stdout"
        },
        {
          "output_type": "stream",
          "text": [
            "INFO:tensorflow:Assets written to: BestModel/assets\n"
          ],
          "name": "stderr"
        },
        {
          "output_type": "stream",
          "text": [
            "Epoch 8/100\n",
            "1334/1334 [==============================] - 12s 9ms/step - loss: 0.5708 - accuracy: 0.6944 - val_loss: 0.5715 - val_accuracy: 0.6904\n",
            "Epoch 9/100\n",
            "1334/1334 [==============================] - 12s 9ms/step - loss: 0.5668 - accuracy: 0.6963 - val_loss: 0.5745 - val_accuracy: 0.6894\n",
            "Epoch 10/100\n",
            "1334/1334 [==============================] - 12s 9ms/step - loss: 0.5632 - accuracy: 0.7006 - val_loss: 0.5670 - val_accuracy: 0.6952\n"
          ],
          "name": "stdout"
        },
        {
          "output_type": "stream",
          "text": [
            "WARNING:absl:Found untraced functions such as lstm_cell_4_layer_call_fn, lstm_cell_4_layer_call_and_return_conditional_losses, lstm_cell_5_layer_call_fn, lstm_cell_5_layer_call_and_return_conditional_losses, lstm_cell_4_layer_call_fn while saving (showing 5 of 10). These functions will not be directly callable after loading.\n"
          ],
          "name": "stderr"
        },
        {
          "output_type": "stream",
          "text": [
            "INFO:tensorflow:Assets written to: BestModel/assets\n"
          ],
          "name": "stdout"
        },
        {
          "output_type": "stream",
          "text": [
            "INFO:tensorflow:Assets written to: BestModel/assets\n"
          ],
          "name": "stderr"
        },
        {
          "output_type": "stream",
          "text": [
            "Epoch 11/100\n",
            "1334/1334 [==============================] - 12s 9ms/step - loss: 0.5612 - accuracy: 0.6970 - val_loss: 0.5633 - val_accuracy: 0.6977\n"
          ],
          "name": "stdout"
        },
        {
          "output_type": "stream",
          "text": [
            "WARNING:absl:Found untraced functions such as lstm_cell_4_layer_call_fn, lstm_cell_4_layer_call_and_return_conditional_losses, lstm_cell_5_layer_call_fn, lstm_cell_5_layer_call_and_return_conditional_losses, lstm_cell_4_layer_call_fn while saving (showing 5 of 10). These functions will not be directly callable after loading.\n"
          ],
          "name": "stderr"
        },
        {
          "output_type": "stream",
          "text": [
            "INFO:tensorflow:Assets written to: BestModel/assets\n"
          ],
          "name": "stdout"
        },
        {
          "output_type": "stream",
          "text": [
            "INFO:tensorflow:Assets written to: BestModel/assets\n"
          ],
          "name": "stderr"
        },
        {
          "output_type": "stream",
          "text": [
            "Epoch 12/100\n",
            "1334/1334 [==============================] - 12s 9ms/step - loss: 0.5538 - accuracy: 0.7041 - val_loss: 0.5777 - val_accuracy: 0.6930\n",
            "Epoch 13/100\n",
            "1334/1334 [==============================] - 12s 9ms/step - loss: 0.5548 - accuracy: 0.7027 - val_loss: 0.5726 - val_accuracy: 0.6971\n",
            "Epoch 14/100\n",
            "1334/1334 [==============================] - 12s 9ms/step - loss: 0.5494 - accuracy: 0.7071 - val_loss: 0.5620 - val_accuracy: 0.6987\n"
          ],
          "name": "stdout"
        },
        {
          "output_type": "stream",
          "text": [
            "WARNING:absl:Found untraced functions such as lstm_cell_4_layer_call_fn, lstm_cell_4_layer_call_and_return_conditional_losses, lstm_cell_5_layer_call_fn, lstm_cell_5_layer_call_and_return_conditional_losses, lstm_cell_4_layer_call_fn while saving (showing 5 of 10). These functions will not be directly callable after loading.\n"
          ],
          "name": "stderr"
        },
        {
          "output_type": "stream",
          "text": [
            "INFO:tensorflow:Assets written to: BestModel/assets\n"
          ],
          "name": "stdout"
        },
        {
          "output_type": "stream",
          "text": [
            "INFO:tensorflow:Assets written to: BestModel/assets\n"
          ],
          "name": "stderr"
        },
        {
          "output_type": "stream",
          "text": [
            "Epoch 15/100\n",
            "1334/1334 [==============================] - 12s 9ms/step - loss: 0.5456 - accuracy: 0.7111 - val_loss: 0.5674 - val_accuracy: 0.6893\n",
            "Epoch 16/100\n",
            "1334/1334 [==============================] - 12s 9ms/step - loss: 0.5468 - accuracy: 0.7096 - val_loss: 0.5643 - val_accuracy: 0.6971\n",
            "Epoch 17/100\n",
            "1334/1334 [==============================] - 12s 9ms/step - loss: 0.5375 - accuracy: 0.7154 - val_loss: 0.5728 - val_accuracy: 0.6960\n",
            "Epoch 18/100\n",
            "1334/1334 [==============================] - 12s 9ms/step - loss: 0.5388 - accuracy: 0.7154 - val_loss: 0.5682 - val_accuracy: 0.6913\n",
            "Epoch 19/100\n",
            "1334/1334 [==============================] - 13s 9ms/step - loss: 0.5363 - accuracy: 0.7186 - val_loss: 0.5771 - val_accuracy: 0.6877\n",
            "Epoch 20/100\n",
            "1334/1334 [==============================] - 13s 9ms/step - loss: 0.5365 - accuracy: 0.7181 - val_loss: 0.5794 - val_accuracy: 0.6954\n",
            "Epoch 21/100\n",
            "1334/1334 [==============================] - 12s 9ms/step - loss: 0.5345 - accuracy: 0.7206 - val_loss: 0.5722 - val_accuracy: 0.6938\n",
            "Epoch 22/100\n",
            "1334/1334 [==============================] - 12s 9ms/step - loss: 0.5321 - accuracy: 0.7193 - val_loss: 0.5761 - val_accuracy: 0.6926\n",
            "Epoch 23/100\n",
            "1334/1334 [==============================] - 12s 9ms/step - loss: 0.5255 - accuracy: 0.7274 - val_loss: 0.5813 - val_accuracy: 0.6926\n",
            "Epoch 24/100\n",
            "1334/1334 [==============================] - 12s 9ms/step - loss: 0.5239 - accuracy: 0.7239 - val_loss: 0.5825 - val_accuracy: 0.6969\n",
            "Epoch 25/100\n",
            "1334/1334 [==============================] - 12s 9ms/step - loss: 0.5202 - accuracy: 0.7289 - val_loss: 0.5764 - val_accuracy: 0.6896\n",
            "Epoch 26/100\n",
            "1334/1334 [==============================] - 12s 9ms/step - loss: 0.5192 - accuracy: 0.7285 - val_loss: 0.5738 - val_accuracy: 0.6927\n",
            "Epoch 27/100\n",
            "1334/1334 [==============================] - 12s 9ms/step - loss: 0.5181 - accuracy: 0.7275 - val_loss: 0.5973 - val_accuracy: 0.6964\n",
            "Epoch 28/100\n",
            "1334/1334 [==============================] - 12s 9ms/step - loss: 0.5086 - accuracy: 0.7355 - val_loss: 0.5823 - val_accuracy: 0.6893\n",
            "Epoch 29/100\n",
            "1334/1334 [==============================] - 12s 9ms/step - loss: 0.5108 - accuracy: 0.7319 - val_loss: 0.5877 - val_accuracy: 0.6912\n",
            "Epoch 30/100\n",
            "1334/1334 [==============================] - 12s 9ms/step - loss: 0.5044 - accuracy: 0.7376 - val_loss: 0.5858 - val_accuracy: 0.6910\n",
            "Epoch 31/100\n",
            "1334/1334 [==============================] - 12s 9ms/step - loss: 0.5037 - accuracy: 0.7368 - val_loss: 0.5879 - val_accuracy: 0.6913\n",
            "Epoch 32/100\n",
            "1334/1334 [==============================] - 12s 9ms/step - loss: 0.5058 - accuracy: 0.7358 - val_loss: 0.6181 - val_accuracy: 0.6876\n",
            "Epoch 33/100\n",
            "1334/1334 [==============================] - 12s 9ms/step - loss: 0.5013 - accuracy: 0.7392 - val_loss: 0.6011 - val_accuracy: 0.6923\n",
            "Epoch 34/100\n",
            "1334/1334 [==============================] - 12s 9ms/step - loss: 0.4974 - accuracy: 0.7395 - val_loss: 0.5964 - val_accuracy: 0.6845\n",
            "Epoch 35/100\n",
            "1334/1334 [==============================] - 12s 9ms/step - loss: 0.4936 - accuracy: 0.7407 - val_loss: 0.6059 - val_accuracy: 0.6895\n",
            "Epoch 36/100\n",
            "1334/1334 [==============================] - 12s 9ms/step - loss: 0.4891 - accuracy: 0.7443 - val_loss: 0.5976 - val_accuracy: 0.6882\n",
            "Epoch 37/100\n",
            "1334/1334 [==============================] - 12s 9ms/step - loss: 0.4870 - accuracy: 0.7468 - val_loss: 0.6039 - val_accuracy: 0.6876\n",
            "Epoch 38/100\n",
            "1334/1334 [==============================] - 12s 9ms/step - loss: 0.4868 - accuracy: 0.7445 - val_loss: 0.6247 - val_accuracy: 0.6861\n",
            "Epoch 39/100\n",
            "1334/1334 [==============================] - 12s 9ms/step - loss: 0.4868 - accuracy: 0.7484 - val_loss: 0.6381 - val_accuracy: 0.6817\n",
            "Epoch 40/100\n",
            "1334/1334 [==============================] - 12s 9ms/step - loss: 0.4817 - accuracy: 0.7486 - val_loss: 0.6113 - val_accuracy: 0.6881\n",
            "Epoch 41/100\n",
            "1334/1334 [==============================] - 12s 9ms/step - loss: 0.4828 - accuracy: 0.7496 - val_loss: 0.6293 - val_accuracy: 0.6843\n",
            "Epoch 42/100\n",
            "1334/1334 [==============================] - 12s 9ms/step - loss: 0.4740 - accuracy: 0.7571 - val_loss: 0.6338 - val_accuracy: 0.6843\n",
            "Epoch 43/100\n",
            "1334/1334 [==============================] - 12s 9ms/step - loss: 0.4689 - accuracy: 0.7600 - val_loss: 0.6265 - val_accuracy: 0.6834\n",
            "Epoch 44/100\n",
            "1334/1334 [==============================] - 12s 9ms/step - loss: 0.4757 - accuracy: 0.7543 - val_loss: 0.6532 - val_accuracy: 0.6820\n",
            "Epoch 45/100\n",
            "1334/1334 [==============================] - 12s 9ms/step - loss: 0.4642 - accuracy: 0.7613 - val_loss: 0.6220 - val_accuracy: 0.6825\n",
            "Epoch 46/100\n",
            "1334/1334 [==============================] - 12s 9ms/step - loss: 0.4662 - accuracy: 0.7578 - val_loss: 0.6289 - val_accuracy: 0.6808\n",
            "Epoch 47/100\n",
            "1334/1334 [==============================] - 12s 9ms/step - loss: 0.4644 - accuracy: 0.7578 - val_loss: 0.6734 - val_accuracy: 0.6846\n",
            "Epoch 48/100\n",
            "1334/1334 [==============================] - 12s 9ms/step - loss: 0.4663 - accuracy: 0.7597 - val_loss: 0.6412 - val_accuracy: 0.6839\n",
            "Epoch 49/100\n",
            "1334/1334 [==============================] - 12s 9ms/step - loss: 0.4580 - accuracy: 0.7568 - val_loss: 0.6440 - val_accuracy: 0.6820\n",
            "Epoch 50/100\n",
            "1334/1334 [==============================] - 12s 9ms/step - loss: 0.4560 - accuracy: 0.7655 - val_loss: 0.6660 - val_accuracy: 0.6828\n",
            "Epoch 51/100\n",
            "1334/1334 [==============================] - 13s 9ms/step - loss: 0.4520 - accuracy: 0.7706 - val_loss: 0.6536 - val_accuracy: 0.6799\n",
            "Epoch 52/100\n",
            "1334/1334 [==============================] - 13s 10ms/step - loss: 0.4503 - accuracy: 0.7710 - val_loss: 0.6784 - val_accuracy: 0.6798\n",
            "Epoch 53/100\n",
            "1334/1334 [==============================] - 14s 10ms/step - loss: 0.4592 - accuracy: 0.7613 - val_loss: 0.6762 - val_accuracy: 0.6811\n",
            "Epoch 54/100\n",
            "1334/1334 [==============================] - 13s 10ms/step - loss: 0.4465 - accuracy: 0.7720 - val_loss: 0.6797 - val_accuracy: 0.6813\n",
            "Epoch 55/100\n",
            "1334/1334 [==============================] - 13s 10ms/step - loss: 0.4428 - accuracy: 0.7735 - val_loss: 0.6482 - val_accuracy: 0.6768\n",
            "Epoch 56/100\n",
            "1334/1334 [==============================] - 15s 11ms/step - loss: 0.4455 - accuracy: 0.7730 - val_loss: 0.6839 - val_accuracy: 0.6776\n",
            "Epoch 57/100\n",
            "1334/1334 [==============================] - 15s 11ms/step - loss: 0.4448 - accuracy: 0.7706 - val_loss: 0.6741 - val_accuracy: 0.6779\n",
            "Epoch 58/100\n",
            "1334/1334 [==============================] - 15s 11ms/step - loss: 0.4419 - accuracy: 0.7738 - val_loss: 0.7021 - val_accuracy: 0.6752\n",
            "Epoch 59/100\n",
            "1334/1334 [==============================] - 15s 12ms/step - loss: 0.4403 - accuracy: 0.7761 - val_loss: 0.7398 - val_accuracy: 0.6775\n",
            "Epoch 60/100\n",
            "1334/1334 [==============================] - 15s 11ms/step - loss: 0.4388 - accuracy: 0.7731 - val_loss: 0.7099 - val_accuracy: 0.6773\n",
            "Epoch 61/100\n",
            "1334/1334 [==============================] - 15s 11ms/step - loss: 0.4385 - accuracy: 0.7764 - val_loss: 0.6864 - val_accuracy: 0.6785\n",
            "Epoch 62/100\n",
            "1334/1334 [==============================] - 14s 11ms/step - loss: 0.4347 - accuracy: 0.7771 - val_loss: 0.7041 - val_accuracy: 0.6750\n",
            "Epoch 63/100\n",
            "1334/1334 [==============================] - 14s 10ms/step - loss: 0.4422 - accuracy: 0.7740 - val_loss: 0.7112 - val_accuracy: 0.6751\n",
            "Epoch 64/100\n",
            "1334/1334 [==============================] - 13s 10ms/step - loss: 0.4269 - accuracy: 0.7817 - val_loss: 0.7280 - val_accuracy: 0.6795\n",
            "Epoch 65/100\n",
            "1334/1334 [==============================] - 13s 10ms/step - loss: 0.4478 - accuracy: 0.7718 - val_loss: 0.7442 - val_accuracy: 0.6696\n",
            "Epoch 66/100\n",
            "1334/1334 [==============================] - 13s 10ms/step - loss: 0.4178 - accuracy: 0.7894 - val_loss: 0.6911 - val_accuracy: 0.6763\n",
            "Epoch 67/100\n",
            "1334/1334 [==============================] - 12s 9ms/step - loss: 0.4212 - accuracy: 0.7852 - val_loss: 0.7047 - val_accuracy: 0.6722\n",
            "Epoch 68/100\n",
            "1334/1334 [==============================] - 13s 10ms/step - loss: 0.4153 - accuracy: 0.7900 - val_loss: 0.7231 - val_accuracy: 0.6731\n",
            "Epoch 69/100\n",
            "1334/1334 [==============================] - 13s 10ms/step - loss: 0.4193 - accuracy: 0.7881 - val_loss: 0.7300 - val_accuracy: 0.6776\n",
            "Epoch 70/100\n",
            "1334/1334 [==============================] - 12s 9ms/step - loss: 0.4179 - accuracy: 0.7868 - val_loss: 0.7738 - val_accuracy: 0.6751\n",
            "Epoch 71/100\n",
            "1334/1334 [==============================] - 13s 9ms/step - loss: 0.4138 - accuracy: 0.7896 - val_loss: 0.6971 - val_accuracy: 0.6763\n",
            "Epoch 72/100\n",
            "1334/1334 [==============================] - 12s 9ms/step - loss: 0.4124 - accuracy: 0.7899 - val_loss: 0.7642 - val_accuracy: 0.6708\n",
            "Epoch 73/100\n",
            "1334/1334 [==============================] - 12s 9ms/step - loss: 0.4151 - accuracy: 0.7896 - val_loss: 0.7424 - val_accuracy: 0.6710\n",
            "Epoch 74/100\n",
            "1334/1334 [==============================] - 12s 9ms/step - loss: 0.4108 - accuracy: 0.7937 - val_loss: 0.7154 - val_accuracy: 0.6670\n",
            "Epoch 75/100\n",
            "1334/1334 [==============================] - 12s 9ms/step - loss: 0.4085 - accuracy: 0.7935 - val_loss: 0.7404 - val_accuracy: 0.6707\n",
            "Epoch 76/100\n",
            "1334/1334 [==============================] - 12s 9ms/step - loss: 0.4103 - accuracy: 0.7892 - val_loss: 0.7481 - val_accuracy: 0.6682\n",
            "Epoch 77/100\n",
            "1334/1334 [==============================] - 13s 9ms/step - loss: 0.4047 - accuracy: 0.7914 - val_loss: 0.7414 - val_accuracy: 0.6700\n",
            "Epoch 78/100\n",
            "1334/1334 [==============================] - 12s 9ms/step - loss: 0.4028 - accuracy: 0.7966 - val_loss: 0.7695 - val_accuracy: 0.6715\n",
            "Epoch 79/100\n",
            "1334/1334 [==============================] - 12s 9ms/step - loss: 0.4063 - accuracy: 0.7951 - val_loss: 0.7623 - val_accuracy: 0.6695\n",
            "Epoch 80/100\n",
            "1334/1334 [==============================] - 12s 9ms/step - loss: 0.3973 - accuracy: 0.8019 - val_loss: 0.7692 - val_accuracy: 0.6684\n",
            "Epoch 81/100\n",
            "1334/1334 [==============================] - 12s 9ms/step - loss: 0.4028 - accuracy: 0.7959 - val_loss: 0.7358 - val_accuracy: 0.6697\n",
            "Epoch 82/100\n",
            "1334/1334 [==============================] - 12s 9ms/step - loss: 0.3972 - accuracy: 0.7996 - val_loss: 0.7817 - val_accuracy: 0.6694\n",
            "Epoch 83/100\n",
            "1334/1334 [==============================] - 12s 9ms/step - loss: 0.3990 - accuracy: 0.7979 - val_loss: 0.7960 - val_accuracy: 0.6694\n",
            "Epoch 84/100\n",
            "1334/1334 [==============================] - 12s 9ms/step - loss: 0.4057 - accuracy: 0.7948 - val_loss: 0.8050 - val_accuracy: 0.6707\n",
            "Epoch 85/100\n",
            "1334/1334 [==============================] - 13s 9ms/step - loss: 0.3929 - accuracy: 0.7999 - val_loss: 0.7978 - val_accuracy: 0.6677\n",
            "Epoch 86/100\n",
            "1334/1334 [==============================] - 13s 9ms/step - loss: 0.3923 - accuracy: 0.8011 - val_loss: 0.7431 - val_accuracy: 0.6718\n",
            "Epoch 87/100\n",
            "1334/1334 [==============================] - 12s 9ms/step - loss: 0.3989 - accuracy: 0.7976 - val_loss: 0.8102 - val_accuracy: 0.6687\n",
            "Epoch 88/100\n",
            "1334/1334 [==============================] - 12s 9ms/step - loss: 0.3841 - accuracy: 0.8043 - val_loss: 0.7781 - val_accuracy: 0.6674\n",
            "Epoch 89/100\n",
            "1334/1334 [==============================] - 12s 9ms/step - loss: 0.3910 - accuracy: 0.8016 - val_loss: 0.8140 - val_accuracy: 0.6660\n",
            "Epoch 90/100\n",
            "1334/1334 [==============================] - 12s 9ms/step - loss: 0.3873 - accuracy: 0.8063 - val_loss: 0.7664 - val_accuracy: 0.6671\n",
            "Epoch 91/100\n",
            "1334/1334 [==============================] - 12s 9ms/step - loss: 0.3863 - accuracy: 0.8034 - val_loss: 0.8099 - val_accuracy: 0.6676\n",
            "Epoch 92/100\n",
            "1334/1334 [==============================] - 12s 9ms/step - loss: 0.3872 - accuracy: 0.8026 - val_loss: 0.8229 - val_accuracy: 0.6653\n",
            "Epoch 93/100\n",
            "1334/1334 [==============================] - 12s 9ms/step - loss: 0.3831 - accuracy: 0.8043 - val_loss: 0.8501 - val_accuracy: 0.6705\n",
            "Epoch 94/100\n",
            "1334/1334 [==============================] - 12s 9ms/step - loss: 0.3789 - accuracy: 0.8077 - val_loss: 0.7881 - val_accuracy: 0.6692\n",
            "Epoch 95/100\n",
            "1334/1334 [==============================] - 12s 9ms/step - loss: 0.3777 - accuracy: 0.8105 - val_loss: 0.7802 - val_accuracy: 0.6650\n",
            "Epoch 96/100\n",
            "1334/1334 [==============================] - 12s 9ms/step - loss: 0.3805 - accuracy: 0.8071 - val_loss: 0.8557 - val_accuracy: 0.6648\n",
            "Epoch 97/100\n",
            "1334/1334 [==============================] - 12s 9ms/step - loss: 0.3771 - accuracy: 0.8095 - val_loss: 0.8092 - val_accuracy: 0.6670\n",
            "Epoch 98/100\n",
            "1334/1334 [==============================] - 12s 9ms/step - loss: 0.3962 - accuracy: 0.8019 - val_loss: 0.8084 - val_accuracy: 0.6656\n",
            "Epoch 99/100\n",
            "1334/1334 [==============================] - 12s 9ms/step - loss: 0.3785 - accuracy: 0.8114 - val_loss: 0.8313 - val_accuracy: 0.6681\n",
            "Epoch 100/100\n",
            "1334/1334 [==============================] - 12s 9ms/step - loss: 0.3804 - accuracy: 0.8091 - val_loss: 0.8225 - val_accuracy: 0.6694\n",
            "Fold 2, 100 epochs, 1288 sec\n"
          ],
          "name": "stdout"
        },
        {
          "output_type": "display_data",
          "data": {
            "image/png": "[encoded data removed]",
            "text/plain": [
              "<Figure size 576x360 with 1 Axes>"
            ]
          },
          "metadata": {
            "tags": [],
            "needs_background": "light"
          }
        },
        {
          "output_type": "stream",
          "text": [
            "MODEL\n",
            "make_DNN\n",
            "input shape: (128, 4)\n",
            "FIT\n",
            "Epoch 1/100\n",
            "1334/1334 [==============================] - 16s 10ms/step - loss: 0.7054 - accuracy: 0.4955 - val_loss: 0.6929 - val_accuracy: 0.5012\n",
            "Epoch 2/100\n",
            "1334/1334 [==============================] - 12s 9ms/step - loss: 0.6932 - accuracy: 0.5056 - val_loss: 0.6872 - val_accuracy: 0.5417\n",
            "Epoch 3/100\n",
            "1334/1334 [==============================] - 12s 9ms/step - loss: 0.6816 - accuracy: 0.5585 - val_loss: 0.6451 - val_accuracy: 0.6290\n",
            "Epoch 4/100\n",
            "1334/1334 [==============================] - 12s 9ms/step - loss: 0.6490 - accuracy: 0.6169 - val_loss: 0.6307 - val_accuracy: 0.6406\n",
            "Epoch 5/100\n",
            "1334/1334 [==============================] - 12s 9ms/step - loss: 0.6367 - accuracy: 0.6342 - val_loss: 0.6189 - val_accuracy: 0.6574\n",
            "Epoch 6/100\n",
            "1334/1334 [==============================] - 13s 9ms/step - loss: 0.6273 - accuracy: 0.6513 - val_loss: 0.6037 - val_accuracy: 0.6665\n",
            "Epoch 7/100\n",
            "1334/1334 [==============================] - 12s 9ms/step - loss: 0.6060 - accuracy: 0.6688 - val_loss: 0.5832 - val_accuracy: 0.6875\n",
            "Epoch 8/100\n",
            "1334/1334 [==============================] - 12s 9ms/step - loss: 0.5950 - accuracy: 0.6759 - val_loss: 0.5842 - val_accuracy: 0.6808\n",
            "Epoch 9/100\n",
            "1334/1334 [==============================] - 12s 9ms/step - loss: 0.5880 - accuracy: 0.6868 - val_loss: 0.5720 - val_accuracy: 0.6922\n",
            "Epoch 10/100\n",
            "1334/1334 [==============================] - 12s 9ms/step - loss: 0.5797 - accuracy: 0.6882 - val_loss: 0.5718 - val_accuracy: 0.6957\n",
            "Epoch 11/100\n",
            "1334/1334 [==============================] - 12s 9ms/step - loss: 0.5801 - accuracy: 0.6876 - val_loss: 0.5742 - val_accuracy: 0.6864\n",
            "Epoch 12/100\n",
            "1334/1334 [==============================] - 12s 9ms/step - loss: 0.5688 - accuracy: 0.6948 - val_loss: 0.5645 - val_accuracy: 0.6951\n",
            "Epoch 13/100\n",
            "1334/1334 [==============================] - 12s 9ms/step - loss: 0.5657 - accuracy: 0.6973 - val_loss: 0.5609 - val_accuracy: 0.7018\n"
          ],
          "name": "stdout"
        },
        {
          "output_type": "stream",
          "text": [
            "WARNING:absl:Found untraced functions such as lstm_cell_6_layer_call_fn, lstm_cell_6_layer_call_and_return_conditional_losses, lstm_cell_7_layer_call_fn, lstm_cell_7_layer_call_and_return_conditional_losses, lstm_cell_6_layer_call_fn while saving (showing 5 of 10). These functions will not be directly callable after loading.\n"
          ],
          "name": "stderr"
        },
        {
          "output_type": "stream",
          "text": [
            "INFO:tensorflow:Assets written to: BestModel/assets\n"
          ],
          "name": "stdout"
        },
        {
          "output_type": "stream",
          "text": [
            "INFO:tensorflow:Assets written to: BestModel/assets\n"
          ],
          "name": "stderr"
        },
        {
          "output_type": "stream",
          "text": [
            "Epoch 14/100\n",
            "1334/1334 [==============================] - 12s 9ms/step - loss: 0.5620 - accuracy: 0.7000 - val_loss: 0.5633 - val_accuracy: 0.6989\n",
            "Epoch 15/100\n",
            "1334/1334 [==============================] - 12s 9ms/step - loss: 0.5622 - accuracy: 0.7010 - val_loss: 0.5605 - val_accuracy: 0.7007\n",
            "Epoch 16/100\n",
            "1334/1334 [==============================] - 12s 9ms/step - loss: 0.5597 - accuracy: 0.6997 - val_loss: 0.5630 - val_accuracy: 0.7000\n",
            "Epoch 17/100\n",
            "1334/1334 [==============================] - 12s 9ms/step - loss: 0.5559 - accuracy: 0.7042 - val_loss: 0.5637 - val_accuracy: 0.6919\n",
            "Epoch 18/100\n",
            "1334/1334 [==============================] - 13s 10ms/step - loss: 0.5511 - accuracy: 0.7042 - val_loss: 0.5630 - val_accuracy: 0.7004\n",
            "Epoch 19/100\n",
            "1334/1334 [==============================] - 13s 10ms/step - loss: 0.5442 - accuracy: 0.7114 - val_loss: 0.5602 - val_accuracy: 0.7011\n",
            "Epoch 20/100\n",
            "1334/1334 [==============================] - 14s 10ms/step - loss: 0.5411 - accuracy: 0.7134 - val_loss: 0.5604 - val_accuracy: 0.7036\n"
          ],
          "name": "stdout"
        },
        {
          "output_type": "stream",
          "text": [
            "WARNING:absl:Found untraced functions such as lstm_cell_6_layer_call_fn, lstm_cell_6_layer_call_and_return_conditional_losses, lstm_cell_7_layer_call_fn, lstm_cell_7_layer_call_and_return_conditional_losses, lstm_cell_6_layer_call_fn while saving (showing 5 of 10). These functions will not be directly callable after loading.\n"
          ],
          "name": "stderr"
        },
        {
          "output_type": "stream",
          "text": [
            "INFO:tensorflow:Assets written to: BestModel/assets\n"
          ],
          "name": "stdout"
        },
        {
          "output_type": "stream",
          "text": [
            "INFO:tensorflow:Assets written to: BestModel/assets\n"
          ],
          "name": "stderr"
        },
        {
          "output_type": "stream",
          "text": [
            "Epoch 21/100\n",
            "1334/1334 [==============================] - 13s 10ms/step - loss: 0.5413 - accuracy: 0.7143 - val_loss: 0.5674 - val_accuracy: 0.7000\n",
            "Epoch 22/100\n",
            "1334/1334 [==============================] - 15s 11ms/step - loss: 0.5401 - accuracy: 0.7150 - val_loss: 0.5636 - val_accuracy: 0.6997\n",
            "Epoch 23/100\n",
            "1334/1334 [==============================] - 18s 13ms/step - loss: 0.5344 - accuracy: 0.7192 - val_loss: 0.5708 - val_accuracy: 0.7003\n",
            "Epoch 24/100\n",
            "1334/1334 [==============================] - 15s 11ms/step - loss: 0.5266 - accuracy: 0.7230 - val_loss: 0.5668 - val_accuracy: 0.7005\n",
            "Epoch 25/100\n",
            "1334/1334 [==============================] - 15s 11ms/step - loss: 0.5307 - accuracy: 0.7221 - val_loss: 0.5683 - val_accuracy: 0.7016\n",
            "Epoch 26/100\n",
            "1334/1334 [==============================] - 15s 11ms/step - loss: 0.5273 - accuracy: 0.7228 - val_loss: 0.5731 - val_accuracy: 0.6967\n",
            "Epoch 27/100\n",
            "1334/1334 [==============================] - 15s 11ms/step - loss: 0.5229 - accuracy: 0.7259 - val_loss: 0.5772 - val_accuracy: 0.7009\n",
            "Epoch 28/100\n",
            "1334/1334 [==============================] - 13s 10ms/step - loss: 0.5193 - accuracy: 0.7226 - val_loss: 0.5746 - val_accuracy: 0.6986\n",
            "Epoch 29/100\n",
            "1334/1334 [==============================] - 13s 10ms/step - loss: 0.5159 - accuracy: 0.7269 - val_loss: 0.5791 - val_accuracy: 0.6958\n",
            "Epoch 30/100\n",
            "1334/1334 [==============================] - 13s 10ms/step - loss: 0.5188 - accuracy: 0.7265 - val_loss: 0.5829 - val_accuracy: 0.6964\n",
            "Epoch 31/100\n",
            "1334/1334 [==============================] - 13s 10ms/step - loss: 0.5071 - accuracy: 0.7331 - val_loss: 0.5930 - val_accuracy: 0.6909\n",
            "Epoch 32/100\n",
            "1334/1334 [==============================] - 13s 10ms/step - loss: 0.5048 - accuracy: 0.7340 - val_loss: 0.5854 - val_accuracy: 0.6939\n",
            "Epoch 33/100\n",
            "1334/1334 [==============================] - 13s 9ms/step - loss: 0.5013 - accuracy: 0.7334 - val_loss: 0.6005 - val_accuracy: 0.6948\n",
            "Epoch 34/100\n",
            "1334/1334 [==============================] - 13s 9ms/step - loss: 0.5053 - accuracy: 0.7326 - val_loss: 0.5870 - val_accuracy: 0.6919\n",
            "Epoch 35/100\n",
            "1334/1334 [==============================] - 13s 10ms/step - loss: 0.4942 - accuracy: 0.7395 - val_loss: 0.5965 - val_accuracy: 0.6894\n",
            "Epoch 36/100\n",
            "1334/1334 [==============================] - 12s 9ms/step - loss: 0.4957 - accuracy: 0.7375 - val_loss: 0.6098 - val_accuracy: 0.6960\n",
            "Epoch 37/100\n",
            "1334/1334 [==============================] - 12s 9ms/step - loss: 0.4894 - accuracy: 0.7431 - val_loss: 0.6039 - val_accuracy: 0.6946\n",
            "Epoch 38/100\n",
            "1334/1334 [==============================] - 12s 9ms/step - loss: 0.4881 - accuracy: 0.7366 - val_loss: 0.5973 - val_accuracy: 0.6916\n",
            "Epoch 39/100\n",
            "1334/1334 [==============================] - 12s 9ms/step - loss: 0.4857 - accuracy: 0.7450 - val_loss: 0.6028 - val_accuracy: 0.6895\n",
            "Epoch 40/100\n",
            "1334/1334 [==============================] - 12s 9ms/step - loss: 0.4856 - accuracy: 0.7435 - val_loss: 0.6046 - val_accuracy: 0.6903\n",
            "Epoch 41/100\n",
            "1334/1334 [==============================] - 12s 9ms/step - loss: 0.4812 - accuracy: 0.7447 - val_loss: 0.6346 - val_accuracy: 0.6917\n",
            "Epoch 42/100\n",
            "1334/1334 [==============================] - 12s 9ms/step - loss: 0.4718 - accuracy: 0.7495 - val_loss: 0.6192 - val_accuracy: 0.6909\n",
            "Epoch 43/100\n",
            "1334/1334 [==============================] - 12s 9ms/step - loss: 0.4712 - accuracy: 0.7501 - val_loss: 0.6599 - val_accuracy: 0.6876\n",
            "Epoch 44/100\n",
            "1334/1334 [==============================] - 12s 9ms/step - loss: 0.4736 - accuracy: 0.7473 - val_loss: 0.6198 - val_accuracy: 0.6860\n",
            "Epoch 45/100\n",
            "1334/1334 [==============================] - 13s 9ms/step - loss: 0.4709 - accuracy: 0.7493 - val_loss: 0.6202 - val_accuracy: 0.6872\n",
            "Epoch 46/100\n",
            "1334/1334 [==============================] - 12s 9ms/step - loss: 0.4696 - accuracy: 0.7530 - val_loss: 0.6161 - val_accuracy: 0.6894\n",
            "Epoch 47/100\n",
            "1334/1334 [==============================] - 12s 9ms/step - loss: 0.4634 - accuracy: 0.7530 - val_loss: 0.6226 - val_accuracy: 0.6887\n",
            "Epoch 48/100\n",
            "1334/1334 [==============================] - 12s 9ms/step - loss: 0.4687 - accuracy: 0.7526 - val_loss: 0.6480 - val_accuracy: 0.6869\n",
            "Epoch 49/100\n",
            "1334/1334 [==============================] - 13s 9ms/step - loss: 0.4638 - accuracy: 0.7526 - val_loss: 0.6455 - val_accuracy: 0.6867\n",
            "Epoch 50/100\n",
            "1334/1334 [==============================] - 12s 9ms/step - loss: 0.4551 - accuracy: 0.7567 - val_loss: 0.6382 - val_accuracy: 0.6857\n",
            "Epoch 51/100\n",
            "1334/1334 [==============================] - 12s 9ms/step - loss: 0.4598 - accuracy: 0.7554 - val_loss: 0.6552 - val_accuracy: 0.6858\n",
            "Epoch 52/100\n",
            "1334/1334 [==============================] - 12s 9ms/step - loss: 0.4553 - accuracy: 0.7547 - val_loss: 0.6549 - val_accuracy: 0.6891\n",
            "Epoch 53/100\n",
            "1334/1334 [==============================] - 12s 9ms/step - loss: 0.4555 - accuracy: 0.7571 - val_loss: 0.6420 - val_accuracy: 0.6848\n",
            "Epoch 54/100\n",
            "1334/1334 [==============================] - 12s 9ms/step - loss: 0.4466 - accuracy: 0.7636 - val_loss: 0.6623 - val_accuracy: 0.6831\n",
            "Epoch 55/100\n",
            "1334/1334 [==============================] - 12s 9ms/step - loss: 0.4529 - accuracy: 0.7599 - val_loss: 0.6765 - val_accuracy: 0.6858\n",
            "Epoch 56/100\n",
            "1334/1334 [==============================] - 12s 9ms/step - loss: 0.4491 - accuracy: 0.7610 - val_loss: 0.6946 - val_accuracy: 0.6834\n",
            "Epoch 57/100\n",
            "1334/1334 [==============================] - 12s 9ms/step - loss: 0.4556 - accuracy: 0.7561 - val_loss: 0.6642 - val_accuracy: 0.6861\n",
            "Epoch 58/100\n",
            "1334/1334 [==============================] - 12s 9ms/step - loss: 0.4400 - accuracy: 0.7642 - val_loss: 0.6932 - val_accuracy: 0.6834\n",
            "Epoch 59/100\n",
            "1334/1334 [==============================] - 12s 9ms/step - loss: 0.4494 - accuracy: 0.7600 - val_loss: 0.6748 - val_accuracy: 0.6866\n",
            "Epoch 60/100\n",
            "1334/1334 [==============================] - 12s 9ms/step - loss: 0.4437 - accuracy: 0.7603 - val_loss: 0.6811 - val_accuracy: 0.6818\n",
            "Epoch 61/100\n",
            "1334/1334 [==============================] - 13s 9ms/step - loss: 0.4452 - accuracy: 0.7591 - val_loss: 0.6880 - val_accuracy: 0.6848\n",
            "Epoch 62/100\n",
            "1334/1334 [==============================] - 12s 9ms/step - loss: 0.4455 - accuracy: 0.7605 - val_loss: 0.6843 - val_accuracy: 0.6850\n",
            "Epoch 63/100\n",
            "1334/1334 [==============================] - 12s 9ms/step - loss: 0.4512 - accuracy: 0.7613 - val_loss: 0.7008 - val_accuracy: 0.6848\n",
            "Epoch 64/100\n",
            "1334/1334 [==============================] - 12s 9ms/step - loss: 0.4379 - accuracy: 0.7600 - val_loss: 0.6951 - val_accuracy: 0.6874\n",
            "Epoch 65/100\n",
            "1334/1334 [==============================] - 12s 9ms/step - loss: 0.4318 - accuracy: 0.7695 - val_loss: 0.7203 - val_accuracy: 0.6855\n",
            "Epoch 66/100\n",
            "1334/1334 [==============================] - 12s 9ms/step - loss: 0.4342 - accuracy: 0.7660 - val_loss: 0.6971 - val_accuracy: 0.6850\n",
            "Epoch 67/100\n",
            "1334/1334 [==============================] - 12s 9ms/step - loss: 0.4539 - accuracy: 0.7597 - val_loss: 0.6733 - val_accuracy: 0.6806\n",
            "Epoch 68/100\n",
            "1334/1334 [==============================] - 12s 9ms/step - loss: 0.4245 - accuracy: 0.7694 - val_loss: 0.7373 - val_accuracy: 0.6840\n",
            "Epoch 69/100\n",
            "1334/1334 [==============================] - 12s 9ms/step - loss: 0.4353 - accuracy: 0.7679 - val_loss: 0.7584 - val_accuracy: 0.6813\n",
            "Epoch 70/100\n",
            "1334/1334 [==============================] - 12s 9ms/step - loss: 0.4327 - accuracy: 0.7684 - val_loss: 0.7187 - val_accuracy: 0.6812\n",
            "Epoch 71/100\n",
            "1334/1334 [==============================] - 12s 9ms/step - loss: 0.4265 - accuracy: 0.7713 - val_loss: 0.7122 - val_accuracy: 0.6821\n",
            "Epoch 72/100\n",
            "1334/1334 [==============================] - 12s 9ms/step - loss: 0.4292 - accuracy: 0.7708 - val_loss: 0.7176 - val_accuracy: 0.6835\n",
            "Epoch 73/100\n",
            "1334/1334 [==============================] - 12s 9ms/step - loss: 0.4225 - accuracy: 0.7758 - val_loss: 0.7303 - val_accuracy: 0.6810\n",
            "Epoch 74/100\n",
            "1334/1334 [==============================] - 12s 9ms/step - loss: 0.4162 - accuracy: 0.7784 - val_loss: 0.7224 - val_accuracy: 0.6818\n",
            "Epoch 75/100\n",
            "1334/1334 [==============================] - 12s 9ms/step - loss: 0.4203 - accuracy: 0.7775 - val_loss: 0.7354 - val_accuracy: 0.6831\n",
            "Epoch 76/100\n",
            "1334/1334 [==============================] - 12s 9ms/step - loss: 0.4188 - accuracy: 0.7745 - val_loss: 0.7195 - val_accuracy: 0.6813\n",
            "Epoch 77/100\n",
            "1334/1334 [==============================] - 12s 9ms/step - loss: 0.4182 - accuracy: 0.7751 - val_loss: 0.7169 - val_accuracy: 0.6816\n",
            "Epoch 78/100\n",
            "1334/1334 [==============================] - 12s 9ms/step - loss: 0.4250 - accuracy: 0.7736 - val_loss: 0.7576 - val_accuracy: 0.6762\n",
            "Epoch 79/100\n",
            "1334/1334 [==============================] - 12s 9ms/step - loss: 0.4160 - accuracy: 0.7749 - val_loss: 0.7739 - val_accuracy: 0.6789\n",
            "Epoch 80/100\n",
            "1334/1334 [==============================] - 13s 10ms/step - loss: 0.4146 - accuracy: 0.7781 - val_loss: 0.7191 - val_accuracy: 0.6833\n",
            "Epoch 81/100\n",
            "1334/1334 [==============================] - 12s 9ms/step - loss: 0.4099 - accuracy: 0.7814 - val_loss: 0.7482 - val_accuracy: 0.6846\n",
            "Epoch 82/100\n",
            "1334/1334 [==============================] - 12s 9ms/step - loss: 0.4160 - accuracy: 0.7773 - val_loss: 0.7400 - val_accuracy: 0.6789\n",
            "Epoch 83/100\n",
            "1334/1334 [==============================] - 12s 9ms/step - loss: 0.4213 - accuracy: 0.7757 - val_loss: 0.7375 - val_accuracy: 0.6754\n",
            "Epoch 84/100\n",
            "1334/1334 [==============================] - 12s 9ms/step - loss: 0.4069 - accuracy: 0.7820 - val_loss: 0.7598 - val_accuracy: 0.6810\n",
            "Epoch 85/100\n",
            "1334/1334 [==============================] - 13s 10ms/step - loss: 0.4121 - accuracy: 0.7771 - val_loss: 0.7666 - val_accuracy: 0.6796\n",
            "Epoch 86/100\n",
            "1334/1334 [==============================] - 13s 10ms/step - loss: 0.4088 - accuracy: 0.7819 - val_loss: 0.7421 - val_accuracy: 0.6787\n",
            "Epoch 87/100\n",
            "1334/1334 [==============================] - 13s 10ms/step - loss: 0.4094 - accuracy: 0.7818 - val_loss: 0.7401 - val_accuracy: 0.6787\n",
            "Epoch 88/100\n",
            "1334/1334 [==============================] - 13s 10ms/step - loss: 0.4005 - accuracy: 0.7842 - val_loss: 0.7662 - val_accuracy: 0.6795\n",
            "Epoch 89/100\n",
            "1334/1334 [==============================] - 14s 11ms/step - loss: 0.4028 - accuracy: 0.7885 - val_loss: 0.8016 - val_accuracy: 0.6820\n",
            "Epoch 90/100\n",
            "1334/1334 [==============================] - 16s 12ms/step - loss: 0.3910 - accuracy: 0.7868 - val_loss: 0.7938 - val_accuracy: 0.6766\n",
            "Epoch 91/100\n",
            "1334/1334 [==============================] - 15s 11ms/step - loss: 0.3964 - accuracy: 0.7822 - val_loss: 0.7449 - val_accuracy: 0.6774\n",
            "Epoch 92/100\n",
            "1334/1334 [==============================] - 16s 12ms/step - loss: 0.3966 - accuracy: 0.7864 - val_loss: 0.7761 - val_accuracy: 0.6774\n",
            "Epoch 93/100\n",
            "1334/1334 [==============================] - 15s 11ms/step - loss: 0.3997 - accuracy: 0.7858 - val_loss: 0.7961 - val_accuracy: 0.6809\n",
            "Epoch 94/100\n",
            "1334/1334 [==============================] - 15s 11ms/step - loss: 0.3930 - accuracy: 0.7843 - val_loss: 0.8418 - val_accuracy: 0.6793\n",
            "Epoch 95/100\n",
            "1334/1334 [==============================] - 14s 11ms/step - loss: 0.3957 - accuracy: 0.7875 - val_loss: 0.7762 - val_accuracy: 0.6764\n",
            "Epoch 96/100\n",
            "1334/1334 [==============================] - 14s 10ms/step - loss: 0.3933 - accuracy: 0.7906 - val_loss: 0.7693 - val_accuracy: 0.6722\n",
            "Epoch 97/100\n",
            "1334/1334 [==============================] - 13s 10ms/step - loss: 0.3958 - accuracy: 0.7851 - val_loss: 0.8402 - val_accuracy: 0.6767\n",
            "Epoch 98/100\n",
            "1334/1334 [==============================] - 13s 10ms/step - loss: 0.3854 - accuracy: 0.7938 - val_loss: 0.8442 - val_accuracy: 0.6738\n",
            "Epoch 99/100\n",
            "1334/1334 [==============================] - 13s 10ms/step - loss: 0.3886 - accuracy: 0.7913 - val_loss: 0.8402 - val_accuracy: 0.6752\n",
            "Epoch 100/100\n",
            "1334/1334 [==============================] - 13s 9ms/step - loss: 0.3821 - accuracy: 0.7965 - val_loss: 0.8129 - val_accuracy: 0.6750\n",
            "Fold 3, 100 epochs, 1304 sec\n"
          ],
          "name": "stdout"
        },
        {
          "output_type": "display_data",
          "data": {
            "image/png": "[encoded data removed]",
            "text/plain": [
              "<Figure size 576x360 with 1 Axes>"
            ]
          },
          "metadata": {
            "tags": [],
            "needs_background": "light"
          }
        }
      ]
    },
    {
      "cell_type": "code",
      "metadata": {
        "colab": {
          "base_uri": "https://localhost:8080/"
        },
        "id": "e-jG1h5fj2Ua",
        "outputId": "2d975497-17af-4f0e-cdd0-fa4ca428f92a"
      },
      "source": [
        "from keras.models import load_model\n",
        "X,y = prepare_inputs_len_x_alphabet(pc_test,nc_test,ALPHABET)\n",
        "best_model=load_model(MODELPATH)\n",
        "scores = best_model.evaluate(X, y, verbose=0)\n",
        "print(\"The best model parameters were saved during cross-validation.\")\n",
        "print(\"Best was defined as maximum validation accuracy at end of any epoch.\")\n",
        "print(\"Now re-load the best model and test it on previously unseen data.\")\n",
        "print(\"Test on\",len(pc_test),\"PC seqs\")\n",
        "print(\"Test on\",len(nc_test),\"NC seqs\")\n",
        "print(\"%s: %.2f%%\" % (best_model.metrics_names[1], scores[1]*100))\n"
      ],
      "execution_count": 12,
      "outputs": [
        {
          "output_type": "stream",
          "text": [
            "The best model parameters were saved during cross-validation.\n",
            "Best was defined as maximum validation accuracy at end of any epoch.\n",
            "Now re-load the best model and test it on previously unseen data.\n",
            "Test on 1000 PC seqs\n",
            "Test on 1000 NC seqs\n",
            "accuracy: 70.40%\n"
          ],
          "name": "stdout"
        }
      ]
    },
    {
      "cell_type": "code",
      "metadata": {
        "colab": {
          "base_uri": "https://localhost:8080/",
          "height": 312
        },
        "id": "VycUnmvUj2Ue",
        "outputId": "d674826c-c087-4e7c-c82e-e5c8ca957cdb"
      },
      "source": [
        "from sklearn.metrics import roc_curve\n",
        "from sklearn.metrics import roc_auc_score\n",
        "ns_probs = [0 for _ in range(len(y))]\n",
        "bm_probs = best_model.predict(X)\n",
        "ns_auc = roc_auc_score(y, ns_probs)\n",
        "bm_auc = roc_auc_score(y, bm_probs)\n",
        "ns_fpr, ns_tpr, _ = roc_curve(y, ns_probs)\n",
        "bm_fpr, bm_tpr, _ = roc_curve(y, bm_probs)\n",
        "plt.plot(ns_fpr, ns_tpr, linestyle='--', label='Guess, auc=%.4f'%ns_auc)\n",
        "plt.plot(bm_fpr, bm_tpr, marker='.', label='Model, auc=%.4f'%bm_auc)\n",
        "plt.title('ROC')\n",
        "plt.xlabel('False Positive Rate')\n",
        "plt.ylabel('True Positive Rate')\n",
        "plt.legend()\n",
        "plt.show()\n",
        "print(\"%s: %.2f%%\" %('AUC',bm_auc*100.0))\n"
      ],
      "execution_count": 13,
      "outputs": [
        {
          "output_type": "display_data",
          "data": {
            "image/png": "[encoded data removed]",
            "text/plain": [
              "<Figure size 432x288 with 1 Axes>"
            ]
          },
          "metadata": {
            "tags": [],
            "needs_background": "light"
          }
        },
        {
          "output_type": "stream",
          "text": [
            "AUC: 77.19%\n"
          ],
          "name": "stdout"
        }
      ]
    },
    {
      "cell_type": "code",
      "metadata": {
        "colab": {
          "base_uri": "https://localhost:8080/",
          "height": 36
        },
        "id": "kFMb6rGNj2Ug",
        "outputId": "2d4dfb23-2689-44d3-81f7-10b8df18ada4"
      },
      "source": [
        "t = time.time()\n",
        "time.strftime('%Y-%m-%d %H:%M:%S %Z', time.localtime(t))"
      ],
      "execution_count": 14,
      "outputs": [
        {
          "output_type": "execute_result",
          "data": {
            "application/vnd.google.colaboratory.intrinsic+json": {
              "type": "string"
            },
            "text/plain": [
              "'2021-06-22 12:57:05 UTC'"
            ]
          },
          "metadata": {
            "tags": []
          },
          "execution_count": 14
        }
      ]
    },
    {
      "cell_type": "code",
      "metadata": {
        "id": "e-mEgDrQjUzF"
      },
      "source": [
        ""
      ],
      "execution_count": 14,
      "outputs": []
    }
  ]
}