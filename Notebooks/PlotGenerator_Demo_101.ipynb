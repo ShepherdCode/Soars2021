{
  "nbformat": 4,
  "nbformat_minor": 0,
  "metadata": {
    "colab": {
      "name": "PlotGenerator_Demo_101.ipynb",
      "provenance": [],
      "collapsed_sections": []
    },
    "kernelspec": {
      "display_name": "Python 3",
      "language": "python",
      "name": "python3"
    },
    "language_info": {
      "codemirror_mode": {
        "name": "ipython",
        "version": 3
      },
      "file_extension": ".py",
      "mimetype": "text/x-python",
      "name": "python",
      "nbconvert_exporter": "python",
      "pygments_lexer": "ipython3",
      "version": "3.8.3"
    }
  },
  "cells": [
    {
      "cell_type": "markdown",
      "metadata": {
        "id": "EPFXl5zPSYHk"
      },
      "source": [
        "# PlotGenerator Demo\n",
        "A demonstration of PlotGenerator.\n",
        "\n",
        "---"
      ]
    },
    {
      "cell_type": "markdown",
      "metadata": {
        "id": "aOm5iC3hSqU5"
      },
      "source": [
        "# Import Modules\n",
        "\n",
        "---"
      ]
    },
    {
      "cell_type": "code",
      "metadata": {
        "colab": {
          "base_uri": "https://localhost:8080/"
        },
        "id": "kEBby3uxSHnK",
        "outputId": "a072d7b6-1b7e-4de5-fe2d-de76bcec0159"
      },
      "source": [
        "import numpy as np\n",
        "import gzip\n",
        "import sys\n",
        "try:\n",
        "    from google.colab import drive\n",
        "    IN_COLAB = True\n",
        "    print(\"On Google CoLab, mount cloud-local file, get our code from GitHub.\")\n",
        "    PATH='/content/drive/'\n",
        "    #drive.mount(PATH,force_remount=True)  # hardly ever need this\n",
        "    drive.mount(PATH)    # Google will require login credentials\n",
        "    DATAPATH=PATH+'My Drive/data/'  # must end in \"/\"\n",
        "    import requests\n",
        "    s = requests.get('https://raw.githubusercontent.com/ShepherdCode/Soars2021/master/SimTools/plot_generator.py')\n",
        "    with open('plot_generator.py', 'w') as f:\n",
        "      f.write(s.text)\n",
        "    from plot_generator import *\n",
        "except:\n",
        "    print(\"CoLab not working. On my PC, use relative paths.\")\n",
        "    IN_COLAB = False\n",
        "    DATAPATH='../data/'  # must end in \"/\"\n",
        "    sys.path.append(\"..\") # append parent dir in order to use sibling dirs\n",
        "    from SimTools.plot_generator import *"
      ],
      "execution_count": 190,
      "outputs": [
        {
          "output_type": "stream",
          "text": [
            "On Google CoLab, mount cloud-local file, get our code from GitHub.\n",
            "Drive already mounted at /content/drive/; to attempt to forcibly remount, call drive.mount(\"/content/drive/\", force_remount=True).\n"
          ],
          "name": "stdout"
        }
      ]
    },
    {
      "cell_type": "markdown",
      "metadata": {
        "id": "uNWjWAXeTFlX"
      },
      "source": [
        "# Load or generate data\n",
        "For this example we will be generating random data.\n",
        "\n",
        "---"
      ]
    },
    {
      "cell_type": "code",
      "metadata": {
        "colab": {
          "base_uri": "https://localhost:8080/"
        },
        "id": "tG3BR_VXTuu2",
        "outputId": "e236e6fc-9805-4f89-ae5c-8c3c6169f6b9"
      },
      "source": [
        "#Box plot data\n",
        "DIMENSIONS = 10\n",
        "DATA_A_COUNT = 10\n",
        "DATA_B_COUNT = 20\n",
        "\n",
        "boxplot_data_a = np.random.rand(DIMENSIONS, DATA_A_COUNT)\n",
        "boxplot_data_b = np.random.rand(DIMENSIONS, DATA_B_COUNT)\n",
        "print(boxplot_data_b.shape)\n",
        "\n",
        "#PlotGenerator.box_plot() fails on the data above but works on the data below\n",
        "#This is weird because it is effectively the same data\n",
        "#The issue has to do with positions. \n",
        "#It thinks that data set a will have different positions length than data set b\n",
        "#This is despite the fact that positions length = DIMENSIONS * NUMBER OF DATA SETS = 10 * 2\n",
        "boxplot_data_a = np.empty(DIMENSIONS, dtype=object)\n",
        "boxplot_data_b = np.empty(DIMENSIONS, dtype=object)\n",
        "for d in range(0, DIMENSIONS):\n",
        "  boxplot_data_a[d] = np.random.rand(DATA_A_COUNT)\n",
        "  boxplot_data_b[d] = np.random.rand(DATA_B_COUNT)\n",
        "\n",
        "print(boxplot_data_b.shape)"
      ],
      "execution_count": 191,
      "outputs": [
        {
          "output_type": "stream",
          "text": [
            "(10, 20)\n",
            "(10,)\n"
          ],
          "name": "stdout"
        }
      ]
    },
    {
      "cell_type": "code",
      "metadata": {
        "id": "Z9ohjGakhe2M"
      },
      "source": [
        "#Bar plot data\n",
        "SIZE = 6\n",
        "barplot_data_a = np.random.rand(SIZE)\n",
        "barplot_data_b = np.random.rand(SIZE)\n",
        "barplot_data_c = np.random.rand(SIZE)"
      ],
      "execution_count": 192,
      "outputs": []
    },
    {
      "cell_type": "code",
      "metadata": {
        "id": "TT9_atnumR26"
      },
      "source": [
        "#Histogram data\n",
        "SIZE = 1000\n",
        "histogram_data_a = np.random.normal(-1, 1, size=SIZE)\n",
        "histogram_data_b = np.random.normal(1, 1, size=SIZE)"
      ],
      "execution_count": 193,
      "outputs": []
    },
    {
      "cell_type": "markdown",
      "metadata": {
        "id": "KwOxVZGIUCPV"
      },
      "source": [
        "# Plot the data\n",
        "\n",
        "---"
      ]
    },
    {
      "cell_type": "markdown",
      "metadata": {
        "id": "hHxlTAlSWBG6"
      },
      "source": [
        "Set up plot generator"
      ]
    },
    {
      "cell_type": "code",
      "metadata": {
        "id": "cFLHCs7ZV67_"
      },
      "source": [
        "pg = PlotGenerator()\n",
        "pg.set_text_options(45, 'right', 0, 'center', 12)"
      ],
      "execution_count": 194,
      "outputs": []
    },
    {
      "cell_type": "markdown",
      "metadata": {
        "id": "x8OnmZMcUVuO"
      },
      "source": [
        "Create box plot labels and names"
      ]
    },
    {
      "cell_type": "code",
      "metadata": {
        "id": "zz5zWMy3UOJh"
      },
      "source": [
        "\n",
        "title = 'Example Box Plot'\n",
        "x_label = 'Subsets/Bins'\n",
        "y_label = 'y'\n",
        "x_axis_labels = ['0', '1', '2', '3', '4', '5', '6', '7', '8', '9'] #The length must equal the dimensions of the data sets\n",
        "y_axis_labels = None\n",
        "data_set_names = ['A', 'B']"
      ],
      "execution_count": 195,
      "outputs": []
    },
    {
      "cell_type": "markdown",
      "metadata": {
        "id": "Oi35zr_LWJOb"
      },
      "source": [
        "Generate box plot comparing 2 data sets"
      ]
    },
    {
      "cell_type": "code",
      "metadata": {
        "colab": {
          "base_uri": "https://localhost:8080/",
          "height": 359
        },
        "id": "Dl-fnmO3WMSH",
        "outputId": "0dab6698-35c3-4775-df65-d25a627f751b"
      },
      "source": [
        "#Box plot\n",
        "pg.set_text(title, x_label, y_label, x_axis_labels, y_axis_labels)\n",
        "show_fliers = False #Whether or not outliers should be plotted\n",
        "pg.box_plot([boxplot_data_a, boxplot_data_b], data_set_names, show_fliers)"
      ],
      "execution_count": 196,
      "outputs": [
        {
          "output_type": "display_data",
          "data": {
            "image/png": "[encoded data removed]",
            "text/plain": [
              "<Figure size 460.8x345.6 with 1 Axes>"
            ]
          },
          "metadata": {
            "tags": [],
            "needs_background": "light"
          }
        }
      ]
    },
    {
      "cell_type": "markdown",
      "metadata": {
        "id": "A7VveMWIdwK5"
      },
      "source": [
        "Note how for each label on the x-axis, it has the name of the corresponding data set name.\n",
        "\n",
        "It does this automatically so all you need to provide is the name of each bin/subset and the name of each set."
      ]
    },
    {
      "cell_type": "markdown",
      "metadata": {
        "id": "kxhX8s_ih_De"
      },
      "source": [
        "Create bar plot labels and names"
      ]
    },
    {
      "cell_type": "code",
      "metadata": {
        "id": "_wh-81hihccO"
      },
      "source": [
        "title = 'Example Bar Plot'\n",
        "x_label = 'Subsets/Bins'\n",
        "y_label = 'y'\n",
        "x_axis_labels = ['1', '2', '3', '4', '5', '6']\n",
        "y_axis_labels = None\n",
        "data_set_names = ['A', 'B', 'C']"
      ],
      "execution_count": 197,
      "outputs": []
    },
    {
      "cell_type": "markdown",
      "metadata": {
        "id": "pXKQ_O0AiWJD"
      },
      "source": [
        "Generate bar plot comparing 3 data sets"
      ]
    },
    {
      "cell_type": "code",
      "metadata": {
        "colab": {
          "base_uri": "https://localhost:8080/",
          "height": 343
        },
        "id": "FkePHn1EiYsp",
        "outputId": "1ede7444-4b2e-4b21-e888-b82f08135734"
      },
      "source": [
        "pg.set_text(title, x_label, y_label, x_axis_labels, y_axis_labels)\n",
        "pg.bar_plot([barplot_data_a, barplot_data_b, barplot_data_c], data_set_names)"
      ],
      "execution_count": 198,
      "outputs": [
        {
          "output_type": "display_data",
          "data": {
            "image/png": "[encoded data removed]",
            "text/plain": [
              "<Figure size 460.8x345.6 with 1 Axes>"
            ]
          },
          "metadata": {
            "tags": [],
            "needs_background": "light"
          }
        }
      ]
    },
    {
      "cell_type": "markdown",
      "metadata": {
        "id": "uE2WfCJGmfu6"
      },
      "source": [
        "Create histogram labels and names"
      ]
    },
    {
      "cell_type": "code",
      "metadata": {
        "id": "NVJpYbjKmj9s"
      },
      "source": [
        "title = 'Example Histogram'\n",
        "x_label = 'Value'\n",
        "y_label = 'Count'\n",
        "data_set_names = ['A', 'B']"
      ],
      "execution_count": 199,
      "outputs": []
    },
    {
      "cell_type": "markdown",
      "metadata": {
        "id": "w-38G7kVmwDx"
      },
      "source": [
        "Generate histogram comparing 2 data sets"
      ]
    },
    {
      "cell_type": "code",
      "metadata": {
        "colab": {
          "base_uri": "https://localhost:8080/",
          "height": 339
        },
        "id": "-Zjahi9gmzKg",
        "outputId": "cc8ea8b0-8311-4b7a-8315-49de8c9f675d"
      },
      "source": [
        "pg.set_text(title, x_label, y_label, None, None)\n",
        "pg.histogram([histogram_data_a, histogram_data_b], 100, data_set_names)"
      ],
      "execution_count": 200,
      "outputs": [
        {
          "output_type": "display_data",
          "data": {
            "image/png": "[encoded data removed]",
            "text/plain": [
              "<Figure size 460.8x345.6 with 1 Axes>"
            ]
          },
          "metadata": {
            "tags": [],
            "needs_background": "light"
          }
        }
      ]
    },
    {
      "cell_type": "markdown",
      "metadata": {
        "id": "Mz5OT8rQsfVf"
      },
      "source": [
        "Here, the two plotted graphs in the histogram use colors with an alpha value less than max so that overlap is shown as a purple color."
      ]
    }
  ]
}