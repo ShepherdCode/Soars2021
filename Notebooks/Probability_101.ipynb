{
 "cells": [
  {
   "cell_type": "markdown",
   "metadata": {},
   "source": [
    "# Probability of an ORF\n",
    "\n",
    "For getting started, we'll solve a simple version.\n",
    "Assume the RNA length is a multiple of 3.\n",
    "Only count ORFs in frame 1.\n",
    "Assume every codon is a random uniform selection from 64 choices.  \n",
    "Solve one one exact length in codons.\n",
    "Include every ORF of length >= codons/2. "
   ]
  },
  {
   "cell_type": "code",
   "execution_count": 68,
   "metadata": {},
   "outputs": [
    {
     "name": "stdout",
     "output_type": "stream",
     "text": [
      "2021-08-10 14:08:49 EDT\n"
     ]
    }
   ],
   "source": [
    "import time\n",
    "def show_time():\n",
    "    t = time.time()\n",
    "    print(time.strftime('%Y-%m-%d %H:%M:%S %Z', time.localtime(t)))\n",
    "show_time()"
   ]
  },
  {
   "cell_type": "markdown",
   "metadata": {},
   "source": [
    "Let  \n",
    "W = P(NonStart) = 63/64  \n",
    "M = P(Start) = 1/64  \n",
    "S = P(Stop) = 3/64  \n",
    "A = P(NonStop)= 61/64  \n",
    "C = P(AnyCodon) = 64/64  \n",
    "n = Length of RNA in bases.  \n",
    "L = ORF length in codons (includes start, excludes stop)  \n",
    "H = ceil(n/2)  \n",
    "I = floor(n/2)  \n",
    "Porf(n) = Probability of an ORF, L>=n/2.  \n",
    "\n",
    "$P_{orf}(n)=\\sum_{i=1}^I\\sum_{j=i}^L[W^{i-1}MA^{j}S]$"
   ]
  },
  {
   "cell_type": "code",
   "execution_count": 69,
   "metadata": {},
   "outputs": [],
   "source": [
    "import math\n",
    "P_NoStart = 63/64\n",
    "P_Start = 1/64\n",
    "P_Stop = 3/64\n",
    "P_Amino = 61/64\n",
    "P_Codon = 64/64"
   ]
  },
  {
   "cell_type": "code",
   "execution_count": 70,
   "metadata": {},
   "outputs": [],
   "source": [
    "def get_prob_by_sum(rna_len):\n",
    "    psum = 0.0  # sum of probs\n",
    "    min_cds = math.ceil(rna_len/2)\n",
    "    min_amino = min_cds-2\n",
    "    max_start = math.floor(rna_len/2)\n",
    "    for start_pos in range(1,max_start+1):\n",
    "        for stop_pos in range(start_pos+min_cds,rna_len+1):\n",
    "            num_pre = start_pos-1\n",
    "            num_amino = stop_pos-start_pos-1\n",
    "            pone = (P_NoStart**num_pre)*P_Start*(P_Amino**num_amino)*P_Stop\n",
    "            psum += pone\n",
    "    return psum"
   ]
  },
  {
   "cell_type": "code",
   "execution_count": 78,
   "metadata": {},
   "outputs": [
    {
     "name": "stdout",
     "output_type": "stream",
     "text": [
      "  RNA  CODONS  PROB\n",
      "    3       1  0.00000\n",
      "    6       2  0.00073\n",
      "    9       3  0.00070\n",
      "   12       4  0.00205\n",
      "   15       5  0.00195\n",
      "   18       6  0.00383\n",
      "   21       7  0.00365\n",
      "   24       8  0.00596\n",
      "   27       9  0.00568\n",
      "   30      10  0.00834\n"
     ]
    }
   ],
   "source": [
    "print(\"  RNA  CODONS  PROB\")\n",
    "for c in range(1,11,1):\n",
    "    rna_codons=c\n",
    "    rna_len=rna_codons*3\n",
    "    porf = get_prob_by_sum(rna_codons)\n",
    "    print(\"%5d  %6d  %.5f\"%(rna_len,rna_codons,porf))"
   ]
  },
  {
   "cell_type": "code",
   "execution_count": 79,
   "metadata": {},
   "outputs": [
    {
     "name": "stdout",
     "output_type": "stream",
     "text": [
      "  RNA  CODONS  PROB\n",
      "   99      33  3.40404e-02\n",
      "  198      66  4.72581e-02\n",
      "  297      99  3.45162e-02\n",
      "  396     132  2.19696e-02\n",
      "  495     165  1.17732e-02\n",
      "  594     198  6.27716e-03\n",
      "  693     231  3.04329e-03\n",
      "  792     264  1.51496e-03\n",
      "  891     297  7.03198e-04\n",
      "  990     330  3.38947e-04\n",
      " 1089     363  1.53960e-04\n",
      " 1188     396  7.29797e-05\n",
      " 1287     429  3.27679e-05\n",
      " 1386     462  1.53909e-05\n",
      " 1485     495  6.86598e-06\n",
      " 1584     528  3.20822e-06\n",
      " 1683     561  1.42591e-06\n",
      " 1782     594  6.64280e-07\n",
      " 1881     627  2.94608e-07\n",
      " 1980     660  1.37007e-07\n",
      " 2079     693  6.06855e-08\n"
     ]
    }
   ],
   "source": [
    "print(\"  RNA  CODONS  PROB\")\n",
    "for c in range(33,700,33):\n",
    "    rna_codons=c\n",
    "    rna_len=rna_codons*3\n",
    "    porf = get_prob_by_sum(rna_codons)\n",
    "    print(\"%5d  %6d  %.5e\"%(rna_len,rna_codons,porf))"
   ]
  },
  {
   "cell_type": "code",
   "execution_count": null,
   "metadata": {},
   "outputs": [],
   "source": []
  }
 ],
 "metadata": {
  "kernelspec": {
   "display_name": "Python 3",
   "language": "python",
   "name": "python3"
  },
  "language_info": {
   "codemirror_mode": {
    "name": "ipython",
    "version": 3
   },
   "file_extension": ".py",
   "mimetype": "text/x-python",
   "name": "python",
   "nbconvert_exporter": "python",
   "pygments_lexer": "ipython3",
   "version": "3.8.3"
  }
 },
 "nbformat": 4,
 "nbformat_minor": 2
}
