{
 "cells": [
  {
   "cell_type": "markdown",
   "metadata": {},
   "source": [
    "# Probability of an ORF"
   ]
  },
  {
   "cell_type": "code",
   "execution_count": 1,
   "metadata": {},
   "outputs": [
    {
     "name": "stdout",
     "output_type": "stream",
     "text": [
      "2021-08-10 12:50:02 EDT\n"
     ]
    }
   ],
   "source": [
    "import time\n",
    "def show_time():\n",
    "    t = time.time()\n",
    "    print(time.strftime('%Y-%m-%d %H:%M:%S %Z', time.localtime(t)))\n",
    "show_time()"
   ]
  },
  {
   "cell_type": "code",
   "execution_count": 2,
   "metadata": {},
   "outputs": [],
   "source": [
    "import math\n",
    "P_NoStart = 63/64\n",
    "P_Start = 1/64\n",
    "P_Stop = 3/64\n",
    "P_Amino = 61/64\n",
    "P_Codon = 64/64"
   ]
  },
  {
   "cell_type": "code",
   "execution_count": 60,
   "metadata": {},
   "outputs": [],
   "source": [
    "def get_prob_by_sum(rna_len):\n",
    "    psum = 0.0  # sum of probs\n",
    "    min_cds = math.ceil(rna_len/2)\n",
    "    min_amino = min_cds-2\n",
    "    max_start = math.floor(rna_len/2)\n",
    "    for start_pos in range(1,max_start+1):\n",
    "        for stop_pos in range(start_pos+min_cds,rna_len+1):\n",
    "            num_pre = start_pos-1\n",
    "            num_amino = stop_pos-start_pos-1\n",
    "            pone = (P_NoStart**num_pre)*P_Start*(P_Amino**num_amino)*P_Stop\n",
    "            psum += pone\n",
    "    return psum"
   ]
  },
  {
   "cell_type": "code",
   "execution_count": 61,
   "metadata": {},
   "outputs": [
    {
     "name": "stdout",
     "output_type": "stream",
     "text": [
      "For RNA len 1, prob(ORF)=0.000000\n",
      "For RNA len 2, prob(ORF)=0.000732\n",
      "For RNA len 3, prob(ORF)=0.000698\n",
      "For RNA len 4, prob(ORF)=0.002051\n",
      "For RNA len 5, prob(ORF)=0.001955\n",
      "For RNA len 6, prob(ORF)=0.003828\n",
      "For RNA len 7, prob(ORF)=0.003649\n",
      "For RNA len 8, prob(ORF)=0.005955\n"
     ]
    }
   ],
   "source": [
    "for i in [1,2,3,4,5,6,7,8]:\n",
    "    rna_len=i\n",
    "    porf = get_prob_by_sum(rna_len)\n",
    "    print(\"For RNA len %d, prob(ORF)=%f\"%(rna_len,porf))"
   ]
  },
  {
   "cell_type": "code",
   "execution_count": null,
   "metadata": {},
   "outputs": [],
   "source": []
  },
  {
   "cell_type": "code",
   "execution_count": null,
   "metadata": {},
   "outputs": [],
   "source": []
  }
 ],
 "metadata": {
  "kernelspec": {
   "display_name": "Python 3",
   "language": "python",
   "name": "python3"
  },
  "language_info": {
   "codemirror_mode": {
    "name": "ipython",
    "version": 3
   },
   "file_extension": ".py",
   "mimetype": "text/x-python",
   "name": "python",
   "nbconvert_exporter": "python",
   "pygments_lexer": "ipython3",
   "version": "3.8.3"
  }
 },
 "nbformat": 4,
 "nbformat_minor": 2
}
