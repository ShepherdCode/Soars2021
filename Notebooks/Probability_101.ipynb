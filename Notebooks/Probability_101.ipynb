{
 "cells": [
  {
   "cell_type": "markdown",
   "metadata": {},
   "source": [
    "# Probability of an ORF"
   ]
  },
  {
   "cell_type": "code",
   "execution_count": 13,
   "metadata": {},
   "outputs": [],
   "source": [
    "import math\n",
    "P_NoStart = 63/64\n",
    "P_Start = 1/64\n",
    "P_Stop = 3/64\n",
    "P_Amino = 61/64\n",
    "P_Codon = 64/64"
   ]
  },
  {
   "cell_type": "code",
   "execution_count": 26,
   "metadata": {},
   "outputs": [],
   "source": [
    "def get_prob_by_sum(rna_len):\n",
    "    psum = 0.0  # sum of probs\n",
    "    min_cds = math.ceil(rna_len/2)\n",
    "    min_amino = min_cds-2\n",
    "    max_start = math.floor(rna_len/2)\n",
    "    if min_amino<1:\n",
    "        return psum  # avoid end cases\n",
    "    for start_pos in range(1,max_start+1):\n",
    "        for stop_pos in range(start_pos+min_cds,rna_len+1):\n",
    "            num_pre = start_pos-1\n",
    "            num_amino = stop_pos-start_pos-1\n",
    "            pone = (P_NoStart**num_pre)*P_Start*(P_Amino**num_amino)*P_Stop\n",
    "            psum += pone\n",
    "            print(\"%d-%d %f\"%(start_pos,stop_pos,pone))\n",
    "    return psum"
   ]
  },
  {
   "cell_type": "code",
   "execution_count": 27,
   "metadata": {},
   "outputs": [
    {
     "name": "stdout",
     "output_type": "stream",
     "text": [
      "1-4 0.000665\n",
      "1-5 0.000634\n",
      "2-5 0.000655\n",
      "For RNA len 5, prob(ORF)=0.001955\n",
      "1-4 0.000665\n",
      "1-5 0.000634\n",
      "1-6 0.000604\n",
      "2-5 0.000655\n",
      "2-6 0.000624\n",
      "3-6 0.000645\n",
      "For RNA len 6, prob(ORF)=0.003828\n",
      "1-5 0.000634\n",
      "1-6 0.000604\n",
      "1-7 0.000576\n",
      "2-6 0.000624\n",
      "2-7 0.000595\n",
      "3-7 0.000615\n",
      "For RNA len 7, prob(ORF)=0.003649\n",
      "1-5 0.000634\n",
      "1-6 0.000604\n",
      "1-7 0.000576\n",
      "1-8 0.000549\n",
      "2-6 0.000624\n",
      "2-7 0.000595\n",
      "2-8 0.000567\n",
      "3-7 0.000615\n",
      "3-8 0.000586\n",
      "4-8 0.000605\n",
      "For RNA len 8, prob(ORF)=0.005955\n"
     ]
    }
   ],
   "source": [
    "for i in [5,6,7,8]:\n",
    "    rna_len=i\n",
    "    porf = get_prob_by_sum(rna_len)\n",
    "    print(\"For RNA len %d, prob(ORF)=%f\"%(rna_len,porf))"
   ]
  },
  {
   "cell_type": "code",
   "execution_count": null,
   "metadata": {},
   "outputs": [],
   "source": []
  },
  {
   "cell_type": "code",
   "execution_count": null,
   "metadata": {},
   "outputs": [],
   "source": []
  }
 ],
 "metadata": {
  "kernelspec": {
   "display_name": "Python 3",
   "language": "python",
   "name": "python3"
  },
  "language_info": {
   "codemirror_mode": {
    "name": "ipython",
    "version": 3
   },
   "file_extension": ".py",
   "mimetype": "text/x-python",
   "name": "python",
   "nbconvert_exporter": "python",
   "pygments_lexer": "ipython3",
   "version": "3.8.3"
  }
 },
 "nbformat": 4,
 "nbformat_minor": 2
}
