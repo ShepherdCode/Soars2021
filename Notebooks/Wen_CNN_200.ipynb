{
  "nbformat": 4,
  "nbformat_minor": 0,
  "metadata": {
    "accelerator": "GPU",
    "colab": {
      "name": "Wen_CNN_200.ipynb",
      "provenance": [],
      "collapsed_sections": []
    },
    "kernelspec": {
      "display_name": "Python 3",
      "language": "python",
      "name": "python3"
    },
    "language_info": {
      "codemirror_mode": {
        "name": "ipython",
        "version": 3
      },
      "file_extension": ".py",
      "mimetype": "text/x-python",
      "name": "python",
      "nbconvert_exporter": "python",
      "pygments_lexer": "ipython3",
      "version": "3.8.3"
    }
  },
  "cells": [
    {
      "cell_type": "markdown",
      "metadata": {
        "id": "ojm_6E9f9Kcf"
      },
      "source": [
        "# Wen CNN \n",
        "\n",
        "Simulate the CNN approach of Wen et al. 2019.\n",
        "\n",
        "Help SOARS students investigate properties of individual RNA"
      ]
    },
    {
      "cell_type": "code",
      "metadata": {
        "colab": {
          "base_uri": "https://localhost:8080/"
        },
        "id": "RmPF4h_YI_sT",
        "outputId": "b539cbac-5783-4df2-cb32-bc77361eb37f"
      },
      "source": [
        "import time\n",
        "def show_time():\n",
        "    t = time.time()\n",
        "    print(time.strftime('%Y-%m-%d %H:%M:%S %Z', time.localtime(t)))\n",
        "show_time()"
      ],
      "execution_count": 1,
      "outputs": [
        {
          "output_type": "stream",
          "text": [
            "2021-08-09 17:26:37 UTC\n"
          ],
          "name": "stdout"
        }
      ]
    },
    {
      "cell_type": "markdown",
      "metadata": {
        "id": "L3Z2ZUb8oE_s"
      },
      "source": [
        "## Transcripts  of interest\n",
        "The sources of data are:  \n",
        "Annotation from GenCode (GFF 9-column format).  \n",
        "Links to Ensembl.org, the source of GenCode data.\n",
        "\n",
        "### mRNA HOXA\n",
        "\n",
        "- This transcript has length 1686: [ENST00000222718](https://useast.ensembl.org/Homo_sapiens/Transcript/Summary?db=core;g=ENSG00000105996;r=7:27096124-27099966;t=ENST00000222718)\n",
        "- Transcript name is HOXA2-201\n",
        "- Gene name is Homeobox A2 (gene symbol HOX1K)\n",
        "- Gene [page](https://useast.ensembl.org/Homo_sapiens/Gene/Summary?db=core;g=ENSG00000105996;r=7:27096124-27099966;t=ENST00000222718)\n",
        "at Ensemble says \"This gene has 2 transcripts.\"\n",
        "- HOX describes a cluster of genes \n",
        "that collectively determine timing and layout of body growth.\n",
        "HOX genes are very important to all animals and plants \n",
        "in the control of their body development.\n",
        "\n",
        "### LncRNA HOTAIR\n",
        "- GenCode annotation: chr7\tHAVANA\ttranscript\t27096124\t27099966\t.\t+\t.\tID=ENST00000429611.7;Parent=ENSG00000233429.9;gene_id=ENSG00000233429.9;transcript_id=ENST00000429611.7;gene_type=lncRNA;gene_name=HOTAIRM1;transcript_type=lncRNA;transcript_name=HOTAIRM1-203;level=1;transcript_support_level=1;hgnc_id=HGNC:37117;tag=basic,exp_conf;havana_gene=OTTHUMG00000158089.4;havana_transcript=OTTHUMT00000358453.1\n",
        "- Gene [page](https://useast.ensembl.org/Homo_sapiens/Gene/Summary?db=core;g=ENSG00000233429;r=7:27096124-27099966;t=ENST00000429611)\n",
        "at Ensembl says \"This gene has 6 transcripts.\"\n",
        "- This transcript has length 722: [ENST00000429611](https://useast.ensembl.org/Homo_sapiens/Transcript/Summary?db=core;g=ENSG00000233429;r=7:27096124-27099966;t=ENST00000429611) \n",
        "- Gene name is \"HOTAIRM1: HOXA Transcript Antisense RNA, myeloid-specific 1\".\n",
        "The name tells us this lncRNA is transcribed from the opposite strand \n",
        "(reverse complement) of the protein-coding HOXA gene.\n",
        "- Genome location is 7p15.2 (short arm of chr 7)\n",
        "\n",
        "### mRNA APOA\n",
        "- GenCode annotation: chr11\tHAVANA\ttranscript\t116835751\t116837586\t.\t-\t.\tID=ENST00000375320.5;Parent=ENSG00000118137.10;gene_id=ENSG00000118137.10;transcript_id=ENST00000375320.5;gene_type=protein_coding;gene_name=APOA1;transcript_type=protein_coding;transcript_name=APOA1-203;level=2;protein_id=ENSP00000364469.1;transcript_support_level=3;hgnc_id=HGNC:600;tag=alternative_5_UTR,basic,appris_principal_1,CCDS;ccdsid=CCDS8378.1;havana_gene=OTTHUMG00000046112.5;havana_transcript=OTTHUMT00000142222.1\n",
        "- Gene [page](https://useast.ensembl.org/Homo_sapiens/Gene/Summary?db=core;g=ENSG00000118137;r=11:116835751-116837622;t=ENST00000375320)\n",
        "at Ensemble says \"This gene has 5 transcripts.\"\n",
        "- This transcript has length 940: [ENST00000375320](https://useast.ensembl.org/Homo_sapiens/Transcript/Summary?db=core;g=ENSG00000118137;r=11:116835751-116837622;t=ENST00000375320)\n",
        "- Gene name is Apolipoprotein A1\n",
        "- The protein from the Apolipoprotein A1 gene is implicated in Alzheimer's disease.\n",
        "\n",
        "### LncRNA APOA1-AS\n",
        "- GenCode annotation: chr11\tHAVANA\ttranscript\t116836166\t116856018\t.\t+\t.\tID=ENST00000669664.1;Parent=ENSG00000235910.2;gene_id=ENSG00000235910.2;transcript_id=ENST00000669664.1;gene_type=lncRNA;gene_name=APOA1-AS;transcript_type=lncRNA;transcript_name=APOA1-AS-202;level=2;hgnc_id=HGNC:40079;tag=basic,Ensembl_canonical,TAGENE;havana_gene=OTTHUMG00000150649.2;havana_transcript=OTTHUMT00000524029.1\n",
        "- Gene [page](https://useast.ensembl.org/Homo_sapiens/Gene/Summary?db=core;g=ENSG00000235910;r=11:116836166-116856018;t=ENST00000669664)\n",
        "at Ensembl says \"This gene has 2 transcripts.\"\n",
        "- This transcript has length 956: [ENST00000669664](https://useast.ensembl.org/Homo_sapiens/Transcript/Summary?db=core;g=ENSG00000235910;r=11:116836166-116856018;t=ENST00000669664)\n",
        "- Gene name is \"APOA1 antisense RNA\".\n",
        "The name tells us this lncRNA is transcribed from the opposite strand\n",
        "(reverse complement) of the protein-coding APOA1 gene.\n",
        "- Genome location is 11q23.3 (long arm of chr 11)\n"
      ]
    },
    {
      "cell_type": "code",
      "metadata": {
        "id": "z5yutJGooE_y"
      },
      "source": [
        "selectedX=[]\n",
        "selectedY=[]\n",
        "#>ENST00000222718.7|ENSG00000105996.7|OTTHUMG00000023208.7|OTTHUMT00000358508.4|HOXA2-201|HOXA2|1686|UTR5:1-183|CDS:184-1314|UTR3:1315-1686|\n",
        "selectedX.append('AGTTTAATAGTAGCGCGGTCCCCATACGGCTGTAATCAGTGAATTAGAAAAAAAACACCCTAGCAGCGATATTCTATGATAGATTTTTTTTCCTCTGCGCTCGCCTTTTTCCTAGGCCTTGCCCCCCCAAAGCCCCTCCAAAAGAGGGAACTTTTTCTCTGAGGGGGCTCCAAGGAGAAGGCCATGAATTACGAATTTGAGCGAGAGATTGGTTTTATCAATAGCCAGCCGTCGCTCGCTGAGTGCCTGACATCTTTTCCCCCTGTCGCTGATACATTTCAAAGTTCATCAATCAAGACCTCGACGCTTTCACACTCGACACTGATTCCTCCTCCTTTTGAGCAGACCATTCCCAGCCTGAACCCCGGCAGTCACCCTCGCCACGGCGCTGGCGGCCGCCCCAAGCCGAGCCCCGCGGGCAGCCGCGGCAGCCCGGTGCCCGCCGGCGCCCTGCAGCCGCCCGAGTACCCCTGGATGAAGGAGAAGAAGGCGGCCAAGAAAACCGCACTTCTGCCGGCCGCCGCCGCCGCCGCCACCGCCGCAGCCACCGGCCCTGCTTGCCTCAGCCACAAAGAATCCCTGGAAATCGCCGATGGCAGCGGCGGGGGATCGCGGCGCCTGAGAACTGCTTACACCAACACACAGCTTCTAGAGCTGGAAAAAGAATTTCATTTCAACAAGTACCTTTGCAGACCCCGAAGGGTGGAGATTGCAGCGCTGCTGGATTTGACTGAGAGACAAGTGAAAGTGTGGTTTCAGAACCGGAGGATGAAGCACAAGAGGCAGACCCAGTGCAAGGAAAACCAAAACAGCGAAGGGAAATGTAAAAGCCTTGAGGACTCCGAGAAAGTAGAGGAGGACGAGGAAGAGAAGACGCTCTTTGAGCAAGCCCTTAGCGTCTCTGGGGCCCTTCTGGAGAGGGAAGGCTACACTTTTCAGCAAAATGCCCTCTCTCAGCAGCAGGCTCCCAATGGACACAATGGCGACTCCCAAAGTTTCCCAGTCTCGCCTTTAACCAGCAATGAGAAAAATCTGAAACATTTTCAGCACCAGTCACCCACTGTTCCCAACTGCTTGTCAACAATGGGCCAGAACTGTGGAGCTGGCCTAAACAATGACAGTCCTGAGGCCCTTGAGGTCCCCTCTTTGCAGGACTTTAGCGTTTTCTCCACAGATTCCTGCCTGCAGCTTTCAGATGCAGTTTCACCCAGTTTGCCAGGTTCCCTCGACAGTCCCGTAGATATTTCAGCTGACAGCTTAGACTTTTTTACAGACACACTCACCACAATCGACTTGCAGCATCTGAATTACTAAAAACATTAAAGCAAAACAAAGCATCACCAAACAAAAACTCCTTTGACCAGGTGGTTTTGCCTTCTTTTATTTGGGAGTTTATTTTTTATTTTCTTCTTGACCTACCCCTTCCCTCCTTTAAGTGTTGAGGATTTTCTGTTTAGTGATTCCCTGACCCAGTTTCAAACAGAGCCATCTTTTACAGATTATTTTGGAGTTTTAGTTGTTTTAAACCTAACTCAACAACCCTTTATGTGATTCCTGAGAGCAGTATGAGGCCTGCAAGAAAGTGATCATATAATTGTATCTTCACTTTCTTTTTATTTTTGTATTACATTGGGATGCATTGTCATGCATATTTTTTGTAGAATAAATTCTCCTTTGCTATAAGTA')\n",
        "selectedY.append(1) # coding\n",
        "#>ENST00000429611.7|ENSG00000233429.9|OTTHUMG00000158089.4|OTTHUMT00000358453.1|HOTAIRM1-203|HOTAIRM1|722|\n",
        "selectedX.append('CACCGTTTTAGTGGCATTTAAATCCCCGGCGCTCCGCCGTCTAGGTGACGCGCAGTCGCCCCCCCAGGCAGCCTAGGCGGCGGCAGCTGCTGCGGCGACTGCAAAGGCCGATTTGGAGTGCTGGAGCGAAGAAGAGCAAAAGCTGCGTTCTGCGCGCGCCCGACTCCGCTGCCCGCCCCGCCAGGCCTCCGGGAGGTGGGGGCTGGGAGGCGTCCCCCGCTCCCGCCCCCTCCCCACCGTTCAATGAAAGATGAACTGGCGAGAGGACGAATCGCATCCAGGAGCTGCGCAGCCCTGGCCGCTGCCGGGACGCCCTGCTCCGCGCTGAGCTTGGGGCCAGAAACCAGCCATAGTCCCCACACTCCGCCGCCGCAGCTGAGATTTAGCGGAGGAAGGGGCGAGGGAAGGTAGGGAGCAAACCTATGAAGAAACATCGCGTTGTCATTGGAACTTCCAAGCCTTTGCTGTTAAGAGCCAGGTTCTTAAATCAACCCGCCCCACACACATGTTGCTTACATGCTGCGTTTTCTCACGGTCTGTTTTGCCTGAACCCATCAACAGCTGGGAGATTAATCAACCACACTGAAAATGTGGAGGGATTTATGGGGGAGGGGGTTGAAATGTGGGTGTTTGAAACAAAAGTGTATAAACAAATGAATTGTTGATAACTTAGTTATTGACCTGGAGACTGGTAGCTTATTAAAGAAACTCCGTGTTACTCA')\n",
        "selectedY.append(0) # noncoding\n",
        "#>ENST00000375320.5|ENSG00000118137.10|OTTHUMG00000046112.5|OTTHUMT00000142222.1|APOA1-203|APOA1|940|UTR5:1-79|CDS:80-883|UTR3:884-940|\n",
        "selectedX.append('CCCGGTCACTCTGGCTCCCCAGCTCAAGGTTCAGGCCTTGCCCCAGGCCGGGCCTCTGGGTCCCCCACGGCCCTTCAGGATGAAAGCTGCGGTGCTGACCTTGGCCGTGCTCTTCCTGACGGGGAGCCAGGCTCGGCATTTCTGGCAGCAAGATGAACCCCCCCAGAGCCCCTGGGATCGAGTGAAGGACCTGGCCACTGTGTACGTGGATGTGCTCAAAGACAGCGGCAGAGACTATGTGTCCCAGTTTGAAGGCTCCGCCTTGGGAAAACAGCTAAACCTAAAGCTCCTTGACAACTGGGACAGCGTGACCTCCACCTTCAGCAAGCTGCGCGAACAGCTCGGCCCTGTGACCCAGGAGTTCTGGGATAACCTGGAAAAGGAGACAGAGGGCCTGAGGCAGGAGATGAGCAAGGATCTGGAGGAGGTGAAGGCCAAGGTGCAGCCCTACCTGGACGACTTCCAGAAGAAGTGGCAGGAGGAGATGGAGCTCTACCGCCAGAAGGTGGAGCCGCTGCGCGCAGAGCTCCAAGAGGGCGCGCGCCAGAAGCTGCACGAGCTGCAAGAGAAGCTGAGCCCACTGGGCGAGGAGATGCGCGACCGCGCGCGCGCCCATGTGGACGCGCTGCGCACGCATCTGGCCCCCTACAGCGACGAGCTGCGCCAGCGCTTGGCCGCGCGCCTTGAGGCTCTCAAGGAGAACGGCGGCGCCAGACTGGCCGAGTACCACGCCAAGGCCACCGAGCATCTGAGCACGCTCAGCGAGAAGGCCAAGCCCGCGCTCGAGGACCTCCGCCAAGGCCTGCTGCCCGTGCTGGAGAGCTTCAAGGTCAGCTTCCTGAGCGCTCTCGAGGAGTACACTAAGAAGCTCAACACCCAGTGAGGCGCCCGCCGCCGCCCCCCTTCCCGGTGCTCAGAATAAACGTTTCCAAAGTGGGAA')\n",
        "selectedY.append(1) # coding\n",
        "#>ENST00000669664.1|ENSG00000235910.2|OTTHUMG00000150649.2|OTTHUMT00000524029.1|APOA1-AS-202|APOA1-AS|956|\n",
        "selectedX.append('TCTGCGCGCAGCGGCTCCACCTTCTGGCGGTAGAGCTCCATCTCCTCCTGCCACTTCTTCTGGAAGTCGTCCAGGGTGGCAGGCAGGGAGATTACGGACAGCATGGGGCATGTGAAATCCTGACACTTCTACAAATTGGGAAGAAACCTTTGGCATGCTGCCTGCTTAGTGCTCTCACAGTGCCTGGCCTCATACTGGCTGGTGGCAAATCGCCATCAAGGAAATAGATCCAAATGGCAAACCTTCTTCATCCACCAGGACCCAACCCACAGGCTACTTATTGCTGGAAACCTACGTTGTTCCTTGGATTGAAGTAATCTCTCCCTCCTCTGGTGCGCCCACAGCACTTGCACCAACAGTGGGTACTCAACAGACTAGCGTGCCTGCCGAAGAAGGGGTCCTCTGACAATCAGGGGACAATGGGGAATTATGCTCTCCAGACTTTCTACACACACAAGTCACACAGGAAGGAAGGTAAAGAGAAACTAGAGAAAATAATTTTTGAAGAAAAACATTTCAGGAAGTATTGAAAGTACACGGTAACTCAGCCTGGGGCAGGGGTGGAGGGCAGCAGCACTGTTTGCTGCAGCTATGCTCCTTCCTCAGTGCCCTGCACACCCGGGACTTGCTCGGTGAGCATCTCTCGTGTCAGTGACAGCTAGTGTGAGTACTCTTATGTTCAGCTGCCCCTGACTACCTCTTGACTTTGGGGACAAGTTACTTAATCTCTGTGCCTCCGCTGTTTCACTGGTAAATGGGAATAAGAGTTGGTTATTCTAGGGTTGTAGGGTTGTTGTAAGGATTAAATGAATCCGTATGTGAACAGCATTTGGTGCCTGGCACATGTGAGCTCAGCCGGGCGCGGTGGCTCATGCCTGTAATCCCAGCACTTTGGGAGGCCAAGGCGTGCGGATCACGAGGTCAGGAGATCGAGACCATCCTGGCTAACACGGTGA')\n",
        "selectedY.append(0) # noncoding\n"
      ],
      "execution_count": 2,
      "outputs": []
    },
    {
      "cell_type": "code",
      "metadata": {
        "id": "VQY7aTj29Kch"
      },
      "source": [
        "import numpy as np\n",
        "import pandas as pd\n",
        "import matplotlib.pyplot as plt\n",
        "from sklearn.utils import shuffle\n",
        "from sklearn.model_selection import KFold\n",
        "from sklearn.model_selection import cross_val_score\n",
        "from sklearn.metrics import roc_curve\n",
        "from sklearn.metrics import roc_auc_score\n",
        "\n",
        "from keras.models import Sequential\n",
        "from keras.layers import Conv2D,MaxPooling2D\n",
        "from keras.layers import Dense,Embedding,Dropout\n",
        "from keras.layers import Flatten,TimeDistributed\n",
        "from keras.losses import BinaryCrossentropy\n",
        "from keras.callbacks import ModelCheckpoint\n",
        "from keras.models import load_model"
      ],
      "execution_count": 3,
      "outputs": []
    },
    {
      "cell_type": "code",
      "metadata": {
        "colab": {
          "base_uri": "https://localhost:8080/"
        },
        "id": "xUxEB53HI_sk",
        "outputId": "7e09bd2b-d18e-49f4-d35d-c82be5064ef7"
      },
      "source": [
        "import sys\n",
        "IN_COLAB = False\n",
        "try:\n",
        "    from google.colab import drive\n",
        "    IN_COLAB = True\n",
        "except:\n",
        "    pass\n",
        "if IN_COLAB:\n",
        "    print(\"On Google CoLab, mount cloud-local file, get our code from GitHub.\")\n",
        "    PATH='/content/drive/'\n",
        "    #drive.mount(PATH,force_remount=True)  # hardly ever need this\n",
        "    drive.mount(PATH)    # Google will require login credentials\n",
        "    DATAPATH=PATH+'My Drive/data/'  # must end in \"/\"\n",
        "    import requests\n",
        "    r = requests.get('https://raw.githubusercontent.com/ShepherdCode/Soars2021/master/SimTools/RNA_describe.py')\n",
        "    with open('RNA_describe.py', 'w') as f:\n",
        "        f.write(r.text)  \n",
        "    from RNA_describe import ORF_counter\n",
        "    r = requests.get('https://raw.githubusercontent.com/ShepherdCode/Soars2021/master/SimTools/GenCodeTools.py')\n",
        "    with open('GenCodeTools.py', 'w') as f:\n",
        "        f.write(r.text)  \n",
        "    from GenCodeTools import GenCodeLoader\n",
        "    r = requests.get('https://raw.githubusercontent.com/ShepherdCode/Soars2021/master/SimTools/KmerTools.py')\n",
        "    with open('KmerTools.py', 'w') as f:\n",
        "        f.write(r.text)  \n",
        "    from KmerTools import KmerTools\n",
        "    r = requests.get('https://raw.githubusercontent.com/ShepherdCode/Soars2021/master/SimTools/plot_generator.py')\n",
        "    with open ('plot_generator.py', 'w') as f:\n",
        "        f.write(r.text)\n",
        "    from plot_generator import PlotGenerator\n",
        "else:\n",
        "        print(\"CoLab not working. On my PC, use relative paths.\")\n",
        "        DATAPATH='data/'  # must end in \"/\"\n",
        "        sys.path.append(\"..\") # append parent dir in order to use sibling dirs\n",
        "        from SimTools.RNA_describe import ORF_counter\n",
        "        from SimTools.GenCodeTools import GenCodeLoader\n",
        "        from SimTools.KmerTools import KmerTools\n",
        "        from SimTools.plot_generator import PlotGenerator\n",
        "BESTMODELPATH=DATAPATH+\"BestModel\"  # saved on cloud instance and lost after logout\n",
        "LASTMODELPATH=DATAPATH+\"LastModel\"  # saved on Google Drive but requires login"
      ],
      "execution_count": 4,
      "outputs": [
        {
          "output_type": "stream",
          "text": [
            "On Google CoLab, mount cloud-local file, get our code from GitHub.\n",
            "Mounted at /content/drive/\n"
          ],
          "name": "stdout"
        }
      ]
    },
    {
      "cell_type": "markdown",
      "metadata": {
        "id": "8buAhZRfI_sp"
      },
      "source": [
        "## Data Load"
      ]
    },
    {
      "cell_type": "code",
      "metadata": {
        "colab": {
          "base_uri": "https://localhost:8080/"
        },
        "id": "h94xptH1tI82",
        "outputId": "b326be2f-9a69-480f-e083-38dd831ce5ff"
      },
      "source": [
        "PC_TRAINS=8000\n",
        "NC_TRAINS=8000\n",
        "PC_TESTS=2000\n",
        "NC_TESTS=2000   \n",
        "PC_LENS=(200,4000)\n",
        "NC_LENS=(200,4000)   # Wen used 3500 for hyperparameter, 3000 for train\n",
        "PC_FILENAME='gencode.v38.pc_transcripts.fa.gz'\n",
        "NC_FILENAME='gencode.v38.lncRNA_transcripts.fa.gz'\n",
        "PC_FULLPATH=DATAPATH+PC_FILENAME\n",
        "NC_FULLPATH=DATAPATH+NC_FILENAME\n",
        "MAX_K = 3 \n",
        "# With K={1,2,3}, num K-mers is 4^3 + 4^2 + 4^1 = 84.\n",
        "# Wen specified 17x20 which is impossible.\n",
        "# The factors of 84 are 1, 2, 3, 4, 6, 7, 12, 14, 21, 28, 42 and 84.\n",
        "FRQ_CNT=84\n",
        "ROWS=7\n",
        "COLS=FRQ_CNT//ROWS\n",
        "SHAPE2D = (ROWS,COLS,1)\n",
        "EPOCHS=50 # 1000 # 200\n",
        "SPLITS=5\n",
        "FOLDS=5   # make this 5 for serious testing\n",
        "show_time()"
      ],
      "execution_count": 5,
      "outputs": [
        {
          "output_type": "stream",
          "text": [
            "2021-08-09 17:27:12 UTC\n"
          ],
          "name": "stdout"
        }
      ]
    },
    {
      "cell_type": "code",
      "metadata": {
        "colab": {
          "base_uri": "https://localhost:8080/"
        },
        "id": "VNnPagXjtI85",
        "outputId": "dbc92e1a-2ddc-41d7-d8e0-a91c2b01dea1"
      },
      "source": [
        "loader=GenCodeLoader()\n",
        "loader.set_label(1)\n",
        "loader.set_check_utr(True)\n",
        "pcdf=loader.load_file(PC_FULLPATH)\n",
        "print(\"PC seqs loaded:\",len(pcdf))\n",
        "loader.set_label(0)\n",
        "loader.set_check_utr(False)\n",
        "ncdf=loader.load_file(NC_FULLPATH)\n",
        "print(\"NC seqs loaded:\",len(ncdf))\n",
        "show_time()"
      ],
      "execution_count": 6,
      "outputs": [
        {
          "output_type": "stream",
          "text": [
            "PC seqs loaded: 70825\n",
            "NC seqs loaded: 48752\n",
            "2021-08-09 17:27:18 UTC\n"
          ],
          "name": "stdout"
        }
      ]
    },
    {
      "cell_type": "code",
      "metadata": {
        "colab": {
          "base_uri": "https://localhost:8080/"
        },
        "id": "ShtPw_fGtI9E",
        "outputId": "661f3ce1-1e8a-475a-e519-1fa2d0932f3b"
      },
      "source": [
        "def dataframe_length_filter(df,low_high):\n",
        "    (low,high)=low_high\n",
        "    # The pandas query language is strange, \n",
        "    # but this is MUCH faster than loop & drop.\n",
        "    return df[ (df['seqlen']>=low) & (df['seqlen']<=high) ]\n",
        "def dataframe_extract_sequence(df):\n",
        "    return df['sequence'].tolist()\n",
        "\n",
        "pc_all = dataframe_extract_sequence(\n",
        "    dataframe_length_filter(pcdf,PC_LENS))\n",
        "nc_all = dataframe_extract_sequence(\n",
        "    dataframe_length_filter(ncdf,NC_LENS))\n",
        "\n",
        "show_time()\n",
        "print(\"PC seqs pass filter:\",len(pc_all))\n",
        "print(\"NC seqs pass filter:\",len(nc_all))\n",
        "# Garbage collection to reduce RAM footprint\n",
        "pcdf=None\n",
        "ncdf=None"
      ],
      "execution_count": 7,
      "outputs": [
        {
          "output_type": "stream",
          "text": [
            "2021-08-09 17:27:18 UTC\n",
            "PC seqs pass filter: 55381\n",
            "NC seqs pass filter: 46919\n"
          ],
          "name": "stdout"
        }
      ]
    },
    {
      "cell_type": "markdown",
      "metadata": {
        "id": "CCNh_FZaI_sv"
      },
      "source": [
        "## Data Prep"
      ]
    },
    {
      "cell_type": "code",
      "metadata": {
        "colab": {
          "base_uri": "https://localhost:8080/"
        },
        "id": "V91rP2osI_s1",
        "outputId": "f7b2e4bc-c95e-4862-87b6-d8850c3945d2"
      },
      "source": [
        "pc_train=pc_all[:PC_TRAINS] \n",
        "nc_train=nc_all[:NC_TRAINS]\n",
        "print(\"PC train, NC train:\",len(pc_train),len(nc_train))\n",
        "pc_test=pc_all[PC_TRAINS:PC_TRAINS+PC_TESTS] \n",
        "nc_test=nc_all[NC_TRAINS:NC_TRAINS+PC_TESTS]\n",
        "print(\"PC test, NC test:\",len(pc_test),len(nc_test))\n",
        "# Garbage collection\n",
        "pc_all=None\n",
        "nc_all=None"
      ],
      "execution_count": 8,
      "outputs": [
        {
          "output_type": "stream",
          "text": [
            "PC train, NC train: 8000 8000\n",
            "PC test, NC test: 2000 2000\n"
          ],
          "name": "stdout"
        }
      ]
    },
    {
      "cell_type": "code",
      "metadata": {
        "id": "FfyPeInGI_s4"
      },
      "source": [
        "def prepare_x_and_y(seqs1,seqs0):\n",
        "    len1=len(seqs1)\n",
        "    len0=len(seqs0)\n",
        "    total=len1+len0\n",
        "    L1=np.ones(len1,dtype=np.int8)\n",
        "    L0=np.zeros(len0,dtype=np.int8)\n",
        "    S1 = np.asarray(seqs1)\n",
        "    S0 = np.asarray(seqs0)\n",
        "    all_labels = np.concatenate((L1,L0))\n",
        "    all_seqs = np.concatenate((S1,S0))  \n",
        "    # interleave (uses less RAM than shuffle)\n",
        "    for i in range(0,len0):\n",
        "        all_labels[i*2] = L0[i]\n",
        "        all_seqs[i*2] = S0[i]\n",
        "        all_labels[i*2+1] = L1[i]\n",
        "        all_seqs[i*2+1] = S1[i]\n",
        "    return all_seqs,all_labels  # use this to test unshuffled\n",
        "    X,y = shuffle(all_seqs,all_labels) # sklearn.utils.shuffle \n",
        "    return X,y\n"
      ],
      "execution_count": 9,
      "outputs": []
    },
    {
      "cell_type": "code",
      "metadata": {
        "colab": {
          "base_uri": "https://localhost:8080/"
        },
        "id": "vpgzXXAao8sj",
        "outputId": "d0011159-b671-43ee-9102-d2da948fbace"
      },
      "source": [
        "Xseq,y=prepare_x_and_y(pc_train,nc_train)\n",
        "#print(Xseq[:3])\n",
        "#print(y[:3])\n",
        "show_time()"
      ],
      "execution_count": 10,
      "outputs": [
        {
          "output_type": "stream",
          "text": [
            "2021-08-09 17:27:19 UTC\n"
          ],
          "name": "stdout"
        }
      ]
    },
    {
      "cell_type": "code",
      "metadata": {
        "colab": {
          "base_uri": "https://localhost:8080/"
        },
        "id": "LWLixZOfI_s7",
        "outputId": "24fe8a18-9d47-44fc-8cac-2714cd316ef7"
      },
      "source": [
        "def seqs_to_kmer_freqs(seqs,max_K):\n",
        "    tool = KmerTools()  # from SimTools\n",
        "    collection = []\n",
        "    for seq in seqs:\n",
        "        counts = tool.make_dict_upto_K(max_K)\n",
        "        # Last param should be True when using Harvester.\n",
        "        counts = tool.update_count_one_K(counts,max_K,seq,True)\n",
        "        # Given counts for K=3, Harvester fills in counts for K=1,2.\n",
        "        counts = tool.harvest_counts_from_K(counts,max_K)\n",
        "        fdict = tool.count_to_frequency(counts,max_K)\n",
        "        freqs = list(fdict.values())\n",
        "        collection.append(freqs)\n",
        "    return np.asarray(collection)\n",
        "Xfrq=seqs_to_kmer_freqs(Xseq,MAX_K)\n",
        "# Garbage collection\n",
        "Xseq = None\n",
        "show_time()"
      ],
      "execution_count": 11,
      "outputs": [
        {
          "output_type": "stream",
          "text": [
            "2021-08-09 17:27:31 UTC\n"
          ],
          "name": "stdout"
        }
      ]
    },
    {
      "cell_type": "code",
      "metadata": {
        "colab": {
          "base_uri": "https://localhost:8080/"
        },
        "id": "WBBY4rH3cwT2",
        "outputId": "a19de2d3-05cf-43e8-a601-095ed1cc3c49"
      },
      "source": [
        "def reshape(frequency_matrix):\n",
        "    seq_cnt,frq_cnt=Xfrq.shape \n",
        "    # CNN inputs require a last dimension = numbers per pixel.\n",
        "    # For RGB images it is 3.\n",
        "    # For our frequency matrix it is 1.\n",
        "    new_matrix = frequency_matrix.reshape(seq_cnt,ROWS,COLS,1)\n",
        "    return new_matrix\n",
        "\n",
        "print(\"Xfrq\")\n",
        "print(\"Xfrq type\",type(Xfrq))\n",
        "print(\"Xfrq shape\",Xfrq.shape)\n",
        "Xfrq2D = reshape(Xfrq)\n",
        "print(\"Xfrq2D shape\",Xfrq2D.shape)"
      ],
      "execution_count": 12,
      "outputs": [
        {
          "output_type": "stream",
          "text": [
            "Xfrq\n",
            "Xfrq type <class 'numpy.ndarray'>\n",
            "Xfrq shape (16000, 84)\n",
            "Xfrq2D shape (16000, 7, 12, 1)\n"
          ],
          "name": "stdout"
        }
      ]
    },
    {
      "cell_type": "markdown",
      "metadata": {
        "id": "dJ4XhrzGI_s-"
      },
      "source": [
        "## Build and train a neural network"
      ]
    },
    {
      "cell_type": "code",
      "metadata": {
        "colab": {
          "base_uri": "https://localhost:8080/"
        },
        "id": "o5NPW7zKI_tC",
        "outputId": "23fd2581-c443-436c-c6d5-fb8b1f5de48a"
      },
      "source": [
        "def make_DNN(shape):\n",
        "    dt=np.float32\n",
        "    print(\"make_DNN\")\n",
        "    print(\"input shape:\",shape)\n",
        "    WIDTH=(3,3)\n",
        "    STRIDE=(1,1)\n",
        "    dnn = Sequential()\n",
        "    dnn.add(Conv2D(filters=32,kernel_size=WIDTH,strides=STRIDE,activation=\"relu\",padding=\"same\",\n",
        "            input_shape=shape))\n",
        "    dnn.add(Conv2D(filters=64,kernel_size=WIDTH,strides=STRIDE,activation=\"relu\",padding=\"same\"))\n",
        "    dnn.add(MaxPooling2D())\n",
        "    dnn.add(Flatten())\n",
        "    dnn.add(Dropout(0.25))\n",
        "    dnn.add(Dense(128,activation=\"sigmoid\",dtype=dt)) \n",
        "    dnn.add(Dropout(0.50))\n",
        "    dnn.add(Dense(1,activation=\"sigmoid\",dtype=dt))   \n",
        "    dnn.compile(optimizer='adam',    # adadelta doesn't work as well\n",
        "                loss=BinaryCrossentropy(from_logits=False),\n",
        "                metrics=['accuracy'])   # add to default metrics=loss\n",
        "    dnn.build(input_shape=shape) \n",
        "    return dnn\n",
        "model = make_DNN(SHAPE2D)\n",
        "print(model.summary())"
      ],
      "execution_count": 13,
      "outputs": [
        {
          "output_type": "stream",
          "text": [
            "make_DNN\n",
            "input shape: (7, 12, 1)\n",
            "Model: \"sequential\"\n",
            "_________________________________________________________________\n",
            "Layer (type)                 Output Shape              Param #   \n",
            "=================================================================\n",
            "conv2d (Conv2D)              (None, 7, 12, 32)         320       \n",
            "_________________________________________________________________\n",
            "conv2d_1 (Conv2D)            (None, 7, 12, 64)         18496     \n",
            "_________________________________________________________________\n",
            "max_pooling2d (MaxPooling2D) (None, 3, 6, 64)          0         \n",
            "_________________________________________________________________\n",
            "flatten (Flatten)            (None, 1152)              0         \n",
            "_________________________________________________________________\n",
            "dropout (Dropout)            (None, 1152)              0         \n",
            "_________________________________________________________________\n",
            "dense (Dense)                (None, 128)               147584    \n",
            "_________________________________________________________________\n",
            "dropout_1 (Dropout)          (None, 128)               0         \n",
            "_________________________________________________________________\n",
            "dense_1 (Dense)              (None, 1)                 129       \n",
            "=================================================================\n",
            "Total params: 166,529\n",
            "Trainable params: 166,529\n",
            "Non-trainable params: 0\n",
            "_________________________________________________________________\n",
            "None\n"
          ],
          "name": "stdout"
        }
      ]
    },
    {
      "cell_type": "code",
      "metadata": {
        "id": "7xBalIrXrEAS"
      },
      "source": [
        "def do_cross_validation(X,y,shape):\n",
        "    cv_scores = []\n",
        "    fold=0\n",
        "    mycallbacks = [ModelCheckpoint(\n",
        "        filepath=BESTMODELPATH, save_best_only=True, \n",
        "        monitor='val_accuracy', mode='max')]   \n",
        "    # When shuffle=True, the valid indices are a random subset.\n",
        "    splitter = KFold(n_splits=SPLITS,shuffle=True) \n",
        "    model = None\n",
        "    for train_index,valid_index in splitter.split(X):\n",
        "        if fold < FOLDS:\n",
        "            fold += 1\n",
        "            X_train=X[train_index] # inputs for training\n",
        "            y_train=y[train_index] # labels for training\n",
        "            X_valid=X[valid_index] # inputs for validation\n",
        "            y_valid=y[valid_index] # labels for validation\n",
        "            print(\"MODEL\")\n",
        "            # Call constructor on each CV. Else, continually improves the same model.\n",
        "            model = model = make_DNN(shape)\n",
        "            print(\"FIT\")  # model.fit() implements learning\n",
        "            start_time=time.time()\n",
        "            history=model.fit(X_train, y_train, \n",
        "                    epochs=EPOCHS, \n",
        "                    verbose=1,  # ascii art while learning\n",
        "                    callbacks=mycallbacks,   # called at end of each epoch\n",
        "                    validation_data=(X_valid,y_valid))\n",
        "            end_time=time.time()\n",
        "            elapsed_time=(end_time-start_time)                        \n",
        "            print(\"Fold %d, %d epochs, %d sec\"%(fold,EPOCHS,elapsed_time))\n",
        "            # print(history.history.keys())  # all these keys will be shown in figure\n",
        "            pd.DataFrame(history.history).plot(figsize=(8,5))\n",
        "            plt.grid(True)\n",
        "            plt.gca().set_ylim(0,1) # any losses > 1 will be off the scale\n",
        "            plt.show()\n",
        "    return model  # parameters at end of training"
      ],
      "execution_count": 14,
      "outputs": []
    },
    {
      "cell_type": "code",
      "metadata": {
        "colab": {
          "base_uri": "https://localhost:8080/",
          "height": 1000
        },
        "id": "BM6UjBzrrEAV",
        "outputId": "98847c55-917c-4e43-c4cc-b7072a1c531c"
      },
      "source": [
        "show_time()\n",
        "last_model = do_cross_validation(Xfrq2D,y,SHAPE2D)\n",
        "last_model.save(LASTMODELPATH)"
      ],
      "execution_count": 15,
      "outputs": [
        {
          "output_type": "stream",
          "text": [
            "2021-08-09 17:27:37 UTC\n",
            "MODEL\n",
            "make_DNN\n",
            "input shape: (7, 12, 1)\n",
            "FIT\n",
            "Epoch 1/50\n",
            "400/400 [==============================] - 46s 5ms/step - loss: 0.7191 - accuracy: 0.5409 - val_loss: 0.6236 - val_accuracy: 0.6419\n",
            "INFO:tensorflow:Assets written to: /content/drive/My Drive/data/BestModel/assets\n",
            "Epoch 2/50\n",
            "400/400 [==============================] - 1s 3ms/step - loss: 0.6249 - accuracy: 0.6531 - val_loss: 0.5698 - val_accuracy: 0.7059\n",
            "INFO:tensorflow:Assets written to: /content/drive/My Drive/data/BestModel/assets\n",
            "Epoch 3/50\n",
            "400/400 [==============================] - 1s 3ms/step - loss: 0.5735 - accuracy: 0.7087 - val_loss: 0.5225 - val_accuracy: 0.7425\n",
            "INFO:tensorflow:Assets written to: /content/drive/My Drive/data/BestModel/assets\n",
            "Epoch 4/50\n",
            "400/400 [==============================] - 1s 3ms/step - loss: 0.5130 - accuracy: 0.7570 - val_loss: 0.4727 - val_accuracy: 0.7791\n",
            "INFO:tensorflow:Assets written to: /content/drive/My Drive/data/BestModel/assets\n",
            "Epoch 5/50\n",
            "400/400 [==============================] - 1s 4ms/step - loss: 0.4743 - accuracy: 0.7785 - val_loss: 0.4219 - val_accuracy: 0.8144\n",
            "INFO:tensorflow:Assets written to: /content/drive/My Drive/data/BestModel/assets\n",
            "Epoch 6/50\n",
            "400/400 [==============================] - 1s 3ms/step - loss: 0.4360 - accuracy: 0.8065 - val_loss: 0.3971 - val_accuracy: 0.8241\n",
            "INFO:tensorflow:Assets written to: /content/drive/My Drive/data/BestModel/assets\n",
            "Epoch 7/50\n",
            "400/400 [==============================] - 1s 3ms/step - loss: 0.4276 - accuracy: 0.8055 - val_loss: 0.3905 - val_accuracy: 0.8331\n",
            "INFO:tensorflow:Assets written to: /content/drive/My Drive/data/BestModel/assets\n",
            "Epoch 8/50\n",
            "400/400 [==============================] - 1s 3ms/step - loss: 0.3966 - accuracy: 0.8250 - val_loss: 0.3857 - val_accuracy: 0.8313\n",
            "Epoch 9/50\n",
            "400/400 [==============================] - 1s 3ms/step - loss: 0.3911 - accuracy: 0.8310 - val_loss: 0.3758 - val_accuracy: 0.8416\n",
            "INFO:tensorflow:Assets written to: /content/drive/My Drive/data/BestModel/assets\n",
            "Epoch 10/50\n",
            "400/400 [==============================] - 1s 4ms/step - loss: 0.3709 - accuracy: 0.8444 - val_loss: 0.3726 - val_accuracy: 0.8331\n",
            "Epoch 11/50\n",
            "400/400 [==============================] - 1s 3ms/step - loss: 0.3701 - accuracy: 0.8401 - val_loss: 0.3632 - val_accuracy: 0.8381\n",
            "Epoch 12/50\n",
            "400/400 [==============================] - 1s 3ms/step - loss: 0.3633 - accuracy: 0.8433 - val_loss: 0.3782 - val_accuracy: 0.8316\n",
            "Epoch 13/50\n",
            "400/400 [==============================] - 1s 3ms/step - loss: 0.3668 - accuracy: 0.8403 - val_loss: 0.3482 - val_accuracy: 0.8494\n",
            "INFO:tensorflow:Assets written to: /content/drive/My Drive/data/BestModel/assets\n",
            "Epoch 14/50\n",
            "400/400 [==============================] - 1s 4ms/step - loss: 0.3516 - accuracy: 0.8466 - val_loss: 0.3421 - val_accuracy: 0.8525\n",
            "INFO:tensorflow:Assets written to: /content/drive/My Drive/data/BestModel/assets\n",
            "Epoch 15/50\n",
            "400/400 [==============================] - 1s 3ms/step - loss: 0.3532 - accuracy: 0.8446 - val_loss: 0.3466 - val_accuracy: 0.8509\n",
            "Epoch 16/50\n",
            "400/400 [==============================] - 1s 3ms/step - loss: 0.3494 - accuracy: 0.8512 - val_loss: 0.3421 - val_accuracy: 0.8553\n",
            "INFO:tensorflow:Assets written to: /content/drive/My Drive/data/BestModel/assets\n",
            "Epoch 17/50\n",
            "400/400 [==============================] - 1s 3ms/step - loss: 0.3492 - accuracy: 0.8475 - val_loss: 0.3472 - val_accuracy: 0.8509\n",
            "Epoch 18/50\n",
            "400/400 [==============================] - 1s 4ms/step - loss: 0.3393 - accuracy: 0.8583 - val_loss: 0.3393 - val_accuracy: 0.8500\n",
            "Epoch 19/50\n",
            "400/400 [==============================] - 1s 3ms/step - loss: 0.3420 - accuracy: 0.8523 - val_loss: 0.3292 - val_accuracy: 0.8597\n",
            "INFO:tensorflow:Assets written to: /content/drive/My Drive/data/BestModel/assets\n",
            "Epoch 20/50\n",
            "400/400 [==============================] - 1s 4ms/step - loss: 0.3361 - accuracy: 0.8538 - val_loss: 0.3277 - val_accuracy: 0.8562\n",
            "Epoch 21/50\n",
            "400/400 [==============================] - 1s 3ms/step - loss: 0.3312 - accuracy: 0.8577 - val_loss: 0.3254 - val_accuracy: 0.8600\n",
            "INFO:tensorflow:Assets written to: /content/drive/My Drive/data/BestModel/assets\n",
            "Epoch 22/50\n",
            "400/400 [==============================] - 2s 4ms/step - loss: 0.3340 - accuracy: 0.8554 - val_loss: 0.3235 - val_accuracy: 0.8609\n",
            "INFO:tensorflow:Assets written to: /content/drive/My Drive/data/BestModel/assets\n",
            "Epoch 23/50\n",
            "400/400 [==============================] - 1s 3ms/step - loss: 0.3242 - accuracy: 0.8585 - val_loss: 0.3252 - val_accuracy: 0.8569\n",
            "Epoch 24/50\n",
            "400/400 [==============================] - 1s 3ms/step - loss: 0.3233 - accuracy: 0.8614 - val_loss: 0.3205 - val_accuracy: 0.8634\n",
            "INFO:tensorflow:Assets written to: /content/drive/My Drive/data/BestModel/assets\n",
            "Epoch 25/50\n",
            "400/400 [==============================] - 1s 3ms/step - loss: 0.3194 - accuracy: 0.8602 - val_loss: 0.3195 - val_accuracy: 0.8641\n",
            "INFO:tensorflow:Assets written to: /content/drive/My Drive/data/BestModel/assets\n",
            "Epoch 26/50\n",
            "400/400 [==============================] - 2s 4ms/step - loss: 0.3243 - accuracy: 0.8598 - val_loss: 0.3183 - val_accuracy: 0.8653\n",
            "INFO:tensorflow:Assets written to: /content/drive/My Drive/data/BestModel/assets\n",
            "Epoch 27/50\n",
            "400/400 [==============================] - 1s 3ms/step - loss: 0.3215 - accuracy: 0.8600 - val_loss: 0.3219 - val_accuracy: 0.8650\n",
            "Epoch 28/50\n",
            "400/400 [==============================] - 1s 4ms/step - loss: 0.3198 - accuracy: 0.8615 - val_loss: 0.3121 - val_accuracy: 0.8678\n",
            "INFO:tensorflow:Assets written to: /content/drive/My Drive/data/BestModel/assets\n",
            "Epoch 29/50\n",
            "400/400 [==============================] - 1s 4ms/step - loss: 0.3090 - accuracy: 0.8681 - val_loss: 0.3553 - val_accuracy: 0.8400\n",
            "Epoch 30/50\n",
            "400/400 [==============================] - 2s 4ms/step - loss: 0.3129 - accuracy: 0.8641 - val_loss: 0.3123 - val_accuracy: 0.8653\n",
            "Epoch 31/50\n",
            "400/400 [==============================] - 1s 3ms/step - loss: 0.3108 - accuracy: 0.8721 - val_loss: 0.3101 - val_accuracy: 0.8666\n",
            "Epoch 32/50\n",
            "400/400 [==============================] - 1s 4ms/step - loss: 0.3088 - accuracy: 0.8638 - val_loss: 0.3100 - val_accuracy: 0.8647\n",
            "Epoch 33/50\n",
            "400/400 [==============================] - 1s 4ms/step - loss: 0.2987 - accuracy: 0.8692 - val_loss: 0.3312 - val_accuracy: 0.8550\n",
            "Epoch 34/50\n",
            "400/400 [==============================] - 1s 3ms/step - loss: 0.3038 - accuracy: 0.8689 - val_loss: 0.3077 - val_accuracy: 0.8662\n",
            "Epoch 35/50\n",
            "400/400 [==============================] - 1s 4ms/step - loss: 0.2975 - accuracy: 0.8706 - val_loss: 0.3067 - val_accuracy: 0.8681\n",
            "INFO:tensorflow:Assets written to: /content/drive/My Drive/data/BestModel/assets\n",
            "Epoch 36/50\n",
            "400/400 [==============================] - 1s 3ms/step - loss: 0.3058 - accuracy: 0.8652 - val_loss: 0.3038 - val_accuracy: 0.8703\n",
            "INFO:tensorflow:Assets written to: /content/drive/My Drive/data/BestModel/assets\n",
            "Epoch 37/50\n",
            "400/400 [==============================] - 1s 3ms/step - loss: 0.2941 - accuracy: 0.8699 - val_loss: 0.3040 - val_accuracy: 0.8672\n",
            "Epoch 38/50\n",
            "400/400 [==============================] - 1s 4ms/step - loss: 0.2959 - accuracy: 0.8774 - val_loss: 0.3002 - val_accuracy: 0.8703\n",
            "Epoch 39/50\n",
            "400/400 [==============================] - 1s 4ms/step - loss: 0.2946 - accuracy: 0.8762 - val_loss: 0.3163 - val_accuracy: 0.8600\n",
            "Epoch 40/50\n",
            "400/400 [==============================] - 1s 4ms/step - loss: 0.2987 - accuracy: 0.8680 - val_loss: 0.3032 - val_accuracy: 0.8694\n",
            "Epoch 41/50\n",
            "400/400 [==============================] - 1s 3ms/step - loss: 0.2829 - accuracy: 0.8779 - val_loss: 0.3068 - val_accuracy: 0.8666\n",
            "Epoch 42/50\n",
            "400/400 [==============================] - 1s 3ms/step - loss: 0.2896 - accuracy: 0.8746 - val_loss: 0.3119 - val_accuracy: 0.8678\n",
            "Epoch 43/50\n",
            "400/400 [==============================] - 1s 3ms/step - loss: 0.2933 - accuracy: 0.8745 - val_loss: 0.3035 - val_accuracy: 0.8659\n",
            "Epoch 44/50\n",
            "400/400 [==============================] - 1s 3ms/step - loss: 0.2760 - accuracy: 0.8822 - val_loss: 0.2977 - val_accuracy: 0.8753\n",
            "INFO:tensorflow:Assets written to: /content/drive/My Drive/data/BestModel/assets\n",
            "Epoch 45/50\n",
            "400/400 [==============================] - 1s 4ms/step - loss: 0.2860 - accuracy: 0.8776 - val_loss: 0.2986 - val_accuracy: 0.8722\n",
            "Epoch 46/50\n",
            "400/400 [==============================] - 1s 3ms/step - loss: 0.2850 - accuracy: 0.8742 - val_loss: 0.2967 - val_accuracy: 0.8712\n",
            "Epoch 47/50\n",
            "400/400 [==============================] - 1s 3ms/step - loss: 0.2851 - accuracy: 0.8805 - val_loss: 0.2935 - val_accuracy: 0.8722\n",
            "Epoch 48/50\n",
            "400/400 [==============================] - 1s 4ms/step - loss: 0.2823 - accuracy: 0.8816 - val_loss: 0.2973 - val_accuracy: 0.8725\n",
            "Epoch 49/50\n",
            "400/400 [==============================] - 1s 3ms/step - loss: 0.2736 - accuracy: 0.8867 - val_loss: 0.2912 - val_accuracy: 0.8759\n",
            "INFO:tensorflow:Assets written to: /content/drive/My Drive/data/BestModel/assets\n",
            "Epoch 50/50\n",
            "400/400 [==============================] - 1s 3ms/step - loss: 0.2676 - accuracy: 0.8841 - val_loss: 0.2916 - val_accuracy: 0.8744\n",
            "Fold 1, 50 epochs, 155 sec\n"
          ],
          "name": "stdout"
        },
        {
          "output_type": "display_data",
          "data": {
            "image/png": "[encoded data removed]",
            "text/plain": [
              "<Figure size 576x360 with 1 Axes>"
            ]
          },
          "metadata": {
            "tags": [],
            "needs_background": "light"
          }
        },
        {
          "output_type": "stream",
          "text": [
            "MODEL\n",
            "make_DNN\n",
            "input shape: (7, 12, 1)\n",
            "FIT\n",
            "Epoch 1/50\n",
            "400/400 [==============================] - 3s 4ms/step - loss: 0.7195 - accuracy: 0.5180 - val_loss: 0.6341 - val_accuracy: 0.6241\n",
            "Epoch 2/50\n",
            "400/400 [==============================] - 2s 4ms/step - loss: 0.6321 - accuracy: 0.6427 - val_loss: 0.5739 - val_accuracy: 0.7259\n",
            "Epoch 3/50\n",
            "400/400 [==============================] - 1s 3ms/step - loss: 0.5773 - accuracy: 0.7018 - val_loss: 0.5332 - val_accuracy: 0.7578\n",
            "Epoch 4/50\n",
            "400/400 [==============================] - 2s 4ms/step - loss: 0.5399 - accuracy: 0.7361 - val_loss: 0.4855 - val_accuracy: 0.7806\n",
            "Epoch 5/50\n",
            "400/400 [==============================] - 1s 4ms/step - loss: 0.4904 - accuracy: 0.7710 - val_loss: 0.4346 - val_accuracy: 0.8141\n",
            "Epoch 6/50\n",
            "400/400 [==============================] - 2s 4ms/step - loss: 0.4641 - accuracy: 0.7802 - val_loss: 0.4307 - val_accuracy: 0.8131\n",
            "Epoch 7/50\n",
            "400/400 [==============================] - 2s 4ms/step - loss: 0.4394 - accuracy: 0.7915 - val_loss: 0.4242 - val_accuracy: 0.8025\n",
            "Epoch 8/50\n",
            "400/400 [==============================] - 2s 4ms/step - loss: 0.4193 - accuracy: 0.8063 - val_loss: 0.3880 - val_accuracy: 0.8406\n",
            "Epoch 9/50\n",
            "400/400 [==============================] - 1s 3ms/step - loss: 0.4102 - accuracy: 0.8130 - val_loss: 0.3744 - val_accuracy: 0.8375\n",
            "Epoch 10/50\n",
            "400/400 [==============================] - 1s 3ms/step - loss: 0.3935 - accuracy: 0.8236 - val_loss: 0.3691 - val_accuracy: 0.8375\n",
            "Epoch 11/50\n",
            "400/400 [==============================] - 1s 3ms/step - loss: 0.3826 - accuracy: 0.8295 - val_loss: 0.3558 - val_accuracy: 0.8516\n",
            "Epoch 12/50\n",
            "400/400 [==============================] - 1s 3ms/step - loss: 0.3776 - accuracy: 0.8354 - val_loss: 0.3510 - val_accuracy: 0.8506\n",
            "Epoch 13/50\n",
            "400/400 [==============================] - 1s 4ms/step - loss: 0.3757 - accuracy: 0.8383 - val_loss: 0.3475 - val_accuracy: 0.8566\n",
            "Epoch 14/50\n",
            "400/400 [==============================] - 1s 4ms/step - loss: 0.3709 - accuracy: 0.8383 - val_loss: 0.3453 - val_accuracy: 0.8447\n",
            "Epoch 15/50\n",
            "400/400 [==============================] - 1s 4ms/step - loss: 0.3555 - accuracy: 0.8458 - val_loss: 0.3615 - val_accuracy: 0.8406\n",
            "Epoch 16/50\n",
            "400/400 [==============================] - 1s 4ms/step - loss: 0.3567 - accuracy: 0.8425 - val_loss: 0.3624 - val_accuracy: 0.8431\n",
            "Epoch 17/50\n",
            "400/400 [==============================] - 1s 4ms/step - loss: 0.3609 - accuracy: 0.8441 - val_loss: 0.3319 - val_accuracy: 0.8562\n",
            "Epoch 18/50\n",
            "400/400 [==============================] - 1s 3ms/step - loss: 0.3599 - accuracy: 0.8410 - val_loss: 0.3280 - val_accuracy: 0.8575\n",
            "Epoch 19/50\n",
            "400/400 [==============================] - 1s 3ms/step - loss: 0.3519 - accuracy: 0.8452 - val_loss: 0.3284 - val_accuracy: 0.8587\n",
            "Epoch 20/50\n",
            "400/400 [==============================] - 1s 3ms/step - loss: 0.3475 - accuracy: 0.8446 - val_loss: 0.3272 - val_accuracy: 0.8516\n",
            "Epoch 21/50\n",
            "400/400 [==============================] - 1s 4ms/step - loss: 0.3400 - accuracy: 0.8517 - val_loss: 0.3284 - val_accuracy: 0.8587\n",
            "Epoch 22/50\n",
            "400/400 [==============================] - 1s 4ms/step - loss: 0.3436 - accuracy: 0.8515 - val_loss: 0.3186 - val_accuracy: 0.8619\n",
            "Epoch 23/50\n",
            "400/400 [==============================] - 1s 3ms/step - loss: 0.3359 - accuracy: 0.8565 - val_loss: 0.3467 - val_accuracy: 0.8372\n",
            "Epoch 24/50\n",
            "400/400 [==============================] - 1s 3ms/step - loss: 0.3347 - accuracy: 0.8525 - val_loss: 0.3308 - val_accuracy: 0.8506\n",
            "Epoch 25/50\n",
            "400/400 [==============================] - 1s 3ms/step - loss: 0.3340 - accuracy: 0.8549 - val_loss: 0.3135 - val_accuracy: 0.8647\n",
            "Epoch 26/50\n",
            "400/400 [==============================] - 1s 4ms/step - loss: 0.3296 - accuracy: 0.8580 - val_loss: 0.3189 - val_accuracy: 0.8597\n",
            "Epoch 27/50\n",
            "400/400 [==============================] - 1s 3ms/step - loss: 0.3251 - accuracy: 0.8613 - val_loss: 0.3122 - val_accuracy: 0.8662\n",
            "Epoch 28/50\n",
            "400/400 [==============================] - 1s 4ms/step - loss: 0.3218 - accuracy: 0.8595 - val_loss: 0.3094 - val_accuracy: 0.8653\n",
            "Epoch 29/50\n",
            "400/400 [==============================] - 1s 3ms/step - loss: 0.3213 - accuracy: 0.8577 - val_loss: 0.3120 - val_accuracy: 0.8653\n",
            "Epoch 30/50\n",
            "400/400 [==============================] - 1s 3ms/step - loss: 0.3225 - accuracy: 0.8596 - val_loss: 0.3051 - val_accuracy: 0.8662\n",
            "Epoch 31/50\n",
            "400/400 [==============================] - 1s 3ms/step - loss: 0.3242 - accuracy: 0.8612 - val_loss: 0.3208 - val_accuracy: 0.8581\n",
            "Epoch 32/50\n",
            "400/400 [==============================] - 1s 3ms/step - loss: 0.3130 - accuracy: 0.8683 - val_loss: 0.3047 - val_accuracy: 0.8709\n",
            "Epoch 33/50\n",
            "400/400 [==============================] - 1s 3ms/step - loss: 0.3062 - accuracy: 0.8682 - val_loss: 0.3002 - val_accuracy: 0.8700\n",
            "Epoch 34/50\n",
            "400/400 [==============================] - 1s 4ms/step - loss: 0.3093 - accuracy: 0.8656 - val_loss: 0.3012 - val_accuracy: 0.8675\n",
            "Epoch 35/50\n",
            "400/400 [==============================] - 1s 3ms/step - loss: 0.3081 - accuracy: 0.8677 - val_loss: 0.2999 - val_accuracy: 0.8681\n",
            "Epoch 36/50\n",
            "400/400 [==============================] - 1s 3ms/step - loss: 0.3130 - accuracy: 0.8611 - val_loss: 0.3021 - val_accuracy: 0.8684\n",
            "Epoch 37/50\n",
            "400/400 [==============================] - 1s 4ms/step - loss: 0.3030 - accuracy: 0.8686 - val_loss: 0.2967 - val_accuracy: 0.8694\n",
            "Epoch 38/50\n",
            "400/400 [==============================] - 1s 4ms/step - loss: 0.3117 - accuracy: 0.8680 - val_loss: 0.3085 - val_accuracy: 0.8616\n",
            "Epoch 39/50\n",
            "400/400 [==============================] - 1s 3ms/step - loss: 0.3097 - accuracy: 0.8643 - val_loss: 0.2967 - val_accuracy: 0.8706\n",
            "Epoch 40/50\n",
            "400/400 [==============================] - 1s 4ms/step - loss: 0.2934 - accuracy: 0.8760 - val_loss: 0.2985 - val_accuracy: 0.8672\n",
            "Epoch 41/50\n",
            "400/400 [==============================] - 1s 4ms/step - loss: 0.2992 - accuracy: 0.8707 - val_loss: 0.2945 - val_accuracy: 0.8731\n",
            "Epoch 42/50\n",
            "400/400 [==============================] - 1s 3ms/step - loss: 0.2906 - accuracy: 0.8731 - val_loss: 0.2964 - val_accuracy: 0.8684\n",
            "Epoch 43/50\n",
            "400/400 [==============================] - 1s 3ms/step - loss: 0.2866 - accuracy: 0.8787 - val_loss: 0.3009 - val_accuracy: 0.8666\n",
            "Epoch 44/50\n",
            "400/400 [==============================] - 2s 4ms/step - loss: 0.2857 - accuracy: 0.8736 - val_loss: 0.2902 - val_accuracy: 0.8756\n",
            "Epoch 45/50\n",
            "400/400 [==============================] - 1s 3ms/step - loss: 0.3057 - accuracy: 0.8664 - val_loss: 0.2913 - val_accuracy: 0.8737\n",
            "Epoch 46/50\n",
            "400/400 [==============================] - 1s 4ms/step - loss: 0.2947 - accuracy: 0.8766 - val_loss: 0.2932 - val_accuracy: 0.8712\n",
            "Epoch 47/50\n",
            "400/400 [==============================] - 2s 4ms/step - loss: 0.2864 - accuracy: 0.8756 - val_loss: 0.2854 - val_accuracy: 0.8747\n",
            "Epoch 48/50\n",
            "400/400 [==============================] - 1s 4ms/step - loss: 0.2931 - accuracy: 0.8775 - val_loss: 0.2936 - val_accuracy: 0.8731\n",
            "Epoch 49/50\n",
            "400/400 [==============================] - 1s 3ms/step - loss: 0.2828 - accuracy: 0.8815 - val_loss: 0.2886 - val_accuracy: 0.8741\n",
            "Epoch 50/50\n",
            "400/400 [==============================] - 1s 3ms/step - loss: 0.2797 - accuracy: 0.8817 - val_loss: 0.2839 - val_accuracy: 0.8769\n",
            "INFO:tensorflow:Assets written to: /content/drive/My Drive/data/BestModel/assets\n",
            "Fold 2, 50 epochs, 72 sec\n"
          ],
          "name": "stdout"
        },
        {
          "output_type": "display_data",
          "data": {
            "image/png": "[encoded data removed]",
            "text/plain": [
              "<Figure size 576x360 with 1 Axes>"
            ]
          },
          "metadata": {
            "tags": [],
            "needs_background": "light"
          }
        },
        {
          "output_type": "stream",
          "text": [
            "MODEL\n",
            "make_DNN\n",
            "input shape: (7, 12, 1)\n",
            "FIT\n",
            "Epoch 1/50\n",
            "400/400 [==============================] - 3s 5ms/step - loss: 0.7147 - accuracy: 0.5348 - val_loss: 0.6273 - val_accuracy: 0.6522\n",
            "Epoch 2/50\n",
            "400/400 [==============================] - 1s 3ms/step - loss: 0.6259 - accuracy: 0.6420 - val_loss: 0.5649 - val_accuracy: 0.7287\n",
            "Epoch 3/50\n",
            "400/400 [==============================] - 2s 4ms/step - loss: 0.5646 - accuracy: 0.7194 - val_loss: 0.5160 - val_accuracy: 0.7616\n",
            "Epoch 4/50\n",
            "400/400 [==============================] - 1s 3ms/step - loss: 0.5148 - accuracy: 0.7584 - val_loss: 0.4707 - val_accuracy: 0.7797\n",
            "Epoch 5/50\n",
            "400/400 [==============================] - 2s 4ms/step - loss: 0.4718 - accuracy: 0.7819 - val_loss: 0.4396 - val_accuracy: 0.8025\n",
            "Epoch 6/50\n",
            "400/400 [==============================] - 1s 4ms/step - loss: 0.4367 - accuracy: 0.8021 - val_loss: 0.4159 - val_accuracy: 0.8147\n",
            "Epoch 7/50\n",
            "400/400 [==============================] - 1s 4ms/step - loss: 0.4178 - accuracy: 0.8106 - val_loss: 0.3947 - val_accuracy: 0.8259\n",
            "Epoch 8/50\n",
            "400/400 [==============================] - 1s 3ms/step - loss: 0.3984 - accuracy: 0.8265 - val_loss: 0.4044 - val_accuracy: 0.8191\n",
            "Epoch 9/50\n",
            "400/400 [==============================] - 1s 4ms/step - loss: 0.3937 - accuracy: 0.8283 - val_loss: 0.3773 - val_accuracy: 0.8372\n",
            "Epoch 10/50\n",
            "400/400 [==============================] - 1s 4ms/step - loss: 0.3797 - accuracy: 0.8383 - val_loss: 0.3665 - val_accuracy: 0.8375\n",
            "Epoch 11/50\n",
            "400/400 [==============================] - 1s 3ms/step - loss: 0.3680 - accuracy: 0.8427 - val_loss: 0.3710 - val_accuracy: 0.8347\n",
            "Epoch 12/50\n",
            "400/400 [==============================] - 1s 3ms/step - loss: 0.3650 - accuracy: 0.8433 - val_loss: 0.3577 - val_accuracy: 0.8406\n",
            "Epoch 13/50\n",
            "400/400 [==============================] - 1s 4ms/step - loss: 0.3567 - accuracy: 0.8476 - val_loss: 0.3498 - val_accuracy: 0.8453\n",
            "Epoch 14/50\n",
            "400/400 [==============================] - 1s 4ms/step - loss: 0.3585 - accuracy: 0.8408 - val_loss: 0.3737 - val_accuracy: 0.8359\n",
            "Epoch 15/50\n",
            "400/400 [==============================] - 1s 3ms/step - loss: 0.3455 - accuracy: 0.8472 - val_loss: 0.3478 - val_accuracy: 0.8459\n",
            "Epoch 16/50\n",
            "400/400 [==============================] - 1s 4ms/step - loss: 0.3351 - accuracy: 0.8578 - val_loss: 0.3465 - val_accuracy: 0.8481\n",
            "Epoch 17/50\n",
            "400/400 [==============================] - 1s 3ms/step - loss: 0.3352 - accuracy: 0.8558 - val_loss: 0.3377 - val_accuracy: 0.8534\n",
            "Epoch 18/50\n",
            "400/400 [==============================] - 1s 3ms/step - loss: 0.3285 - accuracy: 0.8566 - val_loss: 0.3502 - val_accuracy: 0.8484\n",
            "Epoch 19/50\n",
            "400/400 [==============================] - 1s 3ms/step - loss: 0.3332 - accuracy: 0.8591 - val_loss: 0.3383 - val_accuracy: 0.8550\n",
            "Epoch 20/50\n",
            "400/400 [==============================] - 1s 3ms/step - loss: 0.3314 - accuracy: 0.8547 - val_loss: 0.3495 - val_accuracy: 0.8459\n",
            "Epoch 21/50\n",
            "400/400 [==============================] - 1s 3ms/step - loss: 0.3267 - accuracy: 0.8627 - val_loss: 0.3376 - val_accuracy: 0.8525\n",
            "Epoch 22/50\n",
            "400/400 [==============================] - 1s 3ms/step - loss: 0.3208 - accuracy: 0.8617 - val_loss: 0.3304 - val_accuracy: 0.8541\n",
            "Epoch 23/50\n",
            "400/400 [==============================] - 1s 4ms/step - loss: 0.3181 - accuracy: 0.8601 - val_loss: 0.3271 - val_accuracy: 0.8584\n",
            "Epoch 24/50\n",
            "400/400 [==============================] - 1s 3ms/step - loss: 0.3246 - accuracy: 0.8594 - val_loss: 0.3409 - val_accuracy: 0.8497\n",
            "Epoch 25/50\n",
            "400/400 [==============================] - 1s 4ms/step - loss: 0.3179 - accuracy: 0.8625 - val_loss: 0.3298 - val_accuracy: 0.8609\n",
            "Epoch 26/50\n",
            "400/400 [==============================] - 1s 4ms/step - loss: 0.3034 - accuracy: 0.8728 - val_loss: 0.3459 - val_accuracy: 0.8497\n",
            "Epoch 27/50\n",
            "400/400 [==============================] - 1s 3ms/step - loss: 0.3082 - accuracy: 0.8689 - val_loss: 0.3776 - val_accuracy: 0.8400\n",
            "Epoch 28/50\n",
            "400/400 [==============================] - 1s 3ms/step - loss: 0.3163 - accuracy: 0.8658 - val_loss: 0.3215 - val_accuracy: 0.8600\n",
            "Epoch 29/50\n",
            "400/400 [==============================] - 1s 3ms/step - loss: 0.3043 - accuracy: 0.8674 - val_loss: 0.3202 - val_accuracy: 0.8641\n",
            "Epoch 30/50\n",
            "400/400 [==============================] - 1s 4ms/step - loss: 0.3015 - accuracy: 0.8687 - val_loss: 0.3199 - val_accuracy: 0.8625\n",
            "Epoch 31/50\n",
            "400/400 [==============================] - 1s 3ms/step - loss: 0.2959 - accuracy: 0.8717 - val_loss: 0.3195 - val_accuracy: 0.8584\n",
            "Epoch 32/50\n",
            "400/400 [==============================] - 1s 3ms/step - loss: 0.2998 - accuracy: 0.8683 - val_loss: 0.3249 - val_accuracy: 0.8609\n",
            "Epoch 33/50\n",
            "400/400 [==============================] - 1s 4ms/step - loss: 0.2987 - accuracy: 0.8736 - val_loss: 0.3145 - val_accuracy: 0.8609\n",
            "Epoch 34/50\n",
            "400/400 [==============================] - 1s 4ms/step - loss: 0.2884 - accuracy: 0.8730 - val_loss: 0.3238 - val_accuracy: 0.8597\n",
            "Epoch 35/50\n",
            "400/400 [==============================] - 1s 3ms/step - loss: 0.2866 - accuracy: 0.8767 - val_loss: 0.3103 - val_accuracy: 0.8669\n",
            "Epoch 36/50\n",
            "400/400 [==============================] - 1s 3ms/step - loss: 0.2876 - accuracy: 0.8773 - val_loss: 0.3185 - val_accuracy: 0.8634\n",
            "Epoch 37/50\n",
            "400/400 [==============================] - 1s 3ms/step - loss: 0.2840 - accuracy: 0.8812 - val_loss: 0.3077 - val_accuracy: 0.8691\n",
            "Epoch 38/50\n",
            "400/400 [==============================] - 1s 4ms/step - loss: 0.2828 - accuracy: 0.8805 - val_loss: 0.3072 - val_accuracy: 0.8662\n",
            "Epoch 39/50\n",
            "400/400 [==============================] - 1s 4ms/step - loss: 0.2993 - accuracy: 0.8692 - val_loss: 0.3127 - val_accuracy: 0.8628\n",
            "Epoch 40/50\n",
            "400/400 [==============================] - 2s 4ms/step - loss: 0.2893 - accuracy: 0.8752 - val_loss: 0.3081 - val_accuracy: 0.8662\n",
            "Epoch 41/50\n",
            "400/400 [==============================] - 1s 3ms/step - loss: 0.2841 - accuracy: 0.8819 - val_loss: 0.3083 - val_accuracy: 0.8656\n",
            "Epoch 42/50\n",
            "400/400 [==============================] - 1s 4ms/step - loss: 0.2742 - accuracy: 0.8791 - val_loss: 0.3058 - val_accuracy: 0.8672\n",
            "Epoch 43/50\n",
            "400/400 [==============================] - 1s 4ms/step - loss: 0.2784 - accuracy: 0.8790 - val_loss: 0.2987 - val_accuracy: 0.8703\n",
            "Epoch 44/50\n",
            "400/400 [==============================] - 1s 4ms/step - loss: 0.2781 - accuracy: 0.8805 - val_loss: 0.2992 - val_accuracy: 0.8669\n",
            "Epoch 45/50\n",
            "400/400 [==============================] - 2s 4ms/step - loss: 0.2864 - accuracy: 0.8808 - val_loss: 0.3150 - val_accuracy: 0.8622\n",
            "Epoch 46/50\n",
            "400/400 [==============================] - 2s 4ms/step - loss: 0.2769 - accuracy: 0.8848 - val_loss: 0.3132 - val_accuracy: 0.8672\n",
            "Epoch 47/50\n",
            "400/400 [==============================] - 1s 4ms/step - loss: 0.2659 - accuracy: 0.8854 - val_loss: 0.3001 - val_accuracy: 0.8744\n",
            "Epoch 48/50\n",
            "400/400 [==============================] - 2s 4ms/step - loss: 0.2692 - accuracy: 0.8859 - val_loss: 0.3059 - val_accuracy: 0.8709\n",
            "Epoch 49/50\n",
            "400/400 [==============================] - 2s 4ms/step - loss: 0.2652 - accuracy: 0.8876 - val_loss: 0.2963 - val_accuracy: 0.8766\n",
            "Epoch 50/50\n",
            "400/400 [==============================] - 1s 4ms/step - loss: 0.2776 - accuracy: 0.8827 - val_loss: 0.3057 - val_accuracy: 0.8691\n",
            "Fold 3, 50 epochs, 71 sec\n"
          ],
          "name": "stdout"
        },
        {
          "output_type": "display_data",
          "data": {
            "image/png": "[encoded data removed]",
            "text/plain": [
              "<Figure size 576x360 with 1 Axes>"
            ]
          },
          "metadata": {
            "tags": [],
            "needs_background": "light"
          }
        },
        {
          "output_type": "stream",
          "text": [
            "MODEL\n",
            "make_DNN\n",
            "input shape: (7, 12, 1)\n",
            "FIT\n",
            "Epoch 1/50\n",
            "400/400 [==============================] - 3s 5ms/step - loss: 0.7099 - accuracy: 0.5365 - val_loss: 0.6169 - val_accuracy: 0.6550\n",
            "Epoch 2/50\n",
            "400/400 [==============================] - 1s 4ms/step - loss: 0.6122 - accuracy: 0.6645 - val_loss: 0.5564 - val_accuracy: 0.7312\n",
            "Epoch 3/50\n",
            "400/400 [==============================] - 2s 4ms/step - loss: 0.5704 - accuracy: 0.7117 - val_loss: 0.5154 - val_accuracy: 0.7584\n",
            "Epoch 4/50\n",
            "400/400 [==============================] - 1s 4ms/step - loss: 0.5468 - accuracy: 0.7368 - val_loss: 0.4693 - val_accuracy: 0.7922\n",
            "Epoch 5/50\n",
            "400/400 [==============================] - 1s 4ms/step - loss: 0.5047 - accuracy: 0.7603 - val_loss: 0.4287 - val_accuracy: 0.8097\n",
            "Epoch 6/50\n",
            "400/400 [==============================] - 1s 4ms/step - loss: 0.4745 - accuracy: 0.7789 - val_loss: 0.4098 - val_accuracy: 0.8256\n",
            "Epoch 7/50\n",
            "400/400 [==============================] - 1s 4ms/step - loss: 0.4449 - accuracy: 0.7929 - val_loss: 0.3827 - val_accuracy: 0.8347\n",
            "Epoch 8/50\n",
            "400/400 [==============================] - 1s 3ms/step - loss: 0.4315 - accuracy: 0.8054 - val_loss: 0.3850 - val_accuracy: 0.8378\n",
            "Epoch 9/50\n",
            "400/400 [==============================] - 1s 3ms/step - loss: 0.4143 - accuracy: 0.8154 - val_loss: 0.3535 - val_accuracy: 0.8522\n",
            "Epoch 10/50\n",
            "400/400 [==============================] - 1s 4ms/step - loss: 0.3921 - accuracy: 0.8252 - val_loss: 0.3519 - val_accuracy: 0.8528\n",
            "Epoch 11/50\n",
            "400/400 [==============================] - 2s 4ms/step - loss: 0.3925 - accuracy: 0.8279 - val_loss: 0.3404 - val_accuracy: 0.8497\n",
            "Epoch 12/50\n",
            "400/400 [==============================] - 2s 4ms/step - loss: 0.3841 - accuracy: 0.8314 - val_loss: 0.3334 - val_accuracy: 0.8528\n",
            "Epoch 13/50\n",
            "400/400 [==============================] - 1s 4ms/step - loss: 0.3637 - accuracy: 0.8396 - val_loss: 0.3421 - val_accuracy: 0.8606\n",
            "Epoch 14/50\n",
            "400/400 [==============================] - 2s 4ms/step - loss: 0.3703 - accuracy: 0.8369 - val_loss: 0.3330 - val_accuracy: 0.8587\n",
            "Epoch 15/50\n",
            "400/400 [==============================] - 1s 4ms/step - loss: 0.3638 - accuracy: 0.8364 - val_loss: 0.3322 - val_accuracy: 0.8619\n",
            "Epoch 16/50\n",
            "400/400 [==============================] - 1s 4ms/step - loss: 0.3630 - accuracy: 0.8407 - val_loss: 0.3265 - val_accuracy: 0.8619\n",
            "Epoch 17/50\n",
            "400/400 [==============================] - 1s 4ms/step - loss: 0.3576 - accuracy: 0.8450 - val_loss: 0.3246 - val_accuracy: 0.8575\n",
            "Epoch 18/50\n",
            "400/400 [==============================] - 1s 4ms/step - loss: 0.3503 - accuracy: 0.8483 - val_loss: 0.3212 - val_accuracy: 0.8587\n",
            "Epoch 19/50\n",
            "400/400 [==============================] - 2s 4ms/step - loss: 0.3531 - accuracy: 0.8484 - val_loss: 0.3285 - val_accuracy: 0.8597\n",
            "Epoch 20/50\n",
            "400/400 [==============================] - 1s 3ms/step - loss: 0.3459 - accuracy: 0.8469 - val_loss: 0.3087 - val_accuracy: 0.8666\n",
            "Epoch 21/50\n",
            "400/400 [==============================] - 2s 4ms/step - loss: 0.3432 - accuracy: 0.8478 - val_loss: 0.3160 - val_accuracy: 0.8656\n",
            "Epoch 22/50\n",
            "400/400 [==============================] - 1s 3ms/step - loss: 0.3355 - accuracy: 0.8546 - val_loss: 0.3158 - val_accuracy: 0.8666\n",
            "Epoch 23/50\n",
            "400/400 [==============================] - 1s 4ms/step - loss: 0.3364 - accuracy: 0.8568 - val_loss: 0.3025 - val_accuracy: 0.8700\n",
            "Epoch 24/50\n",
            "400/400 [==============================] - 1s 4ms/step - loss: 0.3268 - accuracy: 0.8596 - val_loss: 0.3124 - val_accuracy: 0.8691\n",
            "Epoch 25/50\n",
            "400/400 [==============================] - 1s 4ms/step - loss: 0.3264 - accuracy: 0.8611 - val_loss: 0.3163 - val_accuracy: 0.8641\n",
            "Epoch 26/50\n",
            "400/400 [==============================] - 1s 3ms/step - loss: 0.3216 - accuracy: 0.8616 - val_loss: 0.2992 - val_accuracy: 0.8722\n",
            "Epoch 27/50\n",
            "400/400 [==============================] - 2s 4ms/step - loss: 0.3282 - accuracy: 0.8563 - val_loss: 0.3104 - val_accuracy: 0.8691\n",
            "Epoch 28/50\n",
            "400/400 [==============================] - 1s 4ms/step - loss: 0.3202 - accuracy: 0.8673 - val_loss: 0.2933 - val_accuracy: 0.8737\n",
            "Epoch 29/50\n",
            "400/400 [==============================] - 1s 3ms/step - loss: 0.3214 - accuracy: 0.8634 - val_loss: 0.2972 - val_accuracy: 0.8747\n",
            "Epoch 30/50\n",
            "400/400 [==============================] - 1s 4ms/step - loss: 0.3305 - accuracy: 0.8564 - val_loss: 0.2980 - val_accuracy: 0.8719\n",
            "Epoch 31/50\n",
            "400/400 [==============================] - 1s 3ms/step - loss: 0.3164 - accuracy: 0.8604 - val_loss: 0.2935 - val_accuracy: 0.8725\n",
            "Epoch 32/50\n",
            "400/400 [==============================] - 1s 3ms/step - loss: 0.3134 - accuracy: 0.8607 - val_loss: 0.2958 - val_accuracy: 0.8747\n",
            "Epoch 33/50\n",
            "400/400 [==============================] - 1s 3ms/step - loss: 0.3101 - accuracy: 0.8670 - val_loss: 0.2901 - val_accuracy: 0.8725\n",
            "Epoch 34/50\n",
            "400/400 [==============================] - 1s 4ms/step - loss: 0.3099 - accuracy: 0.8651 - val_loss: 0.2897 - val_accuracy: 0.8741\n",
            "Epoch 35/50\n",
            "400/400 [==============================] - 1s 4ms/step - loss: 0.3108 - accuracy: 0.8672 - val_loss: 0.2878 - val_accuracy: 0.8744\n",
            "Epoch 36/50\n",
            "400/400 [==============================] - 1s 3ms/step - loss: 0.2952 - accuracy: 0.8755 - val_loss: 0.2932 - val_accuracy: 0.8706\n",
            "Epoch 37/50\n",
            "400/400 [==============================] - 1s 3ms/step - loss: 0.3080 - accuracy: 0.8638 - val_loss: 0.2956 - val_accuracy: 0.8719\n",
            "Epoch 38/50\n",
            "400/400 [==============================] - 1s 4ms/step - loss: 0.3111 - accuracy: 0.8656 - val_loss: 0.2909 - val_accuracy: 0.8741\n",
            "Epoch 39/50\n",
            "400/400 [==============================] - 1s 3ms/step - loss: 0.3063 - accuracy: 0.8698 - val_loss: 0.2912 - val_accuracy: 0.8725\n",
            "Epoch 40/50\n",
            "400/400 [==============================] - 1s 4ms/step - loss: 0.2891 - accuracy: 0.8762 - val_loss: 0.3000 - val_accuracy: 0.8703\n",
            "Epoch 41/50\n",
            "400/400 [==============================] - 1s 4ms/step - loss: 0.2970 - accuracy: 0.8710 - val_loss: 0.2898 - val_accuracy: 0.8763\n",
            "Epoch 42/50\n",
            "400/400 [==============================] - 1s 3ms/step - loss: 0.2942 - accuracy: 0.8710 - val_loss: 0.2879 - val_accuracy: 0.8722\n",
            "Epoch 43/50\n",
            "400/400 [==============================] - 1s 4ms/step - loss: 0.2928 - accuracy: 0.8702 - val_loss: 0.2858 - val_accuracy: 0.8778\n",
            "INFO:tensorflow:Assets written to: /content/drive/My Drive/data/BestModel/assets\n",
            "Epoch 44/50\n",
            "400/400 [==============================] - 1s 3ms/step - loss: 0.2910 - accuracy: 0.8780 - val_loss: 0.2878 - val_accuracy: 0.8741\n",
            "Epoch 45/50\n",
            "400/400 [==============================] - 1s 3ms/step - loss: 0.2937 - accuracy: 0.8736 - val_loss: 0.2857 - val_accuracy: 0.8813\n",
            "INFO:tensorflow:Assets written to: /content/drive/My Drive/data/BestModel/assets\n",
            "Epoch 46/50\n",
            "400/400 [==============================] - 1s 4ms/step - loss: 0.2824 - accuracy: 0.8786 - val_loss: 0.2816 - val_accuracy: 0.8775\n",
            "Epoch 47/50\n",
            "400/400 [==============================] - 1s 4ms/step - loss: 0.2883 - accuracy: 0.8793 - val_loss: 0.2866 - val_accuracy: 0.8766\n",
            "Epoch 48/50\n",
            "400/400 [==============================] - 1s 3ms/step - loss: 0.2827 - accuracy: 0.8792 - val_loss: 0.2839 - val_accuracy: 0.8775\n",
            "Epoch 49/50\n",
            "400/400 [==============================] - 1s 3ms/step - loss: 0.2836 - accuracy: 0.8807 - val_loss: 0.2845 - val_accuracy: 0.8791\n",
            "Epoch 50/50\n",
            "400/400 [==============================] - 1s 3ms/step - loss: 0.2767 - accuracy: 0.8796 - val_loss: 0.2784 - val_accuracy: 0.8822\n",
            "INFO:tensorflow:Assets written to: /content/drive/My Drive/data/BestModel/assets\n",
            "Fold 4, 50 epochs, 76 sec\n"
          ],
          "name": "stdout"
        },
        {
          "output_type": "display_data",
          "data": {
            "image/png": "[encoded data removed]",
            "text/plain": [
              "<Figure size 576x360 with 1 Axes>"
            ]
          },
          "metadata": {
            "tags": [],
            "needs_background": "light"
          }
        },
        {
          "output_type": "stream",
          "text": [
            "MODEL\n",
            "make_DNN\n",
            "input shape: (7, 12, 1)\n",
            "FIT\n",
            "Epoch 1/50\n",
            "400/400 [==============================] - 3s 4ms/step - loss: 0.7053 - accuracy: 0.5481 - val_loss: 0.6163 - val_accuracy: 0.6600\n",
            "Epoch 2/50\n",
            "400/400 [==============================] - 1s 4ms/step - loss: 0.6104 - accuracy: 0.6670 - val_loss: 0.5685 - val_accuracy: 0.7184\n",
            "Epoch 3/50\n",
            "400/400 [==============================] - 2s 4ms/step - loss: 0.5700 - accuracy: 0.7097 - val_loss: 0.5588 - val_accuracy: 0.7119\n",
            "Epoch 4/50\n",
            "400/400 [==============================] - 1s 4ms/step - loss: 0.5377 - accuracy: 0.7401 - val_loss: 0.4918 - val_accuracy: 0.7641\n",
            "Epoch 5/50\n",
            "400/400 [==============================] - 1s 4ms/step - loss: 0.4834 - accuracy: 0.7745 - val_loss: 0.4332 - val_accuracy: 0.8106\n",
            "Epoch 6/50\n",
            "400/400 [==============================] - 2s 4ms/step - loss: 0.4590 - accuracy: 0.7881 - val_loss: 0.4092 - val_accuracy: 0.8159\n",
            "Epoch 7/50\n",
            "400/400 [==============================] - 1s 4ms/step - loss: 0.4273 - accuracy: 0.8070 - val_loss: 0.3994 - val_accuracy: 0.8147\n",
            "Epoch 8/50\n",
            "400/400 [==============================] - 2s 4ms/step - loss: 0.4099 - accuracy: 0.8140 - val_loss: 0.3764 - val_accuracy: 0.8419\n",
            "Epoch 9/50\n",
            "400/400 [==============================] - 2s 4ms/step - loss: 0.3949 - accuracy: 0.8201 - val_loss: 0.3652 - val_accuracy: 0.8438\n",
            "Epoch 10/50\n",
            "400/400 [==============================] - 2s 4ms/step - loss: 0.3918 - accuracy: 0.8277 - val_loss: 0.3594 - val_accuracy: 0.8491\n",
            "Epoch 11/50\n",
            "400/400 [==============================] - 1s 4ms/step - loss: 0.3590 - accuracy: 0.8450 - val_loss: 0.3564 - val_accuracy: 0.8438\n",
            "Epoch 12/50\n",
            "400/400 [==============================] - 2s 4ms/step - loss: 0.3781 - accuracy: 0.8342 - val_loss: 0.3469 - val_accuracy: 0.8441\n",
            "Epoch 13/50\n",
            "400/400 [==============================] - 2s 4ms/step - loss: 0.3636 - accuracy: 0.8425 - val_loss: 0.3498 - val_accuracy: 0.8537\n",
            "Epoch 14/50\n",
            "400/400 [==============================] - 2s 4ms/step - loss: 0.3557 - accuracy: 0.8466 - val_loss: 0.3418 - val_accuracy: 0.8525\n",
            "Epoch 15/50\n",
            "400/400 [==============================] - 1s 4ms/step - loss: 0.3567 - accuracy: 0.8436 - val_loss: 0.3358 - val_accuracy: 0.8591\n",
            "Epoch 16/50\n",
            "400/400 [==============================] - 1s 4ms/step - loss: 0.3451 - accuracy: 0.8526 - val_loss: 0.3382 - val_accuracy: 0.8587\n",
            "Epoch 17/50\n",
            "400/400 [==============================] - 1s 4ms/step - loss: 0.3410 - accuracy: 0.8504 - val_loss: 0.3385 - val_accuracy: 0.8603\n",
            "Epoch 18/50\n",
            "400/400 [==============================] - 1s 4ms/step - loss: 0.3422 - accuracy: 0.8529 - val_loss: 0.3273 - val_accuracy: 0.8622\n",
            "Epoch 19/50\n",
            "400/400 [==============================] - 2s 4ms/step - loss: 0.3392 - accuracy: 0.8540 - val_loss: 0.3284 - val_accuracy: 0.8647\n",
            "Epoch 20/50\n",
            "400/400 [==============================] - 1s 4ms/step - loss: 0.3248 - accuracy: 0.8609 - val_loss: 0.3260 - val_accuracy: 0.8619\n",
            "Epoch 21/50\n",
            "400/400 [==============================] - 1s 3ms/step - loss: 0.3370 - accuracy: 0.8511 - val_loss: 0.3214 - val_accuracy: 0.8669\n",
            "Epoch 22/50\n",
            "400/400 [==============================] - 1s 4ms/step - loss: 0.3352 - accuracy: 0.8555 - val_loss: 0.3261 - val_accuracy: 0.8681\n",
            "Epoch 23/50\n",
            "400/400 [==============================] - 1s 3ms/step - loss: 0.3225 - accuracy: 0.8602 - val_loss: 0.3247 - val_accuracy: 0.8659\n",
            "Epoch 24/50\n",
            "400/400 [==============================] - 1s 3ms/step - loss: 0.3294 - accuracy: 0.8600 - val_loss: 0.3163 - val_accuracy: 0.8684\n",
            "Epoch 25/50\n",
            "400/400 [==============================] - 1s 3ms/step - loss: 0.3096 - accuracy: 0.8674 - val_loss: 0.3192 - val_accuracy: 0.8631\n",
            "Epoch 26/50\n",
            "400/400 [==============================] - 2s 4ms/step - loss: 0.3166 - accuracy: 0.8643 - val_loss: 0.3186 - val_accuracy: 0.8659\n",
            "Epoch 27/50\n",
            "400/400 [==============================] - 1s 3ms/step - loss: 0.3085 - accuracy: 0.8674 - val_loss: 0.3225 - val_accuracy: 0.8581\n",
            "Epoch 28/50\n",
            "400/400 [==============================] - 1s 4ms/step - loss: 0.3212 - accuracy: 0.8619 - val_loss: 0.3162 - val_accuracy: 0.8675\n",
            "Epoch 29/50\n",
            "400/400 [==============================] - 1s 3ms/step - loss: 0.3080 - accuracy: 0.8645 - val_loss: 0.3242 - val_accuracy: 0.8575\n",
            "Epoch 30/50\n",
            "400/400 [==============================] - 1s 3ms/step - loss: 0.2995 - accuracy: 0.8722 - val_loss: 0.3122 - val_accuracy: 0.8666\n",
            "Epoch 31/50\n",
            "400/400 [==============================] - 1s 4ms/step - loss: 0.3174 - accuracy: 0.8627 - val_loss: 0.3095 - val_accuracy: 0.8653\n",
            "Epoch 32/50\n",
            "400/400 [==============================] - 1s 3ms/step - loss: 0.3093 - accuracy: 0.8686 - val_loss: 0.3152 - val_accuracy: 0.8634\n",
            "Epoch 33/50\n",
            "400/400 [==============================] - 1s 3ms/step - loss: 0.2925 - accuracy: 0.8721 - val_loss: 0.3178 - val_accuracy: 0.8731\n",
            "Epoch 34/50\n",
            "400/400 [==============================] - 1s 4ms/step - loss: 0.2936 - accuracy: 0.8729 - val_loss: 0.3253 - val_accuracy: 0.8603\n",
            "Epoch 35/50\n",
            "400/400 [==============================] - 1s 3ms/step - loss: 0.2981 - accuracy: 0.8737 - val_loss: 0.3121 - val_accuracy: 0.8716\n",
            "Epoch 36/50\n",
            "400/400 [==============================] - 1s 3ms/step - loss: 0.2903 - accuracy: 0.8690 - val_loss: 0.3100 - val_accuracy: 0.8703\n",
            "Epoch 37/50\n",
            "400/400 [==============================] - 1s 4ms/step - loss: 0.2878 - accuracy: 0.8755 - val_loss: 0.3088 - val_accuracy: 0.8712\n",
            "Epoch 38/50\n",
            "400/400 [==============================] - 1s 3ms/step - loss: 0.2867 - accuracy: 0.8742 - val_loss: 0.3076 - val_accuracy: 0.8731\n",
            "Epoch 39/50\n",
            "400/400 [==============================] - 1s 3ms/step - loss: 0.2886 - accuracy: 0.8738 - val_loss: 0.3019 - val_accuracy: 0.8731\n",
            "Epoch 40/50\n",
            "400/400 [==============================] - 1s 4ms/step - loss: 0.2831 - accuracy: 0.8789 - val_loss: 0.3039 - val_accuracy: 0.8712\n",
            "Epoch 41/50\n",
            "400/400 [==============================] - 1s 4ms/step - loss: 0.2955 - accuracy: 0.8709 - val_loss: 0.3090 - val_accuracy: 0.8750\n",
            "Epoch 42/50\n",
            "400/400 [==============================] - 1s 3ms/step - loss: 0.2904 - accuracy: 0.8717 - val_loss: 0.3058 - val_accuracy: 0.8756\n",
            "Epoch 43/50\n",
            "400/400 [==============================] - 1s 3ms/step - loss: 0.2895 - accuracy: 0.8790 - val_loss: 0.3013 - val_accuracy: 0.8753\n",
            "Epoch 44/50\n",
            "400/400 [==============================] - 1s 3ms/step - loss: 0.2904 - accuracy: 0.8749 - val_loss: 0.3041 - val_accuracy: 0.8753\n",
            "Epoch 45/50\n",
            "400/400 [==============================] - 1s 3ms/step - loss: 0.2863 - accuracy: 0.8752 - val_loss: 0.3036 - val_accuracy: 0.8756\n",
            "Epoch 46/50\n",
            "400/400 [==============================] - 1s 3ms/step - loss: 0.2790 - accuracy: 0.8841 - val_loss: 0.2971 - val_accuracy: 0.8763\n",
            "Epoch 47/50\n",
            "400/400 [==============================] - 1s 3ms/step - loss: 0.2734 - accuracy: 0.8852 - val_loss: 0.2958 - val_accuracy: 0.8788\n",
            "Epoch 48/50\n",
            "400/400 [==============================] - 1s 3ms/step - loss: 0.2689 - accuracy: 0.8896 - val_loss: 0.3071 - val_accuracy: 0.8712\n",
            "Epoch 49/50\n",
            "400/400 [==============================] - 1s 4ms/step - loss: 0.2660 - accuracy: 0.8880 - val_loss: 0.2952 - val_accuracy: 0.8803\n",
            "Epoch 50/50\n",
            "400/400 [==============================] - 2s 4ms/step - loss: 0.2731 - accuracy: 0.8830 - val_loss: 0.2985 - val_accuracy: 0.8791\n",
            "Fold 5, 50 epochs, 82 sec\n"
          ],
          "name": "stdout"
        },
        {
          "output_type": "display_data",
          "data": {
            "image/png": "[encoded data removed]",
            "text/plain": [
              "<Figure size 576x360 with 1 Axes>"
            ]
          },
          "metadata": {
            "tags": [],
            "needs_background": "light"
          }
        },
        {
          "output_type": "stream",
          "text": [
            "INFO:tensorflow:Assets written to: /content/drive/My Drive/data/LastModel/assets\n"
          ],
          "name": "stdout"
        }
      ]
    },
    {
      "cell_type": "markdown",
      "metadata": {
        "id": "OsytC9VUrEAX"
      },
      "source": [
        "## Test the neural network"
      ]
    },
    {
      "cell_type": "code",
      "metadata": {
        "colab": {
          "base_uri": "https://localhost:8080/"
        },
        "id": "yl_32wkloFA7",
        "outputId": "fcc13ba1-dccd-49e4-8987-0b005c1b6624"
      },
      "source": [
        "show_time()\n",
        "model = load_model(BESTMODELPATH)\n",
        "Xseq,y=prepare_x_and_y(pc_test,nc_test)  # test sequences\n",
        "Xfrq=seqs_to_kmer_freqs(Xseq,MAX_K)      # converted to K-mer frequencies\n",
        "X = reshape(Xfrq)                        # and formatted as 2D matrix\n",
        "show_time()"
      ],
      "execution_count": 16,
      "outputs": [
        {
          "output_type": "stream",
          "text": [
            "2021-08-09 17:35:19 UTC\n",
            "2021-08-09 17:35:23 UTC\n"
          ],
          "name": "stdout"
        }
      ]
    },
    {
      "cell_type": "code",
      "metadata": {
        "id": "8hIqe1r1rEAa",
        "colab": {
          "base_uri": "https://localhost:8080/"
        },
        "outputId": "c472638b-c2ce-4028-ba19-4cdbae962570"
      },
      "source": [
        "scores = model.evaluate(X, y, verbose=0)\n",
        "print(\"%s: %.2f%%\" % (model.metrics_names[1], scores[1]*100))"
      ],
      "execution_count": 17,
      "outputs": [
        {
          "output_type": "stream",
          "text": [
            "accuracy: 87.83%\n"
          ],
          "name": "stdout"
        }
      ]
    },
    {
      "cell_type": "markdown",
      "metadata": {
        "id": "TTxQB_cbp-2s"
      },
      "source": [
        "## Apply the network to specific data sets"
      ]
    },
    {
      "cell_type": "code",
      "metadata": {
        "id": "8keogpZypr_E"
      },
      "source": [
        "def prepare_one(seqs1,label):\n",
        "    len1=len(seqs1)\n",
        "    if label==1:\n",
        "        L1=np.ones(len1,dtype=np.int8)\n",
        "    else:\n",
        "        L1=np.zeros(len1,dtype=np.int8)\n",
        "    Xfrq=seqs_to_kmer_freqs(seqs1,MAX_K)      # converted to K-mer frequencies\n",
        "    return Xfrq,L1\n"
      ],
      "execution_count": 18,
      "outputs": []
    },
    {
      "cell_type": "code",
      "metadata": {
        "colab": {
          "base_uri": "https://localhost:8080/"
        },
        "id": "uKZErkm5oFBA",
        "outputId": "4f3a0acc-4904-442a-b4fd-00a5a7e09dbd"
      },
      "source": [
        "print(\"The protein coding test set...\")\n",
        "Xfrq,y = prepare_one(pc_test,1)\n",
        "rows=7\n",
        "cols=FRQ_CNT//rows\n",
        "seq_cnt,old_rows=Xfrq.shape \n",
        "X = Xfrq.reshape(seq_cnt,rows,cols,1)\n",
        "\n",
        "scores = model.evaluate(X, y, verbose=0)\n",
        "print(\"%s: %.2f%%\" % (model.metrics_names[1], scores[1]*100))\n",
        "pc_bm_probs = model.predict(X)"
      ],
      "execution_count": 19,
      "outputs": [
        {
          "output_type": "stream",
          "text": [
            "The protein coding test set...\n",
            "accuracy: 87.75%\n"
          ],
          "name": "stdout"
        }
      ]
    },
    {
      "cell_type": "code",
      "metadata": {
        "id": "-cSLTNfzrEAo",
        "colab": {
          "base_uri": "https://localhost:8080/"
        },
        "outputId": "5d612c33-f1a4-40d5-e0d8-fcc7dc625c1a"
      },
      "source": [
        "print(\"The non coding test set...\")\n",
        "Xfrq,y = prepare_one(nc_test,1)\n",
        "rows=7\n",
        "cols=FRQ_CNT//rows\n",
        "seq_cnt,old_rows=Xfrq.shape \n",
        "X = Xfrq.reshape(seq_cnt,rows,cols,1)\n",
        "\n",
        "scores = model.evaluate(X, y, verbose=0)\n",
        "print(\"%s: %.2f%%\" % (model.metrics_names[1], scores[1]*100))\n",
        "nc_bm_probs = model.predict(X)"
      ],
      "execution_count": 20,
      "outputs": [
        {
          "output_type": "stream",
          "text": [
            "The non coding test set...\n",
            "accuracy: 12.10%\n"
          ],
          "name": "stdout"
        }
      ]
    },
    {
      "cell_type": "code",
      "metadata": {
        "colab": {
          "base_uri": "https://localhost:8080/"
        },
        "id": "1yjj57go7G4I",
        "outputId": "354d38cf-41ba-431f-b3fa-38cc780d5152"
      },
      "source": [
        "print(\"The sequences of interest...\")\n",
        "Xfrq,y = prepare_one(selectedX,41)  # don't use second parameter; set y on next line\n",
        "y = np.asarray(selectedY)\n",
        "rows=7\n",
        "cols=FRQ_CNT//rows\n",
        "seq_cnt,old_rows=Xfrq.shape \n",
        "X = Xfrq.reshape(seq_cnt,rows,cols,1)\n",
        "\n",
        "\n",
        "scores = model.evaluate(X, y, verbose=0)\n",
        "print(\"%s: %.2f%%\" % (model.metrics_names[1], scores[1]*100))\n",
        "int_bm_probs = model.predict(X)"
      ],
      "execution_count": 21,
      "outputs": [
        {
          "output_type": "stream",
          "text": [
            "The sequences of interest...\n",
            "accuracy: 75.00%\n"
          ],
          "name": "stdout"
        }
      ]
    },
    {
      "cell_type": "code",
      "metadata": {
        "colab": {
          "base_uri": "https://localhost:8080/",
          "height": 661
        },
        "id": "2TKZSHx69iEW",
        "outputId": "34a3ae43-dc06-4196-f1fe-4a5fa41ca93c"
      },
      "source": [
        "pc_probs = np.asarray([e[0] for e in pc_bm_probs])\n",
        "nc_probs = np.asarray([e[0] for e in nc_bm_probs])\n",
        "int_probs = np.asarray([e[0] for e in int_bm_probs])\n",
        "\n",
        "pg = PlotGenerator()\n",
        "pg.set_text_options(90, 'right', 0, 'center', 12)\n",
        "pg.set_text('Sequence Probabilities Histogram (100 bins)', 'Probability', 'Number of Sequences', None, None)\n",
        "\n",
        "pg.histogram([pc_probs, nc_probs], 100)\n",
        "pg.histogram([int_probs], 100)"
      ],
      "execution_count": 23,
      "outputs": [
        {
          "output_type": "display_data",
          "data": {
            "image/png": "[encoded data removed]",
            "text/plain": [
              "<Figure size 460.8x345.6 with 1 Axes>"
            ]
          },
          "metadata": {
            "tags": [],
            "needs_background": "light"
          }
        },
        {
          "output_type": "display_data",
          "data": {
            "image/png": "[encoded data removed]",
            "text/plain": [
              "<Figure size 460.8x345.6 with 1 Axes>"
            ]
          },
          "metadata": {
            "tags": [],
            "needs_background": "light"
          }
        }
      ]
    }
  ]
}