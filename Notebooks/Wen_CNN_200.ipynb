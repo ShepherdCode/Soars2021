{
  "nbformat": 4,
  "nbformat_minor": 0,
  "metadata": {
    "accelerator": "GPU",
    "colab": {
      "name": "Wen_CNN_200.ipynb",
      "provenance": [],
      "collapsed_sections": []
    },
    "kernelspec": {
      "display_name": "Python 3",
      "language": "python",
      "name": "python3"
    },
    "language_info": {
      "codemirror_mode": {
        "name": "ipython",
        "version": 3
      },
      "file_extension": ".py",
      "mimetype": "text/x-python",
      "name": "python",
      "nbconvert_exporter": "python",
      "pygments_lexer": "ipython3",
      "version": "3.8.3"
    }
  },
  "cells": [
    {
      "cell_type": "markdown",
      "metadata": {
        "id": "ojm_6E9f9Kcf"
      },
      "source": [
        "# Wen CNN \n",
        "\n",
        "Simulate the CNN approach of Wen et al. 2019.\n",
        "\n",
        "Help SOARS students investigate properties of individual RNA"
      ]
    },
    {
      "cell_type": "code",
      "metadata": {
        "colab": {
          "base_uri": "https://localhost:8080/"
        },
        "id": "RmPF4h_YI_sT",
        "outputId": "4c20b642-996f-44d1-80a3-dec650981e88"
      },
      "source": [
        "import time\n",
        "def show_time():\n",
        "    t = time.time()\n",
        "    print(time.strftime('%Y-%m-%d %H:%M:%S %Z', time.localtime(t)))\n",
        "show_time()"
      ],
      "execution_count": 1,
      "outputs": [
        {
          "output_type": "stream",
          "text": [
            "2021-08-05 16:20:15 UTC\n"
          ],
          "name": "stdout"
        }
      ]
    },
    {
      "cell_type": "markdown",
      "metadata": {
        "id": "L3Z2ZUb8oE_s"
      },
      "source": [
        "## Transcripts  of interest\n",
        "The sources of data are:  \n",
        "Annotation from GenCode (GFF 9-column format).  \n",
        "Links to Ensembl.org, the source of GenCode data.\n",
        "\n",
        "### mRNA HOXA\n",
        "\n",
        "- This transcript has length 1686: [ENST00000222718](https://useast.ensembl.org/Homo_sapiens/Transcript/Summary?db=core;g=ENSG00000105996;r=7:27096124-27099966;t=ENST00000222718)\n",
        "- Transcript name is HOXA2-201\n",
        "- Gene name is Homeobox A2 (gene symbol HOX1K)\n",
        "- Gene [page](https://useast.ensembl.org/Homo_sapiens/Gene/Summary?db=core;g=ENSG00000105996;r=7:27096124-27099966;t=ENST00000222718)\n",
        "at Ensemble says \"This gene has 2 transcripts.\"\n",
        "- HOX describes a cluster of genes \n",
        "that collectively determine timing and layout of body growth.\n",
        "HOX genes are very important to all animals and plants \n",
        "in the control of their body development.\n",
        "\n",
        "### LncRNA HOTAIR\n",
        "- GenCode annotation: chr7\tHAVANA\ttranscript\t27096124\t27099966\t.\t+\t.\tID=ENST00000429611.7;Parent=ENSG00000233429.9;gene_id=ENSG00000233429.9;transcript_id=ENST00000429611.7;gene_type=lncRNA;gene_name=HOTAIRM1;transcript_type=lncRNA;transcript_name=HOTAIRM1-203;level=1;transcript_support_level=1;hgnc_id=HGNC:37117;tag=basic,exp_conf;havana_gene=OTTHUMG00000158089.4;havana_transcript=OTTHUMT00000358453.1\n",
        "- Gene [page](https://useast.ensembl.org/Homo_sapiens/Gene/Summary?db=core;g=ENSG00000233429;r=7:27096124-27099966;t=ENST00000429611)\n",
        "at Ensembl says \"This gene has 6 transcripts.\"\n",
        "- This transcript has length 722: [ENST00000429611](https://useast.ensembl.org/Homo_sapiens/Transcript/Summary?db=core;g=ENSG00000233429;r=7:27096124-27099966;t=ENST00000429611) \n",
        "- Gene name is \"HOTAIRM1: HOXA Transcript Antisense RNA, myeloid-specific 1\".\n",
        "The name tells us this lncRNA is transcribed from the opposite strand \n",
        "(reverse complement) of the protein-coding HOXA gene.\n",
        "- Genome location is 7p15.2 (short arm of chr 7)\n",
        "\n",
        "### mRNA APOA\n",
        "- GenCode annotation: chr11\tHAVANA\ttranscript\t116835751\t116837586\t.\t-\t.\tID=ENST00000375320.5;Parent=ENSG00000118137.10;gene_id=ENSG00000118137.10;transcript_id=ENST00000375320.5;gene_type=protein_coding;gene_name=APOA1;transcript_type=protein_coding;transcript_name=APOA1-203;level=2;protein_id=ENSP00000364469.1;transcript_support_level=3;hgnc_id=HGNC:600;tag=alternative_5_UTR,basic,appris_principal_1,CCDS;ccdsid=CCDS8378.1;havana_gene=OTTHUMG00000046112.5;havana_transcript=OTTHUMT00000142222.1\n",
        "- Gene [page](https://useast.ensembl.org/Homo_sapiens/Gene/Summary?db=core;g=ENSG00000118137;r=11:116835751-116837622;t=ENST00000375320)\n",
        "at Ensemble says \"This gene has 5 transcripts.\"\n",
        "- This transcript has length 940: [ENST00000375320](https://useast.ensembl.org/Homo_sapiens/Transcript/Summary?db=core;g=ENSG00000118137;r=11:116835751-116837622;t=ENST00000375320)\n",
        "- Gene name is Apolipoprotein A1\n",
        "- The protein from the Apolipoprotein A1 gene is implicated in Alzheimer's disease.\n",
        "\n",
        "### LncRNA APOA1-AS\n",
        "- GenCode annotation: chr11\tHAVANA\ttranscript\t116836166\t116856018\t.\t+\t.\tID=ENST00000669664.1;Parent=ENSG00000235910.2;gene_id=ENSG00000235910.2;transcript_id=ENST00000669664.1;gene_type=lncRNA;gene_name=APOA1-AS;transcript_type=lncRNA;transcript_name=APOA1-AS-202;level=2;hgnc_id=HGNC:40079;tag=basic,Ensembl_canonical,TAGENE;havana_gene=OTTHUMG00000150649.2;havana_transcript=OTTHUMT00000524029.1\n",
        "- Gene [page](https://useast.ensembl.org/Homo_sapiens/Gene/Summary?db=core;g=ENSG00000235910;r=11:116836166-116856018;t=ENST00000669664)\n",
        "at Ensembl says \"This gene has 2 transcripts.\"\n",
        "- This transcript has length 956: [ENST00000669664](https://useast.ensembl.org/Homo_sapiens/Transcript/Summary?db=core;g=ENSG00000235910;r=11:116836166-116856018;t=ENST00000669664)\n",
        "- Gene name is \"APOA1 antisense RNA\".\n",
        "The name tells us this lncRNA is transcribed from the opposite strand\n",
        "(reverse complement) of the protein-coding APOA1 gene.\n",
        "- Genome location is 11q23.3 (long arm of chr 11)\n"
      ]
    },
    {
      "cell_type": "code",
      "metadata": {
        "id": "z5yutJGooE_y"
      },
      "source": [
        "selectedX=[]\n",
        "selectedY=[]\n",
        "#>ENST00000222718.7|ENSG00000105996.7|OTTHUMG00000023208.7|OTTHUMT00000358508.4|HOXA2-201|HOXA2|1686|UTR5:1-183|CDS:184-1314|UTR3:1315-1686|\n",
        "selectedX.append('AGTTTAATAGTAGCGCGGTCCCCATACGGCTGTAATCAGTGAATTAGAAAAAAAACACCCTAGCAGCGATATTCTATGATAGATTTTTTTTCCTCTGCGCTCGCCTTTTTCCTAGGCCTTGCCCCCCCAAAGCCCCTCCAAAAGAGGGAACTTTTTCTCTGAGGGGGCTCCAAGGAGAAGGCCATGAATTACGAATTTGAGCGAGAGATTGGTTTTATCAATAGCCAGCCGTCGCTCGCTGAGTGCCTGACATCTTTTCCCCCTGTCGCTGATACATTTCAAAGTTCATCAATCAAGACCTCGACGCTTTCACACTCGACACTGATTCCTCCTCCTTTTGAGCAGACCATTCCCAGCCTGAACCCCGGCAGTCACCCTCGCCACGGCGCTGGCGGCCGCCCCAAGCCGAGCCCCGCGGGCAGCCGCGGCAGCCCGGTGCCCGCCGGCGCCCTGCAGCCGCCCGAGTACCCCTGGATGAAGGAGAAGAAGGCGGCCAAGAAAACCGCACTTCTGCCGGCCGCCGCCGCCGCCGCCACCGCCGCAGCCACCGGCCCTGCTTGCCTCAGCCACAAAGAATCCCTGGAAATCGCCGATGGCAGCGGCGGGGGATCGCGGCGCCTGAGAACTGCTTACACCAACACACAGCTTCTAGAGCTGGAAAAAGAATTTCATTTCAACAAGTACCTTTGCAGACCCCGAAGGGTGGAGATTGCAGCGCTGCTGGATTTGACTGAGAGACAAGTGAAAGTGTGGTTTCAGAACCGGAGGATGAAGCACAAGAGGCAGACCCAGTGCAAGGAAAACCAAAACAGCGAAGGGAAATGTAAAAGCCTTGAGGACTCCGAGAAAGTAGAGGAGGACGAGGAAGAGAAGACGCTCTTTGAGCAAGCCCTTAGCGTCTCTGGGGCCCTTCTGGAGAGGGAAGGCTACACTTTTCAGCAAAATGCCCTCTCTCAGCAGCAGGCTCCCAATGGACACAATGGCGACTCCCAAAGTTTCCCAGTCTCGCCTTTAACCAGCAATGAGAAAAATCTGAAACATTTTCAGCACCAGTCACCCACTGTTCCCAACTGCTTGTCAACAATGGGCCAGAACTGTGGAGCTGGCCTAAACAATGACAGTCCTGAGGCCCTTGAGGTCCCCTCTTTGCAGGACTTTAGCGTTTTCTCCACAGATTCCTGCCTGCAGCTTTCAGATGCAGTTTCACCCAGTTTGCCAGGTTCCCTCGACAGTCCCGTAGATATTTCAGCTGACAGCTTAGACTTTTTTACAGACACACTCACCACAATCGACTTGCAGCATCTGAATTACTAAAAACATTAAAGCAAAACAAAGCATCACCAAACAAAAACTCCTTTGACCAGGTGGTTTTGCCTTCTTTTATTTGGGAGTTTATTTTTTATTTTCTTCTTGACCTACCCCTTCCCTCCTTTAAGTGTTGAGGATTTTCTGTTTAGTGATTCCCTGACCCAGTTTCAAACAGAGCCATCTTTTACAGATTATTTTGGAGTTTTAGTTGTTTTAAACCTAACTCAACAACCCTTTATGTGATTCCTGAGAGCAGTATGAGGCCTGCAAGAAAGTGATCATATAATTGTATCTTCACTTTCTTTTTATTTTTGTATTACATTGGGATGCATTGTCATGCATATTTTTTGTAGAATAAATTCTCCTTTGCTATAAGTA')\n",
        "selectedY.append(1) # coding\n",
        "#>ENST00000429611.7|ENSG00000233429.9|OTTHUMG00000158089.4|OTTHUMT00000358453.1|HOTAIRM1-203|HOTAIRM1|722|\n",
        "selectedX.append('CACCGTTTTAGTGGCATTTAAATCCCCGGCGCTCCGCCGTCTAGGTGACGCGCAGTCGCCCCCCCAGGCAGCCTAGGCGGCGGCAGCTGCTGCGGCGACTGCAAAGGCCGATTTGGAGTGCTGGAGCGAAGAAGAGCAAAAGCTGCGTTCTGCGCGCGCCCGACTCCGCTGCCCGCCCCGCCAGGCCTCCGGGAGGTGGGGGCTGGGAGGCGTCCCCCGCTCCCGCCCCCTCCCCACCGTTCAATGAAAGATGAACTGGCGAGAGGACGAATCGCATCCAGGAGCTGCGCAGCCCTGGCCGCTGCCGGGACGCCCTGCTCCGCGCTGAGCTTGGGGCCAGAAACCAGCCATAGTCCCCACACTCCGCCGCCGCAGCTGAGATTTAGCGGAGGAAGGGGCGAGGGAAGGTAGGGAGCAAACCTATGAAGAAACATCGCGTTGTCATTGGAACTTCCAAGCCTTTGCTGTTAAGAGCCAGGTTCTTAAATCAACCCGCCCCACACACATGTTGCTTACATGCTGCGTTTTCTCACGGTCTGTTTTGCCTGAACCCATCAACAGCTGGGAGATTAATCAACCACACTGAAAATGTGGAGGGATTTATGGGGGAGGGGGTTGAAATGTGGGTGTTTGAAACAAAAGTGTATAAACAAATGAATTGTTGATAACTTAGTTATTGACCTGGAGACTGGTAGCTTATTAAAGAAACTCCGTGTTACTCA')\n",
        "selectedY.append(0) # noncoding\n",
        "#>ENST00000375320.5|ENSG00000118137.10|OTTHUMG00000046112.5|OTTHUMT00000142222.1|APOA1-203|APOA1|940|UTR5:1-79|CDS:80-883|UTR3:884-940|\n",
        "selectedX.append('CCCGGTCACTCTGGCTCCCCAGCTCAAGGTTCAGGCCTTGCCCCAGGCCGGGCCTCTGGGTCCCCCACGGCCCTTCAGGATGAAAGCTGCGGTGCTGACCTTGGCCGTGCTCTTCCTGACGGGGAGCCAGGCTCGGCATTTCTGGCAGCAAGATGAACCCCCCCAGAGCCCCTGGGATCGAGTGAAGGACCTGGCCACTGTGTACGTGGATGTGCTCAAAGACAGCGGCAGAGACTATGTGTCCCAGTTTGAAGGCTCCGCCTTGGGAAAACAGCTAAACCTAAAGCTCCTTGACAACTGGGACAGCGTGACCTCCACCTTCAGCAAGCTGCGCGAACAGCTCGGCCCTGTGACCCAGGAGTTCTGGGATAACCTGGAAAAGGAGACAGAGGGCCTGAGGCAGGAGATGAGCAAGGATCTGGAGGAGGTGAAGGCCAAGGTGCAGCCCTACCTGGACGACTTCCAGAAGAAGTGGCAGGAGGAGATGGAGCTCTACCGCCAGAAGGTGGAGCCGCTGCGCGCAGAGCTCCAAGAGGGCGCGCGCCAGAAGCTGCACGAGCTGCAAGAGAAGCTGAGCCCACTGGGCGAGGAGATGCGCGACCGCGCGCGCGCCCATGTGGACGCGCTGCGCACGCATCTGGCCCCCTACAGCGACGAGCTGCGCCAGCGCTTGGCCGCGCGCCTTGAGGCTCTCAAGGAGAACGGCGGCGCCAGACTGGCCGAGTACCACGCCAAGGCCACCGAGCATCTGAGCACGCTCAGCGAGAAGGCCAAGCCCGCGCTCGAGGACCTCCGCCAAGGCCTGCTGCCCGTGCTGGAGAGCTTCAAGGTCAGCTTCCTGAGCGCTCTCGAGGAGTACACTAAGAAGCTCAACACCCAGTGAGGCGCCCGCCGCCGCCCCCCTTCCCGGTGCTCAGAATAAACGTTTCCAAAGTGGGAA')\n",
        "selectedY.append(1) # coding\n",
        "#>ENST00000669664.1|ENSG00000235910.2|OTTHUMG00000150649.2|OTTHUMT00000524029.1|APOA1-AS-202|APOA1-AS|956|\n",
        "selectedX.append('TCTGCGCGCAGCGGCTCCACCTTCTGGCGGTAGAGCTCCATCTCCTCCTGCCACTTCTTCTGGAAGTCGTCCAGGGTGGCAGGCAGGGAGATTACGGACAGCATGGGGCATGTGAAATCCTGACACTTCTACAAATTGGGAAGAAACCTTTGGCATGCTGCCTGCTTAGTGCTCTCACAGTGCCTGGCCTCATACTGGCTGGTGGCAAATCGCCATCAAGGAAATAGATCCAAATGGCAAACCTTCTTCATCCACCAGGACCCAACCCACAGGCTACTTATTGCTGGAAACCTACGTTGTTCCTTGGATTGAAGTAATCTCTCCCTCCTCTGGTGCGCCCACAGCACTTGCACCAACAGTGGGTACTCAACAGACTAGCGTGCCTGCCGAAGAAGGGGTCCTCTGACAATCAGGGGACAATGGGGAATTATGCTCTCCAGACTTTCTACACACACAAGTCACACAGGAAGGAAGGTAAAGAGAAACTAGAGAAAATAATTTTTGAAGAAAAACATTTCAGGAAGTATTGAAAGTACACGGTAACTCAGCCTGGGGCAGGGGTGGAGGGCAGCAGCACTGTTTGCTGCAGCTATGCTCCTTCCTCAGTGCCCTGCACACCCGGGACTTGCTCGGTGAGCATCTCTCGTGTCAGTGACAGCTAGTGTGAGTACTCTTATGTTCAGCTGCCCCTGACTACCTCTTGACTTTGGGGACAAGTTACTTAATCTCTGTGCCTCCGCTGTTTCACTGGTAAATGGGAATAAGAGTTGGTTATTCTAGGGTTGTAGGGTTGTTGTAAGGATTAAATGAATCCGTATGTGAACAGCATTTGGTGCCTGGCACATGTGAGCTCAGCCGGGCGCGGTGGCTCATGCCTGTAATCCCAGCACTTTGGGAGGCCAAGGCGTGCGGATCACGAGGTCAGGAGATCGAGACCATCCTGGCTAACACGGTGA')\n",
        "selectedY.append(0) # noncoding\n"
      ],
      "execution_count": 2,
      "outputs": []
    },
    {
      "cell_type": "code",
      "metadata": {
        "id": "VQY7aTj29Kch"
      },
      "source": [
        "import numpy as np\n",
        "import pandas as pd\n",
        "import matplotlib.pyplot as plt\n",
        "from sklearn.utils import shuffle\n",
        "from sklearn.model_selection import KFold\n",
        "from sklearn.model_selection import cross_val_score\n",
        "from sklearn.metrics import roc_curve\n",
        "from sklearn.metrics import roc_auc_score\n",
        "\n",
        "from keras.models import Sequential\n",
        "from keras.layers import Conv2D,MaxPooling2D\n",
        "from keras.layers import Dense,Embedding,Dropout\n",
        "from keras.layers import Flatten,TimeDistributed\n",
        "from keras.losses import BinaryCrossentropy\n",
        "from keras.callbacks import ModelCheckpoint\n",
        "from keras.models import load_model"
      ],
      "execution_count": 3,
      "outputs": []
    },
    {
      "cell_type": "code",
      "metadata": {
        "colab": {
          "base_uri": "https://localhost:8080/"
        },
        "id": "xUxEB53HI_sk",
        "outputId": "88f96035-2245-4418-e504-e47a22221b70"
      },
      "source": [
        "import sys\n",
        "IN_COLAB = False\n",
        "try:\n",
        "    from google.colab import drive\n",
        "    IN_COLAB = True\n",
        "except:\n",
        "    pass\n",
        "if IN_COLAB:\n",
        "    print(\"On Google CoLab, mount cloud-local file, get our code from GitHub.\")\n",
        "    PATH='/content/drive/'\n",
        "    #drive.mount(PATH,force_remount=True)  # hardly ever need this\n",
        "    drive.mount(PATH)    # Google will require login credentials\n",
        "    DATAPATH=PATH+'My Drive/data/'  # must end in \"/\"\n",
        "    import requests\n",
        "    r = requests.get('https://raw.githubusercontent.com/ShepherdCode/Soars2021/master/SimTools/RNA_describe.py')\n",
        "    with open('RNA_describe.py', 'w') as f:\n",
        "        f.write(r.text)  \n",
        "    from RNA_describe import ORF_counter\n",
        "    r = requests.get('https://raw.githubusercontent.com/ShepherdCode/Soars2021/master/SimTools/GenCodeTools.py')\n",
        "    with open('GenCodeTools.py', 'w') as f:\n",
        "        f.write(r.text)  \n",
        "    from GenCodeTools import GenCodeLoader\n",
        "    r = requests.get('https://raw.githubusercontent.com/ShepherdCode/Soars2021/master/SimTools/KmerTools.py')\n",
        "    with open('KmerTools.py', 'w') as f:\n",
        "        f.write(r.text)  \n",
        "    from KmerTools import KmerTools\n",
        "    r = requests.get('https://raw.githubusercontent.com/ShepherdCode/Soars2021/master/SimTools/plot_generator.py')\n",
        "    with open ('plot_generator.py', 'w') as f:\n",
        "        f.write(r.text)\n",
        "    from plot_generator import PlotGenerator\n",
        "else:\n",
        "        print(\"CoLab not working. On my PC, use relative paths.\")\n",
        "        DATAPATH='data/'  # must end in \"/\"\n",
        "        sys.path.append(\"..\") # append parent dir in order to use sibling dirs\n",
        "        from SimTools.RNA_describe import ORF_counter\n",
        "        from SimTools.GenCodeTools import GenCodeLoader\n",
        "        from SimTools.KmerTools import KmerTools\n",
        "        from SimTools.plot_generator import PlotGenerator\n",
        "BESTMODELPATH=DATAPATH+\"BestModel\"  # saved on cloud instance and lost after logout\n",
        "LASTMODELPATH=DATAPATH+\"LastModel\"  # saved on Google Drive but requires login"
      ],
      "execution_count": 4,
      "outputs": [
        {
          "output_type": "stream",
          "text": [
            "On Google CoLab, mount cloud-local file, get our code from GitHub.\n",
            "Mounted at /content/drive/\n"
          ],
          "name": "stdout"
        }
      ]
    },
    {
      "cell_type": "markdown",
      "metadata": {
        "id": "8buAhZRfI_sp"
      },
      "source": [
        "## Data Load"
      ]
    },
    {
      "cell_type": "code",
      "metadata": {
        "colab": {
          "base_uri": "https://localhost:8080/"
        },
        "id": "h94xptH1tI82",
        "outputId": "bd5d8a25-a6c4-4348-d34e-027ee4c8f68a"
      },
      "source": [
        "PC_TRAINS=8000\n",
        "NC_TRAINS=8000\n",
        "PC_TESTS=2000\n",
        "NC_TESTS=2000   \n",
        "PC_LENS=(200,4000)\n",
        "NC_LENS=(200,4000)   # Wen used 3500 for hyperparameter, 3000 for train\n",
        "PC_FILENAME='gencode.v38.pc_transcripts.fa.gz'\n",
        "NC_FILENAME='gencode.v38.lncRNA_transcripts.fa.gz'\n",
        "PC_FULLPATH=DATAPATH+PC_FILENAME\n",
        "NC_FULLPATH=DATAPATH+NC_FILENAME\n",
        "MAX_K = 3 \n",
        "# With K={1,2,3}, num K-mers is 4^3 + 4^2 + 4^1 = 84.\n",
        "# Wen specified 17x20 which is impossible.\n",
        "# The factors of 84 are 1, 2, 3, 4, 6, 7, 12, 14, 21, 28, 42 and 84.\n",
        "FRQ_CNT=84\n",
        "ROWS=7\n",
        "COLS=FRQ_CNT//ROWS\n",
        "SHAPE2D = (ROWS,COLS,1)\n",
        "EPOCHS=50 # 1000 # 200\n",
        "SPLITS=5\n",
        "FOLDS=1   # make this 5 for serious testing\n",
        "show_time()"
      ],
      "execution_count": 5,
      "outputs": [
        {
          "output_type": "stream",
          "text": [
            "2021-08-05 16:20:41 UTC\n"
          ],
          "name": "stdout"
        }
      ]
    },
    {
      "cell_type": "code",
      "metadata": {
        "colab": {
          "base_uri": "https://localhost:8080/"
        },
        "id": "VNnPagXjtI85",
        "outputId": "c8e75ee9-e07d-4cf0-8704-735dfaf2161b"
      },
      "source": [
        "loader=GenCodeLoader()\n",
        "loader.set_label(1)\n",
        "loader.set_check_utr(True)\n",
        "pcdf=loader.load_file(PC_FULLPATH)\n",
        "print(\"PC seqs loaded:\",len(pcdf))\n",
        "loader.set_label(0)\n",
        "loader.set_check_utr(False)\n",
        "ncdf=loader.load_file(NC_FULLPATH)\n",
        "print(\"NC seqs loaded:\",len(ncdf))\n",
        "show_time()"
      ],
      "execution_count": 6,
      "outputs": [
        {
          "output_type": "stream",
          "text": [
            "PC seqs loaded: 70825\n",
            "NC seqs loaded: 48752\n",
            "2021-08-05 16:20:48 UTC\n"
          ],
          "name": "stdout"
        }
      ]
    },
    {
      "cell_type": "code",
      "metadata": {
        "colab": {
          "base_uri": "https://localhost:8080/"
        },
        "id": "ShtPw_fGtI9E",
        "outputId": "8e359d8b-a4f6-48a1-d12a-d2cbe111d828"
      },
      "source": [
        "def dataframe_length_filter(df,low_high):\n",
        "    (low,high)=low_high\n",
        "    # The pandas query language is strange, \n",
        "    # but this is MUCH faster than loop & drop.\n",
        "    return df[ (df['seqlen']>=low) & (df['seqlen']<=high) ]\n",
        "def dataframe_extract_sequence(df):\n",
        "    return df['sequence'].tolist()\n",
        "\n",
        "pc_all = dataframe_extract_sequence(\n",
        "    dataframe_length_filter(pcdf,PC_LENS))\n",
        "nc_all = dataframe_extract_sequence(\n",
        "    dataframe_length_filter(ncdf,NC_LENS))\n",
        "\n",
        "show_time()\n",
        "print(\"PC seqs pass filter:\",len(pc_all))\n",
        "print(\"NC seqs pass filter:\",len(nc_all))\n",
        "# Garbage collection to reduce RAM footprint\n",
        "pcdf=None\n",
        "ncdf=None"
      ],
      "execution_count": 7,
      "outputs": [
        {
          "output_type": "stream",
          "text": [
            "2021-08-05 16:20:48 UTC\n",
            "PC seqs pass filter: 55381\n",
            "NC seqs pass filter: 46919\n"
          ],
          "name": "stdout"
        }
      ]
    },
    {
      "cell_type": "markdown",
      "metadata": {
        "id": "CCNh_FZaI_sv"
      },
      "source": [
        "## Data Prep"
      ]
    },
    {
      "cell_type": "code",
      "metadata": {
        "colab": {
          "base_uri": "https://localhost:8080/"
        },
        "id": "V91rP2osI_s1",
        "outputId": "2473c080-fcf7-44f1-db65-4546e24c50f0"
      },
      "source": [
        "pc_train=pc_all[:PC_TRAINS] \n",
        "nc_train=nc_all[:NC_TRAINS]\n",
        "print(\"PC train, NC train:\",len(pc_train),len(nc_train))\n",
        "pc_test=pc_all[PC_TRAINS:PC_TRAINS+PC_TESTS] \n",
        "nc_test=nc_all[NC_TRAINS:NC_TRAINS+PC_TESTS]\n",
        "print(\"PC test, NC test:\",len(pc_test),len(nc_test))\n",
        "# Garbage collection\n",
        "pc_all=None\n",
        "nc_all=None"
      ],
      "execution_count": 8,
      "outputs": [
        {
          "output_type": "stream",
          "text": [
            "PC train, NC train: 8000 8000\n",
            "PC test, NC test: 2000 2000\n"
          ],
          "name": "stdout"
        }
      ]
    },
    {
      "cell_type": "code",
      "metadata": {
        "id": "FfyPeInGI_s4"
      },
      "source": [
        "def prepare_x_and_y(seqs1,seqs0):\n",
        "    len1=len(seqs1)\n",
        "    len0=len(seqs0)\n",
        "    total=len1+len0\n",
        "    L1=np.ones(len1,dtype=np.int8)\n",
        "    L0=np.zeros(len0,dtype=np.int8)\n",
        "    S1 = np.asarray(seqs1)\n",
        "    S0 = np.asarray(seqs0)\n",
        "    all_labels = np.concatenate((L1,L0))\n",
        "    all_seqs = np.concatenate((S1,S0))  \n",
        "    # interleave (uses less RAM than shuffle)\n",
        "    for i in range(0,len0):\n",
        "        all_labels[i*2] = L0[i]\n",
        "        all_seqs[i*2] = S0[i]\n",
        "        all_labels[i*2+1] = L1[i]\n",
        "        all_seqs[i*2+1] = S1[i]\n",
        "    return all_seqs,all_labels  # use this to test unshuffled\n",
        "    X,y = shuffle(all_seqs,all_labels) # sklearn.utils.shuffle \n",
        "    return X,y\n"
      ],
      "execution_count": 9,
      "outputs": []
    },
    {
      "cell_type": "code",
      "metadata": {
        "colab": {
          "base_uri": "https://localhost:8080/"
        },
        "id": "vpgzXXAao8sj",
        "outputId": "74752be1-fc0b-4de4-b346-e06e507dfe35"
      },
      "source": [
        "Xseq,y=prepare_x_and_y(pc_train,nc_train)\n",
        "#print(Xseq[:3])\n",
        "#print(y[:3])\n",
        "show_time()"
      ],
      "execution_count": 10,
      "outputs": [
        {
          "output_type": "stream",
          "text": [
            "2021-08-05 16:20:49 UTC\n"
          ],
          "name": "stdout"
        }
      ]
    },
    {
      "cell_type": "code",
      "metadata": {
        "colab": {
          "base_uri": "https://localhost:8080/"
        },
        "id": "LWLixZOfI_s7",
        "outputId": "a8f06c7a-78c2-4ea7-801c-cf5011fec36b"
      },
      "source": [
        "def seqs_to_kmer_freqs(seqs,max_K):\n",
        "    tool = KmerTools()  # from SimTools\n",
        "    collection = []\n",
        "    for seq in seqs:\n",
        "        counts = tool.make_dict_upto_K(max_K)\n",
        "        # Last param should be True when using Harvester.\n",
        "        counts = tool.update_count_one_K(counts,max_K,seq,True)\n",
        "        # Given counts for K=3, Harvester fills in counts for K=1,2.\n",
        "        counts = tool.harvest_counts_from_K(counts,max_K)\n",
        "        fdict = tool.count_to_frequency(counts,max_K)\n",
        "        freqs = list(fdict.values())\n",
        "        collection.append(freqs)\n",
        "    return np.asarray(collection)\n",
        "Xfrq=seqs_to_kmer_freqs(Xseq,MAX_K)\n",
        "# Garbage collection\n",
        "Xseq = None\n",
        "show_time()"
      ],
      "execution_count": 11,
      "outputs": [
        {
          "output_type": "stream",
          "text": [
            "2021-08-05 16:21:00 UTC\n"
          ],
          "name": "stdout"
        }
      ]
    },
    {
      "cell_type": "code",
      "metadata": {
        "colab": {
          "base_uri": "https://localhost:8080/"
        },
        "id": "WBBY4rH3cwT2",
        "outputId": "454b978b-89c0-4b08-fb6d-0cec03ed1dc8"
      },
      "source": [
        "def reshape(frequency_matrix):\n",
        "    seq_cnt,frq_cnt=Xfrq.shape \n",
        "    # CNN inputs require a last dimension = numbers per pixel.\n",
        "    # For RGB images it is 3.\n",
        "    # For our frequency matrix it is 1.\n",
        "    new_matrix = frequency_matrix.reshape(seq_cnt,ROWS,COLS,1)\n",
        "    return new_matrix\n",
        "\n",
        "print(\"Xfrq\")\n",
        "print(\"Xfrq type\",type(Xfrq))\n",
        "print(\"Xfrq shape\",Xfrq.shape)\n",
        "Xfrq2D = reshape(Xfrq)\n",
        "print(\"Xfrq2D shape\",Xfrq2D.shape)"
      ],
      "execution_count": 12,
      "outputs": [
        {
          "output_type": "stream",
          "text": [
            "Xfrq\n",
            "Xfrq type <class 'numpy.ndarray'>\n",
            "Xfrq shape (16000, 84)\n",
            "Xfrq2D shape (16000, 7, 12, 1)\n"
          ],
          "name": "stdout"
        }
      ]
    },
    {
      "cell_type": "markdown",
      "metadata": {
        "id": "dJ4XhrzGI_s-"
      },
      "source": [
        "## Build and train a neural network"
      ]
    },
    {
      "cell_type": "code",
      "metadata": {
        "colab": {
          "base_uri": "https://localhost:8080/"
        },
        "id": "o5NPW7zKI_tC",
        "outputId": "8244a40c-6e9a-4972-ae91-57fa75c495f2"
      },
      "source": [
        "def make_DNN(shape):\n",
        "    dt=np.float32\n",
        "    print(\"make_DNN\")\n",
        "    print(\"input shape:\",shape)\n",
        "    WIDTH=(3,3)\n",
        "    STRIDE=(1,1)\n",
        "    dnn = Sequential()\n",
        "    dnn.add(Conv2D(filters=32,kernel_size=WIDTH,strides=STRIDE,activation=\"relu\",padding=\"same\",\n",
        "            input_shape=shape))\n",
        "    dnn.add(Conv2D(filters=64,kernel_size=WIDTH,strides=STRIDE,activation=\"relu\",padding=\"same\"))\n",
        "    dnn.add(MaxPooling2D())\n",
        "    dnn.add(Flatten())\n",
        "    dnn.add(Dropout(0.25))\n",
        "    dnn.add(Dense(128,activation=\"sigmoid\",dtype=dt)) \n",
        "    dnn.add(Dropout(0.50))\n",
        "    dnn.add(Dense(1,activation=\"sigmoid\",dtype=dt))   \n",
        "    dnn.compile(optimizer='adam',    # adadelta doesn't work as well\n",
        "                loss=BinaryCrossentropy(from_logits=False),\n",
        "                metrics=['accuracy'])   # add to default metrics=loss\n",
        "    dnn.build(input_shape=shape) \n",
        "    return dnn\n",
        "model = make_DNN(SHAPE2D)\n",
        "print(model.summary())"
      ],
      "execution_count": 13,
      "outputs": [
        {
          "output_type": "stream",
          "text": [
            "make_DNN\n",
            "input shape: (7, 12, 1)\n",
            "Model: \"sequential\"\n",
            "_________________________________________________________________\n",
            "Layer (type)                 Output Shape              Param #   \n",
            "=================================================================\n",
            "conv2d (Conv2D)              (None, 7, 12, 32)         320       \n",
            "_________________________________________________________________\n",
            "conv2d_1 (Conv2D)            (None, 7, 12, 64)         18496     \n",
            "_________________________________________________________________\n",
            "max_pooling2d (MaxPooling2D) (None, 3, 6, 64)          0         \n",
            "_________________________________________________________________\n",
            "flatten (Flatten)            (None, 1152)              0         \n",
            "_________________________________________________________________\n",
            "dropout (Dropout)            (None, 1152)              0         \n",
            "_________________________________________________________________\n",
            "dense (Dense)                (None, 128)               147584    \n",
            "_________________________________________________________________\n",
            "dropout_1 (Dropout)          (None, 128)               0         \n",
            "_________________________________________________________________\n",
            "dense_1 (Dense)              (None, 1)                 129       \n",
            "=================================================================\n",
            "Total params: 166,529\n",
            "Trainable params: 166,529\n",
            "Non-trainable params: 0\n",
            "_________________________________________________________________\n",
            "None\n"
          ],
          "name": "stdout"
        }
      ]
    },
    {
      "cell_type": "code",
      "metadata": {
        "id": "7xBalIrXrEAS"
      },
      "source": [
        "def do_cross_validation(X,y,shape):\n",
        "    cv_scores = []\n",
        "    fold=0\n",
        "    mycallbacks = [ModelCheckpoint(\n",
        "        filepath=BESTMODELPATH, save_best_only=True, \n",
        "        monitor='val_accuracy', mode='max')]   \n",
        "    # When shuffle=True, the valid indices are a random subset.\n",
        "    splitter = KFold(n_splits=SPLITS,shuffle=True) \n",
        "    model = None\n",
        "    for train_index,valid_index in splitter.split(X):\n",
        "        if fold < FOLDS:\n",
        "            fold += 1\n",
        "            X_train=X[train_index] # inputs for training\n",
        "            y_train=y[train_index] # labels for training\n",
        "            X_valid=X[valid_index] # inputs for validation\n",
        "            y_valid=y[valid_index] # labels for validation\n",
        "            print(\"MODEL\")\n",
        "            # Call constructor on each CV. Else, continually improves the same model.\n",
        "            model = model = make_DNN(shape)\n",
        "            print(\"FIT\")  # model.fit() implements learning\n",
        "            start_time=time.time()\n",
        "            history=model.fit(X_train, y_train, \n",
        "                    epochs=EPOCHS, \n",
        "                    verbose=1,  # ascii art while learning\n",
        "                    callbacks=mycallbacks,   # called at end of each epoch\n",
        "                    validation_data=(X_valid,y_valid))\n",
        "            end_time=time.time()\n",
        "            elapsed_time=(end_time-start_time)                        \n",
        "            print(\"Fold %d, %d epochs, %d sec\"%(fold,EPOCHS,elapsed_time))\n",
        "            # print(history.history.keys())  # all these keys will be shown in figure\n",
        "            pd.DataFrame(history.history).plot(figsize=(8,5))\n",
        "            plt.grid(True)\n",
        "            plt.gca().set_ylim(0,1) # any losses > 1 will be off the scale\n",
        "            plt.show()\n",
        "    return model  # parameters at end of training"
      ],
      "execution_count": 14,
      "outputs": []
    },
    {
      "cell_type": "code",
      "metadata": {
        "colab": {
          "base_uri": "https://localhost:8080/",
          "height": 1000
        },
        "id": "BM6UjBzrrEAV",
        "outputId": "c302596c-8510-4a0a-eb28-7f66ee7f2c7e"
      },
      "source": [
        "show_time()\n",
        "last_model = do_cross_validation(Xfrq2D,y,SHAPE2D)\n",
        "last_model.save(LASTMODELPATH)"
      ],
      "execution_count": 15,
      "outputs": [
        {
          "output_type": "stream",
          "text": [
            "2021-08-05 16:21:06 UTC\n",
            "MODEL\n",
            "make_DNN\n",
            "input shape: (7, 12, 1)\n",
            "FIT\n",
            "Epoch 1/50\n",
            "400/400 [==============================] - 45s 4ms/step - loss: 0.7335 - accuracy: 0.5311 - val_loss: 0.6131 - val_accuracy: 0.6497\n",
            "INFO:tensorflow:Assets written to: /content/drive/My Drive/data/BestModel/assets\n",
            "Epoch 2/50\n",
            "400/400 [==============================] - 1s 3ms/step - loss: 0.6173 - accuracy: 0.6589 - val_loss: 0.5571 - val_accuracy: 0.7237\n",
            "INFO:tensorflow:Assets written to: /content/drive/My Drive/data/BestModel/assets\n",
            "Epoch 3/50\n",
            "400/400 [==============================] - 1s 3ms/step - loss: 0.5690 - accuracy: 0.7144 - val_loss: 0.5117 - val_accuracy: 0.7534\n",
            "INFO:tensorflow:Assets written to: /content/drive/My Drive/data/BestModel/assets\n",
            "Epoch 4/50\n",
            "400/400 [==============================] - 1s 3ms/step - loss: 0.5248 - accuracy: 0.7457 - val_loss: 0.4497 - val_accuracy: 0.7931\n",
            "INFO:tensorflow:Assets written to: /content/drive/My Drive/data/BestModel/assets\n",
            "Epoch 5/50\n",
            "400/400 [==============================] - 1s 3ms/step - loss: 0.4801 - accuracy: 0.7766 - val_loss: 0.4237 - val_accuracy: 0.8103\n",
            "INFO:tensorflow:Assets written to: /content/drive/My Drive/data/BestModel/assets\n",
            "Epoch 6/50\n",
            "400/400 [==============================] - 1s 3ms/step - loss: 0.4349 - accuracy: 0.7999 - val_loss: 0.3902 - val_accuracy: 0.8319\n",
            "INFO:tensorflow:Assets written to: /content/drive/My Drive/data/BestModel/assets\n",
            "Epoch 7/50\n",
            "400/400 [==============================] - 1s 3ms/step - loss: 0.4082 - accuracy: 0.8210 - val_loss: 0.3808 - val_accuracy: 0.8316\n",
            "Epoch 8/50\n",
            "400/400 [==============================] - 1s 3ms/step - loss: 0.4061 - accuracy: 0.8204 - val_loss: 0.3879 - val_accuracy: 0.8241\n",
            "Epoch 9/50\n",
            "400/400 [==============================] - 1s 3ms/step - loss: 0.3848 - accuracy: 0.8269 - val_loss: 0.3646 - val_accuracy: 0.8347\n",
            "INFO:tensorflow:Assets written to: /content/drive/My Drive/data/BestModel/assets\n",
            "Epoch 10/50\n",
            "400/400 [==============================] - 1s 3ms/step - loss: 0.3730 - accuracy: 0.8346 - val_loss: 0.3599 - val_accuracy: 0.8366\n",
            "INFO:tensorflow:Assets written to: /content/drive/My Drive/data/BestModel/assets\n",
            "Epoch 11/50\n",
            "400/400 [==============================] - 1s 3ms/step - loss: 0.3682 - accuracy: 0.8427 - val_loss: 0.3543 - val_accuracy: 0.8400\n",
            "INFO:tensorflow:Assets written to: /content/drive/My Drive/data/BestModel/assets\n",
            "Epoch 12/50\n",
            "400/400 [==============================] - 1s 3ms/step - loss: 0.3642 - accuracy: 0.8372 - val_loss: 0.3556 - val_accuracy: 0.8384\n",
            "Epoch 13/50\n",
            "400/400 [==============================] - 1s 3ms/step - loss: 0.3642 - accuracy: 0.8401 - val_loss: 0.3540 - val_accuracy: 0.8378\n",
            "Epoch 14/50\n",
            "400/400 [==============================] - 1s 4ms/step - loss: 0.3579 - accuracy: 0.8449 - val_loss: 0.3448 - val_accuracy: 0.8450\n",
            "INFO:tensorflow:Assets written to: /content/drive/My Drive/data/BestModel/assets\n",
            "Epoch 15/50\n",
            "400/400 [==============================] - 1s 3ms/step - loss: 0.3488 - accuracy: 0.8531 - val_loss: 0.3592 - val_accuracy: 0.8397\n",
            "Epoch 16/50\n",
            "400/400 [==============================] - 1s 3ms/step - loss: 0.3291 - accuracy: 0.8642 - val_loss: 0.3446 - val_accuracy: 0.8394\n",
            "Epoch 17/50\n",
            "400/400 [==============================] - 2s 4ms/step - loss: 0.3479 - accuracy: 0.8470 - val_loss: 0.3412 - val_accuracy: 0.8453\n",
            "INFO:tensorflow:Assets written to: /content/drive/My Drive/data/BestModel/assets\n",
            "Epoch 18/50\n",
            "400/400 [==============================] - 1s 3ms/step - loss: 0.3444 - accuracy: 0.8531 - val_loss: 0.3410 - val_accuracy: 0.8450\n",
            "Epoch 19/50\n",
            "400/400 [==============================] - 1s 3ms/step - loss: 0.3314 - accuracy: 0.8617 - val_loss: 0.3423 - val_accuracy: 0.8450\n",
            "Epoch 20/50\n",
            "400/400 [==============================] - 1s 4ms/step - loss: 0.3268 - accuracy: 0.8585 - val_loss: 0.3332 - val_accuracy: 0.8453\n",
            "Epoch 21/50\n",
            "400/400 [==============================] - 1s 4ms/step - loss: 0.3320 - accuracy: 0.8556 - val_loss: 0.3299 - val_accuracy: 0.8484\n",
            "INFO:tensorflow:Assets written to: /content/drive/My Drive/data/BestModel/assets\n",
            "Epoch 22/50\n",
            "400/400 [==============================] - 1s 3ms/step - loss: 0.3233 - accuracy: 0.8646 - val_loss: 0.3339 - val_accuracy: 0.8516\n",
            "INFO:tensorflow:Assets written to: /content/drive/My Drive/data/BestModel/assets\n",
            "Epoch 23/50\n",
            "400/400 [==============================] - 1s 3ms/step - loss: 0.3205 - accuracy: 0.8661 - val_loss: 0.3258 - val_accuracy: 0.8484\n",
            "Epoch 24/50\n",
            "400/400 [==============================] - 1s 4ms/step - loss: 0.3180 - accuracy: 0.8613 - val_loss: 0.3225 - val_accuracy: 0.8509\n",
            "Epoch 25/50\n",
            "400/400 [==============================] - 2s 4ms/step - loss: 0.3106 - accuracy: 0.8632 - val_loss: 0.3321 - val_accuracy: 0.8497\n",
            "Epoch 26/50\n",
            "400/400 [==============================] - 1s 4ms/step - loss: 0.3141 - accuracy: 0.8610 - val_loss: 0.3239 - val_accuracy: 0.8500\n",
            "Epoch 27/50\n",
            "400/400 [==============================] - 1s 3ms/step - loss: 0.3117 - accuracy: 0.8664 - val_loss: 0.3209 - val_accuracy: 0.8528\n",
            "INFO:tensorflow:Assets written to: /content/drive/My Drive/data/BestModel/assets\n",
            "Epoch 28/50\n",
            "400/400 [==============================] - 1s 3ms/step - loss: 0.3013 - accuracy: 0.8723 - val_loss: 0.3287 - val_accuracy: 0.8500\n",
            "Epoch 29/50\n",
            "400/400 [==============================] - 1s 3ms/step - loss: 0.3045 - accuracy: 0.8670 - val_loss: 0.3193 - val_accuracy: 0.8559\n",
            "INFO:tensorflow:Assets written to: /content/drive/My Drive/data/BestModel/assets\n",
            "Epoch 30/50\n",
            "400/400 [==============================] - 1s 4ms/step - loss: 0.2955 - accuracy: 0.8724 - val_loss: 0.3225 - val_accuracy: 0.8594\n",
            "INFO:tensorflow:Assets written to: /content/drive/My Drive/data/BestModel/assets\n",
            "Epoch 31/50\n",
            "400/400 [==============================] - 1s 4ms/step - loss: 0.2967 - accuracy: 0.8706 - val_loss: 0.3175 - val_accuracy: 0.8512\n",
            "Epoch 32/50\n",
            "400/400 [==============================] - 1s 3ms/step - loss: 0.2957 - accuracy: 0.8762 - val_loss: 0.3193 - val_accuracy: 0.8578\n",
            "Epoch 33/50\n",
            "400/400 [==============================] - 1s 3ms/step - loss: 0.2880 - accuracy: 0.8775 - val_loss: 0.3141 - val_accuracy: 0.8619\n",
            "INFO:tensorflow:Assets written to: /content/drive/My Drive/data/BestModel/assets\n",
            "Epoch 34/50\n",
            "400/400 [==============================] - 1s 4ms/step - loss: 0.2961 - accuracy: 0.8721 - val_loss: 0.3221 - val_accuracy: 0.8578\n",
            "Epoch 35/50\n",
            "400/400 [==============================] - 1s 3ms/step - loss: 0.3013 - accuracy: 0.8679 - val_loss: 0.3129 - val_accuracy: 0.8606\n",
            "Epoch 36/50\n",
            "400/400 [==============================] - 1s 4ms/step - loss: 0.2899 - accuracy: 0.8714 - val_loss: 0.3187 - val_accuracy: 0.8631\n",
            "INFO:tensorflow:Assets written to: /content/drive/My Drive/data/BestModel/assets\n",
            "Epoch 37/50\n",
            "400/400 [==============================] - 1s 4ms/step - loss: 0.2847 - accuracy: 0.8772 - val_loss: 0.3109 - val_accuracy: 0.8606\n",
            "Epoch 38/50\n",
            "400/400 [==============================] - 1s 3ms/step - loss: 0.2940 - accuracy: 0.8749 - val_loss: 0.3147 - val_accuracy: 0.8575\n",
            "Epoch 39/50\n",
            "400/400 [==============================] - 1s 4ms/step - loss: 0.2870 - accuracy: 0.8788 - val_loss: 0.3105 - val_accuracy: 0.8647\n",
            "INFO:tensorflow:Assets written to: /content/drive/My Drive/data/BestModel/assets\n",
            "Epoch 40/50\n",
            "400/400 [==============================] - 1s 3ms/step - loss: 0.2834 - accuracy: 0.8754 - val_loss: 0.3098 - val_accuracy: 0.8634\n",
            "Epoch 41/50\n",
            "400/400 [==============================] - 1s 3ms/step - loss: 0.2676 - accuracy: 0.8856 - val_loss: 0.3086 - val_accuracy: 0.8653\n",
            "INFO:tensorflow:Assets written to: /content/drive/My Drive/data/BestModel/assets\n",
            "Epoch 42/50\n",
            "400/400 [==============================] - 1s 3ms/step - loss: 0.2668 - accuracy: 0.8857 - val_loss: 0.3130 - val_accuracy: 0.8666\n",
            "INFO:tensorflow:Assets written to: /content/drive/My Drive/data/BestModel/assets\n",
            "Epoch 43/50\n",
            "400/400 [==============================] - 1s 3ms/step - loss: 0.2751 - accuracy: 0.8793 - val_loss: 0.3035 - val_accuracy: 0.8662\n",
            "Epoch 44/50\n",
            "400/400 [==============================] - 1s 3ms/step - loss: 0.2764 - accuracy: 0.8819 - val_loss: 0.3201 - val_accuracy: 0.8666\n",
            "Epoch 45/50\n",
            "400/400 [==============================] - 1s 3ms/step - loss: 0.2798 - accuracy: 0.8803 - val_loss: 0.3125 - val_accuracy: 0.8681\n",
            "INFO:tensorflow:Assets written to: /content/drive/My Drive/data/BestModel/assets\n",
            "Epoch 46/50\n",
            "400/400 [==============================] - 1s 3ms/step - loss: 0.2548 - accuracy: 0.8905 - val_loss: 0.3174 - val_accuracy: 0.8628\n",
            "Epoch 47/50\n",
            "400/400 [==============================] - 1s 3ms/step - loss: 0.2722 - accuracy: 0.8838 - val_loss: 0.3066 - val_accuracy: 0.8641\n",
            "Epoch 48/50\n",
            "400/400 [==============================] - 1s 3ms/step - loss: 0.2609 - accuracy: 0.8884 - val_loss: 0.3151 - val_accuracy: 0.8659\n",
            "Epoch 49/50\n",
            "400/400 [==============================] - 1s 3ms/step - loss: 0.2507 - accuracy: 0.8992 - val_loss: 0.3023 - val_accuracy: 0.8697\n",
            "INFO:tensorflow:Assets written to: /content/drive/My Drive/data/BestModel/assets\n",
            "Epoch 50/50\n",
            "400/400 [==============================] - 1s 3ms/step - loss: 0.2610 - accuracy: 0.8925 - val_loss: 0.3048 - val_accuracy: 0.8687\n",
            "Fold 1, 50 epochs, 137 sec\n"
          ],
          "name": "stdout"
        },
        {
          "output_type": "display_data",
          "data": {
            "image/png": "[encoded data removed]",
            "text/plain": [
              "<Figure size 576x360 with 1 Axes>"
            ]
          },
          "metadata": {
            "tags": [],
            "needs_background": "light"
          }
        },
        {
          "output_type": "stream",
          "text": [
            "INFO:tensorflow:Assets written to: /content/drive/My Drive/data/LastModel/assets\n"
          ],
          "name": "stdout"
        }
      ]
    },
    {
      "cell_type": "markdown",
      "metadata": {
        "id": "OsytC9VUrEAX"
      },
      "source": [
        "## Test the neural network"
      ]
    },
    {
      "cell_type": "code",
      "metadata": {
        "colab": {
          "base_uri": "https://localhost:8080/"
        },
        "id": "yl_32wkloFA7",
        "outputId": "2342368b-75c4-48f2-8406-45f94d041560"
      },
      "source": [
        "show_time()\n",
        "model = load_model(BESTMODELPATH)\n",
        "Xseq,y=prepare_x_and_y(pc_test,nc_test)  # test sequences\n",
        "Xfrq=seqs_to_kmer_freqs(Xseq,MAX_K)      # converted to K-mer frequencies\n",
        "X = reshape(Xfrq)                        # and formatted as 2D matrix\n",
        "show_time()"
      ],
      "execution_count": 16,
      "outputs": [
        {
          "output_type": "stream",
          "text": [
            "2021-08-05 16:23:26 UTC\n",
            "2021-08-05 16:23:29 UTC\n"
          ],
          "name": "stdout"
        }
      ]
    },
    {
      "cell_type": "code",
      "metadata": {
        "id": "8hIqe1r1rEAa",
        "colab": {
          "base_uri": "https://localhost:8080/"
        },
        "outputId": "1d1db96d-af22-441f-89bf-7458a81eeb98"
      },
      "source": [
        "scores = model.evaluate(X, y, verbose=0)\n",
        "print(\"%s: %.2f%%\" % (model.metrics_names[1], scores[1]*100))"
      ],
      "execution_count": 17,
      "outputs": [
        {
          "output_type": "stream",
          "text": [
            "accuracy: 86.92%\n"
          ],
          "name": "stdout"
        }
      ]
    },
    {
      "cell_type": "markdown",
      "metadata": {
        "id": "TTxQB_cbp-2s"
      },
      "source": [
        "## Apply the network to specific data sets"
      ]
    },
    {
      "cell_type": "code",
      "metadata": {
        "id": "8keogpZypr_E"
      },
      "source": [
        "def prepare_one(seqs1,label):\n",
        "    len1=len(seqs1)\n",
        "    if label==1:\n",
        "        L1=np.ones(len1,dtype=np.int8)\n",
        "    else:\n",
        "        L1=np.zeros(len1,dtype=np.int8)\n",
        "    Xfrq=seqs_to_kmer_freqs(seqs1,MAX_K)      # converted to K-mer frequencies\n",
        "    return Xfrq,L1\n"
      ],
      "execution_count": 18,
      "outputs": []
    },
    {
      "cell_type": "code",
      "metadata": {
        "colab": {
          "base_uri": "https://localhost:8080/"
        },
        "id": "uKZErkm5oFBA",
        "outputId": "f4e7b84a-bdef-4e64-a125-6f976dc562fa"
      },
      "source": [
        "print(\"The protein coding test set...\")\n",
        "Xfrq,y = prepare_one(pc_test,1)\n",
        "rows=7\n",
        "cols=FRQ_CNT//rows\n",
        "seq_cnt,old_rows=Xfrq.shape \n",
        "X = Xfrq.reshape(seq_cnt,rows,cols,1)\n",
        "\n",
        "scores = model.evaluate(X, y, verbose=0)\n",
        "print(\"%s: %.2f%%\" % (model.metrics_names[1], scores[1]*100))\n",
        "pc_bm_probs = model.predict(X)\n",
        "print(\"First few scores...\")\n",
        "print(pc_bm_probs[:5])\n",
        "print(len(pc_bm_probs))\n",
        "print(pc_bm_probs.shape)"
      ],
      "execution_count": 19,
      "outputs": [
        {
          "output_type": "stream",
          "text": [
            "The protein coding test set...\n",
            "accuracy: 86.50%\n",
            "First few scores...\n",
            "[[0.98272324]\n",
            " [0.9986058 ]\n",
            " [0.6508776 ]\n",
            " [0.6616081 ]\n",
            " [0.7329945 ]]\n",
            "2000\n",
            "(2000, 1)\n"
          ],
          "name": "stdout"
        }
      ]
    },
    {
      "cell_type": "code",
      "metadata": {
        "id": "-cSLTNfzrEAo",
        "colab": {
          "base_uri": "https://localhost:8080/"
        },
        "outputId": "4f729b03-f54e-42f6-bd56-2d1ebef8ef79"
      },
      "source": [
        "print(\"The non coding test set...\")\n",
        "Xfrq,y = prepare_one(nc_test,1)\n",
        "rows=7\n",
        "cols=FRQ_CNT//rows\n",
        "seq_cnt,old_rows=Xfrq.shape \n",
        "X = Xfrq.reshape(seq_cnt,rows,cols,1)\n",
        "\n",
        "scores = model.evaluate(X, y, verbose=0)\n",
        "print(\"%s: %.2f%%\" % (model.metrics_names[1], scores[1]*100))\n",
        "nc_bm_probs = model.predict(X)\n",
        "print(\"First few scores...\")\n",
        "print(nc_bm_probs[:5])\n",
        "print(len(nc_bm_probs))\n",
        "print(nc_bm_probs.shape)"
      ],
      "execution_count": 20,
      "outputs": [
        {
          "output_type": "stream",
          "text": [
            "The non coding test set...\n",
            "accuracy: 12.65%\n",
            "First few scores...\n",
            "[[0.32705763]\n",
            " [0.40750793]\n",
            " [0.26546258]\n",
            " [0.19260159]\n",
            " [0.03720992]]\n",
            "2000\n",
            "(2000, 1)\n"
          ],
          "name": "stdout"
        }
      ]
    },
    {
      "cell_type": "code",
      "metadata": {
        "colab": {
          "base_uri": "https://localhost:8080/"
        },
        "id": "1yjj57go7G4I",
        "outputId": "d4e3b657-67e5-45c1-d7a1-21bad474d9ad"
      },
      "source": [
        "print(\"The sequences of interest...\")\n",
        "Xfrq,y = prepare_one(selectedX,41)  # don't use second parameter; set y on next line\n",
        "y = np.asarray(selectedY)\n",
        "rows=7\n",
        "cols=FRQ_CNT//rows\n",
        "seq_cnt,old_rows=Xfrq.shape \n",
        "X = Xfrq.reshape(seq_cnt,rows,cols,1)\n",
        "\n",
        "\n",
        "scores = model.evaluate(X, y, verbose=0)\n",
        "print(\"%s: %.2f%%\" % (model.metrics_names[1], scores[1]*100))\n",
        "int_bm_probs = model.predict(X)\n",
        "print(\"First few scores...\")\n",
        "print(int_bm_probs[:5])"
      ],
      "execution_count": 30,
      "outputs": [
        {
          "output_type": "stream",
          "text": [
            "The sequences of interest...\n",
            "accuracy: 75.00%\n",
            "First few scores...\n",
            "[[0.46364492]\n",
            " [0.14791192]\n",
            " [0.7745577 ]\n",
            " [0.01361422]]\n"
          ],
          "name": "stdout"
        }
      ]
    },
    {
      "cell_type": "code",
      "metadata": {
        "colab": {
          "base_uri": "https://localhost:8080/",
          "height": 228
        },
        "id": "2TKZSHx69iEW",
        "outputId": "94f50a65-1792-4d29-9bdd-83b0206b5418"
      },
      "source": [
        "#temp bad fix for arrays\n",
        "pc_probs = []\n",
        "for pc_bm_prob in pc_bm_probs:\n",
        "    pc_probs.append(pc_bm_prob[0])\n",
        "pc_probs = np.asarray(pc_probs)\n",
        "nc_probs = []\n",
        "for nc_bm_prob in nc_bm_probs:\n",
        "    nc_probs.append(nc_bm_prob[0])\n",
        "nc_probs = np.asarray(nc_probs)\n",
        "int_probs = []\n",
        "for int_bm_prob in int_bm_probs:\n",
        "    int_probs.append(int_bm_prob[0])\n",
        "int_probs = np.asarray(int_probs)\n",
        "\n",
        "pg = PlotGenerator()\n",
        "pg.set_figure_options(width=20)\n",
        "pg.set_text_options(90, 'right', 0, 'center', 12)\n",
        "\n",
        "pg.histogram([pc_probs, nc_probs, int_probs], 100)"
      ],
      "execution_count": 34,
      "outputs": [
        {
          "output_type": "display_data",
          "data": {
            "image/png": "[encoded data removed]",
            "text/plain": [
              "<Figure size 1440x345.6 with 1 Axes>"
            ]
          },
          "metadata": {
            "tags": [],
            "needs_background": "light"
          }
        }
      ]
    }
  ]
}