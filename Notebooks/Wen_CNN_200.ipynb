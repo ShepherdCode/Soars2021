{
  "nbformat": 4,
  "nbformat_minor": 0,
  "metadata": {
    "accelerator": "GPU",
    "colab": {
      "name": "Wen_CNN_200.ipynb",
      "provenance": [],
      "collapsed_sections": []
    },
    "kernelspec": {
      "display_name": "Python 3",
      "language": "python",
      "name": "python3"
    },
    "language_info": {
      "codemirror_mode": {
        "name": "ipython",
        "version": 3
      },
      "file_extension": ".py",
      "mimetype": "text/x-python",
      "name": "python",
      "nbconvert_exporter": "python",
      "pygments_lexer": "ipython3",
      "version": "3.8.3"
    }
  },
  "cells": [
    {
      "cell_type": "markdown",
      "metadata": {
        "id": "ojm_6E9f9Kcf"
      },
      "source": [
        "# Wen CNN \n",
        "\n",
        "Simulate the CNN approach of Wen et al. 2019.\n",
        "\n",
        "Help SOARS students investigate properties of individual RNA"
      ]
    },
    {
      "cell_type": "code",
      "metadata": {
        "colab": {
          "base_uri": "https://localhost:8080/"
        },
        "id": "RmPF4h_YI_sT",
        "outputId": "4184b371-e89e-4533-820a-f1e03323ba66"
      },
      "source": [
        "import time\n",
        "def show_time():\n",
        "    t = time.time()\n",
        "    print(time.strftime('%Y-%m-%d %H:%M:%S %Z', time.localtime(t)))\n",
        "show_time()"
      ],
      "execution_count": 1,
      "outputs": [
        {
          "output_type": "stream",
          "text": [
            "2021-08-11 19:24:47 UTC\n"
          ],
          "name": "stdout"
        }
      ]
    },
    {
      "cell_type": "markdown",
      "metadata": {
        "id": "L3Z2ZUb8oE_s"
      },
      "source": [
        "## Transcripts  of interest\n",
        "The sources of data are:  \n",
        "Annotation from GenCode (GFF 9-column format).  \n",
        "Links to Ensembl.org, the source of GenCode data.\n",
        "\n",
        "### mRNA HOXA\n",
        "\n",
        "- This transcript has length 1686: [ENST00000222718](https://useast.ensembl.org/Homo_sapiens/Transcript/Summary?db=core;g=ENSG00000105996;r=7:27096124-27099966;t=ENST00000222718)\n",
        "- Transcript name is HOXA2-201\n",
        "- Gene name is Homeobox A2 (gene symbol HOX1K)\n",
        "- Gene [page](https://useast.ensembl.org/Homo_sapiens/Gene/Summary?db=core;g=ENSG00000105996;r=7:27096124-27099966;t=ENST00000222718)\n",
        "at Ensemble says \"This gene has 2 transcripts.\"\n",
        "- HOX describes a cluster of genes \n",
        "that collectively determine timing and layout of body growth.\n",
        "HOX genes are very important to all animals and plants \n",
        "in the control of their body development.\n",
        "\n",
        "### LncRNA HOTAIR\n",
        "- GenCode annotation: chr7\tHAVANA\ttranscript\t27096124\t27099966\t.\t+\t.\tID=ENST00000429611.7;Parent=ENSG00000233429.9;gene_id=ENSG00000233429.9;transcript_id=ENST00000429611.7;gene_type=lncRNA;gene_name=HOTAIRM1;transcript_type=lncRNA;transcript_name=HOTAIRM1-203;level=1;transcript_support_level=1;hgnc_id=HGNC:37117;tag=basic,exp_conf;havana_gene=OTTHUMG00000158089.4;havana_transcript=OTTHUMT00000358453.1\n",
        "- Gene [page](https://useast.ensembl.org/Homo_sapiens/Gene/Summary?db=core;g=ENSG00000233429;r=7:27096124-27099966;t=ENST00000429611)\n",
        "at Ensembl says \"This gene has 6 transcripts.\"\n",
        "- This transcript has length 722: [ENST00000429611](https://useast.ensembl.org/Homo_sapiens/Transcript/Summary?db=core;g=ENSG00000233429;r=7:27096124-27099966;t=ENST00000429611) \n",
        "- Gene name is \"HOTAIRM1: HOXA Transcript Antisense RNA, myeloid-specific 1\".\n",
        "The name tells us this lncRNA is transcribed from the opposite strand \n",
        "(reverse complement) of the protein-coding HOXA gene.\n",
        "- Genome location is 7p15.2 (short arm of chr 7)\n",
        "\n",
        "### mRNA APOA\n",
        "- GenCode annotation: chr11\tHAVANA\ttranscript\t116835751\t116837586\t.\t-\t.\tID=ENST00000375320.5;Parent=ENSG00000118137.10;gene_id=ENSG00000118137.10;transcript_id=ENST00000375320.5;gene_type=protein_coding;gene_name=APOA1;transcript_type=protein_coding;transcript_name=APOA1-203;level=2;protein_id=ENSP00000364469.1;transcript_support_level=3;hgnc_id=HGNC:600;tag=alternative_5_UTR,basic,appris_principal_1,CCDS;ccdsid=CCDS8378.1;havana_gene=OTTHUMG00000046112.5;havana_transcript=OTTHUMT00000142222.1\n",
        "- Gene [page](https://useast.ensembl.org/Homo_sapiens/Gene/Summary?db=core;g=ENSG00000118137;r=11:116835751-116837622;t=ENST00000375320)\n",
        "at Ensemble says \"This gene has 5 transcripts.\"\n",
        "- This transcript has length 940: [ENST00000375320](https://useast.ensembl.org/Homo_sapiens/Transcript/Summary?db=core;g=ENSG00000118137;r=11:116835751-116837622;t=ENST00000375320)\n",
        "- Gene name is Apolipoprotein A1\n",
        "- The protein from the Apolipoprotein A1 gene is implicated in Alzheimer's disease.\n",
        "\n",
        "### LncRNA APOA1-AS\n",
        "- GenCode annotation: chr11\tHAVANA\ttranscript\t116836166\t116856018\t.\t+\t.\tID=ENST00000669664.1;Parent=ENSG00000235910.2;gene_id=ENSG00000235910.2;transcript_id=ENST00000669664.1;gene_type=lncRNA;gene_name=APOA1-AS;transcript_type=lncRNA;transcript_name=APOA1-AS-202;level=2;hgnc_id=HGNC:40079;tag=basic,Ensembl_canonical,TAGENE;havana_gene=OTTHUMG00000150649.2;havana_transcript=OTTHUMT00000524029.1\n",
        "- Gene [page](https://useast.ensembl.org/Homo_sapiens/Gene/Summary?db=core;g=ENSG00000235910;r=11:116836166-116856018;t=ENST00000669664)\n",
        "at Ensembl says \"This gene has 2 transcripts.\"\n",
        "- This transcript has length 956: [ENST00000669664](https://useast.ensembl.org/Homo_sapiens/Transcript/Summary?db=core;g=ENSG00000235910;r=11:116836166-116856018;t=ENST00000669664)\n",
        "- Gene name is \"APOA1 antisense RNA\".\n",
        "The name tells us this lncRNA is transcribed from the opposite strand\n",
        "(reverse complement) of the protein-coding APOA1 gene.\n",
        "- Genome location is 11q23.3 (long arm of chr 11)\n"
      ]
    },
    {
      "cell_type": "code",
      "metadata": {
        "id": "z5yutJGooE_y"
      },
      "source": [
        "selectedX=[]\n",
        "selectedY=[]\n",
        "#>ENST00000222718.7|ENSG00000105996.7|OTTHUMG00000023208.7|OTTHUMT00000358508.4|HOXA2-201|HOXA2|1686|UTR5:1-183|CDS:184-1314|UTR3:1315-1686|\n",
        "selectedX.append('AGTTTAATAGTAGCGCGGTCCCCATACGGCTGTAATCAGTGAATTAGAAAAAAAACACCCTAGCAGCGATATTCTATGATAGATTTTTTTTCCTCTGCGCTCGCCTTTTTCCTAGGCCTTGCCCCCCCAAAGCCCCTCCAAAAGAGGGAACTTTTTCTCTGAGGGGGCTCCAAGGAGAAGGCCATGAATTACGAATTTGAGCGAGAGATTGGTTTTATCAATAGCCAGCCGTCGCTCGCTGAGTGCCTGACATCTTTTCCCCCTGTCGCTGATACATTTCAAAGTTCATCAATCAAGACCTCGACGCTTTCACACTCGACACTGATTCCTCCTCCTTTTGAGCAGACCATTCCCAGCCTGAACCCCGGCAGTCACCCTCGCCACGGCGCTGGCGGCCGCCCCAAGCCGAGCCCCGCGGGCAGCCGCGGCAGCCCGGTGCCCGCCGGCGCCCTGCAGCCGCCCGAGTACCCCTGGATGAAGGAGAAGAAGGCGGCCAAGAAAACCGCACTTCTGCCGGCCGCCGCCGCCGCCGCCACCGCCGCAGCCACCGGCCCTGCTTGCCTCAGCCACAAAGAATCCCTGGAAATCGCCGATGGCAGCGGCGGGGGATCGCGGCGCCTGAGAACTGCTTACACCAACACACAGCTTCTAGAGCTGGAAAAAGAATTTCATTTCAACAAGTACCTTTGCAGACCCCGAAGGGTGGAGATTGCAGCGCTGCTGGATTTGACTGAGAGACAAGTGAAAGTGTGGTTTCAGAACCGGAGGATGAAGCACAAGAGGCAGACCCAGTGCAAGGAAAACCAAAACAGCGAAGGGAAATGTAAAAGCCTTGAGGACTCCGAGAAAGTAGAGGAGGACGAGGAAGAGAAGACGCTCTTTGAGCAAGCCCTTAGCGTCTCTGGGGCCCTTCTGGAGAGGGAAGGCTACACTTTTCAGCAAAATGCCCTCTCTCAGCAGCAGGCTCCCAATGGACACAATGGCGACTCCCAAAGTTTCCCAGTCTCGCCTTTAACCAGCAATGAGAAAAATCTGAAACATTTTCAGCACCAGTCACCCACTGTTCCCAACTGCTTGTCAACAATGGGCCAGAACTGTGGAGCTGGCCTAAACAATGACAGTCCTGAGGCCCTTGAGGTCCCCTCTTTGCAGGACTTTAGCGTTTTCTCCACAGATTCCTGCCTGCAGCTTTCAGATGCAGTTTCACCCAGTTTGCCAGGTTCCCTCGACAGTCCCGTAGATATTTCAGCTGACAGCTTAGACTTTTTTACAGACACACTCACCACAATCGACTTGCAGCATCTGAATTACTAAAAACATTAAAGCAAAACAAAGCATCACCAAACAAAAACTCCTTTGACCAGGTGGTTTTGCCTTCTTTTATTTGGGAGTTTATTTTTTATTTTCTTCTTGACCTACCCCTTCCCTCCTTTAAGTGTTGAGGATTTTCTGTTTAGTGATTCCCTGACCCAGTTTCAAACAGAGCCATCTTTTACAGATTATTTTGGAGTTTTAGTTGTTTTAAACCTAACTCAACAACCCTTTATGTGATTCCTGAGAGCAGTATGAGGCCTGCAAGAAAGTGATCATATAATTGTATCTTCACTTTCTTTTTATTTTTGTATTACATTGGGATGCATTGTCATGCATATTTTTTGTAGAATAAATTCTCCTTTGCTATAAGTA')\n",
        "selectedY.append(1) # coding\n",
        "#>ENST00000429611.7|ENSG00000233429.9|OTTHUMG00000158089.4|OTTHUMT00000358453.1|HOTAIRM1-203|HOTAIRM1|722|\n",
        "selectedX.append('CACCGTTTTAGTGGCATTTAAATCCCCGGCGCTCCGCCGTCTAGGTGACGCGCAGTCGCCCCCCCAGGCAGCCTAGGCGGCGGCAGCTGCTGCGGCGACTGCAAAGGCCGATTTGGAGTGCTGGAGCGAAGAAGAGCAAAAGCTGCGTTCTGCGCGCGCCCGACTCCGCTGCCCGCCCCGCCAGGCCTCCGGGAGGTGGGGGCTGGGAGGCGTCCCCCGCTCCCGCCCCCTCCCCACCGTTCAATGAAAGATGAACTGGCGAGAGGACGAATCGCATCCAGGAGCTGCGCAGCCCTGGCCGCTGCCGGGACGCCCTGCTCCGCGCTGAGCTTGGGGCCAGAAACCAGCCATAGTCCCCACACTCCGCCGCCGCAGCTGAGATTTAGCGGAGGAAGGGGCGAGGGAAGGTAGGGAGCAAACCTATGAAGAAACATCGCGTTGTCATTGGAACTTCCAAGCCTTTGCTGTTAAGAGCCAGGTTCTTAAATCAACCCGCCCCACACACATGTTGCTTACATGCTGCGTTTTCTCACGGTCTGTTTTGCCTGAACCCATCAACAGCTGGGAGATTAATCAACCACACTGAAAATGTGGAGGGATTTATGGGGGAGGGGGTTGAAATGTGGGTGTTTGAAACAAAAGTGTATAAACAAATGAATTGTTGATAACTTAGTTATTGACCTGGAGACTGGTAGCTTATTAAAGAAACTCCGTGTTACTCA')\n",
        "selectedY.append(0) # noncoding\n",
        "#>ENST00000375320.5|ENSG00000118137.10|OTTHUMG00000046112.5|OTTHUMT00000142222.1|APOA1-203|APOA1|940|UTR5:1-79|CDS:80-883|UTR3:884-940|\n",
        "selectedX.append('CCCGGTCACTCTGGCTCCCCAGCTCAAGGTTCAGGCCTTGCCCCAGGCCGGGCCTCTGGGTCCCCCACGGCCCTTCAGGATGAAAGCTGCGGTGCTGACCTTGGCCGTGCTCTTCCTGACGGGGAGCCAGGCTCGGCATTTCTGGCAGCAAGATGAACCCCCCCAGAGCCCCTGGGATCGAGTGAAGGACCTGGCCACTGTGTACGTGGATGTGCTCAAAGACAGCGGCAGAGACTATGTGTCCCAGTTTGAAGGCTCCGCCTTGGGAAAACAGCTAAACCTAAAGCTCCTTGACAACTGGGACAGCGTGACCTCCACCTTCAGCAAGCTGCGCGAACAGCTCGGCCCTGTGACCCAGGAGTTCTGGGATAACCTGGAAAAGGAGACAGAGGGCCTGAGGCAGGAGATGAGCAAGGATCTGGAGGAGGTGAAGGCCAAGGTGCAGCCCTACCTGGACGACTTCCAGAAGAAGTGGCAGGAGGAGATGGAGCTCTACCGCCAGAAGGTGGAGCCGCTGCGCGCAGAGCTCCAAGAGGGCGCGCGCCAGAAGCTGCACGAGCTGCAAGAGAAGCTGAGCCCACTGGGCGAGGAGATGCGCGACCGCGCGCGCGCCCATGTGGACGCGCTGCGCACGCATCTGGCCCCCTACAGCGACGAGCTGCGCCAGCGCTTGGCCGCGCGCCTTGAGGCTCTCAAGGAGAACGGCGGCGCCAGACTGGCCGAGTACCACGCCAAGGCCACCGAGCATCTGAGCACGCTCAGCGAGAAGGCCAAGCCCGCGCTCGAGGACCTCCGCCAAGGCCTGCTGCCCGTGCTGGAGAGCTTCAAGGTCAGCTTCCTGAGCGCTCTCGAGGAGTACACTAAGAAGCTCAACACCCAGTGAGGCGCCCGCCGCCGCCCCCCTTCCCGGTGCTCAGAATAAACGTTTCCAAAGTGGGAA')\n",
        "selectedY.append(1) # coding\n",
        "#>ENST00000669664.1|ENSG00000235910.2|OTTHUMG00000150649.2|OTTHUMT00000524029.1|APOA1-AS-202|APOA1-AS|956|\n",
        "selectedX.append('TCTGCGCGCAGCGGCTCCACCTTCTGGCGGTAGAGCTCCATCTCCTCCTGCCACTTCTTCTGGAAGTCGTCCAGGGTGGCAGGCAGGGAGATTACGGACAGCATGGGGCATGTGAAATCCTGACACTTCTACAAATTGGGAAGAAACCTTTGGCATGCTGCCTGCTTAGTGCTCTCACAGTGCCTGGCCTCATACTGGCTGGTGGCAAATCGCCATCAAGGAAATAGATCCAAATGGCAAACCTTCTTCATCCACCAGGACCCAACCCACAGGCTACTTATTGCTGGAAACCTACGTTGTTCCTTGGATTGAAGTAATCTCTCCCTCCTCTGGTGCGCCCACAGCACTTGCACCAACAGTGGGTACTCAACAGACTAGCGTGCCTGCCGAAGAAGGGGTCCTCTGACAATCAGGGGACAATGGGGAATTATGCTCTCCAGACTTTCTACACACACAAGTCACACAGGAAGGAAGGTAAAGAGAAACTAGAGAAAATAATTTTTGAAGAAAAACATTTCAGGAAGTATTGAAAGTACACGGTAACTCAGCCTGGGGCAGGGGTGGAGGGCAGCAGCACTGTTTGCTGCAGCTATGCTCCTTCCTCAGTGCCCTGCACACCCGGGACTTGCTCGGTGAGCATCTCTCGTGTCAGTGACAGCTAGTGTGAGTACTCTTATGTTCAGCTGCCCCTGACTACCTCTTGACTTTGGGGACAAGTTACTTAATCTCTGTGCCTCCGCTGTTTCACTGGTAAATGGGAATAAGAGTTGGTTATTCTAGGGTTGTAGGGTTGTTGTAAGGATTAAATGAATCCGTATGTGAACAGCATTTGGTGCCTGGCACATGTGAGCTCAGCCGGGCGCGGTGGCTCATGCCTGTAATCCCAGCACTTTGGGAGGCCAAGGCGTGCGGATCACGAGGTCAGGAGATCGAGACCATCCTGGCTAACACGGTGA')\n",
        "selectedY.append(0) # noncoding\n"
      ],
      "execution_count": 2,
      "outputs": []
    },
    {
      "cell_type": "code",
      "metadata": {
        "id": "VQY7aTj29Kch"
      },
      "source": [
        "import numpy as np\n",
        "import pandas as pd\n",
        "import matplotlib.pyplot as plt\n",
        "from sklearn.utils import shuffle\n",
        "from sklearn.model_selection import KFold\n",
        "from sklearn.model_selection import cross_val_score\n",
        "from sklearn.metrics import roc_curve\n",
        "from sklearn.metrics import roc_auc_score\n",
        "\n",
        "from keras.models import Sequential\n",
        "from keras.layers import Conv2D,MaxPooling2D\n",
        "from keras.layers import Dense,Embedding,Dropout\n",
        "from keras.layers import Flatten,TimeDistributed\n",
        "from keras.losses import BinaryCrossentropy\n",
        "from keras.callbacks import ModelCheckpoint\n",
        "from keras.models import load_model"
      ],
      "execution_count": 3,
      "outputs": []
    },
    {
      "cell_type": "code",
      "metadata": {
        "colab": {
          "base_uri": "https://localhost:8080/"
        },
        "id": "xUxEB53HI_sk",
        "outputId": "a08b95cf-9600-4232-8b71-5eaa50c67d01"
      },
      "source": [
        "import sys\n",
        "IN_COLAB = False\n",
        "try:\n",
        "    from google.colab import drive\n",
        "    IN_COLAB = True\n",
        "except:\n",
        "    pass\n",
        "if IN_COLAB:\n",
        "    print(\"On Google CoLab, mount cloud-local file, get our code from GitHub.\")\n",
        "    PATH='/content/drive/'\n",
        "    #drive.mount(PATH,force_remount=True)  # hardly ever need this\n",
        "    drive.mount(PATH)    # Google will require login credentials\n",
        "    DATAPATH=PATH+'My Drive/data/'  # must end in \"/\"\n",
        "    import requests\n",
        "    r = requests.get('https://raw.githubusercontent.com/ShepherdCode/Soars2021/master/SimTools/RNA_describe.py')\n",
        "    with open('RNA_describe.py', 'w') as f:\n",
        "        f.write(r.text)  \n",
        "    from RNA_describe import ORF_counter\n",
        "    r = requests.get('https://raw.githubusercontent.com/ShepherdCode/Soars2021/master/SimTools/GenCodeTools.py')\n",
        "    with open('GenCodeTools.py', 'w') as f:\n",
        "        f.write(r.text)  \n",
        "    from GenCodeTools import GenCodeLoader\n",
        "    r = requests.get('https://raw.githubusercontent.com/ShepherdCode/Soars2021/master/SimTools/KmerTools.py')\n",
        "    with open('KmerTools.py', 'w') as f:\n",
        "        f.write(r.text)  \n",
        "    from KmerTools import KmerTools\n",
        "    r = requests.get('https://raw.githubusercontent.com/ShepherdCode/Soars2021/master/SimTools/plot_generator.py')\n",
        "    with open ('plot_generator.py', 'w') as f:\n",
        "        f.write(r.text)\n",
        "    from plot_generator import PlotGenerator\n",
        "else:\n",
        "        print(\"CoLab not working. On my PC, use relative paths.\")\n",
        "        DATAPATH='data/'  # must end in \"/\"\n",
        "        sys.path.append(\"..\") # append parent dir in order to use sibling dirs\n",
        "        from SimTools.RNA_describe import ORF_counter\n",
        "        from SimTools.GenCodeTools import GenCodeLoader\n",
        "        from SimTools.KmerTools import KmerTools\n",
        "        from SimTools.plot_generator import PlotGenerator\n",
        "BESTMODELPATH=DATAPATH+\"BestModel\"  # saved on cloud instance and lost after logout\n",
        "LASTMODELPATH=DATAPATH+\"LastModel\"  # saved on Google Drive but requires login"
      ],
      "execution_count": 4,
      "outputs": [
        {
          "output_type": "stream",
          "text": [
            "On Google CoLab, mount cloud-local file, get our code from GitHub.\n",
            "Mounted at /content/drive/\n"
          ],
          "name": "stdout"
        }
      ]
    },
    {
      "cell_type": "markdown",
      "metadata": {
        "id": "8buAhZRfI_sp"
      },
      "source": [
        "## Data Load"
      ]
    },
    {
      "cell_type": "code",
      "metadata": {
        "colab": {
          "base_uri": "https://localhost:8080/"
        },
        "id": "h94xptH1tI82",
        "outputId": "d2e43320-9ec3-4c78-ad50-c28a17e72cc3"
      },
      "source": [
        "PC_TRAINS=8000\n",
        "NC_TRAINS=8000\n",
        "PC_TESTS=2000\n",
        "NC_TESTS=2000   \n",
        "PC_LENS=(200,4000)\n",
        "NC_LENS=(200,4000)   # Wen used 3500 for hyperparameter, 3000 for train\n",
        "PC_FILENAME='gencode.v38.pc_transcripts.fa.gz'\n",
        "NC_FILENAME='gencode.v38.lncRNA_transcripts.fa.gz'\n",
        "PC_FULLPATH=DATAPATH+PC_FILENAME\n",
        "NC_FULLPATH=DATAPATH+NC_FILENAME\n",
        "MAX_K = 3 \n",
        "# With K={1,2,3}, num K-mers is 4^3 + 4^2 + 4^1 = 84.\n",
        "# Wen specified 17x20 which is impossible.\n",
        "# The factors of 84 are 1, 2, 3, 4, 6, 7, 12, 14, 21, 28, 42 and 84.\n",
        "FRQ_CNT=84\n",
        "ROWS=7\n",
        "COLS=FRQ_CNT//ROWS\n",
        "SHAPE2D = (ROWS,COLS,1)\n",
        "EPOCHS=50 # 1000 # 200\n",
        "SPLITS=5\n",
        "FOLDS=5   # make this 5 for serious testing\n",
        "show_time()"
      ],
      "execution_count": 5,
      "outputs": [
        {
          "output_type": "stream",
          "text": [
            "2021-08-11 19:25:14 UTC\n"
          ],
          "name": "stdout"
        }
      ]
    },
    {
      "cell_type": "code",
      "metadata": {
        "colab": {
          "base_uri": "https://localhost:8080/"
        },
        "id": "VNnPagXjtI85",
        "outputId": "a345cc31-034c-4b6a-cb45-c41bbd7f8eff"
      },
      "source": [
        "loader=GenCodeLoader()\n",
        "loader.set_label(1)\n",
        "loader.set_check_utr(True)\n",
        "pcdf=loader.load_file(PC_FULLPATH)\n",
        "print(\"PC seqs loaded:\",len(pcdf))\n",
        "loader.set_label(0)\n",
        "loader.set_check_utr(False)\n",
        "ncdf=loader.load_file(NC_FULLPATH)\n",
        "print(\"NC seqs loaded:\",len(ncdf))\n",
        "show_time()"
      ],
      "execution_count": 6,
      "outputs": [
        {
          "output_type": "stream",
          "text": [
            "PC seqs loaded: 70825\n",
            "NC seqs loaded: 48752\n",
            "2021-08-11 19:25:22 UTC\n"
          ],
          "name": "stdout"
        }
      ]
    },
    {
      "cell_type": "code",
      "metadata": {
        "colab": {
          "base_uri": "https://localhost:8080/"
        },
        "id": "ShtPw_fGtI9E",
        "outputId": "a9e5d359-d862-4e4a-df9b-cd2daea3b563"
      },
      "source": [
        "def dataframe_length_filter(df,low_high):\n",
        "    (low,high)=low_high\n",
        "    # The pandas query language is strange, \n",
        "    # but this is MUCH faster than loop & drop.\n",
        "    return df[ (df['seqlen']>=low) & (df['seqlen']<=high) ]\n",
        "def dataframe_extract_sequence(df):\n",
        "    return df['sequence'].tolist()\n",
        "\n",
        "pc_all = dataframe_extract_sequence(\n",
        "    dataframe_length_filter(pcdf,PC_LENS))\n",
        "nc_all = dataframe_extract_sequence(\n",
        "    dataframe_length_filter(ncdf,NC_LENS))\n",
        "\n",
        "show_time()\n",
        "print(\"PC seqs pass filter:\",len(pc_all))\n",
        "print(\"NC seqs pass filter:\",len(nc_all))\n",
        "# Garbage collection to reduce RAM footprint\n",
        "pcdf=None\n",
        "ncdf=None"
      ],
      "execution_count": 7,
      "outputs": [
        {
          "output_type": "stream",
          "text": [
            "2021-08-11 19:25:23 UTC\n",
            "PC seqs pass filter: 55381\n",
            "NC seqs pass filter: 46919\n"
          ],
          "name": "stdout"
        }
      ]
    },
    {
      "cell_type": "markdown",
      "metadata": {
        "id": "CCNh_FZaI_sv"
      },
      "source": [
        "## Data Prep"
      ]
    },
    {
      "cell_type": "code",
      "metadata": {
        "colab": {
          "base_uri": "https://localhost:8080/"
        },
        "id": "V91rP2osI_s1",
        "outputId": "53c86de6-280a-48c4-bbea-b0620c581e13"
      },
      "source": [
        "pc_train=pc_all[:PC_TRAINS] \n",
        "nc_train=nc_all[:NC_TRAINS]\n",
        "print(\"PC train, NC train:\",len(pc_train),len(nc_train))\n",
        "pc_test=pc_all[PC_TRAINS:PC_TRAINS+PC_TESTS] \n",
        "nc_test=nc_all[NC_TRAINS:NC_TRAINS+PC_TESTS]\n",
        "print(\"PC test, NC test:\",len(pc_test),len(nc_test))\n",
        "# Garbage collection\n",
        "pc_all=None\n",
        "nc_all=None"
      ],
      "execution_count": 8,
      "outputs": [
        {
          "output_type": "stream",
          "text": [
            "PC train, NC train: 8000 8000\n",
            "PC test, NC test: 2000 2000\n"
          ],
          "name": "stdout"
        }
      ]
    },
    {
      "cell_type": "code",
      "metadata": {
        "id": "FfyPeInGI_s4"
      },
      "source": [
        "def prepare_x_and_y(seqs1,seqs0):\n",
        "    len1=len(seqs1)\n",
        "    len0=len(seqs0)\n",
        "    total=len1+len0\n",
        "    L1=np.ones(len1,dtype=np.int8)\n",
        "    L0=np.zeros(len0,dtype=np.int8)\n",
        "    S1 = np.asarray(seqs1)\n",
        "    S0 = np.asarray(seqs0)\n",
        "    all_labels = np.concatenate((L1,L0))\n",
        "    all_seqs = np.concatenate((S1,S0))  \n",
        "    # interleave (uses less RAM than shuffle)\n",
        "    for i in range(0,len0):\n",
        "        all_labels[i*2] = L0[i]\n",
        "        all_seqs[i*2] = S0[i]\n",
        "        all_labels[i*2+1] = L1[i]\n",
        "        all_seqs[i*2+1] = S1[i]\n",
        "    return all_seqs,all_labels  # use this to test unshuffled\n",
        "    X,y = shuffle(all_seqs,all_labels) # sklearn.utils.shuffle \n",
        "    return X,y\n"
      ],
      "execution_count": 9,
      "outputs": []
    },
    {
      "cell_type": "code",
      "metadata": {
        "colab": {
          "base_uri": "https://localhost:8080/"
        },
        "id": "vpgzXXAao8sj",
        "outputId": "b0478328-df06-4fc5-f95e-1f207026e925"
      },
      "source": [
        "Xseq,y=prepare_x_and_y(pc_train,nc_train)\n",
        "#print(Xseq[:3])\n",
        "#print(y[:3])\n",
        "show_time()"
      ],
      "execution_count": 10,
      "outputs": [
        {
          "output_type": "stream",
          "text": [
            "2021-08-11 19:25:23 UTC\n"
          ],
          "name": "stdout"
        }
      ]
    },
    {
      "cell_type": "code",
      "metadata": {
        "colab": {
          "base_uri": "https://localhost:8080/"
        },
        "id": "LWLixZOfI_s7",
        "outputId": "597096c7-1ca0-4b75-c189-5a13cecb5d3c"
      },
      "source": [
        "def seqs_to_kmer_freqs(seqs,max_K):\n",
        "    tool = KmerTools()  # from SimTools\n",
        "    collection = []\n",
        "    for seq in seqs:\n",
        "        counts = tool.make_dict_upto_K(max_K)\n",
        "        # Last param should be True when using Harvester.\n",
        "        counts = tool.update_count_one_K(counts,max_K,seq,True)\n",
        "        # Given counts for K=3, Harvester fills in counts for K=1,2.\n",
        "        counts = tool.harvest_counts_from_K(counts,max_K)\n",
        "        fdict = tool.count_to_frequency(counts,max_K)\n",
        "        freqs = list(fdict.values())\n",
        "        collection.append(freqs)\n",
        "    return np.asarray(collection)\n",
        "Xfrq=seqs_to_kmer_freqs(Xseq,MAX_K)\n",
        "# Garbage collection\n",
        "Xseq = None\n",
        "show_time()"
      ],
      "execution_count": 11,
      "outputs": [
        {
          "output_type": "stream",
          "text": [
            "2021-08-11 19:25:36 UTC\n"
          ],
          "name": "stdout"
        }
      ]
    },
    {
      "cell_type": "code",
      "metadata": {
        "colab": {
          "base_uri": "https://localhost:8080/"
        },
        "id": "WBBY4rH3cwT2",
        "outputId": "de48e84b-96df-4006-c4c3-0d5389796e13"
      },
      "source": [
        "def reshape(frequency_matrix):\n",
        "    seq_cnt,frq_cnt=Xfrq.shape \n",
        "    # CNN inputs require a last dimension = numbers per pixel.\n",
        "    # For RGB images it is 3.\n",
        "    # For our frequency matrix it is 1.\n",
        "    new_matrix = frequency_matrix.reshape(seq_cnt,ROWS,COLS,1)\n",
        "    return new_matrix\n",
        "\n",
        "print(\"Xfrq\")\n",
        "print(\"Xfrq type\",type(Xfrq))\n",
        "print(\"Xfrq shape\",Xfrq.shape)\n",
        "Xfrq2D = reshape(Xfrq)\n",
        "print(\"Xfrq2D shape\",Xfrq2D.shape)"
      ],
      "execution_count": 12,
      "outputs": [
        {
          "output_type": "stream",
          "text": [
            "Xfrq\n",
            "Xfrq type <class 'numpy.ndarray'>\n",
            "Xfrq shape (16000, 84)\n",
            "Xfrq2D shape (16000, 7, 12, 1)\n"
          ],
          "name": "stdout"
        }
      ]
    },
    {
      "cell_type": "markdown",
      "metadata": {
        "id": "dJ4XhrzGI_s-"
      },
      "source": [
        "## Build and train a neural network"
      ]
    },
    {
      "cell_type": "code",
      "metadata": {
        "colab": {
          "base_uri": "https://localhost:8080/"
        },
        "id": "o5NPW7zKI_tC",
        "outputId": "df410440-02eb-46de-fe3d-7addffe29af7"
      },
      "source": [
        "def make_DNN(shape):\n",
        "    dt=np.float32\n",
        "    print(\"make_DNN\")\n",
        "    print(\"input shape:\",shape)\n",
        "    WIDTH=(3,3)\n",
        "    STRIDE=(1,1)\n",
        "    dnn = Sequential()\n",
        "    dnn.add(Conv2D(filters=32,kernel_size=WIDTH,strides=STRIDE,activation=\"relu\",padding=\"same\",\n",
        "            input_shape=shape))\n",
        "    dnn.add(Conv2D(filters=64,kernel_size=WIDTH,strides=STRIDE,activation=\"relu\",padding=\"same\"))\n",
        "    dnn.add(MaxPooling2D())\n",
        "    dnn.add(Flatten())\n",
        "    dnn.add(Dropout(0.25))\n",
        "    dnn.add(Dense(128,activation=\"sigmoid\",dtype=dt)) \n",
        "    dnn.add(Dropout(0.50))\n",
        "    dnn.add(Dense(1,activation=\"sigmoid\",dtype=dt))   \n",
        "    dnn.compile(optimizer='adam',    # adadelta doesn't work as well\n",
        "                loss=BinaryCrossentropy(from_logits=False),\n",
        "                metrics=['accuracy'])   # add to default metrics=loss\n",
        "    dnn.build(input_shape=shape) \n",
        "    return dnn\n",
        "model = make_DNN(SHAPE2D)\n",
        "print(model.summary())"
      ],
      "execution_count": 13,
      "outputs": [
        {
          "output_type": "stream",
          "text": [
            "make_DNN\n",
            "input shape: (7, 12, 1)\n",
            "Model: \"sequential\"\n",
            "_________________________________________________________________\n",
            "Layer (type)                 Output Shape              Param #   \n",
            "=================================================================\n",
            "conv2d (Conv2D)              (None, 7, 12, 32)         320       \n",
            "_________________________________________________________________\n",
            "conv2d_1 (Conv2D)            (None, 7, 12, 64)         18496     \n",
            "_________________________________________________________________\n",
            "max_pooling2d (MaxPooling2D) (None, 3, 6, 64)          0         \n",
            "_________________________________________________________________\n",
            "flatten (Flatten)            (None, 1152)              0         \n",
            "_________________________________________________________________\n",
            "dropout (Dropout)            (None, 1152)              0         \n",
            "_________________________________________________________________\n",
            "dense (Dense)                (None, 128)               147584    \n",
            "_________________________________________________________________\n",
            "dropout_1 (Dropout)          (None, 128)               0         \n",
            "_________________________________________________________________\n",
            "dense_1 (Dense)              (None, 1)                 129       \n",
            "=================================================================\n",
            "Total params: 166,529\n",
            "Trainable params: 166,529\n",
            "Non-trainable params: 0\n",
            "_________________________________________________________________\n",
            "None\n"
          ],
          "name": "stdout"
        }
      ]
    },
    {
      "cell_type": "code",
      "metadata": {
        "id": "7xBalIrXrEAS"
      },
      "source": [
        "def do_cross_validation(X,y,shape):\n",
        "    cv_scores = []\n",
        "    fold=0\n",
        "    mycallbacks = [ModelCheckpoint(\n",
        "        filepath=BESTMODELPATH, save_best_only=True, \n",
        "        monitor='val_accuracy', mode='max')]   \n",
        "    # When shuffle=True, the valid indices are a random subset.\n",
        "    splitter = KFold(n_splits=SPLITS,shuffle=True) \n",
        "    model = None\n",
        "    for train_index,valid_index in splitter.split(X):\n",
        "        if fold < FOLDS:\n",
        "            fold += 1\n",
        "            X_train=X[train_index] # inputs for training\n",
        "            y_train=y[train_index] # labels for training\n",
        "            X_valid=X[valid_index] # inputs for validation\n",
        "            y_valid=y[valid_index] # labels for validation\n",
        "            print(\"MODEL\")\n",
        "            # Call constructor on each CV. Else, continually improves the same model.\n",
        "            model = model = make_DNN(shape)\n",
        "            print(\"FIT\")  # model.fit() implements learning\n",
        "            start_time=time.time()\n",
        "            history=model.fit(X_train, y_train, \n",
        "                    epochs=EPOCHS, \n",
        "                    verbose=1,  # ascii art while learning\n",
        "                    callbacks=mycallbacks,   # called at end of each epoch\n",
        "                    validation_data=(X_valid,y_valid))\n",
        "            end_time=time.time()\n",
        "            elapsed_time=(end_time-start_time)                        \n",
        "            print(\"Fold %d, %d epochs, %d sec\"%(fold,EPOCHS,elapsed_time))\n",
        "            # print(history.history.keys())  # all these keys will be shown in figure\n",
        "            pd.DataFrame(history.history).plot(figsize=(8,5))\n",
        "            plt.grid(True)\n",
        "            plt.gca().set_ylim(0,1) # any losses > 1 will be off the scale\n",
        "            plt.show()\n",
        "    return model  # parameters at end of training"
      ],
      "execution_count": 14,
      "outputs": []
    },
    {
      "cell_type": "code",
      "metadata": {
        "colab": {
          "base_uri": "https://localhost:8080/",
          "height": 1000
        },
        "id": "BM6UjBzrrEAV",
        "outputId": "3e55a4cf-4949-4f47-e5f3-5922214b8dd7"
      },
      "source": [
        "show_time()\n",
        "last_model = do_cross_validation(Xfrq2D,y,SHAPE2D)\n",
        "last_model.save(LASTMODELPATH)"
      ],
      "execution_count": 15,
      "outputs": [
        {
          "output_type": "stream",
          "text": [
            "2021-08-11 19:25:42 UTC\n",
            "MODEL\n",
            "make_DNN\n",
            "input shape: (7, 12, 1)\n",
            "FIT\n",
            "Epoch 1/50\n",
            "400/400 [==============================] - 46s 6ms/step - loss: 0.7437 - accuracy: 0.5170 - val_loss: 0.6346 - val_accuracy: 0.6416\n",
            "INFO:tensorflow:Assets written to: /content/drive/My Drive/data/BestModel/assets\n",
            "Epoch 2/50\n",
            "400/400 [==============================] - 2s 5ms/step - loss: 0.6404 - accuracy: 0.6297 - val_loss: 0.5957 - val_accuracy: 0.7053\n",
            "INFO:tensorflow:Assets written to: /content/drive/My Drive/data/BestModel/assets\n",
            "Epoch 3/50\n",
            "400/400 [==============================] - 2s 5ms/step - loss: 0.5939 - accuracy: 0.6944 - val_loss: 0.5336 - val_accuracy: 0.7553\n",
            "INFO:tensorflow:Assets written to: /content/drive/My Drive/data/BestModel/assets\n",
            "Epoch 4/50\n",
            "400/400 [==============================] - 2s 5ms/step - loss: 0.5443 - accuracy: 0.7239 - val_loss: 0.4987 - val_accuracy: 0.7575\n",
            "INFO:tensorflow:Assets written to: /content/drive/My Drive/data/BestModel/assets\n",
            "Epoch 5/50\n",
            "400/400 [==============================] - 2s 5ms/step - loss: 0.4915 - accuracy: 0.7648 - val_loss: 0.4258 - val_accuracy: 0.8172\n",
            "INFO:tensorflow:Assets written to: /content/drive/My Drive/data/BestModel/assets\n",
            "Epoch 6/50\n",
            "400/400 [==============================] - 2s 5ms/step - loss: 0.4497 - accuracy: 0.7983 - val_loss: 0.4019 - val_accuracy: 0.8272\n",
            "INFO:tensorflow:Assets written to: /content/drive/My Drive/data/BestModel/assets\n",
            "Epoch 7/50\n",
            "400/400 [==============================] - 2s 5ms/step - loss: 0.4203 - accuracy: 0.8111 - val_loss: 0.3875 - val_accuracy: 0.8247\n",
            "Epoch 8/50\n",
            "400/400 [==============================] - 2s 5ms/step - loss: 0.4072 - accuracy: 0.8139 - val_loss: 0.3740 - val_accuracy: 0.8422\n",
            "INFO:tensorflow:Assets written to: /content/drive/My Drive/data/BestModel/assets\n",
            "Epoch 9/50\n",
            "400/400 [==============================] - 2s 5ms/step - loss: 0.3925 - accuracy: 0.8277 - val_loss: 0.3502 - val_accuracy: 0.8572\n",
            "INFO:tensorflow:Assets written to: /content/drive/My Drive/data/BestModel/assets\n",
            "Epoch 10/50\n",
            "400/400 [==============================] - 2s 5ms/step - loss: 0.3778 - accuracy: 0.8330 - val_loss: 0.3496 - val_accuracy: 0.8559\n",
            "Epoch 11/50\n",
            "400/400 [==============================] - 2s 5ms/step - loss: 0.3719 - accuracy: 0.8339 - val_loss: 0.3399 - val_accuracy: 0.8575\n",
            "INFO:tensorflow:Assets written to: /content/drive/My Drive/data/BestModel/assets\n",
            "Epoch 12/50\n",
            "400/400 [==============================] - 2s 5ms/step - loss: 0.3582 - accuracy: 0.8441 - val_loss: 0.3340 - val_accuracy: 0.8603\n",
            "INFO:tensorflow:Assets written to: /content/drive/My Drive/data/BestModel/assets\n",
            "Epoch 13/50\n",
            "400/400 [==============================] - 2s 5ms/step - loss: 0.3582 - accuracy: 0.8426 - val_loss: 0.3309 - val_accuracy: 0.8572\n",
            "Epoch 14/50\n",
            "400/400 [==============================] - 2s 5ms/step - loss: 0.3550 - accuracy: 0.8445 - val_loss: 0.3396 - val_accuracy: 0.8616\n",
            "INFO:tensorflow:Assets written to: /content/drive/My Drive/data/BestModel/assets\n",
            "Epoch 15/50\n",
            "400/400 [==============================] - 2s 5ms/step - loss: 0.3576 - accuracy: 0.8394 - val_loss: 0.3253 - val_accuracy: 0.8641\n",
            "INFO:tensorflow:Assets written to: /content/drive/My Drive/data/BestModel/assets\n",
            "Epoch 16/50\n",
            "400/400 [==============================] - 2s 5ms/step - loss: 0.3434 - accuracy: 0.8514 - val_loss: 0.3321 - val_accuracy: 0.8628\n",
            "Epoch 17/50\n",
            "400/400 [==============================] - 2s 5ms/step - loss: 0.3347 - accuracy: 0.8542 - val_loss: 0.3362 - val_accuracy: 0.8584\n",
            "Epoch 18/50\n",
            "400/400 [==============================] - 2s 5ms/step - loss: 0.3349 - accuracy: 0.8554 - val_loss: 0.3229 - val_accuracy: 0.8656\n",
            "INFO:tensorflow:Assets written to: /content/drive/My Drive/data/BestModel/assets\n",
            "Epoch 19/50\n",
            "400/400 [==============================] - 2s 5ms/step - loss: 0.3416 - accuracy: 0.8468 - val_loss: 0.3255 - val_accuracy: 0.8609\n",
            "Epoch 20/50\n",
            "400/400 [==============================] - 2s 5ms/step - loss: 0.3377 - accuracy: 0.8510 - val_loss: 0.3135 - val_accuracy: 0.8706\n",
            "INFO:tensorflow:Assets written to: /content/drive/My Drive/data/BestModel/assets\n",
            "Epoch 21/50\n",
            "400/400 [==============================] - 2s 5ms/step - loss: 0.3380 - accuracy: 0.8521 - val_loss: 0.3113 - val_accuracy: 0.8703\n",
            "Epoch 22/50\n",
            "400/400 [==============================] - 2s 5ms/step - loss: 0.3223 - accuracy: 0.8609 - val_loss: 0.3121 - val_accuracy: 0.8697\n",
            "Epoch 23/50\n",
            "400/400 [==============================] - 2s 5ms/step - loss: 0.3210 - accuracy: 0.8624 - val_loss: 0.3141 - val_accuracy: 0.8712\n",
            "INFO:tensorflow:Assets written to: /content/drive/My Drive/data/BestModel/assets\n",
            "Epoch 24/50\n",
            "400/400 [==============================] - 2s 5ms/step - loss: 0.3260 - accuracy: 0.8592 - val_loss: 0.3095 - val_accuracy: 0.8700\n",
            "Epoch 25/50\n",
            "400/400 [==============================] - 2s 5ms/step - loss: 0.3221 - accuracy: 0.8657 - val_loss: 0.3309 - val_accuracy: 0.8556\n",
            "Epoch 26/50\n",
            "400/400 [==============================] - 2s 5ms/step - loss: 0.3174 - accuracy: 0.8645 - val_loss: 0.3123 - val_accuracy: 0.8709\n",
            "Epoch 27/50\n",
            "400/400 [==============================] - 2s 5ms/step - loss: 0.3083 - accuracy: 0.8699 - val_loss: 0.3081 - val_accuracy: 0.8744\n",
            "INFO:tensorflow:Assets written to: /content/drive/My Drive/data/BestModel/assets\n",
            "Epoch 28/50\n",
            "400/400 [==============================] - 2s 5ms/step - loss: 0.3089 - accuracy: 0.8713 - val_loss: 0.3058 - val_accuracy: 0.8747\n",
            "INFO:tensorflow:Assets written to: /content/drive/My Drive/data/BestModel/assets\n",
            "Epoch 29/50\n",
            "400/400 [==============================] - 2s 5ms/step - loss: 0.3091 - accuracy: 0.8611 - val_loss: 0.3185 - val_accuracy: 0.8609\n",
            "Epoch 30/50\n",
            "400/400 [==============================] - 2s 5ms/step - loss: 0.2940 - accuracy: 0.8757 - val_loss: 0.3051 - val_accuracy: 0.8697\n",
            "Epoch 31/50\n",
            "400/400 [==============================] - 2s 5ms/step - loss: 0.2980 - accuracy: 0.8738 - val_loss: 0.3230 - val_accuracy: 0.8609\n",
            "Epoch 32/50\n",
            "400/400 [==============================] - 2s 5ms/step - loss: 0.3032 - accuracy: 0.8696 - val_loss: 0.3196 - val_accuracy: 0.8612\n",
            "Epoch 33/50\n",
            "400/400 [==============================] - 2s 5ms/step - loss: 0.3033 - accuracy: 0.8708 - val_loss: 0.3034 - val_accuracy: 0.8750\n",
            "INFO:tensorflow:Assets written to: /content/drive/My Drive/data/BestModel/assets\n",
            "Epoch 34/50\n",
            "400/400 [==============================] - 2s 5ms/step - loss: 0.3003 - accuracy: 0.8702 - val_loss: 0.3050 - val_accuracy: 0.8712\n",
            "Epoch 35/50\n",
            "400/400 [==============================] - 2s 5ms/step - loss: 0.3004 - accuracy: 0.8706 - val_loss: 0.3042 - val_accuracy: 0.8709\n",
            "Epoch 36/50\n",
            "400/400 [==============================] - 2s 5ms/step - loss: 0.2960 - accuracy: 0.8708 - val_loss: 0.3022 - val_accuracy: 0.8722\n",
            "Epoch 37/50\n",
            "400/400 [==============================] - 2s 5ms/step - loss: 0.3020 - accuracy: 0.8697 - val_loss: 0.2987 - val_accuracy: 0.8763\n",
            "INFO:tensorflow:Assets written to: /content/drive/My Drive/data/BestModel/assets\n",
            "Epoch 38/50\n",
            "400/400 [==============================] - 2s 5ms/step - loss: 0.2981 - accuracy: 0.8718 - val_loss: 0.2995 - val_accuracy: 0.8744\n",
            "Epoch 39/50\n",
            "400/400 [==============================] - 2s 5ms/step - loss: 0.2907 - accuracy: 0.8717 - val_loss: 0.2992 - val_accuracy: 0.8734\n",
            "Epoch 40/50\n",
            "400/400 [==============================] - 2s 5ms/step - loss: 0.2947 - accuracy: 0.8737 - val_loss: 0.2939 - val_accuracy: 0.8763\n",
            "Epoch 41/50\n",
            "400/400 [==============================] - 2s 5ms/step - loss: 0.2895 - accuracy: 0.8722 - val_loss: 0.2927 - val_accuracy: 0.8794\n",
            "INFO:tensorflow:Assets written to: /content/drive/My Drive/data/BestModel/assets\n",
            "Epoch 42/50\n",
            "400/400 [==============================] - 2s 5ms/step - loss: 0.2877 - accuracy: 0.8770 - val_loss: 0.2947 - val_accuracy: 0.8756\n",
            "Epoch 43/50\n",
            "400/400 [==============================] - 2s 5ms/step - loss: 0.2848 - accuracy: 0.8810 - val_loss: 0.2908 - val_accuracy: 0.8766\n",
            "Epoch 44/50\n",
            "400/400 [==============================] - 2s 5ms/step - loss: 0.2814 - accuracy: 0.8801 - val_loss: 0.2945 - val_accuracy: 0.8844\n",
            "INFO:tensorflow:Assets written to: /content/drive/My Drive/data/BestModel/assets\n",
            "Epoch 45/50\n",
            "400/400 [==============================] - 2s 5ms/step - loss: 0.2754 - accuracy: 0.8816 - val_loss: 0.3071 - val_accuracy: 0.8703\n",
            "Epoch 46/50\n",
            "400/400 [==============================] - 2s 5ms/step - loss: 0.2852 - accuracy: 0.8753 - val_loss: 0.2922 - val_accuracy: 0.8797\n",
            "Epoch 47/50\n",
            "400/400 [==============================] - 2s 5ms/step - loss: 0.2779 - accuracy: 0.8809 - val_loss: 0.2862 - val_accuracy: 0.8803\n",
            "Epoch 48/50\n",
            "400/400 [==============================] - 2s 5ms/step - loss: 0.2728 - accuracy: 0.8852 - val_loss: 0.2980 - val_accuracy: 0.8744\n",
            "Epoch 49/50\n",
            "400/400 [==============================] - 2s 5ms/step - loss: 0.2733 - accuracy: 0.8837 - val_loss: 0.2929 - val_accuracy: 0.8769\n",
            "Epoch 50/50\n",
            "400/400 [==============================] - 2s 5ms/step - loss: 0.2738 - accuracy: 0.8847 - val_loss: 0.2949 - val_accuracy: 0.8775\n",
            "Fold 1, 50 epochs, 170 sec\n"
          ],
          "name": "stdout"
        },
        {
          "output_type": "display_data",
          "data": {
            "image/png": "[encoded data removed]",
            "text/plain": [
              "<Figure size 576x360 with 1 Axes>"
            ]
          },
          "metadata": {
            "tags": [],
            "needs_background": "light"
          }
        },
        {
          "output_type": "stream",
          "text": [
            "MODEL\n",
            "make_DNN\n",
            "input shape: (7, 12, 1)\n",
            "FIT\n",
            "Epoch 1/50\n",
            "400/400 [==============================] - 3s 6ms/step - loss: 0.7059 - accuracy: 0.5405 - val_loss: 0.6243 - val_accuracy: 0.6447\n",
            "Epoch 2/50\n",
            "400/400 [==============================] - 2s 5ms/step - loss: 0.6187 - accuracy: 0.6559 - val_loss: 0.5546 - val_accuracy: 0.7350\n",
            "Epoch 3/50\n",
            "400/400 [==============================] - 2s 5ms/step - loss: 0.5692 - accuracy: 0.7132 - val_loss: 0.5119 - val_accuracy: 0.7628\n",
            "Epoch 4/50\n",
            "400/400 [==============================] - 2s 5ms/step - loss: 0.5280 - accuracy: 0.7412 - val_loss: 0.4701 - val_accuracy: 0.7900\n",
            "Epoch 5/50\n",
            "400/400 [==============================] - 2s 5ms/step - loss: 0.4863 - accuracy: 0.7714 - val_loss: 0.4406 - val_accuracy: 0.8037\n",
            "Epoch 6/50\n",
            "400/400 [==============================] - 2s 5ms/step - loss: 0.4575 - accuracy: 0.7884 - val_loss: 0.4109 - val_accuracy: 0.8231\n",
            "Epoch 7/50\n",
            "400/400 [==============================] - 2s 5ms/step - loss: 0.4336 - accuracy: 0.8014 - val_loss: 0.3933 - val_accuracy: 0.8359\n",
            "Epoch 8/50\n",
            "400/400 [==============================] - 2s 5ms/step - loss: 0.4070 - accuracy: 0.8161 - val_loss: 0.3798 - val_accuracy: 0.8422\n",
            "Epoch 9/50\n",
            "400/400 [==============================] - 2s 5ms/step - loss: 0.4053 - accuracy: 0.8211 - val_loss: 0.4020 - val_accuracy: 0.8244\n",
            "Epoch 10/50\n",
            "400/400 [==============================] - 2s 5ms/step - loss: 0.3943 - accuracy: 0.8237 - val_loss: 0.3707 - val_accuracy: 0.8416\n",
            "Epoch 11/50\n",
            "400/400 [==============================] - 2s 5ms/step - loss: 0.3870 - accuracy: 0.8269 - val_loss: 0.3567 - val_accuracy: 0.8478\n",
            "Epoch 12/50\n",
            "400/400 [==============================] - 2s 5ms/step - loss: 0.3743 - accuracy: 0.8398 - val_loss: 0.3647 - val_accuracy: 0.8419\n",
            "Epoch 13/50\n",
            "400/400 [==============================] - 2s 5ms/step - loss: 0.3814 - accuracy: 0.8348 - val_loss: 0.3525 - val_accuracy: 0.8491\n",
            "Epoch 14/50\n",
            "400/400 [==============================] - 2s 5ms/step - loss: 0.3586 - accuracy: 0.8445 - val_loss: 0.3491 - val_accuracy: 0.8484\n",
            "Epoch 15/50\n",
            "400/400 [==============================] - 2s 5ms/step - loss: 0.3535 - accuracy: 0.8471 - val_loss: 0.3419 - val_accuracy: 0.8553\n",
            "Epoch 16/50\n",
            "400/400 [==============================] - 2s 5ms/step - loss: 0.3537 - accuracy: 0.8503 - val_loss: 0.3433 - val_accuracy: 0.8509\n",
            "Epoch 17/50\n",
            "400/400 [==============================] - 2s 5ms/step - loss: 0.3492 - accuracy: 0.8482 - val_loss: 0.3429 - val_accuracy: 0.8534\n",
            "Epoch 18/50\n",
            "400/400 [==============================] - 2s 5ms/step - loss: 0.3553 - accuracy: 0.8431 - val_loss: 0.3345 - val_accuracy: 0.8534\n",
            "Epoch 19/50\n",
            "400/400 [==============================] - 2s 5ms/step - loss: 0.3425 - accuracy: 0.8494 - val_loss: 0.3353 - val_accuracy: 0.8534\n",
            "Epoch 20/50\n",
            "400/400 [==============================] - 2s 5ms/step - loss: 0.3478 - accuracy: 0.8500 - val_loss: 0.3331 - val_accuracy: 0.8534\n",
            "Epoch 21/50\n",
            "400/400 [==============================] - 2s 5ms/step - loss: 0.3453 - accuracy: 0.8512 - val_loss: 0.3328 - val_accuracy: 0.8562\n",
            "Epoch 22/50\n",
            "400/400 [==============================] - 2s 5ms/step - loss: 0.3334 - accuracy: 0.8563 - val_loss: 0.3273 - val_accuracy: 0.8606\n",
            "Epoch 23/50\n",
            "400/400 [==============================] - 2s 5ms/step - loss: 0.3386 - accuracy: 0.8532 - val_loss: 0.3271 - val_accuracy: 0.8656\n",
            "Epoch 24/50\n",
            "400/400 [==============================] - 2s 5ms/step - loss: 0.3299 - accuracy: 0.8538 - val_loss: 0.3245 - val_accuracy: 0.8625\n",
            "Epoch 25/50\n",
            "400/400 [==============================] - 2s 5ms/step - loss: 0.3231 - accuracy: 0.8596 - val_loss: 0.3260 - val_accuracy: 0.8603\n",
            "Epoch 26/50\n",
            "400/400 [==============================] - 2s 5ms/step - loss: 0.3272 - accuracy: 0.8625 - val_loss: 0.3689 - val_accuracy: 0.8409\n",
            "Epoch 27/50\n",
            "400/400 [==============================] - 2s 5ms/step - loss: 0.3195 - accuracy: 0.8626 - val_loss: 0.3179 - val_accuracy: 0.8650\n",
            "Epoch 28/50\n",
            "400/400 [==============================] - 2s 5ms/step - loss: 0.3109 - accuracy: 0.8627 - val_loss: 0.3277 - val_accuracy: 0.8572\n",
            "Epoch 29/50\n",
            "400/400 [==============================] - 2s 5ms/step - loss: 0.3202 - accuracy: 0.8618 - val_loss: 0.3160 - val_accuracy: 0.8647\n",
            "Epoch 30/50\n",
            "400/400 [==============================] - 2s 5ms/step - loss: 0.3090 - accuracy: 0.8657 - val_loss: 0.3157 - val_accuracy: 0.8622\n",
            "Epoch 31/50\n",
            "400/400 [==============================] - 2s 5ms/step - loss: 0.3196 - accuracy: 0.8623 - val_loss: 0.3151 - val_accuracy: 0.8644\n",
            "Epoch 32/50\n",
            "400/400 [==============================] - 2s 5ms/step - loss: 0.3088 - accuracy: 0.8655 - val_loss: 0.3140 - val_accuracy: 0.8641\n",
            "Epoch 33/50\n",
            "400/400 [==============================] - 2s 5ms/step - loss: 0.3094 - accuracy: 0.8685 - val_loss: 0.3090 - val_accuracy: 0.8669\n",
            "Epoch 34/50\n",
            "400/400 [==============================] - 2s 5ms/step - loss: 0.3128 - accuracy: 0.8634 - val_loss: 0.3083 - val_accuracy: 0.8659\n",
            "Epoch 35/50\n",
            "400/400 [==============================] - 2s 5ms/step - loss: 0.3032 - accuracy: 0.8691 - val_loss: 0.3094 - val_accuracy: 0.8678\n",
            "Epoch 36/50\n",
            "400/400 [==============================] - 2s 5ms/step - loss: 0.3062 - accuracy: 0.8669 - val_loss: 0.3110 - val_accuracy: 0.8625\n",
            "Epoch 37/50\n",
            "400/400 [==============================] - 2s 5ms/step - loss: 0.2949 - accuracy: 0.8726 - val_loss: 0.3074 - val_accuracy: 0.8672\n",
            "Epoch 38/50\n",
            "400/400 [==============================] - 2s 5ms/step - loss: 0.2938 - accuracy: 0.8727 - val_loss: 0.3067 - val_accuracy: 0.8678\n",
            "Epoch 39/50\n",
            "400/400 [==============================] - 2s 5ms/step - loss: 0.2983 - accuracy: 0.8731 - val_loss: 0.3099 - val_accuracy: 0.8666\n",
            "Epoch 40/50\n",
            "400/400 [==============================] - 2s 5ms/step - loss: 0.2844 - accuracy: 0.8778 - val_loss: 0.3050 - val_accuracy: 0.8691\n",
            "Epoch 41/50\n",
            "400/400 [==============================] - 2s 5ms/step - loss: 0.2881 - accuracy: 0.8786 - val_loss: 0.3204 - val_accuracy: 0.8572\n",
            "Epoch 42/50\n",
            "400/400 [==============================] - 2s 5ms/step - loss: 0.2948 - accuracy: 0.8690 - val_loss: 0.3052 - val_accuracy: 0.8653\n",
            "Epoch 43/50\n",
            "400/400 [==============================] - 2s 5ms/step - loss: 0.3020 - accuracy: 0.8701 - val_loss: 0.3004 - val_accuracy: 0.8659\n",
            "Epoch 44/50\n",
            "400/400 [==============================] - 2s 5ms/step - loss: 0.2909 - accuracy: 0.8754 - val_loss: 0.2997 - val_accuracy: 0.8697\n",
            "Epoch 45/50\n",
            "400/400 [==============================] - 2s 5ms/step - loss: 0.2979 - accuracy: 0.8723 - val_loss: 0.3024 - val_accuracy: 0.8716\n",
            "Epoch 46/50\n",
            "400/400 [==============================] - 2s 5ms/step - loss: 0.2859 - accuracy: 0.8803 - val_loss: 0.3000 - val_accuracy: 0.8681\n",
            "Epoch 47/50\n",
            "400/400 [==============================] - 2s 5ms/step - loss: 0.2797 - accuracy: 0.8764 - val_loss: 0.3059 - val_accuracy: 0.8709\n",
            "Epoch 48/50\n",
            "400/400 [==============================] - 2s 5ms/step - loss: 0.2805 - accuracy: 0.8823 - val_loss: 0.2980 - val_accuracy: 0.8694\n",
            "Epoch 49/50\n",
            "400/400 [==============================] - 2s 5ms/step - loss: 0.2747 - accuracy: 0.8827 - val_loss: 0.2982 - val_accuracy: 0.8716\n",
            "Epoch 50/50\n",
            "400/400 [==============================] - 2s 5ms/step - loss: 0.2753 - accuracy: 0.8828 - val_loss: 0.2966 - val_accuracy: 0.8703\n",
            "Fold 2, 50 epochs, 96 sec\n"
          ],
          "name": "stdout"
        },
        {
          "output_type": "display_data",
          "data": {
            "image/png": "[encoded data removed]",
            "text/plain": [
              "<Figure size 576x360 with 1 Axes>"
            ]
          },
          "metadata": {
            "tags": [],
            "needs_background": "light"
          }
        },
        {
          "output_type": "stream",
          "text": [
            "MODEL\n",
            "make_DNN\n",
            "input shape: (7, 12, 1)\n",
            "FIT\n",
            "Epoch 1/50\n",
            "400/400 [==============================] - 3s 5ms/step - loss: 0.7140 - accuracy: 0.5436 - val_loss: 0.6148 - val_accuracy: 0.6575\n",
            "Epoch 2/50\n",
            "400/400 [==============================] - 2s 5ms/step - loss: 0.6154 - accuracy: 0.6576 - val_loss: 0.5621 - val_accuracy: 0.7234\n",
            "Epoch 3/50\n",
            "400/400 [==============================] - 2s 5ms/step - loss: 0.5741 - accuracy: 0.7133 - val_loss: 0.5179 - val_accuracy: 0.7484\n",
            "Epoch 4/50\n",
            "400/400 [==============================] - 2s 5ms/step - loss: 0.5261 - accuracy: 0.7424 - val_loss: 0.4711 - val_accuracy: 0.7847\n",
            "Epoch 5/50\n",
            "400/400 [==============================] - 2s 5ms/step - loss: 0.4783 - accuracy: 0.7762 - val_loss: 0.4276 - val_accuracy: 0.8034\n",
            "Epoch 6/50\n",
            "400/400 [==============================] - 2s 5ms/step - loss: 0.4477 - accuracy: 0.7966 - val_loss: 0.4006 - val_accuracy: 0.8172\n",
            "Epoch 7/50\n",
            "400/400 [==============================] - 2s 5ms/step - loss: 0.4267 - accuracy: 0.8044 - val_loss: 0.4001 - val_accuracy: 0.8250\n",
            "Epoch 8/50\n",
            "400/400 [==============================] - 2s 5ms/step - loss: 0.4116 - accuracy: 0.8166 - val_loss: 0.3676 - val_accuracy: 0.8378\n",
            "Epoch 9/50\n",
            "400/400 [==============================] - 2s 5ms/step - loss: 0.3979 - accuracy: 0.8241 - val_loss: 0.3588 - val_accuracy: 0.8425\n",
            "Epoch 10/50\n",
            "400/400 [==============================] - 2s 5ms/step - loss: 0.3858 - accuracy: 0.8280 - val_loss: 0.3644 - val_accuracy: 0.8350\n",
            "Epoch 11/50\n",
            "400/400 [==============================] - 2s 5ms/step - loss: 0.3689 - accuracy: 0.8417 - val_loss: 0.3465 - val_accuracy: 0.8459\n",
            "Epoch 12/50\n",
            "400/400 [==============================] - 2s 5ms/step - loss: 0.3751 - accuracy: 0.8339 - val_loss: 0.3435 - val_accuracy: 0.8494\n",
            "Epoch 13/50\n",
            "400/400 [==============================] - 2s 5ms/step - loss: 0.3619 - accuracy: 0.8451 - val_loss: 0.3379 - val_accuracy: 0.8550\n",
            "Epoch 14/50\n",
            "400/400 [==============================] - 2s 5ms/step - loss: 0.3722 - accuracy: 0.8325 - val_loss: 0.3575 - val_accuracy: 0.8316\n",
            "Epoch 15/50\n",
            "400/400 [==============================] - 2s 5ms/step - loss: 0.3527 - accuracy: 0.8503 - val_loss: 0.3318 - val_accuracy: 0.8584\n",
            "Epoch 16/50\n",
            "400/400 [==============================] - 2s 5ms/step - loss: 0.3481 - accuracy: 0.8566 - val_loss: 0.3265 - val_accuracy: 0.8594\n",
            "Epoch 17/50\n",
            "400/400 [==============================] - 2s 5ms/step - loss: 0.3524 - accuracy: 0.8539 - val_loss: 0.3247 - val_accuracy: 0.8584\n",
            "Epoch 18/50\n",
            "400/400 [==============================] - 2s 5ms/step - loss: 0.3468 - accuracy: 0.8502 - val_loss: 0.3372 - val_accuracy: 0.8594\n",
            "Epoch 19/50\n",
            "400/400 [==============================] - 2s 5ms/step - loss: 0.3438 - accuracy: 0.8490 - val_loss: 0.3227 - val_accuracy: 0.8597\n",
            "Epoch 20/50\n",
            "400/400 [==============================] - 2s 5ms/step - loss: 0.3342 - accuracy: 0.8566 - val_loss: 0.3307 - val_accuracy: 0.8622\n",
            "Epoch 21/50\n",
            "400/400 [==============================] - 2s 5ms/step - loss: 0.3194 - accuracy: 0.8625 - val_loss: 0.3211 - val_accuracy: 0.8531\n",
            "Epoch 22/50\n",
            "400/400 [==============================] - 2s 5ms/step - loss: 0.3336 - accuracy: 0.8570 - val_loss: 0.3203 - val_accuracy: 0.8647\n",
            "Epoch 23/50\n",
            "400/400 [==============================] - 2s 5ms/step - loss: 0.3236 - accuracy: 0.8581 - val_loss: 0.3133 - val_accuracy: 0.8634\n",
            "Epoch 24/50\n",
            "400/400 [==============================] - 2s 5ms/step - loss: 0.3152 - accuracy: 0.8624 - val_loss: 0.3169 - val_accuracy: 0.8584\n",
            "Epoch 25/50\n",
            "400/400 [==============================] - 2s 5ms/step - loss: 0.3242 - accuracy: 0.8637 - val_loss: 0.3129 - val_accuracy: 0.8625\n",
            "Epoch 26/50\n",
            "400/400 [==============================] - 2s 5ms/step - loss: 0.3140 - accuracy: 0.8652 - val_loss: 0.3163 - val_accuracy: 0.8644\n",
            "Epoch 27/50\n",
            "400/400 [==============================] - 2s 5ms/step - loss: 0.3168 - accuracy: 0.8622 - val_loss: 0.3139 - val_accuracy: 0.8659\n",
            "Epoch 28/50\n",
            "400/400 [==============================] - 2s 5ms/step - loss: 0.3060 - accuracy: 0.8704 - val_loss: 0.3040 - val_accuracy: 0.8687\n",
            "Epoch 29/50\n",
            "400/400 [==============================] - 2s 5ms/step - loss: 0.3144 - accuracy: 0.8647 - val_loss: 0.3092 - val_accuracy: 0.8687\n",
            "Epoch 30/50\n",
            "400/400 [==============================] - 2s 5ms/step - loss: 0.3107 - accuracy: 0.8646 - val_loss: 0.3107 - val_accuracy: 0.8653\n",
            "Epoch 31/50\n",
            "400/400 [==============================] - 2s 5ms/step - loss: 0.3176 - accuracy: 0.8595 - val_loss: 0.3075 - val_accuracy: 0.8669\n",
            "Epoch 32/50\n",
            "400/400 [==============================] - 2s 5ms/step - loss: 0.2985 - accuracy: 0.8725 - val_loss: 0.3056 - val_accuracy: 0.8681\n",
            "Epoch 33/50\n",
            "400/400 [==============================] - 2s 5ms/step - loss: 0.3058 - accuracy: 0.8689 - val_loss: 0.3227 - val_accuracy: 0.8653\n",
            "Epoch 34/50\n",
            "400/400 [==============================] - 2s 5ms/step - loss: 0.3071 - accuracy: 0.8610 - val_loss: 0.3022 - val_accuracy: 0.8678\n",
            "Epoch 35/50\n",
            "400/400 [==============================] - 2s 5ms/step - loss: 0.3035 - accuracy: 0.8730 - val_loss: 0.3245 - val_accuracy: 0.8628\n",
            "Epoch 36/50\n",
            "400/400 [==============================] - 2s 5ms/step - loss: 0.2898 - accuracy: 0.8776 - val_loss: 0.3010 - val_accuracy: 0.8753\n",
            "Epoch 37/50\n",
            "400/400 [==============================] - 2s 5ms/step - loss: 0.3068 - accuracy: 0.8696 - val_loss: 0.3140 - val_accuracy: 0.8616\n",
            "Epoch 38/50\n",
            "400/400 [==============================] - 2s 5ms/step - loss: 0.2939 - accuracy: 0.8710 - val_loss: 0.3057 - val_accuracy: 0.8694\n",
            "Epoch 39/50\n",
            "400/400 [==============================] - 2s 5ms/step - loss: 0.2946 - accuracy: 0.8731 - val_loss: 0.2973 - val_accuracy: 0.8734\n",
            "Epoch 40/50\n",
            "400/400 [==============================] - 2s 5ms/step - loss: 0.2901 - accuracy: 0.8778 - val_loss: 0.2938 - val_accuracy: 0.8728\n",
            "Epoch 41/50\n",
            "400/400 [==============================] - 2s 5ms/step - loss: 0.2840 - accuracy: 0.8792 - val_loss: 0.2973 - val_accuracy: 0.8700\n",
            "Epoch 42/50\n",
            "400/400 [==============================] - 2s 5ms/step - loss: 0.2904 - accuracy: 0.8780 - val_loss: 0.2946 - val_accuracy: 0.8756\n",
            "Epoch 43/50\n",
            "400/400 [==============================] - 2s 5ms/step - loss: 0.2909 - accuracy: 0.8773 - val_loss: 0.3001 - val_accuracy: 0.8734\n",
            "Epoch 44/50\n",
            "400/400 [==============================] - 2s 5ms/step - loss: 0.2883 - accuracy: 0.8764 - val_loss: 0.2938 - val_accuracy: 0.8766\n",
            "Epoch 45/50\n",
            "400/400 [==============================] - 2s 5ms/step - loss: 0.2838 - accuracy: 0.8784 - val_loss: 0.2916 - val_accuracy: 0.8756\n",
            "Epoch 46/50\n",
            "400/400 [==============================] - 2s 5ms/step - loss: 0.2753 - accuracy: 0.8811 - val_loss: 0.2940 - val_accuracy: 0.8772\n",
            "Epoch 47/50\n",
            "400/400 [==============================] - 2s 5ms/step - loss: 0.2845 - accuracy: 0.8765 - val_loss: 0.2940 - val_accuracy: 0.8750\n",
            "Epoch 48/50\n",
            "400/400 [==============================] - 2s 5ms/step - loss: 0.2760 - accuracy: 0.8807 - val_loss: 0.2977 - val_accuracy: 0.8766\n",
            "Epoch 49/50\n",
            "400/400 [==============================] - 2s 5ms/step - loss: 0.2805 - accuracy: 0.8779 - val_loss: 0.3000 - val_accuracy: 0.8759\n",
            "Epoch 50/50\n",
            "400/400 [==============================] - 2s 5ms/step - loss: 0.2767 - accuracy: 0.8795 - val_loss: 0.2932 - val_accuracy: 0.8784\n",
            "Fold 3, 50 epochs, 97 sec\n"
          ],
          "name": "stdout"
        },
        {
          "output_type": "display_data",
          "data": {
            "image/png": "[encoded data removed]",
            "text/plain": [
              "<Figure size 576x360 with 1 Axes>"
            ]
          },
          "metadata": {
            "tags": [],
            "needs_background": "light"
          }
        },
        {
          "output_type": "stream",
          "text": [
            "MODEL\n",
            "make_DNN\n",
            "input shape: (7, 12, 1)\n",
            "FIT\n",
            "Epoch 1/50\n",
            "400/400 [==============================] - 3s 6ms/step - loss: 0.7261 - accuracy: 0.5389 - val_loss: 0.6341 - val_accuracy: 0.6381\n",
            "Epoch 2/50\n",
            "400/400 [==============================] - 2s 5ms/step - loss: 0.6224 - accuracy: 0.6567 - val_loss: 0.5879 - val_accuracy: 0.6900\n",
            "Epoch 3/50\n",
            "400/400 [==============================] - 2s 5ms/step - loss: 0.5750 - accuracy: 0.7051 - val_loss: 0.5326 - val_accuracy: 0.7484\n",
            "Epoch 4/50\n",
            "400/400 [==============================] - 2s 5ms/step - loss: 0.5421 - accuracy: 0.7346 - val_loss: 0.5090 - val_accuracy: 0.7547\n",
            "Epoch 5/50\n",
            "400/400 [==============================] - 2s 5ms/step - loss: 0.5005 - accuracy: 0.7636 - val_loss: 0.4350 - val_accuracy: 0.8025\n",
            "Epoch 6/50\n",
            "400/400 [==============================] - 2s 5ms/step - loss: 0.4620 - accuracy: 0.7887 - val_loss: 0.4015 - val_accuracy: 0.8206\n",
            "Epoch 7/50\n",
            "400/400 [==============================] - 2s 5ms/step - loss: 0.4270 - accuracy: 0.8080 - val_loss: 0.3881 - val_accuracy: 0.8284\n",
            "Epoch 8/50\n",
            "400/400 [==============================] - 2s 5ms/step - loss: 0.4123 - accuracy: 0.8162 - val_loss: 0.3999 - val_accuracy: 0.8222\n",
            "Epoch 9/50\n",
            "400/400 [==============================] - 2s 5ms/step - loss: 0.4007 - accuracy: 0.8200 - val_loss: 0.3753 - val_accuracy: 0.8359\n",
            "Epoch 10/50\n",
            "400/400 [==============================] - 2s 5ms/step - loss: 0.4046 - accuracy: 0.8174 - val_loss: 0.3558 - val_accuracy: 0.8462\n",
            "Epoch 11/50\n",
            "400/400 [==============================] - 2s 5ms/step - loss: 0.3857 - accuracy: 0.8311 - val_loss: 0.3560 - val_accuracy: 0.8403\n",
            "Epoch 12/50\n",
            "400/400 [==============================] - 2s 5ms/step - loss: 0.3865 - accuracy: 0.8259 - val_loss: 0.3607 - val_accuracy: 0.8450\n",
            "Epoch 13/50\n",
            "400/400 [==============================] - 2s 5ms/step - loss: 0.3779 - accuracy: 0.8323 - val_loss: 0.3507 - val_accuracy: 0.8441\n",
            "Epoch 14/50\n",
            "400/400 [==============================] - 2s 5ms/step - loss: 0.3737 - accuracy: 0.8338 - val_loss: 0.3448 - val_accuracy: 0.8497\n",
            "Epoch 15/50\n",
            "400/400 [==============================] - 2s 5ms/step - loss: 0.3617 - accuracy: 0.8418 - val_loss: 0.3489 - val_accuracy: 0.8456\n",
            "Epoch 16/50\n",
            "400/400 [==============================] - 2s 5ms/step - loss: 0.3482 - accuracy: 0.8465 - val_loss: 0.3367 - val_accuracy: 0.8512\n",
            "Epoch 17/50\n",
            "400/400 [==============================] - 2s 5ms/step - loss: 0.3444 - accuracy: 0.8535 - val_loss: 0.3365 - val_accuracy: 0.8525\n",
            "Epoch 18/50\n",
            "400/400 [==============================] - 2s 5ms/step - loss: 0.3499 - accuracy: 0.8490 - val_loss: 0.3408 - val_accuracy: 0.8478\n",
            "Epoch 19/50\n",
            "400/400 [==============================] - 2s 5ms/step - loss: 0.3538 - accuracy: 0.8465 - val_loss: 0.3369 - val_accuracy: 0.8478\n",
            "Epoch 20/50\n",
            "400/400 [==============================] - 2s 5ms/step - loss: 0.3460 - accuracy: 0.8478 - val_loss: 0.3269 - val_accuracy: 0.8578\n",
            "Epoch 21/50\n",
            "400/400 [==============================] - 2s 5ms/step - loss: 0.3353 - accuracy: 0.8594 - val_loss: 0.3236 - val_accuracy: 0.8597\n",
            "Epoch 22/50\n",
            "400/400 [==============================] - 2s 5ms/step - loss: 0.3352 - accuracy: 0.8520 - val_loss: 0.3223 - val_accuracy: 0.8609\n",
            "Epoch 23/50\n",
            "400/400 [==============================] - 2s 5ms/step - loss: 0.3341 - accuracy: 0.8543 - val_loss: 0.3288 - val_accuracy: 0.8569\n",
            "Epoch 24/50\n",
            "400/400 [==============================] - 2s 5ms/step - loss: 0.3338 - accuracy: 0.8563 - val_loss: 0.3182 - val_accuracy: 0.8591\n",
            "Epoch 25/50\n",
            "400/400 [==============================] - 2s 5ms/step - loss: 0.3220 - accuracy: 0.8590 - val_loss: 0.3168 - val_accuracy: 0.8600\n",
            "Epoch 26/50\n",
            "400/400 [==============================] - 2s 5ms/step - loss: 0.3202 - accuracy: 0.8597 - val_loss: 0.3255 - val_accuracy: 0.8575\n",
            "Epoch 27/50\n",
            "400/400 [==============================] - 2s 5ms/step - loss: 0.3222 - accuracy: 0.8583 - val_loss: 0.3295 - val_accuracy: 0.8541\n",
            "Epoch 28/50\n",
            "400/400 [==============================] - 2s 5ms/step - loss: 0.3154 - accuracy: 0.8670 - val_loss: 0.3190 - val_accuracy: 0.8575\n",
            "Epoch 29/50\n",
            "400/400 [==============================] - 2s 5ms/step - loss: 0.3109 - accuracy: 0.8682 - val_loss: 0.3111 - val_accuracy: 0.8662\n",
            "Epoch 30/50\n",
            "400/400 [==============================] - 2s 5ms/step - loss: 0.3174 - accuracy: 0.8663 - val_loss: 0.3089 - val_accuracy: 0.8666\n",
            "Epoch 31/50\n",
            "400/400 [==============================] - 2s 5ms/step - loss: 0.3150 - accuracy: 0.8639 - val_loss: 0.3085 - val_accuracy: 0.8659\n",
            "Epoch 32/50\n",
            "400/400 [==============================] - 2s 5ms/step - loss: 0.3040 - accuracy: 0.8661 - val_loss: 0.3125 - val_accuracy: 0.8644\n",
            "Epoch 33/50\n",
            "400/400 [==============================] - 2s 5ms/step - loss: 0.3049 - accuracy: 0.8702 - val_loss: 0.3131 - val_accuracy: 0.8628\n",
            "Epoch 34/50\n",
            "400/400 [==============================] - 2s 5ms/step - loss: 0.3066 - accuracy: 0.8698 - val_loss: 0.3100 - val_accuracy: 0.8666\n",
            "Epoch 35/50\n",
            "400/400 [==============================] - 2s 5ms/step - loss: 0.3075 - accuracy: 0.8715 - val_loss: 0.3143 - val_accuracy: 0.8619\n",
            "Epoch 36/50\n",
            "400/400 [==============================] - 2s 5ms/step - loss: 0.3024 - accuracy: 0.8718 - val_loss: 0.3060 - val_accuracy: 0.8666\n",
            "Epoch 37/50\n",
            "400/400 [==============================] - 2s 5ms/step - loss: 0.2962 - accuracy: 0.8745 - val_loss: 0.3015 - val_accuracy: 0.8700\n",
            "Epoch 38/50\n",
            "400/400 [==============================] - 2s 5ms/step - loss: 0.2980 - accuracy: 0.8701 - val_loss: 0.3113 - val_accuracy: 0.8622\n",
            "Epoch 39/50\n",
            "400/400 [==============================] - 2s 5ms/step - loss: 0.3005 - accuracy: 0.8705 - val_loss: 0.3037 - val_accuracy: 0.8675\n",
            "Epoch 40/50\n",
            "400/400 [==============================] - 2s 5ms/step - loss: 0.2891 - accuracy: 0.8776 - val_loss: 0.2974 - val_accuracy: 0.8678\n",
            "Epoch 41/50\n",
            "400/400 [==============================] - 2s 5ms/step - loss: 0.3067 - accuracy: 0.8696 - val_loss: 0.3093 - val_accuracy: 0.8703\n",
            "Epoch 42/50\n",
            "400/400 [==============================] - 2s 5ms/step - loss: 0.2852 - accuracy: 0.8750 - val_loss: 0.3195 - val_accuracy: 0.8612\n",
            "Epoch 43/50\n",
            "400/400 [==============================] - 2s 5ms/step - loss: 0.2933 - accuracy: 0.8729 - val_loss: 0.2979 - val_accuracy: 0.8731\n",
            "Epoch 44/50\n",
            "400/400 [==============================] - 2s 5ms/step - loss: 0.2968 - accuracy: 0.8717 - val_loss: 0.2982 - val_accuracy: 0.8712\n",
            "Epoch 45/50\n",
            "400/400 [==============================] - 2s 5ms/step - loss: 0.2817 - accuracy: 0.8801 - val_loss: 0.2961 - val_accuracy: 0.8747\n",
            "Epoch 46/50\n",
            "400/400 [==============================] - 2s 5ms/step - loss: 0.2929 - accuracy: 0.8772 - val_loss: 0.3000 - val_accuracy: 0.8678\n",
            "Epoch 47/50\n",
            "400/400 [==============================] - 2s 5ms/step - loss: 0.2770 - accuracy: 0.8817 - val_loss: 0.2897 - val_accuracy: 0.8769\n",
            "Epoch 48/50\n",
            "400/400 [==============================] - 2s 5ms/step - loss: 0.2690 - accuracy: 0.8857 - val_loss: 0.2990 - val_accuracy: 0.8712\n",
            "Epoch 49/50\n",
            "400/400 [==============================] - 2s 5ms/step - loss: 0.2848 - accuracy: 0.8790 - val_loss: 0.2933 - val_accuracy: 0.8772\n",
            "Epoch 50/50\n",
            "400/400 [==============================] - 2s 5ms/step - loss: 0.2762 - accuracy: 0.8814 - val_loss: 0.2962 - val_accuracy: 0.8775\n",
            "Fold 4, 50 epochs, 98 sec\n"
          ],
          "name": "stdout"
        },
        {
          "output_type": "display_data",
          "data": {
            "image/png": "[encoded data removed]",
            "text/plain": [
              "<Figure size 576x360 with 1 Axes>"
            ]
          },
          "metadata": {
            "tags": [],
            "needs_background": "light"
          }
        },
        {
          "output_type": "stream",
          "text": [
            "MODEL\n",
            "make_DNN\n",
            "input shape: (7, 12, 1)\n",
            "FIT\n",
            "Epoch 1/50\n",
            "400/400 [==============================] - 4s 6ms/step - loss: 0.7322 - accuracy: 0.5203 - val_loss: 0.6383 - val_accuracy: 0.6359\n",
            "Epoch 2/50\n",
            "400/400 [==============================] - 2s 5ms/step - loss: 0.6349 - accuracy: 0.6381 - val_loss: 0.5850 - val_accuracy: 0.6872\n",
            "Epoch 3/50\n",
            "400/400 [==============================] - 2s 5ms/step - loss: 0.5796 - accuracy: 0.6988 - val_loss: 0.5363 - val_accuracy: 0.7403\n",
            "Epoch 4/50\n",
            "400/400 [==============================] - 2s 5ms/step - loss: 0.5385 - accuracy: 0.7364 - val_loss: 0.4715 - val_accuracy: 0.7825\n",
            "Epoch 5/50\n",
            "400/400 [==============================] - 2s 5ms/step - loss: 0.4971 - accuracy: 0.7653 - val_loss: 0.4316 - val_accuracy: 0.8050\n",
            "Epoch 6/50\n",
            "400/400 [==============================] - 2s 5ms/step - loss: 0.4534 - accuracy: 0.7976 - val_loss: 0.4080 - val_accuracy: 0.8250\n",
            "Epoch 7/50\n",
            "400/400 [==============================] - 2s 5ms/step - loss: 0.4279 - accuracy: 0.8030 - val_loss: 0.4213 - val_accuracy: 0.8031\n",
            "Epoch 8/50\n",
            "400/400 [==============================] - 2s 5ms/step - loss: 0.3955 - accuracy: 0.8180 - val_loss: 0.3831 - val_accuracy: 0.8428\n",
            "Epoch 9/50\n",
            "400/400 [==============================] - 2s 5ms/step - loss: 0.3945 - accuracy: 0.8239 - val_loss: 0.3666 - val_accuracy: 0.8456\n",
            "Epoch 10/50\n",
            "400/400 [==============================] - 2s 5ms/step - loss: 0.3909 - accuracy: 0.8263 - val_loss: 0.3665 - val_accuracy: 0.8425\n",
            "Epoch 11/50\n",
            "400/400 [==============================] - 2s 5ms/step - loss: 0.3819 - accuracy: 0.8317 - val_loss: 0.3554 - val_accuracy: 0.8528\n",
            "Epoch 12/50\n",
            "400/400 [==============================] - 2s 5ms/step - loss: 0.3765 - accuracy: 0.8369 - val_loss: 0.3533 - val_accuracy: 0.8469\n",
            "Epoch 13/50\n",
            "400/400 [==============================] - 2s 5ms/step - loss: 0.3630 - accuracy: 0.8431 - val_loss: 0.3571 - val_accuracy: 0.8481\n",
            "Epoch 14/50\n",
            "400/400 [==============================] - 2s 5ms/step - loss: 0.3694 - accuracy: 0.8399 - val_loss: 0.3533 - val_accuracy: 0.8434\n",
            "Epoch 15/50\n",
            "400/400 [==============================] - 2s 5ms/step - loss: 0.3660 - accuracy: 0.8417 - val_loss: 0.3413 - val_accuracy: 0.8534\n",
            "Epoch 16/50\n",
            "400/400 [==============================] - 2s 5ms/step - loss: 0.3412 - accuracy: 0.8499 - val_loss: 0.3382 - val_accuracy: 0.8547\n",
            "Epoch 17/50\n",
            "400/400 [==============================] - 2s 5ms/step - loss: 0.3543 - accuracy: 0.8493 - val_loss: 0.3351 - val_accuracy: 0.8556\n",
            "Epoch 18/50\n",
            "400/400 [==============================] - 2s 5ms/step - loss: 0.3438 - accuracy: 0.8494 - val_loss: 0.3421 - val_accuracy: 0.8497\n",
            "Epoch 19/50\n",
            "400/400 [==============================] - 2s 5ms/step - loss: 0.3487 - accuracy: 0.8486 - val_loss: 0.3324 - val_accuracy: 0.8569\n",
            "Epoch 20/50\n",
            "400/400 [==============================] - 2s 5ms/step - loss: 0.3391 - accuracy: 0.8539 - val_loss: 0.3332 - val_accuracy: 0.8550\n",
            "Epoch 21/50\n",
            "400/400 [==============================] - 2s 5ms/step - loss: 0.3378 - accuracy: 0.8553 - val_loss: 0.3360 - val_accuracy: 0.8562\n",
            "Epoch 22/50\n",
            "400/400 [==============================] - 2s 5ms/step - loss: 0.3389 - accuracy: 0.8526 - val_loss: 0.3276 - val_accuracy: 0.8581\n",
            "Epoch 23/50\n",
            "400/400 [==============================] - 2s 5ms/step - loss: 0.3313 - accuracy: 0.8541 - val_loss: 0.3361 - val_accuracy: 0.8569\n",
            "Epoch 24/50\n",
            "400/400 [==============================] - 2s 5ms/step - loss: 0.3305 - accuracy: 0.8555 - val_loss: 0.3214 - val_accuracy: 0.8612\n",
            "Epoch 25/50\n",
            "400/400 [==============================] - 2s 5ms/step - loss: 0.3337 - accuracy: 0.8514 - val_loss: 0.3198 - val_accuracy: 0.8616\n",
            "Epoch 26/50\n",
            "400/400 [==============================] - 2s 5ms/step - loss: 0.3242 - accuracy: 0.8577 - val_loss: 0.3216 - val_accuracy: 0.8634\n",
            "Epoch 27/50\n",
            "400/400 [==============================] - 2s 5ms/step - loss: 0.3231 - accuracy: 0.8603 - val_loss: 0.3186 - val_accuracy: 0.8603\n",
            "Epoch 28/50\n",
            "400/400 [==============================] - 2s 5ms/step - loss: 0.3250 - accuracy: 0.8581 - val_loss: 0.3192 - val_accuracy: 0.8625\n",
            "Epoch 29/50\n",
            "400/400 [==============================] - 2s 5ms/step - loss: 0.3143 - accuracy: 0.8648 - val_loss: 0.3195 - val_accuracy: 0.8622\n",
            "Epoch 30/50\n",
            "400/400 [==============================] - 2s 5ms/step - loss: 0.3156 - accuracy: 0.8629 - val_loss: 0.3173 - val_accuracy: 0.8637\n",
            "Epoch 31/50\n",
            "400/400 [==============================] - 2s 5ms/step - loss: 0.3207 - accuracy: 0.8590 - val_loss: 0.3130 - val_accuracy: 0.8631\n",
            "Epoch 32/50\n",
            "400/400 [==============================] - 2s 5ms/step - loss: 0.3073 - accuracy: 0.8693 - val_loss: 0.3173 - val_accuracy: 0.8631\n",
            "Epoch 33/50\n",
            "400/400 [==============================] - 2s 5ms/step - loss: 0.3086 - accuracy: 0.8680 - val_loss: 0.3199 - val_accuracy: 0.8622\n",
            "Epoch 34/50\n",
            "400/400 [==============================] - 2s 5ms/step - loss: 0.3058 - accuracy: 0.8688 - val_loss: 0.3361 - val_accuracy: 0.8584\n",
            "Epoch 35/50\n",
            "400/400 [==============================] - 2s 5ms/step - loss: 0.3103 - accuracy: 0.8632 - val_loss: 0.3094 - val_accuracy: 0.8659\n",
            "Epoch 36/50\n",
            "400/400 [==============================] - 2s 5ms/step - loss: 0.3090 - accuracy: 0.8639 - val_loss: 0.3089 - val_accuracy: 0.8672\n",
            "Epoch 37/50\n",
            "400/400 [==============================] - 2s 5ms/step - loss: 0.3122 - accuracy: 0.8666 - val_loss: 0.3095 - val_accuracy: 0.8662\n",
            "Epoch 38/50\n",
            "400/400 [==============================] - 2s 5ms/step - loss: 0.3012 - accuracy: 0.8685 - val_loss: 0.3056 - val_accuracy: 0.8719\n",
            "Epoch 39/50\n",
            "400/400 [==============================] - 2s 5ms/step - loss: 0.2943 - accuracy: 0.8757 - val_loss: 0.3056 - val_accuracy: 0.8678\n",
            "Epoch 40/50\n",
            "400/400 [==============================] - 2s 5ms/step - loss: 0.3031 - accuracy: 0.8713 - val_loss: 0.3074 - val_accuracy: 0.8691\n",
            "Epoch 41/50\n",
            "400/400 [==============================] - 2s 5ms/step - loss: 0.2927 - accuracy: 0.8754 - val_loss: 0.3126 - val_accuracy: 0.8694\n",
            "Epoch 42/50\n",
            "400/400 [==============================] - 2s 5ms/step - loss: 0.2818 - accuracy: 0.8768 - val_loss: 0.3065 - val_accuracy: 0.8719\n",
            "Epoch 43/50\n",
            "400/400 [==============================] - 2s 5ms/step - loss: 0.2900 - accuracy: 0.8767 - val_loss: 0.3034 - val_accuracy: 0.8687\n",
            "Epoch 44/50\n",
            "400/400 [==============================] - 2s 5ms/step - loss: 0.3084 - accuracy: 0.8675 - val_loss: 0.3120 - val_accuracy: 0.8637\n",
            "Epoch 45/50\n",
            "400/400 [==============================] - 2s 5ms/step - loss: 0.2930 - accuracy: 0.8755 - val_loss: 0.2994 - val_accuracy: 0.8687\n",
            "Epoch 46/50\n",
            "400/400 [==============================] - 2s 5ms/step - loss: 0.2828 - accuracy: 0.8747 - val_loss: 0.3021 - val_accuracy: 0.8734\n",
            "Epoch 47/50\n",
            "400/400 [==============================] - 2s 5ms/step - loss: 0.2880 - accuracy: 0.8788 - val_loss: 0.3085 - val_accuracy: 0.8694\n",
            "Epoch 48/50\n",
            "400/400 [==============================] - 2s 5ms/step - loss: 0.2898 - accuracy: 0.8788 - val_loss: 0.3017 - val_accuracy: 0.8687\n",
            "Epoch 49/50\n",
            "400/400 [==============================] - 2s 5ms/step - loss: 0.2888 - accuracy: 0.8746 - val_loss: 0.2972 - val_accuracy: 0.8722\n",
            "Epoch 50/50\n",
            "400/400 [==============================] - 2s 5ms/step - loss: 0.2779 - accuracy: 0.8811 - val_loss: 0.2979 - val_accuracy: 0.8744\n",
            "Fold 5, 50 epochs, 143 sec\n"
          ],
          "name": "stdout"
        },
        {
          "output_type": "display_data",
          "data": {
            "image/png": "[encoded data removed]",
            "text/plain": [
              "<Figure size 576x360 with 1 Axes>"
            ]
          },
          "metadata": {
            "tags": [],
            "needs_background": "light"
          }
        },
        {
          "output_type": "stream",
          "text": [
            "INFO:tensorflow:Assets written to: /content/drive/My Drive/data/LastModel/assets\n"
          ],
          "name": "stdout"
        }
      ]
    },
    {
      "cell_type": "markdown",
      "metadata": {
        "id": "OsytC9VUrEAX"
      },
      "source": [
        "## Test the neural network"
      ]
    },
    {
      "cell_type": "code",
      "metadata": {
        "colab": {
          "base_uri": "https://localhost:8080/"
        },
        "id": "yl_32wkloFA7",
        "outputId": "1bdd77f8-dc5a-4042-dec5-8512fec98fa2"
      },
      "source": [
        "show_time()\n",
        "model = load_model(BESTMODELPATH)\n",
        "Xseq,y=prepare_x_and_y(pc_test,nc_test)  # test sequences\n",
        "Xfrq=seqs_to_kmer_freqs(Xseq,MAX_K)      # converted to K-mer frequencies\n",
        "X = reshape(Xfrq)                        # and formatted as 2D matrix\n",
        "show_time()"
      ],
      "execution_count": 16,
      "outputs": [
        {
          "output_type": "stream",
          "text": [
            "2021-08-11 19:35:53 UTC\n",
            "2021-08-11 19:35:57 UTC\n"
          ],
          "name": "stdout"
        }
      ]
    },
    {
      "cell_type": "code",
      "metadata": {
        "id": "8hIqe1r1rEAa",
        "colab": {
          "base_uri": "https://localhost:8080/"
        },
        "outputId": "7da78e90-3e84-4823-e23b-8c1bfa1d5c3a"
      },
      "source": [
        "scores = model.evaluate(X, y, verbose=0)\n",
        "print(\"%s: %.2f%%\" % (model.metrics_names[1], scores[1]*100))"
      ],
      "execution_count": 17,
      "outputs": [
        {
          "output_type": "stream",
          "text": [
            "accuracy: 87.37%\n"
          ],
          "name": "stdout"
        }
      ]
    },
    {
      "cell_type": "markdown",
      "metadata": {
        "id": "TTxQB_cbp-2s"
      },
      "source": [
        "## Apply the network to specific data sets"
      ]
    },
    {
      "cell_type": "code",
      "metadata": {
        "id": "8keogpZypr_E"
      },
      "source": [
        "def prepare_one(seqs1,label):\n",
        "    len1=len(seqs1)\n",
        "    if label==1:\n",
        "        L1=np.ones(len1,dtype=np.int8)\n",
        "    else:\n",
        "        L1=np.zeros(len1,dtype=np.int8)\n",
        "    Xfrq=seqs_to_kmer_freqs(seqs1,MAX_K)      # converted to K-mer frequencies\n",
        "    return Xfrq,L1\n"
      ],
      "execution_count": 18,
      "outputs": []
    },
    {
      "cell_type": "code",
      "metadata": {
        "colab": {
          "base_uri": "https://localhost:8080/"
        },
        "id": "uKZErkm5oFBA",
        "outputId": "1ac9bc31-6b84-4057-86b4-d9b16e50a4df"
      },
      "source": [
        "print(\"The protein coding test set...\")\n",
        "Xfrq,y = prepare_one(pc_test,1)\n",
        "rows=7\n",
        "cols=FRQ_CNT//rows\n",
        "seq_cnt,old_rows=Xfrq.shape \n",
        "X = Xfrq.reshape(seq_cnt,rows,cols,1)\n",
        "\n",
        "scores = model.evaluate(X, y, verbose=0)\n",
        "print(\"%s: %.2f%%\" % (model.metrics_names[1], scores[1]*100))\n",
        "pc_bm_probs = model.predict(X)"
      ],
      "execution_count": 19,
      "outputs": [
        {
          "output_type": "stream",
          "text": [
            "The protein coding test set...\n",
            "accuracy: 88.25%\n"
          ],
          "name": "stdout"
        }
      ]
    },
    {
      "cell_type": "code",
      "metadata": {
        "id": "-cSLTNfzrEAo",
        "colab": {
          "base_uri": "https://localhost:8080/"
        },
        "outputId": "4020f3b1-2e03-4327-a594-54818d13f25e"
      },
      "source": [
        "print(\"The non coding test set...\")\n",
        "Xfrq,y = prepare_one(nc_test,1)\n",
        "rows=7\n",
        "cols=FRQ_CNT//rows\n",
        "seq_cnt,old_rows=Xfrq.shape \n",
        "X = Xfrq.reshape(seq_cnt,rows,cols,1)\n",
        "\n",
        "scores = model.evaluate(X, y, verbose=0)\n",
        "print(\"%s: %.2f%%\" % (model.metrics_names[1], scores[1]*100))\n",
        "nc_bm_probs = model.predict(X)"
      ],
      "execution_count": 20,
      "outputs": [
        {
          "output_type": "stream",
          "text": [
            "The non coding test set...\n",
            "accuracy: 13.50%\n"
          ],
          "name": "stdout"
        }
      ]
    },
    {
      "cell_type": "code",
      "metadata": {
        "colab": {
          "base_uri": "https://localhost:8080/"
        },
        "id": "1yjj57go7G4I",
        "outputId": "119dbd7a-087a-4804-af17-43d0488767ff"
      },
      "source": [
        "print(\"The sequences of interest...\")\n",
        "Xfrq,y = prepare_one(selectedX,41)  # don't use second parameter; set y on next line\n",
        "y = np.asarray(selectedY)\n",
        "rows=7\n",
        "cols=FRQ_CNT//rows\n",
        "seq_cnt,old_rows=Xfrq.shape \n",
        "X = Xfrq.reshape(seq_cnt,rows,cols,1)\n",
        "\n",
        "\n",
        "scores = model.evaluate(X, y, verbose=0)\n",
        "print(\"%s: %.2f%%\" % (model.metrics_names[1], scores[1]*100))\n",
        "int_bm_probs = model.predict(X)"
      ],
      "execution_count": 21,
      "outputs": [
        {
          "output_type": "stream",
          "text": [
            "The sequences of interest...\n",
            "accuracy: 75.00%\n"
          ],
          "name": "stdout"
        }
      ]
    },
    {
      "cell_type": "code",
      "metadata": {
        "colab": {
          "base_uri": "https://localhost:8080/",
          "height": 339
        },
        "id": "2TKZSHx69iEW",
        "outputId": "73dc9810-6887-434f-8089-4a11b8173079"
      },
      "source": [
        "pc_probs = np.asarray([e[0] for e in pc_bm_probs])\n",
        "nc_probs = np.asarray([e[0] for e in nc_bm_probs])\n",
        "int_probs = np.asarray([e[0] for e in int_bm_probs])\n",
        "\n",
        "pg = PlotGenerator()\n",
        "pg.set_text_options(90, 'right', 0, 'center', 12)\n",
        "pg.set_axis_options('linear', 10, 'log', 10)\n",
        "pg.set_text('Model Result Per Sequence Histogram (100 bins)', 'Probability', 'Number of Sequences', None, None)\n",
        "\n",
        "pg.histogram([pc_probs, nc_probs], 100, ['mRNA', 'lncRNA'])"
      ],
      "execution_count": 23,
      "outputs": [
        {
          "output_type": "display_data",
          "data": {
            "image/png": "[encoded data removed]",
            "text/plain": [
              "<Figure size 460.8x345.6 with 1 Axes>"
            ]
          },
          "metadata": {
            "tags": [],
            "needs_background": "light"
          }
        }
      ]
    }
  ]
}