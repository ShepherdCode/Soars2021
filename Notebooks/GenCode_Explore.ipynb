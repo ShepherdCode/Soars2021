{
 "cells": [
  {
   "cell_type": "markdown",
   "metadata": {},
   "source": [
    "# GenCode Explore\n",
    "\n",
    "Explore the human RNA sequences from GenCode.\n",
    "\n",
    "Assume user downloaded files from GenCode 38 [FTP](http://ftp.ebi.ac.uk/pub/databases/gencode/Gencode_human/release_38/)\n",
    "to a subdirectory called data."
   ]
  },
  {
   "cell_type": "code",
   "execution_count": 1,
   "metadata": {},
   "outputs": [
    {
     "name": "stdout",
     "output_type": "stream",
     "text": [
      "2021-05-26 15:35:12 EDT\n"
     ]
    }
   ],
   "source": [
    "import time \n",
    "def show_time():\n",
    "    t = time.time()\n",
    "    s = time.strftime('%Y-%m-%d %H:%M:%S %Z', time.localtime(t))\n",
    "    print(s)\n",
    "show_time()"
   ]
  },
  {
   "cell_type": "code",
   "execution_count": 2,
   "metadata": {},
   "outputs": [
    {
     "name": "stdout",
     "output_type": "stream",
     "text": [
      "CoLab not working. On my PC, use relative paths.\n"
     ]
    }
   ],
   "source": [
    "import numpy as np\n",
    "import pandas as pd\n",
    "import gzip\n",
    "import sys\n",
    "try:\n",
    "    from google.colab import drive\n",
    "    IN_COLAB = True\n",
    "    print(\"On Google CoLab, mount cloud-local file, get our code from GitHub.\")\n",
    "    PATH='/content/drive/'\n",
    "    #drive.mount(PATH,force_remount=True)  # hardly ever need this\n",
    "    drive.mount(PATH)    # Google will require login credentials\n",
    "    DATAPATH=PATH+'My Drive/data/'  # must end in \"/\"\n",
    "    import requests\n",
    "    s = requests.get('https://raw.githubusercontent.com/ShepherdCode/Soars2021/master/SimTools/RNA_describe.py')\n",
    "    with open('RNA_describe.py', 'w') as f:\n",
    "        f.write(s.text)  # writes to cloud local, delete the file later?\n",
    "    from RNA_describe import *\n",
    "except:\n",
    "    print(\"CoLab not working. On my PC, use relative paths.\")\n",
    "    IN_COLAB = False\n",
    "    DATAPATH='../data/'  # must end in \"/\"\n",
    "    sys.path.append(\"..\") # append parent dir in order to use sibling dirs\n",
    "    from SimTools.RNA_describe import *\n",
    "\n",
    "MODELPATH=\"BestModel\"  # saved on cloud instance and lost after logout\n",
    "#MODELPATH=DATAPATH+MODELPATH  # saved on Google Drive but requires login\n",
    "\n",
    "if not assert_imported_RNA_describe():\n",
    "    print(\"ERROR: Cannot use RNA_describe.\")"
   ]
  },
  {
   "cell_type": "code",
   "execution_count": 3,
   "metadata": {},
   "outputs": [],
   "source": [
    "PC_FILENAME='gencode.v38.pc_transcripts.fa.gz'\n",
    "NC_FILENAME='gencode.v38.lncRNA_transcripts.fa.gz'\n",
    "TEST_FILENAME='test.fa.gz'"
   ]
  },
  {
   "cell_type": "code",
   "execution_count": 4,
   "metadata": {},
   "outputs": [],
   "source": [
    "def load_gencode(filename,label):\n",
    "    DEFLINE='>'\n",
    "    DELIM='|'\n",
    "    EMPTY=''\n",
    "    labels=[]  # usually 1 for protein-coding or 0 for non-coding\n",
    "    seqs=[]    # usually string of ACGT\n",
    "    lens=[]    # sequence length\n",
    "    ids=[]     # GenCode transcript ID, always starts ENST\n",
    "    one_seq = EMPTY\n",
    "    one_id = None\n",
    "    # Use gzip 'r' mode to open file in read-only mode.\n",
    "    # Use gzip 't' mode to read each line of text as type string.\n",
    "    with gzip.open (filename,'rt') as infile:\n",
    "        for line in infile:\n",
    "            if line[0]==DEFLINE:\n",
    "                # Save the previous sequence if one exists.\n",
    "                if not one_seq == EMPTY:\n",
    "                    labels.append(label)\n",
    "                    seqs.append(one_seq)\n",
    "                    lens.append(len(one_seq))\n",
    "                    ids.append(one_id)\n",
    "                # Get ready to read the next sequence. \n",
    "                # Parse a GenCode defline that is formatted like this:\n",
    "                # >transcript_ID|gene_ID|other_fields other_info|other_info\n",
    "                one_id = line[1:].split(DELIM)[0]\n",
    "                one_seq = EMPTY\n",
    "            else:\n",
    "                # Continue loading sequence lines till next defline.\n",
    "                additional = line.rstrip()\n",
    "                one_seq = one_seq + additional\n",
    "        # Don't forget to save the last sequence after end-of-file.\n",
    "        if not one_seq == EMPTY:\n",
    "            labels.append(label)\n",
    "            seqs.append(one_seq)\n",
    "            lens.append(len(one_seq))\n",
    "            ids.append(one_id)\n",
    "\n",
    "    df1=pd.DataFrame(ids,columns=['tid'])\n",
    "    df2=pd.DataFrame(labels,columns=['class'])\n",
    "    df3=pd.DataFrame(seqs,columns=['sequence'])\n",
    "    df4=pd.DataFrame(lens,columns=['seqlen'])\n",
    "    df=pd.concat((df1,df2,df3,df4),axis=1)\n",
    "    return df"
   ]
  },
  {
   "cell_type": "code",
   "execution_count": 13,
   "metadata": {},
   "outputs": [],
   "source": [
    "def get_the_facts(seqs,verbose=False):\n",
    "    rd = RNA_describer()\n",
    "    facts = rd.get_three_lengths(seqs)\n",
    "    facts_ary = np.asarray(facts) \n",
    "    mean_5utr, mean_orf, mean_3utr = np.mean(facts_ary,axis=0)\n",
    "    std_5utr, std_orf, std_3utr = np.std(facts_ary,axis=0)\n",
    "    if verbose:\n",
    "        print(\"Facts array:\",facts_ary.shape)\n",
    "        print(\"mean 5' UTR length:\",int(mean_5utr),\"+/-\",int(std_5utr))\n",
    "        print(\"mean    ORF length:\",int(mean_orf), \"+/-\",int(std_orf))\n",
    "        print(\"mean 3' UTR length:\",int(mean_3utr),\"+/-\",int(std_3utr))\n",
    "    return mean_5utr, mean_orf, mean_3utr"
   ]
  },
  {
   "cell_type": "markdown",
   "metadata": {},
   "source": [
    "## Demo on a small test set"
   ]
  },
  {
   "cell_type": "code",
   "execution_count": 14,
   "metadata": {},
   "outputs": [
    {
     "data": {
      "text/html": [
       "<div>\n",
       "<style scoped>\n",
       "    .dataframe tbody tr th:only-of-type {\n",
       "        vertical-align: middle;\n",
       "    }\n",
       "\n",
       "    .dataframe tbody tr th {\n",
       "        vertical-align: top;\n",
       "    }\n",
       "\n",
       "    .dataframe thead th {\n",
       "        text-align: right;\n",
       "    }\n",
       "</style>\n",
       "<table border=\"1\" class=\"dataframe\">\n",
       "  <thead>\n",
       "    <tr style=\"text-align: right;\">\n",
       "      <th></th>\n",
       "      <th>tid</th>\n",
       "      <th>class</th>\n",
       "      <th>sequence</th>\n",
       "      <th>seqlen</th>\n",
       "    </tr>\n",
       "  </thead>\n",
       "  <tbody>\n",
       "    <tr>\n",
       "      <th>0</th>\n",
       "      <td>ENST00000641515.2</td>\n",
       "      <td>1</td>\n",
       "      <td>CCCAGATCTCTTCAGTTTTTATGCCTCATTCTGTGAAAATTGCTGT...</td>\n",
       "      <td>2618</td>\n",
       "    </tr>\n",
       "    <tr>\n",
       "      <th>1</th>\n",
       "      <td>ENST00000426406.4</td>\n",
       "      <td>1</td>\n",
       "      <td>ATGGATGGAGAGAATCACTCAGTGGTATCTGAGTTTTTGTTTCTGG...</td>\n",
       "      <td>939</td>\n",
       "    </tr>\n",
       "    <tr>\n",
       "      <th>2</th>\n",
       "      <td>ENST00000332831.4</td>\n",
       "      <td>1</td>\n",
       "      <td>AGCCCAGTTGGCTGGACCAATGGATGGAGAGAATCACTCAGTGGTA...</td>\n",
       "      <td>995</td>\n",
       "    </tr>\n",
       "    <tr>\n",
       "      <th>3</th>\n",
       "      <td>ENST00000616016.5</td>\n",
       "      <td>1</td>\n",
       "      <td>GGCGGCGGAGTCTCCCAAGTCCCCGCCGGGCGGGCGCGCGCCAGTG...</td>\n",
       "      <td>3465</td>\n",
       "    </tr>\n",
       "    <tr>\n",
       "      <th>4</th>\n",
       "      <td>ENST00000618323.5</td>\n",
       "      <td>1</td>\n",
       "      <td>GGCGGCGGAGTCTCCCAAGTCCCCGCCGGGCGGGCGCGCGCCAGTG...</td>\n",
       "      <td>3468</td>\n",
       "    </tr>\n",
       "    <tr>\n",
       "      <th>5</th>\n",
       "      <td>ENST00000437963.5</td>\n",
       "      <td>1</td>\n",
       "      <td>CAGCGCTTGGGGCTCGCGGGCCGCTCCCTCCGCTCGGAAGGGAAAA...</td>\n",
       "      <td>387</td>\n",
       "    </tr>\n",
       "    <tr>\n",
       "      <th>6</th>\n",
       "      <td>ENST00000342066.8</td>\n",
       "      <td>1</td>\n",
       "      <td>GCAGAGCCCAGCAGATCCCTGCGGCGTTCGCGAGGGTGGGACGGGA...</td>\n",
       "      <td>2557</td>\n",
       "    </tr>\n",
       "    <tr>\n",
       "      <th>7</th>\n",
       "      <td>ENST00000616125.5</td>\n",
       "      <td>1</td>\n",
       "      <td>ATGTCCAAGGGGATCCTGCAGGTGCATCCTCCGATCTGCGACTGCC...</td>\n",
       "      <td>1722</td>\n",
       "    </tr>\n",
       "    <tr>\n",
       "      <th>8</th>\n",
       "      <td>ENST00000618779.5</td>\n",
       "      <td>1</td>\n",
       "      <td>ATGTCCAAGGGGATCCTGCAGGTGCATCCTCCGATCTGCGACTGCC...</td>\n",
       "      <td>1860</td>\n",
       "    </tr>\n",
       "    <tr>\n",
       "      <th>9</th>\n",
       "      <td>ENST00000622503.5</td>\n",
       "      <td>1</td>\n",
       "      <td>ATGTCCAAGGGGATCCTGCAGGTGCATCCTCCGATCTGCGACTGCC...</td>\n",
       "      <td>2049</td>\n",
       "    </tr>\n",
       "    <tr>\n",
       "      <th>10</th>\n",
       "      <td>ENST00000618181.5</td>\n",
       "      <td>1</td>\n",
       "      <td>ATGTCCAAGGGGATCCTGCAGGTGCATCCTCCGATCTGCGACTGCC...</td>\n",
       "      <td>1671</td>\n",
       "    </tr>\n",
       "    <tr>\n",
       "      <th>11</th>\n",
       "      <td>ENST00000617307.5</td>\n",
       "      <td>1</td>\n",
       "      <td>ATGTCCAAGGGGATCCTGCAGGTGCATCCTCCGATCTGCGACTGCC...</td>\n",
       "      <td>1986</td>\n",
       "    </tr>\n",
       "    <tr>\n",
       "      <th>12</th>\n",
       "      <td>ENST00000341065.8</td>\n",
       "      <td>1</td>\n",
       "      <td>CGCACATCCGTATCATGAAGAGAAGAGTCCACACCCACTGGGACGT...</td>\n",
       "      <td>2191</td>\n",
       "    </tr>\n",
       "    <tr>\n",
       "      <th>13</th>\n",
       "      <td>ENST00000455979.1</td>\n",
       "      <td>1</td>\n",
       "      <td>AGGCGCTGCTGCTGCCGCGGGAGCTGGGGCCCAGCATGGCCCCGGA...</td>\n",
       "      <td>1731</td>\n",
       "    </tr>\n",
       "    <tr>\n",
       "      <th>14</th>\n",
       "      <td>ENST00000327044.7</td>\n",
       "      <td>1</td>\n",
       "      <td>GCTTCGGGTTGGTGTCATGGCAGCTGCGGGGAGCCGCAAGAGGCGC...</td>\n",
       "      <td>1140</td>\n",
       "    </tr>\n",
       "  </tbody>\n",
       "</table>\n",
       "</div>"
      ],
      "text/plain": [
       "                  tid  class  \\\n",
       "0   ENST00000641515.2      1   \n",
       "1   ENST00000426406.4      1   \n",
       "2   ENST00000332831.4      1   \n",
       "3   ENST00000616016.5      1   \n",
       "4   ENST00000618323.5      1   \n",
       "5   ENST00000437963.5      1   \n",
       "6   ENST00000342066.8      1   \n",
       "7   ENST00000616125.5      1   \n",
       "8   ENST00000618779.5      1   \n",
       "9   ENST00000622503.5      1   \n",
       "10  ENST00000618181.5      1   \n",
       "11  ENST00000617307.5      1   \n",
       "12  ENST00000341065.8      1   \n",
       "13  ENST00000455979.1      1   \n",
       "14  ENST00000327044.7      1   \n",
       "\n",
       "                                             sequence  seqlen  \n",
       "0   CCCAGATCTCTTCAGTTTTTATGCCTCATTCTGTGAAAATTGCTGT...    2618  \n",
       "1   ATGGATGGAGAGAATCACTCAGTGGTATCTGAGTTTTTGTTTCTGG...     939  \n",
       "2   AGCCCAGTTGGCTGGACCAATGGATGGAGAGAATCACTCAGTGGTA...     995  \n",
       "3   GGCGGCGGAGTCTCCCAAGTCCCCGCCGGGCGGGCGCGCGCCAGTG...    3465  \n",
       "4   GGCGGCGGAGTCTCCCAAGTCCCCGCCGGGCGGGCGCGCGCCAGTG...    3468  \n",
       "5   CAGCGCTTGGGGCTCGCGGGCCGCTCCCTCCGCTCGGAAGGGAAAA...     387  \n",
       "6   GCAGAGCCCAGCAGATCCCTGCGGCGTTCGCGAGGGTGGGACGGGA...    2557  \n",
       "7   ATGTCCAAGGGGATCCTGCAGGTGCATCCTCCGATCTGCGACTGCC...    1722  \n",
       "8   ATGTCCAAGGGGATCCTGCAGGTGCATCCTCCGATCTGCGACTGCC...    1860  \n",
       "9   ATGTCCAAGGGGATCCTGCAGGTGCATCCTCCGATCTGCGACTGCC...    2049  \n",
       "10  ATGTCCAAGGGGATCCTGCAGGTGCATCCTCCGATCTGCGACTGCC...    1671  \n",
       "11  ATGTCCAAGGGGATCCTGCAGGTGCATCCTCCGATCTGCGACTGCC...    1986  \n",
       "12  CGCACATCCGTATCATGAAGAGAAGAGTCCACACCCACTGGGACGT...    2191  \n",
       "13  AGGCGCTGCTGCTGCCGCGGGAGCTGGGGCCCAGCATGGCCCCGGA...    1731  \n",
       "14  GCTTCGGGTTGGTGTCATGGCAGCTGCGGGGAGCCGCAAGAGGCGC...    1140  "
      ]
     },
     "execution_count": 14,
     "metadata": {},
     "output_type": "execute_result"
    }
   ],
   "source": [
    "FULLPATH=DATAPATH+TEST_FILENAME\n",
    "df=load_gencode(FULLPATH,1)\n",
    "df"
   ]
  },
  {
   "cell_type": "code",
   "execution_count": 15,
   "metadata": {},
   "outputs": [
    {
     "name": "stdout",
     "output_type": "stream",
     "text": [
      "Facts array: (15, 3)\n",
      "mean 5' UTR length: 132 +/- 199\n",
      "mean    ORF length: 1533 +/- 710\n",
      "mean 3' UTR length: 252 +/- 394\n"
     ]
    }
   ],
   "source": [
    "FULLPATH=DATAPATH+TEST_FILENAME\n",
    "testdf=load_gencode(FULLPATH,2)\n",
    "x = get_the_facts( testdf['sequence'].tolist() ,True)"
   ]
  },
  {
   "cell_type": "markdown",
   "metadata": {},
   "source": [
    "## Load the GenCode data.\n",
    "Warning: this is slow.\n",
    "Over 100K protein-coding RNA (mRNA).\n",
    "Almost 50K non-coding RNA (lncRNA)."
   ]
  },
  {
   "cell_type": "code",
   "execution_count": 16,
   "metadata": {},
   "outputs": [
    {
     "name": "stdout",
     "output_type": "stream",
     "text": [
      "2021-05-26 15:53:36 EDT\n",
      "PC seqs loaded: 106143\n",
      "2021-05-26 15:53:41 EDT\n",
      "NC seqs loaded: 48752\n",
      "2021-05-26 15:53:43 EDT\n"
     ]
    }
   ],
   "source": [
    "PC_FULLPATH=DATAPATH+PC_FILENAME\n",
    "NC_FULLPATH=DATAPATH+NC_FILENAME\n",
    "show_time()\n",
    "pcdf=load_gencode(PC_FULLPATH,1)\n",
    "print(\"PC seqs loaded:\",len(pcdf))\n",
    "show_time()\n",
    "ncdf=load_gencode(NC_FULLPATH,0)\n",
    "print(\"NC seqs loaded:\",len(ncdf))\n",
    "show_time()"
   ]
  },
  {
   "cell_type": "code",
   "execution_count": 18,
   "metadata": {},
   "outputs": [
    {
     "name": "stdout",
     "output_type": "stream",
     "text": [
      "2021-05-26 16:03:35 EDT\n",
      "Protein Coding set:\n",
      "Facts array: (106143, 3)\n",
      "mean 5' UTR length: 261 +/- 339\n",
      "mean    ORF length: 1136 +/- 1556\n",
      "mean 3' UTR length: 897 +/- 1385\n",
      "2021-05-26 16:07:36 EDT\n",
      "Non Coding set:\n",
      "Facts array: (48752, 3)\n",
      "mean 5' UTR length: 511 +/- 1344\n",
      "mean    ORF length: 211 +/- 135\n",
      "mean 3' UTR length: 606 +/- 1100\n",
      "2021-05-26 16:08:03 EDT\n"
     ]
    }
   ],
   "source": [
    "# Warning: each get_the_facts() takes up to 5 minutes.\n",
    "show_time()\n",
    "print(\"Protein Coding set:\")\n",
    "pc_means = get_the_facts( pcdf['sequence'].tolist() ,True)\n",
    "show_time()\n",
    "print(\"Non Coding set:\")\n",
    "nc_means = get_the_facts( ncdf['sequence'].tolist() ,True)\n",
    "show_time()"
   ]
  },
  {
   "cell_type": "markdown",
   "metadata": {},
   "source": [
    "Original:\n",
    "get three\n",
    "2021-05-26 15:07:53 EDT\n",
    "as array\n",
    "2021-05-26 15:09:13 EDT\n",
    "\n",
    "Check ATG before method invocation:\n",
    "get three\n",
    "2021-05-26 15:19:32 EDT\n",
    "as array\n",
    "2021-05-26 15:19:48 EDT\n",
    "\n"
   ]
  },
  {
   "cell_type": "code",
   "execution_count": 10,
   "metadata": {},
   "outputs": [
    {
     "data": {
      "text/html": [
       "<div>\n",
       "<style scoped>\n",
       "    .dataframe tbody tr th:only-of-type {\n",
       "        vertical-align: middle;\n",
       "    }\n",
       "\n",
       "    .dataframe tbody tr th {\n",
       "        vertical-align: top;\n",
       "    }\n",
       "\n",
       "    .dataframe thead th {\n",
       "        text-align: right;\n",
       "    }\n",
       "</style>\n",
       "<table border=\"1\" class=\"dataframe\">\n",
       "  <thead>\n",
       "    <tr style=\"text-align: right;\">\n",
       "      <th></th>\n",
       "      <th>tid</th>\n",
       "      <th>class</th>\n",
       "      <th>sequence</th>\n",
       "      <th>seqlen</th>\n",
       "    </tr>\n",
       "  </thead>\n",
       "  <tbody>\n",
       "    <tr>\n",
       "      <th>0</th>\n",
       "      <td>ENST00000473358.1</td>\n",
       "      <td>0</td>\n",
       "      <td>GTGCACACGGCTCCCATGCGTTGTCTTCCGAGCGTCAGGCCGCCCC...</td>\n",
       "      <td>712</td>\n",
       "    </tr>\n",
       "    <tr>\n",
       "      <th>1</th>\n",
       "      <td>ENST00000469289.1</td>\n",
       "      <td>0</td>\n",
       "      <td>TCATCAGTCCAAAGTCCAGCAGTTGTCCCTCCTGGAATCCGTTGGC...</td>\n",
       "      <td>535</td>\n",
       "    </tr>\n",
       "    <tr>\n",
       "      <th>3</th>\n",
       "      <td>ENST00000461467.1</td>\n",
       "      <td>0</td>\n",
       "      <td>GGGGTTTCGGGGCTGTGGACCCTGTGCCAGGAAAGGAAGGGCGCAG...</td>\n",
       "      <td>590</td>\n",
       "    </tr>\n",
       "    <tr>\n",
       "      <th>5</th>\n",
       "      <td>ENST00000477740.5</td>\n",
       "      <td>0</td>\n",
       "      <td>GACAAGTTCGAGCATCTTAAAATGATTCAACAGGAGGAGATAAGGA...</td>\n",
       "      <td>491</td>\n",
       "    </tr>\n",
       "    <tr>\n",
       "      <th>6</th>\n",
       "      <td>ENST00000471248.1</td>\n",
       "      <td>0</td>\n",
       "      <td>GAAGCTCGAGGAAGAGAAAAAAAAACTGGAAGGAGAAATCATAGAT...</td>\n",
       "      <td>629</td>\n",
       "    </tr>\n",
       "    <tr>\n",
       "      <th>...</th>\n",
       "      <td>...</td>\n",
       "      <td>...</td>\n",
       "      <td>...</td>\n",
       "      <td>...</td>\n",
       "    </tr>\n",
       "    <tr>\n",
       "      <th>48746</th>\n",
       "      <td>ENST00000427373.5</td>\n",
       "      <td>0</td>\n",
       "      <td>AGCTCACTGTAACCTTGAACTCCTGGGCTCAAGTGATCTTCCTGCT...</td>\n",
       "      <td>842</td>\n",
       "    </tr>\n",
       "    <tr>\n",
       "      <th>48747</th>\n",
       "      <td>ENST00000611754.1</td>\n",
       "      <td>0</td>\n",
       "      <td>TGCACACACCTTCTTTTCCAAGGTTTGTGTGCAGAACATCCTGCCC...</td>\n",
       "      <td>723</td>\n",
       "    </tr>\n",
       "    <tr>\n",
       "      <th>48748</th>\n",
       "      <td>ENST00000306641.1</td>\n",
       "      <td>0</td>\n",
       "      <td>CACACAACATGGCCTTCAGCAATGCTGATTCAGGCTTTGTGGATGC...</td>\n",
       "      <td>795</td>\n",
       "    </tr>\n",
       "    <tr>\n",
       "      <th>48749</th>\n",
       "      <td>ENST00000417334.1</td>\n",
       "      <td>0</td>\n",
       "      <td>GGTTGCCACTTCAAGGGACTACATCATGATGTCCTGTTTCTAATGA...</td>\n",
       "      <td>344</td>\n",
       "    </tr>\n",
       "    <tr>\n",
       "      <th>48750</th>\n",
       "      <td>ENST00000483543.7_PAR_Y</td>\n",
       "      <td>0</td>\n",
       "      <td>GTCTAGGTGCAGAGGCCAGAGGAAGTCATTGCTGTCCTGTCCCGCC...</td>\n",
       "      <td>773</td>\n",
       "    </tr>\n",
       "  </tbody>\n",
       "</table>\n",
       "<p>25607 rows × 4 columns</p>\n",
       "</div>"
      ],
      "text/plain": [
       "                           tid  class  \\\n",
       "0            ENST00000473358.1      0   \n",
       "1            ENST00000469289.1      0   \n",
       "3            ENST00000461467.1      0   \n",
       "5            ENST00000477740.5      0   \n",
       "6            ENST00000471248.1      0   \n",
       "...                        ...    ...   \n",
       "48746        ENST00000427373.5      0   \n",
       "48747        ENST00000611754.1      0   \n",
       "48748        ENST00000306641.1      0   \n",
       "48749        ENST00000417334.1      0   \n",
       "48750  ENST00000483543.7_PAR_Y      0   \n",
       "\n",
       "                                                sequence  seqlen  \n",
       "0      GTGCACACGGCTCCCATGCGTTGTCTTCCGAGCGTCAGGCCGCCCC...     712  \n",
       "1      TCATCAGTCCAAAGTCCAGCAGTTGTCCCTCCTGGAATCCGTTGGC...     535  \n",
       "3      GGGGTTTCGGGGCTGTGGACCCTGTGCCAGGAAAGGAAGGGCGCAG...     590  \n",
       "5      GACAAGTTCGAGCATCTTAAAATGATTCAACAGGAGGAGATAAGGA...     491  \n",
       "6      GAAGCTCGAGGAAGAGAAAAAAAAACTGGAAGGAGAAATCATAGAT...     629  \n",
       "...                                                  ...     ...  \n",
       "48746  AGCTCACTGTAACCTTGAACTCCTGGGCTCAAGTGATCTTCCTGCT...     842  \n",
       "48747  TGCACACACCTTCTTTTCCAAGGTTTGTGTGCAGAACATCCTGCCC...     723  \n",
       "48748  CACACAACATGGCCTTCAGCAATGCTGATTCAGGCTTTGTGGATGC...     795  \n",
       "48749  GGTTGCCACTTCAAGGGACTACATCATGATGTCCTGTTTCTAATGA...     344  \n",
       "48750  GTCTAGGTGCAGAGGCCAGAGGAAGTCATTGCTGTCCTGTCCCGCC...     773  \n",
       "\n",
       "[25607 rows x 4 columns]"
      ]
     },
     "execution_count": 10,
     "metadata": {},
     "output_type": "execute_result"
    }
   ],
   "source": [
    "mask = (ncdf['sequence'].str.len() < 1000)\n",
    "subset = ncdf.loc[mask]\n",
    "subset"
   ]
  },
  {
   "cell_type": "code",
   "execution_count": 11,
   "metadata": {},
   "outputs": [
    {
     "name": "stdout",
     "output_type": "stream",
     "text": [
      "constructor\n",
      "2021-05-26 15:35:46 EDT\n",
      "get three\n",
      "2021-05-26 15:35:46 EDT\n",
      "as array\n",
      "2021-05-26 15:35:53 EDT\n",
      "mean\n",
      "2021-05-26 15:35:53 EDT\n",
      "std\n",
      "2021-05-26 15:35:53 EDT\n",
      "print\n",
      "2021-05-26 15:35:53 EDT\n",
      "Facts array: (25607, 3)\n",
      "mean 5' UTR length: 225 +/- 165\n",
      "mean    ORF length: 160 +/- 85\n",
      "mean 3' UTR length: 230 +/- 167\n"
     ]
    },
    {
     "data": {
      "text/plain": [
       "(225.5727730698637, 160.50954817042216, 230.8049361502714)"
      ]
     },
     "execution_count": 11,
     "metadata": {},
     "output_type": "execute_result"
    }
   ],
   "source": [
    "get_the_facts( subset['sequence'].tolist() ,True)"
   ]
  },
  {
   "cell_type": "code",
   "execution_count": 12,
   "metadata": {},
   "outputs": [
    {
     "data": {
      "text/plain": [
       "0        GTGCACACGGCTCCCATGCGTTGTCTTCCGAGCGTCAGGCCGCCCC...\n",
       "1        TCATCAGTCCAAAGTCCAGCAGTTGTCCCTCCTGGAATCCGTTGGC...\n",
       "3        GGGGTTTCGGGGCTGTGGACCCTGTGCCAGGAAAGGAAGGGCGCAG...\n",
       "5        GACAAGTTCGAGCATCTTAAAATGATTCAACAGGAGGAGATAAGGA...\n",
       "6        GAAGCTCGAGGAAGAGAAAAAAAAACTGGAAGGAGAAATCATAGAT...\n",
       "                               ...                        \n",
       "48746    AGCTCACTGTAACCTTGAACTCCTGGGCTCAAGTGATCTTCCTGCT...\n",
       "48747    TGCACACACCTTCTTTTCCAAGGTTTGTGTGCAGAACATCCTGCCC...\n",
       "48748    CACACAACATGGCCTTCAGCAATGCTGATTCAGGCTTTGTGGATGC...\n",
       "48749    GGTTGCCACTTCAAGGGACTACATCATGATGTCCTGTTTCTAATGA...\n",
       "48750    GTCTAGGTGCAGAGGCCAGAGGAAGTCATTGCTGTCCTGTCCCGCC...\n",
       "Name: sequence, Length: 25607, dtype: object"
      ]
     },
     "execution_count": 12,
     "metadata": {},
     "output_type": "execute_result"
    }
   ],
   "source": [
    "subset['sequence']"
   ]
  },
  {
   "cell_type": "code",
   "execution_count": null,
   "metadata": {},
   "outputs": [],
   "source": []
  }
 ],
 "metadata": {
  "kernelspec": {
   "display_name": "Python 3",
   "language": "python",
   "name": "python3"
  },
  "language_info": {
   "codemirror_mode": {
    "name": "ipython",
    "version": 3
   },
   "file_extension": ".py",
   "mimetype": "text/x-python",
   "name": "python",
   "nbconvert_exporter": "python",
   "pygments_lexer": "ipython3",
   "version": "3.8.3"
  }
 },
 "nbformat": 4,
 "nbformat_minor": 2
}
