{
  "nbformat": 4,
  "nbformat_minor": 0,
  "metadata": {
    "accelerator": "GPU",
    "colab": {
      "name": "ORF_CNN_208_A.ipynb",
      "provenance": [],
      "collapsed_sections": []
    },
    "kernelspec": {
      "display_name": "Python 3",
      "language": "python",
      "name": "python3"
    },
    "language_info": {
      "codemirror_mode": {
        "name": "ipython",
        "version": 3
      },
      "file_extension": ".py",
      "mimetype": "text/x-python",
      "name": "python",
      "nbconvert_exporter": "python",
      "pygments_lexer": "ipython3",
      "version": "3.8.3"
    }
  },
  "cells": [
    {
      "cell_type": "markdown",
      "metadata": {
        "id": "_5as3MszZVPz"
      },
      "source": [
        ""
      ]
    },
    {
      "cell_type": "markdown",
      "metadata": {
        "id": "rAEafljAB129"
      },
      "source": [
        ""
      ]
    },
    {
      "cell_type": "markdown",
      "metadata": {
        "id": "0asdcdunj2Tx"
      },
      "source": [
        "# ORF recognition by CNN\n",
        "\n",
        "In 105, we used Conv1D layers with filter width=3 with dropout to reduce overfitting. The simulated RNA lengths were 1000.\n",
        "\n",
        "Here, try really short simulated RNA.\n",
        "\n",
        "\n",
        "\n",
        "RNA_LENS=71, CDS_LEN=63 and was cut in half with layers with filters 15 and 5 epochs."
      ]
    },
    {
      "cell_type": "code",
      "metadata": {
        "colab": {
          "base_uri": "https://localhost:8080/",
          "height": 36
        },
        "id": "QP1VTRNQj2UO",
        "outputId": "bcc2e932-06f5-4929-ef09-9f371bbafd3a"
      },
      "source": [
        "import time \n",
        "t = time.time()\n",
        "time.strftime('%Y-%m-%d %H:%M:%S %Z', time.localtime(t))"
      ],
      "execution_count": 14,
      "outputs": [
        {
          "output_type": "execute_result",
          "data": {
            "application/vnd.google.colaboratory.intrinsic+json": {
              "type": "string"
            },
            "text/plain": [
              "'2021-06-10 19:34:06 UTC'"
            ]
          },
          "metadata": {
            "tags": []
          },
          "execution_count": 14
        }
      ]
    },
    {
      "cell_type": "code",
      "metadata": {
        "id": "Nhz4GKonj2T_"
      },
      "source": [
        "PC_SEQUENCES=2000   # how many protein-coding sequences\n",
        "NC_SEQUENCES=2000   # how many non-coding sequences\n",
        "PC_TESTS=1000\n",
        "NC_TESTS=1000\n",
        "RNA_LEN=71            # how long is each sequence\n",
        "CDS_LEN=63\n",
        "ALPHABET=4          # how many different letters are possible\n",
        "INPUT_SHAPE_2D = (RNA_LEN,ALPHABET,1) # Conv2D needs 3D inputs\n",
        "INPUT_SHAPE = (RNA_LEN,ALPHABET) # Conv1D needs 2D inputs\n",
        "FILTERS = 8   # how many different patterns the model looks for\n",
        "NEURONS = 8\n",
        "DROP_RATE = 0.2\n",
        "WIDTH = 3   # how wide each pattern is, in bases\n",
        "STRIDE_2D = (1,1)  # For Conv2D how far in each direction\n",
        "STRIDE = 1 # For Conv1D, how far between pattern matches, in bases\n",
        "EPOCHS=20  # how many times to train on all the data\n",
        "SPLITS=5  # SPLITS=3 means train on 2/3 and validate on 1/3 \n",
        "FOLDS=2  # train the model this many times (range 1 to SPLITS)"
      ],
      "execution_count": 15,
      "outputs": []
    },
    {
      "cell_type": "code",
      "metadata": {
        "colab": {
          "base_uri": "https://localhost:8080/"
        },
        "id": "lr7q90rxj2UE",
        "outputId": "ab1d1856-b3ba-4e1d-96c9-fdb8fd7e51fe"
      },
      "source": [
        "import sys\n",
        "try:\n",
        "    from google.colab import drive\n",
        "    IN_COLAB = True\n",
        "    print(\"On Google CoLab, mount cloud-local file, get our code from GitHub.\")\n",
        "    PATH='/content/drive/'\n",
        "    #drive.mount(PATH,force_remount=True)  # hardly ever need this\n",
        "    #drive.mount(PATH)    # Google will require login credentials\n",
        "    DATAPATH=PATH+'My Drive/data/'  # must end in \"/\"\n",
        "    import requests\n",
        "    r = requests.get('https://raw.githubusercontent.com/ShepherdCode/Soars2021/master/SimTools/RNA_gen.py')\n",
        "    with open('RNA_gen.py', 'w') as f:\n",
        "        f.write(r.text)  \n",
        "    from RNA_gen import *\n",
        "    r = requests.get('https://raw.githubusercontent.com/ShepherdCode/Soars2021/master/SimTools/RNA_describe.py')\n",
        "    with open('RNA_describe.py', 'w') as f:\n",
        "        f.write(r.text)  \n",
        "    from RNA_describe import ORF_counter\n",
        "    r = requests.get('https://raw.githubusercontent.com/ShepherdCode/Soars2021/master/SimTools/RNA_prep.py')\n",
        "    with open('RNA_prep.py', 'w') as f:\n",
        "        f.write(r.text)  \n",
        "    from RNA_prep import *\n",
        "except:\n",
        "    print(\"CoLab not working. On my PC, use relative paths.\")\n",
        "    IN_COLAB = False\n",
        "    DATAPATH='data/'  # must end in \"/\"\n",
        "    sys.path.append(\"..\") # append parent dir in order to use sibling dirs\n",
        "    from SimTools.RNA_gen import *\n",
        "    from SimTools.RNA_describe import ORF_counter\n",
        "    from SimTools.RNA_prep import *\n",
        "\n",
        "MODELPATH=\"BestModel\"  # saved on cloud instance and lost after logout\n",
        "#MODELPATH=DATAPATH+MODELPATH  # saved on Google Drive but requires login\n",
        "\n",
        "if not assert_imported_RNA_gen():\n",
        "    print(\"ERROR: Cannot use RNA_gen.\")\n",
        "if not assert_imported_RNA_prep():\n",
        "    print(\"ERROR: Cannot use RNA_prep.\")"
      ],
      "execution_count": 16,
      "outputs": [
        {
          "output_type": "stream",
          "text": [
            "On Google CoLab, mount cloud-local file, get our code from GitHub.\n"
          ],
          "name": "stdout"
        }
      ]
    },
    {
      "cell_type": "code",
      "metadata": {
        "id": "EGDXH8Uwj2UM"
      },
      "source": [
        "from os import listdir\n",
        "import csv\n",
        "from zipfile import ZipFile\n",
        "\n",
        "import numpy as np\n",
        "import pandas as pd\n",
        "from scipy import stats  # mode\n",
        "\n",
        "from sklearn.preprocessing import StandardScaler\n",
        "from sklearn.model_selection import KFold\n",
        "from sklearn.model_selection import cross_val_score\n",
        "\n",
        "from keras.models import Sequential\n",
        "from keras.layers import Dense,Embedding,Dropout\n",
        "from keras.layers import Conv1D,Conv2D\n",
        "from keras.layers import Flatten,MaxPooling1D,MaxPooling2D\n",
        "from keras.losses import BinaryCrossentropy\n",
        "# tf.keras.losses.BinaryCrossentropy\n",
        "\n",
        "import matplotlib.pyplot as plt\n",
        "from matplotlib import colors\n",
        "mycmap = colors.ListedColormap(['red','blue'])  # list color for label 0 then 1\n",
        "np.set_printoptions(precision=2)\n"
      ],
      "execution_count": 17,
      "outputs": []
    },
    {
      "cell_type": "code",
      "metadata": {
        "colab": {
          "base_uri": "https://localhost:8080/"
        },
        "id": "Q0FetlLPj2UQ",
        "outputId": "083104ac-af83-489b-8b78-b86571f0392b"
      },
      "source": [
        "# Use code from our SimTools library.\n",
        "def make_generators(seq_len):\n",
        "    pcgen = Collection_Generator()  \n",
        "    pcgen.get_len_oracle().set_mean(seq_len)\n",
        "    tora = Transcript_Oracle()\n",
        "    tora.set_cds_len_mean(CDS_LEN)  # CDS=ORF+STOP. \n",
        "    pcgen.set_seq_oracle(tora)\n",
        "    ncgen = Collection_Generator()  \n",
        "    ncgen.get_len_oracle().set_mean(seq_len)\n",
        "    return pcgen,ncgen\n",
        "\n",
        "pc_sim,nc_sim = make_generators(RNA_LEN)\n",
        "pc_train = pc_sim.get_sequences(PC_SEQUENCES)\n",
        "nc_train = nc_sim.get_sequences(NC_SEQUENCES)\n",
        "print(\"Train on\",len(pc_train),\"PC seqs\")\n",
        "print(\"Train on\",len(nc_train),\"NC seqs\")"
      ],
      "execution_count": 18,
      "outputs": [
        {
          "output_type": "stream",
          "text": [
            "Train on 2000 PC seqs\n",
            "Train on 2000 NC seqs\n"
          ],
          "name": "stdout"
        }
      ]
    },
    {
      "cell_type": "code",
      "metadata": {
        "colab": {
          "base_uri": "https://localhost:8080/"
        },
        "id": "5cu62letZT5G",
        "outputId": "33d057c6-44a7-4767-8ce7-cf0ac24e7566"
      },
      "source": [
        "# Describe the sequences\n",
        "def describe_sequences(list_of_seq):\n",
        "    oc = ORF_counter()\n",
        "    num_seq = len(list_of_seq)\n",
        "    rna_lens = np.zeros(num_seq)\n",
        "    orf_lens = np.zeros(num_seq)\n",
        "    for i in range(0,num_seq):\n",
        "        rna_len = len(list_of_seq[i])\n",
        "        rna_lens[i] = rna_len\n",
        "        oc.set_sequence(list_of_seq[i])\n",
        "        orf_len = oc.get_max_orf_len()\n",
        "        orf_lens[i] = orf_len\n",
        "    print (\"Average RNA length:\",rna_lens.mean())\n",
        "    print (\"Average ORF length:\",orf_lens.mean())\n",
        "    \n",
        "print(\"PC train\")\n",
        "describe_sequences(pc_train)\n",
        "print(\"NC train\")\n",
        "describe_sequences(nc_train)"
      ],
      "execution_count": 19,
      "outputs": [
        {
          "output_type": "stream",
          "text": [
            "PC train\n",
            "Average RNA length: 71.0\n",
            "Average ORF length: 57.5955\n",
            "NC train\n",
            "Average RNA length: 71.0\n",
            "Average ORF length: 6.894\n"
          ],
          "name": "stdout"
        }
      ]
    },
    {
      "cell_type": "code",
      "metadata": {
        "colab": {
          "base_uri": "https://localhost:8080/"
        },
        "id": "CIpTrnH6j2US",
        "outputId": "71dba56d-b169-418e-ffe3-5da3ab89b497"
      },
      "source": [
        "# Use code from our SimTools library.\n",
        "X,y = prepare_inputs_len_x_alphabet(pc_train,nc_train,ALPHABET) # shuffles\n",
        "print(\"Data ready.\")"
      ],
      "execution_count": 20,
      "outputs": [
        {
          "output_type": "stream",
          "text": [
            "Data ready.\n"
          ],
          "name": "stdout"
        }
      ]
    },
    {
      "cell_type": "code",
      "metadata": {
        "colab": {
          "base_uri": "https://localhost:8080/"
        },
        "id": "7NvrVU8ij2UU",
        "outputId": "ebfcad08-f16f-4c09-a6e7-789c74744a4b"
      },
      "source": [
        "def make_DNN():\n",
        "    print(\"make_DNN\")\n",
        "    print(\"input shape:\",INPUT_SHAPE)\n",
        "    dnn = Sequential()\n",
        "    #dnn.add(Embedding(input_dim=INPUT_SHAPE,output_dim=INPUT_SHAPE)) \n",
        "    dnn.add(Conv1D(filters=FILTERS,kernel_size=WIDTH,strides=STRIDE,padding=\"same\",\n",
        "            input_shape=INPUT_SHAPE))\n",
        "    #dnn.add(Conv1D(filters=FILTERS,kernel_size=WIDTH,strides=STRIDE,padding=\"same\"))\n",
        "    dnn.add(MaxPooling1D())\n",
        "    dnn.add(Flatten())\n",
        "    dnn.add(Dense(NEURONS,activation=\"sigmoid\",dtype=np.float32))   \n",
        "    dnn.add(Dropout(DROP_RATE))\n",
        "    dnn.add(Dense(1,activation=\"sigmoid\",dtype=np.float32))   \n",
        "    dnn.compile(optimizer='adam',\n",
        "                loss=BinaryCrossentropy(from_logits=False),\n",
        "                metrics=['accuracy'])   # add to default metrics=loss\n",
        "    dnn.build(input_shape=INPUT_SHAPE)\n",
        "    #ln_rate = tf.keras.optimizers.Adam(learning_rate = LN_RATE)\n",
        "    #bc=tf.keras.losses.BinaryCrossentropy(from_logits=False)\n",
        "    #model.compile(loss=bc, optimizer=ln_rate, metrics=[\"accuracy\"])\n",
        "    return dnn\n",
        "model = make_DNN()\n",
        "print(model.summary())"
      ],
      "execution_count": 21,
      "outputs": [
        {
          "output_type": "stream",
          "text": [
            "make_DNN\n",
            "input shape: (71, 4)\n",
            "Model: \"sequential_4\"\n",
            "_________________________________________________________________\n",
            "Layer (type)                 Output Shape              Param #   \n",
            "=================================================================\n",
            "conv1d_4 (Conv1D)            (None, 71, 8)             104       \n",
            "_________________________________________________________________\n",
            "max_pooling1d_4 (MaxPooling1 (None, 35, 8)             0         \n",
            "_________________________________________________________________\n",
            "flatten_4 (Flatten)          (None, 280)               0         \n",
            "_________________________________________________________________\n",
            "dense_8 (Dense)              (None, 8)                 2248      \n",
            "_________________________________________________________________\n",
            "dropout_4 (Dropout)          (None, 8)                 0         \n",
            "_________________________________________________________________\n",
            "dense_9 (Dense)              (None, 1)                 9         \n",
            "=================================================================\n",
            "Total params: 2,361\n",
            "Trainable params: 2,361\n",
            "Non-trainable params: 0\n",
            "_________________________________________________________________\n",
            "None\n"
          ],
          "name": "stdout"
        }
      ]
    },
    {
      "cell_type": "code",
      "metadata": {
        "id": "nlVF0hR3j2UW"
      },
      "source": [
        "from keras.callbacks import ModelCheckpoint\n",
        "def do_cross_validation(X,y):\n",
        "    cv_scores = []\n",
        "    fold=0\n",
        "    mycallbacks = [ModelCheckpoint(\n",
        "        filepath=MODELPATH, save_best_only=True, \n",
        "        monitor='val_accuracy', mode='max')]   \n",
        "    splitter = KFold(n_splits=SPLITS)  # this does not shuffle\n",
        "    for train_index,valid_index in splitter.split(X):\n",
        "        if fold < FOLDS:\n",
        "            fold += 1\n",
        "            X_train=X[train_index] # inputs for training\n",
        "            y_train=y[train_index] # labels for training\n",
        "            X_valid=X[valid_index] # inputs for validation\n",
        "            y_valid=y[valid_index] # labels for validation\n",
        "            print(\"MODEL\")\n",
        "            # Call constructor on each CV. Else, continually improves the same model.\n",
        "            model = model = make_DNN()\n",
        "            print(\"FIT\")  # model.fit() implements learning\n",
        "            start_time=time.time()\n",
        "            history=model.fit(X_train, y_train, \n",
        "                    epochs=EPOCHS, \n",
        "                    verbose=1,  # ascii art while learning\n",
        "                    callbacks=mycallbacks,   # called at end of each epoch\n",
        "                    validation_data=(X_valid,y_valid))\n",
        "            end_time=time.time()\n",
        "            elapsed_time=(end_time-start_time)                        \n",
        "            print(\"Fold %d, %d epochs, %d sec\"%(fold,EPOCHS,elapsed_time))\n",
        "            # print(history.history.keys())  # all these keys will be shown in figure\n",
        "            pd.DataFrame(history.history).plot(figsize=(8,5))\n",
        "            plt.grid(True)\n",
        "            plt.gca().set_ylim(0,1) # any losses > 1 will be off the scale\n",
        "            plt.show()\n"
      ],
      "execution_count": 22,
      "outputs": []
    },
    {
      "cell_type": "code",
      "metadata": {
        "colab": {
          "base_uri": "https://localhost:8080/",
          "height": 1000
        },
        "id": "9Ggt4EsSj2UY",
        "outputId": "62ac60d6-3859-4b19-d345-c9c0a31d4eb1"
      },
      "source": [
        "do_cross_validation(X,y)"
      ],
      "execution_count": 23,
      "outputs": [
        {
          "output_type": "stream",
          "text": [
            "MODEL\n",
            "make_DNN\n",
            "input shape: (71, 4)\n",
            "FIT\n",
            "Epoch 1/20\n",
            "100/100 [==============================] - 2s 7ms/step - loss: 0.7024 - accuracy: 0.5103 - val_loss: 0.6809 - val_accuracy: 0.5650\n",
            "INFO:tensorflow:Assets written to: BestModel/assets\n",
            "Epoch 2/20\n",
            "100/100 [==============================] - 0s 4ms/step - loss: 0.6732 - accuracy: 0.5924 - val_loss: 0.6577 - val_accuracy: 0.6712\n",
            "INFO:tensorflow:Assets written to: BestModel/assets\n",
            "Epoch 3/20\n",
            "100/100 [==============================] - 0s 4ms/step - loss: 0.6550 - accuracy: 0.6379 - val_loss: 0.6290 - val_accuracy: 0.7013\n",
            "INFO:tensorflow:Assets written to: BestModel/assets\n",
            "Epoch 4/20\n",
            "100/100 [==============================] - 0s 4ms/step - loss: 0.6235 - accuracy: 0.6805 - val_loss: 0.5990 - val_accuracy: 0.7287\n",
            "INFO:tensorflow:Assets written to: BestModel/assets\n",
            "Epoch 5/20\n",
            "100/100 [==============================] - 0s 4ms/step - loss: 0.6044 - accuracy: 0.6931 - val_loss: 0.5746 - val_accuracy: 0.7337\n",
            "INFO:tensorflow:Assets written to: BestModel/assets\n",
            "Epoch 6/20\n",
            "100/100 [==============================] - 0s 3ms/step - loss: 0.5768 - accuracy: 0.7199 - val_loss: 0.5549 - val_accuracy: 0.7375\n",
            "INFO:tensorflow:Assets written to: BestModel/assets\n",
            "Epoch 7/20\n",
            "100/100 [==============================] - 0s 4ms/step - loss: 0.5550 - accuracy: 0.7437 - val_loss: 0.5393 - val_accuracy: 0.7350\n",
            "Epoch 8/20\n",
            "100/100 [==============================] - 0s 3ms/step - loss: 0.5410 - accuracy: 0.7534 - val_loss: 0.5239 - val_accuracy: 0.7450\n",
            "INFO:tensorflow:Assets written to: BestModel/assets\n",
            "Epoch 9/20\n",
            "100/100 [==============================] - 0s 4ms/step - loss: 0.5161 - accuracy: 0.7601 - val_loss: 0.5089 - val_accuracy: 0.7588\n",
            "INFO:tensorflow:Assets written to: BestModel/assets\n",
            "Epoch 10/20\n",
            "100/100 [==============================] - 0s 3ms/step - loss: 0.5055 - accuracy: 0.7686 - val_loss: 0.4954 - val_accuracy: 0.7688\n",
            "INFO:tensorflow:Assets written to: BestModel/assets\n",
            "Epoch 11/20\n",
            "100/100 [==============================] - 0s 3ms/step - loss: 0.4812 - accuracy: 0.7868 - val_loss: 0.4826 - val_accuracy: 0.7675\n",
            "Epoch 12/20\n",
            "100/100 [==============================] - 0s 4ms/step - loss: 0.4626 - accuracy: 0.7888 - val_loss: 0.4695 - val_accuracy: 0.7725\n",
            "INFO:tensorflow:Assets written to: BestModel/assets\n",
            "Epoch 13/20\n",
            "100/100 [==============================] - 0s 4ms/step - loss: 0.4640 - accuracy: 0.7952 - val_loss: 0.4586 - val_accuracy: 0.7800\n",
            "INFO:tensorflow:Assets written to: BestModel/assets\n",
            "Epoch 14/20\n",
            "100/100 [==============================] - 0s 3ms/step - loss: 0.4480 - accuracy: 0.8091 - val_loss: 0.4497 - val_accuracy: 0.7800\n",
            "Epoch 15/20\n",
            "100/100 [==============================] - 0s 4ms/step - loss: 0.4353 - accuracy: 0.8144 - val_loss: 0.4432 - val_accuracy: 0.7900\n",
            "INFO:tensorflow:Assets written to: BestModel/assets\n",
            "Epoch 16/20\n",
            "100/100 [==============================] - 0s 4ms/step - loss: 0.4249 - accuracy: 0.8142 - val_loss: 0.4348 - val_accuracy: 0.7987\n",
            "INFO:tensorflow:Assets written to: BestModel/assets\n",
            "Epoch 17/20\n",
            "100/100 [==============================] - 0s 4ms/step - loss: 0.4152 - accuracy: 0.8211 - val_loss: 0.4283 - val_accuracy: 0.8037\n",
            "INFO:tensorflow:Assets written to: BestModel/assets\n",
            "Epoch 18/20\n",
            "100/100 [==============================] - 0s 4ms/step - loss: 0.4143 - accuracy: 0.8220 - val_loss: 0.4242 - val_accuracy: 0.8025\n",
            "Epoch 19/20\n",
            "100/100 [==============================] - 0s 3ms/step - loss: 0.3994 - accuracy: 0.8292 - val_loss: 0.4248 - val_accuracy: 0.8050\n",
            "INFO:tensorflow:Assets written to: BestModel/assets\n",
            "Epoch 20/20\n",
            "100/100 [==============================] - 0s 4ms/step - loss: 0.3912 - accuracy: 0.8314 - val_loss: 0.4133 - val_accuracy: 0.8125\n",
            "INFO:tensorflow:Assets written to: BestModel/assets\n",
            "Fold 1, 20 epochs, 41 sec\n"
          ],
          "name": "stdout"
        },
        {
          "output_type": "display_data",
          "data": {
            "image/png": "[encoded data removed]",
            "text/plain": [
              "<Figure size 576x360 with 1 Axes>"
            ]
          },
          "metadata": {
            "tags": [],
            "needs_background": "light"
          }
        },
        {
          "output_type": "stream",
          "text": [
            "MODEL\n",
            "make_DNN\n",
            "input shape: (71, 4)\n",
            "FIT\n",
            "Epoch 1/20\n",
            "100/100 [==============================] - 2s 7ms/step - loss: 0.7008 - accuracy: 0.5234 - val_loss: 0.6723 - val_accuracy: 0.6150\n",
            "Epoch 2/20\n",
            "100/100 [==============================] - 0s 3ms/step - loss: 0.6763 - accuracy: 0.5717 - val_loss: 0.6450 - val_accuracy: 0.6875\n",
            "Epoch 3/20\n",
            "100/100 [==============================] - 0s 3ms/step - loss: 0.6423 - accuracy: 0.6275 - val_loss: 0.6201 - val_accuracy: 0.6862\n",
            "Epoch 4/20\n",
            "100/100 [==============================] - 0s 3ms/step - loss: 0.6070 - accuracy: 0.6892 - val_loss: 0.5856 - val_accuracy: 0.7225\n",
            "Epoch 5/20\n",
            "100/100 [==============================] - 0s 4ms/step - loss: 0.5776 - accuracy: 0.7022 - val_loss: 0.5607 - val_accuracy: 0.7312\n",
            "Epoch 6/20\n",
            "100/100 [==============================] - 0s 4ms/step - loss: 0.5525 - accuracy: 0.7414 - val_loss: 0.5409 - val_accuracy: 0.7375\n",
            "Epoch 7/20\n",
            "100/100 [==============================] - 0s 4ms/step - loss: 0.5356 - accuracy: 0.7334 - val_loss: 0.5239 - val_accuracy: 0.7487\n",
            "Epoch 8/20\n",
            "100/100 [==============================] - 0s 4ms/step - loss: 0.4990 - accuracy: 0.7576 - val_loss: 0.5097 - val_accuracy: 0.7538\n",
            "Epoch 9/20\n",
            "100/100 [==============================] - 0s 4ms/step - loss: 0.4855 - accuracy: 0.7740 - val_loss: 0.4980 - val_accuracy: 0.7575\n",
            "Epoch 10/20\n",
            "100/100 [==============================] - 0s 3ms/step - loss: 0.4549 - accuracy: 0.7990 - val_loss: 0.4872 - val_accuracy: 0.7613\n",
            "Epoch 11/20\n",
            "100/100 [==============================] - 0s 4ms/step - loss: 0.4468 - accuracy: 0.7941 - val_loss: 0.4781 - val_accuracy: 0.7675\n",
            "Epoch 12/20\n",
            "100/100 [==============================] - 0s 3ms/step - loss: 0.4420 - accuracy: 0.7955 - val_loss: 0.4660 - val_accuracy: 0.7738\n",
            "Epoch 13/20\n",
            "100/100 [==============================] - 0s 3ms/step - loss: 0.4234 - accuracy: 0.8160 - val_loss: 0.4628 - val_accuracy: 0.7887\n",
            "Epoch 14/20\n",
            "100/100 [==============================] - 0s 4ms/step - loss: 0.3998 - accuracy: 0.8228 - val_loss: 0.4518 - val_accuracy: 0.7850\n",
            "Epoch 15/20\n",
            "100/100 [==============================] - 0s 3ms/step - loss: 0.3851 - accuracy: 0.8357 - val_loss: 0.4505 - val_accuracy: 0.7975\n",
            "Epoch 16/20\n",
            "100/100 [==============================] - 0s 3ms/step - loss: 0.3836 - accuracy: 0.8351 - val_loss: 0.4470 - val_accuracy: 0.8050\n",
            "Epoch 17/20\n",
            "100/100 [==============================] - 0s 4ms/step - loss: 0.3873 - accuracy: 0.8363 - val_loss: 0.4432 - val_accuracy: 0.8012\n",
            "Epoch 18/20\n",
            "100/100 [==============================] - 0s 4ms/step - loss: 0.3704 - accuracy: 0.8425 - val_loss: 0.4380 - val_accuracy: 0.8050\n",
            "Epoch 19/20\n",
            "100/100 [==============================] - 0s 3ms/step - loss: 0.3798 - accuracy: 0.8395 - val_loss: 0.4350 - val_accuracy: 0.8125\n",
            "Epoch 20/20\n",
            "100/100 [==============================] - 0s 4ms/step - loss: 0.3700 - accuracy: 0.8400 - val_loss: 0.4346 - val_accuracy: 0.8125\n",
            "Fold 2, 20 epochs, 8 sec\n"
          ],
          "name": "stdout"
        },
        {
          "output_type": "display_data",
          "data": {
            "image/png": "[encoded data removed]",
            "text/plain": [
              "<Figure size 576x360 with 1 Axes>"
            ]
          },
          "metadata": {
            "tags": [],
            "needs_background": "light"
          }
        }
      ]
    },
    {
      "cell_type": "code",
      "metadata": {
        "colab": {
          "base_uri": "https://localhost:8080/"
        },
        "id": "e-jG1h5fj2Ua",
        "outputId": "5c87123f-f7d6-4a15-fc4d-1751414bb37f"
      },
      "source": [
        "from keras.models import load_model\n",
        "pc_sim.set_reproducible(True)\n",
        "nc_sim.set_reproducible(True)\n",
        "pc_test = pc_sim.get_sequences(PC_TESTS)\n",
        "nc_test = nc_sim.get_sequences(NC_TESTS)\n",
        "X,y = prepare_inputs_len_x_alphabet(pc_test,nc_test,ALPHABET)\n",
        "best_model=load_model(MODELPATH)\n",
        "scores = best_model.evaluate(X, y, verbose=0)\n",
        "print(\"The best model parameters were saved during cross-validation.\")\n",
        "print(\"Best was defined as maximum validation accuracy at end of any epoch.\")\n",
        "print(\"Now re-load the best model and test it on previously unseen data.\")\n",
        "print(\"Test on\",len(pc_test),\"PC seqs\")\n",
        "print(\"Test on\",len(nc_test),\"NC seqs\")\n",
        "print(\"%s: %.2f%%\" % (best_model.metrics_names[1], scores[1]*100))\n"
      ],
      "execution_count": 24,
      "outputs": [
        {
          "output_type": "stream",
          "text": [
            "The best model parameters were saved during cross-validation.\n",
            "Best was defined as maximum validation accuracy at end of any epoch.\n",
            "Now re-load the best model and test it on previously unseen data.\n",
            "Test on 1000 PC seqs\n",
            "Test on 1000 NC seqs\n",
            "accuracy: 78.90%\n"
          ],
          "name": "stdout"
        }
      ]
    },
    {
      "cell_type": "code",
      "metadata": {
        "colab": {
          "base_uri": "https://localhost:8080/",
          "height": 312
        },
        "id": "VycUnmvUj2Ue",
        "outputId": "de241602-7400-44e2-c45f-549f23719ab1"
      },
      "source": [
        "from sklearn.metrics import roc_curve\n",
        "from sklearn.metrics import roc_auc_score\n",
        "ns_probs = [0 for _ in range(len(y))]\n",
        "bm_probs = best_model.predict(X)\n",
        "ns_auc = roc_auc_score(y, ns_probs)\n",
        "bm_auc = roc_auc_score(y, bm_probs)\n",
        "ns_fpr, ns_tpr, _ = roc_curve(y, ns_probs)\n",
        "bm_fpr, bm_tpr, _ = roc_curve(y, bm_probs)\n",
        "plt.plot(ns_fpr, ns_tpr, linestyle='--', label='Guess, auc=%.4f'%ns_auc)\n",
        "plt.plot(bm_fpr, bm_tpr, marker='.', label='Model, auc=%.4f'%bm_auc)\n",
        "plt.title('ROC')\n",
        "plt.xlabel('False Positive Rate')\n",
        "plt.ylabel('True Positive Rate')\n",
        "plt.legend()\n",
        "plt.show()\n",
        "print(\"%s: %.2f%%\" %('AUC',bm_auc*100.0))\n"
      ],
      "execution_count": 25,
      "outputs": [
        {
          "output_type": "display_data",
          "data": {
            "image/png": "[encoded data removed]",
            "text/plain": [
              "<Figure size 432x288 with 1 Axes>"
            ]
          },
          "metadata": {
            "tags": [],
            "needs_background": "light"
          }
        },
        {
          "output_type": "stream",
          "text": [
            "AUC: 87.42%\n"
          ],
          "name": "stdout"
        }
      ]
    },
    {
      "cell_type": "code",
      "metadata": {
        "colab": {
          "base_uri": "https://localhost:8080/",
          "height": 36
        },
        "id": "kFMb6rGNj2Ug",
        "outputId": "43777e9e-da96-4123-fbde-8a942f8e6753"
      },
      "source": [
        "t = time.time()\n",
        "time.strftime('%Y-%m-%d %H:%M:%S %Z', time.localtime(t))"
      ],
      "execution_count": 26,
      "outputs": [
        {
          "output_type": "execute_result",
          "data": {
            "application/vnd.google.colaboratory.intrinsic+json": {
              "type": "string"
            },
            "text/plain": [
              "'2021-06-10 19:35:01 UTC'"
            ]
          },
          "metadata": {
            "tags": []
          },
          "execution_count": 26
        }
      ]
    },
    {
      "cell_type": "markdown",
      "metadata": {
        "id": "zK1jpbgWZT5S"
      },
      "source": [
        "## Conclusion\n",
        "The CNN is very capable of learning ORF/nonORF from simulated short RNA."
      ]
    },
    {
      "cell_type": "code",
      "metadata": {
        "id": "1uBPK1uGZT5U"
      },
      "source": [
        ""
      ],
      "execution_count": 26,
      "outputs": []
    }
  ]
}