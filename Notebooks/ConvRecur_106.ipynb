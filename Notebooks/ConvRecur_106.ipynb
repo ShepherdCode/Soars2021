{
 "cells": [
  {
   "cell_type": "markdown",
   "metadata": {
    "id": "0asdcdunj2Tx"
   },
   "source": [
    "# ORF recognition by Convolutional/Recurrent\n",
    "\n",
    "Test CNN+LSTM 32 on simulated RNA of length 64. \n",
    "\n",
    "Use restructured codebase from notebook 105."
   ]
  },
  {
   "cell_type": "code",
   "execution_count": 1,
   "metadata": {
    "colab": {
     "base_uri": "https://localhost:8080/",
     "height": 36
    },
    "id": "QP1VTRNQj2UO",
    "outputId": "5b576bb0-d43f-46ab-a2bb-b3386eff92d1"
   },
   "outputs": [
    {
     "data": {
      "application/vnd.google.colaboratory.intrinsic+json": {
       "type": "string"
      },
      "text/plain": [
       "'2021-06-21 14:29:32 UTC'"
      ]
     },
     "execution_count": 1,
     "metadata": {
      "tags": []
     },
     "output_type": "execute_result"
    }
   ],
   "source": [
    "import time \n",
    "t = time.time()\n",
    "time.strftime('%Y-%m-%d %H:%M:%S %Z', time.localtime(t))"
   ]
  },
  {
   "cell_type": "code",
   "execution_count": 2,
   "metadata": {
    "id": "Nhz4GKonj2T_"
   },
   "outputs": [],
   "source": [
    "PC_SEQUENCES=32000   # how many protein-coding sequences\n",
    "NC_SEQUENCES=32000   # how many non-coding sequences\n",
    "PC_TESTS=1000\n",
    "NC_TESTS=1000\n",
    "RNA_LEN=64            # how long is each sequence\n",
    "CDS_LEN=32            # min CDS len to be coding\n",
    "ALPHABET=4          # how many different letters are possible\n",
    "INPUT_SHAPE_2D = (RNA_LEN,ALPHABET,1) # Conv2D needs 3D inputs\n",
    "INPUT_SHAPE = (RNA_LEN,ALPHABET) # Conv1D needs 2D inputs\n",
    "FILTERS = 32   # how many different patterns the model looks for\n",
    "CELLS = 32\n",
    "NEURONS = 32\n",
    "DROP_RATE = 0.4\n",
    "WIDTH = 3   # how wide each pattern is, in bases\n",
    "STRIDE_2D = (1,1)  # For Conv2D how far in each direction\n",
    "STRIDE = 1 # For Conv1D, how far between pattern matches, in bases\n",
    "EPOCHS=100  # how many times to train on all the data\n",
    "SPLITS=3  # SPLITS=3 means train on 2/3 and validate on 1/3 \n",
    "FOLDS=3  # train the model this many times (range 1 to SPLITS)"
   ]
  },
  {
   "cell_type": "code",
   "execution_count": 3,
   "metadata": {
    "colab": {
     "base_uri": "https://localhost:8080/"
    },
    "id": "lr7q90rxj2UE",
    "outputId": "7f9e1b30-0d2c-4a18-daf3-1c91cf9e47bf"
   },
   "outputs": [
    {
     "name": "stdout",
     "output_type": "stream",
     "text": [
      "On Google CoLab, mount cloud-local file, get our code from GitHub.\n"
     ]
    }
   ],
   "source": [
    "import sys\n",
    "IN_COLAB = False\n",
    "try:\n",
    "    from google.colab import drive\n",
    "    IN_COLAB = True\n",
    "except:\n",
    "    pass\n",
    "if IN_COLAB:\n",
    "    print(\"On Google CoLab, mount cloud-local file, get our code from GitHub.\")\n",
    "    PATH='/content/drive/'\n",
    "    #drive.mount(PATH,force_remount=True)  # hardly ever need this\n",
    "    #drive.mount(PATH)    # Google will require login credentials\n",
    "    DATAPATH=PATH+'My Drive/data/'  # must end in \"/\"\n",
    "    import requests\n",
    "    r = requests.get('https://raw.githubusercontent.com/ShepherdCode/Soars2021/master/SimTools/RNA_describe.py')\n",
    "    with open('RNA_describe.py', 'w') as f:\n",
    "        f.write(r.text)  \n",
    "    from RNA_describe import ORF_counter\n",
    "    from RNA_describe import Random_Base_Oracle\n",
    "    r = requests.get('https://raw.githubusercontent.com/ShepherdCode/Soars2021/master/SimTools/RNA_prep.py')\n",
    "    with open('RNA_prep.py', 'w') as f:\n",
    "        f.write(r.text)  \n",
    "    from RNA_prep import prepare_inputs_len_x_alphabet\n",
    "else:\n",
    "        print(\"CoLab not working. On my PC, use relative paths.\")\n",
    "        DATAPATH='data/'  # must end in \"/\"\n",
    "        sys.path.append(\"..\") # append parent dir in order to use sibling dirs\n",
    "        from SimTools.RNA_describe import ORF_counter,Random_Base_Oracle\n",
    "        from SimTools.RNA_prep import prepare_inputs_len_x_alphabet\n",
    "\n",
    "MODELPATH=\"BestModel\"  # saved on cloud instance and lost after logout\n",
    "#MODELPATH=DATAPATH+MODELPATH  # saved on Google Drive but requires login\n"
   ]
  },
  {
   "cell_type": "code",
   "execution_count": 4,
   "metadata": {
    "id": "EGDXH8Uwj2UM"
   },
   "outputs": [],
   "source": [
    "from os import listdir\n",
    "import csv\n",
    "from zipfile import ZipFile\n",
    "\n",
    "import numpy as np\n",
    "import pandas as pd\n",
    "from scipy import stats  # mode\n",
    "\n",
    "from sklearn.preprocessing import StandardScaler\n",
    "from sklearn.model_selection import KFold\n",
    "from sklearn.model_selection import cross_val_score\n",
    "\n",
    "from keras.models import Sequential\n",
    "from keras.layers import Dense,Embedding,Dropout\n",
    "from keras.layers import Conv1D,Conv2D\n",
    "from keras.layers import GRU,LSTM\n",
    "from keras.layers import Flatten,TimeDistributed\n",
    "from keras.layers import MaxPooling1D,MaxPooling2D\n",
    "from keras.losses import BinaryCrossentropy\n",
    "# tf.keras.losses.BinaryCrossentropy\n",
    "\n",
    "import matplotlib.pyplot as plt\n",
    "from matplotlib import colors\n",
    "mycmap = colors.ListedColormap(['red','blue'])  # list color for label 0 then 1\n",
    "np.set_printoptions(precision=2)\n"
   ]
  },
  {
   "cell_type": "code",
   "execution_count": 5,
   "metadata": {
    "colab": {
     "base_uri": "https://localhost:8080/"
    },
    "id": "CUOG_jEvGtOm",
    "outputId": "ab937e64-e1c6-4f6d-eeff-1045f60ee82d"
   },
   "outputs": [
    {
     "name": "stdout",
     "output_type": "stream",
     "text": [
      "It took 33 trials to reach 10 per class.\n",
      "It took 103346 trials to reach 33000 per class.\n",
      "Use 33000 PC seqs\n",
      "Use 33000 NC seqs\n"
     ]
    }
   ],
   "source": [
    "rbo=Random_Base_Oracle(RNA_LEN,True)\n",
    "pc_all,nc_all = rbo.get_partitioned_sequences(CDS_LEN,10) # just testing\n",
    "pc_all,nc_all = rbo.get_partitioned_sequences(CDS_LEN,PC_SEQUENCES+PC_TESTS)\n",
    "print(\"Use\",len(pc_all),\"PC seqs\")\n",
    "print(\"Use\",len(nc_all),\"NC seqs\")"
   ]
  },
  {
   "cell_type": "code",
   "execution_count": 6,
   "metadata": {
    "colab": {
     "base_uri": "https://localhost:8080/"
    },
    "id": "Q-BmSXi2jUyl",
    "outputId": "5344b4b3-bfe8-4286-8732-b9f4c921d259"
   },
   "outputs": [
    {
     "name": "stdout",
     "output_type": "stream",
     "text": [
      "Simulated sequences prior to adjustment:\n",
      "PC seqs\n",
      "Average RNA length: 64.0\n",
      "Average ORF length: 38.39154545454546\n",
      "NC seqs\n",
      "Average RNA length: 64.0\n",
      "Average ORF length: 8.377272727272727\n"
     ]
    }
   ],
   "source": [
    "# Describe the sequences\n",
    "def describe_sequences(list_of_seq):\n",
    "    oc = ORF_counter()\n",
    "    num_seq = len(list_of_seq)\n",
    "    rna_lens = np.zeros(num_seq)\n",
    "    orf_lens = np.zeros(num_seq)\n",
    "    for i in range(0,num_seq):\n",
    "        rna_len = len(list_of_seq[i])\n",
    "        rna_lens[i] = rna_len\n",
    "        oc.set_sequence(list_of_seq[i])\n",
    "        orf_len = oc.get_max_orf_len()\n",
    "        orf_lens[i] = orf_len\n",
    "    print (\"Average RNA length:\",rna_lens.mean())\n",
    "    print (\"Average ORF length:\",orf_lens.mean())\n",
    "    \n",
    "print(\"Simulated sequences prior to adjustment:\")\n",
    "print(\"PC seqs\")\n",
    "describe_sequences(pc_all)\n",
    "print(\"NC seqs\")\n",
    "describe_sequences(nc_all)"
   ]
  },
  {
   "cell_type": "code",
   "execution_count": 7,
   "metadata": {
    "id": "iP1y7-J3jUys"
   },
   "outputs": [],
   "source": [
    "pc_train=pc_all[:PC_SEQUENCES]\n",
    "nc_train=nc_all[:NC_SEQUENCES]\n",
    "pc_test=pc_all[PC_SEQUENCES:]\n",
    "nc_test=nc_all[NC_SEQUENCES:]"
   ]
  },
  {
   "cell_type": "code",
   "execution_count": 8,
   "metadata": {
    "colab": {
     "base_uri": "https://localhost:8080/"
    },
    "id": "CIpTrnH6j2US",
    "outputId": "9c1c49ea-484b-48a4-9c64-2ad66c2a9e39"
   },
   "outputs": [
    {
     "name": "stdout",
     "output_type": "stream",
     "text": [
      "Data ready.\n"
     ]
    }
   ],
   "source": [
    "# Use code from our SimTools library.\n",
    "X,y = prepare_inputs_len_x_alphabet(pc_train,nc_train,ALPHABET) # shuffles\n",
    "print(\"Data ready.\")"
   ]
  },
  {
   "cell_type": "code",
   "execution_count": 9,
   "metadata": {
    "colab": {
     "base_uri": "https://localhost:8080/"
    },
    "id": "7NvrVU8ij2UU",
    "outputId": "af953c1a-aee8-47e1-c810-fa7dc38fdd70"
   },
   "outputs": [
    {
     "name": "stdout",
     "output_type": "stream",
     "text": [
      "make_DNN\n",
      "input shape: (64, 4)\n",
      "Model: \"sequential\"\n",
      "_________________________________________________________________\n",
      "Layer (type)                 Output Shape              Param #   \n",
      "=================================================================\n",
      "conv1d (Conv1D)              (None, 64, 32)            416       \n",
      "_________________________________________________________________\n",
      "conv1d_1 (Conv1D)            (None, 64, 32)            3104      \n",
      "_________________________________________________________________\n",
      "max_pooling1d (MaxPooling1D) (None, 32, 32)            0         \n",
      "_________________________________________________________________\n",
      "lstm (LSTM)                  (None, 32, 32)            8320      \n",
      "_________________________________________________________________\n",
      "lstm_1 (LSTM)                (None, 32)                8320      \n",
      "_________________________________________________________________\n",
      "dense (Dense)                (None, 32)                1056      \n",
      "_________________________________________________________________\n",
      "dropout (Dropout)            (None, 32)                0         \n",
      "_________________________________________________________________\n",
      "dense_1 (Dense)              (None, 1)                 33        \n",
      "=================================================================\n",
      "Total params: 21,249\n",
      "Trainable params: 21,249\n",
      "Non-trainable params: 0\n",
      "_________________________________________________________________\n",
      "None\n"
     ]
    }
   ],
   "source": [
    "def make_DNN():\n",
    "    print(\"make_DNN\")\n",
    "    print(\"input shape:\",INPUT_SHAPE)\n",
    "    dnn = Sequential()\n",
    "    #dnn.add(Embedding(input_dim=INPUT_SHAPE,output_dim=INPUT_SHAPE)) \n",
    "    dnn.add(Conv1D(filters=FILTERS,kernel_size=WIDTH,strides=STRIDE,padding=\"same\",\n",
    "            input_shape=INPUT_SHAPE))\n",
    "    dnn.add(Conv1D(filters=FILTERS,kernel_size=WIDTH,strides=STRIDE,padding=\"same\"))\n",
    "    dnn.add(MaxPooling1D())\n",
    "    #dnn.add(Conv1D(filters=FILTERS,kernel_size=WIDTH,strides=STRIDE,padding=\"same\"))\n",
    "    #dnn.add(Conv1D(filters=FILTERS,kernel_size=WIDTH,strides=STRIDE,padding=\"same\"))\n",
    "    #dnn.add(MaxPooling1D())\n",
    "    #dnn.add(TimeDistributed(Flatten()))\n",
    "    dnn.add(LSTM(CELLS,return_sequences=True))\n",
    "    dnn.add(LSTM(CELLS,return_sequences=False))\n",
    "    dnn.add(Dense(NEURONS,activation=\"sigmoid\",dtype=np.float32))   \n",
    "    dnn.add(Dropout(DROP_RATE))\n",
    "    dnn.add(Dense(1,activation=\"sigmoid\",dtype=np.float32))   \n",
    "    dnn.compile(optimizer='adam',\n",
    "                loss=BinaryCrossentropy(from_logits=False),\n",
    "                metrics=['accuracy'])   # add to default metrics=loss\n",
    "    dnn.build(input_shape=INPUT_SHAPE)\n",
    "    #ln_rate = tf.keras.optimizers.Adam(learning_rate = LN_RATE)\n",
    "    #bc=tf.keras.losses.BinaryCrossentropy(from_logits=False)\n",
    "    #model.compile(loss=bc, optimizer=ln_rate, metrics=[\"accuracy\"])\n",
    "    return dnn\n",
    "model = make_DNN()\n",
    "print(model.summary())"
   ]
  },
  {
   "cell_type": "code",
   "execution_count": 10,
   "metadata": {
    "id": "nlVF0hR3j2UW"
   },
   "outputs": [],
   "source": [
    "from keras.callbacks import ModelCheckpoint\n",
    "def do_cross_validation(X,y):\n",
    "    cv_scores = []\n",
    "    fold=0\n",
    "    mycallbacks = [ModelCheckpoint(\n",
    "        filepath=MODELPATH, save_best_only=True, \n",
    "        monitor='val_accuracy', mode='max')]   \n",
    "    splitter = KFold(n_splits=SPLITS)  # this does not shuffle\n",
    "    for train_index,valid_index in splitter.split(X):\n",
    "        if fold < FOLDS:\n",
    "            fold += 1\n",
    "            X_train=X[train_index] # inputs for training\n",
    "            y_train=y[train_index] # labels for training\n",
    "            X_valid=X[valid_index] # inputs for validation\n",
    "            y_valid=y[valid_index] # labels for validation\n",
    "            print(\"MODEL\")\n",
    "            # Call constructor on each CV. Else, continually improves the same model.\n",
    "            model = model = make_DNN()\n",
    "            print(\"FIT\")  # model.fit() implements learning\n",
    "            start_time=time.time()\n",
    "            history=model.fit(X_train, y_train, \n",
    "                    epochs=EPOCHS, \n",
    "                    verbose=1,  # ascii art while learning\n",
    "                    callbacks=mycallbacks,   # called at end of each epoch\n",
    "                    validation_data=(X_valid,y_valid))\n",
    "            end_time=time.time()\n",
    "            elapsed_time=(end_time-start_time)                        \n",
    "            print(\"Fold %d, %d epochs, %d sec\"%(fold,EPOCHS,elapsed_time))\n",
    "            # print(history.history.keys())  # all these keys will be shown in figure\n",
    "            pd.DataFrame(history.history).plot(figsize=(8,5))\n",
    "            plt.grid(True)\n",
    "            plt.gca().set_ylim(0,1) # any losses > 1 will be off the scale\n",
    "            plt.show()\n"
   ]
  },
  {
   "cell_type": "code",
   "execution_count": 11,
   "metadata": {
    "colab": {
     "base_uri": "https://localhost:8080/",
     "height": 1000
    },
    "id": "9Ggt4EsSj2UY",
    "outputId": "23dd4985-033f-4f0c-f109-f5dcb55bf303"
   },
   "outputs": [
    {
     "name": "stdout",
     "output_type": "stream",
     "text": [
      "MODEL\n",
      "make_DNN\n",
      "input shape: (64, 4)\n",
      "FIT\n",
      "Epoch 1/100\n",
      "1334/1334 [==============================] - 53s 12ms/step - loss: 0.6973 - accuracy: 0.5362 - val_loss: 0.6178 - val_accuracy: 0.6478\n"
     ]
    },
    {
     "name": "stderr",
     "output_type": "stream",
     "text": [
      "WARNING:absl:Found untraced functions such as lstm_cell_2_layer_call_and_return_conditional_losses, lstm_cell_2_layer_call_fn, lstm_cell_3_layer_call_and_return_conditional_losses, lstm_cell_3_layer_call_fn, lstm_cell_2_layer_call_fn while saving (showing 5 of 10). These functions will not be directly callable after loading.\n"
     ]
    },
    {
     "name": "stdout",
     "output_type": "stream",
     "text": [
      "INFO:tensorflow:Assets written to: BestModel/assets\n"
     ]
    },
    {
     "name": "stderr",
     "output_type": "stream",
     "text": [
      "INFO:tensorflow:Assets written to: BestModel/assets\n"
     ]
    },
    {
     "name": "stdout",
     "output_type": "stream",
     "text": [
      "Epoch 2/100\n",
      "1334/1334 [==============================] - 14s 11ms/step - loss: 0.6231 - accuracy: 0.6492 - val_loss: 0.5790 - val_accuracy: 0.6794\n"
     ]
    },
    {
     "name": "stderr",
     "output_type": "stream",
     "text": [
      "WARNING:absl:Found untraced functions such as lstm_cell_2_layer_call_and_return_conditional_losses, lstm_cell_2_layer_call_fn, lstm_cell_3_layer_call_and_return_conditional_losses, lstm_cell_3_layer_call_fn, lstm_cell_2_layer_call_fn while saving (showing 5 of 10). These functions will not be directly callable after loading.\n"
     ]
    },
    {
     "name": "stdout",
     "output_type": "stream",
     "text": [
      "INFO:tensorflow:Assets written to: BestModel/assets\n"
     ]
    },
    {
     "name": "stderr",
     "output_type": "stream",
     "text": [
      "INFO:tensorflow:Assets written to: BestModel/assets\n"
     ]
    },
    {
     "name": "stdout",
     "output_type": "stream",
     "text": [
      "Epoch 3/100\n",
      "1334/1334 [==============================] - 17s 13ms/step - loss: 0.5774 - accuracy: 0.6821 - val_loss: 0.5598 - val_accuracy: 0.6914\n"
     ]
    },
    {
     "name": "stderr",
     "output_type": "stream",
     "text": [
      "WARNING:absl:Found untraced functions such as lstm_cell_2_layer_call_and_return_conditional_losses, lstm_cell_2_layer_call_fn, lstm_cell_3_layer_call_and_return_conditional_losses, lstm_cell_3_layer_call_fn, lstm_cell_2_layer_call_fn while saving (showing 5 of 10). These functions will not be directly callable after loading.\n"
     ]
    },
    {
     "name": "stdout",
     "output_type": "stream",
     "text": [
      "INFO:tensorflow:Assets written to: BestModel/assets\n"
     ]
    },
    {
     "name": "stderr",
     "output_type": "stream",
     "text": [
      "INFO:tensorflow:Assets written to: BestModel/assets\n"
     ]
    },
    {
     "name": "stdout",
     "output_type": "stream",
     "text": [
      "Epoch 4/100\n",
      "1334/1334 [==============================] - 14s 11ms/step - loss: 0.5655 - accuracy: 0.6937 - val_loss: 0.5675 - val_accuracy: 0.6864\n",
      "Epoch 5/100\n",
      "1334/1334 [==============================] - 17s 13ms/step - loss: 0.5584 - accuracy: 0.6987 - val_loss: 0.5463 - val_accuracy: 0.7031\n"
     ]
    },
    {
     "name": "stderr",
     "output_type": "stream",
     "text": [
      "WARNING:absl:Found untraced functions such as lstm_cell_2_layer_call_and_return_conditional_losses, lstm_cell_2_layer_call_fn, lstm_cell_3_layer_call_and_return_conditional_losses, lstm_cell_3_layer_call_fn, lstm_cell_2_layer_call_fn while saving (showing 5 of 10). These functions will not be directly callable after loading.\n"
     ]
    },
    {
     "name": "stdout",
     "output_type": "stream",
     "text": [
      "INFO:tensorflow:Assets written to: BestModel/assets\n"
     ]
    },
    {
     "name": "stderr",
     "output_type": "stream",
     "text": [
      "INFO:tensorflow:Assets written to: BestModel/assets\n"
     ]
    },
    {
     "name": "stdout",
     "output_type": "stream",
     "text": [
      "Epoch 6/100\n",
      "1334/1334 [==============================] - 14s 11ms/step - loss: 0.5471 - accuracy: 0.7070 - val_loss: 0.5448 - val_accuracy: 0.7065\n"
     ]
    },
    {
     "name": "stderr",
     "output_type": "stream",
     "text": [
      "WARNING:absl:Found untraced functions such as lstm_cell_2_layer_call_and_return_conditional_losses, lstm_cell_2_layer_call_fn, lstm_cell_3_layer_call_and_return_conditional_losses, lstm_cell_3_layer_call_fn, lstm_cell_2_layer_call_fn while saving (showing 5 of 10). These functions will not be directly callable after loading.\n"
     ]
    },
    {
     "name": "stdout",
     "output_type": "stream",
     "text": [
      "INFO:tensorflow:Assets written to: BestModel/assets\n"
     ]
    },
    {
     "name": "stderr",
     "output_type": "stream",
     "text": [
      "INFO:tensorflow:Assets written to: BestModel/assets\n"
     ]
    },
    {
     "name": "stdout",
     "output_type": "stream",
     "text": [
      "Epoch 7/100\n",
      "1334/1334 [==============================] - 15s 11ms/step - loss: 0.5388 - accuracy: 0.7092 - val_loss: 0.5408 - val_accuracy: 0.7077\n"
     ]
    },
    {
     "name": "stderr",
     "output_type": "stream",
     "text": [
      "WARNING:absl:Found untraced functions such as lstm_cell_2_layer_call_and_return_conditional_losses, lstm_cell_2_layer_call_fn, lstm_cell_3_layer_call_and_return_conditional_losses, lstm_cell_3_layer_call_fn, lstm_cell_2_layer_call_fn while saving (showing 5 of 10). These functions will not be directly callable after loading.\n"
     ]
    },
    {
     "name": "stdout",
     "output_type": "stream",
     "text": [
      "INFO:tensorflow:Assets written to: BestModel/assets\n"
     ]
    },
    {
     "name": "stderr",
     "output_type": "stream",
     "text": [
      "INFO:tensorflow:Assets written to: BestModel/assets\n"
     ]
    },
    {
     "name": "stdout",
     "output_type": "stream",
     "text": [
      "Epoch 8/100\n",
      "1334/1334 [==============================] - 14s 11ms/step - loss: 0.5337 - accuracy: 0.7140 - val_loss: 0.5380 - val_accuracy: 0.7106\n"
     ]
    },
    {
     "name": "stderr",
     "output_type": "stream",
     "text": [
      "WARNING:absl:Found untraced functions such as lstm_cell_2_layer_call_and_return_conditional_losses, lstm_cell_2_layer_call_fn, lstm_cell_3_layer_call_and_return_conditional_losses, lstm_cell_3_layer_call_fn, lstm_cell_2_layer_call_fn while saving (showing 5 of 10). These functions will not be directly callable after loading.\n"
     ]
    },
    {
     "name": "stdout",
     "output_type": "stream",
     "text": [
      "INFO:tensorflow:Assets written to: BestModel/assets\n"
     ]
    },
    {
     "name": "stderr",
     "output_type": "stream",
     "text": [
      "INFO:tensorflow:Assets written to: BestModel/assets\n"
     ]
    },
    {
     "name": "stdout",
     "output_type": "stream",
     "text": [
      "Epoch 9/100\n",
      "1334/1334 [==============================] - 17s 13ms/step - loss: 0.5301 - accuracy: 0.7181 - val_loss: 0.5322 - val_accuracy: 0.7101\n",
      "Epoch 10/100\n",
      "1334/1334 [==============================] - 17s 13ms/step - loss: 0.5356 - accuracy: 0.7138 - val_loss: 0.5341 - val_accuracy: 0.7113\n"
     ]
    },
    {
     "name": "stderr",
     "output_type": "stream",
     "text": [
      "WARNING:absl:Found untraced functions such as lstm_cell_2_layer_call_and_return_conditional_losses, lstm_cell_2_layer_call_fn, lstm_cell_3_layer_call_and_return_conditional_losses, lstm_cell_3_layer_call_fn, lstm_cell_2_layer_call_fn while saving (showing 5 of 10). These functions will not be directly callable after loading.\n"
     ]
    },
    {
     "name": "stdout",
     "output_type": "stream",
     "text": [
      "INFO:tensorflow:Assets written to: BestModel/assets\n"
     ]
    },
    {
     "name": "stderr",
     "output_type": "stream",
     "text": [
      "INFO:tensorflow:Assets written to: BestModel/assets\n"
     ]
    },
    {
     "name": "stdout",
     "output_type": "stream",
     "text": [
      "Epoch 11/100\n",
      "1334/1334 [==============================] - 14s 11ms/step - loss: 0.5226 - accuracy: 0.7195 - val_loss: 0.5310 - val_accuracy: 0.7125\n"
     ]
    },
    {
     "name": "stderr",
     "output_type": "stream",
     "text": [
      "WARNING:absl:Found untraced functions such as lstm_cell_2_layer_call_and_return_conditional_losses, lstm_cell_2_layer_call_fn, lstm_cell_3_layer_call_and_return_conditional_losses, lstm_cell_3_layer_call_fn, lstm_cell_2_layer_call_fn while saving (showing 5 of 10). These functions will not be directly callable after loading.\n"
     ]
    },
    {
     "name": "stdout",
     "output_type": "stream",
     "text": [
      "INFO:tensorflow:Assets written to: BestModel/assets\n"
     ]
    },
    {
     "name": "stderr",
     "output_type": "stream",
     "text": [
      "INFO:tensorflow:Assets written to: BestModel/assets\n"
     ]
    },
    {
     "name": "stdout",
     "output_type": "stream",
     "text": [
      "Epoch 12/100\n",
      "1334/1334 [==============================] - 15s 11ms/step - loss: 0.5175 - accuracy: 0.7267 - val_loss: 0.5309 - val_accuracy: 0.7125\n",
      "Epoch 13/100\n",
      "1334/1334 [==============================] - 15s 11ms/step - loss: 0.5147 - accuracy: 0.7232 - val_loss: 0.5298 - val_accuracy: 0.7121\n",
      "Epoch 14/100\n",
      "1334/1334 [==============================] - 15s 11ms/step - loss: 0.5139 - accuracy: 0.7278 - val_loss: 0.5401 - val_accuracy: 0.7049\n",
      "Epoch 15/100\n",
      "1334/1334 [==============================] - 14s 11ms/step - loss: 0.5065 - accuracy: 0.7326 - val_loss: 0.6213 - val_accuracy: 0.6818\n",
      "Epoch 16/100\n",
      "1334/1334 [==============================] - 14s 11ms/step - loss: 0.5208 - accuracy: 0.7228 - val_loss: 0.5278 - val_accuracy: 0.7135\n"
     ]
    },
    {
     "name": "stderr",
     "output_type": "stream",
     "text": [
      "WARNING:absl:Found untraced functions such as lstm_cell_2_layer_call_and_return_conditional_losses, lstm_cell_2_layer_call_fn, lstm_cell_3_layer_call_and_return_conditional_losses, lstm_cell_3_layer_call_fn, lstm_cell_2_layer_call_fn while saving (showing 5 of 10). These functions will not be directly callable after loading.\n"
     ]
    },
    {
     "name": "stdout",
     "output_type": "stream",
     "text": [
      "INFO:tensorflow:Assets written to: BestModel/assets\n"
     ]
    },
    {
     "name": "stderr",
     "output_type": "stream",
     "text": [
      "INFO:tensorflow:Assets written to: BestModel/assets\n"
     ]
    },
    {
     "name": "stdout",
     "output_type": "stream",
     "text": [
      "Epoch 17/100\n",
      "1334/1334 [==============================] - 14s 11ms/step - loss: 0.4995 - accuracy: 0.7382 - val_loss: 0.5367 - val_accuracy: 0.7142\n"
     ]
    },
    {
     "name": "stderr",
     "output_type": "stream",
     "text": [
      "WARNING:absl:Found untraced functions such as lstm_cell_2_layer_call_and_return_conditional_losses, lstm_cell_2_layer_call_fn, lstm_cell_3_layer_call_and_return_conditional_losses, lstm_cell_3_layer_call_fn, lstm_cell_2_layer_call_fn while saving (showing 5 of 10). These functions will not be directly callable after loading.\n"
     ]
    },
    {
     "name": "stdout",
     "output_type": "stream",
     "text": [
      "INFO:tensorflow:Assets written to: BestModel/assets\n"
     ]
    },
    {
     "name": "stderr",
     "output_type": "stream",
     "text": [
      "INFO:tensorflow:Assets written to: BestModel/assets\n"
     ]
    },
    {
     "name": "stdout",
     "output_type": "stream",
     "text": [
      "Epoch 18/100\n",
      "1334/1334 [==============================] - 14s 11ms/step - loss: 0.4953 - accuracy: 0.7364 - val_loss: 0.5292 - val_accuracy: 0.7159\n"
     ]
    },
    {
     "name": "stderr",
     "output_type": "stream",
     "text": [
      "WARNING:absl:Found untraced functions such as lstm_cell_2_layer_call_and_return_conditional_losses, lstm_cell_2_layer_call_fn, lstm_cell_3_layer_call_and_return_conditional_losses, lstm_cell_3_layer_call_fn, lstm_cell_2_layer_call_fn while saving (showing 5 of 10). These functions will not be directly callable after loading.\n"
     ]
    },
    {
     "name": "stdout",
     "output_type": "stream",
     "text": [
      "INFO:tensorflow:Assets written to: BestModel/assets\n"
     ]
    },
    {
     "name": "stderr",
     "output_type": "stream",
     "text": [
      "INFO:tensorflow:Assets written to: BestModel/assets\n"
     ]
    },
    {
     "name": "stdout",
     "output_type": "stream",
     "text": [
      "Epoch 19/100\n",
      "1334/1334 [==============================] - 14s 11ms/step - loss: 0.4933 - accuracy: 0.7427 - val_loss: 0.5261 - val_accuracy: 0.7184\n"
     ]
    },
    {
     "name": "stderr",
     "output_type": "stream",
     "text": [
      "WARNING:absl:Found untraced functions such as lstm_cell_2_layer_call_and_return_conditional_losses, lstm_cell_2_layer_call_fn, lstm_cell_3_layer_call_and_return_conditional_losses, lstm_cell_3_layer_call_fn, lstm_cell_2_layer_call_fn while saving (showing 5 of 10). These functions will not be directly callable after loading.\n"
     ]
    },
    {
     "name": "stdout",
     "output_type": "stream",
     "text": [
      "INFO:tensorflow:Assets written to: BestModel/assets\n"
     ]
    },
    {
     "name": "stderr",
     "output_type": "stream",
     "text": [
      "INFO:tensorflow:Assets written to: BestModel/assets\n"
     ]
    },
    {
     "name": "stdout",
     "output_type": "stream",
     "text": [
      "Epoch 20/100\n",
      "1334/1334 [==============================] - 15s 11ms/step - loss: 0.4908 - accuracy: 0.7450 - val_loss: 0.5225 - val_accuracy: 0.7266\n"
     ]
    },
    {
     "name": "stderr",
     "output_type": "stream",
     "text": [
      "WARNING:absl:Found untraced functions such as lstm_cell_2_layer_call_and_return_conditional_losses, lstm_cell_2_layer_call_fn, lstm_cell_3_layer_call_and_return_conditional_losses, lstm_cell_3_layer_call_fn, lstm_cell_2_layer_call_fn while saving (showing 5 of 10). These functions will not be directly callable after loading.\n"
     ]
    },
    {
     "name": "stdout",
     "output_type": "stream",
     "text": [
      "INFO:tensorflow:Assets written to: BestModel/assets\n"
     ]
    },
    {
     "name": "stderr",
     "output_type": "stream",
     "text": [
      "INFO:tensorflow:Assets written to: BestModel/assets\n"
     ]
    },
    {
     "name": "stdout",
     "output_type": "stream",
     "text": [
      "Epoch 21/100\n",
      "1334/1334 [==============================] - 14s 11ms/step - loss: 0.4796 - accuracy: 0.7519 - val_loss: 0.5802 - val_accuracy: 0.6883\n",
      "Epoch 22/100\n",
      "1334/1334 [==============================] - 15s 11ms/step - loss: 0.5120 - accuracy: 0.7327 - val_loss: 0.5146 - val_accuracy: 0.7322\n"
     ]
    },
    {
     "name": "stderr",
     "output_type": "stream",
     "text": [
      "WARNING:absl:Found untraced functions such as lstm_cell_2_layer_call_and_return_conditional_losses, lstm_cell_2_layer_call_fn, lstm_cell_3_layer_call_and_return_conditional_losses, lstm_cell_3_layer_call_fn, lstm_cell_2_layer_call_fn while saving (showing 5 of 10). These functions will not be directly callable after loading.\n"
     ]
    },
    {
     "name": "stdout",
     "output_type": "stream",
     "text": [
      "INFO:tensorflow:Assets written to: BestModel/assets\n"
     ]
    },
    {
     "name": "stderr",
     "output_type": "stream",
     "text": [
      "INFO:tensorflow:Assets written to: BestModel/assets\n"
     ]
    },
    {
     "name": "stdout",
     "output_type": "stream",
     "text": [
      "Epoch 23/100\n",
      "1334/1334 [==============================] - 14s 11ms/step - loss: 0.4720 - accuracy: 0.7562 - val_loss: 0.5143 - val_accuracy: 0.7299\n",
      "Epoch 24/100\n",
      "1334/1334 [==============================] - 15s 11ms/step - loss: 0.4681 - accuracy: 0.7593 - val_loss: 0.5112 - val_accuracy: 0.7324\n"
     ]
    },
    {
     "name": "stderr",
     "output_type": "stream",
     "text": [
      "WARNING:absl:Found untraced functions such as lstm_cell_2_layer_call_and_return_conditional_losses, lstm_cell_2_layer_call_fn, lstm_cell_3_layer_call_and_return_conditional_losses, lstm_cell_3_layer_call_fn, lstm_cell_2_layer_call_fn while saving (showing 5 of 10). These functions will not be directly callable after loading.\n"
     ]
    },
    {
     "name": "stdout",
     "output_type": "stream",
     "text": [
      "INFO:tensorflow:Assets written to: BestModel/assets\n"
     ]
    },
    {
     "name": "stderr",
     "output_type": "stream",
     "text": [
      "INFO:tensorflow:Assets written to: BestModel/assets\n"
     ]
    },
    {
     "name": "stdout",
     "output_type": "stream",
     "text": [
      "Epoch 25/100\n",
      "1334/1334 [==============================] - 15s 11ms/step - loss: 0.4629 - accuracy: 0.7650 - val_loss: 0.5176 - val_accuracy: 0.7285\n",
      "Epoch 26/100\n",
      "1334/1334 [==============================] - 15s 11ms/step - loss: 0.4601 - accuracy: 0.7649 - val_loss: 0.5091 - val_accuracy: 0.7329\n"
     ]
    },
    {
     "name": "stderr",
     "output_type": "stream",
     "text": [
      "WARNING:absl:Found untraced functions such as lstm_cell_2_layer_call_and_return_conditional_losses, lstm_cell_2_layer_call_fn, lstm_cell_3_layer_call_and_return_conditional_losses, lstm_cell_3_layer_call_fn, lstm_cell_2_layer_call_fn while saving (showing 5 of 10). These functions will not be directly callable after loading.\n"
     ]
    },
    {
     "name": "stdout",
     "output_type": "stream",
     "text": [
      "INFO:tensorflow:Assets written to: BestModel/assets\n"
     ]
    },
    {
     "name": "stderr",
     "output_type": "stream",
     "text": [
      "INFO:tensorflow:Assets written to: BestModel/assets\n"
     ]
    },
    {
     "name": "stdout",
     "output_type": "stream",
     "text": [
      "Epoch 27/100\n",
      "1334/1334 [==============================] - 15s 11ms/step - loss: 0.4559 - accuracy: 0.7688 - val_loss: 0.5195 - val_accuracy: 0.7311\n",
      "Epoch 28/100\n",
      "1334/1334 [==============================] - 14s 11ms/step - loss: 0.4455 - accuracy: 0.7751 - val_loss: 0.5062 - val_accuracy: 0.7368\n"
     ]
    },
    {
     "name": "stderr",
     "output_type": "stream",
     "text": [
      "WARNING:absl:Found untraced functions such as lstm_cell_2_layer_call_and_return_conditional_losses, lstm_cell_2_layer_call_fn, lstm_cell_3_layer_call_and_return_conditional_losses, lstm_cell_3_layer_call_fn, lstm_cell_2_layer_call_fn while saving (showing 5 of 10). These functions will not be directly callable after loading.\n"
     ]
    },
    {
     "name": "stdout",
     "output_type": "stream",
     "text": [
      "INFO:tensorflow:Assets written to: BestModel/assets\n"
     ]
    },
    {
     "name": "stderr",
     "output_type": "stream",
     "text": [
      "INFO:tensorflow:Assets written to: BestModel/assets\n"
     ]
    },
    {
     "name": "stdout",
     "output_type": "stream",
     "text": [
      "Epoch 29/100\n",
      "1334/1334 [==============================] - 17s 13ms/step - loss: 0.4813 - accuracy: 0.7548 - val_loss: 0.5071 - val_accuracy: 0.7384\n"
     ]
    },
    {
     "name": "stderr",
     "output_type": "stream",
     "text": [
      "WARNING:absl:Found untraced functions such as lstm_cell_2_layer_call_and_return_conditional_losses, lstm_cell_2_layer_call_fn, lstm_cell_3_layer_call_and_return_conditional_losses, lstm_cell_3_layer_call_fn, lstm_cell_2_layer_call_fn while saving (showing 5 of 10). These functions will not be directly callable after loading.\n"
     ]
    },
    {
     "name": "stdout",
     "output_type": "stream",
     "text": [
      "INFO:tensorflow:Assets written to: BestModel/assets\n"
     ]
    },
    {
     "name": "stderr",
     "output_type": "stream",
     "text": [
      "INFO:tensorflow:Assets written to: BestModel/assets\n"
     ]
    },
    {
     "name": "stdout",
     "output_type": "stream",
     "text": [
      "Epoch 30/100\n",
      "1334/1334 [==============================] - 15s 11ms/step - loss: 0.4508 - accuracy: 0.7725 - val_loss: 0.5043 - val_accuracy: 0.7390\n"
     ]
    },
    {
     "name": "stderr",
     "output_type": "stream",
     "text": [
      "WARNING:absl:Found untraced functions such as lstm_cell_2_layer_call_and_return_conditional_losses, lstm_cell_2_layer_call_fn, lstm_cell_3_layer_call_and_return_conditional_losses, lstm_cell_3_layer_call_fn, lstm_cell_2_layer_call_fn while saving (showing 5 of 10). These functions will not be directly callable after loading.\n"
     ]
    },
    {
     "name": "stdout",
     "output_type": "stream",
     "text": [
      "INFO:tensorflow:Assets written to: BestModel/assets\n"
     ]
    },
    {
     "name": "stderr",
     "output_type": "stream",
     "text": [
      "INFO:tensorflow:Assets written to: BestModel/assets\n"
     ]
    },
    {
     "name": "stdout",
     "output_type": "stream",
     "text": [
      "Epoch 31/100\n",
      "1334/1334 [==============================] - 15s 11ms/step - loss: 0.4416 - accuracy: 0.7757 - val_loss: 0.5112 - val_accuracy: 0.7409\n"
     ]
    },
    {
     "name": "stderr",
     "output_type": "stream",
     "text": [
      "WARNING:absl:Found untraced functions such as lstm_cell_2_layer_call_and_return_conditional_losses, lstm_cell_2_layer_call_fn, lstm_cell_3_layer_call_and_return_conditional_losses, lstm_cell_3_layer_call_fn, lstm_cell_2_layer_call_fn while saving (showing 5 of 10). These functions will not be directly callable after loading.\n"
     ]
    },
    {
     "name": "stdout",
     "output_type": "stream",
     "text": [
      "INFO:tensorflow:Assets written to: BestModel/assets\n"
     ]
    },
    {
     "name": "stderr",
     "output_type": "stream",
     "text": [
      "INFO:tensorflow:Assets written to: BestModel/assets\n"
     ]
    },
    {
     "name": "stdout",
     "output_type": "stream",
     "text": [
      "Epoch 32/100\n",
      "1334/1334 [==============================] - 15s 11ms/step - loss: 0.4378 - accuracy: 0.7803 - val_loss: 0.5053 - val_accuracy: 0.7444\n"
     ]
    },
    {
     "name": "stderr",
     "output_type": "stream",
     "text": [
      "WARNING:absl:Found untraced functions such as lstm_cell_2_layer_call_and_return_conditional_losses, lstm_cell_2_layer_call_fn, lstm_cell_3_layer_call_and_return_conditional_losses, lstm_cell_3_layer_call_fn, lstm_cell_2_layer_call_fn while saving (showing 5 of 10). These functions will not be directly callable after loading.\n"
     ]
    },
    {
     "name": "stdout",
     "output_type": "stream",
     "text": [
      "INFO:tensorflow:Assets written to: BestModel/assets\n"
     ]
    },
    {
     "name": "stderr",
     "output_type": "stream",
     "text": [
      "INFO:tensorflow:Assets written to: BestModel/assets\n"
     ]
    },
    {
     "name": "stdout",
     "output_type": "stream",
     "text": [
      "Epoch 33/100\n",
      "1334/1334 [==============================] - 15s 11ms/step - loss: 0.4284 - accuracy: 0.7861 - val_loss: 0.5024 - val_accuracy: 0.7412\n",
      "Epoch 34/100\n",
      "1334/1334 [==============================] - 15s 11ms/step - loss: 0.4256 - accuracy: 0.7845 - val_loss: 0.5069 - val_accuracy: 0.7463\n"
     ]
    },
    {
     "name": "stderr",
     "output_type": "stream",
     "text": [
      "WARNING:absl:Found untraced functions such as lstm_cell_2_layer_call_and_return_conditional_losses, lstm_cell_2_layer_call_fn, lstm_cell_3_layer_call_and_return_conditional_losses, lstm_cell_3_layer_call_fn, lstm_cell_2_layer_call_fn while saving (showing 5 of 10). These functions will not be directly callable after loading.\n"
     ]
    },
    {
     "name": "stdout",
     "output_type": "stream",
     "text": [
      "INFO:tensorflow:Assets written to: BestModel/assets\n"
     ]
    },
    {
     "name": "stderr",
     "output_type": "stream",
     "text": [
      "INFO:tensorflow:Assets written to: BestModel/assets\n"
     ]
    },
    {
     "name": "stdout",
     "output_type": "stream",
     "text": [
      "Epoch 35/100\n",
      "1334/1334 [==============================] - 15s 11ms/step - loss: 0.4256 - accuracy: 0.7884 - val_loss: 0.5019 - val_accuracy: 0.7485\n"
     ]
    },
    {
     "name": "stderr",
     "output_type": "stream",
     "text": [
      "WARNING:absl:Found untraced functions such as lstm_cell_2_layer_call_and_return_conditional_losses, lstm_cell_2_layer_call_fn, lstm_cell_3_layer_call_and_return_conditional_losses, lstm_cell_3_layer_call_fn, lstm_cell_2_layer_call_fn while saving (showing 5 of 10). These functions will not be directly callable after loading.\n"
     ]
    },
    {
     "name": "stdout",
     "output_type": "stream",
     "text": [
      "INFO:tensorflow:Assets written to: BestModel/assets\n"
     ]
    },
    {
     "name": "stderr",
     "output_type": "stream",
     "text": [
      "INFO:tensorflow:Assets written to: BestModel/assets\n"
     ]
    },
    {
     "name": "stdout",
     "output_type": "stream",
     "text": [
      "Epoch 36/100\n",
      "1334/1334 [==============================] - 14s 11ms/step - loss: 0.4207 - accuracy: 0.7898 - val_loss: 0.5064 - val_accuracy: 0.7494\n"
     ]
    },
    {
     "name": "stderr",
     "output_type": "stream",
     "text": [
      "WARNING:absl:Found untraced functions such as lstm_cell_2_layer_call_and_return_conditional_losses, lstm_cell_2_layer_call_fn, lstm_cell_3_layer_call_and_return_conditional_losses, lstm_cell_3_layer_call_fn, lstm_cell_2_layer_call_fn while saving (showing 5 of 10). These functions will not be directly callable after loading.\n"
     ]
    },
    {
     "name": "stdout",
     "output_type": "stream",
     "text": [
      "INFO:tensorflow:Assets written to: BestModel/assets\n"
     ]
    },
    {
     "name": "stderr",
     "output_type": "stream",
     "text": [
      "INFO:tensorflow:Assets written to: BestModel/assets\n"
     ]
    },
    {
     "name": "stdout",
     "output_type": "stream",
     "text": [
      "Epoch 37/100\n",
      "1334/1334 [==============================] - 15s 11ms/step - loss: 0.4103 - accuracy: 0.7955 - val_loss: 0.5054 - val_accuracy: 0.7490\n",
      "Epoch 38/100\n",
      "1334/1334 [==============================] - 17s 13ms/step - loss: 0.4084 - accuracy: 0.7957 - val_loss: 0.4982 - val_accuracy: 0.7521\n"
     ]
    },
    {
     "name": "stderr",
     "output_type": "stream",
     "text": [
      "WARNING:absl:Found untraced functions such as lstm_cell_2_layer_call_and_return_conditional_losses, lstm_cell_2_layer_call_fn, lstm_cell_3_layer_call_and_return_conditional_losses, lstm_cell_3_layer_call_fn, lstm_cell_2_layer_call_fn while saving (showing 5 of 10). These functions will not be directly callable after loading.\n"
     ]
    },
    {
     "name": "stdout",
     "output_type": "stream",
     "text": [
      "INFO:tensorflow:Assets written to: BestModel/assets\n"
     ]
    },
    {
     "name": "stderr",
     "output_type": "stream",
     "text": [
      "INFO:tensorflow:Assets written to: BestModel/assets\n"
     ]
    },
    {
     "name": "stdout",
     "output_type": "stream",
     "text": [
      "Epoch 39/100\n",
      "1334/1334 [==============================] - 15s 11ms/step - loss: 0.4087 - accuracy: 0.7963 - val_loss: 0.4939 - val_accuracy: 0.7526\n"
     ]
    },
    {
     "name": "stderr",
     "output_type": "stream",
     "text": [
      "WARNING:absl:Found untraced functions such as lstm_cell_2_layer_call_and_return_conditional_losses, lstm_cell_2_layer_call_fn, lstm_cell_3_layer_call_and_return_conditional_losses, lstm_cell_3_layer_call_fn, lstm_cell_2_layer_call_fn while saving (showing 5 of 10). These functions will not be directly callable after loading.\n"
     ]
    },
    {
     "name": "stdout",
     "output_type": "stream",
     "text": [
      "INFO:tensorflow:Assets written to: BestModel/assets\n"
     ]
    },
    {
     "name": "stderr",
     "output_type": "stream",
     "text": [
      "INFO:tensorflow:Assets written to: BestModel/assets\n"
     ]
    },
    {
     "name": "stdout",
     "output_type": "stream",
     "text": [
      "Epoch 40/100\n",
      "1334/1334 [==============================] - 15s 11ms/step - loss: 0.3970 - accuracy: 0.8041 - val_loss: 0.4975 - val_accuracy: 0.7519\n",
      "Epoch 41/100\n",
      "1334/1334 [==============================] - 15s 11ms/step - loss: 0.3927 - accuracy: 0.8033 - val_loss: 0.4976 - val_accuracy: 0.7558\n"
     ]
    },
    {
     "name": "stderr",
     "output_type": "stream",
     "text": [
      "WARNING:absl:Found untraced functions such as lstm_cell_2_layer_call_and_return_conditional_losses, lstm_cell_2_layer_call_fn, lstm_cell_3_layer_call_and_return_conditional_losses, lstm_cell_3_layer_call_fn, lstm_cell_2_layer_call_fn while saving (showing 5 of 10). These functions will not be directly callable after loading.\n"
     ]
    },
    {
     "name": "stdout",
     "output_type": "stream",
     "text": [
      "INFO:tensorflow:Assets written to: BestModel/assets\n"
     ]
    },
    {
     "name": "stderr",
     "output_type": "stream",
     "text": [
      "INFO:tensorflow:Assets written to: BestModel/assets\n"
     ]
    },
    {
     "name": "stdout",
     "output_type": "stream",
     "text": [
      "Epoch 42/100\n",
      "1334/1334 [==============================] - 17s 13ms/step - loss: 0.3924 - accuracy: 0.8075 - val_loss: 0.5088 - val_accuracy: 0.7553\n",
      "Epoch 43/100\n",
      "1334/1334 [==============================] - 15s 11ms/step - loss: 0.3840 - accuracy: 0.8084 - val_loss: 0.5161 - val_accuracy: 0.7539\n",
      "Epoch 44/100\n",
      "1334/1334 [==============================] - 15s 11ms/step - loss: 0.3899 - accuracy: 0.8090 - val_loss: 0.6353 - val_accuracy: 0.6250\n",
      "Epoch 45/100\n",
      "1334/1334 [==============================] - 17s 13ms/step - loss: 0.6366 - accuracy: 0.6281 - val_loss: 0.6138 - val_accuracy: 0.6497\n",
      "Epoch 46/100\n",
      "1334/1334 [==============================] - 15s 11ms/step - loss: 0.6007 - accuracy: 0.6655 - val_loss: 0.5535 - val_accuracy: 0.6949\n",
      "Epoch 47/100\n",
      "1334/1334 [==============================] - 15s 11ms/step - loss: 0.5564 - accuracy: 0.7005 - val_loss: 0.5453 - val_accuracy: 0.7034\n",
      "Epoch 48/100\n",
      "1334/1334 [==============================] - 15s 11ms/step - loss: 0.5294 - accuracy: 0.7180 - val_loss: 0.5305 - val_accuracy: 0.7126\n",
      "Epoch 49/100\n",
      "1334/1334 [==============================] - 15s 11ms/step - loss: 0.5149 - accuracy: 0.7253 - val_loss: 0.5141 - val_accuracy: 0.7230\n",
      "Epoch 50/100\n",
      "1334/1334 [==============================] - 15s 11ms/step - loss: 0.4992 - accuracy: 0.7382 - val_loss: 0.4876 - val_accuracy: 0.7507\n",
      "Epoch 51/100\n",
      "1334/1334 [==============================] - 15s 11ms/step - loss: 0.3693 - accuracy: 0.8355 - val_loss: 0.1345 - val_accuracy: 0.9490\n"
     ]
    },
    {
     "name": "stderr",
     "output_type": "stream",
     "text": [
      "WARNING:absl:Found untraced functions such as lstm_cell_2_layer_call_and_return_conditional_losses, lstm_cell_2_layer_call_fn, lstm_cell_3_layer_call_and_return_conditional_losses, lstm_cell_3_layer_call_fn, lstm_cell_2_layer_call_fn while saving (showing 5 of 10). These functions will not be directly callable after loading.\n"
     ]
    },
    {
     "name": "stdout",
     "output_type": "stream",
     "text": [
      "INFO:tensorflow:Assets written to: BestModel/assets\n"
     ]
    },
    {
     "name": "stderr",
     "output_type": "stream",
     "text": [
      "INFO:tensorflow:Assets written to: BestModel/assets\n"
     ]
    },
    {
     "name": "stdout",
     "output_type": "stream",
     "text": [
      "Epoch 52/100\n",
      "1334/1334 [==============================] - 14s 11ms/step - loss: 0.1386 - accuracy: 0.9495 - val_loss: 0.1149 - val_accuracy: 0.9523\n"
     ]
    },
    {
     "name": "stderr",
     "output_type": "stream",
     "text": [
      "WARNING:absl:Found untraced functions such as lstm_cell_2_layer_call_and_return_conditional_losses, lstm_cell_2_layer_call_fn, lstm_cell_3_layer_call_and_return_conditional_losses, lstm_cell_3_layer_call_fn, lstm_cell_2_layer_call_fn while saving (showing 5 of 10). These functions will not be directly callable after loading.\n"
     ]
    },
    {
     "name": "stdout",
     "output_type": "stream",
     "text": [
      "INFO:tensorflow:Assets written to: BestModel/assets\n"
     ]
    },
    {
     "name": "stderr",
     "output_type": "stream",
     "text": [
      "INFO:tensorflow:Assets written to: BestModel/assets\n"
     ]
    },
    {
     "name": "stdout",
     "output_type": "stream",
     "text": [
      "Epoch 53/100\n",
      "1334/1334 [==============================] - 17s 13ms/step - loss: 0.1477 - accuracy: 0.9428 - val_loss: 0.1330 - val_accuracy: 0.9515\n",
      "Epoch 54/100\n",
      "1334/1334 [==============================] - 15s 11ms/step - loss: 0.1217 - accuracy: 0.9520 - val_loss: 0.0866 - val_accuracy: 0.9631\n"
     ]
    },
    {
     "name": "stderr",
     "output_type": "stream",
     "text": [
      "WARNING:absl:Found untraced functions such as lstm_cell_2_layer_call_and_return_conditional_losses, lstm_cell_2_layer_call_fn, lstm_cell_3_layer_call_and_return_conditional_losses, lstm_cell_3_layer_call_fn, lstm_cell_2_layer_call_fn while saving (showing 5 of 10). These functions will not be directly callable after loading.\n"
     ]
    },
    {
     "name": "stdout",
     "output_type": "stream",
     "text": [
      "INFO:tensorflow:Assets written to: BestModel/assets\n"
     ]
    },
    {
     "name": "stderr",
     "output_type": "stream",
     "text": [
      "INFO:tensorflow:Assets written to: BestModel/assets\n"
     ]
    },
    {
     "name": "stdout",
     "output_type": "stream",
     "text": [
      "Epoch 55/100\n",
      "1334/1334 [==============================] - 15s 11ms/step - loss: 0.0909 - accuracy: 0.9620 - val_loss: 0.0918 - val_accuracy: 0.9619\n",
      "Epoch 56/100\n",
      "1334/1334 [==============================] - 15s 11ms/step - loss: 0.0833 - accuracy: 0.9663 - val_loss: 0.0919 - val_accuracy: 0.9618\n",
      "Epoch 57/100\n",
      "1334/1334 [==============================] - 15s 11ms/step - loss: 0.0803 - accuracy: 0.9677 - val_loss: 0.0711 - val_accuracy: 0.9697\n"
     ]
    },
    {
     "name": "stderr",
     "output_type": "stream",
     "text": [
      "WARNING:absl:Found untraced functions such as lstm_cell_2_layer_call_and_return_conditional_losses, lstm_cell_2_layer_call_fn, lstm_cell_3_layer_call_and_return_conditional_losses, lstm_cell_3_layer_call_fn, lstm_cell_2_layer_call_fn while saving (showing 5 of 10). These functions will not be directly callable after loading.\n"
     ]
    },
    {
     "name": "stdout",
     "output_type": "stream",
     "text": [
      "INFO:tensorflow:Assets written to: BestModel/assets\n"
     ]
    },
    {
     "name": "stderr",
     "output_type": "stream",
     "text": [
      "INFO:tensorflow:Assets written to: BestModel/assets\n"
     ]
    },
    {
     "name": "stdout",
     "output_type": "stream",
     "text": [
      "Epoch 58/100\n",
      "1334/1334 [==============================] - 15s 11ms/step - loss: 0.0784 - accuracy: 0.9676 - val_loss: 0.0679 - val_accuracy: 0.9694\n",
      "Epoch 59/100\n",
      "1334/1334 [==============================] - 15s 11ms/step - loss: 0.0642 - accuracy: 0.9716 - val_loss: 0.0779 - val_accuracy: 0.9672\n",
      "Epoch 60/100\n",
      "1334/1334 [==============================] - 15s 11ms/step - loss: 0.0686 - accuracy: 0.9723 - val_loss: 0.0536 - val_accuracy: 0.9766\n"
     ]
    },
    {
     "name": "stderr",
     "output_type": "stream",
     "text": [
      "WARNING:absl:Found untraced functions such as lstm_cell_2_layer_call_and_return_conditional_losses, lstm_cell_2_layer_call_fn, lstm_cell_3_layer_call_and_return_conditional_losses, lstm_cell_3_layer_call_fn, lstm_cell_2_layer_call_fn while saving (showing 5 of 10). These functions will not be directly callable after loading.\n"
     ]
    },
    {
     "name": "stdout",
     "output_type": "stream",
     "text": [
      "INFO:tensorflow:Assets written to: BestModel/assets\n"
     ]
    },
    {
     "name": "stderr",
     "output_type": "stream",
     "text": [
      "INFO:tensorflow:Assets written to: BestModel/assets\n"
     ]
    },
    {
     "name": "stdout",
     "output_type": "stream",
     "text": [
      "Epoch 61/100\n",
      "1334/1334 [==============================] - 15s 11ms/step - loss: 0.0592 - accuracy: 0.9745 - val_loss: 0.0548 - val_accuracy: 0.9768\n"
     ]
    },
    {
     "name": "stderr",
     "output_type": "stream",
     "text": [
      "WARNING:absl:Found untraced functions such as lstm_cell_2_layer_call_and_return_conditional_losses, lstm_cell_2_layer_call_fn, lstm_cell_3_layer_call_and_return_conditional_losses, lstm_cell_3_layer_call_fn, lstm_cell_2_layer_call_fn while saving (showing 5 of 10). These functions will not be directly callable after loading.\n"
     ]
    },
    {
     "name": "stdout",
     "output_type": "stream",
     "text": [
      "INFO:tensorflow:Assets written to: BestModel/assets\n"
     ]
    },
    {
     "name": "stderr",
     "output_type": "stream",
     "text": [
      "INFO:tensorflow:Assets written to: BestModel/assets\n"
     ]
    },
    {
     "name": "stdout",
     "output_type": "stream",
     "text": [
      "Epoch 62/100\n",
      "1334/1334 [==============================] - 15s 11ms/step - loss: 0.0620 - accuracy: 0.9755 - val_loss: 0.0510 - val_accuracy: 0.9774\n"
     ]
    },
    {
     "name": "stderr",
     "output_type": "stream",
     "text": [
      "WARNING:absl:Found untraced functions such as lstm_cell_2_layer_call_and_return_conditional_losses, lstm_cell_2_layer_call_fn, lstm_cell_3_layer_call_and_return_conditional_losses, lstm_cell_3_layer_call_fn, lstm_cell_2_layer_call_fn while saving (showing 5 of 10). These functions will not be directly callable after loading.\n"
     ]
    },
    {
     "name": "stdout",
     "output_type": "stream",
     "text": [
      "INFO:tensorflow:Assets written to: BestModel/assets\n"
     ]
    },
    {
     "name": "stderr",
     "output_type": "stream",
     "text": [
      "INFO:tensorflow:Assets written to: BestModel/assets\n"
     ]
    },
    {
     "name": "stdout",
     "output_type": "stream",
     "text": [
      "Epoch 63/100\n",
      "1334/1334 [==============================] - 15s 11ms/step - loss: 0.0493 - accuracy: 0.9800 - val_loss: 0.0492 - val_accuracy: 0.9802\n"
     ]
    },
    {
     "name": "stderr",
     "output_type": "stream",
     "text": [
      "WARNING:absl:Found untraced functions such as lstm_cell_2_layer_call_and_return_conditional_losses, lstm_cell_2_layer_call_fn, lstm_cell_3_layer_call_and_return_conditional_losses, lstm_cell_3_layer_call_fn, lstm_cell_2_layer_call_fn while saving (showing 5 of 10). These functions will not be directly callable after loading.\n"
     ]
    },
    {
     "name": "stdout",
     "output_type": "stream",
     "text": [
      "INFO:tensorflow:Assets written to: BestModel/assets\n"
     ]
    },
    {
     "name": "stderr",
     "output_type": "stream",
     "text": [
      "INFO:tensorflow:Assets written to: BestModel/assets\n"
     ]
    },
    {
     "name": "stdout",
     "output_type": "stream",
     "text": [
      "Epoch 64/100\n",
      "1334/1334 [==============================] - 14s 11ms/step - loss: 0.0419 - accuracy: 0.9845 - val_loss: 0.0423 - val_accuracy: 0.9852\n"
     ]
    },
    {
     "name": "stderr",
     "output_type": "stream",
     "text": [
      "WARNING:absl:Found untraced functions such as lstm_cell_2_layer_call_and_return_conditional_losses, lstm_cell_2_layer_call_fn, lstm_cell_3_layer_call_and_return_conditional_losses, lstm_cell_3_layer_call_fn, lstm_cell_2_layer_call_fn while saving (showing 5 of 10). These functions will not be directly callable after loading.\n"
     ]
    },
    {
     "name": "stdout",
     "output_type": "stream",
     "text": [
      "INFO:tensorflow:Assets written to: BestModel/assets\n"
     ]
    },
    {
     "name": "stderr",
     "output_type": "stream",
     "text": [
      "INFO:tensorflow:Assets written to: BestModel/assets\n"
     ]
    },
    {
     "name": "stdout",
     "output_type": "stream",
     "text": [
      "Epoch 65/100\n",
      "1334/1334 [==============================] - 14s 11ms/step - loss: 0.0349 - accuracy: 0.9873 - val_loss: 0.0336 - val_accuracy: 0.9882\n"
     ]
    },
    {
     "name": "stderr",
     "output_type": "stream",
     "text": [
      "WARNING:absl:Found untraced functions such as lstm_cell_2_layer_call_and_return_conditional_losses, lstm_cell_2_layer_call_fn, lstm_cell_3_layer_call_and_return_conditional_losses, lstm_cell_3_layer_call_fn, lstm_cell_2_layer_call_fn while saving (showing 5 of 10). These functions will not be directly callable after loading.\n"
     ]
    },
    {
     "name": "stdout",
     "output_type": "stream",
     "text": [
      "INFO:tensorflow:Assets written to: BestModel/assets\n"
     ]
    },
    {
     "name": "stderr",
     "output_type": "stream",
     "text": [
      "INFO:tensorflow:Assets written to: BestModel/assets\n"
     ]
    },
    {
     "name": "stdout",
     "output_type": "stream",
     "text": [
      "Epoch 66/100\n",
      "1334/1334 [==============================] - 14s 11ms/step - loss: 0.0378 - accuracy: 0.9868 - val_loss: 0.0360 - val_accuracy: 0.9871\n",
      "Epoch 67/100\n",
      "1334/1334 [==============================] - 15s 11ms/step - loss: 0.0232 - accuracy: 0.9921 - val_loss: 0.0295 - val_accuracy: 0.9889\n"
     ]
    },
    {
     "name": "stderr",
     "output_type": "stream",
     "text": [
      "WARNING:absl:Found untraced functions such as lstm_cell_2_layer_call_and_return_conditional_losses, lstm_cell_2_layer_call_fn, lstm_cell_3_layer_call_and_return_conditional_losses, lstm_cell_3_layer_call_fn, lstm_cell_2_layer_call_fn while saving (showing 5 of 10). These functions will not be directly callable after loading.\n"
     ]
    },
    {
     "name": "stdout",
     "output_type": "stream",
     "text": [
      "INFO:tensorflow:Assets written to: BestModel/assets\n"
     ]
    },
    {
     "name": "stderr",
     "output_type": "stream",
     "text": [
      "INFO:tensorflow:Assets written to: BestModel/assets\n"
     ]
    },
    {
     "name": "stdout",
     "output_type": "stream",
     "text": [
      "Epoch 68/100\n",
      "1334/1334 [==============================] - 14s 11ms/step - loss: 0.0199 - accuracy: 0.9926 - val_loss: 0.0241 - val_accuracy: 0.9908\n"
     ]
    },
    {
     "name": "stderr",
     "output_type": "stream",
     "text": [
      "WARNING:absl:Found untraced functions such as lstm_cell_2_layer_call_and_return_conditional_losses, lstm_cell_2_layer_call_fn, lstm_cell_3_layer_call_and_return_conditional_losses, lstm_cell_3_layer_call_fn, lstm_cell_2_layer_call_fn while saving (showing 5 of 10). These functions will not be directly callable after loading.\n"
     ]
    },
    {
     "name": "stdout",
     "output_type": "stream",
     "text": [
      "INFO:tensorflow:Assets written to: BestModel/assets\n"
     ]
    },
    {
     "name": "stderr",
     "output_type": "stream",
     "text": [
      "INFO:tensorflow:Assets written to: BestModel/assets\n"
     ]
    },
    {
     "name": "stdout",
     "output_type": "stream",
     "text": [
      "Epoch 69/100\n",
      "1334/1334 [==============================] - 14s 11ms/step - loss: 0.0380 - accuracy: 0.9877 - val_loss: 0.0287 - val_accuracy: 0.9881\n",
      "Epoch 70/100\n",
      "1334/1334 [==============================] - 15s 11ms/step - loss: 0.0170 - accuracy: 0.9931 - val_loss: 0.0196 - val_accuracy: 0.9926\n"
     ]
    },
    {
     "name": "stderr",
     "output_type": "stream",
     "text": [
      "WARNING:absl:Found untraced functions such as lstm_cell_2_layer_call_and_return_conditional_losses, lstm_cell_2_layer_call_fn, lstm_cell_3_layer_call_and_return_conditional_losses, lstm_cell_3_layer_call_fn, lstm_cell_2_layer_call_fn while saving (showing 5 of 10). These functions will not be directly callable after loading.\n"
     ]
    },
    {
     "name": "stdout",
     "output_type": "stream",
     "text": [
      "INFO:tensorflow:Assets written to: BestModel/assets\n"
     ]
    },
    {
     "name": "stderr",
     "output_type": "stream",
     "text": [
      "INFO:tensorflow:Assets written to: BestModel/assets\n"
     ]
    },
    {
     "name": "stdout",
     "output_type": "stream",
     "text": [
      "Epoch 71/100\n",
      "1334/1334 [==============================] - 14s 11ms/step - loss: 0.0152 - accuracy: 0.9948 - val_loss: 0.0167 - val_accuracy: 0.9942\n"
     ]
    },
    {
     "name": "stderr",
     "output_type": "stream",
     "text": [
      "WARNING:absl:Found untraced functions such as lstm_cell_2_layer_call_and_return_conditional_losses, lstm_cell_2_layer_call_fn, lstm_cell_3_layer_call_and_return_conditional_losses, lstm_cell_3_layer_call_fn, lstm_cell_2_layer_call_fn while saving (showing 5 of 10). These functions will not be directly callable after loading.\n"
     ]
    },
    {
     "name": "stdout",
     "output_type": "stream",
     "text": [
      "INFO:tensorflow:Assets written to: BestModel/assets\n"
     ]
    },
    {
     "name": "stderr",
     "output_type": "stream",
     "text": [
      "INFO:tensorflow:Assets written to: BestModel/assets\n"
     ]
    },
    {
     "name": "stdout",
     "output_type": "stream",
     "text": [
      "Epoch 72/100\n",
      "1334/1334 [==============================] - 14s 11ms/step - loss: 0.0160 - accuracy: 0.9949 - val_loss: 0.0256 - val_accuracy: 0.9904\n",
      "Epoch 73/100\n",
      "1334/1334 [==============================] - 15s 11ms/step - loss: 0.0206 - accuracy: 0.9932 - val_loss: 0.0227 - val_accuracy: 0.9923\n",
      "Epoch 74/100\n",
      "1334/1334 [==============================] - 17s 13ms/step - loss: 0.0109 - accuracy: 0.9963 - val_loss: 0.0191 - val_accuracy: 0.9940\n",
      "Epoch 75/100\n",
      "1334/1334 [==============================] - 14s 11ms/step - loss: 0.0128 - accuracy: 0.9961 - val_loss: 0.0291 - val_accuracy: 0.9903\n",
      "Epoch 76/100\n",
      "1334/1334 [==============================] - 15s 11ms/step - loss: 0.0172 - accuracy: 0.9944 - val_loss: 0.0259 - val_accuracy: 0.9925\n",
      "Epoch 77/100\n",
      "1334/1334 [==============================] - 15s 11ms/step - loss: 0.0119 - accuracy: 0.9960 - val_loss: 0.0180 - val_accuracy: 0.9940\n",
      "Epoch 78/100\n",
      "1334/1334 [==============================] - 15s 11ms/step - loss: 0.0162 - accuracy: 0.9957 - val_loss: 0.0157 - val_accuracy: 0.9954\n"
     ]
    },
    {
     "name": "stderr",
     "output_type": "stream",
     "text": [
      "WARNING:absl:Found untraced functions such as lstm_cell_2_layer_call_and_return_conditional_losses, lstm_cell_2_layer_call_fn, lstm_cell_3_layer_call_and_return_conditional_losses, lstm_cell_3_layer_call_fn, lstm_cell_2_layer_call_fn while saving (showing 5 of 10). These functions will not be directly callable after loading.\n"
     ]
    },
    {
     "name": "stdout",
     "output_type": "stream",
     "text": [
      "INFO:tensorflow:Assets written to: BestModel/assets\n"
     ]
    },
    {
     "name": "stderr",
     "output_type": "stream",
     "text": [
      "INFO:tensorflow:Assets written to: BestModel/assets\n"
     ]
    },
    {
     "name": "stdout",
     "output_type": "stream",
     "text": [
      "Epoch 79/100\n",
      "1334/1334 [==============================] - 14s 11ms/step - loss: 0.0076 - accuracy: 0.9979 - val_loss: 0.0164 - val_accuracy: 0.9957\n"
     ]
    },
    {
     "name": "stderr",
     "output_type": "stream",
     "text": [
      "WARNING:absl:Found untraced functions such as lstm_cell_2_layer_call_and_return_conditional_losses, lstm_cell_2_layer_call_fn, lstm_cell_3_layer_call_and_return_conditional_losses, lstm_cell_3_layer_call_fn, lstm_cell_2_layer_call_fn while saving (showing 5 of 10). These functions will not be directly callable after loading.\n"
     ]
    },
    {
     "name": "stdout",
     "output_type": "stream",
     "text": [
      "INFO:tensorflow:Assets written to: BestModel/assets\n"
     ]
    },
    {
     "name": "stderr",
     "output_type": "stream",
     "text": [
      "INFO:tensorflow:Assets written to: BestModel/assets\n"
     ]
    },
    {
     "name": "stdout",
     "output_type": "stream",
     "text": [
      "Epoch 80/100\n",
      "1334/1334 [==============================] - 15s 11ms/step - loss: 0.0123 - accuracy: 0.9965 - val_loss: 0.0150 - val_accuracy: 0.9947\n",
      "Epoch 81/100\n",
      "1334/1334 [==============================] - 14s 11ms/step - loss: 0.0073 - accuracy: 0.9979 - val_loss: 0.0133 - val_accuracy: 0.9951\n",
      "Epoch 82/100\n",
      "1334/1334 [==============================] - 14s 11ms/step - loss: 0.0051 - accuracy: 0.9984 - val_loss: 0.0244 - val_accuracy: 0.9924\n",
      "Epoch 83/100\n",
      "1334/1334 [==============================] - 15s 11ms/step - loss: 0.0073 - accuracy: 0.9979 - val_loss: 0.0157 - val_accuracy: 0.9954\n",
      "Epoch 84/100\n",
      "1334/1334 [==============================] - 14s 11ms/step - loss: 0.0151 - accuracy: 0.9955 - val_loss: 0.0148 - val_accuracy: 0.9955\n",
      "Epoch 85/100\n",
      "1334/1334 [==============================] - 17s 13ms/step - loss: 0.0065 - accuracy: 0.9981 - val_loss: 0.0205 - val_accuracy: 0.9937\n",
      "Epoch 86/100\n",
      "1334/1334 [==============================] - 17s 13ms/step - loss: 0.0076 - accuracy: 0.9973 - val_loss: 0.0171 - val_accuracy: 0.9947\n",
      "Epoch 87/100\n",
      "1334/1334 [==============================] - 15s 11ms/step - loss: 0.0070 - accuracy: 0.9981 - val_loss: 0.0244 - val_accuracy: 0.9927\n",
      "Epoch 88/100\n",
      "1334/1334 [==============================] - 15s 11ms/step - loss: 0.0120 - accuracy: 0.9970 - val_loss: 0.0143 - val_accuracy: 0.9950\n",
      "Epoch 89/100\n",
      "1334/1334 [==============================] - 14s 11ms/step - loss: 0.0046 - accuracy: 0.9986 - val_loss: 0.0245 - val_accuracy: 0.9930\n",
      "Epoch 90/100\n",
      "1334/1334 [==============================] - 17s 13ms/step - loss: 0.0038 - accuracy: 0.9989 - val_loss: 0.0116 - val_accuracy: 0.9965\n"
     ]
    },
    {
     "name": "stderr",
     "output_type": "stream",
     "text": [
      "WARNING:absl:Found untraced functions such as lstm_cell_2_layer_call_and_return_conditional_losses, lstm_cell_2_layer_call_fn, lstm_cell_3_layer_call_and_return_conditional_losses, lstm_cell_3_layer_call_fn, lstm_cell_2_layer_call_fn while saving (showing 5 of 10). These functions will not be directly callable after loading.\n"
     ]
    },
    {
     "name": "stdout",
     "output_type": "stream",
     "text": [
      "INFO:tensorflow:Assets written to: BestModel/assets\n"
     ]
    },
    {
     "name": "stderr",
     "output_type": "stream",
     "text": [
      "INFO:tensorflow:Assets written to: BestModel/assets\n"
     ]
    },
    {
     "name": "stdout",
     "output_type": "stream",
     "text": [
      "Epoch 91/100\n",
      "1334/1334 [==============================] - 15s 11ms/step - loss: 0.0073 - accuracy: 0.9984 - val_loss: 0.0180 - val_accuracy: 0.9937\n",
      "Epoch 92/100\n",
      "1334/1334 [==============================] - 14s 11ms/step - loss: 0.0047 - accuracy: 0.9989 - val_loss: 0.0124 - val_accuracy: 0.9970\n"
     ]
    },
    {
     "name": "stderr",
     "output_type": "stream",
     "text": [
      "WARNING:absl:Found untraced functions such as lstm_cell_2_layer_call_and_return_conditional_losses, lstm_cell_2_layer_call_fn, lstm_cell_3_layer_call_and_return_conditional_losses, lstm_cell_3_layer_call_fn, lstm_cell_2_layer_call_fn while saving (showing 5 of 10). These functions will not be directly callable after loading.\n"
     ]
    },
    {
     "name": "stdout",
     "output_type": "stream",
     "text": [
      "INFO:tensorflow:Assets written to: BestModel/assets\n"
     ]
    },
    {
     "name": "stderr",
     "output_type": "stream",
     "text": [
      "INFO:tensorflow:Assets written to: BestModel/assets\n"
     ]
    },
    {
     "name": "stdout",
     "output_type": "stream",
     "text": [
      "Epoch 93/100\n",
      "1334/1334 [==============================] - 15s 11ms/step - loss: 0.0040 - accuracy: 0.9991 - val_loss: 0.0139 - val_accuracy: 0.9962\n",
      "Epoch 94/100\n",
      "1334/1334 [==============================] - 15s 11ms/step - loss: 0.0029 - accuracy: 0.9992 - val_loss: 0.0102 - val_accuracy: 0.9966\n",
      "Epoch 95/100\n",
      "1334/1334 [==============================] - 14s 11ms/step - loss: 0.0111 - accuracy: 0.9975 - val_loss: 0.0116 - val_accuracy: 0.9967\n",
      "Epoch 96/100\n",
      "1334/1334 [==============================] - 15s 11ms/step - loss: 0.0034 - accuracy: 0.9990 - val_loss: 0.0107 - val_accuracy: 0.9966\n",
      "Epoch 97/100\n",
      "1334/1334 [==============================] - 15s 11ms/step - loss: 0.0025 - accuracy: 0.9994 - val_loss: 0.1804 - val_accuracy: 0.9741\n",
      "Epoch 98/100\n",
      "1334/1334 [==============================] - 15s 11ms/step - loss: 0.0277 - accuracy: 0.9941 - val_loss: 0.0165 - val_accuracy: 0.9954\n",
      "Epoch 99/100\n",
      "1334/1334 [==============================] - 15s 11ms/step - loss: 0.0039 - accuracy: 0.9990 - val_loss: 0.0393 - val_accuracy: 0.9920\n",
      "Epoch 100/100\n",
      "1334/1334 [==============================] - 14s 11ms/step - loss: 0.0112 - accuracy: 0.9972 - val_loss: 0.0103 - val_accuracy: 0.9974\n"
     ]
    },
    {
     "name": "stderr",
     "output_type": "stream",
     "text": [
      "WARNING:absl:Found untraced functions such as lstm_cell_2_layer_call_and_return_conditional_losses, lstm_cell_2_layer_call_fn, lstm_cell_3_layer_call_and_return_conditional_losses, lstm_cell_3_layer_call_fn, lstm_cell_2_layer_call_fn while saving (showing 5 of 10). These functions will not be directly callable after loading.\n"
     ]
    },
    {
     "name": "stdout",
     "output_type": "stream",
     "text": [
      "INFO:tensorflow:Assets written to: BestModel/assets\n"
     ]
    },
    {
     "name": "stderr",
     "output_type": "stream",
     "text": [
      "INFO:tensorflow:Assets written to: BestModel/assets\n"
     ]
    },
    {
     "name": "stdout",
     "output_type": "stream",
     "text": [
      "Fold 1, 100 epochs, 2083 sec\n"
     ]
    },
    {
     "data": {
      "image/png": "[encoded data removed]",
      "text/plain": [
       "<Figure size 576x360 with 1 Axes>"
      ]
     },
     "metadata": {
      "needs_background": "light",
      "tags": []
     },
     "output_type": "display_data"
    },
    {
     "name": "stdout",
     "output_type": "stream",
     "text": [
      "MODEL\n",
      "make_DNN\n",
      "input shape: (64, 4)\n",
      "FIT\n",
      "Epoch 1/100\n",
      "1334/1334 [==============================] - 20s 12ms/step - loss: 0.6919 - accuracy: 0.5445 - val_loss: 0.6219 - val_accuracy: 0.6432\n",
      "Epoch 2/100\n",
      "1334/1334 [==============================] - 15s 11ms/step - loss: 0.6240 - accuracy: 0.6442 - val_loss: 0.5921 - val_accuracy: 0.6718\n",
      "Epoch 3/100\n",
      "1334/1334 [==============================] - 15s 11ms/step - loss: 0.5801 - accuracy: 0.6805 - val_loss: 0.5578 - val_accuracy: 0.6951\n",
      "Epoch 4/100\n",
      "1334/1334 [==============================] - 15s 11ms/step - loss: 0.5599 - accuracy: 0.6958 - val_loss: 0.5459 - val_accuracy: 0.7030\n",
      "Epoch 5/100\n",
      "1334/1334 [==============================] - 15s 11ms/step - loss: 0.5464 - accuracy: 0.7022 - val_loss: 0.5453 - val_accuracy: 0.7007\n",
      "Epoch 6/100\n",
      "1334/1334 [==============================] - 17s 13ms/step - loss: 0.5379 - accuracy: 0.7108 - val_loss: 0.5511 - val_accuracy: 0.7021\n",
      "Epoch 7/100\n",
      "1334/1334 [==============================] - 15s 11ms/step - loss: 0.5271 - accuracy: 0.7186 - val_loss: 0.5321 - val_accuracy: 0.7086\n",
      "Epoch 8/100\n",
      "1334/1334 [==============================] - 15s 11ms/step - loss: 0.5233 - accuracy: 0.7164 - val_loss: 0.5363 - val_accuracy: 0.7111\n",
      "Epoch 9/100\n",
      "1334/1334 [==============================] - 15s 11ms/step - loss: 0.5211 - accuracy: 0.7189 - val_loss: 0.5339 - val_accuracy: 0.7138\n",
      "Epoch 10/100\n",
      "1334/1334 [==============================] - 15s 11ms/step - loss: 0.5171 - accuracy: 0.7258 - val_loss: 0.5270 - val_accuracy: 0.7150\n",
      "Epoch 11/100\n",
      "1334/1334 [==============================] - 14s 11ms/step - loss: 0.5126 - accuracy: 0.7273 - val_loss: 0.5263 - val_accuracy: 0.7189\n",
      "Epoch 12/100\n",
      "1334/1334 [==============================] - 15s 11ms/step - loss: 0.5122 - accuracy: 0.7279 - val_loss: 0.5267 - val_accuracy: 0.7209\n",
      "Epoch 13/100\n",
      "1334/1334 [==============================] - 15s 11ms/step - loss: 0.5048 - accuracy: 0.7329 - val_loss: 0.5334 - val_accuracy: 0.7181\n",
      "Epoch 14/100\n",
      "1334/1334 [==============================] - 17s 13ms/step - loss: 0.5015 - accuracy: 0.7327 - val_loss: 0.5328 - val_accuracy: 0.7157\n",
      "Epoch 15/100\n",
      "1334/1334 [==============================] - 15s 11ms/step - loss: 0.4972 - accuracy: 0.7384 - val_loss: 0.5222 - val_accuracy: 0.7193\n",
      "Epoch 16/100\n",
      "1334/1334 [==============================] - 15s 11ms/step - loss: 0.4909 - accuracy: 0.7445 - val_loss: 0.5152 - val_accuracy: 0.7281\n",
      "Epoch 17/100\n",
      "1334/1334 [==============================] - 15s 11ms/step - loss: 0.4876 - accuracy: 0.7464 - val_loss: 0.5305 - val_accuracy: 0.7232\n",
      "Epoch 18/100\n",
      "1334/1334 [==============================] - 15s 11ms/step - loss: 0.4817 - accuracy: 0.7496 - val_loss: 0.5197 - val_accuracy: 0.7283\n",
      "Epoch 19/100\n",
      "1334/1334 [==============================] - 15s 11ms/step - loss: 0.4766 - accuracy: 0.7555 - val_loss: 0.5120 - val_accuracy: 0.7324\n",
      "Epoch 20/100\n",
      "1334/1334 [==============================] - 15s 11ms/step - loss: 0.4717 - accuracy: 0.7568 - val_loss: 0.5190 - val_accuracy: 0.7316\n",
      "Epoch 21/100\n",
      "1334/1334 [==============================] - 17s 13ms/step - loss: 0.4640 - accuracy: 0.7598 - val_loss: 0.5102 - val_accuracy: 0.7352\n",
      "Epoch 22/100\n",
      "1334/1334 [==============================] - 15s 11ms/step - loss: 0.4567 - accuracy: 0.7670 - val_loss: 0.5197 - val_accuracy: 0.7346\n",
      "Epoch 23/100\n",
      "1334/1334 [==============================] - 17s 13ms/step - loss: 0.4539 - accuracy: 0.7683 - val_loss: 0.5285 - val_accuracy: 0.7331\n",
      "Epoch 24/100\n",
      "1334/1334 [==============================] - 15s 11ms/step - loss: 0.4465 - accuracy: 0.7723 - val_loss: 0.5079 - val_accuracy: 0.7419\n",
      "Epoch 25/100\n",
      "1334/1334 [==============================] - 15s 11ms/step - loss: 0.4416 - accuracy: 0.7777 - val_loss: 0.5031 - val_accuracy: 0.7373\n",
      "Epoch 26/100\n",
      "1334/1334 [==============================] - 15s 11ms/step - loss: 0.4396 - accuracy: 0.7760 - val_loss: 0.4998 - val_accuracy: 0.7477\n",
      "Epoch 27/100\n",
      "1334/1334 [==============================] - 15s 11ms/step - loss: 0.4342 - accuracy: 0.7820 - val_loss: 0.4996 - val_accuracy: 0.7486\n",
      "Epoch 28/100\n",
      "1334/1334 [==============================] - 15s 11ms/step - loss: 0.4303 - accuracy: 0.7797 - val_loss: 0.5025 - val_accuracy: 0.7490\n",
      "Epoch 29/100\n",
      "1334/1334 [==============================] - 17s 13ms/step - loss: 0.4194 - accuracy: 0.7904 - val_loss: 0.4932 - val_accuracy: 0.7514\n",
      "Epoch 30/100\n",
      "1334/1334 [==============================] - 15s 11ms/step - loss: 0.4102 - accuracy: 0.7910 - val_loss: 0.4956 - val_accuracy: 0.7519\n",
      "Epoch 31/100\n",
      "1334/1334 [==============================] - 15s 11ms/step - loss: 0.4107 - accuracy: 0.7951 - val_loss: 0.4906 - val_accuracy: 0.7577\n",
      "Epoch 32/100\n",
      "1334/1334 [==============================] - 15s 11ms/step - loss: 0.4017 - accuracy: 0.8004 - val_loss: 0.4909 - val_accuracy: 0.7567\n",
      "Epoch 33/100\n",
      "1334/1334 [==============================] - 15s 11ms/step - loss: 0.3919 - accuracy: 0.8040 - val_loss: 0.4907 - val_accuracy: 0.7551\n",
      "Epoch 34/100\n",
      "1334/1334 [==============================] - 15s 11ms/step - loss: 0.3922 - accuracy: 0.8063 - val_loss: 0.5004 - val_accuracy: 0.7466\n",
      "Epoch 35/100\n",
      "1334/1334 [==============================] - 15s 11ms/step - loss: 0.3907 - accuracy: 0.8070 - val_loss: 0.4894 - val_accuracy: 0.7609\n",
      "Epoch 36/100\n",
      "1334/1334 [==============================] - 15s 11ms/step - loss: 0.3791 - accuracy: 0.8095 - val_loss: 0.4844 - val_accuracy: 0.7609\n",
      "Epoch 37/100\n",
      "1334/1334 [==============================] - 15s 11ms/step - loss: 0.3806 - accuracy: 0.8108 - val_loss: 0.4906 - val_accuracy: 0.7652\n",
      "Epoch 38/100\n",
      "1334/1334 [==============================] - 15s 11ms/step - loss: 0.3742 - accuracy: 0.8136 - val_loss: 0.4794 - val_accuracy: 0.7673\n",
      "Epoch 39/100\n",
      "1334/1334 [==============================] - 15s 11ms/step - loss: 0.3691 - accuracy: 0.8187 - val_loss: 0.4834 - val_accuracy: 0.7625\n",
      "Epoch 40/100\n",
      "1334/1334 [==============================] - 15s 11ms/step - loss: 0.3616 - accuracy: 0.8231 - val_loss: 0.4858 - val_accuracy: 0.7667\n",
      "Epoch 41/100\n",
      "1334/1334 [==============================] - 15s 11ms/step - loss: 0.3631 - accuracy: 0.8230 - val_loss: 0.4812 - val_accuracy: 0.7652\n",
      "Epoch 42/100\n",
      "1334/1334 [==============================] - 15s 11ms/step - loss: 0.3671 - accuracy: 0.8153 - val_loss: 0.4869 - val_accuracy: 0.7713\n",
      "Epoch 43/100\n",
      "1334/1334 [==============================] - 15s 11ms/step - loss: 0.3465 - accuracy: 0.8308 - val_loss: 0.4835 - val_accuracy: 0.7712\n",
      "Epoch 44/100\n",
      "1334/1334 [==============================] - 15s 11ms/step - loss: 0.3468 - accuracy: 0.8301 - val_loss: 0.5170 - val_accuracy: 0.7615\n",
      "Epoch 45/100\n",
      "1334/1334 [==============================] - 15s 11ms/step - loss: 0.3495 - accuracy: 0.8287 - val_loss: 0.4940 - val_accuracy: 0.7757\n",
      "Epoch 46/100\n",
      "1334/1334 [==============================] - 15s 11ms/step - loss: 0.3468 - accuracy: 0.8291 - val_loss: 0.5100 - val_accuracy: 0.7651\n",
      "Epoch 47/100\n",
      "1334/1334 [==============================] - 15s 11ms/step - loss: 0.3359 - accuracy: 0.8325 - val_loss: 0.4830 - val_accuracy: 0.7755\n",
      "Epoch 48/100\n",
      "1334/1334 [==============================] - 15s 11ms/step - loss: 0.3284 - accuracy: 0.8381 - val_loss: 0.5044 - val_accuracy: 0.7732\n",
      "Epoch 49/100\n",
      "1334/1334 [==============================] - 15s 11ms/step - loss: 0.3338 - accuracy: 0.8385 - val_loss: 0.4904 - val_accuracy: 0.7778\n",
      "Epoch 50/100\n",
      "1334/1334 [==============================] - 15s 11ms/step - loss: 0.3271 - accuracy: 0.8391 - val_loss: 0.4831 - val_accuracy: 0.7753\n",
      "Epoch 51/100\n",
      "1334/1334 [==============================] - 15s 11ms/step - loss: 0.3154 - accuracy: 0.8461 - val_loss: 0.4940 - val_accuracy: 0.7746\n",
      "Epoch 52/100\n",
      "1334/1334 [==============================] - 15s 11ms/step - loss: 0.3177 - accuracy: 0.8446 - val_loss: 0.4955 - val_accuracy: 0.7769\n",
      "Epoch 53/100\n",
      "1334/1334 [==============================] - 15s 11ms/step - loss: 0.3124 - accuracy: 0.8476 - val_loss: 0.5167 - val_accuracy: 0.7700\n",
      "Epoch 54/100\n",
      "1334/1334 [==============================] - 17s 13ms/step - loss: 0.3148 - accuracy: 0.8477 - val_loss: 0.5043 - val_accuracy: 0.7746\n",
      "Epoch 55/100\n",
      "1334/1334 [==============================] - 15s 11ms/step - loss: 0.3092 - accuracy: 0.8486 - val_loss: 0.4903 - val_accuracy: 0.7825\n",
      "Epoch 56/100\n",
      "1334/1334 [==============================] - 15s 11ms/step - loss: 0.3105 - accuracy: 0.8500 - val_loss: 0.5210 - val_accuracy: 0.7760\n",
      "Epoch 57/100\n",
      "1334/1334 [==============================] - 15s 11ms/step - loss: 0.3075 - accuracy: 0.8531 - val_loss: 0.4897 - val_accuracy: 0.7798\n",
      "Epoch 58/100\n",
      "1334/1334 [==============================] - 15s 11ms/step - loss: 0.2976 - accuracy: 0.8565 - val_loss: 0.5061 - val_accuracy: 0.7850\n",
      "Epoch 59/100\n",
      "1334/1334 [==============================] - 15s 11ms/step - loss: 0.2953 - accuracy: 0.8595 - val_loss: 0.5240 - val_accuracy: 0.7747\n",
      "Epoch 60/100\n",
      "1334/1334 [==============================] - 15s 11ms/step - loss: 0.2946 - accuracy: 0.8592 - val_loss: 0.5148 - val_accuracy: 0.7850\n",
      "Epoch 61/100\n",
      "1334/1334 [==============================] - 15s 11ms/step - loss: 0.2911 - accuracy: 0.8599 - val_loss: 0.5247 - val_accuracy: 0.7792\n",
      "Epoch 62/100\n",
      "1334/1334 [==============================] - 15s 11ms/step - loss: 0.3002 - accuracy: 0.8576 - val_loss: 0.5148 - val_accuracy: 0.7896\n",
      "Epoch 63/100\n",
      "1334/1334 [==============================] - 15s 11ms/step - loss: 0.2847 - accuracy: 0.8659 - val_loss: 0.5089 - val_accuracy: 0.7837\n",
      "Epoch 64/100\n",
      "1334/1334 [==============================] - 15s 11ms/step - loss: 0.2817 - accuracy: 0.8654 - val_loss: 0.5081 - val_accuracy: 0.7839\n",
      "Epoch 65/100\n",
      "1334/1334 [==============================] - 15s 11ms/step - loss: 0.2783 - accuracy: 0.8682 - val_loss: 0.5156 - val_accuracy: 0.7740\n",
      "Epoch 66/100\n",
      "1334/1334 [==============================] - 15s 11ms/step - loss: 0.2878 - accuracy: 0.8638 - val_loss: 0.5112 - val_accuracy: 0.7848\n",
      "Epoch 67/100\n",
      "1334/1334 [==============================] - 15s 11ms/step - loss: 0.2628 - accuracy: 0.8745 - val_loss: 0.5112 - val_accuracy: 0.7886\n",
      "Epoch 68/100\n",
      "1334/1334 [==============================] - 15s 11ms/step - loss: 0.2724 - accuracy: 0.8696 - val_loss: 0.5472 - val_accuracy: 0.7873\n",
      "Epoch 69/100\n",
      "1334/1334 [==============================] - 15s 11ms/step - loss: 0.2672 - accuracy: 0.8720 - val_loss: 0.5181 - val_accuracy: 0.7721\n",
      "Epoch 70/100\n",
      "1334/1334 [==============================] - 15s 11ms/step - loss: 0.2811 - accuracy: 0.8683 - val_loss: 0.5252 - val_accuracy: 0.7903\n",
      "Epoch 71/100\n",
      "1334/1334 [==============================] - 15s 11ms/step - loss: 0.2615 - accuracy: 0.8758 - val_loss: 0.5349 - val_accuracy: 0.7871\n",
      "Epoch 72/100\n",
      "1334/1334 [==============================] - 15s 11ms/step - loss: 0.2542 - accuracy: 0.8782 - val_loss: 0.5320 - val_accuracy: 0.7902\n",
      "Epoch 73/100\n",
      "1334/1334 [==============================] - 15s 11ms/step - loss: 0.2502 - accuracy: 0.8816 - val_loss: 0.5428 - val_accuracy: 0.7873\n",
      "Epoch 74/100\n",
      "1334/1334 [==============================] - 15s 11ms/step - loss: 0.2545 - accuracy: 0.8793 - val_loss: 0.5432 - val_accuracy: 0.7880\n",
      "Epoch 75/100\n",
      "1334/1334 [==============================] - 15s 11ms/step - loss: 0.2488 - accuracy: 0.8814 - val_loss: 0.5459 - val_accuracy: 0.7898\n",
      "Epoch 76/100\n",
      "1334/1334 [==============================] - 15s 11ms/step - loss: 0.2441 - accuracy: 0.8816 - val_loss: 0.5305 - val_accuracy: 0.7923\n",
      "Epoch 77/100\n",
      "1334/1334 [==============================] - 15s 11ms/step - loss: 0.2499 - accuracy: 0.8830 - val_loss: 0.5556 - val_accuracy: 0.7933\n",
      "Epoch 78/100\n",
      "1334/1334 [==============================] - 15s 11ms/step - loss: 0.2410 - accuracy: 0.8877 - val_loss: 0.5616 - val_accuracy: 0.7910\n",
      "Epoch 79/100\n",
      "1334/1334 [==============================] - 15s 11ms/step - loss: 0.2337 - accuracy: 0.8884 - val_loss: 0.5415 - val_accuracy: 0.7922\n",
      "Epoch 80/100\n",
      "1334/1334 [==============================] - 17s 13ms/step - loss: 0.2472 - accuracy: 0.8817 - val_loss: 0.5573 - val_accuracy: 0.7948\n",
      "Epoch 81/100\n",
      "1334/1334 [==============================] - 15s 11ms/step - loss: 0.2349 - accuracy: 0.8903 - val_loss: 0.5440 - val_accuracy: 0.7926\n",
      "Epoch 82/100\n",
      "1334/1334 [==============================] - 15s 11ms/step - loss: 0.3509 - accuracy: 0.8361 - val_loss: 0.5385 - val_accuracy: 0.7975\n",
      "Epoch 83/100\n",
      "1334/1334 [==============================] - 15s 11ms/step - loss: 0.2444 - accuracy: 0.8822 - val_loss: 0.5444 - val_accuracy: 0.7964\n",
      "Epoch 84/100\n",
      "1334/1334 [==============================] - 17s 13ms/step - loss: 0.2265 - accuracy: 0.8921 - val_loss: 0.5452 - val_accuracy: 0.7852\n",
      "Epoch 85/100\n",
      "1334/1334 [==============================] - 15s 11ms/step - loss: 0.2268 - accuracy: 0.8939 - val_loss: 0.5677 - val_accuracy: 0.7931\n",
      "Epoch 86/100\n",
      "1334/1334 [==============================] - 15s 11ms/step - loss: 0.2475 - accuracy: 0.8853 - val_loss: 0.5758 - val_accuracy: 0.7928\n",
      "Epoch 87/100\n",
      "1334/1334 [==============================] - 15s 11ms/step - loss: 0.2220 - accuracy: 0.8962 - val_loss: 0.5896 - val_accuracy: 0.7982\n",
      "Epoch 88/100\n",
      "1334/1334 [==============================] - 15s 11ms/step - loss: 0.2190 - accuracy: 0.8966 - val_loss: 0.5814 - val_accuracy: 0.7846\n",
      "Epoch 89/100\n",
      "1334/1334 [==============================] - 15s 11ms/step - loss: 0.2193 - accuracy: 0.8978 - val_loss: 0.5418 - val_accuracy: 0.7945\n",
      "Epoch 90/100\n",
      "1334/1334 [==============================] - 15s 11ms/step - loss: 0.2234 - accuracy: 0.8962 - val_loss: 0.6136 - val_accuracy: 0.7951\n",
      "Epoch 91/100\n",
      "1334/1334 [==============================] - 15s 11ms/step - loss: 0.2171 - accuracy: 0.8965 - val_loss: 0.5649 - val_accuracy: 0.7928\n",
      "Epoch 92/100\n",
      "1334/1334 [==============================] - 15s 11ms/step - loss: 0.2097 - accuracy: 0.9032 - val_loss: 0.5969 - val_accuracy: 0.7975\n",
      "Epoch 93/100\n",
      "1334/1334 [==============================] - 15s 11ms/step - loss: 0.2081 - accuracy: 0.9037 - val_loss: 0.5734 - val_accuracy: 0.7952\n",
      "Epoch 94/100\n",
      "1334/1334 [==============================] - 17s 13ms/step - loss: 0.2244 - accuracy: 0.8969 - val_loss: 0.5869 - val_accuracy: 0.7806\n",
      "Epoch 95/100\n",
      "1334/1334 [==============================] - 15s 11ms/step - loss: 0.2087 - accuracy: 0.9037 - val_loss: 0.6020 - val_accuracy: 0.7972\n",
      "Epoch 96/100\n",
      "1334/1334 [==============================] - 15s 11ms/step - loss: 0.2222 - accuracy: 0.8973 - val_loss: 0.5662 - val_accuracy: 0.7984\n",
      "Epoch 97/100\n",
      "1334/1334 [==============================] - 15s 11ms/step - loss: 0.2007 - accuracy: 0.9072 - val_loss: 0.6076 - val_accuracy: 0.7924\n",
      "Epoch 98/100\n",
      "1334/1334 [==============================] - 15s 11ms/step - loss: 0.2170 - accuracy: 0.8997 - val_loss: 0.5317 - val_accuracy: 0.7978\n",
      "Epoch 99/100\n",
      "1334/1334 [==============================] - 15s 11ms/step - loss: 0.2288 - accuracy: 0.8986 - val_loss: 0.5907 - val_accuracy: 0.8007\n",
      "Epoch 100/100\n",
      "1334/1334 [==============================] - 15s 11ms/step - loss: 0.1995 - accuracy: 0.9079 - val_loss: 0.6042 - val_accuracy: 0.7963\n",
      "Fold 2, 100 epochs, 1513 sec\n"
     ]
    },
    {
     "data": {
      "image/png": "[encoded data removed]",
      "text/plain": [
       "<Figure size 576x360 with 1 Axes>"
      ]
     },
     "metadata": {
      "needs_background": "light",
      "tags": []
     },
     "output_type": "display_data"
    },
    {
     "name": "stdout",
     "output_type": "stream",
     "text": [
      "MODEL\n",
      "make_DNN\n",
      "input shape: (64, 4)\n",
      "FIT\n",
      "Epoch 1/100\n",
      "1334/1334 [==============================] - 20s 12ms/step - loss: 0.6827 - accuracy: 0.5614 - val_loss: 0.6190 - val_accuracy: 0.6487\n",
      "Epoch 2/100\n",
      "1334/1334 [==============================] - 15s 11ms/step - loss: 0.6070 - accuracy: 0.6618 - val_loss: 0.5644 - val_accuracy: 0.6939\n",
      "Epoch 3/100\n",
      "1334/1334 [==============================] - 15s 11ms/step - loss: 0.5644 - accuracy: 0.6913 - val_loss: 0.5601 - val_accuracy: 0.6951\n",
      "Epoch 4/100\n",
      "1334/1334 [==============================] - 17s 13ms/step - loss: 0.5589 - accuracy: 0.6956 - val_loss: 0.5475 - val_accuracy: 0.7027\n",
      "Epoch 5/100\n",
      "1334/1334 [==============================] - 15s 11ms/step - loss: 0.5477 - accuracy: 0.7035 - val_loss: 0.5488 - val_accuracy: 0.7034\n",
      "Epoch 6/100\n",
      "1334/1334 [==============================] - 15s 11ms/step - loss: 0.5363 - accuracy: 0.7139 - val_loss: 0.5388 - val_accuracy: 0.7093\n",
      "Epoch 7/100\n",
      "1334/1334 [==============================] - 15s 11ms/step - loss: 0.5339 - accuracy: 0.7112 - val_loss: 0.5402 - val_accuracy: 0.7072\n",
      "Epoch 8/100\n",
      "1334/1334 [==============================] - 15s 11ms/step - loss: 0.5322 - accuracy: 0.7111 - val_loss: 0.5381 - val_accuracy: 0.7038\n",
      "Epoch 9/100\n",
      "1334/1334 [==============================] - 15s 11ms/step - loss: 0.5323 - accuracy: 0.7110 - val_loss: 0.5365 - val_accuracy: 0.7108\n",
      "Epoch 10/100\n",
      "1334/1334 [==============================] - 15s 11ms/step - loss: 0.5263 - accuracy: 0.7147 - val_loss: 0.5304 - val_accuracy: 0.7119\n",
      "Epoch 11/100\n",
      "1334/1334 [==============================] - 15s 11ms/step - loss: 0.5210 - accuracy: 0.7183 - val_loss: 0.5255 - val_accuracy: 0.7158\n",
      "Epoch 12/100\n",
      "1334/1334 [==============================] - 15s 11ms/step - loss: 0.5158 - accuracy: 0.7242 - val_loss: 0.5282 - val_accuracy: 0.7164\n",
      "Epoch 13/100\n",
      "1334/1334 [==============================] - 17s 13ms/step - loss: 0.5123 - accuracy: 0.7252 - val_loss: 0.5317 - val_accuracy: 0.7163\n",
      "Epoch 14/100\n",
      "1334/1334 [==============================] - 15s 11ms/step - loss: 0.5087 - accuracy: 0.7284 - val_loss: 0.5300 - val_accuracy: 0.7146\n",
      "Epoch 15/100\n",
      "1334/1334 [==============================] - 15s 11ms/step - loss: 0.5086 - accuracy: 0.7299 - val_loss: 0.5297 - val_accuracy: 0.7105\n",
      "Epoch 16/100\n",
      "1334/1334 [==============================] - 15s 11ms/step - loss: 0.5167 - accuracy: 0.7283 - val_loss: 0.5257 - val_accuracy: 0.7174\n",
      "Epoch 17/100\n",
      "1334/1334 [==============================] - 15s 11ms/step - loss: 0.4985 - accuracy: 0.7392 - val_loss: 0.5269 - val_accuracy: 0.7183\n",
      "Epoch 18/100\n",
      "1334/1334 [==============================] - 15s 11ms/step - loss: 0.4983 - accuracy: 0.7416 - val_loss: 0.5202 - val_accuracy: 0.7215\n",
      "Epoch 19/100\n",
      "1334/1334 [==============================] - 15s 11ms/step - loss: 0.4891 - accuracy: 0.7412 - val_loss: 0.5253 - val_accuracy: 0.7188\n",
      "Epoch 20/100\n",
      "1334/1334 [==============================] - 15s 11ms/step - loss: 0.4839 - accuracy: 0.7496 - val_loss: 0.5298 - val_accuracy: 0.7192\n",
      "Epoch 21/100\n",
      "1334/1334 [==============================] - 15s 11ms/step - loss: 0.4858 - accuracy: 0.7466 - val_loss: 0.5210 - val_accuracy: 0.7251\n",
      "Epoch 22/100\n",
      "1334/1334 [==============================] - 15s 11ms/step - loss: 0.4866 - accuracy: 0.7453 - val_loss: 0.5131 - val_accuracy: 0.7328\n",
      "Epoch 23/100\n",
      "1334/1334 [==============================] - 15s 11ms/step - loss: 0.4715 - accuracy: 0.7640 - val_loss: 0.5011 - val_accuracy: 0.7354\n",
      "Epoch 24/100\n",
      "1334/1334 [==============================] - 15s 11ms/step - loss: 0.4587 - accuracy: 0.7661 - val_loss: 0.5028 - val_accuracy: 0.7412\n",
      "Epoch 25/100\n",
      "1334/1334 [==============================] - 17s 13ms/step - loss: 0.4530 - accuracy: 0.7729 - val_loss: 0.6086 - val_accuracy: 0.6620\n",
      "Epoch 26/100\n",
      "1334/1334 [==============================] - 15s 11ms/step - loss: 0.5748 - accuracy: 0.6914 - val_loss: 0.5466 - val_accuracy: 0.7010\n",
      "Epoch 27/100\n",
      "1334/1334 [==============================] - 15s 11ms/step - loss: 0.5307 - accuracy: 0.7173 - val_loss: 0.5196 - val_accuracy: 0.7259\n",
      "Epoch 28/100\n",
      "1334/1334 [==============================] - 17s 13ms/step - loss: 0.4757 - accuracy: 0.7585 - val_loss: 0.4894 - val_accuracy: 0.7497\n",
      "Epoch 29/100\n",
      "1334/1334 [==============================] - 15s 11ms/step - loss: 0.4503 - accuracy: 0.7751 - val_loss: 0.4787 - val_accuracy: 0.7555\n",
      "Epoch 30/100\n",
      "1334/1334 [==============================] - 15s 11ms/step - loss: 0.4359 - accuracy: 0.7853 - val_loss: 0.4700 - val_accuracy: 0.7627\n",
      "Epoch 31/100\n",
      "1334/1334 [==============================] - 15s 11ms/step - loss: 0.4199 - accuracy: 0.7937 - val_loss: 0.4546 - val_accuracy: 0.7683\n",
      "Epoch 32/100\n",
      "1334/1334 [==============================] - 15s 11ms/step - loss: 0.4352 - accuracy: 0.7894 - val_loss: 0.4493 - val_accuracy: 0.7722\n",
      "Epoch 33/100\n",
      "1334/1334 [==============================] - 15s 11ms/step - loss: 0.4049 - accuracy: 0.8054 - val_loss: 0.4542 - val_accuracy: 0.7733\n",
      "Epoch 34/100\n",
      "1334/1334 [==============================] - 15s 11ms/step - loss: 0.4030 - accuracy: 0.8044 - val_loss: 0.4805 - val_accuracy: 0.7666\n",
      "Epoch 35/100\n",
      "1334/1334 [==============================] - 15s 11ms/step - loss: 0.3898 - accuracy: 0.8113 - val_loss: 0.4812 - val_accuracy: 0.7754\n",
      "Epoch 36/100\n",
      "1334/1334 [==============================] - 15s 11ms/step - loss: 0.4248 - accuracy: 0.7924 - val_loss: 0.4543 - val_accuracy: 0.7780\n",
      "Epoch 37/100\n",
      "1334/1334 [==============================] - 15s 11ms/step - loss: 0.3745 - accuracy: 0.8209 - val_loss: 0.4275 - val_accuracy: 0.7987\n",
      "Epoch 38/100\n",
      "1334/1334 [==============================] - 15s 11ms/step - loss: 0.3457 - accuracy: 0.8369 - val_loss: 0.3891 - val_accuracy: 0.8143\n",
      "Epoch 39/100\n",
      "1334/1334 [==============================] - 15s 11ms/step - loss: 0.3399 - accuracy: 0.8408 - val_loss: 0.5073 - val_accuracy: 0.7439\n",
      "Epoch 40/100\n",
      "1334/1334 [==============================] - 15s 11ms/step - loss: 0.4024 - accuracy: 0.8112 - val_loss: 0.4565 - val_accuracy: 0.7743\n",
      "Epoch 41/100\n",
      "1334/1334 [==============================] - 15s 11ms/step - loss: 0.5057 - accuracy: 0.7182 - val_loss: 0.6031 - val_accuracy: 0.6604\n",
      "Epoch 42/100\n",
      "1334/1334 [==============================] - 15s 11ms/step - loss: 0.5964 - accuracy: 0.6672 - val_loss: 0.5869 - val_accuracy: 0.6798\n",
      "Epoch 43/100\n",
      "1334/1334 [==============================] - 15s 11ms/step - loss: 0.5661 - accuracy: 0.6894 - val_loss: 0.5610 - val_accuracy: 0.6987\n",
      "Epoch 44/100\n",
      "1334/1334 [==============================] - 15s 11ms/step - loss: 0.5564 - accuracy: 0.6952 - val_loss: 0.5502 - val_accuracy: 0.7034\n",
      "Epoch 45/100\n",
      "1334/1334 [==============================] - 15s 11ms/step - loss: 0.5402 - accuracy: 0.7053 - val_loss: 0.5359 - val_accuracy: 0.7095\n",
      "Epoch 46/100\n",
      "1334/1334 [==============================] - 15s 11ms/step - loss: 0.5321 - accuracy: 0.7149 - val_loss: 0.5287 - val_accuracy: 0.7165\n",
      "Epoch 47/100\n",
      "1334/1334 [==============================] - 15s 11ms/step - loss: 0.5228 - accuracy: 0.7261 - val_loss: 0.5232 - val_accuracy: 0.7240\n",
      "Epoch 48/100\n",
      "1334/1334 [==============================] - 15s 11ms/step - loss: 0.5070 - accuracy: 0.7334 - val_loss: 0.5106 - val_accuracy: 0.7307\n",
      "Epoch 49/100\n",
      "1334/1334 [==============================] - 15s 11ms/step - loss: 0.4997 - accuracy: 0.7407 - val_loss: 0.5037 - val_accuracy: 0.7384\n",
      "Epoch 50/100\n",
      "1334/1334 [==============================] - 15s 11ms/step - loss: 0.4911 - accuracy: 0.7494 - val_loss: 0.6384 - val_accuracy: 0.6261\n",
      "Epoch 51/100\n",
      "1334/1334 [==============================] - 15s 11ms/step - loss: 0.6133 - accuracy: 0.6552 - val_loss: 0.5532 - val_accuracy: 0.7117\n",
      "Epoch 52/100\n",
      "1334/1334 [==============================] - 15s 11ms/step - loss: 0.5283 - accuracy: 0.7310 - val_loss: 0.4954 - val_accuracy: 0.7525\n",
      "Epoch 53/100\n",
      "1334/1334 [==============================] - 15s 11ms/step - loss: 0.4502 - accuracy: 0.7813 - val_loss: 0.1783 - val_accuracy: 0.9297\n",
      "Epoch 54/100\n",
      "1334/1334 [==============================] - 15s 11ms/step - loss: 0.1562 - accuracy: 0.9399 - val_loss: 0.2289 - val_accuracy: 0.9261\n",
      "Epoch 55/100\n",
      "1334/1334 [==============================] - 15s 11ms/step - loss: 0.1174 - accuracy: 0.9589 - val_loss: 0.0717 - val_accuracy: 0.9725\n",
      "Epoch 56/100\n",
      "1334/1334 [==============================] - 15s 11ms/step - loss: 0.0632 - accuracy: 0.9788 - val_loss: 0.0572 - val_accuracy: 0.9776\n",
      "Epoch 57/100\n",
      "1334/1334 [==============================] - 15s 11ms/step - loss: 0.0478 - accuracy: 0.9829 - val_loss: 0.0679 - val_accuracy: 0.9767\n",
      "Epoch 58/100\n",
      "1334/1334 [==============================] - 14s 11ms/step - loss: 0.0386 - accuracy: 0.9863 - val_loss: 0.0890 - val_accuracy: 0.9683\n",
      "Epoch 59/100\n",
      "1334/1334 [==============================] - 15s 11ms/step - loss: 0.0330 - accuracy: 0.9879 - val_loss: 0.0438 - val_accuracy: 0.9849\n",
      "Epoch 60/100\n",
      "1334/1334 [==============================] - 15s 11ms/step - loss: 0.0278 - accuracy: 0.9898 - val_loss: 0.0275 - val_accuracy: 0.9900\n",
      "Epoch 61/100\n",
      "1334/1334 [==============================] - 15s 11ms/step - loss: 0.0253 - accuracy: 0.9917 - val_loss: 0.0300 - val_accuracy: 0.9896\n",
      "Epoch 62/100\n",
      "1334/1334 [==============================] - 15s 11ms/step - loss: 0.0246 - accuracy: 0.9919 - val_loss: 0.0266 - val_accuracy: 0.9903\n",
      "Epoch 63/100\n",
      "1334/1334 [==============================] - 15s 11ms/step - loss: 0.0208 - accuracy: 0.9929 - val_loss: 0.0232 - val_accuracy: 0.9923\n",
      "Epoch 64/100\n",
      "1334/1334 [==============================] - 15s 11ms/step - loss: 0.0178 - accuracy: 0.9939 - val_loss: 0.0301 - val_accuracy: 0.9885\n",
      "Epoch 65/100\n",
      "1334/1334 [==============================] - 15s 11ms/step - loss: 0.0199 - accuracy: 0.9934 - val_loss: 0.0294 - val_accuracy: 0.9903\n",
      "Epoch 66/100\n",
      "1334/1334 [==============================] - 15s 11ms/step - loss: 0.0185 - accuracy: 0.9937 - val_loss: 0.0227 - val_accuracy: 0.9923\n",
      "Epoch 67/100\n",
      "1334/1334 [==============================] - 15s 11ms/step - loss: 0.0183 - accuracy: 0.9941 - val_loss: 0.0224 - val_accuracy: 0.9925\n",
      "Epoch 68/100\n",
      "1334/1334 [==============================] - 15s 11ms/step - loss: 0.0146 - accuracy: 0.9954 - val_loss: 0.0180 - val_accuracy: 0.9944\n",
      "Epoch 69/100\n",
      "1334/1334 [==============================] - 15s 11ms/step - loss: 0.0088 - accuracy: 0.9968 - val_loss: 0.0162 - val_accuracy: 0.9940\n",
      "Epoch 70/100\n",
      "1334/1334 [==============================] - 15s 11ms/step - loss: 0.0112 - accuracy: 0.9966 - val_loss: 0.0303 - val_accuracy: 0.9888\n",
      "Epoch 71/100\n",
      "1334/1334 [==============================] - 15s 11ms/step - loss: 0.0138 - accuracy: 0.9952 - val_loss: 0.0159 - val_accuracy: 0.9942\n",
      "Epoch 72/100\n",
      "1334/1334 [==============================] - 15s 11ms/step - loss: 0.0158 - accuracy: 0.9955 - val_loss: 0.0208 - val_accuracy: 0.9932\n",
      "Epoch 73/100\n",
      "1334/1334 [==============================] - 15s 11ms/step - loss: 0.0136 - accuracy: 0.9957 - val_loss: 0.0146 - val_accuracy: 0.9952\n",
      "Epoch 74/100\n",
      "1334/1334 [==============================] - 15s 11ms/step - loss: 0.0260 - accuracy: 0.9935 - val_loss: 0.0152 - val_accuracy: 0.9945\n",
      "Epoch 75/100\n",
      "1334/1334 [==============================] - 15s 11ms/step - loss: 0.0083 - accuracy: 0.9977 - val_loss: 0.0153 - val_accuracy: 0.9953\n",
      "Epoch 76/100\n",
      "1334/1334 [==============================] - 15s 11ms/step - loss: 0.0069 - accuracy: 0.9979 - val_loss: 0.0161 - val_accuracy: 0.9938\n",
      "Epoch 77/100\n",
      "1334/1334 [==============================] - 15s 11ms/step - loss: 0.0090 - accuracy: 0.9972 - val_loss: 0.0159 - val_accuracy: 0.9945\n",
      "Epoch 78/100\n",
      "1334/1334 [==============================] - 15s 11ms/step - loss: 0.0054 - accuracy: 0.9981 - val_loss: 0.0149 - val_accuracy: 0.9958\n",
      "Epoch 79/100\n",
      "1334/1334 [==============================] - 15s 11ms/step - loss: 0.0255 - accuracy: 0.9934 - val_loss: 0.0179 - val_accuracy: 0.9948\n",
      "Epoch 80/100\n",
      "1334/1334 [==============================] - 15s 11ms/step - loss: 0.0072 - accuracy: 0.9977 - val_loss: 0.0140 - val_accuracy: 0.9953\n",
      "Epoch 81/100\n",
      "1334/1334 [==============================] - 15s 11ms/step - loss: 0.0062 - accuracy: 0.9982 - val_loss: 0.0149 - val_accuracy: 0.9958\n",
      "Epoch 82/100\n",
      "1334/1334 [==============================] - 15s 11ms/step - loss: 0.0041 - accuracy: 0.9987 - val_loss: 0.0257 - val_accuracy: 0.9919\n",
      "Epoch 83/100\n",
      "1334/1334 [==============================] - 15s 11ms/step - loss: 0.0084 - accuracy: 0.9975 - val_loss: 0.0136 - val_accuracy: 0.9957\n",
      "Epoch 84/100\n",
      "1334/1334 [==============================] - 15s 11ms/step - loss: 0.0070 - accuracy: 0.9982 - val_loss: 0.0136 - val_accuracy: 0.9954\n",
      "Epoch 85/100\n",
      "1334/1334 [==============================] - 15s 11ms/step - loss: 0.0039 - accuracy: 0.9991 - val_loss: 0.0154 - val_accuracy: 0.9945\n",
      "Epoch 86/100\n",
      "1334/1334 [==============================] - 16s 12ms/step - loss: 0.0066 - accuracy: 0.9982 - val_loss: 0.0104 - val_accuracy: 0.9963\n",
      "Epoch 87/100\n",
      "1334/1334 [==============================] - 16s 12ms/step - loss: 0.0114 - accuracy: 0.9971 - val_loss: 0.0108 - val_accuracy: 0.9969\n",
      "Epoch 88/100\n",
      "1334/1334 [==============================] - 16s 12ms/step - loss: 0.0053 - accuracy: 0.9986 - val_loss: 0.0099 - val_accuracy: 0.9970\n",
      "Epoch 89/100\n",
      "1334/1334 [==============================] - 15s 12ms/step - loss: 0.0061 - accuracy: 0.9983 - val_loss: 0.0155 - val_accuracy: 0.9965\n",
      "Epoch 90/100\n",
      "1334/1334 [==============================] - 15s 11ms/step - loss: 0.0026 - accuracy: 0.9993 - val_loss: 0.0150 - val_accuracy: 0.9954\n",
      "Epoch 91/100\n",
      "1334/1334 [==============================] - 15s 11ms/step - loss: 0.0145 - accuracy: 0.9964 - val_loss: 0.0109 - val_accuracy: 0.9968\n",
      "Epoch 92/100\n",
      "1334/1334 [==============================] - 16s 12ms/step - loss: 0.0058 - accuracy: 0.9983 - val_loss: 0.0139 - val_accuracy: 0.9966\n",
      "Epoch 93/100\n",
      "1334/1334 [==============================] - 15s 12ms/step - loss: 0.0028 - accuracy: 0.9991 - val_loss: 0.0107 - val_accuracy: 0.9970\n",
      "Epoch 94/100\n",
      "1334/1334 [==============================] - 18s 13ms/step - loss: 0.0124 - accuracy: 0.9974 - val_loss: 0.0126 - val_accuracy: 0.9958\n",
      "Epoch 95/100\n",
      "1334/1334 [==============================] - 15s 11ms/step - loss: 0.0052 - accuracy: 0.9987 - val_loss: 0.0118 - val_accuracy: 0.9969\n",
      "Epoch 96/100\n",
      "1334/1334 [==============================] - 15s 11ms/step - loss: 0.0047 - accuracy: 0.9989 - val_loss: 0.0202 - val_accuracy: 0.9941\n",
      "Epoch 97/100\n",
      "1334/1334 [==============================] - 15s 11ms/step - loss: 0.0354 - accuracy: 0.9861 - val_loss: 0.0661 - val_accuracy: 0.9785\n",
      "Epoch 98/100\n",
      "1334/1334 [==============================] - 16s 12ms/step - loss: 0.0193 - accuracy: 0.9946 - val_loss: 0.0103 - val_accuracy: 0.9964\n",
      "Epoch 99/100\n",
      "1334/1334 [==============================] - 16s 12ms/step - loss: 0.0041 - accuracy: 0.9990 - val_loss: 0.0154 - val_accuracy: 0.9949\n",
      "Epoch 100/100\n",
      "1334/1334 [==============================] - 16s 12ms/step - loss: 0.0090 - accuracy: 0.9980 - val_loss: 0.0116 - val_accuracy: 0.9963\n",
      "Fold 3, 100 epochs, 1509 sec\n"
     ]
    },
    {
     "data": {
      "image/png": "[encoded data removed]",
      "text/plain": [
       "<Figure size 576x360 with 1 Axes>"
      ]
     },
     "metadata": {
      "needs_background": "light",
      "tags": []
     },
     "output_type": "display_data"
    }
   ],
   "source": [
    "do_cross_validation(X,y)"
   ]
  },
  {
   "cell_type": "code",
   "execution_count": 12,
   "metadata": {
    "colab": {
     "base_uri": "https://localhost:8080/"
    },
    "id": "e-jG1h5fj2Ua",
    "outputId": "1b3642d6-a61b-4dfe-c635-f30996f53f83"
   },
   "outputs": [
    {
     "name": "stdout",
     "output_type": "stream",
     "text": [
      "The best model parameters were saved during cross-validation.\n",
      "Best was defined as maximum validation accuracy at end of any epoch.\n",
      "Now re-load the best model and test it on previously unseen data.\n",
      "Test on 1000 PC seqs\n",
      "Test on 1000 NC seqs\n",
      "accuracy: 99.60%\n"
     ]
    }
   ],
   "source": [
    "from keras.models import load_model\n",
    "X,y = prepare_inputs_len_x_alphabet(pc_test,nc_test,ALPHABET)\n",
    "best_model=load_model(MODELPATH)\n",
    "scores = best_model.evaluate(X, y, verbose=0)\n",
    "print(\"The best model parameters were saved during cross-validation.\")\n",
    "print(\"Best was defined as maximum validation accuracy at end of any epoch.\")\n",
    "print(\"Now re-load the best model and test it on previously unseen data.\")\n",
    "print(\"Test on\",len(pc_test),\"PC seqs\")\n",
    "print(\"Test on\",len(nc_test),\"NC seqs\")\n",
    "print(\"%s: %.2f%%\" % (best_model.metrics_names[1], scores[1]*100))\n"
   ]
  },
  {
   "cell_type": "code",
   "execution_count": 13,
   "metadata": {
    "colab": {
     "base_uri": "https://localhost:8080/",
     "height": 312
    },
    "id": "VycUnmvUj2Ue",
    "outputId": "dc4d0483-37b4-415b-ad7f-89810cd4c8a0"
   },
   "outputs": [
    {
     "data": {
      "image/png": "[encoded data removed]",
      "text/plain": [
       "<Figure size 432x288 with 1 Axes>"
      ]
     },
     "metadata": {
      "needs_background": "light",
      "tags": []
     },
     "output_type": "display_data"
    },
    {
     "name": "stdout",
     "output_type": "stream",
     "text": [
      "AUC: 99.99%\n"
     ]
    }
   ],
   "source": [
    "from sklearn.metrics import roc_curve\n",
    "from sklearn.metrics import roc_auc_score\n",
    "ns_probs = [0 for _ in range(len(y))]\n",
    "bm_probs = best_model.predict(X)\n",
    "ns_auc = roc_auc_score(y, ns_probs)\n",
    "bm_auc = roc_auc_score(y, bm_probs)\n",
    "ns_fpr, ns_tpr, _ = roc_curve(y, ns_probs)\n",
    "bm_fpr, bm_tpr, _ = roc_curve(y, bm_probs)\n",
    "plt.plot(ns_fpr, ns_tpr, linestyle='--', label='Guess, auc=%.4f'%ns_auc)\n",
    "plt.plot(bm_fpr, bm_tpr, marker='.', label='Model, auc=%.4f'%bm_auc)\n",
    "plt.title('ROC')\n",
    "plt.xlabel('False Positive Rate')\n",
    "plt.ylabel('True Positive Rate')\n",
    "plt.legend()\n",
    "plt.show()\n",
    "print(\"%s: %.2f%%\" %('AUC',bm_auc*100.0))\n"
   ]
  },
  {
   "cell_type": "code",
   "execution_count": 14,
   "metadata": {
    "colab": {
     "base_uri": "https://localhost:8080/",
     "height": 36
    },
    "id": "kFMb6rGNj2Ug",
    "outputId": "a4a96b4b-7112-4295-828e-c5f211d67481"
   },
   "outputs": [
    {
     "data": {
      "application/vnd.google.colaboratory.intrinsic+json": {
       "type": "string"
      },
      "text/plain": [
       "'2021-06-21 15:55:04 UTC'"
      ]
     },
     "execution_count": 14,
     "metadata": {
      "tags": []
     },
     "output_type": "execute_result"
    }
   ],
   "source": [
    "t = time.time()\n",
    "time.strftime('%Y-%m-%d %H:%M:%S %Z', time.localtime(t))"
   ]
  },
  {
   "cell_type": "code",
   "execution_count": 14,
   "metadata": {
    "id": "e-mEgDrQjUzF"
   },
   "outputs": [],
   "source": []
  }
 ],
 "metadata": {
  "accelerator": "GPU",
  "colab": {
   "collapsed_sections": [],
   "name": "ConvRecur_106.ipynb",
   "provenance": []
  },
  "kernelspec": {
   "display_name": "Python 3",
   "language": "python",
   "name": "python3"
  },
  "language_info": {
   "codemirror_mode": {
    "name": "ipython",
    "version": 3
   },
   "file_extension": ".py",
   "mimetype": "text/x-python",
   "name": "python",
   "nbconvert_exporter": "python",
   "pygments_lexer": "ipython3",
   "version": "3.8.3"
  }
 },
 "nbformat": 4,
 "nbformat_minor": 1
}
