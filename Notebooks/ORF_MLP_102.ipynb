{
  "nbformat": 4,
  "nbformat_minor": 0,
  "metadata": {
    "accelerator": "GPU",
    "colab": {
      "name": "ORF_MLP_102.ipynb",
      "provenance": [],
      "collapsed_sections": []
    },
    "kernelspec": {
      "display_name": "Python 3",
      "language": "python",
      "name": "python3"
    },
    "language_info": {
      "codemirror_mode": {
        "name": "ipython",
        "version": 3
      },
      "file_extension": ".py",
      "mimetype": "text/x-python",
      "name": "python",
      "nbconvert_exporter": "python",
      "pygments_lexer": "ipython3",
      "version": "3.8.3"
    }
  },
  "cells": [
    {
      "cell_type": "markdown",
      "metadata": {
        "id": "0asdcdunj2Tx"
      },
      "source": [
        "# ORF recognition by MLP\n",
        "\n",
        "Compare to ORF_CNN_105."
      ]
    },
    {
      "cell_type": "code",
      "metadata": {
        "colab": {
          "base_uri": "https://localhost:8080/",
          "height": 36
        },
        "id": "QP1VTRNQj2UO",
        "outputId": "1803f69b-fec7-4297-e533-2b6ab3dd8762"
      },
      "source": [
        "import time \n",
        "t = time.time()\n",
        "time.strftime('%Y-%m-%d %H:%M:%S %Z', time.localtime(t))"
      ],
      "execution_count": 25,
      "outputs": [
        {
          "output_type": "execute_result",
          "data": {
            "application/vnd.google.colaboratory.intrinsic+json": {
              "type": "string"
            },
            "text/plain": [
              "'2021-05-17 15:54:20 UTC'"
            ]
          },
          "metadata": {
            "tags": []
          },
          "execution_count": 25
        }
      ]
    },
    {
      "cell_type": "code",
      "metadata": {
        "id": "Nhz4GKonj2T_"
      },
      "source": [
        "PC_SEQUENCES=20000   # how many protein-coding sequences\n",
        "NC_SEQUENCES=20000   # how many non-coding sequences\n",
        "PC_TESTS=1000\n",
        "NC_TESTS=1000\n",
        "BASES=1000            # how long is each sequence\n",
        "ALPHABET=4          # how many different letters are possible\n",
        "CODON_SPACE=64\n",
        "INPUT_SHAPE_2D = (BASES,ALPHABET,1) # Conv2D needs 3D inputs\n",
        "INPUT_SHAPE = (BASES,CODON_SPACE) # Conv1D needs 2D inputs\n",
        "#FILTERS = 32   # how many different patterns the model looks for\n",
        "#WIDTH = 3   # how wide each pattern is, in bases\n",
        "#STRIDE_2D = (1,1)  # For Conv2D how far in each direction\n",
        "#STRIDE = 1 # For Conv1D, how far between pattern matches, in bases\n",
        "NEURONS = 128\n",
        "#DROP_RATE = 0.01\n",
        "EPOCHS=50  # how many times to train on all the data\n",
        "SPLITS=5  # SPLITS=3 means train on 2/3 and validate on 1/3 \n",
        "FOLDS=5  # train the model this many times (range 1 to SPLITS)"
      ],
      "execution_count": 26,
      "outputs": []
    },
    {
      "cell_type": "code",
      "metadata": {
        "colab": {
          "base_uri": "https://localhost:8080/"
        },
        "id": "lr7q90rxj2UE",
        "outputId": "e2502c77-2fa7-4d8a-cf97-dbbca19f9262"
      },
      "source": [
        "import sys\n",
        "try:\n",
        "    from google.colab import drive\n",
        "    IN_COLAB = True\n",
        "    print(\"On Google CoLab, mount cloud-local file, get our code from GitHub.\")\n",
        "    PATH='/content/drive/'\n",
        "    #drive.mount(PATH,force_remount=True)  # hardly ever need this\n",
        "    #drive.mount(PATH)    # Google will require login credentials\n",
        "    DATAPATH=PATH+'My Drive/data/'  # must end in \"/\"\n",
        "    import requests\n",
        "    r = requests.get('https://raw.githubusercontent.com/ShepherdCode/Soars2021/master/SimTools/RNA_gen.py')\n",
        "    with open('RNA_gen.py', 'w') as f:\n",
        "        f.write(r.text)  \n",
        "    from RNA_gen import *\n",
        "    r = requests.get('https://raw.githubusercontent.com/ShepherdCode/Soars2021/master/SimTools/RNA_describe.py')\n",
        "    with open('RNA_describe.py', 'w') as f:\n",
        "        f.write(r.text)  \n",
        "    from RNA_describe import *\n",
        "    r = requests.get('https://raw.githubusercontent.com/ShepherdCode/Soars2021/master/SimTools/RNA_prep.py')\n",
        "    with open('RNA_prep.py', 'w') as f:\n",
        "        f.write(r.text)  \n",
        "    from RNA_prep import *\n",
        "except:\n",
        "    print(\"CoLab not working. On my PC, use relative paths.\")\n",
        "    IN_COLAB = False\n",
        "    DATAPATH='data/'  # must end in \"/\"\n",
        "    sys.path.append(\"..\") # append parent dir in order to use sibling dirs\n",
        "    from SimTools.RNA_gen import *\n",
        "    from SimTools.RNA_describe import *\n",
        "    from SimTools.RNA_prep import *\n",
        "\n",
        "MODELPATH=\"BestModel\"  # saved on cloud instance and lost after logout\n",
        "#MODELPATH=DATAPATH+MODELPATH  # saved on Google Drive but requires login\n",
        "\n",
        "if not assert_imported_RNA_gen():\n",
        "    print(\"ERROR: Cannot use RNA_gen.\")\n",
        "if not assert_imported_RNA_prep():\n",
        "    print(\"ERROR: Cannot use RNA_prep.\")"
      ],
      "execution_count": 27,
      "outputs": [
        {
          "output_type": "stream",
          "text": [
            "On Google CoLab, mount cloud-local file, get our code from GitHub.\n"
          ],
          "name": "stdout"
        }
      ]
    },
    {
      "cell_type": "code",
      "metadata": {
        "id": "EGDXH8Uwj2UM"
      },
      "source": [
        "from os import listdir\n",
        "import csv\n",
        "from zipfile import ZipFile\n",
        "\n",
        "import numpy as np\n",
        "import pandas as pd\n",
        "from scipy import stats  # mode\n",
        "\n",
        "from sklearn.preprocessing import StandardScaler\n",
        "from sklearn.model_selection import KFold\n",
        "from sklearn.model_selection import cross_val_score\n",
        "\n",
        "from keras.models import Sequential\n",
        "from keras.layers import Dense,Embedding,Dropout\n",
        "from keras.layers import Conv1D,Conv2D\n",
        "from keras.layers import Flatten,MaxPooling1D,MaxPooling2D\n",
        "from keras.losses import BinaryCrossentropy\n",
        "# tf.keras.losses.BinaryCrossentropy\n",
        "\n",
        "import matplotlib.pyplot as plt\n",
        "from matplotlib import colors\n",
        "mycmap = colors.ListedColormap(['red','blue'])  # list color for label 0 then 1\n",
        "np.set_printoptions(precision=2)\n"
      ],
      "execution_count": 28,
      "outputs": []
    },
    {
      "cell_type": "code",
      "metadata": {
        "colab": {
          "base_uri": "https://localhost:8080/"
        },
        "id": "Q0FetlLPj2UQ",
        "outputId": "cb071bbf-a94d-4d1c-a3d8-4dfc2f366c34"
      },
      "source": [
        "# Use code from our SimTools library.\n",
        "def make_generators(seq_len):\n",
        "    pcgen = Collection_Generator()  \n",
        "    pcgen.get_len_oracle().set_mean(seq_len)\n",
        "    pcgen.set_seq_oracle(Transcript_Oracle())\n",
        "    ncgen = Collection_Generator()  \n",
        "    ncgen.get_len_oracle().set_mean(seq_len)\n",
        "    return pcgen,ncgen\n",
        "\n",
        "pc_sim,nc_sim = make_generators(BASES)\n",
        "pc_train = pc_sim.get_sequences(PC_SEQUENCES)\n",
        "nc_train = nc_sim.get_sequences(NC_SEQUENCES)\n",
        "print(\"Train on\",len(pc_train),\"PC seqs\")\n",
        "print(\"Train on\",len(nc_train),\"NC seqs\")"
      ],
      "execution_count": 29,
      "outputs": [
        {
          "output_type": "stream",
          "text": [
            "Train on 20000 PC seqs\n",
            "Train on 20000 NC seqs\n"
          ],
          "name": "stdout"
        }
      ]
    },
    {
      "cell_type": "code",
      "metadata": {
        "colab": {
          "base_uri": "https://localhost:8080/"
        },
        "id": "CIpTrnH6j2US",
        "outputId": "df299020-00a0-42a4-bcf1-5a8a7de1bb7d"
      },
      "source": [
        "# Use code from our SimTools library.\n",
        "X,y = prepare_inputs_codon_frequency(pc_train,nc_train) # shuffles\n",
        "print(\"X shape:\",X.shape)"
      ],
      "execution_count": 30,
      "outputs": [
        {
          "output_type": "stream",
          "text": [
            "X shape: (40000, 64)\n"
          ],
          "name": "stdout"
        }
      ]
    },
    {
      "cell_type": "code",
      "metadata": {
        "id": "7NvrVU8ij2UU",
        "colab": {
          "base_uri": "https://localhost:8080/"
        },
        "outputId": "90e365bb-1250-46c7-d3b0-7a97aa09f7b4"
      },
      "source": [
        "def make_DNN():\n",
        "    print(\"make_DNN\")\n",
        "    print(\"input shape:\",INPUT_SHAPE)\n",
        "    dnn = Sequential()\n",
        "    dnn.add(Dense(NEURONS,activation=\"sigmoid\",dtype=np.float32))   \n",
        "    dnn.add(Dense(NEURONS,activation=\"sigmoid\",dtype=np.float32))   \n",
        "    dnn.add(Dense(NEURONS,activation=\"sigmoid\",dtype=np.float32))   \n",
        "    dnn.add(Dense(NEURONS,activation=\"sigmoid\",dtype=np.float32))   \n",
        "    dnn.add(Dense(1,activation=\"sigmoid\",dtype=np.float32))   \n",
        "    dnn.compile(optimizer='adam',\n",
        "                loss=BinaryCrossentropy(from_logits=False),\n",
        "                metrics=['accuracy'])   # add to default metrics=loss\n",
        "    dnn.build(input_shape=INPUT_SHAPE)\n",
        "    #ln_rate = tf.keras.optimizers.Adam(learning_rate = LN_RATE)\n",
        "    #bc=tf.keras.losses.BinaryCrossentropy(from_logits=False)\n",
        "    #model.compile(loss=bc, optimizer=ln_rate, metrics=[\"accuracy\"])\n",
        "    return dnn\n",
        "model = make_DNN()\n",
        "print(model.summary())"
      ],
      "execution_count": 31,
      "outputs": [
        {
          "output_type": "stream",
          "text": [
            "make_DNN\n",
            "input shape: (1000, 64)\n",
            "Model: \"sequential_11\"\n",
            "_________________________________________________________________\n",
            "Layer (type)                 Output Shape              Param #   \n",
            "=================================================================\n",
            "dense_50 (Dense)             (1000, 128)               8320      \n",
            "_________________________________________________________________\n",
            "dense_51 (Dense)             (1000, 128)               16512     \n",
            "_________________________________________________________________\n",
            "dense_52 (Dense)             (1000, 128)               16512     \n",
            "_________________________________________________________________\n",
            "dense_53 (Dense)             (1000, 128)               16512     \n",
            "_________________________________________________________________\n",
            "dense_54 (Dense)             (1000, 1)                 129       \n",
            "=================================================================\n",
            "Total params: 57,985\n",
            "Trainable params: 57,985\n",
            "Non-trainable params: 0\n",
            "_________________________________________________________________\n",
            "None\n"
          ],
          "name": "stdout"
        }
      ]
    },
    {
      "cell_type": "code",
      "metadata": {
        "id": "nlVF0hR3j2UW"
      },
      "source": [
        "from keras.callbacks import ModelCheckpoint\n",
        "def do_cross_validation(X,y):\n",
        "    cv_scores = []\n",
        "    fold=0\n",
        "    mycallbacks = [ModelCheckpoint(\n",
        "        filepath=MODELPATH, save_best_only=True, \n",
        "        monitor='val_accuracy', mode='max')]   \n",
        "    splitter = KFold(n_splits=SPLITS)  # this does not shuffle\n",
        "    for train_index,valid_index in splitter.split(X):\n",
        "        if fold < FOLDS:\n",
        "            fold += 1\n",
        "            X_train=X[train_index] # inputs for training\n",
        "            y_train=y[train_index] # labels for training\n",
        "            X_valid=X[valid_index] # inputs for validation\n",
        "            y_valid=y[valid_index] # labels for validation\n",
        "            print(\"MODEL\")\n",
        "            # Call constructor on each CV. Else, continually improves the same model.\n",
        "            model = model = make_DNN()\n",
        "            print(\"FIT\")  # model.fit() implements learning\n",
        "            start_time=time.time()\n",
        "            history=model.fit(X_train, y_train, \n",
        "                    epochs=EPOCHS, \n",
        "                    verbose=1,  # ascii art while learning\n",
        "                    callbacks=mycallbacks,   # called at end of each epoch\n",
        "                    validation_data=(X_valid,y_valid))\n",
        "            end_time=time.time()\n",
        "            elapsed_time=(end_time-start_time)                        \n",
        "            print(\"Fold %d, %d epochs, %d sec\"%(fold,EPOCHS,elapsed_time))\n",
        "            # print(history.history.keys())  # all these keys will be shown in figure\n",
        "            pd.DataFrame(history.history).plot(figsize=(8,5))\n",
        "            plt.grid(True)\n",
        "            plt.gca().set_ylim(0,1) # any losses > 1 will be off the scale\n",
        "            plt.show()\n"
      ],
      "execution_count": 32,
      "outputs": []
    },
    {
      "cell_type": "code",
      "metadata": {
        "id": "9Ggt4EsSj2UY",
        "colab": {
          "base_uri": "https://localhost:8080/",
          "height": 1000
        },
        "outputId": "def93282-0550-42b9-f387-4741a68dd3c1"
      },
      "source": [
        "do_cross_validation(X,y)"
      ],
      "execution_count": 33,
      "outputs": [
        {
          "output_type": "stream",
          "text": [
            "MODEL\n",
            "make_DNN\n",
            "input shape: (1000, 64)\n",
            "FIT\n",
            "Epoch 1/50\n",
            "1000/1000 [==============================] - 2s 2ms/step - loss: 0.6979 - accuracy: 0.5038 - val_loss: 0.6944 - val_accuracy: 0.4999\n",
            "INFO:tensorflow:Assets written to: BestModel/assets\n",
            "Epoch 2/50\n",
            "1000/1000 [==============================] - 2s 2ms/step - loss: 0.6949 - accuracy: 0.5075 - val_loss: 0.6936 - val_accuracy: 0.5001\n",
            "INFO:tensorflow:Assets written to: BestModel/assets\n",
            "Epoch 3/50\n",
            "1000/1000 [==============================] - 2s 2ms/step - loss: 0.6950 - accuracy: 0.4913 - val_loss: 0.6932 - val_accuracy: 0.5001\n",
            "Epoch 4/50\n",
            "1000/1000 [==============================] - 2s 2ms/step - loss: 0.6947 - accuracy: 0.5025 - val_loss: 0.6934 - val_accuracy: 0.4999\n",
            "Epoch 5/50\n",
            "1000/1000 [==============================] - 2s 2ms/step - loss: 0.6948 - accuracy: 0.5016 - val_loss: 0.6937 - val_accuracy: 0.4999\n",
            "Epoch 6/50\n",
            "1000/1000 [==============================] - 2s 2ms/step - loss: 0.6943 - accuracy: 0.5007 - val_loss: 0.6937 - val_accuracy: 0.4999\n",
            "Epoch 7/50\n",
            "1000/1000 [==============================] - 2s 2ms/step - loss: 0.6938 - accuracy: 0.5059 - val_loss: 0.6932 - val_accuracy: 0.5001\n",
            "Epoch 8/50\n",
            "1000/1000 [==============================] - 2s 2ms/step - loss: 0.6944 - accuracy: 0.4988 - val_loss: 0.6932 - val_accuracy: 0.4999\n",
            "Epoch 9/50\n",
            "1000/1000 [==============================] - 2s 2ms/step - loss: 0.6947 - accuracy: 0.4953 - val_loss: 0.6942 - val_accuracy: 0.5001\n",
            "Epoch 10/50\n",
            "1000/1000 [==============================] - 2s 2ms/step - loss: 0.6945 - accuracy: 0.5059 - val_loss: 0.6931 - val_accuracy: 0.4999\n",
            "Epoch 11/50\n",
            "1000/1000 [==============================] - 2s 2ms/step - loss: 0.6946 - accuracy: 0.4956 - val_loss: 0.6939 - val_accuracy: 0.4999\n",
            "Epoch 12/50\n",
            "1000/1000 [==============================] - 2s 2ms/step - loss: 0.6947 - accuracy: 0.4968 - val_loss: 0.6933 - val_accuracy: 0.5001\n",
            "Epoch 13/50\n",
            "1000/1000 [==============================] - 2s 2ms/step - loss: 0.6941 - accuracy: 0.5042 - val_loss: 0.6947 - val_accuracy: 0.5001\n",
            "Epoch 14/50\n",
            "1000/1000 [==============================] - 2s 2ms/step - loss: 0.6944 - accuracy: 0.5007 - val_loss: 0.6946 - val_accuracy: 0.5001\n",
            "Epoch 15/50\n",
            "1000/1000 [==============================] - 2s 2ms/step - loss: 0.6942 - accuracy: 0.4976 - val_loss: 0.6935 - val_accuracy: 0.5001\n",
            "Epoch 16/50\n",
            "1000/1000 [==============================] - 2s 2ms/step - loss: 0.6944 - accuracy: 0.4971 - val_loss: 0.6935 - val_accuracy: 0.5001\n",
            "Epoch 17/50\n",
            "1000/1000 [==============================] - 2s 2ms/step - loss: 0.6948 - accuracy: 0.5010 - val_loss: 0.6956 - val_accuracy: 0.5001\n",
            "Epoch 18/50\n",
            "1000/1000 [==============================] - 2s 2ms/step - loss: 0.6950 - accuracy: 0.4937 - val_loss: 0.6932 - val_accuracy: 0.4999\n",
            "Epoch 19/50\n",
            "1000/1000 [==============================] - 2s 2ms/step - loss: 0.6948 - accuracy: 0.4973 - val_loss: 0.6934 - val_accuracy: 0.4999\n",
            "Epoch 20/50\n",
            "1000/1000 [==============================] - 2s 2ms/step - loss: 0.6943 - accuracy: 0.4992 - val_loss: 0.6947 - val_accuracy: 0.4999\n",
            "Epoch 21/50\n",
            "1000/1000 [==============================] - 2s 2ms/step - loss: 0.6943 - accuracy: 0.5035 - val_loss: 0.6988 - val_accuracy: 0.5001\n",
            "Epoch 22/50\n",
            "1000/1000 [==============================] - 2s 2ms/step - loss: 0.6952 - accuracy: 0.4989 - val_loss: 0.6941 - val_accuracy: 0.5001\n",
            "Epoch 23/50\n",
            "1000/1000 [==============================] - 2s 2ms/step - loss: 0.6939 - accuracy: 0.5023 - val_loss: 0.6935 - val_accuracy: 0.4999\n",
            "Epoch 24/50\n",
            "1000/1000 [==============================] - 2s 2ms/step - loss: 0.6941 - accuracy: 0.4984 - val_loss: 0.6935 - val_accuracy: 0.5001\n",
            "Epoch 25/50\n",
            "1000/1000 [==============================] - 2s 2ms/step - loss: 0.6944 - accuracy: 0.5009 - val_loss: 0.6940 - val_accuracy: 0.5001\n",
            "Epoch 26/50\n",
            "1000/1000 [==============================] - 2s 2ms/step - loss: 0.6944 - accuracy: 0.4968 - val_loss: 0.6934 - val_accuracy: 0.4999\n",
            "Epoch 27/50\n",
            "1000/1000 [==============================] - 2s 2ms/step - loss: 0.6948 - accuracy: 0.4976 - val_loss: 0.6931 - val_accuracy: 0.4999\n",
            "Epoch 28/50\n",
            "1000/1000 [==============================] - 2s 2ms/step - loss: 0.6943 - accuracy: 0.5020 - val_loss: 0.6931 - val_accuracy: 0.4999\n",
            "Epoch 29/50\n",
            "1000/1000 [==============================] - 2s 2ms/step - loss: 0.6944 - accuracy: 0.4976 - val_loss: 0.6944 - val_accuracy: 0.4999\n",
            "Epoch 30/50\n",
            "1000/1000 [==============================] - 2s 2ms/step - loss: 0.6945 - accuracy: 0.4997 - val_loss: 0.6939 - val_accuracy: 0.4999\n",
            "Epoch 31/50\n",
            "1000/1000 [==============================] - 2s 2ms/step - loss: 0.6947 - accuracy: 0.4957 - val_loss: 0.6943 - val_accuracy: 0.5001\n",
            "Epoch 32/50\n",
            "1000/1000 [==============================] - 2s 2ms/step - loss: 0.6939 - accuracy: 0.5001 - val_loss: 0.6932 - val_accuracy: 0.5001\n",
            "Epoch 33/50\n",
            "1000/1000 [==============================] - 2s 2ms/step - loss: 0.6940 - accuracy: 0.5013 - val_loss: 0.6932 - val_accuracy: 0.5001\n",
            "Epoch 34/50\n",
            "1000/1000 [==============================] - 2s 2ms/step - loss: 0.6945 - accuracy: 0.5041 - val_loss: 0.6931 - val_accuracy: 0.5001\n",
            "Epoch 35/50\n",
            "1000/1000 [==============================] - 2s 2ms/step - loss: 0.6942 - accuracy: 0.4993 - val_loss: 0.6932 - val_accuracy: 0.5001\n",
            "Epoch 36/50\n",
            "1000/1000 [==============================] - 2s 2ms/step - loss: 0.6941 - accuracy: 0.4927 - val_loss: 0.6938 - val_accuracy: 0.5001\n",
            "Epoch 37/50\n",
            "1000/1000 [==============================] - 2s 2ms/step - loss: 0.6943 - accuracy: 0.5025 - val_loss: 0.6933 - val_accuracy: 0.5001\n",
            "Epoch 38/50\n",
            "1000/1000 [==============================] - 2s 2ms/step - loss: 0.6939 - accuracy: 0.5014 - val_loss: 0.6939 - val_accuracy: 0.5001\n",
            "Epoch 39/50\n",
            "1000/1000 [==============================] - 2s 2ms/step - loss: 0.6938 - accuracy: 0.5064 - val_loss: 0.6959 - val_accuracy: 0.5001\n",
            "Epoch 40/50\n",
            "1000/1000 [==============================] - 2s 2ms/step - loss: 0.6937 - accuracy: 0.4967 - val_loss: 0.6938 - val_accuracy: 0.5001\n",
            "Epoch 41/50\n",
            "1000/1000 [==============================] - 2s 2ms/step - loss: 0.6942 - accuracy: 0.5016 - val_loss: 0.6932 - val_accuracy: 0.5001\n",
            "Epoch 42/50\n",
            "1000/1000 [==============================] - 2s 2ms/step - loss: 0.6940 - accuracy: 0.4942 - val_loss: 0.6971 - val_accuracy: 0.5001\n",
            "Epoch 43/50\n",
            "1000/1000 [==============================] - 2s 2ms/step - loss: 0.6942 - accuracy: 0.4965 - val_loss: 0.6932 - val_accuracy: 0.5001\n",
            "Epoch 44/50\n",
            "1000/1000 [==============================] - 2s 2ms/step - loss: 0.6937 - accuracy: 0.5058 - val_loss: 0.6937 - val_accuracy: 0.5001\n",
            "Epoch 45/50\n",
            "1000/1000 [==============================] - 2s 2ms/step - loss: 0.6938 - accuracy: 0.5008 - val_loss: 0.6937 - val_accuracy: 0.5001\n",
            "Epoch 46/50\n",
            "1000/1000 [==============================] - 2s 2ms/step - loss: 0.6936 - accuracy: 0.5009 - val_loss: 0.6942 - val_accuracy: 0.5001\n",
            "Epoch 47/50\n",
            "1000/1000 [==============================] - 2s 2ms/step - loss: 0.6938 - accuracy: 0.5009 - val_loss: 0.6944 - val_accuracy: 0.5001\n",
            "Epoch 48/50\n",
            "1000/1000 [==============================] - 2s 2ms/step - loss: 0.6937 - accuracy: 0.4957 - val_loss: 0.6939 - val_accuracy: 0.4999\n",
            "Epoch 49/50\n",
            "1000/1000 [==============================] - 2s 2ms/step - loss: 0.6935 - accuracy: 0.5007 - val_loss: 0.6933 - val_accuracy: 0.5001\n",
            "Epoch 50/50\n",
            "1000/1000 [==============================] - 2s 2ms/step - loss: 0.6933 - accuracy: 0.5020 - val_loss: 0.6932 - val_accuracy: 0.4999\n",
            "Fold 1, 50 epochs, 101 sec\n"
          ],
          "name": "stdout"
        },
        {
          "output_type": "display_data",
          "data": {
            "image/png": "[encoded data removed]",
            "text/plain": [
              "<Figure size 576x360 with 1 Axes>"
            ]
          },
          "metadata": {
            "tags": [],
            "needs_background": "light"
          }
        },
        {
          "output_type": "stream",
          "text": [
            "MODEL\n",
            "make_DNN\n",
            "input shape: (1000, 64)\n",
            "FIT\n",
            "Epoch 1/50\n",
            "1000/1000 [==============================] - 2s 2ms/step - loss: 0.6968 - accuracy: 0.5053 - val_loss: 0.6947 - val_accuracy: 0.4995\n",
            "Epoch 2/50\n",
            "1000/1000 [==============================] - 2s 2ms/step - loss: 0.6946 - accuracy: 0.5001 - val_loss: 0.6933 - val_accuracy: 0.4995\n",
            "Epoch 3/50\n",
            "1000/1000 [==============================] - 2s 2ms/step - loss: 0.6942 - accuracy: 0.4973 - val_loss: 0.6959 - val_accuracy: 0.4995\n",
            "Epoch 4/50\n",
            "1000/1000 [==============================] - 2s 2ms/step - loss: 0.6946 - accuracy: 0.5041 - val_loss: 0.6987 - val_accuracy: 0.4995\n",
            "Epoch 5/50\n",
            "1000/1000 [==============================] - 2s 2ms/step - loss: 0.6947 - accuracy: 0.4990 - val_loss: 0.6935 - val_accuracy: 0.4995\n",
            "Epoch 6/50\n",
            "1000/1000 [==============================] - 2s 2ms/step - loss: 0.6945 - accuracy: 0.5009 - val_loss: 0.6936 - val_accuracy: 0.4995\n",
            "Epoch 7/50\n",
            "1000/1000 [==============================] - 2s 2ms/step - loss: 0.6948 - accuracy: 0.4958 - val_loss: 0.6933 - val_accuracy: 0.4995\n",
            "Epoch 8/50\n",
            "1000/1000 [==============================] - 2s 2ms/step - loss: 0.6947 - accuracy: 0.5068 - val_loss: 0.6985 - val_accuracy: 0.4995\n",
            "Epoch 9/50\n",
            "1000/1000 [==============================] - 2s 2ms/step - loss: 0.6937 - accuracy: 0.5061 - val_loss: 0.6931 - val_accuracy: 0.5005\n",
            "INFO:tensorflow:Assets written to: BestModel/assets\n",
            "Epoch 10/50\n",
            "1000/1000 [==============================] - 2s 2ms/step - loss: 0.6946 - accuracy: 0.4990 - val_loss: 0.6983 - val_accuracy: 0.4995\n",
            "Epoch 11/50\n",
            "1000/1000 [==============================] - 2s 2ms/step - loss: 0.6945 - accuracy: 0.4975 - val_loss: 0.6940 - val_accuracy: 0.5005\n",
            "Epoch 12/50\n",
            "1000/1000 [==============================] - 2s 2ms/step - loss: 0.6944 - accuracy: 0.4968 - val_loss: 0.6933 - val_accuracy: 0.4995\n",
            "Epoch 13/50\n",
            "1000/1000 [==============================] - 2s 2ms/step - loss: 0.6944 - accuracy: 0.5042 - val_loss: 0.6943 - val_accuracy: 0.5005\n",
            "Epoch 14/50\n",
            "1000/1000 [==============================] - 2s 2ms/step - loss: 0.6939 - accuracy: 0.5073 - val_loss: 0.6932 - val_accuracy: 0.4995\n",
            "Epoch 15/50\n",
            "1000/1000 [==============================] - 2s 2ms/step - loss: 0.6943 - accuracy: 0.4982 - val_loss: 0.6935 - val_accuracy: 0.5005\n",
            "Epoch 16/50\n",
            "1000/1000 [==============================] - 2s 2ms/step - loss: 0.6943 - accuracy: 0.4975 - val_loss: 0.6938 - val_accuracy: 0.4995\n",
            "Epoch 17/50\n",
            "1000/1000 [==============================] - 2s 2ms/step - loss: 0.6947 - accuracy: 0.4979 - val_loss: 0.6959 - val_accuracy: 0.4995\n",
            "Epoch 18/50\n",
            "1000/1000 [==============================] - 2s 2ms/step - loss: 0.6943 - accuracy: 0.5011 - val_loss: 0.6932 - val_accuracy: 0.4995\n",
            "Epoch 19/50\n",
            "1000/1000 [==============================] - 2s 2ms/step - loss: 0.6938 - accuracy: 0.5054 - val_loss: 0.6934 - val_accuracy: 0.4995\n",
            "Epoch 20/50\n",
            "1000/1000 [==============================] - 2s 2ms/step - loss: 0.6942 - accuracy: 0.5022 - val_loss: 0.6944 - val_accuracy: 0.5005\n",
            "Epoch 21/50\n",
            "1000/1000 [==============================] - 2s 2ms/step - loss: 0.6944 - accuracy: 0.4989 - val_loss: 0.6933 - val_accuracy: 0.4995\n",
            "Epoch 22/50\n",
            "1000/1000 [==============================] - 2s 2ms/step - loss: 0.6941 - accuracy: 0.4995 - val_loss: 0.6937 - val_accuracy: 0.4995\n",
            "Epoch 23/50\n",
            "1000/1000 [==============================] - 2s 2ms/step - loss: 0.6945 - accuracy: 0.4980 - val_loss: 0.6980 - val_accuracy: 0.5005\n",
            "Epoch 24/50\n",
            "1000/1000 [==============================] - 2s 2ms/step - loss: 0.6946 - accuracy: 0.4988 - val_loss: 0.6955 - val_accuracy: 0.5005\n",
            "Epoch 25/50\n",
            "1000/1000 [==============================] - 2s 2ms/step - loss: 0.6946 - accuracy: 0.5001 - val_loss: 0.6941 - val_accuracy: 0.5005\n",
            "Epoch 26/50\n",
            "1000/1000 [==============================] - 2s 2ms/step - loss: 0.6941 - accuracy: 0.4970 - val_loss: 0.6952 - val_accuracy: 0.5005\n",
            "Epoch 27/50\n",
            "1000/1000 [==============================] - 2s 2ms/step - loss: 0.6938 - accuracy: 0.5072 - val_loss: 0.7010 - val_accuracy: 0.4995\n",
            "Epoch 28/50\n",
            "1000/1000 [==============================] - 2s 2ms/step - loss: 0.6945 - accuracy: 0.5000 - val_loss: 0.6937 - val_accuracy: 0.5005\n",
            "Epoch 29/50\n",
            "1000/1000 [==============================] - 2s 2ms/step - loss: 0.6938 - accuracy: 0.5023 - val_loss: 0.6967 - val_accuracy: 0.5005\n",
            "Epoch 30/50\n",
            "1000/1000 [==============================] - 2s 2ms/step - loss: 0.6941 - accuracy: 0.5022 - val_loss: 0.6936 - val_accuracy: 0.4995\n",
            "Epoch 31/50\n",
            "1000/1000 [==============================] - 2s 2ms/step - loss: 0.6940 - accuracy: 0.4903 - val_loss: 0.6940 - val_accuracy: 0.5005\n",
            "Epoch 32/50\n",
            "1000/1000 [==============================] - 2s 2ms/step - loss: 0.6942 - accuracy: 0.4983 - val_loss: 0.7046 - val_accuracy: 0.5005\n",
            "Epoch 33/50\n",
            "1000/1000 [==============================] - 2s 2ms/step - loss: 0.6957 - accuracy: 0.4901 - val_loss: 0.6932 - val_accuracy: 0.5005\n",
            "Epoch 34/50\n",
            "1000/1000 [==============================] - 2s 2ms/step - loss: 0.6937 - accuracy: 0.5060 - val_loss: 0.6942 - val_accuracy: 0.4995\n",
            "Epoch 35/50\n",
            "1000/1000 [==============================] - 2s 2ms/step - loss: 0.6937 - accuracy: 0.5049 - val_loss: 0.6932 - val_accuracy: 0.4995\n",
            "Epoch 36/50\n",
            "1000/1000 [==============================] - 2s 2ms/step - loss: 0.6940 - accuracy: 0.4947 - val_loss: 0.6938 - val_accuracy: 0.5005\n",
            "Epoch 37/50\n",
            "1000/1000 [==============================] - 2s 2ms/step - loss: 0.6938 - accuracy: 0.5043 - val_loss: 0.6949 - val_accuracy: 0.4995\n",
            "Epoch 38/50\n",
            "1000/1000 [==============================] - 2s 2ms/step - loss: 0.6937 - accuracy: 0.5039 - val_loss: 0.6933 - val_accuracy: 0.4995\n",
            "Epoch 39/50\n",
            "1000/1000 [==============================] - 2s 2ms/step - loss: 0.6935 - accuracy: 0.5007 - val_loss: 0.6932 - val_accuracy: 0.4995\n",
            "Epoch 40/50\n",
            "1000/1000 [==============================] - 2s 2ms/step - loss: 0.6933 - accuracy: 0.4968 - val_loss: 0.6932 - val_accuracy: 0.5005\n",
            "Epoch 41/50\n",
            "1000/1000 [==============================] - 2s 2ms/step - loss: 0.6932 - accuracy: 0.5001 - val_loss: 0.6931 - val_accuracy: 0.5005\n",
            "Epoch 42/50\n",
            "1000/1000 [==============================] - 2s 2ms/step - loss: 0.6932 - accuracy: 0.4984 - val_loss: 0.6931 - val_accuracy: 0.4995\n",
            "Epoch 43/50\n",
            "1000/1000 [==============================] - 2s 2ms/step - loss: 0.6932 - accuracy: 0.4981 - val_loss: 0.6932 - val_accuracy: 0.4995\n",
            "Epoch 44/50\n",
            "1000/1000 [==============================] - 2s 2ms/step - loss: 0.6932 - accuracy: 0.5007 - val_loss: 0.6932 - val_accuracy: 0.5005\n",
            "Epoch 45/50\n",
            "1000/1000 [==============================] - 2s 2ms/step - loss: 0.6932 - accuracy: 0.5006 - val_loss: 0.6932 - val_accuracy: 0.4995\n",
            "Epoch 46/50\n",
            "1000/1000 [==============================] - 2s 2ms/step - loss: 0.6932 - accuracy: 0.4959 - val_loss: 0.6932 - val_accuracy: 0.4995\n",
            "Epoch 47/50\n",
            "1000/1000 [==============================] - 2s 2ms/step - loss: 0.6931 - accuracy: 0.5058 - val_loss: 0.6931 - val_accuracy: 0.4995\n",
            "Epoch 48/50\n",
            "1000/1000 [==============================] - 2s 2ms/step - loss: 0.6932 - accuracy: 0.4976 - val_loss: 0.6931 - val_accuracy: 0.5005\n",
            "Epoch 49/50\n",
            "1000/1000 [==============================] - 2s 2ms/step - loss: 0.6932 - accuracy: 0.5012 - val_loss: 0.6932 - val_accuracy: 0.5005\n",
            "Epoch 50/50\n",
            "1000/1000 [==============================] - 2s 2ms/step - loss: 0.6932 - accuracy: 0.4936 - val_loss: 0.6931 - val_accuracy: 0.5005\n",
            "Fold 2, 50 epochs, 101 sec\n"
          ],
          "name": "stdout"
        },
        {
          "output_type": "display_data",
          "data": {
            "image/png": "[encoded data removed]",
            "text/plain": [
              "<Figure size 576x360 with 1 Axes>"
            ]
          },
          "metadata": {
            "tags": [],
            "needs_background": "light"
          }
        },
        {
          "output_type": "stream",
          "text": [
            "MODEL\n",
            "make_DNN\n",
            "input shape: (1000, 64)\n",
            "FIT\n",
            "Epoch 1/50\n",
            "1000/1000 [==============================] - 2s 2ms/step - loss: 0.7023 - accuracy: 0.5031 - val_loss: 0.6934 - val_accuracy: 0.5014\n",
            "INFO:tensorflow:Assets written to: BestModel/assets\n",
            "Epoch 2/50\n",
            "1000/1000 [==============================] - 2s 2ms/step - loss: 0.6957 - accuracy: 0.4881 - val_loss: 0.6932 - val_accuracy: 0.5014\n",
            "Epoch 3/50\n",
            "1000/1000 [==============================] - 2s 2ms/step - loss: 0.6951 - accuracy: 0.4996 - val_loss: 0.6932 - val_accuracy: 0.4986\n",
            "Epoch 4/50\n",
            "1000/1000 [==============================] - 2s 2ms/step - loss: 0.6947 - accuracy: 0.4992 - val_loss: 0.6932 - val_accuracy: 0.4986\n",
            "Epoch 5/50\n",
            "1000/1000 [==============================] - 2s 2ms/step - loss: 0.6948 - accuracy: 0.4985 - val_loss: 0.6965 - val_accuracy: 0.5014\n",
            "Epoch 6/50\n",
            "1000/1000 [==============================] - 2s 2ms/step - loss: 0.6942 - accuracy: 0.5048 - val_loss: 0.6940 - val_accuracy: 0.4986\n",
            "Epoch 7/50\n",
            "1000/1000 [==============================] - 2s 2ms/step - loss: 0.6944 - accuracy: 0.4982 - val_loss: 0.6934 - val_accuracy: 0.5014\n",
            "Epoch 8/50\n",
            "1000/1000 [==============================] - 2s 2ms/step - loss: 0.6947 - accuracy: 0.5020 - val_loss: 0.6952 - val_accuracy: 0.4986\n",
            "Epoch 9/50\n",
            "1000/1000 [==============================] - 2s 2ms/step - loss: 0.6950 - accuracy: 0.4949 - val_loss: 0.6959 - val_accuracy: 0.5014\n",
            "Epoch 10/50\n",
            "1000/1000 [==============================] - 2s 2ms/step - loss: 0.6944 - accuracy: 0.4994 - val_loss: 0.6955 - val_accuracy: 0.4986\n",
            "Epoch 11/50\n",
            "1000/1000 [==============================] - 2s 2ms/step - loss: 0.6941 - accuracy: 0.5005 - val_loss: 0.6936 - val_accuracy: 0.5014\n",
            "Epoch 12/50\n",
            "1000/1000 [==============================] - 2s 2ms/step - loss: 0.6944 - accuracy: 0.4998 - val_loss: 0.6967 - val_accuracy: 0.5014\n",
            "Epoch 13/50\n",
            "1000/1000 [==============================] - 2s 2ms/step - loss: 0.6943 - accuracy: 0.5021 - val_loss: 0.6932 - val_accuracy: 0.5014\n",
            "Epoch 14/50\n",
            "1000/1000 [==============================] - 2s 2ms/step - loss: 0.6948 - accuracy: 0.4951 - val_loss: 0.6940 - val_accuracy: 0.4986\n",
            "Epoch 15/50\n",
            "1000/1000 [==============================] - 2s 2ms/step - loss: 0.6939 - accuracy: 0.5067 - val_loss: 0.6941 - val_accuracy: 0.5014\n",
            "Epoch 16/50\n",
            "1000/1000 [==============================] - 2s 2ms/step - loss: 0.6944 - accuracy: 0.4998 - val_loss: 0.6939 - val_accuracy: 0.5014\n",
            "Epoch 17/50\n",
            "1000/1000 [==============================] - 2s 2ms/step - loss: 0.6946 - accuracy: 0.4969 - val_loss: 0.6951 - val_accuracy: 0.4986\n",
            "Epoch 18/50\n",
            "1000/1000 [==============================] - 2s 2ms/step - loss: 0.6944 - accuracy: 0.5017 - val_loss: 0.6937 - val_accuracy: 0.5014\n",
            "Epoch 19/50\n",
            "1000/1000 [==============================] - 2s 2ms/step - loss: 0.6947 - accuracy: 0.4980 - val_loss: 0.6959 - val_accuracy: 0.4986\n",
            "Epoch 20/50\n",
            "1000/1000 [==============================] - 2s 2ms/step - loss: 0.6942 - accuracy: 0.5001 - val_loss: 0.6970 - val_accuracy: 0.5014\n",
            "Epoch 21/50\n",
            "1000/1000 [==============================] - 2s 2ms/step - loss: 0.6936 - accuracy: 0.5026 - val_loss: 0.6947 - val_accuracy: 0.5014\n",
            "Epoch 22/50\n",
            "1000/1000 [==============================] - 2s 2ms/step - loss: 0.6942 - accuracy: 0.4991 - val_loss: 0.6932 - val_accuracy: 0.5014\n",
            "Epoch 23/50\n",
            "1000/1000 [==============================] - 2s 2ms/step - loss: 0.6940 - accuracy: 0.4983 - val_loss: 0.6944 - val_accuracy: 0.5014\n",
            "Epoch 24/50\n",
            "1000/1000 [==============================] - 2s 2ms/step - loss: 0.6944 - accuracy: 0.4992 - val_loss: 0.6934 - val_accuracy: 0.4986\n",
            "Epoch 25/50\n",
            "1000/1000 [==============================] - 2s 2ms/step - loss: 0.6938 - accuracy: 0.5088 - val_loss: 0.6940 - val_accuracy: 0.5014\n",
            "Epoch 26/50\n",
            "1000/1000 [==============================] - 2s 2ms/step - loss: 0.6946 - accuracy: 0.4935 - val_loss: 0.6936 - val_accuracy: 0.5014\n",
            "Epoch 27/50\n",
            "1000/1000 [==============================] - 2s 2ms/step - loss: 0.6943 - accuracy: 0.4974 - val_loss: 0.6932 - val_accuracy: 0.4986\n",
            "Epoch 28/50\n",
            "1000/1000 [==============================] - 2s 2ms/step - loss: 0.6939 - accuracy: 0.5020 - val_loss: 0.6932 - val_accuracy: 0.4986\n",
            "Epoch 29/50\n",
            "1000/1000 [==============================] - 2s 2ms/step - loss: 0.6941 - accuracy: 0.4945 - val_loss: 0.6938 - val_accuracy: 0.4986\n",
            "Epoch 30/50\n",
            "1000/1000 [==============================] - 2s 2ms/step - loss: 0.6937 - accuracy: 0.5032 - val_loss: 0.6932 - val_accuracy: 0.4986\n",
            "Epoch 31/50\n",
            "1000/1000 [==============================] - 2s 2ms/step - loss: 0.6938 - accuracy: 0.5043 - val_loss: 0.6938 - val_accuracy: 0.4986\n",
            "Epoch 32/50\n",
            "1000/1000 [==============================] - 2s 2ms/step - loss: 0.6943 - accuracy: 0.4945 - val_loss: 0.6931 - val_accuracy: 0.5014\n",
            "Epoch 33/50\n",
            "1000/1000 [==============================] - 2s 2ms/step - loss: 0.6937 - accuracy: 0.5030 - val_loss: 0.6944 - val_accuracy: 0.4986\n",
            "Epoch 34/50\n",
            "1000/1000 [==============================] - 2s 2ms/step - loss: 0.6938 - accuracy: 0.5019 - val_loss: 0.6935 - val_accuracy: 0.4986\n",
            "Epoch 35/50\n",
            "1000/1000 [==============================] - 2s 2ms/step - loss: 0.6937 - accuracy: 0.4991 - val_loss: 0.6942 - val_accuracy: 0.4986\n",
            "Epoch 36/50\n",
            "1000/1000 [==============================] - 2s 2ms/step - loss: 0.6937 - accuracy: 0.4988 - val_loss: 0.6932 - val_accuracy: 0.5014\n",
            "Epoch 37/50\n",
            "1000/1000 [==============================] - 2s 2ms/step - loss: 0.6938 - accuracy: 0.5005 - val_loss: 0.6938 - val_accuracy: 0.4986\n",
            "Epoch 38/50\n",
            "1000/1000 [==============================] - 2s 2ms/step - loss: 0.6938 - accuracy: 0.5021 - val_loss: 0.6936 - val_accuracy: 0.5014\n",
            "Epoch 39/50\n",
            "1000/1000 [==============================] - 2s 2ms/step - loss: 0.6934 - accuracy: 0.5039 - val_loss: 0.6931 - val_accuracy: 0.5014\n",
            "Epoch 40/50\n",
            "1000/1000 [==============================] - 2s 2ms/step - loss: 0.6936 - accuracy: 0.5018 - val_loss: 0.6932 - val_accuracy: 0.5014\n",
            "Epoch 41/50\n",
            "1000/1000 [==============================] - 2s 2ms/step - loss: 0.6934 - accuracy: 0.4959 - val_loss: 0.6931 - val_accuracy: 0.4986\n",
            "Epoch 42/50\n",
            "1000/1000 [==============================] - 2s 2ms/step - loss: 0.6932 - accuracy: 0.4943 - val_loss: 0.6932 - val_accuracy: 0.4986\n",
            "Epoch 43/50\n",
            "1000/1000 [==============================] - 2s 2ms/step - loss: 0.6932 - accuracy: 0.5024 - val_loss: 0.6932 - val_accuracy: 0.4986\n",
            "Epoch 44/50\n",
            "1000/1000 [==============================] - 2s 2ms/step - loss: 0.6932 - accuracy: 0.4975 - val_loss: 0.6932 - val_accuracy: 0.4986\n",
            "Epoch 45/50\n",
            "1000/1000 [==============================] - 2s 2ms/step - loss: 0.6932 - accuracy: 0.4976 - val_loss: 0.6931 - val_accuracy: 0.5014\n",
            "Epoch 46/50\n",
            "1000/1000 [==============================] - 2s 2ms/step - loss: 0.6932 - accuracy: 0.5036 - val_loss: 0.6932 - val_accuracy: 0.4986\n",
            "Epoch 47/50\n",
            "1000/1000 [==============================] - 2s 2ms/step - loss: 0.6932 - accuracy: 0.5019 - val_loss: 0.6932 - val_accuracy: 0.4986\n",
            "Epoch 48/50\n",
            "1000/1000 [==============================] - 2s 2ms/step - loss: 0.6932 - accuracy: 0.4932 - val_loss: 0.6932 - val_accuracy: 0.4986\n",
            "Epoch 49/50\n",
            "1000/1000 [==============================] - 2s 2ms/step - loss: 0.6932 - accuracy: 0.5004 - val_loss: 0.6931 - val_accuracy: 0.4986\n",
            "Epoch 50/50\n",
            "1000/1000 [==============================] - 2s 2ms/step - loss: 0.6932 - accuracy: 0.4984 - val_loss: 0.6931 - val_accuracy: 0.5014\n",
            "Fold 3, 50 epochs, 102 sec\n"
          ],
          "name": "stdout"
        },
        {
          "output_type": "display_data",
          "data": {
            "image/png": "[encoded data removed]",
            "text/plain": [
              "<Figure size 576x360 with 1 Axes>"
            ]
          },
          "metadata": {
            "tags": [],
            "needs_background": "light"
          }
        },
        {
          "output_type": "stream",
          "text": [
            "MODEL\n",
            "make_DNN\n",
            "input shape: (1000, 64)\n",
            "FIT\n",
            "Epoch 1/50\n",
            "1000/1000 [==============================] - 3s 2ms/step - loss: 0.6966 - accuracy: 0.4975 - val_loss: 0.6937 - val_accuracy: 0.4960\n",
            "Epoch 2/50\n",
            "1000/1000 [==============================] - 2s 2ms/step - loss: 0.6951 - accuracy: 0.4941 - val_loss: 0.6967 - val_accuracy: 0.4960\n",
            "Epoch 3/50\n",
            "1000/1000 [==============================] - 2s 2ms/step - loss: 0.6948 - accuracy: 0.5022 - val_loss: 0.6935 - val_accuracy: 0.4960\n",
            "Epoch 4/50\n",
            "1000/1000 [==============================] - 2s 2ms/step - loss: 0.6949 - accuracy: 0.5000 - val_loss: 0.6932 - val_accuracy: 0.5040\n",
            "INFO:tensorflow:Assets written to: BestModel/assets\n",
            "Epoch 5/50\n",
            "1000/1000 [==============================] - 2s 2ms/step - loss: 0.6960 - accuracy: 0.5032 - val_loss: 0.6934 - val_accuracy: 0.4960\n",
            "Epoch 6/50\n",
            "1000/1000 [==============================] - 2s 2ms/step - loss: 0.6940 - accuracy: 0.5066 - val_loss: 0.6946 - val_accuracy: 0.5040\n",
            "Epoch 7/50\n",
            "1000/1000 [==============================] - 2s 2ms/step - loss: 0.6950 - accuracy: 0.4961 - val_loss: 0.6998 - val_accuracy: 0.4960\n",
            "Epoch 8/50\n",
            "1000/1000 [==============================] - 2s 2ms/step - loss: 0.6946 - accuracy: 0.5031 - val_loss: 0.6933 - val_accuracy: 0.5040\n",
            "Epoch 9/50\n",
            "1000/1000 [==============================] - 2s 2ms/step - loss: 0.6945 - accuracy: 0.5015 - val_loss: 0.7026 - val_accuracy: 0.4960\n",
            "Epoch 10/50\n",
            "1000/1000 [==============================] - 2s 2ms/step - loss: 0.6947 - accuracy: 0.4999 - val_loss: 0.6950 - val_accuracy: 0.5040\n",
            "Epoch 11/50\n",
            "1000/1000 [==============================] - 2s 2ms/step - loss: 0.6947 - accuracy: 0.4939 - val_loss: 0.6943 - val_accuracy: 0.5040\n",
            "Epoch 12/50\n",
            "1000/1000 [==============================] - 2s 2ms/step - loss: 0.6943 - accuracy: 0.5042 - val_loss: 0.6972 - val_accuracy: 0.5040\n",
            "Epoch 13/50\n",
            "1000/1000 [==============================] - 2s 2ms/step - loss: 0.6943 - accuracy: 0.5002 - val_loss: 0.6946 - val_accuracy: 0.5040\n",
            "Epoch 14/50\n",
            "1000/1000 [==============================] - 2s 2ms/step - loss: 0.6943 - accuracy: 0.5049 - val_loss: 0.6932 - val_accuracy: 0.5040\n",
            "Epoch 15/50\n",
            "1000/1000 [==============================] - 2s 2ms/step - loss: 0.6944 - accuracy: 0.4993 - val_loss: 0.6935 - val_accuracy: 0.5040\n",
            "Epoch 16/50\n",
            "1000/1000 [==============================] - 2s 2ms/step - loss: 0.6945 - accuracy: 0.4979 - val_loss: 0.6932 - val_accuracy: 0.4960\n",
            "Epoch 17/50\n",
            "1000/1000 [==============================] - 2s 2ms/step - loss: 0.6939 - accuracy: 0.5102 - val_loss: 0.6931 - val_accuracy: 0.5040\n",
            "Epoch 18/50\n",
            "1000/1000 [==============================] - 2s 2ms/step - loss: 0.6943 - accuracy: 0.4924 - val_loss: 0.6933 - val_accuracy: 0.4960\n",
            "Epoch 19/50\n",
            "1000/1000 [==============================] - 2s 2ms/step - loss: 0.6950 - accuracy: 0.4947 - val_loss: 0.6939 - val_accuracy: 0.5040\n",
            "Epoch 20/50\n",
            "1000/1000 [==============================] - 2s 2ms/step - loss: 0.6946 - accuracy: 0.4951 - val_loss: 0.6957 - val_accuracy: 0.5040\n",
            "Epoch 21/50\n",
            "1000/1000 [==============================] - 2s 2ms/step - loss: 0.6954 - accuracy: 0.4981 - val_loss: 0.6932 - val_accuracy: 0.5040\n",
            "Epoch 22/50\n",
            "1000/1000 [==============================] - 2s 2ms/step - loss: 0.6941 - accuracy: 0.5054 - val_loss: 0.6932 - val_accuracy: 0.4960\n",
            "Epoch 23/50\n",
            "1000/1000 [==============================] - 2s 2ms/step - loss: 0.6944 - accuracy: 0.4963 - val_loss: 0.6931 - val_accuracy: 0.5040\n",
            "Epoch 24/50\n",
            "1000/1000 [==============================] - 2s 2ms/step - loss: 0.6943 - accuracy: 0.4959 - val_loss: 0.6943 - val_accuracy: 0.4960\n",
            "Epoch 25/50\n",
            "1000/1000 [==============================] - 2s 2ms/step - loss: 0.6943 - accuracy: 0.4950 - val_loss: 0.6931 - val_accuracy: 0.5040\n",
            "Epoch 26/50\n",
            "1000/1000 [==============================] - 2s 2ms/step - loss: 0.6942 - accuracy: 0.5046 - val_loss: 0.6931 - val_accuracy: 0.5040\n",
            "Epoch 27/50\n",
            "1000/1000 [==============================] - 2s 2ms/step - loss: 0.6941 - accuracy: 0.5008 - val_loss: 0.6931 - val_accuracy: 0.5040\n",
            "Epoch 28/50\n",
            "1000/1000 [==============================] - 2s 2ms/step - loss: 0.6943 - accuracy: 0.4992 - val_loss: 0.6941 - val_accuracy: 0.4960\n",
            "Epoch 29/50\n",
            "1000/1000 [==============================] - 2s 2ms/step - loss: 0.6940 - accuracy: 0.5039 - val_loss: 0.6937 - val_accuracy: 0.5040\n",
            "Epoch 30/50\n",
            "1000/1000 [==============================] - 2s 2ms/step - loss: 0.6945 - accuracy: 0.4932 - val_loss: 0.6941 - val_accuracy: 0.5040\n",
            "Epoch 31/50\n",
            "1000/1000 [==============================] - 2s 2ms/step - loss: 0.6938 - accuracy: 0.5011 - val_loss: 0.6955 - val_accuracy: 0.4960\n",
            "Epoch 32/50\n",
            "1000/1000 [==============================] - 2s 2ms/step - loss: 0.6943 - accuracy: 0.4970 - val_loss: 0.6931 - val_accuracy: 0.5040\n",
            "Epoch 33/50\n",
            "1000/1000 [==============================] - 2s 2ms/step - loss: 0.6937 - accuracy: 0.5009 - val_loss: 0.6939 - val_accuracy: 0.5040\n",
            "Epoch 34/50\n",
            "1000/1000 [==============================] - 2s 2ms/step - loss: 0.6941 - accuracy: 0.4948 - val_loss: 0.6933 - val_accuracy: 0.5040\n",
            "Epoch 35/50\n",
            "1000/1000 [==============================] - 2s 2ms/step - loss: 0.6936 - accuracy: 0.4995 - val_loss: 0.6952 - val_accuracy: 0.5040\n",
            "Epoch 36/50\n",
            "1000/1000 [==============================] - 2s 2ms/step - loss: 0.6937 - accuracy: 0.5000 - val_loss: 0.6931 - val_accuracy: 0.5040\n",
            "Epoch 37/50\n",
            "1000/1000 [==============================] - 2s 2ms/step - loss: 0.6934 - accuracy: 0.5017 - val_loss: 0.6935 - val_accuracy: 0.4960\n",
            "Epoch 38/50\n",
            "1000/1000 [==============================] - 2s 2ms/step - loss: 0.6933 - accuracy: 0.4962 - val_loss: 0.6935 - val_accuracy: 0.4960\n",
            "Epoch 39/50\n",
            "1000/1000 [==============================] - 2s 2ms/step - loss: 0.6933 - accuracy: 0.4999 - val_loss: 0.6933 - val_accuracy: 0.4960\n",
            "Epoch 40/50\n",
            "1000/1000 [==============================] - 2s 2ms/step - loss: 0.6931 - accuracy: 0.5019 - val_loss: 0.6932 - val_accuracy: 0.4960\n",
            "Epoch 41/50\n",
            "1000/1000 [==============================] - 2s 2ms/step - loss: 0.6932 - accuracy: 0.5024 - val_loss: 0.6932 - val_accuracy: 0.4960\n",
            "Epoch 42/50\n",
            "1000/1000 [==============================] - 2s 2ms/step - loss: 0.6932 - accuracy: 0.5023 - val_loss: 0.6931 - val_accuracy: 0.5040\n",
            "Epoch 43/50\n",
            "1000/1000 [==============================] - 2s 2ms/step - loss: 0.6931 - accuracy: 0.4981 - val_loss: 0.6931 - val_accuracy: 0.5040\n",
            "Epoch 44/50\n",
            "1000/1000 [==============================] - 2s 2ms/step - loss: 0.6931 - accuracy: 0.5034 - val_loss: 0.6931 - val_accuracy: 0.5040\n",
            "Epoch 45/50\n",
            "1000/1000 [==============================] - 2s 2ms/step - loss: 0.6932 - accuracy: 0.4958 - val_loss: 0.6931 - val_accuracy: 0.5040\n",
            "Epoch 46/50\n",
            "1000/1000 [==============================] - 2s 2ms/step - loss: 0.6932 - accuracy: 0.4953 - val_loss: 0.6932 - val_accuracy: 0.4960\n",
            "Epoch 47/50\n",
            "1000/1000 [==============================] - 2s 2ms/step - loss: 0.6932 - accuracy: 0.4916 - val_loss: 0.6932 - val_accuracy: 0.4960\n",
            "Epoch 48/50\n",
            "1000/1000 [==============================] - 2s 2ms/step - loss: 0.6932 - accuracy: 0.4999 - val_loss: 0.6931 - val_accuracy: 0.5040\n",
            "Epoch 49/50\n",
            "1000/1000 [==============================] - 2s 2ms/step - loss: 0.6932 - accuracy: 0.4955 - val_loss: 0.6932 - val_accuracy: 0.4960\n",
            "Epoch 50/50\n",
            "1000/1000 [==============================] - 2s 2ms/step - loss: 0.6932 - accuracy: 0.4989 - val_loss: 0.6932 - val_accuracy: 0.4960\n",
            "Fold 4, 50 epochs, 102 sec\n"
          ],
          "name": "stdout"
        },
        {
          "output_type": "display_data",
          "data": {
            "image/png": "[encoded data removed]",
            "text/plain": [
              "<Figure size 576x360 with 1 Axes>"
            ]
          },
          "metadata": {
            "tags": [],
            "needs_background": "light"
          }
        },
        {
          "output_type": "stream",
          "text": [
            "MODEL\n",
            "make_DNN\n",
            "input shape: (1000, 64)\n",
            "FIT\n",
            "Epoch 1/50\n",
            "1000/1000 [==============================] - 3s 2ms/step - loss: 0.6979 - accuracy: 0.4990 - val_loss: 0.6971 - val_accuracy: 0.5030\n",
            "Epoch 2/50\n",
            "1000/1000 [==============================] - 2s 2ms/step - loss: 0.6950 - accuracy: 0.5008 - val_loss: 0.6931 - val_accuracy: 0.5030\n",
            "Epoch 3/50\n",
            "1000/1000 [==============================] - 2s 2ms/step - loss: 0.6951 - accuracy: 0.4953 - val_loss: 0.6934 - val_accuracy: 0.4970\n",
            "Epoch 4/50\n",
            "1000/1000 [==============================] - 2s 2ms/step - loss: 0.6946 - accuracy: 0.4993 - val_loss: 0.6935 - val_accuracy: 0.5030\n",
            "Epoch 5/50\n",
            "1000/1000 [==============================] - 2s 2ms/step - loss: 0.6944 - accuracy: 0.5074 - val_loss: 0.6935 - val_accuracy: 0.5030\n",
            "Epoch 6/50\n",
            "1000/1000 [==============================] - 2s 2ms/step - loss: 0.6944 - accuracy: 0.5066 - val_loss: 0.6935 - val_accuracy: 0.4970\n",
            "Epoch 7/50\n",
            "1000/1000 [==============================] - 2s 2ms/step - loss: 0.6948 - accuracy: 0.4924 - val_loss: 0.6932 - val_accuracy: 0.4970\n",
            "Epoch 8/50\n",
            "1000/1000 [==============================] - 2s 2ms/step - loss: 0.6950 - accuracy: 0.4958 - val_loss: 0.6936 - val_accuracy: 0.4970\n",
            "Epoch 9/50\n",
            "1000/1000 [==============================] - 2s 2ms/step - loss: 0.6949 - accuracy: 0.4945 - val_loss: 0.6934 - val_accuracy: 0.5030\n",
            "Epoch 10/50\n",
            "1000/1000 [==============================] - 2s 2ms/step - loss: 0.6941 - accuracy: 0.5042 - val_loss: 0.6938 - val_accuracy: 0.5030\n",
            "Epoch 11/50\n",
            "1000/1000 [==============================] - 2s 2ms/step - loss: 0.6945 - accuracy: 0.5043 - val_loss: 0.6951 - val_accuracy: 0.5030\n",
            "Epoch 12/50\n",
            "1000/1000 [==============================] - 2s 2ms/step - loss: 0.6942 - accuracy: 0.4986 - val_loss: 0.6940 - val_accuracy: 0.4970\n",
            "Epoch 13/50\n",
            "1000/1000 [==============================] - 2s 2ms/step - loss: 0.6950 - accuracy: 0.4982 - val_loss: 0.6931 - val_accuracy: 0.5030\n",
            "Epoch 14/50\n",
            "1000/1000 [==============================] - 2s 2ms/step - loss: 0.6943 - accuracy: 0.5003 - val_loss: 0.6932 - val_accuracy: 0.5030\n",
            "Epoch 15/50\n",
            "1000/1000 [==============================] - 2s 2ms/step - loss: 0.6943 - accuracy: 0.5019 - val_loss: 0.6933 - val_accuracy: 0.5030\n",
            "Epoch 16/50\n",
            "1000/1000 [==============================] - 2s 2ms/step - loss: 0.6943 - accuracy: 0.4944 - val_loss: 0.6935 - val_accuracy: 0.4970\n",
            "Epoch 17/50\n",
            "1000/1000 [==============================] - 2s 2ms/step - loss: 0.6943 - accuracy: 0.5011 - val_loss: 0.6936 - val_accuracy: 0.4970\n",
            "Epoch 18/50\n",
            "1000/1000 [==============================] - 2s 2ms/step - loss: 0.6941 - accuracy: 0.5057 - val_loss: 0.6933 - val_accuracy: 0.4970\n",
            "Epoch 19/50\n",
            "1000/1000 [==============================] - 2s 2ms/step - loss: 0.6942 - accuracy: 0.5041 - val_loss: 0.6934 - val_accuracy: 0.4970\n",
            "Epoch 20/50\n",
            "1000/1000 [==============================] - 2s 2ms/step - loss: 0.6942 - accuracy: 0.4967 - val_loss: 0.6940 - val_accuracy: 0.4970\n",
            "Epoch 21/50\n",
            "1000/1000 [==============================] - 2s 2ms/step - loss: 0.6949 - accuracy: 0.4958 - val_loss: 0.6939 - val_accuracy: 0.4970\n",
            "Epoch 22/50\n",
            "1000/1000 [==============================] - 2s 2ms/step - loss: 0.6944 - accuracy: 0.5022 - val_loss: 0.6935 - val_accuracy: 0.5030\n",
            "Epoch 23/50\n",
            "1000/1000 [==============================] - 2s 2ms/step - loss: 0.6946 - accuracy: 0.4984 - val_loss: 0.6935 - val_accuracy: 0.5030\n",
            "Epoch 24/50\n",
            "1000/1000 [==============================] - 2s 2ms/step - loss: 0.6944 - accuracy: 0.4957 - val_loss: 0.6934 - val_accuracy: 0.4970\n",
            "Epoch 25/50\n",
            "1000/1000 [==============================] - 2s 2ms/step - loss: 0.6945 - accuracy: 0.5006 - val_loss: 0.6945 - val_accuracy: 0.5030\n",
            "Epoch 26/50\n",
            "1000/1000 [==============================] - 2s 2ms/step - loss: 0.6944 - accuracy: 0.4981 - val_loss: 0.6934 - val_accuracy: 0.4970\n",
            "Epoch 27/50\n",
            "1000/1000 [==============================] - 2s 2ms/step - loss: 0.6946 - accuracy: 0.4967 - val_loss: 0.6931 - val_accuracy: 0.5030\n",
            "Epoch 28/50\n",
            "1000/1000 [==============================] - 2s 2ms/step - loss: 0.6938 - accuracy: 0.5054 - val_loss: 0.6933 - val_accuracy: 0.5030\n",
            "Epoch 29/50\n",
            "1000/1000 [==============================] - 2s 2ms/step - loss: 0.6941 - accuracy: 0.5010 - val_loss: 0.6932 - val_accuracy: 0.4970\n",
            "Epoch 30/50\n",
            "1000/1000 [==============================] - 2s 2ms/step - loss: 0.6942 - accuracy: 0.5039 - val_loss: 0.6936 - val_accuracy: 0.4970\n",
            "Epoch 31/50\n",
            "1000/1000 [==============================] - 2s 2ms/step - loss: 0.6945 - accuracy: 0.5003 - val_loss: 0.6931 - val_accuracy: 0.4970\n",
            "Epoch 32/50\n",
            "1000/1000 [==============================] - 2s 2ms/step - loss: 0.6943 - accuracy: 0.5042 - val_loss: 0.6934 - val_accuracy: 0.5030\n",
            "Epoch 33/50\n",
            "1000/1000 [==============================] - 2s 2ms/step - loss: 0.6941 - accuracy: 0.5028 - val_loss: 0.6931 - val_accuracy: 0.4970\n",
            "Epoch 34/50\n",
            "1000/1000 [==============================] - 2s 2ms/step - loss: 0.6943 - accuracy: 0.4988 - val_loss: 0.6936 - val_accuracy: 0.5030\n",
            "Epoch 35/50\n",
            "1000/1000 [==============================] - 2s 2ms/step - loss: 0.6938 - accuracy: 0.5064 - val_loss: 0.6932 - val_accuracy: 0.5030\n",
            "Epoch 36/50\n",
            "1000/1000 [==============================] - 2s 2ms/step - loss: 0.6942 - accuracy: 0.4924 - val_loss: 0.6948 - val_accuracy: 0.4970\n",
            "Epoch 37/50\n",
            "1000/1000 [==============================] - 2s 2ms/step - loss: 0.6942 - accuracy: 0.5006 - val_loss: 0.6932 - val_accuracy: 0.5030\n",
            "Epoch 38/50\n",
            "1000/1000 [==============================] - 2s 2ms/step - loss: 0.6942 - accuracy: 0.5004 - val_loss: 0.6937 - val_accuracy: 0.4970\n",
            "Epoch 39/50\n",
            "1000/1000 [==============================] - 2s 2ms/step - loss: 0.6939 - accuracy: 0.4990 - val_loss: 0.6934 - val_accuracy: 0.4970\n",
            "Epoch 40/50\n",
            "1000/1000 [==============================] - 2s 2ms/step - loss: 0.6938 - accuracy: 0.5053 - val_loss: 0.6933 - val_accuracy: 0.5030\n",
            "Epoch 41/50\n",
            "1000/1000 [==============================] - 2s 2ms/step - loss: 0.6938 - accuracy: 0.5020 - val_loss: 0.6952 - val_accuracy: 0.5030\n",
            "Epoch 42/50\n",
            "1000/1000 [==============================] - 2s 2ms/step - loss: 0.6940 - accuracy: 0.4942 - val_loss: 0.6934 - val_accuracy: 0.5030\n",
            "Epoch 43/50\n",
            "1000/1000 [==============================] - 2s 2ms/step - loss: 0.6936 - accuracy: 0.4984 - val_loss: 0.6934 - val_accuracy: 0.5030\n",
            "Epoch 44/50\n",
            "1000/1000 [==============================] - 2s 2ms/step - loss: 0.6934 - accuracy: 0.5028 - val_loss: 0.6932 - val_accuracy: 0.4970\n",
            "Epoch 45/50\n",
            "1000/1000 [==============================] - 2s 2ms/step - loss: 0.6932 - accuracy: 0.5003 - val_loss: 0.6931 - val_accuracy: 0.5030\n",
            "Epoch 46/50\n",
            "1000/1000 [==============================] - 2s 2ms/step - loss: 0.6932 - accuracy: 0.4958 - val_loss: 0.6932 - val_accuracy: 0.4970\n",
            "Epoch 47/50\n",
            "1000/1000 [==============================] - 2s 2ms/step - loss: 0.6932 - accuracy: 0.5003 - val_loss: 0.6932 - val_accuracy: 0.4970\n",
            "Epoch 48/50\n",
            "1000/1000 [==============================] - 2s 2ms/step - loss: 0.6932 - accuracy: 0.5029 - val_loss: 0.6931 - val_accuracy: 0.5030\n",
            "Epoch 49/50\n",
            "1000/1000 [==============================] - 2s 2ms/step - loss: 0.6932 - accuracy: 0.4938 - val_loss: 0.6932 - val_accuracy: 0.4970\n",
            "Epoch 50/50\n",
            "1000/1000 [==============================] - 2s 2ms/step - loss: 0.6932 - accuracy: 0.5027 - val_loss: 0.6932 - val_accuracy: 0.4970\n",
            "Fold 5, 50 epochs, 102 sec\n"
          ],
          "name": "stdout"
        },
        {
          "output_type": "display_data",
          "data": {
            "image/png": "[encoded data removed]",
            "text/plain": [
              "<Figure size 576x360 with 1 Axes>"
            ]
          },
          "metadata": {
            "tags": [],
            "needs_background": "light"
          }
        }
      ]
    },
    {
      "cell_type": "code",
      "metadata": {
        "id": "e-jG1h5fj2Ua",
        "colab": {
          "base_uri": "https://localhost:8080/"
        },
        "outputId": "1f8da4f5-bfab-46de-c975-0d217b729aca"
      },
      "source": [
        "from keras.models import load_model\n",
        "pc_sim.set_reproducible(True)\n",
        "nc_sim.set_reproducible(True)\n",
        "pc_test = pc_sim.get_sequences(PC_TESTS)\n",
        "nc_test = nc_sim.get_sequences(NC_TESTS)\n",
        "X,y = prepare_inputs_codon_frequency(pc_train,nc_train) # shuffles\n",
        "print(\"X shape:\",X.shape)\n",
        "best_model=load_model(MODELPATH)\n",
        "scores = best_model.evaluate(X, y, verbose=0)\n",
        "print(\"The best model parameters were saved during cross-validation.\")\n",
        "print(\"Best was defined as maximum validation accuracy at end of any epoch.\")\n",
        "print(\"Now re-load the best model and test it on previously unseen data.\")\n",
        "print(\"Test on\",len(pc_test),\"PC seqs\")\n",
        "print(\"Test on\",len(nc_test),\"NC seqs\")\n",
        "print(\"%s: %.2f%%\" % (best_model.metrics_names[1], scores[1]*100))\n"
      ],
      "execution_count": 34,
      "outputs": [
        {
          "output_type": "stream",
          "text": [
            "X shape: (40000, 64)\n",
            "The best model parameters were saved during cross-validation.\n",
            "Best was defined as maximum validation accuracy at end of any epoch.\n",
            "Now re-load the best model and test it on previously unseen data.\n",
            "Test on 1000 PC seqs\n",
            "Test on 1000 NC seqs\n",
            "accuracy: 50.00%\n"
          ],
          "name": "stdout"
        }
      ]
    },
    {
      "cell_type": "code",
      "metadata": {
        "id": "VycUnmvUj2Ue",
        "colab": {
          "base_uri": "https://localhost:8080/",
          "height": 312
        },
        "outputId": "25f67874-c673-467d-f264-5d774ae4909b"
      },
      "source": [
        "from sklearn.metrics import roc_curve\n",
        "from sklearn.metrics import roc_auc_score\n",
        "ns_probs = [0 for _ in range(len(y))]\n",
        "bm_probs = best_model.predict(X)\n",
        "ns_auc = roc_auc_score(y, ns_probs)\n",
        "bm_auc = roc_auc_score(y, bm_probs)\n",
        "ns_fpr, ns_tpr, _ = roc_curve(y, ns_probs)\n",
        "bm_fpr, bm_tpr, _ = roc_curve(y, bm_probs)\n",
        "plt.plot(ns_fpr, ns_tpr, linestyle='--', label='Guess, auc=%.4f'%ns_auc)\n",
        "plt.plot(bm_fpr, bm_tpr, marker='.', label='Model, auc=%.4f'%bm_auc)\n",
        "plt.title('ROC')\n",
        "plt.xlabel('False Positive Rate')\n",
        "plt.ylabel('True Positive Rate')\n",
        "plt.legend()\n",
        "plt.show()\n",
        "print(\"%s: %.2f%%\" %('AUC',bm_auc))\n"
      ],
      "execution_count": 35,
      "outputs": [
        {
          "output_type": "display_data",
          "data": {
            "image/png": "[encoded data removed]",
            "text/plain": [
              "<Figure size 432x288 with 1 Axes>"
            ]
          },
          "metadata": {
            "tags": [],
            "needs_background": "light"
          }
        },
        {
          "output_type": "stream",
          "text": [
            "AUC: 0.69%\n"
          ],
          "name": "stdout"
        }
      ]
    },
    {
      "cell_type": "code",
      "metadata": {
        "id": "kFMb6rGNj2Ug",
        "colab": {
          "base_uri": "https://localhost:8080/",
          "height": 36
        },
        "outputId": "d86a9abc-2d5a-4f86-e8c8-1b1e0b7c4b08"
      },
      "source": [
        "t = time.time()\n",
        "time.strftime('%Y-%m-%d %H:%M:%S %Z', time.localtime(t))"
      ],
      "execution_count": 36,
      "outputs": [
        {
          "output_type": "execute_result",
          "data": {
            "application/vnd.google.colaboratory.intrinsic+json": {
              "type": "string"
            },
            "text/plain": [
              "'2021-05-17 16:06:18 UTC'"
            ]
          },
          "metadata": {
            "tags": []
          },
          "execution_count": 36
        }
      ]
    },
    {
      "cell_type": "code",
      "metadata": {
        "id": "t0HmPXUW5TvY"
      },
      "source": [
        ""
      ],
      "execution_count": 36,
      "outputs": []
    }
  ]
}