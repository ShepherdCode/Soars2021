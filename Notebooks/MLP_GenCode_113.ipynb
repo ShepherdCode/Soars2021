{
 "cells": [
  {
   "cell_type": "markdown",
   "metadata": {
    "id": "ojm_6E9f9Kcf"
   },
   "source": [
    "# MLP GenCode \n",
    "MLP_GenCode_trying to fix bugs.  \n",
    "NEURONS=128 and K={1,2,3}.  \n"
   ]
  },
  {
   "cell_type": "code",
   "execution_count": 1,
   "metadata": {
    "colab": {
     "base_uri": "https://localhost:8080/"
    },
    "id": "RmPF4h_YI_sT",
    "outputId": "dc1161d4-edc0-47f5-e33a-be7db5b13810"
   },
   "outputs": [
    {
     "name": "stdout",
     "output_type": "stream",
     "text": [
      "2021-07-20 15:56:35 EDT\n"
     ]
    }
   ],
   "source": [
    "import time\n",
    "def show_time():\n",
    "    t = time.time()\n",
    "    print(time.strftime('%Y-%m-%d %H:%M:%S %Z', time.localtime(t)))\n",
    "show_time()"
   ]
  },
  {
   "cell_type": "code",
   "execution_count": 2,
   "metadata": {
    "id": "NEbXt5N4I_sc"
   },
   "outputs": [],
   "source": [
    "PC_TRAINS=100 # 8000\n",
    "NC_TRAINS=100 # 8000\n",
    "PC_TESTS=10 # 8000\n",
    "NC_TESTS=10 # 8000   \n",
    "PC_LENS=(200,99000)\n",
    "NC_LENS=(200,99000)    \n",
    "PC_LENS=(200,4000)\n",
    "NC_LENS=(200,4000)   \n",
    "MAX_K = 3 \n",
    "INPUT_SHAPE=(None,84)  # 4^3 + 4^2 + 4^1\n",
    "NEURONS=128\n",
    "DROP_RATE=0.01\n",
    "EPOCHS=100 # 1000 # 200\n",
    "SPLITS=5\n",
    "FOLDS=1   # make this 5 for serious testing"
   ]
  },
  {
   "cell_type": "code",
   "execution_count": 3,
   "metadata": {
    "id": "VQY7aTj29Kch"
   },
   "outputs": [],
   "source": [
    "import numpy as np\n",
    "import pandas as pd\n",
    "import matplotlib.pyplot as plt\n",
    "from sklearn.utils import shuffle\n",
    "from sklearn.model_selection import KFold\n",
    "from sklearn.model_selection import cross_val_score\n",
    "from sklearn.metrics import roc_curve\n",
    "from sklearn.metrics import roc_auc_score\n",
    "\n",
    "from keras.models import Sequential\n",
    "from keras.layers import Dense,Embedding,Dropout\n",
    "from keras.layers import Flatten,TimeDistributed\n",
    "from keras.losses import BinaryCrossentropy\n",
    "from keras.callbacks import ModelCheckpoint\n",
    "from keras.models import load_model\n",
    "\n"
   ]
  },
  {
   "cell_type": "code",
   "execution_count": 4,
   "metadata": {
    "colab": {
     "base_uri": "https://localhost:8080/"
    },
    "id": "xUxEB53HI_sk",
    "outputId": "6acdd161-736f-42c4-f3d5-f7f0e003a665"
   },
   "outputs": [
    {
     "name": "stdout",
     "output_type": "stream",
     "text": [
      "CoLab not working. On my PC, use relative paths.\n"
     ]
    }
   ],
   "source": [
    "import sys\n",
    "IN_COLAB = False\n",
    "try:\n",
    "    from google.colab import drive\n",
    "    IN_COLAB = True\n",
    "except:\n",
    "    pass\n",
    "if IN_COLAB:\n",
    "    print(\"On Google CoLab, mount cloud-local file, get our code from GitHub.\")\n",
    "    PATH='/content/drive/'\n",
    "    #drive.mount(PATH,force_remount=True)  # hardly ever need this\n",
    "    drive.mount(PATH)    # Google will require login credentials\n",
    "    DATAPATH=PATH+'My Drive/data/'  # must end in \"/\"\n",
    "    import requests\n",
    "    r = requests.get('https://raw.githubusercontent.com/ShepherdCode/Soars2021/master/SimTools/GenCodeTools.py')\n",
    "    with open('GenCodeTools.py', 'w') as f:\n",
    "        f.write(r.text)  \n",
    "    from GenCodeTools import GenCodeLoader\n",
    "    r = requests.get('https://raw.githubusercontent.com/ShepherdCode/Soars2021/master/SimTools/KmerTools.py')\n",
    "    with open('KmerTools.py', 'w') as f:\n",
    "        f.write(r.text)  \n",
    "    from KmerTools import KmerTools\n",
    "else:\n",
    "        print(\"CoLab not working. On my PC, use relative paths.\")\n",
    "        DATAPATH='data/'  # must end in \"/\"\n",
    "        sys.path.append(\"..\") # append parent dir in order to use sibling dirs\n",
    "        from SimTools.GenCodeTools import GenCodeLoader\n",
    "        from SimTools.KmerTools import KmerTools\n",
    "BESTMODELPATH=DATAPATH+\"BestModel-112\"  # saved on cloud instance and lost after logout\n",
    "LASTMODELPATH=DATAPATH+\"LastModel-112\"  # saved on Google Drive but requires login"
   ]
  },
  {
   "cell_type": "markdown",
   "metadata": {
    "id": "8buAhZRfI_sp"
   },
   "source": [
    "## Data Load\n",
    "Restrict mRNA to those transcripts with a recognized ORF."
   ]
  },
  {
   "cell_type": "code",
   "execution_count": 5,
   "metadata": {
    "id": "ypn0lhiqI_sq"
   },
   "outputs": [],
   "source": [
    "PC_FILENAME='gencode.v26.pc_transcripts.fa.gz'\n",
    "NC_FILENAME='gencode.v26.lncRNA_transcripts.fa.gz'\n",
    "PC_FILENAME='gencode.v38.pc_transcripts.fa.gz'\n",
    "NC_FILENAME='gencode.v38.lncRNA_transcripts.fa.gz'\n",
    "PC_FULLPATH=DATAPATH+PC_FILENAME\n",
    "NC_FULLPATH=DATAPATH+NC_FILENAME"
   ]
  },
  {
   "cell_type": "code",
   "execution_count": 6,
   "metadata": {
    "colab": {
     "base_uri": "https://localhost:8080/"
    },
    "id": "xTz0pkFlI_sr",
    "outputId": "394fb719-7642-451c-c235-acc8e8eca116"
   },
   "outputs": [
    {
     "name": "stdout",
     "output_type": "stream",
     "text": [
      "PC seqs loaded: 106143\n",
      "NC seqs loaded: 48752\n",
      "2021-07-20 15:57:04 EDT\n"
     ]
    }
   ],
   "source": [
    "loader=GenCodeLoader()\n",
    "loader.set_label(1)\n",
    "loader.set_check_utr(False)\n",
    "pcdf=loader.load_file(PC_FULLPATH)\n",
    "print(\"PC seqs loaded:\",len(pcdf))\n",
    "loader.set_label(0)\n",
    "loader.set_check_utr(False)\n",
    "ncdf=loader.load_file(NC_FULLPATH)\n",
    "print(\"NC seqs loaded:\",len(ncdf))\n",
    "show_time()"
   ]
  },
  {
   "cell_type": "markdown",
   "metadata": {
    "id": "CCNh_FZaI_sv"
   },
   "source": [
    "## Data Prep"
   ]
  },
  {
   "cell_type": "code",
   "execution_count": 7,
   "metadata": {
    "colab": {
     "base_uri": "https://localhost:8080/"
    },
    "id": "mkBXTJ__I_sx",
    "outputId": "ec59ac9b-9f82-4a37-ba5b-718804b6a245"
   },
   "outputs": [
    {
     "name": "stdout",
     "output_type": "stream",
     "text": [
      "2021-07-20 15:57:04 EDT\n",
      "PC seqs pass filter: 88964\n",
      "NC seqs pass filter: 46919\n"
     ]
    }
   ],
   "source": [
    "def dataframe_length_filter(df,low_high):\n",
    "    (low,high)=low_high\n",
    "    # The pandas query language is strange, \n",
    "    # but this is MUCH faster than loop & drop.\n",
    "    return df[ (df['seqlen']>=low) & (df['seqlen']<=high) ]\n",
    "def dataframe_extract_sequence(df):\n",
    "    return df['sequence'].tolist()\n",
    "\n",
    "pc_all = dataframe_extract_sequence(\n",
    "    dataframe_length_filter(pcdf,PC_LENS))\n",
    "nc_all = dataframe_extract_sequence(\n",
    "    dataframe_length_filter(ncdf,NC_LENS))\n",
    "\n",
    "show_time()\n",
    "print(\"PC seqs pass filter:\",len(pc_all))\n",
    "print(\"NC seqs pass filter:\",len(nc_all))\n",
    "# Garbage collection to reduce RAM footprint\n",
    "pcdf=None\n",
    "ncdf=None"
   ]
  },
  {
   "cell_type": "code",
   "execution_count": 8,
   "metadata": {
    "colab": {
     "base_uri": "https://localhost:8080/"
    },
    "id": "V91rP2osI_s1",
    "outputId": "e4a493ab-029a-4da0-b8c3-1a36fe012b31"
   },
   "outputs": [
    {
     "name": "stdout",
     "output_type": "stream",
     "text": [
      "PC train, NC train: 100 100\n",
      "PC test, NC test: 10 10\n",
      "First PC train CCCAGATCTCTTCAGTTTTTATGCCTCATTCTGTGAAAATTGCTGTAGTCTCTTCCAGTTATGAAGAAGGTAACTGCAGAGGCTATTTCCTGGAATGAATCAACGAGTGAAACGAATAACTCTATGGTGACTGAATTCATTTTTCTGGGTCTCTCTGATTCTCAGGAACTCCAGACCTTCCTATTTATGTTGTTTTTTGTATTCTATGGAGGAATCGTGTTTGGAAACCTTCTTATTGTCATAACAGTGGTATCTGACTCCCACCTTCACTCTCCCATGTACTTCCTGCTAGCCAACCTCTCACTCATTGATCTGTCTCTGTCTTCAGTCACAGCCCCCAAGATGATTACTGACTTTTTCAGCCAGCGCAAAGTCATCTCTTTCAAGGGCTGCCTTGTTCAGATATTTCTCCTTCACTTCTTTGGTGGGAGTGAGATGGTGATCCTCATAGCCATGGGCTTTGACAGATATATAGCAATATGCAAGCCCCTACACTACACTACAATTATGTGTGGCAACGCATGTGTCGGCATTATGGCTGTCACATGGGGAATTGGCTTTCTCCATTCGGTGAGCCAGTTGGCGTTTGCCGTGCACTTACTCTTCTGTGGTCCCAATGAGGTCGATAGTTTTTATTGTGACCTTCCTAGGGTAATCAAACTTGCCTGTACAGATACCTACAGGCTAGATATTATGGTCATTGCTAACAGTGGTGTGCTCACTGTGTGTTCTTTTGTTCTTCTAATCATCTCATACACTATCATCCTAATGACCATCCAGCATCGCCCTTTAGATAAGTCGTCCAAAGCTCTGTCCACTTTGACTGCTCACATTACAGTAGTTCTTTTGTTCTTTGGACCATGTGTCTTTATTTATGCCTGGCCATTCCCCATCAAGTCATTAGATAAATTCCTTGCTGTATTTTATTCTGTGATCACCCCTCTCTTGAACCCAATTATATACACACTGAGGAACAAAGACATGAAGACGGCAATAAGACAGCTGAGAAAATGGGATGCACATTCTAGTGTAAAGTTTTAGATCTTATATAACTGTGAGATTAATCTCAGATAATGACACAAAATATAGTGAAGTTGGTAAGTTATTTAGTAAAGCTCATGAAAATTGTGCCCTCCATTCCCATATAATTTAGTAATTGTCTAGGAACTTCCACATACATTGCCTCAATTTATCTTTCAACAACTTGTGTGTTATATTTTGGAATACAGATACAAAGTTATTATGCTTTCAAAATATTCTTTTGCTAATTCTTAGAACAAAGAAAGGCATAAATATATTAGTATTTGTGTACACCTGTTCCTTCCTGTGTGACCCTAAGTTTAGTAGAAGAAAGGAGAGAAAATATAGCCTAGCTTATAAATTTAAAAAAAAATTTATTTGGTCCATTTTGTGAAAAACATAAAAAAAGAACTGTCACATCTTAATTTAAAAAATATATGCTTAGTGGTAAGGAGATATATGTCAACTTTTAAGAGGTTGAAAAACAAACGCCTCCCATTATAAGTTTATACTTCACCTCCCACCACTATAACAACCCAGAATCCATGAGGGCATTATCAGGAGTGAGTGGAAGAGTAAGTTTGCCAATGTGAAATGTGCCTTCTAGGTCCTAGACGTCTGTGGTATAACTGCTCATAAGCAGTAGAAAGAATTTAGAGGGATCCAGGCTCTCATCACGTTGGCACAAAGTATATTACTTGGATCCATCTATGTCATTTTCCATGGTTAATGTTTAAAAGCACAGGCTTTAAAGTAAAAAACAAAGAGCTGGATTCAACTCTACTGACTCTTATTAATCATGATTTTGGGCACATTACGTAGCTTTCATGAGCTTTAGTTTCTACATTTATAAACAGGAGATTATACCTATTATGCATGGTTATTATGAAGGAAAATGACAAAATAGATATAAATCAAATAGCCCACTTCGAGACATATTAAGCATGAATAAACATTAGATACTATTAAAATCCTATATATTAACAAAGCCAAAAGTTTCAAACTTTACTTTTTCCCAACATTCTTGTGAAATATGACACATCCCAATCTTAACAGATGCTCATTTGGGATACTGTACTTGTGAGTGGAAGTGTGTATATTTGTGTGCAAGTGTGTACTCATATACTTCCACCTTACCACCCTAGAAAGGCATGATGAAAATTTAAGATAGAAGGAAAATATAAATTGAAAAAAAAAAACCTTAACAAATGATTCTGACAAATATCTTCTCTTTCCAGGGAGAATCACTGAGCCAGAATAAAATTGAACACTAAATATTCTAAGAAAAAAGGAATCTAGTTTGTCAAAATGTGACTTGAATTAATAGATAAGGAGAGTCAGATGATAAGAGGGTCAAAATTATGTTTATCTTAGGAAAAGTAGAATAGAAAATTTATAAGCAGATTAAAAACACATAATAAAAGTAGTAAATAATAATGACAGTATCTCAAATCAGTGCAGGGGGGAAAGGCCTACTAATGTGATGGTGGGATAATTGGATAGCAATATGGGAAAAGATATATTTAATTTATTTGCTACACCAAATGCCAGGACAATCTCTAAGTGAATTCAAGACATAACTCTTTTTTCAAAAAAAC\n",
      "First PC test GCCTGCGCAGTGCATCACCGCAGGCGGGCCTCGCGGGTCCGGGAGCGCGGCGGAGACGATGCCTGAGATCAGAGTCACGCCCTTGGGTGCCTGCCCTGTGCTGTCCTGGAACCTGGTCCTTCCACCGGGCAGGGGGTCGAGGGCACCTTCCAGCACAGACACCAGGACGGGATTCCATGTCCTCCCCCATGGCGGGCCGGCCAGGACGTGGGCCGAAGCTGCATCCTGGTCTCCATTGCGGGCAAGAATGTCATGCTGGACTGTGGAATGCACATGGGCTTCAATGACGACCGACGCTTCCCTGACTTCTCCTACATCACCCAGAACGGCCGCCTAACAGACTTCCTGGACTGTGTGATCATTAGCCACTTCCACCTGGACCACTGCGGGGCACTCCCCTACTTCAGCGAGATGGTGGGCTACGACGGGCCCATCTACATGACTCACCCCACCCAGGCCATCTGCCCCATCTTGCTGGAGGACTACCGCAAGATCGCCGTAGACAAGAAGGGCGAGGCCAACTTCTTCACCTCCCAGATGATCAAAGACTGCATGAAGAAGGTGGTGGCTGTCCACCTCCACCAGACGGTCCAGGTAGATGATGAGCTGGAGATCAAGGCCTACTATGCAGGCCACGTGCTGGGGGCAGCCATGTTCCAGATTAAAGTGGGCTCAGAGTCTGTGGTCTACACGGGTGATTATAACATGACCCCAGACCGACACTTAGGAGCTGCCTGGATTGACAAGTGCCGCCCCAACCTGCTCATCACAGAGTCCACGTACGCCACGACCATCCGTGACTCCAAGCGCTGCCGGGAGCGAGACTTCCTGAAGAAAGTCCACGAGACCGTGGAGCGTGGTGGGAAGGTGCTGATACCTGTGTTCGCGCTGGGCCGCGCCCAGGAGCTCTGCATCCTCCTGGAGACCTTCTGGGAGCGCATGAACCTGAAGGTGCCCATCTACTTCTCCACGGGGCTGACCGAGAAGGCCAACCACTACTACAAGCTGTTCATCCCCTGGACCAACCAGAAGATCCGCAAGACTTTCGTGCAGAGGAACATGTTTGAGTTCAAGCACATCAAGGCCTTCGACCGGGCTTTTGCTGACAACCCAGGACCGATGGTTGTGTTTGCCACGCCAGGAATGCTGCACGCTGGGCAGTCCCTGCAGATCTTCCGGAAATGGGCCGGAAACGAAAAGAACATGGTCATCATGCCCGGCTACTGCGTGCAGGGCACCGTCGGCCACAAGATCCTCAGCGGGCAGCGGAAGCTCGAGATGGAGGGGCGGCAGGTGCTGGAGGTCAAGATGCAGGTGGAGTACATGTCATTCAGCGCACACGCGGACGCCAAGGGCATCATGCAGCTGGTGGGCCAGGCAGAGCCGGAGAGCGTGCTGCTGGTGCATGGCGAGGCCAAGAAGATGGAGTTCCTGAAGCAGAAGATCGAGCAGGAGCTCCGGGTCAACTGCTACATGCCGGCCAATGGCGAGACGGTGACGCTGCCCACAAGCCCCAGCATCCCCGTAGGCATCTCGCTGGGGCTGCTGAAGCGGGAGATGGCGCAGGGGCTGCTCCCTGAGGCCAAGAAGCCTCGGCTCCTGCACGGCACCCTGATCATGAAGGACAGCAACTTCCGGCTGGTGTCCTCAGAGCAAGCCCTCAAAGAGCTGGGTCTGGCTGAGCACCAGCTGCGCTTCACCTGCCGCGTGCACCTGCATGACACACGCAAGGAGCAGGAGACGGCATTGCGCGTCTACAGCCACCTCAAGAGCGTCCTGAAGGACCACTGTGTGCAGCACCTCCCAGACGGCTCTGTGACTGTGGAGTCCGTCCTCCTCCAGGCCGCCGCCCCTTCTGAGGACCCAGGCACCAAGGTGCTGCTGGTCTCCTGGACCTACCAGGACGAGGAGCTGGGGAGCTTCCTCACATCTCTGCTGAAGAAGGGCCTCCCCCAGGCCCCCAGCTGAGGCCGGCAACTCACCCAGCCGCCACCTCTGCCCTCT\n"
     ]
    }
   ],
   "source": [
    "# Any portion of a shuffled list is a random selection\n",
    "pc_train=pc_all[:PC_TRAINS] \n",
    "nc_train=nc_all[:NC_TRAINS]\n",
    "pc_test=pc_all[PC_TRAINS:PC_TRAINS+PC_TESTS] \n",
    "nc_test=nc_all[NC_TRAINS:NC_TRAINS+PC_TESTS]\n",
    "print(\"PC train, NC train:\",len(pc_train),len(nc_train))\n",
    "print(\"PC test, NC test:\",len(pc_test),len(nc_test))\n",
    "# Garbage collection\n",
    "pc_all=None\n",
    "nc_all=None\n",
    "print(\"First PC train\",pc_train[0])\n",
    "print(\"First PC test\",pc_test[0])"
   ]
  },
  {
   "cell_type": "code",
   "execution_count": 9,
   "metadata": {
    "colab": {
     "base_uri": "https://localhost:8080/"
    },
    "id": "FfyPeInGI_s4",
    "outputId": "48cc0489-433a-4144-dc27-8447821e40a5"
   },
   "outputs": [
    {
     "name": "stdout",
     "output_type": "stream",
     "text": [
      "['GTGCACACGGCTCCCATGCGTTGTCTTCCGAGCGTCAGGCCGCCCCTACCCGTGCTTTCTGCTCTGCAGACCCTCTTCCTAGACCTCCGTCCTTTGTCCCATCGCTGCCTTCCCCTCAAGCTCAGGGCCAAGCTGTCCGCCAACCTCGGCTCCTCCGGGCAGCCCTCGCCCGGGGTGCGCCCCGGGGCAGGACCCCCAGCCCACGCCCAGGGCCCGCCCCTGCCCTCCAGCCCTACGCCTTGACCCGCTTTCCTGCGTCTCTCAGCCTACCTGACCTTGTCTTTACCTCTGTGGGCAGCTCCCTTGTGATCTGCTTAGTTCCCACCCCCCTTTAAGAATTCAATAGAGAAGCCAGACGCAAAACTACAGATATCGTATGAGTCCAGTTTTGTGAAGTGCCTAGAATAGTCAAAATTCACAGAGACAGAAGCAGTGGTCGCCAGGAATGGGGAAGCAAGGCGGAGTTGGGCAGCTCGTGTTCAATGGTTTTGTCCGCCTTCCCTGCCTCCTCTTCTGGGGGAGTTAGATCGAGTTGTAACAAGAACATGCCACTGTCTCGCTGGCTGCAGCGTGTGGTCCCCTTACCAGAGTGAGGATGCGAAGAGAAGGTGGCTGTCTGCAAACCAGGAAGAGAGCCCTCACCGGGAACCCGTCCAGCTGCCACCTTGAACTTGGACTTCCAAGCCTCCAGAACTGTGAGGGATAAATGTAT'\n",
      " 'CCCAGATCTCTTCAGTTTTTATGCCTCATTCTGTGAAAATTGCTGTAGTCTCTTCCAGTTATGAAGAAGGTAACTGCAGAGGCTATTTCCTGGAATGAATCAACGAGTGAAACGAATAACTCTATGGTGACTGAATTCATTTTTCTGGGTCTCTCTGATTCTCAGGAACTCCAGACCTTCCTATTTATGTTGTTTTTTGTATTCTATGGAGGAATCGTGTTTGGAAACCTTCTTATTGTCATAACAGTGGTATCTGACTCCCACCTTCACTCTCCCATGTACTTCCTGCTAGCCAACCTCTCACTCATTGATCTGTCTCTGTCTTCAGTCACAGCCCCCAAGATGATTACTGACTTTTTCAGCCAGCGCAAAGTCATCTCTTTCAAGGGCTGCCTTGTTCAGATATTTCTCCTTCACTTCTTTGGTGGGAGTGAGATGGTGATCCTCATAGCCATGGGCTTTGACAGATATATAGCAATATGCAAGCCCCTACACTACACTACAATTATGTGTGGCAACGCATGTGTCGGCATTATGGCTGTCACATGGGGAATTGGCTTTCTCCATTCGGTGAGCCAGTTGGCGTTTGCCGTGCACTTACTCTTCTGTGGTCCCAATGAGGTCGATAGTTTTTATTGTGACCTTCCTAGGGTAATCAAACTTGCCTGTACAGATACCTACAGGCTAGATATTATGGTCATTGCTAACAGTGGTGTGCTCACTGTGTGTTCTTTTGTTCTTCTAATCATCTCATACACTATCATCCTAATGACCATCCAGCATCGCCCTTTAGATAAGTCGTCCAAAGCTCTGTCCACTTTGACTGCTCACATTACAGTAGTTCTTTTGTTCTTTGGACCATGTGTCTTTATTTATGCCTGGCCATTCCCCATCAAGTCATTAGATAAATTCCTTGCTGTATTTTATTCTGTGATCACCCCTCTCTTGAACCCAATTATATACACACTGAGGAACAAAGACATGAAGACGGCAATAAGACAGCTGAGAAAATGGGATGCACATTCTAGTGTAAAGTTTTAGATCTTATATAACTGTGAGATTAATCTCAGATAATGACACAAAATATAGTGAAGTTGGTAAGTTATTTAGTAAAGCTCATGAAAATTGTGCCCTCCATTCCCATATAATTTAGTAATTGTCTAGGAACTTCCACATACATTGCCTCAATTTATCTTTCAACAACTTGTGTGTTATATTTTGGAATACAGATACAAAGTTATTATGCTTTCAAAATATTCTTTTGCTAATTCTTAGAACAAAGAAAGGCATAAATATATTAGTATTTGTGTACACCTGTTCCTTCCTGTGTGACCCTAAGTTTAGTAGAAGAAAGGAGAGAAAATATAGCCTAGCTTATAAATTTAAAAAAAAATTTATTTGGTCCATTTTGTGAAAAACATAAAAAAAGAACTGTCACATCTTAATTTAAAAAATATATGCTTAGTGGTAAGGAGATATATGTCAACTTTTAAGAGGTTGAAAAACAAACGCCTCCCATTATAAGTTTATACTTCACCTCCCACCACTATAACAACCCAGAATCCATGAGGGCATTATCAGGAGTGAGTGGAAGAGTAAGTTTGCCAATGTGAAATGTGCCTTCTAGGTCCTAGACGTCTGTGGTATAACTGCTCATAAGCAGTAGAAAGAATTTAGAGGGATCCAGGCTCTCATCACGTTGGCACAAAGTATATTACTTGGATCCATCTATGTCATTTTCCATGGTTAATGTTTAAAAGCACAGGCTTTAAAGTAAAAAACAAAGAGCTGGATTCAACTCTACTGACTCTTATTAATCATGATTTTGGGCACATTACGTAGCTTTCATGAGCTTTAGTTTCTACATTTATAAACAGGAGATTATACCTATTATGCATGGTTATTATGAAGGAAAATGACAAAATAGATATAAATCAAATAGCCCACTTCGAGACATATTAAGCATGAATAAACATTAGATACTATTAAAATCCTATATATTAACAAAGCCAAAAGTTTCAAACTTTACTTTTTCCCAACATTCTTGTGAAATATGACACATCCCAATCTTAACAGATGCTCATTTGGGATACTGTACTTGTGAGTGGAAGTGTGTATATTTGTGTGCAAGTGTGTACTCATATACTTCCACCTTACCACCCTAGAAAGGCATGATGAAAATTTAAGATAGAAGGAAAATATAAATTGAAAAAAAAAAACCTTAACAAATGATTCTGACAAATATCTTCTCTTTCCAGGGAGAATCACTGAGCCAGAATAAAATTGAACACTAAATATTCTAAGAAAAAAGGAATCTAGTTTGTCAAAATGTGACTTGAATTAATAGATAAGGAGAGTCAGATGATAAGAGGGTCAAAATTATGTTTATCTTAGGAAAAGTAGAATAGAAAATTTATAAGCAGATTAAAAACACATAATAAAAGTAGTAAATAATAATGACAGTATCTCAAATCAGTGCAGGGGGGAAAGGCCTACTAATGTGATGGTGGGATAATTGGATAGCAATATGGGAAAAGATATATTTAATTTATTTGCTACACCAAATGCCAGGACAATCTCTAAGTGAATTCAAGACATAACTCTTTTTTCAAAAAAAC'\n",
      " 'TCATCAGTCCAAAGTCCAGCAGTTGTCCCTCCTGGAATCCGTTGGCTTGCCTCCGGCATTTTTGGCCCTTGCCTTTTAGGGTTGCCAGATTAAAAGACAGGATGCCCAGCTAGTTTGAATTTTAGATAAACAACGAATAATTTCGTAGCATAAATATGTCCCAAGCTTAGTTTGGGACATACTTATGCTAAAAAACATTATTGGTTGTTTATCTGAGATTCAGAATTAAGCATTTTATATTTTATTTGCTGCCTCTGGCCACCCTACTCTCTTCCTAACACTCTCTCCCTCTCCCAGTTTTGTCCGCCTTCCCTGCCTCCTCTTCTGGGGGAGTTAGATCGAGTTGTAACAAGAACATGCCACTGTCTCGCTGGCTGCAGCGTGTGGTCCCCTTACCAGAGTGAGGATGCGAAGAGAAGGTGGCTGTCTGCAAACCAGGAAGAGAGCCCTCACCGGGAACCCGTCCAGCTGCCACCTTGAACTTGGACTTCCAAGCCTCCAGAACTGTGAGGGATAAATGTATGATTTTAAAGTC']\n",
      "[0 1 0]\n",
      "2021-07-20 15:57:05 EDT\n"
     ]
    }
   ],
   "source": [
    "def prepare_x_and_y(seqs1,seqs0):\n",
    "    len1=len(seqs1)\n",
    "    len0=len(seqs0)\n",
    "    total=len1+len0\n",
    "    L1=np.ones(len1,dtype=np.int8)\n",
    "    L0=np.zeros(len0,dtype=np.int8)\n",
    "    S1 = np.asarray(seqs1)\n",
    "    S0 = np.asarray(seqs0)\n",
    "    all_labels = np.concatenate((L1,L0))\n",
    "    all_seqs = np.concatenate((S1,S0))  \n",
    "    for i in range(0,len0):\n",
    "        all_labels[i*2] = L0[i]\n",
    "        all_seqs[i*2] = S0[i]\n",
    "        all_labels[i*2+1] = L1[i]\n",
    "        all_seqs[i*2+1] = S1[i]\n",
    "    return all_seqs,all_labels  # use this to test unshuffled\n",
    "    # bug in next line?\n",
    "    X,y = shuffle(all_seqs,all_labels) # sklearn.utils.shuffle \n",
    "    #Doesn't fix it\n",
    "    #X = shuffle(all_seqs,random_state=3) # sklearn.utils.shuffle \n",
    "    #y = shuffle(all_labels,random_state=3) # sklearn.utils.shuffle \n",
    "    return X,y\n",
    "Xseq,y=prepare_x_and_y(pc_train,nc_train)\n",
    "print(Xseq[:3])\n",
    "print(y[:3])\n",
    "# Tests:\n",
    "show_time()"
   ]
  },
  {
   "cell_type": "code",
   "execution_count": 10,
   "metadata": {
    "colab": {
     "base_uri": "https://localhost:8080/"
    },
    "id": "LWLixZOfI_s7",
    "outputId": "e839bec1-f779-4602-f3fe-a0d9668ecc22"
   },
   "outputs": [
    {
     "name": "stdout",
     "output_type": "stream",
     "text": [
      "[[0.19241573 0.33146067 0.25421348 0.22191011 0.04781997 0.04219409\n",
      "  0.07735584 0.02531646 0.06329114 0.1350211  0.04500703 0.08860759\n",
      "  0.05625879 0.08157525 0.0604782  0.05625879 0.02531646 0.07313643\n",
      "  0.07032349 0.05203938 0.0084507  0.01126761 0.01830986 0.00985915\n",
      "  0.0084507  0.02112676 0.0056338  0.00704225 0.02676056 0.02253521\n",
      "  0.01408451 0.01408451 0.0056338  0.0056338  0.00985915 0.0028169\n",
      "  0.01549296 0.01126761 0.03239437 0.00422535 0.02676056 0.04788732\n",
      "  0.01830986 0.04225352 0.00422535 0.01830986 0.00985915 0.01267606\n",
      "  0.0084507  0.02957746 0.02535211 0.02535211 0.01971831 0.01126761\n",
      "  0.01830986 0.00704225 0.01549296 0.03521127 0.00985915 0.02112676\n",
      "  0.01408451 0.01690141 0.02253521 0.00704225 0.00422535 0.02112676\n",
      "  0.01971831 0.01126761 0.00422535 0.0084507  0.0084507  0.00422535\n",
      "  0.01267606 0.03098592 0.01126761 0.01830986 0.01126761 0.02394366\n",
      "  0.01408451 0.02112676 0.00704225 0.01690141 0.01549296 0.01267606]\n",
      " [0.27574257 0.23589109 0.20346535 0.28490099 0.08940069 0.04730064\n",
      "  0.06711243 0.07206538 0.06636949 0.07404656 0.02030708 0.07503715\n",
      "  0.05671124 0.04779594 0.04457652 0.05448242 0.06364537 0.06661714\n",
      "  0.07107479 0.08345716 0.03908599 0.01443175 0.02014432 0.02465424\n",
      "  0.01834035 0.01082381 0.00360794 0.01533373 0.02254961 0.01232712\n",
      "  0.01262778 0.01743836 0.02615755 0.01262778 0.01834035 0.0249549\n",
      "  0.01773903 0.0132291  0.01803969 0.01803969 0.01864101 0.01773903\n",
      "  0.00420926 0.02044498 0.00210463 0.00511124 0.00300661 0.00481058\n",
      "  0.01292844 0.01924233 0.01593506 0.02405292 0.02074564 0.00962117\n",
      "  0.01262778 0.01383043 0.01052315 0.01473241 0.00270595 0.01262778\n",
      "  0.01292844 0.00932051 0.01082381 0.00811786 0.00992183 0.01262778\n",
      "  0.01984366 0.0117258  0.02074564 0.01112447 0.01413109 0.02585689\n",
      "  0.01954299 0.01743836 0.00450992 0.02375225 0.01924233 0.01383043\n",
      "  0.01473241 0.02345159 0.02285027 0.02074564 0.0171377  0.02946482]\n",
      " [0.28072396 0.22832553 0.19972155 0.29122896 0.09204862 0.04710053\n",
      "  0.06647252 0.07520891 0.06609268 0.06963788 0.01810585 0.07432261\n",
      "  0.05684984 0.04532793 0.04342872 0.05419093 0.0662193  0.06609268\n",
      "  0.07141048 0.0874905  0.0367971  0.0150298  0.01995336 0.02306297\n",
      "  0.01762115 0.01088365 0.00336875 0.0150298  0.02280384 0.01295672\n",
      "  0.01243846 0.01762115 0.02435864 0.01192019 0.01762115 0.02461778\n",
      "  0.01684374 0.01269759 0.01891682 0.01736201 0.01969422 0.01839855\n",
      "  0.00492356 0.02202643 0.00259134 0.00492356 0.00310961 0.00518269\n",
      "  0.01217932 0.02047162 0.01710288 0.02384037 0.02073076 0.00906971\n",
      "  0.01321586 0.01399326 0.01062451 0.01606634 0.00285048 0.01321586\n",
      "  0.01347499 0.00958798 0.01114278 0.00803317 0.00932884 0.01347499\n",
      "  0.01839855 0.01269759 0.02047162 0.01036538 0.01373413 0.02435864\n",
      "  0.01788028 0.01943509 0.00466442 0.0233221  0.01813941 0.01528893\n",
      "  0.01554807 0.02280384 0.02306297 0.01943509 0.01865768 0.03057787]]\n",
      "2021-07-20 15:57:05 EDT\n"
     ]
    }
   ],
   "source": [
    "def seqs_to_kmer_freqs(seqs,max_K):\n",
    "    tool = KmerTools()  # from SimTools\n",
    "    empty = tool.make_dict_upto_K(max_K)\n",
    "    collection = []\n",
    "    for seq in seqs:\n",
    "        counts = empty\n",
    "        # Last param should be True when using Harvester.\n",
    "        counts = tool.update_count_one_K(counts,max_K,seq,True)\n",
    "        # Given counts for K=3, Harvester fills in counts for K=1,2.\n",
    "        counts = tool.harvest_counts_from_K(counts,max_K)\n",
    "        fdict = tool.count_to_frequency(counts,max_K)\n",
    "        freqs = list(fdict.values())\n",
    "        collection.append(freqs)\n",
    "    return np.asarray(collection)\n",
    "Xfrq=seqs_to_kmer_freqs(Xseq,MAX_K)\n",
    "print(Xfrq[:3])\n",
    "show_time()"
   ]
  },
  {
   "cell_type": "markdown",
   "metadata": {
    "id": "dJ4XhrzGI_s-"
   },
   "source": [
    "## Neural network"
   ]
  },
  {
   "cell_type": "code",
   "execution_count": 11,
   "metadata": {
    "colab": {
     "base_uri": "https://localhost:8080/"
    },
    "id": "o5NPW7zKI_tC",
    "outputId": "01468b9f-6a26-40cb-b320-cfd6be11e8ab"
   },
   "outputs": [
    {
     "name": "stdout",
     "output_type": "stream",
     "text": [
      "make_DNN\n",
      "input shape: (None, 84)\n",
      "Model: \"sequential\"\n",
      "_________________________________________________________________\n",
      "Layer (type)                 Output Shape              Param #   \n",
      "=================================================================\n",
      "dense (Dense)                (None, 128)               10880     \n",
      "_________________________________________________________________\n",
      "dropout (Dropout)            (None, 128)               0         \n",
      "_________________________________________________________________\n",
      "dense_1 (Dense)              (None, 128)               16512     \n",
      "_________________________________________________________________\n",
      "dropout_1 (Dropout)          (None, 128)               0         \n",
      "_________________________________________________________________\n",
      "dense_2 (Dense)              (None, 1)                 129       \n",
      "=================================================================\n",
      "Total params: 27,521\n",
      "Trainable params: 27,521\n",
      "Non-trainable params: 0\n",
      "_________________________________________________________________\n",
      "None\n"
     ]
    }
   ],
   "source": [
    "def make_DNN():\n",
    "    dt=np.float32\n",
    "    print(\"make_DNN\")\n",
    "    print(\"input shape:\",INPUT_SHAPE)\n",
    "    dnn = Sequential()\n",
    "    dnn.add(Dense(NEURONS,activation=\"sigmoid\",dtype=dt))  # relu doesn't work as well\n",
    "    dnn.add(Dropout(DROP_RATE))\n",
    "    dnn.add(Dense(NEURONS,activation=\"sigmoid\",dtype=dt)) \n",
    "    dnn.add(Dropout(DROP_RATE))\n",
    "    dnn.add(Dense(1,activation=\"sigmoid\",dtype=dt))   \n",
    "    dnn.compile(optimizer='adam',    # adadelta doesn't work as well\n",
    "                loss=BinaryCrossentropy(from_logits=False),\n",
    "                metrics=['accuracy'])   # add to default metrics=loss\n",
    "    dnn.build(input_shape=INPUT_SHAPE) \n",
    "    return dnn\n",
    "model = make_DNN()\n",
    "print(model.summary())"
   ]
  },
  {
   "cell_type": "code",
   "execution_count": 12,
   "metadata": {
    "id": "E2Dr6L9lI_tE"
   },
   "outputs": [],
   "source": [
    "def do_cross_validation(X,y):\n",
    "    cv_scores = []\n",
    "    fold=0\n",
    "    #mycallbacks = [ModelCheckpoint(\n",
    "    #    filepath=MODELPATH, save_best_only=True, \n",
    "    #    monitor='val_accuracy', mode='max')]   \n",
    "    # When shuffle=True, the valid indices are a random subset.\n",
    "    splitter = KFold(n_splits=SPLITS,shuffle=True) \n",
    "    model = None\n",
    "    for train_index,valid_index in splitter.split(X):\n",
    "        if fold < FOLDS:\n",
    "            fold += 1\n",
    "            X_train=X[train_index] # inputs for training\n",
    "            y_train=y[train_index] # labels for training\n",
    "            X_valid=X[valid_index] # inputs for validation\n",
    "            y_valid=y[valid_index] # labels for validation\n",
    "            print(\"MODEL\")\n",
    "            # Call constructor on each CV. Else, continually improves the same model.\n",
    "            model = model = make_DNN()\n",
    "            print(\"FIT\")  # model.fit() implements learning\n",
    "            start_time=time.time()\n",
    "            history=model.fit(X_train, y_train, \n",
    "                    epochs=EPOCHS, \n",
    "                    verbose=1,  # ascii art while learning\n",
    "                    # callbacks=mycallbacks,   # called at end of each epoch\n",
    "                    validation_data=(X_valid,y_valid))\n",
    "            end_time=time.time()\n",
    "            elapsed_time=(end_time-start_time)                        \n",
    "            print(\"Fold %d, %d epochs, %d sec\"%(fold,EPOCHS,elapsed_time))\n",
    "            # print(history.history.keys())  # all these keys will be shown in figure\n",
    "            pd.DataFrame(history.history).plot(figsize=(8,5))\n",
    "            plt.grid(True)\n",
    "            plt.gca().set_ylim(0,1) # any losses > 1 will be off the scale\n",
    "            plt.show()\n",
    "    return model  # parameters at end of training"
   ]
  },
  {
   "cell_type": "code",
   "execution_count": 13,
   "metadata": {
    "colab": {
     "base_uri": "https://localhost:8080/",
     "height": 1000
    },
    "id": "Ey7Q-YWcI_tH",
    "outputId": "73f860e0-866b-4a27-98c8-1a0dddf180fc"
   },
   "outputs": [
    {
     "name": "stdout",
     "output_type": "stream",
     "text": [
      "2021-07-20 15:57:05 EDT\n",
      "MODEL\n",
      "make_DNN\n",
      "input shape: (None, 84)\n",
      "FIT\n",
      "Epoch 1/100\n",
      "5/5 [==============================] - 21s 165ms/step - loss: 0.6963 - accuracy: 0.5058 - val_loss: 0.6899 - val_accuracy: 0.5500\n",
      "Epoch 2/100\n",
      "5/5 [==============================] - 0s 15ms/step - loss: 0.6987 - accuracy: 0.4495 - val_loss: 0.6983 - val_accuracy: 0.4500\n",
      "Epoch 3/100\n",
      "5/5 [==============================] - 0s 11ms/step - loss: 0.7071 - accuracy: 0.4633 - val_loss: 0.6914 - val_accuracy: 0.5500\n",
      "Epoch 4/100\n",
      "5/5 [==============================] - 0s 11ms/step - loss: 0.7026 - accuracy: 0.3761 - val_loss: 0.7090 - val_accuracy: 0.4500\n",
      "Epoch 5/100\n",
      "5/5 [==============================] - 0s 26ms/step - loss: 0.6925 - accuracy: 0.5462 - val_loss: 0.7010 - val_accuracy: 0.4500\n",
      "Epoch 6/100\n",
      "5/5 [==============================] - 0s 11ms/step - loss: 0.7038 - accuracy: 0.4537 - val_loss: 0.6891 - val_accuracy: 0.5500\n",
      "Epoch 7/100\n",
      "5/5 [==============================] - 0s 12ms/step - loss: 0.7018 - accuracy: 0.4721 - val_loss: 0.7018 - val_accuracy: 0.4500\n",
      "Epoch 8/100\n",
      "5/5 [==============================] - 0s 12ms/step - loss: 0.6899 - accuracy: 0.5300 - val_loss: 0.7000 - val_accuracy: 0.4500\n",
      "Epoch 9/100\n",
      "5/5 [==============================] - 0s 13ms/step - loss: 0.6892 - accuracy: 0.5196 - val_loss: 0.6942 - val_accuracy: 0.4500\n",
      "Epoch 10/100\n",
      "5/5 [==============================] - 0s 9ms/step - loss: 0.6974 - accuracy: 0.4157 - val_loss: 0.6932 - val_accuracy: 0.4500\n",
      "Epoch 11/100\n",
      "5/5 [==============================] - 0s 12ms/step - loss: 0.6943 - accuracy: 0.5208 - val_loss: 0.6925 - val_accuracy: 0.5500\n",
      "Epoch 12/100\n",
      "5/5 [==============================] - 0s 17ms/step - loss: 0.7025 - accuracy: 0.4352 - val_loss: 0.7052 - val_accuracy: 0.4500\n",
      "Epoch 13/100\n",
      "5/5 [==============================] - 0s 11ms/step - loss: 0.6949 - accuracy: 0.5286 - val_loss: 0.6979 - val_accuracy: 0.4500\n",
      "Epoch 14/100\n",
      "5/5 [==============================] - 0s 12ms/step - loss: 0.7037 - accuracy: 0.4207 - val_loss: 0.6943 - val_accuracy: 0.4500\n",
      "Epoch 15/100\n",
      "5/5 [==============================] - 0s 12ms/step - loss: 0.6984 - accuracy: 0.4931 - val_loss: 0.7001 - val_accuracy: 0.4500\n",
      "Epoch 16/100\n",
      "5/5 [==============================] - 0s 11ms/step - loss: 0.6955 - accuracy: 0.5043 - val_loss: 0.6903 - val_accuracy: 0.5500\n",
      "Epoch 17/100\n",
      "5/5 [==============================] - 0s 12ms/step - loss: 0.6920 - accuracy: 0.4957 - val_loss: 0.6929 - val_accuracy: 0.5500\n",
      "Epoch 18/100\n",
      "5/5 [==============================] - 0s 11ms/step - loss: 0.6950 - accuracy: 0.4947 - val_loss: 0.6977 - val_accuracy: 0.4500\n",
      "Epoch 19/100\n",
      "5/5 [==============================] - 0s 12ms/step - loss: 0.6962 - accuracy: 0.4979 - val_loss: 0.6995 - val_accuracy: 0.4500\n",
      "Epoch 20/100\n",
      "5/5 [==============================] - 0s 13ms/step - loss: 0.6920 - accuracy: 0.5096 - val_loss: 0.6917 - val_accuracy: 0.5500\n",
      "Epoch 21/100\n",
      "5/5 [==============================] - 0s 14ms/step - loss: 0.6900 - accuracy: 0.4843 - val_loss: 0.6973 - val_accuracy: 0.4500\n",
      "Epoch 22/100\n",
      "5/5 [==============================] - 0s 9ms/step - loss: 0.6958 - accuracy: 0.4938 - val_loss: 0.7026 - val_accuracy: 0.4500\n",
      "Epoch 23/100\n",
      "5/5 [==============================] - 0s 12ms/step - loss: 0.6920 - accuracy: 0.5386 - val_loss: 0.7034 - val_accuracy: 0.4500\n",
      "Epoch 24/100\n",
      "5/5 [==============================] - 0s 11ms/step - loss: 0.6917 - accuracy: 0.5356 - val_loss: 0.6891 - val_accuracy: 0.5500\n",
      "Epoch 25/100\n",
      "5/5 [==============================] - 0s 12ms/step - loss: 0.6930 - accuracy: 0.4928 - val_loss: 0.6896 - val_accuracy: 0.5500\n",
      "Epoch 26/100\n",
      "5/5 [==============================] - 0s 13ms/step - loss: 0.6898 - accuracy: 0.4973 - val_loss: 0.7014 - val_accuracy: 0.4500\n",
      "Epoch 27/100\n",
      "5/5 [==============================] - 0s 13ms/step - loss: 0.6932 - accuracy: 0.5297 - val_loss: 0.6989 - val_accuracy: 0.4500\n",
      "Epoch 28/100\n",
      "5/5 [==============================] - 0s 11ms/step - loss: 0.7032 - accuracy: 0.4730 - val_loss: 0.6955 - val_accuracy: 0.4500\n",
      "Epoch 29/100\n",
      "5/5 [==============================] - 0s 13ms/step - loss: 0.6944 - accuracy: 0.4883 - val_loss: 0.6985 - val_accuracy: 0.4500\n",
      "Epoch 30/100\n",
      "5/5 [==============================] - 0s 12ms/step - loss: 0.6946 - accuracy: 0.5246 - val_loss: 0.6982 - val_accuracy: 0.4500\n",
      "Epoch 31/100\n",
      "5/5 [==============================] - 0s 13ms/step - loss: 0.6940 - accuracy: 0.5009 - val_loss: 0.7001 - val_accuracy: 0.4500\n",
      "Epoch 32/100\n",
      "5/5 [==============================] - 0s 12ms/step - loss: 0.6924 - accuracy: 0.5131 - val_loss: 0.6964 - val_accuracy: 0.4500\n",
      "Epoch 33/100\n",
      "5/5 [==============================] - 0s 9ms/step - loss: 0.6914 - accuracy: 0.5881 - val_loss: 0.6901 - val_accuracy: 0.5500\n",
      "Epoch 34/100\n",
      "5/5 [==============================] - 0s 16ms/step - loss: 0.7006 - accuracy: 0.4562 - val_loss: 0.6959 - val_accuracy: 0.4500\n",
      "Epoch 35/100\n",
      "5/5 [==============================] - 0s 15ms/step - loss: 0.6995 - accuracy: 0.4532 - val_loss: 0.6989 - val_accuracy: 0.4500\n",
      "Epoch 36/100\n",
      "5/5 [==============================] - 0s 15ms/step - loss: 0.6998 - accuracy: 0.5088 - val_loss: 0.6998 - val_accuracy: 0.4500\n",
      "Epoch 37/100\n",
      "5/5 [==============================] - 0s 10ms/step - loss: 0.7016 - accuracy: 0.4477 - val_loss: 0.6965 - val_accuracy: 0.4500\n",
      "Epoch 38/100\n",
      "5/5 [==============================] - 0s 11ms/step - loss: 0.6958 - accuracy: 0.5212 - val_loss: 0.6940 - val_accuracy: 0.4500\n",
      "Epoch 39/100\n",
      "5/5 [==============================] - 0s 11ms/step - loss: 0.6970 - accuracy: 0.4805 - val_loss: 0.6938 - val_accuracy: 0.4500\n",
      "Epoch 40/100\n",
      "5/5 [==============================] - 0s 18ms/step - loss: 0.6920 - accuracy: 0.4284 - val_loss: 0.7026 - val_accuracy: 0.4500\n",
      "Epoch 41/100\n",
      "5/5 [==============================] - 0s 11ms/step - loss: 0.6961 - accuracy: 0.5221 - val_loss: 0.6974 - val_accuracy: 0.4500\n",
      "Epoch 42/100\n",
      "5/5 [==============================] - 0s 15ms/step - loss: 0.6969 - accuracy: 0.4595 - val_loss: 0.6902 - val_accuracy: 0.5500\n",
      "Epoch 43/100\n",
      "5/5 [==============================] - 0s 11ms/step - loss: 0.6936 - accuracy: 0.5305 - val_loss: 0.6962 - val_accuracy: 0.4500\n",
      "Epoch 44/100\n",
      "5/5 [==============================] - 0s 15ms/step - loss: 0.6914 - accuracy: 0.5030 - val_loss: 0.7063 - val_accuracy: 0.4500\n",
      "Epoch 45/100\n",
      "5/5 [==============================] - 0s 11ms/step - loss: 0.6904 - accuracy: 0.5200 - val_loss: 0.6959 - val_accuracy: 0.4500\n",
      "Epoch 46/100\n",
      "5/5 [==============================] - 0s 13ms/step - loss: 0.6996 - accuracy: 0.4600 - val_loss: 0.6941 - val_accuracy: 0.4500\n",
      "Epoch 47/100\n",
      "5/5 [==============================] - 0s 11ms/step - loss: 0.6985 - accuracy: 0.4112 - val_loss: 0.6931 - val_accuracy: 0.5250\n",
      "Epoch 48/100\n",
      "5/5 [==============================] - 0s 9ms/step - loss: 0.6985 - accuracy: 0.5141 - val_loss: 0.7043 - val_accuracy: 0.4500\n",
      "Epoch 49/100\n",
      "5/5 [==============================] - 0s 11ms/step - loss: 0.6933 - accuracy: 0.5012 - val_loss: 0.6942 - val_accuracy: 0.4500\n",
      "Epoch 50/100\n",
      "5/5 [==============================] - 0s 15ms/step - loss: 0.6945 - accuracy: 0.4758 - val_loss: 0.6896 - val_accuracy: 0.5500\n",
      "Epoch 51/100\n",
      "5/5 [==============================] - 0s 10ms/step - loss: 0.7009 - accuracy: 0.3920 - val_loss: 0.6997 - val_accuracy: 0.4500\n",
      "Epoch 52/100\n",
      "5/5 [==============================] - 0s 10ms/step - loss: 0.6945 - accuracy: 0.5240 - val_loss: 0.7006 - val_accuracy: 0.4500\n",
      "Epoch 53/100\n",
      "5/5 [==============================] - 0s 9ms/step - loss: 0.6905 - accuracy: 0.5334 - val_loss: 0.6944 - val_accuracy: 0.4500\n",
      "Epoch 54/100\n",
      "5/5 [==============================] - 0s 15ms/step - loss: 0.6959 - accuracy: 0.4464 - val_loss: 0.6918 - val_accuracy: 0.5500\n",
      "Epoch 55/100\n",
      "5/5 [==============================] - 0s 17ms/step - loss: 0.6938 - accuracy: 0.4968 - val_loss: 0.6997 - val_accuracy: 0.4500\n",
      "Epoch 56/100\n",
      "5/5 [==============================] - 0s 12ms/step - loss: 0.6916 - accuracy: 0.5646 - val_loss: 0.7029 - val_accuracy: 0.4500\n",
      "Epoch 57/100\n",
      "5/5 [==============================] - 0s 15ms/step - loss: 0.6938 - accuracy: 0.5438 - val_loss: 0.6963 - val_accuracy: 0.4500\n",
      "Epoch 58/100\n",
      "5/5 [==============================] - 0s 12ms/step - loss: 0.6926 - accuracy: 0.5299 - val_loss: 0.6936 - val_accuracy: 0.4500\n"
     ]
    },
    {
     "name": "stdout",
     "output_type": "stream",
     "text": [
      "Epoch 59/100\n",
      "5/5 [==============================] - 0s 9ms/step - loss: 0.6995 - accuracy: 0.4905 - val_loss: 0.6976 - val_accuracy: 0.4500\n",
      "Epoch 60/100\n",
      "5/5 [==============================] - 0s 11ms/step - loss: 0.6887 - accuracy: 0.5792 - val_loss: 0.6968 - val_accuracy: 0.4500\n",
      "Epoch 61/100\n",
      "5/5 [==============================] - 0s 10ms/step - loss: 0.6909 - accuracy: 0.5225 - val_loss: 0.6942 - val_accuracy: 0.4500\n",
      "Epoch 62/100\n",
      "5/5 [==============================] - 0s 10ms/step - loss: 0.6978 - accuracy: 0.4803 - val_loss: 0.6940 - val_accuracy: 0.4500\n",
      "Epoch 63/100\n",
      "5/5 [==============================] - 0s 8ms/step - loss: 0.6945 - accuracy: 0.4684 - val_loss: 0.6973 - val_accuracy: 0.4500\n",
      "Epoch 64/100\n",
      "5/5 [==============================] - 0s 10ms/step - loss: 0.6963 - accuracy: 0.5112 - val_loss: 0.7045 - val_accuracy: 0.4500\n",
      "Epoch 65/100\n",
      "5/5 [==============================] - 0s 10ms/step - loss: 0.6931 - accuracy: 0.5477 - val_loss: 0.6959 - val_accuracy: 0.4500\n",
      "Epoch 66/100\n",
      "5/5 [==============================] - 0s 11ms/step - loss: 0.6943 - accuracy: 0.5202 - val_loss: 0.6911 - val_accuracy: 0.5500\n",
      "Epoch 67/100\n",
      "5/5 [==============================] - 0s 8ms/step - loss: 0.6963 - accuracy: 0.5098 - val_loss: 0.6921 - val_accuracy: 0.5500\n",
      "Epoch 68/100\n",
      "5/5 [==============================] - 0s 11ms/step - loss: 0.6954 - accuracy: 0.5368 - val_loss: 0.6962 - val_accuracy: 0.4500\n",
      "Epoch 69/100\n",
      "5/5 [==============================] - 0s 9ms/step - loss: 0.6919 - accuracy: 0.5018 - val_loss: 0.7103 - val_accuracy: 0.4500\n",
      "Epoch 70/100\n",
      "5/5 [==============================] - 0s 11ms/step - loss: 0.6981 - accuracy: 0.5187 - val_loss: 0.6946 - val_accuracy: 0.4500\n",
      "Epoch 71/100\n",
      "5/5 [==============================] - 0s 11ms/step - loss: 0.6923 - accuracy: 0.5159 - val_loss: 0.6929 - val_accuracy: 0.5250\n",
      "Epoch 72/100\n",
      "5/5 [==============================] - 0s 10ms/step - loss: 0.6976 - accuracy: 0.4742 - val_loss: 0.6932 - val_accuracy: 0.5250\n",
      "Epoch 73/100\n",
      "5/5 [==============================] - 0s 11ms/step - loss: 0.6912 - accuracy: 0.4881 - val_loss: 0.7008 - val_accuracy: 0.4500\n",
      "Epoch 74/100\n",
      "5/5 [==============================] - 0s 9ms/step - loss: 0.6905 - accuracy: 0.5368 - val_loss: 0.7072 - val_accuracy: 0.4500\n",
      "Epoch 75/100\n",
      "5/5 [==============================] - 0s 12ms/step - loss: 0.6994 - accuracy: 0.4583 - val_loss: 0.6892 - val_accuracy: 0.5500\n",
      "Epoch 76/100\n",
      "5/5 [==============================] - 0s 10ms/step - loss: 0.6974 - accuracy: 0.4734 - val_loss: 0.6916 - val_accuracy: 0.5500\n",
      "Epoch 77/100\n",
      "5/5 [==============================] - 0s 13ms/step - loss: 0.6918 - accuracy: 0.5143 - val_loss: 0.7096 - val_accuracy: 0.4500\n",
      "Epoch 78/100\n",
      "5/5 [==============================] - 0s 8ms/step - loss: 0.6837 - accuracy: 0.5736 - val_loss: 0.7102 - val_accuracy: 0.4500\n",
      "Epoch 79/100\n",
      "5/5 [==============================] - 0s 8ms/step - loss: 0.6835 - accuracy: 0.5445 - val_loss: 0.6898 - val_accuracy: 0.5500\n",
      "Epoch 80/100\n",
      "5/5 [==============================] - 0s 10ms/step - loss: 0.6931 - accuracy: 0.5559 - val_loss: 0.6883 - val_accuracy: 0.5500\n",
      "Epoch 81/100\n",
      "5/5 [==============================] - 0s 9ms/step - loss: 0.6958 - accuracy: 0.5194 - val_loss: 0.7046 - val_accuracy: 0.4500\n",
      "Epoch 82/100\n",
      "5/5 [==============================] - 0s 10ms/step - loss: 0.6902 - accuracy: 0.5407 - val_loss: 0.7176 - val_accuracy: 0.4500\n",
      "Epoch 83/100\n",
      "5/5 [==============================] - 0s 11ms/step - loss: 0.6952 - accuracy: 0.5274 - val_loss: 0.6909 - val_accuracy: 0.5500\n",
      "Epoch 84/100\n",
      "5/5 [==============================] - 0s 10ms/step - loss: 0.6986 - accuracy: 0.4964 - val_loss: 0.6889 - val_accuracy: 0.5500\n",
      "Epoch 85/100\n",
      "5/5 [==============================] - 0s 10ms/step - loss: 0.6970 - accuracy: 0.4907 - val_loss: 0.6936 - val_accuracy: 0.4500\n",
      "Epoch 86/100\n",
      "5/5 [==============================] - 0s 10ms/step - loss: 0.6929 - accuracy: 0.4945 - val_loss: 0.7102 - val_accuracy: 0.4500\n",
      "Epoch 87/100\n",
      "5/5 [==============================] - 0s 13ms/step - loss: 0.6987 - accuracy: 0.5254 - val_loss: 0.7089 - val_accuracy: 0.4500\n",
      "Epoch 88/100\n",
      "5/5 [==============================] - 0s 9ms/step - loss: 0.6858 - accuracy: 0.5490 - val_loss: 0.6916 - val_accuracy: 0.5500\n",
      "Epoch 89/100\n",
      "5/5 [==============================] - 0s 11ms/step - loss: 0.6940 - accuracy: 0.4658 - val_loss: 0.6889 - val_accuracy: 0.5500\n",
      "Epoch 90/100\n",
      "5/5 [==============================] - 0s 10ms/step - loss: 0.6896 - accuracy: 0.4777 - val_loss: 0.6975 - val_accuracy: 0.4500\n",
      "Epoch 91/100\n",
      "5/5 [==============================] - 0s 10ms/step - loss: 0.6940 - accuracy: 0.4818 - val_loss: 0.7081 - val_accuracy: 0.4500\n",
      "Epoch 92/100\n",
      "5/5 [==============================] - 0s 11ms/step - loss: 0.6936 - accuracy: 0.5398 - val_loss: 0.6996 - val_accuracy: 0.4500\n",
      "Epoch 93/100\n",
      "5/5 [==============================] - 0s 8ms/step - loss: 0.6932 - accuracy: 0.5371 - val_loss: 0.6917 - val_accuracy: 0.5500\n",
      "Epoch 94/100\n",
      "5/5 [==============================] - 0s 11ms/step - loss: 0.6896 - accuracy: 0.5490 - val_loss: 0.6933 - val_accuracy: 0.5000\n",
      "Epoch 95/100\n",
      "5/5 [==============================] - 0s 10ms/step - loss: 0.6942 - accuracy: 0.4885 - val_loss: 0.6935 - val_accuracy: 0.4500\n",
      "Epoch 96/100\n",
      "5/5 [==============================] - 0s 20ms/step - loss: 0.6888 - accuracy: 0.5333 - val_loss: 0.6972 - val_accuracy: 0.4500\n",
      "Epoch 97/100\n",
      "5/5 [==============================] - 0s 40ms/step - loss: 0.6952 - accuracy: 0.4961 - val_loss: 0.6959 - val_accuracy: 0.4500\n",
      "Epoch 98/100\n",
      "5/5 [==============================] - 0s 28ms/step - loss: 0.6941 - accuracy: 0.5858 - val_loss: 0.7007 - val_accuracy: 0.4500\n",
      "Epoch 99/100\n",
      "5/5 [==============================] - 0s 8ms/step - loss: 0.6942 - accuracy: 0.4780 - val_loss: 0.6934 - val_accuracy: 0.4500\n",
      "Epoch 100/100\n",
      "5/5 [==============================] - 0s 11ms/step - loss: 0.6942 - accuracy: 0.4845 - val_loss: 0.6902 - val_accuracy: 0.5500\n",
      "Fold 1, 100 epochs, 27 sec\n"
     ]
    },
    {
     "data": {
      "image/png": "[encoded data removed]",
      "text/plain": [
       "<Figure size 576x360 with 1 Axes>"
      ]
     },
     "metadata": {
      "needs_background": "light"
     },
     "output_type": "display_data"
    }
   ],
   "source": [
    "show_time()\n",
    "last_model = do_cross_validation(Xfrq,y)"
   ]
  },
  {
   "cell_type": "code",
   "execution_count": 14,
   "metadata": {
    "id": "tGf2PcxRC8jT"
   },
   "outputs": [],
   "source": [
    "def show_test_AUC(model,X,y):\n",
    "    ns_probs = [0 for _ in range(len(y))]\n",
    "    bm_probs = model.predict(X)\n",
    "    ns_auc = roc_auc_score(y, ns_probs)\n",
    "    bm_auc = roc_auc_score(y, bm_probs)\n",
    "    ns_fpr, ns_tpr, _ = roc_curve(y, ns_probs)\n",
    "    bm_fpr, bm_tpr, _ = roc_curve(y, bm_probs)\n",
    "    plt.plot(ns_fpr, ns_tpr, linestyle='--', label='Guess, auc=%.4f'%ns_auc)\n",
    "    plt.plot(bm_fpr, bm_tpr, marker='.', label='Model, auc=%.4f'%bm_auc)\n",
    "    plt.title('ROC')\n",
    "    plt.xlabel('False Positive Rate')\n",
    "    plt.ylabel('True Positive Rate')\n",
    "    plt.legend()\n",
    "    plt.show()\n",
    "    print(\"%s: %.2f%%\" %('AUC',bm_auc*100.0))\n",
    "def show_test_accuracy(model,X,y):\n",
    "    scores = model.evaluate(X, y, verbose=0)\n",
    "    print(\"%s: %.2f%%\" % (model.metrics_names[1], scores[1]*100))\n"
   ]
  },
  {
   "cell_type": "code",
   "execution_count": 15,
   "metadata": {
    "colab": {
     "base_uri": "https://localhost:8080/",
     "height": 469
    },
    "id": "MXkPiM4_FG2N",
    "outputId": "aa87c5e0-ebd1-43d0-a693-e4c56d81131a"
   },
   "outputs": [
    {
     "name": "stdout",
     "output_type": "stream",
     "text": [
      "Accuracy on training data.\n",
      "Prepare...\n",
      "2021-07-20 15:57:33 EDT\n",
      "Extract K-mer features...\n",
      "2021-07-20 15:57:33 EDT\n",
      "Plot...\n",
      "2021-07-20 15:57:33 EDT\n"
     ]
    },
    {
     "data": {
      "image/png": "[encoded data removed]",
      "text/plain": [
       "<Figure size 432x288 with 1 Axes>"
      ]
     },
     "metadata": {
      "needs_background": "light"
     },
     "output_type": "display_data"
    },
    {
     "name": "stdout",
     "output_type": "stream",
     "text": [
      "AUC: 52.74%\n",
      "accuracy: 50.00%\n",
      "2021-07-20 15:57:34 EDT\n"
     ]
    }
   ],
   "source": [
    "print(\"Accuracy on training data.\")\n",
    "print(\"Prepare...\")\n",
    "show_time()\n",
    "Xseq,y=prepare_x_and_y(pc_train,nc_train)\n",
    "print(\"Extract K-mer features...\")\n",
    "show_time()\n",
    "Xfrq=seqs_to_kmer_freqs(Xseq,MAX_K)\n",
    "print(\"Plot...\")\n",
    "show_time()\n",
    "show_test_AUC(last_model,Xfrq,y)\n",
    "show_test_accuracy(last_model,Xfrq,y)\n",
    "show_time()"
   ]
  },
  {
   "cell_type": "code",
   "execution_count": 16,
   "metadata": {
    "colab": {
     "base_uri": "https://localhost:8080/",
     "height": 469
    },
    "id": "kdD6SyVhFXaM",
    "outputId": "5929d345-d127-4344-feea-1588bc84eaeb"
   },
   "outputs": [
    {
     "name": "stdout",
     "output_type": "stream",
     "text": [
      "Accuracy on test data.\n",
      "Prepare...\n",
      "2021-07-20 15:57:34 EDT\n",
      "Extract K-mer features...\n",
      "2021-07-20 15:57:34 EDT\n",
      "Plot...\n",
      "2021-07-20 15:57:34 EDT\n"
     ]
    },
    {
     "data": {
      "image/png": "[encoded data removed]",
      "text/plain": [
       "<Figure size 432x288 with 1 Axes>"
      ]
     },
     "metadata": {
      "needs_background": "light"
     },
     "output_type": "display_data"
    },
    {
     "name": "stdout",
     "output_type": "stream",
     "text": [
      "AUC: 78.00%\n",
      "accuracy: 50.00%\n",
      "2021-07-20 15:57:35 EDT\n"
     ]
    }
   ],
   "source": [
    "print(\"Accuracy on test data.\")\n",
    "print(\"Prepare...\")\n",
    "show_time()\n",
    "Xseq,y=prepare_x_and_y(pc_test,nc_test)\n",
    "print(\"Extract K-mer features...\")\n",
    "show_time()\n",
    "Xfrq=seqs_to_kmer_freqs(Xseq,MAX_K)\n",
    "print(\"Plot...\")\n",
    "show_time()\n",
    "show_test_AUC(last_model,Xfrq,y)\n",
    "show_test_accuracy(last_model,Xfrq,y)\n",
    "show_time()"
   ]
  }
 ],
 "metadata": {
  "accelerator": "GPU",
  "colab": {
   "collapsed_sections": [],
   "name": "MLP_GenCode_112.ipynb",
   "provenance": []
  },
  "kernelspec": {
   "display_name": "Python 3",
   "language": "python",
   "name": "python3"
  },
  "language_info": {
   "codemirror_mode": {
    "name": "ipython",
    "version": 3
   },
   "file_extension": ".py",
   "mimetype": "text/x-python",
   "name": "python",
   "nbconvert_exporter": "python",
   "pygments_lexer": "ipython3",
   "version": "3.8.3"
  }
 },
 "nbformat": 4,
 "nbformat_minor": 1
}
