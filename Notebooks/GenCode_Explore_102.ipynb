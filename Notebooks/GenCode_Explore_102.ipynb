{
  "nbformat": 4,
  "nbformat_minor": 0,
  "metadata": {
    "kernelspec": {
      "display_name": "Python 3",
      "language": "python",
      "name": "python3"
    },
    "language_info": {
      "codemirror_mode": {
        "name": "ipython",
        "version": 3
      },
      "file_extension": ".py",
      "mimetype": "text/x-python",
      "name": "python",
      "nbconvert_exporter": "python",
      "pygments_lexer": "ipython3",
      "version": "3.8.3"
    },
    "colab": {
      "name": "GenCode_Explore_102.ipynb",
      "provenance": [],
      "collapsed_sections": []
    }
  },
  "cells": [
    {
      "cell_type": "markdown",
      "metadata": {
        "id": "3ydlCvVnOhLI"
      },
      "source": [
        "# GenCode Explore\n",
        "\n",
        "Explore the human RNA sequences from GenCode.\n",
        "\n",
        "Assume user downloaded files from GenCode 38 [FTP](http://ftp.ebi.ac.uk/pub/databases/gencode/Gencode_human/release_38/)\n",
        "to a subdirectory called data.\n",
        "\n",
        "Exclude mitochondrial genes because many have non-standard start and stop codons."
      ]
    },
    {
      "cell_type": "code",
      "metadata": {
        "colab": {
          "base_uri": "https://localhost:8080/"
        },
        "id": "zgYwU6EWOhLP",
        "outputId": "1eb57313-6608-4949-e0ca-73bf89aa8e53"
      },
      "source": [
        "import time \n",
        "def show_time():\n",
        "    t = time.time()\n",
        "    s = time.strftime('%Y-%m-%d %H:%M:%S %Z', time.localtime(t))\n",
        "    print(s)\n",
        "show_time()"
      ],
      "execution_count": 1,
      "outputs": [
        {
          "output_type": "stream",
          "text": [
            "2021-06-02 19:41:09 UTC\n"
          ],
          "name": "stdout"
        }
      ]
    },
    {
      "cell_type": "code",
      "metadata": {
        "colab": {
          "base_uri": "https://localhost:8080/"
        },
        "id": "V50q76mqOhLV",
        "outputId": "9f203641-a384-4b47-dcc3-4ee3a1af45d5"
      },
      "source": [
        "import numpy as np\n",
        "import pandas as pd\n",
        "import gzip\n",
        "import sys\n",
        "try:\n",
        "    from google.colab import drive\n",
        "    IN_COLAB = True\n",
        "    print(\"On Google CoLab, mount cloud-local file, get our code from GitHub.\")\n",
        "    PATH='/content/drive/'\n",
        "    #drive.mount(PATH,force_remount=True)  # hardly ever need this\n",
        "    drive.mount(PATH)    # Google will require login credentials\n",
        "    DATAPATH=PATH+'My Drive/data/'  # must end in \"/\"\n",
        "    import requests\n",
        "    s = requests.get('https://raw.githubusercontent.com/ShepherdCode/Soars2021/master/SimTools/RNA_describe.py')\n",
        "    with open('RNA_describe.py', 'w') as f:\n",
        "        f.write(s.text)  # writes to cloud local, delete the file later?\n",
        "    s = requests.get('https://raw.githubusercontent.com/ShepherdCode/Soars2021/master/SimTools/RNA_special.py')\n",
        "    with open('RNA_special.py', 'w') as f:\n",
        "        f.write(s.text)  # writes to cloud local, delete the file later?\n",
        "    from RNA_describe import *\n",
        "    from RNA_special import *\n",
        "except:\n",
        "    print(\"CoLab not working. On my PC, use relative paths.\")\n",
        "    IN_COLAB = False\n",
        "    DATAPATH='../data/'  # must end in \"/\"\n",
        "    sys.path.append(\"..\") # append parent dir in order to use sibling dirs\n",
        "    from SimTools.RNA_describe import *\n",
        "    from SimTools.RNA_special import *\n",
        "\n",
        "MODELPATH=\"BestModel\"  # saved on cloud instance and lost after logout\n",
        "#MODELPATH=DATAPATH+MODELPATH  # saved on Google Drive but requires login\n",
        "\n",
        "if not assert_imported_RNA_describe():\n",
        "    print(\"ERROR: Cannot use RNA_describe.\")"
      ],
      "execution_count": 2,
      "outputs": [
        {
          "output_type": "stream",
          "text": [
            "On Google CoLab, mount cloud-local file, get our code from GitHub.\n",
            "Drive already mounted at /content/drive/; to attempt to forcibly remount, call drive.mount(\"/content/drive/\", force_remount=True).\n"
          ],
          "name": "stdout"
        }
      ]
    },
    {
      "cell_type": "code",
      "metadata": {
        "id": "CB5Rb5oYOhLa"
      },
      "source": [
        "PC_FILENAME='gencode.v38.pc_transcripts.fa.gz'\n",
        "NC_FILENAME='gencode.v38.lncRNA_transcripts.fa.gz'\n",
        "TEST_FILENAME='test.fa.gz'"
      ],
      "execution_count": 3,
      "outputs": []
    },
    {
      "cell_type": "code",
      "metadata": {
        "id": "CChPHdTIOhLd"
      },
      "source": [
        "def load_gencode(filename,label):\n",
        "    DEFLINE='>'  # start of line with ids in a FASTA FILE\n",
        "    DELIM='|'    # character between ids\n",
        "    VERSION='.'  # character between id and version\n",
        "    EMPTY=''     # use this to avoid saving \"previous\" sequence in first iteration\n",
        "    labels=[]  # usually 1 for protein-coding or 0 for non-coding\n",
        "    seqs=[]    # usually strings of ACGT\n",
        "    lens=[]    # sequence length\n",
        "    ids=[]     # GenCode transcript ID, always starts ENST, excludes version\n",
        "    one_seq = EMPTY\n",
        "    one_id = None\n",
        "    special = RNA_Special_Cases()\n",
        "    special.mitochondria()\n",
        "    # Use gzip 'r' mode to open file in read-only mode.\n",
        "    # Use gzip 't' mode to read each line of text as type string.\n",
        "    with gzip.open (filename,'rt') as infile:\n",
        "        for line in infile:\n",
        "            if line[0]==DEFLINE:\n",
        "                # Save the previous sequence (if previous exists).\n",
        "                if not one_seq == EMPTY and not special.is_special(one_id):\n",
        "                    labels.append(label)\n",
        "                    seqs.append(one_seq)\n",
        "                    lens.append(len(one_seq))\n",
        "                    ids.append(one_id)\n",
        "                # Get ready to read the next sequence. \n",
        "                # Parse a GenCode defline that is formatted like this:\n",
        "                # >ENST0001234.5|gene_ID|other_fields other_info|other_info\n",
        "                # Use the following if ever GenCode includes an ID with no version\n",
        "                # one_id = line[1:].split(DELIM)[0].split(VERSION)[0] \n",
        "                one_id = line[1:].split(VERSION)[0]\n",
        "                one_seq = EMPTY\n",
        "            else:\n",
        "                # Continue loading sequence lines till next defline.\n",
        "                additional = line.rstrip()\n",
        "                one_seq = one_seq + additional\n",
        "        # Don't forget to save the last sequence after end-of-file.\n",
        "        if not one_seq == EMPTY and not special.is_special(one_id):\n",
        "            labels.append(label)\n",
        "            seqs.append(one_seq)\n",
        "            lens.append(len(one_seq))\n",
        "            ids.append(one_id)\n",
        "\n",
        "    df1=pd.DataFrame(ids,columns=['tid'])\n",
        "    df2=pd.DataFrame(labels,columns=['class'])\n",
        "    df3=pd.DataFrame(seqs,columns=['sequence'])\n",
        "    df4=pd.DataFrame(lens,columns=['seqlen'])\n",
        "    df=pd.concat((df1,df2,df3,df4),axis=1)\n",
        "    return df"
      ],
      "execution_count": 4,
      "outputs": []
    },
    {
      "cell_type": "markdown",
      "metadata": {
        "id": "KTqAt2JmOhLj"
      },
      "source": [
        "## Load the GenCode data.\n",
        "Warning: GenCode has\n",
        "over 100K protein-coding RNA (mRNA) \n",
        "and almost 50K non-coding RNA (lncRNA)."
      ]
    },
    {
      "cell_type": "code",
      "metadata": {
        "colab": {
          "base_uri": "https://localhost:8080/"
        },
        "id": "R-sj2TKaOhLl",
        "outputId": "f95b1e55-ea41-4d21-e267-e3b1b8e45391"
      },
      "source": [
        "# Full GenCode ver 38 human is 106143 pc + 48752 nc and loads in 7 sec.\n",
        "# Expect fewer transcripts if special filtering is used.\n",
        "PC_FULLPATH=DATAPATH+PC_FILENAME\n",
        "NC_FULLPATH=DATAPATH+NC_FILENAME\n",
        "show_time()\n",
        "pcdf=load_gencode(PC_FULLPATH,1)\n",
        "print(\"PC seqs loaded:\",len(pcdf))\n",
        "show_time()\n",
        "ncdf=load_gencode(NC_FULLPATH,0)\n",
        "print(\"NC seqs loaded:\",len(ncdf))\n",
        "show_time()"
      ],
      "execution_count": 5,
      "outputs": [
        {
          "output_type": "stream",
          "text": [
            "2021-06-02 19:41:10 UTC\n",
            "PC seqs loaded: 106130\n",
            "2021-06-02 19:41:14 UTC\n",
            "NC seqs loaded: 48752\n",
            "2021-06-02 19:41:16 UTC\n"
          ],
          "name": "stdout"
        }
      ]
    },
    {
      "cell_type": "code",
      "metadata": {
        "colab": {
          "base_uri": "https://localhost:8080/"
        },
        "id": "B59H_wAAOhLm",
        "outputId": "7a95b166-fb04-4e8e-8f4d-af4a2748b951"
      },
      "source": [
        "print(\"Sorting PC...\")\n",
        "pcdf.sort_values('seqlen', ascending=True, inplace=True)\n",
        "print(\"Sorting NC...\")\n",
        "ncdf.sort_values('seqlen', ascending=True, inplace=True)"
      ],
      "execution_count": 6,
      "outputs": [
        {
          "output_type": "stream",
          "text": [
            "Sorting PC...\n",
            "Sorting NC...\n"
          ],
          "name": "stdout"
        }
      ]
    },
    {
      "cell_type": "code",
      "metadata": {
        "id": "E9FCoAYFOhLq"
      },
      "source": [
        "def get_the_facts(seqs,verbose=False):\n",
        "    oc = ORF_counter()\n",
        "    count = len(seqs)\n",
        "    max_orf_lengths=np.zeros(count)\n",
        "    for s in range(0,count):\n",
        "        seq = seqs[s]\n",
        "        oc.set_sequence(seq)\n",
        "        max_orf = oc.get_max_orf_len()\n",
        "        max_orf_lengths[s] = max_orf\n",
        "    mean_max_orf = np.mean(max_orf_lengths,axis=0)\n",
        "    std_max_orf = np.std(max_orf_lengths,axis=0)\n",
        "    if verbose:\n",
        "        print(\"mean longest ORF length:\",int(mean_max_orf),\"+/-\",int(std_max_orf))\n",
        "    return mean_max_orf"
      ],
      "execution_count": 7,
      "outputs": []
    },
    {
      "cell_type": "code",
      "metadata": {
        "colab": {
          "base_uri": "https://localhost:8080/"
        },
        "id": "37a8pvOPOhLt",
        "outputId": "4fbd7771-b268-4bf1-e69a-bae5819b9c1a"
      },
      "source": [
        "# Warning: each get_the_facts() can take up to 5 minutes.\n",
        "# It is basically a 3-deep nested loop: for each seq, for each start, for each stop.\n",
        "# Usually run this on subsets, not the whole data set.\n",
        "def big_summary():\n",
        "    show_time()\n",
        "    print(\"Protein Coding set:\")\n",
        "    pc_means = get_the_facts( pcdf['sequence'].tolist() ,True)\n",
        "    show_time()\n",
        "    print(\"Non Coding set:\")\n",
        "    nc_means = get_the_facts( ncdf['sequence'].tolist() ,True)\n",
        "    show_time()\n",
        "big_summary() # this is slow"
      ],
      "execution_count": 8,
      "outputs": [
        {
          "output_type": "stream",
          "text": [
            "2021-06-02 19:41:16 UTC\n",
            "Protein Coding set:\n",
            "mean longest ORF length: 1133 +/- 1556\n",
            "2021-06-02 19:42:23 UTC\n",
            "Non Coding set:\n",
            "mean longest ORF length: 208 +/- 135\n",
            "2021-06-02 19:42:40 UTC\n"
          ],
          "name": "stdout"
        }
      ]
    },
    {
      "cell_type": "markdown",
      "metadata": {
        "id": "BrGyG2v6OhLw"
      },
      "source": [
        "GenCode38  \n",
        "```\n",
        "2021-05-28 16:22:23 EDT  \n",
        "Protein Coding set:  \n",
        "Facts array: (106143, 3)  \n",
        "mean 5' UTR length: 261 +/- 339  \n",
        "mean    ORF length: 1136 +/- 1556  \n",
        "mean 3' UTR length: 897 +/- 1385  \n",
        "2021-05-28 16:26:34 EDT  \n",
        "Non Coding set:  \n",
        "Facts array: (48752, 3)  \n",
        "mean 5' UTR length: 511 +/- 1344  \n",
        "mean    ORF length: 211 +/- 135  \n",
        "mean 3' UTR length: 606 +/- 1100  \n",
        "2021-05-28 16:27:00 EDT  \n",
        "```"
      ]
    },
    {
      "cell_type": "markdown",
      "metadata": {
        "id": "rSNgqYrgOhLx"
      },
      "source": [
        "## Subset by RNA length and analyze ORF lengths\n"
      ]
    },
    {
      "cell_type": "code",
      "metadata": {
        "colab": {
          "base_uri": "https://localhost:8080/"
        },
        "id": "sCO_dcZQOhLx",
        "outputId": "18906290-0047-49e2-c422-2eb1d2497ee9"
      },
      "source": [
        "# This is a fast way to slice if you have length thresholds.\n",
        "mask = (ncdf['sequence'].str.len() < 1000)\n",
        "subset = ncdf.loc[mask]\n",
        "discard = get_the_facts( subset['sequence'].tolist() ,True)"
      ],
      "execution_count": 9,
      "outputs": [
        {
          "output_type": "stream",
          "text": [
            "mean longest ORF length: 157 +/- 85\n"
          ],
          "name": "stdout"
        }
      ]
    },
    {
      "cell_type": "code",
      "metadata": {
        "colab": {
          "base_uri": "https://localhost:8080/"
        },
        "id": "Bvrwdi3KOhL0",
        "outputId": "090d6049-9c90-42ad-8a4e-497198b52838"
      },
      "source": [
        "def show_divisions(df,divisions,label):\n",
        "    total=len(df)\n",
        "    step=total//divisions\n",
        "    for i in range(0,total,step):\n",
        "        subset = df[i:i+step]\n",
        "        first_len=subset.iloc[0]['seqlen']\n",
        "        last_len=subset.iloc[-1]['seqlen']\n",
        "        print(\"-- \",label,\"RNA lengths\",first_len,\"to\",last_len)\n",
        "        discard = get_the_facts( subset['sequence'].tolist() ,True)\n",
        "show_divisions(ncdf,10,\"NC\")\n",
        "print()\n",
        "show_divisions(pcdf,10,\"PC\")\n"
      ],
      "execution_count": 11,
      "outputs": [
        {
          "output_type": "stream",
          "text": [
            "--  NC RNA lengths 32 to 441\n",
            "mean longest ORF length: 108 +/- 68\n",
            "--  NC RNA lengths 441 to 548\n",
            "mean longest ORF length: 143 +/- 73\n",
            "--  NC RNA lengths 548 to 641\n",
            "mean longest ORF length: 156 +/- 76\n",
            "--  NC RNA lengths 641 to 777\n",
            "mean longest ORF length: 177 +/- 86\n",
            "--  NC RNA lengths 777 to 947\n",
            "mean longest ORF length: 190 +/- 91\n",
            "--  NC RNA lengths 947 to 1180\n",
            "mean longest ORF length: 209 +/- 99\n",
            "--  NC RNA lengths 1180 to 1456\n",
            "mean longest ORF length: 224 +/- 101\n",
            "--  NC RNA lengths 1456 to 1866\n",
            "mean longest ORF length: 247 +/- 118\n",
            "--  NC RNA lengths 1866 to 2622\n",
            "mean longest ORF length: 281 +/- 135\n",
            "--  NC RNA lengths 2622 to 91667\n",
            "mean longest ORF length: 342 +/- 237\n",
            "--  NC RNA lengths 205012 to 347561\n",
            "mean longest ORF length: 525 +/- 15\n",
            "\n",
            "--  PC RNA lengths 8 to 551\n",
            "mean longest ORF length: 147 +/- 108\n",
            "--  PC RNA lengths 551 to 635\n",
            "mean longest ORF length: 175 +/- 120\n",
            "--  PC RNA lengths 635 to 826\n",
            "mean longest ORF length: 269 +/- 175\n",
            "--  PC RNA lengths 826 to 1135\n",
            "mean longest ORF length: 430 +/- 259\n",
            "--  PC RNA lengths 1136 to 1629\n",
            "mean longest ORF length: 776 +/- 342\n",
            "--  PC RNA lengths 1629 to 2092\n",
            "mean longest ORF length: 1053 +/- 430\n",
            "--  PC RNA lengths 2092 to 2666\n",
            "mean longest ORF length: 1290 +/- 562\n",
            "--  PC RNA lengths 2666 to 3510\n",
            "mean longest ORF length: 1633 +/- 754\n",
            "--  PC RNA lengths 3510 to 4972\n",
            "mean longest ORF length: 2060 +/- 1036\n",
            "--  PC RNA lengths 4972 to 109224\n",
            "mean longest ORF length: 3499 +/- 3443\n"
          ],
          "name": "stdout"
        }
      ]
    },
    {
      "cell_type": "code",
      "metadata": {
        "id": "QVW_ZUM7OhL1"
      },
      "source": [
        ""
      ],
      "execution_count": null,
      "outputs": []
    }
  ]
}