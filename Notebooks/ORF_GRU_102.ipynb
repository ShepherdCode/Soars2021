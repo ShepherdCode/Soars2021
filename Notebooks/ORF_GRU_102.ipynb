{
  "nbformat": 4,
  "nbformat_minor": 0,
  "metadata": {
    "accelerator": "GPU",
    "colab": {
      "name": "ORF_GRU_102.ipynb",
      "provenance": [],
      "collapsed_sections": []
    },
    "kernelspec": {
      "display_name": "Python 3",
      "language": "python",
      "name": "python3"
    },
    "language_info": {
      "codemirror_mode": {
        "name": "ipython",
        "version": 3
      },
      "file_extension": ".py",
      "mimetype": "text/x-python",
      "name": "python",
      "nbconvert_exporter": "python",
      "pygments_lexer": "ipython3",
      "version": "3.8.3"
    }
  },
  "cells": [
    {
      "cell_type": "markdown",
      "metadata": {
        "id": "0asdcdunj2Tx"
      },
      "source": [
        "# ORF recognition by LSTM\n",
        "LSTM was incapable of ORF recognition on 1000 bp sequences. Try smaller.\n"
      ]
    },
    {
      "cell_type": "code",
      "metadata": {
        "colab": {
          "base_uri": "https://localhost:8080/",
          "height": 36
        },
        "id": "QP1VTRNQj2UO",
        "outputId": "43703393-637b-47f3-fbbe-aee5d5c075f4"
      },
      "source": [
        "import time \n",
        "t = time.time()\n",
        "time.strftime('%Y-%m-%d %H:%M:%S %Z', time.localtime(t))"
      ],
      "execution_count": 1,
      "outputs": [
        {
          "output_type": "execute_result",
          "data": {
            "application/vnd.google.colaboratory.intrinsic+json": {
              "type": "string"
            },
            "text/plain": [
              "'2021-05-19 10:17:30 UTC'"
            ]
          },
          "metadata": {
            "tags": []
          },
          "execution_count": 1
        }
      ]
    },
    {
      "cell_type": "code",
      "metadata": {
        "id": "Nhz4GKonj2T_"
      },
      "source": [
        "PC_SEQUENCES=20000   # how many protein-coding sequences\n",
        "NC_SEQUENCES=20000   # how many non-coding sequences\n",
        "PC_TESTS=1000\n",
        "NC_TESTS=1000\n",
        "BASES=125            # how long is each sequence\n",
        "ALPHABET=4          # how many different letters are possible\n",
        "INPUT_SHAPE_2D = (BASES,ALPHABET,1) # Conv2D needs 3D inputs\n",
        "INPUT_SHAPE = (BASES,ALPHABET) # Conv1D needs 2D inputs\n",
        "NEURONS = 32\n",
        "#DROP_RATE = 0.2\n",
        "EPOCHS=50  # how many times to train on all the data\n",
        "SPLITS=5  # SPLITS=3 means train on 2/3 and validate on 1/3 \n",
        "FOLDS=5  # train the model this many times (range 1 to SPLITS)"
      ],
      "execution_count": 2,
      "outputs": []
    },
    {
      "cell_type": "code",
      "metadata": {
        "colab": {
          "base_uri": "https://localhost:8080/"
        },
        "id": "lr7q90rxj2UE",
        "outputId": "0f5242ce-6ffe-4440-abf9-5a971fca9ec0"
      },
      "source": [
        "import sys\n",
        "try:\n",
        "    from google.colab import drive\n",
        "    IN_COLAB = True\n",
        "    print(\"On Google CoLab, mount cloud-local file, get our code from GitHub.\")\n",
        "    PATH='/content/drive/'\n",
        "    #drive.mount(PATH,force_remount=True)  # hardly ever need this\n",
        "    #drive.mount(PATH)    # Google will require login credentials\n",
        "    DATAPATH=PATH+'My Drive/data/'  # must end in \"/\"\n",
        "    import requests\n",
        "    r = requests.get('https://raw.githubusercontent.com/ShepherdCode/Soars2021/master/SimTools/RNA_gen.py')\n",
        "    with open('RNA_gen.py', 'w') as f:\n",
        "        f.write(r.text)  \n",
        "    from RNA_gen import *\n",
        "    r = requests.get('https://raw.githubusercontent.com/ShepherdCode/Soars2021/master/SimTools/RNA_describe.py')\n",
        "    with open('RNA_describe.py', 'w') as f:\n",
        "        f.write(r.text)  \n",
        "    from RNA_describe import *\n",
        "    r = requests.get('https://raw.githubusercontent.com/ShepherdCode/Soars2021/master/SimTools/RNA_prep.py')\n",
        "    with open('RNA_prep.py', 'w') as f:\n",
        "        f.write(r.text)  \n",
        "    from RNA_prep import *\n",
        "except:\n",
        "    print(\"CoLab not working. On my PC, use relative paths.\")\n",
        "    IN_COLAB = False\n",
        "    DATAPATH='data/'  # must end in \"/\"\n",
        "    sys.path.append(\"..\") # append parent dir in order to use sibling dirs\n",
        "    from SimTools.RNA_gen import *\n",
        "    from SimTools.RNA_describe import *\n",
        "    from SimTools.RNA_prep import *\n",
        "\n",
        "MODELPATH=\"BestModel\"  # saved on cloud instance and lost after logout\n",
        "#MODELPATH=DATAPATH+MODELPATH  # saved on Google Drive but requires login\n",
        "\n",
        "if not assert_imported_RNA_gen():\n",
        "    print(\"ERROR: Cannot use RNA_gen.\")\n",
        "if not assert_imported_RNA_prep():\n",
        "    print(\"ERROR: Cannot use RNA_prep.\")"
      ],
      "execution_count": 3,
      "outputs": [
        {
          "output_type": "stream",
          "text": [
            "On Google CoLab, mount cloud-local file, get our code from GitHub.\n"
          ],
          "name": "stdout"
        }
      ]
    },
    {
      "cell_type": "code",
      "metadata": {
        "id": "EGDXH8Uwj2UM"
      },
      "source": [
        "from os import listdir\n",
        "import csv\n",
        "from zipfile import ZipFile\n",
        "\n",
        "import numpy as np\n",
        "import pandas as pd\n",
        "from scipy import stats  # mode\n",
        "\n",
        "from sklearn.preprocessing import StandardScaler\n",
        "from sklearn.model_selection import KFold\n",
        "from sklearn.model_selection import cross_val_score\n",
        "\n",
        "from keras.models import Sequential\n",
        "from keras.layers import Dense,Embedding,Dropout\n",
        "from keras.layers import LSTM,GRU,SimpleRNN\n",
        "from keras.losses import BinaryCrossentropy\n",
        "# tf.keras.losses.BinaryCrossentropy\n",
        "\n",
        "import matplotlib.pyplot as plt\n",
        "from matplotlib import colors\n",
        "mycmap = colors.ListedColormap(['red','blue'])  # list color for label 0 then 1\n",
        "np.set_printoptions(precision=2)\n"
      ],
      "execution_count": 4,
      "outputs": []
    },
    {
      "cell_type": "code",
      "metadata": {
        "colab": {
          "base_uri": "https://localhost:8080/"
        },
        "id": "Q0FetlLPj2UQ",
        "outputId": "27746cf1-1060-432c-8018-b892143b90a1"
      },
      "source": [
        "# Use code from our SimTools library.\n",
        "def make_generators(seq_len):\n",
        "    pcgen = Collection_Generator()  \n",
        "    pcgen.get_len_oracle().set_mean(seq_len)\n",
        "    pcgen.set_seq_oracle(Transcript_Oracle())\n",
        "    ncgen = Collection_Generator()  \n",
        "    ncgen.get_len_oracle().set_mean(seq_len)\n",
        "    return pcgen,ncgen\n",
        "def get_the_facts(seqs):\n",
        "    rd = RNA_describer()\n",
        "    facts = rd.get_three_lengths(seqs)\n",
        "    facts_ary = np.asarray(facts) # 5000 rows, 3 columns \n",
        "    print(\"Facts array:\",type(facts_ary))\n",
        "    print(\"Facts array:\",facts_ary.shape)\n",
        "    # Get the mean of each column\n",
        "    mean_5utr, mean_orf, mean_3utr = np.mean(facts_ary,axis=0)\n",
        "    std_5utr, std_orf, std_3utr = np.std(facts_ary,axis=0)\n",
        "    print(\"mean 5' UTR length:\",int(mean_5utr),\"+/-\",int(std_5utr))\n",
        "    print(\"mean    ORF length:\",int(mean_orf), \"+/-\",int(std_orf))\n",
        "    print(\"mean 3' UTR length:\",int(mean_3utr),\"+/-\",int(std_3utr))\n",
        "\n",
        "pc_sim,nc_sim = make_generators(BASES)\n",
        "pc_train = pc_sim.get_sequences(PC_SEQUENCES)\n",
        "nc_train = nc_sim.get_sequences(NC_SEQUENCES)\n",
        "print(\"Train on\",len(pc_train),\"PC seqs\")\n",
        "get_the_facts(pc_train)\n",
        "print(\"Train on\",len(nc_train),\"NC seqs\")\n",
        "get_the_facts(nc_train)"
      ],
      "execution_count": 5,
      "outputs": [
        {
          "output_type": "stream",
          "text": [
            "Train on 20000 PC seqs\n",
            "Facts array: <class 'numpy.ndarray'>\n",
            "Facts array: (20000, 3)\n",
            "mean 5' UTR length: 28 +/- 9\n",
            "mean    ORF length: 64 +/- 12\n",
            "mean 3' UTR length: 31 +/- 7\n",
            "Train on 20000 NC seqs\n",
            "Facts array: <class 'numpy.ndarray'>\n",
            "Facts array: (20000, 3)\n",
            "mean 5' UTR length: 48 +/- 24\n",
            "mean    ORF length: 26 +/- 28\n",
            "mean 3' UTR length: 50 +/- 24\n"
          ],
          "name": "stdout"
        }
      ]
    },
    {
      "cell_type": "code",
      "metadata": {
        "colab": {
          "base_uri": "https://localhost:8080/"
        },
        "id": "CIpTrnH6j2US",
        "outputId": "8527167b-06f0-4ac3-ee85-ba9d92273df4"
      },
      "source": [
        "# Use code from our SimTools library.\n",
        "X,y = prepare_inputs_len_x_alphabet(pc_train,nc_train,ALPHABET) # shuffles\n",
        "print(\"Data ready.\")"
      ],
      "execution_count": 6,
      "outputs": [
        {
          "output_type": "stream",
          "text": [
            "Data ready.\n"
          ],
          "name": "stdout"
        }
      ]
    },
    {
      "cell_type": "code",
      "metadata": {
        "colab": {
          "base_uri": "https://localhost:8080/"
        },
        "id": "7NvrVU8ij2UU",
        "outputId": "2284fcd0-bd8a-4912-ce75-f39ec46c9346"
      },
      "source": [
        "def make_DNN():\n",
        "    print(\"make_DNN\")\n",
        "    print(\"input shape:\",INPUT_SHAPE)\n",
        "    dnn = Sequential()\n",
        "    #dnn.add(Embedding(input_dim=ALPHABET, output_dim=ALPHABET))\n",
        "        #VOCABULARY_SIZE, EMBED_DIMEN, input_length=1000, input_length=1000, mask_zero=True)\n",
        "        #input_dim=[None,VOCABULARY_SIZE], output_dim=EMBED_DIMEN, mask_zero=True)\n",
        "    dnn.add(GRU(NEURONS,return_sequences=True,input_shape=INPUT_SHAPE))\n",
        "    dnn.add(GRU(NEURONS,return_sequences=False)) \n",
        "    dnn.add(Dense(NEURONS,activation=\"sigmoid\",dtype=np.float32))   \n",
        "    dnn.add(Dense(1,activation=\"sigmoid\",dtype=np.float32))   \n",
        "    dnn.compile(optimizer='adam',\n",
        "                loss=BinaryCrossentropy(from_logits=False),\n",
        "                metrics=['accuracy'])   # add to default metrics=loss\n",
        "    dnn.build() # input_shape=INPUT_SHAPE)\n",
        "    #ln_rate = tf.keras.optimizers.Adam(learning_rate = LN_RATE)\n",
        "    #bc=tf.keras.losses.BinaryCrossentropy(from_logits=False)\n",
        "    #model.compile(loss=bc, optimizer=ln_rate, metrics=[\"accuracy\"])\n",
        "    return dnn\n",
        "model = make_DNN()\n",
        "print(model.summary())"
      ],
      "execution_count": 7,
      "outputs": [
        {
          "output_type": "stream",
          "text": [
            "make_DNN\n",
            "input shape: (125, 4)\n",
            "Model: \"sequential\"\n",
            "_________________________________________________________________\n",
            "Layer (type)                 Output Shape              Param #   \n",
            "=================================================================\n",
            "gru (GRU)                    (None, 125, 32)           3648      \n",
            "_________________________________________________________________\n",
            "gru_1 (GRU)                  (None, 32)                6336      \n",
            "_________________________________________________________________\n",
            "dense (Dense)                (None, 32)                1056      \n",
            "_________________________________________________________________\n",
            "dense_1 (Dense)              (None, 1)                 33        \n",
            "=================================================================\n",
            "Total params: 11,073\n",
            "Trainable params: 11,073\n",
            "Non-trainable params: 0\n",
            "_________________________________________________________________\n",
            "None\n"
          ],
          "name": "stdout"
        }
      ]
    },
    {
      "cell_type": "code",
      "metadata": {
        "id": "nlVF0hR3j2UW"
      },
      "source": [
        "from keras.callbacks import ModelCheckpoint\n",
        "def do_cross_validation(X,y):\n",
        "    cv_scores = []\n",
        "    fold=0\n",
        "    mycallbacks = [ModelCheckpoint(\n",
        "        filepath=MODELPATH, save_best_only=True, \n",
        "        monitor='val_accuracy', mode='max')]   \n",
        "    splitter = KFold(n_splits=SPLITS)  # this does not shuffle\n",
        "    for train_index,valid_index in splitter.split(X):\n",
        "        if fold < FOLDS:\n",
        "            fold += 1\n",
        "            X_train=X[train_index] # inputs for training\n",
        "            y_train=y[train_index] # labels for training\n",
        "            X_valid=X[valid_index] # inputs for validation\n",
        "            y_valid=y[valid_index] # labels for validation\n",
        "            print(\"MODEL\")\n",
        "            # Call constructor on each CV. Else, continually improves the same model.\n",
        "            model = model = make_DNN()\n",
        "            print(\"FIT\")  # model.fit() implements learning\n",
        "            start_time=time.time()\n",
        "            history=model.fit(X_train, y_train, \n",
        "                    epochs=EPOCHS, \n",
        "                    verbose=1,  # ascii art while learning\n",
        "                    callbacks=mycallbacks,   # called at end of each epoch\n",
        "                    validation_data=(X_valid,y_valid))\n",
        "            end_time=time.time()\n",
        "            elapsed_time=(end_time-start_time)                        \n",
        "            print(\"Fold %d, %d epochs, %d sec\"%(fold,EPOCHS,elapsed_time))\n",
        "            # print(history.history.keys())  # all these keys will be shown in figure\n",
        "            pd.DataFrame(history.history).plot(figsize=(8,5))\n",
        "            plt.grid(True)\n",
        "            plt.gca().set_ylim(0,1) # any losses > 1 will be off the scale\n",
        "            plt.show()\n"
      ],
      "execution_count": 8,
      "outputs": []
    },
    {
      "cell_type": "code",
      "metadata": {
        "colab": {
          "base_uri": "https://localhost:8080/",
          "height": 1000
        },
        "id": "9Ggt4EsSj2UY",
        "outputId": "d70fa2af-997d-4d01-86f2-62e2cecfd6c5"
      },
      "source": [
        "do_cross_validation(X,y)"
      ],
      "execution_count": 9,
      "outputs": [
        {
          "output_type": "stream",
          "text": [
            "MODEL\n",
            "make_DNN\n",
            "input shape: (125, 4)\n",
            "FIT\n",
            "Epoch 1/50\n",
            "1000/1000 [==============================] - 28s 11ms/step - loss: 0.6935 - accuracy: 0.5081 - val_loss: 0.6939 - val_accuracy: 0.5001\n"
          ],
          "name": "stdout"
        },
        {
          "output_type": "stream",
          "text": [
            "WARNING:absl:Found untraced functions such as gru_cell_2_layer_call_fn, gru_cell_2_layer_call_and_return_conditional_losses, gru_cell_3_layer_call_fn, gru_cell_3_layer_call_and_return_conditional_losses, gru_cell_2_layer_call_fn while saving (showing 5 of 10). These functions will not be directly callable after loading.\n",
            "WARNING:absl:Found untraced functions such as gru_cell_2_layer_call_fn, gru_cell_2_layer_call_and_return_conditional_losses, gru_cell_3_layer_call_fn, gru_cell_3_layer_call_and_return_conditional_losses, gru_cell_2_layer_call_fn while saving (showing 5 of 10). These functions will not be directly callable after loading.\n"
          ],
          "name": "stderr"
        },
        {
          "output_type": "stream",
          "text": [
            "INFO:tensorflow:Assets written to: BestModel/assets\n"
          ],
          "name": "stdout"
        },
        {
          "output_type": "stream",
          "text": [
            "INFO:tensorflow:Assets written to: BestModel/assets\n"
          ],
          "name": "stderr"
        },
        {
          "output_type": "stream",
          "text": [
            "Epoch 2/50\n",
            "1000/1000 [==============================] - 10s 10ms/step - loss: 0.6938 - accuracy: 0.4931 - val_loss: 0.6933 - val_accuracy: 0.5001\n",
            "Epoch 3/50\n",
            "1000/1000 [==============================] - 10s 10ms/step - loss: 0.6937 - accuracy: 0.5001 - val_loss: 0.6932 - val_accuracy: 0.5011\n"
          ],
          "name": "stdout"
        },
        {
          "output_type": "stream",
          "text": [
            "WARNING:absl:Found untraced functions such as gru_cell_2_layer_call_fn, gru_cell_2_layer_call_and_return_conditional_losses, gru_cell_3_layer_call_fn, gru_cell_3_layer_call_and_return_conditional_losses, gru_cell_2_layer_call_fn while saving (showing 5 of 10). These functions will not be directly callable after loading.\n",
            "WARNING:absl:Found untraced functions such as gru_cell_2_layer_call_fn, gru_cell_2_layer_call_and_return_conditional_losses, gru_cell_3_layer_call_fn, gru_cell_3_layer_call_and_return_conditional_losses, gru_cell_2_layer_call_fn while saving (showing 5 of 10). These functions will not be directly callable after loading.\n"
          ],
          "name": "stderr"
        },
        {
          "output_type": "stream",
          "text": [
            "INFO:tensorflow:Assets written to: BestModel/assets\n"
          ],
          "name": "stdout"
        },
        {
          "output_type": "stream",
          "text": [
            "INFO:tensorflow:Assets written to: BestModel/assets\n"
          ],
          "name": "stderr"
        },
        {
          "output_type": "stream",
          "text": [
            "Epoch 4/50\n",
            "1000/1000 [==============================] - 10s 10ms/step - loss: 0.6938 - accuracy: 0.4984 - val_loss: 0.6932 - val_accuracy: 0.4990\n",
            "Epoch 5/50\n",
            "1000/1000 [==============================] - 10s 10ms/step - loss: 0.6936 - accuracy: 0.4997 - val_loss: 0.6931 - val_accuracy: 0.5036\n"
          ],
          "name": "stdout"
        },
        {
          "output_type": "stream",
          "text": [
            "WARNING:absl:Found untraced functions such as gru_cell_2_layer_call_fn, gru_cell_2_layer_call_and_return_conditional_losses, gru_cell_3_layer_call_fn, gru_cell_3_layer_call_and_return_conditional_losses, gru_cell_2_layer_call_fn while saving (showing 5 of 10). These functions will not be directly callable after loading.\n",
            "WARNING:absl:Found untraced functions such as gru_cell_2_layer_call_fn, gru_cell_2_layer_call_and_return_conditional_losses, gru_cell_3_layer_call_fn, gru_cell_3_layer_call_and_return_conditional_losses, gru_cell_2_layer_call_fn while saving (showing 5 of 10). These functions will not be directly callable after loading.\n"
          ],
          "name": "stderr"
        },
        {
          "output_type": "stream",
          "text": [
            "INFO:tensorflow:Assets written to: BestModel/assets\n"
          ],
          "name": "stdout"
        },
        {
          "output_type": "stream",
          "text": [
            "INFO:tensorflow:Assets written to: BestModel/assets\n"
          ],
          "name": "stderr"
        },
        {
          "output_type": "stream",
          "text": [
            "Epoch 6/50\n",
            "1000/1000 [==============================] - 10s 10ms/step - loss: 0.6935 - accuracy: 0.4973 - val_loss: 0.6933 - val_accuracy: 0.4999\n",
            "Epoch 7/50\n",
            "1000/1000 [==============================] - 10s 10ms/step - loss: 0.6929 - accuracy: 0.5117 - val_loss: 0.6931 - val_accuracy: 0.5094\n"
          ],
          "name": "stdout"
        },
        {
          "output_type": "stream",
          "text": [
            "WARNING:absl:Found untraced functions such as gru_cell_2_layer_call_fn, gru_cell_2_layer_call_and_return_conditional_losses, gru_cell_3_layer_call_fn, gru_cell_3_layer_call_and_return_conditional_losses, gru_cell_2_layer_call_fn while saving (showing 5 of 10). These functions will not be directly callable after loading.\n",
            "WARNING:absl:Found untraced functions such as gru_cell_2_layer_call_fn, gru_cell_2_layer_call_and_return_conditional_losses, gru_cell_3_layer_call_fn, gru_cell_3_layer_call_and_return_conditional_losses, gru_cell_2_layer_call_fn while saving (showing 5 of 10). These functions will not be directly callable after loading.\n"
          ],
          "name": "stderr"
        },
        {
          "output_type": "stream",
          "text": [
            "INFO:tensorflow:Assets written to: BestModel/assets\n"
          ],
          "name": "stdout"
        },
        {
          "output_type": "stream",
          "text": [
            "INFO:tensorflow:Assets written to: BestModel/assets\n"
          ],
          "name": "stderr"
        },
        {
          "output_type": "stream",
          "text": [
            "Epoch 8/50\n",
            "1000/1000 [==============================] - 10s 10ms/step - loss: 0.6937 - accuracy: 0.4936 - val_loss: 0.6933 - val_accuracy: 0.5001\n",
            "Epoch 9/50\n",
            "1000/1000 [==============================] - 10s 10ms/step - loss: 0.6936 - accuracy: 0.5019 - val_loss: 0.6932 - val_accuracy: 0.5001\n",
            "Epoch 10/50\n",
            "1000/1000 [==============================] - 10s 10ms/step - loss: 0.6933 - accuracy: 0.5033 - val_loss: 0.6933 - val_accuracy: 0.5000\n",
            "Epoch 11/50\n",
            "1000/1000 [==============================] - 10s 10ms/step - loss: 0.6933 - accuracy: 0.5056 - val_loss: 0.6933 - val_accuracy: 0.5013\n",
            "Epoch 12/50\n",
            "1000/1000 [==============================] - 10s 10ms/step - loss: 0.6931 - accuracy: 0.5079 - val_loss: 0.6939 - val_accuracy: 0.5010\n",
            "Epoch 13/50\n",
            "1000/1000 [==============================] - 10s 10ms/step - loss: 0.6933 - accuracy: 0.5058 - val_loss: 0.6938 - val_accuracy: 0.5020\n",
            "Epoch 14/50\n",
            "1000/1000 [==============================] - 10s 10ms/step - loss: 0.6931 - accuracy: 0.5089 - val_loss: 0.6939 - val_accuracy: 0.5011\n",
            "Epoch 15/50\n",
            "1000/1000 [==============================] - 10s 10ms/step - loss: 0.6937 - accuracy: 0.5038 - val_loss: 0.6943 - val_accuracy: 0.4997\n",
            "Epoch 16/50\n",
            "1000/1000 [==============================] - 10s 10ms/step - loss: 0.6936 - accuracy: 0.5064 - val_loss: 0.6933 - val_accuracy: 0.5048\n",
            "Epoch 17/50\n",
            "1000/1000 [==============================] - 10s 10ms/step - loss: 0.6932 - accuracy: 0.5080 - val_loss: 0.6938 - val_accuracy: 0.5015\n",
            "Epoch 18/50\n",
            "1000/1000 [==============================] - 10s 10ms/step - loss: 0.6929 - accuracy: 0.5095 - val_loss: 0.6937 - val_accuracy: 0.5084\n",
            "Epoch 19/50\n",
            "1000/1000 [==============================] - 10s 10ms/step - loss: 0.6929 - accuracy: 0.5125 - val_loss: 0.6937 - val_accuracy: 0.4974\n",
            "Epoch 20/50\n",
            "1000/1000 [==============================] - 10s 10ms/step - loss: 0.6910 - accuracy: 0.5234 - val_loss: 0.6978 - val_accuracy: 0.5585\n"
          ],
          "name": "stdout"
        },
        {
          "output_type": "stream",
          "text": [
            "WARNING:absl:Found untraced functions such as gru_cell_2_layer_call_fn, gru_cell_2_layer_call_and_return_conditional_losses, gru_cell_3_layer_call_fn, gru_cell_3_layer_call_and_return_conditional_losses, gru_cell_2_layer_call_fn while saving (showing 5 of 10). These functions will not be directly callable after loading.\n",
            "WARNING:absl:Found untraced functions such as gru_cell_2_layer_call_fn, gru_cell_2_layer_call_and_return_conditional_losses, gru_cell_3_layer_call_fn, gru_cell_3_layer_call_and_return_conditional_losses, gru_cell_2_layer_call_fn while saving (showing 5 of 10). These functions will not be directly callable after loading.\n"
          ],
          "name": "stderr"
        },
        {
          "output_type": "stream",
          "text": [
            "INFO:tensorflow:Assets written to: BestModel/assets\n"
          ],
          "name": "stdout"
        },
        {
          "output_type": "stream",
          "text": [
            "INFO:tensorflow:Assets written to: BestModel/assets\n"
          ],
          "name": "stderr"
        },
        {
          "output_type": "stream",
          "text": [
            "Epoch 21/50\n",
            "1000/1000 [==============================] - 10s 10ms/step - loss: 0.6592 - accuracy: 0.6074 - val_loss: 0.6194 - val_accuracy: 0.6660\n"
          ],
          "name": "stdout"
        },
        {
          "output_type": "stream",
          "text": [
            "WARNING:absl:Found untraced functions such as gru_cell_2_layer_call_fn, gru_cell_2_layer_call_and_return_conditional_losses, gru_cell_3_layer_call_fn, gru_cell_3_layer_call_and_return_conditional_losses, gru_cell_2_layer_call_fn while saving (showing 5 of 10). These functions will not be directly callable after loading.\n",
            "WARNING:absl:Found untraced functions such as gru_cell_2_layer_call_fn, gru_cell_2_layer_call_and_return_conditional_losses, gru_cell_3_layer_call_fn, gru_cell_3_layer_call_and_return_conditional_losses, gru_cell_2_layer_call_fn while saving (showing 5 of 10). These functions will not be directly callable after loading.\n"
          ],
          "name": "stderr"
        },
        {
          "output_type": "stream",
          "text": [
            "INFO:tensorflow:Assets written to: BestModel/assets\n"
          ],
          "name": "stdout"
        },
        {
          "output_type": "stream",
          "text": [
            "INFO:tensorflow:Assets written to: BestModel/assets\n"
          ],
          "name": "stderr"
        },
        {
          "output_type": "stream",
          "text": [
            "Epoch 22/50\n",
            "1000/1000 [==============================] - 10s 10ms/step - loss: 0.5068 - accuracy: 0.7581 - val_loss: 0.3668 - val_accuracy: 0.8495\n"
          ],
          "name": "stdout"
        },
        {
          "output_type": "stream",
          "text": [
            "WARNING:absl:Found untraced functions such as gru_cell_2_layer_call_fn, gru_cell_2_layer_call_and_return_conditional_losses, gru_cell_3_layer_call_fn, gru_cell_3_layer_call_and_return_conditional_losses, gru_cell_2_layer_call_fn while saving (showing 5 of 10). These functions will not be directly callable after loading.\n",
            "WARNING:absl:Found untraced functions such as gru_cell_2_layer_call_fn, gru_cell_2_layer_call_and_return_conditional_losses, gru_cell_3_layer_call_fn, gru_cell_3_layer_call_and_return_conditional_losses, gru_cell_2_layer_call_fn while saving (showing 5 of 10). These functions will not be directly callable after loading.\n"
          ],
          "name": "stderr"
        },
        {
          "output_type": "stream",
          "text": [
            "INFO:tensorflow:Assets written to: BestModel/assets\n"
          ],
          "name": "stdout"
        },
        {
          "output_type": "stream",
          "text": [
            "INFO:tensorflow:Assets written to: BestModel/assets\n"
          ],
          "name": "stderr"
        },
        {
          "output_type": "stream",
          "text": [
            "Epoch 23/50\n",
            "1000/1000 [==============================] - 10s 10ms/step - loss: 0.3879 - accuracy: 0.8318 - val_loss: 0.3573 - val_accuracy: 0.8494\n",
            "Epoch 24/50\n",
            "1000/1000 [==============================] - 10s 10ms/step - loss: 0.3750 - accuracy: 0.8389 - val_loss: 0.3661 - val_accuracy: 0.8471\n",
            "Epoch 25/50\n",
            "1000/1000 [==============================] - 10s 10ms/step - loss: 0.3655 - accuracy: 0.8386 - val_loss: 0.3550 - val_accuracy: 0.8461\n",
            "Epoch 26/50\n",
            "1000/1000 [==============================] - 10s 10ms/step - loss: 0.3446 - accuracy: 0.8477 - val_loss: 0.3297 - val_accuracy: 0.8590\n"
          ],
          "name": "stdout"
        },
        {
          "output_type": "stream",
          "text": [
            "WARNING:absl:Found untraced functions such as gru_cell_2_layer_call_fn, gru_cell_2_layer_call_and_return_conditional_losses, gru_cell_3_layer_call_fn, gru_cell_3_layer_call_and_return_conditional_losses, gru_cell_2_layer_call_fn while saving (showing 5 of 10). These functions will not be directly callable after loading.\n",
            "WARNING:absl:Found untraced functions such as gru_cell_2_layer_call_fn, gru_cell_2_layer_call_and_return_conditional_losses, gru_cell_3_layer_call_fn, gru_cell_3_layer_call_and_return_conditional_losses, gru_cell_2_layer_call_fn while saving (showing 5 of 10). These functions will not be directly callable after loading.\n"
          ],
          "name": "stderr"
        },
        {
          "output_type": "stream",
          "text": [
            "INFO:tensorflow:Assets written to: BestModel/assets\n"
          ],
          "name": "stdout"
        },
        {
          "output_type": "stream",
          "text": [
            "INFO:tensorflow:Assets written to: BestModel/assets\n"
          ],
          "name": "stderr"
        },
        {
          "output_type": "stream",
          "text": [
            "Epoch 27/50\n",
            "1000/1000 [==============================] - 10s 10ms/step - loss: 0.3279 - accuracy: 0.8594 - val_loss: 0.2791 - val_accuracy: 0.8907\n"
          ],
          "name": "stdout"
        },
        {
          "output_type": "stream",
          "text": [
            "WARNING:absl:Found untraced functions such as gru_cell_2_layer_call_fn, gru_cell_2_layer_call_and_return_conditional_losses, gru_cell_3_layer_call_fn, gru_cell_3_layer_call_and_return_conditional_losses, gru_cell_2_layer_call_fn while saving (showing 5 of 10). These functions will not be directly callable after loading.\n",
            "WARNING:absl:Found untraced functions such as gru_cell_2_layer_call_fn, gru_cell_2_layer_call_and_return_conditional_losses, gru_cell_3_layer_call_fn, gru_cell_3_layer_call_and_return_conditional_losses, gru_cell_2_layer_call_fn while saving (showing 5 of 10). These functions will not be directly callable after loading.\n"
          ],
          "name": "stderr"
        },
        {
          "output_type": "stream",
          "text": [
            "INFO:tensorflow:Assets written to: BestModel/assets\n"
          ],
          "name": "stdout"
        },
        {
          "output_type": "stream",
          "text": [
            "INFO:tensorflow:Assets written to: BestModel/assets\n"
          ],
          "name": "stderr"
        },
        {
          "output_type": "stream",
          "text": [
            "Epoch 28/50\n",
            "1000/1000 [==============================] - 10s 10ms/step - loss: 0.2922 - accuracy: 0.8828 - val_loss: 0.3280 - val_accuracy: 0.8777\n",
            "Epoch 29/50\n",
            "1000/1000 [==============================] - 10s 10ms/step - loss: 0.2748 - accuracy: 0.8970 - val_loss: 0.2698 - val_accuracy: 0.9020\n"
          ],
          "name": "stdout"
        },
        {
          "output_type": "stream",
          "text": [
            "WARNING:absl:Found untraced functions such as gru_cell_2_layer_call_fn, gru_cell_2_layer_call_and_return_conditional_losses, gru_cell_3_layer_call_fn, gru_cell_3_layer_call_and_return_conditional_losses, gru_cell_2_layer_call_fn while saving (showing 5 of 10). These functions will not be directly callable after loading.\n",
            "WARNING:absl:Found untraced functions such as gru_cell_2_layer_call_fn, gru_cell_2_layer_call_and_return_conditional_losses, gru_cell_3_layer_call_fn, gru_cell_3_layer_call_and_return_conditional_losses, gru_cell_2_layer_call_fn while saving (showing 5 of 10). These functions will not be directly callable after loading.\n"
          ],
          "name": "stderr"
        },
        {
          "output_type": "stream",
          "text": [
            "INFO:tensorflow:Assets written to: BestModel/assets\n"
          ],
          "name": "stdout"
        },
        {
          "output_type": "stream",
          "text": [
            "INFO:tensorflow:Assets written to: BestModel/assets\n"
          ],
          "name": "stderr"
        },
        {
          "output_type": "stream",
          "text": [
            "Epoch 30/50\n",
            "1000/1000 [==============================] - 10s 10ms/step - loss: 0.2721 - accuracy: 0.9000 - val_loss: 0.2385 - val_accuracy: 0.9133\n"
          ],
          "name": "stdout"
        },
        {
          "output_type": "stream",
          "text": [
            "WARNING:absl:Found untraced functions such as gru_cell_2_layer_call_fn, gru_cell_2_layer_call_and_return_conditional_losses, gru_cell_3_layer_call_fn, gru_cell_3_layer_call_and_return_conditional_losses, gru_cell_2_layer_call_fn while saving (showing 5 of 10). These functions will not be directly callable after loading.\n",
            "WARNING:absl:Found untraced functions such as gru_cell_2_layer_call_fn, gru_cell_2_layer_call_and_return_conditional_losses, gru_cell_3_layer_call_fn, gru_cell_3_layer_call_and_return_conditional_losses, gru_cell_2_layer_call_fn while saving (showing 5 of 10). These functions will not be directly callable after loading.\n"
          ],
          "name": "stderr"
        },
        {
          "output_type": "stream",
          "text": [
            "INFO:tensorflow:Assets written to: BestModel/assets\n"
          ],
          "name": "stdout"
        },
        {
          "output_type": "stream",
          "text": [
            "INFO:tensorflow:Assets written to: BestModel/assets\n"
          ],
          "name": "stderr"
        },
        {
          "output_type": "stream",
          "text": [
            "Epoch 31/50\n",
            "1000/1000 [==============================] - 10s 10ms/step - loss: 0.2561 - accuracy: 0.9036 - val_loss: 0.2429 - val_accuracy: 0.9135\n"
          ],
          "name": "stdout"
        },
        {
          "output_type": "stream",
          "text": [
            "WARNING:absl:Found untraced functions such as gru_cell_2_layer_call_fn, gru_cell_2_layer_call_and_return_conditional_losses, gru_cell_3_layer_call_fn, gru_cell_3_layer_call_and_return_conditional_losses, gru_cell_2_layer_call_fn while saving (showing 5 of 10). These functions will not be directly callable after loading.\n",
            "WARNING:absl:Found untraced functions such as gru_cell_2_layer_call_fn, gru_cell_2_layer_call_and_return_conditional_losses, gru_cell_3_layer_call_fn, gru_cell_3_layer_call_and_return_conditional_losses, gru_cell_2_layer_call_fn while saving (showing 5 of 10). These functions will not be directly callable after loading.\n"
          ],
          "name": "stderr"
        },
        {
          "output_type": "stream",
          "text": [
            "INFO:tensorflow:Assets written to: BestModel/assets\n"
          ],
          "name": "stdout"
        },
        {
          "output_type": "stream",
          "text": [
            "INFO:tensorflow:Assets written to: BestModel/assets\n"
          ],
          "name": "stderr"
        },
        {
          "output_type": "stream",
          "text": [
            "Epoch 32/50\n",
            "1000/1000 [==============================] - 10s 10ms/step - loss: 0.2467 - accuracy: 0.9063 - val_loss: 0.2180 - val_accuracy: 0.9225\n"
          ],
          "name": "stdout"
        },
        {
          "output_type": "stream",
          "text": [
            "WARNING:absl:Found untraced functions such as gru_cell_2_layer_call_fn, gru_cell_2_layer_call_and_return_conditional_losses, gru_cell_3_layer_call_fn, gru_cell_3_layer_call_and_return_conditional_losses, gru_cell_2_layer_call_fn while saving (showing 5 of 10). These functions will not be directly callable after loading.\n",
            "WARNING:absl:Found untraced functions such as gru_cell_2_layer_call_fn, gru_cell_2_layer_call_and_return_conditional_losses, gru_cell_3_layer_call_fn, gru_cell_3_layer_call_and_return_conditional_losses, gru_cell_2_layer_call_fn while saving (showing 5 of 10). These functions will not be directly callable after loading.\n"
          ],
          "name": "stderr"
        },
        {
          "output_type": "stream",
          "text": [
            "INFO:tensorflow:Assets written to: BestModel/assets\n"
          ],
          "name": "stdout"
        },
        {
          "output_type": "stream",
          "text": [
            "INFO:tensorflow:Assets written to: BestModel/assets\n"
          ],
          "name": "stderr"
        },
        {
          "output_type": "stream",
          "text": [
            "Epoch 33/50\n",
            "1000/1000 [==============================] - 10s 10ms/step - loss: 0.2553 - accuracy: 0.9049 - val_loss: 0.3263 - val_accuracy: 0.8844\n",
            "Epoch 34/50\n",
            "1000/1000 [==============================] - 10s 10ms/step - loss: 0.2378 - accuracy: 0.9124 - val_loss: 0.2542 - val_accuracy: 0.9018\n",
            "Epoch 35/50\n",
            "1000/1000 [==============================] - 10s 10ms/step - loss: 0.2343 - accuracy: 0.9135 - val_loss: 0.2171 - val_accuracy: 0.9225\n",
            "Epoch 36/50\n",
            "1000/1000 [==============================] - 10s 10ms/step - loss: 0.2186 - accuracy: 0.9218 - val_loss: 0.2016 - val_accuracy: 0.9276\n"
          ],
          "name": "stdout"
        },
        {
          "output_type": "stream",
          "text": [
            "WARNING:absl:Found untraced functions such as gru_cell_2_layer_call_fn, gru_cell_2_layer_call_and_return_conditional_losses, gru_cell_3_layer_call_fn, gru_cell_3_layer_call_and_return_conditional_losses, gru_cell_2_layer_call_fn while saving (showing 5 of 10). These functions will not be directly callable after loading.\n",
            "WARNING:absl:Found untraced functions such as gru_cell_2_layer_call_fn, gru_cell_2_layer_call_and_return_conditional_losses, gru_cell_3_layer_call_fn, gru_cell_3_layer_call_and_return_conditional_losses, gru_cell_2_layer_call_fn while saving (showing 5 of 10). These functions will not be directly callable after loading.\n"
          ],
          "name": "stderr"
        },
        {
          "output_type": "stream",
          "text": [
            "INFO:tensorflow:Assets written to: BestModel/assets\n"
          ],
          "name": "stdout"
        },
        {
          "output_type": "stream",
          "text": [
            "INFO:tensorflow:Assets written to: BestModel/assets\n"
          ],
          "name": "stderr"
        },
        {
          "output_type": "stream",
          "text": [
            "Epoch 37/50\n",
            "1000/1000 [==============================] - 10s 10ms/step - loss: 0.2171 - accuracy: 0.9205 - val_loss: 0.2426 - val_accuracy: 0.9187\n",
            "Epoch 38/50\n",
            "1000/1000 [==============================] - 10s 10ms/step - loss: 0.2146 - accuracy: 0.9237 - val_loss: 0.2026 - val_accuracy: 0.9314\n"
          ],
          "name": "stdout"
        },
        {
          "output_type": "stream",
          "text": [
            "WARNING:absl:Found untraced functions such as gru_cell_2_layer_call_fn, gru_cell_2_layer_call_and_return_conditional_losses, gru_cell_3_layer_call_fn, gru_cell_3_layer_call_and_return_conditional_losses, gru_cell_2_layer_call_fn while saving (showing 5 of 10). These functions will not be directly callable after loading.\n",
            "WARNING:absl:Found untraced functions such as gru_cell_2_layer_call_fn, gru_cell_2_layer_call_and_return_conditional_losses, gru_cell_3_layer_call_fn, gru_cell_3_layer_call_and_return_conditional_losses, gru_cell_2_layer_call_fn while saving (showing 5 of 10). These functions will not be directly callable after loading.\n"
          ],
          "name": "stderr"
        },
        {
          "output_type": "stream",
          "text": [
            "INFO:tensorflow:Assets written to: BestModel/assets\n"
          ],
          "name": "stdout"
        },
        {
          "output_type": "stream",
          "text": [
            "INFO:tensorflow:Assets written to: BestModel/assets\n"
          ],
          "name": "stderr"
        },
        {
          "output_type": "stream",
          "text": [
            "Epoch 39/50\n",
            "1000/1000 [==============================] - 10s 10ms/step - loss: 0.2126 - accuracy: 0.9235 - val_loss: 0.1933 - val_accuracy: 0.9333\n"
          ],
          "name": "stdout"
        },
        {
          "output_type": "stream",
          "text": [
            "WARNING:absl:Found untraced functions such as gru_cell_2_layer_call_fn, gru_cell_2_layer_call_and_return_conditional_losses, gru_cell_3_layer_call_fn, gru_cell_3_layer_call_and_return_conditional_losses, gru_cell_2_layer_call_fn while saving (showing 5 of 10). These functions will not be directly callable after loading.\n",
            "WARNING:absl:Found untraced functions such as gru_cell_2_layer_call_fn, gru_cell_2_layer_call_and_return_conditional_losses, gru_cell_3_layer_call_fn, gru_cell_3_layer_call_and_return_conditional_losses, gru_cell_2_layer_call_fn while saving (showing 5 of 10). These functions will not be directly callable after loading.\n"
          ],
          "name": "stderr"
        },
        {
          "output_type": "stream",
          "text": [
            "INFO:tensorflow:Assets written to: BestModel/assets\n"
          ],
          "name": "stdout"
        },
        {
          "output_type": "stream",
          "text": [
            "INFO:tensorflow:Assets written to: BestModel/assets\n"
          ],
          "name": "stderr"
        },
        {
          "output_type": "stream",
          "text": [
            "Epoch 40/50\n",
            "1000/1000 [==============================] - 10s 10ms/step - loss: 0.2005 - accuracy: 0.9289 - val_loss: 0.2015 - val_accuracy: 0.9340\n"
          ],
          "name": "stdout"
        },
        {
          "output_type": "stream",
          "text": [
            "WARNING:absl:Found untraced functions such as gru_cell_2_layer_call_fn, gru_cell_2_layer_call_and_return_conditional_losses, gru_cell_3_layer_call_fn, gru_cell_3_layer_call_and_return_conditional_losses, gru_cell_2_layer_call_fn while saving (showing 5 of 10). These functions will not be directly callable after loading.\n",
            "WARNING:absl:Found untraced functions such as gru_cell_2_layer_call_fn, gru_cell_2_layer_call_and_return_conditional_losses, gru_cell_3_layer_call_fn, gru_cell_3_layer_call_and_return_conditional_losses, gru_cell_2_layer_call_fn while saving (showing 5 of 10). These functions will not be directly callable after loading.\n"
          ],
          "name": "stderr"
        },
        {
          "output_type": "stream",
          "text": [
            "INFO:tensorflow:Assets written to: BestModel/assets\n"
          ],
          "name": "stdout"
        },
        {
          "output_type": "stream",
          "text": [
            "INFO:tensorflow:Assets written to: BestModel/assets\n"
          ],
          "name": "stderr"
        },
        {
          "output_type": "stream",
          "text": [
            "Epoch 41/50\n",
            "1000/1000 [==============================] - 10s 10ms/step - loss: 0.2029 - accuracy: 0.9284 - val_loss: 0.1898 - val_accuracy: 0.9333\n",
            "Epoch 42/50\n",
            "1000/1000 [==============================] - 10s 10ms/step - loss: 0.2039 - accuracy: 0.9288 - val_loss: 0.1871 - val_accuracy: 0.9364\n"
          ],
          "name": "stdout"
        },
        {
          "output_type": "stream",
          "text": [
            "WARNING:absl:Found untraced functions such as gru_cell_2_layer_call_fn, gru_cell_2_layer_call_and_return_conditional_losses, gru_cell_3_layer_call_fn, gru_cell_3_layer_call_and_return_conditional_losses, gru_cell_2_layer_call_fn while saving (showing 5 of 10). These functions will not be directly callable after loading.\n",
            "WARNING:absl:Found untraced functions such as gru_cell_2_layer_call_fn, gru_cell_2_layer_call_and_return_conditional_losses, gru_cell_3_layer_call_fn, gru_cell_3_layer_call_and_return_conditional_losses, gru_cell_2_layer_call_fn while saving (showing 5 of 10). These functions will not be directly callable after loading.\n"
          ],
          "name": "stderr"
        },
        {
          "output_type": "stream",
          "text": [
            "INFO:tensorflow:Assets written to: BestModel/assets\n"
          ],
          "name": "stdout"
        },
        {
          "output_type": "stream",
          "text": [
            "INFO:tensorflow:Assets written to: BestModel/assets\n"
          ],
          "name": "stderr"
        },
        {
          "output_type": "stream",
          "text": [
            "Epoch 43/50\n",
            "1000/1000 [==============================] - 10s 10ms/step - loss: 0.1961 - accuracy: 0.9326 - val_loss: 0.1796 - val_accuracy: 0.9381\n"
          ],
          "name": "stdout"
        },
        {
          "output_type": "stream",
          "text": [
            "WARNING:absl:Found untraced functions such as gru_cell_2_layer_call_fn, gru_cell_2_layer_call_and_return_conditional_losses, gru_cell_3_layer_call_fn, gru_cell_3_layer_call_and_return_conditional_losses, gru_cell_2_layer_call_fn while saving (showing 5 of 10). These functions will not be directly callable after loading.\n",
            "WARNING:absl:Found untraced functions such as gru_cell_2_layer_call_fn, gru_cell_2_layer_call_and_return_conditional_losses, gru_cell_3_layer_call_fn, gru_cell_3_layer_call_and_return_conditional_losses, gru_cell_2_layer_call_fn while saving (showing 5 of 10). These functions will not be directly callable after loading.\n"
          ],
          "name": "stderr"
        },
        {
          "output_type": "stream",
          "text": [
            "INFO:tensorflow:Assets written to: BestModel/assets\n"
          ],
          "name": "stdout"
        },
        {
          "output_type": "stream",
          "text": [
            "INFO:tensorflow:Assets written to: BestModel/assets\n"
          ],
          "name": "stderr"
        },
        {
          "output_type": "stream",
          "text": [
            "Epoch 44/50\n",
            "1000/1000 [==============================] - 10s 10ms/step - loss: 0.1967 - accuracy: 0.9306 - val_loss: 0.2000 - val_accuracy: 0.9306\n",
            "Epoch 45/50\n",
            "1000/1000 [==============================] - 10s 10ms/step - loss: 0.2023 - accuracy: 0.9280 - val_loss: 0.1813 - val_accuracy: 0.9358\n",
            "Epoch 46/50\n",
            "1000/1000 [==============================] - 10s 10ms/step - loss: 0.1999 - accuracy: 0.9298 - val_loss: 0.1913 - val_accuracy: 0.9319\n",
            "Epoch 47/50\n",
            "1000/1000 [==============================] - 10s 10ms/step - loss: 0.1870 - accuracy: 0.9349 - val_loss: 0.1895 - val_accuracy: 0.9345\n",
            "Epoch 48/50\n",
            "1000/1000 [==============================] - 10s 10ms/step - loss: 0.1850 - accuracy: 0.9354 - val_loss: 0.2010 - val_accuracy: 0.9335\n",
            "Epoch 49/50\n",
            "1000/1000 [==============================] - 10s 10ms/step - loss: 0.1792 - accuracy: 0.9385 - val_loss: 0.1669 - val_accuracy: 0.9449\n"
          ],
          "name": "stdout"
        },
        {
          "output_type": "stream",
          "text": [
            "WARNING:absl:Found untraced functions such as gru_cell_2_layer_call_fn, gru_cell_2_layer_call_and_return_conditional_losses, gru_cell_3_layer_call_fn, gru_cell_3_layer_call_and_return_conditional_losses, gru_cell_2_layer_call_fn while saving (showing 5 of 10). These functions will not be directly callable after loading.\n",
            "WARNING:absl:Found untraced functions such as gru_cell_2_layer_call_fn, gru_cell_2_layer_call_and_return_conditional_losses, gru_cell_3_layer_call_fn, gru_cell_3_layer_call_and_return_conditional_losses, gru_cell_2_layer_call_fn while saving (showing 5 of 10). These functions will not be directly callable after loading.\n"
          ],
          "name": "stderr"
        },
        {
          "output_type": "stream",
          "text": [
            "INFO:tensorflow:Assets written to: BestModel/assets\n"
          ],
          "name": "stdout"
        },
        {
          "output_type": "stream",
          "text": [
            "INFO:tensorflow:Assets written to: BestModel/assets\n"
          ],
          "name": "stderr"
        },
        {
          "output_type": "stream",
          "text": [
            "Epoch 50/50\n",
            "1000/1000 [==============================] - 10s 10ms/step - loss: 0.1835 - accuracy: 0.9361 - val_loss: 0.1641 - val_accuracy: 0.9446\n",
            "Fold 1, 50 epochs, 655 sec\n"
          ],
          "name": "stdout"
        },
        {
          "output_type": "display_data",
          "data": {
            "image/png": "[encoded data removed]",
            "text/plain": [
              "<Figure size 576x360 with 1 Axes>"
            ]
          },
          "metadata": {
            "tags": [],
            "needs_background": "light"
          }
        },
        {
          "output_type": "stream",
          "text": [
            "MODEL\n",
            "make_DNN\n",
            "input shape: (125, 4)\n",
            "FIT\n",
            "Epoch 1/50\n",
            "1000/1000 [==============================] - 12s 11ms/step - loss: 0.6997 - accuracy: 0.4994 - val_loss: 0.6933 - val_accuracy: 0.4991\n",
            "Epoch 2/50\n",
            "1000/1000 [==============================] - 10s 10ms/step - loss: 0.6938 - accuracy: 0.4992 - val_loss: 0.6948 - val_accuracy: 0.4995\n",
            "Epoch 3/50\n",
            "1000/1000 [==============================] - 10s 10ms/step - loss: 0.6937 - accuracy: 0.5015 - val_loss: 0.6949 - val_accuracy: 0.4995\n",
            "Epoch 4/50\n",
            "1000/1000 [==============================] - 10s 10ms/step - loss: 0.6941 - accuracy: 0.4965 - val_loss: 0.6933 - val_accuracy: 0.5005\n",
            "Epoch 5/50\n",
            "1000/1000 [==============================] - 10s 10ms/step - loss: 0.6936 - accuracy: 0.4956 - val_loss: 0.6944 - val_accuracy: 0.4995\n",
            "Epoch 6/50\n",
            "1000/1000 [==============================] - 10s 10ms/step - loss: 0.6938 - accuracy: 0.5006 - val_loss: 0.6937 - val_accuracy: 0.4995\n",
            "Epoch 7/50\n",
            "1000/1000 [==============================] - 10s 10ms/step - loss: 0.6933 - accuracy: 0.5015 - val_loss: 0.6944 - val_accuracy: 0.5005\n",
            "Epoch 8/50\n",
            "1000/1000 [==============================] - 10s 10ms/step - loss: 0.6936 - accuracy: 0.5040 - val_loss: 0.6940 - val_accuracy: 0.4995\n",
            "Epoch 9/50\n",
            "1000/1000 [==============================] - 10s 10ms/step - loss: 0.6935 - accuracy: 0.5022 - val_loss: 0.6930 - val_accuracy: 0.5144\n",
            "Epoch 10/50\n",
            "1000/1000 [==============================] - 10s 10ms/step - loss: 0.6935 - accuracy: 0.4974 - val_loss: 0.6934 - val_accuracy: 0.4999\n",
            "Epoch 11/50\n",
            "1000/1000 [==============================] - 10s 10ms/step - loss: 0.6935 - accuracy: 0.5042 - val_loss: 0.6931 - val_accuracy: 0.5064\n",
            "Epoch 12/50\n",
            "1000/1000 [==============================] - 10s 10ms/step - loss: 0.6934 - accuracy: 0.5081 - val_loss: 0.6932 - val_accuracy: 0.5006\n",
            "Epoch 13/50\n",
            "1000/1000 [==============================] - 10s 10ms/step - loss: 0.6932 - accuracy: 0.5089 - val_loss: 0.6932 - val_accuracy: 0.5071\n",
            "Epoch 14/50\n",
            "1000/1000 [==============================] - 10s 10ms/step - loss: 0.6930 - accuracy: 0.5111 - val_loss: 0.6941 - val_accuracy: 0.5005\n",
            "Epoch 15/50\n",
            "1000/1000 [==============================] - 10s 10ms/step - loss: 0.6930 - accuracy: 0.5114 - val_loss: 0.6936 - val_accuracy: 0.5004\n",
            "Epoch 16/50\n",
            "1000/1000 [==============================] - 10s 10ms/step - loss: 0.6934 - accuracy: 0.5048 - val_loss: 0.6968 - val_accuracy: 0.5035\n",
            "Epoch 17/50\n",
            "1000/1000 [==============================] - 10s 10ms/step - loss: 0.6935 - accuracy: 0.5074 - val_loss: 0.6942 - val_accuracy: 0.4899\n",
            "Epoch 18/50\n",
            "1000/1000 [==============================] - 10s 10ms/step - loss: 0.6931 - accuracy: 0.5133 - val_loss: 0.6918 - val_accuracy: 0.5269\n",
            "Epoch 19/50\n",
            "1000/1000 [==============================] - 10s 10ms/step - loss: 0.6926 - accuracy: 0.5205 - val_loss: 0.6920 - val_accuracy: 0.5226\n",
            "Epoch 20/50\n",
            "1000/1000 [==============================] - 10s 10ms/step - loss: 0.6935 - accuracy: 0.5055 - val_loss: 0.6918 - val_accuracy: 0.5269\n",
            "Epoch 21/50\n",
            "1000/1000 [==============================] - 10s 10ms/step - loss: 0.6928 - accuracy: 0.5073 - val_loss: 0.6930 - val_accuracy: 0.5048\n",
            "Epoch 22/50\n",
            "1000/1000 [==============================] - 10s 10ms/step - loss: 0.6933 - accuracy: 0.5064 - val_loss: 0.6935 - val_accuracy: 0.4971\n",
            "Epoch 23/50\n",
            "1000/1000 [==============================] - 10s 10ms/step - loss: 0.6932 - accuracy: 0.5081 - val_loss: 0.6936 - val_accuracy: 0.5009\n",
            "Epoch 24/50\n",
            "1000/1000 [==============================] - 10s 10ms/step - loss: 0.6928 - accuracy: 0.5141 - val_loss: 0.6889 - val_accuracy: 0.5364\n",
            "Epoch 25/50\n",
            "1000/1000 [==============================] - 10s 10ms/step - loss: 0.6900 - accuracy: 0.5381 - val_loss: 0.6939 - val_accuracy: 0.5023\n",
            "Epoch 26/50\n",
            "1000/1000 [==============================] - 10s 10ms/step - loss: 0.6921 - accuracy: 0.5196 - val_loss: 0.6934 - val_accuracy: 0.5048\n",
            "Epoch 27/50\n",
            "1000/1000 [==============================] - 10s 10ms/step - loss: 0.6932 - accuracy: 0.5134 - val_loss: 0.6929 - val_accuracy: 0.5076\n",
            "Epoch 28/50\n",
            "1000/1000 [==============================] - 10s 10ms/step - loss: 0.6936 - accuracy: 0.5012 - val_loss: 0.6946 - val_accuracy: 0.4961\n",
            "Epoch 29/50\n",
            "1000/1000 [==============================] - 10s 10ms/step - loss: 0.6933 - accuracy: 0.5099 - val_loss: 0.6945 - val_accuracy: 0.4958\n",
            "Epoch 30/50\n",
            "1000/1000 [==============================] - 10s 10ms/step - loss: 0.6936 - accuracy: 0.5068 - val_loss: 0.6924 - val_accuracy: 0.5120\n",
            "Epoch 31/50\n",
            "1000/1000 [==============================] - 10s 10ms/step - loss: 0.6918 - accuracy: 0.5283 - val_loss: 0.6863 - val_accuracy: 0.5497\n",
            "Epoch 32/50\n",
            "1000/1000 [==============================] - 10s 10ms/step - loss: 0.6895 - accuracy: 0.5315 - val_loss: 0.6654 - val_accuracy: 0.5951\n",
            "Epoch 33/50\n",
            "1000/1000 [==============================] - 10s 10ms/step - loss: 0.6424 - accuracy: 0.6315 - val_loss: 0.4373 - val_accuracy: 0.8216\n",
            "Epoch 34/50\n",
            "1000/1000 [==============================] - 10s 10ms/step - loss: 0.4089 - accuracy: 0.8294 - val_loss: 0.3727 - val_accuracy: 0.8396\n",
            "Epoch 35/50\n",
            "1000/1000 [==============================] - 10s 10ms/step - loss: 0.3534 - accuracy: 0.8454 - val_loss: 0.3475 - val_accuracy: 0.8482\n",
            "Epoch 36/50\n",
            "1000/1000 [==============================] - 10s 10ms/step - loss: 0.3256 - accuracy: 0.8606 - val_loss: 0.3390 - val_accuracy: 0.8626\n",
            "Epoch 37/50\n",
            "1000/1000 [==============================] - 10s 10ms/step - loss: 0.3112 - accuracy: 0.8754 - val_loss: 0.3003 - val_accuracy: 0.8846\n",
            "Epoch 38/50\n",
            "1000/1000 [==============================] - 10s 10ms/step - loss: 0.2917 - accuracy: 0.8867 - val_loss: 0.3228 - val_accuracy: 0.8783\n",
            "Epoch 39/50\n",
            "1000/1000 [==============================] - 10s 10ms/step - loss: 0.2677 - accuracy: 0.8988 - val_loss: 0.2717 - val_accuracy: 0.8990\n",
            "Epoch 40/50\n",
            "1000/1000 [==============================] - 10s 10ms/step - loss: 0.2448 - accuracy: 0.9099 - val_loss: 0.2513 - val_accuracy: 0.9078\n",
            "Epoch 41/50\n",
            "1000/1000 [==============================] - 10s 10ms/step - loss: 0.2475 - accuracy: 0.9099 - val_loss: 0.3408 - val_accuracy: 0.8586\n",
            "Epoch 42/50\n",
            "1000/1000 [==============================] - 10s 10ms/step - loss: 0.2324 - accuracy: 0.9163 - val_loss: 0.2372 - val_accuracy: 0.9134\n",
            "Epoch 43/50\n",
            "1000/1000 [==============================] - 10s 10ms/step - loss: 0.2216 - accuracy: 0.9168 - val_loss: 0.2351 - val_accuracy: 0.9144\n",
            "Epoch 44/50\n",
            "1000/1000 [==============================] - 10s 10ms/step - loss: 0.2161 - accuracy: 0.9229 - val_loss: 0.2681 - val_accuracy: 0.9045\n",
            "Epoch 45/50\n",
            "1000/1000 [==============================] - 10s 10ms/step - loss: 0.2112 - accuracy: 0.9245 - val_loss: 0.2236 - val_accuracy: 0.9214\n",
            "Epoch 46/50\n",
            "1000/1000 [==============================] - 10s 10ms/step - loss: 0.2078 - accuracy: 0.9273 - val_loss: 0.2250 - val_accuracy: 0.9231\n",
            "Epoch 47/50\n",
            "1000/1000 [==============================] - 10s 10ms/step - loss: 0.2082 - accuracy: 0.9252 - val_loss: 0.2141 - val_accuracy: 0.9229\n",
            "Epoch 48/50\n",
            "1000/1000 [==============================] - 10s 10ms/step - loss: 0.2000 - accuracy: 0.9301 - val_loss: 0.2417 - val_accuracy: 0.9095\n",
            "Epoch 49/50\n",
            "1000/1000 [==============================] - 10s 10ms/step - loss: 0.1901 - accuracy: 0.9334 - val_loss: 0.2085 - val_accuracy: 0.9268\n",
            "Epoch 50/50\n",
            "1000/1000 [==============================] - 10s 10ms/step - loss: 0.1940 - accuracy: 0.9318 - val_loss: 0.2204 - val_accuracy: 0.9214\n",
            "Fold 2, 50 epochs, 503 sec\n"
          ],
          "name": "stdout"
        },
        {
          "output_type": "display_data",
          "data": {
            "image/png": "[encoded data removed]",
            "text/plain": [
              "<Figure size 576x360 with 1 Axes>"
            ]
          },
          "metadata": {
            "tags": [],
            "needs_background": "light"
          }
        },
        {
          "output_type": "stream",
          "text": [
            "MODEL\n",
            "make_DNN\n",
            "input shape: (125, 4)\n",
            "FIT\n",
            "Epoch 1/50\n",
            "1000/1000 [==============================] - 12s 11ms/step - loss: 0.6952 - accuracy: 0.5013 - val_loss: 0.6934 - val_accuracy: 0.4980\n",
            "Epoch 2/50\n",
            "1000/1000 [==============================] - 10s 10ms/step - loss: 0.6936 - accuracy: 0.5056 - val_loss: 0.6935 - val_accuracy: 0.4940\n",
            "Epoch 3/50\n",
            "1000/1000 [==============================] - 10s 10ms/step - loss: 0.6934 - accuracy: 0.5023 - val_loss: 0.6935 - val_accuracy: 0.4924\n",
            "Epoch 4/50\n",
            "1000/1000 [==============================] - 10s 10ms/step - loss: 0.6938 - accuracy: 0.5004 - val_loss: 0.6943 - val_accuracy: 0.4978\n",
            "Epoch 5/50\n",
            "1000/1000 [==============================] - 10s 10ms/step - loss: 0.6931 - accuracy: 0.5080 - val_loss: 0.6943 - val_accuracy: 0.4980\n",
            "Epoch 6/50\n",
            "1000/1000 [==============================] - 10s 10ms/step - loss: 0.6935 - accuracy: 0.5050 - val_loss: 0.6937 - val_accuracy: 0.4971\n",
            "Epoch 7/50\n",
            "1000/1000 [==============================] - 10s 10ms/step - loss: 0.6936 - accuracy: 0.5044 - val_loss: 0.6936 - val_accuracy: 0.4972\n",
            "Epoch 8/50\n",
            "1000/1000 [==============================] - 10s 10ms/step - loss: 0.6934 - accuracy: 0.5096 - val_loss: 0.6935 - val_accuracy: 0.4992\n",
            "Epoch 9/50\n",
            "1000/1000 [==============================] - 10s 10ms/step - loss: 0.6934 - accuracy: 0.5022 - val_loss: 0.6938 - val_accuracy: 0.4986\n",
            "Epoch 10/50\n",
            "1000/1000 [==============================] - 10s 10ms/step - loss: 0.6931 - accuracy: 0.5058 - val_loss: 0.6937 - val_accuracy: 0.4954\n",
            "Epoch 11/50\n",
            "1000/1000 [==============================] - 10s 10ms/step - loss: 0.6936 - accuracy: 0.5012 - val_loss: 0.6942 - val_accuracy: 0.4995\n",
            "Epoch 12/50\n",
            "1000/1000 [==============================] - 10s 10ms/step - loss: 0.6935 - accuracy: 0.5059 - val_loss: 0.6936 - val_accuracy: 0.4967\n",
            "Epoch 13/50\n",
            "1000/1000 [==============================] - 10s 10ms/step - loss: 0.6936 - accuracy: 0.5072 - val_loss: 0.6942 - val_accuracy: 0.4974\n",
            "Epoch 14/50\n",
            "1000/1000 [==============================] - 10s 10ms/step - loss: 0.6932 - accuracy: 0.5117 - val_loss: 0.6939 - val_accuracy: 0.5011\n",
            "Epoch 15/50\n",
            "1000/1000 [==============================] - 10s 10ms/step - loss: 0.6927 - accuracy: 0.5115 - val_loss: 0.6959 - val_accuracy: 0.4979\n",
            "Epoch 16/50\n",
            "1000/1000 [==============================] - 10s 10ms/step - loss: 0.6929 - accuracy: 0.5132 - val_loss: 0.6946 - val_accuracy: 0.5035\n",
            "Epoch 17/50\n",
            "1000/1000 [==============================] - 10s 10ms/step - loss: 0.6925 - accuracy: 0.5122 - val_loss: 0.6942 - val_accuracy: 0.5014\n",
            "Epoch 18/50\n",
            "1000/1000 [==============================] - 10s 10ms/step - loss: 0.6916 - accuracy: 0.5222 - val_loss: 0.6961 - val_accuracy: 0.4989\n",
            "Epoch 19/50\n",
            "1000/1000 [==============================] - 10s 10ms/step - loss: 0.6914 - accuracy: 0.5248 - val_loss: 0.6961 - val_accuracy: 0.5050\n",
            "Epoch 20/50\n",
            "1000/1000 [==============================] - 10s 10ms/step - loss: 0.6915 - accuracy: 0.5203 - val_loss: 0.6953 - val_accuracy: 0.4980\n",
            "Epoch 21/50\n",
            "1000/1000 [==============================] - 10s 10ms/step - loss: 0.6905 - accuracy: 0.5292 - val_loss: 0.6958 - val_accuracy: 0.5025\n",
            "Epoch 22/50\n",
            "1000/1000 [==============================] - 10s 10ms/step - loss: 0.6904 - accuracy: 0.5275 - val_loss: 0.6965 - val_accuracy: 0.4975\n",
            "Epoch 23/50\n",
            "1000/1000 [==============================] - 10s 10ms/step - loss: 0.6890 - accuracy: 0.5373 - val_loss: 0.7005 - val_accuracy: 0.4980\n",
            "Epoch 24/50\n",
            "1000/1000 [==============================] - 10s 10ms/step - loss: 0.6863 - accuracy: 0.5450 - val_loss: 0.6910 - val_accuracy: 0.5428\n",
            "Epoch 25/50\n",
            "1000/1000 [==============================] - 10s 10ms/step - loss: 0.6659 - accuracy: 0.5917 - val_loss: 0.6119 - val_accuracy: 0.6546\n",
            "Epoch 26/50\n",
            "1000/1000 [==============================] - 10s 10ms/step - loss: 0.5837 - accuracy: 0.6759 - val_loss: 0.5807 - val_accuracy: 0.6702\n",
            "Epoch 27/50\n",
            "1000/1000 [==============================] - 10s 10ms/step - loss: 0.5618 - accuracy: 0.6899 - val_loss: 0.5702 - val_accuracy: 0.6808\n",
            "Epoch 28/50\n",
            "1000/1000 [==============================] - 10s 10ms/step - loss: 0.5586 - accuracy: 0.6909 - val_loss: 0.5697 - val_accuracy: 0.6812\n",
            "Epoch 29/50\n",
            "1000/1000 [==============================] - 10s 10ms/step - loss: 0.5502 - accuracy: 0.7016 - val_loss: 0.5685 - val_accuracy: 0.6794\n",
            "Epoch 30/50\n",
            "1000/1000 [==============================] - 10s 10ms/step - loss: 0.5479 - accuracy: 0.7015 - val_loss: 0.5693 - val_accuracy: 0.6851\n",
            "Epoch 31/50\n",
            "1000/1000 [==============================] - 10s 10ms/step - loss: 0.5459 - accuracy: 0.7066 - val_loss: 0.5770 - val_accuracy: 0.6816\n",
            "Epoch 32/50\n",
            "1000/1000 [==============================] - 10s 10ms/step - loss: 0.5437 - accuracy: 0.7075 - val_loss: 0.5689 - val_accuracy: 0.6796\n",
            "Epoch 33/50\n",
            "1000/1000 [==============================] - 10s 10ms/step - loss: 0.5429 - accuracy: 0.7040 - val_loss: 0.5724 - val_accuracy: 0.6855\n",
            "Epoch 34/50\n",
            "1000/1000 [==============================] - 10s 10ms/step - loss: 0.5428 - accuracy: 0.7069 - val_loss: 0.5729 - val_accuracy: 0.6805\n",
            "Epoch 35/50\n",
            "1000/1000 [==============================] - 10s 10ms/step - loss: 0.5300 - accuracy: 0.7191 - val_loss: 0.5779 - val_accuracy: 0.6811\n",
            "Epoch 36/50\n",
            "1000/1000 [==============================] - 10s 10ms/step - loss: 0.5310 - accuracy: 0.7146 - val_loss: 0.5805 - val_accuracy: 0.6842\n",
            "Epoch 37/50\n",
            "1000/1000 [==============================] - 10s 10ms/step - loss: 0.5358 - accuracy: 0.7160 - val_loss: 0.5762 - val_accuracy: 0.6775\n",
            "Epoch 38/50\n",
            "1000/1000 [==============================] - 10s 10ms/step - loss: 0.5238 - accuracy: 0.7249 - val_loss: 0.5811 - val_accuracy: 0.6852\n",
            "Epoch 39/50\n",
            "1000/1000 [==============================] - 10s 10ms/step - loss: 0.5221 - accuracy: 0.7257 - val_loss: 0.5789 - val_accuracy: 0.6785\n",
            "Epoch 40/50\n",
            "1000/1000 [==============================] - 10s 10ms/step - loss: 0.5199 - accuracy: 0.7249 - val_loss: 0.5933 - val_accuracy: 0.6808\n",
            "Epoch 41/50\n",
            "1000/1000 [==============================] - 10s 10ms/step - loss: 0.5152 - accuracy: 0.7334 - val_loss: 0.5806 - val_accuracy: 0.6787\n",
            "Epoch 42/50\n",
            "1000/1000 [==============================] - 10s 10ms/step - loss: 0.5108 - accuracy: 0.7347 - val_loss: 0.5917 - val_accuracy: 0.6779\n",
            "Epoch 43/50\n",
            "1000/1000 [==============================] - 10s 10ms/step - loss: 0.5097 - accuracy: 0.7368 - val_loss: 0.5901 - val_accuracy: 0.6809\n",
            "Epoch 44/50\n",
            "1000/1000 [==============================] - 10s 10ms/step - loss: 0.5070 - accuracy: 0.7365 - val_loss: 0.6027 - val_accuracy: 0.6779\n",
            "Epoch 45/50\n",
            "1000/1000 [==============================] - 10s 10ms/step - loss: 0.5056 - accuracy: 0.7409 - val_loss: 0.5972 - val_accuracy: 0.6793\n",
            "Epoch 46/50\n",
            "1000/1000 [==============================] - 10s 10ms/step - loss: 0.4957 - accuracy: 0.7475 - val_loss: 0.5968 - val_accuracy: 0.6771\n",
            "Epoch 47/50\n",
            "1000/1000 [==============================] - 10s 10ms/step - loss: 0.4893 - accuracy: 0.7531 - val_loss: 0.6055 - val_accuracy: 0.6747\n",
            "Epoch 48/50\n",
            "1000/1000 [==============================] - 10s 10ms/step - loss: 0.4863 - accuracy: 0.7548 - val_loss: 0.6097 - val_accuracy: 0.6759\n",
            "Epoch 49/50\n",
            "1000/1000 [==============================] - 10s 10ms/step - loss: 0.4838 - accuracy: 0.7572 - val_loss: 0.6224 - val_accuracy: 0.6711\n",
            "Epoch 50/50\n",
            "1000/1000 [==============================] - 10s 10ms/step - loss: 0.4802 - accuracy: 0.7583 - val_loss: 0.6197 - val_accuracy: 0.6725\n",
            "Fold 3, 50 epochs, 507 sec\n"
          ],
          "name": "stdout"
        },
        {
          "output_type": "display_data",
          "data": {
            "image/png": "[encoded data removed]",
            "text/plain": [
              "<Figure size 576x360 with 1 Axes>"
            ]
          },
          "metadata": {
            "tags": [],
            "needs_background": "light"
          }
        },
        {
          "output_type": "stream",
          "text": [
            "MODEL\n",
            "make_DNN\n",
            "input shape: (125, 4)\n",
            "FIT\n",
            "Epoch 1/50\n",
            "1000/1000 [==============================] - 12s 11ms/step - loss: 0.6962 - accuracy: 0.4982 - val_loss: 0.6932 - val_accuracy: 0.5050\n",
            "Epoch 2/50\n",
            "1000/1000 [==============================] - 10s 10ms/step - loss: 0.6935 - accuracy: 0.5022 - val_loss: 0.6936 - val_accuracy: 0.4956\n",
            "Epoch 3/50\n",
            "1000/1000 [==============================] - 10s 10ms/step - loss: 0.6936 - accuracy: 0.5020 - val_loss: 0.6936 - val_accuracy: 0.4945\n",
            "Epoch 4/50\n",
            "1000/1000 [==============================] - 10s 10ms/step - loss: 0.6936 - accuracy: 0.4985 - val_loss: 0.6950 - val_accuracy: 0.4960\n",
            "Epoch 5/50\n",
            "1000/1000 [==============================] - 10s 10ms/step - loss: 0.6933 - accuracy: 0.5053 - val_loss: 0.6932 - val_accuracy: 0.4985\n",
            "Epoch 6/50\n",
            "1000/1000 [==============================] - 10s 10ms/step - loss: 0.6933 - accuracy: 0.5010 - val_loss: 0.6934 - val_accuracy: 0.4960\n",
            "Epoch 7/50\n",
            "1000/1000 [==============================] - 10s 10ms/step - loss: 0.6936 - accuracy: 0.4979 - val_loss: 0.6935 - val_accuracy: 0.4960\n",
            "Epoch 8/50\n",
            "1000/1000 [==============================] - 10s 10ms/step - loss: 0.6935 - accuracy: 0.4977 - val_loss: 0.6936 - val_accuracy: 0.5042\n",
            "Epoch 9/50\n",
            "1000/1000 [==============================] - 10s 10ms/step - loss: 0.6933 - accuracy: 0.5067 - val_loss: 0.6947 - val_accuracy: 0.4964\n",
            "Epoch 10/50\n",
            "1000/1000 [==============================] - 10s 10ms/step - loss: 0.6934 - accuracy: 0.5066 - val_loss: 0.6940 - val_accuracy: 0.4955\n",
            "Epoch 11/50\n",
            "1000/1000 [==============================] - 10s 10ms/step - loss: 0.6932 - accuracy: 0.5091 - val_loss: 0.6943 - val_accuracy: 0.4961\n",
            "Epoch 12/50\n",
            "1000/1000 [==============================] - 10s 10ms/step - loss: 0.6932 - accuracy: 0.5113 - val_loss: 0.6939 - val_accuracy: 0.4946\n",
            "Epoch 13/50\n",
            "1000/1000 [==============================] - 10s 10ms/step - loss: 0.6933 - accuracy: 0.5068 - val_loss: 0.6943 - val_accuracy: 0.4950\n",
            "Epoch 14/50\n",
            "1000/1000 [==============================] - 10s 10ms/step - loss: 0.6936 - accuracy: 0.5007 - val_loss: 0.6947 - val_accuracy: 0.5045\n",
            "Epoch 15/50\n",
            "1000/1000 [==============================] - 10s 10ms/step - loss: 0.6927 - accuracy: 0.5056 - val_loss: 0.6934 - val_accuracy: 0.5086\n",
            "Epoch 16/50\n",
            "1000/1000 [==============================] - 10s 10ms/step - loss: 0.6924 - accuracy: 0.5169 - val_loss: 0.6941 - val_accuracy: 0.5094\n",
            "Epoch 17/50\n",
            "1000/1000 [==============================] - 10s 10ms/step - loss: 0.6927 - accuracy: 0.5163 - val_loss: 0.6936 - val_accuracy: 0.5013\n",
            "Epoch 18/50\n",
            "1000/1000 [==============================] - 10s 10ms/step - loss: 0.6926 - accuracy: 0.5131 - val_loss: 0.6941 - val_accuracy: 0.5016\n",
            "Epoch 19/50\n",
            "1000/1000 [==============================] - 10s 10ms/step - loss: 0.6927 - accuracy: 0.5080 - val_loss: 0.6948 - val_accuracy: 0.5050\n",
            "Epoch 20/50\n",
            "1000/1000 [==============================] - 10s 10ms/step - loss: 0.6921 - accuracy: 0.5237 - val_loss: 0.6952 - val_accuracy: 0.5041\n",
            "Epoch 21/50\n",
            "1000/1000 [==============================] - 10s 10ms/step - loss: 0.6912 - accuracy: 0.5160 - val_loss: 0.6946 - val_accuracy: 0.5034\n",
            "Epoch 22/50\n",
            "1000/1000 [==============================] - 10s 10ms/step - loss: 0.6913 - accuracy: 0.5223 - val_loss: 0.6964 - val_accuracy: 0.4971\n",
            "Epoch 23/50\n",
            "1000/1000 [==============================] - 10s 10ms/step - loss: 0.6907 - accuracy: 0.5267 - val_loss: 0.6963 - val_accuracy: 0.4916\n",
            "Epoch 24/50\n",
            "1000/1000 [==============================] - 10s 10ms/step - loss: 0.6899 - accuracy: 0.5273 - val_loss: 0.6959 - val_accuracy: 0.4939\n",
            "Epoch 25/50\n",
            "1000/1000 [==============================] - 10s 10ms/step - loss: 0.6900 - accuracy: 0.5286 - val_loss: 0.6971 - val_accuracy: 0.4880\n",
            "Epoch 26/50\n",
            "1000/1000 [==============================] - 10s 10ms/step - loss: 0.6888 - accuracy: 0.5381 - val_loss: 0.6972 - val_accuracy: 0.5041\n",
            "Epoch 27/50\n",
            "1000/1000 [==============================] - 10s 10ms/step - loss: 0.6883 - accuracy: 0.5409 - val_loss: 0.7007 - val_accuracy: 0.5045\n",
            "Epoch 28/50\n",
            "1000/1000 [==============================] - 10s 10ms/step - loss: 0.6881 - accuracy: 0.5403 - val_loss: 0.6992 - val_accuracy: 0.4990\n",
            "Epoch 29/50\n",
            "1000/1000 [==============================] - 10s 10ms/step - loss: 0.6874 - accuracy: 0.5412 - val_loss: 0.6994 - val_accuracy: 0.5000\n",
            "Epoch 30/50\n",
            "1000/1000 [==============================] - 10s 10ms/step - loss: 0.6847 - accuracy: 0.5441 - val_loss: 0.7017 - val_accuracy: 0.5041\n",
            "Epoch 31/50\n",
            "1000/1000 [==============================] - 10s 10ms/step - loss: 0.6835 - accuracy: 0.5546 - val_loss: 0.7012 - val_accuracy: 0.5041\n",
            "Epoch 32/50\n",
            "1000/1000 [==============================] - 10s 10ms/step - loss: 0.6811 - accuracy: 0.5626 - val_loss: 0.6933 - val_accuracy: 0.5412\n",
            "Epoch 33/50\n",
            "1000/1000 [==============================] - 10s 10ms/step - loss: 0.6671 - accuracy: 0.5959 - val_loss: 0.6704 - val_accuracy: 0.5970\n",
            "Epoch 34/50\n",
            "1000/1000 [==============================] - 10s 10ms/step - loss: 0.6459 - accuracy: 0.6267 - val_loss: 0.6452 - val_accuracy: 0.6332\n",
            "Epoch 35/50\n",
            "1000/1000 [==============================] - 10s 10ms/step - loss: 0.6210 - accuracy: 0.6568 - val_loss: 0.6179 - val_accuracy: 0.6553\n",
            "Epoch 36/50\n",
            "1000/1000 [==============================] - 10s 10ms/step - loss: 0.5951 - accuracy: 0.6697 - val_loss: 0.5886 - val_accuracy: 0.6710\n",
            "Epoch 37/50\n",
            "1000/1000 [==============================] - 10s 10ms/step - loss: 0.5688 - accuracy: 0.6849 - val_loss: 0.5784 - val_accuracy: 0.6777\n",
            "Epoch 38/50\n",
            "1000/1000 [==============================] - 10s 10ms/step - loss: 0.5648 - accuracy: 0.6893 - val_loss: 0.5739 - val_accuracy: 0.6785\n",
            "Epoch 39/50\n",
            "1000/1000 [==============================] - 10s 10ms/step - loss: 0.5568 - accuracy: 0.6945 - val_loss: 0.5735 - val_accuracy: 0.6802\n",
            "Epoch 40/50\n",
            "1000/1000 [==============================] - 10s 10ms/step - loss: 0.5561 - accuracy: 0.6983 - val_loss: 0.5723 - val_accuracy: 0.6795\n",
            "Epoch 41/50\n",
            "1000/1000 [==============================] - 10s 10ms/step - loss: 0.5509 - accuracy: 0.7009 - val_loss: 0.5709 - val_accuracy: 0.6876\n",
            "Epoch 42/50\n",
            "1000/1000 [==============================] - 10s 10ms/step - loss: 0.5426 - accuracy: 0.7058 - val_loss: 0.5719 - val_accuracy: 0.6886\n",
            "Epoch 43/50\n",
            "1000/1000 [==============================] - 10s 10ms/step - loss: 0.5422 - accuracy: 0.7056 - val_loss: 0.5759 - val_accuracy: 0.6831\n",
            "Epoch 44/50\n",
            "1000/1000 [==============================] - 10s 10ms/step - loss: 0.5377 - accuracy: 0.7107 - val_loss: 0.5775 - val_accuracy: 0.6775\n",
            "Epoch 45/50\n",
            "1000/1000 [==============================] - 10s 10ms/step - loss: 0.5299 - accuracy: 0.7184 - val_loss: 0.5761 - val_accuracy: 0.6821\n",
            "Epoch 46/50\n",
            "1000/1000 [==============================] - 10s 10ms/step - loss: 0.5274 - accuracy: 0.7219 - val_loss: 0.5768 - val_accuracy: 0.6755\n",
            "Epoch 47/50\n",
            "1000/1000 [==============================] - 10s 10ms/step - loss: 0.5201 - accuracy: 0.7264 - val_loss: 0.5826 - val_accuracy: 0.6804\n",
            "Epoch 48/50\n",
            "1000/1000 [==============================] - 10s 10ms/step - loss: 0.5176 - accuracy: 0.7296 - val_loss: 0.5876 - val_accuracy: 0.6744\n",
            "Epoch 49/50\n",
            "1000/1000 [==============================] - 10s 10ms/step - loss: 0.5117 - accuracy: 0.7340 - val_loss: 0.5938 - val_accuracy: 0.6787\n",
            "Epoch 50/50\n",
            "1000/1000 [==============================] - 10s 10ms/step - loss: 0.5143 - accuracy: 0.7319 - val_loss: 0.6045 - val_accuracy: 0.6722\n",
            "Fold 4, 50 epochs, 506 sec\n"
          ],
          "name": "stdout"
        },
        {
          "output_type": "display_data",
          "data": {
            "image/png": "[encoded data removed]",
            "text/plain": [
              "<Figure size 576x360 with 1 Axes>"
            ]
          },
          "metadata": {
            "tags": [],
            "needs_background": "light"
          }
        },
        {
          "output_type": "stream",
          "text": [
            "MODEL\n",
            "make_DNN\n",
            "input shape: (125, 4)\n",
            "FIT\n",
            "Epoch 1/50\n",
            "1000/1000 [==============================] - 13s 11ms/step - loss: 0.7041 - accuracy: 0.4956 - val_loss: 0.6932 - val_accuracy: 0.5000\n",
            "Epoch 2/50\n",
            "1000/1000 [==============================] - 10s 10ms/step - loss: 0.6943 - accuracy: 0.4985 - val_loss: 0.6934 - val_accuracy: 0.4970\n",
            "Epoch 3/50\n",
            "1000/1000 [==============================] - 10s 10ms/step - loss: 0.6938 - accuracy: 0.4969 - val_loss: 0.6931 - val_accuracy: 0.5030\n",
            "Epoch 4/50\n",
            "1000/1000 [==============================] - 10s 10ms/step - loss: 0.6935 - accuracy: 0.5066 - val_loss: 0.6931 - val_accuracy: 0.5048\n",
            "Epoch 5/50\n",
            "1000/1000 [==============================] - 10s 10ms/step - loss: 0.6935 - accuracy: 0.5042 - val_loss: 0.6930 - val_accuracy: 0.5106\n",
            "Epoch 6/50\n",
            "1000/1000 [==============================] - 10s 10ms/step - loss: 0.6935 - accuracy: 0.4977 - val_loss: 0.6939 - val_accuracy: 0.5030\n",
            "Epoch 7/50\n",
            "1000/1000 [==============================] - 10s 10ms/step - loss: 0.6940 - accuracy: 0.4954 - val_loss: 0.6936 - val_accuracy: 0.5030\n",
            "Epoch 8/50\n",
            "1000/1000 [==============================] - 10s 10ms/step - loss: 0.6938 - accuracy: 0.4978 - val_loss: 0.6932 - val_accuracy: 0.4967\n",
            "Epoch 9/50\n",
            "1000/1000 [==============================] - 10s 10ms/step - loss: 0.6936 - accuracy: 0.4967 - val_loss: 0.6930 - val_accuracy: 0.5169\n",
            "Epoch 10/50\n",
            "1000/1000 [==============================] - 10s 10ms/step - loss: 0.6937 - accuracy: 0.4938 - val_loss: 0.6932 - val_accuracy: 0.5030\n",
            "Epoch 11/50\n",
            "1000/1000 [==============================] - 10s 10ms/step - loss: 0.6938 - accuracy: 0.4932 - val_loss: 0.6932 - val_accuracy: 0.4981\n",
            "Epoch 12/50\n",
            "1000/1000 [==============================] - 10s 10ms/step - loss: 0.6935 - accuracy: 0.5006 - val_loss: 0.6930 - val_accuracy: 0.5029\n",
            "Epoch 13/50\n",
            "1000/1000 [==============================] - 10s 10ms/step - loss: 0.6934 - accuracy: 0.5026 - val_loss: 0.6980 - val_accuracy: 0.4970\n",
            "Epoch 14/50\n",
            "1000/1000 [==============================] - 10s 10ms/step - loss: 0.6937 - accuracy: 0.5057 - val_loss: 0.6930 - val_accuracy: 0.5061\n",
            "Epoch 15/50\n",
            "1000/1000 [==============================] - 10s 10ms/step - loss: 0.6935 - accuracy: 0.5036 - val_loss: 0.6931 - val_accuracy: 0.5075\n",
            "Epoch 16/50\n",
            "1000/1000 [==============================] - 10s 10ms/step - loss: 0.6935 - accuracy: 0.5029 - val_loss: 0.6930 - val_accuracy: 0.4983\n",
            "Epoch 17/50\n",
            "1000/1000 [==============================] - 10s 10ms/step - loss: 0.6931 - accuracy: 0.5046 - val_loss: 0.6937 - val_accuracy: 0.5011\n",
            "Epoch 18/50\n",
            "1000/1000 [==============================] - 10s 10ms/step - loss: 0.6930 - accuracy: 0.5119 - val_loss: 0.6934 - val_accuracy: 0.5009\n",
            "Epoch 19/50\n",
            "1000/1000 [==============================] - 10s 10ms/step - loss: 0.6929 - accuracy: 0.5121 - val_loss: 0.6929 - val_accuracy: 0.5011\n",
            "Epoch 20/50\n",
            "1000/1000 [==============================] - 10s 10ms/step - loss: 0.6931 - accuracy: 0.5125 - val_loss: 0.6936 - val_accuracy: 0.5060\n",
            "Epoch 21/50\n",
            "1000/1000 [==============================] - 10s 10ms/step - loss: 0.6923 - accuracy: 0.5144 - val_loss: 0.6947 - val_accuracy: 0.5079\n",
            "Epoch 22/50\n",
            "1000/1000 [==============================] - 10s 10ms/step - loss: 0.6924 - accuracy: 0.5149 - val_loss: 0.6948 - val_accuracy: 0.5052\n",
            "Epoch 23/50\n",
            "1000/1000 [==============================] - 10s 10ms/step - loss: 0.6915 - accuracy: 0.5255 - val_loss: 0.6938 - val_accuracy: 0.5041\n",
            "Epoch 24/50\n",
            "1000/1000 [==============================] - 10s 10ms/step - loss: 0.6912 - accuracy: 0.5232 - val_loss: 0.6952 - val_accuracy: 0.4980\n",
            "Epoch 25/50\n",
            "1000/1000 [==============================] - 10s 10ms/step - loss: 0.6901 - accuracy: 0.5281 - val_loss: 0.6945 - val_accuracy: 0.5058\n",
            "Epoch 26/50\n",
            "1000/1000 [==============================] - 10s 10ms/step - loss: 0.6911 - accuracy: 0.5257 - val_loss: 0.6966 - val_accuracy: 0.4990\n",
            "Epoch 27/50\n",
            "1000/1000 [==============================] - 10s 10ms/step - loss: 0.6899 - accuracy: 0.5294 - val_loss: 0.6968 - val_accuracy: 0.5030\n",
            "Epoch 28/50\n",
            "1000/1000 [==============================] - 10s 10ms/step - loss: 0.6889 - accuracy: 0.5362 - val_loss: 0.6978 - val_accuracy: 0.5080\n",
            "Epoch 29/50\n",
            "1000/1000 [==============================] - 10s 10ms/step - loss: 0.6866 - accuracy: 0.5468 - val_loss: 0.6966 - val_accuracy: 0.5042\n",
            "Epoch 30/50\n",
            "1000/1000 [==============================] - 10s 10ms/step - loss: 0.6867 - accuracy: 0.5459 - val_loss: 0.6995 - val_accuracy: 0.5033\n",
            "Epoch 31/50\n",
            "1000/1000 [==============================] - 10s 10ms/step - loss: 0.6846 - accuracy: 0.5496 - val_loss: 0.6998 - val_accuracy: 0.5017\n",
            "Epoch 32/50\n",
            "1000/1000 [==============================] - 10s 10ms/step - loss: 0.6817 - accuracy: 0.5557 - val_loss: 0.7012 - val_accuracy: 0.5079\n",
            "Epoch 33/50\n",
            "1000/1000 [==============================] - 10s 10ms/step - loss: 0.6809 - accuracy: 0.5577 - val_loss: 0.7015 - val_accuracy: 0.5061\n",
            "Epoch 34/50\n",
            "1000/1000 [==============================] - 10s 10ms/step - loss: 0.6764 - accuracy: 0.5703 - val_loss: 0.7039 - val_accuracy: 0.5055\n",
            "Epoch 35/50\n",
            "1000/1000 [==============================] - 10s 10ms/step - loss: 0.6750 - accuracy: 0.5775 - val_loss: 0.7070 - val_accuracy: 0.5019\n",
            "Epoch 36/50\n",
            "1000/1000 [==============================] - 10s 10ms/step - loss: 0.6702 - accuracy: 0.5813 - val_loss: 0.7113 - val_accuracy: 0.5079\n",
            "Epoch 37/50\n",
            "1000/1000 [==============================] - 10s 10ms/step - loss: 0.6660 - accuracy: 0.5911 - val_loss: 0.7106 - val_accuracy: 0.5010\n",
            "Epoch 38/50\n",
            "1000/1000 [==============================] - 10s 10ms/step - loss: 0.6638 - accuracy: 0.6016 - val_loss: 0.7133 - val_accuracy: 0.5099\n",
            "Epoch 39/50\n",
            "1000/1000 [==============================] - 10s 10ms/step - loss: 0.6602 - accuracy: 0.6011 - val_loss: 0.7202 - val_accuracy: 0.5014\n",
            "Epoch 40/50\n",
            "1000/1000 [==============================] - 10s 10ms/step - loss: 0.6587 - accuracy: 0.6000 - val_loss: 0.7220 - val_accuracy: 0.5044\n",
            "Epoch 41/50\n",
            "1000/1000 [==============================] - 10s 10ms/step - loss: 0.6519 - accuracy: 0.6144 - val_loss: 0.7299 - val_accuracy: 0.5067\n",
            "Epoch 42/50\n",
            "1000/1000 [==============================] - 10s 10ms/step - loss: 0.6490 - accuracy: 0.6186 - val_loss: 0.7313 - val_accuracy: 0.5048\n",
            "Epoch 43/50\n",
            "1000/1000 [==============================] - 10s 10ms/step - loss: 0.6451 - accuracy: 0.6231 - val_loss: 0.7355 - val_accuracy: 0.5031\n",
            "Epoch 44/50\n",
            "1000/1000 [==============================] - 10s 10ms/step - loss: 0.6444 - accuracy: 0.6249 - val_loss: 0.7382 - val_accuracy: 0.5049\n",
            "Epoch 45/50\n",
            "1000/1000 [==============================] - 10s 10ms/step - loss: 0.6376 - accuracy: 0.6357 - val_loss: 0.7429 - val_accuracy: 0.5010\n",
            "Epoch 46/50\n",
            "1000/1000 [==============================] - 10s 10ms/step - loss: 0.6378 - accuracy: 0.6353 - val_loss: 0.7525 - val_accuracy: 0.5034\n",
            "Epoch 47/50\n",
            "1000/1000 [==============================] - 10s 10ms/step - loss: 0.6348 - accuracy: 0.6347 - val_loss: 0.7443 - val_accuracy: 0.5111\n",
            "Epoch 48/50\n",
            "1000/1000 [==============================] - 10s 10ms/step - loss: 0.6278 - accuracy: 0.6425 - val_loss: 0.7473 - val_accuracy: 0.5077\n",
            "Epoch 49/50\n",
            "1000/1000 [==============================] - 10s 10ms/step - loss: 0.6266 - accuracy: 0.6456 - val_loss: 0.7507 - val_accuracy: 0.5039\n",
            "Epoch 50/50\n",
            "1000/1000 [==============================] - 10s 10ms/step - loss: 0.6294 - accuracy: 0.6438 - val_loss: 0.7576 - val_accuracy: 0.5073\n",
            "Fold 5, 50 epochs, 505 sec\n"
          ],
          "name": "stdout"
        },
        {
          "output_type": "display_data",
          "data": {
            "image/png": "[encoded data removed]",
            "text/plain": [
              "<Figure size 576x360 with 1 Axes>"
            ]
          },
          "metadata": {
            "tags": [],
            "needs_background": "light"
          }
        }
      ]
    },
    {
      "cell_type": "code",
      "metadata": {
        "colab": {
          "base_uri": "https://localhost:8080/"
        },
        "id": "e-jG1h5fj2Ua",
        "outputId": "eb9ea274-1926-4d86-ce5f-4558a139477c"
      },
      "source": [
        "from keras.models import load_model\n",
        "pc_sim.set_reproducible(True)\n",
        "nc_sim.set_reproducible(True)\n",
        "pc_test = pc_sim.get_sequences(PC_TESTS)\n",
        "nc_test = nc_sim.get_sequences(NC_TESTS)\n",
        "X,y = prepare_inputs_len_x_alphabet(pc_test,nc_test,ALPHABET)\n",
        "best_model=load_model(MODELPATH)\n",
        "scores = best_model.evaluate(X, y, verbose=0)\n",
        "print(\"The best model parameters were saved during cross-validation.\")\n",
        "print(\"Best was defined as maximum validation accuracy at end of any epoch.\")\n",
        "print(\"Now re-load the best model and test it on previously unseen data.\")\n",
        "print(\"Test on\",len(pc_test),\"PC seqs\")\n",
        "print(\"Test on\",len(nc_test),\"NC seqs\")\n",
        "print(\"%s: %.2f%%\" % (best_model.metrics_names[1], scores[1]*100))\n"
      ],
      "execution_count": 10,
      "outputs": [
        {
          "output_type": "stream",
          "text": [
            "The best model parameters were saved during cross-validation.\n",
            "Best was defined as maximum validation accuracy at end of any epoch.\n",
            "Now re-load the best model and test it on previously unseen data.\n",
            "Test on 1000 PC seqs\n",
            "Test on 1000 NC seqs\n",
            "accuracy: 94.55%\n"
          ],
          "name": "stdout"
        }
      ]
    },
    {
      "cell_type": "code",
      "metadata": {
        "colab": {
          "base_uri": "https://localhost:8080/",
          "height": 312
        },
        "id": "VycUnmvUj2Ue",
        "outputId": "e8071418-a7aa-4737-e1cc-10d4a3c89db6"
      },
      "source": [
        "from sklearn.metrics import roc_curve\n",
        "from sklearn.metrics import roc_auc_score\n",
        "ns_probs = [0 for _ in range(len(y))]\n",
        "bm_probs = best_model.predict(X)\n",
        "ns_auc = roc_auc_score(y, ns_probs)\n",
        "bm_auc = roc_auc_score(y, bm_probs)\n",
        "ns_fpr, ns_tpr, _ = roc_curve(y, ns_probs)\n",
        "bm_fpr, bm_tpr, _ = roc_curve(y, bm_probs)\n",
        "plt.plot(ns_fpr, ns_tpr, linestyle='--', label='Guess, auc=%.4f'%ns_auc)\n",
        "plt.plot(bm_fpr, bm_tpr, marker='.', label='Model, auc=%.4f'%bm_auc)\n",
        "plt.title('ROC')\n",
        "plt.xlabel('False Positive Rate')\n",
        "plt.ylabel('True Positive Rate')\n",
        "plt.legend()\n",
        "plt.show()\n",
        "print(\"%s: %.2f%%\" %('AUC',bm_auc))\n"
      ],
      "execution_count": 11,
      "outputs": [
        {
          "output_type": "display_data",
          "data": {
            "image/png": "[encoded data removed]",
            "text/plain": [
              "<Figure size 432x288 with 1 Axes>"
            ]
          },
          "metadata": {
            "tags": [],
            "needs_background": "light"
          }
        },
        {
          "output_type": "stream",
          "text": [
            "AUC: 0.97%\n"
          ],
          "name": "stdout"
        }
      ]
    },
    {
      "cell_type": "code",
      "metadata": {
        "colab": {
          "base_uri": "https://localhost:8080/",
          "height": 36
        },
        "id": "kFMb6rGNj2Ug",
        "outputId": "270ff56c-b8cc-4fe6-c5c5-d5333a4d1a28"
      },
      "source": [
        "t = time.time()\n",
        "time.strftime('%Y-%m-%d %H:%M:%S %Z', time.localtime(t))"
      ],
      "execution_count": 12,
      "outputs": [
        {
          "output_type": "execute_result",
          "data": {
            "application/vnd.google.colaboratory.intrinsic+json": {
              "type": "string"
            },
            "text/plain": [
              "'2021-05-19 11:02:28 UTC'"
            ]
          },
          "metadata": {
            "tags": []
          },
          "execution_count": 12
        }
      ]
    }
  ]
}