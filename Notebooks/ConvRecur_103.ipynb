{
  "nbformat": 4,
  "nbformat_minor": 0,
  "metadata": {
    "accelerator": "GPU",
    "colab": {
      "name": "ConvRecur_103.ipynb",
      "provenance": [],
      "collapsed_sections": []
    },
    "kernelspec": {
      "display_name": "Python 3",
      "language": "python",
      "name": "python3"
    },
    "language_info": {
      "codemirror_mode": {
        "name": "ipython",
        "version": 3
      },
      "file_extension": ".py",
      "mimetype": "text/x-python",
      "name": "python",
      "nbconvert_exporter": "python",
      "pygments_lexer": "ipython3",
      "version": "3.8.3"
    }
  },
  "cells": [
    {
      "cell_type": "markdown",
      "metadata": {
        "id": "0asdcdunj2Tx"
      },
      "source": [
        "# ORF recognition by Convolutional/Recurrent\n",
        "\n",
        "Start with ORF_CNN_118 and add an LSTM layer."
      ]
    },
    {
      "cell_type": "code",
      "metadata": {
        "colab": {
          "base_uri": "https://localhost:8080/",
          "height": 36
        },
        "id": "QP1VTRNQj2UO",
        "outputId": "444355fc-ad17-433a-ce76-f792ccd1ecc9"
      },
      "source": [
        "import time \n",
        "t = time.time()\n",
        "time.strftime('%Y-%m-%d %H:%M:%S %Z', time.localtime(t))"
      ],
      "execution_count": 12,
      "outputs": [
        {
          "output_type": "execute_result",
          "data": {
            "application/vnd.google.colaboratory.intrinsic+json": {
              "type": "string"
            },
            "text/plain": [
              "'2021-06-17 18:32:29 UTC'"
            ]
          },
          "metadata": {
            "tags": []
          },
          "execution_count": 12
        }
      ]
    },
    {
      "cell_type": "code",
      "metadata": {
        "id": "Nhz4GKonj2T_"
      },
      "source": [
        "PC_SEQUENCES=32000   # how many protein-coding sequences\n",
        "NC_SEQUENCES=32000   # how many non-coding sequences\n",
        "PC_TESTS=1000\n",
        "NC_TESTS=1000\n",
        "RNA_LEN=100            # how long is each sequence\n",
        "CDS_LEN=60            # min CDS len to be coding\n",
        "ALPHABET=4          # how many different letters are possible\n",
        "INPUT_SHAPE_2D = (RNA_LEN,ALPHABET,1) # Conv2D needs 3D inputs\n",
        "INPUT_SHAPE = (RNA_LEN,ALPHABET) # Conv1D needs 2D inputs\n",
        "FILTERS = 16   # how many different patterns the model looks for\n",
        "CELLS = 16\n",
        "NEURONS = 16\n",
        "DROP_RATE = 0.4\n",
        "WIDTH = 3   # how wide each pattern is, in bases\n",
        "STRIDE_2D = (1,1)  # For Conv2D how far in each direction\n",
        "STRIDE = 1 # For Conv1D, how far between pattern matches, in bases\n",
        "EPOCHS=100  # how many times to train on all the data\n",
        "SPLITS=3  # SPLITS=3 means train on 2/3 and validate on 1/3 \n",
        "FOLDS=3  # train the model this many times (range 1 to SPLITS)"
      ],
      "execution_count": 13,
      "outputs": []
    },
    {
      "cell_type": "code",
      "metadata": {
        "colab": {
          "base_uri": "https://localhost:8080/"
        },
        "id": "lr7q90rxj2UE",
        "outputId": "cd29ebd5-2b6a-4a87-d859-18f685b33a4e"
      },
      "source": [
        "import sys\n",
        "try:\n",
        "    from google.colab import drive\n",
        "    IN_COLAB = True\n",
        "    print(\"On Google CoLab, mount cloud-local file, get our code from GitHub.\")\n",
        "    PATH='/content/drive/'\n",
        "    #drive.mount(PATH,force_remount=True)  # hardly ever need this\n",
        "    #drive.mount(PATH)    # Google will require login credentials\n",
        "    DATAPATH=PATH+'My Drive/data/'  # must end in \"/\"\n",
        "    import requests\n",
        "    r = requests.get('https://raw.githubusercontent.com/ShepherdCode/Soars2021/master/SimTools/RNA_gen.py')\n",
        "    with open('RNA_gen.py', 'w') as f:\n",
        "        f.write(r.text)  \n",
        "    from RNA_gen import *\n",
        "    r = requests.get('https://raw.githubusercontent.com/ShepherdCode/Soars2021/master/SimTools/RNA_describe.py')\n",
        "    with open('RNA_describe.py', 'w') as f:\n",
        "        f.write(r.text)  \n",
        "    from RNA_describe import ORF_counter\n",
        "    r = requests.get('https://raw.githubusercontent.com/ShepherdCode/Soars2021/master/SimTools/RNA_prep.py')\n",
        "    with open('RNA_prep.py', 'w') as f:\n",
        "        f.write(r.text)  \n",
        "    from RNA_prep import *\n",
        "except:\n",
        "    print(\"CoLab not working. On my PC, use relative paths.\")\n",
        "    IN_COLAB = False\n",
        "    DATAPATH='data/'  # must end in \"/\"\n",
        "    sys.path.append(\"..\") # append parent dir in order to use sibling dirs\n",
        "    from SimTools.RNA_gen import *\n",
        "    from SimTools.RNA_describe import ORF_counter\n",
        "    from SimTools.RNA_prep import *\n",
        "\n",
        "MODELPATH=\"BestModel\"  # saved on cloud instance and lost after logout\n",
        "#MODELPATH=DATAPATH+MODELPATH  # saved on Google Drive but requires login\n",
        "\n",
        "if not assert_imported_RNA_gen():\n",
        "    print(\"ERROR: Cannot use RNA_gen.\")\n",
        "if not assert_imported_RNA_prep():\n",
        "    print(\"ERROR: Cannot use RNA_prep.\")"
      ],
      "execution_count": 14,
      "outputs": [
        {
          "output_type": "stream",
          "text": [
            "On Google CoLab, mount cloud-local file, get our code from GitHub.\n"
          ],
          "name": "stdout"
        }
      ]
    },
    {
      "cell_type": "code",
      "metadata": {
        "id": "EGDXH8Uwj2UM"
      },
      "source": [
        "from os import listdir\n",
        "import csv\n",
        "from zipfile import ZipFile\n",
        "\n",
        "import numpy as np\n",
        "import pandas as pd\n",
        "from scipy import stats  # mode\n",
        "\n",
        "from sklearn.preprocessing import StandardScaler\n",
        "from sklearn.model_selection import KFold\n",
        "from sklearn.model_selection import cross_val_score\n",
        "\n",
        "from keras.models import Sequential\n",
        "from keras.layers import Dense,Embedding,Dropout\n",
        "from keras.layers import Conv1D,Conv2D\n",
        "from keras.layers import GRU,LSTM\n",
        "from keras.layers import Flatten,TimeDistributed\n",
        "from keras.layers import MaxPooling1D,MaxPooling2D\n",
        "from keras.losses import BinaryCrossentropy\n",
        "# tf.keras.losses.BinaryCrossentropy\n",
        "\n",
        "import matplotlib.pyplot as plt\n",
        "from matplotlib import colors\n",
        "mycmap = colors.ListedColormap(['red','blue'])  # list color for label 0 then 1\n",
        "np.set_printoptions(precision=2)\n"
      ],
      "execution_count": 15,
      "outputs": []
    },
    {
      "cell_type": "code",
      "metadata": {
        "colab": {
          "base_uri": "https://localhost:8080/"
        },
        "id": "CUOG_jEvGtOm",
        "outputId": "e01b02bc-4f6f-4771-d5d8-a00ccbbf9fab"
      },
      "source": [
        "import random\n",
        "def partition_random_sequences(goal_per_class):\n",
        "    pc_seqs=[]\n",
        "    nc_seqs=[]\n",
        "    oc = ORF_counter()\n",
        "    trials = 0\n",
        "    pc_cnt = 0\n",
        "    nc_cnt = 0\n",
        "    bases=['A','C','G','T']\n",
        "    while pc_cnt<goal_per_class or nc_cnt<goal_per_class:\n",
        "        trials += 1        \n",
        "        between_bases = random.randint(0,RNA_LEN-6) \n",
        "        utr5_bases = (RNA_LEN - (between_bases + 6)) // 2\n",
        "        utr3_bases = RNA_LEN - (utr5_bases + (between_bases+6))\n",
        "        one_seq  = \"\".join(random.choices(bases,k=utr5_bases)) \n",
        "        one_seq += 'ATG'    \n",
        "        one_seq += \"\".join(random.choices(bases,k=between_bases)) \n",
        "        random_stop = random.choice(['TAA','TAG','TGA']) # random frame\n",
        "        one_seq += random_stop\n",
        "        one_seq += \"\".join(random.choices(bases,k=utr3_bases))  \n",
        "        if len(one_seq) != RNA_LEN:\n",
        "            print(\"WRONG LENGTH:\",len(one_seq),utr5_bases,between_bases,utr3_bases)\n",
        "        oc.set_sequence(one_seq)\n",
        "        cds_len = oc.get_max_cds_len() + 3\n",
        "        if cds_len >= CDS_LEN and pc_cnt<goal_per_class:\n",
        "            pc_cnt += 1\n",
        "            pc_seqs.append(one_seq)\n",
        "        elif cds_len < CDS_LEN and nc_cnt<goal_per_class:\n",
        "            nc_cnt += 1\n",
        "            nc_seqs.append(one_seq)\n",
        "    print (\"It took %d trials to reach %d per class.\"%(trials,goal_per_class))\n",
        "    return pc_seqs,nc_seqs\n",
        "pc_all,nc_all=partition_random_sequences(10)  # just testing\n",
        "pc_all,nc_all=partition_random_sequences(PC_SEQUENCES+PC_TESTS)\n",
        "print(\"Use\",len(pc_all),\"PC seqs\")\n",
        "print(\"Use\",len(nc_all),\"NC seqs\")"
      ],
      "execution_count": 16,
      "outputs": [
        {
          "output_type": "stream",
          "text": [
            "It took 48 trials to reach 10 per class.\n",
            "It took 158005 trials to reach 33000 per class.\n",
            "Use 33000 PC seqs\n",
            "Use 33000 NC seqs\n"
          ],
          "name": "stdout"
        }
      ]
    },
    {
      "cell_type": "code",
      "metadata": {
        "colab": {
          "base_uri": "https://localhost:8080/"
        },
        "id": "Q-BmSXi2jUyl",
        "outputId": "637eb524-9837-433b-fa19-a77f5469085f"
      },
      "source": [
        "# Describe the sequences\n",
        "def describe_sequences(list_of_seq):\n",
        "    oc = ORF_counter()\n",
        "    num_seq = len(list_of_seq)\n",
        "    rna_lens = np.zeros(num_seq)\n",
        "    orf_lens = np.zeros(num_seq)\n",
        "    for i in range(0,num_seq):\n",
        "        rna_len = len(list_of_seq[i])\n",
        "        rna_lens[i] = rna_len\n",
        "        oc.set_sequence(list_of_seq[i])\n",
        "        orf_len = oc.get_max_orf_len()\n",
        "        orf_lens[i] = orf_len\n",
        "    print (\"Average RNA length:\",rna_lens.mean())\n",
        "    print (\"Average ORF length:\",orf_lens.mean())\n",
        "    \n",
        "print(\"Simulated sequences prior to adjustment:\")\n",
        "print(\"PC seqs\")\n",
        "describe_sequences(pc_all)\n",
        "print(\"NC seqs\")\n",
        "describe_sequences(nc_all)"
      ],
      "execution_count": 17,
      "outputs": [
        {
          "output_type": "stream",
          "text": [
            "Simulated sequences prior to adjustment:\n",
            "PC seqs\n",
            "Average RNA length: 100.0\n",
            "Average ORF length: 67.63409090909092\n",
            "NC seqs\n",
            "Average RNA length: 100.0\n",
            "Average ORF length: 22.246545454545455\n"
          ],
          "name": "stdout"
        }
      ]
    },
    {
      "cell_type": "code",
      "metadata": {
        "id": "iP1y7-J3jUys"
      },
      "source": [
        "pc_train=pc_all[:PC_SEQUENCES]\n",
        "nc_train=nc_all[:NC_SEQUENCES]\n",
        "pc_test=pc_all[PC_SEQUENCES:]\n",
        "nc_test=nc_all[NC_SEQUENCES:]"
      ],
      "execution_count": 18,
      "outputs": []
    },
    {
      "cell_type": "code",
      "metadata": {
        "colab": {
          "base_uri": "https://localhost:8080/"
        },
        "id": "CIpTrnH6j2US",
        "outputId": "25649ff9-52a7-42c8-9c50-526b1f3214b1"
      },
      "source": [
        "# Use code from our SimTools library.\n",
        "X,y = prepare_inputs_len_x_alphabet(pc_train,nc_train,ALPHABET) # shuffles\n",
        "print(\"Data ready.\")"
      ],
      "execution_count": 19,
      "outputs": [
        {
          "output_type": "stream",
          "text": [
            "Data ready.\n"
          ],
          "name": "stdout"
        }
      ]
    },
    {
      "cell_type": "code",
      "metadata": {
        "colab": {
          "base_uri": "https://localhost:8080/"
        },
        "id": "7NvrVU8ij2UU",
        "outputId": "b2138843-b714-44cc-be4d-5a3caba3a557"
      },
      "source": [
        "def make_DNN():\n",
        "    print(\"make_DNN\")\n",
        "    print(\"input shape:\",INPUT_SHAPE)\n",
        "    dnn = Sequential()\n",
        "    #dnn.add(Embedding(input_dim=INPUT_SHAPE,output_dim=INPUT_SHAPE)) \n",
        "    dnn.add(Conv1D(filters=FILTERS,kernel_size=WIDTH,strides=STRIDE,padding=\"same\",\n",
        "            input_shape=INPUT_SHAPE))\n",
        "    dnn.add(Conv1D(filters=FILTERS,kernel_size=WIDTH,strides=STRIDE,padding=\"same\"))\n",
        "    dnn.add(MaxPooling1D())\n",
        "    #dnn.add(Conv1D(filters=FILTERS,kernel_size=WIDTH,strides=STRIDE,padding=\"same\"))\n",
        "    #dnn.add(Conv1D(filters=FILTERS,kernel_size=WIDTH,strides=STRIDE,padding=\"same\"))\n",
        "    #dnn.add(MaxPooling1D())\n",
        "    #dnn.add(TimeDistributed(Flatten()))\n",
        "    dnn.add(LSTM(CELLS,return_sequences=True))\n",
        "    dnn.add(LSTM(CELLS,return_sequences=False))\n",
        "    dnn.add(Dense(NEURONS,activation=\"sigmoid\",dtype=np.float32))   \n",
        "    dnn.add(Dropout(DROP_RATE))\n",
        "    dnn.add(Dense(1,activation=\"sigmoid\",dtype=np.float32))   \n",
        "    dnn.compile(optimizer='adam',\n",
        "                loss=BinaryCrossentropy(from_logits=False),\n",
        "                metrics=['accuracy'])   # add to default metrics=loss\n",
        "    dnn.build(input_shape=INPUT_SHAPE)\n",
        "    #ln_rate = tf.keras.optimizers.Adam(learning_rate = LN_RATE)\n",
        "    #bc=tf.keras.losses.BinaryCrossentropy(from_logits=False)\n",
        "    #model.compile(loss=bc, optimizer=ln_rate, metrics=[\"accuracy\"])\n",
        "    return dnn\n",
        "model = make_DNN()\n",
        "print(model.summary())"
      ],
      "execution_count": 20,
      "outputs": [
        {
          "output_type": "stream",
          "text": [
            "make_DNN\n",
            "input shape: (100, 4)\n",
            "Model: \"sequential_4\"\n",
            "_________________________________________________________________\n",
            "Layer (type)                 Output Shape              Param #   \n",
            "=================================================================\n",
            "conv1d_8 (Conv1D)            (None, 100, 16)           208       \n",
            "_________________________________________________________________\n",
            "conv1d_9 (Conv1D)            (None, 100, 16)           784       \n",
            "_________________________________________________________________\n",
            "max_pooling1d_4 (MaxPooling1 (None, 50, 16)            0         \n",
            "_________________________________________________________________\n",
            "lstm_8 (LSTM)                (None, 50, 16)            2112      \n",
            "_________________________________________________________________\n",
            "lstm_9 (LSTM)                (None, 16)                2112      \n",
            "_________________________________________________________________\n",
            "dense_8 (Dense)              (None, 16)                272       \n",
            "_________________________________________________________________\n",
            "dropout_4 (Dropout)          (None, 16)                0         \n",
            "_________________________________________________________________\n",
            "dense_9 (Dense)              (None, 1)                 17        \n",
            "=================================================================\n",
            "Total params: 5,505\n",
            "Trainable params: 5,505\n",
            "Non-trainable params: 0\n",
            "_________________________________________________________________\n",
            "None\n"
          ],
          "name": "stdout"
        }
      ]
    },
    {
      "cell_type": "code",
      "metadata": {
        "id": "nlVF0hR3j2UW"
      },
      "source": [
        "from keras.callbacks import ModelCheckpoint\n",
        "def do_cross_validation(X,y):\n",
        "    cv_scores = []\n",
        "    fold=0\n",
        "    mycallbacks = [ModelCheckpoint(\n",
        "        filepath=MODELPATH, save_best_only=True, \n",
        "        monitor='val_accuracy', mode='max')]   \n",
        "    splitter = KFold(n_splits=SPLITS)  # this does not shuffle\n",
        "    for train_index,valid_index in splitter.split(X):\n",
        "        if fold < FOLDS:\n",
        "            fold += 1\n",
        "            X_train=X[train_index] # inputs for training\n",
        "            y_train=y[train_index] # labels for training\n",
        "            X_valid=X[valid_index] # inputs for validation\n",
        "            y_valid=y[valid_index] # labels for validation\n",
        "            print(\"MODEL\")\n",
        "            # Call constructor on each CV. Else, continually improves the same model.\n",
        "            model = model = make_DNN()\n",
        "            print(\"FIT\")  # model.fit() implements learning\n",
        "            start_time=time.time()\n",
        "            history=model.fit(X_train, y_train, \n",
        "                    epochs=EPOCHS, \n",
        "                    verbose=1,  # ascii art while learning\n",
        "                    callbacks=mycallbacks,   # called at end of each epoch\n",
        "                    validation_data=(X_valid,y_valid))\n",
        "            end_time=time.time()\n",
        "            elapsed_time=(end_time-start_time)                        \n",
        "            print(\"Fold %d, %d epochs, %d sec\"%(fold,EPOCHS,elapsed_time))\n",
        "            # print(history.history.keys())  # all these keys will be shown in figure\n",
        "            pd.DataFrame(history.history).plot(figsize=(8,5))\n",
        "            plt.grid(True)\n",
        "            plt.gca().set_ylim(0,1) # any losses > 1 will be off the scale\n",
        "            plt.show()\n"
      ],
      "execution_count": 21,
      "outputs": []
    },
    {
      "cell_type": "code",
      "metadata": {
        "colab": {
          "base_uri": "https://localhost:8080/",
          "height": 1000
        },
        "id": "9Ggt4EsSj2UY",
        "outputId": "ecc2c41b-f3ab-4dfd-9702-58ce86b5b59b"
      },
      "source": [
        "do_cross_validation(X,y)"
      ],
      "execution_count": 22,
      "outputs": [
        {
          "output_type": "stream",
          "text": [
            "MODEL\n",
            "make_DNN\n",
            "input shape: (100, 4)\n",
            "FIT\n",
            "Epoch 1/100\n",
            "1334/1334 [==============================] - 16s 10ms/step - loss: 0.7013 - accuracy: 0.5285 - val_loss: 0.6591 - val_accuracy: 0.6055\n"
          ],
          "name": "stdout"
        },
        {
          "output_type": "stream",
          "text": [
            "WARNING:absl:Found untraced functions such as lstm_cell_10_layer_call_and_return_conditional_losses, lstm_cell_10_layer_call_fn, lstm_cell_11_layer_call_and_return_conditional_losses, lstm_cell_11_layer_call_fn, lstm_cell_10_layer_call_fn while saving (showing 5 of 10). These functions will not be directly callable after loading.\n"
          ],
          "name": "stderr"
        },
        {
          "output_type": "stream",
          "text": [
            "INFO:tensorflow:Assets written to: BestModel/assets\n"
          ],
          "name": "stdout"
        },
        {
          "output_type": "stream",
          "text": [
            "INFO:tensorflow:Assets written to: BestModel/assets\n"
          ],
          "name": "stderr"
        },
        {
          "output_type": "stream",
          "text": [
            "Epoch 2/100\n",
            "1334/1334 [==============================] - 12s 9ms/step - loss: 0.6479 - accuracy: 0.6279 - val_loss: 0.6275 - val_accuracy: 0.6438\n"
          ],
          "name": "stdout"
        },
        {
          "output_type": "stream",
          "text": [
            "WARNING:absl:Found untraced functions such as lstm_cell_10_layer_call_and_return_conditional_losses, lstm_cell_10_layer_call_fn, lstm_cell_11_layer_call_and_return_conditional_losses, lstm_cell_11_layer_call_fn, lstm_cell_10_layer_call_fn while saving (showing 5 of 10). These functions will not be directly callable after loading.\n"
          ],
          "name": "stderr"
        },
        {
          "output_type": "stream",
          "text": [
            "INFO:tensorflow:Assets written to: BestModel/assets\n"
          ],
          "name": "stdout"
        },
        {
          "output_type": "stream",
          "text": [
            "INFO:tensorflow:Assets written to: BestModel/assets\n"
          ],
          "name": "stderr"
        },
        {
          "output_type": "stream",
          "text": [
            "Epoch 3/100\n",
            "1334/1334 [==============================] - 12s 9ms/step - loss: 0.6176 - accuracy: 0.6584 - val_loss: 0.6069 - val_accuracy: 0.6643\n"
          ],
          "name": "stdout"
        },
        {
          "output_type": "stream",
          "text": [
            "WARNING:absl:Found untraced functions such as lstm_cell_10_layer_call_and_return_conditional_losses, lstm_cell_10_layer_call_fn, lstm_cell_11_layer_call_and_return_conditional_losses, lstm_cell_11_layer_call_fn, lstm_cell_10_layer_call_fn while saving (showing 5 of 10). These functions will not be directly callable after loading.\n"
          ],
          "name": "stderr"
        },
        {
          "output_type": "stream",
          "text": [
            "INFO:tensorflow:Assets written to: BestModel/assets\n"
          ],
          "name": "stdout"
        },
        {
          "output_type": "stream",
          "text": [
            "INFO:tensorflow:Assets written to: BestModel/assets\n"
          ],
          "name": "stderr"
        },
        {
          "output_type": "stream",
          "text": [
            "Epoch 4/100\n",
            "1334/1334 [==============================] - 12s 9ms/step - loss: 0.6004 - accuracy: 0.6761 - val_loss: 0.5721 - val_accuracy: 0.6919\n"
          ],
          "name": "stdout"
        },
        {
          "output_type": "stream",
          "text": [
            "WARNING:absl:Found untraced functions such as lstm_cell_10_layer_call_and_return_conditional_losses, lstm_cell_10_layer_call_fn, lstm_cell_11_layer_call_and_return_conditional_losses, lstm_cell_11_layer_call_fn, lstm_cell_10_layer_call_fn while saving (showing 5 of 10). These functions will not be directly callable after loading.\n"
          ],
          "name": "stderr"
        },
        {
          "output_type": "stream",
          "text": [
            "INFO:tensorflow:Assets written to: BestModel/assets\n"
          ],
          "name": "stdout"
        },
        {
          "output_type": "stream",
          "text": [
            "INFO:tensorflow:Assets written to: BestModel/assets\n"
          ],
          "name": "stderr"
        },
        {
          "output_type": "stream",
          "text": [
            "Epoch 5/100\n",
            "1334/1334 [==============================] - 12s 9ms/step - loss: 0.5757 - accuracy: 0.6954 - val_loss: 0.5671 - val_accuracy: 0.6973\n"
          ],
          "name": "stdout"
        },
        {
          "output_type": "stream",
          "text": [
            "WARNING:absl:Found untraced functions such as lstm_cell_10_layer_call_and_return_conditional_losses, lstm_cell_10_layer_call_fn, lstm_cell_11_layer_call_and_return_conditional_losses, lstm_cell_11_layer_call_fn, lstm_cell_10_layer_call_fn while saving (showing 5 of 10). These functions will not be directly callable after loading.\n"
          ],
          "name": "stderr"
        },
        {
          "output_type": "stream",
          "text": [
            "INFO:tensorflow:Assets written to: BestModel/assets\n"
          ],
          "name": "stdout"
        },
        {
          "output_type": "stream",
          "text": [
            "INFO:tensorflow:Assets written to: BestModel/assets\n"
          ],
          "name": "stderr"
        },
        {
          "output_type": "stream",
          "text": [
            "Epoch 6/100\n",
            "1334/1334 [==============================] - 12s 9ms/step - loss: 0.5642 - accuracy: 0.6993 - val_loss: 0.5416 - val_accuracy: 0.7087\n"
          ],
          "name": "stdout"
        },
        {
          "output_type": "stream",
          "text": [
            "WARNING:absl:Found untraced functions such as lstm_cell_10_layer_call_and_return_conditional_losses, lstm_cell_10_layer_call_fn, lstm_cell_11_layer_call_and_return_conditional_losses, lstm_cell_11_layer_call_fn, lstm_cell_10_layer_call_fn while saving (showing 5 of 10). These functions will not be directly callable after loading.\n"
          ],
          "name": "stderr"
        },
        {
          "output_type": "stream",
          "text": [
            "INFO:tensorflow:Assets written to: BestModel/assets\n"
          ],
          "name": "stdout"
        },
        {
          "output_type": "stream",
          "text": [
            "INFO:tensorflow:Assets written to: BestModel/assets\n"
          ],
          "name": "stderr"
        },
        {
          "output_type": "stream",
          "text": [
            "Epoch 7/100\n",
            "1334/1334 [==============================] - 12s 9ms/step - loss: 0.5462 - accuracy: 0.7098 - val_loss: 0.5331 - val_accuracy: 0.7147\n"
          ],
          "name": "stdout"
        },
        {
          "output_type": "stream",
          "text": [
            "WARNING:absl:Found untraced functions such as lstm_cell_10_layer_call_and_return_conditional_losses, lstm_cell_10_layer_call_fn, lstm_cell_11_layer_call_and_return_conditional_losses, lstm_cell_11_layer_call_fn, lstm_cell_10_layer_call_fn while saving (showing 5 of 10). These functions will not be directly callable after loading.\n"
          ],
          "name": "stderr"
        },
        {
          "output_type": "stream",
          "text": [
            "INFO:tensorflow:Assets written to: BestModel/assets\n"
          ],
          "name": "stdout"
        },
        {
          "output_type": "stream",
          "text": [
            "INFO:tensorflow:Assets written to: BestModel/assets\n"
          ],
          "name": "stderr"
        },
        {
          "output_type": "stream",
          "text": [
            "Epoch 8/100\n",
            "1334/1334 [==============================] - 12s 9ms/step - loss: 0.5395 - accuracy: 0.7135 - val_loss: 0.5417 - val_accuracy: 0.7067\n",
            "Epoch 9/100\n",
            "1334/1334 [==============================] - 12s 9ms/step - loss: 0.5395 - accuracy: 0.7123 - val_loss: 0.5263 - val_accuracy: 0.7171\n"
          ],
          "name": "stdout"
        },
        {
          "output_type": "stream",
          "text": [
            "WARNING:absl:Found untraced functions such as lstm_cell_10_layer_call_and_return_conditional_losses, lstm_cell_10_layer_call_fn, lstm_cell_11_layer_call_and_return_conditional_losses, lstm_cell_11_layer_call_fn, lstm_cell_10_layer_call_fn while saving (showing 5 of 10). These functions will not be directly callable after loading.\n"
          ],
          "name": "stderr"
        },
        {
          "output_type": "stream",
          "text": [
            "INFO:tensorflow:Assets written to: BestModel/assets\n"
          ],
          "name": "stdout"
        },
        {
          "output_type": "stream",
          "text": [
            "INFO:tensorflow:Assets written to: BestModel/assets\n"
          ],
          "name": "stderr"
        },
        {
          "output_type": "stream",
          "text": [
            "Epoch 10/100\n",
            "1334/1334 [==============================] - 12s 9ms/step - loss: 0.5342 - accuracy: 0.7175 - val_loss: 0.5290 - val_accuracy: 0.7137\n",
            "Epoch 11/100\n",
            "1334/1334 [==============================] - 12s 9ms/step - loss: 0.5355 - accuracy: 0.7136 - val_loss: 0.5269 - val_accuracy: 0.7153\n",
            "Epoch 12/100\n",
            "1334/1334 [==============================] - 12s 9ms/step - loss: 0.5298 - accuracy: 0.7208 - val_loss: 0.5505 - val_accuracy: 0.7048\n",
            "Epoch 13/100\n",
            "1334/1334 [==============================] - 12s 9ms/step - loss: 0.5348 - accuracy: 0.7163 - val_loss: 0.5228 - val_accuracy: 0.7181\n"
          ],
          "name": "stdout"
        },
        {
          "output_type": "stream",
          "text": [
            "WARNING:absl:Found untraced functions such as lstm_cell_10_layer_call_and_return_conditional_losses, lstm_cell_10_layer_call_fn, lstm_cell_11_layer_call_and_return_conditional_losses, lstm_cell_11_layer_call_fn, lstm_cell_10_layer_call_fn while saving (showing 5 of 10). These functions will not be directly callable after loading.\n"
          ],
          "name": "stderr"
        },
        {
          "output_type": "stream",
          "text": [
            "INFO:tensorflow:Assets written to: BestModel/assets\n"
          ],
          "name": "stdout"
        },
        {
          "output_type": "stream",
          "text": [
            "INFO:tensorflow:Assets written to: BestModel/assets\n"
          ],
          "name": "stderr"
        },
        {
          "output_type": "stream",
          "text": [
            "Epoch 14/100\n",
            "1334/1334 [==============================] - 12s 9ms/step - loss: 0.5294 - accuracy: 0.7173 - val_loss: 0.5259 - val_accuracy: 0.7147\n",
            "Epoch 15/100\n",
            "1334/1334 [==============================] - 12s 9ms/step - loss: 0.5288 - accuracy: 0.7154 - val_loss: 0.5252 - val_accuracy: 0.7172\n",
            "Epoch 16/100\n",
            "1334/1334 [==============================] - 12s 9ms/step - loss: 0.5265 - accuracy: 0.7202 - val_loss: 0.5899 - val_accuracy: 0.6752\n",
            "Epoch 17/100\n",
            "1334/1334 [==============================] - 12s 9ms/step - loss: 0.5406 - accuracy: 0.7135 - val_loss: 0.5465 - val_accuracy: 0.6962\n",
            "Epoch 18/100\n",
            "1334/1334 [==============================] - 12s 9ms/step - loss: 0.5243 - accuracy: 0.7189 - val_loss: 0.5203 - val_accuracy: 0.7186\n"
          ],
          "name": "stdout"
        },
        {
          "output_type": "stream",
          "text": [
            "WARNING:absl:Found untraced functions such as lstm_cell_10_layer_call_and_return_conditional_losses, lstm_cell_10_layer_call_fn, lstm_cell_11_layer_call_and_return_conditional_losses, lstm_cell_11_layer_call_fn, lstm_cell_10_layer_call_fn while saving (showing 5 of 10). These functions will not be directly callable after loading.\n"
          ],
          "name": "stderr"
        },
        {
          "output_type": "stream",
          "text": [
            "INFO:tensorflow:Assets written to: BestModel/assets\n"
          ],
          "name": "stdout"
        },
        {
          "output_type": "stream",
          "text": [
            "INFO:tensorflow:Assets written to: BestModel/assets\n"
          ],
          "name": "stderr"
        },
        {
          "output_type": "stream",
          "text": [
            "Epoch 19/100\n",
            "1334/1334 [==============================] - 12s 9ms/step - loss: 0.5190 - accuracy: 0.7225 - val_loss: 0.5303 - val_accuracy: 0.7167\n",
            "Epoch 20/100\n",
            "1334/1334 [==============================] - 12s 9ms/step - loss: 0.5282 - accuracy: 0.7193 - val_loss: 0.5195 - val_accuracy: 0.7174\n",
            "Epoch 21/100\n",
            "1334/1334 [==============================] - 12s 9ms/step - loss: 0.5289 - accuracy: 0.7205 - val_loss: 0.5336 - val_accuracy: 0.7124\n",
            "Epoch 22/100\n",
            "1334/1334 [==============================] - 12s 9ms/step - loss: 0.5205 - accuracy: 0.7246 - val_loss: 0.5193 - val_accuracy: 0.7152\n",
            "Epoch 23/100\n",
            "1334/1334 [==============================] - 12s 9ms/step - loss: 0.5210 - accuracy: 0.7243 - val_loss: 0.5172 - val_accuracy: 0.7210\n"
          ],
          "name": "stdout"
        },
        {
          "output_type": "stream",
          "text": [
            "WARNING:absl:Found untraced functions such as lstm_cell_10_layer_call_and_return_conditional_losses, lstm_cell_10_layer_call_fn, lstm_cell_11_layer_call_and_return_conditional_losses, lstm_cell_11_layer_call_fn, lstm_cell_10_layer_call_fn while saving (showing 5 of 10). These functions will not be directly callable after loading.\n"
          ],
          "name": "stderr"
        },
        {
          "output_type": "stream",
          "text": [
            "INFO:tensorflow:Assets written to: BestModel/assets\n"
          ],
          "name": "stdout"
        },
        {
          "output_type": "stream",
          "text": [
            "INFO:tensorflow:Assets written to: BestModel/assets\n"
          ],
          "name": "stderr"
        },
        {
          "output_type": "stream",
          "text": [
            "Epoch 24/100\n",
            "1334/1334 [==============================] - 12s 9ms/step - loss: 0.5164 - accuracy: 0.7250 - val_loss: 0.5187 - val_accuracy: 0.7186\n",
            "Epoch 25/100\n",
            "1334/1334 [==============================] - 12s 9ms/step - loss: 0.5303 - accuracy: 0.7180 - val_loss: 0.5232 - val_accuracy: 0.7173\n",
            "Epoch 26/100\n",
            "1334/1334 [==============================] - 12s 9ms/step - loss: 0.5220 - accuracy: 0.7217 - val_loss: 0.5293 - val_accuracy: 0.7188\n",
            "Epoch 27/100\n",
            "1334/1334 [==============================] - 12s 9ms/step - loss: 0.5149 - accuracy: 0.7258 - val_loss: 0.5205 - val_accuracy: 0.7175\n",
            "Epoch 28/100\n",
            "1334/1334 [==============================] - 12s 9ms/step - loss: 0.5207 - accuracy: 0.7223 - val_loss: 0.5187 - val_accuracy: 0.7171\n",
            "Epoch 29/100\n",
            "1334/1334 [==============================] - 12s 9ms/step - loss: 0.5102 - accuracy: 0.7308 - val_loss: 0.5135 - val_accuracy: 0.7197\n",
            "Epoch 30/100\n",
            "1334/1334 [==============================] - 12s 9ms/step - loss: 0.5096 - accuracy: 0.7278 - val_loss: 0.5350 - val_accuracy: 0.7176\n",
            "Epoch 31/100\n",
            "1334/1334 [==============================] - 12s 9ms/step - loss: 0.5138 - accuracy: 0.7264 - val_loss: 0.5174 - val_accuracy: 0.7220\n"
          ],
          "name": "stdout"
        },
        {
          "output_type": "stream",
          "text": [
            "WARNING:absl:Found untraced functions such as lstm_cell_10_layer_call_and_return_conditional_losses, lstm_cell_10_layer_call_fn, lstm_cell_11_layer_call_and_return_conditional_losses, lstm_cell_11_layer_call_fn, lstm_cell_10_layer_call_fn while saving (showing 5 of 10). These functions will not be directly callable after loading.\n"
          ],
          "name": "stderr"
        },
        {
          "output_type": "stream",
          "text": [
            "INFO:tensorflow:Assets written to: BestModel/assets\n"
          ],
          "name": "stdout"
        },
        {
          "output_type": "stream",
          "text": [
            "INFO:tensorflow:Assets written to: BestModel/assets\n"
          ],
          "name": "stderr"
        },
        {
          "output_type": "stream",
          "text": [
            "Epoch 32/100\n",
            "1334/1334 [==============================] - 12s 9ms/step - loss: 0.5122 - accuracy: 0.7260 - val_loss: 0.5176 - val_accuracy: 0.7204\n",
            "Epoch 33/100\n",
            "1334/1334 [==============================] - 12s 9ms/step - loss: 0.5124 - accuracy: 0.7278 - val_loss: 0.5179 - val_accuracy: 0.7159\n",
            "Epoch 34/100\n",
            "1334/1334 [==============================] - 12s 9ms/step - loss: 0.5359 - accuracy: 0.7221 - val_loss: 0.5216 - val_accuracy: 0.7193\n",
            "Epoch 35/100\n",
            "1334/1334 [==============================] - 12s 9ms/step - loss: 0.5131 - accuracy: 0.7289 - val_loss: 0.5172 - val_accuracy: 0.7200\n",
            "Epoch 36/100\n",
            "1334/1334 [==============================] - 12s 9ms/step - loss: 0.5076 - accuracy: 0.7304 - val_loss: 0.5239 - val_accuracy: 0.7214\n",
            "Epoch 37/100\n",
            "1334/1334 [==============================] - 12s 9ms/step - loss: 0.5569 - accuracy: 0.6853 - val_loss: 0.6138 - val_accuracy: 0.6474\n",
            "Epoch 38/100\n",
            "1334/1334 [==============================] - 12s 9ms/step - loss: 0.5978 - accuracy: 0.6769 - val_loss: 0.5388 - val_accuracy: 0.7139\n",
            "Epoch 39/100\n",
            "1334/1334 [==============================] - 12s 9ms/step - loss: 0.5473 - accuracy: 0.7077 - val_loss: 0.5336 - val_accuracy: 0.7173\n",
            "Epoch 40/100\n",
            "1334/1334 [==============================] - 12s 9ms/step - loss: 0.5365 - accuracy: 0.7123 - val_loss: 0.5240 - val_accuracy: 0.7173\n",
            "Epoch 41/100\n",
            "1334/1334 [==============================] - 12s 9ms/step - loss: 0.5355 - accuracy: 0.7131 - val_loss: 0.5200 - val_accuracy: 0.7183\n",
            "Epoch 42/100\n",
            "1334/1334 [==============================] - 12s 9ms/step - loss: 0.5295 - accuracy: 0.7141 - val_loss: 0.5205 - val_accuracy: 0.7169\n",
            "Epoch 43/100\n",
            "1334/1334 [==============================] - 12s 9ms/step - loss: 0.5249 - accuracy: 0.7195 - val_loss: 0.5190 - val_accuracy: 0.7220\n",
            "Epoch 44/100\n",
            "1334/1334 [==============================] - 12s 9ms/step - loss: 0.5249 - accuracy: 0.7193 - val_loss: 0.5140 - val_accuracy: 0.7235\n"
          ],
          "name": "stdout"
        },
        {
          "output_type": "stream",
          "text": [
            "WARNING:absl:Found untraced functions such as lstm_cell_10_layer_call_and_return_conditional_losses, lstm_cell_10_layer_call_fn, lstm_cell_11_layer_call_and_return_conditional_losses, lstm_cell_11_layer_call_fn, lstm_cell_10_layer_call_fn while saving (showing 5 of 10). These functions will not be directly callable after loading.\n"
          ],
          "name": "stderr"
        },
        {
          "output_type": "stream",
          "text": [
            "INFO:tensorflow:Assets written to: BestModel/assets\n"
          ],
          "name": "stdout"
        },
        {
          "output_type": "stream",
          "text": [
            "INFO:tensorflow:Assets written to: BestModel/assets\n"
          ],
          "name": "stderr"
        },
        {
          "output_type": "stream",
          "text": [
            "Epoch 45/100\n",
            "1334/1334 [==============================] - 12s 9ms/step - loss: 0.5213 - accuracy: 0.7204 - val_loss: 0.5161 - val_accuracy: 0.7199\n",
            "Epoch 46/100\n",
            "1334/1334 [==============================] - 12s 9ms/step - loss: 0.5183 - accuracy: 0.7228 - val_loss: 0.5149 - val_accuracy: 0.7187\n",
            "Epoch 47/100\n",
            "1334/1334 [==============================] - 12s 9ms/step - loss: 0.5185 - accuracy: 0.7240 - val_loss: 0.5128 - val_accuracy: 0.7210\n",
            "Epoch 48/100\n",
            "1334/1334 [==============================] - 12s 9ms/step - loss: 0.5213 - accuracy: 0.7242 - val_loss: 0.5153 - val_accuracy: 0.7245\n"
          ],
          "name": "stdout"
        },
        {
          "output_type": "stream",
          "text": [
            "WARNING:absl:Found untraced functions such as lstm_cell_10_layer_call_and_return_conditional_losses, lstm_cell_10_layer_call_fn, lstm_cell_11_layer_call_and_return_conditional_losses, lstm_cell_11_layer_call_fn, lstm_cell_10_layer_call_fn while saving (showing 5 of 10). These functions will not be directly callable after loading.\n"
          ],
          "name": "stderr"
        },
        {
          "output_type": "stream",
          "text": [
            "INFO:tensorflow:Assets written to: BestModel/assets\n"
          ],
          "name": "stdout"
        },
        {
          "output_type": "stream",
          "text": [
            "INFO:tensorflow:Assets written to: BestModel/assets\n"
          ],
          "name": "stderr"
        },
        {
          "output_type": "stream",
          "text": [
            "Epoch 49/100\n",
            "1334/1334 [==============================] - 12s 9ms/step - loss: 0.5127 - accuracy: 0.7258 - val_loss: 0.5128 - val_accuracy: 0.7227\n",
            "Epoch 50/100\n",
            "1334/1334 [==============================] - 12s 9ms/step - loss: 0.5176 - accuracy: 0.7224 - val_loss: 0.5138 - val_accuracy: 0.7232\n",
            "Epoch 51/100\n",
            "1334/1334 [==============================] - 12s 9ms/step - loss: 0.5158 - accuracy: 0.7246 - val_loss: 0.5108 - val_accuracy: 0.7238\n",
            "Epoch 52/100\n",
            "1334/1334 [==============================] - 12s 9ms/step - loss: 0.5128 - accuracy: 0.7263 - val_loss: 0.5104 - val_accuracy: 0.7258\n"
          ],
          "name": "stdout"
        },
        {
          "output_type": "stream",
          "text": [
            "WARNING:absl:Found untraced functions such as lstm_cell_10_layer_call_and_return_conditional_losses, lstm_cell_10_layer_call_fn, lstm_cell_11_layer_call_and_return_conditional_losses, lstm_cell_11_layer_call_fn, lstm_cell_10_layer_call_fn while saving (showing 5 of 10). These functions will not be directly callable after loading.\n"
          ],
          "name": "stderr"
        },
        {
          "output_type": "stream",
          "text": [
            "INFO:tensorflow:Assets written to: BestModel/assets\n"
          ],
          "name": "stdout"
        },
        {
          "output_type": "stream",
          "text": [
            "INFO:tensorflow:Assets written to: BestModel/assets\n"
          ],
          "name": "stderr"
        },
        {
          "output_type": "stream",
          "text": [
            "Epoch 53/100\n",
            "1334/1334 [==============================] - 12s 9ms/step - loss: 0.5082 - accuracy: 0.7293 - val_loss: 0.5147 - val_accuracy: 0.7200\n",
            "Epoch 54/100\n",
            "1334/1334 [==============================] - 12s 9ms/step - loss: 0.5158 - accuracy: 0.7285 - val_loss: 0.5100 - val_accuracy: 0.7253\n",
            "Epoch 55/100\n",
            "1334/1334 [==============================] - 12s 9ms/step - loss: 0.5095 - accuracy: 0.7286 - val_loss: 0.5141 - val_accuracy: 0.7232\n",
            "Epoch 56/100\n",
            "1334/1334 [==============================] - 12s 9ms/step - loss: 0.5070 - accuracy: 0.7319 - val_loss: 0.5108 - val_accuracy: 0.7235\n",
            "Epoch 57/100\n",
            "1334/1334 [==============================] - 12s 9ms/step - loss: 0.5115 - accuracy: 0.7277 - val_loss: 0.5126 - val_accuracy: 0.7244\n",
            "Epoch 58/100\n",
            "1334/1334 [==============================] - 12s 9ms/step - loss: 0.5134 - accuracy: 0.7252 - val_loss: 0.5117 - val_accuracy: 0.7221\n",
            "Epoch 59/100\n",
            "1334/1334 [==============================] - 12s 9ms/step - loss: 0.5084 - accuracy: 0.7303 - val_loss: 0.5115 - val_accuracy: 0.7222\n",
            "Epoch 60/100\n",
            "1334/1334 [==============================] - 12s 9ms/step - loss: 0.5043 - accuracy: 0.7302 - val_loss: 0.5097 - val_accuracy: 0.7240\n",
            "Epoch 61/100\n",
            "1334/1334 [==============================] - 12s 9ms/step - loss: 0.5002 - accuracy: 0.7370 - val_loss: 0.5149 - val_accuracy: 0.7209\n",
            "Epoch 62/100\n",
            "1334/1334 [==============================] - 12s 9ms/step - loss: 0.5058 - accuracy: 0.7259 - val_loss: 0.5093 - val_accuracy: 0.7262\n"
          ],
          "name": "stdout"
        },
        {
          "output_type": "stream",
          "text": [
            "WARNING:absl:Found untraced functions such as lstm_cell_10_layer_call_and_return_conditional_losses, lstm_cell_10_layer_call_fn, lstm_cell_11_layer_call_and_return_conditional_losses, lstm_cell_11_layer_call_fn, lstm_cell_10_layer_call_fn while saving (showing 5 of 10). These functions will not be directly callable after loading.\n"
          ],
          "name": "stderr"
        },
        {
          "output_type": "stream",
          "text": [
            "INFO:tensorflow:Assets written to: BestModel/assets\n"
          ],
          "name": "stdout"
        },
        {
          "output_type": "stream",
          "text": [
            "INFO:tensorflow:Assets written to: BestModel/assets\n"
          ],
          "name": "stderr"
        },
        {
          "output_type": "stream",
          "text": [
            "Epoch 63/100\n",
            "1334/1334 [==============================] - 12s 9ms/step - loss: 0.5048 - accuracy: 0.7310 - val_loss: 0.5157 - val_accuracy: 0.7260\n",
            "Epoch 64/100\n",
            "1334/1334 [==============================] - 12s 9ms/step - loss: 0.5029 - accuracy: 0.7329 - val_loss: 0.5158 - val_accuracy: 0.7246\n",
            "Epoch 65/100\n",
            "1334/1334 [==============================] - 12s 9ms/step - loss: 0.5029 - accuracy: 0.7318 - val_loss: 0.5362 - val_accuracy: 0.7055\n",
            "Epoch 66/100\n",
            "1334/1334 [==============================] - 12s 9ms/step - loss: 0.5145 - accuracy: 0.7259 - val_loss: 0.5102 - val_accuracy: 0.7222\n",
            "Epoch 67/100\n",
            "1334/1334 [==============================] - 12s 9ms/step - loss: 0.4983 - accuracy: 0.7343 - val_loss: 0.5127 - val_accuracy: 0.7251\n",
            "Epoch 68/100\n",
            "1334/1334 [==============================] - 12s 9ms/step - loss: 0.5011 - accuracy: 0.7344 - val_loss: 0.5153 - val_accuracy: 0.7241\n",
            "Epoch 69/100\n",
            "1334/1334 [==============================] - 12s 9ms/step - loss: 0.5010 - accuracy: 0.7342 - val_loss: 0.5165 - val_accuracy: 0.7250\n",
            "Epoch 70/100\n",
            "1334/1334 [==============================] - 12s 9ms/step - loss: 0.5013 - accuracy: 0.7384 - val_loss: 0.5093 - val_accuracy: 0.7236\n",
            "Epoch 71/100\n",
            "1334/1334 [==============================] - 12s 9ms/step - loss: 0.4954 - accuracy: 0.7374 - val_loss: 0.5124 - val_accuracy: 0.7269\n"
          ],
          "name": "stdout"
        },
        {
          "output_type": "stream",
          "text": [
            "WARNING:absl:Found untraced functions such as lstm_cell_10_layer_call_and_return_conditional_losses, lstm_cell_10_layer_call_fn, lstm_cell_11_layer_call_and_return_conditional_losses, lstm_cell_11_layer_call_fn, lstm_cell_10_layer_call_fn while saving (showing 5 of 10). These functions will not be directly callable after loading.\n"
          ],
          "name": "stderr"
        },
        {
          "output_type": "stream",
          "text": [
            "INFO:tensorflow:Assets written to: BestModel/assets\n"
          ],
          "name": "stdout"
        },
        {
          "output_type": "stream",
          "text": [
            "INFO:tensorflow:Assets written to: BestModel/assets\n"
          ],
          "name": "stderr"
        },
        {
          "output_type": "stream",
          "text": [
            "Epoch 72/100\n",
            "1334/1334 [==============================] - 12s 9ms/step - loss: 0.4977 - accuracy: 0.7357 - val_loss: 0.5158 - val_accuracy: 0.7178\n",
            "Epoch 73/100\n",
            "1334/1334 [==============================] - 12s 9ms/step - loss: 0.4986 - accuracy: 0.7405 - val_loss: 0.5101 - val_accuracy: 0.7228\n",
            "Epoch 74/100\n",
            "1334/1334 [==============================] - 12s 9ms/step - loss: 0.4966 - accuracy: 0.7391 - val_loss: 0.5102 - val_accuracy: 0.7258\n",
            "Epoch 75/100\n",
            "1334/1334 [==============================] - 12s 9ms/step - loss: 0.4953 - accuracy: 0.7394 - val_loss: 0.5707 - val_accuracy: 0.6947\n",
            "Epoch 76/100\n",
            "1334/1334 [==============================] - 12s 9ms/step - loss: 0.5238 - accuracy: 0.7249 - val_loss: 0.5149 - val_accuracy: 0.7240\n",
            "Epoch 77/100\n",
            "1334/1334 [==============================] - 12s 9ms/step - loss: 0.5030 - accuracy: 0.7287 - val_loss: 0.5139 - val_accuracy: 0.7234\n",
            "Epoch 78/100\n",
            "1334/1334 [==============================] - 12s 9ms/step - loss: 0.5018 - accuracy: 0.7325 - val_loss: 0.5129 - val_accuracy: 0.7229\n",
            "Epoch 79/100\n",
            "1334/1334 [==============================] - 12s 9ms/step - loss: 0.4983 - accuracy: 0.7347 - val_loss: 0.5137 - val_accuracy: 0.7215\n",
            "Epoch 80/100\n",
            "1334/1334 [==============================] - 12s 9ms/step - loss: 0.4945 - accuracy: 0.7349 - val_loss: 0.5105 - val_accuracy: 0.7245\n",
            "Epoch 81/100\n",
            "1334/1334 [==============================] - 12s 9ms/step - loss: 0.4956 - accuracy: 0.7352 - val_loss: 0.5140 - val_accuracy: 0.7229\n",
            "Epoch 82/100\n",
            "1334/1334 [==============================] - 12s 9ms/step - loss: 0.4946 - accuracy: 0.7362 - val_loss: 0.5199 - val_accuracy: 0.7264\n",
            "Epoch 83/100\n",
            "1334/1334 [==============================] - 12s 9ms/step - loss: 0.4984 - accuracy: 0.7363 - val_loss: 0.5128 - val_accuracy: 0.7218\n",
            "Epoch 84/100\n",
            "1334/1334 [==============================] - 12s 9ms/step - loss: 0.4970 - accuracy: 0.7352 - val_loss: 0.5150 - val_accuracy: 0.7221\n",
            "Epoch 85/100\n",
            "1334/1334 [==============================] - 12s 9ms/step - loss: 0.4943 - accuracy: 0.7400 - val_loss: 0.5158 - val_accuracy: 0.7235\n",
            "Epoch 86/100\n",
            "1334/1334 [==============================] - 12s 9ms/step - loss: 0.4918 - accuracy: 0.7384 - val_loss: 0.5173 - val_accuracy: 0.7213\n",
            "Epoch 87/100\n",
            "1334/1334 [==============================] - 12s 9ms/step - loss: 0.4926 - accuracy: 0.7376 - val_loss: 0.5134 - val_accuracy: 0.7227\n",
            "Epoch 88/100\n",
            "1334/1334 [==============================] - 12s 9ms/step - loss: 0.4908 - accuracy: 0.7406 - val_loss: 0.5167 - val_accuracy: 0.7238\n",
            "Epoch 89/100\n",
            "1334/1334 [==============================] - 12s 9ms/step - loss: 0.5033 - accuracy: 0.7342 - val_loss: 0.5301 - val_accuracy: 0.7199\n",
            "Epoch 90/100\n",
            "1334/1334 [==============================] - 12s 9ms/step - loss: 0.4972 - accuracy: 0.7375 - val_loss: 0.5211 - val_accuracy: 0.7201\n",
            "Epoch 91/100\n",
            "1334/1334 [==============================] - 12s 9ms/step - loss: 0.5023 - accuracy: 0.7340 - val_loss: 0.5126 - val_accuracy: 0.7246\n",
            "Epoch 92/100\n",
            "1334/1334 [==============================] - 12s 9ms/step - loss: 0.4901 - accuracy: 0.7394 - val_loss: 0.5185 - val_accuracy: 0.7223\n",
            "Epoch 93/100\n",
            "1334/1334 [==============================] - 12s 9ms/step - loss: 0.4859 - accuracy: 0.7437 - val_loss: 0.5185 - val_accuracy: 0.7239\n",
            "Epoch 94/100\n",
            "1334/1334 [==============================] - 12s 9ms/step - loss: 0.4891 - accuracy: 0.7418 - val_loss: 0.5221 - val_accuracy: 0.7201\n",
            "Epoch 95/100\n",
            "1334/1334 [==============================] - 12s 9ms/step - loss: 0.4887 - accuracy: 0.7427 - val_loss: 0.5193 - val_accuracy: 0.7212\n",
            "Epoch 96/100\n",
            "1334/1334 [==============================] - 12s 9ms/step - loss: 0.4899 - accuracy: 0.7423 - val_loss: 0.5209 - val_accuracy: 0.7225\n",
            "Epoch 97/100\n",
            "1334/1334 [==============================] - 12s 9ms/step - loss: 0.4856 - accuracy: 0.7400 - val_loss: 0.5318 - val_accuracy: 0.7203\n",
            "Epoch 98/100\n",
            "1334/1334 [==============================] - 12s 9ms/step - loss: 0.4945 - accuracy: 0.7405 - val_loss: 0.5183 - val_accuracy: 0.7246\n",
            "Epoch 99/100\n",
            "1334/1334 [==============================] - 12s 9ms/step - loss: 0.4864 - accuracy: 0.7428 - val_loss: 0.5171 - val_accuracy: 0.7236\n",
            "Epoch 100/100\n",
            "1334/1334 [==============================] - 12s 9ms/step - loss: 0.4853 - accuracy: 0.7456 - val_loss: 0.5278 - val_accuracy: 0.7181\n",
            "Fold 1, 100 epochs, 1404 sec\n"
          ],
          "name": "stdout"
        },
        {
          "output_type": "display_data",
          "data": {
            "image/png": "[encoded data removed]",
            "text/plain": [
              "<Figure size 576x360 with 1 Axes>"
            ]
          },
          "metadata": {
            "tags": [],
            "needs_background": "light"
          }
        },
        {
          "output_type": "stream",
          "text": [
            "MODEL\n",
            "make_DNN\n",
            "input shape: (100, 4)\n",
            "FIT\n",
            "Epoch 1/100\n",
            "1334/1334 [==============================] - 16s 10ms/step - loss: 0.7087 - accuracy: 0.5183 - val_loss: 0.6538 - val_accuracy: 0.6145\n",
            "Epoch 2/100\n",
            "1334/1334 [==============================] - 12s 9ms/step - loss: 0.6410 - accuracy: 0.6342 - val_loss: 0.6202 - val_accuracy: 0.6557\n",
            "Epoch 3/100\n",
            "1334/1334 [==============================] - 12s 9ms/step - loss: 0.6171 - accuracy: 0.6580 - val_loss: 0.5818 - val_accuracy: 0.6872\n",
            "Epoch 4/100\n",
            "1334/1334 [==============================] - 12s 9ms/step - loss: 0.5797 - accuracy: 0.6920 - val_loss: 0.5481 - val_accuracy: 0.7063\n",
            "Epoch 5/100\n",
            "1334/1334 [==============================] - 12s 9ms/step - loss: 0.5497 - accuracy: 0.7076 - val_loss: 0.5462 - val_accuracy: 0.7070\n",
            "Epoch 6/100\n",
            "1334/1334 [==============================] - 12s 9ms/step - loss: 0.5401 - accuracy: 0.7106 - val_loss: 0.5345 - val_accuracy: 0.7126\n",
            "Epoch 7/100\n",
            "1334/1334 [==============================] - 12s 9ms/step - loss: 0.5393 - accuracy: 0.7150 - val_loss: 0.5409 - val_accuracy: 0.7106\n",
            "Epoch 8/100\n",
            "1334/1334 [==============================] - 12s 9ms/step - loss: 0.5353 - accuracy: 0.7154 - val_loss: 0.5366 - val_accuracy: 0.7133\n",
            "Epoch 9/100\n",
            "1334/1334 [==============================] - 12s 9ms/step - loss: 0.5679 - accuracy: 0.6965 - val_loss: 0.5272 - val_accuracy: 0.7177\n",
            "Epoch 10/100\n",
            "1334/1334 [==============================] - 12s 9ms/step - loss: 0.5292 - accuracy: 0.7187 - val_loss: 0.5265 - val_accuracy: 0.7164\n",
            "Epoch 11/100\n",
            "1334/1334 [==============================] - 12s 9ms/step - loss: 0.5281 - accuracy: 0.7178 - val_loss: 0.5251 - val_accuracy: 0.7197\n",
            "Epoch 12/100\n",
            "1334/1334 [==============================] - 12s 9ms/step - loss: 0.5190 - accuracy: 0.7243 - val_loss: 0.5368 - val_accuracy: 0.7141\n",
            "Epoch 13/100\n",
            "1334/1334 [==============================] - 12s 9ms/step - loss: 0.5268 - accuracy: 0.7170 - val_loss: 0.5155 - val_accuracy: 0.7217\n",
            "Epoch 14/100\n",
            "1334/1334 [==============================] - 13s 9ms/step - loss: 0.5156 - accuracy: 0.7220 - val_loss: 0.5174 - val_accuracy: 0.7224\n",
            "Epoch 15/100\n",
            "1334/1334 [==============================] - 12s 9ms/step - loss: 0.5132 - accuracy: 0.7271 - val_loss: 0.5145 - val_accuracy: 0.7237\n",
            "Epoch 16/100\n",
            "1334/1334 [==============================] - 12s 9ms/step - loss: 0.5137 - accuracy: 0.7265 - val_loss: 0.5330 - val_accuracy: 0.7125\n",
            "Epoch 17/100\n",
            "1334/1334 [==============================] - 12s 9ms/step - loss: 0.5180 - accuracy: 0.7231 - val_loss: 0.5164 - val_accuracy: 0.7206\n",
            "Epoch 18/100\n",
            "1334/1334 [==============================] - 12s 9ms/step - loss: 0.5197 - accuracy: 0.7226 - val_loss: 0.5163 - val_accuracy: 0.7229\n",
            "Epoch 19/100\n",
            "1334/1334 [==============================] - 12s 9ms/step - loss: 0.5146 - accuracy: 0.7230 - val_loss: 0.5221 - val_accuracy: 0.7168\n",
            "Epoch 20/100\n",
            "1334/1334 [==============================] - 12s 9ms/step - loss: 0.5096 - accuracy: 0.7262 - val_loss: 0.5172 - val_accuracy: 0.7232\n",
            "Epoch 21/100\n",
            "1334/1334 [==============================] - 12s 9ms/step - loss: 0.5100 - accuracy: 0.7292 - val_loss: 0.5177 - val_accuracy: 0.7248\n",
            "Epoch 22/100\n",
            "1334/1334 [==============================] - 12s 9ms/step - loss: 0.5131 - accuracy: 0.7235 - val_loss: 0.5192 - val_accuracy: 0.7200\n",
            "Epoch 23/100\n",
            "1334/1334 [==============================] - 12s 9ms/step - loss: 0.5134 - accuracy: 0.7235 - val_loss: 0.5164 - val_accuracy: 0.7239\n",
            "Epoch 24/100\n",
            "1334/1334 [==============================] - 12s 9ms/step - loss: 0.5060 - accuracy: 0.7275 - val_loss: 0.5248 - val_accuracy: 0.7138\n",
            "Epoch 25/100\n",
            "1334/1334 [==============================] - 12s 9ms/step - loss: 0.5087 - accuracy: 0.7247 - val_loss: 0.5163 - val_accuracy: 0.7240\n",
            "Epoch 26/100\n",
            "1334/1334 [==============================] - 12s 9ms/step - loss: 0.5040 - accuracy: 0.7318 - val_loss: 0.5189 - val_accuracy: 0.7232\n",
            "Epoch 27/100\n",
            "1334/1334 [==============================] - 12s 9ms/step - loss: 0.5043 - accuracy: 0.7295 - val_loss: 0.5144 - val_accuracy: 0.7249\n",
            "Epoch 28/100\n",
            "1334/1334 [==============================] - 12s 9ms/step - loss: 0.5078 - accuracy: 0.7231 - val_loss: 0.5156 - val_accuracy: 0.7250\n",
            "Epoch 29/100\n",
            "1334/1334 [==============================] - 12s 9ms/step - loss: 0.5053 - accuracy: 0.7283 - val_loss: 0.5222 - val_accuracy: 0.7174\n",
            "Epoch 30/100\n",
            "1334/1334 [==============================] - 12s 9ms/step - loss: 0.5207 - accuracy: 0.7247 - val_loss: 0.5129 - val_accuracy: 0.7272\n"
          ],
          "name": "stdout"
        },
        {
          "output_type": "stream",
          "text": [
            "WARNING:absl:Found untraced functions such as lstm_cell_12_layer_call_and_return_conditional_losses, lstm_cell_12_layer_call_fn, lstm_cell_13_layer_call_and_return_conditional_losses, lstm_cell_13_layer_call_fn, lstm_cell_12_layer_call_fn while saving (showing 5 of 10). These functions will not be directly callable after loading.\n"
          ],
          "name": "stderr"
        },
        {
          "output_type": "stream",
          "text": [
            "INFO:tensorflow:Assets written to: BestModel/assets\n"
          ],
          "name": "stdout"
        },
        {
          "output_type": "stream",
          "text": [
            "INFO:tensorflow:Assets written to: BestModel/assets\n"
          ],
          "name": "stderr"
        },
        {
          "output_type": "stream",
          "text": [
            "Epoch 31/100\n",
            "1334/1334 [==============================] - 12s 9ms/step - loss: 0.5051 - accuracy: 0.7267 - val_loss: 0.5163 - val_accuracy: 0.7251\n",
            "Epoch 32/100\n",
            "1334/1334 [==============================] - 12s 9ms/step - loss: 0.5027 - accuracy: 0.7309 - val_loss: 0.5176 - val_accuracy: 0.7256\n",
            "Epoch 33/100\n",
            "1334/1334 [==============================] - 12s 9ms/step - loss: 0.5112 - accuracy: 0.7233 - val_loss: 0.5286 - val_accuracy: 0.7172\n",
            "Epoch 34/100\n",
            "1334/1334 [==============================] - 12s 9ms/step - loss: 0.5062 - accuracy: 0.7314 - val_loss: 0.5153 - val_accuracy: 0.7252\n",
            "Epoch 35/100\n",
            "1334/1334 [==============================] - 12s 9ms/step - loss: 0.5003 - accuracy: 0.7271 - val_loss: 0.5195 - val_accuracy: 0.7237\n",
            "Epoch 36/100\n",
            "1334/1334 [==============================] - 12s 9ms/step - loss: 0.4996 - accuracy: 0.7289 - val_loss: 0.5233 - val_accuracy: 0.7221\n",
            "Epoch 37/100\n",
            "1334/1334 [==============================] - 12s 9ms/step - loss: 0.4991 - accuracy: 0.7315 - val_loss: 0.5226 - val_accuracy: 0.7254\n",
            "Epoch 38/100\n",
            "1334/1334 [==============================] - 12s 9ms/step - loss: 0.5032 - accuracy: 0.7349 - val_loss: 0.5273 - val_accuracy: 0.7236\n",
            "Epoch 39/100\n",
            "1334/1334 [==============================] - 12s 9ms/step - loss: 0.4973 - accuracy: 0.7335 - val_loss: 0.5164 - val_accuracy: 0.7242\n",
            "Epoch 40/100\n",
            "1334/1334 [==============================] - 12s 9ms/step - loss: 0.4938 - accuracy: 0.7328 - val_loss: 0.5265 - val_accuracy: 0.7272\n",
            "Epoch 41/100\n",
            "1334/1334 [==============================] - 12s 9ms/step - loss: 0.5104 - accuracy: 0.7262 - val_loss: 0.5260 - val_accuracy: 0.7173\n",
            "Epoch 42/100\n",
            "1334/1334 [==============================] - 12s 9ms/step - loss: 0.5096 - accuracy: 0.7277 - val_loss: 0.5312 - val_accuracy: 0.7220\n",
            "Epoch 43/100\n",
            "1334/1334 [==============================] - 12s 9ms/step - loss: 0.5025 - accuracy: 0.7283 - val_loss: 0.5193 - val_accuracy: 0.7212\n",
            "Epoch 44/100\n",
            "1334/1334 [==============================] - 12s 9ms/step - loss: 0.4971 - accuracy: 0.7303 - val_loss: 0.5252 - val_accuracy: 0.7206\n",
            "Epoch 45/100\n",
            "1334/1334 [==============================] - 12s 9ms/step - loss: 0.4974 - accuracy: 0.7312 - val_loss: 0.5340 - val_accuracy: 0.7153\n",
            "Epoch 46/100\n",
            "1334/1334 [==============================] - 12s 9ms/step - loss: 0.5070 - accuracy: 0.7323 - val_loss: 0.5215 - val_accuracy: 0.7240\n",
            "Epoch 47/100\n",
            "1334/1334 [==============================] - 12s 9ms/step - loss: 0.4926 - accuracy: 0.7336 - val_loss: 0.5243 - val_accuracy: 0.7249\n",
            "Epoch 48/100\n",
            "1334/1334 [==============================] - 12s 9ms/step - loss: 0.4916 - accuracy: 0.7405 - val_loss: 0.5207 - val_accuracy: 0.7223\n",
            "Epoch 49/100\n",
            "1334/1334 [==============================] - 12s 9ms/step - loss: 0.4918 - accuracy: 0.7344 - val_loss: 0.5225 - val_accuracy: 0.7239\n",
            "Epoch 50/100\n",
            "1334/1334 [==============================] - 12s 9ms/step - loss: 0.4883 - accuracy: 0.7399 - val_loss: 0.5180 - val_accuracy: 0.7250\n",
            "Epoch 51/100\n",
            "1334/1334 [==============================] - 12s 9ms/step - loss: 0.4904 - accuracy: 0.7385 - val_loss: 0.5241 - val_accuracy: 0.7247\n",
            "Epoch 52/100\n",
            "1334/1334 [==============================] - 12s 9ms/step - loss: 0.4882 - accuracy: 0.7380 - val_loss: 0.5390 - val_accuracy: 0.7236\n",
            "Epoch 53/100\n",
            "1334/1334 [==============================] - 12s 9ms/step - loss: 0.4925 - accuracy: 0.7342 - val_loss: 0.5246 - val_accuracy: 0.7224\n",
            "Epoch 54/100\n",
            "1334/1334 [==============================] - 12s 9ms/step - loss: 0.4888 - accuracy: 0.7412 - val_loss: 0.5284 - val_accuracy: 0.7251\n",
            "Epoch 55/100\n",
            "1334/1334 [==============================] - 12s 9ms/step - loss: 0.4926 - accuracy: 0.7347 - val_loss: 0.6025 - val_accuracy: 0.6649\n",
            "Epoch 56/100\n",
            "1334/1334 [==============================] - 12s 9ms/step - loss: 0.6296 - accuracy: 0.6409 - val_loss: 0.6200 - val_accuracy: 0.6512\n",
            "Epoch 57/100\n",
            "1334/1334 [==============================] - 12s 9ms/step - loss: 0.6127 - accuracy: 0.6689 - val_loss: 0.5800 - val_accuracy: 0.6926\n",
            "Epoch 58/100\n",
            "1334/1334 [==============================] - 12s 9ms/step - loss: 0.5678 - accuracy: 0.7058 - val_loss: 0.5492 - val_accuracy: 0.7120\n",
            "Epoch 59/100\n",
            "1334/1334 [==============================] - 12s 9ms/step - loss: 0.5382 - accuracy: 0.7251 - val_loss: 0.5381 - val_accuracy: 0.7185\n",
            "Epoch 60/100\n",
            "1334/1334 [==============================] - 12s 9ms/step - loss: 0.5327 - accuracy: 0.7237 - val_loss: 0.5339 - val_accuracy: 0.7189\n",
            "Epoch 61/100\n",
            "1334/1334 [==============================] - 12s 9ms/step - loss: 0.5287 - accuracy: 0.7222 - val_loss: 0.5608 - val_accuracy: 0.7014\n",
            "Epoch 62/100\n",
            "1334/1334 [==============================] - 12s 9ms/step - loss: 0.5291 - accuracy: 0.7212 - val_loss: 0.5243 - val_accuracy: 0.7227\n",
            "Epoch 63/100\n",
            "1334/1334 [==============================] - 12s 9ms/step - loss: 0.5138 - accuracy: 0.7293 - val_loss: 0.5271 - val_accuracy: 0.7208\n",
            "Epoch 64/100\n",
            "1334/1334 [==============================] - 12s 9ms/step - loss: 0.5203 - accuracy: 0.7269 - val_loss: 0.5243 - val_accuracy: 0.7200\n",
            "Epoch 65/100\n",
            "1334/1334 [==============================] - 12s 9ms/step - loss: 0.5185 - accuracy: 0.7244 - val_loss: 0.5231 - val_accuracy: 0.7224\n",
            "Epoch 66/100\n",
            "1334/1334 [==============================] - 12s 9ms/step - loss: 0.5136 - accuracy: 0.7276 - val_loss: 0.5204 - val_accuracy: 0.7244\n",
            "Epoch 67/100\n",
            "1334/1334 [==============================] - 12s 9ms/step - loss: 0.5087 - accuracy: 0.7340 - val_loss: 0.5238 - val_accuracy: 0.7236\n",
            "Epoch 68/100\n",
            "1334/1334 [==============================] - 12s 9ms/step - loss: 0.5133 - accuracy: 0.7255 - val_loss: 0.5289 - val_accuracy: 0.7218\n",
            "Epoch 69/100\n",
            "1334/1334 [==============================] - 12s 9ms/step - loss: 0.5042 - accuracy: 0.7324 - val_loss: 0.5223 - val_accuracy: 0.7237\n",
            "Epoch 70/100\n",
            "1334/1334 [==============================] - 12s 9ms/step - loss: 0.5132 - accuracy: 0.7265 - val_loss: 0.5278 - val_accuracy: 0.7184\n",
            "Epoch 71/100\n",
            "1334/1334 [==============================] - 13s 9ms/step - loss: 0.5067 - accuracy: 0.7315 - val_loss: 0.5290 - val_accuracy: 0.7216\n",
            "Epoch 72/100\n",
            "1334/1334 [==============================] - 12s 9ms/step - loss: 0.5037 - accuracy: 0.7333 - val_loss: 0.5228 - val_accuracy: 0.7223\n",
            "Epoch 73/100\n",
            "1334/1334 [==============================] - 12s 9ms/step - loss: 0.5060 - accuracy: 0.7278 - val_loss: 0.5284 - val_accuracy: 0.7179\n",
            "Epoch 74/100\n",
            "1334/1334 [==============================] - 12s 9ms/step - loss: 0.5180 - accuracy: 0.7199 - val_loss: 0.5262 - val_accuracy: 0.7245\n",
            "Epoch 75/100\n",
            "1334/1334 [==============================] - 12s 9ms/step - loss: 0.5049 - accuracy: 0.7306 - val_loss: 0.5292 - val_accuracy: 0.7226\n",
            "Epoch 76/100\n",
            "1334/1334 [==============================] - 12s 9ms/step - loss: 0.5050 - accuracy: 0.7279 - val_loss: 0.5280 - val_accuracy: 0.7211\n",
            "Epoch 77/100\n",
            "1334/1334 [==============================] - 12s 9ms/step - loss: 0.5058 - accuracy: 0.7279 - val_loss: 0.5255 - val_accuracy: 0.7211\n",
            "Epoch 78/100\n",
            "1334/1334 [==============================] - 12s 9ms/step - loss: 0.5010 - accuracy: 0.7323 - val_loss: 0.5350 - val_accuracy: 0.7217\n",
            "Epoch 79/100\n",
            "1334/1334 [==============================] - 12s 9ms/step - loss: 0.5037 - accuracy: 0.7309 - val_loss: 0.5321 - val_accuracy: 0.7195\n",
            "Epoch 80/100\n",
            "1334/1334 [==============================] - 12s 9ms/step - loss: 0.4992 - accuracy: 0.7339 - val_loss: 0.5214 - val_accuracy: 0.7191\n",
            "Epoch 81/100\n",
            "1334/1334 [==============================] - 12s 9ms/step - loss: 0.5054 - accuracy: 0.7281 - val_loss: 0.5189 - val_accuracy: 0.7202\n",
            "Epoch 82/100\n",
            "1334/1334 [==============================] - 12s 9ms/step - loss: 0.4955 - accuracy: 0.7367 - val_loss: 0.5238 - val_accuracy: 0.7208\n",
            "Epoch 83/100\n",
            "1334/1334 [==============================] - 12s 9ms/step - loss: 0.4949 - accuracy: 0.7361 - val_loss: 0.5256 - val_accuracy: 0.7217\n",
            "Epoch 84/100\n",
            "1334/1334 [==============================] - 12s 9ms/step - loss: 0.4968 - accuracy: 0.7372 - val_loss: 0.5272 - val_accuracy: 0.7207\n",
            "Epoch 85/100\n",
            "1334/1334 [==============================] - 12s 9ms/step - loss: 0.4965 - accuracy: 0.7380 - val_loss: 0.5268 - val_accuracy: 0.7222\n",
            "Epoch 86/100\n",
            "1334/1334 [==============================] - 12s 9ms/step - loss: 0.5022 - accuracy: 0.7322 - val_loss: 0.7038 - val_accuracy: 0.5049\n",
            "Epoch 87/100\n",
            "1334/1334 [==============================] - 12s 9ms/step - loss: 0.6754 - accuracy: 0.5639 - val_loss: 0.6234 - val_accuracy: 0.6479\n",
            "Epoch 88/100\n",
            "1334/1334 [==============================] - 12s 9ms/step - loss: 0.6187 - accuracy: 0.6514 - val_loss: 0.6035 - val_accuracy: 0.6662\n",
            "Epoch 89/100\n",
            "1334/1334 [==============================] - 12s 9ms/step - loss: 0.6015 - accuracy: 0.6677 - val_loss: 0.5890 - val_accuracy: 0.6791\n",
            "Epoch 90/100\n",
            "1334/1334 [==============================] - 13s 9ms/step - loss: 0.5829 - accuracy: 0.6859 - val_loss: 0.5677 - val_accuracy: 0.6945\n",
            "Epoch 91/100\n",
            "1334/1334 [==============================] - 12s 9ms/step - loss: 0.5642 - accuracy: 0.6995 - val_loss: 0.5528 - val_accuracy: 0.7072\n",
            "Epoch 92/100\n",
            "1334/1334 [==============================] - 12s 9ms/step - loss: 0.5468 - accuracy: 0.7110 - val_loss: 0.5421 - val_accuracy: 0.7132\n",
            "Epoch 93/100\n",
            "1334/1334 [==============================] - 12s 9ms/step - loss: 0.5357 - accuracy: 0.7181 - val_loss: 0.5332 - val_accuracy: 0.7173\n",
            "Epoch 94/100\n",
            "1334/1334 [==============================] - 12s 9ms/step - loss: 0.5305 - accuracy: 0.7157 - val_loss: 0.5324 - val_accuracy: 0.7201\n",
            "Epoch 95/100\n",
            "1334/1334 [==============================] - 13s 9ms/step - loss: 0.5238 - accuracy: 0.7242 - val_loss: 0.5295 - val_accuracy: 0.7202\n",
            "Epoch 96/100\n",
            "1334/1334 [==============================] - 12s 9ms/step - loss: 0.5247 - accuracy: 0.7204 - val_loss: 0.5253 - val_accuracy: 0.7231\n",
            "Epoch 97/100\n",
            "1334/1334 [==============================] - 12s 9ms/step - loss: 0.5197 - accuracy: 0.7261 - val_loss: 0.5320 - val_accuracy: 0.7227\n",
            "Epoch 98/100\n",
            "1334/1334 [==============================] - 12s 9ms/step - loss: 0.5185 - accuracy: 0.7253 - val_loss: 0.5289 - val_accuracy: 0.7211\n",
            "Epoch 99/100\n",
            "1334/1334 [==============================] - 12s 9ms/step - loss: 0.5182 - accuracy: 0.7266 - val_loss: 0.5261 - val_accuracy: 0.7228\n",
            "Epoch 100/100\n",
            "1334/1334 [==============================] - 12s 9ms/step - loss: 0.5126 - accuracy: 0.7272 - val_loss: 0.5377 - val_accuracy: 0.7152\n",
            "Fold 2, 100 epochs, 1240 sec\n"
          ],
          "name": "stdout"
        },
        {
          "output_type": "display_data",
          "data": {
            "image/png": "[encoded data removed]",
            "text/plain": [
              "<Figure size 576x360 with 1 Axes>"
            ]
          },
          "metadata": {
            "tags": [],
            "needs_background": "light"
          }
        },
        {
          "output_type": "stream",
          "text": [
            "MODEL\n",
            "make_DNN\n",
            "input shape: (100, 4)\n",
            "FIT\n",
            "Epoch 1/100\n",
            "1334/1334 [==============================] - 16s 10ms/step - loss: 0.6977 - accuracy: 0.5351 - val_loss: 0.6517 - val_accuracy: 0.6187\n",
            "Epoch 2/100\n",
            "1334/1334 [==============================] - 12s 9ms/step - loss: 0.6443 - accuracy: 0.6301 - val_loss: 0.6099 - val_accuracy: 0.6670\n",
            "Epoch 3/100\n",
            "1334/1334 [==============================] - 12s 9ms/step - loss: 0.6104 - accuracy: 0.6706 - val_loss: 0.5755 - val_accuracy: 0.6972\n",
            "Epoch 4/100\n",
            "1334/1334 [==============================] - 12s 9ms/step - loss: 0.5772 - accuracy: 0.6954 - val_loss: 0.5529 - val_accuracy: 0.7059\n",
            "Epoch 5/100\n",
            "1334/1334 [==============================] - 12s 9ms/step - loss: 0.5561 - accuracy: 0.7083 - val_loss: 0.5599 - val_accuracy: 0.6967\n",
            "Epoch 6/100\n",
            "1334/1334 [==============================] - 12s 9ms/step - loss: 0.5437 - accuracy: 0.7115 - val_loss: 0.5512 - val_accuracy: 0.7053\n",
            "Epoch 7/100\n",
            "1334/1334 [==============================] - 12s 9ms/step - loss: 0.5404 - accuracy: 0.7103 - val_loss: 0.5356 - val_accuracy: 0.7101\n",
            "Epoch 8/100\n",
            "1334/1334 [==============================] - 12s 9ms/step - loss: 0.5396 - accuracy: 0.7127 - val_loss: 0.5363 - val_accuracy: 0.7098\n",
            "Epoch 9/100\n",
            "1334/1334 [==============================] - 12s 9ms/step - loss: 0.5368 - accuracy: 0.7169 - val_loss: 0.5341 - val_accuracy: 0.7089\n",
            "Epoch 10/100\n",
            "1334/1334 [==============================] - 12s 9ms/step - loss: 0.5388 - accuracy: 0.7135 - val_loss: 0.5346 - val_accuracy: 0.7120\n",
            "Epoch 11/100\n",
            "1334/1334 [==============================] - 12s 9ms/step - loss: 0.5306 - accuracy: 0.7178 - val_loss: 0.5315 - val_accuracy: 0.7173\n",
            "Epoch 12/100\n",
            "1334/1334 [==============================] - 12s 9ms/step - loss: 0.5295 - accuracy: 0.7205 - val_loss: 0.5304 - val_accuracy: 0.7142\n",
            "Epoch 13/100\n",
            "1334/1334 [==============================] - 12s 9ms/step - loss: 0.5330 - accuracy: 0.7161 - val_loss: 0.5332 - val_accuracy: 0.7157\n",
            "Epoch 14/100\n",
            "1334/1334 [==============================] - 12s 9ms/step - loss: 0.5274 - accuracy: 0.7158 - val_loss: 0.5273 - val_accuracy: 0.7158\n",
            "Epoch 15/100\n",
            "1334/1334 [==============================] - 12s 9ms/step - loss: 0.5278 - accuracy: 0.7170 - val_loss: 0.5252 - val_accuracy: 0.7158\n",
            "Epoch 16/100\n",
            "1334/1334 [==============================] - 12s 9ms/step - loss: 0.5264 - accuracy: 0.7196 - val_loss: 0.5255 - val_accuracy: 0.7161\n",
            "Epoch 17/100\n",
            "1334/1334 [==============================] - 12s 9ms/step - loss: 0.5200 - accuracy: 0.7216 - val_loss: 0.5291 - val_accuracy: 0.7150\n",
            "Epoch 18/100\n",
            "1334/1334 [==============================] - 12s 9ms/step - loss: 0.5233 - accuracy: 0.7222 - val_loss: 0.5284 - val_accuracy: 0.7160\n",
            "Epoch 19/100\n",
            "1334/1334 [==============================] - 12s 9ms/step - loss: 0.5209 - accuracy: 0.7197 - val_loss: 0.5248 - val_accuracy: 0.7183\n",
            "Epoch 20/100\n",
            "1334/1334 [==============================] - 12s 9ms/step - loss: 0.5211 - accuracy: 0.7218 - val_loss: 0.5232 - val_accuracy: 0.7140\n",
            "Epoch 21/100\n",
            "1334/1334 [==============================] - 12s 9ms/step - loss: 0.5204 - accuracy: 0.7220 - val_loss: 0.5239 - val_accuracy: 0.7166\n",
            "Epoch 22/100\n",
            "1334/1334 [==============================] - 12s 9ms/step - loss: 0.5160 - accuracy: 0.7255 - val_loss: 0.5212 - val_accuracy: 0.7212\n",
            "Epoch 23/100\n",
            "1334/1334 [==============================] - 12s 9ms/step - loss: 0.5159 - accuracy: 0.7254 - val_loss: 0.5600 - val_accuracy: 0.7125\n",
            "Epoch 24/100\n",
            "1334/1334 [==============================] - 12s 9ms/step - loss: 0.5224 - accuracy: 0.7217 - val_loss: 0.5511 - val_accuracy: 0.7084\n",
            "Epoch 25/100\n",
            "1334/1334 [==============================] - 12s 9ms/step - loss: 0.5206 - accuracy: 0.7236 - val_loss: 0.5247 - val_accuracy: 0.7172\n",
            "Epoch 26/100\n",
            "1334/1334 [==============================] - 12s 9ms/step - loss: 0.5187 - accuracy: 0.7242 - val_loss: 0.5308 - val_accuracy: 0.7197\n",
            "Epoch 27/100\n",
            "1334/1334 [==============================] - 12s 9ms/step - loss: 0.5122 - accuracy: 0.7254 - val_loss: 0.5171 - val_accuracy: 0.7188\n",
            "Epoch 28/100\n",
            "1334/1334 [==============================] - 12s 9ms/step - loss: 0.5130 - accuracy: 0.7269 - val_loss: 0.5255 - val_accuracy: 0.7149\n",
            "Epoch 29/100\n",
            "1334/1334 [==============================] - 12s 9ms/step - loss: 0.5117 - accuracy: 0.7231 - val_loss: 0.5207 - val_accuracy: 0.7204\n",
            "Epoch 30/100\n",
            "1334/1334 [==============================] - 12s 9ms/step - loss: 0.5096 - accuracy: 0.7266 - val_loss: 0.5235 - val_accuracy: 0.7216\n",
            "Epoch 31/100\n",
            "1334/1334 [==============================] - 12s 9ms/step - loss: 0.5141 - accuracy: 0.7242 - val_loss: 0.5184 - val_accuracy: 0.7217\n",
            "Epoch 32/100\n",
            "1334/1334 [==============================] - 12s 9ms/step - loss: 0.5104 - accuracy: 0.7291 - val_loss: 0.5178 - val_accuracy: 0.7197\n",
            "Epoch 33/100\n",
            "1334/1334 [==============================] - 12s 9ms/step - loss: 0.5084 - accuracy: 0.7278 - val_loss: 0.5177 - val_accuracy: 0.7195\n",
            "Epoch 34/100\n",
            "1334/1334 [==============================] - 12s 9ms/step - loss: 0.5088 - accuracy: 0.7285 - val_loss: 0.5182 - val_accuracy: 0.7215\n",
            "Epoch 35/100\n",
            "1334/1334 [==============================] - 12s 9ms/step - loss: 0.5086 - accuracy: 0.7273 - val_loss: 0.5176 - val_accuracy: 0.7221\n",
            "Epoch 36/100\n",
            "1334/1334 [==============================] - 12s 9ms/step - loss: 0.5026 - accuracy: 0.7291 - val_loss: 0.5241 - val_accuracy: 0.7199\n",
            "Epoch 37/100\n",
            "1334/1334 [==============================] - 12s 9ms/step - loss: 0.5125 - accuracy: 0.7238 - val_loss: 0.5294 - val_accuracy: 0.7192\n",
            "Epoch 38/100\n",
            "1334/1334 [==============================] - 12s 9ms/step - loss: 0.5079 - accuracy: 0.7309 - val_loss: 0.5166 - val_accuracy: 0.7232\n",
            "Epoch 39/100\n",
            "1334/1334 [==============================] - 12s 9ms/step - loss: 0.5044 - accuracy: 0.7327 - val_loss: 0.5244 - val_accuracy: 0.7229\n",
            "Epoch 40/100\n",
            "1334/1334 [==============================] - 13s 9ms/step - loss: 0.5055 - accuracy: 0.7322 - val_loss: 0.5226 - val_accuracy: 0.7185\n",
            "Epoch 41/100\n",
            "1334/1334 [==============================] - 12s 9ms/step - loss: 0.5124 - accuracy: 0.7276 - val_loss: 0.5176 - val_accuracy: 0.7229\n",
            "Epoch 42/100\n",
            "1334/1334 [==============================] - 12s 9ms/step - loss: 0.5009 - accuracy: 0.7346 - val_loss: 0.5178 - val_accuracy: 0.7245\n",
            "Epoch 43/100\n",
            "1334/1334 [==============================] - 12s 9ms/step - loss: 0.4979 - accuracy: 0.7351 - val_loss: 0.5166 - val_accuracy: 0.7221\n",
            "Epoch 44/100\n",
            "1334/1334 [==============================] - 12s 9ms/step - loss: 0.4977 - accuracy: 0.7358 - val_loss: 0.5240 - val_accuracy: 0.7190\n",
            "Epoch 45/100\n",
            "1334/1334 [==============================] - 12s 9ms/step - loss: 0.5008 - accuracy: 0.7340 - val_loss: 0.5180 - val_accuracy: 0.7232\n",
            "Epoch 46/100\n",
            "1334/1334 [==============================] - 12s 9ms/step - loss: 0.4964 - accuracy: 0.7359 - val_loss: 0.5335 - val_accuracy: 0.7212\n",
            "Epoch 47/100\n",
            "1334/1334 [==============================] - 12s 9ms/step - loss: 0.5578 - accuracy: 0.6961 - val_loss: 0.6069 - val_accuracy: 0.6637\n",
            "Epoch 48/100\n",
            "1334/1334 [==============================] - 13s 9ms/step - loss: 0.5997 - accuracy: 0.6715 - val_loss: 0.5522 - val_accuracy: 0.7068\n",
            "Epoch 49/100\n",
            "1334/1334 [==============================] - 12s 9ms/step - loss: 0.5539 - accuracy: 0.7082 - val_loss: 0.5403 - val_accuracy: 0.7104\n",
            "Epoch 50/100\n",
            "1334/1334 [==============================] - 12s 9ms/step - loss: 0.5456 - accuracy: 0.7085 - val_loss: 0.5419 - val_accuracy: 0.7106\n",
            "Epoch 51/100\n",
            "1334/1334 [==============================] - 12s 9ms/step - loss: 0.5370 - accuracy: 0.7151 - val_loss: 0.5306 - val_accuracy: 0.7161\n",
            "Epoch 52/100\n",
            "1334/1334 [==============================] - 12s 9ms/step - loss: 0.5318 - accuracy: 0.7170 - val_loss: 0.5291 - val_accuracy: 0.7166\n",
            "Epoch 53/100\n",
            "1334/1334 [==============================] - 12s 9ms/step - loss: 0.5306 - accuracy: 0.7194 - val_loss: 0.5290 - val_accuracy: 0.7187\n",
            "Epoch 54/100\n",
            "1334/1334 [==============================] - 13s 9ms/step - loss: 0.5264 - accuracy: 0.7175 - val_loss: 0.5270 - val_accuracy: 0.7181\n",
            "Epoch 55/100\n",
            "1334/1334 [==============================] - 12s 9ms/step - loss: 0.5266 - accuracy: 0.7227 - val_loss: 0.5229 - val_accuracy: 0.7202\n",
            "Epoch 56/100\n",
            "1334/1334 [==============================] - 12s 9ms/step - loss: 0.5215 - accuracy: 0.7215 - val_loss: 0.5240 - val_accuracy: 0.7163\n",
            "Epoch 57/100\n",
            "1334/1334 [==============================] - 12s 9ms/step - loss: 0.5172 - accuracy: 0.7256 - val_loss: 0.5194 - val_accuracy: 0.7234\n",
            "Epoch 58/100\n",
            "1334/1334 [==============================] - 12s 9ms/step - loss: 0.5193 - accuracy: 0.7219 - val_loss: 0.5220 - val_accuracy: 0.7206\n",
            "Epoch 59/100\n",
            "1334/1334 [==============================] - 13s 9ms/step - loss: 0.5123 - accuracy: 0.7284 - val_loss: 0.5274 - val_accuracy: 0.7203\n",
            "Epoch 60/100\n",
            "1334/1334 [==============================] - 12s 9ms/step - loss: 0.5129 - accuracy: 0.7296 - val_loss: 0.5203 - val_accuracy: 0.7218\n",
            "Epoch 61/100\n",
            "1334/1334 [==============================] - 13s 9ms/step - loss: 0.5181 - accuracy: 0.7263 - val_loss: 0.5215 - val_accuracy: 0.7227\n",
            "Epoch 62/100\n",
            "1334/1334 [==============================] - 12s 9ms/step - loss: 0.5102 - accuracy: 0.7290 - val_loss: 0.5249 - val_accuracy: 0.7193\n",
            "Epoch 63/100\n",
            "1334/1334 [==============================] - 12s 9ms/step - loss: 0.5153 - accuracy: 0.7247 - val_loss: 0.5258 - val_accuracy: 0.7211\n",
            "Epoch 64/100\n",
            "1334/1334 [==============================] - 12s 9ms/step - loss: 0.5110 - accuracy: 0.7304 - val_loss: 0.5211 - val_accuracy: 0.7214\n",
            "Epoch 65/100\n",
            "1334/1334 [==============================] - 13s 9ms/step - loss: 0.5138 - accuracy: 0.7260 - val_loss: 0.5297 - val_accuracy: 0.7167\n",
            "Epoch 66/100\n",
            "1334/1334 [==============================] - 13s 9ms/step - loss: 0.5113 - accuracy: 0.7244 - val_loss: 0.5207 - val_accuracy: 0.7194\n",
            "Epoch 67/100\n",
            "1334/1334 [==============================] - 12s 9ms/step - loss: 0.5093 - accuracy: 0.7256 - val_loss: 0.5295 - val_accuracy: 0.7213\n",
            "Epoch 68/100\n",
            "1334/1334 [==============================] - 12s 9ms/step - loss: 0.5041 - accuracy: 0.7310 - val_loss: 0.5254 - val_accuracy: 0.7171\n",
            "Epoch 69/100\n",
            "1334/1334 [==============================] - 12s 9ms/step - loss: 0.5095 - accuracy: 0.7251 - val_loss: 0.5343 - val_accuracy: 0.7205\n",
            "Epoch 70/100\n",
            "1334/1334 [==============================] - 12s 9ms/step - loss: 0.5036 - accuracy: 0.7299 - val_loss: 0.5227 - val_accuracy: 0.7218\n",
            "Epoch 71/100\n",
            "1334/1334 [==============================] - 12s 9ms/step - loss: 0.5045 - accuracy: 0.7312 - val_loss: 0.5270 - val_accuracy: 0.7210\n",
            "Epoch 72/100\n",
            "1334/1334 [==============================] - 12s 9ms/step - loss: 0.5084 - accuracy: 0.7275 - val_loss: 0.5217 - val_accuracy: 0.7193\n",
            "Epoch 73/100\n",
            "1334/1334 [==============================] - 12s 9ms/step - loss: 0.5029 - accuracy: 0.7303 - val_loss: 0.5270 - val_accuracy: 0.7207\n",
            "Epoch 74/100\n",
            "1334/1334 [==============================] - 12s 9ms/step - loss: 0.5044 - accuracy: 0.7293 - val_loss: 0.5339 - val_accuracy: 0.7209\n",
            "Epoch 75/100\n",
            "1334/1334 [==============================] - 12s 9ms/step - loss: 0.5053 - accuracy: 0.7300 - val_loss: 0.5223 - val_accuracy: 0.7191\n",
            "Epoch 76/100\n",
            "1334/1334 [==============================] - 12s 9ms/step - loss: 0.5038 - accuracy: 0.7310 - val_loss: 0.5344 - val_accuracy: 0.7138\n",
            "Epoch 77/100\n",
            "1334/1334 [==============================] - 12s 9ms/step - loss: 0.4993 - accuracy: 0.7318 - val_loss: 0.5237 - val_accuracy: 0.7172\n",
            "Epoch 78/100\n",
            "1334/1334 [==============================] - 12s 9ms/step - loss: 0.4999 - accuracy: 0.7321 - val_loss: 0.5231 - val_accuracy: 0.7215\n",
            "Epoch 79/100\n",
            "1334/1334 [==============================] - 12s 9ms/step - loss: 0.5027 - accuracy: 0.7294 - val_loss: 0.5281 - val_accuracy: 0.7239\n",
            "Epoch 80/100\n",
            "1334/1334 [==============================] - 12s 9ms/step - loss: 0.4992 - accuracy: 0.7325 - val_loss: 0.5274 - val_accuracy: 0.7221\n",
            "Epoch 81/100\n",
            "1334/1334 [==============================] - 12s 9ms/step - loss: 0.4973 - accuracy: 0.7308 - val_loss: 0.5249 - val_accuracy: 0.7213\n",
            "Epoch 82/100\n",
            "1334/1334 [==============================] - 12s 9ms/step - loss: 0.4968 - accuracy: 0.7333 - val_loss: 0.5246 - val_accuracy: 0.7195\n",
            "Epoch 83/100\n",
            "1334/1334 [==============================] - 13s 9ms/step - loss: 0.4997 - accuracy: 0.7288 - val_loss: 0.5351 - val_accuracy: 0.7196\n",
            "Epoch 84/100\n",
            "1334/1334 [==============================] - 12s 9ms/step - loss: 0.4921 - accuracy: 0.7401 - val_loss: 0.5281 - val_accuracy: 0.7182\n",
            "Epoch 85/100\n",
            "1334/1334 [==============================] - 13s 9ms/step - loss: 0.4953 - accuracy: 0.7345 - val_loss: 0.5365 - val_accuracy: 0.7186\n",
            "Epoch 86/100\n",
            "1334/1334 [==============================] - 12s 9ms/step - loss: 0.4984 - accuracy: 0.7329 - val_loss: 0.5323 - val_accuracy: 0.7180\n",
            "Epoch 87/100\n",
            "1334/1334 [==============================] - 13s 9ms/step - loss: 0.4926 - accuracy: 0.7363 - val_loss: 0.5325 - val_accuracy: 0.7212\n",
            "Epoch 88/100\n",
            "1334/1334 [==============================] - 12s 9ms/step - loss: 0.4937 - accuracy: 0.7361 - val_loss: 0.5315 - val_accuracy: 0.7206\n",
            "Epoch 89/100\n",
            "1334/1334 [==============================] - 12s 9ms/step - loss: 0.4912 - accuracy: 0.7365 - val_loss: 0.5321 - val_accuracy: 0.7177\n",
            "Epoch 90/100\n",
            "1334/1334 [==============================] - 13s 10ms/step - loss: 0.4921 - accuracy: 0.7311 - val_loss: 0.5276 - val_accuracy: 0.7177\n",
            "Epoch 91/100\n",
            "1334/1334 [==============================] - 12s 9ms/step - loss: 0.4907 - accuracy: 0.7381 - val_loss: 0.5411 - val_accuracy: 0.7190\n",
            "Epoch 92/100\n",
            "1334/1334 [==============================] - 12s 9ms/step - loss: 0.4888 - accuracy: 0.7344 - val_loss: 0.5379 - val_accuracy: 0.7194\n",
            "Epoch 93/100\n",
            "1334/1334 [==============================] - 12s 9ms/step - loss: 0.4900 - accuracy: 0.7359 - val_loss: 0.5344 - val_accuracy: 0.7156\n",
            "Epoch 94/100\n",
            "1334/1334 [==============================] - 12s 9ms/step - loss: 0.4929 - accuracy: 0.7344 - val_loss: 0.5320 - val_accuracy: 0.7179\n",
            "Epoch 95/100\n",
            "1334/1334 [==============================] - 12s 9ms/step - loss: 0.4903 - accuracy: 0.7391 - val_loss: 0.5295 - val_accuracy: 0.7172\n",
            "Epoch 96/100\n",
            "1334/1334 [==============================] - 13s 9ms/step - loss: 0.4915 - accuracy: 0.7353 - val_loss: 0.5410 - val_accuracy: 0.7181\n",
            "Epoch 97/100\n",
            "1334/1334 [==============================] - 12s 9ms/step - loss: 0.4933 - accuracy: 0.7366 - val_loss: 0.5299 - val_accuracy: 0.7149\n",
            "Epoch 98/100\n",
            "1334/1334 [==============================] - 13s 9ms/step - loss: 0.4823 - accuracy: 0.7429 - val_loss: 0.5301 - val_accuracy: 0.7197\n",
            "Epoch 99/100\n",
            "1334/1334 [==============================] - 12s 9ms/step - loss: 0.4873 - accuracy: 0.7382 - val_loss: 0.5301 - val_accuracy: 0.7175\n",
            "Epoch 100/100\n",
            "1334/1334 [==============================] - 12s 9ms/step - loss: 0.4883 - accuracy: 0.7369 - val_loss: 0.5303 - val_accuracy: 0.7133\n",
            "Fold 3, 100 epochs, 1243 sec\n"
          ],
          "name": "stdout"
        },
        {
          "output_type": "display_data",
          "data": {
            "image/png": "[encoded data removed]",
            "text/plain": [
              "<Figure size 576x360 with 1 Axes>"
            ]
          },
          "metadata": {
            "tags": [],
            "needs_background": "light"
          }
        }
      ]
    },
    {
      "cell_type": "code",
      "metadata": {
        "id": "e-jG1h5fj2Ua",
        "colab": {
          "base_uri": "https://localhost:8080/"
        },
        "outputId": "f2a50454-577a-4233-9362-bdd0f20f9e98"
      },
      "source": [
        "from keras.models import load_model\n",
        "X,y = prepare_inputs_len_x_alphabet(pc_test,nc_test,ALPHABET)\n",
        "best_model=load_model(MODELPATH)\n",
        "scores = best_model.evaluate(X, y, verbose=0)\n",
        "print(\"The best model parameters were saved during cross-validation.\")\n",
        "print(\"Best was defined as maximum validation accuracy at end of any epoch.\")\n",
        "print(\"Now re-load the best model and test it on previously unseen data.\")\n",
        "print(\"Test on\",len(pc_test),\"PC seqs\")\n",
        "print(\"Test on\",len(nc_test),\"NC seqs\")\n",
        "print(\"%s: %.2f%%\" % (best_model.metrics_names[1], scores[1]*100))\n"
      ],
      "execution_count": 23,
      "outputs": [
        {
          "output_type": "stream",
          "text": [
            "The best model parameters were saved during cross-validation.\n",
            "Best was defined as maximum validation accuracy at end of any epoch.\n",
            "Now re-load the best model and test it on previously unseen data.\n",
            "Test on 1000 PC seqs\n",
            "Test on 1000 NC seqs\n",
            "accuracy: 72.95%\n"
          ],
          "name": "stdout"
        }
      ]
    },
    {
      "cell_type": "code",
      "metadata": {
        "id": "VycUnmvUj2Ue",
        "colab": {
          "base_uri": "https://localhost:8080/",
          "height": 312
        },
        "outputId": "cf39061c-5dd9-42aa-b9ba-d71da8cdd462"
      },
      "source": [
        "from sklearn.metrics import roc_curve\n",
        "from sklearn.metrics import roc_auc_score\n",
        "ns_probs = [0 for _ in range(len(y))]\n",
        "bm_probs = best_model.predict(X)\n",
        "ns_auc = roc_auc_score(y, ns_probs)\n",
        "bm_auc = roc_auc_score(y, bm_probs)\n",
        "ns_fpr, ns_tpr, _ = roc_curve(y, ns_probs)\n",
        "bm_fpr, bm_tpr, _ = roc_curve(y, bm_probs)\n",
        "plt.plot(ns_fpr, ns_tpr, linestyle='--', label='Guess, auc=%.4f'%ns_auc)\n",
        "plt.plot(bm_fpr, bm_tpr, marker='.', label='Model, auc=%.4f'%bm_auc)\n",
        "plt.title('ROC')\n",
        "plt.xlabel('False Positive Rate')\n",
        "plt.ylabel('True Positive Rate')\n",
        "plt.legend()\n",
        "plt.show()\n",
        "print(\"%s: %.2f%%\" %('AUC',bm_auc*100.0))\n"
      ],
      "execution_count": 24,
      "outputs": [
        {
          "output_type": "display_data",
          "data": {
            "image/png": "[encoded data removed]",
            "text/plain": [
              "<Figure size 432x288 with 1 Axes>"
            ]
          },
          "metadata": {
            "tags": [],
            "needs_background": "light"
          }
        },
        {
          "output_type": "stream",
          "text": [
            "AUC: 81.18%\n"
          ],
          "name": "stdout"
        }
      ]
    },
    {
      "cell_type": "code",
      "metadata": {
        "id": "kFMb6rGNj2Ug",
        "colab": {
          "base_uri": "https://localhost:8080/",
          "height": 36
        },
        "outputId": "55a3cb34-f2de-4efe-8b20-191e6a636d35"
      },
      "source": [
        "t = time.time()\n",
        "time.strftime('%Y-%m-%d %H:%M:%S %Z', time.localtime(t))"
      ],
      "execution_count": 25,
      "outputs": [
        {
          "output_type": "execute_result",
          "data": {
            "application/vnd.google.colaboratory.intrinsic+json": {
              "type": "string"
            },
            "text/plain": [
              "'2021-06-17 19:37:41 UTC'"
            ]
          },
          "metadata": {
            "tags": []
          },
          "execution_count": 25
        }
      ]
    },
    {
      "cell_type": "code",
      "metadata": {
        "id": "e-mEgDrQjUzF"
      },
      "source": [
        ""
      ],
      "execution_count": 25,
      "outputs": []
    }
  ]
}