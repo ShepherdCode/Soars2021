{
 "cells": [
  {
   "cell_type": "markdown",
   "metadata": {
    "id": "0asdcdunj2Tx"
   },
   "source": [
    "# ORF recognition by CNN\n",
    "\n",
    "In 105, we used Conv1D layers with filter width=3 with dropout to reduce overfitting. The simulated RNA lengths were 1000.\n",
    "\n",
    "In 107, we showed CNN recognized frameshift with 4 Conv1D layers. Now try 2 layers."
   ]
  },
  {
   "cell_type": "code",
   "execution_count": 1,
   "metadata": {
    "colab": {
     "base_uri": "https://localhost:8080/",
     "height": 36
    },
    "id": "QP1VTRNQj2UO",
    "outputId": "e9166a3f-7fbe-40fe-ef5e-455859ae2c5a"
   },
   "outputs": [
    {
     "data": {
      "text/plain": [
       "'2021-06-11 09:54:06 EDT'"
      ]
     },
     "execution_count": 1,
     "metadata": {},
     "output_type": "execute_result"
    }
   ],
   "source": [
    "import time \n",
    "t = time.time()\n",
    "time.strftime('%Y-%m-%d %H:%M:%S %Z', time.localtime(t))"
   ]
  },
  {
   "cell_type": "code",
   "execution_count": 2,
   "metadata": {
    "id": "Nhz4GKonj2T_"
   },
   "outputs": [],
   "source": [
    "PC_SEQUENCES=2000   # how many protein-coding sequences\n",
    "NC_SEQUENCES=2000   # how many non-coding sequences\n",
    "PC_TESTS=1000\n",
    "NC_TESTS=1000\n",
    "RNA_LEN=21            # how long is each sequence\n",
    "CDS_LEN=15\n",
    "ALPHABET=4          # how many different letters are possible\n",
    "INPUT_SHAPE_2D = (RNA_LEN,ALPHABET,1) # Conv2D needs 3D inputs\n",
    "INPUT_SHAPE = (RNA_LEN,ALPHABET) # Conv1D needs 2D inputs\n",
    "FILTERS = 16   # how many different patterns the model looks for\n",
    "NEURONS = 16\n",
    "DROP_RATE = 0.2\n",
    "WIDTH = 3   # how wide each pattern is, in bases\n",
    "STRIDE_2D = (1,1)  # For Conv2D how far in each direction\n",
    "STRIDE = 1 # For Conv1D, how far between pattern matches, in bases\n",
    "EPOCHS=25  # how many times to train on all the data\n",
    "SPLITS=5  # SPLITS=3 means train on 2/3 and validate on 1/3 \n",
    "FOLDS=5  # train the model this many times (range 1 to SPLITS)"
   ]
  },
  {
   "cell_type": "code",
   "execution_count": 3,
   "metadata": {
    "colab": {
     "base_uri": "https://localhost:8080/"
    },
    "id": "lr7q90rxj2UE",
    "outputId": "d290b5f3-7290-4683-d2ce-3fd9bb605fd6"
   },
   "outputs": [
    {
     "name": "stdout",
     "output_type": "stream",
     "text": [
      "CoLab not working. On my PC, use relative paths.\n"
     ]
    }
   ],
   "source": [
    "import sys\n",
    "try:\n",
    "    from google.colab import drive\n",
    "    IN_COLAB = True\n",
    "    print(\"On Google CoLab, mount cloud-local file, get our code from GitHub.\")\n",
    "    PATH='/content/drive/'\n",
    "    #drive.mount(PATH,force_remount=True)  # hardly ever need this\n",
    "    #drive.mount(PATH)    # Google will require login credentials\n",
    "    DATAPATH=PATH+'My Drive/data/'  # must end in \"/\"\n",
    "    import requests\n",
    "    r = requests.get('https://raw.githubusercontent.com/ShepherdCode/Soars2021/master/SimTools/RNA_gen.py')\n",
    "    with open('RNA_gen.py', 'w') as f:\n",
    "        f.write(r.text)  \n",
    "    from RNA_gen import *\n",
    "    r = requests.get('https://raw.githubusercontent.com/ShepherdCode/Soars2021/master/SimTools/RNA_describe.py')\n",
    "    with open('RNA_describe.py', 'w') as f:\n",
    "        f.write(r.text)  \n",
    "    from RNA_describe import ORF_counter\n",
    "    r = requests.get('https://raw.githubusercontent.com/ShepherdCode/Soars2021/master/SimTools/RNA_prep.py')\n",
    "    with open('RNA_prep.py', 'w') as f:\n",
    "        f.write(r.text)  \n",
    "    from RNA_prep import *\n",
    "except:\n",
    "    print(\"CoLab not working. On my PC, use relative paths.\")\n",
    "    IN_COLAB = False\n",
    "    DATAPATH='data/'  # must end in \"/\"\n",
    "    sys.path.append(\"..\") # append parent dir in order to use sibling dirs\n",
    "    from SimTools.RNA_gen import *\n",
    "    from SimTools.RNA_describe import ORF_counter\n",
    "    from SimTools.RNA_prep import *\n",
    "\n",
    "MODELPATH=\"BestModel\"  # saved on cloud instance and lost after logout\n",
    "#MODELPATH=DATAPATH+MODELPATH  # saved on Google Drive but requires login\n",
    "\n",
    "if not assert_imported_RNA_gen():\n",
    "    print(\"ERROR: Cannot use RNA_gen.\")\n",
    "if not assert_imported_RNA_prep():\n",
    "    print(\"ERROR: Cannot use RNA_prep.\")"
   ]
  },
  {
   "cell_type": "code",
   "execution_count": 4,
   "metadata": {
    "id": "EGDXH8Uwj2UM"
   },
   "outputs": [],
   "source": [
    "from os import listdir\n",
    "import csv\n",
    "from zipfile import ZipFile\n",
    "\n",
    "import numpy as np\n",
    "import pandas as pd\n",
    "from scipy import stats  # mode\n",
    "\n",
    "from sklearn.preprocessing import StandardScaler\n",
    "from sklearn.model_selection import KFold\n",
    "from sklearn.model_selection import cross_val_score\n",
    "\n",
    "from keras.models import Sequential\n",
    "from keras.layers import Dense,Embedding,Dropout\n",
    "from keras.layers import Conv1D,Conv2D\n",
    "from keras.layers import Flatten,MaxPooling1D,MaxPooling2D\n",
    "from keras.losses import BinaryCrossentropy\n",
    "# tf.keras.losses.BinaryCrossentropy\n",
    "\n",
    "import matplotlib.pyplot as plt\n",
    "from matplotlib import colors\n",
    "mycmap = colors.ListedColormap(['red','blue'])  # list color for label 0 then 1\n",
    "np.set_printoptions(precision=2)\n"
   ]
  },
  {
   "cell_type": "code",
   "execution_count": 5,
   "metadata": {
    "colab": {
     "base_uri": "https://localhost:8080/"
    },
    "id": "Q0FetlLPj2UQ",
    "outputId": "daa0b885-e583-4777-ea45-c7ff97dcc215"
   },
   "outputs": [
    {
     "name": "stdout",
     "output_type": "stream",
     "text": [
      "Use 3000 PC seqs\n",
      "Use 3000 NC seqs\n"
     ]
    }
   ],
   "source": [
    "# Use code from our SimTools library.\n",
    "def make_generators(seq_len,cds_len):\n",
    "    pcgen = Collection_Generator()  \n",
    "    pcgen.get_len_oracle().set_mean(seq_len)\n",
    "    tora = Transcript_Oracle()\n",
    "    tora.set_cds_len_mean(cds_len)  \n",
    "    pcgen.set_seq_oracle(tora)\n",
    "    ncgen = Collection_Generator()  \n",
    "    ncgen.get_len_oracle().set_mean(seq_len)\n",
    "    return pcgen,ncgen\n",
    "\n",
    "pc_sim,nc_sim = make_generators(RNA_LEN-1,CDS_LEN)  # subtract one since we insert one later\n",
    "pc_all = pc_sim.get_sequences(PC_SEQUENCES+PC_TESTS)\n",
    "nc_all = pc_sim.get_sequences(NC_SEQUENCES+NC_TESTS) # YES, pc_sim!\n",
    "print(\"Use\",len(pc_all),\"PC seqs\")\n",
    "print(\"Use\",len(nc_all),\"NC seqs\")"
   ]
  },
  {
   "cell_type": "code",
   "execution_count": 6,
   "metadata": {
    "colab": {
     "base_uri": "https://localhost:8080/"
    },
    "id": "Q-BmSXi2jUyl",
    "outputId": "11617ec3-c67f-4db3-feb3-8d5ea1071536"
   },
   "outputs": [
    {
     "name": "stdout",
     "output_type": "stream",
     "text": [
      "Simulated sequences prior to adjustment:\n",
      "PC seqs\n",
      "Average RNA length: 20.0\n",
      "Average CDS length: 13.896\n",
      "NC seqs\n",
      "Average RNA length: 20.0\n",
      "Average CDS length: 13.942\n"
     ]
    }
   ],
   "source": [
    "# Describe the sequences\n",
    "def describe_sequences(list_of_seq):\n",
    "    oc = ORF_counter()\n",
    "    num_seq = len(list_of_seq)\n",
    "    rna_lens = np.zeros(num_seq)\n",
    "    cds_lens = np.zeros(num_seq)\n",
    "    for i in range(0,num_seq):\n",
    "        rna_len = len(list_of_seq[i])\n",
    "        rna_lens[i] = rna_len\n",
    "        oc.set_sequence(list_of_seq[i])\n",
    "        cds_lens[i] = oc.get_max_cds_len()\n",
    "    print (\"Average RNA length:\",rna_lens.mean())\n",
    "    print (\"Average CDS length:\",cds_lens.mean())\n",
    "    \n",
    "print(\"Simulated sequences prior to adjustment:\")\n",
    "print(\"PC seqs\")\n",
    "describe_sequences(pc_all)\n",
    "print(\"NC seqs\")\n",
    "describe_sequences(nc_all)"
   ]
  },
  {
   "cell_type": "code",
   "execution_count": 7,
   "metadata": {
    "colab": {
     "base_uri": "https://localhost:8080/"
    },
    "id": "3EZPYhU3jUyp",
    "outputId": "63ae7c93-e893-4bf4-e97f-474cb00568f3"
   },
   "outputs": [
    {
     "name": "stdout",
     "output_type": "stream",
     "text": [
      "Simulated sequences after adjustment:\n",
      "PC train\n",
      "Average RNA length: 21.0\n",
      "Average CDS length: 13.919\n",
      "NC train\n",
      "Average RNA length: 21.0\n",
      "Average CDS length: 3.815\n"
     ]
    }
   ],
   "source": [
    "import random\n",
    "def alter_sequences(list_of_seq,center): \n",
    "    global next_pos,bases\n",
    "    new_list = []\n",
    "    for S in list_of_seq:\n",
    "        seq_len = len(S)\n",
    "        next_left = True\n",
    "        next_base = random.choice(['A','C','G','T'])\n",
    "        new_seq=\"\"\n",
    "        if center:\n",
    "            half=seq_len//2\n",
    "            new_seq=S[0:half]+next_base+S[half:]\n",
    "        else:\n",
    "            if next_left:\n",
    "                new_seq=next_base+S\n",
    "            else:\n",
    "                new_seq=S+next_base \n",
    "            next_left = not next_left\n",
    "        new_list.append(new_seq)\n",
    "    return new_list\n",
    "pc_all = alter_sequences(pc_all,False)\n",
    "nc_all = alter_sequences(nc_all,True)\n",
    "\n",
    "print(\"Simulated sequences after adjustment:\")\n",
    "print(\"PC train\")\n",
    "describe_sequences(pc_all)\n",
    "print(\"NC train\")\n",
    "describe_sequences(nc_all)"
   ]
  },
  {
   "cell_type": "code",
   "execution_count": 8,
   "metadata": {
    "id": "iP1y7-J3jUys"
   },
   "outputs": [],
   "source": [
    "pc_train=pc_all[:PC_SEQUENCES]\n",
    "nc_train=nc_all[:NC_SEQUENCES]\n",
    "pc_test=pc_all[PC_SEQUENCES:]\n",
    "nc_test=nc_all[NC_SEQUENCES:]"
   ]
  },
  {
   "cell_type": "code",
   "execution_count": 9,
   "metadata": {
    "colab": {
     "base_uri": "https://localhost:8080/"
    },
    "id": "CIpTrnH6j2US",
    "outputId": "7826e6fc-ba25-46d8-ed08-db2edbf8f3ff"
   },
   "outputs": [
    {
     "name": "stdout",
     "output_type": "stream",
     "text": [
      "Data ready.\n"
     ]
    }
   ],
   "source": [
    "# Use code from our SimTools library.\n",
    "X,y = prepare_inputs_len_x_alphabet(pc_train,nc_train,ALPHABET) # shuffles\n",
    "print(\"Data ready.\")"
   ]
  },
  {
   "cell_type": "code",
   "execution_count": 10,
   "metadata": {
    "colab": {
     "base_uri": "https://localhost:8080/"
    },
    "id": "7NvrVU8ij2UU",
    "outputId": "e9b04158-c3d9-476d-c53c-ab97ce156600"
   },
   "outputs": [
    {
     "name": "stdout",
     "output_type": "stream",
     "text": [
      "make_DNN\n",
      "input shape: (21, 4)\n",
      "Model: \"sequential\"\n",
      "_________________________________________________________________\n",
      "Layer (type)                 Output Shape              Param #   \n",
      "=================================================================\n",
      "conv1d (Conv1D)              (None, 21, 16)            208       \n",
      "_________________________________________________________________\n",
      "conv1d_1 (Conv1D)            (None, 21, 16)            784       \n",
      "_________________________________________________________________\n",
      "max_pooling1d (MaxPooling1D) (None, 10, 16)            0         \n",
      "_________________________________________________________________\n",
      "flatten (Flatten)            (None, 160)               0         \n",
      "_________________________________________________________________\n",
      "dense (Dense)                (None, 16)                2576      \n",
      "_________________________________________________________________\n",
      "dropout (Dropout)            (None, 16)                0         \n",
      "_________________________________________________________________\n",
      "dense_1 (Dense)              (None, 1)                 17        \n",
      "=================================================================\n",
      "Total params: 3,585\n",
      "Trainable params: 3,585\n",
      "Non-trainable params: 0\n",
      "_________________________________________________________________\n",
      "None\n"
     ]
    }
   ],
   "source": [
    "def make_DNN():\n",
    "    print(\"make_DNN\")\n",
    "    print(\"input shape:\",INPUT_SHAPE)\n",
    "    dnn = Sequential()\n",
    "    #dnn.add(Embedding(input_dim=INPUT_SHAPE,output_dim=INPUT_SHAPE)) \n",
    "    dnn.add(Conv1D(filters=FILTERS,kernel_size=WIDTH,strides=STRIDE,padding=\"same\",\n",
    "            input_shape=INPUT_SHAPE))\n",
    "    dnn.add(Conv1D(filters=FILTERS,kernel_size=WIDTH,strides=STRIDE,padding=\"same\"))\n",
    "    dnn.add(MaxPooling1D())\n",
    "    #dnn.add(Conv1D(filters=FILTERS,kernel_size=WIDTH,strides=STRIDE,padding=\"same\"))\n",
    "    #dnn.add(Conv1D(filters=FILTERS,kernel_size=WIDTH,strides=STRIDE,padding=\"same\"))\n",
    "    #dnn.add(MaxPooling1D())\n",
    "    dnn.add(Flatten())\n",
    "    dnn.add(Dense(NEURONS,activation=\"sigmoid\",dtype=np.float32))   \n",
    "    dnn.add(Dropout(DROP_RATE))\n",
    "    dnn.add(Dense(1,activation=\"sigmoid\",dtype=np.float32))   \n",
    "    dnn.compile(optimizer='adam',\n",
    "                loss=BinaryCrossentropy(from_logits=False),\n",
    "                metrics=['accuracy'])   # add to default metrics=loss\n",
    "    dnn.build(input_shape=INPUT_SHAPE)\n",
    "    #ln_rate = tf.keras.optimizers.Adam(learning_rate = LN_RATE)\n",
    "    #bc=tf.keras.losses.BinaryCrossentropy(from_logits=False)\n",
    "    #model.compile(loss=bc, optimizer=ln_rate, metrics=[\"accuracy\"])\n",
    "    return dnn\n",
    "model = make_DNN()\n",
    "print(model.summary())"
   ]
  },
  {
   "cell_type": "code",
   "execution_count": 11,
   "metadata": {
    "id": "nlVF0hR3j2UW"
   },
   "outputs": [],
   "source": [
    "from keras.callbacks import ModelCheckpoint\n",
    "def do_cross_validation(X,y):\n",
    "    cv_scores = []\n",
    "    fold=0\n",
    "    mycallbacks = [ModelCheckpoint(\n",
    "        filepath=MODELPATH, save_best_only=True, \n",
    "        monitor='val_accuracy', mode='max')]   \n",
    "    splitter = KFold(n_splits=SPLITS)  # this does not shuffle\n",
    "    for train_index,valid_index in splitter.split(X):\n",
    "        if fold < FOLDS:\n",
    "            fold += 1\n",
    "            X_train=X[train_index] # inputs for training\n",
    "            y_train=y[train_index] # labels for training\n",
    "            X_valid=X[valid_index] # inputs for validation\n",
    "            y_valid=y[valid_index] # labels for validation\n",
    "            print(\"MODEL\")\n",
    "            # Call constructor on each CV. Else, continually improves the same model.\n",
    "            model = model = make_DNN()\n",
    "            print(\"FIT\")  # model.fit() implements learning\n",
    "            start_time=time.time()\n",
    "            history=model.fit(X_train, y_train, \n",
    "                    epochs=EPOCHS, \n",
    "                    verbose=1,  # ascii art while learning\n",
    "                    callbacks=mycallbacks,   # called at end of each epoch\n",
    "                    validation_data=(X_valid,y_valid))\n",
    "            end_time=time.time()\n",
    "            elapsed_time=(end_time-start_time)                        \n",
    "            print(\"Fold %d, %d epochs, %d sec\"%(fold,EPOCHS,elapsed_time))\n",
    "            # print(history.history.keys())  # all these keys will be shown in figure\n",
    "            pd.DataFrame(history.history).plot(figsize=(8,5))\n",
    "            plt.grid(True)\n",
    "            plt.gca().set_ylim(0,1) # any losses > 1 will be off the scale\n",
    "            plt.show()\n"
   ]
  },
  {
   "cell_type": "code",
   "execution_count": 12,
   "metadata": {
    "colab": {
     "base_uri": "https://localhost:8080/",
     "height": 1000
    },
    "id": "9Ggt4EsSj2UY",
    "outputId": "07817ba2-d9c1-4f4c-f59e-bad59c528287"
   },
   "outputs": [
    {
     "name": "stdout",
     "output_type": "stream",
     "text": [
      "MODEL\n",
      "make_DNN\n",
      "input shape: (21, 4)\n",
      "FIT\n",
      "Epoch 1/25\n",
      "100/100 [==============================] - 2s 15ms/step - loss: 0.6888 - accuracy: 0.5427 - val_loss: 0.5474 - val_accuracy: 0.8138\n",
      "INFO:tensorflow:Assets written to: BestModel/assets\n",
      "Epoch 2/25\n",
      "100/100 [==============================] - 0s 5ms/step - loss: 0.4811 - accuracy: 0.8226 - val_loss: 0.3566 - val_accuracy: 0.8637\n",
      "INFO:tensorflow:Assets written to: BestModel/assets\n",
      "Epoch 3/25\n",
      "100/100 [==============================] - 1s 5ms/step - loss: 0.3166 - accuracy: 0.8885 - val_loss: 0.2776 - val_accuracy: 0.8925\n",
      "INFO:tensorflow:Assets written to: BestModel/assets\n",
      "Epoch 4/25\n",
      "100/100 [==============================] - 0s 5ms/step - loss: 0.2345 - accuracy: 0.9232 - val_loss: 0.2178 - val_accuracy: 0.9237\n",
      "INFO:tensorflow:Assets written to: BestModel/assets\n",
      "Epoch 5/25\n",
      "100/100 [==============================] - 0s 5ms/step - loss: 0.1821 - accuracy: 0.9428 - val_loss: 0.1922 - val_accuracy: 0.9350\n",
      "INFO:tensorflow:Assets written to: BestModel/assets\n",
      "Epoch 6/25\n",
      "100/100 [==============================] - 0s 5ms/step - loss: 0.1623 - accuracy: 0.9498 - val_loss: 0.1619 - val_accuracy: 0.9475\n",
      "INFO:tensorflow:Assets written to: BestModel/assets\n",
      "Epoch 7/25\n",
      "100/100 [==============================] - 0s 5ms/step - loss: 0.1322 - accuracy: 0.9636 - val_loss: 0.1462 - val_accuracy: 0.9538\n",
      "INFO:tensorflow:Assets written to: BestModel/assets\n",
      "Epoch 8/25\n",
      "100/100 [==============================] - 0s 5ms/step - loss: 0.1141 - accuracy: 0.9681 - val_loss: 0.1319 - val_accuracy: 0.9550\n",
      "INFO:tensorflow:Assets written to: BestModel/assets\n",
      "Epoch 9/25\n",
      "100/100 [==============================] - 0s 5ms/step - loss: 0.1069 - accuracy: 0.9664 - val_loss: 0.1173 - val_accuracy: 0.9575\n",
      "INFO:tensorflow:Assets written to: BestModel/assets\n",
      "Epoch 10/25\n",
      "100/100 [==============================] - 0s 5ms/step - loss: 0.0903 - accuracy: 0.9743 - val_loss: 0.1102 - val_accuracy: 0.9625\n",
      "INFO:tensorflow:Assets written to: BestModel/assets\n",
      "Epoch 11/25\n",
      "100/100 [==============================] - 0s 5ms/step - loss: 0.0780 - accuracy: 0.9796 - val_loss: 0.1004 - val_accuracy: 0.9650\n",
      "INFO:tensorflow:Assets written to: BestModel/assets\n",
      "Epoch 12/25\n",
      "100/100 [==============================] - 0s 5ms/step - loss: 0.0656 - accuracy: 0.9866 - val_loss: 0.0965 - val_accuracy: 0.9712\n",
      "INFO:tensorflow:Assets written to: BestModel/assets\n",
      "Epoch 13/25\n",
      "100/100 [==============================] - 0s 5ms/step - loss: 0.0660 - accuracy: 0.9840 - val_loss: 0.0896 - val_accuracy: 0.9762\n",
      "INFO:tensorflow:Assets written to: BestModel/assets\n",
      "Epoch 14/25\n",
      "100/100 [==============================] - 0s 5ms/step - loss: 0.0679 - accuracy: 0.9855 - val_loss: 0.0838 - val_accuracy: 0.9762\n",
      "Epoch 15/25\n",
      "100/100 [==============================] - 0s 5ms/step - loss: 0.0586 - accuracy: 0.9844 - val_loss: 0.0788 - val_accuracy: 0.9775\n",
      "INFO:tensorflow:Assets written to: BestModel/assets\n",
      "Epoch 16/25\n",
      "100/100 [==============================] - 0s 5ms/step - loss: 0.0520 - accuracy: 0.9924 - val_loss: 0.0746 - val_accuracy: 0.9800\n",
      "INFO:tensorflow:Assets written to: BestModel/assets\n",
      "Epoch 17/25\n",
      "100/100 [==============================] - 0s 5ms/step - loss: 0.0446 - accuracy: 0.9907 - val_loss: 0.0731 - val_accuracy: 0.9800\n",
      "Epoch 18/25\n",
      "100/100 [==============================] - 0s 5ms/step - loss: 0.0406 - accuracy: 0.9939 - val_loss: 0.0711 - val_accuracy: 0.9812\n",
      "INFO:tensorflow:Assets written to: BestModel/assets\n",
      "Epoch 19/25\n",
      "100/100 [==============================] - 0s 5ms/step - loss: 0.0371 - accuracy: 0.9930 - val_loss: 0.0681 - val_accuracy: 0.9812\n",
      "Epoch 20/25\n",
      "100/100 [==============================] - 1s 5ms/step - loss: 0.0324 - accuracy: 0.9965 - val_loss: 0.0689 - val_accuracy: 0.9787\n",
      "Epoch 21/25\n",
      "100/100 [==============================] - 0s 5ms/step - loss: 0.0355 - accuracy: 0.9935 - val_loss: 0.0678 - val_accuracy: 0.9800\n",
      "Epoch 22/25\n",
      "100/100 [==============================] - 0s 5ms/step - loss: 0.0386 - accuracy: 0.9920 - val_loss: 0.0614 - val_accuracy: 0.9812\n",
      "Epoch 23/25\n",
      "100/100 [==============================] - 0s 5ms/step - loss: 0.0317 - accuracy: 0.9948 - val_loss: 0.0610 - val_accuracy: 0.9837\n",
      "INFO:tensorflow:Assets written to: BestModel/assets\n",
      "Epoch 24/25\n",
      "100/100 [==============================] - 0s 5ms/step - loss: 0.0332 - accuracy: 0.9912 - val_loss: 0.0621 - val_accuracy: 0.9812\n",
      "Epoch 25/25\n",
      "100/100 [==============================] - 0s 5ms/step - loss: 0.0256 - accuracy: 0.9962 - val_loss: 0.0608 - val_accuracy: 0.9837\n",
      "Fold 1, 25 epochs, 31 sec\n"
     ]
    },
    {
     "data": {
      "image/png": "[encoded data removed]",
      "text/plain": [
       "<Figure size 576x360 with 1 Axes>"
      ]
     },
     "metadata": {
      "needs_background": "light"
     },
     "output_type": "display_data"
    },
    {
     "name": "stdout",
     "output_type": "stream",
     "text": [
      "MODEL\n",
      "make_DNN\n",
      "input shape: (21, 4)\n",
      "FIT\n",
      "Epoch 1/25\n",
      "100/100 [==============================] - 1s 6ms/step - loss: 0.6891 - accuracy: 0.5575 - val_loss: 0.5636 - val_accuracy: 0.8075\n",
      "Epoch 2/25\n",
      "100/100 [==============================] - 0s 4ms/step - loss: 0.5138 - accuracy: 0.7876 - val_loss: 0.3430 - val_accuracy: 0.8838\n",
      "Epoch 3/25\n",
      "100/100 [==============================] - 0s 4ms/step - loss: 0.3308 - accuracy: 0.8900 - val_loss: 0.2547 - val_accuracy: 0.9262\n",
      "Epoch 4/25\n",
      "100/100 [==============================] - 0s 4ms/step - loss: 0.2671 - accuracy: 0.9143 - val_loss: 0.1820 - val_accuracy: 0.9575\n",
      "Epoch 5/25\n",
      "100/100 [==============================] - 0s 5ms/step - loss: 0.2060 - accuracy: 0.9394 - val_loss: 0.1391 - val_accuracy: 0.9650\n",
      "Epoch 6/25\n",
      "100/100 [==============================] - 0s 4ms/step - loss: 0.1674 - accuracy: 0.9471 - val_loss: 0.1096 - val_accuracy: 0.9825\n",
      "Epoch 7/25\n",
      "100/100 [==============================] - 0s 4ms/step - loss: 0.1243 - accuracy: 0.9692 - val_loss: 0.0990 - val_accuracy: 0.9850\n",
      "INFO:tensorflow:Assets written to: BestModel/assets\n",
      "Epoch 8/25\n",
      "100/100 [==============================] - 1s 5ms/step - loss: 0.1213 - accuracy: 0.9672 - val_loss: 0.0808 - val_accuracy: 0.9887\n",
      "INFO:tensorflow:Assets written to: BestModel/assets\n",
      "Epoch 9/25\n",
      "100/100 [==============================] - 0s 4ms/step - loss: 0.0990 - accuracy: 0.9770 - val_loss: 0.0726 - val_accuracy: 0.9912\n",
      "INFO:tensorflow:Assets written to: BestModel/assets\n",
      "Epoch 10/25\n",
      "100/100 [==============================] - 0s 4ms/step - loss: 0.0902 - accuracy: 0.9820 - val_loss: 0.0666 - val_accuracy: 0.9887\n",
      "Epoch 11/25\n",
      "100/100 [==============================] - 0s 5ms/step - loss: 0.0739 - accuracy: 0.9876 - val_loss: 0.0582 - val_accuracy: 0.9925\n",
      "INFO:tensorflow:Assets written to: BestModel/assets\n",
      "Epoch 12/25\n",
      "100/100 [==============================] - 0s 5ms/step - loss: 0.0826 - accuracy: 0.9801 - val_loss: 0.0555 - val_accuracy: 0.9937\n",
      "INFO:tensorflow:Assets written to: BestModel/assets\n",
      "Epoch 13/25\n",
      "100/100 [==============================] - 0s 5ms/step - loss: 0.0656 - accuracy: 0.9866 - val_loss: 0.0522 - val_accuracy: 0.9937\n",
      "Epoch 14/25\n",
      "100/100 [==============================] - 0s 5ms/step - loss: 0.0625 - accuracy: 0.9851 - val_loss: 0.0479 - val_accuracy: 0.9925\n",
      "Epoch 15/25\n",
      "100/100 [==============================] - 0s 5ms/step - loss: 0.0671 - accuracy: 0.9879 - val_loss: 0.0446 - val_accuracy: 0.9925\n",
      "Epoch 16/25\n",
      "100/100 [==============================] - 0s 5ms/step - loss: 0.0545 - accuracy: 0.9915 - val_loss: 0.0466 - val_accuracy: 0.9912\n",
      "Epoch 17/25\n",
      "100/100 [==============================] - 0s 5ms/step - loss: 0.0432 - accuracy: 0.9909 - val_loss: 0.0413 - val_accuracy: 0.9925\n",
      "Epoch 18/25\n",
      "100/100 [==============================] - 0s 5ms/step - loss: 0.0453 - accuracy: 0.9932 - val_loss: 0.0407 - val_accuracy: 0.9925\n",
      "Epoch 19/25\n",
      "100/100 [==============================] - 0s 5ms/step - loss: 0.0511 - accuracy: 0.9923 - val_loss: 0.0398 - val_accuracy: 0.9925\n",
      "Epoch 20/25\n",
      "100/100 [==============================] - 0s 5ms/step - loss: 0.0447 - accuracy: 0.9926 - val_loss: 0.0354 - val_accuracy: 0.9937\n",
      "Epoch 21/25\n",
      "100/100 [==============================] - 0s 5ms/step - loss: 0.0475 - accuracy: 0.9927 - val_loss: 0.0348 - val_accuracy: 0.9937\n",
      "Epoch 22/25\n",
      "100/100 [==============================] - 1s 5ms/step - loss: 0.0361 - accuracy: 0.9930 - val_loss: 0.0344 - val_accuracy: 0.9950\n",
      "INFO:tensorflow:Assets written to: BestModel/assets\n",
      "Epoch 23/25\n",
      "100/100 [==============================] - 0s 5ms/step - loss: 0.0496 - accuracy: 0.9919 - val_loss: 0.0334 - val_accuracy: 0.9937\n",
      "Epoch 24/25\n",
      "100/100 [==============================] - 0s 5ms/step - loss: 0.0330 - accuracy: 0.9944 - val_loss: 0.0328 - val_accuracy: 0.9937\n",
      "Epoch 25/25\n",
      "100/100 [==============================] - 0s 5ms/step - loss: 0.0314 - accuracy: 0.9960 - val_loss: 0.0338 - val_accuracy: 0.9937\n",
      "Fold 2, 25 epochs, 18 sec\n"
     ]
    },
    {
     "data": {
      "image/png": "[encoded data removed]",
      "text/plain": [
       "<Figure size 576x360 with 1 Axes>"
      ]
     },
     "metadata": {
      "needs_background": "light"
     },
     "output_type": "display_data"
    },
    {
     "name": "stdout",
     "output_type": "stream",
     "text": [
      "MODEL\n",
      "make_DNN\n",
      "input shape: (21, 4)\n",
      "FIT\n",
      "Epoch 1/25\n",
      "100/100 [==============================] - 1s 6ms/step - loss: 0.6800 - accuracy: 0.5704 - val_loss: 0.5676 - val_accuracy: 0.8050\n",
      "Epoch 2/25\n",
      "100/100 [==============================] - 0s 5ms/step - loss: 0.5088 - accuracy: 0.8028 - val_loss: 0.3646 - val_accuracy: 0.8587\n",
      "Epoch 3/25\n",
      "100/100 [==============================] - 0s 5ms/step - loss: 0.3522 - accuracy: 0.8707 - val_loss: 0.2924 - val_accuracy: 0.8900\n",
      "Epoch 4/25\n",
      "100/100 [==============================] - 0s 4ms/step - loss: 0.2794 - accuracy: 0.9043 - val_loss: 0.2471 - val_accuracy: 0.9050\n",
      "Epoch 5/25\n",
      "100/100 [==============================] - 0s 4ms/step - loss: 0.2308 - accuracy: 0.9222 - val_loss: 0.2075 - val_accuracy: 0.9237\n",
      "Epoch 6/25\n",
      "100/100 [==============================] - 0s 4ms/step - loss: 0.2091 - accuracy: 0.9212 - val_loss: 0.1781 - val_accuracy: 0.9463\n",
      "Epoch 7/25\n",
      "100/100 [==============================] - 0s 4ms/step - loss: 0.1717 - accuracy: 0.9416 - val_loss: 0.1517 - val_accuracy: 0.9575\n",
      "Epoch 8/25\n",
      "100/100 [==============================] - 0s 4ms/step - loss: 0.1363 - accuracy: 0.9656 - val_loss: 0.1386 - val_accuracy: 0.9563\n",
      "Epoch 9/25\n",
      "100/100 [==============================] - 0s 4ms/step - loss: 0.1289 - accuracy: 0.9661 - val_loss: 0.1263 - val_accuracy: 0.9600\n",
      "Epoch 10/25\n",
      "100/100 [==============================] - 0s 5ms/step - loss: 0.1127 - accuracy: 0.9736 - val_loss: 0.1100 - val_accuracy: 0.9700\n",
      "Epoch 11/25\n",
      "100/100 [==============================] - 0s 5ms/step - loss: 0.0991 - accuracy: 0.9753 - val_loss: 0.1049 - val_accuracy: 0.9663\n",
      "Epoch 12/25\n",
      "100/100 [==============================] - 0s 5ms/step - loss: 0.0890 - accuracy: 0.9783 - val_loss: 0.0939 - val_accuracy: 0.9712\n",
      "Epoch 13/25\n",
      "100/100 [==============================] - 0s 5ms/step - loss: 0.0846 - accuracy: 0.9781 - val_loss: 0.0897 - val_accuracy: 0.9725\n",
      "Epoch 14/25\n",
      "100/100 [==============================] - 0s 5ms/step - loss: 0.0731 - accuracy: 0.9864 - val_loss: 0.0819 - val_accuracy: 0.9750\n",
      "Epoch 15/25\n",
      "100/100 [==============================] - 0s 5ms/step - loss: 0.0601 - accuracy: 0.9873 - val_loss: 0.0765 - val_accuracy: 0.9725\n",
      "Epoch 16/25\n",
      "100/100 [==============================] - 0s 4ms/step - loss: 0.0625 - accuracy: 0.9849 - val_loss: 0.0771 - val_accuracy: 0.9737\n",
      "Epoch 17/25\n",
      "100/100 [==============================] - 0s 5ms/step - loss: 0.0617 - accuracy: 0.9848 - val_loss: 0.0700 - val_accuracy: 0.9762\n",
      "Epoch 18/25\n",
      "100/100 [==============================] - 0s 5ms/step - loss: 0.0553 - accuracy: 0.9885 - val_loss: 0.0659 - val_accuracy: 0.9800\n",
      "Epoch 19/25\n",
      "100/100 [==============================] - 0s 5ms/step - loss: 0.0488 - accuracy: 0.9909 - val_loss: 0.0619 - val_accuracy: 0.9775\n",
      "Epoch 20/25\n",
      "100/100 [==============================] - 0s 5ms/step - loss: 0.0516 - accuracy: 0.9927 - val_loss: 0.0629 - val_accuracy: 0.9775\n",
      "Epoch 21/25\n",
      "100/100 [==============================] - 0s 5ms/step - loss: 0.0486 - accuracy: 0.9896 - val_loss: 0.0570 - val_accuracy: 0.9762\n",
      "Epoch 22/25\n",
      "100/100 [==============================] - 0s 5ms/step - loss: 0.0426 - accuracy: 0.9875 - val_loss: 0.0549 - val_accuracy: 0.9825\n",
      "Epoch 23/25\n",
      "100/100 [==============================] - 0s 5ms/step - loss: 0.0389 - accuracy: 0.9921 - val_loss: 0.0587 - val_accuracy: 0.9800\n",
      "Epoch 24/25\n",
      "100/100 [==============================] - 0s 5ms/step - loss: 0.0436 - accuracy: 0.9917 - val_loss: 0.0537 - val_accuracy: 0.9825\n",
      "Epoch 25/25\n",
      "100/100 [==============================] - 0s 5ms/step - loss: 0.0324 - accuracy: 0.9955 - val_loss: 0.0523 - val_accuracy: 0.9825\n",
      "Fold 3, 25 epochs, 12 sec\n"
     ]
    },
    {
     "data": {
      "image/png": "[encoded data removed]",
      "text/plain": [
       "<Figure size 576x360 with 1 Axes>"
      ]
     },
     "metadata": {
      "needs_background": "light"
     },
     "output_type": "display_data"
    },
    {
     "name": "stdout",
     "output_type": "stream",
     "text": [
      "MODEL\n",
      "make_DNN\n",
      "input shape: (21, 4)\n",
      "FIT\n",
      "Epoch 1/25\n",
      "100/100 [==============================] - 1s 6ms/step - loss: 0.7206 - accuracy: 0.5202 - val_loss: 0.6276 - val_accuracy: 0.7837\n",
      "Epoch 2/25\n",
      "100/100 [==============================] - 0s 5ms/step - loss: 0.5826 - accuracy: 0.7562 - val_loss: 0.4172 - val_accuracy: 0.8625\n",
      "Epoch 3/25\n",
      "100/100 [==============================] - 0s 5ms/step - loss: 0.3847 - accuracy: 0.8681 - val_loss: 0.3136 - val_accuracy: 0.8863\n",
      "Epoch 4/25\n",
      "100/100 [==============================] - 0s 5ms/step - loss: 0.2928 - accuracy: 0.8984 - val_loss: 0.2570 - val_accuracy: 0.9062\n",
      "Epoch 5/25\n",
      "100/100 [==============================] - 0s 5ms/step - loss: 0.2337 - accuracy: 0.9194 - val_loss: 0.2196 - val_accuracy: 0.9237\n",
      "Epoch 6/25\n",
      "100/100 [==============================] - 1s 6ms/step - loss: 0.1948 - accuracy: 0.9360 - val_loss: 0.1886 - val_accuracy: 0.9287\n",
      "Epoch 7/25\n",
      "100/100 [==============================] - 1s 6ms/step - loss: 0.1695 - accuracy: 0.9480 - val_loss: 0.1691 - val_accuracy: 0.9350\n",
      "Epoch 8/25\n",
      "100/100 [==============================] - 0s 5ms/step - loss: 0.1374 - accuracy: 0.9605 - val_loss: 0.1560 - val_accuracy: 0.9413\n",
      "Epoch 9/25\n",
      "100/100 [==============================] - 0s 5ms/step - loss: 0.1087 - accuracy: 0.9768 - val_loss: 0.1393 - val_accuracy: 0.9550\n",
      "Epoch 10/25\n",
      "100/100 [==============================] - 1s 5ms/step - loss: 0.1054 - accuracy: 0.9713 - val_loss: 0.1296 - val_accuracy: 0.9588\n",
      "Epoch 11/25\n",
      "100/100 [==============================] - 0s 5ms/step - loss: 0.0933 - accuracy: 0.9776 - val_loss: 0.1237 - val_accuracy: 0.9613\n",
      "Epoch 12/25\n",
      "100/100 [==============================] - 0s 5ms/step - loss: 0.0848 - accuracy: 0.9809 - val_loss: 0.1204 - val_accuracy: 0.9600\n",
      "Epoch 13/25\n",
      "100/100 [==============================] - 1s 5ms/step - loss: 0.0808 - accuracy: 0.9818 - val_loss: 0.1144 - val_accuracy: 0.9613\n",
      "Epoch 14/25\n",
      "100/100 [==============================] - 0s 5ms/step - loss: 0.0735 - accuracy: 0.9813 - val_loss: 0.1076 - val_accuracy: 0.9675\n",
      "Epoch 15/25\n",
      "100/100 [==============================] - 0s 5ms/step - loss: 0.0660 - accuracy: 0.9871 - val_loss: 0.1039 - val_accuracy: 0.9675\n",
      "Epoch 16/25\n",
      "100/100 [==============================] - 0s 5ms/step - loss: 0.0626 - accuracy: 0.9814 - val_loss: 0.1047 - val_accuracy: 0.9688\n",
      "Epoch 17/25\n",
      "100/100 [==============================] - 0s 5ms/step - loss: 0.0551 - accuracy: 0.9888 - val_loss: 0.1003 - val_accuracy: 0.9688\n",
      "Epoch 18/25\n",
      "100/100 [==============================] - 0s 5ms/step - loss: 0.0582 - accuracy: 0.9869 - val_loss: 0.1014 - val_accuracy: 0.9700\n",
      "Epoch 19/25\n",
      "100/100 [==============================] - 0s 5ms/step - loss: 0.0510 - accuracy: 0.9885 - val_loss: 0.0982 - val_accuracy: 0.9712\n",
      "Epoch 20/25\n",
      "100/100 [==============================] - 1s 5ms/step - loss: 0.0424 - accuracy: 0.9909 - val_loss: 0.0887 - val_accuracy: 0.9750\n",
      "Epoch 21/25\n",
      "100/100 [==============================] - 0s 5ms/step - loss: 0.0511 - accuracy: 0.9882 - val_loss: 0.0877 - val_accuracy: 0.9750\n",
      "Epoch 22/25\n",
      "100/100 [==============================] - 1s 5ms/step - loss: 0.0366 - accuracy: 0.9950 - val_loss: 0.0874 - val_accuracy: 0.9737\n",
      "Epoch 23/25\n",
      "100/100 [==============================] - 0s 5ms/step - loss: 0.0373 - accuracy: 0.9939 - val_loss: 0.0890 - val_accuracy: 0.9725\n",
      "Epoch 24/25\n",
      "100/100 [==============================] - 0s 5ms/step - loss: 0.0370 - accuracy: 0.9923 - val_loss: 0.0887 - val_accuracy: 0.9725\n",
      "Epoch 25/25\n",
      "100/100 [==============================] - 0s 5ms/step - loss: 0.0349 - accuracy: 0.9943 - val_loss: 0.0843 - val_accuracy: 0.9762\n",
      "Fold 4, 25 epochs, 12 sec\n"
     ]
    },
    {
     "data": {
      "image/png": "[encoded data removed]",
      "text/plain": [
       "<Figure size 576x360 with 1 Axes>"
      ]
     },
     "metadata": {
      "needs_background": "light"
     },
     "output_type": "display_data"
    },
    {
     "name": "stdout",
     "output_type": "stream",
     "text": [
      "MODEL\n",
      "make_DNN\n",
      "input shape: (21, 4)\n",
      "FIT\n",
      "Epoch 1/25\n",
      "100/100 [==============================] - 1s 8ms/step - loss: 0.7125 - accuracy: 0.5518 - val_loss: 0.5645 - val_accuracy: 0.8225\n",
      "Epoch 2/25\n",
      "100/100 [==============================] - 0s 5ms/step - loss: 0.5116 - accuracy: 0.8179 - val_loss: 0.3500 - val_accuracy: 0.8913\n",
      "Epoch 3/25\n",
      "100/100 [==============================] - 0s 5ms/step - loss: 0.3311 - accuracy: 0.8867 - val_loss: 0.2577 - val_accuracy: 0.9125\n",
      "Epoch 4/25\n",
      "100/100 [==============================] - 0s 4ms/step - loss: 0.2637 - accuracy: 0.9137 - val_loss: 0.2018 - val_accuracy: 0.9450\n",
      "Epoch 5/25\n",
      "100/100 [==============================] - 0s 4ms/step - loss: 0.2158 - accuracy: 0.9268 - val_loss: 0.1618 - val_accuracy: 0.9575\n",
      "Epoch 6/25\n",
      "100/100 [==============================] - 1s 5ms/step - loss: 0.1770 - accuracy: 0.9484 - val_loss: 0.1360 - val_accuracy: 0.9588\n",
      "Epoch 7/25\n",
      "100/100 [==============================] - 0s 4ms/step - loss: 0.1489 - accuracy: 0.9612 - val_loss: 0.1204 - val_accuracy: 0.9625\n",
      "Epoch 8/25\n",
      "100/100 [==============================] - 0s 5ms/step - loss: 0.1449 - accuracy: 0.9617 - val_loss: 0.1070 - val_accuracy: 0.9638\n",
      "Epoch 9/25\n",
      "100/100 [==============================] - 0s 4ms/step - loss: 0.1210 - accuracy: 0.9670 - val_loss: 0.0939 - val_accuracy: 0.9700\n",
      "Epoch 10/25\n",
      "100/100 [==============================] - 0s 5ms/step - loss: 0.1157 - accuracy: 0.9639 - val_loss: 0.0854 - val_accuracy: 0.9712\n",
      "Epoch 11/25\n",
      "100/100 [==============================] - 1s 5ms/step - loss: 0.0951 - accuracy: 0.9759 - val_loss: 0.0764 - val_accuracy: 0.9787\n",
      "Epoch 12/25\n",
      "100/100 [==============================] - 1s 5ms/step - loss: 0.0927 - accuracy: 0.9755 - val_loss: 0.0750 - val_accuracy: 0.9725\n",
      "Epoch 13/25\n",
      "100/100 [==============================] - 0s 5ms/step - loss: 0.0800 - accuracy: 0.9816 - val_loss: 0.0664 - val_accuracy: 0.9800\n",
      "Epoch 14/25\n",
      "100/100 [==============================] - 0s 5ms/step - loss: 0.0772 - accuracy: 0.9821 - val_loss: 0.0602 - val_accuracy: 0.9825\n",
      "Epoch 15/25\n",
      "100/100 [==============================] - 1s 5ms/step - loss: 0.0710 - accuracy: 0.9853 - val_loss: 0.0566 - val_accuracy: 0.9837\n",
      "Epoch 16/25\n",
      "100/100 [==============================] - 1s 5ms/step - loss: 0.0700 - accuracy: 0.9840 - val_loss: 0.0546 - val_accuracy: 0.9862\n",
      "Epoch 17/25\n",
      "100/100 [==============================] - 0s 4ms/step - loss: 0.0616 - accuracy: 0.9868 - val_loss: 0.0536 - val_accuracy: 0.9825\n",
      "Epoch 18/25\n",
      "100/100 [==============================] - 0s 5ms/step - loss: 0.0584 - accuracy: 0.9905 - val_loss: 0.0478 - val_accuracy: 0.9875\n",
      "Epoch 19/25\n",
      "100/100 [==============================] - 0s 5ms/step - loss: 0.0529 - accuracy: 0.9902 - val_loss: 0.0460 - val_accuracy: 0.9875\n",
      "Epoch 20/25\n",
      "100/100 [==============================] - 0s 5ms/step - loss: 0.0543 - accuracy: 0.9904 - val_loss: 0.0480 - val_accuracy: 0.9825\n",
      "Epoch 21/25\n",
      "100/100 [==============================] - 0s 5ms/step - loss: 0.0447 - accuracy: 0.9905 - val_loss: 0.0417 - val_accuracy: 0.9862\n",
      "Epoch 22/25\n",
      "100/100 [==============================] - 0s 5ms/step - loss: 0.0480 - accuracy: 0.9906 - val_loss: 0.0402 - val_accuracy: 0.9875\n",
      "Epoch 23/25\n",
      "100/100 [==============================] - 1s 5ms/step - loss: 0.0395 - accuracy: 0.9919 - val_loss: 0.0376 - val_accuracy: 0.9887\n",
      "Epoch 24/25\n",
      "100/100 [==============================] - 1s 5ms/step - loss: 0.0454 - accuracy: 0.9898 - val_loss: 0.0375 - val_accuracy: 0.9875\n",
      "Epoch 25/25\n",
      "100/100 [==============================] - 0s 5ms/step - loss: 0.0419 - accuracy: 0.9927 - val_loss: 0.0348 - val_accuracy: 0.9900\n",
      "Fold 5, 25 epochs, 13 sec\n"
     ]
    },
    {
     "data": {
      "image/png": "[encoded data removed]",
      "text/plain": [
       "<Figure size 576x360 with 1 Axes>"
      ]
     },
     "metadata": {
      "needs_background": "light"
     },
     "output_type": "display_data"
    }
   ],
   "source": [
    "do_cross_validation(X,y)"
   ]
  },
  {
   "cell_type": "code",
   "execution_count": 13,
   "metadata": {
    "colab": {
     "base_uri": "https://localhost:8080/"
    },
    "id": "e-jG1h5fj2Ua",
    "outputId": "a2ada049-030e-41f3-a793-8e1d07e2cf47"
   },
   "outputs": [
    {
     "name": "stdout",
     "output_type": "stream",
     "text": [
      "The best model parameters were saved during cross-validation.\n",
      "Best was defined as maximum validation accuracy at end of any epoch.\n",
      "Now re-load the best model and test it on previously unseen data.\n",
      "Test on 1000 PC seqs\n",
      "Test on 1000 NC seqs\n",
      "accuracy: 98.75%\n"
     ]
    }
   ],
   "source": [
    "from keras.models import load_model\n",
    "X,y = prepare_inputs_len_x_alphabet(pc_test,nc_test,ALPHABET)\n",
    "best_model=load_model(MODELPATH)\n",
    "scores = best_model.evaluate(X, y, verbose=0)\n",
    "print(\"The best model parameters were saved during cross-validation.\")\n",
    "print(\"Best was defined as maximum validation accuracy at end of any epoch.\")\n",
    "print(\"Now re-load the best model and test it on previously unseen data.\")\n",
    "print(\"Test on\",len(pc_test),\"PC seqs\")\n",
    "print(\"Test on\",len(nc_test),\"NC seqs\")\n",
    "print(\"%s: %.2f%%\" % (best_model.metrics_names[1], scores[1]*100))\n"
   ]
  },
  {
   "cell_type": "code",
   "execution_count": 14,
   "metadata": {
    "colab": {
     "base_uri": "https://localhost:8080/",
     "height": 312
    },
    "id": "VycUnmvUj2Ue",
    "outputId": "61a2289e-93c9-4134-f41c-1efb33b29023"
   },
   "outputs": [
    {
     "data": {
      "image/png": "[encoded data removed]",
      "text/plain": [
       "<Figure size 432x288 with 1 Axes>"
      ]
     },
     "metadata": {
      "needs_background": "light"
     },
     "output_type": "display_data"
    },
    {
     "name": "stdout",
     "output_type": "stream",
     "text": [
      "AUC: 99.86%\n"
     ]
    }
   ],
   "source": [
    "from sklearn.metrics import roc_curve\n",
    "from sklearn.metrics import roc_auc_score\n",
    "ns_probs = [0 for _ in range(len(y))]\n",
    "bm_probs = best_model.predict(X)\n",
    "ns_auc = roc_auc_score(y, ns_probs)\n",
    "bm_auc = roc_auc_score(y, bm_probs)\n",
    "ns_fpr, ns_tpr, _ = roc_curve(y, ns_probs)\n",
    "bm_fpr, bm_tpr, _ = roc_curve(y, bm_probs)\n",
    "plt.plot(ns_fpr, ns_tpr, linestyle='--', label='Guess, auc=%.4f'%ns_auc)\n",
    "plt.plot(bm_fpr, bm_tpr, marker='.', label='Model, auc=%.4f'%bm_auc)\n",
    "plt.title('ROC')\n",
    "plt.xlabel('False Positive Rate')\n",
    "plt.ylabel('True Positive Rate')\n",
    "plt.legend()\n",
    "plt.show()\n",
    "print(\"%s: %.2f%%\" %('AUC',bm_auc*100.0))\n"
   ]
  },
  {
   "cell_type": "code",
   "execution_count": 15,
   "metadata": {
    "colab": {
     "base_uri": "https://localhost:8080/",
     "height": 36
    },
    "id": "kFMb6rGNj2Ug",
    "outputId": "744bca56-f9c1-43be-cce0-319e30049125"
   },
   "outputs": [
    {
     "data": {
      "text/plain": [
       "'2021-06-11 09:55:53 EDT'"
      ]
     },
     "execution_count": 15,
     "metadata": {},
     "output_type": "execute_result"
    }
   ],
   "source": [
    "t = time.time()\n",
    "time.strftime('%Y-%m-%d %H:%M:%S %Z', time.localtime(t))"
   ]
  },
  {
   "cell_type": "markdown",
   "metadata": {
    "id": "rws8ixgAjUzB"
   },
   "source": [
    "## Conclusion\n",
    "The CNN is very capable of learning ORF/nonORF where the only difference is a frameshift indel to an ORF in order to create the nonORF."
   ]
  },
  {
   "cell_type": "code",
   "execution_count": null,
   "metadata": {
    "id": "e-mEgDrQjUzF"
   },
   "outputs": [],
   "source": []
  }
 ],
 "metadata": {
  "accelerator": "GPU",
  "colab": {
   "collapsed_sections": [],
   "name": "ORF_CNN_110.ipynb",
   "provenance": []
  },
  "kernelspec": {
   "display_name": "Python 3",
   "language": "python",
   "name": "python3"
  },
  "language_info": {
   "codemirror_mode": {
    "name": "ipython",
    "version": 3
   },
   "file_extension": ".py",
   "mimetype": "text/x-python",
   "name": "python",
   "nbconvert_exporter": "python",
   "pygments_lexer": "ipython3",
   "version": "3.8.3"
  }
 },
 "nbformat": 4,
 "nbformat_minor": 1
}
