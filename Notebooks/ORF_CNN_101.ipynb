{
 "cells": [
  {
   "cell_type": "markdown",
   "metadata": {
    "id": "0asdcdunj2Tx"
   },
   "source": [
    "# ORF recognition by CNN\n",
    "Compare to ORF_CNN_100.\n",
    "Use 20K seqs/class (instead of 2K).\n",
    "Run on CoLab (instead of Mac)."
   ]
  },
  {
   "cell_type": "code",
   "execution_count": 1,
   "metadata": {
    "id": "Nhz4GKonj2T_"
   },
   "outputs": [],
   "source": [
    "PC_SEQUENCES=20000   # how many protein-coding sequences\n",
    "NC_SEQUENCES=20000   # how many non-coding sequences\n",
    "PC_TESTS=1000\n",
    "NC_TESTS=1000\n",
    "BASES=1000            # how long is each sequence\n",
    "ALPHABET=4          # how many different letters are possible\n",
    "INPUT_SHAPE_2D = (BASES,ALPHABET,1) # Conv2D needs 3D inputs\n",
    "INPUT_SHAPE = (BASES,ALPHABET) # Conv1D needs 2D inputs\n",
    "FILTERS = 8   # how many different patterns the model looks for\n",
    "WIDTH = 3   # how wide each pattern is, in bases\n",
    "STRIDE_2D = (1,1)  # For Conv2D how far in each direction\n",
    "STRIDE = 1 # For Conv1D, how far between pattern matches, in bases\n",
    "EPOCHS=50  # how many times to train on all the data\n",
    "SPLITS=5  # SPLITS=3 means train on 2/3 and validate on 1/3 \n",
    "FOLDS=5  # train the model this many times (range 1 to SPLITS)"
   ]
  },
  {
   "cell_type": "code",
   "execution_count": 2,
   "metadata": {
    "colab": {
     "base_uri": "https://localhost:8080/"
    },
    "id": "lr7q90rxj2UE",
    "outputId": "e858ccb7-242a-4f3b-b938-cac54cb23396"
   },
   "outputs": [
    {
     "name": "stdout",
     "output_type": "stream",
     "text": [
      "On Google CoLab, mount cloud-local file, get our code from GitHub.\n"
     ]
    }
   ],
   "source": [
    "import sys\n",
    "try:\n",
    "    from google.colab import drive\n",
    "    IN_COLAB = True\n",
    "    print(\"On Google CoLab, mount cloud-local file, get our code from GitHub.\")\n",
    "    PATH='/content/drive/'\n",
    "    #drive.mount(PATH,force_remount=True)  # hardly ever need this\n",
    "    #drive.mount(PATH)    # Google will require login credentials\n",
    "    DATAPATH=PATH+'My Drive/data/'  # must end in \"/\"\n",
    "    import requests\n",
    "    r = requests.get('https://raw.githubusercontent.com/ShepherdCode/Soars2021/master/SimTools/RNA_gen.py')\n",
    "    with open('RNA_gen.py', 'w') as f:\n",
    "        f.write(r.text)  \n",
    "    from RNA_gen import *\n",
    "    r = requests.get('https://raw.githubusercontent.com/ShepherdCode/Soars2021/master/SimTools/RNA_describe.py')\n",
    "    with open('RNA_describe.py', 'w') as f:\n",
    "        f.write(r.text)  \n",
    "    from RNA_describe import *\n",
    "    r = requests.get('https://raw.githubusercontent.com/ShepherdCode/Soars2021/master/SimTools/RNA_prep.py')\n",
    "    with open('RNA_prep.py', 'w') as f:\n",
    "        f.write(r.text)  \n",
    "    from RNA_prep import *\n",
    "except:\n",
    "    print(\"CoLab not working. On my PC, use relative paths.\")\n",
    "    IN_COLAB = False\n",
    "    DATAPATH='data/'  # must end in \"/\"\n",
    "    sys.path.append(\"..\") # append parent dir in order to use sibling dirs\n",
    "    from SimTools.RNA_gen import *\n",
    "    from SimTools.RNA_describe import *\n",
    "    from SimTools.RNA_prep import *\n",
    "\n",
    "MODELPATH=\"BestModel\"  # saved on cloud instance and lost after logout\n",
    "#MODELPATH=DATAPATH+MODELPATH  # saved on Google Drive but requires login\n",
    "\n",
    "if not assert_imported_RNA_gen():\n",
    "    print(\"ERROR: Cannot use RNA_gen.\")\n",
    "if not assert_imported_RNA_prep():\n",
    "    print(\"ERROR: Cannot use RNA_prep.\")"
   ]
  },
  {
   "cell_type": "code",
   "execution_count": 3,
   "metadata": {
    "id": "EGDXH8Uwj2UM"
   },
   "outputs": [],
   "source": [
    "from os import listdir\n",
    "import time # datetime\n",
    "import csv\n",
    "from zipfile import ZipFile\n",
    "\n",
    "import numpy as np\n",
    "import pandas as pd\n",
    "from scipy import stats  # mode\n",
    "\n",
    "from sklearn.preprocessing import StandardScaler\n",
    "from sklearn.model_selection import KFold\n",
    "from sklearn.model_selection import cross_val_score\n",
    "\n",
    "from keras.models import Sequential\n",
    "from keras.layers import Dense,Embedding\n",
    "from keras.layers import Conv1D,Conv2D\n",
    "from keras.layers import Flatten,MaxPooling1D,MaxPooling2D\n",
    "from keras.losses import BinaryCrossentropy\n",
    "# tf.keras.losses.BinaryCrossentropy\n",
    "\n",
    "import matplotlib.pyplot as plt\n",
    "from matplotlib import colors\n",
    "mycmap = colors.ListedColormap(['red','blue'])  # list color for label 0 then 1\n",
    "np.set_printoptions(precision=2)\n"
   ]
  },
  {
   "cell_type": "code",
   "execution_count": 4,
   "metadata": {
    "colab": {
     "base_uri": "https://localhost:8080/",
     "height": 36
    },
    "id": "QP1VTRNQj2UO",
    "outputId": "aac9165c-9fc9-455b-9a9f-de9774e7b69e"
   },
   "outputs": [
    {
     "data": {
      "application/vnd.google.colaboratory.intrinsic+json": {
       "type": "string"
      },
      "text/plain": [
       "'2021-05-16 19:16:44 UTC'"
      ]
     },
     "execution_count": 4,
     "metadata": {
      "tags": []
     },
     "output_type": "execute_result"
    }
   ],
   "source": [
    "t = time.time()\n",
    "time.strftime('%Y-%m-%d %H:%M:%S %Z', time.localtime(t))"
   ]
  },
  {
   "cell_type": "code",
   "execution_count": 5,
   "metadata": {
    "colab": {
     "base_uri": "https://localhost:8080/"
    },
    "id": "Q0FetlLPj2UQ",
    "outputId": "b4076ec8-a07c-4128-9dea-167692b606fe"
   },
   "outputs": [
    {
     "name": "stdout",
     "output_type": "stream",
     "text": [
      "Train on 20000 PC seqs\n",
      "Train on 20000 NC seqs\n"
     ]
    }
   ],
   "source": [
    "# Use code from our SimTools library.\n",
    "def make_generators(seq_len):\n",
    "    pcgen = Collection_Generator()  \n",
    "    pcgen.get_len_oracle().set_mean(seq_len)\n",
    "    pcgen.set_seq_oracle(Transcript_Oracle())\n",
    "    ncgen = Collection_Generator()  \n",
    "    ncgen.get_len_oracle().set_mean(seq_len)\n",
    "    return pcgen,ncgen\n",
    "\n",
    "pc_sim,nc_sim = make_generators(BASES)\n",
    "pc_train = pc_sim.get_sequences(PC_SEQUENCES)\n",
    "nc_train = nc_sim.get_sequences(NC_SEQUENCES)\n",
    "print(\"Train on\",len(pc_train),\"PC seqs\")\n",
    "print(\"Train on\",len(nc_train),\"NC seqs\")"
   ]
  },
  {
   "cell_type": "code",
   "execution_count": 6,
   "metadata": {
    "colab": {
     "base_uri": "https://localhost:8080/"
    },
    "id": "CIpTrnH6j2US",
    "outputId": "d5feb3c1-e5c7-4c3a-8212-9279baeb77f3"
   },
   "outputs": [
    {
     "name": "stdout",
     "output_type": "stream",
     "text": [
      "Data ready.\n"
     ]
    }
   ],
   "source": [
    "# Use code from our LearnTools library.\n",
    "X,y = prepare_inputs_len_x_alphabet(pc_train,nc_train,ALPHABET) # shuffles\n",
    "print(\"Data ready.\")"
   ]
  },
  {
   "cell_type": "code",
   "execution_count": 7,
   "metadata": {
    "colab": {
     "base_uri": "https://localhost:8080/"
    },
    "id": "7NvrVU8ij2UU",
    "outputId": "4411cf5b-8c5b-487a-a951-a1fb88e8edd8"
   },
   "outputs": [
    {
     "name": "stdout",
     "output_type": "stream",
     "text": [
      "make_DNN\n",
      "input shape: (1000, 4)\n",
      "Model: \"sequential\"\n",
      "_________________________________________________________________\n",
      "Layer (type)                 Output Shape              Param #   \n",
      "=================================================================\n",
      "conv1d (Conv1D)              (None, 1000, 8)           104       \n",
      "_________________________________________________________________\n",
      "flatten (Flatten)            (None, 8000)              0         \n",
      "_________________________________________________________________\n",
      "dense (Dense)                (None, 1)                 8001      \n",
      "=================================================================\n",
      "Total params: 8,105\n",
      "Trainable params: 8,105\n",
      "Non-trainable params: 0\n",
      "_________________________________________________________________\n",
      "None\n"
     ]
    }
   ],
   "source": [
    "def make_DNN():\n",
    "    print(\"make_DNN\")\n",
    "    print(\"input shape:\",INPUT_SHAPE)\n",
    "    dnn = Sequential()\n",
    "    #dnn.add(Embedding(input_dim=4,output_dim=4)) \n",
    "    dnn.add(Conv1D(filters=FILTERS,kernel_size=WIDTH,strides=STRIDE,\n",
    "                  padding=\"same\",input_shape=INPUT_SHAPE))\n",
    "    # Data shape: [SAMPLES,BASES,FILTERS]\n",
    "    #dnn.add(MaxPooling1D())\n",
    "    dnn.add(Flatten())\n",
    "    # Data shape: [SAMPLES,BASES*FILTERS]\n",
    "    dnn.add(Dense(1,activation=\"sigmoid\",dtype=np.float32))   \n",
    "    dnn.compile(optimizer='adam',\n",
    "                loss=BinaryCrossentropy(from_logits=False),\n",
    "                metrics=['accuracy'])   # add to default metrics=loss\n",
    "    dnn.build(input_shape=INPUT_SHAPE)\n",
    "    #ln_rate = tf.keras.optimizers.Adam(learning_rate = LN_RATE)\n",
    "    #bc=tf.keras.losses.BinaryCrossentropy(from_logits=False)\n",
    "    #model.compile(loss=bc, optimizer=ln_rate, metrics=[\"accuracy\"])\n",
    "    return dnn\n",
    "model = make_DNN()\n",
    "print(model.summary())"
   ]
  },
  {
   "cell_type": "code",
   "execution_count": 8,
   "metadata": {
    "id": "nlVF0hR3j2UW"
   },
   "outputs": [],
   "source": [
    "from keras.callbacks import ModelCheckpoint\n",
    "def do_cross_validation(X,y):\n",
    "    cv_scores = []\n",
    "    fold=0\n",
    "    mycallbacks = [ModelCheckpoint(\n",
    "        filepath=MODELPATH, save_best_only=True, \n",
    "        monitor='val_accuracy', mode='max')]   \n",
    "    splitter = KFold(n_splits=SPLITS)  # this does not shuffle\n",
    "    for train_index,valid_index in splitter.split(X):\n",
    "        if fold < FOLDS:\n",
    "            fold += 1\n",
    "            X_train=X[train_index] # inputs for training\n",
    "            y_train=y[train_index] # labels for training\n",
    "            X_valid=X[valid_index] # inputs for validation\n",
    "            y_valid=y[valid_index] # labels for validation\n",
    "            print(\"MODEL\")\n",
    "            # Call constructor on each CV. Else, continually improves the same model.\n",
    "            model = model = make_DNN()\n",
    "            print(\"FIT\")  # model.fit() implements learning\n",
    "            start_time=time.time()\n",
    "            history=model.fit(X_train, y_train, \n",
    "                    epochs=EPOCHS, \n",
    "                    verbose=1,  # ascii art while learning\n",
    "                    callbacks=mycallbacks,   # called at end of each epoch\n",
    "                    validation_data=(X_valid,y_valid))\n",
    "            end_time=time.time()\n",
    "            elapsed_time=(end_time-start_time)                        \n",
    "            print(\"Fold %d, %d epochs, %d sec\"%(fold,EPOCHS,elapsed_time))\n",
    "            # print(history.history.keys())  # all these keys will be shown in figure\n",
    "            pd.DataFrame(history.history).plot(figsize=(8,5))\n",
    "            plt.grid(True)\n",
    "            plt.gca().set_ylim(0,1) # any losses > 1 will be off the scale\n",
    "            plt.show()\n"
   ]
  },
  {
   "cell_type": "code",
   "execution_count": 9,
   "metadata": {
    "colab": {
     "base_uri": "https://localhost:8080/",
     "height": 1000
    },
    "id": "9Ggt4EsSj2UY",
    "outputId": "e9d9c0c7-4bcb-45f4-8c7e-9b35403063e0"
   },
   "outputs": [
    {
     "name": "stdout",
     "output_type": "stream",
     "text": [
      "MODEL\n",
      "make_DNN\n",
      "input shape: (1000, 4)\n",
      "FIT\n",
      "Epoch 1/50\n",
      "1000/1000 [==============================] - 10s 10ms/step - loss: 0.6969 - accuracy: 0.5641 - val_loss: 0.6242 - val_accuracy: 0.6557\n",
      "INFO:tensorflow:Assets written to: BestModel/assets\n",
      "Epoch 2/50\n",
      "1000/1000 [==============================] - 10s 10ms/step - loss: 0.5972 - accuracy: 0.6831 - val_loss: 0.6254 - val_accuracy: 0.6532\n",
      "Epoch 3/50\n",
      "1000/1000 [==============================] - 10s 10ms/step - loss: 0.5839 - accuracy: 0.6901 - val_loss: 0.6247 - val_accuracy: 0.6550\n",
      "Epoch 4/50\n",
      "1000/1000 [==============================] - 10s 10ms/step - loss: 0.5837 - accuracy: 0.6907 - val_loss: 0.6258 - val_accuracy: 0.6545\n",
      "Epoch 5/50\n",
      "1000/1000 [==============================] - 9s 9ms/step - loss: 0.5814 - accuracy: 0.6930 - val_loss: 0.6255 - val_accuracy: 0.6522\n",
      "Epoch 6/50\n",
      "1000/1000 [==============================] - 10s 10ms/step - loss: 0.5751 - accuracy: 0.7001 - val_loss: 0.6286 - val_accuracy: 0.6497\n",
      "Epoch 7/50\n",
      "1000/1000 [==============================] - 10s 10ms/step - loss: 0.5741 - accuracy: 0.6956 - val_loss: 0.6290 - val_accuracy: 0.6497\n",
      "Epoch 8/50\n",
      "1000/1000 [==============================] - 10s 10ms/step - loss: 0.5787 - accuracy: 0.6975 - val_loss: 0.6288 - val_accuracy: 0.6556\n",
      "Epoch 9/50\n",
      "1000/1000 [==============================] - 9s 9ms/step - loss: 0.5767 - accuracy: 0.6962 - val_loss: 0.6386 - val_accuracy: 0.6478\n",
      "Epoch 10/50\n",
      "1000/1000 [==============================] - 10s 10ms/step - loss: 0.5761 - accuracy: 0.6979 - val_loss: 0.6269 - val_accuracy: 0.6553\n",
      "Epoch 11/50\n",
      "1000/1000 [==============================] - 10s 10ms/step - loss: 0.5751 - accuracy: 0.6985 - val_loss: 0.6336 - val_accuracy: 0.6534\n",
      "Epoch 12/50\n",
      "1000/1000 [==============================] - 10s 10ms/step - loss: 0.5770 - accuracy: 0.6974 - val_loss: 0.6345 - val_accuracy: 0.6499\n",
      "Epoch 13/50\n",
      "1000/1000 [==============================] - 10s 10ms/step - loss: 0.5731 - accuracy: 0.6995 - val_loss: 0.6317 - val_accuracy: 0.6479\n",
      "Epoch 14/50\n",
      "1000/1000 [==============================] - 10s 10ms/step - loss: 0.5707 - accuracy: 0.7081 - val_loss: 0.6362 - val_accuracy: 0.6489\n",
      "Epoch 15/50\n",
      "1000/1000 [==============================] - 10s 10ms/step - loss: 0.5725 - accuracy: 0.6997 - val_loss: 0.6395 - val_accuracy: 0.6519\n",
      "Epoch 16/50\n",
      "1000/1000 [==============================] - 9s 9ms/step - loss: 0.5706 - accuracy: 0.7018 - val_loss: 0.6387 - val_accuracy: 0.6490\n",
      "Epoch 17/50\n",
      "1000/1000 [==============================] - 9s 9ms/step - loss: 0.5672 - accuracy: 0.7031 - val_loss: 0.6265 - val_accuracy: 0.6543\n",
      "Epoch 18/50\n",
      "1000/1000 [==============================] - 9s 9ms/step - loss: 0.5703 - accuracy: 0.7046 - val_loss: 0.6300 - val_accuracy: 0.6516\n",
      "Epoch 19/50\n",
      "1000/1000 [==============================] - 10s 10ms/step - loss: 0.5721 - accuracy: 0.7009 - val_loss: 0.6414 - val_accuracy: 0.6471\n",
      "Epoch 20/50\n",
      "1000/1000 [==============================] - 10s 10ms/step - loss: 0.5742 - accuracy: 0.7037 - val_loss: 0.6376 - val_accuracy: 0.6428\n",
      "Epoch 21/50\n",
      "1000/1000 [==============================] - 10s 10ms/step - loss: 0.5656 - accuracy: 0.7086 - val_loss: 0.6297 - val_accuracy: 0.6524\n",
      "Epoch 22/50\n",
      "1000/1000 [==============================] - 10s 10ms/step - loss: 0.5711 - accuracy: 0.7003 - val_loss: 0.6304 - val_accuracy: 0.6593\n",
      "INFO:tensorflow:Assets written to: BestModel/assets\n",
      "Epoch 23/50\n",
      "1000/1000 [==============================] - 9s 9ms/step - loss: 0.5695 - accuracy: 0.7041 - val_loss: 0.6354 - val_accuracy: 0.6507\n",
      "Epoch 24/50\n",
      "1000/1000 [==============================] - 10s 10ms/step - loss: 0.5699 - accuracy: 0.7061 - val_loss: 0.6341 - val_accuracy: 0.6538\n",
      "Epoch 25/50\n",
      "1000/1000 [==============================] - 10s 10ms/step - loss: 0.5662 - accuracy: 0.7060 - val_loss: 0.6313 - val_accuracy: 0.6529\n",
      "Epoch 26/50\n",
      "1000/1000 [==============================] - 10s 10ms/step - loss: 0.5730 - accuracy: 0.7015 - val_loss: 0.6309 - val_accuracy: 0.6553\n",
      "Epoch 27/50\n",
      "1000/1000 [==============================] - 10s 10ms/step - loss: 0.5686 - accuracy: 0.7034 - val_loss: 0.6314 - val_accuracy: 0.6541\n",
      "Epoch 28/50\n",
      "1000/1000 [==============================] - 9s 9ms/step - loss: 0.5723 - accuracy: 0.7010 - val_loss: 0.6369 - val_accuracy: 0.6503\n",
      "Epoch 29/50\n",
      "1000/1000 [==============================] - 10s 10ms/step - loss: 0.5721 - accuracy: 0.6981 - val_loss: 0.6394 - val_accuracy: 0.6490\n",
      "Epoch 30/50\n",
      "1000/1000 [==============================] - 10s 10ms/step - loss: 0.5638 - accuracy: 0.7085 - val_loss: 0.6330 - val_accuracy: 0.6529\n",
      "Epoch 31/50\n",
      "1000/1000 [==============================] - 10s 10ms/step - loss: 0.5710 - accuracy: 0.6993 - val_loss: 0.6390 - val_accuracy: 0.6488\n",
      "Epoch 32/50\n",
      "1000/1000 [==============================] - 10s 10ms/step - loss: 0.5655 - accuracy: 0.7072 - val_loss: 0.6291 - val_accuracy: 0.6539\n",
      "Epoch 33/50\n",
      "1000/1000 [==============================] - 10s 10ms/step - loss: 0.5658 - accuracy: 0.7045 - val_loss: 0.6422 - val_accuracy: 0.6469\n",
      "Epoch 34/50\n",
      "1000/1000 [==============================] - 10s 10ms/step - loss: 0.5672 - accuracy: 0.7026 - val_loss: 0.6397 - val_accuracy: 0.6495\n",
      "Epoch 35/50\n",
      "1000/1000 [==============================] - 10s 10ms/step - loss: 0.5678 - accuracy: 0.7019 - val_loss: 0.6365 - val_accuracy: 0.6521\n",
      "Epoch 36/50\n",
      "1000/1000 [==============================] - 10s 10ms/step - loss: 0.5705 - accuracy: 0.7038 - val_loss: 0.6411 - val_accuracy: 0.6510\n",
      "Epoch 37/50\n",
      "1000/1000 [==============================] - 10s 10ms/step - loss: 0.5754 - accuracy: 0.6993 - val_loss: 0.6459 - val_accuracy: 0.6428\n",
      "Epoch 38/50\n",
      "1000/1000 [==============================] - 10s 10ms/step - loss: 0.5675 - accuracy: 0.7023 - val_loss: 0.6330 - val_accuracy: 0.6538\n",
      "Epoch 39/50\n",
      "1000/1000 [==============================] - 10s 10ms/step - loss: 0.5668 - accuracy: 0.7054 - val_loss: 0.6349 - val_accuracy: 0.6544\n",
      "Epoch 40/50\n",
      "1000/1000 [==============================] - 9s 9ms/step - loss: 0.5686 - accuracy: 0.7072 - val_loss: 0.6317 - val_accuracy: 0.6535\n",
      "Epoch 41/50\n",
      "1000/1000 [==============================] - 9s 9ms/step - loss: 0.5662 - accuracy: 0.7008 - val_loss: 0.6355 - val_accuracy: 0.6476\n",
      "Epoch 42/50\n",
      "1000/1000 [==============================] - 9s 9ms/step - loss: 0.5622 - accuracy: 0.7115 - val_loss: 0.6412 - val_accuracy: 0.6460\n",
      "Epoch 43/50\n",
      "1000/1000 [==============================] - 9s 9ms/step - loss: 0.5646 - accuracy: 0.7063 - val_loss: 0.6320 - val_accuracy: 0.6544\n",
      "Epoch 44/50\n",
      "1000/1000 [==============================] - 9s 9ms/step - loss: 0.5706 - accuracy: 0.7021 - val_loss: 0.6382 - val_accuracy: 0.6503\n",
      "Epoch 45/50\n",
      "1000/1000 [==============================] - 10s 10ms/step - loss: 0.5678 - accuracy: 0.7043 - val_loss: 0.6384 - val_accuracy: 0.6510\n",
      "Epoch 46/50\n",
      "1000/1000 [==============================] - 10s 10ms/step - loss: 0.5681 - accuracy: 0.7039 - val_loss: 0.6386 - val_accuracy: 0.6550\n",
      "Epoch 47/50\n",
      "1000/1000 [==============================] - 10s 10ms/step - loss: 0.5640 - accuracy: 0.7100 - val_loss: 0.6287 - val_accuracy: 0.6576\n",
      "Epoch 48/50\n",
      "1000/1000 [==============================] - 10s 10ms/step - loss: 0.5646 - accuracy: 0.7067 - val_loss: 0.6422 - val_accuracy: 0.6479\n",
      "Epoch 49/50\n",
      "1000/1000 [==============================] - 9s 9ms/step - loss: 0.5664 - accuracy: 0.7057 - val_loss: 0.6404 - val_accuracy: 0.6500\n",
      "Epoch 50/50\n",
      "1000/1000 [==============================] - 9s 9ms/step - loss: 0.5691 - accuracy: 0.7046 - val_loss: 0.6344 - val_accuracy: 0.6549\n",
      "Fold 1, 50 epochs, 483 sec\n"
     ]
    },
    {
     "data": {
      "image/png": "[encoded data removed]",
      "text/plain": [
       "<Figure size 576x360 with 1 Axes>"
      ]
     },
     "metadata": {
      "needs_background": "light",
      "tags": []
     },
     "output_type": "display_data"
    },
    {
     "name": "stdout",
     "output_type": "stream",
     "text": [
      "MODEL\n",
      "make_DNN\n",
      "input shape: (1000, 4)\n",
      "FIT\n",
      "Epoch 1/50\n",
      "1000/1000 [==============================] - 10s 10ms/step - loss: 0.6900 - accuracy: 0.5730 - val_loss: 0.6365 - val_accuracy: 0.6389\n",
      "Epoch 2/50\n",
      "1000/1000 [==============================] - 10s 10ms/step - loss: 0.5992 - accuracy: 0.6803 - val_loss: 0.6445 - val_accuracy: 0.6375\n",
      "Epoch 3/50\n",
      "1000/1000 [==============================] - 9s 9ms/step - loss: 0.5895 - accuracy: 0.6823 - val_loss: 0.6370 - val_accuracy: 0.6429\n",
      "Epoch 4/50\n",
      "1000/1000 [==============================] - 10s 10ms/step - loss: 0.5817 - accuracy: 0.6919 - val_loss: 0.6382 - val_accuracy: 0.6424\n",
      "Epoch 5/50\n",
      "1000/1000 [==============================] - 10s 10ms/step - loss: 0.5794 - accuracy: 0.6951 - val_loss: 0.6396 - val_accuracy: 0.6436\n",
      "Epoch 6/50\n",
      "1000/1000 [==============================] - 10s 10ms/step - loss: 0.5767 - accuracy: 0.6982 - val_loss: 0.6422 - val_accuracy: 0.6405\n",
      "Epoch 7/50\n",
      "1000/1000 [==============================] - 10s 10ms/step - loss: 0.5757 - accuracy: 0.6992 - val_loss: 0.6394 - val_accuracy: 0.6395\n",
      "Epoch 8/50\n",
      "1000/1000 [==============================] - 10s 10ms/step - loss: 0.5716 - accuracy: 0.7019 - val_loss: 0.6481 - val_accuracy: 0.6365\n",
      "Epoch 9/50\n",
      "1000/1000 [==============================] - 10s 10ms/step - loss: 0.5745 - accuracy: 0.6979 - val_loss: 0.6451 - val_accuracy: 0.6394\n",
      "Epoch 10/50\n",
      "1000/1000 [==============================] - 10s 10ms/step - loss: 0.5717 - accuracy: 0.7035 - val_loss: 0.6585 - val_accuracy: 0.6308\n",
      "Epoch 11/50\n",
      "1000/1000 [==============================] - 10s 10ms/step - loss: 0.5680 - accuracy: 0.7030 - val_loss: 0.6438 - val_accuracy: 0.6394\n",
      "Epoch 12/50\n",
      "1000/1000 [==============================] - 10s 10ms/step - loss: 0.5699 - accuracy: 0.7034 - val_loss: 0.6487 - val_accuracy: 0.6360\n",
      "Epoch 13/50\n",
      "1000/1000 [==============================] - 10s 10ms/step - loss: 0.5692 - accuracy: 0.7011 - val_loss: 0.6416 - val_accuracy: 0.6434\n",
      "Epoch 14/50\n",
      "1000/1000 [==============================] - 10s 10ms/step - loss: 0.5656 - accuracy: 0.7085 - val_loss: 0.6458 - val_accuracy: 0.6382\n",
      "Epoch 15/50\n",
      "1000/1000 [==============================] - 10s 10ms/step - loss: 0.5650 - accuracy: 0.7066 - val_loss: 0.6506 - val_accuracy: 0.6370\n",
      "Epoch 16/50\n",
      "1000/1000 [==============================] - 10s 10ms/step - loss: 0.5675 - accuracy: 0.7045 - val_loss: 0.6465 - val_accuracy: 0.6420\n",
      "Epoch 17/50\n",
      "1000/1000 [==============================] - 10s 10ms/step - loss: 0.5654 - accuracy: 0.7047 - val_loss: 0.6418 - val_accuracy: 0.6425\n",
      "Epoch 18/50\n",
      "1000/1000 [==============================] - 10s 10ms/step - loss: 0.5678 - accuracy: 0.7035 - val_loss: 0.6467 - val_accuracy: 0.6453\n",
      "Epoch 19/50\n",
      "1000/1000 [==============================] - 10s 10ms/step - loss: 0.5633 - accuracy: 0.7063 - val_loss: 0.6439 - val_accuracy: 0.6417\n",
      "Epoch 20/50\n",
      "1000/1000 [==============================] - 10s 10ms/step - loss: 0.5689 - accuracy: 0.7039 - val_loss: 0.6440 - val_accuracy: 0.6453\n",
      "Epoch 21/50\n",
      "1000/1000 [==============================] - 10s 10ms/step - loss: 0.5640 - accuracy: 0.7060 - val_loss: 0.6427 - val_accuracy: 0.6406\n",
      "Epoch 22/50\n",
      "1000/1000 [==============================] - 10s 10ms/step - loss: 0.5639 - accuracy: 0.7079 - val_loss: 0.6432 - val_accuracy: 0.6435\n",
      "Epoch 23/50\n",
      "1000/1000 [==============================] - 10s 10ms/step - loss: 0.5659 - accuracy: 0.7079 - val_loss: 0.6497 - val_accuracy: 0.6392\n",
      "Epoch 24/50\n",
      "1000/1000 [==============================] - 10s 10ms/step - loss: 0.5637 - accuracy: 0.7086 - val_loss: 0.6565 - val_accuracy: 0.6385\n",
      "Epoch 25/50\n",
      "1000/1000 [==============================] - 10s 10ms/step - loss: 0.5646 - accuracy: 0.7056 - val_loss: 0.6502 - val_accuracy: 0.6398\n",
      "Epoch 26/50\n",
      "1000/1000 [==============================] - 10s 10ms/step - loss: 0.5641 - accuracy: 0.7077 - val_loss: 0.6445 - val_accuracy: 0.6434\n",
      "Epoch 27/50\n",
      "1000/1000 [==============================] - 10s 10ms/step - loss: 0.5678 - accuracy: 0.7047 - val_loss: 0.6464 - val_accuracy: 0.6394\n",
      "Epoch 28/50\n",
      "1000/1000 [==============================] - 9s 9ms/step - loss: 0.5641 - accuracy: 0.7099 - val_loss: 0.6489 - val_accuracy: 0.6409\n",
      "Epoch 29/50\n",
      "1000/1000 [==============================] - 10s 10ms/step - loss: 0.5611 - accuracy: 0.7111 - val_loss: 0.6512 - val_accuracy: 0.6359\n",
      "Epoch 30/50\n",
      "1000/1000 [==============================] - 10s 10ms/step - loss: 0.5666 - accuracy: 0.7041 - val_loss: 0.6581 - val_accuracy: 0.6380\n",
      "Epoch 31/50\n",
      "1000/1000 [==============================] - 10s 10ms/step - loss: 0.5626 - accuracy: 0.7056 - val_loss: 0.6456 - val_accuracy: 0.6429\n",
      "Epoch 32/50\n",
      "1000/1000 [==============================] - 10s 10ms/step - loss: 0.5624 - accuracy: 0.7105 - val_loss: 0.6468 - val_accuracy: 0.6404\n",
      "Epoch 33/50\n",
      "1000/1000 [==============================] - 9s 9ms/step - loss: 0.5684 - accuracy: 0.7037 - val_loss: 0.6579 - val_accuracy: 0.6340\n",
      "Epoch 34/50\n",
      "1000/1000 [==============================] - 10s 10ms/step - loss: 0.5643 - accuracy: 0.7108 - val_loss: 0.6483 - val_accuracy: 0.6410\n",
      "Epoch 35/50\n",
      "1000/1000 [==============================] - 10s 10ms/step - loss: 0.5617 - accuracy: 0.7075 - val_loss: 0.6548 - val_accuracy: 0.6339\n",
      "Epoch 36/50\n",
      "1000/1000 [==============================] - 10s 10ms/step - loss: 0.5658 - accuracy: 0.7060 - val_loss: 0.6537 - val_accuracy: 0.6435\n",
      "Epoch 37/50\n",
      "1000/1000 [==============================] - 10s 10ms/step - loss: 0.5654 - accuracy: 0.7058 - val_loss: 0.6545 - val_accuracy: 0.6356\n",
      "Epoch 38/50\n",
      "1000/1000 [==============================] - 10s 10ms/step - loss: 0.5671 - accuracy: 0.7045 - val_loss: 0.6543 - val_accuracy: 0.6374\n",
      "Epoch 39/50\n",
      "1000/1000 [==============================] - 10s 10ms/step - loss: 0.5666 - accuracy: 0.7064 - val_loss: 0.6542 - val_accuracy: 0.6357\n",
      "Epoch 40/50\n",
      "1000/1000 [==============================] - 10s 10ms/step - loss: 0.5618 - accuracy: 0.7073 - val_loss: 0.6474 - val_accuracy: 0.6406\n",
      "Epoch 41/50\n",
      "1000/1000 [==============================] - 10s 10ms/step - loss: 0.5644 - accuracy: 0.7056 - val_loss: 0.6537 - val_accuracy: 0.6385\n",
      "Epoch 42/50\n",
      "1000/1000 [==============================] - 10s 10ms/step - loss: 0.5614 - accuracy: 0.7123 - val_loss: 0.6474 - val_accuracy: 0.6404\n",
      "Epoch 43/50\n",
      "1000/1000 [==============================] - 10s 10ms/step - loss: 0.5623 - accuracy: 0.7061 - val_loss: 0.6460 - val_accuracy: 0.6453\n",
      "Epoch 44/50\n",
      "1000/1000 [==============================] - 10s 10ms/step - loss: 0.5676 - accuracy: 0.7046 - val_loss: 0.6606 - val_accuracy: 0.6385\n",
      "Epoch 45/50\n",
      "1000/1000 [==============================] - 10s 10ms/step - loss: 0.5666 - accuracy: 0.7038 - val_loss: 0.6564 - val_accuracy: 0.6354\n",
      "Epoch 46/50\n",
      "1000/1000 [==============================] - 10s 10ms/step - loss: 0.5608 - accuracy: 0.7113 - val_loss: 0.6548 - val_accuracy: 0.6356\n",
      "Epoch 47/50\n",
      "1000/1000 [==============================] - 10s 10ms/step - loss: 0.5620 - accuracy: 0.7129 - val_loss: 0.6603 - val_accuracy: 0.6324\n",
      "Epoch 48/50\n",
      "1000/1000 [==============================] - 9s 9ms/step - loss: 0.5599 - accuracy: 0.7108 - val_loss: 0.6517 - val_accuracy: 0.6390\n",
      "Epoch 49/50\n",
      "1000/1000 [==============================] - 10s 10ms/step - loss: 0.5644 - accuracy: 0.7070 - val_loss: 0.6568 - val_accuracy: 0.6370\n",
      "Epoch 50/50\n",
      "1000/1000 [==============================] - 10s 10ms/step - loss: 0.5625 - accuracy: 0.7063 - val_loss: 0.6567 - val_accuracy: 0.6351\n",
      "Fold 2, 50 epochs, 483 sec\n"
     ]
    },
    {
     "data": {
      "image/png": "[encoded data removed]",
      "text/plain": [
       "<Figure size 576x360 with 1 Axes>"
      ]
     },
     "metadata": {
      "needs_background": "light",
      "tags": []
     },
     "output_type": "display_data"
    },
    {
     "name": "stdout",
     "output_type": "stream",
     "text": [
      "MODEL\n",
      "make_DNN\n",
      "input shape: (1000, 4)\n",
      "FIT\n",
      "Epoch 1/50\n",
      "1000/1000 [==============================] - 10s 10ms/step - loss: 0.6887 - accuracy: 0.5771 - val_loss: 0.6369 - val_accuracy: 0.6361\n",
      "Epoch 2/50\n",
      "1000/1000 [==============================] - 10s 10ms/step - loss: 0.5962 - accuracy: 0.6825 - val_loss: 0.6402 - val_accuracy: 0.6366\n",
      "Epoch 3/50\n",
      "1000/1000 [==============================] - 10s 10ms/step - loss: 0.5856 - accuracy: 0.6863 - val_loss: 0.6403 - val_accuracy: 0.6403\n",
      "Epoch 4/50\n",
      "1000/1000 [==============================] - 10s 10ms/step - loss: 0.5807 - accuracy: 0.6943 - val_loss: 0.6387 - val_accuracy: 0.6401\n",
      "Epoch 5/50\n",
      "1000/1000 [==============================] - 10s 10ms/step - loss: 0.5770 - accuracy: 0.6956 - val_loss: 0.6582 - val_accuracy: 0.6260\n",
      "Epoch 6/50\n",
      "1000/1000 [==============================] - 10s 10ms/step - loss: 0.5775 - accuracy: 0.6972 - val_loss: 0.6465 - val_accuracy: 0.6365\n",
      "Epoch 7/50\n",
      "1000/1000 [==============================] - 10s 10ms/step - loss: 0.5766 - accuracy: 0.6959 - val_loss: 0.6453 - val_accuracy: 0.6339\n",
      "Epoch 8/50\n",
      "1000/1000 [==============================] - 10s 10ms/step - loss: 0.5755 - accuracy: 0.6990 - val_loss: 0.6462 - val_accuracy: 0.6396\n",
      "Epoch 9/50\n",
      "1000/1000 [==============================] - 9s 9ms/step - loss: 0.5688 - accuracy: 0.7047 - val_loss: 0.6473 - val_accuracy: 0.6345\n",
      "Epoch 10/50\n",
      "1000/1000 [==============================] - 10s 10ms/step - loss: 0.5734 - accuracy: 0.7019 - val_loss: 0.6467 - val_accuracy: 0.6398\n",
      "Epoch 11/50\n",
      "1000/1000 [==============================] - 9s 9ms/step - loss: 0.5662 - accuracy: 0.7078 - val_loss: 0.6490 - val_accuracy: 0.6367\n",
      "Epoch 12/50\n",
      "1000/1000 [==============================] - 10s 10ms/step - loss: 0.5685 - accuracy: 0.7028 - val_loss: 0.6478 - val_accuracy: 0.6376\n",
      "Epoch 13/50\n",
      "1000/1000 [==============================] - 10s 10ms/step - loss: 0.5746 - accuracy: 0.7010 - val_loss: 0.6535 - val_accuracy: 0.6348\n",
      "Epoch 14/50\n",
      "1000/1000 [==============================] - 9s 9ms/step - loss: 0.5697 - accuracy: 0.7040 - val_loss: 0.6537 - val_accuracy: 0.6351\n",
      "Epoch 15/50\n",
      "1000/1000 [==============================] - 10s 10ms/step - loss: 0.5666 - accuracy: 0.7084 - val_loss: 0.6444 - val_accuracy: 0.6394\n",
      "Epoch 16/50\n",
      "1000/1000 [==============================] - 10s 10ms/step - loss: 0.5700 - accuracy: 0.7017 - val_loss: 0.6443 - val_accuracy: 0.6400\n",
      "Epoch 17/50\n",
      "1000/1000 [==============================] - 10s 10ms/step - loss: 0.5683 - accuracy: 0.7037 - val_loss: 0.6499 - val_accuracy: 0.6364\n",
      "Epoch 18/50\n",
      "1000/1000 [==============================] - 10s 10ms/step - loss: 0.5660 - accuracy: 0.7070 - val_loss: 0.6491 - val_accuracy: 0.6375\n",
      "Epoch 19/50\n",
      "1000/1000 [==============================] - 10s 10ms/step - loss: 0.5664 - accuracy: 0.7044 - val_loss: 0.6453 - val_accuracy: 0.6404\n",
      "Epoch 20/50\n",
      "1000/1000 [==============================] - 10s 10ms/step - loss: 0.5651 - accuracy: 0.7065 - val_loss: 0.6528 - val_accuracy: 0.6363\n",
      "Epoch 21/50\n",
      "1000/1000 [==============================] - 10s 10ms/step - loss: 0.5675 - accuracy: 0.7067 - val_loss: 0.6625 - val_accuracy: 0.6265\n",
      "Epoch 22/50\n",
      "1000/1000 [==============================] - 10s 10ms/step - loss: 0.5606 - accuracy: 0.7100 - val_loss: 0.6451 - val_accuracy: 0.6405\n",
      "Epoch 23/50\n",
      "1000/1000 [==============================] - 9s 9ms/step - loss: 0.5633 - accuracy: 0.7060 - val_loss: 0.6506 - val_accuracy: 0.6320\n",
      "Epoch 24/50\n",
      "1000/1000 [==============================] - 10s 10ms/step - loss: 0.5655 - accuracy: 0.7088 - val_loss: 0.6530 - val_accuracy: 0.6331\n",
      "Epoch 25/50\n",
      "1000/1000 [==============================] - 10s 10ms/step - loss: 0.5615 - accuracy: 0.7105 - val_loss: 0.6478 - val_accuracy: 0.6391\n",
      "Epoch 26/50\n",
      "1000/1000 [==============================] - 10s 10ms/step - loss: 0.5675 - accuracy: 0.7070 - val_loss: 0.6730 - val_accuracy: 0.6208\n",
      "Epoch 27/50\n",
      "1000/1000 [==============================] - 10s 10ms/step - loss: 0.5664 - accuracy: 0.7065 - val_loss: 0.6537 - val_accuracy: 0.6365\n",
      "Epoch 28/50\n",
      "1000/1000 [==============================] - 10s 10ms/step - loss: 0.5647 - accuracy: 0.7094 - val_loss: 0.6508 - val_accuracy: 0.6348\n",
      "Epoch 29/50\n",
      "1000/1000 [==============================] - 10s 10ms/step - loss: 0.5648 - accuracy: 0.7101 - val_loss: 0.6658 - val_accuracy: 0.6356\n",
      "Epoch 30/50\n",
      "1000/1000 [==============================] - 10s 10ms/step - loss: 0.5647 - accuracy: 0.7066 - val_loss: 0.6547 - val_accuracy: 0.6394\n",
      "Epoch 31/50\n",
      "1000/1000 [==============================] - 10s 10ms/step - loss: 0.5642 - accuracy: 0.7058 - val_loss: 0.6473 - val_accuracy: 0.6424\n",
      "Epoch 32/50\n",
      "1000/1000 [==============================] - 10s 10ms/step - loss: 0.5613 - accuracy: 0.7106 - val_loss: 0.6628 - val_accuracy: 0.6325\n",
      "Epoch 33/50\n",
      "1000/1000 [==============================] - 10s 10ms/step - loss: 0.5603 - accuracy: 0.7095 - val_loss: 0.6571 - val_accuracy: 0.6390\n",
      "Epoch 34/50\n",
      "1000/1000 [==============================] - 10s 10ms/step - loss: 0.5630 - accuracy: 0.7077 - val_loss: 0.6661 - val_accuracy: 0.6309\n",
      "Epoch 35/50\n",
      "1000/1000 [==============================] - 10s 10ms/step - loss: 0.5685 - accuracy: 0.7000 - val_loss: 0.6550 - val_accuracy: 0.6378\n",
      "Epoch 36/50\n",
      "1000/1000 [==============================] - 10s 10ms/step - loss: 0.5690 - accuracy: 0.7032 - val_loss: 0.6549 - val_accuracy: 0.6346\n",
      "Epoch 37/50\n",
      "1000/1000 [==============================] - 10s 10ms/step - loss: 0.5680 - accuracy: 0.7049 - val_loss: 0.6593 - val_accuracy: 0.6354\n",
      "Epoch 38/50\n",
      "1000/1000 [==============================] - 10s 10ms/step - loss: 0.5679 - accuracy: 0.7027 - val_loss: 0.6539 - val_accuracy: 0.6396\n",
      "Epoch 39/50\n",
      "1000/1000 [==============================] - 10s 10ms/step - loss: 0.5630 - accuracy: 0.7093 - val_loss: 0.6580 - val_accuracy: 0.6335\n",
      "Epoch 40/50\n",
      "1000/1000 [==============================] - 10s 10ms/step - loss: 0.5643 - accuracy: 0.7093 - val_loss: 0.6690 - val_accuracy: 0.6256\n",
      "Epoch 41/50\n",
      "1000/1000 [==============================] - 10s 10ms/step - loss: 0.5660 - accuracy: 0.7049 - val_loss: 0.6538 - val_accuracy: 0.6354\n",
      "Epoch 42/50\n",
      "1000/1000 [==============================] - 10s 10ms/step - loss: 0.5644 - accuracy: 0.7067 - val_loss: 0.6567 - val_accuracy: 0.6373\n",
      "Epoch 43/50\n",
      "1000/1000 [==============================] - 10s 10ms/step - loss: 0.5675 - accuracy: 0.7067 - val_loss: 0.6583 - val_accuracy: 0.6344\n",
      "Epoch 44/50\n",
      "1000/1000 [==============================] - 10s 10ms/step - loss: 0.5623 - accuracy: 0.7109 - val_loss: 0.6638 - val_accuracy: 0.6309\n",
      "Epoch 45/50\n",
      "1000/1000 [==============================] - 10s 10ms/step - loss: 0.5634 - accuracy: 0.7069 - val_loss: 0.6534 - val_accuracy: 0.6376\n",
      "Epoch 46/50\n",
      "1000/1000 [==============================] - 10s 10ms/step - loss: 0.5694 - accuracy: 0.6997 - val_loss: 0.6566 - val_accuracy: 0.6334\n",
      "Epoch 47/50\n",
      "1000/1000 [==============================] - 10s 10ms/step - loss: 0.5571 - accuracy: 0.7150 - val_loss: 0.6488 - val_accuracy: 0.6386\n",
      "Epoch 48/50\n",
      "1000/1000 [==============================] - 10s 10ms/step - loss: 0.5603 - accuracy: 0.7103 - val_loss: 0.6641 - val_accuracy: 0.6304\n",
      "Epoch 49/50\n",
      "1000/1000 [==============================] - 10s 10ms/step - loss: 0.5614 - accuracy: 0.7099 - val_loss: 0.6486 - val_accuracy: 0.6376\n",
      "Epoch 50/50\n",
      "1000/1000 [==============================] - 10s 10ms/step - loss: 0.5620 - accuracy: 0.7106 - val_loss: 0.6506 - val_accuracy: 0.6365\n",
      "Fold 3, 50 epochs, 485 sec\n"
     ]
    },
    {
     "data": {
      "image/png": "[encoded data removed]",
      "text/plain": [
       "<Figure size 576x360 with 1 Axes>"
      ]
     },
     "metadata": {
      "needs_background": "light",
      "tags": []
     },
     "output_type": "display_data"
    },
    {
     "name": "stdout",
     "output_type": "stream",
     "text": [
      "MODEL\n",
      "make_DNN\n",
      "input shape: (1000, 4)\n",
      "FIT\n",
      "Epoch 1/50\n",
      "1000/1000 [==============================] - 10s 10ms/step - loss: 0.6871 - accuracy: 0.5802 - val_loss: 0.6326 - val_accuracy: 0.6491\n",
      "Epoch 2/50\n",
      "1000/1000 [==============================] - 10s 10ms/step - loss: 0.6015 - accuracy: 0.6754 - val_loss: 0.6350 - val_accuracy: 0.6460\n",
      "Epoch 3/50\n",
      "1000/1000 [==============================] - 10s 10ms/step - loss: 0.5886 - accuracy: 0.6855 - val_loss: 0.6344 - val_accuracy: 0.6500\n",
      "Epoch 4/50\n",
      "1000/1000 [==============================] - 10s 10ms/step - loss: 0.5815 - accuracy: 0.6928 - val_loss: 0.6348 - val_accuracy: 0.6469\n",
      "Epoch 5/50\n",
      "1000/1000 [==============================] - 10s 10ms/step - loss: 0.5798 - accuracy: 0.6923 - val_loss: 0.6346 - val_accuracy: 0.6475\n",
      "Epoch 6/50\n",
      "1000/1000 [==============================] - 10s 10ms/step - loss: 0.5734 - accuracy: 0.7022 - val_loss: 0.6373 - val_accuracy: 0.6454\n",
      "Epoch 7/50\n",
      "1000/1000 [==============================] - 10s 10ms/step - loss: 0.5800 - accuracy: 0.6958 - val_loss: 0.6394 - val_accuracy: 0.6444\n",
      "Epoch 8/50\n",
      "1000/1000 [==============================] - 10s 10ms/step - loss: 0.5761 - accuracy: 0.6987 - val_loss: 0.6468 - val_accuracy: 0.6417\n",
      "Epoch 9/50\n",
      "1000/1000 [==============================] - 10s 10ms/step - loss: 0.5753 - accuracy: 0.6970 - val_loss: 0.6380 - val_accuracy: 0.6456\n",
      "Epoch 10/50\n",
      "1000/1000 [==============================] - 10s 10ms/step - loss: 0.5691 - accuracy: 0.7026 - val_loss: 0.6416 - val_accuracy: 0.6454\n",
      "Epoch 11/50\n",
      "1000/1000 [==============================] - 10s 10ms/step - loss: 0.5733 - accuracy: 0.6987 - val_loss: 0.6363 - val_accuracy: 0.6490\n",
      "Epoch 12/50\n",
      "1000/1000 [==============================] - 10s 10ms/step - loss: 0.5722 - accuracy: 0.6975 - val_loss: 0.6395 - val_accuracy: 0.6442\n",
      "Epoch 13/50\n",
      "1000/1000 [==============================] - 10s 10ms/step - loss: 0.5675 - accuracy: 0.7053 - val_loss: 0.6389 - val_accuracy: 0.6450\n",
      "Epoch 14/50\n",
      "1000/1000 [==============================] - 10s 10ms/step - loss: 0.5653 - accuracy: 0.7055 - val_loss: 0.6451 - val_accuracy: 0.6419\n",
      "Epoch 15/50\n",
      "1000/1000 [==============================] - 10s 10ms/step - loss: 0.5716 - accuracy: 0.7023 - val_loss: 0.6419 - val_accuracy: 0.6476\n",
      "Epoch 16/50\n",
      "1000/1000 [==============================] - 10s 10ms/step - loss: 0.5687 - accuracy: 0.7004 - val_loss: 0.6413 - val_accuracy: 0.6464\n",
      "Epoch 17/50\n",
      "1000/1000 [==============================] - 10s 10ms/step - loss: 0.5697 - accuracy: 0.6998 - val_loss: 0.6447 - val_accuracy: 0.6425\n",
      "Epoch 18/50\n",
      "1000/1000 [==============================] - 10s 10ms/step - loss: 0.5704 - accuracy: 0.7046 - val_loss: 0.6424 - val_accuracy: 0.6431\n",
      "Epoch 19/50\n",
      "1000/1000 [==============================] - 10s 10ms/step - loss: 0.5679 - accuracy: 0.7070 - val_loss: 0.6378 - val_accuracy: 0.6486\n",
      "Epoch 20/50\n",
      "1000/1000 [==============================] - 10s 10ms/step - loss: 0.5663 - accuracy: 0.7076 - val_loss: 0.6477 - val_accuracy: 0.6444\n",
      "Epoch 21/50\n",
      "1000/1000 [==============================] - 10s 10ms/step - loss: 0.5650 - accuracy: 0.7051 - val_loss: 0.6462 - val_accuracy: 0.6429\n",
      "Epoch 22/50\n",
      "1000/1000 [==============================] - 10s 10ms/step - loss: 0.5669 - accuracy: 0.7051 - val_loss: 0.6445 - val_accuracy: 0.6421\n",
      "Epoch 23/50\n",
      "1000/1000 [==============================] - 10s 10ms/step - loss: 0.5633 - accuracy: 0.7062 - val_loss: 0.6417 - val_accuracy: 0.6467\n",
      "Epoch 24/50\n",
      "1000/1000 [==============================] - 10s 10ms/step - loss: 0.5627 - accuracy: 0.7053 - val_loss: 0.6507 - val_accuracy: 0.6395\n",
      "Epoch 25/50\n",
      "1000/1000 [==============================] - 10s 10ms/step - loss: 0.5689 - accuracy: 0.7042 - val_loss: 0.6444 - val_accuracy: 0.6428\n",
      "Epoch 26/50\n",
      "1000/1000 [==============================] - 10s 10ms/step - loss: 0.5680 - accuracy: 0.7025 - val_loss: 0.6480 - val_accuracy: 0.6404\n",
      "Epoch 27/50\n",
      "1000/1000 [==============================] - 10s 10ms/step - loss: 0.5678 - accuracy: 0.7061 - val_loss: 0.6467 - val_accuracy: 0.6428\n",
      "Epoch 28/50\n",
      "1000/1000 [==============================] - 10s 10ms/step - loss: 0.5618 - accuracy: 0.7090 - val_loss: 0.6428 - val_accuracy: 0.6475\n",
      "Epoch 29/50\n",
      "1000/1000 [==============================] - 10s 10ms/step - loss: 0.5636 - accuracy: 0.7088 - val_loss: 0.6468 - val_accuracy: 0.6389\n",
      "Epoch 30/50\n",
      "1000/1000 [==============================] - 10s 10ms/step - loss: 0.5682 - accuracy: 0.7039 - val_loss: 0.6508 - val_accuracy: 0.6410\n",
      "Epoch 31/50\n",
      "1000/1000 [==============================] - 10s 10ms/step - loss: 0.5622 - accuracy: 0.7100 - val_loss: 0.6427 - val_accuracy: 0.6490\n",
      "Epoch 32/50\n",
      "1000/1000 [==============================] - 10s 10ms/step - loss: 0.5683 - accuracy: 0.7066 - val_loss: 0.6543 - val_accuracy: 0.6373\n",
      "Epoch 33/50\n",
      "1000/1000 [==============================] - 10s 10ms/step - loss: 0.5643 - accuracy: 0.7054 - val_loss: 0.6568 - val_accuracy: 0.6375\n",
      "Epoch 34/50\n",
      "1000/1000 [==============================] - 10s 10ms/step - loss: 0.5641 - accuracy: 0.7048 - val_loss: 0.6529 - val_accuracy: 0.6401\n",
      "Epoch 35/50\n",
      "1000/1000 [==============================] - 10s 10ms/step - loss: 0.5631 - accuracy: 0.7090 - val_loss: 0.6513 - val_accuracy: 0.6406\n",
      "Epoch 36/50\n",
      "1000/1000 [==============================] - 10s 10ms/step - loss: 0.5643 - accuracy: 0.7092 - val_loss: 0.6499 - val_accuracy: 0.6450\n",
      "Epoch 37/50\n",
      "1000/1000 [==============================] - 10s 10ms/step - loss: 0.5635 - accuracy: 0.7054 - val_loss: 0.6542 - val_accuracy: 0.6423\n",
      "Epoch 38/50\n",
      "1000/1000 [==============================] - 10s 10ms/step - loss: 0.5639 - accuracy: 0.7061 - val_loss: 0.6465 - val_accuracy: 0.6463\n",
      "Epoch 39/50\n",
      "1000/1000 [==============================] - 10s 10ms/step - loss: 0.5650 - accuracy: 0.7012 - val_loss: 0.6526 - val_accuracy: 0.6411\n",
      "Epoch 40/50\n",
      "1000/1000 [==============================] - 10s 10ms/step - loss: 0.5639 - accuracy: 0.7064 - val_loss: 0.6478 - val_accuracy: 0.6467\n",
      "Epoch 41/50\n",
      "1000/1000 [==============================] - 10s 10ms/step - loss: 0.5649 - accuracy: 0.7033 - val_loss: 0.6522 - val_accuracy: 0.6405\n",
      "Epoch 42/50\n",
      "1000/1000 [==============================] - 10s 10ms/step - loss: 0.5635 - accuracy: 0.7085 - val_loss: 0.6561 - val_accuracy: 0.6374\n",
      "Epoch 43/50\n",
      "1000/1000 [==============================] - 10s 10ms/step - loss: 0.5615 - accuracy: 0.7090 - val_loss: 0.6473 - val_accuracy: 0.6409\n",
      "Epoch 44/50\n",
      "1000/1000 [==============================] - 10s 10ms/step - loss: 0.5715 - accuracy: 0.6997 - val_loss: 0.6573 - val_accuracy: 0.6398\n",
      "Epoch 45/50\n",
      "1000/1000 [==============================] - 10s 10ms/step - loss: 0.5647 - accuracy: 0.7035 - val_loss: 0.6509 - val_accuracy: 0.6440\n",
      "Epoch 46/50\n",
      "1000/1000 [==============================] - 10s 10ms/step - loss: 0.5596 - accuracy: 0.7091 - val_loss: 0.6493 - val_accuracy: 0.6384\n",
      "Epoch 47/50\n",
      "1000/1000 [==============================] - 10s 10ms/step - loss: 0.5654 - accuracy: 0.7054 - val_loss: 0.6463 - val_accuracy: 0.6449\n",
      "Epoch 48/50\n",
      "1000/1000 [==============================] - 10s 10ms/step - loss: 0.5697 - accuracy: 0.7024 - val_loss: 0.6577 - val_accuracy: 0.6365\n",
      "Epoch 49/50\n",
      "1000/1000 [==============================] - 10s 10ms/step - loss: 0.5598 - accuracy: 0.7088 - val_loss: 0.6434 - val_accuracy: 0.6438\n",
      "Epoch 50/50\n",
      "1000/1000 [==============================] - 10s 10ms/step - loss: 0.5629 - accuracy: 0.7057 - val_loss: 0.6497 - val_accuracy: 0.6429\n",
      "Fold 4, 50 epochs, 490 sec\n"
     ]
    },
    {
     "data": {
      "image/png": "[encoded data removed]",
      "text/plain": [
       "<Figure size 576x360 with 1 Axes>"
      ]
     },
     "metadata": {
      "needs_background": "light",
      "tags": []
     },
     "output_type": "display_data"
    },
    {
     "name": "stdout",
     "output_type": "stream",
     "text": [
      "MODEL\n",
      "make_DNN\n",
      "input shape: (1000, 4)\n",
      "FIT\n",
      "Epoch 1/50\n",
      "1000/1000 [==============================] - 10s 10ms/step - loss: 0.7018 - accuracy: 0.5640 - val_loss: 0.6458 - val_accuracy: 0.6376\n",
      "Epoch 2/50\n",
      "1000/1000 [==============================] - 10s 10ms/step - loss: 0.6004 - accuracy: 0.6749 - val_loss: 0.6407 - val_accuracy: 0.6466\n",
      "Epoch 3/50\n",
      "1000/1000 [==============================] - 10s 10ms/step - loss: 0.5911 - accuracy: 0.6865 - val_loss: 0.6445 - val_accuracy: 0.6460\n",
      "Epoch 4/50\n",
      "1000/1000 [==============================] - 10s 10ms/step - loss: 0.5776 - accuracy: 0.6979 - val_loss: 0.6438 - val_accuracy: 0.6451\n",
      "Epoch 5/50\n",
      "1000/1000 [==============================] - 10s 10ms/step - loss: 0.5759 - accuracy: 0.6978 - val_loss: 0.6557 - val_accuracy: 0.6406\n",
      "Epoch 6/50\n",
      "1000/1000 [==============================] - 10s 10ms/step - loss: 0.5742 - accuracy: 0.7017 - val_loss: 0.6510 - val_accuracy: 0.6305\n",
      "Epoch 7/50\n",
      "1000/1000 [==============================] - 10s 10ms/step - loss: 0.5731 - accuracy: 0.6986 - val_loss: 0.6430 - val_accuracy: 0.6454\n",
      "Epoch 8/50\n",
      "1000/1000 [==============================] - 10s 10ms/step - loss: 0.5716 - accuracy: 0.7016 - val_loss: 0.6479 - val_accuracy: 0.6454\n",
      "Epoch 9/50\n",
      "1000/1000 [==============================] - 10s 10ms/step - loss: 0.5738 - accuracy: 0.6977 - val_loss: 0.6449 - val_accuracy: 0.6470\n",
      "Epoch 10/50\n",
      "1000/1000 [==============================] - 10s 10ms/step - loss: 0.5726 - accuracy: 0.7035 - val_loss: 0.6489 - val_accuracy: 0.6436\n",
      "Epoch 11/50\n",
      "1000/1000 [==============================] - 10s 10ms/step - loss: 0.5707 - accuracy: 0.7023 - val_loss: 0.6445 - val_accuracy: 0.6520\n",
      "Epoch 12/50\n",
      "1000/1000 [==============================] - 10s 10ms/step - loss: 0.5690 - accuracy: 0.7009 - val_loss: 0.6475 - val_accuracy: 0.6465\n",
      "Epoch 13/50\n",
      "1000/1000 [==============================] - 10s 10ms/step - loss: 0.5666 - accuracy: 0.7037 - val_loss: 0.6486 - val_accuracy: 0.6430\n",
      "Epoch 14/50\n",
      "1000/1000 [==============================] - 10s 10ms/step - loss: 0.5673 - accuracy: 0.7003 - val_loss: 0.6483 - val_accuracy: 0.6421\n",
      "Epoch 15/50\n",
      "1000/1000 [==============================] - 10s 10ms/step - loss: 0.5660 - accuracy: 0.7027 - val_loss: 0.6458 - val_accuracy: 0.6482\n",
      "Epoch 16/50\n",
      "1000/1000 [==============================] - 10s 10ms/step - loss: 0.5657 - accuracy: 0.7042 - val_loss: 0.6470 - val_accuracy: 0.6428\n",
      "Epoch 17/50\n",
      "1000/1000 [==============================] - 10s 10ms/step - loss: 0.5647 - accuracy: 0.7050 - val_loss: 0.6519 - val_accuracy: 0.6488\n",
      "Epoch 18/50\n",
      "1000/1000 [==============================] - 10s 10ms/step - loss: 0.5703 - accuracy: 0.7027 - val_loss: 0.6550 - val_accuracy: 0.6331\n",
      "Epoch 19/50\n",
      "1000/1000 [==============================] - 10s 10ms/step - loss: 0.5665 - accuracy: 0.7000 - val_loss: 0.6540 - val_accuracy: 0.6398\n",
      "Epoch 20/50\n",
      "1000/1000 [==============================] - 10s 10ms/step - loss: 0.5611 - accuracy: 0.7127 - val_loss: 0.6485 - val_accuracy: 0.6430\n",
      "Epoch 21/50\n",
      "1000/1000 [==============================] - 10s 10ms/step - loss: 0.5669 - accuracy: 0.7049 - val_loss: 0.6532 - val_accuracy: 0.6419\n",
      "Epoch 22/50\n",
      "1000/1000 [==============================] - 10s 10ms/step - loss: 0.5672 - accuracy: 0.7020 - val_loss: 0.6536 - val_accuracy: 0.6428\n",
      "Epoch 23/50\n",
      "1000/1000 [==============================] - 10s 10ms/step - loss: 0.5635 - accuracy: 0.7034 - val_loss: 0.6509 - val_accuracy: 0.6455\n",
      "Epoch 24/50\n",
      "1000/1000 [==============================] - 10s 10ms/step - loss: 0.5628 - accuracy: 0.7044 - val_loss: 0.6613 - val_accuracy: 0.6411\n",
      "Epoch 25/50\n",
      "1000/1000 [==============================] - 10s 10ms/step - loss: 0.5633 - accuracy: 0.7073 - val_loss: 0.6489 - val_accuracy: 0.6420\n",
      "Epoch 26/50\n",
      "1000/1000 [==============================] - 10s 10ms/step - loss: 0.5637 - accuracy: 0.7073 - val_loss: 0.6533 - val_accuracy: 0.6404\n",
      "Epoch 27/50\n",
      "1000/1000 [==============================] - 10s 10ms/step - loss: 0.5612 - accuracy: 0.7102 - val_loss: 0.6548 - val_accuracy: 0.6391\n",
      "Epoch 28/50\n",
      "1000/1000 [==============================] - 10s 10ms/step - loss: 0.5609 - accuracy: 0.7102 - val_loss: 0.6523 - val_accuracy: 0.6406\n",
      "Epoch 29/50\n",
      "1000/1000 [==============================] - 10s 10ms/step - loss: 0.5630 - accuracy: 0.7091 - val_loss: 0.6611 - val_accuracy: 0.6444\n",
      "Epoch 30/50\n",
      "1000/1000 [==============================] - 10s 10ms/step - loss: 0.5668 - accuracy: 0.7049 - val_loss: 0.6547 - val_accuracy: 0.6414\n",
      "Epoch 31/50\n",
      "1000/1000 [==============================] - 10s 10ms/step - loss: 0.5663 - accuracy: 0.7054 - val_loss: 0.6529 - val_accuracy: 0.6428\n",
      "Epoch 32/50\n",
      "1000/1000 [==============================] - 10s 10ms/step - loss: 0.5635 - accuracy: 0.7089 - val_loss: 0.6587 - val_accuracy: 0.6379\n",
      "Epoch 33/50\n",
      "1000/1000 [==============================] - 10s 10ms/step - loss: 0.5635 - accuracy: 0.7068 - val_loss: 0.6546 - val_accuracy: 0.6405\n",
      "Epoch 34/50\n",
      "1000/1000 [==============================] - 10s 10ms/step - loss: 0.5613 - accuracy: 0.7073 - val_loss: 0.6579 - val_accuracy: 0.6373\n",
      "Epoch 35/50\n",
      "1000/1000 [==============================] - 10s 10ms/step - loss: 0.5653 - accuracy: 0.7058 - val_loss: 0.6547 - val_accuracy: 0.6436\n",
      "Epoch 36/50\n",
      "1000/1000 [==============================] - 10s 10ms/step - loss: 0.5625 - accuracy: 0.7052 - val_loss: 0.6563 - val_accuracy: 0.6395\n",
      "Epoch 37/50\n",
      "1000/1000 [==============================] - 10s 10ms/step - loss: 0.5662 - accuracy: 0.7029 - val_loss: 0.6613 - val_accuracy: 0.6398\n",
      "Epoch 38/50\n",
      "1000/1000 [==============================] - 10s 10ms/step - loss: 0.5671 - accuracy: 0.7017 - val_loss: 0.6595 - val_accuracy: 0.6411\n",
      "Epoch 39/50\n",
      "1000/1000 [==============================] - 10s 10ms/step - loss: 0.5649 - accuracy: 0.7050 - val_loss: 0.6613 - val_accuracy: 0.6438\n",
      "Epoch 40/50\n",
      "1000/1000 [==============================] - 10s 10ms/step - loss: 0.5633 - accuracy: 0.7078 - val_loss: 0.6528 - val_accuracy: 0.6455\n",
      "Epoch 41/50\n",
      "1000/1000 [==============================] - 10s 10ms/step - loss: 0.5629 - accuracy: 0.7086 - val_loss: 0.6648 - val_accuracy: 0.6411\n",
      "Epoch 42/50\n",
      "1000/1000 [==============================] - 10s 10ms/step - loss: 0.5600 - accuracy: 0.7078 - val_loss: 0.6580 - val_accuracy: 0.6344\n",
      "Epoch 43/50\n",
      "1000/1000 [==============================] - 10s 10ms/step - loss: 0.5589 - accuracy: 0.7112 - val_loss: 0.6575 - val_accuracy: 0.6366\n",
      "Epoch 44/50\n",
      "1000/1000 [==============================] - 10s 10ms/step - loss: 0.5613 - accuracy: 0.7096 - val_loss: 0.6589 - val_accuracy: 0.6413\n",
      "Epoch 45/50\n",
      "1000/1000 [==============================] - 10s 10ms/step - loss: 0.5640 - accuracy: 0.7066 - val_loss: 0.6612 - val_accuracy: 0.6392\n",
      "Epoch 46/50\n",
      "1000/1000 [==============================] - 10s 10ms/step - loss: 0.5633 - accuracy: 0.7123 - val_loss: 0.6535 - val_accuracy: 0.6436\n",
      "Epoch 47/50\n",
      "1000/1000 [==============================] - 10s 10ms/step - loss: 0.5627 - accuracy: 0.7062 - val_loss: 0.6574 - val_accuracy: 0.6417\n",
      "Epoch 48/50\n",
      "1000/1000 [==============================] - 10s 10ms/step - loss: 0.5608 - accuracy: 0.7102 - val_loss: 0.6627 - val_accuracy: 0.6374\n",
      "Epoch 49/50\n",
      "1000/1000 [==============================] - 10s 10ms/step - loss: 0.5613 - accuracy: 0.7063 - val_loss: 0.6752 - val_accuracy: 0.6357\n",
      "Epoch 50/50\n",
      "1000/1000 [==============================] - 10s 10ms/step - loss: 0.5570 - accuracy: 0.7106 - val_loss: 0.6617 - val_accuracy: 0.6395\n",
      "Fold 5, 50 epochs, 494 sec\n"
     ]
    },
    {
     "data": {
      "image/png": "[encoded data removed]",
      "text/plain": [
       "<Figure size 576x360 with 1 Axes>"
      ]
     },
     "metadata": {
      "needs_background": "light",
      "tags": []
     },
     "output_type": "display_data"
    }
   ],
   "source": [
    "do_cross_validation(X,y)"
   ]
  },
  {
   "cell_type": "code",
   "execution_count": 10,
   "metadata": {
    "colab": {
     "base_uri": "https://localhost:8080/"
    },
    "id": "e-jG1h5fj2Ua",
    "outputId": "d3502ec2-8086-4e43-f7e0-eeab7ef784da"
   },
   "outputs": [
    {
     "name": "stdout",
     "output_type": "stream",
     "text": [
      "The best model parameters were saved during cross-validation.\n",
      "Best was defined as maximum validation accuracy at end of any epoch.\n",
      "Now re-load the best model and test it on previously unseen data.\n",
      "Test on 1000 PC seqs\n",
      "Test on 1000 NC seqs\n",
      "accuracy: 63.45%\n"
     ]
    }
   ],
   "source": [
    "from keras.models import load_model\n",
    "pc_test = pc_sim.get_sequences(PC_TESTS)\n",
    "nc_test = nc_sim.get_sequences(NC_TESTS)\n",
    "X,y = prepare_inputs_len_x_alphabet(pc_test,nc_test,ALPHABET)\n",
    "best_model=load_model(MODELPATH)\n",
    "scores = best_model.evaluate(X, y, verbose=0)\n",
    "print(\"The best model parameters were saved during cross-validation.\")\n",
    "print(\"Best was defined as maximum validation accuracy at end of any epoch.\")\n",
    "print(\"Now re-load the best model and test it on previously unseen data.\")\n",
    "print(\"Test on\",len(pc_test),\"PC seqs\")\n",
    "print(\"Test on\",len(nc_test),\"NC seqs\")\n",
    "print(\"%s: %.2f%%\" % (best_model.metrics_names[1], scores[1]*100))\n"
   ]
  },
  {
   "cell_type": "code",
   "execution_count": 11,
   "metadata": {
    "colab": {
     "base_uri": "https://localhost:8080/",
     "height": 295
    },
    "id": "VycUnmvUj2Ue",
    "outputId": "7397b346-0306-4199-8ca4-e0adaef92b0a"
   },
   "outputs": [
    {
     "data": {
      "image/png": "[encoded data removed]",
      "text/plain": [
       "<Figure size 432x288 with 1 Axes>"
      ]
     },
     "metadata": {
      "needs_background": "light",
      "tags": []
     },
     "output_type": "display_data"
    }
   ],
   "source": [
    "from sklearn.metrics import roc_curve\n",
    "from sklearn.metrics import roc_auc_score\n",
    "ns_probs = [0 for _ in range(len(y))]\n",
    "bm_probs = best_model.predict(X)\n",
    "ns_auc = roc_auc_score(y, ns_probs)\n",
    "bm_auc = roc_auc_score(y, bm_probs)\n",
    "ns_fpr, ns_tpr, _ = roc_curve(y, ns_probs)\n",
    "bm_fpr, bm_tpr, _ = roc_curve(y, bm_probs)\n",
    "plt.plot(ns_fpr, ns_tpr, linestyle='--', label='Guess, auc=%.4f'%ns_auc)\n",
    "plt.plot(bm_fpr, bm_tpr, marker='.', label='Model, auc=%.4f'%bm_auc)\n",
    "plt.title('ROC')\n",
    "plt.xlabel('False Positive Rate')\n",
    "plt.ylabel('True Positive Rate')\n",
    "plt.legend()\n",
    "plt.show()\n",
    "print(\"%s: %.2f%%\" %('AUC',bm_auc))"
   ]
  },
  {
   "cell_type": "code",
   "execution_count": 11,
   "metadata": {
    "id": "kFMb6rGNj2Ug"
   },
   "outputs": [],
   "source": []
  }
 ],
 "metadata": {
  "colab": {
   "collapsed_sections": [],
   "name": "ORF_CNN_101.ipynb",
   "provenance": []
  },
  "kernelspec": {
   "display_name": "Python 3",
   "language": "python",
   "name": "python3"
  },
  "language_info": {
   "codemirror_mode": {
    "name": "ipython",
    "version": 3
   },
   "file_extension": ".py",
   "mimetype": "text/x-python",
   "name": "python",
   "nbconvert_exporter": "python",
   "pygments_lexer": "ipython3",
   "version": "3.8.3"
  }
 },
 "nbformat": 4,
 "nbformat_minor": 1
}
