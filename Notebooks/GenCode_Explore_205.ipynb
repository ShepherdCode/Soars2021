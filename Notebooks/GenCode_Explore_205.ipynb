{
  "nbformat": 4,
  "nbformat_minor": 0,
  "metadata": {
    "kernelspec": {
      "display_name": "Python 3",
      "language": "python",
      "name": "python3"
    },
    "language_info": {
      "codemirror_mode": {
        "name": "ipython",
        "version": 3
      },
      "file_extension": ".py",
      "mimetype": "text/x-python",
      "name": "python",
      "nbconvert_exporter": "python",
      "pygments_lexer": "ipython3",
      "version": "3.8.3"
    },
    "colab": {
      "name": "GenCode_Explore_205.ipynb",
      "provenance": [],
      "collapsed_sections": []
    }
  },
  "cells": [
    {
      "cell_type": "markdown",
      "metadata": {
        "id": "tFJJK7JDL6Q1"
      },
      "source": [
        "# GenCode Explore\n",
        "\n",
        "Explore the human RNA sequences from GenCode.\n",
        "\n",
        "Assume user downloaded files from GenCode 38 [FTP](http://ftp.ebi.ac.uk/pub/databases/gencode/Gencode_human/release_38/)\n",
        "to a subdirectory called data.\n",
        "\n",
        "Improve on GenCode_Explore_101.ipynb\n",
        "\n",
        "Use ORF_counter. \n",
        "\n",
        "Use MatPlotLib to make box plots and heat maps."
      ]
    },
    {
      "cell_type": "code",
      "metadata": {
        "colab": {
          "base_uri": "https://localhost:8080/"
        },
        "id": "eDgS-z1tL6Q2",
        "outputId": "2c99440d-4d09-4ee8-a916-a063289904a5"
      },
      "source": [
        "import time \n",
        "def show_time():\n",
        "    t = time.time()\n",
        "    s = time.strftime('%Y-%m-%d %H:%M:%S %Z', time.localtime(t))\n",
        "    print(s)\n",
        "show_time()"
      ],
      "execution_count": 105,
      "outputs": [
        {
          "output_type": "stream",
          "text": [
            "2021-06-03 17:21:03 UTC\n"
          ],
          "name": "stdout"
        }
      ]
    },
    {
      "cell_type": "code",
      "metadata": {
        "colab": {
          "base_uri": "https://localhost:8080/"
        },
        "id": "tckHr4SuL6Q5",
        "outputId": "a5b9978a-c404-4e0c-d044-4575dbd4322a"
      },
      "source": [
        "import numpy as np\n",
        "import pandas as pd\n",
        "import gzip\n",
        "import sys\n",
        "try:\n",
        "    from google.colab import drive\n",
        "    IN_COLAB = True\n",
        "    print(\"On Google CoLab, mount cloud-local file, get our code from GitHub.\")\n",
        "    PATH='/content/drive/'\n",
        "    #drive.mount(PATH,force_remount=True)  # hardly ever need this\n",
        "    drive.mount(PATH)    # Google will require login credentials\n",
        "    DATAPATH=PATH+'My Drive/data/'  # must end in \"/\"\n",
        "    import requests\n",
        "    s = requests.get('https://raw.githubusercontent.com/ShepherdCode/Soars2021/master/SimTools/RNA_describe.py')\n",
        "    with open('RNA_describe.py', 'w') as f:\n",
        "        f.write(s.text)  # writes to cloud local, delete the file later?\n",
        "    from RNA_describe import *\n",
        "except:\n",
        "    print(\"CoLab not working. On my PC, use relative paths.\")\n",
        "    IN_COLAB = False\n",
        "    DATAPATH='../data/'  # must end in \"/\"\n",
        "    sys.path.append(\"..\") # append parent dir in order to use sibling dirs\n",
        "    from SimTools.RNA_describe import *\n",
        "\n",
        "MODELPATH=\"BestModel\"  # saved on cloud instance and lost after logout\n",
        "#MODELPATH=DATAPATH+MODELPATH  # saved on Google Drive but requires login\n",
        "\n",
        "if not assert_imported_RNA_describe():\n",
        "    print(\"ERROR: Cannot use RNA_describe.\")"
      ],
      "execution_count": 106,
      "outputs": [
        {
          "output_type": "stream",
          "text": [
            "On Google CoLab, mount cloud-local file, get our code from GitHub.\n",
            "Drive already mounted at /content/drive/; to attempt to forcibly remount, call drive.mount(\"/content/drive/\", force_remount=True).\n"
          ],
          "name": "stdout"
        }
      ]
    },
    {
      "cell_type": "code",
      "metadata": {
        "id": "qdPZNYUwL6Q6"
      },
      "source": [
        "PC_FILENAME='gencode.v38.pc_transcripts.fa.gz'\n",
        "NC_FILENAME='gencode.v38.lncRNA_transcripts.fa.gz'"
      ],
      "execution_count": 107,
      "outputs": []
    },
    {
      "cell_type": "code",
      "metadata": {
        "id": "UpG1fmR_L6Q7"
      },
      "source": [
        "def load_gencode(filename,label):\n",
        "    DEFLINE='>'\n",
        "    DELIM='|'\n",
        "    EMPTY=''\n",
        "    labels=[]  # usually 1 for protein-coding or 0 for non-coding\n",
        "    seqs=[]    # usually string of ACGT\n",
        "    lens=[]    # sequence length\n",
        "    ids=[]     # GenCode transcript ID, always starts ENST\n",
        "    one_seq = EMPTY\n",
        "    one_id = None\n",
        "    # Use gzip 'r' mode to open file in read-only mode.\n",
        "    # Use gzip 't' mode to read each line of text as type string.\n",
        "    with gzip.open (filename,'rt') as infile:\n",
        "        for line in infile:\n",
        "            if line[0]==DEFLINE:\n",
        "                # Save the previous sequence if one exists.\n",
        "                if not one_seq == EMPTY:\n",
        "                    labels.append(label)\n",
        "                    seqs.append(one_seq)\n",
        "                    lens.append(len(one_seq))\n",
        "                    ids.append(one_id)\n",
        "                # Get ready to read the next sequence. \n",
        "                # Parse a GenCode defline that is formatted like this:\n",
        "                # >transcript_ID|gene_ID|other_fields other_info|other_info\n",
        "                one_id = line[1:].split(DELIM)[0]\n",
        "                one_seq = EMPTY\n",
        "            else:\n",
        "                # Continue loading sequence lines till next defline.\n",
        "                additional = line.rstrip()\n",
        "                one_seq = one_seq + additional\n",
        "        # Don't forget to save the last sequence after end-of-file.\n",
        "        if not one_seq == EMPTY:\n",
        "            labels.append(label)\n",
        "            seqs.append(one_seq)\n",
        "            lens.append(len(one_seq))\n",
        "            ids.append(one_id)\n",
        "\n",
        "    df1=pd.DataFrame(ids,columns=['tid'])\n",
        "    df2=pd.DataFrame(labels,columns=['class'])\n",
        "    df3=pd.DataFrame(seqs,columns=['sequence'])\n",
        "    df4=pd.DataFrame(lens,columns=['seqlen'])\n",
        "    df=pd.concat((df1,df2,df3,df4),axis=1)\n",
        "    return df"
      ],
      "execution_count": 108,
      "outputs": []
    },
    {
      "cell_type": "code",
      "metadata": {
        "id": "rBgSTD81L6Q8"
      },
      "source": [
        "def get_the_facts(seqs,verbose=False):\n",
        "    oc = ORF_counter()\n",
        "    count = len(seqs)\n",
        "    max_orf_lengths=np.zeros(count)\n",
        "    for s in range(0,count):\n",
        "        seq = seqs[s]\n",
        "        oc.set_sequence(seq)\n",
        "        max_orf = oc.get_max_orf_len()\n",
        "        max_orf_lengths[s] = max_orf\n",
        "    mean_max_orf = np.mean(max_orf_lengths,axis=0)\n",
        "    std_max_orf = np.std(max_orf_lengths,axis=0)\n",
        "    if verbose:\n",
        "        print(\"mean longest ORF length:\",int(mean_max_orf),\"+/-\",int(std_max_orf))\n",
        "    return mean_max_orf"
      ],
      "execution_count": 109,
      "outputs": []
    },
    {
      "cell_type": "markdown",
      "metadata": {
        "id": "-6bcVG0iL6Q9"
      },
      "source": [
        "## Load the GenCode data.\n",
        "Warning: GenCode has\n",
        "over 100K protein-coding RNA (mRNA) \n",
        "and almost 50K non-coding RNA (lncRNA)."
      ]
    },
    {
      "cell_type": "code",
      "metadata": {
        "colab": {
          "base_uri": "https://localhost:8080/"
        },
        "id": "FwwunxFxL6Q-",
        "outputId": "4c6f0344-0c99-4d93-bc13-5ae6dbd3fa4a"
      },
      "source": [
        "PC_FULLPATH=DATAPATH+PC_FILENAME\n",
        "NC_FULLPATH=DATAPATH+NC_FILENAME\n",
        "show_time()\n",
        "pcdf=load_gencode(PC_FULLPATH,1)\n",
        "print(\"PC seqs loaded:\",len(pcdf))\n",
        "show_time()\n",
        "ncdf=load_gencode(NC_FULLPATH,0)\n",
        "print(\"NC seqs loaded:\",len(ncdf))\n",
        "show_time()"
      ],
      "execution_count": 110,
      "outputs": [
        {
          "output_type": "stream",
          "text": [
            "2021-06-03 17:21:04 UTC\n",
            "PC seqs loaded: 106143\n",
            "2021-06-03 17:21:08 UTC\n",
            "NC seqs loaded: 48752\n",
            "2021-06-03 17:21:09 UTC\n"
          ],
          "name": "stdout"
        }
      ]
    },
    {
      "cell_type": "code",
      "metadata": {
        "colab": {
          "base_uri": "https://localhost:8080/"
        },
        "id": "7iW7zf4pL6Q_",
        "outputId": "e183745b-9e30-4bfc-b158-1090ef316f64"
      },
      "source": [
        "print(\"Sorting PC...\")\n",
        "pcdf.sort_values('seqlen', ascending=True, inplace=True)\n",
        "print(\"Sorting NC...\")\n",
        "ncdf.sort_values('seqlen', ascending=True, inplace=True)"
      ],
      "execution_count": 111,
      "outputs": [
        {
          "output_type": "stream",
          "text": [
            "Sorting PC...\n",
            "Sorting NC...\n"
          ],
          "name": "stdout"
        }
      ]
    },
    {
      "cell_type": "markdown",
      "metadata": {
        "id": "TbUk5m5xL6RB"
      },
      "source": [
        "## Subset by RNA length\n",
        "\n",
        "---\n",
        "\n",
        "\n"
      ]
    },
    {
      "cell_type": "code",
      "metadata": {
        "id": "xYgW0zSlL6RC"
      },
      "source": [
        "# This is a fast way to slice if you have length thresholds.\n",
        "# TO DO: choose length thresholds and apply to PC and NC RNA.\n",
        "# For example: 200, 400, 800, 1600, 3200, 6400 (e.g. 200-399, etc.)\n",
        "mask = (ncdf['sequence'].str.len() < 1000)\n",
        "subset = ncdf.loc[mask]\n",
        "\n",
        "# Here is one way to extract a list from a dataframe. \n",
        "mylist=subset['sequence'].tolist()\n",
        "\n",
        "mask = (pcdf['sequence'].str.len() < 800)\n",
        "subset = pcdf.loc[mask]\n",
        "subset_list = subset['sequence'].tolist()"
      ],
      "execution_count": 112,
      "outputs": []
    },
    {
      "cell_type": "code",
      "metadata": {
        "id": "qudbA6e9HtON"
      },
      "source": [
        "def subset_list_by_len_bounds(input_list, min_len, max_len):\n",
        "  return list(filter(lambda x: len(x) > min_len and len(x) < max_len, input_list))"
      ],
      "execution_count": 113,
      "outputs": []
    },
    {
      "cell_type": "code",
      "metadata": {
        "colab": {
          "base_uri": "https://localhost:8080/"
        },
        "id": "03eoMss5AIop",
        "outputId": "210463e9-6953-4ab4-a2a2-818a2f889ab3"
      },
      "source": [
        "import matplotlib.pyplot as plt\n",
        "import numpy as np\n",
        "\n",
        "x_axis_labels = []\n",
        "\n",
        "#Bin the RNA sequences\n",
        "bins = [(200, 400), (400, 800), (800, 1600), (1600, 3200), (3200, 6400), (6400, 12800)]\n",
        "binned_pc_sequences = []\n",
        "binned_nc_sequences = []\n",
        "for i in range(0, len(bins)):\n",
        "  bin = bins[i]\n",
        "  binned_pc_sequences.append([])\n",
        "  binned_nc_sequences.append([])\n",
        "  binned_pc_sequences[i] = subset_list_by_len_bounds(pcdf['sequence'].tolist(), bin[0], bin[1])\n",
        "  binned_nc_sequences[i] = subset_list_by_len_bounds(ncdf['sequence'].tolist(), bin[0], bin[1])\n",
        "show_time()"
      ],
      "execution_count": 114,
      "outputs": [
        {
          "output_type": "stream",
          "text": [
            "2021-06-03 17:21:10 UTC\n"
          ],
          "name": "stdout"
        }
      ]
    },
    {
      "cell_type": "markdown",
      "metadata": {
        "id": "UJpC4SpAE5cg"
      },
      "source": [
        "##Gather data on ORF lengths and the number of contained and non-contained ORFs\n",
        "\n",
        "---"
      ]
    },
    {
      "cell_type": "code",
      "metadata": {
        "colab": {
          "base_uri": "https://localhost:8080/"
        },
        "id": "TMMnTdSiL6RD",
        "outputId": "9b7dbbdb-fcd4-43b7-83c7-f1e908c28fd3"
      },
      "source": [
        "pc_max_len_data = []\n",
        "pc_max_cnt_data = []\n",
        "pc_contain_data = []\n",
        "\n",
        "nc_max_len_data = []\n",
        "nc_max_cnt_data = []\n",
        "nc_contain_data = []\n",
        "\n",
        "oc = ORF_counter()\n",
        "\n",
        "for bin_num in range(0, len(bins)):\n",
        "  #Gather protein-coding sequence data\n",
        "  pc_max_len_data.append([])\n",
        "  pc_max_cnt_data.append([])\n",
        "  pc_contain_data.append([])\n",
        "  for seq_num in range(0, len(binned_pc_sequences[bin_num])):\n",
        "    oc.set_sequence(binned_pc_sequences[bin_num][seq_num])\n",
        "    pc_max_len_data[bin_num].append(oc.get_max_orf_len())\n",
        "    pc_max_cnt_data[bin_num].append(oc.count_maximal_orfs())\n",
        "    pc_contain_data[bin_num].append(oc.count_contained_orfs())\n",
        "\n",
        "  #Gather non-coding sequence data\n",
        "  nc_max_len_data.append([])\n",
        "  nc_max_cnt_data.append([])\n",
        "  nc_contain_data.append([])\n",
        "  for seq_num in range(0, len(binned_nc_sequences[bin_num])):\n",
        "    oc.set_sequence(binned_nc_sequences[bin_num][seq_num])\n",
        "    nc_max_len_data[bin_num].append(oc.get_max_orf_len())\n",
        "    nc_max_cnt_data[bin_num].append(oc.count_maximal_orfs())\n",
        "    nc_contain_data[bin_num].append(oc.count_contained_orfs())\n",
        "show_time()"
      ],
      "execution_count": 115,
      "outputs": [
        {
          "output_type": "stream",
          "text": [
            "2021-06-03 17:22:33 UTC\n"
          ],
          "name": "stdout"
        }
      ]
    },
    {
      "cell_type": "markdown",
      "metadata": {
        "id": "bveYgMe5Hg1B"
      },
      "source": [
        "##Prepare data for heatmap\n",
        "\n",
        "---"
      ]
    },
    {
      "cell_type": "code",
      "metadata": {
        "id": "jS2nbqc-JAWu"
      },
      "source": [
        "def mean(data):\n",
        "  return sum(data) / len(data)"
      ],
      "execution_count": 116,
      "outputs": []
    },
    {
      "cell_type": "code",
      "metadata": {
        "id": "M6SBWyf6HwIZ"
      },
      "source": [
        "#Get the means of all of the data\n",
        "mean_pc_max_len_data = []\n",
        "mean_pc_max_cnt_data = []\n",
        "mean_pc_contain_data = []\n",
        "mean_nc_max_len_data = []\n",
        "mean_nc_max_cnt_data = []\n",
        "mean_nc_contain_data = []\n",
        "for i in range(0, len(bins)):\n",
        "  mean_pc_max_len_data.append(mean(pc_max_len_data[i]))\n",
        "  mean_pc_max_cnt_data.append(mean(pc_max_cnt_data[i]))\n",
        "  mean_pc_contain_data.append(mean(pc_contain_data[i]))\n",
        "  mean_nc_max_len_data.append(mean(nc_max_len_data[i]))\n",
        "  mean_nc_max_cnt_data.append(mean(nc_max_cnt_data[i]))\n",
        "  mean_nc_contain_data.append(mean(nc_contain_data[i]))\n",
        "\n",
        "#Combine them into a (6,6) shaped data set for the heatmap\n",
        "hm_data = []\n",
        "hm_data.append(mean_pc_max_len_data)\n",
        "hm_data.append(mean_pc_max_cnt_data)\n",
        "hm_data.append(mean_pc_contain_data)\n",
        "hm_data.append(mean_nc_max_len_data)\n",
        "hm_data.append(mean_nc_max_cnt_data)\n",
        "hm_data.append(mean_nc_contain_data)"
      ],
      "execution_count": 117,
      "outputs": []
    },
    {
      "cell_type": "markdown",
      "metadata": {
        "id": "0vtJ42ruTcJG"
      },
      "source": [
        "## Plot the data\n",
        "\n",
        "---"
      ]
    },
    {
      "cell_type": "code",
      "metadata": {
        "id": "rc7P-LjgiCLB"
      },
      "source": [
        "def box_plot_compare(data_a, data_b, title, x_label, y_label, x_axis_labels, fliers, y_scale, y_base):\n",
        "  a_pos = []\n",
        "  b_pos = []\n",
        "  x_ticks = []\n",
        "  for i in range(0 , len(data_a) + len(data_b)):\n",
        "    x_ticks.append(i)\n",
        "  for i in range(0, len(data_a)):\n",
        "    a_pos.append(i*2)\n",
        "  for i in range(0, len(data_b)):\n",
        "    b_pos.append(i*2+1)\n",
        "\n",
        "  plt.figure()\n",
        "\n",
        "  box_a = plt.boxplot(data_a, patch_artist=True, positions=a_pos, showfliers=fliers)\n",
        "  for box in box_a['boxes']:\n",
        "    box.set(color='red', linewidth=1)\n",
        "    box.set(facecolor='white')\n",
        "    box.set()\n",
        "\n",
        "  box_b = plt.boxplot(data_b, patch_artist=True, positions=b_pos, showfliers=fliers)\n",
        "  for box in box_b['boxes']:\n",
        "    box.set(color='blue', linewidth=1)\n",
        "    box.set(facecolor='white')\n",
        "\n",
        "  plt.yscale(y_scale, basey=y_base)\n",
        "  plt.xticks(x_ticks, labels=x_axis_labels, rotation=45, ha='right')\n",
        "  plt.xlabel(x_label)\n",
        "  plt.ylabel(y_label)\n",
        "  plt.title(title)\n",
        "  \n",
        "  plt.show()"
      ],
      "execution_count": 118,
      "outputs": []
    },
    {
      "cell_type": "code",
      "metadata": {
        "id": "ky9ytY_6wMpl"
      },
      "source": [
        "#___Options___\n",
        "#Box plots\n",
        "show_outliers=True\n",
        "y_scale = 'log'\n",
        "y_base = 2\n",
        "#Heatmap"
      ],
      "execution_count": 121,
      "outputs": []
    },
    {
      "cell_type": "code",
      "metadata": {
        "colab": {
          "base_uri": "https://localhost:8080/",
          "height": 1000
        },
        "id": "8GzgZJXqTPz1",
        "outputId": "603c2728-4e9e-495b-bae1-6f133126e064"
      },
      "source": [
        "#___Run the plots___\n",
        "\n",
        "#Heatmap\n",
        "plt.imshow(hm_data, cmap='hot', interpolation='nearest')\n",
        "plt.xlabel('Sequence Length Ranges')\n",
        "plt.xticks(np.arange(6), [\"200-400\", \"400-800\", \"800-1600\", \"1600-3200\", \"3200-6400\", \"6400-12800\"], rotation=45)\n",
        "plt.yticks(np.arange(6), [\"mRNA Mean Longest ORF Length\", \"mRNA Mean Number of Non-contained ORFs\", \"mRNA Mean Number of Contained ORFs\", \"lncRNA Mean Longest ORF Length\", \"lncRNA Mean Number of Non-contained ORFs\", \"lncRNA Mean Number of Contained ORFs\"])\n",
        "plt.show()\n",
        "\n",
        "#Box plots\n",
        "#Generate x-axis labels\n",
        "for i in range(0, len(bins)):\n",
        "  x_axis_labels.append(str(bin[0]) + \"-\" + str(bin[1]) + \" (mRNA)\")\n",
        "  x_axis_labels.append(str(bin[0]) + \"-\" + str(bin[1]) + \" (lncRNA)\")\n",
        "\n",
        "box_plot_compare(pc_max_len_data, nc_max_len_data, \"Length of Longest ORF in RNA Sequences\", \"Sequence Length Ranges\", \"ORF Length\", x_axis_labels, show_outliers, y_scale, y_base)\n",
        "box_plot_compare(pc_max_cnt_data, nc_max_cnt_data, \"Number of Non-contained ORFs in RNA Sequences\", \"Sequence Length Ranges\", \"Number of Non-contained ORFs\", x_axis_labels, show_outliers, y_scale, y_base)\n",
        "box_plot_compare(pc_contain_data, nc_contain_data, \"Number of Contained ORFs in RNA Sequences\", \"Sequence Length Ranges\", \"Number of Contained ORFs\", x_axis_labels, show_outliers, y_scale, y_base)"
      ],
      "execution_count": 122,
      "outputs": [
        {
          "output_type": "display_data",
          "data": {
            "image/png": "[encoded data removed]",
            "text/plain": [
              "<Figure size 432x288 with 1 Axes>"
            ]
          },
          "metadata": {
            "tags": [],
            "needs_background": "light"
          }
        },
        {
          "output_type": "stream",
          "text": [
            "/usr/local/lib/python3.7/dist-packages/numpy/core/_asarray.py:83: VisibleDeprecationWarning: Creating an ndarray from ragged nested sequences (which is a list-or-tuple of lists-or-tuples-or ndarrays with different lengths or shapes) is deprecated. If you meant to do this, you must specify 'dtype=object' when creating the ndarray\n",
            "  return array(a, dtype, copy=False, order=order)\n",
            "/usr/local/lib/python3.7/dist-packages/numpy/core/_asarray.py:83: VisibleDeprecationWarning: Creating an ndarray from ragged nested sequences (which is a list-or-tuple of lists-or-tuples-or ndarrays with different lengths or shapes) is deprecated. If you meant to do this, you must specify 'dtype=object' when creating the ndarray\n",
            "  return array(a, dtype, copy=False, order=order)\n"
          ],
          "name": "stderr"
        },
        {
          "output_type": "display_data",
          "data": {
            "image/png": "[encoded data removed]",
            "text/plain": [
              "<Figure size 432x288 with 1 Axes>"
            ]
          },
          "metadata": {
            "tags": [],
            "needs_background": "light"
          }
        },
        {
          "output_type": "stream",
          "text": [
            "/usr/local/lib/python3.7/dist-packages/numpy/core/_asarray.py:83: VisibleDeprecationWarning: Creating an ndarray from ragged nested sequences (which is a list-or-tuple of lists-or-tuples-or ndarrays with different lengths or shapes) is deprecated. If you meant to do this, you must specify 'dtype=object' when creating the ndarray\n",
            "  return array(a, dtype, copy=False, order=order)\n",
            "/usr/local/lib/python3.7/dist-packages/numpy/core/_asarray.py:83: VisibleDeprecationWarning: Creating an ndarray from ragged nested sequences (which is a list-or-tuple of lists-or-tuples-or ndarrays with different lengths or shapes) is deprecated. If you meant to do this, you must specify 'dtype=object' when creating the ndarray\n",
            "  return array(a, dtype, copy=False, order=order)\n"
          ],
          "name": "stderr"
        },
        {
          "output_type": "display_data",
          "data": {
            "image/png": "[encoded data removed]",
            "text/plain": [
              "<Figure size 432x288 with 1 Axes>"
            ]
          },
          "metadata": {
            "tags": [],
            "needs_background": "light"
          }
        },
        {
          "output_type": "stream",
          "text": [
            "/usr/local/lib/python3.7/dist-packages/numpy/core/_asarray.py:83: VisibleDeprecationWarning: Creating an ndarray from ragged nested sequences (which is a list-or-tuple of lists-or-tuples-or ndarrays with different lengths or shapes) is deprecated. If you meant to do this, you must specify 'dtype=object' when creating the ndarray\n",
            "  return array(a, dtype, copy=False, order=order)\n",
            "/usr/local/lib/python3.7/dist-packages/numpy/core/_asarray.py:83: VisibleDeprecationWarning: Creating an ndarray from ragged nested sequences (which is a list-or-tuple of lists-or-tuples-or ndarrays with different lengths or shapes) is deprecated. If you meant to do this, you must specify 'dtype=object' when creating the ndarray\n",
            "  return array(a, dtype, copy=False, order=order)\n"
          ],
          "name": "stderr"
        },
        {
          "output_type": "display_data",
          "data": {
            "image/png": "[encoded data removed]",
            "text/plain": [
              "<Figure size 432x288 with 1 Axes>"
            ]
          },
          "metadata": {
            "tags": [],
            "needs_background": "light"
          }
        }
      ]
    },
    {
      "cell_type": "markdown",
      "metadata": {
        "id": "WvQyyhudL6RE"
      },
      "source": [
        "## Plotting examples\n",
        "[boxplot doc](https://matplotlib.org/stable/api/_as_gen/matplotlib.pyplot.boxplot.html)  \n",
        "[boxplot demo](https://matplotlib.org/stable/gallery/pyplots/boxplot_demo_pyplot.html)  \n",
        "[heatmap examples](https://stackoverflow.com/questions/33282368/plotting-a-2d-heatmap-with-matplotlib) - scroll down!  "
      ]
    },
    {
      "cell_type": "code",
      "metadata": {
        "id": "3O-vZ-vxL6RF"
      },
      "source": [
        ""
      ],
      "execution_count": 122,
      "outputs": []
    }
  ]
}