{
  "nbformat": 4,
  "nbformat_minor": 0,
  "metadata": {
    "accelerator": "GPU",
    "colab": {
      "name": "MLP_GenCode_101.ipynb",
      "provenance": [],
      "collapsed_sections": [],
      "toc_visible": true
    },
    "kernelspec": {
      "display_name": "Python 3",
      "language": "python",
      "name": "python3"
    },
    "language_info": {
      "codemirror_mode": {
        "name": "ipython",
        "version": 3
      },
      "file_extension": ".py",
      "mimetype": "text/x-python",
      "name": "python",
      "nbconvert_exporter": "python",
      "pygments_lexer": "ipython3",
      "version": "3.8.3"
    }
  },
  "cells": [
    {
      "cell_type": "markdown",
      "metadata": {
        "id": "ojm_6E9f9Kcf"
      },
      "source": [
        "# MLP GenCode \n",
        "Wen et al 2019 used DNN to distinguish GenCode mRNA/lncRNA.\n",
        "Based on K-mer frequencies, K={1,2,3}, they reported 99% accuracy.\n",
        "Their CNN used 2 Conv2D layers of 32 filters of width 3x3, max pool 2x2, 25% drop, dense 128.\n",
        "Can we reproduce that with MLP layers instead of CNN?\n",
        "Extract features as list of K-mer frequencies for K={1,2,3}."
      ]
    },
    {
      "cell_type": "code",
      "metadata": {
        "colab": {
          "base_uri": "https://localhost:8080/"
        },
        "id": "RmPF4h_YI_sT",
        "outputId": "bd009b94-818f-4732-c77d-fba178d107a9"
      },
      "source": [
        "import time\n",
        "def show_time():\n",
        "    t = time.time()\n",
        "    print(time.strftime('%Y-%m-%d %H:%M:%S %Z', time.localtime(t)))\n",
        "show_time()"
      ],
      "execution_count": 73,
      "outputs": [
        {
          "output_type": "stream",
          "text": [
            "2021-07-10 17:18:25 UTC\n"
          ],
          "name": "stdout"
        }
      ]
    },
    {
      "cell_type": "code",
      "metadata": {
        "id": "NEbXt5N4I_sc"
      },
      "source": [
        "PC_TRAINS=8000\n",
        "NC_TRAINS=8000\n",
        "PC_TESTS=2000\n",
        "NC_TESTS=2000   # Wen et al 2019 used 8000 and 2000 of each class\n",
        "PC_LENS=(200,4000)\n",
        "NC_LENS=(200,4000)    # Wen et al 2019 used 250-3500 for lncRNA only\n",
        "MAX_K = 3\n",
        "INPUT_SHAPE=(None,84)  # 4^3 + 4^2 + 4^1\n",
        "NEURONS=64\n",
        "EPOCHS=50\n",
        "SPLITS=5\n",
        "FOLDS=1   # make this 5 for serious testing"
      ],
      "execution_count": 74,
      "outputs": []
    },
    {
      "cell_type": "code",
      "metadata": {
        "id": "VQY7aTj29Kch"
      },
      "source": [
        "import numpy as np\n",
        "import pandas as pd\n",
        "import matplotlib.pyplot as plt\n",
        "from sklearn.utils import shuffle\n",
        "from sklearn.model_selection import KFold\n",
        "from sklearn.model_selection import cross_val_score\n",
        "\n",
        "from keras.models import Sequential\n",
        "from keras.layers import Dense,Embedding,Dropout\n",
        "from keras.layers import Flatten,TimeDistributed\n",
        "from keras.losses import BinaryCrossentropy\n",
        "from keras.callbacks import ModelCheckpoint\n"
      ],
      "execution_count": 75,
      "outputs": []
    },
    {
      "cell_type": "code",
      "metadata": {
        "colab": {
          "base_uri": "https://localhost:8080/"
        },
        "id": "xUxEB53HI_sk",
        "outputId": "6e19affe-d43b-4a22-9dab-367558f1262f"
      },
      "source": [
        "import sys\n",
        "IN_COLAB = False\n",
        "try:\n",
        "    from google.colab import drive\n",
        "    IN_COLAB = True\n",
        "except:\n",
        "    pass\n",
        "if IN_COLAB:\n",
        "    print(\"On Google CoLab, mount cloud-local file, get our code from GitHub.\")\n",
        "    PATH='/content/drive/'\n",
        "    #drive.mount(PATH,force_remount=True)  # hardly ever need this\n",
        "    drive.mount(PATH)    # Google will require login credentials\n",
        "    DATAPATH=PATH+'My Drive/data/'  # must end in \"/\"\n",
        "    import requests\n",
        "    r = requests.get('https://raw.githubusercontent.com/ShepherdCode/Soars2021/master/SimTools/GenCodeTools.py')\n",
        "    with open('GenCodeTools.py', 'w') as f:\n",
        "        f.write(r.text)  \n",
        "    from GenCodeTools import GenCodeLoader\n",
        "    r = requests.get('https://raw.githubusercontent.com/ShepherdCode/Soars2021/master/SimTools/KmerTools.py')\n",
        "    with open('KmerTools.py', 'w') as f:\n",
        "        f.write(r.text)  \n",
        "    from KmerTools import KmerTools\n",
        "else:\n",
        "        print(\"CoLab not working. On my PC, use relative paths.\")\n",
        "        DATAPATH='data/'  # must end in \"/\"\n",
        "        sys.path.append(\"..\") # append parent dir in order to use sibling dirs\n",
        "        from SimTools.GenCodeTools import GenCodeLoader\n",
        "        from SimTools.KmerTools import KmerTools\n",
        "MODELPATH=\"BestModel\"  # saved on cloud instance and lost after logout\n",
        "#MODELPATH=DATAPATH+MODELPATH  # saved on Google Drive but requires login"
      ],
      "execution_count": 76,
      "outputs": [
        {
          "output_type": "stream",
          "text": [
            "On Google CoLab, mount cloud-local file, get our code from GitHub.\n",
            "Drive already mounted at /content/drive/; to attempt to forcibly remount, call drive.mount(\"/content/drive/\", force_remount=True).\n"
          ],
          "name": "stdout"
        }
      ]
    },
    {
      "cell_type": "markdown",
      "metadata": {
        "id": "8buAhZRfI_sp"
      },
      "source": [
        "## Data Load\n",
        "Restrict mRNA to those transcripts with a recognized ORF."
      ]
    },
    {
      "cell_type": "code",
      "metadata": {
        "id": "ypn0lhiqI_sq"
      },
      "source": [
        "PC_FILENAME='gencode.v38.pc_transcripts.fa.gz'\n",
        "NC_FILENAME='gencode.v38.lncRNA_transcripts.fa.gz'\n",
        "PC_FULLPATH=DATAPATH+PC_FILENAME\n",
        "NC_FULLPATH=DATAPATH+NC_FILENAME"
      ],
      "execution_count": 77,
      "outputs": []
    },
    {
      "cell_type": "code",
      "metadata": {
        "colab": {
          "base_uri": "https://localhost:8080/"
        },
        "id": "xTz0pkFlI_sr",
        "outputId": "24c5212e-9b30-4866-c63a-7fe1dbbccf50"
      },
      "source": [
        "# Full GenCode ver 38 human is 106143 pc + 48752 nc and loads in 7 sec.\n",
        "# Expect fewer transcripts if special filtering is used.\n",
        "loader=GenCodeLoader()\n",
        "loader.set_label(1)\n",
        "loader.set_check_utr(True)\n",
        "pcdf=loader.load_file(PC_FULLPATH)\n",
        "print(\"PC seqs loaded:\",len(pcdf))\n",
        "loader.set_label(0)\n",
        "loader.set_check_utr(False)\n",
        "ncdf=loader.load_file(NC_FULLPATH)\n",
        "print(\"NC seqs loaded:\",len(ncdf))\n",
        "trivial=False\n",
        "if trivial:\n",
        "  print(\"Trivialize the data...\")\n",
        "  dummy='AAAA'*200\n",
        "  for i in range(0,len(pcdf)):\n",
        "    pcdf['sequence']=dummy\n",
        "  dummy='GGGG'*200\n",
        "  for i in range(0,len(ncdf)):\n",
        "    ncdf['sequence']=dummy\n",
        "show_time()"
      ],
      "execution_count": 78,
      "outputs": [
        {
          "output_type": "stream",
          "text": [
            "PC seqs loaded: 70825\n",
            "NC seqs loaded: 48752\n",
            "2021-07-10 17:18:30 UTC\n"
          ],
          "name": "stdout"
        }
      ]
    },
    {
      "cell_type": "markdown",
      "metadata": {
        "id": "CCNh_FZaI_sv"
      },
      "source": [
        "## Data Prep"
      ]
    },
    {
      "cell_type": "code",
      "metadata": {
        "colab": {
          "base_uri": "https://localhost:8080/"
        },
        "id": "mkBXTJ__I_sx",
        "outputId": "a1a9021a-4e1e-4fa8-b713-79230bc896c9"
      },
      "source": [
        "def dataframe_length_filter(df,low_high):\n",
        "    (low,high)=low_high\n",
        "    # The pandas query language is strange, \n",
        "    # but this is MUCH faster than loop & drop.\n",
        "    return df[ (df['seqlen']>=low) & (df['seqlen']<=high) ]\n",
        "def dataframe_shuffle(df):\n",
        "    # The ignore_index option is new in Pandas 1.3. \n",
        "    # The default (False) replicates the old behavior: shuffle the index too.\n",
        "    # The new option seems more logical th\n",
        "    # After shuffling, df.iloc[0] has index == 0.\n",
        "    # return df.sample(frac=1,ignore_index=True)\n",
        "    return df.sample(frac=1)  # Use this till CoLab upgrades Pandas\n",
        "def dataframe_extract_sequence(df):\n",
        "    return df['sequence'].tolist()\n",
        "\n",
        "pc_all = dataframe_extract_sequence(\n",
        "    dataframe_shuffle(\n",
        "    dataframe_length_filter(pcdf,PC_LENS)))\n",
        "nc_all = dataframe_extract_sequence(\n",
        "    dataframe_shuffle(\n",
        "    dataframe_length_filter(ncdf,NC_LENS)))\n",
        "\n",
        "show_time()\n",
        "print(\"PC seqs pass filter:\",len(pc_all))\n",
        "print(\"NC seqs pass filter:\",len(nc_all))\n",
        "# Garbage collection to reduce RAM footprint\n",
        "pcdf=None\n",
        "ncdf=None"
      ],
      "execution_count": 79,
      "outputs": [
        {
          "output_type": "stream",
          "text": [
            "2021-07-10 17:18:30 UTC\n",
            "PC seqs pass filter: 55381\n",
            "NC seqs pass filter: 46919\n"
          ],
          "name": "stdout"
        }
      ]
    },
    {
      "cell_type": "code",
      "metadata": {
        "id": "V91rP2osI_s1"
      },
      "source": [
        "# Any portion of a shuffled list is a random selection\n",
        "pc_train=pc_all[:PC_TRAINS] \n",
        "nc_train=nc_all[:NC_TRAINS]\n",
        "pc_test=pc_all[PC_TRAINS:PC_TESTS] \n",
        "nc_test=nc_all[NC_TRAINS:PC_TESTS]\n",
        "# Garbage collection\n",
        "pc_all=None\n",
        "nc_all=None"
      ],
      "execution_count": 80,
      "outputs": []
    },
    {
      "cell_type": "code",
      "metadata": {
        "colab": {
          "base_uri": "https://localhost:8080/"
        },
        "id": "FfyPeInGI_s4",
        "outputId": "dedc2987-a6ae-42ca-dd86-faf1e333cbf3"
      },
      "source": [
        "def prepare_x_and_y(seqs1,seqs0):\n",
        "    len1=len(seqs1)\n",
        "    len0=len(seqs0)\n",
        "    labels1=np.ones(len1,dtype=np.int8)\n",
        "    labels0=np.zeros(len0,dtype=np.int8)\n",
        "    all_labels = np.concatenate((labels1,labels0))\n",
        "    seqs1 = np.asarray(seqs1)\n",
        "    seqs0 = np.asarray(seqs0)\n",
        "    all_seqs = np.concatenate((seqs1,seqs0),axis=0)\n",
        "    #return all_seqs,all_labels  # test unshuffled\n",
        "    tandem = (all_seqs,all_labels)\n",
        "    X,y = shuffle(tandem) # sklearn.utils.shuffle\n",
        "    return X,y\n",
        "Xseq,y=prepare_x_and_y(pc_train,nc_train)\n",
        "show_time()"
      ],
      "execution_count": 81,
      "outputs": [
        {
          "output_type": "stream",
          "text": [
            "2021-07-10 17:18:30 UTC\n"
          ],
          "name": "stdout"
        }
      ]
    },
    {
      "cell_type": "code",
      "metadata": {
        "colab": {
          "base_uri": "https://localhost:8080/"
        },
        "id": "LWLixZOfI_s7",
        "outputId": "595d5593-35e2-4a23-a448-ceb4510eab55"
      },
      "source": [
        "def seqs_to_kmer_freqs(seqs,max_K):\n",
        "    tool = KmerTools()  # from SimTools\n",
        "    empty = tool.make_dict_upto_K(max_K)\n",
        "    collection = []\n",
        "    for seq in seqs:\n",
        "        counts = empty\n",
        "        counts = tool.update_count_one_K(counts,max_K,seq,True)\n",
        "        counts = tool.harvest_counts_from_K(counts,max_K)\n",
        "        fdict = tool.count_to_frequency(counts,max_K)\n",
        "        freqs = list(fdict.values())\n",
        "        collection.append(freqs)\n",
        "    return np.asarray(collection)\n",
        "Xfrq=seqs_to_kmer_freqs(Xseq,MAX_K)\n",
        "show_time()\n",
        "print(\"X shape\",np.shape(Xfrq))\n",
        "print(type(Xfrq),\"of\",type(Xfrq[0]),\"of\",type(Xfrq[0][0]))\n",
        "print(\"y shape\",np.shape(y))"
      ],
      "execution_count": 82,
      "outputs": [
        {
          "output_type": "stream",
          "text": [
            "2021-07-10 17:18:41 UTC\n",
            "X shape (16000, 84)\n",
            "<class 'numpy.ndarray'> of <class 'numpy.ndarray'> of <class 'numpy.float64'>\n",
            "y shape (16000,)\n"
          ],
          "name": "stdout"
        }
      ]
    },
    {
      "cell_type": "markdown",
      "metadata": {
        "id": "dJ4XhrzGI_s-"
      },
      "source": [
        "## Neural network"
      ]
    },
    {
      "cell_type": "code",
      "metadata": {
        "colab": {
          "base_uri": "https://localhost:8080/"
        },
        "id": "o5NPW7zKI_tC",
        "outputId": "49cacbaa-4265-4c28-c5a3-525ad7b83a8d"
      },
      "source": [
        "def make_DNN():\n",
        "    dt=np.float32\n",
        "    print(\"make_DNN\")\n",
        "    print(\"input shape:\",INPUT_SHAPE)\n",
        "    dnn = Sequential()\n",
        "    dnn.add(Dense(NEURONS,activation=\"sigmoid\",dtype=dt))\n",
        "    dnn.add(Dense(NEURONS,activation=\"sigmoid\",dtype=dt)) \n",
        "    #dnn.add(Dropout(DROP_RATE))\n",
        "    dnn.add(Dense(1,activation=\"sigmoid\",dtype=dt))   \n",
        "    dnn.compile(optimizer='adam',\n",
        "                loss=BinaryCrossentropy(from_logits=False),\n",
        "                metrics=['accuracy'])   # add to default metrics=loss\n",
        "    dnn.build(input_shape=INPUT_SHAPE) \n",
        "    return dnn\n",
        "model = make_DNN()\n",
        "print(model.summary())"
      ],
      "execution_count": 83,
      "outputs": [
        {
          "output_type": "stream",
          "text": [
            "make_DNN\n",
            "input shape: (None, 84)\n",
            "Model: \"sequential_10\"\n",
            "_________________________________________________________________\n",
            "Layer (type)                 Output Shape              Param #   \n",
            "=================================================================\n",
            "dense_30 (Dense)             (None, 64)                5440      \n",
            "_________________________________________________________________\n",
            "dense_31 (Dense)             (None, 64)                4160      \n",
            "_________________________________________________________________\n",
            "dense_32 (Dense)             (None, 1)                 65        \n",
            "=================================================================\n",
            "Total params: 9,665\n",
            "Trainable params: 9,665\n",
            "Non-trainable params: 0\n",
            "_________________________________________________________________\n",
            "None\n"
          ],
          "name": "stdout"
        }
      ]
    },
    {
      "cell_type": "code",
      "metadata": {
        "id": "E2Dr6L9lI_tE"
      },
      "source": [
        "def do_cross_validation(X,y):\n",
        "    cv_scores = []\n",
        "    fold=0\n",
        "    mycallbacks = [ModelCheckpoint(\n",
        "        filepath=MODELPATH, save_best_only=True, \n",
        "        monitor='val_accuracy', mode='max')]   \n",
        "    splitter = KFold(n_splits=SPLITS)  # this does not shuffle\n",
        "    for train_index,valid_index in splitter.split(X):\n",
        "        if fold < FOLDS:\n",
        "            fold += 1\n",
        "            X_train=X[train_index] # inputs for training\n",
        "            y_train=y[train_index] # labels for training\n",
        "            X_valid=X[valid_index] # inputs for validation\n",
        "            y_valid=y[valid_index] # labels for validation\n",
        "            print(\"MODEL\")\n",
        "            # Call constructor on each CV. Else, continually improves the same model.\n",
        "            model = model = make_DNN()\n",
        "            print(\"FIT\")  # model.fit() implements learning\n",
        "            start_time=time.time()\n",
        "            history=model.fit(X_train, y_train, \n",
        "                    epochs=EPOCHS, \n",
        "                    verbose=1,  # ascii art while learning\n",
        "                    callbacks=mycallbacks,   # called at end of each epoch\n",
        "                    validation_data=(X_valid,y_valid))\n",
        "            end_time=time.time()\n",
        "            elapsed_time=(end_time-start_time)                        \n",
        "            print(\"Fold %d, %d epochs, %d sec\"%(fold,EPOCHS,elapsed_time))\n",
        "            # print(history.history.keys())  # all these keys will be shown in figure\n",
        "            pd.DataFrame(history.history).plot(figsize=(8,5))\n",
        "            plt.grid(True)\n",
        "            plt.gca().set_ylim(0,1) # any losses > 1 will be off the scale\n",
        "            plt.show()"
      ],
      "execution_count": 84,
      "outputs": []
    },
    {
      "cell_type": "code",
      "metadata": {
        "colab": {
          "base_uri": "https://localhost:8080/",
          "height": 1000
        },
        "id": "Ey7Q-YWcI_tH",
        "outputId": "c002fb52-8081-4d50-b942-8fe310de23f3"
      },
      "source": [
        "do_cross_validation(Xfrq,y)"
      ],
      "execution_count": 85,
      "outputs": [
        {
          "output_type": "stream",
          "text": [
            "MODEL\n",
            "make_DNN\n",
            "input shape: (None, 84)\n",
            "FIT\n",
            "Epoch 1/50\n",
            "400/400 [==============================] - 2s 3ms/step - loss: 0.6624 - accuracy: 0.6270 - val_loss: 0.9787 - val_accuracy: 0.0000e+00\n",
            "INFO:tensorflow:Assets written to: BestModel/assets\n",
            "Epoch 2/50\n",
            "400/400 [==============================] - 1s 2ms/step - loss: 0.6642 - accuracy: 0.6248 - val_loss: 0.9635 - val_accuracy: 0.0000e+00\n",
            "Epoch 3/50\n",
            "400/400 [==============================] - 1s 2ms/step - loss: 0.6613 - accuracy: 0.6292 - val_loss: 0.9549 - val_accuracy: 0.0000e+00\n",
            "Epoch 4/50\n",
            "400/400 [==============================] - 1s 2ms/step - loss: 0.6657 - accuracy: 0.6218 - val_loss: 1.1260 - val_accuracy: 0.0000e+00\n",
            "Epoch 5/50\n",
            "400/400 [==============================] - 1s 2ms/step - loss: 0.6618 - accuracy: 0.6256 - val_loss: 1.0762 - val_accuracy: 0.0000e+00\n",
            "Epoch 6/50\n",
            "400/400 [==============================] - 1s 2ms/step - loss: 0.6654 - accuracy: 0.6181 - val_loss: 0.9483 - val_accuracy: 0.0000e+00\n",
            "Epoch 7/50\n",
            "400/400 [==============================] - 1s 2ms/step - loss: 0.6591 - accuracy: 0.6291 - val_loss: 0.8756 - val_accuracy: 0.0000e+00\n",
            "Epoch 8/50\n",
            "400/400 [==============================] - 1s 2ms/step - loss: 0.6598 - accuracy: 0.6244 - val_loss: 1.0725 - val_accuracy: 0.0000e+00\n",
            "Epoch 9/50\n",
            "400/400 [==============================] - 1s 2ms/step - loss: 0.6622 - accuracy: 0.6188 - val_loss: 0.9491 - val_accuracy: 0.0000e+00\n",
            "Epoch 10/50\n",
            "400/400 [==============================] - 1s 2ms/step - loss: 0.6549 - accuracy: 0.6267 - val_loss: 1.0449 - val_accuracy: 0.0000e+00\n",
            "Epoch 11/50\n",
            "400/400 [==============================] - 1s 2ms/step - loss: 0.6515 - accuracy: 0.6281 - val_loss: 1.0421 - val_accuracy: 0.0000e+00\n",
            "Epoch 12/50\n",
            "400/400 [==============================] - 1s 2ms/step - loss: 0.6489 - accuracy: 0.6230 - val_loss: 0.9750 - val_accuracy: 0.0000e+00\n",
            "Epoch 13/50\n",
            "400/400 [==============================] - 1s 2ms/step - loss: 0.6424 - accuracy: 0.6222 - val_loss: 0.9747 - val_accuracy: 0.0000e+00\n",
            "Epoch 14/50\n",
            "400/400 [==============================] - 1s 2ms/step - loss: 0.6323 - accuracy: 0.6272 - val_loss: 0.9255 - val_accuracy: 0.0000e+00\n",
            "Epoch 15/50\n",
            "400/400 [==============================] - 1s 2ms/step - loss: 0.6190 - accuracy: 0.6374 - val_loss: 0.9829 - val_accuracy: 0.0000e+00\n",
            "Epoch 16/50\n",
            "400/400 [==============================] - 1s 2ms/step - loss: 0.6011 - accuracy: 0.6312 - val_loss: 1.0168 - val_accuracy: 3.1250e-04\n",
            "INFO:tensorflow:Assets written to: BestModel/assets\n",
            "Epoch 17/50\n",
            "400/400 [==============================] - 1s 2ms/step - loss: 0.5853 - accuracy: 0.6547 - val_loss: 0.9534 - val_accuracy: 6.2500e-04\n",
            "INFO:tensorflow:Assets written to: BestModel/assets\n",
            "Epoch 18/50\n",
            "400/400 [==============================] - 1s 2ms/step - loss: 0.5576 - accuracy: 0.7184 - val_loss: 0.6747 - val_accuracy: 0.7203\n",
            "INFO:tensorflow:Assets written to: BestModel/assets\n",
            "Epoch 19/50\n",
            "400/400 [==============================] - 1s 2ms/step - loss: 0.5234 - accuracy: 0.7256 - val_loss: 0.6176 - val_accuracy: 0.8903\n",
            "INFO:tensorflow:Assets written to: BestModel/assets\n",
            "Epoch 20/50\n",
            "400/400 [==============================] - 1s 2ms/step - loss: 0.4977 - accuracy: 0.7972 - val_loss: 0.6032 - val_accuracy: 0.8894\n",
            "Epoch 21/50\n",
            "400/400 [==============================] - 1s 2ms/step - loss: 0.4623 - accuracy: 0.8461 - val_loss: 0.7547 - val_accuracy: 0.3531\n",
            "Epoch 22/50\n",
            "400/400 [==============================] - 1s 2ms/step - loss: 0.4276 - accuracy: 0.8856 - val_loss: 0.5929 - val_accuracy: 0.8806\n",
            "Epoch 23/50\n",
            "400/400 [==============================] - 1s 2ms/step - loss: 0.3968 - accuracy: 0.9118 - val_loss: 0.6952 - val_accuracy: 0.5572\n",
            "Epoch 24/50\n",
            "400/400 [==============================] - 1s 2ms/step - loss: 0.3699 - accuracy: 0.9138 - val_loss: 0.3940 - val_accuracy: 0.9709\n",
            "INFO:tensorflow:Assets written to: BestModel/assets\n",
            "Epoch 25/50\n",
            "400/400 [==============================] - 1s 2ms/step - loss: 0.3450 - accuracy: 0.9276 - val_loss: 0.5219 - val_accuracy: 0.8897\n",
            "Epoch 26/50\n",
            "400/400 [==============================] - 1s 2ms/step - loss: 0.3233 - accuracy: 0.9271 - val_loss: 0.4419 - val_accuracy: 0.9206\n",
            "Epoch 27/50\n",
            "400/400 [==============================] - 1s 2ms/step - loss: 0.3077 - accuracy: 0.9225 - val_loss: 0.3604 - val_accuracy: 0.9634\n",
            "Epoch 28/50\n",
            "400/400 [==============================] - 1s 2ms/step - loss: 0.2968 - accuracy: 0.9086 - val_loss: 0.6288 - val_accuracy: 0.7866\n",
            "Epoch 29/50\n",
            "400/400 [==============================] - 1s 2ms/step - loss: 0.2822 - accuracy: 0.9258 - val_loss: 0.4819 - val_accuracy: 0.8897\n",
            "Epoch 30/50\n",
            "400/400 [==============================] - 1s 2ms/step - loss: 0.2711 - accuracy: 0.9260 - val_loss: 0.4725 - val_accuracy: 0.8903\n",
            "Epoch 31/50\n",
            "400/400 [==============================] - 1s 2ms/step - loss: 0.2588 - accuracy: 0.9276 - val_loss: 0.2883 - val_accuracy: 0.9694\n",
            "Epoch 32/50\n",
            "400/400 [==============================] - 1s 2ms/step - loss: 0.2509 - accuracy: 0.9273 - val_loss: 0.3301 - val_accuracy: 0.9484\n",
            "Epoch 33/50\n",
            "400/400 [==============================] - 1s 2ms/step - loss: 0.2413 - accuracy: 0.9303 - val_loss: 0.3789 - val_accuracy: 0.9156\n",
            "Epoch 34/50\n",
            "400/400 [==============================] - 1s 2ms/step - loss: 0.2331 - accuracy: 0.9308 - val_loss: 0.5129 - val_accuracy: 0.8800\n",
            "Epoch 35/50\n",
            "400/400 [==============================] - 1s 2ms/step - loss: 0.2272 - accuracy: 0.9327 - val_loss: 0.5563 - val_accuracy: 0.8766\n",
            "Epoch 36/50\n",
            "400/400 [==============================] - 1s 2ms/step - loss: 0.2204 - accuracy: 0.9325 - val_loss: 0.5654 - val_accuracy: 0.8750\n",
            "Epoch 37/50\n",
            "400/400 [==============================] - 1s 2ms/step - loss: 0.2198 - accuracy: 0.9356 - val_loss: 0.4652 - val_accuracy: 0.8866\n",
            "Epoch 38/50\n",
            "400/400 [==============================] - 1s 2ms/step - loss: 0.2095 - accuracy: 0.9361 - val_loss: 0.4736 - val_accuracy: 0.8853\n",
            "Epoch 39/50\n",
            "400/400 [==============================] - 1s 2ms/step - loss: 0.2067 - accuracy: 0.9342 - val_loss: 0.4481 - val_accuracy: 0.8881\n",
            "Epoch 40/50\n",
            "400/400 [==============================] - 1s 2ms/step - loss: 0.2007 - accuracy: 0.9393 - val_loss: 0.3511 - val_accuracy: 0.9134\n",
            "Epoch 41/50\n",
            "400/400 [==============================] - 1s 2ms/step - loss: 0.1974 - accuracy: 0.9365 - val_loss: 0.4032 - val_accuracy: 0.8947\n",
            "Epoch 42/50\n",
            "400/400 [==============================] - 1s 2ms/step - loss: 0.1962 - accuracy: 0.9376 - val_loss: 0.3720 - val_accuracy: 0.9031\n",
            "Epoch 43/50\n",
            "400/400 [==============================] - 1s 2ms/step - loss: 0.1904 - accuracy: 0.9414 - val_loss: 0.4409 - val_accuracy: 0.8888\n",
            "Epoch 44/50\n",
            "400/400 [==============================] - 1s 2ms/step - loss: 0.1992 - accuracy: 0.9352 - val_loss: 0.4693 - val_accuracy: 0.8853\n",
            "Epoch 45/50\n",
            "400/400 [==============================] - 1s 2ms/step - loss: 0.1841 - accuracy: 0.9385 - val_loss: 0.4109 - val_accuracy: 0.8938\n",
            "Epoch 46/50\n",
            "400/400 [==============================] - 1s 2ms/step - loss: 0.1804 - accuracy: 0.9436 - val_loss: 0.4115 - val_accuracy: 0.8938\n",
            "Epoch 47/50\n",
            "400/400 [==============================] - 1s 2ms/step - loss: 0.1835 - accuracy: 0.9401 - val_loss: 0.5144 - val_accuracy: 0.8800\n",
            "Epoch 48/50\n",
            "400/400 [==============================] - 1s 2ms/step - loss: 0.1810 - accuracy: 0.9399 - val_loss: 0.3431 - val_accuracy: 0.9122\n",
            "Epoch 49/50\n",
            "400/400 [==============================] - 1s 2ms/step - loss: 0.1769 - accuracy: 0.9436 - val_loss: 0.3002 - val_accuracy: 0.9325\n",
            "Epoch 50/50\n",
            "400/400 [==============================] - 1s 2ms/step - loss: 0.1795 - accuracy: 0.9433 - val_loss: 0.4755 - val_accuracy: 0.8841\n",
            "Fold 1, 50 epochs, 46 sec\n"
          ],
          "name": "stdout"
        },
        {
          "output_type": "display_data",
          "data": {
            "image/png": "[encoded data removed]",
            "text/plain": [
              "<Figure size 576x360 with 1 Axes>"
            ]
          },
          "metadata": {
            "tags": [],
            "needs_background": "light"
          }
        }
      ]
    },
    {
      "cell_type": "code",
      "metadata": {
        "id": "GVImN4_0I_tJ"
      },
      "source": [
        "# TO DO: run trained model on (pc_test,nc_test)\n",
        "# and draw the AUC.\n",
        "# Borrow code from other notebooks."
      ],
      "execution_count": 86,
      "outputs": []
    }
  ]
}