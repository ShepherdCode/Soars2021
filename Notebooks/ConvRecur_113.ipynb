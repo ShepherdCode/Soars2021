{
  "nbformat": 4,
  "nbformat_minor": 0,
  "metadata": {
    "accelerator": "GPU",
    "colab": {
      "name": "ConvRecur_113.ipynb",
      "provenance": [],
      "collapsed_sections": []
    },
    "kernelspec": {
      "display_name": "Python 3",
      "language": "python",
      "name": "python3"
    },
    "language_info": {
      "codemirror_mode": {
        "name": "ipython",
        "version": 3
      },
      "file_extension": ".py",
      "mimetype": "text/x-python",
      "name": "python",
      "nbconvert_exporter": "python",
      "pygments_lexer": "ipython3",
      "version": "3.8.3"
    }
  },
  "cells": [
    {
      "cell_type": "markdown",
      "metadata": {
        "id": "0asdcdunj2Tx"
      },
      "source": [
        "# ORF recognition by Convolutional/Recurrent\n",
        "\n",
        "Test CNN+LSTM 32 on simulated RNA of length 128. \n",
        "\n",
        "Use restructured codebase from notebook 105."
      ]
    },
    {
      "cell_type": "code",
      "metadata": {
        "colab": {
          "base_uri": "https://localhost:8080/",
          "height": 36
        },
        "id": "QP1VTRNQj2UO",
        "outputId": "e721f6dd-916a-4c8b-8300-8a4e9d3f27a6"
      },
      "source": [
        "import time \n",
        "t = time.time()\n",
        "time.strftime('%Y-%m-%d %H:%M:%S %Z', time.localtime(t))"
      ],
      "execution_count": 15,
      "outputs": [
        {
          "output_type": "execute_result",
          "data": {
            "application/vnd.google.colaboratory.intrinsic+json": {
              "type": "string"
            },
            "text/plain": [
              "'2021-06-22 12:58:52 UTC'"
            ]
          },
          "metadata": {
            "tags": []
          },
          "execution_count": 15
        }
      ]
    },
    {
      "cell_type": "code",
      "metadata": {
        "id": "Nhz4GKonj2T_"
      },
      "source": [
        "PC_SEQUENCES=32000   # how many protein-coding sequences\n",
        "NC_SEQUENCES=32000   # how many non-coding sequences\n",
        "PC_TESTS=1000\n",
        "NC_TESTS=1000\n",
        "RNA_LEN=128            # how long is each sequence\n",
        "CDS_LEN=64            # min CDS len to be coding\n",
        "ALPHABET=4          # how many different letters are possible\n",
        "INPUT_SHAPE_2D = (RNA_LEN,ALPHABET,1) # Conv2D needs 3D inputs\n",
        "INPUT_SHAPE = (RNA_LEN,ALPHABET) # Conv1D needs 2D inputs\n",
        "FILTERS = 64   # how many different patterns the model looks for\n",
        "CELLS = 64\n",
        "NEURONS = 64\n",
        "DROP_RATE = 0.4\n",
        "WIDTH = 3   # how wide each pattern is, in bases\n",
        "STRIDE_2D = (1,1)  # For Conv2D how far in each direction\n",
        "STRIDE = 1 # For Conv1D, how far between pattern matches, in bases\n",
        "EPOCHS=100  # how many times to train on all the data\n",
        "SPLITS=3  # SPLITS=3 means train on 2/3 and validate on 1/3 \n",
        "FOLDS=3  # train the model this many times (range 1 to SPLITS)"
      ],
      "execution_count": 16,
      "outputs": []
    },
    {
      "cell_type": "code",
      "metadata": {
        "colab": {
          "base_uri": "https://localhost:8080/"
        },
        "id": "lr7q90rxj2UE",
        "outputId": "3dd5fae3-252c-4ad3-b389-b95f1fea83fb"
      },
      "source": [
        "import sys\n",
        "IN_COLAB = False\n",
        "try:\n",
        "    from google.colab import drive\n",
        "    IN_COLAB = True\n",
        "except:\n",
        "    pass\n",
        "if IN_COLAB:\n",
        "    print(\"On Google CoLab, mount cloud-local file, get our code from GitHub.\")\n",
        "    PATH='/content/drive/'\n",
        "    #drive.mount(PATH,force_remount=True)  # hardly ever need this\n",
        "    #drive.mount(PATH)    # Google will require login credentials\n",
        "    DATAPATH=PATH+'My Drive/data/'  # must end in \"/\"\n",
        "    import requests\n",
        "    r = requests.get('https://raw.githubusercontent.com/ShepherdCode/Soars2021/master/SimTools/RNA_describe.py')\n",
        "    with open('RNA_describe.py', 'w') as f:\n",
        "        f.write(r.text)  \n",
        "    from RNA_describe import ORF_counter\n",
        "    from RNA_describe import Random_Base_Oracle\n",
        "    r = requests.get('https://raw.githubusercontent.com/ShepherdCode/Soars2021/master/SimTools/RNA_prep.py')\n",
        "    with open('RNA_prep.py', 'w') as f:\n",
        "        f.write(r.text)  \n",
        "    from RNA_prep import prepare_inputs_len_x_alphabet\n",
        "else:\n",
        "        print(\"CoLab not working. On my PC, use relative paths.\")\n",
        "        DATAPATH='data/'  # must end in \"/\"\n",
        "        sys.path.append(\"..\") # append parent dir in order to use sibling dirs\n",
        "        from SimTools.RNA_describe import ORF_counter,Random_Base_Oracle\n",
        "        from SimTools.RNA_prep import prepare_inputs_len_x_alphabet\n",
        "\n",
        "MODELPATH=\"BestModel\"  # saved on cloud instance and lost after logout\n",
        "#MODELPATH=DATAPATH+MODELPATH  # saved on Google Drive but requires login\n"
      ],
      "execution_count": 17,
      "outputs": [
        {
          "output_type": "stream",
          "text": [
            "On Google CoLab, mount cloud-local file, get our code from GitHub.\n"
          ],
          "name": "stdout"
        }
      ]
    },
    {
      "cell_type": "code",
      "metadata": {
        "id": "EGDXH8Uwj2UM"
      },
      "source": [
        "from os import listdir\n",
        "import csv\n",
        "from zipfile import ZipFile\n",
        "\n",
        "import numpy as np\n",
        "import pandas as pd\n",
        "from scipy import stats  # mode\n",
        "\n",
        "from sklearn.preprocessing import StandardScaler\n",
        "from sklearn.model_selection import KFold\n",
        "from sklearn.model_selection import cross_val_score\n",
        "\n",
        "from keras.models import Sequential\n",
        "from keras.layers import Dense,Embedding,Dropout\n",
        "from keras.layers import Conv1D,Conv2D\n",
        "from keras.layers import GRU,LSTM\n",
        "from keras.layers import Flatten,TimeDistributed\n",
        "from keras.layers import MaxPooling1D,MaxPooling2D\n",
        "from keras.losses import BinaryCrossentropy\n",
        "# tf.keras.losses.BinaryCrossentropy\n",
        "\n",
        "import matplotlib.pyplot as plt\n",
        "from matplotlib import colors\n",
        "mycmap = colors.ListedColormap(['red','blue'])  # list color for label 0 then 1\n",
        "np.set_printoptions(precision=2)\n"
      ],
      "execution_count": 18,
      "outputs": []
    },
    {
      "cell_type": "code",
      "metadata": {
        "colab": {
          "base_uri": "https://localhost:8080/"
        },
        "id": "CUOG_jEvGtOm",
        "outputId": "2380ccfb-0f0e-4544-df27-e8bda5c8463c"
      },
      "source": [
        "rbo=Random_Base_Oracle(RNA_LEN,True)\n",
        "pc_all,nc_all = rbo.get_partitioned_sequences(CDS_LEN,10) # just testing\n",
        "pc_all,nc_all = rbo.get_partitioned_sequences(CDS_LEN,PC_SEQUENCES+PC_TESTS)\n",
        "print(\"Use\",len(pc_all),\"PC seqs\")\n",
        "print(\"Use\",len(nc_all),\"NC seqs\")"
      ],
      "execution_count": 19,
      "outputs": [
        {
          "output_type": "stream",
          "text": [
            "It took 34 trials to reach 10 per class.\n",
            "It took 117188 trials to reach 33000 per class.\n",
            "Use 33000 PC seqs\n",
            "Use 33000 NC seqs\n"
          ],
          "name": "stdout"
        }
      ]
    },
    {
      "cell_type": "code",
      "metadata": {
        "colab": {
          "base_uri": "https://localhost:8080/"
        },
        "id": "Q-BmSXi2jUyl",
        "outputId": "718f543b-b9db-45e6-aa0f-8cc40e5ddc05"
      },
      "source": [
        "# Describe the sequences\n",
        "def describe_sequences(list_of_seq):\n",
        "    oc = ORF_counter()\n",
        "    num_seq = len(list_of_seq)\n",
        "    rna_lens = np.zeros(num_seq)\n",
        "    orf_lens = np.zeros(num_seq)\n",
        "    for i in range(0,num_seq):\n",
        "        rna_len = len(list_of_seq[i])\n",
        "        rna_lens[i] = rna_len\n",
        "        oc.set_sequence(list_of_seq[i])\n",
        "        orf_len = oc.get_max_orf_len()\n",
        "        orf_lens[i] = orf_len\n",
        "    print (\"Average RNA length:\",rna_lens.mean())\n",
        "    print (\"Average ORF length:\",orf_lens.mean())\n",
        "    \n",
        "print(\"Simulated sequences prior to adjustment:\")\n",
        "print(\"PC seqs\")\n",
        "describe_sequences(pc_all)\n",
        "print(\"NC seqs\")\n",
        "describe_sequences(nc_all)"
      ],
      "execution_count": 20,
      "outputs": [
        {
          "output_type": "stream",
          "text": [
            "Simulated sequences prior to adjustment:\n",
            "PC seqs\n",
            "Average RNA length: 128.0\n",
            "Average ORF length: 79.23672727272728\n",
            "NC seqs\n",
            "Average RNA length: 128.0\n",
            "Average ORF length: 27.605636363636364\n"
          ],
          "name": "stdout"
        }
      ]
    },
    {
      "cell_type": "code",
      "metadata": {
        "id": "iP1y7-J3jUys"
      },
      "source": [
        "pc_train=pc_all[:PC_SEQUENCES]\n",
        "nc_train=nc_all[:NC_SEQUENCES]\n",
        "pc_test=pc_all[PC_SEQUENCES:]\n",
        "nc_test=nc_all[NC_SEQUENCES:]"
      ],
      "execution_count": 21,
      "outputs": []
    },
    {
      "cell_type": "code",
      "metadata": {
        "colab": {
          "base_uri": "https://localhost:8080/"
        },
        "id": "CIpTrnH6j2US",
        "outputId": "27999839-3815-4d3d-c90d-cf661e7ee51d"
      },
      "source": [
        "# Use code from our SimTools library.\n",
        "X,y = prepare_inputs_len_x_alphabet(pc_train,nc_train,ALPHABET) # shuffles\n",
        "print(\"Data ready.\")"
      ],
      "execution_count": 22,
      "outputs": [
        {
          "output_type": "stream",
          "text": [
            "Data ready.\n"
          ],
          "name": "stdout"
        }
      ]
    },
    {
      "cell_type": "code",
      "metadata": {
        "colab": {
          "base_uri": "https://localhost:8080/"
        },
        "id": "7NvrVU8ij2UU",
        "outputId": "cf1af9b7-cc55-4c21-a08a-90da90a8c694"
      },
      "source": [
        "def make_DNN():\n",
        "    print(\"make_DNN\")\n",
        "    print(\"input shape:\",INPUT_SHAPE)\n",
        "    dnn = Sequential()\n",
        "    #dnn.add(Embedding(input_dim=INPUT_SHAPE,output_dim=INPUT_SHAPE)) \n",
        "    dnn.add(Conv1D(filters=FILTERS,kernel_size=WIDTH,strides=STRIDE,padding=\"same\",\n",
        "            input_shape=INPUT_SHAPE))\n",
        "    dnn.add(Conv1D(filters=FILTERS,kernel_size=WIDTH,strides=STRIDE,padding=\"same\"))\n",
        "    dnn.add(MaxPooling1D())\n",
        "    #dnn.add(Conv1D(filters=FILTERS,kernel_size=WIDTH,strides=STRIDE,padding=\"same\"))\n",
        "    #dnn.add(Conv1D(filters=FILTERS,kernel_size=WIDTH,strides=STRIDE,padding=\"same\"))\n",
        "    #dnn.add(MaxPooling1D())\n",
        "    #dnn.add(TimeDistributed(Flatten()))\n",
        "    dnn.add(LSTM(CELLS,return_sequences=True))\n",
        "    dnn.add(LSTM(CELLS,return_sequences=False))\n",
        "    dnn.add(Dense(NEURONS,activation=\"sigmoid\",dtype=np.float32))   \n",
        "    dnn.add(Dropout(DROP_RATE))\n",
        "    dnn.add(Dense(1,activation=\"sigmoid\",dtype=np.float32))   \n",
        "    dnn.compile(optimizer='adam',\n",
        "                loss=BinaryCrossentropy(from_logits=False),\n",
        "                metrics=['accuracy'])   # add to default metrics=loss\n",
        "    dnn.build(input_shape=INPUT_SHAPE)\n",
        "    #ln_rate = tf.keras.optimizers.Adam(learning_rate = LN_RATE)\n",
        "    #bc=tf.keras.losses.BinaryCrossentropy(from_logits=False)\n",
        "    #model.compile(loss=bc, optimizer=ln_rate, metrics=[\"accuracy\"])\n",
        "    return dnn\n",
        "model = make_DNN()\n",
        "print(model.summary())"
      ],
      "execution_count": 23,
      "outputs": [
        {
          "output_type": "stream",
          "text": [
            "make_DNN\n",
            "input shape: (128, 4)\n",
            "Model: \"sequential_4\"\n",
            "_________________________________________________________________\n",
            "Layer (type)                 Output Shape              Param #   \n",
            "=================================================================\n",
            "conv1d_8 (Conv1D)            (None, 128, 64)           832       \n",
            "_________________________________________________________________\n",
            "conv1d_9 (Conv1D)            (None, 128, 64)           12352     \n",
            "_________________________________________________________________\n",
            "max_pooling1d_4 (MaxPooling1 (None, 64, 64)            0         \n",
            "_________________________________________________________________\n",
            "lstm_8 (LSTM)                (None, 64, 64)            33024     \n",
            "_________________________________________________________________\n",
            "lstm_9 (LSTM)                (None, 64)                33024     \n",
            "_________________________________________________________________\n",
            "dense_8 (Dense)              (None, 64)                4160      \n",
            "_________________________________________________________________\n",
            "dropout_4 (Dropout)          (None, 64)                0         \n",
            "_________________________________________________________________\n",
            "dense_9 (Dense)              (None, 1)                 65        \n",
            "=================================================================\n",
            "Total params: 83,457\n",
            "Trainable params: 83,457\n",
            "Non-trainable params: 0\n",
            "_________________________________________________________________\n",
            "None\n"
          ],
          "name": "stdout"
        }
      ]
    },
    {
      "cell_type": "code",
      "metadata": {
        "id": "nlVF0hR3j2UW"
      },
      "source": [
        "from keras.callbacks import ModelCheckpoint\n",
        "def do_cross_validation(X,y):\n",
        "    cv_scores = []\n",
        "    fold=0\n",
        "    mycallbacks = [ModelCheckpoint(\n",
        "        filepath=MODELPATH, save_best_only=True, \n",
        "        monitor='val_accuracy', mode='max')]   \n",
        "    splitter = KFold(n_splits=SPLITS)  # this does not shuffle\n",
        "    for train_index,valid_index in splitter.split(X):\n",
        "        if fold < FOLDS:\n",
        "            fold += 1\n",
        "            X_train=X[train_index] # inputs for training\n",
        "            y_train=y[train_index] # labels for training\n",
        "            X_valid=X[valid_index] # inputs for validation\n",
        "            y_valid=y[valid_index] # labels for validation\n",
        "            print(\"MODEL\")\n",
        "            # Call constructor on each CV. Else, continually improves the same model.\n",
        "            model = model = make_DNN()\n",
        "            print(\"FIT\")  # model.fit() implements learning\n",
        "            start_time=time.time()\n",
        "            history=model.fit(X_train, y_train, \n",
        "                    epochs=EPOCHS, \n",
        "                    verbose=1,  # ascii art while learning\n",
        "                    callbacks=mycallbacks,   # called at end of each epoch\n",
        "                    validation_data=(X_valid,y_valid))\n",
        "            end_time=time.time()\n",
        "            elapsed_time=(end_time-start_time)                        \n",
        "            print(\"Fold %d, %d epochs, %d sec\"%(fold,EPOCHS,elapsed_time))\n",
        "            # print(history.history.keys())  # all these keys will be shown in figure\n",
        "            pd.DataFrame(history.history).plot(figsize=(8,5))\n",
        "            plt.grid(True)\n",
        "            plt.gca().set_ylim(0,1) # any losses > 1 will be off the scale\n",
        "            plt.show()\n"
      ],
      "execution_count": 24,
      "outputs": []
    },
    {
      "cell_type": "code",
      "metadata": {
        "colab": {
          "base_uri": "https://localhost:8080/",
          "height": 1000
        },
        "id": "9Ggt4EsSj2UY",
        "outputId": "48005250-f322-4943-e456-17e96f1e66dd"
      },
      "source": [
        "do_cross_validation(X,y)"
      ],
      "execution_count": 25,
      "outputs": [
        {
          "output_type": "stream",
          "text": [
            "MODEL\n",
            "make_DNN\n",
            "input shape: (128, 4)\n",
            "FIT\n",
            "Epoch 1/100\n",
            "1334/1334 [==============================] - 17s 11ms/step - loss: 0.7066 - accuracy: 0.5169 - val_loss: 0.6839 - val_accuracy: 0.5623\n"
          ],
          "name": "stdout"
        },
        {
          "output_type": "stream",
          "text": [
            "WARNING:absl:Found untraced functions such as lstm_cell_12_layer_call_fn, lstm_cell_12_layer_call_and_return_conditional_losses, lstm_cell_13_layer_call_fn, lstm_cell_13_layer_call_and_return_conditional_losses, lstm_cell_12_layer_call_fn while saving (showing 5 of 10). These functions will not be directly callable after loading.\n"
          ],
          "name": "stderr"
        },
        {
          "output_type": "stream",
          "text": [
            "INFO:tensorflow:Assets written to: BestModel/assets\n"
          ],
          "name": "stdout"
        },
        {
          "output_type": "stream",
          "text": [
            "INFO:tensorflow:Assets written to: BestModel/assets\n"
          ],
          "name": "stderr"
        },
        {
          "output_type": "stream",
          "text": [
            "Epoch 2/100\n",
            "1334/1334 [==============================] - 13s 10ms/step - loss: 0.6709 - accuracy: 0.5872 - val_loss: 0.6312 - val_accuracy: 0.6412\n"
          ],
          "name": "stdout"
        },
        {
          "output_type": "stream",
          "text": [
            "WARNING:absl:Found untraced functions such as lstm_cell_12_layer_call_fn, lstm_cell_12_layer_call_and_return_conditional_losses, lstm_cell_13_layer_call_fn, lstm_cell_13_layer_call_and_return_conditional_losses, lstm_cell_12_layer_call_fn while saving (showing 5 of 10). These functions will not be directly callable after loading.\n"
          ],
          "name": "stderr"
        },
        {
          "output_type": "stream",
          "text": [
            "INFO:tensorflow:Assets written to: BestModel/assets\n"
          ],
          "name": "stdout"
        },
        {
          "output_type": "stream",
          "text": [
            "INFO:tensorflow:Assets written to: BestModel/assets\n"
          ],
          "name": "stderr"
        },
        {
          "output_type": "stream",
          "text": [
            "Epoch 3/100\n",
            "1334/1334 [==============================] - 13s 10ms/step - loss: 0.6342 - accuracy: 0.6386 - val_loss: 0.6004 - val_accuracy: 0.6766\n"
          ],
          "name": "stdout"
        },
        {
          "output_type": "stream",
          "text": [
            "WARNING:absl:Found untraced functions such as lstm_cell_12_layer_call_fn, lstm_cell_12_layer_call_and_return_conditional_losses, lstm_cell_13_layer_call_fn, lstm_cell_13_layer_call_and_return_conditional_losses, lstm_cell_12_layer_call_fn while saving (showing 5 of 10). These functions will not be directly callable after loading.\n"
          ],
          "name": "stderr"
        },
        {
          "output_type": "stream",
          "text": [
            "INFO:tensorflow:Assets written to: BestModel/assets\n"
          ],
          "name": "stdout"
        },
        {
          "output_type": "stream",
          "text": [
            "INFO:tensorflow:Assets written to: BestModel/assets\n"
          ],
          "name": "stderr"
        },
        {
          "output_type": "stream",
          "text": [
            "Epoch 4/100\n",
            "1334/1334 [==============================] - 13s 10ms/step - loss: 0.5959 - accuracy: 0.6735 - val_loss: 0.5760 - val_accuracy: 0.6938\n"
          ],
          "name": "stdout"
        },
        {
          "output_type": "stream",
          "text": [
            "WARNING:absl:Found untraced functions such as lstm_cell_12_layer_call_fn, lstm_cell_12_layer_call_and_return_conditional_losses, lstm_cell_13_layer_call_fn, lstm_cell_13_layer_call_and_return_conditional_losses, lstm_cell_12_layer_call_fn while saving (showing 5 of 10). These functions will not be directly callable after loading.\n"
          ],
          "name": "stderr"
        },
        {
          "output_type": "stream",
          "text": [
            "INFO:tensorflow:Assets written to: BestModel/assets\n"
          ],
          "name": "stdout"
        },
        {
          "output_type": "stream",
          "text": [
            "INFO:tensorflow:Assets written to: BestModel/assets\n"
          ],
          "name": "stderr"
        },
        {
          "output_type": "stream",
          "text": [
            "Epoch 5/100\n",
            "1334/1334 [==============================] - 13s 10ms/step - loss: 0.5739 - accuracy: 0.6917 - val_loss: 0.5804 - val_accuracy: 0.6889\n",
            "Epoch 6/100\n",
            "1334/1334 [==============================] - 13s 10ms/step - loss: 0.5670 - accuracy: 0.6963 - val_loss: 0.5636 - val_accuracy: 0.7010\n"
          ],
          "name": "stdout"
        },
        {
          "output_type": "stream",
          "text": [
            "WARNING:absl:Found untraced functions such as lstm_cell_12_layer_call_fn, lstm_cell_12_layer_call_and_return_conditional_losses, lstm_cell_13_layer_call_fn, lstm_cell_13_layer_call_and_return_conditional_losses, lstm_cell_12_layer_call_fn while saving (showing 5 of 10). These functions will not be directly callable after loading.\n"
          ],
          "name": "stderr"
        },
        {
          "output_type": "stream",
          "text": [
            "INFO:tensorflow:Assets written to: BestModel/assets\n"
          ],
          "name": "stdout"
        },
        {
          "output_type": "stream",
          "text": [
            "INFO:tensorflow:Assets written to: BestModel/assets\n"
          ],
          "name": "stderr"
        },
        {
          "output_type": "stream",
          "text": [
            "Epoch 7/100\n",
            "1334/1334 [==============================] - 13s 10ms/step - loss: 0.5566 - accuracy: 0.7052 - val_loss: 0.5620 - val_accuracy: 0.7008\n",
            "Epoch 8/100\n",
            "1334/1334 [==============================] - 13s 10ms/step - loss: 0.5568 - accuracy: 0.7055 - val_loss: 0.5636 - val_accuracy: 0.7034\n"
          ],
          "name": "stdout"
        },
        {
          "output_type": "stream",
          "text": [
            "WARNING:absl:Found untraced functions such as lstm_cell_12_layer_call_fn, lstm_cell_12_layer_call_and_return_conditional_losses, lstm_cell_13_layer_call_fn, lstm_cell_13_layer_call_and_return_conditional_losses, lstm_cell_12_layer_call_fn while saving (showing 5 of 10). These functions will not be directly callable after loading.\n"
          ],
          "name": "stderr"
        },
        {
          "output_type": "stream",
          "text": [
            "INFO:tensorflow:Assets written to: BestModel/assets\n"
          ],
          "name": "stdout"
        },
        {
          "output_type": "stream",
          "text": [
            "INFO:tensorflow:Assets written to: BestModel/assets\n"
          ],
          "name": "stderr"
        },
        {
          "output_type": "stream",
          "text": [
            "Epoch 9/100\n",
            "1334/1334 [==============================] - 13s 10ms/step - loss: 0.5496 - accuracy: 0.7069 - val_loss: 0.5664 - val_accuracy: 0.7011\n",
            "Epoch 10/100\n",
            "1334/1334 [==============================] - 13s 10ms/step - loss: 0.5492 - accuracy: 0.7076 - val_loss: 0.5603 - val_accuracy: 0.7040\n"
          ],
          "name": "stdout"
        },
        {
          "output_type": "stream",
          "text": [
            "WARNING:absl:Found untraced functions such as lstm_cell_12_layer_call_fn, lstm_cell_12_layer_call_and_return_conditional_losses, lstm_cell_13_layer_call_fn, lstm_cell_13_layer_call_and_return_conditional_losses, lstm_cell_12_layer_call_fn while saving (showing 5 of 10). These functions will not be directly callable after loading.\n"
          ],
          "name": "stderr"
        },
        {
          "output_type": "stream",
          "text": [
            "INFO:tensorflow:Assets written to: BestModel/assets\n"
          ],
          "name": "stdout"
        },
        {
          "output_type": "stream",
          "text": [
            "INFO:tensorflow:Assets written to: BestModel/assets\n"
          ],
          "name": "stderr"
        },
        {
          "output_type": "stream",
          "text": [
            "Epoch 11/100\n",
            "1334/1334 [==============================] - 13s 10ms/step - loss: 0.5443 - accuracy: 0.7102 - val_loss: 0.5602 - val_accuracy: 0.7065\n"
          ],
          "name": "stdout"
        },
        {
          "output_type": "stream",
          "text": [
            "WARNING:absl:Found untraced functions such as lstm_cell_12_layer_call_fn, lstm_cell_12_layer_call_and_return_conditional_losses, lstm_cell_13_layer_call_fn, lstm_cell_13_layer_call_and_return_conditional_losses, lstm_cell_12_layer_call_fn while saving (showing 5 of 10). These functions will not be directly callable after loading.\n"
          ],
          "name": "stderr"
        },
        {
          "output_type": "stream",
          "text": [
            "INFO:tensorflow:Assets written to: BestModel/assets\n"
          ],
          "name": "stdout"
        },
        {
          "output_type": "stream",
          "text": [
            "INFO:tensorflow:Assets written to: BestModel/assets\n"
          ],
          "name": "stderr"
        },
        {
          "output_type": "stream",
          "text": [
            "Epoch 12/100\n",
            "1334/1334 [==============================] - 13s 10ms/step - loss: 0.5385 - accuracy: 0.7154 - val_loss: 0.5811 - val_accuracy: 0.7005\n",
            "Epoch 13/100\n",
            "1334/1334 [==============================] - 13s 10ms/step - loss: 0.5335 - accuracy: 0.7158 - val_loss: 0.5614 - val_accuracy: 0.7035\n",
            "Epoch 14/100\n",
            "1334/1334 [==============================] - 13s 10ms/step - loss: 0.5285 - accuracy: 0.7185 - val_loss: 0.5653 - val_accuracy: 0.7050\n",
            "Epoch 15/100\n",
            "1334/1334 [==============================] - 13s 10ms/step - loss: 0.5201 - accuracy: 0.7265 - val_loss: 0.5703 - val_accuracy: 0.7052\n",
            "Epoch 16/100\n",
            "1334/1334 [==============================] - 13s 10ms/step - loss: 0.5111 - accuracy: 0.7298 - val_loss: 0.5777 - val_accuracy: 0.6981\n",
            "Epoch 17/100\n",
            "1334/1334 [==============================] - 13s 10ms/step - loss: 0.5173 - accuracy: 0.7287 - val_loss: 0.5729 - val_accuracy: 0.6993\n",
            "Epoch 18/100\n",
            "1334/1334 [==============================] - 13s 10ms/step - loss: 0.5039 - accuracy: 0.7351 - val_loss: 0.5776 - val_accuracy: 0.6983\n",
            "Epoch 19/100\n",
            "1334/1334 [==============================] - 13s 10ms/step - loss: 0.4978 - accuracy: 0.7409 - val_loss: 0.5928 - val_accuracy: 0.6942\n",
            "Epoch 20/100\n",
            "1334/1334 [==============================] - 13s 10ms/step - loss: 0.4985 - accuracy: 0.7354 - val_loss: 0.6083 - val_accuracy: 0.6966\n",
            "Epoch 21/100\n",
            "1334/1334 [==============================] - 13s 10ms/step - loss: 0.4810 - accuracy: 0.7525 - val_loss: 0.5968 - val_accuracy: 0.6892\n",
            "Epoch 22/100\n",
            "1334/1334 [==============================] - 13s 10ms/step - loss: 0.4790 - accuracy: 0.7532 - val_loss: 0.5953 - val_accuracy: 0.6873\n",
            "Epoch 23/100\n",
            "1334/1334 [==============================] - 13s 10ms/step - loss: 0.4785 - accuracy: 0.7544 - val_loss: 0.6254 - val_accuracy: 0.6968\n",
            "Epoch 24/100\n",
            "1334/1334 [==============================] - 13s 10ms/step - loss: 0.4614 - accuracy: 0.7580 - val_loss: 0.6143 - val_accuracy: 0.6803\n",
            "Epoch 25/100\n",
            "1334/1334 [==============================] - 13s 10ms/step - loss: 0.4615 - accuracy: 0.7611 - val_loss: 0.6109 - val_accuracy: 0.6867\n",
            "Epoch 26/100\n",
            "1334/1334 [==============================] - 13s 10ms/step - loss: 0.4526 - accuracy: 0.7668 - val_loss: 0.6177 - val_accuracy: 0.6915\n",
            "Epoch 27/100\n",
            "1334/1334 [==============================] - 13s 10ms/step - loss: 0.4475 - accuracy: 0.7690 - val_loss: 0.6485 - val_accuracy: 0.6862\n",
            "Epoch 28/100\n",
            "1334/1334 [==============================] - 13s 10ms/step - loss: 0.4347 - accuracy: 0.7775 - val_loss: 0.6885 - val_accuracy: 0.6896\n",
            "Epoch 29/100\n",
            "1334/1334 [==============================] - 13s 10ms/step - loss: 0.4287 - accuracy: 0.7828 - val_loss: 0.6885 - val_accuracy: 0.6831\n",
            "Epoch 30/100\n",
            "1334/1334 [==============================] - 13s 10ms/step - loss: 0.4235 - accuracy: 0.7823 - val_loss: 0.6624 - val_accuracy: 0.6756\n",
            "Epoch 31/100\n",
            "1334/1334 [==============================] - 13s 10ms/step - loss: 0.4131 - accuracy: 0.7914 - val_loss: 0.6530 - val_accuracy: 0.6857\n",
            "Epoch 32/100\n",
            "1334/1334 [==============================] - 13s 10ms/step - loss: 0.4052 - accuracy: 0.7965 - val_loss: 0.7287 - val_accuracy: 0.6794\n",
            "Epoch 33/100\n",
            "1334/1334 [==============================] - 13s 10ms/step - loss: 0.3933 - accuracy: 0.8000 - val_loss: 0.7453 - val_accuracy: 0.6753\n",
            "Epoch 34/100\n",
            "1334/1334 [==============================] - 13s 10ms/step - loss: 0.3910 - accuracy: 0.8049 - val_loss: 0.7270 - val_accuracy: 0.6767\n",
            "Epoch 35/100\n",
            "1334/1334 [==============================] - 14s 11ms/step - loss: 0.3757 - accuracy: 0.8128 - val_loss: 0.7316 - val_accuracy: 0.6713\n",
            "Epoch 36/100\n",
            "1334/1334 [==============================] - 14s 11ms/step - loss: 0.3745 - accuracy: 0.8138 - val_loss: 0.7646 - val_accuracy: 0.6766\n",
            "Epoch 37/100\n",
            "1334/1334 [==============================] - 14s 10ms/step - loss: 0.3681 - accuracy: 0.8183 - val_loss: 0.7509 - val_accuracy: 0.6757\n",
            "Epoch 38/100\n",
            "1334/1334 [==============================] - 14s 10ms/step - loss: 0.3562 - accuracy: 0.8231 - val_loss: 0.8374 - val_accuracy: 0.6747\n",
            "Epoch 39/100\n",
            "1334/1334 [==============================] - 16s 12ms/step - loss: 0.3487 - accuracy: 0.8281 - val_loss: 0.7900 - val_accuracy: 0.6639\n",
            "Epoch 40/100\n",
            "1334/1334 [==============================] - 16s 12ms/step - loss: 0.3449 - accuracy: 0.8301 - val_loss: 0.7890 - val_accuracy: 0.6686\n",
            "Epoch 41/100\n",
            "1334/1334 [==============================] - 16s 12ms/step - loss: 0.3361 - accuracy: 0.8365 - val_loss: 0.8573 - val_accuracy: 0.6608\n",
            "Epoch 42/100\n",
            "1334/1334 [==============================] - 16s 12ms/step - loss: 0.3309 - accuracy: 0.8409 - val_loss: 0.8538 - val_accuracy: 0.6660\n",
            "Epoch 43/100\n",
            "1334/1334 [==============================] - 16s 12ms/step - loss: 0.3170 - accuracy: 0.8435 - val_loss: 0.8349 - val_accuracy: 0.6661\n",
            "Epoch 44/100\n",
            "1334/1334 [==============================] - 16s 12ms/step - loss: 0.3102 - accuracy: 0.8481 - val_loss: 0.9050 - val_accuracy: 0.6617\n",
            "Epoch 45/100\n",
            "1334/1334 [==============================] - 15s 11ms/step - loss: 0.3129 - accuracy: 0.8520 - val_loss: 0.9051 - val_accuracy: 0.6610\n",
            "Epoch 46/100\n",
            "1334/1334 [==============================] - 14s 11ms/step - loss: 0.3033 - accuracy: 0.8557 - val_loss: 0.9305 - val_accuracy: 0.6672\n",
            "Epoch 47/100\n",
            "1334/1334 [==============================] - 14s 10ms/step - loss: 0.2915 - accuracy: 0.8649 - val_loss: 0.9040 - val_accuracy: 0.6600\n",
            "Epoch 48/100\n",
            "1334/1334 [==============================] - 14s 11ms/step - loss: 0.2878 - accuracy: 0.8665 - val_loss: 0.9790 - val_accuracy: 0.6585\n",
            "Epoch 49/100\n",
            "1334/1334 [==============================] - 14s 10ms/step - loss: 0.2748 - accuracy: 0.8735 - val_loss: 0.9991 - val_accuracy: 0.6627\n",
            "Epoch 50/100\n",
            "1334/1334 [==============================] - 14s 10ms/step - loss: 0.2748 - accuracy: 0.8737 - val_loss: 1.0451 - val_accuracy: 0.6605\n",
            "Epoch 51/100\n",
            "1334/1334 [==============================] - 14s 10ms/step - loss: 0.2689 - accuracy: 0.8769 - val_loss: 0.9619 - val_accuracy: 0.6517\n",
            "Epoch 52/100\n",
            "1334/1334 [==============================] - 13s 10ms/step - loss: 0.2571 - accuracy: 0.8808 - val_loss: 0.9841 - val_accuracy: 0.6542\n",
            "Epoch 53/100\n",
            "1334/1334 [==============================] - 13s 10ms/step - loss: 0.2562 - accuracy: 0.8816 - val_loss: 1.0029 - val_accuracy: 0.6489\n",
            "Epoch 54/100\n",
            "1334/1334 [==============================] - 13s 10ms/step - loss: 0.2479 - accuracy: 0.8897 - val_loss: 1.0653 - val_accuracy: 0.6541\n",
            "Epoch 55/100\n",
            "1334/1334 [==============================] - 13s 10ms/step - loss: 0.2476 - accuracy: 0.8882 - val_loss: 1.0700 - val_accuracy: 0.6583\n",
            "Epoch 56/100\n",
            "1334/1334 [==============================] - 13s 10ms/step - loss: 0.2332 - accuracy: 0.8958 - val_loss: 1.1105 - val_accuracy: 0.6573\n",
            "Epoch 57/100\n",
            "1334/1334 [==============================] - 13s 10ms/step - loss: 0.2303 - accuracy: 0.8979 - val_loss: 1.0846 - val_accuracy: 0.6592\n",
            "Epoch 58/100\n",
            "1334/1334 [==============================] - 13s 10ms/step - loss: 0.2234 - accuracy: 0.9030 - val_loss: 1.1449 - val_accuracy: 0.6602\n",
            "Epoch 59/100\n",
            "1334/1334 [==============================] - 13s 10ms/step - loss: 0.2203 - accuracy: 0.9038 - val_loss: 1.1235 - val_accuracy: 0.6544\n",
            "Epoch 60/100\n",
            "1334/1334 [==============================] - 13s 10ms/step - loss: 0.2165 - accuracy: 0.9048 - val_loss: 1.1237 - val_accuracy: 0.6516\n",
            "Epoch 61/100\n",
            "1334/1334 [==============================] - 13s 10ms/step - loss: 0.2210 - accuracy: 0.9035 - val_loss: 1.1387 - val_accuracy: 0.6552\n",
            "Epoch 62/100\n",
            "1334/1334 [==============================] - 13s 10ms/step - loss: 0.2063 - accuracy: 0.9094 - val_loss: 1.1946 - val_accuracy: 0.6462\n",
            "Epoch 63/100\n",
            "1334/1334 [==============================] - 14s 10ms/step - loss: 0.2009 - accuracy: 0.9126 - val_loss: 1.1347 - val_accuracy: 0.6556\n",
            "Epoch 64/100\n",
            "1334/1334 [==============================] - 13s 10ms/step - loss: 0.1956 - accuracy: 0.9172 - val_loss: 1.1267 - val_accuracy: 0.6479\n",
            "Epoch 65/100\n",
            "1334/1334 [==============================] - 14s 10ms/step - loss: 0.1886 - accuracy: 0.9211 - val_loss: 1.1963 - val_accuracy: 0.6532\n",
            "Epoch 66/100\n",
            "1334/1334 [==============================] - 13s 10ms/step - loss: 0.1893 - accuracy: 0.9213 - val_loss: 1.1912 - val_accuracy: 0.6513\n",
            "Epoch 67/100\n",
            "1334/1334 [==============================] - 14s 10ms/step - loss: 0.1841 - accuracy: 0.9246 - val_loss: 1.2518 - val_accuracy: 0.6562\n",
            "Epoch 68/100\n",
            "1334/1334 [==============================] - 13s 10ms/step - loss: 0.1799 - accuracy: 0.9253 - val_loss: 1.1775 - val_accuracy: 0.6496\n",
            "Epoch 69/100\n",
            "1334/1334 [==============================] - 14s 10ms/step - loss: 0.1873 - accuracy: 0.9230 - val_loss: 1.2591 - val_accuracy: 0.6455\n",
            "Epoch 70/100\n",
            "1334/1334 [==============================] - 14s 10ms/step - loss: 0.1721 - accuracy: 0.9310 - val_loss: 1.2961 - val_accuracy: 0.6532\n",
            "Epoch 71/100\n",
            "1334/1334 [==============================] - 14s 10ms/step - loss: 0.1750 - accuracy: 0.9281 - val_loss: 1.2612 - val_accuracy: 0.6499\n",
            "Epoch 72/100\n",
            "1334/1334 [==============================] - 13s 10ms/step - loss: 0.1674 - accuracy: 0.9324 - val_loss: 1.2873 - val_accuracy: 0.6486\n",
            "Epoch 73/100\n",
            "1334/1334 [==============================] - 13s 10ms/step - loss: 0.1540 - accuracy: 0.9376 - val_loss: 1.2992 - val_accuracy: 0.6482\n",
            "Epoch 74/100\n",
            "1334/1334 [==============================] - 13s 10ms/step - loss: 0.1676 - accuracy: 0.9328 - val_loss: 1.3151 - val_accuracy: 0.6514\n",
            "Epoch 75/100\n",
            "1334/1334 [==============================] - 13s 10ms/step - loss: 0.1604 - accuracy: 0.9351 - val_loss: 1.3019 - val_accuracy: 0.6493\n",
            "Epoch 76/100\n",
            "1334/1334 [==============================] - 13s 10ms/step - loss: 0.1580 - accuracy: 0.9384 - val_loss: 1.2794 - val_accuracy: 0.6539\n",
            "Epoch 77/100\n",
            "1334/1334 [==============================] - 13s 10ms/step - loss: 0.1558 - accuracy: 0.9365 - val_loss: 1.3056 - val_accuracy: 0.6411\n",
            "Epoch 78/100\n",
            "1334/1334 [==============================] - 13s 10ms/step - loss: 0.1548 - accuracy: 0.9382 - val_loss: 1.2546 - val_accuracy: 0.6514\n",
            "Epoch 79/100\n",
            "1334/1334 [==============================] - 13s 10ms/step - loss: 0.1533 - accuracy: 0.9397 - val_loss: 1.3222 - val_accuracy: 0.6544\n",
            "Epoch 80/100\n",
            "1334/1334 [==============================] - 13s 10ms/step - loss: 0.1522 - accuracy: 0.9408 - val_loss: 1.3008 - val_accuracy: 0.6526\n",
            "Epoch 81/100\n",
            "1334/1334 [==============================] - 13s 10ms/step - loss: 0.1367 - accuracy: 0.9461 - val_loss: 1.3504 - val_accuracy: 0.6518\n",
            "Epoch 82/100\n",
            "1334/1334 [==============================] - 13s 10ms/step - loss: 0.1360 - accuracy: 0.9472 - val_loss: 1.2976 - val_accuracy: 0.6508\n",
            "Epoch 83/100\n",
            "1334/1334 [==============================] - 13s 10ms/step - loss: 0.1327 - accuracy: 0.9483 - val_loss: 1.4019 - val_accuracy: 0.6477\n",
            "Epoch 84/100\n",
            "1334/1334 [==============================] - 13s 10ms/step - loss: 0.1317 - accuracy: 0.9479 - val_loss: 1.4159 - val_accuracy: 0.6516\n",
            "Epoch 85/100\n",
            "1334/1334 [==============================] - 13s 10ms/step - loss: 0.1353 - accuracy: 0.9482 - val_loss: 1.3809 - val_accuracy: 0.6527\n",
            "Epoch 86/100\n",
            "1334/1334 [==============================] - 13s 10ms/step - loss: 0.1322 - accuracy: 0.9476 - val_loss: 1.3786 - val_accuracy: 0.6507\n",
            "Epoch 87/100\n",
            "1334/1334 [==============================] - 13s 10ms/step - loss: 0.1334 - accuracy: 0.9485 - val_loss: 1.4644 - val_accuracy: 0.6523\n",
            "Epoch 88/100\n",
            "1334/1334 [==============================] - 13s 10ms/step - loss: 0.1496 - accuracy: 0.9425 - val_loss: 1.3902 - val_accuracy: 0.6509\n",
            "Epoch 89/100\n",
            "1334/1334 [==============================] - 13s 10ms/step - loss: 0.1206 - accuracy: 0.9548 - val_loss: 1.3728 - val_accuracy: 0.6598\n",
            "Epoch 90/100\n",
            "1334/1334 [==============================] - 14s 10ms/step - loss: 0.1131 - accuracy: 0.9589 - val_loss: 1.3717 - val_accuracy: 0.6530\n",
            "Epoch 91/100\n",
            "1334/1334 [==============================] - 13s 10ms/step - loss: 0.1240 - accuracy: 0.9532 - val_loss: 1.4378 - val_accuracy: 0.6452\n",
            "Epoch 92/100\n",
            "1334/1334 [==============================] - 13s 10ms/step - loss: 0.1233 - accuracy: 0.9525 - val_loss: 1.4977 - val_accuracy: 0.6520\n",
            "Epoch 93/100\n",
            "1334/1334 [==============================] - 13s 10ms/step - loss: 0.1161 - accuracy: 0.9559 - val_loss: 1.3903 - val_accuracy: 0.6439\n",
            "Epoch 94/100\n",
            "1334/1334 [==============================] - 13s 10ms/step - loss: 0.1191 - accuracy: 0.9551 - val_loss: 1.3971 - val_accuracy: 0.6502\n",
            "Epoch 95/100\n",
            "1334/1334 [==============================] - 13s 10ms/step - loss: 0.1198 - accuracy: 0.9541 - val_loss: 1.4600 - val_accuracy: 0.6475\n",
            "Epoch 96/100\n",
            "1334/1334 [==============================] - 13s 10ms/step - loss: 0.1135 - accuracy: 0.9567 - val_loss: 1.4393 - val_accuracy: 0.6465\n",
            "Epoch 97/100\n",
            "1334/1334 [==============================] - 13s 10ms/step - loss: 0.1175 - accuracy: 0.9545 - val_loss: 1.3350 - val_accuracy: 0.6519\n",
            "Epoch 98/100\n",
            "1334/1334 [==============================] - 14s 11ms/step - loss: 0.1033 - accuracy: 0.9625 - val_loss: 1.3710 - val_accuracy: 0.6543\n",
            "Epoch 99/100\n",
            "1334/1334 [==============================] - 14s 11ms/step - loss: 0.1129 - accuracy: 0.9583 - val_loss: 1.4066 - val_accuracy: 0.6471\n",
            "Epoch 100/100\n",
            "1334/1334 [==============================] - 14s 11ms/step - loss: 0.1086 - accuracy: 0.9603 - val_loss: 1.5047 - val_accuracy: 0.6465\n",
            "Fold 1, 100 epochs, 1464 sec\n"
          ],
          "name": "stdout"
        },
        {
          "output_type": "display_data",
          "data": {
            "image/png": "[encoded data removed]",
            "text/plain": [
              "<Figure size 576x360 with 1 Axes>"
            ]
          },
          "metadata": {
            "tags": [],
            "needs_background": "light"
          }
        },
        {
          "output_type": "stream",
          "text": [
            "MODEL\n",
            "make_DNN\n",
            "input shape: (128, 4)\n",
            "FIT\n",
            "Epoch 1/100\n",
            "1334/1334 [==============================] - 21s 13ms/step - loss: 0.7032 - accuracy: 0.5134 - val_loss: 0.6919 - val_accuracy: 0.5122\n",
            "Epoch 2/100\n",
            "1334/1334 [==============================] - 16s 12ms/step - loss: 0.6841 - accuracy: 0.5537 - val_loss: 0.6473 - val_accuracy: 0.6225\n",
            "Epoch 3/100\n",
            "1334/1334 [==============================] - 16s 12ms/step - loss: 0.6499 - accuracy: 0.6209 - val_loss: 0.6426 - val_accuracy: 0.6266\n",
            "Epoch 4/100\n",
            "1334/1334 [==============================] - 15s 11ms/step - loss: 0.6255 - accuracy: 0.6494 - val_loss: 0.5962 - val_accuracy: 0.6742\n",
            "Epoch 5/100\n",
            "1334/1334 [==============================] - 15s 11ms/step - loss: 0.5853 - accuracy: 0.6862 - val_loss: 0.5842 - val_accuracy: 0.6807\n",
            "Epoch 6/100\n",
            "1334/1334 [==============================] - 14s 11ms/step - loss: 0.5719 - accuracy: 0.6963 - val_loss: 0.5779 - val_accuracy: 0.6893\n",
            "Epoch 7/100\n",
            "1334/1334 [==============================] - 14s 11ms/step - loss: 0.5653 - accuracy: 0.6972 - val_loss: 0.5714 - val_accuracy: 0.6889\n",
            "Epoch 8/100\n",
            "1334/1334 [==============================] - 14s 11ms/step - loss: 0.5620 - accuracy: 0.6993 - val_loss: 0.5773 - val_accuracy: 0.6784\n",
            "Epoch 9/100\n",
            "1334/1334 [==============================] - 14s 10ms/step - loss: 0.5565 - accuracy: 0.7037 - val_loss: 0.5692 - val_accuracy: 0.6934\n",
            "Epoch 10/100\n",
            "1334/1334 [==============================] - 14s 10ms/step - loss: 0.5550 - accuracy: 0.7026 - val_loss: 0.5676 - val_accuracy: 0.6948\n",
            "Epoch 11/100\n",
            "1334/1334 [==============================] - 14s 10ms/step - loss: 0.5501 - accuracy: 0.7092 - val_loss: 0.5710 - val_accuracy: 0.6876\n",
            "Epoch 12/100\n",
            "1334/1334 [==============================] - 13s 10ms/step - loss: 0.5610 - accuracy: 0.7032 - val_loss: 0.5662 - val_accuracy: 0.6921\n",
            "Epoch 13/100\n",
            "1334/1334 [==============================] - 13s 10ms/step - loss: 0.5488 - accuracy: 0.7085 - val_loss: 0.5647 - val_accuracy: 0.6959\n",
            "Epoch 14/100\n",
            "1334/1334 [==============================] - 13s 10ms/step - loss: 0.5474 - accuracy: 0.7106 - val_loss: 0.5730 - val_accuracy: 0.6937\n",
            "Epoch 15/100\n",
            "1334/1334 [==============================] - 13s 10ms/step - loss: 0.5421 - accuracy: 0.7124 - val_loss: 0.5994 - val_accuracy: 0.6872\n",
            "Epoch 16/100\n",
            "1334/1334 [==============================] - 13s 10ms/step - loss: 0.5364 - accuracy: 0.7153 - val_loss: 0.5675 - val_accuracy: 0.6934\n",
            "Epoch 17/100\n",
            "1334/1334 [==============================] - 13s 10ms/step - loss: 0.5422 - accuracy: 0.7147 - val_loss: 0.5905 - val_accuracy: 0.6873\n",
            "Epoch 18/100\n",
            "1334/1334 [==============================] - 13s 10ms/step - loss: 0.5370 - accuracy: 0.7179 - val_loss: 0.5701 - val_accuracy: 0.6906\n",
            "Epoch 19/100\n",
            "1334/1334 [==============================] - 13s 10ms/step - loss: 0.5356 - accuracy: 0.7190 - val_loss: 0.5817 - val_accuracy: 0.6912\n",
            "Epoch 20/100\n",
            "1334/1334 [==============================] - 13s 10ms/step - loss: 0.5303 - accuracy: 0.7225 - val_loss: 0.5659 - val_accuracy: 0.6954\n",
            "Epoch 21/100\n",
            "1334/1334 [==============================] - 13s 10ms/step - loss: 0.5246 - accuracy: 0.7223 - val_loss: 0.5755 - val_accuracy: 0.6909\n",
            "Epoch 22/100\n",
            "1334/1334 [==============================] - 13s 10ms/step - loss: 0.5239 - accuracy: 0.7255 - val_loss: 0.5744 - val_accuracy: 0.6901\n",
            "Epoch 23/100\n",
            "1334/1334 [==============================] - 13s 10ms/step - loss: 0.5247 - accuracy: 0.7217 - val_loss: 0.5747 - val_accuracy: 0.6887\n",
            "Epoch 24/100\n",
            "1334/1334 [==============================] - 13s 10ms/step - loss: 0.5148 - accuracy: 0.7299 - val_loss: 0.5727 - val_accuracy: 0.6898\n",
            "Epoch 25/100\n",
            "1334/1334 [==============================] - 13s 10ms/step - loss: 0.5142 - accuracy: 0.7309 - val_loss: 0.5800 - val_accuracy: 0.6896\n",
            "Epoch 26/100\n",
            "1334/1334 [==============================] - 13s 10ms/step - loss: 0.5104 - accuracy: 0.7323 - val_loss: 0.5891 - val_accuracy: 0.6891\n",
            "Epoch 27/100\n",
            "1334/1334 [==============================] - 13s 10ms/step - loss: 0.5052 - accuracy: 0.7331 - val_loss: 0.5934 - val_accuracy: 0.6900\n",
            "Epoch 28/100\n",
            "1334/1334 [==============================] - 13s 10ms/step - loss: 0.5007 - accuracy: 0.7356 - val_loss: 0.5921 - val_accuracy: 0.6864\n",
            "Epoch 29/100\n",
            "1334/1334 [==============================] - 13s 10ms/step - loss: 0.4922 - accuracy: 0.7432 - val_loss: 0.5859 - val_accuracy: 0.6867\n",
            "Epoch 30/100\n",
            "1334/1334 [==============================] - 13s 10ms/step - loss: 0.4928 - accuracy: 0.7408 - val_loss: 0.5911 - val_accuracy: 0.6884\n",
            "Epoch 31/100\n",
            "1334/1334 [==============================] - 13s 10ms/step - loss: 0.4821 - accuracy: 0.7490 - val_loss: 0.5993 - val_accuracy: 0.6832\n",
            "Epoch 32/100\n",
            "1334/1334 [==============================] - 14s 10ms/step - loss: 0.4845 - accuracy: 0.7465 - val_loss: 0.6151 - val_accuracy: 0.6859\n",
            "Epoch 33/100\n",
            "1334/1334 [==============================] - 13s 10ms/step - loss: 0.4796 - accuracy: 0.7491 - val_loss: 0.6008 - val_accuracy: 0.6796\n",
            "Epoch 34/100\n",
            "1334/1334 [==============================] - 13s 10ms/step - loss: 0.4728 - accuracy: 0.7516 - val_loss: 0.6090 - val_accuracy: 0.6763\n",
            "Epoch 35/100\n",
            "1334/1334 [==============================] - 13s 10ms/step - loss: 0.4627 - accuracy: 0.7587 - val_loss: 0.6353 - val_accuracy: 0.6834\n",
            "Epoch 36/100\n",
            "1334/1334 [==============================] - 13s 10ms/step - loss: 0.4618 - accuracy: 0.7635 - val_loss: 0.6498 - val_accuracy: 0.6752\n",
            "Epoch 37/100\n",
            "1334/1334 [==============================] - 13s 10ms/step - loss: 0.4611 - accuracy: 0.7644 - val_loss: 0.6454 - val_accuracy: 0.6809\n",
            "Epoch 38/100\n",
            "1334/1334 [==============================] - 13s 10ms/step - loss: 0.4525 - accuracy: 0.7628 - val_loss: 0.6605 - val_accuracy: 0.6718\n",
            "Epoch 39/100\n",
            "1334/1334 [==============================] - 13s 10ms/step - loss: 0.4502 - accuracy: 0.7693 - val_loss: 0.6572 - val_accuracy: 0.6762\n",
            "Epoch 40/100\n",
            "1334/1334 [==============================] - 13s 10ms/step - loss: 0.4435 - accuracy: 0.7731 - val_loss: 0.6820 - val_accuracy: 0.6743\n",
            "Epoch 41/100\n",
            "1334/1334 [==============================] - 13s 10ms/step - loss: 0.4402 - accuracy: 0.7763 - val_loss: 0.6474 - val_accuracy: 0.6707\n",
            "Epoch 42/100\n",
            "1334/1334 [==============================] - 13s 10ms/step - loss: 0.4305 - accuracy: 0.7775 - val_loss: 0.6745 - val_accuracy: 0.6731\n",
            "Epoch 43/100\n",
            "1334/1334 [==============================] - 13s 10ms/step - loss: 0.4326 - accuracy: 0.7776 - val_loss: 0.6694 - val_accuracy: 0.6713\n",
            "Epoch 44/100\n",
            "1334/1334 [==============================] - 13s 10ms/step - loss: 0.4203 - accuracy: 0.7841 - val_loss: 0.6861 - val_accuracy: 0.6707\n",
            "Epoch 45/100\n",
            "1334/1334 [==============================] - 13s 10ms/step - loss: 0.4271 - accuracy: 0.7816 - val_loss: 0.6981 - val_accuracy: 0.6704\n",
            "Epoch 46/100\n",
            "1334/1334 [==============================] - 13s 10ms/step - loss: 0.4147 - accuracy: 0.7878 - val_loss: 0.7103 - val_accuracy: 0.6651\n",
            "Epoch 47/100\n",
            "1334/1334 [==============================] - 13s 10ms/step - loss: 0.4107 - accuracy: 0.7910 - val_loss: 0.7708 - val_accuracy: 0.6687\n",
            "Epoch 48/100\n",
            "1334/1334 [==============================] - 13s 10ms/step - loss: 0.4137 - accuracy: 0.7892 - val_loss: 0.7388 - val_accuracy: 0.6622\n",
            "Epoch 49/100\n",
            "1334/1334 [==============================] - 13s 10ms/step - loss: 0.3972 - accuracy: 0.7984 - val_loss: 0.7654 - val_accuracy: 0.6609\n",
            "Epoch 50/100\n",
            "1334/1334 [==============================] - 13s 10ms/step - loss: 0.3955 - accuracy: 0.8002 - val_loss: 0.7583 - val_accuracy: 0.6632\n",
            "Epoch 51/100\n",
            "1334/1334 [==============================] - 13s 10ms/step - loss: 0.3839 - accuracy: 0.8072 - val_loss: 0.8148 - val_accuracy: 0.6606\n",
            "Epoch 52/100\n",
            "1334/1334 [==============================] - 13s 10ms/step - loss: 0.3818 - accuracy: 0.8092 - val_loss: 0.7683 - val_accuracy: 0.6579\n",
            "Epoch 53/100\n",
            "1334/1334 [==============================] - 13s 10ms/step - loss: 0.3867 - accuracy: 0.8082 - val_loss: 0.7866 - val_accuracy: 0.6630\n",
            "Epoch 54/100\n",
            "1334/1334 [==============================] - 13s 10ms/step - loss: 0.3780 - accuracy: 0.8137 - val_loss: 0.7906 - val_accuracy: 0.6585\n",
            "Epoch 55/100\n",
            "1334/1334 [==============================] - 14s 10ms/step - loss: 0.3763 - accuracy: 0.8131 - val_loss: 0.8178 - val_accuracy: 0.6589\n",
            "Epoch 56/100\n",
            "1334/1334 [==============================] - 13s 10ms/step - loss: 0.3532 - accuracy: 0.8266 - val_loss: 0.8083 - val_accuracy: 0.6621\n",
            "Epoch 57/100\n",
            "1334/1334 [==============================] - 14s 10ms/step - loss: 0.3546 - accuracy: 0.8251 - val_loss: 0.8745 - val_accuracy: 0.6531\n",
            "Epoch 58/100\n",
            "1334/1334 [==============================] - 14s 11ms/step - loss: 0.3650 - accuracy: 0.8234 - val_loss: 0.8534 - val_accuracy: 0.6497\n",
            "Epoch 59/100\n",
            "1334/1334 [==============================] - 15s 11ms/step - loss: 0.3552 - accuracy: 0.8251 - val_loss: 0.8501 - val_accuracy: 0.6584\n",
            "Epoch 60/100\n",
            "1334/1334 [==============================] - 14s 10ms/step - loss: 0.3357 - accuracy: 0.8346 - val_loss: 0.8575 - val_accuracy: 0.6577\n",
            "Epoch 61/100\n",
            "1334/1334 [==============================] - 13s 10ms/step - loss: 0.3309 - accuracy: 0.8411 - val_loss: 0.8738 - val_accuracy: 0.6550\n",
            "Epoch 62/100\n",
            "1334/1334 [==============================] - 13s 10ms/step - loss: 0.3237 - accuracy: 0.8447 - val_loss: 0.8904 - val_accuracy: 0.6532\n",
            "Epoch 63/100\n",
            "1334/1334 [==============================] - 14s 10ms/step - loss: 0.3263 - accuracy: 0.8407 - val_loss: 0.9075 - val_accuracy: 0.6462\n",
            "Epoch 64/100\n",
            "1334/1334 [==============================] - 14s 10ms/step - loss: 0.3135 - accuracy: 0.8502 - val_loss: 0.9165 - val_accuracy: 0.6507\n",
            "Epoch 65/100\n",
            "1334/1334 [==============================] - 14s 10ms/step - loss: 0.3165 - accuracy: 0.8491 - val_loss: 1.0036 - val_accuracy: 0.6547\n",
            "Epoch 66/100\n",
            "1334/1334 [==============================] - 13s 10ms/step - loss: 0.3055 - accuracy: 0.8544 - val_loss: 0.9325 - val_accuracy: 0.6557\n",
            "Epoch 67/100\n",
            "1334/1334 [==============================] - 13s 10ms/step - loss: 0.3109 - accuracy: 0.8518 - val_loss: 0.9707 - val_accuracy: 0.6518\n",
            "Epoch 68/100\n",
            "1334/1334 [==============================] - 13s 10ms/step - loss: 0.2992 - accuracy: 0.8574 - val_loss: 0.9616 - val_accuracy: 0.6560\n",
            "Epoch 69/100\n",
            "1334/1334 [==============================] - 13s 10ms/step - loss: 0.3066 - accuracy: 0.8545 - val_loss: 0.9833 - val_accuracy: 0.6542\n",
            "Epoch 70/100\n",
            "1334/1334 [==============================] - 13s 10ms/step - loss: 0.2906 - accuracy: 0.8646 - val_loss: 0.9893 - val_accuracy: 0.6463\n",
            "Epoch 71/100\n",
            "1334/1334 [==============================] - 13s 10ms/step - loss: 0.2780 - accuracy: 0.8703 - val_loss: 1.0010 - val_accuracy: 0.6455\n",
            "Epoch 72/100\n",
            "1334/1334 [==============================] - 13s 10ms/step - loss: 0.2914 - accuracy: 0.8632 - val_loss: 1.0051 - val_accuracy: 0.6479\n",
            "Epoch 73/100\n",
            "1334/1334 [==============================] - 13s 10ms/step - loss: 0.2685 - accuracy: 0.8778 - val_loss: 1.0152 - val_accuracy: 0.6518\n",
            "Epoch 74/100\n",
            "1334/1334 [==============================] - 14s 10ms/step - loss: 0.2725 - accuracy: 0.8755 - val_loss: 1.0412 - val_accuracy: 0.6487\n",
            "Epoch 75/100\n",
            "1334/1334 [==============================] - 13s 10ms/step - loss: 0.2742 - accuracy: 0.8748 - val_loss: 1.0755 - val_accuracy: 0.6518\n",
            "Epoch 76/100\n",
            "1334/1334 [==============================] - 13s 10ms/step - loss: 0.2523 - accuracy: 0.8861 - val_loss: 1.0540 - val_accuracy: 0.6470\n",
            "Epoch 77/100\n",
            "1334/1334 [==============================] - 13s 10ms/step - loss: 0.2524 - accuracy: 0.8871 - val_loss: 1.1443 - val_accuracy: 0.6454\n",
            "Epoch 78/100\n",
            "1334/1334 [==============================] - 14s 10ms/step - loss: 0.2512 - accuracy: 0.8854 - val_loss: 1.0989 - val_accuracy: 0.6469\n",
            "Epoch 79/100\n",
            "1334/1334 [==============================] - 13s 10ms/step - loss: 0.2542 - accuracy: 0.8854 - val_loss: 1.0852 - val_accuracy: 0.6455\n",
            "Epoch 80/100\n",
            "1334/1334 [==============================] - 13s 10ms/step - loss: 0.2952 - accuracy: 0.8678 - val_loss: 1.1126 - val_accuracy: 0.6472\n",
            "Epoch 81/100\n",
            "1334/1334 [==============================] - 14s 10ms/step - loss: 0.2394 - accuracy: 0.8933 - val_loss: 0.9996 - val_accuracy: 0.6489\n",
            "Epoch 82/100\n",
            "1334/1334 [==============================] - 13s 10ms/step - loss: 0.2496 - accuracy: 0.8906 - val_loss: 1.1251 - val_accuracy: 0.6489\n",
            "Epoch 83/100\n",
            "1334/1334 [==============================] - 13s 10ms/step - loss: 0.2397 - accuracy: 0.8972 - val_loss: 1.1863 - val_accuracy: 0.6462\n",
            "Epoch 84/100\n",
            "1334/1334 [==============================] - 13s 10ms/step - loss: 0.2220 - accuracy: 0.9028 - val_loss: 1.1514 - val_accuracy: 0.6535\n",
            "Epoch 85/100\n",
            "1334/1334 [==============================] - 13s 10ms/step - loss: 0.2893 - accuracy: 0.8716 - val_loss: 1.0124 - val_accuracy: 0.6465\n",
            "Epoch 86/100\n",
            "1334/1334 [==============================] - 14s 10ms/step - loss: 0.2378 - accuracy: 0.8961 - val_loss: 1.0822 - val_accuracy: 0.6452\n",
            "Epoch 87/100\n",
            "1334/1334 [==============================] - 13s 10ms/step - loss: 0.2072 - accuracy: 0.9087 - val_loss: 1.1722 - val_accuracy: 0.6456\n",
            "Epoch 88/100\n",
            "1334/1334 [==============================] - 14s 10ms/step - loss: 0.2243 - accuracy: 0.9026 - val_loss: 0.9566 - val_accuracy: 0.6510\n",
            "Epoch 89/100\n",
            "1334/1334 [==============================] - 14s 10ms/step - loss: 0.2477 - accuracy: 0.8905 - val_loss: 1.2145 - val_accuracy: 0.6409\n",
            "Epoch 90/100\n",
            "1334/1334 [==============================] - 13s 10ms/step - loss: 0.2015 - accuracy: 0.9128 - val_loss: 1.2318 - val_accuracy: 0.6454\n",
            "Epoch 91/100\n",
            "1334/1334 [==============================] - 14s 10ms/step - loss: 0.2100 - accuracy: 0.9097 - val_loss: 1.2134 - val_accuracy: 0.6443\n",
            "Epoch 92/100\n",
            "1334/1334 [==============================] - 13s 10ms/step - loss: 0.1917 - accuracy: 0.9184 - val_loss: 1.1346 - val_accuracy: 0.6438\n",
            "Epoch 93/100\n",
            "1334/1334 [==============================] - 13s 10ms/step - loss: 0.2019 - accuracy: 0.9152 - val_loss: 1.2105 - val_accuracy: 0.6453\n",
            "Epoch 94/100\n",
            "1334/1334 [==============================] - 13s 10ms/step - loss: 0.1960 - accuracy: 0.9168 - val_loss: 1.1481 - val_accuracy: 0.6433\n",
            "Epoch 95/100\n",
            "1334/1334 [==============================] - 13s 10ms/step - loss: 0.2048 - accuracy: 0.9156 - val_loss: 1.2968 - val_accuracy: 0.6424\n",
            "Epoch 96/100\n",
            "1334/1334 [==============================] - 13s 10ms/step - loss: 0.1964 - accuracy: 0.9182 - val_loss: 1.3180 - val_accuracy: 0.6451\n",
            "Epoch 97/100\n",
            "1334/1334 [==============================] - 13s 10ms/step - loss: 0.1815 - accuracy: 0.9230 - val_loss: 1.3320 - val_accuracy: 0.6466\n",
            "Epoch 98/100\n",
            "1334/1334 [==============================] - 13s 10ms/step - loss: 0.1858 - accuracy: 0.9229 - val_loss: 1.2396 - val_accuracy: 0.6420\n",
            "Epoch 99/100\n",
            "1334/1334 [==============================] - 13s 10ms/step - loss: 0.2055 - accuracy: 0.9128 - val_loss: 1.3158 - val_accuracy: 0.6423\n",
            "Epoch 100/100\n",
            "1334/1334 [==============================] - 13s 10ms/step - loss: 0.1721 - accuracy: 0.9276 - val_loss: 1.3948 - val_accuracy: 0.6477\n",
            "Fold 2, 100 epochs, 1362 sec\n"
          ],
          "name": "stdout"
        },
        {
          "output_type": "display_data",
          "data": {
            "image/png": "[encoded data removed]",
            "text/plain": [
              "<Figure size 576x360 with 1 Axes>"
            ]
          },
          "metadata": {
            "tags": [],
            "needs_background": "light"
          }
        },
        {
          "output_type": "stream",
          "text": [
            "MODEL\n",
            "make_DNN\n",
            "input shape: (128, 4)\n",
            "FIT\n",
            "Epoch 1/100\n",
            "1334/1334 [==============================] - 17s 11ms/step - loss: 0.7028 - accuracy: 0.5215 - val_loss: 0.6639 - val_accuracy: 0.5959\n",
            "Epoch 2/100\n",
            "1334/1334 [==============================] - 13s 10ms/step - loss: 0.6575 - accuracy: 0.6065 - val_loss: 0.6455 - val_accuracy: 0.6246\n",
            "Epoch 3/100\n",
            "1334/1334 [==============================] - 13s 10ms/step - loss: 0.6344 - accuracy: 0.6411 - val_loss: 0.6326 - val_accuracy: 0.6401\n",
            "Epoch 4/100\n",
            "1334/1334 [==============================] - 13s 10ms/step - loss: 0.6206 - accuracy: 0.6547 - val_loss: 0.5964 - val_accuracy: 0.6756\n",
            "Epoch 5/100\n",
            "1334/1334 [==============================] - 13s 10ms/step - loss: 0.5915 - accuracy: 0.6800 - val_loss: 0.5818 - val_accuracy: 0.6690\n",
            "Epoch 6/100\n",
            "1334/1334 [==============================] - 13s 10ms/step - loss: 0.5776 - accuracy: 0.6926 - val_loss: 0.5684 - val_accuracy: 0.6939\n",
            "Epoch 7/100\n",
            "1334/1334 [==============================] - 13s 10ms/step - loss: 0.5703 - accuracy: 0.6977 - val_loss: 0.5618 - val_accuracy: 0.6972\n",
            "Epoch 8/100\n",
            "1334/1334 [==============================] - 13s 10ms/step - loss: 0.5628 - accuracy: 0.7029 - val_loss: 0.5681 - val_accuracy: 0.6943\n",
            "Epoch 9/100\n",
            "1334/1334 [==============================] - 13s 10ms/step - loss: 0.5563 - accuracy: 0.7038 - val_loss: 0.5625 - val_accuracy: 0.7007\n",
            "Epoch 10/100\n",
            "1334/1334 [==============================] - 13s 10ms/step - loss: 0.5540 - accuracy: 0.7081 - val_loss: 0.5611 - val_accuracy: 0.7019\n",
            "Epoch 11/100\n",
            "1334/1334 [==============================] - 13s 10ms/step - loss: 0.5489 - accuracy: 0.7106 - val_loss: 0.5624 - val_accuracy: 0.6987\n",
            "Epoch 12/100\n",
            "1334/1334 [==============================] - 13s 10ms/step - loss: 0.5428 - accuracy: 0.7149 - val_loss: 0.5650 - val_accuracy: 0.6978\n",
            "Epoch 13/100\n",
            "1334/1334 [==============================] - 13s 10ms/step - loss: 0.5393 - accuracy: 0.7154 - val_loss: 0.5699 - val_accuracy: 0.6977\n",
            "Epoch 14/100\n",
            "1334/1334 [==============================] - 13s 10ms/step - loss: 0.5388 - accuracy: 0.7149 - val_loss: 0.5695 - val_accuracy: 0.6953\n",
            "Epoch 15/100\n",
            "1334/1334 [==============================] - 13s 10ms/step - loss: 0.5287 - accuracy: 0.7225 - val_loss: 0.5647 - val_accuracy: 0.7007\n",
            "Epoch 16/100\n",
            "1334/1334 [==============================] - 13s 10ms/step - loss: 0.5259 - accuracy: 0.7272 - val_loss: 0.5686 - val_accuracy: 0.6993\n",
            "Epoch 17/100\n",
            "1334/1334 [==============================] - 13s 10ms/step - loss: 0.5169 - accuracy: 0.7322 - val_loss: 0.5669 - val_accuracy: 0.6967\n",
            "Epoch 18/100\n",
            "1334/1334 [==============================] - 13s 10ms/step - loss: 0.5163 - accuracy: 0.7313 - val_loss: 0.5836 - val_accuracy: 0.6923\n",
            "Epoch 19/100\n",
            "1334/1334 [==============================] - 13s 10ms/step - loss: 0.5098 - accuracy: 0.7347 - val_loss: 0.5812 - val_accuracy: 0.6829\n",
            "Epoch 20/100\n",
            "1334/1334 [==============================] - 13s 10ms/step - loss: 0.5000 - accuracy: 0.7402 - val_loss: 0.5962 - val_accuracy: 0.6934\n",
            "Epoch 21/100\n",
            "1334/1334 [==============================] - 13s 10ms/step - loss: 0.4965 - accuracy: 0.7436 - val_loss: 0.5795 - val_accuracy: 0.6872\n",
            "Epoch 22/100\n",
            "1334/1334 [==============================] - 13s 10ms/step - loss: 0.4903 - accuracy: 0.7472 - val_loss: 0.5989 - val_accuracy: 0.6909\n",
            "Epoch 23/100\n",
            "1334/1334 [==============================] - 13s 10ms/step - loss: 0.4842 - accuracy: 0.7512 - val_loss: 0.6017 - val_accuracy: 0.6874\n",
            "Epoch 24/100\n",
            "1334/1334 [==============================] - 14s 10ms/step - loss: 0.4792 - accuracy: 0.7532 - val_loss: 0.6003 - val_accuracy: 0.6857\n",
            "Epoch 25/100\n",
            "1334/1334 [==============================] - 13s 10ms/step - loss: 0.4685 - accuracy: 0.7583 - val_loss: 0.6036 - val_accuracy: 0.6873\n",
            "Epoch 26/100\n",
            "1334/1334 [==============================] - 13s 10ms/step - loss: 0.4627 - accuracy: 0.7638 - val_loss: 0.6182 - val_accuracy: 0.6893\n",
            "Epoch 27/100\n",
            "1334/1334 [==============================] - 13s 10ms/step - loss: 0.4587 - accuracy: 0.7672 - val_loss: 0.6453 - val_accuracy: 0.6844\n",
            "Epoch 28/100\n",
            "1334/1334 [==============================] - 13s 10ms/step - loss: 0.4497 - accuracy: 0.7699 - val_loss: 0.6531 - val_accuracy: 0.6809\n",
            "Epoch 29/100\n",
            "1334/1334 [==============================] - 13s 10ms/step - loss: 0.4449 - accuracy: 0.7768 - val_loss: 0.6504 - val_accuracy: 0.6821\n",
            "Epoch 30/100\n",
            "1334/1334 [==============================] - 13s 10ms/step - loss: 0.4333 - accuracy: 0.7795 - val_loss: 0.6435 - val_accuracy: 0.6796\n",
            "Epoch 31/100\n",
            "1334/1334 [==============================] - 13s 10ms/step - loss: 0.4480 - accuracy: 0.7768 - val_loss: 0.6464 - val_accuracy: 0.6752\n",
            "Epoch 32/100\n",
            "1334/1334 [==============================] - 13s 10ms/step - loss: 0.4279 - accuracy: 0.7836 - val_loss: 0.6815 - val_accuracy: 0.6789\n",
            "Epoch 33/100\n",
            "1334/1334 [==============================] - 13s 10ms/step - loss: 0.4185 - accuracy: 0.7870 - val_loss: 0.6700 - val_accuracy: 0.6737\n",
            "Epoch 34/100\n",
            "1334/1334 [==============================] - 13s 10ms/step - loss: 0.4088 - accuracy: 0.7970 - val_loss: 0.7034 - val_accuracy: 0.6747\n",
            "Epoch 35/100\n",
            "1334/1334 [==============================] - 14s 10ms/step - loss: 0.4134 - accuracy: 0.7937 - val_loss: 0.6800 - val_accuracy: 0.6751\n",
            "Epoch 36/100\n",
            "1334/1334 [==============================] - 13s 10ms/step - loss: 0.4004 - accuracy: 0.7984 - val_loss: 0.7203 - val_accuracy: 0.6677\n",
            "Epoch 37/100\n",
            "1334/1334 [==============================] - 13s 10ms/step - loss: 0.3998 - accuracy: 0.8004 - val_loss: 0.7231 - val_accuracy: 0.6709\n",
            "Epoch 38/100\n",
            "1334/1334 [==============================] - 13s 10ms/step - loss: 0.3873 - accuracy: 0.8083 - val_loss: 0.7198 - val_accuracy: 0.6729\n",
            "Epoch 39/100\n",
            "1334/1334 [==============================] - 13s 10ms/step - loss: 0.3713 - accuracy: 0.8211 - val_loss: 0.7454 - val_accuracy: 0.6686\n",
            "Epoch 40/100\n",
            "1334/1334 [==============================] - 14s 10ms/step - loss: 0.3747 - accuracy: 0.8163 - val_loss: 0.7772 - val_accuracy: 0.6714\n",
            "Epoch 41/100\n",
            "1334/1334 [==============================] - 14s 10ms/step - loss: 0.4019 - accuracy: 0.8025 - val_loss: 0.7286 - val_accuracy: 0.6667\n",
            "Epoch 42/100\n",
            "1334/1334 [==============================] - 13s 10ms/step - loss: 0.3752 - accuracy: 0.8189 - val_loss: 0.7495 - val_accuracy: 0.6699\n",
            "Epoch 43/100\n",
            "1334/1334 [==============================] - 13s 10ms/step - loss: 0.3548 - accuracy: 0.8272 - val_loss: 0.7610 - val_accuracy: 0.6609\n",
            "Epoch 44/100\n",
            "1334/1334 [==============================] - 13s 10ms/step - loss: 0.3514 - accuracy: 0.8313 - val_loss: 0.8302 - val_accuracy: 0.6667\n",
            "Epoch 45/100\n",
            "1334/1334 [==============================] - 13s 10ms/step - loss: 0.3676 - accuracy: 0.8214 - val_loss: 0.8365 - val_accuracy: 0.6628\n",
            "Epoch 46/100\n",
            "1334/1334 [==============================] - 13s 10ms/step - loss: 0.3554 - accuracy: 0.8306 - val_loss: 0.8332 - val_accuracy: 0.6667\n",
            "Epoch 47/100\n",
            "1334/1334 [==============================] - 14s 10ms/step - loss: 0.3279 - accuracy: 0.8423 - val_loss: 0.8560 - val_accuracy: 0.6649\n",
            "Epoch 48/100\n",
            "1334/1334 [==============================] - 13s 10ms/step - loss: 0.3267 - accuracy: 0.8423 - val_loss: 0.8999 - val_accuracy: 0.6662\n",
            "Epoch 49/100\n",
            "1334/1334 [==============================] - 13s 10ms/step - loss: 0.3293 - accuracy: 0.8424 - val_loss: 0.9073 - val_accuracy: 0.6601\n",
            "Epoch 50/100\n",
            "1334/1334 [==============================] - 13s 10ms/step - loss: 0.3166 - accuracy: 0.8498 - val_loss: 0.9153 - val_accuracy: 0.6627\n",
            "Epoch 51/100\n",
            "1334/1334 [==============================] - 13s 10ms/step - loss: 0.3115 - accuracy: 0.8553 - val_loss: 0.8943 - val_accuracy: 0.6605\n",
            "Epoch 52/100\n",
            "1334/1334 [==============================] - 13s 10ms/step - loss: 0.2991 - accuracy: 0.8585 - val_loss: 0.9055 - val_accuracy: 0.6552\n",
            "Epoch 53/100\n",
            "1334/1334 [==============================] - 14s 10ms/step - loss: 0.2961 - accuracy: 0.8627 - val_loss: 0.8137 - val_accuracy: 0.6528\n",
            "Epoch 54/100\n",
            "1334/1334 [==============================] - 13s 10ms/step - loss: 0.3270 - accuracy: 0.8489 - val_loss: 0.8777 - val_accuracy: 0.6525\n",
            "Epoch 55/100\n",
            "1334/1334 [==============================] - 13s 10ms/step - loss: 0.2965 - accuracy: 0.8642 - val_loss: 0.9716 - val_accuracy: 0.6612\n",
            "Epoch 56/100\n",
            "1334/1334 [==============================] - 13s 10ms/step - loss: 0.2677 - accuracy: 0.8790 - val_loss: 0.9721 - val_accuracy: 0.6591\n",
            "Epoch 57/100\n",
            "1334/1334 [==============================] - 13s 10ms/step - loss: 0.2698 - accuracy: 0.8793 - val_loss: 0.9819 - val_accuracy: 0.6565\n",
            "Epoch 58/100\n",
            "1334/1334 [==============================] - 14s 10ms/step - loss: 0.2760 - accuracy: 0.8753 - val_loss: 1.0159 - val_accuracy: 0.6598\n",
            "Epoch 59/100\n",
            "1334/1334 [==============================] - 14s 10ms/step - loss: 0.2665 - accuracy: 0.8789 - val_loss: 0.9895 - val_accuracy: 0.6581\n",
            "Epoch 60/100\n",
            "1334/1334 [==============================] - 13s 10ms/step - loss: 0.2565 - accuracy: 0.8879 - val_loss: 1.0842 - val_accuracy: 0.6506\n",
            "Epoch 61/100\n",
            "1334/1334 [==============================] - 13s 10ms/step - loss: 0.2570 - accuracy: 0.8834 - val_loss: 1.0274 - val_accuracy: 0.6544\n",
            "Epoch 62/100\n",
            "1334/1334 [==============================] - 14s 10ms/step - loss: 0.2423 - accuracy: 0.8923 - val_loss: 1.0503 - val_accuracy: 0.6596\n",
            "Epoch 63/100\n",
            "1334/1334 [==============================] - 14s 10ms/step - loss: 0.2454 - accuracy: 0.8915 - val_loss: 1.1052 - val_accuracy: 0.6514\n",
            "Epoch 64/100\n",
            "1334/1334 [==============================] - 14s 10ms/step - loss: 0.2436 - accuracy: 0.8916 - val_loss: 1.0813 - val_accuracy: 0.6529\n",
            "Epoch 65/100\n",
            "1334/1334 [==============================] - 16s 12ms/step - loss: 0.2319 - accuracy: 0.8973 - val_loss: 1.1186 - val_accuracy: 0.6531\n",
            "Epoch 66/100\n",
            "1334/1334 [==============================] - 14s 10ms/step - loss: 0.2578 - accuracy: 0.8868 - val_loss: 1.0338 - val_accuracy: 0.6611\n",
            "Epoch 67/100\n",
            "1334/1334 [==============================] - 14s 10ms/step - loss: 0.2419 - accuracy: 0.8970 - val_loss: 1.0235 - val_accuracy: 0.6511\n",
            "Epoch 68/100\n",
            "1334/1334 [==============================] - 14s 10ms/step - loss: 0.2207 - accuracy: 0.9047 - val_loss: 1.0634 - val_accuracy: 0.6521\n",
            "Epoch 69/100\n",
            "1334/1334 [==============================] - 14s 10ms/step - loss: 0.2090 - accuracy: 0.9097 - val_loss: 1.1309 - val_accuracy: 0.6508\n",
            "Epoch 70/100\n",
            "1334/1334 [==============================] - 14s 10ms/step - loss: 0.2146 - accuracy: 0.9052 - val_loss: 1.1683 - val_accuracy: 0.6542\n",
            "Epoch 71/100\n",
            "1334/1334 [==============================] - 14s 10ms/step - loss: 0.2193 - accuracy: 0.9083 - val_loss: 1.1234 - val_accuracy: 0.6493\n",
            "Epoch 72/100\n",
            "1334/1334 [==============================] - 14s 10ms/step - loss: 0.2104 - accuracy: 0.9108 - val_loss: 1.1416 - val_accuracy: 0.6475\n",
            "Epoch 73/100\n",
            "1334/1334 [==============================] - 14s 10ms/step - loss: 0.1980 - accuracy: 0.9184 - val_loss: 1.1714 - val_accuracy: 0.6516\n",
            "Epoch 74/100\n",
            "1334/1334 [==============================] - 14s 10ms/step - loss: 0.1999 - accuracy: 0.9159 - val_loss: 1.1341 - val_accuracy: 0.6512\n",
            "Epoch 75/100\n",
            "1334/1334 [==============================] - 14s 10ms/step - loss: 0.2098 - accuracy: 0.9126 - val_loss: 1.2169 - val_accuracy: 0.6548\n",
            "Epoch 76/100\n",
            "1334/1334 [==============================] - 14s 10ms/step - loss: 0.1930 - accuracy: 0.9208 - val_loss: 1.1563 - val_accuracy: 0.6558\n",
            "Epoch 77/100\n",
            "1334/1334 [==============================] - 14s 10ms/step - loss: 0.1895 - accuracy: 0.9216 - val_loss: 1.1223 - val_accuracy: 0.6504\n",
            "Epoch 78/100\n",
            "1334/1334 [==============================] - 14s 10ms/step - loss: 0.1942 - accuracy: 0.9199 - val_loss: 1.2038 - val_accuracy: 0.6491\n",
            "Epoch 79/100\n",
            "1334/1334 [==============================] - 14s 10ms/step - loss: 0.1798 - accuracy: 0.9250 - val_loss: 1.1687 - val_accuracy: 0.6489\n",
            "Epoch 80/100\n",
            "1334/1334 [==============================] - 14s 10ms/step - loss: 0.1932 - accuracy: 0.9226 - val_loss: 1.0334 - val_accuracy: 0.6526\n",
            "Epoch 81/100\n",
            "1334/1334 [==============================] - 14s 10ms/step - loss: 0.1896 - accuracy: 0.9218 - val_loss: 1.2736 - val_accuracy: 0.6573\n",
            "Epoch 82/100\n",
            "1334/1334 [==============================] - 14s 10ms/step - loss: 0.1789 - accuracy: 0.9268 - val_loss: 1.2839 - val_accuracy: 0.6505\n",
            "Epoch 83/100\n",
            "1334/1334 [==============================] - 14s 11ms/step - loss: 0.1668 - accuracy: 0.9337 - val_loss: 1.2412 - val_accuracy: 0.6424\n",
            "Epoch 84/100\n",
            "1334/1334 [==============================] - 14s 11ms/step - loss: 0.1901 - accuracy: 0.9236 - val_loss: 1.1790 - val_accuracy: 0.6475\n",
            "Epoch 85/100\n",
            "1334/1334 [==============================] - 14s 10ms/step - loss: 0.1714 - accuracy: 0.9320 - val_loss: 1.2684 - val_accuracy: 0.6530\n",
            "Epoch 86/100\n",
            "1334/1334 [==============================] - 14s 10ms/step - loss: 0.1643 - accuracy: 0.9343 - val_loss: 1.2765 - val_accuracy: 0.6491\n",
            "Epoch 87/100\n",
            "1334/1334 [==============================] - 14s 10ms/step - loss: 0.1657 - accuracy: 0.9342 - val_loss: 1.2987 - val_accuracy: 0.6519\n",
            "Epoch 88/100\n",
            "1334/1334 [==============================] - 14s 10ms/step - loss: 0.1524 - accuracy: 0.9410 - val_loss: 1.2885 - val_accuracy: 0.6521\n",
            "Epoch 89/100\n",
            "1334/1334 [==============================] - 14s 10ms/step - loss: 0.1735 - accuracy: 0.9308 - val_loss: 1.2470 - val_accuracy: 0.6508\n",
            "Epoch 90/100\n",
            "1334/1334 [==============================] - 14s 10ms/step - loss: 0.1529 - accuracy: 0.9392 - val_loss: 1.4486 - val_accuracy: 0.6530\n",
            "Epoch 91/100\n",
            "1334/1334 [==============================] - 14s 10ms/step - loss: 0.1610 - accuracy: 0.9350 - val_loss: 1.3013 - val_accuracy: 0.6515\n",
            "Epoch 92/100\n",
            "1334/1334 [==============================] - 14s 10ms/step - loss: 0.1447 - accuracy: 0.9444 - val_loss: 1.2245 - val_accuracy: 0.6562\n",
            "Epoch 93/100\n",
            "1334/1334 [==============================] - 14s 10ms/step - loss: 0.1436 - accuracy: 0.9439 - val_loss: 1.3769 - val_accuracy: 0.6560\n",
            "Epoch 94/100\n",
            "1334/1334 [==============================] - 14s 10ms/step - loss: 0.1479 - accuracy: 0.9422 - val_loss: 1.3237 - val_accuracy: 0.6514\n",
            "Epoch 95/100\n",
            "1334/1334 [==============================] - 14s 10ms/step - loss: 0.1441 - accuracy: 0.9438 - val_loss: 1.3618 - val_accuracy: 0.6486\n",
            "Epoch 96/100\n",
            "1334/1334 [==============================] - 14s 10ms/step - loss: 0.1460 - accuracy: 0.9421 - val_loss: 1.3055 - val_accuracy: 0.6454\n",
            "Epoch 97/100\n",
            "1334/1334 [==============================] - 14s 10ms/step - loss: 0.1377 - accuracy: 0.9462 - val_loss: 1.3703 - val_accuracy: 0.6473\n",
            "Epoch 98/100\n",
            "1334/1334 [==============================] - 14s 10ms/step - loss: 0.1312 - accuracy: 0.9485 - val_loss: 1.3427 - val_accuracy: 0.6526\n",
            "Epoch 99/100\n",
            "1334/1334 [==============================] - 14s 10ms/step - loss: 0.1436 - accuracy: 0.9452 - val_loss: 1.3732 - val_accuracy: 0.6513\n",
            "Epoch 100/100\n",
            "1334/1334 [==============================] - 14s 10ms/step - loss: 0.1416 - accuracy: 0.9447 - val_loss: 1.3455 - val_accuracy: 0.6478\n",
            "Fold 3, 100 epochs, 1404 sec\n"
          ],
          "name": "stdout"
        },
        {
          "output_type": "display_data",
          "data": {
            "image/png": "[encoded data removed]",
            "text/plain": [
              "<Figure size 576x360 with 1 Axes>"
            ]
          },
          "metadata": {
            "tags": [],
            "needs_background": "light"
          }
        }
      ]
    },
    {
      "cell_type": "code",
      "metadata": {
        "colab": {
          "base_uri": "https://localhost:8080/"
        },
        "id": "e-jG1h5fj2Ua",
        "outputId": "1cc57138-42d6-4476-dc68-4a8c6ad8df1e"
      },
      "source": [
        "from keras.models import load_model\n",
        "X,y = prepare_inputs_len_x_alphabet(pc_test,nc_test,ALPHABET)\n",
        "best_model=load_model(MODELPATH)\n",
        "scores = best_model.evaluate(X, y, verbose=0)\n",
        "print(\"The best model parameters were saved during cross-validation.\")\n",
        "print(\"Best was defined as maximum validation accuracy at end of any epoch.\")\n",
        "print(\"Now re-load the best model and test it on previously unseen data.\")\n",
        "print(\"Test on\",len(pc_test),\"PC seqs\")\n",
        "print(\"Test on\",len(nc_test),\"NC seqs\")\n",
        "print(\"%s: %.2f%%\" % (best_model.metrics_names[1], scores[1]*100))\n"
      ],
      "execution_count": 26,
      "outputs": [
        {
          "output_type": "stream",
          "text": [
            "The best model parameters were saved during cross-validation.\n",
            "Best was defined as maximum validation accuracy at end of any epoch.\n",
            "Now re-load the best model and test it on previously unseen data.\n",
            "Test on 1000 PC seqs\n",
            "Test on 1000 NC seqs\n",
            "accuracy: 68.30%\n"
          ],
          "name": "stdout"
        }
      ]
    },
    {
      "cell_type": "code",
      "metadata": {
        "colab": {
          "base_uri": "https://localhost:8080/",
          "height": 312
        },
        "id": "VycUnmvUj2Ue",
        "outputId": "6093ee1a-fdc5-4f10-cb49-4a2787d90b56"
      },
      "source": [
        "from sklearn.metrics import roc_curve\n",
        "from sklearn.metrics import roc_auc_score\n",
        "ns_probs = [0 for _ in range(len(y))]\n",
        "bm_probs = best_model.predict(X)\n",
        "ns_auc = roc_auc_score(y, ns_probs)\n",
        "bm_auc = roc_auc_score(y, bm_probs)\n",
        "ns_fpr, ns_tpr, _ = roc_curve(y, ns_probs)\n",
        "bm_fpr, bm_tpr, _ = roc_curve(y, bm_probs)\n",
        "plt.plot(ns_fpr, ns_tpr, linestyle='--', label='Guess, auc=%.4f'%ns_auc)\n",
        "plt.plot(bm_fpr, bm_tpr, marker='.', label='Model, auc=%.4f'%bm_auc)\n",
        "plt.title('ROC')\n",
        "plt.xlabel('False Positive Rate')\n",
        "plt.ylabel('True Positive Rate')\n",
        "plt.legend()\n",
        "plt.show()\n",
        "print(\"%s: %.2f%%\" %('AUC',bm_auc*100.0))\n"
      ],
      "execution_count": 27,
      "outputs": [
        {
          "output_type": "display_data",
          "data": {
            "image/png": "[encoded data removed]",
            "text/plain": [
              "<Figure size 432x288 with 1 Axes>"
            ]
          },
          "metadata": {
            "tags": [],
            "needs_background": "light"
          }
        },
        {
          "output_type": "stream",
          "text": [
            "AUC: 76.83%\n"
          ],
          "name": "stdout"
        }
      ]
    },
    {
      "cell_type": "code",
      "metadata": {
        "colab": {
          "base_uri": "https://localhost:8080/",
          "height": 36
        },
        "id": "kFMb6rGNj2Ug",
        "outputId": "74e6b849-ffa3-4edb-bed7-397f4a60d343"
      },
      "source": [
        "t = time.time()\n",
        "time.strftime('%Y-%m-%d %H:%M:%S %Z', time.localtime(t))"
      ],
      "execution_count": 28,
      "outputs": [
        {
          "output_type": "execute_result",
          "data": {
            "application/vnd.google.colaboratory.intrinsic+json": {
              "type": "string"
            },
            "text/plain": [
              "'2021-06-22 14:09:44 UTC'"
            ]
          },
          "metadata": {
            "tags": []
          },
          "execution_count": 28
        }
      ]
    },
    {
      "cell_type": "code",
      "metadata": {
        "id": "e-mEgDrQjUzF"
      },
      "source": [
        ""
      ],
      "execution_count": 28,
      "outputs": []
    }
  ]
}