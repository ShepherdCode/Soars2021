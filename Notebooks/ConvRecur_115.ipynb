{
  "nbformat": 4,
  "nbformat_minor": 0,
  "metadata": {
    "accelerator": "GPU",
    "colab": {
      "name": "ConvRecur_115.ipynb",
      "provenance": [],
      "collapsed_sections": []
    },
    "kernelspec": {
      "display_name": "Python 3",
      "language": "python",
      "name": "python3"
    },
    "language_info": {
      "codemirror_mode": {
        "name": "ipython",
        "version": 3
      },
      "file_extension": ".py",
      "mimetype": "text/x-python",
      "name": "python",
      "nbconvert_exporter": "python",
      "pygments_lexer": "ipython3",
      "version": "3.8.3"
    }
  },
  "cells": [
    {
      "cell_type": "markdown",
      "metadata": {
        "id": "0asdcdunj2Tx"
      },
      "source": [
        "# ORF recognition by Convolutional/Recurrent\n",
        "\n",
        "So far CNN+LSTM 64 overfits the 128 base RNA problem.\n",
        "That was using 32K samples/class. Here, try more samples. \n",
        "\n",
        "Also, build the model without specifying INPUT_SIZE.\n",
        "\n"
      ]
    },
    {
      "cell_type": "code",
      "metadata": {
        "colab": {
          "base_uri": "https://localhost:8080/",
          "height": 36
        },
        "id": "QP1VTRNQj2UO",
        "outputId": "c5201148-88e6-4fef-94da-4db07e97d616"
      },
      "source": [
        "import time \n",
        "t = time.time()\n",
        "time.strftime('%Y-%m-%d %H:%M:%S %Z', time.localtime(t))"
      ],
      "execution_count": 1,
      "outputs": [
        {
          "output_type": "execute_result",
          "data": {
            "application/vnd.google.colaboratory.intrinsic+json": {
              "type": "string"
            },
            "text/plain": [
              "'2021-06-27 12:43:37 UTC'"
            ]
          },
          "metadata": {
            "tags": []
          },
          "execution_count": 1
        }
      ]
    },
    {
      "cell_type": "code",
      "metadata": {
        "id": "Nhz4GKonj2T_"
      },
      "source": [
        "PC_SEQUENCES=64000   # how many protein-coding sequences\n",
        "NC_SEQUENCES=64000   # how many non-coding sequences\n",
        "PC_TESTS=1000\n",
        "NC_TESTS=1000\n",
        "RNA_LEN=128            # how long is each sequence\n",
        "CDS_LEN=64            # min CDS len to be coding\n",
        "ALPHABET=4          # how many different letters are possible\n",
        "INPUT_SHAPE_2D = (RNA_LEN,ALPHABET,1) # Conv2D needs 3D inputs\n",
        "INPUT_SHAPE = (RNA_LEN,ALPHABET) # Conv1D needs 2D inputs\n",
        "FILTERS = 64   # how many different patterns the model looks for\n",
        "CELLS = 64\n",
        "NEURONS = 64\n",
        "DROP_RATE = 0.4\n",
        "WIDTH = 3   # how wide each pattern is, in bases\n",
        "STRIDE_2D = (1,1)  # For Conv2D how far in each direction\n",
        "STRIDE = 1 # For Conv1D, how far between pattern matches, in bases\n",
        "EPOCHS=100  # how many times to train on all the data\n",
        "SPLITS=3  # SPLITS=3 means train on 2/3 and validate on 1/3 \n",
        "FOLDS=3  # train the model this many times (range 1 to SPLITS)"
      ],
      "execution_count": 2,
      "outputs": []
    },
    {
      "cell_type": "code",
      "metadata": {
        "colab": {
          "base_uri": "https://localhost:8080/"
        },
        "id": "lr7q90rxj2UE",
        "outputId": "feec9c41-5e31-4b9c-d7bf-b15edfb25201"
      },
      "source": [
        "import sys\n",
        "IN_COLAB = False\n",
        "try:\n",
        "    from google.colab import drive\n",
        "    IN_COLAB = True\n",
        "except:\n",
        "    pass\n",
        "if IN_COLAB:\n",
        "    print(\"On Google CoLab, mount cloud-local file, get our code from GitHub.\")\n",
        "    PATH='/content/drive/'\n",
        "    #drive.mount(PATH,force_remount=True)  # hardly ever need this\n",
        "    #drive.mount(PATH)    # Google will require login credentials\n",
        "    DATAPATH=PATH+'My Drive/data/'  # must end in \"/\"\n",
        "    import requests\n",
        "    r = requests.get('https://raw.githubusercontent.com/ShepherdCode/Soars2021/master/SimTools/RNA_describe.py')\n",
        "    with open('RNA_describe.py', 'w') as f:\n",
        "        f.write(r.text)  \n",
        "    from RNA_describe import ORF_counter\n",
        "    from RNA_describe import Random_Base_Oracle\n",
        "    r = requests.get('https://raw.githubusercontent.com/ShepherdCode/Soars2021/master/SimTools/RNA_prep.py')\n",
        "    with open('RNA_prep.py', 'w') as f:\n",
        "        f.write(r.text)  \n",
        "    from RNA_prep import prepare_inputs_len_x_alphabet\n",
        "else:\n",
        "        print(\"CoLab not working. On my PC, use relative paths.\")\n",
        "        DATAPATH='data/'  # must end in \"/\"\n",
        "        sys.path.append(\"..\") # append parent dir in order to use sibling dirs\n",
        "        from SimTools.RNA_describe import ORF_counter,Random_Base_Oracle\n",
        "        from SimTools.RNA_prep import prepare_inputs_len_x_alphabet\n",
        "\n",
        "MODELPATH=\"BestModel\"  # saved on cloud instance and lost after logout\n",
        "#MODELPATH=DATAPATH+MODELPATH  # saved on Google Drive but requires login\n"
      ],
      "execution_count": 3,
      "outputs": [
        {
          "output_type": "stream",
          "text": [
            "On Google CoLab, mount cloud-local file, get our code from GitHub.\n"
          ],
          "name": "stdout"
        }
      ]
    },
    {
      "cell_type": "code",
      "metadata": {
        "id": "EGDXH8Uwj2UM"
      },
      "source": [
        "from os import listdir\n",
        "import csv\n",
        "from zipfile import ZipFile\n",
        "\n",
        "import numpy as np\n",
        "import pandas as pd\n",
        "from scipy import stats  # mode\n",
        "\n",
        "from sklearn.preprocessing import StandardScaler\n",
        "from sklearn.model_selection import KFold\n",
        "from sklearn.model_selection import cross_val_score\n",
        "\n",
        "from keras.models import Sequential\n",
        "from keras.layers import Dense,Embedding,Dropout\n",
        "from keras.layers import Conv1D,Conv2D\n",
        "from keras.layers import GRU,LSTM\n",
        "from keras.layers import Flatten,TimeDistributed\n",
        "from keras.layers import MaxPooling1D,MaxPooling2D\n",
        "from keras.losses import BinaryCrossentropy\n",
        "# tf.keras.losses.BinaryCrossentropy\n",
        "\n",
        "import matplotlib.pyplot as plt\n",
        "from matplotlib import colors\n",
        "mycmap = colors.ListedColormap(['red','blue'])  # list color for label 0 then 1\n",
        "np.set_printoptions(precision=2)\n"
      ],
      "execution_count": 4,
      "outputs": []
    },
    {
      "cell_type": "code",
      "metadata": {
        "colab": {
          "base_uri": "https://localhost:8080/"
        },
        "id": "CUOG_jEvGtOm",
        "outputId": "1c846a85-3a90-4e2b-df7f-8fdf23737920"
      },
      "source": [
        "rbo=Random_Base_Oracle(RNA_LEN,True)\n",
        "pc_all,nc_all = rbo.get_partitioned_sequences(CDS_LEN,10) # just testing\n",
        "pc_all,nc_all = rbo.get_partitioned_sequences(CDS_LEN,PC_SEQUENCES+PC_TESTS)\n",
        "print(\"Use\",len(pc_all),\"PC seqs\")\n",
        "print(\"Use\",len(nc_all),\"NC seqs\")"
      ],
      "execution_count": 5,
      "outputs": [
        {
          "output_type": "stream",
          "text": [
            "It took 30 trials to reach 10 per class.\n",
            "It took 257005 trials to reach 65000 per class.\n",
            "Use 65000 PC seqs\n",
            "Use 65000 NC seqs\n"
          ],
          "name": "stdout"
        }
      ]
    },
    {
      "cell_type": "code",
      "metadata": {
        "colab": {
          "base_uri": "https://localhost:8080/"
        },
        "id": "Q-BmSXi2jUyl",
        "outputId": "48be5223-9b00-4633-fa1d-36be4568aa67"
      },
      "source": [
        "# Describe the sequences\n",
        "def describe_sequences(list_of_seq):\n",
        "    oc = ORF_counter()\n",
        "    num_seq = len(list_of_seq)\n",
        "    rna_lens = np.zeros(num_seq)\n",
        "    orf_lens = np.zeros(num_seq)\n",
        "    for i in range(0,num_seq):\n",
        "        rna_len = len(list_of_seq[i])\n",
        "        rna_lens[i] = rna_len\n",
        "        oc.set_sequence(list_of_seq[i])\n",
        "        orf_len = oc.get_max_orf_len()\n",
        "        orf_lens[i] = orf_len\n",
        "    print (\"Average RNA length:\",rna_lens.mean())\n",
        "    print (\"Average ORF length:\",orf_lens.mean())\n",
        "    \n",
        "print(\"Simulated sequences prior to adjustment:\")\n",
        "print(\"PC seqs\")\n",
        "describe_sequences(pc_all)\n",
        "print(\"NC seqs\")\n",
        "describe_sequences(nc_all)"
      ],
      "execution_count": 6,
      "outputs": [
        {
          "output_type": "stream",
          "text": [
            "Simulated sequences prior to adjustment:\n",
            "PC seqs\n",
            "Average RNA length: 128.0\n",
            "Average ORF length: 81.15110769230769\n",
            "NC seqs\n",
            "Average RNA length: 128.0\n",
            "Average ORF length: 28.95083076923077\n"
          ],
          "name": "stdout"
        }
      ]
    },
    {
      "cell_type": "code",
      "metadata": {
        "id": "iP1y7-J3jUys"
      },
      "source": [
        "pc_train=pc_all[:PC_SEQUENCES]\n",
        "nc_train=nc_all[:NC_SEQUENCES]\n",
        "pc_test=pc_all[PC_SEQUENCES:]\n",
        "nc_test=nc_all[NC_SEQUENCES:]"
      ],
      "execution_count": 7,
      "outputs": []
    },
    {
      "cell_type": "code",
      "metadata": {
        "colab": {
          "base_uri": "https://localhost:8080/"
        },
        "id": "CIpTrnH6j2US",
        "outputId": "0f8f0840-e43f-4eba-8e49-434400d04a38"
      },
      "source": [
        "# Use code from our SimTools library.\n",
        "X,y = prepare_inputs_len_x_alphabet(pc_train,nc_train,ALPHABET) # shuffles\n",
        "print(\"Data ready.\")"
      ],
      "execution_count": 8,
      "outputs": [
        {
          "output_type": "stream",
          "text": [
            "Data ready.\n"
          ],
          "name": "stdout"
        }
      ]
    },
    {
      "cell_type": "code",
      "metadata": {
        "colab": {
          "base_uri": "https://localhost:8080/"
        },
        "id": "7NvrVU8ij2UU",
        "outputId": "dd06227a-fb5f-4ca9-d4f7-8d78ccd7a4f1"
      },
      "source": [
        "def make_DNN():\n",
        "    print(\"make_DNN\")\n",
        "    print(\"input shape:\",INPUT_SHAPE)\n",
        "    dnn = Sequential()\n",
        "    #dnn.add(Embedding(input_dim=INPUT_SHAPE,output_dim=INPUT_SHAPE)) \n",
        "    dnn.add(Conv1D(filters=FILTERS,kernel_size=WIDTH,strides=STRIDE,padding=\"same\",\n",
        "            input_shape=INPUT_SHAPE))\n",
        "    dnn.add(Conv1D(filters=FILTERS,kernel_size=WIDTH,strides=STRIDE,padding=\"same\"))\n",
        "    dnn.add(MaxPooling1D())\n",
        "    #dnn.add(Conv1D(filters=FILTERS,kernel_size=WIDTH,strides=STRIDE,padding=\"same\"))\n",
        "    #dnn.add(Conv1D(filters=FILTERS,kernel_size=WIDTH,strides=STRIDE,padding=\"same\"))\n",
        "    #dnn.add(MaxPooling1D())\n",
        "    #dnn.add(TimeDistributed(Flatten()))\n",
        "    dnn.add(LSTM(CELLS,return_sequences=True))\n",
        "    dnn.add(LSTM(CELLS,return_sequences=False))\n",
        "    dnn.add(Dense(NEURONS,activation=\"sigmoid\",dtype=np.float32))   \n",
        "    dnn.add(Dropout(DROP_RATE))\n",
        "    dnn.add(Dense(1,activation=\"sigmoid\",dtype=np.float32))   \n",
        "    dnn.compile(optimizer='adam',\n",
        "                loss=BinaryCrossentropy(from_logits=False),\n",
        "                metrics=['accuracy'])   # add to default metrics=loss\n",
        "    #dnn.build(input_shape=INPUT_SHAPE)   \n",
        "    dnn.build()   \n",
        "    #ln_rate = tf.keras.optimizers.Adam(learning_rate = LN_RATE)\n",
        "    #bc=tf.keras.losses.BinaryCrossentropy(from_logits=False)\n",
        "    #model.compile(loss=bc, optimizer=ln_rate, metrics=[\"accuracy\"])\n",
        "    return dnn\n",
        "model = make_DNN()\n",
        "print(model.summary())"
      ],
      "execution_count": 9,
      "outputs": [
        {
          "output_type": "stream",
          "text": [
            "make_DNN\n",
            "input shape: (128, 4)\n",
            "Model: \"sequential\"\n",
            "_________________________________________________________________\n",
            "Layer (type)                 Output Shape              Param #   \n",
            "=================================================================\n",
            "conv1d (Conv1D)              (None, 128, 64)           832       \n",
            "_________________________________________________________________\n",
            "conv1d_1 (Conv1D)            (None, 128, 64)           12352     \n",
            "_________________________________________________________________\n",
            "max_pooling1d (MaxPooling1D) (None, 64, 64)            0         \n",
            "_________________________________________________________________\n",
            "lstm (LSTM)                  (None, 64, 64)            33024     \n",
            "_________________________________________________________________\n",
            "lstm_1 (LSTM)                (None, 64)                33024     \n",
            "_________________________________________________________________\n",
            "dense (Dense)                (None, 64)                4160      \n",
            "_________________________________________________________________\n",
            "dropout (Dropout)            (None, 64)                0         \n",
            "_________________________________________________________________\n",
            "dense_1 (Dense)              (None, 1)                 65        \n",
            "=================================================================\n",
            "Total params: 83,457\n",
            "Trainable params: 83,457\n",
            "Non-trainable params: 0\n",
            "_________________________________________________________________\n",
            "None\n"
          ],
          "name": "stdout"
        }
      ]
    },
    {
      "cell_type": "code",
      "metadata": {
        "id": "nlVF0hR3j2UW"
      },
      "source": [
        "from keras.callbacks import ModelCheckpoint\n",
        "def do_cross_validation(X,y):\n",
        "    cv_scores = []\n",
        "    fold=0\n",
        "    mycallbacks = [ModelCheckpoint(\n",
        "        filepath=MODELPATH, save_best_only=True, \n",
        "        monitor='val_accuracy', mode='max')]   \n",
        "    splitter = KFold(n_splits=SPLITS)  # this does not shuffle\n",
        "    for train_index,valid_index in splitter.split(X):\n",
        "        if fold < FOLDS:\n",
        "            fold += 1\n",
        "            X_train=X[train_index] # inputs for training\n",
        "            y_train=y[train_index] # labels for training\n",
        "            X_valid=X[valid_index] # inputs for validation\n",
        "            y_valid=y[valid_index] # labels for validation\n",
        "            print(\"MODEL\")\n",
        "            # Call constructor on each CV. Else, continually improves the same model.\n",
        "            model = model = make_DNN()\n",
        "            print(\"FIT\")  # model.fit() implements learning\n",
        "            start_time=time.time()\n",
        "            history=model.fit(X_train, y_train, \n",
        "                    epochs=EPOCHS, \n",
        "                    verbose=1,  # ascii art while learning\n",
        "                    callbacks=mycallbacks,   # called at end of each epoch\n",
        "                    validation_data=(X_valid,y_valid))\n",
        "            end_time=time.time()\n",
        "            elapsed_time=(end_time-start_time)                        \n",
        "            print(\"Fold %d, %d epochs, %d sec\"%(fold,EPOCHS,elapsed_time))\n",
        "            # print(history.history.keys())  # all these keys will be shown in figure\n",
        "            pd.DataFrame(history.history).plot(figsize=(8,5))\n",
        "            plt.grid(True)\n",
        "            plt.gca().set_ylim(0,1) # any losses > 1 will be off the scale\n",
        "            plt.show()\n"
      ],
      "execution_count": 10,
      "outputs": []
    },
    {
      "cell_type": "code",
      "metadata": {
        "colab": {
          "base_uri": "https://localhost:8080/",
          "height": 1000
        },
        "id": "9Ggt4EsSj2UY",
        "outputId": "f3bf902c-1e8d-4e21-9dec-cfa9ce3ce4c0"
      },
      "source": [
        "do_cross_validation(X,y)"
      ],
      "execution_count": 11,
      "outputs": [
        {
          "output_type": "stream",
          "text": [
            "MODEL\n",
            "make_DNN\n",
            "input shape: (128, 4)\n",
            "FIT\n",
            "Epoch 1/100\n",
            "2667/2667 [==============================] - 59s 10ms/step - loss: 0.6956 - accuracy: 0.5231 - val_loss: 0.6323 - val_accuracy: 0.6426\n"
          ],
          "name": "stdout"
        },
        {
          "output_type": "stream",
          "text": [
            "WARNING:absl:Found untraced functions such as lstm_cell_2_layer_call_fn, lstm_cell_2_layer_call_and_return_conditional_losses, lstm_cell_3_layer_call_fn, lstm_cell_3_layer_call_and_return_conditional_losses, lstm_cell_2_layer_call_fn while saving (showing 5 of 10). These functions will not be directly callable after loading.\n"
          ],
          "name": "stderr"
        },
        {
          "output_type": "stream",
          "text": [
            "INFO:tensorflow:Assets written to: BestModel/assets\n"
          ],
          "name": "stdout"
        },
        {
          "output_type": "stream",
          "text": [
            "INFO:tensorflow:Assets written to: BestModel/assets\n"
          ],
          "name": "stderr"
        },
        {
          "output_type": "stream",
          "text": [
            "Epoch 2/100\n",
            "2667/2667 [==============================] - 26s 10ms/step - loss: 0.6326 - accuracy: 0.6403 - val_loss: 0.5900 - val_accuracy: 0.6827\n"
          ],
          "name": "stdout"
        },
        {
          "output_type": "stream",
          "text": [
            "WARNING:absl:Found untraced functions such as lstm_cell_2_layer_call_fn, lstm_cell_2_layer_call_and_return_conditional_losses, lstm_cell_3_layer_call_fn, lstm_cell_3_layer_call_and_return_conditional_losses, lstm_cell_2_layer_call_fn while saving (showing 5 of 10). These functions will not be directly callable after loading.\n"
          ],
          "name": "stderr"
        },
        {
          "output_type": "stream",
          "text": [
            "INFO:tensorflow:Assets written to: BestModel/assets\n"
          ],
          "name": "stdout"
        },
        {
          "output_type": "stream",
          "text": [
            "INFO:tensorflow:Assets written to: BestModel/assets\n"
          ],
          "name": "stderr"
        },
        {
          "output_type": "stream",
          "text": [
            "Epoch 3/100\n",
            "2667/2667 [==============================] - 26s 10ms/step - loss: 0.5826 - accuracy: 0.6870 - val_loss: 0.5660 - val_accuracy: 0.6943\n"
          ],
          "name": "stdout"
        },
        {
          "output_type": "stream",
          "text": [
            "WARNING:absl:Found untraced functions such as lstm_cell_2_layer_call_fn, lstm_cell_2_layer_call_and_return_conditional_losses, lstm_cell_3_layer_call_fn, lstm_cell_3_layer_call_and_return_conditional_losses, lstm_cell_2_layer_call_fn while saving (showing 5 of 10). These functions will not be directly callable after loading.\n"
          ],
          "name": "stderr"
        },
        {
          "output_type": "stream",
          "text": [
            "INFO:tensorflow:Assets written to: BestModel/assets\n"
          ],
          "name": "stdout"
        },
        {
          "output_type": "stream",
          "text": [
            "INFO:tensorflow:Assets written to: BestModel/assets\n"
          ],
          "name": "stderr"
        },
        {
          "output_type": "stream",
          "text": [
            "Epoch 4/100\n",
            "2667/2667 [==============================] - 27s 10ms/step - loss: 0.5638 - accuracy: 0.6987 - val_loss: 0.5587 - val_accuracy: 0.6954\n"
          ],
          "name": "stdout"
        },
        {
          "output_type": "stream",
          "text": [
            "WARNING:absl:Found untraced functions such as lstm_cell_2_layer_call_fn, lstm_cell_2_layer_call_and_return_conditional_losses, lstm_cell_3_layer_call_fn, lstm_cell_3_layer_call_and_return_conditional_losses, lstm_cell_2_layer_call_fn while saving (showing 5 of 10). These functions will not be directly callable after loading.\n"
          ],
          "name": "stderr"
        },
        {
          "output_type": "stream",
          "text": [
            "INFO:tensorflow:Assets written to: BestModel/assets\n"
          ],
          "name": "stdout"
        },
        {
          "output_type": "stream",
          "text": [
            "INFO:tensorflow:Assets written to: BestModel/assets\n"
          ],
          "name": "stderr"
        },
        {
          "output_type": "stream",
          "text": [
            "Epoch 5/100\n",
            "2667/2667 [==============================] - 26s 10ms/step - loss: 0.5598 - accuracy: 0.7018 - val_loss: 0.5614 - val_accuracy: 0.7023\n"
          ],
          "name": "stdout"
        },
        {
          "output_type": "stream",
          "text": [
            "WARNING:absl:Found untraced functions such as lstm_cell_2_layer_call_fn, lstm_cell_2_layer_call_and_return_conditional_losses, lstm_cell_3_layer_call_fn, lstm_cell_3_layer_call_and_return_conditional_losses, lstm_cell_2_layer_call_fn while saving (showing 5 of 10). These functions will not be directly callable after loading.\n"
          ],
          "name": "stderr"
        },
        {
          "output_type": "stream",
          "text": [
            "INFO:tensorflow:Assets written to: BestModel/assets\n"
          ],
          "name": "stdout"
        },
        {
          "output_type": "stream",
          "text": [
            "INFO:tensorflow:Assets written to: BestModel/assets\n"
          ],
          "name": "stderr"
        },
        {
          "output_type": "stream",
          "text": [
            "Epoch 6/100\n",
            "2667/2667 [==============================] - 27s 10ms/step - loss: 0.5504 - accuracy: 0.7095 - val_loss: 0.5695 - val_accuracy: 0.6941\n",
            "Epoch 7/100\n",
            "2667/2667 [==============================] - 26s 10ms/step - loss: 0.5540 - accuracy: 0.7049 - val_loss: 0.5545 - val_accuracy: 0.6947\n",
            "Epoch 8/100\n",
            "2667/2667 [==============================] - 26s 10ms/step - loss: 0.5423 - accuracy: 0.7122 - val_loss: 0.5434 - val_accuracy: 0.7075\n"
          ],
          "name": "stdout"
        },
        {
          "output_type": "stream",
          "text": [
            "WARNING:absl:Found untraced functions such as lstm_cell_2_layer_call_fn, lstm_cell_2_layer_call_and_return_conditional_losses, lstm_cell_3_layer_call_fn, lstm_cell_3_layer_call_and_return_conditional_losses, lstm_cell_2_layer_call_fn while saving (showing 5 of 10). These functions will not be directly callable after loading.\n"
          ],
          "name": "stderr"
        },
        {
          "output_type": "stream",
          "text": [
            "INFO:tensorflow:Assets written to: BestModel/assets\n"
          ],
          "name": "stdout"
        },
        {
          "output_type": "stream",
          "text": [
            "INFO:tensorflow:Assets written to: BestModel/assets\n"
          ],
          "name": "stderr"
        },
        {
          "output_type": "stream",
          "text": [
            "Epoch 9/100\n",
            "2667/2667 [==============================] - 26s 10ms/step - loss: 0.5420 - accuracy: 0.7161 - val_loss: 0.5442 - val_accuracy: 0.7056\n",
            "Epoch 10/100\n",
            "2667/2667 [==============================] - 26s 10ms/step - loss: 0.5279 - accuracy: 0.7256 - val_loss: 0.6962 - val_accuracy: 0.4994\n",
            "Epoch 11/100\n",
            "2667/2667 [==============================] - 27s 10ms/step - loss: 0.6400 - accuracy: 0.6223 - val_loss: 0.4466 - val_accuracy: 0.7971\n"
          ],
          "name": "stdout"
        },
        {
          "output_type": "stream",
          "text": [
            "WARNING:absl:Found untraced functions such as lstm_cell_2_layer_call_fn, lstm_cell_2_layer_call_and_return_conditional_losses, lstm_cell_3_layer_call_fn, lstm_cell_3_layer_call_and_return_conditional_losses, lstm_cell_2_layer_call_fn while saving (showing 5 of 10). These functions will not be directly callable after loading.\n"
          ],
          "name": "stderr"
        },
        {
          "output_type": "stream",
          "text": [
            "INFO:tensorflow:Assets written to: BestModel/assets\n"
          ],
          "name": "stdout"
        },
        {
          "output_type": "stream",
          "text": [
            "INFO:tensorflow:Assets written to: BestModel/assets\n"
          ],
          "name": "stderr"
        },
        {
          "output_type": "stream",
          "text": [
            "Epoch 12/100\n",
            "2667/2667 [==============================] - 26s 10ms/step - loss: 0.3159 - accuracy: 0.8634 - val_loss: 0.3042 - val_accuracy: 0.8723\n"
          ],
          "name": "stdout"
        },
        {
          "output_type": "stream",
          "text": [
            "WARNING:absl:Found untraced functions such as lstm_cell_2_layer_call_fn, lstm_cell_2_layer_call_and_return_conditional_losses, lstm_cell_3_layer_call_fn, lstm_cell_3_layer_call_and_return_conditional_losses, lstm_cell_2_layer_call_fn while saving (showing 5 of 10). These functions will not be directly callable after loading.\n"
          ],
          "name": "stderr"
        },
        {
          "output_type": "stream",
          "text": [
            "INFO:tensorflow:Assets written to: BestModel/assets\n"
          ],
          "name": "stdout"
        },
        {
          "output_type": "stream",
          "text": [
            "INFO:tensorflow:Assets written to: BestModel/assets\n"
          ],
          "name": "stderr"
        },
        {
          "output_type": "stream",
          "text": [
            "Epoch 13/100\n",
            "2667/2667 [==============================] - 26s 10ms/step - loss: 0.4232 - accuracy: 0.7962 - val_loss: 0.6129 - val_accuracy: 0.6559\n",
            "Epoch 14/100\n",
            "2667/2667 [==============================] - 26s 10ms/step - loss: 0.6020 - accuracy: 0.6621 - val_loss: 0.6205 - val_accuracy: 0.6528\n",
            "Epoch 15/100\n",
            "2667/2667 [==============================] - 26s 10ms/step - loss: 0.5955 - accuracy: 0.6749 - val_loss: 0.5718 - val_accuracy: 0.6900\n",
            "Epoch 16/100\n",
            "2667/2667 [==============================] - 27s 10ms/step - loss: 0.5640 - accuracy: 0.6969 - val_loss: 0.5499 - val_accuracy: 0.7045\n",
            "Epoch 17/100\n",
            "2667/2667 [==============================] - 26s 10ms/step - loss: 0.4589 - accuracy: 0.7636 - val_loss: 0.5209 - val_accuracy: 0.7443\n",
            "Epoch 18/100\n",
            "2667/2667 [==============================] - 26s 10ms/step - loss: 0.4003 - accuracy: 0.8003 - val_loss: 0.2000 - val_accuracy: 0.9070\n"
          ],
          "name": "stdout"
        },
        {
          "output_type": "stream",
          "text": [
            "WARNING:absl:Found untraced functions such as lstm_cell_2_layer_call_fn, lstm_cell_2_layer_call_and_return_conditional_losses, lstm_cell_3_layer_call_fn, lstm_cell_3_layer_call_and_return_conditional_losses, lstm_cell_2_layer_call_fn while saving (showing 5 of 10). These functions will not be directly callable after loading.\n"
          ],
          "name": "stderr"
        },
        {
          "output_type": "stream",
          "text": [
            "INFO:tensorflow:Assets written to: BestModel/assets\n"
          ],
          "name": "stdout"
        },
        {
          "output_type": "stream",
          "text": [
            "INFO:tensorflow:Assets written to: BestModel/assets\n"
          ],
          "name": "stderr"
        },
        {
          "output_type": "stream",
          "text": [
            "Epoch 19/100\n",
            "2667/2667 [==============================] - 26s 10ms/step - loss: 0.2428 - accuracy: 0.8921 - val_loss: 0.2067 - val_accuracy: 0.9023\n",
            "Epoch 20/100\n",
            "2667/2667 [==============================] - 27s 10ms/step - loss: 0.2583 - accuracy: 0.8826 - val_loss: 0.1921 - val_accuracy: 0.9096\n"
          ],
          "name": "stdout"
        },
        {
          "output_type": "stream",
          "text": [
            "WARNING:absl:Found untraced functions such as lstm_cell_2_layer_call_fn, lstm_cell_2_layer_call_and_return_conditional_losses, lstm_cell_3_layer_call_fn, lstm_cell_3_layer_call_and_return_conditional_losses, lstm_cell_2_layer_call_fn while saving (showing 5 of 10). These functions will not be directly callable after loading.\n"
          ],
          "name": "stderr"
        },
        {
          "output_type": "stream",
          "text": [
            "INFO:tensorflow:Assets written to: BestModel/assets\n"
          ],
          "name": "stdout"
        },
        {
          "output_type": "stream",
          "text": [
            "INFO:tensorflow:Assets written to: BestModel/assets\n"
          ],
          "name": "stderr"
        },
        {
          "output_type": "stream",
          "text": [
            "Epoch 21/100\n",
            "2667/2667 [==============================] - 26s 10ms/step - loss: 0.2598 - accuracy: 0.8700 - val_loss: 0.5745 - val_accuracy: 0.6873\n",
            "Epoch 22/100\n",
            "2667/2667 [==============================] - 27s 10ms/step - loss: 0.5681 - accuracy: 0.6977 - val_loss: 0.5698 - val_accuracy: 0.7054\n",
            "Epoch 23/100\n",
            "2667/2667 [==============================] - 26s 10ms/step - loss: 0.4147 - accuracy: 0.8033 - val_loss: 0.1790 - val_accuracy: 0.9194\n"
          ],
          "name": "stdout"
        },
        {
          "output_type": "stream",
          "text": [
            "WARNING:absl:Found untraced functions such as lstm_cell_2_layer_call_fn, lstm_cell_2_layer_call_and_return_conditional_losses, lstm_cell_3_layer_call_fn, lstm_cell_3_layer_call_and_return_conditional_losses, lstm_cell_2_layer_call_fn while saving (showing 5 of 10). These functions will not be directly callable after loading.\n"
          ],
          "name": "stderr"
        },
        {
          "output_type": "stream",
          "text": [
            "INFO:tensorflow:Assets written to: BestModel/assets\n"
          ],
          "name": "stdout"
        },
        {
          "output_type": "stream",
          "text": [
            "INFO:tensorflow:Assets written to: BestModel/assets\n"
          ],
          "name": "stderr"
        },
        {
          "output_type": "stream",
          "text": [
            "Epoch 24/100\n",
            "2667/2667 [==============================] - 26s 10ms/step - loss: 0.2297 - accuracy: 0.8946 - val_loss: 0.1557 - val_accuracy: 0.9264\n"
          ],
          "name": "stdout"
        },
        {
          "output_type": "stream",
          "text": [
            "WARNING:absl:Found untraced functions such as lstm_cell_2_layer_call_fn, lstm_cell_2_layer_call_and_return_conditional_losses, lstm_cell_3_layer_call_fn, lstm_cell_3_layer_call_and_return_conditional_losses, lstm_cell_2_layer_call_fn while saving (showing 5 of 10). These functions will not be directly callable after loading.\n"
          ],
          "name": "stderr"
        },
        {
          "output_type": "stream",
          "text": [
            "INFO:tensorflow:Assets written to: BestModel/assets\n"
          ],
          "name": "stdout"
        },
        {
          "output_type": "stream",
          "text": [
            "INFO:tensorflow:Assets written to: BestModel/assets\n"
          ],
          "name": "stderr"
        },
        {
          "output_type": "stream",
          "text": [
            "Epoch 25/100\n",
            "2667/2667 [==============================] - 26s 10ms/step - loss: 0.2512 - accuracy: 0.8784 - val_loss: 0.1743 - val_accuracy: 0.9183\n",
            "Epoch 26/100\n",
            "2667/2667 [==============================] - 26s 10ms/step - loss: 0.1629 - accuracy: 0.9253 - val_loss: 0.1442 - val_accuracy: 0.9322\n"
          ],
          "name": "stdout"
        },
        {
          "output_type": "stream",
          "text": [
            "WARNING:absl:Found untraced functions such as lstm_cell_2_layer_call_fn, lstm_cell_2_layer_call_and_return_conditional_losses, lstm_cell_3_layer_call_fn, lstm_cell_3_layer_call_and_return_conditional_losses, lstm_cell_2_layer_call_fn while saving (showing 5 of 10). These functions will not be directly callable after loading.\n"
          ],
          "name": "stderr"
        },
        {
          "output_type": "stream",
          "text": [
            "INFO:tensorflow:Assets written to: BestModel/assets\n"
          ],
          "name": "stdout"
        },
        {
          "output_type": "stream",
          "text": [
            "INFO:tensorflow:Assets written to: BestModel/assets\n"
          ],
          "name": "stderr"
        },
        {
          "output_type": "stream",
          "text": [
            "Epoch 27/100\n",
            "2667/2667 [==============================] - 26s 10ms/step - loss: 0.6033 - accuracy: 0.6169 - val_loss: 0.1812 - val_accuracy: 0.9197\n",
            "Epoch 28/100\n",
            "2667/2667 [==============================] - 26s 10ms/step - loss: 0.1620 - accuracy: 0.9291 - val_loss: 0.1379 - val_accuracy: 0.9367\n"
          ],
          "name": "stdout"
        },
        {
          "output_type": "stream",
          "text": [
            "WARNING:absl:Found untraced functions such as lstm_cell_2_layer_call_fn, lstm_cell_2_layer_call_and_return_conditional_losses, lstm_cell_3_layer_call_fn, lstm_cell_3_layer_call_and_return_conditional_losses, lstm_cell_2_layer_call_fn while saving (showing 5 of 10). These functions will not be directly callable after loading.\n"
          ],
          "name": "stderr"
        },
        {
          "output_type": "stream",
          "text": [
            "INFO:tensorflow:Assets written to: BestModel/assets\n"
          ],
          "name": "stdout"
        },
        {
          "output_type": "stream",
          "text": [
            "INFO:tensorflow:Assets written to: BestModel/assets\n"
          ],
          "name": "stderr"
        },
        {
          "output_type": "stream",
          "text": [
            "Epoch 29/100\n",
            "2667/2667 [==============================] - 26s 10ms/step - loss: 0.1764 - accuracy: 0.9175 - val_loss: 0.1431 - val_accuracy: 0.9351\n",
            "Epoch 30/100\n",
            "2667/2667 [==============================] - 27s 10ms/step - loss: 0.1586 - accuracy: 0.9312 - val_loss: 0.1275 - val_accuracy: 0.9402\n"
          ],
          "name": "stdout"
        },
        {
          "output_type": "stream",
          "text": [
            "WARNING:absl:Found untraced functions such as lstm_cell_2_layer_call_fn, lstm_cell_2_layer_call_and_return_conditional_losses, lstm_cell_3_layer_call_fn, lstm_cell_3_layer_call_and_return_conditional_losses, lstm_cell_2_layer_call_fn while saving (showing 5 of 10). These functions will not be directly callable after loading.\n"
          ],
          "name": "stderr"
        },
        {
          "output_type": "stream",
          "text": [
            "INFO:tensorflow:Assets written to: BestModel/assets\n"
          ],
          "name": "stdout"
        },
        {
          "output_type": "stream",
          "text": [
            "INFO:tensorflow:Assets written to: BestModel/assets\n"
          ],
          "name": "stderr"
        },
        {
          "output_type": "stream",
          "text": [
            "Epoch 31/100\n",
            "2667/2667 [==============================] - 27s 10ms/step - loss: 0.1222 - accuracy: 0.9454 - val_loss: 0.1236 - val_accuracy: 0.9453\n"
          ],
          "name": "stdout"
        },
        {
          "output_type": "stream",
          "text": [
            "WARNING:absl:Found untraced functions such as lstm_cell_2_layer_call_fn, lstm_cell_2_layer_call_and_return_conditional_losses, lstm_cell_3_layer_call_fn, lstm_cell_3_layer_call_and_return_conditional_losses, lstm_cell_2_layer_call_fn while saving (showing 5 of 10). These functions will not be directly callable after loading.\n"
          ],
          "name": "stderr"
        },
        {
          "output_type": "stream",
          "text": [
            "INFO:tensorflow:Assets written to: BestModel/assets\n"
          ],
          "name": "stdout"
        },
        {
          "output_type": "stream",
          "text": [
            "INFO:tensorflow:Assets written to: BestModel/assets\n"
          ],
          "name": "stderr"
        },
        {
          "output_type": "stream",
          "text": [
            "Epoch 32/100\n",
            "2667/2667 [==============================] - 27s 10ms/step - loss: 0.1608 - accuracy: 0.9208 - val_loss: 0.6221 - val_accuracy: 0.6543\n",
            "Epoch 33/100\n",
            "2667/2667 [==============================] - 26s 10ms/step - loss: 0.5974 - accuracy: 0.6772 - val_loss: 0.2327 - val_accuracy: 0.9012\n",
            "Epoch 34/100\n",
            "2667/2667 [==============================] - 27s 10ms/step - loss: 0.1794 - accuracy: 0.9198 - val_loss: 0.2474 - val_accuracy: 0.8892\n",
            "Epoch 35/100\n",
            "2667/2667 [==============================] - 27s 10ms/step - loss: 0.2103 - accuracy: 0.9059 - val_loss: 0.1601 - val_accuracy: 0.9259\n",
            "Epoch 36/100\n",
            "2667/2667 [==============================] - 27s 10ms/step - loss: 0.5247 - accuracy: 0.6645 - val_loss: 0.5058 - val_accuracy: 0.7438\n",
            "Epoch 37/100\n",
            "2667/2667 [==============================] - 26s 10ms/step - loss: 0.5815 - accuracy: 0.6877 - val_loss: 0.5606 - val_accuracy: 0.6992\n",
            "Epoch 38/100\n",
            "2667/2667 [==============================] - 26s 10ms/step - loss: 0.4446 - accuracy: 0.7740 - val_loss: 0.2154 - val_accuracy: 0.9032\n",
            "Epoch 39/100\n",
            "2667/2667 [==============================] - 26s 10ms/step - loss: 0.1804 - accuracy: 0.9194 - val_loss: 0.1857 - val_accuracy: 0.9215\n",
            "Epoch 40/100\n",
            "2667/2667 [==============================] - 26s 10ms/step - loss: 0.2540 - accuracy: 0.8738 - val_loss: 0.2281 - val_accuracy: 0.8984\n",
            "Epoch 41/100\n",
            "2667/2667 [==============================] - 26s 10ms/step - loss: 0.1825 - accuracy: 0.9172 - val_loss: 0.1484 - val_accuracy: 0.9317\n",
            "Epoch 42/100\n",
            "2667/2667 [==============================] - 26s 10ms/step - loss: 0.1695 - accuracy: 0.9203 - val_loss: 0.1504 - val_accuracy: 0.9287\n",
            "Epoch 43/100\n",
            "2667/2667 [==============================] - 26s 10ms/step - loss: 0.1427 - accuracy: 0.9332 - val_loss: 0.1394 - val_accuracy: 0.9356\n",
            "Epoch 44/100\n",
            "2667/2667 [==============================] - 26s 10ms/step - loss: 0.1806 - accuracy: 0.9188 - val_loss: 0.1236 - val_accuracy: 0.9420\n",
            "Epoch 45/100\n",
            "2667/2667 [==============================] - 26s 10ms/step - loss: 0.1220 - accuracy: 0.9438 - val_loss: 0.1082 - val_accuracy: 0.9481\n"
          ],
          "name": "stdout"
        },
        {
          "output_type": "stream",
          "text": [
            "WARNING:absl:Found untraced functions such as lstm_cell_2_layer_call_fn, lstm_cell_2_layer_call_and_return_conditional_losses, lstm_cell_3_layer_call_fn, lstm_cell_3_layer_call_and_return_conditional_losses, lstm_cell_2_layer_call_fn while saving (showing 5 of 10). These functions will not be directly callable after loading.\n"
          ],
          "name": "stderr"
        },
        {
          "output_type": "stream",
          "text": [
            "INFO:tensorflow:Assets written to: BestModel/assets\n"
          ],
          "name": "stdout"
        },
        {
          "output_type": "stream",
          "text": [
            "INFO:tensorflow:Assets written to: BestModel/assets\n"
          ],
          "name": "stderr"
        },
        {
          "output_type": "stream",
          "text": [
            "Epoch 46/100\n",
            "2667/2667 [==============================] - 26s 10ms/step - loss: 0.1924 - accuracy: 0.9119 - val_loss: 0.1032 - val_accuracy: 0.9522\n"
          ],
          "name": "stdout"
        },
        {
          "output_type": "stream",
          "text": [
            "WARNING:absl:Found untraced functions such as lstm_cell_2_layer_call_fn, lstm_cell_2_layer_call_and_return_conditional_losses, lstm_cell_3_layer_call_fn, lstm_cell_3_layer_call_and_return_conditional_losses, lstm_cell_2_layer_call_fn while saving (showing 5 of 10). These functions will not be directly callable after loading.\n"
          ],
          "name": "stderr"
        },
        {
          "output_type": "stream",
          "text": [
            "INFO:tensorflow:Assets written to: BestModel/assets\n"
          ],
          "name": "stdout"
        },
        {
          "output_type": "stream",
          "text": [
            "INFO:tensorflow:Assets written to: BestModel/assets\n"
          ],
          "name": "stderr"
        },
        {
          "output_type": "stream",
          "text": [
            "Epoch 47/100\n",
            "2667/2667 [==============================] - 26s 10ms/step - loss: 0.1159 - accuracy: 0.9471 - val_loss: 0.3565 - val_accuracy: 0.8418\n",
            "Epoch 48/100\n",
            "2667/2667 [==============================] - 26s 10ms/step - loss: 0.1460 - accuracy: 0.9367 - val_loss: 0.1206 - val_accuracy: 0.9455\n",
            "Epoch 49/100\n",
            "2667/2667 [==============================] - 26s 10ms/step - loss: 0.1085 - accuracy: 0.9510 - val_loss: 0.2952 - val_accuracy: 0.8692\n",
            "Epoch 50/100\n",
            "2667/2667 [==============================] - 27s 10ms/step - loss: 0.1666 - accuracy: 0.9270 - val_loss: 0.0997 - val_accuracy: 0.9540\n"
          ],
          "name": "stdout"
        },
        {
          "output_type": "stream",
          "text": [
            "WARNING:absl:Found untraced functions such as lstm_cell_2_layer_call_fn, lstm_cell_2_layer_call_and_return_conditional_losses, lstm_cell_3_layer_call_fn, lstm_cell_3_layer_call_and_return_conditional_losses, lstm_cell_2_layer_call_fn while saving (showing 5 of 10). These functions will not be directly callable after loading.\n"
          ],
          "name": "stderr"
        },
        {
          "output_type": "stream",
          "text": [
            "INFO:tensorflow:Assets written to: BestModel/assets\n"
          ],
          "name": "stdout"
        },
        {
          "output_type": "stream",
          "text": [
            "INFO:tensorflow:Assets written to: BestModel/assets\n"
          ],
          "name": "stderr"
        },
        {
          "output_type": "stream",
          "text": [
            "Epoch 51/100\n",
            "2667/2667 [==============================] - 27s 10ms/step - loss: 0.2070 - accuracy: 0.9030 - val_loss: 0.1116 - val_accuracy: 0.9488\n",
            "Epoch 52/100\n",
            "2667/2667 [==============================] - 26s 10ms/step - loss: 0.0948 - accuracy: 0.9567 - val_loss: 0.0878 - val_accuracy: 0.9606\n"
          ],
          "name": "stdout"
        },
        {
          "output_type": "stream",
          "text": [
            "WARNING:absl:Found untraced functions such as lstm_cell_2_layer_call_fn, lstm_cell_2_layer_call_and_return_conditional_losses, lstm_cell_3_layer_call_fn, lstm_cell_3_layer_call_and_return_conditional_losses, lstm_cell_2_layer_call_fn while saving (showing 5 of 10). These functions will not be directly callable after loading.\n"
          ],
          "name": "stderr"
        },
        {
          "output_type": "stream",
          "text": [
            "INFO:tensorflow:Assets written to: BestModel/assets\n"
          ],
          "name": "stdout"
        },
        {
          "output_type": "stream",
          "text": [
            "INFO:tensorflow:Assets written to: BestModel/assets\n"
          ],
          "name": "stderr"
        },
        {
          "output_type": "stream",
          "text": [
            "Epoch 53/100\n",
            "2667/2667 [==============================] - 26s 10ms/step - loss: 0.0993 - accuracy: 0.9576 - val_loss: 0.1081 - val_accuracy: 0.9528\n",
            "Epoch 54/100\n",
            "2667/2667 [==============================] - 27s 10ms/step - loss: 0.1848 - accuracy: 0.9117 - val_loss: 0.1088 - val_accuracy: 0.9531\n",
            "Epoch 55/100\n",
            "2667/2667 [==============================] - 26s 10ms/step - loss: 0.1785 - accuracy: 0.9225 - val_loss: 0.2080 - val_accuracy: 0.9068\n",
            "Epoch 56/100\n",
            "2667/2667 [==============================] - 26s 10ms/step - loss: 0.1786 - accuracy: 0.9252 - val_loss: 0.0863 - val_accuracy: 0.9649\n"
          ],
          "name": "stdout"
        },
        {
          "output_type": "stream",
          "text": [
            "WARNING:absl:Found untraced functions such as lstm_cell_2_layer_call_fn, lstm_cell_2_layer_call_and_return_conditional_losses, lstm_cell_3_layer_call_fn, lstm_cell_3_layer_call_and_return_conditional_losses, lstm_cell_2_layer_call_fn while saving (showing 5 of 10). These functions will not be directly callable after loading.\n"
          ],
          "name": "stderr"
        },
        {
          "output_type": "stream",
          "text": [
            "INFO:tensorflow:Assets written to: BestModel/assets\n"
          ],
          "name": "stdout"
        },
        {
          "output_type": "stream",
          "text": [
            "INFO:tensorflow:Assets written to: BestModel/assets\n"
          ],
          "name": "stderr"
        },
        {
          "output_type": "stream",
          "text": [
            "Epoch 57/100\n",
            "2667/2667 [==============================] - 26s 10ms/step - loss: 0.0812 - accuracy: 0.9676 - val_loss: 0.0789 - val_accuracy: 0.9681\n"
          ],
          "name": "stdout"
        },
        {
          "output_type": "stream",
          "text": [
            "WARNING:absl:Found untraced functions such as lstm_cell_2_layer_call_fn, lstm_cell_2_layer_call_and_return_conditional_losses, lstm_cell_3_layer_call_fn, lstm_cell_3_layer_call_and_return_conditional_losses, lstm_cell_2_layer_call_fn while saving (showing 5 of 10). These functions will not be directly callable after loading.\n"
          ],
          "name": "stderr"
        },
        {
          "output_type": "stream",
          "text": [
            "INFO:tensorflow:Assets written to: BestModel/assets\n"
          ],
          "name": "stdout"
        },
        {
          "output_type": "stream",
          "text": [
            "INFO:tensorflow:Assets written to: BestModel/assets\n"
          ],
          "name": "stderr"
        },
        {
          "output_type": "stream",
          "text": [
            "Epoch 58/100\n",
            "2667/2667 [==============================] - 26s 10ms/step - loss: 0.3055 - accuracy: 0.8416 - val_loss: 0.6168 - val_accuracy: 0.6562\n",
            "Epoch 59/100\n",
            "2667/2667 [==============================] - 26s 10ms/step - loss: 0.6041 - accuracy: 0.6679 - val_loss: 0.5342 - val_accuracy: 0.7257\n",
            "Epoch 60/100\n",
            "2667/2667 [==============================] - 26s 10ms/step - loss: 0.4470 - accuracy: 0.7864 - val_loss: 0.4834 - val_accuracy: 0.7662\n",
            "Epoch 61/100\n",
            "2667/2667 [==============================] - 26s 10ms/step - loss: 0.2844 - accuracy: 0.8745 - val_loss: 0.5600 - val_accuracy: 0.7128\n",
            "Epoch 62/100\n",
            "2667/2667 [==============================] - 26s 10ms/step - loss: 0.4017 - accuracy: 0.8134 - val_loss: 0.1828 - val_accuracy: 0.9218\n",
            "Epoch 63/100\n",
            "2667/2667 [==============================] - 26s 10ms/step - loss: 0.2933 - accuracy: 0.8611 - val_loss: 0.6932 - val_accuracy: 0.4998\n",
            "Epoch 64/100\n",
            "2667/2667 [==============================] - 26s 10ms/step - loss: 0.6863 - accuracy: 0.5398 - val_loss: 0.6204 - val_accuracy: 0.6543\n",
            "Epoch 65/100\n",
            "2667/2667 [==============================] - 26s 10ms/step - loss: 0.5246 - accuracy: 0.7282 - val_loss: 0.5698 - val_accuracy: 0.7144\n",
            "Epoch 66/100\n",
            "2667/2667 [==============================] - 27s 10ms/step - loss: 0.5290 - accuracy: 0.7385 - val_loss: 0.3616 - val_accuracy: 0.8391\n",
            "Epoch 67/100\n",
            "2667/2667 [==============================] - 27s 10ms/step - loss: 0.2634 - accuracy: 0.8910 - val_loss: 0.1426 - val_accuracy: 0.9333\n",
            "Epoch 68/100\n",
            "2667/2667 [==============================] - 26s 10ms/step - loss: 0.1389 - accuracy: 0.9372 - val_loss: 0.1302 - val_accuracy: 0.9405\n",
            "Epoch 69/100\n",
            "2667/2667 [==============================] - 26s 10ms/step - loss: 0.1312 - accuracy: 0.9432 - val_loss: 0.1246 - val_accuracy: 0.9458\n",
            "Epoch 70/100\n",
            "2667/2667 [==============================] - 26s 10ms/step - loss: 0.1176 - accuracy: 0.9482 - val_loss: 0.1136 - val_accuracy: 0.9510\n",
            "Epoch 71/100\n",
            "2667/2667 [==============================] - 26s 10ms/step - loss: 0.1463 - accuracy: 0.9388 - val_loss: 0.2270 - val_accuracy: 0.9079\n",
            "Epoch 72/100\n",
            "2667/2667 [==============================] - 26s 10ms/step - loss: 0.1453 - accuracy: 0.9396 - val_loss: 0.1046 - val_accuracy: 0.9530\n",
            "Epoch 73/100\n",
            "2667/2667 [==============================] - 26s 10ms/step - loss: 0.1065 - accuracy: 0.9538 - val_loss: 0.1077 - val_accuracy: 0.9524\n",
            "Epoch 74/100\n",
            "2667/2667 [==============================] - 26s 10ms/step - loss: 0.0968 - accuracy: 0.9574 - val_loss: 0.1340 - val_accuracy: 0.9418\n",
            "Epoch 75/100\n",
            "2667/2667 [==============================] - 26s 10ms/step - loss: 0.1482 - accuracy: 0.9406 - val_loss: 0.1018 - val_accuracy: 0.9585\n",
            "Epoch 76/100\n",
            "2667/2667 [==============================] - 26s 10ms/step - loss: 0.1043 - accuracy: 0.9604 - val_loss: 0.0722 - val_accuracy: 0.9709\n"
          ],
          "name": "stdout"
        },
        {
          "output_type": "stream",
          "text": [
            "WARNING:absl:Found untraced functions such as lstm_cell_2_layer_call_fn, lstm_cell_2_layer_call_and_return_conditional_losses, lstm_cell_3_layer_call_fn, lstm_cell_3_layer_call_and_return_conditional_losses, lstm_cell_2_layer_call_fn while saving (showing 5 of 10). These functions will not be directly callable after loading.\n"
          ],
          "name": "stderr"
        },
        {
          "output_type": "stream",
          "text": [
            "INFO:tensorflow:Assets written to: BestModel/assets\n"
          ],
          "name": "stdout"
        },
        {
          "output_type": "stream",
          "text": [
            "INFO:tensorflow:Assets written to: BestModel/assets\n"
          ],
          "name": "stderr"
        },
        {
          "output_type": "stream",
          "text": [
            "Epoch 77/100\n",
            "2667/2667 [==============================] - 26s 10ms/step - loss: 0.0802 - accuracy: 0.9688 - val_loss: 0.0687 - val_accuracy: 0.9710\n"
          ],
          "name": "stdout"
        },
        {
          "output_type": "stream",
          "text": [
            "WARNING:absl:Found untraced functions such as lstm_cell_2_layer_call_fn, lstm_cell_2_layer_call_and_return_conditional_losses, lstm_cell_3_layer_call_fn, lstm_cell_3_layer_call_and_return_conditional_losses, lstm_cell_2_layer_call_fn while saving (showing 5 of 10). These functions will not be directly callable after loading.\n"
          ],
          "name": "stderr"
        },
        {
          "output_type": "stream",
          "text": [
            "INFO:tensorflow:Assets written to: BestModel/assets\n"
          ],
          "name": "stdout"
        },
        {
          "output_type": "stream",
          "text": [
            "INFO:tensorflow:Assets written to: BestModel/assets\n"
          ],
          "name": "stderr"
        },
        {
          "output_type": "stream",
          "text": [
            "Epoch 78/100\n",
            "2667/2667 [==============================] - 26s 10ms/step - loss: 0.0766 - accuracy: 0.9700 - val_loss: 0.0756 - val_accuracy: 0.9697\n",
            "Epoch 79/100\n",
            "2667/2667 [==============================] - 26s 10ms/step - loss: 0.0790 - accuracy: 0.9702 - val_loss: 0.0774 - val_accuracy: 0.9728\n"
          ],
          "name": "stdout"
        },
        {
          "output_type": "stream",
          "text": [
            "WARNING:absl:Found untraced functions such as lstm_cell_2_layer_call_fn, lstm_cell_2_layer_call_and_return_conditional_losses, lstm_cell_3_layer_call_fn, lstm_cell_3_layer_call_and_return_conditional_losses, lstm_cell_2_layer_call_fn while saving (showing 5 of 10). These functions will not be directly callable after loading.\n"
          ],
          "name": "stderr"
        },
        {
          "output_type": "stream",
          "text": [
            "INFO:tensorflow:Assets written to: BestModel/assets\n"
          ],
          "name": "stdout"
        },
        {
          "output_type": "stream",
          "text": [
            "INFO:tensorflow:Assets written to: BestModel/assets\n"
          ],
          "name": "stderr"
        },
        {
          "output_type": "stream",
          "text": [
            "Epoch 80/100\n",
            "2667/2667 [==============================] - 26s 10ms/step - loss: 0.0678 - accuracy: 0.9765 - val_loss: 0.0504 - val_accuracy: 0.9815\n"
          ],
          "name": "stdout"
        },
        {
          "output_type": "stream",
          "text": [
            "WARNING:absl:Found untraced functions such as lstm_cell_2_layer_call_fn, lstm_cell_2_layer_call_and_return_conditional_losses, lstm_cell_3_layer_call_fn, lstm_cell_3_layer_call_and_return_conditional_losses, lstm_cell_2_layer_call_fn while saving (showing 5 of 10). These functions will not be directly callable after loading.\n"
          ],
          "name": "stderr"
        },
        {
          "output_type": "stream",
          "text": [
            "INFO:tensorflow:Assets written to: BestModel/assets\n"
          ],
          "name": "stdout"
        },
        {
          "output_type": "stream",
          "text": [
            "INFO:tensorflow:Assets written to: BestModel/assets\n"
          ],
          "name": "stderr"
        },
        {
          "output_type": "stream",
          "text": [
            "Epoch 81/100\n",
            "2667/2667 [==============================] - 26s 10ms/step - loss: 0.3202 - accuracy: 0.8293 - val_loss: 0.5340 - val_accuracy: 0.7323\n",
            "Epoch 82/100\n",
            "2667/2667 [==============================] - 26s 10ms/step - loss: 0.4825 - accuracy: 0.7655 - val_loss: 0.2135 - val_accuracy: 0.9135\n",
            "Epoch 83/100\n",
            "2667/2667 [==============================] - 26s 10ms/step - loss: 0.2092 - accuracy: 0.9179 - val_loss: 0.1463 - val_accuracy: 0.9359\n",
            "Epoch 84/100\n",
            "2667/2667 [==============================] - 26s 10ms/step - loss: 0.1468 - accuracy: 0.9380 - val_loss: 0.1423 - val_accuracy: 0.9463\n",
            "Epoch 85/100\n",
            "2667/2667 [==============================] - 26s 10ms/step - loss: 0.1187 - accuracy: 0.9531 - val_loss: 0.1145 - val_accuracy: 0.9534\n",
            "Epoch 86/100\n",
            "2667/2667 [==============================] - 26s 10ms/step - loss: 0.1586 - accuracy: 0.9363 - val_loss: 0.3122 - val_accuracy: 0.8774\n",
            "Epoch 87/100\n",
            "2667/2667 [==============================] - 26s 10ms/step - loss: 0.2301 - accuracy: 0.9113 - val_loss: 0.1380 - val_accuracy: 0.9429\n",
            "Epoch 88/100\n",
            "2667/2667 [==============================] - 26s 10ms/step - loss: 0.1257 - accuracy: 0.9487 - val_loss: 0.0994 - val_accuracy: 0.9577\n",
            "Epoch 89/100\n",
            "2667/2667 [==============================] - 26s 10ms/step - loss: 0.0809 - accuracy: 0.9677 - val_loss: 0.0635 - val_accuracy: 0.9760\n",
            "Epoch 90/100\n",
            "2667/2667 [==============================] - 26s 10ms/step - loss: 0.0710 - accuracy: 0.9741 - val_loss: 0.0486 - val_accuracy: 0.9826\n"
          ],
          "name": "stdout"
        },
        {
          "output_type": "stream",
          "text": [
            "WARNING:absl:Found untraced functions such as lstm_cell_2_layer_call_fn, lstm_cell_2_layer_call_and_return_conditional_losses, lstm_cell_3_layer_call_fn, lstm_cell_3_layer_call_and_return_conditional_losses, lstm_cell_2_layer_call_fn while saving (showing 5 of 10). These functions will not be directly callable after loading.\n"
          ],
          "name": "stderr"
        },
        {
          "output_type": "stream",
          "text": [
            "INFO:tensorflow:Assets written to: BestModel/assets\n"
          ],
          "name": "stdout"
        },
        {
          "output_type": "stream",
          "text": [
            "INFO:tensorflow:Assets written to: BestModel/assets\n"
          ],
          "name": "stderr"
        },
        {
          "output_type": "stream",
          "text": [
            "Epoch 91/100\n",
            "2667/2667 [==============================] - 26s 10ms/step - loss: 0.0830 - accuracy: 0.9705 - val_loss: 0.0581 - val_accuracy: 0.9791\n",
            "Epoch 92/100\n",
            "2667/2667 [==============================] - 26s 10ms/step - loss: 0.0555 - accuracy: 0.9805 - val_loss: 0.0494 - val_accuracy: 0.9819\n",
            "Epoch 93/100\n",
            "2667/2667 [==============================] - 26s 10ms/step - loss: 0.0800 - accuracy: 0.9756 - val_loss: 0.0511 - val_accuracy: 0.9822\n",
            "Epoch 94/100\n",
            "2667/2667 [==============================] - 27s 10ms/step - loss: 0.0444 - accuracy: 0.9844 - val_loss: 0.0441 - val_accuracy: 0.9838\n"
          ],
          "name": "stdout"
        },
        {
          "output_type": "stream",
          "text": [
            "WARNING:absl:Found untraced functions such as lstm_cell_2_layer_call_fn, lstm_cell_2_layer_call_and_return_conditional_losses, lstm_cell_3_layer_call_fn, lstm_cell_3_layer_call_and_return_conditional_losses, lstm_cell_2_layer_call_fn while saving (showing 5 of 10). These functions will not be directly callable after loading.\n"
          ],
          "name": "stderr"
        },
        {
          "output_type": "stream",
          "text": [
            "INFO:tensorflow:Assets written to: BestModel/assets\n"
          ],
          "name": "stdout"
        },
        {
          "output_type": "stream",
          "text": [
            "INFO:tensorflow:Assets written to: BestModel/assets\n"
          ],
          "name": "stderr"
        },
        {
          "output_type": "stream",
          "text": [
            "Epoch 95/100\n",
            "2667/2667 [==============================] - 26s 10ms/step - loss: 0.0399 - accuracy: 0.9864 - val_loss: 0.0456 - val_accuracy: 0.9838\n"
          ],
          "name": "stdout"
        },
        {
          "output_type": "stream",
          "text": [
            "WARNING:absl:Found untraced functions such as lstm_cell_2_layer_call_fn, lstm_cell_2_layer_call_and_return_conditional_losses, lstm_cell_3_layer_call_fn, lstm_cell_3_layer_call_and_return_conditional_losses, lstm_cell_2_layer_call_fn while saving (showing 5 of 10). These functions will not be directly callable after loading.\n"
          ],
          "name": "stderr"
        },
        {
          "output_type": "stream",
          "text": [
            "INFO:tensorflow:Assets written to: BestModel/assets\n"
          ],
          "name": "stdout"
        },
        {
          "output_type": "stream",
          "text": [
            "INFO:tensorflow:Assets written to: BestModel/assets\n"
          ],
          "name": "stderr"
        },
        {
          "output_type": "stream",
          "text": [
            "Epoch 96/100\n",
            "2667/2667 [==============================] - 26s 10ms/step - loss: 0.0506 - accuracy: 0.9841 - val_loss: 0.1070 - val_accuracy: 0.9624\n",
            "Epoch 97/100\n",
            "2667/2667 [==============================] - 26s 10ms/step - loss: 0.0798 - accuracy: 0.9739 - val_loss: 0.0470 - val_accuracy: 0.9840\n"
          ],
          "name": "stdout"
        },
        {
          "output_type": "stream",
          "text": [
            "WARNING:absl:Found untraced functions such as lstm_cell_2_layer_call_fn, lstm_cell_2_layer_call_and_return_conditional_losses, lstm_cell_3_layer_call_fn, lstm_cell_3_layer_call_and_return_conditional_losses, lstm_cell_2_layer_call_fn while saving (showing 5 of 10). These functions will not be directly callable after loading.\n"
          ],
          "name": "stderr"
        },
        {
          "output_type": "stream",
          "text": [
            "INFO:tensorflow:Assets written to: BestModel/assets\n"
          ],
          "name": "stdout"
        },
        {
          "output_type": "stream",
          "text": [
            "INFO:tensorflow:Assets written to: BestModel/assets\n"
          ],
          "name": "stderr"
        },
        {
          "output_type": "stream",
          "text": [
            "Epoch 98/100\n",
            "2667/2667 [==============================] - 26s 10ms/step - loss: 0.1170 - accuracy: 0.9608 - val_loss: 0.0644 - val_accuracy: 0.9802\n",
            "Epoch 99/100\n",
            "2667/2667 [==============================] - 26s 10ms/step - loss: 0.0480 - accuracy: 0.9830 - val_loss: 0.5891 - val_accuracy: 0.6943\n",
            "Epoch 100/100\n",
            "2667/2667 [==============================] - 26s 10ms/step - loss: 0.5853 - accuracy: 0.6924 - val_loss: 0.1071 - val_accuracy: 0.9672\n",
            "Fold 1, 100 epochs, 2918 sec\n"
          ],
          "name": "stdout"
        },
        {
          "output_type": "display_data",
          "data": {
            "image/png": "[encoded data removed]",
            "text/plain": [
              "<Figure size 576x360 with 1 Axes>"
            ]
          },
          "metadata": {
            "tags": [],
            "needs_background": "light"
          }
        },
        {
          "output_type": "stream",
          "text": [
            "MODEL\n",
            "make_DNN\n",
            "input shape: (128, 4)\n",
            "FIT\n",
            "Epoch 1/100\n",
            "2667/2667 [==============================] - 31s 10ms/step - loss: 0.6962 - accuracy: 0.5322 - val_loss: 0.6334 - val_accuracy: 0.6381\n",
            "Epoch 2/100\n",
            "2667/2667 [==============================] - 27s 10ms/step - loss: 0.6237 - accuracy: 0.6475 - val_loss: 0.5700 - val_accuracy: 0.6933\n",
            "Epoch 3/100\n",
            "2667/2667 [==============================] - 27s 10ms/step - loss: 0.5765 - accuracy: 0.6885 - val_loss: 0.5579 - val_accuracy: 0.6981\n",
            "Epoch 4/100\n",
            "2667/2667 [==============================] - 27s 10ms/step - loss: 0.5697 - accuracy: 0.6907 - val_loss: 0.5572 - val_accuracy: 0.7006\n",
            "Epoch 5/100\n",
            "2667/2667 [==============================] - 27s 10ms/step - loss: 0.5561 - accuracy: 0.7037 - val_loss: 0.5569 - val_accuracy: 0.7022\n",
            "Epoch 6/100\n",
            "2667/2667 [==============================] - 27s 10ms/step - loss: 0.5589 - accuracy: 0.7019 - val_loss: 0.5517 - val_accuracy: 0.7053\n",
            "Epoch 7/100\n",
            "2667/2667 [==============================] - 27s 10ms/step - loss: 0.5539 - accuracy: 0.7048 - val_loss: 0.5475 - val_accuracy: 0.7072\n",
            "Epoch 8/100\n",
            "2667/2667 [==============================] - 27s 10ms/step - loss: 0.5488 - accuracy: 0.7079 - val_loss: 0.5666 - val_accuracy: 0.6932\n",
            "Epoch 9/100\n",
            "2667/2667 [==============================] - 27s 10ms/step - loss: 0.5683 - accuracy: 0.6892 - val_loss: 0.6210 - val_accuracy: 0.6575\n",
            "Epoch 10/100\n",
            "2667/2667 [==============================] - 27s 10ms/step - loss: 0.5611 - accuracy: 0.7012 - val_loss: 0.5499 - val_accuracy: 0.7057\n",
            "Epoch 11/100\n",
            "2667/2667 [==============================] - 27s 10ms/step - loss: 0.5489 - accuracy: 0.7103 - val_loss: 0.5430 - val_accuracy: 0.7108\n",
            "Epoch 12/100\n",
            "2667/2667 [==============================] - 27s 10ms/step - loss: 0.5433 - accuracy: 0.7126 - val_loss: 0.5518 - val_accuracy: 0.7095\n",
            "Epoch 13/100\n",
            "2667/2667 [==============================] - 27s 10ms/step - loss: 0.5362 - accuracy: 0.7167 - val_loss: 0.5462 - val_accuracy: 0.7118\n",
            "Epoch 14/100\n",
            "2667/2667 [==============================] - 27s 10ms/step - loss: 0.5498 - accuracy: 0.7074 - val_loss: 0.5392 - val_accuracy: 0.7132\n",
            "Epoch 15/100\n",
            "2667/2667 [==============================] - 27s 10ms/step - loss: 0.5314 - accuracy: 0.7180 - val_loss: 0.5307 - val_accuracy: 0.7212\n",
            "Epoch 16/100\n",
            "2667/2667 [==============================] - 27s 10ms/step - loss: 0.5101 - accuracy: 0.7368 - val_loss: 0.5586 - val_accuracy: 0.7010\n",
            "Epoch 17/100\n",
            "2667/2667 [==============================] - 27s 10ms/step - loss: 0.5045 - accuracy: 0.7465 - val_loss: 0.3936 - val_accuracy: 0.8246\n",
            "Epoch 18/100\n",
            "2667/2667 [==============================] - 27s 10ms/step - loss: 0.3592 - accuracy: 0.8391 - val_loss: 0.2141 - val_accuracy: 0.9055\n",
            "Epoch 19/100\n",
            "2667/2667 [==============================] - 27s 10ms/step - loss: 0.2274 - accuracy: 0.9011 - val_loss: 0.2158 - val_accuracy: 0.9019\n",
            "Epoch 20/100\n",
            "2667/2667 [==============================] - 27s 10ms/step - loss: 0.1833 - accuracy: 0.9185 - val_loss: 0.1549 - val_accuracy: 0.9300\n",
            "Epoch 21/100\n",
            "2667/2667 [==============================] - 27s 10ms/step - loss: 0.1598 - accuracy: 0.9302 - val_loss: 0.1976 - val_accuracy: 0.9143\n",
            "Epoch 22/100\n",
            "2667/2667 [==============================] - 27s 10ms/step - loss: 0.1960 - accuracy: 0.9142 - val_loss: 0.6123 - val_accuracy: 0.6580\n",
            "Epoch 23/100\n",
            "2667/2667 [==============================] - 27s 10ms/step - loss: 0.5856 - accuracy: 0.6826 - val_loss: 0.5394 - val_accuracy: 0.7138\n",
            "Epoch 24/100\n",
            "2667/2667 [==============================] - 27s 10ms/step - loss: 0.3618 - accuracy: 0.8210 - val_loss: 0.4065 - val_accuracy: 0.8075\n",
            "Epoch 25/100\n",
            "2667/2667 [==============================] - 27s 10ms/step - loss: 0.2064 - accuracy: 0.9052 - val_loss: 0.1608 - val_accuracy: 0.9274\n",
            "Epoch 26/100\n",
            "2667/2667 [==============================] - 27s 10ms/step - loss: 0.1527 - accuracy: 0.9289 - val_loss: 0.1402 - val_accuracy: 0.9327\n",
            "Epoch 27/100\n",
            "2667/2667 [==============================] - 27s 10ms/step - loss: 0.1259 - accuracy: 0.9405 - val_loss: 0.3294 - val_accuracy: 0.8540\n",
            "Epoch 28/100\n",
            "2667/2667 [==============================] - 27s 10ms/step - loss: 0.1741 - accuracy: 0.9249 - val_loss: 0.1257 - val_accuracy: 0.9402\n",
            "Epoch 29/100\n",
            "2667/2667 [==============================] - 27s 10ms/step - loss: 0.1243 - accuracy: 0.9444 - val_loss: 0.1129 - val_accuracy: 0.9456\n",
            "Epoch 30/100\n",
            "2667/2667 [==============================] - 27s 10ms/step - loss: 0.1232 - accuracy: 0.9427 - val_loss: 0.1142 - val_accuracy: 0.9467\n",
            "Epoch 31/100\n",
            "2667/2667 [==============================] - 28s 11ms/step - loss: 0.1109 - accuracy: 0.9481 - val_loss: 0.1107 - val_accuracy: 0.9475\n",
            "Epoch 32/100\n",
            "2667/2667 [==============================] - 27s 10ms/step - loss: 0.1108 - accuracy: 0.9499 - val_loss: 0.1303 - val_accuracy: 0.9442\n",
            "Epoch 33/100\n",
            "2667/2667 [==============================] - 27s 10ms/step - loss: 0.1034 - accuracy: 0.9535 - val_loss: 0.1022 - val_accuracy: 0.9521\n",
            "Epoch 34/100\n",
            "2667/2667 [==============================] - 27s 10ms/step - loss: 0.1022 - accuracy: 0.9540 - val_loss: 0.0945 - val_accuracy: 0.9557\n",
            "Epoch 35/100\n",
            "2667/2667 [==============================] - 27s 10ms/step - loss: 0.0957 - accuracy: 0.9552 - val_loss: 0.0905 - val_accuracy: 0.9570\n",
            "Epoch 36/100\n",
            "2667/2667 [==============================] - 27s 10ms/step - loss: 0.0865 - accuracy: 0.9590 - val_loss: 0.0892 - val_accuracy: 0.9589\n",
            "Epoch 37/100\n",
            "2667/2667 [==============================] - 27s 10ms/step - loss: 0.0904 - accuracy: 0.9591 - val_loss: 0.0989 - val_accuracy: 0.9545\n",
            "Epoch 38/100\n",
            "2667/2667 [==============================] - 27s 10ms/step - loss: 0.1026 - accuracy: 0.9545 - val_loss: 0.0895 - val_accuracy: 0.9570\n",
            "Epoch 39/100\n",
            "2667/2667 [==============================] - 27s 10ms/step - loss: 0.0867 - accuracy: 0.9604 - val_loss: 0.0816 - val_accuracy: 0.9612\n",
            "Epoch 40/100\n",
            "2667/2667 [==============================] - 27s 10ms/step - loss: 0.2593 - accuracy: 0.8557 - val_loss: 0.5169 - val_accuracy: 0.7448\n",
            "Epoch 41/100\n",
            "2667/2667 [==============================] - 27s 10ms/step - loss: 0.5083 - accuracy: 0.7437 - val_loss: 0.1419 - val_accuracy: 0.9347\n",
            "Epoch 42/100\n",
            "2667/2667 [==============================] - 27s 10ms/step - loss: 0.1200 - accuracy: 0.9469 - val_loss: 0.0863 - val_accuracy: 0.9588\n",
            "Epoch 43/100\n",
            "2667/2667 [==============================] - 27s 10ms/step - loss: 0.0768 - accuracy: 0.9645 - val_loss: 0.0829 - val_accuracy: 0.9616\n",
            "Epoch 44/100\n",
            "2667/2667 [==============================] - 27s 10ms/step - loss: 0.0923 - accuracy: 0.9584 - val_loss: 0.0853 - val_accuracy: 0.9602\n",
            "Epoch 45/100\n",
            "2667/2667 [==============================] - 27s 10ms/step - loss: 0.0779 - accuracy: 0.9640 - val_loss: 0.0771 - val_accuracy: 0.9626\n",
            "Epoch 46/100\n",
            "2667/2667 [==============================] - 27s 10ms/step - loss: 0.0725 - accuracy: 0.9658 - val_loss: 0.0758 - val_accuracy: 0.9629\n",
            "Epoch 47/100\n",
            "2667/2667 [==============================] - 27s 10ms/step - loss: 0.0891 - accuracy: 0.9603 - val_loss: 0.0816 - val_accuracy: 0.9632\n",
            "Epoch 48/100\n",
            "2667/2667 [==============================] - 27s 10ms/step - loss: 0.0722 - accuracy: 0.9659 - val_loss: 0.0947 - val_accuracy: 0.9582\n",
            "Epoch 49/100\n",
            "2667/2667 [==============================] - 27s 10ms/step - loss: 0.0748 - accuracy: 0.9660 - val_loss: 0.0786 - val_accuracy: 0.9627\n",
            "Epoch 50/100\n",
            "2667/2667 [==============================] - 27s 10ms/step - loss: 0.0683 - accuracy: 0.9677 - val_loss: 0.0806 - val_accuracy: 0.9623\n",
            "Epoch 51/100\n",
            "2667/2667 [==============================] - 27s 10ms/step - loss: 0.1462 - accuracy: 0.9262 - val_loss: 0.5138 - val_accuracy: 0.7476\n",
            "Epoch 52/100\n",
            "2667/2667 [==============================] - 27s 10ms/step - loss: 0.5404 - accuracy: 0.7209 - val_loss: 0.1202 - val_accuracy: 0.9482\n",
            "Epoch 53/100\n",
            "2667/2667 [==============================] - 27s 10ms/step - loss: 0.1039 - accuracy: 0.9528 - val_loss: 0.6053 - val_accuracy: 0.6592\n",
            "Epoch 54/100\n",
            "2667/2667 [==============================] - 27s 10ms/step - loss: 0.5861 - accuracy: 0.6793 - val_loss: 0.5517 - val_accuracy: 0.7063\n",
            "Epoch 55/100\n",
            "2667/2667 [==============================] - 27s 10ms/step - loss: 0.5455 - accuracy: 0.7107 - val_loss: 0.2520 - val_accuracy: 0.8915\n",
            "Epoch 56/100\n",
            "2667/2667 [==============================] - 27s 10ms/step - loss: 0.1652 - accuracy: 0.9304 - val_loss: 0.0811 - val_accuracy: 0.9635\n",
            "Epoch 57/100\n",
            "2667/2667 [==============================] - 27s 10ms/step - loss: 0.0740 - accuracy: 0.9661 - val_loss: 0.0775 - val_accuracy: 0.9646\n",
            "Epoch 58/100\n",
            "2667/2667 [==============================] - 27s 10ms/step - loss: 0.0833 - accuracy: 0.9643 - val_loss: 0.0919 - val_accuracy: 0.9577\n",
            "Epoch 59/100\n",
            "2667/2667 [==============================] - 27s 10ms/step - loss: 0.0788 - accuracy: 0.9638 - val_loss: 0.0783 - val_accuracy: 0.9639\n",
            "Epoch 60/100\n",
            "2667/2667 [==============================] - 27s 10ms/step - loss: 0.0720 - accuracy: 0.9663 - val_loss: 0.0810 - val_accuracy: 0.9628\n",
            "Epoch 61/100\n",
            "2667/2667 [==============================] - 27s 10ms/step - loss: 0.0795 - accuracy: 0.9639 - val_loss: 0.0741 - val_accuracy: 0.9664\n",
            "Epoch 62/100\n",
            "2667/2667 [==============================] - 27s 10ms/step - loss: 0.0946 - accuracy: 0.9581 - val_loss: 0.0854 - val_accuracy: 0.9610\n",
            "Epoch 63/100\n",
            "2667/2667 [==============================] - 27s 10ms/step - loss: 0.0826 - accuracy: 0.9642 - val_loss: 0.0765 - val_accuracy: 0.9661\n",
            "Epoch 64/100\n",
            "2667/2667 [==============================] - 27s 10ms/step - loss: 0.1634 - accuracy: 0.9339 - val_loss: 0.0758 - val_accuracy: 0.9653\n",
            "Epoch 65/100\n",
            "2667/2667 [==============================] - 27s 10ms/step - loss: 0.0909 - accuracy: 0.9586 - val_loss: 0.1067 - val_accuracy: 0.9527\n",
            "Epoch 66/100\n",
            "2667/2667 [==============================] - 27s 10ms/step - loss: 0.0867 - accuracy: 0.9617 - val_loss: 0.0739 - val_accuracy: 0.9653\n",
            "Epoch 67/100\n",
            "2667/2667 [==============================] - 27s 10ms/step - loss: 0.2807 - accuracy: 0.8701 - val_loss: 0.0781 - val_accuracy: 0.9648\n",
            "Epoch 68/100\n",
            "2667/2667 [==============================] - 27s 10ms/step - loss: 0.0710 - accuracy: 0.9670 - val_loss: 0.1158 - val_accuracy: 0.9505\n",
            "Epoch 69/100\n",
            "2667/2667 [==============================] - 27s 10ms/step - loss: 0.0944 - accuracy: 0.9595 - val_loss: 0.0939 - val_accuracy: 0.9589\n",
            "Epoch 70/100\n",
            "2667/2667 [==============================] - 27s 10ms/step - loss: 0.1796 - accuracy: 0.9197 - val_loss: 0.1022 - val_accuracy: 0.9505\n",
            "Epoch 71/100\n",
            "2667/2667 [==============================] - 27s 10ms/step - loss: 0.0925 - accuracy: 0.9577 - val_loss: 0.0779 - val_accuracy: 0.9631\n",
            "Epoch 72/100\n",
            "2667/2667 [==============================] - 27s 10ms/step - loss: 0.0697 - accuracy: 0.9673 - val_loss: 0.0872 - val_accuracy: 0.9609\n",
            "Epoch 73/100\n",
            "2667/2667 [==============================] - 27s 10ms/step - loss: 0.0830 - accuracy: 0.9624 - val_loss: 0.0756 - val_accuracy: 0.9644\n",
            "Epoch 74/100\n",
            "2667/2667 [==============================] - 27s 10ms/step - loss: 0.0692 - accuracy: 0.9672 - val_loss: 0.0830 - val_accuracy: 0.9612\n",
            "Epoch 75/100\n",
            "2667/2667 [==============================] - 27s 10ms/step - loss: 0.0751 - accuracy: 0.9646 - val_loss: 0.0777 - val_accuracy: 0.9633\n",
            "Epoch 76/100\n",
            "2667/2667 [==============================] - 27s 10ms/step - loss: 0.0653 - accuracy: 0.9685 - val_loss: 0.0841 - val_accuracy: 0.9625\n",
            "Epoch 77/100\n",
            "2667/2667 [==============================] - 27s 10ms/step - loss: 0.0688 - accuracy: 0.9675 - val_loss: 0.0748 - val_accuracy: 0.9642\n",
            "Epoch 78/100\n",
            "2667/2667 [==============================] - 28s 10ms/step - loss: 0.0926 - accuracy: 0.9569 - val_loss: 0.0781 - val_accuracy: 0.9642\n",
            "Epoch 79/100\n",
            "2667/2667 [==============================] - 27s 10ms/step - loss: 0.0983 - accuracy: 0.9582 - val_loss: 0.0873 - val_accuracy: 0.9602\n",
            "Epoch 80/100\n",
            "2667/2667 [==============================] - 27s 10ms/step - loss: 0.0767 - accuracy: 0.9650 - val_loss: 0.2475 - val_accuracy: 0.8906\n",
            "Epoch 81/100\n",
            "2667/2667 [==============================] - 27s 10ms/step - loss: 0.1391 - accuracy: 0.9355 - val_loss: 0.1601 - val_accuracy: 0.9321\n",
            "Epoch 82/100\n",
            "2667/2667 [==============================] - 27s 10ms/step - loss: 0.1466 - accuracy: 0.9378 - val_loss: 0.1248 - val_accuracy: 0.9446\n",
            "Epoch 83/100\n",
            "2667/2667 [==============================] - 27s 10ms/step - loss: 0.1018 - accuracy: 0.9550 - val_loss: 0.1145 - val_accuracy: 0.9482\n",
            "Epoch 84/100\n",
            "2667/2667 [==============================] - 27s 10ms/step - loss: 0.2903 - accuracy: 0.8432 - val_loss: 0.5950 - val_accuracy: 0.6745\n",
            "Epoch 85/100\n",
            "2667/2667 [==============================] - 27s 10ms/step - loss: 0.5878 - accuracy: 0.6796 - val_loss: 0.5603 - val_accuracy: 0.6980\n",
            "Epoch 86/100\n",
            "2667/2667 [==============================] - 27s 10ms/step - loss: 0.5639 - accuracy: 0.6985 - val_loss: 0.5994 - val_accuracy: 0.6725\n",
            "Epoch 87/100\n",
            "2667/2667 [==============================] - 27s 10ms/step - loss: 0.5577 - accuracy: 0.7070 - val_loss: 0.5129 - val_accuracy: 0.7418\n",
            "Epoch 88/100\n",
            "2667/2667 [==============================] - 27s 10ms/step - loss: 0.4952 - accuracy: 0.7535 - val_loss: 0.6383 - val_accuracy: 0.6370\n",
            "Epoch 89/100\n",
            "2667/2667 [==============================] - 27s 10ms/step - loss: 0.6260 - accuracy: 0.6510 - val_loss: 0.5656 - val_accuracy: 0.7051\n",
            "Epoch 90/100\n",
            "2667/2667 [==============================] - 27s 10ms/step - loss: 0.5887 - accuracy: 0.6813 - val_loss: 0.5535 - val_accuracy: 0.7083\n",
            "Epoch 91/100\n",
            "2667/2667 [==============================] - 27s 10ms/step - loss: 0.4454 - accuracy: 0.7833 - val_loss: 0.4189 - val_accuracy: 0.7972\n",
            "Epoch 92/100\n",
            "2667/2667 [==============================] - 27s 10ms/step - loss: 0.3978 - accuracy: 0.8066 - val_loss: 0.2807 - val_accuracy: 0.8699\n",
            "Epoch 93/100\n",
            "2667/2667 [==============================] - 28s 10ms/step - loss: 0.2481 - accuracy: 0.8862 - val_loss: 0.2390 - val_accuracy: 0.8895\n",
            "Epoch 94/100\n",
            "2667/2667 [==============================] - 28s 10ms/step - loss: 0.3053 - accuracy: 0.8654 - val_loss: 0.1912 - val_accuracy: 0.9158\n",
            "Epoch 95/100\n",
            "2667/2667 [==============================] - 27s 10ms/step - loss: 0.3719 - accuracy: 0.8216 - val_loss: 0.1998 - val_accuracy: 0.9104\n",
            "Epoch 96/100\n",
            "2667/2667 [==============================] - 27s 10ms/step - loss: 0.1869 - accuracy: 0.9177 - val_loss: 0.1658 - val_accuracy: 0.9271\n",
            "Epoch 97/100\n",
            "2667/2667 [==============================] - 27s 10ms/step - loss: 0.1692 - accuracy: 0.9255 - val_loss: 0.1277 - val_accuracy: 0.9420\n",
            "Epoch 98/100\n",
            "2667/2667 [==============================] - 27s 10ms/step - loss: 0.1412 - accuracy: 0.9374 - val_loss: 0.1208 - val_accuracy: 0.9447\n",
            "Epoch 99/100\n",
            "2667/2667 [==============================] - 27s 10ms/step - loss: 0.1219 - accuracy: 0.9442 - val_loss: 0.1084 - val_accuracy: 0.9491\n",
            "Epoch 100/100\n",
            "2667/2667 [==============================] - 27s 10ms/step - loss: 0.1164 - accuracy: 0.9462 - val_loss: 0.1031 - val_accuracy: 0.9542\n",
            "Fold 2, 100 epochs, 2724 sec\n"
          ],
          "name": "stdout"
        },
        {
          "output_type": "display_data",
          "data": {
            "image/png": "[encoded data removed]",
            "text/plain": [
              "<Figure size 576x360 with 1 Axes>"
            ]
          },
          "metadata": {
            "tags": [],
            "needs_background": "light"
          }
        },
        {
          "output_type": "stream",
          "text": [
            "MODEL\n",
            "make_DNN\n",
            "input shape: (128, 4)\n",
            "FIT\n",
            "Epoch 1/100\n",
            "2667/2667 [==============================] - 32s 11ms/step - loss: 0.6872 - accuracy: 0.5437 - val_loss: 0.6181 - val_accuracy: 0.6549\n",
            "Epoch 2/100\n",
            "2667/2667 [==============================] - 27s 10ms/step - loss: 0.6025 - accuracy: 0.6713 - val_loss: 0.5873 - val_accuracy: 0.6844\n",
            "Epoch 3/100\n",
            "2667/2667 [==============================] - 27s 10ms/step - loss: 0.5713 - accuracy: 0.6923 - val_loss: 0.5750 - val_accuracy: 0.6886\n",
            "Epoch 4/100\n",
            "2667/2667 [==============================] - 27s 10ms/step - loss: 0.5643 - accuracy: 0.6976 - val_loss: 0.5687 - val_accuracy: 0.6928\n",
            "Epoch 5/100\n",
            "2667/2667 [==============================] - 28s 10ms/step - loss: 0.5584 - accuracy: 0.7004 - val_loss: 0.5580 - val_accuracy: 0.6980\n",
            "Epoch 6/100\n",
            "2667/2667 [==============================] - 27s 10ms/step - loss: 0.5514 - accuracy: 0.7052 - val_loss: 0.5554 - val_accuracy: 0.7021\n",
            "Epoch 7/100\n",
            "2667/2667 [==============================] - 27s 10ms/step - loss: 0.5483 - accuracy: 0.7053 - val_loss: 0.5566 - val_accuracy: 0.6984\n",
            "Epoch 8/100\n",
            "2667/2667 [==============================] - 27s 10ms/step - loss: 0.5472 - accuracy: 0.7077 - val_loss: 0.5538 - val_accuracy: 0.7014\n",
            "Epoch 9/100\n",
            "2667/2667 [==============================] - 27s 10ms/step - loss: 0.5488 - accuracy: 0.7048 - val_loss: 0.5541 - val_accuracy: 0.7022\n",
            "Epoch 10/100\n",
            "2667/2667 [==============================] - 27s 10ms/step - loss: 0.5396 - accuracy: 0.7123 - val_loss: 0.5569 - val_accuracy: 0.7007\n",
            "Epoch 11/100\n",
            "2667/2667 [==============================] - 28s 10ms/step - loss: 0.5400 - accuracy: 0.7134 - val_loss: 0.5520 - val_accuracy: 0.7011\n",
            "Epoch 12/100\n",
            "2667/2667 [==============================] - 28s 10ms/step - loss: 0.5285 - accuracy: 0.7200 - val_loss: 0.5547 - val_accuracy: 0.7003\n",
            "Epoch 13/100\n",
            "2667/2667 [==============================] - 28s 10ms/step - loss: 0.5341 - accuracy: 0.7182 - val_loss: 0.5558 - val_accuracy: 0.7028\n",
            "Epoch 14/100\n",
            "2667/2667 [==============================] - 28s 10ms/step - loss: 0.5293 - accuracy: 0.7224 - val_loss: 0.5646 - val_accuracy: 0.6945\n",
            "Epoch 15/100\n",
            "2667/2667 [==============================] - 28s 10ms/step - loss: 0.5285 - accuracy: 0.7205 - val_loss: 0.5532 - val_accuracy: 0.7066\n",
            "Epoch 16/100\n",
            "2667/2667 [==============================] - 28s 10ms/step - loss: 0.5236 - accuracy: 0.7247 - val_loss: 0.5519 - val_accuracy: 0.7043\n",
            "Epoch 17/100\n",
            "2667/2667 [==============================] - 28s 10ms/step - loss: 0.5194 - accuracy: 0.7254 - val_loss: 0.5546 - val_accuracy: 0.7048\n",
            "Epoch 18/100\n",
            "2667/2667 [==============================] - 28s 10ms/step - loss: 0.5178 - accuracy: 0.7280 - val_loss: 0.5637 - val_accuracy: 0.7028\n",
            "Epoch 19/100\n",
            "2667/2667 [==============================] - 28s 10ms/step - loss: 0.5243 - accuracy: 0.7257 - val_loss: 0.5585 - val_accuracy: 0.7013\n",
            "Epoch 20/100\n",
            "2667/2667 [==============================] - 28s 10ms/step - loss: 0.5203 - accuracy: 0.7273 - val_loss: 0.5491 - val_accuracy: 0.7081\n",
            "Epoch 21/100\n",
            "2667/2667 [==============================] - 28s 10ms/step - loss: 0.5087 - accuracy: 0.7315 - val_loss: 0.5592 - val_accuracy: 0.7025\n",
            "Epoch 22/100\n",
            "2667/2667 [==============================] - 27s 10ms/step - loss: 0.5089 - accuracy: 0.7313 - val_loss: 0.5601 - val_accuracy: 0.7062\n",
            "Epoch 23/100\n",
            "2667/2667 [==============================] - 28s 10ms/step - loss: 0.5028 - accuracy: 0.7361 - val_loss: 0.5502 - val_accuracy: 0.7104\n",
            "Epoch 24/100\n",
            "2667/2667 [==============================] - 28s 10ms/step - loss: 0.4965 - accuracy: 0.7426 - val_loss: 0.5547 - val_accuracy: 0.7087\n",
            "Epoch 25/100\n",
            "2667/2667 [==============================] - 28s 10ms/step - loss: 0.4915 - accuracy: 0.7458 - val_loss: 0.5506 - val_accuracy: 0.7112\n",
            "Epoch 26/100\n",
            "2667/2667 [==============================] - 28s 10ms/step - loss: 0.4897 - accuracy: 0.7484 - val_loss: 0.5179 - val_accuracy: 0.7393\n",
            "Epoch 27/100\n",
            "2667/2667 [==============================] - 28s 10ms/step - loss: 0.5024 - accuracy: 0.7440 - val_loss: 0.5188 - val_accuracy: 0.7383\n",
            "Epoch 28/100\n",
            "2667/2667 [==============================] - 28s 10ms/step - loss: 0.4857 - accuracy: 0.7605 - val_loss: 0.6464 - val_accuracy: 0.6222\n",
            "Epoch 29/100\n",
            "2667/2667 [==============================] - 28s 10ms/step - loss: 0.6306 - accuracy: 0.6431 - val_loss: 0.5865 - val_accuracy: 0.6823\n",
            "Epoch 30/100\n",
            "2667/2667 [==============================] - 28s 10ms/step - loss: 0.5583 - accuracy: 0.7030 - val_loss: 0.4307 - val_accuracy: 0.7956\n",
            "Epoch 31/100\n",
            "2667/2667 [==============================] - 28s 10ms/step - loss: 0.3377 - accuracy: 0.8529 - val_loss: 0.2368 - val_accuracy: 0.8919\n",
            "Epoch 32/100\n",
            "2667/2667 [==============================] - 28s 10ms/step - loss: 0.4659 - accuracy: 0.7665 - val_loss: 0.2554 - val_accuracy: 0.8799\n",
            "Epoch 33/100\n",
            "2667/2667 [==============================] - 28s 10ms/step - loss: 0.2771 - accuracy: 0.8722 - val_loss: 0.3921 - val_accuracy: 0.8169\n",
            "Epoch 34/100\n",
            "2667/2667 [==============================] - 28s 10ms/step - loss: 0.2636 - accuracy: 0.8785 - val_loss: 0.2106 - val_accuracy: 0.9044\n",
            "Epoch 35/100\n",
            "2667/2667 [==============================] - 28s 10ms/step - loss: 0.2645 - accuracy: 0.8608 - val_loss: 0.6309 - val_accuracy: 0.6399\n",
            "Epoch 36/100\n",
            "2667/2667 [==============================] - 28s 10ms/step - loss: 0.6106 - accuracy: 0.6610 - val_loss: 0.5461 - val_accuracy: 0.7170\n",
            "Epoch 37/100\n",
            "2667/2667 [==============================] - 28s 10ms/step - loss: 0.5585 - accuracy: 0.7041 - val_loss: 0.5879 - val_accuracy: 0.6887\n",
            "Epoch 38/100\n",
            "2667/2667 [==============================] - 28s 10ms/step - loss: 0.5269 - accuracy: 0.7338 - val_loss: 0.5649 - val_accuracy: 0.6940\n",
            "Epoch 39/100\n",
            "2667/2667 [==============================] - 27s 10ms/step - loss: 0.5599 - accuracy: 0.6993 - val_loss: 0.5525 - val_accuracy: 0.7024\n",
            "Epoch 40/100\n",
            "2667/2667 [==============================] - 28s 10ms/step - loss: 0.5371 - accuracy: 0.7233 - val_loss: 0.5601 - val_accuracy: 0.7003\n",
            "Epoch 41/100\n",
            "2667/2667 [==============================] - 28s 10ms/step - loss: 0.4976 - accuracy: 0.7497 - val_loss: 0.1941 - val_accuracy: 0.9073\n",
            "Epoch 42/100\n",
            "2667/2667 [==============================] - 28s 10ms/step - loss: 0.1958 - accuracy: 0.9060 - val_loss: 0.1891 - val_accuracy: 0.9114\n",
            "Epoch 43/100\n",
            "2667/2667 [==============================] - 28s 10ms/step - loss: 0.1703 - accuracy: 0.9174 - val_loss: 0.1736 - val_accuracy: 0.9239\n",
            "Epoch 44/100\n",
            "2667/2667 [==============================] - 27s 10ms/step - loss: 0.2098 - accuracy: 0.9049 - val_loss: 0.1585 - val_accuracy: 0.9234\n",
            "Epoch 45/100\n",
            "2667/2667 [==============================] - 28s 10ms/step - loss: 0.1629 - accuracy: 0.9241 - val_loss: 0.1578 - val_accuracy: 0.9251\n",
            "Epoch 46/100\n",
            "2667/2667 [==============================] - 28s 10ms/step - loss: 0.1679 - accuracy: 0.9193 - val_loss: 0.5550 - val_accuracy: 0.7135\n",
            "Epoch 47/100\n",
            "2667/2667 [==============================] - 28s 10ms/step - loss: 0.3462 - accuracy: 0.8331 - val_loss: 0.5406 - val_accuracy: 0.7282\n",
            "Epoch 48/100\n",
            "2667/2667 [==============================] - 27s 10ms/step - loss: 0.3433 - accuracy: 0.8359 - val_loss: 0.1385 - val_accuracy: 0.9329\n",
            "Epoch 49/100\n",
            "2667/2667 [==============================] - 28s 11ms/step - loss: 0.1440 - accuracy: 0.9325 - val_loss: 0.1432 - val_accuracy: 0.9303\n",
            "Epoch 50/100\n",
            "2667/2667 [==============================] - 28s 10ms/step - loss: 0.1589 - accuracy: 0.9249 - val_loss: 0.1438 - val_accuracy: 0.9292\n",
            "Epoch 51/100\n",
            "2667/2667 [==============================] - 28s 10ms/step - loss: 0.1783 - accuracy: 0.9148 - val_loss: 0.1530 - val_accuracy: 0.9244\n",
            "Epoch 52/100\n",
            "2667/2667 [==============================] - 28s 10ms/step - loss: 0.1396 - accuracy: 0.9329 - val_loss: 0.1325 - val_accuracy: 0.9345\n",
            "Epoch 53/100\n",
            "2667/2667 [==============================] - 27s 10ms/step - loss: 0.1312 - accuracy: 0.9358 - val_loss: 0.1280 - val_accuracy: 0.9362\n",
            "Epoch 54/100\n",
            "2667/2667 [==============================] - 28s 10ms/step - loss: 0.1290 - accuracy: 0.9393 - val_loss: 0.1988 - val_accuracy: 0.9134\n",
            "Epoch 55/100\n",
            "2667/2667 [==============================] - 28s 10ms/step - loss: 0.1580 - accuracy: 0.9276 - val_loss: 0.1402 - val_accuracy: 0.9324\n",
            "Epoch 56/100\n",
            "2667/2667 [==============================] - 28s 10ms/step - loss: 0.1374 - accuracy: 0.9353 - val_loss: 0.2848 - val_accuracy: 0.8787\n",
            "Epoch 57/100\n",
            "2667/2667 [==============================] - 28s 10ms/step - loss: 0.1571 - accuracy: 0.9304 - val_loss: 0.1153 - val_accuracy: 0.9466\n",
            "Epoch 58/100\n",
            "2667/2667 [==============================] - 28s 10ms/step - loss: 0.1118 - accuracy: 0.9480 - val_loss: 0.1996 - val_accuracy: 0.9067\n",
            "Epoch 59/100\n",
            "2667/2667 [==============================] - 28s 10ms/step - loss: 0.1171 - accuracy: 0.9458 - val_loss: 0.1053 - val_accuracy: 0.9533\n",
            "Epoch 60/100\n",
            "2667/2667 [==============================] - 28s 10ms/step - loss: 0.0902 - accuracy: 0.9604 - val_loss: 0.0826 - val_accuracy: 0.9649\n",
            "Epoch 61/100\n",
            "2667/2667 [==============================] - 28s 10ms/step - loss: 0.1506 - accuracy: 0.9300 - val_loss: 0.4064 - val_accuracy: 0.8070\n",
            "Epoch 62/100\n",
            "2667/2667 [==============================] - 28s 10ms/step - loss: 0.1569 - accuracy: 0.9311 - val_loss: 0.0706 - val_accuracy: 0.9724\n",
            "Epoch 63/100\n",
            "2667/2667 [==============================] - 28s 10ms/step - loss: 0.1634 - accuracy: 0.9316 - val_loss: 0.2491 - val_accuracy: 0.8931\n",
            "Epoch 64/100\n",
            "2667/2667 [==============================] - 28s 10ms/step - loss: 0.1883 - accuracy: 0.9197 - val_loss: 0.1445 - val_accuracy: 0.9393\n",
            "Epoch 65/100\n",
            "2667/2667 [==============================] - 28s 10ms/step - loss: 0.1347 - accuracy: 0.9405 - val_loss: 0.1199 - val_accuracy: 0.9443\n",
            "Epoch 66/100\n",
            "2667/2667 [==============================] - 28s 10ms/step - loss: 0.1239 - accuracy: 0.9453 - val_loss: 0.1492 - val_accuracy: 0.9349\n",
            "Epoch 67/100\n",
            "2667/2667 [==============================] - 28s 10ms/step - loss: 0.1165 - accuracy: 0.9481 - val_loss: 0.0905 - val_accuracy: 0.9592\n",
            "Epoch 68/100\n",
            "2667/2667 [==============================] - 28s 10ms/step - loss: 0.0951 - accuracy: 0.9614 - val_loss: 0.0822 - val_accuracy: 0.9685\n",
            "Epoch 69/100\n",
            "2667/2667 [==============================] - 28s 10ms/step - loss: 0.0743 - accuracy: 0.9708 - val_loss: 0.0486 - val_accuracy: 0.9801\n",
            "Epoch 70/100\n",
            "2667/2667 [==============================] - 28s 10ms/step - loss: 0.0583 - accuracy: 0.9768 - val_loss: 0.0451 - val_accuracy: 0.9822\n",
            "Epoch 71/100\n",
            "2667/2667 [==============================] - 27s 10ms/step - loss: 0.0507 - accuracy: 0.9819 - val_loss: 0.0445 - val_accuracy: 0.9837\n",
            "Epoch 72/100\n",
            "2667/2667 [==============================] - 28s 10ms/step - loss: 0.0398 - accuracy: 0.9855 - val_loss: 0.0380 - val_accuracy: 0.9858\n"
          ],
          "name": "stdout"
        },
        {
          "output_type": "stream",
          "text": [
            "WARNING:absl:Found untraced functions such as lstm_cell_6_layer_call_fn, lstm_cell_6_layer_call_and_return_conditional_losses, lstm_cell_7_layer_call_fn, lstm_cell_7_layer_call_and_return_conditional_losses, lstm_cell_6_layer_call_fn while saving (showing 5 of 10). These functions will not be directly callable after loading.\n"
          ],
          "name": "stderr"
        },
        {
          "output_type": "stream",
          "text": [
            "INFO:tensorflow:Assets written to: BestModel/assets\n"
          ],
          "name": "stdout"
        },
        {
          "output_type": "stream",
          "text": [
            "INFO:tensorflow:Assets written to: BestModel/assets\n"
          ],
          "name": "stderr"
        },
        {
          "output_type": "stream",
          "text": [
            "Epoch 73/100\n",
            "2667/2667 [==============================] - 27s 10ms/step - loss: 0.5030 - accuracy: 0.6817 - val_loss: 0.6212 - val_accuracy: 0.6603\n",
            "Epoch 74/100\n",
            "2667/2667 [==============================] - 27s 10ms/step - loss: 0.5978 - accuracy: 0.6712 - val_loss: 0.5880 - val_accuracy: 0.6795\n",
            "Epoch 75/100\n",
            "2667/2667 [==============================] - 27s 10ms/step - loss: 0.5823 - accuracy: 0.6864 - val_loss: 0.5955 - val_accuracy: 0.6768\n",
            "Epoch 76/100\n",
            "2667/2667 [==============================] - 27s 10ms/step - loss: 0.5813 - accuracy: 0.6814 - val_loss: 0.5857 - val_accuracy: 0.6750\n",
            "Epoch 77/100\n",
            "2667/2667 [==============================] - 27s 10ms/step - loss: 0.5653 - accuracy: 0.6916 - val_loss: 0.5783 - val_accuracy: 0.6879\n",
            "Epoch 78/100\n",
            "2667/2667 [==============================] - 27s 10ms/step - loss: 0.5711 - accuracy: 0.6909 - val_loss: 0.5591 - val_accuracy: 0.6994\n",
            "Epoch 79/100\n",
            "2667/2667 [==============================] - 28s 10ms/step - loss: 0.5337 - accuracy: 0.7229 - val_loss: 0.5099 - val_accuracy: 0.7432\n",
            "Epoch 80/100\n",
            "2667/2667 [==============================] - 27s 10ms/step - loss: 0.5221 - accuracy: 0.7330 - val_loss: 0.5750 - val_accuracy: 0.6891\n",
            "Epoch 81/100\n",
            "2667/2667 [==============================] - 27s 10ms/step - loss: 0.5838 - accuracy: 0.6838 - val_loss: 0.5712 - val_accuracy: 0.6935\n",
            "Epoch 82/100\n",
            "2667/2667 [==============================] - 27s 10ms/step - loss: 0.5718 - accuracy: 0.6930 - val_loss: 0.5672 - val_accuracy: 0.6956\n",
            "Epoch 83/100\n",
            "2667/2667 [==============================] - 27s 10ms/step - loss: 0.5683 - accuracy: 0.6935 - val_loss: 0.5712 - val_accuracy: 0.6924\n",
            "Epoch 84/100\n",
            "2667/2667 [==============================] - 27s 10ms/step - loss: 0.5665 - accuracy: 0.6920 - val_loss: 0.5749 - val_accuracy: 0.6929\n",
            "Epoch 85/100\n",
            "2667/2667 [==============================] - 27s 10ms/step - loss: 0.5639 - accuracy: 0.6961 - val_loss: 0.5557 - val_accuracy: 0.7043\n",
            "Epoch 86/100\n",
            "2667/2667 [==============================] - 27s 10ms/step - loss: 0.5617 - accuracy: 0.6972 - val_loss: 0.5540 - val_accuracy: 0.7060\n",
            "Epoch 87/100\n",
            "2667/2667 [==============================] - 27s 10ms/step - loss: 0.5304 - accuracy: 0.7280 - val_loss: 0.5463 - val_accuracy: 0.7137\n",
            "Epoch 88/100\n",
            "2667/2667 [==============================] - 27s 10ms/step - loss: 0.5565 - accuracy: 0.7038 - val_loss: 0.3634 - val_accuracy: 0.8360\n",
            "Epoch 89/100\n",
            "2667/2667 [==============================] - 27s 10ms/step - loss: 0.3136 - accuracy: 0.8619 - val_loss: 0.2388 - val_accuracy: 0.8965\n",
            "Epoch 90/100\n",
            "2667/2667 [==============================] - 28s 10ms/step - loss: 0.2451 - accuracy: 0.8942 - val_loss: 0.2059 - val_accuracy: 0.9077\n",
            "Epoch 91/100\n",
            "2667/2667 [==============================] - 27s 10ms/step - loss: 0.2145 - accuracy: 0.9067 - val_loss: 0.1811 - val_accuracy: 0.9184\n",
            "Epoch 92/100\n",
            "2667/2667 [==============================] - 28s 10ms/step - loss: 0.2313 - accuracy: 0.8953 - val_loss: 0.5121 - val_accuracy: 0.7507\n",
            "Epoch 93/100\n",
            "2667/2667 [==============================] - 27s 10ms/step - loss: 0.4068 - accuracy: 0.8135 - val_loss: 0.1909 - val_accuracy: 0.9173\n",
            "Epoch 94/100\n",
            "2667/2667 [==============================] - 28s 10ms/step - loss: 0.1829 - accuracy: 0.9231 - val_loss: 0.1666 - val_accuracy: 0.9291\n",
            "Epoch 95/100\n",
            "2667/2667 [==============================] - 27s 10ms/step - loss: 0.1659 - accuracy: 0.9310 - val_loss: 0.1286 - val_accuracy: 0.9436\n",
            "Epoch 96/100\n",
            "2667/2667 [==============================] - 28s 10ms/step - loss: 0.1147 - accuracy: 0.9559 - val_loss: 0.4089 - val_accuracy: 0.8182\n",
            "Epoch 97/100\n",
            "2667/2667 [==============================] - 27s 10ms/step - loss: 0.1974 - accuracy: 0.9178 - val_loss: 0.0805 - val_accuracy: 0.9692\n",
            "Epoch 98/100\n",
            "2667/2667 [==============================] - 27s 10ms/step - loss: 0.0719 - accuracy: 0.9738 - val_loss: 0.0487 - val_accuracy: 0.9811\n",
            "Epoch 99/100\n",
            "2667/2667 [==============================] - 27s 10ms/step - loss: 0.0732 - accuracy: 0.9726 - val_loss: 0.0572 - val_accuracy: 0.9764\n",
            "Epoch 100/100\n",
            "2667/2667 [==============================] - 27s 10ms/step - loss: 0.0583 - accuracy: 0.9790 - val_loss: 0.0591 - val_accuracy: 0.9742\n",
            "Fold 3, 100 epochs, 2785 sec\n"
          ],
          "name": "stdout"
        },
        {
          "output_type": "display_data",
          "data": {
            "image/png": "[encoded data removed]",
            "text/plain": [
              "<Figure size 576x360 with 1 Axes>"
            ]
          },
          "metadata": {
            "tags": [],
            "needs_background": "light"
          }
        }
      ]
    },
    {
      "cell_type": "code",
      "metadata": {
        "id": "e-jG1h5fj2Ua",
        "colab": {
          "base_uri": "https://localhost:8080/"
        },
        "outputId": "e2bb3236-1434-42d9-dfdf-48ecf69fd07c"
      },
      "source": [
        "from keras.models import load_model\n",
        "X,y = prepare_inputs_len_x_alphabet(pc_test,nc_test,ALPHABET)\n",
        "best_model=load_model(MODELPATH)\n",
        "scores = best_model.evaluate(X, y, verbose=0)\n",
        "print(\"The best model parameters were saved during cross-validation.\")\n",
        "print(\"Best was defined as maximum validation accuracy at end of any epoch.\")\n",
        "print(\"Now re-load the best model and test it on previously unseen data.\")\n",
        "print(\"Test on\",len(pc_test),\"PC seqs\")\n",
        "print(\"Test on\",len(nc_test),\"NC seqs\")\n",
        "print(\"%s: %.2f%%\" % (best_model.metrics_names[1], scores[1]*100))\n"
      ],
      "execution_count": 12,
      "outputs": [
        {
          "output_type": "stream",
          "text": [
            "The best model parameters were saved during cross-validation.\n",
            "Best was defined as maximum validation accuracy at end of any epoch.\n",
            "Now re-load the best model and test it on previously unseen data.\n",
            "Test on 1000 PC seqs\n",
            "Test on 1000 NC seqs\n",
            "accuracy: 98.60%\n"
          ],
          "name": "stdout"
        }
      ]
    },
    {
      "cell_type": "code",
      "metadata": {
        "id": "VycUnmvUj2Ue",
        "colab": {
          "base_uri": "https://localhost:8080/",
          "height": 312
        },
        "outputId": "7b8e80d8-2751-49cd-e866-d6db9d35c9c7"
      },
      "source": [
        "from sklearn.metrics import roc_curve\n",
        "from sklearn.metrics import roc_auc_score\n",
        "ns_probs = [0 for _ in range(len(y))]\n",
        "bm_probs = best_model.predict(X)\n",
        "ns_auc = roc_auc_score(y, ns_probs)\n",
        "bm_auc = roc_auc_score(y, bm_probs)\n",
        "ns_fpr, ns_tpr, _ = roc_curve(y, ns_probs)\n",
        "bm_fpr, bm_tpr, _ = roc_curve(y, bm_probs)\n",
        "plt.plot(ns_fpr, ns_tpr, linestyle='--', label='Guess, auc=%.4f'%ns_auc)\n",
        "plt.plot(bm_fpr, bm_tpr, marker='.', label='Model, auc=%.4f'%bm_auc)\n",
        "plt.title('ROC')\n",
        "plt.xlabel('False Positive Rate')\n",
        "plt.ylabel('True Positive Rate')\n",
        "plt.legend()\n",
        "plt.show()\n",
        "print(\"%s: %.2f%%\" %('AUC',bm_auc*100.0))\n"
      ],
      "execution_count": 13,
      "outputs": [
        {
          "output_type": "display_data",
          "data": {
            "image/png": "[encoded data removed]",
            "text/plain": [
              "<Figure size 432x288 with 1 Axes>"
            ]
          },
          "metadata": {
            "tags": [],
            "needs_background": "light"
          }
        },
        {
          "output_type": "stream",
          "text": [
            "AUC: 99.89%\n"
          ],
          "name": "stdout"
        }
      ]
    },
    {
      "cell_type": "code",
      "metadata": {
        "id": "kFMb6rGNj2Ug",
        "colab": {
          "base_uri": "https://localhost:8080/",
          "height": 36
        },
        "outputId": "29fb4a0b-9d01-4e56-c203-a2447a19c63f"
      },
      "source": [
        "t = time.time()\n",
        "time.strftime('%Y-%m-%d %H:%M:%S %Z', time.localtime(t))"
      ],
      "execution_count": 14,
      "outputs": [
        {
          "output_type": "execute_result",
          "data": {
            "application/vnd.google.colaboratory.intrinsic+json": {
              "type": "string"
            },
            "text/plain": [
              "'2021-06-27 15:04:43 UTC'"
            ]
          },
          "metadata": {
            "tags": []
          },
          "execution_count": 14
        }
      ]
    },
    {
      "cell_type": "code",
      "metadata": {
        "id": "e-mEgDrQjUzF"
      },
      "source": [
        ""
      ],
      "execution_count": 14,
      "outputs": []
    }
  ]
}