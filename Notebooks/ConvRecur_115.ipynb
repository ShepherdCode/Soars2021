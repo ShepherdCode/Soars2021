{
  "nbformat": 4,
  "nbformat_minor": 0,
  "metadata": {
    "accelerator": "GPU",
    "colab": {
      "name": "ConvRecur_115.ipynb",
      "provenance": [],
      "collapsed_sections": []
    },
    "kernelspec": {
      "display_name": "Python 3",
      "language": "python",
      "name": "python3"
    },
    "language_info": {
      "codemirror_mode": {
        "name": "ipython",
        "version": 3
      },
      "file_extension": ".py",
      "mimetype": "text/x-python",
      "name": "python",
      "nbconvert_exporter": "python",
      "pygments_lexer": "ipython3",
      "version": "3.8.3"
    }
  },
  "cells": [
    {
      "cell_type": "markdown",
      "metadata": {
        "id": "0asdcdunj2Tx"
      },
      "source": [
        "# ORF recognition by Convolutional/Recurrent\n",
        "\n",
        "So far CNN+LSTM 64 overfits the 128 base RNA problem.\n",
        "That was using 32K samples/class. Here, try more samples. \n",
        "\n",
        "Also, build the model without specifying INPUT_SIZE.\n",
        "\n"
      ]
    },
    {
      "cell_type": "code",
      "metadata": {
        "colab": {
          "base_uri": "https://localhost:8080/",
          "height": 36
        },
        "id": "QP1VTRNQj2UO",
        "outputId": "0ec0bbc6-da06-483e-ca57-09fc79a5e342"
      },
      "source": [
        "import time \n",
        "t = time.time()\n",
        "time.strftime('%Y-%m-%d %H:%M:%S %Z', time.localtime(t))"
      ],
      "execution_count": 1,
      "outputs": [
        {
          "output_type": "execute_result",
          "data": {
            "application/vnd.google.colaboratory.intrinsic+json": {
              "type": "string"
            },
            "text/plain": [
              "'2021-06-22 17:31:18 UTC'"
            ]
          },
          "metadata": {
            "tags": []
          },
          "execution_count": 1
        }
      ]
    },
    {
      "cell_type": "code",
      "metadata": {
        "id": "Nhz4GKonj2T_"
      },
      "source": [
        "PC_SEQUENCES=64000   # how many protein-coding sequences\n",
        "NC_SEQUENCES=64000   # how many non-coding sequences\n",
        "PC_TESTS=1000\n",
        "NC_TESTS=1000\n",
        "RNA_LEN=128            # how long is each sequence\n",
        "CDS_LEN=64            # min CDS len to be coding\n",
        "ALPHABET=4          # how many different letters are possible\n",
        "INPUT_SHAPE_2D = (RNA_LEN,ALPHABET,1) # Conv2D needs 3D inputs\n",
        "INPUT_SHAPE = (RNA_LEN,ALPHABET) # Conv1D needs 2D inputs\n",
        "FILTERS = 64   # how many different patterns the model looks for\n",
        "CELLS = 64\n",
        "NEURONS = 64\n",
        "DROP_RATE = 0.4\n",
        "WIDTH = 3   # how wide each pattern is, in bases\n",
        "STRIDE_2D = (1,1)  # For Conv2D how far in each direction\n",
        "STRIDE = 1 # For Conv1D, how far between pattern matches, in bases\n",
        "EPOCHS=100  # how many times to train on all the data\n",
        "SPLITS=3  # SPLITS=3 means train on 2/3 and validate on 1/3 \n",
        "FOLDS=3  # train the model this many times (range 1 to SPLITS)"
      ],
      "execution_count": 2,
      "outputs": []
    },
    {
      "cell_type": "code",
      "metadata": {
        "colab": {
          "base_uri": "https://localhost:8080/"
        },
        "id": "lr7q90rxj2UE",
        "outputId": "45157da7-7b76-412d-d4b4-2ed27e983737"
      },
      "source": [
        "import sys\n",
        "IN_COLAB = False\n",
        "try:\n",
        "    from google.colab import drive\n",
        "    IN_COLAB = True\n",
        "except:\n",
        "    pass\n",
        "if IN_COLAB:\n",
        "    print(\"On Google CoLab, mount cloud-local file, get our code from GitHub.\")\n",
        "    PATH='/content/drive/'\n",
        "    #drive.mount(PATH,force_remount=True)  # hardly ever need this\n",
        "    #drive.mount(PATH)    # Google will require login credentials\n",
        "    DATAPATH=PATH+'My Drive/data/'  # must end in \"/\"\n",
        "    import requests\n",
        "    r = requests.get('https://raw.githubusercontent.com/ShepherdCode/Soars2021/master/SimTools/RNA_describe.py')\n",
        "    with open('RNA_describe.py', 'w') as f:\n",
        "        f.write(r.text)  \n",
        "    from RNA_describe import ORF_counter\n",
        "    from RNA_describe import Random_Base_Oracle\n",
        "    r = requests.get('https://raw.githubusercontent.com/ShepherdCode/Soars2021/master/SimTools/RNA_prep.py')\n",
        "    with open('RNA_prep.py', 'w') as f:\n",
        "        f.write(r.text)  \n",
        "    from RNA_prep import prepare_inputs_len_x_alphabet\n",
        "else:\n",
        "        print(\"CoLab not working. On my PC, use relative paths.\")\n",
        "        DATAPATH='data/'  # must end in \"/\"\n",
        "        sys.path.append(\"..\") # append parent dir in order to use sibling dirs\n",
        "        from SimTools.RNA_describe import ORF_counter,Random_Base_Oracle\n",
        "        from SimTools.RNA_prep import prepare_inputs_len_x_alphabet\n",
        "\n",
        "MODELPATH=\"BestModel\"  # saved on cloud instance and lost after logout\n",
        "#MODELPATH=DATAPATH+MODELPATH  # saved on Google Drive but requires login\n"
      ],
      "execution_count": 3,
      "outputs": [
        {
          "output_type": "stream",
          "text": [
            "On Google CoLab, mount cloud-local file, get our code from GitHub.\n"
          ],
          "name": "stdout"
        }
      ]
    },
    {
      "cell_type": "code",
      "metadata": {
        "id": "EGDXH8Uwj2UM"
      },
      "source": [
        "from os import listdir\n",
        "import csv\n",
        "from zipfile import ZipFile\n",
        "\n",
        "import numpy as np\n",
        "import pandas as pd\n",
        "from scipy import stats  # mode\n",
        "\n",
        "from sklearn.preprocessing import StandardScaler\n",
        "from sklearn.model_selection import KFold\n",
        "from sklearn.model_selection import cross_val_score\n",
        "\n",
        "from keras.models import Sequential\n",
        "from keras.layers import Dense,Embedding,Dropout\n",
        "from keras.layers import Conv1D,Conv2D\n",
        "from keras.layers import GRU,LSTM\n",
        "from keras.layers import Flatten,TimeDistributed\n",
        "from keras.layers import MaxPooling1D,MaxPooling2D\n",
        "from keras.losses import BinaryCrossentropy\n",
        "# tf.keras.losses.BinaryCrossentropy\n",
        "\n",
        "import matplotlib.pyplot as plt\n",
        "from matplotlib import colors\n",
        "mycmap = colors.ListedColormap(['red','blue'])  # list color for label 0 then 1\n",
        "np.set_printoptions(precision=2)\n"
      ],
      "execution_count": 4,
      "outputs": []
    },
    {
      "cell_type": "code",
      "metadata": {
        "colab": {
          "base_uri": "https://localhost:8080/"
        },
        "id": "CUOG_jEvGtOm",
        "outputId": "9cb510af-3e41-4cae-ae37-5aeef98b3f02"
      },
      "source": [
        "rbo=Random_Base_Oracle(RNA_LEN,True)\n",
        "pc_all,nc_all = rbo.get_partitioned_sequences(CDS_LEN,10) # just testing\n",
        "pc_all,nc_all = rbo.get_partitioned_sequences(CDS_LEN,PC_SEQUENCES+PC_TESTS)\n",
        "print(\"Use\",len(pc_all),\"PC seqs\")\n",
        "print(\"Use\",len(nc_all),\"NC seqs\")"
      ],
      "execution_count": 5,
      "outputs": [
        {
          "output_type": "stream",
          "text": [
            "It took 53 trials to reach 10 per class.\n",
            "It took 256597 trials to reach 65000 per class.\n",
            "Use 65000 PC seqs\n",
            "Use 65000 NC seqs\n"
          ],
          "name": "stdout"
        }
      ]
    },
    {
      "cell_type": "code",
      "metadata": {
        "colab": {
          "base_uri": "https://localhost:8080/"
        },
        "id": "Q-BmSXi2jUyl",
        "outputId": "2e48ed2d-1da9-4fb4-f712-14b9eac94eed"
      },
      "source": [
        "# Describe the sequences\n",
        "def describe_sequences(list_of_seq):\n",
        "    oc = ORF_counter()\n",
        "    num_seq = len(list_of_seq)\n",
        "    rna_lens = np.zeros(num_seq)\n",
        "    orf_lens = np.zeros(num_seq)\n",
        "    for i in range(0,num_seq):\n",
        "        rna_len = len(list_of_seq[i])\n",
        "        rna_lens[i] = rna_len\n",
        "        oc.set_sequence(list_of_seq[i])\n",
        "        orf_len = oc.get_max_orf_len()\n",
        "        orf_lens[i] = orf_len\n",
        "    print (\"Average RNA length:\",rna_lens.mean())\n",
        "    print (\"Average ORF length:\",orf_lens.mean())\n",
        "    \n",
        "print(\"Simulated sequences prior to adjustment:\")\n",
        "print(\"PC seqs\")\n",
        "describe_sequences(pc_all)\n",
        "print(\"NC seqs\")\n",
        "describe_sequences(nc_all)"
      ],
      "execution_count": 6,
      "outputs": [
        {
          "output_type": "stream",
          "text": [
            "Simulated sequences prior to adjustment:\n",
            "PC seqs\n",
            "Average RNA length: 128.0\n",
            "Average ORF length: 81.204\n",
            "NC seqs\n",
            "Average RNA length: 128.0\n",
            "Average ORF length: 28.948384615384615\n"
          ],
          "name": "stdout"
        }
      ]
    },
    {
      "cell_type": "code",
      "metadata": {
        "id": "iP1y7-J3jUys"
      },
      "source": [
        "pc_train=pc_all[:PC_SEQUENCES]\n",
        "nc_train=nc_all[:NC_SEQUENCES]\n",
        "pc_test=pc_all[PC_SEQUENCES:]\n",
        "nc_test=nc_all[NC_SEQUENCES:]"
      ],
      "execution_count": 7,
      "outputs": []
    },
    {
      "cell_type": "code",
      "metadata": {
        "colab": {
          "base_uri": "https://localhost:8080/"
        },
        "id": "CIpTrnH6j2US",
        "outputId": "306e0a18-fc49-47c5-96d2-e1e2dad43c7a"
      },
      "source": [
        "# Use code from our SimTools library.\n",
        "X,y = prepare_inputs_len_x_alphabet(pc_train,nc_train,ALPHABET) # shuffles\n",
        "print(\"Data ready.\")"
      ],
      "execution_count": 8,
      "outputs": [
        {
          "output_type": "stream",
          "text": [
            "Data ready.\n"
          ],
          "name": "stdout"
        }
      ]
    },
    {
      "cell_type": "code",
      "metadata": {
        "colab": {
          "base_uri": "https://localhost:8080/"
        },
        "id": "7NvrVU8ij2UU",
        "outputId": "3054b003-a16f-4d21-9c05-82a519cf9925"
      },
      "source": [
        "def make_DNN():\n",
        "    print(\"make_DNN\")\n",
        "    print(\"input shape:\",INPUT_SHAPE)\n",
        "    dnn = Sequential()\n",
        "    #dnn.add(Embedding(input_dim=INPUT_SHAPE,output_dim=INPUT_SHAPE)) \n",
        "    dnn.add(Conv1D(filters=FILTERS,kernel_size=WIDTH,strides=STRIDE,padding=\"same\",\n",
        "            input_shape=INPUT_SHAPE))\n",
        "    dnn.add(Conv1D(filters=FILTERS,kernel_size=WIDTH,strides=STRIDE,padding=\"same\"))\n",
        "    dnn.add(MaxPooling1D())\n",
        "    #dnn.add(Conv1D(filters=FILTERS,kernel_size=WIDTH,strides=STRIDE,padding=\"same\"))\n",
        "    #dnn.add(Conv1D(filters=FILTERS,kernel_size=WIDTH,strides=STRIDE,padding=\"same\"))\n",
        "    #dnn.add(MaxPooling1D())\n",
        "    #dnn.add(TimeDistributed(Flatten()))\n",
        "    dnn.add(LSTM(CELLS,return_sequences=True))\n",
        "    dnn.add(LSTM(CELLS,return_sequences=False))\n",
        "    dnn.add(Dense(NEURONS,activation=\"sigmoid\",dtype=np.float32))   \n",
        "    dnn.add(Dropout(DROP_RATE))\n",
        "    dnn.add(Dense(1,activation=\"sigmoid\",dtype=np.float32))   \n",
        "    dnn.compile(optimizer='adam',\n",
        "                loss=BinaryCrossentropy(from_logits=False),\n",
        "                metrics=['accuracy'])   # add to default metrics=loss\n",
        "    #dnn.build(input_shape=INPUT_SHAPE)   \n",
        "    dnn.build()   \n",
        "    #ln_rate = tf.keras.optimizers.Adam(learning_rate = LN_RATE)\n",
        "    #bc=tf.keras.losses.BinaryCrossentropy(from_logits=False)\n",
        "    #model.compile(loss=bc, optimizer=ln_rate, metrics=[\"accuracy\"])\n",
        "    return dnn\n",
        "model = make_DNN()\n",
        "print(model.summary())"
      ],
      "execution_count": 9,
      "outputs": [
        {
          "output_type": "stream",
          "text": [
            "make_DNN\n",
            "input shape: (128, 4)\n",
            "Model: \"sequential\"\n",
            "_________________________________________________________________\n",
            "Layer (type)                 Output Shape              Param #   \n",
            "=================================================================\n",
            "conv1d (Conv1D)              (None, 128, 64)           832       \n",
            "_________________________________________________________________\n",
            "conv1d_1 (Conv1D)            (None, 128, 64)           12352     \n",
            "_________________________________________________________________\n",
            "max_pooling1d (MaxPooling1D) (None, 64, 64)            0         \n",
            "_________________________________________________________________\n",
            "lstm (LSTM)                  (None, 64, 64)            33024     \n",
            "_________________________________________________________________\n",
            "lstm_1 (LSTM)                (None, 64)                33024     \n",
            "_________________________________________________________________\n",
            "dense (Dense)                (None, 64)                4160      \n",
            "_________________________________________________________________\n",
            "dropout (Dropout)            (None, 64)                0         \n",
            "_________________________________________________________________\n",
            "dense_1 (Dense)              (None, 1)                 65        \n",
            "=================================================================\n",
            "Total params: 83,457\n",
            "Trainable params: 83,457\n",
            "Non-trainable params: 0\n",
            "_________________________________________________________________\n",
            "None\n"
          ],
          "name": "stdout"
        }
      ]
    },
    {
      "cell_type": "code",
      "metadata": {
        "id": "nlVF0hR3j2UW"
      },
      "source": [
        "from keras.callbacks import ModelCheckpoint\n",
        "def do_cross_validation(X,y):\n",
        "    cv_scores = []\n",
        "    fold=0\n",
        "    mycallbacks = [ModelCheckpoint(\n",
        "        filepath=MODELPATH, save_best_only=True, \n",
        "        monitor='val_accuracy', mode='max')]   \n",
        "    splitter = KFold(n_splits=SPLITS)  # this does not shuffle\n",
        "    for train_index,valid_index in splitter.split(X):\n",
        "        if fold < FOLDS:\n",
        "            fold += 1\n",
        "            X_train=X[train_index] # inputs for training\n",
        "            y_train=y[train_index] # labels for training\n",
        "            X_valid=X[valid_index] # inputs for validation\n",
        "            y_valid=y[valid_index] # labels for validation\n",
        "            print(\"MODEL\")\n",
        "            # Call constructor on each CV. Else, continually improves the same model.\n",
        "            model = model = make_DNN()\n",
        "            print(\"FIT\")  # model.fit() implements learning\n",
        "            start_time=time.time()\n",
        "            history=model.fit(X_train, y_train, \n",
        "                    epochs=EPOCHS, \n",
        "                    verbose=1,  # ascii art while learning\n",
        "                    callbacks=mycallbacks,   # called at end of each epoch\n",
        "                    validation_data=(X_valid,y_valid))\n",
        "            end_time=time.time()\n",
        "            elapsed_time=(end_time-start_time)                        \n",
        "            print(\"Fold %d, %d epochs, %d sec\"%(fold,EPOCHS,elapsed_time))\n",
        "            # print(history.history.keys())  # all these keys will be shown in figure\n",
        "            pd.DataFrame(history.history).plot(figsize=(8,5))\n",
        "            plt.grid(True)\n",
        "            plt.gca().set_ylim(0,1) # any losses > 1 will be off the scale\n",
        "            plt.show()\n"
      ],
      "execution_count": 10,
      "outputs": []
    },
    {
      "cell_type": "code",
      "metadata": {
        "colab": {
          "base_uri": "https://localhost:8080/",
          "height": 1000
        },
        "id": "9Ggt4EsSj2UY",
        "outputId": "0d1a5a16-6244-49a7-afeb-4dd2472962a7"
      },
      "source": [
        "do_cross_validation(X,y)"
      ],
      "execution_count": null,
      "outputs": [
        {
          "output_type": "stream",
          "text": [
            "MODEL\n",
            "make_DNN\n",
            "input shape: (128, 4)\n",
            "FIT\n",
            "Epoch 1/100\n",
            "2667/2667 [==============================] - 72s 13ms/step - loss: 0.7048 - accuracy: 0.5071 - val_loss: 0.6700 - val_accuracy: 0.5867\n"
          ],
          "name": "stdout"
        },
        {
          "output_type": "stream",
          "text": [
            "WARNING:absl:Found untraced functions such as lstm_cell_2_layer_call_and_return_conditional_losses, lstm_cell_2_layer_call_fn, lstm_cell_3_layer_call_and_return_conditional_losses, lstm_cell_3_layer_call_fn, lstm_cell_2_layer_call_fn while saving (showing 5 of 10). These functions will not be directly callable after loading.\n"
          ],
          "name": "stderr"
        },
        {
          "output_type": "stream",
          "text": [
            "INFO:tensorflow:Assets written to: BestModel/assets\n"
          ],
          "name": "stdout"
        },
        {
          "output_type": "stream",
          "text": [
            "INFO:tensorflow:Assets written to: BestModel/assets\n"
          ],
          "name": "stderr"
        },
        {
          "output_type": "stream",
          "text": [
            "Epoch 2/100\n",
            "2667/2667 [==============================] - 34s 13ms/step - loss: 0.6542 - accuracy: 0.6142 - val_loss: 0.6298 - val_accuracy: 0.6387\n"
          ],
          "name": "stdout"
        },
        {
          "output_type": "stream",
          "text": [
            "WARNING:absl:Found untraced functions such as lstm_cell_2_layer_call_and_return_conditional_losses, lstm_cell_2_layer_call_fn, lstm_cell_3_layer_call_and_return_conditional_losses, lstm_cell_3_layer_call_fn, lstm_cell_2_layer_call_fn while saving (showing 5 of 10). These functions will not be directly callable after loading.\n"
          ],
          "name": "stderr"
        },
        {
          "output_type": "stream",
          "text": [
            "INFO:tensorflow:Assets written to: BestModel/assets\n"
          ],
          "name": "stdout"
        },
        {
          "output_type": "stream",
          "text": [
            "INFO:tensorflow:Assets written to: BestModel/assets\n"
          ],
          "name": "stderr"
        },
        {
          "output_type": "stream",
          "text": [
            "Epoch 3/100\n",
            "2667/2667 [==============================] - 34s 13ms/step - loss: 0.6236 - accuracy: 0.6470 - val_loss: 0.5873 - val_accuracy: 0.6824\n"
          ],
          "name": "stdout"
        },
        {
          "output_type": "stream",
          "text": [
            "WARNING:absl:Found untraced functions such as lstm_cell_2_layer_call_and_return_conditional_losses, lstm_cell_2_layer_call_fn, lstm_cell_3_layer_call_and_return_conditional_losses, lstm_cell_3_layer_call_fn, lstm_cell_2_layer_call_fn while saving (showing 5 of 10). These functions will not be directly callable after loading.\n"
          ],
          "name": "stderr"
        },
        {
          "output_type": "stream",
          "text": [
            "INFO:tensorflow:Assets written to: BestModel/assets\n"
          ],
          "name": "stdout"
        },
        {
          "output_type": "stream",
          "text": [
            "INFO:tensorflow:Assets written to: BestModel/assets\n"
          ],
          "name": "stderr"
        },
        {
          "output_type": "stream",
          "text": [
            "Epoch 4/100\n",
            "2667/2667 [==============================] - 34s 13ms/step - loss: 0.5869 - accuracy: 0.6835 - val_loss: 0.5659 - val_accuracy: 0.6948\n"
          ],
          "name": "stdout"
        },
        {
          "output_type": "stream",
          "text": [
            "WARNING:absl:Found untraced functions such as lstm_cell_2_layer_call_and_return_conditional_losses, lstm_cell_2_layer_call_fn, lstm_cell_3_layer_call_and_return_conditional_losses, lstm_cell_3_layer_call_fn, lstm_cell_2_layer_call_fn while saving (showing 5 of 10). These functions will not be directly callable after loading.\n"
          ],
          "name": "stderr"
        },
        {
          "output_type": "stream",
          "text": [
            "INFO:tensorflow:Assets written to: BestModel/assets\n"
          ],
          "name": "stdout"
        },
        {
          "output_type": "stream",
          "text": [
            "INFO:tensorflow:Assets written to: BestModel/assets\n"
          ],
          "name": "stderr"
        },
        {
          "output_type": "stream",
          "text": [
            "Epoch 5/100\n",
            "2667/2667 [==============================] - 34s 13ms/step - loss: 0.5705 - accuracy: 0.6948 - val_loss: 0.5593 - val_accuracy: 0.6996\n"
          ],
          "name": "stdout"
        },
        {
          "output_type": "stream",
          "text": [
            "WARNING:absl:Found untraced functions such as lstm_cell_2_layer_call_and_return_conditional_losses, lstm_cell_2_layer_call_fn, lstm_cell_3_layer_call_and_return_conditional_losses, lstm_cell_3_layer_call_fn, lstm_cell_2_layer_call_fn while saving (showing 5 of 10). These functions will not be directly callable after loading.\n"
          ],
          "name": "stderr"
        },
        {
          "output_type": "stream",
          "text": [
            "INFO:tensorflow:Assets written to: BestModel/assets\n"
          ],
          "name": "stdout"
        },
        {
          "output_type": "stream",
          "text": [
            "INFO:tensorflow:Assets written to: BestModel/assets\n"
          ],
          "name": "stderr"
        },
        {
          "output_type": "stream",
          "text": [
            "Epoch 6/100\n",
            "2667/2667 [==============================] - 34s 13ms/step - loss: 0.5595 - accuracy: 0.6997 - val_loss: 0.5633 - val_accuracy: 0.6901\n",
            "Epoch 7/100\n",
            "2667/2667 [==============================] - 34s 13ms/step - loss: 0.5552 - accuracy: 0.7005 - val_loss: 0.5488 - val_accuracy: 0.7030\n"
          ],
          "name": "stdout"
        },
        {
          "output_type": "stream",
          "text": [
            "WARNING:absl:Found untraced functions such as lstm_cell_2_layer_call_and_return_conditional_losses, lstm_cell_2_layer_call_fn, lstm_cell_3_layer_call_and_return_conditional_losses, lstm_cell_3_layer_call_fn, lstm_cell_2_layer_call_fn while saving (showing 5 of 10). These functions will not be directly callable after loading.\n"
          ],
          "name": "stderr"
        },
        {
          "output_type": "stream",
          "text": [
            "INFO:tensorflow:Assets written to: BestModel/assets\n"
          ],
          "name": "stdout"
        },
        {
          "output_type": "stream",
          "text": [
            "INFO:tensorflow:Assets written to: BestModel/assets\n"
          ],
          "name": "stderr"
        },
        {
          "output_type": "stream",
          "text": [
            "Epoch 8/100\n",
            "2667/2667 [==============================] - 34s 13ms/step - loss: 0.5532 - accuracy: 0.7023 - val_loss: 0.5549 - val_accuracy: 0.7011\n",
            "Epoch 9/100\n",
            "2667/2667 [==============================] - 34s 13ms/step - loss: 0.5495 - accuracy: 0.7070 - val_loss: 0.5465 - val_accuracy: 0.7035\n"
          ],
          "name": "stdout"
        },
        {
          "output_type": "stream",
          "text": [
            "WARNING:absl:Found untraced functions such as lstm_cell_2_layer_call_and_return_conditional_losses, lstm_cell_2_layer_call_fn, lstm_cell_3_layer_call_and_return_conditional_losses, lstm_cell_3_layer_call_fn, lstm_cell_2_layer_call_fn while saving (showing 5 of 10). These functions will not be directly callable after loading.\n"
          ],
          "name": "stderr"
        },
        {
          "output_type": "stream",
          "text": [
            "INFO:tensorflow:Assets written to: BestModel/assets\n"
          ],
          "name": "stdout"
        },
        {
          "output_type": "stream",
          "text": [
            "INFO:tensorflow:Assets written to: BestModel/assets\n"
          ],
          "name": "stderr"
        },
        {
          "output_type": "stream",
          "text": [
            "Epoch 10/100\n",
            "2667/2667 [==============================] - 34s 13ms/step - loss: 0.5478 - accuracy: 0.7061 - val_loss: 0.5520 - val_accuracy: 0.7011\n",
            "Epoch 11/100\n",
            "2667/2667 [==============================] - 34s 13ms/step - loss: 0.5428 - accuracy: 0.7120 - val_loss: 0.5657 - val_accuracy: 0.6945\n",
            "Epoch 12/100\n",
            "2667/2667 [==============================] - 34s 13ms/step - loss: 0.5484 - accuracy: 0.7052 - val_loss: 0.5488 - val_accuracy: 0.7056\n"
          ],
          "name": "stdout"
        },
        {
          "output_type": "stream",
          "text": [
            "WARNING:absl:Found untraced functions such as lstm_cell_2_layer_call_and_return_conditional_losses, lstm_cell_2_layer_call_fn, lstm_cell_3_layer_call_and_return_conditional_losses, lstm_cell_3_layer_call_fn, lstm_cell_2_layer_call_fn while saving (showing 5 of 10). These functions will not be directly callable after loading.\n"
          ],
          "name": "stderr"
        },
        {
          "output_type": "stream",
          "text": [
            "INFO:tensorflow:Assets written to: BestModel/assets\n"
          ],
          "name": "stdout"
        },
        {
          "output_type": "stream",
          "text": [
            "INFO:tensorflow:Assets written to: BestModel/assets\n"
          ],
          "name": "stderr"
        },
        {
          "output_type": "stream",
          "text": [
            "Epoch 13/100\n",
            "2667/2667 [==============================] - 34s 13ms/step - loss: 0.5356 - accuracy: 0.7161 - val_loss: 0.5417 - val_accuracy: 0.7087\n"
          ],
          "name": "stdout"
        },
        {
          "output_type": "stream",
          "text": [
            "WARNING:absl:Found untraced functions such as lstm_cell_2_layer_call_and_return_conditional_losses, lstm_cell_2_layer_call_fn, lstm_cell_3_layer_call_and_return_conditional_losses, lstm_cell_3_layer_call_fn, lstm_cell_2_layer_call_fn while saving (showing 5 of 10). These functions will not be directly callable after loading.\n"
          ],
          "name": "stderr"
        },
        {
          "output_type": "stream",
          "text": [
            "INFO:tensorflow:Assets written to: BestModel/assets\n"
          ],
          "name": "stdout"
        },
        {
          "output_type": "stream",
          "text": [
            "INFO:tensorflow:Assets written to: BestModel/assets\n"
          ],
          "name": "stderr"
        },
        {
          "output_type": "stream",
          "text": [
            "Epoch 14/100\n",
            "2667/2667 [==============================] - 34s 13ms/step - loss: 0.5333 - accuracy: 0.7169 - val_loss: 0.5472 - val_accuracy: 0.7075\n",
            "Epoch 15/100\n",
            "2667/2667 [==============================] - 34s 13ms/step - loss: 0.5309 - accuracy: 0.7188 - val_loss: 0.5457 - val_accuracy: 0.7043\n",
            "Epoch 16/100\n",
            "2667/2667 [==============================] - 34s 13ms/step - loss: 0.5293 - accuracy: 0.7174 - val_loss: 0.5468 - val_accuracy: 0.7042\n",
            "Epoch 17/100\n",
            "2667/2667 [==============================] - 38s 14ms/step - loss: 0.5275 - accuracy: 0.7196 - val_loss: 0.5436 - val_accuracy: 0.7067\n",
            "Epoch 18/100\n",
            "2667/2667 [==============================] - 34s 13ms/step - loss: 0.5239 - accuracy: 0.7249 - val_loss: 0.5460 - val_accuracy: 0.7081\n",
            "Epoch 19/100\n",
            "2667/2667 [==============================] - 34s 13ms/step - loss: 0.5198 - accuracy: 0.7259 - val_loss: 0.5402 - val_accuracy: 0.7113\n"
          ],
          "name": "stdout"
        },
        {
          "output_type": "stream",
          "text": [
            "WARNING:absl:Found untraced functions such as lstm_cell_2_layer_call_and_return_conditional_losses, lstm_cell_2_layer_call_fn, lstm_cell_3_layer_call_and_return_conditional_losses, lstm_cell_3_layer_call_fn, lstm_cell_2_layer_call_fn while saving (showing 5 of 10). These functions will not be directly callable after loading.\n"
          ],
          "name": "stderr"
        },
        {
          "output_type": "stream",
          "text": [
            "INFO:tensorflow:Assets written to: BestModel/assets\n"
          ],
          "name": "stdout"
        },
        {
          "output_type": "stream",
          "text": [
            "INFO:tensorflow:Assets written to: BestModel/assets\n"
          ],
          "name": "stderr"
        },
        {
          "output_type": "stream",
          "text": [
            "Epoch 20/100\n",
            "2667/2667 [==============================] - 34s 13ms/step - loss: 0.5144 - accuracy: 0.7279 - val_loss: 0.5452 - val_accuracy: 0.7076\n",
            "Epoch 21/100\n",
            "2667/2667 [==============================] - 34s 13ms/step - loss: 0.5115 - accuracy: 0.7308 - val_loss: 0.5360 - val_accuracy: 0.7128\n"
          ],
          "name": "stdout"
        },
        {
          "output_type": "stream",
          "text": [
            "WARNING:absl:Found untraced functions such as lstm_cell_2_layer_call_and_return_conditional_losses, lstm_cell_2_layer_call_fn, lstm_cell_3_layer_call_and_return_conditional_losses, lstm_cell_3_layer_call_fn, lstm_cell_2_layer_call_fn while saving (showing 5 of 10). These functions will not be directly callable after loading.\n"
          ],
          "name": "stderr"
        },
        {
          "output_type": "stream",
          "text": [
            "INFO:tensorflow:Assets written to: BestModel/assets\n"
          ],
          "name": "stdout"
        },
        {
          "output_type": "stream",
          "text": [
            "INFO:tensorflow:Assets written to: BestModel/assets\n"
          ],
          "name": "stderr"
        },
        {
          "output_type": "stream",
          "text": [
            "Epoch 22/100\n",
            "2667/2667 [==============================] - 34s 13ms/step - loss: 0.5075 - accuracy: 0.7360 - val_loss: 0.5321 - val_accuracy: 0.7187\n"
          ],
          "name": "stdout"
        },
        {
          "output_type": "stream",
          "text": [
            "WARNING:absl:Found untraced functions such as lstm_cell_2_layer_call_and_return_conditional_losses, lstm_cell_2_layer_call_fn, lstm_cell_3_layer_call_and_return_conditional_losses, lstm_cell_3_layer_call_fn, lstm_cell_2_layer_call_fn while saving (showing 5 of 10). These functions will not be directly callable after loading.\n"
          ],
          "name": "stderr"
        },
        {
          "output_type": "stream",
          "text": [
            "INFO:tensorflow:Assets written to: BestModel/assets\n"
          ],
          "name": "stdout"
        },
        {
          "output_type": "stream",
          "text": [
            "INFO:tensorflow:Assets written to: BestModel/assets\n"
          ],
          "name": "stderr"
        },
        {
          "output_type": "stream",
          "text": [
            "Epoch 23/100\n",
            "2667/2667 [==============================] - 34s 13ms/step - loss: 0.4959 - accuracy: 0.7449 - val_loss: 0.5056 - val_accuracy: 0.7487\n"
          ],
          "name": "stdout"
        },
        {
          "output_type": "stream",
          "text": [
            "WARNING:absl:Found untraced functions such as lstm_cell_2_layer_call_and_return_conditional_losses, lstm_cell_2_layer_call_fn, lstm_cell_3_layer_call_and_return_conditional_losses, lstm_cell_3_layer_call_fn, lstm_cell_2_layer_call_fn while saving (showing 5 of 10). These functions will not be directly callable after loading.\n"
          ],
          "name": "stderr"
        },
        {
          "output_type": "stream",
          "text": [
            "INFO:tensorflow:Assets written to: BestModel/assets\n"
          ],
          "name": "stdout"
        },
        {
          "output_type": "stream",
          "text": [
            "INFO:tensorflow:Assets written to: BestModel/assets\n"
          ],
          "name": "stderr"
        },
        {
          "output_type": "stream",
          "text": [
            "Epoch 24/100\n",
            "2667/2667 [==============================] - 34s 13ms/step - loss: 0.5087 - accuracy: 0.7464 - val_loss: 0.5600 - val_accuracy: 0.7030\n",
            "Epoch 25/100\n",
            "2667/2667 [==============================] - 34s 13ms/step - loss: 0.5004 - accuracy: 0.7472 - val_loss: 0.4583 - val_accuracy: 0.7747\n"
          ],
          "name": "stdout"
        },
        {
          "output_type": "stream",
          "text": [
            "WARNING:absl:Found untraced functions such as lstm_cell_2_layer_call_and_return_conditional_losses, lstm_cell_2_layer_call_fn, lstm_cell_3_layer_call_and_return_conditional_losses, lstm_cell_3_layer_call_fn, lstm_cell_2_layer_call_fn while saving (showing 5 of 10). These functions will not be directly callable after loading.\n"
          ],
          "name": "stderr"
        },
        {
          "output_type": "stream",
          "text": [
            "INFO:tensorflow:Assets written to: BestModel/assets\n"
          ],
          "name": "stdout"
        },
        {
          "output_type": "stream",
          "text": [
            "INFO:tensorflow:Assets written to: BestModel/assets\n"
          ],
          "name": "stderr"
        },
        {
          "output_type": "stream",
          "text": [
            "Epoch 26/100\n",
            "2667/2667 [==============================] - 34s 13ms/step - loss: 0.5878 - accuracy: 0.6844 - val_loss: 0.5869 - val_accuracy: 0.6794\n",
            "Epoch 27/100\n",
            "2667/2667 [==============================] - 34s 13ms/step - loss: 0.5546 - accuracy: 0.7084 - val_loss: 0.4068 - val_accuracy: 0.8216\n"
          ],
          "name": "stdout"
        },
        {
          "output_type": "stream",
          "text": [
            "WARNING:absl:Found untraced functions such as lstm_cell_2_layer_call_and_return_conditional_losses, lstm_cell_2_layer_call_fn, lstm_cell_3_layer_call_and_return_conditional_losses, lstm_cell_3_layer_call_fn, lstm_cell_2_layer_call_fn while saving (showing 5 of 10). These functions will not be directly callable after loading.\n"
          ],
          "name": "stderr"
        },
        {
          "output_type": "stream",
          "text": [
            "INFO:tensorflow:Assets written to: BestModel/assets\n"
          ],
          "name": "stdout"
        },
        {
          "output_type": "stream",
          "text": [
            "INFO:tensorflow:Assets written to: BestModel/assets\n"
          ],
          "name": "stderr"
        },
        {
          "output_type": "stream",
          "text": [
            "Epoch 28/100\n",
            "2667/2667 [==============================] - 33s 13ms/step - loss: 0.3411 - accuracy: 0.8504 - val_loss: 0.2183 - val_accuracy: 0.9032\n"
          ],
          "name": "stdout"
        },
        {
          "output_type": "stream",
          "text": [
            "WARNING:absl:Found untraced functions such as lstm_cell_2_layer_call_and_return_conditional_losses, lstm_cell_2_layer_call_fn, lstm_cell_3_layer_call_and_return_conditional_losses, lstm_cell_3_layer_call_fn, lstm_cell_2_layer_call_fn while saving (showing 5 of 10). These functions will not be directly callable after loading.\n"
          ],
          "name": "stderr"
        },
        {
          "output_type": "stream",
          "text": [
            "INFO:tensorflow:Assets written to: BestModel/assets\n"
          ],
          "name": "stdout"
        },
        {
          "output_type": "stream",
          "text": [
            "INFO:tensorflow:Assets written to: BestModel/assets\n"
          ],
          "name": "stderr"
        },
        {
          "output_type": "stream",
          "text": [
            "Epoch 29/100\n",
            "2667/2667 [==============================] - 34s 13ms/step - loss: 0.2223 - accuracy: 0.9015 - val_loss: 0.3038 - val_accuracy: 0.8743\n",
            "Epoch 30/100\n",
            "2667/2667 [==============================] - 34s 13ms/step - loss: 0.2343 - accuracy: 0.8934 - val_loss: 0.1725 - val_accuracy: 0.9172\n"
          ],
          "name": "stdout"
        },
        {
          "output_type": "stream",
          "text": [
            "WARNING:absl:Found untraced functions such as lstm_cell_2_layer_call_and_return_conditional_losses, lstm_cell_2_layer_call_fn, lstm_cell_3_layer_call_and_return_conditional_losses, lstm_cell_3_layer_call_fn, lstm_cell_2_layer_call_fn while saving (showing 5 of 10). These functions will not be directly callable after loading.\n"
          ],
          "name": "stderr"
        },
        {
          "output_type": "stream",
          "text": [
            "INFO:tensorflow:Assets written to: BestModel/assets\n"
          ],
          "name": "stdout"
        },
        {
          "output_type": "stream",
          "text": [
            "INFO:tensorflow:Assets written to: BestModel/assets\n"
          ],
          "name": "stderr"
        },
        {
          "output_type": "stream",
          "text": [
            "Epoch 31/100\n",
            "2667/2667 [==============================] - 34s 13ms/step - loss: 0.1909 - accuracy: 0.9122 - val_loss: 0.5577 - val_accuracy: 0.7135\n",
            "Epoch 32/100\n",
            "2667/2667 [==============================] - 34s 13ms/step - loss: 0.4477 - accuracy: 0.7768 - val_loss: 0.1875 - val_accuracy: 0.9131\n",
            "Epoch 33/100\n",
            "2667/2667 [==============================] - 33s 12ms/step - loss: 0.1797 - accuracy: 0.9164 - val_loss: 0.1672 - val_accuracy: 0.9201\n"
          ],
          "name": "stdout"
        },
        {
          "output_type": "stream",
          "text": [
            "WARNING:absl:Found untraced functions such as lstm_cell_2_layer_call_and_return_conditional_losses, lstm_cell_2_layer_call_fn, lstm_cell_3_layer_call_and_return_conditional_losses, lstm_cell_3_layer_call_fn, lstm_cell_2_layer_call_fn while saving (showing 5 of 10). These functions will not be directly callable after loading.\n"
          ],
          "name": "stderr"
        },
        {
          "output_type": "stream",
          "text": [
            "INFO:tensorflow:Assets written to: BestModel/assets\n"
          ],
          "name": "stdout"
        },
        {
          "output_type": "stream",
          "text": [
            "INFO:tensorflow:Assets written to: BestModel/assets\n"
          ],
          "name": "stderr"
        },
        {
          "output_type": "stream",
          "text": [
            "Epoch 34/100\n",
            "2667/2667 [==============================] - 33s 13ms/step - loss: 0.1614 - accuracy: 0.9249 - val_loss: 0.1599 - val_accuracy: 0.9238\n"
          ],
          "name": "stdout"
        },
        {
          "output_type": "stream",
          "text": [
            "WARNING:absl:Found untraced functions such as lstm_cell_2_layer_call_and_return_conditional_losses, lstm_cell_2_layer_call_fn, lstm_cell_3_layer_call_and_return_conditional_losses, lstm_cell_3_layer_call_fn, lstm_cell_2_layer_call_fn while saving (showing 5 of 10). These functions will not be directly callable after loading.\n"
          ],
          "name": "stderr"
        },
        {
          "output_type": "stream",
          "text": [
            "INFO:tensorflow:Assets written to: BestModel/assets\n"
          ],
          "name": "stdout"
        },
        {
          "output_type": "stream",
          "text": [
            "INFO:tensorflow:Assets written to: BestModel/assets\n"
          ],
          "name": "stderr"
        },
        {
          "output_type": "stream",
          "text": [
            "Epoch 35/100\n",
            "2667/2667 [==============================] - 33s 13ms/step - loss: 0.1889 - accuracy: 0.9117 - val_loss: 0.4263 - val_accuracy: 0.7886\n",
            "Epoch 36/100\n",
            "2667/2667 [==============================] - 34s 13ms/step - loss: 0.2738 - accuracy: 0.8704 - val_loss: 0.1636 - val_accuracy: 0.9215\n",
            "Epoch 37/100\n",
            "2667/2667 [==============================] - 34s 13ms/step - loss: 0.1658 - accuracy: 0.9226 - val_loss: 0.1526 - val_accuracy: 0.9248\n"
          ],
          "name": "stdout"
        },
        {
          "output_type": "stream",
          "text": [
            "WARNING:absl:Found untraced functions such as lstm_cell_2_layer_call_and_return_conditional_losses, lstm_cell_2_layer_call_fn, lstm_cell_3_layer_call_and_return_conditional_losses, lstm_cell_3_layer_call_fn, lstm_cell_2_layer_call_fn while saving (showing 5 of 10). These functions will not be directly callable after loading.\n"
          ],
          "name": "stderr"
        },
        {
          "output_type": "stream",
          "text": [
            "INFO:tensorflow:Assets written to: BestModel/assets\n"
          ],
          "name": "stdout"
        },
        {
          "output_type": "stream",
          "text": [
            "INFO:tensorflow:Assets written to: BestModel/assets\n"
          ],
          "name": "stderr"
        },
        {
          "output_type": "stream",
          "text": [
            "Epoch 38/100\n",
            "2667/2667 [==============================] - 34s 13ms/step - loss: 0.1598 - accuracy: 0.9207 - val_loss: 0.6170 - val_accuracy: 0.6560\n",
            "Epoch 39/100\n",
            "2667/2667 [==============================] - 34s 13ms/step - loss: 0.5689 - accuracy: 0.6921 - val_loss: 0.2248 - val_accuracy: 0.9003\n",
            "Epoch 40/100\n",
            "2667/2667 [==============================] - 34s 13ms/step - loss: 0.1654 - accuracy: 0.9197 - val_loss: 0.1655 - val_accuracy: 0.9222\n",
            "Epoch 41/100\n",
            "2667/2667 [==============================] - 34s 13ms/step - loss: 0.4587 - accuracy: 0.7025 - val_loss: 0.6291 - val_accuracy: 0.6453\n",
            "Epoch 42/100\n",
            "2667/2667 [==============================] - 34s 13ms/step - loss: 0.6035 - accuracy: 0.6678 - val_loss: 0.5695 - val_accuracy: 0.6903\n",
            "Epoch 43/100\n",
            "2667/2667 [==============================] - 33s 13ms/step - loss: 0.5691 - accuracy: 0.6949 - val_loss: 0.5548 - val_accuracy: 0.7033\n",
            "Epoch 44/100\n",
            "2667/2667 [==============================] - 34s 13ms/step - loss: 0.5511 - accuracy: 0.7104 - val_loss: 0.6039 - val_accuracy: 0.6798\n",
            "Epoch 45/100\n",
            "2667/2667 [==============================] - 35s 13ms/step - loss: 0.4805 - accuracy: 0.7615 - val_loss: 0.5187 - val_accuracy: 0.7393\n",
            "Epoch 46/100\n",
            "2667/2667 [==============================] - 34s 13ms/step - loss: 0.4104 - accuracy: 0.8090 - val_loss: 0.2443 - val_accuracy: 0.8936\n",
            "Epoch 47/100\n",
            "2667/2667 [==============================] - 34s 13ms/step - loss: 0.2248 - accuracy: 0.9027 - val_loss: 0.1867 - val_accuracy: 0.9123\n",
            "Epoch 48/100\n",
            "2667/2667 [==============================] - 34s 13ms/step - loss: 0.1984 - accuracy: 0.9084 - val_loss: 0.1539 - val_accuracy: 0.9251\n"
          ],
          "name": "stdout"
        },
        {
          "output_type": "stream",
          "text": [
            "WARNING:absl:Found untraced functions such as lstm_cell_2_layer_call_and_return_conditional_losses, lstm_cell_2_layer_call_fn, lstm_cell_3_layer_call_and_return_conditional_losses, lstm_cell_3_layer_call_fn, lstm_cell_2_layer_call_fn while saving (showing 5 of 10). These functions will not be directly callable after loading.\n"
          ],
          "name": "stderr"
        },
        {
          "output_type": "stream",
          "text": [
            "INFO:tensorflow:Assets written to: BestModel/assets\n"
          ],
          "name": "stdout"
        },
        {
          "output_type": "stream",
          "text": [
            "INFO:tensorflow:Assets written to: BestModel/assets\n"
          ],
          "name": "stderr"
        },
        {
          "output_type": "stream",
          "text": [
            "Epoch 49/100\n",
            "2667/2667 [==============================] - 34s 13ms/step - loss: 0.1553 - accuracy: 0.9251 - val_loss: 0.1514 - val_accuracy: 0.9301\n"
          ],
          "name": "stdout"
        },
        {
          "output_type": "stream",
          "text": [
            "WARNING:absl:Found untraced functions such as lstm_cell_2_layer_call_and_return_conditional_losses, lstm_cell_2_layer_call_fn, lstm_cell_3_layer_call_and_return_conditional_losses, lstm_cell_3_layer_call_fn, lstm_cell_2_layer_call_fn while saving (showing 5 of 10). These functions will not be directly callable after loading.\n"
          ],
          "name": "stderr"
        },
        {
          "output_type": "stream",
          "text": [
            "INFO:tensorflow:Assets written to: BestModel/assets\n"
          ],
          "name": "stdout"
        },
        {
          "output_type": "stream",
          "text": [
            "INFO:tensorflow:Assets written to: BestModel/assets\n"
          ],
          "name": "stderr"
        },
        {
          "output_type": "stream",
          "text": [
            "Epoch 50/100\n",
            "2667/2667 [==============================] - 38s 14ms/step - loss: 0.1502 - accuracy: 0.9301 - val_loss: 0.1455 - val_accuracy: 0.9311\n"
          ],
          "name": "stdout"
        },
        {
          "output_type": "stream",
          "text": [
            "WARNING:absl:Found untraced functions such as lstm_cell_2_layer_call_and_return_conditional_losses, lstm_cell_2_layer_call_fn, lstm_cell_3_layer_call_and_return_conditional_losses, lstm_cell_3_layer_call_fn, lstm_cell_2_layer_call_fn while saving (showing 5 of 10). These functions will not be directly callable after loading.\n"
          ],
          "name": "stderr"
        },
        {
          "output_type": "stream",
          "text": [
            "INFO:tensorflow:Assets written to: BestModel/assets\n"
          ],
          "name": "stdout"
        },
        {
          "output_type": "stream",
          "text": [
            "INFO:tensorflow:Assets written to: BestModel/assets\n"
          ],
          "name": "stderr"
        },
        {
          "output_type": "stream",
          "text": [
            "Epoch 51/100\n",
            "2667/2667 [==============================] - 34s 13ms/step - loss: 0.1349 - accuracy: 0.9379 - val_loss: 0.1188 - val_accuracy: 0.9450\n"
          ],
          "name": "stdout"
        },
        {
          "output_type": "stream",
          "text": [
            "WARNING:absl:Found untraced functions such as lstm_cell_2_layer_call_and_return_conditional_losses, lstm_cell_2_layer_call_fn, lstm_cell_3_layer_call_and_return_conditional_losses, lstm_cell_3_layer_call_fn, lstm_cell_2_layer_call_fn while saving (showing 5 of 10). These functions will not be directly callable after loading.\n"
          ],
          "name": "stderr"
        },
        {
          "output_type": "stream",
          "text": [
            "INFO:tensorflow:Assets written to: BestModel/assets\n"
          ],
          "name": "stdout"
        },
        {
          "output_type": "stream",
          "text": [
            "INFO:tensorflow:Assets written to: BestModel/assets\n"
          ],
          "name": "stderr"
        },
        {
          "output_type": "stream",
          "text": [
            "Epoch 52/100\n",
            "2667/2667 [==============================] - 34s 13ms/step - loss: 0.1393 - accuracy: 0.9380 - val_loss: 0.1173 - val_accuracy: 0.9434\n",
            "Epoch 53/100\n",
            "2667/2667 [==============================] - 34s 13ms/step - loss: 0.1504 - accuracy: 0.9321 - val_loss: 0.1201 - val_accuracy: 0.9423\n",
            "Epoch 54/100\n",
            "2667/2667 [==============================] - 34s 13ms/step - loss: 0.1300 - accuracy: 0.9389 - val_loss: 0.1217 - val_accuracy: 0.9426\n",
            "Epoch 55/100\n",
            "2667/2667 [==============================] - 34s 13ms/step - loss: 0.1138 - accuracy: 0.9469 - val_loss: 0.1143 - val_accuracy: 0.9477\n"
          ],
          "name": "stdout"
        },
        {
          "output_type": "stream",
          "text": [
            "WARNING:absl:Found untraced functions such as lstm_cell_2_layer_call_and_return_conditional_losses, lstm_cell_2_layer_call_fn, lstm_cell_3_layer_call_and_return_conditional_losses, lstm_cell_3_layer_call_fn, lstm_cell_2_layer_call_fn while saving (showing 5 of 10). These functions will not be directly callable after loading.\n"
          ],
          "name": "stderr"
        },
        {
          "output_type": "stream",
          "text": [
            "INFO:tensorflow:Assets written to: BestModel/assets\n"
          ],
          "name": "stdout"
        },
        {
          "output_type": "stream",
          "text": [
            "INFO:tensorflow:Assets written to: BestModel/assets\n"
          ],
          "name": "stderr"
        },
        {
          "output_type": "stream",
          "text": [
            "Epoch 56/100\n",
            "2667/2667 [==============================] - 34s 13ms/step - loss: 0.1202 - accuracy: 0.9466 - val_loss: 0.1226 - val_accuracy: 0.9452\n",
            "Epoch 57/100\n",
            "2667/2667 [==============================] - 34s 13ms/step - loss: 0.1264 - accuracy: 0.9430 - val_loss: 0.1994 - val_accuracy: 0.9170\n",
            "Epoch 58/100\n",
            "2667/2667 [==============================] - 34s 13ms/step - loss: 0.1274 - accuracy: 0.9462 - val_loss: 0.0934 - val_accuracy: 0.9600\n"
          ],
          "name": "stdout"
        },
        {
          "output_type": "stream",
          "text": [
            "WARNING:absl:Found untraced functions such as lstm_cell_2_layer_call_and_return_conditional_losses, lstm_cell_2_layer_call_fn, lstm_cell_3_layer_call_and_return_conditional_losses, lstm_cell_3_layer_call_fn, lstm_cell_2_layer_call_fn while saving (showing 5 of 10). These functions will not be directly callable after loading.\n"
          ],
          "name": "stderr"
        },
        {
          "output_type": "stream",
          "text": [
            "INFO:tensorflow:Assets written to: BestModel/assets\n"
          ],
          "name": "stdout"
        },
        {
          "output_type": "stream",
          "text": [
            "INFO:tensorflow:Assets written to: BestModel/assets\n"
          ],
          "name": "stderr"
        },
        {
          "output_type": "stream",
          "text": [
            "Epoch 59/100\n",
            "2667/2667 [==============================] - 34s 13ms/step - loss: 0.1055 - accuracy: 0.9579 - val_loss: 0.0969 - val_accuracy: 0.9634\n"
          ],
          "name": "stdout"
        },
        {
          "output_type": "stream",
          "text": [
            "WARNING:absl:Found untraced functions such as lstm_cell_2_layer_call_and_return_conditional_losses, lstm_cell_2_layer_call_fn, lstm_cell_3_layer_call_and_return_conditional_losses, lstm_cell_3_layer_call_fn, lstm_cell_2_layer_call_fn while saving (showing 5 of 10). These functions will not be directly callable after loading.\n"
          ],
          "name": "stderr"
        },
        {
          "output_type": "stream",
          "text": [
            "INFO:tensorflow:Assets written to: BestModel/assets\n"
          ],
          "name": "stdout"
        },
        {
          "output_type": "stream",
          "text": [
            "INFO:tensorflow:Assets written to: BestModel/assets\n"
          ],
          "name": "stderr"
        },
        {
          "output_type": "stream",
          "text": [
            "Epoch 60/100\n",
            "2667/2667 [==============================] - 34s 13ms/step - loss: 0.0982 - accuracy: 0.9636 - val_loss: 0.0577 - val_accuracy: 0.9779\n"
          ],
          "name": "stdout"
        },
        {
          "output_type": "stream",
          "text": [
            "WARNING:absl:Found untraced functions such as lstm_cell_2_layer_call_and_return_conditional_losses, lstm_cell_2_layer_call_fn, lstm_cell_3_layer_call_and_return_conditional_losses, lstm_cell_3_layer_call_fn, lstm_cell_2_layer_call_fn while saving (showing 5 of 10). These functions will not be directly callable after loading.\n"
          ],
          "name": "stderr"
        },
        {
          "output_type": "stream",
          "text": [
            "INFO:tensorflow:Assets written to: BestModel/assets\n"
          ],
          "name": "stdout"
        },
        {
          "output_type": "stream",
          "text": [
            "INFO:tensorflow:Assets written to: BestModel/assets\n"
          ],
          "name": "stderr"
        },
        {
          "output_type": "stream",
          "text": [
            "Epoch 61/100\n",
            "2667/2667 [==============================] - 38s 14ms/step - loss: 0.0598 - accuracy: 0.9789 - val_loss: 0.0440 - val_accuracy: 0.9831\n"
          ],
          "name": "stdout"
        },
        {
          "output_type": "stream",
          "text": [
            "WARNING:absl:Found untraced functions such as lstm_cell_2_layer_call_and_return_conditional_losses, lstm_cell_2_layer_call_fn, lstm_cell_3_layer_call_and_return_conditional_losses, lstm_cell_3_layer_call_fn, lstm_cell_2_layer_call_fn while saving (showing 5 of 10). These functions will not be directly callable after loading.\n"
          ],
          "name": "stderr"
        },
        {
          "output_type": "stream",
          "text": [
            "INFO:tensorflow:Assets written to: BestModel/assets\n"
          ],
          "name": "stdout"
        },
        {
          "output_type": "stream",
          "text": [
            "INFO:tensorflow:Assets written to: BestModel/assets\n"
          ],
          "name": "stderr"
        },
        {
          "output_type": "stream",
          "text": [
            "Epoch 62/100\n",
            "2667/2667 [==============================] - 34s 13ms/step - loss: 0.0520 - accuracy: 0.9818 - val_loss: 0.4754 - val_accuracy: 0.7748\n",
            "Epoch 63/100\n",
            "2667/2667 [==============================] - 34s 13ms/step - loss: 0.2993 - accuracy: 0.8725 - val_loss: 0.1532 - val_accuracy: 0.9334\n",
            "Epoch 64/100\n",
            "2667/2667 [==============================] - 34s 13ms/step - loss: 0.1441 - accuracy: 0.9359 - val_loss: 0.1229 - val_accuracy: 0.9454\n",
            "Epoch 65/100\n",
            "2667/2667 [==============================] - 34s 13ms/step - loss: 0.4610 - accuracy: 0.7575 - val_loss: 0.5354 - val_accuracy: 0.7219\n",
            "Epoch 66/100\n",
            "2667/2667 [==============================] - 34s 13ms/step - loss: 0.4294 - accuracy: 0.7927 - val_loss: 0.1968 - val_accuracy: 0.9178\n",
            "Epoch 67/100\n",
            "2667/2667 [==============================] - 34s 13ms/step - loss: 0.1581 - accuracy: 0.9293 - val_loss: 0.6173 - val_accuracy: 0.6651\n",
            "Epoch 68/100\n",
            "2667/2667 [==============================] - 34s 13ms/step - loss: 0.6068 - accuracy: 0.6531 - val_loss: 0.2572 - val_accuracy: 0.8973\n",
            "Epoch 69/100\n",
            "2667/2667 [==============================] - 34s 13ms/step - loss: 0.2294 - accuracy: 0.9041 - val_loss: 0.4539 - val_accuracy: 0.7929\n",
            "Epoch 70/100\n",
            "2667/2667 [==============================] - 34s 13ms/step - loss: 0.3098 - accuracy: 0.8634 - val_loss: 0.2712 - val_accuracy: 0.8883\n",
            "Epoch 71/100\n",
            "2667/2667 [==============================] - 34s 13ms/step - loss: 0.1891 - accuracy: 0.9218 - val_loss: 0.1402 - val_accuracy: 0.9385\n",
            "Epoch 72/100\n",
            "2667/2667 [==============================] - 34s 13ms/step - loss: 0.2697 - accuracy: 0.8830 - val_loss: 0.3639 - val_accuracy: 0.8494\n",
            "Epoch 73/100\n",
            "2667/2667 [==============================] - 34s 13ms/step - loss: 0.3326 - accuracy: 0.8665 - val_loss: 0.1834 - val_accuracy: 0.9257\n",
            "Epoch 74/100\n",
            "2667/2667 [==============================] - 34s 13ms/step - loss: 0.1673 - accuracy: 0.9307 - val_loss: 0.1275 - val_accuracy: 0.9417\n",
            "Epoch 75/100\n",
            "2667/2667 [==============================] - 34s 13ms/step - loss: 0.1548 - accuracy: 0.9338 - val_loss: 0.1459 - val_accuracy: 0.9385\n",
            "Epoch 76/100\n",
            "2667/2667 [==============================] - 34s 13ms/step - loss: 0.1281 - accuracy: 0.9412 - val_loss: 0.1059 - val_accuracy: 0.9510\n",
            "Epoch 77/100\n",
            "2667/2667 [==============================] - 34s 13ms/step - loss: 0.1048 - accuracy: 0.9520 - val_loss: 0.3777 - val_accuracy: 0.8965\n",
            "Epoch 78/100\n",
            "2667/2667 [==============================] - 34s 13ms/step - loss: 0.1610 - accuracy: 0.9417 - val_loss: 0.1077 - val_accuracy: 0.9544\n",
            "Epoch 79/100\n",
            "2667/2667 [==============================] - 34s 13ms/step - loss: 0.1220 - accuracy: 0.9556 - val_loss: 0.0781 - val_accuracy: 0.9693\n",
            "Epoch 80/100\n",
            "2667/2667 [==============================] - 34s 13ms/step - loss: 0.1953 - accuracy: 0.9118 - val_loss: 0.1776 - val_accuracy: 0.9315\n",
            "Epoch 81/100\n",
            "2667/2667 [==============================] - 34s 13ms/step - loss: 0.1273 - accuracy: 0.9481 - val_loss: 0.0914 - val_accuracy: 0.9642\n",
            "Epoch 82/100\n",
            "2667/2667 [==============================] - 38s 14ms/step - loss: 0.0884 - accuracy: 0.9683 - val_loss: 0.0944 - val_accuracy: 0.9662\n",
            "Epoch 83/100\n",
            "2667/2667 [==============================] - 34s 13ms/step - loss: 0.0955 - accuracy: 0.9658 - val_loss: 0.0890 - val_accuracy: 0.9634\n",
            "Epoch 84/100\n",
            "2667/2667 [==============================] - 34s 13ms/step - loss: 0.0787 - accuracy: 0.9686 - val_loss: 0.0580 - val_accuracy: 0.9778\n",
            "Epoch 85/100\n",
            "2667/2667 [==============================] - 34s 13ms/step - loss: 0.0615 - accuracy: 0.9785 - val_loss: 0.0470 - val_accuracy: 0.9844\n"
          ],
          "name": "stdout"
        },
        {
          "output_type": "stream",
          "text": [
            "WARNING:absl:Found untraced functions such as lstm_cell_2_layer_call_and_return_conditional_losses, lstm_cell_2_layer_call_fn, lstm_cell_3_layer_call_and_return_conditional_losses, lstm_cell_3_layer_call_fn, lstm_cell_2_layer_call_fn while saving (showing 5 of 10). These functions will not be directly callable after loading.\n"
          ],
          "name": "stderr"
        },
        {
          "output_type": "stream",
          "text": [
            "INFO:tensorflow:Assets written to: BestModel/assets\n"
          ],
          "name": "stdout"
        },
        {
          "output_type": "stream",
          "text": [
            "INFO:tensorflow:Assets written to: BestModel/assets\n"
          ],
          "name": "stderr"
        },
        {
          "output_type": "stream",
          "text": [
            "Epoch 86/100\n",
            "2667/2667 [==============================] - 33s 13ms/step - loss: 0.0615 - accuracy: 0.9800 - val_loss: 0.0440 - val_accuracy: 0.9843\n",
            "Epoch 87/100\n",
            "2667/2667 [==============================] - 33s 13ms/step - loss: 0.0393 - accuracy: 0.9867 - val_loss: 0.0356 - val_accuracy: 0.9878\n"
          ],
          "name": "stdout"
        },
        {
          "output_type": "stream",
          "text": [
            "WARNING:absl:Found untraced functions such as lstm_cell_2_layer_call_and_return_conditional_losses, lstm_cell_2_layer_call_fn, lstm_cell_3_layer_call_and_return_conditional_losses, lstm_cell_3_layer_call_fn, lstm_cell_2_layer_call_fn while saving (showing 5 of 10). These functions will not be directly callable after loading.\n"
          ],
          "name": "stderr"
        },
        {
          "output_type": "stream",
          "text": [
            "INFO:tensorflow:Assets written to: BestModel/assets\n"
          ],
          "name": "stdout"
        },
        {
          "output_type": "stream",
          "text": [
            "INFO:tensorflow:Assets written to: BestModel/assets\n"
          ],
          "name": "stderr"
        },
        {
          "output_type": "stream",
          "text": [
            "Epoch 88/100\n",
            "2667/2667 [==============================] - 34s 13ms/step - loss: 0.0431 - accuracy: 0.9860 - val_loss: 0.0323 - val_accuracy: 0.9889\n"
          ],
          "name": "stdout"
        },
        {
          "output_type": "stream",
          "text": [
            "WARNING:absl:Found untraced functions such as lstm_cell_2_layer_call_and_return_conditional_losses, lstm_cell_2_layer_call_fn, lstm_cell_3_layer_call_and_return_conditional_losses, lstm_cell_3_layer_call_fn, lstm_cell_2_layer_call_fn while saving (showing 5 of 10). These functions will not be directly callable after loading.\n"
          ],
          "name": "stderr"
        },
        {
          "output_type": "stream",
          "text": [
            "INFO:tensorflow:Assets written to: BestModel/assets\n"
          ],
          "name": "stdout"
        },
        {
          "output_type": "stream",
          "text": [
            "INFO:tensorflow:Assets written to: BestModel/assets\n"
          ],
          "name": "stderr"
        },
        {
          "output_type": "stream",
          "text": [
            "Epoch 89/100\n",
            "2667/2667 [==============================] - 34s 13ms/step - loss: 0.0311 - accuracy: 0.9894 - val_loss: 0.0309 - val_accuracy: 0.9884\n",
            "Epoch 90/100\n",
            "2667/2667 [==============================] - 34s 13ms/step - loss: 0.0447 - accuracy: 0.9859 - val_loss: 0.0547 - val_accuracy: 0.9817\n",
            "Epoch 91/100\n",
            "2667/2667 [==============================] - 34s 13ms/step - loss: 0.0426 - accuracy: 0.9857 - val_loss: 0.0337 - val_accuracy: 0.9875\n",
            "Epoch 92/100\n",
            "2667/2667 [==============================] - 34s 13ms/step - loss: 0.0249 - accuracy: 0.9914 - val_loss: 0.0256 - val_accuracy: 0.9909\n"
          ],
          "name": "stdout"
        },
        {
          "output_type": "stream",
          "text": [
            "WARNING:absl:Found untraced functions such as lstm_cell_2_layer_call_and_return_conditional_losses, lstm_cell_2_layer_call_fn, lstm_cell_3_layer_call_and_return_conditional_losses, lstm_cell_3_layer_call_fn, lstm_cell_2_layer_call_fn while saving (showing 5 of 10). These functions will not be directly callable after loading.\n"
          ],
          "name": "stderr"
        },
        {
          "output_type": "stream",
          "text": [
            "INFO:tensorflow:Assets written to: BestModel/assets\n"
          ],
          "name": "stdout"
        },
        {
          "output_type": "stream",
          "text": [
            "INFO:tensorflow:Assets written to: BestModel/assets\n"
          ],
          "name": "stderr"
        },
        {
          "output_type": "stream",
          "text": [
            "Epoch 93/100\n",
            "2667/2667 [==============================] - 34s 13ms/step - loss: 0.0237 - accuracy: 0.9915 - val_loss: 0.0257 - val_accuracy: 0.9903\n",
            "Epoch 94/100\n",
            "2667/2667 [==============================] - 34s 13ms/step - loss: 0.0223 - accuracy: 0.9927 - val_loss: 0.0271 - val_accuracy: 0.9897\n",
            "Epoch 95/100\n",
            "2667/2667 [==============================] - 34s 13ms/step - loss: 0.0260 - accuracy: 0.9915 - val_loss: 0.0227 - val_accuracy: 0.9909\n",
            "Epoch 96/100\n",
            "2667/2667 [==============================] - 34s 13ms/step - loss: 0.0284 - accuracy: 0.9919 - val_loss: 0.0220 - val_accuracy: 0.9921\n"
          ],
          "name": "stdout"
        },
        {
          "output_type": "stream",
          "text": [
            "WARNING:absl:Found untraced functions such as lstm_cell_2_layer_call_and_return_conditional_losses, lstm_cell_2_layer_call_fn, lstm_cell_3_layer_call_and_return_conditional_losses, lstm_cell_3_layer_call_fn, lstm_cell_2_layer_call_fn while saving (showing 5 of 10). These functions will not be directly callable after loading.\n"
          ],
          "name": "stderr"
        },
        {
          "output_type": "stream",
          "text": [
            "INFO:tensorflow:Assets written to: BestModel/assets\n"
          ],
          "name": "stdout"
        },
        {
          "output_type": "stream",
          "text": [
            "INFO:tensorflow:Assets written to: BestModel/assets\n"
          ],
          "name": "stderr"
        },
        {
          "output_type": "stream",
          "text": [
            "Epoch 97/100\n",
            "2667/2667 [==============================] - 34s 13ms/step - loss: 0.0217 - accuracy: 0.9933 - val_loss: 0.0336 - val_accuracy: 0.9879\n",
            "Epoch 98/100\n",
            "2667/2667 [==============================] - 34s 13ms/step - loss: 0.0254 - accuracy: 0.9917 - val_loss: 0.0397 - val_accuracy: 0.9873\n",
            "Epoch 99/100\n",
            "2667/2667 [==============================] - 34s 13ms/step - loss: 0.0390 - accuracy: 0.9896 - val_loss: 0.0258 - val_accuracy: 0.9906\n",
            "Epoch 100/100\n",
            "2667/2667 [==============================] - 34s 13ms/step - loss: 0.0211 - accuracy: 0.9933 - val_loss: 0.0476 - val_accuracy: 0.9840\n",
            "Fold 1, 100 epochs, 3822 sec\n"
          ],
          "name": "stdout"
        },
        {
          "output_type": "display_data",
          "data": {
            "image/png": "[encoded data removed]",
            "text/plain": [
              "<Figure size 576x360 with 1 Axes>"
            ]
          },
          "metadata": {
            "tags": [],
            "needs_background": "light"
          }
        },
        {
          "output_type": "stream",
          "text": [
            "MODEL\n",
            "make_DNN\n",
            "input shape: (128, 4)\n",
            "FIT\n",
            "Epoch 1/100\n",
            "2667/2667 [==============================] - 40s 13ms/step - loss: 0.6996 - accuracy: 0.5193 - val_loss: 0.6471 - val_accuracy: 0.6182\n",
            "Epoch 2/100\n",
            "2667/2667 [==============================] - 35s 13ms/step - loss: 0.6371 - accuracy: 0.6370 - val_loss: 0.5934 - val_accuracy: 0.6800\n",
            "Epoch 3/100\n",
            "2667/2667 [==============================] - 35s 13ms/step - loss: 0.5842 - accuracy: 0.6891 - val_loss: 0.5694 - val_accuracy: 0.6936\n",
            "Epoch 4/100\n",
            "2667/2667 [==============================] - 35s 13ms/step - loss: 0.5651 - accuracy: 0.6989 - val_loss: 0.5685 - val_accuracy: 0.6917\n",
            "Epoch 5/100\n",
            "2667/2667 [==============================] - 35s 13ms/step - loss: 0.5560 - accuracy: 0.7016 - val_loss: 0.5515 - val_accuracy: 0.7013\n",
            "Epoch 6/100\n",
            "2667/2667 [==============================] - 34s 13ms/step - loss: 0.5529 - accuracy: 0.7061 - val_loss: 0.5715 - val_accuracy: 0.6897\n",
            "Epoch 7/100\n",
            "2667/2667 [==============================] - 34s 13ms/step - loss: 0.5486 - accuracy: 0.7052 - val_loss: 0.5586 - val_accuracy: 0.6966\n",
            "Epoch 8/100\n",
            "2667/2667 [==============================] - 39s 15ms/step - loss: 0.5435 - accuracy: 0.7095 - val_loss: 0.5475 - val_accuracy: 0.7045\n",
            "Epoch 9/100\n",
            "2667/2667 [==============================] - 34s 13ms/step - loss: 0.5394 - accuracy: 0.7125 - val_loss: 0.5494 - val_accuracy: 0.7025\n",
            "Epoch 10/100\n",
            "2667/2667 [==============================] - 35s 13ms/step - loss: 0.5403 - accuracy: 0.7122 - val_loss: 0.5532 - val_accuracy: 0.7023\n",
            "Epoch 11/100\n",
            "2667/2667 [==============================] - 35s 13ms/step - loss: 0.5320 - accuracy: 0.7184 - val_loss: 0.5450 - val_accuracy: 0.7106\n",
            "Epoch 12/100\n",
            "2667/2667 [==============================] - 35s 13ms/step - loss: 0.5220 - accuracy: 0.7261 - val_loss: 0.6189 - val_accuracy: 0.6601\n",
            "Epoch 13/100\n",
            "2667/2667 [==============================] - 36s 13ms/step - loss: 0.5422 - accuracy: 0.7130 - val_loss: 0.3176 - val_accuracy: 0.8646\n",
            "Epoch 14/100\n",
            "2667/2667 [==============================] - 36s 13ms/step - loss: 0.4580 - accuracy: 0.7720 - val_loss: 0.6068 - val_accuracy: 0.6681\n",
            "Epoch 15/100\n",
            "2667/2667 [==============================] - 36s 13ms/step - loss: 0.4218 - accuracy: 0.7976 - val_loss: 0.2151 - val_accuracy: 0.9011\n",
            "Epoch 16/100\n",
            "2667/2667 [==============================] - 36s 13ms/step - loss: 0.2172 - accuracy: 0.9029 - val_loss: 0.1687 - val_accuracy: 0.9229\n",
            "Epoch 17/100\n",
            "2667/2667 [==============================] - 39s 15ms/step - loss: 0.3036 - accuracy: 0.8622 - val_loss: 0.2188 - val_accuracy: 0.9040\n",
            "Epoch 18/100\n",
            "2667/2667 [==============================] - 35s 13ms/step - loss: 0.2618 - accuracy: 0.8710 - val_loss: 0.6003 - val_accuracy: 0.6771\n",
            "Epoch 19/100\n",
            "2667/2667 [==============================] - 35s 13ms/step - loss: 0.5779 - accuracy: 0.6918 - val_loss: 0.2361 - val_accuracy: 0.8954\n",
            "Epoch 20/100\n",
            "2667/2667 [==============================] - 35s 13ms/step - loss: 0.2484 - accuracy: 0.8892 - val_loss: 0.2472 - val_accuracy: 0.8847\n",
            "Epoch 21/100\n",
            "2667/2667 [==============================] - 39s 15ms/step - loss: 0.2161 - accuracy: 0.9027 - val_loss: 0.1717 - val_accuracy: 0.9168\n",
            "Epoch 22/100\n",
            "2667/2667 [==============================] - 36s 13ms/step - loss: 0.2433 - accuracy: 0.8917 - val_loss: 0.5224 - val_accuracy: 0.7348\n",
            "Epoch 23/100\n",
            "2667/2667 [==============================] - 36s 13ms/step - loss: 0.2878 - accuracy: 0.8689 - val_loss: 0.2151 - val_accuracy: 0.9096\n",
            "Epoch 24/100\n",
            "2667/2667 [==============================] - 36s 13ms/step - loss: 0.2118 - accuracy: 0.9044 - val_loss: 0.1637 - val_accuracy: 0.9267\n",
            "Epoch 25/100\n",
            "2667/2667 [==============================] - 36s 13ms/step - loss: 0.1876 - accuracy: 0.9178 - val_loss: 0.1350 - val_accuracy: 0.9407\n",
            "Epoch 26/100\n",
            "2667/2667 [==============================] - 36s 13ms/step - loss: 0.1896 - accuracy: 0.9180 - val_loss: 0.3002 - val_accuracy: 0.8644\n",
            "Epoch 27/100\n",
            "2667/2667 [==============================] - 36s 13ms/step - loss: 0.1691 - accuracy: 0.9274 - val_loss: 0.1106 - val_accuracy: 0.9498\n",
            "Epoch 28/100\n",
            "2667/2667 [==============================] - 36s 13ms/step - loss: 0.2051 - accuracy: 0.9086 - val_loss: 0.3208 - val_accuracy: 0.8607\n",
            "Epoch 29/100\n",
            "2667/2667 [==============================] - 36s 13ms/step - loss: 0.2482 - accuracy: 0.8935 - val_loss: 0.1318 - val_accuracy: 0.9421\n",
            "Epoch 30/100\n",
            "2667/2667 [==============================] - 36s 13ms/step - loss: 0.1219 - accuracy: 0.9489 - val_loss: 0.0949 - val_accuracy: 0.9591\n",
            "Epoch 31/100\n",
            "2667/2667 [==============================] - 36s 14ms/step - loss: 0.1710 - accuracy: 0.9237 - val_loss: 0.0910 - val_accuracy: 0.9603\n",
            "Epoch 32/100\n",
            "2667/2667 [==============================] - 36s 13ms/step - loss: 0.0940 - accuracy: 0.9628 - val_loss: 0.2180 - val_accuracy: 0.9156\n",
            "Epoch 33/100\n",
            "2667/2667 [==============================] - 36s 13ms/step - loss: 0.1903 - accuracy: 0.9178 - val_loss: 0.0785 - val_accuracy: 0.9702\n",
            "Epoch 34/100\n",
            "2667/2667 [==============================] - 36s 13ms/step - loss: 0.4468 - accuracy: 0.7750 - val_loss: 0.5883 - val_accuracy: 0.6815\n",
            "Epoch 35/100\n",
            "2667/2667 [==============================] - 36s 13ms/step - loss: 0.5822 - accuracy: 0.6870 - val_loss: 0.5687 - val_accuracy: 0.6948\n",
            "Epoch 36/100\n",
            "2667/2667 [==============================] - 36s 13ms/step - loss: 0.5648 - accuracy: 0.6967 - val_loss: 0.5666 - val_accuracy: 0.6885\n",
            "Epoch 37/100\n",
            "2667/2667 [==============================] - 36s 13ms/step - loss: 0.5573 - accuracy: 0.7037 - val_loss: 0.5462 - val_accuracy: 0.7124\n",
            "Epoch 38/100\n",
            "2667/2667 [==============================] - 36s 13ms/step - loss: 0.5402 - accuracy: 0.7242 - val_loss: 0.4961 - val_accuracy: 0.7612\n",
            "Epoch 39/100\n",
            "2667/2667 [==============================] - 36s 13ms/step - loss: 0.3584 - accuracy: 0.8410 - val_loss: 0.2032 - val_accuracy: 0.9106\n",
            "Epoch 40/100\n",
            "2667/2667 [==============================] - 36s 14ms/step - loss: 0.2027 - accuracy: 0.9127 - val_loss: 0.1648 - val_accuracy: 0.9247\n",
            "Epoch 41/100\n",
            "2667/2667 [==============================] - 36s 13ms/step - loss: 0.1990 - accuracy: 0.9121 - val_loss: 0.2718 - val_accuracy: 0.8879\n",
            "Epoch 42/100\n",
            "2667/2667 [==============================] - 36s 13ms/step - loss: 0.1496 - accuracy: 0.9340 - val_loss: 0.1319 - val_accuracy: 0.9382\n",
            "Epoch 43/100\n",
            "2667/2667 [==============================] - 36s 13ms/step - loss: 0.1343 - accuracy: 0.9404 - val_loss: 0.1217 - val_accuracy: 0.9436\n",
            "Epoch 44/100\n",
            "2667/2667 [==============================] - 36s 14ms/step - loss: 0.1228 - accuracy: 0.9444 - val_loss: 0.1269 - val_accuracy: 0.9413\n",
            "Epoch 45/100\n",
            "2667/2667 [==============================] - 40s 15ms/step - loss: 0.1195 - accuracy: 0.9454 - val_loss: 0.1026 - val_accuracy: 0.9542\n",
            "Epoch 46/100\n",
            "2667/2667 [==============================] - 36s 14ms/step - loss: 0.1018 - accuracy: 0.9552 - val_loss: 0.0869 - val_accuracy: 0.9653\n",
            "Epoch 47/100\n",
            "2667/2667 [==============================] - 40s 15ms/step - loss: 0.0784 - accuracy: 0.9685 - val_loss: 0.0855 - val_accuracy: 0.9701\n",
            "Epoch 48/100\n",
            "2667/2667 [==============================] - 36s 14ms/step - loss: 0.0610 - accuracy: 0.9767 - val_loss: 0.0530 - val_accuracy: 0.9798\n",
            "Epoch 49/100\n",
            "2667/2667 [==============================] - 36s 13ms/step - loss: 0.0485 - accuracy: 0.9817 - val_loss: 0.1290 - val_accuracy: 0.9632\n",
            "Epoch 50/100\n",
            "2667/2667 [==============================] - 36s 14ms/step - loss: 0.0474 - accuracy: 0.9833 - val_loss: 0.0456 - val_accuracy: 0.9822\n",
            "Epoch 51/100\n",
            "2667/2667 [==============================] - 36s 13ms/step - loss: 0.0382 - accuracy: 0.9860 - val_loss: 0.0432 - val_accuracy: 0.9834\n",
            "Epoch 52/100\n",
            "2667/2667 [==============================] - 36s 14ms/step - loss: 0.0411 - accuracy: 0.9838 - val_loss: 0.0377 - val_accuracy: 0.9853\n",
            "Epoch 53/100\n",
            "2667/2667 [==============================] - 36s 13ms/step - loss: 0.0364 - accuracy: 0.9858 - val_loss: 0.0479 - val_accuracy: 0.9825\n",
            "Epoch 54/100\n",
            "2667/2667 [==============================] - 35s 13ms/step - loss: 0.0352 - accuracy: 0.9871 - val_loss: 0.0652 - val_accuracy: 0.9739\n",
            "Epoch 55/100\n",
            "2667/2667 [==============================] - 35s 13ms/step - loss: 0.0300 - accuracy: 0.9886 - val_loss: 0.0297 - val_accuracy: 0.9893\n",
            "Epoch 56/100\n",
            "2667/2667 [==============================] - 35s 13ms/step - loss: 0.0281 - accuracy: 0.9894 - val_loss: 0.0374 - val_accuracy: 0.9866\n",
            "Epoch 57/100\n",
            "2667/2667 [==============================] - 35s 13ms/step - loss: 0.0304 - accuracy: 0.9884 - val_loss: 0.0305 - val_accuracy: 0.9885\n",
            "Epoch 58/100\n",
            "2667/2667 [==============================] - 35s 13ms/step - loss: 0.0238 - accuracy: 0.9908 - val_loss: 0.0422 - val_accuracy: 0.9831\n",
            "Epoch 59/100\n",
            "2667/2667 [==============================] - 35s 13ms/step - loss: 0.0283 - accuracy: 0.9898 - val_loss: 0.0270 - val_accuracy: 0.9897\n",
            "Epoch 60/100\n",
            "2667/2667 [==============================] - 39s 15ms/step - loss: 0.0254 - accuracy: 0.9910 - val_loss: 0.0285 - val_accuracy: 0.9893\n",
            "Epoch 61/100\n",
            "2667/2667 [==============================] - 35s 13ms/step - loss: 0.0213 - accuracy: 0.9917 - val_loss: 0.1600 - val_accuracy: 0.9580\n",
            "Epoch 62/100\n",
            "2667/2667 [==============================] - 35s 13ms/step - loss: 0.0611 - accuracy: 0.9815 - val_loss: 0.0316 - val_accuracy: 0.9889\n",
            "Epoch 63/100\n",
            "2667/2667 [==============================] - 35s 13ms/step - loss: 0.0233 - accuracy: 0.9915 - val_loss: 0.0256 - val_accuracy: 0.9902\n",
            "Epoch 64/100\n",
            "2667/2667 [==============================] - 35s 13ms/step - loss: 0.0232 - accuracy: 0.9917 - val_loss: 0.0435 - val_accuracy: 0.9844\n",
            "Epoch 65/100\n",
            "2667/2667 [==============================] - 35s 13ms/step - loss: 0.0296 - accuracy: 0.9897 - val_loss: 0.0294 - val_accuracy: 0.9896\n",
            "Epoch 66/100\n",
            "2667/2667 [==============================] - 35s 13ms/step - loss: 0.0214 - accuracy: 0.9920 - val_loss: 0.0382 - val_accuracy: 0.9862\n",
            "Epoch 67/100\n",
            "2667/2667 [==============================] - 35s 13ms/step - loss: 0.0256 - accuracy: 0.9910 - val_loss: 0.0216 - val_accuracy: 0.9920\n",
            "Epoch 68/100\n",
            "2667/2667 [==============================] - 35s 13ms/step - loss: 0.0224 - accuracy: 0.9922 - val_loss: 0.0242 - val_accuracy: 0.9911\n",
            "Epoch 69/100\n",
            "2667/2667 [==============================] - 35s 13ms/step - loss: 0.0259 - accuracy: 0.9915 - val_loss: 0.0361 - val_accuracy: 0.9898\n",
            "Epoch 70/100\n",
            "2667/2667 [==============================] - 35s 13ms/step - loss: 0.0171 - accuracy: 0.9940 - val_loss: 0.0384 - val_accuracy: 0.9877\n",
            "Epoch 71/100\n",
            "2667/2667 [==============================] - 35s 13ms/step - loss: 0.0208 - accuracy: 0.9929 - val_loss: 0.0209 - val_accuracy: 0.9924\n"
          ],
          "name": "stdout"
        },
        {
          "output_type": "stream",
          "text": [
            "WARNING:absl:Found untraced functions such as lstm_cell_4_layer_call_and_return_conditional_losses, lstm_cell_4_layer_call_fn, lstm_cell_5_layer_call_and_return_conditional_losses, lstm_cell_5_layer_call_fn, lstm_cell_4_layer_call_fn while saving (showing 5 of 10). These functions will not be directly callable after loading.\n"
          ],
          "name": "stderr"
        },
        {
          "output_type": "stream",
          "text": [
            "INFO:tensorflow:Assets written to: BestModel/assets\n"
          ],
          "name": "stdout"
        },
        {
          "output_type": "stream",
          "text": [
            "INFO:tensorflow:Assets written to: BestModel/assets\n"
          ],
          "name": "stderr"
        },
        {
          "output_type": "stream",
          "text": [
            "Epoch 72/100\n",
            "2667/2667 [==============================] - 34s 13ms/step - loss: 0.0155 - accuracy: 0.9942 - val_loss: 0.0196 - val_accuracy: 0.9925\n"
          ],
          "name": "stdout"
        },
        {
          "output_type": "stream",
          "text": [
            "WARNING:absl:Found untraced functions such as lstm_cell_4_layer_call_and_return_conditional_losses, lstm_cell_4_layer_call_fn, lstm_cell_5_layer_call_and_return_conditional_losses, lstm_cell_5_layer_call_fn, lstm_cell_4_layer_call_fn while saving (showing 5 of 10). These functions will not be directly callable after loading.\n"
          ],
          "name": "stderr"
        },
        {
          "output_type": "stream",
          "text": [
            "INFO:tensorflow:Assets written to: BestModel/assets\n"
          ],
          "name": "stdout"
        },
        {
          "output_type": "stream",
          "text": [
            "INFO:tensorflow:Assets written to: BestModel/assets\n"
          ],
          "name": "stderr"
        },
        {
          "output_type": "stream",
          "text": [
            "Epoch 73/100\n",
            "2667/2667 [==============================] - 34s 13ms/step - loss: 0.0167 - accuracy: 0.9942 - val_loss: 0.0263 - val_accuracy: 0.9904\n",
            "Epoch 74/100\n",
            "2667/2667 [==============================] - 34s 13ms/step - loss: 0.0141 - accuracy: 0.9954 - val_loss: 0.0220 - val_accuracy: 0.9916\n",
            "Epoch 75/100\n",
            "2667/2667 [==============================] - 34s 13ms/step - loss: 0.0165 - accuracy: 0.9942 - val_loss: 0.0186 - val_accuracy: 0.9935\n"
          ],
          "name": "stdout"
        },
        {
          "output_type": "stream",
          "text": [
            "WARNING:absl:Found untraced functions such as lstm_cell_4_layer_call_and_return_conditional_losses, lstm_cell_4_layer_call_fn, lstm_cell_5_layer_call_and_return_conditional_losses, lstm_cell_5_layer_call_fn, lstm_cell_4_layer_call_fn while saving (showing 5 of 10). These functions will not be directly callable after loading.\n"
          ],
          "name": "stderr"
        },
        {
          "output_type": "stream",
          "text": [
            "INFO:tensorflow:Assets written to: BestModel/assets\n"
          ],
          "name": "stdout"
        },
        {
          "output_type": "stream",
          "text": [
            "INFO:tensorflow:Assets written to: BestModel/assets\n"
          ],
          "name": "stderr"
        },
        {
          "output_type": "stream",
          "text": [
            "Epoch 76/100\n",
            "2667/2667 [==============================] - 34s 13ms/step - loss: 0.0175 - accuracy: 0.9941 - val_loss: 0.0429 - val_accuracy: 0.9893\n",
            "Epoch 77/100\n",
            "2667/2667 [==============================] - 34s 13ms/step - loss: 0.0177 - accuracy: 0.9945 - val_loss: 0.0191 - val_accuracy: 0.9936\n"
          ],
          "name": "stdout"
        },
        {
          "output_type": "stream",
          "text": [
            "WARNING:absl:Found untraced functions such as lstm_cell_4_layer_call_and_return_conditional_losses, lstm_cell_4_layer_call_fn, lstm_cell_5_layer_call_and_return_conditional_losses, lstm_cell_5_layer_call_fn, lstm_cell_4_layer_call_fn while saving (showing 5 of 10). These functions will not be directly callable after loading.\n"
          ],
          "name": "stderr"
        },
        {
          "output_type": "stream",
          "text": [
            "INFO:tensorflow:Assets written to: BestModel/assets\n"
          ],
          "name": "stdout"
        },
        {
          "output_type": "stream",
          "text": [
            "INFO:tensorflow:Assets written to: BestModel/assets\n"
          ],
          "name": "stderr"
        },
        {
          "output_type": "stream",
          "text": [
            "Epoch 78/100\n",
            "2667/2667 [==============================] - 34s 13ms/step - loss: 0.0176 - accuracy: 0.9944 - val_loss: 0.0198 - val_accuracy: 0.9928\n",
            "Epoch 79/100\n",
            "2667/2667 [==============================] - 34s 13ms/step - loss: 0.0191 - accuracy: 0.9944 - val_loss: 0.0275 - val_accuracy: 0.9917\n",
            "Epoch 80/100\n",
            "2667/2667 [==============================] - 34s 13ms/step - loss: 0.0169 - accuracy: 0.9945 - val_loss: 0.0275 - val_accuracy: 0.9912\n",
            "Epoch 81/100\n",
            "2667/2667 [==============================] - 34s 13ms/step - loss: 0.0179 - accuracy: 0.9943 - val_loss: 0.0248 - val_accuracy: 0.9918\n",
            "Epoch 82/100\n",
            "2667/2667 [==============================] - 34s 13ms/step - loss: 0.0154 - accuracy: 0.9945 - val_loss: 0.0218 - val_accuracy: 0.9924\n",
            "Epoch 83/100\n",
            "2667/2667 [==============================] - 34s 13ms/step - loss: 0.0163 - accuracy: 0.9951 - val_loss: 0.0235 - val_accuracy: 0.9922\n",
            "Epoch 84/100\n",
            "2667/2667 [==============================] - 34s 13ms/step - loss: 0.0152 - accuracy: 0.9955 - val_loss: 0.0332 - val_accuracy: 0.9902\n",
            "Epoch 85/100\n",
            "2667/2667 [==============================] - 34s 13ms/step - loss: 0.0160 - accuracy: 0.9955 - val_loss: 0.0223 - val_accuracy: 0.9927\n",
            "Epoch 86/100\n",
            "2667/2667 [==============================] - 34s 13ms/step - loss: 0.0127 - accuracy: 0.9960 - val_loss: 0.0214 - val_accuracy: 0.9929\n",
            "Epoch 87/100\n",
            "2667/2667 [==============================] - 34s 13ms/step - loss: 0.0119 - accuracy: 0.9962 - val_loss: 0.0232 - val_accuracy: 0.9914\n",
            "Epoch 88/100\n",
            "2667/2667 [==============================] - 34s 13ms/step - loss: 0.0148 - accuracy: 0.9950 - val_loss: 0.0346 - val_accuracy: 0.9885\n",
            "Epoch 89/100\n",
            "2667/2667 [==============================] - 34s 13ms/step - loss: 0.0158 - accuracy: 0.9953 - val_loss: 0.0192 - val_accuracy: 0.9935\n",
            "Epoch 90/100\n",
            "2667/2667 [==============================] - 34s 13ms/step - loss: 0.0132 - accuracy: 0.9957 - val_loss: 0.0181 - val_accuracy: 0.9935\n",
            "Epoch 91/100\n",
            "2667/2667 [==============================] - 35s 13ms/step - loss: 0.0144 - accuracy: 0.9960 - val_loss: 0.0182 - val_accuracy: 0.9941\n"
          ],
          "name": "stdout"
        },
        {
          "output_type": "stream",
          "text": [
            "WARNING:absl:Found untraced functions such as lstm_cell_4_layer_call_and_return_conditional_losses, lstm_cell_4_layer_call_fn, lstm_cell_5_layer_call_and_return_conditional_losses, lstm_cell_5_layer_call_fn, lstm_cell_4_layer_call_fn while saving (showing 5 of 10). These functions will not be directly callable after loading.\n"
          ],
          "name": "stderr"
        },
        {
          "output_type": "stream",
          "text": [
            "INFO:tensorflow:Assets written to: BestModel/assets\n"
          ],
          "name": "stdout"
        },
        {
          "output_type": "stream",
          "text": [
            "INFO:tensorflow:Assets written to: BestModel/assets\n"
          ],
          "name": "stderr"
        },
        {
          "output_type": "stream",
          "text": [
            "Epoch 92/100\n",
            "2667/2667 [==============================] - 38s 14ms/step - loss: 0.0123 - accuracy: 0.9960 - val_loss: 0.0181 - val_accuracy: 0.9940\n",
            "Epoch 93/100\n",
            "2667/2667 [==============================] - 34s 13ms/step - loss: 0.0100 - accuracy: 0.9962 - val_loss: 0.0186 - val_accuracy: 0.9940\n",
            "Epoch 94/100\n",
            "2667/2667 [==============================] - 34s 13ms/step - loss: 0.0113 - accuracy: 0.9964 - val_loss: 0.0210 - val_accuracy: 0.9936\n",
            "Epoch 95/100\n",
            "2667/2667 [==============================] - 35s 13ms/step - loss: 0.0188 - accuracy: 0.9953 - val_loss: 0.0200 - val_accuracy: 0.9933\n",
            "Epoch 96/100\n",
            "2667/2667 [==============================] - 34s 13ms/step - loss: 0.0154 - accuracy: 0.9959 - val_loss: 0.0235 - val_accuracy: 0.9934\n",
            "Epoch 97/100\n",
            "2667/2667 [==============================] - 34s 13ms/step - loss: 0.0143 - accuracy: 0.9962 - val_loss: 0.0185 - val_accuracy: 0.9928\n",
            "Epoch 98/100\n",
            "2667/2667 [==============================] - 34s 13ms/step - loss: 0.0121 - accuracy: 0.9964 - val_loss: 0.0260 - val_accuracy: 0.9915\n",
            "Epoch 99/100\n",
            "2667/2667 [==============================] - 34s 13ms/step - loss: 0.0123 - accuracy: 0.9964 - val_loss: 0.0206 - val_accuracy: 0.9931\n",
            "Epoch 100/100\n",
            "2667/2667 [==============================] - 34s 13ms/step - loss: 0.0101 - accuracy: 0.9971 - val_loss: 0.0420 - val_accuracy: 0.9895\n",
            "Fold 2, 100 epochs, 3626 sec\n"
          ],
          "name": "stdout"
        },
        {
          "output_type": "display_data",
          "data": {
            "image/png": "[encoded data removed]",
            "text/plain": [
              "<Figure size 576x360 with 1 Axes>"
            ]
          },
          "metadata": {
            "tags": [],
            "needs_background": "light"
          }
        },
        {
          "output_type": "stream",
          "text": [
            "MODEL\n",
            "make_DNN\n",
            "input shape: (128, 4)\n",
            "FIT\n",
            "Epoch 1/100\n",
            "2667/2667 [==============================] - 40s 14ms/step - loss: 0.6893 - accuracy: 0.5448 - val_loss: 0.6332 - val_accuracy: 0.6417\n",
            "Epoch 2/100\n",
            "2667/2667 [==============================] - 35s 13ms/step - loss: 0.6269 - accuracy: 0.6480 - val_loss: 0.5700 - val_accuracy: 0.6947\n",
            "Epoch 3/100\n",
            "2667/2667 [==============================] - 35s 13ms/step - loss: 0.5764 - accuracy: 0.6914 - val_loss: 0.5592 - val_accuracy: 0.6999\n",
            "Epoch 4/100\n",
            " 995/2667 [==========>...................] - ETA: 18s - loss: 0.5610 - accuracy: 0.6949"
          ],
          "name": "stdout"
        }
      ]
    },
    {
      "cell_type": "code",
      "metadata": {
        "id": "e-jG1h5fj2Ua"
      },
      "source": [
        "from keras.models import load_model\n",
        "X,y = prepare_inputs_len_x_alphabet(pc_test,nc_test,ALPHABET)\n",
        "best_model=load_model(MODELPATH)\n",
        "scores = best_model.evaluate(X, y, verbose=0)\n",
        "print(\"The best model parameters were saved during cross-validation.\")\n",
        "print(\"Best was defined as maximum validation accuracy at end of any epoch.\")\n",
        "print(\"Now re-load the best model and test it on previously unseen data.\")\n",
        "print(\"Test on\",len(pc_test),\"PC seqs\")\n",
        "print(\"Test on\",len(nc_test),\"NC seqs\")\n",
        "print(\"%s: %.2f%%\" % (best_model.metrics_names[1], scores[1]*100))\n"
      ],
      "execution_count": null,
      "outputs": []
    },
    {
      "cell_type": "code",
      "metadata": {
        "id": "VycUnmvUj2Ue"
      },
      "source": [
        "from sklearn.metrics import roc_curve\n",
        "from sklearn.metrics import roc_auc_score\n",
        "ns_probs = [0 for _ in range(len(y))]\n",
        "bm_probs = best_model.predict(X)\n",
        "ns_auc = roc_auc_score(y, ns_probs)\n",
        "bm_auc = roc_auc_score(y, bm_probs)\n",
        "ns_fpr, ns_tpr, _ = roc_curve(y, ns_probs)\n",
        "bm_fpr, bm_tpr, _ = roc_curve(y, bm_probs)\n",
        "plt.plot(ns_fpr, ns_tpr, linestyle='--', label='Guess, auc=%.4f'%ns_auc)\n",
        "plt.plot(bm_fpr, bm_tpr, marker='.', label='Model, auc=%.4f'%bm_auc)\n",
        "plt.title('ROC')\n",
        "plt.xlabel('False Positive Rate')\n",
        "plt.ylabel('True Positive Rate')\n",
        "plt.legend()\n",
        "plt.show()\n",
        "print(\"%s: %.2f%%\" %('AUC',bm_auc*100.0))\n"
      ],
      "execution_count": null,
      "outputs": []
    },
    {
      "cell_type": "code",
      "metadata": {
        "id": "kFMb6rGNj2Ug"
      },
      "source": [
        "t = time.time()\n",
        "time.strftime('%Y-%m-%d %H:%M:%S %Z', time.localtime(t))"
      ],
      "execution_count": null,
      "outputs": []
    },
    {
      "cell_type": "code",
      "metadata": {
        "id": "e-mEgDrQjUzF"
      },
      "source": [
        ""
      ],
      "execution_count": null,
      "outputs": []
    }
  ]
}