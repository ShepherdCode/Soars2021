{
 "cells": [
  {
   "cell_type": "markdown",
   "metadata": {
    "id": "ojm_6E9f9Kcf"
   },
   "source": [
    "# MLP ORF to GenCode \n",
    "\n",
    "Use GenCode 38 and length-restricted data.  \n",
    "Use model pre-trained on Simulated ORF.  "
   ]
  },
  {
   "cell_type": "code",
   "execution_count": 1,
   "metadata": {
    "colab": {
     "base_uri": "https://localhost:8080/"
    },
    "id": "RmPF4h_YI_sT",
    "outputId": "a1edd650-41ca-4e7e-e543-a8e36a0b40c9"
   },
   "outputs": [
    {
     "name": "stdout",
     "output_type": "stream",
     "text": [
      "2021-08-16 17:36:14 EDT\n"
     ]
    }
   ],
   "source": [
    "import time\n",
    "def show_time():\n",
    "    t = time.time()\n",
    "    print(time.strftime('%Y-%m-%d %H:%M:%S %Z', time.localtime(t)))\n",
    "show_time()"
   ]
  },
  {
   "cell_type": "code",
   "execution_count": 2,
   "metadata": {
    "id": "VQY7aTj29Kch"
   },
   "outputs": [
    {
     "name": "stderr",
     "output_type": "stream",
     "text": [
      "2021-08-16 17:36:15.033408: I tensorflow/stream_executor/platform/default/dso_loader.cc:53] Successfully opened dynamic library libcudart.so.11.0\n"
     ]
    }
   ],
   "source": [
    "import numpy as np\n",
    "import pandas as pd\n",
    "import matplotlib.pyplot as plt\n",
    "from sklearn.utils import shuffle\n",
    "from sklearn.model_selection import KFold\n",
    "from sklearn.model_selection import cross_val_score\n",
    "from sklearn.metrics import roc_curve\n",
    "from sklearn.metrics import roc_auc_score\n",
    "\n",
    "from keras.models import Sequential\n",
    "from keras.layers import Dense,Embedding,Dropout\n",
    "from keras.layers import Flatten,TimeDistributed\n",
    "from keras.losses import BinaryCrossentropy\n",
    "from keras.callbacks import ModelCheckpoint\n",
    "from keras.models import load_model"
   ]
  },
  {
   "cell_type": "code",
   "execution_count": 3,
   "metadata": {
    "colab": {
     "base_uri": "https://localhost:8080/"
    },
    "id": "xUxEB53HI_sk",
    "outputId": "50c1004f-ef2f-4f51-d2d6-358a70a9a4fb"
   },
   "outputs": [
    {
     "name": "stdout",
     "output_type": "stream",
     "text": [
      "CoLab not working. On my PC, use relative paths.\n"
     ]
    }
   ],
   "source": [
    "import sys\n",
    "IN_COLAB = False\n",
    "try:\n",
    "    from google.colab import drive\n",
    "    IN_COLAB = True\n",
    "except:\n",
    "    pass\n",
    "if IN_COLAB:\n",
    "    print(\"On Google CoLab, mount cloud-local file, get our code from GitHub.\")\n",
    "    PATH='/content/drive/'\n",
    "    #drive.mount(PATH,force_remount=True)  # hardly ever need this\n",
    "    drive.mount(PATH)    # Google will require login credentials\n",
    "    DATAPATH=PATH+'My Drive/data/'  # must end in \"/\"\n",
    "    import requests\n",
    "    r = requests.get('https://raw.githubusercontent.com/ShepherdCode/Soars2021/master/SimTools/RNA_describe.py')\n",
    "    with open('RNA_describe.py', 'w') as f:\n",
    "        f.write(r.text)  \n",
    "    from RNA_describe import ORF_counter\n",
    "    r = requests.get('https://raw.githubusercontent.com/ShepherdCode/Soars2021/master/SimTools/GenCodeTools.py')\n",
    "    with open('GenCodeTools.py', 'w') as f:\n",
    "        f.write(r.text)  \n",
    "    from GenCodeTools import GenCodeLoader\n",
    "    r = requests.get('https://raw.githubusercontent.com/ShepherdCode/Soars2021/master/SimTools/KmerTools.py')\n",
    "    with open('KmerTools.py', 'w') as f:\n",
    "        f.write(r.text)  \n",
    "    from KmerTools import KmerTools\n",
    "else:\n",
    "        print(\"CoLab not working. On my PC, use relative paths.\")\n",
    "        DATAPATH='data/'  # must end in \"/\"\n",
    "        sys.path.append(\"..\") # append parent dir in order to use sibling dirs\n",
    "        from SimTools.RNA_describe import ORF_counter\n",
    "        from SimTools.GenCodeTools import GenCodeLoader\n",
    "        from SimTools.KmerTools import KmerTools\n",
    "BESTMODELPATH=DATAPATH+\"BestModel-304\"  \n",
    "LASTMODELPATH=DATAPATH+\"LastModel\"  "
   ]
  },
  {
   "cell_type": "markdown",
   "metadata": {
    "id": "8buAhZRfI_sp"
   },
   "source": [
    "## Data Load"
   ]
  },
  {
   "cell_type": "code",
   "execution_count": 4,
   "metadata": {
    "colab": {
     "base_uri": "https://localhost:8080/"
    },
    "id": "h94xptH1tI82",
    "outputId": "1768facb-1428-432e-bdb0-e16ae90109f4"
   },
   "outputs": [
    {
     "name": "stdout",
     "output_type": "stream",
     "text": [
      "2021-08-16 17:36:16 EDT\n"
     ]
    }
   ],
   "source": [
    "PC_TRAINS=0\n",
    "NC_TRAINS=0\n",
    "PC_TESTS=20000\n",
    "NC_TESTS=20000   \n",
    "PC_LENS=(0,0)\n",
    "NC_LENS=(0,0)   \n",
    "PC_FILENAME='gencode.v38.pc_transcripts.fa.gz'\n",
    "NC_FILENAME='gencode.v38.lncRNA_transcripts.fa.gz'\n",
    "PC_FULLPATH=DATAPATH+PC_FILENAME\n",
    "NC_FULLPATH=DATAPATH+NC_FILENAME\n",
    "MAX_K = 3 \n",
    "INPUT_SHAPE=(None,84)  # 4^3 + 4^2 + 4^1\n",
    "NEURONS=32\n",
    "DROP_RATE=0.30\n",
    "EPOCHS=200\n",
    "SPLITS=3\n",
    "FOLDS=3   \n",
    "show_time()"
   ]
  },
  {
   "cell_type": "code",
   "execution_count": 5,
   "metadata": {
    "colab": {
     "base_uri": "https://localhost:8080/"
    },
    "id": "VNnPagXjtI85",
    "outputId": "5f0a0e19-625d-4348-ae2c-959322fc1628"
   },
   "outputs": [
    {
     "name": "stdout",
     "output_type": "stream",
     "text": [
      "PC seqs loaded: 106143\n",
      "NC seqs loaded: 48752\n",
      "2021-08-16 17:36:18 EDT\n"
     ]
    }
   ],
   "source": [
    "loader=GenCodeLoader()\n",
    "loader.set_label(1)\n",
    "loader.set_check_utr(False)  # not ORF-restricted\n",
    "pcdf=loader.load_file(PC_FULLPATH)\n",
    "print(\"PC seqs loaded:\",len(pcdf))\n",
    "loader.set_label(0)\n",
    "loader.set_check_utr(False)\n",
    "ncdf=loader.load_file(NC_FULLPATH)\n",
    "print(\"NC seqs loaded:\",len(ncdf))\n",
    "show_time()"
   ]
  },
  {
   "cell_type": "code",
   "execution_count": 6,
   "metadata": {
    "colab": {
     "base_uri": "https://localhost:8080/"
    },
    "id": "ShtPw_fGtI9E",
    "outputId": "7e2cef66-c962-4fc3-c907-eb2170fa5901"
   },
   "outputs": [
    {
     "name": "stdout",
     "output_type": "stream",
     "text": [
      "2021-08-16 17:36:18 EDT\n",
      "PC seqs pass filter: 106143\n",
      "NC seqs pass filter: 48752\n"
     ]
    }
   ],
   "source": [
    "def dataframe_length_filter(df,low_high):\n",
    "    (low,high)=low_high\n",
    "    # The pandas query language is strange, \n",
    "    # but this is MUCH faster than loop & drop.\n",
    "    return df[ (df['seqlen']>=low) & (df['seqlen']<=high) ]\n",
    "def dataframe_extract_sequence(df):\n",
    "    return df['sequence'].tolist()\n",
    "\n",
    "pc_all = dataframe_extract_sequence(pcdf)\n",
    "    # dataframe_length_filter(pcdf,PC_LENS))  # length-restricted\n",
    "nc_all = dataframe_extract_sequence(ncdf)\n",
    "    # dataframe_length_filter(ncdf,NC_LENS))\n",
    "\n",
    "show_time()\n",
    "print(\"PC seqs pass filter:\",len(pc_all))\n",
    "print(\"NC seqs pass filter:\",len(nc_all))\n",
    "# Garbage collection to reduce RAM footprint\n",
    "pcdf=None\n",
    "ncdf=None"
   ]
  },
  {
   "cell_type": "code",
   "execution_count": 7,
   "metadata": {},
   "outputs": [],
   "source": [
    "pc_all = shuffle(pc_all)\n",
    "pc_all = pc_all[:PC_TESTS]\n",
    "nc_all = shuffle(nc_all)\n",
    "nc_all = nc_all[:NC_TESTS]"
   ]
  },
  {
   "cell_type": "code",
   "execution_count": 8,
   "metadata": {},
   "outputs": [
    {
     "name": "stdout",
     "output_type": "stream",
     "text": [
      "Simulated sequence characteristics:\n",
      "PC seqs\n",
      "Average RNA length: 2300.842\n",
      "Average ORF length: 1142.4996\n",
      "NC seqs\n",
      "Average RNA length: 1314.03885\n",
      "Average ORF length: 207.46035\n",
      "2021-08-16 17:36:24 EDT\n"
     ]
    }
   ],
   "source": [
    "# Describe the sequences\n",
    "def describe_sequences(list_of_seq):\n",
    "    oc = ORF_counter()\n",
    "    num_seq = len(list_of_seq)\n",
    "    rna_lens = np.zeros(num_seq)\n",
    "    orf_lens = np.zeros(num_seq)\n",
    "    for i in range(0,num_seq):\n",
    "        rna_len = len(list_of_seq[i])\n",
    "        rna_lens[i] = rna_len\n",
    "        oc.set_sequence(list_of_seq[i])\n",
    "        orf_len = oc.get_max_orf_len()\n",
    "        orf_lens[i] = orf_len\n",
    "    print (\"Average RNA length:\",rna_lens.mean())\n",
    "    print (\"Average ORF length:\",orf_lens.mean())\n",
    "    \n",
    "print(\"Simulated sequence characteristics:\")\n",
    "print(\"PC seqs\")\n",
    "describe_sequences(pc_all)\n",
    "print(\"NC seqs\")\n",
    "describe_sequences(nc_all)\n",
    "show_time()"
   ]
  },
  {
   "cell_type": "markdown",
   "metadata": {
    "id": "CCNh_FZaI_sv"
   },
   "source": [
    "## Data Prep"
   ]
  },
  {
   "cell_type": "code",
   "execution_count": 9,
   "metadata": {},
   "outputs": [
    {
     "ename": "MemoryError",
     "evalue": "Unable to allocate 25.9 GiB for an array with shape (20000,) and data type <U347561",
     "output_type": "error",
     "traceback": [
      "\u001b[0;31m---------------------------------------------------------------------------\u001b[0m",
      "\u001b[0;31mMemoryError\u001b[0m                               Traceback (most recent call last)",
      "\u001b[0;32m/tmp/ipykernel_16675/1523760589.py\u001b[0m in \u001b[0;36m<module>\u001b[0;34m\u001b[0m\n\u001b[1;32m     12\u001b[0m     \u001b[0mX\u001b[0m\u001b[0;34m,\u001b[0m\u001b[0my\u001b[0m \u001b[0;34m=\u001b[0m \u001b[0mshuffle\u001b[0m\u001b[0;34m(\u001b[0m\u001b[0mall_seqs\u001b[0m\u001b[0;34m,\u001b[0m\u001b[0mall_labels\u001b[0m\u001b[0;34m)\u001b[0m \u001b[0;31m# sklearn.utils.shuffle\u001b[0m\u001b[0;34m\u001b[0m\u001b[0;34m\u001b[0m\u001b[0m\n\u001b[1;32m     13\u001b[0m     \u001b[0;32mreturn\u001b[0m \u001b[0mX\u001b[0m\u001b[0;34m,\u001b[0m\u001b[0my\u001b[0m\u001b[0;34m\u001b[0m\u001b[0;34m\u001b[0m\u001b[0m\n\u001b[0;32m---> 14\u001b[0;31m \u001b[0mXseq\u001b[0m\u001b[0;34m,\u001b[0m\u001b[0my\u001b[0m\u001b[0;34m=\u001b[0m\u001b[0mcombine_pos_and_neg\u001b[0m\u001b[0;34m(\u001b[0m\u001b[0mpc_all\u001b[0m\u001b[0;34m,\u001b[0m\u001b[0mnc_all\u001b[0m\u001b[0;34m)\u001b[0m\u001b[0;34m\u001b[0m\u001b[0;34m\u001b[0m\u001b[0m\n\u001b[0m\u001b[1;32m     15\u001b[0m \u001b[0mprint\u001b[0m\u001b[0;34m(\u001b[0m\u001b[0;34m\"The first few shuffled labels:\"\u001b[0m\u001b[0;34m)\u001b[0m\u001b[0;34m\u001b[0m\u001b[0;34m\u001b[0m\u001b[0m\n\u001b[1;32m     16\u001b[0m \u001b[0mprint\u001b[0m\u001b[0;34m(\u001b[0m\u001b[0my\u001b[0m\u001b[0;34m[\u001b[0m\u001b[0;34m:\u001b[0m\u001b[0;36m30\u001b[0m\u001b[0;34m]\u001b[0m\u001b[0;34m)\u001b[0m\u001b[0;34m\u001b[0m\u001b[0;34m\u001b[0m\u001b[0m\n",
      "\u001b[0;32m/tmp/ipykernel_16675/1523760589.py\u001b[0m in \u001b[0;36mcombine_pos_and_neg\u001b[0;34m(seqs1, seqs0)\u001b[0m\n\u001b[1;32m      5\u001b[0m     \u001b[0mL0\u001b[0m\u001b[0;34m=\u001b[0m\u001b[0mnp\u001b[0m\u001b[0;34m.\u001b[0m\u001b[0mzeros\u001b[0m\u001b[0;34m(\u001b[0m\u001b[0mlen0\u001b[0m\u001b[0;34m,\u001b[0m\u001b[0mdtype\u001b[0m\u001b[0;34m=\u001b[0m\u001b[0mnp\u001b[0m\u001b[0;34m.\u001b[0m\u001b[0mint8\u001b[0m\u001b[0;34m)\u001b[0m\u001b[0;34m\u001b[0m\u001b[0;34m\u001b[0m\u001b[0m\n\u001b[1;32m      6\u001b[0m     \u001b[0mS1\u001b[0m \u001b[0;34m=\u001b[0m \u001b[0mnp\u001b[0m\u001b[0;34m.\u001b[0m\u001b[0masarray\u001b[0m\u001b[0;34m(\u001b[0m\u001b[0mseqs1\u001b[0m\u001b[0;34m)\u001b[0m\u001b[0;34m\u001b[0m\u001b[0;34m\u001b[0m\u001b[0m\n\u001b[0;32m----> 7\u001b[0;31m     \u001b[0mS0\u001b[0m \u001b[0;34m=\u001b[0m \u001b[0mnp\u001b[0m\u001b[0;34m.\u001b[0m\u001b[0masarray\u001b[0m\u001b[0;34m(\u001b[0m\u001b[0mseqs0\u001b[0m\u001b[0;34m)\u001b[0m\u001b[0;34m\u001b[0m\u001b[0;34m\u001b[0m\u001b[0m\n\u001b[0m\u001b[1;32m      8\u001b[0m     \u001b[0mall_labels\u001b[0m \u001b[0;34m=\u001b[0m \u001b[0mnp\u001b[0m\u001b[0;34m.\u001b[0m\u001b[0mconcatenate\u001b[0m\u001b[0;34m(\u001b[0m\u001b[0;34m(\u001b[0m\u001b[0mL1\u001b[0m\u001b[0;34m,\u001b[0m\u001b[0mL0\u001b[0m\u001b[0;34m)\u001b[0m\u001b[0;34m)\u001b[0m\u001b[0;34m\u001b[0m\u001b[0;34m\u001b[0m\u001b[0m\n\u001b[1;32m      9\u001b[0m     \u001b[0mall_seqs\u001b[0m \u001b[0;34m=\u001b[0m \u001b[0mnp\u001b[0m\u001b[0;34m.\u001b[0m\u001b[0mconcatenate\u001b[0m\u001b[0;34m(\u001b[0m\u001b[0;34m(\u001b[0m\u001b[0mS1\u001b[0m\u001b[0;34m,\u001b[0m\u001b[0mS0\u001b[0m\u001b[0;34m)\u001b[0m\u001b[0;34m)\u001b[0m\u001b[0;34m\u001b[0m\u001b[0;34m\u001b[0m\u001b[0m\n",
      "\u001b[0;32m~/venv/lib/python3.8/site-packages/numpy/core/_asarray.py\u001b[0m in \u001b[0;36masarray\u001b[0;34m(a, dtype, order)\u001b[0m\n\u001b[1;32m     81\u001b[0m \u001b[0;34m\u001b[0m\u001b[0m\n\u001b[1;32m     82\u001b[0m     \"\"\"\n\u001b[0;32m---> 83\u001b[0;31m     \u001b[0;32mreturn\u001b[0m \u001b[0marray\u001b[0m\u001b[0;34m(\u001b[0m\u001b[0ma\u001b[0m\u001b[0;34m,\u001b[0m \u001b[0mdtype\u001b[0m\u001b[0;34m,\u001b[0m \u001b[0mcopy\u001b[0m\u001b[0;34m=\u001b[0m\u001b[0;32mFalse\u001b[0m\u001b[0;34m,\u001b[0m \u001b[0morder\u001b[0m\u001b[0;34m=\u001b[0m\u001b[0morder\u001b[0m\u001b[0;34m)\u001b[0m\u001b[0;34m\u001b[0m\u001b[0;34m\u001b[0m\u001b[0m\n\u001b[0m\u001b[1;32m     84\u001b[0m \u001b[0;34m\u001b[0m\u001b[0m\n\u001b[1;32m     85\u001b[0m \u001b[0;34m\u001b[0m\u001b[0m\n",
      "\u001b[0;31mMemoryError\u001b[0m: Unable to allocate 25.9 GiB for an array with shape (20000,) and data type <U347561"
     ]
    }
   ],
   "source": [
    "def combine_pos_and_neg(seqs1,seqs0):\n",
    "    len1=len(seqs1)\n",
    "    len0=len(seqs0)\n",
    "    L1=np.ones(len1,dtype=np.int8)\n",
    "    L0=np.zeros(len0,dtype=np.int8)\n",
    "    S1 = np.asarray(seqs1)\n",
    "    S0 = np.asarray(seqs0)\n",
    "    all_labels = np.concatenate((L1,L0))\n",
    "    all_seqs = np.concatenate((S1,S0))  \n",
    "    #X = shuffle(all_seqs,random_state=3) # sklearn.utils.shuffle \n",
    "    #y = shuffle(all_labels,random_state=3) # sklearn.utils.shuffle \n",
    "    X,y = shuffle(all_seqs,all_labels) # sklearn.utils.shuffle \n",
    "    return X,y\n",
    "Xseq,y=combine_pos_and_neg(pc_all,nc_all)\n",
    "print(\"The first few shuffled labels:\")\n",
    "print(y[:30])\n",
    "pc_all=None\n",
    "nc_all=None\n",
    "show_time()"
   ]
  },
  {
   "cell_type": "code",
   "execution_count": null,
   "metadata": {},
   "outputs": [],
   "source": [
    "def seqs_to_kmer_freqs(seqs,max_K):\n",
    "    tool = KmerTools()  # from SimTools\n",
    "    collection = []\n",
    "    debug = 0\n",
    "    for seq in seqs:\n",
    "        counts = tool.make_dict_upto_K(max_K)\n",
    "        # Last param should be True when using Harvester.\n",
    "        counts = tool.update_count_one_K(counts,max_K,seq,True)\n",
    "        # Given counts for K=3, Harvester fills in counts for K=1,2.\n",
    "        counts = tool.harvest_counts_from_K(counts,max_K)\n",
    "        fdict = tool.count_to_frequency(counts,max_K)\n",
    "        freqs = list(fdict.values())\n",
    "        collection.append(freqs)\n",
    "        if (debug<3):\n",
    "            print(fdict)\n",
    "            debug += 1;\n",
    "    return np.asarray(collection)\n",
    "Xfrq=seqs_to_kmer_freqs(Xseq,MAX_K)\n",
    "print(\"First few K-mer frequency matrices:\")\n",
    "print(Xfrq[:3])\n",
    "Xseq = None\n",
    "show_time()"
   ]
  },
  {
   "cell_type": "code",
   "execution_count": null,
   "metadata": {},
   "outputs": [],
   "source": [
    "# Assume X and y were shuffled.\n",
    "train_size=PC_TRAINS+NC_TRAINS\n",
    "X_train=Xfrq[:train_size] \n",
    "X_test=Xfrq[train_size:]\n",
    "y_train=y[:train_size] \n",
    "y_test=y[train_size:]\n",
    "print(\"Training set size=\",len(X_train),\"=\",len(y_train))\n",
    "print(\"Reserved test set size=\",len(X_test),\"=\",len(y_test))\n",
    "Xfrq=None\n",
    "y=None\n",
    "show_time()"
   ]
  },
  {
   "cell_type": "markdown",
   "metadata": {
    "id": "dJ4XhrzGI_s-"
   },
   "source": [
    "## Load a trained neural network"
   ]
  },
  {
   "cell_type": "code",
   "execution_count": null,
   "metadata": {
    "colab": {
     "base_uri": "https://localhost:8080/",
     "height": 1000
    },
    "id": "BM6UjBzrrEAV",
    "outputId": "4d7ffa1e-f349-40ef-ee05-a3a8b038c3c7"
   },
   "outputs": [],
   "source": [
    "show_time()\n",
    "model = load_model(BESTMODELPATH)\n",
    "print(model.summary())"
   ]
  },
  {
   "cell_type": "markdown",
   "metadata": {
    "id": "OsytC9VUrEAX"
   },
   "source": [
    "## Test the neural network"
   ]
  },
  {
   "cell_type": "code",
   "execution_count": null,
   "metadata": {
    "id": "8hIqe1r1rEAa"
   },
   "outputs": [],
   "source": [
    "def show_test_AUC(model,X,y):\n",
    "    ns_probs = [0 for _ in range(len(y))]\n",
    "    bm_probs = model.predict(X)\n",
    "    ns_auc = roc_auc_score(y, ns_probs)\n",
    "    bm_auc = roc_auc_score(y, bm_probs)\n",
    "    ns_fpr, ns_tpr, _ = roc_curve(y, ns_probs)\n",
    "    bm_fpr, bm_tpr, _ = roc_curve(y, bm_probs)\n",
    "    plt.plot(ns_fpr, ns_tpr, linestyle='--', label='Guess, auc=%.4f'%ns_auc)\n",
    "    plt.plot(bm_fpr, bm_tpr, marker='.', label='Model, auc=%.4f'%bm_auc)\n",
    "    plt.title('ROC')\n",
    "    plt.xlabel('False Positive Rate')\n",
    "    plt.ylabel('True Positive Rate')\n",
    "    plt.legend()\n",
    "    plt.show()\n",
    "    print(\"%s: %.2f%%\" %('AUC',bm_auc*100.0))\n",
    "def show_test_accuracy(model,X,y):\n",
    "    scores = model.evaluate(X, y, verbose=0)\n",
    "    print(\"%s: %.2f%%\" % (model.metrics_names[1], scores[1]*100))\n"
   ]
  },
  {
   "cell_type": "code",
   "execution_count": null,
   "metadata": {
    "colab": {
     "base_uri": "https://localhost:8080/",
     "height": 469
    },
    "id": "tGf2PcxRC8jT",
    "outputId": "489f5c26-0ff9-4f02-f078-39e3abcc51ba"
   },
   "outputs": [],
   "source": [
    "print(\"Accuracy on test data.\")\n",
    "show_time()\n",
    "show_test_AUC(model,X_test,y_test)\n",
    "show_test_accuracy(model,X_test,y_test)\n",
    "show_time()"
   ]
  },
  {
   "cell_type": "code",
   "execution_count": null,
   "metadata": {
    "id": "-cSLTNfzrEAo"
   },
   "outputs": [],
   "source": []
  }
 ],
 "metadata": {
  "accelerator": "GPU",
  "colab": {
   "collapsed_sections": [],
   "name": "ORF_MLP_122.ipynb",
   "provenance": []
  },
  "kernelspec": {
   "display_name": "Python 3 (ipykernel)",
   "language": "python",
   "name": "python3"
  },
  "language_info": {
   "codemirror_mode": {
    "name": "ipython",
    "version": 3
   },
   "file_extension": ".py",
   "mimetype": "text/x-python",
   "name": "python",
   "nbconvert_exporter": "python",
   "pygments_lexer": "ipython3",
   "version": "3.8.10"
  }
 },
 "nbformat": 4,
 "nbformat_minor": 1
}
