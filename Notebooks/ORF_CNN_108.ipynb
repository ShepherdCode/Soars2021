{
  "nbformat": 4,
  "nbformat_minor": 0,
  "metadata": {
    "colab": {
      "name": "ORF_CNN_108.ipynb",
      "provenance": [],
      "collapsed_sections": []
    },
    "kernelspec": {
      "display_name": "Python 3",
      "language": "python",
      "name": "python3"
    },
    "language_info": {
      "codemirror_mode": {
        "name": "ipython",
        "version": 3
      },
      "file_extension": ".py",
      "mimetype": "text/x-python",
      "name": "python",
      "nbconvert_exporter": "python",
      "pygments_lexer": "ipython3",
      "version": "3.8.3"
    },
    "accelerator": "GPU"
  },
  "cells": [
    {
      "cell_type": "markdown",
      "metadata": {
        "id": "0asdcdunj2Tx"
      },
      "source": [
        "# ORF recognition by CNN\n",
        "\n",
        "In 105, we used Conv1D layers with filter width=3 with dropout to reduce overfitting. The simulated RNA lengths were 1000.\n",
        "\n",
        "As validation of the 107 notebook, use nc_sim to generate both sets. Thus, everything is non-coding from the start. The only way they might be distinguishable is if the random insertion (to generate a frameshift) is not so random."
      ]
    },
    {
      "cell_type": "code",
      "metadata": {
        "colab": {
          "base_uri": "https://localhost:8080/",
          "height": 36
        },
        "id": "QP1VTRNQj2UO",
        "outputId": "182947c0-6cd0-4075-d36f-2894d34d6399"
      },
      "source": [
        "import time \n",
        "t = time.time()\n",
        "time.strftime('%Y-%m-%d %H:%M:%S %Z', time.localtime(t))"
      ],
      "execution_count": 1,
      "outputs": [
        {
          "output_type": "execute_result",
          "data": {
            "application/vnd.google.colaboratory.intrinsic+json": {
              "type": "string"
            },
            "text/plain": [
              "'2021-06-10 20:21:41 UTC'"
            ]
          },
          "metadata": {
            "tags": []
          },
          "execution_count": 1
        }
      ]
    },
    {
      "cell_type": "code",
      "metadata": {
        "id": "Nhz4GKonj2T_"
      },
      "source": [
        "PC_SEQUENCES=2000   # how many protein-coding sequences\n",
        "NC_SEQUENCES=2000   # how many non-coding sequences\n",
        "PC_TESTS=1000\n",
        "NC_TESTS=1000\n",
        "RNA_LEN=21            # how long is each sequence\n",
        "CDS_LEN=15\n",
        "ALPHABET=4          # how many different letters are possible\n",
        "INPUT_SHAPE_2D = (RNA_LEN,ALPHABET,1) # Conv2D needs 3D inputs\n",
        "INPUT_SHAPE = (RNA_LEN,ALPHABET) # Conv1D needs 2D inputs\n",
        "FILTERS = 16   # how many different patterns the model looks for\n",
        "NEURONS = 16\n",
        "DROP_RATE = 0.2\n",
        "WIDTH = 3   # how wide each pattern is, in bases\n",
        "STRIDE_2D = (1,1)  # For Conv2D how far in each direction\n",
        "STRIDE = 1 # For Conv1D, how far between pattern matches, in bases\n",
        "EPOCHS=20  # how many times to train on all the data\n",
        "SPLITS=5  # SPLITS=3 means train on 2/3 and validate on 1/3 \n",
        "FOLDS=5  # train the model this many times (range 1 to SPLITS)"
      ],
      "execution_count": 2,
      "outputs": []
    },
    {
      "cell_type": "code",
      "metadata": {
        "colab": {
          "base_uri": "https://localhost:8080/"
        },
        "id": "lr7q90rxj2UE",
        "outputId": "30668a9a-652a-487f-f28d-561b6af465b9"
      },
      "source": [
        "import sys\n",
        "try:\n",
        "    from google.colab import drive\n",
        "    IN_COLAB = True\n",
        "    print(\"On Google CoLab, mount cloud-local file, get our code from GitHub.\")\n",
        "    PATH='/content/drive/'\n",
        "    #drive.mount(PATH,force_remount=True)  # hardly ever need this\n",
        "    #drive.mount(PATH)    # Google will require login credentials\n",
        "    DATAPATH=PATH+'My Drive/data/'  # must end in \"/\"\n",
        "    import requests\n",
        "    r = requests.get('https://raw.githubusercontent.com/ShepherdCode/Soars2021/master/SimTools/RNA_gen.py')\n",
        "    with open('RNA_gen.py', 'w') as f:\n",
        "        f.write(r.text)  \n",
        "    from RNA_gen import *\n",
        "    r = requests.get('https://raw.githubusercontent.com/ShepherdCode/Soars2021/master/SimTools/RNA_describe.py')\n",
        "    with open('RNA_describe.py', 'w') as f:\n",
        "        f.write(r.text)  \n",
        "    from RNA_describe import ORF_counter\n",
        "    r = requests.get('https://raw.githubusercontent.com/ShepherdCode/Soars2021/master/SimTools/RNA_prep.py')\n",
        "    with open('RNA_prep.py', 'w') as f:\n",
        "        f.write(r.text)  \n",
        "    from RNA_prep import *\n",
        "except:\n",
        "    print(\"CoLab not working. On my PC, use relative paths.\")\n",
        "    IN_COLAB = False\n",
        "    DATAPATH='data/'  # must end in \"/\"\n",
        "    sys.path.append(\"..\") # append parent dir in order to use sibling dirs\n",
        "    from SimTools.RNA_gen import *\n",
        "    from SimTools.RNA_describe import ORF_counter\n",
        "    from SimTools.RNA_prep import *\n",
        "\n",
        "MODELPATH=\"BestModel\"  # saved on cloud instance and lost after logout\n",
        "#MODELPATH=DATAPATH+MODELPATH  # saved on Google Drive but requires login\n",
        "\n",
        "if not assert_imported_RNA_gen():\n",
        "    print(\"ERROR: Cannot use RNA_gen.\")\n",
        "if not assert_imported_RNA_prep():\n",
        "    print(\"ERROR: Cannot use RNA_prep.\")"
      ],
      "execution_count": 3,
      "outputs": [
        {
          "output_type": "stream",
          "text": [
            "On Google CoLab, mount cloud-local file, get our code from GitHub.\n"
          ],
          "name": "stdout"
        }
      ]
    },
    {
      "cell_type": "code",
      "metadata": {
        "id": "EGDXH8Uwj2UM"
      },
      "source": [
        "from os import listdir\n",
        "import csv\n",
        "from zipfile import ZipFile\n",
        "\n",
        "import numpy as np\n",
        "import pandas as pd\n",
        "from scipy import stats  # mode\n",
        "\n",
        "from sklearn.preprocessing import StandardScaler\n",
        "from sklearn.model_selection import KFold\n",
        "from sklearn.model_selection import cross_val_score\n",
        "\n",
        "from keras.models import Sequential\n",
        "from keras.layers import Dense,Embedding,Dropout\n",
        "from keras.layers import Conv1D,Conv2D\n",
        "from keras.layers import Flatten,MaxPooling1D,MaxPooling2D\n",
        "from keras.losses import BinaryCrossentropy\n",
        "# tf.keras.losses.BinaryCrossentropy\n",
        "\n",
        "import matplotlib.pyplot as plt\n",
        "from matplotlib import colors\n",
        "mycmap = colors.ListedColormap(['red','blue'])  # list color for label 0 then 1\n",
        "np.set_printoptions(precision=2)\n"
      ],
      "execution_count": 4,
      "outputs": []
    },
    {
      "cell_type": "code",
      "metadata": {
        "colab": {
          "base_uri": "https://localhost:8080/"
        },
        "id": "Q0FetlLPj2UQ",
        "outputId": "cda4ab51-7552-4b3d-e0fe-cb7fde6d0392"
      },
      "source": [
        "# Use code from our SimTools library.\n",
        "def make_generators(seq_len):\n",
        "    pcgen = Collection_Generator()  \n",
        "    pcgen.get_len_oracle().set_mean(seq_len)\n",
        "    tora = Transcript_Oracle()\n",
        "    tora.set_cds_len_mean(CDS_LEN)  # CDS=ORF+STOP. Method is misnamed.\n",
        "    pcgen.set_seq_oracle(tora)\n",
        "    ncgen = Collection_Generator()  \n",
        "    ncgen.get_len_oracle().set_mean(seq_len)\n",
        "    return pcgen,ncgen\n",
        "\n",
        "pc_sim,nc_sim = make_generators(RNA_LEN)\n",
        "pc_all = nc_sim.get_sequences(PC_SEQUENCES+PC_TESTS)\n",
        "nc_all = nc_sim.get_sequences(NC_SEQUENCES+NC_TESTS) # YES, use NC for both!\n",
        "print(\"Use\",len(pc_all),\"PC seqs\")\n",
        "print(\"Use\",len(nc_all),\"NC seqs\")"
      ],
      "execution_count": 5,
      "outputs": [
        {
          "output_type": "stream",
          "text": [
            "Use 3000 PC seqs\n",
            "Use 3000 NC seqs\n"
          ],
          "name": "stdout"
        }
      ]
    },
    {
      "cell_type": "code",
      "metadata": {
        "colab": {
          "base_uri": "https://localhost:8080/"
        },
        "id": "IRZVf1iSkmKp",
        "outputId": "cdec01d5-6f58-4a27-ac73-ea1d02607ba4"
      },
      "source": [
        "# Describe the sequences\n",
        "def describe_sequences(list_of_seq):\n",
        "    oc = ORF_counter()\n",
        "    num_seq = len(list_of_seq)\n",
        "    rna_lens = np.zeros(num_seq)\n",
        "    orf_lens = np.zeros(num_seq)\n",
        "    for i in range(0,num_seq):\n",
        "        rna_len = len(list_of_seq[i])\n",
        "        rna_lens[i] = rna_len\n",
        "        oc.set_sequence(list_of_seq[i])\n",
        "        orf_len = oc.get_max_orf_len()\n",
        "        orf_lens[i] = orf_len\n",
        "    print (\"Average RNA length:\",rna_lens.mean())\n",
        "    print (\"Average ORF length:\",orf_lens.mean())\n",
        "    \n",
        "print(\"Simulated sequences prior to adjustment:\")\n",
        "print(\"PC seqs\")\n",
        "describe_sequences(pc_all)\n",
        "print(\"NC seqs\")\n",
        "describe_sequences(nc_all)"
      ],
      "execution_count": 6,
      "outputs": [
        {
          "output_type": "stream",
          "text": [
            "Simulated sequences prior to adjustment:\n",
            "PC seqs\n",
            "Average RNA length: 21.0\n",
            "Average ORF length: 0.235\n",
            "NC seqs\n",
            "Average RNA length: 21.0\n",
            "Average ORF length: 0.236\n"
          ],
          "name": "stdout"
        }
      ]
    },
    {
      "cell_type": "code",
      "metadata": {
        "colab": {
          "base_uri": "https://localhost:8080/"
        },
        "id": "mBcbtIV-kmKr",
        "outputId": "e26cfb21-6d43-494e-dfb2-eab3167ca391"
      },
      "source": [
        "import random\n",
        "def alter_sequences(list_of_seq,center):\n",
        "    global next_pos,bases\n",
        "    new_list = []\n",
        "    for S in list_of_seq:\n",
        "        seq_len = len(S)\n",
        "        next_left = random.choice([True,False])\n",
        "        next_base = random.choice(['A','C','G','T'])\n",
        "        new_seq=\"\"\n",
        "        if center:\n",
        "            half=seq_len//2\n",
        "            if next_left:\n",
        "                new_seq=S[0:half]+next_base+S[half:-1]\n",
        "            else:\n",
        "                new_seq=S[1:half]+next_base+S[half:]\n",
        "        else:\n",
        "            if next_left:\n",
        "                new_seq=next_base+S[1:]\n",
        "            else:\n",
        "                new_seq=S[:-1]+next_base \n",
        "        new_list.append(new_seq)\n",
        "    return new_list\n",
        "pc_all = alter_sequences(pc_all,False)\n",
        "nc_all = alter_sequences(nc_all,True)\n",
        "\n",
        "print(\"Simulated sequences after adjustment:\")\n",
        "print(\"PC seqs\")\n",
        "describe_sequences(pc_all)\n",
        "print(\"NC seqs\")\n",
        "describe_sequences(nc_all)"
      ],
      "execution_count": 7,
      "outputs": [
        {
          "output_type": "stream",
          "text": [
            "Simulated sequences after adjustment:\n",
            "PC seqs\n",
            "Average RNA length: 21.0\n",
            "Average ORF length: 0.252\n",
            "NC seqs\n",
            "Average RNA length: 21.0\n",
            "Average ORF length: 0.263\n"
          ],
          "name": "stdout"
        }
      ]
    },
    {
      "cell_type": "code",
      "metadata": {
        "id": "_DcoikN_kmKs"
      },
      "source": [
        "pc_train=pc_all[:PC_SEQUENCES]\n",
        "nc_train=nc_all[:NC_SEQUENCES]\n",
        "pc_test=pc_all[PC_SEQUENCES:]\n",
        "nc_test=nc_all[NC_SEQUENCES:]"
      ],
      "execution_count": 8,
      "outputs": []
    },
    {
      "cell_type": "code",
      "metadata": {
        "colab": {
          "base_uri": "https://localhost:8080/"
        },
        "id": "CIpTrnH6j2US",
        "outputId": "58a8aa2d-ff46-4c97-caa7-269441fd4590"
      },
      "source": [
        "# Use code from our SimTools library.\n",
        "X,y = prepare_inputs_len_x_alphabet(pc_train,nc_train,ALPHABET) # shuffles\n",
        "print(\"Data ready.\")"
      ],
      "execution_count": 9,
      "outputs": [
        {
          "output_type": "stream",
          "text": [
            "Data ready.\n"
          ],
          "name": "stdout"
        }
      ]
    },
    {
      "cell_type": "code",
      "metadata": {
        "colab": {
          "base_uri": "https://localhost:8080/"
        },
        "id": "7NvrVU8ij2UU",
        "outputId": "775c165e-a00d-401f-ca4f-41c66fc06941"
      },
      "source": [
        "def make_DNN():\n",
        "    print(\"make_DNN\")\n",
        "    print(\"input shape:\",INPUT_SHAPE)\n",
        "    dnn = Sequential()\n",
        "    #dnn.add(Embedding(input_dim=INPUT_SHAPE,output_dim=INPUT_SHAPE)) \n",
        "    dnn.add(Conv1D(filters=FILTERS,kernel_size=WIDTH,strides=STRIDE,padding=\"same\",\n",
        "            input_shape=INPUT_SHAPE))\n",
        "    dnn.add(Conv1D(filters=FILTERS,kernel_size=WIDTH,strides=STRIDE,padding=\"same\"))\n",
        "    dnn.add(MaxPooling1D())\n",
        "    dnn.add(Conv1D(filters=FILTERS,kernel_size=WIDTH,strides=STRIDE,padding=\"same\"))\n",
        "    dnn.add(Conv1D(filters=FILTERS,kernel_size=WIDTH,strides=STRIDE,padding=\"same\"))\n",
        "    dnn.add(MaxPooling1D())\n",
        "    dnn.add(Flatten())\n",
        "    dnn.add(Dense(NEURONS,activation=\"sigmoid\",dtype=np.float32))   \n",
        "    dnn.add(Dropout(DROP_RATE))\n",
        "    dnn.add(Dense(1,activation=\"sigmoid\",dtype=np.float32))   \n",
        "    dnn.compile(optimizer='adam',\n",
        "                loss=BinaryCrossentropy(from_logits=False),\n",
        "                metrics=['accuracy'])   # add to default metrics=loss\n",
        "    dnn.build(input_shape=INPUT_SHAPE)\n",
        "    #ln_rate = tf.keras.optimizers.Adam(learning_rate = LN_RATE)\n",
        "    #bc=tf.keras.losses.BinaryCrossentropy(from_logits=False)\n",
        "    #model.compile(loss=bc, optimizer=ln_rate, metrics=[\"accuracy\"])\n",
        "    return dnn\n",
        "model = make_DNN()\n",
        "print(model.summary())"
      ],
      "execution_count": 10,
      "outputs": [
        {
          "output_type": "stream",
          "text": [
            "make_DNN\n",
            "input shape: (21, 4)\n",
            "Model: \"sequential\"\n",
            "_________________________________________________________________\n",
            "Layer (type)                 Output Shape              Param #   \n",
            "=================================================================\n",
            "conv1d (Conv1D)              (None, 21, 16)            208       \n",
            "_________________________________________________________________\n",
            "conv1d_1 (Conv1D)            (None, 21, 16)            784       \n",
            "_________________________________________________________________\n",
            "max_pooling1d (MaxPooling1D) (None, 10, 16)            0         \n",
            "_________________________________________________________________\n",
            "conv1d_2 (Conv1D)            (None, 10, 16)            784       \n",
            "_________________________________________________________________\n",
            "conv1d_3 (Conv1D)            (None, 10, 16)            784       \n",
            "_________________________________________________________________\n",
            "max_pooling1d_1 (MaxPooling1 (None, 5, 16)             0         \n",
            "_________________________________________________________________\n",
            "flatten (Flatten)            (None, 80)                0         \n",
            "_________________________________________________________________\n",
            "dense (Dense)                (None, 16)                1296      \n",
            "_________________________________________________________________\n",
            "dropout (Dropout)            (None, 16)                0         \n",
            "_________________________________________________________________\n",
            "dense_1 (Dense)              (None, 1)                 17        \n",
            "=================================================================\n",
            "Total params: 3,873\n",
            "Trainable params: 3,873\n",
            "Non-trainable params: 0\n",
            "_________________________________________________________________\n",
            "None\n"
          ],
          "name": "stdout"
        }
      ]
    },
    {
      "cell_type": "code",
      "metadata": {
        "id": "nlVF0hR3j2UW"
      },
      "source": [
        "from keras.callbacks import ModelCheckpoint\n",
        "def do_cross_validation(X,y):\n",
        "    cv_scores = []\n",
        "    fold=0\n",
        "    mycallbacks = [ModelCheckpoint(\n",
        "        filepath=MODELPATH, save_best_only=True, \n",
        "        monitor='val_accuracy', mode='max')]   \n",
        "    splitter = KFold(n_splits=SPLITS)  # this does not shuffle\n",
        "    for train_index,valid_index in splitter.split(X):\n",
        "        if fold < FOLDS:\n",
        "            fold += 1\n",
        "            X_train=X[train_index] # inputs for training\n",
        "            y_train=y[train_index] # labels for training\n",
        "            X_valid=X[valid_index] # inputs for validation\n",
        "            y_valid=y[valid_index] # labels for validation\n",
        "            print(\"MODEL\")\n",
        "            # Call constructor on each CV. Else, continually improves the same model.\n",
        "            model = model = make_DNN()\n",
        "            print(\"FIT\")  # model.fit() implements learning\n",
        "            start_time=time.time()\n",
        "            history=model.fit(X_train, y_train, \n",
        "                    epochs=EPOCHS, \n",
        "                    verbose=1,  # ascii art while learning\n",
        "                    callbacks=mycallbacks,   # called at end of each epoch\n",
        "                    validation_data=(X_valid,y_valid))\n",
        "            end_time=time.time()\n",
        "            elapsed_time=(end_time-start_time)                        \n",
        "            print(\"Fold %d, %d epochs, %d sec\"%(fold,EPOCHS,elapsed_time))\n",
        "            # print(history.history.keys())  # all these keys will be shown in figure\n",
        "            pd.DataFrame(history.history).plot(figsize=(8,5))\n",
        "            plt.grid(True)\n",
        "            plt.gca().set_ylim(0,1) # any losses > 1 will be off the scale\n",
        "            plt.show()\n"
      ],
      "execution_count": 11,
      "outputs": []
    },
    {
      "cell_type": "code",
      "metadata": {
        "colab": {
          "base_uri": "https://localhost:8080/",
          "height": 1000
        },
        "id": "9Ggt4EsSj2UY",
        "outputId": "e87b9d04-ef34-4224-accb-50460f82f959"
      },
      "source": [
        "do_cross_validation(X,y)"
      ],
      "execution_count": 12,
      "outputs": [
        {
          "output_type": "stream",
          "text": [
            "MODEL\n",
            "make_DNN\n",
            "input shape: (21, 4)\n",
            "FIT\n",
            "Epoch 1/20\n",
            "100/100 [==============================] - 32s 12ms/step - loss: 0.7052 - accuracy: 0.5169 - val_loss: 0.6929 - val_accuracy: 0.5075\n",
            "INFO:tensorflow:Assets written to: BestModel/assets\n",
            "Epoch 2/20\n",
            "100/100 [==============================] - 0s 5ms/step - loss: 0.7024 - accuracy: 0.5142 - val_loss: 0.7057 - val_accuracy: 0.4863\n",
            "Epoch 3/20\n",
            "100/100 [==============================] - 0s 5ms/step - loss: 0.6981 - accuracy: 0.5247 - val_loss: 0.6928 - val_accuracy: 0.5163\n",
            "INFO:tensorflow:Assets written to: BestModel/assets\n",
            "Epoch 4/20\n",
            "100/100 [==============================] - 1s 5ms/step - loss: 0.6906 - accuracy: 0.5305 - val_loss: 0.6933 - val_accuracy: 0.5175\n",
            "INFO:tensorflow:Assets written to: BestModel/assets\n",
            "Epoch 5/20\n",
            "100/100 [==============================] - 0s 5ms/step - loss: 0.6886 - accuracy: 0.5571 - val_loss: 0.6934 - val_accuracy: 0.5225\n",
            "INFO:tensorflow:Assets written to: BestModel/assets\n",
            "Epoch 6/20\n",
            "100/100 [==============================] - 0s 5ms/step - loss: 0.6833 - accuracy: 0.5503 - val_loss: 0.6949 - val_accuracy: 0.5125\n",
            "Epoch 7/20\n",
            "100/100 [==============================] - 0s 5ms/step - loss: 0.6810 - accuracy: 0.5847 - val_loss: 0.6933 - val_accuracy: 0.5325\n",
            "INFO:tensorflow:Assets written to: BestModel/assets\n",
            "Epoch 8/20\n",
            "100/100 [==============================] - 1s 6ms/step - loss: 0.6767 - accuracy: 0.5773 - val_loss: 0.6949 - val_accuracy: 0.5250\n",
            "Epoch 9/20\n",
            "100/100 [==============================] - 1s 5ms/step - loss: 0.6689 - accuracy: 0.5908 - val_loss: 0.6938 - val_accuracy: 0.5175\n",
            "Epoch 10/20\n",
            "100/100 [==============================] - 0s 5ms/step - loss: 0.6665 - accuracy: 0.5929 - val_loss: 0.6977 - val_accuracy: 0.5325\n",
            "Epoch 11/20\n",
            "100/100 [==============================] - 0s 5ms/step - loss: 0.6654 - accuracy: 0.6148 - val_loss: 0.6982 - val_accuracy: 0.5188\n",
            "Epoch 12/20\n",
            "100/100 [==============================] - 0s 5ms/step - loss: 0.6640 - accuracy: 0.6001 - val_loss: 0.6990 - val_accuracy: 0.5450\n",
            "INFO:tensorflow:Assets written to: BestModel/assets\n",
            "Epoch 13/20\n",
            "100/100 [==============================] - 0s 5ms/step - loss: 0.6595 - accuracy: 0.6023 - val_loss: 0.7026 - val_accuracy: 0.5200\n",
            "Epoch 14/20\n",
            "100/100 [==============================] - 0s 5ms/step - loss: 0.6536 - accuracy: 0.6281 - val_loss: 0.7055 - val_accuracy: 0.5250\n",
            "Epoch 15/20\n",
            "100/100 [==============================] - 0s 5ms/step - loss: 0.6584 - accuracy: 0.6046 - val_loss: 0.7121 - val_accuracy: 0.5188\n",
            "Epoch 16/20\n",
            "100/100 [==============================] - 0s 5ms/step - loss: 0.6367 - accuracy: 0.6428 - val_loss: 0.7057 - val_accuracy: 0.5350\n",
            "Epoch 17/20\n",
            "100/100 [==============================] - 0s 5ms/step - loss: 0.6360 - accuracy: 0.6409 - val_loss: 0.7160 - val_accuracy: 0.5312\n",
            "Epoch 18/20\n",
            "100/100 [==============================] - 0s 5ms/step - loss: 0.6325 - accuracy: 0.6429 - val_loss: 0.7219 - val_accuracy: 0.5175\n",
            "Epoch 19/20\n",
            "100/100 [==============================] - 0s 4ms/step - loss: 0.6343 - accuracy: 0.6556 - val_loss: 0.7258 - val_accuracy: 0.5288\n",
            "Epoch 20/20\n",
            "100/100 [==============================] - 0s 5ms/step - loss: 0.6245 - accuracy: 0.6422 - val_loss: 0.7190 - val_accuracy: 0.5375\n",
            "Fold 1, 20 epochs, 56 sec\n"
          ],
          "name": "stdout"
        },
        {
          "output_type": "display_data",
          "data": {
            "image/png": "[encoded data removed]",
            "text/plain": [
              "<Figure size 576x360 with 1 Axes>"
            ]
          },
          "metadata": {
            "tags": [],
            "needs_background": "light"
          }
        },
        {
          "output_type": "stream",
          "text": [
            "MODEL\n",
            "make_DNN\n",
            "input shape: (21, 4)\n",
            "FIT\n",
            "Epoch 1/20\n",
            "100/100 [==============================] - 2s 9ms/step - loss: 0.7171 - accuracy: 0.4864 - val_loss: 0.6999 - val_accuracy: 0.4688\n",
            "Epoch 2/20\n",
            "100/100 [==============================] - 0s 5ms/step - loss: 0.6931 - accuracy: 0.5304 - val_loss: 0.6952 - val_accuracy: 0.4825\n",
            "Epoch 3/20\n",
            "100/100 [==============================] - 0s 5ms/step - loss: 0.6896 - accuracy: 0.5312 - val_loss: 0.6916 - val_accuracy: 0.5175\n",
            "Epoch 4/20\n",
            "100/100 [==============================] - 0s 5ms/step - loss: 0.6911 - accuracy: 0.5341 - val_loss: 0.6897 - val_accuracy: 0.5238\n",
            "Epoch 5/20\n",
            "100/100 [==============================] - 0s 5ms/step - loss: 0.6856 - accuracy: 0.5437 - val_loss: 0.6948 - val_accuracy: 0.5063\n",
            "Epoch 6/20\n",
            "100/100 [==============================] - 0s 5ms/step - loss: 0.6863 - accuracy: 0.5483 - val_loss: 0.7010 - val_accuracy: 0.4950\n",
            "Epoch 7/20\n",
            "100/100 [==============================] - 0s 5ms/step - loss: 0.6813 - accuracy: 0.5618 - val_loss: 0.6943 - val_accuracy: 0.5200\n",
            "Epoch 8/20\n",
            "100/100 [==============================] - 1s 7ms/step - loss: 0.6754 - accuracy: 0.5770 - val_loss: 0.7001 - val_accuracy: 0.5188\n",
            "Epoch 9/20\n",
            "100/100 [==============================] - 0s 5ms/step - loss: 0.6612 - accuracy: 0.6003 - val_loss: 0.7021 - val_accuracy: 0.5075\n",
            "Epoch 10/20\n",
            "100/100 [==============================] - 1s 5ms/step - loss: 0.6660 - accuracy: 0.5940 - val_loss: 0.7024 - val_accuracy: 0.5225\n",
            "Epoch 11/20\n",
            "100/100 [==============================] - 0s 5ms/step - loss: 0.6598 - accuracy: 0.5972 - val_loss: 0.7062 - val_accuracy: 0.5163\n",
            "Epoch 12/20\n",
            "100/100 [==============================] - 0s 5ms/step - loss: 0.6589 - accuracy: 0.6006 - val_loss: 0.7173 - val_accuracy: 0.5100\n",
            "Epoch 13/20\n",
            "100/100 [==============================] - 0s 5ms/step - loss: 0.6450 - accuracy: 0.6283 - val_loss: 0.7109 - val_accuracy: 0.5063\n",
            "Epoch 14/20\n",
            "100/100 [==============================] - 0s 5ms/step - loss: 0.6456 - accuracy: 0.6211 - val_loss: 0.7258 - val_accuracy: 0.5063\n",
            "Epoch 15/20\n",
            "100/100 [==============================] - 0s 5ms/step - loss: 0.6369 - accuracy: 0.6239 - val_loss: 0.7212 - val_accuracy: 0.4975\n",
            "Epoch 16/20\n",
            "100/100 [==============================] - 0s 5ms/step - loss: 0.6316 - accuracy: 0.6532 - val_loss: 0.7182 - val_accuracy: 0.5013\n",
            "Epoch 17/20\n",
            "100/100 [==============================] - 0s 5ms/step - loss: 0.6249 - accuracy: 0.6500 - val_loss: 0.7329 - val_accuracy: 0.5188\n",
            "Epoch 18/20\n",
            "100/100 [==============================] - 0s 5ms/step - loss: 0.6261 - accuracy: 0.6373 - val_loss: 0.7288 - val_accuracy: 0.4963\n",
            "Epoch 19/20\n",
            "100/100 [==============================] - 1s 5ms/step - loss: 0.6199 - accuracy: 0.6594 - val_loss: 0.7458 - val_accuracy: 0.5138\n",
            "Epoch 20/20\n",
            "100/100 [==============================] - 0s 5ms/step - loss: 0.6205 - accuracy: 0.6576 - val_loss: 0.7511 - val_accuracy: 0.5013\n",
            "Fold 2, 20 epochs, 21 sec\n"
          ],
          "name": "stdout"
        },
        {
          "output_type": "display_data",
          "data": {
            "image/png": "[encoded data removed]",
            "text/plain": [
              "<Figure size 576x360 with 1 Axes>"
            ]
          },
          "metadata": {
            "tags": [],
            "needs_background": "light"
          }
        },
        {
          "output_type": "stream",
          "text": [
            "MODEL\n",
            "make_DNN\n",
            "input shape: (21, 4)\n",
            "FIT\n",
            "Epoch 1/20\n",
            "100/100 [==============================] - 2s 10ms/step - loss: 0.7325 - accuracy: 0.4897 - val_loss: 0.6922 - val_accuracy: 0.5125\n",
            "Epoch 2/20\n",
            "100/100 [==============================] - 1s 5ms/step - loss: 0.7029 - accuracy: 0.5132 - val_loss: 0.6932 - val_accuracy: 0.5000\n",
            "Epoch 3/20\n",
            "100/100 [==============================] - 1s 5ms/step - loss: 0.6963 - accuracy: 0.5183 - val_loss: 0.6930 - val_accuracy: 0.5038\n",
            "Epoch 4/20\n",
            "100/100 [==============================] - 0s 5ms/step - loss: 0.6891 - accuracy: 0.5467 - val_loss: 0.6924 - val_accuracy: 0.5213\n",
            "Epoch 5/20\n",
            "100/100 [==============================] - 0s 5ms/step - loss: 0.6865 - accuracy: 0.5515 - val_loss: 0.6928 - val_accuracy: 0.5000\n",
            "Epoch 6/20\n",
            "100/100 [==============================] - 1s 6ms/step - loss: 0.6856 - accuracy: 0.5569 - val_loss: 0.6925 - val_accuracy: 0.5075\n",
            "Epoch 7/20\n",
            "100/100 [==============================] - 1s 6ms/step - loss: 0.6817 - accuracy: 0.5570 - val_loss: 0.6962 - val_accuracy: 0.5150\n",
            "Epoch 8/20\n",
            "100/100 [==============================] - 1s 5ms/step - loss: 0.6797 - accuracy: 0.5537 - val_loss: 0.6933 - val_accuracy: 0.5075\n",
            "Epoch 9/20\n",
            "100/100 [==============================] - 1s 5ms/step - loss: 0.6697 - accuracy: 0.5872 - val_loss: 0.6977 - val_accuracy: 0.5150\n",
            "Epoch 10/20\n",
            "100/100 [==============================] - 0s 5ms/step - loss: 0.6702 - accuracy: 0.5881 - val_loss: 0.7041 - val_accuracy: 0.5013\n",
            "Epoch 11/20\n",
            "100/100 [==============================] - 0s 5ms/step - loss: 0.6573 - accuracy: 0.6042 - val_loss: 0.7082 - val_accuracy: 0.5100\n",
            "Epoch 12/20\n",
            "100/100 [==============================] - 0s 5ms/step - loss: 0.6525 - accuracy: 0.6111 - val_loss: 0.7120 - val_accuracy: 0.5125\n",
            "Epoch 13/20\n",
            "100/100 [==============================] - 0s 5ms/step - loss: 0.6439 - accuracy: 0.6225 - val_loss: 0.7151 - val_accuracy: 0.5175\n",
            "Epoch 14/20\n",
            "100/100 [==============================] - 0s 5ms/step - loss: 0.6323 - accuracy: 0.6493 - val_loss: 0.7249 - val_accuracy: 0.4950\n",
            "Epoch 15/20\n",
            "100/100 [==============================] - 1s 5ms/step - loss: 0.6257 - accuracy: 0.6657 - val_loss: 0.7202 - val_accuracy: 0.5163\n",
            "Epoch 16/20\n",
            "100/100 [==============================] - 1s 5ms/step - loss: 0.6333 - accuracy: 0.6387 - val_loss: 0.7320 - val_accuracy: 0.5063\n",
            "Epoch 17/20\n",
            "100/100 [==============================] - 0s 5ms/step - loss: 0.6145 - accuracy: 0.6553 - val_loss: 0.7429 - val_accuracy: 0.5150\n",
            "Epoch 18/20\n",
            "100/100 [==============================] - 1s 5ms/step - loss: 0.5989 - accuracy: 0.6796 - val_loss: 0.7357 - val_accuracy: 0.5000\n",
            "Epoch 19/20\n",
            "100/100 [==============================] - 0s 5ms/step - loss: 0.6012 - accuracy: 0.6711 - val_loss: 0.7449 - val_accuracy: 0.4837\n",
            "Epoch 20/20\n",
            "100/100 [==============================] - 0s 5ms/step - loss: 0.5895 - accuracy: 0.6846 - val_loss: 0.7709 - val_accuracy: 0.4950\n",
            "Fold 3, 20 epochs, 11 sec\n"
          ],
          "name": "stdout"
        },
        {
          "output_type": "display_data",
          "data": {
            "image/png": "[encoded data removed]",
            "text/plain": [
              "<Figure size 576x360 with 1 Axes>"
            ]
          },
          "metadata": {
            "tags": [],
            "needs_background": "light"
          }
        },
        {
          "output_type": "stream",
          "text": [
            "MODEL\n",
            "make_DNN\n",
            "input shape: (21, 4)\n",
            "FIT\n",
            "Epoch 1/20\n",
            "100/100 [==============================] - 2s 10ms/step - loss: 0.7051 - accuracy: 0.5109 - val_loss: 0.6972 - val_accuracy: 0.4800\n",
            "Epoch 2/20\n",
            "100/100 [==============================] - 0s 5ms/step - loss: 0.6944 - accuracy: 0.5384 - val_loss: 0.6967 - val_accuracy: 0.5000\n",
            "Epoch 3/20\n",
            "100/100 [==============================] - 0s 5ms/step - loss: 0.6912 - accuracy: 0.5185 - val_loss: 0.6960 - val_accuracy: 0.4913\n",
            "Epoch 4/20\n",
            "100/100 [==============================] - 1s 5ms/step - loss: 0.6896 - accuracy: 0.5414 - val_loss: 0.6958 - val_accuracy: 0.5025\n",
            "Epoch 5/20\n",
            "100/100 [==============================] - 0s 5ms/step - loss: 0.6828 - accuracy: 0.5620 - val_loss: 0.6987 - val_accuracy: 0.4875\n",
            "Epoch 6/20\n",
            "100/100 [==============================] - 0s 5ms/step - loss: 0.6820 - accuracy: 0.5490 - val_loss: 0.7003 - val_accuracy: 0.5013\n",
            "Epoch 7/20\n",
            "100/100 [==============================] - 0s 5ms/step - loss: 0.6828 - accuracy: 0.5456 - val_loss: 0.7013 - val_accuracy: 0.5038\n",
            "Epoch 8/20\n",
            "100/100 [==============================] - 1s 6ms/step - loss: 0.6788 - accuracy: 0.5553 - val_loss: 0.7040 - val_accuracy: 0.4988\n",
            "Epoch 9/20\n",
            "100/100 [==============================] - 0s 5ms/step - loss: 0.6740 - accuracy: 0.5816 - val_loss: 0.7042 - val_accuracy: 0.4913\n",
            "Epoch 10/20\n",
            "100/100 [==============================] - 0s 5ms/step - loss: 0.6716 - accuracy: 0.5775 - val_loss: 0.7106 - val_accuracy: 0.4950\n",
            "Epoch 11/20\n",
            "100/100 [==============================] - 0s 5ms/step - loss: 0.6685 - accuracy: 0.5927 - val_loss: 0.7101 - val_accuracy: 0.4700\n",
            "Epoch 12/20\n",
            "100/100 [==============================] - 0s 5ms/step - loss: 0.6582 - accuracy: 0.6063 - val_loss: 0.7182 - val_accuracy: 0.4863\n",
            "Epoch 13/20\n",
            "100/100 [==============================] - 0s 5ms/step - loss: 0.6568 - accuracy: 0.5970 - val_loss: 0.7223 - val_accuracy: 0.4938\n",
            "Epoch 14/20\n",
            "100/100 [==============================] - 0s 5ms/step - loss: 0.6496 - accuracy: 0.6170 - val_loss: 0.7303 - val_accuracy: 0.4900\n",
            "Epoch 15/20\n",
            "100/100 [==============================] - 0s 5ms/step - loss: 0.6391 - accuracy: 0.6298 - val_loss: 0.7359 - val_accuracy: 0.4812\n",
            "Epoch 16/20\n",
            "100/100 [==============================] - 0s 5ms/step - loss: 0.6324 - accuracy: 0.6372 - val_loss: 0.7254 - val_accuracy: 0.4850\n",
            "Epoch 17/20\n",
            "100/100 [==============================] - 1s 5ms/step - loss: 0.6208 - accuracy: 0.6673 - val_loss: 0.7413 - val_accuracy: 0.5100\n",
            "Epoch 18/20\n",
            "100/100 [==============================] - 1s 6ms/step - loss: 0.6147 - accuracy: 0.6684 - val_loss: 0.7424 - val_accuracy: 0.4850\n",
            "Epoch 19/20\n",
            "100/100 [==============================] - 0s 5ms/step - loss: 0.6253 - accuracy: 0.6551 - val_loss: 0.7569 - val_accuracy: 0.5113\n",
            "Epoch 20/20\n",
            "100/100 [==============================] - 1s 6ms/step - loss: 0.5984 - accuracy: 0.6592 - val_loss: 0.7572 - val_accuracy: 0.4975\n",
            "Fold 4, 20 epochs, 11 sec\n"
          ],
          "name": "stdout"
        },
        {
          "output_type": "display_data",
          "data": {
            "image/png": "[encoded data removed]",
            "text/plain": [
              "<Figure size 576x360 with 1 Axes>"
            ]
          },
          "metadata": {
            "tags": [],
            "needs_background": "light"
          }
        },
        {
          "output_type": "stream",
          "text": [
            "MODEL\n",
            "make_DNN\n",
            "input shape: (21, 4)\n",
            "FIT\n",
            "Epoch 1/20\n",
            "100/100 [==============================] - 2s 10ms/step - loss: 0.7173 - accuracy: 0.5080 - val_loss: 0.6929 - val_accuracy: 0.5238\n",
            "Epoch 2/20\n",
            "100/100 [==============================] - 0s 5ms/step - loss: 0.7029 - accuracy: 0.4912 - val_loss: 0.6918 - val_accuracy: 0.5250\n",
            "Epoch 3/20\n",
            "100/100 [==============================] - 1s 5ms/step - loss: 0.6915 - accuracy: 0.5323 - val_loss: 0.6922 - val_accuracy: 0.5288\n",
            "Epoch 4/20\n",
            "100/100 [==============================] - 1s 5ms/step - loss: 0.6966 - accuracy: 0.5059 - val_loss: 0.6921 - val_accuracy: 0.5188\n",
            "Epoch 5/20\n",
            "100/100 [==============================] - 1s 5ms/step - loss: 0.6910 - accuracy: 0.5170 - val_loss: 0.6915 - val_accuracy: 0.5188\n",
            "Epoch 6/20\n",
            "100/100 [==============================] - 1s 6ms/step - loss: 0.6917 - accuracy: 0.5151 - val_loss: 0.6967 - val_accuracy: 0.4950\n",
            "Epoch 7/20\n",
            "100/100 [==============================] - 0s 5ms/step - loss: 0.6860 - accuracy: 0.5372 - val_loss: 0.6927 - val_accuracy: 0.5200\n",
            "Epoch 8/20\n",
            "100/100 [==============================] - 0s 5ms/step - loss: 0.6798 - accuracy: 0.5666 - val_loss: 0.6960 - val_accuracy: 0.5025\n",
            "Epoch 9/20\n",
            "100/100 [==============================] - 0s 5ms/step - loss: 0.6755 - accuracy: 0.5904 - val_loss: 0.6952 - val_accuracy: 0.5113\n",
            "Epoch 10/20\n",
            "100/100 [==============================] - 1s 5ms/step - loss: 0.6705 - accuracy: 0.6029 - val_loss: 0.7049 - val_accuracy: 0.5250\n",
            "Epoch 11/20\n",
            "100/100 [==============================] - 1s 5ms/step - loss: 0.6650 - accuracy: 0.6047 - val_loss: 0.7146 - val_accuracy: 0.5050\n",
            "Epoch 12/20\n",
            "100/100 [==============================] - 1s 5ms/step - loss: 0.6624 - accuracy: 0.5858 - val_loss: 0.7149 - val_accuracy: 0.5050\n",
            "Epoch 13/20\n",
            "100/100 [==============================] - 1s 5ms/step - loss: 0.6554 - accuracy: 0.6177 - val_loss: 0.7216 - val_accuracy: 0.4988\n",
            "Epoch 14/20\n",
            "100/100 [==============================] - 0s 5ms/step - loss: 0.6437 - accuracy: 0.6278 - val_loss: 0.7265 - val_accuracy: 0.5013\n",
            "Epoch 15/20\n",
            "100/100 [==============================] - 1s 5ms/step - loss: 0.6337 - accuracy: 0.6450 - val_loss: 0.7338 - val_accuracy: 0.5000\n",
            "Epoch 16/20\n",
            "100/100 [==============================] - 1s 5ms/step - loss: 0.6379 - accuracy: 0.6315 - val_loss: 0.7364 - val_accuracy: 0.5038\n",
            "Epoch 17/20\n",
            "100/100 [==============================] - 0s 5ms/step - loss: 0.6390 - accuracy: 0.6414 - val_loss: 0.7548 - val_accuracy: 0.4913\n",
            "Epoch 18/20\n",
            "100/100 [==============================] - 0s 5ms/step - loss: 0.6203 - accuracy: 0.6583 - val_loss: 0.7482 - val_accuracy: 0.4963\n",
            "Epoch 19/20\n",
            "100/100 [==============================] - 0s 5ms/step - loss: 0.6069 - accuracy: 0.6664 - val_loss: 0.7543 - val_accuracy: 0.4938\n",
            "Epoch 20/20\n",
            "100/100 [==============================] - 1s 5ms/step - loss: 0.6126 - accuracy: 0.6617 - val_loss: 0.7811 - val_accuracy: 0.4888\n",
            "Fold 5, 20 epochs, 11 sec\n"
          ],
          "name": "stdout"
        },
        {
          "output_type": "display_data",
          "data": {
            "image/png": "[encoded data removed]",
            "text/plain": [
              "<Figure size 576x360 with 1 Axes>"
            ]
          },
          "metadata": {
            "tags": [],
            "needs_background": "light"
          }
        }
      ]
    },
    {
      "cell_type": "code",
      "metadata": {
        "colab": {
          "base_uri": "https://localhost:8080/"
        },
        "id": "e-jG1h5fj2Ua",
        "outputId": "88da6caf-97af-430e-dbce-4d87f24eb920"
      },
      "source": [
        "from keras.models import load_model\n",
        "X,y = prepare_inputs_len_x_alphabet(pc_test,nc_test,ALPHABET)\n",
        "best_model=load_model(MODELPATH)\n",
        "scores = best_model.evaluate(X, y, verbose=0)\n",
        "print(\"The best model parameters were saved during cross-validation.\")\n",
        "print(\"Best was defined as maximum validation accuracy at end of any epoch.\")\n",
        "print(\"Now re-load the best model and test it on previously unseen data.\")\n",
        "print(\"Test on\",len(pc_test),\"PC seqs\")\n",
        "print(\"Test on\",len(nc_test),\"NC seqs\")\n",
        "print(\"%s: %.2f%%\" % (best_model.metrics_names[1], scores[1]*100))\n"
      ],
      "execution_count": 13,
      "outputs": [
        {
          "output_type": "stream",
          "text": [
            "The best model parameters were saved during cross-validation.\n",
            "Best was defined as maximum validation accuracy at end of any epoch.\n",
            "Now re-load the best model and test it on previously unseen data.\n",
            "Test on 1000 PC seqs\n",
            "Test on 1000 NC seqs\n",
            "accuracy: 50.95%\n"
          ],
          "name": "stdout"
        }
      ]
    },
    {
      "cell_type": "code",
      "metadata": {
        "colab": {
          "base_uri": "https://localhost:8080/",
          "height": 312
        },
        "id": "VycUnmvUj2Ue",
        "outputId": "3cbc7f91-54ef-41ae-c20b-b15e7f84fca0"
      },
      "source": [
        "from sklearn.metrics import roc_curve\n",
        "from sklearn.metrics import roc_auc_score\n",
        "ns_probs = [0 for _ in range(len(y))]\n",
        "bm_probs = best_model.predict(X)\n",
        "ns_auc = roc_auc_score(y, ns_probs)\n",
        "bm_auc = roc_auc_score(y, bm_probs)\n",
        "ns_fpr, ns_tpr, _ = roc_curve(y, ns_probs)\n",
        "bm_fpr, bm_tpr, _ = roc_curve(y, bm_probs)\n",
        "plt.plot(ns_fpr, ns_tpr, linestyle='--', label='Guess, auc=%.4f'%ns_auc)\n",
        "plt.plot(bm_fpr, bm_tpr, marker='.', label='Model, auc=%.4f'%bm_auc)\n",
        "plt.title('ROC')\n",
        "plt.xlabel('False Positive Rate')\n",
        "plt.ylabel('True Positive Rate')\n",
        "plt.legend()\n",
        "plt.show()\n",
        "print(\"%s: %.2f%%\" %('AUC',bm_auc*100.0))\n"
      ],
      "execution_count": 14,
      "outputs": [
        {
          "output_type": "display_data",
          "data": {
            "image/png": "[encoded data removed]",
            "text/plain": [
              "<Figure size 432x288 with 1 Axes>"
            ]
          },
          "metadata": {
            "tags": [],
            "needs_background": "light"
          }
        },
        {
          "output_type": "stream",
          "text": [
            "AUC: 50.35%\n"
          ],
          "name": "stdout"
        }
      ]
    },
    {
      "cell_type": "code",
      "metadata": {
        "colab": {
          "base_uri": "https://localhost:8080/",
          "height": 36
        },
        "id": "kFMb6rGNj2Ug",
        "outputId": "77bd240e-ee3c-41c6-d541-a406cd035208"
      },
      "source": [
        "t = time.time()\n",
        "time.strftime('%Y-%m-%d %H:%M:%S %Z', time.localtime(t))"
      ],
      "execution_count": 15,
      "outputs": [
        {
          "output_type": "execute_result",
          "data": {
            "application/vnd.google.colaboratory.intrinsic+json": {
              "type": "string"
            },
            "text/plain": [
              "'2021-06-10 20:23:48 UTC'"
            ]
          },
          "metadata": {
            "tags": []
          },
          "execution_count": 15
        }
      ]
    },
    {
      "cell_type": "markdown",
      "metadata": {
        "id": "BkogIk-vkmK_"
      },
      "source": [
        "## Conclusion\n",
        "The test in 107 is partially validated. At least using simulated RNA that had no ORF to start with, our framshift indels do not induce a pattern that the CNN can learn."
      ]
    },
    {
      "cell_type": "code",
      "metadata": {
        "id": "MnDHjkCekmLB"
      },
      "source": [
        ""
      ],
      "execution_count": 15,
      "outputs": []
    }
  ]
}