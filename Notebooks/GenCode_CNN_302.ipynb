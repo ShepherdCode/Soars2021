{
 "cells": [
  {
   "cell_type": "markdown",
   "metadata": {
    "id": "0asdcdunj2Tx"
   },
   "source": [
    "# PC/NC classification by CNN\n",
    "\n",
    "The convolutional neural network (CNN) was invented for image processing.\n",
    "We can use Conv1D layers for processing string sequences. \n",
    "How well does CNN work on human RNA as a binary classifier of protein-coding/non-coding?  \n",
    "\n",
    "Assume user downloaded files from GenCode 38 [FTP](http://ftp.ebi.ac.uk/pub/databases/gencode/Gencode_human/release_38/)\n",
    "to a subdirectory called data.\n",
    "\n",
    "No change from notebook 301. The learning curve is strange: up then down. I suspect the CNN is learning the fact that we padded sequences with T to make them uniform length."
   ]
  },
  {
   "cell_type": "code",
   "execution_count": 1,
   "metadata": {
    "colab": {
     "base_uri": "https://localhost:8080/"
    },
    "id": "QP1VTRNQj2UO",
    "outputId": "90fc2f4f-4f82-454b-fea9-a29d156946ef"
   },
   "outputs": [
    {
     "name": "stdout",
     "output_type": "stream",
     "text": [
      "2021-06-05 12:30:10 UTC\n"
     ]
    }
   ],
   "source": [
    "import time \n",
    "def show_time():\n",
    "    t = time.time()\n",
    "    s = time.strftime('%Y-%m-%d %H:%M:%S %Z', time.localtime(t))\n",
    "    print(s)\n",
    "show_time()"
   ]
  },
  {
   "cell_type": "code",
   "execution_count": 2,
   "metadata": {
    "id": "JLkk5qWT66nV"
   },
   "outputs": [],
   "source": [
    "PC_FILENAME='gencode.v38.pc_transcripts.fa.gz'\n",
    "NC_FILENAME='gencode.v38.lncRNA_transcripts.fa.gz'"
   ]
  },
  {
   "cell_type": "code",
   "execution_count": 3,
   "metadata": {
    "id": "Nhz4GKonj2T_"
   },
   "outputs": [],
   "source": [
    "PC_SEQUENCES=20000   # how many protein-coding sequences\n",
    "NC_SEQUENCES=20000   # how many non-coding sequences\n",
    "PC_TESTS=1000\n",
    "NC_TESTS=1000\n",
    "BASES=1000            # how long is each sequence\n",
    "ALPHABET=4          # how many different letters are possible\n",
    "INPUT_SHAPE_2D = (BASES,ALPHABET,1) # Conv2D needs 3D inputs\n",
    "INPUT_SHAPE = (BASES,ALPHABET) # Conv1D needs 2D inputs\n",
    "FILTERS = 32   # how many different patterns the model looks for\n",
    "NEURONS = 64\n",
    "DROP_RATE = 0.2\n",
    "WIDTH = 3   # how wide each pattern is, in bases\n",
    "STRIDE_2D = (1,1)  # For Conv2D how far in each direction\n",
    "STRIDE = 1 # For Conv1D, how far between pattern matches, in bases\n",
    "EPOCHS=50  # how many times to train on all the data\n",
    "SPLITS=5  # SPLITS=3 means train on 2/3 and validate on 1/3 \n",
    "FOLDS=3  # train the model this many times (range 1 to SPLITS)"
   ]
  },
  {
   "cell_type": "code",
   "execution_count": 4,
   "metadata": {
    "colab": {
     "base_uri": "https://localhost:8080/"
    },
    "id": "lr7q90rxj2UE",
    "outputId": "0b61d437-df3f-45c7-81c5-0de5e6436988"
   },
   "outputs": [
    {
     "name": "stdout",
     "output_type": "stream",
     "text": [
      "On Google CoLab, mount cloud-local file, get our code from GitHub.\n",
      "Mounted at /content/drive/\n"
     ]
    }
   ],
   "source": [
    "import sys\n",
    "import csv\n",
    "\n",
    "try:\n",
    "    from google.colab import drive\n",
    "    IN_COLAB = True\n",
    "    print(\"On Google CoLab, mount cloud-local file, get our code from GitHub.\")\n",
    "    PATH='/content/drive/'\n",
    "    #drive.mount(PATH,force_remount=True)  # hardly ever need this\n",
    "    drive.mount(PATH)    # Google will require login credentials\n",
    "    DATAPATH=PATH+'My Drive/data/'  # must end in \"/\"\n",
    "    import requests\n",
    "    r = requests.get('https://raw.githubusercontent.com/ShepherdCode/Soars2021/master/SimTools/RNA_gen.py')\n",
    "    with open('RNA_gen.py', 'w') as f:\n",
    "        f.write(r.text)  \n",
    "    from RNA_gen import *\n",
    "    r = requests.get('https://raw.githubusercontent.com/ShepherdCode/Soars2021/master/SimTools/RNA_describe.py')\n",
    "    with open('RNA_describe.py', 'w') as f:\n",
    "        f.write(r.text)  \n",
    "    from RNA_describe import *\n",
    "    r = requests.get('https://raw.githubusercontent.com/ShepherdCode/Soars2021/master/SimTools/RNA_prep.py')\n",
    "    with open('RNA_prep.py', 'w') as f:\n",
    "        f.write(r.text)  \n",
    "    from RNA_prep import *\n",
    "except:\n",
    "    print(\"CoLab not working. On my PC, use relative paths.\")\n",
    "    IN_COLAB = False\n",
    "    DATAPATH='../data/'  # must end in \"/\"\n",
    "    sys.path.append(\"..\") # append parent dir in order to use sibling dirs\n",
    "    from SimTools.RNA_gen import *\n",
    "    from SimTools.RNA_describe import *\n",
    "    from SimTools.RNA_prep import *\n",
    "\n",
    "MODELPATH=\"BestModel\"  # saved on cloud instance and lost after logout\n",
    "#MODELPATH=DATAPATH+MODELPATH  # saved on Google Drive but requires login\n",
    "\n",
    "if not assert_imported_RNA_gen():\n",
    "    print(\"ERROR: Cannot use RNA_gen.\")\n",
    "if not assert_imported_RNA_prep():\n",
    "    print(\"ERROR: Cannot use RNA_prep.\")"
   ]
  },
  {
   "cell_type": "code",
   "execution_count": 5,
   "metadata": {
    "id": "EGDXH8Uwj2UM"
   },
   "outputs": [],
   "source": [
    "from os import listdir\n",
    "#from zipfile import ZipFile\n",
    "import gzip\n",
    "\n",
    "import numpy as np\n",
    "import pandas as pd\n",
    "from scipy import stats  # mode\n",
    "\n",
    "from sklearn.preprocessing import StandardScaler\n",
    "from sklearn.model_selection import KFold\n",
    "from sklearn.model_selection import cross_val_score\n",
    "\n",
    "from keras.models import Sequential\n",
    "from keras.layers import Dense,Embedding,Dropout\n",
    "from keras.layers import Conv1D,Conv2D\n",
    "from keras.layers import Flatten,MaxPooling1D,MaxPooling2D\n",
    "from keras.losses import BinaryCrossentropy\n",
    "# tf.keras.losses.BinaryCrossentropy\n",
    "\n",
    "import matplotlib.pyplot as plt\n",
    "from matplotlib import colors\n",
    "mycmap = colors.ListedColormap(['red','blue'])  # list color for label 0 then 1\n",
    "np.set_printoptions(precision=2)\n"
   ]
  },
  {
   "cell_type": "code",
   "execution_count": 6,
   "metadata": {
    "id": "Q0FetlLPj2UQ"
   },
   "outputs": [],
   "source": [
    "def load_gencode(filename,label):\n",
    "    DEFLINE='>'\n",
    "    DELIM='|'\n",
    "    EMPTY=''\n",
    "    labels=[]  # usually 1 for protein-coding or 0 for non-coding\n",
    "    seqs=[]    # usually string of ACGT\n",
    "    lens=[]    # sequence length\n",
    "    ids=[]     # GenCode transcript ID, always starts ENST\n",
    "    one_seq = EMPTY\n",
    "    one_id = None\n",
    "    # Use gzip 'r' mode to open file in read-only mode.\n",
    "    # Use gzip 't' mode to read each line of text as type string.\n",
    "    with gzip.open (filename,'rt') as infile:\n",
    "        for line in infile:\n",
    "            if line[0]==DEFLINE:\n",
    "                # Save the previous sequence if one exists.\n",
    "                if not one_seq == EMPTY:\n",
    "                    labels.append(label)\n",
    "                    seqs.append(one_seq)\n",
    "                    lens.append(len(one_seq))\n",
    "                    ids.append(one_id)\n",
    "                # Get ready to read the next sequence. \n",
    "                # Parse a GenCode defline that is formatted like this:\n",
    "                # >transcript_ID|gene_ID|other_fields other_info|other_info\n",
    "                one_id = line[1:].split(DELIM)[0]\n",
    "                one_seq = EMPTY\n",
    "            else:\n",
    "                # Continue loading sequence lines till next defline.\n",
    "                additional = line.rstrip()\n",
    "                one_seq = one_seq + additional\n",
    "        # Don't forget to save the last sequence after end-of-file.\n",
    "        if not one_seq == EMPTY:\n",
    "            labels.append(label)\n",
    "            seqs.append(one_seq)\n",
    "            lens.append(len(one_seq))\n",
    "            ids.append(one_id)\n",
    "\n",
    "    df1=pd.DataFrame(ids,columns=['tid'])\n",
    "    df2=pd.DataFrame(labels,columns=['class'])\n",
    "    df3=pd.DataFrame(seqs,columns=['sequence'])\n",
    "    df4=pd.DataFrame(lens,columns=['seqlen'])\n",
    "    df=pd.concat((df1,df2,df3,df4),axis=1)\n",
    "    return df"
   ]
  },
  {
   "cell_type": "code",
   "execution_count": 7,
   "metadata": {
    "colab": {
     "base_uri": "https://localhost:8080/"
    },
    "id": "Sq8zxP2p66nj",
    "outputId": "0205249e-2a9c-4bf8-d579-4ac4b5027ccc"
   },
   "outputs": [
    {
     "name": "stdout",
     "output_type": "stream",
     "text": [
      "PC seqs loaded: 106143\n",
      "NC seqs loaded: 48752\n"
     ]
    }
   ],
   "source": [
    "PC_FULLPATH=DATAPATH+PC_FILENAME\n",
    "NC_FULLPATH=DATAPATH+NC_FILENAME\n",
    "pcdf=load_gencode(PC_FULLPATH,1)\n",
    "print(\"PC seqs loaded:\",len(pcdf))\n",
    "ncdf=load_gencode(NC_FULLPATH,0)\n",
    "print(\"NC seqs loaded:\",len(ncdf))"
   ]
  },
  {
   "cell_type": "code",
   "execution_count": 8,
   "metadata": {
    "id": "HfuFZhxM66no"
   },
   "outputs": [],
   "source": [
    "def uniform_length(seqs,hardlen,too_big):\n",
    "    newseqs=[]\n",
    "    pad='T'*hardlen\n",
    "    too_small=200 ## by definition of long non-coding RNA\n",
    "    for seq in seqs:\n",
    "        size=len(seq)\n",
    "        if (size>too_small and size<too_big):\n",
    "            big=seq+pad\n",
    "            little=big[:hardlen]\n",
    "            newseqs.append(little)\n",
    "    return newseqs"
   ]
  },
  {
   "cell_type": "code",
   "execution_count": 9,
   "metadata": {
    "id": "ztDZcSPW66nr"
   },
   "outputs": [],
   "source": [
    "from sklearn.model_selection import train_test_split\n",
    "pc_all = pcdf['sequence']\n",
    "nc_all = ncdf['sequence']\n",
    "# The split function also shuffles\n",
    "pc_train,pc_test=train_test_split(pc_all,test_size=0.10,random_state=1234)\n",
    "nc_train,nc_test=train_test_split(nc_all,test_size=0.10,random_state=1234)"
   ]
  },
  {
   "cell_type": "code",
   "execution_count": 10,
   "metadata": {
    "colab": {
     "base_uri": "https://localhost:8080/"
    },
    "id": "CIpTrnH6j2US",
    "outputId": "a249bfc2-d0c9-42f6-8bdb-d50bef04a9d2"
   },
   "outputs": [
    {
     "name": "stdout",
     "output_type": "stream",
     "text": [
      "PC seqs ready: 44652\n",
      "NC seqs ready: 42211\n",
      "Data ready\n"
     ]
    }
   ],
   "source": [
    "# Use code from our SimTools library.\n",
    "UNIFORM_LENGTH=1000\n",
    "MAXIMUM_LENGTH=2000\n",
    "pc_seqs=uniform_length(pc_train,UNIFORM_LENGTH,MAXIMUM_LENGTH-500)\n",
    "print(\"PC seqs ready:\",len(pc_seqs))\n",
    "nc_seqs=uniform_length(nc_train,UNIFORM_LENGTH,MAXIMUM_LENGTH+2000)\n",
    "print(\"NC seqs ready:\",len(nc_seqs))\n",
    "X,y = prepare_inputs_len_x_alphabet(pc_seqs,nc_seqs,ALPHABET) # shuffles\n",
    "print(\"Data ready\")"
   ]
  },
  {
   "cell_type": "code",
   "execution_count": 11,
   "metadata": {
    "colab": {
     "base_uri": "https://localhost:8080/"
    },
    "id": "7NvrVU8ij2UU",
    "outputId": "a3c30a99-8565-44f3-ae49-0ed17384dac7"
   },
   "outputs": [
    {
     "name": "stdout",
     "output_type": "stream",
     "text": [
      "make_DNN\n",
      "input shape: (1000, 4)\n",
      "Model: \"sequential\"\n",
      "_________________________________________________________________\n",
      "Layer (type)                 Output Shape              Param #   \n",
      "=================================================================\n",
      "conv1d (Conv1D)              (None, 1000, 32)          416       \n",
      "_________________________________________________________________\n",
      "conv1d_1 (Conv1D)            (None, 1000, 32)          3104      \n",
      "_________________________________________________________________\n",
      "max_pooling1d (MaxPooling1D) (None, 500, 32)           0         \n",
      "_________________________________________________________________\n",
      "conv1d_2 (Conv1D)            (None, 500, 32)           3104      \n",
      "_________________________________________________________________\n",
      "conv1d_3 (Conv1D)            (None, 500, 32)           3104      \n",
      "_________________________________________________________________\n",
      "max_pooling1d_1 (MaxPooling1 (None, 250, 32)           0         \n",
      "_________________________________________________________________\n",
      "flatten (Flatten)            (None, 8000)              0         \n",
      "_________________________________________________________________\n",
      "dense (Dense)                (None, 64)                512064    \n",
      "_________________________________________________________________\n",
      "dropout (Dropout)            (None, 64)                0         \n",
      "_________________________________________________________________\n",
      "dense_1 (Dense)              (None, 1)                 65        \n",
      "=================================================================\n",
      "Total params: 521,857\n",
      "Trainable params: 521,857\n",
      "Non-trainable params: 0\n",
      "_________________________________________________________________\n",
      "None\n"
     ]
    }
   ],
   "source": [
    "def make_DNN():\n",
    "    print(\"make_DNN\")\n",
    "    print(\"input shape:\",INPUT_SHAPE)\n",
    "    dnn = Sequential()\n",
    "    #dnn.add(Embedding(input_dim=INPUT_SHAPE,output_dim=INPUT_SHAPE)) \n",
    "    dnn.add(Conv1D(filters=FILTERS,kernel_size=WIDTH,strides=STRIDE,padding=\"same\",\n",
    "            input_shape=INPUT_SHAPE))\n",
    "    dnn.add(Conv1D(filters=FILTERS,kernel_size=WIDTH,strides=STRIDE,padding=\"same\"))\n",
    "    dnn.add(MaxPooling1D())\n",
    "    dnn.add(Conv1D(filters=FILTERS,kernel_size=WIDTH,strides=STRIDE,padding=\"same\"))\n",
    "    dnn.add(Conv1D(filters=FILTERS,kernel_size=WIDTH,strides=STRIDE,padding=\"same\"))\n",
    "    dnn.add(MaxPooling1D())\n",
    "    dnn.add(Flatten())\n",
    "    dnn.add(Dense(NEURONS,activation=\"sigmoid\",dtype=np.float32))   \n",
    "    dnn.add(Dropout(DROP_RATE))\n",
    "    dnn.add(Dense(1,activation=\"sigmoid\",dtype=np.float32))   \n",
    "    dnn.compile(optimizer='adam',\n",
    "                loss=BinaryCrossentropy(from_logits=False),\n",
    "                metrics=['accuracy'])   # add to default metrics=loss\n",
    "    dnn.build(input_shape=INPUT_SHAPE)\n",
    "    #ln_rate = tf.keras.optimizers.Adam(learning_rate = LN_RATE)\n",
    "    #bc=tf.keras.losses.BinaryCrossentropy(from_logits=False)\n",
    "    #model.compile(loss=bc, optimizer=ln_rate, metrics=[\"accuracy\"])\n",
    "    return dnn\n",
    "model = make_DNN()\n",
    "print(model.summary())"
   ]
  },
  {
   "cell_type": "code",
   "execution_count": 12,
   "metadata": {
    "id": "nlVF0hR3j2UW"
   },
   "outputs": [],
   "source": [
    "from keras.callbacks import ModelCheckpoint\n",
    "\n",
    "def do_cross_validation(X,y):\n",
    "    cv_scores = []\n",
    "    fold=0\n",
    "    mycallbacks = [ModelCheckpoint(\n",
    "        filepath=MODELPATH, save_best_only=True, \n",
    "        monitor='val_accuracy', mode='max')]   \n",
    "    splitter = KFold(n_splits=SPLITS)  # this does not shuffle\n",
    "    for train_index,valid_index in splitter.split(X):\n",
    "        if fold < FOLDS:\n",
    "            fold += 1\n",
    "            X_train=X[train_index] # inputs for training\n",
    "            y_train=y[train_index] # labels for training\n",
    "            X_valid=X[valid_index] # inputs for validation\n",
    "            y_valid=y[valid_index] # labels for validation\n",
    "            print(\"MODEL\")\n",
    "            # Call constructor on each CV. Else, continually improves the same model.\n",
    "            model = model = make_DNN()\n",
    "            print(\"FIT\")  # model.fit() implements learning\n",
    "            start_time=time.time()\n",
    "            history=model.fit(X_train, y_train, \n",
    "                    epochs=EPOCHS, \n",
    "                    verbose=1,  # ascii art while learning\n",
    "                    callbacks=mycallbacks,   # called at end of each epoch\n",
    "                    validation_data=(X_valid,y_valid))\n",
    "            end_time=time.time()\n",
    "            elapsed_time=(end_time-start_time)                        \n",
    "            print(\"Fold %d, %d epochs, %d sec\"%(fold,EPOCHS,elapsed_time))\n",
    "            # print(history.history.keys())  # all these keys will be shown in figure\n",
    "            pd.DataFrame(history.history).plot(figsize=(8,5))\n",
    "            plt.grid(True)\n",
    "            plt.gca().set_ylim(0,1) # any losses > 1 will be off the scale\n",
    "            plt.show()\n"
   ]
  },
  {
   "cell_type": "code",
   "execution_count": 13,
   "metadata": {
    "colab": {
     "base_uri": "https://localhost:8080/",
     "height": 1000
    },
    "id": "9Ggt4EsSj2UY",
    "outputId": "e684777b-6d14-48e3-bc0e-cec8f620fcee"
   },
   "outputs": [
    {
     "name": "stdout",
     "output_type": "stream",
     "text": [
      "2021-06-05 12:31:03 UTC\n",
      "MODEL\n",
      "make_DNN\n",
      "input shape: (1000, 4)\n",
      "FIT\n",
      "Epoch 1/50\n",
      "2172/2172 [==============================] - 44s 6ms/step - loss: 0.5802 - accuracy: 0.6942 - val_loss: 0.4219 - val_accuracy: 0.8115\n",
      "INFO:tensorflow:Assets written to: BestModel/assets\n",
      "Epoch 2/50\n",
      "2172/2172 [==============================] - 12s 5ms/step - loss: 0.3812 - accuracy: 0.8316 - val_loss: 0.3501 - val_accuracy: 0.8481\n",
      "INFO:tensorflow:Assets written to: BestModel/assets\n",
      "Epoch 3/50\n",
      "2172/2172 [==============================] - 12s 5ms/step - loss: 0.3053 - accuracy: 0.8713 - val_loss: 0.3371 - val_accuracy: 0.8573\n",
      "INFO:tensorflow:Assets written to: BestModel/assets\n",
      "Epoch 4/50\n",
      "2172/2172 [==============================] - 12s 5ms/step - loss: 0.2729 - accuracy: 0.8879 - val_loss: 0.3508 - val_accuracy: 0.8517\n",
      "Epoch 5/50\n",
      "2172/2172 [==============================] - 12s 5ms/step - loss: 0.2520 - accuracy: 0.8967 - val_loss: 0.3428 - val_accuracy: 0.8547\n",
      "Epoch 6/50\n",
      "2172/2172 [==============================] - 12s 5ms/step - loss: 0.2366 - accuracy: 0.9034 - val_loss: 0.3551 - val_accuracy: 0.8484\n",
      "Epoch 7/50\n",
      "2172/2172 [==============================] - 12s 5ms/step - loss: 0.2378 - accuracy: 0.9024 - val_loss: 0.3733 - val_accuracy: 0.8445\n",
      "Epoch 8/50\n",
      "2172/2172 [==============================] - 12s 5ms/step - loss: 0.2314 - accuracy: 0.9062 - val_loss: 0.3950 - val_accuracy: 0.8365\n",
      "Epoch 9/50\n",
      "2172/2172 [==============================] - 13s 6ms/step - loss: 0.2369 - accuracy: 0.9021 - val_loss: 0.3599 - val_accuracy: 0.8526\n",
      "Epoch 10/50\n",
      "2172/2172 [==============================] - 12s 5ms/step - loss: 0.2384 - accuracy: 0.9023 - val_loss: 0.3827 - val_accuracy: 0.8476\n",
      "Epoch 11/50\n",
      "2172/2172 [==============================] - 12s 5ms/step - loss: 0.2480 - accuracy: 0.8987 - val_loss: 0.3652 - val_accuracy: 0.8533\n",
      "Epoch 12/50\n",
      "2172/2172 [==============================] - 12s 5ms/step - loss: 0.2475 - accuracy: 0.8988 - val_loss: 0.3795 - val_accuracy: 0.8507\n",
      "Epoch 13/50\n",
      "2172/2172 [==============================] - 13s 6ms/step - loss: 0.2602 - accuracy: 0.8906 - val_loss: 0.3836 - val_accuracy: 0.8450\n",
      "Epoch 14/50\n",
      "2172/2172 [==============================] - 13s 6ms/step - loss: 0.2640 - accuracy: 0.8893 - val_loss: 0.3586 - val_accuracy: 0.8452\n",
      "Epoch 15/50\n",
      "2172/2172 [==============================] - 12s 5ms/step - loss: 0.2675 - accuracy: 0.8883 - val_loss: 0.3706 - val_accuracy: 0.8473\n",
      "Epoch 16/50\n",
      "2172/2172 [==============================] - 13s 6ms/step - loss: 0.2776 - accuracy: 0.8829 - val_loss: 0.3656 - val_accuracy: 0.8517\n",
      "Epoch 17/50\n",
      "2172/2172 [==============================] - 12s 5ms/step - loss: 0.2895 - accuracy: 0.8763 - val_loss: 0.3658 - val_accuracy: 0.8414\n",
      "Epoch 18/50\n",
      "2172/2172 [==============================] - 12s 5ms/step - loss: 0.2948 - accuracy: 0.8734 - val_loss: 0.3649 - val_accuracy: 0.8399\n",
      "Epoch 19/50\n",
      "2172/2172 [==============================] - 12s 5ms/step - loss: 0.2894 - accuracy: 0.8772 - val_loss: 0.4014 - val_accuracy: 0.8228\n",
      "Epoch 20/50\n",
      "2172/2172 [==============================] - 13s 6ms/step - loss: 0.3006 - accuracy: 0.8707 - val_loss: 0.3698 - val_accuracy: 0.8358\n",
      "Epoch 21/50\n",
      "2172/2172 [==============================] - 12s 5ms/step - loss: 0.3370 - accuracy: 0.8522 - val_loss: 0.3757 - val_accuracy: 0.8328\n",
      "Epoch 22/50\n",
      "2172/2172 [==============================] - 12s 5ms/step - loss: 0.3436 - accuracy: 0.8465 - val_loss: 0.3681 - val_accuracy: 0.8354\n",
      "Epoch 23/50\n",
      "2172/2172 [==============================] - 12s 5ms/step - loss: 0.3457 - accuracy: 0.8483 - val_loss: 0.3828 - val_accuracy: 0.8321\n",
      "Epoch 24/50\n",
      "2172/2172 [==============================] - 12s 5ms/step - loss: 0.3426 - accuracy: 0.8507 - val_loss: 0.3565 - val_accuracy: 0.8476\n",
      "Epoch 25/50\n",
      "2172/2172 [==============================] - 13s 6ms/step - loss: 0.3428 - accuracy: 0.8493 - val_loss: 0.3723 - val_accuracy: 0.8424\n",
      "Epoch 26/50\n",
      "2172/2172 [==============================] - 13s 6ms/step - loss: 0.3478 - accuracy: 0.8458 - val_loss: 0.3692 - val_accuracy: 0.8345\n",
      "Epoch 27/50\n",
      "2172/2172 [==============================] - 12s 5ms/step - loss: 0.3575 - accuracy: 0.8394 - val_loss: 0.3899 - val_accuracy: 0.8270\n",
      "Epoch 28/50\n",
      "2172/2172 [==============================] - 13s 6ms/step - loss: 0.3565 - accuracy: 0.8417 - val_loss: 0.4191 - val_accuracy: 0.8095\n",
      "Epoch 29/50\n",
      "2172/2172 [==============================] - 12s 5ms/step - loss: 0.3928 - accuracy: 0.8235 - val_loss: 0.3896 - val_accuracy: 0.8230\n",
      "Epoch 30/50\n",
      "2172/2172 [==============================] - 12s 5ms/step - loss: 0.3662 - accuracy: 0.8401 - val_loss: 0.4066 - val_accuracy: 0.8173\n",
      "Epoch 31/50\n",
      "2172/2172 [==============================] - 13s 6ms/step - loss: 0.3694 - accuracy: 0.8359 - val_loss: 0.3770 - val_accuracy: 0.8323\n",
      "Epoch 32/50\n",
      "2172/2172 [==============================] - 12s 5ms/step - loss: 0.3822 - accuracy: 0.8280 - val_loss: 0.3997 - val_accuracy: 0.8217\n",
      "Epoch 33/50\n",
      "2172/2172 [==============================] - 12s 5ms/step - loss: 0.3670 - accuracy: 0.8381 - val_loss: 0.3999 - val_accuracy: 0.8178\n",
      "Epoch 34/50\n",
      "2172/2172 [==============================] - 12s 5ms/step - loss: 0.3744 - accuracy: 0.8325 - val_loss: 0.4619 - val_accuracy: 0.7787\n",
      "Epoch 35/50\n",
      "2172/2172 [==============================] - 13s 6ms/step - loss: 0.4071 - accuracy: 0.8122 - val_loss: 0.4114 - val_accuracy: 0.8060\n",
      "Epoch 36/50\n",
      "2172/2172 [==============================] - 13s 6ms/step - loss: 0.3841 - accuracy: 0.8281 - val_loss: 0.4371 - val_accuracy: 0.7968\n",
      "Epoch 37/50\n",
      "2172/2172 [==============================] - 13s 6ms/step - loss: 0.3897 - accuracy: 0.8255 - val_loss: 0.3939 - val_accuracy: 0.8228\n",
      "Epoch 38/50\n",
      "2172/2172 [==============================] - 13s 6ms/step - loss: 0.3847 - accuracy: 0.8265 - val_loss: 0.4223 - val_accuracy: 0.8055\n",
      "Epoch 39/50\n",
      "2172/2172 [==============================] - 12s 5ms/step - loss: 0.4281 - accuracy: 0.8027 - val_loss: 0.4210 - val_accuracy: 0.8015\n",
      "Epoch 40/50\n",
      "2172/2172 [==============================] - 12s 5ms/step - loss: 0.4229 - accuracy: 0.8040 - val_loss: 0.4186 - val_accuracy: 0.8089\n",
      "Epoch 41/50\n",
      "2172/2172 [==============================] - 12s 5ms/step - loss: 0.4145 - accuracy: 0.8127 - val_loss: 0.3922 - val_accuracy: 0.8273\n",
      "Epoch 42/50\n",
      "2172/2172 [==============================] - 13s 6ms/step - loss: 0.3954 - accuracy: 0.8221 - val_loss: 0.3983 - val_accuracy: 0.8219\n",
      "Epoch 43/50\n",
      "2172/2172 [==============================] - 13s 6ms/step - loss: 0.4056 - accuracy: 0.8170 - val_loss: 0.3965 - val_accuracy: 0.8212\n",
      "Epoch 44/50\n",
      "2172/2172 [==============================] - 12s 5ms/step - loss: 0.4068 - accuracy: 0.8144 - val_loss: 0.4323 - val_accuracy: 0.7996\n",
      "Epoch 45/50\n",
      "2172/2172 [==============================] - 12s 5ms/step - loss: 0.4736 - accuracy: 0.7801 - val_loss: 0.3906 - val_accuracy: 0.8239\n",
      "Epoch 46/50\n",
      "2172/2172 [==============================] - 12s 5ms/step - loss: 0.4036 - accuracy: 0.8183 - val_loss: 0.4649 - val_accuracy: 0.7899\n",
      "Epoch 47/50\n",
      "2172/2172 [==============================] - 12s 5ms/step - loss: 0.4549 - accuracy: 0.7823 - val_loss: 0.4687 - val_accuracy: 0.7776\n",
      "Epoch 48/50\n",
      "2172/2172 [==============================] - 13s 6ms/step - loss: 0.4667 - accuracy: 0.7785 - val_loss: 0.4056 - val_accuracy: 0.8198\n",
      "Epoch 49/50\n",
      "2172/2172 [==============================] - 12s 5ms/step - loss: 0.4420 - accuracy: 0.7954 - val_loss: 0.4263 - val_accuracy: 0.8042\n",
      "Epoch 50/50\n",
      "2172/2172 [==============================] - 12s 5ms/step - loss: 0.4823 - accuracy: 0.7686 - val_loss: 0.4501 - val_accuracy: 0.7795\n",
      "Fold 1, 50 epochs, 696 sec\n"
     ]
    },
    {
     "data": {
      "image/png": "[encoded data removed]",
      "text/plain": [
       "<Figure size 576x360 with 1 Axes>"
      ]
     },
     "metadata": {
      "needs_background": "light",
      "tags": []
     },
     "output_type": "display_data"
    },
    {
     "name": "stdout",
     "output_type": "stream",
     "text": [
      "MODEL\n",
      "make_DNN\n",
      "input shape: (1000, 4)\n",
      "FIT\n",
      "Epoch 1/50\n",
      "2172/2172 [==============================] - 13s 6ms/step - loss: 0.5636 - accuracy: 0.7045 - val_loss: 0.3872 - val_accuracy: 0.8252\n",
      "Epoch 2/50\n",
      "2172/2172 [==============================] - 12s 5ms/step - loss: 0.3647 - accuracy: 0.8393 - val_loss: 0.3643 - val_accuracy: 0.8392\n",
      "Epoch 3/50\n",
      "2172/2172 [==============================] - 12s 5ms/step - loss: 0.2937 - accuracy: 0.8766 - val_loss: 0.3295 - val_accuracy: 0.8582\n",
      "INFO:tensorflow:Assets written to: BestModel/assets\n",
      "Epoch 4/50\n",
      "2172/2172 [==============================] - 12s 5ms/step - loss: 0.2560 - accuracy: 0.8940 - val_loss: 0.3425 - val_accuracy: 0.8548\n",
      "Epoch 5/50\n",
      "2172/2172 [==============================] - 12s 5ms/step - loss: 0.2378 - accuracy: 0.9040 - val_loss: 0.3420 - val_accuracy: 0.8563\n",
      "Epoch 6/50\n",
      "2172/2172 [==============================] - 12s 5ms/step - loss: 0.2262 - accuracy: 0.9103 - val_loss: 0.3417 - val_accuracy: 0.8599\n",
      "INFO:tensorflow:Assets written to: BestModel/assets\n",
      "Epoch 7/50\n",
      "2172/2172 [==============================] - 12s 5ms/step - loss: 0.2213 - accuracy: 0.9117 - val_loss: 0.3608 - val_accuracy: 0.8513\n",
      "Epoch 8/50\n",
      "2172/2172 [==============================] - 13s 6ms/step - loss: 0.2203 - accuracy: 0.9120 - val_loss: 0.3475 - val_accuracy: 0.8551\n",
      "Epoch 9/50\n",
      "2172/2172 [==============================] - 12s 6ms/step - loss: 0.2229 - accuracy: 0.9113 - val_loss: 0.3678 - val_accuracy: 0.8486\n",
      "Epoch 10/50\n",
      "2172/2172 [==============================] - 12s 6ms/step - loss: 0.2329 - accuracy: 0.9065 - val_loss: 0.3548 - val_accuracy: 0.8499\n",
      "Epoch 11/50\n",
      "2172/2172 [==============================] - 12s 5ms/step - loss: 0.2399 - accuracy: 0.9016 - val_loss: 0.3555 - val_accuracy: 0.8545\n",
      "Epoch 12/50\n",
      "2172/2172 [==============================] - 13s 6ms/step - loss: 0.2448 - accuracy: 0.9011 - val_loss: 0.3465 - val_accuracy: 0.8492\n",
      "Epoch 13/50\n",
      "2172/2172 [==============================] - 12s 5ms/step - loss: 0.2496 - accuracy: 0.8985 - val_loss: 0.3639 - val_accuracy: 0.8502\n",
      "Epoch 14/50\n",
      "2172/2172 [==============================] - 13s 6ms/step - loss: 0.2593 - accuracy: 0.8924 - val_loss: 0.3474 - val_accuracy: 0.8564\n",
      "Epoch 15/50\n",
      "2172/2172 [==============================] - 12s 5ms/step - loss: 0.2610 - accuracy: 0.8918 - val_loss: 0.3485 - val_accuracy: 0.8526\n",
      "Epoch 16/50\n",
      "2172/2172 [==============================] - 13s 6ms/step - loss: 0.2648 - accuracy: 0.8889 - val_loss: 0.3589 - val_accuracy: 0.8488\n",
      "Epoch 17/50\n",
      "2172/2172 [==============================] - 12s 5ms/step - loss: 0.2851 - accuracy: 0.8781 - val_loss: 0.3545 - val_accuracy: 0.8485\n",
      "Epoch 18/50\n",
      "2172/2172 [==============================] - 12s 5ms/step - loss: 0.2842 - accuracy: 0.8797 - val_loss: 0.3528 - val_accuracy: 0.8504\n",
      "Epoch 19/50\n",
      "2172/2172 [==============================] - 13s 6ms/step - loss: 0.2915 - accuracy: 0.8749 - val_loss: 0.3615 - val_accuracy: 0.8462\n",
      "Epoch 20/50\n",
      "2172/2172 [==============================] - 13s 6ms/step - loss: 0.2969 - accuracy: 0.8738 - val_loss: 0.3602 - val_accuracy: 0.8444\n",
      "Epoch 21/50\n",
      "2172/2172 [==============================] - 13s 6ms/step - loss: 0.3041 - accuracy: 0.8697 - val_loss: 0.3826 - val_accuracy: 0.8384\n",
      "Epoch 22/50\n",
      "2172/2172 [==============================] - 12s 6ms/step - loss: 0.3301 - accuracy: 0.8589 - val_loss: 0.4175 - val_accuracy: 0.8186\n",
      "Epoch 23/50\n",
      "2172/2172 [==============================] - 13s 6ms/step - loss: 0.3183 - accuracy: 0.8639 - val_loss: 0.3741 - val_accuracy: 0.8418\n",
      "Epoch 24/50\n",
      "2172/2172 [==============================] - 12s 5ms/step - loss: 0.3206 - accuracy: 0.8609 - val_loss: 0.4887 - val_accuracy: 0.7865\n",
      "Epoch 25/50\n",
      "2172/2172 [==============================] - 12s 5ms/step - loss: 0.3381 - accuracy: 0.8553 - val_loss: 0.3553 - val_accuracy: 0.8443\n",
      "Epoch 26/50\n",
      "2172/2172 [==============================] - 12s 6ms/step - loss: 0.3422 - accuracy: 0.8494 - val_loss: 0.3568 - val_accuracy: 0.8459\n",
      "Epoch 27/50\n",
      "2172/2172 [==============================] - 13s 6ms/step - loss: 0.3429 - accuracy: 0.8496 - val_loss: 0.3586 - val_accuracy: 0.8474\n",
      "Epoch 28/50\n",
      "2172/2172 [==============================] - 13s 6ms/step - loss: 0.3489 - accuracy: 0.8452 - val_loss: 0.3742 - val_accuracy: 0.8374\n",
      "Epoch 29/50\n",
      "2172/2172 [==============================] - 12s 5ms/step - loss: 0.3894 - accuracy: 0.8239 - val_loss: 0.4201 - val_accuracy: 0.8091\n",
      "Epoch 30/50\n",
      "2172/2172 [==============================] - 12s 5ms/step - loss: 0.3724 - accuracy: 0.8327 - val_loss: 0.3947 - val_accuracy: 0.8299\n",
      "Epoch 31/50\n",
      "2172/2172 [==============================] - 12s 5ms/step - loss: 0.4176 - accuracy: 0.8067 - val_loss: 0.3946 - val_accuracy: 0.8302\n",
      "Epoch 32/50\n",
      "2172/2172 [==============================] - 13s 6ms/step - loss: 0.3570 - accuracy: 0.8418 - val_loss: 0.4053 - val_accuracy: 0.8179\n",
      "Epoch 33/50\n",
      "2172/2172 [==============================] - 12s 5ms/step - loss: 0.3553 - accuracy: 0.8423 - val_loss: 0.3755 - val_accuracy: 0.8317\n",
      "Epoch 34/50\n",
      "2172/2172 [==============================] - 13s 6ms/step - loss: 0.3805 - accuracy: 0.8296 - val_loss: 0.3830 - val_accuracy: 0.8250\n",
      "Epoch 35/50\n",
      "2172/2172 [==============================] - 13s 6ms/step - loss: 0.3885 - accuracy: 0.8232 - val_loss: 0.4261 - val_accuracy: 0.8040\n",
      "Epoch 36/50\n",
      "2172/2172 [==============================] - 12s 5ms/step - loss: 0.3965 - accuracy: 0.8209 - val_loss: 0.3909 - val_accuracy: 0.8236\n",
      "Epoch 37/50\n",
      "2172/2172 [==============================] - 13s 6ms/step - loss: 0.4096 - accuracy: 0.8124 - val_loss: 0.3855 - val_accuracy: 0.8286\n",
      "Epoch 38/50\n",
      "2172/2172 [==============================] - 12s 6ms/step - loss: 0.3746 - accuracy: 0.8345 - val_loss: 0.3865 - val_accuracy: 0.8232\n",
      "Epoch 39/50\n",
      "2172/2172 [==============================] - 12s 6ms/step - loss: 0.4064 - accuracy: 0.8134 - val_loss: 0.4080 - val_accuracy: 0.8128\n",
      "Epoch 40/50\n",
      "2172/2172 [==============================] - 13s 6ms/step - loss: 0.4199 - accuracy: 0.8043 - val_loss: 0.4418 - val_accuracy: 0.7951\n",
      "Epoch 41/50\n",
      "2172/2172 [==============================] - 13s 6ms/step - loss: 0.4495 - accuracy: 0.7909 - val_loss: 0.4490 - val_accuracy: 0.7839\n",
      "Epoch 42/50\n",
      "2172/2172 [==============================] - 12s 5ms/step - loss: 0.4641 - accuracy: 0.7785 - val_loss: 0.4443 - val_accuracy: 0.7929\n",
      "Epoch 43/50\n",
      "2172/2172 [==============================] - 13s 6ms/step - loss: 0.6871 - accuracy: 0.6316 - val_loss: 0.6741 - val_accuracy: 0.6124\n",
      "Epoch 44/50\n",
      "2172/2172 [==============================] - 12s 6ms/step - loss: 0.6637 - accuracy: 0.5891 - val_loss: 0.6413 - val_accuracy: 0.6516\n",
      "Epoch 45/50\n",
      "2172/2172 [==============================] - 13s 6ms/step - loss: 0.6505 - accuracy: 0.6401 - val_loss: 0.6223 - val_accuracy: 0.6784\n",
      "Epoch 46/50\n",
      "2172/2172 [==============================] - 12s 6ms/step - loss: 0.6486 - accuracy: 0.6176 - val_loss: 0.4720 - val_accuracy: 0.7734\n",
      "Epoch 47/50\n",
      "2172/2172 [==============================] - 12s 6ms/step - loss: 0.4983 - accuracy: 0.7504 - val_loss: 0.5215 - val_accuracy: 0.7438\n",
      "Epoch 48/50\n",
      "2172/2172 [==============================] - 12s 6ms/step - loss: 0.5627 - accuracy: 0.7124 - val_loss: 0.4952 - val_accuracy: 0.7665\n",
      "Epoch 49/50\n",
      "2172/2172 [==============================] - 12s 6ms/step - loss: 0.4913 - accuracy: 0.7619 - val_loss: 0.4660 - val_accuracy: 0.7808\n",
      "Epoch 50/50\n",
      "2172/2172 [==============================] - 12s 5ms/step - loss: 0.5271 - accuracy: 0.7265 - val_loss: 0.4528 - val_accuracy: 0.7971\n",
      "Fold 2, 50 epochs, 683 sec\n"
     ]
    },
    {
     "data": {
      "image/png": "[encoded data removed]",
      "text/plain": [
       "<Figure size 576x360 with 1 Axes>"
      ]
     },
     "metadata": {
      "needs_background": "light",
      "tags": []
     },
     "output_type": "display_data"
    },
    {
     "name": "stdout",
     "output_type": "stream",
     "text": [
      "MODEL\n",
      "make_DNN\n",
      "input shape: (1000, 4)\n",
      "FIT\n",
      "Epoch 1/50\n",
      "2172/2172 [==============================] - 14s 6ms/step - loss: 0.5862 - accuracy: 0.6880 - val_loss: 0.4296 - val_accuracy: 0.8031\n",
      "Epoch 2/50\n",
      "2172/2172 [==============================] - 11s 5ms/step - loss: 0.3846 - accuracy: 0.8289 - val_loss: 0.3341 - val_accuracy: 0.8577\n",
      "Epoch 3/50\n",
      "2172/2172 [==============================] - 12s 5ms/step - loss: 0.3049 - accuracy: 0.8703 - val_loss: 0.3304 - val_accuracy: 0.8564\n",
      "Epoch 4/50\n",
      "2172/2172 [==============================] - 12s 5ms/step - loss: 0.2627 - accuracy: 0.8921 - val_loss: 0.3280 - val_accuracy: 0.8612\n",
      "INFO:tensorflow:Assets written to: BestModel/assets\n",
      "Epoch 5/50\n",
      "2172/2172 [==============================] - 12s 5ms/step - loss: 0.2370 - accuracy: 0.9050 - val_loss: 0.3736 - val_accuracy: 0.8407\n",
      "Epoch 6/50\n",
      "2172/2172 [==============================] - 12s 5ms/step - loss: 0.2245 - accuracy: 0.9106 - val_loss: 0.3399 - val_accuracy: 0.8575\n",
      "Epoch 7/50\n",
      "2172/2172 [==============================] - 13s 6ms/step - loss: 0.2197 - accuracy: 0.9118 - val_loss: 0.3539 - val_accuracy: 0.8521\n",
      "Epoch 8/50\n",
      "2172/2172 [==============================] - 12s 5ms/step - loss: 0.2107 - accuracy: 0.9166 - val_loss: 0.3608 - val_accuracy: 0.8529\n",
      "Epoch 9/50\n",
      "2172/2172 [==============================] - 12s 5ms/step - loss: 0.2189 - accuracy: 0.9121 - val_loss: 0.3571 - val_accuracy: 0.8552\n",
      "Epoch 10/50\n",
      "2172/2172 [==============================] - 12s 5ms/step - loss: 0.2240 - accuracy: 0.9074 - val_loss: 0.3590 - val_accuracy: 0.8527\n",
      "Epoch 11/50\n",
      "2172/2172 [==============================] - 12s 5ms/step - loss: 0.2278 - accuracy: 0.9080 - val_loss: 0.3522 - val_accuracy: 0.8580\n",
      "Epoch 12/50\n",
      "2172/2172 [==============================] - 13s 6ms/step - loss: 0.2324 - accuracy: 0.9063 - val_loss: 0.3589 - val_accuracy: 0.8477\n",
      "Epoch 13/50\n",
      "2172/2172 [==============================] - 12s 5ms/step - loss: 0.2495 - accuracy: 0.8963 - val_loss: 0.4048 - val_accuracy: 0.8295\n",
      "Epoch 14/50\n",
      "2172/2172 [==============================] - 12s 5ms/step - loss: 0.2479 - accuracy: 0.8983 - val_loss: 0.3580 - val_accuracy: 0.8516\n",
      "Epoch 15/50\n",
      "2172/2172 [==============================] - 13s 6ms/step - loss: 0.2634 - accuracy: 0.8898 - val_loss: 0.3576 - val_accuracy: 0.8517\n",
      "Epoch 16/50\n",
      "2172/2172 [==============================] - 12s 5ms/step - loss: 0.2702 - accuracy: 0.8867 - val_loss: 0.3728 - val_accuracy: 0.8341\n",
      "Epoch 17/50\n",
      "2172/2172 [==============================] - 12s 5ms/step - loss: 0.2735 - accuracy: 0.8841 - val_loss: 0.3739 - val_accuracy: 0.8442\n",
      "Epoch 18/50\n",
      "2172/2172 [==============================] - 12s 5ms/step - loss: 0.2939 - accuracy: 0.8741 - val_loss: 0.3734 - val_accuracy: 0.8385\n",
      "Epoch 19/50\n",
      "2172/2172 [==============================] - 13s 6ms/step - loss: 0.2887 - accuracy: 0.8773 - val_loss: 0.3655 - val_accuracy: 0.8391\n",
      "Epoch 20/50\n",
      "2172/2172 [==============================] - 13s 6ms/step - loss: 0.3062 - accuracy: 0.8702 - val_loss: 0.3614 - val_accuracy: 0.8442\n",
      "Epoch 21/50\n",
      "2172/2172 [==============================] - 12s 5ms/step - loss: 0.3104 - accuracy: 0.8675 - val_loss: 0.3591 - val_accuracy: 0.8412\n",
      "Epoch 22/50\n",
      "2172/2172 [==============================] - 12s 5ms/step - loss: 0.3124 - accuracy: 0.8646 - val_loss: 0.3498 - val_accuracy: 0.8489\n",
      "Epoch 23/50\n",
      "2172/2172 [==============================] - 12s 5ms/step - loss: 0.3150 - accuracy: 0.8643 - val_loss: 0.3739 - val_accuracy: 0.8359\n",
      "Epoch 24/50\n",
      "2172/2172 [==============================] - 12s 5ms/step - loss: 0.3102 - accuracy: 0.8673 - val_loss: 0.3678 - val_accuracy: 0.8360\n",
      "Epoch 25/50\n",
      "2172/2172 [==============================] - 12s 5ms/step - loss: 0.3208 - accuracy: 0.8619 - val_loss: 0.3868 - val_accuracy: 0.8262\n",
      "Epoch 26/50\n",
      "2172/2172 [==============================] - 12s 5ms/step - loss: 0.3289 - accuracy: 0.8587 - val_loss: 0.4129 - val_accuracy: 0.8224\n",
      "Epoch 27/50\n",
      "2172/2172 [==============================] - 13s 6ms/step - loss: 0.3218 - accuracy: 0.8611 - val_loss: 0.3750 - val_accuracy: 0.8354\n",
      "Epoch 28/50\n",
      "2172/2172 [==============================] - 12s 5ms/step - loss: 0.3438 - accuracy: 0.8504 - val_loss: 0.3752 - val_accuracy: 0.8342\n",
      "Epoch 29/50\n",
      "2172/2172 [==============================] - 12s 5ms/step - loss: 0.3478 - accuracy: 0.8502 - val_loss: 0.3726 - val_accuracy: 0.8355\n",
      "Epoch 30/50\n",
      "2172/2172 [==============================] - 12s 5ms/step - loss: 0.3580 - accuracy: 0.8444 - val_loss: 0.3644 - val_accuracy: 0.8413\n",
      "Epoch 31/50\n",
      "2172/2172 [==============================] - 12s 5ms/step - loss: 0.3490 - accuracy: 0.8481 - val_loss: 0.3780 - val_accuracy: 0.8361\n",
      "Epoch 32/50\n",
      "2172/2172 [==============================] - 12s 5ms/step - loss: 0.3891 - accuracy: 0.8277 - val_loss: 0.4033 - val_accuracy: 0.8172\n",
      "Epoch 33/50\n",
      "2172/2172 [==============================] - 13s 6ms/step - loss: 0.3916 - accuracy: 0.8260 - val_loss: 0.3974 - val_accuracy: 0.8187\n",
      "Epoch 34/50\n",
      "2172/2172 [==============================] - 12s 5ms/step - loss: 0.3763 - accuracy: 0.8311 - val_loss: 0.3671 - val_accuracy: 0.8366\n",
      "Epoch 35/50\n",
      "2172/2172 [==============================] - 12s 5ms/step - loss: 0.4142 - accuracy: 0.8064 - val_loss: 0.4578 - val_accuracy: 0.8005\n",
      "Epoch 36/50\n",
      "2172/2172 [==============================] - 12s 5ms/step - loss: 0.3879 - accuracy: 0.8287 - val_loss: 0.3915 - val_accuracy: 0.8274\n",
      "Epoch 37/50\n",
      "2172/2172 [==============================] - 13s 6ms/step - loss: 0.3853 - accuracy: 0.8295 - val_loss: 0.3686 - val_accuracy: 0.8403\n",
      "Epoch 38/50\n",
      "2172/2172 [==============================] - 12s 5ms/step - loss: 0.3978 - accuracy: 0.8240 - val_loss: 0.4284 - val_accuracy: 0.7998\n",
      "Epoch 39/50\n",
      "2172/2172 [==============================] - 12s 5ms/step - loss: 0.3934 - accuracy: 0.8258 - val_loss: 0.4306 - val_accuracy: 0.8023\n",
      "Epoch 40/50\n",
      "2172/2172 [==============================] - 12s 5ms/step - loss: 0.4583 - accuracy: 0.7820 - val_loss: 0.4162 - val_accuracy: 0.8111\n",
      "Epoch 41/50\n",
      "2172/2172 [==============================] - 12s 5ms/step - loss: 0.4106 - accuracy: 0.8147 - val_loss: 0.4300 - val_accuracy: 0.8003\n",
      "Epoch 42/50\n",
      "2172/2172 [==============================] - 12s 5ms/step - loss: 0.4343 - accuracy: 0.7971 - val_loss: 0.4177 - val_accuracy: 0.8126\n",
      "Epoch 43/50\n",
      "2172/2172 [==============================] - 12s 5ms/step - loss: 0.4234 - accuracy: 0.8065 - val_loss: 0.4106 - val_accuracy: 0.8156\n",
      "Epoch 44/50\n",
      "2172/2172 [==============================] - 12s 5ms/step - loss: 0.4079 - accuracy: 0.8137 - val_loss: 0.4242 - val_accuracy: 0.7976\n",
      "Epoch 45/50\n",
      "2172/2172 [==============================] - 12s 5ms/step - loss: 0.4437 - accuracy: 0.7885 - val_loss: 0.4445 - val_accuracy: 0.7897\n",
      "Epoch 46/50\n",
      "2172/2172 [==============================] - 12s 5ms/step - loss: 0.4471 - accuracy: 0.7890 - val_loss: 0.4449 - val_accuracy: 0.7992\n",
      "Epoch 47/50\n",
      "2172/2172 [==============================] - 12s 5ms/step - loss: 0.4367 - accuracy: 0.8022 - val_loss: 0.6998 - val_accuracy: 0.6985\n",
      "Epoch 48/50\n",
      "2172/2172 [==============================] - 12s 5ms/step - loss: 0.5177 - accuracy: 0.7647 - val_loss: 0.4546 - val_accuracy: 0.7996\n",
      "Epoch 49/50\n",
      "2172/2172 [==============================] - 12s 5ms/step - loss: 0.4464 - accuracy: 0.7939 - val_loss: 0.4312 - val_accuracy: 0.8030\n",
      "Epoch 50/50\n",
      "2172/2172 [==============================] - 12s 5ms/step - loss: 0.4575 - accuracy: 0.7892 - val_loss: 0.4811 - val_accuracy: 0.7726\n",
      "Fold 3, 50 epochs, 623 sec\n"
     ]
    },
    {
     "data": {
      "image/png": "[encoded data removed]",
      "text/plain": [
       "<Figure size 576x360 with 1 Axes>"
      ]
     },
     "metadata": {
      "needs_background": "light",
      "tags": []
     },
     "output_type": "display_data"
    },
    {
     "name": "stdout",
     "output_type": "stream",
     "text": [
      "2021-06-05 13:04:28 UTC\n"
     ]
    }
   ],
   "source": [
    "show_time()\n",
    "do_cross_validation(X,y)\n",
    "show_time()"
   ]
  },
  {
   "cell_type": "code",
   "execution_count": 13,
   "metadata": {
    "id": "aWn0SWiG66n2"
   },
   "outputs": [],
   "source": []
  }
 ],
 "metadata": {
  "accelerator": "GPU",
  "colab": {
   "collapsed_sections": [],
   "name": "GenCode_CNN_302.ipynb",
   "provenance": []
  },
  "kernelspec": {
   "display_name": "Python 3",
   "language": "python",
   "name": "python3"
  },
  "language_info": {
   "codemirror_mode": {
    "name": "ipython",
    "version": 3
   },
   "file_extension": ".py",
   "mimetype": "text/x-python",
   "name": "python",
   "nbconvert_exporter": "python",
   "pygments_lexer": "ipython3",
   "version": "3.8.3"
  }
 },
 "nbformat": 4,
 "nbformat_minor": 1
}
