{
 "cells": [
  {
   "cell_type": "markdown",
   "metadata": {
    "id": "ojm_6E9f9Kcf"
   },
   "source": [
    "# Refactor\n",
    "\n",
    "Start with notebook 306 and refactor the code.  \n",
    "Code improvement had been deferred during SOARS project.  "
   ]
  },
  {
   "cell_type": "code",
   "execution_count": 1,
   "metadata": {
    "colab": {
     "base_uri": "https://localhost:8080/"
    },
    "id": "RmPF4h_YI_sT",
    "outputId": "a1edd650-41ca-4e7e-e543-a8e36a0b40c9"
   },
   "outputs": [
    {
     "name": "stdout",
     "output_type": "stream",
     "text": [
      "2021-08-17 12:26:54 EDT\n"
     ]
    }
   ],
   "source": [
    "import time\n",
    "def show_time():\n",
    "    t = time.time()\n",
    "    print(time.strftime('%Y-%m-%d %H:%M:%S %Z', time.localtime(t)))\n",
    "show_time()"
   ]
  },
  {
   "cell_type": "code",
   "execution_count": 2,
   "metadata": {
    "id": "VQY7aTj29Kch"
   },
   "outputs": [
    {
     "name": "stderr",
     "output_type": "stream",
     "text": [
      "2021-08-17 12:26:54.996221: I tensorflow/stream_executor/platform/default/dso_loader.cc:53] Successfully opened dynamic library libcudart.so.11.0\n"
     ]
    }
   ],
   "source": [
    "import numpy as np\n",
    "import pandas as pd\n",
    "import matplotlib.pyplot as plt\n",
    "from sklearn.model_selection import KFold\n",
    "from sklearn.model_selection import cross_val_score\n",
    "from sklearn.metrics import roc_curve\n",
    "from sklearn.metrics import roc_auc_score\n",
    "\n",
    "from keras.models import Sequential\n",
    "from keras.layers import Dense,Embedding,Dropout\n",
    "from keras.layers import Flatten,TimeDistributed\n",
    "from keras.losses import BinaryCrossentropy\n",
    "from keras.callbacks import ModelCheckpoint\n",
    "from keras.models import load_model"
   ]
  },
  {
   "cell_type": "code",
   "execution_count": 3,
   "metadata": {
    "colab": {
     "base_uri": "https://localhost:8080/"
    },
    "id": "xUxEB53HI_sk",
    "outputId": "50c1004f-ef2f-4f51-d2d6-358a70a9a4fb"
   },
   "outputs": [
    {
     "name": "stdout",
     "output_type": "stream",
     "text": [
      "CoLab not working. On my PC, use relative paths.\n"
     ]
    }
   ],
   "source": [
    "import sys\n",
    "IN_COLAB = False\n",
    "try:\n",
    "    from google.colab import drive\n",
    "    IN_COLAB = True\n",
    "except:\n",
    "    pass\n",
    "if IN_COLAB:\n",
    "    print(\"On Google CoLab, mount cloud-local file, get our code from GitHub.\")\n",
    "    PATH='/content/drive/'\n",
    "    #drive.mount(PATH,force_remount=True)  # hardly ever need this\n",
    "    drive.mount(PATH)    # Google will require login credentials\n",
    "    DATAPATH=PATH+'My Drive/data/'  # must end in \"/\"\n",
    "    import requests\n",
    "    r = requests.get('https://raw.githubusercontent.com/ShepherdCode/Soars2021/master/SimTools/RNA_describe.py')\n",
    "    with open('RNA_describe.py', 'w') as f:\n",
    "        f.write(r.text)  \n",
    "    from RNA_describe import ORF_counter\n",
    "    r = requests.get('https://raw.githubusercontent.com/ShepherdCode/Soars2021/master/SimTools/GenCodeTools.py')\n",
    "    with open('GenCodeTools.py', 'w') as f:\n",
    "        f.write(r.text)  \n",
    "    from GenCodeTools import GenCodeLoader\n",
    "    r = requests.get('https://raw.githubusercontent.com/ShepherdCode/Soars2021/master/SimTools/KmerTools.py')\n",
    "    with open('KmerTools.py', 'w') as f:\n",
    "        f.write(r.text)  \n",
    "    from KmerTools import KmerTools\n",
    "    r = requests.get('https://raw.githubusercontent.com/ShepherdCode/Soars2021/master/SimTools/DataPrep.py')\n",
    "    with open('DataPrep.py', 'w') as f:\n",
    "        f.write(r.text)  \n",
    "    from DataPrep import DataPrep\n",
    "else:\n",
    "        print(\"CoLab not working. On my PC, use relative paths.\")\n",
    "        DATAPATH='data/'  # must end in \"/\"\n",
    "        sys.path.append(\"..\") # append parent dir in order to use sibling dirs\n",
    "        from SimTools.RNA_describe import ORF_counter\n",
    "        from SimTools.GenCodeTools import GenCodeLoader\n",
    "        from SimTools.KmerTools import KmerTools\n",
    "        from SimTools.DataPrep import DataPrep\n",
    "BESTMODELPATH=DATAPATH+\"BestModel\"  \n",
    "LASTMODELPATH=DATAPATH+\"LastModel\"  "
   ]
  },
  {
   "cell_type": "markdown",
   "metadata": {
    "id": "8buAhZRfI_sp"
   },
   "source": [
    "## Data Load"
   ]
  },
  {
   "cell_type": "code",
   "execution_count": 4,
   "metadata": {
    "colab": {
     "base_uri": "https://localhost:8080/"
    },
    "id": "h94xptH1tI82",
    "outputId": "1768facb-1428-432e-bdb0-e16ae90109f4"
   },
   "outputs": [
    {
     "name": "stdout",
     "output_type": "stream",
     "text": [
      "2021-08-17 12:26:55 EDT\n"
     ]
    }
   ],
   "source": [
    "PC_TRAINS=1000\n",
    "NC_TRAINS=1000\n",
    "PC_TESTS=1000\n",
    "NC_TESTS=1000   \n",
    "PC_LENS=(200,4000)\n",
    "NC_LENS=(200,4000)   # Wen used 3500 for hyperparameter, 3000 for train\n",
    "PC_FILENAME='gencode.v38.pc_transcripts.fa.gz'\n",
    "NC_FILENAME='gencode.v38.lncRNA_transcripts.fa.gz'\n",
    "PC_FULLPATH=DATAPATH+PC_FILENAME\n",
    "NC_FULLPATH=DATAPATH+NC_FILENAME\n",
    "MAX_K = 3 \n",
    "INPUT_SHAPE=(None,84)  # 4^3 + 4^2 + 4^1\n",
    "NEURONS=32\n",
    "DROP_RATE=0.30\n",
    "EPOCHS=200\n",
    "SPLITS=3\n",
    "FOLDS=3   \n",
    "show_time()"
   ]
  },
  {
   "cell_type": "code",
   "execution_count": 5,
   "metadata": {
    "colab": {
     "base_uri": "https://localhost:8080/"
    },
    "id": "VNnPagXjtI85",
    "outputId": "5f0a0e19-625d-4348-ae2c-959322fc1628"
   },
   "outputs": [
    {
     "name": "stdout",
     "output_type": "stream",
     "text": [
      "PC seqs loaded: 55381\n",
      "NC seqs loaded: 46919\n",
      "2021-08-17 12:26:57 EDT\n"
     ]
    }
   ],
   "source": [
    "loader=GenCodeLoader()\n",
    "loader.set_label(1)\n",
    "loader.set_check_utr(True)  # ORF-restricted\n",
    "loader.set_check_size(*PC_LENS)   # length-restricted\n",
    "pcdf=loader.load_file(PC_FULLPATH)\n",
    "print(\"PC seqs loaded:\",len(pcdf))\n",
    "loader.set_label(0)\n",
    "loader.set_check_utr(False)   # length-restricted\n",
    "loader.set_check_size(*NC_LENS)\n",
    "ncdf=loader.load_file(NC_FULLPATH)\n",
    "print(\"NC seqs loaded:\",len(ncdf))\n",
    "show_time()"
   ]
  },
  {
   "cell_type": "code",
   "execution_count": 6,
   "metadata": {
    "colab": {
     "base_uri": "https://localhost:8080/"
    },
    "id": "ShtPw_fGtI9E",
    "outputId": "7e2cef66-c962-4fc3-c907-eb2170fa5901"
   },
   "outputs": [
    {
     "name": "stdout",
     "output_type": "stream",
     "text": [
      "2021-08-17 12:26:57 EDT\n",
      "PC seqs pass filter: 55381 <class 'list'>\n",
      "NC seqs pass filter: 46919 <class 'list'>\n"
     ]
    }
   ],
   "source": [
    "def dataframe_extract_sequence(df):\n",
    "    return df['sequence'].tolist()\n",
    "\n",
    "pc_all = dataframe_extract_sequence(pcdf)\n",
    "nc_all = dataframe_extract_sequence(ncdf)\n",
    "pcdf=None\n",
    "ncdf=None\n",
    "\n",
    "show_time()\n",
    "print(\"PC seqs pass filter:\",len(pc_all),type(pc_all))\n",
    "print(\"NC seqs pass filter:\",len(nc_all),type(nc_all))\n",
    "# Garbage collection to reduce RAM footprint\n",
    "\n",
    "#PC seqs pass filter: 55381\n",
    "#NC seqs pass filter: 46919"
   ]
  },
  {
   "cell_type": "code",
   "execution_count": 8,
   "metadata": {},
   "outputs": [
    {
     "name": "stdout",
     "output_type": "stream",
     "text": [
      "Simulated sequence characteristics:\n",
      "PC seqs\n",
      "Average RNA length: 1935.5395713331286\n",
      "Average ORF length: 1047.2401906791138\n",
      "NC seqs\n",
      "Average RNA length: 1179.5947483961722\n",
      "Average ORF length: 203.12651591039878\n",
      "2021-08-17 12:28:24 EDT\n"
     ]
    }
   ],
   "source": [
    "print(\"Simulated sequence characteristics:\")\n",
    "oc = ORF_counter()\n",
    "print(\"PC seqs\")\n",
    "oc.describe_sequences(pc_all)\n",
    "print(\"NC seqs\")\n",
    "oc.describe_sequences(nc_all)\n",
    "oc=None\n",
    "show_time()"
   ]
  },
  {
   "cell_type": "markdown",
   "metadata": {
    "id": "CCNh_FZaI_sv"
   },
   "source": [
    "## Data Prep"
   ]
  },
  {
   "cell_type": "code",
   "execution_count": 9,
   "metadata": {},
   "outputs": [
    {
     "name": "stdout",
     "output_type": "stream",
     "text": [
      "The first few shuffled labels:\n",
      "[1, 0, 1, 1, 1, 1, 0, 0, 1, 0, 1, 1, 1, 1, 0, 1, 1, 1, 1, 1, 0, 0, 1, 1, 0, 0, 1, 0, 1, 1]\n",
      "2021-08-17 12:28:28 EDT\n"
     ]
    }
   ],
   "source": [
    "dp = DataPrep()\n",
    "Xseq,y=dp.combine_pos_and_neg(pc_all,nc_all)\n",
    "nc_all=None\n",
    "pc_all=None\n",
    "nc_all=None\n",
    "print(\"The first few shuffled labels:\")\n",
    "print(y[:30])\n",
    "show_time()"
   ]
  },
  {
   "cell_type": "code",
   "execution_count": 10,
   "metadata": {},
   "outputs": [
    {
     "name": "stdout",
     "output_type": "stream",
     "text": [
      "2021-08-17 12:29:02 EDT\n"
     ]
    }
   ],
   "source": [
    "Xfrq=KmerTools.seqs_to_kmer_freqs(Xseq,MAX_K)\n",
    "Xseq = None\n",
    "y=np.asarray(y)\n",
    "show_time()"
   ]
  },
  {
   "cell_type": "code",
   "execution_count": 11,
   "metadata": {},
   "outputs": [
    {
     "name": "stdout",
     "output_type": "stream",
     "text": [
      "Training set size= 2000 = 2000\n",
      "Reserved test set size= 100300 = 100300\n",
      "2021-08-17 12:29:05 EDT\n"
     ]
    }
   ],
   "source": [
    "# Assume X and y were shuffled.\n",
    "train_size=PC_TRAINS+NC_TRAINS\n",
    "X_train=Xfrq[:train_size] \n",
    "X_test=Xfrq[train_size:]\n",
    "y_train=y[:train_size] \n",
    "y_test=y[train_size:]\n",
    "print(\"Training set size=\",len(X_train),\"=\",len(y_train))\n",
    "print(\"Reserved test set size=\",len(X_test),\"=\",len(y_test))\n",
    "Xfrq=None\n",
    "y=None\n",
    "show_time()"
   ]
  },
  {
   "cell_type": "markdown",
   "metadata": {
    "id": "dJ4XhrzGI_s-"
   },
   "source": [
    "## Load a trained neural network"
   ]
  },
  {
   "cell_type": "code",
   "execution_count": 12,
   "metadata": {
    "colab": {
     "base_uri": "https://localhost:8080/",
     "height": 1000
    },
    "id": "BM6UjBzrrEAV",
    "outputId": "4d7ffa1e-f349-40ef-ee05-a3a8b038c3c7"
   },
   "outputs": [
    {
     "name": "stdout",
     "output_type": "stream",
     "text": [
      "2021-08-17 12:29:07 EDT\n"
     ]
    },
    {
     "name": "stderr",
     "output_type": "stream",
     "text": [
      "2021-08-17 12:29:07.865240: I tensorflow/stream_executor/platform/default/dso_loader.cc:53] Successfully opened dynamic library libcuda.so.1\n",
      "2021-08-17 12:29:07.920983: I tensorflow/stream_executor/cuda/cuda_gpu_executor.cc:937] successful NUMA node read from SysFS had negative value (-1), but there must be at least one NUMA node, so returning NUMA node zero\n",
      "2021-08-17 12:29:07.922144: I tensorflow/core/common_runtime/gpu/gpu_device.cc:1733] Found device 0 with properties: \n",
      "pciBusID: 0000:02:00.0 name: NVIDIA GeForce RTX 2080 Ti computeCapability: 7.5\n",
      "coreClock: 1.545GHz coreCount: 68 deviceMemorySize: 10.75GiB deviceMemoryBandwidth: 573.69GiB/s\n",
      "2021-08-17 12:29:07.922183: I tensorflow/stream_executor/platform/default/dso_loader.cc:53] Successfully opened dynamic library libcudart.so.11.0\n",
      "2021-08-17 12:29:07.925856: I tensorflow/stream_executor/platform/default/dso_loader.cc:53] Successfully opened dynamic library libcublas.so.11\n",
      "2021-08-17 12:29:07.925904: I tensorflow/stream_executor/platform/default/dso_loader.cc:53] Successfully opened dynamic library libcublasLt.so.11\n",
      "2021-08-17 12:29:07.927845: I tensorflow/stream_executor/platform/default/dso_loader.cc:53] Successfully opened dynamic library libcufft.so.10\n",
      "2021-08-17 12:29:07.928045: I tensorflow/stream_executor/platform/default/dso_loader.cc:53] Successfully opened dynamic library libcurand.so.10\n",
      "2021-08-17 12:29:07.928397: I tensorflow/stream_executor/platform/default/dso_loader.cc:53] Successfully opened dynamic library libcusolver.so.11\n",
      "2021-08-17 12:29:07.928974: I tensorflow/stream_executor/platform/default/dso_loader.cc:53] Successfully opened dynamic library libcusparse.so.11\n",
      "2021-08-17 12:29:07.929081: I tensorflow/stream_executor/platform/default/dso_loader.cc:53] Successfully opened dynamic library libcudnn.so.8\n",
      "2021-08-17 12:29:07.929149: I tensorflow/stream_executor/cuda/cuda_gpu_executor.cc:937] successful NUMA node read from SysFS had negative value (-1), but there must be at least one NUMA node, so returning NUMA node zero\n",
      "2021-08-17 12:29:07.929959: I tensorflow/stream_executor/cuda/cuda_gpu_executor.cc:937] successful NUMA node read from SysFS had negative value (-1), but there must be at least one NUMA node, so returning NUMA node zero\n",
      "2021-08-17 12:29:07.930560: I tensorflow/core/common_runtime/gpu/gpu_device.cc:1871] Adding visible gpu devices: 0\n",
      "2021-08-17 12:29:07.930948: I tensorflow/core/platform/cpu_feature_guard.cc:142] This TensorFlow binary is optimized with oneAPI Deep Neural Network Library (oneDNN) to use the following CPU instructions in performance-critical operations:  AVX2 AVX512F FMA\n",
      "To enable them in other operations, rebuild TensorFlow with the appropriate compiler flags.\n",
      "2021-08-17 12:29:07.931737: I tensorflow/stream_executor/cuda/cuda_gpu_executor.cc:937] successful NUMA node read from SysFS had negative value (-1), but there must be at least one NUMA node, so returning NUMA node zero\n",
      "2021-08-17 12:29:07.932325: I tensorflow/core/common_runtime/gpu/gpu_device.cc:1733] Found device 0 with properties: \n",
      "pciBusID: 0000:02:00.0 name: NVIDIA GeForce RTX 2080 Ti computeCapability: 7.5\n",
      "coreClock: 1.545GHz coreCount: 68 deviceMemorySize: 10.75GiB deviceMemoryBandwidth: 573.69GiB/s\n",
      "2021-08-17 12:29:07.932367: I tensorflow/stream_executor/cuda/cuda_gpu_executor.cc:937] successful NUMA node read from SysFS had negative value (-1), but there must be at least one NUMA node, so returning NUMA node zero\n",
      "2021-08-17 12:29:07.932939: I tensorflow/stream_executor/cuda/cuda_gpu_executor.cc:937] successful NUMA node read from SysFS had negative value (-1), but there must be at least one NUMA node, so returning NUMA node zero\n",
      "2021-08-17 12:29:07.933474: I tensorflow/core/common_runtime/gpu/gpu_device.cc:1871] Adding visible gpu devices: 0\n",
      "2021-08-17 12:29:07.933506: I tensorflow/stream_executor/platform/default/dso_loader.cc:53] Successfully opened dynamic library libcudart.so.11.0\n",
      "2021-08-17 12:29:08.247828: I tensorflow/core/common_runtime/gpu/gpu_device.cc:1258] Device interconnect StreamExecutor with strength 1 edge matrix:\n",
      "2021-08-17 12:29:08.247849: I tensorflow/core/common_runtime/gpu/gpu_device.cc:1264]      0 \n",
      "2021-08-17 12:29:08.247853: I tensorflow/core/common_runtime/gpu/gpu_device.cc:1277] 0:   N \n",
      "2021-08-17 12:29:08.248022: I tensorflow/stream_executor/cuda/cuda_gpu_executor.cc:937] successful NUMA node read from SysFS had negative value (-1), but there must be at least one NUMA node, so returning NUMA node zero\n",
      "2021-08-17 12:29:08.248486: I tensorflow/stream_executor/cuda/cuda_gpu_executor.cc:937] successful NUMA node read from SysFS had negative value (-1), but there must be at least one NUMA node, so returning NUMA node zero\n",
      "2021-08-17 12:29:08.248922: I tensorflow/stream_executor/cuda/cuda_gpu_executor.cc:937] successful NUMA node read from SysFS had negative value (-1), but there must be at least one NUMA node, so returning NUMA node zero\n",
      "2021-08-17 12:29:08.249331: I tensorflow/core/common_runtime/gpu/gpu_device.cc:1418] Created TensorFlow device (/job:localhost/replica:0/task:0/device:GPU:0 with 9274 MB memory) -> physical GPU (device: 0, name: NVIDIA GeForce RTX 2080 Ti, pci bus id: 0000:02:00.0, compute capability: 7.5)\n"
     ]
    },
    {
     "name": "stdout",
     "output_type": "stream",
     "text": [
      "Model: \"sequential_1\"\n",
      "_________________________________________________________________\n",
      "Layer (type)                 Output Shape              Param #   \n",
      "=================================================================\n",
      "dense_4 (Dense)              (None, 32)                2720      \n",
      "_________________________________________________________________\n",
      "dropout_3 (Dropout)          (None, 32)                0         \n",
      "_________________________________________________________________\n",
      "dense_5 (Dense)              (None, 32)                1056      \n",
      "_________________________________________________________________\n",
      "dropout_4 (Dropout)          (None, 32)                0         \n",
      "_________________________________________________________________\n",
      "dense_6 (Dense)              (None, 32)                1056      \n",
      "_________________________________________________________________\n",
      "dropout_5 (Dropout)          (None, 32)                0         \n",
      "_________________________________________________________________\n",
      "dense_7 (Dense)              (None, 1)                 33        \n",
      "=================================================================\n",
      "Total params: 4,865\n",
      "Trainable params: 4,865\n",
      "Non-trainable params: 0\n",
      "_________________________________________________________________\n",
      "None\n"
     ]
    }
   ],
   "source": [
    "show_time()\n",
    "model = load_model(BESTMODELPATH)\n",
    "print(model.summary())"
   ]
  },
  {
   "cell_type": "markdown",
   "metadata": {
    "id": "OsytC9VUrEAX"
   },
   "source": [
    "## Test the neural network"
   ]
  },
  {
   "cell_type": "code",
   "execution_count": 13,
   "metadata": {
    "id": "8hIqe1r1rEAa"
   },
   "outputs": [],
   "source": [
    "def show_test_AUC(model,X,y):\n",
    "    ns_probs = [0 for _ in range(len(y))]\n",
    "    bm_probs = model.predict(X)\n",
    "    ns_auc = roc_auc_score(y, ns_probs)\n",
    "    bm_auc = roc_auc_score(y, bm_probs)\n",
    "    ns_fpr, ns_tpr, _ = roc_curve(y, ns_probs)\n",
    "    bm_fpr, bm_tpr, _ = roc_curve(y, bm_probs)\n",
    "    plt.plot(ns_fpr, ns_tpr, linestyle='--', label='Guess, auc=%.4f'%ns_auc)\n",
    "    plt.plot(bm_fpr, bm_tpr, marker='.', label='Model, auc=%.4f'%bm_auc)\n",
    "    plt.title('ROC')\n",
    "    plt.xlabel('False Positive Rate')\n",
    "    plt.ylabel('True Positive Rate')\n",
    "    plt.legend()\n",
    "    plt.show()\n",
    "    print(\"%s: %.2f%%\" %('AUC',bm_auc*100.0))\n",
    "def show_test_accuracy(model,X,y):\n",
    "    scores = model.evaluate(X, y, verbose=0)\n",
    "    print(\"%s: %.2f%%\" % (model.metrics_names[1], scores[1]*100))\n"
   ]
  },
  {
   "cell_type": "code",
   "execution_count": 14,
   "metadata": {},
   "outputs": [
    {
     "name": "stdout",
     "output_type": "stream",
     "text": [
      "<class 'numpy.ndarray'>\n",
      "<class 'numpy.ndarray'>\n",
      "<class 'numpy.float64'>\n",
      "[0.20915033 0.31154684 0.35729847 0.12200436 0.05458515 0.04585153\n",
      " 0.09170306 0.01746725 0.069869   0.10262009 0.07860262 0.06113537\n",
      " 0.06550218 0.12227074 0.1419214  0.02620087 0.01965066 0.04148472\n",
      " 0.04366812 0.01746725 0.00875274 0.01531729 0.02188184 0.00875274\n",
      " 0.0131291  0.0131291  0.01750547 0.00218818 0.02188184 0.02188184\n",
      " 0.04376368 0.00437637 0.00437637 0.00656455 0.00437637 0.00218818\n",
      " 0.01094092 0.02188184 0.03282276 0.00437637 0.02844639 0.02625821\n",
      " 0.02188184 0.02625821 0.00875274 0.03719912 0.02625821 0.00656455\n",
      " 0.00875274 0.01969365 0.03063457 0.00218818 0.02844639 0.00656455\n",
      " 0.02844639 0.00218818 0.02407002 0.04157549 0.02844639 0.02844639\n",
      " 0.03282276 0.04157549 0.05689278 0.00875274 0.00218818 0.01094092\n",
      " 0.00656455 0.00656455 0.00656455 0.00218818 0.00875274 0.00218818\n",
      " 0.00437637 0.02188184 0.01094092 0.00437637 0.00218818 0.01969365\n",
      " 0.01531729 0.00656455 0.00437637 0.00437637 0.00218818 0.00656455]\n",
      "\n",
      "<class 'numpy.ndarray'>\n",
      "<class 'numpy.int64'>\n"
     ]
    }
   ],
   "source": [
    "print(type(X_test))\n",
    "print(type(X_test[0]))\n",
    "print(type(X_test[0][0]))\n",
    "print(X_test[0])\n",
    "#<class 'numpy.ndarray'>\n",
    "#<class 'numpy.ndarray'>\n",
    "#<class 'numpy.float64'>\n",
    "print()\n",
    "print(type(y_test))\n",
    "print(type(y_test[0]))"
   ]
  },
  {
   "cell_type": "code",
   "execution_count": 15,
   "metadata": {
    "colab": {
     "base_uri": "https://localhost:8080/",
     "height": 469
    },
    "id": "tGf2PcxRC8jT",
    "outputId": "489f5c26-0ff9-4f02-f078-39e3abcc51ba",
    "scrolled": true
   },
   "outputs": [
    {
     "name": "stdout",
     "output_type": "stream",
     "text": [
      "Accuracy on test data.\n",
      "2021-08-17 12:29:20 EDT\n"
     ]
    },
    {
     "name": "stderr",
     "output_type": "stream",
     "text": [
      "2021-08-17 12:29:20.242872: I tensorflow/compiler/mlir/mlir_graph_optimization_pass.cc:176] None of the MLIR Optimization Passes are enabled (registered 2)\n",
      "2021-08-17 12:29:20.260627: I tensorflow/core/platform/profile_utils/cpu_utils.cc:114] CPU Frequency: 2496000000 Hz\n",
      "2021-08-17 12:29:22.438938: I tensorflow/stream_executor/platform/default/dso_loader.cc:53] Successfully opened dynamic library libcublas.so.11\n",
      "2021-08-17 12:29:22.760728: I tensorflow/stream_executor/platform/default/dso_loader.cc:53] Successfully opened dynamic library libcublasLt.so.11\n"
     ]
    },
    {
     "data": {
      "image/png": "[encoded data removed]",
      "text/plain": [
       "<Figure size 432x288 with 1 Axes>"
      ]
     },
     "metadata": {
      "needs_background": "light"
     },
     "output_type": "display_data"
    },
    {
     "name": "stdout",
     "output_type": "stream",
     "text": [
      "AUC: 68.70%\n",
      "accuracy: 63.18%\n",
      "2021-08-17 12:29:27 EDT\n"
     ]
    }
   ],
   "source": [
    "print(\"Accuracy on test data.\")\n",
    "show_time()\n",
    "show_test_AUC(model,X_test,y_test)\n",
    "show_test_accuracy(model,X_test,y_test)\n",
    "show_time()"
   ]
  },
  {
   "cell_type": "code",
   "execution_count": null,
   "metadata": {
    "id": "-cSLTNfzrEAo"
   },
   "outputs": [],
   "source": []
  }
 ],
 "metadata": {
  "accelerator": "GPU",
  "colab": {
   "collapsed_sections": [],
   "name": "ORF_MLP_122.ipynb",
   "provenance": []
  },
  "kernelspec": {
   "display_name": "Python 3 (ipykernel)",
   "language": "python",
   "name": "python3"
  },
  "language_info": {
   "codemirror_mode": {
    "name": "ipython",
    "version": 3
   },
   "file_extension": ".py",
   "mimetype": "text/x-python",
   "name": "python",
   "nbconvert_exporter": "python",
   "pygments_lexer": "ipython3",
   "version": "3.8.10"
  }
 },
 "nbformat": 4,
 "nbformat_minor": 1
}
