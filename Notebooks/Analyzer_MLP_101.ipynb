{
  "nbformat": 4,
  "nbformat_minor": 0,
  "metadata": {
    "colab": {
      "name": "Analyzer_MLP_101.ipynb",
      "provenance": [],
      "collapsed_sections": []
    },
    "kernelspec": {
      "display_name": "Python 3",
      "language": "python",
      "name": "python3"
    },
    "language_info": {
      "codemirror_mode": {
        "name": "ipython",
        "version": 3
      },
      "file_extension": ".py",
      "mimetype": "text/x-python",
      "name": "python",
      "nbconvert_exporter": "python",
      "pygments_lexer": "ipython3",
      "version": "3.8.3"
    }
  },
  "cells": [
    {
      "cell_type": "markdown",
      "metadata": {
        "id": "QxjDXgzOuzm9"
      },
      "source": [
        "# Analyzer\n",
        "\n",
        "Statistically, visually, and through machine learning compare mRNA and lncRNA sequences from GENCODE v38.\n",
        "\n",
        "Assume the user downloaded files from GENCODE v38 [FTP](http://ftp.ebi.ac.uk/pub/databases/gencode/Gencode_human/release_38/)\n",
        "to a subdirectory called data."
      ]
    },
    {
      "cell_type": "markdown",
      "metadata": {
        "id": "CWH1hul6uKub"
      },
      "source": [
        "## Import Dependencies\n"
      ]
    },
    {
      "cell_type": "code",
      "metadata": {
        "colab": {
          "base_uri": "https://localhost:8080/"
        },
        "id": "cMB8T39CuJ2Y",
        "outputId": "94349b56-31d1-48dc-a7ea-c315383d4513"
      },
      "source": [
        "import numpy as np\n",
        "import matplotlib.pyplot as plt\n",
        "import random\n",
        "import pandas as pd\n",
        "import gzip\n",
        "from scipy.stats import chisquare, kstest\n",
        "import sys\n",
        "\n",
        "from sklearn.utils import shuffle\n",
        "from sklearn.model_selection import KFold\n",
        "from sklearn.model_selection import cross_val_score\n",
        "from sklearn.metrics import roc_curve\n",
        "from sklearn.metrics import roc_auc_score\n",
        "from keras.models import Sequential\n",
        "from keras.layers import Dense,Embedding,Dropout\n",
        "from keras.layers import Flatten,TimeDistributed\n",
        "from keras.losses import BinaryCrossentropy\n",
        "from keras.callbacks import ModelCheckpoint\n",
        "from keras.models import load_model\n",
        "\n",
        "try:\n",
        "    from google.colab import drive\n",
        "    IN_COLAB = True\n",
        "    print(\"On Google CoLab, mount cloud-local file, get our code from GitHub.\")\n",
        "    PATH='/content/drive/'\n",
        "    #drive.mount(PATH,force_remount=True)  # hardly ever need this\n",
        "    drive.mount(PATH)    # Google will require login credentials\n",
        "    DATAPATH=PATH+'My Drive/data/'  # must end in \"/\"\n",
        "    import requests\n",
        "    s = requests.get('https://raw.githubusercontent.com/ShepherdCode/Soars2021/master/SimTools/RNA_describe.py')\n",
        "    with open('RNA_describe.py', 'w') as f:\n",
        "      f.write(s.text)  # writes to cloud local, delete the file later?\n",
        "    s = requests.get('https://raw.githubusercontent.com/ShepherdCode/Soars2021/master/SimTools/GenCodeTools.py')\n",
        "    with open ('GenCodeTools.py', 'w') as f:\n",
        "      f.write(s.text)\n",
        "    s = requests.get('https://raw.githubusercontent.com/ShepherdCode/Soars2021/master/SimTools/plot_generator.py')\n",
        "    with open('plot_generator.py', 'w') as f:\n",
        "      f.write(s.text)\n",
        "    s = requests.get('https://raw.githubusercontent.com/ShepherdCode/Soars2021/master/SimTools/KmerTools.py')\n",
        "    with open('KmerTools.py', 'w') as f:\n",
        "      f.write(s.text)  \n",
        "    from KmerTools import KmerTools\n",
        "    from RNA_describe import *\n",
        "    from GenCodeTools import *\n",
        "    from plot_generator import *\n",
        "except:\n",
        "    print(\"CoLab not working. On my PC, use relative paths.\")\n",
        "    IN_COLAB = False\n",
        "    DATAPATH='../data/'  # must end in \"/\"\n",
        "    sys.path.append(\"..\") # append parent dir in order to use sibling dirs\n",
        "    from SimTools.RNA_describe import *\n",
        "    from SimTools.GenCodeTools import *\n",
        "    from SimTools.plot_generator import *\n",
        "    from SimTools.KmerTools import KmerTools\n",
        "\n",
        "MODELPATH=\"BestModel\"  # saved on cloud instance and lost after logout\n",
        "#MODELPATH=DATAPATH+MODELPATH  # saved on Google Drive but requires login\n",
        "\n",
        "if not assert_imported_RNA_describe():\n",
        "    print(\"ERROR: Cannot use RNA_describe.\")"
      ],
      "execution_count": 1,
      "outputs": [
        {
          "output_type": "stream",
          "text": [
            "On Google CoLab, mount cloud-local file, get our code from GitHub.\n",
            "Mounted at /content/drive/\n"
          ],
          "name": "stdout"
        }
      ]
    },
    {
      "cell_type": "markdown",
      "metadata": {
        "id": "T8RNNlZGsZN5"
      },
      "source": [
        "## Load GENCODE Data\n",
        "Loads GENCODE v38 data.\n",
        "\n",
        "Filters out mRNA sequences based on UTR check."
      ]
    },
    {
      "cell_type": "code",
      "metadata": {
        "colab": {
          "base_uri": "https://localhost:8080/"
        },
        "id": "37JnfHgWt_-U",
        "outputId": "bc715d0d-14e9-4f6f-8d7f-600f636f800e"
      },
      "source": [
        "PC_FILENAME='gencode.v38.pc_transcripts.fa.gz'\n",
        "NC_FILENAME='gencode.v38.lncRNA_transcripts.fa.gz'\n",
        "PC_FULLPATH=DATAPATH+PC_FILENAME\n",
        "NC_FULLPATH=DATAPATH+NC_FILENAME\n",
        "loader=GenCodeLoader()\n",
        "loader.set_label(1)\n",
        "loader.set_check_list(None) \n",
        "loader.set_check_utr(True)\n",
        "pcdf=loader.load_file(PC_FULLPATH)\n",
        "print(\"PC seqs loaded:\",len(pcdf))\n",
        "loader.set_label(0)\n",
        "loader.set_check_list(None)\n",
        "loader.set_check_utr(False)\n",
        "ncdf=loader.load_file(NC_FULLPATH)\n",
        "print(\"NC seqs loaded:\",len(ncdf))"
      ],
      "execution_count": 2,
      "outputs": [
        {
          "output_type": "stream",
          "text": [
            "PC seqs loaded: 70825\n",
            "NC seqs loaded: 48752\n"
          ],
          "name": "stdout"
        }
      ]
    },
    {
      "cell_type": "markdown",
      "metadata": {
        "id": "J0y1XAPLvr_G"
      },
      "source": [
        "## Process Sequences\n"
      ]
    },
    {
      "cell_type": "markdown",
      "metadata": {
        "id": "si3kGF7kTZ3M"
      },
      "source": [
        "Generate Sample of GENCODE Data Set\n",
        "\n",
        "Apply Length Constraints\n",
        "\n",
        "Validate Sequences"
      ]
    },
    {
      "cell_type": "code",
      "metadata": {
        "id": "6V7WMCLN3l1q"
      },
      "source": [
        "MINIMUM_SEQUENCE_LENGTH = 200   #Minimum exclusive length to filter out sequences by\n",
        "MAXIMUM_SEQUENCE_LENGTH = 4000  #Maximum inclusive length to filter out sequences by\n",
        "SAMPLE_SIZE = 10000             #How many pc sequences and nc sequences respectively\n",
        "REPRODUCABILITY_SEED = 314159   #Use to reproduce random sampling"
      ],
      "execution_count": 3,
      "outputs": []
    },
    {
      "cell_type": "markdown",
      "metadata": {
        "id": "nhurVSiByi6A"
      },
      "source": [
        "Shuffle"
      ]
    },
    {
      "cell_type": "code",
      "metadata": {
        "id": "ANtZknso53FT"
      },
      "source": [
        "pcdf = pcdf.sample(frac=1, random_state=REPRODUCABILITY_SEED)\n",
        "ncdf = ncdf.sample(frac=1, random_state=REPRODUCABILITY_SEED)"
      ],
      "execution_count": 5,
      "outputs": []
    },
    {
      "cell_type": "markdown",
      "metadata": {
        "id": "xe5boK2NTWH1"
      },
      "source": [
        "Apply Length Constraints"
      ]
    },
    {
      "cell_type": "code",
      "metadata": {
        "id": "7ga4K3Aw4sJd"
      },
      "source": [
        "def subset_list_by_len_bounds(input_list, min_len, max_len):\n",
        "  return list(filter(lambda x: len(x) > min_len and len(x) <= max_len, input_list))"
      ],
      "execution_count": 6,
      "outputs": []
    },
    {
      "cell_type": "code",
      "metadata": {
        "colab": {
          "base_uri": "https://localhost:8080/"
        },
        "id": "D7pejW0g1lnR",
        "outputId": "c7bccf94-c6f4-4fef-9224-31e6453e708a"
      },
      "source": [
        "pc_sequences = pcdf['sequence'].tolist()\n",
        "nc_sequences = ncdf['sequence'].tolist()\n",
        "\n",
        "pc_sequences = subset_list_by_len_bounds(pc_sequences, MINIMUM_SEQUENCE_LENGTH, MAXIMUM_SEQUENCE_LENGTH)\n",
        "nc_sequences = subset_list_by_len_bounds(nc_sequences, MINIMUM_SEQUENCE_LENGTH, MAXIMUM_SEQUENCE_LENGTH)\n",
        "\n",
        "print('PC seqs in length range','('+str(MINIMUM_SEQUENCE_LENGTH),'-',str(MAXIMUM_SEQUENCE_LENGTH)+'):', len(pc_sequences))\n",
        "print('NC seqs in length range','('+str(MINIMUM_SEQUENCE_LENGTH),'-',str(MAXIMUM_SEQUENCE_LENGTH)+'):', len(nc_sequences))\n",
        "\n",
        "#Garbage collection\n",
        "pcdf = None\n",
        "ncdf = None"
      ],
      "execution_count": 8,
      "outputs": [
        {
          "output_type": "stream",
          "text": [
            "PC seqs in length range (200 - 4000): 55381\n",
            "NC seqs in length range (200 - 4000): 46912\n"
          ],
          "name": "stdout"
        }
      ]
    },
    {
      "cell_type": "markdown",
      "metadata": {
        "id": "BlFZ2BHDS_kJ"
      },
      "source": [
        "Validate Sequences"
      ]
    },
    {
      "cell_type": "code",
      "metadata": {
        "colab": {
          "base_uri": "https://localhost:8080/"
        },
        "id": "FYBUZyfxSRZs",
        "outputId": "ec436e35-edb7-4115-8291-de1ee3e25244"
      },
      "source": [
        "def valid_sequence(seq):\n",
        "    \"\"\"\n",
        "    Checks if the given sequences if valid.\n",
        "    \"\"\"\n",
        "    for chr in seq:\n",
        "        if not (chr == 'A' or chr == 'C' or chr == 'G' or chr == 'T'):\n",
        "            return False\n",
        "    return True\n",
        "\n",
        "def validate_sequences(sequences):\n",
        "    \"\"\"\n",
        "    Validate the given list of sequences\n",
        "    \"\"\"\n",
        "    i = 0\n",
        "    while i < len(sequences):\n",
        "        if valid_sequence(sequences[i]):\n",
        "            i += 1\n",
        "        else:\n",
        "            sequences.remove(sequences[i])\n",
        "\n",
        "validate_sequences(pc_sequences)\n",
        "validate_sequences(nc_sequences)\n",
        "\n",
        "print('Valid PC seqs:', len(pc_sequences))\n",
        "print('Valid NC seqs:', len(nc_sequences))"
      ],
      "execution_count": 9,
      "outputs": [
        {
          "output_type": "stream",
          "text": [
            "Valid PC seqs: 55381\n",
            "Valid NC seqs: 46911\n"
          ],
          "name": "stdout"
        }
      ]
    },
    {
      "cell_type": "markdown",
      "metadata": {
        "id": "kNuab4jEylHb"
      },
      "source": [
        "Reduce sample size"
      ]
    },
    {
      "cell_type": "code",
      "metadata": {
        "id": "nF3tLEY9yDlo"
      },
      "source": [
        "pc_sequences = pc_sequences[:SAMPLE_SIZE]\n",
        "nc_sequences = nc_sequences[:SAMPLE_SIZE]"
      ],
      "execution_count": 10,
      "outputs": []
    },
    {
      "cell_type": "markdown",
      "metadata": {
        "id": "IVWspW8e4v2b"
      },
      "source": [
        "## Set Up MLP"
      ]
    },
    {
      "cell_type": "code",
      "metadata": {
        "id": "rNxOORWM41Xi"
      },
      "source": [
        "RATIO_TRAIN_TO_TEST = 0.90\n",
        "INPUT_SHAPE = (None, 4**3 + 4**2 + 4**1)\n",
        "MAX_K = 3\n",
        "NEURONS = 16\n",
        "DROP_RATE = 0.1\n",
        "EPOCHS = 10\n",
        "SPLITS = 5\n",
        "FOLDS = 5"
      ],
      "execution_count": 11,
      "outputs": []
    },
    {
      "cell_type": "markdown",
      "metadata": {
        "id": "Nf_MTH3a63ZA"
      },
      "source": [
        "Define what is training data and what is testing data"
      ]
    },
    {
      "cell_type": "code",
      "metadata": {
        "id": "D2mKPv1B5oIR",
        "colab": {
          "base_uri": "https://localhost:8080/"
        },
        "outputId": "cdd57659-8120-4423-b75f-65840f5b22bb"
      },
      "source": [
        "NUM_PC = len(pc_sequences)\n",
        "NUM_PC_TRAIN = int(NUM_PC * RATIO_TRAIN_TO_TEST)\n",
        "NUM_NC = len(nc_sequences)\n",
        "NUM_NC_TRAIN = int(NUM_NC * RATIO_TRAIN_TO_TEST)\n",
        "\n",
        "pc_train = pc_sequences[:NUM_PC_TRAIN]\n",
        "pc_test = pc_sequences[NUM_PC_TRAIN:]\n",
        "nc_train = nc_sequences[:NUM_NC_TRAIN]\n",
        "nc_test = nc_sequences[NUM_NC_TRAIN:]\n",
        "\n",
        "print('PC TRAIN:', len(pc_train))\n",
        "print('NC TRAIN', len(nc_train))\n",
        "print('PC TEST:', len(pc_test))\n",
        "print('NC TEST:', len(nc_test))\n",
        "\n",
        "#Garbage Collection (this makes re-running the MLP a pain)\n",
        "#pc_sequences = None\n",
        "#nc_sequences = None"
      ],
      "execution_count": 12,
      "outputs": [
        {
          "output_type": "stream",
          "text": [
            "PC TRAIN: 9000\n",
            "NC TRAIN 9000\n",
            "PC TEST: 1000\n",
            "NC TEST: 1000\n"
          ],
          "name": "stdout"
        }
      ]
    },
    {
      "cell_type": "markdown",
      "metadata": {
        "id": "5DOlou8Z7XU_"
      },
      "source": [
        "Prepare the Inputs and the Labels"
      ]
    },
    {
      "cell_type": "code",
      "metadata": {
        "id": "5MVxtNEc69NO"
      },
      "source": [
        "def prepare_x_and_y(seqs1, seqs0):\n",
        "    \"\"\"\n",
        "    From Miller's MLP_GenCode_1??.\n",
        "    \"\"\"\n",
        "    len1=len(seqs1)\n",
        "    len0=len(seqs0)\n",
        "    total=len1+len0\n",
        "    L1=np.ones(len1,dtype=np.int8)\n",
        "    L0=np.zeros(len0,dtype=np.int8)\n",
        "    S1 = np.asarray(seqs1)\n",
        "    S0 = np.asarray(seqs0)\n",
        "    all_labels = np.concatenate((L1,L0))\n",
        "    all_seqs = np.concatenate((S1,S0))  \n",
        "    for i in range(0,len0):\n",
        "        all_labels[i*2] = L0[i]\n",
        "        all_seqs[i*2] = S0[i]\n",
        "        all_labels[i*2+1] = L1[i]\n",
        "        all_seqs[i*2+1] = S1[i]\n",
        "    return all_seqs,all_labels\n",
        "Xseq, y = prepare_x_and_y(pc_train, nc_train)"
      ],
      "execution_count": 13,
      "outputs": []
    },
    {
      "cell_type": "code",
      "metadata": {
        "id": "g46xCFPZ7xqF"
      },
      "source": [
        "def seqs_to_kmer_freqs(seqs, max_K):\n",
        "    \"\"\"\n",
        "    From Miller's MLP_GenCode_1??.\n",
        "    \"\"\"\n",
        "    tool = KmerTools()  # from SimTools\n",
        "    collection = []\n",
        "    for seq in seqs:\n",
        "        counts = tool.make_dict_upto_K(max_K)\n",
        "        # Last param should be True when using Harvester.\n",
        "        counts = tool.update_count_one_K(counts, max_K, seq, True)\n",
        "        # Given counts for K=3, Harvester fills in counts for K=1,2.\n",
        "        counts = tool.harvest_counts_from_K(counts, max_K)\n",
        "        fdict = tool.count_to_frequency(counts, max_K)\n",
        "        freqs = list(fdict.values())\n",
        "        collection.append(freqs)\n",
        "    return np.asarray(collection)\n",
        "\n",
        "Xfrq = seqs_to_kmer_freqs(Xseq, MAX_K)\n",
        "\n",
        "#Garbage Collection\n",
        "Xseq = None"
      ],
      "execution_count": 14,
      "outputs": []
    },
    {
      "cell_type": "markdown",
      "metadata": {
        "id": "6TS9xAqP8ClN"
      },
      "source": [
        "## Make and Train MLP"
      ]
    },
    {
      "cell_type": "code",
      "metadata": {
        "colab": {
          "base_uri": "https://localhost:8080/"
        },
        "id": "SFI-Jwgc8Gv4",
        "outputId": "d3992991-2d2e-4b1f-8e93-b808853faa48"
      },
      "source": [
        "def make_DNN():\n",
        "    \"\"\"\n",
        "    From Miller's MLP_GenCode_1??.\n",
        "    \"\"\"\n",
        "    dt=np.float32\n",
        "    print(\"make_DNN\")\n",
        "    print(\"input shape:\",INPUT_SHAPE)\n",
        "    dnn = Sequential()\n",
        "\n",
        "    dnn.add(Dense(NEURONS, activation=\"sigmoid\", dtype=dt))  # relu doesn't work as well\n",
        "    dnn.add(Dropout(DROP_RATE))\n",
        "\n",
        "    dnn.add(Dense(NEURONS, activation=\"sigmoid\", dtype=dt)) \n",
        "    dnn.add(Dropout(DROP_RATE))\n",
        "\n",
        "    dnn.add(Dense(1, activation=\"sigmoid\", dtype=dt))  \n",
        "\n",
        "    dnn.compile(optimizer='adam',    # adadelta doesn't work as well\n",
        "        loss=BinaryCrossentropy(from_logits=False),\n",
        "        metrics=['accuracy'])   # add to default metrics=loss\n",
        "    dnn.build(input_shape=INPUT_SHAPE) \n",
        "    return dnn\n",
        "model = make_DNN()\n",
        "print(model.summary())"
      ],
      "execution_count": 15,
      "outputs": [
        {
          "output_type": "stream",
          "text": [
            "make_DNN\n",
            "input shape: (None, 84)\n",
            "Model: \"sequential\"\n",
            "_________________________________________________________________\n",
            "Layer (type)                 Output Shape              Param #   \n",
            "=================================================================\n",
            "dense (Dense)                (None, 16)                1360      \n",
            "_________________________________________________________________\n",
            "dropout (Dropout)            (None, 16)                0         \n",
            "_________________________________________________________________\n",
            "dense_1 (Dense)              (None, 16)                272       \n",
            "_________________________________________________________________\n",
            "dropout_1 (Dropout)          (None, 16)                0         \n",
            "_________________________________________________________________\n",
            "dense_2 (Dense)              (None, 1)                 17        \n",
            "=================================================================\n",
            "Total params: 1,649\n",
            "Trainable params: 1,649\n",
            "Non-trainable params: 0\n",
            "_________________________________________________________________\n",
            "None\n"
          ],
          "name": "stdout"
        }
      ]
    },
    {
      "cell_type": "code",
      "metadata": {
        "id": "qIEUYjE18dQT"
      },
      "source": [
        "def do_cross_validation(X,y):\n",
        "    \"\"\"\n",
        "    From Miller's MLP_GenCode_1??.\n",
        "    \"\"\"\n",
        "    cv_scores = []\n",
        "    fold=0\n",
        "    mycallbacks = [ModelCheckpoint(\n",
        "        filepath=MODELPATH, save_best_only=True, \n",
        "        monitor='val_accuracy', mode='max')]   \n",
        "    # When shuffle=True, the valid indices are a random subset.\n",
        "    splitter = KFold(n_splits=SPLITS, shuffle=True) \n",
        "    model = None\n",
        "    for train_index, valid_index in splitter.split(X):\n",
        "        if fold < FOLDS:\n",
        "            fold += 1\n",
        "            X_train=X[train_index] # inputs for training\n",
        "            y_train=y[train_index] # labels for training\n",
        "            X_valid=X[valid_index] # inputs for validation\n",
        "            y_valid=y[valid_index] # labels for validation\n",
        "            print(\"MODEL\")\n",
        "            # Call constructor on each CV. Else, continually improves the same model.\n",
        "            model = model = make_DNN()\n",
        "            print(\"FIT\")  # model.fit() implements learning\n",
        "            start_time=time.time()\n",
        "            history=model.fit(X_train, y_train, \n",
        "                epochs=EPOCHS, \n",
        "                verbose=1,  # ascii art while learning\n",
        "                callbacks=mycallbacks,   # called at end of each epoch\n",
        "                validation_data=(X_valid,y_valid))\n",
        "            end_time=time.time()\n",
        "            elapsed_time=(end_time-start_time)                        \n",
        "            print(\"Fold %d, %d epochs, %d sec\"%(fold,EPOCHS,elapsed_time))\n",
        "            # print(history.history.keys())  # all these keys will be shown in figure\n",
        "            pd.DataFrame(history.history).plot(figsize=(8,5))\n",
        "            plt.grid(True)\n",
        "            plt.gca().set_ylim(0,1) # any losses > 1 will be off the scale\n",
        "            plt.show()\n",
        "    return model  # parameters at end of training"
      ],
      "execution_count": 16,
      "outputs": []
    },
    {
      "cell_type": "code",
      "metadata": {
        "colab": {
          "base_uri": "https://localhost:8080/",
          "height": 1000
        },
        "id": "6on9fVhr8ux_",
        "outputId": "22f84cbc-9f4b-4740-a998-57b6e2be58ae"
      },
      "source": [
        "best_model = do_cross_validation(Xfrq, y)"
      ],
      "execution_count": 17,
      "outputs": [
        {
          "output_type": "stream",
          "text": [
            "MODEL\n",
            "make_DNN\n",
            "input shape: (None, 84)\n",
            "FIT\n",
            "Epoch 1/10\n",
            "450/450 [==============================] - 15s 3ms/step - loss: 0.7186 - accuracy: 0.5105 - val_loss: 0.6917 - val_accuracy: 0.4925\n",
            "INFO:tensorflow:Assets written to: BestModel/assets\n",
            "Epoch 2/10\n",
            "450/450 [==============================] - 1s 2ms/step - loss: 0.6956 - accuracy: 0.5123 - val_loss: 0.6870 - val_accuracy: 0.5086\n",
            "INFO:tensorflow:Assets written to: BestModel/assets\n",
            "Epoch 3/10\n",
            "450/450 [==============================] - 1s 2ms/step - loss: 0.6873 - accuracy: 0.5455 - val_loss: 0.6772 - val_accuracy: 0.6303\n",
            "INFO:tensorflow:Assets written to: BestModel/assets\n",
            "Epoch 4/10\n",
            "450/450 [==============================] - 1s 2ms/step - loss: 0.6760 - accuracy: 0.5781 - val_loss: 0.6625 - val_accuracy: 0.6319\n",
            "INFO:tensorflow:Assets written to: BestModel/assets\n",
            "Epoch 5/10\n",
            "450/450 [==============================] - 1s 2ms/step - loss: 0.6621 - accuracy: 0.6023 - val_loss: 0.6488 - val_accuracy: 0.6411\n",
            "INFO:tensorflow:Assets written to: BestModel/assets\n",
            "Epoch 6/10\n",
            "450/450 [==============================] - 1s 2ms/step - loss: 0.6541 - accuracy: 0.6109 - val_loss: 0.6416 - val_accuracy: 0.6439\n",
            "INFO:tensorflow:Assets written to: BestModel/assets\n",
            "Epoch 7/10\n",
            "450/450 [==============================] - 1s 2ms/step - loss: 0.6478 - accuracy: 0.6227 - val_loss: 0.6384 - val_accuracy: 0.6464\n",
            "INFO:tensorflow:Assets written to: BestModel/assets\n",
            "Epoch 8/10\n",
            "450/450 [==============================] - 1s 2ms/step - loss: 0.6382 - accuracy: 0.6294 - val_loss: 0.6333 - val_accuracy: 0.6500\n",
            "INFO:tensorflow:Assets written to: BestModel/assets\n",
            "Epoch 9/10\n",
            "450/450 [==============================] - 1s 2ms/step - loss: 0.6380 - accuracy: 0.6379 - val_loss: 0.6299 - val_accuracy: 0.6519\n",
            "INFO:tensorflow:Assets written to: BestModel/assets\n",
            "Epoch 10/10\n",
            "450/450 [==============================] - 1s 2ms/step - loss: 0.6313 - accuracy: 0.6491 - val_loss: 0.6259 - val_accuracy: 0.6542\n",
            "INFO:tensorflow:Assets written to: BestModel/assets\n",
            "Fold 1, 10 epochs, 34 sec\n"
          ],
          "name": "stdout"
        },
        {
          "output_type": "display_data",
          "data": {
            "image/png": "[encoded data removed]",
            "text/plain": [
              "<Figure size 576x360 with 1 Axes>"
            ]
          },
          "metadata": {
            "tags": [],
            "needs_background": "light"
          }
        },
        {
          "output_type": "stream",
          "text": [
            "MODEL\n",
            "make_DNN\n",
            "input shape: (None, 84)\n",
            "FIT\n",
            "Epoch 1/10\n",
            "450/450 [==============================] - 2s 2ms/step - loss: 0.7166 - accuracy: 0.4994 - val_loss: 0.6908 - val_accuracy: 0.6392\n",
            "Epoch 2/10\n",
            "450/450 [==============================] - 1s 2ms/step - loss: 0.6938 - accuracy: 0.5148 - val_loss: 0.6855 - val_accuracy: 0.6106\n",
            "Epoch 3/10\n",
            "450/450 [==============================] - 1s 2ms/step - loss: 0.6856 - accuracy: 0.5606 - val_loss: 0.6727 - val_accuracy: 0.6272\n",
            "Epoch 4/10\n",
            "450/450 [==============================] - 1s 2ms/step - loss: 0.6740 - accuracy: 0.5921 - val_loss: 0.6527 - val_accuracy: 0.6339\n",
            "Epoch 5/10\n",
            "450/450 [==============================] - 1s 2ms/step - loss: 0.6594 - accuracy: 0.6114 - val_loss: 0.6401 - val_accuracy: 0.6389\n",
            "Epoch 6/10\n",
            "450/450 [==============================] - 1s 2ms/step - loss: 0.6479 - accuracy: 0.6257 - val_loss: 0.6328 - val_accuracy: 0.6397\n",
            "Epoch 7/10\n",
            "450/450 [==============================] - 1s 2ms/step - loss: 0.6441 - accuracy: 0.6379 - val_loss: 0.6300 - val_accuracy: 0.6425\n",
            "Epoch 8/10\n",
            "450/450 [==============================] - 1s 2ms/step - loss: 0.6363 - accuracy: 0.6394 - val_loss: 0.6258 - val_accuracy: 0.6461\n",
            "Epoch 9/10\n",
            "450/450 [==============================] - 1s 2ms/step - loss: 0.6335 - accuracy: 0.6499 - val_loss: 0.6234 - val_accuracy: 0.6483\n",
            "Epoch 10/10\n",
            "450/450 [==============================] - 1s 2ms/step - loss: 0.6365 - accuracy: 0.6375 - val_loss: 0.6206 - val_accuracy: 0.6531\n",
            "Fold 2, 10 epochs, 10 sec\n"
          ],
          "name": "stdout"
        },
        {
          "output_type": "display_data",
          "data": {
            "image/png": "[encoded data removed]",
            "text/plain": [
              "<Figure size 576x360 with 1 Axes>"
            ]
          },
          "metadata": {
            "tags": [],
            "needs_background": "light"
          }
        },
        {
          "output_type": "stream",
          "text": [
            "MODEL\n",
            "make_DNN\n",
            "input shape: (None, 84)\n",
            "FIT\n",
            "Epoch 1/10\n",
            "450/450 [==============================] - 2s 2ms/step - loss: 0.7116 - accuracy: 0.4960 - val_loss: 0.6898 - val_accuracy: 0.5281\n",
            "Epoch 2/10\n",
            "450/450 [==============================] - 1s 2ms/step - loss: 0.6943 - accuracy: 0.5222 - val_loss: 0.6844 - val_accuracy: 0.6053\n",
            "Epoch 3/10\n",
            "450/450 [==============================] - 1s 2ms/step - loss: 0.6883 - accuracy: 0.5433 - val_loss: 0.6718 - val_accuracy: 0.6519\n",
            "Epoch 4/10\n",
            "450/450 [==============================] - 1s 2ms/step - loss: 0.6726 - accuracy: 0.5950 - val_loss: 0.6547 - val_accuracy: 0.6372\n",
            "Epoch 5/10\n",
            "450/450 [==============================] - 1s 2ms/step - loss: 0.6610 - accuracy: 0.6064 - val_loss: 0.6414 - val_accuracy: 0.6394\n",
            "Epoch 6/10\n",
            "450/450 [==============================] - 1s 2ms/step - loss: 0.6516 - accuracy: 0.6156 - val_loss: 0.6331 - val_accuracy: 0.6550\n",
            "INFO:tensorflow:Assets written to: BestModel/assets\n",
            "Epoch 7/10\n",
            "450/450 [==============================] - 1s 2ms/step - loss: 0.6458 - accuracy: 0.6272 - val_loss: 0.6287 - val_accuracy: 0.6539\n",
            "Epoch 8/10\n",
            "450/450 [==============================] - 1s 2ms/step - loss: 0.6427 - accuracy: 0.6278 - val_loss: 0.6269 - val_accuracy: 0.6575\n",
            "INFO:tensorflow:Assets written to: BestModel/assets\n",
            "Epoch 9/10\n",
            "450/450 [==============================] - 1s 2ms/step - loss: 0.6434 - accuracy: 0.6272 - val_loss: 0.6228 - val_accuracy: 0.6597\n",
            "INFO:tensorflow:Assets written to: BestModel/assets\n",
            "Epoch 10/10\n",
            "450/450 [==============================] - 1s 2ms/step - loss: 0.6378 - accuracy: 0.6427 - val_loss: 0.6201 - val_accuracy: 0.6633\n",
            "INFO:tensorflow:Assets written to: BestModel/assets\n",
            "Fold 3, 10 epochs, 21 sec\n"
          ],
          "name": "stdout"
        },
        {
          "output_type": "display_data",
          "data": {
            "image/png": "[encoded data removed]",
            "text/plain": [
              "<Figure size 576x360 with 1 Axes>"
            ]
          },
          "metadata": {
            "tags": [],
            "needs_background": "light"
          }
        },
        {
          "output_type": "stream",
          "text": [
            "MODEL\n",
            "make_DNN\n",
            "input shape: (None, 84)\n",
            "FIT\n",
            "Epoch 1/10\n",
            "450/450 [==============================] - 2s 2ms/step - loss: 0.7007 - accuracy: 0.5032 - val_loss: 0.6896 - val_accuracy: 0.6342\n",
            "Epoch 2/10\n",
            "450/450 [==============================] - 1s 2ms/step - loss: 0.6935 - accuracy: 0.5172 - val_loss: 0.6823 - val_accuracy: 0.6383\n",
            "Epoch 3/10\n",
            "450/450 [==============================] - 1s 2ms/step - loss: 0.6816 - accuracy: 0.5631 - val_loss: 0.6680 - val_accuracy: 0.6358\n",
            "Epoch 4/10\n",
            "450/450 [==============================] - 1s 2ms/step - loss: 0.6680 - accuracy: 0.5972 - val_loss: 0.6493 - val_accuracy: 0.6464\n",
            "Epoch 5/10\n",
            "450/450 [==============================] - 1s 2ms/step - loss: 0.6596 - accuracy: 0.6082 - val_loss: 0.6385 - val_accuracy: 0.6417\n",
            "Epoch 6/10\n",
            "450/450 [==============================] - 1s 2ms/step - loss: 0.6516 - accuracy: 0.6174 - val_loss: 0.6314 - val_accuracy: 0.6536\n",
            "Epoch 7/10\n",
            "450/450 [==============================] - 1s 2ms/step - loss: 0.6448 - accuracy: 0.6237 - val_loss: 0.6269 - val_accuracy: 0.6611\n",
            "Epoch 8/10\n",
            "450/450 [==============================] - 1s 2ms/step - loss: 0.6429 - accuracy: 0.6347 - val_loss: 0.6236 - val_accuracy: 0.6656\n",
            "INFO:tensorflow:Assets written to: BestModel/assets\n",
            "Epoch 9/10\n",
            "450/450 [==============================] - 1s 2ms/step - loss: 0.6323 - accuracy: 0.6447 - val_loss: 0.6199 - val_accuracy: 0.6672\n",
            "INFO:tensorflow:Assets written to: BestModel/assets\n",
            "Epoch 10/10\n",
            "450/450 [==============================] - 1s 2ms/step - loss: 0.6314 - accuracy: 0.6510 - val_loss: 0.6165 - val_accuracy: 0.6725\n",
            "INFO:tensorflow:Assets written to: BestModel/assets\n",
            "Fold 4, 10 epochs, 21 sec\n"
          ],
          "name": "stdout"
        },
        {
          "output_type": "display_data",
          "data": {
            "image/png": "[encoded data removed]",
            "text/plain": [
              "<Figure size 576x360 with 1 Axes>"
            ]
          },
          "metadata": {
            "tags": [],
            "needs_background": "light"
          }
        },
        {
          "output_type": "stream",
          "text": [
            "MODEL\n",
            "make_DNN\n",
            "input shape: (None, 84)\n",
            "FIT\n",
            "Epoch 1/10\n",
            "450/450 [==============================] - 2s 2ms/step - loss: 0.7018 - accuracy: 0.5004 - val_loss: 0.6901 - val_accuracy: 0.5647\n",
            "Epoch 2/10\n",
            "450/450 [==============================] - 1s 2ms/step - loss: 0.6971 - accuracy: 0.5177 - val_loss: 0.6842 - val_accuracy: 0.6233\n",
            "Epoch 3/10\n",
            "450/450 [==============================] - 1s 2ms/step - loss: 0.6882 - accuracy: 0.5417 - val_loss: 0.6716 - val_accuracy: 0.6356\n",
            "Epoch 4/10\n",
            "450/450 [==============================] - 1s 2ms/step - loss: 0.6717 - accuracy: 0.5890 - val_loss: 0.6542 - val_accuracy: 0.6389\n",
            "Epoch 5/10\n",
            "450/450 [==============================] - 1s 2ms/step - loss: 0.6633 - accuracy: 0.5996 - val_loss: 0.6427 - val_accuracy: 0.6294\n",
            "Epoch 6/10\n",
            "450/450 [==============================] - 1s 2ms/step - loss: 0.6484 - accuracy: 0.6202 - val_loss: 0.6360 - val_accuracy: 0.6403\n",
            "Epoch 7/10\n",
            "450/450 [==============================] - 1s 2ms/step - loss: 0.6459 - accuracy: 0.6287 - val_loss: 0.6318 - val_accuracy: 0.6436\n",
            "Epoch 8/10\n",
            "450/450 [==============================] - 1s 2ms/step - loss: 0.6391 - accuracy: 0.6342 - val_loss: 0.6286 - val_accuracy: 0.6531\n",
            "Epoch 9/10\n",
            "450/450 [==============================] - 1s 2ms/step - loss: 0.6324 - accuracy: 0.6436 - val_loss: 0.6262 - val_accuracy: 0.6481\n",
            "Epoch 10/10\n",
            "450/450 [==============================] - 1s 2ms/step - loss: 0.6338 - accuracy: 0.6489 - val_loss: 0.6227 - val_accuracy: 0.6608\n",
            "Fold 5, 10 epochs, 10 sec\n"
          ],
          "name": "stdout"
        },
        {
          "output_type": "display_data",
          "data": {
            "image/png": "[encoded data removed]",
            "text/plain": [
              "<Figure size 576x360 with 1 Axes>"
            ]
          },
          "metadata": {
            "tags": [],
            "needs_background": "light"
          }
        }
      ]
    },
    {
      "cell_type": "markdown",
      "metadata": {
        "id": "Li3-YuuU8-gs"
      },
      "source": [
        "## Show Results of MLP"
      ]
    },
    {
      "cell_type": "code",
      "metadata": {
        "id": "s3HL6lwW9A8j"
      },
      "source": [
        "def show_test_AUC(model, title, X, y):\n",
        "    \"\"\"\n",
        "    From Miller's MLP_GenCode_1??.\n",
        "    \"\"\"\n",
        "    ns_probs = [0 for _ in range(len(y))]\n",
        "    bm_probs = model.predict(X)\n",
        "    ns_auc = roc_auc_score(y, ns_probs)\n",
        "    bm_auc = roc_auc_score(y, bm_probs)\n",
        "    ns_fpr, ns_tpr, _ = roc_curve(y, ns_probs)\n",
        "    bm_fpr, bm_tpr, _ = roc_curve(y, bm_probs)\n",
        "    plt.plot(ns_fpr, ns_tpr, linestyle='--', label='Guess, auc=%.4f'%ns_auc)\n",
        "    plt.plot(bm_fpr, bm_tpr, marker='.', label='Model, auc=%.4f'%bm_auc)\n",
        "    plt.title(title + ' ROC')\n",
        "    plt.xlabel('False Positive Rate')\n",
        "    plt.ylabel('True Positive Rate')\n",
        "    plt.legend()\n",
        "    plt.show()\n",
        "    print(\"%s: %.2f%%\" %('AUC',bm_auc*100.0))\n",
        "    \n",
        "def show_test_accuracy(model,X,y):\n",
        "    \"\"\"\n",
        "    From Miller's MLP_GenCode_1??.\n",
        "    \"\"\"\n",
        "    scores = model.evaluate(X, y, verbose=0)\n",
        "    print(\"%s: %.2f%%\" % (model.metrics_names[1], scores[1]*100))"
      ],
      "execution_count": 18,
      "outputs": []
    },
    {
      "cell_type": "code",
      "metadata": {
        "colab": {
          "base_uri": "https://localhost:8080/",
          "height": 405
        },
        "id": "EeWFq22L9N6G",
        "outputId": "91069beb-975d-460b-ada4-2668199b9c87"
      },
      "source": [
        "print(\"Accuracy on training data.\")\n",
        "print(\"Prepare...\")\n",
        "X, y = prepare_x_and_y(pc_train, nc_train)\n",
        "print(\"Extract K-mer features...\")\n",
        "X = seqs_to_kmer_freqs(X, MAX_K)\n",
        "print(\"Plot...\")\n",
        "show_test_AUC(best_model, 'Train', X, y)\n",
        "show_test_accuracy(best_model, X, y)"
      ],
      "execution_count": 19,
      "outputs": [
        {
          "output_type": "stream",
          "text": [
            "Accuracy on training data.\n",
            "Prepare...\n",
            "Extract K-mer features...\n",
            "Plot...\n"
          ],
          "name": "stdout"
        },
        {
          "output_type": "display_data",
          "data": {
            "image/png": "[encoded data removed]",
            "text/plain": [
              "<Figure size 432x288 with 1 Axes>"
            ]
          },
          "metadata": {
            "tags": [],
            "needs_background": "light"
          }
        },
        {
          "output_type": "stream",
          "text": [
            "AUC: 71.23%\n",
            "accuracy: 65.97%\n"
          ],
          "name": "stdout"
        }
      ]
    },
    {
      "cell_type": "code",
      "metadata": {
        "colab": {
          "base_uri": "https://localhost:8080/",
          "height": 405
        },
        "id": "LQY5Hze-9hl9",
        "outputId": "99b0ad8b-63de-4a21-e8a2-30005431d002"
      },
      "source": [
        "print(\"Accuracy on test data.\")\n",
        "print(\"Prepare...\")\n",
        "X, y = prepare_x_and_y(pc_test, nc_test)\n",
        "print(\"Extract K-mer features...\")\n",
        "X = seqs_to_kmer_freqs(X, MAX_K)\n",
        "print(\"Plot...\")\n",
        "show_test_AUC(best_model, 'Test', X, y)\n",
        "show_test_accuracy(best_model, X, y)"
      ],
      "execution_count": 20,
      "outputs": [
        {
          "output_type": "stream",
          "text": [
            "Accuracy on test data.\n",
            "Prepare...\n",
            "Extract K-mer features...\n",
            "Plot...\n"
          ],
          "name": "stdout"
        },
        {
          "output_type": "display_data",
          "data": {
            "image/png": "[encoded data removed]",
            "text/plain": [
              "<Figure size 432x288 with 1 Axes>"
            ]
          },
          "metadata": {
            "tags": [],
            "needs_background": "light"
          }
        },
        {
          "output_type": "stream",
          "text": [
            "AUC: 73.18%\n",
            "accuracy: 67.50%\n"
          ],
          "name": "stdout"
        }
      ]
    }
  ]
}