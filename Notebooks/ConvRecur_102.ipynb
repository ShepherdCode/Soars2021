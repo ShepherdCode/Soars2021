{
  "nbformat": 4,
  "nbformat_minor": 0,
  "metadata": {
    "accelerator": "GPU",
    "colab": {
      "name": "ConvRecur_102.ipynb",
      "provenance": [],
      "collapsed_sections": []
    },
    "kernelspec": {
      "display_name": "Python 3",
      "language": "python",
      "name": "python3"
    },
    "language_info": {
      "codemirror_mode": {
        "name": "ipython",
        "version": 3
      },
      "file_extension": ".py",
      "mimetype": "text/x-python",
      "name": "python",
      "nbconvert_exporter": "python",
      "pygments_lexer": "ipython3",
      "version": "3.8.3"
    }
  },
  "cells": [
    {
      "cell_type": "markdown",
      "metadata": {
        "id": "0asdcdunj2Tx"
      },
      "source": [
        "# ORF recognition by Convolutional/Recurrent\n",
        "\n",
        "Start with ORF_CNN_118 and add an LSTM layer."
      ]
    },
    {
      "cell_type": "code",
      "metadata": {
        "colab": {
          "base_uri": "https://localhost:8080/",
          "height": 36
        },
        "id": "QP1VTRNQj2UO",
        "outputId": "866e6843-8367-4c08-a11a-56ee4c29c0a0"
      },
      "source": [
        "import time \n",
        "t = time.time()\n",
        "time.strftime('%Y-%m-%d %H:%M:%S %Z', time.localtime(t))"
      ],
      "execution_count": 12,
      "outputs": [
        {
          "output_type": "execute_result",
          "data": {
            "application/vnd.google.colaboratory.intrinsic+json": {
              "type": "string"
            },
            "text/plain": [
              "'2021-06-17 18:32:18 UTC'"
            ]
          },
          "metadata": {
            "tags": []
          },
          "execution_count": 12
        }
      ]
    },
    {
      "cell_type": "code",
      "metadata": {
        "id": "Nhz4GKonj2T_"
      },
      "source": [
        "PC_SEQUENCES=32000   # how many protein-coding sequences\n",
        "NC_SEQUENCES=32000   # how many non-coding sequences\n",
        "PC_TESTS=1000\n",
        "NC_TESTS=1000\n",
        "RNA_LEN=100            # how long is each sequence\n",
        "CDS_LEN=60            # min CDS len to be coding\n",
        "ALPHABET=4          # how many different letters are possible\n",
        "INPUT_SHAPE_2D = (RNA_LEN,ALPHABET,1) # Conv2D needs 3D inputs\n",
        "INPUT_SHAPE = (RNA_LEN,ALPHABET) # Conv1D needs 2D inputs\n",
        "FILTERS = 16   # how many different patterns the model looks for\n",
        "CELLS = 16\n",
        "NEURONS = 16\n",
        "DROP_RATE = 0.4\n",
        "WIDTH = 3   # how wide each pattern is, in bases\n",
        "STRIDE_2D = (1,1)  # For Conv2D how far in each direction\n",
        "STRIDE = 1 # For Conv1D, how far between pattern matches, in bases\n",
        "EPOCHS=100  # how many times to train on all the data\n",
        "SPLITS=3  # SPLITS=3 means train on 2/3 and validate on 1/3 \n",
        "FOLDS=3  # train the model this many times (range 1 to SPLITS)"
      ],
      "execution_count": 13,
      "outputs": []
    },
    {
      "cell_type": "code",
      "metadata": {
        "colab": {
          "base_uri": "https://localhost:8080/"
        },
        "id": "lr7q90rxj2UE",
        "outputId": "faea8652-4563-4802-d65a-9809d7aa550a"
      },
      "source": [
        "import sys\n",
        "try:\n",
        "    from google.colab import drive\n",
        "    IN_COLAB = True\n",
        "    print(\"On Google CoLab, mount cloud-local file, get our code from GitHub.\")\n",
        "    PATH='/content/drive/'\n",
        "    #drive.mount(PATH,force_remount=True)  # hardly ever need this\n",
        "    #drive.mount(PATH)    # Google will require login credentials\n",
        "    DATAPATH=PATH+'My Drive/data/'  # must end in \"/\"\n",
        "    import requests\n",
        "    r = requests.get('https://raw.githubusercontent.com/ShepherdCode/Soars2021/master/SimTools/RNA_gen.py')\n",
        "    with open('RNA_gen.py', 'w') as f:\n",
        "        f.write(r.text)  \n",
        "    from RNA_gen import *\n",
        "    r = requests.get('https://raw.githubusercontent.com/ShepherdCode/Soars2021/master/SimTools/RNA_describe.py')\n",
        "    with open('RNA_describe.py', 'w') as f:\n",
        "        f.write(r.text)  \n",
        "    from RNA_describe import ORF_counter\n",
        "    r = requests.get('https://raw.githubusercontent.com/ShepherdCode/Soars2021/master/SimTools/RNA_prep.py')\n",
        "    with open('RNA_prep.py', 'w') as f:\n",
        "        f.write(r.text)  \n",
        "    from RNA_prep import *\n",
        "except:\n",
        "    print(\"CoLab not working. On my PC, use relative paths.\")\n",
        "    IN_COLAB = False\n",
        "    DATAPATH='data/'  # must end in \"/\"\n",
        "    sys.path.append(\"..\") # append parent dir in order to use sibling dirs\n",
        "    from SimTools.RNA_gen import *\n",
        "    from SimTools.RNA_describe import ORF_counter\n",
        "    from SimTools.RNA_prep import *\n",
        "\n",
        "MODELPATH=\"BestModel\"  # saved on cloud instance and lost after logout\n",
        "#MODELPATH=DATAPATH+MODELPATH  # saved on Google Drive but requires login\n",
        "\n",
        "if not assert_imported_RNA_gen():\n",
        "    print(\"ERROR: Cannot use RNA_gen.\")\n",
        "if not assert_imported_RNA_prep():\n",
        "    print(\"ERROR: Cannot use RNA_prep.\")"
      ],
      "execution_count": 14,
      "outputs": [
        {
          "output_type": "stream",
          "text": [
            "On Google CoLab, mount cloud-local file, get our code from GitHub.\n"
          ],
          "name": "stdout"
        }
      ]
    },
    {
      "cell_type": "code",
      "metadata": {
        "id": "EGDXH8Uwj2UM"
      },
      "source": [
        "from os import listdir\n",
        "import csv\n",
        "from zipfile import ZipFile\n",
        "\n",
        "import numpy as np\n",
        "import pandas as pd\n",
        "from scipy import stats  # mode\n",
        "\n",
        "from sklearn.preprocessing import StandardScaler\n",
        "from sklearn.model_selection import KFold\n",
        "from sklearn.model_selection import cross_val_score\n",
        "\n",
        "from keras.models import Sequential\n",
        "from keras.layers import Dense,Embedding,Dropout\n",
        "from keras.layers import Conv1D,Conv2D\n",
        "from keras.layers import GRU,LSTM\n",
        "from keras.layers import Flatten,TimeDistributed\n",
        "from keras.layers import MaxPooling1D,MaxPooling2D\n",
        "from keras.losses import BinaryCrossentropy\n",
        "# tf.keras.losses.BinaryCrossentropy\n",
        "\n",
        "import matplotlib.pyplot as plt\n",
        "from matplotlib import colors\n",
        "mycmap = colors.ListedColormap(['red','blue'])  # list color for label 0 then 1\n",
        "np.set_printoptions(precision=2)\n"
      ],
      "execution_count": 15,
      "outputs": []
    },
    {
      "cell_type": "code",
      "metadata": {
        "colab": {
          "base_uri": "https://localhost:8080/"
        },
        "id": "CUOG_jEvGtOm",
        "outputId": "e2b85869-e442-48d9-cc0f-c274d81a4078"
      },
      "source": [
        "import random\n",
        "def partition_random_sequences(goal_per_class):\n",
        "    pc_seqs=[]\n",
        "    nc_seqs=[]\n",
        "    oc = ORF_counter()\n",
        "    trials = 0\n",
        "    pc_cnt = 0\n",
        "    nc_cnt = 0\n",
        "    bases=['A','C','G','T']\n",
        "    while pc_cnt<goal_per_class or nc_cnt<goal_per_class:\n",
        "        trials += 1        \n",
        "        between_bases = random.randint(0,RNA_LEN-6) \n",
        "        utr5_bases = (RNA_LEN - (between_bases + 6)) // 2\n",
        "        utr3_bases = RNA_LEN - (utr5_bases + (between_bases+6))\n",
        "        one_seq  = \"\".join(random.choices(bases,k=utr5_bases)) \n",
        "        one_seq += 'ATG'    \n",
        "        one_seq += \"\".join(random.choices(bases,k=between_bases)) \n",
        "        random_stop = random.choice(['TAA','TAG','TGA']) # random frame\n",
        "        one_seq += random_stop\n",
        "        one_seq += \"\".join(random.choices(bases,k=utr3_bases))  \n",
        "        if len(one_seq) != RNA_LEN:\n",
        "            print(\"WRONG LENGTH:\",len(one_seq),utr5_bases,between_bases,utr3_bases)\n",
        "        oc.set_sequence(one_seq)\n",
        "        cds_len = oc.get_max_cds_len() + 3\n",
        "        if cds_len >= CDS_LEN and pc_cnt<goal_per_class:\n",
        "            pc_cnt += 1\n",
        "            pc_seqs.append(one_seq)\n",
        "        elif cds_len < CDS_LEN and nc_cnt<goal_per_class:\n",
        "            nc_cnt += 1\n",
        "            nc_seqs.append(one_seq)\n",
        "    print (\"It took %d trials to reach %d per class.\"%(trials,goal_per_class))\n",
        "    return pc_seqs,nc_seqs\n",
        "pc_all,nc_all=partition_random_sequences(10)  # just testing\n",
        "pc_all,nc_all=partition_random_sequences(PC_SEQUENCES+PC_TESTS)\n",
        "print(\"Use\",len(pc_all),\"PC seqs\")\n",
        "print(\"Use\",len(nc_all),\"NC seqs\")"
      ],
      "execution_count": 16,
      "outputs": [
        {
          "output_type": "stream",
          "text": [
            "It took 48 trials to reach 10 per class.\n",
            "It took 158152 trials to reach 33000 per class.\n",
            "Use 33000 PC seqs\n",
            "Use 33000 NC seqs\n"
          ],
          "name": "stdout"
        }
      ]
    },
    {
      "cell_type": "code",
      "metadata": {
        "colab": {
          "base_uri": "https://localhost:8080/"
        },
        "id": "Q-BmSXi2jUyl",
        "outputId": "6f3e1e5f-cb95-4450-a065-55ebc28f7817"
      },
      "source": [
        "# Describe the sequences\n",
        "def describe_sequences(list_of_seq):\n",
        "    oc = ORF_counter()\n",
        "    num_seq = len(list_of_seq)\n",
        "    rna_lens = np.zeros(num_seq)\n",
        "    orf_lens = np.zeros(num_seq)\n",
        "    for i in range(0,num_seq):\n",
        "        rna_len = len(list_of_seq[i])\n",
        "        rna_lens[i] = rna_len\n",
        "        oc.set_sequence(list_of_seq[i])\n",
        "        orf_len = oc.get_max_orf_len()\n",
        "        orf_lens[i] = orf_len\n",
        "    print (\"Average RNA length:\",rna_lens.mean())\n",
        "    print (\"Average ORF length:\",orf_lens.mean())\n",
        "    \n",
        "print(\"Simulated sequences prior to adjustment:\")\n",
        "print(\"PC seqs\")\n",
        "describe_sequences(pc_all)\n",
        "print(\"NC seqs\")\n",
        "describe_sequences(nc_all)"
      ],
      "execution_count": 17,
      "outputs": [
        {
          "output_type": "stream",
          "text": [
            "Simulated sequences prior to adjustment:\n",
            "PC seqs\n",
            "Average RNA length: 100.0\n",
            "Average ORF length: 67.47245454545454\n",
            "NC seqs\n",
            "Average RNA length: 100.0\n",
            "Average ORF length: 22.221363636363638\n"
          ],
          "name": "stdout"
        }
      ]
    },
    {
      "cell_type": "code",
      "metadata": {
        "id": "iP1y7-J3jUys"
      },
      "source": [
        "pc_train=pc_all[:PC_SEQUENCES]\n",
        "nc_train=nc_all[:NC_SEQUENCES]\n",
        "pc_test=pc_all[PC_SEQUENCES:]\n",
        "nc_test=nc_all[NC_SEQUENCES:]"
      ],
      "execution_count": 18,
      "outputs": []
    },
    {
      "cell_type": "code",
      "metadata": {
        "colab": {
          "base_uri": "https://localhost:8080/"
        },
        "id": "CIpTrnH6j2US",
        "outputId": "2bea57a6-e36e-4224-8602-3491ff471dd3"
      },
      "source": [
        "# Use code from our SimTools library.\n",
        "X,y = prepare_inputs_len_x_alphabet(pc_train,nc_train,ALPHABET) # shuffles\n",
        "print(\"Data ready.\")"
      ],
      "execution_count": 19,
      "outputs": [
        {
          "output_type": "stream",
          "text": [
            "Data ready.\n"
          ],
          "name": "stdout"
        }
      ]
    },
    {
      "cell_type": "code",
      "metadata": {
        "colab": {
          "base_uri": "https://localhost:8080/"
        },
        "id": "7NvrVU8ij2UU",
        "outputId": "67eaf8e8-1739-4760-eb7f-7e1f94b9b53b"
      },
      "source": [
        "def make_DNN():\n",
        "    print(\"make_DNN\")\n",
        "    print(\"input shape:\",INPUT_SHAPE)\n",
        "    dnn = Sequential()\n",
        "    #dnn.add(Embedding(input_dim=INPUT_SHAPE,output_dim=INPUT_SHAPE)) \n",
        "    dnn.add(Conv1D(filters=FILTERS,kernel_size=WIDTH,strides=STRIDE,padding=\"same\",\n",
        "            input_shape=INPUT_SHAPE))\n",
        "    dnn.add(Conv1D(filters=FILTERS,kernel_size=WIDTH,strides=STRIDE,padding=\"same\"))\n",
        "    dnn.add(MaxPooling1D())\n",
        "    #dnn.add(Conv1D(filters=FILTERS,kernel_size=WIDTH,strides=STRIDE,padding=\"same\"))\n",
        "    #dnn.add(Conv1D(filters=FILTERS,kernel_size=WIDTH,strides=STRIDE,padding=\"same\"))\n",
        "    #dnn.add(MaxPooling1D())\n",
        "    #dnn.add(TimeDistributed(Flatten()))\n",
        "    dnn.add(GRU(CELLS,return_sequences=True))\n",
        "    dnn.add(GRU(CELLS,return_sequences=False))\n",
        "    dnn.add(Dense(NEURONS,activation=\"sigmoid\",dtype=np.float32))   \n",
        "    dnn.add(Dropout(DROP_RATE))\n",
        "    dnn.add(Dense(1,activation=\"sigmoid\",dtype=np.float32))   \n",
        "    dnn.compile(optimizer='adam',\n",
        "                loss=BinaryCrossentropy(from_logits=False),\n",
        "                metrics=['accuracy'])   # add to default metrics=loss\n",
        "    dnn.build(input_shape=INPUT_SHAPE)\n",
        "    #ln_rate = tf.keras.optimizers.Adam(learning_rate = LN_RATE)\n",
        "    #bc=tf.keras.losses.BinaryCrossentropy(from_logits=False)\n",
        "    #model.compile(loss=bc, optimizer=ln_rate, metrics=[\"accuracy\"])\n",
        "    return dnn\n",
        "model = make_DNN()\n",
        "print(model.summary())"
      ],
      "execution_count": 20,
      "outputs": [
        {
          "output_type": "stream",
          "text": [
            "make_DNN\n",
            "input shape: (100, 4)\n",
            "Model: \"sequential_4\"\n",
            "_________________________________________________________________\n",
            "Layer (type)                 Output Shape              Param #   \n",
            "=================================================================\n",
            "conv1d_8 (Conv1D)            (None, 100, 16)           208       \n",
            "_________________________________________________________________\n",
            "conv1d_9 (Conv1D)            (None, 100, 16)           784       \n",
            "_________________________________________________________________\n",
            "max_pooling1d_4 (MaxPooling1 (None, 50, 16)            0         \n",
            "_________________________________________________________________\n",
            "gru_8 (GRU)                  (None, 50, 16)            1632      \n",
            "_________________________________________________________________\n",
            "gru_9 (GRU)                  (None, 16)                1632      \n",
            "_________________________________________________________________\n",
            "dense_8 (Dense)              (None, 16)                272       \n",
            "_________________________________________________________________\n",
            "dropout_4 (Dropout)          (None, 16)                0         \n",
            "_________________________________________________________________\n",
            "dense_9 (Dense)              (None, 1)                 17        \n",
            "=================================================================\n",
            "Total params: 4,545\n",
            "Trainable params: 4,545\n",
            "Non-trainable params: 0\n",
            "_________________________________________________________________\n",
            "None\n"
          ],
          "name": "stdout"
        }
      ]
    },
    {
      "cell_type": "code",
      "metadata": {
        "id": "nlVF0hR3j2UW"
      },
      "source": [
        "from keras.callbacks import ModelCheckpoint\n",
        "def do_cross_validation(X,y):\n",
        "    cv_scores = []\n",
        "    fold=0\n",
        "    mycallbacks = [ModelCheckpoint(\n",
        "        filepath=MODELPATH, save_best_only=True, \n",
        "        monitor='val_accuracy', mode='max')]   \n",
        "    splitter = KFold(n_splits=SPLITS)  # this does not shuffle\n",
        "    for train_index,valid_index in splitter.split(X):\n",
        "        if fold < FOLDS:\n",
        "            fold += 1\n",
        "            X_train=X[train_index] # inputs for training\n",
        "            y_train=y[train_index] # labels for training\n",
        "            X_valid=X[valid_index] # inputs for validation\n",
        "            y_valid=y[valid_index] # labels for validation\n",
        "            print(\"MODEL\")\n",
        "            # Call constructor on each CV. Else, continually improves the same model.\n",
        "            model = model = make_DNN()\n",
        "            print(\"FIT\")  # model.fit() implements learning\n",
        "            start_time=time.time()\n",
        "            history=model.fit(X_train, y_train, \n",
        "                    epochs=EPOCHS, \n",
        "                    verbose=1,  # ascii art while learning\n",
        "                    callbacks=mycallbacks,   # called at end of each epoch\n",
        "                    validation_data=(X_valid,y_valid))\n",
        "            end_time=time.time()\n",
        "            elapsed_time=(end_time-start_time)                        \n",
        "            print(\"Fold %d, %d epochs, %d sec\"%(fold,EPOCHS,elapsed_time))\n",
        "            # print(history.history.keys())  # all these keys will be shown in figure\n",
        "            pd.DataFrame(history.history).plot(figsize=(8,5))\n",
        "            plt.grid(True)\n",
        "            plt.gca().set_ylim(0,1) # any losses > 1 will be off the scale\n",
        "            plt.show()\n"
      ],
      "execution_count": 21,
      "outputs": []
    },
    {
      "cell_type": "code",
      "metadata": {
        "colab": {
          "base_uri": "https://localhost:8080/",
          "height": 1000
        },
        "id": "9Ggt4EsSj2UY",
        "outputId": "f4fb0468-4bd5-4a79-dff3-85801a0b77ba"
      },
      "source": [
        "do_cross_validation(X,y)"
      ],
      "execution_count": 22,
      "outputs": [
        {
          "output_type": "stream",
          "text": [
            "MODEL\n",
            "make_DNN\n",
            "input shape: (100, 4)\n",
            "FIT\n",
            "Epoch 1/100\n",
            "1334/1334 [==============================] - 17s 10ms/step - loss: 0.7046 - accuracy: 0.5289 - val_loss: 0.6508 - val_accuracy: 0.6117\n"
          ],
          "name": "stdout"
        },
        {
          "output_type": "stream",
          "text": [
            "WARNING:absl:Found untraced functions such as gru_cell_10_layer_call_and_return_conditional_losses, gru_cell_10_layer_call_fn, gru_cell_11_layer_call_and_return_conditional_losses, gru_cell_11_layer_call_fn, gru_cell_10_layer_call_fn while saving (showing 5 of 10). These functions will not be directly callable after loading.\n"
          ],
          "name": "stderr"
        },
        {
          "output_type": "stream",
          "text": [
            "INFO:tensorflow:Assets written to: BestModel/assets\n"
          ],
          "name": "stdout"
        },
        {
          "output_type": "stream",
          "text": [
            "INFO:tensorflow:Assets written to: BestModel/assets\n"
          ],
          "name": "stderr"
        },
        {
          "output_type": "stream",
          "text": [
            "Epoch 2/100\n",
            "1334/1334 [==============================] - 12s 9ms/step - loss: 0.6441 - accuracy: 0.6220 - val_loss: 0.6082 - val_accuracy: 0.6562\n"
          ],
          "name": "stdout"
        },
        {
          "output_type": "stream",
          "text": [
            "WARNING:absl:Found untraced functions such as gru_cell_10_layer_call_and_return_conditional_losses, gru_cell_10_layer_call_fn, gru_cell_11_layer_call_and_return_conditional_losses, gru_cell_11_layer_call_fn, gru_cell_10_layer_call_fn while saving (showing 5 of 10). These functions will not be directly callable after loading.\n"
          ],
          "name": "stderr"
        },
        {
          "output_type": "stream",
          "text": [
            "INFO:tensorflow:Assets written to: BestModel/assets\n"
          ],
          "name": "stdout"
        },
        {
          "output_type": "stream",
          "text": [
            "INFO:tensorflow:Assets written to: BestModel/assets\n"
          ],
          "name": "stderr"
        },
        {
          "output_type": "stream",
          "text": [
            "Epoch 3/100\n",
            "1334/1334 [==============================] - 12s 9ms/step - loss: 0.6131 - accuracy: 0.6609 - val_loss: 0.6080 - val_accuracy: 0.6594\n"
          ],
          "name": "stdout"
        },
        {
          "output_type": "stream",
          "text": [
            "WARNING:absl:Found untraced functions such as gru_cell_10_layer_call_and_return_conditional_losses, gru_cell_10_layer_call_fn, gru_cell_11_layer_call_and_return_conditional_losses, gru_cell_11_layer_call_fn, gru_cell_10_layer_call_fn while saving (showing 5 of 10). These functions will not be directly callable after loading.\n"
          ],
          "name": "stderr"
        },
        {
          "output_type": "stream",
          "text": [
            "INFO:tensorflow:Assets written to: BestModel/assets\n"
          ],
          "name": "stdout"
        },
        {
          "output_type": "stream",
          "text": [
            "INFO:tensorflow:Assets written to: BestModel/assets\n"
          ],
          "name": "stderr"
        },
        {
          "output_type": "stream",
          "text": [
            "Epoch 4/100\n",
            "1334/1334 [==============================] - 12s 9ms/step - loss: 0.6062 - accuracy: 0.6640 - val_loss: 0.6023 - val_accuracy: 0.6612\n"
          ],
          "name": "stdout"
        },
        {
          "output_type": "stream",
          "text": [
            "WARNING:absl:Found untraced functions such as gru_cell_10_layer_call_and_return_conditional_losses, gru_cell_10_layer_call_fn, gru_cell_11_layer_call_and_return_conditional_losses, gru_cell_11_layer_call_fn, gru_cell_10_layer_call_fn while saving (showing 5 of 10). These functions will not be directly callable after loading.\n"
          ],
          "name": "stderr"
        },
        {
          "output_type": "stream",
          "text": [
            "INFO:tensorflow:Assets written to: BestModel/assets\n"
          ],
          "name": "stdout"
        },
        {
          "output_type": "stream",
          "text": [
            "INFO:tensorflow:Assets written to: BestModel/assets\n"
          ],
          "name": "stderr"
        },
        {
          "output_type": "stream",
          "text": [
            "Epoch 5/100\n",
            "1334/1334 [==============================] - 12s 9ms/step - loss: 0.6028 - accuracy: 0.6695 - val_loss: 0.5975 - val_accuracy: 0.6713\n"
          ],
          "name": "stdout"
        },
        {
          "output_type": "stream",
          "text": [
            "WARNING:absl:Found untraced functions such as gru_cell_10_layer_call_and_return_conditional_losses, gru_cell_10_layer_call_fn, gru_cell_11_layer_call_and_return_conditional_losses, gru_cell_11_layer_call_fn, gru_cell_10_layer_call_fn while saving (showing 5 of 10). These functions will not be directly callable after loading.\n"
          ],
          "name": "stderr"
        },
        {
          "output_type": "stream",
          "text": [
            "INFO:tensorflow:Assets written to: BestModel/assets\n"
          ],
          "name": "stdout"
        },
        {
          "output_type": "stream",
          "text": [
            "INFO:tensorflow:Assets written to: BestModel/assets\n"
          ],
          "name": "stderr"
        },
        {
          "output_type": "stream",
          "text": [
            "Epoch 6/100\n",
            "1334/1334 [==============================] - 12s 9ms/step - loss: 0.6014 - accuracy: 0.6719 - val_loss: 0.5949 - val_accuracy: 0.6742\n"
          ],
          "name": "stdout"
        },
        {
          "output_type": "stream",
          "text": [
            "WARNING:absl:Found untraced functions such as gru_cell_10_layer_call_and_return_conditional_losses, gru_cell_10_layer_call_fn, gru_cell_11_layer_call_and_return_conditional_losses, gru_cell_11_layer_call_fn, gru_cell_10_layer_call_fn while saving (showing 5 of 10). These functions will not be directly callable after loading.\n"
          ],
          "name": "stderr"
        },
        {
          "output_type": "stream",
          "text": [
            "INFO:tensorflow:Assets written to: BestModel/assets\n"
          ],
          "name": "stdout"
        },
        {
          "output_type": "stream",
          "text": [
            "INFO:tensorflow:Assets written to: BestModel/assets\n"
          ],
          "name": "stderr"
        },
        {
          "output_type": "stream",
          "text": [
            "Epoch 7/100\n",
            "1334/1334 [==============================] - 12s 9ms/step - loss: 0.5944 - accuracy: 0.6815 - val_loss: 0.5707 - val_accuracy: 0.6909\n"
          ],
          "name": "stdout"
        },
        {
          "output_type": "stream",
          "text": [
            "WARNING:absl:Found untraced functions such as gru_cell_10_layer_call_and_return_conditional_losses, gru_cell_10_layer_call_fn, gru_cell_11_layer_call_and_return_conditional_losses, gru_cell_11_layer_call_fn, gru_cell_10_layer_call_fn while saving (showing 5 of 10). These functions will not be directly callable after loading.\n"
          ],
          "name": "stderr"
        },
        {
          "output_type": "stream",
          "text": [
            "INFO:tensorflow:Assets written to: BestModel/assets\n"
          ],
          "name": "stdout"
        },
        {
          "output_type": "stream",
          "text": [
            "INFO:tensorflow:Assets written to: BestModel/assets\n"
          ],
          "name": "stderr"
        },
        {
          "output_type": "stream",
          "text": [
            "Epoch 8/100\n",
            "1334/1334 [==============================] - 12s 9ms/step - loss: 0.5618 - accuracy: 0.7000 - val_loss: 0.5345 - val_accuracy: 0.7120\n"
          ],
          "name": "stdout"
        },
        {
          "output_type": "stream",
          "text": [
            "WARNING:absl:Found untraced functions such as gru_cell_10_layer_call_and_return_conditional_losses, gru_cell_10_layer_call_fn, gru_cell_11_layer_call_and_return_conditional_losses, gru_cell_11_layer_call_fn, gru_cell_10_layer_call_fn while saving (showing 5 of 10). These functions will not be directly callable after loading.\n"
          ],
          "name": "stderr"
        },
        {
          "output_type": "stream",
          "text": [
            "INFO:tensorflow:Assets written to: BestModel/assets\n"
          ],
          "name": "stdout"
        },
        {
          "output_type": "stream",
          "text": [
            "INFO:tensorflow:Assets written to: BestModel/assets\n"
          ],
          "name": "stderr"
        },
        {
          "output_type": "stream",
          "text": [
            "Epoch 9/100\n",
            "1334/1334 [==============================] - 12s 9ms/step - loss: 0.5408 - accuracy: 0.7120 - val_loss: 0.5321 - val_accuracy: 0.7165\n"
          ],
          "name": "stdout"
        },
        {
          "output_type": "stream",
          "text": [
            "WARNING:absl:Found untraced functions such as gru_cell_10_layer_call_and_return_conditional_losses, gru_cell_10_layer_call_fn, gru_cell_11_layer_call_and_return_conditional_losses, gru_cell_11_layer_call_fn, gru_cell_10_layer_call_fn while saving (showing 5 of 10). These functions will not be directly callable after loading.\n"
          ],
          "name": "stderr"
        },
        {
          "output_type": "stream",
          "text": [
            "INFO:tensorflow:Assets written to: BestModel/assets\n"
          ],
          "name": "stdout"
        },
        {
          "output_type": "stream",
          "text": [
            "INFO:tensorflow:Assets written to: BestModel/assets\n"
          ],
          "name": "stderr"
        },
        {
          "output_type": "stream",
          "text": [
            "Epoch 10/100\n",
            "1334/1334 [==============================] - 12s 9ms/step - loss: 0.5330 - accuracy: 0.7150 - val_loss: 0.5260 - val_accuracy: 0.7202\n"
          ],
          "name": "stdout"
        },
        {
          "output_type": "stream",
          "text": [
            "WARNING:absl:Found untraced functions such as gru_cell_10_layer_call_and_return_conditional_losses, gru_cell_10_layer_call_fn, gru_cell_11_layer_call_and_return_conditional_losses, gru_cell_11_layer_call_fn, gru_cell_10_layer_call_fn while saving (showing 5 of 10). These functions will not be directly callable after loading.\n"
          ],
          "name": "stderr"
        },
        {
          "output_type": "stream",
          "text": [
            "INFO:tensorflow:Assets written to: BestModel/assets\n"
          ],
          "name": "stdout"
        },
        {
          "output_type": "stream",
          "text": [
            "INFO:tensorflow:Assets written to: BestModel/assets\n"
          ],
          "name": "stderr"
        },
        {
          "output_type": "stream",
          "text": [
            "Epoch 11/100\n",
            "1334/1334 [==============================] - 12s 9ms/step - loss: 0.5280 - accuracy: 0.7209 - val_loss: 0.5220 - val_accuracy: 0.7214\n"
          ],
          "name": "stdout"
        },
        {
          "output_type": "stream",
          "text": [
            "WARNING:absl:Found untraced functions such as gru_cell_10_layer_call_and_return_conditional_losses, gru_cell_10_layer_call_fn, gru_cell_11_layer_call_and_return_conditional_losses, gru_cell_11_layer_call_fn, gru_cell_10_layer_call_fn while saving (showing 5 of 10). These functions will not be directly callable after loading.\n"
          ],
          "name": "stderr"
        },
        {
          "output_type": "stream",
          "text": [
            "INFO:tensorflow:Assets written to: BestModel/assets\n"
          ],
          "name": "stdout"
        },
        {
          "output_type": "stream",
          "text": [
            "INFO:tensorflow:Assets written to: BestModel/assets\n"
          ],
          "name": "stderr"
        },
        {
          "output_type": "stream",
          "text": [
            "Epoch 12/100\n",
            "1334/1334 [==============================] - 12s 9ms/step - loss: 0.5232 - accuracy: 0.7191 - val_loss: 0.5274 - val_accuracy: 0.7168\n",
            "Epoch 13/100\n",
            "1334/1334 [==============================] - 12s 9ms/step - loss: 0.5238 - accuracy: 0.7202 - val_loss: 0.5207 - val_accuracy: 0.7181\n",
            "Epoch 14/100\n",
            "1334/1334 [==============================] - 12s 9ms/step - loss: 0.5233 - accuracy: 0.7181 - val_loss: 0.5197 - val_accuracy: 0.7215\n"
          ],
          "name": "stdout"
        },
        {
          "output_type": "stream",
          "text": [
            "WARNING:absl:Found untraced functions such as gru_cell_10_layer_call_and_return_conditional_losses, gru_cell_10_layer_call_fn, gru_cell_11_layer_call_and_return_conditional_losses, gru_cell_11_layer_call_fn, gru_cell_10_layer_call_fn while saving (showing 5 of 10). These functions will not be directly callable after loading.\n"
          ],
          "name": "stderr"
        },
        {
          "output_type": "stream",
          "text": [
            "INFO:tensorflow:Assets written to: BestModel/assets\n"
          ],
          "name": "stdout"
        },
        {
          "output_type": "stream",
          "text": [
            "INFO:tensorflow:Assets written to: BestModel/assets\n"
          ],
          "name": "stderr"
        },
        {
          "output_type": "stream",
          "text": [
            "Epoch 15/100\n",
            "1334/1334 [==============================] - 12s 9ms/step - loss: 0.5154 - accuracy: 0.7235 - val_loss: 0.5189 - val_accuracy: 0.7250\n"
          ],
          "name": "stdout"
        },
        {
          "output_type": "stream",
          "text": [
            "WARNING:absl:Found untraced functions such as gru_cell_10_layer_call_and_return_conditional_losses, gru_cell_10_layer_call_fn, gru_cell_11_layer_call_and_return_conditional_losses, gru_cell_11_layer_call_fn, gru_cell_10_layer_call_fn while saving (showing 5 of 10). These functions will not be directly callable after loading.\n"
          ],
          "name": "stderr"
        },
        {
          "output_type": "stream",
          "text": [
            "INFO:tensorflow:Assets written to: BestModel/assets\n"
          ],
          "name": "stdout"
        },
        {
          "output_type": "stream",
          "text": [
            "INFO:tensorflow:Assets written to: BestModel/assets\n"
          ],
          "name": "stderr"
        },
        {
          "output_type": "stream",
          "text": [
            "Epoch 16/100\n",
            "1334/1334 [==============================] - 12s 9ms/step - loss: 0.5132 - accuracy: 0.7265 - val_loss: 0.5150 - val_accuracy: 0.7238\n",
            "Epoch 17/100\n",
            "1334/1334 [==============================] - 12s 9ms/step - loss: 0.5110 - accuracy: 0.7285 - val_loss: 0.5184 - val_accuracy: 0.7216\n",
            "Epoch 18/100\n",
            "1334/1334 [==============================] - 12s 9ms/step - loss: 0.5132 - accuracy: 0.7257 - val_loss: 0.5133 - val_accuracy: 0.7225\n",
            "Epoch 19/100\n",
            "1334/1334 [==============================] - 12s 9ms/step - loss: 0.5115 - accuracy: 0.7285 - val_loss: 0.5162 - val_accuracy: 0.7192\n",
            "Epoch 20/100\n",
            "1334/1334 [==============================] - 12s 9ms/step - loss: 0.5112 - accuracy: 0.7267 - val_loss: 0.5144 - val_accuracy: 0.7211\n",
            "Epoch 21/100\n",
            "1334/1334 [==============================] - 12s 9ms/step - loss: 0.5130 - accuracy: 0.7284 - val_loss: 0.5162 - val_accuracy: 0.7250\n",
            "Epoch 22/100\n",
            "1334/1334 [==============================] - 12s 9ms/step - loss: 0.5110 - accuracy: 0.7238 - val_loss: 0.5111 - val_accuracy: 0.7236\n",
            "Epoch 23/100\n",
            "1334/1334 [==============================] - 12s 9ms/step - loss: 0.5023 - accuracy: 0.7350 - val_loss: 0.5242 - val_accuracy: 0.7218\n",
            "Epoch 24/100\n",
            "1334/1334 [==============================] - 12s 9ms/step - loss: 0.5017 - accuracy: 0.7315 - val_loss: 0.5139 - val_accuracy: 0.7247\n",
            "Epoch 25/100\n",
            "1334/1334 [==============================] - 12s 9ms/step - loss: 0.5063 - accuracy: 0.7297 - val_loss: 0.5120 - val_accuracy: 0.7242\n",
            "Epoch 26/100\n",
            "1334/1334 [==============================] - 12s 9ms/step - loss: 0.5044 - accuracy: 0.7295 - val_loss: 0.5110 - val_accuracy: 0.7258\n"
          ],
          "name": "stdout"
        },
        {
          "output_type": "stream",
          "text": [
            "WARNING:absl:Found untraced functions such as gru_cell_10_layer_call_and_return_conditional_losses, gru_cell_10_layer_call_fn, gru_cell_11_layer_call_and_return_conditional_losses, gru_cell_11_layer_call_fn, gru_cell_10_layer_call_fn while saving (showing 5 of 10). These functions will not be directly callable after loading.\n"
          ],
          "name": "stderr"
        },
        {
          "output_type": "stream",
          "text": [
            "INFO:tensorflow:Assets written to: BestModel/assets\n"
          ],
          "name": "stdout"
        },
        {
          "output_type": "stream",
          "text": [
            "INFO:tensorflow:Assets written to: BestModel/assets\n"
          ],
          "name": "stderr"
        },
        {
          "output_type": "stream",
          "text": [
            "Epoch 27/100\n",
            "1334/1334 [==============================] - 12s 9ms/step - loss: 0.5008 - accuracy: 0.7332 - val_loss: 0.5131 - val_accuracy: 0.7217\n",
            "Epoch 28/100\n",
            "1334/1334 [==============================] - 12s 9ms/step - loss: 0.5040 - accuracy: 0.7323 - val_loss: 0.5141 - val_accuracy: 0.7226\n",
            "Epoch 29/100\n",
            "1334/1334 [==============================] - 12s 9ms/step - loss: 0.5051 - accuracy: 0.7282 - val_loss: 0.5127 - val_accuracy: 0.7187\n",
            "Epoch 30/100\n",
            "1334/1334 [==============================] - 12s 9ms/step - loss: 0.5010 - accuracy: 0.7350 - val_loss: 0.5123 - val_accuracy: 0.7228\n",
            "Epoch 31/100\n",
            "1334/1334 [==============================] - 12s 9ms/step - loss: 0.4985 - accuracy: 0.7334 - val_loss: 0.5342 - val_accuracy: 0.7120\n",
            "Epoch 32/100\n",
            "1334/1334 [==============================] - 12s 9ms/step - loss: 0.5064 - accuracy: 0.7277 - val_loss: 0.5167 - val_accuracy: 0.7241\n",
            "Epoch 33/100\n",
            "1334/1334 [==============================] - 12s 9ms/step - loss: 0.4985 - accuracy: 0.7367 - val_loss: 0.5168 - val_accuracy: 0.7196\n",
            "Epoch 34/100\n",
            "1334/1334 [==============================] - 12s 9ms/step - loss: 0.5023 - accuracy: 0.7340 - val_loss: 0.5135 - val_accuracy: 0.7215\n",
            "Epoch 35/100\n",
            "1334/1334 [==============================] - 12s 9ms/step - loss: 0.5027 - accuracy: 0.7335 - val_loss: 0.5158 - val_accuracy: 0.7206\n",
            "Epoch 36/100\n",
            "1334/1334 [==============================] - 12s 9ms/step - loss: 0.4977 - accuracy: 0.7390 - val_loss: 0.5129 - val_accuracy: 0.7232\n",
            "Epoch 37/100\n",
            "1334/1334 [==============================] - 12s 9ms/step - loss: 0.4982 - accuracy: 0.7321 - val_loss: 0.5162 - val_accuracy: 0.7238\n",
            "Epoch 38/100\n",
            "1334/1334 [==============================] - 12s 9ms/step - loss: 0.4913 - accuracy: 0.7410 - val_loss: 0.5161 - val_accuracy: 0.7248\n",
            "Epoch 39/100\n",
            "1334/1334 [==============================] - 12s 9ms/step - loss: 0.4984 - accuracy: 0.7352 - val_loss: 0.5129 - val_accuracy: 0.7254\n",
            "Epoch 40/100\n",
            "1334/1334 [==============================] - 12s 9ms/step - loss: 0.4929 - accuracy: 0.7378 - val_loss: 0.5214 - val_accuracy: 0.7212\n",
            "Epoch 41/100\n",
            "1334/1334 [==============================] - 12s 9ms/step - loss: 0.4930 - accuracy: 0.7388 - val_loss: 0.5211 - val_accuracy: 0.7185\n",
            "Epoch 42/100\n",
            "1334/1334 [==============================] - 12s 9ms/step - loss: 0.4953 - accuracy: 0.7344 - val_loss: 0.5169 - val_accuracy: 0.7224\n",
            "Epoch 43/100\n",
            "1334/1334 [==============================] - 12s 9ms/step - loss: 0.4929 - accuracy: 0.7389 - val_loss: 0.5215 - val_accuracy: 0.7225\n",
            "Epoch 44/100\n",
            "1334/1334 [==============================] - 13s 9ms/step - loss: 0.4924 - accuracy: 0.7375 - val_loss: 0.5231 - val_accuracy: 0.7164\n",
            "Epoch 45/100\n",
            "1334/1334 [==============================] - 12s 9ms/step - loss: 0.4966 - accuracy: 0.7324 - val_loss: 0.5207 - val_accuracy: 0.7207\n",
            "Epoch 46/100\n",
            "1334/1334 [==============================] - 12s 9ms/step - loss: 0.4943 - accuracy: 0.7376 - val_loss: 0.5227 - val_accuracy: 0.7201\n",
            "Epoch 47/100\n",
            "1334/1334 [==============================] - 12s 9ms/step - loss: 0.5003 - accuracy: 0.7344 - val_loss: 0.5173 - val_accuracy: 0.7232\n",
            "Epoch 48/100\n",
            "1334/1334 [==============================] - 12s 9ms/step - loss: 0.4939 - accuracy: 0.7394 - val_loss: 0.5163 - val_accuracy: 0.7227\n",
            "Epoch 49/100\n",
            "1334/1334 [==============================] - 12s 9ms/step - loss: 0.4913 - accuracy: 0.7368 - val_loss: 0.5192 - val_accuracy: 0.7181\n",
            "Epoch 50/100\n",
            "1334/1334 [==============================] - 12s 9ms/step - loss: 0.4925 - accuracy: 0.7372 - val_loss: 0.5210 - val_accuracy: 0.7216\n",
            "Epoch 51/100\n",
            "1334/1334 [==============================] - 12s 9ms/step - loss: 0.4915 - accuracy: 0.7374 - val_loss: 0.5254 - val_accuracy: 0.7181\n",
            "Epoch 52/100\n",
            "1334/1334 [==============================] - 12s 9ms/step - loss: 0.4918 - accuracy: 0.7388 - val_loss: 0.5240 - val_accuracy: 0.7154\n",
            "Epoch 53/100\n",
            "1334/1334 [==============================] - 12s 9ms/step - loss: 0.4864 - accuracy: 0.7402 - val_loss: 0.5251 - val_accuracy: 0.7212\n",
            "Epoch 54/100\n",
            "1334/1334 [==============================] - 12s 9ms/step - loss: 0.4894 - accuracy: 0.7399 - val_loss: 0.5225 - val_accuracy: 0.7234\n",
            "Epoch 55/100\n",
            "1334/1334 [==============================] - 12s 9ms/step - loss: 0.4880 - accuracy: 0.7382 - val_loss: 0.5207 - val_accuracy: 0.7223\n",
            "Epoch 56/100\n",
            "1334/1334 [==============================] - 12s 9ms/step - loss: 0.4856 - accuracy: 0.7417 - val_loss: 0.5218 - val_accuracy: 0.7229\n",
            "Epoch 57/100\n",
            "1334/1334 [==============================] - 12s 9ms/step - loss: 0.4966 - accuracy: 0.7395 - val_loss: 0.5204 - val_accuracy: 0.7227\n",
            "Epoch 58/100\n",
            "1334/1334 [==============================] - 12s 9ms/step - loss: 0.5053 - accuracy: 0.7386 - val_loss: 0.5181 - val_accuracy: 0.7223\n",
            "Epoch 59/100\n",
            "1334/1334 [==============================] - 12s 9ms/step - loss: 0.4895 - accuracy: 0.7412 - val_loss: 0.5255 - val_accuracy: 0.7195\n",
            "Epoch 60/100\n",
            "1334/1334 [==============================] - 12s 9ms/step - loss: 0.4883 - accuracy: 0.7391 - val_loss: 0.5316 - val_accuracy: 0.7198\n",
            "Epoch 61/100\n",
            "1334/1334 [==============================] - 12s 9ms/step - loss: 0.4958 - accuracy: 0.7391 - val_loss: 0.5290 - val_accuracy: 0.7195\n",
            "Epoch 62/100\n",
            "1334/1334 [==============================] - 12s 9ms/step - loss: 0.4847 - accuracy: 0.7427 - val_loss: 0.5252 - val_accuracy: 0.7193\n",
            "Epoch 63/100\n",
            "1334/1334 [==============================] - 12s 9ms/step - loss: 0.4952 - accuracy: 0.7355 - val_loss: 0.5221 - val_accuracy: 0.7221\n",
            "Epoch 64/100\n",
            "1334/1334 [==============================] - 12s 9ms/step - loss: 0.4847 - accuracy: 0.7399 - val_loss: 0.5242 - val_accuracy: 0.7222\n",
            "Epoch 65/100\n",
            "1334/1334 [==============================] - 12s 9ms/step - loss: 0.4823 - accuracy: 0.7417 - val_loss: 0.5266 - val_accuracy: 0.7196\n",
            "Epoch 66/100\n",
            "1334/1334 [==============================] - 12s 9ms/step - loss: 0.4939 - accuracy: 0.7355 - val_loss: 0.5252 - val_accuracy: 0.7214\n",
            "Epoch 67/100\n",
            "1334/1334 [==============================] - 12s 9ms/step - loss: 0.4824 - accuracy: 0.7445 - val_loss: 0.5379 - val_accuracy: 0.7126\n",
            "Epoch 68/100\n",
            "1334/1334 [==============================] - 12s 9ms/step - loss: 0.4879 - accuracy: 0.7415 - val_loss: 0.5242 - val_accuracy: 0.7185\n",
            "Epoch 69/100\n",
            "1334/1334 [==============================] - 13s 9ms/step - loss: 0.4825 - accuracy: 0.7403 - val_loss: 0.5210 - val_accuracy: 0.7203\n",
            "Epoch 70/100\n",
            "1334/1334 [==============================] - 12s 9ms/step - loss: 0.4813 - accuracy: 0.7426 - val_loss: 0.5254 - val_accuracy: 0.7212\n",
            "Epoch 71/100\n",
            "1334/1334 [==============================] - 13s 9ms/step - loss: 0.4853 - accuracy: 0.7442 - val_loss: 0.5309 - val_accuracy: 0.7223\n",
            "Epoch 72/100\n",
            "1334/1334 [==============================] - 12s 9ms/step - loss: 0.4829 - accuracy: 0.7439 - val_loss: 0.5228 - val_accuracy: 0.7206\n",
            "Epoch 73/100\n",
            "1334/1334 [==============================] - 12s 9ms/step - loss: 0.4891 - accuracy: 0.7384 - val_loss: 0.5271 - val_accuracy: 0.7191\n",
            "Epoch 74/100\n",
            "1334/1334 [==============================] - 12s 9ms/step - loss: 0.4830 - accuracy: 0.7418 - val_loss: 0.5311 - val_accuracy: 0.7203\n",
            "Epoch 75/100\n",
            "1334/1334 [==============================] - 12s 9ms/step - loss: 0.4787 - accuracy: 0.7432 - val_loss: 0.5308 - val_accuracy: 0.7174\n",
            "Epoch 76/100\n",
            "1334/1334 [==============================] - 12s 9ms/step - loss: 0.4854 - accuracy: 0.7440 - val_loss: 0.5259 - val_accuracy: 0.7183\n",
            "Epoch 77/100\n",
            "1334/1334 [==============================] - 12s 9ms/step - loss: 0.4768 - accuracy: 0.7502 - val_loss: 0.5404 - val_accuracy: 0.7125\n",
            "Epoch 78/100\n",
            "1334/1334 [==============================] - 12s 9ms/step - loss: 0.4884 - accuracy: 0.7402 - val_loss: 0.5438 - val_accuracy: 0.7166\n",
            "Epoch 79/100\n",
            "1334/1334 [==============================] - 12s 9ms/step - loss: 0.4832 - accuracy: 0.7417 - val_loss: 0.5299 - val_accuracy: 0.7188\n",
            "Epoch 80/100\n",
            "1334/1334 [==============================] - 12s 9ms/step - loss: 0.4758 - accuracy: 0.7477 - val_loss: 0.5293 - val_accuracy: 0.7120\n",
            "Epoch 81/100\n",
            "1334/1334 [==============================] - 12s 9ms/step - loss: 0.4800 - accuracy: 0.7441 - val_loss: 0.5301 - val_accuracy: 0.7194\n",
            "Epoch 82/100\n",
            "1334/1334 [==============================] - 13s 9ms/step - loss: 0.4806 - accuracy: 0.7458 - val_loss: 0.5313 - val_accuracy: 0.7162\n",
            "Epoch 83/100\n",
            "1334/1334 [==============================] - 12s 9ms/step - loss: 0.4875 - accuracy: 0.7379 - val_loss: 0.5318 - val_accuracy: 0.7210\n",
            "Epoch 84/100\n",
            "1334/1334 [==============================] - 12s 9ms/step - loss: 0.4788 - accuracy: 0.7456 - val_loss: 0.5365 - val_accuracy: 0.7220\n",
            "Epoch 85/100\n",
            "1334/1334 [==============================] - 12s 9ms/step - loss: 0.4829 - accuracy: 0.7448 - val_loss: 0.5283 - val_accuracy: 0.7206\n",
            "Epoch 86/100\n",
            "1334/1334 [==============================] - 12s 9ms/step - loss: 0.4818 - accuracy: 0.7441 - val_loss: 0.5453 - val_accuracy: 0.7176\n",
            "Epoch 87/100\n",
            "1334/1334 [==============================] - 12s 9ms/step - loss: 0.4786 - accuracy: 0.7456 - val_loss: 0.5393 - val_accuracy: 0.7152\n",
            "Epoch 88/100\n",
            "1334/1334 [==============================] - 12s 9ms/step - loss: 0.4770 - accuracy: 0.7454 - val_loss: 0.5265 - val_accuracy: 0.7180\n",
            "Epoch 89/100\n",
            "1334/1334 [==============================] - 12s 9ms/step - loss: 0.4753 - accuracy: 0.7462 - val_loss: 0.5321 - val_accuracy: 0.7181\n",
            "Epoch 90/100\n",
            "1334/1334 [==============================] - 13s 9ms/step - loss: 0.4712 - accuracy: 0.7494 - val_loss: 0.5297 - val_accuracy: 0.7186\n",
            "Epoch 91/100\n",
            "1334/1334 [==============================] - 12s 9ms/step - loss: 0.4773 - accuracy: 0.7473 - val_loss: 0.5318 - val_accuracy: 0.7132\n",
            "Epoch 92/100\n",
            "1334/1334 [==============================] - 13s 9ms/step - loss: 0.4834 - accuracy: 0.7444 - val_loss: 0.5459 - val_accuracy: 0.7178\n",
            "Epoch 93/100\n",
            "1334/1334 [==============================] - 12s 9ms/step - loss: 0.4865 - accuracy: 0.7387 - val_loss: 0.5256 - val_accuracy: 0.7186\n",
            "Epoch 94/100\n",
            "1334/1334 [==============================] - 13s 9ms/step - loss: 0.4821 - accuracy: 0.7453 - val_loss: 0.5354 - val_accuracy: 0.7213\n",
            "Epoch 95/100\n",
            "1334/1334 [==============================] - 13s 9ms/step - loss: 0.4758 - accuracy: 0.7435 - val_loss: 0.5500 - val_accuracy: 0.7108\n",
            "Epoch 96/100\n",
            "1334/1334 [==============================] - 12s 9ms/step - loss: 0.4891 - accuracy: 0.7409 - val_loss: 0.5306 - val_accuracy: 0.7170\n",
            "Epoch 97/100\n",
            "1334/1334 [==============================] - 13s 9ms/step - loss: 0.4771 - accuracy: 0.7455 - val_loss: 0.5375 - val_accuracy: 0.7206\n",
            "Epoch 98/100\n",
            "1334/1334 [==============================] - 12s 9ms/step - loss: 0.4769 - accuracy: 0.7458 - val_loss: 0.5297 - val_accuracy: 0.7198\n",
            "Epoch 99/100\n",
            "1334/1334 [==============================] - 12s 9ms/step - loss: 0.4754 - accuracy: 0.7456 - val_loss: 0.5335 - val_accuracy: 0.7192\n",
            "Epoch 100/100\n",
            "1334/1334 [==============================] - 13s 9ms/step - loss: 0.4757 - accuracy: 0.7457 - val_loss: 0.5334 - val_accuracy: 0.7181\n",
            "Fold 1, 100 epochs, 1337 sec\n"
          ],
          "name": "stdout"
        },
        {
          "output_type": "display_data",
          "data": {
            "image/png": "[encoded data removed]",
            "text/plain": [
              "<Figure size 576x360 with 1 Axes>"
            ]
          },
          "metadata": {
            "tags": [],
            "needs_background": "light"
          }
        },
        {
          "output_type": "stream",
          "text": [
            "MODEL\n",
            "make_DNN\n",
            "input shape: (100, 4)\n",
            "FIT\n",
            "Epoch 1/100\n",
            "1334/1334 [==============================] - 16s 10ms/step - loss: 0.7099 - accuracy: 0.5107 - val_loss: 0.6877 - val_accuracy: 0.5571\n",
            "Epoch 2/100\n",
            "1334/1334 [==============================] - 12s 9ms/step - loss: 0.6444 - accuracy: 0.6241 - val_loss: 0.6098 - val_accuracy: 0.6615\n",
            "Epoch 3/100\n",
            "1334/1334 [==============================] - 12s 9ms/step - loss: 0.6124 - accuracy: 0.6639 - val_loss: 0.6061 - val_accuracy: 0.6638\n",
            "Epoch 4/100\n",
            "1334/1334 [==============================] - 12s 9ms/step - loss: 0.6077 - accuracy: 0.6625 - val_loss: 0.5946 - val_accuracy: 0.6730\n",
            "Epoch 5/100\n",
            "1334/1334 [==============================] - 12s 9ms/step - loss: 0.5984 - accuracy: 0.6764 - val_loss: 0.5748 - val_accuracy: 0.6951\n",
            "Epoch 6/100\n",
            "1334/1334 [==============================] - 12s 9ms/step - loss: 0.5640 - accuracy: 0.7039 - val_loss: 0.5423 - val_accuracy: 0.7126\n",
            "Epoch 7/100\n",
            "1334/1334 [==============================] - 12s 9ms/step - loss: 0.5450 - accuracy: 0.7163 - val_loss: 0.5368 - val_accuracy: 0.7119\n",
            "Epoch 8/100\n",
            "1334/1334 [==============================] - 12s 9ms/step - loss: 0.5379 - accuracy: 0.7142 - val_loss: 0.5317 - val_accuracy: 0.7165\n",
            "Epoch 9/100\n",
            "1334/1334 [==============================] - 12s 9ms/step - loss: 0.5399 - accuracy: 0.7160 - val_loss: 0.5267 - val_accuracy: 0.7184\n",
            "Epoch 10/100\n",
            "1334/1334 [==============================] - 12s 9ms/step - loss: 0.5371 - accuracy: 0.7122 - val_loss: 0.5251 - val_accuracy: 0.7176\n",
            "Epoch 11/100\n",
            "1334/1334 [==============================] - 12s 9ms/step - loss: 0.5305 - accuracy: 0.7170 - val_loss: 0.5235 - val_accuracy: 0.7192\n",
            "Epoch 12/100\n",
            "1334/1334 [==============================] - 12s 9ms/step - loss: 0.5268 - accuracy: 0.7167 - val_loss: 0.5258 - val_accuracy: 0.7175\n",
            "Epoch 13/100\n",
            "1334/1334 [==============================] - 12s 9ms/step - loss: 0.5292 - accuracy: 0.7154 - val_loss: 0.5190 - val_accuracy: 0.7194\n",
            "Epoch 14/100\n",
            "1334/1334 [==============================] - 12s 9ms/step - loss: 0.5222 - accuracy: 0.7208 - val_loss: 0.5206 - val_accuracy: 0.7191\n",
            "Epoch 15/100\n",
            "1334/1334 [==============================] - 12s 9ms/step - loss: 0.5254 - accuracy: 0.7174 - val_loss: 0.5152 - val_accuracy: 0.7232\n",
            "Epoch 16/100\n",
            "1334/1334 [==============================] - 12s 9ms/step - loss: 0.5217 - accuracy: 0.7211 - val_loss: 0.5171 - val_accuracy: 0.7228\n",
            "Epoch 17/100\n",
            "1334/1334 [==============================] - 12s 9ms/step - loss: 0.5223 - accuracy: 0.7222 - val_loss: 0.5159 - val_accuracy: 0.7220\n",
            "Epoch 18/100\n",
            "1334/1334 [==============================] - 12s 9ms/step - loss: 0.5179 - accuracy: 0.7204 - val_loss: 0.5164 - val_accuracy: 0.7212\n",
            "Epoch 19/100\n",
            "1334/1334 [==============================] - 13s 9ms/step - loss: 0.5137 - accuracy: 0.7280 - val_loss: 0.5162 - val_accuracy: 0.7214\n",
            "Epoch 20/100\n",
            "1334/1334 [==============================] - 12s 9ms/step - loss: 0.5196 - accuracy: 0.7206 - val_loss: 0.5137 - val_accuracy: 0.7227\n",
            "Epoch 21/100\n",
            "1334/1334 [==============================] - 12s 9ms/step - loss: 0.5189 - accuracy: 0.7235 - val_loss: 0.5158 - val_accuracy: 0.7219\n",
            "Epoch 22/100\n",
            "1334/1334 [==============================] - 12s 9ms/step - loss: 0.5163 - accuracy: 0.7202 - val_loss: 0.5169 - val_accuracy: 0.7262\n"
          ],
          "name": "stdout"
        },
        {
          "output_type": "stream",
          "text": [
            "WARNING:absl:Found untraced functions such as gru_cell_12_layer_call_and_return_conditional_losses, gru_cell_12_layer_call_fn, gru_cell_13_layer_call_and_return_conditional_losses, gru_cell_13_layer_call_fn, gru_cell_12_layer_call_fn while saving (showing 5 of 10). These functions will not be directly callable after loading.\n"
          ],
          "name": "stderr"
        },
        {
          "output_type": "stream",
          "text": [
            "INFO:tensorflow:Assets written to: BestModel/assets\n"
          ],
          "name": "stdout"
        },
        {
          "output_type": "stream",
          "text": [
            "INFO:tensorflow:Assets written to: BestModel/assets\n"
          ],
          "name": "stderr"
        },
        {
          "output_type": "stream",
          "text": [
            "Epoch 23/100\n",
            "1334/1334 [==============================] - 12s 9ms/step - loss: 0.5145 - accuracy: 0.7280 - val_loss: 0.5150 - val_accuracy: 0.7203\n",
            "Epoch 24/100\n",
            "1334/1334 [==============================] - 12s 9ms/step - loss: 0.5126 - accuracy: 0.7272 - val_loss: 0.5112 - val_accuracy: 0.7229\n",
            "Epoch 25/100\n",
            "1334/1334 [==============================] - 12s 9ms/step - loss: 0.5133 - accuracy: 0.7260 - val_loss: 0.5170 - val_accuracy: 0.7259\n",
            "Epoch 26/100\n",
            "1334/1334 [==============================] - 12s 9ms/step - loss: 0.5139 - accuracy: 0.7216 - val_loss: 0.5128 - val_accuracy: 0.7254\n",
            "Epoch 27/100\n",
            "1334/1334 [==============================] - 12s 9ms/step - loss: 0.5137 - accuracy: 0.7243 - val_loss: 0.5108 - val_accuracy: 0.7262\n",
            "Epoch 28/100\n",
            "1334/1334 [==============================] - 12s 9ms/step - loss: 0.5090 - accuracy: 0.7283 - val_loss: 0.5138 - val_accuracy: 0.7245\n",
            "Epoch 29/100\n",
            "1334/1334 [==============================] - 13s 10ms/step - loss: 0.5058 - accuracy: 0.7274 - val_loss: 0.5207 - val_accuracy: 0.7187\n",
            "Epoch 30/100\n",
            "1334/1334 [==============================] - 12s 9ms/step - loss: 0.5065 - accuracy: 0.7280 - val_loss: 0.5136 - val_accuracy: 0.7244\n",
            "Epoch 31/100\n",
            "1334/1334 [==============================] - 12s 9ms/step - loss: 0.5064 - accuracy: 0.7322 - val_loss: 0.5232 - val_accuracy: 0.7137\n",
            "Epoch 32/100\n",
            "1334/1334 [==============================] - 12s 9ms/step - loss: 0.5128 - accuracy: 0.7252 - val_loss: 0.5225 - val_accuracy: 0.7215\n",
            "Epoch 33/100\n",
            "1334/1334 [==============================] - 12s 9ms/step - loss: 0.5089 - accuracy: 0.7279 - val_loss: 0.5155 - val_accuracy: 0.7277\n"
          ],
          "name": "stdout"
        },
        {
          "output_type": "stream",
          "text": [
            "WARNING:absl:Found untraced functions such as gru_cell_12_layer_call_and_return_conditional_losses, gru_cell_12_layer_call_fn, gru_cell_13_layer_call_and_return_conditional_losses, gru_cell_13_layer_call_fn, gru_cell_12_layer_call_fn while saving (showing 5 of 10). These functions will not be directly callable after loading.\n"
          ],
          "name": "stderr"
        },
        {
          "output_type": "stream",
          "text": [
            "INFO:tensorflow:Assets written to: BestModel/assets\n"
          ],
          "name": "stdout"
        },
        {
          "output_type": "stream",
          "text": [
            "INFO:tensorflow:Assets written to: BestModel/assets\n"
          ],
          "name": "stderr"
        },
        {
          "output_type": "stream",
          "text": [
            "Epoch 34/100\n",
            "1334/1334 [==============================] - 12s 9ms/step - loss: 0.5103 - accuracy: 0.7242 - val_loss: 0.5195 - val_accuracy: 0.7238\n",
            "Epoch 35/100\n",
            "1334/1334 [==============================] - 12s 9ms/step - loss: 0.5076 - accuracy: 0.7287 - val_loss: 0.5221 - val_accuracy: 0.7268\n",
            "Epoch 36/100\n",
            "1334/1334 [==============================] - 12s 9ms/step - loss: 0.5026 - accuracy: 0.7318 - val_loss: 0.5119 - val_accuracy: 0.7233\n",
            "Epoch 37/100\n",
            "1334/1334 [==============================] - 12s 9ms/step - loss: 0.5099 - accuracy: 0.7269 - val_loss: 0.5160 - val_accuracy: 0.7275\n",
            "Epoch 38/100\n",
            "1334/1334 [==============================] - 12s 9ms/step - loss: 0.5025 - accuracy: 0.7319 - val_loss: 0.5137 - val_accuracy: 0.7264\n",
            "Epoch 39/100\n",
            "1334/1334 [==============================] - 12s 9ms/step - loss: 0.5029 - accuracy: 0.7365 - val_loss: 0.5292 - val_accuracy: 0.7217\n",
            "Epoch 40/100\n",
            "1334/1334 [==============================] - 12s 9ms/step - loss: 0.5036 - accuracy: 0.7302 - val_loss: 0.5327 - val_accuracy: 0.7170\n",
            "Epoch 41/100\n",
            "1334/1334 [==============================] - 12s 9ms/step - loss: 0.5041 - accuracy: 0.7304 - val_loss: 0.5155 - val_accuracy: 0.7247\n",
            "Epoch 42/100\n",
            "1334/1334 [==============================] - 12s 9ms/step - loss: 0.5009 - accuracy: 0.7336 - val_loss: 0.5192 - val_accuracy: 0.7210\n",
            "Epoch 43/100\n",
            "1334/1334 [==============================] - 12s 9ms/step - loss: 0.5016 - accuracy: 0.7300 - val_loss: 0.5154 - val_accuracy: 0.7177\n",
            "Epoch 44/100\n",
            "1334/1334 [==============================] - 12s 9ms/step - loss: 0.5007 - accuracy: 0.7291 - val_loss: 0.5269 - val_accuracy: 0.7261\n",
            "Epoch 45/100\n",
            "1334/1334 [==============================] - 12s 9ms/step - loss: 0.5022 - accuracy: 0.7276 - val_loss: 0.5193 - val_accuracy: 0.7221\n",
            "Epoch 46/100\n",
            "1334/1334 [==============================] - 12s 9ms/step - loss: 0.5028 - accuracy: 0.7301 - val_loss: 0.5218 - val_accuracy: 0.7226\n",
            "Epoch 47/100\n",
            "1334/1334 [==============================] - 12s 9ms/step - loss: 0.4967 - accuracy: 0.7356 - val_loss: 0.5240 - val_accuracy: 0.7184\n",
            "Epoch 48/100\n",
            "1334/1334 [==============================] - 12s 9ms/step - loss: 0.5041 - accuracy: 0.7306 - val_loss: 0.5223 - val_accuracy: 0.7216\n",
            "Epoch 49/100\n",
            "1334/1334 [==============================] - 12s 9ms/step - loss: 0.4995 - accuracy: 0.7337 - val_loss: 0.5168 - val_accuracy: 0.7260\n",
            "Epoch 50/100\n",
            "1334/1334 [==============================] - 12s 9ms/step - loss: 0.4976 - accuracy: 0.7366 - val_loss: 0.5239 - val_accuracy: 0.7244\n",
            "Epoch 51/100\n",
            "1334/1334 [==============================] - 12s 9ms/step - loss: 0.4992 - accuracy: 0.7329 - val_loss: 0.5298 - val_accuracy: 0.7246\n",
            "Epoch 52/100\n",
            "1334/1334 [==============================] - 12s 9ms/step - loss: 0.4987 - accuracy: 0.7359 - val_loss: 0.5188 - val_accuracy: 0.7229\n",
            "Epoch 53/100\n",
            "1334/1334 [==============================] - 12s 9ms/step - loss: 0.4955 - accuracy: 0.7348 - val_loss: 0.5373 - val_accuracy: 0.7183\n",
            "Epoch 54/100\n",
            "1334/1334 [==============================] - 12s 9ms/step - loss: 0.4986 - accuracy: 0.7335 - val_loss: 0.5317 - val_accuracy: 0.7243\n",
            "Epoch 55/100\n",
            "1334/1334 [==============================] - 12s 9ms/step - loss: 0.5017 - accuracy: 0.7314 - val_loss: 0.5221 - val_accuracy: 0.7218\n",
            "Epoch 56/100\n",
            "1334/1334 [==============================] - 12s 9ms/step - loss: 0.4947 - accuracy: 0.7343 - val_loss: 0.5209 - val_accuracy: 0.7251\n",
            "Epoch 57/100\n",
            "1334/1334 [==============================] - 12s 9ms/step - loss: 0.4958 - accuracy: 0.7342 - val_loss: 0.5227 - val_accuracy: 0.7249\n",
            "Epoch 58/100\n",
            "1334/1334 [==============================] - 12s 9ms/step - loss: 0.4976 - accuracy: 0.7359 - val_loss: 0.5372 - val_accuracy: 0.7224\n",
            "Epoch 59/100\n",
            "1334/1334 [==============================] - 12s 9ms/step - loss: 0.4961 - accuracy: 0.7362 - val_loss: 0.5583 - val_accuracy: 0.7213\n",
            "Epoch 60/100\n",
            "1334/1334 [==============================] - 12s 9ms/step - loss: 0.4956 - accuracy: 0.7344 - val_loss: 0.5201 - val_accuracy: 0.7228\n",
            "Epoch 61/100\n",
            "1334/1334 [==============================] - 12s 9ms/step - loss: 0.4918 - accuracy: 0.7398 - val_loss: 0.5359 - val_accuracy: 0.7246\n",
            "Epoch 62/100\n",
            "1334/1334 [==============================] - 12s 9ms/step - loss: 0.4964 - accuracy: 0.7357 - val_loss: 0.5249 - val_accuracy: 0.7215\n",
            "Epoch 63/100\n",
            "1334/1334 [==============================] - 12s 9ms/step - loss: 0.4956 - accuracy: 0.7347 - val_loss: 0.5222 - val_accuracy: 0.7236\n",
            "Epoch 64/100\n",
            "1334/1334 [==============================] - 12s 9ms/step - loss: 0.4947 - accuracy: 0.7368 - val_loss: 0.5198 - val_accuracy: 0.7199\n",
            "Epoch 65/100\n",
            "1334/1334 [==============================] - 12s 9ms/step - loss: 0.4948 - accuracy: 0.7376 - val_loss: 0.5247 - val_accuracy: 0.7262\n",
            "Epoch 66/100\n",
            "1334/1334 [==============================] - 12s 9ms/step - loss: 0.4942 - accuracy: 0.7328 - val_loss: 0.5300 - val_accuracy: 0.7148\n",
            "Epoch 67/100\n",
            "1334/1334 [==============================] - 12s 9ms/step - loss: 0.4942 - accuracy: 0.7397 - val_loss: 0.5190 - val_accuracy: 0.7212\n",
            "Epoch 68/100\n",
            "1334/1334 [==============================] - 13s 9ms/step - loss: 0.4923 - accuracy: 0.7372 - val_loss: 0.5353 - val_accuracy: 0.7219\n",
            "Epoch 69/100\n",
            "1334/1334 [==============================] - 12s 9ms/step - loss: 0.4911 - accuracy: 0.7399 - val_loss: 0.5267 - val_accuracy: 0.7194\n",
            "Epoch 70/100\n",
            "1334/1334 [==============================] - 12s 9ms/step - loss: 0.4971 - accuracy: 0.7350 - val_loss: 0.5243 - val_accuracy: 0.7247\n",
            "Epoch 71/100\n",
            "1334/1334 [==============================] - 12s 9ms/step - loss: 0.4915 - accuracy: 0.7368 - val_loss: 0.5342 - val_accuracy: 0.7209\n",
            "Epoch 72/100\n",
            "1334/1334 [==============================] - 12s 9ms/step - loss: 0.4973 - accuracy: 0.7335 - val_loss: 0.5271 - val_accuracy: 0.7235\n",
            "Epoch 73/100\n",
            "1334/1334 [==============================] - 12s 9ms/step - loss: 0.4942 - accuracy: 0.7350 - val_loss: 0.5300 - val_accuracy: 0.7217\n",
            "Epoch 74/100\n",
            "1334/1334 [==============================] - 12s 9ms/step - loss: 0.4872 - accuracy: 0.7415 - val_loss: 0.5405 - val_accuracy: 0.7226\n",
            "Epoch 75/100\n",
            "1334/1334 [==============================] - 12s 9ms/step - loss: 0.4898 - accuracy: 0.7396 - val_loss: 0.5326 - val_accuracy: 0.7226\n",
            "Epoch 76/100\n",
            "1334/1334 [==============================] - 12s 9ms/step - loss: 0.4867 - accuracy: 0.7417 - val_loss: 0.5299 - val_accuracy: 0.7224\n",
            "Epoch 77/100\n",
            "1334/1334 [==============================] - 12s 9ms/step - loss: 0.4911 - accuracy: 0.7357 - val_loss: 0.5281 - val_accuracy: 0.7245\n",
            "Epoch 78/100\n",
            "1334/1334 [==============================] - 12s 9ms/step - loss: 0.4857 - accuracy: 0.7401 - val_loss: 0.5299 - val_accuracy: 0.7241\n",
            "Epoch 79/100\n",
            "1334/1334 [==============================] - 12s 9ms/step - loss: 0.4882 - accuracy: 0.7408 - val_loss: 0.5273 - val_accuracy: 0.7201\n",
            "Epoch 80/100\n",
            "1334/1334 [==============================] - 12s 9ms/step - loss: 0.4868 - accuracy: 0.7418 - val_loss: 0.5280 - val_accuracy: 0.7260\n",
            "Epoch 81/100\n",
            "1334/1334 [==============================] - 12s 9ms/step - loss: 0.4865 - accuracy: 0.7393 - val_loss: 0.5539 - val_accuracy: 0.7220\n",
            "Epoch 82/100\n",
            "1334/1334 [==============================] - 12s 9ms/step - loss: 0.4867 - accuracy: 0.7405 - val_loss: 0.5371 - val_accuracy: 0.7241\n",
            "Epoch 83/100\n",
            "1334/1334 [==============================] - 12s 9ms/step - loss: 0.4873 - accuracy: 0.7413 - val_loss: 0.5305 - val_accuracy: 0.7182\n",
            "Epoch 84/100\n",
            "1334/1334 [==============================] - 12s 9ms/step - loss: 0.4861 - accuracy: 0.7435 - val_loss: 0.5305 - val_accuracy: 0.7226\n",
            "Epoch 85/100\n",
            "1334/1334 [==============================] - 12s 9ms/step - loss: 0.4900 - accuracy: 0.7338 - val_loss: 0.5635 - val_accuracy: 0.7245\n",
            "Epoch 86/100\n",
            "1334/1334 [==============================] - 13s 9ms/step - loss: 0.4901 - accuracy: 0.7368 - val_loss: 0.5443 - val_accuracy: 0.7212\n",
            "Epoch 87/100\n",
            "1334/1334 [==============================] - 13s 9ms/step - loss: 0.4878 - accuracy: 0.7392 - val_loss: 0.5480 - val_accuracy: 0.7215\n",
            "Epoch 88/100\n",
            "1334/1334 [==============================] - 12s 9ms/step - loss: 0.4855 - accuracy: 0.7404 - val_loss: 0.5360 - val_accuracy: 0.7198\n",
            "Epoch 89/100\n",
            "1334/1334 [==============================] - 12s 9ms/step - loss: 0.4890 - accuracy: 0.7386 - val_loss: 0.5466 - val_accuracy: 0.7233\n",
            "Epoch 90/100\n",
            "1334/1334 [==============================] - 12s 9ms/step - loss: 0.4811 - accuracy: 0.7431 - val_loss: 0.5377 - val_accuracy: 0.7226\n",
            "Epoch 91/100\n",
            "1334/1334 [==============================] - 12s 9ms/step - loss: 0.4815 - accuracy: 0.7440 - val_loss: 0.5323 - val_accuracy: 0.7176\n",
            "Epoch 92/100\n",
            "1334/1334 [==============================] - 12s 9ms/step - loss: 0.4867 - accuracy: 0.7414 - val_loss: 0.5576 - val_accuracy: 0.7206\n",
            "Epoch 93/100\n",
            "1334/1334 [==============================] - 13s 9ms/step - loss: 0.4809 - accuracy: 0.7439 - val_loss: 0.5345 - val_accuracy: 0.7151\n",
            "Epoch 94/100\n",
            "1334/1334 [==============================] - 12s 9ms/step - loss: 0.4805 - accuracy: 0.7428 - val_loss: 0.5725 - val_accuracy: 0.7110\n",
            "Epoch 95/100\n",
            "1334/1334 [==============================] - 12s 9ms/step - loss: 0.4932 - accuracy: 0.7384 - val_loss: 0.5401 - val_accuracy: 0.7231\n",
            "Epoch 96/100\n",
            "1334/1334 [==============================] - 12s 9ms/step - loss: 0.4806 - accuracy: 0.7421 - val_loss: 0.5372 - val_accuracy: 0.7195\n",
            "Epoch 97/100\n",
            "1334/1334 [==============================] - 12s 9ms/step - loss: 0.4836 - accuracy: 0.7443 - val_loss: 0.5400 - val_accuracy: 0.7215\n",
            "Epoch 98/100\n",
            "1334/1334 [==============================] - 13s 9ms/step - loss: 0.4877 - accuracy: 0.7395 - val_loss: 0.5547 - val_accuracy: 0.7228\n",
            "Epoch 99/100\n",
            "1334/1334 [==============================] - 12s 9ms/step - loss: 0.4841 - accuracy: 0.7417 - val_loss: 0.5412 - val_accuracy: 0.7188\n",
            "Epoch 100/100\n",
            "1334/1334 [==============================] - 13s 9ms/step - loss: 0.4848 - accuracy: 0.7425 - val_loss: 0.5422 - val_accuracy: 0.7232\n",
            "Fold 2, 100 epochs, 1255 sec\n"
          ],
          "name": "stdout"
        },
        {
          "output_type": "display_data",
          "data": {
            "image/png": "[encoded data removed]",
            "text/plain": [
              "<Figure size 576x360 with 1 Axes>"
            ]
          },
          "metadata": {
            "tags": [],
            "needs_background": "light"
          }
        },
        {
          "output_type": "stream",
          "text": [
            "MODEL\n",
            "make_DNN\n",
            "input shape: (100, 4)\n",
            "FIT\n",
            "Epoch 1/100\n",
            "1334/1334 [==============================] - 16s 10ms/step - loss: 0.7059 - accuracy: 0.5312 - val_loss: 0.6348 - val_accuracy: 0.6384\n",
            "Epoch 2/100\n",
            "1334/1334 [==============================] - 12s 9ms/step - loss: 0.6298 - accuracy: 0.6416 - val_loss: 0.6074 - val_accuracy: 0.6614\n",
            "Epoch 3/100\n",
            "1334/1334 [==============================] - 12s 9ms/step - loss: 0.6131 - accuracy: 0.6596 - val_loss: 0.6027 - val_accuracy: 0.6666\n",
            "Epoch 4/100\n",
            "1334/1334 [==============================] - 12s 9ms/step - loss: 0.6067 - accuracy: 0.6632 - val_loss: 0.5965 - val_accuracy: 0.6725\n",
            "Epoch 5/100\n",
            "1334/1334 [==============================] - 12s 9ms/step - loss: 0.5998 - accuracy: 0.6720 - val_loss: 0.5638 - val_accuracy: 0.6999\n",
            "Epoch 6/100\n",
            "1334/1334 [==============================] - 12s 9ms/step - loss: 0.5649 - accuracy: 0.7056 - val_loss: 0.5472 - val_accuracy: 0.7098\n",
            "Epoch 7/100\n",
            "1334/1334 [==============================] - 12s 9ms/step - loss: 0.5517 - accuracy: 0.7094 - val_loss: 0.5420 - val_accuracy: 0.7160\n",
            "Epoch 8/100\n",
            "1334/1334 [==============================] - 12s 9ms/step - loss: 0.5439 - accuracy: 0.7153 - val_loss: 0.5368 - val_accuracy: 0.7147\n",
            "Epoch 9/100\n",
            "1334/1334 [==============================] - 12s 9ms/step - loss: 0.5378 - accuracy: 0.7184 - val_loss: 0.5311 - val_accuracy: 0.7181\n",
            "Epoch 10/100\n",
            "1334/1334 [==============================] - 12s 9ms/step - loss: 0.5361 - accuracy: 0.7176 - val_loss: 0.5291 - val_accuracy: 0.7207\n",
            "Epoch 11/100\n",
            "1334/1334 [==============================] - 12s 9ms/step - loss: 0.5281 - accuracy: 0.7204 - val_loss: 0.5289 - val_accuracy: 0.7154\n",
            "Epoch 12/100\n",
            "1334/1334 [==============================] - 13s 9ms/step - loss: 0.5233 - accuracy: 0.7237 - val_loss: 0.5225 - val_accuracy: 0.7193\n",
            "Epoch 13/100\n",
            "1334/1334 [==============================] - 12s 9ms/step - loss: 0.5253 - accuracy: 0.7216 - val_loss: 0.5290 - val_accuracy: 0.7188\n",
            "Epoch 14/100\n",
            "1334/1334 [==============================] - 12s 9ms/step - loss: 0.5231 - accuracy: 0.7207 - val_loss: 0.5180 - val_accuracy: 0.7230\n",
            "Epoch 15/100\n",
            "1334/1334 [==============================] - 12s 9ms/step - loss: 0.5172 - accuracy: 0.7291 - val_loss: 0.5221 - val_accuracy: 0.7234\n",
            "Epoch 16/100\n",
            "1334/1334 [==============================] - 13s 9ms/step - loss: 0.5177 - accuracy: 0.7264 - val_loss: 0.5157 - val_accuracy: 0.7223\n",
            "Epoch 17/100\n",
            "1334/1334 [==============================] - 12s 9ms/step - loss: 0.5171 - accuracy: 0.7205 - val_loss: 0.5263 - val_accuracy: 0.7202\n",
            "Epoch 18/100\n",
            "1334/1334 [==============================] - 13s 10ms/step - loss: 0.5181 - accuracy: 0.7250 - val_loss: 0.5149 - val_accuracy: 0.7250\n",
            "Epoch 19/100\n",
            "1334/1334 [==============================] - 12s 9ms/step - loss: 0.5150 - accuracy: 0.7217 - val_loss: 0.5153 - val_accuracy: 0.7224\n",
            "Epoch 20/100\n",
            "1334/1334 [==============================] - 12s 9ms/step - loss: 0.5144 - accuracy: 0.7286 - val_loss: 0.5156 - val_accuracy: 0.7214\n",
            "Epoch 21/100\n",
            "1334/1334 [==============================] - 12s 9ms/step - loss: 0.5156 - accuracy: 0.7261 - val_loss: 0.5173 - val_accuracy: 0.7215\n",
            "Epoch 22/100\n",
            "1334/1334 [==============================] - 12s 9ms/step - loss: 0.5128 - accuracy: 0.7260 - val_loss: 0.5198 - val_accuracy: 0.7218\n",
            "Epoch 23/100\n",
            "1334/1334 [==============================] - 12s 9ms/step - loss: 0.5111 - accuracy: 0.7277 - val_loss: 0.5139 - val_accuracy: 0.7245\n",
            "Epoch 24/100\n",
            "1334/1334 [==============================] - 12s 9ms/step - loss: 0.5081 - accuracy: 0.7277 - val_loss: 0.5206 - val_accuracy: 0.7201\n",
            "Epoch 25/100\n",
            "1334/1334 [==============================] - 12s 9ms/step - loss: 0.5093 - accuracy: 0.7296 - val_loss: 0.5130 - val_accuracy: 0.7234\n",
            "Epoch 26/100\n",
            "1334/1334 [==============================] - 13s 9ms/step - loss: 0.5077 - accuracy: 0.7274 - val_loss: 0.5150 - val_accuracy: 0.7183\n",
            "Epoch 27/100\n",
            "1334/1334 [==============================] - 13s 9ms/step - loss: 0.5085 - accuracy: 0.7288 - val_loss: 0.5156 - val_accuracy: 0.7240\n",
            "Epoch 28/100\n",
            "1334/1334 [==============================] - 12s 9ms/step - loss: 0.5101 - accuracy: 0.7291 - val_loss: 0.5174 - val_accuracy: 0.7196\n",
            "Epoch 29/100\n",
            "1334/1334 [==============================] - 12s 9ms/step - loss: 0.5038 - accuracy: 0.7314 - val_loss: 0.5153 - val_accuracy: 0.7228\n",
            "Epoch 30/100\n",
            "1334/1334 [==============================] - 12s 9ms/step - loss: 0.5068 - accuracy: 0.7289 - val_loss: 0.5162 - val_accuracy: 0.7222\n",
            "Epoch 31/100\n",
            "1334/1334 [==============================] - 12s 9ms/step - loss: 0.5030 - accuracy: 0.7315 - val_loss: 0.5145 - val_accuracy: 0.7225\n",
            "Epoch 32/100\n",
            "1334/1334 [==============================] - 12s 9ms/step - loss: 0.5062 - accuracy: 0.7309 - val_loss: 0.5151 - val_accuracy: 0.7249\n",
            "Epoch 33/100\n",
            "1334/1334 [==============================] - 12s 9ms/step - loss: 0.5076 - accuracy: 0.7267 - val_loss: 0.5179 - val_accuracy: 0.7239\n",
            "Epoch 34/100\n",
            "1334/1334 [==============================] - 13s 9ms/step - loss: 0.5098 - accuracy: 0.7248 - val_loss: 0.5183 - val_accuracy: 0.7210\n",
            "Epoch 35/100\n",
            "1334/1334 [==============================] - 12s 9ms/step - loss: 0.5045 - accuracy: 0.7311 - val_loss: 0.5185 - val_accuracy: 0.7214\n",
            "Epoch 36/100\n",
            "1334/1334 [==============================] - 12s 9ms/step - loss: 0.5071 - accuracy: 0.7290 - val_loss: 0.5136 - val_accuracy: 0.7246\n",
            "Epoch 37/100\n",
            "1334/1334 [==============================] - 13s 9ms/step - loss: 0.4981 - accuracy: 0.7342 - val_loss: 0.5129 - val_accuracy: 0.7227\n",
            "Epoch 38/100\n",
            "1334/1334 [==============================] - 12s 9ms/step - loss: 0.4975 - accuracy: 0.7367 - val_loss: 0.5132 - val_accuracy: 0.7245\n",
            "Epoch 39/100\n",
            "1334/1334 [==============================] - 13s 9ms/step - loss: 0.5002 - accuracy: 0.7330 - val_loss: 0.5143 - val_accuracy: 0.7223\n",
            "Epoch 40/100\n",
            "1334/1334 [==============================] - 12s 9ms/step - loss: 0.4982 - accuracy: 0.7339 - val_loss: 0.5172 - val_accuracy: 0.7190\n",
            "Epoch 41/100\n",
            "1334/1334 [==============================] - 12s 9ms/step - loss: 0.4996 - accuracy: 0.7303 - val_loss: 0.5222 - val_accuracy: 0.7225\n",
            "Epoch 42/100\n",
            "1334/1334 [==============================] - 13s 9ms/step - loss: 0.4982 - accuracy: 0.7313 - val_loss: 0.5184 - val_accuracy: 0.7220\n",
            "Epoch 43/100\n",
            "1334/1334 [==============================] - 13s 10ms/step - loss: 0.4988 - accuracy: 0.7363 - val_loss: 0.5252 - val_accuracy: 0.7253\n",
            "Epoch 44/100\n",
            "1334/1334 [==============================] - 13s 10ms/step - loss: 0.4956 - accuracy: 0.7352 - val_loss: 0.5133 - val_accuracy: 0.7240\n",
            "Epoch 45/100\n",
            "1334/1334 [==============================] - 13s 9ms/step - loss: 0.4942 - accuracy: 0.7353 - val_loss: 0.5199 - val_accuracy: 0.7217\n",
            "Epoch 46/100\n",
            "1334/1334 [==============================] - 13s 9ms/step - loss: 0.4936 - accuracy: 0.7386 - val_loss: 0.5168 - val_accuracy: 0.7260\n",
            "Epoch 47/100\n",
            "1334/1334 [==============================] - 13s 9ms/step - loss: 0.4942 - accuracy: 0.7342 - val_loss: 0.5208 - val_accuracy: 0.7192\n",
            "Epoch 48/100\n",
            "1334/1334 [==============================] - 13s 9ms/step - loss: 0.4923 - accuracy: 0.7381 - val_loss: 0.5179 - val_accuracy: 0.7226\n",
            "Epoch 49/100\n",
            "1334/1334 [==============================] - 12s 9ms/step - loss: 0.5002 - accuracy: 0.7330 - val_loss: 0.5205 - val_accuracy: 0.7239\n",
            "Epoch 50/100\n",
            "1334/1334 [==============================] - 13s 9ms/step - loss: 0.4932 - accuracy: 0.7341 - val_loss: 0.5187 - val_accuracy: 0.7235\n",
            "Epoch 51/100\n",
            "1334/1334 [==============================] - 13s 9ms/step - loss: 0.4930 - accuracy: 0.7366 - val_loss: 0.5351 - val_accuracy: 0.7218\n",
            "Epoch 52/100\n",
            "1334/1334 [==============================] - 13s 9ms/step - loss: 0.4993 - accuracy: 0.7354 - val_loss: 0.5169 - val_accuracy: 0.7245\n",
            "Epoch 53/100\n",
            "1334/1334 [==============================] - 13s 9ms/step - loss: 0.4953 - accuracy: 0.7358 - val_loss: 0.5248 - val_accuracy: 0.7255\n",
            "Epoch 54/100\n",
            "1334/1334 [==============================] - 13s 9ms/step - loss: 0.4938 - accuracy: 0.7366 - val_loss: 0.5196 - val_accuracy: 0.7243\n",
            "Epoch 55/100\n",
            "1334/1334 [==============================] - 13s 10ms/step - loss: 0.4955 - accuracy: 0.7348 - val_loss: 0.5230 - val_accuracy: 0.7217\n",
            "Epoch 56/100\n",
            "1334/1334 [==============================] - 13s 9ms/step - loss: 0.4866 - accuracy: 0.7426 - val_loss: 0.5191 - val_accuracy: 0.7206\n",
            "Epoch 57/100\n",
            "1334/1334 [==============================] - 13s 9ms/step - loss: 0.4920 - accuracy: 0.7366 - val_loss: 0.5399 - val_accuracy: 0.7237\n",
            "Epoch 58/100\n",
            "1334/1334 [==============================] - 13s 10ms/step - loss: 0.4944 - accuracy: 0.7369 - val_loss: 0.5235 - val_accuracy: 0.7254\n",
            "Epoch 59/100\n",
            "1334/1334 [==============================] - 13s 9ms/step - loss: 0.4899 - accuracy: 0.7373 - val_loss: 0.5211 - val_accuracy: 0.7227\n",
            "Epoch 60/100\n",
            "1334/1334 [==============================] - 13s 9ms/step - loss: 0.4894 - accuracy: 0.7382 - val_loss: 0.5244 - val_accuracy: 0.7243\n",
            "Epoch 61/100\n",
            "1334/1334 [==============================] - 13s 9ms/step - loss: 0.4900 - accuracy: 0.7358 - val_loss: 0.5221 - val_accuracy: 0.7194\n",
            "Epoch 62/100\n",
            "1334/1334 [==============================] - 12s 9ms/step - loss: 0.4897 - accuracy: 0.7350 - val_loss: 0.5249 - val_accuracy: 0.7247\n",
            "Epoch 63/100\n",
            "1334/1334 [==============================] - 13s 9ms/step - loss: 0.4906 - accuracy: 0.7368 - val_loss: 0.5244 - val_accuracy: 0.7228\n",
            "Epoch 64/100\n",
            "1334/1334 [==============================] - 13s 9ms/step - loss: 0.4883 - accuracy: 0.7403 - val_loss: 0.5315 - val_accuracy: 0.7216\n",
            "Epoch 65/100\n",
            "1334/1334 [==============================] - 13s 10ms/step - loss: 0.4883 - accuracy: 0.7413 - val_loss: 0.5263 - val_accuracy: 0.7187\n",
            "Epoch 66/100\n",
            "1334/1334 [==============================] - 13s 9ms/step - loss: 0.4842 - accuracy: 0.7427 - val_loss: 0.5253 - val_accuracy: 0.7232\n",
            "Epoch 67/100\n",
            "1334/1334 [==============================] - 13s 10ms/step - loss: 0.4862 - accuracy: 0.7389 - val_loss: 0.5379 - val_accuracy: 0.7236\n",
            "Epoch 68/100\n",
            "1334/1334 [==============================] - 13s 10ms/step - loss: 0.4857 - accuracy: 0.7404 - val_loss: 0.5303 - val_accuracy: 0.7226\n",
            "Epoch 69/100\n",
            "1334/1334 [==============================] - 12s 9ms/step - loss: 0.4867 - accuracy: 0.7389 - val_loss: 0.5258 - val_accuracy: 0.7219\n",
            "Epoch 70/100\n",
            "1334/1334 [==============================] - 13s 10ms/step - loss: 0.4852 - accuracy: 0.7387 - val_loss: 0.5234 - val_accuracy: 0.7225\n",
            "Epoch 71/100\n",
            "1334/1334 [==============================] - 13s 10ms/step - loss: 0.4806 - accuracy: 0.7461 - val_loss: 0.5263 - val_accuracy: 0.7230\n",
            "Epoch 72/100\n",
            "1334/1334 [==============================] - 13s 9ms/step - loss: 0.4848 - accuracy: 0.7413 - val_loss: 0.5427 - val_accuracy: 0.7240\n",
            "Epoch 73/100\n",
            "1334/1334 [==============================] - 13s 9ms/step - loss: 0.4840 - accuracy: 0.7404 - val_loss: 0.5241 - val_accuracy: 0.7241\n",
            "Epoch 74/100\n",
            "1334/1334 [==============================] - 13s 10ms/step - loss: 0.4851 - accuracy: 0.7429 - val_loss: 0.5228 - val_accuracy: 0.7238\n",
            "Epoch 75/100\n",
            "1334/1334 [==============================] - 13s 9ms/step - loss: 0.4826 - accuracy: 0.7414 - val_loss: 0.5290 - val_accuracy: 0.7192\n",
            "Epoch 76/100\n",
            "1334/1334 [==============================] - 13s 9ms/step - loss: 0.4804 - accuracy: 0.7435 - val_loss: 0.5286 - val_accuracy: 0.7235\n",
            "Epoch 77/100\n",
            "1334/1334 [==============================] - 13s 9ms/step - loss: 0.4851 - accuracy: 0.7389 - val_loss: 0.5320 - val_accuracy: 0.7233\n",
            "Epoch 78/100\n",
            "1334/1334 [==============================] - 13s 9ms/step - loss: 0.4828 - accuracy: 0.7403 - val_loss: 0.5214 - val_accuracy: 0.7223\n",
            "Epoch 79/100\n",
            "1334/1334 [==============================] - 13s 9ms/step - loss: 0.4776 - accuracy: 0.7400 - val_loss: 0.5462 - val_accuracy: 0.7228\n",
            "Epoch 80/100\n",
            "1334/1334 [==============================] - 13s 10ms/step - loss: 0.4806 - accuracy: 0.7452 - val_loss: 0.5384 - val_accuracy: 0.7216\n",
            "Epoch 81/100\n",
            "1334/1334 [==============================] - 14s 10ms/step - loss: 0.4803 - accuracy: 0.7463 - val_loss: 0.5314 - val_accuracy: 0.7226\n",
            "Epoch 82/100\n",
            "1334/1334 [==============================] - 13s 10ms/step - loss: 0.4798 - accuracy: 0.7453 - val_loss: 0.5286 - val_accuracy: 0.7230\n",
            "Epoch 83/100\n",
            "1334/1334 [==============================] - 13s 10ms/step - loss: 0.4807 - accuracy: 0.7431 - val_loss: 0.5429 - val_accuracy: 0.7230\n",
            "Epoch 84/100\n",
            "1334/1334 [==============================] - 13s 9ms/step - loss: 0.4797 - accuracy: 0.7429 - val_loss: 0.5316 - val_accuracy: 0.7213\n",
            "Epoch 85/100\n",
            "1334/1334 [==============================] - 13s 9ms/step - loss: 0.4798 - accuracy: 0.7429 - val_loss: 0.5293 - val_accuracy: 0.7209\n",
            "Epoch 86/100\n",
            "1334/1334 [==============================] - 13s 10ms/step - loss: 0.4759 - accuracy: 0.7444 - val_loss: 0.5243 - val_accuracy: 0.7245\n",
            "Epoch 87/100\n",
            "1334/1334 [==============================] - 13s 9ms/step - loss: 0.4769 - accuracy: 0.7485 - val_loss: 0.5402 - val_accuracy: 0.7209\n",
            "Epoch 88/100\n",
            "1334/1334 [==============================] - 13s 9ms/step - loss: 0.4742 - accuracy: 0.7466 - val_loss: 0.5493 - val_accuracy: 0.7215\n",
            "Epoch 89/100\n",
            "1334/1334 [==============================] - 13s 10ms/step - loss: 0.4800 - accuracy: 0.7454 - val_loss: 0.5372 - val_accuracy: 0.7207\n",
            "Epoch 90/100\n",
            "1334/1334 [==============================] - 13s 9ms/step - loss: 0.4744 - accuracy: 0.7449 - val_loss: 0.5459 - val_accuracy: 0.7192\n",
            "Epoch 91/100\n",
            "1334/1334 [==============================] - 13s 10ms/step - loss: 0.4771 - accuracy: 0.7456 - val_loss: 0.5284 - val_accuracy: 0.7226\n",
            "Epoch 92/100\n",
            "1334/1334 [==============================] - 13s 10ms/step - loss: 0.4819 - accuracy: 0.7424 - val_loss: 0.5326 - val_accuracy: 0.7154\n",
            "Epoch 93/100\n",
            "1334/1334 [==============================] - 13s 10ms/step - loss: 0.4752 - accuracy: 0.7439 - val_loss: 0.5380 - val_accuracy: 0.7231\n",
            "Epoch 94/100\n",
            "1334/1334 [==============================] - 13s 9ms/step - loss: 0.4771 - accuracy: 0.7434 - val_loss: 0.5363 - val_accuracy: 0.7189\n",
            "Epoch 95/100\n",
            "1334/1334 [==============================] - 13s 9ms/step - loss: 0.4798 - accuracy: 0.7462 - val_loss: 0.5366 - val_accuracy: 0.7212\n",
            "Epoch 96/100\n",
            "1334/1334 [==============================] - 13s 10ms/step - loss: 0.4740 - accuracy: 0.7453 - val_loss: 0.5272 - val_accuracy: 0.7196\n",
            "Epoch 97/100\n",
            "1334/1334 [==============================] - 13s 9ms/step - loss: 0.4818 - accuracy: 0.7399 - val_loss: 0.5306 - val_accuracy: 0.7199\n",
            "Epoch 98/100\n",
            "1334/1334 [==============================] - 13s 10ms/step - loss: 0.4753 - accuracy: 0.7461 - val_loss: 0.5379 - val_accuracy: 0.7184\n",
            "Epoch 99/100\n",
            "1334/1334 [==============================] - 13s 10ms/step - loss: 0.4720 - accuracy: 0.7509 - val_loss: 0.5303 - val_accuracy: 0.7182\n",
            "Epoch 100/100\n",
            "1334/1334 [==============================] - 13s 9ms/step - loss: 0.4771 - accuracy: 0.7420 - val_loss: 0.5345 - val_accuracy: 0.7222\n",
            "Fold 3, 100 epochs, 1261 sec\n"
          ],
          "name": "stdout"
        },
        {
          "output_type": "display_data",
          "data": {
            "image/png": "[encoded data removed]",
            "text/plain": [
              "<Figure size 576x360 with 1 Axes>"
            ]
          },
          "metadata": {
            "tags": [],
            "needs_background": "light"
          }
        }
      ]
    },
    {
      "cell_type": "code",
      "metadata": {
        "colab": {
          "base_uri": "https://localhost:8080/"
        },
        "id": "e-jG1h5fj2Ua",
        "outputId": "e8021ad3-2089-448e-8cda-75f37582d8ca"
      },
      "source": [
        "from keras.models import load_model\n",
        "X,y = prepare_inputs_len_x_alphabet(pc_test,nc_test,ALPHABET)\n",
        "best_model=load_model(MODELPATH)\n",
        "scores = best_model.evaluate(X, y, verbose=0)\n",
        "print(\"The best model parameters were saved during cross-validation.\")\n",
        "print(\"Best was defined as maximum validation accuracy at end of any epoch.\")\n",
        "print(\"Now re-load the best model and test it on previously unseen data.\")\n",
        "print(\"Test on\",len(pc_test),\"PC seqs\")\n",
        "print(\"Test on\",len(nc_test),\"NC seqs\")\n",
        "print(\"%s: %.2f%%\" % (best_model.metrics_names[1], scores[1]*100))\n"
      ],
      "execution_count": 23,
      "outputs": [
        {
          "output_type": "stream",
          "text": [
            "The best model parameters were saved during cross-validation.\n",
            "Best was defined as maximum validation accuracy at end of any epoch.\n",
            "Now re-load the best model and test it on previously unseen data.\n",
            "Test on 1000 PC seqs\n",
            "Test on 1000 NC seqs\n",
            "accuracy: 72.95%\n"
          ],
          "name": "stdout"
        }
      ]
    },
    {
      "cell_type": "code",
      "metadata": {
        "colab": {
          "base_uri": "https://localhost:8080/",
          "height": 312
        },
        "id": "VycUnmvUj2Ue",
        "outputId": "9bb262b8-e3be-4224-a439-e2c7f244a572"
      },
      "source": [
        "from sklearn.metrics import roc_curve\n",
        "from sklearn.metrics import roc_auc_score\n",
        "ns_probs = [0 for _ in range(len(y))]\n",
        "bm_probs = best_model.predict(X)\n",
        "ns_auc = roc_auc_score(y, ns_probs)\n",
        "bm_auc = roc_auc_score(y, bm_probs)\n",
        "ns_fpr, ns_tpr, _ = roc_curve(y, ns_probs)\n",
        "bm_fpr, bm_tpr, _ = roc_curve(y, bm_probs)\n",
        "plt.plot(ns_fpr, ns_tpr, linestyle='--', label='Guess, auc=%.4f'%ns_auc)\n",
        "plt.plot(bm_fpr, bm_tpr, marker='.', label='Model, auc=%.4f'%bm_auc)\n",
        "plt.title('ROC')\n",
        "plt.xlabel('False Positive Rate')\n",
        "plt.ylabel('True Positive Rate')\n",
        "plt.legend()\n",
        "plt.show()\n",
        "print(\"%s: %.2f%%\" %('AUC',bm_auc*100.0))\n"
      ],
      "execution_count": 24,
      "outputs": [
        {
          "output_type": "display_data",
          "data": {
            "image/png": "[encoded data removed]",
            "text/plain": [
              "<Figure size 432x288 with 1 Axes>"
            ]
          },
          "metadata": {
            "tags": [],
            "needs_background": "light"
          }
        },
        {
          "output_type": "stream",
          "text": [
            "AUC: 80.51%\n"
          ],
          "name": "stdout"
        }
      ]
    },
    {
      "cell_type": "code",
      "metadata": {
        "colab": {
          "base_uri": "https://localhost:8080/",
          "height": 36
        },
        "id": "kFMb6rGNj2Ug",
        "outputId": "d942e1d1-372b-4d40-b800-2aeb64e77516"
      },
      "source": [
        "t = time.time()\n",
        "time.strftime('%Y-%m-%d %H:%M:%S %Z', time.localtime(t))"
      ],
      "execution_count": 25,
      "outputs": [
        {
          "output_type": "execute_result",
          "data": {
            "application/vnd.google.colaboratory.intrinsic+json": {
              "type": "string"
            },
            "text/plain": [
              "'2021-06-17 19:36:53 UTC'"
            ]
          },
          "metadata": {
            "tags": []
          },
          "execution_count": 25
        }
      ]
    },
    {
      "cell_type": "code",
      "metadata": {
        "id": "e-mEgDrQjUzF"
      },
      "source": [
        ""
      ],
      "execution_count": 25,
      "outputs": []
    }
  ]
}