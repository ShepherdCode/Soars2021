{
 "cells": [
  {
   "cell_type": "markdown",
   "metadata": {
    "id": "ojm_6E9f9Kcf"
   },
   "source": [
    "# K-mer \n",
    "Move code into SimTools library."
   ]
  },
  {
   "cell_type": "code",
   "execution_count": 1,
   "metadata": {},
   "outputs": [
    {
     "name": "stdout",
     "output_type": "stream",
     "text": [
      "2021-07-07 11:49:14 EDT\n"
     ]
    }
   ],
   "source": [
    "import time\n",
    "def show_time():\n",
    "    t = time.time()\n",
    "    print(time.strftime('%Y-%m-%d %H:%M:%S %Z', time.localtime(t)))\n",
    "show_time()"
   ]
  },
  {
   "cell_type": "code",
   "execution_count": 2,
   "metadata": {},
   "outputs": [],
   "source": [
    "PC_SEQUENCES=32000\n",
    "NC_SEQUENCES=32000\n",
    "RNA_LEN=32\n",
    "CDS_LEN=16"
   ]
  },
  {
   "cell_type": "code",
   "execution_count": 3,
   "metadata": {
    "id": "VQY7aTj29Kch"
   },
   "outputs": [],
   "source": [
    "import numpy as np\n",
    "import pandas as pd\n",
    "import matplotlib.pyplot as plt\n"
   ]
  },
  {
   "cell_type": "code",
   "execution_count": 4,
   "metadata": {},
   "outputs": [
    {
     "name": "stdout",
     "output_type": "stream",
     "text": [
      "CoLab not working. On my PC, use relative paths.\n"
     ]
    }
   ],
   "source": [
    "import sys\n",
    "IN_COLAB = False\n",
    "try:\n",
    "    from google.colab import drive\n",
    "    IN_COLAB = True\n",
    "except:\n",
    "    pass\n",
    "if IN_COLAB:\n",
    "    print(\"On Google CoLab, mount cloud-local file, get our code from GitHub.\")\n",
    "    PATH='/content/drive/'\n",
    "    #drive.mount(PATH,force_remount=True)  # hardly ever need this\n",
    "    #drive.mount(PATH)    # Google will require login credentials\n",
    "    DATAPATH=PATH+'My Drive/data/'  # must end in \"/\"\n",
    "    import requests\n",
    "    r = requests.get('https://raw.githubusercontent.com/ShepherdCode/Soars2021/master/SimTools/RNA_describe.py')\n",
    "    with open('RNA_describe.py', 'w') as f:\n",
    "        f.write(r.text)  \n",
    "    from RNA_describe import Random_Base_Oracle\n",
    "    r = requests.get('https://raw.githubusercontent.com/ShepherdCode/Soars2021/master/SimTools/KmerTools.py')\n",
    "    with open('KmerTools.py', 'w') as f:\n",
    "        f.write(r.text)  \n",
    "    from KmerTools import KmerTools\n",
    "else:\n",
    "        print(\"CoLab not working. On my PC, use relative paths.\")\n",
    "        DATAPATH='data/'  # must end in \"/\"\n",
    "        sys.path.append(\"..\") # append parent dir in order to use sibling dirs\n",
    "        from SimTools.RNA_describe import Random_Base_Oracle\n",
    "        from SimTools.KmerTools import KmerTools\n",
    "MODELPATH=\"BestModel\"  # saved on cloud instance and lost after logout\n",
    "#MODELPATH=DATAPATH+MODELPATH  # saved on Google Drive but requires login"
   ]
  },
  {
   "cell_type": "markdown",
   "metadata": {},
   "source": [
    "## Demo"
   ]
  },
  {
   "cell_type": "markdown",
   "metadata": {},
   "source": [
    "### Use Harvester algorithm"
   ]
  },
  {
   "cell_type": "code",
   "execution_count": 5,
   "metadata": {},
   "outputs": [
    {
     "name": "stdout",
     "output_type": "stream",
     "text": [
      "It took 48 trials to reach 10 per class.\n",
      "It took 139143 trials to reach 32000 per class.\n",
      "Use 32000 PC seqs\n",
      "Use 32000 NC seqs\n"
     ]
    }
   ],
   "source": [
    "rbo=Random_Base_Oracle(RNA_LEN,True)\n",
    "pc_all,nc_all = rbo.get_partitioned_sequences(CDS_LEN,10) # just testing\n",
    "pc_all,nc_all = rbo.get_partitioned_sequences(CDS_LEN,PC_SEQUENCES)\n",
    "print(\"Use\",len(pc_all),\"PC seqs\")\n",
    "print(\"Use\",len(nc_all),\"NC seqs\")"
   ]
  },
  {
   "cell_type": "code",
   "execution_count": 6,
   "metadata": {},
   "outputs": [
    {
     "name": "stdout",
     "output_type": "stream",
     "text": [
      "PC counts:\n",
      " {'A': 283790, 'C': 204475, 'G': 262326, 'T': 273409, 'AA': 69382, 'AC': 50076, 'AG': 61372, 'AT': 94286, 'CA': 53110, 'CC': 45251, 'CG': 44870, 'CT': 53688, 'GA': 75972, 'GC': 56771, 'GG': 57309, 'GT': 64209, 'TA': 75672, 'TC': 45029, 'TG': 91378, 'TT': 53625, 'AAA': 15144, 'AAC': 13515, 'AAG': 13751, 'AAT': 23905, 'ACA': 12480, 'ACC': 10840, 'ACG': 10960, 'ACT': 13247, 'AGA': 15153, 'AGC': 13527, 'AGG': 13695, 'AGT': 15932, 'ATA': 18378, 'ATC': 10897, 'ATG': 49028, 'ATT': 13390, 'CAA': 11407, 'CAC': 9966, 'CAG': 9800, 'CAT': 20441, 'CCA': 11689, 'CCC': 9998, 'CCG': 10019, 'CCT': 12051, 'CGA': 11591, 'CGC': 9883, 'CGG': 10005, 'CGT': 11861, 'CTA': 17500, 'CTC': 9898, 'CTG': 12835, 'CTT': 11909, 'GAA': 17230, 'GAC': 15232, 'GAG': 15233, 'GAT': 25724, 'GCA': 14382, 'GCC': 12906, 'GCG': 12582, 'GCT': 14902, 'GGA': 14642, 'GGC': 12657, 'GGG': 12910, 'GGT': 15112, 'GTA': 19494, 'GTC': 12667, 'GTG': 15068, 'GTT': 14983, 'TAA': 22785, 'TAC': 9857, 'TAG': 21077, 'TAT': 20395, 'TCA': 11673, 'TCC': 10057, 'TCG': 9820, 'TCT': 11965, 'TGA': 31776, 'TGC': 19132, 'TGG': 19219, 'TGT': 19769, 'TTA': 17338, 'TTC': 9954, 'TTG': 12877, 'TTT': 11887}\n",
      "Frequency:\n",
      " {'A': 0.277138671875, 'C': 0.1996826171875, 'G': 0.256177734375, 'T': 0.2670009765625, 'AA': 0.06994153225806451, 'AC': 0.05047983870967742, 'AG': 0.06186693548387097, 'AT': 0.09504637096774193, 'CA': 0.0535383064516129, 'CC': 0.045615927419354836, 'CG': 0.04523185483870968, 'CT': 0.054120967741935484, 'GA': 0.07658467741935483, 'GC': 0.05722883064516129, 'GG': 0.05777116935483871, 'GT': 0.06472681451612904, 'TA': 0.07628225806451613, 'TC': 0.04539213709677419, 'TG': 0.0921149193548387, 'TT': 0.05405745967741935, 'AAA': 0.015775, 'AAC': 0.014078125, 'AAG': 0.014323958333333333, 'AAT': 0.024901041666666665, 'ACA': 0.013, 'ACC': 0.011291666666666667, 'ACG': 0.011416666666666667, 'ACT': 0.013798958333333333, 'AGA': 0.015784375, 'AGC': 0.014090625, 'AGG': 0.014265625, 'AGT': 0.016595833333333334, 'ATA': 0.01914375, 'ATC': 0.011351041666666667, 'ATG': 0.051070833333333336, 'ATT': 0.013947916666666667, 'CAA': 0.011882291666666666, 'CAC': 0.01038125, 'CAG': 0.010208333333333333, 'CAT': 0.021292708333333334, 'CCA': 0.012176041666666667, 'CCC': 0.010414583333333333, 'CCG': 0.010436458333333334, 'CCT': 0.012553125, 'CGA': 0.012073958333333334, 'CGC': 0.010294791666666667, 'CGG': 0.010421875, 'CGT': 0.012355208333333333, 'CTA': 0.018229166666666668, 'CTC': 0.010310416666666667, 'CTG': 0.013369791666666667, 'CTT': 0.012405208333333334, 'GAA': 0.017947916666666668, 'GAC': 0.015866666666666668, 'GAG': 0.015867708333333334, 'GAT': 0.026795833333333335, 'GCA': 0.01498125, 'GCC': 0.01344375, 'GCG': 0.01310625, 'GCT': 0.015522916666666668, 'GGA': 0.015252083333333333, 'GGC': 0.013184375, 'GGG': 0.013447916666666667, 'GGT': 0.015741666666666668, 'GTA': 0.02030625, 'GTC': 0.013194791666666667, 'GTG': 0.015695833333333332, 'GTT': 0.015607291666666667, 'TAA': 0.023734375, 'TAC': 0.010267708333333334, 'TAG': 0.021955208333333334, 'TAT': 0.021244791666666665, 'TCA': 0.012159375, 'TCC': 0.010476041666666666, 'TCG': 0.010229166666666666, 'TCT': 0.012463541666666666, 'TGA': 0.0331, 'TGC': 0.019929166666666668, 'TGG': 0.02001979166666667, 'TGT': 0.020592708333333334, 'TTA': 0.018060416666666666, 'TTC': 0.01036875, 'TTG': 0.013413541666666667, 'TTT': 0.012382291666666666}\n"
     ]
    }
   ],
   "source": [
    "MAX_K = 3\n",
    "tool = KmerTools()\n",
    "pc_counts = tool.make_dict_upto_K(MAX_K)\n",
    "for sample in pc_all:\n",
    "    tool.update_count_one_K(pc_counts,MAX_K,sample,True)\n",
    "tool.harvest_counts_from_K(pc_counts,MAX_K)\n",
    "print(\"PC counts:\\n\",pc_counts)\n",
    "pc_freqs = tool.count_to_frequency(pc_counts,MAX_K)\n",
    "print (\"Frequency:\\n\",pc_freqs)"
   ]
  },
  {
   "cell_type": "code",
   "execution_count": 7,
   "metadata": {},
   "outputs": [
    {
     "name": "stdout",
     "output_type": "stream",
     "text": [
      "NC counts:\n",
      " {'A': 282420, 'C': 209249, 'G': 261038, 'T': 271293, 'AA': 69430, 'AC': 51817, 'AG': 62146, 'AT': 90609, 'CA': 53936, 'CC': 46568, 'CG': 47001, 'CT': 53990, 'GA': 74388, 'GC': 56483, 'GG': 56627, 'GT': 65503, 'TA': 74875, 'TC': 47051, 'TG': 87823, 'TT': 53753, 'AAA': 15779, 'AAC': 14121, 'AAG': 14084, 'AAT': 22990, 'ACA': 13437, 'ACC': 11452, 'ACG': 11671, 'ACT': 13134, 'AGA': 15932, 'AGC': 14022, 'AGG': 13953, 'AGT': 15784, 'ATA': 18382, 'ATC': 11844, 'ATG': 45043, 'ATT': 13265, 'CAA': 12060, 'CAC': 10357, 'CAG': 10345, 'CAT': 19334, 'CCA': 11960, 'CCC': 10241, 'CCG': 10362, 'CCT': 12214, 'CGA': 12230, 'CGC': 10501, 'CGG': 10350, 'CGT': 12065, 'CTA': 16936, 'CTC': 10360, 'CTG': 12683, 'CTT': 12135, 'GAA': 16926, 'GAC': 15357, 'GAG': 15005, 'GAT': 24821, 'GCA': 14241, 'GCC': 12675, 'GCG': 12842, 'GCT': 14794, 'GGA': 14392, 'GGC': 12708, 'GGG': 12876, 'GGT': 14698, 'GTA': 20503, 'GTC': 12753, 'GTG': 15681, 'GTT': 14622, 'TAA': 22524, 'TAC': 10283, 'TAG': 20892, 'TAT': 19333, 'TCA': 12236, 'TCC': 10414, 'TCG': 10424, 'TCT': 12068, 'TGA': 29714, 'TGC': 17511, 'TGG': 17633, 'TGT': 21191, 'TTA': 16998, 'TTC': 10295, 'TTG': 12603, 'TTT': 11961}\n",
      "Frequency:\n",
      " {'A': 0.27580078125, 'C': 0.2043447265625, 'G': 0.254919921875, 'T': 0.2649345703125, 'AA': 0.06998991935483871, 'AC': 0.05223487903225806, 'AG': 0.06264717741935484, 'AT': 0.09133971774193549, 'CA': 0.054370967741935484, 'CC': 0.04694354838709677, 'CG': 0.04738004032258065, 'CT': 0.054425403225806454, 'GA': 0.07498790322580645, 'GC': 0.05693850806451613, 'GG': 0.05708366935483871, 'GT': 0.06603125, 'TA': 0.0754788306451613, 'TC': 0.047430443548387095, 'TG': 0.08853125, 'TT': 0.054186491935483874, 'AAA': 0.016436458333333334, 'AAC': 0.014709375, 'AAG': 0.014670833333333333, 'AAT': 0.023947916666666666, 'ACA': 0.013996875, 'ACC': 0.011929166666666666, 'ACG': 0.012157291666666667, 'ACT': 0.01368125, 'AGA': 0.016595833333333334, 'AGC': 0.01460625, 'AGG': 0.014534375, 'AGT': 0.016441666666666667, 'ATA': 0.019147916666666667, 'ATC': 0.0123375, 'ATG': 0.04691979166666667, 'ATT': 0.013817708333333333, 'CAA': 0.0125625, 'CAC': 0.010788541666666667, 'CAG': 0.010776041666666666, 'CAT': 0.020139583333333332, 'CCA': 0.012458333333333333, 'CCC': 0.010667708333333333, 'CCG': 0.01079375, 'CCT': 0.012722916666666667, 'CGA': 0.012739583333333334, 'CGC': 0.010938541666666666, 'CGG': 0.01078125, 'CGT': 0.012567708333333334, 'CTA': 0.017641666666666667, 'CTC': 0.010791666666666666, 'CTG': 0.013211458333333334, 'CTT': 0.012640625, 'GAA': 0.01763125, 'GAC': 0.015996875, 'GAG': 0.015630208333333333, 'GAT': 0.025855208333333334, 'GCA': 0.014834375, 'GCC': 0.013203125, 'GCG': 0.013377083333333333, 'GCT': 0.015410416666666666, 'GGA': 0.014991666666666667, 'GGC': 0.0132375, 'GGG': 0.0134125, 'GGT': 0.015310416666666667, 'GTA': 0.021357291666666667, 'GTC': 0.013284375, 'GTG': 0.016334375, 'GTT': 0.01523125, 'TAA': 0.0234625, 'TAC': 0.010711458333333333, 'TAG': 0.0217625, 'TAT': 0.020138541666666666, 'TCA': 0.012745833333333333, 'TCC': 0.010847916666666667, 'TCG': 0.010858333333333333, 'TCT': 0.012570833333333333, 'TGA': 0.030952083333333335, 'TGC': 0.018240625, 'TGG': 0.018367708333333333, 'TGT': 0.022073958333333334, 'TTA': 0.01770625, 'TTC': 0.010723958333333334, 'TTG': 0.013128125, 'TTT': 0.012459375}\n"
     ]
    }
   ],
   "source": [
    "nc_counts = tool.make_dict_upto_K(MAX_K)\n",
    "for sample in nc_all:\n",
    "    tool.update_count_one_K(nc_counts,MAX_K,sample,True)\n",
    "tool.harvest_counts_from_K(nc_counts,MAX_K)\n",
    "print(\"NC counts:\\n\",nc_counts)\n",
    "nc_freqs = tool.count_to_frequency(nc_counts,MAX_K)\n",
    "print (\"Frequency:\\n\",nc_freqs)"
   ]
  },
  {
   "cell_type": "code",
   "execution_count": null,
   "metadata": {},
   "outputs": [],
   "source": []
  }
 ],
 "metadata": {
  "accelerator": "GPU",
  "colab": {
   "collapsed_sections": [],
   "name": "MLP_205.ipynb",
   "provenance": [],
   "toc_visible": true
  },
  "kernelspec": {
   "display_name": "Python 3",
   "language": "python",
   "name": "python3"
  },
  "language_info": {
   "codemirror_mode": {
    "name": "ipython",
    "version": 3
   },
   "file_extension": ".py",
   "mimetype": "text/x-python",
   "name": "python",
   "nbconvert_exporter": "python",
   "pygments_lexer": "ipython3",
   "version": "3.8.3"
  }
 },
 "nbformat": 4,
 "nbformat_minor": 1
}
