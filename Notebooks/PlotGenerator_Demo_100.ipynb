{
  "nbformat": 4,
  "nbformat_minor": 0,
  "metadata": {
    "colab": {
      "name": "PlotGenerator_Demo_100.ipynb",
      "provenance": [],
      "collapsed_sections": []
    },
    "kernelspec": {
      "name": "python3",
      "display_name": "Python 3"
    },
    "language_info": {
      "name": "python"
    }
  },
  "cells": [
    {
      "cell_type": "markdown",
      "metadata": {
        "id": "EPFXl5zPSYHk"
      },
      "source": [
        "# PlotGenerator Demo\n",
        "A demonstration of PlotGenerator.\n",
        "\n",
        "---"
      ]
    },
    {
      "cell_type": "markdown",
      "metadata": {
        "id": "aOm5iC3hSqU5"
      },
      "source": [
        "# Import Modules\n",
        "\n",
        "---"
      ]
    },
    {
      "cell_type": "code",
      "metadata": {
        "colab": {
          "base_uri": "https://localhost:8080/"
        },
        "id": "kEBby3uxSHnK",
        "outputId": "b367bc82-2b98-43da-f371-a59f7f8d9a06"
      },
      "source": [
        "import numpy as np\n",
        "import gzip\n",
        "import sys\n",
        "try:\n",
        "    from google.colab import drive\n",
        "    IN_COLAB = True\n",
        "    print(\"On Google CoLab, mount cloud-local file, get our code from GitHub.\")\n",
        "    PATH='/content/drive/'\n",
        "    #drive.mount(PATH,force_remount=True)  # hardly ever need this\n",
        "    drive.mount(PATH)    # Google will require login credentials\n",
        "    DATAPATH=PATH+'My Drive/data/'  # must end in \"/\"\n",
        "    import requests\n",
        "    s = requests.get('https://raw.githubusercontent.com/ShepherdCode/Soars2021/master/SimTools/plot_generator.py')\n",
        "    with open('plot_generator.py', 'w') as f:\n",
        "      f.write(s.text)\n",
        "    from plot_generator import *\n",
        "except:\n",
        "    print(\"CoLab not working. On my PC, use relative paths.\")\n",
        "    IN_COLAB = False\n",
        "    DATAPATH='../data/'  # must end in \"/\"\n",
        "    sys.path.append(\"..\") # append parent dir in order to use sibling dirs\n",
        "    from SimTools.plot_generator import *"
      ],
      "execution_count": 9,
      "outputs": [
        {
          "output_type": "stream",
          "text": [
            "On Google CoLab, mount cloud-local file, get our code from GitHub.\n",
            "Drive already mounted at /content/drive/; to attempt to forcibly remount, call drive.mount(\"/content/drive/\", force_remount=True).\n"
          ],
          "name": "stdout"
        }
      ]
    },
    {
      "cell_type": "markdown",
      "metadata": {
        "id": "uNWjWAXeTFlX"
      },
      "source": [
        "# Load or generate data\n",
        "For this example we will be generating random data.\n",
        "\n",
        "---"
      ]
    },
    {
      "cell_type": "code",
      "metadata": {
        "colab": {
          "base_uri": "https://localhost:8080/"
        },
        "id": "tG3BR_VXTuu2",
        "outputId": "7546bd0b-ad4b-4fcc-c1a4-4f06e1b68a5f"
      },
      "source": [
        "#Box plot data\n",
        "DIMENSIONS = 10\n",
        "DATA_A_COUNT = 10\n",
        "DATA_B_COUNT = 20\n",
        "\n",
        "boxplot_data_a = np.random.rand(DIMENSIONS, DATA_A_COUNT)\n",
        "boxplot_data_b = np.random.rand(DIMENSIONS, DATA_B_COUNT)\n",
        "print(boxplot_data_b.shape)\n",
        "\n",
        "#PlotGenerator.box_plot() fails on the data above but works on the data below\n",
        "#This is weird because it is effectively the same data\n",
        "#The issue has to do with positions. \n",
        "#It thinks that data set a will have different positions length than data set b\n",
        "#This is despite the fact that positions length = DIMENSIONS * NUMBER OF DATA SETS = 10 * 2\n",
        "#Will need to fix.\n",
        "boxplot_data_a = np.empty(DIMENSIONS, dtype=object)\n",
        "boxplot_data_b = np.empty(DIMENSIONS, dtype=object)\n",
        "for d in range(0, DIMENSIONS):\n",
        "  boxplot_data_a[d] = np.random.rand(DATA_A_COUNT)\n",
        "  boxplot_data_b[d] = np.random.rand(DATA_B_COUNT)\n",
        "\n",
        "print(boxplot_data_b.shape)"
      ],
      "execution_count": 10,
      "outputs": [
        {
          "output_type": "stream",
          "text": [
            "(10, 20)\n",
            "(10,)\n"
          ],
          "name": "stdout"
        }
      ]
    },
    {
      "cell_type": "code",
      "metadata": {
        "id": "Z9ohjGakhe2M"
      },
      "source": [
        "#Bar plot data\n",
        "SIZE = 6\n",
        "barplot_data_a = np.random.rand(SIZE)\n",
        "barplot_data_b = np.random.rand(SIZE)\n",
        "barplot_data_c = np.random.rand(SIZE)"
      ],
      "execution_count": 11,
      "outputs": []
    },
    {
      "cell_type": "markdown",
      "metadata": {
        "id": "KwOxVZGIUCPV"
      },
      "source": [
        "# Plot the data\n",
        "\n",
        "---"
      ]
    },
    {
      "cell_type": "markdown",
      "metadata": {
        "id": "hHxlTAlSWBG6"
      },
      "source": [
        "Set up plot generator"
      ]
    },
    {
      "cell_type": "code",
      "metadata": {
        "id": "cFLHCs7ZV67_"
      },
      "source": [
        "pg = PlotGenerator()\n",
        "pg.set_text_options(45, 'right', 0, 'center')"
      ],
      "execution_count": 12,
      "outputs": []
    },
    {
      "cell_type": "markdown",
      "metadata": {
        "id": "x8OnmZMcUVuO"
      },
      "source": [
        "Create box plot labels and names"
      ]
    },
    {
      "cell_type": "code",
      "metadata": {
        "id": "zz5zWMy3UOJh"
      },
      "source": [
        "\n",
        "title = 'Example Box Plot'\n",
        "x_label = 'Subsets/Bins'\n",
        "y_label = 'y'\n",
        "x_axis_labels = ['0', '1', '2', '3', '4', '5', '6', '7', '8', '9'] #The length must equal the dimensions of the data sets\n",
        "y_axis_labels = None\n",
        "data_set_names = ['A', 'B']"
      ],
      "execution_count": 13,
      "outputs": []
    },
    {
      "cell_type": "markdown",
      "metadata": {
        "id": "Oi35zr_LWJOb"
      },
      "source": [
        "Generate box plot"
      ]
    },
    {
      "cell_type": "code",
      "metadata": {
        "colab": {
          "base_uri": "https://localhost:8080/",
          "height": 309
        },
        "id": "Dl-fnmO3WMSH",
        "outputId": "95ebfc3b-d682-4d96-8555-76708eab84c3"
      },
      "source": [
        "#Box plot\n",
        "pg.set_text(title, x_label, y_label, x_axis_labels, y_axis_labels)\n",
        "show_fliers = False #Whether or not outliers should be plotted\n",
        "pg.box_plot([boxplot_data_a, boxplot_data_b], data_set_names, show_fliers)"
      ],
      "execution_count": 14,
      "outputs": [
        {
          "output_type": "display_data",
          "data": {
            "image/png": "[encoded data removed]",
            "text/plain": [
              "<Figure size 432x288 with 1 Axes>"
            ]
          },
          "metadata": {
            "tags": [],
            "needs_background": "light"
          }
        }
      ]
    },
    {
      "cell_type": "markdown",
      "metadata": {
        "id": "A7VveMWIdwK5"
      },
      "source": [
        "Note how for each label on the x-axis, it has the name of the corresponding data set name.\n",
        "\n",
        "It does this automatically so all you need to provide is the name of each bin/subset and the name of each set.\n",
        "\n",
        "It also color codes each data set. However, the number of colors is limited. So, by extension the number data sets you can compare is limited. \n",
        "\n",
        "Specifically, there are 10 colors so you can compare 10 data sets."
      ]
    },
    {
      "cell_type": "markdown",
      "metadata": {
        "id": "kxhX8s_ih_De"
      },
      "source": [
        "Create bar plot labels and names"
      ]
    },
    {
      "cell_type": "code",
      "metadata": {
        "id": "_wh-81hihccO"
      },
      "source": [
        "title = 'Example Bar Plot'\n",
        "x_label = 'Subsets/Bins'\n",
        "y_label = 'y'\n",
        "x_axis_labels = ['1', '2', '3', '4', '5', '6']\n",
        "y_axis_labels = None\n",
        "data_set_names = ['A', 'B', 'C']"
      ],
      "execution_count": 15,
      "outputs": []
    },
    {
      "cell_type": "markdown",
      "metadata": {
        "id": "pXKQ_O0AiWJD"
      },
      "source": [
        "Generate bar plot"
      ]
    },
    {
      "cell_type": "code",
      "metadata": {
        "colab": {
          "base_uri": "https://localhost:8080/",
          "height": 309
        },
        "id": "FkePHn1EiYsp",
        "outputId": "c786b809-9367-4c04-eb28-6b3019f4cd7f"
      },
      "source": [
        "pg.set_text(title, x_label, y_label, x_axis_labels, y_axis_labels)\n",
        "pg.bar_plot([barplot_data_a, barplot_data_b, barplot_data_c], data_set_names)"
      ],
      "execution_count": 16,
      "outputs": [
        {
          "output_type": "display_data",
          "data": {
            "image/png": "[encoded data removed]",
            "text/plain": [
              "<Figure size 432x288 with 1 Axes>"
            ]
          },
          "metadata": {
            "tags": [],
            "needs_background": "light"
          }
        }
      ]
    },
    {
      "cell_type": "markdown",
      "metadata": {
        "id": "BRekE4FUmfj5"
      },
      "source": [
        "# To-do list for improving PlotGenerator\n",
        "\n",
        "-Assert the number of x-axis labels equals each subset size\n",
        "\n",
        "-Fix issue with box plot failing when passed certain data structures\n",
        "\n",
        "-Prevent overlapping with axis labels"
      ]
    }
  ]
}