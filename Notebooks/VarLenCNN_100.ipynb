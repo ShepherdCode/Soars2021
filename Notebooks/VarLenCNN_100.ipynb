{
 "cells": [
  {
   "cell_type": "markdown",
   "metadata": {},
   "source": [
    "# Variable Length CNN\n",
    "In theory, a CNN can operate on inputs of variable dimensions.\n",
    "In practice, the model is compiled to a specific input dimension.\n",
    "\n",
    "Here, work out how to feed the CNN on sequences of different length.\n",
    "Center the real bases within padding bases.\n",
    "For example, 'A'=[1,0,0,0] and 'N'=[0,0,0,0].\n",
    "\n",
    "Organize training sequences so batches are of similar length.\n",
    "May need to implement a per-batch callback mechanism."
   ]
  },
  {
   "cell_type": "code",
   "execution_count": null,
   "metadata": {},
   "outputs": [],
   "source": []
  }
 ],
 "metadata": {
  "kernelspec": {
   "display_name": "Python 3",
   "language": "python",
   "name": "python3"
  },
  "language_info": {
   "codemirror_mode": {
    "name": "ipython",
    "version": 3
   },
   "file_extension": ".py",
   "mimetype": "text/x-python",
   "name": "python",
   "nbconvert_exporter": "python",
   "pygments_lexer": "ipython3",
   "version": "3.8.3"
  }
 },
 "nbformat": 4,
 "nbformat_minor": 2
}
