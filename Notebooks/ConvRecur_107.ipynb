{
  "nbformat": 4,
  "nbformat_minor": 0,
  "metadata": {
    "accelerator": "GPU",
    "colab": {
      "name": "ConvRecur_107.ipynb",
      "provenance": [],
      "collapsed_sections": []
    },
    "kernelspec": {
      "display_name": "Python 3",
      "language": "python",
      "name": "python3"
    },
    "language_info": {
      "codemirror_mode": {
        "name": "ipython",
        "version": 3
      },
      "file_extension": ".py",
      "mimetype": "text/x-python",
      "name": "python",
      "nbconvert_exporter": "python",
      "pygments_lexer": "ipython3",
      "version": "3.8.3"
    }
  },
  "cells": [
    {
      "cell_type": "markdown",
      "metadata": {
        "id": "0asdcdunj2Tx"
      },
      "source": [
        "# ORF recognition by Convolutional/Recurrent\n",
        "\n",
        "Test CNN+LSTM 32 on simulated RNA of length 64. \n",
        "\n",
        "Use restructured codebase from notebook 105."
      ]
    },
    {
      "cell_type": "code",
      "metadata": {
        "colab": {
          "base_uri": "https://localhost:8080/",
          "height": 36
        },
        "id": "QP1VTRNQj2UO",
        "outputId": "e3a1fdee-f337-49ce-91ea-ba34ea69b894"
      },
      "source": [
        "import time \n",
        "t = time.time()\n",
        "time.strftime('%Y-%m-%d %H:%M:%S %Z', time.localtime(t))"
      ],
      "execution_count": 1,
      "outputs": [
        {
          "output_type": "execute_result",
          "data": {
            "application/vnd.google.colaboratory.intrinsic+json": {
              "type": "string"
            },
            "text/plain": [
              "'2021-06-21 17:00:55 UTC'"
            ]
          },
          "metadata": {
            "tags": []
          },
          "execution_count": 1
        }
      ]
    },
    {
      "cell_type": "code",
      "metadata": {
        "id": "Nhz4GKonj2T_"
      },
      "source": [
        "PC_SEQUENCES=32000   # how many protein-coding sequences\n",
        "NC_SEQUENCES=32000   # how many non-coding sequences\n",
        "PC_TESTS=1000\n",
        "NC_TESTS=1000\n",
        "RNA_LEN=64            # how long is each sequence\n",
        "CDS_LEN=32            # min CDS len to be coding\n",
        "ALPHABET=4          # how many different letters are possible\n",
        "INPUT_SHAPE_2D = (RNA_LEN,ALPHABET,1) # Conv2D needs 3D inputs\n",
        "INPUT_SHAPE = (RNA_LEN,ALPHABET) # Conv1D needs 2D inputs\n",
        "FILTERS = 32   # how many different patterns the model looks for\n",
        "CELLS = 32\n",
        "NEURONS = 32\n",
        "DROP_RATE = 0.4\n",
        "WIDTH = 3   # how wide each pattern is, in bases\n",
        "STRIDE_2D = (1,1)  # For Conv2D how far in each direction\n",
        "STRIDE = 1 # For Conv1D, how far between pattern matches, in bases\n",
        "EPOCHS=100  # how many times to train on all the data\n",
        "SPLITS=3  # SPLITS=3 means train on 2/3 and validate on 1/3 \n",
        "FOLDS=3  # train the model this many times (range 1 to SPLITS)"
      ],
      "execution_count": 2,
      "outputs": []
    },
    {
      "cell_type": "code",
      "metadata": {
        "colab": {
          "base_uri": "https://localhost:8080/"
        },
        "id": "lr7q90rxj2UE",
        "outputId": "1fc7e125-9530-4ff8-fc4a-1ccb0f4f7c6b"
      },
      "source": [
        "import sys\n",
        "IN_COLAB = False\n",
        "try:\n",
        "    from google.colab import drive\n",
        "    IN_COLAB = True\n",
        "except:\n",
        "    pass\n",
        "if IN_COLAB:\n",
        "    print(\"On Google CoLab, mount cloud-local file, get our code from GitHub.\")\n",
        "    PATH='/content/drive/'\n",
        "    #drive.mount(PATH,force_remount=True)  # hardly ever need this\n",
        "    #drive.mount(PATH)    # Google will require login credentials\n",
        "    DATAPATH=PATH+'My Drive/data/'  # must end in \"/\"\n",
        "    import requests\n",
        "    r = requests.get('https://raw.githubusercontent.com/ShepherdCode/Soars2021/master/SimTools/RNA_describe.py')\n",
        "    with open('RNA_describe.py', 'w') as f:\n",
        "        f.write(r.text)  \n",
        "    from RNA_describe import ORF_counter\n",
        "    from RNA_describe import Random_Base_Oracle\n",
        "    r = requests.get('https://raw.githubusercontent.com/ShepherdCode/Soars2021/master/SimTools/RNA_prep.py')\n",
        "    with open('RNA_prep.py', 'w') as f:\n",
        "        f.write(r.text)  \n",
        "    from RNA_prep import prepare_inputs_len_x_alphabet\n",
        "else:\n",
        "        print(\"CoLab not working. On my PC, use relative paths.\")\n",
        "        DATAPATH='data/'  # must end in \"/\"\n",
        "        sys.path.append(\"..\") # append parent dir in order to use sibling dirs\n",
        "        from SimTools.RNA_describe import ORF_counter,Random_Base_Oracle\n",
        "        from SimTools.RNA_prep import prepare_inputs_len_x_alphabet\n",
        "\n",
        "MODELPATH=\"BestModel\"  # saved on cloud instance and lost after logout\n",
        "#MODELPATH=DATAPATH+MODELPATH  # saved on Google Drive but requires login\n"
      ],
      "execution_count": 3,
      "outputs": [
        {
          "output_type": "stream",
          "text": [
            "On Google CoLab, mount cloud-local file, get our code from GitHub.\n"
          ],
          "name": "stdout"
        }
      ]
    },
    {
      "cell_type": "code",
      "metadata": {
        "id": "EGDXH8Uwj2UM"
      },
      "source": [
        "from os import listdir\n",
        "import csv\n",
        "from zipfile import ZipFile\n",
        "\n",
        "import numpy as np\n",
        "import pandas as pd\n",
        "from scipy import stats  # mode\n",
        "\n",
        "from sklearn.preprocessing import StandardScaler\n",
        "from sklearn.model_selection import KFold\n",
        "from sklearn.model_selection import cross_val_score\n",
        "\n",
        "from keras.models import Sequential\n",
        "from keras.layers import Dense,Embedding,Dropout\n",
        "from keras.layers import Conv1D,Conv2D\n",
        "from keras.layers import GRU,LSTM\n",
        "from keras.layers import Flatten,TimeDistributed\n",
        "from keras.layers import MaxPooling1D,MaxPooling2D\n",
        "from keras.losses import BinaryCrossentropy\n",
        "# tf.keras.losses.BinaryCrossentropy\n",
        "\n",
        "import matplotlib.pyplot as plt\n",
        "from matplotlib import colors\n",
        "mycmap = colors.ListedColormap(['red','blue'])  # list color for label 0 then 1\n",
        "np.set_printoptions(precision=2)\n"
      ],
      "execution_count": 4,
      "outputs": []
    },
    {
      "cell_type": "code",
      "metadata": {
        "colab": {
          "base_uri": "https://localhost:8080/"
        },
        "id": "CUOG_jEvGtOm",
        "outputId": "37fefd99-22f2-4ef2-d4ad-146054f1ae11"
      },
      "source": [
        "rbo=Random_Base_Oracle(RNA_LEN,True)\n",
        "pc_all,nc_all = rbo.get_partitioned_sequences(CDS_LEN,10) # just testing\n",
        "pc_all,nc_all = rbo.get_partitioned_sequences(CDS_LEN,PC_SEQUENCES+PC_TESTS)\n",
        "print(\"Use\",len(pc_all),\"PC seqs\")\n",
        "print(\"Use\",len(nc_all),\"NC seqs\")"
      ],
      "execution_count": 5,
      "outputs": [
        {
          "output_type": "stream",
          "text": [
            "It took 30 trials to reach 10 per class.\n",
            "It took 104074 trials to reach 33000 per class.\n",
            "Use 33000 PC seqs\n",
            "Use 33000 NC seqs\n"
          ],
          "name": "stdout"
        }
      ]
    },
    {
      "cell_type": "code",
      "metadata": {
        "colab": {
          "base_uri": "https://localhost:8080/"
        },
        "id": "Q-BmSXi2jUyl",
        "outputId": "10555a06-e1d7-45a9-fbea-66ef71a36639"
      },
      "source": [
        "# Describe the sequences\n",
        "def describe_sequences(list_of_seq):\n",
        "    oc = ORF_counter()\n",
        "    num_seq = len(list_of_seq)\n",
        "    rna_lens = np.zeros(num_seq)\n",
        "    orf_lens = np.zeros(num_seq)\n",
        "    for i in range(0,num_seq):\n",
        "        rna_len = len(list_of_seq[i])\n",
        "        rna_lens[i] = rna_len\n",
        "        oc.set_sequence(list_of_seq[i])\n",
        "        orf_len = oc.get_max_orf_len()\n",
        "        orf_lens[i] = orf_len\n",
        "    print (\"Average RNA length:\",rna_lens.mean())\n",
        "    print (\"Average ORF length:\",orf_lens.mean())\n",
        "    \n",
        "print(\"Simulated sequences prior to adjustment:\")\n",
        "print(\"PC seqs\")\n",
        "describe_sequences(pc_all)\n",
        "print(\"NC seqs\")\n",
        "describe_sequences(nc_all)"
      ],
      "execution_count": 6,
      "outputs": [
        {
          "output_type": "stream",
          "text": [
            "Simulated sequences prior to adjustment:\n",
            "PC seqs\n",
            "Average RNA length: 64.0\n",
            "Average ORF length: 38.33445454545455\n",
            "NC seqs\n",
            "Average RNA length: 64.0\n",
            "Average ORF length: 8.254545454545454\n"
          ],
          "name": "stdout"
        }
      ]
    },
    {
      "cell_type": "code",
      "metadata": {
        "id": "iP1y7-J3jUys"
      },
      "source": [
        "pc_train=pc_all[:PC_SEQUENCES]\n",
        "nc_train=nc_all[:NC_SEQUENCES]\n",
        "pc_test=pc_all[PC_SEQUENCES:]\n",
        "nc_test=nc_all[NC_SEQUENCES:]"
      ],
      "execution_count": 7,
      "outputs": []
    },
    {
      "cell_type": "code",
      "metadata": {
        "colab": {
          "base_uri": "https://localhost:8080/"
        },
        "id": "CIpTrnH6j2US",
        "outputId": "8dda46c4-6dab-4022-f144-e34b81722462"
      },
      "source": [
        "# Use code from our SimTools library.\n",
        "X,y = prepare_inputs_len_x_alphabet(pc_train,nc_train,ALPHABET) # shuffles\n",
        "print(\"Data ready.\")"
      ],
      "execution_count": 8,
      "outputs": [
        {
          "output_type": "stream",
          "text": [
            "Data ready.\n"
          ],
          "name": "stdout"
        }
      ]
    },
    {
      "cell_type": "code",
      "metadata": {
        "colab": {
          "base_uri": "https://localhost:8080/"
        },
        "id": "7NvrVU8ij2UU",
        "outputId": "ec96c250-8a8e-4042-b236-5ff9cb8fec77"
      },
      "source": [
        "def make_DNN():\n",
        "    print(\"make_DNN\")\n",
        "    print(\"input shape:\",INPUT_SHAPE)\n",
        "    dnn = Sequential()\n",
        "    #dnn.add(Embedding(input_dim=INPUT_SHAPE,output_dim=INPUT_SHAPE)) \n",
        "    dnn.add(Conv1D(filters=FILTERS,kernel_size=WIDTH,strides=STRIDE,padding=\"same\",\n",
        "            input_shape=INPUT_SHAPE))\n",
        "    dnn.add(Conv1D(filters=FILTERS,kernel_size=WIDTH,strides=STRIDE,padding=\"same\"))\n",
        "    dnn.add(MaxPooling1D())\n",
        "    #dnn.add(Conv1D(filters=FILTERS,kernel_size=WIDTH,strides=STRIDE,padding=\"same\"))\n",
        "    #dnn.add(Conv1D(filters=FILTERS,kernel_size=WIDTH,strides=STRIDE,padding=\"same\"))\n",
        "    #dnn.add(MaxPooling1D())\n",
        "    #dnn.add(TimeDistributed(Flatten()))\n",
        "    dnn.add(GRU(CELLS,return_sequences=True))\n",
        "    dnn.add(GRU(CELLS,return_sequences=False))\n",
        "    dnn.add(Dense(NEURONS,activation=\"sigmoid\",dtype=np.float32))   \n",
        "    dnn.add(Dropout(DROP_RATE))\n",
        "    dnn.add(Dense(1,activation=\"sigmoid\",dtype=np.float32))   \n",
        "    dnn.compile(optimizer='adam',\n",
        "                loss=BinaryCrossentropy(from_logits=False),\n",
        "                metrics=['accuracy'])   # add to default metrics=loss\n",
        "    dnn.build(input_shape=INPUT_SHAPE)\n",
        "    #ln_rate = tf.keras.optimizers.Adam(learning_rate = LN_RATE)\n",
        "    #bc=tf.keras.losses.BinaryCrossentropy(from_logits=False)\n",
        "    #model.compile(loss=bc, optimizer=ln_rate, metrics=[\"accuracy\"])\n",
        "    return dnn\n",
        "model = make_DNN()\n",
        "print(model.summary())"
      ],
      "execution_count": 9,
      "outputs": [
        {
          "output_type": "stream",
          "text": [
            "make_DNN\n",
            "input shape: (64, 4)\n",
            "Model: \"sequential\"\n",
            "_________________________________________________________________\n",
            "Layer (type)                 Output Shape              Param #   \n",
            "=================================================================\n",
            "conv1d (Conv1D)              (None, 64, 32)            416       \n",
            "_________________________________________________________________\n",
            "conv1d_1 (Conv1D)            (None, 64, 32)            3104      \n",
            "_________________________________________________________________\n",
            "max_pooling1d (MaxPooling1D) (None, 32, 32)            0         \n",
            "_________________________________________________________________\n",
            "gru (GRU)                    (None, 32, 32)            6336      \n",
            "_________________________________________________________________\n",
            "gru_1 (GRU)                  (None, 32)                6336      \n",
            "_________________________________________________________________\n",
            "dense (Dense)                (None, 32)                1056      \n",
            "_________________________________________________________________\n",
            "dropout (Dropout)            (None, 32)                0         \n",
            "_________________________________________________________________\n",
            "dense_1 (Dense)              (None, 1)                 33        \n",
            "=================================================================\n",
            "Total params: 17,281\n",
            "Trainable params: 17,281\n",
            "Non-trainable params: 0\n",
            "_________________________________________________________________\n",
            "None\n"
          ],
          "name": "stdout"
        }
      ]
    },
    {
      "cell_type": "code",
      "metadata": {
        "id": "nlVF0hR3j2UW"
      },
      "source": [
        "from keras.callbacks import ModelCheckpoint\n",
        "def do_cross_validation(X,y):\n",
        "    cv_scores = []\n",
        "    fold=0\n",
        "    mycallbacks = [ModelCheckpoint(\n",
        "        filepath=MODELPATH, save_best_only=True, \n",
        "        monitor='val_accuracy', mode='max')]   \n",
        "    splitter = KFold(n_splits=SPLITS)  # this does not shuffle\n",
        "    for train_index,valid_index in splitter.split(X):\n",
        "        if fold < FOLDS:\n",
        "            fold += 1\n",
        "            X_train=X[train_index] # inputs for training\n",
        "            y_train=y[train_index] # labels for training\n",
        "            X_valid=X[valid_index] # inputs for validation\n",
        "            y_valid=y[valid_index] # labels for validation\n",
        "            print(\"MODEL\")\n",
        "            # Call constructor on each CV. Else, continually improves the same model.\n",
        "            model = model = make_DNN()\n",
        "            print(\"FIT\")  # model.fit() implements learning\n",
        "            start_time=time.time()\n",
        "            history=model.fit(X_train, y_train, \n",
        "                    epochs=EPOCHS, \n",
        "                    verbose=1,  # ascii art while learning\n",
        "                    callbacks=mycallbacks,   # called at end of each epoch\n",
        "                    validation_data=(X_valid,y_valid))\n",
        "            end_time=time.time()\n",
        "            elapsed_time=(end_time-start_time)                        \n",
        "            print(\"Fold %d, %d epochs, %d sec\"%(fold,EPOCHS,elapsed_time))\n",
        "            # print(history.history.keys())  # all these keys will be shown in figure\n",
        "            pd.DataFrame(history.history).plot(figsize=(8,5))\n",
        "            plt.grid(True)\n",
        "            plt.gca().set_ylim(0,1) # any losses > 1 will be off the scale\n",
        "            plt.show()\n"
      ],
      "execution_count": 10,
      "outputs": []
    },
    {
      "cell_type": "code",
      "metadata": {
        "colab": {
          "base_uri": "https://localhost:8080/",
          "height": 1000
        },
        "id": "9Ggt4EsSj2UY",
        "outputId": "6b773bf8-06dd-470f-cdf3-782fa9a4a806"
      },
      "source": [
        "do_cross_validation(X,y)"
      ],
      "execution_count": 11,
      "outputs": [
        {
          "output_type": "stream",
          "text": [
            "MODEL\n",
            "make_DNN\n",
            "input shape: (64, 4)\n",
            "FIT\n",
            "Epoch 1/100\n",
            "1334/1334 [==============================] - 36s 11ms/step - loss: 0.6894 - accuracy: 0.5478 - val_loss: 0.6319 - val_accuracy: 0.6342\n"
          ],
          "name": "stdout"
        },
        {
          "output_type": "stream",
          "text": [
            "WARNING:absl:Found untraced functions such as gru_cell_2_layer_call_fn, gru_cell_2_layer_call_and_return_conditional_losses, gru_cell_3_layer_call_fn, gru_cell_3_layer_call_and_return_conditional_losses, gru_cell_2_layer_call_fn while saving (showing 5 of 10). These functions will not be directly callable after loading.\n"
          ],
          "name": "stderr"
        },
        {
          "output_type": "stream",
          "text": [
            "INFO:tensorflow:Assets written to: BestModel/assets\n"
          ],
          "name": "stdout"
        },
        {
          "output_type": "stream",
          "text": [
            "INFO:tensorflow:Assets written to: BestModel/assets\n"
          ],
          "name": "stderr"
        },
        {
          "output_type": "stream",
          "text": [
            "Epoch 2/100\n",
            "1334/1334 [==============================] - 13s 10ms/step - loss: 0.6271 - accuracy: 0.6390 - val_loss: 0.5846 - val_accuracy: 0.6771\n"
          ],
          "name": "stdout"
        },
        {
          "output_type": "stream",
          "text": [
            "WARNING:absl:Found untraced functions such as gru_cell_2_layer_call_fn, gru_cell_2_layer_call_and_return_conditional_losses, gru_cell_3_layer_call_fn, gru_cell_3_layer_call_and_return_conditional_losses, gru_cell_2_layer_call_fn while saving (showing 5 of 10). These functions will not be directly callable after loading.\n"
          ],
          "name": "stderr"
        },
        {
          "output_type": "stream",
          "text": [
            "INFO:tensorflow:Assets written to: BestModel/assets\n"
          ],
          "name": "stdout"
        },
        {
          "output_type": "stream",
          "text": [
            "INFO:tensorflow:Assets written to: BestModel/assets\n"
          ],
          "name": "stderr"
        },
        {
          "output_type": "stream",
          "text": [
            "Epoch 3/100\n",
            "1334/1334 [==============================] - 13s 10ms/step - loss: 0.5823 - accuracy: 0.6822 - val_loss: 0.5743 - val_accuracy: 0.6844\n"
          ],
          "name": "stdout"
        },
        {
          "output_type": "stream",
          "text": [
            "WARNING:absl:Found untraced functions such as gru_cell_2_layer_call_fn, gru_cell_2_layer_call_and_return_conditional_losses, gru_cell_3_layer_call_fn, gru_cell_3_layer_call_and_return_conditional_losses, gru_cell_2_layer_call_fn while saving (showing 5 of 10). These functions will not be directly callable after loading.\n"
          ],
          "name": "stderr"
        },
        {
          "output_type": "stream",
          "text": [
            "INFO:tensorflow:Assets written to: BestModel/assets\n"
          ],
          "name": "stdout"
        },
        {
          "output_type": "stream",
          "text": [
            "INFO:tensorflow:Assets written to: BestModel/assets\n"
          ],
          "name": "stderr"
        },
        {
          "output_type": "stream",
          "text": [
            "Epoch 4/100\n",
            "1334/1334 [==============================] - 13s 10ms/step - loss: 0.5618 - accuracy: 0.6973 - val_loss: 0.5519 - val_accuracy: 0.6981\n"
          ],
          "name": "stdout"
        },
        {
          "output_type": "stream",
          "text": [
            "WARNING:absl:Found untraced functions such as gru_cell_2_layer_call_fn, gru_cell_2_layer_call_and_return_conditional_losses, gru_cell_3_layer_call_fn, gru_cell_3_layer_call_and_return_conditional_losses, gru_cell_2_layer_call_fn while saving (showing 5 of 10). These functions will not be directly callable after loading.\n"
          ],
          "name": "stderr"
        },
        {
          "output_type": "stream",
          "text": [
            "INFO:tensorflow:Assets written to: BestModel/assets\n"
          ],
          "name": "stdout"
        },
        {
          "output_type": "stream",
          "text": [
            "INFO:tensorflow:Assets written to: BestModel/assets\n"
          ],
          "name": "stderr"
        },
        {
          "output_type": "stream",
          "text": [
            "Epoch 5/100\n",
            "1334/1334 [==============================] - 13s 10ms/step - loss: 0.5555 - accuracy: 0.6962 - val_loss: 0.5453 - val_accuracy: 0.7030\n"
          ],
          "name": "stdout"
        },
        {
          "output_type": "stream",
          "text": [
            "WARNING:absl:Found untraced functions such as gru_cell_2_layer_call_fn, gru_cell_2_layer_call_and_return_conditional_losses, gru_cell_3_layer_call_fn, gru_cell_3_layer_call_and_return_conditional_losses, gru_cell_2_layer_call_fn while saving (showing 5 of 10). These functions will not be directly callable after loading.\n"
          ],
          "name": "stderr"
        },
        {
          "output_type": "stream",
          "text": [
            "INFO:tensorflow:Assets written to: BestModel/assets\n"
          ],
          "name": "stdout"
        },
        {
          "output_type": "stream",
          "text": [
            "INFO:tensorflow:Assets written to: BestModel/assets\n"
          ],
          "name": "stderr"
        },
        {
          "output_type": "stream",
          "text": [
            "Epoch 6/100\n",
            "1334/1334 [==============================] - 13s 10ms/step - loss: 0.5464 - accuracy: 0.7051 - val_loss: 0.5439 - val_accuracy: 0.6990\n",
            "Epoch 7/100\n",
            "1334/1334 [==============================] - 13s 10ms/step - loss: 0.5352 - accuracy: 0.7119 - val_loss: 0.5500 - val_accuracy: 0.7054\n"
          ],
          "name": "stdout"
        },
        {
          "output_type": "stream",
          "text": [
            "WARNING:absl:Found untraced functions such as gru_cell_2_layer_call_fn, gru_cell_2_layer_call_and_return_conditional_losses, gru_cell_3_layer_call_fn, gru_cell_3_layer_call_and_return_conditional_losses, gru_cell_2_layer_call_fn while saving (showing 5 of 10). These functions will not be directly callable after loading.\n"
          ],
          "name": "stderr"
        },
        {
          "output_type": "stream",
          "text": [
            "INFO:tensorflow:Assets written to: BestModel/assets\n"
          ],
          "name": "stdout"
        },
        {
          "output_type": "stream",
          "text": [
            "INFO:tensorflow:Assets written to: BestModel/assets\n"
          ],
          "name": "stderr"
        },
        {
          "output_type": "stream",
          "text": [
            "Epoch 8/100\n",
            "1334/1334 [==============================] - 13s 10ms/step - loss: 0.5303 - accuracy: 0.7148 - val_loss: 0.5683 - val_accuracy: 0.6926\n",
            "Epoch 9/100\n",
            "1334/1334 [==============================] - 13s 10ms/step - loss: 0.5240 - accuracy: 0.7201 - val_loss: 0.5389 - val_accuracy: 0.7093\n"
          ],
          "name": "stdout"
        },
        {
          "output_type": "stream",
          "text": [
            "WARNING:absl:Found untraced functions such as gru_cell_2_layer_call_fn, gru_cell_2_layer_call_and_return_conditional_losses, gru_cell_3_layer_call_fn, gru_cell_3_layer_call_and_return_conditional_losses, gru_cell_2_layer_call_fn while saving (showing 5 of 10). These functions will not be directly callable after loading.\n"
          ],
          "name": "stderr"
        },
        {
          "output_type": "stream",
          "text": [
            "INFO:tensorflow:Assets written to: BestModel/assets\n"
          ],
          "name": "stdout"
        },
        {
          "output_type": "stream",
          "text": [
            "INFO:tensorflow:Assets written to: BestModel/assets\n"
          ],
          "name": "stderr"
        },
        {
          "output_type": "stream",
          "text": [
            "Epoch 10/100\n",
            "1334/1334 [==============================] - 13s 10ms/step - loss: 0.5230 - accuracy: 0.7210 - val_loss: 0.5317 - val_accuracy: 0.7103\n"
          ],
          "name": "stdout"
        },
        {
          "output_type": "stream",
          "text": [
            "WARNING:absl:Found untraced functions such as gru_cell_2_layer_call_fn, gru_cell_2_layer_call_and_return_conditional_losses, gru_cell_3_layer_call_fn, gru_cell_3_layer_call_and_return_conditional_losses, gru_cell_2_layer_call_fn while saving (showing 5 of 10). These functions will not be directly callable after loading.\n"
          ],
          "name": "stderr"
        },
        {
          "output_type": "stream",
          "text": [
            "INFO:tensorflow:Assets written to: BestModel/assets\n"
          ],
          "name": "stdout"
        },
        {
          "output_type": "stream",
          "text": [
            "INFO:tensorflow:Assets written to: BestModel/assets\n"
          ],
          "name": "stderr"
        },
        {
          "output_type": "stream",
          "text": [
            "Epoch 11/100\n",
            "1334/1334 [==============================] - 13s 10ms/step - loss: 0.5139 - accuracy: 0.7242 - val_loss: 0.5317 - val_accuracy: 0.7136\n"
          ],
          "name": "stdout"
        },
        {
          "output_type": "stream",
          "text": [
            "WARNING:absl:Found untraced functions such as gru_cell_2_layer_call_fn, gru_cell_2_layer_call_and_return_conditional_losses, gru_cell_3_layer_call_fn, gru_cell_3_layer_call_and_return_conditional_losses, gru_cell_2_layer_call_fn while saving (showing 5 of 10). These functions will not be directly callable after loading.\n"
          ],
          "name": "stderr"
        },
        {
          "output_type": "stream",
          "text": [
            "INFO:tensorflow:Assets written to: BestModel/assets\n"
          ],
          "name": "stdout"
        },
        {
          "output_type": "stream",
          "text": [
            "INFO:tensorflow:Assets written to: BestModel/assets\n"
          ],
          "name": "stderr"
        },
        {
          "output_type": "stream",
          "text": [
            "Epoch 12/100\n",
            "1334/1334 [==============================] - 13s 10ms/step - loss: 0.5147 - accuracy: 0.7256 - val_loss: 0.5392 - val_accuracy: 0.7094\n",
            "Epoch 13/100\n",
            "1334/1334 [==============================] - 13s 10ms/step - loss: 0.5072 - accuracy: 0.7314 - val_loss: 0.5262 - val_accuracy: 0.7127\n",
            "Epoch 14/100\n",
            "1334/1334 [==============================] - 13s 10ms/step - loss: 0.5039 - accuracy: 0.7311 - val_loss: 0.5203 - val_accuracy: 0.7187\n"
          ],
          "name": "stdout"
        },
        {
          "output_type": "stream",
          "text": [
            "WARNING:absl:Found untraced functions such as gru_cell_2_layer_call_fn, gru_cell_2_layer_call_and_return_conditional_losses, gru_cell_3_layer_call_fn, gru_cell_3_layer_call_and_return_conditional_losses, gru_cell_2_layer_call_fn while saving (showing 5 of 10). These functions will not be directly callable after loading.\n"
          ],
          "name": "stderr"
        },
        {
          "output_type": "stream",
          "text": [
            "INFO:tensorflow:Assets written to: BestModel/assets\n"
          ],
          "name": "stdout"
        },
        {
          "output_type": "stream",
          "text": [
            "INFO:tensorflow:Assets written to: BestModel/assets\n"
          ],
          "name": "stderr"
        },
        {
          "output_type": "stream",
          "text": [
            "Epoch 15/100\n",
            "1334/1334 [==============================] - 13s 10ms/step - loss: 0.4975 - accuracy: 0.7385 - val_loss: 0.5229 - val_accuracy: 0.7250\n"
          ],
          "name": "stdout"
        },
        {
          "output_type": "stream",
          "text": [
            "WARNING:absl:Found untraced functions such as gru_cell_2_layer_call_fn, gru_cell_2_layer_call_and_return_conditional_losses, gru_cell_3_layer_call_fn, gru_cell_3_layer_call_and_return_conditional_losses, gru_cell_2_layer_call_fn while saving (showing 5 of 10). These functions will not be directly callable after loading.\n"
          ],
          "name": "stderr"
        },
        {
          "output_type": "stream",
          "text": [
            "INFO:tensorflow:Assets written to: BestModel/assets\n"
          ],
          "name": "stdout"
        },
        {
          "output_type": "stream",
          "text": [
            "INFO:tensorflow:Assets written to: BestModel/assets\n"
          ],
          "name": "stderr"
        },
        {
          "output_type": "stream",
          "text": [
            "Epoch 16/100\n",
            "1334/1334 [==============================] - 13s 10ms/step - loss: 0.4936 - accuracy: 0.7397 - val_loss: 0.5070 - val_accuracy: 0.7279\n"
          ],
          "name": "stdout"
        },
        {
          "output_type": "stream",
          "text": [
            "WARNING:absl:Found untraced functions such as gru_cell_2_layer_call_fn, gru_cell_2_layer_call_and_return_conditional_losses, gru_cell_3_layer_call_fn, gru_cell_3_layer_call_and_return_conditional_losses, gru_cell_2_layer_call_fn while saving (showing 5 of 10). These functions will not be directly callable after loading.\n"
          ],
          "name": "stderr"
        },
        {
          "output_type": "stream",
          "text": [
            "INFO:tensorflow:Assets written to: BestModel/assets\n"
          ],
          "name": "stdout"
        },
        {
          "output_type": "stream",
          "text": [
            "INFO:tensorflow:Assets written to: BestModel/assets\n"
          ],
          "name": "stderr"
        },
        {
          "output_type": "stream",
          "text": [
            "Epoch 17/100\n",
            "1334/1334 [==============================] - 13s 10ms/step - loss: 0.4735 - accuracy: 0.7542 - val_loss: 0.5821 - val_accuracy: 0.6957\n",
            "Epoch 18/100\n",
            "1334/1334 [==============================] - 13s 10ms/step - loss: 0.4084 - accuracy: 0.8089 - val_loss: 0.3937 - val_accuracy: 0.8326\n"
          ],
          "name": "stdout"
        },
        {
          "output_type": "stream",
          "text": [
            "WARNING:absl:Found untraced functions such as gru_cell_2_layer_call_fn, gru_cell_2_layer_call_and_return_conditional_losses, gru_cell_3_layer_call_fn, gru_cell_3_layer_call_and_return_conditional_losses, gru_cell_2_layer_call_fn while saving (showing 5 of 10). These functions will not be directly callable after loading.\n"
          ],
          "name": "stderr"
        },
        {
          "output_type": "stream",
          "text": [
            "INFO:tensorflow:Assets written to: BestModel/assets\n"
          ],
          "name": "stdout"
        },
        {
          "output_type": "stream",
          "text": [
            "INFO:tensorflow:Assets written to: BestModel/assets\n"
          ],
          "name": "stderr"
        },
        {
          "output_type": "stream",
          "text": [
            "Epoch 19/100\n",
            "1334/1334 [==============================] - 13s 10ms/step - loss: 0.3125 - accuracy: 0.8663 - val_loss: 0.4194 - val_accuracy: 0.8156\n",
            "Epoch 20/100\n",
            "1334/1334 [==============================] - 13s 10ms/step - loss: 0.4432 - accuracy: 0.7940 - val_loss: 0.2437 - val_accuracy: 0.8999\n"
          ],
          "name": "stdout"
        },
        {
          "output_type": "stream",
          "text": [
            "WARNING:absl:Found untraced functions such as gru_cell_2_layer_call_fn, gru_cell_2_layer_call_and_return_conditional_losses, gru_cell_3_layer_call_fn, gru_cell_3_layer_call_and_return_conditional_losses, gru_cell_2_layer_call_fn while saving (showing 5 of 10). These functions will not be directly callable after loading.\n"
          ],
          "name": "stderr"
        },
        {
          "output_type": "stream",
          "text": [
            "INFO:tensorflow:Assets written to: BestModel/assets\n"
          ],
          "name": "stdout"
        },
        {
          "output_type": "stream",
          "text": [
            "INFO:tensorflow:Assets written to: BestModel/assets\n"
          ],
          "name": "stderr"
        },
        {
          "output_type": "stream",
          "text": [
            "Epoch 21/100\n",
            "1334/1334 [==============================] - 13s 10ms/step - loss: 0.2140 - accuracy: 0.9129 - val_loss: 0.1317 - val_accuracy: 0.9458\n"
          ],
          "name": "stdout"
        },
        {
          "output_type": "stream",
          "text": [
            "WARNING:absl:Found untraced functions such as gru_cell_2_layer_call_fn, gru_cell_2_layer_call_and_return_conditional_losses, gru_cell_3_layer_call_fn, gru_cell_3_layer_call_and_return_conditional_losses, gru_cell_2_layer_call_fn while saving (showing 5 of 10). These functions will not be directly callable after loading.\n"
          ],
          "name": "stderr"
        },
        {
          "output_type": "stream",
          "text": [
            "INFO:tensorflow:Assets written to: BestModel/assets\n"
          ],
          "name": "stdout"
        },
        {
          "output_type": "stream",
          "text": [
            "INFO:tensorflow:Assets written to: BestModel/assets\n"
          ],
          "name": "stderr"
        },
        {
          "output_type": "stream",
          "text": [
            "Epoch 22/100\n",
            "1334/1334 [==============================] - 13s 10ms/step - loss: 0.1380 - accuracy: 0.9443 - val_loss: 0.1069 - val_accuracy: 0.9515\n"
          ],
          "name": "stdout"
        },
        {
          "output_type": "stream",
          "text": [
            "WARNING:absl:Found untraced functions such as gru_cell_2_layer_call_fn, gru_cell_2_layer_call_and_return_conditional_losses, gru_cell_3_layer_call_fn, gru_cell_3_layer_call_and_return_conditional_losses, gru_cell_2_layer_call_fn while saving (showing 5 of 10). These functions will not be directly callable after loading.\n"
          ],
          "name": "stderr"
        },
        {
          "output_type": "stream",
          "text": [
            "INFO:tensorflow:Assets written to: BestModel/assets\n"
          ],
          "name": "stdout"
        },
        {
          "output_type": "stream",
          "text": [
            "INFO:tensorflow:Assets written to: BestModel/assets\n"
          ],
          "name": "stderr"
        },
        {
          "output_type": "stream",
          "text": [
            "Epoch 23/100\n",
            "1334/1334 [==============================] - 13s 10ms/step - loss: 0.1087 - accuracy: 0.9547 - val_loss: 0.1029 - val_accuracy: 0.9551\n"
          ],
          "name": "stdout"
        },
        {
          "output_type": "stream",
          "text": [
            "WARNING:absl:Found untraced functions such as gru_cell_2_layer_call_fn, gru_cell_2_layer_call_and_return_conditional_losses, gru_cell_3_layer_call_fn, gru_cell_3_layer_call_and_return_conditional_losses, gru_cell_2_layer_call_fn while saving (showing 5 of 10). These functions will not be directly callable after loading.\n"
          ],
          "name": "stderr"
        },
        {
          "output_type": "stream",
          "text": [
            "INFO:tensorflow:Assets written to: BestModel/assets\n"
          ],
          "name": "stdout"
        },
        {
          "output_type": "stream",
          "text": [
            "INFO:tensorflow:Assets written to: BestModel/assets\n"
          ],
          "name": "stderr"
        },
        {
          "output_type": "stream",
          "text": [
            "Epoch 24/100\n",
            "1334/1334 [==============================] - 13s 10ms/step - loss: 0.0952 - accuracy: 0.9581 - val_loss: 0.0842 - val_accuracy: 0.9607\n"
          ],
          "name": "stdout"
        },
        {
          "output_type": "stream",
          "text": [
            "WARNING:absl:Found untraced functions such as gru_cell_2_layer_call_fn, gru_cell_2_layer_call_and_return_conditional_losses, gru_cell_3_layer_call_fn, gru_cell_3_layer_call_and_return_conditional_losses, gru_cell_2_layer_call_fn while saving (showing 5 of 10). These functions will not be directly callable after loading.\n"
          ],
          "name": "stderr"
        },
        {
          "output_type": "stream",
          "text": [
            "INFO:tensorflow:Assets written to: BestModel/assets\n"
          ],
          "name": "stdout"
        },
        {
          "output_type": "stream",
          "text": [
            "INFO:tensorflow:Assets written to: BestModel/assets\n"
          ],
          "name": "stderr"
        },
        {
          "output_type": "stream",
          "text": [
            "Epoch 25/100\n",
            "1334/1334 [==============================] - 13s 10ms/step - loss: 0.0978 - accuracy: 0.9555 - val_loss: 0.2836 - val_accuracy: 0.8926\n",
            "Epoch 26/100\n",
            "1334/1334 [==============================] - 13s 10ms/step - loss: 0.1216 - accuracy: 0.9460 - val_loss: 0.1037 - val_accuracy: 0.9535\n",
            "Epoch 27/100\n",
            "1334/1334 [==============================] - 13s 10ms/step - loss: 0.1086 - accuracy: 0.9510 - val_loss: 0.0845 - val_accuracy: 0.9597\n",
            "Epoch 28/100\n",
            "1334/1334 [==============================] - 13s 10ms/step - loss: 0.0878 - accuracy: 0.9601 - val_loss: 0.0904 - val_accuracy: 0.9592\n",
            "Epoch 29/100\n",
            "1334/1334 [==============================] - 13s 10ms/step - loss: 0.1158 - accuracy: 0.9497 - val_loss: 0.0897 - val_accuracy: 0.9568\n",
            "Epoch 30/100\n",
            "1334/1334 [==============================] - 13s 10ms/step - loss: 0.1564 - accuracy: 0.9352 - val_loss: 0.0964 - val_accuracy: 0.9537\n",
            "Epoch 31/100\n",
            "1334/1334 [==============================] - 13s 10ms/step - loss: 0.0984 - accuracy: 0.9541 - val_loss: 0.0884 - val_accuracy: 0.9578\n",
            "Epoch 32/100\n",
            "1334/1334 [==============================] - 13s 10ms/step - loss: 0.0797 - accuracy: 0.9615 - val_loss: 0.0764 - val_accuracy: 0.9612\n"
          ],
          "name": "stdout"
        },
        {
          "output_type": "stream",
          "text": [
            "WARNING:absl:Found untraced functions such as gru_cell_2_layer_call_fn, gru_cell_2_layer_call_and_return_conditional_losses, gru_cell_3_layer_call_fn, gru_cell_3_layer_call_and_return_conditional_losses, gru_cell_2_layer_call_fn while saving (showing 5 of 10). These functions will not be directly callable after loading.\n"
          ],
          "name": "stderr"
        },
        {
          "output_type": "stream",
          "text": [
            "INFO:tensorflow:Assets written to: BestModel/assets\n"
          ],
          "name": "stdout"
        },
        {
          "output_type": "stream",
          "text": [
            "INFO:tensorflow:Assets written to: BestModel/assets\n"
          ],
          "name": "stderr"
        },
        {
          "output_type": "stream",
          "text": [
            "Epoch 33/100\n",
            "1334/1334 [==============================] - 13s 10ms/step - loss: 0.0878 - accuracy: 0.9582 - val_loss: 0.0809 - val_accuracy: 0.9591\n",
            "Epoch 34/100\n",
            "1334/1334 [==============================] - 13s 10ms/step - loss: 0.0742 - accuracy: 0.9634 - val_loss: 0.0918 - val_accuracy: 0.9572\n",
            "Epoch 35/100\n",
            "1334/1334 [==============================] - 13s 10ms/step - loss: 0.1076 - accuracy: 0.9508 - val_loss: 0.0859 - val_accuracy: 0.9576\n",
            "Epoch 36/100\n",
            "1334/1334 [==============================] - 13s 10ms/step - loss: 0.0934 - accuracy: 0.9553 - val_loss: 0.0905 - val_accuracy: 0.9544\n",
            "Epoch 37/100\n",
            "1334/1334 [==============================] - 13s 10ms/step - loss: 0.0952 - accuracy: 0.9553 - val_loss: 0.0899 - val_accuracy: 0.9580\n",
            "Epoch 38/100\n",
            "1334/1334 [==============================] - 13s 10ms/step - loss: 0.0806 - accuracy: 0.9604 - val_loss: 0.0788 - val_accuracy: 0.9618\n"
          ],
          "name": "stdout"
        },
        {
          "output_type": "stream",
          "text": [
            "WARNING:absl:Found untraced functions such as gru_cell_2_layer_call_fn, gru_cell_2_layer_call_and_return_conditional_losses, gru_cell_3_layer_call_fn, gru_cell_3_layer_call_and_return_conditional_losses, gru_cell_2_layer_call_fn while saving (showing 5 of 10). These functions will not be directly callable after loading.\n"
          ],
          "name": "stderr"
        },
        {
          "output_type": "stream",
          "text": [
            "INFO:tensorflow:Assets written to: BestModel/assets\n"
          ],
          "name": "stdout"
        },
        {
          "output_type": "stream",
          "text": [
            "INFO:tensorflow:Assets written to: BestModel/assets\n"
          ],
          "name": "stderr"
        },
        {
          "output_type": "stream",
          "text": [
            "Epoch 39/100\n",
            "1334/1334 [==============================] - 13s 10ms/step - loss: 0.0764 - accuracy: 0.9626 - val_loss: 0.0815 - val_accuracy: 0.9600\n",
            "Epoch 40/100\n",
            "1334/1334 [==============================] - 13s 10ms/step - loss: 0.0794 - accuracy: 0.9615 - val_loss: 0.0687 - val_accuracy: 0.9663\n"
          ],
          "name": "stdout"
        },
        {
          "output_type": "stream",
          "text": [
            "WARNING:absl:Found untraced functions such as gru_cell_2_layer_call_fn, gru_cell_2_layer_call_and_return_conditional_losses, gru_cell_3_layer_call_fn, gru_cell_3_layer_call_and_return_conditional_losses, gru_cell_2_layer_call_fn while saving (showing 5 of 10). These functions will not be directly callable after loading.\n"
          ],
          "name": "stderr"
        },
        {
          "output_type": "stream",
          "text": [
            "INFO:tensorflow:Assets written to: BestModel/assets\n"
          ],
          "name": "stdout"
        },
        {
          "output_type": "stream",
          "text": [
            "INFO:tensorflow:Assets written to: BestModel/assets\n"
          ],
          "name": "stderr"
        },
        {
          "output_type": "stream",
          "text": [
            "Epoch 41/100\n",
            "1334/1334 [==============================] - 13s 10ms/step - loss: 0.0687 - accuracy: 0.9677 - val_loss: 0.0710 - val_accuracy: 0.9648\n",
            "Epoch 42/100\n",
            "1334/1334 [==============================] - 13s 10ms/step - loss: 0.0753 - accuracy: 0.9650 - val_loss: 0.0828 - val_accuracy: 0.9593\n",
            "Epoch 43/100\n",
            "1334/1334 [==============================] - 13s 10ms/step - loss: 0.0699 - accuracy: 0.9662 - val_loss: 0.0728 - val_accuracy: 0.9647\n",
            "Epoch 44/100\n",
            "1334/1334 [==============================] - 13s 10ms/step - loss: 0.0638 - accuracy: 0.9687 - val_loss: 0.0884 - val_accuracy: 0.9621\n",
            "Epoch 45/100\n",
            "1334/1334 [==============================] - 13s 10ms/step - loss: 0.0681 - accuracy: 0.9661 - val_loss: 0.0668 - val_accuracy: 0.9692\n"
          ],
          "name": "stdout"
        },
        {
          "output_type": "stream",
          "text": [
            "WARNING:absl:Found untraced functions such as gru_cell_2_layer_call_fn, gru_cell_2_layer_call_and_return_conditional_losses, gru_cell_3_layer_call_fn, gru_cell_3_layer_call_and_return_conditional_losses, gru_cell_2_layer_call_fn while saving (showing 5 of 10). These functions will not be directly callable after loading.\n"
          ],
          "name": "stderr"
        },
        {
          "output_type": "stream",
          "text": [
            "INFO:tensorflow:Assets written to: BestModel/assets\n"
          ],
          "name": "stdout"
        },
        {
          "output_type": "stream",
          "text": [
            "INFO:tensorflow:Assets written to: BestModel/assets\n"
          ],
          "name": "stderr"
        },
        {
          "output_type": "stream",
          "text": [
            "Epoch 46/100\n",
            "1334/1334 [==============================] - 13s 10ms/step - loss: 0.0558 - accuracy: 0.9727 - val_loss: 0.2624 - val_accuracy: 0.9323\n",
            "Epoch 47/100\n",
            "1334/1334 [==============================] - 13s 10ms/step - loss: 0.0816 - accuracy: 0.9680 - val_loss: 0.0631 - val_accuracy: 0.9704\n"
          ],
          "name": "stdout"
        },
        {
          "output_type": "stream",
          "text": [
            "WARNING:absl:Found untraced functions such as gru_cell_2_layer_call_fn, gru_cell_2_layer_call_and_return_conditional_losses, gru_cell_3_layer_call_fn, gru_cell_3_layer_call_and_return_conditional_losses, gru_cell_2_layer_call_fn while saving (showing 5 of 10). These functions will not be directly callable after loading.\n"
          ],
          "name": "stderr"
        },
        {
          "output_type": "stream",
          "text": [
            "INFO:tensorflow:Assets written to: BestModel/assets\n"
          ],
          "name": "stdout"
        },
        {
          "output_type": "stream",
          "text": [
            "INFO:tensorflow:Assets written to: BestModel/assets\n"
          ],
          "name": "stderr"
        },
        {
          "output_type": "stream",
          "text": [
            "Epoch 48/100\n",
            "1334/1334 [==============================] - 14s 10ms/step - loss: 0.0576 - accuracy: 0.9723 - val_loss: 0.0733 - val_accuracy: 0.9685\n",
            "Epoch 49/100\n",
            "1334/1334 [==============================] - 14s 10ms/step - loss: 0.0652 - accuracy: 0.9721 - val_loss: 0.0724 - val_accuracy: 0.9686\n",
            "Epoch 50/100\n",
            "1334/1334 [==============================] - 13s 10ms/step - loss: 0.0633 - accuracy: 0.9705 - val_loss: 0.0721 - val_accuracy: 0.9690\n",
            "Epoch 51/100\n",
            "1334/1334 [==============================] - 13s 10ms/step - loss: 0.0615 - accuracy: 0.9730 - val_loss: 0.0654 - val_accuracy: 0.9699\n",
            "Epoch 52/100\n",
            "1334/1334 [==============================] - 13s 10ms/step - loss: 0.0539 - accuracy: 0.9744 - val_loss: 0.0636 - val_accuracy: 0.9708\n"
          ],
          "name": "stdout"
        },
        {
          "output_type": "stream",
          "text": [
            "WARNING:absl:Found untraced functions such as gru_cell_2_layer_call_fn, gru_cell_2_layer_call_and_return_conditional_losses, gru_cell_3_layer_call_fn, gru_cell_3_layer_call_and_return_conditional_losses, gru_cell_2_layer_call_fn while saving (showing 5 of 10). These functions will not be directly callable after loading.\n"
          ],
          "name": "stderr"
        },
        {
          "output_type": "stream",
          "text": [
            "INFO:tensorflow:Assets written to: BestModel/assets\n"
          ],
          "name": "stdout"
        },
        {
          "output_type": "stream",
          "text": [
            "INFO:tensorflow:Assets written to: BestModel/assets\n"
          ],
          "name": "stderr"
        },
        {
          "output_type": "stream",
          "text": [
            "Epoch 53/100\n",
            "1334/1334 [==============================] - 13s 10ms/step - loss: 0.0555 - accuracy: 0.9740 - val_loss: 0.0719 - val_accuracy: 0.9659\n",
            "Epoch 54/100\n",
            "1334/1334 [==============================] - 13s 10ms/step - loss: 0.0906 - accuracy: 0.9591 - val_loss: 0.0691 - val_accuracy: 0.9685\n",
            "Epoch 55/100\n",
            "1334/1334 [==============================] - 13s 10ms/step - loss: 0.0657 - accuracy: 0.9709 - val_loss: 0.0678 - val_accuracy: 0.9697\n",
            "Epoch 56/100\n",
            "1334/1334 [==============================] - 13s 10ms/step - loss: 0.0632 - accuracy: 0.9709 - val_loss: 0.0744 - val_accuracy: 0.9642\n",
            "Epoch 57/100\n",
            "1334/1334 [==============================] - 13s 10ms/step - loss: 0.0602 - accuracy: 0.9711 - val_loss: 0.0659 - val_accuracy: 0.9688\n",
            "Epoch 58/100\n",
            "1334/1334 [==============================] - 13s 10ms/step - loss: 0.0778 - accuracy: 0.9648 - val_loss: 0.0608 - val_accuracy: 0.9731\n"
          ],
          "name": "stdout"
        },
        {
          "output_type": "stream",
          "text": [
            "WARNING:absl:Found untraced functions such as gru_cell_2_layer_call_fn, gru_cell_2_layer_call_and_return_conditional_losses, gru_cell_3_layer_call_fn, gru_cell_3_layer_call_and_return_conditional_losses, gru_cell_2_layer_call_fn while saving (showing 5 of 10). These functions will not be directly callable after loading.\n"
          ],
          "name": "stderr"
        },
        {
          "output_type": "stream",
          "text": [
            "INFO:tensorflow:Assets written to: BestModel/assets\n"
          ],
          "name": "stdout"
        },
        {
          "output_type": "stream",
          "text": [
            "INFO:tensorflow:Assets written to: BestModel/assets\n"
          ],
          "name": "stderr"
        },
        {
          "output_type": "stream",
          "text": [
            "Epoch 59/100\n",
            "1334/1334 [==============================] - 13s 10ms/step - loss: 0.0561 - accuracy: 0.9740 - val_loss: 0.0616 - val_accuracy: 0.9713\n",
            "Epoch 60/100\n",
            "1334/1334 [==============================] - 14s 10ms/step - loss: 0.0476 - accuracy: 0.9763 - val_loss: 0.0592 - val_accuracy: 0.9725\n",
            "Epoch 61/100\n",
            "1334/1334 [==============================] - 13s 10ms/step - loss: 0.0878 - accuracy: 0.9564 - val_loss: 0.1682 - val_accuracy: 0.9293\n",
            "Epoch 62/100\n",
            "1334/1334 [==============================] - 13s 10ms/step - loss: 0.0981 - accuracy: 0.9570 - val_loss: 0.0594 - val_accuracy: 0.9727\n",
            "Epoch 63/100\n",
            "1334/1334 [==============================] - 13s 10ms/step - loss: 0.0492 - accuracy: 0.9781 - val_loss: 0.0573 - val_accuracy: 0.9744\n"
          ],
          "name": "stdout"
        },
        {
          "output_type": "stream",
          "text": [
            "WARNING:absl:Found untraced functions such as gru_cell_2_layer_call_fn, gru_cell_2_layer_call_and_return_conditional_losses, gru_cell_3_layer_call_fn, gru_cell_3_layer_call_and_return_conditional_losses, gru_cell_2_layer_call_fn while saving (showing 5 of 10). These functions will not be directly callable after loading.\n"
          ],
          "name": "stderr"
        },
        {
          "output_type": "stream",
          "text": [
            "INFO:tensorflow:Assets written to: BestModel/assets\n"
          ],
          "name": "stdout"
        },
        {
          "output_type": "stream",
          "text": [
            "INFO:tensorflow:Assets written to: BestModel/assets\n"
          ],
          "name": "stderr"
        },
        {
          "output_type": "stream",
          "text": [
            "Epoch 64/100\n",
            "1334/1334 [==============================] - 13s 10ms/step - loss: 0.0431 - accuracy: 0.9800 - val_loss: 0.0498 - val_accuracy: 0.9765\n"
          ],
          "name": "stdout"
        },
        {
          "output_type": "stream",
          "text": [
            "WARNING:absl:Found untraced functions such as gru_cell_2_layer_call_fn, gru_cell_2_layer_call_and_return_conditional_losses, gru_cell_3_layer_call_fn, gru_cell_3_layer_call_and_return_conditional_losses, gru_cell_2_layer_call_fn while saving (showing 5 of 10). These functions will not be directly callable after loading.\n"
          ],
          "name": "stderr"
        },
        {
          "output_type": "stream",
          "text": [
            "INFO:tensorflow:Assets written to: BestModel/assets\n"
          ],
          "name": "stdout"
        },
        {
          "output_type": "stream",
          "text": [
            "INFO:tensorflow:Assets written to: BestModel/assets\n"
          ],
          "name": "stderr"
        },
        {
          "output_type": "stream",
          "text": [
            "Epoch 65/100\n",
            "1334/1334 [==============================] - 13s 10ms/step - loss: 0.0521 - accuracy: 0.9776 - val_loss: 0.0680 - val_accuracy: 0.9695\n",
            "Epoch 66/100\n",
            "1334/1334 [==============================] - 14s 10ms/step - loss: 0.0582 - accuracy: 0.9754 - val_loss: 0.0638 - val_accuracy: 0.9733\n",
            "Epoch 67/100\n",
            "1334/1334 [==============================] - 14s 10ms/step - loss: 0.0615 - accuracy: 0.9729 - val_loss: 0.6419 - val_accuracy: 0.7042\n",
            "Epoch 68/100\n",
            "1334/1334 [==============================] - 14s 10ms/step - loss: 0.6025 - accuracy: 0.6557 - val_loss: 0.3768 - val_accuracy: 0.8246\n",
            "Epoch 69/100\n",
            "1334/1334 [==============================] - 14s 10ms/step - loss: 0.2282 - accuracy: 0.9010 - val_loss: 0.0822 - val_accuracy: 0.9663\n",
            "Epoch 70/100\n",
            "1334/1334 [==============================] - 13s 10ms/step - loss: 0.0705 - accuracy: 0.9712 - val_loss: 0.0637 - val_accuracy: 0.9734\n",
            "Epoch 71/100\n",
            "1334/1334 [==============================] - 13s 10ms/step - loss: 0.0520 - accuracy: 0.9787 - val_loss: 0.0607 - val_accuracy: 0.9745\n",
            "Epoch 72/100\n",
            "1334/1334 [==============================] - 13s 10ms/step - loss: 0.0473 - accuracy: 0.9793 - val_loss: 0.0530 - val_accuracy: 0.9785\n"
          ],
          "name": "stdout"
        },
        {
          "output_type": "stream",
          "text": [
            "WARNING:absl:Found untraced functions such as gru_cell_2_layer_call_fn, gru_cell_2_layer_call_and_return_conditional_losses, gru_cell_3_layer_call_fn, gru_cell_3_layer_call_and_return_conditional_losses, gru_cell_2_layer_call_fn while saving (showing 5 of 10). These functions will not be directly callable after loading.\n"
          ],
          "name": "stderr"
        },
        {
          "output_type": "stream",
          "text": [
            "INFO:tensorflow:Assets written to: BestModel/assets\n"
          ],
          "name": "stdout"
        },
        {
          "output_type": "stream",
          "text": [
            "INFO:tensorflow:Assets written to: BestModel/assets\n"
          ],
          "name": "stderr"
        },
        {
          "output_type": "stream",
          "text": [
            "Epoch 73/100\n",
            "1334/1334 [==============================] - 13s 10ms/step - loss: 0.3106 - accuracy: 0.8371 - val_loss: 0.1819 - val_accuracy: 0.9475\n",
            "Epoch 74/100\n",
            "1334/1334 [==============================] - 13s 10ms/step - loss: 0.0620 - accuracy: 0.9763 - val_loss: 0.0550 - val_accuracy: 0.9768\n",
            "Epoch 75/100\n",
            "1334/1334 [==============================] - 13s 10ms/step - loss: 0.0431 - accuracy: 0.9839 - val_loss: 0.0478 - val_accuracy: 0.9804\n"
          ],
          "name": "stdout"
        },
        {
          "output_type": "stream",
          "text": [
            "WARNING:absl:Found untraced functions such as gru_cell_2_layer_call_fn, gru_cell_2_layer_call_and_return_conditional_losses, gru_cell_3_layer_call_fn, gru_cell_3_layer_call_and_return_conditional_losses, gru_cell_2_layer_call_fn while saving (showing 5 of 10). These functions will not be directly callable after loading.\n"
          ],
          "name": "stderr"
        },
        {
          "output_type": "stream",
          "text": [
            "INFO:tensorflow:Assets written to: BestModel/assets\n"
          ],
          "name": "stdout"
        },
        {
          "output_type": "stream",
          "text": [
            "INFO:tensorflow:Assets written to: BestModel/assets\n"
          ],
          "name": "stderr"
        },
        {
          "output_type": "stream",
          "text": [
            "Epoch 76/100\n",
            "1334/1334 [==============================] - 13s 10ms/step - loss: 0.0329 - accuracy: 0.9870 - val_loss: 0.0393 - val_accuracy: 0.9839\n"
          ],
          "name": "stdout"
        },
        {
          "output_type": "stream",
          "text": [
            "WARNING:absl:Found untraced functions such as gru_cell_2_layer_call_fn, gru_cell_2_layer_call_and_return_conditional_losses, gru_cell_3_layer_call_fn, gru_cell_3_layer_call_and_return_conditional_losses, gru_cell_2_layer_call_fn while saving (showing 5 of 10). These functions will not be directly callable after loading.\n"
          ],
          "name": "stderr"
        },
        {
          "output_type": "stream",
          "text": [
            "INFO:tensorflow:Assets written to: BestModel/assets\n"
          ],
          "name": "stdout"
        },
        {
          "output_type": "stream",
          "text": [
            "INFO:tensorflow:Assets written to: BestModel/assets\n"
          ],
          "name": "stderr"
        },
        {
          "output_type": "stream",
          "text": [
            "Epoch 77/100\n",
            "1334/1334 [==============================] - 13s 10ms/step - loss: 0.0291 - accuracy: 0.9881 - val_loss: 0.0485 - val_accuracy: 0.9806\n",
            "Epoch 78/100\n",
            "1334/1334 [==============================] - 13s 10ms/step - loss: 0.0386 - accuracy: 0.9855 - val_loss: 0.0429 - val_accuracy: 0.9833\n",
            "Epoch 79/100\n",
            "1334/1334 [==============================] - 14s 10ms/step - loss: 0.0334 - accuracy: 0.9874 - val_loss: 0.0417 - val_accuracy: 0.9826\n",
            "Epoch 80/100\n",
            "1334/1334 [==============================] - 14s 10ms/step - loss: 0.0434 - accuracy: 0.9834 - val_loss: 0.0380 - val_accuracy: 0.9840\n"
          ],
          "name": "stdout"
        },
        {
          "output_type": "stream",
          "text": [
            "WARNING:absl:Found untraced functions such as gru_cell_2_layer_call_fn, gru_cell_2_layer_call_and_return_conditional_losses, gru_cell_3_layer_call_fn, gru_cell_3_layer_call_and_return_conditional_losses, gru_cell_2_layer_call_fn while saving (showing 5 of 10). These functions will not be directly callable after loading.\n"
          ],
          "name": "stderr"
        },
        {
          "output_type": "stream",
          "text": [
            "INFO:tensorflow:Assets written to: BestModel/assets\n"
          ],
          "name": "stdout"
        },
        {
          "output_type": "stream",
          "text": [
            "INFO:tensorflow:Assets written to: BestModel/assets\n"
          ],
          "name": "stderr"
        },
        {
          "output_type": "stream",
          "text": [
            "Epoch 81/100\n",
            "1334/1334 [==============================] - 13s 10ms/step - loss: 0.0284 - accuracy: 0.9900 - val_loss: 0.0338 - val_accuracy: 0.9873\n"
          ],
          "name": "stdout"
        },
        {
          "output_type": "stream",
          "text": [
            "WARNING:absl:Found untraced functions such as gru_cell_2_layer_call_fn, gru_cell_2_layer_call_and_return_conditional_losses, gru_cell_3_layer_call_fn, gru_cell_3_layer_call_and_return_conditional_losses, gru_cell_2_layer_call_fn while saving (showing 5 of 10). These functions will not be directly callable after loading.\n"
          ],
          "name": "stderr"
        },
        {
          "output_type": "stream",
          "text": [
            "INFO:tensorflow:Assets written to: BestModel/assets\n"
          ],
          "name": "stdout"
        },
        {
          "output_type": "stream",
          "text": [
            "INFO:tensorflow:Assets written to: BestModel/assets\n"
          ],
          "name": "stderr"
        },
        {
          "output_type": "stream",
          "text": [
            "Epoch 82/100\n",
            "1334/1334 [==============================] - 14s 10ms/step - loss: 0.0303 - accuracy: 0.9886 - val_loss: 0.0738 - val_accuracy: 0.9703\n",
            "Epoch 83/100\n",
            "1334/1334 [==============================] - 14s 10ms/step - loss: 0.0491 - accuracy: 0.9807 - val_loss: 0.0668 - val_accuracy: 0.9737\n",
            "Epoch 84/100\n",
            "1334/1334 [==============================] - 13s 10ms/step - loss: 0.0883 - accuracy: 0.9671 - val_loss: 0.0406 - val_accuracy: 0.9846\n",
            "Epoch 85/100\n",
            "1334/1334 [==============================] - 13s 10ms/step - loss: 0.0314 - accuracy: 0.9887 - val_loss: 0.0381 - val_accuracy: 0.9851\n",
            "Epoch 86/100\n",
            "1334/1334 [==============================] - 13s 10ms/step - loss: 0.0224 - accuracy: 0.9915 - val_loss: 0.0359 - val_accuracy: 0.9860\n",
            "Epoch 87/100\n",
            "1334/1334 [==============================] - 13s 10ms/step - loss: 0.0351 - accuracy: 0.9846 - val_loss: 0.6897 - val_accuracy: 0.5486\n",
            "Epoch 88/100\n",
            "1334/1334 [==============================] - 13s 10ms/step - loss: 0.6567 - accuracy: 0.6089 - val_loss: 0.5991 - val_accuracy: 0.6726\n",
            "Epoch 89/100\n",
            "1334/1334 [==============================] - 13s 10ms/step - loss: 0.5907 - accuracy: 0.6793 - val_loss: 0.5752 - val_accuracy: 0.6847\n",
            "Epoch 90/100\n",
            "1334/1334 [==============================] - 13s 10ms/step - loss: 0.5724 - accuracy: 0.6923 - val_loss: 0.5682 - val_accuracy: 0.6833\n",
            "Epoch 91/100\n",
            "1334/1334 [==============================] - 13s 10ms/step - loss: 0.5640 - accuracy: 0.6916 - val_loss: 0.5502 - val_accuracy: 0.7023\n",
            "Epoch 92/100\n",
            "1334/1334 [==============================] - 13s 10ms/step - loss: 0.3604 - accuracy: 0.8115 - val_loss: 0.4405 - val_accuracy: 0.7769\n",
            "Epoch 93/100\n",
            "1334/1334 [==============================] - 13s 10ms/step - loss: 0.1740 - accuracy: 0.9244 - val_loss: 0.0358 - val_accuracy: 0.9859\n",
            "Epoch 94/100\n",
            "1334/1334 [==============================] - 13s 10ms/step - loss: 0.0281 - accuracy: 0.9887 - val_loss: 0.0381 - val_accuracy: 0.9846\n",
            "Epoch 95/100\n",
            "1334/1334 [==============================] - 13s 10ms/step - loss: 0.0236 - accuracy: 0.9907 - val_loss: 0.0297 - val_accuracy: 0.9890\n"
          ],
          "name": "stdout"
        },
        {
          "output_type": "stream",
          "text": [
            "WARNING:absl:Found untraced functions such as gru_cell_2_layer_call_fn, gru_cell_2_layer_call_and_return_conditional_losses, gru_cell_3_layer_call_fn, gru_cell_3_layer_call_and_return_conditional_losses, gru_cell_2_layer_call_fn while saving (showing 5 of 10). These functions will not be directly callable after loading.\n"
          ],
          "name": "stderr"
        },
        {
          "output_type": "stream",
          "text": [
            "INFO:tensorflow:Assets written to: BestModel/assets\n"
          ],
          "name": "stdout"
        },
        {
          "output_type": "stream",
          "text": [
            "INFO:tensorflow:Assets written to: BestModel/assets\n"
          ],
          "name": "stderr"
        },
        {
          "output_type": "stream",
          "text": [
            "Epoch 96/100\n",
            "1334/1334 [==============================] - 13s 10ms/step - loss: 0.0244 - accuracy: 0.9905 - val_loss: 0.0400 - val_accuracy: 0.9847\n",
            "Epoch 97/100\n",
            "1334/1334 [==============================] - 13s 10ms/step - loss: 0.0255 - accuracy: 0.9897 - val_loss: 0.0739 - val_accuracy: 0.9705\n",
            "Epoch 98/100\n",
            "1334/1334 [==============================] - 13s 10ms/step - loss: 0.2093 - accuracy: 0.8922 - val_loss: 0.1161 - val_accuracy: 0.9562\n",
            "Epoch 99/100\n",
            "1334/1334 [==============================] - 13s 10ms/step - loss: 0.0730 - accuracy: 0.9716 - val_loss: 0.0469 - val_accuracy: 0.9815\n",
            "Epoch 100/100\n",
            "1334/1334 [==============================] - 13s 10ms/step - loss: 0.0317 - accuracy: 0.9878 - val_loss: 0.0431 - val_accuracy: 0.9840\n",
            "Fold 1, 100 epochs, 1660 sec\n"
          ],
          "name": "stdout"
        },
        {
          "output_type": "display_data",
          "data": {
            "image/png": "[encoded data removed]",
            "text/plain": [
              "<Figure size 576x360 with 1 Axes>"
            ]
          },
          "metadata": {
            "tags": [],
            "needs_background": "light"
          }
        },
        {
          "output_type": "stream",
          "text": [
            "MODEL\n",
            "make_DNN\n",
            "input shape: (64, 4)\n",
            "FIT\n",
            "Epoch 1/100\n",
            "1334/1334 [==============================] - 19s 11ms/step - loss: 0.6910 - accuracy: 0.5413 - val_loss: 0.6287 - val_accuracy: 0.6341\n",
            "Epoch 2/100\n",
            "1334/1334 [==============================] - 13s 10ms/step - loss: 0.6293 - accuracy: 0.6380 - val_loss: 0.6188 - val_accuracy: 0.6476\n",
            "Epoch 3/100\n",
            "1334/1334 [==============================] - 13s 10ms/step - loss: 0.6176 - accuracy: 0.6495 - val_loss: 0.5904 - val_accuracy: 0.6735\n",
            "Epoch 4/100\n",
            "1334/1334 [==============================] - 13s 10ms/step - loss: 0.5870 - accuracy: 0.6771 - val_loss: 0.5576 - val_accuracy: 0.6931\n",
            "Epoch 5/100\n",
            "1334/1334 [==============================] - 13s 10ms/step - loss: 0.5569 - accuracy: 0.7008 - val_loss: 0.5447 - val_accuracy: 0.6939\n",
            "Epoch 6/100\n",
            "1334/1334 [==============================] - 13s 10ms/step - loss: 0.5469 - accuracy: 0.7058 - val_loss: 0.5468 - val_accuracy: 0.7008\n",
            "Epoch 7/100\n",
            "1334/1334 [==============================] - 13s 10ms/step - loss: 0.5424 - accuracy: 0.7059 - val_loss: 0.5464 - val_accuracy: 0.7084\n",
            "Epoch 8/100\n",
            "1334/1334 [==============================] - 13s 10ms/step - loss: 0.5368 - accuracy: 0.7073 - val_loss: 0.5375 - val_accuracy: 0.7044\n",
            "Epoch 9/100\n",
            "1334/1334 [==============================] - 13s 10ms/step - loss: 0.5352 - accuracy: 0.7141 - val_loss: 0.5329 - val_accuracy: 0.7120\n",
            "Epoch 10/100\n",
            "1334/1334 [==============================] - 14s 10ms/step - loss: 0.5294 - accuracy: 0.7103 - val_loss: 0.5281 - val_accuracy: 0.7132\n",
            "Epoch 11/100\n",
            "1334/1334 [==============================] - 14s 10ms/step - loss: 0.5276 - accuracy: 0.7146 - val_loss: 0.5326 - val_accuracy: 0.7107\n",
            "Epoch 12/100\n",
            "1334/1334 [==============================] - 13s 10ms/step - loss: 0.5234 - accuracy: 0.7203 - val_loss: 0.5259 - val_accuracy: 0.7149\n",
            "Epoch 13/100\n",
            "1334/1334 [==============================] - 14s 10ms/step - loss: 0.5181 - accuracy: 0.7244 - val_loss: 0.5241 - val_accuracy: 0.7139\n",
            "Epoch 14/100\n",
            "1334/1334 [==============================] - 13s 10ms/step - loss: 0.5140 - accuracy: 0.7235 - val_loss: 0.5238 - val_accuracy: 0.7194\n",
            "Epoch 15/100\n",
            "1334/1334 [==============================] - 14s 10ms/step - loss: 0.5057 - accuracy: 0.7320 - val_loss: 0.5194 - val_accuracy: 0.7222\n",
            "Epoch 16/100\n",
            "1334/1334 [==============================] - 14s 10ms/step - loss: 0.5044 - accuracy: 0.7323 - val_loss: 0.5417 - val_accuracy: 0.7103\n",
            "Epoch 17/100\n",
            "1334/1334 [==============================] - 13s 10ms/step - loss: 0.5044 - accuracy: 0.7346 - val_loss: 0.5122 - val_accuracy: 0.7275\n",
            "Epoch 18/100\n",
            "1334/1334 [==============================] - 14s 10ms/step - loss: 0.5022 - accuracy: 0.7337 - val_loss: 0.5185 - val_accuracy: 0.7277\n",
            "Epoch 19/100\n",
            "1334/1334 [==============================] - 13s 10ms/step - loss: 0.4898 - accuracy: 0.7444 - val_loss: 0.5212 - val_accuracy: 0.7313\n",
            "Epoch 20/100\n",
            "1334/1334 [==============================] - 14s 10ms/step - loss: 0.4893 - accuracy: 0.7468 - val_loss: 0.4929 - val_accuracy: 0.7464\n",
            "Epoch 21/100\n",
            "1334/1334 [==============================] - 13s 10ms/step - loss: 0.4719 - accuracy: 0.7572 - val_loss: 0.4833 - val_accuracy: 0.7511\n",
            "Epoch 22/100\n",
            "1334/1334 [==============================] - 13s 10ms/step - loss: 0.4721 - accuracy: 0.7593 - val_loss: 0.4905 - val_accuracy: 0.7461\n",
            "Epoch 23/100\n",
            "1334/1334 [==============================] - 14s 10ms/step - loss: 0.4600 - accuracy: 0.7660 - val_loss: 0.4796 - val_accuracy: 0.7517\n",
            "Epoch 24/100\n",
            "1334/1334 [==============================] - 13s 10ms/step - loss: 0.4520 - accuracy: 0.7714 - val_loss: 0.4780 - val_accuracy: 0.7548\n",
            "Epoch 25/100\n",
            "1334/1334 [==============================] - 14s 10ms/step - loss: 0.4507 - accuracy: 0.7738 - val_loss: 0.4607 - val_accuracy: 0.7648\n",
            "Epoch 26/100\n",
            "1334/1334 [==============================] - 13s 10ms/step - loss: 0.4385 - accuracy: 0.7812 - val_loss: 0.4548 - val_accuracy: 0.7713\n",
            "Epoch 27/100\n",
            "1334/1334 [==============================] - 14s 10ms/step - loss: 0.4342 - accuracy: 0.7821 - val_loss: 0.4450 - val_accuracy: 0.7749\n",
            "Epoch 28/100\n",
            "1334/1334 [==============================] - 13s 10ms/step - loss: 0.4311 - accuracy: 0.7874 - val_loss: 0.4367 - val_accuracy: 0.7805\n",
            "Epoch 29/100\n",
            "1334/1334 [==============================] - 13s 10ms/step - loss: 0.4222 - accuracy: 0.7925 - val_loss: 0.4405 - val_accuracy: 0.7813\n",
            "Epoch 30/100\n",
            "1334/1334 [==============================] - 14s 10ms/step - loss: 0.4257 - accuracy: 0.7906 - val_loss: 0.4670 - val_accuracy: 0.7671\n",
            "Epoch 31/100\n",
            "1334/1334 [==============================] - 14s 10ms/step - loss: 0.4175 - accuracy: 0.7927 - val_loss: 0.4145 - val_accuracy: 0.7966\n",
            "Epoch 32/100\n",
            "1334/1334 [==============================] - 14s 10ms/step - loss: 0.3915 - accuracy: 0.8126 - val_loss: 0.4207 - val_accuracy: 0.8010\n",
            "Epoch 33/100\n",
            "1334/1334 [==============================] - 14s 10ms/step - loss: 0.3980 - accuracy: 0.8146 - val_loss: 0.3978 - val_accuracy: 0.8057\n",
            "Epoch 34/100\n",
            "1334/1334 [==============================] - 14s 10ms/step - loss: 0.3816 - accuracy: 0.8160 - val_loss: 0.3902 - val_accuracy: 0.8119\n",
            "Epoch 35/100\n",
            "1334/1334 [==============================] - 14s 10ms/step - loss: 0.3597 - accuracy: 0.8296 - val_loss: 0.3997 - val_accuracy: 0.8053\n",
            "Epoch 36/100\n",
            "1334/1334 [==============================] - 13s 10ms/step - loss: 0.3833 - accuracy: 0.8155 - val_loss: 0.3668 - val_accuracy: 0.8222\n",
            "Epoch 37/100\n",
            "1334/1334 [==============================] - 14s 10ms/step - loss: 0.3416 - accuracy: 0.8369 - val_loss: 0.3841 - val_accuracy: 0.8160\n",
            "Epoch 38/100\n",
            "1334/1334 [==============================] - 14s 10ms/step - loss: 0.3340 - accuracy: 0.8445 - val_loss: 0.3624 - val_accuracy: 0.8207\n",
            "Epoch 39/100\n",
            "1334/1334 [==============================] - 14s 10ms/step - loss: 0.3195 - accuracy: 0.8482 - val_loss: 0.3371 - val_accuracy: 0.8380\n",
            "Epoch 40/100\n",
            "1334/1334 [==============================] - 14s 10ms/step - loss: 0.3096 - accuracy: 0.8543 - val_loss: 0.3112 - val_accuracy: 0.8505\n",
            "Epoch 41/100\n",
            "1334/1334 [==============================] - 13s 10ms/step - loss: 0.2835 - accuracy: 0.8658 - val_loss: 0.3110 - val_accuracy: 0.8505\n",
            "Epoch 42/100\n",
            "1334/1334 [==============================] - 13s 10ms/step - loss: 0.2803 - accuracy: 0.8690 - val_loss: 0.2872 - val_accuracy: 0.8628\n",
            "Epoch 43/100\n",
            "1334/1334 [==============================] - 13s 10ms/step - loss: 0.2685 - accuracy: 0.8761 - val_loss: 0.2765 - val_accuracy: 0.8679\n",
            "Epoch 44/100\n",
            "1334/1334 [==============================] - 13s 10ms/step - loss: 0.2533 - accuracy: 0.8817 - val_loss: 0.2794 - val_accuracy: 0.8678\n",
            "Epoch 45/100\n",
            "1334/1334 [==============================] - 14s 10ms/step - loss: 0.2602 - accuracy: 0.8771 - val_loss: 0.2821 - val_accuracy: 0.8700\n",
            "Epoch 46/100\n",
            "1334/1334 [==============================] - 13s 10ms/step - loss: 0.2533 - accuracy: 0.8811 - val_loss: 0.2778 - val_accuracy: 0.8698\n",
            "Epoch 47/100\n",
            "1334/1334 [==============================] - 14s 10ms/step - loss: 0.2393 - accuracy: 0.8864 - val_loss: 0.6502 - val_accuracy: 0.6081\n",
            "Epoch 48/100\n",
            "1334/1334 [==============================] - 14s 10ms/step - loss: 0.5950 - accuracy: 0.6862 - val_loss: 0.3329 - val_accuracy: 0.8448\n",
            "Epoch 49/100\n",
            "1334/1334 [==============================] - 14s 10ms/step - loss: 0.2814 - accuracy: 0.8690 - val_loss: 0.2525 - val_accuracy: 0.8807\n",
            "Epoch 50/100\n",
            "1334/1334 [==============================] - 14s 10ms/step - loss: 0.2425 - accuracy: 0.8873 - val_loss: 0.2392 - val_accuracy: 0.8857\n",
            "Epoch 51/100\n",
            "1334/1334 [==============================] - 14s 10ms/step - loss: 0.2276 - accuracy: 0.8908 - val_loss: 0.2312 - val_accuracy: 0.8890\n",
            "Epoch 52/100\n",
            "1334/1334 [==============================] - 14s 10ms/step - loss: 0.2206 - accuracy: 0.8958 - val_loss: 0.2297 - val_accuracy: 0.8909\n",
            "Epoch 53/100\n",
            "1334/1334 [==============================] - 14s 10ms/step - loss: 0.3003 - accuracy: 0.8426 - val_loss: 0.6247 - val_accuracy: 0.6437\n",
            "Epoch 54/100\n",
            "1334/1334 [==============================] - 14s 10ms/step - loss: 0.6076 - accuracy: 0.6608 - val_loss: 0.5703 - val_accuracy: 0.6896\n",
            "Epoch 55/100\n",
            "1334/1334 [==============================] - 14s 10ms/step - loss: 0.5736 - accuracy: 0.6910 - val_loss: 0.5594 - val_accuracy: 0.6920\n",
            "Epoch 56/100\n",
            "1334/1334 [==============================] - 14s 10ms/step - loss: 0.5626 - accuracy: 0.6968 - val_loss: 0.5453 - val_accuracy: 0.7035\n",
            "Epoch 57/100\n",
            "1334/1334 [==============================] - 14s 10ms/step - loss: 0.5551 - accuracy: 0.6980 - val_loss: 0.5426 - val_accuracy: 0.7034\n",
            "Epoch 58/100\n",
            "1334/1334 [==============================] - 13s 10ms/step - loss: 0.5382 - accuracy: 0.7108 - val_loss: 0.5347 - val_accuracy: 0.7078\n",
            "Epoch 59/100\n",
            "1334/1334 [==============================] - 14s 10ms/step - loss: 0.5328 - accuracy: 0.7101 - val_loss: 0.5269 - val_accuracy: 0.7168\n",
            "Epoch 60/100\n",
            "1334/1334 [==============================] - 14s 10ms/step - loss: 0.5284 - accuracy: 0.7156 - val_loss: 0.5302 - val_accuracy: 0.7156\n",
            "Epoch 61/100\n",
            "1334/1334 [==============================] - 14s 10ms/step - loss: 0.5197 - accuracy: 0.7232 - val_loss: 0.5188 - val_accuracy: 0.7196\n",
            "Epoch 62/100\n",
            "1334/1334 [==============================] - 13s 10ms/step - loss: 0.5135 - accuracy: 0.7218 - val_loss: 0.5108 - val_accuracy: 0.7264\n",
            "Epoch 63/100\n",
            "1334/1334 [==============================] - 14s 10ms/step - loss: 0.5043 - accuracy: 0.7282 - val_loss: 0.5038 - val_accuracy: 0.7340\n",
            "Epoch 64/100\n",
            "1334/1334 [==============================] - 14s 10ms/step - loss: 0.5014 - accuracy: 0.7380 - val_loss: 0.5003 - val_accuracy: 0.7393\n",
            "Epoch 65/100\n",
            "1334/1334 [==============================] - 13s 10ms/step - loss: 0.4920 - accuracy: 0.7428 - val_loss: 0.4955 - val_accuracy: 0.7433\n",
            "Epoch 66/100\n",
            "1334/1334 [==============================] - 14s 10ms/step - loss: 0.4818 - accuracy: 0.7528 - val_loss: 0.4738 - val_accuracy: 0.7636\n",
            "Epoch 67/100\n",
            "1334/1334 [==============================] - 14s 10ms/step - loss: 0.4701 - accuracy: 0.7594 - val_loss: 0.4760 - val_accuracy: 0.7577\n",
            "Epoch 68/100\n",
            "1334/1334 [==============================] - 13s 10ms/step - loss: 0.4633 - accuracy: 0.7630 - val_loss: 0.4793 - val_accuracy: 0.7544\n",
            "Epoch 69/100\n",
            "1334/1334 [==============================] - 14s 10ms/step - loss: 0.4546 - accuracy: 0.7700 - val_loss: 0.4644 - val_accuracy: 0.7660\n",
            "Epoch 70/100\n",
            "1334/1334 [==============================] - 14s 10ms/step - loss: 0.4501 - accuracy: 0.7745 - val_loss: 0.4600 - val_accuracy: 0.7681\n",
            "Epoch 71/100\n",
            "1334/1334 [==============================] - 14s 10ms/step - loss: 0.4394 - accuracy: 0.7808 - val_loss: 0.4515 - val_accuracy: 0.7748\n",
            "Epoch 72/100\n",
            "1334/1334 [==============================] - 14s 10ms/step - loss: 0.4324 - accuracy: 0.7867 - val_loss: 0.4277 - val_accuracy: 0.7890\n",
            "Epoch 73/100\n",
            "1334/1334 [==============================] - 13s 10ms/step - loss: 0.4144 - accuracy: 0.7957 - val_loss: 0.4232 - val_accuracy: 0.7901\n",
            "Epoch 74/100\n",
            "1334/1334 [==============================] - 14s 10ms/step - loss: 0.4181 - accuracy: 0.7941 - val_loss: 0.4199 - val_accuracy: 0.7948\n",
            "Epoch 75/100\n",
            "1334/1334 [==============================] - 14s 10ms/step - loss: 0.4090 - accuracy: 0.8024 - val_loss: 0.4204 - val_accuracy: 0.7959\n",
            "Epoch 76/100\n",
            "1334/1334 [==============================] - 14s 10ms/step - loss: 0.3992 - accuracy: 0.8078 - val_loss: 0.4055 - val_accuracy: 0.8046\n",
            "Epoch 77/100\n",
            "1334/1334 [==============================] - 14s 10ms/step - loss: 0.3869 - accuracy: 0.8165 - val_loss: 0.3874 - val_accuracy: 0.8169\n",
            "Epoch 78/100\n",
            "1334/1334 [==============================] - 14s 10ms/step - loss: 0.3751 - accuracy: 0.8249 - val_loss: 0.3719 - val_accuracy: 0.8252\n",
            "Epoch 79/100\n",
            "1334/1334 [==============================] - 14s 11ms/step - loss: 0.3643 - accuracy: 0.8318 - val_loss: 0.3417 - val_accuracy: 0.8402\n",
            "Epoch 80/100\n",
            "1334/1334 [==============================] - 13s 10ms/step - loss: 0.3277 - accuracy: 0.8554 - val_loss: 0.2259 - val_accuracy: 0.9135\n",
            "Epoch 81/100\n",
            "1334/1334 [==============================] - 14s 10ms/step - loss: 0.1867 - accuracy: 0.9279 - val_loss: 0.1458 - val_accuracy: 0.9403\n",
            "Epoch 82/100\n",
            "1334/1334 [==============================] - 14s 10ms/step - loss: 0.1441 - accuracy: 0.9420 - val_loss: 0.1256 - val_accuracy: 0.9497\n",
            "Epoch 83/100\n",
            "1334/1334 [==============================] - 14s 10ms/step - loss: 0.1260 - accuracy: 0.9473 - val_loss: 0.1156 - val_accuracy: 0.9505\n",
            "Epoch 84/100\n",
            "1334/1334 [==============================] - 14s 10ms/step - loss: 0.1130 - accuracy: 0.9523 - val_loss: 0.1045 - val_accuracy: 0.9531\n",
            "Epoch 85/100\n",
            "1334/1334 [==============================] - 14s 10ms/step - loss: 0.1087 - accuracy: 0.9529 - val_loss: 0.1130 - val_accuracy: 0.9498\n",
            "Epoch 86/100\n",
            "1334/1334 [==============================] - 14s 10ms/step - loss: 0.0870 - accuracy: 0.9620 - val_loss: 0.0828 - val_accuracy: 0.9604\n",
            "Epoch 87/100\n",
            "1334/1334 [==============================] - 13s 10ms/step - loss: 0.2247 - accuracy: 0.8841 - val_loss: 0.6329 - val_accuracy: 0.6417\n",
            "Epoch 88/100\n",
            "1334/1334 [==============================] - 14s 10ms/step - loss: 0.6024 - accuracy: 0.6679 - val_loss: 0.5119 - val_accuracy: 0.7311\n",
            "Epoch 89/100\n",
            "1334/1334 [==============================] - 13s 10ms/step - loss: 0.4866 - accuracy: 0.7543 - val_loss: 0.6360 - val_accuracy: 0.6288\n",
            "Epoch 90/100\n",
            "1334/1334 [==============================] - 13s 10ms/step - loss: 0.5949 - accuracy: 0.6716 - val_loss: 0.5219 - val_accuracy: 0.7289\n",
            "Epoch 91/100\n",
            "1334/1334 [==============================] - 13s 10ms/step - loss: 0.4726 - accuracy: 0.7653 - val_loss: 0.2211 - val_accuracy: 0.9110\n",
            "Epoch 92/100\n",
            "1334/1334 [==============================] - 13s 10ms/step - loss: 0.2462 - accuracy: 0.9000 - val_loss: 0.2450 - val_accuracy: 0.9012\n",
            "Epoch 93/100\n",
            "1334/1334 [==============================] - 14s 10ms/step - loss: 0.2172 - accuracy: 0.9185 - val_loss: 0.1597 - val_accuracy: 0.9339\n",
            "Epoch 94/100\n",
            "1334/1334 [==============================] - 13s 10ms/step - loss: 0.1567 - accuracy: 0.9339 - val_loss: 0.1471 - val_accuracy: 0.9374\n",
            "Epoch 95/100\n",
            "1334/1334 [==============================] - 14s 10ms/step - loss: 0.1711 - accuracy: 0.9297 - val_loss: 0.1391 - val_accuracy: 0.9374\n",
            "Epoch 96/100\n",
            "1334/1334 [==============================] - 14s 10ms/step - loss: 0.1354 - accuracy: 0.9428 - val_loss: 0.1271 - val_accuracy: 0.9421\n",
            "Epoch 97/100\n",
            "1334/1334 [==============================] - 14s 10ms/step - loss: 0.1222 - accuracy: 0.9459 - val_loss: 0.1164 - val_accuracy: 0.9442\n",
            "Epoch 98/100\n",
            "1334/1334 [==============================] - 14s 10ms/step - loss: 0.1149 - accuracy: 0.9463 - val_loss: 0.1052 - val_accuracy: 0.9516\n",
            "Epoch 99/100\n",
            "1334/1334 [==============================] - 13s 10ms/step - loss: 0.1101 - accuracy: 0.9476 - val_loss: 0.1036 - val_accuracy: 0.9509\n",
            "Epoch 100/100\n",
            "1334/1334 [==============================] - 13s 10ms/step - loss: 0.1060 - accuracy: 0.9523 - val_loss: 0.0968 - val_accuracy: 0.9543\n",
            "Fold 2, 100 epochs, 1363 sec\n"
          ],
          "name": "stdout"
        },
        {
          "output_type": "display_data",
          "data": {
            "image/png": "[encoded data removed]",
            "text/plain": [
              "<Figure size 576x360 with 1 Axes>"
            ]
          },
          "metadata": {
            "tags": [],
            "needs_background": "light"
          }
        },
        {
          "output_type": "stream",
          "text": [
            "MODEL\n",
            "make_DNN\n",
            "input shape: (64, 4)\n",
            "FIT\n",
            "Epoch 1/100\n",
            "1334/1334 [==============================] - 18s 11ms/step - loss: 0.6946 - accuracy: 0.5423 - val_loss: 0.6304 - val_accuracy: 0.6342\n",
            "Epoch 2/100\n",
            "1334/1334 [==============================] - 13s 10ms/step - loss: 0.6291 - accuracy: 0.6381 - val_loss: 0.6167 - val_accuracy: 0.6509\n",
            "Epoch 3/100\n",
            "1334/1334 [==============================] - 13s 10ms/step - loss: 0.6052 - accuracy: 0.6636 - val_loss: 0.5757 - val_accuracy: 0.6894\n",
            "Epoch 4/100\n",
            "1334/1334 [==============================] - 14s 10ms/step - loss: 0.5663 - accuracy: 0.6928 - val_loss: 0.5515 - val_accuracy: 0.6991\n",
            "Epoch 5/100\n",
            "1334/1334 [==============================] - 14s 10ms/step - loss: 0.5514 - accuracy: 0.7028 - val_loss: 0.5478 - val_accuracy: 0.6977\n",
            "Epoch 6/100\n",
            "1334/1334 [==============================] - 13s 10ms/step - loss: 0.5435 - accuracy: 0.7071 - val_loss: 0.5424 - val_accuracy: 0.7014\n",
            "Epoch 7/100\n",
            "1334/1334 [==============================] - 13s 10ms/step - loss: 0.5327 - accuracy: 0.7141 - val_loss: 0.5415 - val_accuracy: 0.7015\n",
            "Epoch 8/100\n",
            "1334/1334 [==============================] - 13s 10ms/step - loss: 0.5291 - accuracy: 0.7141 - val_loss: 0.5342 - val_accuracy: 0.7082\n",
            "Epoch 9/100\n",
            "1334/1334 [==============================] - 13s 10ms/step - loss: 0.5260 - accuracy: 0.7173 - val_loss: 0.5320 - val_accuracy: 0.7104\n",
            "Epoch 10/100\n",
            "1334/1334 [==============================] - 14s 10ms/step - loss: 0.5205 - accuracy: 0.7228 - val_loss: 0.5425 - val_accuracy: 0.7046\n",
            "Epoch 11/100\n",
            "1334/1334 [==============================] - 13s 10ms/step - loss: 0.5139 - accuracy: 0.7248 - val_loss: 0.5397 - val_accuracy: 0.7052\n",
            "Epoch 12/100\n",
            "1334/1334 [==============================] - 13s 10ms/step - loss: 0.5114 - accuracy: 0.7232 - val_loss: 0.5292 - val_accuracy: 0.7127\n",
            "Epoch 13/100\n",
            "1334/1334 [==============================] - 13s 10ms/step - loss: 0.5043 - accuracy: 0.7303 - val_loss: 0.5285 - val_accuracy: 0.7129\n",
            "Epoch 14/100\n",
            "1334/1334 [==============================] - 13s 10ms/step - loss: 0.5031 - accuracy: 0.7317 - val_loss: 0.5289 - val_accuracy: 0.7134\n",
            "Epoch 15/100\n",
            "1334/1334 [==============================] - 14s 10ms/step - loss: 0.4978 - accuracy: 0.7384 - val_loss: 0.5297 - val_accuracy: 0.7104\n",
            "Epoch 16/100\n",
            "1334/1334 [==============================] - 13s 10ms/step - loss: 0.5014 - accuracy: 0.7353 - val_loss: 0.5316 - val_accuracy: 0.7155\n",
            "Epoch 17/100\n",
            "1334/1334 [==============================] - 13s 10ms/step - loss: 0.4961 - accuracy: 0.7360 - val_loss: 0.5342 - val_accuracy: 0.7112\n",
            "Epoch 18/100\n",
            "1334/1334 [==============================] - 13s 10ms/step - loss: 0.4895 - accuracy: 0.7409 - val_loss: 0.5242 - val_accuracy: 0.7166\n",
            "Epoch 19/100\n",
            "1334/1334 [==============================] - 13s 10ms/step - loss: 0.4820 - accuracy: 0.7478 - val_loss: 0.5266 - val_accuracy: 0.7180\n",
            "Epoch 20/100\n",
            "1334/1334 [==============================] - 14s 10ms/step - loss: 0.4787 - accuracy: 0.7482 - val_loss: 0.5302 - val_accuracy: 0.7122\n",
            "Epoch 21/100\n",
            "1334/1334 [==============================] - 13s 10ms/step - loss: 0.4750 - accuracy: 0.7505 - val_loss: 0.5274 - val_accuracy: 0.7160\n",
            "Epoch 22/100\n",
            "1334/1334 [==============================] - 13s 10ms/step - loss: 0.4746 - accuracy: 0.7531 - val_loss: 0.5400 - val_accuracy: 0.7091\n",
            "Epoch 23/100\n",
            "1334/1334 [==============================] - 13s 10ms/step - loss: 0.4721 - accuracy: 0.7511 - val_loss: 0.5329 - val_accuracy: 0.7148\n",
            "Epoch 24/100\n",
            "1334/1334 [==============================] - 13s 10ms/step - loss: 0.4622 - accuracy: 0.7557 - val_loss: 0.5297 - val_accuracy: 0.7198\n",
            "Epoch 25/100\n",
            "1334/1334 [==============================] - 14s 10ms/step - loss: 0.4653 - accuracy: 0.7583 - val_loss: 0.5358 - val_accuracy: 0.7196\n",
            "Epoch 26/100\n",
            "1334/1334 [==============================] - 13s 10ms/step - loss: 0.4576 - accuracy: 0.7608 - val_loss: 0.5299 - val_accuracy: 0.7189\n",
            "Epoch 27/100\n",
            "1334/1334 [==============================] - 14s 10ms/step - loss: 0.4656 - accuracy: 0.7560 - val_loss: 0.5357 - val_accuracy: 0.7208\n",
            "Epoch 28/100\n",
            "1334/1334 [==============================] - 13s 10ms/step - loss: 0.4572 - accuracy: 0.7605 - val_loss: 0.5345 - val_accuracy: 0.7173\n",
            "Epoch 29/100\n",
            "1334/1334 [==============================] - 13s 10ms/step - loss: 0.4535 - accuracy: 0.7615 - val_loss: 0.5360 - val_accuracy: 0.7252\n",
            "Epoch 30/100\n",
            "1334/1334 [==============================] - 14s 10ms/step - loss: 0.4416 - accuracy: 0.7720 - val_loss: 0.5433 - val_accuracy: 0.7182\n",
            "Epoch 31/100\n",
            "1334/1334 [==============================] - 13s 10ms/step - loss: 0.4497 - accuracy: 0.7656 - val_loss: 0.5363 - val_accuracy: 0.7172\n",
            "Epoch 32/100\n",
            "1334/1334 [==============================] - 14s 10ms/step - loss: 0.4439 - accuracy: 0.7682 - val_loss: 0.5391 - val_accuracy: 0.7206\n",
            "Epoch 33/100\n",
            "1334/1334 [==============================] - 14s 10ms/step - loss: 0.4414 - accuracy: 0.7714 - val_loss: 0.5527 - val_accuracy: 0.7233\n",
            "Epoch 34/100\n",
            "1334/1334 [==============================] - 13s 10ms/step - loss: 0.4334 - accuracy: 0.7776 - val_loss: 0.5464 - val_accuracy: 0.7231\n",
            "Epoch 35/100\n",
            "1334/1334 [==============================] - 13s 10ms/step - loss: 0.4310 - accuracy: 0.7754 - val_loss: 0.5592 - val_accuracy: 0.7249\n",
            "Epoch 36/100\n",
            "1334/1334 [==============================] - 13s 10ms/step - loss: 0.4324 - accuracy: 0.7763 - val_loss: 0.5413 - val_accuracy: 0.7229\n",
            "Epoch 37/100\n",
            "1334/1334 [==============================] - 13s 10ms/step - loss: 0.4313 - accuracy: 0.7784 - val_loss: 0.5479 - val_accuracy: 0.7212\n",
            "Epoch 38/100\n",
            "1334/1334 [==============================] - 13s 10ms/step - loss: 0.4197 - accuracy: 0.7840 - val_loss: 0.5553 - val_accuracy: 0.7271\n",
            "Epoch 39/100\n",
            "1334/1334 [==============================] - 13s 10ms/step - loss: 0.4226 - accuracy: 0.7830 - val_loss: 0.5586 - val_accuracy: 0.7213\n",
            "Epoch 40/100\n",
            "1334/1334 [==============================] - 13s 10ms/step - loss: 0.4234 - accuracy: 0.7827 - val_loss: 0.5441 - val_accuracy: 0.7204\n",
            "Epoch 41/100\n",
            "1334/1334 [==============================] - 13s 10ms/step - loss: 0.4134 - accuracy: 0.7891 - val_loss: 0.5601 - val_accuracy: 0.7252\n",
            "Epoch 42/100\n",
            "1334/1334 [==============================] - 14s 10ms/step - loss: 0.4177 - accuracy: 0.7837 - val_loss: 0.5565 - val_accuracy: 0.7257\n",
            "Epoch 43/100\n",
            "1334/1334 [==============================] - 13s 10ms/step - loss: 0.4156 - accuracy: 0.7887 - val_loss: 0.5656 - val_accuracy: 0.7237\n",
            "Epoch 44/100\n",
            "1334/1334 [==============================] - 13s 10ms/step - loss: 0.4131 - accuracy: 0.7871 - val_loss: 0.5807 - val_accuracy: 0.7232\n",
            "Epoch 45/100\n",
            "1334/1334 [==============================] - 13s 10ms/step - loss: 0.4105 - accuracy: 0.7894 - val_loss: 0.5523 - val_accuracy: 0.7272\n",
            "Epoch 46/100\n",
            "1334/1334 [==============================] - 13s 10ms/step - loss: 0.4008 - accuracy: 0.7943 - val_loss: 0.5633 - val_accuracy: 0.7211\n",
            "Epoch 47/100\n",
            "1334/1334 [==============================] - 13s 10ms/step - loss: 0.4021 - accuracy: 0.7916 - val_loss: 0.5589 - val_accuracy: 0.7243\n",
            "Epoch 48/100\n",
            "1334/1334 [==============================] - 13s 10ms/step - loss: 0.4218 - accuracy: 0.7853 - val_loss: 0.5716 - val_accuracy: 0.7266\n",
            "Epoch 49/100\n",
            "1334/1334 [==============================] - 13s 10ms/step - loss: 0.4041 - accuracy: 0.7899 - val_loss: 0.5642 - val_accuracy: 0.7288\n",
            "Epoch 50/100\n",
            "1334/1334 [==============================] - 13s 10ms/step - loss: 0.4010 - accuracy: 0.7962 - val_loss: 0.5909 - val_accuracy: 0.7232\n",
            "Epoch 51/100\n",
            "1334/1334 [==============================] - 13s 10ms/step - loss: 0.3904 - accuracy: 0.8044 - val_loss: 0.5702 - val_accuracy: 0.7219\n",
            "Epoch 52/100\n",
            "1334/1334 [==============================] - 14s 10ms/step - loss: 0.3862 - accuracy: 0.8020 - val_loss: 0.5687 - val_accuracy: 0.7279\n",
            "Epoch 53/100\n",
            "1334/1334 [==============================] - 13s 10ms/step - loss: 0.3957 - accuracy: 0.7995 - val_loss: 0.5856 - val_accuracy: 0.7268\n",
            "Epoch 54/100\n",
            "1334/1334 [==============================] - 13s 10ms/step - loss: 0.3887 - accuracy: 0.8045 - val_loss: 0.5804 - val_accuracy: 0.7235\n",
            "Epoch 55/100\n",
            "1334/1334 [==============================] - 13s 10ms/step - loss: 0.3898 - accuracy: 0.8019 - val_loss: 0.5912 - val_accuracy: 0.7228\n",
            "Epoch 56/100\n",
            "1334/1334 [==============================] - 13s 10ms/step - loss: 0.3917 - accuracy: 0.7994 - val_loss: 0.5794 - val_accuracy: 0.7293\n",
            "Epoch 57/100\n",
            "1334/1334 [==============================] - 13s 10ms/step - loss: 0.3765 - accuracy: 0.8081 - val_loss: 0.5968 - val_accuracy: 0.7262\n",
            "Epoch 58/100\n",
            "1334/1334 [==============================] - 13s 10ms/step - loss: 0.3744 - accuracy: 0.8139 - val_loss: 0.5736 - val_accuracy: 0.7254\n",
            "Epoch 59/100\n",
            "1334/1334 [==============================] - 14s 10ms/step - loss: 0.3767 - accuracy: 0.8133 - val_loss: 0.5969 - val_accuracy: 0.7311\n",
            "Epoch 60/100\n",
            "1334/1334 [==============================] - 13s 10ms/step - loss: 0.3768 - accuracy: 0.8115 - val_loss: 0.5806 - val_accuracy: 0.7276\n",
            "Epoch 61/100\n",
            "1334/1334 [==============================] - 13s 10ms/step - loss: 0.3696 - accuracy: 0.8150 - val_loss: 0.6113 - val_accuracy: 0.7277\n",
            "Epoch 62/100\n",
            "1334/1334 [==============================] - 13s 10ms/step - loss: 0.3762 - accuracy: 0.8128 - val_loss: 0.6171 - val_accuracy: 0.7227\n",
            "Epoch 63/100\n",
            "1334/1334 [==============================] - 13s 10ms/step - loss: 0.3621 - accuracy: 0.8184 - val_loss: 0.6113 - val_accuracy: 0.7278\n",
            "Epoch 64/100\n",
            "1334/1334 [==============================] - 13s 10ms/step - loss: 0.3607 - accuracy: 0.8174 - val_loss: 0.5976 - val_accuracy: 0.7261\n",
            "Epoch 65/100\n",
            "1334/1334 [==============================] - 13s 10ms/step - loss: 0.3658 - accuracy: 0.8165 - val_loss: 0.6158 - val_accuracy: 0.7238\n",
            "Epoch 66/100\n",
            "1334/1334 [==============================] - 13s 10ms/step - loss: 0.3600 - accuracy: 0.8199 - val_loss: 0.5839 - val_accuracy: 0.7292\n",
            "Epoch 67/100\n",
            "1334/1334 [==============================] - 13s 10ms/step - loss: 0.3553 - accuracy: 0.8220 - val_loss: 0.5867 - val_accuracy: 0.7280\n",
            "Epoch 68/100\n",
            "1334/1334 [==============================] - 13s 10ms/step - loss: 0.3565 - accuracy: 0.8241 - val_loss: 0.6050 - val_accuracy: 0.7291\n",
            "Epoch 69/100\n",
            "1334/1334 [==============================] - 14s 10ms/step - loss: 0.3526 - accuracy: 0.8260 - val_loss: 0.6221 - val_accuracy: 0.7293\n",
            "Epoch 70/100\n",
            "1334/1334 [==============================] - 13s 10ms/step - loss: 0.3564 - accuracy: 0.8190 - val_loss: 0.6271 - val_accuracy: 0.7313\n",
            "Epoch 71/100\n",
            "1334/1334 [==============================] - 14s 10ms/step - loss: 0.3526 - accuracy: 0.8234 - val_loss: 0.6155 - val_accuracy: 0.7304\n",
            "Epoch 72/100\n",
            "1334/1334 [==============================] - 13s 10ms/step - loss: 0.3672 - accuracy: 0.8178 - val_loss: 0.5961 - val_accuracy: 0.7299\n",
            "Epoch 73/100\n",
            "1334/1334 [==============================] - 13s 10ms/step - loss: 0.3574 - accuracy: 0.8255 - val_loss: 0.6001 - val_accuracy: 0.7273\n",
            "Epoch 74/100\n",
            "1334/1334 [==============================] - 14s 10ms/step - loss: 0.3549 - accuracy: 0.8263 - val_loss: 0.6158 - val_accuracy: 0.7282\n",
            "Epoch 75/100\n",
            "1334/1334 [==============================] - 13s 10ms/step - loss: 0.3392 - accuracy: 0.8312 - val_loss: 0.6320 - val_accuracy: 0.7182\n",
            "Epoch 76/100\n",
            "1334/1334 [==============================] - 13s 10ms/step - loss: 0.3462 - accuracy: 0.8294 - val_loss: 0.6447 - val_accuracy: 0.7320\n",
            "Epoch 77/100\n",
            "1334/1334 [==============================] - 13s 10ms/step - loss: 0.3466 - accuracy: 0.8287 - val_loss: 0.6356 - val_accuracy: 0.7276\n",
            "Epoch 78/100\n",
            "1334/1334 [==============================] - 13s 10ms/step - loss: 0.3484 - accuracy: 0.8273 - val_loss: 0.6406 - val_accuracy: 0.7324\n",
            "Epoch 79/100\n",
            "1334/1334 [==============================] - 13s 10ms/step - loss: 0.3445 - accuracy: 0.8314 - val_loss: 0.6022 - val_accuracy: 0.7307\n",
            "Epoch 80/100\n",
            "1334/1334 [==============================] - 13s 10ms/step - loss: 0.3416 - accuracy: 0.8310 - val_loss: 0.6283 - val_accuracy: 0.7304\n",
            "Epoch 81/100\n",
            "1334/1334 [==============================] - 13s 10ms/step - loss: 0.3453 - accuracy: 0.8286 - val_loss: 0.6060 - val_accuracy: 0.7301\n",
            "Epoch 82/100\n",
            "1334/1334 [==============================] - 13s 10ms/step - loss: 0.3396 - accuracy: 0.8323 - val_loss: 0.6318 - val_accuracy: 0.7283\n",
            "Epoch 83/100\n",
            "1334/1334 [==============================] - 13s 10ms/step - loss: 0.3335 - accuracy: 0.8341 - val_loss: 0.6439 - val_accuracy: 0.7289\n",
            "Epoch 84/100\n",
            "1334/1334 [==============================] - 13s 10ms/step - loss: 0.3420 - accuracy: 0.8315 - val_loss: 0.6285 - val_accuracy: 0.7262\n",
            "Epoch 85/100\n",
            "1334/1334 [==============================] - 13s 10ms/step - loss: 0.3386 - accuracy: 0.8333 - val_loss: 0.6456 - val_accuracy: 0.7205\n",
            "Epoch 86/100\n",
            "1334/1334 [==============================] - 13s 10ms/step - loss: 0.3309 - accuracy: 0.8363 - val_loss: 0.6533 - val_accuracy: 0.7282\n",
            "Epoch 87/100\n",
            "1334/1334 [==============================] - 13s 10ms/step - loss: 0.3287 - accuracy: 0.8395 - val_loss: 0.6547 - val_accuracy: 0.7268\n",
            "Epoch 88/100\n",
            "1334/1334 [==============================] - 13s 10ms/step - loss: 0.3420 - accuracy: 0.8322 - val_loss: 0.6519 - val_accuracy: 0.7257\n",
            "Epoch 89/100\n",
            "1334/1334 [==============================] - 13s 10ms/step - loss: 0.3387 - accuracy: 0.8367 - val_loss: 0.6536 - val_accuracy: 0.7304\n",
            "Epoch 90/100\n",
            "1334/1334 [==============================] - 13s 10ms/step - loss: 0.3222 - accuracy: 0.8414 - val_loss: 0.6538 - val_accuracy: 0.7275\n",
            "Epoch 91/100\n",
            "1334/1334 [==============================] - 13s 10ms/step - loss: 0.3255 - accuracy: 0.8425 - val_loss: 0.6349 - val_accuracy: 0.7264\n",
            "Epoch 92/100\n",
            "1334/1334 [==============================] - 13s 10ms/step - loss: 0.3282 - accuracy: 0.8388 - val_loss: 0.6603 - val_accuracy: 0.7289\n",
            "Epoch 93/100\n",
            "1334/1334 [==============================] - 13s 10ms/step - loss: 0.3238 - accuracy: 0.8418 - val_loss: 0.6720 - val_accuracy: 0.7256\n",
            "Epoch 94/100\n",
            "1334/1334 [==============================] - 14s 10ms/step - loss: 0.3308 - accuracy: 0.8371 - val_loss: 0.6874 - val_accuracy: 0.7256\n",
            "Epoch 95/100\n",
            "1334/1334 [==============================] - 13s 10ms/step - loss: 0.3290 - accuracy: 0.8393 - val_loss: 0.6947 - val_accuracy: 0.7241\n",
            "Epoch 96/100\n",
            "1334/1334 [==============================] - 14s 10ms/step - loss: 0.3251 - accuracy: 0.8452 - val_loss: 0.6875 - val_accuracy: 0.7301\n",
            "Epoch 97/100\n",
            "1334/1334 [==============================] - 14s 10ms/step - loss: 0.3105 - accuracy: 0.8480 - val_loss: 0.5734 - val_accuracy: 0.7160\n",
            "Epoch 98/100\n",
            "1334/1334 [==============================] - 13s 10ms/step - loss: 0.3582 - accuracy: 0.8257 - val_loss: 0.6599 - val_accuracy: 0.7311\n",
            "Epoch 99/100\n",
            "1334/1334 [==============================] - 14s 10ms/step - loss: 0.3143 - accuracy: 0.8489 - val_loss: 0.6754 - val_accuracy: 0.7282\n",
            "Epoch 100/100\n",
            "1334/1334 [==============================] - 14s 10ms/step - loss: 0.3118 - accuracy: 0.8480 - val_loss: 0.6555 - val_accuracy: 0.7267\n",
            "Fold 3, 100 epochs, 1345 sec\n"
          ],
          "name": "stdout"
        },
        {
          "output_type": "display_data",
          "data": {
            "image/png": "[encoded data removed]",
            "text/plain": [
              "<Figure size 576x360 with 1 Axes>"
            ]
          },
          "metadata": {
            "tags": [],
            "needs_background": "light"
          }
        }
      ]
    },
    {
      "cell_type": "code",
      "metadata": {
        "colab": {
          "base_uri": "https://localhost:8080/"
        },
        "id": "e-jG1h5fj2Ua",
        "outputId": "8b8105e6-2a9f-49c7-a580-d8b41dbafbd9"
      },
      "source": [
        "from keras.models import load_model\n",
        "X,y = prepare_inputs_len_x_alphabet(pc_test,nc_test,ALPHABET)\n",
        "best_model=load_model(MODELPATH)\n",
        "scores = best_model.evaluate(X, y, verbose=0)\n",
        "print(\"The best model parameters were saved during cross-validation.\")\n",
        "print(\"Best was defined as maximum validation accuracy at end of any epoch.\")\n",
        "print(\"Now re-load the best model and test it on previously unseen data.\")\n",
        "print(\"Test on\",len(pc_test),\"PC seqs\")\n",
        "print(\"Test on\",len(nc_test),\"NC seqs\")\n",
        "print(\"%s: %.2f%%\" % (best_model.metrics_names[1], scores[1]*100))\n"
      ],
      "execution_count": 12,
      "outputs": [
        {
          "output_type": "stream",
          "text": [
            "The best model parameters were saved during cross-validation.\n",
            "Best was defined as maximum validation accuracy at end of any epoch.\n",
            "Now re-load the best model and test it on previously unseen data.\n",
            "Test on 1000 PC seqs\n",
            "Test on 1000 NC seqs\n",
            "accuracy: 98.85%\n"
          ],
          "name": "stdout"
        }
      ]
    },
    {
      "cell_type": "code",
      "metadata": {
        "colab": {
          "base_uri": "https://localhost:8080/",
          "height": 312
        },
        "id": "VycUnmvUj2Ue",
        "outputId": "a1162471-c787-49bb-a0c5-8a3d305657d5"
      },
      "source": [
        "from sklearn.metrics import roc_curve\n",
        "from sklearn.metrics import roc_auc_score\n",
        "ns_probs = [0 for _ in range(len(y))]\n",
        "bm_probs = best_model.predict(X)\n",
        "ns_auc = roc_auc_score(y, ns_probs)\n",
        "bm_auc = roc_auc_score(y, bm_probs)\n",
        "ns_fpr, ns_tpr, _ = roc_curve(y, ns_probs)\n",
        "bm_fpr, bm_tpr, _ = roc_curve(y, bm_probs)\n",
        "plt.plot(ns_fpr, ns_tpr, linestyle='--', label='Guess, auc=%.4f'%ns_auc)\n",
        "plt.plot(bm_fpr, bm_tpr, marker='.', label='Model, auc=%.4f'%bm_auc)\n",
        "plt.title('ROC')\n",
        "plt.xlabel('False Positive Rate')\n",
        "plt.ylabel('True Positive Rate')\n",
        "plt.legend()\n",
        "plt.show()\n",
        "print(\"%s: %.2f%%\" %('AUC',bm_auc*100.0))\n"
      ],
      "execution_count": 13,
      "outputs": [
        {
          "output_type": "display_data",
          "data": {
            "image/png": "[encoded data removed]",
            "text/plain": [
              "<Figure size 432x288 with 1 Axes>"
            ]
          },
          "metadata": {
            "tags": [],
            "needs_background": "light"
          }
        },
        {
          "output_type": "stream",
          "text": [
            "AUC: 99.96%\n"
          ],
          "name": "stdout"
        }
      ]
    },
    {
      "cell_type": "code",
      "metadata": {
        "colab": {
          "base_uri": "https://localhost:8080/",
          "height": 36
        },
        "id": "kFMb6rGNj2Ug",
        "outputId": "d6b47567-3415-4e0e-da27-c7b9593d8715"
      },
      "source": [
        "t = time.time()\n",
        "time.strftime('%Y-%m-%d %H:%M:%S %Z', time.localtime(t))"
      ],
      "execution_count": 14,
      "outputs": [
        {
          "output_type": "execute_result",
          "data": {
            "application/vnd.google.colaboratory.intrinsic+json": {
              "type": "string"
            },
            "text/plain": [
              "'2021-06-21 18:14:05 UTC'"
            ]
          },
          "metadata": {
            "tags": []
          },
          "execution_count": 14
        }
      ]
    },
    {
      "cell_type": "code",
      "metadata": {
        "id": "e-mEgDrQjUzF"
      },
      "source": [
        ""
      ],
      "execution_count": 14,
      "outputs": []
    }
  ]
}