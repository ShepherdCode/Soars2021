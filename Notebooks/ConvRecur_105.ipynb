{
  "nbformat": 4,
  "nbformat_minor": 0,
  "metadata": {
    "accelerator": "GPU",
    "colab": {
      "name": "ConvRecur_105.ipynb",
      "provenance": [],
      "collapsed_sections": []
    },
    "kernelspec": {
      "display_name": "Python 3",
      "language": "python",
      "name": "python3"
    },
    "language_info": {
      "codemirror_mode": {
        "name": "ipython",
        "version": 3
      },
      "file_extension": ".py",
      "mimetype": "text/x-python",
      "name": "python",
      "nbconvert_exporter": "python",
      "pygments_lexer": "ipython3",
      "version": "3.8.3"
    }
  },
  "cells": [
    {
      "cell_type": "markdown",
      "metadata": {
        "id": "0asdcdunj2Tx"
      },
      "source": [
        "# ORF recognition by Convolutional/Recurrent\n",
        "\n",
        "Start with ORF_CNN_118 and add an LSTM layer."
      ]
    },
    {
      "cell_type": "code",
      "metadata": {
        "colab": {
          "base_uri": "https://localhost:8080/",
          "height": 36
        },
        "id": "QP1VTRNQj2UO",
        "outputId": "66e8237a-ea6d-402a-a622-1991790fa346"
      },
      "source": [
        "import time \n",
        "t = time.time()\n",
        "time.strftime('%Y-%m-%d %H:%M:%S %Z', time.localtime(t))"
      ],
      "execution_count": 1,
      "outputs": [
        {
          "output_type": "execute_result",
          "data": {
            "application/vnd.google.colaboratory.intrinsic+json": {
              "type": "string"
            },
            "text/plain": [
              "'2021-06-17 19:52:00 UTC'"
            ]
          },
          "metadata": {
            "tags": []
          },
          "execution_count": 1
        }
      ]
    },
    {
      "cell_type": "code",
      "metadata": {
        "id": "Nhz4GKonj2T_"
      },
      "source": [
        "PC_SEQUENCES=32000   # how many protein-coding sequences\n",
        "NC_SEQUENCES=32000   # how many non-coding sequences\n",
        "PC_TESTS=1000\n",
        "NC_TESTS=1000\n",
        "RNA_LEN=100            # how long is each sequence\n",
        "CDS_LEN=60            # min CDS len to be coding\n",
        "ALPHABET=4          # how many different letters are possible\n",
        "INPUT_SHAPE_2D = (RNA_LEN,ALPHABET,1) # Conv2D needs 3D inputs\n",
        "INPUT_SHAPE = (RNA_LEN,ALPHABET) # Conv1D needs 2D inputs\n",
        "FILTERS = 32   # how many different patterns the model looks for\n",
        "CELLS = 32\n",
        "NEURONS = 32\n",
        "DROP_RATE = 0.4\n",
        "WIDTH = 3   # how wide each pattern is, in bases\n",
        "STRIDE_2D = (1,1)  # For Conv2D how far in each direction\n",
        "STRIDE = 1 # For Conv1D, how far between pattern matches, in bases\n",
        "EPOCHS=100  # how many times to train on all the data\n",
        "SPLITS=3  # SPLITS=3 means train on 2/3 and validate on 1/3 \n",
        "FOLDS=3  # train the model this many times (range 1 to SPLITS)"
      ],
      "execution_count": 2,
      "outputs": []
    },
    {
      "cell_type": "code",
      "metadata": {
        "colab": {
          "base_uri": "https://localhost:8080/"
        },
        "id": "lr7q90rxj2UE",
        "outputId": "9a0b1438-4adb-4bba-99cc-bf9d79b044e3"
      },
      "source": [
        "import sys\n",
        "try:\n",
        "    from google.colab import drive\n",
        "    IN_COLAB = True\n",
        "    print(\"On Google CoLab, mount cloud-local file, get our code from GitHub.\")\n",
        "    PATH='/content/drive/'\n",
        "    #drive.mount(PATH,force_remount=True)  # hardly ever need this\n",
        "    #drive.mount(PATH)    # Google will require login credentials\n",
        "    DATAPATH=PATH+'My Drive/data/'  # must end in \"/\"\n",
        "    import requests\n",
        "    r = requests.get('https://raw.githubusercontent.com/ShepherdCode/Soars2021/master/SimTools/RNA_gen.py')\n",
        "    with open('RNA_gen.py', 'w') as f:\n",
        "        f.write(r.text)  \n",
        "    from RNA_gen import *\n",
        "    r = requests.get('https://raw.githubusercontent.com/ShepherdCode/Soars2021/master/SimTools/RNA_describe.py')\n",
        "    with open('RNA_describe.py', 'w') as f:\n",
        "        f.write(r.text)  \n",
        "    from RNA_describe import ORF_counter\n",
        "    r = requests.get('https://raw.githubusercontent.com/ShepherdCode/Soars2021/master/SimTools/RNA_prep.py')\n",
        "    with open('RNA_prep.py', 'w') as f:\n",
        "        f.write(r.text)  \n",
        "    from RNA_prep import *\n",
        "except:\n",
        "    print(\"CoLab not working. On my PC, use relative paths.\")\n",
        "    IN_COLAB = False\n",
        "    DATAPATH='data/'  # must end in \"/\"\n",
        "    sys.path.append(\"..\") # append parent dir in order to use sibling dirs\n",
        "    from SimTools.RNA_gen import *\n",
        "    from SimTools.RNA_describe import ORF_counter\n",
        "    from SimTools.RNA_prep import *\n",
        "\n",
        "MODELPATH=\"BestModel\"  # saved on cloud instance and lost after logout\n",
        "#MODELPATH=DATAPATH+MODELPATH  # saved on Google Drive but requires login\n",
        "\n",
        "if not assert_imported_RNA_gen():\n",
        "    print(\"ERROR: Cannot use RNA_gen.\")\n",
        "if not assert_imported_RNA_prep():\n",
        "    print(\"ERROR: Cannot use RNA_prep.\")"
      ],
      "execution_count": 3,
      "outputs": [
        {
          "output_type": "stream",
          "text": [
            "On Google CoLab, mount cloud-local file, get our code from GitHub.\n"
          ],
          "name": "stdout"
        }
      ]
    },
    {
      "cell_type": "code",
      "metadata": {
        "id": "EGDXH8Uwj2UM"
      },
      "source": [
        "from os import listdir\n",
        "import csv\n",
        "from zipfile import ZipFile\n",
        "\n",
        "import numpy as np\n",
        "import pandas as pd\n",
        "from scipy import stats  # mode\n",
        "\n",
        "from sklearn.preprocessing import StandardScaler\n",
        "from sklearn.model_selection import KFold\n",
        "from sklearn.model_selection import cross_val_score\n",
        "\n",
        "from keras.models import Sequential\n",
        "from keras.layers import Dense,Embedding,Dropout\n",
        "from keras.layers import Conv1D,Conv2D\n",
        "from keras.layers import GRU,LSTM\n",
        "from keras.layers import Flatten,TimeDistributed\n",
        "from keras.layers import MaxPooling1D,MaxPooling2D\n",
        "from keras.losses import BinaryCrossentropy\n",
        "# tf.keras.losses.BinaryCrossentropy\n",
        "\n",
        "import matplotlib.pyplot as plt\n",
        "from matplotlib import colors\n",
        "mycmap = colors.ListedColormap(['red','blue'])  # list color for label 0 then 1\n",
        "np.set_printoptions(precision=2)\n"
      ],
      "execution_count": 4,
      "outputs": []
    },
    {
      "cell_type": "code",
      "metadata": {
        "colab": {
          "base_uri": "https://localhost:8080/"
        },
        "id": "CUOG_jEvGtOm",
        "outputId": "32a5d919-32dd-4ab7-8401-860392bfaf9b"
      },
      "source": [
        "import random\n",
        "def partition_random_sequences(goal_per_class):\n",
        "    pc_seqs=[]\n",
        "    nc_seqs=[]\n",
        "    oc = ORF_counter()\n",
        "    trials = 0\n",
        "    pc_cnt = 0\n",
        "    nc_cnt = 0\n",
        "    bases=['A','C','G','T']\n",
        "    while pc_cnt<goal_per_class or nc_cnt<goal_per_class:\n",
        "        trials += 1        \n",
        "        between_bases = random.randint(0,RNA_LEN-6) \n",
        "        utr5_bases = (RNA_LEN - (between_bases + 6)) // 2\n",
        "        utr3_bases = RNA_LEN - (utr5_bases + (between_bases+6))\n",
        "        one_seq  = \"\".join(random.choices(bases,k=utr5_bases)) \n",
        "        one_seq += 'ATG'    \n",
        "        one_seq += \"\".join(random.choices(bases,k=between_bases)) \n",
        "        random_stop = random.choice(['TAA','TAG','TGA']) # random frame\n",
        "        one_seq += random_stop\n",
        "        one_seq += \"\".join(random.choices(bases,k=utr3_bases))  \n",
        "        if len(one_seq) != RNA_LEN:\n",
        "            print(\"WRONG LENGTH:\",len(one_seq),utr5_bases,between_bases,utr3_bases)\n",
        "        oc.set_sequence(one_seq)\n",
        "        cds_len = oc.get_max_cds_len() + 3\n",
        "        if cds_len >= CDS_LEN and pc_cnt<goal_per_class:\n",
        "            pc_cnt += 1\n",
        "            pc_seqs.append(one_seq)\n",
        "        elif cds_len < CDS_LEN and nc_cnt<goal_per_class:\n",
        "            nc_cnt += 1\n",
        "            nc_seqs.append(one_seq)\n",
        "    print (\"It took %d trials to reach %d per class.\"%(trials,goal_per_class))\n",
        "    return pc_seqs,nc_seqs\n",
        "pc_all,nc_all=partition_random_sequences(10)  # just testing\n",
        "pc_all,nc_all=partition_random_sequences(PC_SEQUENCES+PC_TESTS)\n",
        "print(\"Use\",len(pc_all),\"PC seqs\")\n",
        "print(\"Use\",len(nc_all),\"NC seqs\")"
      ],
      "execution_count": 5,
      "outputs": [
        {
          "output_type": "stream",
          "text": [
            "It took 37 trials to reach 10 per class.\n",
            "It took 158601 trials to reach 33000 per class.\n",
            "Use 33000 PC seqs\n",
            "Use 33000 NC seqs\n"
          ],
          "name": "stdout"
        }
      ]
    },
    {
      "cell_type": "code",
      "metadata": {
        "colab": {
          "base_uri": "https://localhost:8080/"
        },
        "id": "Q-BmSXi2jUyl",
        "outputId": "7bcbe52e-1eff-448a-e0d5-e51ca2071d34"
      },
      "source": [
        "# Describe the sequences\n",
        "def describe_sequences(list_of_seq):\n",
        "    oc = ORF_counter()\n",
        "    num_seq = len(list_of_seq)\n",
        "    rna_lens = np.zeros(num_seq)\n",
        "    orf_lens = np.zeros(num_seq)\n",
        "    for i in range(0,num_seq):\n",
        "        rna_len = len(list_of_seq[i])\n",
        "        rna_lens[i] = rna_len\n",
        "        oc.set_sequence(list_of_seq[i])\n",
        "        orf_len = oc.get_max_orf_len()\n",
        "        orf_lens[i] = orf_len\n",
        "    print (\"Average RNA length:\",rna_lens.mean())\n",
        "    print (\"Average ORF length:\",orf_lens.mean())\n",
        "    \n",
        "print(\"Simulated sequences prior to adjustment:\")\n",
        "print(\"PC seqs\")\n",
        "describe_sequences(pc_all)\n",
        "print(\"NC seqs\")\n",
        "describe_sequences(nc_all)"
      ],
      "execution_count": 6,
      "outputs": [
        {
          "output_type": "stream",
          "text": [
            "Simulated sequences prior to adjustment:\n",
            "PC seqs\n",
            "Average RNA length: 100.0\n",
            "Average ORF length: 67.40454545454546\n",
            "NC seqs\n",
            "Average RNA length: 100.0\n",
            "Average ORF length: 22.065727272727273\n"
          ],
          "name": "stdout"
        }
      ]
    },
    {
      "cell_type": "code",
      "metadata": {
        "id": "iP1y7-J3jUys"
      },
      "source": [
        "pc_train=pc_all[:PC_SEQUENCES]\n",
        "nc_train=nc_all[:NC_SEQUENCES]\n",
        "pc_test=pc_all[PC_SEQUENCES:]\n",
        "nc_test=nc_all[NC_SEQUENCES:]"
      ],
      "execution_count": 7,
      "outputs": []
    },
    {
      "cell_type": "code",
      "metadata": {
        "colab": {
          "base_uri": "https://localhost:8080/"
        },
        "id": "CIpTrnH6j2US",
        "outputId": "331e8f23-2f8f-467e-b74f-141a131f0077"
      },
      "source": [
        "# Use code from our SimTools library.\n",
        "X,y = prepare_inputs_len_x_alphabet(pc_train,nc_train,ALPHABET) # shuffles\n",
        "print(\"Data ready.\")"
      ],
      "execution_count": 8,
      "outputs": [
        {
          "output_type": "stream",
          "text": [
            "Data ready.\n"
          ],
          "name": "stdout"
        }
      ]
    },
    {
      "cell_type": "code",
      "metadata": {
        "colab": {
          "base_uri": "https://localhost:8080/"
        },
        "id": "7NvrVU8ij2UU",
        "outputId": "03f48bbb-ac8a-4ba4-b6da-2401800a50fa"
      },
      "source": [
        "def make_DNN():\n",
        "    print(\"make_DNN\")\n",
        "    print(\"input shape:\",INPUT_SHAPE)\n",
        "    dnn = Sequential()\n",
        "    #dnn.add(Embedding(input_dim=INPUT_SHAPE,output_dim=INPUT_SHAPE)) \n",
        "    dnn.add(Conv1D(filters=FILTERS,kernel_size=WIDTH,strides=STRIDE,padding=\"same\",\n",
        "            input_shape=INPUT_SHAPE))\n",
        "    dnn.add(Conv1D(filters=FILTERS,kernel_size=WIDTH,strides=STRIDE,padding=\"same\"))\n",
        "    dnn.add(MaxPooling1D())\n",
        "    #dnn.add(Conv1D(filters=FILTERS,kernel_size=WIDTH,strides=STRIDE,padding=\"same\"))\n",
        "    #dnn.add(Conv1D(filters=FILTERS,kernel_size=WIDTH,strides=STRIDE,padding=\"same\"))\n",
        "    #dnn.add(MaxPooling1D())\n",
        "    #dnn.add(TimeDistributed(Flatten()))\n",
        "    dnn.add(LSTM(CELLS,return_sequences=True))\n",
        "    dnn.add(LSTM(CELLS,return_sequences=False))\n",
        "    dnn.add(Dense(NEURONS,activation=\"sigmoid\",dtype=np.float32))   \n",
        "    dnn.add(Dropout(DROP_RATE))\n",
        "    dnn.add(Dense(1,activation=\"sigmoid\",dtype=np.float32))   \n",
        "    dnn.compile(optimizer='adam',\n",
        "                loss=BinaryCrossentropy(from_logits=False),\n",
        "                metrics=['accuracy'])   # add to default metrics=loss\n",
        "    dnn.build(input_shape=INPUT_SHAPE)\n",
        "    #ln_rate = tf.keras.optimizers.Adam(learning_rate = LN_RATE)\n",
        "    #bc=tf.keras.losses.BinaryCrossentropy(from_logits=False)\n",
        "    #model.compile(loss=bc, optimizer=ln_rate, metrics=[\"accuracy\"])\n",
        "    return dnn\n",
        "model = make_DNN()\n",
        "print(model.summary())"
      ],
      "execution_count": 9,
      "outputs": [
        {
          "output_type": "stream",
          "text": [
            "make_DNN\n",
            "input shape: (100, 4)\n",
            "Model: \"sequential\"\n",
            "_________________________________________________________________\n",
            "Layer (type)                 Output Shape              Param #   \n",
            "=================================================================\n",
            "conv1d (Conv1D)              (None, 100, 32)           416       \n",
            "_________________________________________________________________\n",
            "conv1d_1 (Conv1D)            (None, 100, 32)           3104      \n",
            "_________________________________________________________________\n",
            "max_pooling1d (MaxPooling1D) (None, 50, 32)            0         \n",
            "_________________________________________________________________\n",
            "lstm (LSTM)                  (None, 50, 32)            8320      \n",
            "_________________________________________________________________\n",
            "lstm_1 (LSTM)                (None, 32)                8320      \n",
            "_________________________________________________________________\n",
            "dense (Dense)                (None, 32)                1056      \n",
            "_________________________________________________________________\n",
            "dropout (Dropout)            (None, 32)                0         \n",
            "_________________________________________________________________\n",
            "dense_1 (Dense)              (None, 1)                 33        \n",
            "=================================================================\n",
            "Total params: 21,249\n",
            "Trainable params: 21,249\n",
            "Non-trainable params: 0\n",
            "_________________________________________________________________\n",
            "None\n"
          ],
          "name": "stdout"
        }
      ]
    },
    {
      "cell_type": "code",
      "metadata": {
        "id": "nlVF0hR3j2UW"
      },
      "source": [
        "from keras.callbacks import ModelCheckpoint\n",
        "def do_cross_validation(X,y):\n",
        "    cv_scores = []\n",
        "    fold=0\n",
        "    mycallbacks = [ModelCheckpoint(\n",
        "        filepath=MODELPATH, save_best_only=True, \n",
        "        monitor='val_accuracy', mode='max')]   \n",
        "    splitter = KFold(n_splits=SPLITS)  # this does not shuffle\n",
        "    for train_index,valid_index in splitter.split(X):\n",
        "        if fold < FOLDS:\n",
        "            fold += 1\n",
        "            X_train=X[train_index] # inputs for training\n",
        "            y_train=y[train_index] # labels for training\n",
        "            X_valid=X[valid_index] # inputs for validation\n",
        "            y_valid=y[valid_index] # labels for validation\n",
        "            print(\"MODEL\")\n",
        "            # Call constructor on each CV. Else, continually improves the same model.\n",
        "            model = model = make_DNN()\n",
        "            print(\"FIT\")  # model.fit() implements learning\n",
        "            start_time=time.time()\n",
        "            history=model.fit(X_train, y_train, \n",
        "                    epochs=EPOCHS, \n",
        "                    verbose=1,  # ascii art while learning\n",
        "                    callbacks=mycallbacks,   # called at end of each epoch\n",
        "                    validation_data=(X_valid,y_valid))\n",
        "            end_time=time.time()\n",
        "            elapsed_time=(end_time-start_time)                        \n",
        "            print(\"Fold %d, %d epochs, %d sec\"%(fold,EPOCHS,elapsed_time))\n",
        "            # print(history.history.keys())  # all these keys will be shown in figure\n",
        "            pd.DataFrame(history.history).plot(figsize=(8,5))\n",
        "            plt.grid(True)\n",
        "            plt.gca().set_ylim(0,1) # any losses > 1 will be off the scale\n",
        "            plt.show()\n"
      ],
      "execution_count": 10,
      "outputs": []
    },
    {
      "cell_type": "code",
      "metadata": {
        "colab": {
          "base_uri": "https://localhost:8080/",
          "height": 1000
        },
        "id": "9Ggt4EsSj2UY",
        "outputId": "896a474f-949e-45ae-fc18-37ec292efbef"
      },
      "source": [
        "do_cross_validation(X,y)"
      ],
      "execution_count": 11,
      "outputs": [
        {
          "output_type": "stream",
          "text": [
            "MODEL\n",
            "make_DNN\n",
            "input shape: (100, 4)\n",
            "FIT\n",
            "Epoch 1/100\n",
            "1334/1334 [==============================] - 32s 10ms/step - loss: 0.6986 - accuracy: 0.5272 - val_loss: 0.6330 - val_accuracy: 0.6286\n"
          ],
          "name": "stdout"
        },
        {
          "output_type": "stream",
          "text": [
            "WARNING:absl:Found untraced functions such as lstm_cell_2_layer_call_fn, lstm_cell_2_layer_call_and_return_conditional_losses, lstm_cell_3_layer_call_fn, lstm_cell_3_layer_call_and_return_conditional_losses, lstm_cell_2_layer_call_fn while saving (showing 5 of 10). These functions will not be directly callable after loading.\n"
          ],
          "name": "stderr"
        },
        {
          "output_type": "stream",
          "text": [
            "INFO:tensorflow:Assets written to: BestModel/assets\n"
          ],
          "name": "stdout"
        },
        {
          "output_type": "stream",
          "text": [
            "INFO:tensorflow:Assets written to: BestModel/assets\n"
          ],
          "name": "stderr"
        },
        {
          "output_type": "stream",
          "text": [
            "Epoch 2/100\n",
            "1334/1334 [==============================] - 12s 9ms/step - loss: 0.6253 - accuracy: 0.6461 - val_loss: 0.5991 - val_accuracy: 0.6680\n"
          ],
          "name": "stdout"
        },
        {
          "output_type": "stream",
          "text": [
            "WARNING:absl:Found untraced functions such as lstm_cell_2_layer_call_fn, lstm_cell_2_layer_call_and_return_conditional_losses, lstm_cell_3_layer_call_fn, lstm_cell_3_layer_call_and_return_conditional_losses, lstm_cell_2_layer_call_fn while saving (showing 5 of 10). These functions will not be directly callable after loading.\n"
          ],
          "name": "stderr"
        },
        {
          "output_type": "stream",
          "text": [
            "INFO:tensorflow:Assets written to: BestModel/assets\n"
          ],
          "name": "stdout"
        },
        {
          "output_type": "stream",
          "text": [
            "INFO:tensorflow:Assets written to: BestModel/assets\n"
          ],
          "name": "stderr"
        },
        {
          "output_type": "stream",
          "text": [
            "Epoch 3/100\n",
            "1334/1334 [==============================] - 12s 9ms/step - loss: 0.5998 - accuracy: 0.6740 - val_loss: 0.5628 - val_accuracy: 0.6992\n"
          ],
          "name": "stdout"
        },
        {
          "output_type": "stream",
          "text": [
            "WARNING:absl:Found untraced functions such as lstm_cell_2_layer_call_fn, lstm_cell_2_layer_call_and_return_conditional_losses, lstm_cell_3_layer_call_fn, lstm_cell_3_layer_call_and_return_conditional_losses, lstm_cell_2_layer_call_fn while saving (showing 5 of 10). These functions will not be directly callable after loading.\n"
          ],
          "name": "stderr"
        },
        {
          "output_type": "stream",
          "text": [
            "INFO:tensorflow:Assets written to: BestModel/assets\n"
          ],
          "name": "stdout"
        },
        {
          "output_type": "stream",
          "text": [
            "INFO:tensorflow:Assets written to: BestModel/assets\n"
          ],
          "name": "stderr"
        },
        {
          "output_type": "stream",
          "text": [
            "Epoch 4/100\n",
            "1334/1334 [==============================] - 12s 9ms/step - loss: 0.5579 - accuracy: 0.7033 - val_loss: 0.5440 - val_accuracy: 0.6982\n",
            "Epoch 5/100\n",
            "1334/1334 [==============================] - 12s 9ms/step - loss: 0.5420 - accuracy: 0.7141 - val_loss: 0.5302 - val_accuracy: 0.7153\n"
          ],
          "name": "stdout"
        },
        {
          "output_type": "stream",
          "text": [
            "WARNING:absl:Found untraced functions such as lstm_cell_2_layer_call_fn, lstm_cell_2_layer_call_and_return_conditional_losses, lstm_cell_3_layer_call_fn, lstm_cell_3_layer_call_and_return_conditional_losses, lstm_cell_2_layer_call_fn while saving (showing 5 of 10). These functions will not be directly callable after loading.\n"
          ],
          "name": "stderr"
        },
        {
          "output_type": "stream",
          "text": [
            "INFO:tensorflow:Assets written to: BestModel/assets\n"
          ],
          "name": "stdout"
        },
        {
          "output_type": "stream",
          "text": [
            "INFO:tensorflow:Assets written to: BestModel/assets\n"
          ],
          "name": "stderr"
        },
        {
          "output_type": "stream",
          "text": [
            "Epoch 6/100\n",
            "1334/1334 [==============================] - 12s 9ms/step - loss: 0.5375 - accuracy: 0.7163 - val_loss: 0.5309 - val_accuracy: 0.7100\n",
            "Epoch 7/100\n",
            "1334/1334 [==============================] - 12s 9ms/step - loss: 0.5319 - accuracy: 0.7166 - val_loss: 0.5256 - val_accuracy: 0.7171\n"
          ],
          "name": "stdout"
        },
        {
          "output_type": "stream",
          "text": [
            "WARNING:absl:Found untraced functions such as lstm_cell_2_layer_call_fn, lstm_cell_2_layer_call_and_return_conditional_losses, lstm_cell_3_layer_call_fn, lstm_cell_3_layer_call_and_return_conditional_losses, lstm_cell_2_layer_call_fn while saving (showing 5 of 10). These functions will not be directly callable after loading.\n"
          ],
          "name": "stderr"
        },
        {
          "output_type": "stream",
          "text": [
            "INFO:tensorflow:Assets written to: BestModel/assets\n"
          ],
          "name": "stdout"
        },
        {
          "output_type": "stream",
          "text": [
            "INFO:tensorflow:Assets written to: BestModel/assets\n"
          ],
          "name": "stderr"
        },
        {
          "output_type": "stream",
          "text": [
            "Epoch 8/100\n",
            "1334/1334 [==============================] - 12s 9ms/step - loss: 0.5257 - accuracy: 0.7208 - val_loss: 0.5341 - val_accuracy: 0.7085\n",
            "Epoch 9/100\n",
            "1334/1334 [==============================] - 12s 9ms/step - loss: 0.5203 - accuracy: 0.7258 - val_loss: 0.5231 - val_accuracy: 0.7164\n",
            "Epoch 10/100\n",
            "1334/1334 [==============================] - 12s 9ms/step - loss: 0.5180 - accuracy: 0.7223 - val_loss: 0.5255 - val_accuracy: 0.7118\n",
            "Epoch 11/100\n",
            "1334/1334 [==============================] - 12s 9ms/step - loss: 0.5109 - accuracy: 0.7299 - val_loss: 0.5353 - val_accuracy: 0.7154\n",
            "Epoch 12/100\n",
            "1334/1334 [==============================] - 12s 9ms/step - loss: 0.5160 - accuracy: 0.7275 - val_loss: 0.5602 - val_accuracy: 0.6987\n",
            "Epoch 13/100\n",
            "1334/1334 [==============================] - 12s 9ms/step - loss: 0.5201 - accuracy: 0.7255 - val_loss: 0.5292 - val_accuracy: 0.7156\n",
            "Epoch 14/100\n",
            "1334/1334 [==============================] - 13s 9ms/step - loss: 0.5136 - accuracy: 0.7246 - val_loss: 0.5277 - val_accuracy: 0.7189\n"
          ],
          "name": "stdout"
        },
        {
          "output_type": "stream",
          "text": [
            "WARNING:absl:Found untraced functions such as lstm_cell_2_layer_call_fn, lstm_cell_2_layer_call_and_return_conditional_losses, lstm_cell_3_layer_call_fn, lstm_cell_3_layer_call_and_return_conditional_losses, lstm_cell_2_layer_call_fn while saving (showing 5 of 10). These functions will not be directly callable after loading.\n"
          ],
          "name": "stderr"
        },
        {
          "output_type": "stream",
          "text": [
            "INFO:tensorflow:Assets written to: BestModel/assets\n"
          ],
          "name": "stdout"
        },
        {
          "output_type": "stream",
          "text": [
            "INFO:tensorflow:Assets written to: BestModel/assets\n"
          ],
          "name": "stderr"
        },
        {
          "output_type": "stream",
          "text": [
            "Epoch 15/100\n",
            "1334/1334 [==============================] - 12s 9ms/step - loss: 0.5244 - accuracy: 0.7233 - val_loss: 0.5185 - val_accuracy: 0.7142\n",
            "Epoch 16/100\n",
            "1334/1334 [==============================] - 12s 9ms/step - loss: 0.5042 - accuracy: 0.7284 - val_loss: 0.5207 - val_accuracy: 0.7192\n"
          ],
          "name": "stdout"
        },
        {
          "output_type": "stream",
          "text": [
            "WARNING:absl:Found untraced functions such as lstm_cell_2_layer_call_fn, lstm_cell_2_layer_call_and_return_conditional_losses, lstm_cell_3_layer_call_fn, lstm_cell_3_layer_call_and_return_conditional_losses, lstm_cell_2_layer_call_fn while saving (showing 5 of 10). These functions will not be directly callable after loading.\n"
          ],
          "name": "stderr"
        },
        {
          "output_type": "stream",
          "text": [
            "INFO:tensorflow:Assets written to: BestModel/assets\n"
          ],
          "name": "stdout"
        },
        {
          "output_type": "stream",
          "text": [
            "INFO:tensorflow:Assets written to: BestModel/assets\n"
          ],
          "name": "stderr"
        },
        {
          "output_type": "stream",
          "text": [
            "Epoch 17/100\n",
            "1334/1334 [==============================] - 12s 9ms/step - loss: 0.5023 - accuracy: 0.7358 - val_loss: 0.5221 - val_accuracy: 0.7168\n",
            "Epoch 18/100\n",
            "1334/1334 [==============================] - 12s 9ms/step - loss: 0.5061 - accuracy: 0.7309 - val_loss: 0.5262 - val_accuracy: 0.7164\n",
            "Epoch 19/100\n",
            "1334/1334 [==============================] - 12s 9ms/step - loss: 0.5075 - accuracy: 0.7333 - val_loss: 0.5208 - val_accuracy: 0.7194\n"
          ],
          "name": "stdout"
        },
        {
          "output_type": "stream",
          "text": [
            "WARNING:absl:Found untraced functions such as lstm_cell_2_layer_call_fn, lstm_cell_2_layer_call_and_return_conditional_losses, lstm_cell_3_layer_call_fn, lstm_cell_3_layer_call_and_return_conditional_losses, lstm_cell_2_layer_call_fn while saving (showing 5 of 10). These functions will not be directly callable after loading.\n"
          ],
          "name": "stderr"
        },
        {
          "output_type": "stream",
          "text": [
            "INFO:tensorflow:Assets written to: BestModel/assets\n"
          ],
          "name": "stdout"
        },
        {
          "output_type": "stream",
          "text": [
            "INFO:tensorflow:Assets written to: BestModel/assets\n"
          ],
          "name": "stderr"
        },
        {
          "output_type": "stream",
          "text": [
            "Epoch 20/100\n",
            "1334/1334 [==============================] - 12s 9ms/step - loss: 0.4951 - accuracy: 0.7419 - val_loss: 0.5176 - val_accuracy: 0.7195\n"
          ],
          "name": "stdout"
        },
        {
          "output_type": "stream",
          "text": [
            "WARNING:absl:Found untraced functions such as lstm_cell_2_layer_call_fn, lstm_cell_2_layer_call_and_return_conditional_losses, lstm_cell_3_layer_call_fn, lstm_cell_3_layer_call_and_return_conditional_losses, lstm_cell_2_layer_call_fn while saving (showing 5 of 10). These functions will not be directly callable after loading.\n"
          ],
          "name": "stderr"
        },
        {
          "output_type": "stream",
          "text": [
            "INFO:tensorflow:Assets written to: BestModel/assets\n"
          ],
          "name": "stdout"
        },
        {
          "output_type": "stream",
          "text": [
            "INFO:tensorflow:Assets written to: BestModel/assets\n"
          ],
          "name": "stderr"
        },
        {
          "output_type": "stream",
          "text": [
            "Epoch 21/100\n",
            "1334/1334 [==============================] - 12s 9ms/step - loss: 0.4995 - accuracy: 0.7361 - val_loss: 0.5356 - val_accuracy: 0.7114\n",
            "Epoch 22/100\n",
            "1334/1334 [==============================] - 12s 9ms/step - loss: 0.4922 - accuracy: 0.7408 - val_loss: 0.5238 - val_accuracy: 0.7182\n",
            "Epoch 23/100\n",
            "1334/1334 [==============================] - 12s 9ms/step - loss: 0.4925 - accuracy: 0.7456 - val_loss: 0.5342 - val_accuracy: 0.7146\n",
            "Epoch 24/100\n",
            "1334/1334 [==============================] - 12s 9ms/step - loss: 0.4934 - accuracy: 0.7401 - val_loss: 0.5343 - val_accuracy: 0.7147\n",
            "Epoch 25/100\n",
            "1334/1334 [==============================] - 12s 9ms/step - loss: 0.4975 - accuracy: 0.7374 - val_loss: 0.5342 - val_accuracy: 0.7151\n",
            "Epoch 26/100\n",
            "1334/1334 [==============================] - 12s 9ms/step - loss: 0.4870 - accuracy: 0.7438 - val_loss: 0.5298 - val_accuracy: 0.7169\n",
            "Epoch 27/100\n",
            "1334/1334 [==============================] - 12s 9ms/step - loss: 0.4825 - accuracy: 0.7450 - val_loss: 0.5347 - val_accuracy: 0.7157\n",
            "Epoch 28/100\n",
            "1334/1334 [==============================] - 12s 9ms/step - loss: 0.4830 - accuracy: 0.7466 - val_loss: 0.5332 - val_accuracy: 0.7177\n",
            "Epoch 29/100\n",
            "1334/1334 [==============================] - 12s 9ms/step - loss: 0.4869 - accuracy: 0.7429 - val_loss: 0.5319 - val_accuracy: 0.7117\n",
            "Epoch 30/100\n",
            "1334/1334 [==============================] - 12s 9ms/step - loss: 0.4886 - accuracy: 0.7399 - val_loss: 0.5235 - val_accuracy: 0.7169\n",
            "Epoch 31/100\n",
            "1334/1334 [==============================] - 12s 9ms/step - loss: 0.4763 - accuracy: 0.7481 - val_loss: 0.5399 - val_accuracy: 0.7131\n",
            "Epoch 32/100\n",
            "1334/1334 [==============================] - 12s 9ms/step - loss: 0.4731 - accuracy: 0.7482 - val_loss: 0.5322 - val_accuracy: 0.7126\n",
            "Epoch 33/100\n",
            "1334/1334 [==============================] - 12s 9ms/step - loss: 0.4746 - accuracy: 0.7518 - val_loss: 0.5435 - val_accuracy: 0.7139\n",
            "Epoch 34/100\n",
            "1334/1334 [==============================] - 12s 9ms/step - loss: 0.4703 - accuracy: 0.7545 - val_loss: 0.5431 - val_accuracy: 0.7104\n",
            "Epoch 35/100\n",
            "1334/1334 [==============================] - 12s 9ms/step - loss: 0.4643 - accuracy: 0.7566 - val_loss: 0.5534 - val_accuracy: 0.7061\n",
            "Epoch 36/100\n",
            "1334/1334 [==============================] - 12s 9ms/step - loss: 0.4765 - accuracy: 0.7514 - val_loss: 0.5553 - val_accuracy: 0.7106\n",
            "Epoch 37/100\n",
            "1334/1334 [==============================] - 13s 9ms/step - loss: 0.4637 - accuracy: 0.7580 - val_loss: 0.5509 - val_accuracy: 0.7122\n",
            "Epoch 38/100\n",
            "1334/1334 [==============================] - 12s 9ms/step - loss: 0.4600 - accuracy: 0.7560 - val_loss: 0.5501 - val_accuracy: 0.7116\n",
            "Epoch 39/100\n",
            "1334/1334 [==============================] - 12s 9ms/step - loss: 0.4588 - accuracy: 0.7599 - val_loss: 0.5421 - val_accuracy: 0.7095\n",
            "Epoch 40/100\n",
            "1334/1334 [==============================] - 12s 9ms/step - loss: 0.4580 - accuracy: 0.7583 - val_loss: 0.5460 - val_accuracy: 0.7100\n",
            "Epoch 41/100\n",
            "1334/1334 [==============================] - 12s 9ms/step - loss: 0.4552 - accuracy: 0.7616 - val_loss: 0.5613 - val_accuracy: 0.7081\n",
            "Epoch 42/100\n",
            "1334/1334 [==============================] - 12s 9ms/step - loss: 0.4715 - accuracy: 0.7526 - val_loss: 0.5563 - val_accuracy: 0.7070\n",
            "Epoch 43/100\n",
            "1334/1334 [==============================] - 12s 9ms/step - loss: 0.4490 - accuracy: 0.7673 - val_loss: 0.5589 - val_accuracy: 0.7076\n",
            "Epoch 44/100\n",
            "1334/1334 [==============================] - 12s 9ms/step - loss: 0.4469 - accuracy: 0.7657 - val_loss: 0.5595 - val_accuracy: 0.7074\n",
            "Epoch 45/100\n",
            "1334/1334 [==============================] - 12s 9ms/step - loss: 0.4474 - accuracy: 0.7679 - val_loss: 0.5801 - val_accuracy: 0.7066\n",
            "Epoch 46/100\n",
            "1334/1334 [==============================] - 12s 9ms/step - loss: 0.4404 - accuracy: 0.7707 - val_loss: 0.5855 - val_accuracy: 0.7050\n",
            "Epoch 47/100\n",
            "1334/1334 [==============================] - 12s 9ms/step - loss: 0.4400 - accuracy: 0.7698 - val_loss: 0.5934 - val_accuracy: 0.7037\n",
            "Epoch 48/100\n",
            "1334/1334 [==============================] - 12s 9ms/step - loss: 0.4408 - accuracy: 0.7709 - val_loss: 0.5794 - val_accuracy: 0.7025\n",
            "Epoch 49/100\n",
            "1334/1334 [==============================] - 12s 9ms/step - loss: 0.4342 - accuracy: 0.7743 - val_loss: 0.5742 - val_accuracy: 0.7041\n",
            "Epoch 50/100\n",
            "1334/1334 [==============================] - 12s 9ms/step - loss: 0.4448 - accuracy: 0.7661 - val_loss: 0.5700 - val_accuracy: 0.7039\n",
            "Epoch 51/100\n",
            "1334/1334 [==============================] - 12s 9ms/step - loss: 0.4444 - accuracy: 0.7691 - val_loss: 0.5628 - val_accuracy: 0.7049\n",
            "Epoch 52/100\n",
            "1334/1334 [==============================] - 13s 10ms/step - loss: 0.4513 - accuracy: 0.7641 - val_loss: 0.5911 - val_accuracy: 0.7073\n",
            "Epoch 53/100\n",
            "1334/1334 [==============================] - 13s 10ms/step - loss: 0.4291 - accuracy: 0.7781 - val_loss: 0.5893 - val_accuracy: 0.7051\n",
            "Epoch 54/100\n",
            "1334/1334 [==============================] - 12s 9ms/step - loss: 0.4255 - accuracy: 0.7796 - val_loss: 0.6080 - val_accuracy: 0.7037\n",
            "Epoch 55/100\n",
            "1334/1334 [==============================] - 12s 9ms/step - loss: 0.4284 - accuracy: 0.7763 - val_loss: 0.5939 - val_accuracy: 0.7019\n",
            "Epoch 56/100\n",
            "1334/1334 [==============================] - 12s 9ms/step - loss: 0.4274 - accuracy: 0.7790 - val_loss: 0.6122 - val_accuracy: 0.7014\n",
            "Epoch 57/100\n",
            "1334/1334 [==============================] - 12s 9ms/step - loss: 0.4248 - accuracy: 0.7810 - val_loss: 0.5674 - val_accuracy: 0.7009\n",
            "Epoch 58/100\n",
            "1334/1334 [==============================] - 12s 9ms/step - loss: 0.4930 - accuracy: 0.7416 - val_loss: 0.5693 - val_accuracy: 0.7025\n",
            "Epoch 59/100\n",
            "1334/1334 [==============================] - 12s 9ms/step - loss: 0.4489 - accuracy: 0.7675 - val_loss: 0.5784 - val_accuracy: 0.7009\n",
            "Epoch 60/100\n",
            "1334/1334 [==============================] - 12s 9ms/step - loss: 0.4275 - accuracy: 0.7806 - val_loss: 0.6057 - val_accuracy: 0.7030\n",
            "Epoch 61/100\n",
            "1334/1334 [==============================] - 12s 9ms/step - loss: 0.4186 - accuracy: 0.7827 - val_loss: 0.6281 - val_accuracy: 0.6995\n",
            "Epoch 62/100\n",
            "1334/1334 [==============================] - 13s 9ms/step - loss: 0.4106 - accuracy: 0.7840 - val_loss: 0.6159 - val_accuracy: 0.6990\n",
            "Epoch 63/100\n",
            "1334/1334 [==============================] - 12s 9ms/step - loss: 0.4241 - accuracy: 0.7826 - val_loss: 0.6048 - val_accuracy: 0.7047\n",
            "Epoch 64/100\n",
            "1334/1334 [==============================] - 12s 9ms/step - loss: 0.4177 - accuracy: 0.7806 - val_loss: 0.6015 - val_accuracy: 0.7029\n",
            "Epoch 65/100\n",
            "1334/1334 [==============================] - 12s 9ms/step - loss: 0.4111 - accuracy: 0.7881 - val_loss: 0.5821 - val_accuracy: 0.6992\n",
            "Epoch 66/100\n",
            "1334/1334 [==============================] - 12s 9ms/step - loss: 0.4424 - accuracy: 0.7726 - val_loss: 0.5968 - val_accuracy: 0.6988\n",
            "Epoch 67/100\n",
            "1334/1334 [==============================] - 12s 9ms/step - loss: 0.4073 - accuracy: 0.7903 - val_loss: 0.6415 - val_accuracy: 0.6979\n",
            "Epoch 68/100\n",
            "1334/1334 [==============================] - 12s 9ms/step - loss: 0.4050 - accuracy: 0.7891 - val_loss: 0.6381 - val_accuracy: 0.6974\n",
            "Epoch 69/100\n",
            "1334/1334 [==============================] - 12s 9ms/step - loss: 0.4005 - accuracy: 0.7964 - val_loss: 0.6348 - val_accuracy: 0.7021\n",
            "Epoch 70/100\n",
            "1334/1334 [==============================] - 12s 9ms/step - loss: 0.3985 - accuracy: 0.7933 - val_loss: 0.6248 - val_accuracy: 0.6993\n",
            "Epoch 71/100\n",
            "1334/1334 [==============================] - 12s 9ms/step - loss: 0.4057 - accuracy: 0.7913 - val_loss: 0.6421 - val_accuracy: 0.6982\n",
            "Epoch 72/100\n",
            "1334/1334 [==============================] - 12s 9ms/step - loss: 0.3978 - accuracy: 0.7936 - val_loss: 0.6382 - val_accuracy: 0.6979\n",
            "Epoch 73/100\n",
            "1334/1334 [==============================] - 12s 9ms/step - loss: 0.4017 - accuracy: 0.7922 - val_loss: 0.6335 - val_accuracy: 0.6999\n",
            "Epoch 74/100\n",
            "1334/1334 [==============================] - 12s 9ms/step - loss: 0.3966 - accuracy: 0.7966 - val_loss: 0.6348 - val_accuracy: 0.6994\n",
            "Epoch 75/100\n",
            "1334/1334 [==============================] - 12s 9ms/step - loss: 0.3977 - accuracy: 0.7932 - val_loss: 0.6339 - val_accuracy: 0.6880\n",
            "Epoch 76/100\n",
            "1334/1334 [==============================] - 12s 9ms/step - loss: 0.5094 - accuracy: 0.7365 - val_loss: 0.6176 - val_accuracy: 0.6986\n",
            "Epoch 77/100\n",
            "1334/1334 [==============================] - 12s 9ms/step - loss: 0.3967 - accuracy: 0.7946 - val_loss: 0.6665 - val_accuracy: 0.6970\n",
            "Epoch 78/100\n",
            "1334/1334 [==============================] - 12s 9ms/step - loss: 0.3833 - accuracy: 0.8032 - val_loss: 0.6328 - val_accuracy: 0.6949\n",
            "Epoch 79/100\n",
            "1334/1334 [==============================] - 12s 9ms/step - loss: 0.3953 - accuracy: 0.7963 - val_loss: 0.6477 - val_accuracy: 0.6935\n",
            "Epoch 80/100\n",
            "1334/1334 [==============================] - 12s 9ms/step - loss: 0.3812 - accuracy: 0.8060 - val_loss: 0.6836 - val_accuracy: 0.6977\n",
            "Epoch 81/100\n",
            "1334/1334 [==============================] - 12s 9ms/step - loss: 0.3841 - accuracy: 0.8010 - val_loss: 0.6905 - val_accuracy: 0.6970\n",
            "Epoch 82/100\n",
            "1334/1334 [==============================] - 12s 9ms/step - loss: 0.3870 - accuracy: 0.8017 - val_loss: 0.6180 - val_accuracy: 0.6948\n",
            "Epoch 83/100\n",
            "1334/1334 [==============================] - 12s 9ms/step - loss: 0.3962 - accuracy: 0.7957 - val_loss: 0.6631 - val_accuracy: 0.7003\n",
            "Epoch 84/100\n",
            "1334/1334 [==============================] - 12s 9ms/step - loss: 0.3750 - accuracy: 0.8077 - val_loss: 0.6842 - val_accuracy: 0.6950\n",
            "Epoch 85/100\n",
            "1334/1334 [==============================] - 12s 9ms/step - loss: 0.3750 - accuracy: 0.8078 - val_loss: 0.6709 - val_accuracy: 0.6986\n",
            "Epoch 86/100\n",
            "1334/1334 [==============================] - 12s 9ms/step - loss: 0.3717 - accuracy: 0.8058 - val_loss: 0.7067 - val_accuracy: 0.6949\n",
            "Epoch 87/100\n",
            "1334/1334 [==============================] - 13s 9ms/step - loss: 0.4156 - accuracy: 0.7950 - val_loss: 0.6663 - val_accuracy: 0.6955\n",
            "Epoch 88/100\n",
            "1334/1334 [==============================] - 12s 9ms/step - loss: 0.3689 - accuracy: 0.8111 - val_loss: 0.7059 - val_accuracy: 0.6939\n",
            "Epoch 89/100\n",
            "1334/1334 [==============================] - 12s 9ms/step - loss: 0.3780 - accuracy: 0.8036 - val_loss: 0.6715 - val_accuracy: 0.5885\n",
            "Epoch 90/100\n",
            "1334/1334 [==============================] - 12s 9ms/step - loss: 0.6518 - accuracy: 0.6176 - val_loss: 0.5940 - val_accuracy: 0.6781\n",
            "Epoch 91/100\n",
            "1334/1334 [==============================] - 12s 9ms/step - loss: 0.5849 - accuracy: 0.6890 - val_loss: 0.5596 - val_accuracy: 0.7013\n",
            "Epoch 92/100\n",
            "1334/1334 [==============================] - 12s 9ms/step - loss: 0.5448 - accuracy: 0.7106 - val_loss: 0.5478 - val_accuracy: 0.7019\n",
            "Epoch 93/100\n",
            "1334/1334 [==============================] - 12s 9ms/step - loss: 0.4739 - accuracy: 0.7507 - val_loss: 0.5822 - val_accuracy: 0.7004\n",
            "Epoch 94/100\n",
            "1334/1334 [==============================] - 12s 9ms/step - loss: 0.4252 - accuracy: 0.7839 - val_loss: 0.6119 - val_accuracy: 0.6972\n",
            "Epoch 95/100\n",
            "1334/1334 [==============================] - 12s 9ms/step - loss: 0.3973 - accuracy: 0.7953 - val_loss: 0.6383 - val_accuracy: 0.6977\n",
            "Epoch 96/100\n",
            "1334/1334 [==============================] - 12s 9ms/step - loss: 0.3875 - accuracy: 0.7977 - val_loss: 0.6377 - val_accuracy: 0.6990\n",
            "Epoch 97/100\n",
            "1334/1334 [==============================] - 12s 9ms/step - loss: 0.3870 - accuracy: 0.8007 - val_loss: 0.6918 - val_accuracy: 0.6966\n",
            "Epoch 98/100\n",
            "1334/1334 [==============================] - 12s 9ms/step - loss: 0.3735 - accuracy: 0.8083 - val_loss: 0.6973 - val_accuracy: 0.6905\n",
            "Epoch 99/100\n",
            "1334/1334 [==============================] - 12s 9ms/step - loss: 0.3747 - accuracy: 0.8069 - val_loss: 0.6802 - val_accuracy: 0.6925\n",
            "Epoch 100/100\n",
            "1334/1334 [==============================] - 12s 9ms/step - loss: 0.3665 - accuracy: 0.8106 - val_loss: 0.6829 - val_accuracy: 0.6999\n",
            "Fold 1, 100 epochs, 1324 sec\n"
          ],
          "name": "stdout"
        },
        {
          "output_type": "display_data",
          "data": {
            "image/png": "[encoded data removed]",
            "text/plain": [
              "<Figure size 576x360 with 1 Axes>"
            ]
          },
          "metadata": {
            "tags": [],
            "needs_background": "light"
          }
        },
        {
          "output_type": "stream",
          "text": [
            "MODEL\n",
            "make_DNN\n",
            "input shape: (100, 4)\n",
            "FIT\n",
            "Epoch 1/100\n",
            "1334/1334 [==============================] - 17s 10ms/step - loss: 0.7038 - accuracy: 0.5234 - val_loss: 0.6326 - val_accuracy: 0.6370\n",
            "Epoch 2/100\n",
            "1334/1334 [==============================] - 12s 9ms/step - loss: 0.6277 - accuracy: 0.6408 - val_loss: 0.6098 - val_accuracy: 0.6597\n",
            "Epoch 3/100\n",
            "1334/1334 [==============================] - 12s 9ms/step - loss: 0.6093 - accuracy: 0.6616 - val_loss: 0.5837 - val_accuracy: 0.6783\n",
            "Epoch 4/100\n",
            "1334/1334 [==============================] - 12s 9ms/step - loss: 0.5858 - accuracy: 0.6815 - val_loss: 0.5610 - val_accuracy: 0.7030\n",
            "Epoch 5/100\n",
            "1334/1334 [==============================] - 12s 9ms/step - loss: 0.5611 - accuracy: 0.7060 - val_loss: 0.5440 - val_accuracy: 0.7104\n",
            "Epoch 6/100\n",
            "1334/1334 [==============================] - 12s 9ms/step - loss: 0.5462 - accuracy: 0.7107 - val_loss: 0.5547 - val_accuracy: 0.7084\n",
            "Epoch 7/100\n",
            "1334/1334 [==============================] - 13s 10ms/step - loss: 0.5417 - accuracy: 0.7116 - val_loss: 0.5277 - val_accuracy: 0.7192\n",
            "Epoch 8/100\n",
            "1334/1334 [==============================] - 12s 9ms/step - loss: 0.5307 - accuracy: 0.7189 - val_loss: 0.5305 - val_accuracy: 0.7163\n",
            "Epoch 9/100\n",
            "1334/1334 [==============================] - 12s 9ms/step - loss: 0.5246 - accuracy: 0.7207 - val_loss: 0.5303 - val_accuracy: 0.7201\n"
          ],
          "name": "stdout"
        },
        {
          "output_type": "stream",
          "text": [
            "WARNING:absl:Found untraced functions such as lstm_cell_4_layer_call_fn, lstm_cell_4_layer_call_and_return_conditional_losses, lstm_cell_5_layer_call_fn, lstm_cell_5_layer_call_and_return_conditional_losses, lstm_cell_4_layer_call_fn while saving (showing 5 of 10). These functions will not be directly callable after loading.\n"
          ],
          "name": "stderr"
        },
        {
          "output_type": "stream",
          "text": [
            "INFO:tensorflow:Assets written to: BestModel/assets\n"
          ],
          "name": "stdout"
        },
        {
          "output_type": "stream",
          "text": [
            "INFO:tensorflow:Assets written to: BestModel/assets\n"
          ],
          "name": "stderr"
        },
        {
          "output_type": "stream",
          "text": [
            "Epoch 10/100\n",
            "1334/1334 [==============================] - 12s 9ms/step - loss: 0.5285 - accuracy: 0.7231 - val_loss: 0.5213 - val_accuracy: 0.7214\n"
          ],
          "name": "stdout"
        },
        {
          "output_type": "stream",
          "text": [
            "WARNING:absl:Found untraced functions such as lstm_cell_4_layer_call_fn, lstm_cell_4_layer_call_and_return_conditional_losses, lstm_cell_5_layer_call_fn, lstm_cell_5_layer_call_and_return_conditional_losses, lstm_cell_4_layer_call_fn while saving (showing 5 of 10). These functions will not be directly callable after loading.\n"
          ],
          "name": "stderr"
        },
        {
          "output_type": "stream",
          "text": [
            "INFO:tensorflow:Assets written to: BestModel/assets\n"
          ],
          "name": "stdout"
        },
        {
          "output_type": "stream",
          "text": [
            "INFO:tensorflow:Assets written to: BestModel/assets\n"
          ],
          "name": "stderr"
        },
        {
          "output_type": "stream",
          "text": [
            "Epoch 11/100\n",
            "1334/1334 [==============================] - 13s 10ms/step - loss: 0.5159 - accuracy: 0.7255 - val_loss: 0.5204 - val_accuracy: 0.7254\n"
          ],
          "name": "stdout"
        },
        {
          "output_type": "stream",
          "text": [
            "WARNING:absl:Found untraced functions such as lstm_cell_4_layer_call_fn, lstm_cell_4_layer_call_and_return_conditional_losses, lstm_cell_5_layer_call_fn, lstm_cell_5_layer_call_and_return_conditional_losses, lstm_cell_4_layer_call_fn while saving (showing 5 of 10). These functions will not be directly callable after loading.\n"
          ],
          "name": "stderr"
        },
        {
          "output_type": "stream",
          "text": [
            "INFO:tensorflow:Assets written to: BestModel/assets\n"
          ],
          "name": "stdout"
        },
        {
          "output_type": "stream",
          "text": [
            "INFO:tensorflow:Assets written to: BestModel/assets\n"
          ],
          "name": "stderr"
        },
        {
          "output_type": "stream",
          "text": [
            "Epoch 12/100\n",
            "1334/1334 [==============================] - 13s 9ms/step - loss: 0.5205 - accuracy: 0.7224 - val_loss: 0.5213 - val_accuracy: 0.7228\n",
            "Epoch 13/100\n",
            "1334/1334 [==============================] - 12s 9ms/step - loss: 0.5156 - accuracy: 0.7266 - val_loss: 0.5294 - val_accuracy: 0.7139\n",
            "Epoch 14/100\n",
            "1334/1334 [==============================] - 12s 9ms/step - loss: 0.5165 - accuracy: 0.7281 - val_loss: 0.5259 - val_accuracy: 0.7190\n",
            "Epoch 15/100\n",
            "1334/1334 [==============================] - 12s 9ms/step - loss: 0.5146 - accuracy: 0.7245 - val_loss: 0.5238 - val_accuracy: 0.7212\n",
            "Epoch 16/100\n",
            "1334/1334 [==============================] - 12s 9ms/step - loss: 0.5066 - accuracy: 0.7334 - val_loss: 0.5329 - val_accuracy: 0.7209\n",
            "Epoch 17/100\n",
            "1334/1334 [==============================] - 12s 9ms/step - loss: 0.5003 - accuracy: 0.7376 - val_loss: 0.5279 - val_accuracy: 0.7237\n",
            "Epoch 18/100\n",
            "1334/1334 [==============================] - 13s 9ms/step - loss: 0.4977 - accuracy: 0.7352 - val_loss: 0.5278 - val_accuracy: 0.7204\n",
            "Epoch 19/100\n",
            "1334/1334 [==============================] - 12s 9ms/step - loss: 0.4989 - accuracy: 0.7370 - val_loss: 0.5285 - val_accuracy: 0.7212\n",
            "Epoch 20/100\n",
            "1334/1334 [==============================] - 13s 10ms/step - loss: 0.4956 - accuracy: 0.7378 - val_loss: 0.5295 - val_accuracy: 0.7196\n",
            "Epoch 21/100\n",
            "1334/1334 [==============================] - 12s 9ms/step - loss: 0.4912 - accuracy: 0.7415 - val_loss: 0.5446 - val_accuracy: 0.7209\n",
            "Epoch 22/100\n",
            "1334/1334 [==============================] - 12s 9ms/step - loss: 0.4886 - accuracy: 0.7426 - val_loss: 0.5423 - val_accuracy: 0.7186\n",
            "Epoch 23/100\n",
            "1334/1334 [==============================] - 12s 9ms/step - loss: 0.4866 - accuracy: 0.7459 - val_loss: 0.5374 - val_accuracy: 0.7154\n",
            "Epoch 24/100\n",
            "1334/1334 [==============================] - 12s 9ms/step - loss: 0.4906 - accuracy: 0.7399 - val_loss: 0.5324 - val_accuracy: 0.7203\n",
            "Epoch 25/100\n",
            "1334/1334 [==============================] - 12s 9ms/step - loss: 0.4843 - accuracy: 0.7456 - val_loss: 0.5484 - val_accuracy: 0.7186\n",
            "Epoch 26/100\n",
            "1334/1334 [==============================] - 13s 9ms/step - loss: 0.4791 - accuracy: 0.7468 - val_loss: 0.5459 - val_accuracy: 0.7196\n",
            "Epoch 27/100\n",
            "1334/1334 [==============================] - 13s 9ms/step - loss: 0.4762 - accuracy: 0.7466 - val_loss: 0.5465 - val_accuracy: 0.7156\n",
            "Epoch 28/100\n",
            "1334/1334 [==============================] - 13s 9ms/step - loss: 0.4786 - accuracy: 0.7480 - val_loss: 0.5333 - val_accuracy: 0.7202\n",
            "Epoch 29/100\n",
            "1334/1334 [==============================] - 13s 9ms/step - loss: 0.4772 - accuracy: 0.7480 - val_loss: 0.5454 - val_accuracy: 0.7164\n",
            "Epoch 30/100\n",
            "1334/1334 [==============================] - 13s 9ms/step - loss: 0.4704 - accuracy: 0.7560 - val_loss: 0.5423 - val_accuracy: 0.7173\n",
            "Epoch 31/100\n",
            "1334/1334 [==============================] - 13s 9ms/step - loss: 0.4726 - accuracy: 0.7537 - val_loss: 0.5451 - val_accuracy: 0.7157\n",
            "Epoch 32/100\n",
            "1334/1334 [==============================] - 12s 9ms/step - loss: 0.4669 - accuracy: 0.7578 - val_loss: 0.5393 - val_accuracy: 0.7144\n",
            "Epoch 33/100\n",
            "1334/1334 [==============================] - 12s 9ms/step - loss: 0.4617 - accuracy: 0.7580 - val_loss: 0.5457 - val_accuracy: 0.7148\n",
            "Epoch 34/100\n",
            "1334/1334 [==============================] - 13s 10ms/step - loss: 0.4617 - accuracy: 0.7588 - val_loss: 0.5624 - val_accuracy: 0.7131\n",
            "Epoch 35/100\n",
            "1334/1334 [==============================] - 13s 9ms/step - loss: 0.4634 - accuracy: 0.7579 - val_loss: 0.5526 - val_accuracy: 0.7118\n",
            "Epoch 36/100\n",
            "1334/1334 [==============================] - 12s 9ms/step - loss: 0.4562 - accuracy: 0.7604 - val_loss: 0.5664 - val_accuracy: 0.7149\n",
            "Epoch 37/100\n",
            "1334/1334 [==============================] - 13s 9ms/step - loss: 0.4596 - accuracy: 0.7594 - val_loss: 0.5653 - val_accuracy: 0.7090\n",
            "Epoch 38/100\n",
            "1334/1334 [==============================] - 13s 9ms/step - loss: 0.4531 - accuracy: 0.7638 - val_loss: 0.5696 - val_accuracy: 0.7102\n",
            "Epoch 39/100\n",
            "1334/1334 [==============================] - 13s 9ms/step - loss: 0.4504 - accuracy: 0.7641 - val_loss: 0.5870 - val_accuracy: 0.7110\n",
            "Epoch 40/100\n",
            "1334/1334 [==============================] - 12s 9ms/step - loss: 0.4602 - accuracy: 0.7620 - val_loss: 0.5667 - val_accuracy: 0.7137\n",
            "Epoch 41/100\n",
            "1334/1334 [==============================] - 13s 9ms/step - loss: 0.4437 - accuracy: 0.7698 - val_loss: 0.5920 - val_accuracy: 0.7106\n",
            "Epoch 42/100\n",
            "1334/1334 [==============================] - 12s 9ms/step - loss: 0.4463 - accuracy: 0.7663 - val_loss: 0.5730 - val_accuracy: 0.7105\n",
            "Epoch 43/100\n",
            "1334/1334 [==============================] - 12s 9ms/step - loss: 0.4414 - accuracy: 0.7704 - val_loss: 0.5618 - val_accuracy: 0.7072\n",
            "Epoch 44/100\n",
            "1334/1334 [==============================] - 13s 9ms/step - loss: 0.4525 - accuracy: 0.7630 - val_loss: 0.5698 - val_accuracy: 0.7136\n",
            "Epoch 45/100\n",
            "1334/1334 [==============================] - 12s 9ms/step - loss: 0.4384 - accuracy: 0.7704 - val_loss: 0.5818 - val_accuracy: 0.7138\n",
            "Epoch 46/100\n",
            "1334/1334 [==============================] - 13s 9ms/step - loss: 0.4419 - accuracy: 0.7658 - val_loss: 0.5983 - val_accuracy: 0.7081\n",
            "Epoch 47/100\n",
            "1334/1334 [==============================] - 13s 9ms/step - loss: 0.4339 - accuracy: 0.7736 - val_loss: 0.6042 - val_accuracy: 0.7125\n",
            "Epoch 48/100\n",
            "1334/1334 [==============================] - 12s 9ms/step - loss: 0.4355 - accuracy: 0.7756 - val_loss: 0.5792 - val_accuracy: 0.7121\n",
            "Epoch 49/100\n",
            "1334/1334 [==============================] - 13s 9ms/step - loss: 0.4386 - accuracy: 0.7711 - val_loss: 0.6054 - val_accuracy: 0.7095\n",
            "Epoch 50/100\n",
            "1334/1334 [==============================] - 13s 9ms/step - loss: 0.4278 - accuracy: 0.7775 - val_loss: 0.5991 - val_accuracy: 0.7106\n",
            "Epoch 51/100\n",
            "1334/1334 [==============================] - 13s 9ms/step - loss: 0.4325 - accuracy: 0.7759 - val_loss: 0.5962 - val_accuracy: 0.7092\n",
            "Epoch 52/100\n",
            "1334/1334 [==============================] - 13s 9ms/step - loss: 0.4314 - accuracy: 0.7744 - val_loss: 0.6022 - val_accuracy: 0.7054\n",
            "Epoch 53/100\n",
            "1334/1334 [==============================] - 13s 10ms/step - loss: 0.4152 - accuracy: 0.7836 - val_loss: 0.5832 - val_accuracy: 0.6932\n",
            "Epoch 54/100\n",
            "1334/1334 [==============================] - 13s 10ms/step - loss: 0.4434 - accuracy: 0.7678 - val_loss: 0.6254 - val_accuracy: 0.7071\n",
            "Epoch 55/100\n",
            "1334/1334 [==============================] - 13s 9ms/step - loss: 0.4168 - accuracy: 0.7840 - val_loss: 0.6193 - val_accuracy: 0.7062\n",
            "Epoch 56/100\n",
            "1334/1334 [==============================] - 13s 9ms/step - loss: 0.4154 - accuracy: 0.7851 - val_loss: 0.6061 - val_accuracy: 0.7048\n",
            "Epoch 57/100\n",
            "1334/1334 [==============================] - 13s 10ms/step - loss: 0.4149 - accuracy: 0.7826 - val_loss: 0.6151 - val_accuracy: 0.7071\n",
            "Epoch 58/100\n",
            "1334/1334 [==============================] - 13s 9ms/step - loss: 0.4182 - accuracy: 0.7822 - val_loss: 0.6194 - val_accuracy: 0.7081\n",
            "Epoch 59/100\n",
            "1334/1334 [==============================] - 13s 10ms/step - loss: 0.4149 - accuracy: 0.7857 - val_loss: 0.6054 - val_accuracy: 0.7054\n",
            "Epoch 60/100\n",
            "1334/1334 [==============================] - 13s 10ms/step - loss: 0.4091 - accuracy: 0.7872 - val_loss: 0.6160 - val_accuracy: 0.7051\n",
            "Epoch 61/100\n",
            "1334/1334 [==============================] - 13s 9ms/step - loss: 0.4104 - accuracy: 0.7856 - val_loss: 0.6342 - val_accuracy: 0.7043\n",
            "Epoch 62/100\n",
            "1334/1334 [==============================] - 13s 9ms/step - loss: 0.4048 - accuracy: 0.7910 - val_loss: 0.6148 - val_accuracy: 0.7052\n",
            "Epoch 63/100\n",
            "1334/1334 [==============================] - 13s 10ms/step - loss: 0.4061 - accuracy: 0.7895 - val_loss: 0.6084 - val_accuracy: 0.7049\n",
            "Epoch 64/100\n",
            "1334/1334 [==============================] - 13s 9ms/step - loss: 0.4046 - accuracy: 0.7888 - val_loss: 0.6703 - val_accuracy: 0.7052\n",
            "Epoch 65/100\n",
            "1334/1334 [==============================] - 13s 9ms/step - loss: 0.4052 - accuracy: 0.7887 - val_loss: 0.6410 - val_accuracy: 0.7009\n",
            "Epoch 66/100\n",
            "1334/1334 [==============================] - 13s 9ms/step - loss: 0.3950 - accuracy: 0.7950 - val_loss: 0.6520 - val_accuracy: 0.7050\n",
            "Epoch 67/100\n",
            "1334/1334 [==============================] - 13s 9ms/step - loss: 0.4181 - accuracy: 0.7854 - val_loss: 0.6452 - val_accuracy: 0.7002\n",
            "Epoch 68/100\n",
            "1334/1334 [==============================] - 13s 9ms/step - loss: 0.4052 - accuracy: 0.7881 - val_loss: 0.6343 - val_accuracy: 0.7002\n",
            "Epoch 69/100\n",
            "1334/1334 [==============================] - 13s 9ms/step - loss: 0.4095 - accuracy: 0.7860 - val_loss: 0.6438 - val_accuracy: 0.7066\n",
            "Epoch 70/100\n",
            "1334/1334 [==============================] - 13s 10ms/step - loss: 0.3937 - accuracy: 0.7946 - val_loss: 0.6767 - val_accuracy: 0.7088\n",
            "Epoch 71/100\n",
            "1334/1334 [==============================] - 13s 10ms/step - loss: 0.3965 - accuracy: 0.7951 - val_loss: 0.6491 - val_accuracy: 0.6997\n",
            "Epoch 72/100\n",
            "1334/1334 [==============================] - 13s 10ms/step - loss: 0.3914 - accuracy: 0.7993 - val_loss: 0.6651 - val_accuracy: 0.7047\n",
            "Epoch 73/100\n",
            "1334/1334 [==============================] - 13s 10ms/step - loss: 0.3895 - accuracy: 0.7958 - val_loss: 0.6670 - val_accuracy: 0.7015\n",
            "Epoch 74/100\n",
            "1334/1334 [==============================] - 13s 9ms/step - loss: 0.3949 - accuracy: 0.7935 - val_loss: 0.6422 - val_accuracy: 0.7018\n",
            "Epoch 75/100\n",
            "1334/1334 [==============================] - 13s 10ms/step - loss: 0.3908 - accuracy: 0.7964 - val_loss: 0.6474 - val_accuracy: 0.7035\n",
            "Epoch 76/100\n",
            "1334/1334 [==============================] - 13s 10ms/step - loss: 0.3818 - accuracy: 0.8023 - val_loss: 0.6591 - val_accuracy: 0.7031\n",
            "Epoch 77/100\n",
            "1334/1334 [==============================] - 13s 10ms/step - loss: 0.3815 - accuracy: 0.8029 - val_loss: 0.6859 - val_accuracy: 0.7002\n",
            "Epoch 78/100\n",
            "1334/1334 [==============================] - 13s 9ms/step - loss: 0.3816 - accuracy: 0.8039 - val_loss: 0.6900 - val_accuracy: 0.7007\n",
            "Epoch 79/100\n",
            "1334/1334 [==============================] - 13s 9ms/step - loss: 0.3812 - accuracy: 0.8018 - val_loss: 0.6638 - val_accuracy: 0.7011\n",
            "Epoch 80/100\n",
            "1334/1334 [==============================] - 13s 9ms/step - loss: 0.3994 - accuracy: 0.7951 - val_loss: 0.6779 - val_accuracy: 0.7016\n",
            "Epoch 81/100\n",
            "1334/1334 [==============================] - 13s 9ms/step - loss: 0.3801 - accuracy: 0.8002 - val_loss: 0.6870 - val_accuracy: 0.7027\n",
            "Epoch 82/100\n",
            "1334/1334 [==============================] - 13s 9ms/step - loss: 0.3877 - accuracy: 0.7993 - val_loss: 0.6866 - val_accuracy: 0.7016\n",
            "Epoch 83/100\n",
            "1334/1334 [==============================] - 13s 10ms/step - loss: 0.3883 - accuracy: 0.7960 - val_loss: 0.6251 - val_accuracy: 0.7001\n",
            "Epoch 84/100\n",
            "1334/1334 [==============================] - 13s 10ms/step - loss: 0.4010 - accuracy: 0.7937 - val_loss: 0.6000 - val_accuracy: 0.7017\n",
            "Epoch 85/100\n",
            "1334/1334 [==============================] - 13s 9ms/step - loss: 0.4166 - accuracy: 0.7836 - val_loss: 0.6618 - val_accuracy: 0.7018\n",
            "Epoch 86/100\n",
            "1334/1334 [==============================] - 13s 10ms/step - loss: 0.3708 - accuracy: 0.8049 - val_loss: 0.7089 - val_accuracy: 0.7010\n",
            "Epoch 87/100\n",
            "1334/1334 [==============================] - 13s 9ms/step - loss: 0.3680 - accuracy: 0.8081 - val_loss: 0.6879 - val_accuracy: 0.6994\n",
            "Epoch 88/100\n",
            "1334/1334 [==============================] - 13s 9ms/step - loss: 0.3729 - accuracy: 0.8055 - val_loss: 0.6981 - val_accuracy: 0.6955\n",
            "Epoch 89/100\n",
            "1334/1334 [==============================] - 13s 9ms/step - loss: 0.3885 - accuracy: 0.7979 - val_loss: 0.6645 - val_accuracy: 0.6992\n",
            "Epoch 90/100\n",
            "1334/1334 [==============================] - 13s 9ms/step - loss: 0.3745 - accuracy: 0.8053 - val_loss: 0.7306 - val_accuracy: 0.7029\n",
            "Epoch 91/100\n",
            "1334/1334 [==============================] - 13s 10ms/step - loss: 0.3728 - accuracy: 0.8077 - val_loss: 0.7026 - val_accuracy: 0.6952\n",
            "Epoch 92/100\n",
            "1334/1334 [==============================] - 13s 9ms/step - loss: 0.3656 - accuracy: 0.8100 - val_loss: 0.7239 - val_accuracy: 0.6993\n",
            "Epoch 93/100\n",
            "1334/1334 [==============================] - 13s 10ms/step - loss: 0.3689 - accuracy: 0.8096 - val_loss: 0.6887 - val_accuracy: 0.6958\n",
            "Epoch 94/100\n",
            "1334/1334 [==============================] - 13s 10ms/step - loss: 0.3638 - accuracy: 0.8112 - val_loss: 0.6771 - val_accuracy: 0.6968\n",
            "Epoch 95/100\n",
            "1334/1334 [==============================] - 13s 9ms/step - loss: 0.3647 - accuracy: 0.8095 - val_loss: 0.7047 - val_accuracy: 0.6973\n",
            "Epoch 96/100\n",
            "1334/1334 [==============================] - 13s 10ms/step - loss: 0.3626 - accuracy: 0.8126 - val_loss: 0.7381 - val_accuracy: 0.6928\n",
            "Epoch 97/100\n",
            "1334/1334 [==============================] - 13s 10ms/step - loss: 0.3624 - accuracy: 0.8138 - val_loss: 0.7276 - val_accuracy: 0.7014\n",
            "Epoch 98/100\n",
            "1334/1334 [==============================] - 13s 9ms/step - loss: 0.3590 - accuracy: 0.8137 - val_loss: 0.7062 - val_accuracy: 0.7017\n",
            "Epoch 99/100\n",
            "1334/1334 [==============================] - 13s 10ms/step - loss: 0.3610 - accuracy: 0.8074 - val_loss: 0.7327 - val_accuracy: 0.6994\n",
            "Epoch 100/100\n",
            "1334/1334 [==============================] - 13s 10ms/step - loss: 0.3496 - accuracy: 0.8199 - val_loss: 0.7596 - val_accuracy: 0.6984\n",
            "Fold 2, 100 epochs, 1287 sec\n"
          ],
          "name": "stdout"
        },
        {
          "output_type": "display_data",
          "data": {
            "image/png": "[encoded data removed]",
            "text/plain": [
              "<Figure size 576x360 with 1 Axes>"
            ]
          },
          "metadata": {
            "tags": [],
            "needs_background": "light"
          }
        },
        {
          "output_type": "stream",
          "text": [
            "MODEL\n",
            "make_DNN\n",
            "input shape: (100, 4)\n",
            "FIT\n",
            "Epoch 1/100\n",
            "1334/1334 [==============================] - 17s 10ms/step - loss: 0.7112 - accuracy: 0.5242 - val_loss: 0.6588 - val_accuracy: 0.6107\n",
            "Epoch 2/100\n",
            "1334/1334 [==============================] - 12s 9ms/step - loss: 0.6458 - accuracy: 0.6267 - val_loss: 0.6052 - val_accuracy: 0.6680\n",
            "Epoch 3/100\n",
            "1334/1334 [==============================] - 13s 9ms/step - loss: 0.5995 - accuracy: 0.6729 - val_loss: 0.5837 - val_accuracy: 0.6842\n",
            "Epoch 4/100\n",
            "1334/1334 [==============================] - 13s 9ms/step - loss: 0.5655 - accuracy: 0.7043 - val_loss: 0.5501 - val_accuracy: 0.7060\n",
            "Epoch 5/100\n",
            "1334/1334 [==============================] - 13s 9ms/step - loss: 0.5462 - accuracy: 0.7114 - val_loss: 0.5373 - val_accuracy: 0.7142\n",
            "Epoch 6/100\n",
            "1334/1334 [==============================] - 13s 9ms/step - loss: 0.5361 - accuracy: 0.7171 - val_loss: 0.5321 - val_accuracy: 0.7096\n",
            "Epoch 7/100\n",
            "1334/1334 [==============================] - 13s 9ms/step - loss: 0.5267 - accuracy: 0.7184 - val_loss: 0.5354 - val_accuracy: 0.7123\n",
            "Epoch 8/100\n",
            "1334/1334 [==============================] - 13s 10ms/step - loss: 0.5196 - accuracy: 0.7254 - val_loss: 0.5374 - val_accuracy: 0.7103\n",
            "Epoch 9/100\n",
            "1334/1334 [==============================] - 13s 9ms/step - loss: 0.5168 - accuracy: 0.7251 - val_loss: 0.5298 - val_accuracy: 0.7126\n",
            "Epoch 10/100\n",
            "1334/1334 [==============================] - 13s 9ms/step - loss: 0.5164 - accuracy: 0.7265 - val_loss: 0.5301 - val_accuracy: 0.7140\n",
            "Epoch 11/100\n",
            "1334/1334 [==============================] - 13s 9ms/step - loss: 0.5128 - accuracy: 0.7259 - val_loss: 0.5245 - val_accuracy: 0.7168\n",
            "Epoch 12/100\n",
            "1334/1334 [==============================] - 13s 9ms/step - loss: 0.5060 - accuracy: 0.7309 - val_loss: 0.5281 - val_accuracy: 0.7122\n",
            "Epoch 13/100\n",
            "1334/1334 [==============================] - 13s 9ms/step - loss: 0.5098 - accuracy: 0.7286 - val_loss: 0.5334 - val_accuracy: 0.7114\n",
            "Epoch 14/100\n",
            "1334/1334 [==============================] - 13s 9ms/step - loss: 0.4992 - accuracy: 0.7368 - val_loss: 0.5371 - val_accuracy: 0.7067\n",
            "Epoch 15/100\n",
            "1334/1334 [==============================] - 13s 9ms/step - loss: 0.5021 - accuracy: 0.7373 - val_loss: 0.5291 - val_accuracy: 0.7116\n",
            "Epoch 16/100\n",
            "1334/1334 [==============================] - 13s 9ms/step - loss: 0.5000 - accuracy: 0.7351 - val_loss: 0.5372 - val_accuracy: 0.7103\n",
            "Epoch 17/100\n",
            "1334/1334 [==============================] - 13s 9ms/step - loss: 0.4932 - accuracy: 0.7433 - val_loss: 0.5405 - val_accuracy: 0.7117\n",
            "Epoch 18/100\n",
            "1334/1334 [==============================] - 12s 9ms/step - loss: 0.4948 - accuracy: 0.7398 - val_loss: 0.5335 - val_accuracy: 0.7144\n",
            "Epoch 19/100\n",
            "1334/1334 [==============================] - 13s 9ms/step - loss: 0.4923 - accuracy: 0.7393 - val_loss: 0.5354 - val_accuracy: 0.7127\n",
            "Epoch 20/100\n",
            "1334/1334 [==============================] - 13s 9ms/step - loss: 0.4874 - accuracy: 0.7457 - val_loss: 0.5366 - val_accuracy: 0.7146\n",
            "Epoch 21/100\n",
            "1334/1334 [==============================] - 13s 10ms/step - loss: 0.4866 - accuracy: 0.7409 - val_loss: 0.5430 - val_accuracy: 0.7116\n",
            "Epoch 22/100\n",
            "1334/1334 [==============================] - 13s 10ms/step - loss: 0.4805 - accuracy: 0.7471 - val_loss: 0.5313 - val_accuracy: 0.7147\n",
            "Epoch 23/100\n",
            "1334/1334 [==============================] - 13s 9ms/step - loss: 0.4829 - accuracy: 0.7466 - val_loss: 0.5579 - val_accuracy: 0.7063\n",
            "Epoch 24/100\n",
            "1334/1334 [==============================] - 13s 9ms/step - loss: 0.4828 - accuracy: 0.7485 - val_loss: 0.5431 - val_accuracy: 0.7092\n",
            "Epoch 25/100\n",
            "1334/1334 [==============================] - 13s 9ms/step - loss: 0.4748 - accuracy: 0.7508 - val_loss: 0.5466 - val_accuracy: 0.7111\n",
            "Epoch 26/100\n",
            "1334/1334 [==============================] - 13s 9ms/step - loss: 0.4771 - accuracy: 0.7487 - val_loss: 0.5525 - val_accuracy: 0.7119\n",
            "Epoch 27/100\n",
            "1334/1334 [==============================] - 13s 9ms/step - loss: 0.4697 - accuracy: 0.7530 - val_loss: 0.5404 - val_accuracy: 0.7094\n",
            "Epoch 28/100\n",
            "1334/1334 [==============================] - 13s 9ms/step - loss: 0.4716 - accuracy: 0.7547 - val_loss: 0.5571 - val_accuracy: 0.7093\n",
            "Epoch 29/100\n",
            "1334/1334 [==============================] - 13s 10ms/step - loss: 0.4679 - accuracy: 0.7566 - val_loss: 0.5420 - val_accuracy: 0.7110\n",
            "Epoch 30/100\n",
            "1334/1334 [==============================] - 13s 9ms/step - loss: 0.4707 - accuracy: 0.7533 - val_loss: 0.5591 - val_accuracy: 0.7113\n",
            "Epoch 31/100\n",
            "1334/1334 [==============================] - 13s 9ms/step - loss: 0.4600 - accuracy: 0.7588 - val_loss: 0.5573 - val_accuracy: 0.7058\n",
            "Epoch 32/100\n",
            "1334/1334 [==============================] - 13s 10ms/step - loss: 0.4557 - accuracy: 0.7633 - val_loss: 0.5717 - val_accuracy: 0.7092\n",
            "Epoch 33/100\n",
            "1334/1334 [==============================] - 13s 10ms/step - loss: 0.4549 - accuracy: 0.7608 - val_loss: 0.5758 - val_accuracy: 0.7025\n",
            "Epoch 34/100\n",
            "1334/1334 [==============================] - 13s 9ms/step - loss: 0.4589 - accuracy: 0.7623 - val_loss: 0.5661 - val_accuracy: 0.7040\n",
            "Epoch 35/100\n",
            "1334/1334 [==============================] - 13s 10ms/step - loss: 0.4559 - accuracy: 0.7633 - val_loss: 0.5864 - val_accuracy: 0.7083\n",
            "Epoch 36/100\n",
            "1334/1334 [==============================] - 13s 9ms/step - loss: 0.4546 - accuracy: 0.7610 - val_loss: 0.5882 - val_accuracy: 0.7093\n",
            "Epoch 37/100\n",
            "1334/1334 [==============================] - 13s 9ms/step - loss: 0.4458 - accuracy: 0.7676 - val_loss: 0.5954 - val_accuracy: 0.7052\n",
            "Epoch 38/100\n",
            "1334/1334 [==============================] - 13s 9ms/step - loss: 0.4444 - accuracy: 0.7696 - val_loss: 0.5889 - val_accuracy: 0.7082\n",
            "Epoch 39/100\n",
            "1334/1334 [==============================] - 13s 9ms/step - loss: 0.4384 - accuracy: 0.7713 - val_loss: 0.5839 - val_accuracy: 0.7071\n",
            "Epoch 40/100\n",
            "1334/1334 [==============================] - 13s 9ms/step - loss: 0.4405 - accuracy: 0.7710 - val_loss: 0.5969 - val_accuracy: 0.7049\n",
            "Epoch 41/100\n",
            "1334/1334 [==============================] - 13s 10ms/step - loss: 0.4358 - accuracy: 0.7736 - val_loss: 0.5884 - val_accuracy: 0.7001\n",
            "Epoch 42/100\n",
            "1334/1334 [==============================] - 13s 9ms/step - loss: 0.4352 - accuracy: 0.7751 - val_loss: 0.6014 - val_accuracy: 0.7056\n",
            "Epoch 43/100\n",
            "1334/1334 [==============================] - 13s 10ms/step - loss: 0.4332 - accuracy: 0.7773 - val_loss: 0.5884 - val_accuracy: 0.7032\n",
            "Epoch 44/100\n",
            "1334/1334 [==============================] - 13s 9ms/step - loss: 0.4374 - accuracy: 0.7707 - val_loss: 0.6218 - val_accuracy: 0.7067\n",
            "Epoch 45/100\n",
            "1334/1334 [==============================] - 13s 10ms/step - loss: 0.4264 - accuracy: 0.7771 - val_loss: 0.6223 - val_accuracy: 0.7043\n",
            "Epoch 46/100\n",
            "1334/1334 [==============================] - 13s 9ms/step - loss: 0.4302 - accuracy: 0.7770 - val_loss: 0.6054 - val_accuracy: 0.6987\n",
            "Epoch 47/100\n",
            "1334/1334 [==============================] - 13s 9ms/step - loss: 0.4152 - accuracy: 0.7845 - val_loss: 0.6216 - val_accuracy: 0.7025\n",
            "Epoch 48/100\n",
            "1334/1334 [==============================] - 13s 10ms/step - loss: 0.4177 - accuracy: 0.7856 - val_loss: 0.6103 - val_accuracy: 0.6987\n",
            "Epoch 49/100\n",
            "1334/1334 [==============================] - 13s 9ms/step - loss: 0.4150 - accuracy: 0.7847 - val_loss: 0.6295 - val_accuracy: 0.6999\n",
            "Epoch 50/100\n",
            "1334/1334 [==============================] - 13s 9ms/step - loss: 0.4153 - accuracy: 0.7848 - val_loss: 0.6315 - val_accuracy: 0.6993\n",
            "Epoch 51/100\n",
            "1334/1334 [==============================] - 13s 10ms/step - loss: 0.4165 - accuracy: 0.7857 - val_loss: 0.6185 - val_accuracy: 0.6998\n",
            "Epoch 52/100\n",
            "1334/1334 [==============================] - 13s 9ms/step - loss: 0.4167 - accuracy: 0.7839 - val_loss: 0.6248 - val_accuracy: 0.7028\n",
            "Epoch 53/100\n",
            "1334/1334 [==============================] - 13s 10ms/step - loss: 0.4123 - accuracy: 0.7851 - val_loss: 0.6466 - val_accuracy: 0.6965\n",
            "Epoch 54/100\n",
            "1334/1334 [==============================] - 13s 10ms/step - loss: 0.4071 - accuracy: 0.7894 - val_loss: 0.6356 - val_accuracy: 0.6990\n",
            "Epoch 55/100\n",
            "1334/1334 [==============================] - 13s 10ms/step - loss: 0.4030 - accuracy: 0.7915 - val_loss: 0.6430 - val_accuracy: 0.6999\n",
            "Epoch 56/100\n",
            "1334/1334 [==============================] - 13s 10ms/step - loss: 0.4035 - accuracy: 0.7895 - val_loss: 0.6710 - val_accuracy: 0.6972\n",
            "Epoch 57/100\n",
            "1334/1334 [==============================] - 13s 10ms/step - loss: 0.4003 - accuracy: 0.7939 - val_loss: 0.6436 - val_accuracy: 0.6962\n",
            "Epoch 58/100\n",
            "1334/1334 [==============================] - 13s 10ms/step - loss: 0.4048 - accuracy: 0.7913 - val_loss: 0.6346 - val_accuracy: 0.7005\n",
            "Epoch 59/100\n",
            "1334/1334 [==============================] - 13s 10ms/step - loss: 0.3995 - accuracy: 0.7929 - val_loss: 0.6386 - val_accuracy: 0.6992\n",
            "Epoch 60/100\n",
            "1334/1334 [==============================] - 13s 9ms/step - loss: 0.3905 - accuracy: 0.8023 - val_loss: 0.6183 - val_accuracy: 0.7010\n",
            "Epoch 61/100\n",
            "1334/1334 [==============================] - 13s 10ms/step - loss: 0.4014 - accuracy: 0.7897 - val_loss: 0.6900 - val_accuracy: 0.6971\n",
            "Epoch 62/100\n",
            "1334/1334 [==============================] - 13s 10ms/step - loss: 0.3876 - accuracy: 0.8015 - val_loss: 0.6583 - val_accuracy: 0.6963\n",
            "Epoch 63/100\n",
            "1334/1334 [==============================] - 13s 10ms/step - loss: 0.3937 - accuracy: 0.7947 - val_loss: 0.6878 - val_accuracy: 0.6972\n",
            "Epoch 64/100\n",
            "1334/1334 [==============================] - 13s 10ms/step - loss: 0.3894 - accuracy: 0.7966 - val_loss: 0.6611 - val_accuracy: 0.6920\n",
            "Epoch 65/100\n",
            "1334/1334 [==============================] - 13s 10ms/step - loss: 0.3903 - accuracy: 0.7990 - val_loss: 0.6805 - val_accuracy: 0.6977\n",
            "Epoch 66/100\n",
            "1334/1334 [==============================] - 13s 9ms/step - loss: 0.3946 - accuracy: 0.7968 - val_loss: 0.6765 - val_accuracy: 0.6974\n",
            "Epoch 67/100\n",
            "1334/1334 [==============================] - 13s 10ms/step - loss: 0.3844 - accuracy: 0.8004 - val_loss: 0.6842 - val_accuracy: 0.6942\n",
            "Epoch 68/100\n",
            "1334/1334 [==============================] - 13s 10ms/step - loss: 0.3804 - accuracy: 0.8008 - val_loss: 0.6685 - val_accuracy: 0.6936\n",
            "Epoch 69/100\n",
            "1334/1334 [==============================] - 13s 10ms/step - loss: 0.3778 - accuracy: 0.8023 - val_loss: 0.6630 - val_accuracy: 0.6924\n",
            "Epoch 70/100\n",
            "1334/1334 [==============================] - 13s 10ms/step - loss: 0.3848 - accuracy: 0.8006 - val_loss: 0.6883 - val_accuracy: 0.6933\n",
            "Epoch 71/100\n",
            "1334/1334 [==============================] - 13s 10ms/step - loss: 0.3782 - accuracy: 0.8077 - val_loss: 0.7042 - val_accuracy: 0.6913\n",
            "Epoch 72/100\n",
            "1334/1334 [==============================] - 13s 10ms/step - loss: 0.3769 - accuracy: 0.8047 - val_loss: 0.7228 - val_accuracy: 0.6909\n",
            "Epoch 73/100\n",
            "1334/1334 [==============================] - 13s 10ms/step - loss: 0.3834 - accuracy: 0.8024 - val_loss: 0.6836 - val_accuracy: 0.6921\n",
            "Epoch 74/100\n",
            "1334/1334 [==============================] - 13s 10ms/step - loss: 0.3637 - accuracy: 0.8122 - val_loss: 0.7472 - val_accuracy: 0.6911\n",
            "Epoch 75/100\n",
            "1334/1334 [==============================] - 13s 10ms/step - loss: 0.3759 - accuracy: 0.8039 - val_loss: 0.7330 - val_accuracy: 0.6893\n",
            "Epoch 76/100\n",
            "1334/1334 [==============================] - 13s 10ms/step - loss: 0.3678 - accuracy: 0.8110 - val_loss: 0.6761 - val_accuracy: 0.6906\n",
            "Epoch 77/100\n",
            "1334/1334 [==============================] - 13s 10ms/step - loss: 0.3811 - accuracy: 0.8018 - val_loss: 0.6963 - val_accuracy: 0.6923\n",
            "Epoch 78/100\n",
            "1334/1334 [==============================] - 13s 10ms/step - loss: 0.3584 - accuracy: 0.8155 - val_loss: 0.7217 - val_accuracy: 0.6958\n",
            "Epoch 79/100\n",
            "1334/1334 [==============================] - 13s 10ms/step - loss: 0.3726 - accuracy: 0.8085 - val_loss: 0.6897 - val_accuracy: 0.6925\n",
            "Epoch 80/100\n",
            "1334/1334 [==============================] - 13s 10ms/step - loss: 0.3579 - accuracy: 0.8159 - val_loss: 0.7088 - val_accuracy: 0.6880\n",
            "Epoch 81/100\n",
            "1334/1334 [==============================] - 13s 10ms/step - loss: 0.3649 - accuracy: 0.8120 - val_loss: 0.6865 - val_accuracy: 0.6887\n",
            "Epoch 82/100\n",
            "1334/1334 [==============================] - 13s 10ms/step - loss: 0.3679 - accuracy: 0.8092 - val_loss: 0.7629 - val_accuracy: 0.6804\n",
            "Epoch 83/100\n",
            "1334/1334 [==============================] - 13s 10ms/step - loss: 0.3739 - accuracy: 0.8094 - val_loss: 0.7234 - val_accuracy: 0.6905\n",
            "Epoch 84/100\n",
            "1334/1334 [==============================] - 13s 10ms/step - loss: 0.3613 - accuracy: 0.8129 - val_loss: 0.7240 - val_accuracy: 0.6819\n",
            "Epoch 85/100\n",
            "1334/1334 [==============================] - 13s 10ms/step - loss: 0.3601 - accuracy: 0.8144 - val_loss: 0.7654 - val_accuracy: 0.6873\n",
            "Epoch 86/100\n",
            "1334/1334 [==============================] - 13s 10ms/step - loss: 0.3571 - accuracy: 0.8196 - val_loss: 0.6700 - val_accuracy: 0.6856\n",
            "Epoch 87/100\n",
            "1334/1334 [==============================] - 13s 10ms/step - loss: 0.3785 - accuracy: 0.8097 - val_loss: 0.7815 - val_accuracy: 0.6883\n",
            "Epoch 88/100\n",
            "1334/1334 [==============================] - 13s 10ms/step - loss: 0.3533 - accuracy: 0.8217 - val_loss: 0.7537 - val_accuracy: 0.6848\n",
            "Epoch 89/100\n",
            "1334/1334 [==============================] - 13s 10ms/step - loss: 0.3535 - accuracy: 0.8185 - val_loss: 0.7872 - val_accuracy: 0.6872\n",
            "Epoch 90/100\n",
            "1334/1334 [==============================] - 13s 10ms/step - loss: 0.3618 - accuracy: 0.8114 - val_loss: 0.7754 - val_accuracy: 0.6839\n",
            "Epoch 91/100\n",
            "1334/1334 [==============================] - 13s 10ms/step - loss: 0.3474 - accuracy: 0.8226 - val_loss: 0.7278 - val_accuracy: 0.6868\n",
            "Epoch 92/100\n",
            "1334/1334 [==============================] - 13s 10ms/step - loss: 0.3653 - accuracy: 0.8150 - val_loss: 0.7576 - val_accuracy: 0.6903\n",
            "Epoch 93/100\n",
            "1334/1334 [==============================] - 13s 10ms/step - loss: 0.3420 - accuracy: 0.8259 - val_loss: 0.7838 - val_accuracy: 0.6888\n",
            "Epoch 94/100\n",
            "1334/1334 [==============================] - 13s 10ms/step - loss: 0.3492 - accuracy: 0.8216 - val_loss: 0.8352 - val_accuracy: 0.6871\n",
            "Epoch 95/100\n",
            "1334/1334 [==============================] - 13s 10ms/step - loss: 0.3374 - accuracy: 0.8305 - val_loss: 0.7861 - val_accuracy: 0.6879\n",
            "Epoch 96/100\n",
            "1334/1334 [==============================] - 13s 10ms/step - loss: 0.3469 - accuracy: 0.8227 - val_loss: 0.7907 - val_accuracy: 0.6864\n",
            "Epoch 97/100\n",
            "1334/1334 [==============================] - 13s 10ms/step - loss: 0.3438 - accuracy: 0.8224 - val_loss: 0.7762 - val_accuracy: 0.6876\n",
            "Epoch 98/100\n",
            "1334/1334 [==============================] - 13s 10ms/step - loss: 0.3397 - accuracy: 0.8263 - val_loss: 0.8094 - val_accuracy: 0.6867\n",
            "Epoch 99/100\n",
            "1334/1334 [==============================] - 13s 10ms/step - loss: 0.3351 - accuracy: 0.8295 - val_loss: 0.8044 - val_accuracy: 0.6873\n",
            "Epoch 100/100\n",
            "1334/1334 [==============================] - 13s 10ms/step - loss: 0.3461 - accuracy: 0.8236 - val_loss: 0.8044 - val_accuracy: 0.6893\n",
            "Fold 3, 100 epochs, 1274 sec\n"
          ],
          "name": "stdout"
        },
        {
          "output_type": "display_data",
          "data": {
            "image/png": "[encoded data removed]",
            "text/plain": [
              "<Figure size 576x360 with 1 Axes>"
            ]
          },
          "metadata": {
            "tags": [],
            "needs_background": "light"
          }
        }
      ]
    },
    {
      "cell_type": "code",
      "metadata": {
        "id": "e-jG1h5fj2Ua",
        "colab": {
          "base_uri": "https://localhost:8080/"
        },
        "outputId": "2b11cbb8-ef1b-48c5-825f-a4459d7386c8"
      },
      "source": [
        "from keras.models import load_model\n",
        "X,y = prepare_inputs_len_x_alphabet(pc_test,nc_test,ALPHABET)\n",
        "best_model=load_model(MODELPATH)\n",
        "scores = best_model.evaluate(X, y, verbose=0)\n",
        "print(\"The best model parameters were saved during cross-validation.\")\n",
        "print(\"Best was defined as maximum validation accuracy at end of any epoch.\")\n",
        "print(\"Now re-load the best model and test it on previously unseen data.\")\n",
        "print(\"Test on\",len(pc_test),\"PC seqs\")\n",
        "print(\"Test on\",len(nc_test),\"NC seqs\")\n",
        "print(\"%s: %.2f%%\" % (best_model.metrics_names[1], scores[1]*100))\n"
      ],
      "execution_count": 12,
      "outputs": [
        {
          "output_type": "stream",
          "text": [
            "The best model parameters were saved during cross-validation.\n",
            "Best was defined as maximum validation accuracy at end of any epoch.\n",
            "Now re-load the best model and test it on previously unseen data.\n",
            "Test on 1000 PC seqs\n",
            "Test on 1000 NC seqs\n",
            "accuracy: 73.05%\n"
          ],
          "name": "stdout"
        }
      ]
    },
    {
      "cell_type": "code",
      "metadata": {
        "id": "VycUnmvUj2Ue",
        "colab": {
          "base_uri": "https://localhost:8080/",
          "height": 312
        },
        "outputId": "d898116c-7a5d-4ad6-a7fd-66f04e454b15"
      },
      "source": [
        "from sklearn.metrics import roc_curve\n",
        "from sklearn.metrics import roc_auc_score\n",
        "ns_probs = [0 for _ in range(len(y))]\n",
        "bm_probs = best_model.predict(X)\n",
        "ns_auc = roc_auc_score(y, ns_probs)\n",
        "bm_auc = roc_auc_score(y, bm_probs)\n",
        "ns_fpr, ns_tpr, _ = roc_curve(y, ns_probs)\n",
        "bm_fpr, bm_tpr, _ = roc_curve(y, bm_probs)\n",
        "plt.plot(ns_fpr, ns_tpr, linestyle='--', label='Guess, auc=%.4f'%ns_auc)\n",
        "plt.plot(bm_fpr, bm_tpr, marker='.', label='Model, auc=%.4f'%bm_auc)\n",
        "plt.title('ROC')\n",
        "plt.xlabel('False Positive Rate')\n",
        "plt.ylabel('True Positive Rate')\n",
        "plt.legend()\n",
        "plt.show()\n",
        "print(\"%s: %.2f%%\" %('AUC',bm_auc*100.0))\n"
      ],
      "execution_count": 13,
      "outputs": [
        {
          "output_type": "display_data",
          "data": {
            "image/png": "[encoded data removed]",
            "text/plain": [
              "<Figure size 432x288 with 1 Axes>"
            ]
          },
          "metadata": {
            "tags": [],
            "needs_background": "light"
          }
        },
        {
          "output_type": "stream",
          "text": [
            "AUC: 80.44%\n"
          ],
          "name": "stdout"
        }
      ]
    },
    {
      "cell_type": "code",
      "metadata": {
        "id": "kFMb6rGNj2Ug",
        "colab": {
          "base_uri": "https://localhost:8080/",
          "height": 36
        },
        "outputId": "2ad2c675-4c7e-4bd5-f077-267b907ee79c"
      },
      "source": [
        "t = time.time()\n",
        "time.strftime('%Y-%m-%d %H:%M:%S %Z', time.localtime(t))"
      ],
      "execution_count": 14,
      "outputs": [
        {
          "output_type": "execute_result",
          "data": {
            "application/vnd.google.colaboratory.intrinsic+json": {
              "type": "string"
            },
            "text/plain": [
              "'2021-06-17 20:57:09 UTC'"
            ]
          },
          "metadata": {
            "tags": []
          },
          "execution_count": 14
        }
      ]
    },
    {
      "cell_type": "code",
      "metadata": {
        "id": "e-mEgDrQjUzF"
      },
      "source": [
        ""
      ],
      "execution_count": 14,
      "outputs": []
    }
  ]
}