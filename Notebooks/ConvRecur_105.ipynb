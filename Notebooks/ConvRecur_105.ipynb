{
  "nbformat": 4,
  "nbformat_minor": 0,
  "metadata": {
    "accelerator": "GPU",
    "colab": {
      "name": "ConvRecur_105.ipynb",
      "provenance": [],
      "collapsed_sections": []
    },
    "kernelspec": {
      "display_name": "Python 3",
      "language": "python",
      "name": "python3"
    },
    "language_info": {
      "codemirror_mode": {
        "name": "ipython",
        "version": 3
      },
      "file_extension": ".py",
      "mimetype": "text/x-python",
      "name": "python",
      "nbconvert_exporter": "python",
      "pygments_lexer": "ipython3",
      "version": "3.8.3"
    }
  },
  "cells": [
    {
      "cell_type": "markdown",
      "metadata": {
        "id": "0asdcdunj2Tx"
      },
      "source": [
        "# ORF recognition by Convolutional/Recurrent\n",
        "\n",
        "Test CNN+LSTM on simulated RNA of length 100. \n",
        "\n",
        "Simulator code moved from notebook to Random_Base_Oracle class. \n",
        "\n",
        "Restructure the imports on CoLab for better error reporting."
      ]
    },
    {
      "cell_type": "code",
      "metadata": {
        "colab": {
          "base_uri": "https://localhost:8080/",
          "height": 36
        },
        "id": "QP1VTRNQj2UO",
        "outputId": "77f1ce76-5204-4c1f-eabf-61246596c3a3"
      },
      "source": [
        "import time \n",
        "t = time.time()\n",
        "time.strftime('%Y-%m-%d %H:%M:%S %Z', time.localtime(t))"
      ],
      "execution_count": 1,
      "outputs": [
        {
          "output_type": "execute_result",
          "data": {
            "application/vnd.google.colaboratory.intrinsic+json": {
              "type": "string"
            },
            "text/plain": [
              "'2021-06-21 12:51:43 UTC'"
            ]
          },
          "metadata": {
            "tags": []
          },
          "execution_count": 1
        }
      ]
    },
    {
      "cell_type": "code",
      "metadata": {
        "id": "Nhz4GKonj2T_"
      },
      "source": [
        "PC_SEQUENCES=32000   # how many protein-coding sequences\n",
        "NC_SEQUENCES=32000   # how many non-coding sequences\n",
        "PC_TESTS=1000\n",
        "NC_TESTS=1000\n",
        "RNA_LEN=100            # how long is each sequence\n",
        "CDS_LEN=60            # min CDS len to be coding\n",
        "ALPHABET=4          # how many different letters are possible\n",
        "INPUT_SHAPE_2D = (RNA_LEN,ALPHABET,1) # Conv2D needs 3D inputs\n",
        "INPUT_SHAPE = (RNA_LEN,ALPHABET) # Conv1D needs 2D inputs\n",
        "FILTERS = 32   # how many different patterns the model looks for\n",
        "CELLS = 32\n",
        "NEURONS = 32\n",
        "DROP_RATE = 0.4\n",
        "WIDTH = 3   # how wide each pattern is, in bases\n",
        "STRIDE_2D = (1,1)  # For Conv2D how far in each direction\n",
        "STRIDE = 1 # For Conv1D, how far between pattern matches, in bases\n",
        "EPOCHS=100  # how many times to train on all the data\n",
        "SPLITS=3  # SPLITS=3 means train on 2/3 and validate on 1/3 \n",
        "FOLDS=3  # train the model this many times (range 1 to SPLITS)"
      ],
      "execution_count": 2,
      "outputs": []
    },
    {
      "cell_type": "code",
      "metadata": {
        "colab": {
          "base_uri": "https://localhost:8080/"
        },
        "id": "lr7q90rxj2UE",
        "outputId": "089687bc-308c-4237-af8a-9320cdf6de2c"
      },
      "source": [
        "import sys\n",
        "IN_COLAB = False\n",
        "try:\n",
        "    from google.colab import drive\n",
        "    IN_COLAB = True\n",
        "except:\n",
        "    pass\n",
        "if IN_COLAB:\n",
        "    print(\"On Google CoLab, mount cloud-local file, get our code from GitHub.\")\n",
        "    PATH='/content/drive/'\n",
        "    #drive.mount(PATH,force_remount=True)  # hardly ever need this\n",
        "    #drive.mount(PATH)    # Google will require login credentials\n",
        "    DATAPATH=PATH+'My Drive/data/'  # must end in \"/\"\n",
        "    import requests\n",
        "    r = requests.get('https://raw.githubusercontent.com/ShepherdCode/Soars2021/master/SimTools/RNA_describe.py')\n",
        "    with open('RNA_describe.py', 'w') as f:\n",
        "        f.write(r.text)  \n",
        "    from RNA_describe import ORF_counter\n",
        "    from RNA_describe import Random_Base_Oracle\n",
        "    r = requests.get('https://raw.githubusercontent.com/ShepherdCode/Soars2021/master/SimTools/RNA_prep.py')\n",
        "    with open('RNA_prep.py', 'w') as f:\n",
        "        f.write(r.text)  \n",
        "    from RNA_prep import prepare_inputs_len_x_alphabet\n",
        "else:\n",
        "        print(\"CoLab not working. On my PC, use relative paths.\")\n",
        "        DATAPATH='data/'  # must end in \"/\"\n",
        "        sys.path.append(\"..\") # append parent dir in order to use sibling dirs\n",
        "        from SimTools.RNA_describe import ORF_counter,Random_Base_Oracle\n",
        "        from SimTools.RNA_prep import prepare_inputs_len_x_alphabet\n",
        "\n",
        "MODELPATH=\"BestModel\"  # saved on cloud instance and lost after logout\n",
        "#MODELPATH=DATAPATH+MODELPATH  # saved on Google Drive but requires login\n"
      ],
      "execution_count": 3,
      "outputs": [
        {
          "output_type": "stream",
          "text": [
            "On Google CoLab, mount cloud-local file, get our code from GitHub.\n"
          ],
          "name": "stdout"
        }
      ]
    },
    {
      "cell_type": "code",
      "metadata": {
        "id": "EGDXH8Uwj2UM"
      },
      "source": [
        "from os import listdir\n",
        "import csv\n",
        "from zipfile import ZipFile\n",
        "\n",
        "import numpy as np\n",
        "import pandas as pd\n",
        "from scipy import stats  # mode\n",
        "\n",
        "from sklearn.preprocessing import StandardScaler\n",
        "from sklearn.model_selection import KFold\n",
        "from sklearn.model_selection import cross_val_score\n",
        "\n",
        "from keras.models import Sequential\n",
        "from keras.layers import Dense,Embedding,Dropout\n",
        "from keras.layers import Conv1D,Conv2D\n",
        "from keras.layers import GRU,LSTM\n",
        "from keras.layers import Flatten,TimeDistributed\n",
        "from keras.layers import MaxPooling1D,MaxPooling2D\n",
        "from keras.losses import BinaryCrossentropy\n",
        "# tf.keras.losses.BinaryCrossentropy\n",
        "\n",
        "import matplotlib.pyplot as plt\n",
        "from matplotlib import colors\n",
        "mycmap = colors.ListedColormap(['red','blue'])  # list color for label 0 then 1\n",
        "np.set_printoptions(precision=2)\n"
      ],
      "execution_count": 4,
      "outputs": []
    },
    {
      "cell_type": "code",
      "metadata": {
        "id": "CUOG_jEvGtOm",
        "colab": {
          "base_uri": "https://localhost:8080/"
        },
        "outputId": "3b02fdee-54ef-48ed-9c53-694fea86f0a6"
      },
      "source": [
        "rbo=Random_Base_Oracle(RNA_LEN,True)\n",
        "pc_all,nc_all = rbo.get_partitioned_sequences(CDS_LEN,10) # just testing\n",
        "pc_all,nc_all = rbo.get_partitioned_sequences(CDS_LEN,PC_SEQUENCES+PC_TESTS)\n",
        "print(\"Use\",len(pc_all),\"PC seqs\")\n",
        "print(\"Use\",len(nc_all),\"NC seqs\")"
      ],
      "execution_count": 5,
      "outputs": [
        {
          "output_type": "stream",
          "text": [
            "It took 65 trials to reach 10 per class.\n",
            "It took 157961 trials to reach 33000 per class.\n",
            "Use 33000 PC seqs\n",
            "Use 33000 NC seqs\n"
          ],
          "name": "stdout"
        }
      ]
    },
    {
      "cell_type": "code",
      "metadata": {
        "id": "Q-BmSXi2jUyl",
        "colab": {
          "base_uri": "https://localhost:8080/"
        },
        "outputId": "2d1f7d8b-47d6-4e98-c557-1cda729e439a"
      },
      "source": [
        "# Describe the sequences\n",
        "def describe_sequences(list_of_seq):\n",
        "    oc = ORF_counter()\n",
        "    num_seq = len(list_of_seq)\n",
        "    rna_lens = np.zeros(num_seq)\n",
        "    orf_lens = np.zeros(num_seq)\n",
        "    for i in range(0,num_seq):\n",
        "        rna_len = len(list_of_seq[i])\n",
        "        rna_lens[i] = rna_len\n",
        "        oc.set_sequence(list_of_seq[i])\n",
        "        orf_len = oc.get_max_orf_len()\n",
        "        orf_lens[i] = orf_len\n",
        "    print (\"Average RNA length:\",rna_lens.mean())\n",
        "    print (\"Average ORF length:\",orf_lens.mean())\n",
        "    \n",
        "print(\"Simulated sequences prior to adjustment:\")\n",
        "print(\"PC seqs\")\n",
        "describe_sequences(pc_all)\n",
        "print(\"NC seqs\")\n",
        "describe_sequences(nc_all)"
      ],
      "execution_count": 6,
      "outputs": [
        {
          "output_type": "stream",
          "text": [
            "Simulated sequences prior to adjustment:\n",
            "PC seqs\n",
            "Average RNA length: 100.0\n",
            "Average ORF length: 67.50345454545455\n",
            "NC seqs\n",
            "Average RNA length: 100.0\n",
            "Average ORF length: 22.146727272727272\n"
          ],
          "name": "stdout"
        }
      ]
    },
    {
      "cell_type": "code",
      "metadata": {
        "id": "iP1y7-J3jUys"
      },
      "source": [
        "pc_train=pc_all[:PC_SEQUENCES]\n",
        "nc_train=nc_all[:NC_SEQUENCES]\n",
        "pc_test=pc_all[PC_SEQUENCES:]\n",
        "nc_test=nc_all[NC_SEQUENCES:]"
      ],
      "execution_count": 7,
      "outputs": []
    },
    {
      "cell_type": "code",
      "metadata": {
        "id": "CIpTrnH6j2US",
        "colab": {
          "base_uri": "https://localhost:8080/"
        },
        "outputId": "e476c13b-f0d2-4ea2-a2bf-496d9d225e00"
      },
      "source": [
        "# Use code from our SimTools library.\n",
        "X,y = prepare_inputs_len_x_alphabet(pc_train,nc_train,ALPHABET) # shuffles\n",
        "print(\"Data ready.\")"
      ],
      "execution_count": 8,
      "outputs": [
        {
          "output_type": "stream",
          "text": [
            "Data ready.\n"
          ],
          "name": "stdout"
        }
      ]
    },
    {
      "cell_type": "code",
      "metadata": {
        "id": "7NvrVU8ij2UU",
        "colab": {
          "base_uri": "https://localhost:8080/"
        },
        "outputId": "490b9247-2239-4ee5-ac13-9aed9d56ce44"
      },
      "source": [
        "def make_DNN():\n",
        "    print(\"make_DNN\")\n",
        "    print(\"input shape:\",INPUT_SHAPE)\n",
        "    dnn = Sequential()\n",
        "    #dnn.add(Embedding(input_dim=INPUT_SHAPE,output_dim=INPUT_SHAPE)) \n",
        "    dnn.add(Conv1D(filters=FILTERS,kernel_size=WIDTH,strides=STRIDE,padding=\"same\",\n",
        "            input_shape=INPUT_SHAPE))\n",
        "    dnn.add(Conv1D(filters=FILTERS,kernel_size=WIDTH,strides=STRIDE,padding=\"same\"))\n",
        "    dnn.add(MaxPooling1D())\n",
        "    #dnn.add(Conv1D(filters=FILTERS,kernel_size=WIDTH,strides=STRIDE,padding=\"same\"))\n",
        "    #dnn.add(Conv1D(filters=FILTERS,kernel_size=WIDTH,strides=STRIDE,padding=\"same\"))\n",
        "    #dnn.add(MaxPooling1D())\n",
        "    #dnn.add(TimeDistributed(Flatten()))\n",
        "    dnn.add(LSTM(CELLS,return_sequences=True))\n",
        "    dnn.add(LSTM(CELLS,return_sequences=False))\n",
        "    dnn.add(Dense(NEURONS,activation=\"sigmoid\",dtype=np.float32))   \n",
        "    dnn.add(Dropout(DROP_RATE))\n",
        "    dnn.add(Dense(1,activation=\"sigmoid\",dtype=np.float32))   \n",
        "    dnn.compile(optimizer='adam',\n",
        "                loss=BinaryCrossentropy(from_logits=False),\n",
        "                metrics=['accuracy'])   # add to default metrics=loss\n",
        "    dnn.build(input_shape=INPUT_SHAPE)\n",
        "    #ln_rate = tf.keras.optimizers.Adam(learning_rate = LN_RATE)\n",
        "    #bc=tf.keras.losses.BinaryCrossentropy(from_logits=False)\n",
        "    #model.compile(loss=bc, optimizer=ln_rate, metrics=[\"accuracy\"])\n",
        "    return dnn\n",
        "model = make_DNN()\n",
        "print(model.summary())"
      ],
      "execution_count": 9,
      "outputs": [
        {
          "output_type": "stream",
          "text": [
            "make_DNN\n",
            "input shape: (100, 4)\n",
            "Model: \"sequential\"\n",
            "_________________________________________________________________\n",
            "Layer (type)                 Output Shape              Param #   \n",
            "=================================================================\n",
            "conv1d (Conv1D)              (None, 100, 32)           416       \n",
            "_________________________________________________________________\n",
            "conv1d_1 (Conv1D)            (None, 100, 32)           3104      \n",
            "_________________________________________________________________\n",
            "max_pooling1d (MaxPooling1D) (None, 50, 32)            0         \n",
            "_________________________________________________________________\n",
            "lstm (LSTM)                  (None, 50, 32)            8320      \n",
            "_________________________________________________________________\n",
            "lstm_1 (LSTM)                (None, 32)                8320      \n",
            "_________________________________________________________________\n",
            "dense (Dense)                (None, 32)                1056      \n",
            "_________________________________________________________________\n",
            "dropout (Dropout)            (None, 32)                0         \n",
            "_________________________________________________________________\n",
            "dense_1 (Dense)              (None, 1)                 33        \n",
            "=================================================================\n",
            "Total params: 21,249\n",
            "Trainable params: 21,249\n",
            "Non-trainable params: 0\n",
            "_________________________________________________________________\n",
            "None\n"
          ],
          "name": "stdout"
        }
      ]
    },
    {
      "cell_type": "code",
      "metadata": {
        "id": "nlVF0hR3j2UW"
      },
      "source": [
        "from keras.callbacks import ModelCheckpoint\n",
        "def do_cross_validation(X,y):\n",
        "    cv_scores = []\n",
        "    fold=0\n",
        "    mycallbacks = [ModelCheckpoint(\n",
        "        filepath=MODELPATH, save_best_only=True, \n",
        "        monitor='val_accuracy', mode='max')]   \n",
        "    splitter = KFold(n_splits=SPLITS)  # this does not shuffle\n",
        "    for train_index,valid_index in splitter.split(X):\n",
        "        if fold < FOLDS:\n",
        "            fold += 1\n",
        "            X_train=X[train_index] # inputs for training\n",
        "            y_train=y[train_index] # labels for training\n",
        "            X_valid=X[valid_index] # inputs for validation\n",
        "            y_valid=y[valid_index] # labels for validation\n",
        "            print(\"MODEL\")\n",
        "            # Call constructor on each CV. Else, continually improves the same model.\n",
        "            model = model = make_DNN()\n",
        "            print(\"FIT\")  # model.fit() implements learning\n",
        "            start_time=time.time()\n",
        "            history=model.fit(X_train, y_train, \n",
        "                    epochs=EPOCHS, \n",
        "                    verbose=1,  # ascii art while learning\n",
        "                    callbacks=mycallbacks,   # called at end of each epoch\n",
        "                    validation_data=(X_valid,y_valid))\n",
        "            end_time=time.time()\n",
        "            elapsed_time=(end_time-start_time)                        \n",
        "            print(\"Fold %d, %d epochs, %d sec\"%(fold,EPOCHS,elapsed_time))\n",
        "            # print(history.history.keys())  # all these keys will be shown in figure\n",
        "            pd.DataFrame(history.history).plot(figsize=(8,5))\n",
        "            plt.grid(True)\n",
        "            plt.gca().set_ylim(0,1) # any losses > 1 will be off the scale\n",
        "            plt.show()\n"
      ],
      "execution_count": 10,
      "outputs": []
    },
    {
      "cell_type": "code",
      "metadata": {
        "id": "9Ggt4EsSj2UY",
        "colab": {
          "base_uri": "https://localhost:8080/",
          "height": 1000
        },
        "outputId": "9d4e4e9e-7799-4fe4-ac35-75a084e7f1c2"
      },
      "source": [
        "do_cross_validation(X,y)"
      ],
      "execution_count": 11,
      "outputs": [
        {
          "output_type": "stream",
          "text": [
            "MODEL\n",
            "make_DNN\n",
            "input shape: (100, 4)\n",
            "FIT\n",
            "Epoch 1/100\n",
            "1334/1334 [==============================] - 44s 9ms/step - loss: 0.7051 - accuracy: 0.5135 - val_loss: 0.6266 - val_accuracy: 0.6500\n"
          ],
          "name": "stdout"
        },
        {
          "output_type": "stream",
          "text": [
            "WARNING:absl:Found untraced functions such as lstm_cell_2_layer_call_and_return_conditional_losses, lstm_cell_2_layer_call_fn, lstm_cell_3_layer_call_and_return_conditional_losses, lstm_cell_3_layer_call_fn, lstm_cell_2_layer_call_fn while saving (showing 5 of 10). These functions will not be directly callable after loading.\n"
          ],
          "name": "stderr"
        },
        {
          "output_type": "stream",
          "text": [
            "INFO:tensorflow:Assets written to: BestModel/assets\n"
          ],
          "name": "stdout"
        },
        {
          "output_type": "stream",
          "text": [
            "INFO:tensorflow:Assets written to: BestModel/assets\n"
          ],
          "name": "stderr"
        },
        {
          "output_type": "stream",
          "text": [
            "Epoch 2/100\n",
            "1334/1334 [==============================] - 11s 8ms/step - loss: 0.6311 - accuracy: 0.6438 - val_loss: 0.6162 - val_accuracy: 0.6533\n"
          ],
          "name": "stdout"
        },
        {
          "output_type": "stream",
          "text": [
            "WARNING:absl:Found untraced functions such as lstm_cell_2_layer_call_and_return_conditional_losses, lstm_cell_2_layer_call_fn, lstm_cell_3_layer_call_and_return_conditional_losses, lstm_cell_3_layer_call_fn, lstm_cell_2_layer_call_fn while saving (showing 5 of 10). These functions will not be directly callable after loading.\n"
          ],
          "name": "stderr"
        },
        {
          "output_type": "stream",
          "text": [
            "INFO:tensorflow:Assets written to: BestModel/assets\n"
          ],
          "name": "stdout"
        },
        {
          "output_type": "stream",
          "text": [
            "INFO:tensorflow:Assets written to: BestModel/assets\n"
          ],
          "name": "stderr"
        },
        {
          "output_type": "stream",
          "text": [
            "Epoch 3/100\n",
            "1334/1334 [==============================] - 11s 8ms/step - loss: 0.6022 - accuracy: 0.6662 - val_loss: 0.5783 - val_accuracy: 0.6867\n"
          ],
          "name": "stdout"
        },
        {
          "output_type": "stream",
          "text": [
            "WARNING:absl:Found untraced functions such as lstm_cell_2_layer_call_and_return_conditional_losses, lstm_cell_2_layer_call_fn, lstm_cell_3_layer_call_and_return_conditional_losses, lstm_cell_3_layer_call_fn, lstm_cell_2_layer_call_fn while saving (showing 5 of 10). These functions will not be directly callable after loading.\n"
          ],
          "name": "stderr"
        },
        {
          "output_type": "stream",
          "text": [
            "INFO:tensorflow:Assets written to: BestModel/assets\n"
          ],
          "name": "stdout"
        },
        {
          "output_type": "stream",
          "text": [
            "INFO:tensorflow:Assets written to: BestModel/assets\n"
          ],
          "name": "stderr"
        },
        {
          "output_type": "stream",
          "text": [
            "Epoch 4/100\n",
            "1334/1334 [==============================] - 11s 8ms/step - loss: 0.5668 - accuracy: 0.6994 - val_loss: 0.5508 - val_accuracy: 0.7061\n"
          ],
          "name": "stdout"
        },
        {
          "output_type": "stream",
          "text": [
            "WARNING:absl:Found untraced functions such as lstm_cell_2_layer_call_and_return_conditional_losses, lstm_cell_2_layer_call_fn, lstm_cell_3_layer_call_and_return_conditional_losses, lstm_cell_3_layer_call_fn, lstm_cell_2_layer_call_fn while saving (showing 5 of 10). These functions will not be directly callable after loading.\n"
          ],
          "name": "stderr"
        },
        {
          "output_type": "stream",
          "text": [
            "INFO:tensorflow:Assets written to: BestModel/assets\n"
          ],
          "name": "stdout"
        },
        {
          "output_type": "stream",
          "text": [
            "INFO:tensorflow:Assets written to: BestModel/assets\n"
          ],
          "name": "stderr"
        },
        {
          "output_type": "stream",
          "text": [
            "Epoch 5/100\n",
            "1334/1334 [==============================] - 11s 8ms/step - loss: 0.5391 - accuracy: 0.7157 - val_loss: 0.5340 - val_accuracy: 0.7156\n"
          ],
          "name": "stdout"
        },
        {
          "output_type": "stream",
          "text": [
            "WARNING:absl:Found untraced functions such as lstm_cell_2_layer_call_and_return_conditional_losses, lstm_cell_2_layer_call_fn, lstm_cell_3_layer_call_and_return_conditional_losses, lstm_cell_3_layer_call_fn, lstm_cell_2_layer_call_fn while saving (showing 5 of 10). These functions will not be directly callable after loading.\n"
          ],
          "name": "stderr"
        },
        {
          "output_type": "stream",
          "text": [
            "INFO:tensorflow:Assets written to: BestModel/assets\n"
          ],
          "name": "stdout"
        },
        {
          "output_type": "stream",
          "text": [
            "INFO:tensorflow:Assets written to: BestModel/assets\n"
          ],
          "name": "stderr"
        },
        {
          "output_type": "stream",
          "text": [
            "Epoch 6/100\n",
            "1334/1334 [==============================] - 11s 8ms/step - loss: 0.5384 - accuracy: 0.7133 - val_loss: 0.5294 - val_accuracy: 0.7168\n"
          ],
          "name": "stdout"
        },
        {
          "output_type": "stream",
          "text": [
            "WARNING:absl:Found untraced functions such as lstm_cell_2_layer_call_and_return_conditional_losses, lstm_cell_2_layer_call_fn, lstm_cell_3_layer_call_and_return_conditional_losses, lstm_cell_3_layer_call_fn, lstm_cell_2_layer_call_fn while saving (showing 5 of 10). These functions will not be directly callable after loading.\n"
          ],
          "name": "stderr"
        },
        {
          "output_type": "stream",
          "text": [
            "INFO:tensorflow:Assets written to: BestModel/assets\n"
          ],
          "name": "stdout"
        },
        {
          "output_type": "stream",
          "text": [
            "INFO:tensorflow:Assets written to: BestModel/assets\n"
          ],
          "name": "stderr"
        },
        {
          "output_type": "stream",
          "text": [
            "Epoch 7/100\n",
            "1334/1334 [==============================] - 11s 8ms/step - loss: 0.5308 - accuracy: 0.7189 - val_loss: 0.5283 - val_accuracy: 0.7164\n",
            "Epoch 8/100\n",
            "1334/1334 [==============================] - 11s 8ms/step - loss: 0.5242 - accuracy: 0.7224 - val_loss: 0.5262 - val_accuracy: 0.7170\n"
          ],
          "name": "stdout"
        },
        {
          "output_type": "stream",
          "text": [
            "WARNING:absl:Found untraced functions such as lstm_cell_2_layer_call_and_return_conditional_losses, lstm_cell_2_layer_call_fn, lstm_cell_3_layer_call_and_return_conditional_losses, lstm_cell_3_layer_call_fn, lstm_cell_2_layer_call_fn while saving (showing 5 of 10). These functions will not be directly callable after loading.\n"
          ],
          "name": "stderr"
        },
        {
          "output_type": "stream",
          "text": [
            "INFO:tensorflow:Assets written to: BestModel/assets\n"
          ],
          "name": "stdout"
        },
        {
          "output_type": "stream",
          "text": [
            "INFO:tensorflow:Assets written to: BestModel/assets\n"
          ],
          "name": "stderr"
        },
        {
          "output_type": "stream",
          "text": [
            "Epoch 9/100\n",
            "1334/1334 [==============================] - 11s 8ms/step - loss: 0.5283 - accuracy: 0.7195 - val_loss: 0.5275 - val_accuracy: 0.7191\n"
          ],
          "name": "stdout"
        },
        {
          "output_type": "stream",
          "text": [
            "WARNING:absl:Found untraced functions such as lstm_cell_2_layer_call_and_return_conditional_losses, lstm_cell_2_layer_call_fn, lstm_cell_3_layer_call_and_return_conditional_losses, lstm_cell_3_layer_call_fn, lstm_cell_2_layer_call_fn while saving (showing 5 of 10). These functions will not be directly callable after loading.\n"
          ],
          "name": "stderr"
        },
        {
          "output_type": "stream",
          "text": [
            "INFO:tensorflow:Assets written to: BestModel/assets\n"
          ],
          "name": "stdout"
        },
        {
          "output_type": "stream",
          "text": [
            "INFO:tensorflow:Assets written to: BestModel/assets\n"
          ],
          "name": "stderr"
        },
        {
          "output_type": "stream",
          "text": [
            "Epoch 10/100\n",
            "1334/1334 [==============================] - 11s 8ms/step - loss: 0.5200 - accuracy: 0.7266 - val_loss: 0.5340 - val_accuracy: 0.7155\n",
            "Epoch 11/100\n",
            "1334/1334 [==============================] - 11s 8ms/step - loss: 0.5232 - accuracy: 0.7251 - val_loss: 0.5510 - val_accuracy: 0.7157\n",
            "Epoch 12/100\n",
            "1334/1334 [==============================] - 11s 8ms/step - loss: 0.5150 - accuracy: 0.7312 - val_loss: 0.5347 - val_accuracy: 0.7051\n",
            "Epoch 13/100\n",
            "1334/1334 [==============================] - 11s 8ms/step - loss: 0.5126 - accuracy: 0.7337 - val_loss: 0.5331 - val_accuracy: 0.7173\n",
            "Epoch 14/100\n",
            "1334/1334 [==============================] - 11s 8ms/step - loss: 0.5057 - accuracy: 0.7335 - val_loss: 0.5191 - val_accuracy: 0.7203\n"
          ],
          "name": "stdout"
        },
        {
          "output_type": "stream",
          "text": [
            "WARNING:absl:Found untraced functions such as lstm_cell_2_layer_call_and_return_conditional_losses, lstm_cell_2_layer_call_fn, lstm_cell_3_layer_call_and_return_conditional_losses, lstm_cell_3_layer_call_fn, lstm_cell_2_layer_call_fn while saving (showing 5 of 10). These functions will not be directly callable after loading.\n"
          ],
          "name": "stderr"
        },
        {
          "output_type": "stream",
          "text": [
            "INFO:tensorflow:Assets written to: BestModel/assets\n"
          ],
          "name": "stdout"
        },
        {
          "output_type": "stream",
          "text": [
            "INFO:tensorflow:Assets written to: BestModel/assets\n"
          ],
          "name": "stderr"
        },
        {
          "output_type": "stream",
          "text": [
            "Epoch 15/100\n",
            "1334/1334 [==============================] - 11s 8ms/step - loss: 0.5076 - accuracy: 0.7308 - val_loss: 0.5178 - val_accuracy: 0.7198\n",
            "Epoch 16/100\n",
            "1334/1334 [==============================] - 11s 8ms/step - loss: 0.4982 - accuracy: 0.7382 - val_loss: 0.5230 - val_accuracy: 0.7169\n",
            "Epoch 17/100\n",
            "1334/1334 [==============================] - 11s 8ms/step - loss: 0.4968 - accuracy: 0.7391 - val_loss: 0.5204 - val_accuracy: 0.7173\n",
            "Epoch 18/100\n",
            "1334/1334 [==============================] - 11s 8ms/step - loss: 0.4963 - accuracy: 0.7367 - val_loss: 0.5524 - val_accuracy: 0.7038\n",
            "Epoch 19/100\n",
            "1334/1334 [==============================] - 11s 8ms/step - loss: 0.5041 - accuracy: 0.7343 - val_loss: 0.5271 - val_accuracy: 0.7195\n",
            "Epoch 20/100\n",
            "1334/1334 [==============================] - 11s 8ms/step - loss: 0.4912 - accuracy: 0.7437 - val_loss: 0.5331 - val_accuracy: 0.7168\n",
            "Epoch 21/100\n",
            "1334/1334 [==============================] - 11s 8ms/step - loss: 0.4844 - accuracy: 0.7440 - val_loss: 0.5305 - val_accuracy: 0.7151\n",
            "Epoch 22/100\n",
            "1334/1334 [==============================] - 11s 8ms/step - loss: 0.4947 - accuracy: 0.7410 - val_loss: 0.5381 - val_accuracy: 0.7136\n",
            "Epoch 23/100\n",
            "1334/1334 [==============================] - 11s 8ms/step - loss: 0.4855 - accuracy: 0.7436 - val_loss: 0.5336 - val_accuracy: 0.7124\n",
            "Epoch 24/100\n",
            "1334/1334 [==============================] - 11s 8ms/step - loss: 0.4743 - accuracy: 0.7528 - val_loss: 0.5299 - val_accuracy: 0.7174\n",
            "Epoch 25/100\n",
            "1334/1334 [==============================] - 11s 8ms/step - loss: 0.4808 - accuracy: 0.7497 - val_loss: 0.5389 - val_accuracy: 0.7128\n",
            "Epoch 26/100\n",
            "1334/1334 [==============================] - 11s 8ms/step - loss: 0.4794 - accuracy: 0.7502 - val_loss: 0.5409 - val_accuracy: 0.7171\n",
            "Epoch 27/100\n",
            "1334/1334 [==============================] - 11s 8ms/step - loss: 0.4701 - accuracy: 0.7537 - val_loss: 0.5469 - val_accuracy: 0.7112\n",
            "Epoch 28/100\n",
            "1334/1334 [==============================] - 11s 8ms/step - loss: 0.4680 - accuracy: 0.7543 - val_loss: 0.5419 - val_accuracy: 0.7102\n",
            "Epoch 29/100\n",
            "1334/1334 [==============================] - 11s 8ms/step - loss: 0.4635 - accuracy: 0.7609 - val_loss: 0.5429 - val_accuracy: 0.7067\n",
            "Epoch 30/100\n",
            "1334/1334 [==============================] - 11s 8ms/step - loss: 0.4611 - accuracy: 0.7576 - val_loss: 0.5471 - val_accuracy: 0.7112\n",
            "Epoch 31/100\n",
            "1334/1334 [==============================] - 11s 8ms/step - loss: 0.4869 - accuracy: 0.7483 - val_loss: 0.5502 - val_accuracy: 0.7106\n",
            "Epoch 32/100\n",
            "1334/1334 [==============================] - 11s 8ms/step - loss: 0.4700 - accuracy: 0.7557 - val_loss: 0.5547 - val_accuracy: 0.7114\n",
            "Epoch 33/100\n",
            "1334/1334 [==============================] - 11s 8ms/step - loss: 0.4762 - accuracy: 0.7544 - val_loss: 0.5556 - val_accuracy: 0.7111\n",
            "Epoch 34/100\n",
            "1334/1334 [==============================] - 11s 8ms/step - loss: 0.4577 - accuracy: 0.7632 - val_loss: 0.5584 - val_accuracy: 0.7097\n",
            "Epoch 35/100\n",
            "1334/1334 [==============================] - 11s 8ms/step - loss: 0.4583 - accuracy: 0.7616 - val_loss: 0.5502 - val_accuracy: 0.7118\n",
            "Epoch 36/100\n",
            "1334/1334 [==============================] - 11s 8ms/step - loss: 0.4529 - accuracy: 0.7677 - val_loss: 0.5577 - val_accuracy: 0.7100\n",
            "Epoch 37/100\n",
            "1334/1334 [==============================] - 11s 8ms/step - loss: 0.4503 - accuracy: 0.7641 - val_loss: 0.5678 - val_accuracy: 0.7115\n",
            "Epoch 38/100\n",
            "1334/1334 [==============================] - 11s 8ms/step - loss: 0.4471 - accuracy: 0.7664 - val_loss: 0.5500 - val_accuracy: 0.7070\n",
            "Epoch 39/100\n",
            "1334/1334 [==============================] - 11s 8ms/step - loss: 0.4684 - accuracy: 0.7541 - val_loss: 0.5691 - val_accuracy: 0.7092\n",
            "Epoch 40/100\n",
            "1334/1334 [==============================] - 11s 8ms/step - loss: 0.4433 - accuracy: 0.7671 - val_loss: 0.5641 - val_accuracy: 0.7111\n",
            "Epoch 41/100\n",
            "1334/1334 [==============================] - 11s 8ms/step - loss: 0.4371 - accuracy: 0.7702 - val_loss: 0.5894 - val_accuracy: 0.7087\n",
            "Epoch 42/100\n",
            "1334/1334 [==============================] - 11s 8ms/step - loss: 0.4373 - accuracy: 0.7717 - val_loss: 0.5614 - val_accuracy: 0.7089\n",
            "Epoch 43/100\n",
            "1334/1334 [==============================] - 11s 8ms/step - loss: 0.4400 - accuracy: 0.7718 - val_loss: 0.5764 - val_accuracy: 0.7090\n",
            "Epoch 44/100\n",
            "1334/1334 [==============================] - 11s 8ms/step - loss: 0.4285 - accuracy: 0.7784 - val_loss: 0.5599 - val_accuracy: 0.7106\n",
            "Epoch 45/100\n",
            "1334/1334 [==============================] - 11s 8ms/step - loss: 0.4305 - accuracy: 0.7789 - val_loss: 0.5781 - val_accuracy: 0.7091\n",
            "Epoch 46/100\n",
            "1334/1334 [==============================] - 11s 8ms/step - loss: 0.4328 - accuracy: 0.7758 - val_loss: 0.5754 - val_accuracy: 0.6988\n",
            "Epoch 47/100\n",
            "1334/1334 [==============================] - 11s 8ms/step - loss: 0.4798 - accuracy: 0.7477 - val_loss: 0.5700 - val_accuracy: 0.7098\n",
            "Epoch 48/100\n",
            "1334/1334 [==============================] - 11s 8ms/step - loss: 0.4268 - accuracy: 0.7769 - val_loss: 0.5884 - val_accuracy: 0.7031\n",
            "Epoch 49/100\n",
            "1334/1334 [==============================] - 11s 8ms/step - loss: 0.4225 - accuracy: 0.7812 - val_loss: 0.5983 - val_accuracy: 0.7053\n",
            "Epoch 50/100\n",
            "1334/1334 [==============================] - 11s 8ms/step - loss: 0.4212 - accuracy: 0.7810 - val_loss: 0.6029 - val_accuracy: 0.7079\n",
            "Epoch 51/100\n",
            "1334/1334 [==============================] - 11s 8ms/step - loss: 0.4144 - accuracy: 0.7844 - val_loss: 0.6087 - val_accuracy: 0.7052\n",
            "Epoch 52/100\n",
            "1334/1334 [==============================] - 11s 8ms/step - loss: 0.4135 - accuracy: 0.7875 - val_loss: 0.6095 - val_accuracy: 0.7045\n",
            "Epoch 53/100\n",
            "1334/1334 [==============================] - 11s 8ms/step - loss: 0.4107 - accuracy: 0.7864 - val_loss: 0.6062 - val_accuracy: 0.7072\n",
            "Epoch 54/100\n",
            "1334/1334 [==============================] - 11s 8ms/step - loss: 0.4128 - accuracy: 0.7896 - val_loss: 0.6551 - val_accuracy: 0.7054\n",
            "Epoch 55/100\n",
            "1334/1334 [==============================] - 11s 8ms/step - loss: 0.4114 - accuracy: 0.7894 - val_loss: 0.6440 - val_accuracy: 0.7020\n",
            "Epoch 56/100\n",
            "1334/1334 [==============================] - 11s 8ms/step - loss: 0.4069 - accuracy: 0.7907 - val_loss: 0.6203 - val_accuracy: 0.7002\n",
            "Epoch 57/100\n",
            "1334/1334 [==============================] - 11s 8ms/step - loss: 0.4060 - accuracy: 0.7929 - val_loss: 0.6289 - val_accuracy: 0.7048\n",
            "Epoch 58/100\n",
            "1334/1334 [==============================] - 11s 8ms/step - loss: 0.4077 - accuracy: 0.7877 - val_loss: 0.6090 - val_accuracy: 0.7005\n",
            "Epoch 59/100\n",
            "1334/1334 [==============================] - 11s 8ms/step - loss: 0.4001 - accuracy: 0.7914 - val_loss: 0.6428 - val_accuracy: 0.7009\n",
            "Epoch 60/100\n",
            "1334/1334 [==============================] - 11s 8ms/step - loss: 0.3995 - accuracy: 0.7945 - val_loss: 0.6153 - val_accuracy: 0.6956\n",
            "Epoch 61/100\n",
            "1334/1334 [==============================] - 11s 8ms/step - loss: 0.4021 - accuracy: 0.7925 - val_loss: 0.6735 - val_accuracy: 0.6967\n",
            "Epoch 62/100\n",
            "1334/1334 [==============================] - 11s 8ms/step - loss: 0.4010 - accuracy: 0.7936 - val_loss: 0.6628 - val_accuracy: 0.6983\n",
            "Epoch 63/100\n",
            "1334/1334 [==============================] - 11s 8ms/step - loss: 0.3966 - accuracy: 0.7936 - val_loss: 0.6476 - val_accuracy: 0.7005\n",
            "Epoch 64/100\n",
            "1334/1334 [==============================] - 11s 8ms/step - loss: 0.3936 - accuracy: 0.7979 - val_loss: 0.6543 - val_accuracy: 0.6969\n",
            "Epoch 65/100\n",
            "1334/1334 [==============================] - 11s 8ms/step - loss: 0.3802 - accuracy: 0.8034 - val_loss: 0.6213 - val_accuracy: 0.6996\n",
            "Epoch 66/100\n",
            "1334/1334 [==============================] - 11s 8ms/step - loss: 0.3838 - accuracy: 0.8039 - val_loss: 0.6720 - val_accuracy: 0.6999\n",
            "Epoch 67/100\n",
            "1334/1334 [==============================] - 11s 8ms/step - loss: 0.3841 - accuracy: 0.8037 - val_loss: 0.6917 - val_accuracy: 0.7009\n",
            "Epoch 68/100\n",
            "1334/1334 [==============================] - 11s 8ms/step - loss: 0.3838 - accuracy: 0.7997 - val_loss: 0.6852 - val_accuracy: 0.6997\n",
            "Epoch 69/100\n",
            "1334/1334 [==============================] - 11s 8ms/step - loss: 0.3788 - accuracy: 0.8030 - val_loss: 0.6223 - val_accuracy: 0.6958\n",
            "Epoch 70/100\n",
            "1334/1334 [==============================] - 11s 8ms/step - loss: 0.3959 - accuracy: 0.7944 - val_loss: 0.7269 - val_accuracy: 0.7020\n",
            "Epoch 71/100\n",
            "1334/1334 [==============================] - 11s 8ms/step - loss: 0.3731 - accuracy: 0.8073 - val_loss: 0.7041 - val_accuracy: 0.6986\n",
            "Epoch 72/100\n",
            "1334/1334 [==============================] - 11s 8ms/step - loss: 0.3949 - accuracy: 0.7981 - val_loss: 0.6863 - val_accuracy: 0.6999\n",
            "Epoch 73/100\n",
            "1334/1334 [==============================] - 11s 8ms/step - loss: 0.3775 - accuracy: 0.8045 - val_loss: 0.7018 - val_accuracy: 0.6985\n",
            "Epoch 74/100\n",
            "1334/1334 [==============================] - 11s 8ms/step - loss: 0.3715 - accuracy: 0.8070 - val_loss: 0.6969 - val_accuracy: 0.6960\n",
            "Epoch 75/100\n",
            "1334/1334 [==============================] - 11s 8ms/step - loss: 0.3696 - accuracy: 0.8102 - val_loss: 0.8676 - val_accuracy: 0.6913\n",
            "Epoch 76/100\n",
            "1334/1334 [==============================] - 11s 8ms/step - loss: 0.4252 - accuracy: 0.7896 - val_loss: 0.6335 - val_accuracy: 0.7020\n",
            "Epoch 77/100\n",
            "1334/1334 [==============================] - 11s 8ms/step - loss: 0.4214 - accuracy: 0.7849 - val_loss: 0.6577 - val_accuracy: 0.6995\n",
            "Epoch 78/100\n",
            "1334/1334 [==============================] - 11s 8ms/step - loss: 0.3687 - accuracy: 0.8071 - val_loss: 0.7072 - val_accuracy: 0.6988\n",
            "Epoch 79/100\n",
            "1334/1334 [==============================] - 11s 8ms/step - loss: 0.3567 - accuracy: 0.8175 - val_loss: 0.6944 - val_accuracy: 0.6955\n",
            "Epoch 80/100\n",
            "1334/1334 [==============================] - 11s 8ms/step - loss: 0.3637 - accuracy: 0.8136 - val_loss: 0.6893 - val_accuracy: 0.6964\n",
            "Epoch 81/100\n",
            "1334/1334 [==============================] - 11s 8ms/step - loss: 0.3648 - accuracy: 0.8136 - val_loss: 0.7249 - val_accuracy: 0.6984\n",
            "Epoch 82/100\n",
            "1334/1334 [==============================] - 11s 8ms/step - loss: 0.3608 - accuracy: 0.8170 - val_loss: 0.6414 - val_accuracy: 0.6719\n",
            "Epoch 83/100\n",
            "1334/1334 [==============================] - 11s 8ms/step - loss: 0.4432 - accuracy: 0.7739 - val_loss: 0.6961 - val_accuracy: 0.6948\n",
            "Epoch 84/100\n",
            "1334/1334 [==============================] - 11s 8ms/step - loss: 0.3733 - accuracy: 0.8118 - val_loss: 0.7516 - val_accuracy: 0.6987\n",
            "Epoch 85/100\n",
            "1334/1334 [==============================] - 11s 8ms/step - loss: 0.3616 - accuracy: 0.8156 - val_loss: 0.6403 - val_accuracy: 0.6988\n",
            "Epoch 86/100\n",
            "1334/1334 [==============================] - 11s 8ms/step - loss: 0.3883 - accuracy: 0.8031 - val_loss: 0.6944 - val_accuracy: 0.6941\n",
            "Epoch 87/100\n",
            "1334/1334 [==============================] - 11s 8ms/step - loss: 0.3547 - accuracy: 0.8207 - val_loss: 0.7263 - val_accuracy: 0.6955\n",
            "Epoch 88/100\n",
            "1334/1334 [==============================] - 11s 8ms/step - loss: 0.3575 - accuracy: 0.8167 - val_loss: 0.7133 - val_accuracy: 0.6966\n",
            "Epoch 89/100\n",
            "1334/1334 [==============================] - 11s 8ms/step - loss: 0.3527 - accuracy: 0.8197 - val_loss: 0.7382 - val_accuracy: 0.6958\n",
            "Epoch 90/100\n",
            "1334/1334 [==============================] - 11s 8ms/step - loss: 0.3582 - accuracy: 0.8219 - val_loss: 0.7722 - val_accuracy: 0.6965\n",
            "Epoch 91/100\n",
            "1334/1334 [==============================] - 11s 8ms/step - loss: 0.3945 - accuracy: 0.7991 - val_loss: 0.6849 - val_accuracy: 0.6990\n",
            "Epoch 92/100\n",
            "1334/1334 [==============================] - 11s 8ms/step - loss: 0.3674 - accuracy: 0.8108 - val_loss: 0.7126 - val_accuracy: 0.6976\n",
            "Epoch 93/100\n",
            "1334/1334 [==============================] - 11s 8ms/step - loss: 0.3491 - accuracy: 0.8262 - val_loss: 0.7008 - val_accuracy: 0.6889\n",
            "Epoch 94/100\n",
            "1334/1334 [==============================] - 11s 8ms/step - loss: 0.3528 - accuracy: 0.8210 - val_loss: 0.7643 - val_accuracy: 0.6985\n",
            "Epoch 95/100\n",
            "1334/1334 [==============================] - 11s 8ms/step - loss: 0.3450 - accuracy: 0.8253 - val_loss: 0.7368 - val_accuracy: 0.6926\n",
            "Epoch 96/100\n",
            "1334/1334 [==============================] - 11s 8ms/step - loss: 0.3625 - accuracy: 0.8153 - val_loss: 0.7294 - val_accuracy: 0.6924\n",
            "Epoch 97/100\n",
            "1334/1334 [==============================] - 11s 8ms/step - loss: 0.3597 - accuracy: 0.8216 - val_loss: 0.7843 - val_accuracy: 0.6929\n",
            "Epoch 98/100\n",
            "1334/1334 [==============================] - 11s 8ms/step - loss: 0.3374 - accuracy: 0.8272 - val_loss: 0.8124 - val_accuracy: 0.6937\n",
            "Epoch 99/100\n",
            "1334/1334 [==============================] - 11s 8ms/step - loss: 0.3391 - accuracy: 0.8287 - val_loss: 0.7878 - val_accuracy: 0.6879\n",
            "Epoch 100/100\n",
            "1334/1334 [==============================] - 12s 9ms/step - loss: 0.3455 - accuracy: 0.8276 - val_loss: 0.8155 - val_accuracy: 0.6905\n",
            "Fold 1, 100 epochs, 1238 sec\n"
          ],
          "name": "stdout"
        },
        {
          "output_type": "display_data",
          "data": {
            "image/png": "[encoded data removed]",
            "text/plain": [
              "<Figure size 576x360 with 1 Axes>"
            ]
          },
          "metadata": {
            "tags": [],
            "needs_background": "light"
          }
        },
        {
          "output_type": "stream",
          "text": [
            "MODEL\n",
            "make_DNN\n",
            "input shape: (100, 4)\n",
            "FIT\n",
            "Epoch 1/100\n",
            "1334/1334 [==============================] - 15s 9ms/step - loss: 0.7098 - accuracy: 0.5044 - val_loss: 0.6860 - val_accuracy: 0.5512\n",
            "Epoch 2/100\n",
            "1334/1334 [==============================] - 11s 9ms/step - loss: 0.6622 - accuracy: 0.5925 - val_loss: 0.6213 - val_accuracy: 0.6461\n",
            "Epoch 3/100\n",
            "1334/1334 [==============================] - 11s 9ms/step - loss: 0.6074 - accuracy: 0.6649 - val_loss: 0.5842 - val_accuracy: 0.6839\n",
            "Epoch 4/100\n",
            "1334/1334 [==============================] - 12s 9ms/step - loss: 0.5771 - accuracy: 0.6954 - val_loss: 0.5559 - val_accuracy: 0.6999\n",
            "Epoch 5/100\n",
            "1334/1334 [==============================] - 11s 9ms/step - loss: 0.6030 - accuracy: 0.6605 - val_loss: 0.5676 - val_accuracy: 0.6958\n",
            "Epoch 6/100\n",
            "1334/1334 [==============================] - 11s 8ms/step - loss: 0.5558 - accuracy: 0.7051 - val_loss: 0.5419 - val_accuracy: 0.7088\n",
            "Epoch 7/100\n",
            "1334/1334 [==============================] - 11s 8ms/step - loss: 0.5399 - accuracy: 0.7135 - val_loss: 0.5359 - val_accuracy: 0.7124\n",
            "Epoch 8/100\n",
            "1334/1334 [==============================] - 11s 8ms/step - loss: 0.5376 - accuracy: 0.7161 - val_loss: 0.5376 - val_accuracy: 0.7074\n",
            "Epoch 9/100\n",
            "1334/1334 [==============================] - 11s 8ms/step - loss: 0.5292 - accuracy: 0.7188 - val_loss: 0.5291 - val_accuracy: 0.7148\n",
            "Epoch 10/100\n",
            "1334/1334 [==============================] - 11s 8ms/step - loss: 0.5251 - accuracy: 0.7227 - val_loss: 0.5362 - val_accuracy: 0.7064\n",
            "Epoch 11/100\n",
            "1334/1334 [==============================] - 12s 9ms/step - loss: 0.5313 - accuracy: 0.7172 - val_loss: 0.5295 - val_accuracy: 0.7125\n",
            "Epoch 12/100\n",
            "1334/1334 [==============================] - 11s 8ms/step - loss: 0.5179 - accuracy: 0.7277 - val_loss: 0.5248 - val_accuracy: 0.7197\n",
            "Epoch 13/100\n",
            "1334/1334 [==============================] - 11s 8ms/step - loss: 0.5194 - accuracy: 0.7261 - val_loss: 0.5425 - val_accuracy: 0.7131\n",
            "Epoch 14/100\n",
            "1334/1334 [==============================] - 11s 8ms/step - loss: 0.5087 - accuracy: 0.7342 - val_loss: 0.5228 - val_accuracy: 0.7186\n",
            "Epoch 15/100\n",
            "1334/1334 [==============================] - 11s 8ms/step - loss: 0.5118 - accuracy: 0.7312 - val_loss: 0.5351 - val_accuracy: 0.7018\n",
            "Epoch 16/100\n",
            "1334/1334 [==============================] - 11s 9ms/step - loss: 0.5074 - accuracy: 0.7341 - val_loss: 0.5227 - val_accuracy: 0.7175\n",
            "Epoch 17/100\n",
            "1334/1334 [==============================] - 11s 8ms/step - loss: 0.5040 - accuracy: 0.7339 - val_loss: 0.5191 - val_accuracy: 0.7245\n"
          ],
          "name": "stdout"
        },
        {
          "output_type": "stream",
          "text": [
            "WARNING:absl:Found untraced functions such as lstm_cell_4_layer_call_and_return_conditional_losses, lstm_cell_4_layer_call_fn, lstm_cell_5_layer_call_and_return_conditional_losses, lstm_cell_5_layer_call_fn, lstm_cell_4_layer_call_fn while saving (showing 5 of 10). These functions will not be directly callable after loading.\n"
          ],
          "name": "stderr"
        },
        {
          "output_type": "stream",
          "text": [
            "INFO:tensorflow:Assets written to: BestModel/assets\n"
          ],
          "name": "stdout"
        },
        {
          "output_type": "stream",
          "text": [
            "INFO:tensorflow:Assets written to: BestModel/assets\n"
          ],
          "name": "stderr"
        },
        {
          "output_type": "stream",
          "text": [
            "Epoch 18/100\n",
            "1334/1334 [==============================] - 11s 8ms/step - loss: 0.5003 - accuracy: 0.7354 - val_loss: 0.5239 - val_accuracy: 0.7202\n",
            "Epoch 19/100\n",
            "1334/1334 [==============================] - 11s 8ms/step - loss: 0.4965 - accuracy: 0.7401 - val_loss: 0.5230 - val_accuracy: 0.7193\n",
            "Epoch 20/100\n",
            "1334/1334 [==============================] - 11s 8ms/step - loss: 0.4999 - accuracy: 0.7355 - val_loss: 0.5218 - val_accuracy: 0.7247\n"
          ],
          "name": "stdout"
        },
        {
          "output_type": "stream",
          "text": [
            "WARNING:absl:Found untraced functions such as lstm_cell_4_layer_call_and_return_conditional_losses, lstm_cell_4_layer_call_fn, lstm_cell_5_layer_call_and_return_conditional_losses, lstm_cell_5_layer_call_fn, lstm_cell_4_layer_call_fn while saving (showing 5 of 10). These functions will not be directly callable after loading.\n"
          ],
          "name": "stderr"
        },
        {
          "output_type": "stream",
          "text": [
            "INFO:tensorflow:Assets written to: BestModel/assets\n"
          ],
          "name": "stdout"
        },
        {
          "output_type": "stream",
          "text": [
            "INFO:tensorflow:Assets written to: BestModel/assets\n"
          ],
          "name": "stderr"
        },
        {
          "output_type": "stream",
          "text": [
            "Epoch 21/100\n",
            "1334/1334 [==============================] - 11s 8ms/step - loss: 0.4925 - accuracy: 0.7396 - val_loss: 0.5208 - val_accuracy: 0.7223\n",
            "Epoch 22/100\n",
            "1334/1334 [==============================] - 11s 8ms/step - loss: 0.4895 - accuracy: 0.7445 - val_loss: 0.5208 - val_accuracy: 0.7202\n",
            "Epoch 23/100\n",
            "1334/1334 [==============================] - 11s 8ms/step - loss: 0.4905 - accuracy: 0.7434 - val_loss: 0.5225 - val_accuracy: 0.7229\n",
            "Epoch 24/100\n",
            "1334/1334 [==============================] - 11s 8ms/step - loss: 0.4819 - accuracy: 0.7451 - val_loss: 0.5215 - val_accuracy: 0.7212\n",
            "Epoch 25/100\n",
            "1334/1334 [==============================] - 11s 8ms/step - loss: 0.4813 - accuracy: 0.7486 - val_loss: 0.5278 - val_accuracy: 0.7181\n",
            "Epoch 26/100\n",
            "1334/1334 [==============================] - 11s 8ms/step - loss: 0.4828 - accuracy: 0.7461 - val_loss: 0.5449 - val_accuracy: 0.7223\n",
            "Epoch 27/100\n",
            "1334/1334 [==============================] - 11s 8ms/step - loss: 0.4747 - accuracy: 0.7514 - val_loss: 0.5328 - val_accuracy: 0.7174\n",
            "Epoch 28/100\n",
            "1334/1334 [==============================] - 11s 8ms/step - loss: 0.4683 - accuracy: 0.7560 - val_loss: 0.5374 - val_accuracy: 0.7211\n",
            "Epoch 29/100\n",
            "1334/1334 [==============================] - 11s 8ms/step - loss: 0.4690 - accuracy: 0.7531 - val_loss: 0.5342 - val_accuracy: 0.7189\n",
            "Epoch 30/100\n",
            "1334/1334 [==============================] - 11s 8ms/step - loss: 0.4758 - accuracy: 0.7510 - val_loss: 0.5460 - val_accuracy: 0.7184\n",
            "Epoch 31/100\n",
            "1334/1334 [==============================] - 11s 8ms/step - loss: 0.4679 - accuracy: 0.7544 - val_loss: 0.5406 - val_accuracy: 0.7142\n",
            "Epoch 32/100\n",
            "1334/1334 [==============================] - 11s 8ms/step - loss: 0.4582 - accuracy: 0.7606 - val_loss: 0.5367 - val_accuracy: 0.7164\n",
            "Epoch 33/100\n",
            "1334/1334 [==============================] - 11s 8ms/step - loss: 0.4551 - accuracy: 0.7605 - val_loss: 0.5754 - val_accuracy: 0.7159\n",
            "Epoch 34/100\n",
            "1334/1334 [==============================] - 11s 8ms/step - loss: 0.4549 - accuracy: 0.7573 - val_loss: 0.5525 - val_accuracy: 0.7159\n",
            "Epoch 35/100\n",
            "1334/1334 [==============================] - 11s 8ms/step - loss: 0.4482 - accuracy: 0.7662 - val_loss: 0.5465 - val_accuracy: 0.7135\n",
            "Epoch 36/100\n",
            "1334/1334 [==============================] - 11s 8ms/step - loss: 0.4473 - accuracy: 0.7662 - val_loss: 0.5551 - val_accuracy: 0.7126\n",
            "Epoch 37/100\n",
            "1334/1334 [==============================] - 11s 8ms/step - loss: 0.4520 - accuracy: 0.7641 - val_loss: 0.5558 - val_accuracy: 0.7150\n",
            "Epoch 38/100\n",
            "1334/1334 [==============================] - 11s 8ms/step - loss: 0.4426 - accuracy: 0.7706 - val_loss: 0.5792 - val_accuracy: 0.7156\n",
            "Epoch 39/100\n",
            "1334/1334 [==============================] - 11s 8ms/step - loss: 0.4389 - accuracy: 0.7689 - val_loss: 0.5691 - val_accuracy: 0.7150\n",
            "Epoch 40/100\n",
            "1334/1334 [==============================] - 11s 8ms/step - loss: 0.4315 - accuracy: 0.7719 - val_loss: 0.5479 - val_accuracy: 0.7125\n",
            "Epoch 41/100\n",
            "1334/1334 [==============================] - 11s 8ms/step - loss: 0.4306 - accuracy: 0.7772 - val_loss: 0.5590 - val_accuracy: 0.7139\n",
            "Epoch 42/100\n",
            "1334/1334 [==============================] - 11s 8ms/step - loss: 0.4288 - accuracy: 0.7771 - val_loss: 0.5781 - val_accuracy: 0.7132\n",
            "Epoch 43/100\n",
            "1334/1334 [==============================] - 11s 8ms/step - loss: 0.4282 - accuracy: 0.7759 - val_loss: 0.6070 - val_accuracy: 0.7129\n",
            "Epoch 44/100\n",
            "1334/1334 [==============================] - 11s 8ms/step - loss: 0.4364 - accuracy: 0.7733 - val_loss: 0.5765 - val_accuracy: 0.7086\n",
            "Epoch 45/100\n",
            "1334/1334 [==============================] - 11s 8ms/step - loss: 0.4224 - accuracy: 0.7782 - val_loss: 0.6032 - val_accuracy: 0.7129\n",
            "Epoch 46/100\n",
            "1334/1334 [==============================] - 11s 8ms/step - loss: 0.4219 - accuracy: 0.7795 - val_loss: 0.5893 - val_accuracy: 0.7088\n",
            "Epoch 47/100\n",
            "1334/1334 [==============================] - 11s 8ms/step - loss: 0.4158 - accuracy: 0.7815 - val_loss: 0.5929 - val_accuracy: 0.7113\n",
            "Epoch 48/100\n",
            "1334/1334 [==============================] - 11s 8ms/step - loss: 0.4190 - accuracy: 0.7810 - val_loss: 0.6086 - val_accuracy: 0.7093\n",
            "Epoch 49/100\n",
            "1334/1334 [==============================] - 11s 8ms/step - loss: 0.4115 - accuracy: 0.7845 - val_loss: 0.6041 - val_accuracy: 0.7066\n",
            "Epoch 50/100\n",
            "1334/1334 [==============================] - 11s 8ms/step - loss: 0.4036 - accuracy: 0.7894 - val_loss: 0.5951 - val_accuracy: 0.7102\n",
            "Epoch 51/100\n",
            "1334/1334 [==============================] - 11s 8ms/step - loss: 0.4148 - accuracy: 0.7816 - val_loss: 0.6395 - val_accuracy: 0.7124\n",
            "Epoch 52/100\n",
            "1334/1334 [==============================] - 11s 8ms/step - loss: 0.4004 - accuracy: 0.7914 - val_loss: 0.6145 - val_accuracy: 0.7076\n",
            "Epoch 53/100\n",
            "1334/1334 [==============================] - 11s 8ms/step - loss: 0.4017 - accuracy: 0.7897 - val_loss: 0.6309 - val_accuracy: 0.7129\n",
            "Epoch 54/100\n",
            "1334/1334 [==============================] - 11s 8ms/step - loss: 0.4030 - accuracy: 0.7875 - val_loss: 0.6389 - val_accuracy: 0.7028\n",
            "Epoch 55/100\n",
            "1334/1334 [==============================] - 11s 8ms/step - loss: 0.3985 - accuracy: 0.7914 - val_loss: 0.6370 - val_accuracy: 0.7089\n",
            "Epoch 56/100\n",
            "1334/1334 [==============================] - 11s 8ms/step - loss: 0.3910 - accuracy: 0.7941 - val_loss: 0.6704 - val_accuracy: 0.7038\n",
            "Epoch 57/100\n",
            "1334/1334 [==============================] - 11s 8ms/step - loss: 0.3948 - accuracy: 0.7935 - val_loss: 0.6397 - val_accuracy: 0.7059\n",
            "Epoch 58/100\n",
            "1334/1334 [==============================] - 11s 8ms/step - loss: 0.3922 - accuracy: 0.7961 - val_loss: 0.6571 - val_accuracy: 0.7069\n",
            "Epoch 59/100\n",
            "1334/1334 [==============================] - 11s 8ms/step - loss: 0.4007 - accuracy: 0.7913 - val_loss: 0.6839 - val_accuracy: 0.7060\n",
            "Epoch 60/100\n",
            "1334/1334 [==============================] - 11s 8ms/step - loss: 0.3831 - accuracy: 0.8007 - val_loss: 0.6829 - val_accuracy: 0.6992\n",
            "Epoch 61/100\n",
            "1334/1334 [==============================] - 11s 8ms/step - loss: 0.3822 - accuracy: 0.8014 - val_loss: 0.6431 - val_accuracy: 0.7071\n",
            "Epoch 62/100\n",
            "1334/1334 [==============================] - 11s 8ms/step - loss: 0.3794 - accuracy: 0.8021 - val_loss: 0.6571 - val_accuracy: 0.7033\n",
            "Epoch 63/100\n",
            "1334/1334 [==============================] - 11s 8ms/step - loss: 0.3756 - accuracy: 0.8016 - val_loss: 0.6980 - val_accuracy: 0.7023\n",
            "Epoch 64/100\n",
            "1334/1334 [==============================] - 11s 8ms/step - loss: 0.3814 - accuracy: 0.7975 - val_loss: 0.6956 - val_accuracy: 0.6997\n",
            "Epoch 65/100\n",
            "1334/1334 [==============================] - 11s 8ms/step - loss: 0.3864 - accuracy: 0.7984 - val_loss: 0.7125 - val_accuracy: 0.7033\n",
            "Epoch 66/100\n",
            "1334/1334 [==============================] - 11s 8ms/step - loss: 0.3691 - accuracy: 0.8083 - val_loss: 0.7337 - val_accuracy: 0.6956\n",
            "Epoch 67/100\n",
            "1334/1334 [==============================] - 11s 8ms/step - loss: 0.3703 - accuracy: 0.8057 - val_loss: 0.6721 - val_accuracy: 0.7005\n",
            "Epoch 68/100\n",
            "1334/1334 [==============================] - 11s 8ms/step - loss: 0.3677 - accuracy: 0.8074 - val_loss: 0.6611 - val_accuracy: 0.7041\n",
            "Epoch 69/100\n",
            "1334/1334 [==============================] - 11s 8ms/step - loss: 0.3777 - accuracy: 0.8048 - val_loss: 0.6852 - val_accuracy: 0.7060\n",
            "Epoch 70/100\n",
            "1334/1334 [==============================] - 11s 8ms/step - loss: 0.3686 - accuracy: 0.8042 - val_loss: 0.7163 - val_accuracy: 0.6996\n",
            "Epoch 71/100\n",
            "1334/1334 [==============================] - 11s 9ms/step - loss: 0.3629 - accuracy: 0.8113 - val_loss: 0.7105 - val_accuracy: 0.6987\n",
            "Epoch 72/100\n",
            "1334/1334 [==============================] - 11s 8ms/step - loss: 0.3716 - accuracy: 0.8057 - val_loss: 0.7806 - val_accuracy: 0.7001\n",
            "Epoch 73/100\n",
            "1334/1334 [==============================] - 11s 8ms/step - loss: 0.3583 - accuracy: 0.8130 - val_loss: 0.7527 - val_accuracy: 0.6994\n",
            "Epoch 74/100\n",
            "1334/1334 [==============================] - 11s 8ms/step - loss: 0.3584 - accuracy: 0.8140 - val_loss: 0.7779 - val_accuracy: 0.6985\n",
            "Epoch 75/100\n",
            "1334/1334 [==============================] - 11s 8ms/step - loss: 0.3578 - accuracy: 0.8132 - val_loss: 0.7592 - val_accuracy: 0.6990\n",
            "Epoch 76/100\n",
            "1334/1334 [==============================] - 11s 8ms/step - loss: 0.3562 - accuracy: 0.8136 - val_loss: 0.7421 - val_accuracy: 0.7018\n",
            "Epoch 77/100\n",
            "1334/1334 [==============================] - 11s 8ms/step - loss: 0.3545 - accuracy: 0.8171 - val_loss: 0.7903 - val_accuracy: 0.6984\n",
            "Epoch 78/100\n",
            "1334/1334 [==============================] - 11s 8ms/step - loss: 0.3417 - accuracy: 0.8219 - val_loss: 0.7690 - val_accuracy: 0.6993\n",
            "Epoch 79/100\n",
            "1334/1334 [==============================] - 11s 8ms/step - loss: 0.3470 - accuracy: 0.8191 - val_loss: 0.7941 - val_accuracy: 0.6999\n",
            "Epoch 80/100\n",
            "1334/1334 [==============================] - 11s 8ms/step - loss: 0.3493 - accuracy: 0.8169 - val_loss: 0.7744 - val_accuracy: 0.7016\n",
            "Epoch 81/100\n",
            "1334/1334 [==============================] - 11s 8ms/step - loss: 0.3497 - accuracy: 0.8188 - val_loss: 0.7746 - val_accuracy: 0.6980\n",
            "Epoch 82/100\n",
            "1334/1334 [==============================] - 11s 8ms/step - loss: 0.3504 - accuracy: 0.8170 - val_loss: 0.7570 - val_accuracy: 0.6940\n",
            "Epoch 83/100\n",
            "1334/1334 [==============================] - 11s 8ms/step - loss: 0.3428 - accuracy: 0.8225 - val_loss: 0.7911 - val_accuracy: 0.6946\n",
            "Epoch 84/100\n",
            "1334/1334 [==============================] - 11s 9ms/step - loss: 0.3407 - accuracy: 0.8236 - val_loss: 0.8276 - val_accuracy: 0.6950\n",
            "Epoch 85/100\n",
            "1334/1334 [==============================] - 11s 9ms/step - loss: 0.3345 - accuracy: 0.8250 - val_loss: 0.8314 - val_accuracy: 0.6966\n",
            "Epoch 86/100\n",
            "1334/1334 [==============================] - 11s 9ms/step - loss: 0.3400 - accuracy: 0.8247 - val_loss: 0.7932 - val_accuracy: 0.6994\n",
            "Epoch 87/100\n",
            "1334/1334 [==============================] - 11s 9ms/step - loss: 0.3336 - accuracy: 0.8272 - val_loss: 0.7947 - val_accuracy: 0.6939\n",
            "Epoch 88/100\n",
            "1334/1334 [==============================] - 11s 9ms/step - loss: 0.3270 - accuracy: 0.8321 - val_loss: 0.8077 - val_accuracy: 0.6936\n",
            "Epoch 89/100\n",
            "1334/1334 [==============================] - 12s 9ms/step - loss: 0.3393 - accuracy: 0.8214 - val_loss: 0.7815 - val_accuracy: 0.6977\n",
            "Epoch 90/100\n",
            "1334/1334 [==============================] - 11s 9ms/step - loss: 0.3314 - accuracy: 0.8290 - val_loss: 0.7893 - val_accuracy: 0.6951\n",
            "Epoch 91/100\n",
            "1334/1334 [==============================] - 11s 9ms/step - loss: 0.3275 - accuracy: 0.8325 - val_loss: 0.8414 - val_accuracy: 0.6984\n",
            "Epoch 92/100\n",
            "1334/1334 [==============================] - 11s 9ms/step - loss: 0.3232 - accuracy: 0.8347 - val_loss: 0.7933 - val_accuracy: 0.6978\n",
            "Epoch 93/100\n",
            "1334/1334 [==============================] - 11s 9ms/step - loss: 0.3411 - accuracy: 0.8226 - val_loss: 0.6406 - val_accuracy: 0.6950\n",
            "Epoch 94/100\n",
            "1334/1334 [==============================] - 11s 9ms/step - loss: 0.4027 - accuracy: 0.7981 - val_loss: 0.7829 - val_accuracy: 0.6930\n",
            "Epoch 95/100\n",
            "1334/1334 [==============================] - 11s 9ms/step - loss: 0.3269 - accuracy: 0.8294 - val_loss: 0.8304 - val_accuracy: 0.6933\n",
            "Epoch 96/100\n",
            "1334/1334 [==============================] - 11s 9ms/step - loss: 0.3198 - accuracy: 0.8336 - val_loss: 0.8253 - val_accuracy: 0.6959\n",
            "Epoch 97/100\n",
            "1334/1334 [==============================] - 12s 9ms/step - loss: 0.3177 - accuracy: 0.8346 - val_loss: 0.8039 - val_accuracy: 0.6973\n",
            "Epoch 98/100\n",
            "1334/1334 [==============================] - 12s 9ms/step - loss: 0.3243 - accuracy: 0.8343 - val_loss: 0.8198 - val_accuracy: 0.6902\n",
            "Epoch 99/100\n",
            "1334/1334 [==============================] - 11s 9ms/step - loss: 0.3193 - accuracy: 0.8322 - val_loss: 0.8931 - val_accuracy: 0.7012\n",
            "Epoch 100/100\n",
            "1334/1334 [==============================] - 11s 9ms/step - loss: 0.3129 - accuracy: 0.8365 - val_loss: 0.8128 - val_accuracy: 0.6970\n",
            "Fold 2, 100 epochs, 1164 sec\n"
          ],
          "name": "stdout"
        },
        {
          "output_type": "display_data",
          "data": {
            "image/png": "[encoded data removed]",
            "text/plain": [
              "<Figure size 576x360 with 1 Axes>"
            ]
          },
          "metadata": {
            "tags": [],
            "needs_background": "light"
          }
        },
        {
          "output_type": "stream",
          "text": [
            "MODEL\n",
            "make_DNN\n",
            "input shape: (100, 4)\n",
            "FIT\n",
            "Epoch 1/100\n",
            "1334/1334 [==============================] - 16s 9ms/step - loss: 0.7060 - accuracy: 0.5264 - val_loss: 0.6442 - val_accuracy: 0.6190\n",
            "Epoch 2/100\n",
            "1334/1334 [==============================] - 11s 8ms/step - loss: 0.6279 - accuracy: 0.6433 - val_loss: 0.6294 - val_accuracy: 0.6451\n",
            "Epoch 3/100\n",
            "1334/1334 [==============================] - 11s 9ms/step - loss: 0.5865 - accuracy: 0.6836 - val_loss: 0.5485 - val_accuracy: 0.7073\n",
            "Epoch 4/100\n",
            "1334/1334 [==============================] - 11s 9ms/step - loss: 0.5516 - accuracy: 0.7027 - val_loss: 0.5367 - val_accuracy: 0.7119\n",
            "Epoch 5/100\n",
            "1334/1334 [==============================] - 11s 9ms/step - loss: 0.5392 - accuracy: 0.7101 - val_loss: 0.5392 - val_accuracy: 0.7135\n",
            "Epoch 6/100\n",
            "1334/1334 [==============================] - 11s 9ms/step - loss: 0.5323 - accuracy: 0.7146 - val_loss: 0.5274 - val_accuracy: 0.7190\n",
            "Epoch 7/100\n",
            "1334/1334 [==============================] - 11s 9ms/step - loss: 0.5272 - accuracy: 0.7220 - val_loss: 0.5256 - val_accuracy: 0.7239\n",
            "Epoch 8/100\n",
            "1334/1334 [==============================] - 11s 9ms/step - loss: 0.5204 - accuracy: 0.7260 - val_loss: 0.5237 - val_accuracy: 0.7251\n"
          ],
          "name": "stdout"
        },
        {
          "output_type": "stream",
          "text": [
            "WARNING:absl:Found untraced functions such as lstm_cell_6_layer_call_and_return_conditional_losses, lstm_cell_6_layer_call_fn, lstm_cell_7_layer_call_and_return_conditional_losses, lstm_cell_7_layer_call_fn, lstm_cell_6_layer_call_fn while saving (showing 5 of 10). These functions will not be directly callable after loading.\n"
          ],
          "name": "stderr"
        },
        {
          "output_type": "stream",
          "text": [
            "INFO:tensorflow:Assets written to: BestModel/assets\n"
          ],
          "name": "stdout"
        },
        {
          "output_type": "stream",
          "text": [
            "INFO:tensorflow:Assets written to: BestModel/assets\n"
          ],
          "name": "stderr"
        },
        {
          "output_type": "stream",
          "text": [
            "Epoch 9/100\n",
            "1334/1334 [==============================] - 11s 9ms/step - loss: 0.5240 - accuracy: 0.7225 - val_loss: 0.5429 - val_accuracy: 0.6952\n",
            "Epoch 10/100\n",
            "1334/1334 [==============================] - 11s 8ms/step - loss: 0.5186 - accuracy: 0.7288 - val_loss: 0.5302 - val_accuracy: 0.7209\n",
            "Epoch 11/100\n",
            "1334/1334 [==============================] - 11s 9ms/step - loss: 0.5481 - accuracy: 0.7071 - val_loss: 0.5305 - val_accuracy: 0.7238\n",
            "Epoch 12/100\n",
            "1334/1334 [==============================] - 12s 9ms/step - loss: 0.5136 - accuracy: 0.7242 - val_loss: 0.5209 - val_accuracy: 0.7233\n",
            "Epoch 13/100\n",
            "1334/1334 [==============================] - 11s 9ms/step - loss: 0.5120 - accuracy: 0.7283 - val_loss: 0.5183 - val_accuracy: 0.7243\n",
            "Epoch 14/100\n",
            "1334/1334 [==============================] - 11s 9ms/step - loss: 0.5102 - accuracy: 0.7286 - val_loss: 0.5173 - val_accuracy: 0.7233\n",
            "Epoch 15/100\n",
            "1334/1334 [==============================] - 11s 9ms/step - loss: 0.5048 - accuracy: 0.7330 - val_loss: 0.5333 - val_accuracy: 0.7200\n",
            "Epoch 16/100\n",
            "1334/1334 [==============================] - 11s 8ms/step - loss: 0.5045 - accuracy: 0.7278 - val_loss: 0.5291 - val_accuracy: 0.7140\n",
            "Epoch 17/100\n",
            "1334/1334 [==============================] - 11s 9ms/step - loss: 0.5000 - accuracy: 0.7356 - val_loss: 0.5305 - val_accuracy: 0.7195\n",
            "Epoch 18/100\n",
            "1334/1334 [==============================] - 11s 9ms/step - loss: 0.4979 - accuracy: 0.7379 - val_loss: 0.5355 - val_accuracy: 0.7224\n",
            "Epoch 19/100\n",
            "1334/1334 [==============================] - 11s 9ms/step - loss: 0.5047 - accuracy: 0.7331 - val_loss: 0.5283 - val_accuracy: 0.7192\n",
            "Epoch 20/100\n",
            "1334/1334 [==============================] - 11s 9ms/step - loss: 0.5062 - accuracy: 0.7294 - val_loss: 0.5276 - val_accuracy: 0.7238\n",
            "Epoch 21/100\n",
            "1334/1334 [==============================] - 12s 9ms/step - loss: 0.4915 - accuracy: 0.7377 - val_loss: 0.5406 - val_accuracy: 0.7166\n",
            "Epoch 22/100\n",
            "1334/1334 [==============================] - 12s 9ms/step - loss: 0.4968 - accuracy: 0.7381 - val_loss: 0.5320 - val_accuracy: 0.7208\n",
            "Epoch 23/100\n",
            "1334/1334 [==============================] - 11s 9ms/step - loss: 0.4886 - accuracy: 0.7396 - val_loss: 0.5298 - val_accuracy: 0.7237\n",
            "Epoch 24/100\n",
            "1334/1334 [==============================] - 11s 9ms/step - loss: 0.4821 - accuracy: 0.7463 - val_loss: 0.5325 - val_accuracy: 0.7164\n",
            "Epoch 25/100\n",
            "1334/1334 [==============================] - 11s 9ms/step - loss: 0.4865 - accuracy: 0.7400 - val_loss: 0.5293 - val_accuracy: 0.7212\n",
            "Epoch 26/100\n",
            "1334/1334 [==============================] - 11s 9ms/step - loss: 0.4801 - accuracy: 0.7443 - val_loss: 0.5349 - val_accuracy: 0.7188\n",
            "Epoch 27/100\n",
            "1334/1334 [==============================] - 11s 9ms/step - loss: 0.4952 - accuracy: 0.7386 - val_loss: 0.5344 - val_accuracy: 0.7204\n",
            "Epoch 28/100\n",
            "1334/1334 [==============================] - 11s 9ms/step - loss: 0.4758 - accuracy: 0.7486 - val_loss: 0.5583 - val_accuracy: 0.7173\n",
            "Epoch 29/100\n",
            "1334/1334 [==============================] - 12s 9ms/step - loss: 0.4810 - accuracy: 0.7490 - val_loss: 0.5431 - val_accuracy: 0.7170\n",
            "Epoch 30/100\n",
            "1334/1334 [==============================] - 11s 9ms/step - loss: 0.4753 - accuracy: 0.7501 - val_loss: 0.5583 - val_accuracy: 0.7160\n",
            "Epoch 31/100\n",
            "1334/1334 [==============================] - 11s 9ms/step - loss: 0.4726 - accuracy: 0.7525 - val_loss: 0.5553 - val_accuracy: 0.7110\n",
            "Epoch 32/100\n",
            "1334/1334 [==============================] - 11s 9ms/step - loss: 0.4920 - accuracy: 0.7415 - val_loss: 0.5398 - val_accuracy: 0.7144\n",
            "Epoch 33/100\n",
            "1334/1334 [==============================] - 11s 9ms/step - loss: 0.4808 - accuracy: 0.7485 - val_loss: 0.5642 - val_accuracy: 0.7105\n",
            "Epoch 34/100\n",
            "1334/1334 [==============================] - 11s 9ms/step - loss: 0.4698 - accuracy: 0.7508 - val_loss: 0.5421 - val_accuracy: 0.7123\n",
            "Epoch 35/100\n",
            "1334/1334 [==============================] - 12s 9ms/step - loss: 0.4793 - accuracy: 0.7499 - val_loss: 0.5494 - val_accuracy: 0.7159\n",
            "Epoch 36/100\n",
            "1334/1334 [==============================] - 11s 9ms/step - loss: 0.4636 - accuracy: 0.7569 - val_loss: 0.5472 - val_accuracy: 0.7145\n",
            "Epoch 37/100\n",
            "1334/1334 [==============================] - 12s 9ms/step - loss: 0.4601 - accuracy: 0.7581 - val_loss: 0.5634 - val_accuracy: 0.7151\n",
            "Epoch 38/100\n",
            "1334/1334 [==============================] - 12s 9ms/step - loss: 0.4568 - accuracy: 0.7642 - val_loss: 0.5756 - val_accuracy: 0.7103\n",
            "Epoch 39/100\n",
            "1334/1334 [==============================] - 12s 9ms/step - loss: 0.4591 - accuracy: 0.7589 - val_loss: 0.5628 - val_accuracy: 0.7147\n",
            "Epoch 40/100\n",
            "1334/1334 [==============================] - 11s 9ms/step - loss: 0.4553 - accuracy: 0.7639 - val_loss: 0.5711 - val_accuracy: 0.7123\n",
            "Epoch 41/100\n",
            "1334/1334 [==============================] - 12s 9ms/step - loss: 0.4584 - accuracy: 0.7572 - val_loss: 0.5487 - val_accuracy: 0.7066\n",
            "Epoch 42/100\n",
            "1334/1334 [==============================] - 11s 9ms/step - loss: 0.4486 - accuracy: 0.7674 - val_loss: 0.5678 - val_accuracy: 0.7104\n",
            "Epoch 43/100\n",
            "1334/1334 [==============================] - 12s 9ms/step - loss: 0.4477 - accuracy: 0.7640 - val_loss: 0.5776 - val_accuracy: 0.7118\n",
            "Epoch 44/100\n",
            "1334/1334 [==============================] - 12s 9ms/step - loss: 0.4733 - accuracy: 0.7520 - val_loss: 0.5711 - val_accuracy: 0.7113\n",
            "Epoch 45/100\n",
            "1334/1334 [==============================] - 12s 9ms/step - loss: 0.4431 - accuracy: 0.7681 - val_loss: 0.5797 - val_accuracy: 0.7060\n",
            "Epoch 46/100\n",
            "1334/1334 [==============================] - 12s 9ms/step - loss: 0.4449 - accuracy: 0.7626 - val_loss: 0.5925 - val_accuracy: 0.7092\n",
            "Epoch 47/100\n",
            "1334/1334 [==============================] - 12s 9ms/step - loss: 0.4535 - accuracy: 0.7587 - val_loss: 0.5652 - val_accuracy: 0.7126\n",
            "Epoch 48/100\n",
            "1334/1334 [==============================] - 12s 9ms/step - loss: 0.4335 - accuracy: 0.7712 - val_loss: 0.5781 - val_accuracy: 0.7093\n",
            "Epoch 49/100\n",
            "1334/1334 [==============================] - 12s 9ms/step - loss: 0.4369 - accuracy: 0.7733 - val_loss: 0.6018 - val_accuracy: 0.7045\n",
            "Epoch 50/100\n",
            "1334/1334 [==============================] - 12s 9ms/step - loss: 0.4383 - accuracy: 0.7698 - val_loss: 0.5991 - val_accuracy: 0.7084\n",
            "Epoch 51/100\n",
            "1334/1334 [==============================] - 12s 9ms/step - loss: 0.4441 - accuracy: 0.7673 - val_loss: 0.5690 - val_accuracy: 0.7064\n",
            "Epoch 52/100\n",
            "1334/1334 [==============================] - 12s 9ms/step - loss: 0.4339 - accuracy: 0.7727 - val_loss: 0.5939 - val_accuracy: 0.7064\n",
            "Epoch 53/100\n",
            "1334/1334 [==============================] - 12s 9ms/step - loss: 0.4339 - accuracy: 0.7728 - val_loss: 0.6048 - val_accuracy: 0.7120\n",
            "Epoch 54/100\n",
            "1334/1334 [==============================] - 12s 9ms/step - loss: 0.4223 - accuracy: 0.7775 - val_loss: 0.6003 - val_accuracy: 0.7099\n",
            "Epoch 55/100\n",
            "1334/1334 [==============================] - 12s 9ms/step - loss: 0.4262 - accuracy: 0.7798 - val_loss: 0.6181 - val_accuracy: 0.7073\n",
            "Epoch 56/100\n",
            "1334/1334 [==============================] - 12s 9ms/step - loss: 0.4229 - accuracy: 0.7797 - val_loss: 0.6309 - val_accuracy: 0.6994\n",
            "Epoch 57/100\n",
            "1334/1334 [==============================] - 12s 9ms/step - loss: 0.4216 - accuracy: 0.7807 - val_loss: 1.1650 - val_accuracy: 0.6696\n",
            "Epoch 58/100\n",
            "1334/1334 [==============================] - 12s 9ms/step - loss: 0.4517 - accuracy: 0.7693 - val_loss: 0.6320 - val_accuracy: 0.6745\n",
            "Epoch 59/100\n",
            "1334/1334 [==============================] - 11s 9ms/step - loss: 0.4665 - accuracy: 0.7549 - val_loss: 0.6414 - val_accuracy: 0.7068\n",
            "Epoch 60/100\n",
            "1334/1334 [==============================] - 12s 9ms/step - loss: 0.4612 - accuracy: 0.7605 - val_loss: 0.5740 - val_accuracy: 0.6994\n",
            "Epoch 61/100\n",
            "1334/1334 [==============================] - 12s 9ms/step - loss: 0.4814 - accuracy: 0.7488 - val_loss: 0.5755 - val_accuracy: 0.7110\n",
            "Epoch 62/100\n",
            "1334/1334 [==============================] - 11s 9ms/step - loss: 0.4681 - accuracy: 0.7533 - val_loss: 0.5840 - val_accuracy: 0.7040\n",
            "Epoch 63/100\n",
            "1334/1334 [==============================] - 12s 9ms/step - loss: 0.4380 - accuracy: 0.7682 - val_loss: 0.6055 - val_accuracy: 0.7065\n",
            "Epoch 64/100\n",
            "1334/1334 [==============================] - 12s 9ms/step - loss: 0.4182 - accuracy: 0.7836 - val_loss: 0.6206 - val_accuracy: 0.7105\n",
            "Epoch 65/100\n",
            "1334/1334 [==============================] - 12s 9ms/step - loss: 0.4086 - accuracy: 0.7850 - val_loss: 0.6174 - val_accuracy: 0.7018\n",
            "Epoch 66/100\n",
            "1334/1334 [==============================] - 12s 9ms/step - loss: 0.3996 - accuracy: 0.7871 - val_loss: 0.6422 - val_accuracy: 0.7037\n",
            "Epoch 67/100\n",
            "1334/1334 [==============================] - 12s 9ms/step - loss: 0.4040 - accuracy: 0.7857 - val_loss: 0.6556 - val_accuracy: 0.6977\n",
            "Epoch 68/100\n",
            "1334/1334 [==============================] - 12s 9ms/step - loss: 0.4231 - accuracy: 0.7794 - val_loss: 0.6140 - val_accuracy: 0.7068\n",
            "Epoch 69/100\n",
            "1334/1334 [==============================] - 11s 9ms/step - loss: 0.4121 - accuracy: 0.7821 - val_loss: 0.6342 - val_accuracy: 0.6555\n",
            "Epoch 70/100\n",
            "1334/1334 [==============================] - 12s 9ms/step - loss: 0.4626 - accuracy: 0.7625 - val_loss: 0.6220 - val_accuracy: 0.7032\n",
            "Epoch 71/100\n",
            "1334/1334 [==============================] - 12s 9ms/step - loss: 0.3999 - accuracy: 0.7889 - val_loss: 0.6882 - val_accuracy: 0.7005\n",
            "Epoch 72/100\n",
            "1334/1334 [==============================] - 12s 9ms/step - loss: 0.4014 - accuracy: 0.7869 - val_loss: 0.6367 - val_accuracy: 0.7050\n",
            "Epoch 73/100\n",
            "1334/1334 [==============================] - 12s 9ms/step - loss: 0.3977 - accuracy: 0.7906 - val_loss: 0.6836 - val_accuracy: 0.7024\n",
            "Epoch 74/100\n",
            "1334/1334 [==============================] - 12s 9ms/step - loss: 0.3975 - accuracy: 0.7911 - val_loss: 0.6654 - val_accuracy: 0.7027\n",
            "Epoch 75/100\n",
            "1334/1334 [==============================] - 12s 9ms/step - loss: 0.3911 - accuracy: 0.7903 - val_loss: 0.6916 - val_accuracy: 0.6977\n",
            "Epoch 76/100\n",
            "1334/1334 [==============================] - 12s 9ms/step - loss: 0.3880 - accuracy: 0.7935 - val_loss: 0.6697 - val_accuracy: 0.7029\n",
            "Epoch 77/100\n",
            "1334/1334 [==============================] - 12s 9ms/step - loss: 0.3889 - accuracy: 0.7895 - val_loss: 0.7032 - val_accuracy: 0.6959\n",
            "Epoch 78/100\n",
            "1334/1334 [==============================] - 12s 9ms/step - loss: 0.3855 - accuracy: 0.7944 - val_loss: 0.6645 - val_accuracy: 0.7014\n",
            "Epoch 79/100\n",
            "1334/1334 [==============================] - 12s 9ms/step - loss: 0.3852 - accuracy: 0.7969 - val_loss: 0.6853 - val_accuracy: 0.7010\n",
            "Epoch 80/100\n",
            "1334/1334 [==============================] - 12s 9ms/step - loss: 0.3813 - accuracy: 0.7956 - val_loss: 0.6665 - val_accuracy: 0.7019\n",
            "Epoch 81/100\n",
            "1334/1334 [==============================] - 12s 9ms/step - loss: 0.3803 - accuracy: 0.7974 - val_loss: 0.6869 - val_accuracy: 0.6966\n",
            "Epoch 82/100\n",
            "1334/1334 [==============================] - 12s 9ms/step - loss: 0.3801 - accuracy: 0.8007 - val_loss: 0.7283 - val_accuracy: 0.7010\n",
            "Epoch 83/100\n",
            "1334/1334 [==============================] - 12s 9ms/step - loss: 0.3800 - accuracy: 0.7983 - val_loss: 0.7034 - val_accuracy: 0.6956\n",
            "Epoch 84/100\n",
            "1334/1334 [==============================] - 12s 9ms/step - loss: 0.3769 - accuracy: 0.7998 - val_loss: 0.6698 - val_accuracy: 0.6989\n",
            "Epoch 85/100\n",
            "1334/1334 [==============================] - 12s 9ms/step - loss: 0.3703 - accuracy: 0.8027 - val_loss: 0.7003 - val_accuracy: 0.6963\n",
            "Epoch 86/100\n",
            "1334/1334 [==============================] - 12s 9ms/step - loss: 0.3773 - accuracy: 0.8001 - val_loss: 0.7517 - val_accuracy: 0.6983\n",
            "Epoch 87/100\n",
            "1334/1334 [==============================] - 12s 9ms/step - loss: 0.3956 - accuracy: 0.7921 - val_loss: 0.6836 - val_accuracy: 0.6985\n",
            "Epoch 88/100\n",
            "1334/1334 [==============================] - 12s 9ms/step - loss: 0.3664 - accuracy: 0.8027 - val_loss: 0.7286 - val_accuracy: 0.6958\n",
            "Epoch 89/100\n",
            "1334/1334 [==============================] - 12s 9ms/step - loss: 0.3627 - accuracy: 0.8075 - val_loss: 0.7479 - val_accuracy: 0.6992\n",
            "Epoch 90/100\n",
            "1334/1334 [==============================] - 12s 9ms/step - loss: 0.3895 - accuracy: 0.7983 - val_loss: 0.7215 - val_accuracy: 0.6952\n",
            "Epoch 91/100\n",
            "1334/1334 [==============================] - 12s 9ms/step - loss: 0.3631 - accuracy: 0.8051 - val_loss: 0.7565 - val_accuracy: 0.6967\n",
            "Epoch 92/100\n",
            "1334/1334 [==============================] - 12s 9ms/step - loss: 0.3613 - accuracy: 0.8066 - val_loss: 0.7688 - val_accuracy: 0.6950\n",
            "Epoch 93/100\n",
            "1334/1334 [==============================] - 12s 9ms/step - loss: 0.3637 - accuracy: 0.8062 - val_loss: 0.7547 - val_accuracy: 0.6984\n",
            "Epoch 94/100\n",
            "1334/1334 [==============================] - 12s 9ms/step - loss: 0.3554 - accuracy: 0.8074 - val_loss: 0.7690 - val_accuracy: 0.6953\n",
            "Epoch 95/100\n",
            "1334/1334 [==============================] - 12s 9ms/step - loss: 0.3563 - accuracy: 0.8101 - val_loss: 0.7299 - val_accuracy: 0.6970\n",
            "Epoch 96/100\n",
            "1334/1334 [==============================] - 12s 9ms/step - loss: 0.3526 - accuracy: 0.8106 - val_loss: 0.7566 - val_accuracy: 0.6988\n",
            "Epoch 97/100\n",
            "1334/1334 [==============================] - 12s 9ms/step - loss: 0.3542 - accuracy: 0.8100 - val_loss: 0.7631 - val_accuracy: 0.6994\n",
            "Epoch 98/100\n",
            "1334/1334 [==============================] - 12s 9ms/step - loss: 0.3590 - accuracy: 0.8062 - val_loss: 0.7888 - val_accuracy: 0.6982\n",
            "Epoch 99/100\n",
            "1334/1334 [==============================] - 12s 9ms/step - loss: 0.3538 - accuracy: 0.8132 - val_loss: 0.7553 - val_accuracy: 0.6938\n",
            "Epoch 100/100\n",
            "1334/1334 [==============================] - 12s 9ms/step - loss: 0.3503 - accuracy: 0.8134 - val_loss: 0.8055 - val_accuracy: 0.6962\n",
            "Fold 3, 100 epochs, 1225 sec\n"
          ],
          "name": "stdout"
        },
        {
          "output_type": "display_data",
          "data": {
            "image/png": "[encoded data removed]",
            "text/plain": [
              "<Figure size 576x360 with 1 Axes>"
            ]
          },
          "metadata": {
            "tags": [],
            "needs_background": "light"
          }
        }
      ]
    },
    {
      "cell_type": "code",
      "metadata": {
        "id": "e-jG1h5fj2Ua",
        "colab": {
          "base_uri": "https://localhost:8080/"
        },
        "outputId": "70eca54a-0552-4665-9f24-6011ce56d9c8"
      },
      "source": [
        "from keras.models import load_model\n",
        "X,y = prepare_inputs_len_x_alphabet(pc_test,nc_test,ALPHABET)\n",
        "best_model=load_model(MODELPATH)\n",
        "scores = best_model.evaluate(X, y, verbose=0)\n",
        "print(\"The best model parameters were saved during cross-validation.\")\n",
        "print(\"Best was defined as maximum validation accuracy at end of any epoch.\")\n",
        "print(\"Now re-load the best model and test it on previously unseen data.\")\n",
        "print(\"Test on\",len(pc_test),\"PC seqs\")\n",
        "print(\"Test on\",len(nc_test),\"NC seqs\")\n",
        "print(\"%s: %.2f%%\" % (best_model.metrics_names[1], scores[1]*100))\n"
      ],
      "execution_count": 12,
      "outputs": [
        {
          "output_type": "stream",
          "text": [
            "The best model parameters were saved during cross-validation.\n",
            "Best was defined as maximum validation accuracy at end of any epoch.\n",
            "Now re-load the best model and test it on previously unseen data.\n",
            "Test on 1000 PC seqs\n",
            "Test on 1000 NC seqs\n",
            "accuracy: 70.45%\n"
          ],
          "name": "stdout"
        }
      ]
    },
    {
      "cell_type": "code",
      "metadata": {
        "id": "VycUnmvUj2Ue",
        "colab": {
          "base_uri": "https://localhost:8080/",
          "height": 312
        },
        "outputId": "874150c1-dbc9-48f2-a1e2-f1015f19c81a"
      },
      "source": [
        "from sklearn.metrics import roc_curve\n",
        "from sklearn.metrics import roc_auc_score\n",
        "ns_probs = [0 for _ in range(len(y))]\n",
        "bm_probs = best_model.predict(X)\n",
        "ns_auc = roc_auc_score(y, ns_probs)\n",
        "bm_auc = roc_auc_score(y, bm_probs)\n",
        "ns_fpr, ns_tpr, _ = roc_curve(y, ns_probs)\n",
        "bm_fpr, bm_tpr, _ = roc_curve(y, bm_probs)\n",
        "plt.plot(ns_fpr, ns_tpr, linestyle='--', label='Guess, auc=%.4f'%ns_auc)\n",
        "plt.plot(bm_fpr, bm_tpr, marker='.', label='Model, auc=%.4f'%bm_auc)\n",
        "plt.title('ROC')\n",
        "plt.xlabel('False Positive Rate')\n",
        "plt.ylabel('True Positive Rate')\n",
        "plt.legend()\n",
        "plt.show()\n",
        "print(\"%s: %.2f%%\" %('AUC',bm_auc*100.0))\n"
      ],
      "execution_count": 13,
      "outputs": [
        {
          "output_type": "display_data",
          "data": {
            "image/png": "[encoded data removed]",
            "text/plain": [
              "<Figure size 432x288 with 1 Axes>"
            ]
          },
          "metadata": {
            "tags": [],
            "needs_background": "light"
          }
        },
        {
          "output_type": "stream",
          "text": [
            "AUC: 79.02%\n"
          ],
          "name": "stdout"
        }
      ]
    },
    {
      "cell_type": "code",
      "metadata": {
        "id": "kFMb6rGNj2Ug",
        "colab": {
          "base_uri": "https://localhost:8080/",
          "height": 36
        },
        "outputId": "55d10f3c-6193-4490-bcc0-d42aa3fa88c8"
      },
      "source": [
        "t = time.time()\n",
        "time.strftime('%Y-%m-%d %H:%M:%S %Z', time.localtime(t))"
      ],
      "execution_count": 14,
      "outputs": [
        {
          "output_type": "execute_result",
          "data": {
            "application/vnd.google.colaboratory.intrinsic+json": {
              "type": "string"
            },
            "text/plain": [
              "'2021-06-21 13:52:37 UTC'"
            ]
          },
          "metadata": {
            "tags": []
          },
          "execution_count": 14
        }
      ]
    },
    {
      "cell_type": "code",
      "metadata": {
        "id": "e-mEgDrQjUzF"
      },
      "source": [
        ""
      ],
      "execution_count": 14,
      "outputs": []
    }
  ]
}