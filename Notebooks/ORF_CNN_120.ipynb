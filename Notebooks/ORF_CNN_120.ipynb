{
  "nbformat": 4,
  "nbformat_minor": 0,
  "metadata": {
    "accelerator": "GPU",
    "colab": {
      "name": "ORF_CNN_120.ipynb",
      "provenance": [],
      "collapsed_sections": []
    },
    "kernelspec": {
      "display_name": "Python 3",
      "language": "python",
      "name": "python3"
    },
    "language_info": {
      "codemirror_mode": {
        "name": "ipython",
        "version": 3
      },
      "file_extension": ".py",
      "mimetype": "text/x-python",
      "name": "python",
      "nbconvert_exporter": "python",
      "pygments_lexer": "ipython3",
      "version": "3.8.3"
    }
  },
  "cells": [
    {
      "cell_type": "markdown",
      "metadata": {
        "id": "0asdcdunj2Tx"
      },
      "source": [
        "# ORF recognition by CNN\n",
        "\n",
        "Like 119 but without MaxPooling."
      ]
    },
    {
      "cell_type": "code",
      "metadata": {
        "colab": {
          "base_uri": "https://localhost:8080/",
          "height": 36
        },
        "id": "QP1VTRNQj2UO",
        "outputId": "7ddb357a-41e5-41c9-a7f7-939d51973911"
      },
      "source": [
        "import time \n",
        "t = time.time()\n",
        "time.strftime('%Y-%m-%d %H:%M:%S %Z', time.localtime(t))"
      ],
      "execution_count": 1,
      "outputs": [
        {
          "output_type": "execute_result",
          "data": {
            "application/vnd.google.colaboratory.intrinsic+json": {
              "type": "string"
            },
            "text/plain": [
              "'2021-06-11 20:28:01 UTC'"
            ]
          },
          "metadata": {
            "tags": []
          },
          "execution_count": 1
        }
      ]
    },
    {
      "cell_type": "code",
      "metadata": {
        "id": "Nhz4GKonj2T_"
      },
      "source": [
        "PC_SEQUENCES=4000   # how many protein-coding sequences\n",
        "NC_SEQUENCES=4000   # how many non-coding sequences\n",
        "PC_TESTS=1000\n",
        "NC_TESTS=1000\n",
        "RNA_LEN=36            # how long is each sequence\n",
        "CDS_LEN=18            # min CDS len to be coding\n",
        "ALPHABET=4          # how many different letters are possible\n",
        "INPUT_SHAPE_2D = (RNA_LEN,ALPHABET,1) # Conv2D needs 3D inputs\n",
        "INPUT_SHAPE = (RNA_LEN,ALPHABET) # Conv1D needs 2D inputs\n",
        "FILTERS = 16   # how many different patterns the model looks for\n",
        "NEURONS = 16\n",
        "DROP_RATE = 0.4\n",
        "WIDTH = 3   # how wide each pattern is, in bases\n",
        "STRIDE_2D = (1,1)  # For Conv2D how far in each direction\n",
        "STRIDE = 1 # For Conv1D, how far between pattern matches, in bases\n",
        "EPOCHS=25  # how many times to train on all the data\n",
        "SPLITS=5  # SPLITS=3 means train on 2/3 and validate on 1/3 \n",
        "FOLDS=5  # train the model this many times (range 1 to SPLITS)"
      ],
      "execution_count": 2,
      "outputs": []
    },
    {
      "cell_type": "code",
      "metadata": {
        "colab": {
          "base_uri": "https://localhost:8080/"
        },
        "id": "lr7q90rxj2UE",
        "outputId": "8ea2abe1-c470-4429-fe7a-708cebdbe7e9"
      },
      "source": [
        "import sys\n",
        "try:\n",
        "    from google.colab import drive\n",
        "    IN_COLAB = True\n",
        "    print(\"On Google CoLab, mount cloud-local file, get our code from GitHub.\")\n",
        "    PATH='/content/drive/'\n",
        "    #drive.mount(PATH,force_remount=True)  # hardly ever need this\n",
        "    #drive.mount(PATH)    # Google will require login credentials\n",
        "    DATAPATH=PATH+'My Drive/data/'  # must end in \"/\"\n",
        "    import requests\n",
        "    r = requests.get('https://raw.githubusercontent.com/ShepherdCode/Soars2021/master/SimTools/RNA_gen.py')\n",
        "    with open('RNA_gen.py', 'w') as f:\n",
        "        f.write(r.text)  \n",
        "    from RNA_gen import *\n",
        "    r = requests.get('https://raw.githubusercontent.com/ShepherdCode/Soars2021/master/SimTools/RNA_describe.py')\n",
        "    with open('RNA_describe.py', 'w') as f:\n",
        "        f.write(r.text)  \n",
        "    from RNA_describe import ORF_counter\n",
        "    r = requests.get('https://raw.githubusercontent.com/ShepherdCode/Soars2021/master/SimTools/RNA_prep.py')\n",
        "    with open('RNA_prep.py', 'w') as f:\n",
        "        f.write(r.text)  \n",
        "    from RNA_prep import *\n",
        "except:\n",
        "    print(\"CoLab not working. On my PC, use relative paths.\")\n",
        "    IN_COLAB = False\n",
        "    DATAPATH='data/'  # must end in \"/\"\n",
        "    sys.path.append(\"..\") # append parent dir in order to use sibling dirs\n",
        "    from SimTools.RNA_gen import *\n",
        "    from SimTools.RNA_describe import ORF_counter\n",
        "    from SimTools.RNA_prep import *\n",
        "\n",
        "MODELPATH=\"BestModel\"  # saved on cloud instance and lost after logout\n",
        "#MODELPATH=DATAPATH+MODELPATH  # saved on Google Drive but requires login\n",
        "\n",
        "if not assert_imported_RNA_gen():\n",
        "    print(\"ERROR: Cannot use RNA_gen.\")\n",
        "if not assert_imported_RNA_prep():\n",
        "    print(\"ERROR: Cannot use RNA_prep.\")"
      ],
      "execution_count": 3,
      "outputs": [
        {
          "output_type": "stream",
          "text": [
            "On Google CoLab, mount cloud-local file, get our code from GitHub.\n"
          ],
          "name": "stdout"
        }
      ]
    },
    {
      "cell_type": "code",
      "metadata": {
        "id": "EGDXH8Uwj2UM"
      },
      "source": [
        "from os import listdir\n",
        "import csv\n",
        "from zipfile import ZipFile\n",
        "\n",
        "import numpy as np\n",
        "import pandas as pd\n",
        "from scipy import stats  # mode\n",
        "\n",
        "from sklearn.preprocessing import StandardScaler\n",
        "from sklearn.model_selection import KFold\n",
        "from sklearn.model_selection import cross_val_score\n",
        "\n",
        "from keras.models import Sequential\n",
        "from keras.layers import Dense,Embedding,Dropout\n",
        "from keras.layers import Conv1D,Conv2D\n",
        "from keras.layers import Flatten,MaxPooling1D,MaxPooling2D\n",
        "from keras.losses import BinaryCrossentropy\n",
        "# tf.keras.losses.BinaryCrossentropy\n",
        "\n",
        "import matplotlib.pyplot as plt\n",
        "from matplotlib import colors\n",
        "mycmap = colors.ListedColormap(['red','blue'])  # list color for label 0 then 1\n",
        "np.set_printoptions(precision=2)\n"
      ],
      "execution_count": 4,
      "outputs": []
    },
    {
      "cell_type": "code",
      "metadata": {
        "colab": {
          "base_uri": "https://localhost:8080/"
        },
        "id": "CUOG_jEvGtOm",
        "outputId": "4ba40e28-7982-4c0b-ecbc-b1299da9fb26"
      },
      "source": [
        "import random\n",
        "def partition_random_sequences(goal_per_class):\n",
        "    pc_seqs=[]\n",
        "    nc_seqs=[]\n",
        "    oc = ORF_counter()\n",
        "    trials = 0\n",
        "    pc_cnt = 0\n",
        "    nc_cnt = 0\n",
        "    bases=['A','C','G','T']\n",
        "    while pc_cnt<goal_per_class or nc_cnt<goal_per_class:\n",
        "        trials += 1        \n",
        "        between_bases = random.randint(0,RNA_LEN-6) \n",
        "        utr5_bases = (RNA_LEN - (between_bases + 6)) // 2\n",
        "        utr3_bases = RNA_LEN - (utr5_bases + (between_bases+6))\n",
        "        one_seq  = \"\".join(random.choices(bases,k=utr5_bases)) \n",
        "        one_seq += 'ATG'    \n",
        "        one_seq += \"\".join(random.choices(bases,k=between_bases)) \n",
        "        random_stop = random.choice(['TAA','TAG','TGA']) # random frame\n",
        "        one_seq += random_stop\n",
        "        one_seq += \"\".join(random.choices(bases,k=utr3_bases))  \n",
        "        if len(one_seq) != RNA_LEN:\n",
        "            print(\"WRONG LENGTH:\",len(one_seq),utr5_bases,between_bases,utr3_bases)\n",
        "        oc.set_sequence(one_seq)\n",
        "        cds_len = oc.get_max_cds_len() + 3\n",
        "        if cds_len >= CDS_LEN and pc_cnt<goal_per_class:\n",
        "            pc_cnt += 1\n",
        "            pc_seqs.append(one_seq)\n",
        "        elif cds_len < CDS_LEN and nc_cnt<goal_per_class:\n",
        "            nc_cnt += 1\n",
        "            nc_seqs.append(one_seq)\n",
        "    print (\"It took %d trials to reach %d per class.\"%(trials,goal_per_class))\n",
        "    return pc_seqs,nc_seqs\n",
        "pc_all,nc_all=partition_random_sequences(10)  # just testing\n",
        "pc_all,nc_all=partition_random_sequences(PC_SEQUENCES+PC_TESTS)\n",
        "print(\"Use\",len(pc_all),\"PC seqs\")\n",
        "print(\"Use\",len(nc_all),\"NC seqs\")"
      ],
      "execution_count": 5,
      "outputs": [
        {
          "output_type": "stream",
          "text": [
            "It took 30 trials to reach 10 per class.\n",
            "It took 13949 trials to reach 5000 per class.\n",
            "Use 5000 PC seqs\n",
            "Use 5000 NC seqs\n"
          ],
          "name": "stdout"
        }
      ]
    },
    {
      "cell_type": "code",
      "metadata": {
        "colab": {
          "base_uri": "https://localhost:8080/"
        },
        "id": "Q-BmSXi2jUyl",
        "outputId": "dedc7719-ee96-4483-9e9f-2783d8a05578"
      },
      "source": [
        "# Describe the sequences\n",
        "def describe_sequences(list_of_seq):\n",
        "    oc = ORF_counter()\n",
        "    num_seq = len(list_of_seq)\n",
        "    rna_lens = np.zeros(num_seq)\n",
        "    orf_lens = np.zeros(num_seq)\n",
        "    for i in range(0,num_seq):\n",
        "        rna_len = len(list_of_seq[i])\n",
        "        rna_lens[i] = rna_len\n",
        "        oc.set_sequence(list_of_seq[i])\n",
        "        orf_len = oc.get_max_orf_len()\n",
        "        orf_lens[i] = orf_len\n",
        "    print (\"Average RNA length:\",rna_lens.mean())\n",
        "    print (\"Average ORF length:\",orf_lens.mean())\n",
        "    \n",
        "print(\"Simulated sequences prior to adjustment:\")\n",
        "print(\"PC seqs\")\n",
        "describe_sequences(pc_all)\n",
        "print(\"NC seqs\")\n",
        "describe_sequences(nc_all)"
      ],
      "execution_count": 6,
      "outputs": [
        {
          "output_type": "stream",
          "text": [
            "Simulated sequences prior to adjustment:\n",
            "PC seqs\n",
            "Average RNA length: 36.0\n",
            "Average ORF length: 19.9404\n",
            "NC seqs\n",
            "Average RNA length: 36.0\n",
            "Average ORF length: 2.0352\n"
          ],
          "name": "stdout"
        }
      ]
    },
    {
      "cell_type": "code",
      "metadata": {
        "id": "iP1y7-J3jUys"
      },
      "source": [
        "pc_train=pc_all[:PC_SEQUENCES]\n",
        "nc_train=nc_all[:NC_SEQUENCES]\n",
        "pc_test=pc_all[PC_SEQUENCES:]\n",
        "nc_test=nc_all[NC_SEQUENCES:]"
      ],
      "execution_count": 7,
      "outputs": []
    },
    {
      "cell_type": "code",
      "metadata": {
        "colab": {
          "base_uri": "https://localhost:8080/"
        },
        "id": "CIpTrnH6j2US",
        "outputId": "32658c6c-d749-4edf-b991-fa0da87380f4"
      },
      "source": [
        "# Use code from our SimTools library.\n",
        "X,y = prepare_inputs_len_x_alphabet(pc_train,nc_train,ALPHABET) # shuffles\n",
        "print(\"Data ready.\")"
      ],
      "execution_count": 8,
      "outputs": [
        {
          "output_type": "stream",
          "text": [
            "Data ready.\n"
          ],
          "name": "stdout"
        }
      ]
    },
    {
      "cell_type": "code",
      "metadata": {
        "colab": {
          "base_uri": "https://localhost:8080/"
        },
        "id": "7NvrVU8ij2UU",
        "outputId": "c9793b10-c226-4be4-c367-53c497a9617c"
      },
      "source": [
        "def make_DNN():\n",
        "    print(\"make_DNN\")\n",
        "    print(\"input shape:\",INPUT_SHAPE)\n",
        "    dnn = Sequential()\n",
        "    #dnn.add(Embedding(input_dim=INPUT_SHAPE,output_dim=INPUT_SHAPE)) \n",
        "    dnn.add(Conv1D(filters=FILTERS,kernel_size=WIDTH,strides=STRIDE,padding=\"same\",\n",
        "            input_shape=INPUT_SHAPE))\n",
        "    dnn.add(Conv1D(filters=FILTERS,kernel_size=WIDTH,strides=STRIDE,padding=\"same\"))\n",
        "    #dnn.add(MaxPooling1D())\n",
        "    dnn.add(Conv1D(filters=FILTERS,kernel_size=WIDTH,strides=STRIDE,padding=\"same\"))\n",
        "    dnn.add(Conv1D(filters=FILTERS,kernel_size=WIDTH,strides=STRIDE,padding=\"same\"))\n",
        "    #dnn.add(MaxPooling1D())\n",
        "    dnn.add(Flatten())\n",
        "    dnn.add(Dense(NEURONS,activation=\"sigmoid\",dtype=np.float32))   \n",
        "    dnn.add(Dropout(DROP_RATE))\n",
        "    dnn.add(Dense(1,activation=\"sigmoid\",dtype=np.float32))   \n",
        "    dnn.compile(optimizer='adam',\n",
        "                loss=BinaryCrossentropy(from_logits=False),\n",
        "                metrics=['accuracy'])   # add to default metrics=loss\n",
        "    dnn.build(input_shape=INPUT_SHAPE)\n",
        "    #ln_rate = tf.keras.optimizers.Adam(learning_rate = LN_RATE)\n",
        "    #bc=tf.keras.losses.BinaryCrossentropy(from_logits=False)\n",
        "    #model.compile(loss=bc, optimizer=ln_rate, metrics=[\"accuracy\"])\n",
        "    return dnn\n",
        "model = make_DNN()\n",
        "print(model.summary())"
      ],
      "execution_count": 9,
      "outputs": [
        {
          "output_type": "stream",
          "text": [
            "make_DNN\n",
            "input shape: (36, 4)\n",
            "Model: \"sequential\"\n",
            "_________________________________________________________________\n",
            "Layer (type)                 Output Shape              Param #   \n",
            "=================================================================\n",
            "conv1d (Conv1D)              (None, 36, 16)            208       \n",
            "_________________________________________________________________\n",
            "conv1d_1 (Conv1D)            (None, 36, 16)            784       \n",
            "_________________________________________________________________\n",
            "conv1d_2 (Conv1D)            (None, 36, 16)            784       \n",
            "_________________________________________________________________\n",
            "conv1d_3 (Conv1D)            (None, 36, 16)            784       \n",
            "_________________________________________________________________\n",
            "flatten (Flatten)            (None, 576)               0         \n",
            "_________________________________________________________________\n",
            "dense (Dense)                (None, 16)                9232      \n",
            "_________________________________________________________________\n",
            "dropout (Dropout)            (None, 16)                0         \n",
            "_________________________________________________________________\n",
            "dense_1 (Dense)              (None, 1)                 17        \n",
            "=================================================================\n",
            "Total params: 11,809\n",
            "Trainable params: 11,809\n",
            "Non-trainable params: 0\n",
            "_________________________________________________________________\n",
            "None\n"
          ],
          "name": "stdout"
        }
      ]
    },
    {
      "cell_type": "code",
      "metadata": {
        "id": "nlVF0hR3j2UW"
      },
      "source": [
        "from keras.callbacks import ModelCheckpoint\n",
        "def do_cross_validation(X,y):\n",
        "    cv_scores = []\n",
        "    fold=0\n",
        "    mycallbacks = [ModelCheckpoint(\n",
        "        filepath=MODELPATH, save_best_only=True, \n",
        "        monitor='val_accuracy', mode='max')]   \n",
        "    splitter = KFold(n_splits=SPLITS)  # this does not shuffle\n",
        "    for train_index,valid_index in splitter.split(X):\n",
        "        if fold < FOLDS:\n",
        "            fold += 1\n",
        "            X_train=X[train_index] # inputs for training\n",
        "            y_train=y[train_index] # labels for training\n",
        "            X_valid=X[valid_index] # inputs for validation\n",
        "            y_valid=y[valid_index] # labels for validation\n",
        "            print(\"MODEL\")\n",
        "            # Call constructor on each CV. Else, continually improves the same model.\n",
        "            model = model = make_DNN()\n",
        "            print(\"FIT\")  # model.fit() implements learning\n",
        "            start_time=time.time()\n",
        "            history=model.fit(X_train, y_train, \n",
        "                    epochs=EPOCHS, \n",
        "                    verbose=1,  # ascii art while learning\n",
        "                    callbacks=mycallbacks,   # called at end of each epoch\n",
        "                    validation_data=(X_valid,y_valid))\n",
        "            end_time=time.time()\n",
        "            elapsed_time=(end_time-start_time)                        \n",
        "            print(\"Fold %d, %d epochs, %d sec\"%(fold,EPOCHS,elapsed_time))\n",
        "            # print(history.history.keys())  # all these keys will be shown in figure\n",
        "            pd.DataFrame(history.history).plot(figsize=(8,5))\n",
        "            plt.grid(True)\n",
        "            plt.gca().set_ylim(0,1) # any losses > 1 will be off the scale\n",
        "            plt.show()\n"
      ],
      "execution_count": 10,
      "outputs": []
    },
    {
      "cell_type": "code",
      "metadata": {
        "colab": {
          "base_uri": "https://localhost:8080/",
          "height": 1000
        },
        "id": "9Ggt4EsSj2UY",
        "outputId": "4354dacd-f06b-470f-f939-54fdf7cd46b8"
      },
      "source": [
        "do_cross_validation(X,y)"
      ],
      "execution_count": 11,
      "outputs": [
        {
          "output_type": "stream",
          "text": [
            "MODEL\n",
            "make_DNN\n",
            "input shape: (36, 4)\n",
            "FIT\n",
            "Epoch 1/25\n",
            "200/200 [==============================] - 29s 6ms/step - loss: 0.6881 - accuracy: 0.5566 - val_loss: 0.6226 - val_accuracy: 0.6513\n",
            "INFO:tensorflow:Assets written to: BestModel/assets\n",
            "Epoch 2/25\n",
            "200/200 [==============================] - 1s 4ms/step - loss: 0.6307 - accuracy: 0.6379 - val_loss: 0.6044 - val_accuracy: 0.6775\n",
            "INFO:tensorflow:Assets written to: BestModel/assets\n",
            "Epoch 3/25\n",
            "200/200 [==============================] - 1s 3ms/step - loss: 0.6046 - accuracy: 0.6613 - val_loss: 0.5908 - val_accuracy: 0.6906\n",
            "INFO:tensorflow:Assets written to: BestModel/assets\n",
            "Epoch 4/25\n",
            "200/200 [==============================] - 1s 3ms/step - loss: 0.6047 - accuracy: 0.6689 - val_loss: 0.5887 - val_accuracy: 0.6894\n",
            "Epoch 5/25\n",
            "200/200 [==============================] - 1s 3ms/step - loss: 0.5900 - accuracy: 0.6763 - val_loss: 0.5863 - val_accuracy: 0.6869\n",
            "Epoch 6/25\n",
            "200/200 [==============================] - 1s 3ms/step - loss: 0.5748 - accuracy: 0.6923 - val_loss: 0.5792 - val_accuracy: 0.6925\n",
            "INFO:tensorflow:Assets written to: BestModel/assets\n",
            "Epoch 7/25\n",
            "200/200 [==============================] - 1s 4ms/step - loss: 0.5676 - accuracy: 0.6974 - val_loss: 0.5760 - val_accuracy: 0.6975\n",
            "INFO:tensorflow:Assets written to: BestModel/assets\n",
            "Epoch 8/25\n",
            "200/200 [==============================] - 1s 3ms/step - loss: 0.5746 - accuracy: 0.6923 - val_loss: 0.5749 - val_accuracy: 0.7056\n",
            "INFO:tensorflow:Assets written to: BestModel/assets\n",
            "Epoch 9/25\n",
            "200/200 [==============================] - 1s 3ms/step - loss: 0.5662 - accuracy: 0.6995 - val_loss: 0.5739 - val_accuracy: 0.7094\n",
            "INFO:tensorflow:Assets written to: BestModel/assets\n",
            "Epoch 10/25\n",
            "200/200 [==============================] - 1s 4ms/step - loss: 0.5637 - accuracy: 0.7011 - val_loss: 0.5758 - val_accuracy: 0.7038\n",
            "Epoch 11/25\n",
            "200/200 [==============================] - 1s 4ms/step - loss: 0.5582 - accuracy: 0.7018 - val_loss: 0.5746 - val_accuracy: 0.6931\n",
            "Epoch 12/25\n",
            "200/200 [==============================] - 1s 3ms/step - loss: 0.5471 - accuracy: 0.7128 - val_loss: 0.5742 - val_accuracy: 0.7000\n",
            "Epoch 13/25\n",
            "200/200 [==============================] - 1s 3ms/step - loss: 0.5544 - accuracy: 0.7055 - val_loss: 0.5693 - val_accuracy: 0.7025\n",
            "Epoch 14/25\n",
            "200/200 [==============================] - 1s 4ms/step - loss: 0.5435 - accuracy: 0.7139 - val_loss: 0.5717 - val_accuracy: 0.7019\n",
            "Epoch 15/25\n",
            "200/200 [==============================] - 1s 3ms/step - loss: 0.5453 - accuracy: 0.7213 - val_loss: 0.5717 - val_accuracy: 0.7056\n",
            "Epoch 16/25\n",
            "200/200 [==============================] - 1s 3ms/step - loss: 0.5531 - accuracy: 0.7084 - val_loss: 0.5725 - val_accuracy: 0.7000\n",
            "Epoch 17/25\n",
            "200/200 [==============================] - 1s 3ms/step - loss: 0.5378 - accuracy: 0.7156 - val_loss: 0.5754 - val_accuracy: 0.7025\n",
            "Epoch 18/25\n",
            "200/200 [==============================] - 1s 4ms/step - loss: 0.5418 - accuracy: 0.7102 - val_loss: 0.5772 - val_accuracy: 0.6975\n",
            "Epoch 19/25\n",
            "200/200 [==============================] - 1s 3ms/step - loss: 0.5383 - accuracy: 0.7180 - val_loss: 0.5744 - val_accuracy: 0.6950\n",
            "Epoch 20/25\n",
            "200/200 [==============================] - 1s 4ms/step - loss: 0.5369 - accuracy: 0.7201 - val_loss: 0.5750 - val_accuracy: 0.7038\n",
            "Epoch 21/25\n",
            "200/200 [==============================] - 1s 3ms/step - loss: 0.5442 - accuracy: 0.7156 - val_loss: 0.5701 - val_accuracy: 0.7088\n",
            "Epoch 22/25\n",
            "200/200 [==============================] - 1s 3ms/step - loss: 0.5315 - accuracy: 0.7238 - val_loss: 0.5764 - val_accuracy: 0.6913\n",
            "Epoch 23/25\n",
            "200/200 [==============================] - 1s 4ms/step - loss: 0.5340 - accuracy: 0.7267 - val_loss: 0.5717 - val_accuracy: 0.6956\n",
            "Epoch 24/25\n",
            "200/200 [==============================] - 1s 4ms/step - loss: 0.5209 - accuracy: 0.7367 - val_loss: 0.5743 - val_accuracy: 0.6963\n",
            "Epoch 25/25\n",
            "200/200 [==============================] - 1s 4ms/step - loss: 0.5352 - accuracy: 0.7165 - val_loss: 0.5803 - val_accuracy: 0.6975\n",
            "Fold 1, 25 epochs, 54 sec\n"
          ],
          "name": "stdout"
        },
        {
          "output_type": "display_data",
          "data": {
            "image/png": "[encoded data removed]",
            "text/plain": [
              "<Figure size 576x360 with 1 Axes>"
            ]
          },
          "metadata": {
            "tags": [],
            "needs_background": "light"
          }
        },
        {
          "output_type": "stream",
          "text": [
            "MODEL\n",
            "make_DNN\n",
            "input shape: (36, 4)\n",
            "FIT\n",
            "Epoch 1/25\n",
            "200/200 [==============================] - 2s 5ms/step - loss: 0.6882 - accuracy: 0.5665 - val_loss: 0.6220 - val_accuracy: 0.6612\n",
            "Epoch 2/25\n",
            "200/200 [==============================] - 1s 4ms/step - loss: 0.6268 - accuracy: 0.6441 - val_loss: 0.5972 - val_accuracy: 0.6775\n",
            "Epoch 3/25\n",
            "200/200 [==============================] - 1s 4ms/step - loss: 0.6094 - accuracy: 0.6641 - val_loss: 0.5935 - val_accuracy: 0.6906\n",
            "Epoch 4/25\n",
            "200/200 [==============================] - 1s 4ms/step - loss: 0.6012 - accuracy: 0.6721 - val_loss: 0.5801 - val_accuracy: 0.6956\n",
            "Epoch 5/25\n",
            "200/200 [==============================] - 1s 3ms/step - loss: 0.5832 - accuracy: 0.6839 - val_loss: 0.5784 - val_accuracy: 0.6913\n",
            "Epoch 6/25\n",
            "200/200 [==============================] - 1s 3ms/step - loss: 0.5702 - accuracy: 0.7085 - val_loss: 0.5752 - val_accuracy: 0.7075\n",
            "Epoch 7/25\n",
            "200/200 [==============================] - 1s 3ms/step - loss: 0.5576 - accuracy: 0.7115 - val_loss: 0.5723 - val_accuracy: 0.7000\n",
            "Epoch 8/25\n",
            "200/200 [==============================] - 1s 3ms/step - loss: 0.5624 - accuracy: 0.7102 - val_loss: 0.5705 - val_accuracy: 0.7044\n",
            "Epoch 9/25\n",
            "200/200 [==============================] - 1s 4ms/step - loss: 0.5510 - accuracy: 0.7191 - val_loss: 0.5649 - val_accuracy: 0.7106\n",
            "INFO:tensorflow:Assets written to: BestModel/assets\n",
            "Epoch 10/25\n",
            "200/200 [==============================] - 1s 4ms/step - loss: 0.5519 - accuracy: 0.7176 - val_loss: 0.5656 - val_accuracy: 0.7081\n",
            "Epoch 11/25\n",
            "200/200 [==============================] - 1s 4ms/step - loss: 0.5442 - accuracy: 0.7250 - val_loss: 0.5731 - val_accuracy: 0.7013\n",
            "Epoch 12/25\n",
            "200/200 [==============================] - 1s 3ms/step - loss: 0.5547 - accuracy: 0.7118 - val_loss: 0.5626 - val_accuracy: 0.7075\n",
            "Epoch 13/25\n",
            "200/200 [==============================] - 1s 3ms/step - loss: 0.5425 - accuracy: 0.7224 - val_loss: 0.5632 - val_accuracy: 0.7044\n",
            "Epoch 14/25\n",
            "200/200 [==============================] - 1s 4ms/step - loss: 0.5408 - accuracy: 0.7349 - val_loss: 0.5663 - val_accuracy: 0.7006\n",
            "Epoch 15/25\n",
            "200/200 [==============================] - 1s 3ms/step - loss: 0.5418 - accuracy: 0.7235 - val_loss: 0.5763 - val_accuracy: 0.7031\n",
            "Epoch 16/25\n",
            "200/200 [==============================] - 1s 3ms/step - loss: 0.5343 - accuracy: 0.7243 - val_loss: 0.5593 - val_accuracy: 0.7063\n",
            "Epoch 17/25\n",
            "200/200 [==============================] - 1s 4ms/step - loss: 0.5310 - accuracy: 0.7272 - val_loss: 0.5637 - val_accuracy: 0.7094\n",
            "Epoch 18/25\n",
            "200/200 [==============================] - 1s 4ms/step - loss: 0.5247 - accuracy: 0.7341 - val_loss: 0.5684 - val_accuracy: 0.6956\n",
            "Epoch 19/25\n",
            "200/200 [==============================] - 1s 3ms/step - loss: 0.5428 - accuracy: 0.7213 - val_loss: 0.5644 - val_accuracy: 0.7056\n",
            "Epoch 20/25\n",
            "200/200 [==============================] - 1s 3ms/step - loss: 0.5293 - accuracy: 0.7218 - val_loss: 0.5710 - val_accuracy: 0.6944\n",
            "Epoch 21/25\n",
            "200/200 [==============================] - 1s 4ms/step - loss: 0.5293 - accuracy: 0.7373 - val_loss: 0.5681 - val_accuracy: 0.7025\n",
            "Epoch 22/25\n",
            "200/200 [==============================] - 1s 3ms/step - loss: 0.5278 - accuracy: 0.7325 - val_loss: 0.5716 - val_accuracy: 0.7069\n",
            "Epoch 23/25\n",
            "200/200 [==============================] - 1s 4ms/step - loss: 0.5361 - accuracy: 0.7283 - val_loss: 0.5653 - val_accuracy: 0.7038\n",
            "Epoch 24/25\n",
            "200/200 [==============================] - 1s 4ms/step - loss: 0.5220 - accuracy: 0.7393 - val_loss: 0.5649 - val_accuracy: 0.7081\n",
            "Epoch 25/25\n",
            "200/200 [==============================] - 1s 4ms/step - loss: 0.5296 - accuracy: 0.7275 - val_loss: 0.5716 - val_accuracy: 0.7113\n",
            "INFO:tensorflow:Assets written to: BestModel/assets\n",
            "Fold 2, 25 epochs, 21 sec\n"
          ],
          "name": "stdout"
        },
        {
          "output_type": "display_data",
          "data": {
            "image/png": "[encoded data removed]",
            "text/plain": [
              "<Figure size 576x360 with 1 Axes>"
            ]
          },
          "metadata": {
            "tags": [],
            "needs_background": "light"
          }
        },
        {
          "output_type": "stream",
          "text": [
            "MODEL\n",
            "make_DNN\n",
            "input shape: (36, 4)\n",
            "FIT\n",
            "Epoch 1/25\n",
            "200/200 [==============================] - 2s 5ms/step - loss: 0.7030 - accuracy: 0.5394 - val_loss: 0.6356 - val_accuracy: 0.6388\n",
            "Epoch 2/25\n",
            "200/200 [==============================] - 1s 4ms/step - loss: 0.6224 - accuracy: 0.6528 - val_loss: 0.6136 - val_accuracy: 0.6587\n",
            "Epoch 3/25\n",
            "200/200 [==============================] - 1s 4ms/step - loss: 0.6066 - accuracy: 0.6709 - val_loss: 0.6070 - val_accuracy: 0.6737\n",
            "Epoch 4/25\n",
            "200/200 [==============================] - 1s 3ms/step - loss: 0.5981 - accuracy: 0.6814 - val_loss: 0.5932 - val_accuracy: 0.6825\n",
            "Epoch 5/25\n",
            "200/200 [==============================] - 1s 3ms/step - loss: 0.5839 - accuracy: 0.6975 - val_loss: 0.5883 - val_accuracy: 0.6856\n",
            "Epoch 6/25\n",
            "200/200 [==============================] - 1s 4ms/step - loss: 0.5858 - accuracy: 0.6899 - val_loss: 0.5800 - val_accuracy: 0.7013\n",
            "Epoch 7/25\n",
            "200/200 [==============================] - 1s 3ms/step - loss: 0.5707 - accuracy: 0.6985 - val_loss: 0.5852 - val_accuracy: 0.6775\n",
            "Epoch 8/25\n",
            "200/200 [==============================] - 1s 4ms/step - loss: 0.5701 - accuracy: 0.7064 - val_loss: 0.5807 - val_accuracy: 0.6969\n",
            "Epoch 9/25\n",
            "200/200 [==============================] - 1s 4ms/step - loss: 0.5678 - accuracy: 0.7073 - val_loss: 0.5798 - val_accuracy: 0.6919\n",
            "Epoch 10/25\n",
            "200/200 [==============================] - 1s 3ms/step - loss: 0.5592 - accuracy: 0.7127 - val_loss: 0.5760 - val_accuracy: 0.7006\n",
            "Epoch 11/25\n",
            "200/200 [==============================] - 1s 4ms/step - loss: 0.5677 - accuracy: 0.7003 - val_loss: 0.5762 - val_accuracy: 0.6862\n",
            "Epoch 12/25\n",
            "200/200 [==============================] - 1s 4ms/step - loss: 0.5506 - accuracy: 0.7270 - val_loss: 0.5736 - val_accuracy: 0.6938\n",
            "Epoch 13/25\n",
            "200/200 [==============================] - 1s 3ms/step - loss: 0.5429 - accuracy: 0.7185 - val_loss: 0.5718 - val_accuracy: 0.6950\n",
            "Epoch 14/25\n",
            "200/200 [==============================] - 1s 3ms/step - loss: 0.5384 - accuracy: 0.7150 - val_loss: 0.5785 - val_accuracy: 0.6994\n",
            "Epoch 15/25\n",
            "200/200 [==============================] - 1s 3ms/step - loss: 0.5436 - accuracy: 0.7160 - val_loss: 0.5736 - val_accuracy: 0.6931\n",
            "Epoch 16/25\n",
            "200/200 [==============================] - 1s 3ms/step - loss: 0.5377 - accuracy: 0.7154 - val_loss: 0.5746 - val_accuracy: 0.6856\n",
            "Epoch 17/25\n",
            "200/200 [==============================] - 1s 3ms/step - loss: 0.5345 - accuracy: 0.7220 - val_loss: 0.5723 - val_accuracy: 0.7044\n",
            "Epoch 18/25\n",
            "200/200 [==============================] - 1s 4ms/step - loss: 0.5343 - accuracy: 0.7372 - val_loss: 0.5743 - val_accuracy: 0.6969\n",
            "Epoch 19/25\n",
            "200/200 [==============================] - 1s 4ms/step - loss: 0.5307 - accuracy: 0.7256 - val_loss: 0.5681 - val_accuracy: 0.7000\n",
            "Epoch 20/25\n",
            "200/200 [==============================] - 1s 4ms/step - loss: 0.5312 - accuracy: 0.7374 - val_loss: 0.5664 - val_accuracy: 0.7013\n",
            "Epoch 21/25\n",
            "200/200 [==============================] - 1s 4ms/step - loss: 0.5259 - accuracy: 0.7251 - val_loss: 0.5711 - val_accuracy: 0.7050\n",
            "Epoch 22/25\n",
            "200/200 [==============================] - 1s 4ms/step - loss: 0.5244 - accuracy: 0.7312 - val_loss: 0.5684 - val_accuracy: 0.7006\n",
            "Epoch 23/25\n",
            "200/200 [==============================] - 1s 4ms/step - loss: 0.5274 - accuracy: 0.7228 - val_loss: 0.5664 - val_accuracy: 0.6994\n",
            "Epoch 24/25\n",
            "200/200 [==============================] - 1s 4ms/step - loss: 0.5319 - accuracy: 0.7304 - val_loss: 0.5730 - val_accuracy: 0.6994\n",
            "Epoch 25/25\n",
            "200/200 [==============================] - 1s 4ms/step - loss: 0.5216 - accuracy: 0.7374 - val_loss: 0.5681 - val_accuracy: 0.6944\n",
            "Fold 3, 25 epochs, 21 sec\n"
          ],
          "name": "stdout"
        },
        {
          "output_type": "display_data",
          "data": {
            "image/png": "[encoded data removed]",
            "text/plain": [
              "<Figure size 576x360 with 1 Axes>"
            ]
          },
          "metadata": {
            "tags": [],
            "needs_background": "light"
          }
        },
        {
          "output_type": "stream",
          "text": [
            "MODEL\n",
            "make_DNN\n",
            "input shape: (36, 4)\n",
            "FIT\n",
            "Epoch 1/25\n",
            "200/200 [==============================] - 2s 5ms/step - loss: 0.7013 - accuracy: 0.5628 - val_loss: 0.6403 - val_accuracy: 0.6244\n",
            "Epoch 2/25\n",
            "200/200 [==============================] - 1s 3ms/step - loss: 0.6256 - accuracy: 0.6501 - val_loss: 0.6087 - val_accuracy: 0.6669\n",
            "Epoch 3/25\n",
            "200/200 [==============================] - 1s 3ms/step - loss: 0.6006 - accuracy: 0.6794 - val_loss: 0.5982 - val_accuracy: 0.6762\n",
            "Epoch 4/25\n",
            "200/200 [==============================] - 1s 3ms/step - loss: 0.5943 - accuracy: 0.6838 - val_loss: 0.5884 - val_accuracy: 0.6938\n",
            "Epoch 5/25\n",
            "200/200 [==============================] - 1s 3ms/step - loss: 0.5882 - accuracy: 0.6729 - val_loss: 0.5956 - val_accuracy: 0.6725\n",
            "Epoch 6/25\n",
            "200/200 [==============================] - 1s 3ms/step - loss: 0.5880 - accuracy: 0.6810 - val_loss: 0.5856 - val_accuracy: 0.6831\n",
            "Epoch 7/25\n",
            "200/200 [==============================] - 1s 3ms/step - loss: 0.5766 - accuracy: 0.6957 - val_loss: 0.5828 - val_accuracy: 0.6975\n",
            "Epoch 8/25\n",
            "200/200 [==============================] - 1s 4ms/step - loss: 0.5610 - accuracy: 0.7069 - val_loss: 0.5749 - val_accuracy: 0.6963\n",
            "Epoch 9/25\n",
            "200/200 [==============================] - 1s 4ms/step - loss: 0.5568 - accuracy: 0.7163 - val_loss: 0.5749 - val_accuracy: 0.6888\n",
            "Epoch 10/25\n",
            "200/200 [==============================] - 1s 3ms/step - loss: 0.5616 - accuracy: 0.7011 - val_loss: 0.5684 - val_accuracy: 0.6994\n",
            "Epoch 11/25\n",
            "200/200 [==============================] - 1s 4ms/step - loss: 0.5534 - accuracy: 0.7110 - val_loss: 0.5755 - val_accuracy: 0.6981\n",
            "Epoch 12/25\n",
            "200/200 [==============================] - 1s 3ms/step - loss: 0.5467 - accuracy: 0.7120 - val_loss: 0.5775 - val_accuracy: 0.6919\n",
            "Epoch 13/25\n",
            "200/200 [==============================] - 1s 4ms/step - loss: 0.5496 - accuracy: 0.7184 - val_loss: 0.5704 - val_accuracy: 0.7019\n",
            "Epoch 14/25\n",
            "200/200 [==============================] - 1s 4ms/step - loss: 0.5408 - accuracy: 0.7226 - val_loss: 0.5736 - val_accuracy: 0.6888\n",
            "Epoch 15/25\n",
            "200/200 [==============================] - 1s 3ms/step - loss: 0.5342 - accuracy: 0.7276 - val_loss: 0.5801 - val_accuracy: 0.7006\n",
            "Epoch 16/25\n",
            "200/200 [==============================] - 1s 4ms/step - loss: 0.5382 - accuracy: 0.7218 - val_loss: 0.5761 - val_accuracy: 0.7013\n",
            "Epoch 17/25\n",
            "200/200 [==============================] - 1s 4ms/step - loss: 0.5343 - accuracy: 0.7284 - val_loss: 0.5760 - val_accuracy: 0.6900\n",
            "Epoch 18/25\n",
            "200/200 [==============================] - 1s 4ms/step - loss: 0.5261 - accuracy: 0.7265 - val_loss: 0.5736 - val_accuracy: 0.7025\n",
            "Epoch 19/25\n",
            "200/200 [==============================] - 1s 4ms/step - loss: 0.5321 - accuracy: 0.7275 - val_loss: 0.5770 - val_accuracy: 0.6938\n",
            "Epoch 20/25\n",
            "200/200 [==============================] - 1s 4ms/step - loss: 0.5200 - accuracy: 0.7319 - val_loss: 0.5742 - val_accuracy: 0.7013\n",
            "Epoch 21/25\n",
            "200/200 [==============================] - 1s 4ms/step - loss: 0.5136 - accuracy: 0.7401 - val_loss: 0.5785 - val_accuracy: 0.6944\n",
            "Epoch 22/25\n",
            "200/200 [==============================] - 1s 4ms/step - loss: 0.5264 - accuracy: 0.7226 - val_loss: 0.5730 - val_accuracy: 0.7000\n",
            "Epoch 23/25\n",
            "200/200 [==============================] - 1s 3ms/step - loss: 0.5152 - accuracy: 0.7355 - val_loss: 0.5865 - val_accuracy: 0.6931\n",
            "Epoch 24/25\n",
            "200/200 [==============================] - 1s 4ms/step - loss: 0.5238 - accuracy: 0.7427 - val_loss: 0.5754 - val_accuracy: 0.6938\n",
            "Epoch 25/25\n",
            "200/200 [==============================] - 1s 3ms/step - loss: 0.5208 - accuracy: 0.7284 - val_loss: 0.5747 - val_accuracy: 0.7000\n",
            "Fold 4, 25 epochs, 19 sec\n"
          ],
          "name": "stdout"
        },
        {
          "output_type": "display_data",
          "data": {
            "image/png": "[encoded data removed]",
            "text/plain": [
              "<Figure size 576x360 with 1 Axes>"
            ]
          },
          "metadata": {
            "tags": [],
            "needs_background": "light"
          }
        },
        {
          "output_type": "stream",
          "text": [
            "MODEL\n",
            "make_DNN\n",
            "input shape: (36, 4)\n",
            "FIT\n",
            "Epoch 1/25\n",
            "200/200 [==============================] - 2s 5ms/step - loss: 0.6913 - accuracy: 0.5548 - val_loss: 0.6326 - val_accuracy: 0.6406\n",
            "Epoch 2/25\n",
            "200/200 [==============================] - 1s 4ms/step - loss: 0.6241 - accuracy: 0.6599 - val_loss: 0.6161 - val_accuracy: 0.6631\n",
            "Epoch 3/25\n",
            "200/200 [==============================] - 1s 4ms/step - loss: 0.6191 - accuracy: 0.6600 - val_loss: 0.6020 - val_accuracy: 0.6781\n",
            "Epoch 4/25\n",
            "200/200 [==============================] - 1s 4ms/step - loss: 0.6026 - accuracy: 0.6705 - val_loss: 0.5968 - val_accuracy: 0.6800\n",
            "Epoch 5/25\n",
            "200/200 [==============================] - 1s 3ms/step - loss: 0.5905 - accuracy: 0.6861 - val_loss: 0.5965 - val_accuracy: 0.6919\n",
            "Epoch 6/25\n",
            "200/200 [==============================] - 1s 4ms/step - loss: 0.5873 - accuracy: 0.6855 - val_loss: 0.5851 - val_accuracy: 0.7044\n",
            "Epoch 7/25\n",
            "200/200 [==============================] - 1s 4ms/step - loss: 0.5832 - accuracy: 0.7005 - val_loss: 0.5837 - val_accuracy: 0.6950\n",
            "Epoch 8/25\n",
            "200/200 [==============================] - 1s 4ms/step - loss: 0.5737 - accuracy: 0.7010 - val_loss: 0.5839 - val_accuracy: 0.7031\n",
            "Epoch 9/25\n",
            "200/200 [==============================] - 1s 4ms/step - loss: 0.5824 - accuracy: 0.7005 - val_loss: 0.5802 - val_accuracy: 0.6975\n",
            "Epoch 10/25\n",
            "200/200 [==============================] - 1s 3ms/step - loss: 0.5729 - accuracy: 0.7012 - val_loss: 0.5802 - val_accuracy: 0.6944\n",
            "Epoch 11/25\n",
            "200/200 [==============================] - 1s 4ms/step - loss: 0.5613 - accuracy: 0.7062 - val_loss: 0.5856 - val_accuracy: 0.6975\n",
            "Epoch 12/25\n",
            "200/200 [==============================] - 1s 4ms/step - loss: 0.5509 - accuracy: 0.7264 - val_loss: 0.5912 - val_accuracy: 0.6938\n",
            "Epoch 13/25\n",
            "200/200 [==============================] - 1s 4ms/step - loss: 0.5605 - accuracy: 0.7138 - val_loss: 0.5755 - val_accuracy: 0.7044\n",
            "Epoch 14/25\n",
            "200/200 [==============================] - 1s 4ms/step - loss: 0.5593 - accuracy: 0.7056 - val_loss: 0.5760 - val_accuracy: 0.6975\n",
            "Epoch 15/25\n",
            "200/200 [==============================] - 1s 3ms/step - loss: 0.5618 - accuracy: 0.7050 - val_loss: 0.5748 - val_accuracy: 0.6981\n",
            "Epoch 16/25\n",
            "200/200 [==============================] - 1s 4ms/step - loss: 0.5617 - accuracy: 0.7111 - val_loss: 0.5783 - val_accuracy: 0.6994\n",
            "Epoch 17/25\n",
            "200/200 [==============================] - 1s 4ms/step - loss: 0.5459 - accuracy: 0.7179 - val_loss: 0.5687 - val_accuracy: 0.7025\n",
            "Epoch 18/25\n",
            "200/200 [==============================] - 1s 4ms/step - loss: 0.5433 - accuracy: 0.7238 - val_loss: 0.5695 - val_accuracy: 0.7075\n",
            "Epoch 19/25\n",
            "200/200 [==============================] - 1s 3ms/step - loss: 0.5575 - accuracy: 0.7064 - val_loss: 0.5758 - val_accuracy: 0.7044\n",
            "Epoch 20/25\n",
            "200/200 [==============================] - 1s 3ms/step - loss: 0.5431 - accuracy: 0.7151 - val_loss: 0.5719 - val_accuracy: 0.7156\n",
            "INFO:tensorflow:Assets written to: BestModel/assets\n",
            "Epoch 21/25\n",
            "200/200 [==============================] - 1s 4ms/step - loss: 0.5422 - accuracy: 0.7226 - val_loss: 0.5673 - val_accuracy: 0.7100\n",
            "Epoch 22/25\n",
            "200/200 [==============================] - 1s 4ms/step - loss: 0.5381 - accuracy: 0.7114 - val_loss: 0.5691 - val_accuracy: 0.7094\n",
            "Epoch 23/25\n",
            "200/200 [==============================] - 1s 4ms/step - loss: 0.5390 - accuracy: 0.7288 - val_loss: 0.5734 - val_accuracy: 0.7094\n",
            "Epoch 24/25\n",
            "200/200 [==============================] - 1s 4ms/step - loss: 0.5610 - accuracy: 0.7119 - val_loss: 0.5737 - val_accuracy: 0.7075\n",
            "Epoch 25/25\n",
            "200/200 [==============================] - 1s 4ms/step - loss: 0.5482 - accuracy: 0.7222 - val_loss: 0.5693 - val_accuracy: 0.7138\n",
            "Fold 5, 25 epochs, 21 sec\n"
          ],
          "name": "stdout"
        },
        {
          "output_type": "display_data",
          "data": {
            "image/png": "[encoded data removed]",
            "text/plain": [
              "<Figure size 576x360 with 1 Axes>"
            ]
          },
          "metadata": {
            "tags": [],
            "needs_background": "light"
          }
        }
      ]
    },
    {
      "cell_type": "code",
      "metadata": {
        "colab": {
          "base_uri": "https://localhost:8080/"
        },
        "id": "e-jG1h5fj2Ua",
        "outputId": "74fc70c2-caeb-408b-aab5-069d0379427c"
      },
      "source": [
        "from keras.models import load_model\n",
        "X,y = prepare_inputs_len_x_alphabet(pc_test,nc_test,ALPHABET)\n",
        "best_model=load_model(MODELPATH)\n",
        "scores = best_model.evaluate(X, y, verbose=0)\n",
        "print(\"The best model parameters were saved during cross-validation.\")\n",
        "print(\"Best was defined as maximum validation accuracy at end of any epoch.\")\n",
        "print(\"Now re-load the best model and test it on previously unseen data.\")\n",
        "print(\"Test on\",len(pc_test),\"PC seqs\")\n",
        "print(\"Test on\",len(nc_test),\"NC seqs\")\n",
        "print(\"%s: %.2f%%\" % (best_model.metrics_names[1], scores[1]*100))\n"
      ],
      "execution_count": 12,
      "outputs": [
        {
          "output_type": "stream",
          "text": [
            "The best model parameters were saved during cross-validation.\n",
            "Best was defined as maximum validation accuracy at end of any epoch.\n",
            "Now re-load the best model and test it on previously unseen data.\n",
            "Test on 1000 PC seqs\n",
            "Test on 1000 NC seqs\n",
            "accuracy: 69.85%\n"
          ],
          "name": "stdout"
        }
      ]
    },
    {
      "cell_type": "code",
      "metadata": {
        "colab": {
          "base_uri": "https://localhost:8080/",
          "height": 312
        },
        "id": "VycUnmvUj2Ue",
        "outputId": "d7ac8fe9-59e7-432f-ae92-a53102da8e21"
      },
      "source": [
        "from sklearn.metrics import roc_curve\n",
        "from sklearn.metrics import roc_auc_score\n",
        "ns_probs = [0 for _ in range(len(y))]\n",
        "bm_probs = best_model.predict(X)\n",
        "ns_auc = roc_auc_score(y, ns_probs)\n",
        "bm_auc = roc_auc_score(y, bm_probs)\n",
        "ns_fpr, ns_tpr, _ = roc_curve(y, ns_probs)\n",
        "bm_fpr, bm_tpr, _ = roc_curve(y, bm_probs)\n",
        "plt.plot(ns_fpr, ns_tpr, linestyle='--', label='Guess, auc=%.4f'%ns_auc)\n",
        "plt.plot(bm_fpr, bm_tpr, marker='.', label='Model, auc=%.4f'%bm_auc)\n",
        "plt.title('ROC')\n",
        "plt.xlabel('False Positive Rate')\n",
        "plt.ylabel('True Positive Rate')\n",
        "plt.legend()\n",
        "plt.show()\n",
        "print(\"%s: %.2f%%\" %('AUC',bm_auc*100.0))\n"
      ],
      "execution_count": 13,
      "outputs": [
        {
          "output_type": "display_data",
          "data": {
            "image/png": "[encoded data removed]",
            "text/plain": [
              "<Figure size 432x288 with 1 Axes>"
            ]
          },
          "metadata": {
            "tags": [],
            "needs_background": "light"
          }
        },
        {
          "output_type": "stream",
          "text": [
            "AUC: 76.87%\n"
          ],
          "name": "stdout"
        }
      ]
    },
    {
      "cell_type": "code",
      "metadata": {
        "colab": {
          "base_uri": "https://localhost:8080/",
          "height": 36
        },
        "id": "kFMb6rGNj2Ug",
        "outputId": "e0e22b91-0d0d-4c70-c3fb-0814765fcb49"
      },
      "source": [
        "t = time.time()\n",
        "time.strftime('%Y-%m-%d %H:%M:%S %Z', time.localtime(t))"
      ],
      "execution_count": 14,
      "outputs": [
        {
          "output_type": "execute_result",
          "data": {
            "application/vnd.google.colaboratory.intrinsic+json": {
              "type": "string"
            },
            "text/plain": [
              "'2021-06-11 20:30:30 UTC'"
            ]
          },
          "metadata": {
            "tags": []
          },
          "execution_count": 14
        }
      ]
    },
    {
      "cell_type": "code",
      "metadata": {
        "id": "e-mEgDrQjUzF"
      },
      "source": [
        ""
      ],
      "execution_count": 14,
      "outputs": []
    }
  ]
}