{
 "cells": [
  {
   "cell_type": "markdown",
   "metadata": {
    "id": "0asdcdunj2Tx"
   },
   "source": [
    "# ORF recognition by CNN\n",
    "\n",
    "Alien with libcudnn8."
   ]
  },
  {
   "cell_type": "code",
   "execution_count": 1,
   "metadata": {
    "colab": {
     "base_uri": "https://localhost:8080/",
     "height": 36
    },
    "id": "QP1VTRNQj2UO",
    "outputId": "66fd0478-db19-4e13-9b89-0157b7b46502"
   },
   "outputs": [
    {
     "data": {
      "text/plain": [
       "'2021-08-12 06:53:34 EDT'"
      ]
     },
     "execution_count": 1,
     "metadata": {},
     "output_type": "execute_result"
    }
   ],
   "source": [
    "import time \n",
    "t = time.time()\n",
    "time.strftime('%Y-%m-%d %H:%M:%S %Z', time.localtime(t))"
   ]
  },
  {
   "cell_type": "code",
   "execution_count": 2,
   "metadata": {
    "id": "Nhz4GKonj2T_"
   },
   "outputs": [],
   "source": [
    "PC_SEQUENCES=10000   # how many protein-coding sequences\n",
    "NC_SEQUENCES=10000   # how many non-coding sequences\n",
    "PC_TESTS=1000\n",
    "NC_TESTS=1000\n",
    "RNA_LEN=32            # how long is each sequence\n",
    "CDS_LEN=16            # min CDS len to be coding\n",
    "ALPHABET=4          # how many different letters are possible\n",
    "INPUT_SHAPE_2D = (RNA_LEN,ALPHABET,1) # Conv2D needs 3D inputs\n",
    "INPUT_SHAPE = (RNA_LEN,ALPHABET) # Conv1D needs 2D inputs\n",
    "FILTERS = 16   # how many different patterns the model looks for\n",
    "NEURONS = 16\n",
    "DROP_RATE = 0.0\n",
    "WIDTH = 3   # how wide each pattern is, in bases\n",
    "STRIDE_2D = (1,1)  # For Conv2D how far in each direction\n",
    "STRIDE = 1 # For Conv1D, how far between pattern matches, in bases\n",
    "EPOCHS=100  # how many times to train on all the data\n",
    "SPLITS=3  # SPLITS=3 means train on 2/3 and validate on 1/3 \n",
    "FOLDS=3  # train the model this many times (range 1 to SPLITS)"
   ]
  },
  {
   "cell_type": "code",
   "execution_count": 3,
   "metadata": {
    "colab": {
     "base_uri": "https://localhost:8080/"
    },
    "id": "lr7q90rxj2UE",
    "outputId": "7f7d77a7-1759-47ac-e59d-9f4c2b62da3f"
   },
   "outputs": [
    {
     "name": "stdout",
     "output_type": "stream",
     "text": [
      "CoLab not working. On my PC, use relative paths.\n"
     ]
    }
   ],
   "source": [
    "import sys\n",
    "IN_COLAB = False\n",
    "try:\n",
    "    from google.colab import drive\n",
    "    IN_COLAB = True\n",
    "except:\n",
    "    pass\n",
    "if IN_COLAB:\n",
    "    print(\"On Google CoLab, mount cloud-local file, get our code from GitHub.\")\n",
    "    PATH='/content/drive/'\n",
    "    #drive.mount(PATH,force_remount=True)  # hardly ever need this\n",
    "    #drive.mount(PATH)    # Google will require login credentials\n",
    "    DATAPATH=PATH+'My Drive/data/'  # must end in \"/\"\n",
    "    import requests\n",
    "    r = requests.get('https://raw.githubusercontent.com/ShepherdCode/Soars2021/master/SimTools/RNA_describe.py')\n",
    "    with open('RNA_describe.py', 'w') as f:\n",
    "        f.write(r.text)  \n",
    "    from RNA_describe import ORF_counter\n",
    "    from RNA_describe import Random_Base_Oracle\n",
    "    r = requests.get('https://raw.githubusercontent.com/ShepherdCode/Soars2021/master/SimTools/RNA_prep.py')\n",
    "    with open('RNA_prep.py', 'w') as f:\n",
    "        f.write(r.text)  \n",
    "    from RNA_prep import prepare_inputs_len_x_alphabet\n",
    "else:\n",
    "        print(\"CoLab not working. On my PC, use relative paths.\")\n",
    "        DATAPATH='data/'  # must end in \"/\"\n",
    "        sys.path.append(\"..\") # append parent dir in order to use sibling dirs\n",
    "        from SimTools.RNA_describe import ORF_counter,Random_Base_Oracle\n",
    "        from SimTools.RNA_prep import prepare_inputs_len_x_alphabet\n",
    "\n",
    "MODELPATH=\"BestModel\"  # saved on cloud instance and lost after logout\n",
    "#MODELPATH=DATAPATH+MODELPATH  # saved on Google Drive but requires login"
   ]
  },
  {
   "cell_type": "code",
   "execution_count": 4,
   "metadata": {
    "id": "EGDXH8Uwj2UM"
   },
   "outputs": [
    {
     "name": "stderr",
     "output_type": "stream",
     "text": [
      "2021-08-12 06:53:34.891509: I tensorflow/stream_executor/platform/default/dso_loader.cc:53] Successfully opened dynamic library libcudart.so.11.0\n"
     ]
    }
   ],
   "source": [
    "from os import listdir\n",
    "import csv\n",
    "from zipfile import ZipFile\n",
    "\n",
    "import numpy as np\n",
    "import pandas as pd\n",
    "from scipy import stats  # mode\n",
    "\n",
    "from sklearn.preprocessing import StandardScaler\n",
    "from sklearn.model_selection import KFold\n",
    "from sklearn.model_selection import cross_val_score\n",
    "\n",
    "from keras.models import Sequential\n",
    "from keras.layers import Dense,Embedding,Dropout\n",
    "from keras.layers import Conv1D,Conv2D\n",
    "from keras.layers import Flatten,MaxPooling1D,MaxPooling2D\n",
    "from keras.losses import BinaryCrossentropy\n",
    "# tf.keras.losses.BinaryCrossentropy\n",
    "\n",
    "import matplotlib.pyplot as plt\n",
    "from matplotlib import colors\n",
    "mycmap = colors.ListedColormap(['red','blue'])  # list color for label 0 then 1\n",
    "np.set_printoptions(precision=2)\n"
   ]
  },
  {
   "cell_type": "code",
   "execution_count": 5,
   "metadata": {
    "colab": {
     "base_uri": "https://localhost:8080/"
    },
    "id": "CUOG_jEvGtOm",
    "outputId": "a342fb5a-b2e6-4674-a799-d2177b7f64b2"
   },
   "outputs": [
    {
     "name": "stdout",
     "output_type": "stream",
     "text": [
      "It took 65 trials to reach 10 per class.\n",
      "It took 47570 trials to reach 11000 per class.\n",
      "Use 11000 PC seqs\n",
      "Use 11000 NC seqs\n"
     ]
    }
   ],
   "source": [
    "rbo=Random_Base_Oracle(RNA_LEN,True)\n",
    "pc_all,nc_all = rbo.get_partitioned_sequences(CDS_LEN,10) # just testing\n",
    "pc_all,nc_all = rbo.get_partitioned_sequences(CDS_LEN,PC_SEQUENCES+PC_TESTS)\n",
    "print(\"Use\",len(pc_all),\"PC seqs\")\n",
    "print(\"Use\",len(nc_all),\"NC seqs\")"
   ]
  },
  {
   "cell_type": "code",
   "execution_count": 6,
   "metadata": {
    "colab": {
     "base_uri": "https://localhost:8080/"
    },
    "id": "Q-BmSXi2jUyl",
    "outputId": "7f824184-ea1e-4de6-ba13-9c4e1b92c530"
   },
   "outputs": [
    {
     "name": "stdout",
     "output_type": "stream",
     "text": [
      "Simulated sequences prior to adjustment:\n",
      "PC seqs\n",
      "Average RNA length: 32.0\n",
      "Average ORF length: 19.714636363636362\n",
      "NC seqs\n",
      "Average RNA length: 32.0\n",
      "Average ORF length: 2.8456363636363635\n"
     ]
    }
   ],
   "source": [
    "# Describe the sequences\n",
    "def describe_sequences(list_of_seq):\n",
    "    oc = ORF_counter()\n",
    "    num_seq = len(list_of_seq)\n",
    "    rna_lens = np.zeros(num_seq)\n",
    "    orf_lens = np.zeros(num_seq)\n",
    "    for i in range(0,num_seq):\n",
    "        rna_len = len(list_of_seq[i])\n",
    "        rna_lens[i] = rna_len\n",
    "        oc.set_sequence(list_of_seq[i])\n",
    "        orf_len = oc.get_max_orf_len()\n",
    "        orf_lens[i] = orf_len\n",
    "    print (\"Average RNA length:\",rna_lens.mean())\n",
    "    print (\"Average ORF length:\",orf_lens.mean())\n",
    "    \n",
    "print(\"Simulated sequences prior to adjustment:\")\n",
    "print(\"PC seqs\")\n",
    "describe_sequences(pc_all)\n",
    "print(\"NC seqs\")\n",
    "describe_sequences(nc_all)"
   ]
  },
  {
   "cell_type": "code",
   "execution_count": 7,
   "metadata": {
    "id": "iP1y7-J3jUys"
   },
   "outputs": [],
   "source": [
    "pc_train=pc_all[:PC_SEQUENCES]\n",
    "nc_train=nc_all[:NC_SEQUENCES]\n",
    "pc_test=pc_all[PC_SEQUENCES:]\n",
    "nc_test=nc_all[NC_SEQUENCES:]"
   ]
  },
  {
   "cell_type": "code",
   "execution_count": 8,
   "metadata": {
    "colab": {
     "base_uri": "https://localhost:8080/"
    },
    "id": "CIpTrnH6j2US",
    "outputId": "842858fe-eab4-4479-ed11-5a5cf6d3bf3d"
   },
   "outputs": [
    {
     "name": "stdout",
     "output_type": "stream",
     "text": [
      "Data ready.\n"
     ]
    }
   ],
   "source": [
    "# Use code from our SimTools library.\n",
    "X,y = prepare_inputs_len_x_alphabet(pc_train,nc_train,ALPHABET) # shuffles\n",
    "print(\"Data ready.\")"
   ]
  },
  {
   "cell_type": "code",
   "execution_count": 9,
   "metadata": {
    "colab": {
     "base_uri": "https://localhost:8080/"
    },
    "id": "7NvrVU8ij2UU",
    "outputId": "fc4f440d-f9f7-415c-f9bc-05ffd142cf63"
   },
   "outputs": [
    {
     "name": "stdout",
     "output_type": "stream",
     "text": [
      "make_DNN\n",
      "input shape: (32, 4)\n",
      "Model: \"sequential\"\n",
      "_________________________________________________________________\n",
      "Layer (type)                 Output Shape              Param #   \n",
      "=================================================================\n",
      "conv1d (Conv1D)              (None, 32, 16)            208       \n",
      "_________________________________________________________________\n",
      "conv1d_1 (Conv1D)            (None, 32, 16)            784       \n",
      "_________________________________________________________________\n",
      "max_pooling1d (MaxPooling1D) (None, 16, 16)            0         \n",
      "_________________________________________________________________\n",
      "conv1d_2 (Conv1D)            (None, 16, 16)            784       \n",
      "_________________________________________________________________\n",
      "conv1d_3 (Conv1D)            (None, 16, 16)            784       \n",
      "_________________________________________________________________\n",
      "max_pooling1d_1 (MaxPooling1 (None, 8, 16)             0         \n",
      "_________________________________________________________________\n",
      "flatten (Flatten)            (None, 128)               0         \n",
      "_________________________________________________________________\n",
      "dense (Dense)                (None, 16)                2064      \n",
      "_________________________________________________________________\n",
      "dropout (Dropout)            (None, 16)                0         \n",
      "_________________________________________________________________\n",
      "dense_1 (Dense)              (None, 1)                 17        \n",
      "=================================================================\n",
      "Total params: 4,641\n",
      "Trainable params: 4,641\n",
      "Non-trainable params: 0\n",
      "_________________________________________________________________\n",
      "None\n"
     ]
    },
    {
     "name": "stderr",
     "output_type": "stream",
     "text": [
      "2021-08-12 06:53:36.522554: I tensorflow/stream_executor/platform/default/dso_loader.cc:53] Successfully opened dynamic library libcuda.so.1\n",
      "2021-08-12 06:53:36.585222: I tensorflow/stream_executor/cuda/cuda_gpu_executor.cc:937] successful NUMA node read from SysFS had negative value (-1), but there must be at least one NUMA node, so returning NUMA node zero\n",
      "2021-08-12 06:53:36.586647: I tensorflow/core/common_runtime/gpu/gpu_device.cc:1733] Found device 0 with properties: \n",
      "pciBusID: 0000:02:00.0 name: NVIDIA GeForce RTX 2080 Ti computeCapability: 7.5\n",
      "coreClock: 1.545GHz coreCount: 68 deviceMemorySize: 10.75GiB deviceMemoryBandwidth: 573.69GiB/s\n",
      "2021-08-12 06:53:36.586690: I tensorflow/stream_executor/platform/default/dso_loader.cc:53] Successfully opened dynamic library libcudart.so.11.0\n",
      "2021-08-12 06:53:36.599236: I tensorflow/stream_executor/platform/default/dso_loader.cc:53] Successfully opened dynamic library libcublas.so.11\n",
      "2021-08-12 06:53:36.599301: I tensorflow/stream_executor/platform/default/dso_loader.cc:53] Successfully opened dynamic library libcublasLt.so.11\n",
      "2021-08-12 06:53:36.606380: I tensorflow/stream_executor/platform/default/dso_loader.cc:53] Successfully opened dynamic library libcufft.so.10\n",
      "2021-08-12 06:53:36.608647: I tensorflow/stream_executor/platform/default/dso_loader.cc:53] Successfully opened dynamic library libcurand.so.10\n",
      "2021-08-12 06:53:36.611150: I tensorflow/stream_executor/platform/default/dso_loader.cc:53] Successfully opened dynamic library libcusolver.so.11\n",
      "2021-08-12 06:53:36.616087: I tensorflow/stream_executor/platform/default/dso_loader.cc:53] Successfully opened dynamic library libcusparse.so.11\n",
      "2021-08-12 06:53:36.617013: I tensorflow/stream_executor/platform/default/dso_loader.cc:53] Successfully opened dynamic library libcudnn.so.8\n",
      "2021-08-12 06:53:36.617237: I tensorflow/stream_executor/cuda/cuda_gpu_executor.cc:937] successful NUMA node read from SysFS had negative value (-1), but there must be at least one NUMA node, so returning NUMA node zero\n",
      "2021-08-12 06:53:36.619367: I tensorflow/stream_executor/cuda/cuda_gpu_executor.cc:937] successful NUMA node read from SysFS had negative value (-1), but there must be at least one NUMA node, so returning NUMA node zero\n",
      "2021-08-12 06:53:36.621549: I tensorflow/core/common_runtime/gpu/gpu_device.cc:1871] Adding visible gpu devices: 0\n",
      "2021-08-12 06:53:36.622772: I tensorflow/core/platform/cpu_feature_guard.cc:142] This TensorFlow binary is optimized with oneAPI Deep Neural Network Library (oneDNN) to use the following CPU instructions in performance-critical operations:  AVX2 AVX512F FMA\n",
      "To enable them in other operations, rebuild TensorFlow with the appropriate compiler flags.\n",
      "2021-08-12 06:53:36.624524: I tensorflow/stream_executor/cuda/cuda_gpu_executor.cc:937] successful NUMA node read from SysFS had negative value (-1), but there must be at least one NUMA node, so returning NUMA node zero\n",
      "2021-08-12 06:53:36.626010: I tensorflow/core/common_runtime/gpu/gpu_device.cc:1733] Found device 0 with properties: \n",
      "pciBusID: 0000:02:00.0 name: NVIDIA GeForce RTX 2080 Ti computeCapability: 7.5\n",
      "coreClock: 1.545GHz coreCount: 68 deviceMemorySize: 10.75GiB deviceMemoryBandwidth: 573.69GiB/s\n",
      "2021-08-12 06:53:36.626124: I tensorflow/stream_executor/cuda/cuda_gpu_executor.cc:937] successful NUMA node read from SysFS had negative value (-1), but there must be at least one NUMA node, so returning NUMA node zero\n",
      "2021-08-12 06:53:36.627457: I tensorflow/stream_executor/cuda/cuda_gpu_executor.cc:937] successful NUMA node read from SysFS had negative value (-1), but there must be at least one NUMA node, so returning NUMA node zero\n",
      "2021-08-12 06:53:36.628625: I tensorflow/core/common_runtime/gpu/gpu_device.cc:1871] Adding visible gpu devices: 0\n",
      "2021-08-12 06:53:36.628868: I tensorflow/stream_executor/platform/default/dso_loader.cc:53] Successfully opened dynamic library libcudart.so.11.0\n",
      "2021-08-12 06:53:37.157209: I tensorflow/core/common_runtime/gpu/gpu_device.cc:1258] Device interconnect StreamExecutor with strength 1 edge matrix:\n",
      "2021-08-12 06:53:37.157232: I tensorflow/core/common_runtime/gpu/gpu_device.cc:1264]      0 \n",
      "2021-08-12 06:53:37.157235: I tensorflow/core/common_runtime/gpu/gpu_device.cc:1277] 0:   N \n",
      "2021-08-12 06:53:37.157396: I tensorflow/stream_executor/cuda/cuda_gpu_executor.cc:937] successful NUMA node read from SysFS had negative value (-1), but there must be at least one NUMA node, so returning NUMA node zero\n",
      "2021-08-12 06:53:37.157852: I tensorflow/stream_executor/cuda/cuda_gpu_executor.cc:937] successful NUMA node read from SysFS had negative value (-1), but there must be at least one NUMA node, so returning NUMA node zero\n",
      "2021-08-12 06:53:37.158270: I tensorflow/stream_executor/cuda/cuda_gpu_executor.cc:937] successful NUMA node read from SysFS had negative value (-1), but there must be at least one NUMA node, so returning NUMA node zero\n",
      "2021-08-12 06:53:37.158678: I tensorflow/core/common_runtime/gpu/gpu_device.cc:1418] Created TensorFlow device (/job:localhost/replica:0/task:0/device:GPU:0 with 9276 MB memory) -> physical GPU (device: 0, name: NVIDIA GeForce RTX 2080 Ti, pci bus id: 0000:02:00.0, compute capability: 7.5)\n"
     ]
    }
   ],
   "source": [
    "def make_DNN():\n",
    "    print(\"make_DNN\")\n",
    "    print(\"input shape:\",INPUT_SHAPE)\n",
    "    dnn = Sequential()\n",
    "    #dnn.add(Embedding(input_dim=INPUT_SHAPE,output_dim=INPUT_SHAPE)) \n",
    "    dnn.add(Conv1D(filters=FILTERS,kernel_size=WIDTH,strides=STRIDE,padding=\"same\",\n",
    "            input_shape=INPUT_SHAPE))\n",
    "    dnn.add(Conv1D(filters=FILTERS,kernel_size=WIDTH,strides=STRIDE,padding=\"same\"))\n",
    "    dnn.add(MaxPooling1D())\n",
    "    dnn.add(Conv1D(filters=FILTERS,kernel_size=WIDTH,strides=STRIDE,padding=\"same\"))\n",
    "    dnn.add(Conv1D(filters=FILTERS,kernel_size=WIDTH,strides=STRIDE,padding=\"same\"))\n",
    "    dnn.add(MaxPooling1D())\n",
    "    dnn.add(Flatten())\n",
    "    dnn.add(Dense(NEURONS,activation=\"sigmoid\",dtype=np.float32))   \n",
    "    dnn.add(Dropout(DROP_RATE))\n",
    "    dnn.add(Dense(1,activation=\"sigmoid\",dtype=np.float32))   \n",
    "    dnn.compile(optimizer='adam',\n",
    "                loss=BinaryCrossentropy(from_logits=False),\n",
    "                metrics=['accuracy'])   # add to default metrics=loss\n",
    "    dnn.build(input_shape=INPUT_SHAPE)\n",
    "    #ln_rate = tf.keras.optimizers.Adam(learning_rate = LN_RATE)\n",
    "    #bc=tf.keras.losses.BinaryCrossentropy(from_logits=False)\n",
    "    #model.compile(loss=bc, optimizer=ln_rate, metrics=[\"accuracy\"])\n",
    "    return dnn\n",
    "model = make_DNN()\n",
    "print(model.summary())"
   ]
  },
  {
   "cell_type": "code",
   "execution_count": 10,
   "metadata": {
    "id": "nlVF0hR3j2UW"
   },
   "outputs": [],
   "source": [
    "from keras.callbacks import ModelCheckpoint\n",
    "def do_cross_validation(X,y):\n",
    "    cv_scores = []\n",
    "    fold=0\n",
    "    mycallbacks = [ModelCheckpoint(\n",
    "        filepath=MODELPATH, save_best_only=True, \n",
    "        monitor='val_accuracy', mode='max')]   \n",
    "    splitter = KFold(n_splits=SPLITS)  # this does not shuffle\n",
    "    for train_index,valid_index in splitter.split(X):\n",
    "        if fold < FOLDS:\n",
    "            fold += 1\n",
    "            X_train=X[train_index] # inputs for training\n",
    "            y_train=y[train_index] # labels for training\n",
    "            X_valid=X[valid_index] # inputs for validation\n",
    "            y_valid=y[valid_index] # labels for validation\n",
    "            print(\"MODEL\")\n",
    "            # Call constructor on each CV. Else, continually improves the same model.\n",
    "            model = model = make_DNN()\n",
    "            print(\"FIT\")  # model.fit() implements learning\n",
    "            start_time=time.time()\n",
    "            history=model.fit(X_train, y_train, \n",
    "                    epochs=EPOCHS, \n",
    "                    verbose=1,  # ascii art while learning\n",
    "                    callbacks=mycallbacks,   # called at end of each epoch\n",
    "                    validation_data=(X_valid,y_valid))\n",
    "            end_time=time.time()\n",
    "            elapsed_time=(end_time-start_time)                        \n",
    "            print(\"Fold %d, %d epochs, %d sec\"%(fold,EPOCHS,elapsed_time))\n",
    "            # print(history.history.keys())  # all these keys will be shown in figure\n",
    "            pd.DataFrame(history.history).plot(figsize=(8,5))\n",
    "            plt.grid(True)\n",
    "            plt.gca().set_ylim(0,1) # any losses > 1 will be off the scale\n",
    "            plt.show()\n"
   ]
  },
  {
   "cell_type": "code",
   "execution_count": 11,
   "metadata": {
    "colab": {
     "base_uri": "https://localhost:8080/",
     "height": 1000
    },
    "id": "9Ggt4EsSj2UY",
    "outputId": "62162f1f-b5a2-401e-de35-15ccbe70a6ce"
   },
   "outputs": [
    {
     "name": "stdout",
     "output_type": "stream",
     "text": [
      "MODEL\n",
      "make_DNN\n",
      "input shape: (32, 4)\n",
      "FIT\n",
      "Epoch 1/100\n"
     ]
    },
    {
     "name": "stderr",
     "output_type": "stream",
     "text": [
      "2021-08-12 06:53:37.399489: I tensorflow/compiler/mlir/mlir_graph_optimization_pass.cc:176] None of the MLIR Optimization Passes are enabled (registered 2)\n",
      "2021-08-12 06:53:37.420090: I tensorflow/core/platform/profile_utils/cpu_utils.cc:114] CPU Frequency: 2496000000 Hz\n",
      "2021-08-12 06:53:44.212633: I tensorflow/stream_executor/platform/default/dso_loader.cc:53] Successfully opened dynamic library libcudnn.so.8\n",
      "2021-08-12 06:53:44.427977: I tensorflow/stream_executor/cuda/cuda_dnn.cc:359] Loaded cuDNN version 8202\n",
      "2021-08-12 06:53:44.902989: I tensorflow/stream_executor/platform/default/dso_loader.cc:53] Successfully opened dynamic library libcublas.so.11\n",
      "2021-08-12 06:53:45.466402: I tensorflow/stream_executor/platform/default/dso_loader.cc:53] Successfully opened dynamic library libcublasLt.so.11\n"
     ]
    },
    {
     "name": "stdout",
     "output_type": "stream",
     "text": [
      "417/417 [==============================] - 9s 3ms/step - loss: 0.6603 - accuracy: 0.5943 - val_loss: 0.5502 - val_accuracy: 0.7306\n"
     ]
    },
    {
     "name": "stderr",
     "output_type": "stream",
     "text": [
      "2021-08-12 06:53:47.026266: W tensorflow/python/util/util.cc:348] Sets are not currently considered sequences, but this may change in the future, so consider avoiding using them.\n"
     ]
    },
    {
     "name": "stdout",
     "output_type": "stream",
     "text": [
      "INFO:tensorflow:Assets written to: BestModel/assets\n",
      "Epoch 2/100\n",
      "417/417 [==============================] - 1s 2ms/step - loss: 0.5327 - accuracy: 0.7411 - val_loss: 0.4886 - val_accuracy: 0.7558\n",
      "INFO:tensorflow:Assets written to: BestModel/assets\n",
      "Epoch 3/100\n",
      "417/417 [==============================] - 1s 2ms/step - loss: 0.4646 - accuracy: 0.7698 - val_loss: 0.4506 - val_accuracy: 0.7791\n",
      "INFO:tensorflow:Assets written to: BestModel/assets\n",
      "Epoch 4/100\n",
      "417/417 [==============================] - 1s 2ms/step - loss: 0.4090 - accuracy: 0.8084 - val_loss: 0.3952 - val_accuracy: 0.8223\n",
      "INFO:tensorflow:Assets written to: BestModel/assets\n",
      "Epoch 5/100\n",
      "417/417 [==============================] - 1s 2ms/step - loss: 0.3699 - accuracy: 0.8417 - val_loss: 0.3666 - val_accuracy: 0.8412\n",
      "INFO:tensorflow:Assets written to: BestModel/assets\n",
      "Epoch 6/100\n",
      "417/417 [==============================] - 1s 2ms/step - loss: 0.3414 - accuracy: 0.8564 - val_loss: 0.3437 - val_accuracy: 0.8527\n",
      "INFO:tensorflow:Assets written to: BestModel/assets\n",
      "Epoch 7/100\n",
      "417/417 [==============================] - 1s 2ms/step - loss: 0.3149 - accuracy: 0.8745 - val_loss: 0.3268 - val_accuracy: 0.8620\n",
      "INFO:tensorflow:Assets written to: BestModel/assets\n",
      "Epoch 8/100\n",
      "417/417 [==============================] - 1s 2ms/step - loss: 0.2819 - accuracy: 0.8916 - val_loss: 0.3189 - val_accuracy: 0.8674\n",
      "INFO:tensorflow:Assets written to: BestModel/assets\n",
      "Epoch 9/100\n",
      "417/417 [==============================] - 1s 2ms/step - loss: 0.2714 - accuracy: 0.8945 - val_loss: 0.3081 - val_accuracy: 0.8751\n",
      "INFO:tensorflow:Assets written to: BestModel/assets\n",
      "Epoch 10/100\n",
      "417/417 [==============================] - 1s 2ms/step - loss: 0.2538 - accuracy: 0.9046 - val_loss: 0.2985 - val_accuracy: 0.8776\n",
      "INFO:tensorflow:Assets written to: BestModel/assets\n",
      "Epoch 11/100\n",
      "417/417 [==============================] - 1s 2ms/step - loss: 0.2403 - accuracy: 0.9137 - val_loss: 0.2941 - val_accuracy: 0.8818\n",
      "INFO:tensorflow:Assets written to: BestModel/assets\n",
      "Epoch 12/100\n",
      "417/417 [==============================] - 1s 2ms/step - loss: 0.2274 - accuracy: 0.9135 - val_loss: 0.3048 - val_accuracy: 0.8781\n",
      "Epoch 13/100\n",
      "417/417 [==============================] - 1s 2ms/step - loss: 0.2194 - accuracy: 0.9163 - val_loss: 0.2828 - val_accuracy: 0.8878\n",
      "INFO:tensorflow:Assets written to: BestModel/assets\n",
      "Epoch 14/100\n",
      "417/417 [==============================] - 1s 2ms/step - loss: 0.2073 - accuracy: 0.9246 - val_loss: 0.2785 - val_accuracy: 0.8869\n",
      "Epoch 15/100\n",
      "417/417 [==============================] - 1s 2ms/step - loss: 0.2084 - accuracy: 0.9211 - val_loss: 0.2766 - val_accuracy: 0.8862\n",
      "Epoch 16/100\n",
      "417/417 [==============================] - 1s 2ms/step - loss: 0.1922 - accuracy: 0.9325 - val_loss: 0.2738 - val_accuracy: 0.8928\n",
      "INFO:tensorflow:Assets written to: BestModel/assets\n",
      "Epoch 17/100\n",
      "417/417 [==============================] - 1s 2ms/step - loss: 0.1877 - accuracy: 0.9330 - val_loss: 0.2823 - val_accuracy: 0.8830\n",
      "Epoch 18/100\n",
      "417/417 [==============================] - 1s 2ms/step - loss: 0.1845 - accuracy: 0.9326 - val_loss: 0.2725 - val_accuracy: 0.8904\n",
      "Epoch 19/100\n",
      "417/417 [==============================] - 1s 2ms/step - loss: 0.1731 - accuracy: 0.9401 - val_loss: 0.2751 - val_accuracy: 0.8926\n",
      "Epoch 20/100\n",
      "417/417 [==============================] - 1s 2ms/step - loss: 0.1711 - accuracy: 0.9387 - val_loss: 0.2654 - val_accuracy: 0.8917\n",
      "Epoch 21/100\n",
      "417/417 [==============================] - 1s 2ms/step - loss: 0.1654 - accuracy: 0.9412 - val_loss: 0.2638 - val_accuracy: 0.8961\n",
      "INFO:tensorflow:Assets written to: BestModel/assets\n",
      "Epoch 22/100\n",
      "417/417 [==============================] - 1s 2ms/step - loss: 0.1585 - accuracy: 0.9437 - val_loss: 0.2682 - val_accuracy: 0.8917\n",
      "Epoch 23/100\n",
      "417/417 [==============================] - 1s 2ms/step - loss: 0.1560 - accuracy: 0.9461 - val_loss: 0.2752 - val_accuracy: 0.8889\n",
      "Epoch 24/100\n",
      "417/417 [==============================] - 1s 2ms/step - loss: 0.1566 - accuracy: 0.9463 - val_loss: 0.2683 - val_accuracy: 0.8941\n",
      "Epoch 25/100\n",
      "417/417 [==============================] - 1s 2ms/step - loss: 0.1453 - accuracy: 0.9517 - val_loss: 0.2740 - val_accuracy: 0.8940\n",
      "Epoch 26/100\n",
      "417/417 [==============================] - 1s 2ms/step - loss: 0.1536 - accuracy: 0.9460 - val_loss: 0.2700 - val_accuracy: 0.8935\n",
      "Epoch 27/100\n",
      "417/417 [==============================] - 1s 2ms/step - loss: 0.1428 - accuracy: 0.9498 - val_loss: 0.2706 - val_accuracy: 0.8920\n",
      "Epoch 28/100\n",
      "417/417 [==============================] - 1s 2ms/step - loss: 0.1359 - accuracy: 0.9534 - val_loss: 0.2663 - val_accuracy: 0.8944\n",
      "Epoch 29/100\n",
      "417/417 [==============================] - 1s 2ms/step - loss: 0.1223 - accuracy: 0.9612 - val_loss: 0.2695 - val_accuracy: 0.8952\n",
      "Epoch 30/100\n",
      "417/417 [==============================] - 1s 2ms/step - loss: 0.1353 - accuracy: 0.9520 - val_loss: 0.2824 - val_accuracy: 0.8955\n",
      "Epoch 31/100\n",
      "417/417 [==============================] - 1s 2ms/step - loss: 0.1240 - accuracy: 0.9580 - val_loss: 0.2805 - val_accuracy: 0.8895\n",
      "Epoch 32/100\n",
      "417/417 [==============================] - 1s 2ms/step - loss: 0.1255 - accuracy: 0.9594 - val_loss: 0.2694 - val_accuracy: 0.8970\n",
      "INFO:tensorflow:Assets written to: BestModel/assets\n",
      "Epoch 33/100\n",
      "417/417 [==============================] - 1s 2ms/step - loss: 0.1212 - accuracy: 0.9588 - val_loss: 0.2774 - val_accuracy: 0.8950\n",
      "Epoch 34/100\n",
      "417/417 [==============================] - 1s 2ms/step - loss: 0.1219 - accuracy: 0.9583 - val_loss: 0.2717 - val_accuracy: 0.8970\n",
      "Epoch 35/100\n",
      "417/417 [==============================] - 1s 2ms/step - loss: 0.1157 - accuracy: 0.9600 - val_loss: 0.2833 - val_accuracy: 0.8923\n",
      "Epoch 36/100\n",
      "417/417 [==============================] - 1s 2ms/step - loss: 0.1170 - accuracy: 0.9588 - val_loss: 0.2833 - val_accuracy: 0.8952\n",
      "Epoch 37/100\n",
      "417/417 [==============================] - 1s 2ms/step - loss: 0.1072 - accuracy: 0.9646 - val_loss: 0.2766 - val_accuracy: 0.8977\n",
      "INFO:tensorflow:Assets written to: BestModel/assets\n",
      "Epoch 38/100\n",
      "417/417 [==============================] - 1s 2ms/step - loss: 0.1088 - accuracy: 0.9640 - val_loss: 0.2890 - val_accuracy: 0.8907\n",
      "Epoch 39/100\n",
      "417/417 [==============================] - 1s 2ms/step - loss: 0.1082 - accuracy: 0.9650 - val_loss: 0.2807 - val_accuracy: 0.8937\n",
      "Epoch 40/100\n",
      "417/417 [==============================] - 1s 2ms/step - loss: 0.1086 - accuracy: 0.9637 - val_loss: 0.2712 - val_accuracy: 0.8971\n",
      "Epoch 41/100\n",
      "417/417 [==============================] - 1s 2ms/step - loss: 0.1067 - accuracy: 0.9664 - val_loss: 0.2777 - val_accuracy: 0.8953\n",
      "Epoch 42/100\n",
      "417/417 [==============================] - 1s 2ms/step - loss: 0.1034 - accuracy: 0.9654 - val_loss: 0.2841 - val_accuracy: 0.8946\n",
      "Epoch 43/100\n",
      "417/417 [==============================] - 1s 2ms/step - loss: 0.1001 - accuracy: 0.9667 - val_loss: 0.2885 - val_accuracy: 0.8910\n",
      "Epoch 44/100\n",
      "417/417 [==============================] - 1s 2ms/step - loss: 0.1055 - accuracy: 0.9650 - val_loss: 0.2818 - val_accuracy: 0.8953\n",
      "Epoch 45/100\n",
      "417/417 [==============================] - 1s 2ms/step - loss: 0.0953 - accuracy: 0.9696 - val_loss: 0.2884 - val_accuracy: 0.8964\n",
      "Epoch 46/100\n",
      "417/417 [==============================] - 1s 2ms/step - loss: 0.0989 - accuracy: 0.9667 - val_loss: 0.2897 - val_accuracy: 0.8925\n",
      "Epoch 47/100\n",
      "417/417 [==============================] - 1s 2ms/step - loss: 0.0932 - accuracy: 0.9708 - val_loss: 0.2864 - val_accuracy: 0.8926\n",
      "Epoch 48/100\n",
      "417/417 [==============================] - 1s 2ms/step - loss: 0.0886 - accuracy: 0.9708 - val_loss: 0.3024 - val_accuracy: 0.8910\n",
      "Epoch 49/100\n",
      "417/417 [==============================] - 1s 2ms/step - loss: 0.0985 - accuracy: 0.9664 - val_loss: 0.2853 - val_accuracy: 0.8920\n",
      "Epoch 50/100\n",
      "417/417 [==============================] - 1s 2ms/step - loss: 0.0947 - accuracy: 0.9691 - val_loss: 0.2931 - val_accuracy: 0.8968\n",
      "Epoch 51/100\n",
      "417/417 [==============================] - 1s 2ms/step - loss: 0.0865 - accuracy: 0.9726 - val_loss: 0.2918 - val_accuracy: 0.8952\n",
      "Epoch 52/100\n",
      "417/417 [==============================] - 1s 2ms/step - loss: 0.1013 - accuracy: 0.9628 - val_loss: 0.2896 - val_accuracy: 0.8929\n",
      "Epoch 53/100\n"
     ]
    },
    {
     "name": "stdout",
     "output_type": "stream",
     "text": [
      "417/417 [==============================] - 1s 2ms/step - loss: 0.0864 - accuracy: 0.9731 - val_loss: 0.2941 - val_accuracy: 0.8955\n",
      "Epoch 54/100\n",
      "417/417 [==============================] - 1s 2ms/step - loss: 0.0947 - accuracy: 0.9674 - val_loss: 0.2996 - val_accuracy: 0.8929\n",
      "Epoch 55/100\n",
      "417/417 [==============================] - 1s 2ms/step - loss: 0.0831 - accuracy: 0.9728 - val_loss: 0.2960 - val_accuracy: 0.8958\n",
      "Epoch 56/100\n",
      "417/417 [==============================] - 1s 2ms/step - loss: 0.0891 - accuracy: 0.9725 - val_loss: 0.3066 - val_accuracy: 0.8938\n",
      "Epoch 57/100\n",
      "417/417 [==============================] - 1s 2ms/step - loss: 0.0861 - accuracy: 0.9714 - val_loss: 0.3013 - val_accuracy: 0.8977\n",
      "Epoch 58/100\n",
      "417/417 [==============================] - 1s 2ms/step - loss: 0.0956 - accuracy: 0.9683 - val_loss: 0.3092 - val_accuracy: 0.8926\n",
      "Epoch 59/100\n",
      "417/417 [==============================] - 1s 2ms/step - loss: 0.0797 - accuracy: 0.9733 - val_loss: 0.3044 - val_accuracy: 0.8944\n",
      "Epoch 60/100\n",
      "417/417 [==============================] - 1s 2ms/step - loss: 0.0907 - accuracy: 0.9699 - val_loss: 0.3022 - val_accuracy: 0.8959\n",
      "Epoch 61/100\n",
      "417/417 [==============================] - 1s 2ms/step - loss: 0.0927 - accuracy: 0.9690 - val_loss: 0.3045 - val_accuracy: 0.8961\n",
      "Epoch 62/100\n",
      "417/417 [==============================] - 1s 2ms/step - loss: 0.0802 - accuracy: 0.9751 - val_loss: 0.3052 - val_accuracy: 0.8941\n",
      "Epoch 63/100\n",
      "417/417 [==============================] - 1s 2ms/step - loss: 0.0891 - accuracy: 0.9696 - val_loss: 0.3091 - val_accuracy: 0.8944\n",
      "Epoch 64/100\n",
      "417/417 [==============================] - 1s 2ms/step - loss: 0.0896 - accuracy: 0.9711 - val_loss: 0.3024 - val_accuracy: 0.8934\n",
      "Epoch 65/100\n",
      "417/417 [==============================] - 1s 2ms/step - loss: 0.0778 - accuracy: 0.9750 - val_loss: 0.3073 - val_accuracy: 0.8940\n",
      "Epoch 66/100\n",
      "417/417 [==============================] - 1s 2ms/step - loss: 0.0789 - accuracy: 0.9735 - val_loss: 0.3198 - val_accuracy: 0.8944\n",
      "Epoch 67/100\n",
      "417/417 [==============================] - 1s 2ms/step - loss: 0.0768 - accuracy: 0.9761 - val_loss: 0.3091 - val_accuracy: 0.8953\n",
      "Epoch 68/100\n",
      "417/417 [==============================] - 1s 2ms/step - loss: 0.0867 - accuracy: 0.9694 - val_loss: 0.3230 - val_accuracy: 0.8902\n",
      "Epoch 69/100\n",
      "417/417 [==============================] - 1s 2ms/step - loss: 0.0801 - accuracy: 0.9713 - val_loss: 0.3107 - val_accuracy: 0.8934\n",
      "Epoch 70/100\n",
      "417/417 [==============================] - 1s 2ms/step - loss: 0.0759 - accuracy: 0.9752 - val_loss: 0.3281 - val_accuracy: 0.8887\n",
      "Epoch 71/100\n",
      "417/417 [==============================] - 1s 2ms/step - loss: 0.0780 - accuracy: 0.9739 - val_loss: 0.3181 - val_accuracy: 0.8925\n",
      "Epoch 72/100\n",
      "417/417 [==============================] - 1s 2ms/step - loss: 0.0808 - accuracy: 0.9744 - val_loss: 0.3301 - val_accuracy: 0.8910\n",
      "Epoch 73/100\n",
      "417/417 [==============================] - 1s 2ms/step - loss: 0.0768 - accuracy: 0.9744 - val_loss: 0.3223 - val_accuracy: 0.8935\n",
      "Epoch 74/100\n",
      "417/417 [==============================] - 1s 2ms/step - loss: 0.0805 - accuracy: 0.9733 - val_loss: 0.3245 - val_accuracy: 0.8952\n",
      "Epoch 75/100\n",
      "417/417 [==============================] - 1s 2ms/step - loss: 0.0770 - accuracy: 0.9731 - val_loss: 0.3134 - val_accuracy: 0.8932\n",
      "Epoch 76/100\n",
      "417/417 [==============================] - 1s 2ms/step - loss: 0.0708 - accuracy: 0.9775 - val_loss: 0.3233 - val_accuracy: 0.8922\n",
      "Epoch 77/100\n",
      "417/417 [==============================] - 1s 2ms/step - loss: 0.0718 - accuracy: 0.9769 - val_loss: 0.3257 - val_accuracy: 0.8944\n",
      "Epoch 78/100\n",
      "417/417 [==============================] - 1s 2ms/step - loss: 0.0764 - accuracy: 0.9745 - val_loss: 0.3222 - val_accuracy: 0.8958\n",
      "Epoch 79/100\n",
      "417/417 [==============================] - 1s 2ms/step - loss: 0.0825 - accuracy: 0.9720 - val_loss: 0.3265 - val_accuracy: 0.8928\n",
      "Epoch 80/100\n",
      "417/417 [==============================] - 1s 2ms/step - loss: 0.0752 - accuracy: 0.9769 - val_loss: 0.3219 - val_accuracy: 0.8941\n",
      "Epoch 81/100\n",
      "417/417 [==============================] - 1s 2ms/step - loss: 0.0801 - accuracy: 0.9720 - val_loss: 0.3355 - val_accuracy: 0.8890\n",
      "Epoch 82/100\n",
      "417/417 [==============================] - 1s 2ms/step - loss: 0.0741 - accuracy: 0.9750 - val_loss: 0.3188 - val_accuracy: 0.8989\n",
      "INFO:tensorflow:Assets written to: BestModel/assets\n",
      "Epoch 83/100\n",
      "417/417 [==============================] - 1s 2ms/step - loss: 0.0740 - accuracy: 0.9742 - val_loss: 0.3278 - val_accuracy: 0.8925\n",
      "Epoch 84/100\n",
      "417/417 [==============================] - 1s 2ms/step - loss: 0.0679 - accuracy: 0.9788 - val_loss: 0.3212 - val_accuracy: 0.8979\n",
      "Epoch 85/100\n",
      "417/417 [==============================] - 1s 2ms/step - loss: 0.0720 - accuracy: 0.9735 - val_loss: 0.3244 - val_accuracy: 0.8949\n",
      "Epoch 86/100\n",
      "417/417 [==============================] - 1s 2ms/step - loss: 0.0683 - accuracy: 0.9797 - val_loss: 0.3336 - val_accuracy: 0.8944\n",
      "Epoch 87/100\n",
      "417/417 [==============================] - 1s 2ms/step - loss: 0.0657 - accuracy: 0.9786 - val_loss: 0.3337 - val_accuracy: 0.8940\n",
      "Epoch 88/100\n",
      "417/417 [==============================] - 1s 2ms/step - loss: 0.0736 - accuracy: 0.9774 - val_loss: 0.3363 - val_accuracy: 0.8976\n",
      "Epoch 89/100\n",
      "417/417 [==============================] - 1s 2ms/step - loss: 0.0775 - accuracy: 0.9739 - val_loss: 0.3307 - val_accuracy: 0.8923\n",
      "Epoch 90/100\n",
      "417/417 [==============================] - 1s 2ms/step - loss: 0.0714 - accuracy: 0.9754 - val_loss: 0.3306 - val_accuracy: 0.8929\n",
      "Epoch 91/100\n",
      "417/417 [==============================] - 1s 2ms/step - loss: 0.0706 - accuracy: 0.9771 - val_loss: 0.3374 - val_accuracy: 0.8898\n",
      "Epoch 92/100\n",
      "417/417 [==============================] - 1s 2ms/step - loss: 0.0759 - accuracy: 0.9764 - val_loss: 0.3320 - val_accuracy: 0.8961\n",
      "Epoch 93/100\n",
      "417/417 [==============================] - 1s 2ms/step - loss: 0.0658 - accuracy: 0.9786 - val_loss: 0.3252 - val_accuracy: 0.8944\n",
      "Epoch 94/100\n",
      "417/417 [==============================] - 1s 2ms/step - loss: 0.0666 - accuracy: 0.9796 - val_loss: 0.3341 - val_accuracy: 0.8955\n",
      "Epoch 95/100\n",
      "417/417 [==============================] - 1s 2ms/step - loss: 0.0721 - accuracy: 0.9783 - val_loss: 0.3370 - val_accuracy: 0.8935\n",
      "Epoch 96/100\n",
      "417/417 [==============================] - 1s 2ms/step - loss: 0.0706 - accuracy: 0.9775 - val_loss: 0.3412 - val_accuracy: 0.8934\n",
      "Epoch 97/100\n",
      "417/417 [==============================] - 1s 2ms/step - loss: 0.0646 - accuracy: 0.9803 - val_loss: 0.3321 - val_accuracy: 0.8970\n",
      "Epoch 98/100\n",
      "417/417 [==============================] - 1s 2ms/step - loss: 0.0668 - accuracy: 0.9798 - val_loss: 0.3336 - val_accuracy: 0.8971\n",
      "Epoch 99/100\n",
      "417/417 [==============================] - 1s 2ms/step - loss: 0.0649 - accuracy: 0.9780 - val_loss: 0.3432 - val_accuracy: 0.8941\n",
      "Epoch 100/100\n",
      "417/417 [==============================] - 1s 2ms/step - loss: 0.0702 - accuracy: 0.9775 - val_loss: 0.3512 - val_accuracy: 0.8914\n",
      "Fold 1, 100 epochs, 102 sec\n"
     ]
    },
    {
     "data": {
      "image/png": "[encoded data removed]",
      "text/plain": [
       "<Figure size 576x360 with 1 Axes>"
      ]
     },
     "metadata": {
      "needs_background": "light"
     },
     "output_type": "display_data"
    },
    {
     "name": "stdout",
     "output_type": "stream",
     "text": [
      "MODEL\n",
      "make_DNN\n",
      "input shape: (32, 4)\n",
      "FIT\n",
      "Epoch 1/100\n",
      "417/417 [==============================] - 2s 2ms/step - loss: 0.6323 - accuracy: 0.6350 - val_loss: 0.5349 - val_accuracy: 0.7449\n",
      "Epoch 2/100\n",
      "417/417 [==============================] - 1s 2ms/step - loss: 0.5087 - accuracy: 0.7537 - val_loss: 0.4711 - val_accuracy: 0.7795\n",
      "Epoch 3/100\n",
      "417/417 [==============================] - 1s 2ms/step - loss: 0.4355 - accuracy: 0.7988 - val_loss: 0.4203 - val_accuracy: 0.8011\n",
      "Epoch 4/100\n",
      "417/417 [==============================] - 1s 2ms/step - loss: 0.3842 - accuracy: 0.8366 - val_loss: 0.3765 - val_accuracy: 0.8301\n",
      "Epoch 5/100\n",
      "417/417 [==============================] - 1s 2ms/step - loss: 0.3480 - accuracy: 0.8494 - val_loss: 0.3498 - val_accuracy: 0.8466\n",
      "Epoch 6/100\n",
      "417/417 [==============================] - 1s 2ms/step - loss: 0.3177 - accuracy: 0.8656 - val_loss: 0.3345 - val_accuracy: 0.8556\n",
      "Epoch 7/100\n",
      "417/417 [==============================] - 1s 2ms/step - loss: 0.2919 - accuracy: 0.8814 - val_loss: 0.3246 - val_accuracy: 0.8548\n",
      "Epoch 8/100\n",
      "417/417 [==============================] - 1s 2ms/step - loss: 0.2785 - accuracy: 0.8868 - val_loss: 0.3147 - val_accuracy: 0.8628\n",
      "Epoch 9/100\n",
      "417/417 [==============================] - 1s 2ms/step - loss: 0.2676 - accuracy: 0.8928 - val_loss: 0.3081 - val_accuracy: 0.8635\n",
      "Epoch 10/100\n",
      "417/417 [==============================] - 1s 2ms/step - loss: 0.2523 - accuracy: 0.8982 - val_loss: 0.2999 - val_accuracy: 0.8746\n",
      "Epoch 11/100\n",
      "417/417 [==============================] - 1s 2ms/step - loss: 0.2411 - accuracy: 0.9042 - val_loss: 0.2943 - val_accuracy: 0.8700\n",
      "Epoch 12/100\n",
      "417/417 [==============================] - 1s 2ms/step - loss: 0.2355 - accuracy: 0.9080 - val_loss: 0.2892 - val_accuracy: 0.8716\n",
      "Epoch 13/100\n",
      "417/417 [==============================] - 1s 2ms/step - loss: 0.2143 - accuracy: 0.9193 - val_loss: 0.2830 - val_accuracy: 0.8761\n",
      "Epoch 14/100\n",
      "417/417 [==============================] - 1s 2ms/step - loss: 0.2179 - accuracy: 0.9171 - val_loss: 0.2782 - val_accuracy: 0.8805\n",
      "Epoch 15/100\n",
      "417/417 [==============================] - 1s 2ms/step - loss: 0.2088 - accuracy: 0.9220 - val_loss: 0.2785 - val_accuracy: 0.8824\n",
      "Epoch 16/100\n",
      "417/417 [==============================] - 1s 2ms/step - loss: 0.2014 - accuracy: 0.9229 - val_loss: 0.2746 - val_accuracy: 0.8854\n",
      "Epoch 17/100\n",
      "417/417 [==============================] - 1s 2ms/step - loss: 0.1928 - accuracy: 0.9252 - val_loss: 0.2747 - val_accuracy: 0.8823\n",
      "Epoch 18/100\n",
      "417/417 [==============================] - 1s 2ms/step - loss: 0.1834 - accuracy: 0.9323 - val_loss: 0.2736 - val_accuracy: 0.8827\n",
      "Epoch 19/100\n",
      "417/417 [==============================] - 1s 2ms/step - loss: 0.1837 - accuracy: 0.9300 - val_loss: 0.2667 - val_accuracy: 0.8895\n",
      "Epoch 20/100\n",
      "417/417 [==============================] - 1s 2ms/step - loss: 0.1776 - accuracy: 0.9338 - val_loss: 0.2685 - val_accuracy: 0.8877\n",
      "Epoch 21/100\n",
      "417/417 [==============================] - 1s 2ms/step - loss: 0.1675 - accuracy: 0.9372 - val_loss: 0.2656 - val_accuracy: 0.8908\n",
      "Epoch 22/100\n",
      "417/417 [==============================] - 1s 2ms/step - loss: 0.1636 - accuracy: 0.9369 - val_loss: 0.2670 - val_accuracy: 0.8881\n",
      "Epoch 23/100\n",
      "417/417 [==============================] - 1s 2ms/step - loss: 0.1560 - accuracy: 0.9433 - val_loss: 0.2734 - val_accuracy: 0.8886\n",
      "Epoch 24/100\n",
      "417/417 [==============================] - 1s 2ms/step - loss: 0.1556 - accuracy: 0.9445 - val_loss: 0.2711 - val_accuracy: 0.8887\n",
      "Epoch 25/100\n",
      "417/417 [==============================] - 1s 2ms/step - loss: 0.1587 - accuracy: 0.9432 - val_loss: 0.2681 - val_accuracy: 0.8863\n",
      "Epoch 26/100\n",
      "417/417 [==============================] - 1s 2ms/step - loss: 0.1476 - accuracy: 0.9482 - val_loss: 0.2660 - val_accuracy: 0.8890\n",
      "Epoch 27/100\n",
      "417/417 [==============================] - 1s 2ms/step - loss: 0.1401 - accuracy: 0.9512 - val_loss: 0.2755 - val_accuracy: 0.8868\n",
      "Epoch 28/100\n",
      "417/417 [==============================] - 1s 2ms/step - loss: 0.1381 - accuracy: 0.9505 - val_loss: 0.2713 - val_accuracy: 0.8898\n",
      "Epoch 29/100\n",
      "417/417 [==============================] - 1s 2ms/step - loss: 0.1288 - accuracy: 0.9561 - val_loss: 0.2679 - val_accuracy: 0.8904\n",
      "Epoch 30/100\n",
      "417/417 [==============================] - 1s 2ms/step - loss: 0.1312 - accuracy: 0.9552 - val_loss: 0.2741 - val_accuracy: 0.8872\n",
      "Epoch 31/100\n",
      "417/417 [==============================] - 1s 2ms/step - loss: 0.1357 - accuracy: 0.9511 - val_loss: 0.2627 - val_accuracy: 0.8902\n",
      "Epoch 32/100\n",
      "417/417 [==============================] - 1s 2ms/step - loss: 0.1240 - accuracy: 0.9551 - val_loss: 0.2668 - val_accuracy: 0.8928\n",
      "Epoch 33/100\n",
      "417/417 [==============================] - 1s 2ms/step - loss: 0.1214 - accuracy: 0.9595 - val_loss: 0.2659 - val_accuracy: 0.8922\n",
      "Epoch 34/100\n",
      "417/417 [==============================] - 1s 2ms/step - loss: 0.1219 - accuracy: 0.9572 - val_loss: 0.2702 - val_accuracy: 0.8911\n",
      "Epoch 35/100\n",
      "417/417 [==============================] - 1s 2ms/step - loss: 0.1186 - accuracy: 0.9596 - val_loss: 0.2704 - val_accuracy: 0.8943\n",
      "Epoch 36/100\n",
      "417/417 [==============================] - 1s 2ms/step - loss: 0.1135 - accuracy: 0.9601 - val_loss: 0.2705 - val_accuracy: 0.8905\n",
      "Epoch 37/100\n",
      "417/417 [==============================] - 1s 2ms/step - loss: 0.1145 - accuracy: 0.9591 - val_loss: 0.2793 - val_accuracy: 0.8895\n",
      "Epoch 38/100\n",
      "417/417 [==============================] - 1s 2ms/step - loss: 0.1112 - accuracy: 0.9601 - val_loss: 0.2648 - val_accuracy: 0.8940\n",
      "Epoch 39/100\n",
      "417/417 [==============================] - 1s 2ms/step - loss: 0.1059 - accuracy: 0.9658 - val_loss: 0.2778 - val_accuracy: 0.8887\n",
      "Epoch 40/100\n",
      "417/417 [==============================] - 1s 2ms/step - loss: 0.1076 - accuracy: 0.9646 - val_loss: 0.2889 - val_accuracy: 0.8868\n",
      "Epoch 41/100\n",
      "417/417 [==============================] - 1s 2ms/step - loss: 0.1049 - accuracy: 0.9635 - val_loss: 0.2875 - val_accuracy: 0.8928\n",
      "Epoch 42/100\n",
      "417/417 [==============================] - 1s 2ms/step - loss: 0.1068 - accuracy: 0.9629 - val_loss: 0.2795 - val_accuracy: 0.8926\n",
      "Epoch 43/100\n",
      "417/417 [==============================] - 1s 2ms/step - loss: 0.1029 - accuracy: 0.9643 - val_loss: 0.2803 - val_accuracy: 0.8920\n",
      "Epoch 44/100\n",
      "417/417 [==============================] - 1s 2ms/step - loss: 0.1008 - accuracy: 0.9664 - val_loss: 0.2823 - val_accuracy: 0.8896\n",
      "Epoch 45/100\n",
      "417/417 [==============================] - 1s 2ms/step - loss: 0.1008 - accuracy: 0.9623 - val_loss: 0.2803 - val_accuracy: 0.8904\n",
      "Epoch 46/100\n",
      "417/417 [==============================] - 1s 2ms/step - loss: 0.0987 - accuracy: 0.9670 - val_loss: 0.2884 - val_accuracy: 0.8895\n",
      "Epoch 47/100\n",
      "417/417 [==============================] - 1s 2ms/step - loss: 0.0905 - accuracy: 0.9711 - val_loss: 0.2907 - val_accuracy: 0.8950\n",
      "Epoch 48/100\n",
      "417/417 [==============================] - 1s 2ms/step - loss: 0.0885 - accuracy: 0.9686 - val_loss: 0.2870 - val_accuracy: 0.8907\n",
      "Epoch 49/100\n",
      "417/417 [==============================] - 1s 2ms/step - loss: 0.0956 - accuracy: 0.9696 - val_loss: 0.2907 - val_accuracy: 0.8929\n",
      "Epoch 50/100\n",
      "417/417 [==============================] - 1s 2ms/step - loss: 0.0886 - accuracy: 0.9698 - val_loss: 0.2882 - val_accuracy: 0.8923\n",
      "Epoch 51/100\n",
      "417/417 [==============================] - 1s 2ms/step - loss: 0.0907 - accuracy: 0.9712 - val_loss: 0.2908 - val_accuracy: 0.8914\n",
      "Epoch 52/100\n",
      "417/417 [==============================] - 1s 2ms/step - loss: 0.0895 - accuracy: 0.9712 - val_loss: 0.2855 - val_accuracy: 0.8929\n",
      "Epoch 53/100\n",
      "417/417 [==============================] - 1s 2ms/step - loss: 0.0931 - accuracy: 0.9681 - val_loss: 0.2856 - val_accuracy: 0.8955\n",
      "Epoch 54/100\n",
      "417/417 [==============================] - 1s 2ms/step - loss: 0.0863 - accuracy: 0.9719 - val_loss: 0.3097 - val_accuracy: 0.8893\n",
      "Epoch 55/100\n",
      "417/417 [==============================] - 1s 2ms/step - loss: 0.0885 - accuracy: 0.9713 - val_loss: 0.2959 - val_accuracy: 0.8917\n",
      "Epoch 56/100\n",
      "417/417 [==============================] - 1s 2ms/step - loss: 0.0842 - accuracy: 0.9733 - val_loss: 0.2882 - val_accuracy: 0.8907\n",
      "Epoch 57/100\n",
      "417/417 [==============================] - 1s 2ms/step - loss: 0.0882 - accuracy: 0.9726 - val_loss: 0.3023 - val_accuracy: 0.8872\n"
     ]
    },
    {
     "name": "stdout",
     "output_type": "stream",
     "text": [
      "Epoch 58/100\n",
      "417/417 [==============================] - 1s 2ms/step - loss: 0.0853 - accuracy: 0.9729 - val_loss: 0.2885 - val_accuracy: 0.8980\n",
      "Epoch 59/100\n",
      "417/417 [==============================] - 1s 2ms/step - loss: 0.0893 - accuracy: 0.9731 - val_loss: 0.3043 - val_accuracy: 0.8886\n",
      "Epoch 60/100\n",
      "417/417 [==============================] - 1s 2ms/step - loss: 0.0808 - accuracy: 0.9741 - val_loss: 0.3106 - val_accuracy: 0.8872\n",
      "Epoch 61/100\n",
      "417/417 [==============================] - 1s 2ms/step - loss: 0.0760 - accuracy: 0.9765 - val_loss: 0.3107 - val_accuracy: 0.8898\n",
      "Epoch 62/100\n",
      "417/417 [==============================] - 1s 2ms/step - loss: 0.0860 - accuracy: 0.9718 - val_loss: 0.3052 - val_accuracy: 0.8892\n",
      "Epoch 63/100\n",
      "417/417 [==============================] - 1s 2ms/step - loss: 0.0734 - accuracy: 0.9769 - val_loss: 0.3029 - val_accuracy: 0.8916\n",
      "Epoch 64/100\n",
      "417/417 [==============================] - 1s 2ms/step - loss: 0.0796 - accuracy: 0.9761 - val_loss: 0.3068 - val_accuracy: 0.8920\n",
      "Epoch 65/100\n",
      "417/417 [==============================] - 1s 2ms/step - loss: 0.0745 - accuracy: 0.9772 - val_loss: 0.3241 - val_accuracy: 0.8881\n",
      "Epoch 66/100\n",
      "417/417 [==============================] - 1s 2ms/step - loss: 0.0873 - accuracy: 0.9706 - val_loss: 0.3080 - val_accuracy: 0.8944\n",
      "Epoch 67/100\n",
      "417/417 [==============================] - 1s 2ms/step - loss: 0.0816 - accuracy: 0.9734 - val_loss: 0.3240 - val_accuracy: 0.8896\n",
      "Epoch 68/100\n",
      "417/417 [==============================] - 1s 2ms/step - loss: 0.0756 - accuracy: 0.9746 - val_loss: 0.3294 - val_accuracy: 0.8833\n",
      "Epoch 69/100\n",
      "417/417 [==============================] - 1s 2ms/step - loss: 0.0710 - accuracy: 0.9778 - val_loss: 0.3183 - val_accuracy: 0.8883\n",
      "Epoch 70/100\n",
      "417/417 [==============================] - 1s 2ms/step - loss: 0.0772 - accuracy: 0.9742 - val_loss: 0.3156 - val_accuracy: 0.8917\n",
      "Epoch 71/100\n",
      "417/417 [==============================] - 1s 2ms/step - loss: 0.0775 - accuracy: 0.9752 - val_loss: 0.3295 - val_accuracy: 0.8899\n",
      "Epoch 72/100\n",
      "417/417 [==============================] - 1s 2ms/step - loss: 0.0786 - accuracy: 0.9733 - val_loss: 0.3193 - val_accuracy: 0.8899\n",
      "Epoch 73/100\n",
      "417/417 [==============================] - 1s 2ms/step - loss: 0.0707 - accuracy: 0.9764 - val_loss: 0.3227 - val_accuracy: 0.8896\n",
      "Epoch 74/100\n",
      "417/417 [==============================] - 1s 2ms/step - loss: 0.0624 - accuracy: 0.9807 - val_loss: 0.3215 - val_accuracy: 0.8892\n",
      "Epoch 75/100\n",
      "417/417 [==============================] - 1s 2ms/step - loss: 0.0692 - accuracy: 0.9782 - val_loss: 0.3321 - val_accuracy: 0.8859\n",
      "Epoch 76/100\n",
      "417/417 [==============================] - 1s 2ms/step - loss: 0.0795 - accuracy: 0.9725 - val_loss: 0.3279 - val_accuracy: 0.8911\n",
      "Epoch 77/100\n",
      "417/417 [==============================] - 1s 2ms/step - loss: 0.0709 - accuracy: 0.9766 - val_loss: 0.3386 - val_accuracy: 0.8847\n",
      "Epoch 78/100\n",
      "417/417 [==============================] - 1s 2ms/step - loss: 0.0700 - accuracy: 0.9771 - val_loss: 0.3180 - val_accuracy: 0.8941\n",
      "Epoch 79/100\n",
      "417/417 [==============================] - 1s 2ms/step - loss: 0.0747 - accuracy: 0.9753 - val_loss: 0.3292 - val_accuracy: 0.8892\n",
      "Epoch 80/100\n",
      "417/417 [==============================] - 1s 2ms/step - loss: 0.0643 - accuracy: 0.9794 - val_loss: 0.3253 - val_accuracy: 0.8883\n",
      "Epoch 81/100\n",
      "417/417 [==============================] - 1s 2ms/step - loss: 0.0732 - accuracy: 0.9761 - val_loss: 0.3285 - val_accuracy: 0.8922\n",
      "Epoch 82/100\n",
      "417/417 [==============================] - 1s 2ms/step - loss: 0.0710 - accuracy: 0.9776 - val_loss: 0.3167 - val_accuracy: 0.8946\n",
      "Epoch 83/100\n",
      "417/417 [==============================] - 1s 2ms/step - loss: 0.0659 - accuracy: 0.9800 - val_loss: 0.3278 - val_accuracy: 0.8919\n",
      "Epoch 84/100\n",
      "417/417 [==============================] - 1s 2ms/step - loss: 0.0673 - accuracy: 0.9791 - val_loss: 0.3366 - val_accuracy: 0.8856\n",
      "Epoch 85/100\n",
      "417/417 [==============================] - 1s 2ms/step - loss: 0.0774 - accuracy: 0.9738 - val_loss: 0.3331 - val_accuracy: 0.8943\n",
      "Epoch 86/100\n",
      "417/417 [==============================] - 1s 2ms/step - loss: 0.0612 - accuracy: 0.9805 - val_loss: 0.3402 - val_accuracy: 0.8890\n",
      "Epoch 87/100\n",
      "417/417 [==============================] - 1s 2ms/step - loss: 0.0619 - accuracy: 0.9808 - val_loss: 0.3403 - val_accuracy: 0.8898\n",
      "Epoch 88/100\n",
      "417/417 [==============================] - 1s 2ms/step - loss: 0.0600 - accuracy: 0.9820 - val_loss: 0.3367 - val_accuracy: 0.8893\n",
      "Epoch 89/100\n",
      "417/417 [==============================] - 1s 2ms/step - loss: 0.0704 - accuracy: 0.9760 - val_loss: 0.3395 - val_accuracy: 0.8883\n",
      "Epoch 90/100\n",
      "417/417 [==============================] - 1s 2ms/step - loss: 0.0671 - accuracy: 0.9792 - val_loss: 0.3242 - val_accuracy: 0.8917\n",
      "Epoch 91/100\n",
      "417/417 [==============================] - 1s 2ms/step - loss: 0.0620 - accuracy: 0.9806 - val_loss: 0.3454 - val_accuracy: 0.8836\n",
      "Epoch 92/100\n",
      "417/417 [==============================] - 1s 2ms/step - loss: 0.0678 - accuracy: 0.9789 - val_loss: 0.3297 - val_accuracy: 0.8910\n",
      "Epoch 93/100\n",
      "417/417 [==============================] - 1s 2ms/step - loss: 0.0652 - accuracy: 0.9811 - val_loss: 0.3365 - val_accuracy: 0.8902\n",
      "Epoch 94/100\n",
      "417/417 [==============================] - 1s 2ms/step - loss: 0.0570 - accuracy: 0.9833 - val_loss: 0.3400 - val_accuracy: 0.8880\n",
      "Epoch 95/100\n",
      "417/417 [==============================] - 1s 2ms/step - loss: 0.0599 - accuracy: 0.9826 - val_loss: 0.3481 - val_accuracy: 0.8886\n",
      "Epoch 96/100\n",
      "417/417 [==============================] - 1s 2ms/step - loss: 0.0715 - accuracy: 0.9766 - val_loss: 0.3418 - val_accuracy: 0.8899\n",
      "Epoch 97/100\n",
      "417/417 [==============================] - 1s 2ms/step - loss: 0.0690 - accuracy: 0.9777 - val_loss: 0.3482 - val_accuracy: 0.8868\n",
      "Epoch 98/100\n",
      "417/417 [==============================] - 1s 2ms/step - loss: 0.0686 - accuracy: 0.9779 - val_loss: 0.3485 - val_accuracy: 0.8887\n",
      "Epoch 99/100\n",
      "417/417 [==============================] - 1s 2ms/step - loss: 0.0649 - accuracy: 0.9778 - val_loss: 0.3496 - val_accuracy: 0.8865\n",
      "Epoch 100/100\n",
      "417/417 [==============================] - 1s 2ms/step - loss: 0.0651 - accuracy: 0.9786 - val_loss: 0.3594 - val_accuracy: 0.8883\n",
      "Fold 2, 100 epochs, 85 sec\n"
     ]
    },
    {
     "data": {
      "image/png": "[encoded data removed]",
      "text/plain": [
       "<Figure size 576x360 with 1 Axes>"
      ]
     },
     "metadata": {
      "needs_background": "light"
     },
     "output_type": "display_data"
    },
    {
     "name": "stdout",
     "output_type": "stream",
     "text": [
      "MODEL\n",
      "make_DNN\n",
      "input shape: (32, 4)\n",
      "FIT\n",
      "Epoch 1/100\n",
      "417/417 [==============================] - 2s 3ms/step - loss: 0.6631 - accuracy: 0.5923 - val_loss: 0.5557 - val_accuracy: 0.7301\n",
      "Epoch 2/100\n",
      "417/417 [==============================] - 1s 2ms/step - loss: 0.5403 - accuracy: 0.7412 - val_loss: 0.4982 - val_accuracy: 0.7688\n",
      "Epoch 3/100\n",
      "417/417 [==============================] - 1s 2ms/step - loss: 0.4805 - accuracy: 0.7768 - val_loss: 0.4468 - val_accuracy: 0.7993\n",
      "Epoch 4/100\n",
      "417/417 [==============================] - 1s 2ms/step - loss: 0.4224 - accuracy: 0.8085 - val_loss: 0.4087 - val_accuracy: 0.8144\n",
      "Epoch 5/100\n",
      "417/417 [==============================] - 1s 2ms/step - loss: 0.3875 - accuracy: 0.8224 - val_loss: 0.3828 - val_accuracy: 0.8332\n",
      "Epoch 6/100\n",
      "417/417 [==============================] - 1s 2ms/step - loss: 0.3624 - accuracy: 0.8380 - val_loss: 0.3656 - val_accuracy: 0.8458\n",
      "Epoch 7/100\n",
      "417/417 [==============================] - 1s 2ms/step - loss: 0.3378 - accuracy: 0.8583 - val_loss: 0.3474 - val_accuracy: 0.8534\n",
      "Epoch 8/100\n",
      "417/417 [==============================] - 1s 2ms/step - loss: 0.3017 - accuracy: 0.8749 - val_loss: 0.3289 - val_accuracy: 0.8644\n",
      "Epoch 9/100\n",
      "417/417 [==============================] - 1s 2ms/step - loss: 0.2982 - accuracy: 0.8791 - val_loss: 0.3315 - val_accuracy: 0.8657\n",
      "Epoch 10/100\n",
      "417/417 [==============================] - 1s 2ms/step - loss: 0.2804 - accuracy: 0.8907 - val_loss: 0.3142 - val_accuracy: 0.8713\n",
      "Epoch 11/100\n",
      "417/417 [==============================] - 1s 2ms/step - loss: 0.2651 - accuracy: 0.8984 - val_loss: 0.3076 - val_accuracy: 0.8740\n",
      "Epoch 12/100\n",
      "417/417 [==============================] - 1s 2ms/step - loss: 0.2502 - accuracy: 0.9044 - val_loss: 0.3005 - val_accuracy: 0.8770\n",
      "Epoch 13/100\n",
      "417/417 [==============================] - 1s 2ms/step - loss: 0.2426 - accuracy: 0.9051 - val_loss: 0.2965 - val_accuracy: 0.8776\n",
      "Epoch 14/100\n",
      "417/417 [==============================] - 1s 2ms/step - loss: 0.2367 - accuracy: 0.9102 - val_loss: 0.2942 - val_accuracy: 0.8827\n",
      "Epoch 15/100\n",
      "417/417 [==============================] - 1s 2ms/step - loss: 0.2219 - accuracy: 0.9149 - val_loss: 0.2956 - val_accuracy: 0.8770\n",
      "Epoch 16/100\n",
      "417/417 [==============================] - 1s 2ms/step - loss: 0.2188 - accuracy: 0.9181 - val_loss: 0.2779 - val_accuracy: 0.8876\n",
      "Epoch 17/100\n",
      "417/417 [==============================] - 1s 2ms/step - loss: 0.1999 - accuracy: 0.9245 - val_loss: 0.2855 - val_accuracy: 0.8798\n",
      "Epoch 18/100\n",
      "417/417 [==============================] - 1s 2ms/step - loss: 0.2003 - accuracy: 0.9259 - val_loss: 0.2903 - val_accuracy: 0.8848\n",
      "Epoch 19/100\n",
      "417/417 [==============================] - 1s 2ms/step - loss: 0.1939 - accuracy: 0.9258 - val_loss: 0.2801 - val_accuracy: 0.8900\n",
      "Epoch 20/100\n",
      "417/417 [==============================] - 1s 2ms/step - loss: 0.1808 - accuracy: 0.9366 - val_loss: 0.2864 - val_accuracy: 0.8824\n",
      "Epoch 21/100\n",
      "417/417 [==============================] - 1s 2ms/step - loss: 0.1791 - accuracy: 0.9328 - val_loss: 0.2794 - val_accuracy: 0.8873\n",
      "Epoch 22/100\n",
      "417/417 [==============================] - 1s 2ms/step - loss: 0.1708 - accuracy: 0.9383 - val_loss: 0.2702 - val_accuracy: 0.8884\n",
      "Epoch 23/100\n",
      "417/417 [==============================] - 1s 2ms/step - loss: 0.1556 - accuracy: 0.9450 - val_loss: 0.2722 - val_accuracy: 0.8902\n",
      "Epoch 24/100\n",
      "417/417 [==============================] - 1s 2ms/step - loss: 0.1575 - accuracy: 0.9426 - val_loss: 0.2725 - val_accuracy: 0.8914\n",
      "Epoch 25/100\n",
      "417/417 [==============================] - 1s 2ms/step - loss: 0.1658 - accuracy: 0.9381 - val_loss: 0.2741 - val_accuracy: 0.8896\n",
      "Epoch 26/100\n",
      "417/417 [==============================] - 1s 2ms/step - loss: 0.1452 - accuracy: 0.9471 - val_loss: 0.2777 - val_accuracy: 0.8941\n",
      "Epoch 27/100\n",
      "417/417 [==============================] - 1s 2ms/step - loss: 0.1436 - accuracy: 0.9503 - val_loss: 0.2781 - val_accuracy: 0.8881\n",
      "Epoch 28/100\n",
      "417/417 [==============================] - 1s 2ms/step - loss: 0.1446 - accuracy: 0.9476 - val_loss: 0.2808 - val_accuracy: 0.8906\n",
      "Epoch 29/100\n",
      "417/417 [==============================] - 1s 2ms/step - loss: 0.1364 - accuracy: 0.9544 - val_loss: 0.2701 - val_accuracy: 0.8959\n",
      "Epoch 30/100\n",
      "417/417 [==============================] - 1s 2ms/step - loss: 0.1315 - accuracy: 0.9540 - val_loss: 0.2706 - val_accuracy: 0.8945\n",
      "Epoch 31/100\n",
      "417/417 [==============================] - 1s 2ms/step - loss: 0.1294 - accuracy: 0.9558 - val_loss: 0.2738 - val_accuracy: 0.8905\n",
      "Epoch 32/100\n",
      "417/417 [==============================] - 1s 2ms/step - loss: 0.1283 - accuracy: 0.9522 - val_loss: 0.2743 - val_accuracy: 0.8968\n",
      "Epoch 33/100\n",
      "417/417 [==============================] - 1s 2ms/step - loss: 0.1226 - accuracy: 0.9574 - val_loss: 0.2825 - val_accuracy: 0.8911\n",
      "Epoch 34/100\n",
      "417/417 [==============================] - 1s 2ms/step - loss: 0.1297 - accuracy: 0.9535 - val_loss: 0.2773 - val_accuracy: 0.8914\n",
      "Epoch 35/100\n",
      "417/417 [==============================] - 1s 2ms/step - loss: 0.1238 - accuracy: 0.9557 - val_loss: 0.2774 - val_accuracy: 0.8887\n",
      "Epoch 36/100\n",
      "417/417 [==============================] - 1s 2ms/step - loss: 0.1244 - accuracy: 0.9554 - val_loss: 0.2813 - val_accuracy: 0.8935\n",
      "Epoch 37/100\n",
      "417/417 [==============================] - 1s 2ms/step - loss: 0.1184 - accuracy: 0.9610 - val_loss: 0.2850 - val_accuracy: 0.8920\n",
      "Epoch 38/100\n",
      "417/417 [==============================] - 1s 2ms/step - loss: 0.1121 - accuracy: 0.9623 - val_loss: 0.2832 - val_accuracy: 0.8905\n",
      "Epoch 39/100\n",
      "417/417 [==============================] - 1s 2ms/step - loss: 0.1138 - accuracy: 0.9639 - val_loss: 0.2916 - val_accuracy: 0.8909\n",
      "Epoch 40/100\n",
      "417/417 [==============================] - 1s 2ms/step - loss: 0.1114 - accuracy: 0.9614 - val_loss: 0.2961 - val_accuracy: 0.8867\n",
      "Epoch 41/100\n",
      "417/417 [==============================] - 1s 2ms/step - loss: 0.1114 - accuracy: 0.9629 - val_loss: 0.2831 - val_accuracy: 0.8945\n",
      "Epoch 42/100\n",
      "417/417 [==============================] - 1s 2ms/step - loss: 0.1080 - accuracy: 0.9641 - val_loss: 0.2874 - val_accuracy: 0.8941\n",
      "Epoch 43/100\n",
      "417/417 [==============================] - 1s 2ms/step - loss: 0.0964 - accuracy: 0.9668 - val_loss: 0.2995 - val_accuracy: 0.8902\n",
      "Epoch 44/100\n",
      "417/417 [==============================] - 1s 2ms/step - loss: 0.0998 - accuracy: 0.9661 - val_loss: 0.2949 - val_accuracy: 0.8900\n",
      "Epoch 45/100\n",
      "417/417 [==============================] - 1s 2ms/step - loss: 0.1013 - accuracy: 0.9664 - val_loss: 0.2972 - val_accuracy: 0.8900\n",
      "Epoch 46/100\n",
      "417/417 [==============================] - 1s 2ms/step - loss: 0.1009 - accuracy: 0.9695 - val_loss: 0.2952 - val_accuracy: 0.8945\n",
      "Epoch 47/100\n",
      "417/417 [==============================] - 1s 2ms/step - loss: 0.0980 - accuracy: 0.9699 - val_loss: 0.2991 - val_accuracy: 0.8938\n",
      "Epoch 48/100\n",
      "417/417 [==============================] - 1s 2ms/step - loss: 0.0998 - accuracy: 0.9680 - val_loss: 0.3016 - val_accuracy: 0.8893\n",
      "Epoch 49/100\n",
      "417/417 [==============================] - 1s 2ms/step - loss: 0.1055 - accuracy: 0.9645 - val_loss: 0.3038 - val_accuracy: 0.8924\n",
      "Epoch 50/100\n",
      "417/417 [==============================] - 1s 2ms/step - loss: 0.0957 - accuracy: 0.9666 - val_loss: 0.3116 - val_accuracy: 0.8897\n",
      "Epoch 51/100\n",
      "417/417 [==============================] - 1s 2ms/step - loss: 0.0930 - accuracy: 0.9690 - val_loss: 0.3073 - val_accuracy: 0.8903\n",
      "Epoch 52/100\n",
      "417/417 [==============================] - 1s 2ms/step - loss: 0.0885 - accuracy: 0.9721 - val_loss: 0.3043 - val_accuracy: 0.8938\n",
      "Epoch 53/100\n",
      "417/417 [==============================] - 1s 2ms/step - loss: 0.0874 - accuracy: 0.9721 - val_loss: 0.3148 - val_accuracy: 0.8924\n",
      "Epoch 54/100\n",
      "417/417 [==============================] - 1s 2ms/step - loss: 0.0880 - accuracy: 0.9718 - val_loss: 0.3090 - val_accuracy: 0.8971\n",
      "Epoch 55/100\n",
      "417/417 [==============================] - 1s 2ms/step - loss: 0.0883 - accuracy: 0.9704 - val_loss: 0.3093 - val_accuracy: 0.8927\n",
      "Epoch 56/100\n",
      "417/417 [==============================] - 1s 2ms/step - loss: 0.0824 - accuracy: 0.9732 - val_loss: 0.3130 - val_accuracy: 0.8939\n",
      "Epoch 57/100\n",
      "417/417 [==============================] - 1s 2ms/step - loss: 0.0849 - accuracy: 0.9728 - val_loss: 0.3153 - val_accuracy: 0.8909\n"
     ]
    },
    {
     "name": "stdout",
     "output_type": "stream",
     "text": [
      "Epoch 58/100\n",
      "417/417 [==============================] - 1s 2ms/step - loss: 0.0814 - accuracy: 0.9719 - val_loss: 0.3085 - val_accuracy: 0.8941\n",
      "Epoch 59/100\n",
      "417/417 [==============================] - 1s 2ms/step - loss: 0.0805 - accuracy: 0.9747 - val_loss: 0.3171 - val_accuracy: 0.8969\n",
      "Epoch 60/100\n",
      "417/417 [==============================] - 1s 2ms/step - loss: 0.0841 - accuracy: 0.9741 - val_loss: 0.3208 - val_accuracy: 0.8927\n",
      "Epoch 61/100\n",
      "417/417 [==============================] - 1s 2ms/step - loss: 0.0864 - accuracy: 0.9700 - val_loss: 0.3276 - val_accuracy: 0.8924\n",
      "Epoch 62/100\n",
      "417/417 [==============================] - 1s 2ms/step - loss: 0.0840 - accuracy: 0.9727 - val_loss: 0.3249 - val_accuracy: 0.8917\n",
      "Epoch 63/100\n",
      "417/417 [==============================] - 1s 2ms/step - loss: 0.0822 - accuracy: 0.9735 - val_loss: 0.3287 - val_accuracy: 0.8917\n",
      "Epoch 64/100\n",
      "417/417 [==============================] - 1s 2ms/step - loss: 0.0731 - accuracy: 0.9784 - val_loss: 0.3306 - val_accuracy: 0.8876\n",
      "Epoch 65/100\n",
      "417/417 [==============================] - 1s 2ms/step - loss: 0.0851 - accuracy: 0.9722 - val_loss: 0.3327 - val_accuracy: 0.8869\n",
      "Epoch 66/100\n",
      "417/417 [==============================] - 1s 2ms/step - loss: 0.0779 - accuracy: 0.9742 - val_loss: 0.3304 - val_accuracy: 0.8902\n",
      "Epoch 67/100\n",
      "417/417 [==============================] - 1s 2ms/step - loss: 0.0718 - accuracy: 0.9778 - val_loss: 0.3293 - val_accuracy: 0.8894\n",
      "Epoch 68/100\n",
      "417/417 [==============================] - 1s 2ms/step - loss: 0.0807 - accuracy: 0.9739 - val_loss: 0.3315 - val_accuracy: 0.8894\n",
      "Epoch 69/100\n",
      "417/417 [==============================] - 1s 2ms/step - loss: 0.0821 - accuracy: 0.9715 - val_loss: 0.3274 - val_accuracy: 0.8947\n",
      "Epoch 70/100\n",
      "417/417 [==============================] - 1s 2ms/step - loss: 0.0764 - accuracy: 0.9750 - val_loss: 0.3261 - val_accuracy: 0.8975\n",
      "Epoch 71/100\n",
      "417/417 [==============================] - 1s 2ms/step - loss: 0.0736 - accuracy: 0.9785 - val_loss: 0.3490 - val_accuracy: 0.8885\n",
      "Epoch 72/100\n",
      "417/417 [==============================] - 1s 2ms/step - loss: 0.0783 - accuracy: 0.9736 - val_loss: 0.3413 - val_accuracy: 0.8924\n",
      "Epoch 73/100\n",
      "417/417 [==============================] - 1s 2ms/step - loss: 0.0765 - accuracy: 0.9757 - val_loss: 0.3533 - val_accuracy: 0.8927\n",
      "Epoch 74/100\n",
      "417/417 [==============================] - 1s 2ms/step - loss: 0.0799 - accuracy: 0.9732 - val_loss: 0.3388 - val_accuracy: 0.8936\n",
      "Epoch 75/100\n",
      "417/417 [==============================] - 1s 2ms/step - loss: 0.0747 - accuracy: 0.9753 - val_loss: 0.3456 - val_accuracy: 0.8909\n",
      "Epoch 76/100\n",
      "417/417 [==============================] - 1s 2ms/step - loss: 0.0705 - accuracy: 0.9782 - val_loss: 0.3499 - val_accuracy: 0.8897\n",
      "Epoch 77/100\n",
      "417/417 [==============================] - 1s 2ms/step - loss: 0.0695 - accuracy: 0.9772 - val_loss: 0.3449 - val_accuracy: 0.8882\n",
      "Epoch 78/100\n",
      "417/417 [==============================] - 1s 2ms/step - loss: 0.0817 - accuracy: 0.9722 - val_loss: 0.3514 - val_accuracy: 0.8885\n",
      "Epoch 79/100\n",
      "417/417 [==============================] - 1s 2ms/step - loss: 0.0758 - accuracy: 0.9757 - val_loss: 0.3430 - val_accuracy: 0.8909\n",
      "Epoch 80/100\n",
      "417/417 [==============================] - 1s 2ms/step - loss: 0.0660 - accuracy: 0.9796 - val_loss: 0.3435 - val_accuracy: 0.8930\n",
      "Epoch 81/100\n",
      "417/417 [==============================] - 1s 2ms/step - loss: 0.0665 - accuracy: 0.9795 - val_loss: 0.3477 - val_accuracy: 0.8930\n",
      "Epoch 82/100\n",
      "417/417 [==============================] - 1s 2ms/step - loss: 0.0738 - accuracy: 0.9750 - val_loss: 0.3489 - val_accuracy: 0.8920\n",
      "Epoch 83/100\n",
      "417/417 [==============================] - 1s 2ms/step - loss: 0.0708 - accuracy: 0.9776 - val_loss: 0.3505 - val_accuracy: 0.8896\n",
      "Epoch 84/100\n",
      "417/417 [==============================] - 1s 2ms/step - loss: 0.0669 - accuracy: 0.9796 - val_loss: 0.3524 - val_accuracy: 0.8870\n",
      "Epoch 85/100\n",
      "417/417 [==============================] - 1s 2ms/step - loss: 0.0655 - accuracy: 0.9807 - val_loss: 0.3525 - val_accuracy: 0.8911\n",
      "Epoch 86/100\n",
      "417/417 [==============================] - 1s 2ms/step - loss: 0.0664 - accuracy: 0.9797 - val_loss: 0.3579 - val_accuracy: 0.8915\n",
      "Epoch 87/100\n",
      "417/417 [==============================] - 1s 2ms/step - loss: 0.0699 - accuracy: 0.9773 - val_loss: 0.3640 - val_accuracy: 0.8864\n",
      "Epoch 88/100\n",
      "417/417 [==============================] - 1s 2ms/step - loss: 0.0806 - accuracy: 0.9711 - val_loss: 0.3530 - val_accuracy: 0.8920\n",
      "Epoch 89/100\n",
      "417/417 [==============================] - 1s 2ms/step - loss: 0.0704 - accuracy: 0.9781 - val_loss: 0.3488 - val_accuracy: 0.8912\n",
      "Epoch 90/100\n",
      "417/417 [==============================] - 1s 2ms/step - loss: 0.0702 - accuracy: 0.9782 - val_loss: 0.3556 - val_accuracy: 0.8879\n",
      "Epoch 91/100\n",
      "417/417 [==============================] - 1s 2ms/step - loss: 0.0566 - accuracy: 0.9840 - val_loss: 0.3667 - val_accuracy: 0.8873\n",
      "Epoch 92/100\n",
      "417/417 [==============================] - 1s 2ms/step - loss: 0.0674 - accuracy: 0.9789 - val_loss: 0.3726 - val_accuracy: 0.8924\n",
      "Epoch 93/100\n",
      "417/417 [==============================] - 1s 2ms/step - loss: 0.0755 - accuracy: 0.9760 - val_loss: 0.3643 - val_accuracy: 0.8878\n",
      "Epoch 94/100\n",
      "417/417 [==============================] - 1s 2ms/step - loss: 0.0671 - accuracy: 0.9771 - val_loss: 0.3592 - val_accuracy: 0.8908\n",
      "Epoch 95/100\n",
      "417/417 [==============================] - 1s 2ms/step - loss: 0.0746 - accuracy: 0.9737 - val_loss: 0.3636 - val_accuracy: 0.8902\n",
      "Epoch 96/100\n",
      "417/417 [==============================] - 1s 2ms/step - loss: 0.0611 - accuracy: 0.9809 - val_loss: 0.3788 - val_accuracy: 0.8908\n",
      "Epoch 97/100\n",
      "417/417 [==============================] - 1s 2ms/step - loss: 0.0569 - accuracy: 0.9843 - val_loss: 0.3715 - val_accuracy: 0.8848\n",
      "Epoch 98/100\n",
      "417/417 [==============================] - 1s 2ms/step - loss: 0.0658 - accuracy: 0.9793 - val_loss: 0.3670 - val_accuracy: 0.8876\n",
      "Epoch 99/100\n",
      "417/417 [==============================] - 1s 2ms/step - loss: 0.0646 - accuracy: 0.9808 - val_loss: 0.3737 - val_accuracy: 0.8879\n",
      "Epoch 100/100\n",
      "417/417 [==============================] - 1s 2ms/step - loss: 0.0672 - accuracy: 0.9766 - val_loss: 0.3673 - val_accuracy: 0.8891\n",
      "Fold 3, 100 epochs, 85 sec\n"
     ]
    },
    {
     "data": {
      "image/png": "[encoded data removed]",
      "text/plain": [
       "<Figure size 576x360 with 1 Axes>"
      ]
     },
     "metadata": {
      "needs_background": "light"
     },
     "output_type": "display_data"
    }
   ],
   "source": [
    "do_cross_validation(X,y)"
   ]
  },
  {
   "cell_type": "code",
   "execution_count": 12,
   "metadata": {
    "colab": {
     "base_uri": "https://localhost:8080/"
    },
    "id": "e-jG1h5fj2Ua",
    "outputId": "fe5bba6f-3995-4622-8b5f-04cad4adbc60"
   },
   "outputs": [
    {
     "name": "stdout",
     "output_type": "stream",
     "text": [
      "The best model parameters were saved during cross-validation.\n",
      "Best was defined as maximum validation accuracy at end of any epoch.\n",
      "Now re-load the best model and test it on previously unseen data.\n",
      "Test on 1000 PC seqs\n",
      "Test on 1000 NC seqs\n",
      "accuracy: 89.85%\n"
     ]
    }
   ],
   "source": [
    "from keras.models import load_model\n",
    "X,y = prepare_inputs_len_x_alphabet(pc_test,nc_test,ALPHABET)\n",
    "best_model=load_model(MODELPATH)\n",
    "scores = best_model.evaluate(X, y, verbose=0)\n",
    "print(\"The best model parameters were saved during cross-validation.\")\n",
    "print(\"Best was defined as maximum validation accuracy at end of any epoch.\")\n",
    "print(\"Now re-load the best model and test it on previously unseen data.\")\n",
    "print(\"Test on\",len(pc_test),\"PC seqs\")\n",
    "print(\"Test on\",len(nc_test),\"NC seqs\")\n",
    "print(\"%s: %.2f%%\" % (best_model.metrics_names[1], scores[1]*100))\n"
   ]
  },
  {
   "cell_type": "code",
   "execution_count": 13,
   "metadata": {
    "colab": {
     "base_uri": "https://localhost:8080/",
     "height": 313
    },
    "id": "VycUnmvUj2Ue",
    "outputId": "4707f5bf-b885-4be2-fbaf-85e95855da7c"
   },
   "outputs": [
    {
     "data": {
      "image/png": "[encoded data removed]",
      "text/plain": [
       "<Figure size 432x288 with 1 Axes>"
      ]
     },
     "metadata": {
      "needs_background": "light"
     },
     "output_type": "display_data"
    },
    {
     "name": "stdout",
     "output_type": "stream",
     "text": [
      "AUC: 96.19%\n"
     ]
    }
   ],
   "source": [
    "from sklearn.metrics import roc_curve\n",
    "from sklearn.metrics import roc_auc_score\n",
    "ns_probs = [0 for _ in range(len(y))]\n",
    "bm_probs = best_model.predict(X)\n",
    "ns_auc = roc_auc_score(y, ns_probs)\n",
    "bm_auc = roc_auc_score(y, bm_probs)\n",
    "ns_fpr, ns_tpr, _ = roc_curve(y, ns_probs)\n",
    "bm_fpr, bm_tpr, _ = roc_curve(y, bm_probs)\n",
    "plt.plot(ns_fpr, ns_tpr, linestyle='--', label='Guess, auc=%.4f'%ns_auc)\n",
    "plt.plot(bm_fpr, bm_tpr, marker='.', label='Model, auc=%.4f'%bm_auc)\n",
    "plt.title('ROC')\n",
    "plt.xlabel('False Positive Rate')\n",
    "plt.ylabel('True Positive Rate')\n",
    "plt.legend()\n",
    "plt.show()\n",
    "print(\"%s: %.2f%%\" %('AUC',bm_auc*100.0))\n"
   ]
  },
  {
   "cell_type": "code",
   "execution_count": 14,
   "metadata": {
    "colab": {
     "base_uri": "https://localhost:8080/",
     "height": 36
    },
    "id": "kFMb6rGNj2Ug",
    "outputId": "a638bab7-a1fd-48f0-f223-704f8f0c93cd"
   },
   "outputs": [
    {
     "data": {
      "text/plain": [
       "'2021-08-12 06:58:12 EDT'"
      ]
     },
     "execution_count": 14,
     "metadata": {},
     "output_type": "execute_result"
    }
   ],
   "source": [
    "t = time.time()\n",
    "time.strftime('%Y-%m-%d %H:%M:%S %Z', time.localtime(t))"
   ]
  },
  {
   "cell_type": "code",
   "execution_count": null,
   "metadata": {
    "id": "e-mEgDrQjUzF"
   },
   "outputs": [],
   "source": []
  }
 ],
 "metadata": {
  "accelerator": "GPU",
  "colab": {
   "collapsed_sections": [],
   "name": "ORF_CNN_133a.ipynb",
   "provenance": []
  },
  "kernelspec": {
   "display_name": "Python 3 (ipykernel)",
   "language": "python",
   "name": "python3"
  },
  "language_info": {
   "codemirror_mode": {
    "name": "ipython",
    "version": 3
   },
   "file_extension": ".py",
   "mimetype": "text/x-python",
   "name": "python",
   "nbconvert_exporter": "python",
   "pygments_lexer": "ipython3",
   "version": "3.8.10"
  }
 },
 "nbformat": 4,
 "nbformat_minor": 1
}
