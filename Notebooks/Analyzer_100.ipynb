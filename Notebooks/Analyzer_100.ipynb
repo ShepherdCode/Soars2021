{
  "nbformat": 4,
  "nbformat_minor": 0,
  "metadata": {
    "colab": {
      "name": "Analyzer_100.ipynb",
      "provenance": [],
      "collapsed_sections": []
    },
    "kernelspec": {
      "name": "python3",
      "display_name": "Python 3"
    },
    "language_info": {
      "name": "python"
    }
  },
  "cells": [
    {
      "cell_type": "markdown",
      "metadata": {
        "id": "QxjDXgzOuzm9"
      },
      "source": [
        "##Analyzer\n",
        "\n",
        "Statistically and visually compare mRNA and lncRNA sequences from GenCode.v38.\n",
        "\n",
        "Assume user downloaded files from GenCode38 [FTP](http://ftp.ebi.ac.uk/pub/databases/gencode/Gencode_human/release_38/)\n",
        "to a subdirectory called data."
      ]
    },
    {
      "cell_type": "markdown",
      "metadata": {
        "id": "CWH1hul6uKub"
      },
      "source": [
        "##Import Dependencies\n"
      ]
    },
    {
      "cell_type": "code",
      "metadata": {
        "colab": {
          "base_uri": "https://localhost:8080/"
        },
        "id": "cMB8T39CuJ2Y",
        "outputId": "4a8b346b-d35f-4f2a-c40b-a024b8e3ddf3"
      },
      "source": [
        "import numpy as np\n",
        "import matplotlib.pyplot as plt\n",
        "\n",
        "import pandas as pd\n",
        "import gzip\n",
        "from scipy.stats import chisquare, kstest\n",
        "import sys\n",
        "try:\n",
        "    from google.colab import drive\n",
        "    IN_COLAB = True\n",
        "    print(\"On Google CoLab, mount cloud-local file, get our code from GitHub.\")\n",
        "    PATH='/content/drive/'\n",
        "    #drive.mount(PATH,force_remount=True)  # hardly ever need this\n",
        "    drive.mount(PATH)    # Google will require login credentials\n",
        "    DATAPATH=PATH+'My Drive/data/'  # must end in \"/\"\n",
        "    import requests\n",
        "    s = requests.get('https://raw.githubusercontent.com/ShepherdCode/Soars2021/master/SimTools/RNA_describe.py')\n",
        "    with open('RNA_describe.py', 'w') as f:\n",
        "      f.write(s.text)  # writes to cloud local, delete the file later?\n",
        "    s = requests.get('https://raw.githubusercontent.com/ShepherdCode/Soars2021/master/SimTools/GenCodeTools.py')\n",
        "    with open ('GenCodeTools.py', 'w') as f:\n",
        "      f.write(s.text)\n",
        "    s = requests.get('https://raw.githubusercontent.com/ShepherdCode/Soars2021/master/SimTools/plot_generator.py')\n",
        "    with open('plot_generator.py', 'w') as f:\n",
        "      f.write(s.text)\n",
        "    s = requests.get('https://raw.githubusercontent.com/ShepherdCode/Soars2021/master/SimTools/KmerTools.py')\n",
        "    with open('KmerTools.py', 'w') as f:\n",
        "      f.write(s.text)  \n",
        "    from KmerTools import KmerTools\n",
        "    from RNA_describe import *\n",
        "    from GenCodeTools import *\n",
        "    from plot_generator import *\n",
        "except:\n",
        "    print(\"CoLab not working. On my PC, use relative paths.\")\n",
        "    IN_COLAB = False\n",
        "    DATAPATH='../data/'  # must end in \"/\"\n",
        "    sys.path.append(\"..\") # append parent dir in order to use sibling dirs\n",
        "    from SimTools.RNA_describe import *\n",
        "    from SimTools.GenCodeTools import *\n",
        "    from SimTools.plot_generator import *\n",
        "    from SimTools.KmerTools import KmerTools\n",
        "\n",
        "MODELPATH=\"BestModel\"  # saved on cloud instance and lost after logout\n",
        "#MODELPATH=DATAPATH+MODELPATH  # saved on Google Drive but requires login\n",
        "\n",
        "if not assert_imported_RNA_describe():\n",
        "    print(\"ERROR: Cannot use RNA_describe.\")"
      ],
      "execution_count": 32,
      "outputs": [
        {
          "output_type": "stream",
          "text": [
            "On Google CoLab, mount cloud-local file, get our code from GitHub.\n",
            "Drive already mounted at /content/drive/; to attempt to forcibly remount, call drive.mount(\"/content/drive/\", force_remount=True).\n"
          ],
          "name": "stdout"
        }
      ]
    },
    {
      "cell_type": "markdown",
      "metadata": {
        "id": "T8RNNlZGsZN5"
      },
      "source": [
        "##Load GenCode Data\n",
        "Loads GenCode.v38 data.\n",
        "\n",
        "Filters out mRNA sequences based on UTR check."
      ]
    },
    {
      "cell_type": "code",
      "metadata": {
        "colab": {
          "base_uri": "https://localhost:8080/"
        },
        "id": "37JnfHgWt_-U",
        "outputId": "1ad29be6-3820-47b7-a15e-3fc6f0bd95b5"
      },
      "source": [
        "PC_FILENAME='gencode.v38.pc_transcripts.fa.gz'\n",
        "NC_FILENAME='gencode.v38.lncRNA_transcripts.fa.gz'\n",
        "PC_FULLPATH=DATAPATH+PC_FILENAME\n",
        "NC_FULLPATH=DATAPATH+NC_FILENAME\n",
        "loader=GenCodeLoader()\n",
        "loader.set_label(1)\n",
        "loader.set_check_list(None) \n",
        "loader.set_check_utr(True)\n",
        "pcdf=loader.load_file(PC_FULLPATH)\n",
        "print(\"PC seqs loaded:\",len(pcdf))\n",
        "loader.set_label(0)\n",
        "loader.set_check_list(None)\n",
        "loader.set_check_utr(False)\n",
        "ncdf=loader.load_file(NC_FULLPATH)\n",
        "print(\"NC seqs loaded:\",len(ncdf))"
      ],
      "execution_count": 3,
      "outputs": [
        {
          "output_type": "stream",
          "text": [
            "PC seqs loaded: 70825\n",
            "NC seqs loaded: 48752\n"
          ],
          "name": "stdout"
        }
      ]
    },
    {
      "cell_type": "markdown",
      "metadata": {
        "id": "J0y1XAPLvr_G"
      },
      "source": [
        "##Process Sequences\n",
        "Sampling, binning, length constraints, etc.\n"
      ]
    },
    {
      "cell_type": "code",
      "metadata": {
        "id": "6V7WMCLN3l1q"
      },
      "source": [
        "APPLY_SUBSET = True             #Option to subset the data\n",
        "MINIMUM_SEQUENCE_LENGTH = 0     #Minimum inclusive length to filter out sequences by\n",
        "MAXIMUM_SEQUENCE_LENGTH = 4000  #Maximum inclusive length to filter out sequences by\n",
        "SAMPLE_FRACTION = 0.5           #What fraction of the GenCode data set to take a sample of\n",
        "REPRODUCABILITY_SEED = 314159   #Use to reproduce random sampling"
      ],
      "execution_count": 4,
      "outputs": []
    },
    {
      "cell_type": "code",
      "metadata": {
        "colab": {
          "base_uri": "https://localhost:8080/"
        },
        "id": "ANtZknso53FT",
        "outputId": "6fcbcfe4-6625-408b-f732-ff68905095e3"
      },
      "source": [
        "if APPLY_SUBSET:\n",
        "  pcdf = pcdf.sample(frac=SAMPLE_FRACTION, random_state=REPRODUCABILITY_SEED)\n",
        "  ncdf = ncdf.sample(frac=SAMPLE_FRACTION, random_state=REPRODUCABILITY_SEED)\n",
        "\n",
        "  print('PC sample size:', len(pcdf))\n",
        "  print('NC sample size:', len(ncdf))"
      ],
      "execution_count": 5,
      "outputs": [
        {
          "output_type": "stream",
          "text": [
            "PC sample size: 35412\n",
            "NC sample size: 24376\n"
          ],
          "name": "stdout"
        }
      ]
    },
    {
      "cell_type": "code",
      "metadata": {
        "id": "7ga4K3Aw4sJd"
      },
      "source": [
        "def subset_list_by_len_bounds(input_list, min_len, max_len):\n",
        "  return list(filter(lambda x: len(x) > min_len and len(x) <= max_len, input_list))"
      ],
      "execution_count": 6,
      "outputs": []
    },
    {
      "cell_type": "code",
      "metadata": {
        "colab": {
          "base_uri": "https://localhost:8080/"
        },
        "id": "D7pejW0g1lnR",
        "outputId": "d201ea63-b4d7-41ee-d386-4b7fdd52d00a"
      },
      "source": [
        "pc_sequences = pcdf['sequence'].tolist()\n",
        "nc_sequences = ncdf['sequence'].tolist()\n",
        "\n",
        "if APPLY_SUBSET:\n",
        "  pc_sequences = subset_list_by_len_bounds(pc_sequences, MINIMUM_SEQUENCE_LENGTH, MAXIMUM_SEQUENCE_LENGTH)\n",
        "  nc_sequences = subset_list_by_len_bounds(nc_sequences, MINIMUM_SEQUENCE_LENGTH, MAXIMUM_SEQUENCE_LENGTH)\n",
        "\n",
        "  print('PC seqs in length range','('+str(MINIMUM_SEQUENCE_LENGTH),'-',str(MAXIMUM_SEQUENCE_LENGTH)+'):', len(pc_sequences))\n",
        "  print('NC seqs in length range','('+str(MINIMUM_SEQUENCE_LENGTH),'-',str(MAXIMUM_SEQUENCE_LENGTH)+'):', len(nc_sequences))\n",
        "\n",
        "#Garbage collection\n",
        "pcdf = None\n",
        "ncdf = None"
      ],
      "execution_count": 7,
      "outputs": [
        {
          "output_type": "stream",
          "text": [
            "PC seqs in length range (0 - 4000): 27717\n",
            "NC seqs in length range (0 - 4000): 23582\n"
          ],
          "name": "stdout"
        }
      ]
    },
    {
      "cell_type": "markdown",
      "metadata": {
        "id": "4k6CG3pCveOY"
      },
      "source": [
        "##Generate Statistics"
      ]
    },
    {
      "cell_type": "markdown",
      "metadata": {
        "id": "FhdVaD5VBKZh"
      },
      "source": [
        "\n",
        "Using KmerTools to get the K-mer counts upto 3.\n",
        "It returns the value in Dictionary form. (Key-Value Pair)"
      ]
    },
    {
      "cell_type": "code",
      "metadata": {
        "colab": {
          "base_uri": "https://localhost:8080/"
        },
        "id": "MlIzMUBMBFG3",
        "outputId": "d1cf1849-6445-453e-c638-c9c81824633b"
      },
      "source": [
        "MAX_K = 3\n",
        "tool = KmerTools()\n",
        "pc_counts = tool.make_dict_upto_K(MAX_K)\n",
        "for sample in pc_sequences:\n",
        "    tool.update_count_one_K(pc_counts,MAX_K,sample,True)\n",
        "tool.harvest_counts_from_K(pc_counts,MAX_K)\n",
        "print(\"PC counts:\\n\",pc_counts)\n",
        "pc_freqs = tool.count_to_frequency(pc_counts,MAX_K)\n",
        "print (\"Frequency:\\n\",pc_freqs)\n",
        "\n",
        "nc_counts = tool.make_dict_upto_K(MAX_K)\n",
        "for sample in nc_sequences:\n",
        "    tool.update_count_one_K(nc_counts,MAX_K,sample,True)\n",
        "tool.harvest_counts_from_K(nc_counts,MAX_K)\n",
        "print(\"NC counts:\\n\",nc_counts)\n",
        "nc_freqs = tool.count_to_frequency(nc_counts,MAX_K)\n",
        "print (\"Frequency:\\n\",nc_freqs)"
      ],
      "execution_count": 8,
      "outputs": [
        {
          "output_type": "stream",
          "text": [
            "PC counts:\n",
            " {'A': 13761107, 'C': 13352571, 'G': 13663331, 'T': 12942446, 'AA': 3947355, 'AC': 2769514, 'AG': 4075931, 'AT': 2954539, 'CA': 3947355, 'CC': 3972879, 'CG': 1554746, 'CT': 3872886, 'GA': 3749965, 'GC': 3492962, 'GG': 3829259, 'GT': 2586582, 'TA': 2106910, 'TC': 3112168, 'TG': 4192472, 'TT': 3526215, 'AAA': 1298332, 'AAC': 699498, 'AAG': 1134130, 'AAT': 808944, 'ACA': 911941, 'ACC': 806918, 'ACG': 302655, 'ACT': 747111, 'AGA': 1224100, 'AGC': 1035679, 'AGG': 1072915, 'AGT': 741957, 'ATA': 558117, 'ATC': 661574, 'ATG': 933591, 'ATT': 800333, 'CAA': 907393, 'CAC': 829050, 'CAG': 1389708, 'CAT': 818320, 'CCA': 1174892, 'CCC': 1112575, 'CCG': 515080, 'CCT': 1169010, 'CGA': 317151, 'CGC': 444639, 'CGG': 515373, 'CGT': 277310, 'CTA': 510194, 'CTC': 971261, 'CTG': 1462157, 'CTT': 928158, 'GAA': 1146599, 'GAC': 730296, 'GAG': 1154664, 'GAT': 716337, 'GCA': 937833, 'GCC': 1097926, 'GCG': 452209, 'GCT': 1004003, 'GGA': 1178369, 'GGC': 1028192, 'GGG': 982805, 'GGT': 638717, 'GTA': 425359, 'GTC': 582801, 'GTG': 954164, 'GTT': 623466, 'TAA': 593400, 'TAC': 508685, 'TAG': 393107, 'TAT': 609354, 'TCA': 921827, 'TCC': 954155, 'TCG': 283645, 'TCT': 951038, 'TGA': 1028152, 'TGC': 981346, 'TGG': 1254736, 'TGT': 926404, 'TTA': 613029, 'TTC': 895889, 'TTG': 841903, 'TTT': 1173545}\n",
            "Frequency:\n",
            " {'A': 0.2561661692211881, 'C': 0.24856117769623687, 'G': 0.25434604651145476, 'T': 0.24092660657112028, 'AA': 0.07351885312410636, 'AC': 0.05158175360238851, 'AG': 0.07591356048113027, 'AT': 0.05502781452148187, 'CA': 0.07351885312410636, 'CC': 0.07399423352620844, 'CG': 0.028956894634329027, 'CT': 0.07213187995516182, 'GA': 0.06984249606522329, 'GC': 0.06505585645225342, 'GG': 0.07131933408451036, 'GT': 0.04817467447226238, 'TA': 0.03924086048397241, 'TC': 0.05796362933902419, 'TG': 0.07808411789538271, 'TT': 0.06567518823845858, 'AAA': 0.024193714444171076, 'AAC': 0.013034766813317996, 'AAG': 0.02113389900469814, 'AAT': 0.015074233814868252, 'ACA': 0.01699352719021931, 'ACC': 0.01503648040090026, 'ACG': 0.005639812193722867, 'ACT': 0.013922009310483834, 'AGA': 0.022810441282437633, 'AGC': 0.019299317880037352, 'AGG': 0.019993190595986088, 'AGT': 0.013825967308711362, 'ATA': 0.010400208363066942, 'ATC': 0.012328073589565716, 'ATG': 0.017396963227932546, 'ATT': 0.014913772488274779, 'CAA': 0.016908777670611004, 'CAC': 0.015448898247859586, 'CAG': 0.02589645677128816, 'CAT': 0.01524895050260956, 'CCA': 0.021893476823140034, 'CCC': 0.020732233240591494, 'CCG': 0.009598237150361878, 'CCT': 0.021783868935203347, 'CGA': 0.005909937311630077, 'CGC': 0.008285607222761037, 'CGG': 0.009603697046853795, 'CGT': 0.005167521829942635, 'CTA': 0.009507189183605902, 'CTC': 0.018098923299094564, 'CTG': 0.02724650469259469, 'CTT': 0.017295722212094394, 'GAA': 0.02136625207417834, 'GAC': 0.013608670882116716, 'GAG': 0.021516538986148654, 'GAT': 0.013348552468701516, 'GCA': 0.017476010603081717, 'GCC': 0.02045925705045472, 'GCG': 0.008426670077518045, 'GCT': 0.0187090527562219, 'GGA': 0.02195826883714137, 'GGC': 0.019159801685378737, 'GGG': 0.018314039493984247, 'GGT': 0.011902145759819228, 'GTA': 0.007926334852917563, 'GTC': 0.010860181349437083, 'GTG': 0.017780329953284716, 'GTT': 0.011617951625354351, 'TAA': 0.01105768798055591, 'TAC': 0.009479069784949584, 'TAG': 0.007325336280708447, 'TAT': 0.011354982139709584, 'TCA': 0.017177747452059175, 'TCC': 0.017780162243153565, 'TCG': 0.005285571127813922, 'TCT': 0.01772207863439827, 'TGA': 0.019159056307018068, 'TGC': 0.018286851818278767, 'TGG': 0.023381326568875635, 'TGT': 0.017263037370978965, 'TTA': 0.01142346377659624, 'TTC': 0.016694406854081995, 'TTG': 0.01568840694960223, 'TTT': 0.021868376206844432}\n",
            "NC counts:\n",
            " {'A': 7700468, 'C': 6323129, 'G': 6318618, 'T': 7242677, 'AA': 2398642, 'AC': 1450655, 'AG': 2089505, 'AT': 1749606, 'CA': 2085169, 'CC': 1737362, 'CG': 463712, 'CT': 2032761, 'GA': 1871331, 'GC': 1452559, 'GG': 1668633, 'GT': 1322775, 'TA': 1337072, 'TC': 1678707, 'TG': 2088325, 'TT': 2134496, 'AAA': 844564, 'AAC': 401073, 'AAG': 606282, 'AAT': 539793, 'ACA': 537336, 'ACC': 371626, 'ACG': 106228, 'ACT': 434451, 'AGA': 670134, 'AGC': 471842, 'AGG': 543290, 'AGT': 403134, 'ATA': 385807, 'ATC': 357897, 'ATG': 491488, 'ATT': 513335, 'CAA': 507565, 'CAC': 449776, 'CAG': 660496, 'CAT': 465217, 'CCA': 575021, 'CCC': 452195, 'CCG': 141444, 'CCT': 567650, 'CGA': 96734, 'CGC': 124712, 'CGG': 139719, 'CGT': 102345, 'CTA': 302259, 'CTC': 516918, 'CTG': 683656, 'CTT': 528858, 'GAA': 615025, 'GAC': 334318, 'GAG': 550746, 'GAT': 370009, 'GCA': 449658, 'GCC': 428186, 'GCG': 122071, 'GCT': 451793, 'GGA': 541931, 'GGC': 398443, 'GGG': 417450, 'GGT': 310024, 'GTA': 245484, 'GTC': 288626, 'GTG': 436585, 'GTT': 351426, 'TAA': 429982, 'TAC': 263755, 'TAG': 268535, 'TAT': 373018, 'TCA': 521999, 'TCC': 484416, 'TCG': 93539, 'TCT': 577545, 'TGA': 560495, 'TGC': 455743, 'TGG': 564931, 'TGT': 505928, 'TTA': 403102, 'TTC': 514675, 'TTG': 475618, 'TTT': 739827}\n",
            "Frequency:\n",
            " {'A': 0.2791552709359892, 'C': 0.22922435222874898, 'G': 0.2290608206840179, 'T': 0.26255955615124393, 'AA': 0.08702931754695259, 'AC': 0.052633746364015355, 'AG': 0.07581297841067787, 'AT': 0.06348050945328797, 'CA': 0.07565565642561983, 'CC': 0.06303626351577628, 'CG': 0.016824744542258695, 'CT': 0.07375415029256592, 'GA': 0.06789702666527825, 'GC': 0.052702828711697666, 'GG': 0.06054258669127121, 'GT': 0.047993908852663386, 'TA': 0.04851264326695647, 'TC': 0.060908099070762604, 'TG': 0.07577016477083273, 'TT': 0.07744537541938319, 'AAA': 0.030669342074988903, 'AAC': 0.014564491304438768, 'AAG': 0.022016413264013646, 'AAT': 0.019601943922171065, 'ACA': 0.019512720875157166, 'ACC': 0.013495158351480558, 'ACG': 0.0038575440936884846, 'ACT': 0.01577657386985593, 'AGA': 0.0243351230718816, 'AGC': 0.017134383780680818, 'AGG': 0.019728933338291378, 'AGT': 0.014639334080139073, 'ATA': 0.014010124582536367, 'ATC': 0.01299660596545946, 'ATG': 0.017847805018627535, 'ATT': 0.018641152966577344, 'CAA': 0.01843162224566965, 'CAC': 0.016333083106928794, 'CAG': 0.02398513050895121, 'CAT': 0.01689380474670968, 'CCA': 0.020881207048017904, 'CCC': 0.01642092622891765, 'CCG': 0.005136371453737941, 'CCT': 0.020613537906976204, 'CGA': 0.0035127807203266734, 'CGC': 0.0045287686769220755, 'CGG': 0.005073730120364324, 'CGT': 0.0037165375444190604, 'CTA': 0.01097617784589927, 'CTC': 0.018771265370912227, 'CTG': 0.024826158497897866, 'CTT': 0.019204852339307004, 'GAA': 0.022333904961222655, 'GAC': 0.012140362487420894, 'GAG': 0.019999689153731202, 'GAT': 0.013436438910283375, 'GCA': 0.016328798076587873, 'GCC': 0.015549067809806241, 'GCG': 0.004432863887681656, 'GCT': 0.016406328074705365, 'GGA': 0.019679582861737904, 'GGC': 0.014468985967179283, 'GGG': 0.015159202676415426, 'GGT': 0.011258154630621669, 'GTA': 0.008914460917037164, 'GTC': 0.010481111586257225, 'GTG': 0.015854067554156973, 'GTT': 0.012761619259221386, 'TAA': 0.0156142874241477, 'TAC': 0.00957795065736723, 'TAG': 0.009751530699990936, 'TAT': 0.013545707183976834, 'TCA': 0.01895577587228692, 'TCC': 0.017590993708703928, 'TCG': 0.0033967580767737993, 'TCT': 0.02097286312073385, 'TGA': 0.020353712550287374, 'TGC': 0.016549767649676837, 'TGG': 0.020514800640052802, 'TGT': 0.018372176528143498, 'TTA': 0.014638172038012723, 'TTC': 0.018689813480618298, 'TTG': 0.017271504751590255, 'TTT': 0.026865941881625093}\n"
          ],
          "name": "stdout"
        }
      ]
    },
    {
      "cell_type": "markdown",
      "metadata": {
        "id": "Wc3GALLxBbx2"
      },
      "source": [
        "This function takes a dictionary as a parameter. It checks the length of the key to determine if it is 1-mer, 2-mer or 3 mer and assign the values respectively. "
      ]
    },
    {
      "cell_type": "code",
      "metadata": {
        "id": "ApuWlBClBXpe"
      },
      "source": [
        "def get_stats(dict):\n",
        "  one_mer = []\n",
        "  one_mer_key = []\n",
        "  two_mer= []\n",
        "  two_mer_key=[]\n",
        "  three_mer= []\n",
        "  three_mer_key=[]\n",
        "  for sequence in enumerate(dict.items()):\n",
        "    if(len(sequence[1][0])==1):\n",
        "      one_mer.append(sequence[1][1])\n",
        "      one_mer_key.append(sequence[1][0])\n",
        "    if(len(sequence[1][0])==2):\n",
        "      two_mer.append(sequence[1][1])\n",
        "      two_mer_key.append(sequence[1][0])\n",
        "    if(len(sequence[1][0])==3):\n",
        "      three_mer.append(sequence[1][1])\n",
        "      three_mer_key.append(sequence[1][0])\n",
        "  return one_mer_key, one_mer, two_mer_key,two_mer, three_mer_key, three_mer"
      ],
      "execution_count": 9,
      "outputs": []
    },
    {
      "cell_type": "code",
      "metadata": {
        "id": "1Dz2OrqbBmgE"
      },
      "source": [
        "#Gets the list  of 1-mer, 2-mer and 3-mer counts along with their key\n",
        "#In the order of Key-Value. \n",
        "pc_stats = get_stats(pc_freqs)\n",
        "nc_stats = get_stats(nc_freqs)\n",
        "\n",
        "#1-mer\n",
        "one_mer_pc = np.asarray(pc_stats[1])\n",
        "one_mer_nc = np.asarray(nc_stats[1])\n",
        "#2-mer\n",
        "two_mer_pc = np.asarray(pc_stats[3])\n",
        "two_mer_nc = np.asarray(nc_stats[3])\n",
        "#3-mer\n",
        "three_mer_pc = np.asarray(pc_stats[5])\n",
        "three_mer_nc = np.asarray(nc_stats[5])\n",
        "\n",
        "#Keys that can be used as labels.\n",
        "one_mer_keys = pc_stats[0]\n",
        "two_mer_keys = pc_stats[2]\n",
        "three_mer_keys = pc_stats[4]"
      ],
      "execution_count": 10,
      "outputs": []
    },
    {
      "cell_type": "code",
      "metadata": {
        "colab": {
          "base_uri": "https://localhost:8080/"
        },
        "id": "zGffZdEdCAoF",
        "outputId": "d276ff6f-875d-4170-ab5e-ac893767fec4"
      },
      "source": [
        "print(one_mer_keys)\n",
        "print(one_mer_pc)\n",
        "print(one_mer_nc)"
      ],
      "execution_count": 11,
      "outputs": [
        {
          "output_type": "stream",
          "text": [
            "['A', 'C', 'G', 'T']\n",
            "[0.25616617 0.24856118 0.25434605 0.24092661]\n",
            "[0.27915527 0.22922435 0.22906082 0.26255956]\n"
          ],
          "name": "stdout"
        }
      ]
    },
    {
      "cell_type": "code",
      "metadata": {
        "id": "u8XDvm3i5nG7"
      },
      "source": [
        "oc = ORF_counter()\n",
        "\n",
        "pc_max_orf_len = np.empty(1, dtype=object)\n",
        "nc_max_orf_len = np.empty(1, dtype=object)\n",
        "pc_max_orf_len[0] = np.zeros(len(pc_sequences))\n",
        "nc_max_orf_len[0] = np.zeros(len(nc_sequences))\n",
        "\n",
        "for i in range(len(pc_sequences)):\n",
        "  oc.set_sequence(pc_sequences[i])\n",
        "  pc_max_orf_len[0][i] = oc.get_max_orf_len()\n",
        "for i in range(len(nc_sequences)):\n",
        "  oc.set_sequence(nc_sequences[i])\n",
        "  nc_max_orf_len[0][i] = oc.get_max_orf_len()"
      ],
      "execution_count": 12,
      "outputs": []
    },
    {
      "cell_type": "markdown",
      "metadata": {
        "id": "8Xq9mfp3H74S"
      },
      "source": [
        "Using Correlation to see if the total length of series have any relation to the length of ORF. "
      ]
    },
    {
      "cell_type": "code",
      "metadata": {
        "colab": {
          "base_uri": "https://localhost:8080/",
          "height": 299
        },
        "id": "w4LH8MEN7GKD",
        "outputId": "01d9b2a3-2daa-4c56-db89-6a65187dadb7"
      },
      "source": [
        "tools = ORF_RE() #Uses Regular Expression from Professor Miller's RNA_describe.\n",
        "\n",
        "total_length_of_sequence=[]\n",
        "length_of_ORF=[]\n",
        "for i in range(len(pc_sequences)):\n",
        "  total_length_of_sequence.append(len(pc_sequences[i]))\n",
        "  length_of_ORF.append(tools.get_three_lengths(pc_sequences[i])[1])\n",
        "r = np.corrcoef(np.asarray(total_length_of_sequence), np.asarray(length_of_ORF))\n",
        "print(r)\n",
        "plt.scatter(np.asarray(total_length_of_sequence), np.asarray(length_of_ORF))\n",
        "plt.show()"
      ],
      "execution_count": 28,
      "outputs": [
        {
          "output_type": "stream",
          "text": [
            "[[1.         0.71200161]\n",
            " [0.71200161 1.        ]]\n"
          ],
          "name": "stdout"
        },
        {
          "output_type": "display_data",
          "data": {
            "image/png": "[encoded data removed]",
            "text/plain": [
              "<Figure size 432x288 with 1 Axes>"
            ]
          },
          "metadata": {
            "tags": [],
            "needs_background": "light"
          }
        }
      ]
    },
    {
      "cell_type": "code",
      "metadata": {
        "colab": {
          "base_uri": "https://localhost:8080/",
          "height": 299
        },
        "id": "i0pYce2tM8z9",
        "outputId": "9c7f6d24-a9de-40fe-d891-12d4d4157323"
      },
      "source": [
        "total_length_of_sequence=[]\n",
        "length_of_ORF=[]\n",
        "for i in range(len(nc_sequences)):\n",
        "  total_length_of_sequence.append(len(nc_sequences[i]))\n",
        "  length_of_ORF.append(tools.get_three_lengths(nc_sequences[i])[1])\n",
        "r = np.corrcoef(np.asarray(total_length_of_sequence), np.asarray(length_of_ORF))\n",
        "print(r)\n",
        "plt.scatter(np.asarray(total_length_of_sequence), np.asarray(length_of_ORF))\n",
        "plt.show()"
      ],
      "execution_count": 29,
      "outputs": [
        {
          "output_type": "stream",
          "text": [
            "[[1.         0.47579954]\n",
            " [0.47579954 1.        ]]\n"
          ],
          "name": "stdout"
        },
        {
          "output_type": "display_data",
          "data": {
            "image/png": "[encoded data removed]",
            "text/plain": [
              "<Figure size 432x288 with 1 Axes>"
            ]
          },
          "metadata": {
            "tags": [],
            "needs_background": "light"
          }
        }
      ]
    },
    {
      "cell_type": "markdown",
      "metadata": {
        "id": "sSZUi6IdYDBK"
      },
      "source": [
        "KS-Similarity Test\n",
        "Not sure how it works but lets give it a shot. "
      ]
    },
    {
      "cell_type": "code",
      "metadata": {
        "colab": {
          "base_uri": "https://localhost:8080/"
        },
        "id": "IBA-UEPgYCcK",
        "outputId": "66256acb-5ed0-4ef5-f22d-9e4dcfb0c4d9"
      },
      "source": [
        "x = kstest(two_mer_pc, \"norm\")\n",
        "print(x)"
      ],
      "execution_count": 36,
      "outputs": [
        {
          "output_type": "stream",
          "text": [
            "KstestResult(statistic=0.5115505153683243, pvalue=0.00020717887792749706)\n"
          ],
          "name": "stdout"
        }
      ]
    },
    {
      "cell_type": "markdown",
      "metadata": {
        "id": "4pFBfhxPvkxI"
      },
      "source": [
        "##Results"
      ]
    },
    {
      "cell_type": "markdown",
      "metadata": {
        "id": "z0glWLF5uhnz"
      },
      "source": [
        ""
      ]
    },
    {
      "cell_type": "code",
      "metadata": {
        "id": "8hWYWuiIeSqR"
      },
      "source": [
        "data_set_names = ['mRNA', 'lncRNA']"
      ],
      "execution_count": 13,
      "outputs": []
    },
    {
      "cell_type": "code",
      "metadata": {
        "id": "Knmk7fK5dskT"
      },
      "source": [
        "pg = PlotGenerator()\n",
        "pg.set_text_options(45, 'right', 0, 'center', 12)"
      ],
      "execution_count": 14,
      "outputs": []
    },
    {
      "cell_type": "code",
      "metadata": {
        "colab": {
          "base_uri": "https://localhost:8080/",
          "height": 1000
        },
        "id": "lrE3WojZPRMx",
        "outputId": "439141c4-3b97-4caf-aabe-538fe7460a4b"
      },
      "source": [
        "pg.set_text('1-Mer Frequencies', 'Mers', 'Frequency', one_mer_keys, None)\n",
        "pg.bar_plot([one_mer_pc, one_mer_nc], data_set_names)\n",
        "\n",
        "pg.set_text('2-Mer Frequencies', 'Mers', 'Frequency', two_mer_keys, None)\n",
        "pg.bar_plot([two_mer_pc, two_mer_nc], data_set_names)\n",
        "\n",
        "pg.set_figure_options(width=16)\n",
        "pg.set_text_options(90, 'right', 0, 'center', 7)\n",
        "pg.set_text('3-Mer Frequencies', 'Mers', 'Frequency', three_mer_keys, None)\n",
        "pg.bar_plot([three_mer_pc, three_mer_nc], data_set_names)\n",
        "\n",
        "pg.set_figure_options()\n",
        "pg.set_text_options(45, 'right', 0, 'center', 12)\n",
        "pg.set_text('Max ORF Lengths', 'RNA Types', 'Max ORF Length', [''], None)\n",
        "pg.box_plot([pc_max_orf_len, nc_max_orf_len], data_set_names, False)"
      ],
      "execution_count": 15,
      "outputs": [
        {
          "output_type": "display_data",
          "data": {
            "image/png": "[encoded data removed]",
            "text/plain": [
              "<Figure size 460.8x345.6 with 1 Axes>"
            ]
          },
          "metadata": {
            "tags": [],
            "needs_background": "light"
          }
        },
        {
          "output_type": "display_data",
          "data": {
            "image/png": "[encoded data removed]",
            "text/plain": [
              "<Figure size 460.8x345.6 with 1 Axes>"
            ]
          },
          "metadata": {
            "tags": [],
            "needs_background": "light"
          }
        },
        {
          "output_type": "display_data",
          "data": {
            "image/png": "[encoded data removed]",
            "text/plain": [
              "<Figure size 1152x345.6 with 1 Axes>"
            ]
          },
          "metadata": {
            "tags": [],
            "needs_background": "light"
          }
        },
        {
          "output_type": "display_data",
          "data": {
            "image/png": "[encoded data removed]",
            "text/plain": [
              "<Figure size 460.8x345.6 with 1 Axes>"
            ]
          },
          "metadata": {
            "tags": [],
            "needs_background": "light"
          }
        }
      ]
    }
  ]
}