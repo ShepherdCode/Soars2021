{
 "cells": [
  {
   "cell_type": "markdown",
   "metadata": {
    "id": "QxjDXgzOuzm9"
   },
   "source": [
    "# Analyzer\n",
    "\n",
    "Statistically and visually compare mRNA and lncRNA sequences from GenCode.v38.\n",
    "\n",
    "Assume user downloaded files from GenCode38 [FTP](http://ftp.ebi.ac.uk/pub/databases/gencode/Gencode_human/release_38/)\n",
    "to a subdirectory called data."
   ]
  },
  {
   "cell_type": "markdown",
   "metadata": {
    "id": "CWH1hul6uKub"
   },
   "source": [
    "## Import Dependencies\n"
   ]
  },
  {
   "cell_type": "code",
   "execution_count": 1,
   "metadata": {
    "colab": {
     "base_uri": "https://localhost:8080/"
    },
    "id": "cMB8T39CuJ2Y",
    "outputId": "df959aea-b724-4ac9-fc12-0ca021c29b3c"
   },
   "outputs": [
    {
     "name": "stdout",
     "output_type": "stream",
     "text": [
      "On Google CoLab, mount cloud-local file, get our code from GitHub.\n",
      "Drive already mounted at /content/drive/; to attempt to forcibly remount, call drive.mount(\"/content/drive/\", force_remount=True).\n"
     ]
    }
   ],
   "source": [
    "import numpy as np\n",
    "import matplotlib.pyplot as plt\n",
    "\n",
    "import pandas as pd\n",
    "import gzip\n",
    "from scipy.stats import chisquare, kstest\n",
    "import sys\n",
    "try:\n",
    "    from google.colab import drive\n",
    "    IN_COLAB = True\n",
    "    print(\"On Google CoLab, mount cloud-local file, get our code from GitHub.\")\n",
    "    PATH='/content/drive/'\n",
    "    #drive.mount(PATH,force_remount=True)  # hardly ever need this\n",
    "    drive.mount(PATH)    # Google will require login credentials\n",
    "    DATAPATH=PATH+'My Drive/data/'  # must end in \"/\"\n",
    "    import requests\n",
    "    s = requests.get('https://raw.githubusercontent.com/ShepherdCode/Soars2021/master/SimTools/RNA_describe.py')\n",
    "    with open('RNA_describe.py', 'w') as f:\n",
    "      f.write(s.text)  # writes to cloud local, delete the file later?\n",
    "    s = requests.get('https://raw.githubusercontent.com/ShepherdCode/Soars2021/master/SimTools/GenCodeTools.py')\n",
    "    with open ('GenCodeTools.py', 'w') as f:\n",
    "      f.write(s.text)\n",
    "    s = requests.get('https://raw.githubusercontent.com/ShepherdCode/Soars2021/master/SimTools/plot_generator.py')\n",
    "    with open('plot_generator.py', 'w') as f:\n",
    "      f.write(s.text)\n",
    "    s = requests.get('https://raw.githubusercontent.com/ShepherdCode/Soars2021/master/SimTools/KmerTools.py')\n",
    "    with open('KmerTools.py', 'w') as f:\n",
    "      f.write(s.text)  \n",
    "    from KmerTools import KmerTools\n",
    "    from RNA_describe import *\n",
    "    from GenCodeTools import *\n",
    "    from plot_generator import *\n",
    "except:\n",
    "    print(\"CoLab not working. On my PC, use relative paths.\")\n",
    "    IN_COLAB = False\n",
    "    DATAPATH='../data/'  # must end in \"/\"\n",
    "    sys.path.append(\"..\") # append parent dir in order to use sibling dirs\n",
    "    from SimTools.RNA_describe import *\n",
    "    from SimTools.GenCodeTools import *\n",
    "    from SimTools.plot_generator import *\n",
    "    from SimTools.KmerTools import KmerTools\n",
    "\n",
    "MODELPATH=\"BestModel\"  # saved on cloud instance and lost after logout\n",
    "#MODELPATH=DATAPATH+MODELPATH  # saved on Google Drive but requires login\n",
    "\n",
    "if not assert_imported_RNA_describe():\n",
    "    print(\"ERROR: Cannot use RNA_describe.\")"
   ]
  },
  {
   "cell_type": "markdown",
   "metadata": {
    "id": "T8RNNlZGsZN5"
   },
   "source": [
    "## Load GenCode Data\n",
    "Loads GenCode.v38 data.\n",
    "\n",
    "Filters out mRNA sequences based on UTR check."
   ]
  },
  {
   "cell_type": "code",
   "execution_count": 2,
   "metadata": {
    "colab": {
     "base_uri": "https://localhost:8080/"
    },
    "id": "37JnfHgWt_-U",
    "outputId": "14b82ad9-94ca-4f02-8edb-ddcc1d1dea0e"
   },
   "outputs": [
    {
     "name": "stdout",
     "output_type": "stream",
     "text": [
      "PC seqs loaded: 70825\n",
      "NC seqs loaded: 48752\n"
     ]
    }
   ],
   "source": [
    "PC_FILENAME='gencode.v38.pc_transcripts.fa.gz'\n",
    "NC_FILENAME='gencode.v38.lncRNA_transcripts.fa.gz'\n",
    "PC_FULLPATH=DATAPATH+PC_FILENAME\n",
    "NC_FULLPATH=DATAPATH+NC_FILENAME\n",
    "loader=GenCodeLoader()\n",
    "loader.set_label(1)\n",
    "loader.set_check_list(None) \n",
    "loader.set_check_utr(True)\n",
    "pcdf=loader.load_file(PC_FULLPATH)\n",
    "print(\"PC seqs loaded:\",len(pcdf))\n",
    "loader.set_label(0)\n",
    "loader.set_check_list(None)\n",
    "loader.set_check_utr(False)\n",
    "ncdf=loader.load_file(NC_FULLPATH)\n",
    "print(\"NC seqs loaded:\",len(ncdf))"
   ]
  },
  {
   "cell_type": "markdown",
   "metadata": {
    "id": "J0y1XAPLvr_G"
   },
   "source": [
    "## Process Sequences\n",
    "Sampling, binning, length constraints, etc.\n"
   ]
  },
  {
   "cell_type": "code",
   "execution_count": 3,
   "metadata": {
    "id": "6V7WMCLN3l1q"
   },
   "outputs": [],
   "source": [
    "APPLY_SUBSET = True             #Option to subset the data\n",
    "MINIMUM_SEQUENCE_LENGTH = 200   #Minimum inclusive length to filter out sequences by\n",
    "MAXIMUM_SEQUENCE_LENGTH = 4000  #Maximum inclusive length to filter out sequences by\n",
    "SAMPLE_FRACTION = 1             #What fraction of the GenCode data set to take a sample of\n",
    "REPRODUCABILITY_SEED = 314159   #Use to reproduce random sampling"
   ]
  },
  {
   "cell_type": "code",
   "execution_count": 4,
   "metadata": {
    "colab": {
     "base_uri": "https://localhost:8080/"
    },
    "id": "ANtZknso53FT",
    "outputId": "08e7cefa-5d61-4d99-8065-42f722f09976"
   },
   "outputs": [
    {
     "name": "stdout",
     "output_type": "stream",
     "text": [
      "PC sample size: 70825\n",
      "NC sample size: 48752\n"
     ]
    }
   ],
   "source": [
    "if APPLY_SUBSET:\n",
    "  pcdf = pcdf.sample(frac=SAMPLE_FRACTION, random_state=REPRODUCABILITY_SEED)\n",
    "  ncdf = ncdf.sample(frac=SAMPLE_FRACTION, random_state=REPRODUCABILITY_SEED)\n",
    "\n",
    "  print('PC sample size:', len(pcdf))\n",
    "  print('NC sample size:', len(ncdf))"
   ]
  },
  {
   "cell_type": "code",
   "execution_count": 5,
   "metadata": {
    "id": "7ga4K3Aw4sJd"
   },
   "outputs": [],
   "source": [
    "def subset_list_by_len_bounds(input_list, min_len, max_len):\n",
    "  return list(filter(lambda x: len(x) > min_len and len(x) <= max_len, input_list))"
   ]
  },
  {
   "cell_type": "code",
   "execution_count": 6,
   "metadata": {
    "colab": {
     "base_uri": "https://localhost:8080/"
    },
    "id": "D7pejW0g1lnR",
    "outputId": "06930e5c-d0bb-4372-9814-5df6c13bc00f"
   },
   "outputs": [
    {
     "name": "stdout",
     "output_type": "stream",
     "text": [
      "PC seqs in length range (200 - 4000): 55381\n",
      "NC seqs in length range (200 - 4000): 46912\n"
     ]
    }
   ],
   "source": [
    "pc_sequences = pcdf['sequence'].tolist()\n",
    "nc_sequences = ncdf['sequence'].tolist()\n",
    "\n",
    "if APPLY_SUBSET:\n",
    "  pc_sequences = subset_list_by_len_bounds(pc_sequences, MINIMUM_SEQUENCE_LENGTH, MAXIMUM_SEQUENCE_LENGTH)\n",
    "  nc_sequences = subset_list_by_len_bounds(nc_sequences, MINIMUM_SEQUENCE_LENGTH, MAXIMUM_SEQUENCE_LENGTH)\n",
    "\n",
    "  print('PC seqs in length range','('+str(MINIMUM_SEQUENCE_LENGTH),'-',str(MAXIMUM_SEQUENCE_LENGTH)+'):', len(pc_sequences))\n",
    "  print('NC seqs in length range','('+str(MINIMUM_SEQUENCE_LENGTH),'-',str(MAXIMUM_SEQUENCE_LENGTH)+'):', len(nc_sequences))\n",
    "\n",
    "#Garbage collection\n",
    "pcdf = None\n",
    "ncdf = None"
   ]
  },
  {
   "cell_type": "markdown",
   "metadata": {
    "id": "4k6CG3pCveOY"
   },
   "source": [
    "## Generate Statistics"
   ]
  },
  {
   "cell_type": "markdown",
   "metadata": {
    "id": "FhdVaD5VBKZh"
   },
   "source": [
    "\n",
    "Using KmerTools to get the K-mer counts upto 3.\n",
    "It returns the value in Dictionary form. (Key-Value Pair)"
   ]
  },
  {
   "cell_type": "code",
   "execution_count": 7,
   "metadata": {
    "colab": {
     "base_uri": "https://localhost:8080/"
    },
    "id": "MlIzMUBMBFG3",
    "outputId": "c40cda53-7d53-46d0-9d5f-5270e17a9577"
   },
   "outputs": [
    {
     "name": "stdout",
     "output_type": "stream",
     "text": [
      "PC counts:\n",
      " {'A': 27438043, 'C': 26672644, 'G': 27285489, 'T': 25795941, 'AA': 7861090, 'AC': 5526911, 'AG': 8138248, 'AT': 5884259, 'CA': 7882687, 'CC': 7944871, 'CG': 3107027, 'CT': 7728575, 'GA': 7485795, 'GC': 6980702, 'GG': 7647850, 'GT': 5162081, 'TA': 4189278, 'TC': 6210051, 'TG': 8370689, 'TT': 7016622, 'AAA': 2584373, 'AAC': 1394697, 'AAG': 2260653, 'AAT': 1608454, 'ACA': 1817696, 'ACC': 1613530, 'ACG': 605594, 'ACT': 1488256, 'AGA': 2442845, 'AGC': 2070291, 'AGG': 2142245, 'AGT': 1480385, 'ATA': 1109852, 'ATC': 1319297, 'ATG': 1861462, 'ATT': 1591831, 'CAA': 1807938, 'CAC': 1657493, 'CAG': 2777993, 'CAT': 1633426, 'CCA': 2349134, 'CCC': 2227044, 'CCG': 1030214, 'CCT': 2335886, 'CGA': 633797, 'CGC': 887842, 'CGG': 1030748, 'CGT': 554124, 'CTA': 1015917, 'CTC': 1940659, 'CTG': 2921538, 'CTT': 1848249, 'GAA': 2287415, 'GAC': 1458212, 'GAG': 2309074, 'GAT': 1426982, 'GCA': 1874139, 'GCC': 2196202, 'GCG': 903136, 'GCT': 2005229, 'GGA': 2353521, 'GGC': 2056026, 'GGG': 1961547, 'GGT': 1274376, 'GTA': 845906, 'GTC': 1163637, 'GTG': 1908159, 'GTT': 1242787, 'TAA': 1178086, 'TAC': 1012452, 'TAG': 781795, 'TAT': 1212272, 'TCA': 1840015, 'TCC': 1905416, 'TCG': 565823, 'TCT': 1895737, 'TGA': 2051288, 'TGC': 1960300, 'TGG': 2506553, 'TGT': 1848865, 'TTA': 1217174, 'TTC': 1785211, 'TTG': 1678226, 'TTT': 2332331}\n",
      "Frequency:\n",
      " {'A': 0.2559707165779737, 'C': 0.24883027545766262, 'G': 0.2545475335653647, 'T': 0.24065147439899895, 'AA': 0.07337436525973687, 'AC': 0.05158744989207063, 'AG': 0.07596132105424604, 'AT': 0.05492288844789896, 'CA': 0.07357594877633755, 'CC': 0.07415636593595683, 'CG': 0.029000575488878064, 'CT': 0.07213748792944373, 'GA': 0.0698714118003371, 'GC': 0.06515694112615117, 'GG': 0.0713840115495025, 'GT': 0.04818217534646566, 'TA': 0.039102161932579316, 'TC': 0.057963787509822964, 'TG': 0.07813089433674739, 'TT': 0.06549221361382523, 'AAA': 0.024134668449049792, 'AAC': 0.01302464840867955, 'AAG': 0.021111546449893166, 'AAT': 0.015020859607165038, 'ACA': 0.016974906602554664, 'ACC': 0.015068262817555867, 'ACG': 0.005655457012100753, 'ACT': 0.013898367274116022, 'AGA': 0.022812981774464846, 'AGC': 0.019333813995909933, 'AGG': 0.020005770378979607, 'AGT': 0.01382486241418966, 'ATA': 0.010364568136068132, 'ATC': 0.012320510886325636, 'ATG': 0.017383623881113572, 'ATT': 0.014865622497959611, 'CAA': 0.016883779627181596, 'CAC': 0.015478819818819066, 'CAG': 0.025942826367858343, 'CAT': 0.015254065471995568, 'CCA': 0.021937843427550948, 'CCC': 0.02079768228558557, 'CCG': 0.009620853228837083, 'CCT': 0.0218141244103607, 'CGA': 0.00591883619702048, 'CGC': 0.008291284696574861, 'CGG': 0.009625840091395929, 'CGT': 0.005174794435501867, 'CTA': 0.009487337921713822, 'CTC': 0.018123220424321303, 'CTG': 0.027283349188100953, 'CTT': 0.017260231718210887, 'GAA': 0.021361468576859156, 'GAC': 0.013617795553670384, 'GAG': 0.021563735348698192, 'GAT': 0.013326148142223266, 'GCA': 0.017502010504069545, 'GCC': 0.020509658287383457, 'GCG': 0.008434110681546755, 'GCT': 0.018726219891408734, 'GGA': 0.021978812277823716, 'GGC': 0.019200597526992443, 'GGG': 0.018318287063139982, 'GGT': 0.01190100741627709, 'GTA': 0.00789965722790863, 'GTC': 0.010866849789115948, 'GTG': 0.017819712871582547, 'GTT': 0.01160600741370895, 'TAA': 0.011001784577716634, 'TAC': 0.009454979347244905, 'TAG': 0.0073009442213352645, 'TAT': 0.011321037168422084, 'TCA': 0.017183336912387784, 'TCC': 0.017794096834131395, 'TCG': 0.005284047815793889, 'TCT': 0.017703707615578827, 'TGA': 0.019156350795150098, 'TGC': 0.018306641711808746, 'TGG': 0.02340793128738425, 'TGT': 0.017265984353672027, 'TTA': 0.011366815446069019, 'TTC': 0.016671539130224865, 'TTG': 0.01567243896007853, 'TTT': 0.021780925353438046}\n",
      "NC counts:\n",
      " {'A': 15481729, 'C': 12656329, 'G': 12651144, 'T': 14554795, 'AA': 4832119, 'AC': 2909697, 'AG': 4190062, 'AT': 3525640, 'CA': 4181750, 'CC': 3471644, 'CG': 922192, 'CT': 4072565, 'GA': 3753778, 'GC': 2901765, 'GG': 3335897, 'GT': 2653240, 'TA': 2697625, 'TC': 3365584, 'TG': 4186265, 'TT': 4297262, 'AAA': 1702274, 'AAC': 806206, 'AAG': 1218221, 'AAT': 1091531, 'ACA': 1080402, 'ACC': 744860, 'ACG': 211566, 'ACT': 870844, 'AGA': 1344232, 'AGC': 943815, 'AGG': 1088428, 'AGT': 811484, 'ATA': 779917, 'ATC': 718202, 'ATG': 988838, 'ATT': 1036565, 'CAA': 1020380, 'CAC': 900254, 'CAG': 1322493, 'CAT': 934324, 'CCA': 1150041, 'CCC': 902080, 'CCG': 281591, 'CCT': 1135850, 'CGA': 192630, 'CGC': 247267, 'CGG': 277467, 'CGT': 204428, 'CTA': 607407, 'CTC': 1034455, 'CTG': 1367184, 'CTT': 1061380, 'GAA': 1236585, 'GAC': 669752, 'GAG': 1102226, 'GAT': 742743, 'GCA': 900460, 'GCC': 854313, 'GCG': 241875, 'GCT': 903457, 'GGA': 1085204, 'GGC': 795027, 'GGG': 833775, 'GGT': 620361, 'GTA': 494777, 'GTC': 577254, 'GTG': 873703, 'GTT': 706225, 'TAA': 869832, 'TAC': 530138, 'TAG': 540237, 'TAT': 753865, 'TCA': 1048519, 'TCC': 968466, 'TCG': 186365, 'TCT': 1159823, 'TGA': 1127657, 'TGC': 912009, 'TGG': 1129817, 'TGT': 1014351, 'TTA': 814666, 'TTC': 1034428, 'TTG': 954654, 'TTT': 1490993}\n",
      "Frequency:\n",
      " {'A': 0.27973637321496675, 'C': 0.228684765937668, 'G': 0.22859107917341062, 'T': 0.26298778167395465, 'AA': 0.08738469667976169, 'AC': 0.05261935597509344, 'AG': 0.07577365063637623, 'AT': 0.06375815289359285, 'CA': 0.0756233352987775, 'CC': 0.06278168189154998, 'CG': 0.016677045453661797, 'CT': 0.07364881892056335, 'GA': 0.06788383148948991, 'GC': 0.05247591260913663, 'GG': 0.06032681469556668, 'GT': 0.047981552734651385, 'TA': 0.048784217106561764, 'TC': 0.060863678438022546, 'TG': 0.07570498517236487, 'TT': 0.07771227000482937, 'AAA': 0.030810292666413913, 'AAC': 0.014591918110374061, 'AAG': 0.02204917982790751, 'AAT': 0.019756155333667463, 'ACA': 0.01955472610013366, 'ACC': 0.013481586745438787, 'ACG': 0.0038292368785885975, 'ACT': 0.01576183299914735, 'AGA': 0.02432991476786869, 'AGC': 0.017082570945071974, 'AGG': 0.01969999261359779, 'AGT': 0.014687447223015935, 'ATA': 0.014116100595739312, 'ATC': 0.012999090518684892, 'ATG': 0.017897464321061946, 'ATT': 0.01876129872027731, 'CAA': 0.018468358461067626, 'CAC': 0.016294139024686856, 'CAG': 0.0239364499365459, 'CAT': 0.016910788677530476, 'CCA': 0.020815156542586755, 'CCC': 0.016327188694956665, 'CCG': 0.00509665372450508, 'CCT': 0.020558306668107627, 'CGA': 0.0034865049200841418, 'CGC': 0.004475406800988659, 'CGG': 0.00502201142429002, 'CGT': 0.003700042712988428, 'CTA': 0.010993757431311573, 'CTC': 0.018723108794609568, 'CTG': 0.024745334281577724, 'CTT': 0.019210437585417153, 'GAA': 0.022381558877652745, 'GAC': 0.012122170187593801, 'GAG': 0.019949729388177663, 'GAT': 0.013443270123335179, 'GCA': 0.01629786751979944, 'GCC': 0.015462630316107789, 'GCG': 0.0043778143463912775, 'GCT': 0.016352111693840307, 'GGA': 0.01964163985513674, 'GGC': 0.014389583902298369, 'GGG': 0.015090902973281188, 'GGT': 0.011228218235624348, 'GTA': 0.008955211778250902, 'GTC': 0.010448003484079588, 'GTG': 0.015813579443452602, 'GTT': 0.01278231291692064, 'TAA': 0.015743516314419503, 'TAC': 0.009595227873766115, 'TAG': 0.00977801463173699, 'TAT': 0.013644572660433117, 'TCA': 0.018977660033752293, 'TCC': 0.017528741493714417, 'TCG': 0.003373111609985366, 'TCT': 0.02099220576196205, 'TGA': 0.020410017539673586, 'TGC': 0.016506898539485115, 'TGG': 0.02044911243988322, 'TGT': 0.018359236630806568, 'TTA': 0.014745039802861794, 'TTC': 0.018722620108356947, 'TTG': 0.017278751326262814, 'TTT': 0.02698621414271409}\n"
     ]
    }
   ],
   "source": [
    "MAX_K = 3\n",
    "tool = KmerTools()\n",
    "pc_counts = tool.make_dict_upto_K(MAX_K)\n",
    "for sample in pc_sequences:\n",
    "    tool.update_count_one_K(pc_counts,MAX_K,sample,True)\n",
    "tool.harvest_counts_from_K(pc_counts,MAX_K)\n",
    "print(\"PC counts:\\n\",pc_counts)\n",
    "pc_freqs = tool.count_to_frequency(pc_counts,MAX_K)\n",
    "print (\"Frequency:\\n\",pc_freqs)\n",
    "\n",
    "nc_counts = tool.make_dict_upto_K(MAX_K)\n",
    "for sample in nc_sequences:\n",
    "    tool.update_count_one_K(nc_counts,MAX_K,sample,True)\n",
    "tool.harvest_counts_from_K(nc_counts,MAX_K)\n",
    "print(\"NC counts:\\n\",nc_counts)\n",
    "nc_freqs = tool.count_to_frequency(nc_counts,MAX_K)\n",
    "print (\"Frequency:\\n\",nc_freqs)\n",
    "\n",
    "#Garbage collection\n",
    "pc_counts = None\n",
    "nc_counts = None"
   ]
  },
  {
   "cell_type": "markdown",
   "metadata": {
    "id": "Wc3GALLxBbx2"
   },
   "source": [
    "This function takes a dictionary as a parameter. It checks the length of the key to determine if it is 1-mer, 2-mer or 3 mer and assign the values respectively. "
   ]
  },
  {
   "cell_type": "code",
   "execution_count": 8,
   "metadata": {
    "id": "ApuWlBClBXpe"
   },
   "outputs": [],
   "source": [
    "def get_stats(dict):\n",
    "  one_mer = []\n",
    "  one_mer_key = []\n",
    "  two_mer= []\n",
    "  two_mer_key=[]\n",
    "  three_mer= []\n",
    "  three_mer_key=[]\n",
    "  for sequence in enumerate(dict.items()):\n",
    "    if(len(sequence[1][0])==1):\n",
    "      one_mer.append(sequence[1][1])\n",
    "      one_mer_key.append(sequence[1][0])\n",
    "    if(len(sequence[1][0])==2):\n",
    "      two_mer.append(sequence[1][1])\n",
    "      two_mer_key.append(sequence[1][0])\n",
    "    if(len(sequence[1][0])==3):\n",
    "      three_mer.append(sequence[1][1])\n",
    "      three_mer_key.append(sequence[1][0])\n",
    "  return one_mer_key, one_mer, two_mer_key,two_mer, three_mer_key, three_mer"
   ]
  },
  {
   "cell_type": "code",
   "execution_count": 9,
   "metadata": {
    "id": "1Dz2OrqbBmgE"
   },
   "outputs": [],
   "source": [
    "#Gets the list  of 1-mer, 2-mer and 3-mer counts along with their key\n",
    "#In the order of Key-Value. \n",
    "pc_stats = get_stats(pc_freqs)\n",
    "nc_stats = get_stats(nc_freqs)\n",
    "\n",
    "#1-mer\n",
    "one_mer_pc = np.asarray(pc_stats[1])\n",
    "one_mer_nc = np.asarray(nc_stats[1])\n",
    "#2-mer\n",
    "two_mer_pc = np.asarray(pc_stats[3])\n",
    "two_mer_nc = np.asarray(nc_stats[3])\n",
    "#3-mer\n",
    "three_mer_pc = np.asarray(pc_stats[5])\n",
    "three_mer_nc = np.asarray(nc_stats[5])\n",
    "\n",
    "#Keys that can be used as labels.\n",
    "one_mer_keys = pc_stats[0]\n",
    "two_mer_keys = pc_stats[2]\n",
    "three_mer_keys = pc_stats[4]"
   ]
  },
  {
   "cell_type": "code",
   "execution_count": 10,
   "metadata": {
    "colab": {
     "base_uri": "https://localhost:8080/"
    },
    "id": "zGffZdEdCAoF",
    "outputId": "10133996-b872-49c6-f3a2-5c328b349877"
   },
   "outputs": [
    {
     "name": "stdout",
     "output_type": "stream",
     "text": [
      "['A', 'C', 'G', 'T']\n",
      "[0.25597072 0.24883028 0.25454753 0.24065147]\n",
      "[0.27973637 0.22868477 0.22859108 0.26298778]\n"
     ]
    }
   ],
   "source": [
    "print(one_mer_keys)\n",
    "print(one_mer_pc)\n",
    "print(one_mer_nc)"
   ]
  },
  {
   "cell_type": "code",
   "execution_count": 11,
   "metadata": {
    "id": "u8XDvm3i5nG7"
   },
   "outputs": [],
   "source": [
    "oc = ORF_counter()\n",
    "\n",
    "pc_max_orf_len = np.empty(1, dtype=object)\n",
    "nc_max_orf_len = np.empty(1, dtype=object)\n",
    "pc_max_orf_len[0] = np.zeros(len(pc_sequences))\n",
    "nc_max_orf_len[0] = np.zeros(len(nc_sequences))\n",
    "\n",
    "for i in range(len(pc_sequences)):\n",
    "  oc.set_sequence(pc_sequences[i])\n",
    "  pc_max_orf_len[0][i] = oc.get_max_orf_len()\n",
    "for i in range(len(nc_sequences)):\n",
    "  oc.set_sequence(nc_sequences[i])\n",
    "  nc_max_orf_len[0][i] = oc.get_max_orf_len()"
   ]
  },
  {
   "cell_type": "markdown",
   "metadata": {
    "id": "8Xq9mfp3H74S"
   },
   "source": [
    "Using Correlation to see if the total length of series have any relation to the length of ORF. "
   ]
  },
  {
   "cell_type": "code",
   "execution_count": 12,
   "metadata": {
    "id": "w4LH8MEN7GKD"
   },
   "outputs": [],
   "source": [
    "pc_seq_len = []\n",
    "for i in range(len(pc_sequences)):\n",
    "  pc_seq_len.append(len(pc_sequences[i]))\n",
    "pc_seq_len = np.asarray(pc_seq_len)\n",
    "pc_seq_len_orf_len_corrcoef = np.corrcoef(pc_seq_len, pc_max_orf_len[0])"
   ]
  },
  {
   "cell_type": "code",
   "execution_count": 13,
   "metadata": {
    "id": "i0pYce2tM8z9"
   },
   "outputs": [],
   "source": [
    "nc_seq_len = []\n",
    "for i in range(len(nc_sequences)):\n",
    "  nc_seq_len.append(len(nc_sequences[i]))\n",
    "nc_seq_len = np.asarray(nc_seq_len)\n",
    "nc_seq_len_orf_len_corrcoef = np.corrcoef(nc_seq_len, nc_max_orf_len[0])"
   ]
  },
  {
   "cell_type": "markdown",
   "metadata": {
    "id": "sSZUi6IdYDBK"
   },
   "source": [
    "KS-Similarity Test\n",
    "Not sure how it works but lets give it a shot. "
   ]
  },
  {
   "cell_type": "code",
   "execution_count": 14,
   "metadata": {
    "colab": {
     "base_uri": "https://localhost:8080/"
    },
    "id": "IBA-UEPgYCcK",
    "outputId": "76d7f5b0-faeb-4426-827b-ec667affc6d4"
   },
   "outputs": [
    {
     "name": "stdout",
     "output_type": "stream",
     "text": [
      "KstestResult(statistic=0.5115679341926332, pvalue=0.00020704247837182745)\n"
     ]
    }
   ],
   "source": [
    "x = kstest(two_mer_pc, \"norm\")\n",
    "print(x)"
   ]
  },
  {
   "cell_type": "markdown",
   "metadata": {
    "id": "4pFBfhxPvkxI"
   },
   "source": [
    "## Results"
   ]
  },
  {
   "cell_type": "code",
   "execution_count": 15,
   "metadata": {
    "id": "8hWYWuiIeSqR"
   },
   "outputs": [],
   "source": [
    "data_set_names = ['mRNA', 'lncRNA']"
   ]
  },
  {
   "cell_type": "code",
   "execution_count": 16,
   "metadata": {
    "id": "Knmk7fK5dskT"
   },
   "outputs": [],
   "source": [
    "pg = PlotGenerator()\n",
    "pg.set_text_options(90, 'right', 0, 'center', 12)"
   ]
  },
  {
   "cell_type": "code",
   "execution_count": 17,
   "metadata": {
    "colab": {
     "base_uri": "https://localhost:8080/",
     "height": 1000
    },
    "id": "lrE3WojZPRMx",
    "outputId": "ace286c3-6280-4e1f-ed04-54efc3c98a11"
   },
   "outputs": [
    {
     "data": {
      "image/png": "[encoded data removed]",
      "text/plain": [
       "<Figure size 460.8x345.6 with 1 Axes>"
      ]
     },
     "metadata": {
      "needs_background": "light",
      "tags": []
     },
     "output_type": "display_data"
    },
    {
     "data": {
      "image/png": "[encoded data removed]",
      "text/plain": [
       "<Figure size 460.8x345.6 with 1 Axes>"
      ]
     },
     "metadata": {
      "needs_background": "light",
      "tags": []
     },
     "output_type": "display_data"
    },
    {
     "data": {
      "image/png": "[encoded data removed]",
      "text/plain": [
       "<Figure size 1152x345.6 with 1 Axes>"
      ]
     },
     "metadata": {
      "needs_background": "light",
      "tags": []
     },
     "output_type": "display_data"
    },
    {
     "data": {
      "image/png": "[encoded data removed]",
      "text/plain": [
       "<Figure size 460.8x345.6 with 1 Axes>"
      ]
     },
     "metadata": {
      "needs_background": "light",
      "tags": []
     },
     "output_type": "display_data"
    },
    {
     "data": {
      "image/png": "[encoded data removed]",
      "text/plain": [
       "<Figure size 460.8x345.6 with 1 Axes>"
      ]
     },
     "metadata": {
      "needs_background": "light",
      "tags": []
     },
     "output_type": "display_data"
    },
    {
     "name": "stdout",
     "output_type": "stream",
     "text": [
      "mRNA Sequence Length ORF Length Correlation Coefficient:\n",
      "\t [[1.         0.71390581]\n",
      " [0.71390581 1.        ]]\n"
     ]
    },
    {
     "data": {
      "image/png": "[encoded data removed]",
      "text/plain": [
       "<Figure size 460.8x345.6 with 1 Axes>"
      ]
     },
     "metadata": {
      "needs_background": "light",
      "tags": []
     },
     "output_type": "display_data"
    },
    {
     "name": "stdout",
     "output_type": "stream",
     "text": [
      "lnc Sequence Length ORF Length Correlation Coefficient:\n",
      "\t [[1.         0.46745122]\n",
      " [0.46745122 1.        ]]\n"
     ]
    }
   ],
   "source": [
    "pg.set_text('1-Mer Frequencies', 'Mers', 'Frequency', one_mer_keys, None)\n",
    "pg.bar_plot([one_mer_pc, one_mer_nc], data_set_names)\n",
    "\n",
    "pg.set_text('2-Mer Frequencies', 'Mers', 'Frequency', two_mer_keys, None)\n",
    "pg.bar_plot([two_mer_pc, two_mer_nc], data_set_names)\n",
    "\n",
    "pg.set_figure_options(width=16)\n",
    "pg.set_text_options(90, 'right', 0, 'center', 7)\n",
    "pg.set_text('3-Mer Frequencies', 'Mers', 'Frequency', three_mer_keys, None)\n",
    "pg.bar_plot([three_mer_pc, three_mer_nc], data_set_names)\n",
    "\n",
    "pg.set_figure_options()\n",
    "pg.set_text_options(45, 'right', 0, 'center', 12)\n",
    "pg.set_text('Max ORF Lengths', 'RNA Types', 'Max ORF Length', [''], None)\n",
    "pg.box_plot([pc_max_orf_len, nc_max_orf_len], data_set_names, False)\n",
    "\n",
    "pg.set_text('mRNA ORF Length vs Sequence Length', 'Sequence Length', 'ORF Length', None, None)\n",
    "pg.scatter_plot(pc_seq_len, pc_max_orf_len[0], trendline=True)\n",
    "print('mRNA Sequence Length ORF Length Correlation Coefficient:')\n",
    "print('\\t', pc_seq_len_orf_len_corrcoef)\n",
    "\n",
    "pg.set_text('lncRNA ORF Length vs Sequence Length', 'Sequence Length', 'ORF Length', None, None)\n",
    "pg.scatter_plot(nc_seq_len, nc_max_orf_len[0], trendline=True)\n",
    "print('lnc Sequence Length ORF Length Correlation Coefficient:')\n",
    "print('\\t', nc_seq_len_orf_len_corrcoef)"
   ]
  }
 ],
 "metadata": {
  "colab": {
   "collapsed_sections": [],
   "name": "Analyzer_100.ipynb",
   "provenance": []
  },
  "kernelspec": {
   "display_name": "Python 3",
   "language": "python",
   "name": "python3"
  },
  "language_info": {
   "codemirror_mode": {
    "name": "ipython",
    "version": 3
   },
   "file_extension": ".py",
   "mimetype": "text/x-python",
   "name": "python",
   "nbconvert_exporter": "python",
   "pygments_lexer": "ipython3",
   "version": "3.8.3"
  }
 },
 "nbformat": 4,
 "nbformat_minor": 1
}
