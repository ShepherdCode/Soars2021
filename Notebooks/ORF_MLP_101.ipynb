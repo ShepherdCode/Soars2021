{
  "nbformat": 4,
  "nbformat_minor": 0,
  "metadata": {
    "accelerator": "GPU",
    "colab": {
      "name": "ORF_MLP_101.ipynb",
      "provenance": [],
      "collapsed_sections": []
    },
    "kernelspec": {
      "display_name": "Python 3",
      "language": "python",
      "name": "python3"
    },
    "language_info": {
      "codemirror_mode": {
        "name": "ipython",
        "version": 3
      },
      "file_extension": ".py",
      "mimetype": "text/x-python",
      "name": "python",
      "nbconvert_exporter": "python",
      "pygments_lexer": "ipython3",
      "version": "3.8.3"
    }
  },
  "cells": [
    {
      "cell_type": "markdown",
      "metadata": {
        "id": "0asdcdunj2Tx"
      },
      "source": [
        "# ORF recognition by MLP\n",
        "\n",
        "Compare to ORF_CNN_105."
      ]
    },
    {
      "cell_type": "code",
      "metadata": {
        "colab": {
          "base_uri": "https://localhost:8080/",
          "height": 36
        },
        "id": "QP1VTRNQj2UO",
        "outputId": "21f2115d-f7f2-4b2c-eb7c-58e1574b8460"
      },
      "source": [
        "import time \n",
        "t = time.time()\n",
        "time.strftime('%Y-%m-%d %H:%M:%S %Z', time.localtime(t))"
      ],
      "execution_count": 10,
      "outputs": [
        {
          "output_type": "execute_result",
          "data": {
            "application/vnd.google.colaboratory.intrinsic+json": {
              "type": "string"
            },
            "text/plain": [
              "'2021-05-17 15:25:44 UTC'"
            ]
          },
          "metadata": {
            "tags": []
          },
          "execution_count": 10
        }
      ]
    },
    {
      "cell_type": "code",
      "metadata": {
        "id": "Nhz4GKonj2T_"
      },
      "source": [
        "PC_SEQUENCES=20000   # how many protein-coding sequences\n",
        "NC_SEQUENCES=20000   # how many non-coding sequences\n",
        "PC_TESTS=1000\n",
        "NC_TESTS=1000\n",
        "BASES=1000            # how long is each sequence\n",
        "ALPHABET=4          # how many different letters are possible\n",
        "CODON_SPACE=64\n",
        "INPUT_SHAPE_2D = (BASES,ALPHABET,1) # Conv2D needs 3D inputs\n",
        "INPUT_SHAPE = (BASES,CODON_SPACE) # Conv1D needs 2D inputs\n",
        "#FILTERS = 32   # how many different patterns the model looks for\n",
        "#WIDTH = 3   # how wide each pattern is, in bases\n",
        "#STRIDE_2D = (1,1)  # For Conv2D how far in each direction\n",
        "#STRIDE = 1 # For Conv1D, how far between pattern matches, in bases\n",
        "#NEURONS = 16\n",
        "DROP_RATE = 0.01\n",
        "EPOCHS=50  # how many times to train on all the data\n",
        "SPLITS=5  # SPLITS=3 means train on 2/3 and validate on 1/3 \n",
        "FOLDS=5  # train the model this many times (range 1 to SPLITS)"
      ],
      "execution_count": 11,
      "outputs": []
    },
    {
      "cell_type": "code",
      "metadata": {
        "colab": {
          "base_uri": "https://localhost:8080/"
        },
        "id": "lr7q90rxj2UE",
        "outputId": "74e07d4f-933e-43d6-ee60-f87cf3374361"
      },
      "source": [
        "import sys\n",
        "try:\n",
        "    from google.colab import drive\n",
        "    IN_COLAB = True\n",
        "    print(\"On Google CoLab, mount cloud-local file, get our code from GitHub.\")\n",
        "    PATH='/content/drive/'\n",
        "    #drive.mount(PATH,force_remount=True)  # hardly ever need this\n",
        "    #drive.mount(PATH)    # Google will require login credentials\n",
        "    DATAPATH=PATH+'My Drive/data/'  # must end in \"/\"\n",
        "    import requests\n",
        "    r = requests.get('https://raw.githubusercontent.com/ShepherdCode/Soars2021/master/SimTools/RNA_gen.py')\n",
        "    with open('RNA_gen.py', 'w') as f:\n",
        "        f.write(r.text)  \n",
        "    from RNA_gen import *\n",
        "    r = requests.get('https://raw.githubusercontent.com/ShepherdCode/Soars2021/master/SimTools/RNA_describe.py')\n",
        "    with open('RNA_describe.py', 'w') as f:\n",
        "        f.write(r.text)  \n",
        "    from RNA_describe import *\n",
        "    r = requests.get('https://raw.githubusercontent.com/ShepherdCode/Soars2021/master/SimTools/RNA_prep.py')\n",
        "    with open('RNA_prep.py', 'w') as f:\n",
        "        f.write(r.text)  \n",
        "    from RNA_prep import *\n",
        "except:\n",
        "    print(\"CoLab not working. On my PC, use relative paths.\")\n",
        "    IN_COLAB = False\n",
        "    DATAPATH='data/'  # must end in \"/\"\n",
        "    sys.path.append(\"..\") # append parent dir in order to use sibling dirs\n",
        "    from SimTools.RNA_gen import *\n",
        "    from SimTools.RNA_describe import *\n",
        "    from SimTools.RNA_prep import *\n",
        "\n",
        "MODELPATH=\"BestModel\"  # saved on cloud instance and lost after logout\n",
        "#MODELPATH=DATAPATH+MODELPATH  # saved on Google Drive but requires login\n",
        "\n",
        "if not assert_imported_RNA_gen():\n",
        "    print(\"ERROR: Cannot use RNA_gen.\")\n",
        "if not assert_imported_RNA_prep():\n",
        "    print(\"ERROR: Cannot use RNA_prep.\")"
      ],
      "execution_count": 12,
      "outputs": [
        {
          "output_type": "stream",
          "text": [
            "On Google CoLab, mount cloud-local file, get our code from GitHub.\n"
          ],
          "name": "stdout"
        }
      ]
    },
    {
      "cell_type": "code",
      "metadata": {
        "id": "EGDXH8Uwj2UM"
      },
      "source": [
        "from os import listdir\n",
        "import csv\n",
        "from zipfile import ZipFile\n",
        "\n",
        "import numpy as np\n",
        "import pandas as pd\n",
        "from scipy import stats  # mode\n",
        "\n",
        "from sklearn.preprocessing import StandardScaler\n",
        "from sklearn.model_selection import KFold\n",
        "from sklearn.model_selection import cross_val_score\n",
        "\n",
        "from keras.models import Sequential\n",
        "from keras.layers import Dense,Embedding,Dropout\n",
        "from keras.layers import Conv1D,Conv2D\n",
        "from keras.layers import Flatten,MaxPooling1D,MaxPooling2D\n",
        "from keras.losses import BinaryCrossentropy\n",
        "# tf.keras.losses.BinaryCrossentropy\n",
        "\n",
        "import matplotlib.pyplot as plt\n",
        "from matplotlib import colors\n",
        "mycmap = colors.ListedColormap(['red','blue'])  # list color for label 0 then 1\n",
        "np.set_printoptions(precision=2)\n"
      ],
      "execution_count": 13,
      "outputs": []
    },
    {
      "cell_type": "code",
      "metadata": {
        "colab": {
          "base_uri": "https://localhost:8080/"
        },
        "id": "Q0FetlLPj2UQ",
        "outputId": "1f026b3d-a607-431e-ec54-0be889077f60"
      },
      "source": [
        "# Use code from our SimTools library.\n",
        "def make_generators(seq_len):\n",
        "    pcgen = Collection_Generator()  \n",
        "    pcgen.get_len_oracle().set_mean(seq_len)\n",
        "    pcgen.set_seq_oracle(Transcript_Oracle())\n",
        "    ncgen = Collection_Generator()  \n",
        "    ncgen.get_len_oracle().set_mean(seq_len)\n",
        "    return pcgen,ncgen\n",
        "\n",
        "pc_sim,nc_sim = make_generators(BASES)\n",
        "pc_train = pc_sim.get_sequences(PC_SEQUENCES)\n",
        "nc_train = nc_sim.get_sequences(NC_SEQUENCES)\n",
        "print(\"Train on\",len(pc_train),\"PC seqs\")\n",
        "print(\"Train on\",len(nc_train),\"NC seqs\")"
      ],
      "execution_count": 14,
      "outputs": [
        {
          "output_type": "stream",
          "text": [
            "Train on 20000 PC seqs\n",
            "Train on 20000 NC seqs\n"
          ],
          "name": "stdout"
        }
      ]
    },
    {
      "cell_type": "code",
      "metadata": {
        "colab": {
          "base_uri": "https://localhost:8080/"
        },
        "id": "CIpTrnH6j2US",
        "outputId": "6c76d33d-e491-4ab4-ae0f-003f5dd5e8c5"
      },
      "source": [
        "# Use code from our SimTools library.\n",
        "X,y = prepare_inputs_codon_frequency(pc_train,nc_train) # shuffles\n",
        "print(\"X shape:\",X.shape)"
      ],
      "execution_count": 15,
      "outputs": [
        {
          "output_type": "stream",
          "text": [
            "X shape: (40000, 64)\n"
          ],
          "name": "stdout"
        }
      ]
    },
    {
      "cell_type": "code",
      "metadata": {
        "id": "7NvrVU8ij2UU",
        "colab": {
          "base_uri": "https://localhost:8080/"
        },
        "outputId": "5d591c16-9772-45ac-aafc-1ac4a4353e99"
      },
      "source": [
        "def make_DNN():\n",
        "    print(\"make_DNN\")\n",
        "    print(\"input shape:\",INPUT_SHAPE)\n",
        "    dnn = Sequential()\n",
        "    dnn.add(Dense(64,activation=\"sigmoid\",dtype=np.float32))   \n",
        "    dnn.add(Dense(64,activation=\"sigmoid\",dtype=np.float32))   \n",
        "    dnn.add(Dense(64,activation=\"sigmoid\",dtype=np.float32))   \n",
        "    dnn.add(Dense(64,activation=\"sigmoid\",dtype=np.float32))   \n",
        "    dnn.add(Dense(1,activation=\"sigmoid\",dtype=np.float32))   \n",
        "    dnn.compile(optimizer='adam',\n",
        "                loss=BinaryCrossentropy(from_logits=False),\n",
        "                metrics=['accuracy'])   # add to default metrics=loss\n",
        "    dnn.build(input_shape=INPUT_SHAPE)\n",
        "    #ln_rate = tf.keras.optimizers.Adam(learning_rate = LN_RATE)\n",
        "    #bc=tf.keras.losses.BinaryCrossentropy(from_logits=False)\n",
        "    #model.compile(loss=bc, optimizer=ln_rate, metrics=[\"accuracy\"])\n",
        "    return dnn\n",
        "model = make_DNN()\n",
        "print(model.summary())"
      ],
      "execution_count": 16,
      "outputs": [
        {
          "output_type": "stream",
          "text": [
            "make_DNN\n",
            "input shape: (1000, 64)\n",
            "Model: \"sequential_3\"\n",
            "_________________________________________________________________\n",
            "Layer (type)                 Output Shape              Param #   \n",
            "=================================================================\n",
            "dense_15 (Dense)             (1000, 64)                4160      \n",
            "_________________________________________________________________\n",
            "dense_16 (Dense)             (1000, 64)                4160      \n",
            "_________________________________________________________________\n",
            "dense_17 (Dense)             (1000, 64)                4160      \n",
            "_________________________________________________________________\n",
            "dense_18 (Dense)             (1000, 64)                4160      \n",
            "_________________________________________________________________\n",
            "dense_19 (Dense)             (1000, 1)                 65        \n",
            "=================================================================\n",
            "Total params: 16,705\n",
            "Trainable params: 16,705\n",
            "Non-trainable params: 0\n",
            "_________________________________________________________________\n",
            "None\n"
          ],
          "name": "stdout"
        }
      ]
    },
    {
      "cell_type": "code",
      "metadata": {
        "id": "nlVF0hR3j2UW"
      },
      "source": [
        "from keras.callbacks import ModelCheckpoint\n",
        "def do_cross_validation(X,y):\n",
        "    cv_scores = []\n",
        "    fold=0\n",
        "    mycallbacks = [ModelCheckpoint(\n",
        "        filepath=MODELPATH, save_best_only=True, \n",
        "        monitor='val_accuracy', mode='max')]   \n",
        "    splitter = KFold(n_splits=SPLITS)  # this does not shuffle\n",
        "    for train_index,valid_index in splitter.split(X):\n",
        "        if fold < FOLDS:\n",
        "            fold += 1\n",
        "            X_train=X[train_index] # inputs for training\n",
        "            y_train=y[train_index] # labels for training\n",
        "            X_valid=X[valid_index] # inputs for validation\n",
        "            y_valid=y[valid_index] # labels for validation\n",
        "            print(\"MODEL\")\n",
        "            # Call constructor on each CV. Else, continually improves the same model.\n",
        "            model = model = make_DNN()\n",
        "            print(\"FIT\")  # model.fit() implements learning\n",
        "            start_time=time.time()\n",
        "            history=model.fit(X_train, y_train, \n",
        "                    epochs=EPOCHS, \n",
        "                    verbose=1,  # ascii art while learning\n",
        "                    callbacks=mycallbacks,   # called at end of each epoch\n",
        "                    validation_data=(X_valid,y_valid))\n",
        "            end_time=time.time()\n",
        "            elapsed_time=(end_time-start_time)                        \n",
        "            print(\"Fold %d, %d epochs, %d sec\"%(fold,EPOCHS,elapsed_time))\n",
        "            # print(history.history.keys())  # all these keys will be shown in figure\n",
        "            pd.DataFrame(history.history).plot(figsize=(8,5))\n",
        "            plt.grid(True)\n",
        "            plt.gca().set_ylim(0,1) # any losses > 1 will be off the scale\n",
        "            plt.show()\n"
      ],
      "execution_count": 17,
      "outputs": []
    },
    {
      "cell_type": "code",
      "metadata": {
        "id": "9Ggt4EsSj2UY",
        "colab": {
          "base_uri": "https://localhost:8080/",
          "height": 1000
        },
        "outputId": "460adce0-3fb8-4405-a42e-14cfd1c19756"
      },
      "source": [
        "do_cross_validation(X,y)"
      ],
      "execution_count": 18,
      "outputs": [
        {
          "output_type": "stream",
          "text": [
            "MODEL\n",
            "make_DNN\n",
            "input shape: (1000, 64)\n",
            "FIT\n",
            "Epoch 1/50\n",
            "1000/1000 [==============================] - 3s 2ms/step - loss: 0.7103 - accuracy: 0.4966 - val_loss: 0.7007 - val_accuracy: 0.5001\n",
            "INFO:tensorflow:Assets written to: BestModel/assets\n",
            "Epoch 2/50\n",
            "1000/1000 [==============================] - 2s 2ms/step - loss: 0.6947 - accuracy: 0.5010 - val_loss: 0.6959 - val_accuracy: 0.4999\n",
            "Epoch 3/50\n",
            "1000/1000 [==============================] - 2s 2ms/step - loss: 0.6937 - accuracy: 0.5101 - val_loss: 0.6936 - val_accuracy: 0.4999\n",
            "Epoch 4/50\n",
            "1000/1000 [==============================] - 2s 2ms/step - loss: 0.6941 - accuracy: 0.4974 - val_loss: 0.6932 - val_accuracy: 0.4999\n",
            "Epoch 5/50\n",
            "1000/1000 [==============================] - 2s 2ms/step - loss: 0.6939 - accuracy: 0.5031 - val_loss: 0.6931 - val_accuracy: 0.5060\n",
            "INFO:tensorflow:Assets written to: BestModel/assets\n",
            "Epoch 6/50\n",
            "1000/1000 [==============================] - 2s 2ms/step - loss: 0.6936 - accuracy: 0.5031 - val_loss: 0.6931 - val_accuracy: 0.5001\n",
            "Epoch 7/50\n",
            "1000/1000 [==============================] - 2s 2ms/step - loss: 0.6943 - accuracy: 0.5017 - val_loss: 0.6939 - val_accuracy: 0.4999\n",
            "Epoch 8/50\n",
            "1000/1000 [==============================] - 2s 2ms/step - loss: 0.6934 - accuracy: 0.5093 - val_loss: 0.6859 - val_accuracy: 0.5410\n",
            "INFO:tensorflow:Assets written to: BestModel/assets\n",
            "Epoch 9/50\n",
            "1000/1000 [==============================] - 2s 2ms/step - loss: 0.6749 - accuracy: 0.5748 - val_loss: 0.6371 - val_accuracy: 0.6376\n",
            "INFO:tensorflow:Assets written to: BestModel/assets\n",
            "Epoch 10/50\n",
            "1000/1000 [==============================] - 2s 2ms/step - loss: 0.6233 - accuracy: 0.6494 - val_loss: 0.6107 - val_accuracy: 0.6600\n",
            "INFO:tensorflow:Assets written to: BestModel/assets\n",
            "Epoch 11/50\n",
            "1000/1000 [==============================] - 2s 2ms/step - loss: 0.6184 - accuracy: 0.6574 - val_loss: 0.6094 - val_accuracy: 0.6647\n",
            "INFO:tensorflow:Assets written to: BestModel/assets\n",
            "Epoch 12/50\n",
            "1000/1000 [==============================] - 2s 2ms/step - loss: 0.6188 - accuracy: 0.6539 - val_loss: 0.6125 - val_accuracy: 0.6641\n",
            "Epoch 13/50\n",
            "1000/1000 [==============================] - 2s 2ms/step - loss: 0.6151 - accuracy: 0.6593 - val_loss: 0.6102 - val_accuracy: 0.6597\n",
            "Epoch 14/50\n",
            "1000/1000 [==============================] - 2s 2ms/step - loss: 0.6150 - accuracy: 0.6598 - val_loss: 0.6056 - val_accuracy: 0.6684\n",
            "INFO:tensorflow:Assets written to: BestModel/assets\n",
            "Epoch 15/50\n",
            "1000/1000 [==============================] - 2s 2ms/step - loss: 0.6105 - accuracy: 0.6637 - val_loss: 0.6032 - val_accuracy: 0.6700\n",
            "INFO:tensorflow:Assets written to: BestModel/assets\n",
            "Epoch 16/50\n",
            "1000/1000 [==============================] - 2s 2ms/step - loss: 0.6081 - accuracy: 0.6677 - val_loss: 0.6025 - val_accuracy: 0.6709\n",
            "INFO:tensorflow:Assets written to: BestModel/assets\n",
            "Epoch 17/50\n",
            "1000/1000 [==============================] - 2s 2ms/step - loss: 0.6081 - accuracy: 0.6693 - val_loss: 0.6064 - val_accuracy: 0.6679\n",
            "Epoch 18/50\n",
            "1000/1000 [==============================] - 2s 2ms/step - loss: 0.6113 - accuracy: 0.6676 - val_loss: 0.6006 - val_accuracy: 0.6716\n",
            "INFO:tensorflow:Assets written to: BestModel/assets\n",
            "Epoch 19/50\n",
            "1000/1000 [==============================] - 2s 2ms/step - loss: 0.6127 - accuracy: 0.6629 - val_loss: 0.5998 - val_accuracy: 0.6735\n",
            "INFO:tensorflow:Assets written to: BestModel/assets\n",
            "Epoch 20/50\n",
            "1000/1000 [==============================] - 2s 2ms/step - loss: 0.6083 - accuracy: 0.6678 - val_loss: 0.6027 - val_accuracy: 0.6734\n",
            "Epoch 21/50\n",
            "1000/1000 [==============================] - 2s 2ms/step - loss: 0.6086 - accuracy: 0.6674 - val_loss: 0.6006 - val_accuracy: 0.6730\n",
            "Epoch 22/50\n",
            "1000/1000 [==============================] - 2s 2ms/step - loss: 0.6071 - accuracy: 0.6725 - val_loss: 0.5988 - val_accuracy: 0.6733\n",
            "Epoch 23/50\n",
            "1000/1000 [==============================] - 2s 2ms/step - loss: 0.6061 - accuracy: 0.6645 - val_loss: 0.5999 - val_accuracy: 0.6719\n",
            "Epoch 24/50\n",
            "1000/1000 [==============================] - 2s 2ms/step - loss: 0.6061 - accuracy: 0.6701 - val_loss: 0.6208 - val_accuracy: 0.6575\n",
            "Epoch 25/50\n",
            "1000/1000 [==============================] - 2s 2ms/step - loss: 0.6074 - accuracy: 0.6662 - val_loss: 0.6100 - val_accuracy: 0.6633\n",
            "Epoch 26/50\n",
            "1000/1000 [==============================] - 2s 2ms/step - loss: 0.6090 - accuracy: 0.6658 - val_loss: 0.6031 - val_accuracy: 0.6690\n",
            "Epoch 27/50\n",
            "1000/1000 [==============================] - 2s 2ms/step - loss: 0.6050 - accuracy: 0.6698 - val_loss: 0.5982 - val_accuracy: 0.6743\n",
            "INFO:tensorflow:Assets written to: BestModel/assets\n",
            "Epoch 28/50\n",
            "1000/1000 [==============================] - 2s 2ms/step - loss: 0.6049 - accuracy: 0.6726 - val_loss: 0.6176 - val_accuracy: 0.6591\n",
            "Epoch 29/50\n",
            "1000/1000 [==============================] - 2s 2ms/step - loss: 0.6073 - accuracy: 0.6711 - val_loss: 0.5988 - val_accuracy: 0.6735\n",
            "Epoch 30/50\n",
            "1000/1000 [==============================] - 2s 2ms/step - loss: 0.6030 - accuracy: 0.6712 - val_loss: 0.6407 - val_accuracy: 0.6364\n",
            "Epoch 31/50\n",
            "1000/1000 [==============================] - 2s 2ms/step - loss: 0.6087 - accuracy: 0.6674 - val_loss: 0.5978 - val_accuracy: 0.6745\n",
            "INFO:tensorflow:Assets written to: BestModel/assets\n",
            "Epoch 32/50\n",
            "1000/1000 [==============================] - 2s 2ms/step - loss: 0.6034 - accuracy: 0.6752 - val_loss: 0.6259 - val_accuracy: 0.6526\n",
            "Epoch 33/50\n",
            "1000/1000 [==============================] - 2s 2ms/step - loss: 0.6070 - accuracy: 0.6714 - val_loss: 0.5978 - val_accuracy: 0.6762\n",
            "INFO:tensorflow:Assets written to: BestModel/assets\n",
            "Epoch 34/50\n",
            "1000/1000 [==============================] - 2s 2ms/step - loss: 0.6066 - accuracy: 0.6714 - val_loss: 0.5981 - val_accuracy: 0.6736\n",
            "Epoch 35/50\n",
            "1000/1000 [==============================] - 2s 2ms/step - loss: 0.6042 - accuracy: 0.6718 - val_loss: 0.5978 - val_accuracy: 0.6768\n",
            "INFO:tensorflow:Assets written to: BestModel/assets\n",
            "Epoch 36/50\n",
            "1000/1000 [==============================] - 2s 2ms/step - loss: 0.6034 - accuracy: 0.6718 - val_loss: 0.5989 - val_accuracy: 0.6730\n",
            "Epoch 37/50\n",
            "1000/1000 [==============================] - 2s 2ms/step - loss: 0.6055 - accuracy: 0.6706 - val_loss: 0.5980 - val_accuracy: 0.6764\n",
            "Epoch 38/50\n",
            "1000/1000 [==============================] - 2s 2ms/step - loss: 0.6043 - accuracy: 0.6741 - val_loss: 0.6064 - val_accuracy: 0.6689\n",
            "Epoch 39/50\n",
            "1000/1000 [==============================] - 2s 2ms/step - loss: 0.6038 - accuracy: 0.6706 - val_loss: 0.5973 - val_accuracy: 0.6761\n",
            "Epoch 40/50\n",
            "1000/1000 [==============================] - 2s 2ms/step - loss: 0.6003 - accuracy: 0.6741 - val_loss: 0.5996 - val_accuracy: 0.6743\n",
            "Epoch 41/50\n",
            "1000/1000 [==============================] - 2s 2ms/step - loss: 0.6044 - accuracy: 0.6697 - val_loss: 0.5988 - val_accuracy: 0.6744\n",
            "Epoch 42/50\n",
            "1000/1000 [==============================] - 2s 2ms/step - loss: 0.6050 - accuracy: 0.6726 - val_loss: 0.5997 - val_accuracy: 0.6740\n",
            "Epoch 43/50\n",
            "1000/1000 [==============================] - 2s 2ms/step - loss: 0.6024 - accuracy: 0.6773 - val_loss: 0.5999 - val_accuracy: 0.6745\n",
            "Epoch 44/50\n",
            "1000/1000 [==============================] - 2s 2ms/step - loss: 0.6072 - accuracy: 0.6669 - val_loss: 0.5970 - val_accuracy: 0.6764\n",
            "Epoch 45/50\n",
            "1000/1000 [==============================] - 2s 2ms/step - loss: 0.6005 - accuracy: 0.6737 - val_loss: 0.6074 - val_accuracy: 0.6696\n",
            "Epoch 46/50\n",
            "1000/1000 [==============================] - 2s 2ms/step - loss: 0.6057 - accuracy: 0.6701 - val_loss: 0.5981 - val_accuracy: 0.6764\n",
            "Epoch 47/50\n",
            "1000/1000 [==============================] - 2s 2ms/step - loss: 0.6051 - accuracy: 0.6703 - val_loss: 0.6043 - val_accuracy: 0.6725\n",
            "Epoch 48/50\n",
            "1000/1000 [==============================] - 2s 2ms/step - loss: 0.6048 - accuracy: 0.6667 - val_loss: 0.5995 - val_accuracy: 0.6754\n",
            "Epoch 49/50\n",
            "1000/1000 [==============================] - 2s 2ms/step - loss: 0.6001 - accuracy: 0.6794 - val_loss: 0.5976 - val_accuracy: 0.6754\n",
            "Epoch 50/50\n",
            "1000/1000 [==============================] - 2s 2ms/step - loss: 0.6082 - accuracy: 0.6656 - val_loss: 0.5987 - val_accuracy: 0.6769\n",
            "INFO:tensorflow:Assets written to: BestModel/assets\n",
            "Fold 1, 50 epochs, 115 sec\n"
          ],
          "name": "stdout"
        },
        {
          "output_type": "display_data",
          "data": {
            "image/png": "[encoded data removed]",
            "text/plain": [
              "<Figure size 576x360 with 1 Axes>"
            ]
          },
          "metadata": {
            "tags": [],
            "needs_background": "light"
          }
        },
        {
          "output_type": "stream",
          "text": [
            "MODEL\n",
            "make_DNN\n",
            "input shape: (1000, 64)\n",
            "FIT\n",
            "Epoch 1/50\n",
            "1000/1000 [==============================] - 3s 2ms/step - loss: 0.7032 - accuracy: 0.4994 - val_loss: 0.6933 - val_accuracy: 0.5005\n",
            "Epoch 2/50\n",
            "1000/1000 [==============================] - 2s 2ms/step - loss: 0.6948 - accuracy: 0.5004 - val_loss: 0.6934 - val_accuracy: 0.4995\n",
            "Epoch 3/50\n",
            "1000/1000 [==============================] - 2s 2ms/step - loss: 0.6944 - accuracy: 0.4998 - val_loss: 0.6940 - val_accuracy: 0.5005\n",
            "Epoch 4/50\n",
            "1000/1000 [==============================] - 2s 2ms/step - loss: 0.6946 - accuracy: 0.4975 - val_loss: 0.6931 - val_accuracy: 0.5005\n",
            "Epoch 5/50\n",
            "1000/1000 [==============================] - 2s 2ms/step - loss: 0.6948 - accuracy: 0.4998 - val_loss: 0.6941 - val_accuracy: 0.5005\n",
            "Epoch 6/50\n",
            "1000/1000 [==============================] - 2s 2ms/step - loss: 0.6939 - accuracy: 0.5050 - val_loss: 0.6933 - val_accuracy: 0.5005\n",
            "Epoch 7/50\n",
            "1000/1000 [==============================] - 2s 2ms/step - loss: 0.6940 - accuracy: 0.5015 - val_loss: 0.6934 - val_accuracy: 0.5005\n",
            "Epoch 8/50\n",
            "1000/1000 [==============================] - 2s 2ms/step - loss: 0.6942 - accuracy: 0.4992 - val_loss: 0.6933 - val_accuracy: 0.5005\n",
            "Epoch 9/50\n",
            "1000/1000 [==============================] - 2s 2ms/step - loss: 0.6929 - accuracy: 0.5082 - val_loss: 0.6864 - val_accuracy: 0.5046\n",
            "Epoch 10/50\n",
            "1000/1000 [==============================] - 2s 2ms/step - loss: 0.6478 - accuracy: 0.6246 - val_loss: 0.6271 - val_accuracy: 0.6466\n",
            "Epoch 11/50\n",
            "1000/1000 [==============================] - 2s 2ms/step - loss: 0.6226 - accuracy: 0.6526 - val_loss: 0.6485 - val_accuracy: 0.6317\n",
            "Epoch 12/50\n",
            "1000/1000 [==============================] - 2s 2ms/step - loss: 0.6147 - accuracy: 0.6625 - val_loss: 0.6428 - val_accuracy: 0.6380\n",
            "Epoch 13/50\n",
            "1000/1000 [==============================] - 2s 2ms/step - loss: 0.6112 - accuracy: 0.6615 - val_loss: 0.6341 - val_accuracy: 0.6472\n",
            "Epoch 14/50\n",
            "1000/1000 [==============================] - 2s 2ms/step - loss: 0.6123 - accuracy: 0.6654 - val_loss: 0.6189 - val_accuracy: 0.6559\n",
            "Epoch 15/50\n",
            "1000/1000 [==============================] - 2s 2ms/step - loss: 0.6128 - accuracy: 0.6613 - val_loss: 0.6128 - val_accuracy: 0.6660\n",
            "Epoch 16/50\n",
            "1000/1000 [==============================] - 2s 2ms/step - loss: 0.6163 - accuracy: 0.6613 - val_loss: 0.6120 - val_accuracy: 0.6659\n",
            "Epoch 17/50\n",
            "1000/1000 [==============================] - 2s 2ms/step - loss: 0.6072 - accuracy: 0.6687 - val_loss: 0.6216 - val_accuracy: 0.6559\n",
            "Epoch 18/50\n",
            "1000/1000 [==============================] - 2s 2ms/step - loss: 0.6116 - accuracy: 0.6664 - val_loss: 0.6116 - val_accuracy: 0.6683\n",
            "Epoch 19/50\n",
            "1000/1000 [==============================] - 2s 2ms/step - loss: 0.6090 - accuracy: 0.6674 - val_loss: 0.6276 - val_accuracy: 0.6450\n",
            "Epoch 20/50\n",
            "1000/1000 [==============================] - 2s 2ms/step - loss: 0.6086 - accuracy: 0.6688 - val_loss: 0.6206 - val_accuracy: 0.6528\n",
            "Epoch 21/50\n",
            "1000/1000 [==============================] - 2s 2ms/step - loss: 0.6050 - accuracy: 0.6726 - val_loss: 0.6085 - val_accuracy: 0.6644\n",
            "Epoch 22/50\n",
            "1000/1000 [==============================] - 2s 2ms/step - loss: 0.6079 - accuracy: 0.6683 - val_loss: 0.6081 - val_accuracy: 0.6637\n",
            "Epoch 23/50\n",
            "1000/1000 [==============================] - 2s 2ms/step - loss: 0.6078 - accuracy: 0.6715 - val_loss: 0.6088 - val_accuracy: 0.6666\n",
            "Epoch 24/50\n",
            "1000/1000 [==============================] - 2s 2ms/step - loss: 0.6061 - accuracy: 0.6695 - val_loss: 0.6228 - val_accuracy: 0.6536\n",
            "Epoch 25/50\n",
            "1000/1000 [==============================] - 2s 2ms/step - loss: 0.6072 - accuracy: 0.6690 - val_loss: 0.6108 - val_accuracy: 0.6671\n",
            "Epoch 26/50\n",
            "1000/1000 [==============================] - 2s 2ms/step - loss: 0.6067 - accuracy: 0.6701 - val_loss: 0.6068 - val_accuracy: 0.6664\n",
            "Epoch 27/50\n",
            "1000/1000 [==============================] - 2s 2ms/step - loss: 0.6068 - accuracy: 0.6661 - val_loss: 0.6099 - val_accuracy: 0.6656\n",
            "Epoch 28/50\n",
            "1000/1000 [==============================] - 2s 2ms/step - loss: 0.6007 - accuracy: 0.6754 - val_loss: 0.6388 - val_accuracy: 0.6352\n",
            "Epoch 29/50\n",
            "1000/1000 [==============================] - 2s 2ms/step - loss: 0.6048 - accuracy: 0.6708 - val_loss: 0.6063 - val_accuracy: 0.6653\n",
            "Epoch 30/50\n",
            "1000/1000 [==============================] - 2s 2ms/step - loss: 0.6022 - accuracy: 0.6700 - val_loss: 0.6071 - val_accuracy: 0.6669\n",
            "Epoch 31/50\n",
            "1000/1000 [==============================] - 2s 2ms/step - loss: 0.6049 - accuracy: 0.6737 - val_loss: 0.6059 - val_accuracy: 0.6686\n",
            "Epoch 32/50\n",
            "1000/1000 [==============================] - 2s 2ms/step - loss: 0.6037 - accuracy: 0.6713 - val_loss: 0.6060 - val_accuracy: 0.6693\n",
            "Epoch 33/50\n",
            "1000/1000 [==============================] - 2s 2ms/step - loss: 0.5991 - accuracy: 0.6751 - val_loss: 0.6058 - val_accuracy: 0.6686\n",
            "Epoch 34/50\n",
            "1000/1000 [==============================] - 2s 2ms/step - loss: 0.6019 - accuracy: 0.6739 - val_loss: 0.6061 - val_accuracy: 0.6658\n",
            "Epoch 35/50\n",
            "1000/1000 [==============================] - 2s 2ms/step - loss: 0.6063 - accuracy: 0.6730 - val_loss: 0.6097 - val_accuracy: 0.6676\n",
            "Epoch 36/50\n",
            "1000/1000 [==============================] - 2s 2ms/step - loss: 0.5999 - accuracy: 0.6732 - val_loss: 0.6055 - val_accuracy: 0.6653\n",
            "Epoch 37/50\n",
            "1000/1000 [==============================] - 2s 2ms/step - loss: 0.6008 - accuracy: 0.6723 - val_loss: 0.6079 - val_accuracy: 0.6669\n",
            "Epoch 38/50\n",
            "1000/1000 [==============================] - 2s 2ms/step - loss: 0.5982 - accuracy: 0.6773 - val_loss: 0.6056 - val_accuracy: 0.6672\n",
            "Epoch 39/50\n",
            "1000/1000 [==============================] - 2s 2ms/step - loss: 0.6003 - accuracy: 0.6764 - val_loss: 0.6075 - val_accuracy: 0.6668\n",
            "Epoch 40/50\n",
            "1000/1000 [==============================] - 2s 2ms/step - loss: 0.5984 - accuracy: 0.6788 - val_loss: 0.6122 - val_accuracy: 0.6628\n",
            "Epoch 41/50\n",
            "1000/1000 [==============================] - 2s 2ms/step - loss: 0.6047 - accuracy: 0.6737 - val_loss: 0.6054 - val_accuracy: 0.6661\n",
            "Epoch 42/50\n",
            "1000/1000 [==============================] - 2s 2ms/step - loss: 0.6004 - accuracy: 0.6758 - val_loss: 0.6069 - val_accuracy: 0.6678\n",
            "Epoch 43/50\n",
            "1000/1000 [==============================] - 2s 2ms/step - loss: 0.6006 - accuracy: 0.6766 - val_loss: 0.6052 - val_accuracy: 0.6661\n",
            "Epoch 44/50\n",
            "1000/1000 [==============================] - 2s 2ms/step - loss: 0.5996 - accuracy: 0.6733 - val_loss: 0.6108 - val_accuracy: 0.6639\n",
            "Epoch 45/50\n",
            "1000/1000 [==============================] - 2s 2ms/step - loss: 0.5979 - accuracy: 0.6771 - val_loss: 0.6118 - val_accuracy: 0.6624\n",
            "Epoch 46/50\n",
            "1000/1000 [==============================] - 2s 2ms/step - loss: 0.6031 - accuracy: 0.6714 - val_loss: 0.6052 - val_accuracy: 0.6661\n",
            "Epoch 47/50\n",
            "1000/1000 [==============================] - 2s 2ms/step - loss: 0.6021 - accuracy: 0.6704 - val_loss: 0.6053 - val_accuracy: 0.6689\n",
            "Epoch 48/50\n",
            "1000/1000 [==============================] - 2s 2ms/step - loss: 0.6050 - accuracy: 0.6719 - val_loss: 0.6058 - val_accuracy: 0.6666\n",
            "Epoch 49/50\n",
            "1000/1000 [==============================] - 2s 2ms/step - loss: 0.6018 - accuracy: 0.6734 - val_loss: 0.6109 - val_accuracy: 0.6646\n",
            "Epoch 50/50\n",
            "1000/1000 [==============================] - 2s 2ms/step - loss: 0.6054 - accuracy: 0.6684 - val_loss: 0.6088 - val_accuracy: 0.6662\n",
            "Fold 2, 50 epochs, 103 sec\n"
          ],
          "name": "stdout"
        },
        {
          "output_type": "display_data",
          "data": {
            "image/png": "[encoded data removed]",
            "text/plain": [
              "<Figure size 576x360 with 1 Axes>"
            ]
          },
          "metadata": {
            "tags": [],
            "needs_background": "light"
          }
        },
        {
          "output_type": "stream",
          "text": [
            "MODEL\n",
            "make_DNN\n",
            "input shape: (1000, 64)\n",
            "FIT\n",
            "Epoch 1/50\n",
            "1000/1000 [==============================] - 3s 2ms/step - loss: 0.6976 - accuracy: 0.4977 - val_loss: 0.6937 - val_accuracy: 0.5014\n",
            "Epoch 2/50\n",
            "1000/1000 [==============================] - 2s 2ms/step - loss: 0.6942 - accuracy: 0.4991 - val_loss: 0.6936 - val_accuracy: 0.4986\n",
            "Epoch 3/50\n",
            "1000/1000 [==============================] - 2s 2ms/step - loss: 0.6942 - accuracy: 0.4966 - val_loss: 0.6941 - val_accuracy: 0.5014\n",
            "Epoch 4/50\n",
            "1000/1000 [==============================] - 2s 2ms/step - loss: 0.6945 - accuracy: 0.4981 - val_loss: 0.6940 - val_accuracy: 0.5014\n",
            "Epoch 5/50\n",
            "1000/1000 [==============================] - 2s 2ms/step - loss: 0.6942 - accuracy: 0.5053 - val_loss: 0.6933 - val_accuracy: 0.5014\n",
            "Epoch 6/50\n",
            "1000/1000 [==============================] - 2s 2ms/step - loss: 0.6937 - accuracy: 0.5014 - val_loss: 0.6931 - val_accuracy: 0.4986\n",
            "Epoch 7/50\n",
            "1000/1000 [==============================] - 2s 2ms/step - loss: 0.6941 - accuracy: 0.4967 - val_loss: 0.6931 - val_accuracy: 0.4988\n",
            "Epoch 8/50\n",
            "1000/1000 [==============================] - 2s 2ms/step - loss: 0.6939 - accuracy: 0.4945 - val_loss: 0.6937 - val_accuracy: 0.4986\n",
            "Epoch 9/50\n",
            "1000/1000 [==============================] - 2s 2ms/step - loss: 0.6932 - accuracy: 0.5077 - val_loss: 0.6848 - val_accuracy: 0.5554\n",
            "Epoch 10/50\n",
            "1000/1000 [==============================] - 2s 2ms/step - loss: 0.6757 - accuracy: 0.5714 - val_loss: 0.6382 - val_accuracy: 0.6341\n",
            "Epoch 11/50\n",
            "1000/1000 [==============================] - 2s 2ms/step - loss: 0.6271 - accuracy: 0.6532 - val_loss: 0.6191 - val_accuracy: 0.6607\n",
            "Epoch 12/50\n",
            "1000/1000 [==============================] - 2s 2ms/step - loss: 0.6189 - accuracy: 0.6552 - val_loss: 0.6168 - val_accuracy: 0.6611\n",
            "Epoch 13/50\n",
            "1000/1000 [==============================] - 2s 2ms/step - loss: 0.6156 - accuracy: 0.6569 - val_loss: 0.6318 - val_accuracy: 0.6404\n",
            "Epoch 14/50\n",
            "1000/1000 [==============================] - 2s 2ms/step - loss: 0.6115 - accuracy: 0.6654 - val_loss: 0.6127 - val_accuracy: 0.6659\n",
            "Epoch 15/50\n",
            "1000/1000 [==============================] - 2s 2ms/step - loss: 0.6146 - accuracy: 0.6559 - val_loss: 0.6167 - val_accuracy: 0.6578\n",
            "Epoch 16/50\n",
            "1000/1000 [==============================] - 2s 2ms/step - loss: 0.6088 - accuracy: 0.6646 - val_loss: 0.6104 - val_accuracy: 0.6675\n",
            "Epoch 17/50\n",
            "1000/1000 [==============================] - 2s 2ms/step - loss: 0.6070 - accuracy: 0.6681 - val_loss: 0.6386 - val_accuracy: 0.6354\n",
            "Epoch 18/50\n",
            "1000/1000 [==============================] - 2s 2ms/step - loss: 0.6130 - accuracy: 0.6611 - val_loss: 0.6427 - val_accuracy: 0.6305\n",
            "Epoch 19/50\n",
            "1000/1000 [==============================] - 2s 2ms/step - loss: 0.6094 - accuracy: 0.6663 - val_loss: 0.6079 - val_accuracy: 0.6695\n",
            "Epoch 20/50\n",
            "1000/1000 [==============================] - 2s 2ms/step - loss: 0.6058 - accuracy: 0.6684 - val_loss: 0.6073 - val_accuracy: 0.6699\n",
            "Epoch 21/50\n",
            "1000/1000 [==============================] - 2s 2ms/step - loss: 0.6040 - accuracy: 0.6734 - val_loss: 0.6100 - val_accuracy: 0.6666\n",
            "Epoch 22/50\n",
            "1000/1000 [==============================] - 2s 2ms/step - loss: 0.6039 - accuracy: 0.6736 - val_loss: 0.6166 - val_accuracy: 0.6594\n",
            "Epoch 23/50\n",
            "1000/1000 [==============================] - 2s 2ms/step - loss: 0.6076 - accuracy: 0.6657 - val_loss: 0.6220 - val_accuracy: 0.6565\n",
            "Epoch 24/50\n",
            "1000/1000 [==============================] - 2s 2ms/step - loss: 0.6065 - accuracy: 0.6679 - val_loss: 0.6090 - val_accuracy: 0.6701\n",
            "Epoch 25/50\n",
            "1000/1000 [==============================] - 2s 2ms/step - loss: 0.6063 - accuracy: 0.6683 - val_loss: 0.6142 - val_accuracy: 0.6615\n",
            "Epoch 26/50\n",
            "1000/1000 [==============================] - 2s 2ms/step - loss: 0.6045 - accuracy: 0.6764 - val_loss: 0.6050 - val_accuracy: 0.6714\n",
            "Epoch 27/50\n",
            "1000/1000 [==============================] - 2s 2ms/step - loss: 0.6018 - accuracy: 0.6736 - val_loss: 0.6283 - val_accuracy: 0.6515\n",
            "Epoch 28/50\n",
            "1000/1000 [==============================] - 2s 2ms/step - loss: 0.6075 - accuracy: 0.6688 - val_loss: 0.6121 - val_accuracy: 0.6650\n",
            "Epoch 29/50\n",
            "1000/1000 [==============================] - 2s 2ms/step - loss: 0.6072 - accuracy: 0.6667 - val_loss: 0.6071 - val_accuracy: 0.6695\n",
            "Epoch 30/50\n",
            "1000/1000 [==============================] - 2s 2ms/step - loss: 0.6079 - accuracy: 0.6694 - val_loss: 0.6077 - val_accuracy: 0.6697\n",
            "Epoch 31/50\n",
            "1000/1000 [==============================] - 2s 2ms/step - loss: 0.6012 - accuracy: 0.6723 - val_loss: 0.6044 - val_accuracy: 0.6739\n",
            "Epoch 32/50\n",
            "1000/1000 [==============================] - 2s 2ms/step - loss: 0.6052 - accuracy: 0.6680 - val_loss: 0.6054 - val_accuracy: 0.6740\n",
            "Epoch 33/50\n",
            "1000/1000 [==============================] - 2s 2ms/step - loss: 0.6045 - accuracy: 0.6706 - val_loss: 0.6061 - val_accuracy: 0.6724\n",
            "Epoch 34/50\n",
            "1000/1000 [==============================] - 2s 2ms/step - loss: 0.6031 - accuracy: 0.6712 - val_loss: 0.6116 - val_accuracy: 0.6645\n",
            "Epoch 35/50\n",
            "1000/1000 [==============================] - 2s 2ms/step - loss: 0.6001 - accuracy: 0.6743 - val_loss: 0.6157 - val_accuracy: 0.6637\n",
            "Epoch 36/50\n",
            "1000/1000 [==============================] - 2s 2ms/step - loss: 0.6031 - accuracy: 0.6691 - val_loss: 0.6088 - val_accuracy: 0.6669\n",
            "Epoch 37/50\n",
            "1000/1000 [==============================] - 2s 2ms/step - loss: 0.6065 - accuracy: 0.6704 - val_loss: 0.6054 - val_accuracy: 0.6729\n",
            "Epoch 38/50\n",
            "1000/1000 [==============================] - 2s 2ms/step - loss: 0.5995 - accuracy: 0.6773 - val_loss: 0.6159 - val_accuracy: 0.6637\n",
            "Epoch 39/50\n",
            "1000/1000 [==============================] - 2s 2ms/step - loss: 0.6034 - accuracy: 0.6718 - val_loss: 0.6043 - val_accuracy: 0.6733\n",
            "Epoch 40/50\n",
            "1000/1000 [==============================] - 2s 2ms/step - loss: 0.6041 - accuracy: 0.6714 - val_loss: 0.6040 - val_accuracy: 0.6734\n",
            "Epoch 41/50\n",
            "1000/1000 [==============================] - 2s 2ms/step - loss: 0.6057 - accuracy: 0.6709 - val_loss: 0.6079 - val_accuracy: 0.6671\n",
            "Epoch 42/50\n",
            "1000/1000 [==============================] - 2s 2ms/step - loss: 0.6037 - accuracy: 0.6679 - val_loss: 0.6094 - val_accuracy: 0.6710\n",
            "Epoch 43/50\n",
            "1000/1000 [==============================] - 2s 2ms/step - loss: 0.6050 - accuracy: 0.6692 - val_loss: 0.6164 - val_accuracy: 0.6624\n",
            "Epoch 44/50\n",
            "1000/1000 [==============================] - 2s 2ms/step - loss: 0.6017 - accuracy: 0.6745 - val_loss: 0.6057 - val_accuracy: 0.6722\n",
            "Epoch 45/50\n",
            "1000/1000 [==============================] - 2s 2ms/step - loss: 0.6035 - accuracy: 0.6704 - val_loss: 0.6057 - val_accuracy: 0.6722\n",
            "Epoch 46/50\n",
            "1000/1000 [==============================] - 2s 2ms/step - loss: 0.6035 - accuracy: 0.6709 - val_loss: 0.6084 - val_accuracy: 0.6705\n",
            "Epoch 47/50\n",
            "1000/1000 [==============================] - 2s 2ms/step - loss: 0.6062 - accuracy: 0.6702 - val_loss: 0.6036 - val_accuracy: 0.6744\n",
            "Epoch 48/50\n",
            "1000/1000 [==============================] - 2s 2ms/step - loss: 0.6001 - accuracy: 0.6741 - val_loss: 0.6079 - val_accuracy: 0.6675\n",
            "Epoch 49/50\n",
            "1000/1000 [==============================] - 2s 2ms/step - loss: 0.6035 - accuracy: 0.6691 - val_loss: 0.6037 - val_accuracy: 0.6740\n",
            "Epoch 50/50\n",
            "1000/1000 [==============================] - 2s 2ms/step - loss: 0.6015 - accuracy: 0.6732 - val_loss: 0.6046 - val_accuracy: 0.6735\n",
            "Fold 3, 50 epochs, 103 sec\n"
          ],
          "name": "stdout"
        },
        {
          "output_type": "display_data",
          "data": {
            "image/png": "[encoded data removed]",
            "text/plain": [
              "<Figure size 576x360 with 1 Axes>"
            ]
          },
          "metadata": {
            "tags": [],
            "needs_background": "light"
          }
        },
        {
          "output_type": "stream",
          "text": [
            "MODEL\n",
            "make_DNN\n",
            "input shape: (1000, 64)\n",
            "FIT\n",
            "Epoch 1/50\n",
            "1000/1000 [==============================] - 3s 2ms/step - loss: 0.6965 - accuracy: 0.4889 - val_loss: 0.6931 - val_accuracy: 0.5040\n",
            "Epoch 2/50\n",
            "1000/1000 [==============================] - 2s 2ms/step - loss: 0.6945 - accuracy: 0.5009 - val_loss: 0.6944 - val_accuracy: 0.4960\n",
            "Epoch 3/50\n",
            "1000/1000 [==============================] - 2s 2ms/step - loss: 0.6940 - accuracy: 0.4997 - val_loss: 0.6949 - val_accuracy: 0.4960\n",
            "Epoch 4/50\n",
            "1000/1000 [==============================] - 2s 2ms/step - loss: 0.6937 - accuracy: 0.5051 - val_loss: 0.6963 - val_accuracy: 0.4960\n",
            "Epoch 5/50\n",
            "1000/1000 [==============================] - 2s 2ms/step - loss: 0.6942 - accuracy: 0.5039 - val_loss: 0.6932 - val_accuracy: 0.5040\n",
            "Epoch 6/50\n",
            "1000/1000 [==============================] - 2s 2ms/step - loss: 0.6938 - accuracy: 0.5013 - val_loss: 0.6936 - val_accuracy: 0.5040\n",
            "Epoch 7/50\n",
            "1000/1000 [==============================] - 2s 2ms/step - loss: 0.6942 - accuracy: 0.4985 - val_loss: 0.6973 - val_accuracy: 0.4960\n",
            "Epoch 8/50\n",
            "1000/1000 [==============================] - 2s 2ms/step - loss: 0.6942 - accuracy: 0.4970 - val_loss: 0.6955 - val_accuracy: 0.4960\n",
            "Epoch 9/50\n",
            "1000/1000 [==============================] - 2s 2ms/step - loss: 0.6940 - accuracy: 0.4965 - val_loss: 0.6934 - val_accuracy: 0.5040\n",
            "Epoch 10/50\n",
            "1000/1000 [==============================] - 2s 2ms/step - loss: 0.6937 - accuracy: 0.4993 - val_loss: 0.6932 - val_accuracy: 0.5040\n",
            "Epoch 11/50\n",
            "1000/1000 [==============================] - 2s 2ms/step - loss: 0.6936 - accuracy: 0.5036 - val_loss: 0.6938 - val_accuracy: 0.5040\n",
            "Epoch 12/50\n",
            "1000/1000 [==============================] - 2s 2ms/step - loss: 0.6937 - accuracy: 0.5023 - val_loss: 0.6931 - val_accuracy: 0.5040\n",
            "Epoch 13/50\n",
            "1000/1000 [==============================] - 2s 2ms/step - loss: 0.6939 - accuracy: 0.5010 - val_loss: 0.6932 - val_accuracy: 0.5040\n",
            "Epoch 14/50\n",
            "1000/1000 [==============================] - 2s 2ms/step - loss: 0.6937 - accuracy: 0.5057 - val_loss: 0.6931 - val_accuracy: 0.5040\n",
            "Epoch 15/50\n",
            "1000/1000 [==============================] - 2s 2ms/step - loss: 0.6938 - accuracy: 0.4982 - val_loss: 0.6949 - val_accuracy: 0.4960\n",
            "Epoch 16/50\n",
            "1000/1000 [==============================] - 2s 2ms/step - loss: 0.6936 - accuracy: 0.5007 - val_loss: 0.6932 - val_accuracy: 0.4960\n",
            "Epoch 17/50\n",
            "1000/1000 [==============================] - 2s 2ms/step - loss: 0.6940 - accuracy: 0.5011 - val_loss: 0.6959 - val_accuracy: 0.4960\n",
            "Epoch 18/50\n",
            "1000/1000 [==============================] - 2s 2ms/step - loss: 0.6938 - accuracy: 0.5020 - val_loss: 0.6947 - val_accuracy: 0.5040\n",
            "Epoch 19/50\n",
            "1000/1000 [==============================] - 2s 2ms/step - loss: 0.6939 - accuracy: 0.4964 - val_loss: 0.6957 - val_accuracy: 0.4960\n",
            "Epoch 20/50\n",
            "1000/1000 [==============================] - 2s 2ms/step - loss: 0.6938 - accuracy: 0.5011 - val_loss: 0.6931 - val_accuracy: 0.5040\n",
            "Epoch 21/50\n",
            "1000/1000 [==============================] - 2s 2ms/step - loss: 0.6940 - accuracy: 0.4970 - val_loss: 0.6933 - val_accuracy: 0.4960\n",
            "Epoch 22/50\n",
            "1000/1000 [==============================] - 2s 2ms/step - loss: 0.6936 - accuracy: 0.5002 - val_loss: 0.6968 - val_accuracy: 0.4960\n",
            "Epoch 23/50\n",
            "1000/1000 [==============================] - 2s 2ms/step - loss: 0.6768 - accuracy: 0.5648 - val_loss: 0.6241 - val_accuracy: 0.6460\n",
            "Epoch 24/50\n",
            "1000/1000 [==============================] - 2s 2ms/step - loss: 0.6239 - accuracy: 0.6511 - val_loss: 0.6263 - val_accuracy: 0.6522\n",
            "Epoch 25/50\n",
            "1000/1000 [==============================] - 2s 2ms/step - loss: 0.6209 - accuracy: 0.6561 - val_loss: 0.6099 - val_accuracy: 0.6609\n",
            "Epoch 26/50\n",
            "1000/1000 [==============================] - 2s 2ms/step - loss: 0.6143 - accuracy: 0.6647 - val_loss: 0.6103 - val_accuracy: 0.6595\n",
            "Epoch 27/50\n",
            "1000/1000 [==============================] - 2s 2ms/step - loss: 0.6159 - accuracy: 0.6610 - val_loss: 0.6112 - val_accuracy: 0.6660\n",
            "Epoch 28/50\n",
            "1000/1000 [==============================] - 2s 2ms/step - loss: 0.6086 - accuracy: 0.6680 - val_loss: 0.6112 - val_accuracy: 0.6559\n",
            "Epoch 29/50\n",
            "1000/1000 [==============================] - 2s 2ms/step - loss: 0.6118 - accuracy: 0.6668 - val_loss: 0.6051 - val_accuracy: 0.6674\n",
            "Epoch 30/50\n",
            "1000/1000 [==============================] - 2s 2ms/step - loss: 0.6046 - accuracy: 0.6764 - val_loss: 0.6284 - val_accuracy: 0.6459\n",
            "Epoch 31/50\n",
            "1000/1000 [==============================] - 2s 2ms/step - loss: 0.6065 - accuracy: 0.6687 - val_loss: 0.6033 - val_accuracy: 0.6687\n",
            "Epoch 32/50\n",
            "1000/1000 [==============================] - 2s 2ms/step - loss: 0.6077 - accuracy: 0.6683 - val_loss: 0.6028 - val_accuracy: 0.6716\n",
            "Epoch 33/50\n",
            "1000/1000 [==============================] - 2s 2ms/step - loss: 0.6051 - accuracy: 0.6696 - val_loss: 0.6108 - val_accuracy: 0.6671\n",
            "Epoch 34/50\n",
            "1000/1000 [==============================] - 2s 2ms/step - loss: 0.6079 - accuracy: 0.6713 - val_loss: 0.6229 - val_accuracy: 0.6555\n",
            "Epoch 35/50\n",
            "1000/1000 [==============================] - 2s 2ms/step - loss: 0.6028 - accuracy: 0.6755 - val_loss: 0.6122 - val_accuracy: 0.6662\n",
            "Epoch 36/50\n",
            "1000/1000 [==============================] - 2s 2ms/step - loss: 0.6005 - accuracy: 0.6721 - val_loss: 0.6017 - val_accuracy: 0.6714\n",
            "Epoch 37/50\n",
            "1000/1000 [==============================] - 2s 2ms/step - loss: 0.6039 - accuracy: 0.6730 - val_loss: 0.6028 - val_accuracy: 0.6740\n",
            "Epoch 38/50\n",
            "1000/1000 [==============================] - 2s 2ms/step - loss: 0.6052 - accuracy: 0.6711 - val_loss: 0.6075 - val_accuracy: 0.6730\n",
            "Epoch 39/50\n",
            "1000/1000 [==============================] - 2s 2ms/step - loss: 0.6066 - accuracy: 0.6695 - val_loss: 0.6098 - val_accuracy: 0.6585\n",
            "Epoch 40/50\n",
            "1000/1000 [==============================] - 2s 2ms/step - loss: 0.6052 - accuracy: 0.6703 - val_loss: 0.6056 - val_accuracy: 0.6656\n",
            "Epoch 41/50\n",
            "1000/1000 [==============================] - 2s 2ms/step - loss: 0.6031 - accuracy: 0.6715 - val_loss: 0.6093 - val_accuracy: 0.6710\n",
            "Epoch 42/50\n",
            "1000/1000 [==============================] - 2s 2ms/step - loss: 0.6085 - accuracy: 0.6685 - val_loss: 0.6086 - val_accuracy: 0.6611\n",
            "Epoch 43/50\n",
            "1000/1000 [==============================] - 2s 2ms/step - loss: 0.6000 - accuracy: 0.6744 - val_loss: 0.6027 - val_accuracy: 0.6735\n",
            "Epoch 44/50\n",
            "1000/1000 [==============================] - 2s 2ms/step - loss: 0.6036 - accuracy: 0.6743 - val_loss: 0.6120 - val_accuracy: 0.6651\n",
            "Epoch 45/50\n",
            "1000/1000 [==============================] - 2s 2ms/step - loss: 0.6012 - accuracy: 0.6758 - val_loss: 0.6053 - val_accuracy: 0.6665\n",
            "Epoch 46/50\n",
            "1000/1000 [==============================] - 2s 2ms/step - loss: 0.6040 - accuracy: 0.6717 - val_loss: 0.6004 - val_accuracy: 0.6726\n",
            "Epoch 47/50\n",
            "1000/1000 [==============================] - 2s 2ms/step - loss: 0.6037 - accuracy: 0.6742 - val_loss: 0.6012 - val_accuracy: 0.6733\n",
            "Epoch 48/50\n",
            "1000/1000 [==============================] - 2s 2ms/step - loss: 0.6024 - accuracy: 0.6752 - val_loss: 0.6006 - val_accuracy: 0.6721\n",
            "Epoch 49/50\n",
            "1000/1000 [==============================] - 2s 2ms/step - loss: 0.6009 - accuracy: 0.6765 - val_loss: 0.6079 - val_accuracy: 0.6714\n",
            "Epoch 50/50\n",
            "1000/1000 [==============================] - 2s 2ms/step - loss: 0.6023 - accuracy: 0.6728 - val_loss: 0.6003 - val_accuracy: 0.6731\n",
            "Fold 4, 50 epochs, 103 sec\n"
          ],
          "name": "stdout"
        },
        {
          "output_type": "display_data",
          "data": {
            "image/png": "[encoded data removed]",
            "text/plain": [
              "<Figure size 576x360 with 1 Axes>"
            ]
          },
          "metadata": {
            "tags": [],
            "needs_background": "light"
          }
        },
        {
          "output_type": "stream",
          "text": [
            "MODEL\n",
            "make_DNN\n",
            "input shape: (1000, 64)\n",
            "FIT\n",
            "Epoch 1/50\n",
            "1000/1000 [==============================] - 3s 2ms/step - loss: 0.6954 - accuracy: 0.4996 - val_loss: 0.6932 - val_accuracy: 0.4970\n",
            "Epoch 2/50\n",
            "1000/1000 [==============================] - 2s 2ms/step - loss: 0.6945 - accuracy: 0.5005 - val_loss: 0.6933 - val_accuracy: 0.4970\n",
            "Epoch 3/50\n",
            "1000/1000 [==============================] - 2s 2ms/step - loss: 0.6940 - accuracy: 0.5040 - val_loss: 0.6933 - val_accuracy: 0.4970\n",
            "Epoch 4/50\n",
            "1000/1000 [==============================] - 2s 2ms/step - loss: 0.6943 - accuracy: 0.5004 - val_loss: 0.6941 - val_accuracy: 0.4970\n",
            "Epoch 5/50\n",
            "1000/1000 [==============================] - 2s 2ms/step - loss: 0.6935 - accuracy: 0.5034 - val_loss: 0.6932 - val_accuracy: 0.5030\n",
            "Epoch 6/50\n",
            "1000/1000 [==============================] - 2s 2ms/step - loss: 0.6940 - accuracy: 0.4958 - val_loss: 0.6949 - val_accuracy: 0.4970\n",
            "Epoch 7/50\n",
            "1000/1000 [==============================] - 2s 2ms/step - loss: 0.6941 - accuracy: 0.4965 - val_loss: 0.6951 - val_accuracy: 0.5030\n",
            "Epoch 8/50\n",
            "1000/1000 [==============================] - 2s 2ms/step - loss: 0.6938 - accuracy: 0.4996 - val_loss: 0.6933 - val_accuracy: 0.5030\n",
            "Epoch 9/50\n",
            "1000/1000 [==============================] - 2s 2ms/step - loss: 0.6938 - accuracy: 0.4991 - val_loss: 0.6941 - val_accuracy: 0.5030\n",
            "Epoch 10/50\n",
            "1000/1000 [==============================] - 2s 2ms/step - loss: 0.6940 - accuracy: 0.4942 - val_loss: 0.6948 - val_accuracy: 0.5030\n",
            "Epoch 11/50\n",
            "1000/1000 [==============================] - 2s 2ms/step - loss: 0.6938 - accuracy: 0.5064 - val_loss: 0.6945 - val_accuracy: 0.4970\n",
            "Epoch 12/50\n",
            "1000/1000 [==============================] - 2s 2ms/step - loss: 0.6941 - accuracy: 0.4935 - val_loss: 0.6941 - val_accuracy: 0.4970\n",
            "Epoch 13/50\n",
            "1000/1000 [==============================] - 2s 2ms/step - loss: 0.6937 - accuracy: 0.5027 - val_loss: 0.6937 - val_accuracy: 0.4970\n",
            "Epoch 14/50\n",
            "1000/1000 [==============================] - 2s 2ms/step - loss: 0.6939 - accuracy: 0.5009 - val_loss: 0.6931 - val_accuracy: 0.5030\n",
            "Epoch 15/50\n",
            "1000/1000 [==============================] - 2s 2ms/step - loss: 0.6937 - accuracy: 0.5018 - val_loss: 0.6938 - val_accuracy: 0.5030\n",
            "Epoch 16/50\n",
            "1000/1000 [==============================] - 2s 2ms/step - loss: 0.6939 - accuracy: 0.4921 - val_loss: 0.6943 - val_accuracy: 0.5030\n",
            "Epoch 17/50\n",
            "1000/1000 [==============================] - 2s 2ms/step - loss: 0.6940 - accuracy: 0.5001 - val_loss: 0.6942 - val_accuracy: 0.4970\n",
            "Epoch 18/50\n",
            "1000/1000 [==============================] - 2s 2ms/step - loss: 0.6935 - accuracy: 0.5058 - val_loss: 0.6932 - val_accuracy: 0.4970\n",
            "Epoch 19/50\n",
            "1000/1000 [==============================] - 2s 2ms/step - loss: 0.6940 - accuracy: 0.4989 - val_loss: 0.6935 - val_accuracy: 0.4970\n",
            "Epoch 20/50\n",
            "1000/1000 [==============================] - 2s 2ms/step - loss: 0.6940 - accuracy: 0.4986 - val_loss: 0.6936 - val_accuracy: 0.4970\n",
            "Epoch 21/50\n",
            "1000/1000 [==============================] - 2s 2ms/step - loss: 0.6937 - accuracy: 0.5010 - val_loss: 0.6931 - val_accuracy: 0.5030\n",
            "Epoch 22/50\n",
            "1000/1000 [==============================] - 2s 2ms/step - loss: 0.6939 - accuracy: 0.5014 - val_loss: 0.6947 - val_accuracy: 0.4970\n",
            "Epoch 23/50\n",
            "1000/1000 [==============================] - 2s 2ms/step - loss: 0.6936 - accuracy: 0.5038 - val_loss: 0.6943 - val_accuracy: 0.5030\n",
            "Epoch 24/50\n",
            "1000/1000 [==============================] - 2s 2ms/step - loss: 0.6936 - accuracy: 0.5013 - val_loss: 0.6939 - val_accuracy: 0.5030\n",
            "Epoch 25/50\n",
            "1000/1000 [==============================] - 2s 2ms/step - loss: 0.6938 - accuracy: 0.5065 - val_loss: 0.6940 - val_accuracy: 0.5030\n",
            "Epoch 26/50\n",
            "1000/1000 [==============================] - 2s 2ms/step - loss: 0.6937 - accuracy: 0.5057 - val_loss: 0.6935 - val_accuracy: 0.5030\n",
            "Epoch 27/50\n",
            "1000/1000 [==============================] - 2s 2ms/step - loss: 0.6938 - accuracy: 0.5029 - val_loss: 0.6933 - val_accuracy: 0.4970\n",
            "Epoch 28/50\n",
            "1000/1000 [==============================] - 2s 2ms/step - loss: 0.6935 - accuracy: 0.5024 - val_loss: 0.6932 - val_accuracy: 0.4970\n",
            "Epoch 29/50\n",
            "1000/1000 [==============================] - 2s 2ms/step - loss: 0.6937 - accuracy: 0.4964 - val_loss: 0.6935 - val_accuracy: 0.4970\n",
            "Epoch 30/50\n",
            "1000/1000 [==============================] - 2s 2ms/step - loss: 0.6936 - accuracy: 0.5029 - val_loss: 0.6935 - val_accuracy: 0.5030\n",
            "Epoch 31/50\n",
            "1000/1000 [==============================] - 2s 2ms/step - loss: 0.6938 - accuracy: 0.5001 - val_loss: 0.6940 - val_accuracy: 0.4970\n",
            "Epoch 32/50\n",
            "1000/1000 [==============================] - 2s 2ms/step - loss: 0.6938 - accuracy: 0.4974 - val_loss: 0.6933 - val_accuracy: 0.5030\n",
            "Epoch 33/50\n",
            "1000/1000 [==============================] - 2s 2ms/step - loss: 0.6938 - accuracy: 0.4980 - val_loss: 0.6961 - val_accuracy: 0.4970\n",
            "Epoch 34/50\n",
            "1000/1000 [==============================] - 2s 2ms/step - loss: 0.6941 - accuracy: 0.5039 - val_loss: 0.6938 - val_accuracy: 0.4970\n",
            "Epoch 35/50\n",
            "1000/1000 [==============================] - 2s 2ms/step - loss: 0.6939 - accuracy: 0.4996 - val_loss: 0.6932 - val_accuracy: 0.5030\n",
            "Epoch 36/50\n",
            "1000/1000 [==============================] - 2s 2ms/step - loss: 0.6940 - accuracy: 0.4877 - val_loss: 0.6934 - val_accuracy: 0.5030\n",
            "Epoch 37/50\n",
            "1000/1000 [==============================] - 2s 2ms/step - loss: 0.6939 - accuracy: 0.4944 - val_loss: 0.6940 - val_accuracy: 0.4970\n",
            "Epoch 38/50\n",
            "1000/1000 [==============================] - 2s 2ms/step - loss: 0.6937 - accuracy: 0.5033 - val_loss: 0.6964 - val_accuracy: 0.4970\n",
            "Epoch 39/50\n",
            "1000/1000 [==============================] - 2s 2ms/step - loss: 0.6938 - accuracy: 0.5030 - val_loss: 0.6960 - val_accuracy: 0.4970\n",
            "Epoch 40/50\n",
            "1000/1000 [==============================] - 2s 2ms/step - loss: 0.6935 - accuracy: 0.5060 - val_loss: 0.6939 - val_accuracy: 0.4970\n",
            "Epoch 41/50\n",
            "1000/1000 [==============================] - 2s 2ms/step - loss: 0.6938 - accuracy: 0.5007 - val_loss: 0.6955 - val_accuracy: 0.5030\n",
            "Epoch 42/50\n",
            "1000/1000 [==============================] - 2s 2ms/step - loss: 0.6945 - accuracy: 0.4951 - val_loss: 0.6940 - val_accuracy: 0.5030\n",
            "Epoch 43/50\n",
            "1000/1000 [==============================] - 2s 2ms/step - loss: 0.6938 - accuracy: 0.5017 - val_loss: 0.6935 - val_accuracy: 0.4970\n",
            "Epoch 44/50\n",
            "1000/1000 [==============================] - 2s 2ms/step - loss: 0.6937 - accuracy: 0.5027 - val_loss: 0.6935 - val_accuracy: 0.4970\n",
            "Epoch 45/50\n",
            "1000/1000 [==============================] - 2s 2ms/step - loss: 0.6939 - accuracy: 0.5003 - val_loss: 0.6932 - val_accuracy: 0.4970\n",
            "Epoch 46/50\n",
            "1000/1000 [==============================] - 2s 2ms/step - loss: 0.6940 - accuracy: 0.4974 - val_loss: 0.6957 - val_accuracy: 0.5030\n",
            "Epoch 47/50\n",
            "1000/1000 [==============================] - 2s 2ms/step - loss: 0.6939 - accuracy: 0.5065 - val_loss: 0.6933 - val_accuracy: 0.4970\n",
            "Epoch 48/50\n",
            "1000/1000 [==============================] - 2s 2ms/step - loss: 0.6940 - accuracy: 0.5042 - val_loss: 0.6934 - val_accuracy: 0.5030\n",
            "Epoch 49/50\n",
            "1000/1000 [==============================] - 2s 2ms/step - loss: 0.6940 - accuracy: 0.4935 - val_loss: 0.6940 - val_accuracy: 0.4970\n",
            "Epoch 50/50\n",
            "1000/1000 [==============================] - 2s 2ms/step - loss: 0.6940 - accuracy: 0.4962 - val_loss: 0.6932 - val_accuracy: 0.4970\n",
            "Fold 5, 50 epochs, 103 sec\n"
          ],
          "name": "stdout"
        },
        {
          "output_type": "display_data",
          "data": {
            "image/png": "[encoded data removed]",
            "text/plain": [
              "<Figure size 576x360 with 1 Axes>"
            ]
          },
          "metadata": {
            "tags": [],
            "needs_background": "light"
          }
        }
      ]
    },
    {
      "cell_type": "code",
      "metadata": {
        "id": "e-jG1h5fj2Ua",
        "colab": {
          "base_uri": "https://localhost:8080/"
        },
        "outputId": "8ce22361-15b7-46e8-a55e-d3589b808533"
      },
      "source": [
        "from keras.models import load_model\n",
        "pc_sim.set_reproducible(True)\n",
        "nc_sim.set_reproducible(True)\n",
        "pc_test = pc_sim.get_sequences(PC_TESTS)\n",
        "nc_test = nc_sim.get_sequences(NC_TESTS)\n",
        "X,y = prepare_inputs_codon_frequency(pc_train,nc_train) # shuffles\n",
        "print(\"X shape:\",X.shape)\n",
        "best_model=load_model(MODELPATH)\n",
        "scores = best_model.evaluate(X, y, verbose=0)\n",
        "print(\"The best model parameters were saved during cross-validation.\")\n",
        "print(\"Best was defined as maximum validation accuracy at end of any epoch.\")\n",
        "print(\"Now re-load the best model and test it on previously unseen data.\")\n",
        "print(\"Test on\",len(pc_test),\"PC seqs\")\n",
        "print(\"Test on\",len(nc_test),\"NC seqs\")\n",
        "print(\"%s: %.2f%%\" % (best_model.metrics_names[1], scores[1]*100))\n"
      ],
      "execution_count": 19,
      "outputs": [
        {
          "output_type": "stream",
          "text": [
            "X shape: (40000, 64)\n",
            "The best model parameters were saved during cross-validation.\n",
            "Best was defined as maximum validation accuracy at end of any epoch.\n",
            "Now re-load the best model and test it on previously unseen data.\n",
            "Test on 1000 PC seqs\n",
            "Test on 1000 NC seqs\n",
            "accuracy: 67.51%\n"
          ],
          "name": "stdout"
        }
      ]
    },
    {
      "cell_type": "code",
      "metadata": {
        "id": "VycUnmvUj2Ue",
        "colab": {
          "base_uri": "https://localhost:8080/",
          "height": 312
        },
        "outputId": "63ac5a53-e787-40de-e7c5-6463faca33f8"
      },
      "source": [
        "from sklearn.metrics import roc_curve\n",
        "from sklearn.metrics import roc_auc_score\n",
        "ns_probs = [0 for _ in range(len(y))]\n",
        "bm_probs = best_model.predict(X)\n",
        "ns_auc = roc_auc_score(y, ns_probs)\n",
        "bm_auc = roc_auc_score(y, bm_probs)\n",
        "ns_fpr, ns_tpr, _ = roc_curve(y, ns_probs)\n",
        "bm_fpr, bm_tpr, _ = roc_curve(y, bm_probs)\n",
        "plt.plot(ns_fpr, ns_tpr, linestyle='--', label='Guess, auc=%.4f'%ns_auc)\n",
        "plt.plot(bm_fpr, bm_tpr, marker='.', label='Model, auc=%.4f'%bm_auc)\n",
        "plt.title('ROC')\n",
        "plt.xlabel('False Positive Rate')\n",
        "plt.ylabel('True Positive Rate')\n",
        "plt.legend()\n",
        "plt.show()\n",
        "print(\"%s: %.2f%%\" %('AUC',bm_auc))\n"
      ],
      "execution_count": 20,
      "outputs": [
        {
          "output_type": "display_data",
          "data": {
            "image/png": "[encoded data removed]",
            "text/plain": [
              "<Figure size 432x288 with 1 Axes>"
            ]
          },
          "metadata": {
            "tags": [],
            "needs_background": "light"
          }
        },
        {
          "output_type": "stream",
          "text": [
            "AUC: 0.74%\n"
          ],
          "name": "stdout"
        }
      ]
    },
    {
      "cell_type": "code",
      "metadata": {
        "id": "kFMb6rGNj2Ug",
        "colab": {
          "base_uri": "https://localhost:8080/",
          "height": 36
        },
        "outputId": "40eca88d-8b41-4852-d6d1-9e926c2848d4"
      },
      "source": [
        "t = time.time()\n",
        "time.strftime('%Y-%m-%d %H:%M:%S %Z', time.localtime(t))"
      ],
      "execution_count": 21,
      "outputs": [
        {
          "output_type": "execute_result",
          "data": {
            "application/vnd.google.colaboratory.intrinsic+json": {
              "type": "string"
            },
            "text/plain": [
              "'2021-05-17 15:38:04 UTC'"
            ]
          },
          "metadata": {
            "tags": []
          },
          "execution_count": 21
        }
      ]
    },
    {
      "cell_type": "code",
      "metadata": {
        "id": "t0HmPXUW5TvY"
      },
      "source": [
        ""
      ],
      "execution_count": 21,
      "outputs": []
    }
  ]
}