{
  "nbformat": 4,
  "nbformat_minor": 0,
  "metadata": {
    "accelerator": "GPU",
    "colab": {
      "name": "ConvRecur_116.ipynb",
      "provenance": [],
      "collapsed_sections": []
    },
    "kernelspec": {
      "display_name": "Python 3",
      "language": "python",
      "name": "python3"
    },
    "language_info": {
      "codemirror_mode": {
        "name": "ipython",
        "version": 3
      },
      "file_extension": ".py",
      "mimetype": "text/x-python",
      "name": "python",
      "nbconvert_exporter": "python",
      "pygments_lexer": "ipython3",
      "version": "3.8.3"
    }
  },
  "cells": [
    {
      "cell_type": "markdown",
      "metadata": {
        "id": "0asdcdunj2Tx"
      },
      "source": [
        "# ORF recognition by Convolutional/Recurrent\n",
        "\n",
        "Explore how to connect Dense layer after a LSTM layer.\n",
        "\n",
        "Should there be a Flatten layer between them?\n",
        "\n",
        "Should the last LSTM use return_sequences True or False?\n",
        "\n",
        "Should the first Dense layer have a TimeDistributed wrapper? What about subsequent Dense layers?"
      ]
    },
    {
      "cell_type": "code",
      "metadata": {
        "colab": {
          "base_uri": "https://localhost:8080/",
          "height": 36
        },
        "id": "QP1VTRNQj2UO",
        "outputId": "77672ec6-edde-4dc6-f160-ac739af954cf"
      },
      "source": [
        "import time \n",
        "t = time.time()\n",
        "time.strftime('%Y-%m-%d %H:%M:%S %Z', time.localtime(t))"
      ],
      "execution_count": null,
      "outputs": [
        {
          "output_type": "execute_result",
          "data": {
            "application/vnd.google.colaboratory.intrinsic+json": {
              "type": "string"
            },
            "text/plain": [
              "'2021-06-25 18:56:06 UTC'"
            ]
          },
          "metadata": {
            "tags": []
          },
          "execution_count": 1
        }
      ]
    },
    {
      "cell_type": "code",
      "metadata": {
        "id": "Nhz4GKonj2T_"
      },
      "source": [
        "PC_SEQUENCES=32000   # how many protein-coding sequences\n",
        "NC_SEQUENCES=32000   # how many non-coding sequences\n",
        "PC_TESTS=1000\n",
        "NC_TESTS=1000\n",
        "RNA_LEN=32            # how long is each sequence\n",
        "CDS_LEN=16            # min CDS len to be coding\n",
        "ALPHABET=4          # how many different letters are possible\n",
        "INPUT_SHAPE_2D = (RNA_LEN,ALPHABET,1) # Conv2D needs 3D inputs\n",
        "INPUT_SHAPE = (RNA_LEN,ALPHABET) # Conv1D needs 2D inputs\n",
        "FILTERS = 16   # how many different patterns the model looks for\n",
        "CELLS = 16\n",
        "NEURONS = 16\n",
        "DROP_RATE = 0.4\n",
        "WIDTH = 3   # how wide each pattern is, in bases\n",
        "STRIDE_2D = (1,1)  # For Conv2D how far in each direction\n",
        "STRIDE = 1 # For Conv1D, how far between pattern matches, in bases\n",
        "EPOCHS=50  # how many times to train on all the data\n",
        "SPLITS=3  # SPLITS=3 means train on 2/3 and validate on 1/3 \n",
        "FOLDS=3  # train the model this many times (range 1 to SPLITS)"
      ],
      "execution_count": null,
      "outputs": []
    },
    {
      "cell_type": "code",
      "metadata": {
        "colab": {
          "base_uri": "https://localhost:8080/"
        },
        "id": "lr7q90rxj2UE",
        "outputId": "f7b69e55-e7ca-4f2b-a17c-a149539ed176"
      },
      "source": [
        "import sys\n",
        "IN_COLAB = False\n",
        "try:\n",
        "    from google.colab import drive\n",
        "    IN_COLAB = True\n",
        "except:\n",
        "    pass\n",
        "if IN_COLAB:\n",
        "    print(\"On Google CoLab, mount cloud-local file, get our code from GitHub.\")\n",
        "    PATH='/content/drive/'\n",
        "    #drive.mount(PATH,force_remount=True)  # hardly ever need this\n",
        "    #drive.mount(PATH)    # Google will require login credentials\n",
        "    DATAPATH=PATH+'My Drive/data/'  # must end in \"/\"\n",
        "    import requests\n",
        "    r = requests.get('https://raw.githubusercontent.com/ShepherdCode/Soars2021/master/SimTools/RNA_describe.py')\n",
        "    with open('RNA_describe.py', 'w') as f:\n",
        "        f.write(r.text)  \n",
        "    from RNA_describe import ORF_counter\n",
        "    from RNA_describe import Random_Base_Oracle\n",
        "    r = requests.get('https://raw.githubusercontent.com/ShepherdCode/Soars2021/master/SimTools/RNA_prep.py')\n",
        "    with open('RNA_prep.py', 'w') as f:\n",
        "        f.write(r.text)  \n",
        "    from RNA_prep import prepare_inputs_len_x_alphabet\n",
        "else:\n",
        "        print(\"CoLab not working. On my PC, use relative paths.\")\n",
        "        DATAPATH='data/'  # must end in \"/\"\n",
        "        sys.path.append(\"..\") # append parent dir in order to use sibling dirs\n",
        "        from SimTools.RNA_describe import ORF_counter,Random_Base_Oracle\n",
        "        from SimTools.RNA_prep import prepare_inputs_len_x_alphabet\n",
        "\n",
        "MODELPATH=\"BestModel\"  # saved on cloud instance and lost after logout\n",
        "#MODELPATH=DATAPATH+MODELPATH  # saved on Google Drive but requires login\n"
      ],
      "execution_count": null,
      "outputs": [
        {
          "output_type": "stream",
          "text": [
            "On Google CoLab, mount cloud-local file, get our code from GitHub.\n"
          ],
          "name": "stdout"
        }
      ]
    },
    {
      "cell_type": "code",
      "metadata": {
        "id": "EGDXH8Uwj2UM"
      },
      "source": [
        "from os import listdir\n",
        "import csv\n",
        "from zipfile import ZipFile\n",
        "\n",
        "import numpy as np\n",
        "import pandas as pd\n",
        "from scipy import stats  # mode\n",
        "\n",
        "from sklearn.preprocessing import StandardScaler\n",
        "from sklearn.model_selection import KFold\n",
        "from sklearn.model_selection import cross_val_score\n",
        "\n",
        "from keras.models import Sequential\n",
        "from keras.layers import Dense,Embedding,Dropout\n",
        "from keras.layers import Conv1D,Conv2D\n",
        "from keras.layers import GRU,LSTM\n",
        "from keras.layers import Flatten,TimeDistributed\n",
        "from keras.layers import MaxPooling1D,MaxPooling2D\n",
        "from keras.losses import BinaryCrossentropy\n",
        "# tf.keras.losses.BinaryCrossentropy\n",
        "\n",
        "import matplotlib.pyplot as plt\n",
        "from matplotlib import colors\n",
        "mycmap = colors.ListedColormap(['red','blue'])  # list color for label 0 then 1\n",
        "np.set_printoptions(precision=2)\n"
      ],
      "execution_count": null,
      "outputs": []
    },
    {
      "cell_type": "code",
      "metadata": {
        "colab": {
          "base_uri": "https://localhost:8080/"
        },
        "id": "CUOG_jEvGtOm",
        "outputId": "c599e4b5-bef9-4a6c-bc48-b6a3d61b61dc"
      },
      "source": [
        "rbo=Random_Base_Oracle(RNA_LEN,True)\n",
        "pc_all,nc_all = rbo.get_partitioned_sequences(CDS_LEN,10) # just testing\n",
        "pc_all,nc_all = rbo.get_partitioned_sequences(CDS_LEN,PC_SEQUENCES+PC_TESTS)\n",
        "print(\"Use\",len(pc_all),\"PC seqs\")\n",
        "print(\"Use\",len(nc_all),\"NC seqs\")"
      ],
      "execution_count": null,
      "outputs": [
        {
          "output_type": "stream",
          "text": [
            "It took 45 trials to reach 10 per class.\n",
            "It took 143285 trials to reach 33000 per class.\n",
            "Use 33000 PC seqs\n",
            "Use 33000 NC seqs\n"
          ],
          "name": "stdout"
        }
      ]
    },
    {
      "cell_type": "code",
      "metadata": {
        "colab": {
          "base_uri": "https://localhost:8080/"
        },
        "id": "Q-BmSXi2jUyl",
        "outputId": "8712a715-9edf-4b1d-b40d-7409879421fe"
      },
      "source": [
        "# Describe the sequences\n",
        "def describe_sequences(list_of_seq):\n",
        "    oc = ORF_counter()\n",
        "    num_seq = len(list_of_seq)\n",
        "    rna_lens = np.zeros(num_seq)\n",
        "    orf_lens = np.zeros(num_seq)\n",
        "    for i in range(0,num_seq):\n",
        "        rna_len = len(list_of_seq[i])\n",
        "        rna_lens[i] = rna_len\n",
        "        oc.set_sequence(list_of_seq[i])\n",
        "        orf_len = oc.get_max_orf_len()\n",
        "        orf_lens[i] = orf_len\n",
        "    print (\"Average RNA length:\",rna_lens.mean())\n",
        "    print (\"Average ORF length:\",orf_lens.mean())\n",
        "    \n",
        "print(\"Simulated sequences prior to adjustment:\")\n",
        "print(\"PC seqs\")\n",
        "describe_sequences(pc_all)\n",
        "print(\"NC seqs\")\n",
        "describe_sequences(nc_all)"
      ],
      "execution_count": null,
      "outputs": [
        {
          "output_type": "stream",
          "text": [
            "Simulated sequences prior to adjustment:\n",
            "PC seqs\n",
            "Average RNA length: 32.0\n",
            "Average ORF length: 19.68690909090909\n",
            "NC seqs\n",
            "Average RNA length: 32.0\n",
            "Average ORF length: 2.875\n"
          ],
          "name": "stdout"
        }
      ]
    },
    {
      "cell_type": "code",
      "metadata": {
        "id": "iP1y7-J3jUys"
      },
      "source": [
        "pc_train=pc_all[:PC_SEQUENCES]\n",
        "nc_train=nc_all[:NC_SEQUENCES]\n",
        "pc_test=pc_all[PC_SEQUENCES:]\n",
        "nc_test=nc_all[NC_SEQUENCES:]"
      ],
      "execution_count": null,
      "outputs": []
    },
    {
      "cell_type": "code",
      "metadata": {
        "colab": {
          "base_uri": "https://localhost:8080/"
        },
        "id": "CIpTrnH6j2US",
        "outputId": "7d8d9b89-46b0-4a3d-edeb-eb08c4d98826"
      },
      "source": [
        "# Use code from our SimTools library.\n",
        "X,y = prepare_inputs_len_x_alphabet(pc_train,nc_train,ALPHABET) # shuffles\n",
        "print(\"Data ready.\")"
      ],
      "execution_count": null,
      "outputs": [
        {
          "output_type": "stream",
          "text": [
            "Data ready.\n"
          ],
          "name": "stdout"
        }
      ]
    },
    {
      "cell_type": "code",
      "metadata": {
        "colab": {
          "base_uri": "https://localhost:8080/"
        },
        "id": "7NvrVU8ij2UU",
        "outputId": "201e04e5-4f1a-4d90-9f31-20b615514107"
      },
      "source": [
        "def make_DNN():\n",
        "    print(\"make_DNN\")\n",
        "    print(\"input shape:\",INPUT_SHAPE)\n",
        "    dnn = Sequential()\n",
        "    #dnn.add(Embedding(input_dim=INPUT_SHAPE,output_dim=INPUT_SHAPE)) \n",
        "    dnn.add(Conv1D(filters=FILTERS,kernel_size=WIDTH,strides=STRIDE,padding=\"same\",\n",
        "            input_shape=INPUT_SHAPE))\n",
        "    dnn.add(Conv1D(filters=FILTERS,kernel_size=WIDTH,strides=STRIDE,padding=\"same\"))\n",
        "    dnn.add(MaxPooling1D())\n",
        "    #dnn.add(Conv1D(filters=FILTERS,kernel_size=WIDTH,strides=STRIDE,padding=\"same\"))\n",
        "    #dnn.add(Conv1D(filters=FILTERS,kernel_size=WIDTH,strides=STRIDE,padding=\"same\"))\n",
        "    #dnn.add(MaxPooling1D())\n",
        "    #dnn.add(TimeDistributed(Flatten()))\n",
        "    dnn.add(LSTM(CELLS,return_sequences=True))\n",
        "    dnn.add(LSTM(CELLS,return_sequences=False))\n",
        "    #dnn.add(TimeDistributed(Dense(NEURONS,activation=\"sigmoid\",dtype=np.float32)))   \n",
        "    #dnn.add(Dense(NEURONS,activation=\"sigmoid\",dtype=np.float32))   \n",
        "    #dnn.add(Dropout(DROP_RATE))\n",
        "    dnn.add(Dense(1,activation=\"sigmoid\",dtype=np.float32))   \n",
        "    dnn.compile(optimizer='adam',\n",
        "                loss=BinaryCrossentropy(from_logits=False),\n",
        "                metrics=['accuracy'])   # add to default metrics=loss\n",
        "    #dnn.build(input_shape=INPUT_SHAPE)   \n",
        "    dnn.build()   \n",
        "    #ln_rate = tf.keras.optimizers.Adam(learning_rate = LN_RATE)\n",
        "    #bc=tf.keras.losses.BinaryCrossentropy(from_logits=False)\n",
        "    #model.compile(loss=bc, optimizer=ln_rate, metrics=[\"accuracy\"])\n",
        "    return dnn\n",
        "model = make_DNN()\n",
        "print(model.summary())"
      ],
      "execution_count": null,
      "outputs": [
        {
          "output_type": "stream",
          "text": [
            "make_DNN\n",
            "input shape: (32, 4)\n",
            "Model: \"sequential\"\n",
            "_________________________________________________________________\n",
            "Layer (type)                 Output Shape              Param #   \n",
            "=================================================================\n",
            "conv1d (Conv1D)              (None, 32, 16)            208       \n",
            "_________________________________________________________________\n",
            "conv1d_1 (Conv1D)            (None, 32, 16)            784       \n",
            "_________________________________________________________________\n",
            "max_pooling1d (MaxPooling1D) (None, 16, 16)            0         \n",
            "_________________________________________________________________\n",
            "lstm (LSTM)                  (None, 16, 16)            2112      \n",
            "_________________________________________________________________\n",
            "lstm_1 (LSTM)                (None, 16)                2112      \n",
            "_________________________________________________________________\n",
            "dense (Dense)                (None, 1)                 17        \n",
            "=================================================================\n",
            "Total params: 5,233\n",
            "Trainable params: 5,233\n",
            "Non-trainable params: 0\n",
            "_________________________________________________________________\n",
            "None\n"
          ],
          "name": "stdout"
        }
      ]
    },
    {
      "cell_type": "markdown",
      "metadata": {
        "id": "Ny-dP7bqh0q0"
      },
      "source": [
        "LSTM(16,return_sequences=False), Dense(15) has 255 parameters. Acc=52%. Output shape is (None, 1). Output layer has 65 parameters: 8 * 8 + 1 so clearly it has one neuron.\n",
        "\n",
        "LSTM(16,return_sequences=True), TimeDistributed(Dense(15)) has 255 parameters. Acc=65%. AUC fails because dimensions are wrong. Output shape is (None, 8, 1). The 8 is inherited from the Pooling layer and it is the revised sequence length. Output layer has 16 parameters: 8 + 8 so it seems to have 8 neurons despite parameter value 1. It seems the first TimeDistributed layer makes all subsequent Dense layers have 8 time steps. As an aside, the 8 values per sequence seem to converge on the eventual score per sequence. The series could be used to disect where the model decides coding! Also, the last value of an LSTM should be used without any Dense layer. \n",
        "\n",
        "LSTM(16,return_sequences=False), Dense(1) has 17 parameters. Acc=73% and still learning. As we learned above, the internal Dense layers are not necessary and may be hurting! (This model had no dropout. Unclear which layers should get dropout.)"
      ]
    },
    {
      "cell_type": "code",
      "metadata": {
        "id": "nlVF0hR3j2UW"
      },
      "source": [
        "from keras.callbacks import ModelCheckpoint\n",
        "def do_cross_validation(X,y):\n",
        "    cv_scores = []\n",
        "    fold=0\n",
        "    mycallbacks = [ModelCheckpoint(\n",
        "        filepath=MODELPATH, save_best_only=True, \n",
        "        monitor='val_accuracy', mode='max')]   \n",
        "    splitter = KFold(n_splits=SPLITS)  # this does not shuffle\n",
        "    for train_index,valid_index in splitter.split(X):\n",
        "        if fold < FOLDS:\n",
        "            fold += 1\n",
        "            X_train=X[train_index] # inputs for training\n",
        "            y_train=y[train_index] # labels for training\n",
        "            X_valid=X[valid_index] # inputs for validation\n",
        "            y_valid=y[valid_index] # labels for validation\n",
        "            print(\"MODEL\")\n",
        "            # Call constructor on each CV. Else, continually improves the same model.\n",
        "            model = model = make_DNN()\n",
        "            print(\"FIT\")  # model.fit() implements learning\n",
        "            start_time=time.time()\n",
        "            history=model.fit(X_train, y_train, \n",
        "                    epochs=EPOCHS, \n",
        "                    verbose=1,  # ascii art while learning\n",
        "                    callbacks=mycallbacks,   # called at end of each epoch\n",
        "                    validation_data=(X_valid,y_valid))\n",
        "            end_time=time.time()\n",
        "            elapsed_time=(end_time-start_time)                        \n",
        "            print(\"Fold %d, %d epochs, %d sec\"%(fold,EPOCHS,elapsed_time))\n",
        "            # print(history.history.keys())  # all these keys will be shown in figure\n",
        "            pd.DataFrame(history.history).plot(figsize=(8,5))\n",
        "            plt.grid(True)\n",
        "            plt.gca().set_ylim(0,1) # any losses > 1 will be off the scale\n",
        "            plt.show()\n"
      ],
      "execution_count": null,
      "outputs": []
    },
    {
      "cell_type": "code",
      "metadata": {
        "colab": {
          "base_uri": "https://localhost:8080/",
          "height": 1000
        },
        "id": "9Ggt4EsSj2UY",
        "outputId": "0e70a179-4ca4-43a5-b371-ec290747d077"
      },
      "source": [
        "do_cross_validation(X,y)"
      ],
      "execution_count": null,
      "outputs": [
        {
          "output_type": "stream",
          "text": [
            "MODEL\n",
            "make_DNN\n",
            "input shape: (32, 4)\n",
            "FIT\n",
            "Epoch 1/50\n",
            "1334/1334 [==============================] - 49s 10ms/step - loss: 0.6554 - accuracy: 0.5925 - val_loss: 0.5480 - val_accuracy: 0.7080\n"
          ],
          "name": "stdout"
        },
        {
          "output_type": "stream",
          "text": [
            "WARNING:absl:Found untraced functions such as lstm_cell_2_layer_call_and_return_conditional_losses, lstm_cell_2_layer_call_fn, lstm_cell_3_layer_call_and_return_conditional_losses, lstm_cell_3_layer_call_fn, lstm_cell_2_layer_call_fn while saving (showing 5 of 10). These functions will not be directly callable after loading.\n"
          ],
          "name": "stderr"
        },
        {
          "output_type": "stream",
          "text": [
            "INFO:tensorflow:Assets written to: BestModel/assets\n"
          ],
          "name": "stdout"
        },
        {
          "output_type": "stream",
          "text": [
            "INFO:tensorflow:Assets written to: BestModel/assets\n"
          ],
          "name": "stderr"
        },
        {
          "output_type": "stream",
          "text": [
            "Epoch 2/50\n",
            "1334/1334 [==============================] - 12s 9ms/step - loss: 0.5237 - accuracy: 0.7263 - val_loss: 0.4572 - val_accuracy: 0.7718\n"
          ],
          "name": "stdout"
        },
        {
          "output_type": "stream",
          "text": [
            "WARNING:absl:Found untraced functions such as lstm_cell_2_layer_call_and_return_conditional_losses, lstm_cell_2_layer_call_fn, lstm_cell_3_layer_call_and_return_conditional_losses, lstm_cell_3_layer_call_fn, lstm_cell_2_layer_call_fn while saving (showing 5 of 10). These functions will not be directly callable after loading.\n"
          ],
          "name": "stderr"
        },
        {
          "output_type": "stream",
          "text": [
            "INFO:tensorflow:Assets written to: BestModel/assets\n"
          ],
          "name": "stdout"
        },
        {
          "output_type": "stream",
          "text": [
            "INFO:tensorflow:Assets written to: BestModel/assets\n"
          ],
          "name": "stderr"
        },
        {
          "output_type": "stream",
          "text": [
            "Epoch 3/50\n",
            "1334/1334 [==============================] - 12s 9ms/step - loss: 0.4359 - accuracy: 0.7913 - val_loss: 0.3769 - val_accuracy: 0.8207\n"
          ],
          "name": "stdout"
        },
        {
          "output_type": "stream",
          "text": [
            "WARNING:absl:Found untraced functions such as lstm_cell_2_layer_call_and_return_conditional_losses, lstm_cell_2_layer_call_fn, lstm_cell_3_layer_call_and_return_conditional_losses, lstm_cell_3_layer_call_fn, lstm_cell_2_layer_call_fn while saving (showing 5 of 10). These functions will not be directly callable after loading.\n"
          ],
          "name": "stderr"
        },
        {
          "output_type": "stream",
          "text": [
            "INFO:tensorflow:Assets written to: BestModel/assets\n"
          ],
          "name": "stdout"
        },
        {
          "output_type": "stream",
          "text": [
            "INFO:tensorflow:Assets written to: BestModel/assets\n"
          ],
          "name": "stderr"
        },
        {
          "output_type": "stream",
          "text": [
            "Epoch 4/50\n",
            "1334/1334 [==============================] - 12s 9ms/step - loss: 0.3651 - accuracy: 0.8250 - val_loss: 0.3239 - val_accuracy: 0.8549\n"
          ],
          "name": "stdout"
        },
        {
          "output_type": "stream",
          "text": [
            "WARNING:absl:Found untraced functions such as lstm_cell_2_layer_call_and_return_conditional_losses, lstm_cell_2_layer_call_fn, lstm_cell_3_layer_call_and_return_conditional_losses, lstm_cell_3_layer_call_fn, lstm_cell_2_layer_call_fn while saving (showing 5 of 10). These functions will not be directly callable after loading.\n"
          ],
          "name": "stderr"
        },
        {
          "output_type": "stream",
          "text": [
            "INFO:tensorflow:Assets written to: BestModel/assets\n"
          ],
          "name": "stdout"
        },
        {
          "output_type": "stream",
          "text": [
            "INFO:tensorflow:Assets written to: BestModel/assets\n"
          ],
          "name": "stderr"
        },
        {
          "output_type": "stream",
          "text": [
            "Epoch 5/50\n",
            "1334/1334 [==============================] - 12s 9ms/step - loss: 0.3206 - accuracy: 0.8552 - val_loss: 0.3100 - val_accuracy: 0.8596\n"
          ],
          "name": "stdout"
        },
        {
          "output_type": "stream",
          "text": [
            "WARNING:absl:Found untraced functions such as lstm_cell_2_layer_call_and_return_conditional_losses, lstm_cell_2_layer_call_fn, lstm_cell_3_layer_call_and_return_conditional_losses, lstm_cell_3_layer_call_fn, lstm_cell_2_layer_call_fn while saving (showing 5 of 10). These functions will not be directly callable after loading.\n"
          ],
          "name": "stderr"
        },
        {
          "output_type": "stream",
          "text": [
            "INFO:tensorflow:Assets written to: BestModel/assets\n"
          ],
          "name": "stdout"
        },
        {
          "output_type": "stream",
          "text": [
            "INFO:tensorflow:Assets written to: BestModel/assets\n"
          ],
          "name": "stderr"
        },
        {
          "output_type": "stream",
          "text": [
            "Epoch 6/50\n",
            "1334/1334 [==============================] - 12s 9ms/step - loss: 0.2964 - accuracy: 0.8693 - val_loss: 0.2823 - val_accuracy: 0.8740\n"
          ],
          "name": "stdout"
        },
        {
          "output_type": "stream",
          "text": [
            "WARNING:absl:Found untraced functions such as lstm_cell_2_layer_call_and_return_conditional_losses, lstm_cell_2_layer_call_fn, lstm_cell_3_layer_call_and_return_conditional_losses, lstm_cell_3_layer_call_fn, lstm_cell_2_layer_call_fn while saving (showing 5 of 10). These functions will not be directly callable after loading.\n"
          ],
          "name": "stderr"
        },
        {
          "output_type": "stream",
          "text": [
            "INFO:tensorflow:Assets written to: BestModel/assets\n"
          ],
          "name": "stdout"
        },
        {
          "output_type": "stream",
          "text": [
            "INFO:tensorflow:Assets written to: BestModel/assets\n"
          ],
          "name": "stderr"
        },
        {
          "output_type": "stream",
          "text": [
            "Epoch 7/50\n",
            "1334/1334 [==============================] - 12s 9ms/step - loss: 0.2797 - accuracy: 0.8775 - val_loss: 0.3029 - val_accuracy: 0.8651\n",
            "Epoch 8/50\n",
            "1334/1334 [==============================] - 13s 9ms/step - loss: 0.2671 - accuracy: 0.8870 - val_loss: 0.2503 - val_accuracy: 0.8936\n"
          ],
          "name": "stdout"
        },
        {
          "output_type": "stream",
          "text": [
            "WARNING:absl:Found untraced functions such as lstm_cell_2_layer_call_and_return_conditional_losses, lstm_cell_2_layer_call_fn, lstm_cell_3_layer_call_and_return_conditional_losses, lstm_cell_3_layer_call_fn, lstm_cell_2_layer_call_fn while saving (showing 5 of 10). These functions will not be directly callable after loading.\n"
          ],
          "name": "stderr"
        },
        {
          "output_type": "stream",
          "text": [
            "INFO:tensorflow:Assets written to: BestModel/assets\n"
          ],
          "name": "stdout"
        },
        {
          "output_type": "stream",
          "text": [
            "INFO:tensorflow:Assets written to: BestModel/assets\n"
          ],
          "name": "stderr"
        },
        {
          "output_type": "stream",
          "text": [
            "Epoch 9/50\n",
            "1334/1334 [==============================] - 12s 9ms/step - loss: 0.2385 - accuracy: 0.8994 - val_loss: 0.2309 - val_accuracy: 0.9034\n"
          ],
          "name": "stdout"
        },
        {
          "output_type": "stream",
          "text": [
            "WARNING:absl:Found untraced functions such as lstm_cell_2_layer_call_and_return_conditional_losses, lstm_cell_2_layer_call_fn, lstm_cell_3_layer_call_and_return_conditional_losses, lstm_cell_3_layer_call_fn, lstm_cell_2_layer_call_fn while saving (showing 5 of 10). These functions will not be directly callable after loading.\n"
          ],
          "name": "stderr"
        },
        {
          "output_type": "stream",
          "text": [
            "INFO:tensorflow:Assets written to: BestModel/assets\n"
          ],
          "name": "stdout"
        },
        {
          "output_type": "stream",
          "text": [
            "INFO:tensorflow:Assets written to: BestModel/assets\n"
          ],
          "name": "stderr"
        },
        {
          "output_type": "stream",
          "text": [
            "Epoch 10/50\n",
            "1334/1334 [==============================] - 12s 9ms/step - loss: 0.2184 - accuracy: 0.9094 - val_loss: 0.2222 - val_accuracy: 0.9064\n"
          ],
          "name": "stdout"
        },
        {
          "output_type": "stream",
          "text": [
            "WARNING:absl:Found untraced functions such as lstm_cell_2_layer_call_and_return_conditional_losses, lstm_cell_2_layer_call_fn, lstm_cell_3_layer_call_and_return_conditional_losses, lstm_cell_3_layer_call_fn, lstm_cell_2_layer_call_fn while saving (showing 5 of 10). These functions will not be directly callable after loading.\n"
          ],
          "name": "stderr"
        },
        {
          "output_type": "stream",
          "text": [
            "INFO:tensorflow:Assets written to: BestModel/assets\n"
          ],
          "name": "stdout"
        },
        {
          "output_type": "stream",
          "text": [
            "INFO:tensorflow:Assets written to: BestModel/assets\n"
          ],
          "name": "stderr"
        },
        {
          "output_type": "stream",
          "text": [
            "Epoch 11/50\n",
            "1334/1334 [==============================] - 12s 9ms/step - loss: 0.2171 - accuracy: 0.9105 - val_loss: 0.2067 - val_accuracy: 0.9159\n"
          ],
          "name": "stdout"
        },
        {
          "output_type": "stream",
          "text": [
            "WARNING:absl:Found untraced functions such as lstm_cell_2_layer_call_and_return_conditional_losses, lstm_cell_2_layer_call_fn, lstm_cell_3_layer_call_and_return_conditional_losses, lstm_cell_3_layer_call_fn, lstm_cell_2_layer_call_fn while saving (showing 5 of 10). These functions will not be directly callable after loading.\n"
          ],
          "name": "stderr"
        },
        {
          "output_type": "stream",
          "text": [
            "INFO:tensorflow:Assets written to: BestModel/assets\n"
          ],
          "name": "stdout"
        },
        {
          "output_type": "stream",
          "text": [
            "INFO:tensorflow:Assets written to: BestModel/assets\n"
          ],
          "name": "stderr"
        },
        {
          "output_type": "stream",
          "text": [
            "Epoch 12/50\n",
            "1334/1334 [==============================] - 12s 9ms/step - loss: 0.1826 - accuracy: 0.9271 - val_loss: 0.1952 - val_accuracy: 0.9224\n"
          ],
          "name": "stdout"
        },
        {
          "output_type": "stream",
          "text": [
            "WARNING:absl:Found untraced functions such as lstm_cell_2_layer_call_and_return_conditional_losses, lstm_cell_2_layer_call_fn, lstm_cell_3_layer_call_and_return_conditional_losses, lstm_cell_3_layer_call_fn, lstm_cell_2_layer_call_fn while saving (showing 5 of 10). These functions will not be directly callable after loading.\n"
          ],
          "name": "stderr"
        },
        {
          "output_type": "stream",
          "text": [
            "INFO:tensorflow:Assets written to: BestModel/assets\n"
          ],
          "name": "stdout"
        },
        {
          "output_type": "stream",
          "text": [
            "INFO:tensorflow:Assets written to: BestModel/assets\n"
          ],
          "name": "stderr"
        },
        {
          "output_type": "stream",
          "text": [
            "Epoch 13/50\n",
            "1334/1334 [==============================] - 12s 9ms/step - loss: 0.1709 - accuracy: 0.9340 - val_loss: 0.1764 - val_accuracy: 0.9310\n"
          ],
          "name": "stdout"
        },
        {
          "output_type": "stream",
          "text": [
            "WARNING:absl:Found untraced functions such as lstm_cell_2_layer_call_and_return_conditional_losses, lstm_cell_2_layer_call_fn, lstm_cell_3_layer_call_and_return_conditional_losses, lstm_cell_3_layer_call_fn, lstm_cell_2_layer_call_fn while saving (showing 5 of 10). These functions will not be directly callable after loading.\n"
          ],
          "name": "stderr"
        },
        {
          "output_type": "stream",
          "text": [
            "INFO:tensorflow:Assets written to: BestModel/assets\n"
          ],
          "name": "stdout"
        },
        {
          "output_type": "stream",
          "text": [
            "INFO:tensorflow:Assets written to: BestModel/assets\n"
          ],
          "name": "stderr"
        },
        {
          "output_type": "stream",
          "text": [
            "Epoch 14/50\n",
            "1334/1334 [==============================] - 13s 9ms/step - loss: 0.1565 - accuracy: 0.9398 - val_loss: 0.1616 - val_accuracy: 0.9347\n"
          ],
          "name": "stdout"
        },
        {
          "output_type": "stream",
          "text": [
            "WARNING:absl:Found untraced functions such as lstm_cell_2_layer_call_and_return_conditional_losses, lstm_cell_2_layer_call_fn, lstm_cell_3_layer_call_and_return_conditional_losses, lstm_cell_3_layer_call_fn, lstm_cell_2_layer_call_fn while saving (showing 5 of 10). These functions will not be directly callable after loading.\n"
          ],
          "name": "stderr"
        },
        {
          "output_type": "stream",
          "text": [
            "INFO:tensorflow:Assets written to: BestModel/assets\n"
          ],
          "name": "stdout"
        },
        {
          "output_type": "stream",
          "text": [
            "INFO:tensorflow:Assets written to: BestModel/assets\n"
          ],
          "name": "stderr"
        },
        {
          "output_type": "stream",
          "text": [
            "Epoch 15/50\n",
            "1334/1334 [==============================] - 12s 9ms/step - loss: 0.1443 - accuracy: 0.9441 - val_loss: 0.1468 - val_accuracy: 0.9429\n"
          ],
          "name": "stdout"
        },
        {
          "output_type": "stream",
          "text": [
            "WARNING:absl:Found untraced functions such as lstm_cell_2_layer_call_and_return_conditional_losses, lstm_cell_2_layer_call_fn, lstm_cell_3_layer_call_and_return_conditional_losses, lstm_cell_3_layer_call_fn, lstm_cell_2_layer_call_fn while saving (showing 5 of 10). These functions will not be directly callable after loading.\n"
          ],
          "name": "stderr"
        },
        {
          "output_type": "stream",
          "text": [
            "INFO:tensorflow:Assets written to: BestModel/assets\n"
          ],
          "name": "stdout"
        },
        {
          "output_type": "stream",
          "text": [
            "INFO:tensorflow:Assets written to: BestModel/assets\n"
          ],
          "name": "stderr"
        },
        {
          "output_type": "stream",
          "text": [
            "Epoch 16/50\n",
            "1334/1334 [==============================] - 12s 9ms/step - loss: 0.1312 - accuracy: 0.9500 - val_loss: 0.1438 - val_accuracy: 0.9454\n"
          ],
          "name": "stdout"
        },
        {
          "output_type": "stream",
          "text": [
            "WARNING:absl:Found untraced functions such as lstm_cell_2_layer_call_and_return_conditional_losses, lstm_cell_2_layer_call_fn, lstm_cell_3_layer_call_and_return_conditional_losses, lstm_cell_3_layer_call_fn, lstm_cell_2_layer_call_fn while saving (showing 5 of 10). These functions will not be directly callable after loading.\n"
          ],
          "name": "stderr"
        },
        {
          "output_type": "stream",
          "text": [
            "INFO:tensorflow:Assets written to: BestModel/assets\n"
          ],
          "name": "stdout"
        },
        {
          "output_type": "stream",
          "text": [
            "INFO:tensorflow:Assets written to: BestModel/assets\n"
          ],
          "name": "stderr"
        },
        {
          "output_type": "stream",
          "text": [
            "Epoch 17/50\n",
            "1334/1334 [==============================] - 12s 9ms/step - loss: 0.1159 - accuracy: 0.9567 - val_loss: 0.1214 - val_accuracy: 0.9537\n"
          ],
          "name": "stdout"
        },
        {
          "output_type": "stream",
          "text": [
            "WARNING:absl:Found untraced functions such as lstm_cell_2_layer_call_and_return_conditional_losses, lstm_cell_2_layer_call_fn, lstm_cell_3_layer_call_and_return_conditional_losses, lstm_cell_3_layer_call_fn, lstm_cell_2_layer_call_fn while saving (showing 5 of 10). These functions will not be directly callable after loading.\n"
          ],
          "name": "stderr"
        },
        {
          "output_type": "stream",
          "text": [
            "INFO:tensorflow:Assets written to: BestModel/assets\n"
          ],
          "name": "stdout"
        },
        {
          "output_type": "stream",
          "text": [
            "INFO:tensorflow:Assets written to: BestModel/assets\n"
          ],
          "name": "stderr"
        },
        {
          "output_type": "stream",
          "text": [
            "Epoch 18/50\n",
            "1334/1334 [==============================] - 13s 9ms/step - loss: 0.1138 - accuracy: 0.9566 - val_loss: 0.1348 - val_accuracy: 0.9481\n",
            "Epoch 19/50\n",
            "1334/1334 [==============================] - 12s 9ms/step - loss: 0.1054 - accuracy: 0.9597 - val_loss: 0.1159 - val_accuracy: 0.9572\n"
          ],
          "name": "stdout"
        },
        {
          "output_type": "stream",
          "text": [
            "WARNING:absl:Found untraced functions such as lstm_cell_2_layer_call_and_return_conditional_losses, lstm_cell_2_layer_call_fn, lstm_cell_3_layer_call_and_return_conditional_losses, lstm_cell_3_layer_call_fn, lstm_cell_2_layer_call_fn while saving (showing 5 of 10). These functions will not be directly callable after loading.\n"
          ],
          "name": "stderr"
        },
        {
          "output_type": "stream",
          "text": [
            "INFO:tensorflow:Assets written to: BestModel/assets\n"
          ],
          "name": "stdout"
        },
        {
          "output_type": "stream",
          "text": [
            "INFO:tensorflow:Assets written to: BestModel/assets\n"
          ],
          "name": "stderr"
        },
        {
          "output_type": "stream",
          "text": [
            "Epoch 20/50\n",
            "1334/1334 [==============================] - 12s 9ms/step - loss: 0.1036 - accuracy: 0.9608 - val_loss: 0.1247 - val_accuracy: 0.9548\n",
            "Epoch 21/50\n",
            "1334/1334 [==============================] - 12s 9ms/step - loss: 0.0908 - accuracy: 0.9666 - val_loss: 0.1182 - val_accuracy: 0.9575\n"
          ],
          "name": "stdout"
        },
        {
          "output_type": "stream",
          "text": [
            "WARNING:absl:Found untraced functions such as lstm_cell_2_layer_call_and_return_conditional_losses, lstm_cell_2_layer_call_fn, lstm_cell_3_layer_call_and_return_conditional_losses, lstm_cell_3_layer_call_fn, lstm_cell_2_layer_call_fn while saving (showing 5 of 10). These functions will not be directly callable after loading.\n"
          ],
          "name": "stderr"
        },
        {
          "output_type": "stream",
          "text": [
            "INFO:tensorflow:Assets written to: BestModel/assets\n"
          ],
          "name": "stdout"
        },
        {
          "output_type": "stream",
          "text": [
            "INFO:tensorflow:Assets written to: BestModel/assets\n"
          ],
          "name": "stderr"
        },
        {
          "output_type": "stream",
          "text": [
            "Epoch 22/50\n",
            "1334/1334 [==============================] - 13s 9ms/step - loss: 0.0918 - accuracy: 0.9660 - val_loss: 0.1138 - val_accuracy: 0.9564\n",
            "Epoch 23/50\n",
            "1334/1334 [==============================] - 12s 9ms/step - loss: 0.0865 - accuracy: 0.9677 - val_loss: 0.0963 - val_accuracy: 0.9647\n"
          ],
          "name": "stdout"
        },
        {
          "output_type": "stream",
          "text": [
            "WARNING:absl:Found untraced functions such as lstm_cell_2_layer_call_and_return_conditional_losses, lstm_cell_2_layer_call_fn, lstm_cell_3_layer_call_and_return_conditional_losses, lstm_cell_3_layer_call_fn, lstm_cell_2_layer_call_fn while saving (showing 5 of 10). These functions will not be directly callable after loading.\n"
          ],
          "name": "stderr"
        },
        {
          "output_type": "stream",
          "text": [
            "INFO:tensorflow:Assets written to: BestModel/assets\n"
          ],
          "name": "stdout"
        },
        {
          "output_type": "stream",
          "text": [
            "INFO:tensorflow:Assets written to: BestModel/assets\n"
          ],
          "name": "stderr"
        },
        {
          "output_type": "stream",
          "text": [
            "Epoch 24/50\n",
            "1334/1334 [==============================] - 12s 9ms/step - loss: 0.0847 - accuracy: 0.9689 - val_loss: 0.1063 - val_accuracy: 0.9590\n",
            "Epoch 25/50\n",
            "1334/1334 [==============================] - 13s 9ms/step - loss: 0.0791 - accuracy: 0.9701 - val_loss: 0.0965 - val_accuracy: 0.9649\n"
          ],
          "name": "stdout"
        },
        {
          "output_type": "stream",
          "text": [
            "WARNING:absl:Found untraced functions such as lstm_cell_2_layer_call_and_return_conditional_losses, lstm_cell_2_layer_call_fn, lstm_cell_3_layer_call_and_return_conditional_losses, lstm_cell_3_layer_call_fn, lstm_cell_2_layer_call_fn while saving (showing 5 of 10). These functions will not be directly callable after loading.\n"
          ],
          "name": "stderr"
        },
        {
          "output_type": "stream",
          "text": [
            "INFO:tensorflow:Assets written to: BestModel/assets\n"
          ],
          "name": "stdout"
        },
        {
          "output_type": "stream",
          "text": [
            "INFO:tensorflow:Assets written to: BestModel/assets\n"
          ],
          "name": "stderr"
        },
        {
          "output_type": "stream",
          "text": [
            "Epoch 26/50\n",
            "1334/1334 [==============================] - 13s 9ms/step - loss: 0.1030 - accuracy: 0.9612 - val_loss: 0.0919 - val_accuracy: 0.9660\n"
          ],
          "name": "stdout"
        },
        {
          "output_type": "stream",
          "text": [
            "WARNING:absl:Found untraced functions such as lstm_cell_2_layer_call_and_return_conditional_losses, lstm_cell_2_layer_call_fn, lstm_cell_3_layer_call_and_return_conditional_losses, lstm_cell_3_layer_call_fn, lstm_cell_2_layer_call_fn while saving (showing 5 of 10). These functions will not be directly callable after loading.\n"
          ],
          "name": "stderr"
        },
        {
          "output_type": "stream",
          "text": [
            "INFO:tensorflow:Assets written to: BestModel/assets\n"
          ],
          "name": "stdout"
        },
        {
          "output_type": "stream",
          "text": [
            "INFO:tensorflow:Assets written to: BestModel/assets\n"
          ],
          "name": "stderr"
        },
        {
          "output_type": "stream",
          "text": [
            "Epoch 27/50\n",
            "1334/1334 [==============================] - 13s 9ms/step - loss: 0.0652 - accuracy: 0.9756 - val_loss: 0.0884 - val_accuracy: 0.9676\n"
          ],
          "name": "stdout"
        },
        {
          "output_type": "stream",
          "text": [
            "WARNING:absl:Found untraced functions such as lstm_cell_2_layer_call_and_return_conditional_losses, lstm_cell_2_layer_call_fn, lstm_cell_3_layer_call_and_return_conditional_losses, lstm_cell_3_layer_call_fn, lstm_cell_2_layer_call_fn while saving (showing 5 of 10). These functions will not be directly callable after loading.\n"
          ],
          "name": "stderr"
        },
        {
          "output_type": "stream",
          "text": [
            "INFO:tensorflow:Assets written to: BestModel/assets\n"
          ],
          "name": "stdout"
        },
        {
          "output_type": "stream",
          "text": [
            "INFO:tensorflow:Assets written to: BestModel/assets\n"
          ],
          "name": "stderr"
        },
        {
          "output_type": "stream",
          "text": [
            "Epoch 28/50\n",
            "1334/1334 [==============================] - 12s 9ms/step - loss: 0.0672 - accuracy: 0.9747 - val_loss: 0.0891 - val_accuracy: 0.9665\n",
            "Epoch 29/50\n",
            "1334/1334 [==============================] - 13s 9ms/step - loss: 0.0682 - accuracy: 0.9757 - val_loss: 0.1289 - val_accuracy: 0.9534\n",
            "Epoch 30/50\n",
            "1334/1334 [==============================] - 12s 9ms/step - loss: 0.0718 - accuracy: 0.9728 - val_loss: 0.0808 - val_accuracy: 0.9706\n"
          ],
          "name": "stdout"
        },
        {
          "output_type": "stream",
          "text": [
            "WARNING:absl:Found untraced functions such as lstm_cell_2_layer_call_and_return_conditional_losses, lstm_cell_2_layer_call_fn, lstm_cell_3_layer_call_and_return_conditional_losses, lstm_cell_3_layer_call_fn, lstm_cell_2_layer_call_fn while saving (showing 5 of 10). These functions will not be directly callable after loading.\n"
          ],
          "name": "stderr"
        },
        {
          "output_type": "stream",
          "text": [
            "INFO:tensorflow:Assets written to: BestModel/assets\n"
          ],
          "name": "stdout"
        },
        {
          "output_type": "stream",
          "text": [
            "INFO:tensorflow:Assets written to: BestModel/assets\n"
          ],
          "name": "stderr"
        },
        {
          "output_type": "stream",
          "text": [
            "Epoch 31/50\n",
            "1334/1334 [==============================] - 12s 9ms/step - loss: 0.0604 - accuracy: 0.9773 - val_loss: 0.0806 - val_accuracy: 0.9703\n",
            "Epoch 32/50\n",
            "1334/1334 [==============================] - 13s 9ms/step - loss: 0.0649 - accuracy: 0.9750 - val_loss: 0.0763 - val_accuracy: 0.9710\n"
          ],
          "name": "stdout"
        },
        {
          "output_type": "stream",
          "text": [
            "WARNING:absl:Found untraced functions such as lstm_cell_2_layer_call_and_return_conditional_losses, lstm_cell_2_layer_call_fn, lstm_cell_3_layer_call_and_return_conditional_losses, lstm_cell_3_layer_call_fn, lstm_cell_2_layer_call_fn while saving (showing 5 of 10). These functions will not be directly callable after loading.\n"
          ],
          "name": "stderr"
        },
        {
          "output_type": "stream",
          "text": [
            "INFO:tensorflow:Assets written to: BestModel/assets\n"
          ],
          "name": "stdout"
        },
        {
          "output_type": "stream",
          "text": [
            "INFO:tensorflow:Assets written to: BestModel/assets\n"
          ],
          "name": "stderr"
        },
        {
          "output_type": "stream",
          "text": [
            "Epoch 33/50\n",
            "1334/1334 [==============================] - 12s 9ms/step - loss: 0.0558 - accuracy: 0.9784 - val_loss: 0.0795 - val_accuracy: 0.9698\n",
            "Epoch 34/50\n",
            "1334/1334 [==============================] - 13s 9ms/step - loss: 0.0622 - accuracy: 0.9771 - val_loss: 0.1405 - val_accuracy: 0.9498\n",
            "Epoch 35/50\n",
            "1334/1334 [==============================] - 12s 9ms/step - loss: 0.0605 - accuracy: 0.9764 - val_loss: 0.0775 - val_accuracy: 0.9718\n"
          ],
          "name": "stdout"
        },
        {
          "output_type": "stream",
          "text": [
            "WARNING:absl:Found untraced functions such as lstm_cell_2_layer_call_and_return_conditional_losses, lstm_cell_2_layer_call_fn, lstm_cell_3_layer_call_and_return_conditional_losses, lstm_cell_3_layer_call_fn, lstm_cell_2_layer_call_fn while saving (showing 5 of 10). These functions will not be directly callable after loading.\n"
          ],
          "name": "stderr"
        },
        {
          "output_type": "stream",
          "text": [
            "INFO:tensorflow:Assets written to: BestModel/assets\n"
          ],
          "name": "stdout"
        },
        {
          "output_type": "stream",
          "text": [
            "INFO:tensorflow:Assets written to: BestModel/assets\n"
          ],
          "name": "stderr"
        },
        {
          "output_type": "stream",
          "text": [
            "Epoch 36/50\n",
            "1334/1334 [==============================] - 12s 9ms/step - loss: 0.0487 - accuracy: 0.9813 - val_loss: 0.0942 - val_accuracy: 0.9663\n",
            "Epoch 37/50\n",
            "1334/1334 [==============================] - 13s 9ms/step - loss: 0.0555 - accuracy: 0.9787 - val_loss: 0.0681 - val_accuracy: 0.9760\n"
          ],
          "name": "stdout"
        },
        {
          "output_type": "stream",
          "text": [
            "WARNING:absl:Found untraced functions such as lstm_cell_2_layer_call_and_return_conditional_losses, lstm_cell_2_layer_call_fn, lstm_cell_3_layer_call_and_return_conditional_losses, lstm_cell_3_layer_call_fn, lstm_cell_2_layer_call_fn while saving (showing 5 of 10). These functions will not be directly callable after loading.\n"
          ],
          "name": "stderr"
        },
        {
          "output_type": "stream",
          "text": [
            "INFO:tensorflow:Assets written to: BestModel/assets\n"
          ],
          "name": "stdout"
        },
        {
          "output_type": "stream",
          "text": [
            "INFO:tensorflow:Assets written to: BestModel/assets\n"
          ],
          "name": "stderr"
        },
        {
          "output_type": "stream",
          "text": [
            "Epoch 38/50\n",
            "1334/1334 [==============================] - 12s 9ms/step - loss: 0.0480 - accuracy: 0.9822 - val_loss: 0.0769 - val_accuracy: 0.9723\n",
            "Epoch 39/50\n",
            "1334/1334 [==============================] - 12s 9ms/step - loss: 0.0440 - accuracy: 0.9835 - val_loss: 0.0775 - val_accuracy: 0.9722\n",
            "Epoch 40/50\n",
            "1334/1334 [==============================] - 12s 9ms/step - loss: 0.0502 - accuracy: 0.9811 - val_loss: 0.0733 - val_accuracy: 0.9736\n",
            "Epoch 41/50\n",
            "1334/1334 [==============================] - 12s 9ms/step - loss: 0.0443 - accuracy: 0.9829 - val_loss: 0.0684 - val_accuracy: 0.9765\n"
          ],
          "name": "stdout"
        },
        {
          "output_type": "stream",
          "text": [
            "WARNING:absl:Found untraced functions such as lstm_cell_2_layer_call_and_return_conditional_losses, lstm_cell_2_layer_call_fn, lstm_cell_3_layer_call_and_return_conditional_losses, lstm_cell_3_layer_call_fn, lstm_cell_2_layer_call_fn while saving (showing 5 of 10). These functions will not be directly callable after loading.\n"
          ],
          "name": "stderr"
        },
        {
          "output_type": "stream",
          "text": [
            "INFO:tensorflow:Assets written to: BestModel/assets\n"
          ],
          "name": "stdout"
        },
        {
          "output_type": "stream",
          "text": [
            "INFO:tensorflow:Assets written to: BestModel/assets\n"
          ],
          "name": "stderr"
        },
        {
          "output_type": "stream",
          "text": [
            "Epoch 42/50\n",
            "1334/1334 [==============================] - 12s 9ms/step - loss: 0.0559 - accuracy: 0.9762 - val_loss: 0.5557 - val_accuracy: 0.7112\n",
            "Epoch 43/50\n",
            "1334/1334 [==============================] - 12s 9ms/step - loss: 0.5336 - accuracy: 0.7325 - val_loss: 0.4354 - val_accuracy: 0.8041\n",
            "Epoch 44/50\n",
            "1334/1334 [==============================] - 13s 9ms/step - loss: 0.4148 - accuracy: 0.8144 - val_loss: 0.3591 - val_accuracy: 0.8360\n",
            "Epoch 45/50\n",
            "1334/1334 [==============================] - 12s 9ms/step - loss: 0.3592 - accuracy: 0.8369 - val_loss: 0.3295 - val_accuracy: 0.8472\n",
            "Epoch 46/50\n",
            "1334/1334 [==============================] - 12s 9ms/step - loss: 0.3259 - accuracy: 0.8501 - val_loss: 0.3163 - val_accuracy: 0.8490\n",
            "Epoch 47/50\n",
            "1334/1334 [==============================] - 12s 9ms/step - loss: 0.3046 - accuracy: 0.8575 - val_loss: 0.2978 - val_accuracy: 0.8559\n",
            "Epoch 48/50\n",
            "1334/1334 [==============================] - 12s 9ms/step - loss: 0.2930 - accuracy: 0.8623 - val_loss: 0.2886 - val_accuracy: 0.8654\n",
            "Epoch 49/50\n",
            "1334/1334 [==============================] - 12s 9ms/step - loss: 0.2825 - accuracy: 0.8693 - val_loss: 0.2763 - val_accuracy: 0.8704\n",
            "Epoch 50/50\n",
            "1334/1334 [==============================] - 13s 9ms/step - loss: 0.2692 - accuracy: 0.8794 - val_loss: 0.2811 - val_accuracy: 0.8748\n",
            "Fold 1, 50 epochs, 942 sec\n"
          ],
          "name": "stdout"
        },
        {
          "output_type": "display_data",
          "data": {
            "image/png": "[encoded data removed]",
            "text/plain": [
              "<Figure size 576x360 with 1 Axes>"
            ]
          },
          "metadata": {
            "tags": [],
            "needs_background": "light"
          }
        },
        {
          "output_type": "stream",
          "text": [
            "MODEL\n",
            "make_DNN\n",
            "input shape: (32, 4)\n",
            "FIT\n",
            "Epoch 1/50\n",
            "1334/1334 [==============================] - 18s 10ms/step - loss: 0.6566 - accuracy: 0.5943 - val_loss: 0.5661 - val_accuracy: 0.6939\n",
            "Epoch 2/50\n",
            "1334/1334 [==============================] - 13s 9ms/step - loss: 0.5320 - accuracy: 0.7210 - val_loss: 0.4287 - val_accuracy: 0.7958\n",
            "Epoch 3/50\n",
            "1334/1334 [==============================] - 13s 9ms/step - loss: 0.4033 - accuracy: 0.8102 - val_loss: 0.3389 - val_accuracy: 0.8444\n",
            "Epoch 4/50\n",
            "1334/1334 [==============================] - 12s 9ms/step - loss: 0.3244 - accuracy: 0.8583 - val_loss: 0.3008 - val_accuracy: 0.8666\n",
            "Epoch 5/50\n",
            "1334/1334 [==============================] - 13s 9ms/step - loss: 0.2752 - accuracy: 0.8844 - val_loss: 0.2506 - val_accuracy: 0.8955\n",
            "Epoch 6/50\n",
            "1334/1334 [==============================] - 13s 10ms/step - loss: 0.2397 - accuracy: 0.9012 - val_loss: 0.2222 - val_accuracy: 0.9062\n",
            "Epoch 7/50\n",
            "1334/1334 [==============================] - 13s 9ms/step - loss: 0.2099 - accuracy: 0.9138 - val_loss: 0.1998 - val_accuracy: 0.9185\n",
            "Epoch 8/50\n",
            "1334/1334 [==============================] - 13s 10ms/step - loss: 0.1828 - accuracy: 0.9274 - val_loss: 0.1987 - val_accuracy: 0.9178\n",
            "Epoch 9/50\n",
            "1334/1334 [==============================] - 13s 9ms/step - loss: 0.1616 - accuracy: 0.9356 - val_loss: 0.1687 - val_accuracy: 0.9300\n",
            "Epoch 10/50\n",
            "1334/1334 [==============================] - 13s 9ms/step - loss: 0.1423 - accuracy: 0.9435 - val_loss: 0.1375 - val_accuracy: 0.9443\n",
            "Epoch 11/50\n",
            "1334/1334 [==============================] - 13s 9ms/step - loss: 0.1219 - accuracy: 0.9514 - val_loss: 0.1102 - val_accuracy: 0.9561\n",
            "Epoch 12/50\n",
            "1334/1334 [==============================] - 13s 10ms/step - loss: 0.1066 - accuracy: 0.9573 - val_loss: 0.1077 - val_accuracy: 0.9557\n",
            "Epoch 13/50\n",
            "1334/1334 [==============================] - 13s 9ms/step - loss: 0.0933 - accuracy: 0.9624 - val_loss: 0.1095 - val_accuracy: 0.9546\n",
            "Epoch 14/50\n",
            "1334/1334 [==============================] - 13s 9ms/step - loss: 0.0827 - accuracy: 0.9670 - val_loss: 0.0772 - val_accuracy: 0.9677\n",
            "Epoch 15/50\n",
            "1334/1334 [==============================] - 13s 9ms/step - loss: 0.0760 - accuracy: 0.9709 - val_loss: 0.0746 - val_accuracy: 0.9692\n",
            "Epoch 16/50\n",
            "1334/1334 [==============================] - 13s 9ms/step - loss: 0.0672 - accuracy: 0.9726 - val_loss: 0.1078 - val_accuracy: 0.9599\n",
            "Epoch 17/50\n",
            "1334/1334 [==============================] - 13s 9ms/step - loss: 0.0688 - accuracy: 0.9711 - val_loss: 0.0657 - val_accuracy: 0.9735\n",
            "Epoch 18/50\n",
            "1334/1334 [==============================] - 13s 9ms/step - loss: 0.0585 - accuracy: 0.9749 - val_loss: 0.0591 - val_accuracy: 0.9764\n",
            "Epoch 19/50\n",
            "1334/1334 [==============================] - 13s 9ms/step - loss: 0.0562 - accuracy: 0.9768 - val_loss: 0.0599 - val_accuracy: 0.9747\n",
            "Epoch 20/50\n",
            "1334/1334 [==============================] - 13s 9ms/step - loss: 0.0479 - accuracy: 0.9799 - val_loss: 0.0645 - val_accuracy: 0.9728\n",
            "Epoch 21/50\n",
            "1334/1334 [==============================] - 13s 9ms/step - loss: 0.0536 - accuracy: 0.9775 - val_loss: 0.0540 - val_accuracy: 0.9768\n"
          ],
          "name": "stdout"
        },
        {
          "output_type": "stream",
          "text": [
            "WARNING:absl:Found untraced functions such as lstm_cell_4_layer_call_and_return_conditional_losses, lstm_cell_4_layer_call_fn, lstm_cell_5_layer_call_and_return_conditional_losses, lstm_cell_5_layer_call_fn, lstm_cell_4_layer_call_fn while saving (showing 5 of 10). These functions will not be directly callable after loading.\n"
          ],
          "name": "stderr"
        },
        {
          "output_type": "stream",
          "text": [
            "INFO:tensorflow:Assets written to: BestModel/assets\n"
          ],
          "name": "stdout"
        },
        {
          "output_type": "stream",
          "text": [
            "INFO:tensorflow:Assets written to: BestModel/assets\n"
          ],
          "name": "stderr"
        },
        {
          "output_type": "stream",
          "text": [
            "Epoch 22/50\n",
            "1334/1334 [==============================] - 12s 9ms/step - loss: 0.0435 - accuracy: 0.9813 - val_loss: 0.0505 - val_accuracy: 0.9796\n"
          ],
          "name": "stdout"
        },
        {
          "output_type": "stream",
          "text": [
            "WARNING:absl:Found untraced functions such as lstm_cell_4_layer_call_and_return_conditional_losses, lstm_cell_4_layer_call_fn, lstm_cell_5_layer_call_and_return_conditional_losses, lstm_cell_5_layer_call_fn, lstm_cell_4_layer_call_fn while saving (showing 5 of 10). These functions will not be directly callable after loading.\n"
          ],
          "name": "stderr"
        },
        {
          "output_type": "stream",
          "text": [
            "INFO:tensorflow:Assets written to: BestModel/assets\n"
          ],
          "name": "stdout"
        },
        {
          "output_type": "stream",
          "text": [
            "INFO:tensorflow:Assets written to: BestModel/assets\n"
          ],
          "name": "stderr"
        },
        {
          "output_type": "stream",
          "text": [
            "Epoch 23/50\n",
            "1334/1334 [==============================] - 13s 9ms/step - loss: 0.0389 - accuracy: 0.9840 - val_loss: 0.0486 - val_accuracy: 0.9794\n",
            "Epoch 24/50\n",
            "1334/1334 [==============================] - 13s 10ms/step - loss: 0.0403 - accuracy: 0.9841 - val_loss: 0.0574 - val_accuracy: 0.9779\n",
            "Epoch 25/50\n",
            "1334/1334 [==============================] - 13s 10ms/step - loss: 0.0391 - accuracy: 0.9833 - val_loss: 0.0529 - val_accuracy: 0.9791\n",
            "Epoch 26/50\n",
            "1334/1334 [==============================] - 13s 9ms/step - loss: 0.0365 - accuracy: 0.9838 - val_loss: 0.0490 - val_accuracy: 0.9805\n"
          ],
          "name": "stdout"
        },
        {
          "output_type": "stream",
          "text": [
            "WARNING:absl:Found untraced functions such as lstm_cell_4_layer_call_and_return_conditional_losses, lstm_cell_4_layer_call_fn, lstm_cell_5_layer_call_and_return_conditional_losses, lstm_cell_5_layer_call_fn, lstm_cell_4_layer_call_fn while saving (showing 5 of 10). These functions will not be directly callable after loading.\n"
          ],
          "name": "stderr"
        },
        {
          "output_type": "stream",
          "text": [
            "INFO:tensorflow:Assets written to: BestModel/assets\n"
          ],
          "name": "stdout"
        },
        {
          "output_type": "stream",
          "text": [
            "INFO:tensorflow:Assets written to: BestModel/assets\n"
          ],
          "name": "stderr"
        },
        {
          "output_type": "stream",
          "text": [
            "Epoch 27/50\n",
            "1334/1334 [==============================] - 13s 10ms/step - loss: 0.0367 - accuracy: 0.9850 - val_loss: 0.0477 - val_accuracy: 0.9797\n",
            "Epoch 28/50\n",
            "1334/1334 [==============================] - 12s 9ms/step - loss: 0.0375 - accuracy: 0.9847 - val_loss: 0.0387 - val_accuracy: 0.9842\n"
          ],
          "name": "stdout"
        },
        {
          "output_type": "stream",
          "text": [
            "WARNING:absl:Found untraced functions such as lstm_cell_4_layer_call_and_return_conditional_losses, lstm_cell_4_layer_call_fn, lstm_cell_5_layer_call_and_return_conditional_losses, lstm_cell_5_layer_call_fn, lstm_cell_4_layer_call_fn while saving (showing 5 of 10). These functions will not be directly callable after loading.\n"
          ],
          "name": "stderr"
        },
        {
          "output_type": "stream",
          "text": [
            "INFO:tensorflow:Assets written to: BestModel/assets\n"
          ],
          "name": "stdout"
        },
        {
          "output_type": "stream",
          "text": [
            "INFO:tensorflow:Assets written to: BestModel/assets\n"
          ],
          "name": "stderr"
        },
        {
          "output_type": "stream",
          "text": [
            "Epoch 29/50\n",
            "1334/1334 [==============================] - 13s 9ms/step - loss: 0.0309 - accuracy: 0.9871 - val_loss: 0.0421 - val_accuracy: 0.9832\n",
            "Epoch 30/50\n",
            "1334/1334 [==============================] - 13s 9ms/step - loss: 0.0341 - accuracy: 0.9875 - val_loss: 0.0445 - val_accuracy: 0.9828\n",
            "Epoch 31/50\n",
            "1334/1334 [==============================] - 13s 9ms/step - loss: 0.0303 - accuracy: 0.9882 - val_loss: 0.0453 - val_accuracy: 0.9819\n",
            "Epoch 32/50\n",
            "1334/1334 [==============================] - 13s 9ms/step - loss: 0.0284 - accuracy: 0.9884 - val_loss: 0.0379 - val_accuracy: 0.9840\n",
            "Epoch 33/50\n",
            "1334/1334 [==============================] - 13s 9ms/step - loss: 0.0294 - accuracy: 0.9881 - val_loss: 0.0412 - val_accuracy: 0.9836\n",
            "Epoch 34/50\n",
            "1334/1334 [==============================] - 13s 10ms/step - loss: 0.0251 - accuracy: 0.9895 - val_loss: 0.0439 - val_accuracy: 0.9839\n",
            "Epoch 35/50\n",
            "1334/1334 [==============================] - 13s 9ms/step - loss: 0.0290 - accuracy: 0.9887 - val_loss: 0.0384 - val_accuracy: 0.9853\n"
          ],
          "name": "stdout"
        },
        {
          "output_type": "stream",
          "text": [
            "WARNING:absl:Found untraced functions such as lstm_cell_4_layer_call_and_return_conditional_losses, lstm_cell_4_layer_call_fn, lstm_cell_5_layer_call_and_return_conditional_losses, lstm_cell_5_layer_call_fn, lstm_cell_4_layer_call_fn while saving (showing 5 of 10). These functions will not be directly callable after loading.\n"
          ],
          "name": "stderr"
        },
        {
          "output_type": "stream",
          "text": [
            "INFO:tensorflow:Assets written to: BestModel/assets\n"
          ],
          "name": "stdout"
        },
        {
          "output_type": "stream",
          "text": [
            "INFO:tensorflow:Assets written to: BestModel/assets\n"
          ],
          "name": "stderr"
        },
        {
          "output_type": "stream",
          "text": [
            "Epoch 36/50\n",
            "1334/1334 [==============================] - 13s 9ms/step - loss: 0.0229 - accuracy: 0.9909 - val_loss: 0.0406 - val_accuracy: 0.9842\n",
            "Epoch 37/50\n",
            "1334/1334 [==============================] - 13s 9ms/step - loss: 0.0222 - accuracy: 0.9914 - val_loss: 0.0371 - val_accuracy: 0.9856\n"
          ],
          "name": "stdout"
        },
        {
          "output_type": "stream",
          "text": [
            "WARNING:absl:Found untraced functions such as lstm_cell_4_layer_call_and_return_conditional_losses, lstm_cell_4_layer_call_fn, lstm_cell_5_layer_call_and_return_conditional_losses, lstm_cell_5_layer_call_fn, lstm_cell_4_layer_call_fn while saving (showing 5 of 10). These functions will not be directly callable after loading.\n"
          ],
          "name": "stderr"
        },
        {
          "output_type": "stream",
          "text": [
            "INFO:tensorflow:Assets written to: BestModel/assets\n"
          ],
          "name": "stdout"
        },
        {
          "output_type": "stream",
          "text": [
            "INFO:tensorflow:Assets written to: BestModel/assets\n"
          ],
          "name": "stderr"
        },
        {
          "output_type": "stream",
          "text": [
            "Epoch 38/50\n",
            "1334/1334 [==============================] - 13s 9ms/step - loss: 0.0254 - accuracy: 0.9902 - val_loss: 0.0507 - val_accuracy: 0.9821\n",
            "Epoch 39/50\n",
            "1334/1334 [==============================] - 13s 10ms/step - loss: 0.0208 - accuracy: 0.9916 - val_loss: 0.0433 - val_accuracy: 0.9857\n"
          ],
          "name": "stdout"
        },
        {
          "output_type": "stream",
          "text": [
            "WARNING:absl:Found untraced functions such as lstm_cell_4_layer_call_and_return_conditional_losses, lstm_cell_4_layer_call_fn, lstm_cell_5_layer_call_and_return_conditional_losses, lstm_cell_5_layer_call_fn, lstm_cell_4_layer_call_fn while saving (showing 5 of 10). These functions will not be directly callable after loading.\n"
          ],
          "name": "stderr"
        },
        {
          "output_type": "stream",
          "text": [
            "INFO:tensorflow:Assets written to: BestModel/assets\n"
          ],
          "name": "stdout"
        },
        {
          "output_type": "stream",
          "text": [
            "INFO:tensorflow:Assets written to: BestModel/assets\n"
          ],
          "name": "stderr"
        },
        {
          "output_type": "stream",
          "text": [
            "Epoch 40/50\n",
            "1334/1334 [==============================] - 13s 9ms/step - loss: 0.0258 - accuracy: 0.9898 - val_loss: 0.0393 - val_accuracy: 0.9859\n"
          ],
          "name": "stdout"
        },
        {
          "output_type": "stream",
          "text": [
            "WARNING:absl:Found untraced functions such as lstm_cell_4_layer_call_and_return_conditional_losses, lstm_cell_4_layer_call_fn, lstm_cell_5_layer_call_and_return_conditional_losses, lstm_cell_5_layer_call_fn, lstm_cell_4_layer_call_fn while saving (showing 5 of 10). These functions will not be directly callable after loading.\n"
          ],
          "name": "stderr"
        },
        {
          "output_type": "stream",
          "text": [
            "INFO:tensorflow:Assets written to: BestModel/assets\n"
          ],
          "name": "stdout"
        },
        {
          "output_type": "stream",
          "text": [
            "INFO:tensorflow:Assets written to: BestModel/assets\n"
          ],
          "name": "stderr"
        },
        {
          "output_type": "stream",
          "text": [
            "Epoch 41/50\n",
            "1334/1334 [==============================] - 13s 9ms/step - loss: 0.0171 - accuracy: 0.9938 - val_loss: 0.0524 - val_accuracy: 0.9819\n",
            "Epoch 42/50\n",
            "1334/1334 [==============================] - 13s 9ms/step - loss: 0.0289 - accuracy: 0.9891 - val_loss: 0.0377 - val_accuracy: 0.9865\n"
          ],
          "name": "stdout"
        },
        {
          "output_type": "stream",
          "text": [
            "WARNING:absl:Found untraced functions such as lstm_cell_4_layer_call_and_return_conditional_losses, lstm_cell_4_layer_call_fn, lstm_cell_5_layer_call_and_return_conditional_losses, lstm_cell_5_layer_call_fn, lstm_cell_4_layer_call_fn while saving (showing 5 of 10). These functions will not be directly callable after loading.\n"
          ],
          "name": "stderr"
        },
        {
          "output_type": "stream",
          "text": [
            "INFO:tensorflow:Assets written to: BestModel/assets\n"
          ],
          "name": "stdout"
        },
        {
          "output_type": "stream",
          "text": [
            "INFO:tensorflow:Assets written to: BestModel/assets\n"
          ],
          "name": "stderr"
        },
        {
          "output_type": "stream",
          "text": [
            "Epoch 43/50\n",
            "1334/1334 [==============================] - 13s 10ms/step - loss: 0.0168 - accuracy: 0.9936 - val_loss: 0.0382 - val_accuracy: 0.9858\n",
            "Epoch 44/50\n",
            "1334/1334 [==============================] - 13s 9ms/step - loss: 0.0190 - accuracy: 0.9926 - val_loss: 0.0529 - val_accuracy: 0.9825\n",
            "Epoch 45/50\n",
            "1334/1334 [==============================] - 13s 10ms/step - loss: 0.0195 - accuracy: 0.9930 - val_loss: 0.0340 - val_accuracy: 0.9884\n"
          ],
          "name": "stdout"
        },
        {
          "output_type": "stream",
          "text": [
            "WARNING:absl:Found untraced functions such as lstm_cell_4_layer_call_and_return_conditional_losses, lstm_cell_4_layer_call_fn, lstm_cell_5_layer_call_and_return_conditional_losses, lstm_cell_5_layer_call_fn, lstm_cell_4_layer_call_fn while saving (showing 5 of 10). These functions will not be directly callable after loading.\n"
          ],
          "name": "stderr"
        },
        {
          "output_type": "stream",
          "text": [
            "INFO:tensorflow:Assets written to: BestModel/assets\n"
          ],
          "name": "stdout"
        },
        {
          "output_type": "stream",
          "text": [
            "INFO:tensorflow:Assets written to: BestModel/assets\n"
          ],
          "name": "stderr"
        },
        {
          "output_type": "stream",
          "text": [
            "Epoch 46/50\n",
            "1334/1334 [==============================] - 12s 9ms/step - loss: 0.0177 - accuracy: 0.9940 - val_loss: 0.0308 - val_accuracy: 0.9894\n"
          ],
          "name": "stdout"
        },
        {
          "output_type": "stream",
          "text": [
            "WARNING:absl:Found untraced functions such as lstm_cell_4_layer_call_and_return_conditional_losses, lstm_cell_4_layer_call_fn, lstm_cell_5_layer_call_and_return_conditional_losses, lstm_cell_5_layer_call_fn, lstm_cell_4_layer_call_fn while saving (showing 5 of 10). These functions will not be directly callable after loading.\n"
          ],
          "name": "stderr"
        },
        {
          "output_type": "stream",
          "text": [
            "INFO:tensorflow:Assets written to: BestModel/assets\n"
          ],
          "name": "stdout"
        },
        {
          "output_type": "stream",
          "text": [
            "INFO:tensorflow:Assets written to: BestModel/assets\n"
          ],
          "name": "stderr"
        },
        {
          "output_type": "stream",
          "text": [
            "Epoch 47/50\n",
            "1334/1334 [==============================] - 13s 9ms/step - loss: 0.0144 - accuracy: 0.9942 - val_loss: 0.0403 - val_accuracy: 0.9870\n",
            "Epoch 48/50\n",
            "1334/1334 [==============================] - 13s 9ms/step - loss: 0.0159 - accuracy: 0.9937 - val_loss: 0.0402 - val_accuracy: 0.9849\n",
            "Epoch 49/50\n",
            "1334/1334 [==============================] - 13s 9ms/step - loss: 0.0169 - accuracy: 0.9932 - val_loss: 0.0329 - val_accuracy: 0.9884\n",
            "Epoch 50/50\n",
            "1334/1334 [==============================] - 13s 9ms/step - loss: 0.0106 - accuracy: 0.9960 - val_loss: 0.0455 - val_accuracy: 0.9845\n",
            "Fold 2, 50 epochs, 806 sec\n"
          ],
          "name": "stdout"
        },
        {
          "output_type": "display_data",
          "data": {
            "image/png": "[encoded data removed]",
            "text/plain": [
              "<Figure size 576x360 with 1 Axes>"
            ]
          },
          "metadata": {
            "tags": [],
            "needs_background": "light"
          }
        },
        {
          "output_type": "stream",
          "text": [
            "MODEL\n",
            "make_DNN\n",
            "input shape: (32, 4)\n",
            "FIT\n",
            "Epoch 1/50\n",
            "1334/1334 [==============================] - 18s 11ms/step - loss: 0.6599 - accuracy: 0.5870 - val_loss: 0.5742 - val_accuracy: 0.6905\n",
            "Epoch 2/50\n",
            "1334/1334 [==============================] - 13s 10ms/step - loss: 0.5522 - accuracy: 0.7078 - val_loss: 0.4610 - val_accuracy: 0.7807\n",
            "Epoch 3/50\n",
            "1334/1334 [==============================] - 13s 10ms/step - loss: 0.4120 - accuracy: 0.8074 - val_loss: 0.3303 - val_accuracy: 0.8542\n",
            "Epoch 4/50\n",
            "1334/1334 [==============================] - 13s 10ms/step - loss: 0.3224 - accuracy: 0.8554 - val_loss: 0.2910 - val_accuracy: 0.8693\n",
            "Epoch 5/50\n",
            "1334/1334 [==============================] - 13s 10ms/step - loss: 0.2823 - accuracy: 0.8743 - val_loss: 0.2787 - val_accuracy: 0.8780\n",
            "Epoch 6/50\n",
            "1334/1334 [==============================] - 13s 10ms/step - loss: 0.2595 - accuracy: 0.8870 - val_loss: 0.2440 - val_accuracy: 0.8934\n",
            "Epoch 7/50\n",
            "1334/1334 [==============================] - 13s 10ms/step - loss: 0.2330 - accuracy: 0.8996 - val_loss: 0.2271 - val_accuracy: 0.8998\n",
            "Epoch 8/50\n",
            "1334/1334 [==============================] - 13s 10ms/step - loss: 0.2207 - accuracy: 0.9046 - val_loss: 0.2264 - val_accuracy: 0.9042\n",
            "Epoch 9/50\n",
            "1334/1334 [==============================] - 13s 10ms/step - loss: 0.2042 - accuracy: 0.9137 - val_loss: 0.2013 - val_accuracy: 0.9151\n",
            "Epoch 10/50\n",
            "1334/1334 [==============================] - 13s 10ms/step - loss: 0.1938 - accuracy: 0.9170 - val_loss: 0.1949 - val_accuracy: 0.9187\n",
            "Epoch 11/50\n",
            "1334/1334 [==============================] - 13s 10ms/step - loss: 0.1787 - accuracy: 0.9253 - val_loss: 0.1872 - val_accuracy: 0.9197\n",
            "Epoch 12/50\n",
            "1334/1334 [==============================] - 13s 10ms/step - loss: 0.1646 - accuracy: 0.9332 - val_loss: 0.1616 - val_accuracy: 0.9339\n",
            "Epoch 13/50\n",
            "1334/1334 [==============================] - 13s 10ms/step - loss: 0.1583 - accuracy: 0.9352 - val_loss: 0.1812 - val_accuracy: 0.9277\n",
            "Epoch 14/50\n",
            "1334/1334 [==============================] - 13s 10ms/step - loss: 0.1514 - accuracy: 0.9372 - val_loss: 0.1493 - val_accuracy: 0.9385\n",
            "Epoch 15/50\n",
            "1334/1334 [==============================] - 13s 10ms/step - loss: 0.1397 - accuracy: 0.9430 - val_loss: 0.1451 - val_accuracy: 0.9391\n",
            "Epoch 16/50\n",
            "1334/1334 [==============================] - 13s 9ms/step - loss: 0.1318 - accuracy: 0.9456 - val_loss: 0.1407 - val_accuracy: 0.9401\n",
            "Epoch 17/50\n",
            "1334/1334 [==============================] - 13s 10ms/step - loss: 0.1236 - accuracy: 0.9500 - val_loss: 0.1271 - val_accuracy: 0.9475\n",
            "Epoch 18/50\n",
            "1334/1334 [==============================] - 13s 10ms/step - loss: 0.3229 - accuracy: 0.8448 - val_loss: 0.3503 - val_accuracy: 0.8490\n",
            "Epoch 19/50\n",
            "1334/1334 [==============================] - 13s 10ms/step - loss: 0.3357 - accuracy: 0.8554 - val_loss: 0.2786 - val_accuracy: 0.8835\n",
            "Epoch 20/50\n",
            "1334/1334 [==============================] - 13s 10ms/step - loss: 0.2282 - accuracy: 0.9037 - val_loss: 0.1465 - val_accuracy: 0.9408\n",
            "Epoch 21/50\n",
            "1334/1334 [==============================] - 13s 10ms/step - loss: 0.1230 - accuracy: 0.9509 - val_loss: 0.1217 - val_accuracy: 0.9511\n",
            "Epoch 22/50\n",
            "1334/1334 [==============================] - 13s 10ms/step - loss: 0.1113 - accuracy: 0.9555 - val_loss: 0.1144 - val_accuracy: 0.9534\n",
            "Epoch 23/50\n",
            "1334/1334 [==============================] - 13s 10ms/step - loss: 0.1029 - accuracy: 0.9592 - val_loss: 0.1083 - val_accuracy: 0.9552\n",
            "Epoch 24/50\n",
            "1334/1334 [==============================] - 13s 10ms/step - loss: 0.0974 - accuracy: 0.9610 - val_loss: 0.1086 - val_accuracy: 0.9563\n",
            "Epoch 25/50\n",
            "1334/1334 [==============================] - 13s 10ms/step - loss: 0.0913 - accuracy: 0.9630 - val_loss: 0.0943 - val_accuracy: 0.9607\n",
            "Epoch 26/50\n",
            "1334/1334 [==============================] - 13s 10ms/step - loss: 0.0962 - accuracy: 0.9622 - val_loss: 0.0979 - val_accuracy: 0.9594\n",
            "Epoch 27/50\n",
            "1334/1334 [==============================] - 13s 10ms/step - loss: 0.0821 - accuracy: 0.9674 - val_loss: 0.0923 - val_accuracy: 0.9628\n",
            "Epoch 28/50\n",
            "1334/1334 [==============================] - 13s 10ms/step - loss: 0.0811 - accuracy: 0.9680 - val_loss: 0.0957 - val_accuracy: 0.9630\n",
            "Epoch 29/50\n",
            "1334/1334 [==============================] - 13s 10ms/step - loss: 0.0804 - accuracy: 0.9683 - val_loss: 0.0916 - val_accuracy: 0.9636\n",
            "Epoch 30/50\n",
            "1334/1334 [==============================] - 13s 10ms/step - loss: 0.0781 - accuracy: 0.9694 - val_loss: 0.0883 - val_accuracy: 0.9644\n",
            "Epoch 31/50\n",
            "1334/1334 [==============================] - 13s 10ms/step - loss: 0.0996 - accuracy: 0.9626 - val_loss: 0.0860 - val_accuracy: 0.9644\n",
            "Epoch 32/50\n",
            "1334/1334 [==============================] - 13s 10ms/step - loss: 0.0741 - accuracy: 0.9705 - val_loss: 0.0797 - val_accuracy: 0.9674\n",
            "Epoch 33/50\n",
            "1334/1334 [==============================] - 13s 10ms/step - loss: 0.0670 - accuracy: 0.9741 - val_loss: 0.0994 - val_accuracy: 0.9596\n",
            "Epoch 34/50\n",
            "1334/1334 [==============================] - 13s 10ms/step - loss: 0.0730 - accuracy: 0.9712 - val_loss: 0.0810 - val_accuracy: 0.9670\n",
            "Epoch 35/50\n",
            "1334/1334 [==============================] - 13s 10ms/step - loss: 0.0632 - accuracy: 0.9742 - val_loss: 0.1305 - val_accuracy: 0.9521\n",
            "Epoch 36/50\n",
            "1334/1334 [==============================] - 13s 10ms/step - loss: 0.0684 - accuracy: 0.9730 - val_loss: 0.0813 - val_accuracy: 0.9677\n",
            "Epoch 37/50\n",
            "1334/1334 [==============================] - 13s 10ms/step - loss: 0.0600 - accuracy: 0.9756 - val_loss: 0.0786 - val_accuracy: 0.9691\n",
            "Epoch 38/50\n",
            "1334/1334 [==============================] - 13s 10ms/step - loss: 0.0602 - accuracy: 0.9761 - val_loss: 0.0858 - val_accuracy: 0.9660\n",
            "Epoch 39/50\n",
            "1334/1334 [==============================] - 13s 9ms/step - loss: 0.0662 - accuracy: 0.9731 - val_loss: 0.0767 - val_accuracy: 0.9697\n",
            "Epoch 40/50\n",
            "1334/1334 [==============================] - 13s 10ms/step - loss: 0.0639 - accuracy: 0.9736 - val_loss: 0.0716 - val_accuracy: 0.9695\n",
            "Epoch 41/50\n",
            "1334/1334 [==============================] - 13s 9ms/step - loss: 0.0547 - accuracy: 0.9779 - val_loss: 0.0784 - val_accuracy: 0.9709\n",
            "Epoch 42/50\n",
            "1334/1334 [==============================] - 13s 10ms/step - loss: 0.0539 - accuracy: 0.9779 - val_loss: 0.0758 - val_accuracy: 0.9696\n",
            "Epoch 43/50\n",
            "1334/1334 [==============================] - 13s 10ms/step - loss: 0.0550 - accuracy: 0.9771 - val_loss: 0.0767 - val_accuracy: 0.9697\n",
            "Epoch 44/50\n",
            "1334/1334 [==============================] - 13s 10ms/step - loss: 0.0517 - accuracy: 0.9790 - val_loss: 0.0734 - val_accuracy: 0.9709\n",
            "Epoch 45/50\n",
            "1334/1334 [==============================] - 13s 10ms/step - loss: 0.0515 - accuracy: 0.9793 - val_loss: 0.0742 - val_accuracy: 0.9687\n",
            "Epoch 46/50\n",
            "1334/1334 [==============================] - 13s 10ms/step - loss: 0.0508 - accuracy: 0.9800 - val_loss: 0.0746 - val_accuracy: 0.9696\n",
            "Epoch 47/50\n",
            "1334/1334 [==============================] - 13s 10ms/step - loss: 0.0543 - accuracy: 0.9788 - val_loss: 0.0704 - val_accuracy: 0.9723\n",
            "Epoch 48/50\n",
            "1334/1334 [==============================] - 13s 10ms/step - loss: 0.0465 - accuracy: 0.9813 - val_loss: 0.0694 - val_accuracy: 0.9715\n",
            "Epoch 49/50\n",
            "1334/1334 [==============================] - 13s 10ms/step - loss: 0.0488 - accuracy: 0.9799 - val_loss: 0.0724 - val_accuracy: 0.9702\n",
            "Epoch 50/50\n",
            "1334/1334 [==============================] - 13s 10ms/step - loss: 0.0464 - accuracy: 0.9811 - val_loss: 0.0684 - val_accuracy: 0.9717\n",
            "Fold 3, 50 epochs, 647 sec\n"
          ],
          "name": "stdout"
        },
        {
          "output_type": "display_data",
          "data": {
            "image/png": "[encoded data removed]",
            "text/plain": [
              "<Figure size 576x360 with 1 Axes>"
            ]
          },
          "metadata": {
            "tags": [],
            "needs_background": "light"
          }
        }
      ]
    },
    {
      "cell_type": "code",
      "metadata": {
        "id": "e-jG1h5fj2Ua",
        "colab": {
          "base_uri": "https://localhost:8080/"
        },
        "outputId": "72ec7644-9823-4990-adc2-b31a96e7e683"
      },
      "source": [
        "from keras.models import load_model\n",
        "X,y = prepare_inputs_len_x_alphabet(pc_test,nc_test,ALPHABET)\n",
        "best_model=load_model(MODELPATH)\n",
        "scores = best_model.evaluate(X, y, verbose=0)\n",
        "print(\"The best model parameters were saved during cross-validation.\")\n",
        "print(\"Best was defined as maximum validation accuracy at end of any epoch.\")\n",
        "print(\"Now re-load the best model and test it on previously unseen data.\")\n",
        "print(\"Test on\",len(pc_test),\"PC seqs\")\n",
        "print(\"Test on\",len(nc_test),\"NC seqs\")\n",
        "print(\"%s: %.2f%%\" % (best_model.metrics_names[1], scores[1]*100))"
      ],
      "execution_count": null,
      "outputs": [
        {
          "output_type": "stream",
          "text": [
            "The best model parameters were saved during cross-validation.\n",
            "Best was defined as maximum validation accuracy at end of any epoch.\n",
            "Now re-load the best model and test it on previously unseen data.\n",
            "Test on 1000 PC seqs\n",
            "Test on 1000 NC seqs\n",
            "accuracy: 98.35%\n"
          ],
          "name": "stdout"
        }
      ]
    },
    {
      "cell_type": "code",
      "metadata": {
        "id": "VycUnmvUj2Ue",
        "colab": {
          "base_uri": "https://localhost:8080/"
        },
        "outputId": "51966be7-3f11-4fa8-9776-8b76b67c80f5"
      },
      "source": [
        "from sklearn.metrics import roc_curve\n",
        "from sklearn.metrics import roc_auc_score\n",
        "ns_probs = [0 for _ in range(len(y))]\n",
        "bm_probs = best_model.predict(X)\n",
        "print(\"predictions.shape\",bm_probs.shape)\n",
        "print(\"first prediction\",bm_probs[0])\n",
        "ns_auc = roc_auc_score(y, ns_probs)\n",
        "bm_auc = roc_auc_score(y, bm_probs)\n",
        "ns_fpr, ns_tpr, _ = roc_curve(y, ns_probs)\n",
        "bm_fpr, bm_tpr, _ = roc_curve(y, bm_probs)\n",
        "plt.plot(ns_fpr, ns_tpr, linestyle='--', label='Guess, auc=%.4f'%ns_auc)\n",
        "plt.plot(bm_fpr, bm_tpr, marker='.', label='Model, auc=%.4f'%bm_auc)\n",
        "plt.title('ROC')\n",
        "plt.xlabel('False Positive Rate')\n",
        "plt.ylabel('True Positive Rate')\n",
        "plt.legend()\n",
        "plt.show()\n",
        "print(\"%s: %.2f%%\" %('AUC',bm_auc*100.0))\n"
      ],
      "execution_count": null,
      "outputs": [
        {
          "output_type": "stream",
          "text": [
            "predictions.shape (2000, 1)\n",
            "first prediction [0.78]\n"
          ],
          "name": "stdout"
        },
        {
          "output_type": "display_data",
          "data": {
            "image/png": "[encoded data removed]",
            "text/plain": [
              "<Figure size 432x288 with 1 Axes>"
            ]
          },
          "metadata": {
            "tags": [],
            "needs_background": "light"
          }
        },
        {
          "output_type": "stream",
          "text": [
            "AUC: 99.91%\n"
          ],
          "name": "stdout"
        }
      ]
    },
    {
      "cell_type": "code",
      "metadata": {
        "id": "kFMb6rGNj2Ug",
        "colab": {
          "base_uri": "https://localhost:8080/",
          "height": 36
        },
        "outputId": "7443ebd8-f1f2-4322-d193-3047399f6315"
      },
      "source": [
        "t = time.time()\n",
        "time.strftime('%Y-%m-%d %H:%M:%S %Z', time.localtime(t))"
      ],
      "execution_count": null,
      "outputs": [
        {
          "output_type": "execute_result",
          "data": {
            "application/vnd.google.colaboratory.intrinsic+json": {
              "type": "string"
            },
            "text/plain": [
              "'2021-06-25 19:36:26 UTC'"
            ]
          },
          "metadata": {
            "tags": []
          },
          "execution_count": 14
        }
      ]
    },
    {
      "cell_type": "code",
      "metadata": {
        "id": "e-mEgDrQjUzF"
      },
      "source": [
        ""
      ],
      "execution_count": null,
      "outputs": []
    }
  ]
}