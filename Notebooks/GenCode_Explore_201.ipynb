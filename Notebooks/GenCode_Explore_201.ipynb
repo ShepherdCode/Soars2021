{
 "cells": [
  {
   "cell_type": "markdown",
   "metadata": {},
   "source": [
    "# GenCode Explore\n",
    "\n",
    "Explore the human RNA sequences from GenCode.\n",
    "\n",
    "Assume user downloaded files from GenCode 38 [FTP](http://ftp.ebi.ac.uk/pub/databases/gencode/Gencode_human/release_38/)\n",
    "to a subdirectory called data.\n",
    "\n",
    "Improve on GenCode_Explore_101.ipynb\n",
    "\n",
    "Use ORF_counter. \n",
    "\n",
    "Use MatPlotLib to make box plots and heat maps."
   ]
  },
  {
   "cell_type": "code",
   "execution_count": 1,
   "metadata": {},
   "outputs": [
    {
     "name": "stdout",
     "output_type": "stream",
     "text": [
      "2021-06-01 15:54:37 Eastern Daylight Time\n"
     ]
    }
   ],
   "source": [
    "import time \n",
    "def show_time():\n",
    "    t = time.time()\n",
    "    s = time.strftime('%Y-%m-%d %H:%M:%S %Z', time.localtime(t))\n",
    "    print(s)\n",
    "show_time()"
   ]
  },
  {
   "cell_type": "code",
   "execution_count": 2,
   "metadata": {},
   "outputs": [
    {
     "name": "stdout",
     "output_type": "stream",
     "text": [
      "CoLab not working. On my PC, use relative paths.\n"
     ]
    }
   ],
   "source": [
    "import numpy as np\n",
    "import pandas as pd\n",
    "import gzip\n",
    "import sys\n",
    "try:\n",
    "    from google.colab import drive\n",
    "    IN_COLAB = True\n",
    "    print(\"On Google CoLab, mount cloud-local file, get our code from GitHub.\")\n",
    "    PATH='/content/drive/'\n",
    "    #drive.mount(PATH,force_remount=True)  # hardly ever need this\n",
    "    drive.mount(PATH)    # Google will require login credentials\n",
    "    DATAPATH=PATH+'My Drive/data/'  # must end in \"/\"\n",
    "    import requests\n",
    "    s = requests.get('https://raw.githubusercontent.com/ShepherdCode/Soars2021/master/SimTools/RNA_describe.py')\n",
    "    with open('RNA_describe.py', 'w') as f:\n",
    "        f.write(s.text)  # writes to cloud local, delete the file later?\n",
    "    from RNA_describe import *\n",
    "except:\n",
    "    print(\"CoLab not working. On my PC, use relative paths.\")\n",
    "    IN_COLAB = False\n",
    "    DATAPATH='../data/'  # must end in \"/\"\n",
    "    sys.path.append(\"..\") # append parent dir in order to use sibling dirs\n",
    "    from SimTools.RNA_describe import *\n",
    "\n",
    "MODELPATH=\"BestModel\"  # saved on cloud instance and lost after logout\n",
    "#MODELPATH=DATAPATH+MODELPATH  # saved on Google Drive but requires login\n",
    "\n",
    "if not assert_imported_RNA_describe():\n",
    "    print(\"ERROR: Cannot use RNA_describe.\")"
   ]
  },
  {
   "cell_type": "code",
   "execution_count": 3,
   "metadata": {},
   "outputs": [],
   "source": [
    "PC_FILENAME='gencode.v38.pc_transcripts.fa.gz'\n",
    "NC_FILENAME='gencode.v38.lncRNA_transcripts.fa.gz'"
   ]
  },
  {
   "cell_type": "code",
   "execution_count": 4,
   "metadata": {},
   "outputs": [],
   "source": [
    "def load_gencode(filename,label):\n",
    "    DEFLINE='>'\n",
    "    DELIM='|'\n",
    "    EMPTY=''\n",
    "    labels=[]  # usually 1 for protein-coding or 0 for non-coding\n",
    "    seqs=[]    # usually string of ACGT\n",
    "    lens=[]    # sequence length\n",
    "    ids=[]     # GenCode transcript ID, always starts ENST\n",
    "    one_seq = EMPTY\n",
    "    one_id = None\n",
    "    # Use gzip 'r' mode to open file in read-only mode.\n",
    "    # Use gzip 't' mode to read each line of text as type string.\n",
    "    with gzip.open (filename,'rt') as infile:\n",
    "        for line in infile:\n",
    "            if line[0]==DEFLINE:\n",
    "                # Save the previous sequence if one exists.\n",
    "                if not one_seq == EMPTY:\n",
    "                    labels.append(label)\n",
    "                    seqs.append(one_seq)\n",
    "                    lens.append(len(one_seq))\n",
    "                    ids.append(one_id)\n",
    "                # Get ready to read the next sequence. \n",
    "                # Parse a GenCode defline that is formatted like this:\n",
    "                # >transcript_ID|gene_ID|other_fields other_info|other_info\n",
    "                one_id = line[1:].split(DELIM)[0]\n",
    "                one_seq = EMPTY\n",
    "            else:\n",
    "                # Continue loading sequence lines till next defline.\n",
    "                additional = line.rstrip()\n",
    "                one_seq = one_seq + additional\n",
    "        # Don't forget to save the last sequence after end-of-file.\n",
    "        if not one_seq == EMPTY:\n",
    "            labels.append(label)\n",
    "            seqs.append(one_seq)\n",
    "            lens.append(len(one_seq))\n",
    "            ids.append(one_id)\n",
    "\n",
    "    df1=pd.DataFrame(ids,columns=['tid'])\n",
    "    df2=pd.DataFrame(labels,columns=['class'])\n",
    "    df3=pd.DataFrame(seqs,columns=['sequence'])\n",
    "    df4=pd.DataFrame(lens,columns=['seqlen'])\n",
    "    df=pd.concat((df1,df2,df3,df4),axis=1)\n",
    "    return df"
   ]
  },
  {
   "cell_type": "code",
   "execution_count": 5,
   "metadata": {},
   "outputs": [],
   "source": [
    "def get_the_facts(seqs,verbose=False):\n",
    "    oc = ORF_counter()\n",
    "    count = len(seqs)\n",
    "    max_orf_lengths=np.zeros(count)\n",
    "    for s in range(0,count):\n",
    "        seq = seqs[s]\n",
    "        oc.set_sequence(seq)\n",
    "        max_orf = oc.get_max_orf_len()\n",
    "        max_orf_lengths[s] = max_orf\n",
    "    mean_max_orf = np.mean(max_orf_lengths,axis=0)\n",
    "    std_max_orf = np.std(max_orf_lengths,axis=0)\n",
    "    if verbose:\n",
    "        print(\"mean longest ORF length:\",int(mean_max_orf),\"+/-\",int(std_max_orf))\n",
    "    return mean_max_orf"
   ]
  },
  {
   "cell_type": "markdown",
   "metadata": {},
   "source": [
    "## Load the GenCode data.\n",
    "Warning: GenCode has\n",
    "over 100K protein-coding RNA (mRNA) \n",
    "and almost 50K non-coding RNA (lncRNA)."
   ]
  },
  {
   "cell_type": "code",
   "execution_count": 6,
   "metadata": {},
   "outputs": [
    {
     "name": "stdout",
     "output_type": "stream",
     "text": [
      "2021-06-01 15:54:37 Eastern Daylight Time\n",
      "PC seqs loaded: 106143\n",
      "2021-06-01 15:54:42 Eastern Daylight Time\n",
      "NC seqs loaded: 48752\n",
      "2021-06-01 15:54:43 Eastern Daylight Time\n"
     ]
    }
   ],
   "source": [
    "PC_FULLPATH=DATAPATH+PC_FILENAME\n",
    "NC_FULLPATH=DATAPATH+NC_FILENAME\n",
    "show_time()\n",
    "pcdf=load_gencode(PC_FULLPATH,1)\n",
    "print(\"PC seqs loaded:\",len(pcdf))\n",
    "show_time()\n",
    "ncdf=load_gencode(NC_FULLPATH,0)\n",
    "print(\"NC seqs loaded:\",len(ncdf))\n",
    "show_time()"
   ]
  },
  {
   "cell_type": "code",
   "execution_count": 7,
   "metadata": {},
   "outputs": [
    {
     "name": "stdout",
     "output_type": "stream",
     "text": [
      "Sorting PC...\n",
      "Sorting NC...\n"
     ]
    }
   ],
   "source": [
    "print(\"Sorting PC...\")\n",
    "pcdf.sort_values('seqlen', ascending=True, inplace=True)\n",
    "print(\"Sorting NC...\")\n",
    "ncdf.sort_values('seqlen', ascending=True, inplace=True)"
   ]
  },
  {
   "cell_type": "markdown",
   "metadata": {},
   "source": [
    "## Subset by RNA length and analyze ORF lengths\n"
   ]
  },
  {
   "cell_type": "code",
   "execution_count": 8,
   "metadata": {},
   "outputs": [],
   "source": [
    "# This is a fast way to slice if you have length thresholds.\n",
    "# TO DO: choose length thresholds and apply to PC and NC RNA.\n",
    "# For example: 200, 400, 800, 1600, 3200, 6400 (e.g. 200-399, etc.)\n",
    "mask = (ncdf['sequence'].str.len() < 1000)\n",
    "subset = ncdf.loc[mask]\n",
    "\n",
    "# Here is one way to extract a list from a dataframe. \n",
    "mylist=subset['sequence'].tolist()\n",
    "\n",
    "mask = (pcdf['sequence'].str.len() < 800)\n",
    "subset = pcdf.loc[mask]\n",
    "subset_list = subset['sequence'].tolist()\n"
   ]
  },
  {
   "cell_type": "code",
   "execution_count": 9,
   "metadata": {},
   "outputs": [
    {
     "data": {
      "text/plain": [
       "{'whiskers': [<matplotlib.lines.Line2D at 0x28719b99910>,\n",
       "  <matplotlib.lines.Line2D at 0x28719b99b80>],\n",
       " 'caps': [<matplotlib.lines.Line2D at 0x28719b99f10>,\n",
       "  <matplotlib.lines.Line2D at 0x28719ba62e0>],\n",
       " 'boxes': [<matplotlib.lines.Line2D at 0x28719b99580>],\n",
       " 'medians': [<matplotlib.lines.Line2D at 0x28719ba66a0>],\n",
       " 'fliers': [<matplotlib.lines.Line2D at 0x28719ba6a30>],\n",
       " 'means': []}"
      ]
     },
     "execution_count": 9,
     "metadata": {},
     "output_type": "execute_result"
    },
    {
     "data": {
      "image/png": "[encoded data removed]",
      "text/plain": [
       "<Figure size 432x288 with 1 Axes>"
      ]
     },
     "metadata": {
      "needs_background": "light"
     },
     "output_type": "display_data"
    },
    {
     "data": {
      "image/png": "[encoded data removed]",
      "text/plain": [
       "<Figure size 432x288 with 1 Axes>"
      ]
     },
     "metadata": {
      "needs_background": "light"
     },
     "output_type": "display_data"
    },
    {
     "data": {
      "image/png": "[encoded data removed]",
      "text/plain": [
       "<Figure size 432x288 with 1 Axes>"
      ]
     },
     "metadata": {
      "needs_background": "light"
     },
     "output_type": "display_data"
    }
   ],
   "source": [
    "import matplotlib.pyplot as plt\n",
    "\n",
    "max_len_data = []\n",
    "max_cnt_data = []\n",
    "contain_data = []\n",
    "\n",
    "for i in range(0, len(subset_list)): #Actual is range(0, len(pcdf))\n",
    "    #record = pcdf.iloc[i]\n",
    "    #rna = record['sequence']\n",
    "    rna = subset_list[i]\n",
    "    #tid = record['tid']\n",
    "    oc = ORF_counter()\n",
    "    oc.set_sequence(rna)\n",
    "    max_len = oc.get_max_orf_len()\n",
    "    max_cnt = oc.count_maximal_orfs()\n",
    "    contain = oc.count_contained_orfs()\n",
    "    max_len_data.append(max_len)\n",
    "    max_cnt_data.append(max_cnt)\n",
    "    contain_data.append(contain)\n",
    "\n",
    "fig1, ax1 = plt.subplots()\n",
    "ax1.set_title('Length of Longest ORF')\n",
    "ax1.boxplot(max_len_data)\n",
    "fig2, ax2 = plt.subplots()\n",
    "ax2.set_title('Count Non-contained ORFs')\n",
    "ax2.boxplot(max_cnt_data)\n",
    "fig3, ax3 = plt.subplots()\n",
    "ax3.set_title('Count Contained ORFs')\n",
    "ax3.boxplot(contain_data)"
   ]
  },
  {
   "cell_type": "markdown",
   "metadata": {},
   "source": [
    "## Plotting examples\n",
    "[boxplot doc](https://matplotlib.org/stable/api/_as_gen/matplotlib.pyplot.boxplot.html)  \n",
    "[boxplot demo](https://matplotlib.org/stable/gallery/pyplots/boxplot_demo_pyplot.html)  \n",
    "[heatmap examples](https://stackoverflow.com/questions/33282368/plotting-a-2d-heatmap-with-matplotlib) - scroll down!  "
   ]
  },
  {
   "cell_type": "code",
   "execution_count": null,
   "metadata": {},
   "outputs": [],
   "source": []
  }
 ],
 "metadata": {
  "kernelspec": {
   "display_name": "Python 3",
   "language": "python",
   "name": "python3"
  },
  "language_info": {
   "codemirror_mode": {
    "name": "ipython",
    "version": 3
   },
   "file_extension": ".py",
   "mimetype": "text/x-python",
   "name": "python",
   "nbconvert_exporter": "python",
   "pygments_lexer": "ipython3",
   "version": "3.8.3"
  }
 },
 "nbformat": 4,
 "nbformat_minor": 4
}
