{
 "cells": [
  {
   "cell_type": "markdown",
   "metadata": {},
   "source": [
    "# GenCode Explore\n",
    "\n",
    "Explore the human RNA sequences from GenCode.\n",
    "\n",
    "Assume user downloaded files from GenCode 38 [FTP](http://ftp.ebi.ac.uk/pub/databases/gencode/Gencode_human/release_38/)\n",
    "to a subdirectory called data.\n",
    "\n",
    "Improve on GenCode_Explore_101.ipynb\n",
    "\n",
    "Use ORF_counter. \n",
    "\n",
    "Use MatPlotLib to make box plots and heat maps."
   ]
  },
  {
   "cell_type": "code",
   "execution_count": 1,
   "metadata": {},
   "outputs": [
    {
     "name": "stdout",
     "output_type": "stream",
     "text": [
      "2021-06-01 08:31:22 EDT\n"
     ]
    }
   ],
   "source": [
    "import time \n",
    "def show_time():\n",
    "    t = time.time()\n",
    "    s = time.strftime('%Y-%m-%d %H:%M:%S %Z', time.localtime(t))\n",
    "    print(s)\n",
    "show_time()"
   ]
  },
  {
   "cell_type": "code",
   "execution_count": 2,
   "metadata": {},
   "outputs": [
    {
     "name": "stdout",
     "output_type": "stream",
     "text": [
      "CoLab not working. On my PC, use relative paths.\n"
     ]
    }
   ],
   "source": [
    "import numpy as np\n",
    "import pandas as pd\n",
    "import gzip\n",
    "import sys\n",
    "try:\n",
    "    from google.colab import drive\n",
    "    IN_COLAB = True\n",
    "    print(\"On Google CoLab, mount cloud-local file, get our code from GitHub.\")\n",
    "    PATH='/content/drive/'\n",
    "    #drive.mount(PATH,force_remount=True)  # hardly ever need this\n",
    "    drive.mount(PATH)    # Google will require login credentials\n",
    "    DATAPATH=PATH+'My Drive/data/'  # must end in \"/\"\n",
    "    import requests\n",
    "    s = requests.get('https://raw.githubusercontent.com/ShepherdCode/Soars2021/master/SimTools/RNA_describe.py')\n",
    "    with open('RNA_describe.py', 'w') as f:\n",
    "        f.write(s.text)  # writes to cloud local, delete the file later?\n",
    "    from RNA_describe import *\n",
    "except:\n",
    "    print(\"CoLab not working. On my PC, use relative paths.\")\n",
    "    IN_COLAB = False\n",
    "    DATAPATH='../data/'  # must end in \"/\"\n",
    "    sys.path.append(\"..\") # append parent dir in order to use sibling dirs\n",
    "    from SimTools.RNA_describe import *\n",
    "\n",
    "MODELPATH=\"BestModel\"  # saved on cloud instance and lost after logout\n",
    "#MODELPATH=DATAPATH+MODELPATH  # saved on Google Drive but requires login\n",
    "\n",
    "if not assert_imported_RNA_describe():\n",
    "    print(\"ERROR: Cannot use RNA_describe.\")"
   ]
  },
  {
   "cell_type": "code",
   "execution_count": 3,
   "metadata": {},
   "outputs": [],
   "source": [
    "PC_FILENAME='gencode.v38.pc_transcripts.fa.gz'\n",
    "NC_FILENAME='gencode.v38.lncRNA_transcripts.fa.gz'"
   ]
  },
  {
   "cell_type": "code",
   "execution_count": 4,
   "metadata": {},
   "outputs": [],
   "source": [
    "def load_gencode(filename,label):\n",
    "    DEFLINE='>'\n",
    "    DELIM='|'\n",
    "    EMPTY=''\n",
    "    labels=[]  # usually 1 for protein-coding or 0 for non-coding\n",
    "    seqs=[]    # usually string of ACGT\n",
    "    lens=[]    # sequence length\n",
    "    ids=[]     # GenCode transcript ID, always starts ENST\n",
    "    one_seq = EMPTY\n",
    "    one_id = None\n",
    "    # Use gzip 'r' mode to open file in read-only mode.\n",
    "    # Use gzip 't' mode to read each line of text as type string.\n",
    "    with gzip.open (filename,'rt') as infile:\n",
    "        for line in infile:\n",
    "            if line[0]==DEFLINE:\n",
    "                # Save the previous sequence if one exists.\n",
    "                if not one_seq == EMPTY:\n",
    "                    labels.append(label)\n",
    "                    seqs.append(one_seq)\n",
    "                    lens.append(len(one_seq))\n",
    "                    ids.append(one_id)\n",
    "                # Get ready to read the next sequence. \n",
    "                # Parse a GenCode defline that is formatted like this:\n",
    "                # >transcript_ID|gene_ID|other_fields other_info|other_info\n",
    "                one_id = line[1:].split(DELIM)[0]\n",
    "                one_seq = EMPTY\n",
    "            else:\n",
    "                # Continue loading sequence lines till next defline.\n",
    "                additional = line.rstrip()\n",
    "                one_seq = one_seq + additional\n",
    "        # Don't forget to save the last sequence after end-of-file.\n",
    "        if not one_seq == EMPTY:\n",
    "            labels.append(label)\n",
    "            seqs.append(one_seq)\n",
    "            lens.append(len(one_seq))\n",
    "            ids.append(one_id)\n",
    "\n",
    "    df1=pd.DataFrame(ids,columns=['tid'])\n",
    "    df2=pd.DataFrame(labels,columns=['class'])\n",
    "    df3=pd.DataFrame(seqs,columns=['sequence'])\n",
    "    df4=pd.DataFrame(lens,columns=['seqlen'])\n",
    "    df=pd.concat((df1,df2,df3,df4),axis=1)\n",
    "    return df"
   ]
  },
  {
   "cell_type": "code",
   "execution_count": 5,
   "metadata": {},
   "outputs": [],
   "source": [
    "def get_the_facts(seqs,verbose=False):\n",
    "    oc = ORF_counter()\n",
    "    count = len(seqs)\n",
    "    max_orf_lengths=np.zeros(count)\n",
    "    for s in range(0,count):\n",
    "        seq = seqs[s]\n",
    "        oc.set_sequence(seq)\n",
    "        max_orf = oc.get_max_orf_len()\n",
    "        max_orf_lengths[s] = max_orf\n",
    "    mean_max_orf = np.mean(max_orf_lengths,axis=0)\n",
    "    std_max_orf = np.std(max_orf_lengths,axis=0)\n",
    "    if verbose:\n",
    "        print(\"mean longest ORF length:\",int(mean_max_orf),\"+/-\",int(std_max_orf))\n",
    "    return mean_max_orf"
   ]
  },
  {
   "cell_type": "markdown",
   "metadata": {},
   "source": [
    "## Load the GenCode data.\n",
    "Warning: GenCode has\n",
    "over 100K protein-coding RNA (mRNA) \n",
    "and almost 50K non-coding RNA (lncRNA)."
   ]
  },
  {
   "cell_type": "code",
   "execution_count": 6,
   "metadata": {},
   "outputs": [
    {
     "name": "stdout",
     "output_type": "stream",
     "text": [
      "2021-06-01 08:31:24 EDT\n",
      "PC seqs loaded: 106143\n",
      "2021-06-01 08:31:28 EDT\n",
      "NC seqs loaded: 48752\n",
      "2021-06-01 08:31:30 EDT\n"
     ]
    }
   ],
   "source": [
    "PC_FULLPATH=DATAPATH+PC_FILENAME\n",
    "NC_FULLPATH=DATAPATH+NC_FILENAME\n",
    "show_time()\n",
    "pcdf=load_gencode(PC_FULLPATH,1)\n",
    "print(\"PC seqs loaded:\",len(pcdf))\n",
    "show_time()\n",
    "ncdf=load_gencode(NC_FULLPATH,0)\n",
    "print(\"NC seqs loaded:\",len(ncdf))\n",
    "show_time()"
   ]
  },
  {
   "cell_type": "code",
   "execution_count": 7,
   "metadata": {},
   "outputs": [
    {
     "name": "stdout",
     "output_type": "stream",
     "text": [
      "Sorting PC...\n",
      "Sorting NC...\n"
     ]
    }
   ],
   "source": [
    "print(\"Sorting PC...\")\n",
    "pcdf.sort_values('seqlen', ascending=True, inplace=True)\n",
    "print(\"Sorting NC...\")\n",
    "ncdf.sort_values('seqlen', ascending=True, inplace=True)"
   ]
  },
  {
   "cell_type": "markdown",
   "metadata": {},
   "source": [
    "## Subset by RNA length and analyze ORF lengths\n"
   ]
  },
  {
   "cell_type": "code",
   "execution_count": 10,
   "metadata": {},
   "outputs": [],
   "source": [
    "# This is a fast way to slice if you have length thresholds.\n",
    "# TO DO: choose length thresholds and apply to PC and NC RNA.\n",
    "# For example: 200, 400, 800, 1600, 3200, 6400 (e.g. 200-399, etc.)\n",
    "mask = (ncdf['sequence'].str.len() < 1000)\n",
    "subset = ncdf.loc[mask]\n",
    "\n",
    "# Here is one way to extract a list from a dataframe. \n",
    "mylist=subset['sequence'].tolist()\n"
   ]
  },
  {
   "cell_type": "code",
   "execution_count": 17,
   "metadata": {},
   "outputs": [
    {
     "name": "stdout",
     "output_type": "stream",
     "text": [
      "1000 ENST00000376092.7 ATGAGGAACTTGAGGCAAGTCACCAGCCCCTGATCATTTCGCCTAAAAGAGCAAGGACTAGAGTTCCTGACCTCCAGGCCAGTCCCTGATCCCTGACCTAATGTTATCGCGGAATGATGCACCTTCTGTCCTGGTCCCAGGCCCAGGGCTCCTCAGAGCAGGAACTCCACTATGCATCTCTGCAGAGGCTGCCAGTGCCCAGCAGTGAGGGACCTGACCTCAGGGGCAGAGACAAGAGAGGCACCAAGGAGGATCCAAGAGCTGACTATGCCTGCATTGCTGAGA\n",
      "Length of RNA: 285\n",
      "Length of longest ORF: 108\n",
      "Count non-contained ORFs: 2\n",
      "Count contained ORFs: 0\n",
      "1001 ENST00000553981.1 GTGAGAAGAATTCCTTGGACTGCGGCGTCGAGTCAGCTGAAAGAACACTTTGCACAGTTCGGCCATGTCAGAAGGACAAGGAGACTGGCTTTCACAGAGGTTTGGGTTGGGTTCAGTTTTCTTCAGAAGAAGGACTTCGGAATGCACTACAACAGGAAAATCATATTATAGATGGAGTAAAGGTCCAGGTTCACACTAGAAGGCCAAAACTTCCGCAAACATCTGATGATGAAAAGAAAGATTTTTGAGACTGCAGCCTATTAATAAAGTTAACATAACTGAGAA\n",
      "Length of RNA: 285\n",
      "Length of longest ORF: 135\n",
      "Count non-contained ORFs: 4\n",
      "Count contained ORFs: 1\n",
      "1002 ENST00000600639.1 GACCAGACGAGGCTGTCTCCTGGGGCAAGATCCGGGTGGATGCACAGCCCGTCAAGGTTCCCCCCTACCCAGGTCTATGCTGACGCCTCCCTGGTCTTCCCCCTGCTTGTGGCTGAAACCTTTGCCCAGAAGATGGATGCCTTCATGCATGAGAAGAACGAGGACTGAGCGGCTGCGGTCCCAGGAAGGTCTTACCCCCTCTTCTATTTATTAATTTGCAGACCCAGCCCCTCCCCTACTTTTTGGTCAGCTACGTCTCTAGAATAAGATGGTATCTGAAGTCCT\n",
      "Length of RNA: 285\n",
      "Length of longest ORF: 138\n",
      "Count non-contained ORFs: 2\n",
      "Count contained ORFs: 4\n",
      "1003 ENST00000505212.5 ATGGCTTTGGGAGTTCCAATATCAGTCTATCTTTTATTCAACGCAATGACAGCACTGACCGAAGAGGCAGCCGTGACTGTAACACCTCCAATCACAGCCCAGCAAGCTGACAACATAGAAGGACCCATAGCCTTGAAGTTCTCACACCTTTGCCTGGAAGATCATAACAGTTACTGCATCAACGGTGCTTGTGCATTCCACCATGAGCTAGAGAAAGCCATCTGCAGGTGTCTAAAATTGAAATCGCCTTACAATGTCTGTTCTGGAGAAAGACGACCACTGTGA\n",
      "Length of RNA: 285\n",
      "Length of longest ORF: 285\n",
      "Count non-contained ORFs: 2\n",
      "Count contained ORFs: 1\n",
      "1004 ENST00000592507.1 GGGGAAGTGGCCAGGGTAGGGCATGGTCATCGTGAGCAGGGTCCTGCAGGGTGAGGCCGGGGCTGCAGACGCGACTGTACAGGTCTATGAAGACCCCATGTGTGATGAGGAGACCTTCTCTGCACAGTCCCTGGACAGAACACGAGATGAGGGGTCCTCTGGACGTCAGCTCCAGCCACACCCCTACCTGGAGGAAGCTGCTTTTAACAGACAGCCTCCAACTAATGCCACTGAAGACATTCCCAGCTGCTATCCGGGGAGTCATCCAGAGTGAGCTCAACTATT\n",
      "Length of RNA: 285\n",
      "Length of longest ORF: 252\n",
      "Count non-contained ORFs: 1\n",
      "Count contained ORFs: 1\n",
      "1005 ENST00000509419.1 GGACGCCTGGGCCTCTGCCCGTGCTGCTGCTGCTCCTGGCGGGAGCCCCCGCCGCGCGGCCCACTCCCCCGACCTGCTACTCCCGCATGCGGGCCCTGAGCCAGGAGATCACCCGCGACTTCAACCTCCTGCAGGTCTCGGAGCCCTCGGAGCCATGTGTGAGATACCTGCCCAGGCTGTACCTGGACATACACGATTTGGTATTCCTGTTGGATGACTGCAATGCCTTGGAATACCCAATCCCAGTGACTACGGTCCTGCCAGATCGTCAGCGCTAAGGGAACT\n",
      "Length of RNA: 285\n",
      "Length of longest ORF: 192\n",
      "Count non-contained ORFs: 3\n",
      "Count contained ORFs: 1\n",
      "1006 ENST00000586858.1 GCGTGGCCTCCCGTAGACTCAGGGCTCAAGTTGGACGTGGGCCCAAATCTGGACCGGCTGGGTTTGCTGGGGGTGTCTTGAGGTCCCCTCCACCGTCGTCTCCGAATCCCCCTCCATGATCCTTCCTTGCTCCATCTCACCCTGGCAGAAAAAATCTAAGATCTCCGCCTCGAGAAAATTGCAGCTGAAGCCCCGGGTGGGCTGCGCTTCCCTCCCACCCCTCTGCAGACTCTGCTGCTGCAGATTGCAAAGCAAGAGCTGGAGCGAGAGGCGGAGGAGCGGCGCG\n",
      "Length of RNA: 286\n",
      "Length of longest ORF: 0\n",
      "Count non-contained ORFs: 0\n",
      "Count contained ORFs: 0\n",
      "1007 ENST00000587913.1 GGCGGAGCGGGCGGCGGAGCGGCGGCAGCAGCGACCGCGCTGAGCACGTTCTTCCAAGAAACCAACATTCCCAACAGCCACCACCACCACCAGATGATGTGCACTCCCAGCAACACCCCTGCCACGCCGCCCAACTTCCCCGATGCGCTGGCCATGTTCTCCAAGCTCCGCGCCTCCGAGGGCCTGCAGAGCAGCAACAGCCCCATGACAGCCGCAGCCTGCTCCCCACCTGCAAACTTCAGCCCCTTCTGGGCCTCGTCCCCGCCCAGCCACCAGGCGCCCTGGA\n",
      "Length of RNA: 286\n",
      "Length of longest ORF: 66\n",
      "Count non-contained ORFs: 1\n",
      "Count contained ORFs: 0\n",
      "1008 ENST00000572951.1 CTGTAGAGTTTGGATCACGATGAGGCCAGTGAGTCGGAGATGAGAAAGACCTCAAACTCCTGCATCATGGAAAATGGGCACCAGCCGGGGGCAGAGAAGAATTCCTCTTTCACGTGGTCTGTGCCAAGCTCTGGCTATGGGGCAGTGACAGCAAGCAAACACAGCAATAGCCCACCGCTGGTGACACCACCCCAGTCGCCCGTGTCCCCGCAGCCGCCAGCCATAACTCAGGTCCATCGGCAGGGGGAGCGTCGCAGGGAGCTGGTGAGGTCGCAGACGCTGCCCC\n",
      "Length of RNA: 286\n",
      "Length of longest ORF: 75\n",
      "Count non-contained ORFs: 2\n",
      "Count contained ORFs: 1\n",
      "1009 ENST00000602051.5 ACAATGGGTGGCCGGGCAGAGACGCTCCTCACTTCCTAGACAGGATGACGGCCGGGAAGAGGCTGGAGTGCAGTGGCACCATCTCGGCTTACCGCAACCTCCGCCTCCTGGGTTCAAACAATACTCCTACCTTGGCCTCCTGAGTAGCTGGGATTACAGGAATCAAGGTTGCTAAGAGACCACCTGTGCTGAATACACTTTGTTCTGGCAAGAGCAGAAAACTGAGAAGCCGTGTTACCTACCACTACCTGGGATTAATTCAGGGAGCGGGATAATTCTGGATATG\n",
      "Length of RNA: 286\n",
      "Length of longest ORF: 99\n",
      "Count non-contained ORFs: 2\n",
      "Count contained ORFs: 0\n"
     ]
    }
   ],
   "source": [
    "# Here is how get some stats for one RNA.\n",
    "\n",
    "for i in range(1000,1010):\n",
    "    record=pcdf.iloc[i]\n",
    "    rna=record['sequence']\n",
    "    tid=record['tid']\n",
    "    oc = ORF_counter()\n",
    "    oc.set_sequence(rna)\n",
    "    max_len=oc.get_max_orf_len()\n",
    "    max_cnt=oc.count_maximal_orfs()\n",
    "    contain=oc.count_contained_orfs()\n",
    "    print(i,tid,rna)\n",
    "    print(\"Length of RNA:\",len(rna))\n",
    "    print(\"Length of longest ORF:\",max_len)\n",
    "    print(\"Count non-contained ORFs:\",max_cnt)\n",
    "    print(\"Count contained ORFs:\",contain)"
   ]
  },
  {
   "cell_type": "markdown",
   "metadata": {},
   "source": [
    "## Plotting examples\n",
    "[boxplot doc](https://matplotlib.org/stable/api/_as_gen/matplotlib.pyplot.boxplot.html)  \n",
    "[boxplot demo](https://matplotlib.org/stable/gallery/pyplots/boxplot_demo_pyplot.html)  \n",
    "[heatmap examples](https://stackoverflow.com/questions/33282368/plotting-a-2d-heatmap-with-matplotlib) - scroll down!  "
   ]
  },
  {
   "cell_type": "code",
   "execution_count": null,
   "metadata": {},
   "outputs": [],
   "source": []
  }
 ],
 "metadata": {
  "kernelspec": {
   "display_name": "Python 3",
   "language": "python",
   "name": "python3"
  },
  "language_info": {
   "codemirror_mode": {
    "name": "ipython",
    "version": 3
   },
   "file_extension": ".py",
   "mimetype": "text/x-python",
   "name": "python",
   "nbconvert_exporter": "python",
   "pygments_lexer": "ipython3",
   "version": "3.8.3"
  }
 },
 "nbformat": 4,
 "nbformat_minor": 2
}
