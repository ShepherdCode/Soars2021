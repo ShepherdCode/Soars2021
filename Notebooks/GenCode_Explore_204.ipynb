{
  "nbformat": 4,
  "nbformat_minor": 0,
  "metadata": {
    "kernelspec": {
      "display_name": "Python 3",
      "language": "python",
      "name": "python3"
    },
    "language_info": {
      "codemirror_mode": {
        "name": "ipython",
        "version": 3
      },
      "file_extension": ".py",
      "mimetype": "text/x-python",
      "name": "python",
      "nbconvert_exporter": "python",
      "pygments_lexer": "ipython3",
      "version": "3.8.3"
    },
    "colab": {
      "name": "GenCode_Explore_204.ipynb",
      "provenance": [],
      "collapsed_sections": []
    }
  },
  "cells": [
    {
      "cell_type": "markdown",
      "metadata": {
        "id": "tFJJK7JDL6Q1"
      },
      "source": [
        "# GenCode Explore\n",
        "\n",
        "Explore the human RNA sequences from GenCode.\n",
        "\n",
        "Assume user downloaded files from GenCode 38 [FTP](http://ftp.ebi.ac.uk/pub/databases/gencode/Gencode_human/release_38/)\n",
        "to a subdirectory called data.\n",
        "\n",
        "Improve on GenCode_Explore_101.ipynb\n",
        "\n",
        "Use ORF_counter. \n",
        "\n",
        "Use MatPlotLib to make box plots and heat maps."
      ]
    },
    {
      "cell_type": "code",
      "metadata": {
        "colab": {
          "base_uri": "https://localhost:8080/"
        },
        "id": "eDgS-z1tL6Q2",
        "outputId": "49f61c1b-6b98-485d-84d5-f06262c730af"
      },
      "source": [
        "import time \n",
        "def show_time():\n",
        "    t = time.time()\n",
        "    s = time.strftime('%Y-%m-%d %H:%M:%S %Z', time.localtime(t))\n",
        "    print(s)\n",
        "show_time()"
      ],
      "execution_count": 38,
      "outputs": [
        {
          "output_type": "stream",
          "text": [
            "2021-06-02 18:52:20 UTC\n"
          ],
          "name": "stdout"
        }
      ]
    },
    {
      "cell_type": "code",
      "metadata": {
        "colab": {
          "base_uri": "https://localhost:8080/"
        },
        "id": "tckHr4SuL6Q5",
        "outputId": "0224cda9-daea-4e87-f2d5-f6b4cd9a05df"
      },
      "source": [
        "import numpy as np\n",
        "import pandas as pd\n",
        "import gzip\n",
        "import sys\n",
        "try:\n",
        "    from google.colab import drive\n",
        "    IN_COLAB = True\n",
        "    print(\"On Google CoLab, mount cloud-local file, get our code from GitHub.\")\n",
        "    PATH='/content/drive/'\n",
        "    #drive.mount(PATH,force_remount=True)  # hardly ever need this\n",
        "    drive.mount(PATH)    # Google will require login credentials\n",
        "    DATAPATH=PATH+'My Drive/data/'  # must end in \"/\"\n",
        "    import requests\n",
        "    s = requests.get('https://raw.githubusercontent.com/ShepherdCode/Soars2021/master/SimTools/RNA_describe.py')\n",
        "    with open('RNA_describe.py', 'w') as f:\n",
        "        f.write(s.text)  # writes to cloud local, delete the file later?\n",
        "    from RNA_describe import *\n",
        "except:\n",
        "    print(\"CoLab not working. On my PC, use relative paths.\")\n",
        "    IN_COLAB = False\n",
        "    DATAPATH='../data/'  # must end in \"/\"\n",
        "    sys.path.append(\"..\") # append parent dir in order to use sibling dirs\n",
        "    from SimTools.RNA_describe import *\n",
        "\n",
        "MODELPATH=\"BestModel\"  # saved on cloud instance and lost after logout\n",
        "#MODELPATH=DATAPATH+MODELPATH  # saved on Google Drive but requires login\n",
        "\n",
        "if not assert_imported_RNA_describe():\n",
        "    print(\"ERROR: Cannot use RNA_describe.\")"
      ],
      "execution_count": 39,
      "outputs": [
        {
          "output_type": "stream",
          "text": [
            "On Google CoLab, mount cloud-local file, get our code from GitHub.\n",
            "Drive already mounted at /content/drive/; to attempt to forcibly remount, call drive.mount(\"/content/drive/\", force_remount=True).\n"
          ],
          "name": "stdout"
        }
      ]
    },
    {
      "cell_type": "code",
      "metadata": {
        "id": "qdPZNYUwL6Q6"
      },
      "source": [
        "PC_FILENAME='gencode.v38.pc_transcripts.fa.gz'\n",
        "NC_FILENAME='gencode.v38.lncRNA_transcripts.fa.gz'"
      ],
      "execution_count": 40,
      "outputs": []
    },
    {
      "cell_type": "code",
      "metadata": {
        "id": "UpG1fmR_L6Q7"
      },
      "source": [
        "def load_gencode(filename,label):\n",
        "    DEFLINE='>'\n",
        "    DELIM='|'\n",
        "    EMPTY=''\n",
        "    labels=[]  # usually 1 for protein-coding or 0 for non-coding\n",
        "    seqs=[]    # usually string of ACGT\n",
        "    lens=[]    # sequence length\n",
        "    ids=[]     # GenCode transcript ID, always starts ENST\n",
        "    one_seq = EMPTY\n",
        "    one_id = None\n",
        "    # Use gzip 'r' mode to open file in read-only mode.\n",
        "    # Use gzip 't' mode to read each line of text as type string.\n",
        "    with gzip.open (filename,'rt') as infile:\n",
        "        for line in infile:\n",
        "            if line[0]==DEFLINE:\n",
        "                # Save the previous sequence if one exists.\n",
        "                if not one_seq == EMPTY:\n",
        "                    labels.append(label)\n",
        "                    seqs.append(one_seq)\n",
        "                    lens.append(len(one_seq))\n",
        "                    ids.append(one_id)\n",
        "                # Get ready to read the next sequence. \n",
        "                # Parse a GenCode defline that is formatted like this:\n",
        "                # >transcript_ID|gene_ID|other_fields other_info|other_info\n",
        "                one_id = line[1:].split(DELIM)[0]\n",
        "                one_seq = EMPTY\n",
        "            else:\n",
        "                # Continue loading sequence lines till next defline.\n",
        "                additional = line.rstrip()\n",
        "                one_seq = one_seq + additional\n",
        "        # Don't forget to save the last sequence after end-of-file.\n",
        "        if not one_seq == EMPTY:\n",
        "            labels.append(label)\n",
        "            seqs.append(one_seq)\n",
        "            lens.append(len(one_seq))\n",
        "            ids.append(one_id)\n",
        "\n",
        "    df1=pd.DataFrame(ids,columns=['tid'])\n",
        "    df2=pd.DataFrame(labels,columns=['class'])\n",
        "    df3=pd.DataFrame(seqs,columns=['sequence'])\n",
        "    df4=pd.DataFrame(lens,columns=['seqlen'])\n",
        "    df=pd.concat((df1,df2,df3,df4),axis=1)\n",
        "    return df"
      ],
      "execution_count": 41,
      "outputs": []
    },
    {
      "cell_type": "code",
      "metadata": {
        "id": "rBgSTD81L6Q8"
      },
      "source": [
        "def get_the_facts(seqs,verbose=False):\n",
        "    oc = ORF_counter()\n",
        "    count = len(seqs)\n",
        "    max_orf_lengths=np.zeros(count)\n",
        "    for s in range(0,count):\n",
        "        seq = seqs[s]\n",
        "        oc.set_sequence(seq)\n",
        "        max_orf = oc.get_max_orf_len()\n",
        "        max_orf_lengths[s] = max_orf\n",
        "    mean_max_orf = np.mean(max_orf_lengths,axis=0)\n",
        "    std_max_orf = np.std(max_orf_lengths,axis=0)\n",
        "    if verbose:\n",
        "        print(\"mean longest ORF length:\",int(mean_max_orf),\"+/-\",int(std_max_orf))\n",
        "    return mean_max_orf"
      ],
      "execution_count": 42,
      "outputs": []
    },
    {
      "cell_type": "markdown",
      "metadata": {
        "id": "-6bcVG0iL6Q9"
      },
      "source": [
        "## Load the GenCode data.\n",
        "Warning: GenCode has\n",
        "over 100K protein-coding RNA (mRNA) \n",
        "and almost 50K non-coding RNA (lncRNA)."
      ]
    },
    {
      "cell_type": "code",
      "metadata": {
        "colab": {
          "base_uri": "https://localhost:8080/"
        },
        "id": "FwwunxFxL6Q-",
        "outputId": "7187ed43-fc3e-412c-f384-fa4904db750b"
      },
      "source": [
        "PC_FULLPATH=DATAPATH+PC_FILENAME\n",
        "NC_FULLPATH=DATAPATH+NC_FILENAME\n",
        "show_time()\n",
        "pcdf=load_gencode(PC_FULLPATH,1)\n",
        "print(\"PC seqs loaded:\",len(pcdf))\n",
        "show_time()\n",
        "ncdf=load_gencode(NC_FULLPATH,0)\n",
        "print(\"NC seqs loaded:\",len(ncdf))\n",
        "show_time()"
      ],
      "execution_count": 43,
      "outputs": [
        {
          "output_type": "stream",
          "text": [
            "2021-06-02 18:52:21 UTC\n",
            "PC seqs loaded: 106143\n",
            "2021-06-02 18:52:25 UTC\n",
            "NC seqs loaded: 48752\n",
            "2021-06-02 18:52:26 UTC\n"
          ],
          "name": "stdout"
        }
      ]
    },
    {
      "cell_type": "code",
      "metadata": {
        "colab": {
          "base_uri": "https://localhost:8080/"
        },
        "id": "7iW7zf4pL6Q_",
        "outputId": "f3de3b07-2f4f-41be-dbce-c8f9d18b14d5"
      },
      "source": [
        "print(\"Sorting PC...\")\n",
        "pcdf.sort_values('seqlen', ascending=True, inplace=True)\n",
        "print(\"Sorting NC...\")\n",
        "ncdf.sort_values('seqlen', ascending=True, inplace=True)"
      ],
      "execution_count": 44,
      "outputs": [
        {
          "output_type": "stream",
          "text": [
            "Sorting PC...\n",
            "Sorting NC...\n"
          ],
          "name": "stdout"
        }
      ]
    },
    {
      "cell_type": "markdown",
      "metadata": {
        "id": "TbUk5m5xL6RB"
      },
      "source": [
        "## Subset by RNA length\n",
        "\n",
        "---\n",
        "\n",
        "\n"
      ]
    },
    {
      "cell_type": "code",
      "metadata": {
        "id": "xYgW0zSlL6RC"
      },
      "source": [
        "# This is a fast way to slice if you have length thresholds.\n",
        "# TO DO: choose length thresholds and apply to PC and NC RNA.\n",
        "# For example: 200, 400, 800, 1600, 3200, 6400 (e.g. 200-399, etc.)\n",
        "mask = (ncdf['sequence'].str.len() < 1000)\n",
        "subset = ncdf.loc[mask]\n",
        "\n",
        "# Here is one way to extract a list from a dataframe. \n",
        "mylist=subset['sequence'].tolist()\n",
        "\n",
        "mask = (pcdf['sequence'].str.len() < 800)\n",
        "subset = pcdf.loc[mask]\n",
        "subset_list = subset['sequence'].tolist()"
      ],
      "execution_count": 45,
      "outputs": []
    },
    {
      "cell_type": "code",
      "metadata": {
        "id": "qudbA6e9HtON"
      },
      "source": [
        "def subset_list_by_len_bounds(input_list, min_len, max_len):\n",
        "  return list(filter(lambda x: len(x) > min_len and len(x) < max_len, input_list))"
      ],
      "execution_count": 46,
      "outputs": []
    },
    {
      "cell_type": "code",
      "metadata": {
        "id": "03eoMss5AIop"
      },
      "source": [
        "import matplotlib.pyplot as plt\n",
        "import numpy as np\n",
        "\n",
        "x_axis_labels = []\n",
        "\n",
        "#Bin the RNA sequences\n",
        "bins = [(200, 400), (400, 800), (800, 1600), (1600, 3200), (3200, 6400), (6400, 12800)]\n",
        "binned_pc_sequences = []\n",
        "binned_nc_sequences = []\n",
        "for i in range(0, len(bins)):\n",
        "  bin = bins[i]\n",
        "  binned_pc_sequences.append([])\n",
        "  binned_nc_sequences.append([])\n",
        "  binned_pc_sequences[i] = subset_list_by_len_bounds(pcdf['sequence'].tolist(), bin[0], bin[1])\n",
        "  binned_nc_sequences[i] = subset_list_by_len_bounds(ncdf['sequence'].tolist(), bin[0], bin[1])\n",
        "\n",
        "  #Labels for the plots\n",
        "  x_axis_labels.append(str(bin[0]) + \"-\" + str(bin[1]) + \" (mRNA)\")\n",
        "  x_axis_labels.append(str(bin[0]) + \"-\" + str(bin[1]) + \" (lncRNA)\")"
      ],
      "execution_count": 47,
      "outputs": []
    },
    {
      "cell_type": "markdown",
      "metadata": {
        "id": "UJpC4SpAE5cg"
      },
      "source": [
        "##Gather data on ORF lengths and the number of contained and non-contained ORFs\n",
        "\n",
        "---"
      ]
    },
    {
      "cell_type": "code",
      "metadata": {
        "id": "TMMnTdSiL6RD"
      },
      "source": [
        "pc_max_len_data = []\n",
        "pc_max_cnt_data = []\n",
        "pc_contain_data = []\n",
        "\n",
        "nc_max_len_data = []\n",
        "nc_max_cnt_data = []\n",
        "nc_contain_data = []\n",
        "\n",
        "oc = ORF_counter()\n",
        "\n",
        "for bin_num in range(0, len(bins)):\n",
        "\n",
        "  pc_max_len_data.append([])\n",
        "  pc_max_cnt_data.append([])\n",
        "  pc_contain_data.append([])\n",
        "  for seq_num in range(0, len(binned_pc_sequences[bin_num])):\n",
        "    oc.set_sequence(binned_pc_sequences[bin_num][seq_num])\n",
        "    pc_max_len_data[bin_num].append(oc.get_max_orf_len())\n",
        "    pc_max_cnt_data[bin_num].append(oc.count_maximal_orfs())\n",
        "    pc_contain_data[bin_num].append(oc.count_contained_orfs())\n",
        "\n",
        "  nc_max_len_data.append([])\n",
        "  nc_max_cnt_data.append([])\n",
        "  nc_contain_data.append([])\n",
        "  for seq_num in range(0, len(binned_nc_sequences[bin_num])):\n",
        "    oc.set_sequence(binned_nc_sequences[bin_num][seq_num])\n",
        "    nc_max_len_data[bin_num].append(oc.get_max_orf_len())\n",
        "    nc_max_cnt_data[bin_num].append(oc.count_maximal_orfs())\n",
        "    nc_contain_data[bin_num].append(oc.count_contained_orfs())"
      ],
      "execution_count": 48,
      "outputs": []
    },
    {
      "cell_type": "markdown",
      "metadata": {
        "id": "kzLiv6IQ3-Yw"
      },
      "source": [
        "##Merge protein-coding and non-coding data for plotting\n",
        "\n",
        "---"
      ]
    },
    {
      "cell_type": "code",
      "metadata": {
        "id": "bcvPtH2z4Ih4"
      },
      "source": [
        "max_len_data = []\n",
        "max_cnt_data = []\n",
        "contain_data = []\n",
        "for i in range(0, len(bins)):\n",
        "  max_len_data.append(pc_max_len_data[i])\n",
        "  max_len_data.append(nc_max_len_data[i])\n",
        "  max_cnt_data.append(pc_max_cnt_data[i])\n",
        "  max_cnt_data.append(nc_max_cnt_data[i])\n",
        "  contain_data.append(pc_contain_data[i])\n",
        "  contain_data.append(nc_contain_data[i])"
      ],
      "execution_count": 49,
      "outputs": []
    },
    {
      "cell_type": "markdown",
      "metadata": {
        "id": "0vtJ42ruTcJG"
      },
      "source": [
        "## Plot the data\n",
        "\n",
        "---"
      ]
    },
    {
      "cell_type": "code",
      "metadata": {
        "colab": {
          "base_uri": "https://localhost:8080/",
          "height": 1000
        },
        "id": "8GzgZJXqTPz1",
        "outputId": "6b8c7d84-61bb-4eec-81ee-669dc7180ce3"
      },
      "source": [
        "fig1, ax1 = plt.subplots()\n",
        "ax1.set_yscale('log', basey=2)\n",
        "ax1.set_title('Length of Longest ORF in RNA Sequences')\n",
        "ax1.set_ylabel('ORF Length')\n",
        "ax1.set_xlabel('Sequence Length Ranges')\n",
        "ax1.set_xticklabels(x_axis_labels, rotation = 45, ha = \"right\")\n",
        "ax1.boxplot(max_len_data, showfliers=False)\n",
        "\n",
        "fig2, ax2 = plt.subplots()\n",
        "ax2.set_yscale('log', basey=2)\n",
        "ax2.set_title('Number of Non-contained ORFs in RNA Sequences')\n",
        "ax2.set_ylabel('Number of Non-contained ORFs')\n",
        "ax2.set_xlabel('Sequence Length Ranges')\n",
        "ax2.set_xticklabels(x_axis_labels, rotation = 45, ha = \"right\")\n",
        "ax2.boxplot(max_cnt_data, showfliers=False)\n",
        "\n",
        "fig3, ax3 = plt.subplots()\n",
        "ax3.set_yscale('log', basey=2)\n",
        "ax3.set_title('Number of Contained ORFs in RNA Sequences')\n",
        "ax3.set_ylabel('Number of Contained ORFs')\n",
        "ax3.set_xlabel('Sequence Length Ranges')\n",
        "ax3.set_xticklabels(x_axis_labels, rotation = 45, ha = \"right\")\n",
        "ax3.boxplot(contain_data, showfliers=False)"
      ],
      "execution_count": 50,
      "outputs": [
        {
          "output_type": "stream",
          "text": [
            "/usr/local/lib/python3.7/dist-packages/numpy/core/_asarray.py:83: VisibleDeprecationWarning: Creating an ndarray from ragged nested sequences (which is a list-or-tuple of lists-or-tuples-or ndarrays with different lengths or shapes) is deprecated. If you meant to do this, you must specify 'dtype=object' when creating the ndarray\n",
            "  return array(a, dtype, copy=False, order=order)\n",
            "/usr/local/lib/python3.7/dist-packages/numpy/core/_asarray.py:83: VisibleDeprecationWarning: Creating an ndarray from ragged nested sequences (which is a list-or-tuple of lists-or-tuples-or ndarrays with different lengths or shapes) is deprecated. If you meant to do this, you must specify 'dtype=object' when creating the ndarray\n",
            "  return array(a, dtype, copy=False, order=order)\n",
            "/usr/local/lib/python3.7/dist-packages/numpy/core/_asarray.py:83: VisibleDeprecationWarning: Creating an ndarray from ragged nested sequences (which is a list-or-tuple of lists-or-tuples-or ndarrays with different lengths or shapes) is deprecated. If you meant to do this, you must specify 'dtype=object' when creating the ndarray\n",
            "  return array(a, dtype, copy=False, order=order)\n"
          ],
          "name": "stderr"
        },
        {
          "output_type": "execute_result",
          "data": {
            "text/plain": [
              "{'boxes': [<matplotlib.lines.Line2D at 0x7f4c05ebc350>,\n",
              "  <matplotlib.lines.Line2D at 0x7f4c05eaed10>,\n",
              "  <matplotlib.lines.Line2D at 0x7f4c05e56c50>,\n",
              "  <matplotlib.lines.Line2D at 0x7f4c05e66d50>,\n",
              "  <matplotlib.lines.Line2D at 0x7f4c05e77c90>,\n",
              "  <matplotlib.lines.Line2D at 0x7f4c05e89c90>,\n",
              "  <matplotlib.lines.Line2D at 0x7f4c05e18c90>,\n",
              "  <matplotlib.lines.Line2D at 0x7f4c05e2bc90>,\n",
              "  <matplotlib.lines.Line2D at 0x7f4c05e3ac50>,\n",
              "  <matplotlib.lines.Line2D at 0x7f4c05e4bbd0>,\n",
              "  <matplotlib.lines.Line2D at 0x7f4c05ddcbd0>,\n",
              "  <matplotlib.lines.Line2D at 0x7f4c05debbd0>],\n",
              " 'caps': [<matplotlib.lines.Line2D at 0x7f4c05ec3410>,\n",
              "  <matplotlib.lines.Line2D at 0x7f4c05ec3950>,\n",
              "  <matplotlib.lines.Line2D at 0x7f4c05eccc50>,\n",
              "  <matplotlib.lines.Line2D at 0x7f4c05e561d0>,\n",
              "  <matplotlib.lines.Line2D at 0x7f4c05e5ec90>,\n",
              "  <matplotlib.lines.Line2D at 0x7f4c05e66290>,\n",
              "  <matplotlib.lines.Line2D at 0x7f4c05e6ec10>,\n",
              "  <matplotlib.lines.Line2D at 0x7f4c05e771d0>,\n",
              "  <matplotlib.lines.Line2D at 0x7f4c05e80c90>,\n",
              "  <matplotlib.lines.Line2D at 0x7f4c05e891d0>,\n",
              "  <matplotlib.lines.Line2D at 0x7f4c05e91c90>,\n",
              "  <matplotlib.lines.Line2D at 0x7f4c05e18210>,\n",
              "  <matplotlib.lines.Line2D at 0x7f4c05e21c90>,\n",
              "  <matplotlib.lines.Line2D at 0x7f4c05e2b210>,\n",
              "  <matplotlib.lines.Line2D at 0x7f4c05e32c90>,\n",
              "  <matplotlib.lines.Line2D at 0x7f4c05e3a210>,\n",
              "  <matplotlib.lines.Line2D at 0x7f4c05e42c10>,\n",
              "  <matplotlib.lines.Line2D at 0x7f4c05e4b190>,\n",
              "  <matplotlib.lines.Line2D at 0x7f4c05e54bd0>,\n",
              "  <matplotlib.lines.Line2D at 0x7f4c05ddc150>,\n",
              "  <matplotlib.lines.Line2D at 0x7f4c05de2bd0>,\n",
              "  <matplotlib.lines.Line2D at 0x7f4c05deb150>,\n",
              "  <matplotlib.lines.Line2D at 0x7f4c05df6bd0>,\n",
              "  <matplotlib.lines.Line2D at 0x7f4c05dfe150>],\n",
              " 'fliers': [],\n",
              " 'means': [],\n",
              " 'medians': [<matplotlib.lines.Line2D at 0x7f4c05ec3ed0>,\n",
              "  <matplotlib.lines.Line2D at 0x7f4c05e56710>,\n",
              "  <matplotlib.lines.Line2D at 0x7f4c05e66810>,\n",
              "  <matplotlib.lines.Line2D at 0x7f4c05e77710>,\n",
              "  <matplotlib.lines.Line2D at 0x7f4c05e89710>,\n",
              "  <matplotlib.lines.Line2D at 0x7f4c05e18750>,\n",
              "  <matplotlib.lines.Line2D at 0x7f4c05e2b750>,\n",
              "  <matplotlib.lines.Line2D at 0x7f4c05e3a750>,\n",
              "  <matplotlib.lines.Line2D at 0x7f4c05e4b6d0>,\n",
              "  <matplotlib.lines.Line2D at 0x7f4c05ddc690>,\n",
              "  <matplotlib.lines.Line2D at 0x7f4c05deb690>,\n",
              "  <matplotlib.lines.Line2D at 0x7f4c05dfe690>],\n",
              " 'whiskers': [<matplotlib.lines.Line2D at 0x7f4c05ebc950>,\n",
              "  <matplotlib.lines.Line2D at 0x7f4c05ebce90>,\n",
              "  <matplotlib.lines.Line2D at 0x7f4c05ecc1d0>,\n",
              "  <matplotlib.lines.Line2D at 0x7f4c05ecc750>,\n",
              "  <matplotlib.lines.Line2D at 0x7f4c05e5e1d0>,\n",
              "  <matplotlib.lines.Line2D at 0x7f4c05e5e750>,\n",
              "  <matplotlib.lines.Line2D at 0x7f4c05e6e2d0>,\n",
              "  <matplotlib.lines.Line2D at 0x7f4c05e6e7d0>,\n",
              "  <matplotlib.lines.Line2D at 0x7f4c05e80250>,\n",
              "  <matplotlib.lines.Line2D at 0x7f4c05e80750>,\n",
              "  <matplotlib.lines.Line2D at 0x7f4c05e91210>,\n",
              "  <matplotlib.lines.Line2D at 0x7f4c05e91750>,\n",
              "  <matplotlib.lines.Line2D at 0x7f4c05e21210>,\n",
              "  <matplotlib.lines.Line2D at 0x7f4c05e21750>,\n",
              "  <matplotlib.lines.Line2D at 0x7f4c05e32210>,\n",
              "  <matplotlib.lines.Line2D at 0x7f4c05e32750>,\n",
              "  <matplotlib.lines.Line2D at 0x7f4c05e42190>,\n",
              "  <matplotlib.lines.Line2D at 0x7f4c05e426d0>,\n",
              "  <matplotlib.lines.Line2D at 0x7f4c05e54150>,\n",
              "  <matplotlib.lines.Line2D at 0x7f4c05e54690>,\n",
              "  <matplotlib.lines.Line2D at 0x7f4c05de2150>,\n",
              "  <matplotlib.lines.Line2D at 0x7f4c05de2690>,\n",
              "  <matplotlib.lines.Line2D at 0x7f4c05df6150>,\n",
              "  <matplotlib.lines.Line2D at 0x7f4c05df6690>]}"
            ]
          },
          "metadata": {
            "tags": []
          },
          "execution_count": 50
        },
        {
          "output_type": "display_data",
          "data": {
            "image/png": "[encoded data removed]",
            "text/plain": [
              "<Figure size 432x288 with 1 Axes>"
            ]
          },
          "metadata": {
            "tags": [],
            "needs_background": "light"
          }
        },
        {
          "output_type": "display_data",
          "data": {
            "image/png": "[encoded data removed]",
            "text/plain": [
              "<Figure size 432x288 with 1 Axes>"
            ]
          },
          "metadata": {
            "tags": [],
            "needs_background": "light"
          }
        },
        {
          "output_type": "display_data",
          "data": {
            "image/png": "[encoded data removed]",
            "text/plain": [
              "<Figure size 432x288 with 1 Axes>"
            ]
          },
          "metadata": {
            "tags": [],
            "needs_background": "light"
          }
        }
      ]
    },
    {
      "cell_type": "markdown",
      "metadata": {
        "id": "WvQyyhudL6RE"
      },
      "source": [
        "## Plotting examples\n",
        "[boxplot doc](https://matplotlib.org/stable/api/_as_gen/matplotlib.pyplot.boxplot.html)  \n",
        "[boxplot demo](https://matplotlib.org/stable/gallery/pyplots/boxplot_demo_pyplot.html)  \n",
        "[heatmap examples](https://stackoverflow.com/questions/33282368/plotting-a-2d-heatmap-with-matplotlib) - scroll down!  "
      ]
    },
    {
      "cell_type": "code",
      "metadata": {
        "id": "3O-vZ-vxL6RF"
      },
      "source": [
        ""
      ],
      "execution_count": 50,
      "outputs": []
    }
  ]
}