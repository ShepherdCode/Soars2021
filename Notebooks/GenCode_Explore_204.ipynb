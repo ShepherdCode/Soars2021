{
  "nbformat": 4,
  "nbformat_minor": 0,
  "metadata": {
    "kernelspec": {
      "display_name": "Python 3",
      "language": "python",
      "name": "python3"
    },
    "language_info": {
      "codemirror_mode": {
        "name": "ipython",
        "version": 3
      },
      "file_extension": ".py",
      "mimetype": "text/x-python",
      "name": "python",
      "nbconvert_exporter": "python",
      "pygments_lexer": "ipython3",
      "version": "3.8.3"
    },
    "colab": {
      "name": "GenCode_Explore_204.ipynb",
      "provenance": [],
      "collapsed_sections": []
    },
    "accelerator": "GPU"
  },
  "cells": [
    {
      "cell_type": "markdown",
      "metadata": {
        "id": "tFJJK7JDL6Q1"
      },
      "source": [
        "# GenCode Explore\n",
        "\n",
        "Explore the human RNA sequences from GenCode.\n",
        "\n",
        "Assume user downloaded files from GenCode 38 [FTP](http://ftp.ebi.ac.uk/pub/databases/gencode/Gencode_human/release_38/)\n",
        "to a subdirectory called data.\n",
        "\n",
        "Improve on GenCode_Explore_101.ipynb\n",
        "\n",
        "Use ORF_counter. \n",
        "\n",
        "Use MatPlotLib to make box plots and heat maps."
      ]
    },
    {
      "cell_type": "code",
      "metadata": {
        "colab": {
          "base_uri": "https://localhost:8080/"
        },
        "id": "eDgS-z1tL6Q2",
        "outputId": "80c09d98-0f8a-4d49-aabc-064d63f48a8b"
      },
      "source": [
        "import time \n",
        "def show_time():\n",
        "    t = time.time()\n",
        "    s = time.strftime('%Y-%m-%d %H:%M:%S %Z', time.localtime(t))\n",
        "    print(s)\n",
        "show_time()"
      ],
      "execution_count": 193,
      "outputs": [
        {
          "output_type": "stream",
          "text": [
            "2021-06-02 15:48:35 UTC\n"
          ],
          "name": "stdout"
        }
      ]
    },
    {
      "cell_type": "code",
      "metadata": {
        "colab": {
          "base_uri": "https://localhost:8080/"
        },
        "id": "tckHr4SuL6Q5",
        "outputId": "b1eeb384-4622-4926-e6a7-16707f18b9f0"
      },
      "source": [
        "import numpy as np\n",
        "import pandas as pd\n",
        "import gzip\n",
        "import sys\n",
        "try:\n",
        "    from google.colab import drive\n",
        "    IN_COLAB = True\n",
        "    print(\"On Google CoLab, mount cloud-local file, get our code from GitHub.\")\n",
        "    PATH='/content/drive/'\n",
        "    #drive.mount(PATH,force_remount=True)  # hardly ever need this\n",
        "    drive.mount(PATH)    # Google will require login credentials\n",
        "    DATAPATH=PATH+'My Drive/data/'  # must end in \"/\"\n",
        "    import requests\n",
        "    s = requests.get('https://raw.githubusercontent.com/ShepherdCode/Soars2021/master/SimTools/RNA_describe.py')\n",
        "    with open('RNA_describe.py', 'w') as f:\n",
        "        f.write(s.text)  # writes to cloud local, delete the file later?\n",
        "    from RNA_describe import *\n",
        "except:\n",
        "    print(\"CoLab not working. On my PC, use relative paths.\")\n",
        "    IN_COLAB = False\n",
        "    DATAPATH='../data/'  # must end in \"/\"\n",
        "    sys.path.append(\"..\") # append parent dir in order to use sibling dirs\n",
        "    from SimTools.RNA_describe import *\n",
        "\n",
        "MODELPATH=\"BestModel\"  # saved on cloud instance and lost after logout\n",
        "#MODELPATH=DATAPATH+MODELPATH  # saved on Google Drive but requires login\n",
        "\n",
        "if not assert_imported_RNA_describe():\n",
        "    print(\"ERROR: Cannot use RNA_describe.\")"
      ],
      "execution_count": 194,
      "outputs": [
        {
          "output_type": "stream",
          "text": [
            "On Google CoLab, mount cloud-local file, get our code from GitHub.\n",
            "Drive already mounted at /content/drive/; to attempt to forcibly remount, call drive.mount(\"/content/drive/\", force_remount=True).\n"
          ],
          "name": "stdout"
        }
      ]
    },
    {
      "cell_type": "code",
      "metadata": {
        "id": "qdPZNYUwL6Q6"
      },
      "source": [
        "PC_FILENAME='gencode.v38.pc_transcripts.fa.gz'\n",
        "NC_FILENAME='gencode.v38.lncRNA_transcripts.fa.gz'"
      ],
      "execution_count": 195,
      "outputs": []
    },
    {
      "cell_type": "code",
      "metadata": {
        "id": "UpG1fmR_L6Q7"
      },
      "source": [
        "def load_gencode(filename,label):\n",
        "    DEFLINE='>'\n",
        "    DELIM='|'\n",
        "    EMPTY=''\n",
        "    labels=[]  # usually 1 for protein-coding or 0 for non-coding\n",
        "    seqs=[]    # usually string of ACGT\n",
        "    lens=[]    # sequence length\n",
        "    ids=[]     # GenCode transcript ID, always starts ENST\n",
        "    one_seq = EMPTY\n",
        "    one_id = None\n",
        "    # Use gzip 'r' mode to open file in read-only mode.\n",
        "    # Use gzip 't' mode to read each line of text as type string.\n",
        "    with gzip.open (filename,'rt') as infile:\n",
        "        for line in infile:\n",
        "            if line[0]==DEFLINE:\n",
        "                # Save the previous sequence if one exists.\n",
        "                if not one_seq == EMPTY:\n",
        "                    labels.append(label)\n",
        "                    seqs.append(one_seq)\n",
        "                    lens.append(len(one_seq))\n",
        "                    ids.append(one_id)\n",
        "                # Get ready to read the next sequence. \n",
        "                # Parse a GenCode defline that is formatted like this:\n",
        "                # >transcript_ID|gene_ID|other_fields other_info|other_info\n",
        "                one_id = line[1:].split(DELIM)[0]\n",
        "                one_seq = EMPTY\n",
        "            else:\n",
        "                # Continue loading sequence lines till next defline.\n",
        "                additional = line.rstrip()\n",
        "                one_seq = one_seq + additional\n",
        "        # Don't forget to save the last sequence after end-of-file.\n",
        "        if not one_seq == EMPTY:\n",
        "            labels.append(label)\n",
        "            seqs.append(one_seq)\n",
        "            lens.append(len(one_seq))\n",
        "            ids.append(one_id)\n",
        "\n",
        "    df1=pd.DataFrame(ids,columns=['tid'])\n",
        "    df2=pd.DataFrame(labels,columns=['class'])\n",
        "    df3=pd.DataFrame(seqs,columns=['sequence'])\n",
        "    df4=pd.DataFrame(lens,columns=['seqlen'])\n",
        "    df=pd.concat((df1,df2,df3,df4),axis=1)\n",
        "    return df"
      ],
      "execution_count": 196,
      "outputs": []
    },
    {
      "cell_type": "code",
      "metadata": {
        "id": "rBgSTD81L6Q8"
      },
      "source": [
        "def get_the_facts(seqs,verbose=False):\n",
        "    oc = ORF_counter()\n",
        "    count = len(seqs)\n",
        "    max_orf_lengths=np.zeros(count)\n",
        "    for s in range(0,count):\n",
        "        seq = seqs[s]\n",
        "        oc.set_sequence(seq)\n",
        "        max_orf = oc.get_max_orf_len()\n",
        "        max_orf_lengths[s] = max_orf\n",
        "    mean_max_orf = np.mean(max_orf_lengths,axis=0)\n",
        "    std_max_orf = np.std(max_orf_lengths,axis=0)\n",
        "    if verbose:\n",
        "        print(\"mean longest ORF length:\",int(mean_max_orf),\"+/-\",int(std_max_orf))\n",
        "    return mean_max_orf"
      ],
      "execution_count": 197,
      "outputs": []
    },
    {
      "cell_type": "markdown",
      "metadata": {
        "id": "-6bcVG0iL6Q9"
      },
      "source": [
        "## Load the GenCode data.\n",
        "Warning: GenCode has\n",
        "over 100K protein-coding RNA (mRNA) \n",
        "and almost 50K non-coding RNA (lncRNA)."
      ]
    },
    {
      "cell_type": "code",
      "metadata": {
        "colab": {
          "base_uri": "https://localhost:8080/"
        },
        "id": "FwwunxFxL6Q-",
        "outputId": "2d6ee333-e8f8-41a1-86d1-611aa4dbfa98"
      },
      "source": [
        "PC_FULLPATH=DATAPATH+PC_FILENAME\n",
        "NC_FULLPATH=DATAPATH+NC_FILENAME\n",
        "show_time()\n",
        "pcdf=load_gencode(PC_FULLPATH,1)\n",
        "print(\"PC seqs loaded:\",len(pcdf))\n",
        "show_time()\n",
        "ncdf=load_gencode(NC_FULLPATH,0)\n",
        "print(\"NC seqs loaded:\",len(ncdf))\n",
        "show_time()"
      ],
      "execution_count": 198,
      "outputs": [
        {
          "output_type": "stream",
          "text": [
            "2021-06-02 15:48:36 UTC\n",
            "PC seqs loaded: 106143\n",
            "2021-06-02 15:48:40 UTC\n",
            "NC seqs loaded: 48752\n",
            "2021-06-02 15:48:41 UTC\n"
          ],
          "name": "stdout"
        }
      ]
    },
    {
      "cell_type": "code",
      "metadata": {
        "colab": {
          "base_uri": "https://localhost:8080/"
        },
        "id": "7iW7zf4pL6Q_",
        "outputId": "a051fdcb-f3f0-46f5-eeed-91ed8fc94991"
      },
      "source": [
        "print(\"Sorting PC...\")\n",
        "pcdf.sort_values('seqlen', ascending=True, inplace=True)\n",
        "print(\"Sorting NC...\")\n",
        "ncdf.sort_values('seqlen', ascending=True, inplace=True)"
      ],
      "execution_count": 199,
      "outputs": [
        {
          "output_type": "stream",
          "text": [
            "Sorting PC...\n",
            "Sorting NC...\n"
          ],
          "name": "stdout"
        }
      ]
    },
    {
      "cell_type": "markdown",
      "metadata": {
        "id": "TbUk5m5xL6RB"
      },
      "source": [
        "## Subset by RNA length and analyze ORF lengths\n",
        "\n",
        "---\n",
        "\n",
        "\n"
      ]
    },
    {
      "cell_type": "code",
      "metadata": {
        "id": "xYgW0zSlL6RC"
      },
      "source": [
        "# This is a fast way to slice if you have length thresholds.\n",
        "# TO DO: choose length thresholds and apply to PC and NC RNA.\n",
        "# For example: 200, 400, 800, 1600, 3200, 6400 (e.g. 200-399, etc.)\n",
        "mask = (ncdf['sequence'].str.len() < 1000)\n",
        "subset = ncdf.loc[mask]\n",
        "\n",
        "# Here is one way to extract a list from a dataframe. \n",
        "mylist=subset['sequence'].tolist()\n",
        "\n",
        "mask = (pcdf['sequence'].str.len() < 800)\n",
        "subset = pcdf.loc[mask]\n",
        "subset_list = subset['sequence'].tolist()"
      ],
      "execution_count": 200,
      "outputs": []
    },
    {
      "cell_type": "code",
      "metadata": {
        "id": "qudbA6e9HtON"
      },
      "source": [
        "def subset_list_by_len_bounds(input_list, min_len, max_len):\n",
        "  return list(filter(lambda x: len(x) > min_len and len(x) < max_len, input_list))"
      ],
      "execution_count": 201,
      "outputs": []
    },
    {
      "cell_type": "code",
      "metadata": {
        "id": "TMMnTdSiL6RD"
      },
      "source": [
        "import matplotlib.pyplot as plt\n",
        "import numpy as np\n",
        "\n",
        "#TODO: optimize the application of length thresholds and make use of numpy lists\n",
        "#TODO: optimize in general\n",
        "num_bins = 6\n",
        "\n",
        "x_axis_labels = []\n",
        "\n",
        "pc_max_len_data = []\n",
        "pc_max_cnt_data = []\n",
        "pc_contain_data = []\n",
        "\n",
        "nc_max_len_data = []\n",
        "nc_max_cnt_data = []\n",
        "nc_contain_data = []\n",
        "\n",
        "for bin_num in range(1, num_bins + 1):\n",
        "  #define min and max sequence ranges (200, 400, 800, 1600, etc.)\n",
        "  #TODO: hardcode these length thresholds?\n",
        "  min_seq_length = 2**bin_num * 100\n",
        "  max_seq_length = 2**(bin_num + 1) * 100\n",
        "\n",
        "  #subset the protein-coding sequences by min and max sequence length bounds\n",
        "  pc_sequences = pcdf['sequence'].tolist()\n",
        "  pc_sequences_subset = subset_list_by_len_bounds(pc_sequences, min_seq_length, max_seq_length)\n",
        "\n",
        "  pc_max_len_data.append([])\n",
        "  pc_max_cnt_data.append([])\n",
        "  pc_contain_data.append([])\n",
        "\n",
        "  #get data on each protein-coding sequence\n",
        "  for seq_num in range(0, len(pc_sequences_subset)):\n",
        "    sequence = pc_sequences_subset[seq_num]\n",
        "\n",
        "    oc = ORF_counter()\n",
        "    oc.set_sequence(sequence)\n",
        "\n",
        "    max_len = oc.get_max_orf_len()\n",
        "    max_cnt = oc.count_maximal_orfs()\n",
        "    contain = oc.count_contained_orfs()\n",
        "\n",
        "    pc_max_len_data[bin_num - 1].append(max_len)\n",
        "    pc_max_cnt_data[bin_num - 1].append(max_cnt)\n",
        "    pc_contain_data[bin_num - 1].append(contain)\n",
        "\n",
        "  #subset the non-coding sequences by and min and max sequence length bounds\n",
        "  nc_sequences = ncdf['sequence'].tolist()\n",
        "  nc_sequences_subset = subset_list_by_len_bounds(nc_sequences, min_seq_length, max_seq_length)\n",
        "\n",
        "  nc_max_len_data.append([])\n",
        "  nc_max_cnt_data.append([])\n",
        "  nc_contain_data.append([])\n",
        "\n",
        "  #get data on each non-coding sequence\n",
        "  for seq_num in range(0, len(nc_sequences_subset)):\n",
        "    sequence = nc_sequences_subset[seq_num]\n",
        "\n",
        "    oc = ORF_counter()\n",
        "    oc.set_sequence(sequence)\n",
        "\n",
        "    max_len = oc.get_max_orf_len()\n",
        "    max_cnt = oc.count_maximal_orfs()\n",
        "    contain = oc.count_contained_orfs()\n",
        "\n",
        "    nc_max_len_data[bin_num - 1].append(max_len)\n",
        "    nc_max_cnt_data[bin_num - 1].append(max_cnt)\n",
        "    nc_contain_data[bin_num - 1].append(contain)\n",
        "\n",
        "#Merge pc and nc data for plotting\n",
        "#TODO: Do during data collection for more efficiency\n",
        "max_len_data = []\n",
        "max_cnt_data = []\n",
        "contain_data = []\n",
        "for i in range(1, num_bins + 1):\n",
        "  max_len_data.append(pc_max_len_data[i-1])\n",
        "  max_len_data.append(nc_max_len_data[i-1])\n",
        "  max_cnt_data.append(pc_max_len_data[i-1])\n",
        "  max_cnt_data.append(nc_max_len_data[i-1])\n",
        "  contain_data.append(pc_max_len_data[i-1])\n",
        "  contain_data.append(nc_max_len_data[i-1])\n",
        "\n",
        "  #just for the box plots\n",
        "  x_axis_labels.append(str(min_seq_length) + \"-\" + str(max_seq_length) + \" (mRNA)\")\n",
        "  x_axis_labels.append(str(min_seq_length) + \"-\" + str(max_seq_length) + \" (lncRNA)\")"
      ],
      "execution_count": 202,
      "outputs": []
    },
    {
      "cell_type": "markdown",
      "metadata": {
        "id": "0vtJ42ruTcJG"
      },
      "source": [
        "## Plot the data\n",
        "\n",
        "---"
      ]
    },
    {
      "cell_type": "code",
      "metadata": {
        "colab": {
          "base_uri": "https://localhost:8080/",
          "height": 1000
        },
        "id": "8GzgZJXqTPz1",
        "outputId": "2100b214-a88c-47a0-c014-979bd3465310"
      },
      "source": [
        "fig1, ax1 = plt.subplots()\n",
        "ax1.set_yscale('log', basey=2)\n",
        "ax1.set_title('Length of Longest ORF in RNA Sequences')\n",
        "ax1.set_ylabel('ORF Length')\n",
        "ax1.set_xlabel('Sequence Length Ranges')\n",
        "ax1.set_xticklabels(x_axis_labels, rotation = 45, ha = \"center\")\n",
        "ax1.boxplot(max_len_data, showfliers=False)\n",
        "\n",
        "fig1, ax1 = plt.subplots()\n",
        "ax1.set_yscale('log', basey=2)\n",
        "ax1.set_title('Number of Non-contained ORFs in RNA Sequences')\n",
        "ax1.set_ylabel('Number of Non-contained ORFs')\n",
        "ax1.set_xlabel('Sequence Length Ranges')\n",
        "ax1.set_xticklabels(x_axis_labels, rotation = 45, ha = \"center\")\n",
        "ax1.boxplot(max_cnt_data, showfliers=False)\n",
        "\n",
        "fig1, ax1 = plt.subplots()\n",
        "ax1.set_yscale('log', basey=2)\n",
        "ax1.set_title('Number of Contained ORFs in RNA Sequences')\n",
        "ax1.set_ylabel('Number of Contained ORFs')\n",
        "ax1.set_xlabel('Sequence Length Ranges')\n",
        "ax1.set_xticklabels(x_axis_labels, rotation = 45, ha = \"center\")\n",
        "ax1.boxplot(contain_data, showfliers=False)"
      ],
      "execution_count": 203,
      "outputs": [
        {
          "output_type": "stream",
          "text": [
            "/usr/local/lib/python3.7/dist-packages/numpy/core/_asarray.py:83: VisibleDeprecationWarning: Creating an ndarray from ragged nested sequences (which is a list-or-tuple of lists-or-tuples-or ndarrays with different lengths or shapes) is deprecated. If you meant to do this, you must specify 'dtype=object' when creating the ndarray\n",
            "  return array(a, dtype, copy=False, order=order)\n",
            "/usr/local/lib/python3.7/dist-packages/numpy/core/_asarray.py:83: VisibleDeprecationWarning: Creating an ndarray from ragged nested sequences (which is a list-or-tuple of lists-or-tuples-or ndarrays with different lengths or shapes) is deprecated. If you meant to do this, you must specify 'dtype=object' when creating the ndarray\n",
            "  return array(a, dtype, copy=False, order=order)\n",
            "/usr/local/lib/python3.7/dist-packages/numpy/core/_asarray.py:83: VisibleDeprecationWarning: Creating an ndarray from ragged nested sequences (which is a list-or-tuple of lists-or-tuples-or ndarrays with different lengths or shapes) is deprecated. If you meant to do this, you must specify 'dtype=object' when creating the ndarray\n",
            "  return array(a, dtype, copy=False, order=order)\n"
          ],
          "name": "stderr"
        },
        {
          "output_type": "execute_result",
          "data": {
            "text/plain": [
              "{'boxes': [<matplotlib.lines.Line2D at 0x7fcb0c755e10>,\n",
              "  <matplotlib.lines.Line2D at 0x7fcb0dde4110>,\n",
              "  <matplotlib.lines.Line2D at 0x7fcb12665850>,\n",
              "  <matplotlib.lines.Line2D at 0x7fcb1267b8d0>,\n",
              "  <matplotlib.lines.Line2D at 0x7fcb0d91d910>,\n",
              "  <matplotlib.lines.Line2D at 0x7fcb0d928910>,\n",
              "  <matplotlib.lines.Line2D at 0x7fcb0d930910>,\n",
              "  <matplotlib.lines.Line2D at 0x7fcb10fd4910>,\n",
              "  <matplotlib.lines.Line2D at 0x7fcb10fc78d0>,\n",
              "  <matplotlib.lines.Line2D at 0x7fcb10fe68d0>,\n",
              "  <matplotlib.lines.Line2D at 0x7fcb118498d0>,\n",
              "  <matplotlib.lines.Line2D at 0x7fcb118648d0>],\n",
              " 'caps': [<matplotlib.lines.Line2D at 0x7fcb12650e50>,\n",
              "  <matplotlib.lines.Line2D at 0x7fcb126743d0>,\n",
              "  <matplotlib.lines.Line2D at 0x7fcb12655850>,\n",
              "  <matplotlib.lines.Line2D at 0x7fcb12655d90>,\n",
              "  <matplotlib.lines.Line2D at 0x7fcb12684890>,\n",
              "  <matplotlib.lines.Line2D at 0x7fcb12684e10>,\n",
              "  <matplotlib.lines.Line2D at 0x7fcb0d91f8d0>,\n",
              "  <matplotlib.lines.Line2D at 0x7fcb0d91fe10>,\n",
              "  <matplotlib.lines.Line2D at 0x7fcb0d92c910>,\n",
              "  <matplotlib.lines.Line2D at 0x7fcb0d92ce10>,\n",
              "  <matplotlib.lines.Line2D at 0x7fcb0d8f3910>,\n",
              "  <matplotlib.lines.Line2D at 0x7fcb0d8f3e50>,\n",
              "  <matplotlib.lines.Line2D at 0x7fcb10fc2910>,\n",
              "  <matplotlib.lines.Line2D at 0x7fcb10fc2e50>,\n",
              "  <matplotlib.lines.Line2D at 0x7fcb10ff5910>,\n",
              "  <matplotlib.lines.Line2D at 0x7fcb10ff5e50>,\n",
              "  <matplotlib.lines.Line2D at 0x7fcb10ff2950>,\n",
              "  <matplotlib.lines.Line2D at 0x7fcb10ff2e50>,\n",
              "  <matplotlib.lines.Line2D at 0x7fcb10fc38d0>,\n",
              "  <matplotlib.lines.Line2D at 0x7fcb10fc3e10>,\n",
              "  <matplotlib.lines.Line2D at 0x7fcb118478d0>,\n",
              "  <matplotlib.lines.Line2D at 0x7fcb11847e10>,\n",
              "  <matplotlib.lines.Line2D at 0x7fcb1184a810>,\n",
              "  <matplotlib.lines.Line2D at 0x7fcb1184ad50>],\n",
              " 'fliers': [],\n",
              " 'means': [],\n",
              " 'medians': [<matplotlib.lines.Line2D at 0x7fcb12674950>,\n",
              "  <matplotlib.lines.Line2D at 0x7fcb12665310>,\n",
              "  <matplotlib.lines.Line2D at 0x7fcb1267b390>,\n",
              "  <matplotlib.lines.Line2D at 0x7fcb0d91d390>,\n",
              "  <matplotlib.lines.Line2D at 0x7fcb0d928390>,\n",
              "  <matplotlib.lines.Line2D at 0x7fcb0d9303d0>,\n",
              "  <matplotlib.lines.Line2D at 0x7fcb10fd43d0>,\n",
              "  <matplotlib.lines.Line2D at 0x7fcb10fc73d0>,\n",
              "  <matplotlib.lines.Line2D at 0x7fcb10fe63d0>,\n",
              "  <matplotlib.lines.Line2D at 0x7fcb11849390>,\n",
              "  <matplotlib.lines.Line2D at 0x7fcb11864390>,\n",
              "  <matplotlib.lines.Line2D at 0x7fcb118602d0>],\n",
              " 'whiskers': [<matplotlib.lines.Line2D at 0x7fcb126503d0>,\n",
              "  <matplotlib.lines.Line2D at 0x7fcb12650910>,\n",
              "  <matplotlib.lines.Line2D at 0x7fcb12674dd0>,\n",
              "  <matplotlib.lines.Line2D at 0x7fcb12655350>,\n",
              "  <matplotlib.lines.Line2D at 0x7fcb12665d90>,\n",
              "  <matplotlib.lines.Line2D at 0x7fcb12684350>,\n",
              "  <matplotlib.lines.Line2D at 0x7fcb1267be10>,\n",
              "  <matplotlib.lines.Line2D at 0x7fcb0d91f390>,\n",
              "  <matplotlib.lines.Line2D at 0x7fcb0d91de90>,\n",
              "  <matplotlib.lines.Line2D at 0x7fcb0d92c3d0>,\n",
              "  <matplotlib.lines.Line2D at 0x7fcb0d928e50>,\n",
              "  <matplotlib.lines.Line2D at 0x7fcb0d8f33d0>,\n",
              "  <matplotlib.lines.Line2D at 0x7fcb0d930e50>,\n",
              "  <matplotlib.lines.Line2D at 0x7fcb10fc23d0>,\n",
              "  <matplotlib.lines.Line2D at 0x7fcb10fd4e50>,\n",
              "  <matplotlib.lines.Line2D at 0x7fcb10ff53d0>,\n",
              "  <matplotlib.lines.Line2D at 0x7fcb10fc7dd0>,\n",
              "  <matplotlib.lines.Line2D at 0x7fcb10ff2350>,\n",
              "  <matplotlib.lines.Line2D at 0x7fcb10fe6e10>,\n",
              "  <matplotlib.lines.Line2D at 0x7fcb10fc3390>,\n",
              "  <matplotlib.lines.Line2D at 0x7fcb11849e10>,\n",
              "  <matplotlib.lines.Line2D at 0x7fcb11847390>,\n",
              "  <matplotlib.lines.Line2D at 0x7fcb11864d50>,\n",
              "  <matplotlib.lines.Line2D at 0x7fcb1184a2d0>]}"
            ]
          },
          "metadata": {
            "tags": []
          },
          "execution_count": 203
        },
        {
          "output_type": "display_data",
          "data": {
            "image/png": "[encoded data removed]",
            "text/plain": [
              "<Figure size 432x288 with 1 Axes>"
            ]
          },
          "metadata": {
            "tags": [],
            "needs_background": "light"
          }
        },
        {
          "output_type": "display_data",
          "data": {
            "image/png": "[encoded data removed]",
            "text/plain": [
              "<Figure size 432x288 with 1 Axes>"
            ]
          },
          "metadata": {
            "tags": [],
            "needs_background": "light"
          }
        },
        {
          "output_type": "display_data",
          "data": {
            "image/png": "[encoded data removed]",
            "text/plain": [
              "<Figure size 432x288 with 1 Axes>"
            ]
          },
          "metadata": {
            "tags": [],
            "needs_background": "light"
          }
        }
      ]
    },
    {
      "cell_type": "markdown",
      "metadata": {
        "id": "WvQyyhudL6RE"
      },
      "source": [
        "## Plotting examples\n",
        "[boxplot doc](https://matplotlib.org/stable/api/_as_gen/matplotlib.pyplot.boxplot.html)  \n",
        "[boxplot demo](https://matplotlib.org/stable/gallery/pyplots/boxplot_demo_pyplot.html)  \n",
        "[heatmap examples](https://stackoverflow.com/questions/33282368/plotting-a-2d-heatmap-with-matplotlib) - scroll down!  "
      ]
    },
    {
      "cell_type": "code",
      "metadata": {
        "id": "3O-vZ-vxL6RF"
      },
      "source": [
        ""
      ],
      "execution_count": 203,
      "outputs": []
    }
  ]
}