{
 "cells": [
  {
   "cell_type": "markdown",
   "metadata": {},
   "source": [
    "# Sim_Demo\n",
    "Demonstrate the RNA simulator."
   ]
  },
  {
   "cell_type": "code",
   "execution_count": 1,
   "metadata": {},
   "outputs": [
    {
     "name": "stdout",
     "output_type": "stream",
     "text": [
      "CoLab not working. On my PC, use relative paths.\n"
     ]
    }
   ],
   "source": [
    "import sys\n",
    "try:\n",
    "    from google.colab import drive\n",
    "    IN_COLAB = True\n",
    "    print(\"On Google CoLab, mount cloud-local file, get our code from GitHub.\")\n",
    "    PATH='/content/drive/'\n",
    "    #drive.mount(PATH,force_remount=True)  # hardly ever need this\n",
    "    #drive.mount(PATH)    # Google will require login credentials\n",
    "    DATAPATH=PATH+'My Drive/data/'  # must end in \"/\"\n",
    "    import requests\n",
    "    r = requests.get('https://raw.githubusercontent.com/ShepherdCode/Soars2021/master/SimTools/RNA_gen.py')\n",
    "    with open('RNA_gen.py', 'w') as f:\n",
    "        f.write(r.text)  # writes to cloud local, delete the file later?\n",
    "    from RNA_gen import *\n",
    "    s = requests.get('https://raw.githubusercontent.com/ShepherdCode/Soars2021/master/SimTools/RNA_describe.py')\n",
    "    with open('RNA_describe.py', 'w') as f:\n",
    "        f.write(s.text)  # writes to cloud local, delete the file later?\n",
    "    from RNA_prep import *\n",
    "except:\n",
    "    print(\"CoLab not working. On my PC, use relative paths.\")\n",
    "    IN_COLAB = False\n",
    "    DATAPATH='data/'  # must end in \"/\"\n",
    "    sys.path.append(\"..\") # append parent dir in order to use sibling dirs\n",
    "    from SimTools.RNA_gen import *\n",
    "    from SimTools.RNA_describe import *\n",
    "\n",
    "MODELPATH=\"BestModel\"  # saved on cloud instance and lost after logout\n",
    "#MODELPATH=DATAPATH+MODELPATH  # saved on Google Drive but requires login\n",
    "\n",
    "if not assert_imported_RNA_gen():\n",
    "    print(\"ERROR: Cannot use RNA_gen.\")"
   ]
  },
  {
   "cell_type": "code",
   "execution_count": 2,
   "metadata": {},
   "outputs": [],
   "source": [
    "# Use code from our SimTools library.\n",
    "def make_generator(seq_len):\n",
    "    return cgen\n",
    "def make_seqs(cgen,is_pc,train_count,test_count):\n",
    "    freqs = [1,1,1,1]  # the relative frequencies for four nucleotides\n",
    "    if is_pc:\n",
    "        freqs = [2,1,1,2]  # protein-coding has more A and T\n",
    "    else:\n",
    "        pass # non-coding is random uniform\n",
    "    cgen.get_seq_oracle().set_frequencies(freqs)    \n",
    "    train_set = cgen.get_sequences(train_count)\n",
    "    test_set =  cgen.get_sequences(test_count)\n",
    "    return train_set,test_set"
   ]
  },
  {
   "cell_type": "code",
   "execution_count": 3,
   "metadata": {},
   "outputs": [],
   "source": [
    "import numpy as np\n",
    "def get_the_facts(seqs):\n",
    "    rd = RNA_describer()\n",
    "    facts = rd.get_three_lengths(seq_set)\n",
    "    facts_ary = np.asarray(facts) # 5000 rows, 3 columns \n",
    "    print(\"Facts array:\",type(facts_ary))\n",
    "    print(\"Facts array:\",facts_ary.shape)\n",
    "    # Get the mean of each column\n",
    "    mean_5utr, mean_orf, mean_3utr = np.mean(facts_ary,axis=0)\n",
    "    std_5utr, std_orf, std_3utr = np.std(facts_ary,axis=0)\n",
    "    print(\"mean 5' UTR length:\",int(mean_5utr),\"+/-\",int(std_5utr))\n",
    "    print(\"mean    ORF length:\",int(mean_orf), \"+/-\",int(std_orf))\n",
    "    print(\"mean 3' UTR length:\",int(mean_3utr),\"+/-\",int(std_3utr))"
   ]
  },
  {
   "cell_type": "code",
   "execution_count": 4,
   "metadata": {},
   "outputs": [],
   "source": [
    "# Run this once to keep reusing same random number generator\n",
    "simulator = Collection_Generator()  "
   ]
  },
  {
   "cell_type": "markdown",
   "metadata": {},
   "source": [
    "Random uniform sequence"
   ]
  },
  {
   "cell_type": "code",
   "execution_count": 9,
   "metadata": {},
   "outputs": [
    {
     "name": "stdout",
     "output_type": "stream",
     "text": [
      "Facts array: <class 'numpy.ndarray'>\n",
      "Facts array: (5000, 3)\n",
      "mean 5' UTR length: 397 +/- 236\n",
      "mean    ORF length: 183 +/- 72\n",
      "mean 3' UTR length: 419 +/- 238\n"
     ]
    }
   ],
   "source": [
    "# Run this repeatedly to get different random sequences.\n",
    "SEQ_LEN=1000\n",
    "SEQ_CNT=5000\n",
    "simulator.get_len_oracle().set_mean(SEQ_LEN)\n",
    "simulator.get_seq_oracle().set_sequences(['A','C','G','T'])  # default\n",
    "simulator.get_seq_oracle().set_frequencies([1,1,1,1]) # default\n",
    "seq_set = simulator.get_sequences(SEQ_CNT)\n",
    "get_the_facts(seq_set)"
   ]
  },
  {
   "cell_type": "code",
   "execution_count": 6,
   "metadata": {},
   "outputs": [],
   "source": [
    "# In random sequence... \n",
    "#    any ORF tends to be short, so mean and std dev are small.\n",
    "#    longest ORF tends toward 1st half of sequence (why?).\n",
    "#    ORF can occur anywhere so UTR std dev is large."
   ]
  },
  {
   "cell_type": "markdown",
   "metadata": {},
   "source": [
    "Non-random codon selection. Expect more ORFs."
   ]
  },
  {
   "cell_type": "code",
   "execution_count": 10,
   "metadata": {},
   "outputs": [
    {
     "name": "stdout",
     "output_type": "stream",
     "text": [
      "Facts array: <class 'numpy.ndarray'>\n",
      "Facts array: (5000, 3)\n",
      "mean 5' UTR length: 338 +/- 213\n",
      "mean    ORF length: 239 +/- 204\n",
      "mean 3' UTR length: 420 +/- 221\n"
     ]
    }
   ],
   "source": [
    "# Run this repeatedly to get different random sequences.\n",
    "SEQ_LEN=333\n",
    "SEQ_CNT=5000\n",
    "simulator.get_len_oracle().set_mean(SEQ_LEN)\n",
    "simulator.get_seq_oracle().set_sequences(['ATG','CCC','TAG'])\n",
    "simulator.get_seq_oracle().set_frequencies([1,100,1]) \n",
    "seq_set = simulator.get_sequences(SEQ_CNT)\n",
    "get_the_facts(seq_set)\n"
   ]
  },
  {
   "cell_type": "code",
   "execution_count": null,
   "metadata": {},
   "outputs": [],
   "source": []
  }
 ],
 "metadata": {
  "kernelspec": {
   "display_name": "Python 3",
   "language": "python",
   "name": "python3"
  },
  "language_info": {
   "codemirror_mode": {
    "name": "ipython",
    "version": 3
   },
   "file_extension": ".py",
   "mimetype": "text/x-python",
   "name": "python",
   "nbconvert_exporter": "python",
   "pygments_lexer": "ipython3",
   "version": "3.8.3"
  }
 },
 "nbformat": 4,
 "nbformat_minor": 2
}
