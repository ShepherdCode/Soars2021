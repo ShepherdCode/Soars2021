{
  "nbformat": 4,
  "nbformat_minor": 0,
  "metadata": {
    "colab": {
      "name": "ORF_CNN_102.ipynb",
      "provenance": [],
      "collapsed_sections": []
    },
    "kernelspec": {
      "display_name": "Python 3",
      "language": "python",
      "name": "python3"
    },
    "language_info": {
      "codemirror_mode": {
        "name": "ipython",
        "version": 3
      },
      "file_extension": ".py",
      "mimetype": "text/x-python",
      "name": "python",
      "nbconvert_exporter": "python",
      "pygments_lexer": "ipython3",
      "version": "3.8.3"
    }
  },
  "cells": [
    {
      "cell_type": "markdown",
      "metadata": {
        "id": "0asdcdunj2Tx"
      },
      "source": [
        "# ORF recognition by CNN\n",
        "Compare to ORF_CNN_101.\n",
        "Use 2-layer CNN.\n",
        "Run on Mac."
      ]
    },
    {
      "cell_type": "code",
      "metadata": {
        "id": "Nhz4GKonj2T_"
      },
      "source": [
        "PC_SEQUENCES=20000   # how many protein-coding sequences\n",
        "NC_SEQUENCES=20000   # how many non-coding sequences\n",
        "PC_TESTS=1000\n",
        "NC_TESTS=1000\n",
        "BASES=1000            # how long is each sequence\n",
        "ALPHABET=4          # how many different letters are possible\n",
        "INPUT_SHAPE_2D = (BASES,ALPHABET,1) # Conv2D needs 3D inputs\n",
        "INPUT_SHAPE = (BASES,ALPHABET) # Conv1D needs 2D inputs\n",
        "FILTERS = 64   # how many different patterns the model looks for\n",
        "NEURONS = 16\n",
        "WIDTH = 3   # how wide each pattern is, in bases\n",
        "STRIDE_2D = (1,1)  # For Conv2D how far in each direction\n",
        "STRIDE = 1 # For Conv1D, how far between pattern matches, in bases\n",
        "EPOCHS=10  # how many times to train on all the data\n",
        "SPLITS=5  # SPLITS=3 means train on 2/3 and validate on 1/3 \n",
        "FOLDS=5  # train the model this many times (range 1 to SPLITS)"
      ],
      "execution_count": 1,
      "outputs": []
    },
    {
      "cell_type": "code",
      "metadata": {
        "colab": {
          "base_uri": "https://localhost:8080/"
        },
        "id": "lr7q90rxj2UE",
        "outputId": "4696cf19-4fd4-41a8-f0de-c6353d163a8c"
      },
      "source": [
        "import sys\n",
        "try:\n",
        "    from google.colab import drive\n",
        "    IN_COLAB = True\n",
        "    print(\"On Google CoLab, mount cloud-local file, get our code from GitHub.\")\n",
        "    PATH='/content/drive/'\n",
        "    #drive.mount(PATH,force_remount=True)  # hardly ever need this\n",
        "    #drive.mount(PATH)    # Google will require login credentials\n",
        "    DATAPATH=PATH+'My Drive/data/'  # must end in \"/\"\n",
        "    import requests\n",
        "    r = requests.get('https://raw.githubusercontent.com/ShepherdCode/Soars2021/master/SimTools/RNA_gen.py')\n",
        "    with open('RNA_gen.py', 'w') as f:\n",
        "        f.write(r.text)  \n",
        "    from RNA_gen import *\n",
        "    r = requests.get('https://raw.githubusercontent.com/ShepherdCode/Soars2021/master/SimTools/RNA_describe.py')\n",
        "    with open('RNA_describe.py', 'w') as f:\n",
        "        f.write(r.text)  \n",
        "    from RNA_describe import *\n",
        "    r = requests.get('https://raw.githubusercontent.com/ShepherdCode/Soars2021/master/LearnTools/RNA_prep.py')\n",
        "    with open('RNA_prep.py', 'w') as f:\n",
        "        f.write(r.text)  \n",
        "    from RNA_prep import *\n",
        "except:\n",
        "    print(\"CoLab not working. On my PC, use relative paths.\")\n",
        "    IN_COLAB = False\n",
        "    DATAPATH='data/'  # must end in \"/\"\n",
        "    sys.path.append(\"..\") # append parent dir in order to use sibling dirs\n",
        "    from SimTools.RNA_gen import *\n",
        "    from SimTools.RNA_describe import *\n",
        "    from LearnTools.RNA_prep import *\n",
        "\n",
        "MODELPATH=\"BestModel\"  # saved on cloud instance and lost after logout\n",
        "#MODELPATH=DATAPATH+MODELPATH  # saved on Google Drive but requires login\n",
        "\n",
        "if not assert_imported_RNA_gen():\n",
        "    print(\"ERROR: Cannot use RNA_gen.\")\n",
        "if not assert_imported_RNA_prep():\n",
        "    print(\"ERROR: Cannot use RNA_prep.\")"
      ],
      "execution_count": 2,
      "outputs": [
        {
          "output_type": "stream",
          "text": [
            "On Google CoLab, mount cloud-local file, get our code from GitHub.\n"
          ],
          "name": "stdout"
        }
      ]
    },
    {
      "cell_type": "code",
      "metadata": {
        "id": "EGDXH8Uwj2UM"
      },
      "source": [
        "from os import listdir\n",
        "import time # datetime\n",
        "import csv\n",
        "from zipfile import ZipFile\n",
        "\n",
        "import numpy as np\n",
        "import pandas as pd\n",
        "from scipy import stats  # mode\n",
        "\n",
        "from sklearn.preprocessing import StandardScaler\n",
        "from sklearn.model_selection import KFold\n",
        "from sklearn.model_selection import cross_val_score\n",
        "\n",
        "from keras.models import Sequential\n",
        "from keras.layers import Dense,Embedding\n",
        "from keras.layers import Conv1D,Conv2D\n",
        "from keras.layers import Flatten,MaxPooling1D,MaxPooling2D\n",
        "from keras.losses import BinaryCrossentropy\n",
        "# tf.keras.losses.BinaryCrossentropy\n",
        "\n",
        "import matplotlib.pyplot as plt\n",
        "from matplotlib import colors\n",
        "mycmap = colors.ListedColormap(['red','blue'])  # list color for label 0 then 1\n",
        "np.set_printoptions(precision=2)\n"
      ],
      "execution_count": 3,
      "outputs": []
    },
    {
      "cell_type": "code",
      "metadata": {
        "colab": {
          "base_uri": "https://localhost:8080/",
          "height": 36
        },
        "id": "QP1VTRNQj2UO",
        "outputId": "c72dbf0a-f758-40f3-bceb-a1f64f6114ed"
      },
      "source": [
        "t = time.time()\n",
        "time.strftime('%Y-%m-%d %H:%M:%S %Z', time.localtime(t))"
      ],
      "execution_count": 4,
      "outputs": [
        {
          "output_type": "execute_result",
          "data": {
            "application/vnd.google.colaboratory.intrinsic+json": {
              "type": "string"
            },
            "text/plain": [
              "'2021-05-16 20:33:50 UTC'"
            ]
          },
          "metadata": {
            "tags": []
          },
          "execution_count": 4
        }
      ]
    },
    {
      "cell_type": "code",
      "metadata": {
        "colab": {
          "base_uri": "https://localhost:8080/"
        },
        "id": "Q0FetlLPj2UQ",
        "outputId": "ff03465d-7f4f-4a1f-b580-58d9627d3a59"
      },
      "source": [
        "# Use code from our SimTools library.\n",
        "def make_generators(seq_len):\n",
        "    pcgen = Collection_Generator()  \n",
        "    pcgen.get_len_oracle().set_mean(seq_len)\n",
        "    pcgen.set_seq_oracle(Transcript_Oracle())\n",
        "    ncgen = Collection_Generator()  \n",
        "    ncgen.get_len_oracle().set_mean(seq_len)\n",
        "    return pcgen,ncgen\n",
        "\n",
        "pc_sim,nc_sim = make_generators(BASES)\n",
        "pc_train = pc_sim.get_sequences(PC_SEQUENCES)\n",
        "nc_train = nc_sim.get_sequences(NC_SEQUENCES)\n",
        "print(\"Train on\",len(pc_train),\"PC seqs\")\n",
        "print(\"Train on\",len(nc_train),\"NC seqs\")"
      ],
      "execution_count": 5,
      "outputs": [
        {
          "output_type": "stream",
          "text": [
            "Train on 20000 PC seqs\n",
            "Train on 20000 NC seqs\n"
          ],
          "name": "stdout"
        }
      ]
    },
    {
      "cell_type": "code",
      "metadata": {
        "colab": {
          "base_uri": "https://localhost:8080/"
        },
        "id": "CIpTrnH6j2US",
        "outputId": "660ea5c1-7990-48d3-ff91-cf32a97f03e5"
      },
      "source": [
        "# Use code from our LearnTools library.\n",
        "X,y = prepare_inputs_len_x_alphabet(pc_train,nc_train,ALPHABET) # shuffles\n",
        "print(\"Data ready.\")"
      ],
      "execution_count": 6,
      "outputs": [
        {
          "output_type": "stream",
          "text": [
            "Data ready.\n"
          ],
          "name": "stdout"
        }
      ]
    },
    {
      "cell_type": "code",
      "metadata": {
        "colab": {
          "base_uri": "https://localhost:8080/"
        },
        "id": "7NvrVU8ij2UU",
        "outputId": "bc138671-0310-4106-c385-4e329fdb9696"
      },
      "source": [
        "def make_DNN():\n",
        "    print(\"make_DNN\")\n",
        "    print(\"input shape:\",INPUT_SHAPE)\n",
        "    dnn = Sequential()\n",
        "    #dnn.add(Embedding(input_dim=INPUT_SHAPE,output_dim=INPUT_SHAPE)) \n",
        "    dnn.add(Conv1D(filters=FILTERS,kernel_size=WIDTH,strides=STRIDE,padding=\"same\",\n",
        "            input_shape=INPUT_SHAPE))\n",
        "    dnn.add(Conv1D(filters=FILTERS,kernel_size=WIDTH,strides=STRIDE,padding=\"same\"))\n",
        "    dnn.add(MaxPooling1D())\n",
        "    dnn.add(Flatten())\n",
        "    dnn.add(Dense(NEURONS,activation=\"sigmoid\",dtype=np.float32))   \n",
        "    dnn.add(Dense(1,activation=\"sigmoid\",dtype=np.float32))   \n",
        "    dnn.compile(optimizer='adam',\n",
        "                loss=BinaryCrossentropy(from_logits=False),\n",
        "                metrics=['accuracy'])   # add to default metrics=loss\n",
        "    dnn.build(input_shape=INPUT_SHAPE)\n",
        "    #ln_rate = tf.keras.optimizers.Adam(learning_rate = LN_RATE)\n",
        "    #bc=tf.keras.losses.BinaryCrossentropy(from_logits=False)\n",
        "    #model.compile(loss=bc, optimizer=ln_rate, metrics=[\"accuracy\"])\n",
        "    return dnn\n",
        "model = make_DNN()\n",
        "print(model.summary())"
      ],
      "execution_count": 7,
      "outputs": [
        {
          "output_type": "stream",
          "text": [
            "make_DNN\n",
            "input shape: (1000, 4)\n",
            "Model: \"sequential\"\n",
            "_________________________________________________________________\n",
            "Layer (type)                 Output Shape              Param #   \n",
            "=================================================================\n",
            "conv1d (Conv1D)              (None, 1000, 64)          832       \n",
            "_________________________________________________________________\n",
            "conv1d_1 (Conv1D)            (None, 1000, 64)          12352     \n",
            "_________________________________________________________________\n",
            "max_pooling1d (MaxPooling1D) (None, 500, 64)           0         \n",
            "_________________________________________________________________\n",
            "flatten (Flatten)            (None, 32000)             0         \n",
            "_________________________________________________________________\n",
            "dense (Dense)                (None, 16)                512016    \n",
            "_________________________________________________________________\n",
            "dense_1 (Dense)              (None, 1)                 17        \n",
            "=================================================================\n",
            "Total params: 525,217\n",
            "Trainable params: 525,217\n",
            "Non-trainable params: 0\n",
            "_________________________________________________________________\n",
            "None\n"
          ],
          "name": "stdout"
        }
      ]
    },
    {
      "cell_type": "code",
      "metadata": {
        "id": "nlVF0hR3j2UW"
      },
      "source": [
        "from keras.callbacks import ModelCheckpoint\n",
        "def do_cross_validation(X,y):\n",
        "    cv_scores = []\n",
        "    fold=0\n",
        "    mycallbacks = [ModelCheckpoint(\n",
        "        filepath=MODELPATH, save_best_only=True, \n",
        "        monitor='val_accuracy', mode='max')]   \n",
        "    splitter = KFold(n_splits=SPLITS)  # this does not shuffle\n",
        "    for train_index,valid_index in splitter.split(X):\n",
        "        if fold < FOLDS:\n",
        "            fold += 1\n",
        "            X_train=X[train_index] # inputs for training\n",
        "            y_train=y[train_index] # labels for training\n",
        "            X_valid=X[valid_index] # inputs for validation\n",
        "            y_valid=y[valid_index] # labels for validation\n",
        "            print(\"MODEL\")\n",
        "            # Call constructor on each CV. Else, continually improves the same model.\n",
        "            model = model = make_DNN()\n",
        "            print(\"FIT\")  # model.fit() implements learning\n",
        "            start_time=time.time()\n",
        "            history=model.fit(X_train, y_train, \n",
        "                    epochs=EPOCHS, \n",
        "                    verbose=1,  # ascii art while learning\n",
        "                    callbacks=mycallbacks,   # called at end of each epoch\n",
        "                    validation_data=(X_valid,y_valid))\n",
        "            end_time=time.time()\n",
        "            elapsed_time=(end_time-start_time)                        \n",
        "            print(\"Fold %d, %d epochs, %d sec\"%(fold,EPOCHS,elapsed_time))\n",
        "            # print(history.history.keys())  # all these keys will be shown in figure\n",
        "            pd.DataFrame(history.history).plot(figsize=(8,5))\n",
        "            plt.grid(True)\n",
        "            plt.gca().set_ylim(0,1) # any losses > 1 will be off the scale\n",
        "            plt.show()\n"
      ],
      "execution_count": 8,
      "outputs": []
    },
    {
      "cell_type": "code",
      "metadata": {
        "colab": {
          "base_uri": "https://localhost:8080/",
          "height": 1000
        },
        "id": "9Ggt4EsSj2UY",
        "outputId": "dc1b7b36-eeaa-4e22-fbb0-0ffe0479af63"
      },
      "source": [
        "do_cross_validation(X,y)"
      ],
      "execution_count": null,
      "outputs": [
        {
          "output_type": "stream",
          "text": [
            "MODEL\n",
            "make_DNN\n",
            "input shape: (1000, 4)\n",
            "FIT\n",
            "Epoch 1/10\n",
            "1000/1000 [==============================] - 100s 100ms/step - loss: 0.6893 - accuracy: 0.5586 - val_loss: 0.6093 - val_accuracy: 0.6706\n",
            "INFO:tensorflow:Assets written to: BestModel/assets\n",
            "Epoch 2/10\n",
            "1000/1000 [==============================] - 99s 99ms/step - loss: 0.5729 - accuracy: 0.7058 - val_loss: 0.5914 - val_accuracy: 0.6871\n",
            "INFO:tensorflow:Assets written to: BestModel/assets\n",
            "Epoch 3/10\n",
            "1000/1000 [==============================] - 100s 100ms/step - loss: 0.4900 - accuracy: 0.7697 - val_loss: 0.5984 - val_accuracy: 0.6881\n",
            "INFO:tensorflow:Assets written to: BestModel/assets\n",
            "Epoch 4/10\n",
            "1000/1000 [==============================] - 101s 101ms/step - loss: 0.4238 - accuracy: 0.8119 - val_loss: 0.6209 - val_accuracy: 0.6900\n",
            "INFO:tensorflow:Assets written to: BestModel/assets\n",
            "Epoch 5/10\n",
            "1000/1000 [==============================] - 100s 100ms/step - loss: 0.3600 - accuracy: 0.8505 - val_loss: 0.6239 - val_accuracy: 0.6977\n",
            "INFO:tensorflow:Assets written to: BestModel/assets\n",
            "Epoch 6/10\n",
            "1000/1000 [==============================] - 100s 100ms/step - loss: 0.3142 - accuracy: 0.8740 - val_loss: 0.6329 - val_accuracy: 0.7011\n",
            "INFO:tensorflow:Assets written to: BestModel/assets\n",
            "Epoch 7/10\n",
            "1000/1000 [==============================] - 101s 101ms/step - loss: 0.2828 - accuracy: 0.8884 - val_loss: 0.6879 - val_accuracy: 0.6911\n",
            "Epoch 8/10\n",
            "1000/1000 [==============================] - 101s 101ms/step - loss: 0.2632 - accuracy: 0.8993 - val_loss: 0.7015 - val_accuracy: 0.6909\n",
            "Epoch 9/10\n",
            "1000/1000 [==============================] - 101s 101ms/step - loss: 0.2418 - accuracy: 0.9078 - val_loss: 0.7065 - val_accuracy: 0.6954\n",
            "Epoch 10/10\n",
            "1000/1000 [==============================] - 101s 101ms/step - loss: 0.2224 - accuracy: 0.9185 - val_loss: 0.7183 - val_accuracy: 0.6965\n",
            "Fold 1, 10 epochs, 1007 sec\n"
          ],
          "name": "stdout"
        },
        {
          "output_type": "display_data",
          "data": {
            "image/png": "[encoded data removed]",
            "text/plain": [
              "<Figure size 576x360 with 1 Axes>"
            ]
          },
          "metadata": {
            "tags": [],
            "needs_background": "light"
          }
        },
        {
          "output_type": "stream",
          "text": [
            "MODEL\n",
            "make_DNN\n",
            "input shape: (1000, 4)\n",
            "FIT\n",
            "Epoch 1/10\n",
            "1000/1000 [==============================] - 98s 98ms/step - loss: 0.6588 - accuracy: 0.6071 - val_loss: 0.6007 - val_accuracy: 0.6776\n",
            "Epoch 2/10\n",
            " 207/1000 [=====>........................] - ETA: 1:12 - loss: 0.5353 - accuracy: 0.7342"
          ],
          "name": "stdout"
        }
      ]
    },
    {
      "cell_type": "code",
      "metadata": {
        "id": "e-jG1h5fj2Ua"
      },
      "source": [
        "from keras.models import load_model\n",
        "pc_test = pc_sim.get_sequences(PC_TESTS)\n",
        "nc_test = nc_sim.get_sequences(NC_TESTS)\n",
        "X,y = prepare_inputs_len_x_alphabet(pc_test,nc_test,ALPHABET)\n",
        "best_model=load_model(MODELPATH)\n",
        "scores = best_model.evaluate(X, y, verbose=0)\n",
        "print(\"The best model parameters were saved during cross-validation.\")\n",
        "print(\"Best was defined as maximum validation accuracy at end of any epoch.\")\n",
        "print(\"Now re-load the best model and test it on previously unseen data.\")\n",
        "print(\"Test on\",len(pc_test),\"PC seqs\")\n",
        "print(\"Test on\",len(nc_test),\"NC seqs\")\n",
        "print(\"%s: %.2f%%\" % (best_model.metrics_names[1], scores[1]*100))\n"
      ],
      "execution_count": null,
      "outputs": []
    },
    {
      "cell_type": "code",
      "metadata": {
        "id": "VycUnmvUj2Ue"
      },
      "source": [
        "from sklearn.metrics import roc_curve\n",
        "from sklearn.metrics import roc_auc_score\n",
        "ns_probs = [0 for _ in range(len(y))]\n",
        "bm_probs = best_model.predict(X)\n",
        "ns_auc = roc_auc_score(y, ns_probs)\n",
        "bm_auc = roc_auc_score(y, bm_probs)\n",
        "ns_fpr, ns_tpr, _ = roc_curve(y, ns_probs)\n",
        "bm_fpr, bm_tpr, _ = roc_curve(y, bm_probs)\n",
        "plt.plot(ns_fpr, ns_tpr, linestyle='--', label='Guess, auc=%.4f'%ns_auc)\n",
        "plt.plot(bm_fpr, bm_tpr, marker='.', label='Model, auc=%.4f'%bm_auc)\n",
        "plt.title('ROC')\n",
        "plt.xlabel('False Positive Rate')\n",
        "plt.ylabel('True Positive Rate')\n",
        "plt.legend()\n",
        "plt.show()\n",
        "print(\"%s: %.2f%%\" %('AUC',bm_auc))\n"
      ],
      "execution_count": null,
      "outputs": []
    },
    {
      "cell_type": "code",
      "metadata": {
        "id": "kFMb6rGNj2Ug"
      },
      "source": [
        ""
      ],
      "execution_count": null,
      "outputs": []
    }
  ]
}