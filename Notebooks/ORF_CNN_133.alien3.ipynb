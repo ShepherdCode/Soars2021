{
 "cells": [
  {
   "cell_type": "markdown",
   "metadata": {
    "id": "0asdcdunj2Tx"
   },
   "source": [
    "# ORF recognition by CNN\n",
    "\n",
    "Alien with libcudnn8 after clear cache."
   ]
  },
  {
   "cell_type": "code",
   "execution_count": 1,
   "metadata": {
    "colab": {
     "base_uri": "https://localhost:8080/",
     "height": 36
    },
    "id": "QP1VTRNQj2UO",
    "outputId": "66fd0478-db19-4e13-9b89-0157b7b46502"
   },
   "outputs": [
    {
     "data": {
      "text/plain": [
       "'2021-08-12 08:23:21 EDT'"
      ]
     },
     "execution_count": 1,
     "metadata": {},
     "output_type": "execute_result"
    }
   ],
   "source": [
    "import time \n",
    "t = time.time()\n",
    "time.strftime('%Y-%m-%d %H:%M:%S %Z', time.localtime(t))"
   ]
  },
  {
   "cell_type": "code",
   "execution_count": 2,
   "metadata": {
    "id": "Nhz4GKonj2T_"
   },
   "outputs": [],
   "source": [
    "PC_SEQUENCES=10000   # how many protein-coding sequences\n",
    "NC_SEQUENCES=10000   # how many non-coding sequences\n",
    "PC_TESTS=1000\n",
    "NC_TESTS=1000\n",
    "RNA_LEN=32            # how long is each sequence\n",
    "CDS_LEN=16            # min CDS len to be coding\n",
    "ALPHABET=4          # how many different letters are possible\n",
    "INPUT_SHAPE_2D = (RNA_LEN,ALPHABET,1) # Conv2D needs 3D inputs\n",
    "INPUT_SHAPE = (RNA_LEN,ALPHABET) # Conv1D needs 2D inputs\n",
    "FILTERS = 16   # how many different patterns the model looks for\n",
    "NEURONS = 16\n",
    "DROP_RATE = 0.0\n",
    "WIDTH = 3   # how wide each pattern is, in bases\n",
    "STRIDE_2D = (1,1)  # For Conv2D how far in each direction\n",
    "STRIDE = 1 # For Conv1D, how far between pattern matches, in bases\n",
    "EPOCHS=100  # how many times to train on all the data\n",
    "SPLITS=3  # SPLITS=3 means train on 2/3 and validate on 1/3 \n",
    "FOLDS=3  # train the model this many times (range 1 to SPLITS)"
   ]
  },
  {
   "cell_type": "code",
   "execution_count": 3,
   "metadata": {
    "colab": {
     "base_uri": "https://localhost:8080/"
    },
    "id": "lr7q90rxj2UE",
    "outputId": "7f7d77a7-1759-47ac-e59d-9f4c2b62da3f"
   },
   "outputs": [
    {
     "name": "stdout",
     "output_type": "stream",
     "text": [
      "CoLab not working. On my PC, use relative paths.\n"
     ]
    }
   ],
   "source": [
    "import sys\n",
    "IN_COLAB = False\n",
    "try:\n",
    "    from google.colab import drive\n",
    "    IN_COLAB = True\n",
    "except:\n",
    "    pass\n",
    "if IN_COLAB:\n",
    "    print(\"On Google CoLab, mount cloud-local file, get our code from GitHub.\")\n",
    "    PATH='/content/drive/'\n",
    "    #drive.mount(PATH,force_remount=True)  # hardly ever need this\n",
    "    #drive.mount(PATH)    # Google will require login credentials\n",
    "    DATAPATH=PATH+'My Drive/data/'  # must end in \"/\"\n",
    "    import requests\n",
    "    r = requests.get('https://raw.githubusercontent.com/ShepherdCode/Soars2021/master/SimTools/RNA_describe.py')\n",
    "    with open('RNA_describe.py', 'w') as f:\n",
    "        f.write(r.text)  \n",
    "    from RNA_describe import ORF_counter\n",
    "    from RNA_describe import Random_Base_Oracle\n",
    "    r = requests.get('https://raw.githubusercontent.com/ShepherdCode/Soars2021/master/SimTools/RNA_prep.py')\n",
    "    with open('RNA_prep.py', 'w') as f:\n",
    "        f.write(r.text)  \n",
    "    from RNA_prep import prepare_inputs_len_x_alphabet\n",
    "else:\n",
    "        print(\"CoLab not working. On my PC, use relative paths.\")\n",
    "        DATAPATH='data/'  # must end in \"/\"\n",
    "        sys.path.append(\"..\") # append parent dir in order to use sibling dirs\n",
    "        from SimTools.RNA_describe import ORF_counter,Random_Base_Oracle\n",
    "        from SimTools.RNA_prep import prepare_inputs_len_x_alphabet\n",
    "\n",
    "MODELPATH=\"BestModel\"  # saved on cloud instance and lost after logout\n",
    "#MODELPATH=DATAPATH+MODELPATH  # saved on Google Drive but requires login"
   ]
  },
  {
   "cell_type": "code",
   "execution_count": 4,
   "metadata": {
    "id": "EGDXH8Uwj2UM"
   },
   "outputs": [
    {
     "name": "stderr",
     "output_type": "stream",
     "text": [
      "2021-08-12 08:23:21.727487: I tensorflow/stream_executor/platform/default/dso_loader.cc:53] Successfully opened dynamic library libcudart.so.11.0\n"
     ]
    }
   ],
   "source": [
    "from os import listdir\n",
    "import csv\n",
    "from zipfile import ZipFile\n",
    "\n",
    "import numpy as np\n",
    "import pandas as pd\n",
    "from scipy import stats  # mode\n",
    "\n",
    "from sklearn.preprocessing import StandardScaler\n",
    "from sklearn.model_selection import KFold\n",
    "from sklearn.model_selection import cross_val_score\n",
    "\n",
    "from keras.models import Sequential\n",
    "from keras.layers import Dense,Embedding,Dropout\n",
    "from keras.layers import Conv1D,Conv2D\n",
    "from keras.layers import Flatten,MaxPooling1D,MaxPooling2D\n",
    "from keras.losses import BinaryCrossentropy\n",
    "# tf.keras.losses.BinaryCrossentropy\n",
    "\n",
    "import matplotlib.pyplot as plt\n",
    "from matplotlib import colors\n",
    "mycmap = colors.ListedColormap(['red','blue'])  # list color for label 0 then 1\n",
    "np.set_printoptions(precision=2)\n"
   ]
  },
  {
   "cell_type": "code",
   "execution_count": 5,
   "metadata": {
    "colab": {
     "base_uri": "https://localhost:8080/"
    },
    "id": "CUOG_jEvGtOm",
    "outputId": "a342fb5a-b2e6-4674-a799-d2177b7f64b2"
   },
   "outputs": [
    {
     "name": "stdout",
     "output_type": "stream",
     "text": [
      "It took 27 trials to reach 10 per class.\n",
      "It took 48295 trials to reach 11000 per class.\n",
      "Use 11000 PC seqs\n",
      "Use 11000 NC seqs\n"
     ]
    }
   ],
   "source": [
    "rbo=Random_Base_Oracle(RNA_LEN,True)\n",
    "pc_all,nc_all = rbo.get_partitioned_sequences(CDS_LEN,10) # just testing\n",
    "pc_all,nc_all = rbo.get_partitioned_sequences(CDS_LEN,PC_SEQUENCES+PC_TESTS)\n",
    "print(\"Use\",len(pc_all),\"PC seqs\")\n",
    "print(\"Use\",len(nc_all),\"NC seqs\")"
   ]
  },
  {
   "cell_type": "code",
   "execution_count": 6,
   "metadata": {
    "colab": {
     "base_uri": "https://localhost:8080/"
    },
    "id": "Q-BmSXi2jUyl",
    "outputId": "7f824184-ea1e-4de6-ba13-9c4e1b92c530"
   },
   "outputs": [
    {
     "name": "stdout",
     "output_type": "stream",
     "text": [
      "Simulated sequences prior to adjustment:\n",
      "PC seqs\n",
      "Average RNA length: 32.0\n",
      "Average ORF length: 19.638272727272728\n",
      "NC seqs\n",
      "Average RNA length: 32.0\n",
      "Average ORF length: 2.844\n"
     ]
    }
   ],
   "source": [
    "# Describe the sequences\n",
    "def describe_sequences(list_of_seq):\n",
    "    oc = ORF_counter()\n",
    "    num_seq = len(list_of_seq)\n",
    "    rna_lens = np.zeros(num_seq)\n",
    "    orf_lens = np.zeros(num_seq)\n",
    "    for i in range(0,num_seq):\n",
    "        rna_len = len(list_of_seq[i])\n",
    "        rna_lens[i] = rna_len\n",
    "        oc.set_sequence(list_of_seq[i])\n",
    "        orf_len = oc.get_max_orf_len()\n",
    "        orf_lens[i] = orf_len\n",
    "    print (\"Average RNA length:\",rna_lens.mean())\n",
    "    print (\"Average ORF length:\",orf_lens.mean())\n",
    "    \n",
    "print(\"Simulated sequences prior to adjustment:\")\n",
    "print(\"PC seqs\")\n",
    "describe_sequences(pc_all)\n",
    "print(\"NC seqs\")\n",
    "describe_sequences(nc_all)"
   ]
  },
  {
   "cell_type": "code",
   "execution_count": 7,
   "metadata": {
    "id": "iP1y7-J3jUys"
   },
   "outputs": [],
   "source": [
    "pc_train=pc_all[:PC_SEQUENCES]\n",
    "nc_train=nc_all[:NC_SEQUENCES]\n",
    "pc_test=pc_all[PC_SEQUENCES:]\n",
    "nc_test=nc_all[NC_SEQUENCES:]"
   ]
  },
  {
   "cell_type": "code",
   "execution_count": 8,
   "metadata": {
    "colab": {
     "base_uri": "https://localhost:8080/"
    },
    "id": "CIpTrnH6j2US",
    "outputId": "842858fe-eab4-4479-ed11-5a5cf6d3bf3d"
   },
   "outputs": [
    {
     "name": "stdout",
     "output_type": "stream",
     "text": [
      "Data ready.\n"
     ]
    }
   ],
   "source": [
    "# Use code from our SimTools library.\n",
    "X,y = prepare_inputs_len_x_alphabet(pc_train,nc_train,ALPHABET) # shuffles\n",
    "print(\"Data ready.\")"
   ]
  },
  {
   "cell_type": "code",
   "execution_count": 9,
   "metadata": {
    "colab": {
     "base_uri": "https://localhost:8080/"
    },
    "id": "7NvrVU8ij2UU",
    "outputId": "fc4f440d-f9f7-415c-f9bc-05ffd142cf63"
   },
   "outputs": [
    {
     "name": "stdout",
     "output_type": "stream",
     "text": [
      "make_DNN\n",
      "input shape: (32, 4)\n",
      "Model: \"sequential\"\n",
      "_________________________________________________________________\n",
      "Layer (type)                 Output Shape              Param #   \n",
      "=================================================================\n",
      "conv1d (Conv1D)              (None, 32, 16)            208       \n",
      "_________________________________________________________________\n",
      "conv1d_1 (Conv1D)            (None, 32, 16)            784       \n",
      "_________________________________________________________________\n",
      "max_pooling1d (MaxPooling1D) (None, 16, 16)            0         \n",
      "_________________________________________________________________\n",
      "conv1d_2 (Conv1D)            (None, 16, 16)            784       \n",
      "_________________________________________________________________\n",
      "conv1d_3 (Conv1D)            (None, 16, 16)            784       \n",
      "_________________________________________________________________\n",
      "max_pooling1d_1 (MaxPooling1 (None, 8, 16)             0         \n",
      "_________________________________________________________________\n",
      "flatten (Flatten)            (None, 128)               0         \n",
      "_________________________________________________________________\n",
      "dense (Dense)                (None, 16)                2064      \n",
      "_________________________________________________________________\n",
      "dropout (Dropout)            (None, 16)                0         \n",
      "_________________________________________________________________\n",
      "dense_1 (Dense)              (None, 1)                 17        \n",
      "=================================================================\n",
      "Total params: 4,641\n",
      "Trainable params: 4,641\n",
      "Non-trainable params: 0\n",
      "_________________________________________________________________\n",
      "None\n"
     ]
    },
    {
     "name": "stderr",
     "output_type": "stream",
     "text": [
      "2021-08-12 08:23:22.904594: I tensorflow/stream_executor/platform/default/dso_loader.cc:53] Successfully opened dynamic library libcuda.so.1\n",
      "2021-08-12 08:23:22.963955: I tensorflow/stream_executor/cuda/cuda_gpu_executor.cc:937] successful NUMA node read from SysFS had negative value (-1), but there must be at least one NUMA node, so returning NUMA node zero\n",
      "2021-08-12 08:23:22.964473: I tensorflow/core/common_runtime/gpu/gpu_device.cc:1733] Found device 0 with properties: \n",
      "pciBusID: 0000:02:00.0 name: NVIDIA GeForce RTX 2080 Ti computeCapability: 7.5\n",
      "coreClock: 1.545GHz coreCount: 68 deviceMemorySize: 10.75GiB deviceMemoryBandwidth: 573.69GiB/s\n",
      "2021-08-12 08:23:22.964495: I tensorflow/stream_executor/platform/default/dso_loader.cc:53] Successfully opened dynamic library libcudart.so.11.0\n",
      "2021-08-12 08:23:22.966316: I tensorflow/stream_executor/platform/default/dso_loader.cc:53] Successfully opened dynamic library libcublas.so.11\n",
      "2021-08-12 08:23:22.966340: I tensorflow/stream_executor/platform/default/dso_loader.cc:53] Successfully opened dynamic library libcublasLt.so.11\n",
      "2021-08-12 08:23:22.967400: I tensorflow/stream_executor/platform/default/dso_loader.cc:53] Successfully opened dynamic library libcufft.so.10\n",
      "2021-08-12 08:23:22.967562: I tensorflow/stream_executor/platform/default/dso_loader.cc:53] Successfully opened dynamic library libcurand.so.10\n",
      "2021-08-12 08:23:22.967839: I tensorflow/stream_executor/platform/default/dso_loader.cc:53] Successfully opened dynamic library libcusolver.so.11\n",
      "2021-08-12 08:23:22.968279: I tensorflow/stream_executor/platform/default/dso_loader.cc:53] Successfully opened dynamic library libcusparse.so.11\n",
      "2021-08-12 08:23:22.968353: I tensorflow/stream_executor/platform/default/dso_loader.cc:53] Successfully opened dynamic library libcudnn.so.8\n",
      "2021-08-12 08:23:22.968407: I tensorflow/stream_executor/cuda/cuda_gpu_executor.cc:937] successful NUMA node read from SysFS had negative value (-1), but there must be at least one NUMA node, so returning NUMA node zero\n",
      "2021-08-12 08:23:22.968899: I tensorflow/stream_executor/cuda/cuda_gpu_executor.cc:937] successful NUMA node read from SysFS had negative value (-1), but there must be at least one NUMA node, so returning NUMA node zero\n",
      "2021-08-12 08:23:22.969354: I tensorflow/core/common_runtime/gpu/gpu_device.cc:1871] Adding visible gpu devices: 0\n",
      "2021-08-12 08:23:22.969635: I tensorflow/core/platform/cpu_feature_guard.cc:142] This TensorFlow binary is optimized with oneAPI Deep Neural Network Library (oneDNN) to use the following CPU instructions in performance-critical operations:  AVX2 AVX512F FMA\n",
      "To enable them in other operations, rebuild TensorFlow with the appropriate compiler flags.\n",
      "2021-08-12 08:23:22.970455: I tensorflow/stream_executor/cuda/cuda_gpu_executor.cc:937] successful NUMA node read from SysFS had negative value (-1), but there must be at least one NUMA node, so returning NUMA node zero\n",
      "2021-08-12 08:23:22.971003: I tensorflow/core/common_runtime/gpu/gpu_device.cc:1733] Found device 0 with properties: \n",
      "pciBusID: 0000:02:00.0 name: NVIDIA GeForce RTX 2080 Ti computeCapability: 7.5\n",
      "coreClock: 1.545GHz coreCount: 68 deviceMemorySize: 10.75GiB deviceMemoryBandwidth: 573.69GiB/s\n",
      "2021-08-12 08:23:22.971038: I tensorflow/stream_executor/cuda/cuda_gpu_executor.cc:937] successful NUMA node read from SysFS had negative value (-1), but there must be at least one NUMA node, so returning NUMA node zero\n",
      "2021-08-12 08:23:22.971527: I tensorflow/stream_executor/cuda/cuda_gpu_executor.cc:937] successful NUMA node read from SysFS had negative value (-1), but there must be at least one NUMA node, so returning NUMA node zero\n",
      "2021-08-12 08:23:22.972001: I tensorflow/core/common_runtime/gpu/gpu_device.cc:1871] Adding visible gpu devices: 0\n",
      "2021-08-12 08:23:22.972020: I tensorflow/stream_executor/platform/default/dso_loader.cc:53] Successfully opened dynamic library libcudart.so.11.0\n",
      "2021-08-12 08:23:23.296748: I tensorflow/core/common_runtime/gpu/gpu_device.cc:1258] Device interconnect StreamExecutor with strength 1 edge matrix:\n",
      "2021-08-12 08:23:23.296772: I tensorflow/core/common_runtime/gpu/gpu_device.cc:1264]      0 \n",
      "2021-08-12 08:23:23.296775: I tensorflow/core/common_runtime/gpu/gpu_device.cc:1277] 0:   N \n",
      "2021-08-12 08:23:23.296936: I tensorflow/stream_executor/cuda/cuda_gpu_executor.cc:937] successful NUMA node read from SysFS had negative value (-1), but there must be at least one NUMA node, so returning NUMA node zero\n",
      "2021-08-12 08:23:23.297391: I tensorflow/stream_executor/cuda/cuda_gpu_executor.cc:937] successful NUMA node read from SysFS had negative value (-1), but there must be at least one NUMA node, so returning NUMA node zero\n",
      "2021-08-12 08:23:23.297813: I tensorflow/stream_executor/cuda/cuda_gpu_executor.cc:937] successful NUMA node read from SysFS had negative value (-1), but there must be at least one NUMA node, so returning NUMA node zero\n",
      "2021-08-12 08:23:23.298222: I tensorflow/core/common_runtime/gpu/gpu_device.cc:1418] Created TensorFlow device (/job:localhost/replica:0/task:0/device:GPU:0 with 9349 MB memory) -> physical GPU (device: 0, name: NVIDIA GeForce RTX 2080 Ti, pci bus id: 0000:02:00.0, compute capability: 7.5)\n"
     ]
    }
   ],
   "source": [
    "def make_DNN():\n",
    "    print(\"make_DNN\")\n",
    "    print(\"input shape:\",INPUT_SHAPE)\n",
    "    dnn = Sequential()\n",
    "    #dnn.add(Embedding(input_dim=INPUT_SHAPE,output_dim=INPUT_SHAPE)) \n",
    "    dnn.add(Conv1D(filters=FILTERS,kernel_size=WIDTH,strides=STRIDE,padding=\"same\",\n",
    "            input_shape=INPUT_SHAPE))\n",
    "    dnn.add(Conv1D(filters=FILTERS,kernel_size=WIDTH,strides=STRIDE,padding=\"same\"))\n",
    "    dnn.add(MaxPooling1D())\n",
    "    dnn.add(Conv1D(filters=FILTERS,kernel_size=WIDTH,strides=STRIDE,padding=\"same\"))\n",
    "    dnn.add(Conv1D(filters=FILTERS,kernel_size=WIDTH,strides=STRIDE,padding=\"same\"))\n",
    "    dnn.add(MaxPooling1D())\n",
    "    dnn.add(Flatten())\n",
    "    dnn.add(Dense(NEURONS,activation=\"sigmoid\",dtype=np.float32))   \n",
    "    dnn.add(Dropout(DROP_RATE))\n",
    "    dnn.add(Dense(1,activation=\"sigmoid\",dtype=np.float32))   \n",
    "    dnn.compile(optimizer='adam',\n",
    "                loss=BinaryCrossentropy(from_logits=False),\n",
    "                metrics=['accuracy'])   # add to default metrics=loss\n",
    "    dnn.build(input_shape=INPUT_SHAPE)\n",
    "    #ln_rate = tf.keras.optimizers.Adam(learning_rate = LN_RATE)\n",
    "    #bc=tf.keras.losses.BinaryCrossentropy(from_logits=False)\n",
    "    #model.compile(loss=bc, optimizer=ln_rate, metrics=[\"accuracy\"])\n",
    "    return dnn\n",
    "model = make_DNN()\n",
    "print(model.summary())"
   ]
  },
  {
   "cell_type": "code",
   "execution_count": 10,
   "metadata": {
    "id": "nlVF0hR3j2UW"
   },
   "outputs": [],
   "source": [
    "from keras.callbacks import ModelCheckpoint\n",
    "def do_cross_validation(X,y):\n",
    "    cv_scores = []\n",
    "    fold=0\n",
    "    mycallbacks = [ModelCheckpoint(\n",
    "        filepath=MODELPATH, save_best_only=True, \n",
    "        monitor='val_accuracy', mode='max')]   \n",
    "    splitter = KFold(n_splits=SPLITS)  # this does not shuffle\n",
    "    for train_index,valid_index in splitter.split(X):\n",
    "        if fold < FOLDS:\n",
    "            fold += 1\n",
    "            X_train=X[train_index] # inputs for training\n",
    "            y_train=y[train_index] # labels for training\n",
    "            X_valid=X[valid_index] # inputs for validation\n",
    "            y_valid=y[valid_index] # labels for validation\n",
    "            print(\"MODEL\")\n",
    "            # Call constructor on each CV. Else, continually improves the same model.\n",
    "            model = model = make_DNN()\n",
    "            print(\"FIT\")  # model.fit() implements learning\n",
    "            start_time=time.time()\n",
    "            history=model.fit(X_train, y_train, \n",
    "                    epochs=EPOCHS, \n",
    "                    verbose=1,  # ascii art while learning\n",
    "                    callbacks=mycallbacks,   # called at end of each epoch\n",
    "                    validation_data=(X_valid,y_valid))\n",
    "            end_time=time.time()\n",
    "            elapsed_time=(end_time-start_time)                        \n",
    "            print(\"Fold %d, %d epochs, %d sec\"%(fold,EPOCHS,elapsed_time))\n",
    "            # print(history.history.keys())  # all these keys will be shown in figure\n",
    "            pd.DataFrame(history.history).plot(figsize=(8,5))\n",
    "            plt.grid(True)\n",
    "            plt.gca().set_ylim(0,1) # any losses > 1 will be off the scale\n",
    "            plt.show()\n"
   ]
  },
  {
   "cell_type": "code",
   "execution_count": 11,
   "metadata": {
    "colab": {
     "base_uri": "https://localhost:8080/",
     "height": 1000
    },
    "id": "9Ggt4EsSj2UY",
    "outputId": "62162f1f-b5a2-401e-de35-15ccbe70a6ce"
   },
   "outputs": [
    {
     "name": "stdout",
     "output_type": "stream",
     "text": [
      "MODEL\n",
      "make_DNN\n",
      "input shape: (32, 4)\n",
      "FIT\n",
      "Epoch 1/100\n"
     ]
    },
    {
     "name": "stderr",
     "output_type": "stream",
     "text": [
      "2021-08-12 08:23:23.531924: I tensorflow/compiler/mlir/mlir_graph_optimization_pass.cc:176] None of the MLIR Optimization Passes are enabled (registered 2)\n",
      "2021-08-12 08:23:23.556149: I tensorflow/core/platform/profile_utils/cpu_utils.cc:114] CPU Frequency: 2496000000 Hz\n",
      "2021-08-12 08:23:30.300159: I tensorflow/stream_executor/platform/default/dso_loader.cc:53] Successfully opened dynamic library libcudnn.so.8\n",
      "2021-08-12 08:23:30.456550: I tensorflow/stream_executor/cuda/cuda_dnn.cc:359] Loaded cuDNN version 8202\n",
      "2021-08-12 08:23:30.793773: I tensorflow/stream_executor/platform/default/dso_loader.cc:53] Successfully opened dynamic library libcublas.so.11\n"
     ]
    },
    {
     "name": "stdout",
     "output_type": "stream",
     "text": [
      " 29/417 [=>............................] - ETA: 0s - loss: 0.7314 - accuracy: 0.5376   "
     ]
    },
    {
     "name": "stderr",
     "output_type": "stream",
     "text": [
      "2021-08-12 08:23:31.119997: I tensorflow/stream_executor/platform/default/dso_loader.cc:53] Successfully opened dynamic library libcublasLt.so.11\n"
     ]
    },
    {
     "name": "stdout",
     "output_type": "stream",
     "text": [
      "417/417 [==============================] - 9s 3ms/step - loss: 0.6702 - accuracy: 0.5863 - val_loss: 0.5458 - val_accuracy: 0.7393\n"
     ]
    },
    {
     "name": "stderr",
     "output_type": "stream",
     "text": [
      "2021-08-12 08:23:32.618259: W tensorflow/python/util/util.cc:348] Sets are not currently considered sequences, but this may change in the future, so consider avoiding using them.\n"
     ]
    },
    {
     "name": "stdout",
     "output_type": "stream",
     "text": [
      "INFO:tensorflow:Assets written to: BestModel/assets\n",
      "Epoch 2/100\n",
      "417/417 [==============================] - 1s 2ms/step - loss: 0.5319 - accuracy: 0.7493 - val_loss: 0.4807 - val_accuracy: 0.7882\n",
      "INFO:tensorflow:Assets written to: BestModel/assets\n",
      "Epoch 3/100\n",
      "417/417 [==============================] - 1s 2ms/step - loss: 0.4600 - accuracy: 0.7922 - val_loss: 0.4288 - val_accuracy: 0.8128\n",
      "INFO:tensorflow:Assets written to: BestModel/assets\n",
      "Epoch 4/100\n",
      "417/417 [==============================] - 1s 2ms/step - loss: 0.4130 - accuracy: 0.8143 - val_loss: 0.3944 - val_accuracy: 0.8262\n",
      "INFO:tensorflow:Assets written to: BestModel/assets\n",
      "Epoch 5/100\n",
      "417/417 [==============================] - 1s 2ms/step - loss: 0.3712 - accuracy: 0.8337 - val_loss: 0.3795 - val_accuracy: 0.8287\n",
      "INFO:tensorflow:Assets written to: BestModel/assets\n",
      "Epoch 6/100\n",
      "417/417 [==============================] - 1s 2ms/step - loss: 0.3481 - accuracy: 0.8439 - val_loss: 0.3619 - val_accuracy: 0.8335\n",
      "INFO:tensorflow:Assets written to: BestModel/assets\n",
      "Epoch 7/100\n",
      "417/417 [==============================] - 1s 2ms/step - loss: 0.3263 - accuracy: 0.8532 - val_loss: 0.3480 - val_accuracy: 0.8430\n",
      "INFO:tensorflow:Assets written to: BestModel/assets\n",
      "Epoch 8/100\n",
      "417/417 [==============================] - 1s 2ms/step - loss: 0.3025 - accuracy: 0.8628 - val_loss: 0.3410 - val_accuracy: 0.8479\n",
      "INFO:tensorflow:Assets written to: BestModel/assets\n",
      "Epoch 9/100\n",
      "417/417 [==============================] - 1s 2ms/step - loss: 0.2944 - accuracy: 0.8693 - val_loss: 0.3301 - val_accuracy: 0.8580\n",
      "INFO:tensorflow:Assets written to: BestModel/assets\n",
      "Epoch 10/100\n",
      "417/417 [==============================] - 1s 2ms/step - loss: 0.2784 - accuracy: 0.8831 - val_loss: 0.3215 - val_accuracy: 0.8620\n",
      "INFO:tensorflow:Assets written to: BestModel/assets\n",
      "Epoch 11/100\n",
      "417/417 [==============================] - 1s 2ms/step - loss: 0.2699 - accuracy: 0.8886 - val_loss: 0.3197 - val_accuracy: 0.8641\n",
      "INFO:tensorflow:Assets written to: BestModel/assets\n",
      "Epoch 12/100\n",
      "417/417 [==============================] - 1s 2ms/step - loss: 0.2526 - accuracy: 0.8984 - val_loss: 0.3084 - val_accuracy: 0.8658\n",
      "INFO:tensorflow:Assets written to: BestModel/assets\n",
      "Epoch 13/100\n",
      "417/417 [==============================] - 1s 2ms/step - loss: 0.2433 - accuracy: 0.9072 - val_loss: 0.3015 - val_accuracy: 0.8704\n",
      "INFO:tensorflow:Assets written to: BestModel/assets\n",
      "Epoch 14/100\n",
      "417/417 [==============================] - 1s 2ms/step - loss: 0.2351 - accuracy: 0.9074 - val_loss: 0.3016 - val_accuracy: 0.8695\n",
      "Epoch 15/100\n",
      "417/417 [==============================] - 1s 2ms/step - loss: 0.2221 - accuracy: 0.9122 - val_loss: 0.2964 - val_accuracy: 0.8692\n",
      "Epoch 16/100\n",
      "417/417 [==============================] - 1s 2ms/step - loss: 0.2085 - accuracy: 0.9210 - val_loss: 0.3006 - val_accuracy: 0.8734\n",
      "INFO:tensorflow:Assets written to: BestModel/assets\n",
      "Epoch 17/100\n",
      "417/417 [==============================] - 1s 2ms/step - loss: 0.2086 - accuracy: 0.9204 - val_loss: 0.2919 - val_accuracy: 0.8707\n",
      "Epoch 18/100\n",
      "417/417 [==============================] - 1s 2ms/step - loss: 0.2012 - accuracy: 0.9215 - val_loss: 0.2900 - val_accuracy: 0.8778\n",
      "INFO:tensorflow:Assets written to: BestModel/assets\n",
      "Epoch 19/100\n",
      "417/417 [==============================] - 1s 2ms/step - loss: 0.1949 - accuracy: 0.9267 - val_loss: 0.2902 - val_accuracy: 0.8776\n",
      "Epoch 20/100\n",
      "417/417 [==============================] - 1s 2ms/step - loss: 0.1819 - accuracy: 0.9262 - val_loss: 0.2930 - val_accuracy: 0.8766\n",
      "Epoch 21/100\n",
      "417/417 [==============================] - 1s 2ms/step - loss: 0.1822 - accuracy: 0.9307 - val_loss: 0.2871 - val_accuracy: 0.8814\n",
      "INFO:tensorflow:Assets written to: BestModel/assets\n",
      "Epoch 22/100\n",
      "417/417 [==============================] - 1s 2ms/step - loss: 0.1745 - accuracy: 0.9327 - val_loss: 0.2840 - val_accuracy: 0.8802\n",
      "Epoch 23/100\n",
      "417/417 [==============================] - 1s 2ms/step - loss: 0.1740 - accuracy: 0.9343 - val_loss: 0.2886 - val_accuracy: 0.8812\n",
      "Epoch 24/100\n",
      "417/417 [==============================] - 1s 2ms/step - loss: 0.1633 - accuracy: 0.9387 - val_loss: 0.2925 - val_accuracy: 0.8794\n",
      "Epoch 25/100\n",
      "417/417 [==============================] - 1s 2ms/step - loss: 0.1596 - accuracy: 0.9394 - val_loss: 0.2865 - val_accuracy: 0.8808\n",
      "Epoch 26/100\n",
      "417/417 [==============================] - 1s 2ms/step - loss: 0.1570 - accuracy: 0.9399 - val_loss: 0.2921 - val_accuracy: 0.8812\n",
      "Epoch 27/100\n",
      "417/417 [==============================] - 1s 2ms/step - loss: 0.1559 - accuracy: 0.9391 - val_loss: 0.2970 - val_accuracy: 0.8763\n",
      "Epoch 28/100\n",
      "417/417 [==============================] - 1s 2ms/step - loss: 0.1537 - accuracy: 0.9416 - val_loss: 0.3051 - val_accuracy: 0.8824\n",
      "INFO:tensorflow:Assets written to: BestModel/assets\n",
      "Epoch 29/100\n",
      "417/417 [==============================] - 1s 2ms/step - loss: 0.1441 - accuracy: 0.9494 - val_loss: 0.2963 - val_accuracy: 0.8781\n",
      "Epoch 30/100\n",
      "417/417 [==============================] - 1s 2ms/step - loss: 0.1393 - accuracy: 0.9486 - val_loss: 0.2864 - val_accuracy: 0.8823\n",
      "Epoch 31/100\n",
      "417/417 [==============================] - 1s 2ms/step - loss: 0.1383 - accuracy: 0.9498 - val_loss: 0.3155 - val_accuracy: 0.8665\n",
      "Epoch 32/100\n",
      "417/417 [==============================] - 1s 2ms/step - loss: 0.1390 - accuracy: 0.9487 - val_loss: 0.2937 - val_accuracy: 0.8869\n",
      "INFO:tensorflow:Assets written to: BestModel/assets\n",
      "Epoch 33/100\n",
      "417/417 [==============================] - 1s 2ms/step - loss: 0.1277 - accuracy: 0.9538 - val_loss: 0.2979 - val_accuracy: 0.8848\n",
      "Epoch 34/100\n",
      "417/417 [==============================] - 1s 2ms/step - loss: 0.1340 - accuracy: 0.9522 - val_loss: 0.2970 - val_accuracy: 0.8871\n",
      "INFO:tensorflow:Assets written to: BestModel/assets\n",
      "Epoch 35/100\n",
      "417/417 [==============================] - 1s 2ms/step - loss: 0.1234 - accuracy: 0.9550 - val_loss: 0.3011 - val_accuracy: 0.8857\n",
      "Epoch 36/100\n",
      "417/417 [==============================] - 1s 2ms/step - loss: 0.1206 - accuracy: 0.9574 - val_loss: 0.3055 - val_accuracy: 0.8809\n",
      "Epoch 37/100\n",
      "417/417 [==============================] - 1s 2ms/step - loss: 0.1185 - accuracy: 0.9589 - val_loss: 0.3024 - val_accuracy: 0.8838\n",
      "Epoch 38/100\n",
      "417/417 [==============================] - 1s 2ms/step - loss: 0.1149 - accuracy: 0.9605 - val_loss: 0.3099 - val_accuracy: 0.8821\n",
      "Epoch 39/100\n",
      "417/417 [==============================] - 1s 2ms/step - loss: 0.1193 - accuracy: 0.9550 - val_loss: 0.3018 - val_accuracy: 0.8881\n",
      "INFO:tensorflow:Assets written to: BestModel/assets\n",
      "Epoch 40/100\n",
      "417/417 [==============================] - 1s 2ms/step - loss: 0.1200 - accuracy: 0.9563 - val_loss: 0.3096 - val_accuracy: 0.8818\n",
      "Epoch 41/100\n",
      "417/417 [==============================] - 1s 2ms/step - loss: 0.1118 - accuracy: 0.9602 - val_loss: 0.3172 - val_accuracy: 0.8734\n",
      "Epoch 42/100\n",
      "417/417 [==============================] - 1s 2ms/step - loss: 0.1149 - accuracy: 0.9602 - val_loss: 0.3212 - val_accuracy: 0.8820\n",
      "Epoch 43/100\n",
      "417/417 [==============================] - 1s 2ms/step - loss: 0.1153 - accuracy: 0.9598 - val_loss: 0.3242 - val_accuracy: 0.8854\n",
      "Epoch 44/100\n",
      "417/417 [==============================] - 1s 2ms/step - loss: 0.1073 - accuracy: 0.9609 - val_loss: 0.3161 - val_accuracy: 0.8857\n",
      "Epoch 45/100\n",
      "417/417 [==============================] - 1s 2ms/step - loss: 0.1066 - accuracy: 0.9604 - val_loss: 0.3171 - val_accuracy: 0.8841\n",
      "Epoch 46/100\n",
      "417/417 [==============================] - 1s 2ms/step - loss: 0.1043 - accuracy: 0.9648 - val_loss: 0.3212 - val_accuracy: 0.8866\n",
      "Epoch 47/100\n",
      "417/417 [==============================] - 1s 2ms/step - loss: 0.1058 - accuracy: 0.9643 - val_loss: 0.3252 - val_accuracy: 0.8767\n",
      "Epoch 48/100\n",
      "417/417 [==============================] - 1s 2ms/step - loss: 0.1118 - accuracy: 0.9617 - val_loss: 0.3184 - val_accuracy: 0.8808\n",
      "Epoch 49/100\n",
      "417/417 [==============================] - 1s 2ms/step - loss: 0.1052 - accuracy: 0.9632 - val_loss: 0.3303 - val_accuracy: 0.8836\n",
      "Epoch 50/100\n",
      "417/417 [==============================] - 1s 2ms/step - loss: 0.0963 - accuracy: 0.9687 - val_loss: 0.3200 - val_accuracy: 0.8823\n",
      "Epoch 51/100\n",
      "417/417 [==============================] - 1s 2ms/step - loss: 0.1082 - accuracy: 0.9615 - val_loss: 0.3311 - val_accuracy: 0.8859\n"
     ]
    },
    {
     "name": "stdout",
     "output_type": "stream",
     "text": [
      "Epoch 52/100\n",
      "417/417 [==============================] - 1s 2ms/step - loss: 0.0988 - accuracy: 0.9686 - val_loss: 0.3263 - val_accuracy: 0.8878\n",
      "Epoch 53/100\n",
      "417/417 [==============================] - 1s 2ms/step - loss: 0.1024 - accuracy: 0.9624 - val_loss: 0.3306 - val_accuracy: 0.8845\n",
      "Epoch 54/100\n",
      "417/417 [==============================] - 1s 2ms/step - loss: 0.0963 - accuracy: 0.9672 - val_loss: 0.3198 - val_accuracy: 0.8824\n",
      "Epoch 55/100\n",
      "417/417 [==============================] - 1s 2ms/step - loss: 0.0906 - accuracy: 0.9718 - val_loss: 0.3314 - val_accuracy: 0.8824\n",
      "Epoch 56/100\n",
      "417/417 [==============================] - 1s 2ms/step - loss: 0.0923 - accuracy: 0.9690 - val_loss: 0.3342 - val_accuracy: 0.8808\n",
      "Epoch 57/100\n",
      "417/417 [==============================] - 1s 2ms/step - loss: 0.0879 - accuracy: 0.9716 - val_loss: 0.3292 - val_accuracy: 0.8799\n",
      "Epoch 58/100\n",
      "417/417 [==============================] - 1s 2ms/step - loss: 0.1034 - accuracy: 0.9618 - val_loss: 0.3439 - val_accuracy: 0.8809\n",
      "Epoch 59/100\n",
      "417/417 [==============================] - 1s 2ms/step - loss: 0.0944 - accuracy: 0.9677 - val_loss: 0.3493 - val_accuracy: 0.8841\n",
      "Epoch 60/100\n",
      "417/417 [==============================] - 1s 2ms/step - loss: 0.0906 - accuracy: 0.9708 - val_loss: 0.3435 - val_accuracy: 0.8773\n",
      "Epoch 61/100\n",
      "417/417 [==============================] - 1s 2ms/step - loss: 0.0851 - accuracy: 0.9735 - val_loss: 0.3487 - val_accuracy: 0.8823\n",
      "Epoch 62/100\n",
      "417/417 [==============================] - 1s 2ms/step - loss: 0.0883 - accuracy: 0.9698 - val_loss: 0.3514 - val_accuracy: 0.8850\n",
      "Epoch 63/100\n",
      "417/417 [==============================] - 1s 2ms/step - loss: 0.0862 - accuracy: 0.9716 - val_loss: 0.3537 - val_accuracy: 0.8802\n",
      "Epoch 64/100\n",
      "417/417 [==============================] - 1s 2ms/step - loss: 0.0825 - accuracy: 0.9736 - val_loss: 0.3525 - val_accuracy: 0.8791\n",
      "Epoch 65/100\n",
      "417/417 [==============================] - 1s 2ms/step - loss: 0.0959 - accuracy: 0.9649 - val_loss: 0.3537 - val_accuracy: 0.8791\n",
      "Epoch 66/100\n",
      "417/417 [==============================] - 1s 2ms/step - loss: 0.0793 - accuracy: 0.9754 - val_loss: 0.3525 - val_accuracy: 0.8839\n",
      "Epoch 67/100\n",
      "417/417 [==============================] - 1s 2ms/step - loss: 0.0857 - accuracy: 0.9697 - val_loss: 0.3539 - val_accuracy: 0.8820\n",
      "Epoch 68/100\n",
      "417/417 [==============================] - 1s 2ms/step - loss: 0.0888 - accuracy: 0.9701 - val_loss: 0.3642 - val_accuracy: 0.8758\n",
      "Epoch 69/100\n",
      "417/417 [==============================] - 1s 2ms/step - loss: 0.0824 - accuracy: 0.9729 - val_loss: 0.3506 - val_accuracy: 0.8859\n",
      "Epoch 70/100\n",
      "417/417 [==============================] - 1s 2ms/step - loss: 0.0789 - accuracy: 0.9752 - val_loss: 0.3693 - val_accuracy: 0.8848\n",
      "Epoch 71/100\n",
      "417/417 [==============================] - 1s 2ms/step - loss: 0.0830 - accuracy: 0.9715 - val_loss: 0.3694 - val_accuracy: 0.8812\n",
      "Epoch 72/100\n",
      "417/417 [==============================] - 1s 2ms/step - loss: 0.0829 - accuracy: 0.9711 - val_loss: 0.3590 - val_accuracy: 0.8856\n",
      "Epoch 73/100\n",
      "417/417 [==============================] - 1s 2ms/step - loss: 0.0768 - accuracy: 0.9748 - val_loss: 0.3495 - val_accuracy: 0.8862\n",
      "Epoch 74/100\n",
      "417/417 [==============================] - 1s 2ms/step - loss: 0.0842 - accuracy: 0.9712 - val_loss: 0.3529 - val_accuracy: 0.8862\n",
      "Epoch 75/100\n",
      "417/417 [==============================] - 1s 2ms/step - loss: 0.0845 - accuracy: 0.9721 - val_loss: 0.3676 - val_accuracy: 0.8793\n",
      "Epoch 76/100\n",
      "417/417 [==============================] - 1s 2ms/step - loss: 0.0781 - accuracy: 0.9729 - val_loss: 0.3521 - val_accuracy: 0.8848\n",
      "Epoch 77/100\n",
      "417/417 [==============================] - 1s 2ms/step - loss: 0.0786 - accuracy: 0.9745 - val_loss: 0.3769 - val_accuracy: 0.8838\n",
      "Epoch 78/100\n",
      "417/417 [==============================] - 1s 2ms/step - loss: 0.0819 - accuracy: 0.9724 - val_loss: 0.3855 - val_accuracy: 0.8814\n",
      "Epoch 79/100\n",
      "417/417 [==============================] - 1s 2ms/step - loss: 0.0846 - accuracy: 0.9696 - val_loss: 0.3699 - val_accuracy: 0.8832\n",
      "Epoch 80/100\n",
      "417/417 [==============================] - 1s 2ms/step - loss: 0.0767 - accuracy: 0.9750 - val_loss: 0.3997 - val_accuracy: 0.8815\n",
      "Epoch 81/100\n",
      "417/417 [==============================] - 1s 2ms/step - loss: 0.0840 - accuracy: 0.9710 - val_loss: 0.3688 - val_accuracy: 0.8824\n",
      "Epoch 82/100\n",
      "417/417 [==============================] - 1s 2ms/step - loss: 0.0803 - accuracy: 0.9730 - val_loss: 0.3686 - val_accuracy: 0.8826\n",
      "Epoch 83/100\n",
      "417/417 [==============================] - 1s 2ms/step - loss: 0.0767 - accuracy: 0.9737 - val_loss: 0.3913 - val_accuracy: 0.8814\n",
      "Epoch 84/100\n",
      "417/417 [==============================] - 1s 2ms/step - loss: 0.0695 - accuracy: 0.9770 - val_loss: 0.3810 - val_accuracy: 0.8842\n",
      "Epoch 85/100\n",
      "417/417 [==============================] - 1s 2ms/step - loss: 0.0737 - accuracy: 0.9768 - val_loss: 0.3787 - val_accuracy: 0.8844\n",
      "Epoch 86/100\n",
      "417/417 [==============================] - 1s 2ms/step - loss: 0.0802 - accuracy: 0.9723 - val_loss: 0.3713 - val_accuracy: 0.8842\n",
      "Epoch 87/100\n",
      "417/417 [==============================] - 1s 2ms/step - loss: 0.0702 - accuracy: 0.9775 - val_loss: 0.3983 - val_accuracy: 0.8808\n",
      "Epoch 88/100\n",
      "417/417 [==============================] - 1s 2ms/step - loss: 0.0690 - accuracy: 0.9768 - val_loss: 0.3855 - val_accuracy: 0.8814\n",
      "Epoch 89/100\n",
      "417/417 [==============================] - 1s 2ms/step - loss: 0.0781 - accuracy: 0.9727 - val_loss: 0.3801 - val_accuracy: 0.8806\n",
      "Epoch 90/100\n",
      "417/417 [==============================] - 1s 2ms/step - loss: 0.0764 - accuracy: 0.9733 - val_loss: 0.3803 - val_accuracy: 0.8854\n",
      "Epoch 91/100\n",
      "417/417 [==============================] - 1s 2ms/step - loss: 0.0804 - accuracy: 0.9720 - val_loss: 0.3856 - val_accuracy: 0.8845\n",
      "Epoch 92/100\n",
      "417/417 [==============================] - 1s 2ms/step - loss: 0.0739 - accuracy: 0.9755 - val_loss: 0.3853 - val_accuracy: 0.8829\n",
      "Epoch 93/100\n",
      "417/417 [==============================] - 1s 2ms/step - loss: 0.0740 - accuracy: 0.9760 - val_loss: 0.3879 - val_accuracy: 0.8820\n",
      "Epoch 94/100\n",
      "417/417 [==============================] - 1s 2ms/step - loss: 0.0741 - accuracy: 0.9759 - val_loss: 0.3870 - val_accuracy: 0.8842\n",
      "Epoch 95/100\n",
      "417/417 [==============================] - 1s 2ms/step - loss: 0.0696 - accuracy: 0.9771 - val_loss: 0.4198 - val_accuracy: 0.8779\n",
      "Epoch 96/100\n",
      "417/417 [==============================] - 1s 2ms/step - loss: 0.0811 - accuracy: 0.9711 - val_loss: 0.3860 - val_accuracy: 0.8860\n",
      "Epoch 97/100\n",
      "417/417 [==============================] - 1s 2ms/step - loss: 0.0677 - accuracy: 0.9774 - val_loss: 0.3861 - val_accuracy: 0.8829\n",
      "Epoch 98/100\n",
      "417/417 [==============================] - 1s 2ms/step - loss: 0.0665 - accuracy: 0.9789 - val_loss: 0.4014 - val_accuracy: 0.8818\n",
      "Epoch 99/100\n",
      "417/417 [==============================] - 1s 2ms/step - loss: 0.0794 - accuracy: 0.9732 - val_loss: 0.3937 - val_accuracy: 0.8793\n",
      "Epoch 100/100\n",
      "417/417 [==============================] - 1s 2ms/step - loss: 0.0773 - accuracy: 0.9735 - val_loss: 0.3937 - val_accuracy: 0.8824\n",
      "Fold 1, 100 epochs, 104 sec\n"
     ]
    },
    {
     "data": {
      "image/png": "[encoded data removed]",
      "text/plain": [
       "<Figure size 576x360 with 1 Axes>"
      ]
     },
     "metadata": {
      "needs_background": "light"
     },
     "output_type": "display_data"
    },
    {
     "name": "stdout",
     "output_type": "stream",
     "text": [
      "MODEL\n",
      "make_DNN\n",
      "input shape: (32, 4)\n",
      "FIT\n",
      "Epoch 1/100\n",
      "417/417 [==============================] - 2s 3ms/step - loss: 0.6602 - accuracy: 0.6070 - val_loss: 0.5565 - val_accuracy: 0.7321\n",
      "Epoch 2/100\n",
      "417/417 [==============================] - 1s 2ms/step - loss: 0.5383 - accuracy: 0.7439 - val_loss: 0.4995 - val_accuracy: 0.7699\n",
      "Epoch 3/100\n",
      "417/417 [==============================] - 1s 2ms/step - loss: 0.4815 - accuracy: 0.7815 - val_loss: 0.4584 - val_accuracy: 0.7887\n",
      "Epoch 4/100\n",
      "417/417 [==============================] - 1s 2ms/step - loss: 0.4243 - accuracy: 0.8102 - val_loss: 0.4170 - val_accuracy: 0.8073\n",
      "Epoch 5/100\n",
      "417/417 [==============================] - 1s 2ms/step - loss: 0.3853 - accuracy: 0.8260 - val_loss: 0.3797 - val_accuracy: 0.8302\n",
      "Epoch 6/100\n",
      "417/417 [==============================] - 1s 2ms/step - loss: 0.3447 - accuracy: 0.8526 - val_loss: 0.3582 - val_accuracy: 0.8392\n",
      "Epoch 7/100\n",
      "417/417 [==============================] - 1s 2ms/step - loss: 0.3204 - accuracy: 0.8660 - val_loss: 0.3458 - val_accuracy: 0.8479\n",
      "Epoch 8/100\n",
      "417/417 [==============================] - 1s 2ms/step - loss: 0.3098 - accuracy: 0.8668 - val_loss: 0.3230 - val_accuracy: 0.8566\n",
      "Epoch 9/100\n",
      "417/417 [==============================] - 1s 2ms/step - loss: 0.2847 - accuracy: 0.8815 - val_loss: 0.3188 - val_accuracy: 0.8607\n",
      "Epoch 10/100\n",
      "417/417 [==============================] - 1s 2ms/step - loss: 0.2734 - accuracy: 0.8871 - val_loss: 0.3112 - val_accuracy: 0.8683\n",
      "Epoch 11/100\n",
      "417/417 [==============================] - 1s 2ms/step - loss: 0.2509 - accuracy: 0.8960 - val_loss: 0.3012 - val_accuracy: 0.8737\n",
      "Epoch 12/100\n",
      "417/417 [==============================] - 1s 2ms/step - loss: 0.2461 - accuracy: 0.8969 - val_loss: 0.2915 - val_accuracy: 0.8758\n",
      "Epoch 13/100\n",
      "417/417 [==============================] - 1s 2ms/step - loss: 0.2305 - accuracy: 0.9101 - val_loss: 0.2837 - val_accuracy: 0.8791\n",
      "Epoch 14/100\n",
      "417/417 [==============================] - 1s 2ms/step - loss: 0.2169 - accuracy: 0.9160 - val_loss: 0.2781 - val_accuracy: 0.8838\n",
      "Epoch 15/100\n",
      "417/417 [==============================] - 1s 2ms/step - loss: 0.2175 - accuracy: 0.9139 - val_loss: 0.2738 - val_accuracy: 0.8839\n",
      "Epoch 16/100\n",
      "417/417 [==============================] - 1s 2ms/step - loss: 0.2025 - accuracy: 0.9198 - val_loss: 0.2747 - val_accuracy: 0.8850\n",
      "Epoch 17/100\n",
      "417/417 [==============================] - 1s 2ms/step - loss: 0.1989 - accuracy: 0.9226 - val_loss: 0.2647 - val_accuracy: 0.8905\n",
      "INFO:tensorflow:Assets written to: BestModel/assets\n",
      "Epoch 18/100\n",
      "417/417 [==============================] - 1s 2ms/step - loss: 0.1913 - accuracy: 0.9286 - val_loss: 0.2727 - val_accuracy: 0.8895\n",
      "Epoch 19/100\n",
      "417/417 [==============================] - 1s 2ms/step - loss: 0.1813 - accuracy: 0.9334 - val_loss: 0.2676 - val_accuracy: 0.8895\n",
      "Epoch 20/100\n",
      "417/417 [==============================] - 1s 2ms/step - loss: 0.1801 - accuracy: 0.9318 - val_loss: 0.2654 - val_accuracy: 0.8926\n",
      "INFO:tensorflow:Assets written to: BestModel/assets\n",
      "Epoch 21/100\n",
      "417/417 [==============================] - 1s 2ms/step - loss: 0.1737 - accuracy: 0.9362 - val_loss: 0.2628 - val_accuracy: 0.8931\n",
      "INFO:tensorflow:Assets written to: BestModel/assets\n",
      "Epoch 22/100\n",
      "417/417 [==============================] - 1s 2ms/step - loss: 0.1691 - accuracy: 0.9382 - val_loss: 0.2745 - val_accuracy: 0.8866\n",
      "Epoch 23/100\n",
      "417/417 [==============================] - 1s 2ms/step - loss: 0.1655 - accuracy: 0.9407 - val_loss: 0.2567 - val_accuracy: 0.8958\n",
      "INFO:tensorflow:Assets written to: BestModel/assets\n",
      "Epoch 24/100\n",
      "417/417 [==============================] - 1s 2ms/step - loss: 0.1498 - accuracy: 0.9476 - val_loss: 0.2587 - val_accuracy: 0.8935\n",
      "Epoch 25/100\n",
      "417/417 [==============================] - 1s 2ms/step - loss: 0.1501 - accuracy: 0.9439 - val_loss: 0.2597 - val_accuracy: 0.8950\n",
      "Epoch 26/100\n",
      "417/417 [==============================] - 1s 2ms/step - loss: 0.1391 - accuracy: 0.9538 - val_loss: 0.2562 - val_accuracy: 0.8971\n",
      "INFO:tensorflow:Assets written to: BestModel/assets\n",
      "Epoch 27/100\n",
      "417/417 [==============================] - 1s 2ms/step - loss: 0.1420 - accuracy: 0.9494 - val_loss: 0.2565 - val_accuracy: 0.8943\n",
      "Epoch 28/100\n",
      "417/417 [==============================] - 1s 2ms/step - loss: 0.1417 - accuracy: 0.9474 - val_loss: 0.2600 - val_accuracy: 0.8953\n",
      "Epoch 29/100\n",
      "417/417 [==============================] - 1s 2ms/step - loss: 0.1367 - accuracy: 0.9511 - val_loss: 0.2622 - val_accuracy: 0.8929\n",
      "Epoch 30/100\n",
      "417/417 [==============================] - 1s 2ms/step - loss: 0.1356 - accuracy: 0.9517 - val_loss: 0.2623 - val_accuracy: 0.8937\n",
      "Epoch 31/100\n",
      "417/417 [==============================] - 1s 2ms/step - loss: 0.1261 - accuracy: 0.9548 - val_loss: 0.2607 - val_accuracy: 0.8976\n",
      "INFO:tensorflow:Assets written to: BestModel/assets\n",
      "Epoch 32/100\n",
      "417/417 [==============================] - 1s 2ms/step - loss: 0.1334 - accuracy: 0.9508 - val_loss: 0.2719 - val_accuracy: 0.8973\n",
      "Epoch 33/100\n",
      "417/417 [==============================] - 1s 2ms/step - loss: 0.1209 - accuracy: 0.9575 - val_loss: 0.2651 - val_accuracy: 0.9010\n",
      "INFO:tensorflow:Assets written to: BestModel/assets\n",
      "Epoch 34/100\n",
      "417/417 [==============================] - 1s 2ms/step - loss: 0.1236 - accuracy: 0.9570 - val_loss: 0.2679 - val_accuracy: 0.8983\n",
      "Epoch 35/100\n",
      "417/417 [==============================] - 1s 2ms/step - loss: 0.1132 - accuracy: 0.9620 - val_loss: 0.2605 - val_accuracy: 0.8979\n",
      "Epoch 36/100\n",
      "417/417 [==============================] - 1s 2ms/step - loss: 0.1115 - accuracy: 0.9602 - val_loss: 0.2700 - val_accuracy: 0.8970\n",
      "Epoch 37/100\n",
      "417/417 [==============================] - 1s 2ms/step - loss: 0.1140 - accuracy: 0.9621 - val_loss: 0.2669 - val_accuracy: 0.8956\n",
      "Epoch 38/100\n",
      "417/417 [==============================] - 1s 2ms/step - loss: 0.1111 - accuracy: 0.9637 - val_loss: 0.2676 - val_accuracy: 0.8956\n",
      "Epoch 39/100\n",
      "417/417 [==============================] - 1s 2ms/step - loss: 0.1124 - accuracy: 0.9608 - val_loss: 0.2752 - val_accuracy: 0.8968\n",
      "Epoch 40/100\n",
      "417/417 [==============================] - 1s 2ms/step - loss: 0.1088 - accuracy: 0.9626 - val_loss: 0.2694 - val_accuracy: 0.8962\n",
      "Epoch 41/100\n",
      "417/417 [==============================] - 1s 2ms/step - loss: 0.1087 - accuracy: 0.9649 - val_loss: 0.2657 - val_accuracy: 0.8982\n",
      "Epoch 42/100\n",
      "417/417 [==============================] - 1s 2ms/step - loss: 0.1025 - accuracy: 0.9662 - val_loss: 0.2802 - val_accuracy: 0.8967\n",
      "Epoch 43/100\n",
      "417/417 [==============================] - 1s 2ms/step - loss: 0.1034 - accuracy: 0.9659 - val_loss: 0.2719 - val_accuracy: 0.8973\n",
      "Epoch 44/100\n",
      "417/417 [==============================] - 1s 2ms/step - loss: 0.1059 - accuracy: 0.9627 - val_loss: 0.2770 - val_accuracy: 0.8970\n",
      "Epoch 45/100\n",
      "417/417 [==============================] - 1s 2ms/step - loss: 0.0943 - accuracy: 0.9685 - val_loss: 0.2877 - val_accuracy: 0.8967\n",
      "Epoch 46/100\n",
      "417/417 [==============================] - 1s 2ms/step - loss: 0.1010 - accuracy: 0.9654 - val_loss: 0.2883 - val_accuracy: 0.8917\n",
      "Epoch 47/100\n",
      "417/417 [==============================] - 1s 2ms/step - loss: 0.1004 - accuracy: 0.9658 - val_loss: 0.2885 - val_accuracy: 0.8917\n",
      "Epoch 48/100\n",
      "417/417 [==============================] - 1s 2ms/step - loss: 0.0951 - accuracy: 0.9671 - val_loss: 0.2870 - val_accuracy: 0.8968\n",
      "Epoch 49/100\n",
      "417/417 [==============================] - 1s 2ms/step - loss: 0.1036 - accuracy: 0.9650 - val_loss: 0.2880 - val_accuracy: 0.8958\n",
      "Epoch 50/100\n",
      "417/417 [==============================] - 1s 2ms/step - loss: 0.0906 - accuracy: 0.9727 - val_loss: 0.2926 - val_accuracy: 0.8953\n",
      "Epoch 51/100\n",
      "417/417 [==============================] - 1s 2ms/step - loss: 0.0896 - accuracy: 0.9716 - val_loss: 0.2878 - val_accuracy: 0.8962\n",
      "Epoch 52/100\n",
      "417/417 [==============================] - 1s 2ms/step - loss: 0.0956 - accuracy: 0.9679 - val_loss: 0.2945 - val_accuracy: 0.8956\n",
      "Epoch 53/100\n",
      "417/417 [==============================] - 1s 2ms/step - loss: 0.0911 - accuracy: 0.9682 - val_loss: 0.2941 - val_accuracy: 0.8973\n",
      "Epoch 54/100\n",
      "417/417 [==============================] - 1s 2ms/step - loss: 0.0940 - accuracy: 0.9681 - val_loss: 0.2901 - val_accuracy: 0.8911\n",
      "Epoch 55/100\n"
     ]
    },
    {
     "name": "stdout",
     "output_type": "stream",
     "text": [
      "417/417 [==============================] - 1s 2ms/step - loss: 0.0885 - accuracy: 0.9704 - val_loss: 0.2853 - val_accuracy: 0.8970\n",
      "Epoch 56/100\n",
      "417/417 [==============================] - 1s 2ms/step - loss: 0.0905 - accuracy: 0.9696 - val_loss: 0.2800 - val_accuracy: 0.8971\n",
      "Epoch 57/100\n",
      "417/417 [==============================] - 1s 2ms/step - loss: 0.0824 - accuracy: 0.9711 - val_loss: 0.2884 - val_accuracy: 0.8928\n",
      "Epoch 58/100\n",
      "417/417 [==============================] - 1s 2ms/step - loss: 0.0903 - accuracy: 0.9693 - val_loss: 0.2824 - val_accuracy: 0.8988\n",
      "Epoch 59/100\n",
      "417/417 [==============================] - 1s 2ms/step - loss: 0.0795 - accuracy: 0.9752 - val_loss: 0.2906 - val_accuracy: 0.8959\n",
      "Epoch 60/100\n",
      "417/417 [==============================] - 1s 2ms/step - loss: 0.0775 - accuracy: 0.9755 - val_loss: 0.3028 - val_accuracy: 0.8959\n",
      "Epoch 61/100\n",
      "417/417 [==============================] - 1s 2ms/step - loss: 0.0850 - accuracy: 0.9704 - val_loss: 0.3005 - val_accuracy: 0.8916\n",
      "Epoch 62/100\n",
      "417/417 [==============================] - 1s 2ms/step - loss: 0.0833 - accuracy: 0.9722 - val_loss: 0.3231 - val_accuracy: 0.8910\n",
      "Epoch 63/100\n",
      "417/417 [==============================] - 1s 2ms/step - loss: 0.0807 - accuracy: 0.9736 - val_loss: 0.3044 - val_accuracy: 0.8925\n",
      "Epoch 64/100\n",
      "417/417 [==============================] - 1s 2ms/step - loss: 0.0789 - accuracy: 0.9743 - val_loss: 0.3048 - val_accuracy: 0.8950\n",
      "Epoch 65/100\n",
      "417/417 [==============================] - 1s 2ms/step - loss: 0.0859 - accuracy: 0.9720 - val_loss: 0.2906 - val_accuracy: 0.8980\n",
      "Epoch 66/100\n",
      "417/417 [==============================] - 1s 2ms/step - loss: 0.0779 - accuracy: 0.9753 - val_loss: 0.2962 - val_accuracy: 0.8985\n",
      "Epoch 67/100\n",
      "417/417 [==============================] - 1s 2ms/step - loss: 0.0847 - accuracy: 0.9735 - val_loss: 0.3038 - val_accuracy: 0.8977\n",
      "Epoch 68/100\n",
      "417/417 [==============================] - 1s 2ms/step - loss: 0.0725 - accuracy: 0.9774 - val_loss: 0.3082 - val_accuracy: 0.8992\n",
      "Epoch 69/100\n",
      "417/417 [==============================] - 1s 2ms/step - loss: 0.0756 - accuracy: 0.9768 - val_loss: 0.3169 - val_accuracy: 0.8974\n",
      "Epoch 70/100\n",
      "417/417 [==============================] - 1s 2ms/step - loss: 0.0783 - accuracy: 0.9741 - val_loss: 0.3037 - val_accuracy: 0.8958\n",
      "Epoch 71/100\n",
      "417/417 [==============================] - 1s 2ms/step - loss: 0.0715 - accuracy: 0.9788 - val_loss: 0.3034 - val_accuracy: 0.8959\n",
      "Epoch 72/100\n",
      "417/417 [==============================] - 1s 2ms/step - loss: 0.0746 - accuracy: 0.9756 - val_loss: 0.3089 - val_accuracy: 0.8953\n",
      "Epoch 73/100\n",
      "417/417 [==============================] - 1s 2ms/step - loss: 0.0752 - accuracy: 0.9767 - val_loss: 0.3069 - val_accuracy: 0.8970\n",
      "Epoch 74/100\n",
      "417/417 [==============================] - 1s 2ms/step - loss: 0.0671 - accuracy: 0.9808 - val_loss: 0.3145 - val_accuracy: 0.8944\n",
      "Epoch 75/100\n",
      "417/417 [==============================] - 1s 2ms/step - loss: 0.0748 - accuracy: 0.9777 - val_loss: 0.3232 - val_accuracy: 0.8949\n",
      "Epoch 76/100\n",
      "417/417 [==============================] - 1s 2ms/step - loss: 0.0809 - accuracy: 0.9740 - val_loss: 0.3087 - val_accuracy: 0.9007\n",
      "Epoch 77/100\n",
      "417/417 [==============================] - 1s 2ms/step - loss: 0.0723 - accuracy: 0.9772 - val_loss: 0.3129 - val_accuracy: 0.8934\n",
      "Epoch 78/100\n",
      "417/417 [==============================] - 1s 2ms/step - loss: 0.0694 - accuracy: 0.9777 - val_loss: 0.3172 - val_accuracy: 0.8967\n",
      "Epoch 79/100\n",
      "417/417 [==============================] - 1s 2ms/step - loss: 0.0690 - accuracy: 0.9792 - val_loss: 0.3191 - val_accuracy: 0.8931\n",
      "Epoch 80/100\n",
      "417/417 [==============================] - 1s 2ms/step - loss: 0.0719 - accuracy: 0.9761 - val_loss: 0.3227 - val_accuracy: 0.8928\n",
      "Epoch 81/100\n",
      "417/417 [==============================] - 1s 2ms/step - loss: 0.0688 - accuracy: 0.9791 - val_loss: 0.3204 - val_accuracy: 0.8974\n",
      "Epoch 82/100\n",
      "417/417 [==============================] - 1s 2ms/step - loss: 0.0687 - accuracy: 0.9792 - val_loss: 0.3155 - val_accuracy: 0.8970\n",
      "Epoch 83/100\n",
      "417/417 [==============================] - 1s 2ms/step - loss: 0.0668 - accuracy: 0.9795 - val_loss: 0.3240 - val_accuracy: 0.8952\n",
      "Epoch 84/100\n",
      "417/417 [==============================] - 1s 2ms/step - loss: 0.0722 - accuracy: 0.9767 - val_loss: 0.3080 - val_accuracy: 0.8994\n",
      "Epoch 85/100\n",
      "417/417 [==============================] - 1s 2ms/step - loss: 0.0718 - accuracy: 0.9767 - val_loss: 0.3228 - val_accuracy: 0.8935\n",
      "Epoch 86/100\n",
      "417/417 [==============================] - 1s 2ms/step - loss: 0.0726 - accuracy: 0.9766 - val_loss: 0.3172 - val_accuracy: 0.8976\n",
      "Epoch 87/100\n",
      "417/417 [==============================] - 1s 2ms/step - loss: 0.0703 - accuracy: 0.9792 - val_loss: 0.3306 - val_accuracy: 0.8971\n",
      "Epoch 88/100\n",
      "417/417 [==============================] - 1s 2ms/step - loss: 0.0674 - accuracy: 0.9775 - val_loss: 0.3240 - val_accuracy: 0.8941\n",
      "Epoch 89/100\n",
      "417/417 [==============================] - 1s 2ms/step - loss: 0.0679 - accuracy: 0.9785 - val_loss: 0.3269 - val_accuracy: 0.8940\n",
      "Epoch 90/100\n",
      "417/417 [==============================] - 1s 2ms/step - loss: 0.0680 - accuracy: 0.9790 - val_loss: 0.3291 - val_accuracy: 0.8946\n",
      "Epoch 91/100\n",
      "417/417 [==============================] - 1s 2ms/step - loss: 0.0740 - accuracy: 0.9756 - val_loss: 0.3412 - val_accuracy: 0.8959\n",
      "Epoch 92/100\n",
      "417/417 [==============================] - 1s 2ms/step - loss: 0.0611 - accuracy: 0.9805 - val_loss: 0.3524 - val_accuracy: 0.8883\n",
      "Epoch 93/100\n",
      "417/417 [==============================] - 1s 2ms/step - loss: 0.0763 - accuracy: 0.9747 - val_loss: 0.3282 - val_accuracy: 0.8962\n",
      "Epoch 94/100\n",
      "417/417 [==============================] - 1s 2ms/step - loss: 0.0704 - accuracy: 0.9783 - val_loss: 0.3247 - val_accuracy: 0.8962\n",
      "Epoch 95/100\n",
      "417/417 [==============================] - 1s 2ms/step - loss: 0.0620 - accuracy: 0.9803 - val_loss: 0.3314 - val_accuracy: 0.8917\n",
      "Epoch 96/100\n",
      "417/417 [==============================] - 1s 2ms/step - loss: 0.0720 - accuracy: 0.9782 - val_loss: 0.3289 - val_accuracy: 0.8928\n",
      "Epoch 97/100\n",
      "417/417 [==============================] - 1s 2ms/step - loss: 0.0678 - accuracy: 0.9784 - val_loss: 0.3336 - val_accuracy: 0.8971\n",
      "Epoch 98/100\n",
      "417/417 [==============================] - 1s 2ms/step - loss: 0.0752 - accuracy: 0.9747 - val_loss: 0.3307 - val_accuracy: 0.8971\n",
      "Epoch 99/100\n",
      "417/417 [==============================] - 1s 2ms/step - loss: 0.0616 - accuracy: 0.9808 - val_loss: 0.3279 - val_accuracy: 0.8955\n",
      "Epoch 100/100\n",
      "417/417 [==============================] - 1s 2ms/step - loss: 0.0640 - accuracy: 0.9794 - val_loss: 0.3221 - val_accuracy: 0.8967\n",
      "Fold 2, 100 epochs, 89 sec\n"
     ]
    },
    {
     "data": {
      "image/png": "[encoded data removed]",
      "text/plain": [
       "<Figure size 576x360 with 1 Axes>"
      ]
     },
     "metadata": {
      "needs_background": "light"
     },
     "output_type": "display_data"
    },
    {
     "name": "stdout",
     "output_type": "stream",
     "text": [
      "MODEL\n",
      "make_DNN\n",
      "input shape: (32, 4)\n",
      "FIT\n",
      "Epoch 1/100\n",
      "417/417 [==============================] - 2s 3ms/step - loss: 0.6564 - accuracy: 0.6123 - val_loss: 0.5463 - val_accuracy: 0.7333\n",
      "Epoch 2/100\n",
      "417/417 [==============================] - 1s 2ms/step - loss: 0.5253 - accuracy: 0.7523 - val_loss: 0.4832 - val_accuracy: 0.7733\n",
      "Epoch 3/100\n",
      "417/417 [==============================] - 1s 2ms/step - loss: 0.4568 - accuracy: 0.7843 - val_loss: 0.4292 - val_accuracy: 0.8014\n",
      "Epoch 4/100\n",
      "417/417 [==============================] - 1s 2ms/step - loss: 0.4122 - accuracy: 0.8075 - val_loss: 0.3886 - val_accuracy: 0.8206\n",
      "Epoch 5/100\n",
      "417/417 [==============================] - 1s 2ms/step - loss: 0.3645 - accuracy: 0.8318 - val_loss: 0.3586 - val_accuracy: 0.8390\n",
      "Epoch 6/100\n",
      "417/417 [==============================] - 1s 2ms/step - loss: 0.3332 - accuracy: 0.8507 - val_loss: 0.3427 - val_accuracy: 0.8533\n",
      "Epoch 7/100\n",
      "417/417 [==============================] - 1s 2ms/step - loss: 0.3109 - accuracy: 0.8696 - val_loss: 0.3238 - val_accuracy: 0.8633\n",
      "Epoch 8/100\n",
      "417/417 [==============================] - 1s 2ms/step - loss: 0.2932 - accuracy: 0.8815 - val_loss: 0.3112 - val_accuracy: 0.8732\n",
      "Epoch 9/100\n",
      "417/417 [==============================] - 1s 2ms/step - loss: 0.2811 - accuracy: 0.8867 - val_loss: 0.3095 - val_accuracy: 0.8725\n",
      "Epoch 10/100\n",
      "417/417 [==============================] - 1s 2ms/step - loss: 0.2706 - accuracy: 0.8933 - val_loss: 0.2953 - val_accuracy: 0.8789\n",
      "Epoch 11/100\n",
      "417/417 [==============================] - 1s 2ms/step - loss: 0.2484 - accuracy: 0.9014 - val_loss: 0.2871 - val_accuracy: 0.8800\n",
      "Epoch 12/100\n",
      "417/417 [==============================] - 1s 2ms/step - loss: 0.2393 - accuracy: 0.9034 - val_loss: 0.2784 - val_accuracy: 0.8830\n",
      "Epoch 13/100\n",
      "417/417 [==============================] - 1s 2ms/step - loss: 0.2351 - accuracy: 0.9085 - val_loss: 0.2798 - val_accuracy: 0.8836\n",
      "Epoch 14/100\n",
      "417/417 [==============================] - 1s 2ms/step - loss: 0.2235 - accuracy: 0.9187 - val_loss: 0.2699 - val_accuracy: 0.8867\n",
      "Epoch 15/100\n",
      "417/417 [==============================] - 1s 2ms/step - loss: 0.2061 - accuracy: 0.9216 - val_loss: 0.2649 - val_accuracy: 0.8867\n",
      "Epoch 16/100\n",
      "417/417 [==============================] - 1s 2ms/step - loss: 0.2049 - accuracy: 0.9194 - val_loss: 0.2630 - val_accuracy: 0.8936\n",
      "Epoch 17/100\n",
      "417/417 [==============================] - 1s 2ms/step - loss: 0.1946 - accuracy: 0.9279 - val_loss: 0.2554 - val_accuracy: 0.8935\n",
      "Epoch 18/100\n",
      "417/417 [==============================] - 1s 2ms/step - loss: 0.1825 - accuracy: 0.9309 - val_loss: 0.2595 - val_accuracy: 0.8879\n",
      "Epoch 19/100\n",
      "417/417 [==============================] - 1s 2ms/step - loss: 0.1855 - accuracy: 0.9292 - val_loss: 0.2585 - val_accuracy: 0.8921\n",
      "Epoch 20/100\n",
      "417/417 [==============================] - 1s 2ms/step - loss: 0.1714 - accuracy: 0.9369 - val_loss: 0.2542 - val_accuracy: 0.8954\n",
      "Epoch 21/100\n",
      "417/417 [==============================] - 1s 2ms/step - loss: 0.1684 - accuracy: 0.9373 - val_loss: 0.2565 - val_accuracy: 0.8977\n",
      "Epoch 22/100\n",
      "417/417 [==============================] - 1s 2ms/step - loss: 0.1691 - accuracy: 0.9362 - val_loss: 0.2556 - val_accuracy: 0.8965\n",
      "Epoch 23/100\n",
      "417/417 [==============================] - 1s 2ms/step - loss: 0.1613 - accuracy: 0.9402 - val_loss: 0.2598 - val_accuracy: 0.8942\n",
      "Epoch 24/100\n",
      "417/417 [==============================] - 1s 2ms/step - loss: 0.1543 - accuracy: 0.9437 - val_loss: 0.2527 - val_accuracy: 0.8971\n",
      "Epoch 25/100\n",
      "417/417 [==============================] - 1s 2ms/step - loss: 0.1521 - accuracy: 0.9469 - val_loss: 0.2479 - val_accuracy: 0.8953\n",
      "Epoch 26/100\n",
      "417/417 [==============================] - 1s 2ms/step - loss: 0.1480 - accuracy: 0.9458 - val_loss: 0.2560 - val_accuracy: 0.8938\n",
      "Epoch 27/100\n",
      "417/417 [==============================] - 1s 2ms/step - loss: 0.1506 - accuracy: 0.9461 - val_loss: 0.2483 - val_accuracy: 0.8984\n",
      "Epoch 28/100\n",
      "417/417 [==============================] - 1s 2ms/step - loss: 0.1427 - accuracy: 0.9513 - val_loss: 0.2500 - val_accuracy: 0.8984\n",
      "Epoch 29/100\n",
      "417/417 [==============================] - 1s 2ms/step - loss: 0.1403 - accuracy: 0.9490 - val_loss: 0.2519 - val_accuracy: 0.8962\n",
      "Epoch 30/100\n",
      "417/417 [==============================] - 1s 2ms/step - loss: 0.1311 - accuracy: 0.9553 - val_loss: 0.2547 - val_accuracy: 0.8983\n",
      "Epoch 31/100\n",
      "417/417 [==============================] - 1s 2ms/step - loss: 0.1281 - accuracy: 0.9572 - val_loss: 0.2524 - val_accuracy: 0.8998\n",
      "Epoch 32/100\n",
      "417/417 [==============================] - 1s 2ms/step - loss: 0.1354 - accuracy: 0.9529 - val_loss: 0.2458 - val_accuracy: 0.8963\n",
      "Epoch 33/100\n",
      "417/417 [==============================] - 1s 2ms/step - loss: 0.1195 - accuracy: 0.9603 - val_loss: 0.2495 - val_accuracy: 0.8996\n",
      "Epoch 34/100\n",
      "417/417 [==============================] - 1s 2ms/step - loss: 0.1190 - accuracy: 0.9632 - val_loss: 0.2578 - val_accuracy: 0.8990\n",
      "Epoch 35/100\n",
      "417/417 [==============================] - 1s 2ms/step - loss: 0.1194 - accuracy: 0.9589 - val_loss: 0.2614 - val_accuracy: 0.8995\n",
      "Epoch 36/100\n",
      "417/417 [==============================] - 1s 2ms/step - loss: 0.1163 - accuracy: 0.9592 - val_loss: 0.2664 - val_accuracy: 0.9011\n",
      "INFO:tensorflow:Assets written to: BestModel/assets\n",
      "Epoch 37/100\n",
      "417/417 [==============================] - 1s 2ms/step - loss: 0.1169 - accuracy: 0.9613 - val_loss: 0.2634 - val_accuracy: 0.9005\n",
      "Epoch 38/100\n",
      "417/417 [==============================] - 1s 2ms/step - loss: 0.1069 - accuracy: 0.9648 - val_loss: 0.2624 - val_accuracy: 0.8986\n",
      "Epoch 39/100\n",
      "417/417 [==============================] - 1s 2ms/step - loss: 0.1100 - accuracy: 0.9650 - val_loss: 0.2618 - val_accuracy: 0.8972\n",
      "Epoch 40/100\n",
      "417/417 [==============================] - 1s 2ms/step - loss: 0.1045 - accuracy: 0.9675 - val_loss: 0.2699 - val_accuracy: 0.8977\n",
      "Epoch 41/100\n",
      "417/417 [==============================] - 1s 2ms/step - loss: 0.1093 - accuracy: 0.9635 - val_loss: 0.2571 - val_accuracy: 0.9019\n",
      "INFO:tensorflow:Assets written to: BestModel/assets\n",
      "Epoch 42/100\n",
      "417/417 [==============================] - 1s 2ms/step - loss: 0.1062 - accuracy: 0.9649 - val_loss: 0.2580 - val_accuracy: 0.9001\n",
      "Epoch 43/100\n",
      "417/417 [==============================] - 1s 2ms/step - loss: 0.1017 - accuracy: 0.9687 - val_loss: 0.2606 - val_accuracy: 0.9002\n",
      "Epoch 44/100\n",
      "417/417 [==============================] - 1s 2ms/step - loss: 0.1067 - accuracy: 0.9637 - val_loss: 0.2748 - val_accuracy: 0.8939\n",
      "Epoch 45/100\n",
      "417/417 [==============================] - 1s 2ms/step - loss: 0.1029 - accuracy: 0.9654 - val_loss: 0.2709 - val_accuracy: 0.8968\n",
      "Epoch 46/100\n",
      "417/417 [==============================] - 1s 2ms/step - loss: 0.0992 - accuracy: 0.9682 - val_loss: 0.2687 - val_accuracy: 0.8984\n",
      "Epoch 47/100\n",
      "417/417 [==============================] - 1s 2ms/step - loss: 0.0994 - accuracy: 0.9676 - val_loss: 0.2723 - val_accuracy: 0.8986\n",
      "Epoch 48/100\n",
      "417/417 [==============================] - 1s 2ms/step - loss: 0.0892 - accuracy: 0.9738 - val_loss: 0.2765 - val_accuracy: 0.8989\n",
      "Epoch 49/100\n",
      "417/417 [==============================] - 1s 2ms/step - loss: 0.0919 - accuracy: 0.9715 - val_loss: 0.2691 - val_accuracy: 0.8996\n",
      "Epoch 50/100\n",
      "417/417 [==============================] - 1s 2ms/step - loss: 0.0887 - accuracy: 0.9729 - val_loss: 0.2803 - val_accuracy: 0.9016\n",
      "Epoch 51/100\n",
      "417/417 [==============================] - 1s 2ms/step - loss: 0.0990 - accuracy: 0.9661 - val_loss: 0.2743 - val_accuracy: 0.8974\n",
      "Epoch 52/100\n",
      "417/417 [==============================] - 1s 2ms/step - loss: 0.0839 - accuracy: 0.9762 - val_loss: 0.2833 - val_accuracy: 0.9016\n",
      "Epoch 53/100\n",
      "417/417 [==============================] - 1s 2ms/step - loss: 0.0904 - accuracy: 0.9721 - val_loss: 0.2891 - val_accuracy: 0.8975\n",
      "Epoch 54/100\n",
      "417/417 [==============================] - 1s 2ms/step - loss: 0.0882 - accuracy: 0.9720 - val_loss: 0.2864 - val_accuracy: 0.8959\n",
      "Epoch 55/100\n",
      "417/417 [==============================] - 1s 2ms/step - loss: 0.0875 - accuracy: 0.9730 - val_loss: 0.2811 - val_accuracy: 0.9008\n",
      "Epoch 56/100\n",
      "417/417 [==============================] - 1s 2ms/step - loss: 0.0892 - accuracy: 0.9730 - val_loss: 0.2779 - val_accuracy: 0.8995\n"
     ]
    },
    {
     "name": "stdout",
     "output_type": "stream",
     "text": [
      "Epoch 57/100\n",
      "417/417 [==============================] - 1s 2ms/step - loss: 0.0879 - accuracy: 0.9736 - val_loss: 0.2852 - val_accuracy: 0.8989\n",
      "Epoch 58/100\n",
      "417/417 [==============================] - 1s 2ms/step - loss: 0.0830 - accuracy: 0.9738 - val_loss: 0.2844 - val_accuracy: 0.9023\n",
      "INFO:tensorflow:Assets written to: BestModel/assets\n",
      "Epoch 59/100\n",
      "417/417 [==============================] - 1s 2ms/step - loss: 0.0829 - accuracy: 0.9768 - val_loss: 0.2972 - val_accuracy: 0.9010\n",
      "Epoch 60/100\n",
      "417/417 [==============================] - 1s 2ms/step - loss: 0.0822 - accuracy: 0.9756 - val_loss: 0.2896 - val_accuracy: 0.8945\n",
      "Epoch 61/100\n",
      "417/417 [==============================] - 1s 2ms/step - loss: 0.0882 - accuracy: 0.9714 - val_loss: 0.2976 - val_accuracy: 0.8987\n",
      "Epoch 62/100\n",
      "417/417 [==============================] - 1s 2ms/step - loss: 0.0883 - accuracy: 0.9732 - val_loss: 0.2801 - val_accuracy: 0.9007\n",
      "Epoch 63/100\n",
      "417/417 [==============================] - 1s 2ms/step - loss: 0.0781 - accuracy: 0.9773 - val_loss: 0.2876 - val_accuracy: 0.8981\n",
      "Epoch 64/100\n",
      "417/417 [==============================] - 1s 2ms/step - loss: 0.0739 - accuracy: 0.9775 - val_loss: 0.2856 - val_accuracy: 0.8998\n",
      "Epoch 65/100\n",
      "417/417 [==============================] - 1s 2ms/step - loss: 0.0825 - accuracy: 0.9744 - val_loss: 0.3007 - val_accuracy: 0.8945\n",
      "Epoch 66/100\n",
      "417/417 [==============================] - 1s 2ms/step - loss: 0.0768 - accuracy: 0.9763 - val_loss: 0.2912 - val_accuracy: 0.8963\n",
      "Epoch 67/100\n",
      "417/417 [==============================] - 1s 2ms/step - loss: 0.0812 - accuracy: 0.9752 - val_loss: 0.2911 - val_accuracy: 0.8998\n",
      "Epoch 68/100\n",
      "417/417 [==============================] - 1s 2ms/step - loss: 0.0772 - accuracy: 0.9780 - val_loss: 0.2899 - val_accuracy: 0.9008\n",
      "Epoch 69/100\n",
      "417/417 [==============================] - 1s 2ms/step - loss: 0.0710 - accuracy: 0.9796 - val_loss: 0.2942 - val_accuracy: 0.9004\n",
      "Epoch 70/100\n",
      "417/417 [==============================] - 1s 2ms/step - loss: 0.0703 - accuracy: 0.9800 - val_loss: 0.2912 - val_accuracy: 0.9026\n",
      "INFO:tensorflow:Assets written to: BestModel/assets\n",
      "Epoch 71/100\n",
      "417/417 [==============================] - 1s 2ms/step - loss: 0.0854 - accuracy: 0.9721 - val_loss: 0.3101 - val_accuracy: 0.8984\n",
      "Epoch 72/100\n",
      "417/417 [==============================] - 1s 2ms/step - loss: 0.0757 - accuracy: 0.9756 - val_loss: 0.3026 - val_accuracy: 0.8996\n",
      "Epoch 73/100\n",
      "417/417 [==============================] - 1s 2ms/step - loss: 0.0767 - accuracy: 0.9768 - val_loss: 0.3014 - val_accuracy: 0.8977\n",
      "Epoch 74/100\n",
      "417/417 [==============================] - 1s 2ms/step - loss: 0.0784 - accuracy: 0.9753 - val_loss: 0.2898 - val_accuracy: 0.8989\n",
      "Epoch 75/100\n",
      "417/417 [==============================] - 1s 2ms/step - loss: 0.0752 - accuracy: 0.9774 - val_loss: 0.3133 - val_accuracy: 0.8996\n",
      "Epoch 76/100\n",
      "417/417 [==============================] - 1s 2ms/step - loss: 0.0684 - accuracy: 0.9798 - val_loss: 0.3016 - val_accuracy: 0.8986\n",
      "Epoch 77/100\n",
      "417/417 [==============================] - 1s 2ms/step - loss: 0.0744 - accuracy: 0.9758 - val_loss: 0.2993 - val_accuracy: 0.9002\n",
      "Epoch 78/100\n",
      "417/417 [==============================] - 1s 2ms/step - loss: 0.0736 - accuracy: 0.9779 - val_loss: 0.3057 - val_accuracy: 0.9019\n",
      "Epoch 79/100\n",
      "417/417 [==============================] - 1s 2ms/step - loss: 0.0762 - accuracy: 0.9786 - val_loss: 0.3014 - val_accuracy: 0.9032\n",
      "INFO:tensorflow:Assets written to: BestModel/assets\n",
      "Epoch 80/100\n",
      "417/417 [==============================] - 1s 2ms/step - loss: 0.0793 - accuracy: 0.9730 - val_loss: 0.3054 - val_accuracy: 0.9010\n",
      "Epoch 81/100\n",
      "417/417 [==============================] - 1s 2ms/step - loss: 0.0696 - accuracy: 0.9778 - val_loss: 0.3075 - val_accuracy: 0.9001\n",
      "Epoch 82/100\n",
      "417/417 [==============================] - 1s 2ms/step - loss: 0.0746 - accuracy: 0.9760 - val_loss: 0.3244 - val_accuracy: 0.8993\n",
      "Epoch 83/100\n",
      "417/417 [==============================] - 1s 2ms/step - loss: 0.0769 - accuracy: 0.9757 - val_loss: 0.2933 - val_accuracy: 0.9037\n",
      "INFO:tensorflow:Assets written to: BestModel/assets\n",
      "Epoch 84/100\n",
      "417/417 [==============================] - 1s 2ms/step - loss: 0.0631 - accuracy: 0.9809 - val_loss: 0.3158 - val_accuracy: 0.8984\n",
      "Epoch 85/100\n",
      "417/417 [==============================] - 1s 2ms/step - loss: 0.0611 - accuracy: 0.9834 - val_loss: 0.3140 - val_accuracy: 0.9010\n",
      "Epoch 86/100\n",
      "417/417 [==============================] - 1s 2ms/step - loss: 0.0704 - accuracy: 0.9779 - val_loss: 0.3079 - val_accuracy: 0.9029\n",
      "Epoch 87/100\n",
      "417/417 [==============================] - 1s 2ms/step - loss: 0.0679 - accuracy: 0.9801 - val_loss: 0.3157 - val_accuracy: 0.8989\n",
      "Epoch 88/100\n",
      "417/417 [==============================] - 1s 2ms/step - loss: 0.0634 - accuracy: 0.9826 - val_loss: 0.3067 - val_accuracy: 0.9005\n",
      "Epoch 89/100\n",
      "417/417 [==============================] - 1s 2ms/step - loss: 0.0660 - accuracy: 0.9803 - val_loss: 0.3098 - val_accuracy: 0.9023\n",
      "Epoch 90/100\n",
      "417/417 [==============================] - 1s 2ms/step - loss: 0.0664 - accuracy: 0.9789 - val_loss: 0.3163 - val_accuracy: 0.8996\n",
      "Epoch 91/100\n",
      "417/417 [==============================] - 1s 2ms/step - loss: 0.0587 - accuracy: 0.9818 - val_loss: 0.3098 - val_accuracy: 0.9040\n",
      "INFO:tensorflow:Assets written to: BestModel/assets\n",
      "Epoch 92/100\n",
      "417/417 [==============================] - 1s 2ms/step - loss: 0.0641 - accuracy: 0.9799 - val_loss: 0.3383 - val_accuracy: 0.8974\n",
      "Epoch 93/100\n",
      "417/417 [==============================] - 1s 2ms/step - loss: 0.0751 - accuracy: 0.9767 - val_loss: 0.3121 - val_accuracy: 0.8995\n",
      "Epoch 94/100\n",
      "417/417 [==============================] - 1s 2ms/step - loss: 0.0736 - accuracy: 0.9750 - val_loss: 0.3142 - val_accuracy: 0.9025\n",
      "Epoch 95/100\n",
      "417/417 [==============================] - 1s 2ms/step - loss: 0.0707 - accuracy: 0.9787 - val_loss: 0.3154 - val_accuracy: 0.9020\n",
      "Epoch 96/100\n",
      "417/417 [==============================] - 1s 2ms/step - loss: 0.0718 - accuracy: 0.9779 - val_loss: 0.3193 - val_accuracy: 0.9002\n",
      "Epoch 97/100\n",
      "417/417 [==============================] - 1s 2ms/step - loss: 0.0528 - accuracy: 0.9855 - val_loss: 0.3314 - val_accuracy: 0.9029\n",
      "Epoch 98/100\n",
      "417/417 [==============================] - 1s 2ms/step - loss: 0.0683 - accuracy: 0.9801 - val_loss: 0.3312 - val_accuracy: 0.8987\n",
      "Epoch 99/100\n",
      "417/417 [==============================] - 1s 2ms/step - loss: 0.0763 - accuracy: 0.9750 - val_loss: 0.3272 - val_accuracy: 0.8993\n",
      "Epoch 100/100\n",
      "417/417 [==============================] - 1s 2ms/step - loss: 0.0566 - accuracy: 0.9845 - val_loss: 0.3301 - val_accuracy: 0.8980\n",
      "Fold 3, 100 epochs, 90 sec\n"
     ]
    },
    {
     "data": {
      "image/png": "[encoded data removed]",
      "text/plain": [
       "<Figure size 576x360 with 1 Axes>"
      ]
     },
     "metadata": {
      "needs_background": "light"
     },
     "output_type": "display_data"
    }
   ],
   "source": [
    "do_cross_validation(X,y)"
   ]
  },
  {
   "cell_type": "code",
   "execution_count": 12,
   "metadata": {
    "colab": {
     "base_uri": "https://localhost:8080/"
    },
    "id": "e-jG1h5fj2Ua",
    "outputId": "fe5bba6f-3995-4622-8b5f-04cad4adbc60"
   },
   "outputs": [
    {
     "name": "stdout",
     "output_type": "stream",
     "text": [
      "The best model parameters were saved during cross-validation.\n",
      "Best was defined as maximum validation accuracy at end of any epoch.\n",
      "Now re-load the best model and test it on previously unseen data.\n",
      "Test on 1000 PC seqs\n",
      "Test on 1000 NC seqs\n",
      "accuracy: 89.90%\n"
     ]
    }
   ],
   "source": [
    "from keras.models import load_model\n",
    "X,y = prepare_inputs_len_x_alphabet(pc_test,nc_test,ALPHABET)\n",
    "best_model=load_model(MODELPATH)\n",
    "scores = best_model.evaluate(X, y, verbose=0)\n",
    "print(\"The best model parameters were saved during cross-validation.\")\n",
    "print(\"Best was defined as maximum validation accuracy at end of any epoch.\")\n",
    "print(\"Now re-load the best model and test it on previously unseen data.\")\n",
    "print(\"Test on\",len(pc_test),\"PC seqs\")\n",
    "print(\"Test on\",len(nc_test),\"NC seqs\")\n",
    "print(\"%s: %.2f%%\" % (best_model.metrics_names[1], scores[1]*100))\n"
   ]
  },
  {
   "cell_type": "code",
   "execution_count": 13,
   "metadata": {
    "colab": {
     "base_uri": "https://localhost:8080/",
     "height": 313
    },
    "id": "VycUnmvUj2Ue",
    "outputId": "4707f5bf-b885-4be2-fbaf-85e95855da7c"
   },
   "outputs": [
    {
     "data": {
      "image/png": "[encoded data removed]",
      "text/plain": [
       "<Figure size 432x288 with 1 Axes>"
      ]
     },
     "metadata": {
      "needs_background": "light"
     },
     "output_type": "display_data"
    },
    {
     "name": "stdout",
     "output_type": "stream",
     "text": [
      "AUC: 96.11%\n"
     ]
    }
   ],
   "source": [
    "from sklearn.metrics import roc_curve\n",
    "from sklearn.metrics import roc_auc_score\n",
    "ns_probs = [0 for _ in range(len(y))]\n",
    "bm_probs = best_model.predict(X)\n",
    "ns_auc = roc_auc_score(y, ns_probs)\n",
    "bm_auc = roc_auc_score(y, bm_probs)\n",
    "ns_fpr, ns_tpr, _ = roc_curve(y, ns_probs)\n",
    "bm_fpr, bm_tpr, _ = roc_curve(y, bm_probs)\n",
    "plt.plot(ns_fpr, ns_tpr, linestyle='--', label='Guess, auc=%.4f'%ns_auc)\n",
    "plt.plot(bm_fpr, bm_tpr, marker='.', label='Model, auc=%.4f'%bm_auc)\n",
    "plt.title('ROC')\n",
    "plt.xlabel('False Positive Rate')\n",
    "plt.ylabel('True Positive Rate')\n",
    "plt.legend()\n",
    "plt.show()\n",
    "print(\"%s: %.2f%%\" %('AUC',bm_auc*100.0))\n"
   ]
  },
  {
   "cell_type": "code",
   "execution_count": 14,
   "metadata": {
    "colab": {
     "base_uri": "https://localhost:8080/",
     "height": 36
    },
    "id": "kFMb6rGNj2Ug",
    "outputId": "a638bab7-a1fd-48f0-f223-704f8f0c93cd"
   },
   "outputs": [
    {
     "data": {
      "text/plain": [
       "'2021-08-12 08:28:08 EDT'"
      ]
     },
     "execution_count": 14,
     "metadata": {},
     "output_type": "execute_result"
    }
   ],
   "source": [
    "t = time.time()\n",
    "time.strftime('%Y-%m-%d %H:%M:%S %Z', time.localtime(t))"
   ]
  },
  {
   "cell_type": "code",
   "execution_count": null,
   "metadata": {
    "id": "e-mEgDrQjUzF"
   },
   "outputs": [],
   "source": []
  }
 ],
 "metadata": {
  "accelerator": "GPU",
  "colab": {
   "collapsed_sections": [],
   "name": "ORF_CNN_133a.ipynb",
   "provenance": []
  },
  "kernelspec": {
   "display_name": "Python 3 (ipykernel)",
   "language": "python",
   "name": "python3"
  },
  "language_info": {
   "codemirror_mode": {
    "name": "ipython",
    "version": 3
   },
   "file_extension": ".py",
   "mimetype": "text/x-python",
   "name": "python",
   "nbconvert_exporter": "python",
   "pygments_lexer": "ipython3",
   "version": "3.8.10"
  }
 },
 "nbformat": 4,
 "nbformat_minor": 1
}
