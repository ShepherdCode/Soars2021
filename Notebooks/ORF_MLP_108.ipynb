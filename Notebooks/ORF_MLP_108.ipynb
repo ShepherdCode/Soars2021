{
  "nbformat": 4,
  "nbformat_minor": 0,
  "metadata": {
    "accelerator": "GPU",
    "colab": {
      "name": "ORF_MLP_108.ipynb",
      "provenance": [],
      "collapsed_sections": []
    },
    "kernelspec": {
      "display_name": "Python 3",
      "language": "python",
      "name": "python3"
    },
    "language_info": {
      "codemirror_mode": {
        "name": "ipython",
        "version": 3
      },
      "file_extension": ".py",
      "mimetype": "text/x-python",
      "name": "python",
      "nbconvert_exporter": "python",
      "pygments_lexer": "ipython3",
      "version": "3.8.3"
    }
  },
  "cells": [
    {
      "cell_type": "markdown",
      "metadata": {
        "id": "0asdcdunj2Tx"
      },
      "source": [
        "# ORF recognition by MLP\n",
        "\n",
        "So far, no MLP has exceeded 50% accurcy on any ORF problem.\n",
        "Here, try a variety of things.\n",
        "\n",
        "RNA length 16, CDS length 8.\n",
        "No luck with 32 neurons or 64 neurons\n",
        "Instead of sigmoid, tried tanh and relu.\n",
        "Instead of 4 layers, tried 1.\n",
        "RNA length 12, CDS length 6.\n",
        "2 layers of 32 neurons, sigmoid.\n",
        "Even 512 neurons, rectangular or triangular, didn't work.\n",
        "Move INPUT_SHAPE from compile() to first layer parameter. \n",
        "\n",
        "This works: All PC='AC'*, all NC='GT'*. \n",
        "100% accurate on one epoch with 2 layers of 12 neurons.\n",
        "\n",
        "Nothing works! Now suspect the data preparation is incorrect. Try trivializing the problem by always adding ATG or TAG."
      ]
    },
    {
      "cell_type": "code",
      "metadata": {
        "colab": {
          "base_uri": "https://localhost:8080/",
          "height": 36
        },
        "id": "QP1VTRNQj2UO",
        "outputId": "33ed53ed-73ef-4e11-e18a-ec247304b156"
      },
      "source": [
        "import time \n",
        "t = time.time()\n",
        "time.strftime('%Y-%m-%d %H:%M:%S %Z', time.localtime(t))"
      ],
      "execution_count": 1,
      "outputs": [
        {
          "output_type": "execute_result",
          "data": {
            "application/vnd.google.colaboratory.intrinsic+json": {
              "type": "string"
            },
            "text/plain": [
              "'2021-06-23 17:58:26 UTC'"
            ]
          },
          "metadata": {
            "tags": []
          },
          "execution_count": 1
        }
      ]
    },
    {
      "cell_type": "code",
      "metadata": {
        "id": "Nhz4GKonj2T_"
      },
      "source": [
        "PC_SEQUENCES=32000   # how many protein-coding sequences\n",
        "NC_SEQUENCES=32000   # how many non-coding sequences\n",
        "PC_TESTS=1000\n",
        "NC_TESTS=1000\n",
        "RNA_LEN=32            # how long is each sequence\n",
        "CDS_LEN=16           # min CDS len to be coding\n",
        "ALPHABET=4          # how many different letters are possible\n",
        "INPUT_SHAPE_2D = (RNA_LEN,ALPHABET,1) # Conv2D needs 3D inputs\n",
        "INPUT_SHAPE = (None,RNA_LEN,ALPHABET) # MLP requires batch size None\n",
        "FILTERS = 16   # how many different patterns the model looks for\n",
        "CELLS = 16\n",
        "NEURONS = 16\n",
        "DROP_RATE = 0.4\n",
        "WIDTH = 3   # how wide each pattern is, in bases\n",
        "STRIDE_2D = (1,1)  # For Conv2D how far in each direction\n",
        "STRIDE = 1 # For Conv1D, how far between pattern matches, in bases\n",
        "EPOCHS=50  # how many times to train on all the data\n",
        "SPLITS=3  # SPLITS=3 means train on 2/3 and validate on 1/3 \n",
        "FOLDS=3  # train the model this many times (range 1 to SPLITS)"
      ],
      "execution_count": 2,
      "outputs": []
    },
    {
      "cell_type": "code",
      "metadata": {
        "colab": {
          "base_uri": "https://localhost:8080/"
        },
        "id": "lr7q90rxj2UE",
        "outputId": "47344528-6aec-4fd0-8a70-3ead38dc0218"
      },
      "source": [
        "import sys\n",
        "IN_COLAB = False\n",
        "try:\n",
        "    from google.colab import drive\n",
        "    IN_COLAB = True\n",
        "except:\n",
        "    pass\n",
        "if IN_COLAB:\n",
        "    print(\"On Google CoLab, mount cloud-local file, get our code from GitHub.\")\n",
        "    PATH='/content/drive/'\n",
        "    #drive.mount(PATH,force_remount=True)  # hardly ever need this\n",
        "    #drive.mount(PATH)    # Google will require login credentials\n",
        "    DATAPATH=PATH+'My Drive/data/'  # must end in \"/\"\n",
        "    import requests\n",
        "    r = requests.get('https://raw.githubusercontent.com/ShepherdCode/Soars2021/master/SimTools/RNA_describe.py')\n",
        "    with open('RNA_describe.py', 'w') as f:\n",
        "        f.write(r.text)  \n",
        "    from RNA_describe import ORF_counter\n",
        "    from RNA_describe import Random_Base_Oracle\n",
        "    r = requests.get('https://raw.githubusercontent.com/ShepherdCode/Soars2021/master/SimTools/RNA_prep.py')\n",
        "    with open('RNA_prep.py', 'w') as f:\n",
        "        f.write(r.text)  \n",
        "    from RNA_prep import prepare_inputs_len_x_alphabet\n",
        "else:\n",
        "        print(\"CoLab not working. On my PC, use relative paths.\")\n",
        "        DATAPATH='data/'  # must end in \"/\"\n",
        "        sys.path.append(\"..\") # append parent dir in order to use sibling dirs\n",
        "        from SimTools.RNA_describe import ORF_counter,Random_Base_Oracle\n",
        "        from SimTools.RNA_prep import prepare_inputs_len_x_alphabet\n",
        "\n",
        "MODELPATH=\"BestModel\"  # saved on cloud instance and lost after logout\n",
        "#MODELPATH=DATAPATH+MODELPATH  # saved on Google Drive but requires login\n"
      ],
      "execution_count": 3,
      "outputs": [
        {
          "output_type": "stream",
          "text": [
            "On Google CoLab, mount cloud-local file, get our code from GitHub.\n"
          ],
          "name": "stdout"
        }
      ]
    },
    {
      "cell_type": "code",
      "metadata": {
        "id": "EGDXH8Uwj2UM"
      },
      "source": [
        "from os import listdir\n",
        "import csv\n",
        "from zipfile import ZipFile\n",
        "\n",
        "import numpy as np\n",
        "import pandas as pd\n",
        "from scipy import stats  # mode\n",
        "\n",
        "from sklearn.preprocessing import StandardScaler\n",
        "from sklearn.model_selection import KFold\n",
        "from sklearn.model_selection import cross_val_score\n",
        "\n",
        "from keras.models import Sequential\n",
        "from keras.layers import Dense,Embedding,Dropout\n",
        "from keras.layers import Conv1D,Conv2D\n",
        "from keras.layers import GRU,LSTM\n",
        "from keras.layers import Flatten,TimeDistributed\n",
        "from keras.layers import MaxPooling1D,MaxPooling2D\n",
        "from keras.losses import BinaryCrossentropy\n",
        "# tf.keras.losses.BinaryCrossentropy\n",
        "\n",
        "import matplotlib.pyplot as plt\n",
        "from matplotlib import colors\n",
        "mycmap = colors.ListedColormap(['red','blue'])  # list color for label 0 then 1\n",
        "np.set_printoptions(precision=2)\n"
      ],
      "execution_count": 4,
      "outputs": []
    },
    {
      "cell_type": "code",
      "metadata": {
        "colab": {
          "base_uri": "https://localhost:8080/"
        },
        "id": "CUOG_jEvGtOm",
        "outputId": "ada1592c-078d-4888-fb7c-efb53ada1b17"
      },
      "source": [
        "rbo=Random_Base_Oracle(RNA_LEN,True)\n",
        "pc_all,nc_all = rbo.get_partitioned_sequences(CDS_LEN,10) # just testing\n",
        "pc_all,nc_all = rbo.get_partitioned_sequences(CDS_LEN,PC_SEQUENCES+PC_TESTS)\n",
        "print(\"Use\",len(pc_all),\"PC seqs\")\n",
        "print(\"Use\",len(nc_all),\"NC seqs\")"
      ],
      "execution_count": 5,
      "outputs": [
        {
          "output_type": "stream",
          "text": [
            "It took 33 trials to reach 10 per class.\n",
            "It took 143442 trials to reach 33000 per class.\n",
            "Use 33000 PC seqs\n",
            "Use 33000 NC seqs\n"
          ],
          "name": "stdout"
        }
      ]
    },
    {
      "cell_type": "code",
      "metadata": {
        "id": "pIMcOB-9yEV6"
      },
      "source": [
        "# Make the problem super easy!\n",
        "def trivialize_sequences(list_of_seq,option):\n",
        "    num_seq = len(list_of_seq)\n",
        "    for i in range(0,num_seq):\n",
        "        seq = list_of_seq[i]\n",
        "        if option==0:\n",
        "            list_of_seq[i] = 'TTTTTT'+seq[6:]\n",
        "        else:\n",
        "            list_of_seq[i] = 'AAAAAA'+seq[6:]\n",
        "\n",
        "if False:\n",
        "    print(\"Trivialize...\")\n",
        "    trivialize_sequences(pc_all,1)\n",
        "    print(\"Trivial PC:\",pc_all[:5])\n",
        "    print(\"Trivial PC:\",pc_all[-5:])\n",
        "    trivialize_sequences(nc_all,0)\n",
        "    print(\"Trivial NC:\",nc_all[:5])\n",
        "    print(\"Trivial NC:\",nc_all[-5:])"
      ],
      "execution_count": 6,
      "outputs": []
    },
    {
      "cell_type": "code",
      "metadata": {
        "colab": {
          "base_uri": "https://localhost:8080/"
        },
        "id": "Q-BmSXi2jUyl",
        "outputId": "8e20b96e-a557-4421-80c0-5365a688840a"
      },
      "source": [
        "# Describe the sequences\n",
        "def describe_sequences(list_of_seq):\n",
        "    oc = ORF_counter()\n",
        "    num_seq = len(list_of_seq)\n",
        "    rna_lens = np.zeros(num_seq)\n",
        "    orf_lens = np.zeros(num_seq)\n",
        "    for i in range(0,num_seq):\n",
        "        rna_len = len(list_of_seq[i])\n",
        "        rna_lens[i] = rna_len\n",
        "        oc.set_sequence(list_of_seq[i])\n",
        "        orf_len = oc.get_max_orf_len()\n",
        "        orf_lens[i] = orf_len\n",
        "    print (\"Average RNA length:\",rna_lens.mean())\n",
        "    print (\"Average ORF length:\",orf_lens.mean())\n",
        "    \n",
        "print(\"Simulated sequences prior to adjustment:\")\n",
        "print(\"PC seqs\")\n",
        "describe_sequences(pc_all)\n",
        "print(\"NC seqs\")\n",
        "describe_sequences(nc_all)"
      ],
      "execution_count": 7,
      "outputs": [
        {
          "output_type": "stream",
          "text": [
            "Simulated sequences prior to adjustment:\n",
            "PC seqs\n",
            "Average RNA length: 32.0\n",
            "Average ORF length: 19.671818181818182\n",
            "NC seqs\n",
            "Average RNA length: 32.0\n",
            "Average ORF length: 2.855909090909091\n"
          ],
          "name": "stdout"
        }
      ]
    },
    {
      "cell_type": "code",
      "metadata": {
        "id": "iP1y7-J3jUys"
      },
      "source": [
        "pc_train=pc_all[:PC_SEQUENCES]\n",
        "nc_train=nc_all[:NC_SEQUENCES]\n",
        "pc_test=pc_all[PC_SEQUENCES:]\n",
        "nc_test=nc_all[NC_SEQUENCES:]"
      ],
      "execution_count": 8,
      "outputs": []
    },
    {
      "cell_type": "code",
      "metadata": {
        "colab": {
          "base_uri": "https://localhost:8080/"
        },
        "id": "CIpTrnH6j2US",
        "outputId": "7512e27f-1ea2-4f43-940c-07964182853d"
      },
      "source": [
        "# Use code from our SimTools library.\n",
        "X,y = prepare_inputs_len_x_alphabet(pc_train,nc_train,ALPHABET) # shuffles\n",
        "print(\"Data ready.\")"
      ],
      "execution_count": 9,
      "outputs": [
        {
          "output_type": "stream",
          "text": [
            "Data ready.\n"
          ],
          "name": "stdout"
        }
      ]
    },
    {
      "cell_type": "code",
      "metadata": {
        "colab": {
          "base_uri": "https://localhost:8080/"
        },
        "id": "CVhr6K95qil7",
        "outputId": "6408b64d-e15b-44c2-9257-f8e62cf1d577"
      },
      "source": [
        "print(len(X),\"sequences total\")\n",
        "print(len(X[0]),\"bases/sequence\")\n",
        "print(len(X[0][0]),\"dimensions/base\")\n",
        "#print(X[0])\n",
        "print(type(X[0]))\n",
        "print(X[0].shape)"
      ],
      "execution_count": 10,
      "outputs": [
        {
          "output_type": "stream",
          "text": [
            "64000 sequences total\n",
            "32 bases/sequence\n",
            "4 dimensions/base\n",
            "<class 'numpy.ndarray'>\n",
            "(32, 4)\n"
          ],
          "name": "stdout"
        }
      ]
    },
    {
      "cell_type": "code",
      "metadata": {
        "colab": {
          "base_uri": "https://localhost:8080/"
        },
        "id": "7NvrVU8ij2UU",
        "outputId": "17fe1f2d-2356-4b1b-dceb-bf166d97c85b"
      },
      "source": [
        "def make_DNN():\n",
        "    print(\"make_DNN\")\n",
        "    print(\"input shape:\",INPUT_SHAPE)\n",
        "    dnn = Sequential()\n",
        "    dnn.add(Flatten())\n",
        "    dnn.add(Dense(NEURONS,activation=\"sigmoid\",dtype=np.float32,\n",
        "                 input_shape=INPUT_SHAPE ))   \n",
        "    dnn.add(Dense(NEURONS,activation=\"sigmoid\",dtype=np.float32))   \n",
        "    dnn.add(Dense(NEURONS,activation=\"sigmoid\",dtype=np.float32))   \n",
        "    dnn.add(Dense(NEURONS,activation=\"sigmoid\",dtype=np.float32))   \n",
        "    #dnn.add(Dropout(DROP_RATE))\n",
        "    dnn.add(Dense(1,activation=\"sigmoid\",dtype=np.float32))   \n",
        "    dnn.compile(optimizer='adam',\n",
        "                loss=BinaryCrossentropy(from_logits=False),\n",
        "                metrics=['accuracy'])   # add to default metrics=loss\n",
        "    dnn.build(input_shape=INPUT_SHAPE) \n",
        "    #dnn.build() \n",
        "    #ln_rate = tf.keras.optimizers.Adam(learning_rate = LN_RATE)\n",
        "    #bc=tf.keras.losses.BinaryCrossentropy(from_logits=False)\n",
        "    #model.compile(loss=bc, optimizer=ln_rate, metrics=[\"accuracy\"])\n",
        "    return dnn\n",
        "\n",
        "model = make_DNN()\n",
        "print(model.summary())"
      ],
      "execution_count": 11,
      "outputs": [
        {
          "output_type": "stream",
          "text": [
            "make_DNN\n",
            "input shape: (None, 32, 4)\n",
            "Model: \"sequential\"\n",
            "_________________________________________________________________\n",
            "Layer (type)                 Output Shape              Param #   \n",
            "=================================================================\n",
            "flatten (Flatten)            (None, 128)               0         \n",
            "_________________________________________________________________\n",
            "dense (Dense)                (None, 16)                2064      \n",
            "_________________________________________________________________\n",
            "dense_1 (Dense)              (None, 16)                272       \n",
            "_________________________________________________________________\n",
            "dense_2 (Dense)              (None, 16)                272       \n",
            "_________________________________________________________________\n",
            "dense_3 (Dense)              (None, 16)                272       \n",
            "_________________________________________________________________\n",
            "dense_4 (Dense)              (None, 1)                 17        \n",
            "=================================================================\n",
            "Total params: 2,897\n",
            "Trainable params: 2,897\n",
            "Non-trainable params: 0\n",
            "_________________________________________________________________\n",
            "None\n"
          ],
          "name": "stdout"
        }
      ]
    },
    {
      "cell_type": "code",
      "metadata": {
        "id": "nlVF0hR3j2UW"
      },
      "source": [
        "from keras.callbacks import ModelCheckpoint\n",
        "def do_cross_validation(X,y):\n",
        "    cv_scores = []\n",
        "    fold=0\n",
        "    mycallbacks = [ModelCheckpoint(\n",
        "        filepath=MODELPATH, save_best_only=True, \n",
        "        monitor='val_accuracy', mode='max')]   \n",
        "    splitter = KFold(n_splits=SPLITS)  # this does not shuffle\n",
        "    for train_index,valid_index in splitter.split(X):\n",
        "        if fold < FOLDS:\n",
        "            fold += 1\n",
        "            X_train=X[train_index] # inputs for training\n",
        "            y_train=y[train_index] # labels for training\n",
        "            X_valid=X[valid_index] # inputs for validation\n",
        "            y_valid=y[valid_index] # labels for validation\n",
        "            print(\"MODEL\")\n",
        "            # Call constructor on each CV. Else, continually improves the same model.\n",
        "            model = model = make_DNN()\n",
        "            print(\"FIT\")  # model.fit() implements learning\n",
        "            start_time=time.time()\n",
        "            history=model.fit(X_train, y_train, \n",
        "                    epochs=EPOCHS, \n",
        "                    verbose=1,  # ascii art while learning\n",
        "                    callbacks=mycallbacks,   # called at end of each epoch\n",
        "                    validation_data=(X_valid,y_valid))\n",
        "            end_time=time.time()\n",
        "            elapsed_time=(end_time-start_time)                        \n",
        "            print(\"Fold %d, %d epochs, %d sec\"%(fold,EPOCHS,elapsed_time))\n",
        "            # print(history.history.keys())  # all these keys will be shown in figure\n",
        "            pd.DataFrame(history.history).plot(figsize=(8,5))\n",
        "            plt.grid(True)\n",
        "            plt.gca().set_ylim(0,1) # any losses > 1 will be off the scale\n",
        "            plt.show()\n"
      ],
      "execution_count": 12,
      "outputs": []
    },
    {
      "cell_type": "code",
      "metadata": {
        "colab": {
          "base_uri": "https://localhost:8080/",
          "height": 1000
        },
        "id": "9Ggt4EsSj2UY",
        "outputId": "c9396107-2387-4b62-e153-44432d6e0c77"
      },
      "source": [
        "do_cross_validation(X,y)"
      ],
      "execution_count": 13,
      "outputs": [
        {
          "output_type": "stream",
          "text": [
            "MODEL\n",
            "make_DNN\n",
            "input shape: (None, 32, 4)\n",
            "FIT\n",
            "Epoch 1/50\n",
            "1334/1334 [==============================] - 17s 3ms/step - loss: 0.6601 - accuracy: 0.5969 - val_loss: 0.5797 - val_accuracy: 0.7062\n",
            "INFO:tensorflow:Assets written to: BestModel/assets\n",
            "Epoch 2/50\n",
            "1334/1334 [==============================] - 4s 3ms/step - loss: 0.5746 - accuracy: 0.7103 - val_loss: 0.5760 - val_accuracy: 0.7054\n",
            "Epoch 3/50\n",
            "1334/1334 [==============================] - 4s 3ms/step - loss: 0.5699 - accuracy: 0.7116 - val_loss: 0.5677 - val_accuracy: 0.7094\n",
            "INFO:tensorflow:Assets written to: BestModel/assets\n",
            "Epoch 4/50\n",
            "1334/1334 [==============================] - 4s 3ms/step - loss: 0.5573 - accuracy: 0.7184 - val_loss: 0.5464 - val_accuracy: 0.7226\n",
            "INFO:tensorflow:Assets written to: BestModel/assets\n",
            "Epoch 5/50\n",
            "1334/1334 [==============================] - 4s 3ms/step - loss: 0.5256 - accuracy: 0.7403 - val_loss: 0.4922 - val_accuracy: 0.7616\n",
            "INFO:tensorflow:Assets written to: BestModel/assets\n",
            "Epoch 6/50\n",
            "1334/1334 [==============================] - 4s 3ms/step - loss: 0.4707 - accuracy: 0.7817 - val_loss: 0.4393 - val_accuracy: 0.7960\n",
            "INFO:tensorflow:Assets written to: BestModel/assets\n",
            "Epoch 7/50\n",
            "1334/1334 [==============================] - 4s 3ms/step - loss: 0.4229 - accuracy: 0.8049 - val_loss: 0.4217 - val_accuracy: 0.8052\n",
            "INFO:tensorflow:Assets written to: BestModel/assets\n",
            "Epoch 8/50\n",
            "1334/1334 [==============================] - 4s 3ms/step - loss: 0.4019 - accuracy: 0.8163 - val_loss: 0.4113 - val_accuracy: 0.8100\n",
            "INFO:tensorflow:Assets written to: BestModel/assets\n",
            "Epoch 9/50\n",
            "1334/1334 [==============================] - 4s 3ms/step - loss: 0.3925 - accuracy: 0.8225 - val_loss: 0.3954 - val_accuracy: 0.8208\n",
            "INFO:tensorflow:Assets written to: BestModel/assets\n",
            "Epoch 10/50\n",
            "1334/1334 [==============================] - 4s 3ms/step - loss: 0.3811 - accuracy: 0.8286 - val_loss: 0.3889 - val_accuracy: 0.8241\n",
            "INFO:tensorflow:Assets written to: BestModel/assets\n",
            "Epoch 11/50\n",
            "1334/1334 [==============================] - 4s 3ms/step - loss: 0.3723 - accuracy: 0.8298 - val_loss: 0.3853 - val_accuracy: 0.8252\n",
            "INFO:tensorflow:Assets written to: BestModel/assets\n",
            "Epoch 12/50\n",
            "1334/1334 [==============================] - 4s 3ms/step - loss: 0.3650 - accuracy: 0.8370 - val_loss: 0.3893 - val_accuracy: 0.8223\n",
            "Epoch 13/50\n",
            "1334/1334 [==============================] - 4s 3ms/step - loss: 0.3527 - accuracy: 0.8431 - val_loss: 0.3807 - val_accuracy: 0.8287\n",
            "INFO:tensorflow:Assets written to: BestModel/assets\n",
            "Epoch 14/50\n",
            "1334/1334 [==============================] - 4s 3ms/step - loss: 0.3503 - accuracy: 0.8434 - val_loss: 0.3759 - val_accuracy: 0.8301\n",
            "INFO:tensorflow:Assets written to: BestModel/assets\n",
            "Epoch 15/50\n",
            "1334/1334 [==============================] - 4s 3ms/step - loss: 0.3474 - accuracy: 0.8455 - val_loss: 0.3745 - val_accuracy: 0.8305\n",
            "INFO:tensorflow:Assets written to: BestModel/assets\n",
            "Epoch 16/50\n",
            "1334/1334 [==============================] - 4s 3ms/step - loss: 0.3452 - accuracy: 0.8468 - val_loss: 0.3739 - val_accuracy: 0.8307\n",
            "INFO:tensorflow:Assets written to: BestModel/assets\n",
            "Epoch 17/50\n",
            "1334/1334 [==============================] - 4s 3ms/step - loss: 0.3422 - accuracy: 0.8476 - val_loss: 0.3678 - val_accuracy: 0.8339\n",
            "INFO:tensorflow:Assets written to: BestModel/assets\n",
            "Epoch 18/50\n",
            "1334/1334 [==============================] - 4s 3ms/step - loss: 0.3350 - accuracy: 0.8510 - val_loss: 0.3707 - val_accuracy: 0.8327\n",
            "Epoch 19/50\n",
            "1334/1334 [==============================] - 4s 3ms/step - loss: 0.3375 - accuracy: 0.8517 - val_loss: 0.3633 - val_accuracy: 0.8349\n",
            "INFO:tensorflow:Assets written to: BestModel/assets\n",
            "Epoch 20/50\n",
            "1334/1334 [==============================] - 4s 3ms/step - loss: 0.3280 - accuracy: 0.8556 - val_loss: 0.3603 - val_accuracy: 0.8373\n",
            "INFO:tensorflow:Assets written to: BestModel/assets\n",
            "Epoch 21/50\n",
            "1334/1334 [==============================] - 4s 3ms/step - loss: 0.3247 - accuracy: 0.8551 - val_loss: 0.3578 - val_accuracy: 0.8379\n",
            "INFO:tensorflow:Assets written to: BestModel/assets\n",
            "Epoch 22/50\n",
            "1334/1334 [==============================] - 4s 3ms/step - loss: 0.3234 - accuracy: 0.8592 - val_loss: 0.3694 - val_accuracy: 0.8313\n",
            "Epoch 23/50\n",
            "1334/1334 [==============================] - 4s 3ms/step - loss: 0.3172 - accuracy: 0.8610 - val_loss: 0.3570 - val_accuracy: 0.8393\n",
            "INFO:tensorflow:Assets written to: BestModel/assets\n",
            "Epoch 24/50\n",
            "1334/1334 [==============================] - 4s 3ms/step - loss: 0.3190 - accuracy: 0.8611 - val_loss: 0.3583 - val_accuracy: 0.8375\n",
            "Epoch 25/50\n",
            "1334/1334 [==============================] - 4s 3ms/step - loss: 0.3138 - accuracy: 0.8633 - val_loss: 0.3521 - val_accuracy: 0.8409\n",
            "INFO:tensorflow:Assets written to: BestModel/assets\n",
            "Epoch 26/50\n",
            "1334/1334 [==============================] - 4s 3ms/step - loss: 0.3151 - accuracy: 0.8634 - val_loss: 0.3468 - val_accuracy: 0.8444\n",
            "INFO:tensorflow:Assets written to: BestModel/assets\n",
            "Epoch 27/50\n",
            "1334/1334 [==============================] - 4s 3ms/step - loss: 0.3112 - accuracy: 0.8636 - val_loss: 0.3446 - val_accuracy: 0.8467\n",
            "INFO:tensorflow:Assets written to: BestModel/assets\n",
            "Epoch 28/50\n",
            "1334/1334 [==============================] - 4s 3ms/step - loss: 0.3075 - accuracy: 0.8666 - val_loss: 0.3422 - val_accuracy: 0.8473\n",
            "INFO:tensorflow:Assets written to: BestModel/assets\n",
            "Epoch 29/50\n",
            "1334/1334 [==============================] - 4s 3ms/step - loss: 0.3107 - accuracy: 0.8645 - val_loss: 0.3441 - val_accuracy: 0.8478\n",
            "INFO:tensorflow:Assets written to: BestModel/assets\n",
            "Epoch 30/50\n",
            "1334/1334 [==============================] - 4s 3ms/step - loss: 0.3047 - accuracy: 0.8702 - val_loss: 0.3416 - val_accuracy: 0.8489\n",
            "INFO:tensorflow:Assets written to: BestModel/assets\n",
            "Epoch 31/50\n",
            "1334/1334 [==============================] - 4s 3ms/step - loss: 0.3080 - accuracy: 0.8671 - val_loss: 0.3416 - val_accuracy: 0.8483\n",
            "Epoch 32/50\n",
            "1334/1334 [==============================] - 4s 3ms/step - loss: 0.3082 - accuracy: 0.8666 - val_loss: 0.3399 - val_accuracy: 0.8501\n",
            "INFO:tensorflow:Assets written to: BestModel/assets\n",
            "Epoch 33/50\n",
            "1334/1334 [==============================] - 4s 3ms/step - loss: 0.3009 - accuracy: 0.8697 - val_loss: 0.3392 - val_accuracy: 0.8493\n",
            "Epoch 34/50\n",
            "1334/1334 [==============================] - 4s 3ms/step - loss: 0.3017 - accuracy: 0.8708 - val_loss: 0.3374 - val_accuracy: 0.8520\n",
            "INFO:tensorflow:Assets written to: BestModel/assets\n",
            "Epoch 35/50\n",
            "1334/1334 [==============================] - 4s 3ms/step - loss: 0.3019 - accuracy: 0.8691 - val_loss: 0.3381 - val_accuracy: 0.8512\n",
            "Epoch 36/50\n",
            "1334/1334 [==============================] - 4s 3ms/step - loss: 0.3006 - accuracy: 0.8689 - val_loss: 0.3344 - val_accuracy: 0.8537\n",
            "INFO:tensorflow:Assets written to: BestModel/assets\n",
            "Epoch 37/50\n",
            "1334/1334 [==============================] - 4s 3ms/step - loss: 0.3011 - accuracy: 0.8680 - val_loss: 0.3449 - val_accuracy: 0.8485\n",
            "Epoch 38/50\n",
            "1334/1334 [==============================] - 4s 3ms/step - loss: 0.3014 - accuracy: 0.8712 - val_loss: 0.3375 - val_accuracy: 0.8500\n",
            "Epoch 39/50\n",
            "1334/1334 [==============================] - 4s 3ms/step - loss: 0.2976 - accuracy: 0.8739 - val_loss: 0.3322 - val_accuracy: 0.8538\n",
            "INFO:tensorflow:Assets written to: BestModel/assets\n",
            "Epoch 40/50\n",
            "1334/1334 [==============================] - 4s 3ms/step - loss: 0.2937 - accuracy: 0.8760 - val_loss: 0.3362 - val_accuracy: 0.8530\n",
            "Epoch 41/50\n",
            "1334/1334 [==============================] - 4s 3ms/step - loss: 0.2976 - accuracy: 0.8715 - val_loss: 0.3342 - val_accuracy: 0.8543\n",
            "INFO:tensorflow:Assets written to: BestModel/assets\n",
            "Epoch 42/50\n",
            "1334/1334 [==============================] - 4s 3ms/step - loss: 0.2984 - accuracy: 0.8720 - val_loss: 0.3306 - val_accuracy: 0.8551\n",
            "INFO:tensorflow:Assets written to: BestModel/assets\n",
            "Epoch 43/50\n",
            "1334/1334 [==============================] - 4s 3ms/step - loss: 0.2940 - accuracy: 0.8755 - val_loss: 0.3278 - val_accuracy: 0.8575\n",
            "INFO:tensorflow:Assets written to: BestModel/assets\n",
            "Epoch 44/50\n",
            "1334/1334 [==============================] - 4s 3ms/step - loss: 0.2941 - accuracy: 0.8734 - val_loss: 0.3299 - val_accuracy: 0.8570\n",
            "Epoch 45/50\n",
            "1334/1334 [==============================] - 4s 3ms/step - loss: 0.2956 - accuracy: 0.8717 - val_loss: 0.3329 - val_accuracy: 0.8554\n",
            "Epoch 46/50\n",
            "1334/1334 [==============================] - 4s 3ms/step - loss: 0.2960 - accuracy: 0.8748 - val_loss: 0.3269 - val_accuracy: 0.8586\n",
            "INFO:tensorflow:Assets written to: BestModel/assets\n",
            "Epoch 47/50\n",
            "1334/1334 [==============================] - 4s 3ms/step - loss: 0.2879 - accuracy: 0.8783 - val_loss: 0.3281 - val_accuracy: 0.8562\n",
            "Epoch 48/50\n",
            "1334/1334 [==============================] - 4s 3ms/step - loss: 0.2900 - accuracy: 0.8756 - val_loss: 0.3272 - val_accuracy: 0.8572\n",
            "Epoch 49/50\n",
            "1334/1334 [==============================] - 4s 3ms/step - loss: 0.2874 - accuracy: 0.8776 - val_loss: 0.3333 - val_accuracy: 0.8582\n",
            "Epoch 50/50\n",
            "1334/1334 [==============================] - 4s 3ms/step - loss: 0.2878 - accuracy: 0.8817 - val_loss: 0.3261 - val_accuracy: 0.8587\n",
            "INFO:tensorflow:Assets written to: BestModel/assets\n",
            "Fold 1, 50 epochs, 273 sec\n"
          ],
          "name": "stdout"
        },
        {
          "output_type": "display_data",
          "data": {
            "image/png": "[encoded data removed]",
            "text/plain": [
              "<Figure size 576x360 with 1 Axes>"
            ]
          },
          "metadata": {
            "tags": [],
            "needs_background": "light"
          }
        },
        {
          "output_type": "stream",
          "text": [
            "MODEL\n",
            "make_DNN\n",
            "input shape: (None, 32, 4)\n",
            "FIT\n",
            "Epoch 1/50\n",
            "1334/1334 [==============================] - 5s 3ms/step - loss: 0.6613 - accuracy: 0.5905 - val_loss: 0.5746 - val_accuracy: 0.7101\n",
            "Epoch 2/50\n",
            "1334/1334 [==============================] - 4s 3ms/step - loss: 0.5766 - accuracy: 0.7088 - val_loss: 0.5702 - val_accuracy: 0.7134\n",
            "Epoch 3/50\n",
            "1334/1334 [==============================] - 4s 3ms/step - loss: 0.5614 - accuracy: 0.7207 - val_loss: 0.5468 - val_accuracy: 0.7302\n",
            "Epoch 4/50\n",
            "1334/1334 [==============================] - 4s 3ms/step - loss: 0.5296 - accuracy: 0.7430 - val_loss: 0.4940 - val_accuracy: 0.7759\n",
            "Epoch 5/50\n",
            "1334/1334 [==============================] - 4s 3ms/step - loss: 0.4791 - accuracy: 0.7810 - val_loss: 0.4348 - val_accuracy: 0.7988\n",
            "Epoch 6/50\n",
            "1334/1334 [==============================] - 4s 3ms/step - loss: 0.4252 - accuracy: 0.8082 - val_loss: 0.4024 - val_accuracy: 0.8220\n",
            "Epoch 7/50\n",
            "1334/1334 [==============================] - 4s 3ms/step - loss: 0.3861 - accuracy: 0.8269 - val_loss: 0.3836 - val_accuracy: 0.8279\n",
            "Epoch 8/50\n",
            "1334/1334 [==============================] - 4s 3ms/step - loss: 0.3759 - accuracy: 0.8300 - val_loss: 0.3724 - val_accuracy: 0.8299\n",
            "Epoch 9/50\n",
            "1334/1334 [==============================] - 4s 3ms/step - loss: 0.3701 - accuracy: 0.8336 - val_loss: 0.3746 - val_accuracy: 0.8323\n",
            "Epoch 10/50\n",
            "1334/1334 [==============================] - 4s 3ms/step - loss: 0.3603 - accuracy: 0.8360 - val_loss: 0.3660 - val_accuracy: 0.8338\n",
            "Epoch 11/50\n",
            "1334/1334 [==============================] - 4s 3ms/step - loss: 0.3516 - accuracy: 0.8439 - val_loss: 0.3609 - val_accuracy: 0.8358\n",
            "Epoch 12/50\n",
            "1334/1334 [==============================] - 4s 3ms/step - loss: 0.3439 - accuracy: 0.8465 - val_loss: 0.3550 - val_accuracy: 0.8416\n",
            "Epoch 13/50\n",
            "1334/1334 [==============================] - 4s 3ms/step - loss: 0.3412 - accuracy: 0.8472 - val_loss: 0.3511 - val_accuracy: 0.8440\n",
            "Epoch 14/50\n",
            "1334/1334 [==============================] - 4s 3ms/step - loss: 0.3362 - accuracy: 0.8519 - val_loss: 0.3525 - val_accuracy: 0.8441\n",
            "Epoch 15/50\n",
            "1334/1334 [==============================] - 4s 3ms/step - loss: 0.3304 - accuracy: 0.8556 - val_loss: 0.3551 - val_accuracy: 0.8416\n",
            "Epoch 16/50\n",
            "1334/1334 [==============================] - 4s 3ms/step - loss: 0.3288 - accuracy: 0.8565 - val_loss: 0.3445 - val_accuracy: 0.8466\n",
            "Epoch 17/50\n",
            "1334/1334 [==============================] - 4s 3ms/step - loss: 0.3230 - accuracy: 0.8604 - val_loss: 0.3413 - val_accuracy: 0.8500\n",
            "Epoch 18/50\n",
            "1334/1334 [==============================] - 4s 3ms/step - loss: 0.3171 - accuracy: 0.8612 - val_loss: 0.3431 - val_accuracy: 0.8483\n",
            "Epoch 19/50\n",
            "1334/1334 [==============================] - 4s 3ms/step - loss: 0.3203 - accuracy: 0.8600 - val_loss: 0.3396 - val_accuracy: 0.8521\n",
            "Epoch 20/50\n",
            "1334/1334 [==============================] - 4s 3ms/step - loss: 0.3186 - accuracy: 0.8619 - val_loss: 0.3397 - val_accuracy: 0.8513\n",
            "Epoch 21/50\n",
            "1334/1334 [==============================] - 4s 3ms/step - loss: 0.3106 - accuracy: 0.8648 - val_loss: 0.3331 - val_accuracy: 0.8549\n",
            "Epoch 22/50\n",
            "1334/1334 [==============================] - 4s 3ms/step - loss: 0.3067 - accuracy: 0.8683 - val_loss: 0.3449 - val_accuracy: 0.8474\n",
            "Epoch 23/50\n",
            "1334/1334 [==============================] - 4s 3ms/step - loss: 0.3109 - accuracy: 0.8654 - val_loss: 0.3327 - val_accuracy: 0.8550\n",
            "Epoch 24/50\n",
            "1334/1334 [==============================] - 4s 3ms/step - loss: 0.3070 - accuracy: 0.8704 - val_loss: 0.3394 - val_accuracy: 0.8522\n",
            "Epoch 25/50\n",
            "1334/1334 [==============================] - 4s 3ms/step - loss: 0.3073 - accuracy: 0.8669 - val_loss: 0.3374 - val_accuracy: 0.8532\n",
            "Epoch 26/50\n",
            "1334/1334 [==============================] - 4s 3ms/step - loss: 0.3015 - accuracy: 0.8702 - val_loss: 0.3352 - val_accuracy: 0.8530\n",
            "Epoch 27/50\n",
            "1334/1334 [==============================] - 4s 3ms/step - loss: 0.2975 - accuracy: 0.8732 - val_loss: 0.3281 - val_accuracy: 0.8580\n",
            "Epoch 28/50\n",
            "1334/1334 [==============================] - 4s 3ms/step - loss: 0.2969 - accuracy: 0.8717 - val_loss: 0.3247 - val_accuracy: 0.8593\n",
            "INFO:tensorflow:Assets written to: BestModel/assets\n",
            "Epoch 29/50\n",
            "1334/1334 [==============================] - 4s 3ms/step - loss: 0.2965 - accuracy: 0.8714 - val_loss: 0.3245 - val_accuracy: 0.8588\n",
            "Epoch 30/50\n",
            "1334/1334 [==============================] - 4s 3ms/step - loss: 0.2987 - accuracy: 0.8737 - val_loss: 0.3207 - val_accuracy: 0.8617\n",
            "INFO:tensorflow:Assets written to: BestModel/assets\n",
            "Epoch 31/50\n",
            "1334/1334 [==============================] - 4s 3ms/step - loss: 0.2881 - accuracy: 0.8778 - val_loss: 0.3218 - val_accuracy: 0.8618\n",
            "INFO:tensorflow:Assets written to: BestModel/assets\n",
            "Epoch 32/50\n",
            "1334/1334 [==============================] - 4s 3ms/step - loss: 0.2893 - accuracy: 0.8764 - val_loss: 0.3207 - val_accuracy: 0.8611\n",
            "Epoch 33/50\n",
            "1334/1334 [==============================] - 4s 3ms/step - loss: 0.2882 - accuracy: 0.8778 - val_loss: 0.3153 - val_accuracy: 0.8646\n",
            "INFO:tensorflow:Assets written to: BestModel/assets\n",
            "Epoch 34/50\n",
            "1334/1334 [==============================] - 4s 3ms/step - loss: 0.2857 - accuracy: 0.8791 - val_loss: 0.3129 - val_accuracy: 0.8665\n",
            "INFO:tensorflow:Assets written to: BestModel/assets\n",
            "Epoch 35/50\n",
            "1334/1334 [==============================] - 4s 3ms/step - loss: 0.2835 - accuracy: 0.8812 - val_loss: 0.3130 - val_accuracy: 0.8669\n",
            "INFO:tensorflow:Assets written to: BestModel/assets\n",
            "Epoch 36/50\n",
            "1334/1334 [==============================] - 4s 3ms/step - loss: 0.2850 - accuracy: 0.8796 - val_loss: 0.3107 - val_accuracy: 0.8685\n",
            "INFO:tensorflow:Assets written to: BestModel/assets\n",
            "Epoch 37/50\n",
            "1334/1334 [==============================] - 4s 3ms/step - loss: 0.2819 - accuracy: 0.8806 - val_loss: 0.3104 - val_accuracy: 0.8674\n",
            "Epoch 38/50\n",
            "1334/1334 [==============================] - 4s 3ms/step - loss: 0.2819 - accuracy: 0.8832 - val_loss: 0.3105 - val_accuracy: 0.8686\n",
            "INFO:tensorflow:Assets written to: BestModel/assets\n",
            "Epoch 39/50\n",
            "1334/1334 [==============================] - 4s 3ms/step - loss: 0.2758 - accuracy: 0.8839 - val_loss: 0.3064 - val_accuracy: 0.8714\n",
            "INFO:tensorflow:Assets written to: BestModel/assets\n",
            "Epoch 40/50\n",
            "1334/1334 [==============================] - 4s 3ms/step - loss: 0.2781 - accuracy: 0.8839 - val_loss: 0.3039 - val_accuracy: 0.8731\n",
            "INFO:tensorflow:Assets written to: BestModel/assets\n",
            "Epoch 41/50\n",
            "1334/1334 [==============================] - 4s 3ms/step - loss: 0.2727 - accuracy: 0.8869 - val_loss: 0.3024 - val_accuracy: 0.8724\n",
            "Epoch 42/50\n",
            "1334/1334 [==============================] - 4s 3ms/step - loss: 0.2665 - accuracy: 0.8892 - val_loss: 0.3006 - val_accuracy: 0.8752\n",
            "INFO:tensorflow:Assets written to: BestModel/assets\n",
            "Epoch 43/50\n",
            "1334/1334 [==============================] - 4s 3ms/step - loss: 0.2711 - accuracy: 0.8863 - val_loss: 0.3003 - val_accuracy: 0.8745\n",
            "Epoch 44/50\n",
            "1334/1334 [==============================] - 4s 3ms/step - loss: 0.2657 - accuracy: 0.8898 - val_loss: 0.2997 - val_accuracy: 0.8744\n",
            "Epoch 45/50\n",
            "1334/1334 [==============================] - 4s 3ms/step - loss: 0.2725 - accuracy: 0.8860 - val_loss: 0.2992 - val_accuracy: 0.8758\n",
            "INFO:tensorflow:Assets written to: BestModel/assets\n",
            "Epoch 46/50\n",
            "1334/1334 [==============================] - 4s 3ms/step - loss: 0.2629 - accuracy: 0.8924 - val_loss: 0.2974 - val_accuracy: 0.8745\n",
            "Epoch 47/50\n",
            "1334/1334 [==============================] - 4s 3ms/step - loss: 0.2629 - accuracy: 0.8911 - val_loss: 0.2985 - val_accuracy: 0.8737\n",
            "Epoch 48/50\n",
            "1334/1334 [==============================] - 4s 3ms/step - loss: 0.2622 - accuracy: 0.8902 - val_loss: 0.3069 - val_accuracy: 0.8723\n",
            "Epoch 49/50\n",
            "1334/1334 [==============================] - 4s 3ms/step - loss: 0.2653 - accuracy: 0.8900 - val_loss: 0.2943 - val_accuracy: 0.8753\n",
            "Epoch 50/50\n",
            "1334/1334 [==============================] - 4s 3ms/step - loss: 0.2611 - accuracy: 0.8910 - val_loss: 0.2955 - val_accuracy: 0.8764\n",
            "INFO:tensorflow:Assets written to: BestModel/assets\n",
            "Fold 2, 50 epochs, 262 sec\n"
          ],
          "name": "stdout"
        },
        {
          "output_type": "display_data",
          "data": {
            "image/png": "[encoded data removed]",
            "text/plain": [
              "<Figure size 576x360 with 1 Axes>"
            ]
          },
          "metadata": {
            "tags": [],
            "needs_background": "light"
          }
        },
        {
          "output_type": "stream",
          "text": [
            "MODEL\n",
            "make_DNN\n",
            "input shape: (None, 32, 4)\n",
            "FIT\n",
            "Epoch 1/50\n",
            "1334/1334 [==============================] - 5s 3ms/step - loss: 0.6841 - accuracy: 0.5660 - val_loss: 0.5790 - val_accuracy: 0.7074\n",
            "Epoch 2/50\n",
            "1334/1334 [==============================] - 4s 3ms/step - loss: 0.5776 - accuracy: 0.7095 - val_loss: 0.5731 - val_accuracy: 0.7115\n",
            "Epoch 3/50\n",
            "1334/1334 [==============================] - 4s 3ms/step - loss: 0.5707 - accuracy: 0.7128 - val_loss: 0.5656 - val_accuracy: 0.7137\n",
            "Epoch 4/50\n",
            "1334/1334 [==============================] - 4s 3ms/step - loss: 0.5670 - accuracy: 0.7087 - val_loss: 0.5519 - val_accuracy: 0.7213\n",
            "Epoch 5/50\n",
            "1334/1334 [==============================] - 4s 3ms/step - loss: 0.5480 - accuracy: 0.7223 - val_loss: 0.5263 - val_accuracy: 0.7372\n",
            "Epoch 6/50\n",
            "1334/1334 [==============================] - 4s 3ms/step - loss: 0.5130 - accuracy: 0.7488 - val_loss: 0.4692 - val_accuracy: 0.7727\n",
            "Epoch 7/50\n",
            "1334/1334 [==============================] - 4s 3ms/step - loss: 0.4499 - accuracy: 0.7858 - val_loss: 0.4268 - val_accuracy: 0.8030\n",
            "Epoch 8/50\n",
            "1334/1334 [==============================] - 4s 3ms/step - loss: 0.4098 - accuracy: 0.8118 - val_loss: 0.4102 - val_accuracy: 0.8134\n",
            "Epoch 9/50\n",
            "1334/1334 [==============================] - 4s 3ms/step - loss: 0.3893 - accuracy: 0.8242 - val_loss: 0.3959 - val_accuracy: 0.8207\n",
            "Epoch 10/50\n",
            "1334/1334 [==============================] - 4s 3ms/step - loss: 0.3784 - accuracy: 0.8277 - val_loss: 0.3895 - val_accuracy: 0.8260\n",
            "Epoch 11/50\n",
            "1334/1334 [==============================] - 4s 3ms/step - loss: 0.3659 - accuracy: 0.8369 - val_loss: 0.3927 - val_accuracy: 0.8225\n",
            "Epoch 12/50\n",
            "1334/1334 [==============================] - 4s 3ms/step - loss: 0.3529 - accuracy: 0.8418 - val_loss: 0.3806 - val_accuracy: 0.8284\n",
            "Epoch 13/50\n",
            "1334/1334 [==============================] - 4s 3ms/step - loss: 0.3557 - accuracy: 0.8403 - val_loss: 0.3731 - val_accuracy: 0.8326\n",
            "Epoch 14/50\n",
            "1334/1334 [==============================] - 4s 3ms/step - loss: 0.3453 - accuracy: 0.8457 - val_loss: 0.3676 - val_accuracy: 0.8363\n",
            "Epoch 15/50\n",
            "1334/1334 [==============================] - 4s 3ms/step - loss: 0.3443 - accuracy: 0.8487 - val_loss: 0.3648 - val_accuracy: 0.8385\n",
            "Epoch 16/50\n",
            "1334/1334 [==============================] - 4s 3ms/step - loss: 0.3333 - accuracy: 0.8527 - val_loss: 0.3742 - val_accuracy: 0.8319\n",
            "Epoch 17/50\n",
            "1334/1334 [==============================] - 4s 3ms/step - loss: 0.3331 - accuracy: 0.8549 - val_loss: 0.3590 - val_accuracy: 0.8425\n",
            "Epoch 18/50\n",
            "1334/1334 [==============================] - 4s 3ms/step - loss: 0.3314 - accuracy: 0.8529 - val_loss: 0.3572 - val_accuracy: 0.8438\n",
            "Epoch 19/50\n",
            "1334/1334 [==============================] - 4s 3ms/step - loss: 0.3239 - accuracy: 0.8577 - val_loss: 0.3632 - val_accuracy: 0.8405\n",
            "Epoch 20/50\n",
            "1334/1334 [==============================] - 4s 3ms/step - loss: 0.3214 - accuracy: 0.8584 - val_loss: 0.3533 - val_accuracy: 0.8431\n",
            "Epoch 21/50\n",
            "1334/1334 [==============================] - 4s 3ms/step - loss: 0.3199 - accuracy: 0.8615 - val_loss: 0.3504 - val_accuracy: 0.8475\n",
            "Epoch 22/50\n",
            "1334/1334 [==============================] - 4s 3ms/step - loss: 0.3115 - accuracy: 0.8631 - val_loss: 0.3487 - val_accuracy: 0.8483\n",
            "Epoch 23/50\n",
            "1334/1334 [==============================] - 4s 3ms/step - loss: 0.3128 - accuracy: 0.8631 - val_loss: 0.3460 - val_accuracy: 0.8482\n",
            "Epoch 24/50\n",
            "1334/1334 [==============================] - 4s 3ms/step - loss: 0.3159 - accuracy: 0.8625 - val_loss: 0.3499 - val_accuracy: 0.8490\n",
            "Epoch 25/50\n",
            "1334/1334 [==============================] - 4s 3ms/step - loss: 0.3113 - accuracy: 0.8641 - val_loss: 0.3434 - val_accuracy: 0.8510\n",
            "Epoch 26/50\n",
            "1334/1334 [==============================] - 4s 3ms/step - loss: 0.3108 - accuracy: 0.8654 - val_loss: 0.3517 - val_accuracy: 0.8492\n",
            "Epoch 27/50\n",
            "1334/1334 [==============================] - 4s 3ms/step - loss: 0.3129 - accuracy: 0.8632 - val_loss: 0.3411 - val_accuracy: 0.8515\n",
            "Epoch 28/50\n",
            "1334/1334 [==============================] - 4s 3ms/step - loss: 0.3010 - accuracy: 0.8678 - val_loss: 0.3437 - val_accuracy: 0.8511\n",
            "Epoch 29/50\n",
            "1334/1334 [==============================] - 4s 3ms/step - loss: 0.3057 - accuracy: 0.8670 - val_loss: 0.3388 - val_accuracy: 0.8536\n",
            "Epoch 30/50\n",
            "1334/1334 [==============================] - 4s 3ms/step - loss: 0.2948 - accuracy: 0.8726 - val_loss: 0.3421 - val_accuracy: 0.8517\n",
            "Epoch 31/50\n",
            "1334/1334 [==============================] - 4s 3ms/step - loss: 0.2977 - accuracy: 0.8708 - val_loss: 0.3397 - val_accuracy: 0.8536\n",
            "Epoch 32/50\n",
            "1334/1334 [==============================] - 4s 3ms/step - loss: 0.2982 - accuracy: 0.8724 - val_loss: 0.3394 - val_accuracy: 0.8540\n",
            "Epoch 33/50\n",
            "1334/1334 [==============================] - 4s 3ms/step - loss: 0.2977 - accuracy: 0.8715 - val_loss: 0.3431 - val_accuracy: 0.8521\n",
            "Epoch 34/50\n",
            "1334/1334 [==============================] - 4s 3ms/step - loss: 0.2985 - accuracy: 0.8708 - val_loss: 0.3336 - val_accuracy: 0.8565\n",
            "Epoch 35/50\n",
            "1334/1334 [==============================] - 4s 3ms/step - loss: 0.2906 - accuracy: 0.8742 - val_loss: 0.3372 - val_accuracy: 0.8556\n",
            "Epoch 36/50\n",
            "1334/1334 [==============================] - 4s 3ms/step - loss: 0.2945 - accuracy: 0.8736 - val_loss: 0.3334 - val_accuracy: 0.8552\n",
            "Epoch 37/50\n",
            "1334/1334 [==============================] - 4s 3ms/step - loss: 0.2935 - accuracy: 0.8738 - val_loss: 0.3376 - val_accuracy: 0.8556\n",
            "Epoch 38/50\n",
            "1334/1334 [==============================] - 4s 3ms/step - loss: 0.2917 - accuracy: 0.8755 - val_loss: 0.3307 - val_accuracy: 0.8572\n",
            "Epoch 39/50\n",
            "1334/1334 [==============================] - 4s 3ms/step - loss: 0.2904 - accuracy: 0.8753 - val_loss: 0.3332 - val_accuracy: 0.8566\n",
            "Epoch 40/50\n",
            "1334/1334 [==============================] - 4s 3ms/step - loss: 0.2856 - accuracy: 0.8777 - val_loss: 0.3307 - val_accuracy: 0.8576\n",
            "Epoch 41/50\n",
            "1334/1334 [==============================] - 4s 3ms/step - loss: 0.2854 - accuracy: 0.8775 - val_loss: 0.3278 - val_accuracy: 0.8587\n",
            "Epoch 42/50\n",
            "1334/1334 [==============================] - 4s 3ms/step - loss: 0.2884 - accuracy: 0.8762 - val_loss: 0.3314 - val_accuracy: 0.8583\n",
            "Epoch 43/50\n",
            "1334/1334 [==============================] - 4s 3ms/step - loss: 0.2931 - accuracy: 0.8744 - val_loss: 0.3293 - val_accuracy: 0.8601\n",
            "Epoch 44/50\n",
            "1334/1334 [==============================] - 4s 3ms/step - loss: 0.2805 - accuracy: 0.8822 - val_loss: 0.3279 - val_accuracy: 0.8608\n",
            "Epoch 45/50\n",
            "1334/1334 [==============================] - 4s 3ms/step - loss: 0.2829 - accuracy: 0.8804 - val_loss: 0.3234 - val_accuracy: 0.8624\n",
            "Epoch 46/50\n",
            "1334/1334 [==============================] - 4s 3ms/step - loss: 0.2847 - accuracy: 0.8780 - val_loss: 0.3263 - val_accuracy: 0.8615\n",
            "Epoch 47/50\n",
            "1334/1334 [==============================] - 4s 3ms/step - loss: 0.2836 - accuracy: 0.8789 - val_loss: 0.3234 - val_accuracy: 0.8627\n",
            "Epoch 48/50\n",
            "1334/1334 [==============================] - 4s 3ms/step - loss: 0.2847 - accuracy: 0.8799 - val_loss: 0.3209 - val_accuracy: 0.8643\n",
            "Epoch 49/50\n",
            "1334/1334 [==============================] - 4s 3ms/step - loss: 0.2798 - accuracy: 0.8821 - val_loss: 0.3203 - val_accuracy: 0.8627\n",
            "Epoch 50/50\n",
            "1334/1334 [==============================] - 4s 3ms/step - loss: 0.2772 - accuracy: 0.8813 - val_loss: 0.3315 - val_accuracy: 0.8597\n",
            "Fold 3, 50 epochs, 213 sec\n"
          ],
          "name": "stdout"
        },
        {
          "output_type": "display_data",
          "data": {
            "image/png": "[encoded data removed]",
            "text/plain": [
              "<Figure size 576x360 with 1 Axes>"
            ]
          },
          "metadata": {
            "tags": [],
            "needs_background": "light"
          }
        }
      ]
    },
    {
      "cell_type": "code",
      "metadata": {
        "colab": {
          "base_uri": "https://localhost:8080/"
        },
        "id": "e-jG1h5fj2Ua",
        "outputId": "f44624c5-423e-4221-e63a-99fb40a3ffd0"
      },
      "source": [
        "from keras.models import load_model\n",
        "X,y = prepare_inputs_len_x_alphabet(pc_test,nc_test,ALPHABET)\n",
        "best_model=load_model(MODELPATH)\n",
        "scores = best_model.evaluate(X, y, verbose=0)\n",
        "print(\"The best model parameters were saved during cross-validation.\")\n",
        "print(\"Best was defined as maximum validation accuracy at end of any epoch.\")\n",
        "print(\"Now re-load the best model and test it on previously unseen data.\")\n",
        "print(\"Test on\",len(pc_test),\"PC seqs\")\n",
        "print(\"Test on\",len(nc_test),\"NC seqs\")\n",
        "print(\"%s: %.2f%%\" % (best_model.metrics_names[1], scores[1]*100))\n"
      ],
      "execution_count": 14,
      "outputs": [
        {
          "output_type": "stream",
          "text": [
            "The best model parameters were saved during cross-validation.\n",
            "Best was defined as maximum validation accuracy at end of any epoch.\n",
            "Now re-load the best model and test it on previously unseen data.\n",
            "Test on 1000 PC seqs\n",
            "Test on 1000 NC seqs\n",
            "accuracy: 87.15%\n"
          ],
          "name": "stdout"
        }
      ]
    },
    {
      "cell_type": "code",
      "metadata": {
        "colab": {
          "base_uri": "https://localhost:8080/",
          "height": 312
        },
        "id": "VycUnmvUj2Ue",
        "outputId": "3eae120f-626b-4d49-bb05-d684a02f6b73"
      },
      "source": [
        "from sklearn.metrics import roc_curve\n",
        "from sklearn.metrics import roc_auc_score\n",
        "ns_probs = [0 for _ in range(len(y))]\n",
        "bm_probs = best_model.predict(X)\n",
        "ns_auc = roc_auc_score(y, ns_probs)\n",
        "bm_auc = roc_auc_score(y, bm_probs)\n",
        "ns_fpr, ns_tpr, _ = roc_curve(y, ns_probs)\n",
        "bm_fpr, bm_tpr, _ = roc_curve(y, bm_probs)\n",
        "plt.plot(ns_fpr, ns_tpr, linestyle='--', label='Guess, auc=%.4f'%ns_auc)\n",
        "plt.plot(bm_fpr, bm_tpr, marker='.', label='Model, auc=%.4f'%bm_auc)\n",
        "plt.title('ROC')\n",
        "plt.xlabel('False Positive Rate')\n",
        "plt.ylabel('True Positive Rate')\n",
        "plt.legend()\n",
        "plt.show()\n",
        "print(\"%s: %.2f%%\" %('AUC',bm_auc*100.0))\n"
      ],
      "execution_count": 15,
      "outputs": [
        {
          "output_type": "display_data",
          "data": {
            "image/png": "[encoded data removed]",
            "text/plain": [
              "<Figure size 432x288 with 1 Axes>"
            ]
          },
          "metadata": {
            "tags": [],
            "needs_background": "light"
          }
        },
        {
          "output_type": "stream",
          "text": [
            "AUC: 94.13%\n"
          ],
          "name": "stdout"
        }
      ]
    },
    {
      "cell_type": "code",
      "metadata": {
        "id": "kFMb6rGNj2Ug",
        "colab": {
          "base_uri": "https://localhost:8080/",
          "height": 36
        },
        "outputId": "d8b48249-7346-4175-f364-fbd93a990404"
      },
      "source": [
        "t = time.time()\n",
        "time.strftime('%Y-%m-%d %H:%M:%S %Z', time.localtime(t))"
      ],
      "execution_count": 16,
      "outputs": [
        {
          "output_type": "execute_result",
          "data": {
            "application/vnd.google.colaboratory.intrinsic+json": {
              "type": "string"
            },
            "text/plain": [
              "'2021-06-23 18:11:08 UTC'"
            ]
          },
          "metadata": {
            "tags": []
          },
          "execution_count": 16
        }
      ]
    },
    {
      "cell_type": "code",
      "metadata": {
        "id": "e-mEgDrQjUzF"
      },
      "source": [
        ""
      ],
      "execution_count": 16,
      "outputs": []
    }
  ]
}