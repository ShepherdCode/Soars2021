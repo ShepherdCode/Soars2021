{
  "nbformat": 4,
  "nbformat_minor": 0,
  "metadata": {
    "colab": {
      "name": "Analyzer_102.ipynb",
      "provenance": [],
      "collapsed_sections": []
    },
    "kernelspec": {
      "name": "python3",
      "display_name": "Python 3"
    },
    "language_info": {
      "name": "python"
    }
  },
  "cells": [
    {
      "cell_type": "markdown",
      "metadata": {
        "id": "QxjDXgzOuzm9"
      },
      "source": [
        "##Analyzer\n",
        "\n",
        "Statistically and visually compare mRNA and lncRNA sequences from GenCode.v38.\n",
        "\n",
        "Assume user downloaded files from GenCode38 [FTP](http://ftp.ebi.ac.uk/pub/databases/gencode/Gencode_human/release_38/)\n",
        "to a subdirectory called data."
      ]
    },
    {
      "cell_type": "markdown",
      "metadata": {
        "id": "CWH1hul6uKub"
      },
      "source": [
        "##Import Dependencies\n"
      ]
    },
    {
      "cell_type": "code",
      "metadata": {
        "colab": {
          "base_uri": "https://localhost:8080/"
        },
        "id": "cMB8T39CuJ2Y",
        "outputId": "612757bd-ee93-4a81-a63d-ea779b2eb51e"
      },
      "source": [
        "import numpy as np\n",
        "import matplotlib.pyplot as plt\n",
        "import random\n",
        "import pandas as pd\n",
        "import gzip\n",
        "from scipy.stats import chisquare, kstest\n",
        "import sys\n",
        "\n",
        "from sklearn.utils import shuffle\n",
        "from sklearn.model_selection import KFold\n",
        "from sklearn.model_selection import cross_val_score\n",
        "from sklearn.metrics import roc_curve\n",
        "from sklearn.metrics import roc_auc_score\n",
        "from keras.models import Sequential\n",
        "from keras.layers import Dense,Embedding,Dropout\n",
        "from keras.layers import Flatten,TimeDistributed\n",
        "from keras.losses import BinaryCrossentropy\n",
        "from keras.callbacks import ModelCheckpoint\n",
        "from keras.models import load_model\n",
        "\n",
        "try:\n",
        "    from google.colab import drive\n",
        "    IN_COLAB = True\n",
        "    print(\"On Google CoLab, mount cloud-local file, get our code from GitHub.\")\n",
        "    PATH='/content/drive/'\n",
        "    #drive.mount(PATH,force_remount=True)  # hardly ever need this\n",
        "    drive.mount(PATH)    # Google will require login credentials\n",
        "    DATAPATH=PATH+'My Drive/data/'  # must end in \"/\"\n",
        "    import requests\n",
        "    s = requests.get('https://raw.githubusercontent.com/ShepherdCode/Soars2021/master/SimTools/RNA_describe.py')\n",
        "    with open('RNA_describe.py', 'w') as f:\n",
        "      f.write(s.text)  # writes to cloud local, delete the file later?\n",
        "    s = requests.get('https://raw.githubusercontent.com/ShepherdCode/Soars2021/master/SimTools/GenCodeTools.py')\n",
        "    with open ('GenCodeTools.py', 'w') as f:\n",
        "      f.write(s.text)\n",
        "    s = requests.get('https://raw.githubusercontent.com/ShepherdCode/Soars2021/master/SimTools/plot_generator.py')\n",
        "    with open('plot_generator.py', 'w') as f:\n",
        "      f.write(s.text)\n",
        "    s = requests.get('https://raw.githubusercontent.com/ShepherdCode/Soars2021/master/SimTools/KmerTools.py')\n",
        "    with open('KmerTools.py', 'w') as f:\n",
        "      f.write(s.text)  \n",
        "    from KmerTools import KmerTools\n",
        "    from RNA_describe import *\n",
        "    from GenCodeTools import *\n",
        "    from plot_generator import *\n",
        "except:\n",
        "    print(\"CoLab not working. On my PC, use relative paths.\")\n",
        "    IN_COLAB = False\n",
        "    DATAPATH='../data/'  # must end in \"/\"\n",
        "    sys.path.append(\"..\") # append parent dir in order to use sibling dirs\n",
        "    from SimTools.RNA_describe import *\n",
        "    from SimTools.GenCodeTools import *\n",
        "    from SimTools.plot_generator import *\n",
        "    from SimTools.KmerTools import KmerTools\n",
        "\n",
        "MODELPATH=\"BestModel\"  # saved on cloud instance and lost after logout\n",
        "#MODELPATH=DATAPATH+MODELPATH  # saved on Google Drive but requires login\n",
        "\n",
        "if not assert_imported_RNA_describe():\n",
        "    print(\"ERROR: Cannot use RNA_describe.\")"
      ],
      "execution_count": 1,
      "outputs": [
        {
          "output_type": "stream",
          "text": [
            "On Google CoLab, mount cloud-local file, get our code from GitHub.\n",
            "Drive already mounted at /content/drive/; to attempt to forcibly remount, call drive.mount(\"/content/drive/\", force_remount=True).\n"
          ],
          "name": "stdout"
        }
      ]
    },
    {
      "cell_type": "markdown",
      "metadata": {
        "id": "T8RNNlZGsZN5"
      },
      "source": [
        "##Load GenCode Data\n",
        "Loads GenCode.v38 data.\n",
        "\n",
        "Filters out mRNA sequences based on UTR check."
      ]
    },
    {
      "cell_type": "code",
      "metadata": {
        "colab": {
          "base_uri": "https://localhost:8080/"
        },
        "id": "37JnfHgWt_-U",
        "outputId": "d0a7f9f5-da0d-468a-d8e2-67bf8227ab73"
      },
      "source": [
        "PC_FILENAME='gencode.v38.pc_transcripts.fa.gz'\n",
        "NC_FILENAME='gencode.v38.lncRNA_transcripts.fa.gz'\n",
        "PC_FULLPATH=DATAPATH+PC_FILENAME\n",
        "NC_FULLPATH=DATAPATH+NC_FILENAME\n",
        "loader=GenCodeLoader()\n",
        "loader.set_label(1)\n",
        "loader.set_check_list(None) \n",
        "loader.set_check_utr(True)\n",
        "pcdf=loader.load_file(PC_FULLPATH)\n",
        "print(\"PC seqs loaded:\",len(pcdf))\n",
        "loader.set_label(0)\n",
        "loader.set_check_list(None)\n",
        "loader.set_check_utr(False)\n",
        "ncdf=loader.load_file(NC_FULLPATH)\n",
        "print(\"NC seqs loaded:\",len(ncdf))"
      ],
      "execution_count": 2,
      "outputs": [
        {
          "output_type": "stream",
          "text": [
            "PC seqs loaded: 70825\n",
            "NC seqs loaded: 48752\n"
          ],
          "name": "stdout"
        }
      ]
    },
    {
      "cell_type": "markdown",
      "metadata": {
        "id": "J0y1XAPLvr_G"
      },
      "source": [
        "##Process Sequences\n"
      ]
    },
    {
      "cell_type": "markdown",
      "metadata": {
        "id": "si3kGF7kTZ3M"
      },
      "source": [
        "Generate Sample of GENCODE Data Set\n",
        "\n",
        "Apply Length Constraints\n",
        "\n",
        "Validate Sequences"
      ]
    },
    {
      "cell_type": "code",
      "metadata": {
        "id": "6V7WMCLN3l1q"
      },
      "source": [
        "APPLY_SUBSET = True             #Option to subset the data\n",
        "MINIMUM_SEQUENCE_LENGTH = 200   #Minimum exclusive length to filter out sequences by\n",
        "MAXIMUM_SEQUENCE_LENGTH = 4000  #Maximum inclusive length to filter out sequences by\n",
        "SAMPLE_FRACTION = 1             #What fraction of the GenCode data set to take a sample of\n",
        "REPRODUCABILITY_SEED = 314159   #Use to reproduce random sampling"
      ],
      "execution_count": 3,
      "outputs": []
    },
    {
      "cell_type": "code",
      "metadata": {
        "colab": {
          "base_uri": "https://localhost:8080/"
        },
        "id": "ANtZknso53FT",
        "outputId": "6fd5c23c-6651-425e-dbce-1852734da6bd"
      },
      "source": [
        "if APPLY_SUBSET:\n",
        "  pcdf = pcdf.sample(frac=SAMPLE_FRACTION, random_state=REPRODUCABILITY_SEED)\n",
        "  ncdf = ncdf.sample(frac=SAMPLE_FRACTION, random_state=REPRODUCABILITY_SEED)\n",
        "\n",
        "  print('PC sample size:', len(pcdf))\n",
        "  print('NC sample size:', len(ncdf))"
      ],
      "execution_count": 4,
      "outputs": [
        {
          "output_type": "stream",
          "text": [
            "PC sample size: 70825\n",
            "NC sample size: 48752\n"
          ],
          "name": "stdout"
        }
      ]
    },
    {
      "cell_type": "markdown",
      "metadata": {
        "id": "xe5boK2NTWH1"
      },
      "source": [
        "Apply Length Constraints"
      ]
    },
    {
      "cell_type": "code",
      "metadata": {
        "id": "7ga4K3Aw4sJd"
      },
      "source": [
        "def subset_list_by_len_bounds(input_list, min_len, max_len):\n",
        "  return list(filter(lambda x: len(x) > min_len and len(x) <= max_len, input_list))"
      ],
      "execution_count": 5,
      "outputs": []
    },
    {
      "cell_type": "code",
      "metadata": {
        "colab": {
          "base_uri": "https://localhost:8080/"
        },
        "id": "D7pejW0g1lnR",
        "outputId": "ceaeb535-43eb-4aad-e8ec-1f541545435d"
      },
      "source": [
        "pc_sequences = pcdf['sequence'].tolist()\n",
        "nc_sequences = ncdf['sequence'].tolist()\n",
        "\n",
        "if APPLY_SUBSET:\n",
        "  pc_sequences = subset_list_by_len_bounds(pc_sequences, MINIMUM_SEQUENCE_LENGTH, MAXIMUM_SEQUENCE_LENGTH)\n",
        "  nc_sequences = subset_list_by_len_bounds(nc_sequences, MINIMUM_SEQUENCE_LENGTH, MAXIMUM_SEQUENCE_LENGTH)\n",
        "\n",
        "  print('PC seqs in length range','('+str(MINIMUM_SEQUENCE_LENGTH),'-',str(MAXIMUM_SEQUENCE_LENGTH)+'):', len(pc_sequences))\n",
        "  print('NC seqs in length range','('+str(MINIMUM_SEQUENCE_LENGTH),'-',str(MAXIMUM_SEQUENCE_LENGTH)+'):', len(nc_sequences))\n",
        "\n",
        "#Garbage collection\n",
        "pcdf = None\n",
        "ncdf = None"
      ],
      "execution_count": 6,
      "outputs": [
        {
          "output_type": "stream",
          "text": [
            "PC seqs in length range (200 - 4000): 55381\n",
            "NC seqs in length range (200 - 4000): 46912\n"
          ],
          "name": "stdout"
        }
      ]
    },
    {
      "cell_type": "markdown",
      "metadata": {
        "id": "BlFZ2BHDS_kJ"
      },
      "source": [
        "Validate Sequences"
      ]
    },
    {
      "cell_type": "code",
      "metadata": {
        "colab": {
          "base_uri": "https://localhost:8080/"
        },
        "id": "FYBUZyfxSRZs",
        "outputId": "d11ac120-fcd9-4534-c9c9-3165522e085b"
      },
      "source": [
        "def valid_sequence(seq):\n",
        "  \"\"\"\n",
        "  Checks if the given sequences if valid.\n",
        "  \"\"\"\n",
        "  for chr in seq:\n",
        "      if not (chr == 'A' or chr == 'C' or chr == 'G' or chr == 'T'):\n",
        "        return False\n",
        "  return True\n",
        "\n",
        "def validate_sequences(sequences):\n",
        "  \"\"\"\n",
        "  Validate the given list of sequences\n",
        "  \"\"\"\n",
        "  i = 0\n",
        "  while i < len(sequences):\n",
        "    if valid_sequence(sequences[i]):\n",
        "      i += 1\n",
        "    else:\n",
        "      sequences.remove(sequences[i])\n",
        "\n",
        "validate_sequences(pc_sequences)\n",
        "validate_sequences(nc_sequences)\n",
        "\n",
        "print('Valid PC seqs:', len(pc_sequences))\n",
        "print('Valid NC seqs:', len(nc_sequences))"
      ],
      "execution_count": 7,
      "outputs": [
        {
          "output_type": "stream",
          "text": [
            "Valid PC seqs: 55381\n",
            "Valid NC seqs: 46911\n"
          ],
          "name": "stdout"
        }
      ]
    },
    {
      "cell_type": "markdown",
      "metadata": {
        "id": "mZq-IPZe2KAn"
      },
      "source": [
        "##Generate Simulated Sequences\n",
        "\n",
        "---"
      ]
    },
    {
      "cell_type": "code",
      "metadata": {
        "colab": {
          "base_uri": "https://localhost:8080/"
        },
        "id": "KuPgFeXI1npe",
        "outputId": "8aa70b23-449a-401b-a89b-b1c7d85bd163"
      },
      "source": [
        "NUM_FAKE_SEQS_PER_LENGTH = 15\n",
        "random.seed(REPRODUCABILITY_SEED)\n",
        "fake_sequences = []\n",
        "for length in range(MINIMUM_SEQUENCE_LENGTH + 1, MAXIMUM_SEQUENCE_LENGTH + 1):\n",
        "  for size in range(0, NUM_FAKE_SEQS_PER_LENGTH):\n",
        "    sequence = ''.join(random.choices(['A', 'C', 'G', 'T'], k=length))\n",
        "    fake_sequences.append(sequence)\n",
        "\n",
        "print('Simulated Sequences:', len(fake_sequences))"
      ],
      "execution_count": 8,
      "outputs": [
        {
          "output_type": "stream",
          "text": [
            "Simulated Sequences: 57000\n"
          ],
          "name": "stdout"
        }
      ]
    },
    {
      "cell_type": "markdown",
      "metadata": {
        "id": "4k6CG3pCveOY"
      },
      "source": [
        "##Generate Statistics"
      ]
    },
    {
      "cell_type": "markdown",
      "metadata": {
        "id": "FhdVaD5VBKZh"
      },
      "source": [
        "\n",
        "Using KmerTools to get the K-mer counts upto 3.\n",
        "It returns the value in Dictionary form. (Key-Value Pair)"
      ]
    },
    {
      "cell_type": "code",
      "metadata": {
        "id": "MlIzMUBMBFG3"
      },
      "source": [
        "MAX_K = 3\n",
        "tool = KmerTools()\n",
        "\n",
        "pc_counts = tool.make_dict_upto_K(MAX_K)\n",
        "for sample in pc_sequences:\n",
        "    tool.update_count_one_K(pc_counts,MAX_K,sample,True)\n",
        "tool.harvest_counts_from_K(pc_counts,MAX_K)\n",
        "pc_freqs = tool.count_to_frequency(pc_counts,MAX_K)\n",
        "\n",
        "nc_counts = tool.make_dict_upto_K(MAX_K)\n",
        "for sample in nc_sequences:\n",
        "    tool.update_count_one_K(nc_counts,MAX_K,sample,True)\n",
        "tool.harvest_counts_from_K(nc_counts,MAX_K)\n",
        "nc_freqs = tool.count_to_frequency(nc_counts,MAX_K)\n",
        "\n",
        "fake_counts = tool.make_dict_upto_K(MAX_K)\n",
        "for sample in fake_sequences:\n",
        "  tool.update_count_one_K(fake_counts, MAX_K, sample, True)\n",
        "tool.harvest_counts_from_K(fake_counts, MAX_K)\n",
        "fake_freqs = tool.count_to_frequency(fake_counts, MAX_K)\n",
        "\n",
        "#Garbage collection\n",
        "pc_counts = None\n",
        "nc_counts = None\n",
        "fake_counts = None"
      ],
      "execution_count": 9,
      "outputs": []
    },
    {
      "cell_type": "code",
      "metadata": {
        "id": "1Dz2OrqbBmgE"
      },
      "source": [
        "ONE_MER_MIN = 0\n",
        "ONE_MER_MAX = 4**1\n",
        "TWO_MER_MIN = 4**1\n",
        "TWO_MER_MAX = 4**2 + 4**1\n",
        "THREE_MER_MIN = 4**2 + 4**1\n",
        "THREE_MER_MAX = 4**3 + 4**2 + 4**1\n",
        "\n",
        "one_mer_keys = list(pc_freqs.keys())[ONE_MER_MIN:ONE_MER_MAX]\n",
        "two_mer_keys = list(pc_freqs.keys())[TWO_MER_MIN:TWO_MER_MAX]\n",
        "three_mer_keys = list(pc_freqs.keys())[THREE_MER_MIN:THREE_MER_MAX]\n",
        "\n",
        "pc_freqs = list(pc_freqs.values())\n",
        "nc_freqs = list(nc_freqs.values())\n",
        "fake_freqs = list(fake_freqs.values())\n",
        "\n",
        "one_mer_pc = np.asarray(pc_freqs[ONE_MER_MIN:ONE_MER_MAX])\n",
        "one_mer_nc = np.asarray(nc_freqs[ONE_MER_MIN:ONE_MER_MAX])\n",
        "one_mer_fake = np.asarray(fake_freqs[ONE_MER_MIN:ONE_MER_MAX])\n",
        "\n",
        "two_mer_pc = np.asarray(pc_freqs[TWO_MER_MIN:TWO_MER_MAX])\n",
        "two_mer_nc = np.asarray(nc_freqs[TWO_MER_MIN:TWO_MER_MAX])\n",
        "two_mer_fake = np.asarray(fake_freqs[TWO_MER_MIN:TWO_MER_MAX])\n",
        "\n",
        "three_mer_pc = np.asarray(pc_freqs[THREE_MER_MIN:THREE_MER_MAX])\n",
        "three_mer_nc = np.asarray(nc_freqs[THREE_MER_MIN:THREE_MER_MAX])\n",
        "three_mer_fake = np.asarray(fake_freqs[THREE_MER_MIN:THREE_MER_MAX])\n",
        "\n",
        "#Garbage collection\n",
        "pc_freqs = None\n",
        "nc_freqs = None\n",
        "fake_freqs = None"
      ],
      "execution_count": 10,
      "outputs": []
    },
    {
      "cell_type": "markdown",
      "metadata": {
        "id": "KKll0bqM8IeW"
      },
      "source": [
        "Generate max ORF lengths"
      ]
    },
    {
      "cell_type": "code",
      "metadata": {
        "id": "u8XDvm3i5nG7"
      },
      "source": [
        "oc = ORF_counter()\n",
        "\n",
        "pc_max_orf_len = np.empty(1, dtype=object)\n",
        "nc_max_orf_len = np.empty(1, dtype=object)\n",
        "fake_max_orf_len = np.empty(1, dtype=object)\n",
        "\n",
        "pc_max_orf_len[0] = np.zeros(len(pc_sequences))\n",
        "nc_max_orf_len[0] = np.zeros(len(nc_sequences))\n",
        "fake_max_orf_len[0] = np.zeros(len(fake_sequences))\n",
        "\n",
        "for i in range(len(pc_sequences)):\n",
        "  oc.set_sequence(pc_sequences[i])\n",
        "  pc_max_orf_len[0][i] = oc.get_max_orf_len()\n",
        "for i in range(len(nc_sequences)):\n",
        "  oc.set_sequence(nc_sequences[i])\n",
        "  nc_max_orf_len[0][i] = oc.get_max_orf_len()\n",
        "for i in range(len(fake_sequences)):\n",
        "  oc.set_sequence(fake_sequences[i])\n",
        "  fake_max_orf_len[0][i] = oc.get_max_orf_len()"
      ],
      "execution_count": 11,
      "outputs": []
    },
    {
      "cell_type": "markdown",
      "metadata": {
        "id": "8Xq9mfp3H74S"
      },
      "source": [
        "Get sequence lengths and sequence length vs. max ORF length correlation coefficients"
      ]
    },
    {
      "cell_type": "code",
      "metadata": {
        "id": "w4LH8MEN7GKD"
      },
      "source": [
        "pc_seq_len = np.asarray(list(map(lambda x : len(x), pc_sequences)))\n",
        "pc_seq_len_orf_len_corrcoef = np.corrcoef(pc_seq_len, pc_max_orf_len[0])\n",
        "nc_seq_len = np.asarray(list(map(lambda x : len(x), nc_sequences)))\n",
        "nc_seq_len_orf_len_corrcoef = np.corrcoef(nc_seq_len, nc_max_orf_len[0])\n",
        "fake_seq_len = np.asarray(list(map(lambda x : len(x), fake_sequences)))\n",
        "fake_seq_len_orf_len_corrcoef = np.corrcoef(fake_seq_len, fake_max_orf_len[0])"
      ],
      "execution_count": 12,
      "outputs": []
    },
    {
      "cell_type": "markdown",
      "metadata": {
        "id": "4pFBfhxPvkxI"
      },
      "source": [
        "##Results"
      ]
    },
    {
      "cell_type": "code",
      "metadata": {
        "colab": {
          "base_uri": "https://localhost:8080/",
          "height": 1000
        },
        "id": "lrE3WojZPRMx",
        "outputId": "f8017ce8-02f8-4cf8-880c-3cbd8c5461e9"
      },
      "source": [
        "data_set_names = ['mRNA', 'lncRNA', 'fake']\n",
        "\n",
        "pg = PlotGenerator()\n",
        "pg.set_text_options(90, 'right', 0, 'center', 12)\n",
        "\n",
        "pg.set_text('Mean 1-Mer Frequencies', 'Mer', 'Mean Frequency', one_mer_keys, None)\n",
        "pg.bar_plot([one_mer_pc, one_mer_nc, one_mer_fake], data_set_names)\n",
        "\n",
        "pg.set_text_options(90, 'right', 0, 'center', 8)\n",
        "pg.set_text('Mean 2-Mer Frequencies', 'Mer', 'Mean Frequency', two_mer_keys, None)\n",
        "pg.bar_plot([two_mer_pc, two_mer_nc, two_mer_fake], data_set_names)\n",
        "\n",
        "pg.set_figure_options(width=16)\n",
        "pg.set_text_options(90, 'right', 0, 'center', 6)\n",
        "pg.set_text('Mean 3-Mer Frequencies', 'Mer', 'Mean Frequency', three_mer_keys, None)\n",
        "pg.bar_plot([three_mer_pc, three_mer_nc, three_mer_fake], data_set_names)\n",
        "\n",
        "pg.set_figure_options()\n",
        "pg.set_text_options(45, 'right', 0, 'center', 12)\n",
        "pg.set_text('Max ORF Lengths', 'RNA Types', 'Max ORF Length', [''], None)\n",
        "pg.box_plot([pc_max_orf_len, nc_max_orf_len, fake_max_orf_len], data_set_names, False)\n",
        "\n",
        "pg.set_text('mRNA ORF Length vs Sequence Length', 'Sequence Length', 'ORF Length', None, None)\n",
        "pg.scatter_plot(pc_seq_len, pc_max_orf_len[0], trendline=True)\n",
        "print('mRNA Sequence Length ORF Length Correlation Coefficient:')\n",
        "print('\\t', pc_seq_len_orf_len_corrcoef)\n",
        "\n",
        "pg.set_text('lncRNA ORF Length vs Sequence Length', 'Sequence Length', 'ORF Length', None, None)\n",
        "pg.scatter_plot(nc_seq_len, nc_max_orf_len[0], trendline=True)\n",
        "print('lnc Sequence Length ORF Length Correlation Coefficient:')\n",
        "print('\\t', nc_seq_len_orf_len_corrcoef)\n",
        "\n",
        "pg.set_text('fake ORF Length vs Sequence Length', 'Sequence Length', 'ORF Length', None, None)\n",
        "pg.scatter_plot(fake_seq_len, fake_max_orf_len[0], trendline=True)\n",
        "print('fake Sequence Length ORF Length Correlation Coefficient:')\n",
        "print('\\t', fake_seq_len_orf_len_corrcoef)"
      ],
      "execution_count": 55,
      "outputs": [
        {
          "output_type": "display_data",
          "data": {
            "image/png": "[encoded data removed]",
            "text/plain": [
              "<Figure size 460.8x345.6 with 1 Axes>"
            ]
          },
          "metadata": {
            "tags": [],
            "needs_background": "light"
          }
        },
        {
          "output_type": "display_data",
          "data": {
            "image/png": "[encoded data removed]",
            "text/plain": [
              "<Figure size 460.8x345.6 with 1 Axes>"
            ]
          },
          "metadata": {
            "tags": [],
            "needs_background": "light"
          }
        },
        {
          "output_type": "display_data",
          "data": {
            "image/png": "[encoded data removed]",
            "text/plain": [
              "<Figure size 1152x345.6 with 1 Axes>"
            ]
          },
          "metadata": {
            "tags": [],
            "needs_background": "light"
          }
        },
        {
          "output_type": "display_data",
          "data": {
            "image/png": "[encoded data removed]",
            "text/plain": [
              "<Figure size 460.8x345.6 with 1 Axes>"
            ]
          },
          "metadata": {
            "tags": [],
            "needs_background": "light"
          }
        },
        {
          "output_type": "display_data",
          "data": {
            "image/png": "[encoded data removed]",
            "text/plain": [
              "<Figure size 460.8x345.6 with 1 Axes>"
            ]
          },
          "metadata": {
            "tags": [],
            "needs_background": "light"
          }
        },
        {
          "output_type": "stream",
          "text": [
            "mRNA Sequence Length ORF Length Correlation Coefficient:\n",
            "\t [[1.         0.71390581]\n",
            " [0.71390581 1.        ]]\n"
          ],
          "name": "stdout"
        },
        {
          "output_type": "display_data",
          "data": {
            "image/png": "[encoded data removed]",
            "text/plain": [
              "<Figure size 460.8x345.6 with 1 Axes>"
            ]
          },
          "metadata": {
            "tags": [],
            "needs_background": "light"
          }
        },
        {
          "output_type": "stream",
          "text": [
            "lnc Sequence Length ORF Length Correlation Coefficient:\n",
            "\t [[1.         0.46743005]\n",
            " [0.46743005 1.        ]]\n"
          ],
          "name": "stdout"
        },
        {
          "output_type": "display_data",
          "data": {
            "image/png": "[encoded data removed]",
            "text/plain": [
              "<Figure size 460.8x345.6 with 1 Axes>"
            ]
          },
          "metadata": {
            "tags": [],
            "needs_background": "light"
          }
        },
        {
          "output_type": "stream",
          "text": [
            "fake Sequence Length ORF Length Correlation Coefficient:\n",
            "\t [[1.         0.53459943]\n",
            " [0.53459943 1.        ]]\n"
          ],
          "name": "stdout"
        }
      ]
    },
    {
      "cell_type": "markdown",
      "metadata": {
        "id": "IVWspW8e4v2b"
      },
      "source": [
        "## Set Up MLP"
      ]
    },
    {
      "cell_type": "code",
      "metadata": {
        "id": "rNxOORWM41Xi"
      },
      "source": [
        "RATIO_TRAIN_TO_TEST = 0.9\n",
        "INPUT_SHAPE = (None, 4**3 + 4**2 + 4**1)\n",
        "MAX_K = 3\n",
        "NEURONS = 256\n",
        "DROP_RATE = 0.01\n",
        "EPOCHS = 50\n",
        "SPLITS = 5\n",
        "FOLDS = 1"
      ],
      "execution_count": 44,
      "outputs": []
    },
    {
      "cell_type": "markdown",
      "metadata": {
        "id": "Nf_MTH3a63ZA"
      },
      "source": [
        "Define what is training data and what is testing data"
      ]
    },
    {
      "cell_type": "code",
      "metadata": {
        "id": "D2mKPv1B5oIR"
      },
      "source": [
        "NUM_PC = len(pc_sequences)\n",
        "NUM_PC_TRAIN = int(NUM_PC * RATIO_TRAIN_TO_TEST)\n",
        "NUM_NC = len(nc_sequences)\n",
        "NUM_NC_TRAIN = int(NUM_NC * RATIO_TRAIN_TO_TEST)\n",
        "\n",
        "pc_train = pc_sequences[:NUM_PC_TRAIN]\n",
        "pc_test = pc_sequences[NUM_PC_TRAIN:]\n",
        "nc_train = nc_sequences[:NUM_NC_TRAIN]\n",
        "nc_test = nc_sequences[NUM_NC_TRAIN:]\n",
        "\n",
        "#Garbage Collection (in this instand it makes re-running the MLP a pain)\n",
        "#pc_sequences = None\n",
        "#nc_sequences = None"
      ],
      "execution_count": 45,
      "outputs": []
    },
    {
      "cell_type": "markdown",
      "metadata": {
        "id": "5DOlou8Z7XU_"
      },
      "source": [
        "Prepare the Inputs and the Labels"
      ]
    },
    {
      "cell_type": "code",
      "metadata": {
        "id": "5MVxtNEc69NO"
      },
      "source": [
        "def prepare_x_and_y(seqs1, seqs0):\n",
        "  \"\"\"\n",
        "  From Miller's MLP_GenCode_1??.\n",
        "  \"\"\"\n",
        "  len1=len(seqs1)\n",
        "  len0=len(seqs0)\n",
        "  total=len1+len0\n",
        "  L1=np.ones(len1,dtype=np.int8)\n",
        "  L0=np.zeros(len0,dtype=np.int8)\n",
        "  S1 = np.asarray(seqs1)\n",
        "  S0 = np.asarray(seqs0)\n",
        "  all_labels = np.concatenate((L1,L0))\n",
        "  all_seqs = np.concatenate((S1,S0))  \n",
        "  for i in range(0,len0):\n",
        "    all_labels[i*2] = L0[i]\n",
        "    all_seqs[i*2] = S0[i]\n",
        "    all_labels[i*2+1] = L1[i]\n",
        "    all_seqs[i*2+1] = S1[i]\n",
        "  return all_seqs,all_labels  # use this to test unshuffled\n",
        "  # bug in next line?\n",
        "  X,y = shuffle(all_seqs,all_labels) # sklearn.utils.shuffle \n",
        "  #Doesn't fix it\n",
        "  #X = shuffle(all_seqs,random_state=3) # sklearn.utils.shuffle \n",
        "  #y = shuffle(all_labels,random_state=3) # sklearn.utils.shuffle \n",
        "  return X,y\n",
        "\n",
        "X,y = prepare_x_and_y(pc_train,nc_train)"
      ],
      "execution_count": 46,
      "outputs": []
    },
    {
      "cell_type": "code",
      "metadata": {
        "id": "g46xCFPZ7xqF"
      },
      "source": [
        "#TODO: figure out how to not have to regenerate k-mer frequences\n",
        "\n",
        "def seqs_to_kmer_freqs(seqs, max_K):\n",
        "  \"\"\"\n",
        "  From Miller's MLP_GenCode_1??.\n",
        "  \"\"\"\n",
        "  tool = KmerTools()  # from SimTools\n",
        "  empty = tool.make_dict_upto_K(max_K)\n",
        "  collection = []\n",
        "  for seq in seqs:\n",
        "    counts = empty\n",
        "    # Last param should be True when using Harvester.\n",
        "    counts = tool.update_count_one_K(counts,max_K,seq,True)\n",
        "    # Given counts for K=3, Harvester fills in counts for K=1,2.\n",
        "    counts = tool.harvest_counts_from_K(counts,max_K)\n",
        "    fdict = tool.count_to_frequency(counts,max_K)\n",
        "    freqs = list(fdict.values())\n",
        "    collection.append(freqs)\n",
        "  return np.asarray(collection)\n",
        "\n",
        "X = seqs_to_kmer_freqs(X, MAX_K)"
      ],
      "execution_count": 47,
      "outputs": []
    },
    {
      "cell_type": "markdown",
      "metadata": {
        "id": "6TS9xAqP8ClN"
      },
      "source": [
        "##Make and Train MLP"
      ]
    },
    {
      "cell_type": "code",
      "metadata": {
        "colab": {
          "base_uri": "https://localhost:8080/"
        },
        "id": "SFI-Jwgc8Gv4",
        "outputId": "75dcb31a-f0c1-4a56-f66e-c51430f5b4e7"
      },
      "source": [
        "def make_DNN():\n",
        "  \"\"\"\n",
        "  From Miller's MLP_GenCode_1??.\n",
        "  \"\"\"\n",
        "  dt=np.float32\n",
        "  print(\"make_DNN\")\n",
        "  print(\"input shape:\",INPUT_SHAPE)\n",
        "  dnn = Sequential()\n",
        "\n",
        "  dnn.add(Dense(NEURONS,activation=\"sigmoid\",dtype=dt))  # relu doesn't work as well\n",
        "  dnn.add(Dropout(DROP_RATE))\n",
        "\n",
        "  dnn.add(Dense(NEURONS,activation=\"sigmoid\",dtype=dt)) \n",
        "  dnn.add(Dropout(DROP_RATE))\n",
        "\n",
        "  dnn.add(Dense(1,activation=\"sigmoid\",dtype=dt))  \n",
        "\n",
        "  dnn.compile(optimizer='adam',    # adadelta doesn't work as well\n",
        "    loss=BinaryCrossentropy(from_logits=False),\n",
        "    metrics=['accuracy'])   # add to default metrics=loss\n",
        "  dnn.build(input_shape=INPUT_SHAPE) \n",
        "  return dnn\n",
        "model = make_DNN()\n",
        "print(model.summary())"
      ],
      "execution_count": 48,
      "outputs": [
        {
          "output_type": "stream",
          "text": [
            "make_DNN\n",
            "input shape: (None, 84)\n",
            "Model: \"sequential_6\"\n",
            "_________________________________________________________________\n",
            "Layer (type)                 Output Shape              Param #   \n",
            "=================================================================\n",
            "dense_20 (Dense)             (None, 256)               21760     \n",
            "_________________________________________________________________\n",
            "dropout_14 (Dropout)         (None, 256)               0         \n",
            "_________________________________________________________________\n",
            "dense_21 (Dense)             (None, 256)               65792     \n",
            "_________________________________________________________________\n",
            "dropout_15 (Dropout)         (None, 256)               0         \n",
            "_________________________________________________________________\n",
            "dense_22 (Dense)             (None, 1)                 257       \n",
            "=================================================================\n",
            "Total params: 87,809\n",
            "Trainable params: 87,809\n",
            "Non-trainable params: 0\n",
            "_________________________________________________________________\n",
            "None\n"
          ],
          "name": "stdout"
        }
      ]
    },
    {
      "cell_type": "code",
      "metadata": {
        "id": "qIEUYjE18dQT"
      },
      "source": [
        "def do_cross_validation(X,y):\n",
        "  \"\"\"\n",
        "  From Miller's MLP_GenCode_1??.\n",
        "  \"\"\"\n",
        "  cv_scores = []\n",
        "  fold=0\n",
        "  #mycallbacks = [ModelCheckpoint(\n",
        "  #    filepath=MODELPATH, save_best_only=True, \n",
        "  #    monitor='val_accuracy', mode='max')]   \n",
        "  # When shuffle=True, the valid indices are a random subset.\n",
        "  splitter = KFold(n_splits=SPLITS,shuffle=True) \n",
        "  model = None\n",
        "  for train_index,valid_index in splitter.split(X):\n",
        "    if fold < FOLDS:\n",
        "      fold += 1\n",
        "      X_train=X[train_index] # inputs for training\n",
        "      y_train=y[train_index] # labels for training\n",
        "      X_valid=X[valid_index] # inputs for validation\n",
        "      y_valid=y[valid_index] # labels for validation\n",
        "      print(\"MODEL\")\n",
        "      # Call constructor on each CV. Else, continually improves the same model.\n",
        "      model = model = make_DNN()\n",
        "      print(\"FIT\")  # model.fit() implements learning\n",
        "      start_time=time.time()\n",
        "      history=model.fit(X_train, y_train, \n",
        "        epochs=EPOCHS, \n",
        "        verbose=1,  # ascii art while learning\n",
        "        # callbacks=mycallbacks,   # called at end of each epoch\n",
        "        validation_data=(X_valid,y_valid))\n",
        "      end_time=time.time()\n",
        "      elapsed_time=(end_time-start_time)                        \n",
        "      print(\"Fold %d, %d epochs, %d sec\"%(fold,EPOCHS,elapsed_time))\n",
        "      # print(history.history.keys())  # all these keys will be shown in figure\n",
        "      pd.DataFrame(history.history).plot(figsize=(8,5))\n",
        "      plt.grid(True)\n",
        "      plt.gca().set_ylim(0,1) # any losses > 1 will be off the scale\n",
        "      plt.show()\n",
        "  return model  # parameters at end of training"
      ],
      "execution_count": 49,
      "outputs": []
    },
    {
      "cell_type": "code",
      "metadata": {
        "colab": {
          "base_uri": "https://localhost:8080/",
          "height": 1000
        },
        "id": "6on9fVhr8ux_",
        "outputId": "8df4535f-60a2-4489-bb74-5530141c546a"
      },
      "source": [
        "last_model = do_cross_validation(X, y)"
      ],
      "execution_count": 50,
      "outputs": [
        {
          "output_type": "stream",
          "text": [
            "MODEL\n",
            "make_DNN\n",
            "input shape: (None, 84)\n",
            "FIT\n",
            "Epoch 1/50\n",
            "2302/2302 [==============================] - 8s 3ms/step - loss: 0.7018 - accuracy: 0.5195 - val_loss: 0.6924 - val_accuracy: 0.5392\n",
            "Epoch 2/50\n",
            "2302/2302 [==============================] - 6s 3ms/step - loss: 0.6912 - accuracy: 0.5391 - val_loss: 0.6938 - val_accuracy: 0.4608\n",
            "Epoch 3/50\n",
            "2302/2302 [==============================] - 6s 3ms/step - loss: 0.6915 - accuracy: 0.5361 - val_loss: 0.6921 - val_accuracy: 0.5392\n",
            "Epoch 4/50\n",
            "2302/2302 [==============================] - 6s 3ms/step - loss: 0.6919 - accuracy: 0.5302 - val_loss: 0.6918 - val_accuracy: 0.5392\n",
            "Epoch 5/50\n",
            "2302/2302 [==============================] - 6s 3ms/step - loss: 0.6907 - accuracy: 0.5394 - val_loss: 0.6902 - val_accuracy: 0.5392\n",
            "Epoch 6/50\n",
            "2302/2302 [==============================] - 7s 3ms/step - loss: 0.6909 - accuracy: 0.5393 - val_loss: 0.6907 - val_accuracy: 0.5392\n",
            "Epoch 7/50\n",
            "2302/2302 [==============================] - 7s 3ms/step - loss: 0.6907 - accuracy: 0.5391 - val_loss: 0.6913 - val_accuracy: 0.5392\n",
            "Epoch 8/50\n",
            "2302/2302 [==============================] - 7s 3ms/step - loss: 0.6910 - accuracy: 0.5379 - val_loss: 0.6902 - val_accuracy: 0.5392\n",
            "Epoch 9/50\n",
            "2302/2302 [==============================] - 7s 3ms/step - loss: 0.6909 - accuracy: 0.5375 - val_loss: 0.6928 - val_accuracy: 0.5392\n",
            "Epoch 10/50\n",
            "2302/2302 [==============================] - 7s 3ms/step - loss: 0.6905 - accuracy: 0.5407 - val_loss: 0.6936 - val_accuracy: 0.5392\n",
            "Epoch 11/50\n",
            "2302/2302 [==============================] - 7s 3ms/step - loss: 0.6914 - accuracy: 0.5343 - val_loss: 0.6901 - val_accuracy: 0.5392\n",
            "Epoch 12/50\n",
            "2302/2302 [==============================] - 7s 3ms/step - loss: 0.6903 - accuracy: 0.5415 - val_loss: 0.6918 - val_accuracy: 0.5392\n",
            "Epoch 13/50\n",
            "2302/2302 [==============================] - 8s 3ms/step - loss: 0.6904 - accuracy: 0.5402 - val_loss: 0.6901 - val_accuracy: 0.5392\n",
            "Epoch 14/50\n",
            "2302/2302 [==============================] - 7s 3ms/step - loss: 0.6903 - accuracy: 0.5389 - val_loss: 0.6915 - val_accuracy: 0.5392\n",
            "Epoch 15/50\n",
            "2302/2302 [==============================] - 7s 3ms/step - loss: 0.6908 - accuracy: 0.5379 - val_loss: 0.6905 - val_accuracy: 0.5392\n",
            "Epoch 16/50\n",
            "2302/2302 [==============================] - 7s 3ms/step - loss: 0.6911 - accuracy: 0.5380 - val_loss: 0.6902 - val_accuracy: 0.5392\n",
            "Epoch 17/50\n",
            "2302/2302 [==============================] - 7s 3ms/step - loss: 0.6906 - accuracy: 0.5401 - val_loss: 0.6909 - val_accuracy: 0.5392\n",
            "Epoch 18/50\n",
            "2302/2302 [==============================] - 7s 3ms/step - loss: 0.6908 - accuracy: 0.5359 - val_loss: 0.6918 - val_accuracy: 0.5392\n",
            "Epoch 19/50\n",
            "2302/2302 [==============================] - 8s 3ms/step - loss: 0.6907 - accuracy: 0.5378 - val_loss: 0.6922 - val_accuracy: 0.5392\n",
            "Epoch 20/50\n",
            "2302/2302 [==============================] - 7s 3ms/step - loss: 0.6900 - accuracy: 0.5416 - val_loss: 0.6903 - val_accuracy: 0.5392\n",
            "Epoch 21/50\n",
            "2302/2302 [==============================] - 8s 3ms/step - loss: 0.6906 - accuracy: 0.5357 - val_loss: 0.6911 - val_accuracy: 0.5392\n",
            "Epoch 22/50\n",
            "2302/2302 [==============================] - 7s 3ms/step - loss: 0.6903 - accuracy: 0.5422 - val_loss: 0.6905 - val_accuracy: 0.5392\n",
            "Epoch 23/50\n",
            "2302/2302 [==============================] - 8s 3ms/step - loss: 0.6907 - accuracy: 0.5363 - val_loss: 0.6951 - val_accuracy: 0.5392\n",
            "Epoch 24/50\n",
            "2302/2302 [==============================] - 7s 3ms/step - loss: 0.6902 - accuracy: 0.5431 - val_loss: 0.6915 - val_accuracy: 0.5392\n",
            "Epoch 25/50\n",
            "2302/2302 [==============================] - 7s 3ms/step - loss: 0.6901 - accuracy: 0.5421 - val_loss: 0.6914 - val_accuracy: 0.5392\n",
            "Epoch 26/50\n",
            "2302/2302 [==============================] - 7s 3ms/step - loss: 0.6903 - accuracy: 0.5436 - val_loss: 0.6901 - val_accuracy: 0.5392\n",
            "Epoch 27/50\n",
            "2302/2302 [==============================] - 7s 3ms/step - loss: 0.6905 - accuracy: 0.5428 - val_loss: 0.6948 - val_accuracy: 0.5392\n",
            "Epoch 28/50\n",
            "2302/2302 [==============================] - 7s 3ms/step - loss: 0.6904 - accuracy: 0.5406 - val_loss: 0.6934 - val_accuracy: 0.4608\n",
            "Epoch 29/50\n",
            "2302/2302 [==============================] - 7s 3ms/step - loss: 0.6910 - accuracy: 0.5371 - val_loss: 0.6905 - val_accuracy: 0.5392\n",
            "Epoch 30/50\n",
            "2302/2302 [==============================] - 7s 3ms/step - loss: 0.6904 - accuracy: 0.5392 - val_loss: 0.6904 - val_accuracy: 0.5392\n",
            "Epoch 31/50\n",
            "2302/2302 [==============================] - 7s 3ms/step - loss: 0.6908 - accuracy: 0.5382 - val_loss: 0.6902 - val_accuracy: 0.5392\n",
            "Epoch 32/50\n",
            "2302/2302 [==============================] - 7s 3ms/step - loss: 0.6910 - accuracy: 0.5365 - val_loss: 0.6902 - val_accuracy: 0.5392\n",
            "Epoch 33/50\n",
            "2302/2302 [==============================] - 7s 3ms/step - loss: 0.6896 - accuracy: 0.5463 - val_loss: 0.6903 - val_accuracy: 0.5392\n",
            "Epoch 34/50\n",
            "2302/2302 [==============================] - 7s 3ms/step - loss: 0.6907 - accuracy: 0.5382 - val_loss: 0.6901 - val_accuracy: 0.5392\n",
            "Epoch 35/50\n",
            "2302/2302 [==============================] - 7s 3ms/step - loss: 0.6901 - accuracy: 0.5433 - val_loss: 0.6901 - val_accuracy: 0.5392\n",
            "Epoch 36/50\n",
            "2302/2302 [==============================] - 7s 3ms/step - loss: 0.6906 - accuracy: 0.5388 - val_loss: 0.6902 - val_accuracy: 0.5392\n",
            "Epoch 37/50\n",
            "2302/2302 [==============================] - 7s 3ms/step - loss: 0.6908 - accuracy: 0.5391 - val_loss: 0.6901 - val_accuracy: 0.5392\n",
            "Epoch 38/50\n",
            "2302/2302 [==============================] - 8s 3ms/step - loss: 0.6902 - accuracy: 0.5404 - val_loss: 0.6901 - val_accuracy: 0.5392\n",
            "Epoch 39/50\n",
            "2302/2302 [==============================] - 7s 3ms/step - loss: 0.6901 - accuracy: 0.5421 - val_loss: 0.6902 - val_accuracy: 0.5392\n",
            "Epoch 40/50\n",
            "2302/2302 [==============================] - 7s 3ms/step - loss: 0.6900 - accuracy: 0.5432 - val_loss: 0.6901 - val_accuracy: 0.5392\n",
            "Epoch 41/50\n",
            "2302/2302 [==============================] - 7s 3ms/step - loss: 0.6902 - accuracy: 0.5417 - val_loss: 0.6910 - val_accuracy: 0.5392\n",
            "Epoch 42/50\n",
            "2302/2302 [==============================] - 7s 3ms/step - loss: 0.6901 - accuracy: 0.5411 - val_loss: 0.6901 - val_accuracy: 0.5392\n",
            "Epoch 43/50\n",
            "2302/2302 [==============================] - 7s 3ms/step - loss: 0.6902 - accuracy: 0.5414 - val_loss: 0.6903 - val_accuracy: 0.5392\n",
            "Epoch 44/50\n",
            "2302/2302 [==============================] - 7s 3ms/step - loss: 0.6905 - accuracy: 0.5390 - val_loss: 0.6909 - val_accuracy: 0.5392\n",
            "Epoch 45/50\n",
            "2302/2302 [==============================] - 7s 3ms/step - loss: 0.6902 - accuracy: 0.5411 - val_loss: 0.6902 - val_accuracy: 0.5392\n",
            "Epoch 46/50\n",
            "2302/2302 [==============================] - 7s 3ms/step - loss: 0.6891 - accuracy: 0.5470 - val_loss: 0.6904 - val_accuracy: 0.5392\n",
            "Epoch 47/50\n",
            "2302/2302 [==============================] - 7s 3ms/step - loss: 0.6902 - accuracy: 0.5413 - val_loss: 0.6902 - val_accuracy: 0.5392\n",
            "Epoch 48/50\n",
            "2302/2302 [==============================] - 7s 3ms/step - loss: 0.6900 - accuracy: 0.5417 - val_loss: 0.6904 - val_accuracy: 0.5392\n",
            "Epoch 49/50\n",
            "2302/2302 [==============================] - 8s 3ms/step - loss: 0.6899 - accuracy: 0.5422 - val_loss: 0.6902 - val_accuracy: 0.5392\n",
            "Epoch 50/50\n",
            "2302/2302 [==============================] - 7s 3ms/step - loss: 0.6901 - accuracy: 0.5414 - val_loss: 0.6902 - val_accuracy: 0.5392\n",
            "Fold 1, 50 epochs, 347 sec\n"
          ],
          "name": "stdout"
        },
        {
          "output_type": "display_data",
          "data": {
            "image/png": "[encoded data removed]",
            "text/plain": [
              "<Figure size 576x360 with 1 Axes>"
            ]
          },
          "metadata": {
            "tags": [],
            "needs_background": "light"
          }
        }
      ]
    },
    {
      "cell_type": "markdown",
      "metadata": {
        "id": "Li3-YuuU8-gs"
      },
      "source": [
        "##Show Results of MLP"
      ]
    },
    {
      "cell_type": "code",
      "metadata": {
        "id": "s3HL6lwW9A8j"
      },
      "source": [
        "def show_test_AUC(model,X,y):\n",
        "  \"\"\"\n",
        "  From Miller's MLP_GenCode_1??.\n",
        "  \"\"\"\n",
        "  ns_probs = [0 for _ in range(len(y))]\n",
        "  bm_probs = model.predict(X)\n",
        "  ns_auc = roc_auc_score(y, ns_probs)\n",
        "  bm_auc = roc_auc_score(y, bm_probs)\n",
        "  ns_fpr, ns_tpr, _ = roc_curve(y, ns_probs)\n",
        "  bm_fpr, bm_tpr, _ = roc_curve(y, bm_probs)\n",
        "  plt.plot(ns_fpr, ns_tpr, linestyle='--', label='Guess, auc=%.4f'%ns_auc)\n",
        "  plt.plot(bm_fpr, bm_tpr, marker='.', label='Model, auc=%.4f'%bm_auc)\n",
        "  plt.title('ROC')\n",
        "  plt.xlabel('False Positive Rate')\n",
        "  plt.ylabel('True Positive Rate')\n",
        "  plt.legend()\n",
        "  plt.show()\n",
        "  print(\"%s: %.2f%%\" %('AUC',bm_auc*100.0))\n",
        "def show_test_accuracy(model,X,y):\n",
        "  \"\"\"\n",
        "  From MIller's MLP_GenCode_1??.\n",
        "  \"\"\"\n",
        "  scores = model.evaluate(X, y, verbose=0)\n",
        "  print(\"%s: %.2f%%\" % (model.metrics_names[1], scores[1]*100))"
      ],
      "execution_count": 51,
      "outputs": []
    },
    {
      "cell_type": "code",
      "metadata": {
        "colab": {
          "base_uri": "https://localhost:8080/",
          "height": 405
        },
        "id": "EeWFq22L9N6G",
        "outputId": "b5b6e3ed-84bf-407d-f1ed-814a9a2c551e"
      },
      "source": [
        "print(\"Accuracy on training data.\")\n",
        "print(\"Prepare...\")\n",
        "X, y = prepare_x_and_y(pc_train, nc_train)\n",
        "print(\"Extract K-mer features...\")\n",
        "X = seqs_to_kmer_freqs(X, MAX_K)\n",
        "print(\"Plot...\")\n",
        "show_test_AUC(last_model, X, y)\n",
        "show_test_accuracy(last_model, X, y)"
      ],
      "execution_count": 52,
      "outputs": [
        {
          "output_type": "stream",
          "text": [
            "Accuracy on training data.\n",
            "Prepare...\n",
            "Extract K-mer features...\n",
            "Plot...\n"
          ],
          "name": "stdout"
        },
        {
          "output_type": "display_data",
          "data": {
            "image/png": "[encoded data removed]",
            "text/plain": [
              "<Figure size 432x288 with 1 Axes>"
            ]
          },
          "metadata": {
            "tags": [],
            "needs_background": "light"
          }
        },
        {
          "output_type": "stream",
          "text": [
            "AUC: 50.00%\n",
            "accuracy: 54.14%\n"
          ],
          "name": "stdout"
        }
      ]
    },
    {
      "cell_type": "code",
      "metadata": {
        "colab": {
          "base_uri": "https://localhost:8080/",
          "height": 405
        },
        "id": "LQY5Hze-9hl9",
        "outputId": "fcb8cda1-3577-458b-bba2-b617c319e09f"
      },
      "source": [
        "print(\"Accuracy on test data.\")\n",
        "print(\"Prepare...\")\n",
        "X, y = prepare_x_and_y(pc_test, nc_test)\n",
        "print(\"Extract K-mer features...\")\n",
        "X = seqs_to_kmer_freqs(X, MAX_K)\n",
        "print(\"Plot...\")\n",
        "show_test_AUC(last_model, X, y)\n",
        "show_test_accuracy(last_model, X, y)"
      ],
      "execution_count": 53,
      "outputs": [
        {
          "output_type": "stream",
          "text": [
            "Accuracy on test data.\n",
            "Prepare...\n",
            "Extract K-mer features...\n",
            "Plot...\n"
          ],
          "name": "stdout"
        },
        {
          "output_type": "display_data",
          "data": {
            "image/png": "[encoded data removed]",
            "text/plain": [
              "<Figure size 432x288 with 1 Axes>"
            ]
          },
          "metadata": {
            "tags": [],
            "needs_background": "light"
          }
        },
        {
          "output_type": "stream",
          "text": [
            "AUC: 50.00%\n",
            "accuracy: 54.14%\n"
          ],
          "name": "stdout"
        }
      ]
    }
  ]
}