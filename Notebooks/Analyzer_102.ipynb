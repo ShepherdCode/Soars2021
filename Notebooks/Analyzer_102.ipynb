{
  "nbformat": 4,
  "nbformat_minor": 0,
  "metadata": {
    "colab": {
      "name": "Analyzer_102.ipynb",
      "provenance": [],
      "collapsed_sections": []
    },
    "kernelspec": {
      "display_name": "Python 3",
      "language": "python",
      "name": "python3"
    },
    "language_info": {
      "codemirror_mode": {
        "name": "ipython",
        "version": 3
      },
      "file_extension": ".py",
      "mimetype": "text/x-python",
      "name": "python",
      "nbconvert_exporter": "python",
      "pygments_lexer": "ipython3",
      "version": "3.8.3"
    }
  },
  "cells": [
    {
      "cell_type": "markdown",
      "metadata": {
        "id": "QxjDXgzOuzm9"
      },
      "source": [
        "# Analyzer\n",
        "\n",
        "Statistically, visually, and through machine learning compare mRNA and lncRNA sequences from GENCODE v38.\n",
        "\n",
        "Assume the user downloaded files from GENCODE v38 [FTP](http://ftp.ebi.ac.uk/pub/databases/gencode/Gencode_human/release_38/)\n",
        "to a subdirectory called data."
      ]
    },
    {
      "cell_type": "markdown",
      "metadata": {
        "id": "CWH1hul6uKub"
      },
      "source": [
        "## Import Dependencies\n"
      ]
    },
    {
      "cell_type": "code",
      "metadata": {
        "colab": {
          "base_uri": "https://localhost:8080/"
        },
        "id": "cMB8T39CuJ2Y",
        "outputId": "a284a4a9-73ca-4dd5-9b91-d3a036c7077c"
      },
      "source": [
        "import numpy as np\n",
        "import matplotlib.pyplot as plt\n",
        "import random\n",
        "import pandas as pd\n",
        "import gzip\n",
        "from scipy.stats import chisquare, kstest\n",
        "import sys\n",
        "\n",
        "from sklearn.utils import shuffle\n",
        "from sklearn.model_selection import KFold\n",
        "from sklearn.model_selection import cross_val_score\n",
        "from sklearn.metrics import roc_curve\n",
        "from sklearn.metrics import roc_auc_score\n",
        "from keras.models import Sequential\n",
        "from keras.layers import Dense,Embedding,Dropout\n",
        "from keras.layers import Flatten,TimeDistributed\n",
        "from keras.losses import BinaryCrossentropy\n",
        "from keras.callbacks import ModelCheckpoint\n",
        "from keras.models import load_model\n",
        "\n",
        "try:\n",
        "    from google.colab import drive\n",
        "    IN_COLAB = True\n",
        "    print(\"On Google CoLab, mount cloud-local file, get our code from GitHub.\")\n",
        "    PATH='/content/drive/'\n",
        "    #drive.mount(PATH,force_remount=True)  # hardly ever need this\n",
        "    drive.mount(PATH)    # Google will require login credentials\n",
        "    DATAPATH=PATH+'My Drive/data/'  # must end in \"/\"\n",
        "    import requests\n",
        "    s = requests.get('https://raw.githubusercontent.com/ShepherdCode/Soars2021/master/SimTools/RNA_describe.py')\n",
        "    with open('RNA_describe.py', 'w') as f:\n",
        "      f.write(s.text)  # writes to cloud local, delete the file later?\n",
        "    s = requests.get('https://raw.githubusercontent.com/ShepherdCode/Soars2021/master/SimTools/GenCodeTools.py')\n",
        "    with open ('GenCodeTools.py', 'w') as f:\n",
        "      f.write(s.text)\n",
        "    s = requests.get('https://raw.githubusercontent.com/ShepherdCode/Soars2021/master/SimTools/plot_generator.py')\n",
        "    with open('plot_generator.py', 'w') as f:\n",
        "      f.write(s.text)\n",
        "    s = requests.get('https://raw.githubusercontent.com/ShepherdCode/Soars2021/master/SimTools/KmerTools.py')\n",
        "    with open('KmerTools.py', 'w') as f:\n",
        "      f.write(s.text)  \n",
        "    from KmerTools import KmerTools\n",
        "    from RNA_describe import *\n",
        "    from GenCodeTools import *\n",
        "    from plot_generator import *\n",
        "except:\n",
        "    print(\"CoLab not working. On my PC, use relative paths.\")\n",
        "    IN_COLAB = False\n",
        "    DATAPATH='../data/'  # must end in \"/\"\n",
        "    sys.path.append(\"..\") # append parent dir in order to use sibling dirs\n",
        "    from SimTools.RNA_describe import *\n",
        "    from SimTools.GenCodeTools import *\n",
        "    from SimTools.plot_generator import *\n",
        "    from SimTools.KmerTools import KmerTools\n",
        "\n",
        "MODELPATH=\"BestModel\"  # saved on cloud instance and lost after logout\n",
        "#MODELPATH=DATAPATH+MODELPATH  # saved on Google Drive but requires login\n",
        "\n",
        "if not assert_imported_RNA_describe():\n",
        "    print(\"ERROR: Cannot use RNA_describe.\")"
      ],
      "execution_count": 1,
      "outputs": [
        {
          "output_type": "stream",
          "text": [
            "On Google CoLab, mount cloud-local file, get our code from GitHub.\n",
            "Mounted at /content/drive/\n"
          ],
          "name": "stdout"
        }
      ]
    },
    {
      "cell_type": "markdown",
      "metadata": {
        "id": "T8RNNlZGsZN5"
      },
      "source": [
        "## Load GENCODE Data\n",
        "Loads GENCODE v38 data.\n",
        "\n",
        "Filters out mRNA sequences based on UTR check."
      ]
    },
    {
      "cell_type": "code",
      "metadata": {
        "colab": {
          "base_uri": "https://localhost:8080/"
        },
        "id": "37JnfHgWt_-U",
        "outputId": "d7af6cdf-db3e-4814-ccd9-130265a75eb9"
      },
      "source": [
        "PC_FILENAME='gencode.v38.pc_transcripts.fa.gz'\n",
        "NC_FILENAME='gencode.v38.lncRNA_transcripts.fa.gz'\n",
        "PC_FULLPATH=DATAPATH+PC_FILENAME\n",
        "NC_FULLPATH=DATAPATH+NC_FILENAME\n",
        "loader=GenCodeLoader()\n",
        "loader.set_label(1)\n",
        "loader.set_check_list(None) \n",
        "loader.set_check_utr(True)\n",
        "pcdf=loader.load_file(PC_FULLPATH)\n",
        "print(\"PC seqs loaded:\",len(pcdf))\n",
        "loader.set_label(0)\n",
        "loader.set_check_list(None)\n",
        "loader.set_check_utr(False)\n",
        "ncdf=loader.load_file(NC_FULLPATH)\n",
        "print(\"NC seqs loaded:\",len(ncdf))"
      ],
      "execution_count": 2,
      "outputs": [
        {
          "output_type": "stream",
          "text": [
            "PC seqs loaded: 70825\n",
            "NC seqs loaded: 48752\n"
          ],
          "name": "stdout"
        }
      ]
    },
    {
      "cell_type": "markdown",
      "metadata": {
        "id": "J0y1XAPLvr_G"
      },
      "source": [
        "## Process Sequences\n"
      ]
    },
    {
      "cell_type": "markdown",
      "metadata": {
        "id": "si3kGF7kTZ3M"
      },
      "source": [
        "Generate Sample of GENCODE Data Set\n",
        "\n",
        "Apply Length Constraints\n",
        "\n",
        "Validate Sequences"
      ]
    },
    {
      "cell_type": "code",
      "metadata": {
        "id": "6V7WMCLN3l1q"
      },
      "source": [
        "APPLY_SUBSET = True             #Option to subset the data\n",
        "MINIMUM_SEQUENCE_LENGTH = 200   #Minimum exclusive length to filter out sequences by\n",
        "MAXIMUM_SEQUENCE_LENGTH = 4000  #Maximum inclusive length to filter out sequences by\n",
        "SAMPLE_FRACTION = 1             #What fraction of the GenCode data set to take a sample of\n",
        "REPRODUCABILITY_SEED = 314159   #Use to reproduce random sampling"
      ],
      "execution_count": 3,
      "outputs": []
    },
    {
      "cell_type": "code",
      "metadata": {
        "colab": {
          "base_uri": "https://localhost:8080/"
        },
        "id": "ANtZknso53FT",
        "outputId": "7a271bb1-1189-4f3d-a7da-c911ed8e79a9"
      },
      "source": [
        "if APPLY_SUBSET:\n",
        "    pcdf = pcdf.sample(frac=SAMPLE_FRACTION, random_state=REPRODUCABILITY_SEED)\n",
        "    ncdf = ncdf.sample(frac=SAMPLE_FRACTION, random_state=REPRODUCABILITY_SEED)\n",
        "\n",
        "    print('PC sample size:', len(pcdf))\n",
        "    print('NC sample size:', len(ncdf))"
      ],
      "execution_count": 4,
      "outputs": [
        {
          "output_type": "stream",
          "text": [
            "PC sample size: 70825\n",
            "NC sample size: 48752\n"
          ],
          "name": "stdout"
        }
      ]
    },
    {
      "cell_type": "markdown",
      "metadata": {
        "id": "xe5boK2NTWH1"
      },
      "source": [
        "Apply Length Constraints"
      ]
    },
    {
      "cell_type": "code",
      "metadata": {
        "id": "7ga4K3Aw4sJd"
      },
      "source": [
        "def subset_list_by_len_bounds(input_list, min_len, max_len):\n",
        "  return list(filter(lambda x: len(x) > min_len and len(x) <= max_len, input_list))"
      ],
      "execution_count": 5,
      "outputs": []
    },
    {
      "cell_type": "code",
      "metadata": {
        "colab": {
          "base_uri": "https://localhost:8080/"
        },
        "id": "D7pejW0g1lnR",
        "outputId": "5ea8bb58-d82f-49c3-ab24-4060716b5e79"
      },
      "source": [
        "pc_sequences = pcdf['sequence'].tolist()\n",
        "nc_sequences = ncdf['sequence'].tolist()\n",
        "\n",
        "if APPLY_SUBSET:\n",
        "    pc_sequences = subset_list_by_len_bounds(pc_sequences, MINIMUM_SEQUENCE_LENGTH, MAXIMUM_SEQUENCE_LENGTH)\n",
        "    nc_sequences = subset_list_by_len_bounds(nc_sequences, MINIMUM_SEQUENCE_LENGTH, MAXIMUM_SEQUENCE_LENGTH)\n",
        "\n",
        "    print('PC seqs in length range','('+str(MINIMUM_SEQUENCE_LENGTH),'-',str(MAXIMUM_SEQUENCE_LENGTH)+'):', len(pc_sequences))\n",
        "    print('NC seqs in length range','('+str(MINIMUM_SEQUENCE_LENGTH),'-',str(MAXIMUM_SEQUENCE_LENGTH)+'):', len(nc_sequences))\n",
        "\n",
        "#Garbage collection\n",
        "pcdf = None\n",
        "ncdf = None"
      ],
      "execution_count": 6,
      "outputs": [
        {
          "output_type": "stream",
          "text": [
            "PC seqs in length range (200 - 4000): 55381\n",
            "NC seqs in length range (200 - 4000): 46912\n"
          ],
          "name": "stdout"
        }
      ]
    },
    {
      "cell_type": "markdown",
      "metadata": {
        "id": "BlFZ2BHDS_kJ"
      },
      "source": [
        "Validate Sequences"
      ]
    },
    {
      "cell_type": "code",
      "metadata": {
        "colab": {
          "base_uri": "https://localhost:8080/"
        },
        "id": "FYBUZyfxSRZs",
        "outputId": "66d0c580-7cad-41a5-d435-3d3d90249681"
      },
      "source": [
        "def valid_sequence(seq):\n",
        "    \"\"\"\n",
        "    Checks if the given sequences if valid.\n",
        "    \"\"\"\n",
        "    for chr in seq:\n",
        "        if not (chr == 'A' or chr == 'C' or chr == 'G' or chr == 'T'):\n",
        "            return False\n",
        "    return True\n",
        "\n",
        "def validate_sequences(sequences):\n",
        "    \"\"\"\n",
        "    Validate the given list of sequences\n",
        "    \"\"\"\n",
        "    i = 0\n",
        "    while i < len(sequences):\n",
        "        if valid_sequence(sequences[i]):\n",
        "            i += 1\n",
        "        else:\n",
        "            sequences.remove(sequences[i])\n",
        "\n",
        "validate_sequences(pc_sequences)\n",
        "validate_sequences(nc_sequences)\n",
        "\n",
        "print('Valid PC seqs:', len(pc_sequences))\n",
        "print('Valid NC seqs:', len(nc_sequences))"
      ],
      "execution_count": 7,
      "outputs": [
        {
          "output_type": "stream",
          "text": [
            "Valid PC seqs: 55381\n",
            "Valid NC seqs: 46911\n"
          ],
          "name": "stdout"
        }
      ]
    },
    {
      "cell_type": "markdown",
      "metadata": {
        "id": "mZq-IPZe2KAn"
      },
      "source": [
        "## Generate Simulated Sequences"
      ]
    },
    {
      "cell_type": "code",
      "metadata": {
        "colab": {
          "base_uri": "https://localhost:8080/"
        },
        "id": "KuPgFeXI1npe",
        "outputId": "a52264b0-4776-42ba-8b8a-f3b0e662ece8"
      },
      "source": [
        "NUM_FAKE_SEQS_PER_LENGTH = 15\n",
        "random.seed(REPRODUCABILITY_SEED)\n",
        "fake_sequences = []\n",
        "for length in range(MINIMUM_SEQUENCE_LENGTH + 1, MAXIMUM_SEQUENCE_LENGTH + 1):\n",
        "    for size in range(0, NUM_FAKE_SEQS_PER_LENGTH):\n",
        "        sequence = ''.join(random.choices(['A', 'C', 'G', 'T'], k=length))\n",
        "    fake_sequences.append(sequence)\n",
        "\n",
        "print('Simulated Sequences:', len(fake_sequences))"
      ],
      "execution_count": 8,
      "outputs": [
        {
          "output_type": "stream",
          "text": [
            "Simulated Sequences: 3800\n"
          ],
          "name": "stdout"
        }
      ]
    },
    {
      "cell_type": "markdown",
      "metadata": {
        "id": "4k6CG3pCveOY"
      },
      "source": [
        "## Generate Statistics"
      ]
    },
    {
      "cell_type": "markdown",
      "metadata": {
        "id": "FhdVaD5VBKZh"
      },
      "source": [
        "\n",
        "Using KmerTools to get the K-mer counts upto 3.\n",
        "It returns the value in Dictionary form. (Key-Value Pair)"
      ]
    },
    {
      "cell_type": "code",
      "metadata": {
        "id": "MlIzMUBMBFG3"
      },
      "source": [
        "MAX_K = 3\n",
        "tool = KmerTools()\n",
        "\n",
        "pc_counts = tool.make_dict_upto_K(MAX_K)\n",
        "for sample in pc_sequences:\n",
        "    tool.update_count_one_K(pc_counts,MAX_K,sample,True)\n",
        "tool.harvest_counts_from_K(pc_counts,MAX_K)\n",
        "pc_freqs = tool.count_to_frequency(pc_counts,MAX_K)\n",
        "\n",
        "nc_counts = tool.make_dict_upto_K(MAX_K)\n",
        "for sample in nc_sequences:\n",
        "    tool.update_count_one_K(nc_counts,MAX_K,sample,True)\n",
        "tool.harvest_counts_from_K(nc_counts,MAX_K)\n",
        "nc_freqs = tool.count_to_frequency(nc_counts,MAX_K)\n",
        "\n",
        "fake_counts = tool.make_dict_upto_K(MAX_K)\n",
        "for sample in fake_sequences:\n",
        "  tool.update_count_one_K(fake_counts, MAX_K, sample, True)\n",
        "tool.harvest_counts_from_K(fake_counts, MAX_K)\n",
        "fake_freqs = tool.count_to_frequency(fake_counts, MAX_K)\n",
        "\n",
        "#Garbage collection\n",
        "pc_counts = None\n",
        "nc_counts = None\n",
        "fake_counts = None"
      ],
      "execution_count": 9,
      "outputs": []
    },
    {
      "cell_type": "code",
      "metadata": {
        "id": "1Dz2OrqbBmgE"
      },
      "source": [
        "ONE_MER_MIN = 0\n",
        "ONE_MER_MAX = 4**1\n",
        "TWO_MER_MIN = 4**1\n",
        "TWO_MER_MAX = 4**2 + 4**1\n",
        "THREE_MER_MIN = 4**2 + 4**1\n",
        "THREE_MER_MAX = 4**3 + 4**2 + 4**1\n",
        "\n",
        "one_mer_keys = list(pc_freqs.keys())[ONE_MER_MIN:ONE_MER_MAX]\n",
        "two_mer_keys = list(pc_freqs.keys())[TWO_MER_MIN:TWO_MER_MAX]\n",
        "three_mer_keys = list(pc_freqs.keys())[THREE_MER_MIN:THREE_MER_MAX]\n",
        "\n",
        "pc_freqs = list(pc_freqs.values())\n",
        "nc_freqs = list(nc_freqs.values())\n",
        "fake_freqs = list(fake_freqs.values())\n",
        "\n",
        "one_mer_pc = np.asarray(pc_freqs[ONE_MER_MIN:ONE_MER_MAX])\n",
        "one_mer_nc = np.asarray(nc_freqs[ONE_MER_MIN:ONE_MER_MAX])\n",
        "one_mer_fake = np.asarray(fake_freqs[ONE_MER_MIN:ONE_MER_MAX])\n",
        "\n",
        "two_mer_pc = np.asarray(pc_freqs[TWO_MER_MIN:TWO_MER_MAX])\n",
        "two_mer_nc = np.asarray(nc_freqs[TWO_MER_MIN:TWO_MER_MAX])\n",
        "two_mer_fake = np.asarray(fake_freqs[TWO_MER_MIN:TWO_MER_MAX])\n",
        "\n",
        "three_mer_pc = np.asarray(pc_freqs[THREE_MER_MIN:THREE_MER_MAX])\n",
        "three_mer_nc = np.asarray(nc_freqs[THREE_MER_MIN:THREE_MER_MAX])\n",
        "three_mer_fake = np.asarray(fake_freqs[THREE_MER_MIN:THREE_MER_MAX])\n",
        "\n",
        "#Garbage collection\n",
        "pc_freqs = None\n",
        "nc_freqs = None\n",
        "fake_freqs = None"
      ],
      "execution_count": 10,
      "outputs": []
    },
    {
      "cell_type": "markdown",
      "metadata": {
        "id": "KKll0bqM8IeW"
      },
      "source": [
        "Generate max ORF lengths"
      ]
    },
    {
      "cell_type": "code",
      "metadata": {
        "id": "u8XDvm3i5nG7"
      },
      "source": [
        "oc = ORF_counter()\n",
        "\n",
        "pc_max_orf_len = np.empty(1, dtype=object)\n",
        "nc_max_orf_len = np.empty(1, dtype=object)\n",
        "fake_max_orf_len = np.empty(1, dtype=object)\n",
        "\n",
        "pc_max_orf_len[0] = np.zeros(len(pc_sequences))\n",
        "nc_max_orf_len[0] = np.zeros(len(nc_sequences))\n",
        "fake_max_orf_len[0] = np.zeros(len(fake_sequences))\n",
        "\n",
        "for i in range(len(pc_sequences)):\n",
        "    oc.set_sequence(pc_sequences[i])\n",
        "    pc_max_orf_len[0][i] = oc.get_max_orf_len()\n",
        "for i in range(len(nc_sequences)):\n",
        "    oc.set_sequence(nc_sequences[i])\n",
        "    nc_max_orf_len[0][i] = oc.get_max_orf_len()\n",
        "for i in range(len(fake_sequences)):\n",
        "    oc.set_sequence(fake_sequences[i])\n",
        "    fake_max_orf_len[0][i] = oc.get_max_orf_len()"
      ],
      "execution_count": 11,
      "outputs": []
    },
    {
      "cell_type": "markdown",
      "metadata": {
        "id": "8Xq9mfp3H74S"
      },
      "source": [
        "Get sequence lengths and sequence length vs. max ORF length correlation coefficients"
      ]
    },
    {
      "cell_type": "code",
      "metadata": {
        "id": "w4LH8MEN7GKD"
      },
      "source": [
        "pc_seq_len = np.asarray(list(map(lambda x : len(x), pc_sequences)))\n",
        "pc_seq_len_orf_len_corrcoef = np.corrcoef(pc_seq_len, pc_max_orf_len[0])\n",
        "nc_seq_len = np.asarray(list(map(lambda x : len(x), nc_sequences)))\n",
        "nc_seq_len_orf_len_corrcoef = np.corrcoef(nc_seq_len, nc_max_orf_len[0])\n",
        "fake_seq_len = np.asarray(list(map(lambda x : len(x), fake_sequences)))\n",
        "fake_seq_len_orf_len_corrcoef = np.corrcoef(fake_seq_len, fake_max_orf_len[0])"
      ],
      "execution_count": 12,
      "outputs": []
    },
    {
      "cell_type": "markdown",
      "metadata": {
        "id": "4pFBfhxPvkxI"
      },
      "source": [
        "## Results"
      ]
    },
    {
      "cell_type": "code",
      "metadata": {
        "colab": {
          "base_uri": "https://localhost:8080/",
          "height": 1000
        },
        "id": "lrE3WojZPRMx",
        "outputId": "479d03cf-a815-4b94-84f6-3751d1144c72"
      },
      "source": [
        "data_set_names = ['mRNA', 'lncRNA', 'fake']\n",
        "\n",
        "pg = PlotGenerator()\n",
        "pg.set_text_options(90, 'center', 0, 'center', 12)\n",
        "\n",
        "pg.set_text('Mean 1-Mer Frequencies', 'Mer', 'Mean Frequency', one_mer_keys, None)\n",
        "pg.bar_plot([one_mer_pc, one_mer_nc, one_mer_fake], data_set_names)\n",
        "\n",
        "pg.set_text_options(90, 'center', 0, 'center', 12)\n",
        "pg.set_text('Mean 2-Mer Frequencies', 'Mer', 'Mean Frequency', two_mer_keys, None)\n",
        "pg.bar_plot([two_mer_pc, two_mer_nc, two_mer_fake], data_set_names)\n",
        "\n",
        "pg.set_figure_options(width=14)\n",
        "pg.set_text_options(90, 'center', 0, 'center', 12)\n",
        "pg.set_text('Mean 3-Mer Frequencies', 'Mer', 'Mean Frequency', three_mer_keys, None)\n",
        "pg.bar_plot([three_mer_pc, three_mer_nc, three_mer_fake], data_set_names)\n",
        "\n",
        "pg.set_figure_options()\n",
        "pg.set_text_options(45, 'right', 0, 'center', 12)\n",
        "pg.set_text('Max ORF Lengths', 'RNA Types', 'Max ORF Length', [''], None)\n",
        "pg.box_plot([pc_max_orf_len, nc_max_orf_len, fake_max_orf_len], data_set_names, False)\n",
        "\n",
        "pg.set_text('mRNA ORF Length vs Sequence Length', 'Sequence Length', 'ORF Length', None, None)\n",
        "pg.scatter_plot(pc_seq_len, pc_max_orf_len[0], trendline=True)\n",
        "print('mRNA Sequence Length ORF Length Correlation Coefficient:')\n",
        "print('\\t', pc_seq_len_orf_len_corrcoef)\n",
        "\n",
        "pg.set_text('lncRNA ORF Length vs Sequence Length', 'Sequence Length', 'ORF Length', None, None)\n",
        "pg.scatter_plot(nc_seq_len, nc_max_orf_len[0], trendline=True)\n",
        "print('lnc Sequence Length ORF Length Correlation Coefficient:')\n",
        "print('\\t', nc_seq_len_orf_len_corrcoef)\n",
        "\n",
        "pg.set_text('fake ORF Length vs Sequence Length', 'Sequence Length', 'ORF Length', None, None)\n",
        "pg.scatter_plot(fake_seq_len, fake_max_orf_len[0], trendline=True)\n",
        "print('fake Sequence Length ORF Length Correlation Coefficient:')\n",
        "print('\\t', fake_seq_len_orf_len_corrcoef)"
      ],
      "execution_count": 13,
      "outputs": [
        {
          "output_type": "display_data",
          "data": {
            "image/png": "[encoded data removed]",
            "text/plain": [
              "<Figure size 460.8x345.6 with 1 Axes>"
            ]
          },
          "metadata": {
            "tags": [],
            "needs_background": "light"
          }
        },
        {
          "output_type": "display_data",
          "data": {
            "image/png": "[encoded data removed]",
            "text/plain": [
              "<Figure size 460.8x345.6 with 1 Axes>"
            ]
          },
          "metadata": {
            "tags": [],
            "needs_background": "light"
          }
        },
        {
          "output_type": "display_data",
          "data": {
            "image/png": "[encoded data removed]",
            "text/plain": [
              "<Figure size 1008x345.6 with 1 Axes>"
            ]
          },
          "metadata": {
            "tags": [],
            "needs_background": "light"
          }
        },
        {
          "output_type": "display_data",
          "data": {
            "image/png": "[encoded data removed]",
            "text/plain": [
              "<Figure size 460.8x345.6 with 1 Axes>"
            ]
          },
          "metadata": {
            "tags": [],
            "needs_background": "light"
          }
        },
        {
          "output_type": "display_data",
          "data": {
            "image/png": "[encoded data removed]",
            "text/plain": [
              "<Figure size 460.8x345.6 with 1 Axes>"
            ]
          },
          "metadata": {
            "tags": [],
            "needs_background": "light"
          }
        },
        {
          "output_type": "stream",
          "text": [
            "mRNA Sequence Length ORF Length Correlation Coefficient:\n",
            "\t [[1.         0.71390581]\n",
            " [0.71390581 1.        ]]\n"
          ],
          "name": "stdout"
        },
        {
          "output_type": "display_data",
          "data": {
            "image/png": "[encoded data removed]",
            "text/plain": [
              "<Figure size 460.8x345.6 with 1 Axes>"
            ]
          },
          "metadata": {
            "tags": [],
            "needs_background": "light"
          }
        },
        {
          "output_type": "stream",
          "text": [
            "lnc Sequence Length ORF Length Correlation Coefficient:\n",
            "\t [[1.         0.46743005]\n",
            " [0.46743005 1.        ]]\n"
          ],
          "name": "stdout"
        },
        {
          "output_type": "display_data",
          "data": {
            "image/png": "[encoded data removed]",
            "text/plain": [
              "<Figure size 460.8x345.6 with 1 Axes>"
            ]
          },
          "metadata": {
            "tags": [],
            "needs_background": "light"
          }
        },
        {
          "output_type": "stream",
          "text": [
            "fake Sequence Length ORF Length Correlation Coefficient:\n",
            "\t [[1.        0.5349612]\n",
            " [0.5349612 1.       ]]\n"
          ],
          "name": "stdout"
        }
      ]
    },
    {
      "cell_type": "markdown",
      "metadata": {
        "id": "IVWspW8e4v2b"
      },
      "source": [
        "## Set Up MLP"
      ]
    },
    {
      "cell_type": "code",
      "metadata": {
        "id": "rNxOORWM41Xi"
      },
      "source": [
        "RATIO_TRAIN_TO_TEST = 0.99\n",
        "INPUT_SHAPE = (None, 4**3 + 4**2 + 4**1)\n",
        "MAX_K = 3\n",
        "NEURONS = 8\n",
        "DROP_RATE = 0.1\n",
        "EPOCHS = 500\n",
        "SPLITS = 5\n",
        "FOLDS = 1"
      ],
      "execution_count": 46,
      "outputs": []
    },
    {
      "cell_type": "markdown",
      "metadata": {
        "id": "Nf_MTH3a63ZA"
      },
      "source": [
        "Define what is training data and what is testing data"
      ]
    },
    {
      "cell_type": "code",
      "metadata": {
        "id": "D2mKPv1B5oIR",
        "colab": {
          "base_uri": "https://localhost:8080/"
        },
        "outputId": "99523894-730d-4b8e-a0e1-81e7a2402889"
      },
      "source": [
        "NUM_PC = len(pc_sequences)\n",
        "NUM_PC_TRAIN = int(NUM_PC * RATIO_TRAIN_TO_TEST)\n",
        "NUM_NC = len(nc_sequences)\n",
        "NUM_NC_TRAIN = int(NUM_NC * RATIO_TRAIN_TO_TEST)\n",
        "\n",
        "pc_train = pc_sequences[:NUM_PC_TRAIN]\n",
        "pc_test = pc_sequences[NUM_PC_TRAIN:]\n",
        "nc_train = nc_sequences[:NUM_NC_TRAIN]\n",
        "nc_test = nc_sequences[NUM_NC_TRAIN:]\n",
        "\n",
        "print('PC TRAIN:', len(pc_train))\n",
        "print('NC TRAIN', len(nc_train))\n",
        "print('PC TEST:', len(pc_test))\n",
        "print('NC TEST:', len(nc_test))\n",
        "\n",
        "#Garbage Collection (this makes re-running the MLP a pain)\n",
        "#pc_sequences = None\n",
        "#nc_sequences = None"
      ],
      "execution_count": 47,
      "outputs": [
        {
          "output_type": "stream",
          "text": [
            "PC TRAIN: 54827\n",
            "NC TRAIN 46441\n",
            "PC TEST: 554\n",
            "NC TEST: 470\n"
          ],
          "name": "stdout"
        }
      ]
    },
    {
      "cell_type": "markdown",
      "metadata": {
        "id": "5DOlou8Z7XU_"
      },
      "source": [
        "Prepare the Inputs and the Labels"
      ]
    },
    {
      "cell_type": "code",
      "metadata": {
        "id": "5MVxtNEc69NO"
      },
      "source": [
        "def prepare_x_and_y(seqs1, seqs0):\n",
        "    \"\"\"\n",
        "    From Miller's MLP_GenCode_1??.\n",
        "    \"\"\"\n",
        "    len1=len(seqs1)\n",
        "    len0=len(seqs0)\n",
        "    total=len1+len0\n",
        "    L1=np.ones(len1,dtype=np.int8)\n",
        "    L0=np.zeros(len0,dtype=np.int8)\n",
        "    S1 = np.asarray(seqs1)\n",
        "    S0 = np.asarray(seqs0)\n",
        "    all_labels = np.concatenate((L1,L0))\n",
        "    all_seqs = np.concatenate((S1,S0))  \n",
        "    for i in range(0,len0):\n",
        "        all_labels[i*2] = L0[i]\n",
        "        all_seqs[i*2] = S0[i]\n",
        "        all_labels[i*2+1] = L1[i]\n",
        "        all_seqs[i*2+1] = S1[i]\n",
        "    return all_seqs,all_labels\n",
        "Xseq, y = prepare_x_and_y(pc_train, nc_train)"
      ],
      "execution_count": 48,
      "outputs": []
    },
    {
      "cell_type": "code",
      "metadata": {
        "id": "g46xCFPZ7xqF"
      },
      "source": [
        "#TODO: figure out how to not have to regenerate k-mer frequences\n",
        "\n",
        "def seqs_to_kmer_freqs(seqs, max_K):\n",
        "    \"\"\"\n",
        "    From Miller's MLP_GenCode_1??.\n",
        "    \"\"\"\n",
        "    tool = KmerTools()  # from SimTools\n",
        "    collection = []\n",
        "    for seq in seqs:\n",
        "        counts = tool.make_dict_upto_K(max_K)\n",
        "        # Last param should be True when using Harvester.\n",
        "        counts = tool.update_count_one_K(counts, max_K, seq, True)\n",
        "        # Given counts for K=3, Harvester fills in counts for K=1,2.\n",
        "        counts = tool.harvest_counts_from_K(counts, max_K)\n",
        "        fdict = tool.count_to_frequency(counts, max_K)\n",
        "        freqs = list(fdict.values())\n",
        "        collection.append(freqs)\n",
        "    return np.asarray(collection)\n",
        "\n",
        "Xfrq = seqs_to_kmer_freqs(Xseq, MAX_K)\n",
        "\n",
        "#Garbage Collection\n",
        "Xseq = None"
      ],
      "execution_count": 49,
      "outputs": []
    },
    {
      "cell_type": "markdown",
      "metadata": {
        "id": "6TS9xAqP8ClN"
      },
      "source": [
        "## Make and Train MLP"
      ]
    },
    {
      "cell_type": "code",
      "metadata": {
        "colab": {
          "base_uri": "https://localhost:8080/"
        },
        "id": "SFI-Jwgc8Gv4",
        "outputId": "9ad96a63-1bd2-46b8-eda7-2663b499cc5f"
      },
      "source": [
        "def make_DNN():\n",
        "    \"\"\"\n",
        "    From Miller's MLP_GenCode_1??.\n",
        "    \"\"\"\n",
        "    dt=np.float32\n",
        "    print(\"make_DNN\")\n",
        "    print(\"input shape:\",INPUT_SHAPE)\n",
        "    dnn = Sequential()\n",
        "\n",
        "    dnn.add(Dense(NEURONS, activation=\"sigmoid\", dtype=dt))  # relu doesn't work as well\n",
        "    dnn.add(Dropout(DROP_RATE))\n",
        "\n",
        "    dnn.add(Dense(NEURONS, activation=\"sigmoid\", dtype=dt)) \n",
        "    dnn.add(Dropout(DROP_RATE))\n",
        "\n",
        "    dnn.add(Dense(NEURONS, activation=\"sigmoid\", dtype=dt)) \n",
        "    dnn.add(Dropout(DROP_RATE))\n",
        "\n",
        "    dnn.add(Dense(1, activation=\"sigmoid\", dtype=dt))  \n",
        "\n",
        "    dnn.compile(optimizer='adam',    # adadelta doesn't work as well\n",
        "        loss=BinaryCrossentropy(from_logits=False),\n",
        "        metrics=['accuracy'])   # add to default metrics=loss\n",
        "    dnn.build(input_shape=INPUT_SHAPE) \n",
        "    return dnn\n",
        "model = make_DNN()\n",
        "print(model.summary())"
      ],
      "execution_count": 50,
      "outputs": [
        {
          "output_type": "stream",
          "text": [
            "make_DNN\n",
            "input shape: (None, 84)\n",
            "Model: \"sequential_6\"\n",
            "_________________________________________________________________\n",
            "Layer (type)                 Output Shape              Param #   \n",
            "=================================================================\n",
            "dense_18 (Dense)             (None, 8)                 680       \n",
            "_________________________________________________________________\n",
            "dropout_12 (Dropout)         (None, 8)                 0         \n",
            "_________________________________________________________________\n",
            "dense_19 (Dense)             (None, 8)                 72        \n",
            "_________________________________________________________________\n",
            "dropout_13 (Dropout)         (None, 8)                 0         \n",
            "_________________________________________________________________\n",
            "dense_20 (Dense)             (None, 8)                 72        \n",
            "_________________________________________________________________\n",
            "dropout_14 (Dropout)         (None, 8)                 0         \n",
            "_________________________________________________________________\n",
            "dense_21 (Dense)             (None, 1)                 9         \n",
            "=================================================================\n",
            "Total params: 833\n",
            "Trainable params: 833\n",
            "Non-trainable params: 0\n",
            "_________________________________________________________________\n",
            "None\n"
          ],
          "name": "stdout"
        }
      ]
    },
    {
      "cell_type": "code",
      "metadata": {
        "id": "qIEUYjE18dQT"
      },
      "source": [
        "def do_cross_validation(X,y):\n",
        "    \"\"\"\n",
        "    From Miller's MLP_GenCode_1??.\n",
        "    \"\"\"\n",
        "    cv_scores = []\n",
        "    fold=0\n",
        "    #mycallbacks = [ModelCheckpoint(\n",
        "    #    filepath=MODELPATH, save_best_only=True, \n",
        "    #    monitor='val_accuracy', mode='max')]   \n",
        "    # When shuffle=True, the valid indices are a random subset.\n",
        "    splitter = KFold(n_splits=SPLITS, shuffle=True) \n",
        "    model = None\n",
        "    for train_index, valid_index in splitter.split(X):\n",
        "        if fold < FOLDS:\n",
        "            fold += 1\n",
        "            X_train=X[train_index] # inputs for training\n",
        "            y_train=y[train_index] # labels for training\n",
        "            X_valid=X[valid_index] # inputs for validation\n",
        "            y_valid=y[valid_index] # labels for validation\n",
        "            print(\"MODEL\")\n",
        "            # Call constructor on each CV. Else, continually improves the same model.\n",
        "            model = model = make_DNN()\n",
        "            print(\"FIT\")  # model.fit() implements learning\n",
        "            start_time=time.time()\n",
        "            history=model.fit(X_train, y_train, \n",
        "                epochs=EPOCHS, \n",
        "                verbose=1,  # ascii art while learning\n",
        "                # callbacks=mycallbacks,   # called at end of each epoch\n",
        "                validation_data=(X_valid,y_valid))\n",
        "            end_time=time.time()\n",
        "            elapsed_time=(end_time-start_time)                        \n",
        "            print(\"Fold %d, %d epochs, %d sec\"%(fold,EPOCHS,elapsed_time))\n",
        "            # print(history.history.keys())  # all these keys will be shown in figure\n",
        "            pd.DataFrame(history.history).plot(figsize=(8,5))\n",
        "            plt.grid(True)\n",
        "            plt.gca().set_ylim(0,1) # any losses > 1 will be off the scale\n",
        "            plt.show()\n",
        "    return model  # parameters at end of training"
      ],
      "execution_count": 51,
      "outputs": []
    },
    {
      "cell_type": "code",
      "metadata": {
        "colab": {
          "base_uri": "https://localhost:8080/",
          "height": 1000
        },
        "id": "6on9fVhr8ux_",
        "outputId": "19e85da8-ce32-4a05-8b1d-7c69260806c2"
      },
      "source": [
        "last_model = do_cross_validation(Xfrq, y)"
      ],
      "execution_count": 52,
      "outputs": [
        {
          "output_type": "stream",
          "text": [
            "MODEL\n",
            "make_DNN\n",
            "input shape: (None, 84)\n",
            "FIT\n",
            "Epoch 1/500\n",
            "2532/2532 [==============================] - 6s 2ms/step - loss: 0.6934 - accuracy: 0.5304 - val_loss: 0.6450 - val_accuracy: 0.6633\n",
            "Epoch 2/500\n",
            "2532/2532 [==============================] - 5s 2ms/step - loss: 0.6457 - accuracy: 0.6361 - val_loss: 0.6194 - val_accuracy: 0.6705\n",
            "Epoch 3/500\n",
            "2532/2532 [==============================] - 5s 2ms/step - loss: 0.6300 - accuracy: 0.6570 - val_loss: 0.6088 - val_accuracy: 0.6776\n",
            "Epoch 4/500\n",
            "2532/2532 [==============================] - 5s 2ms/step - loss: 0.6185 - accuracy: 0.6679 - val_loss: 0.5947 - val_accuracy: 0.6895\n",
            "Epoch 5/500\n",
            "2532/2532 [==============================] - 5s 2ms/step - loss: 0.6089 - accuracy: 0.6756 - val_loss: 0.5761 - val_accuracy: 0.7043\n",
            "Epoch 6/500\n",
            "2532/2532 [==============================] - 5s 2ms/step - loss: 0.5936 - accuracy: 0.6908 - val_loss: 0.5593 - val_accuracy: 0.7229\n",
            "Epoch 7/500\n",
            "2532/2532 [==============================] - 5s 2ms/step - loss: 0.5866 - accuracy: 0.6939 - val_loss: 0.5487 - val_accuracy: 0.7316\n",
            "Epoch 8/500\n",
            "2532/2532 [==============================] - 5s 2ms/step - loss: 0.5728 - accuracy: 0.7056 - val_loss: 0.5430 - val_accuracy: 0.7347\n",
            "Epoch 9/500\n",
            "2532/2532 [==============================] - 5s 2ms/step - loss: 0.5708 - accuracy: 0.7091 - val_loss: 0.5405 - val_accuracy: 0.7393\n",
            "Epoch 10/500\n",
            "2532/2532 [==============================] - 5s 2ms/step - loss: 0.5638 - accuracy: 0.7128 - val_loss: 0.5336 - val_accuracy: 0.7389\n",
            "Epoch 11/500\n",
            "2532/2532 [==============================] - 5s 2ms/step - loss: 0.5573 - accuracy: 0.7201 - val_loss: 0.5320 - val_accuracy: 0.7423\n",
            "Epoch 12/500\n",
            "2532/2532 [==============================] - 5s 2ms/step - loss: 0.5601 - accuracy: 0.7161 - val_loss: 0.5281 - val_accuracy: 0.7455\n",
            "Epoch 13/500\n",
            "2532/2532 [==============================] - 5s 2ms/step - loss: 0.5562 - accuracy: 0.7210 - val_loss: 0.5274 - val_accuracy: 0.7466\n",
            "Epoch 14/500\n",
            "2532/2532 [==============================] - 5s 2ms/step - loss: 0.5533 - accuracy: 0.7226 - val_loss: 0.5251 - val_accuracy: 0.7474\n",
            "Epoch 15/500\n",
            "2532/2532 [==============================] - 5s 2ms/step - loss: 0.5505 - accuracy: 0.7262 - val_loss: 0.5201 - val_accuracy: 0.7483\n",
            "Epoch 16/500\n",
            "2532/2532 [==============================] - 5s 2ms/step - loss: 0.5472 - accuracy: 0.7285 - val_loss: 0.5180 - val_accuracy: 0.7488\n",
            "Epoch 17/500\n",
            "2532/2532 [==============================] - 5s 2ms/step - loss: 0.5473 - accuracy: 0.7284 - val_loss: 0.5174 - val_accuracy: 0.7516\n",
            "Epoch 18/500\n",
            "2532/2532 [==============================] - 5s 2ms/step - loss: 0.5477 - accuracy: 0.7291 - val_loss: 0.5162 - val_accuracy: 0.7530\n",
            "Epoch 19/500\n",
            "2532/2532 [==============================] - 5s 2ms/step - loss: 0.5430 - accuracy: 0.7344 - val_loss: 0.5135 - val_accuracy: 0.7540\n",
            "Epoch 20/500\n",
            "2532/2532 [==============================] - 5s 2ms/step - loss: 0.5401 - accuracy: 0.7360 - val_loss: 0.5110 - val_accuracy: 0.7537\n",
            "Epoch 21/500\n",
            "2532/2532 [==============================] - 5s 2ms/step - loss: 0.5380 - accuracy: 0.7378 - val_loss: 0.5110 - val_accuracy: 0.7545\n",
            "Epoch 22/500\n",
            "2532/2532 [==============================] - 5s 2ms/step - loss: 0.5390 - accuracy: 0.7365 - val_loss: 0.5097 - val_accuracy: 0.7551\n",
            "Epoch 23/500\n",
            "2532/2532 [==============================] - 5s 2ms/step - loss: 0.5341 - accuracy: 0.7395 - val_loss: 0.5074 - val_accuracy: 0.7561\n",
            "Epoch 24/500\n",
            "2532/2532 [==============================] - 5s 2ms/step - loss: 0.5289 - accuracy: 0.7410 - val_loss: 0.5059 - val_accuracy: 0.7577\n",
            "Epoch 25/500\n",
            "2532/2532 [==============================] - 5s 2ms/step - loss: 0.5330 - accuracy: 0.7391 - val_loss: 0.5048 - val_accuracy: 0.7573\n",
            "Epoch 26/500\n",
            "2532/2532 [==============================] - 5s 2ms/step - loss: 0.5303 - accuracy: 0.7428 - val_loss: 0.5042 - val_accuracy: 0.7598\n",
            "Epoch 27/500\n",
            "2532/2532 [==============================] - 5s 2ms/step - loss: 0.5285 - accuracy: 0.7435 - val_loss: 0.5026 - val_accuracy: 0.7609\n",
            "Epoch 28/500\n",
            "2532/2532 [==============================] - 5s 2ms/step - loss: 0.5259 - accuracy: 0.7453 - val_loss: 0.5025 - val_accuracy: 0.7608\n",
            "Epoch 29/500\n",
            "2532/2532 [==============================] - 5s 2ms/step - loss: 0.5257 - accuracy: 0.7464 - val_loss: 0.5015 - val_accuracy: 0.7624\n",
            "Epoch 30/500\n",
            "2532/2532 [==============================] - 5s 2ms/step - loss: 0.5256 - accuracy: 0.7466 - val_loss: 0.4991 - val_accuracy: 0.7627\n",
            "Epoch 31/500\n",
            "2532/2532 [==============================] - 5s 2ms/step - loss: 0.5243 - accuracy: 0.7446 - val_loss: 0.5001 - val_accuracy: 0.7615\n",
            "Epoch 32/500\n",
            "2532/2532 [==============================] - 5s 2ms/step - loss: 0.5220 - accuracy: 0.7471 - val_loss: 0.4963 - val_accuracy: 0.7640\n",
            "Epoch 33/500\n",
            "2532/2532 [==============================] - 5s 2ms/step - loss: 0.5221 - accuracy: 0.7493 - val_loss: 0.4994 - val_accuracy: 0.7635\n",
            "Epoch 34/500\n",
            "2532/2532 [==============================] - 5s 2ms/step - loss: 0.5205 - accuracy: 0.7490 - val_loss: 0.4948 - val_accuracy: 0.7654\n",
            "Epoch 35/500\n",
            "2532/2532 [==============================] - 5s 2ms/step - loss: 0.5183 - accuracy: 0.7480 - val_loss: 0.4930 - val_accuracy: 0.7654\n",
            "Epoch 36/500\n",
            "2532/2532 [==============================] - 5s 2ms/step - loss: 0.5179 - accuracy: 0.7512 - val_loss: 0.4926 - val_accuracy: 0.7662\n",
            "Epoch 37/500\n",
            "2532/2532 [==============================] - 5s 2ms/step - loss: 0.5161 - accuracy: 0.7500 - val_loss: 0.4923 - val_accuracy: 0.7668\n",
            "Epoch 38/500\n",
            "2532/2532 [==============================] - 5s 2ms/step - loss: 0.5132 - accuracy: 0.7539 - val_loss: 0.4895 - val_accuracy: 0.7665\n",
            "Epoch 39/500\n",
            "2532/2532 [==============================] - 5s 2ms/step - loss: 0.5128 - accuracy: 0.7534 - val_loss: 0.4894 - val_accuracy: 0.7672\n",
            "Epoch 40/500\n",
            "2532/2532 [==============================] - 5s 2ms/step - loss: 0.5116 - accuracy: 0.7541 - val_loss: 0.4876 - val_accuracy: 0.7681\n",
            "Epoch 41/500\n",
            "2532/2532 [==============================] - 5s 2ms/step - loss: 0.5098 - accuracy: 0.7551 - val_loss: 0.4869 - val_accuracy: 0.7681\n",
            "Epoch 42/500\n",
            "2532/2532 [==============================] - 5s 2ms/step - loss: 0.5080 - accuracy: 0.7553 - val_loss: 0.4861 - val_accuracy: 0.7692\n",
            "Epoch 43/500\n",
            "2532/2532 [==============================] - 5s 2ms/step - loss: 0.5067 - accuracy: 0.7564 - val_loss: 0.4833 - val_accuracy: 0.7704\n",
            "Epoch 44/500\n",
            "2532/2532 [==============================] - 5s 2ms/step - loss: 0.5067 - accuracy: 0.7566 - val_loss: 0.4825 - val_accuracy: 0.7698\n",
            "Epoch 45/500\n",
            "2532/2532 [==============================] - 5s 2ms/step - loss: 0.5104 - accuracy: 0.7532 - val_loss: 0.4820 - val_accuracy: 0.7714\n",
            "Epoch 46/500\n",
            "2532/2532 [==============================] - 5s 2ms/step - loss: 0.5067 - accuracy: 0.7569 - val_loss: 0.4788 - val_accuracy: 0.7719\n",
            "Epoch 47/500\n",
            "2532/2532 [==============================] - 5s 2ms/step - loss: 0.5069 - accuracy: 0.7569 - val_loss: 0.4777 - val_accuracy: 0.7723\n",
            "Epoch 48/500\n",
            "2532/2532 [==============================] - 5s 2ms/step - loss: 0.5056 - accuracy: 0.7562 - val_loss: 0.4779 - val_accuracy: 0.7719\n",
            "Epoch 49/500\n",
            "2532/2532 [==============================] - 5s 2ms/step - loss: 0.5064 - accuracy: 0.7561 - val_loss: 0.4768 - val_accuracy: 0.7729\n",
            "Epoch 50/500\n",
            "2532/2532 [==============================] - 5s 2ms/step - loss: 0.5023 - accuracy: 0.7577 - val_loss: 0.4749 - val_accuracy: 0.7737\n",
            "Epoch 51/500\n",
            "2532/2532 [==============================] - 5s 2ms/step - loss: 0.4970 - accuracy: 0.7608 - val_loss: 0.4751 - val_accuracy: 0.7734\n",
            "Epoch 52/500\n",
            "2532/2532 [==============================] - 5s 2ms/step - loss: 0.5000 - accuracy: 0.7574 - val_loss: 0.4746 - val_accuracy: 0.7747\n",
            "Epoch 53/500\n",
            "2532/2532 [==============================] - 5s 2ms/step - loss: 0.4959 - accuracy: 0.7619 - val_loss: 0.4731 - val_accuracy: 0.7749\n",
            "Epoch 54/500\n",
            "2532/2532 [==============================] - 5s 2ms/step - loss: 0.5010 - accuracy: 0.7566 - val_loss: 0.4688 - val_accuracy: 0.7763\n",
            "Epoch 55/500\n",
            "2532/2532 [==============================] - 5s 2ms/step - loss: 0.4968 - accuracy: 0.7606 - val_loss: 0.4718 - val_accuracy: 0.7742\n",
            "Epoch 56/500\n",
            "2532/2532 [==============================] - 5s 2ms/step - loss: 0.4946 - accuracy: 0.7611 - val_loss: 0.4684 - val_accuracy: 0.7772\n",
            "Epoch 57/500\n",
            "2532/2532 [==============================] - 5s 2ms/step - loss: 0.4936 - accuracy: 0.7607 - val_loss: 0.4677 - val_accuracy: 0.7767\n",
            "Epoch 58/500\n",
            "2532/2532 [==============================] - 5s 2ms/step - loss: 0.4933 - accuracy: 0.7609 - val_loss: 0.4674 - val_accuracy: 0.7779\n",
            "Epoch 59/500\n",
            "2532/2532 [==============================] - 5s 2ms/step - loss: 0.4941 - accuracy: 0.7616 - val_loss: 0.4669 - val_accuracy: 0.7782\n",
            "Epoch 60/500\n",
            "2532/2532 [==============================] - 5s 2ms/step - loss: 0.4917 - accuracy: 0.7624 - val_loss: 0.4645 - val_accuracy: 0.7788\n",
            "Epoch 61/500\n",
            "2532/2532 [==============================] - 5s 2ms/step - loss: 0.4911 - accuracy: 0.7618 - val_loss: 0.4647 - val_accuracy: 0.7794\n",
            "Epoch 62/500\n",
            "2532/2532 [==============================] - 5s 2ms/step - loss: 0.4949 - accuracy: 0.7578 - val_loss: 0.4632 - val_accuracy: 0.7803\n",
            "Epoch 63/500\n",
            "2532/2532 [==============================] - 5s 2ms/step - loss: 0.4882 - accuracy: 0.7651 - val_loss: 0.4633 - val_accuracy: 0.7786\n",
            "Epoch 64/500\n",
            "2532/2532 [==============================] - 5s 2ms/step - loss: 0.4865 - accuracy: 0.7657 - val_loss: 0.4635 - val_accuracy: 0.7798\n",
            "Epoch 65/500\n",
            "2532/2532 [==============================] - 5s 2ms/step - loss: 0.4887 - accuracy: 0.7634 - val_loss: 0.4637 - val_accuracy: 0.7801\n",
            "Epoch 66/500\n",
            "2532/2532 [==============================] - 6s 2ms/step - loss: 0.4914 - accuracy: 0.7610 - val_loss: 0.4622 - val_accuracy: 0.7810\n",
            "Epoch 67/500\n",
            "2532/2532 [==============================] - 5s 2ms/step - loss: 0.4886 - accuracy: 0.7639 - val_loss: 0.4630 - val_accuracy: 0.7785\n",
            "Epoch 68/500\n",
            "2532/2532 [==============================] - 5s 2ms/step - loss: 0.4917 - accuracy: 0.7617 - val_loss: 0.4594 - val_accuracy: 0.7816\n",
            "Epoch 69/500\n",
            "2532/2532 [==============================] - 5s 2ms/step - loss: 0.4871 - accuracy: 0.7628 - val_loss: 0.4585 - val_accuracy: 0.7823\n",
            "Epoch 70/500\n",
            "2532/2532 [==============================] - 5s 2ms/step - loss: 0.4869 - accuracy: 0.7637 - val_loss: 0.4597 - val_accuracy: 0.7840\n",
            "Epoch 71/500\n",
            "2532/2532 [==============================] - 5s 2ms/step - loss: 0.4915 - accuracy: 0.7587 - val_loss: 0.4589 - val_accuracy: 0.7835\n",
            "Epoch 72/500\n",
            "2532/2532 [==============================] - 5s 2ms/step - loss: 0.4860 - accuracy: 0.7640 - val_loss: 0.4588 - val_accuracy: 0.7815\n",
            "Epoch 73/500\n",
            "2532/2532 [==============================] - 5s 2ms/step - loss: 0.4856 - accuracy: 0.7634 - val_loss: 0.4583 - val_accuracy: 0.7851\n",
            "Epoch 74/500\n",
            "2532/2532 [==============================] - 5s 2ms/step - loss: 0.4875 - accuracy: 0.7617 - val_loss: 0.4562 - val_accuracy: 0.7839\n",
            "Epoch 75/500\n",
            "2532/2532 [==============================] - 5s 2ms/step - loss: 0.4822 - accuracy: 0.7662 - val_loss: 0.4544 - val_accuracy: 0.7839\n",
            "Epoch 76/500\n",
            "2532/2532 [==============================] - 5s 2ms/step - loss: 0.4825 - accuracy: 0.7643 - val_loss: 0.4577 - val_accuracy: 0.7837\n",
            "Epoch 77/500\n",
            "2532/2532 [==============================] - 5s 2ms/step - loss: 0.4835 - accuracy: 0.7645 - val_loss: 0.4568 - val_accuracy: 0.7856\n",
            "Epoch 78/500\n",
            "2532/2532 [==============================] - 5s 2ms/step - loss: 0.4845 - accuracy: 0.7660 - val_loss: 0.4551 - val_accuracy: 0.7862\n",
            "Epoch 79/500\n",
            "2532/2532 [==============================] - 5s 2ms/step - loss: 0.4832 - accuracy: 0.7629 - val_loss: 0.4569 - val_accuracy: 0.7834\n",
            "Epoch 80/500\n",
            "2532/2532 [==============================] - 5s 2ms/step - loss: 0.4818 - accuracy: 0.7647 - val_loss: 0.4528 - val_accuracy: 0.7863\n",
            "Epoch 81/500\n",
            "2532/2532 [==============================] - 5s 2ms/step - loss: 0.4798 - accuracy: 0.7675 - val_loss: 0.4545 - val_accuracy: 0.7843\n",
            "Epoch 82/500\n",
            "2532/2532 [==============================] - 5s 2ms/step - loss: 0.4798 - accuracy: 0.7686 - val_loss: 0.4517 - val_accuracy: 0.7868\n",
            "Epoch 83/500\n",
            "2532/2532 [==============================] - 5s 2ms/step - loss: 0.4791 - accuracy: 0.7658 - val_loss: 0.4527 - val_accuracy: 0.7847\n",
            "Epoch 84/500\n",
            "2532/2532 [==============================] - 5s 2ms/step - loss: 0.4836 - accuracy: 0.7648 - val_loss: 0.4497 - val_accuracy: 0.7864\n",
            "Epoch 85/500\n",
            "2532/2532 [==============================] - 5s 2ms/step - loss: 0.4782 - accuracy: 0.7683 - val_loss: 0.4489 - val_accuracy: 0.7866\n",
            "Epoch 86/500\n",
            "2532/2532 [==============================] - 5s 2ms/step - loss: 0.4759 - accuracy: 0.7664 - val_loss: 0.4522 - val_accuracy: 0.7852\n",
            "Epoch 87/500\n",
            "2532/2532 [==============================] - 5s 2ms/step - loss: 0.4786 - accuracy: 0.7671 - val_loss: 0.4500 - val_accuracy: 0.7864\n",
            "Epoch 88/500\n",
            "2532/2532 [==============================] - 5s 2ms/step - loss: 0.4777 - accuracy: 0.7683 - val_loss: 0.4496 - val_accuracy: 0.7877\n",
            "Epoch 89/500\n",
            "2532/2532 [==============================] - 5s 2ms/step - loss: 0.4774 - accuracy: 0.7684 - val_loss: 0.4499 - val_accuracy: 0.7875\n",
            "Epoch 90/500\n",
            "2532/2532 [==============================] - 5s 2ms/step - loss: 0.4769 - accuracy: 0.7681 - val_loss: 0.4506 - val_accuracy: 0.7860\n",
            "Epoch 91/500\n",
            "2532/2532 [==============================] - 5s 2ms/step - loss: 0.4765 - accuracy: 0.7674 - val_loss: 0.4507 - val_accuracy: 0.7858\n",
            "Epoch 92/500\n",
            "2532/2532 [==============================] - 5s 2ms/step - loss: 0.4761 - accuracy: 0.7689 - val_loss: 0.4504 - val_accuracy: 0.7875\n",
            "Epoch 93/500\n",
            "2532/2532 [==============================] - 5s 2ms/step - loss: 0.4759 - accuracy: 0.7690 - val_loss: 0.4507 - val_accuracy: 0.7857\n",
            "Epoch 94/500\n",
            "2532/2532 [==============================] - 5s 2ms/step - loss: 0.4727 - accuracy: 0.7726 - val_loss: 0.4503 - val_accuracy: 0.7885\n",
            "Epoch 95/500\n",
            "2532/2532 [==============================] - 5s 2ms/step - loss: 0.4716 - accuracy: 0.7705 - val_loss: 0.4506 - val_accuracy: 0.7890\n",
            "Epoch 96/500\n",
            "2532/2532 [==============================] - 5s 2ms/step - loss: 0.4759 - accuracy: 0.7673 - val_loss: 0.4505 - val_accuracy: 0.7865\n",
            "Epoch 97/500\n",
            "2532/2532 [==============================] - 5s 2ms/step - loss: 0.4739 - accuracy: 0.7701 - val_loss: 0.4476 - val_accuracy: 0.7880\n",
            "Epoch 98/500\n",
            "2532/2532 [==============================] - 5s 2ms/step - loss: 0.4751 - accuracy: 0.7700 - val_loss: 0.4475 - val_accuracy: 0.7872\n",
            "Epoch 99/500\n",
            "2532/2532 [==============================] - 5s 2ms/step - loss: 0.4780 - accuracy: 0.7681 - val_loss: 0.4491 - val_accuracy: 0.7855\n",
            "Epoch 100/500\n",
            "2532/2532 [==============================] - 5s 2ms/step - loss: 0.4734 - accuracy: 0.7709 - val_loss: 0.4479 - val_accuracy: 0.7882\n",
            "Epoch 101/500\n",
            "2532/2532 [==============================] - 5s 2ms/step - loss: 0.4727 - accuracy: 0.7733 - val_loss: 0.4445 - val_accuracy: 0.7896\n",
            "Epoch 102/500\n",
            "2532/2532 [==============================] - 5s 2ms/step - loss: 0.4758 - accuracy: 0.7694 - val_loss: 0.4459 - val_accuracy: 0.7905\n",
            "Epoch 103/500\n",
            "2532/2532 [==============================] - 5s 2ms/step - loss: 0.4727 - accuracy: 0.7728 - val_loss: 0.4460 - val_accuracy: 0.7895\n",
            "Epoch 104/500\n",
            "2532/2532 [==============================] - 5s 2ms/step - loss: 0.4699 - accuracy: 0.7723 - val_loss: 0.4458 - val_accuracy: 0.7880\n",
            "Epoch 105/500\n",
            "2532/2532 [==============================] - 5s 2ms/step - loss: 0.4697 - accuracy: 0.7745 - val_loss: 0.4482 - val_accuracy: 0.7876\n",
            "Epoch 106/500\n",
            "2532/2532 [==============================] - 5s 2ms/step - loss: 0.4741 - accuracy: 0.7710 - val_loss: 0.4501 - val_accuracy: 0.7862\n",
            "Epoch 107/500\n",
            "2532/2532 [==============================] - 5s 2ms/step - loss: 0.4714 - accuracy: 0.7738 - val_loss: 0.4459 - val_accuracy: 0.7890\n",
            "Epoch 108/500\n",
            "2532/2532 [==============================] - 5s 2ms/step - loss: 0.4731 - accuracy: 0.7722 - val_loss: 0.4437 - val_accuracy: 0.7899\n",
            "Epoch 109/500\n",
            "2532/2532 [==============================] - 5s 2ms/step - loss: 0.4696 - accuracy: 0.7762 - val_loss: 0.4453 - val_accuracy: 0.7896\n",
            "Epoch 110/500\n",
            "2532/2532 [==============================] - 5s 2ms/step - loss: 0.4725 - accuracy: 0.7721 - val_loss: 0.4475 - val_accuracy: 0.7869\n",
            "Epoch 111/500\n",
            "2532/2532 [==============================] - 5s 2ms/step - loss: 0.4708 - accuracy: 0.7735 - val_loss: 0.4430 - val_accuracy: 0.7913\n",
            "Epoch 112/500\n",
            "2532/2532 [==============================] - 5s 2ms/step - loss: 0.4718 - accuracy: 0.7724 - val_loss: 0.4438 - val_accuracy: 0.7901\n",
            "Epoch 113/500\n",
            "2532/2532 [==============================] - 5s 2ms/step - loss: 0.4673 - accuracy: 0.7768 - val_loss: 0.4416 - val_accuracy: 0.7913\n",
            "Epoch 114/500\n",
            "2532/2532 [==============================] - 5s 2ms/step - loss: 0.4687 - accuracy: 0.7773 - val_loss: 0.4445 - val_accuracy: 0.7911\n",
            "Epoch 115/500\n",
            "2532/2532 [==============================] - 5s 2ms/step - loss: 0.4686 - accuracy: 0.7750 - val_loss: 0.4471 - val_accuracy: 0.7904\n",
            "Epoch 116/500\n",
            "2532/2532 [==============================] - 5s 2ms/step - loss: 0.4705 - accuracy: 0.7745 - val_loss: 0.4446 - val_accuracy: 0.7913\n",
            "Epoch 117/500\n",
            "2532/2532 [==============================] - 5s 2ms/step - loss: 0.4653 - accuracy: 0.7785 - val_loss: 0.4425 - val_accuracy: 0.7919\n",
            "Epoch 118/500\n",
            "2532/2532 [==============================] - 5s 2ms/step - loss: 0.4720 - accuracy: 0.7755 - val_loss: 0.4453 - val_accuracy: 0.7899\n",
            "Epoch 119/500\n",
            "2532/2532 [==============================] - 5s 2ms/step - loss: 0.4670 - accuracy: 0.7774 - val_loss: 0.4423 - val_accuracy: 0.7913\n",
            "Epoch 120/500\n",
            "2532/2532 [==============================] - 5s 2ms/step - loss: 0.4700 - accuracy: 0.7752 - val_loss: 0.4431 - val_accuracy: 0.7897\n",
            "Epoch 121/500\n",
            "2532/2532 [==============================] - 5s 2ms/step - loss: 0.4672 - accuracy: 0.7757 - val_loss: 0.4501 - val_accuracy: 0.7856\n",
            "Epoch 122/500\n",
            "2532/2532 [==============================] - 5s 2ms/step - loss: 0.4664 - accuracy: 0.7776 - val_loss: 0.4420 - val_accuracy: 0.7908\n",
            "Epoch 123/500\n",
            "2532/2532 [==============================] - 5s 2ms/step - loss: 0.4710 - accuracy: 0.7749 - val_loss: 0.4459 - val_accuracy: 0.7890\n",
            "Epoch 124/500\n",
            "2532/2532 [==============================] - 5s 2ms/step - loss: 0.4686 - accuracy: 0.7785 - val_loss: 0.4398 - val_accuracy: 0.7923\n",
            "Epoch 125/500\n",
            "2532/2532 [==============================] - 5s 2ms/step - loss: 0.4732 - accuracy: 0.7754 - val_loss: 0.4415 - val_accuracy: 0.7910\n",
            "Epoch 126/500\n",
            "2532/2532 [==============================] - 5s 2ms/step - loss: 0.4654 - accuracy: 0.7801 - val_loss: 0.4422 - val_accuracy: 0.7913\n",
            "Epoch 127/500\n",
            "2532/2532 [==============================] - 5s 2ms/step - loss: 0.4653 - accuracy: 0.7781 - val_loss: 0.4434 - val_accuracy: 0.7906\n",
            "Epoch 128/500\n",
            "2532/2532 [==============================] - 5s 2ms/step - loss: 0.4699 - accuracy: 0.7763 - val_loss: 0.4420 - val_accuracy: 0.7909\n",
            "Epoch 129/500\n",
            "2532/2532 [==============================] - 5s 2ms/step - loss: 0.4655 - accuracy: 0.7789 - val_loss: 0.4417 - val_accuracy: 0.7917\n",
            "Epoch 130/500\n",
            "2532/2532 [==============================] - 5s 2ms/step - loss: 0.4701 - accuracy: 0.7752 - val_loss: 0.4410 - val_accuracy: 0.7905\n",
            "Epoch 131/500\n",
            "2532/2532 [==============================] - 5s 2ms/step - loss: 0.4657 - accuracy: 0.7777 - val_loss: 0.4409 - val_accuracy: 0.7918\n",
            "Epoch 132/500\n",
            "2532/2532 [==============================] - 5s 2ms/step - loss: 0.4668 - accuracy: 0.7788 - val_loss: 0.4398 - val_accuracy: 0.7934\n",
            "Epoch 133/500\n",
            "2532/2532 [==============================] - 5s 2ms/step - loss: 0.4671 - accuracy: 0.7770 - val_loss: 0.4432 - val_accuracy: 0.7910\n",
            "Epoch 134/500\n",
            "2532/2532 [==============================] - 5s 2ms/step - loss: 0.4674 - accuracy: 0.7797 - val_loss: 0.4419 - val_accuracy: 0.7893\n",
            "Epoch 135/500\n",
            "2532/2532 [==============================] - 5s 2ms/step - loss: 0.4671 - accuracy: 0.7787 - val_loss: 0.4404 - val_accuracy: 0.7919\n",
            "Epoch 136/500\n",
            "2532/2532 [==============================] - 5s 2ms/step - loss: 0.4629 - accuracy: 0.7813 - val_loss: 0.4393 - val_accuracy: 0.7929\n",
            "Epoch 137/500\n",
            "2532/2532 [==============================] - 5s 2ms/step - loss: 0.4657 - accuracy: 0.7779 - val_loss: 0.4418 - val_accuracy: 0.7905\n",
            "Epoch 138/500\n",
            "2532/2532 [==============================] - 5s 2ms/step - loss: 0.4669 - accuracy: 0.7768 - val_loss: 0.4394 - val_accuracy: 0.7920\n",
            "Epoch 139/500\n",
            "2532/2532 [==============================] - 5s 2ms/step - loss: 0.4655 - accuracy: 0.7784 - val_loss: 0.4406 - val_accuracy: 0.7929\n",
            "Epoch 140/500\n",
            "2532/2532 [==============================] - 5s 2ms/step - loss: 0.4667 - accuracy: 0.7782 - val_loss: 0.4397 - val_accuracy: 0.7916\n",
            "Epoch 141/500\n",
            "2532/2532 [==============================] - 5s 2ms/step - loss: 0.4667 - accuracy: 0.7766 - val_loss: 0.4388 - val_accuracy: 0.7916\n",
            "Epoch 142/500\n",
            "2532/2532 [==============================] - 5s 2ms/step - loss: 0.4679 - accuracy: 0.7790 - val_loss: 0.4398 - val_accuracy: 0.7921\n",
            "Epoch 143/500\n",
            "2532/2532 [==============================] - 5s 2ms/step - loss: 0.4681 - accuracy: 0.7759 - val_loss: 0.4410 - val_accuracy: 0.7914\n",
            "Epoch 144/500\n",
            "2532/2532 [==============================] - 5s 2ms/step - loss: 0.4626 - accuracy: 0.7800 - val_loss: 0.4399 - val_accuracy: 0.7919\n",
            "Epoch 145/500\n",
            "2532/2532 [==============================] - 5s 2ms/step - loss: 0.4657 - accuracy: 0.7795 - val_loss: 0.4387 - val_accuracy: 0.7931\n",
            "Epoch 146/500\n",
            "2532/2532 [==============================] - 5s 2ms/step - loss: 0.4646 - accuracy: 0.7796 - val_loss: 0.4394 - val_accuracy: 0.7928\n",
            "Epoch 147/500\n",
            "2532/2532 [==============================] - 5s 2ms/step - loss: 0.4632 - accuracy: 0.7811 - val_loss: 0.4408 - val_accuracy: 0.7917\n",
            "Epoch 148/500\n",
            "2532/2532 [==============================] - 5s 2ms/step - loss: 0.4634 - accuracy: 0.7801 - val_loss: 0.4404 - val_accuracy: 0.7925\n",
            "Epoch 149/500\n",
            "2532/2532 [==============================] - 5s 2ms/step - loss: 0.4640 - accuracy: 0.7810 - val_loss: 0.4404 - val_accuracy: 0.7920\n",
            "Epoch 150/500\n",
            "2532/2532 [==============================] - 5s 2ms/step - loss: 0.4622 - accuracy: 0.7805 - val_loss: 0.4380 - val_accuracy: 0.7929\n",
            "Epoch 151/500\n",
            "2532/2532 [==============================] - 5s 2ms/step - loss: 0.4616 - accuracy: 0.7813 - val_loss: 0.4408 - val_accuracy: 0.7914\n",
            "Epoch 152/500\n",
            "2532/2532 [==============================] - 5s 2ms/step - loss: 0.4656 - accuracy: 0.7781 - val_loss: 0.4410 - val_accuracy: 0.7908\n",
            "Epoch 153/500\n",
            "2532/2532 [==============================] - 5s 2ms/step - loss: 0.4613 - accuracy: 0.7824 - val_loss: 0.4362 - val_accuracy: 0.7949\n",
            "Epoch 154/500\n",
            "2532/2532 [==============================] - 5s 2ms/step - loss: 0.4635 - accuracy: 0.7809 - val_loss: 0.4371 - val_accuracy: 0.7932\n",
            "Epoch 155/500\n",
            "2532/2532 [==============================] - 5s 2ms/step - loss: 0.4607 - accuracy: 0.7826 - val_loss: 0.4376 - val_accuracy: 0.7939\n",
            "Epoch 156/500\n",
            "2532/2532 [==============================] - 5s 2ms/step - loss: 0.4637 - accuracy: 0.7817 - val_loss: 0.4367 - val_accuracy: 0.7944\n",
            "Epoch 157/500\n",
            "2532/2532 [==============================] - 5s 2ms/step - loss: 0.4590 - accuracy: 0.7859 - val_loss: 0.4398 - val_accuracy: 0.7919\n",
            "Epoch 158/500\n",
            "2532/2532 [==============================] - 5s 2ms/step - loss: 0.4637 - accuracy: 0.7838 - val_loss: 0.4407 - val_accuracy: 0.7916\n",
            "Epoch 159/500\n",
            "2532/2532 [==============================] - 5s 2ms/step - loss: 0.4636 - accuracy: 0.7818 - val_loss: 0.4370 - val_accuracy: 0.7935\n",
            "Epoch 160/500\n",
            "2532/2532 [==============================] - 5s 2ms/step - loss: 0.4576 - accuracy: 0.7870 - val_loss: 0.4392 - val_accuracy: 0.7922\n",
            "Epoch 161/500\n",
            "2532/2532 [==============================] - 5s 2ms/step - loss: 0.4616 - accuracy: 0.7835 - val_loss: 0.4409 - val_accuracy: 0.7919\n",
            "Epoch 162/500\n",
            "2532/2532 [==============================] - 5s 2ms/step - loss: 0.4590 - accuracy: 0.7857 - val_loss: 0.4372 - val_accuracy: 0.7942\n",
            "Epoch 163/500\n",
            "2532/2532 [==============================] - 5s 2ms/step - loss: 0.4603 - accuracy: 0.7866 - val_loss: 0.4350 - val_accuracy: 0.7946\n",
            "Epoch 164/500\n",
            "2532/2532 [==============================] - 5s 2ms/step - loss: 0.4616 - accuracy: 0.7838 - val_loss: 0.4371 - val_accuracy: 0.7932\n",
            "Epoch 165/500\n",
            "2532/2532 [==============================] - 5s 2ms/step - loss: 0.4594 - accuracy: 0.7869 - val_loss: 0.4379 - val_accuracy: 0.7937\n",
            "Epoch 166/500\n",
            "2532/2532 [==============================] - 5s 2ms/step - loss: 0.4616 - accuracy: 0.7830 - val_loss: 0.4343 - val_accuracy: 0.7952\n",
            "Epoch 167/500\n",
            "2532/2532 [==============================] - 5s 2ms/step - loss: 0.4586 - accuracy: 0.7865 - val_loss: 0.4389 - val_accuracy: 0.7942\n",
            "Epoch 168/500\n",
            "2532/2532 [==============================] - 5s 2ms/step - loss: 0.4562 - accuracy: 0.7901 - val_loss: 0.4353 - val_accuracy: 0.7964\n",
            "Epoch 169/500\n",
            "2532/2532 [==============================] - 5s 2ms/step - loss: 0.4531 - accuracy: 0.7889 - val_loss: 0.4353 - val_accuracy: 0.7964\n",
            "Epoch 170/500\n",
            "2532/2532 [==============================] - 5s 2ms/step - loss: 0.4595 - accuracy: 0.7856 - val_loss: 0.4379 - val_accuracy: 0.7953\n",
            "Epoch 171/500\n",
            "2532/2532 [==============================] - 5s 2ms/step - loss: 0.4577 - accuracy: 0.7865 - val_loss: 0.4350 - val_accuracy: 0.7960\n",
            "Epoch 172/500\n",
            "2532/2532 [==============================] - 5s 2ms/step - loss: 0.4596 - accuracy: 0.7852 - val_loss: 0.4359 - val_accuracy: 0.7962\n",
            "Epoch 173/500\n",
            "2532/2532 [==============================] - 5s 2ms/step - loss: 0.4609 - accuracy: 0.7843 - val_loss: 0.4332 - val_accuracy: 0.7975\n",
            "Epoch 174/500\n",
            "2532/2532 [==============================] - 5s 2ms/step - loss: 0.4598 - accuracy: 0.7840 - val_loss: 0.4340 - val_accuracy: 0.7974\n",
            "Epoch 175/500\n",
            "2532/2532 [==============================] - 5s 2ms/step - loss: 0.4571 - accuracy: 0.7881 - val_loss: 0.4341 - val_accuracy: 0.7977\n",
            "Epoch 176/500\n",
            "2532/2532 [==============================] - 5s 2ms/step - loss: 0.4596 - accuracy: 0.7861 - val_loss: 0.4343 - val_accuracy: 0.7967\n",
            "Epoch 177/500\n",
            "2532/2532 [==============================] - 5s 2ms/step - loss: 0.4619 - accuracy: 0.7867 - val_loss: 0.4299 - val_accuracy: 0.7995\n",
            "Epoch 178/500\n",
            "2532/2532 [==============================] - 5s 2ms/step - loss: 0.4555 - accuracy: 0.7890 - val_loss: 0.4348 - val_accuracy: 0.7972\n",
            "Epoch 179/500\n",
            "2532/2532 [==============================] - 5s 2ms/step - loss: 0.4536 - accuracy: 0.7885 - val_loss: 0.4367 - val_accuracy: 0.7958\n",
            "Epoch 180/500\n",
            "2532/2532 [==============================] - 5s 2ms/step - loss: 0.4556 - accuracy: 0.7886 - val_loss: 0.4327 - val_accuracy: 0.7991\n",
            "Epoch 181/500\n",
            "2532/2532 [==============================] - 5s 2ms/step - loss: 0.4569 - accuracy: 0.7884 - val_loss: 0.4352 - val_accuracy: 0.7981\n",
            "Epoch 182/500\n",
            "2532/2532 [==============================] - 5s 2ms/step - loss: 0.4533 - accuracy: 0.7903 - val_loss: 0.4323 - val_accuracy: 0.7996\n",
            "Epoch 183/500\n",
            "2532/2532 [==============================] - 5s 2ms/step - loss: 0.4540 - accuracy: 0.7914 - val_loss: 0.4314 - val_accuracy: 0.8005\n",
            "Epoch 184/500\n",
            "2532/2532 [==============================] - 5s 2ms/step - loss: 0.4518 - accuracy: 0.7924 - val_loss: 0.4327 - val_accuracy: 0.7992\n",
            "Epoch 185/500\n",
            "2532/2532 [==============================] - 5s 2ms/step - loss: 0.4555 - accuracy: 0.7938 - val_loss: 0.4307 - val_accuracy: 0.8009\n",
            "Epoch 186/500\n",
            "2532/2532 [==============================] - 5s 2ms/step - loss: 0.4511 - accuracy: 0.7933 - val_loss: 0.4303 - val_accuracy: 0.8016\n",
            "Epoch 187/500\n",
            "2532/2532 [==============================] - 5s 2ms/step - loss: 0.4509 - accuracy: 0.7924 - val_loss: 0.4292 - val_accuracy: 0.8032\n",
            "Epoch 188/500\n",
            "2532/2532 [==============================] - 5s 2ms/step - loss: 0.4516 - accuracy: 0.7902 - val_loss: 0.4314 - val_accuracy: 0.8000\n",
            "Epoch 189/500\n",
            "2532/2532 [==============================] - 5s 2ms/step - loss: 0.4529 - accuracy: 0.7906 - val_loss: 0.4308 - val_accuracy: 0.8007\n",
            "Epoch 190/500\n",
            "2532/2532 [==============================] - 5s 2ms/step - loss: 0.4532 - accuracy: 0.7905 - val_loss: 0.4280 - val_accuracy: 0.8032\n",
            "Epoch 191/500\n",
            "2532/2532 [==============================] - 5s 2ms/step - loss: 0.4522 - accuracy: 0.7918 - val_loss: 0.4262 - val_accuracy: 0.8039\n",
            "Epoch 192/500\n",
            "2532/2532 [==============================] - 5s 2ms/step - loss: 0.4505 - accuracy: 0.7945 - val_loss: 0.4306 - val_accuracy: 0.8018\n",
            "Epoch 193/500\n",
            "2532/2532 [==============================] - 5s 2ms/step - loss: 0.4516 - accuracy: 0.7925 - val_loss: 0.4279 - val_accuracy: 0.8033\n",
            "Epoch 194/500\n",
            "2532/2532 [==============================] - 5s 2ms/step - loss: 0.4505 - accuracy: 0.7943 - val_loss: 0.4274 - val_accuracy: 0.8044\n",
            "Epoch 195/500\n",
            "2532/2532 [==============================] - 5s 2ms/step - loss: 0.4495 - accuracy: 0.7952 - val_loss: 0.4294 - val_accuracy: 0.8025\n",
            "Epoch 196/500\n",
            "2532/2532 [==============================] - 5s 2ms/step - loss: 0.4488 - accuracy: 0.7957 - val_loss: 0.4276 - val_accuracy: 0.8031\n",
            "Epoch 197/500\n",
            "2532/2532 [==============================] - 5s 2ms/step - loss: 0.4503 - accuracy: 0.7959 - val_loss: 0.4257 - val_accuracy: 0.8045\n",
            "Epoch 198/500\n",
            "2532/2532 [==============================] - 5s 2ms/step - loss: 0.4518 - accuracy: 0.7946 - val_loss: 0.4304 - val_accuracy: 0.8013\n",
            "Epoch 199/500\n",
            "2532/2532 [==============================] - 5s 2ms/step - loss: 0.4480 - accuracy: 0.7966 - val_loss: 0.4278 - val_accuracy: 0.8028\n",
            "Epoch 200/500\n",
            "2532/2532 [==============================] - 5s 2ms/step - loss: 0.4489 - accuracy: 0.7960 - val_loss: 0.4272 - val_accuracy: 0.8039\n",
            "Epoch 201/500\n",
            "2532/2532 [==============================] - 5s 2ms/step - loss: 0.4490 - accuracy: 0.7953 - val_loss: 0.4310 - val_accuracy: 0.8008\n",
            "Epoch 202/500\n",
            "2532/2532 [==============================] - 5s 2ms/step - loss: 0.4490 - accuracy: 0.7957 - val_loss: 0.4274 - val_accuracy: 0.8038\n",
            "Epoch 203/500\n",
            "2532/2532 [==============================] - 5s 2ms/step - loss: 0.4478 - accuracy: 0.7949 - val_loss: 0.4296 - val_accuracy: 0.8016\n",
            "Epoch 204/500\n",
            "2532/2532 [==============================] - 5s 2ms/step - loss: 0.4481 - accuracy: 0.7955 - val_loss: 0.4287 - val_accuracy: 0.8022\n",
            "Epoch 205/500\n",
            "2532/2532 [==============================] - 5s 2ms/step - loss: 0.4492 - accuracy: 0.7956 - val_loss: 0.4227 - val_accuracy: 0.8072\n",
            "Epoch 206/500\n",
            "2532/2532 [==============================] - 5s 2ms/step - loss: 0.4477 - accuracy: 0.7960 - val_loss: 0.4245 - val_accuracy: 0.8051\n",
            "Epoch 207/500\n",
            "2532/2532 [==============================] - 5s 2ms/step - loss: 0.4453 - accuracy: 0.7984 - val_loss: 0.4293 - val_accuracy: 0.8016\n",
            "Epoch 208/500\n",
            "2532/2532 [==============================] - 5s 2ms/step - loss: 0.4457 - accuracy: 0.7955 - val_loss: 0.4265 - val_accuracy: 0.8047\n",
            "Epoch 209/500\n",
            "2532/2532 [==============================] - 5s 2ms/step - loss: 0.4435 - accuracy: 0.7993 - val_loss: 0.4256 - val_accuracy: 0.8048\n",
            "Epoch 210/500\n",
            "2532/2532 [==============================] - 5s 2ms/step - loss: 0.4459 - accuracy: 0.7971 - val_loss: 0.4214 - val_accuracy: 0.8085\n",
            "Epoch 211/500\n",
            "2532/2532 [==============================] - 5s 2ms/step - loss: 0.4482 - accuracy: 0.7956 - val_loss: 0.4234 - val_accuracy: 0.8072\n",
            "Epoch 212/500\n",
            "2532/2532 [==============================] - 5s 2ms/step - loss: 0.4468 - accuracy: 0.7978 - val_loss: 0.4223 - val_accuracy: 0.8074\n",
            "Epoch 213/500\n",
            "2532/2532 [==============================] - 5s 2ms/step - loss: 0.4462 - accuracy: 0.7985 - val_loss: 0.4228 - val_accuracy: 0.8075\n",
            "Epoch 214/500\n",
            "2532/2532 [==============================] - 5s 2ms/step - loss: 0.4498 - accuracy: 0.7960 - val_loss: 0.4239 - val_accuracy: 0.8058\n",
            "Epoch 215/500\n",
            "2532/2532 [==============================] - 5s 2ms/step - loss: 0.4475 - accuracy: 0.7957 - val_loss: 0.4256 - val_accuracy: 0.8056\n",
            "Epoch 216/500\n",
            "2532/2532 [==============================] - 5s 2ms/step - loss: 0.4473 - accuracy: 0.7979 - val_loss: 0.4219 - val_accuracy: 0.8072\n",
            "Epoch 217/500\n",
            "2532/2532 [==============================] - 5s 2ms/step - loss: 0.4456 - accuracy: 0.7974 - val_loss: 0.4237 - val_accuracy: 0.8057\n",
            "Epoch 218/500\n",
            "2532/2532 [==============================] - 5s 2ms/step - loss: 0.4443 - accuracy: 0.7986 - val_loss: 0.4238 - val_accuracy: 0.8064\n",
            "Epoch 219/500\n",
            "2532/2532 [==============================] - 5s 2ms/step - loss: 0.4425 - accuracy: 0.7985 - val_loss: 0.4208 - val_accuracy: 0.8098\n",
            "Epoch 220/500\n",
            "2532/2532 [==============================] - 5s 2ms/step - loss: 0.4502 - accuracy: 0.7941 - val_loss: 0.4224 - val_accuracy: 0.8071\n",
            "Epoch 221/500\n",
            "2532/2532 [==============================] - 5s 2ms/step - loss: 0.4462 - accuracy: 0.7960 - val_loss: 0.4220 - val_accuracy: 0.8069\n",
            "Epoch 222/500\n",
            "2532/2532 [==============================] - 5s 2ms/step - loss: 0.4464 - accuracy: 0.7986 - val_loss: 0.4233 - val_accuracy: 0.8065\n",
            "Epoch 223/500\n",
            "2532/2532 [==============================] - 5s 2ms/step - loss: 0.4453 - accuracy: 0.7978 - val_loss: 0.4208 - val_accuracy: 0.8087\n",
            "Epoch 224/500\n",
            "2532/2532 [==============================] - 5s 2ms/step - loss: 0.4398 - accuracy: 0.7991 - val_loss: 0.4287 - val_accuracy: 0.8017\n",
            "Epoch 225/500\n",
            "2532/2532 [==============================] - 5s 2ms/step - loss: 0.4418 - accuracy: 0.7989 - val_loss: 0.4237 - val_accuracy: 0.8071\n",
            "Epoch 226/500\n",
            "2532/2532 [==============================] - 5s 2ms/step - loss: 0.4446 - accuracy: 0.7969 - val_loss: 0.4230 - val_accuracy: 0.8075\n",
            "Epoch 227/500\n",
            "2532/2532 [==============================] - 5s 2ms/step - loss: 0.4420 - accuracy: 0.7996 - val_loss: 0.4248 - val_accuracy: 0.8062\n",
            "Epoch 228/500\n",
            "2532/2532 [==============================] - 5s 2ms/step - loss: 0.4481 - accuracy: 0.7967 - val_loss: 0.4250 - val_accuracy: 0.8050\n",
            "Epoch 229/500\n",
            "2532/2532 [==============================] - 5s 2ms/step - loss: 0.4410 - accuracy: 0.8022 - val_loss: 0.4224 - val_accuracy: 0.8077\n",
            "Epoch 230/500\n",
            "2532/2532 [==============================] - 5s 2ms/step - loss: 0.4440 - accuracy: 0.7989 - val_loss: 0.4191 - val_accuracy: 0.8097\n",
            "Epoch 231/500\n",
            "2532/2532 [==============================] - 5s 2ms/step - loss: 0.4408 - accuracy: 0.8001 - val_loss: 0.4239 - val_accuracy: 0.8067\n",
            "Epoch 232/500\n",
            "2532/2532 [==============================] - 5s 2ms/step - loss: 0.4453 - accuracy: 0.7979 - val_loss: 0.4217 - val_accuracy: 0.8084\n",
            "Epoch 233/500\n",
            "2532/2532 [==============================] - 5s 2ms/step - loss: 0.4404 - accuracy: 0.8016 - val_loss: 0.4205 - val_accuracy: 0.8108\n",
            "Epoch 234/500\n",
            "2532/2532 [==============================] - 5s 2ms/step - loss: 0.4409 - accuracy: 0.7992 - val_loss: 0.4223 - val_accuracy: 0.8083\n",
            "Epoch 235/500\n",
            "2532/2532 [==============================] - 5s 2ms/step - loss: 0.4452 - accuracy: 0.7982 - val_loss: 0.4187 - val_accuracy: 0.8095\n",
            "Epoch 236/500\n",
            "2532/2532 [==============================] - 5s 2ms/step - loss: 0.4440 - accuracy: 0.7974 - val_loss: 0.4214 - val_accuracy: 0.8087\n",
            "Epoch 237/500\n",
            "2532/2532 [==============================] - 5s 2ms/step - loss: 0.4457 - accuracy: 0.7985 - val_loss: 0.4234 - val_accuracy: 0.8071\n",
            "Epoch 238/500\n",
            "2532/2532 [==============================] - 5s 2ms/step - loss: 0.4407 - accuracy: 0.7988 - val_loss: 0.4215 - val_accuracy: 0.8084\n",
            "Epoch 239/500\n",
            "2532/2532 [==============================] - 5s 2ms/step - loss: 0.4429 - accuracy: 0.7982 - val_loss: 0.4199 - val_accuracy: 0.8108\n",
            "Epoch 240/500\n",
            "2532/2532 [==============================] - 5s 2ms/step - loss: 0.4428 - accuracy: 0.7993 - val_loss: 0.4222 - val_accuracy: 0.8076\n",
            "Epoch 241/500\n",
            "2532/2532 [==============================] - 5s 2ms/step - loss: 0.4425 - accuracy: 0.7977 - val_loss: 0.4229 - val_accuracy: 0.8076\n",
            "Epoch 242/500\n",
            "2532/2532 [==============================] - 5s 2ms/step - loss: 0.4441 - accuracy: 0.7984 - val_loss: 0.4208 - val_accuracy: 0.8091\n",
            "Epoch 243/500\n",
            "2532/2532 [==============================] - 5s 2ms/step - loss: 0.4433 - accuracy: 0.7989 - val_loss: 0.4196 - val_accuracy: 0.8097\n",
            "Epoch 244/500\n",
            "2532/2532 [==============================] - 5s 2ms/step - loss: 0.4466 - accuracy: 0.7976 - val_loss: 0.4206 - val_accuracy: 0.8091\n",
            "Epoch 245/500\n",
            "2532/2532 [==============================] - 5s 2ms/step - loss: 0.4448 - accuracy: 0.7985 - val_loss: 0.4178 - val_accuracy: 0.8110\n",
            "Epoch 246/500\n",
            "2532/2532 [==============================] - 5s 2ms/step - loss: 0.4411 - accuracy: 0.8017 - val_loss: 0.4191 - val_accuracy: 0.8105\n",
            "Epoch 247/500\n",
            "2532/2532 [==============================] - 5s 2ms/step - loss: 0.4365 - accuracy: 0.8019 - val_loss: 0.4196 - val_accuracy: 0.8109\n",
            "Epoch 248/500\n",
            "2532/2532 [==============================] - 5s 2ms/step - loss: 0.4419 - accuracy: 0.8012 - val_loss: 0.4194 - val_accuracy: 0.8094\n",
            "Epoch 249/500\n",
            "2532/2532 [==============================] - 5s 2ms/step - loss: 0.4390 - accuracy: 0.8008 - val_loss: 0.4195 - val_accuracy: 0.8110\n",
            "Epoch 250/500\n",
            "2532/2532 [==============================] - 5s 2ms/step - loss: 0.4446 - accuracy: 0.7992 - val_loss: 0.4193 - val_accuracy: 0.8107\n",
            "Epoch 251/500\n",
            "2532/2532 [==============================] - 5s 2ms/step - loss: 0.4385 - accuracy: 0.8020 - val_loss: 0.4200 - val_accuracy: 0.8099\n",
            "Epoch 252/500\n",
            "2532/2532 [==============================] - 5s 2ms/step - loss: 0.4389 - accuracy: 0.8025 - val_loss: 0.4174 - val_accuracy: 0.8115\n",
            "Epoch 253/500\n",
            "2532/2532 [==============================] - 5s 2ms/step - loss: 0.4402 - accuracy: 0.8003 - val_loss: 0.4217 - val_accuracy: 0.8077\n",
            "Epoch 254/500\n",
            "2532/2532 [==============================] - 5s 2ms/step - loss: 0.4390 - accuracy: 0.8031 - val_loss: 0.4179 - val_accuracy: 0.8117\n",
            "Epoch 255/500\n",
            "2532/2532 [==============================] - 5s 2ms/step - loss: 0.4417 - accuracy: 0.8004 - val_loss: 0.4191 - val_accuracy: 0.8104\n",
            "Epoch 256/500\n",
            "2532/2532 [==============================] - 5s 2ms/step - loss: 0.4386 - accuracy: 0.8040 - val_loss: 0.4184 - val_accuracy: 0.8113\n",
            "Epoch 257/500\n",
            "2532/2532 [==============================] - 5s 2ms/step - loss: 0.4433 - accuracy: 0.7986 - val_loss: 0.4182 - val_accuracy: 0.8105\n",
            "Epoch 258/500\n",
            "2532/2532 [==============================] - 5s 2ms/step - loss: 0.4427 - accuracy: 0.8009 - val_loss: 0.4181 - val_accuracy: 0.8115\n",
            "Epoch 259/500\n",
            "2532/2532 [==============================] - 5s 2ms/step - loss: 0.4386 - accuracy: 0.8025 - val_loss: 0.4177 - val_accuracy: 0.8120\n",
            "Epoch 260/500\n",
            "2532/2532 [==============================] - 5s 2ms/step - loss: 0.4387 - accuracy: 0.8038 - val_loss: 0.4183 - val_accuracy: 0.8115\n",
            "Epoch 261/500\n",
            "2532/2532 [==============================] - 5s 2ms/step - loss: 0.4439 - accuracy: 0.8000 - val_loss: 0.4211 - val_accuracy: 0.8087\n",
            "Epoch 262/500\n",
            "2532/2532 [==============================] - 5s 2ms/step - loss: 0.4385 - accuracy: 0.8020 - val_loss: 0.4192 - val_accuracy: 0.8101\n",
            "Epoch 263/500\n",
            "2532/2532 [==============================] - 5s 2ms/step - loss: 0.4393 - accuracy: 0.8007 - val_loss: 0.4190 - val_accuracy: 0.8113\n",
            "Epoch 264/500\n",
            "2532/2532 [==============================] - 5s 2ms/step - loss: 0.4388 - accuracy: 0.8034 - val_loss: 0.4150 - val_accuracy: 0.8128\n",
            "Epoch 265/500\n",
            "2532/2532 [==============================] - 5s 2ms/step - loss: 0.4403 - accuracy: 0.7997 - val_loss: 0.4207 - val_accuracy: 0.8106\n",
            "Epoch 266/500\n",
            "2532/2532 [==============================] - 5s 2ms/step - loss: 0.4407 - accuracy: 0.8025 - val_loss: 0.4216 - val_accuracy: 0.8082\n",
            "Epoch 267/500\n",
            "2532/2532 [==============================] - 5s 2ms/step - loss: 0.4425 - accuracy: 0.8004 - val_loss: 0.4191 - val_accuracy: 0.8097\n",
            "Epoch 268/500\n",
            "2532/2532 [==============================] - 5s 2ms/step - loss: 0.4375 - accuracy: 0.8026 - val_loss: 0.4228 - val_accuracy: 0.8067\n",
            "Epoch 269/500\n",
            "2532/2532 [==============================] - 5s 2ms/step - loss: 0.4414 - accuracy: 0.8007 - val_loss: 0.4152 - val_accuracy: 0.8129\n",
            "Epoch 270/500\n",
            "2532/2532 [==============================] - 5s 2ms/step - loss: 0.4424 - accuracy: 0.8016 - val_loss: 0.4170 - val_accuracy: 0.8119\n",
            "Epoch 271/500\n",
            "2532/2532 [==============================] - 5s 2ms/step - loss: 0.4401 - accuracy: 0.8025 - val_loss: 0.4176 - val_accuracy: 0.8127\n",
            "Epoch 272/500\n",
            "2532/2532 [==============================] - 5s 2ms/step - loss: 0.4406 - accuracy: 0.8001 - val_loss: 0.4189 - val_accuracy: 0.8100\n",
            "Epoch 273/500\n",
            "2532/2532 [==============================] - 6s 2ms/step - loss: 0.4366 - accuracy: 0.8034 - val_loss: 0.4157 - val_accuracy: 0.8129\n",
            "Epoch 274/500\n",
            "2532/2532 [==============================] - 5s 2ms/step - loss: 0.4372 - accuracy: 0.8051 - val_loss: 0.4180 - val_accuracy: 0.8119\n",
            "Epoch 275/500\n",
            "2532/2532 [==============================] - 5s 2ms/step - loss: 0.4401 - accuracy: 0.8006 - val_loss: 0.4178 - val_accuracy: 0.8110\n",
            "Epoch 276/500\n",
            "2532/2532 [==============================] - 5s 2ms/step - loss: 0.4369 - accuracy: 0.8038 - val_loss: 0.4144 - val_accuracy: 0.8139\n",
            "Epoch 277/500\n",
            "2532/2532 [==============================] - 5s 2ms/step - loss: 0.4385 - accuracy: 0.8013 - val_loss: 0.4163 - val_accuracy: 0.8127\n",
            "Epoch 278/500\n",
            "2532/2532 [==============================] - 5s 2ms/step - loss: 0.4408 - accuracy: 0.8018 - val_loss: 0.4182 - val_accuracy: 0.8098\n",
            "Epoch 279/500\n",
            "2532/2532 [==============================] - 5s 2ms/step - loss: 0.4356 - accuracy: 0.8051 - val_loss: 0.4151 - val_accuracy: 0.8134\n",
            "Epoch 280/500\n",
            "2532/2532 [==============================] - 5s 2ms/step - loss: 0.4335 - accuracy: 0.8056 - val_loss: 0.4160 - val_accuracy: 0.8126\n",
            "Epoch 281/500\n",
            "2532/2532 [==============================] - 5s 2ms/step - loss: 0.4365 - accuracy: 0.8032 - val_loss: 0.4189 - val_accuracy: 0.8093\n",
            "Epoch 282/500\n",
            "2532/2532 [==============================] - 5s 2ms/step - loss: 0.4368 - accuracy: 0.8054 - val_loss: 0.4181 - val_accuracy: 0.8117\n",
            "Epoch 283/500\n",
            "2532/2532 [==============================] - 5s 2ms/step - loss: 0.4365 - accuracy: 0.8034 - val_loss: 0.4176 - val_accuracy: 0.8110\n",
            "Epoch 284/500\n",
            "2532/2532 [==============================] - 5s 2ms/step - loss: 0.4411 - accuracy: 0.8013 - val_loss: 0.4143 - val_accuracy: 0.8137\n",
            "Epoch 285/500\n",
            "2532/2532 [==============================] - 5s 2ms/step - loss: 0.4384 - accuracy: 0.8014 - val_loss: 0.4171 - val_accuracy: 0.8114\n",
            "Epoch 286/500\n",
            "2532/2532 [==============================] - 5s 2ms/step - loss: 0.4371 - accuracy: 0.8042 - val_loss: 0.4137 - val_accuracy: 0.8134\n",
            "Epoch 287/500\n",
            "2532/2532 [==============================] - 5s 2ms/step - loss: 0.4392 - accuracy: 0.8023 - val_loss: 0.4150 - val_accuracy: 0.8138\n",
            "Epoch 288/500\n",
            "2532/2532 [==============================] - 5s 2ms/step - loss: 0.4403 - accuracy: 0.8023 - val_loss: 0.4122 - val_accuracy: 0.8158\n",
            "Epoch 289/500\n",
            "2532/2532 [==============================] - 5s 2ms/step - loss: 0.4353 - accuracy: 0.8045 - val_loss: 0.4141 - val_accuracy: 0.8144\n",
            "Epoch 290/500\n",
            "2532/2532 [==============================] - 5s 2ms/step - loss: 0.4329 - accuracy: 0.8092 - val_loss: 0.4192 - val_accuracy: 0.8089\n",
            "Epoch 291/500\n",
            "2532/2532 [==============================] - 5s 2ms/step - loss: 0.4375 - accuracy: 0.8051 - val_loss: 0.4202 - val_accuracy: 0.8090\n",
            "Epoch 292/500\n",
            "2532/2532 [==============================] - 5s 2ms/step - loss: 0.4372 - accuracy: 0.8043 - val_loss: 0.4145 - val_accuracy: 0.8137\n",
            "Epoch 293/500\n",
            "2532/2532 [==============================] - 5s 2ms/step - loss: 0.4333 - accuracy: 0.8068 - val_loss: 0.4144 - val_accuracy: 0.8139\n",
            "Epoch 294/500\n",
            "2532/2532 [==============================] - 5s 2ms/step - loss: 0.4410 - accuracy: 0.8011 - val_loss: 0.4139 - val_accuracy: 0.8125\n",
            "Epoch 295/500\n",
            "2532/2532 [==============================] - 5s 2ms/step - loss: 0.4404 - accuracy: 0.8006 - val_loss: 0.4136 - val_accuracy: 0.8132\n",
            "Epoch 296/500\n",
            "2532/2532 [==============================] - 6s 2ms/step - loss: 0.4401 - accuracy: 0.8026 - val_loss: 0.4146 - val_accuracy: 0.8138\n",
            "Epoch 297/500\n",
            "2532/2532 [==============================] - 5s 2ms/step - loss: 0.4367 - accuracy: 0.8056 - val_loss: 0.4137 - val_accuracy: 0.8135\n",
            "Epoch 298/500\n",
            "2532/2532 [==============================] - 5s 2ms/step - loss: 0.4360 - accuracy: 0.8047 - val_loss: 0.4153 - val_accuracy: 0.8141\n",
            "Epoch 299/500\n",
            "2532/2532 [==============================] - 5s 2ms/step - loss: 0.4348 - accuracy: 0.8040 - val_loss: 0.4179 - val_accuracy: 0.8109\n",
            "Epoch 300/500\n",
            "2532/2532 [==============================] - 5s 2ms/step - loss: 0.4364 - accuracy: 0.8041 - val_loss: 0.4171 - val_accuracy: 0.8125\n",
            "Epoch 301/500\n",
            "2532/2532 [==============================] - 5s 2ms/step - loss: 0.4373 - accuracy: 0.8027 - val_loss: 0.4132 - val_accuracy: 0.8125\n",
            "Epoch 302/500\n",
            "2532/2532 [==============================] - 5s 2ms/step - loss: 0.4396 - accuracy: 0.8013 - val_loss: 0.4151 - val_accuracy: 0.8130\n",
            "Epoch 303/500\n",
            "2532/2532 [==============================] - 5s 2ms/step - loss: 0.4348 - accuracy: 0.8060 - val_loss: 0.4130 - val_accuracy: 0.8143\n",
            "Epoch 304/500\n",
            "2532/2532 [==============================] - 5s 2ms/step - loss: 0.4379 - accuracy: 0.8026 - val_loss: 0.4156 - val_accuracy: 0.8124\n",
            "Epoch 305/500\n",
            "2532/2532 [==============================] - 5s 2ms/step - loss: 0.4385 - accuracy: 0.8034 - val_loss: 0.4147 - val_accuracy: 0.8138\n",
            "Epoch 306/500\n",
            "2532/2532 [==============================] - 5s 2ms/step - loss: 0.4371 - accuracy: 0.8038 - val_loss: 0.4137 - val_accuracy: 0.8134\n",
            "Epoch 307/500\n",
            "2532/2532 [==============================] - 5s 2ms/step - loss: 0.4342 - accuracy: 0.8045 - val_loss: 0.4114 - val_accuracy: 0.8154\n",
            "Epoch 308/500\n",
            "2532/2532 [==============================] - 5s 2ms/step - loss: 0.4354 - accuracy: 0.8052 - val_loss: 0.4152 - val_accuracy: 0.8139\n",
            "Epoch 309/500\n",
            "2532/2532 [==============================] - 5s 2ms/step - loss: 0.4375 - accuracy: 0.8035 - val_loss: 0.4155 - val_accuracy: 0.8141\n",
            "Epoch 310/500\n",
            "2532/2532 [==============================] - 5s 2ms/step - loss: 0.4340 - accuracy: 0.8051 - val_loss: 0.4176 - val_accuracy: 0.8114\n",
            "Epoch 311/500\n",
            "2532/2532 [==============================] - 5s 2ms/step - loss: 0.4342 - accuracy: 0.8050 - val_loss: 0.4131 - val_accuracy: 0.8155\n",
            "Epoch 312/500\n",
            "2532/2532 [==============================] - 5s 2ms/step - loss: 0.4377 - accuracy: 0.8038 - val_loss: 0.4142 - val_accuracy: 0.8139\n",
            "Epoch 313/500\n",
            "2532/2532 [==============================] - 5s 2ms/step - loss: 0.4348 - accuracy: 0.8071 - val_loss: 0.4124 - val_accuracy: 0.8149\n",
            "Epoch 314/500\n",
            "2532/2532 [==============================] - 5s 2ms/step - loss: 0.4352 - accuracy: 0.8059 - val_loss: 0.4146 - val_accuracy: 0.8138\n",
            "Epoch 315/500\n",
            "2532/2532 [==============================] - 5s 2ms/step - loss: 0.4371 - accuracy: 0.8033 - val_loss: 0.4127 - val_accuracy: 0.8143\n",
            "Epoch 316/500\n",
            "2532/2532 [==============================] - 5s 2ms/step - loss: 0.4340 - accuracy: 0.8061 - val_loss: 0.4141 - val_accuracy: 0.8143\n",
            "Epoch 317/500\n",
            "2532/2532 [==============================] - 5s 2ms/step - loss: 0.4330 - accuracy: 0.8053 - val_loss: 0.4125 - val_accuracy: 0.8149\n",
            "Epoch 318/500\n",
            "2532/2532 [==============================] - 6s 2ms/step - loss: 0.4364 - accuracy: 0.8046 - val_loss: 0.4118 - val_accuracy: 0.8146\n",
            "Epoch 319/500\n",
            "2532/2532 [==============================] - 5s 2ms/step - loss: 0.4361 - accuracy: 0.8043 - val_loss: 0.4130 - val_accuracy: 0.8145\n",
            "Epoch 320/500\n",
            "2532/2532 [==============================] - 5s 2ms/step - loss: 0.4320 - accuracy: 0.8086 - val_loss: 0.4153 - val_accuracy: 0.8128\n",
            "Epoch 321/500\n",
            "2532/2532 [==============================] - 5s 2ms/step - loss: 0.4331 - accuracy: 0.8059 - val_loss: 0.4150 - val_accuracy: 0.8117\n",
            "Epoch 322/500\n",
            "2532/2532 [==============================] - 6s 2ms/step - loss: 0.4375 - accuracy: 0.8033 - val_loss: 0.4117 - val_accuracy: 0.8153\n",
            "Epoch 323/500\n",
            "2532/2532 [==============================] - 6s 2ms/step - loss: 0.4349 - accuracy: 0.8043 - val_loss: 0.4120 - val_accuracy: 0.8147\n",
            "Epoch 324/500\n",
            "2532/2532 [==============================] - 5s 2ms/step - loss: 0.4354 - accuracy: 0.8058 - val_loss: 0.4146 - val_accuracy: 0.8136\n",
            "Epoch 325/500\n",
            "2532/2532 [==============================] - 5s 2ms/step - loss: 0.4324 - accuracy: 0.8061 - val_loss: 0.4144 - val_accuracy: 0.8132\n",
            "Epoch 326/500\n",
            "2532/2532 [==============================] - 5s 2ms/step - loss: 0.4328 - accuracy: 0.8086 - val_loss: 0.4126 - val_accuracy: 0.8148\n",
            "Epoch 327/500\n",
            "2532/2532 [==============================] - 5s 2ms/step - loss: 0.4346 - accuracy: 0.8080 - val_loss: 0.4128 - val_accuracy: 0.8147\n",
            "Epoch 328/500\n",
            "2532/2532 [==============================] - 5s 2ms/step - loss: 0.4354 - accuracy: 0.8065 - val_loss: 0.4166 - val_accuracy: 0.8109\n",
            "Epoch 329/500\n",
            "2532/2532 [==============================] - 5s 2ms/step - loss: 0.4316 - accuracy: 0.8073 - val_loss: 0.4164 - val_accuracy: 0.8122\n",
            "Epoch 330/500\n",
            "2532/2532 [==============================] - 5s 2ms/step - loss: 0.4390 - accuracy: 0.8033 - val_loss: 0.4156 - val_accuracy: 0.8118\n",
            "Epoch 331/500\n",
            "2532/2532 [==============================] - 5s 2ms/step - loss: 0.4331 - accuracy: 0.8071 - val_loss: 0.4129 - val_accuracy: 0.8148\n",
            "Epoch 332/500\n",
            "2532/2532 [==============================] - 5s 2ms/step - loss: 0.4337 - accuracy: 0.8054 - val_loss: 0.4145 - val_accuracy: 0.8135\n",
            "Epoch 333/500\n",
            "2532/2532 [==============================] - 5s 2ms/step - loss: 0.4329 - accuracy: 0.8067 - val_loss: 0.4137 - val_accuracy: 0.8144\n",
            "Epoch 334/500\n",
            "2532/2532 [==============================] - 5s 2ms/step - loss: 0.4316 - accuracy: 0.8087 - val_loss: 0.4100 - val_accuracy: 0.8161\n",
            "Epoch 335/500\n",
            "2532/2532 [==============================] - 5s 2ms/step - loss: 0.4348 - accuracy: 0.8057 - val_loss: 0.4150 - val_accuracy: 0.8130\n",
            "Epoch 336/500\n",
            "2532/2532 [==============================] - 5s 2ms/step - loss: 0.4344 - accuracy: 0.8068 - val_loss: 0.4110 - val_accuracy: 0.8157\n",
            "Epoch 337/500\n",
            "2532/2532 [==============================] - 5s 2ms/step - loss: 0.4322 - accuracy: 0.8051 - val_loss: 0.4112 - val_accuracy: 0.8157\n",
            "Epoch 338/500\n",
            "2532/2532 [==============================] - 5s 2ms/step - loss: 0.4357 - accuracy: 0.8048 - val_loss: 0.4116 - val_accuracy: 0.8166\n",
            "Epoch 339/500\n",
            "2532/2532 [==============================] - 5s 2ms/step - loss: 0.4318 - accuracy: 0.8094 - val_loss: 0.4104 - val_accuracy: 0.8158\n",
            "Epoch 340/500\n",
            "2532/2532 [==============================] - 5s 2ms/step - loss: 0.4345 - accuracy: 0.8058 - val_loss: 0.4116 - val_accuracy: 0.8158\n",
            "Epoch 341/500\n",
            "2532/2532 [==============================] - 5s 2ms/step - loss: 0.4308 - accuracy: 0.8093 - val_loss: 0.4094 - val_accuracy: 0.8161\n",
            "Epoch 342/500\n",
            "2532/2532 [==============================] - 5s 2ms/step - loss: 0.4297 - accuracy: 0.8079 - val_loss: 0.4118 - val_accuracy: 0.8165\n",
            "Epoch 343/500\n",
            "2532/2532 [==============================] - 5s 2ms/step - loss: 0.4318 - accuracy: 0.8085 - val_loss: 0.4112 - val_accuracy: 0.8160\n",
            "Epoch 344/500\n",
            "2532/2532 [==============================] - 5s 2ms/step - loss: 0.4368 - accuracy: 0.8040 - val_loss: 0.4132 - val_accuracy: 0.8156\n",
            "Epoch 345/500\n",
            "2532/2532 [==============================] - 5s 2ms/step - loss: 0.4315 - accuracy: 0.8063 - val_loss: 0.4168 - val_accuracy: 0.8115\n",
            "Epoch 346/500\n",
            "2532/2532 [==============================] - 6s 2ms/step - loss: 0.4343 - accuracy: 0.8053 - val_loss: 0.4136 - val_accuracy: 0.8137\n",
            "Epoch 347/500\n",
            "2532/2532 [==============================] - 5s 2ms/step - loss: 0.4299 - accuracy: 0.8097 - val_loss: 0.4107 - val_accuracy: 0.8164\n",
            "Epoch 348/500\n",
            "2532/2532 [==============================] - 5s 2ms/step - loss: 0.4335 - accuracy: 0.8061 - val_loss: 0.4134 - val_accuracy: 0.8145\n",
            "Epoch 349/500\n",
            "2532/2532 [==============================] - 5s 2ms/step - loss: 0.4363 - accuracy: 0.8035 - val_loss: 0.4148 - val_accuracy: 0.8129\n",
            "Epoch 350/500\n",
            "2532/2532 [==============================] - 5s 2ms/step - loss: 0.4349 - accuracy: 0.8060 - val_loss: 0.4130 - val_accuracy: 0.8157\n",
            "Epoch 351/500\n",
            "2532/2532 [==============================] - 5s 2ms/step - loss: 0.4347 - accuracy: 0.8063 - val_loss: 0.4116 - val_accuracy: 0.8156\n",
            "Epoch 352/500\n",
            "2532/2532 [==============================] - 5s 2ms/step - loss: 0.4301 - accuracy: 0.8087 - val_loss: 0.4094 - val_accuracy: 0.8164\n",
            "Epoch 353/500\n",
            "2532/2532 [==============================] - 5s 2ms/step - loss: 0.4358 - accuracy: 0.8069 - val_loss: 0.4135 - val_accuracy: 0.8143\n",
            "Epoch 354/500\n",
            "2532/2532 [==============================] - 6s 2ms/step - loss: 0.4344 - accuracy: 0.8036 - val_loss: 0.4132 - val_accuracy: 0.8144\n",
            "Epoch 355/500\n",
            "2532/2532 [==============================] - 5s 2ms/step - loss: 0.4319 - accuracy: 0.8087 - val_loss: 0.4132 - val_accuracy: 0.8148\n",
            "Epoch 356/500\n",
            "2532/2532 [==============================] - 5s 2ms/step - loss: 0.4343 - accuracy: 0.8064 - val_loss: 0.4091 - val_accuracy: 0.8170\n",
            "Epoch 357/500\n",
            "2532/2532 [==============================] - 5s 2ms/step - loss: 0.4348 - accuracy: 0.8075 - val_loss: 0.4074 - val_accuracy: 0.8167\n",
            "Epoch 358/500\n",
            "2532/2532 [==============================] - 5s 2ms/step - loss: 0.4343 - accuracy: 0.8059 - val_loss: 0.4127 - val_accuracy: 0.8147\n",
            "Epoch 359/500\n",
            "2532/2532 [==============================] - 5s 2ms/step - loss: 0.4328 - accuracy: 0.8066 - val_loss: 0.4103 - val_accuracy: 0.8164\n",
            "Epoch 360/500\n",
            "2532/2532 [==============================] - 5s 2ms/step - loss: 0.4315 - accuracy: 0.8071 - val_loss: 0.4124 - val_accuracy: 0.8146\n",
            "Epoch 361/500\n",
            "2532/2532 [==============================] - 5s 2ms/step - loss: 0.4320 - accuracy: 0.8054 - val_loss: 0.4143 - val_accuracy: 0.8136\n",
            "Epoch 362/500\n",
            "2532/2532 [==============================] - 6s 2ms/step - loss: 0.4295 - accuracy: 0.8090 - val_loss: 0.4122 - val_accuracy: 0.8155\n",
            "Epoch 363/500\n",
            "2532/2532 [==============================] - 6s 2ms/step - loss: 0.4348 - accuracy: 0.8060 - val_loss: 0.4135 - val_accuracy: 0.8146\n",
            "Epoch 364/500\n",
            "2532/2532 [==============================] - 6s 2ms/step - loss: 0.4314 - accuracy: 0.8075 - val_loss: 0.4140 - val_accuracy: 0.8142\n",
            "Epoch 365/500\n",
            "2532/2532 [==============================] - 5s 2ms/step - loss: 0.4283 - accuracy: 0.8107 - val_loss: 0.4100 - val_accuracy: 0.8166\n",
            "Epoch 366/500\n",
            "2532/2532 [==============================] - 6s 2ms/step - loss: 0.4324 - accuracy: 0.8080 - val_loss: 0.4110 - val_accuracy: 0.8162\n",
            "Epoch 367/500\n",
            "2532/2532 [==============================] - 5s 2ms/step - loss: 0.4322 - accuracy: 0.8071 - val_loss: 0.4099 - val_accuracy: 0.8168\n",
            "Epoch 368/500\n",
            "2532/2532 [==============================] - 6s 2ms/step - loss: 0.4336 - accuracy: 0.8056 - val_loss: 0.4102 - val_accuracy: 0.8174\n",
            "Epoch 369/500\n",
            "2532/2532 [==============================] - 6s 2ms/step - loss: 0.4307 - accuracy: 0.8057 - val_loss: 0.4116 - val_accuracy: 0.8165\n",
            "Epoch 370/500\n",
            "2532/2532 [==============================] - 5s 2ms/step - loss: 0.4311 - accuracy: 0.8081 - val_loss: 0.4091 - val_accuracy: 0.8167\n",
            "Epoch 371/500\n",
            "2532/2532 [==============================] - 6s 2ms/step - loss: 0.4260 - accuracy: 0.8101 - val_loss: 0.4104 - val_accuracy: 0.8167\n",
            "Epoch 372/500\n",
            "2532/2532 [==============================] - 6s 2ms/step - loss: 0.4320 - accuracy: 0.8078 - val_loss: 0.4147 - val_accuracy: 0.8132\n",
            "Epoch 373/500\n",
            "2532/2532 [==============================] - 5s 2ms/step - loss: 0.4341 - accuracy: 0.8072 - val_loss: 0.4103 - val_accuracy: 0.8173\n",
            "Epoch 374/500\n",
            "2532/2532 [==============================] - 6s 2ms/step - loss: 0.4315 - accuracy: 0.8085 - val_loss: 0.4094 - val_accuracy: 0.8172\n",
            "Epoch 375/500\n",
            "2532/2532 [==============================] - 5s 2ms/step - loss: 0.4288 - accuracy: 0.8084 - val_loss: 0.4079 - val_accuracy: 0.8178\n",
            "Epoch 376/500\n",
            "2532/2532 [==============================] - 6s 2ms/step - loss: 0.4303 - accuracy: 0.8083 - val_loss: 0.4118 - val_accuracy: 0.8162\n",
            "Epoch 377/500\n",
            "2532/2532 [==============================] - 6s 2ms/step - loss: 0.4357 - accuracy: 0.8072 - val_loss: 0.4108 - val_accuracy: 0.8172\n",
            "Epoch 378/500\n",
            "2532/2532 [==============================] - 6s 2ms/step - loss: 0.4287 - accuracy: 0.8073 - val_loss: 0.4119 - val_accuracy: 0.8157\n",
            "Epoch 379/500\n",
            "2532/2532 [==============================] - 6s 2ms/step - loss: 0.4304 - accuracy: 0.8085 - val_loss: 0.4113 - val_accuracy: 0.8166\n",
            "Epoch 380/500\n",
            "2532/2532 [==============================] - 5s 2ms/step - loss: 0.4308 - accuracy: 0.8073 - val_loss: 0.4098 - val_accuracy: 0.8172\n",
            "Epoch 381/500\n",
            "2532/2532 [==============================] - 5s 2ms/step - loss: 0.4281 - accuracy: 0.8108 - val_loss: 0.4083 - val_accuracy: 0.8185\n",
            "Epoch 382/500\n",
            "2532/2532 [==============================] - 5s 2ms/step - loss: 0.4319 - accuracy: 0.8061 - val_loss: 0.4075 - val_accuracy: 0.8182\n",
            "Epoch 383/500\n",
            "2532/2532 [==============================] - 5s 2ms/step - loss: 0.4298 - accuracy: 0.8073 - val_loss: 0.4083 - val_accuracy: 0.8177\n",
            "Epoch 384/500\n",
            "2532/2532 [==============================] - 6s 2ms/step - loss: 0.4338 - accuracy: 0.8056 - val_loss: 0.4080 - val_accuracy: 0.8173\n",
            "Epoch 385/500\n",
            "2532/2532 [==============================] - 6s 2ms/step - loss: 0.4276 - accuracy: 0.8110 - val_loss: 0.4095 - val_accuracy: 0.8178\n",
            "Epoch 386/500\n",
            "2532/2532 [==============================] - 6s 2ms/step - loss: 0.4307 - accuracy: 0.8094 - val_loss: 0.4081 - val_accuracy: 0.8183\n",
            "Epoch 387/500\n",
            "2532/2532 [==============================] - 6s 2ms/step - loss: 0.4312 - accuracy: 0.8080 - val_loss: 0.4103 - val_accuracy: 0.8171\n",
            "Epoch 388/500\n",
            "2532/2532 [==============================] - 5s 2ms/step - loss: 0.4254 - accuracy: 0.8134 - val_loss: 0.4109 - val_accuracy: 0.8156\n",
            "Epoch 389/500\n",
            "2532/2532 [==============================] - 6s 2ms/step - loss: 0.4312 - accuracy: 0.8062 - val_loss: 0.4085 - val_accuracy: 0.8182\n",
            "Epoch 390/500\n",
            "2532/2532 [==============================] - 5s 2ms/step - loss: 0.4323 - accuracy: 0.8086 - val_loss: 0.4067 - val_accuracy: 0.8186\n",
            "Epoch 391/500\n",
            "2532/2532 [==============================] - 6s 2ms/step - loss: 0.4343 - accuracy: 0.8077 - val_loss: 0.4134 - val_accuracy: 0.8150\n",
            "Epoch 392/500\n",
            "2532/2532 [==============================] - 6s 2ms/step - loss: 0.4268 - accuracy: 0.8102 - val_loss: 0.4084 - val_accuracy: 0.8184\n",
            "Epoch 393/500\n",
            "2532/2532 [==============================] - 6s 2ms/step - loss: 0.4269 - accuracy: 0.8102 - val_loss: 0.4080 - val_accuracy: 0.8186\n",
            "Epoch 394/500\n",
            "2532/2532 [==============================] - 6s 2ms/step - loss: 0.4284 - accuracy: 0.8088 - val_loss: 0.4089 - val_accuracy: 0.8176\n",
            "Epoch 395/500\n",
            "2532/2532 [==============================] - 6s 2ms/step - loss: 0.4309 - accuracy: 0.8058 - val_loss: 0.4085 - val_accuracy: 0.8175\n",
            "Epoch 396/500\n",
            "2532/2532 [==============================] - 6s 2ms/step - loss: 0.4299 - accuracy: 0.8074 - val_loss: 0.4059 - val_accuracy: 0.8192\n",
            "Epoch 397/500\n",
            "2532/2532 [==============================] - 6s 2ms/step - loss: 0.4278 - accuracy: 0.8093 - val_loss: 0.4107 - val_accuracy: 0.8167\n",
            "Epoch 398/500\n",
            "2532/2532 [==============================] - 6s 2ms/step - loss: 0.4309 - accuracy: 0.8080 - val_loss: 0.4109 - val_accuracy: 0.8172\n",
            "Epoch 399/500\n",
            "2532/2532 [==============================] - 6s 2ms/step - loss: 0.4305 - accuracy: 0.8090 - val_loss: 0.4078 - val_accuracy: 0.8185\n",
            "Epoch 400/500\n",
            "2532/2532 [==============================] - 6s 2ms/step - loss: 0.4335 - accuracy: 0.8051 - val_loss: 0.4077 - val_accuracy: 0.8180\n",
            "Epoch 401/500\n",
            "2532/2532 [==============================] - 6s 2ms/step - loss: 0.4299 - accuracy: 0.8087 - val_loss: 0.4091 - val_accuracy: 0.8179\n",
            "Epoch 402/500\n",
            "2532/2532 [==============================] - 6s 2ms/step - loss: 0.4315 - accuracy: 0.8085 - val_loss: 0.4060 - val_accuracy: 0.8201\n",
            "Epoch 403/500\n",
            "2532/2532 [==============================] - 6s 2ms/step - loss: 0.4332 - accuracy: 0.8082 - val_loss: 0.4073 - val_accuracy: 0.8186\n",
            "Epoch 404/500\n",
            "2532/2532 [==============================] - 6s 2ms/step - loss: 0.4278 - accuracy: 0.8089 - val_loss: 0.4092 - val_accuracy: 0.8182\n",
            "Epoch 405/500\n",
            "2532/2532 [==============================] - 6s 2ms/step - loss: 0.4291 - accuracy: 0.8096 - val_loss: 0.4048 - val_accuracy: 0.8191\n",
            "Epoch 406/500\n",
            "2532/2532 [==============================] - 6s 2ms/step - loss: 0.4301 - accuracy: 0.8079 - val_loss: 0.4081 - val_accuracy: 0.8188\n",
            "Epoch 407/500\n",
            "2532/2532 [==============================] - 6s 2ms/step - loss: 0.4277 - accuracy: 0.8108 - val_loss: 0.4104 - val_accuracy: 0.8169\n",
            "Epoch 408/500\n",
            "2532/2532 [==============================] - 6s 2ms/step - loss: 0.4304 - accuracy: 0.8073 - val_loss: 0.4069 - val_accuracy: 0.8195\n",
            "Epoch 409/500\n",
            "2532/2532 [==============================] - 6s 2ms/step - loss: 0.4269 - accuracy: 0.8098 - val_loss: 0.4086 - val_accuracy: 0.8186\n",
            "Epoch 410/500\n",
            "2532/2532 [==============================] - 6s 2ms/step - loss: 0.4297 - accuracy: 0.8086 - val_loss: 0.4069 - val_accuracy: 0.8189\n",
            "Epoch 411/500\n",
            "2532/2532 [==============================] - 6s 2ms/step - loss: 0.4316 - accuracy: 0.8083 - val_loss: 0.4080 - val_accuracy: 0.8183\n",
            "Epoch 412/500\n",
            "2532/2532 [==============================] - 6s 2ms/step - loss: 0.4267 - accuracy: 0.8090 - val_loss: 0.4072 - val_accuracy: 0.8191\n",
            "Epoch 413/500\n",
            "2532/2532 [==============================] - 6s 2ms/step - loss: 0.4284 - accuracy: 0.8109 - val_loss: 0.4089 - val_accuracy: 0.8186\n",
            "Epoch 414/500\n",
            "2532/2532 [==============================] - 6s 2ms/step - loss: 0.4265 - accuracy: 0.8098 - val_loss: 0.4084 - val_accuracy: 0.8188\n",
            "Epoch 415/500\n",
            "2532/2532 [==============================] - 5s 2ms/step - loss: 0.4337 - accuracy: 0.8050 - val_loss: 0.4057 - val_accuracy: 0.8201\n",
            "Epoch 416/500\n",
            "2532/2532 [==============================] - 6s 2ms/step - loss: 0.4275 - accuracy: 0.8108 - val_loss: 0.4093 - val_accuracy: 0.8183\n",
            "Epoch 417/500\n",
            "2532/2532 [==============================] - 6s 2ms/step - loss: 0.4250 - accuracy: 0.8102 - val_loss: 0.4088 - val_accuracy: 0.8190\n",
            "Epoch 418/500\n",
            "2532/2532 [==============================] - 6s 2ms/step - loss: 0.4305 - accuracy: 0.8085 - val_loss: 0.4068 - val_accuracy: 0.8197\n",
            "Epoch 419/500\n",
            "2532/2532 [==============================] - 6s 2ms/step - loss: 0.4303 - accuracy: 0.8119 - val_loss: 0.4091 - val_accuracy: 0.8176\n",
            "Epoch 420/500\n",
            "2532/2532 [==============================] - 6s 2ms/step - loss: 0.4317 - accuracy: 0.8077 - val_loss: 0.4059 - val_accuracy: 0.8203\n",
            "Epoch 421/500\n",
            "2532/2532 [==============================] - 6s 2ms/step - loss: 0.4267 - accuracy: 0.8098 - val_loss: 0.4047 - val_accuracy: 0.8214\n",
            "Epoch 422/500\n",
            "2532/2532 [==============================] - 6s 2ms/step - loss: 0.4313 - accuracy: 0.8080 - val_loss: 0.4066 - val_accuracy: 0.8196\n",
            "Epoch 423/500\n",
            "2532/2532 [==============================] - 5s 2ms/step - loss: 0.4303 - accuracy: 0.8083 - val_loss: 0.4038 - val_accuracy: 0.8205\n",
            "Epoch 424/500\n",
            "2532/2532 [==============================] - 6s 2ms/step - loss: 0.4268 - accuracy: 0.8102 - val_loss: 0.4079 - val_accuracy: 0.8198\n",
            "Epoch 425/500\n",
            "2532/2532 [==============================] - 6s 2ms/step - loss: 0.4267 - accuracy: 0.8102 - val_loss: 0.4080 - val_accuracy: 0.8195\n",
            "Epoch 426/500\n",
            "2532/2532 [==============================] - 6s 2ms/step - loss: 0.4252 - accuracy: 0.8132 - val_loss: 0.4057 - val_accuracy: 0.8206\n",
            "Epoch 427/500\n",
            "2532/2532 [==============================] - 6s 2ms/step - loss: 0.4287 - accuracy: 0.8105 - val_loss: 0.4068 - val_accuracy: 0.8191\n",
            "Epoch 428/500\n",
            "2532/2532 [==============================] - 6s 2ms/step - loss: 0.4293 - accuracy: 0.8112 - val_loss: 0.4059 - val_accuracy: 0.8191\n",
            "Epoch 429/500\n",
            "2532/2532 [==============================] - 6s 2ms/step - loss: 0.4279 - accuracy: 0.8115 - val_loss: 0.4059 - val_accuracy: 0.8199\n",
            "Epoch 430/500\n",
            "2532/2532 [==============================] - 5s 2ms/step - loss: 0.4282 - accuracy: 0.8094 - val_loss: 0.4094 - val_accuracy: 0.8173\n",
            "Epoch 431/500\n",
            "2532/2532 [==============================] - 6s 2ms/step - loss: 0.4254 - accuracy: 0.8113 - val_loss: 0.4063 - val_accuracy: 0.8209\n",
            "Epoch 432/500\n",
            "2532/2532 [==============================] - 6s 2ms/step - loss: 0.4306 - accuracy: 0.8102 - val_loss: 0.4055 - val_accuracy: 0.8195\n",
            "Epoch 433/500\n",
            "2532/2532 [==============================] - 6s 2ms/step - loss: 0.4264 - accuracy: 0.8127 - val_loss: 0.4065 - val_accuracy: 0.8197\n",
            "Epoch 434/500\n",
            "2532/2532 [==============================] - 6s 2ms/step - loss: 0.4278 - accuracy: 0.8080 - val_loss: 0.4046 - val_accuracy: 0.8207\n",
            "Epoch 435/500\n",
            "2532/2532 [==============================] - 6s 2ms/step - loss: 0.4257 - accuracy: 0.8105 - val_loss: 0.4061 - val_accuracy: 0.8207\n",
            "Epoch 436/500\n",
            "2532/2532 [==============================] - 6s 2ms/step - loss: 0.4293 - accuracy: 0.8097 - val_loss: 0.4058 - val_accuracy: 0.8203\n",
            "Epoch 437/500\n",
            "2532/2532 [==============================] - 6s 2ms/step - loss: 0.4312 - accuracy: 0.8090 - val_loss: 0.4067 - val_accuracy: 0.8200\n",
            "Epoch 438/500\n",
            "2532/2532 [==============================] - 6s 2ms/step - loss: 0.4266 - accuracy: 0.8108 - val_loss: 0.4082 - val_accuracy: 0.8199\n",
            "Epoch 439/500\n",
            "2532/2532 [==============================] - 6s 2ms/step - loss: 0.4247 - accuracy: 0.8124 - val_loss: 0.4060 - val_accuracy: 0.8202\n",
            "Epoch 440/500\n",
            "2532/2532 [==============================] - 6s 2ms/step - loss: 0.4256 - accuracy: 0.8116 - val_loss: 0.4051 - val_accuracy: 0.8213\n",
            "Epoch 441/500\n",
            "2532/2532 [==============================] - 6s 2ms/step - loss: 0.4283 - accuracy: 0.8092 - val_loss: 0.4080 - val_accuracy: 0.8192\n",
            "Epoch 442/500\n",
            "2532/2532 [==============================] - 6s 2ms/step - loss: 0.4270 - accuracy: 0.8119 - val_loss: 0.4066 - val_accuracy: 0.8200\n",
            "Epoch 443/500\n",
            "2532/2532 [==============================] - 6s 2ms/step - loss: 0.4264 - accuracy: 0.8121 - val_loss: 0.4050 - val_accuracy: 0.8210\n",
            "Epoch 444/500\n",
            "2532/2532 [==============================] - 6s 2ms/step - loss: 0.4258 - accuracy: 0.8106 - val_loss: 0.4060 - val_accuracy: 0.8202\n",
            "Epoch 445/500\n",
            "2532/2532 [==============================] - 6s 2ms/step - loss: 0.4286 - accuracy: 0.8111 - val_loss: 0.4049 - val_accuracy: 0.8211\n",
            "Epoch 446/500\n",
            "2532/2532 [==============================] - 6s 2ms/step - loss: 0.4252 - accuracy: 0.8106 - val_loss: 0.4043 - val_accuracy: 0.8206\n",
            "Epoch 447/500\n",
            "2532/2532 [==============================] - 6s 2ms/step - loss: 0.4272 - accuracy: 0.8104 - val_loss: 0.4058 - val_accuracy: 0.8211\n",
            "Epoch 448/500\n",
            "2532/2532 [==============================] - 6s 2ms/step - loss: 0.4277 - accuracy: 0.8101 - val_loss: 0.4065 - val_accuracy: 0.8208\n",
            "Epoch 449/500\n",
            "2532/2532 [==============================] - 6s 2ms/step - loss: 0.4269 - accuracy: 0.8129 - val_loss: 0.4063 - val_accuracy: 0.8204\n",
            "Epoch 450/500\n",
            "2532/2532 [==============================] - 6s 2ms/step - loss: 0.4253 - accuracy: 0.8123 - val_loss: 0.4061 - val_accuracy: 0.8213\n",
            "Epoch 451/500\n",
            "2532/2532 [==============================] - 6s 2ms/step - loss: 0.4285 - accuracy: 0.8100 - val_loss: 0.4068 - val_accuracy: 0.8197\n",
            "Epoch 452/500\n",
            "2532/2532 [==============================] - 6s 2ms/step - loss: 0.4263 - accuracy: 0.8109 - val_loss: 0.4067 - val_accuracy: 0.8204\n",
            "Epoch 453/500\n",
            "2532/2532 [==============================] - 6s 2ms/step - loss: 0.4270 - accuracy: 0.8115 - val_loss: 0.4084 - val_accuracy: 0.8190\n",
            "Epoch 454/500\n",
            "2532/2532 [==============================] - 6s 2ms/step - loss: 0.4226 - accuracy: 0.8133 - val_loss: 0.4069 - val_accuracy: 0.8206\n",
            "Epoch 455/500\n",
            "2532/2532 [==============================] - 6s 2ms/step - loss: 0.4256 - accuracy: 0.8113 - val_loss: 0.4034 - val_accuracy: 0.8221\n",
            "Epoch 456/500\n",
            "2532/2532 [==============================] - 6s 2ms/step - loss: 0.4308 - accuracy: 0.8097 - val_loss: 0.4041 - val_accuracy: 0.8210\n",
            "Epoch 457/500\n",
            "2532/2532 [==============================] - 6s 2ms/step - loss: 0.4272 - accuracy: 0.8103 - val_loss: 0.4054 - val_accuracy: 0.8208\n",
            "Epoch 458/500\n",
            "2532/2532 [==============================] - 6s 2ms/step - loss: 0.4292 - accuracy: 0.8112 - val_loss: 0.4077 - val_accuracy: 0.8196\n",
            "Epoch 459/500\n",
            "2532/2532 [==============================] - 6s 2ms/step - loss: 0.4269 - accuracy: 0.8111 - val_loss: 0.4042 - val_accuracy: 0.8215\n",
            "Epoch 460/500\n",
            "2532/2532 [==============================] - 6s 2ms/step - loss: 0.4300 - accuracy: 0.8094 - val_loss: 0.4039 - val_accuracy: 0.8219\n",
            "Epoch 461/500\n",
            "2532/2532 [==============================] - 6s 2ms/step - loss: 0.4301 - accuracy: 0.8108 - val_loss: 0.4054 - val_accuracy: 0.8211\n",
            "Epoch 462/500\n",
            "2532/2532 [==============================] - 6s 2ms/step - loss: 0.4248 - accuracy: 0.8135 - val_loss: 0.4041 - val_accuracy: 0.8207\n",
            "Epoch 463/500\n",
            "2532/2532 [==============================] - 6s 2ms/step - loss: 0.4282 - accuracy: 0.8098 - val_loss: 0.4081 - val_accuracy: 0.8191\n",
            "Epoch 464/500\n",
            "2532/2532 [==============================] - 6s 2ms/step - loss: 0.4255 - accuracy: 0.8128 - val_loss: 0.4062 - val_accuracy: 0.8213\n",
            "Epoch 465/500\n",
            "2532/2532 [==============================] - 6s 3ms/step - loss: 0.4248 - accuracy: 0.8125 - val_loss: 0.4063 - val_accuracy: 0.8204\n",
            "Epoch 466/500\n",
            "2532/2532 [==============================] - 6s 2ms/step - loss: 0.4251 - accuracy: 0.8105 - val_loss: 0.4030 - val_accuracy: 0.8224\n",
            "Epoch 467/500\n",
            "2532/2532 [==============================] - 6s 2ms/step - loss: 0.4305 - accuracy: 0.8094 - val_loss: 0.4046 - val_accuracy: 0.8212\n",
            "Epoch 468/500\n",
            "2532/2532 [==============================] - 6s 2ms/step - loss: 0.4265 - accuracy: 0.8134 - val_loss: 0.4069 - val_accuracy: 0.8205\n",
            "Epoch 469/500\n",
            "2532/2532 [==============================] - 6s 2ms/step - loss: 0.4259 - accuracy: 0.8105 - val_loss: 0.4066 - val_accuracy: 0.8202\n",
            "Epoch 470/500\n",
            "2532/2532 [==============================] - 6s 2ms/step - loss: 0.4263 - accuracy: 0.8119 - val_loss: 0.4044 - val_accuracy: 0.8209\n",
            "Epoch 471/500\n",
            "2532/2532 [==============================] - 6s 2ms/step - loss: 0.4246 - accuracy: 0.8123 - val_loss: 0.4052 - val_accuracy: 0.8209\n",
            "Epoch 472/500\n",
            "2532/2532 [==============================] - 6s 2ms/step - loss: 0.4202 - accuracy: 0.8163 - val_loss: 0.4031 - val_accuracy: 0.8228\n",
            "Epoch 473/500\n",
            "2532/2532 [==============================] - 6s 2ms/step - loss: 0.4235 - accuracy: 0.8129 - val_loss: 0.4037 - val_accuracy: 0.8212\n",
            "Epoch 474/500\n",
            "2532/2532 [==============================] - 6s 2ms/step - loss: 0.4267 - accuracy: 0.8116 - val_loss: 0.4066 - val_accuracy: 0.8207\n",
            "Epoch 475/500\n",
            "2532/2532 [==============================] - 6s 2ms/step - loss: 0.4286 - accuracy: 0.8109 - val_loss: 0.4023 - val_accuracy: 0.8227\n",
            "Epoch 476/500\n",
            "2532/2532 [==============================] - 6s 2ms/step - loss: 0.4242 - accuracy: 0.8142 - val_loss: 0.4047 - val_accuracy: 0.8219\n",
            "Epoch 477/500\n",
            "2532/2532 [==============================] - 6s 2ms/step - loss: 0.4325 - accuracy: 0.8088 - val_loss: 0.4065 - val_accuracy: 0.8200\n",
            "Epoch 478/500\n",
            "2532/2532 [==============================] - 6s 2ms/step - loss: 0.4274 - accuracy: 0.8124 - val_loss: 0.4052 - val_accuracy: 0.8211\n",
            "Epoch 479/500\n",
            "2532/2532 [==============================] - 6s 2ms/step - loss: 0.4240 - accuracy: 0.8132 - val_loss: 0.4076 - val_accuracy: 0.8203\n",
            "Epoch 480/500\n",
            "2532/2532 [==============================] - 6s 2ms/step - loss: 0.4276 - accuracy: 0.8100 - val_loss: 0.4030 - val_accuracy: 0.8227\n",
            "Epoch 481/500\n",
            "2532/2532 [==============================] - 6s 2ms/step - loss: 0.4253 - accuracy: 0.8112 - val_loss: 0.4028 - val_accuracy: 0.8221\n",
            "Epoch 482/500\n",
            "2532/2532 [==============================] - 6s 2ms/step - loss: 0.4266 - accuracy: 0.8102 - val_loss: 0.4043 - val_accuracy: 0.8216\n",
            "Epoch 483/500\n",
            "2532/2532 [==============================] - 6s 2ms/step - loss: 0.4270 - accuracy: 0.8104 - val_loss: 0.4024 - val_accuracy: 0.8227\n",
            "Epoch 484/500\n",
            "2532/2532 [==============================] - 6s 2ms/step - loss: 0.4234 - accuracy: 0.8134 - val_loss: 0.4031 - val_accuracy: 0.8226\n",
            "Epoch 485/500\n",
            "2532/2532 [==============================] - 6s 2ms/step - loss: 0.4196 - accuracy: 0.8156 - val_loss: 0.4073 - val_accuracy: 0.8204\n",
            "Epoch 486/500\n",
            "2532/2532 [==============================] - 6s 2ms/step - loss: 0.4250 - accuracy: 0.8151 - val_loss: 0.4040 - val_accuracy: 0.8228\n",
            "Epoch 487/500\n",
            "2532/2532 [==============================] - 6s 2ms/step - loss: 0.4279 - accuracy: 0.8114 - val_loss: 0.4028 - val_accuracy: 0.8223\n",
            "Epoch 488/500\n",
            "2532/2532 [==============================] - 6s 2ms/step - loss: 0.4254 - accuracy: 0.8108 - val_loss: 0.4045 - val_accuracy: 0.8213\n",
            "Epoch 489/500\n",
            "2532/2532 [==============================] - 6s 2ms/step - loss: 0.4245 - accuracy: 0.8123 - val_loss: 0.4046 - val_accuracy: 0.8213\n",
            "Epoch 490/500\n",
            "2532/2532 [==============================] - 6s 2ms/step - loss: 0.4243 - accuracy: 0.8124 - val_loss: 0.4036 - val_accuracy: 0.8222\n",
            "Epoch 491/500\n",
            "2532/2532 [==============================] - 6s 2ms/step - loss: 0.4273 - accuracy: 0.8130 - val_loss: 0.4013 - val_accuracy: 0.8232\n",
            "Epoch 492/500\n",
            "2532/2532 [==============================] - 6s 2ms/step - loss: 0.4251 - accuracy: 0.8110 - val_loss: 0.4015 - val_accuracy: 0.8230\n",
            "Epoch 493/500\n",
            "2532/2532 [==============================] - 6s 2ms/step - loss: 0.4194 - accuracy: 0.8153 - val_loss: 0.4039 - val_accuracy: 0.8226\n",
            "Epoch 494/500\n",
            "2532/2532 [==============================] - 6s 2ms/step - loss: 0.4264 - accuracy: 0.8127 - val_loss: 0.4056 - val_accuracy: 0.8208\n",
            "Epoch 495/500\n",
            "2532/2532 [==============================] - 6s 2ms/step - loss: 0.4281 - accuracy: 0.8107 - val_loss: 0.4019 - val_accuracy: 0.8227\n",
            "Epoch 496/500\n",
            "2532/2532 [==============================] - 6s 2ms/step - loss: 0.4263 - accuracy: 0.8115 - val_loss: 0.4031 - val_accuracy: 0.8228\n",
            "Epoch 497/500\n",
            "2532/2532 [==============================] - 6s 2ms/step - loss: 0.4228 - accuracy: 0.8150 - val_loss: 0.4040 - val_accuracy: 0.8219\n",
            "Epoch 498/500\n",
            "2532/2532 [==============================] - 6s 2ms/step - loss: 0.4225 - accuracy: 0.8121 - val_loss: 0.4054 - val_accuracy: 0.8213\n",
            "Epoch 499/500\n",
            "2532/2532 [==============================] - 6s 2ms/step - loss: 0.4240 - accuracy: 0.8131 - val_loss: 0.4037 - val_accuracy: 0.8219\n",
            "Epoch 500/500\n",
            "2532/2532 [==============================] - 6s 2ms/step - loss: 0.4241 - accuracy: 0.8121 - val_loss: 0.4053 - val_accuracy: 0.8217\n",
            "Fold 1, 500 epochs, 2633 sec\n"
          ],
          "name": "stdout"
        },
        {
          "output_type": "display_data",
          "data": {
            "image/png": "[encoded data removed]",
            "text/plain": [
              "<Figure size 576x360 with 1 Axes>"
            ]
          },
          "metadata": {
            "tags": [],
            "needs_background": "light"
          }
        }
      ]
    },
    {
      "cell_type": "markdown",
      "metadata": {
        "id": "Li3-YuuU8-gs"
      },
      "source": [
        "## Show Results of MLP"
      ]
    },
    {
      "cell_type": "code",
      "metadata": {
        "id": "s3HL6lwW9A8j"
      },
      "source": [
        "def show_test_AUC(model, title, X, y):\n",
        "    \"\"\"\n",
        "    From Miller's MLP_GenCode_1??.\n",
        "    \"\"\"\n",
        "    ns_probs = [0 for _ in range(len(y))]\n",
        "    bm_probs = model.predict(X)\n",
        "    ns_auc = roc_auc_score(y, ns_probs)\n",
        "    bm_auc = roc_auc_score(y, bm_probs)\n",
        "    ns_fpr, ns_tpr, _ = roc_curve(y, ns_probs)\n",
        "    bm_fpr, bm_tpr, _ = roc_curve(y, bm_probs)\n",
        "    plt.plot(ns_fpr, ns_tpr, linestyle='--', label='Guess, auc=%.4f'%ns_auc)\n",
        "    plt.plot(bm_fpr, bm_tpr, marker='.', label='Model, auc=%.4f'%bm_auc)\n",
        "    plt.title(title + ' ROC')\n",
        "    plt.xlabel('False Positive Rate')\n",
        "    plt.ylabel('True Positive Rate')\n",
        "    plt.legend()\n",
        "    plt.show()\n",
        "    print(\"%s: %.2f%%\" %('AUC',bm_auc*100.0))\n",
        "    \n",
        "def show_test_accuracy(model,X,y):\n",
        "    \"\"\"\n",
        "    From Miller's MLP_GenCode_1??.\n",
        "    \"\"\"\n",
        "    scores = model.evaluate(X, y, verbose=0)\n",
        "    print(\"%s: %.2f%%\" % (model.metrics_names[1], scores[1]*100))"
      ],
      "execution_count": 53,
      "outputs": []
    },
    {
      "cell_type": "code",
      "metadata": {
        "colab": {
          "base_uri": "https://localhost:8080/",
          "height": 405
        },
        "id": "EeWFq22L9N6G",
        "outputId": "0a3791f1-0013-43fa-f138-5f801baf6e08"
      },
      "source": [
        "print(\"Accuracy on training data.\")\n",
        "print(\"Prepare...\")\n",
        "X, y = prepare_x_and_y(pc_train, nc_train)\n",
        "print(\"Extract K-mer features...\")\n",
        "X = seqs_to_kmer_freqs(X, MAX_K)\n",
        "print(\"Plot...\")\n",
        "show_test_AUC(last_model, 'Train', X, y)\n",
        "show_test_accuracy(last_model, X, y)"
      ],
      "execution_count": 54,
      "outputs": [
        {
          "output_type": "stream",
          "text": [
            "Accuracy on training data.\n",
            "Prepare...\n",
            "Extract K-mer features...\n",
            "Plot...\n"
          ],
          "name": "stdout"
        },
        {
          "output_type": "display_data",
          "data": {
            "image/png": "[encoded data removed]",
            "text/plain": [
              "<Figure size 432x288 with 1 Axes>"
            ]
          },
          "metadata": {
            "tags": [],
            "needs_background": "light"
          }
        },
        {
          "output_type": "stream",
          "text": [
            "AUC: 90.19%\n",
            "accuracy: 82.60%\n"
          ],
          "name": "stdout"
        }
      ]
    },
    {
      "cell_type": "code",
      "metadata": {
        "colab": {
          "base_uri": "https://localhost:8080/",
          "height": 405
        },
        "id": "LQY5Hze-9hl9",
        "outputId": "df74eb23-036e-41c7-8e58-83b578ad3359"
      },
      "source": [
        "print(\"Accuracy on test data.\")\n",
        "print(\"Prepare...\")\n",
        "X, y = prepare_x_and_y(pc_test, nc_test)\n",
        "print(\"Extract K-mer features...\")\n",
        "X = seqs_to_kmer_freqs(X, MAX_K)\n",
        "print(\"Plot...\")\n",
        "show_test_AUC(last_model, 'Test', X, y)\n",
        "show_test_accuracy(last_model, X, y)"
      ],
      "execution_count": 55,
      "outputs": [
        {
          "output_type": "stream",
          "text": [
            "Accuracy on test data.\n",
            "Prepare...\n",
            "Extract K-mer features...\n",
            "Plot...\n"
          ],
          "name": "stdout"
        },
        {
          "output_type": "display_data",
          "data": {
            "image/png": "[encoded data removed]",
            "text/plain": [
              "<Figure size 432x288 with 1 Axes>"
            ]
          },
          "metadata": {
            "tags": [],
            "needs_background": "light"
          }
        },
        {
          "output_type": "stream",
          "text": [
            "AUC: 91.64%\n",
            "accuracy: 84.67%\n"
          ],
          "name": "stdout"
        }
      ]
    }
  ]
}