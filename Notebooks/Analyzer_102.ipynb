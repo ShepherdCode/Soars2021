{
  "nbformat": 4,
  "nbformat_minor": 0,
  "metadata": {
    "colab": {
      "name": "Analyzer_102.ipynb",
      "provenance": [],
      "collapsed_sections": []
    },
    "kernelspec": {
      "display_name": "Python 3",
      "language": "python",
      "name": "python3"
    },
    "language_info": {
      "codemirror_mode": {
        "name": "ipython",
        "version": 3
      },
      "file_extension": ".py",
      "mimetype": "text/x-python",
      "name": "python",
      "nbconvert_exporter": "python",
      "pygments_lexer": "ipython3",
      "version": "3.8.3"
    }
  },
  "cells": [
    {
      "cell_type": "markdown",
      "metadata": {
        "id": "QxjDXgzOuzm9"
      },
      "source": [
        "# Analyzer\n",
        "\n",
        "Statistically, visually, and through machine learning compare mRNA and lncRNA sequences from GENCODE v38.\n",
        "\n",
        "Assume the user downloaded files from GENCODE v38 [FTP](http://ftp.ebi.ac.uk/pub/databases/gencode/Gencode_human/release_38/)\n",
        "to a subdirectory called data."
      ]
    },
    {
      "cell_type": "markdown",
      "metadata": {
        "id": "CWH1hul6uKub"
      },
      "source": [
        "## Import Dependencies\n"
      ]
    },
    {
      "cell_type": "code",
      "metadata": {
        "colab": {
          "base_uri": "https://localhost:8080/"
        },
        "id": "cMB8T39CuJ2Y",
        "outputId": "5bc1b618-09b8-431c-e614-ab258c11f835"
      },
      "source": [
        "import numpy as np\n",
        "import matplotlib.pyplot as plt\n",
        "import random\n",
        "import pandas as pd\n",
        "import gzip\n",
        "from scipy.stats import chisquare, kstest\n",
        "import sys\n",
        "\n",
        "from sklearn.utils import shuffle\n",
        "from sklearn.model_selection import KFold\n",
        "from sklearn.model_selection import cross_val_score\n",
        "from sklearn.metrics import roc_curve\n",
        "from sklearn.metrics import roc_auc_score\n",
        "from keras.models import Sequential\n",
        "from keras.layers import Dense,Embedding,Dropout\n",
        "from keras.layers import Flatten,TimeDistributed\n",
        "from keras.losses import BinaryCrossentropy\n",
        "from keras.callbacks import ModelCheckpoint\n",
        "from keras.models import load_model\n",
        "\n",
        "try:\n",
        "    from google.colab import drive\n",
        "    IN_COLAB = True\n",
        "    print(\"On Google CoLab, mount cloud-local file, get our code from GitHub.\")\n",
        "    PATH='/content/drive/'\n",
        "    #drive.mount(PATH,force_remount=True)  # hardly ever need this\n",
        "    drive.mount(PATH)    # Google will require login credentials\n",
        "    DATAPATH=PATH+'My Drive/data/'  # must end in \"/\"\n",
        "    import requests\n",
        "    s = requests.get('https://raw.githubusercontent.com/ShepherdCode/Soars2021/master/SimTools/RNA_describe.py')\n",
        "    with open('RNA_describe.py', 'w') as f:\n",
        "      f.write(s.text)  # writes to cloud local, delete the file later?\n",
        "    s = requests.get('https://raw.githubusercontent.com/ShepherdCode/Soars2021/master/SimTools/GenCodeTools.py')\n",
        "    with open ('GenCodeTools.py', 'w') as f:\n",
        "      f.write(s.text)\n",
        "    s = requests.get('https://raw.githubusercontent.com/ShepherdCode/Soars2021/master/SimTools/plot_generator.py')\n",
        "    with open('plot_generator.py', 'w') as f:\n",
        "      f.write(s.text)\n",
        "    s = requests.get('https://raw.githubusercontent.com/ShepherdCode/Soars2021/master/SimTools/KmerTools.py')\n",
        "    with open('KmerTools.py', 'w') as f:\n",
        "      f.write(s.text)  \n",
        "    from KmerTools import KmerTools\n",
        "    from RNA_describe import *\n",
        "    from GenCodeTools import *\n",
        "    from plot_generator import *\n",
        "except:\n",
        "    print(\"CoLab not working. On my PC, use relative paths.\")\n",
        "    IN_COLAB = False\n",
        "    DATAPATH='../data/'  # must end in \"/\"\n",
        "    sys.path.append(\"..\") # append parent dir in order to use sibling dirs\n",
        "    from SimTools.RNA_describe import *\n",
        "    from SimTools.GenCodeTools import *\n",
        "    from SimTools.plot_generator import *\n",
        "    from SimTools.KmerTools import KmerTools\n",
        "\n",
        "MODELPATH=\"BestModel\"  # saved on cloud instance and lost after logout\n",
        "#MODELPATH=DATAPATH+MODELPATH  # saved on Google Drive but requires login\n",
        "\n",
        "if not assert_imported_RNA_describe():\n",
        "    print(\"ERROR: Cannot use RNA_describe.\")"
      ],
      "execution_count": null,
      "outputs": [
        {
          "output_type": "stream",
          "text": [
            "On Google CoLab, mount cloud-local file, get our code from GitHub.\n",
            "Mounted at /content/drive/\n"
          ],
          "name": "stdout"
        }
      ]
    },
    {
      "cell_type": "markdown",
      "metadata": {
        "id": "T8RNNlZGsZN5"
      },
      "source": [
        "## Load GENCODE Data\n",
        "Loads GENCODE v38 data.\n",
        "\n",
        "Filters out mRNA sequences based on UTR check."
      ]
    },
    {
      "cell_type": "code",
      "metadata": {
        "colab": {
          "base_uri": "https://localhost:8080/"
        },
        "id": "37JnfHgWt_-U",
        "outputId": "fb0667db-42d6-4d79-d2ce-395cd135f4cd"
      },
      "source": [
        "PC_FILENAME='gencode.v38.pc_transcripts.fa.gz'\n",
        "NC_FILENAME='gencode.v38.lncRNA_transcripts.fa.gz'\n",
        "PC_FULLPATH=DATAPATH+PC_FILENAME\n",
        "NC_FULLPATH=DATAPATH+NC_FILENAME\n",
        "loader=GenCodeLoader()\n",
        "loader.set_label(1)\n",
        "loader.set_check_list(None) \n",
        "loader.set_check_utr(True)\n",
        "pcdf=loader.load_file(PC_FULLPATH)\n",
        "print(\"PC seqs loaded:\",len(pcdf))\n",
        "loader.set_label(0)\n",
        "loader.set_check_list(None)\n",
        "loader.set_check_utr(False)\n",
        "ncdf=loader.load_file(NC_FULLPATH)\n",
        "print(\"NC seqs loaded:\",len(ncdf))"
      ],
      "execution_count": null,
      "outputs": [
        {
          "output_type": "stream",
          "text": [
            "PC seqs loaded: 70825\n",
            "NC seqs loaded: 48752\n"
          ],
          "name": "stdout"
        }
      ]
    },
    {
      "cell_type": "markdown",
      "metadata": {
        "id": "J0y1XAPLvr_G"
      },
      "source": [
        "## Process Sequences\n"
      ]
    },
    {
      "cell_type": "markdown",
      "metadata": {
        "id": "si3kGF7kTZ3M"
      },
      "source": [
        "Generate Sample of GENCODE Data Set\n",
        "\n",
        "Apply Length Constraints\n",
        "\n",
        "Validate Sequences"
      ]
    },
    {
      "cell_type": "code",
      "metadata": {
        "id": "6V7WMCLN3l1q"
      },
      "source": [
        "APPLY_SUBSET = True             #Option to subset the data\n",
        "MINIMUM_SEQUENCE_LENGTH = 200   #Minimum exclusive length to filter out sequences by\n",
        "MAXIMUM_SEQUENCE_LENGTH = 4000  #Maximum inclusive length to filter out sequences by\n",
        "SAMPLE_FRACTION = 1             #What fraction of the GenCode data set to take a sample of\n",
        "REPRODUCABILITY_SEED = 314159   #Use to reproduce random sampling"
      ],
      "execution_count": null,
      "outputs": []
    },
    {
      "cell_type": "code",
      "metadata": {
        "colab": {
          "base_uri": "https://localhost:8080/"
        },
        "id": "ANtZknso53FT",
        "outputId": "6e02ea00-4708-445c-f0b3-c98d4f71a7c0"
      },
      "source": [
        "if APPLY_SUBSET:\n",
        "    pcdf = pcdf.sample(frac=SAMPLE_FRACTION, random_state=REPRODUCABILITY_SEED)\n",
        "    ncdf = ncdf.sample(frac=SAMPLE_FRACTION, random_state=REPRODUCABILITY_SEED)\n",
        "\n",
        "    print('PC sample size:', len(pcdf))\n",
        "    print('NC sample size:', len(ncdf))"
      ],
      "execution_count": null,
      "outputs": [
        {
          "output_type": "stream",
          "text": [
            "PC sample size: 70825\n",
            "NC sample size: 48752\n"
          ],
          "name": "stdout"
        }
      ]
    },
    {
      "cell_type": "markdown",
      "metadata": {
        "id": "xe5boK2NTWH1"
      },
      "source": [
        "Apply Length Constraints"
      ]
    },
    {
      "cell_type": "code",
      "metadata": {
        "id": "7ga4K3Aw4sJd"
      },
      "source": [
        "def subset_list_by_len_bounds(input_list, min_len, max_len):\n",
        "  return list(filter(lambda x: len(x) > min_len and len(x) <= max_len, input_list))"
      ],
      "execution_count": null,
      "outputs": []
    },
    {
      "cell_type": "code",
      "metadata": {
        "colab": {
          "base_uri": "https://localhost:8080/"
        },
        "id": "D7pejW0g1lnR",
        "outputId": "82a94ab8-3652-4ffe-ea4b-7887cd2825b8"
      },
      "source": [
        "pc_sequences = pcdf['sequence'].tolist()\n",
        "nc_sequences = ncdf['sequence'].tolist()\n",
        "\n",
        "if APPLY_SUBSET:\n",
        "    pc_sequences = subset_list_by_len_bounds(pc_sequences, MINIMUM_SEQUENCE_LENGTH, MAXIMUM_SEQUENCE_LENGTH)\n",
        "    nc_sequences = subset_list_by_len_bounds(nc_sequences, MINIMUM_SEQUENCE_LENGTH, MAXIMUM_SEQUENCE_LENGTH)\n",
        "\n",
        "    print('PC seqs in length range','('+str(MINIMUM_SEQUENCE_LENGTH),'-',str(MAXIMUM_SEQUENCE_LENGTH)+'):', len(pc_sequences))\n",
        "    print('NC seqs in length range','('+str(MINIMUM_SEQUENCE_LENGTH),'-',str(MAXIMUM_SEQUENCE_LENGTH)+'):', len(nc_sequences))\n",
        "\n",
        "#Garbage collection\n",
        "pcdf = None\n",
        "ncdf = None"
      ],
      "execution_count": null,
      "outputs": [
        {
          "output_type": "stream",
          "text": [
            "PC seqs in length range (200 - 4000): 55381\n",
            "NC seqs in length range (200 - 4000): 46912\n"
          ],
          "name": "stdout"
        }
      ]
    },
    {
      "cell_type": "markdown",
      "metadata": {
        "id": "BlFZ2BHDS_kJ"
      },
      "source": [
        "Validate Sequences"
      ]
    },
    {
      "cell_type": "code",
      "metadata": {
        "colab": {
          "base_uri": "https://localhost:8080/"
        },
        "id": "FYBUZyfxSRZs",
        "outputId": "e9893063-ef06-475b-9af8-16c485866f07"
      },
      "source": [
        "def valid_sequence(seq):\n",
        "    \"\"\"\n",
        "    Checks if the given sequences if valid.\n",
        "    \"\"\"\n",
        "    for chr in seq:\n",
        "        if not (chr == 'A' or chr == 'C' or chr == 'G' or chr == 'T'):\n",
        "            return False\n",
        "    return True\n",
        "\n",
        "def validate_sequences(sequences):\n",
        "    \"\"\"\n",
        "    Validate the given list of sequences\n",
        "    \"\"\"\n",
        "    i = 0\n",
        "    while i < len(sequences):\n",
        "        if valid_sequence(sequences[i]):\n",
        "            i += 1\n",
        "        else:\n",
        "            sequences.remove(sequences[i])\n",
        "\n",
        "validate_sequences(pc_sequences)\n",
        "validate_sequences(nc_sequences)\n",
        "\n",
        "print('Valid PC seqs:', len(pc_sequences))\n",
        "print('Valid NC seqs:', len(nc_sequences))"
      ],
      "execution_count": null,
      "outputs": [
        {
          "output_type": "stream",
          "text": [
            "Valid PC seqs: 55381\n",
            "Valid NC seqs: 46911\n"
          ],
          "name": "stdout"
        }
      ]
    },
    {
      "cell_type": "markdown",
      "metadata": {
        "id": "mZq-IPZe2KAn"
      },
      "source": [
        "## Generate Simulated Sequences"
      ]
    },
    {
      "cell_type": "code",
      "metadata": {
        "colab": {
          "base_uri": "https://localhost:8080/"
        },
        "id": "KuPgFeXI1npe",
        "outputId": "fdf5d930-af6a-467b-8034-be4032a6cef3"
      },
      "source": [
        "NUM_FAKE_SEQS_PER_LENGTH = 15\n",
        "random.seed(REPRODUCABILITY_SEED)\n",
        "fake_sequences = []\n",
        "for length in range(MINIMUM_SEQUENCE_LENGTH + 1, MAXIMUM_SEQUENCE_LENGTH + 1):\n",
        "    for size in range(0, NUM_FAKE_SEQS_PER_LENGTH):\n",
        "        sequence = ''.join(random.choices(['A', 'C', 'G', 'T'], k=length))\n",
        "    fake_sequences.append(sequence)\n",
        "\n",
        "print('Simulated Sequences:', len(fake_sequences))"
      ],
      "execution_count": null,
      "outputs": [
        {
          "output_type": "stream",
          "text": [
            "Simulated Sequences: 3800\n"
          ],
          "name": "stdout"
        }
      ]
    },
    {
      "cell_type": "markdown",
      "metadata": {
        "id": "4k6CG3pCveOY"
      },
      "source": [
        "## Generate Statistics"
      ]
    },
    {
      "cell_type": "markdown",
      "metadata": {
        "id": "FhdVaD5VBKZh"
      },
      "source": [
        "\n",
        "Using KmerTools to get the K-mer counts upto 3.\n",
        "It returns the value in Dictionary form. (Key-Value Pair)"
      ]
    },
    {
      "cell_type": "code",
      "metadata": {
        "id": "MlIzMUBMBFG3"
      },
      "source": [
        "MAX_K = 3\n",
        "tool = KmerTools()\n",
        "\n",
        "pc_counts = tool.make_dict_upto_K(MAX_K)\n",
        "for sample in pc_sequences:\n",
        "    tool.update_count_one_K(pc_counts,MAX_K,sample,True)\n",
        "tool.harvest_counts_from_K(pc_counts,MAX_K)\n",
        "pc_freqs = tool.count_to_frequency(pc_counts,MAX_K)\n",
        "\n",
        "nc_counts = tool.make_dict_upto_K(MAX_K)\n",
        "for sample in nc_sequences:\n",
        "    tool.update_count_one_K(nc_counts,MAX_K,sample,True)\n",
        "tool.harvest_counts_from_K(nc_counts,MAX_K)\n",
        "nc_freqs = tool.count_to_frequency(nc_counts,MAX_K)\n",
        "\n",
        "fake_counts = tool.make_dict_upto_K(MAX_K)\n",
        "for sample in fake_sequences:\n",
        "  tool.update_count_one_K(fake_counts, MAX_K, sample, True)\n",
        "tool.harvest_counts_from_K(fake_counts, MAX_K)\n",
        "fake_freqs = tool.count_to_frequency(fake_counts, MAX_K)\n",
        "\n",
        "#Garbage collection\n",
        "pc_counts = None\n",
        "nc_counts = None\n",
        "fake_counts = None"
      ],
      "execution_count": null,
      "outputs": []
    },
    {
      "cell_type": "code",
      "metadata": {
        "id": "1Dz2OrqbBmgE"
      },
      "source": [
        "ONE_MER_MIN = 0\n",
        "ONE_MER_MAX = 4**1\n",
        "TWO_MER_MIN = 4**1\n",
        "TWO_MER_MAX = 4**2 + 4**1\n",
        "THREE_MER_MIN = 4**2 + 4**1\n",
        "THREE_MER_MAX = 4**3 + 4**2 + 4**1\n",
        "\n",
        "one_mer_keys = list(pc_freqs.keys())[ONE_MER_MIN:ONE_MER_MAX]\n",
        "two_mer_keys = list(pc_freqs.keys())[TWO_MER_MIN:TWO_MER_MAX]\n",
        "three_mer_keys = list(pc_freqs.keys())[THREE_MER_MIN:THREE_MER_MAX]\n",
        "\n",
        "pc_freqs = list(pc_freqs.values())\n",
        "nc_freqs = list(nc_freqs.values())\n",
        "fake_freqs = list(fake_freqs.values())\n",
        "\n",
        "one_mer_pc = np.asarray(pc_freqs[ONE_MER_MIN:ONE_MER_MAX])\n",
        "one_mer_nc = np.asarray(nc_freqs[ONE_MER_MIN:ONE_MER_MAX])\n",
        "one_mer_fake = np.asarray(fake_freqs[ONE_MER_MIN:ONE_MER_MAX])\n",
        "\n",
        "two_mer_pc = np.asarray(pc_freqs[TWO_MER_MIN:TWO_MER_MAX])\n",
        "two_mer_nc = np.asarray(nc_freqs[TWO_MER_MIN:TWO_MER_MAX])\n",
        "two_mer_fake = np.asarray(fake_freqs[TWO_MER_MIN:TWO_MER_MAX])\n",
        "\n",
        "three_mer_pc = np.asarray(pc_freqs[THREE_MER_MIN:THREE_MER_MAX])\n",
        "three_mer_nc = np.asarray(nc_freqs[THREE_MER_MIN:THREE_MER_MAX])\n",
        "three_mer_fake = np.asarray(fake_freqs[THREE_MER_MIN:THREE_MER_MAX])\n",
        "\n",
        "#Garbage collection\n",
        "pc_freqs = None\n",
        "nc_freqs = None\n",
        "fake_freqs = None"
      ],
      "execution_count": null,
      "outputs": []
    },
    {
      "cell_type": "markdown",
      "metadata": {
        "id": "KKll0bqM8IeW"
      },
      "source": [
        "Generate max ORF lengths"
      ]
    },
    {
      "cell_type": "code",
      "metadata": {
        "id": "u8XDvm3i5nG7"
      },
      "source": [
        "oc = ORF_counter()\n",
        "\n",
        "pc_max_orf_len = np.empty(1, dtype=object)\n",
        "nc_max_orf_len = np.empty(1, dtype=object)\n",
        "fake_max_orf_len = np.empty(1, dtype=object)\n",
        "\n",
        "pc_max_orf_len[0] = np.zeros(len(pc_sequences))\n",
        "nc_max_orf_len[0] = np.zeros(len(nc_sequences))\n",
        "fake_max_orf_len[0] = np.zeros(len(fake_sequences))\n",
        "\n",
        "for i in range(len(pc_sequences)):\n",
        "    oc.set_sequence(pc_sequences[i])\n",
        "    pc_max_orf_len[0][i] = oc.get_max_orf_len()\n",
        "for i in range(len(nc_sequences)):\n",
        "    oc.set_sequence(nc_sequences[i])\n",
        "    nc_max_orf_len[0][i] = oc.get_max_orf_len()\n",
        "for i in range(len(fake_sequences)):\n",
        "    oc.set_sequence(fake_sequences[i])\n",
        "    fake_max_orf_len[0][i] = oc.get_max_orf_len()"
      ],
      "execution_count": null,
      "outputs": []
    },
    {
      "cell_type": "markdown",
      "metadata": {
        "id": "8Xq9mfp3H74S"
      },
      "source": [
        "Get sequence lengths and sequence length vs. max ORF length correlation coefficients"
      ]
    },
    {
      "cell_type": "code",
      "metadata": {
        "id": "w4LH8MEN7GKD"
      },
      "source": [
        "pc_seq_len = np.asarray(list(map(lambda x : len(x), pc_sequences)))\n",
        "pc_seq_len_orf_len_corrcoef = np.corrcoef(pc_seq_len, pc_max_orf_len[0])\n",
        "nc_seq_len = np.asarray(list(map(lambda x : len(x), nc_sequences)))\n",
        "nc_seq_len_orf_len_corrcoef = np.corrcoef(nc_seq_len, nc_max_orf_len[0])\n",
        "fake_seq_len = np.asarray(list(map(lambda x : len(x), fake_sequences)))\n",
        "fake_seq_len_orf_len_corrcoef = np.corrcoef(fake_seq_len, fake_max_orf_len[0])"
      ],
      "execution_count": null,
      "outputs": []
    },
    {
      "cell_type": "markdown",
      "metadata": {
        "id": "4pFBfhxPvkxI"
      },
      "source": [
        "## Results"
      ]
    },
    {
      "cell_type": "code",
      "metadata": {
        "colab": {
          "base_uri": "https://localhost:8080/",
          "height": 1000
        },
        "id": "lrE3WojZPRMx",
        "outputId": "3167dcb6-1177-4624-aa58-e93d4847f69e"
      },
      "source": [
        "data_set_names = ['mRNA', 'lncRNA', 'fake']\n",
        "\n",
        "pg = PlotGenerator()\n",
        "pg.set_text_options(90, 'center', 0, 'center', 12)\n",
        "\n",
        "pg.set_text('Mean 1-Mer Frequencies', 'Mer', 'Mean Frequency', one_mer_keys, None)\n",
        "pg.bar_plot([one_mer_pc, one_mer_nc, one_mer_fake], data_set_names)\n",
        "\n",
        "pg.set_text_options(90, 'center', 0, 'center', 12)\n",
        "pg.set_text('Mean 2-Mer Frequencies', 'Mer', 'Mean Frequency', two_mer_keys, None)\n",
        "pg.bar_plot([two_mer_pc, two_mer_nc, two_mer_fake], data_set_names)\n",
        "\n",
        "pg.set_figure_options(width=14)\n",
        "pg.set_text_options(90, 'center', 0, 'center', 12)\n",
        "pg.set_text('Mean 3-Mer Frequencies', 'Mer', 'Mean Frequency', three_mer_keys, None)\n",
        "pg.bar_plot([three_mer_pc, three_mer_nc, three_mer_fake], data_set_names)\n",
        "\n",
        "pg.set_figure_options()\n",
        "pg.set_text_options(45, 'right', 0, 'center', 12)\n",
        "pg.set_text('Max ORF Lengths', 'RNA Types', 'Max ORF Length', [''], None)\n",
        "pg.box_plot([pc_max_orf_len, nc_max_orf_len, fake_max_orf_len], data_set_names, False)\n",
        "\n",
        "pg.set_text('mRNA ORF Length vs Sequence Length', 'Sequence Length', 'ORF Length', None, None)\n",
        "pg.scatter_plot(pc_seq_len, pc_max_orf_len[0], trendline=True)\n",
        "print('mRNA Sequence Length ORF Length Correlation Coefficient:')\n",
        "print('\\t', pc_seq_len_orf_len_corrcoef)\n",
        "\n",
        "pg.set_text('lncRNA ORF Length vs Sequence Length', 'Sequence Length', 'ORF Length', None, None)\n",
        "pg.scatter_plot(nc_seq_len, nc_max_orf_len[0], trendline=True)\n",
        "print('lnc Sequence Length ORF Length Correlation Coefficient:')\n",
        "print('\\t', nc_seq_len_orf_len_corrcoef)\n",
        "\n",
        "pg.set_text('fake ORF Length vs Sequence Length', 'Sequence Length', 'ORF Length', None, None)\n",
        "pg.scatter_plot(fake_seq_len, fake_max_orf_len[0], trendline=True)\n",
        "print('fake Sequence Length ORF Length Correlation Coefficient:')\n",
        "print('\\t', fake_seq_len_orf_len_corrcoef)"
      ],
      "execution_count": null,
      "outputs": [
        {
          "output_type": "display_data",
          "data": {
            "image/png": "[encoded data removed]",
            "text/plain": [
              "<Figure size 460.8x345.6 with 1 Axes>"
            ]
          },
          "metadata": {
            "tags": [],
            "needs_background": "light"
          }
        },
        {
          "output_type": "display_data",
          "data": {
            "image/png": "[encoded data removed]",
            "text/plain": [
              "<Figure size 460.8x345.6 with 1 Axes>"
            ]
          },
          "metadata": {
            "tags": [],
            "needs_background": "light"
          }
        },
        {
          "output_type": "display_data",
          "data": {
            "image/png": "[encoded data removed]",
            "text/plain": [
              "<Figure size 1008x345.6 with 1 Axes>"
            ]
          },
          "metadata": {
            "tags": [],
            "needs_background": "light"
          }
        },
        {
          "output_type": "display_data",
          "data": {
            "image/png": "[encoded data removed]",
            "text/plain": [
              "<Figure size 460.8x345.6 with 1 Axes>"
            ]
          },
          "metadata": {
            "tags": [],
            "needs_background": "light"
          }
        },
        {
          "output_type": "display_data",
          "data": {
            "image/png": "[encoded data removed]",
            "text/plain": [
              "<Figure size 460.8x345.6 with 1 Axes>"
            ]
          },
          "metadata": {
            "tags": [],
            "needs_background": "light"
          }
        },
        {
          "output_type": "stream",
          "text": [
            "mRNA Sequence Length ORF Length Correlation Coefficient:\n",
            "\t [[1.         0.71390581]\n",
            " [0.71390581 1.        ]]\n"
          ],
          "name": "stdout"
        },
        {
          "output_type": "display_data",
          "data": {
            "image/png": "[encoded data removed]",
            "text/plain": [
              "<Figure size 460.8x345.6 with 1 Axes>"
            ]
          },
          "metadata": {
            "tags": [],
            "needs_background": "light"
          }
        },
        {
          "output_type": "stream",
          "text": [
            "lnc Sequence Length ORF Length Correlation Coefficient:\n",
            "\t [[1.         0.46743005]\n",
            " [0.46743005 1.        ]]\n"
          ],
          "name": "stdout"
        },
        {
          "output_type": "display_data",
          "data": {
            "image/png": "[encoded data removed]",
            "text/plain": [
              "<Figure size 460.8x345.6 with 1 Axes>"
            ]
          },
          "metadata": {
            "tags": [],
            "needs_background": "light"
          }
        },
        {
          "output_type": "stream",
          "text": [
            "fake Sequence Length ORF Length Correlation Coefficient:\n",
            "\t [[1.        0.5349612]\n",
            " [0.5349612 1.       ]]\n"
          ],
          "name": "stdout"
        }
      ]
    },
    {
      "cell_type": "markdown",
      "metadata": {
        "id": "IVWspW8e4v2b"
      },
      "source": [
        "## Set Up MLP"
      ]
    },
    {
      "cell_type": "code",
      "metadata": {
        "id": "rNxOORWM41Xi"
      },
      "source": [
        "RATIO_TRAIN_TO_TEST = 0.99\n",
        "INPUT_SHAPE = (None, 4**3 + 4**2 + 4**1)\n",
        "MAX_K = 3\n",
        "NEURONS = 8\n",
        "DROP_RATE = 0.1\n",
        "EPOCHS = 200\n",
        "SPLITS = 5\n",
        "FOLDS = 1"
      ],
      "execution_count": null,
      "outputs": []
    },
    {
      "cell_type": "markdown",
      "metadata": {
        "id": "Nf_MTH3a63ZA"
      },
      "source": [
        "Define what is training data and what is testing data"
      ]
    },
    {
      "cell_type": "code",
      "metadata": {
        "id": "D2mKPv1B5oIR",
        "colab": {
          "base_uri": "https://localhost:8080/"
        },
        "outputId": "14860c50-1542-49b5-f01a-307e5761805d"
      },
      "source": [
        "NUM_PC = len(pc_sequences)\n",
        "NUM_PC_TRAIN = int(NUM_PC * RATIO_TRAIN_TO_TEST)\n",
        "NUM_NC = len(nc_sequences)\n",
        "NUM_NC_TRAIN = int(NUM_NC * RATIO_TRAIN_TO_TEST)\n",
        "\n",
        "pc_train = pc_sequences[:NUM_PC_TRAIN]\n",
        "pc_test = pc_sequences[NUM_PC_TRAIN:]\n",
        "nc_train = nc_sequences[:NUM_NC_TRAIN]\n",
        "nc_test = nc_sequences[NUM_NC_TRAIN:]\n",
        "\n",
        "print('PC TRAIN:', len(pc_train))\n",
        "print('NC TRAIN', len(nc_train))\n",
        "print('PC TEST:', len(pc_test))\n",
        "print('NC TEST:', len(nc_test))\n",
        "\n",
        "#Garbage Collection (this makes re-running the MLP a pain)\n",
        "#pc_sequences = None\n",
        "#nc_sequences = None"
      ],
      "execution_count": null,
      "outputs": [
        {
          "output_type": "stream",
          "text": [
            "PC TRAIN: 54827\n",
            "NC TRAIN 46441\n",
            "PC TEST: 554\n",
            "NC TEST: 470\n"
          ],
          "name": "stdout"
        }
      ]
    },
    {
      "cell_type": "markdown",
      "metadata": {
        "id": "5DOlou8Z7XU_"
      },
      "source": [
        "Prepare the Inputs and the Labels"
      ]
    },
    {
      "cell_type": "code",
      "metadata": {
        "id": "5MVxtNEc69NO"
      },
      "source": [
        "def prepare_x_and_y(seqs1, seqs0):\n",
        "    \"\"\"\n",
        "    From Miller's MLP_GenCode_1??.\n",
        "    \"\"\"\n",
        "    len1=len(seqs1)\n",
        "    len0=len(seqs0)\n",
        "    total=len1+len0\n",
        "    L1=np.ones(len1,dtype=np.int8)\n",
        "    L0=np.zeros(len0,dtype=np.int8)\n",
        "    S1 = np.asarray(seqs1)\n",
        "    S0 = np.asarray(seqs0)\n",
        "    all_labels = np.concatenate((L1,L0))\n",
        "    all_seqs = np.concatenate((S1,S0))  \n",
        "    for i in range(0,len0):\n",
        "        all_labels[i*2] = L0[i]\n",
        "        all_seqs[i*2] = S0[i]\n",
        "        all_labels[i*2+1] = L1[i]\n",
        "        all_seqs[i*2+1] = S1[i]\n",
        "    return all_seqs,all_labels\n",
        "Xseq, y = prepare_x_and_y(pc_train, nc_train)"
      ],
      "execution_count": null,
      "outputs": []
    },
    {
      "cell_type": "code",
      "metadata": {
        "id": "g46xCFPZ7xqF"
      },
      "source": [
        "#TODO: figure out how to not have to regenerate k-mer frequences\n",
        "\n",
        "def seqs_to_kmer_freqs(seqs, max_K):\n",
        "    \"\"\"\n",
        "    From Miller's MLP_GenCode_1??.\n",
        "    \"\"\"\n",
        "    tool = KmerTools()  # from SimTools\n",
        "    collection = []\n",
        "    for seq in seqs:\n",
        "        counts = tool.make_dict_upto_K(max_K)\n",
        "        # Last param should be True when using Harvester.\n",
        "        counts = tool.update_count_one_K(counts, max_K, seq, True)\n",
        "        # Given counts for K=3, Harvester fills in counts for K=1,2.\n",
        "        counts = tool.harvest_counts_from_K(counts, max_K)\n",
        "        fdict = tool.count_to_frequency(counts, max_K)\n",
        "        freqs = list(fdict.values())\n",
        "        collection.append(freqs)\n",
        "    return np.asarray(collection)\n",
        "\n",
        "Xfrq = seqs_to_kmer_freqs(Xseq, MAX_K)\n",
        "\n",
        "#Garbage Collection\n",
        "Xseq = None"
      ],
      "execution_count": null,
      "outputs": []
    },
    {
      "cell_type": "markdown",
      "metadata": {
        "id": "6TS9xAqP8ClN"
      },
      "source": [
        "## Make and Train MLP"
      ]
    },
    {
      "cell_type": "code",
      "metadata": {
        "colab": {
          "base_uri": "https://localhost:8080/"
        },
        "id": "SFI-Jwgc8Gv4",
        "outputId": "e6306190-470e-4b29-d71a-7fa167bc4f73"
      },
      "source": [
        "def make_DNN():\n",
        "    \"\"\"\n",
        "    From Miller's MLP_GenCode_1??.\n",
        "    \"\"\"\n",
        "    dt=np.float32\n",
        "    print(\"make_DNN\")\n",
        "    print(\"input shape:\",INPUT_SHAPE)\n",
        "    dnn = Sequential()\n",
        "\n",
        "    dnn.add(Dense(NEURONS, activation=\"sigmoid\", dtype=dt))  # relu doesn't work as well\n",
        "    dnn.add(Dropout(DROP_RATE))\n",
        "\n",
        "    dnn.add(Dense(NEURONS, activation=\"sigmoid\", dtype=dt)) \n",
        "    dnn.add(Dropout(DROP_RATE))\n",
        "\n",
        "    dnn.add(Dense(1, activation=\"sigmoid\", dtype=dt))  \n",
        "\n",
        "    dnn.compile(optimizer='adam',    # adadelta doesn't work as well\n",
        "        loss=BinaryCrossentropy(from_logits=False),\n",
        "        metrics=['accuracy'])   # add to default metrics=loss\n",
        "    dnn.build(input_shape=INPUT_SHAPE) \n",
        "    return dnn\n",
        "model = make_DNN()\n",
        "print(model.summary())"
      ],
      "execution_count": null,
      "outputs": [
        {
          "output_type": "stream",
          "text": [
            "make_DNN\n",
            "input shape: (None, 84)\n",
            "Model: \"sequential_12\"\n",
            "_________________________________________________________________\n",
            "Layer (type)                 Output Shape              Param #   \n",
            "=================================================================\n",
            "dense_36 (Dense)             (None, 8)                 680       \n",
            "_________________________________________________________________\n",
            "dropout_24 (Dropout)         (None, 8)                 0         \n",
            "_________________________________________________________________\n",
            "dense_37 (Dense)             (None, 8)                 72        \n",
            "_________________________________________________________________\n",
            "dropout_25 (Dropout)         (None, 8)                 0         \n",
            "_________________________________________________________________\n",
            "dense_38 (Dense)             (None, 1)                 9         \n",
            "=================================================================\n",
            "Total params: 761\n",
            "Trainable params: 761\n",
            "Non-trainable params: 0\n",
            "_________________________________________________________________\n",
            "None\n"
          ],
          "name": "stdout"
        }
      ]
    },
    {
      "cell_type": "code",
      "metadata": {
        "id": "qIEUYjE18dQT"
      },
      "source": [
        "def do_cross_validation(X,y):\n",
        "    \"\"\"\n",
        "    From Miller's MLP_GenCode_1??.\n",
        "    \"\"\"\n",
        "    cv_scores = []\n",
        "    fold=0\n",
        "    #mycallbacks = [ModelCheckpoint(\n",
        "    #    filepath=MODELPATH, save_best_only=True, \n",
        "    #    monitor='val_accuracy', mode='max')]   \n",
        "    # When shuffle=True, the valid indices are a random subset.\n",
        "    splitter = KFold(n_splits=SPLITS, shuffle=True) \n",
        "    model = None\n",
        "    for train_index, valid_index in splitter.split(X):\n",
        "        if fold < FOLDS:\n",
        "            fold += 1\n",
        "            X_train=X[train_index] # inputs for training\n",
        "            y_train=y[train_index] # labels for training\n",
        "            X_valid=X[valid_index] # inputs for validation\n",
        "            y_valid=y[valid_index] # labels for validation\n",
        "            print(\"MODEL\")\n",
        "            # Call constructor on each CV. Else, continually improves the same model.\n",
        "            model = model = make_DNN()\n",
        "            print(\"FIT\")  # model.fit() implements learning\n",
        "            start_time=time.time()\n",
        "            history=model.fit(X_train, y_train, \n",
        "                epochs=EPOCHS, \n",
        "                verbose=1,  # ascii art while learning\n",
        "                # callbacks=mycallbacks,   # called at end of each epoch\n",
        "                validation_data=(X_valid,y_valid))\n",
        "            end_time=time.time()\n",
        "            elapsed_time=(end_time-start_time)                        \n",
        "            print(\"Fold %d, %d epochs, %d sec\"%(fold,EPOCHS,elapsed_time))\n",
        "            # print(history.history.keys())  # all these keys will be shown in figure\n",
        "            pd.DataFrame(history.history).plot(figsize=(8,5))\n",
        "            plt.grid(True)\n",
        "            plt.gca().set_ylim(0,1) # any losses > 1 will be off the scale\n",
        "            plt.show()\n",
        "    return model  # parameters at end of training"
      ],
      "execution_count": null,
      "outputs": []
    },
    {
      "cell_type": "code",
      "metadata": {
        "colab": {
          "base_uri": "https://localhost:8080/",
          "height": 1000
        },
        "id": "6on9fVhr8ux_",
        "outputId": "25bb2cd3-6a81-4324-90c2-ace143f4dbbe"
      },
      "source": [
        "last_model = do_cross_validation(Xfrq, y)"
      ],
      "execution_count": null,
      "outputs": [
        {
          "output_type": "stream",
          "text": [
            "MODEL\n",
            "make_DNN\n",
            "input shape: (None, 84)\n",
            "FIT\n",
            "Epoch 1/200\n",
            "2532/2532 [==============================] - 6s 2ms/step - loss: 0.6968 - accuracy: 0.5469 - val_loss: 0.6558 - val_accuracy: 0.6640\n",
            "Epoch 2/200\n",
            "2532/2532 [==============================] - 5s 2ms/step - loss: 0.6503 - accuracy: 0.6332 - val_loss: 0.6189 - val_accuracy: 0.6721\n",
            "Epoch 3/200\n",
            "2532/2532 [==============================] - 5s 2ms/step - loss: 0.6305 - accuracy: 0.6520 - val_loss: 0.6030 - val_accuracy: 0.6841\n",
            "Epoch 4/200\n",
            "2532/2532 [==============================] - 5s 2ms/step - loss: 0.6175 - accuracy: 0.6677 - val_loss: 0.5873 - val_accuracy: 0.6940\n",
            "Epoch 5/200\n",
            "2532/2532 [==============================] - 5s 2ms/step - loss: 0.6027 - accuracy: 0.6780 - val_loss: 0.5694 - val_accuracy: 0.7141\n",
            "Epoch 6/200\n",
            "2532/2532 [==============================] - 5s 2ms/step - loss: 0.5865 - accuracy: 0.6947 - val_loss: 0.5567 - val_accuracy: 0.7280\n",
            "Epoch 7/200\n",
            "2532/2532 [==============================] - 5s 2ms/step - loss: 0.5782 - accuracy: 0.7033 - val_loss: 0.5495 - val_accuracy: 0.7355\n",
            "Epoch 8/200\n",
            "2532/2532 [==============================] - 5s 2ms/step - loss: 0.5737 - accuracy: 0.7084 - val_loss: 0.5418 - val_accuracy: 0.7317\n",
            "Epoch 9/200\n",
            "2532/2532 [==============================] - 5s 2ms/step - loss: 0.5681 - accuracy: 0.7123 - val_loss: 0.5361 - val_accuracy: 0.7398\n",
            "Epoch 10/200\n",
            "2532/2532 [==============================] - 5s 2ms/step - loss: 0.5643 - accuracy: 0.7167 - val_loss: 0.5325 - val_accuracy: 0.7410\n",
            "Epoch 11/200\n",
            "2532/2532 [==============================] - 5s 2ms/step - loss: 0.5615 - accuracy: 0.7191 - val_loss: 0.5298 - val_accuracy: 0.7489\n",
            "Epoch 12/200\n",
            "2532/2532 [==============================] - 5s 2ms/step - loss: 0.5558 - accuracy: 0.7240 - val_loss: 0.5259 - val_accuracy: 0.7493\n",
            "Epoch 13/200\n",
            "2532/2532 [==============================] - 5s 2ms/step - loss: 0.5545 - accuracy: 0.7276 - val_loss: 0.5231 - val_accuracy: 0.7499\n",
            "Epoch 14/200\n",
            "2532/2532 [==============================] - 5s 2ms/step - loss: 0.5497 - accuracy: 0.7289 - val_loss: 0.5205 - val_accuracy: 0.7516\n",
            "Epoch 15/200\n",
            "2532/2532 [==============================] - 5s 2ms/step - loss: 0.5479 - accuracy: 0.7312 - val_loss: 0.5192 - val_accuracy: 0.7557\n",
            "Epoch 16/200\n",
            "2532/2532 [==============================] - 5s 2ms/step - loss: 0.5459 - accuracy: 0.7328 - val_loss: 0.5166 - val_accuracy: 0.7551\n",
            "Epoch 17/200\n",
            "2532/2532 [==============================] - 5s 2ms/step - loss: 0.5458 - accuracy: 0.7312 - val_loss: 0.5138 - val_accuracy: 0.7577\n",
            "Epoch 18/200\n",
            "2532/2532 [==============================] - 5s 2ms/step - loss: 0.5416 - accuracy: 0.7346 - val_loss: 0.5116 - val_accuracy: 0.7575\n",
            "Epoch 19/200\n",
            "2532/2532 [==============================] - 5s 2ms/step - loss: 0.5422 - accuracy: 0.7338 - val_loss: 0.5099 - val_accuracy: 0.7614\n",
            "Epoch 20/200\n",
            "2532/2532 [==============================] - 5s 2ms/step - loss: 0.5327 - accuracy: 0.7424 - val_loss: 0.5098 - val_accuracy: 0.7633\n",
            "Epoch 21/200\n",
            "2532/2532 [==============================] - 5s 2ms/step - loss: 0.5383 - accuracy: 0.7366 - val_loss: 0.5067 - val_accuracy: 0.7624\n",
            "Epoch 22/200\n",
            "2532/2532 [==============================] - 5s 2ms/step - loss: 0.5342 - accuracy: 0.7405 - val_loss: 0.5050 - val_accuracy: 0.7643\n",
            "Epoch 23/200\n",
            "2532/2532 [==============================] - 5s 2ms/step - loss: 0.5293 - accuracy: 0.7448 - val_loss: 0.5044 - val_accuracy: 0.7656\n",
            "Epoch 24/200\n",
            "2532/2532 [==============================] - 5s 2ms/step - loss: 0.5268 - accuracy: 0.7459 - val_loss: 0.5019 - val_accuracy: 0.7661\n",
            "Epoch 25/200\n",
            "2532/2532 [==============================] - 5s 2ms/step - loss: 0.5288 - accuracy: 0.7443 - val_loss: 0.5004 - val_accuracy: 0.7684\n",
            "Epoch 26/200\n",
            "2532/2532 [==============================] - 5s 2ms/step - loss: 0.5278 - accuracy: 0.7449 - val_loss: 0.4990 - val_accuracy: 0.7704\n",
            "Epoch 27/200\n",
            "2532/2532 [==============================] - 5s 2ms/step - loss: 0.5279 - accuracy: 0.7454 - val_loss: 0.4972 - val_accuracy: 0.7709\n",
            "Epoch 28/200\n",
            "2532/2532 [==============================] - 5s 2ms/step - loss: 0.5244 - accuracy: 0.7493 - val_loss: 0.4968 - val_accuracy: 0.7723\n",
            "Epoch 29/200\n",
            "2532/2532 [==============================] - 5s 2ms/step - loss: 0.5222 - accuracy: 0.7496 - val_loss: 0.4935 - val_accuracy: 0.7731\n",
            "Epoch 30/200\n",
            "2532/2532 [==============================] - 5s 2ms/step - loss: 0.5237 - accuracy: 0.7486 - val_loss: 0.4924 - val_accuracy: 0.7740\n",
            "Epoch 31/200\n",
            "2532/2532 [==============================] - 5s 2ms/step - loss: 0.5235 - accuracy: 0.7497 - val_loss: 0.4913 - val_accuracy: 0.7756\n",
            "Epoch 32/200\n",
            "2532/2532 [==============================] - 5s 2ms/step - loss: 0.5180 - accuracy: 0.7535 - val_loss: 0.4905 - val_accuracy: 0.7769\n",
            "Epoch 33/200\n",
            "2532/2532 [==============================] - 5s 2ms/step - loss: 0.5191 - accuracy: 0.7534 - val_loss: 0.4885 - val_accuracy: 0.7772\n",
            "Epoch 34/200\n",
            "2532/2532 [==============================] - 5s 2ms/step - loss: 0.5156 - accuracy: 0.7545 - val_loss: 0.4875 - val_accuracy: 0.7768\n",
            "Epoch 35/200\n",
            "2532/2532 [==============================] - 5s 2ms/step - loss: 0.5159 - accuracy: 0.7535 - val_loss: 0.4861 - val_accuracy: 0.7780\n",
            "Epoch 36/200\n",
            "2532/2532 [==============================] - 5s 2ms/step - loss: 0.5148 - accuracy: 0.7562 - val_loss: 0.4844 - val_accuracy: 0.7774\n",
            "Epoch 37/200\n",
            "2532/2532 [==============================] - 5s 2ms/step - loss: 0.5145 - accuracy: 0.7551 - val_loss: 0.4839 - val_accuracy: 0.7804\n",
            "Epoch 38/200\n",
            "2532/2532 [==============================] - 5s 2ms/step - loss: 0.5137 - accuracy: 0.7570 - val_loss: 0.4814 - val_accuracy: 0.7800\n",
            "Epoch 39/200\n",
            "2532/2532 [==============================] - 5s 2ms/step - loss: 0.5173 - accuracy: 0.7531 - val_loss: 0.4815 - val_accuracy: 0.7813\n",
            "Epoch 40/200\n",
            "2532/2532 [==============================] - 5s 2ms/step - loss: 0.5091 - accuracy: 0.7595 - val_loss: 0.4801 - val_accuracy: 0.7801\n",
            "Epoch 41/200\n",
            "2532/2532 [==============================] - 5s 2ms/step - loss: 0.5055 - accuracy: 0.7621 - val_loss: 0.4784 - val_accuracy: 0.7809\n",
            "Epoch 42/200\n",
            "2532/2532 [==============================] - 5s 2ms/step - loss: 0.5083 - accuracy: 0.7607 - val_loss: 0.4785 - val_accuracy: 0.7839\n",
            "Epoch 43/200\n",
            "2532/2532 [==============================] - 5s 2ms/step - loss: 0.5080 - accuracy: 0.7575 - val_loss: 0.4755 - val_accuracy: 0.7823\n",
            "Epoch 44/200\n",
            "2532/2532 [==============================] - 5s 2ms/step - loss: 0.5079 - accuracy: 0.7592 - val_loss: 0.4763 - val_accuracy: 0.7844\n",
            "Epoch 45/200\n",
            "2532/2532 [==============================] - 5s 2ms/step - loss: 0.5087 - accuracy: 0.7592 - val_loss: 0.4739 - val_accuracy: 0.7855\n",
            "Epoch 46/200\n",
            "2532/2532 [==============================] - 5s 2ms/step - loss: 0.5004 - accuracy: 0.7640 - val_loss: 0.4740 - val_accuracy: 0.7857\n",
            "Epoch 47/200\n",
            "2532/2532 [==============================] - 5s 2ms/step - loss: 0.5022 - accuracy: 0.7613 - val_loss: 0.4715 - val_accuracy: 0.7855\n",
            "Epoch 48/200\n",
            "2532/2532 [==============================] - 5s 2ms/step - loss: 0.5026 - accuracy: 0.7604 - val_loss: 0.4714 - val_accuracy: 0.7864\n",
            "Epoch 49/200\n",
            "2532/2532 [==============================] - 5s 2ms/step - loss: 0.4991 - accuracy: 0.7657 - val_loss: 0.4697 - val_accuracy: 0.7867\n",
            "Epoch 50/200\n",
            "2532/2532 [==============================] - 5s 2ms/step - loss: 0.4990 - accuracy: 0.7649 - val_loss: 0.4689 - val_accuracy: 0.7866\n",
            "Epoch 51/200\n",
            "2532/2532 [==============================] - 5s 2ms/step - loss: 0.4990 - accuracy: 0.7628 - val_loss: 0.4666 - val_accuracy: 0.7872\n",
            "Epoch 52/200\n",
            "2532/2532 [==============================] - 5s 2ms/step - loss: 0.4971 - accuracy: 0.7647 - val_loss: 0.4678 - val_accuracy: 0.7884\n",
            "Epoch 53/200\n",
            "2532/2532 [==============================] - 5s 2ms/step - loss: 0.4955 - accuracy: 0.7641 - val_loss: 0.4649 - val_accuracy: 0.7877\n",
            "Epoch 54/200\n",
            "2532/2532 [==============================] - 5s 2ms/step - loss: 0.5004 - accuracy: 0.7627 - val_loss: 0.4639 - val_accuracy: 0.7882\n",
            "Epoch 55/200\n",
            "2532/2532 [==============================] - 5s 2ms/step - loss: 0.4932 - accuracy: 0.7657 - val_loss: 0.4643 - val_accuracy: 0.7895\n",
            "Epoch 56/200\n",
            "2532/2532 [==============================] - 5s 2ms/step - loss: 0.4984 - accuracy: 0.7651 - val_loss: 0.4630 - val_accuracy: 0.7883\n",
            "Epoch 57/200\n",
            "2532/2532 [==============================] - 5s 2ms/step - loss: 0.4944 - accuracy: 0.7651 - val_loss: 0.4616 - val_accuracy: 0.7894\n",
            "Epoch 58/200\n",
            "2532/2532 [==============================] - 5s 2ms/step - loss: 0.4930 - accuracy: 0.7679 - val_loss: 0.4599 - val_accuracy: 0.7905\n",
            "Epoch 59/200\n",
            "2532/2532 [==============================] - 5s 2ms/step - loss: 0.4900 - accuracy: 0.7687 - val_loss: 0.4605 - val_accuracy: 0.7914\n",
            "Epoch 60/200\n",
            "2532/2532 [==============================] - 5s 2ms/step - loss: 0.4908 - accuracy: 0.7678 - val_loss: 0.4575 - val_accuracy: 0.7913\n",
            "Epoch 61/200\n",
            "2532/2532 [==============================] - 5s 2ms/step - loss: 0.4903 - accuracy: 0.7665 - val_loss: 0.4577 - val_accuracy: 0.7915\n",
            "Epoch 62/200\n",
            "2532/2532 [==============================] - 5s 2ms/step - loss: 0.4882 - accuracy: 0.7699 - val_loss: 0.4558 - val_accuracy: 0.7924\n",
            "Epoch 63/200\n",
            "2532/2532 [==============================] - 5s 2ms/step - loss: 0.4873 - accuracy: 0.7700 - val_loss: 0.4553 - val_accuracy: 0.7926\n",
            "Epoch 64/200\n",
            "2532/2532 [==============================] - 5s 2ms/step - loss: 0.4906 - accuracy: 0.7688 - val_loss: 0.4549 - val_accuracy: 0.7929\n",
            "Epoch 65/200\n",
            "2532/2532 [==============================] - 5s 2ms/step - loss: 0.4880 - accuracy: 0.7683 - val_loss: 0.4536 - val_accuracy: 0.7933\n",
            "Epoch 66/200\n",
            "2532/2532 [==============================] - 5s 2ms/step - loss: 0.4844 - accuracy: 0.7718 - val_loss: 0.4553 - val_accuracy: 0.7935\n",
            "Epoch 67/200\n",
            "2532/2532 [==============================] - 5s 2ms/step - loss: 0.4878 - accuracy: 0.7680 - val_loss: 0.4533 - val_accuracy: 0.7945\n",
            "Epoch 68/200\n",
            "2532/2532 [==============================] - 5s 2ms/step - loss: 0.4803 - accuracy: 0.7764 - val_loss: 0.4542 - val_accuracy: 0.7949\n",
            "Epoch 69/200\n",
            "2532/2532 [==============================] - 5s 2ms/step - loss: 0.4816 - accuracy: 0.7727 - val_loss: 0.4530 - val_accuracy: 0.7959\n",
            "Epoch 70/200\n",
            "2532/2532 [==============================] - 5s 2ms/step - loss: 0.4811 - accuracy: 0.7732 - val_loss: 0.4510 - val_accuracy: 0.7963\n",
            "Epoch 71/200\n",
            "2532/2532 [==============================] - 5s 2ms/step - loss: 0.4833 - accuracy: 0.7714 - val_loss: 0.4498 - val_accuracy: 0.7959\n",
            "Epoch 72/200\n",
            "2532/2532 [==============================] - 5s 2ms/step - loss: 0.4835 - accuracy: 0.7734 - val_loss: 0.4498 - val_accuracy: 0.7967\n",
            "Epoch 73/200\n",
            "2532/2532 [==============================] - 5s 2ms/step - loss: 0.4845 - accuracy: 0.7721 - val_loss: 0.4482 - val_accuracy: 0.7959\n",
            "Epoch 74/200\n",
            "2532/2532 [==============================] - 5s 2ms/step - loss: 0.4802 - accuracy: 0.7741 - val_loss: 0.4479 - val_accuracy: 0.7961\n",
            "Epoch 75/200\n",
            "2532/2532 [==============================] - 5s 2ms/step - loss: 0.4813 - accuracy: 0.7733 - val_loss: 0.4477 - val_accuracy: 0.7981\n",
            "Epoch 76/200\n",
            "2532/2532 [==============================] - 5s 2ms/step - loss: 0.4783 - accuracy: 0.7750 - val_loss: 0.4468 - val_accuracy: 0.7973\n",
            "Epoch 77/200\n",
            "2532/2532 [==============================] - 5s 2ms/step - loss: 0.4758 - accuracy: 0.7764 - val_loss: 0.4493 - val_accuracy: 0.7959\n",
            "Epoch 78/200\n",
            "2532/2532 [==============================] - 5s 2ms/step - loss: 0.4796 - accuracy: 0.7750 - val_loss: 0.4464 - val_accuracy: 0.7986\n",
            "Epoch 79/200\n",
            "2532/2532 [==============================] - 5s 2ms/step - loss: 0.4774 - accuracy: 0.7757 - val_loss: 0.4457 - val_accuracy: 0.7991\n",
            "Epoch 80/200\n",
            "2532/2532 [==============================] - 5s 2ms/step - loss: 0.4825 - accuracy: 0.7730 - val_loss: 0.4445 - val_accuracy: 0.7992\n",
            "Epoch 81/200\n",
            "2532/2532 [==============================] - 5s 2ms/step - loss: 0.4762 - accuracy: 0.7766 - val_loss: 0.4449 - val_accuracy: 0.7997\n",
            "Epoch 82/200\n",
            "2532/2532 [==============================] - 5s 2ms/step - loss: 0.4782 - accuracy: 0.7757 - val_loss: 0.4454 - val_accuracy: 0.8005\n",
            "Epoch 83/200\n",
            "2532/2532 [==============================] - 5s 2ms/step - loss: 0.4750 - accuracy: 0.7772 - val_loss: 0.4446 - val_accuracy: 0.7994\n",
            "Epoch 84/200\n",
            "2532/2532 [==============================] - 5s 2ms/step - loss: 0.4768 - accuracy: 0.7778 - val_loss: 0.4431 - val_accuracy: 0.8005\n",
            "Epoch 85/200\n",
            "2532/2532 [==============================] - 5s 2ms/step - loss: 0.4746 - accuracy: 0.7774 - val_loss: 0.4433 - val_accuracy: 0.7995\n",
            "Epoch 86/200\n",
            "2532/2532 [==============================] - 5s 2ms/step - loss: 0.4718 - accuracy: 0.7788 - val_loss: 0.4438 - val_accuracy: 0.8011\n",
            "Epoch 87/200\n",
            "2532/2532 [==============================] - 5s 2ms/step - loss: 0.4707 - accuracy: 0.7811 - val_loss: 0.4415 - val_accuracy: 0.8018\n",
            "Epoch 88/200\n",
            "2532/2532 [==============================] - 5s 2ms/step - loss: 0.4733 - accuracy: 0.7793 - val_loss: 0.4419 - val_accuracy: 0.8015\n",
            "Epoch 89/200\n",
            "2532/2532 [==============================] - 5s 2ms/step - loss: 0.4754 - accuracy: 0.7768 - val_loss: 0.4411 - val_accuracy: 0.8027\n",
            "Epoch 90/200\n",
            "2532/2532 [==============================] - 5s 2ms/step - loss: 0.4699 - accuracy: 0.7811 - val_loss: 0.4421 - val_accuracy: 0.8012\n",
            "Epoch 91/200\n",
            "2532/2532 [==============================] - 5s 2ms/step - loss: 0.4731 - accuracy: 0.7784 - val_loss: 0.4402 - val_accuracy: 0.8028\n",
            "Epoch 92/200\n",
            "2532/2532 [==============================] - 5s 2ms/step - loss: 0.4736 - accuracy: 0.7766 - val_loss: 0.4400 - val_accuracy: 0.8025\n",
            "Epoch 93/200\n",
            "2532/2532 [==============================] - 6s 2ms/step - loss: 0.4708 - accuracy: 0.7797 - val_loss: 0.4395 - val_accuracy: 0.8020\n",
            "Epoch 94/200\n",
            "2532/2532 [==============================] - 5s 2ms/step - loss: 0.4739 - accuracy: 0.7781 - val_loss: 0.4395 - val_accuracy: 0.8023\n",
            "Epoch 95/200\n",
            "2532/2532 [==============================] - 5s 2ms/step - loss: 0.4703 - accuracy: 0.7808 - val_loss: 0.4383 - val_accuracy: 0.8034\n",
            "Epoch 96/200\n",
            "2532/2532 [==============================] - 5s 2ms/step - loss: 0.4700 - accuracy: 0.7827 - val_loss: 0.4383 - val_accuracy: 0.8025\n",
            "Epoch 97/200\n",
            "2532/2532 [==============================] - 5s 2ms/step - loss: 0.4720 - accuracy: 0.7789 - val_loss: 0.4383 - val_accuracy: 0.8035\n",
            "Epoch 98/200\n",
            "2532/2532 [==============================] - 5s 2ms/step - loss: 0.4674 - accuracy: 0.7817 - val_loss: 0.4376 - val_accuracy: 0.8041\n",
            "Epoch 99/200\n",
            "2532/2532 [==============================] - 5s 2ms/step - loss: 0.4686 - accuracy: 0.7808 - val_loss: 0.4372 - val_accuracy: 0.8045\n",
            "Epoch 100/200\n",
            "2532/2532 [==============================] - 5s 2ms/step - loss: 0.4643 - accuracy: 0.7825 - val_loss: 0.4371 - val_accuracy: 0.8038\n",
            "Epoch 101/200\n",
            "2532/2532 [==============================] - 5s 2ms/step - loss: 0.4691 - accuracy: 0.7811 - val_loss: 0.4364 - val_accuracy: 0.8040\n",
            "Epoch 102/200\n",
            "2532/2532 [==============================] - 5s 2ms/step - loss: 0.4682 - accuracy: 0.7832 - val_loss: 0.4365 - val_accuracy: 0.8030\n",
            "Epoch 103/200\n",
            "2532/2532 [==============================] - 5s 2ms/step - loss: 0.4709 - accuracy: 0.7800 - val_loss: 0.4364 - val_accuracy: 0.8047\n",
            "Epoch 104/200\n",
            "2532/2532 [==============================] - 5s 2ms/step - loss: 0.4671 - accuracy: 0.7832 - val_loss: 0.4359 - val_accuracy: 0.8055\n",
            "Epoch 105/200\n",
            "2532/2532 [==============================] - 5s 2ms/step - loss: 0.4652 - accuracy: 0.7829 - val_loss: 0.4352 - val_accuracy: 0.8050\n",
            "Epoch 106/200\n",
            "2532/2532 [==============================] - 5s 2ms/step - loss: 0.4652 - accuracy: 0.7828 - val_loss: 0.4352 - val_accuracy: 0.8050\n",
            "Epoch 107/200\n",
            "2532/2532 [==============================] - 5s 2ms/step - loss: 0.4682 - accuracy: 0.7819 - val_loss: 0.4348 - val_accuracy: 0.8052\n",
            "Epoch 108/200\n",
            "2532/2532 [==============================] - 5s 2ms/step - loss: 0.4666 - accuracy: 0.7823 - val_loss: 0.4360 - val_accuracy: 0.8043\n",
            "Epoch 109/200\n",
            "2532/2532 [==============================] - 5s 2ms/step - loss: 0.4684 - accuracy: 0.7822 - val_loss: 0.4344 - val_accuracy: 0.8055\n",
            "Epoch 110/200\n",
            "2532/2532 [==============================] - 5s 2ms/step - loss: 0.4639 - accuracy: 0.7825 - val_loss: 0.4351 - val_accuracy: 0.8052\n",
            "Epoch 111/200\n",
            "2532/2532 [==============================] - 5s 2ms/step - loss: 0.4667 - accuracy: 0.7824 - val_loss: 0.4330 - val_accuracy: 0.8059\n",
            "Epoch 112/200\n",
            "2532/2532 [==============================] - 5s 2ms/step - loss: 0.4640 - accuracy: 0.7850 - val_loss: 0.4337 - val_accuracy: 0.8065\n",
            "Epoch 113/200\n",
            "2532/2532 [==============================] - 5s 2ms/step - loss: 0.4613 - accuracy: 0.7855 - val_loss: 0.4339 - val_accuracy: 0.8054\n",
            "Epoch 114/200\n",
            "2532/2532 [==============================] - 5s 2ms/step - loss: 0.4615 - accuracy: 0.7866 - val_loss: 0.4329 - val_accuracy: 0.8061\n",
            "Epoch 115/200\n",
            "2532/2532 [==============================] - 5s 2ms/step - loss: 0.4648 - accuracy: 0.7847 - val_loss: 0.4321 - val_accuracy: 0.8065\n",
            "Epoch 116/200\n",
            "2532/2532 [==============================] - 5s 2ms/step - loss: 0.4637 - accuracy: 0.7841 - val_loss: 0.4330 - val_accuracy: 0.8071\n",
            "Epoch 117/200\n",
            "2532/2532 [==============================] - 5s 2ms/step - loss: 0.4594 - accuracy: 0.7863 - val_loss: 0.4313 - val_accuracy: 0.8067\n",
            "Epoch 118/200\n",
            "2532/2532 [==============================] - 5s 2ms/step - loss: 0.4616 - accuracy: 0.7872 - val_loss: 0.4307 - val_accuracy: 0.8072\n",
            "Epoch 119/200\n",
            "2532/2532 [==============================] - 5s 2ms/step - loss: 0.4624 - accuracy: 0.7843 - val_loss: 0.4311 - val_accuracy: 0.8073\n",
            "Epoch 120/200\n",
            "2532/2532 [==============================] - 5s 2ms/step - loss: 0.4635 - accuracy: 0.7844 - val_loss: 0.4305 - val_accuracy: 0.8071\n",
            "Epoch 121/200\n",
            "2532/2532 [==============================] - 5s 2ms/step - loss: 0.4626 - accuracy: 0.7847 - val_loss: 0.4305 - val_accuracy: 0.8075\n",
            "Epoch 122/200\n",
            "2532/2532 [==============================] - 5s 2ms/step - loss: 0.4617 - accuracy: 0.7872 - val_loss: 0.4301 - val_accuracy: 0.8074\n",
            "Epoch 123/200\n",
            "2532/2532 [==============================] - 5s 2ms/step - loss: 0.4600 - accuracy: 0.7873 - val_loss: 0.4297 - val_accuracy: 0.8079\n",
            "Epoch 124/200\n",
            "2532/2532 [==============================] - 5s 2ms/step - loss: 0.4633 - accuracy: 0.7851 - val_loss: 0.4298 - val_accuracy: 0.8085\n",
            "Epoch 125/200\n",
            "2532/2532 [==============================] - 5s 2ms/step - loss: 0.4602 - accuracy: 0.7878 - val_loss: 0.4293 - val_accuracy: 0.8081\n",
            "Epoch 126/200\n",
            "2532/2532 [==============================] - 5s 2ms/step - loss: 0.4642 - accuracy: 0.7847 - val_loss: 0.4302 - val_accuracy: 0.8076\n",
            "Epoch 127/200\n",
            "2532/2532 [==============================] - 5s 2ms/step - loss: 0.4629 - accuracy: 0.7844 - val_loss: 0.4293 - val_accuracy: 0.8087\n",
            "Epoch 128/200\n",
            "2532/2532 [==============================] - 5s 2ms/step - loss: 0.4582 - accuracy: 0.7880 - val_loss: 0.4299 - val_accuracy: 0.8087\n",
            "Epoch 129/200\n",
            "2532/2532 [==============================] - 5s 2ms/step - loss: 0.4601 - accuracy: 0.7866 - val_loss: 0.4294 - val_accuracy: 0.8089\n",
            "Epoch 130/200\n",
            "2532/2532 [==============================] - 5s 2ms/step - loss: 0.4579 - accuracy: 0.7882 - val_loss: 0.4290 - val_accuracy: 0.8096\n",
            "Epoch 131/200\n",
            "2532/2532 [==============================] - 5s 2ms/step - loss: 0.4581 - accuracy: 0.7880 - val_loss: 0.4295 - val_accuracy: 0.8096\n",
            "Epoch 132/200\n",
            "2532/2532 [==============================] - 5s 2ms/step - loss: 0.4593 - accuracy: 0.7884 - val_loss: 0.4288 - val_accuracy: 0.8098\n",
            "Epoch 133/200\n",
            "2532/2532 [==============================] - 5s 2ms/step - loss: 0.4608 - accuracy: 0.7880 - val_loss: 0.4284 - val_accuracy: 0.8092\n",
            "Epoch 134/200\n",
            "2532/2532 [==============================] - 5s 2ms/step - loss: 0.4574 - accuracy: 0.7885 - val_loss: 0.4274 - val_accuracy: 0.8096\n",
            "Epoch 135/200\n",
            "2532/2532 [==============================] - 5s 2ms/step - loss: 0.4583 - accuracy: 0.7903 - val_loss: 0.4266 - val_accuracy: 0.8106\n",
            "Epoch 136/200\n",
            "2532/2532 [==============================] - 5s 2ms/step - loss: 0.4570 - accuracy: 0.7896 - val_loss: 0.4279 - val_accuracy: 0.8092\n",
            "Epoch 137/200\n",
            "2532/2532 [==============================] - 5s 2ms/step - loss: 0.4570 - accuracy: 0.7902 - val_loss: 0.4276 - val_accuracy: 0.8109\n",
            "Epoch 138/200\n",
            "2532/2532 [==============================] - 5s 2ms/step - loss: 0.4619 - accuracy: 0.7873 - val_loss: 0.4267 - val_accuracy: 0.8105\n",
            "Epoch 139/200\n",
            "2532/2532 [==============================] - 5s 2ms/step - loss: 0.4595 - accuracy: 0.7867 - val_loss: 0.4265 - val_accuracy: 0.8116\n",
            "Epoch 140/200\n",
            "2532/2532 [==============================] - 5s 2ms/step - loss: 0.4578 - accuracy: 0.7884 - val_loss: 0.4259 - val_accuracy: 0.8112\n",
            "Epoch 141/200\n",
            "2532/2532 [==============================] - 5s 2ms/step - loss: 0.4581 - accuracy: 0.7877 - val_loss: 0.4265 - val_accuracy: 0.8123\n",
            "Epoch 142/200\n",
            "2532/2532 [==============================] - 5s 2ms/step - loss: 0.4554 - accuracy: 0.7911 - val_loss: 0.4259 - val_accuracy: 0.8113\n",
            "Epoch 143/200\n",
            "2532/2532 [==============================] - 5s 2ms/step - loss: 0.4561 - accuracy: 0.7902 - val_loss: 0.4255 - val_accuracy: 0.8116\n",
            "Epoch 144/200\n",
            "2532/2532 [==============================] - 5s 2ms/step - loss: 0.4563 - accuracy: 0.7909 - val_loss: 0.4253 - val_accuracy: 0.8121\n",
            "Epoch 145/200\n",
            "2532/2532 [==============================] - 5s 2ms/step - loss: 0.4567 - accuracy: 0.7916 - val_loss: 0.4264 - val_accuracy: 0.8107\n",
            "Epoch 146/200\n",
            "2532/2532 [==============================] - 5s 2ms/step - loss: 0.4550 - accuracy: 0.7914 - val_loss: 0.4257 - val_accuracy: 0.8122\n",
            "Epoch 147/200\n",
            "2532/2532 [==============================] - 5s 2ms/step - loss: 0.4595 - accuracy: 0.7890 - val_loss: 0.4259 - val_accuracy: 0.8092\n",
            "Epoch 148/200\n",
            "2532/2532 [==============================] - 5s 2ms/step - loss: 0.4540 - accuracy: 0.7911 - val_loss: 0.4250 - val_accuracy: 0.8119\n",
            "Epoch 149/200\n",
            "2532/2532 [==============================] - 5s 2ms/step - loss: 0.4559 - accuracy: 0.7898 - val_loss: 0.4243 - val_accuracy: 0.8122\n",
            "Epoch 150/200\n",
            "2532/2532 [==============================] - 5s 2ms/step - loss: 0.4551 - accuracy: 0.7905 - val_loss: 0.4246 - val_accuracy: 0.8126\n",
            "Epoch 151/200\n",
            "2532/2532 [==============================] - 5s 2ms/step - loss: 0.4540 - accuracy: 0.7924 - val_loss: 0.4243 - val_accuracy: 0.8128\n",
            "Epoch 152/200\n",
            "2532/2532 [==============================] - 5s 2ms/step - loss: 0.4519 - accuracy: 0.7938 - val_loss: 0.4243 - val_accuracy: 0.8133\n",
            "Epoch 153/200\n",
            "2532/2532 [==============================] - 5s 2ms/step - loss: 0.4578 - accuracy: 0.7899 - val_loss: 0.4256 - val_accuracy: 0.8120\n",
            "Epoch 154/200\n",
            "2532/2532 [==============================] - 5s 2ms/step - loss: 0.4547 - accuracy: 0.7921 - val_loss: 0.4237 - val_accuracy: 0.8130\n",
            "Epoch 155/200\n",
            "2532/2532 [==============================] - 5s 2ms/step - loss: 0.4517 - accuracy: 0.7933 - val_loss: 0.4251 - val_accuracy: 0.8118\n",
            "Epoch 156/200\n",
            "2532/2532 [==============================] - 5s 2ms/step - loss: 0.4528 - accuracy: 0.7924 - val_loss: 0.4234 - val_accuracy: 0.8123\n",
            "Epoch 157/200\n",
            "2532/2532 [==============================] - 5s 2ms/step - loss: 0.4538 - accuracy: 0.7919 - val_loss: 0.4233 - val_accuracy: 0.8135\n",
            "Epoch 158/200\n",
            "2532/2532 [==============================] - 5s 2ms/step - loss: 0.4514 - accuracy: 0.7929 - val_loss: 0.4233 - val_accuracy: 0.8139\n",
            "Epoch 159/200\n",
            "2532/2532 [==============================] - 5s 2ms/step - loss: 0.4519 - accuracy: 0.7912 - val_loss: 0.4228 - val_accuracy: 0.8140\n",
            "Epoch 160/200\n",
            "2532/2532 [==============================] - 5s 2ms/step - loss: 0.4534 - accuracy: 0.7927 - val_loss: 0.4224 - val_accuracy: 0.8138\n",
            "Epoch 161/200\n",
            "2532/2532 [==============================] - 5s 2ms/step - loss: 0.4494 - accuracy: 0.7941 - val_loss: 0.4235 - val_accuracy: 0.8135\n",
            "Epoch 162/200\n",
            "2532/2532 [==============================] - 5s 2ms/step - loss: 0.4505 - accuracy: 0.7944 - val_loss: 0.4226 - val_accuracy: 0.8142\n",
            "Epoch 163/200\n",
            "2532/2532 [==============================] - 5s 2ms/step - loss: 0.4520 - accuracy: 0.7908 - val_loss: 0.4228 - val_accuracy: 0.8142\n",
            "Epoch 164/200\n",
            "2532/2532 [==============================] - 5s 2ms/step - loss: 0.4482 - accuracy: 0.7957 - val_loss: 0.4229 - val_accuracy: 0.8137\n",
            "Epoch 165/200\n",
            "2532/2532 [==============================] - 5s 2ms/step - loss: 0.4495 - accuracy: 0.7916 - val_loss: 0.4221 - val_accuracy: 0.8140\n",
            "Epoch 166/200\n",
            "2532/2532 [==============================] - 5s 2ms/step - loss: 0.4515 - accuracy: 0.7928 - val_loss: 0.4224 - val_accuracy: 0.8149\n",
            "Epoch 167/200\n",
            "2532/2532 [==============================] - 5s 2ms/step - loss: 0.4525 - accuracy: 0.7927 - val_loss: 0.4223 - val_accuracy: 0.8146\n",
            "Epoch 168/200\n",
            "2532/2532 [==============================] - 5s 2ms/step - loss: 0.4491 - accuracy: 0.7952 - val_loss: 0.4237 - val_accuracy: 0.8143\n",
            "Epoch 169/200\n",
            "2532/2532 [==============================] - 5s 2ms/step - loss: 0.4483 - accuracy: 0.7936 - val_loss: 0.4228 - val_accuracy: 0.8144\n",
            "Epoch 170/200\n",
            "2532/2532 [==============================] - 5s 2ms/step - loss: 0.4505 - accuracy: 0.7945 - val_loss: 0.4228 - val_accuracy: 0.8145\n",
            "Epoch 171/200\n",
            "2532/2532 [==============================] - 5s 2ms/step - loss: 0.4544 - accuracy: 0.7901 - val_loss: 0.4227 - val_accuracy: 0.8136\n",
            "Epoch 172/200\n",
            "2532/2532 [==============================] - 5s 2ms/step - loss: 0.4462 - accuracy: 0.7969 - val_loss: 0.4220 - val_accuracy: 0.8144\n",
            "Epoch 173/200\n",
            "2532/2532 [==============================] - 5s 2ms/step - loss: 0.4519 - accuracy: 0.7923 - val_loss: 0.4213 - val_accuracy: 0.8153\n",
            "Epoch 174/200\n",
            "2532/2532 [==============================] - 5s 2ms/step - loss: 0.4469 - accuracy: 0.7963 - val_loss: 0.4228 - val_accuracy: 0.8135\n",
            "Epoch 175/200\n",
            "2532/2532 [==============================] - 5s 2ms/step - loss: 0.4511 - accuracy: 0.7918 - val_loss: 0.4218 - val_accuracy: 0.8152\n",
            "Epoch 176/200\n",
            "2532/2532 [==============================] - 5s 2ms/step - loss: 0.4507 - accuracy: 0.7921 - val_loss: 0.4221 - val_accuracy: 0.8155\n",
            "Epoch 177/200\n",
            "2532/2532 [==============================] - 5s 2ms/step - loss: 0.4529 - accuracy: 0.7941 - val_loss: 0.4214 - val_accuracy: 0.8148\n",
            "Epoch 178/200\n",
            "2532/2532 [==============================] - 5s 2ms/step - loss: 0.4497 - accuracy: 0.7935 - val_loss: 0.4220 - val_accuracy: 0.8150\n",
            "Epoch 179/200\n",
            "2532/2532 [==============================] - 5s 2ms/step - loss: 0.4498 - accuracy: 0.7940 - val_loss: 0.4213 - val_accuracy: 0.8137\n",
            "Epoch 180/200\n",
            "2532/2532 [==============================] - 5s 2ms/step - loss: 0.4445 - accuracy: 0.7979 - val_loss: 0.4208 - val_accuracy: 0.8157\n",
            "Epoch 181/200\n",
            "2532/2532 [==============================] - 5s 2ms/step - loss: 0.4481 - accuracy: 0.7953 - val_loss: 0.4226 - val_accuracy: 0.8148\n",
            "Epoch 182/200\n",
            "2532/2532 [==============================] - 5s 2ms/step - loss: 0.4501 - accuracy: 0.7939 - val_loss: 0.4204 - val_accuracy: 0.8153\n",
            "Epoch 183/200\n",
            "2532/2532 [==============================] - 5s 2ms/step - loss: 0.4532 - accuracy: 0.7929 - val_loss: 0.4204 - val_accuracy: 0.8146\n",
            "Epoch 184/200\n",
            "2532/2532 [==============================] - 5s 2ms/step - loss: 0.4500 - accuracy: 0.7936 - val_loss: 0.4207 - val_accuracy: 0.8158\n",
            "Epoch 185/200\n",
            "2532/2532 [==============================] - 5s 2ms/step - loss: 0.4489 - accuracy: 0.7938 - val_loss: 0.4203 - val_accuracy: 0.8142\n",
            "Epoch 186/200\n",
            "2532/2532 [==============================] - 5s 2ms/step - loss: 0.4497 - accuracy: 0.7935 - val_loss: 0.4202 - val_accuracy: 0.8159\n",
            "Epoch 187/200\n",
            "2532/2532 [==============================] - 5s 2ms/step - loss: 0.4487 - accuracy: 0.7943 - val_loss: 0.4197 - val_accuracy: 0.8150\n",
            "Epoch 188/200\n",
            "2532/2532 [==============================] - 5s 2ms/step - loss: 0.4452 - accuracy: 0.7956 - val_loss: 0.4197 - val_accuracy: 0.8158\n",
            "Epoch 189/200\n",
            "2532/2532 [==============================] - 5s 2ms/step - loss: 0.4504 - accuracy: 0.7950 - val_loss: 0.4204 - val_accuracy: 0.8154\n",
            "Epoch 190/200\n",
            "2532/2532 [==============================] - 5s 2ms/step - loss: 0.4496 - accuracy: 0.7952 - val_loss: 0.4191 - val_accuracy: 0.8148\n",
            "Epoch 191/200\n",
            "2532/2532 [==============================] - 5s 2ms/step - loss: 0.4475 - accuracy: 0.7957 - val_loss: 0.4203 - val_accuracy: 0.8162\n",
            "Epoch 192/200\n",
            "2532/2532 [==============================] - 5s 2ms/step - loss: 0.4462 - accuracy: 0.7989 - val_loss: 0.4198 - val_accuracy: 0.8159\n",
            "Epoch 193/200\n",
            "2532/2532 [==============================] - 5s 2ms/step - loss: 0.4439 - accuracy: 0.7978 - val_loss: 0.4215 - val_accuracy: 0.8158\n",
            "Epoch 194/200\n",
            "2532/2532 [==============================] - 5s 2ms/step - loss: 0.4503 - accuracy: 0.7924 - val_loss: 0.4205 - val_accuracy: 0.8159\n",
            "Epoch 195/200\n",
            "2532/2532 [==============================] - 5s 2ms/step - loss: 0.4464 - accuracy: 0.7976 - val_loss: 0.4192 - val_accuracy: 0.8151\n",
            "Epoch 196/200\n",
            "2532/2532 [==============================] - 5s 2ms/step - loss: 0.4395 - accuracy: 0.7992 - val_loss: 0.4192 - val_accuracy: 0.8146\n",
            "Epoch 197/200\n",
            "2532/2532 [==============================] - 5s 2ms/step - loss: 0.4484 - accuracy: 0.7968 - val_loss: 0.4188 - val_accuracy: 0.8152\n",
            "Epoch 198/200\n",
            "2532/2532 [==============================] - 5s 2ms/step - loss: 0.4444 - accuracy: 0.7981 - val_loss: 0.4194 - val_accuracy: 0.8152\n",
            "Epoch 199/200\n",
            "2532/2532 [==============================] - 5s 2ms/step - loss: 0.4434 - accuracy: 0.7997 - val_loss: 0.4198 - val_accuracy: 0.8167\n",
            "Epoch 200/200\n",
            "2532/2532 [==============================] - 5s 2ms/step - loss: 0.4442 - accuracy: 0.7979 - val_loss: 0.4195 - val_accuracy: 0.8166\n",
            "Fold 1, 200 epochs, 979 sec\n"
          ],
          "name": "stdout"
        },
        {
          "output_type": "display_data",
          "data": {
            "image/png": "[encoded data removed]",
            "text/plain": [
              "<Figure size 576x360 with 1 Axes>"
            ]
          },
          "metadata": {
            "tags": [],
            "needs_background": "light"
          }
        }
      ]
    },
    {
      "cell_type": "markdown",
      "metadata": {
        "id": "Li3-YuuU8-gs"
      },
      "source": [
        "## Show Results of MLP"
      ]
    },
    {
      "cell_type": "code",
      "metadata": {
        "id": "s3HL6lwW9A8j"
      },
      "source": [
        "def show_test_AUC(model, title, X, y):\n",
        "    \"\"\"\n",
        "    From Miller's MLP_GenCode_1??.\n",
        "    \"\"\"\n",
        "    ns_probs = [0 for _ in range(len(y))]\n",
        "    bm_probs = model.predict(X)\n",
        "    ns_auc = roc_auc_score(y, ns_probs)\n",
        "    bm_auc = roc_auc_score(y, bm_probs)\n",
        "    ns_fpr, ns_tpr, _ = roc_curve(y, ns_probs)\n",
        "    bm_fpr, bm_tpr, _ = roc_curve(y, bm_probs)\n",
        "    plt.plot(ns_fpr, ns_tpr, linestyle='--', label='Guess, auc=%.4f'%ns_auc)\n",
        "    plt.plot(bm_fpr, bm_tpr, marker='.', label='Model, auc=%.4f'%bm_auc)\n",
        "    plt.title(title + ' ROC')\n",
        "    plt.xlabel('False Positive Rate')\n",
        "    plt.ylabel('True Positive Rate')\n",
        "    plt.legend()\n",
        "    plt.show()\n",
        "    print(\"%s: %.2f%%\" %('AUC',bm_auc*100.0))\n",
        "    \n",
        "def show_test_accuracy(model,X,y):\n",
        "    \"\"\"\n",
        "    From Miller's MLP_GenCode_1??.\n",
        "    \"\"\"\n",
        "    scores = model.evaluate(X, y, verbose=0)\n",
        "    print(\"%s: %.2f%%\" % (model.metrics_names[1], scores[1]*100))"
      ],
      "execution_count": null,
      "outputs": []
    },
    {
      "cell_type": "code",
      "metadata": {
        "colab": {
          "base_uri": "https://localhost:8080/",
          "height": 405
        },
        "id": "EeWFq22L9N6G",
        "outputId": "9511fa41-70e9-42d6-e2b7-292291d45131"
      },
      "source": [
        "print(\"Accuracy on training data.\")\n",
        "print(\"Prepare...\")\n",
        "X, y = prepare_x_and_y(pc_train, nc_train)\n",
        "print(\"Extract K-mer features...\")\n",
        "X = seqs_to_kmer_freqs(X, MAX_K)\n",
        "print(\"Plot...\")\n",
        "show_test_AUC(last_model, 'Train', X, y)\n",
        "show_test_accuracy(last_model, X, y)"
      ],
      "execution_count": null,
      "outputs": [
        {
          "output_type": "stream",
          "text": [
            "Accuracy on training data.\n",
            "Prepare...\n",
            "Extract K-mer features...\n",
            "Plot...\n"
          ],
          "name": "stdout"
        },
        {
          "output_type": "display_data",
          "data": {
            "image/png": "[encoded data removed]",
            "text/plain": [
              "<Figure size 432x288 with 1 Axes>"
            ]
          },
          "metadata": {
            "tags": [],
            "needs_background": "light"
          }
        },
        {
          "output_type": "stream",
          "text": [
            "AUC: 88.85%\n",
            "accuracy: 81.21%\n"
          ],
          "name": "stdout"
        }
      ]
    },
    {
      "cell_type": "code",
      "metadata": {
        "colab": {
          "base_uri": "https://localhost:8080/",
          "height": 405
        },
        "id": "LQY5Hze-9hl9",
        "outputId": "04100749-0176-42b0-b41d-76c1f6e8c3c2"
      },
      "source": [
        "print(\"Accuracy on test data.\")\n",
        "print(\"Prepare...\")\n",
        "X, y = prepare_x_and_y(pc_test, nc_test)\n",
        "print(\"Extract K-mer features...\")\n",
        "X = seqs_to_kmer_freqs(X, MAX_K)\n",
        "print(\"Plot...\")\n",
        "show_test_AUC(last_model, 'Test', X, y)\n",
        "show_test_accuracy(last_model, X, y)"
      ],
      "execution_count": null,
      "outputs": [
        {
          "output_type": "stream",
          "text": [
            "Accuracy on test data.\n",
            "Prepare...\n",
            "Extract K-mer features...\n",
            "Plot...\n"
          ],
          "name": "stdout"
        },
        {
          "output_type": "display_data",
          "data": {
            "image/png": "[encoded data removed]",
            "text/plain": [
              "<Figure size 432x288 with 1 Axes>"
            ]
          },
          "metadata": {
            "tags": [],
            "needs_background": "light"
          }
        },
        {
          "output_type": "stream",
          "text": [
            "AUC: 89.91%\n",
            "accuracy: 82.81%\n"
          ],
          "name": "stdout"
        }
      ]
    }
  ]
}