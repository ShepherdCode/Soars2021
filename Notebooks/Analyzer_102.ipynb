{
  "nbformat": 4,
  "nbformat_minor": 0,
  "metadata": {
    "colab": {
      "name": "Analyzer_102.ipynb",
      "provenance": [],
      "collapsed_sections": []
    },
    "kernelspec": {
      "display_name": "Python 3",
      "language": "python",
      "name": "python3"
    },
    "language_info": {
      "codemirror_mode": {
        "name": "ipython",
        "version": 3
      },
      "file_extension": ".py",
      "mimetype": "text/x-python",
      "name": "python",
      "nbconvert_exporter": "python",
      "pygments_lexer": "ipython3",
      "version": "3.8.3"
    }
  },
  "cells": [
    {
      "cell_type": "markdown",
      "metadata": {
        "id": "QxjDXgzOuzm9"
      },
      "source": [
        "# Analyzer\n",
        "\n",
        "Statistically, visually, and through machine learning compare mRNA and lncRNA sequences from GENCODE v38.\n",
        "\n",
        "Assume the user downloaded files from GENCODE v38 [FTP](http://ftp.ebi.ac.uk/pub/databases/gencode/Gencode_human/release_38/)\n",
        "to a subdirectory called data."
      ]
    },
    {
      "cell_type": "markdown",
      "metadata": {
        "id": "CWH1hul6uKub"
      },
      "source": [
        "## Import Dependencies\n"
      ]
    },
    {
      "cell_type": "code",
      "metadata": {
        "colab": {
          "base_uri": "https://localhost:8080/"
        },
        "id": "cMB8T39CuJ2Y",
        "outputId": "a485e4d6-7193-4b25-d710-792ba118a6a4"
      },
      "source": [
        "import numpy as np\n",
        "import matplotlib.pyplot as plt\n",
        "import random\n",
        "import pandas as pd\n",
        "import gzip\n",
        "from scipy.stats import chisquare, kstest\n",
        "import sys\n",
        "\n",
        "from sklearn.utils import shuffle\n",
        "from sklearn.model_selection import KFold\n",
        "from sklearn.model_selection import cross_val_score\n",
        "from sklearn.metrics import roc_curve\n",
        "from sklearn.metrics import roc_auc_score\n",
        "from keras.models import Sequential\n",
        "from keras.layers import Dense,Embedding,Dropout\n",
        "from keras.layers import Flatten,TimeDistributed\n",
        "from keras.losses import BinaryCrossentropy\n",
        "from keras.callbacks import ModelCheckpoint\n",
        "from keras.models import load_model\n",
        "\n",
        "try:\n",
        "    from google.colab import drive\n",
        "    IN_COLAB = True\n",
        "    print(\"On Google CoLab, mount cloud-local file, get our code from GitHub.\")\n",
        "    PATH='/content/drive/'\n",
        "    #drive.mount(PATH,force_remount=True)  # hardly ever need this\n",
        "    drive.mount(PATH)    # Google will require login credentials\n",
        "    DATAPATH=PATH+'My Drive/data/'  # must end in \"/\"\n",
        "    import requests\n",
        "    s = requests.get('https://raw.githubusercontent.com/ShepherdCode/Soars2021/master/SimTools/RNA_describe.py')\n",
        "    with open('RNA_describe.py', 'w') as f:\n",
        "      f.write(s.text)  # writes to cloud local, delete the file later?\n",
        "    s = requests.get('https://raw.githubusercontent.com/ShepherdCode/Soars2021/master/SimTools/GenCodeTools.py')\n",
        "    with open ('GenCodeTools.py', 'w') as f:\n",
        "      f.write(s.text)\n",
        "    s = requests.get('https://raw.githubusercontent.com/ShepherdCode/Soars2021/master/SimTools/plot_generator.py')\n",
        "    with open('plot_generator.py', 'w') as f:\n",
        "      f.write(s.text)\n",
        "    s = requests.get('https://raw.githubusercontent.com/ShepherdCode/Soars2021/master/SimTools/KmerTools.py')\n",
        "    with open('KmerTools.py', 'w') as f:\n",
        "      f.write(s.text)  \n",
        "    from KmerTools import KmerTools\n",
        "    from RNA_describe import *\n",
        "    from GenCodeTools import *\n",
        "    from plot_generator import *\n",
        "except:\n",
        "    print(\"CoLab not working. On my PC, use relative paths.\")\n",
        "    IN_COLAB = False\n",
        "    DATAPATH='../data/'  # must end in \"/\"\n",
        "    sys.path.append(\"..\") # append parent dir in order to use sibling dirs\n",
        "    from SimTools.RNA_describe import *\n",
        "    from SimTools.GenCodeTools import *\n",
        "    from SimTools.plot_generator import *\n",
        "    from SimTools.KmerTools import KmerTools\n",
        "\n",
        "MODELPATH=\"BestModel\"  # saved on cloud instance and lost after logout\n",
        "#MODELPATH=DATAPATH+MODELPATH  # saved on Google Drive but requires login\n",
        "\n",
        "if not assert_imported_RNA_describe():\n",
        "    print(\"ERROR: Cannot use RNA_describe.\")"
      ],
      "execution_count": 2,
      "outputs": [
        {
          "output_type": "stream",
          "text": [
            "On Google CoLab, mount cloud-local file, get our code from GitHub.\n",
            "Mounted at /content/drive/\n"
          ],
          "name": "stdout"
        }
      ]
    },
    {
      "cell_type": "markdown",
      "metadata": {
        "id": "T8RNNlZGsZN5"
      },
      "source": [
        "## Load GENCODE Data\n",
        "Loads GENCODE v38 data.\n",
        "\n",
        "Filters out mRNA sequences based on UTR check."
      ]
    },
    {
      "cell_type": "code",
      "metadata": {
        "colab": {
          "base_uri": "https://localhost:8080/"
        },
        "id": "37JnfHgWt_-U",
        "outputId": "d4500931-b1d3-4fd6-d797-5c271b3dd97b"
      },
      "source": [
        "PC_FILENAME='gencode.v38.pc_transcripts.fa.gz'\n",
        "NC_FILENAME='gencode.v38.lncRNA_transcripts.fa.gz'\n",
        "PC_FULLPATH=DATAPATH+PC_FILENAME\n",
        "NC_FULLPATH=DATAPATH+NC_FILENAME\n",
        "loader=GenCodeLoader()\n",
        "loader.set_label(1)\n",
        "loader.set_check_list(None) \n",
        "loader.set_check_utr(True)\n",
        "pcdf=loader.load_file(PC_FULLPATH)\n",
        "print(\"PC seqs loaded:\",len(pcdf))\n",
        "loader.set_label(0)\n",
        "loader.set_check_list(None)\n",
        "loader.set_check_utr(False)\n",
        "ncdf=loader.load_file(NC_FULLPATH)\n",
        "print(\"NC seqs loaded:\",len(ncdf))"
      ],
      "execution_count": 3,
      "outputs": [
        {
          "output_type": "stream",
          "text": [
            "PC seqs loaded: 70825\n",
            "NC seqs loaded: 48752\n"
          ],
          "name": "stdout"
        }
      ]
    },
    {
      "cell_type": "markdown",
      "metadata": {
        "id": "J0y1XAPLvr_G"
      },
      "source": [
        "## Process Sequences\n"
      ]
    },
    {
      "cell_type": "markdown",
      "metadata": {
        "id": "si3kGF7kTZ3M"
      },
      "source": [
        "Generate Sample of GENCODE Data Set\n",
        "\n",
        "Apply Length Constraints\n",
        "\n",
        "Validate Sequences"
      ]
    },
    {
      "cell_type": "code",
      "metadata": {
        "id": "6V7WMCLN3l1q"
      },
      "source": [
        "APPLY_SUBSET = True             #Option to subset the data\n",
        "MINIMUM_SEQUENCE_LENGTH = 200   #Minimum exclusive length to filter out sequences by\n",
        "MAXIMUM_SEQUENCE_LENGTH = 4000  #Maximum inclusive length to filter out sequences by\n",
        "SAMPLE_FRACTION = 1             #What fraction of the GenCode data set to take a sample of\n",
        "REPRODUCABILITY_SEED = 314159   #Use to reproduce random sampling"
      ],
      "execution_count": 4,
      "outputs": []
    },
    {
      "cell_type": "code",
      "metadata": {
        "colab": {
          "base_uri": "https://localhost:8080/"
        },
        "id": "ANtZknso53FT",
        "outputId": "784f38f4-774d-47b3-d300-a6d51ef442c2"
      },
      "source": [
        "if APPLY_SUBSET:\n",
        "    pcdf = pcdf.sample(frac=SAMPLE_FRACTION, random_state=REPRODUCABILITY_SEED)\n",
        "    ncdf = ncdf.sample(frac=SAMPLE_FRACTION, random_state=REPRODUCABILITY_SEED)\n",
        "\n",
        "    print('PC sample size:', len(pcdf))\n",
        "    print('NC sample size:', len(ncdf))"
      ],
      "execution_count": 5,
      "outputs": [
        {
          "output_type": "stream",
          "text": [
            "PC sample size: 70825\n",
            "NC sample size: 48752\n"
          ],
          "name": "stdout"
        }
      ]
    },
    {
      "cell_type": "markdown",
      "metadata": {
        "id": "xe5boK2NTWH1"
      },
      "source": [
        "Apply Length Constraints"
      ]
    },
    {
      "cell_type": "code",
      "metadata": {
        "id": "7ga4K3Aw4sJd"
      },
      "source": [
        "def subset_list_by_len_bounds(input_list, min_len, max_len):\n",
        "  return list(filter(lambda x: len(x) > min_len and len(x) <= max_len, input_list))"
      ],
      "execution_count": 6,
      "outputs": []
    },
    {
      "cell_type": "code",
      "metadata": {
        "colab": {
          "base_uri": "https://localhost:8080/"
        },
        "id": "D7pejW0g1lnR",
        "outputId": "9f3d8ce0-29c7-4f4f-9c0c-0ac1b40037ef"
      },
      "source": [
        "pc_sequences = pcdf['sequence'].tolist()\n",
        "nc_sequences = ncdf['sequence'].tolist()\n",
        "\n",
        "if APPLY_SUBSET:\n",
        "    pc_sequences = subset_list_by_len_bounds(pc_sequences, MINIMUM_SEQUENCE_LENGTH, MAXIMUM_SEQUENCE_LENGTH)\n",
        "    nc_sequences = subset_list_by_len_bounds(nc_sequences, MINIMUM_SEQUENCE_LENGTH, MAXIMUM_SEQUENCE_LENGTH)\n",
        "\n",
        "    print('PC seqs in length range','('+str(MINIMUM_SEQUENCE_LENGTH),'-',str(MAXIMUM_SEQUENCE_LENGTH)+'):', len(pc_sequences))\n",
        "    print('NC seqs in length range','('+str(MINIMUM_SEQUENCE_LENGTH),'-',str(MAXIMUM_SEQUENCE_LENGTH)+'):', len(nc_sequences))\n",
        "\n",
        "#Garbage collection\n",
        "pcdf = None\n",
        "ncdf = None"
      ],
      "execution_count": 7,
      "outputs": [
        {
          "output_type": "stream",
          "text": [
            "PC seqs in length range (200 - 4000): 55381\n",
            "NC seqs in length range (200 - 4000): 46912\n"
          ],
          "name": "stdout"
        }
      ]
    },
    {
      "cell_type": "markdown",
      "metadata": {
        "id": "BlFZ2BHDS_kJ"
      },
      "source": [
        "Validate Sequences"
      ]
    },
    {
      "cell_type": "code",
      "metadata": {
        "colab": {
          "base_uri": "https://localhost:8080/"
        },
        "id": "FYBUZyfxSRZs",
        "outputId": "e87adccd-414b-4d18-986a-c032a4ddf5e2"
      },
      "source": [
        "def valid_sequence(seq):\n",
        "    \"\"\"\n",
        "    Checks if the given sequences if valid.\n",
        "    \"\"\"\n",
        "    for chr in seq:\n",
        "        if not (chr == 'A' or chr == 'C' or chr == 'G' or chr == 'T'):\n",
        "            return False\n",
        "    return True\n",
        "\n",
        "def validate_sequences(sequences):\n",
        "    \"\"\"\n",
        "    Validate the given list of sequences\n",
        "    \"\"\"\n",
        "    i = 0\n",
        "    while i < len(sequences):\n",
        "        if valid_sequence(sequences[i]):\n",
        "            i += 1\n",
        "        else:\n",
        "            sequences.remove(sequences[i])\n",
        "\n",
        "validate_sequences(pc_sequences)\n",
        "validate_sequences(nc_sequences)\n",
        "\n",
        "print('Valid PC seqs:', len(pc_sequences))\n",
        "print('Valid NC seqs:', len(nc_sequences))"
      ],
      "execution_count": 8,
      "outputs": [
        {
          "output_type": "stream",
          "text": [
            "Valid PC seqs: 55381\n",
            "Valid NC seqs: 46911\n"
          ],
          "name": "stdout"
        }
      ]
    },
    {
      "cell_type": "markdown",
      "metadata": {
        "id": "mZq-IPZe2KAn"
      },
      "source": [
        "## Generate Simulated Sequences"
      ]
    },
    {
      "cell_type": "code",
      "metadata": {
        "colab": {
          "base_uri": "https://localhost:8080/"
        },
        "id": "KuPgFeXI1npe",
        "outputId": "201bddd7-bc33-4465-d3e3-857a8b776bde"
      },
      "source": [
        "NUM_FAKE_SEQS_PER_LENGTH = 15\n",
        "random.seed(REPRODUCABILITY_SEED)\n",
        "fake_sequences = []\n",
        "for length in range(MINIMUM_SEQUENCE_LENGTH + 1, MAXIMUM_SEQUENCE_LENGTH + 1):\n",
        "    for size in range(0, NUM_FAKE_SEQS_PER_LENGTH):\n",
        "        sequence = ''.join(random.choices(['A', 'C', 'G', 'T'], k=length))\n",
        "    fake_sequences.append(sequence)\n",
        "\n",
        "print('Simulated Sequences:', len(fake_sequences))"
      ],
      "execution_count": 9,
      "outputs": [
        {
          "output_type": "stream",
          "text": [
            "Simulated Sequences: 3800\n"
          ],
          "name": "stdout"
        }
      ]
    },
    {
      "cell_type": "markdown",
      "metadata": {
        "id": "4k6CG3pCveOY"
      },
      "source": [
        "## Generate Statistics"
      ]
    },
    {
      "cell_type": "markdown",
      "metadata": {
        "id": "FhdVaD5VBKZh"
      },
      "source": [
        "\n",
        "Using KmerTools to get the K-mer counts upto 3.\n",
        "It returns the value in Dictionary form. (Key-Value Pair)"
      ]
    },
    {
      "cell_type": "code",
      "metadata": {
        "id": "MlIzMUBMBFG3"
      },
      "source": [
        "MAX_K = 3\n",
        "tool = KmerTools()\n",
        "\n",
        "pc_counts = tool.make_dict_upto_K(MAX_K)\n",
        "for sample in pc_sequences:\n",
        "    tool.update_count_one_K(pc_counts,MAX_K,sample,True)\n",
        "tool.harvest_counts_from_K(pc_counts,MAX_K)\n",
        "pc_freqs = tool.count_to_frequency(pc_counts,MAX_K)\n",
        "\n",
        "nc_counts = tool.make_dict_upto_K(MAX_K)\n",
        "for sample in nc_sequences:\n",
        "    tool.update_count_one_K(nc_counts,MAX_K,sample,True)\n",
        "tool.harvest_counts_from_K(nc_counts,MAX_K)\n",
        "nc_freqs = tool.count_to_frequency(nc_counts,MAX_K)\n",
        "\n",
        "fake_counts = tool.make_dict_upto_K(MAX_K)\n",
        "for sample in fake_sequences:\n",
        "  tool.update_count_one_K(fake_counts, MAX_K, sample, True)\n",
        "tool.harvest_counts_from_K(fake_counts, MAX_K)\n",
        "fake_freqs = tool.count_to_frequency(fake_counts, MAX_K)\n",
        "\n",
        "#Garbage collection\n",
        "pc_counts = None\n",
        "nc_counts = None\n",
        "fake_counts = None"
      ],
      "execution_count": 10,
      "outputs": []
    },
    {
      "cell_type": "code",
      "metadata": {
        "id": "1Dz2OrqbBmgE"
      },
      "source": [
        "ONE_MER_MIN = 0\n",
        "ONE_MER_MAX = 4**1\n",
        "TWO_MER_MIN = 4**1\n",
        "TWO_MER_MAX = 4**2 + 4**1\n",
        "THREE_MER_MIN = 4**2 + 4**1\n",
        "THREE_MER_MAX = 4**3 + 4**2 + 4**1\n",
        "\n",
        "one_mer_keys = list(pc_freqs.keys())[ONE_MER_MIN:ONE_MER_MAX]\n",
        "two_mer_keys = list(pc_freqs.keys())[TWO_MER_MIN:TWO_MER_MAX]\n",
        "three_mer_keys = list(pc_freqs.keys())[THREE_MER_MIN:THREE_MER_MAX]\n",
        "\n",
        "pc_freqs = list(pc_freqs.values())\n",
        "nc_freqs = list(nc_freqs.values())\n",
        "fake_freqs = list(fake_freqs.values())\n",
        "\n",
        "one_mer_pc = np.asarray(pc_freqs[ONE_MER_MIN:ONE_MER_MAX])\n",
        "one_mer_nc = np.asarray(nc_freqs[ONE_MER_MIN:ONE_MER_MAX])\n",
        "one_mer_fake = np.asarray(fake_freqs[ONE_MER_MIN:ONE_MER_MAX])\n",
        "\n",
        "two_mer_pc = np.asarray(pc_freqs[TWO_MER_MIN:TWO_MER_MAX])\n",
        "two_mer_nc = np.asarray(nc_freqs[TWO_MER_MIN:TWO_MER_MAX])\n",
        "two_mer_fake = np.asarray(fake_freqs[TWO_MER_MIN:TWO_MER_MAX])\n",
        "\n",
        "three_mer_pc = np.asarray(pc_freqs[THREE_MER_MIN:THREE_MER_MAX])\n",
        "three_mer_nc = np.asarray(nc_freqs[THREE_MER_MIN:THREE_MER_MAX])\n",
        "three_mer_fake = np.asarray(fake_freqs[THREE_MER_MIN:THREE_MER_MAX])\n",
        "\n",
        "#Garbage collection\n",
        "pc_freqs = None\n",
        "nc_freqs = None\n",
        "fake_freqs = None"
      ],
      "execution_count": 11,
      "outputs": []
    },
    {
      "cell_type": "markdown",
      "metadata": {
        "id": "KKll0bqM8IeW"
      },
      "source": [
        "Generate max ORF lengths"
      ]
    },
    {
      "cell_type": "code",
      "metadata": {
        "id": "u8XDvm3i5nG7"
      },
      "source": [
        "oc = ORF_counter()\n",
        "\n",
        "pc_max_orf_len = np.empty(1, dtype=object)\n",
        "nc_max_orf_len = np.empty(1, dtype=object)\n",
        "fake_max_orf_len = np.empty(1, dtype=object)\n",
        "\n",
        "pc_max_orf_len[0] = np.zeros(len(pc_sequences))\n",
        "nc_max_orf_len[0] = np.zeros(len(nc_sequences))\n",
        "fake_max_orf_len[0] = np.zeros(len(fake_sequences))\n",
        "\n",
        "for i in range(len(pc_sequences)):\n",
        "    oc.set_sequence(pc_sequences[i])\n",
        "    pc_max_orf_len[0][i] = oc.get_max_orf_len()\n",
        "for i in range(len(nc_sequences)):\n",
        "    oc.set_sequence(nc_sequences[i])\n",
        "    nc_max_orf_len[0][i] = oc.get_max_orf_len()\n",
        "for i in range(len(fake_sequences)):\n",
        "    oc.set_sequence(fake_sequences[i])\n",
        "    fake_max_orf_len[0][i] = oc.get_max_orf_len()"
      ],
      "execution_count": 12,
      "outputs": []
    },
    {
      "cell_type": "markdown",
      "metadata": {
        "id": "8Xq9mfp3H74S"
      },
      "source": [
        "Get sequence lengths and sequence length vs. max ORF length correlation coefficients"
      ]
    },
    {
      "cell_type": "code",
      "metadata": {
        "id": "w4LH8MEN7GKD"
      },
      "source": [
        "pc_seq_len = np.asarray(list(map(lambda x : len(x), pc_sequences)))\n",
        "pc_seq_len_orf_len_corrcoef = np.corrcoef(pc_seq_len, pc_max_orf_len[0])\n",
        "nc_seq_len = np.asarray(list(map(lambda x : len(x), nc_sequences)))\n",
        "nc_seq_len_orf_len_corrcoef = np.corrcoef(nc_seq_len, nc_max_orf_len[0])\n",
        "fake_seq_len = np.asarray(list(map(lambda x : len(x), fake_sequences)))\n",
        "fake_seq_len_orf_len_corrcoef = np.corrcoef(fake_seq_len, fake_max_orf_len[0])"
      ],
      "execution_count": 13,
      "outputs": []
    },
    {
      "cell_type": "markdown",
      "metadata": {
        "id": "4pFBfhxPvkxI"
      },
      "source": [
        "## Results"
      ]
    },
    {
      "cell_type": "code",
      "metadata": {
        "colab": {
          "base_uri": "https://localhost:8080/",
          "height": 1000
        },
        "id": "lrE3WojZPRMx",
        "outputId": "4bd6b6df-aec8-4ba8-9e74-679057015418"
      },
      "source": [
        "data_set_names = ['mRNA', 'lncRNA']\n",
        "\n",
        "pg = PlotGenerator()\n",
        "pg.set_text_options(90, 'center', 0, 'center', 12)\n",
        "\n",
        "pg.set_text('Mean 1-Mer Frequencies', 'Mer', 'Mean Frequency', one_mer_keys, None)\n",
        "pg.bar_plot([one_mer_pc, one_mer_nc], data_set_names)\n",
        "\n",
        "pg.set_text_options(90, 'center', 0, 'center', 12)\n",
        "pg.set_text('Mean 2-Mer Frequencies', 'Mer', 'Mean Frequency', two_mer_keys, None)\n",
        "pg.bar_plot([two_mer_pc, two_mer_nc], data_set_names)\n",
        "\n",
        "pg.set_figure_options(width=14)\n",
        "pg.set_text_options(90, 'center', 0, 'center', 12)\n",
        "pg.set_text('Mean 3-Mer Frequencies', 'Mer', 'Mean Frequency', three_mer_keys, None)\n",
        "pg.bar_plot([three_mer_pc, three_mer_nc], data_set_names)\n",
        "\n",
        "pg.set_figure_options()\n",
        "pg.set_text_options(45, 'right', 0, 'center', 12)\n",
        "pg.set_text('Max ORF Lengths', 'RNA Types', 'Max ORF Length', [''], None)\n",
        "pg.box_plot([pc_max_orf_len, nc_max_orf_len], data_set_names, False)\n",
        "\n",
        "pg.set_text('mRNA ORF Length vs Sequence Length', 'Sequence Length', 'ORF Length', None, None)\n",
        "pg.scatter_plot(pc_seq_len, pc_max_orf_len[0], trendline=True)\n",
        "print('mRNA Sequence Length ORF Length Correlation Coefficient:')\n",
        "print('\\t', pc_seq_len_orf_len_corrcoef)\n",
        "\n",
        "pg.set_text('lncRNA ORF Length vs Sequence Length', 'Sequence Length', 'ORF Length', None, None)\n",
        "pg.scatter_plot(nc_seq_len, nc_max_orf_len[0], trendline=True)\n",
        "print('lnc Sequence Length ORF Length Correlation Coefficient:')\n",
        "print('\\t', nc_seq_len_orf_len_corrcoef)"
      ],
      "execution_count": 14,
      "outputs": [
        {
          "output_type": "display_data",
          "data": {
            "image/png": "[encoded data removed]",
            "text/plain": [
              "<Figure size 460.8x345.6 with 1 Axes>"
            ]
          },
          "metadata": {
            "tags": [],
            "needs_background": "light"
          }
        },
        {
          "output_type": "display_data",
          "data": {
            "image/png": "[encoded data removed]",
            "text/plain": [
              "<Figure size 460.8x345.6 with 1 Axes>"
            ]
          },
          "metadata": {
            "tags": [],
            "needs_background": "light"
          }
        },
        {
          "output_type": "display_data",
          "data": {
            "image/png": "[encoded data removed]",
            "text/plain": [
              "<Figure size 1008x345.6 with 1 Axes>"
            ]
          },
          "metadata": {
            "tags": [],
            "needs_background": "light"
          }
        },
        {
          "output_type": "display_data",
          "data": {
            "image/png": "[encoded data removed]",
            "text/plain": [
              "<Figure size 460.8x345.6 with 1 Axes>"
            ]
          },
          "metadata": {
            "tags": [],
            "needs_background": "light"
          }
        },
        {
          "output_type": "display_data",
          "data": {
            "image/png": "[encoded data removed]",
            "text/plain": [
              "<Figure size 460.8x345.6 with 1 Axes>"
            ]
          },
          "metadata": {
            "tags": [],
            "needs_background": "light"
          }
        },
        {
          "output_type": "stream",
          "text": [
            "mRNA Sequence Length ORF Length Correlation Coefficient:\n",
            "\t [[1.         0.71390581]\n",
            " [0.71390581 1.        ]]\n"
          ],
          "name": "stdout"
        },
        {
          "output_type": "display_data",
          "data": {
            "image/png": "[encoded data removed]",
            "text/plain": [
              "<Figure size 460.8x345.6 with 1 Axes>"
            ]
          },
          "metadata": {
            "tags": [],
            "needs_background": "light"
          }
        },
        {
          "output_type": "stream",
          "text": [
            "lnc Sequence Length ORF Length Correlation Coefficient:\n",
            "\t [[1.         0.46743005]\n",
            " [0.46743005 1.        ]]\n"
          ],
          "name": "stdout"
        }
      ]
    }
  ]
}