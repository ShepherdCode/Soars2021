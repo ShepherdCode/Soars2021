{
 "cells": [
  {
   "cell_type": "markdown",
   "metadata": {
    "id": "3ydlCvVnOhLI"
   },
   "source": [
    "# GenCode Explore\n",
    "\n",
    "Explore the human RNA sequences from GenCode.\n",
    "\n",
    "Assume user downloaded files from GenCode 38 [FTP](http://ftp.ebi.ac.uk/pub/databases/gencode/Gencode_human/release_38/)\n",
    "to a subdirectory called data.\n",
    "\n",
    "Build on 102 which excluded mitochondrial genes by ID. (If the number of exclusions grow, may need to move from an exclusion list to an annotation gff parser.)\n",
    "\n",
    "Explore remaining PC mRNA that have tiny ORFs."
   ]
  },
  {
   "cell_type": "code",
   "execution_count": 1,
   "metadata": {
    "colab": {
     "base_uri": "https://localhost:8080/"
    },
    "id": "zgYwU6EWOhLP",
    "outputId": "1eb57313-6608-4949-e0ca-73bf89aa8e53"
   },
   "outputs": [
    {
     "name": "stdout",
     "output_type": "stream",
     "text": [
      "2021-06-06 17:11:17 EDT\n"
     ]
    }
   ],
   "source": [
    "import time \n",
    "def show_time():\n",
    "    t = time.time()\n",
    "    s = time.strftime('%Y-%m-%d %H:%M:%S %Z', time.localtime(t))\n",
    "    print(s)\n",
    "show_time()"
   ]
  },
  {
   "cell_type": "code",
   "execution_count": 2,
   "metadata": {
    "colab": {
     "base_uri": "https://localhost:8080/"
    },
    "id": "V50q76mqOhLV",
    "outputId": "9f203641-a384-4b47-dcc3-4ee3a1af45d5"
   },
   "outputs": [
    {
     "name": "stdout",
     "output_type": "stream",
     "text": [
      "CoLab not working. On my PC, use relative paths.\n"
     ]
    }
   ],
   "source": [
    "import numpy as np\n",
    "import pandas as pd\n",
    "import gzip\n",
    "import sys\n",
    "try:\n",
    "    from google.colab import drive\n",
    "    IN_COLAB = True\n",
    "    print(\"On Google CoLab, mount cloud-local file, get our code from GitHub.\")\n",
    "    PATH='/content/drive/'\n",
    "    #drive.mount(PATH,force_remount=True)  # hardly ever need this\n",
    "    drive.mount(PATH)    # Google will require login credentials\n",
    "    DATAPATH=PATH+'My Drive/data/'  # must end in \"/\"\n",
    "    import requests\n",
    "    s = requests.get('https://raw.githubusercontent.com/ShepherdCode/Soars2021/master/SimTools/RNA_describe.py')\n",
    "    with open('RNA_describe.py', 'w') as f:\n",
    "        f.write(s.text)  # writes to cloud local, delete the file later?\n",
    "    s = requests.get('https://raw.githubusercontent.com/ShepherdCode/Soars2021/master/SimTools/GenCode_Protein_Include.py')\n",
    "    with open('GenCode_Protein_Include', 'w') as f:\n",
    "        f.write(s.text)  # writes to cloud local, delete the file later?\n",
    "    from RNA_describe import *\n",
    "    from GenCode_preprocess import prot_incl\n",
    "except:\n",
    "    print(\"CoLab not working. On my PC, use relative paths.\")\n",
    "    IN_COLAB = False\n",
    "    DATAPATH='../data/'  # must end in \"/\"\n",
    "    sys.path.append(\"..\") # append parent dir in order to use sibling dirs\n",
    "    from SimTools.RNA_describe import *\n",
    "    from SimTools.GenCode_Protein_Include import prot_incl\n",
    "\n",
    "MODELPATH=\"BestModel\"  # saved on cloud instance and lost after logout\n",
    "#MODELPATH=DATAPATH+MODELPATH  # saved on Google Drive but requires login\n",
    "\n",
    "if not assert_imported_RNA_describe():\n",
    "    print(\"ERROR: Cannot use RNA_describe.\")"
   ]
  },
  {
   "cell_type": "code",
   "execution_count": 3,
   "metadata": {
    "id": "CB5Rb5oYOhLa"
   },
   "outputs": [],
   "source": [
    "PC_FILENAME='gencode.v38.pc_transcripts.fa.gz'\n",
    "NC_FILENAME='gencode.v38.lncRNA_transcripts.fa.gz'"
   ]
  },
  {
   "cell_type": "code",
   "execution_count": 4,
   "metadata": {
    "id": "CChPHdTIOhLd"
   },
   "outputs": [],
   "source": [
    "def load_gencode(filename,label,check_list=None):\n",
    "    DEFLINE='>'  # start of line with ids in a FASTA FILE\n",
    "    DELIM='|'    # character between ids\n",
    "    VERSION='.'  # character between id and version\n",
    "    EMPTY=''     # use this to avoid saving \"previous\" sequence in first iteration\n",
    "    labels=[]  # usually 1 for protein-coding or 0 for non-coding\n",
    "    seqs=[]    # usually strings of ACGT\n",
    "    lens=[]    # sequence length\n",
    "    ids=[]     # GenCode transcript ID, always starts ENST, excludes version\n",
    "    one_seq = EMPTY\n",
    "    one_id = None\n",
    "    with gzip.open (filename,'rt') as infile:\n",
    "        for line in infile:\n",
    "            if line[0]==DEFLINE:\n",
    "                if not one_seq == EMPTY and (check_list is None or one_id in check_list):\n",
    "                    labels.append(label)\n",
    "                    seqs.append(one_seq)\n",
    "                    lens.append(len(one_seq))\n",
    "                    ids.append(one_id)\n",
    "                one_id = line[1:].split(VERSION)[0]\n",
    "                one_seq = EMPTY\n",
    "            else:\n",
    "                # Continue loading sequence lines till next defline.\n",
    "                additional = line.rstrip()\n",
    "                one_seq = one_seq + additional\n",
    "        # Don't forget to save the last sequence after end-of-file.\n",
    "        if not one_seq == EMPTY and (check_list is None or one_id in check_list):\n",
    "            labels.append(label)\n",
    "            seqs.append(one_seq)\n",
    "            lens.append(len(one_seq))\n",
    "            ids.append(one_id)\n",
    "\n",
    "    df1=pd.DataFrame(ids,columns=['tid'])\n",
    "    df2=pd.DataFrame(labels,columns=['class'])\n",
    "    df3=pd.DataFrame(seqs,columns=['sequence'])\n",
    "    df4=pd.DataFrame(lens,columns=['seqlen'])\n",
    "    df=pd.concat((df1,df2,df3,df4),axis=1)\n",
    "    return df"
   ]
  },
  {
   "cell_type": "markdown",
   "metadata": {
    "id": "KTqAt2JmOhLj"
   },
   "source": [
    "## Load the GenCode data.\n",
    "Warning: GenCode has\n",
    "over 100K protein-coding RNA (mRNA) \n",
    "and almost 50K non-coding RNA (lncRNA)."
   ]
  },
  {
   "cell_type": "code",
   "execution_count": 5,
   "metadata": {
    "colab": {
     "base_uri": "https://localhost:8080/"
    },
    "id": "R-sj2TKaOhLl",
    "outputId": "f95b1e55-ea41-4d21-e267-e3b1b8e45391"
   },
   "outputs": [
    {
     "name": "stdout",
     "output_type": "stream",
     "text": [
      "2021-06-06 17:11:17 EDT\n",
      "PC seqs loaded: 60946\n",
      "2021-06-06 17:11:22 EDT\n",
      "NC seqs loaded: 48752\n",
      "2021-06-06 17:11:24 EDT\n"
     ]
    }
   ],
   "source": [
    "# Full GenCode ver 38 human is 106143 pc + 48752 nc and loads in 7 sec.\n",
    "# Expect fewer transcripts if special filtering is used.\n",
    "PC_FULLPATH=DATAPATH+PC_FILENAME\n",
    "NC_FULLPATH=DATAPATH+NC_FILENAME\n",
    "show_time()\n",
    "pcdf=load_gencode(PC_FULLPATH,1,prot_incl)\n",
    "print(\"PC seqs loaded:\",len(pcdf))\n",
    "show_time()\n",
    "ncdf=load_gencode(NC_FULLPATH,0)\n",
    "print(\"NC seqs loaded:\",len(ncdf))\n",
    "show_time()"
   ]
  },
  {
   "cell_type": "code",
   "execution_count": 6,
   "metadata": {
    "colab": {
     "base_uri": "https://localhost:8080/"
    },
    "id": "B59H_wAAOhLm",
    "outputId": "7a95b166-fb04-4e8e-8f4d-af4a2748b951"
   },
   "outputs": [
    {
     "name": "stdout",
     "output_type": "stream",
     "text": [
      "Sorting PC...\n",
      "Sorting NC...\n"
     ]
    }
   ],
   "source": [
    "print(\"Sorting PC...\")\n",
    "pcdf.sort_values('seqlen', ascending=True, inplace=True)\n",
    "print(\"Sorting NC...\")\n",
    "ncdf.sort_values('seqlen', ascending=True, inplace=True)"
   ]
  },
  {
   "cell_type": "code",
   "execution_count": 7,
   "metadata": {},
   "outputs": [
    {
     "data": {
      "text/html": [
       "<div>\n",
       "<style scoped>\n",
       "    .dataframe tbody tr th:only-of-type {\n",
       "        vertical-align: middle;\n",
       "    }\n",
       "\n",
       "    .dataframe tbody tr th {\n",
       "        vertical-align: top;\n",
       "    }\n",
       "\n",
       "    .dataframe thead th {\n",
       "        text-align: right;\n",
       "    }\n",
       "</style>\n",
       "<table border=\"1\" class=\"dataframe\">\n",
       "  <thead>\n",
       "    <tr style=\"text-align: right;\">\n",
       "      <th></th>\n",
       "      <th>tid</th>\n",
       "      <th>class</th>\n",
       "      <th>sequence</th>\n",
       "      <th>seqlen</th>\n",
       "    </tr>\n",
       "  </thead>\n",
       "  <tbody>\n",
       "    <tr>\n",
       "      <th>659</th>\n",
       "      <td>ENST00000641727</td>\n",
       "      <td>0</td>\n",
       "      <td>TTGGGAGGCCGAGTCAGGTGGATCACCTGAGG</td>\n",
       "      <td>32</td>\n",
       "    </tr>\n",
       "    <tr>\n",
       "      <th>27605</th>\n",
       "      <td>ENST00000630527</td>\n",
       "      <td>0</td>\n",
       "      <td>CCACAATCTTCTGGACAAAGTGGGCCTGGTGAGCATGTGCAGCCTA...</td>\n",
       "      <td>54</td>\n",
       "    </tr>\n",
       "    <tr>\n",
       "      <th>17512</th>\n",
       "      <td>ENST00000612718</td>\n",
       "      <td>0</td>\n",
       "      <td>TTTTTTTTTTTTTTAAAAGTTCAAGTGATTCTCCTGGTTTTCCTCA...</td>\n",
       "      <td>60</td>\n",
       "    </tr>\n",
       "    <tr>\n",
       "      <th>9805</th>\n",
       "      <td>ENST00000678483</td>\n",
       "      <td>0</td>\n",
       "      <td>TGATCAGGCTGGTCTCGAACACCTGACCTTGTGATCCACCCACCTC...</td>\n",
       "      <td>60</td>\n",
       "    </tr>\n",
       "    <tr>\n",
       "      <th>9806</th>\n",
       "      <td>ENST00000679337</td>\n",
       "      <td>0</td>\n",
       "      <td>CTGGTCAGGGAGGAGTTTGGAATGTTTCTGGTTGGTGATGTTGTTT...</td>\n",
       "      <td>61</td>\n",
       "    </tr>\n",
       "    <tr>\n",
       "      <th>...</th>\n",
       "      <td>...</td>\n",
       "      <td>...</td>\n",
       "      <td>...</td>\n",
       "      <td>...</td>\n",
       "    </tr>\n",
       "    <tr>\n",
       "      <th>46918</th>\n",
       "      <td>ENST00000458178</td>\n",
       "      <td>0</td>\n",
       "      <td>GCAGAGCGGAGGAGCAGCAGCTGCCACCGGCCGGAAGCCTGCTGGC...</td>\n",
       "      <td>37852</td>\n",
       "    </tr>\n",
       "    <tr>\n",
       "      <th>47169</th>\n",
       "      <td>ENST00000624945</td>\n",
       "      <td>0</td>\n",
       "      <td>TGAAGGGGCCAGAGTACTGGCTGCCCTGAAATCAGAGCAGCAGCTA...</td>\n",
       "      <td>49287</td>\n",
       "    </tr>\n",
       "    <tr>\n",
       "      <th>27601</th>\n",
       "      <td>ENST00000597346</td>\n",
       "      <td>0</td>\n",
       "      <td>AGAACGGTCGCCGCGTCGCCTCAGCACGGACCTCCAGGGAGCTCCT...</td>\n",
       "      <td>91667</td>\n",
       "    </tr>\n",
       "    <tr>\n",
       "      <th>31002</th>\n",
       "      <td>ENST00000626826</td>\n",
       "      <td>0</td>\n",
       "      <td>GGAAGGAGCAATAACTGATTTTTCTGCAGTGTCTTCCTTCTGAAAG...</td>\n",
       "      <td>205012</td>\n",
       "    </tr>\n",
       "    <tr>\n",
       "      <th>48318</th>\n",
       "      <td>ENST00000674361</td>\n",
       "      <td>0</td>\n",
       "      <td>AACATTTGAGTCAGTGTGCTAAGGAAGGCAGATCCACCCTTAATCT...</td>\n",
       "      <td>347561</td>\n",
       "    </tr>\n",
       "  </tbody>\n",
       "</table>\n",
       "<p>48752 rows × 4 columns</p>\n",
       "</div>"
      ],
      "text/plain": [
       "                   tid  class  \\\n",
       "659    ENST00000641727      0   \n",
       "27605  ENST00000630527      0   \n",
       "17512  ENST00000612718      0   \n",
       "9805   ENST00000678483      0   \n",
       "9806   ENST00000679337      0   \n",
       "...                ...    ...   \n",
       "46918  ENST00000458178      0   \n",
       "47169  ENST00000624945      0   \n",
       "27601  ENST00000597346      0   \n",
       "31002  ENST00000626826      0   \n",
       "48318  ENST00000674361      0   \n",
       "\n",
       "                                                sequence  seqlen  \n",
       "659                     TTGGGAGGCCGAGTCAGGTGGATCACCTGAGG      32  \n",
       "27605  CCACAATCTTCTGGACAAAGTGGGCCTGGTGAGCATGTGCAGCCTA...      54  \n",
       "17512  TTTTTTTTTTTTTTAAAAGTTCAAGTGATTCTCCTGGTTTTCCTCA...      60  \n",
       "9805   TGATCAGGCTGGTCTCGAACACCTGACCTTGTGATCCACCCACCTC...      60  \n",
       "9806   CTGGTCAGGGAGGAGTTTGGAATGTTTCTGGTTGGTGATGTTGTTT...      61  \n",
       "...                                                  ...     ...  \n",
       "46918  GCAGAGCGGAGGAGCAGCAGCTGCCACCGGCCGGAAGCCTGCTGGC...   37852  \n",
       "47169  TGAAGGGGCCAGAGTACTGGCTGCCCTGAAATCAGAGCAGCAGCTA...   49287  \n",
       "27601  AGAACGGTCGCCGCGTCGCCTCAGCACGGACCTCCAGGGAGCTCCT...   91667  \n",
       "31002  GGAAGGAGCAATAACTGATTTTTCTGCAGTGTCTTCCTTCTGAAAG...  205012  \n",
       "48318  AACATTTGAGTCAGTGTGCTAAGGAAGGCAGATCCACCCTTAATCT...  347561  \n",
       "\n",
       "[48752 rows x 4 columns]"
      ]
     },
     "execution_count": 7,
     "metadata": {},
     "output_type": "execute_result"
    }
   ],
   "source": [
    "ncdf"
   ]
  },
  {
   "cell_type": "markdown",
   "metadata": {
    "id": "QVW_ZUM7OhL1"
   },
   "source": [
    "## Look for short ORFs"
   ]
  },
  {
   "cell_type": "code",
   "execution_count": 8,
   "metadata": {},
   "outputs": [
    {
     "name": "stdout",
     "output_type": "stream",
     "text": [
      "ENST00000629223 len=210 orf=0\n",
      "ENST00000640179 len=210 orf=24\n",
      "ENST00000638826 len=219 orf=0\n",
      "ENST00000612485 len=225 orf=42\n",
      "ENST00000640713 len=231 orf=42\n",
      "ENST00000640869 len=237 orf=27\n",
      "ENST00000638397 len=240 orf=0\n",
      "ENST00000639871 len=243 orf=0\n",
      "ENST00000548367 len=249 orf=0\n",
      "ENST00000626868 len=249 orf=0\n",
      "ENST00000618832 len=282 orf=0\n",
      "ENST00000532589 len=331 orf=27\n",
      "ENST00000640154 len=336 orf=15\n",
      "ENST00000634235 len=351 orf=0\n",
      "ENST00000635603 len=369 orf=0\n",
      "ENST00000639772 len=421 orf=30\n",
      "ENST00000515402 len=448 orf=30\n",
      "ENST00000330910 len=468 orf=42\n",
      "ENST00000613578 len=486 orf=27\n",
      "ENST00000437752 len=525 orf=36\n",
      "ENST00000528262 len=560 orf=27\n",
      "ENST00000619146 len=561 orf=24\n",
      "ENST00000534683 len=562 orf=42\n",
      "ENST00000640148 len=596 orf=12\n",
      "ENST00000621530 len=617 orf=39\n",
      "ENST00000614767 len=762 orf=0\n",
      "ENST00000639555 len=878 orf=0\n",
      "ENST00000641094 len=1476 orf=0\n"
     ]
    }
   ],
   "source": [
    "def show_short(df,too_short):\n",
    "    oc = ORF_counter()\n",
    "    count=len(df)\n",
    "    for pos in range(0,count):\n",
    "        sequence=df.iloc[pos]['sequence']\n",
    "        seqlen=df.iloc[pos]['seqlen']\n",
    "        oc.set_sequence(sequence)\n",
    "        orflen=oc.get_max_orf_len()\n",
    "        seqlen=df.iloc[pos]['seqlen']\n",
    "        if seqlen>200 and orflen<=TOO_SHORT:\n",
    "            seqid=df.iloc[pos]['tid']\n",
    "            print(\"%s len=%d orf=%d\"%(seqid,seqlen,orflen))\n",
    "\n",
    "TOO_SHORT=50\n",
    "show_short(pcdf,TOO_SHORT)\n"
   ]
  },
  {
   "cell_type": "code",
   "execution_count": null,
   "metadata": {},
   "outputs": [],
   "source": []
  },
  {
   "cell_type": "code",
   "execution_count": null,
   "metadata": {},
   "outputs": [],
   "source": []
  }
 ],
 "metadata": {
  "colab": {
   "collapsed_sections": [],
   "name": "GenCode_Explore_102.ipynb",
   "provenance": []
  },
  "kernelspec": {
   "display_name": "Python 3",
   "language": "python",
   "name": "python3"
  },
  "language_info": {
   "codemirror_mode": {
    "name": "ipython",
    "version": 3
   },
   "file_extension": ".py",
   "mimetype": "text/x-python",
   "name": "python",
   "nbconvert_exporter": "python",
   "pygments_lexer": "ipython3",
   "version": "3.8.3"
  }
 },
 "nbformat": 4,
 "nbformat_minor": 1
}
