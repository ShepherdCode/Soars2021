{
 "cells": [
  {
   "cell_type": "markdown",
   "metadata": {
    "id": "ojm_6E9f9Kcf"
   },
   "source": [
    "# Wen CNN \n",
    "\n",
    "Simulate the CNN approach of Wen et al. 2019.\n",
    "\n",
    "This was the first version that ran tom completion on trial data. The code needs improvement to remove hard-coded image size."
   ]
  },
  {
   "cell_type": "code",
   "execution_count": 1,
   "metadata": {
    "colab": {
     "base_uri": "https://localhost:8080/"
    },
    "id": "RmPF4h_YI_sT",
    "outputId": "a1edd650-41ca-4e7e-e543-a8e36a0b40c9"
   },
   "outputs": [
    {
     "name": "stdout",
     "output_type": "stream",
     "text": [
      "2021-07-30 12:38:02 EDT\n"
     ]
    }
   ],
   "source": [
    "import time\n",
    "def show_time():\n",
    "    t = time.time()\n",
    "    print(time.strftime('%Y-%m-%d %H:%M:%S %Z', time.localtime(t)))\n",
    "show_time()"
   ]
  },
  {
   "cell_type": "code",
   "execution_count": 2,
   "metadata": {
    "id": "VQY7aTj29Kch"
   },
   "outputs": [],
   "source": [
    "import numpy as np\n",
    "import pandas as pd\n",
    "import matplotlib.pyplot as plt\n",
    "from sklearn.utils import shuffle\n",
    "from sklearn.model_selection import KFold\n",
    "from sklearn.model_selection import cross_val_score\n",
    "from sklearn.metrics import roc_curve\n",
    "from sklearn.metrics import roc_auc_score\n",
    "\n",
    "from keras.models import Sequential\n",
    "from keras.layers import Conv2D,MaxPooling2D\n",
    "from keras.layers import Dense,Embedding,Dropout\n",
    "from keras.layers import Flatten,TimeDistributed\n",
    "from keras.losses import BinaryCrossentropy\n",
    "from keras.callbacks import ModelCheckpoint\n",
    "from keras.models import load_model"
   ]
  },
  {
   "cell_type": "code",
   "execution_count": 3,
   "metadata": {
    "colab": {
     "base_uri": "https://localhost:8080/"
    },
    "id": "xUxEB53HI_sk",
    "outputId": "50c1004f-ef2f-4f51-d2d6-358a70a9a4fb"
   },
   "outputs": [
    {
     "name": "stdout",
     "output_type": "stream",
     "text": [
      "CoLab not working. On my PC, use relative paths.\n"
     ]
    }
   ],
   "source": [
    "import sys\n",
    "IN_COLAB = False\n",
    "try:\n",
    "    from google.colab import drive\n",
    "    IN_COLAB = True\n",
    "except:\n",
    "    pass\n",
    "if IN_COLAB:\n",
    "    print(\"On Google CoLab, mount cloud-local file, get our code from GitHub.\")\n",
    "    PATH='/content/drive/'\n",
    "    #drive.mount(PATH,force_remount=True)  # hardly ever need this\n",
    "    drive.mount(PATH)    # Google will require login credentials\n",
    "    DATAPATH=PATH+'My Drive/data/'  # must end in \"/\"\n",
    "    import requests\n",
    "    r = requests.get('https://raw.githubusercontent.com/ShepherdCode/Soars2021/master/SimTools/RNA_describe.py')\n",
    "    with open('RNA_describe.py', 'w') as f:\n",
    "        f.write(r.text)  \n",
    "    from RNA_describe import ORF_counter\n",
    "    r = requests.get('https://raw.githubusercontent.com/ShepherdCode/Soars2021/master/SimTools/GenCodeTools.py')\n",
    "    with open('GenCodeTools.py', 'w') as f:\n",
    "        f.write(r.text)  \n",
    "    from GenCodeTools import GenCodeLoader\n",
    "    r = requests.get('https://raw.githubusercontent.com/ShepherdCode/Soars2021/master/SimTools/KmerTools.py')\n",
    "    with open('KmerTools.py', 'w') as f:\n",
    "        f.write(r.text)  \n",
    "    from KmerTools import KmerTools\n",
    "else:\n",
    "        print(\"CoLab not working. On my PC, use relative paths.\")\n",
    "        DATAPATH='data/'  # must end in \"/\"\n",
    "        sys.path.append(\"..\") # append parent dir in order to use sibling dirs\n",
    "        from SimTools.RNA_describe import ORF_counter\n",
    "        from SimTools.GenCodeTools import GenCodeLoader\n",
    "        from SimTools.KmerTools import KmerTools\n",
    "BESTMODELPATH=DATAPATH+\"BestModel-121\"  # saved on cloud instance and lost after logout\n",
    "LASTMODELPATH=DATAPATH+\"LastModel-121\"  # saved on Google Drive but requires login"
   ]
  },
  {
   "cell_type": "markdown",
   "metadata": {
    "id": "8buAhZRfI_sp"
   },
   "source": [
    "## Data Load"
   ]
  },
  {
   "cell_type": "code",
   "execution_count": 4,
   "metadata": {
    "colab": {
     "base_uri": "https://localhost:8080/"
    },
    "id": "h94xptH1tI82",
    "outputId": "1768facb-1428-432e-bdb0-e16ae90109f4"
   },
   "outputs": [
    {
     "name": "stdout",
     "output_type": "stream",
     "text": [
      "2021-07-30 12:38:19 EDT\n"
     ]
    }
   ],
   "source": [
    "PC_TRAINS=8000\n",
    "NC_TRAINS=8000\n",
    "PC_TESTS=2000\n",
    "NC_TESTS=2000   \n",
    "PC_LENS=(200,4000)\n",
    "NC_LENS=(200,4000)   # Wen used 3500 for hyperparameter, 3000 for train\n",
    "PC_FILENAME='gencode.v38.pc_transcripts.fa.gz'\n",
    "NC_FILENAME='gencode.v38.lncRNA_transcripts.fa.gz'\n",
    "PC_FULLPATH=DATAPATH+PC_FILENAME\n",
    "NC_FULLPATH=DATAPATH+NC_FILENAME\n",
    "MAX_K = 3 \n",
    "INPUT_SHAPE=(None,84)  # 4^3 + 4^2 + 4^1\n",
    "FILTERS=16\n",
    "WIDTH=(3,3)\n",
    "STRIDE=(1,1)\n",
    "NEURONS=16\n",
    "DROP_RATE=0.10\n",
    "EPOCHS=10 # 1000 # 200\n",
    "SPLITS=5\n",
    "FOLDS=1   # make this 5 for serious testing\n",
    "show_time()"
   ]
  },
  {
   "cell_type": "code",
   "execution_count": 5,
   "metadata": {
    "colab": {
     "base_uri": "https://localhost:8080/"
    },
    "id": "VNnPagXjtI85",
    "outputId": "5f0a0e19-625d-4348-ae2c-959322fc1628"
   },
   "outputs": [
    {
     "name": "stdout",
     "output_type": "stream",
     "text": [
      "PC seqs loaded: 70825\n",
      "NC seqs loaded: 48752\n",
      "2021-07-30 12:38:27 EDT\n"
     ]
    }
   ],
   "source": [
    "loader=GenCodeLoader()\n",
    "loader.set_label(1)\n",
    "loader.set_check_utr(True)\n",
    "pcdf=loader.load_file(PC_FULLPATH)\n",
    "print(\"PC seqs loaded:\",len(pcdf))\n",
    "loader.set_label(0)\n",
    "loader.set_check_utr(False)\n",
    "ncdf=loader.load_file(NC_FULLPATH)\n",
    "print(\"NC seqs loaded:\",len(ncdf))\n",
    "show_time()"
   ]
  },
  {
   "cell_type": "code",
   "execution_count": 6,
   "metadata": {
    "colab": {
     "base_uri": "https://localhost:8080/"
    },
    "id": "ShtPw_fGtI9E",
    "outputId": "7e2cef66-c962-4fc3-c907-eb2170fa5901"
   },
   "outputs": [
    {
     "name": "stdout",
     "output_type": "stream",
     "text": [
      "2021-07-30 12:38:27 EDT\n",
      "PC seqs pass filter: 55381\n",
      "NC seqs pass filter: 46919\n"
     ]
    }
   ],
   "source": [
    "def dataframe_length_filter(df,low_high):\n",
    "    (low,high)=low_high\n",
    "    # The pandas query language is strange, \n",
    "    # but this is MUCH faster than loop & drop.\n",
    "    return df[ (df['seqlen']>=low) & (df['seqlen']<=high) ]\n",
    "def dataframe_extract_sequence(df):\n",
    "    return df['sequence'].tolist()\n",
    "\n",
    "pc_all = dataframe_extract_sequence(\n",
    "    dataframe_length_filter(pcdf,PC_LENS))\n",
    "nc_all = dataframe_extract_sequence(\n",
    "    dataframe_length_filter(ncdf,NC_LENS))\n",
    "\n",
    "show_time()\n",
    "print(\"PC seqs pass filter:\",len(pc_all))\n",
    "print(\"NC seqs pass filter:\",len(nc_all))\n",
    "# Garbage collection to reduce RAM footprint\n",
    "pcdf=None\n",
    "ncdf=None"
   ]
  },
  {
   "cell_type": "markdown",
   "metadata": {
    "id": "CCNh_FZaI_sv"
   },
   "source": [
    "## Data Prep"
   ]
  },
  {
   "cell_type": "code",
   "execution_count": 7,
   "metadata": {
    "colab": {
     "base_uri": "https://localhost:8080/"
    },
    "id": "V91rP2osI_s1",
    "outputId": "13f63234-915a-4ae7-c98f-ceecb74ea858"
   },
   "outputs": [
    {
     "name": "stdout",
     "output_type": "stream",
     "text": [
      "PC train, NC train: 8000 8000\n",
      "PC test, NC test: 2000 2000\n"
     ]
    }
   ],
   "source": [
    "pc_train=pc_all[:PC_TRAINS] \n",
    "nc_train=nc_all[:NC_TRAINS]\n",
    "print(\"PC train, NC train:\",len(pc_train),len(nc_train))\n",
    "pc_test=pc_all[PC_TRAINS:PC_TRAINS+PC_TESTS] \n",
    "nc_test=nc_all[NC_TRAINS:NC_TRAINS+PC_TESTS]\n",
    "print(\"PC test, NC test:\",len(pc_test),len(nc_test))\n",
    "# Garbage collection\n",
    "pc_all=None\n",
    "nc_all=None"
   ]
  },
  {
   "cell_type": "code",
   "execution_count": 8,
   "metadata": {
    "colab": {
     "base_uri": "https://localhost:8080/"
    },
    "id": "FfyPeInGI_s4",
    "outputId": "76acdcef-0eae-4f8f-ba18-03b97b3b971e"
   },
   "outputs": [
    {
     "name": "stdout",
     "output_type": "stream",
     "text": [
      "2021-07-30 12:38:28 EDT\n"
     ]
    }
   ],
   "source": [
    "def prepare_x_and_y(seqs1,seqs0):\n",
    "    len1=len(seqs1)\n",
    "    len0=len(seqs0)\n",
    "    total=len1+len0\n",
    "    L1=np.ones(len1,dtype=np.int8)\n",
    "    L0=np.zeros(len0,dtype=np.int8)\n",
    "    S1 = np.asarray(seqs1)\n",
    "    S0 = np.asarray(seqs0)\n",
    "    all_labels = np.concatenate((L1,L0))\n",
    "    all_seqs = np.concatenate((S1,S0))  \n",
    "    # interleave (uses less RAM than shuffle)\n",
    "    for i in range(0,len0):\n",
    "        all_labels[i*2] = L0[i]\n",
    "        all_seqs[i*2] = S0[i]\n",
    "        all_labels[i*2+1] = L1[i]\n",
    "        all_seqs[i*2+1] = S1[i]\n",
    "    return all_seqs,all_labels  # use this to test unshuffled\n",
    "    X,y = shuffle(all_seqs,all_labels) # sklearn.utils.shuffle \n",
    "    return X,y\n",
    "Xseq,y=prepare_x_and_y(pc_train,nc_train)\n",
    "#print(Xseq[:3])\n",
    "#print(y[:3])\n",
    "show_time()"
   ]
  },
  {
   "cell_type": "code",
   "execution_count": 9,
   "metadata": {
    "colab": {
     "base_uri": "https://localhost:8080/"
    },
    "id": "LWLixZOfI_s7",
    "outputId": "51b3c6f9-4924-46a8-c3ec-2f0d04337760"
   },
   "outputs": [
    {
     "name": "stdout",
     "output_type": "stream",
     "text": [
      "2021-07-30 12:38:44 EDT\n"
     ]
    }
   ],
   "source": [
    "def seqs_to_kmer_freqs(seqs,max_K):\n",
    "    tool = KmerTools()  # from SimTools\n",
    "    collection = []\n",
    "    for seq in seqs:\n",
    "        counts = tool.make_dict_upto_K(max_K)\n",
    "        # Last param should be True when using Harvester.\n",
    "        counts = tool.update_count_one_K(counts,max_K,seq,True)\n",
    "        # Given counts for K=3, Harvester fills in counts for K=1,2.\n",
    "        counts = tool.harvest_counts_from_K(counts,max_K)\n",
    "        fdict = tool.count_to_frequency(counts,max_K)\n",
    "        freqs = list(fdict.values())\n",
    "        collection.append(freqs)\n",
    "    return np.asarray(collection)\n",
    "Xfrq=seqs_to_kmer_freqs(Xseq,MAX_K)\n",
    "# Garbage collection\n",
    "Xseq = None\n",
    "show_time()"
   ]
  },
  {
   "cell_type": "code",
   "execution_count": 23,
   "metadata": {},
   "outputs": [
    {
     "name": "stdout",
     "output_type": "stream",
     "text": [
      "<class 'numpy.ndarray'>\n",
      "(16000, 84)\n",
      "(16000, 7, 12, 1)\n",
      "(7, 12, 1)\n"
     ]
    }
   ],
   "source": [
    "# Reshape\n",
    "print(type(Xfrq))\n",
    "print(Xfrq.shape)\n",
    "SEQ_CNT,FRQ_CNT=Xfrq.shape # COUNT SEQS, NUM K-MERS\n",
    "# Wen specified 17x20 which is impossible.\n",
    "# The factors of 84 are 1, 2, 3, 4, 6, 7, 12, 14, 21, 28, 42 and 84.\n",
    "ROWS=7\n",
    "COLS=FRQ_CNT//ROWS\n",
    "Xfrq2D = Xfrq.reshape(SEQ_CNT,ROWS,COLS,1)\n",
    "print(Xfrq2D.shape)\n",
    "SHAPE2D = (ROWS,COLS,1)\n",
    "print(SHAPE2D)"
   ]
  },
  {
   "cell_type": "markdown",
   "metadata": {
    "id": "dJ4XhrzGI_s-"
   },
   "source": [
    "## Build and train a neural network"
   ]
  },
  {
   "cell_type": "code",
   "execution_count": 24,
   "metadata": {
    "colab": {
     "base_uri": "https://localhost:8080/"
    },
    "id": "o5NPW7zKI_tC",
    "outputId": "f6df438b-faba-438d-9ab8-b298736029af"
   },
   "outputs": [
    {
     "name": "stdout",
     "output_type": "stream",
     "text": [
      "make_DNN\n",
      "input shape: (7, 12, 1)\n",
      "Model: \"sequential_7\"\n",
      "_________________________________________________________________\n",
      "Layer (type)                 Output Shape              Param #   \n",
      "=================================================================\n",
      "conv2d_13 (Conv2D)           (None, 7, 12, 16)         160       \n",
      "_________________________________________________________________\n",
      "conv2d_14 (Conv2D)           (None, 7, 12, 16)         2320      \n",
      "_________________________________________________________________\n",
      "max_pooling2d_6 (MaxPooling2 (None, 3, 6, 16)          0         \n",
      "_________________________________________________________________\n",
      "flatten_6 (Flatten)          (None, 288)               0         \n",
      "_________________________________________________________________\n",
      "dense_9 (Dense)              (None, 16)                4624      \n",
      "_________________________________________________________________\n",
      "dropout_3 (Dropout)          (None, 16)                0         \n",
      "_________________________________________________________________\n",
      "dense_10 (Dense)             (None, 1)                 17        \n",
      "=================================================================\n",
      "Total params: 7,121\n",
      "Trainable params: 7,121\n",
      "Non-trainable params: 0\n",
      "_________________________________________________________________\n",
      "None\n"
     ]
    }
   ],
   "source": [
    "def make_DNN():\n",
    "    dt=np.float32\n",
    "    print(\"make_DNN\")\n",
    "    print(\"input shape:\",SHAPE2D)\n",
    "    dnn = Sequential()\n",
    "    dnn.add(Conv2D(filters=FILTERS,kernel_size=WIDTH,strides=STRIDE,padding=\"same\",\n",
    "            input_shape=SHAPE2D))\n",
    "    dnn.add(Conv2D(filters=FILTERS,kernel_size=WIDTH,strides=STRIDE,padding=\"same\"))\n",
    "    dnn.add(MaxPooling2D())\n",
    "    dnn.add(Flatten())\n",
    "    dnn.add(Dense(NEURONS,activation=\"sigmoid\",dtype=dt)) \n",
    "    dnn.add(Dropout(DROP_RATE))\n",
    "    dnn.add(Dense(1,activation=\"sigmoid\",dtype=dt))   \n",
    "    dnn.compile(optimizer='adam',    # adadelta doesn't work as well\n",
    "                loss=BinaryCrossentropy(from_logits=False),\n",
    "                metrics=['accuracy'])   # add to default metrics=loss\n",
    "    dnn.build(input_shape=SHAPE2D) \n",
    "    return dnn\n",
    "model = make_DNN()\n",
    "print(model.summary())"
   ]
  },
  {
   "cell_type": "code",
   "execution_count": 25,
   "metadata": {
    "id": "7xBalIrXrEAS"
   },
   "outputs": [],
   "source": [
    "def do_cross_validation(X,y):\n",
    "    cv_scores = []\n",
    "    fold=0\n",
    "    mycallbacks = [ModelCheckpoint(\n",
    "        filepath=BESTMODELPATH, save_best_only=True, \n",
    "        monitor='val_accuracy', mode='max')]   \n",
    "    # When shuffle=True, the valid indices are a random subset.\n",
    "    splitter = KFold(n_splits=SPLITS,shuffle=True) \n",
    "    model = None\n",
    "    for train_index,valid_index in splitter.split(X):\n",
    "        if fold < FOLDS:\n",
    "            fold += 1\n",
    "            X_train=X[train_index] # inputs for training\n",
    "            y_train=y[train_index] # labels for training\n",
    "            X_valid=X[valid_index] # inputs for validation\n",
    "            y_valid=y[valid_index] # labels for validation\n",
    "            print(\"MODEL\")\n",
    "            # Call constructor on each CV. Else, continually improves the same model.\n",
    "            model = model = make_DNN()\n",
    "            print(\"FIT\")  # model.fit() implements learning\n",
    "            start_time=time.time()\n",
    "            history=model.fit(X_train, y_train, \n",
    "                    epochs=EPOCHS, \n",
    "                    verbose=1,  # ascii art while learning\n",
    "                    callbacks=mycallbacks,   # called at end of each epoch\n",
    "                    validation_data=(X_valid,y_valid))\n",
    "            end_time=time.time()\n",
    "            elapsed_time=(end_time-start_time)                        \n",
    "            print(\"Fold %d, %d epochs, %d sec\"%(fold,EPOCHS,elapsed_time))\n",
    "            # print(history.history.keys())  # all these keys will be shown in figure\n",
    "            pd.DataFrame(history.history).plot(figsize=(8,5))\n",
    "            plt.grid(True)\n",
    "            plt.gca().set_ylim(0,1) # any losses > 1 will be off the scale\n",
    "            plt.show()\n",
    "    return model  # parameters at end of training"
   ]
  },
  {
   "cell_type": "code",
   "execution_count": 26,
   "metadata": {
    "colab": {
     "base_uri": "https://localhost:8080/",
     "height": 1000
    },
    "id": "BM6UjBzrrEAV",
    "outputId": "4d7ffa1e-f349-40ef-ee05-a3a8b038c3c7"
   },
   "outputs": [
    {
     "name": "stdout",
     "output_type": "stream",
     "text": [
      "2021-07-30 12:48:26 EDT\n",
      "MODEL\n",
      "make_DNN\n",
      "input shape: (7, 12, 1)\n",
      "FIT\n",
      "Epoch 1/10\n",
      "400/400 [==============================] - 16s 7ms/step - loss: 0.7227 - accuracy: 0.5145 - val_loss: 0.6733 - val_accuracy: 0.5878\n",
      "INFO:tensorflow:Assets written to: data/BestModel-121/assets\n",
      "Epoch 2/10\n",
      "400/400 [==============================] - 3s 6ms/step - loss: 0.6665 - accuracy: 0.5903 - val_loss: 0.6301 - val_accuracy: 0.6434\n",
      "INFO:tensorflow:Assets written to: data/BestModel-121/assets\n",
      "Epoch 3/10\n",
      "400/400 [==============================] - 3s 7ms/step - loss: 0.6236 - accuracy: 0.6523 - val_loss: 0.5704 - val_accuracy: 0.7094\n",
      "INFO:tensorflow:Assets written to: data/BestModel-121/assets\n",
      "Epoch 4/10\n",
      "400/400 [==============================] - 3s 8ms/step - loss: 0.5747 - accuracy: 0.7119 - val_loss: 0.5450 - val_accuracy: 0.7347\n",
      "INFO:tensorflow:Assets written to: data/BestModel-121/assets\n",
      "Epoch 5/10\n",
      "400/400 [==============================] - 3s 7ms/step - loss: 0.5553 - accuracy: 0.7295 - val_loss: 0.5346 - val_accuracy: 0.7531\n",
      "INFO:tensorflow:Assets written to: data/BestModel-121/assets\n",
      "Epoch 6/10\n",
      "400/400 [==============================] - 3s 7ms/step - loss: 0.5351 - accuracy: 0.7463 - val_loss: 0.5092 - val_accuracy: 0.7656\n",
      "INFO:tensorflow:Assets written to: data/BestModel-121/assets\n",
      "Epoch 7/10\n",
      "400/400 [==============================] - 3s 7ms/step - loss: 0.5205 - accuracy: 0.7635 - val_loss: 0.4851 - val_accuracy: 0.7812\n",
      "INFO:tensorflow:Assets written to: data/BestModel-121/assets\n",
      "Epoch 8/10\n",
      "400/400 [==============================] - 3s 7ms/step - loss: 0.4868 - accuracy: 0.7919 - val_loss: 0.4517 - val_accuracy: 0.8069\n",
      "INFO:tensorflow:Assets written to: data/BestModel-121/assets\n",
      "Epoch 9/10\n",
      "400/400 [==============================] - 3s 7ms/step - loss: 0.4527 - accuracy: 0.8008 - val_loss: 0.4185 - val_accuracy: 0.8222\n",
      "INFO:tensorflow:Assets written to: data/BestModel-121/assets\n",
      "Epoch 10/10\n",
      "400/400 [==============================] - 2s 6ms/step - loss: 0.4225 - accuracy: 0.8169 - val_loss: 0.4018 - val_accuracy: 0.8309\n",
      "INFO:tensorflow:Assets written to: data/BestModel-121/assets\n",
      "Fold 1, 10 epochs, 52 sec\n"
     ]
    },
    {
     "data": {
      "image/png": "[encoded data removed]",
      "text/plain": [
       "<Figure size 576x360 with 1 Axes>"
      ]
     },
     "metadata": {
      "needs_background": "light"
     },
     "output_type": "display_data"
    },
    {
     "name": "stdout",
     "output_type": "stream",
     "text": [
      "INFO:tensorflow:Assets written to: data/LastModel-121/assets\n"
     ]
    }
   ],
   "source": [
    "show_time()\n",
    "last_model = do_cross_validation(Xfrq2D,y)\n",
    "last_model.save(LASTMODELPATH)"
   ]
  },
  {
   "cell_type": "markdown",
   "metadata": {
    "id": "OsytC9VUrEAX"
   },
   "source": [
    "## Test the neural network"
   ]
  },
  {
   "cell_type": "code",
   "execution_count": 27,
   "metadata": {
    "id": "8hIqe1r1rEAa"
   },
   "outputs": [],
   "source": [
    "def show_test_AUC(model,X,y):\n",
    "    ns_probs = [0 for _ in range(len(y))]\n",
    "    bm_probs = model.predict(X)\n",
    "    ns_auc = roc_auc_score(y, ns_probs)\n",
    "    bm_auc = roc_auc_score(y, bm_probs)\n",
    "    ns_fpr, ns_tpr, _ = roc_curve(y, ns_probs)\n",
    "    bm_fpr, bm_tpr, _ = roc_curve(y, bm_probs)\n",
    "    plt.plot(ns_fpr, ns_tpr, linestyle='--', label='Guess, auc=%.4f'%ns_auc)\n",
    "    plt.plot(bm_fpr, bm_tpr, marker='.', label='Model, auc=%.4f'%bm_auc)\n",
    "    plt.title('ROC')\n",
    "    plt.xlabel('False Positive Rate')\n",
    "    plt.ylabel('True Positive Rate')\n",
    "    plt.legend()\n",
    "    plt.show()\n",
    "    print(\"%s: %.2f%%\" %('AUC',bm_auc*100.0))\n",
    "def show_test_accuracy(model,X,y):\n",
    "    scores = model.evaluate(X, y, verbose=0)\n",
    "    print(\"%s: %.2f%%\" % (model.metrics_names[1], scores[1]*100))\n"
   ]
  },
  {
   "cell_type": "code",
   "execution_count": 30,
   "metadata": {
    "colab": {
     "base_uri": "https://localhost:8080/",
     "height": 469
    },
    "id": "tGf2PcxRC8jT",
    "outputId": "489f5c26-0ff9-4f02-f078-39e3abcc51ba"
   },
   "outputs": [
    {
     "name": "stdout",
     "output_type": "stream",
     "text": [
      "Accuracy on test data.\n",
      "Prepare...\n",
      "2021-07-30 12:50:46 EDT\n",
      "Extract K-mer features...\n",
      "2021-07-30 12:50:47 EDT\n",
      "Plot...\n",
      "2021-07-30 12:50:51 EDT\n"
     ]
    },
    {
     "data": {
      "image/png": "[encoded data removed]",
      "text/plain": [
       "<Figure size 432x288 with 1 Axes>"
      ]
     },
     "metadata": {
      "needs_background": "light"
     },
     "output_type": "display_data"
    },
    {
     "name": "stdout",
     "output_type": "stream",
     "text": [
      "AUC: 92.82%\n",
      "accuracy: 85.77%\n",
      "2021-07-30 12:50:52 EDT\n"
     ]
    }
   ],
   "source": [
    "print(\"Accuracy on test data.\")\n",
    "print(\"Prepare...\")\n",
    "show_time()\n",
    "Xseq,y=prepare_x_and_y(pc_test,nc_test)\n",
    "print(\"Extract K-mer features...\")\n",
    "show_time()\n",
    "Xfrq=seqs_to_kmer_freqs(Xseq,MAX_K)\n",
    "SEQ_CNT,FRQ_CNT=Xfrq.shape # COUNT SEQS, NUM K-MERS\n",
    "Xfrq2D = Xfrq.reshape(SEQ_CNT,ROWS,COLS,1)\n",
    "print(\"Plot...\")\n",
    "show_time()\n",
    "show_test_AUC(last_model,Xfrq2D,y)\n",
    "show_test_accuracy(last_model,Xfrq2D,y)\n",
    "show_time()"
   ]
  },
  {
   "cell_type": "code",
   "execution_count": null,
   "metadata": {
    "id": "-cSLTNfzrEAo"
   },
   "outputs": [],
   "source": []
  }
 ],
 "metadata": {
  "accelerator": "GPU",
  "colab": {
   "collapsed_sections": [],
   "name": "ORF_MLP_122.ipynb",
   "provenance": []
  },
  "kernelspec": {
   "display_name": "Python 3",
   "language": "python",
   "name": "python3"
  },
  "language_info": {
   "codemirror_mode": {
    "name": "ipython",
    "version": 3
   },
   "file_extension": ".py",
   "mimetype": "text/x-python",
   "name": "python",
   "nbconvert_exporter": "python",
   "pygments_lexer": "ipython3",
   "version": "3.8.3"
  }
 },
 "nbformat": 4,
 "nbformat_minor": 1
}
