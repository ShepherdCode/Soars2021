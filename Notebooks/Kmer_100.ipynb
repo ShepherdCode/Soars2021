{
 "cells": [
  {
   "cell_type": "markdown",
   "metadata": {
    "id": "ojm_6E9f9Kcf"
   },
   "source": [
    "# K-mer \n",
    "Basic K-mer counting."
   ]
  },
  {
   "cell_type": "code",
   "execution_count": 1,
   "metadata": {},
   "outputs": [
    {
     "name": "stdout",
     "output_type": "stream",
     "text": [
      "2021-07-06 16:48:11 EDT\n"
     ]
    }
   ],
   "source": [
    "import time\n",
    "def show_time():\n",
    "    t = time.time()\n",
    "    print(time.strftime('%Y-%m-%d %H:%M:%S %Z', time.localtime(t)))\n",
    "show_time()"
   ]
  },
  {
   "cell_type": "code",
   "execution_count": 2,
   "metadata": {},
   "outputs": [],
   "source": [
    "PC_SEQUENCES=32000\n",
    "NC_SEQUENCES=32000\n",
    "RNA_LEN=32\n",
    "CDS_LEN=16"
   ]
  },
  {
   "cell_type": "code",
   "execution_count": 3,
   "metadata": {
    "id": "VQY7aTj29Kch"
   },
   "outputs": [],
   "source": [
    "import numpy as np\n",
    "import pandas as pd\n",
    "import matplotlib.pyplot as plt\n"
   ]
  },
  {
   "cell_type": "code",
   "execution_count": 4,
   "metadata": {},
   "outputs": [
    {
     "name": "stdout",
     "output_type": "stream",
     "text": [
      "CoLab not working. On my PC, use relative paths.\n"
     ]
    }
   ],
   "source": [
    "import sys\n",
    "IN_COLAB = False\n",
    "try:\n",
    "    from google.colab import drive\n",
    "    IN_COLAB = True\n",
    "except:\n",
    "    pass\n",
    "if IN_COLAB:\n",
    "    print(\"On Google CoLab, mount cloud-local file, get our code from GitHub.\")\n",
    "    PATH='/content/drive/'\n",
    "    #drive.mount(PATH,force_remount=True)  # hardly ever need this\n",
    "    #drive.mount(PATH)    # Google will require login credentials\n",
    "    DATAPATH=PATH+'My Drive/data/'  # must end in \"/\"\n",
    "    import requests\n",
    "    r = requests.get('https://raw.githubusercontent.com/ShepherdCode/Soars2021/master/SimTools/RNA_describe.py')\n",
    "    with open('RNA_describe.py', 'w') as f:\n",
    "        f.write(r.text)  \n",
    "    from RNA_describe import ORF_counter\n",
    "    from RNA_describe import Random_Base_Oracle\n",
    "else:\n",
    "        print(\"CoLab not working. On my PC, use relative paths.\")\n",
    "        DATAPATH='data/'  # must end in \"/\"\n",
    "        sys.path.append(\"..\") # append parent dir in order to use sibling dirs\n",
    "        from SimTools.RNA_describe import ORF_counter,Random_Base_Oracle\n",
    "MODELPATH=\"BestModel\"  # saved on cloud instance and lost after logout\n",
    "#MODELPATH=DATAPATH+MODELPATH  # saved on Google Drive but requires login"
   ]
  },
  {
   "cell_type": "markdown",
   "metadata": {},
   "source": [
    "## K-mer counting"
   ]
  },
  {
   "cell_type": "markdown",
   "metadata": {},
   "source": [
    "### Functions to create the dict of {kmer:count}"
   ]
  },
  {
   "cell_type": "code",
   "execution_count": 5,
   "metadata": {},
   "outputs": [],
   "source": [
    "def make_kmer_keys(K):\n",
    "    shorter_kmers=['']\n",
    "    for i in range(K):\n",
    "        longer_kmers=[]\n",
    "        for mer in shorter_kmers:\n",
    "            # No support for N or any non-ACGT bases.\n",
    "            longer_kmers.append(mer+'A')\n",
    "            longer_kmers.append(mer+'C')\n",
    "            longer_kmers.append(mer+'G')\n",
    "            longer_kmers.append(mer+'T')\n",
    "        shorter_kmers = longer_kmers\n",
    "    return shorter_kmers\n",
    "def make_kmer_dict(keys,init=0):\n",
    "    return dict.fromkeys(keys,init)\n",
    "def make_dict_upto_K(max_K):\n",
    "    keys=make_kmer_keys(1)\n",
    "    for k in range(2,max_K+1):\n",
    "        keys.extend(make_kmer_keys(k))\n",
    "    counts = make_kmer_dict(keys)\n",
    "    return counts\n"
   ]
  },
  {
   "cell_type": "markdown",
   "metadata": {},
   "source": [
    "### Naive K-mer counting algorithm\n",
    "Algorithm:  \n",
    "1. for every string  \n",
    "    1. for every K  \n",
    "        1. for every position  \n",
    "            1. kmer=substring\n",
    "            2. count{kmer}++"
   ]
  },
  {
   "cell_type": "code",
   "execution_count": 6,
   "metadata": {},
   "outputs": [],
   "source": [
    "def update_count_one_K(counts,K,rna,tail=False):\n",
    "    L = len(rna)\n",
    "    padding=\" \"*(K-1)\n",
    "    padded=rna+padding\n",
    "    for i in range(0,L-K+1):\n",
    "        kmer=padded[i:i+K]\n",
    "        counts[kmer] += 1\n",
    "    if tail and K>1:  \n",
    "        # for Harvester algorithm, count last letters as special case\n",
    "        for start_pos in range(L-K+1,L):\n",
    "            for end_pos in range(start_pos+1,L+1):\n",
    "                kmer=rna[start_pos:end_pos]\n",
    "                counts[kmer] += 1\n",
    "    return counts\n",
    "def update_count_upto_K(counts,max_K,sample,tail=False):\n",
    "    for i in range(1,max_K+1):\n",
    "        update_count_one_K(counts,i,sample,tail)\n",
    "    return counts"
   ]
  },
  {
   "cell_type": "markdown",
   "metadata": {},
   "source": [
    "### Harvester K-mer counting algorithm\n",
    "Algorithm:  \n",
    "1. Count K-mers for max K only  \n",
    "2. For each K-mer in counts table:  \n",
    "    1. For every prefix of the K-mer:  \n",
    "        1. count{prefix} += count{kmer}  \n",
    "3. Handle last K-1 letters of each string as special case"
   ]
  },
  {
   "cell_type": "code",
   "execution_count": 7,
   "metadata": {},
   "outputs": [],
   "source": [
    "def harvest_counts_from_K(counts,max_K):\n",
    "    for kmer in counts.keys():\n",
    "        klen = len(kmer)\n",
    "        kcnt = counts[kmer]\n",
    "        if klen==max_K and kcnt>0:\n",
    "            for i in range(1,klen):\n",
    "                prefix = kmer[:i]\n",
    "                counts[prefix] += kcnt\n",
    "    return counts"
   ]
  },
  {
   "cell_type": "code",
   "execution_count": 8,
   "metadata": {},
   "outputs": [],
   "source": [
    "def count_to_frequency(counts,max_K):\n",
    "    freqs = dict.fromkeys(counts.keys(),0.0)\n",
    "    for k in range(1,max_K+1):\n",
    "        tot = 0\n",
    "        for kmer in counts.keys():\n",
    "            if len(kmer)==k:\n",
    "                tot += counts[kmer]\n",
    "        for kmer in counts.keys():\n",
    "            if len(kmer)==k:\n",
    "                freqs[kmer] = 1.0*counts[kmer]/tot\n",
    "    return freqs"
   ]
  },
  {
   "cell_type": "markdown",
   "metadata": {},
   "source": [
    "## Demo"
   ]
  },
  {
   "cell_type": "markdown",
   "metadata": {},
   "source": [
    "### Demo: Naive algorithm"
   ]
  },
  {
   "cell_type": "code",
   "execution_count": 9,
   "metadata": {},
   "outputs": [
    {
     "name": "stdout",
     "output_type": "stream",
     "text": [
      "Initial counts:\n",
      " {'A': 0, 'C': 0, 'G': 0, 'T': 0, 'AA': 0, 'AC': 0, 'AG': 0, 'AT': 0, 'CA': 0, 'CC': 0, 'CG': 0, 'CT': 0, 'GA': 0, 'GC': 0, 'GG': 0, 'GT': 0, 'TA': 0, 'TC': 0, 'TG': 0, 'TT': 0, 'AAA': 0, 'AAC': 0, 'AAG': 0, 'AAT': 0, 'ACA': 0, 'ACC': 0, 'ACG': 0, 'ACT': 0, 'AGA': 0, 'AGC': 0, 'AGG': 0, 'AGT': 0, 'ATA': 0, 'ATC': 0, 'ATG': 0, 'ATT': 0, 'CAA': 0, 'CAC': 0, 'CAG': 0, 'CAT': 0, 'CCA': 0, 'CCC': 0, 'CCG': 0, 'CCT': 0, 'CGA': 0, 'CGC': 0, 'CGG': 0, 'CGT': 0, 'CTA': 0, 'CTC': 0, 'CTG': 0, 'CTT': 0, 'GAA': 0, 'GAC': 0, 'GAG': 0, 'GAT': 0, 'GCA': 0, 'GCC': 0, 'GCG': 0, 'GCT': 0, 'GGA': 0, 'GGC': 0, 'GGG': 0, 'GGT': 0, 'GTA': 0, 'GTC': 0, 'GTG': 0, 'GTT': 0, 'TAA': 0, 'TAC': 0, 'TAG': 0, 'TAT': 0, 'TCA': 0, 'TCC': 0, 'TCG': 0, 'TCT': 0, 'TGA': 0, 'TGC': 0, 'TGG': 0, 'TGT': 0, 'TTA': 0, 'TTC': 0, 'TTG': 0, 'TTT': 0}\n",
      "Final counts:\n",
      " {'A': 3, 'C': 4, 'G': 5, 'T': 6, 'AA': 0, 'AC': 3, 'AG': 0, 'AT': 0, 'CA': 0, 'CC': 1, 'CG': 3, 'CT': 0, 'GA': 0, 'GC': 0, 'GG': 2, 'GT': 3, 'TA': 2, 'TC': 0, 'TG': 0, 'TT': 3, 'AAA': 0, 'AAC': 0, 'AAG': 0, 'AAT': 0, 'ACA': 0, 'ACC': 1, 'ACG': 2, 'ACT': 0, 'AGA': 0, 'AGC': 0, 'AGG': 0, 'AGT': 0, 'ATA': 0, 'ATC': 0, 'ATG': 0, 'ATT': 0, 'CAA': 0, 'CAC': 0, 'CAG': 0, 'CAT': 0, 'CCA': 0, 'CCC': 0, 'CCG': 1, 'CCT': 0, 'CGA': 0, 'CGC': 0, 'CGG': 1, 'CGT': 2, 'CTA': 0, 'CTC': 0, 'CTG': 0, 'CTT': 0, 'GAA': 0, 'GAC': 0, 'GAG': 0, 'GAT': 0, 'GCA': 0, 'GCC': 0, 'GCG': 0, 'GCT': 0, 'GGA': 0, 'GGC': 0, 'GGG': 1, 'GGT': 1, 'GTA': 1, 'GTC': 0, 'GTG': 0, 'GTT': 1, 'TAA': 0, 'TAC': 2, 'TAG': 0, 'TAT': 0, 'TCA': 0, 'TCC': 0, 'TCG': 0, 'TCT': 0, 'TGA': 0, 'TGC': 0, 'TGG': 0, 'TGT': 0, 'TTA': 1, 'TTC': 0, 'TTG': 0, 'TTT': 2}\n"
     ]
    }
   ],
   "source": [
    "MAX_K = 3\n",
    "counts1 = make_dict_upto_K(MAX_K)\n",
    "print(\"Initial counts:\\n\",counts1)\n",
    "\n",
    "sample = \"ACCGGGTTTTACGTACGT\"\n",
    "update_count_upto_K(counts1,MAX_K,sample)\n",
    "print(\"Final counts:\\n\",counts1)"
   ]
  },
  {
   "cell_type": "markdown",
   "metadata": {},
   "source": [
    "### Demo: Harvester algorithm"
   ]
  },
  {
   "cell_type": "code",
   "execution_count": 10,
   "metadata": {},
   "outputs": [
    {
     "name": "stdout",
     "output_type": "stream",
     "text": [
      "Initial counts:\n",
      " {'A': 0, 'C': 0, 'G': 0, 'T': 0, 'AA': 0, 'AC': 0, 'AG': 0, 'AT': 0, 'CA': 0, 'CC': 0, 'CG': 0, 'CT': 0, 'GA': 0, 'GC': 0, 'GG': 0, 'GT': 0, 'TA': 0, 'TC': 0, 'TG': 0, 'TT': 0, 'AAA': 0, 'AAC': 0, 'AAG': 0, 'AAT': 0, 'ACA': 0, 'ACC': 0, 'ACG': 0, 'ACT': 0, 'AGA': 0, 'AGC': 0, 'AGG': 0, 'AGT': 0, 'ATA': 0, 'ATC': 0, 'ATG': 0, 'ATT': 0, 'CAA': 0, 'CAC': 0, 'CAG': 0, 'CAT': 0, 'CCA': 0, 'CCC': 0, 'CCG': 0, 'CCT': 0, 'CGA': 0, 'CGC': 0, 'CGG': 0, 'CGT': 0, 'CTA': 0, 'CTC': 0, 'CTG': 0, 'CTT': 0, 'GAA': 0, 'GAC': 0, 'GAG': 0, 'GAT': 0, 'GCA': 0, 'GCC': 0, 'GCG': 0, 'GCT': 0, 'GGA': 0, 'GGC': 0, 'GGG': 0, 'GGT': 0, 'GTA': 0, 'GTC': 0, 'GTG': 0, 'GTT': 0, 'TAA': 0, 'TAC': 0, 'TAG': 0, 'TAT': 0, 'TCA': 0, 'TCC': 0, 'TCG': 0, 'TCT': 0, 'TGA': 0, 'TGC': 0, 'TGG': 0, 'TGT': 0, 'TTA': 0, 'TTC': 0, 'TTG': 0, 'TTT': 0}\n",
      "Partial counts (just max K and special case letters)\n",
      ": {'A': 0, 'C': 0, 'G': 1, 'T': 1, 'AA': 0, 'AC': 0, 'AG': 0, 'AT': 0, 'CA': 0, 'CC': 0, 'CG': 0, 'CT': 0, 'GA': 0, 'GC': 0, 'GG': 0, 'GT': 1, 'TA': 0, 'TC': 0, 'TG': 0, 'TT': 0, 'AAA': 0, 'AAC': 0, 'AAG': 0, 'AAT': 0, 'ACA': 0, 'ACC': 1, 'ACG': 2, 'ACT': 0, 'AGA': 0, 'AGC': 0, 'AGG': 0, 'AGT': 0, 'ATA': 0, 'ATC': 0, 'ATG': 0, 'ATT': 0, 'CAA': 0, 'CAC': 0, 'CAG': 0, 'CAT': 0, 'CCA': 0, 'CCC': 0, 'CCG': 1, 'CCT': 0, 'CGA': 0, 'CGC': 0, 'CGG': 1, 'CGT': 2, 'CTA': 0, 'CTC': 0, 'CTG': 0, 'CTT': 0, 'GAA': 0, 'GAC': 0, 'GAG': 0, 'GAT': 0, 'GCA': 0, 'GCC': 0, 'GCG': 0, 'GCT': 0, 'GGA': 0, 'GGC': 0, 'GGG': 1, 'GGT': 1, 'GTA': 1, 'GTC': 0, 'GTG': 0, 'GTT': 1, 'TAA': 0, 'TAC': 2, 'TAG': 0, 'TAT': 0, 'TCA': 0, 'TCC': 0, 'TCG': 0, 'TCT': 0, 'TGA': 0, 'TGC': 0, 'TGG': 0, 'TGT': 0, 'TTA': 1, 'TTC': 0, 'TTG': 0, 'TTT': 2}\n",
      "Final counts (includes smaller values of K):\n",
      " {'A': 3, 'C': 4, 'G': 5, 'T': 6, 'AA': 0, 'AC': 3, 'AG': 0, 'AT': 0, 'CA': 0, 'CC': 1, 'CG': 3, 'CT': 0, 'GA': 0, 'GC': 0, 'GG': 2, 'GT': 3, 'TA': 2, 'TC': 0, 'TG': 0, 'TT': 3, 'AAA': 0, 'AAC': 0, 'AAG': 0, 'AAT': 0, 'ACA': 0, 'ACC': 1, 'ACG': 2, 'ACT': 0, 'AGA': 0, 'AGC': 0, 'AGG': 0, 'AGT': 0, 'ATA': 0, 'ATC': 0, 'ATG': 0, 'ATT': 0, 'CAA': 0, 'CAC': 0, 'CAG': 0, 'CAT': 0, 'CCA': 0, 'CCC': 0, 'CCG': 1, 'CCT': 0, 'CGA': 0, 'CGC': 0, 'CGG': 1, 'CGT': 2, 'CTA': 0, 'CTC': 0, 'CTG': 0, 'CTT': 0, 'GAA': 0, 'GAC': 0, 'GAG': 0, 'GAT': 0, 'GCA': 0, 'GCC': 0, 'GCG': 0, 'GCT': 0, 'GGA': 0, 'GGC': 0, 'GGG': 1, 'GGT': 1, 'GTA': 1, 'GTC': 0, 'GTG': 0, 'GTT': 1, 'TAA': 0, 'TAC': 2, 'TAG': 0, 'TAT': 0, 'TCA': 0, 'TCC': 0, 'TCG': 0, 'TCT': 0, 'TGA': 0, 'TGC': 0, 'TGG': 0, 'TGT': 0, 'TTA': 1, 'TTC': 0, 'TTG': 0, 'TTT': 2}\n"
     ]
    }
   ],
   "source": [
    "MAX_K = 3\n",
    "counts2 = make_dict_upto_K(MAX_K)\n",
    "print(\"Initial counts:\\n\",counts2)\n",
    "\n",
    "sample = \"ACCGGGTTTTACGTACGT\"\n",
    "update_count_one_K(counts2,MAX_K,sample,True)\n",
    "print(\"Partial counts (just max K and special case letters)\\n:\",counts2)\n",
    "harvest_counts_from_K(counts2,MAX_K)\n",
    "print(\"Final counts (includes smaller values of K):\\n\",counts2)\n"
   ]
  },
  {
   "cell_type": "code",
   "execution_count": 11,
   "metadata": {},
   "outputs": [
    {
     "name": "stdout",
     "output_type": "stream",
     "text": [
      "Success. Harvester output matches naive results!\n"
     ]
    }
   ],
   "source": [
    "if counts1==counts2:\n",
    "    print(\"Success. Harvester output matches naive results!\")\n",
    "else:\n",
    "    print(\"Fail. Harvester output differs from naive results!\")"
   ]
  },
  {
   "cell_type": "code",
   "execution_count": 13,
   "metadata": {},
   "outputs": [
    {
     "name": "stdout",
     "output_type": "stream",
     "text": [
      "Frequency:\n",
      " {'A': 0.16666666666666666, 'C': 0.2222222222222222, 'G': 0.2777777777777778, 'T': 0.3333333333333333, 'AA': 0.0, 'AC': 0.17647058823529413, 'AG': 0.0, 'AT': 0.0, 'CA': 0.0, 'CC': 0.058823529411764705, 'CG': 0.17647058823529413, 'CT': 0.0, 'GA': 0.0, 'GC': 0.0, 'GG': 0.11764705882352941, 'GT': 0.17647058823529413, 'TA': 0.11764705882352941, 'TC': 0.0, 'TG': 0.0, 'TT': 0.17647058823529413, 'AAA': 0.0, 'AAC': 0.0, 'AAG': 0.0, 'AAT': 0.0, 'ACA': 0.0, 'ACC': 0.0625, 'ACG': 0.125, 'ACT': 0.0, 'AGA': 0.0, 'AGC': 0.0, 'AGG': 0.0, 'AGT': 0.0, 'ATA': 0.0, 'ATC': 0.0, 'ATG': 0.0, 'ATT': 0.0, 'CAA': 0.0, 'CAC': 0.0, 'CAG': 0.0, 'CAT': 0.0, 'CCA': 0.0, 'CCC': 0.0, 'CCG': 0.0625, 'CCT': 0.0, 'CGA': 0.0, 'CGC': 0.0, 'CGG': 0.0625, 'CGT': 0.125, 'CTA': 0.0, 'CTC': 0.0, 'CTG': 0.0, 'CTT': 0.0, 'GAA': 0.0, 'GAC': 0.0, 'GAG': 0.0, 'GAT': 0.0, 'GCA': 0.0, 'GCC': 0.0, 'GCG': 0.0, 'GCT': 0.0, 'GGA': 0.0, 'GGC': 0.0, 'GGG': 0.0625, 'GGT': 0.0625, 'GTA': 0.0625, 'GTC': 0.0, 'GTG': 0.0, 'GTT': 0.0625, 'TAA': 0.0, 'TAC': 0.125, 'TAG': 0.0, 'TAT': 0.0, 'TCA': 0.0, 'TCC': 0.0, 'TCG': 0.0, 'TCT': 0.0, 'TGA': 0.0, 'TGC': 0.0, 'TGG': 0.0, 'TGT': 0.0, 'TTA': 0.0625, 'TTC': 0.0, 'TTG': 0.0, 'TTT': 0.125}\n"
     ]
    }
   ],
   "source": [
    "freqs = count_to_frequency(counts2,MAX_K)\n",
    "print (\"Frequency:\\n\",freqs)"
   ]
  },
  {
   "cell_type": "markdown",
   "metadata": {},
   "source": [
    "## Demo on large dataset"
   ]
  },
  {
   "cell_type": "code",
   "execution_count": 14,
   "metadata": {},
   "outputs": [
    {
     "name": "stdout",
     "output_type": "stream",
     "text": [
      "It took 62 trials to reach 10 per class.\n",
      "It took 138942 trials to reach 32000 per class.\n",
      "Use 32000 PC seqs\n",
      "Use 32000 NC seqs\n"
     ]
    }
   ],
   "source": [
    "rbo=Random_Base_Oracle(RNA_LEN,True)\n",
    "pc_all,nc_all = rbo.get_partitioned_sequences(CDS_LEN,10) # just testing\n",
    "pc_all,nc_all = rbo.get_partitioned_sequences(CDS_LEN,PC_SEQUENCES)\n",
    "print(\"Use\",len(pc_all),\"PC seqs\")\n",
    "print(\"Use\",len(nc_all),\"NC seqs\")"
   ]
  },
  {
   "cell_type": "code",
   "execution_count": 15,
   "metadata": {},
   "outputs": [
    {
     "name": "stdout",
     "output_type": "stream",
     "text": [
      "PC counts:\n",
      " {'A': 284383, 'C': 204071, 'G': 262361, 'T': 273185, 'AA': 69592, 'AC': 50005, 'AG': 61831, 'AT': 94263, 'CA': 52957, 'CC': 44915, 'CG': 44886, 'CT': 53752, 'GA': 76594, 'GC': 56941, 'GG': 56765, 'GT': 63766, 'TA': 75393, 'TC': 44917, 'TG': 91428, 'TT': 53995, 'AAA': 15298, 'AAC': 13572, 'AAG': 13701, 'AAT': 23942, 'ACA': 12436, 'ACC': 11062, 'ACG': 10862, 'ACT': 13172, 'AGA': 15612, 'AGC': 13752, 'AGG': 13563, 'AGT': 15780, 'ATA': 18412, 'ATC': 10962, 'ATG': 49119, 'ATT': 13328, 'CAA': 11487, 'CAC': 9721, 'CAG': 9969, 'CAT': 20243, 'CCA': 11588, 'CCC': 9971, 'CCG': 9850, 'CCT': 11966, 'CGA': 11469, 'CGC': 9816, 'CGG': 9911, 'CGT': 12093, 'CTA': 17216, 'CTC': 9975, 'CTG': 12880, 'CTT': 12185, 'GAA': 17161, 'GAC': 15487, 'GAG': 15549, 'GAT': 25824, 'GCA': 14525, 'GCC': 12506, 'GCG': 12833, 'GCT': 15017, 'GGA': 14471, 'GGC': 12710, 'GGG': 12689, 'GGT': 14838, 'GTA': 19372, 'GTC': 12607, 'GTG': 15079, 'GTT': 14761, 'TAA': 22777, 'TAC': 9683, 'TAG': 21114, 'TAT': 20316, 'TCA': 11615, 'TCC': 9892, 'TCG': 9856, 'TCT': 12066, 'TGA': 32118, 'TGC': 19106, 'TGG': 19107, 'TGT': 19580, 'TTA': 17505, 'TTC': 9895, 'TTG': 12843, 'TTT': 12185}\n",
      "Frequency:\n",
      " {'A': 0.2777177734375, 'C': 0.1992880859375, 'G': 0.2562119140625, 'T': 0.2667822265625, 'AA': 0.07015322580645161, 'AC': 0.05040826612903226, 'AG': 0.06232963709677419, 'AT': 0.09502318548387097, 'CA': 0.05338407258064516, 'CC': 0.04527721774193549, 'CG': 0.04524798387096774, 'CT': 0.05418548387096774, 'GA': 0.0772116935483871, 'GC': 0.057400201612903226, 'GG': 0.057222782258064514, 'GT': 0.06428024193548387, 'TA': 0.07600100806451612, 'TC': 0.045279233870967744, 'TG': 0.09216532258064516, 'TT': 0.054430443548387095, 'AAA': 0.015935416666666667, 'AAC': 0.0141375, 'AAG': 0.014271875, 'AAT': 0.024939583333333334, 'ACA': 0.012954166666666666, 'ACC': 0.011522916666666667, 'ACG': 0.011314583333333333, 'ACT': 0.013720833333333333, 'AGA': 0.0162625, 'AGC': 0.014325, 'AGG': 0.014128125, 'AGT': 0.0164375, 'ATA': 0.019179166666666667, 'ATC': 0.01141875, 'ATG': 0.051165625, 'ATT': 0.013883333333333333, 'CAA': 0.011965625, 'CAC': 0.010126041666666667, 'CAG': 0.010384375, 'CAT': 0.021086458333333332, 'CCA': 0.012070833333333333, 'CCC': 0.010386458333333333, 'CCG': 0.010260416666666666, 'CCT': 0.012464583333333333, 'CGA': 0.011946875, 'CGC': 0.010225, 'CGG': 0.010323958333333333, 'CGT': 0.012596875, 'CTA': 0.017933333333333332, 'CTC': 0.010390625, 'CTG': 0.013416666666666667, 'CTT': 0.012692708333333334, 'GAA': 0.017876041666666665, 'GAC': 0.016132291666666666, 'GAG': 0.016196875, 'GAT': 0.0269, 'GCA': 0.015130208333333334, 'GCC': 0.013027083333333333, 'GCG': 0.013367708333333334, 'GCT': 0.015642708333333335, 'GGA': 0.015073958333333333, 'GGC': 0.013239583333333334, 'GGG': 0.013217708333333333, 'GGT': 0.01545625, 'GTA': 0.020179166666666668, 'GTC': 0.013132291666666667, 'GTG': 0.015707291666666668, 'GTT': 0.015376041666666666, 'TAA': 0.023726041666666666, 'TAC': 0.010086458333333333, 'TAG': 0.02199375, 'TAT': 0.0211625, 'TCA': 0.012098958333333333, 'TCC': 0.010304166666666666, 'TCG': 0.010266666666666667, 'TCT': 0.01256875, 'TGA': 0.03345625, 'TGC': 0.019902083333333334, 'TGG': 0.019903125, 'TGT': 0.020395833333333332, 'TTA': 0.018234375, 'TTC': 0.010307291666666666, 'TTG': 0.013378125, 'TTT': 0.012692708333333334}\n"
     ]
    }
   ],
   "source": [
    "MAX_K = 3\n",
    "pc_counts = make_dict_upto_K(MAX_K)\n",
    "for sample in pc_all:\n",
    "    update_count_one_K(pc_counts,MAX_K,sample,True)\n",
    "harvest_counts_from_K(pc_counts,MAX_K)\n",
    "print(\"PC counts:\\n\",pc_counts)\n",
    "pc_freqs = count_to_frequency(pc_counts,MAX_K)\n",
    "print (\"Frequency:\\n\",pc_freqs)"
   ]
  },
  {
   "cell_type": "code",
   "execution_count": 16,
   "metadata": {},
   "outputs": [
    {
     "name": "stdout",
     "output_type": "stream",
     "text": [
      "NC counts:\n",
      " {'A': 282958, 'C': 208551, 'G': 260669, 'T': 271822, 'AA': 69610, 'AC': 51822, 'AG': 62450, 'AT': 90536, 'CA': 53943, 'CC': 46725, 'CG': 46621, 'CT': 53674, 'GA': 74295, 'GC': 56141, 'GG': 56167, 'GT': 65923, 'TA': 75366, 'TC': 46449, 'TG': 88002, 'TT': 54276, 'AAA': 15587, 'AAC': 14383, 'AAG': 14088, 'AAT': 23073, 'ACA': 13341, 'ACC': 11765, 'ACG': 11641, 'ACT': 13078, 'AGA': 16019, 'AGC': 14118, 'AGG': 14060, 'AGT': 15832, 'ATA': 18441, 'ATC': 11564, 'ATG': 45086, 'ATT': 13343, 'CAA': 12188, 'CAC': 10322, 'CAG': 10252, 'CAT': 19347, 'CCA': 12126, 'CCC': 10388, 'CCG': 10384, 'CCT': 11992, 'CGA': 12222, 'CGC': 10209, 'CGG': 10280, 'CGT': 12054, 'CTA': 16890, 'CTC': 10243, 'CTG': 12640, 'CTT': 12057, 'GAA': 16984, 'GAC': 15120, 'GAG': 15217, 'GAT': 24630, 'GCA': 14547, 'GCC': 12523, 'GCG': 12495, 'GCT': 14687, 'GGA': 14157, 'GGC': 12520, 'GGG': 12512, 'GGT': 14928, 'GTA': 20761, 'GTC': 12606, 'GTG': 15760, 'GTT': 14838, 'TAA': 22738, 'TAC': 10256, 'TAG': 21082, 'TAT': 19407, 'TCA': 11799, 'TCC': 10272, 'TCG': 10379, 'TCT': 12132, 'TGA': 29762, 'TGC': 17568, 'TGG': 17580, 'TGT': 21276, 'TTA': 17171, 'TTC': 10273, 'TTG': 12761, 'TTT': 12246}\n",
      "Frequency:\n",
      " {'A': 0.276326171875, 'C': 0.2036630859375, 'G': 0.2545595703125, 'T': 0.265451171875, 'AA': 0.07017137096774194, 'AC': 0.05223991935483871, 'AG': 0.06295362903225807, 'AT': 0.09126612903225806, 'CA': 0.05437802419354839, 'CC': 0.047101814516129034, 'CG': 0.04699697580645161, 'CT': 0.054106854838709674, 'GA': 0.07489415322580645, 'GC': 0.05659375, 'GG': 0.056619959677419354, 'GT': 0.0664546370967742, 'TA': 0.07597379032258064, 'TC': 0.04682358870967742, 'TG': 0.0887116935483871, 'TT': 0.054713709677419356, 'AAA': 0.016236458333333332, 'AAC': 0.014982291666666666, 'AAG': 0.014675, 'AAT': 0.024034375, 'ACA': 0.013896875, 'ACC': 0.012255208333333333, 'ACG': 0.012126041666666667, 'ACT': 0.013622916666666667, 'AGA': 0.016686458333333334, 'AGC': 0.01470625, 'AGG': 0.014645833333333334, 'AGT': 0.01649166666666667, 'ATA': 0.019209375, 'ATC': 0.012045833333333334, 'ATG': 0.04696458333333333, 'ATT': 0.013898958333333333, 'CAA': 0.012695833333333333, 'CAC': 0.010752083333333334, 'CAG': 0.010679166666666667, 'CAT': 0.020153125, 'CCA': 0.01263125, 'CCC': 0.010820833333333333, 'CCG': 0.010816666666666667, 'CCT': 0.012491666666666667, 'CGA': 0.01273125, 'CGC': 0.010634375, 'CGG': 0.010708333333333334, 'CGT': 0.01255625, 'CTA': 0.01759375, 'CTC': 0.010669791666666666, 'CTG': 0.013166666666666667, 'CTT': 0.012559375, 'GAA': 0.017691666666666668, 'GAC': 0.01575, 'GAG': 0.015851041666666666, 'GAT': 0.02565625, 'GCA': 0.015153125, 'GCC': 0.013044791666666666, 'GCG': 0.013015625, 'GCT': 0.015298958333333333, 'GGA': 0.014746875, 'GGC': 0.013041666666666667, 'GGG': 0.013033333333333333, 'GGT': 0.01555, 'GTA': 0.021626041666666665, 'GTC': 0.01313125, 'GTG': 0.016416666666666666, 'GTT': 0.01545625, 'TAA': 0.023685416666666667, 'TAC': 0.010683333333333333, 'TAG': 0.021960416666666666, 'TAT': 0.020215625, 'TCA': 0.012290625, 'TCC': 0.0107, 'TCG': 0.010811458333333333, 'TCT': 0.0126375, 'TGA': 0.031002083333333333, 'TGC': 0.0183, 'TGG': 0.0183125, 'TGT': 0.0221625, 'TTA': 0.017886458333333334, 'TTC': 0.010701041666666666, 'TTG': 0.013292708333333333, 'TTT': 0.01275625}\n"
     ]
    }
   ],
   "source": [
    "nc_counts = make_dict_upto_K(MAX_K)\n",
    "for sample in nc_all:\n",
    "    update_count_one_K(nc_counts,MAX_K,sample,True)\n",
    "harvest_counts_from_K(nc_counts,MAX_K)\n",
    "print(\"NC counts:\\n\",nc_counts)\n",
    "nc_freqs = count_to_frequency(nc_counts,MAX_K)\n",
    "print (\"Frequency:\\n\",nc_freqs)"
   ]
  },
  {
   "cell_type": "code",
   "execution_count": null,
   "metadata": {},
   "outputs": [],
   "source": []
  }
 ],
 "metadata": {
  "accelerator": "GPU",
  "colab": {
   "collapsed_sections": [],
   "name": "MLP_205.ipynb",
   "provenance": [],
   "toc_visible": true
  },
  "kernelspec": {
   "display_name": "Python 3",
   "language": "python",
   "name": "python3"
  },
  "language_info": {
   "codemirror_mode": {
    "name": "ipython",
    "version": 3
   },
   "file_extension": ".py",
   "mimetype": "text/x-python",
   "name": "python",
   "nbconvert_exporter": "python",
   "pygments_lexer": "ipython3",
   "version": "3.8.3"
  }
 },
 "nbformat": 4,
 "nbformat_minor": 1
}
