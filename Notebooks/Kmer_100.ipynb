{
 "cells": [
  {
   "cell_type": "markdown",
   "metadata": {
    "id": "ojm_6E9f9Kcf"
   },
   "source": [
    "# K-mer \n",
    "Basic K-mer counting."
   ]
  },
  {
   "cell_type": "code",
   "execution_count": 1,
   "metadata": {},
   "outputs": [
    {
     "name": "stdout",
     "output_type": "stream",
     "text": [
      "2021-07-06 15:57:08 EDT\n"
     ]
    }
   ],
   "source": [
    "import time\n",
    "def show_time():\n",
    "    t = time.time()\n",
    "    print(time.strftime('%Y-%m-%d %H:%M:%S %Z', time.localtime(t)))\n",
    "show_time()"
   ]
  },
  {
   "cell_type": "code",
   "execution_count": 2,
   "metadata": {},
   "outputs": [],
   "source": [
    "PC_SEQUENCES=32000\n",
    "NC_SEQUENCES=32000\n",
    "RNA_LEN=32\n",
    "CDS_LEN=16"
   ]
  },
  {
   "cell_type": "code",
   "execution_count": 3,
   "metadata": {
    "id": "VQY7aTj29Kch"
   },
   "outputs": [],
   "source": [
    "import numpy as np\n",
    "import pandas as pd\n",
    "import matplotlib.pyplot as plt\n"
   ]
  },
  {
   "cell_type": "code",
   "execution_count": 4,
   "metadata": {},
   "outputs": [
    {
     "name": "stdout",
     "output_type": "stream",
     "text": [
      "CoLab not working. On my PC, use relative paths.\n"
     ]
    }
   ],
   "source": [
    "import sys\n",
    "IN_COLAB = False\n",
    "try:\n",
    "    from google.colab import drive\n",
    "    IN_COLAB = True\n",
    "except:\n",
    "    pass\n",
    "if IN_COLAB:\n",
    "    print(\"On Google CoLab, mount cloud-local file, get our code from GitHub.\")\n",
    "    PATH='/content/drive/'\n",
    "    #drive.mount(PATH,force_remount=True)  # hardly ever need this\n",
    "    #drive.mount(PATH)    # Google will require login credentials\n",
    "    DATAPATH=PATH+'My Drive/data/'  # must end in \"/\"\n",
    "    import requests\n",
    "    r = requests.get('https://raw.githubusercontent.com/ShepherdCode/Soars2021/master/SimTools/RNA_describe.py')\n",
    "    with open('RNA_describe.py', 'w') as f:\n",
    "        f.write(r.text)  \n",
    "    from RNA_describe import ORF_counter\n",
    "    from RNA_describe import Random_Base_Oracle\n",
    "else:\n",
    "        print(\"CoLab not working. On my PC, use relative paths.\")\n",
    "        DATAPATH='data/'  # must end in \"/\"\n",
    "        sys.path.append(\"..\") # append parent dir in order to use sibling dirs\n",
    "        from SimTools.RNA_describe import ORF_counter,Random_Base_Oracle\n",
    "MODELPATH=\"BestModel\"  # saved on cloud instance and lost after logout\n",
    "#MODELPATH=DATAPATH+MODELPATH  # saved on Google Drive but requires login"
   ]
  },
  {
   "cell_type": "markdown",
   "metadata": {
    "id": "jN0K-1e2g4WN"
   },
   "source": [
    "## Sample data"
   ]
  },
  {
   "cell_type": "code",
   "execution_count": 5,
   "metadata": {
    "id": "E37va5UZg4WQ"
   },
   "outputs": [
    {
     "name": "stdout",
     "output_type": "stream",
     "text": [
      "It took 50 trials to reach 10 per class.\n",
      "It took 138262 trials to reach 32000 per class.\n",
      "Use 32000 PC seqs\n",
      "Use 32000 NC seqs\n"
     ]
    }
   ],
   "source": [
    "rbo=Random_Base_Oracle(RNA_LEN,True)\n",
    "pc_all,nc_all = rbo.get_partitioned_sequences(CDS_LEN,10) # just testing\n",
    "pc_all,nc_all = rbo.get_partitioned_sequences(CDS_LEN,PC_SEQUENCES)\n",
    "print(\"Use\",len(pc_all),\"PC seqs\")\n",
    "print(\"Use\",len(nc_all),\"NC seqs\")"
   ]
  },
  {
   "cell_type": "markdown",
   "metadata": {},
   "source": [
    "## K-mer counting"
   ]
  },
  {
   "cell_type": "markdown",
   "metadata": {},
   "source": [
    "### Functions to create the dict of {kmer:count}"
   ]
  },
  {
   "cell_type": "code",
   "execution_count": 6,
   "metadata": {},
   "outputs": [],
   "source": [
    "def make_kmer_keys(K):\n",
    "    shorter_kmers=['']\n",
    "    for i in range(K):\n",
    "        longer_kmers=[]\n",
    "        for mer in shorter_kmers:\n",
    "            # No support for N or any non-ACGT bases.\n",
    "            longer_kmers.append(mer+'A')\n",
    "            longer_kmers.append(mer+'C')\n",
    "            longer_kmers.append(mer+'G')\n",
    "            longer_kmers.append(mer+'T')\n",
    "        shorter_kmers = longer_kmers\n",
    "    return shorter_kmers\n",
    "def make_kmer_dict(keys,init=0):\n",
    "    return dict.fromkeys(keys,init)\n",
    "def make_dict_upto_K(max_K):\n",
    "    keys=make_kmer_keys(1)\n",
    "    for k in range(2,max_K+1):\n",
    "        keys.extend(make_kmer_keys(k))\n",
    "    counts = make_kmer_dict(keys)\n",
    "    return counts\n"
   ]
  },
  {
   "cell_type": "markdown",
   "metadata": {},
   "source": [
    "### Naive K-mer counting algorithm\n",
    "Algorithm:  \n",
    "1. for every string  \n",
    "    1. for every K  \n",
    "        1. for every position  \n",
    "            1. kmer=substring\n",
    "            2. count{kmer}++"
   ]
  },
  {
   "cell_type": "code",
   "execution_count": 7,
   "metadata": {},
   "outputs": [],
   "source": [
    "def update_count_one_K(counts,K,rna,tail=False):\n",
    "    L = len(rna)\n",
    "    padding=\" \"*(K-1)\n",
    "    padded=rna+padding\n",
    "    for i in range(0,L-K+1):\n",
    "        kmer=padded[i:i+K]\n",
    "        counts[kmer] += 1\n",
    "    if tail and K>1:  \n",
    "        # for Harvester algorithm, count last letters as special case\n",
    "        for start_pos in range(L-K+1,L):\n",
    "            for end_pos in range(start_pos+1,L+1):\n",
    "                kmer=rna[start_pos:end_pos]\n",
    "                counts[kmer] += 1\n",
    "    return counts\n",
    "def update_count_upto_K(counts,max_K,sample,tail=False):\n",
    "    for i in range(1,max_K+1):\n",
    "        update_count_one_K(counts,i,sample,tail)\n",
    "    return counts"
   ]
  },
  {
   "cell_type": "markdown",
   "metadata": {},
   "source": [
    "### Harvester K-mer counting algorithm\n",
    "Algorithm:  \n",
    "1. Count K-mers for max K only  \n",
    "2. For each K-mer in counts table:  \n",
    "    1. For every prefix of the K-mer:  \n",
    "        1. count{prefix} += count{kmer}  \n",
    "3. Handle last K-1 letters of each string as special case"
   ]
  },
  {
   "cell_type": "code",
   "execution_count": 8,
   "metadata": {},
   "outputs": [],
   "source": [
    "def harvest_counts_from_K(counts,max_K):\n",
    "    for kmer in counts.keys():\n",
    "        klen = len(kmer)\n",
    "        kcnt = counts[kmer]\n",
    "        if klen==max_K and kcnt>0:\n",
    "            for i in range(1,klen):\n",
    "                prefix = kmer[:i]\n",
    "                counts[prefix] += kcnt\n",
    "    return counts"
   ]
  },
  {
   "cell_type": "markdown",
   "metadata": {},
   "source": [
    "## Demo"
   ]
  },
  {
   "cell_type": "markdown",
   "metadata": {},
   "source": [
    "### Demo: Naive algorithm"
   ]
  },
  {
   "cell_type": "code",
   "execution_count": 13,
   "metadata": {},
   "outputs": [
    {
     "name": "stdout",
     "output_type": "stream",
     "text": [
      "Initial counts:\n",
      " {'A': 0, 'C': 0, 'G': 0, 'T': 0, 'AA': 0, 'AC': 0, 'AG': 0, 'AT': 0, 'CA': 0, 'CC': 0, 'CG': 0, 'CT': 0, 'GA': 0, 'GC': 0, 'GG': 0, 'GT': 0, 'TA': 0, 'TC': 0, 'TG': 0, 'TT': 0, 'AAA': 0, 'AAC': 0, 'AAG': 0, 'AAT': 0, 'ACA': 0, 'ACC': 0, 'ACG': 0, 'ACT': 0, 'AGA': 0, 'AGC': 0, 'AGG': 0, 'AGT': 0, 'ATA': 0, 'ATC': 0, 'ATG': 0, 'ATT': 0, 'CAA': 0, 'CAC': 0, 'CAG': 0, 'CAT': 0, 'CCA': 0, 'CCC': 0, 'CCG': 0, 'CCT': 0, 'CGA': 0, 'CGC': 0, 'CGG': 0, 'CGT': 0, 'CTA': 0, 'CTC': 0, 'CTG': 0, 'CTT': 0, 'GAA': 0, 'GAC': 0, 'GAG': 0, 'GAT': 0, 'GCA': 0, 'GCC': 0, 'GCG': 0, 'GCT': 0, 'GGA': 0, 'GGC': 0, 'GGG': 0, 'GGT': 0, 'GTA': 0, 'GTC': 0, 'GTG': 0, 'GTT': 0, 'TAA': 0, 'TAC': 0, 'TAG': 0, 'TAT': 0, 'TCA': 0, 'TCC': 0, 'TCG': 0, 'TCT': 0, 'TGA': 0, 'TGC': 0, 'TGG': 0, 'TGT': 0, 'TTA': 0, 'TTC': 0, 'TTG': 0, 'TTT': 0}\n",
      "Final counts:\n",
      " {'A': 3, 'C': 4, 'G': 5, 'T': 6, 'AA': 0, 'AC': 3, 'AG': 0, 'AT': 0, 'CA': 0, 'CC': 1, 'CG': 3, 'CT': 0, 'GA': 0, 'GC': 0, 'GG': 2, 'GT': 3, 'TA': 2, 'TC': 0, 'TG': 0, 'TT': 3, 'AAA': 0, 'AAC': 0, 'AAG': 0, 'AAT': 0, 'ACA': 0, 'ACC': 1, 'ACG': 2, 'ACT': 0, 'AGA': 0, 'AGC': 0, 'AGG': 0, 'AGT': 0, 'ATA': 0, 'ATC': 0, 'ATG': 0, 'ATT': 0, 'CAA': 0, 'CAC': 0, 'CAG': 0, 'CAT': 0, 'CCA': 0, 'CCC': 0, 'CCG': 1, 'CCT': 0, 'CGA': 0, 'CGC': 0, 'CGG': 1, 'CGT': 2, 'CTA': 0, 'CTC': 0, 'CTG': 0, 'CTT': 0, 'GAA': 0, 'GAC': 0, 'GAG': 0, 'GAT': 0, 'GCA': 0, 'GCC': 0, 'GCG': 0, 'GCT': 0, 'GGA': 0, 'GGC': 0, 'GGG': 1, 'GGT': 1, 'GTA': 1, 'GTC': 0, 'GTG': 0, 'GTT': 1, 'TAA': 0, 'TAC': 2, 'TAG': 0, 'TAT': 0, 'TCA': 0, 'TCC': 0, 'TCG': 0, 'TCT': 0, 'TGA': 0, 'TGC': 0, 'TGG': 0, 'TGT': 0, 'TTA': 1, 'TTC': 0, 'TTG': 0, 'TTT': 2}\n"
     ]
    }
   ],
   "source": [
    "MAX_K = 3\n",
    "counts1 = make_dict_upto_K(MAX_K)\n",
    "print(\"Initial counts:\\n\",counts1)\n",
    "\n",
    "sample = \"ACCGGGTTTTACGTACGT\"\n",
    "update_count_upto_K(counts1,MAX_K,sample)\n",
    "print(\"Final counts:\\n\",counts1)"
   ]
  },
  {
   "cell_type": "markdown",
   "metadata": {},
   "source": [
    "### Demo: Harvester algorithm"
   ]
  },
  {
   "cell_type": "code",
   "execution_count": 16,
   "metadata": {},
   "outputs": [
    {
     "name": "stdout",
     "output_type": "stream",
     "text": [
      "Initial counts:\n",
      " {'A': 0, 'C': 0, 'G': 0, 'T': 0, 'AA': 0, 'AC': 0, 'AG': 0, 'AT': 0, 'CA': 0, 'CC': 0, 'CG': 0, 'CT': 0, 'GA': 0, 'GC': 0, 'GG': 0, 'GT': 0, 'TA': 0, 'TC': 0, 'TG': 0, 'TT': 0, 'AAA': 0, 'AAC': 0, 'AAG': 0, 'AAT': 0, 'ACA': 0, 'ACC': 0, 'ACG': 0, 'ACT': 0, 'AGA': 0, 'AGC': 0, 'AGG': 0, 'AGT': 0, 'ATA': 0, 'ATC': 0, 'ATG': 0, 'ATT': 0, 'CAA': 0, 'CAC': 0, 'CAG': 0, 'CAT': 0, 'CCA': 0, 'CCC': 0, 'CCG': 0, 'CCT': 0, 'CGA': 0, 'CGC': 0, 'CGG': 0, 'CGT': 0, 'CTA': 0, 'CTC': 0, 'CTG': 0, 'CTT': 0, 'GAA': 0, 'GAC': 0, 'GAG': 0, 'GAT': 0, 'GCA': 0, 'GCC': 0, 'GCG': 0, 'GCT': 0, 'GGA': 0, 'GGC': 0, 'GGG': 0, 'GGT': 0, 'GTA': 0, 'GTC': 0, 'GTG': 0, 'GTT': 0, 'TAA': 0, 'TAC': 0, 'TAG': 0, 'TAT': 0, 'TCA': 0, 'TCC': 0, 'TCG': 0, 'TCT': 0, 'TGA': 0, 'TGC': 0, 'TGG': 0, 'TGT': 0, 'TTA': 0, 'TTC': 0, 'TTG': 0, 'TTT': 0}\n",
      "Partial counts (just max K and special case letters)\n",
      ": {'A': 0, 'C': 0, 'G': 1, 'T': 1, 'AA': 0, 'AC': 0, 'AG': 0, 'AT': 0, 'CA': 0, 'CC': 0, 'CG': 0, 'CT': 0, 'GA': 0, 'GC': 0, 'GG': 0, 'GT': 1, 'TA': 0, 'TC': 0, 'TG': 0, 'TT': 0, 'AAA': 0, 'AAC': 0, 'AAG': 0, 'AAT': 0, 'ACA': 0, 'ACC': 1, 'ACG': 2, 'ACT': 0, 'AGA': 0, 'AGC': 0, 'AGG': 0, 'AGT': 0, 'ATA': 0, 'ATC': 0, 'ATG': 0, 'ATT': 0, 'CAA': 0, 'CAC': 0, 'CAG': 0, 'CAT': 0, 'CCA': 0, 'CCC': 0, 'CCG': 1, 'CCT': 0, 'CGA': 0, 'CGC': 0, 'CGG': 1, 'CGT': 2, 'CTA': 0, 'CTC': 0, 'CTG': 0, 'CTT': 0, 'GAA': 0, 'GAC': 0, 'GAG': 0, 'GAT': 0, 'GCA': 0, 'GCC': 0, 'GCG': 0, 'GCT': 0, 'GGA': 0, 'GGC': 0, 'GGG': 1, 'GGT': 1, 'GTA': 1, 'GTC': 0, 'GTG': 0, 'GTT': 1, 'TAA': 0, 'TAC': 2, 'TAG': 0, 'TAT': 0, 'TCA': 0, 'TCC': 0, 'TCG': 0, 'TCT': 0, 'TGA': 0, 'TGC': 0, 'TGG': 0, 'TGT': 0, 'TTA': 1, 'TTC': 0, 'TTG': 0, 'TTT': 2}\n",
      "Final counts (includes smaller values of K):\n",
      " {'A': 3, 'C': 4, 'G': 5, 'T': 6, 'AA': 0, 'AC': 3, 'AG': 0, 'AT': 0, 'CA': 0, 'CC': 1, 'CG': 3, 'CT': 0, 'GA': 0, 'GC': 0, 'GG': 2, 'GT': 3, 'TA': 2, 'TC': 0, 'TG': 0, 'TT': 3, 'AAA': 0, 'AAC': 0, 'AAG': 0, 'AAT': 0, 'ACA': 0, 'ACC': 1, 'ACG': 2, 'ACT': 0, 'AGA': 0, 'AGC': 0, 'AGG': 0, 'AGT': 0, 'ATA': 0, 'ATC': 0, 'ATG': 0, 'ATT': 0, 'CAA': 0, 'CAC': 0, 'CAG': 0, 'CAT': 0, 'CCA': 0, 'CCC': 0, 'CCG': 1, 'CCT': 0, 'CGA': 0, 'CGC': 0, 'CGG': 1, 'CGT': 2, 'CTA': 0, 'CTC': 0, 'CTG': 0, 'CTT': 0, 'GAA': 0, 'GAC': 0, 'GAG': 0, 'GAT': 0, 'GCA': 0, 'GCC': 0, 'GCG': 0, 'GCT': 0, 'GGA': 0, 'GGC': 0, 'GGG': 1, 'GGT': 1, 'GTA': 1, 'GTC': 0, 'GTG': 0, 'GTT': 1, 'TAA': 0, 'TAC': 2, 'TAG': 0, 'TAT': 0, 'TCA': 0, 'TCC': 0, 'TCG': 0, 'TCT': 0, 'TGA': 0, 'TGC': 0, 'TGG': 0, 'TGT': 0, 'TTA': 1, 'TTC': 0, 'TTG': 0, 'TTT': 2}\n"
     ]
    }
   ],
   "source": [
    "MAX_K = 3\n",
    "counts2 = make_dict_upto_K(MAX_K)\n",
    "print(\"Initial counts:\\n\",counts2)\n",
    "\n",
    "sample = \"ACCGGGTTTTACGTACGT\"\n",
    "update_count_one_K(counts2,MAX_K,sample,True)\n",
    "print(\"Partial counts (just max K and special case letters)\\n:\",counts2)\n",
    "harvest_counts_from_K(counts2,MAX_K)\n",
    "print(\"Final counts (includes smaller values of K):\\n\",counts2)\n"
   ]
  },
  {
   "cell_type": "code",
   "execution_count": 12,
   "metadata": {},
   "outputs": [
    {
     "name": "stdout",
     "output_type": "stream",
     "text": [
      "Success. Harvester output matches naive results!\n"
     ]
    }
   ],
   "source": [
    "if counts1==counts2:\n",
    "    print(\"Success. Harvester output matches naive results!\")\n",
    "else:\n",
    "    print(\"Fail. Harvester output differs from naive results!\")"
   ]
  },
  {
   "cell_type": "code",
   "execution_count": null,
   "metadata": {},
   "outputs": [],
   "source": []
  }
 ],
 "metadata": {
  "accelerator": "GPU",
  "colab": {
   "collapsed_sections": [],
   "name": "MLP_205.ipynb",
   "provenance": [],
   "toc_visible": true
  },
  "kernelspec": {
   "display_name": "Python 3",
   "language": "python",
   "name": "python3"
  },
  "language_info": {
   "codemirror_mode": {
    "name": "ipython",
    "version": 3
   },
   "file_extension": ".py",
   "mimetype": "text/x-python",
   "name": "python",
   "nbconvert_exporter": "python",
   "pygments_lexer": "ipython3",
   "version": "3.8.3"
  }
 },
 "nbformat": 4,
 "nbformat_minor": 1
}
