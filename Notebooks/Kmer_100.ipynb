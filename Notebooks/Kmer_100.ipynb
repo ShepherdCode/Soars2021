{
 "cells": [
  {
   "cell_type": "markdown",
   "metadata": {
    "id": "ojm_6E9f9Kcf"
   },
   "source": [
    "# K-mer \n",
    "Basic K-mer counting."
   ]
  },
  {
   "cell_type": "code",
   "execution_count": 1,
   "metadata": {},
   "outputs": [
    {
     "name": "stdout",
     "output_type": "stream",
     "text": [
      "2021-07-07 11:39:43 EDT\n"
     ]
    }
   ],
   "source": [
    "import time\n",
    "def show_time():\n",
    "    t = time.time()\n",
    "    print(time.strftime('%Y-%m-%d %H:%M:%S %Z', time.localtime(t)))\n",
    "show_time()"
   ]
  },
  {
   "cell_type": "code",
   "execution_count": 2,
   "metadata": {},
   "outputs": [],
   "source": [
    "PC_SEQUENCES=32000\n",
    "NC_SEQUENCES=32000\n",
    "RNA_LEN=32\n",
    "CDS_LEN=16"
   ]
  },
  {
   "cell_type": "code",
   "execution_count": 3,
   "metadata": {
    "id": "VQY7aTj29Kch"
   },
   "outputs": [],
   "source": [
    "import numpy as np\n",
    "import pandas as pd\n",
    "import matplotlib.pyplot as plt\n"
   ]
  },
  {
   "cell_type": "code",
   "execution_count": 4,
   "metadata": {},
   "outputs": [
    {
     "name": "stdout",
     "output_type": "stream",
     "text": [
      "CoLab not working. On my PC, use relative paths.\n"
     ]
    }
   ],
   "source": [
    "import sys\n",
    "IN_COLAB = False\n",
    "try:\n",
    "    from google.colab import drive\n",
    "    IN_COLAB = True\n",
    "except:\n",
    "    pass\n",
    "if IN_COLAB:\n",
    "    print(\"On Google CoLab, mount cloud-local file, get our code from GitHub.\")\n",
    "    PATH='/content/drive/'\n",
    "    #drive.mount(PATH,force_remount=True)  # hardly ever need this\n",
    "    #drive.mount(PATH)    # Google will require login credentials\n",
    "    DATAPATH=PATH+'My Drive/data/'  # must end in \"/\"\n",
    "    import requests\n",
    "    r = requests.get('https://raw.githubusercontent.com/ShepherdCode/Soars2021/master/SimTools/RNA_describe.py')\n",
    "    with open('RNA_describe.py', 'w') as f:\n",
    "        f.write(r.text)  \n",
    "    from RNA_describe import Random_Base_Oracle\n",
    "else:\n",
    "        print(\"CoLab not working. On my PC, use relative paths.\")\n",
    "        DATAPATH='data/'  # must end in \"/\"\n",
    "        sys.path.append(\"..\") # append parent dir in order to use sibling dirs\n",
    "        from SimTools.RNA_describe import Random_Base_Oracle\n",
    "MODELPATH=\"BestModel\"  # saved on cloud instance and lost after logout\n",
    "#MODELPATH=DATAPATH+MODELPATH  # saved on Google Drive but requires login"
   ]
  },
  {
   "cell_type": "markdown",
   "metadata": {},
   "source": [
    "## K-mer counting"
   ]
  },
  {
   "cell_type": "markdown",
   "metadata": {},
   "source": [
    "### Functions to create the dict of {kmer:count}"
   ]
  },
  {
   "cell_type": "code",
   "execution_count": 5,
   "metadata": {},
   "outputs": [],
   "source": [
    "def make_kmer_keys(K):\n",
    "    shorter_kmers=['']\n",
    "    for i in range(K):\n",
    "        longer_kmers=[]\n",
    "        for mer in shorter_kmers:\n",
    "            # No support for N or any non-ACGT bases.\n",
    "            longer_kmers.append(mer+'A')\n",
    "            longer_kmers.append(mer+'C')\n",
    "            longer_kmers.append(mer+'G')\n",
    "            longer_kmers.append(mer+'T')\n",
    "        shorter_kmers = longer_kmers\n",
    "    return shorter_kmers\n",
    "def make_kmer_dict(keys,init=0):\n",
    "    return dict.fromkeys(keys,init)\n",
    "def make_dict_upto_K(max_K):\n",
    "    keys=make_kmer_keys(1)\n",
    "    for k in range(2,max_K+1):\n",
    "        keys.extend(make_kmer_keys(k))\n",
    "    counts = make_kmer_dict(keys)\n",
    "    return counts\n"
   ]
  },
  {
   "cell_type": "markdown",
   "metadata": {},
   "source": [
    "### Naive K-mer counting algorithm\n",
    "Algorithm:  \n",
    "1. for every string  \n",
    "    1. for every K  \n",
    "        1. for every position  \n",
    "            1. kmer=substring\n",
    "            2. count{kmer}++"
   ]
  },
  {
   "cell_type": "code",
   "execution_count": 6,
   "metadata": {},
   "outputs": [],
   "source": [
    "def update_count_one_K(counts,K,rna,tail=False):\n",
    "    L = len(rna)\n",
    "    padding=\" \"*(K-1)\n",
    "    padded=rna+padding\n",
    "    for i in range(0,L-K+1):\n",
    "        kmer=padded[i:i+K]\n",
    "        counts[kmer] += 1\n",
    "    if tail and K>1:  \n",
    "        # for Harvester algorithm, count last letters as special case\n",
    "        for start_pos in range(L-K+1,L):\n",
    "            for end_pos in range(start_pos+1,L+1):\n",
    "                kmer=rna[start_pos:end_pos]\n",
    "                counts[kmer] += 1\n",
    "    return counts\n",
    "def update_count_upto_K(counts,max_K,sample,tail=False):\n",
    "    for i in range(1,max_K+1):\n",
    "        update_count_one_K(counts,i,sample,tail)\n",
    "    return counts"
   ]
  },
  {
   "cell_type": "markdown",
   "metadata": {},
   "source": [
    "### Harvester K-mer counting algorithm\n",
    "Algorithm:  \n",
    "1. Count K-mers for max K only  \n",
    "2. For each K-mer in counts table:  \n",
    "    1. For every prefix of the K-mer:  \n",
    "        1. count{prefix} += count{kmer}  \n",
    "3. Handle last K-1 letters of each string as special case"
   ]
  },
  {
   "cell_type": "code",
   "execution_count": 7,
   "metadata": {},
   "outputs": [],
   "source": [
    "def harvest_counts_from_K(counts,max_K):\n",
    "    for kmer in counts.keys():\n",
    "        klen = len(kmer)\n",
    "        kcnt = counts[kmer]\n",
    "        if klen==max_K and kcnt>0:\n",
    "            for i in range(1,klen):\n",
    "                prefix = kmer[:i]\n",
    "                counts[prefix] += kcnt\n",
    "    return counts"
   ]
  },
  {
   "cell_type": "code",
   "execution_count": 8,
   "metadata": {},
   "outputs": [],
   "source": [
    "def count_to_frequency(counts,max_K):\n",
    "    freqs = dict.fromkeys(counts.keys(),0.0)\n",
    "    for k in range(1,max_K+1):\n",
    "        tot = 0\n",
    "        for kmer in counts.keys():\n",
    "            if len(kmer)==k:\n",
    "                tot += counts[kmer]\n",
    "        for kmer in counts.keys():\n",
    "            if len(kmer)==k:\n",
    "                freqs[kmer] = 1.0*counts[kmer]/tot\n",
    "    return freqs"
   ]
  },
  {
   "cell_type": "markdown",
   "metadata": {},
   "source": [
    "## Demo"
   ]
  },
  {
   "cell_type": "markdown",
   "metadata": {},
   "source": [
    "### Demo: Naive algorithm"
   ]
  },
  {
   "cell_type": "code",
   "execution_count": 9,
   "metadata": {},
   "outputs": [
    {
     "name": "stdout",
     "output_type": "stream",
     "text": [
      "Initial counts:\n",
      " {'A': 0, 'C': 0, 'G': 0, 'T': 0, 'AA': 0, 'AC': 0, 'AG': 0, 'AT': 0, 'CA': 0, 'CC': 0, 'CG': 0, 'CT': 0, 'GA': 0, 'GC': 0, 'GG': 0, 'GT': 0, 'TA': 0, 'TC': 0, 'TG': 0, 'TT': 0, 'AAA': 0, 'AAC': 0, 'AAG': 0, 'AAT': 0, 'ACA': 0, 'ACC': 0, 'ACG': 0, 'ACT': 0, 'AGA': 0, 'AGC': 0, 'AGG': 0, 'AGT': 0, 'ATA': 0, 'ATC': 0, 'ATG': 0, 'ATT': 0, 'CAA': 0, 'CAC': 0, 'CAG': 0, 'CAT': 0, 'CCA': 0, 'CCC': 0, 'CCG': 0, 'CCT': 0, 'CGA': 0, 'CGC': 0, 'CGG': 0, 'CGT': 0, 'CTA': 0, 'CTC': 0, 'CTG': 0, 'CTT': 0, 'GAA': 0, 'GAC': 0, 'GAG': 0, 'GAT': 0, 'GCA': 0, 'GCC': 0, 'GCG': 0, 'GCT': 0, 'GGA': 0, 'GGC': 0, 'GGG': 0, 'GGT': 0, 'GTA': 0, 'GTC': 0, 'GTG': 0, 'GTT': 0, 'TAA': 0, 'TAC': 0, 'TAG': 0, 'TAT': 0, 'TCA': 0, 'TCC': 0, 'TCG': 0, 'TCT': 0, 'TGA': 0, 'TGC': 0, 'TGG': 0, 'TGT': 0, 'TTA': 0, 'TTC': 0, 'TTG': 0, 'TTT': 0}\n",
      "Final counts:\n",
      " {'A': 3, 'C': 4, 'G': 5, 'T': 6, 'AA': 0, 'AC': 3, 'AG': 0, 'AT': 0, 'CA': 0, 'CC': 1, 'CG': 3, 'CT': 0, 'GA': 0, 'GC': 0, 'GG': 2, 'GT': 3, 'TA': 2, 'TC': 0, 'TG': 0, 'TT': 3, 'AAA': 0, 'AAC': 0, 'AAG': 0, 'AAT': 0, 'ACA': 0, 'ACC': 1, 'ACG': 2, 'ACT': 0, 'AGA': 0, 'AGC': 0, 'AGG': 0, 'AGT': 0, 'ATA': 0, 'ATC': 0, 'ATG': 0, 'ATT': 0, 'CAA': 0, 'CAC': 0, 'CAG': 0, 'CAT': 0, 'CCA': 0, 'CCC': 0, 'CCG': 1, 'CCT': 0, 'CGA': 0, 'CGC': 0, 'CGG': 1, 'CGT': 2, 'CTA': 0, 'CTC': 0, 'CTG': 0, 'CTT': 0, 'GAA': 0, 'GAC': 0, 'GAG': 0, 'GAT': 0, 'GCA': 0, 'GCC': 0, 'GCG': 0, 'GCT': 0, 'GGA': 0, 'GGC': 0, 'GGG': 1, 'GGT': 1, 'GTA': 1, 'GTC': 0, 'GTG': 0, 'GTT': 1, 'TAA': 0, 'TAC': 2, 'TAG': 0, 'TAT': 0, 'TCA': 0, 'TCC': 0, 'TCG': 0, 'TCT': 0, 'TGA': 0, 'TGC': 0, 'TGG': 0, 'TGT': 0, 'TTA': 1, 'TTC': 0, 'TTG': 0, 'TTT': 2}\n"
     ]
    }
   ],
   "source": [
    "MAX_K = 3\n",
    "counts1 = make_dict_upto_K(MAX_K)\n",
    "print(\"Initial counts:\\n\",counts1)\n",
    "\n",
    "sample = \"ACCGGGTTTTACGTACGT\"\n",
    "update_count_upto_K(counts1,MAX_K,sample)\n",
    "print(\"Final counts:\\n\",counts1)"
   ]
  },
  {
   "cell_type": "markdown",
   "metadata": {},
   "source": [
    "### Demo: Harvester algorithm"
   ]
  },
  {
   "cell_type": "code",
   "execution_count": 10,
   "metadata": {},
   "outputs": [
    {
     "name": "stdout",
     "output_type": "stream",
     "text": [
      "Initial counts:\n",
      " {'A': 0, 'C': 0, 'G': 0, 'T': 0, 'AA': 0, 'AC': 0, 'AG': 0, 'AT': 0, 'CA': 0, 'CC': 0, 'CG': 0, 'CT': 0, 'GA': 0, 'GC': 0, 'GG': 0, 'GT': 0, 'TA': 0, 'TC': 0, 'TG': 0, 'TT': 0, 'AAA': 0, 'AAC': 0, 'AAG': 0, 'AAT': 0, 'ACA': 0, 'ACC': 0, 'ACG': 0, 'ACT': 0, 'AGA': 0, 'AGC': 0, 'AGG': 0, 'AGT': 0, 'ATA': 0, 'ATC': 0, 'ATG': 0, 'ATT': 0, 'CAA': 0, 'CAC': 0, 'CAG': 0, 'CAT': 0, 'CCA': 0, 'CCC': 0, 'CCG': 0, 'CCT': 0, 'CGA': 0, 'CGC': 0, 'CGG': 0, 'CGT': 0, 'CTA': 0, 'CTC': 0, 'CTG': 0, 'CTT': 0, 'GAA': 0, 'GAC': 0, 'GAG': 0, 'GAT': 0, 'GCA': 0, 'GCC': 0, 'GCG': 0, 'GCT': 0, 'GGA': 0, 'GGC': 0, 'GGG': 0, 'GGT': 0, 'GTA': 0, 'GTC': 0, 'GTG': 0, 'GTT': 0, 'TAA': 0, 'TAC': 0, 'TAG': 0, 'TAT': 0, 'TCA': 0, 'TCC': 0, 'TCG': 0, 'TCT': 0, 'TGA': 0, 'TGC': 0, 'TGG': 0, 'TGT': 0, 'TTA': 0, 'TTC': 0, 'TTG': 0, 'TTT': 0}\n",
      "Partial counts (just max K and special case letters)\n",
      ": {'A': 0, 'C': 0, 'G': 1, 'T': 1, 'AA': 0, 'AC': 0, 'AG': 0, 'AT': 0, 'CA': 0, 'CC': 0, 'CG': 0, 'CT': 0, 'GA': 0, 'GC': 0, 'GG': 0, 'GT': 1, 'TA': 0, 'TC': 0, 'TG': 0, 'TT': 0, 'AAA': 0, 'AAC': 0, 'AAG': 0, 'AAT': 0, 'ACA': 0, 'ACC': 1, 'ACG': 2, 'ACT': 0, 'AGA': 0, 'AGC': 0, 'AGG': 0, 'AGT': 0, 'ATA': 0, 'ATC': 0, 'ATG': 0, 'ATT': 0, 'CAA': 0, 'CAC': 0, 'CAG': 0, 'CAT': 0, 'CCA': 0, 'CCC': 0, 'CCG': 1, 'CCT': 0, 'CGA': 0, 'CGC': 0, 'CGG': 1, 'CGT': 2, 'CTA': 0, 'CTC': 0, 'CTG': 0, 'CTT': 0, 'GAA': 0, 'GAC': 0, 'GAG': 0, 'GAT': 0, 'GCA': 0, 'GCC': 0, 'GCG': 0, 'GCT': 0, 'GGA': 0, 'GGC': 0, 'GGG': 1, 'GGT': 1, 'GTA': 1, 'GTC': 0, 'GTG': 0, 'GTT': 1, 'TAA': 0, 'TAC': 2, 'TAG': 0, 'TAT': 0, 'TCA': 0, 'TCC': 0, 'TCG': 0, 'TCT': 0, 'TGA': 0, 'TGC': 0, 'TGG': 0, 'TGT': 0, 'TTA': 1, 'TTC': 0, 'TTG': 0, 'TTT': 2}\n",
      "Final counts (includes smaller values of K):\n",
      " {'A': 3, 'C': 4, 'G': 5, 'T': 6, 'AA': 0, 'AC': 3, 'AG': 0, 'AT': 0, 'CA': 0, 'CC': 1, 'CG': 3, 'CT': 0, 'GA': 0, 'GC': 0, 'GG': 2, 'GT': 3, 'TA': 2, 'TC': 0, 'TG': 0, 'TT': 3, 'AAA': 0, 'AAC': 0, 'AAG': 0, 'AAT': 0, 'ACA': 0, 'ACC': 1, 'ACG': 2, 'ACT': 0, 'AGA': 0, 'AGC': 0, 'AGG': 0, 'AGT': 0, 'ATA': 0, 'ATC': 0, 'ATG': 0, 'ATT': 0, 'CAA': 0, 'CAC': 0, 'CAG': 0, 'CAT': 0, 'CCA': 0, 'CCC': 0, 'CCG': 1, 'CCT': 0, 'CGA': 0, 'CGC': 0, 'CGG': 1, 'CGT': 2, 'CTA': 0, 'CTC': 0, 'CTG': 0, 'CTT': 0, 'GAA': 0, 'GAC': 0, 'GAG': 0, 'GAT': 0, 'GCA': 0, 'GCC': 0, 'GCG': 0, 'GCT': 0, 'GGA': 0, 'GGC': 0, 'GGG': 1, 'GGT': 1, 'GTA': 1, 'GTC': 0, 'GTG': 0, 'GTT': 1, 'TAA': 0, 'TAC': 2, 'TAG': 0, 'TAT': 0, 'TCA': 0, 'TCC': 0, 'TCG': 0, 'TCT': 0, 'TGA': 0, 'TGC': 0, 'TGG': 0, 'TGT': 0, 'TTA': 1, 'TTC': 0, 'TTG': 0, 'TTT': 2}\n"
     ]
    }
   ],
   "source": [
    "MAX_K = 3\n",
    "counts2 = make_dict_upto_K(MAX_K)\n",
    "print(\"Initial counts:\\n\",counts2)\n",
    "\n",
    "sample = \"ACCGGGTTTTACGTACGT\"\n",
    "update_count_one_K(counts2,MAX_K,sample,True)\n",
    "print(\"Partial counts (just max K and special case letters)\\n:\",counts2)\n",
    "harvest_counts_from_K(counts2,MAX_K)\n",
    "print(\"Final counts (includes smaller values of K):\\n\",counts2)\n"
   ]
  },
  {
   "cell_type": "code",
   "execution_count": 11,
   "metadata": {},
   "outputs": [
    {
     "name": "stdout",
     "output_type": "stream",
     "text": [
      "Success. Harvester output matches naive results!\n"
     ]
    }
   ],
   "source": [
    "if counts1==counts2:\n",
    "    print(\"Success. Harvester output matches naive results!\")\n",
    "else:\n",
    "    print(\"Fail. Harvester output differs from naive results!\")"
   ]
  },
  {
   "cell_type": "code",
   "execution_count": 12,
   "metadata": {},
   "outputs": [
    {
     "name": "stdout",
     "output_type": "stream",
     "text": [
      "Frequency:\n",
      " {'A': 0.16666666666666666, 'C': 0.2222222222222222, 'G': 0.2777777777777778, 'T': 0.3333333333333333, 'AA': 0.0, 'AC': 0.17647058823529413, 'AG': 0.0, 'AT': 0.0, 'CA': 0.0, 'CC': 0.058823529411764705, 'CG': 0.17647058823529413, 'CT': 0.0, 'GA': 0.0, 'GC': 0.0, 'GG': 0.11764705882352941, 'GT': 0.17647058823529413, 'TA': 0.11764705882352941, 'TC': 0.0, 'TG': 0.0, 'TT': 0.17647058823529413, 'AAA': 0.0, 'AAC': 0.0, 'AAG': 0.0, 'AAT': 0.0, 'ACA': 0.0, 'ACC': 0.0625, 'ACG': 0.125, 'ACT': 0.0, 'AGA': 0.0, 'AGC': 0.0, 'AGG': 0.0, 'AGT': 0.0, 'ATA': 0.0, 'ATC': 0.0, 'ATG': 0.0, 'ATT': 0.0, 'CAA': 0.0, 'CAC': 0.0, 'CAG': 0.0, 'CAT': 0.0, 'CCA': 0.0, 'CCC': 0.0, 'CCG': 0.0625, 'CCT': 0.0, 'CGA': 0.0, 'CGC': 0.0, 'CGG': 0.0625, 'CGT': 0.125, 'CTA': 0.0, 'CTC': 0.0, 'CTG': 0.0, 'CTT': 0.0, 'GAA': 0.0, 'GAC': 0.0, 'GAG': 0.0, 'GAT': 0.0, 'GCA': 0.0, 'GCC': 0.0, 'GCG': 0.0, 'GCT': 0.0, 'GGA': 0.0, 'GGC': 0.0, 'GGG': 0.0625, 'GGT': 0.0625, 'GTA': 0.0625, 'GTC': 0.0, 'GTG': 0.0, 'GTT': 0.0625, 'TAA': 0.0, 'TAC': 0.125, 'TAG': 0.0, 'TAT': 0.0, 'TCA': 0.0, 'TCC': 0.0, 'TCG': 0.0, 'TCT': 0.0, 'TGA': 0.0, 'TGC': 0.0, 'TGG': 0.0, 'TGT': 0.0, 'TTA': 0.0625, 'TTC': 0.0, 'TTG': 0.0, 'TTT': 0.125}\n"
     ]
    }
   ],
   "source": [
    "freqs = count_to_frequency(counts2,MAX_K)\n",
    "print (\"Frequency:\\n\",freqs)"
   ]
  },
  {
   "cell_type": "markdown",
   "metadata": {},
   "source": [
    "## Demo on large dataset"
   ]
  },
  {
   "cell_type": "code",
   "execution_count": 13,
   "metadata": {},
   "outputs": [
    {
     "name": "stdout",
     "output_type": "stream",
     "text": [
      "It took 46 trials to reach 10 per class.\n",
      "It took 139902 trials to reach 32000 per class.\n",
      "Use 32000 PC seqs\n",
      "Use 32000 NC seqs\n"
     ]
    }
   ],
   "source": [
    "rbo=Random_Base_Oracle(RNA_LEN,True)\n",
    "pc_all,nc_all = rbo.get_partitioned_sequences(CDS_LEN,10) # just testing\n",
    "pc_all,nc_all = rbo.get_partitioned_sequences(CDS_LEN,PC_SEQUENCES)\n",
    "print(\"Use\",len(pc_all),\"PC seqs\")\n",
    "print(\"Use\",len(nc_all),\"NC seqs\")"
   ]
  },
  {
   "cell_type": "code",
   "execution_count": 14,
   "metadata": {},
   "outputs": [
    {
     "name": "stdout",
     "output_type": "stream",
     "text": [
      "PC counts:\n",
      " {'A': 284878, 'C': 204217, 'G': 261748, 'T': 273157, 'AA': 69738, 'AC': 50372, 'AG': 61835, 'AT': 94299, 'CA': 53193, 'CC': 44877, 'CG': 45058, 'CT': 53451, 'GA': 76375, 'GC': 56789, 'GG': 56239, 'GT': 64257, 'TA': 75725, 'TC': 44727, 'TG': 91217, 'TT': 53848, 'AAA': 15197, 'AAC': 13662, 'AAG': 13771, 'AAT': 24093, 'ACA': 12562, 'ACC': 10801, 'ACG': 11033, 'ACT': 13408, 'AGA': 15512, 'AGC': 13578, 'AGG': 13820, 'AGT': 15850, 'ATA': 18567, 'ATC': 10940, 'ATG': 48985, 'ATT': 13296, 'CAA': 11631, 'CAC': 9914, 'CAG': 9897, 'CAT': 20290, 'CCA': 11582, 'CCC': 9968, 'CCG': 9906, 'CCT': 11925, 'CGA': 11625, 'CGC': 9901, 'CGG': 9831, 'CGT': 12159, 'CTA': 17463, 'CTC': 9779, 'CTG': 12606, 'CTT': 12065, 'GAA': 17206, 'GAC': 15355, 'GAG': 15352, 'GAT': 25846, 'GCA': 14531, 'GCC': 12638, 'GCG': 12752, 'GCT': 14778, 'GGA': 14344, 'GGC': 12652, 'GGG': 12372, 'GGT': 14880, 'GTA': 19456, 'GTC': 12630, 'GTG': 15206, 'GTT': 14905, 'TAA': 22747, 'TAC': 9985, 'TAG': 21251, 'TAT': 20200, 'TCA': 11612, 'TCC': 9909, 'TCG': 9877, 'TCT': 11845, 'TGA': 32023, 'TGC': 19054, 'TGG': 18748, 'TGT': 19912, 'TTA': 17522, 'TTC': 9854, 'TTG': 12878, 'TTT': 12063}\n",
      "Frequency:\n",
      " {'A': 0.278201171875, 'C': 0.1994306640625, 'G': 0.25561328125, 'T': 0.2667548828125, 'AA': 0.07030040322580645, 'AC': 0.05077822580645161, 'AG': 0.06233366935483871, 'AT': 0.09505947580645162, 'CA': 0.053621975806451616, 'CC': 0.04523891129032258, 'CG': 0.04542137096774194, 'CT': 0.053882056451612904, 'GA': 0.07699092741935484, 'GC': 0.05724697580645161, 'GG': 0.05669254032258064, 'GT': 0.06477520161290323, 'TA': 0.07633568548387097, 'TC': 0.04508770161290323, 'TG': 0.09195262096774194, 'TT': 0.05428225806451613, 'AAA': 0.015830208333333335, 'AAC': 0.01423125, 'AAG': 0.014344791666666667, 'AAT': 0.025096875, 'ACA': 0.013085416666666667, 'ACC': 0.011251041666666666, 'ACG': 0.011492708333333334, 'ACT': 0.013966666666666667, 'AGA': 0.016158333333333334, 'AGC': 0.01414375, 'AGG': 0.014395833333333333, 'AGT': 0.016510416666666666, 'ATA': 0.019340625, 'ATC': 0.011395833333333332, 'ATG': 0.05102604166666667, 'ATT': 0.01385, 'CAA': 0.012115625, 'CAC': 0.010327083333333334, 'CAG': 0.010309375, 'CAT': 0.021135416666666667, 'CCA': 0.012064583333333333, 'CCC': 0.010383333333333333, 'CCG': 0.01031875, 'CCT': 0.012421875, 'CGA': 0.012109375, 'CGC': 0.010313541666666667, 'CGG': 0.010240625, 'CGT': 0.012665625, 'CTA': 0.018190625, 'CTC': 0.010186458333333334, 'CTG': 0.01313125, 'CTT': 0.012567708333333334, 'GAA': 0.017922916666666667, 'GAC': 0.015994791666666668, 'GAG': 0.015991666666666668, 'GAT': 0.026922916666666668, 'GCA': 0.015136458333333333, 'GCC': 0.013164583333333334, 'GCG': 0.013283333333333333, 'GCT': 0.01539375, 'GGA': 0.014941666666666667, 'GGC': 0.013179166666666667, 'GGG': 0.0128875, 'GGT': 0.0155, 'GTA': 0.020266666666666665, 'GTC': 0.01315625, 'GTG': 0.015839583333333334, 'GTT': 0.015526041666666667, 'TAA': 0.023694791666666666, 'TAC': 0.010401041666666666, 'TAG': 0.022136458333333334, 'TAT': 0.021041666666666667, 'TCA': 0.012095833333333333, 'TCC': 0.010321875, 'TCG': 0.010288541666666666, 'TCT': 0.012338541666666666, 'TGA': 0.033357291666666664, 'TGC': 0.019847916666666666, 'TGG': 0.019529166666666667, 'TGT': 0.020741666666666665, 'TTA': 0.018252083333333332, 'TTC': 0.010264583333333334, 'TTG': 0.013414583333333334, 'TTT': 0.012565625}\n"
     ]
    }
   ],
   "source": [
    "MAX_K = 3\n",
    "pc_counts = make_dict_upto_K(MAX_K)\n",
    "for sample in pc_all:\n",
    "    update_count_one_K(pc_counts,MAX_K,sample,True)\n",
    "harvest_counts_from_K(pc_counts,MAX_K)\n",
    "print(\"PC counts:\\n\",pc_counts)\n",
    "pc_freqs = count_to_frequency(pc_counts,MAX_K)\n",
    "print (\"Frequency:\\n\",pc_freqs)"
   ]
  },
  {
   "cell_type": "code",
   "execution_count": 15,
   "metadata": {},
   "outputs": [
    {
     "name": "stdout",
     "output_type": "stream",
     "text": [
      "NC counts:\n",
      " {'A': 282620, 'C': 208784, 'G': 261021, 'T': 271575, 'AA': 69759, 'AC': 52031, 'AG': 62181, 'AT': 90276, 'CA': 54041, 'CC': 46460, 'CG': 46531, 'CT': 54003, 'GA': 74290, 'GC': 56535, 'GG': 56523, 'GT': 65439, 'TA': 74825, 'TC': 46381, 'TG': 88313, 'TT': 54412, 'AAA': 15953, 'AAC': 14290, 'AAG': 14199, 'AAT': 22905, 'ACA': 13428, 'ACC': 11615, 'ACG': 11469, 'ACT': 13432, 'AGA': 15759, 'AGC': 14100, 'AGG': 14121, 'AGT': 15745, 'ATA': 18068, 'ATC': 11631, 'ATG': 45194, 'ATT': 13320, 'CAA': 12097, 'CAC': 10478, 'CAG': 10247, 'CAT': 19458, 'CCA': 11971, 'CCC': 10193, 'CCG': 10427, 'CCT': 11998, 'CGA': 12114, 'CGC': 10355, 'CGG': 10240, 'CGT': 11922, 'CTA': 16947, 'CTC': 10238, 'CTG': 12727, 'CTT': 12208, 'GAA': 17139, 'GAC': 15085, 'GAG': 15142, 'GAT': 24643, 'GCA': 14480, 'GCC': 12588, 'GCG': 12700, 'GCT': 14831, 'GGA': 14352, 'GGC': 12686, 'GGG': 12689, 'GGT': 14828, 'GTA': 20533, 'GTC': 12466, 'GTG': 15755, 'GTT': 14768, 'TAA': 22409, 'TAC': 10425, 'TAG': 20851, 'TAT': 19221, 'TCA': 12010, 'TCC': 10366, 'TCG': 10167, 'TCT': 11983, 'TGA': 29911, 'TGC': 17639, 'TGG': 17651, 'TGT': 21202, 'TTA': 17131, 'TTC': 10286, 'TTG': 12924, 'TTT': 12290}\n",
      "Frequency:\n",
      " {'A': 0.27599609375, 'C': 0.203890625, 'G': 0.2549033203125, 'T': 0.2652099609375, 'AA': 0.07032157258064516, 'AC': 0.052450604838709676, 'AG': 0.06268245967741935, 'AT': 0.09100403225806451, 'CA': 0.054476814516129034, 'CC': 0.04683467741935484, 'CG': 0.04690625, 'CT': 0.05443850806451613, 'GA': 0.07488911290322581, 'GC': 0.05699092741935484, 'GG': 0.056978830645161294, 'GT': 0.06596673387096774, 'TA': 0.07542842741935483, 'TC': 0.04675504032258065, 'TG': 0.08902520161290323, 'TT': 0.0548508064516129, 'AAA': 0.016617708333333335, 'AAC': 0.014885416666666667, 'AAG': 0.014790625, 'AAT': 0.023859375, 'ACA': 0.0139875, 'ACC': 0.012098958333333333, 'ACG': 0.011946875, 'ACT': 0.013991666666666666, 'AGA': 0.016415625, 'AGC': 0.0146875, 'AGG': 0.014709375, 'AGT': 0.016401041666666668, 'ATA': 0.018820833333333332, 'ATC': 0.012115625, 'ATG': 0.04707708333333333, 'ATT': 0.013875, 'CAA': 0.012601041666666667, 'CAC': 0.010914583333333333, 'CAG': 0.010673958333333334, 'CAT': 0.02026875, 'CCA': 0.012469791666666667, 'CCC': 0.010617708333333333, 'CCG': 0.010861458333333334, 'CCT': 0.012497916666666666, 'CGA': 0.01261875, 'CGC': 0.010786458333333334, 'CGG': 0.010666666666666666, 'CGT': 0.01241875, 'CTA': 0.017653125, 'CTC': 0.010664583333333333, 'CTG': 0.013257291666666667, 'CTT': 0.012716666666666666, 'GAA': 0.017853125, 'GAC': 0.015713541666666667, 'GAG': 0.015772916666666668, 'GAT': 0.025669791666666667, 'GCA': 0.015083333333333334, 'GCC': 0.0131125, 'GCG': 0.013229166666666667, 'GCT': 0.015448958333333334, 'GGA': 0.01495, 'GGC': 0.013214583333333333, 'GGG': 0.013217708333333333, 'GGT': 0.015445833333333334, 'GTA': 0.021388541666666667, 'GTC': 0.012985416666666666, 'GTG': 0.016411458333333333, 'GTT': 0.015383333333333334, 'TAA': 0.023342708333333333, 'TAC': 0.010859375, 'TAG': 0.021719791666666665, 'TAT': 0.020021875, 'TCA': 0.012510416666666666, 'TCC': 0.010797916666666667, 'TCG': 0.010590625, 'TCT': 0.012482291666666666, 'TGA': 0.031157291666666666, 'TGC': 0.018373958333333332, 'TGG': 0.018386458333333335, 'TGT': 0.022085416666666666, 'TTA': 0.017844791666666665, 'TTC': 0.010714583333333333, 'TTG': 0.0134625, 'TTT': 0.012802083333333334}\n"
     ]
    }
   ],
   "source": [
    "nc_counts = make_dict_upto_K(MAX_K)\n",
    "for sample in nc_all:\n",
    "    update_count_one_K(nc_counts,MAX_K,sample,True)\n",
    "harvest_counts_from_K(nc_counts,MAX_K)\n",
    "print(\"NC counts:\\n\",nc_counts)\n",
    "nc_freqs = count_to_frequency(nc_counts,MAX_K)\n",
    "print (\"Frequency:\\n\",nc_freqs)"
   ]
  },
  {
   "cell_type": "code",
   "execution_count": null,
   "metadata": {},
   "outputs": [],
   "source": []
  }
 ],
 "metadata": {
  "accelerator": "GPU",
  "colab": {
   "collapsed_sections": [],
   "name": "MLP_205.ipynb",
   "provenance": [],
   "toc_visible": true
  },
  "kernelspec": {
   "display_name": "Python 3",
   "language": "python",
   "name": "python3"
  },
  "language_info": {
   "codemirror_mode": {
    "name": "ipython",
    "version": 3
   },
   "file_extension": ".py",
   "mimetype": "text/x-python",
   "name": "python",
   "nbconvert_exporter": "python",
   "pygments_lexer": "ipython3",
   "version": "3.8.3"
  }
 },
 "nbformat": 4,
 "nbformat_minor": 1
}
