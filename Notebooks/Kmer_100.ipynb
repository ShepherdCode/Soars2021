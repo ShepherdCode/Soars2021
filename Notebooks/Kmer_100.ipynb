{
 "cells": [
  {
   "cell_type": "markdown",
   "metadata": {
    "id": "ojm_6E9f9Kcf"
   },
   "source": [
    "# K-mer \n",
    "Basic K-mer counting."
   ]
  },
  {
   "cell_type": "code",
   "execution_count": 1,
   "metadata": {},
   "outputs": [
    {
     "data": {
      "text/plain": [
       "'2021-07-06 14:16:13 EDT'"
      ]
     },
     "execution_count": 1,
     "metadata": {},
     "output_type": "execute_result"
    }
   ],
   "source": [
    "import time\n",
    "t = time.time()\n",
    "time.strftime('%Y-%m-%d %H:%M:%S %Z', time.localtime(t))"
   ]
  },
  {
   "cell_type": "code",
   "execution_count": 2,
   "metadata": {},
   "outputs": [],
   "source": [
    "PC_SEQUENCES=32000\n",
    "NC_SEQUENCES=32000\n",
    "RNA_LEN=32\n",
    "CDS_LEN=16"
   ]
  },
  {
   "cell_type": "code",
   "execution_count": 3,
   "metadata": {
    "id": "VQY7aTj29Kch"
   },
   "outputs": [],
   "source": [
    "import numpy as np\n",
    "import pandas as pd\n",
    "import matplotlib.pyplot as plt\n"
   ]
  },
  {
   "cell_type": "code",
   "execution_count": 4,
   "metadata": {},
   "outputs": [
    {
     "name": "stdout",
     "output_type": "stream",
     "text": [
      "CoLab not working. On my PC, use relative paths.\n"
     ]
    }
   ],
   "source": [
    "import sys\n",
    "IN_COLAB = False\n",
    "try:\n",
    "    from google.colab import drive\n",
    "    IN_COLAB = True\n",
    "except:\n",
    "    pass\n",
    "if IN_COLAB:\n",
    "    print(\"On Google CoLab, mount cloud-local file, get our code from GitHub.\")\n",
    "    PATH='/content/drive/'\n",
    "    #drive.mount(PATH,force_remount=True)  # hardly ever need this\n",
    "    #drive.mount(PATH)    # Google will require login credentials\n",
    "    DATAPATH=PATH+'My Drive/data/'  # must end in \"/\"\n",
    "    import requests\n",
    "    r = requests.get('https://raw.githubusercontent.com/ShepherdCode/Soars2021/master/SimTools/RNA_describe.py')\n",
    "    with open('RNA_describe.py', 'w') as f:\n",
    "        f.write(r.text)  \n",
    "    from RNA_describe import ORF_counter\n",
    "    from RNA_describe import Random_Base_Oracle\n",
    "else:\n",
    "        print(\"CoLab not working. On my PC, use relative paths.\")\n",
    "        DATAPATH='data/'  # must end in \"/\"\n",
    "        sys.path.append(\"..\") # append parent dir in order to use sibling dirs\n",
    "        from SimTools.RNA_describe import ORF_counter,Random_Base_Oracle\n",
    "MODELPATH=\"BestModel\"  # saved on cloud instance and lost after logout\n",
    "#MODELPATH=DATAPATH+MODELPATH  # saved on Google Drive but requires login"
   ]
  },
  {
   "cell_type": "markdown",
   "metadata": {
    "id": "jN0K-1e2g4WN"
   },
   "source": [
    "## Sample data"
   ]
  },
  {
   "cell_type": "code",
   "execution_count": 5,
   "metadata": {
    "id": "E37va5UZg4WQ"
   },
   "outputs": [
    {
     "name": "stdout",
     "output_type": "stream",
     "text": [
      "It took 44 trials to reach 10 per class.\n",
      "It took 139005 trials to reach 32000 per class.\n",
      "Use 32000 PC seqs\n",
      "Use 32000 NC seqs\n"
     ]
    }
   ],
   "source": [
    "rbo=Random_Base_Oracle(RNA_LEN,True)\n",
    "pc_all,nc_all = rbo.get_partitioned_sequences(CDS_LEN,10) # just testing\n",
    "pc_all,nc_all = rbo.get_partitioned_sequences(CDS_LEN,PC_SEQUENCES)\n",
    "print(\"Use\",len(pc_all),\"PC seqs\")\n",
    "print(\"Use\",len(nc_all),\"NC seqs\")"
   ]
  },
  {
   "cell_type": "markdown",
   "metadata": {},
   "source": [
    "## Primitive K-mer counting"
   ]
  },
  {
   "cell_type": "code",
   "execution_count": 8,
   "metadata": {},
   "outputs": [],
   "source": [
    "def make_kmer_keys(K):\n",
    "    shorter_kmers=['']\n",
    "    for i in range(K):\n",
    "        longer_kmers=[]\n",
    "        for mer in shorter_kmers:\n",
    "            # No support for N or any non-ACGT bases.\n",
    "            longer_kmers.append(mer+'A')\n",
    "            longer_kmers.append(mer+'C')\n",
    "            longer_kmers.append(mer+'G')\n",
    "            longer_kmers.append(mer+'T')\n",
    "        shorter_kmers = longer_kmers\n",
    "    return shorter_kmers\n",
    "def make_kmer_dict(keys,init=0):\n",
    "    return dict.fromkeys(keys,init)\n",
    "def make_dict_123():\n",
    "    keys=make_kmer_keys(1)\n",
    "    keys.extend(make_kmer_keys(2))\n",
    "    keys.extend(make_kmer_keys(3))\n",
    "    counts = make_kmer_dict(keys)\n",
    "    return counts\n",
    "def update_Kmer_count(counts,K,rna):\n",
    "    L = len(rna)\n",
    "    padding=\" \"*(K-1)\n",
    "    padded=rna+padding\n",
    "    for i in range(0,L-K+1):\n",
    "        kmer=padded[i:i+K]\n",
    "        counts[kmer] += 1\n",
    "def update_dict_123(counts,sample):\n",
    "    update_Kmer_count(counts,1,sample)\n",
    "    update_Kmer_count(counts,2,sample)\n",
    "    update_Kmer_count(counts,3,sample)\n",
    "    return counts"
   ]
  },
  {
   "cell_type": "code",
   "execution_count": 9,
   "metadata": {},
   "outputs": [
    {
     "name": "stdout",
     "output_type": "stream",
     "text": [
      "Updated counts: {'A': 3, 'C': 4, 'G': 5, 'T': 6, 'AA': 0, 'AC': 3, 'AG': 0, 'AT': 0, 'CA': 0, 'CC': 1, 'CG': 3, 'CT': 0, 'GA': 0, 'GC': 0, 'GG': 2, 'GT': 3, 'TA': 2, 'TC': 0, 'TG': 0, 'TT': 3, 'AAA': 0, 'AAC': 0, 'AAG': 0, 'AAT': 0, 'ACA': 0, 'ACC': 1, 'ACG': 2, 'ACT': 0, 'AGA': 0, 'AGC': 0, 'AGG': 0, 'AGT': 0, 'ATA': 0, 'ATC': 0, 'ATG': 0, 'ATT': 0, 'CAA': 0, 'CAC': 0, 'CAG': 0, 'CAT': 0, 'CCA': 0, 'CCC': 0, 'CCG': 1, 'CCT': 0, 'CGA': 0, 'CGC': 0, 'CGG': 1, 'CGT': 2, 'CTA': 0, 'CTC': 0, 'CTG': 0, 'CTT': 0, 'GAA': 0, 'GAC': 0, 'GAG': 0, 'GAT': 0, 'GCA': 0, 'GCC': 0, 'GCG': 0, 'GCT': 0, 'GGA': 0, 'GGC': 0, 'GGG': 1, 'GGT': 1, 'GTA': 1, 'GTC': 0, 'GTG': 0, 'GTT': 1, 'TAA': 0, 'TAC': 2, 'TAG': 0, 'TAT': 0, 'TCA': 0, 'TCC': 0, 'TCG': 0, 'TCT': 0, 'TGA': 0, 'TGC': 0, 'TGG': 0, 'TGT': 0, 'TTA': 1, 'TTC': 0, 'TTG': 0, 'TTT': 2}\n"
     ]
    }
   ],
   "source": [
    "all_counts = make_dict_123()\n",
    "sample = \"ACCGGGTTTTACGTACGT\"\n",
    "all_counts = update_dict_123(all_counts,sample)\n",
    "print(\"Updated counts:\",all_counts)"
   ]
  },
  {
   "cell_type": "code",
   "execution_count": null,
   "metadata": {},
   "outputs": [],
   "source": []
  }
 ],
 "metadata": {
  "accelerator": "GPU",
  "colab": {
   "collapsed_sections": [],
   "name": "MLP_205.ipynb",
   "provenance": [],
   "toc_visible": true
  },
  "kernelspec": {
   "display_name": "Python 3",
   "language": "python",
   "name": "python3"
  },
  "language_info": {
   "codemirror_mode": {
    "name": "ipython",
    "version": 3
   },
   "file_extension": ".py",
   "mimetype": "text/x-python",
   "name": "python",
   "nbconvert_exporter": "python",
   "pygments_lexer": "ipython3",
   "version": "3.8.3"
  }
 },
 "nbformat": 4,
 "nbformat_minor": 1
}
