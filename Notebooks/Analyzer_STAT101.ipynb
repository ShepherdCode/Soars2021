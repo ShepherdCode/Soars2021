{
  "nbformat": 4,
  "nbformat_minor": 0,
  "metadata": {
    "colab": {
      "name": "Analyzer_STAT101.ipynb",
      "provenance": []
    },
    "kernelspec": {
      "display_name": "Python 3",
      "name": "python3"
    },
    "language_info": {
      "name": "python"
    }
  },
  "cells": [
    {
      "cell_type": "code",
      "metadata": {
        "id": "gCkX3HkLuMSl"
      },
      "source": [
        ""
      ],
      "execution_count": 45,
      "outputs": []
    },
    {
      "cell_type": "code",
      "metadata": {
        "colab": {
          "base_uri": "https://localhost:8080/"
        },
        "id": "DpmLPhjy4VcV",
        "outputId": "2bacbb31-45bb-4e65-f124-a0c8404e4b11"
      },
      "source": [
        "import numpy as np\n",
        "import matplotlib.pyplot as plt\n",
        "import itertools\n",
        "import pandas as pd\n",
        "import gzip\n",
        "from scipy.stats import chisquare, kstest, spearmanr,pearsonr, kendalltau\n",
        "import scipy.stats as ss\n",
        "import sys\n",
        "import random\n",
        "try:\n",
        "    from google.colab import drive\n",
        "    IN_COLAB = True\n",
        "    print(\"On Google CoLab, mount cloud-local file, get our code from GitHub.\")\n",
        "    PATH='/content/drive/'\n",
        "    #drive.mount(PATH,force_remount=True)  # hardly ever need this\n",
        "    drive.mount(PATH)    # Google will require login credentials\n",
        "    DATAPATH=PATH+'My Drive/data/'  # must end in \"/\"\n",
        "    import requests\n",
        "    s = requests.get('https://raw.githubusercontent.com/ShepherdCode/Soars2021/master/SimTools/RNA_describe.py')\n",
        "    with open('RNA_describe.py', 'w') as f:\n",
        "      f.write(s.text)  # writes to cloud local, delete the file later?\n",
        "    s = requests.get('https://raw.githubusercontent.com/ShepherdCode/Soars2021/master/SimTools/GenCodeTools.py')\n",
        "    with open ('GenCodeTools.py', 'w') as f:\n",
        "      f.write(s.text)\n",
        "    s = requests.get('https://raw.githubusercontent.com/ShepherdCode/Soars2021/master/SimTools/plot_generator.py')\n",
        "    with open('plot_generator.py', 'w') as f:\n",
        "      f.write(s.text)\n",
        "    s = requests.get('https://raw.githubusercontent.com/ShepherdCode/Soars2021/master/SimTools/KmerTools.py')\n",
        "    with open('KmerTools.py', 'w') as f:\n",
        "      f.write(s.text)  \n",
        "    from KmerTools import KmerTools\n",
        "    from RNA_describe import *\n",
        "    from GenCodeTools import *\n",
        "    from plot_generator import *\n",
        "except:\n",
        "    print(\"CoLab not working. On my PC, use relative paths.\")\n",
        "    IN_COLAB = False\n",
        "    DATAPATH='../data/'  # must end in \"/\"\n",
        "    sys.path.append(\"..\") # append parent dir in order to use sibling dirs\n",
        "    from SimTools.RNA_describe import *\n",
        "    from SimTools.GenCodeTools import *\n",
        "    from SimTools.plot_generator import *\n",
        "    from SimTools.KmerTools import KmerTools\n",
        "\n",
        "MODELPATH=\"BestModel\"  # saved on cloud instance and lost after logout\n",
        "#MODELPATH=DATAPATH+MODELPATH  # saved on Google Drive but requires login\n",
        "\n",
        "if not assert_imported_RNA_describe():\n",
        "    print(\"ERROR: Cannot use RNA_describe.\")"
      ],
      "execution_count": 46,
      "outputs": [
        {
          "output_type": "stream",
          "text": [
            "On Google CoLab, mount cloud-local file, get our code from GitHub.\n",
            "Drive already mounted at /content/drive/; to attempt to forcibly remount, call drive.mount(\"/content/drive/\", force_remount=True).\n"
          ],
          "name": "stdout"
        }
      ]
    },
    {
      "cell_type": "code",
      "metadata": {
        "id": "37JnfHgWt_-U",
        "colab": {
          "base_uri": "https://localhost:8080/"
        },
        "outputId": "9d1879e5-6840-4090-efc3-da43413c5e96"
      },
      "source": [
        "PC_FILENAME='gencode.v38.pc_transcripts.fa.gz'\n",
        "NC_FILENAME='gencode.v38.lncRNA_transcripts.fa.gz'\n",
        "MAX_K =4\n",
        "PC_FULLPATH=DATAPATH+PC_FILENAME\n",
        "NC_FULLPATH=DATAPATH+NC_FILENAME\n",
        "loader=GenCodeLoader()\n",
        "loader.set_label(1)\n",
        "loader.set_check_list(None) \n",
        "loader.set_check_utr(True)\n",
        "pcdf=loader.load_file(PC_FULLPATH)\n",
        "print(\"PC seqs loaded:\",len(pcdf))\n",
        "loader.set_label(0)\n",
        "loader.set_check_list(None)\n",
        "loader.set_check_utr(False)\n",
        "ncdf=loader.load_file(NC_FULLPATH)\n",
        "print(\"NC seqs loaded:\",len(ncdf))"
      ],
      "execution_count": 47,
      "outputs": [
        {
          "output_type": "stream",
          "text": [
            "PC seqs loaded: 70825\n",
            "NC seqs loaded: 48752\n"
          ],
          "name": "stdout"
        }
      ]
    },
    {
      "cell_type": "code",
      "metadata": {
        "id": "gf6DhZho5HqA"
      },
      "source": [
        "APPLY_SUBSET = True             #Option to subset the data\n",
        "MINIMUM_SEQUENCE_LENGTH = 0     #Minimum inclusive length to filter out sequences by\n",
        "MAXIMUM_SEQUENCE_LENGTH = sys.maxsize  #Maximum inclusive length to filter out sequences by\n",
        "SAMPLE_FRACTION = 0.5           #What fraction of the GenCode data set to take a sample of\n",
        "REPRODUCABILITY_SEED = 314159   #Use to reproduce random sampling"
      ],
      "execution_count": 48,
      "outputs": []
    },
    {
      "cell_type": "code",
      "metadata": {
        "id": "HpG9nNZv5NTL"
      },
      "source": [
        "def subset_list_by_len_bounds(input_list, min_len, max_len):\n",
        "  return list(filter(lambda x: len(x) > min_len and len(x) <= max_len, input_list))"
      ],
      "execution_count": 49,
      "outputs": []
    },
    {
      "cell_type": "code",
      "metadata": {
        "id": "RdCVTYP55Qh-",
        "colab": {
          "base_uri": "https://localhost:8080/"
        },
        "outputId": "d3a0fdfe-2f06-409c-dc35-738cd3e3027d"
      },
      "source": [
        "pc_sequences = pcdf['sequence'].tolist()\n",
        "nc_sequences = ncdf['sequence'].tolist()\n",
        "\n",
        "if APPLY_SUBSET:\n",
        "  pc_sequences = subset_list_by_len_bounds(pc_sequences, MINIMUM_SEQUENCE_LENGTH, MAXIMUM_SEQUENCE_LENGTH)\n",
        "  nc_sequences = subset_list_by_len_bounds(nc_sequences, MINIMUM_SEQUENCE_LENGTH, MAXIMUM_SEQUENCE_LENGTH)\n",
        "\n",
        "  print('PC seqs in length range','('+str(MINIMUM_SEQUENCE_LENGTH),'-',str(MAXIMUM_SEQUENCE_LENGTH)+'):', len(pc_sequences))\n",
        "  print('NC seqs in length range','('+str(MINIMUM_SEQUENCE_LENGTH),'-',str(MAXIMUM_SEQUENCE_LENGTH)+'):', len(nc_sequences))\n",
        "\n",
        "#Garbage collection\n",
        "pcdf = None\n",
        "ncdf = None"
      ],
      "execution_count": 50,
      "outputs": [
        {
          "output_type": "stream",
          "text": [
            "PC seqs in length range (0 - 9223372036854775807): 70825\n",
            "NC seqs in length range (0 - 9223372036854775807): 48752\n"
          ],
          "name": "stdout"
        }
      ]
    },
    {
      "cell_type": "code",
      "metadata": {
        "id": "crQQaDulImfA"
      },
      "source": [
        "tool = KmerTools()\n",
        "\n",
        "#This function returns list of three values (pearson, kendall and spearman coefficeints)\n",
        "def getCoefficients(seq1, seq2,kmer_count):\n",
        "  pearson=[]\n",
        "  kendall= []\n",
        "  spearman= []\n",
        "  kmer_one = tool.make_dict_upto_K(kmer_count)\n",
        "  kmer_two = tool.make_dict_upto_K(kmer_count)\n",
        " \n",
        "  #Filling dict made above with the values \n",
        "\n",
        "  tool.update_count_one_K(kmer_one, kmer_count, seq1)\n",
        "  tool.update_count_one_K(kmer_two, kmer_count, seq2)\n",
        "\n",
        "  #Refilling the kmer dict with their respective frequency. \n",
        "  freq_one = list(tool.count_to_frequency(kmer_one, kmer_count).values())\n",
        "  freq_two = list(tool.count_to_frequency(kmer_two, kmer_count).values())\n",
        "\n",
        "  coeff_p, p = pearsonr(freq_one, freq_two)\n",
        "  coeff_k, p = kendalltau(freq_one, freq_two)\n",
        "  coeff_s, p = spearmanr(freq_one, freq_two)\n",
        "  pearson.append(coeff_p)\n",
        "  kendall.append(coeff_k)\n",
        "  spearman.append(coeff_s)\n",
        "  return (pearson, kendall, spearman)\n"
      ],
      "execution_count": 51,
      "outputs": []
    },
    {
      "cell_type": "code",
      "metadata": {
        "id": "o_TcBx__09Xe"
      },
      "source": [
        "samplepc = random.sample(pc_sequences,100)\n",
        "samplenc = random.sample(nc_sequences,100)\n",
        "  "
      ],
      "execution_count": 52,
      "outputs": []
    },
    {
      "cell_type": "markdown",
      "metadata": {
        "id": "EU4v8V1f5QWn"
      },
      "source": [
        "## Comparing PC sequences among themselves"
      ]
    },
    {
      "cell_type": "code",
      "metadata": {
        "id": "ekz70EC_3Tc8"
      },
      "source": [
        "count =0\n",
        "#Stores the three coefficients given out of getCoefficients.\n",
        "coefficient_pc_pearson = []\n",
        "coefficient_pc_kendall = []\n",
        "coefficient_pc_spearman = []\n",
        "\n",
        "while(count<50):\n",
        "  count_two=50\n",
        "  while(count_two<100):\n",
        "    coefficients = getCoefficients(samplepc[count], samplepc[count_two], MAX_K)\n",
        "    coefficient_pc_pearson.append(coefficients[0])\n",
        "    coefficient_pc_kendall.append(coefficients[1])\n",
        "    coefficient_pc_spearman.append(coefficients[2])\n",
        "\n",
        "    count_two+=1\n",
        "  count+=1\n",
        "\n",
        "\n",
        "\n"
      ],
      "execution_count": 53,
      "outputs": []
    },
    {
      "cell_type": "markdown",
      "metadata": {
        "id": "aD3JB4PJ5U2E"
      },
      "source": [
        "## Comparing NC sequences among themselves"
      ]
    },
    {
      "cell_type": "code",
      "metadata": {
        "id": "jEK7HAYr5BO4"
      },
      "source": [
        "count =0\n",
        "#Stores the three coefficients given out of getCoefficients.\n",
        "coefficient_nc_pearson = []\n",
        "coefficient_nc_kendall = []\n",
        "coefficient_nc_spearman = []\n",
        "while(count<50):\n",
        "  count_two=50\n",
        "  while(count_two<100):\n",
        "    coefficients = getCoefficients(samplenc[count], samplenc[count_two], MAX_K)\n",
        "    coefficient_nc_pearson.append(coefficients[0])\n",
        "    coefficient_nc_kendall.append(coefficients[1])\n",
        "    coefficient_nc_spearman.append(coefficients[2])\n",
        "    count_two+=1\n",
        "  count+=1"
      ],
      "execution_count": 54,
      "outputs": []
    },
    {
      "cell_type": "code",
      "metadata": {
        "id": "OPU-ucCB4na8"
      },
      "source": [
        "count =0\n",
        "#Stores the three coefficients given out of getCoefficients.\n",
        "coefficient_mix_pearson = []\n",
        "coefficient_mix_kendall = []\n",
        "coefficient_mix_spearman = []\n",
        "while(count<100):\n",
        "  count_two=0\n",
        "  while(count_two<100):\n",
        "    coefficients = getCoefficients(samplepc[count], samplenc[count_two], MAX_K)\n",
        "    coefficient_mix_pearson.append(coefficients[0])\n",
        "    coefficient_mix_kendall.append(coefficients[1])\n",
        "    coefficient_mix_spearman.append(coefficients[2])\n",
        "    count_two+=1\n",
        "  count+=1"
      ],
      "execution_count": 55,
      "outputs": []
    },
    {
      "cell_type": "markdown",
      "metadata": {
        "id": "wQK6jAZ6_jm0"
      },
      "source": [
        "## Plotting Spearman Coefficients for PC-PC comparison, NC-NC and PC-NC comparision. "
      ]
    },
    {
      "cell_type": "code",
      "metadata": {
        "colab": {
          "base_uri": "https://localhost:8080/",
          "height": 605
        },
        "id": "NHi8Hxyj6kFM",
        "outputId": "e058e3d4-653e-4177-a24d-15d686712a3f"
      },
      "source": [
        "fig = plt.figure(figsize =(10, 7))\n",
        "# Creating axes instance\n",
        "ax = fig.add_axes([0, 0, 1, 1])\n",
        "data =[coefficient_pc_spearman,coefficient_nc_spearman,coefficient_mix_spearman]\n",
        "title = [\"PC VS PC \", \"NC VS NC\", \"PC vs NC\"]\n",
        "# Creating plot\n",
        "bp = ax.boxplot(data)\n",
        "ax.set_xticklabels(title)\n",
        "# show plot\n",
        "plt.show()"
      ],
      "execution_count": 56,
      "outputs": [
        {
          "output_type": "stream",
          "text": [
            "/usr/local/lib/python3.7/dist-packages/numpy/core/_asarray.py:83: VisibleDeprecationWarning: Creating an ndarray from ragged nested sequences (which is a list-or-tuple of lists-or-tuples-or ndarrays with different lengths or shapes) is deprecated. If you meant to do this, you must specify 'dtype=object' when creating the ndarray\n",
            "  return array(a, dtype, copy=False, order=order)\n"
          ],
          "name": "stderr"
        },
        {
          "output_type": "display_data",
          "data": {
            "image/png": "[encoded data removed]",
            "text/plain": [
              "<Figure size 720x504 with 1 Axes>"
            ]
          },
          "metadata": {
            "tags": [],
            "needs_background": "light"
          }
        }
      ]
    },
    {
      "cell_type": "markdown",
      "metadata": {
        "id": "G6xbh1L_Ack_"
      },
      "source": [
        "## Comparing PC vs PC , NC vs NC and PC vs NC using Pearson"
      ]
    },
    {
      "cell_type": "code",
      "metadata": {
        "colab": {
          "base_uri": "https://localhost:8080/",
          "height": 607
        },
        "id": "CFfaL3q9_iSF",
        "outputId": "6923e447-7df1-48bc-e768-bb4b8f163f03"
      },
      "source": [
        "fig = plt.figure(figsize =(10, 7))\n",
        "# Creating axes instance\n",
        "ax = fig.add_axes([0, 0, 1, 1])\n",
        "data =[coefficient_pc_pearson,coefficient_nc_pearson,coefficient_mix_pearson]\n",
        "title = [\"PC VS PC \", \"NC VS NC\", \"PC vs NC\"]\n",
        "# Creating plot\n",
        "bp = ax.boxplot(data)\n",
        "ax.set_xticklabels(title)\n",
        "# show plot\n",
        "plt.show()"
      ],
      "execution_count": 57,
      "outputs": [
        {
          "output_type": "stream",
          "text": [
            "/usr/local/lib/python3.7/dist-packages/numpy/core/_asarray.py:83: VisibleDeprecationWarning: Creating an ndarray from ragged nested sequences (which is a list-or-tuple of lists-or-tuples-or ndarrays with different lengths or shapes) is deprecated. If you meant to do this, you must specify 'dtype=object' when creating the ndarray\n",
            "  return array(a, dtype, copy=False, order=order)\n"
          ],
          "name": "stderr"
        },
        {
          "output_type": "display_data",
          "data": {
            "image/png": "[encoded data removed]",
            "text/plain": [
              "<Figure size 720x504 with 1 Axes>"
            ]
          },
          "metadata": {
            "tags": [],
            "needs_background": "light"
          }
        }
      ]
    },
    {
      "cell_type": "markdown",
      "metadata": {
        "id": "IUM9Py00AzEl"
      },
      "source": [
        "USing Kendall Coefficients\n"
      ]
    },
    {
      "cell_type": "code",
      "metadata": {
        "colab": {
          "base_uri": "https://localhost:8080/",
          "height": 605
        },
        "id": "Pr_FNwq6A1OZ",
        "outputId": "acb80c64-d6fe-4df3-b00d-b24da5bf6ad3"
      },
      "source": [
        "fig = plt.figure(figsize =(10, 7))\n",
        "# Creating axes instance\n",
        "ax = fig.add_axes([0, 0, 1, 1])\n",
        "data =[coefficient_pc_kendall,coefficient_nc_kendall,coefficient_mix_kendall]\n",
        "title = [\"PC VS PC \", \"NC VS NC\", \"PC vs NC\"]\n",
        "# Creating plot\n",
        "bp = ax.boxplot(data)\n",
        "ax.set_xticklabels(title)\n",
        "# show plot\n",
        "plt.show()"
      ],
      "execution_count": 58,
      "outputs": [
        {
          "output_type": "stream",
          "text": [
            "/usr/local/lib/python3.7/dist-packages/numpy/core/_asarray.py:83: VisibleDeprecationWarning: Creating an ndarray from ragged nested sequences (which is a list-or-tuple of lists-or-tuples-or ndarrays with different lengths or shapes) is deprecated. If you meant to do this, you must specify 'dtype=object' when creating the ndarray\n",
            "  return array(a, dtype, copy=False, order=order)\n"
          ],
          "name": "stderr"
        },
        {
          "output_type": "display_data",
          "data": {
            "image/png": "[encoded data removed]",
            "text/plain": [
              "<Figure size 720x504 with 1 Axes>"
            ]
          },
          "metadata": {
            "tags": [],
            "needs_background": "light"
          }
        }
      ]
    }
  ]
}