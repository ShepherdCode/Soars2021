{
 "cells": [
  {
   "cell_type": "markdown",
   "metadata": {
    "id": "0asdcdunj2Tx"
   },
   "source": [
    "# ORF recognition by Convolutional/Recurrent\n",
    "\n",
    "Based on ORF_CNN_118 but model is now CNN+GRU. Specifically 2x16 CNN and 2x16 GRU and 1x16 Dense. Use a much larger training set and many more epochs. Achieve 97.5% accuracy."
   ]
  },
  {
   "cell_type": "code",
   "execution_count": 1,
   "metadata": {
    "colab": {
     "base_uri": "https://localhost:8080/",
     "height": 36
    },
    "id": "QP1VTRNQj2UO",
    "outputId": "636c8487-bee1-4856-f763-eae549428de8"
   },
   "outputs": [
    {
     "data": {
      "application/vnd.google.colaboratory.intrinsic+json": {
       "type": "string"
      },
      "text/plain": [
       "'2021-06-17 16:34:07 UTC'"
      ]
     },
     "execution_count": 1,
     "metadata": {
      "tags": []
     },
     "output_type": "execute_result"
    }
   ],
   "source": [
    "import time \n",
    "t = time.time()\n",
    "time.strftime('%Y-%m-%d %H:%M:%S %Z', time.localtime(t))"
   ]
  },
  {
   "cell_type": "code",
   "execution_count": 2,
   "metadata": {
    "id": "Nhz4GKonj2T_"
   },
   "outputs": [],
   "source": [
    "PC_SEQUENCES=32000   # how many protein-coding sequences\n",
    "NC_SEQUENCES=32000   # how many non-coding sequences\n",
    "PC_TESTS=1000\n",
    "NC_TESTS=1000\n",
    "RNA_LEN=36            # how long is each sequence\n",
    "CDS_LEN=18            # min CDS len to be coding\n",
    "ALPHABET=4          # how many different letters are possible\n",
    "INPUT_SHAPE_2D = (RNA_LEN,ALPHABET,1) # Conv2D needs 3D inputs\n",
    "INPUT_SHAPE = (RNA_LEN,ALPHABET) # Conv1D needs 2D inputs\n",
    "FILTERS = 16   # how many different patterns the model looks for\n",
    "CELLS = 16\n",
    "NEURONS = 16\n",
    "DROP_RATE = 0.4\n",
    "WIDTH = 3   # how wide each pattern is, in bases\n",
    "STRIDE_2D = (1,1)  # For Conv2D how far in each direction\n",
    "STRIDE = 1 # For Conv1D, how far between pattern matches, in bases\n",
    "EPOCHS=50  # how many times to train on all the data\n",
    "SPLITS=3  # SPLITS=3 means train on 2/3 and validate on 1/3 \n",
    "FOLDS=3  # train the model this many times (range 1 to SPLITS)"
   ]
  },
  {
   "cell_type": "code",
   "execution_count": 3,
   "metadata": {
    "colab": {
     "base_uri": "https://localhost:8080/"
    },
    "id": "lr7q90rxj2UE",
    "outputId": "d04e45e9-ddb4-4f67-e7a7-28a908712d79"
   },
   "outputs": [
    {
     "name": "stdout",
     "output_type": "stream",
     "text": [
      "On Google CoLab, mount cloud-local file, get our code from GitHub.\n"
     ]
    }
   ],
   "source": [
    "import sys\n",
    "try:\n",
    "    from google.colab import drive\n",
    "    IN_COLAB = True\n",
    "    print(\"On Google CoLab, mount cloud-local file, get our code from GitHub.\")\n",
    "    PATH='/content/drive/'\n",
    "    #drive.mount(PATH,force_remount=True)  # hardly ever need this\n",
    "    #drive.mount(PATH)    # Google will require login credentials\n",
    "    DATAPATH=PATH+'My Drive/data/'  # must end in \"/\"\n",
    "    import requests\n",
    "    r = requests.get('https://raw.githubusercontent.com/ShepherdCode/Soars2021/master/SimTools/RNA_gen.py')\n",
    "    with open('RNA_gen.py', 'w') as f:\n",
    "        f.write(r.text)  \n",
    "    from RNA_gen import *\n",
    "    r = requests.get('https://raw.githubusercontent.com/ShepherdCode/Soars2021/master/SimTools/RNA_describe.py')\n",
    "    with open('RNA_describe.py', 'w') as f:\n",
    "        f.write(r.text)  \n",
    "    from RNA_describe import ORF_counter\n",
    "    r = requests.get('https://raw.githubusercontent.com/ShepherdCode/Soars2021/master/SimTools/RNA_prep.py')\n",
    "    with open('RNA_prep.py', 'w') as f:\n",
    "        f.write(r.text)  \n",
    "    from RNA_prep import *\n",
    "except:\n",
    "    print(\"CoLab not working. On my PC, use relative paths.\")\n",
    "    IN_COLAB = False\n",
    "    DATAPATH='data/'  # must end in \"/\"\n",
    "    sys.path.append(\"..\") # append parent dir in order to use sibling dirs\n",
    "    from SimTools.RNA_gen import *\n",
    "    from SimTools.RNA_describe import ORF_counter\n",
    "    from SimTools.RNA_prep import *\n",
    "\n",
    "MODELPATH=\"BestModel\"  # saved on cloud instance and lost after logout\n",
    "#MODELPATH=DATAPATH+MODELPATH  # saved on Google Drive but requires login\n",
    "\n",
    "if not assert_imported_RNA_gen():\n",
    "    print(\"ERROR: Cannot use RNA_gen.\")\n",
    "if not assert_imported_RNA_prep():\n",
    "    print(\"ERROR: Cannot use RNA_prep.\")"
   ]
  },
  {
   "cell_type": "code",
   "execution_count": 4,
   "metadata": {
    "id": "EGDXH8Uwj2UM"
   },
   "outputs": [],
   "source": [
    "from os import listdir\n",
    "import csv\n",
    "from zipfile import ZipFile\n",
    "\n",
    "import numpy as np\n",
    "import pandas as pd\n",
    "from scipy import stats  # mode\n",
    "\n",
    "from sklearn.preprocessing import StandardScaler\n",
    "from sklearn.model_selection import KFold\n",
    "from sklearn.model_selection import cross_val_score\n",
    "\n",
    "from keras.models import Sequential\n",
    "from keras.layers import Dense,Embedding,Dropout\n",
    "from keras.layers import Conv1D,Conv2D\n",
    "from keras.layers import GRU,LSTM\n",
    "from keras.layers import Flatten,TimeDistributed\n",
    "from keras.layers import MaxPooling1D,MaxPooling2D\n",
    "from keras.losses import BinaryCrossentropy\n",
    "# tf.keras.losses.BinaryCrossentropy\n",
    "\n",
    "import matplotlib.pyplot as plt\n",
    "from matplotlib import colors\n",
    "mycmap = colors.ListedColormap(['red','blue'])  # list color for label 0 then 1\n",
    "np.set_printoptions(precision=2)\n"
   ]
  },
  {
   "cell_type": "code",
   "execution_count": 5,
   "metadata": {
    "colab": {
     "base_uri": "https://localhost:8080/"
    },
    "id": "CUOG_jEvGtOm",
    "outputId": "09651138-f043-424f-e5c3-abec6e78c30c"
   },
   "outputs": [
    {
     "name": "stdout",
     "output_type": "stream",
     "text": [
      "It took 33 trials to reach 10 per class.\n",
      "It took 92267 trials to reach 33000 per class.\n",
      "Use 33000 PC seqs\n",
      "Use 33000 NC seqs\n"
     ]
    }
   ],
   "source": [
    "import random\n",
    "def partition_random_sequences(goal_per_class):\n",
    "    pc_seqs=[]\n",
    "    nc_seqs=[]\n",
    "    oc = ORF_counter()\n",
    "    trials = 0\n",
    "    pc_cnt = 0\n",
    "    nc_cnt = 0\n",
    "    bases=['A','C','G','T']\n",
    "    while pc_cnt<goal_per_class or nc_cnt<goal_per_class:\n",
    "        trials += 1        \n",
    "        between_bases = random.randint(0,RNA_LEN-6) \n",
    "        utr5_bases = (RNA_LEN - (between_bases + 6)) // 2\n",
    "        utr3_bases = RNA_LEN - (utr5_bases + (between_bases+6))\n",
    "        one_seq  = \"\".join(random.choices(bases,k=utr5_bases)) \n",
    "        one_seq += 'ATG'    \n",
    "        one_seq += \"\".join(random.choices(bases,k=between_bases)) \n",
    "        random_stop = random.choice(['TAA','TAG','TGA']) # random frame\n",
    "        one_seq += random_stop\n",
    "        one_seq += \"\".join(random.choices(bases,k=utr3_bases))  \n",
    "        if len(one_seq) != RNA_LEN:\n",
    "            print(\"WRONG LENGTH:\",len(one_seq),utr5_bases,between_bases,utr3_bases)\n",
    "        oc.set_sequence(one_seq)\n",
    "        cds_len = oc.get_max_cds_len() + 3\n",
    "        if cds_len >= CDS_LEN and pc_cnt<goal_per_class:\n",
    "            pc_cnt += 1\n",
    "            pc_seqs.append(one_seq)\n",
    "        elif cds_len < CDS_LEN and nc_cnt<goal_per_class:\n",
    "            nc_cnt += 1\n",
    "            nc_seqs.append(one_seq)\n",
    "    print (\"It took %d trials to reach %d per class.\"%(trials,goal_per_class))\n",
    "    return pc_seqs,nc_seqs\n",
    "pc_all,nc_all=partition_random_sequences(10)  # just testing\n",
    "pc_all,nc_all=partition_random_sequences(PC_SEQUENCES+PC_TESTS)\n",
    "print(\"Use\",len(pc_all),\"PC seqs\")\n",
    "print(\"Use\",len(nc_all),\"NC seqs\")"
   ]
  },
  {
   "cell_type": "code",
   "execution_count": 6,
   "metadata": {
    "colab": {
     "base_uri": "https://localhost:8080/"
    },
    "id": "Q-BmSXi2jUyl",
    "outputId": "9a8a1aec-09ce-4d52-d497-ba0aeb222da7"
   },
   "outputs": [
    {
     "name": "stdout",
     "output_type": "stream",
     "text": [
      "Simulated sequences prior to adjustment:\n",
      "PC seqs\n",
      "Average RNA length: 36.0\n",
      "Average ORF length: 20.012\n",
      "NC seqs\n",
      "Average RNA length: 36.0\n",
      "Average ORF length: 2.0038181818181817\n"
     ]
    }
   ],
   "source": [
    "# Describe the sequences\n",
    "def describe_sequences(list_of_seq):\n",
    "    oc = ORF_counter()\n",
    "    num_seq = len(list_of_seq)\n",
    "    rna_lens = np.zeros(num_seq)\n",
    "    orf_lens = np.zeros(num_seq)\n",
    "    for i in range(0,num_seq):\n",
    "        rna_len = len(list_of_seq[i])\n",
    "        rna_lens[i] = rna_len\n",
    "        oc.set_sequence(list_of_seq[i])\n",
    "        orf_len = oc.get_max_orf_len()\n",
    "        orf_lens[i] = orf_len\n",
    "    print (\"Average RNA length:\",rna_lens.mean())\n",
    "    print (\"Average ORF length:\",orf_lens.mean())\n",
    "    \n",
    "print(\"Simulated sequences prior to adjustment:\")\n",
    "print(\"PC seqs\")\n",
    "describe_sequences(pc_all)\n",
    "print(\"NC seqs\")\n",
    "describe_sequences(nc_all)"
   ]
  },
  {
   "cell_type": "code",
   "execution_count": 7,
   "metadata": {
    "id": "iP1y7-J3jUys"
   },
   "outputs": [],
   "source": [
    "pc_train=pc_all[:PC_SEQUENCES]\n",
    "nc_train=nc_all[:NC_SEQUENCES]\n",
    "pc_test=pc_all[PC_SEQUENCES:]\n",
    "nc_test=nc_all[NC_SEQUENCES:]"
   ]
  },
  {
   "cell_type": "code",
   "execution_count": 8,
   "metadata": {
    "colab": {
     "base_uri": "https://localhost:8080/"
    },
    "id": "CIpTrnH6j2US",
    "outputId": "debff95e-0956-49ac-8fa2-077b73d39326"
   },
   "outputs": [
    {
     "name": "stdout",
     "output_type": "stream",
     "text": [
      "Data ready.\n"
     ]
    }
   ],
   "source": [
    "# Use code from our SimTools library.\n",
    "X,y = prepare_inputs_len_x_alphabet(pc_train,nc_train,ALPHABET) # shuffles\n",
    "print(\"Data ready.\")"
   ]
  },
  {
   "cell_type": "code",
   "execution_count": 9,
   "metadata": {
    "colab": {
     "base_uri": "https://localhost:8080/"
    },
    "id": "7NvrVU8ij2UU",
    "outputId": "c2dac18e-fc34-46bc-9556-3bd4138a7bbb"
   },
   "outputs": [
    {
     "name": "stdout",
     "output_type": "stream",
     "text": [
      "make_DNN\n",
      "input shape: (36, 4)\n",
      "Model: \"sequential\"\n",
      "_________________________________________________________________\n",
      "Layer (type)                 Output Shape              Param #   \n",
      "=================================================================\n",
      "conv1d (Conv1D)              (None, 36, 16)            208       \n",
      "_________________________________________________________________\n",
      "conv1d_1 (Conv1D)            (None, 36, 16)            784       \n",
      "_________________________________________________________________\n",
      "max_pooling1d (MaxPooling1D) (None, 18, 16)            0         \n",
      "_________________________________________________________________\n",
      "gru (GRU)                    (None, 18, 16)            1632      \n",
      "_________________________________________________________________\n",
      "gru_1 (GRU)                  (None, 16)                1632      \n",
      "_________________________________________________________________\n",
      "dense (Dense)                (None, 16)                272       \n",
      "_________________________________________________________________\n",
      "dropout (Dropout)            (None, 16)                0         \n",
      "_________________________________________________________________\n",
      "dense_1 (Dense)              (None, 1)                 17        \n",
      "=================================================================\n",
      "Total params: 4,545\n",
      "Trainable params: 4,545\n",
      "Non-trainable params: 0\n",
      "_________________________________________________________________\n",
      "None\n"
     ]
    }
   ],
   "source": [
    "def make_DNN():\n",
    "    print(\"make_DNN\")\n",
    "    print(\"input shape:\",INPUT_SHAPE)\n",
    "    dnn = Sequential()\n",
    "    #dnn.add(Embedding(input_dim=INPUT_SHAPE,output_dim=INPUT_SHAPE)) \n",
    "    dnn.add(Conv1D(filters=FILTERS,kernel_size=WIDTH,strides=STRIDE,padding=\"same\",\n",
    "            input_shape=INPUT_SHAPE))\n",
    "    dnn.add(Conv1D(filters=FILTERS,kernel_size=WIDTH,strides=STRIDE,padding=\"same\"))\n",
    "    dnn.add(MaxPooling1D())\n",
    "    #dnn.add(Conv1D(filters=FILTERS,kernel_size=WIDTH,strides=STRIDE,padding=\"same\"))\n",
    "    #dnn.add(Conv1D(filters=FILTERS,kernel_size=WIDTH,strides=STRIDE,padding=\"same\"))\n",
    "    #dnn.add(MaxPooling1D())\n",
    "    #dnn.add(TimeDistributed(Flatten()))\n",
    "    dnn.add(GRU(CELLS,return_sequences=True))\n",
    "    dnn.add(GRU(CELLS,return_sequences=False))\n",
    "    dnn.add(Dense(NEURONS,activation=\"sigmoid\",dtype=np.float32))   \n",
    "    dnn.add(Dropout(DROP_RATE))\n",
    "    dnn.add(Dense(1,activation=\"sigmoid\",dtype=np.float32))   \n",
    "    dnn.compile(optimizer='adam',\n",
    "                loss=BinaryCrossentropy(from_logits=False),\n",
    "                metrics=['accuracy'])   # add to default metrics=loss\n",
    "    dnn.build(input_shape=INPUT_SHAPE)\n",
    "    #ln_rate = tf.keras.optimizers.Adam(learning_rate = LN_RATE)\n",
    "    #bc=tf.keras.losses.BinaryCrossentropy(from_logits=False)\n",
    "    #model.compile(loss=bc, optimizer=ln_rate, metrics=[\"accuracy\"])\n",
    "    return dnn\n",
    "model = make_DNN()\n",
    "print(model.summary())"
   ]
  },
  {
   "cell_type": "code",
   "execution_count": 10,
   "metadata": {
    "id": "nlVF0hR3j2UW"
   },
   "outputs": [],
   "source": [
    "from keras.callbacks import ModelCheckpoint\n",
    "def do_cross_validation(X,y):\n",
    "    cv_scores = []\n",
    "    fold=0\n",
    "    mycallbacks = [ModelCheckpoint(\n",
    "        filepath=MODELPATH, save_best_only=True, \n",
    "        monitor='val_accuracy', mode='max')]   \n",
    "    splitter = KFold(n_splits=SPLITS)  # this does not shuffle\n",
    "    for train_index,valid_index in splitter.split(X):\n",
    "        if fold < FOLDS:\n",
    "            fold += 1\n",
    "            X_train=X[train_index] # inputs for training\n",
    "            y_train=y[train_index] # labels for training\n",
    "            X_valid=X[valid_index] # inputs for validation\n",
    "            y_valid=y[valid_index] # labels for validation\n",
    "            print(\"MODEL\")\n",
    "            # Call constructor on each CV. Else, continually improves the same model.\n",
    "            model = model = make_DNN()\n",
    "            print(\"FIT\")  # model.fit() implements learning\n",
    "            start_time=time.time()\n",
    "            history=model.fit(X_train, y_train, \n",
    "                    epochs=EPOCHS, \n",
    "                    verbose=1,  # ascii art while learning\n",
    "                    callbacks=mycallbacks,   # called at end of each epoch\n",
    "                    validation_data=(X_valid,y_valid))\n",
    "            end_time=time.time()\n",
    "            elapsed_time=(end_time-start_time)                        \n",
    "            print(\"Fold %d, %d epochs, %d sec\"%(fold,EPOCHS,elapsed_time))\n",
    "            # print(history.history.keys())  # all these keys will be shown in figure\n",
    "            pd.DataFrame(history.history).plot(figsize=(8,5))\n",
    "            plt.grid(True)\n",
    "            plt.gca().set_ylim(0,1) # any losses > 1 will be off the scale\n",
    "            plt.show()\n"
   ]
  },
  {
   "cell_type": "code",
   "execution_count": 11,
   "metadata": {
    "colab": {
     "base_uri": "https://localhost:8080/",
     "height": 1000
    },
    "id": "9Ggt4EsSj2UY",
    "outputId": "fb8e7256-fbca-40c2-ded1-760cfd5949c7"
   },
   "outputs": [
    {
     "name": "stdout",
     "output_type": "stream",
     "text": [
      "MODEL\n",
      "make_DNN\n",
      "input shape: (36, 4)\n",
      "FIT\n",
      "Epoch 1/50\n",
      "1334/1334 [==============================] - 29s 8ms/step - loss: 0.6983 - accuracy: 0.5284 - val_loss: 0.6455 - val_accuracy: 0.6159\n"
     ]
    },
    {
     "name": "stderr",
     "output_type": "stream",
     "text": [
      "WARNING:absl:Found untraced functions such as gru_cell_2_layer_call_fn, gru_cell_2_layer_call_and_return_conditional_losses, gru_cell_3_layer_call_fn, gru_cell_3_layer_call_and_return_conditional_losses, gru_cell_2_layer_call_fn while saving (showing 5 of 10). These functions will not be directly callable after loading.\n"
     ]
    },
    {
     "name": "stdout",
     "output_type": "stream",
     "text": [
      "INFO:tensorflow:Assets written to: BestModel/assets\n"
     ]
    },
    {
     "name": "stderr",
     "output_type": "stream",
     "text": [
      "INFO:tensorflow:Assets written to: BestModel/assets\n"
     ]
    },
    {
     "name": "stdout",
     "output_type": "stream",
     "text": [
      "Epoch 2/50\n",
      "1334/1334 [==============================] - 9s 7ms/step - loss: 0.6436 - accuracy: 0.6174 - val_loss: 0.6139 - val_accuracy: 0.6225\n"
     ]
    },
    {
     "name": "stderr",
     "output_type": "stream",
     "text": [
      "WARNING:absl:Found untraced functions such as gru_cell_2_layer_call_fn, gru_cell_2_layer_call_and_return_conditional_losses, gru_cell_3_layer_call_fn, gru_cell_3_layer_call_and_return_conditional_losses, gru_cell_2_layer_call_fn while saving (showing 5 of 10). These functions will not be directly callable after loading.\n"
     ]
    },
    {
     "name": "stdout",
     "output_type": "stream",
     "text": [
      "INFO:tensorflow:Assets written to: BestModel/assets\n"
     ]
    },
    {
     "name": "stderr",
     "output_type": "stream",
     "text": [
      "INFO:tensorflow:Assets written to: BestModel/assets\n"
     ]
    },
    {
     "name": "stdout",
     "output_type": "stream",
     "text": [
      "Epoch 3/50\n",
      "1334/1334 [==============================] - 9s 7ms/step - loss: 0.6179 - accuracy: 0.6304 - val_loss: 0.5995 - val_accuracy: 0.6321\n"
     ]
    },
    {
     "name": "stderr",
     "output_type": "stream",
     "text": [
      "WARNING:absl:Found untraced functions such as gru_cell_2_layer_call_fn, gru_cell_2_layer_call_and_return_conditional_losses, gru_cell_3_layer_call_fn, gru_cell_3_layer_call_and_return_conditional_losses, gru_cell_2_layer_call_fn while saving (showing 5 of 10). These functions will not be directly callable after loading.\n"
     ]
    },
    {
     "name": "stdout",
     "output_type": "stream",
     "text": [
      "INFO:tensorflow:Assets written to: BestModel/assets\n"
     ]
    },
    {
     "name": "stderr",
     "output_type": "stream",
     "text": [
      "INFO:tensorflow:Assets written to: BestModel/assets\n"
     ]
    },
    {
     "name": "stdout",
     "output_type": "stream",
     "text": [
      "Epoch 4/50\n",
      "1334/1334 [==============================] - 9s 7ms/step - loss: 0.5991 - accuracy: 0.6418 - val_loss: 0.5912 - val_accuracy: 0.6445\n"
     ]
    },
    {
     "name": "stderr",
     "output_type": "stream",
     "text": [
      "WARNING:absl:Found untraced functions such as gru_cell_2_layer_call_fn, gru_cell_2_layer_call_and_return_conditional_losses, gru_cell_3_layer_call_fn, gru_cell_3_layer_call_and_return_conditional_losses, gru_cell_2_layer_call_fn while saving (showing 5 of 10). These functions will not be directly callable after loading.\n"
     ]
    },
    {
     "name": "stdout",
     "output_type": "stream",
     "text": [
      "INFO:tensorflow:Assets written to: BestModel/assets\n"
     ]
    },
    {
     "name": "stderr",
     "output_type": "stream",
     "text": [
      "INFO:tensorflow:Assets written to: BestModel/assets\n"
     ]
    },
    {
     "name": "stdout",
     "output_type": "stream",
     "text": [
      "Epoch 5/50\n",
      "1334/1334 [==============================] - 9s 7ms/step - loss: 0.5931 - accuracy: 0.6545 - val_loss: 0.5828 - val_accuracy: 0.6811\n"
     ]
    },
    {
     "name": "stderr",
     "output_type": "stream",
     "text": [
      "WARNING:absl:Found untraced functions such as gru_cell_2_layer_call_fn, gru_cell_2_layer_call_and_return_conditional_losses, gru_cell_3_layer_call_fn, gru_cell_3_layer_call_and_return_conditional_losses, gru_cell_2_layer_call_fn while saving (showing 5 of 10). These functions will not be directly callable after loading.\n"
     ]
    },
    {
     "name": "stdout",
     "output_type": "stream",
     "text": [
      "INFO:tensorflow:Assets written to: BestModel/assets\n"
     ]
    },
    {
     "name": "stderr",
     "output_type": "stream",
     "text": [
      "INFO:tensorflow:Assets written to: BestModel/assets\n"
     ]
    },
    {
     "name": "stdout",
     "output_type": "stream",
     "text": [
      "Epoch 6/50\n",
      "1334/1334 [==============================] - 10s 7ms/step - loss: 0.5851 - accuracy: 0.6790 - val_loss: 0.5760 - val_accuracy: 0.6898\n"
     ]
    },
    {
     "name": "stderr",
     "output_type": "stream",
     "text": [
      "WARNING:absl:Found untraced functions such as gru_cell_2_layer_call_fn, gru_cell_2_layer_call_and_return_conditional_losses, gru_cell_3_layer_call_fn, gru_cell_3_layer_call_and_return_conditional_losses, gru_cell_2_layer_call_fn while saving (showing 5 of 10). These functions will not be directly callable after loading.\n"
     ]
    },
    {
     "name": "stdout",
     "output_type": "stream",
     "text": [
      "INFO:tensorflow:Assets written to: BestModel/assets\n"
     ]
    },
    {
     "name": "stderr",
     "output_type": "stream",
     "text": [
      "INFO:tensorflow:Assets written to: BestModel/assets\n"
     ]
    },
    {
     "name": "stdout",
     "output_type": "stream",
     "text": [
      "Epoch 7/50\n",
      "1334/1334 [==============================] - 9s 7ms/step - loss: 0.5756 - accuracy: 0.6914 - val_loss: 0.5654 - val_accuracy: 0.6988\n"
     ]
    },
    {
     "name": "stderr",
     "output_type": "stream",
     "text": [
      "WARNING:absl:Found untraced functions such as gru_cell_2_layer_call_fn, gru_cell_2_layer_call_and_return_conditional_losses, gru_cell_3_layer_call_fn, gru_cell_3_layer_call_and_return_conditional_losses, gru_cell_2_layer_call_fn while saving (showing 5 of 10). These functions will not be directly callable after loading.\n"
     ]
    },
    {
     "name": "stdout",
     "output_type": "stream",
     "text": [
      "INFO:tensorflow:Assets written to: BestModel/assets\n"
     ]
    },
    {
     "name": "stderr",
     "output_type": "stream",
     "text": [
      "INFO:tensorflow:Assets written to: BestModel/assets\n"
     ]
    },
    {
     "name": "stdout",
     "output_type": "stream",
     "text": [
      "Epoch 8/50\n",
      "1334/1334 [==============================] - 9s 7ms/step - loss: 0.5661 - accuracy: 0.7037 - val_loss: 0.5554 - val_accuracy: 0.7108\n"
     ]
    },
    {
     "name": "stderr",
     "output_type": "stream",
     "text": [
      "WARNING:absl:Found untraced functions such as gru_cell_2_layer_call_fn, gru_cell_2_layer_call_and_return_conditional_losses, gru_cell_3_layer_call_fn, gru_cell_3_layer_call_and_return_conditional_losses, gru_cell_2_layer_call_fn while saving (showing 5 of 10). These functions will not be directly callable after loading.\n"
     ]
    },
    {
     "name": "stdout",
     "output_type": "stream",
     "text": [
      "INFO:tensorflow:Assets written to: BestModel/assets\n"
     ]
    },
    {
     "name": "stderr",
     "output_type": "stream",
     "text": [
      "INFO:tensorflow:Assets written to: BestModel/assets\n"
     ]
    },
    {
     "name": "stdout",
     "output_type": "stream",
     "text": [
      "Epoch 9/50\n",
      "1334/1334 [==============================] - 9s 7ms/step - loss: 0.5615 - accuracy: 0.7088 - val_loss: 0.5496 - val_accuracy: 0.7168\n"
     ]
    },
    {
     "name": "stderr",
     "output_type": "stream",
     "text": [
      "WARNING:absl:Found untraced functions such as gru_cell_2_layer_call_fn, gru_cell_2_layer_call_and_return_conditional_losses, gru_cell_3_layer_call_fn, gru_cell_3_layer_call_and_return_conditional_losses, gru_cell_2_layer_call_fn while saving (showing 5 of 10). These functions will not be directly callable after loading.\n"
     ]
    },
    {
     "name": "stdout",
     "output_type": "stream",
     "text": [
      "INFO:tensorflow:Assets written to: BestModel/assets\n"
     ]
    },
    {
     "name": "stderr",
     "output_type": "stream",
     "text": [
      "INFO:tensorflow:Assets written to: BestModel/assets\n"
     ]
    },
    {
     "name": "stdout",
     "output_type": "stream",
     "text": [
      "Epoch 10/50\n",
      "1334/1334 [==============================] - 9s 7ms/step - loss: 0.5534 - accuracy: 0.7182 - val_loss: 0.5366 - val_accuracy: 0.7302\n"
     ]
    },
    {
     "name": "stderr",
     "output_type": "stream",
     "text": [
      "WARNING:absl:Found untraced functions such as gru_cell_2_layer_call_fn, gru_cell_2_layer_call_and_return_conditional_losses, gru_cell_3_layer_call_fn, gru_cell_3_layer_call_and_return_conditional_losses, gru_cell_2_layer_call_fn while saving (showing 5 of 10). These functions will not be directly callable after loading.\n"
     ]
    },
    {
     "name": "stdout",
     "output_type": "stream",
     "text": [
      "INFO:tensorflow:Assets written to: BestModel/assets\n"
     ]
    },
    {
     "name": "stderr",
     "output_type": "stream",
     "text": [
      "INFO:tensorflow:Assets written to: BestModel/assets\n"
     ]
    },
    {
     "name": "stdout",
     "output_type": "stream",
     "text": [
      "Epoch 11/50\n",
      "1334/1334 [==============================] - 9s 7ms/step - loss: 0.5381 - accuracy: 0.7334 - val_loss: 0.5173 - val_accuracy: 0.7428\n"
     ]
    },
    {
     "name": "stderr",
     "output_type": "stream",
     "text": [
      "WARNING:absl:Found untraced functions such as gru_cell_2_layer_call_fn, gru_cell_2_layer_call_and_return_conditional_losses, gru_cell_3_layer_call_fn, gru_cell_3_layer_call_and_return_conditional_losses, gru_cell_2_layer_call_fn while saving (showing 5 of 10). These functions will not be directly callable after loading.\n"
     ]
    },
    {
     "name": "stdout",
     "output_type": "stream",
     "text": [
      "INFO:tensorflow:Assets written to: BestModel/assets\n"
     ]
    },
    {
     "name": "stderr",
     "output_type": "stream",
     "text": [
      "INFO:tensorflow:Assets written to: BestModel/assets\n"
     ]
    },
    {
     "name": "stdout",
     "output_type": "stream",
     "text": [
      "Epoch 12/50\n",
      "1334/1334 [==============================] - 9s 7ms/step - loss: 0.5163 - accuracy: 0.7468 - val_loss: 0.5102 - val_accuracy: 0.7424\n",
      "Epoch 13/50\n",
      "1334/1334 [==============================] - 9s 7ms/step - loss: 0.4986 - accuracy: 0.7624 - val_loss: 0.4701 - val_accuracy: 0.7751\n"
     ]
    },
    {
     "name": "stderr",
     "output_type": "stream",
     "text": [
      "WARNING:absl:Found untraced functions such as gru_cell_2_layer_call_fn, gru_cell_2_layer_call_and_return_conditional_losses, gru_cell_3_layer_call_fn, gru_cell_3_layer_call_and_return_conditional_losses, gru_cell_2_layer_call_fn while saving (showing 5 of 10). These functions will not be directly callable after loading.\n"
     ]
    },
    {
     "name": "stdout",
     "output_type": "stream",
     "text": [
      "INFO:tensorflow:Assets written to: BestModel/assets\n"
     ]
    },
    {
     "name": "stderr",
     "output_type": "stream",
     "text": [
      "INFO:tensorflow:Assets written to: BestModel/assets\n"
     ]
    },
    {
     "name": "stdout",
     "output_type": "stream",
     "text": [
      "Epoch 14/50\n",
      "1334/1334 [==============================] - 9s 7ms/step - loss: 0.4694 - accuracy: 0.7809 - val_loss: 0.4524 - val_accuracy: 0.7897\n"
     ]
    },
    {
     "name": "stderr",
     "output_type": "stream",
     "text": [
      "WARNING:absl:Found untraced functions such as gru_cell_2_layer_call_fn, gru_cell_2_layer_call_and_return_conditional_losses, gru_cell_3_layer_call_fn, gru_cell_3_layer_call_and_return_conditional_losses, gru_cell_2_layer_call_fn while saving (showing 5 of 10). These functions will not be directly callable after loading.\n"
     ]
    },
    {
     "name": "stdout",
     "output_type": "stream",
     "text": [
      "INFO:tensorflow:Assets written to: BestModel/assets\n"
     ]
    },
    {
     "name": "stderr",
     "output_type": "stream",
     "text": [
      "INFO:tensorflow:Assets written to: BestModel/assets\n"
     ]
    },
    {
     "name": "stdout",
     "output_type": "stream",
     "text": [
      "Epoch 15/50\n",
      "1334/1334 [==============================] - 10s 7ms/step - loss: 0.4509 - accuracy: 0.7919 - val_loss: 0.4397 - val_accuracy: 0.7924\n"
     ]
    },
    {
     "name": "stderr",
     "output_type": "stream",
     "text": [
      "WARNING:absl:Found untraced functions such as gru_cell_2_layer_call_fn, gru_cell_2_layer_call_and_return_conditional_losses, gru_cell_3_layer_call_fn, gru_cell_3_layer_call_and_return_conditional_losses, gru_cell_2_layer_call_fn while saving (showing 5 of 10). These functions will not be directly callable after loading.\n"
     ]
    },
    {
     "name": "stdout",
     "output_type": "stream",
     "text": [
      "INFO:tensorflow:Assets written to: BestModel/assets\n"
     ]
    },
    {
     "name": "stderr",
     "output_type": "stream",
     "text": [
      "INFO:tensorflow:Assets written to: BestModel/assets\n"
     ]
    },
    {
     "name": "stdout",
     "output_type": "stream",
     "text": [
      "Epoch 16/50\n",
      "1334/1334 [==============================] - 9s 7ms/step - loss: 0.4357 - accuracy: 0.8008 - val_loss: 0.4156 - val_accuracy: 0.8109\n"
     ]
    },
    {
     "name": "stderr",
     "output_type": "stream",
     "text": [
      "WARNING:absl:Found untraced functions such as gru_cell_2_layer_call_fn, gru_cell_2_layer_call_and_return_conditional_losses, gru_cell_3_layer_call_fn, gru_cell_3_layer_call_and_return_conditional_losses, gru_cell_2_layer_call_fn while saving (showing 5 of 10). These functions will not be directly callable after loading.\n"
     ]
    },
    {
     "name": "stdout",
     "output_type": "stream",
     "text": [
      "INFO:tensorflow:Assets written to: BestModel/assets\n"
     ]
    },
    {
     "name": "stderr",
     "output_type": "stream",
     "text": [
      "INFO:tensorflow:Assets written to: BestModel/assets\n"
     ]
    },
    {
     "name": "stdout",
     "output_type": "stream",
     "text": [
      "Epoch 17/50\n",
      "1334/1334 [==============================] - 10s 7ms/step - loss: 0.4197 - accuracy: 0.8113 - val_loss: 0.4027 - val_accuracy: 0.8159\n"
     ]
    },
    {
     "name": "stderr",
     "output_type": "stream",
     "text": [
      "WARNING:absl:Found untraced functions such as gru_cell_2_layer_call_fn, gru_cell_2_layer_call_and_return_conditional_losses, gru_cell_3_layer_call_fn, gru_cell_3_layer_call_and_return_conditional_losses, gru_cell_2_layer_call_fn while saving (showing 5 of 10). These functions will not be directly callable after loading.\n"
     ]
    },
    {
     "name": "stdout",
     "output_type": "stream",
     "text": [
      "INFO:tensorflow:Assets written to: BestModel/assets\n"
     ]
    },
    {
     "name": "stderr",
     "output_type": "stream",
     "text": [
      "INFO:tensorflow:Assets written to: BestModel/assets\n"
     ]
    },
    {
     "name": "stdout",
     "output_type": "stream",
     "text": [
      "Epoch 18/50\n",
      "1334/1334 [==============================] - 9s 7ms/step - loss: 0.4057 - accuracy: 0.8213 - val_loss: 0.3870 - val_accuracy: 0.8219\n"
     ]
    },
    {
     "name": "stderr",
     "output_type": "stream",
     "text": [
      "WARNING:absl:Found untraced functions such as gru_cell_2_layer_call_fn, gru_cell_2_layer_call_and_return_conditional_losses, gru_cell_3_layer_call_fn, gru_cell_3_layer_call_and_return_conditional_losses, gru_cell_2_layer_call_fn while saving (showing 5 of 10). These functions will not be directly callable after loading.\n"
     ]
    },
    {
     "name": "stdout",
     "output_type": "stream",
     "text": [
      "INFO:tensorflow:Assets written to: BestModel/assets\n"
     ]
    },
    {
     "name": "stderr",
     "output_type": "stream",
     "text": [
      "INFO:tensorflow:Assets written to: BestModel/assets\n"
     ]
    },
    {
     "name": "stdout",
     "output_type": "stream",
     "text": [
      "Epoch 19/50\n",
      "1334/1334 [==============================] - 9s 7ms/step - loss: 0.4029 - accuracy: 0.8218 - val_loss: 0.3997 - val_accuracy: 0.8134\n",
      "Epoch 20/50\n",
      "1334/1334 [==============================] - 10s 7ms/step - loss: 0.3810 - accuracy: 0.8302 - val_loss: 0.3736 - val_accuracy: 0.8330\n"
     ]
    },
    {
     "name": "stderr",
     "output_type": "stream",
     "text": [
      "WARNING:absl:Found untraced functions such as gru_cell_2_layer_call_fn, gru_cell_2_layer_call_and_return_conditional_losses, gru_cell_3_layer_call_fn, gru_cell_3_layer_call_and_return_conditional_losses, gru_cell_2_layer_call_fn while saving (showing 5 of 10). These functions will not be directly callable after loading.\n"
     ]
    },
    {
     "name": "stdout",
     "output_type": "stream",
     "text": [
      "INFO:tensorflow:Assets written to: BestModel/assets\n"
     ]
    },
    {
     "name": "stderr",
     "output_type": "stream",
     "text": [
      "INFO:tensorflow:Assets written to: BestModel/assets\n"
     ]
    },
    {
     "name": "stdout",
     "output_type": "stream",
     "text": [
      "Epoch 21/50\n",
      "1334/1334 [==============================] - 9s 7ms/step - loss: 0.3637 - accuracy: 0.8415 - val_loss: 0.3573 - val_accuracy: 0.8441\n"
     ]
    },
    {
     "name": "stderr",
     "output_type": "stream",
     "text": [
      "WARNING:absl:Found untraced functions such as gru_cell_2_layer_call_fn, gru_cell_2_layer_call_and_return_conditional_losses, gru_cell_3_layer_call_fn, gru_cell_3_layer_call_and_return_conditional_losses, gru_cell_2_layer_call_fn while saving (showing 5 of 10). These functions will not be directly callable after loading.\n"
     ]
    },
    {
     "name": "stdout",
     "output_type": "stream",
     "text": [
      "INFO:tensorflow:Assets written to: BestModel/assets\n"
     ]
    },
    {
     "name": "stderr",
     "output_type": "stream",
     "text": [
      "INFO:tensorflow:Assets written to: BestModel/assets\n"
     ]
    },
    {
     "name": "stdout",
     "output_type": "stream",
     "text": [
      "Epoch 22/50\n",
      "1334/1334 [==============================] - 9s 7ms/step - loss: 0.3427 - accuracy: 0.8504 - val_loss: 0.3332 - val_accuracy: 0.8501\n"
     ]
    },
    {
     "name": "stderr",
     "output_type": "stream",
     "text": [
      "WARNING:absl:Found untraced functions such as gru_cell_2_layer_call_fn, gru_cell_2_layer_call_and_return_conditional_losses, gru_cell_3_layer_call_fn, gru_cell_3_layer_call_and_return_conditional_losses, gru_cell_2_layer_call_fn while saving (showing 5 of 10). These functions will not be directly callable after loading.\n"
     ]
    },
    {
     "name": "stdout",
     "output_type": "stream",
     "text": [
      "INFO:tensorflow:Assets written to: BestModel/assets\n"
     ]
    },
    {
     "name": "stderr",
     "output_type": "stream",
     "text": [
      "INFO:tensorflow:Assets written to: BestModel/assets\n"
     ]
    },
    {
     "name": "stdout",
     "output_type": "stream",
     "text": [
      "Epoch 23/50\n",
      "1334/1334 [==============================] - 9s 7ms/step - loss: 0.3304 - accuracy: 0.8581 - val_loss: 0.3482 - val_accuracy: 0.8447\n",
      "Epoch 24/50\n",
      "1334/1334 [==============================] - 9s 7ms/step - loss: 0.3259 - accuracy: 0.8585 - val_loss: 0.3210 - val_accuracy: 0.8566\n"
     ]
    },
    {
     "name": "stderr",
     "output_type": "stream",
     "text": [
      "WARNING:absl:Found untraced functions such as gru_cell_2_layer_call_fn, gru_cell_2_layer_call_and_return_conditional_losses, gru_cell_3_layer_call_fn, gru_cell_3_layer_call_and_return_conditional_losses, gru_cell_2_layer_call_fn while saving (showing 5 of 10). These functions will not be directly callable after loading.\n"
     ]
    },
    {
     "name": "stdout",
     "output_type": "stream",
     "text": [
      "INFO:tensorflow:Assets written to: BestModel/assets\n"
     ]
    },
    {
     "name": "stderr",
     "output_type": "stream",
     "text": [
      "INFO:tensorflow:Assets written to: BestModel/assets\n"
     ]
    },
    {
     "name": "stdout",
     "output_type": "stream",
     "text": [
      "Epoch 25/50\n",
      "1334/1334 [==============================] - 9s 7ms/step - loss: 0.3159 - accuracy: 0.8646 - val_loss: 0.3101 - val_accuracy: 0.8625\n"
     ]
    },
    {
     "name": "stderr",
     "output_type": "stream",
     "text": [
      "WARNING:absl:Found untraced functions such as gru_cell_2_layer_call_fn, gru_cell_2_layer_call_and_return_conditional_losses, gru_cell_3_layer_call_fn, gru_cell_3_layer_call_and_return_conditional_losses, gru_cell_2_layer_call_fn while saving (showing 5 of 10). These functions will not be directly callable after loading.\n"
     ]
    },
    {
     "name": "stdout",
     "output_type": "stream",
     "text": [
      "INFO:tensorflow:Assets written to: BestModel/assets\n"
     ]
    },
    {
     "name": "stderr",
     "output_type": "stream",
     "text": [
      "INFO:tensorflow:Assets written to: BestModel/assets\n"
     ]
    },
    {
     "name": "stdout",
     "output_type": "stream",
     "text": [
      "Epoch 26/50\n",
      "1334/1334 [==============================] - 9s 7ms/step - loss: 0.3030 - accuracy: 0.8688 - val_loss: 0.3044 - val_accuracy: 0.8682\n"
     ]
    },
    {
     "name": "stderr",
     "output_type": "stream",
     "text": [
      "WARNING:absl:Found untraced functions such as gru_cell_2_layer_call_fn, gru_cell_2_layer_call_and_return_conditional_losses, gru_cell_3_layer_call_fn, gru_cell_3_layer_call_and_return_conditional_losses, gru_cell_2_layer_call_fn while saving (showing 5 of 10). These functions will not be directly callable after loading.\n"
     ]
    },
    {
     "name": "stdout",
     "output_type": "stream",
     "text": [
      "INFO:tensorflow:Assets written to: BestModel/assets\n"
     ]
    },
    {
     "name": "stderr",
     "output_type": "stream",
     "text": [
      "INFO:tensorflow:Assets written to: BestModel/assets\n"
     ]
    },
    {
     "name": "stdout",
     "output_type": "stream",
     "text": [
      "Epoch 27/50\n",
      "1334/1334 [==============================] - 10s 7ms/step - loss: 0.2921 - accuracy: 0.8753 - val_loss: 0.3058 - val_accuracy: 0.8673\n",
      "Epoch 28/50\n",
      "1334/1334 [==============================] - 10s 7ms/step - loss: 0.2920 - accuracy: 0.8755 - val_loss: 0.2828 - val_accuracy: 0.8759\n"
     ]
    },
    {
     "name": "stderr",
     "output_type": "stream",
     "text": [
      "WARNING:absl:Found untraced functions such as gru_cell_2_layer_call_fn, gru_cell_2_layer_call_and_return_conditional_losses, gru_cell_3_layer_call_fn, gru_cell_3_layer_call_and_return_conditional_losses, gru_cell_2_layer_call_fn while saving (showing 5 of 10). These functions will not be directly callable after loading.\n"
     ]
    },
    {
     "name": "stdout",
     "output_type": "stream",
     "text": [
      "INFO:tensorflow:Assets written to: BestModel/assets\n"
     ]
    },
    {
     "name": "stderr",
     "output_type": "stream",
     "text": [
      "INFO:tensorflow:Assets written to: BestModel/assets\n"
     ]
    },
    {
     "name": "stdout",
     "output_type": "stream",
     "text": [
      "Epoch 29/50\n",
      "1334/1334 [==============================] - 9s 7ms/step - loss: 0.2813 - accuracy: 0.8835 - val_loss: 0.2976 - val_accuracy: 0.8737\n",
      "Epoch 30/50\n",
      "1334/1334 [==============================] - 10s 7ms/step - loss: 0.2789 - accuracy: 0.8834 - val_loss: 0.2757 - val_accuracy: 0.8812\n"
     ]
    },
    {
     "name": "stderr",
     "output_type": "stream",
     "text": [
      "WARNING:absl:Found untraced functions such as gru_cell_2_layer_call_fn, gru_cell_2_layer_call_and_return_conditional_losses, gru_cell_3_layer_call_fn, gru_cell_3_layer_call_and_return_conditional_losses, gru_cell_2_layer_call_fn while saving (showing 5 of 10). These functions will not be directly callable after loading.\n"
     ]
    },
    {
     "name": "stdout",
     "output_type": "stream",
     "text": [
      "INFO:tensorflow:Assets written to: BestModel/assets\n"
     ]
    },
    {
     "name": "stderr",
     "output_type": "stream",
     "text": [
      "INFO:tensorflow:Assets written to: BestModel/assets\n"
     ]
    },
    {
     "name": "stdout",
     "output_type": "stream",
     "text": [
      "Epoch 31/50\n",
      "1334/1334 [==============================] - 9s 7ms/step - loss: 0.2645 - accuracy: 0.8912 - val_loss: 0.2733 - val_accuracy: 0.8832\n"
     ]
    },
    {
     "name": "stderr",
     "output_type": "stream",
     "text": [
      "WARNING:absl:Found untraced functions such as gru_cell_2_layer_call_fn, gru_cell_2_layer_call_and_return_conditional_losses, gru_cell_3_layer_call_fn, gru_cell_3_layer_call_and_return_conditional_losses, gru_cell_2_layer_call_fn while saving (showing 5 of 10). These functions will not be directly callable after loading.\n"
     ]
    },
    {
     "name": "stdout",
     "output_type": "stream",
     "text": [
      "INFO:tensorflow:Assets written to: BestModel/assets\n"
     ]
    },
    {
     "name": "stderr",
     "output_type": "stream",
     "text": [
      "INFO:tensorflow:Assets written to: BestModel/assets\n"
     ]
    },
    {
     "name": "stdout",
     "output_type": "stream",
     "text": [
      "Epoch 32/50\n",
      "1334/1334 [==============================] - 9s 7ms/step - loss: 0.2661 - accuracy: 0.8891 - val_loss: 0.2773 - val_accuracy: 0.8861\n"
     ]
    },
    {
     "name": "stderr",
     "output_type": "stream",
     "text": [
      "WARNING:absl:Found untraced functions such as gru_cell_2_layer_call_fn, gru_cell_2_layer_call_and_return_conditional_losses, gru_cell_3_layer_call_fn, gru_cell_3_layer_call_and_return_conditional_losses, gru_cell_2_layer_call_fn while saving (showing 5 of 10). These functions will not be directly callable after loading.\n"
     ]
    },
    {
     "name": "stdout",
     "output_type": "stream",
     "text": [
      "INFO:tensorflow:Assets written to: BestModel/assets\n"
     ]
    },
    {
     "name": "stderr",
     "output_type": "stream",
     "text": [
      "INFO:tensorflow:Assets written to: BestModel/assets\n"
     ]
    },
    {
     "name": "stdout",
     "output_type": "stream",
     "text": [
      "Epoch 33/50\n",
      "1334/1334 [==============================] - 10s 7ms/step - loss: 0.2569 - accuracy: 0.8927 - val_loss: 0.2737 - val_accuracy: 0.8821\n",
      "Epoch 34/50\n",
      "1334/1334 [==============================] - 10s 7ms/step - loss: 0.2527 - accuracy: 0.8968 - val_loss: 0.2658 - val_accuracy: 0.8869\n"
     ]
    },
    {
     "name": "stderr",
     "output_type": "stream",
     "text": [
      "WARNING:absl:Found untraced functions such as gru_cell_2_layer_call_fn, gru_cell_2_layer_call_and_return_conditional_losses, gru_cell_3_layer_call_fn, gru_cell_3_layer_call_and_return_conditional_losses, gru_cell_2_layer_call_fn while saving (showing 5 of 10). These functions will not be directly callable after loading.\n"
     ]
    },
    {
     "name": "stdout",
     "output_type": "stream",
     "text": [
      "INFO:tensorflow:Assets written to: BestModel/assets\n"
     ]
    },
    {
     "name": "stderr",
     "output_type": "stream",
     "text": [
      "INFO:tensorflow:Assets written to: BestModel/assets\n"
     ]
    },
    {
     "name": "stdout",
     "output_type": "stream",
     "text": [
      "Epoch 35/50\n",
      "1334/1334 [==============================] - 9s 7ms/step - loss: 0.2475 - accuracy: 0.8993 - val_loss: 0.2581 - val_accuracy: 0.8946\n"
     ]
    },
    {
     "name": "stderr",
     "output_type": "stream",
     "text": [
      "WARNING:absl:Found untraced functions such as gru_cell_2_layer_call_fn, gru_cell_2_layer_call_and_return_conditional_losses, gru_cell_3_layer_call_fn, gru_cell_3_layer_call_and_return_conditional_losses, gru_cell_2_layer_call_fn while saving (showing 5 of 10). These functions will not be directly callable after loading.\n"
     ]
    },
    {
     "name": "stdout",
     "output_type": "stream",
     "text": [
      "INFO:tensorflow:Assets written to: BestModel/assets\n"
     ]
    },
    {
     "name": "stderr",
     "output_type": "stream",
     "text": [
      "INFO:tensorflow:Assets written to: BestModel/assets\n"
     ]
    },
    {
     "name": "stdout",
     "output_type": "stream",
     "text": [
      "Epoch 36/50\n",
      "1334/1334 [==============================] - 9s 7ms/step - loss: 0.2439 - accuracy: 0.9005 - val_loss: 0.2626 - val_accuracy: 0.8894\n",
      "Epoch 37/50\n",
      "1334/1334 [==============================] - 10s 7ms/step - loss: 0.2338 - accuracy: 0.9055 - val_loss: 0.2544 - val_accuracy: 0.8925\n",
      "Epoch 38/50\n",
      "1334/1334 [==============================] - 10s 7ms/step - loss: 0.2281 - accuracy: 0.9077 - val_loss: 0.2359 - val_accuracy: 0.9020\n"
     ]
    },
    {
     "name": "stderr",
     "output_type": "stream",
     "text": [
      "WARNING:absl:Found untraced functions such as gru_cell_2_layer_call_fn, gru_cell_2_layer_call_and_return_conditional_losses, gru_cell_3_layer_call_fn, gru_cell_3_layer_call_and_return_conditional_losses, gru_cell_2_layer_call_fn while saving (showing 5 of 10). These functions will not be directly callable after loading.\n"
     ]
    },
    {
     "name": "stdout",
     "output_type": "stream",
     "text": [
      "INFO:tensorflow:Assets written to: BestModel/assets\n"
     ]
    },
    {
     "name": "stderr",
     "output_type": "stream",
     "text": [
      "INFO:tensorflow:Assets written to: BestModel/assets\n"
     ]
    },
    {
     "name": "stdout",
     "output_type": "stream",
     "text": [
      "Epoch 39/50\n",
      "1334/1334 [==============================] - 10s 7ms/step - loss: 0.2206 - accuracy: 0.9118 - val_loss: 0.2429 - val_accuracy: 0.9022\n"
     ]
    },
    {
     "name": "stderr",
     "output_type": "stream",
     "text": [
      "WARNING:absl:Found untraced functions such as gru_cell_2_layer_call_fn, gru_cell_2_layer_call_and_return_conditional_losses, gru_cell_3_layer_call_fn, gru_cell_3_layer_call_and_return_conditional_losses, gru_cell_2_layer_call_fn while saving (showing 5 of 10). These functions will not be directly callable after loading.\n"
     ]
    },
    {
     "name": "stdout",
     "output_type": "stream",
     "text": [
      "INFO:tensorflow:Assets written to: BestModel/assets\n"
     ]
    },
    {
     "name": "stderr",
     "output_type": "stream",
     "text": [
      "INFO:tensorflow:Assets written to: BestModel/assets\n"
     ]
    },
    {
     "name": "stdout",
     "output_type": "stream",
     "text": [
      "Epoch 40/50\n",
      "1334/1334 [==============================] - 9s 7ms/step - loss: 0.2176 - accuracy: 0.9123 - val_loss: 0.2277 - val_accuracy: 0.9062\n"
     ]
    },
    {
     "name": "stderr",
     "output_type": "stream",
     "text": [
      "WARNING:absl:Found untraced functions such as gru_cell_2_layer_call_fn, gru_cell_2_layer_call_and_return_conditional_losses, gru_cell_3_layer_call_fn, gru_cell_3_layer_call_and_return_conditional_losses, gru_cell_2_layer_call_fn while saving (showing 5 of 10). These functions will not be directly callable after loading.\n"
     ]
    },
    {
     "name": "stdout",
     "output_type": "stream",
     "text": [
      "INFO:tensorflow:Assets written to: BestModel/assets\n"
     ]
    },
    {
     "name": "stderr",
     "output_type": "stream",
     "text": [
      "INFO:tensorflow:Assets written to: BestModel/assets\n"
     ]
    },
    {
     "name": "stdout",
     "output_type": "stream",
     "text": [
      "Epoch 41/50\n",
      "1334/1334 [==============================] - 10s 7ms/step - loss: 0.2052 - accuracy: 0.9183 - val_loss: 0.2360 - val_accuracy: 0.9057\n",
      "Epoch 42/50\n",
      "1334/1334 [==============================] - 10s 7ms/step - loss: 0.2066 - accuracy: 0.9162 - val_loss: 0.2305 - val_accuracy: 0.9023\n",
      "Epoch 43/50\n",
      "1334/1334 [==============================] - 9s 7ms/step - loss: 0.2025 - accuracy: 0.9172 - val_loss: 0.2236 - val_accuracy: 0.9098\n"
     ]
    },
    {
     "name": "stderr",
     "output_type": "stream",
     "text": [
      "WARNING:absl:Found untraced functions such as gru_cell_2_layer_call_fn, gru_cell_2_layer_call_and_return_conditional_losses, gru_cell_3_layer_call_fn, gru_cell_3_layer_call_and_return_conditional_losses, gru_cell_2_layer_call_fn while saving (showing 5 of 10). These functions will not be directly callable after loading.\n"
     ]
    },
    {
     "name": "stdout",
     "output_type": "stream",
     "text": [
      "INFO:tensorflow:Assets written to: BestModel/assets\n"
     ]
    },
    {
     "name": "stderr",
     "output_type": "stream",
     "text": [
      "INFO:tensorflow:Assets written to: BestModel/assets\n"
     ]
    },
    {
     "name": "stdout",
     "output_type": "stream",
     "text": [
      "Epoch 44/50\n",
      "1334/1334 [==============================] - 10s 7ms/step - loss: 0.1916 - accuracy: 0.9260 - val_loss: 0.2225 - val_accuracy: 0.9105\n"
     ]
    },
    {
     "name": "stderr",
     "output_type": "stream",
     "text": [
      "WARNING:absl:Found untraced functions such as gru_cell_2_layer_call_fn, gru_cell_2_layer_call_and_return_conditional_losses, gru_cell_3_layer_call_fn, gru_cell_3_layer_call_and_return_conditional_losses, gru_cell_2_layer_call_fn while saving (showing 5 of 10). These functions will not be directly callable after loading.\n"
     ]
    },
    {
     "name": "stdout",
     "output_type": "stream",
     "text": [
      "INFO:tensorflow:Assets written to: BestModel/assets\n"
     ]
    },
    {
     "name": "stderr",
     "output_type": "stream",
     "text": [
      "INFO:tensorflow:Assets written to: BestModel/assets\n"
     ]
    },
    {
     "name": "stdout",
     "output_type": "stream",
     "text": [
      "Epoch 45/50\n",
      "1334/1334 [==============================] - 9s 7ms/step - loss: 0.1948 - accuracy: 0.9229 - val_loss: 0.2107 - val_accuracy: 0.9152\n"
     ]
    },
    {
     "name": "stderr",
     "output_type": "stream",
     "text": [
      "WARNING:absl:Found untraced functions such as gru_cell_2_layer_call_fn, gru_cell_2_layer_call_and_return_conditional_losses, gru_cell_3_layer_call_fn, gru_cell_3_layer_call_and_return_conditional_losses, gru_cell_2_layer_call_fn while saving (showing 5 of 10). These functions will not be directly callable after loading.\n"
     ]
    },
    {
     "name": "stdout",
     "output_type": "stream",
     "text": [
      "INFO:tensorflow:Assets written to: BestModel/assets\n"
     ]
    },
    {
     "name": "stderr",
     "output_type": "stream",
     "text": [
      "INFO:tensorflow:Assets written to: BestModel/assets\n"
     ]
    },
    {
     "name": "stdout",
     "output_type": "stream",
     "text": [
      "Epoch 46/50\n",
      "1334/1334 [==============================] - 10s 7ms/step - loss: 0.1851 - accuracy: 0.9274 - val_loss: 0.2164 - val_accuracy: 0.9140\n",
      "Epoch 47/50\n",
      "1334/1334 [==============================] - 10s 7ms/step - loss: 0.1868 - accuracy: 0.9253 - val_loss: 0.2239 - val_accuracy: 0.9114\n",
      "Epoch 48/50\n",
      "1334/1334 [==============================] - 10s 7ms/step - loss: 0.1865 - accuracy: 0.9258 - val_loss: 0.2391 - val_accuracy: 0.9095\n",
      "Epoch 49/50\n",
      "1334/1334 [==============================] - 9s 7ms/step - loss: 0.1898 - accuracy: 0.9290 - val_loss: 0.2070 - val_accuracy: 0.9170\n"
     ]
    },
    {
     "name": "stderr",
     "output_type": "stream",
     "text": [
      "WARNING:absl:Found untraced functions such as gru_cell_2_layer_call_fn, gru_cell_2_layer_call_and_return_conditional_losses, gru_cell_3_layer_call_fn, gru_cell_3_layer_call_and_return_conditional_losses, gru_cell_2_layer_call_fn while saving (showing 5 of 10). These functions will not be directly callable after loading.\n"
     ]
    },
    {
     "name": "stdout",
     "output_type": "stream",
     "text": [
      "INFO:tensorflow:Assets written to: BestModel/assets\n"
     ]
    },
    {
     "name": "stderr",
     "output_type": "stream",
     "text": [
      "INFO:tensorflow:Assets written to: BestModel/assets\n"
     ]
    },
    {
     "name": "stdout",
     "output_type": "stream",
     "text": [
      "Epoch 50/50\n",
      "1334/1334 [==============================] - 9s 7ms/step - loss: 0.1766 - accuracy: 0.9319 - val_loss: 0.2118 - val_accuracy: 0.9169\n",
      "Fold 1, 50 epochs, 758 sec\n"
     ]
    },
    {
     "data": {
      "image/png": "[encoded data removed]",
      "text/plain": [
       "<Figure size 576x360 with 1 Axes>"
      ]
     },
     "metadata": {
      "needs_background": "light",
      "tags": []
     },
     "output_type": "display_data"
    },
    {
     "name": "stdout",
     "output_type": "stream",
     "text": [
      "MODEL\n",
      "make_DNN\n",
      "input shape: (36, 4)\n",
      "FIT\n",
      "Epoch 1/50\n",
      "1334/1334 [==============================] - 13s 8ms/step - loss: 0.6969 - accuracy: 0.5341 - val_loss: 0.6369 - val_accuracy: 0.6258\n",
      "Epoch 2/50\n",
      "1334/1334 [==============================] - 9s 7ms/step - loss: 0.6361 - accuracy: 0.6237 - val_loss: 0.6276 - val_accuracy: 0.6234\n",
      "Epoch 3/50\n",
      "1334/1334 [==============================] - 10s 7ms/step - loss: 0.6199 - accuracy: 0.6328 - val_loss: 0.6013 - val_accuracy: 0.6361\n",
      "Epoch 4/50\n",
      "1334/1334 [==============================] - 10s 7ms/step - loss: 0.6017 - accuracy: 0.6419 - val_loss: 0.5701 - val_accuracy: 0.6616\n",
      "Epoch 5/50\n",
      "1334/1334 [==============================] - 10s 7ms/step - loss: 0.5648 - accuracy: 0.6791 - val_loss: 0.5298 - val_accuracy: 0.7135\n",
      "Epoch 6/50\n",
      "1334/1334 [==============================] - 10s 7ms/step - loss: 0.5196 - accuracy: 0.7322 - val_loss: 0.4659 - val_accuracy: 0.7781\n",
      "Epoch 7/50\n",
      "1334/1334 [==============================] - 10s 7ms/step - loss: 0.4525 - accuracy: 0.7878 - val_loss: 0.4063 - val_accuracy: 0.8059\n",
      "Epoch 8/50\n",
      "1334/1334 [==============================] - 10s 7ms/step - loss: 0.3935 - accuracy: 0.8233 - val_loss: 0.3512 - val_accuracy: 0.8400\n",
      "Epoch 9/50\n",
      "1334/1334 [==============================] - 10s 7ms/step - loss: 0.3498 - accuracy: 0.8421 - val_loss: 0.3074 - val_accuracy: 0.8667\n",
      "Epoch 10/50\n",
      "1334/1334 [==============================] - 10s 7ms/step - loss: 0.3131 - accuracy: 0.8700 - val_loss: 0.2811 - val_accuracy: 0.8769\n",
      "Epoch 11/50\n",
      "1334/1334 [==============================] - 10s 7ms/step - loss: 0.2778 - accuracy: 0.8848 - val_loss: 0.2401 - val_accuracy: 0.8974\n",
      "Epoch 12/50\n",
      "1334/1334 [==============================] - 10s 7ms/step - loss: 0.2514 - accuracy: 0.8971 - val_loss: 0.4170 - val_accuracy: 0.8107\n",
      "Epoch 13/50\n",
      "1334/1334 [==============================] - 10s 7ms/step - loss: 0.2614 - accuracy: 0.8904 - val_loss: 0.3348 - val_accuracy: 0.8547\n",
      "Epoch 14/50\n",
      "1334/1334 [==============================] - 10s 7ms/step - loss: 0.2867 - accuracy: 0.8797 - val_loss: 0.1679 - val_accuracy: 0.9298\n"
     ]
    },
    {
     "name": "stderr",
     "output_type": "stream",
     "text": [
      "WARNING:absl:Found untraced functions such as gru_cell_4_layer_call_fn, gru_cell_4_layer_call_and_return_conditional_losses, gru_cell_5_layer_call_fn, gru_cell_5_layer_call_and_return_conditional_losses, gru_cell_4_layer_call_fn while saving (showing 5 of 10). These functions will not be directly callable after loading.\n"
     ]
    },
    {
     "name": "stdout",
     "output_type": "stream",
     "text": [
      "INFO:tensorflow:Assets written to: BestModel/assets\n"
     ]
    },
    {
     "name": "stderr",
     "output_type": "stream",
     "text": [
      "INFO:tensorflow:Assets written to: BestModel/assets\n"
     ]
    },
    {
     "name": "stdout",
     "output_type": "stream",
     "text": [
      "Epoch 15/50\n",
      "1334/1334 [==============================] - 10s 7ms/step - loss: 0.1733 - accuracy: 0.9302 - val_loss: 0.1500 - val_accuracy: 0.9392\n"
     ]
    },
    {
     "name": "stderr",
     "output_type": "stream",
     "text": [
      "WARNING:absl:Found untraced functions such as gru_cell_4_layer_call_fn, gru_cell_4_layer_call_and_return_conditional_losses, gru_cell_5_layer_call_fn, gru_cell_5_layer_call_and_return_conditional_losses, gru_cell_4_layer_call_fn while saving (showing 5 of 10). These functions will not be directly callable after loading.\n"
     ]
    },
    {
     "name": "stdout",
     "output_type": "stream",
     "text": [
      "INFO:tensorflow:Assets written to: BestModel/assets\n"
     ]
    },
    {
     "name": "stderr",
     "output_type": "stream",
     "text": [
      "INFO:tensorflow:Assets written to: BestModel/assets\n"
     ]
    },
    {
     "name": "stdout",
     "output_type": "stream",
     "text": [
      "Epoch 16/50\n",
      "1334/1334 [==============================] - 10s 7ms/step - loss: 0.1490 - accuracy: 0.9383 - val_loss: 0.1188 - val_accuracy: 0.9482\n"
     ]
    },
    {
     "name": "stderr",
     "output_type": "stream",
     "text": [
      "WARNING:absl:Found untraced functions such as gru_cell_4_layer_call_fn, gru_cell_4_layer_call_and_return_conditional_losses, gru_cell_5_layer_call_fn, gru_cell_5_layer_call_and_return_conditional_losses, gru_cell_4_layer_call_fn while saving (showing 5 of 10). These functions will not be directly callable after loading.\n"
     ]
    },
    {
     "name": "stdout",
     "output_type": "stream",
     "text": [
      "INFO:tensorflow:Assets written to: BestModel/assets\n"
     ]
    },
    {
     "name": "stderr",
     "output_type": "stream",
     "text": [
      "INFO:tensorflow:Assets written to: BestModel/assets\n"
     ]
    },
    {
     "name": "stdout",
     "output_type": "stream",
     "text": [
      "Epoch 17/50\n",
      "1334/1334 [==============================] - 10s 7ms/step - loss: 0.1489 - accuracy: 0.9369 - val_loss: 0.2986 - val_accuracy: 0.8745\n",
      "Epoch 18/50\n",
      "1334/1334 [==============================] - 10s 7ms/step - loss: 0.3409 - accuracy: 0.8520 - val_loss: 0.1309 - val_accuracy: 0.9488\n"
     ]
    },
    {
     "name": "stderr",
     "output_type": "stream",
     "text": [
      "WARNING:absl:Found untraced functions such as gru_cell_4_layer_call_fn, gru_cell_4_layer_call_and_return_conditional_losses, gru_cell_5_layer_call_fn, gru_cell_5_layer_call_and_return_conditional_losses, gru_cell_4_layer_call_fn while saving (showing 5 of 10). These functions will not be directly callable after loading.\n"
     ]
    },
    {
     "name": "stdout",
     "output_type": "stream",
     "text": [
      "INFO:tensorflow:Assets written to: BestModel/assets\n"
     ]
    },
    {
     "name": "stderr",
     "output_type": "stream",
     "text": [
      "INFO:tensorflow:Assets written to: BestModel/assets\n"
     ]
    },
    {
     "name": "stdout",
     "output_type": "stream",
     "text": [
      "Epoch 19/50\n",
      "1334/1334 [==============================] - 10s 7ms/step - loss: 0.1299 - accuracy: 0.9483 - val_loss: 0.0979 - val_accuracy: 0.9570\n"
     ]
    },
    {
     "name": "stderr",
     "output_type": "stream",
     "text": [
      "WARNING:absl:Found untraced functions such as gru_cell_4_layer_call_fn, gru_cell_4_layer_call_and_return_conditional_losses, gru_cell_5_layer_call_fn, gru_cell_5_layer_call_and_return_conditional_losses, gru_cell_4_layer_call_fn while saving (showing 5 of 10). These functions will not be directly callable after loading.\n"
     ]
    },
    {
     "name": "stdout",
     "output_type": "stream",
     "text": [
      "INFO:tensorflow:Assets written to: BestModel/assets\n"
     ]
    },
    {
     "name": "stderr",
     "output_type": "stream",
     "text": [
      "INFO:tensorflow:Assets written to: BestModel/assets\n"
     ]
    },
    {
     "name": "stdout",
     "output_type": "stream",
     "text": [
      "Epoch 20/50\n",
      "1334/1334 [==============================] - 10s 7ms/step - loss: 0.1052 - accuracy: 0.9552 - val_loss: 0.0936 - val_accuracy: 0.9587\n"
     ]
    },
    {
     "name": "stderr",
     "output_type": "stream",
     "text": [
      "WARNING:absl:Found untraced functions such as gru_cell_4_layer_call_fn, gru_cell_4_layer_call_and_return_conditional_losses, gru_cell_5_layer_call_fn, gru_cell_5_layer_call_and_return_conditional_losses, gru_cell_4_layer_call_fn while saving (showing 5 of 10). These functions will not be directly callable after loading.\n"
     ]
    },
    {
     "name": "stdout",
     "output_type": "stream",
     "text": [
      "INFO:tensorflow:Assets written to: BestModel/assets\n"
     ]
    },
    {
     "name": "stderr",
     "output_type": "stream",
     "text": [
      "INFO:tensorflow:Assets written to: BestModel/assets\n"
     ]
    },
    {
     "name": "stdout",
     "output_type": "stream",
     "text": [
      "Epoch 21/50\n",
      "1334/1334 [==============================] - 10s 7ms/step - loss: 0.1066 - accuracy: 0.9542 - val_loss: 0.0866 - val_accuracy: 0.9601\n"
     ]
    },
    {
     "name": "stderr",
     "output_type": "stream",
     "text": [
      "WARNING:absl:Found untraced functions such as gru_cell_4_layer_call_fn, gru_cell_4_layer_call_and_return_conditional_losses, gru_cell_5_layer_call_fn, gru_cell_5_layer_call_and_return_conditional_losses, gru_cell_4_layer_call_fn while saving (showing 5 of 10). These functions will not be directly callable after loading.\n"
     ]
    },
    {
     "name": "stdout",
     "output_type": "stream",
     "text": [
      "INFO:tensorflow:Assets written to: BestModel/assets\n"
     ]
    },
    {
     "name": "stderr",
     "output_type": "stream",
     "text": [
      "INFO:tensorflow:Assets written to: BestModel/assets\n"
     ]
    },
    {
     "name": "stdout",
     "output_type": "stream",
     "text": [
      "Epoch 22/50\n",
      "1334/1334 [==============================] - 10s 7ms/step - loss: 0.1932 - accuracy: 0.9251 - val_loss: 0.1240 - val_accuracy: 0.9488\n",
      "Epoch 23/50\n",
      "1334/1334 [==============================] - 10s 7ms/step - loss: 0.1035 - accuracy: 0.9567 - val_loss: 0.0806 - val_accuracy: 0.9625\n"
     ]
    },
    {
     "name": "stderr",
     "output_type": "stream",
     "text": [
      "WARNING:absl:Found untraced functions such as gru_cell_4_layer_call_fn, gru_cell_4_layer_call_and_return_conditional_losses, gru_cell_5_layer_call_fn, gru_cell_5_layer_call_and_return_conditional_losses, gru_cell_4_layer_call_fn while saving (showing 5 of 10). These functions will not be directly callable after loading.\n"
     ]
    },
    {
     "name": "stdout",
     "output_type": "stream",
     "text": [
      "INFO:tensorflow:Assets written to: BestModel/assets\n"
     ]
    },
    {
     "name": "stderr",
     "output_type": "stream",
     "text": [
      "INFO:tensorflow:Assets written to: BestModel/assets\n"
     ]
    },
    {
     "name": "stdout",
     "output_type": "stream",
     "text": [
      "Epoch 24/50\n",
      "1334/1334 [==============================] - 10s 7ms/step - loss: 0.0822 - accuracy: 0.9622 - val_loss: 0.0832 - val_accuracy: 0.9585\n",
      "Epoch 25/50\n",
      "1334/1334 [==============================] - 10s 7ms/step - loss: 0.0794 - accuracy: 0.9632 - val_loss: 0.0739 - val_accuracy: 0.9625\n",
      "Epoch 26/50\n",
      "1334/1334 [==============================] - 10s 8ms/step - loss: 0.0864 - accuracy: 0.9633 - val_loss: 0.0746 - val_accuracy: 0.9639\n"
     ]
    },
    {
     "name": "stderr",
     "output_type": "stream",
     "text": [
      "WARNING:absl:Found untraced functions such as gru_cell_4_layer_call_fn, gru_cell_4_layer_call_and_return_conditional_losses, gru_cell_5_layer_call_fn, gru_cell_5_layer_call_and_return_conditional_losses, gru_cell_4_layer_call_fn while saving (showing 5 of 10). These functions will not be directly callable after loading.\n"
     ]
    },
    {
     "name": "stdout",
     "output_type": "stream",
     "text": [
      "INFO:tensorflow:Assets written to: BestModel/assets\n"
     ]
    },
    {
     "name": "stderr",
     "output_type": "stream",
     "text": [
      "INFO:tensorflow:Assets written to: BestModel/assets\n"
     ]
    },
    {
     "name": "stdout",
     "output_type": "stream",
     "text": [
      "Epoch 27/50\n",
      "1334/1334 [==============================] - 10s 7ms/step - loss: 0.0769 - accuracy: 0.9635 - val_loss: 0.1338 - val_accuracy: 0.9460\n",
      "Epoch 28/50\n",
      "1334/1334 [==============================] - 10s 7ms/step - loss: 0.0973 - accuracy: 0.9590 - val_loss: 0.0731 - val_accuracy: 0.9640\n"
     ]
    },
    {
     "name": "stderr",
     "output_type": "stream",
     "text": [
      "WARNING:absl:Found untraced functions such as gru_cell_4_layer_call_fn, gru_cell_4_layer_call_and_return_conditional_losses, gru_cell_5_layer_call_fn, gru_cell_5_layer_call_and_return_conditional_losses, gru_cell_4_layer_call_fn while saving (showing 5 of 10). These functions will not be directly callable after loading.\n"
     ]
    },
    {
     "name": "stdout",
     "output_type": "stream",
     "text": [
      "INFO:tensorflow:Assets written to: BestModel/assets\n"
     ]
    },
    {
     "name": "stderr",
     "output_type": "stream",
     "text": [
      "INFO:tensorflow:Assets written to: BestModel/assets\n"
     ]
    },
    {
     "name": "stdout",
     "output_type": "stream",
     "text": [
      "Epoch 29/50\n",
      "1334/1334 [==============================] - 10s 7ms/step - loss: 0.0758 - accuracy: 0.9652 - val_loss: 0.0671 - val_accuracy: 0.9643\n"
     ]
    },
    {
     "name": "stderr",
     "output_type": "stream",
     "text": [
      "WARNING:absl:Found untraced functions such as gru_cell_4_layer_call_fn, gru_cell_4_layer_call_and_return_conditional_losses, gru_cell_5_layer_call_fn, gru_cell_5_layer_call_and_return_conditional_losses, gru_cell_4_layer_call_fn while saving (showing 5 of 10). These functions will not be directly callable after loading.\n"
     ]
    },
    {
     "name": "stdout",
     "output_type": "stream",
     "text": [
      "INFO:tensorflow:Assets written to: BestModel/assets\n"
     ]
    },
    {
     "name": "stderr",
     "output_type": "stream",
     "text": [
      "INFO:tensorflow:Assets written to: BestModel/assets\n"
     ]
    },
    {
     "name": "stdout",
     "output_type": "stream",
     "text": [
      "Epoch 30/50\n",
      "1334/1334 [==============================] - 10s 7ms/step - loss: 0.0673 - accuracy: 0.9660 - val_loss: 0.1340 - val_accuracy: 0.9501\n",
      "Epoch 31/50\n",
      "1334/1334 [==============================] - 10s 7ms/step - loss: 0.0713 - accuracy: 0.9665 - val_loss: 0.0723 - val_accuracy: 0.9662\n"
     ]
    },
    {
     "name": "stderr",
     "output_type": "stream",
     "text": [
      "WARNING:absl:Found untraced functions such as gru_cell_4_layer_call_fn, gru_cell_4_layer_call_and_return_conditional_losses, gru_cell_5_layer_call_fn, gru_cell_5_layer_call_and_return_conditional_losses, gru_cell_4_layer_call_fn while saving (showing 5 of 10). These functions will not be directly callable after loading.\n"
     ]
    },
    {
     "name": "stdout",
     "output_type": "stream",
     "text": [
      "INFO:tensorflow:Assets written to: BestModel/assets\n"
     ]
    },
    {
     "name": "stderr",
     "output_type": "stream",
     "text": [
      "INFO:tensorflow:Assets written to: BestModel/assets\n"
     ]
    },
    {
     "name": "stdout",
     "output_type": "stream",
     "text": [
      "Epoch 32/50\n",
      "1334/1334 [==============================] - 10s 7ms/step - loss: 0.0756 - accuracy: 0.9662 - val_loss: 0.0670 - val_accuracy: 0.9673\n"
     ]
    },
    {
     "name": "stderr",
     "output_type": "stream",
     "text": [
      "WARNING:absl:Found untraced functions such as gru_cell_4_layer_call_fn, gru_cell_4_layer_call_and_return_conditional_losses, gru_cell_5_layer_call_fn, gru_cell_5_layer_call_and_return_conditional_losses, gru_cell_4_layer_call_fn while saving (showing 5 of 10). These functions will not be directly callable after loading.\n"
     ]
    },
    {
     "name": "stdout",
     "output_type": "stream",
     "text": [
      "INFO:tensorflow:Assets written to: BestModel/assets\n"
     ]
    },
    {
     "name": "stderr",
     "output_type": "stream",
     "text": [
      "INFO:tensorflow:Assets written to: BestModel/assets\n"
     ]
    },
    {
     "name": "stdout",
     "output_type": "stream",
     "text": [
      "Epoch 33/50\n",
      "1334/1334 [==============================] - 10s 7ms/step - loss: 0.0740 - accuracy: 0.9666 - val_loss: 0.0648 - val_accuracy: 0.9668\n",
      "Epoch 34/50\n",
      "1334/1334 [==============================] - 10s 7ms/step - loss: 0.0620 - accuracy: 0.9694 - val_loss: 0.0616 - val_accuracy: 0.9678\n"
     ]
    },
    {
     "name": "stderr",
     "output_type": "stream",
     "text": [
      "WARNING:absl:Found untraced functions such as gru_cell_4_layer_call_fn, gru_cell_4_layer_call_and_return_conditional_losses, gru_cell_5_layer_call_fn, gru_cell_5_layer_call_and_return_conditional_losses, gru_cell_4_layer_call_fn while saving (showing 5 of 10). These functions will not be directly callable after loading.\n"
     ]
    },
    {
     "name": "stdout",
     "output_type": "stream",
     "text": [
      "INFO:tensorflow:Assets written to: BestModel/assets\n"
     ]
    },
    {
     "name": "stderr",
     "output_type": "stream",
     "text": [
      "INFO:tensorflow:Assets written to: BestModel/assets\n"
     ]
    },
    {
     "name": "stdout",
     "output_type": "stream",
     "text": [
      "Epoch 35/50\n",
      "1334/1334 [==============================] - 10s 7ms/step - loss: 0.0680 - accuracy: 0.9667 - val_loss: 0.0606 - val_accuracy: 0.9697\n"
     ]
    },
    {
     "name": "stderr",
     "output_type": "stream",
     "text": [
      "WARNING:absl:Found untraced functions such as gru_cell_4_layer_call_fn, gru_cell_4_layer_call_and_return_conditional_losses, gru_cell_5_layer_call_fn, gru_cell_5_layer_call_and_return_conditional_losses, gru_cell_4_layer_call_fn while saving (showing 5 of 10). These functions will not be directly callable after loading.\n"
     ]
    },
    {
     "name": "stdout",
     "output_type": "stream",
     "text": [
      "INFO:tensorflow:Assets written to: BestModel/assets\n"
     ]
    },
    {
     "name": "stderr",
     "output_type": "stream",
     "text": [
      "INFO:tensorflow:Assets written to: BestModel/assets\n"
     ]
    },
    {
     "name": "stdout",
     "output_type": "stream",
     "text": [
      "Epoch 36/50\n",
      "1334/1334 [==============================] - 10s 7ms/step - loss: 0.0650 - accuracy: 0.9693 - val_loss: 0.0675 - val_accuracy: 0.9672\n",
      "Epoch 37/50\n",
      "1334/1334 [==============================] - 10s 7ms/step - loss: 0.0692 - accuracy: 0.9677 - val_loss: 0.0639 - val_accuracy: 0.9702\n"
     ]
    },
    {
     "name": "stderr",
     "output_type": "stream",
     "text": [
      "WARNING:absl:Found untraced functions such as gru_cell_4_layer_call_fn, gru_cell_4_layer_call_and_return_conditional_losses, gru_cell_5_layer_call_fn, gru_cell_5_layer_call_and_return_conditional_losses, gru_cell_4_layer_call_fn while saving (showing 5 of 10). These functions will not be directly callable after loading.\n"
     ]
    },
    {
     "name": "stdout",
     "output_type": "stream",
     "text": [
      "INFO:tensorflow:Assets written to: BestModel/assets\n"
     ]
    },
    {
     "name": "stderr",
     "output_type": "stream",
     "text": [
      "INFO:tensorflow:Assets written to: BestModel/assets\n"
     ]
    },
    {
     "name": "stdout",
     "output_type": "stream",
     "text": [
      "Epoch 38/50\n",
      "1334/1334 [==============================] - 10s 7ms/step - loss: 0.0583 - accuracy: 0.9713 - val_loss: 0.0730 - val_accuracy: 0.9654\n",
      "Epoch 39/50\n",
      "1334/1334 [==============================] - 10s 7ms/step - loss: 0.0593 - accuracy: 0.9706 - val_loss: 0.0650 - val_accuracy: 0.9695\n",
      "Epoch 40/50\n",
      "1334/1334 [==============================] - 10s 7ms/step - loss: 0.0754 - accuracy: 0.9685 - val_loss: 0.0572 - val_accuracy: 0.9713\n"
     ]
    },
    {
     "name": "stderr",
     "output_type": "stream",
     "text": [
      "WARNING:absl:Found untraced functions such as gru_cell_4_layer_call_fn, gru_cell_4_layer_call_and_return_conditional_losses, gru_cell_5_layer_call_fn, gru_cell_5_layer_call_and_return_conditional_losses, gru_cell_4_layer_call_fn while saving (showing 5 of 10). These functions will not be directly callable after loading.\n"
     ]
    },
    {
     "name": "stdout",
     "output_type": "stream",
     "text": [
      "INFO:tensorflow:Assets written to: BestModel/assets\n"
     ]
    },
    {
     "name": "stderr",
     "output_type": "stream",
     "text": [
      "INFO:tensorflow:Assets written to: BestModel/assets\n"
     ]
    },
    {
     "name": "stdout",
     "output_type": "stream",
     "text": [
      "Epoch 41/50\n",
      "1334/1334 [==============================] - 10s 7ms/step - loss: 0.0591 - accuracy: 0.9708 - val_loss: 0.0582 - val_accuracy: 0.9707\n",
      "Epoch 42/50\n",
      "1334/1334 [==============================] - 10s 7ms/step - loss: 0.0573 - accuracy: 0.9733 - val_loss: 0.0582 - val_accuracy: 0.9728\n"
     ]
    },
    {
     "name": "stderr",
     "output_type": "stream",
     "text": [
      "WARNING:absl:Found untraced functions such as gru_cell_4_layer_call_fn, gru_cell_4_layer_call_and_return_conditional_losses, gru_cell_5_layer_call_fn, gru_cell_5_layer_call_and_return_conditional_losses, gru_cell_4_layer_call_fn while saving (showing 5 of 10). These functions will not be directly callable after loading.\n"
     ]
    },
    {
     "name": "stdout",
     "output_type": "stream",
     "text": [
      "INFO:tensorflow:Assets written to: BestModel/assets\n"
     ]
    },
    {
     "name": "stderr",
     "output_type": "stream",
     "text": [
      "INFO:tensorflow:Assets written to: BestModel/assets\n"
     ]
    },
    {
     "name": "stdout",
     "output_type": "stream",
     "text": [
      "Epoch 43/50\n",
      "1334/1334 [==============================] - 10s 7ms/step - loss: 0.0501 - accuracy: 0.9760 - val_loss: 0.0538 - val_accuracy: 0.9752\n"
     ]
    },
    {
     "name": "stderr",
     "output_type": "stream",
     "text": [
      "WARNING:absl:Found untraced functions such as gru_cell_4_layer_call_fn, gru_cell_4_layer_call_and_return_conditional_losses, gru_cell_5_layer_call_fn, gru_cell_5_layer_call_and_return_conditional_losses, gru_cell_4_layer_call_fn while saving (showing 5 of 10). These functions will not be directly callable after loading.\n"
     ]
    },
    {
     "name": "stdout",
     "output_type": "stream",
     "text": [
      "INFO:tensorflow:Assets written to: BestModel/assets\n"
     ]
    },
    {
     "name": "stderr",
     "output_type": "stream",
     "text": [
      "INFO:tensorflow:Assets written to: BestModel/assets\n"
     ]
    },
    {
     "name": "stdout",
     "output_type": "stream",
     "text": [
      "Epoch 44/50\n",
      "1334/1334 [==============================] - 10s 7ms/step - loss: 0.0561 - accuracy: 0.9742 - val_loss: 0.0662 - val_accuracy: 0.9698\n",
      "Epoch 45/50\n",
      "1334/1334 [==============================] - 10s 7ms/step - loss: 0.0522 - accuracy: 0.9748 - val_loss: 0.0539 - val_accuracy: 0.9756\n"
     ]
    },
    {
     "name": "stderr",
     "output_type": "stream",
     "text": [
      "WARNING:absl:Found untraced functions such as gru_cell_4_layer_call_fn, gru_cell_4_layer_call_and_return_conditional_losses, gru_cell_5_layer_call_fn, gru_cell_5_layer_call_and_return_conditional_losses, gru_cell_4_layer_call_fn while saving (showing 5 of 10). These functions will not be directly callable after loading.\n"
     ]
    },
    {
     "name": "stdout",
     "output_type": "stream",
     "text": [
      "INFO:tensorflow:Assets written to: BestModel/assets\n"
     ]
    },
    {
     "name": "stderr",
     "output_type": "stream",
     "text": [
      "INFO:tensorflow:Assets written to: BestModel/assets\n"
     ]
    },
    {
     "name": "stdout",
     "output_type": "stream",
     "text": [
      "Epoch 46/50\n",
      "1334/1334 [==============================] - 10s 7ms/step - loss: 0.0520 - accuracy: 0.9751 - val_loss: 0.0593 - val_accuracy: 0.9728\n",
      "Epoch 47/50\n",
      "1334/1334 [==============================] - 10s 7ms/step - loss: 0.0496 - accuracy: 0.9767 - val_loss: 0.1120 - val_accuracy: 0.9588\n",
      "Epoch 48/50\n",
      "1334/1334 [==============================] - 10s 7ms/step - loss: 0.0611 - accuracy: 0.9724 - val_loss: 0.0635 - val_accuracy: 0.9737\n",
      "Epoch 49/50\n",
      "1334/1334 [==============================] - 10s 7ms/step - loss: 0.0565 - accuracy: 0.9731 - val_loss: 0.0505 - val_accuracy: 0.9760\n"
     ]
    },
    {
     "name": "stderr",
     "output_type": "stream",
     "text": [
      "WARNING:absl:Found untraced functions such as gru_cell_4_layer_call_fn, gru_cell_4_layer_call_and_return_conditional_losses, gru_cell_5_layer_call_fn, gru_cell_5_layer_call_and_return_conditional_losses, gru_cell_4_layer_call_fn while saving (showing 5 of 10). These functions will not be directly callable after loading.\n"
     ]
    },
    {
     "name": "stdout",
     "output_type": "stream",
     "text": [
      "INFO:tensorflow:Assets written to: BestModel/assets\n"
     ]
    },
    {
     "name": "stderr",
     "output_type": "stream",
     "text": [
      "INFO:tensorflow:Assets written to: BestModel/assets\n"
     ]
    },
    {
     "name": "stdout",
     "output_type": "stream",
     "text": [
      "Epoch 50/50\n",
      "1334/1334 [==============================] - 10s 7ms/step - loss: 0.1060 - accuracy: 0.9627 - val_loss: 0.0562 - val_accuracy: 0.9752\n",
      "Fold 2, 50 epochs, 639 sec\n"
     ]
    },
    {
     "data": {
      "image/png": "[encoded data removed]",
      "text/plain": [
       "<Figure size 576x360 with 1 Axes>"
      ]
     },
     "metadata": {
      "needs_background": "light",
      "tags": []
     },
     "output_type": "display_data"
    },
    {
     "name": "stdout",
     "output_type": "stream",
     "text": [
      "MODEL\n",
      "make_DNN\n",
      "input shape: (36, 4)\n",
      "FIT\n",
      "Epoch 1/50\n",
      "1334/1334 [==============================] - 14s 8ms/step - loss: 0.7142 - accuracy: 0.5068 - val_loss: 0.6512 - val_accuracy: 0.6127\n",
      "Epoch 2/50\n",
      "1334/1334 [==============================] - 10s 7ms/step - loss: 0.6496 - accuracy: 0.6124 - val_loss: 0.6141 - val_accuracy: 0.6191\n",
      "Epoch 3/50\n",
      "1334/1334 [==============================] - 10s 7ms/step - loss: 0.6152 - accuracy: 0.6265 - val_loss: 0.6001 - val_accuracy: 0.6244\n",
      "Epoch 4/50\n",
      "1334/1334 [==============================] - 10s 7ms/step - loss: 0.6029 - accuracy: 0.6308 - val_loss: 0.5870 - val_accuracy: 0.6322\n",
      "Epoch 5/50\n",
      "1334/1334 [==============================] - 10s 7ms/step - loss: 0.5879 - accuracy: 0.6464 - val_loss: 0.5692 - val_accuracy: 0.6671\n",
      "Epoch 6/50\n",
      "1334/1334 [==============================] - 10s 7ms/step - loss: 0.5706 - accuracy: 0.6691 - val_loss: 0.5643 - val_accuracy: 0.6707\n",
      "Epoch 7/50\n",
      "1334/1334 [==============================] - 10s 7ms/step - loss: 0.5601 - accuracy: 0.6832 - val_loss: 0.5513 - val_accuracy: 0.6890\n",
      "Epoch 8/50\n",
      "1334/1334 [==============================] - 10s 7ms/step - loss: 0.5497 - accuracy: 0.6889 - val_loss: 0.5462 - val_accuracy: 0.6941\n",
      "Epoch 9/50\n",
      "1334/1334 [==============================] - 10s 7ms/step - loss: 0.5464 - accuracy: 0.7050 - val_loss: 0.5437 - val_accuracy: 0.7119\n",
      "Epoch 10/50\n",
      "1334/1334 [==============================] - 10s 7ms/step - loss: 0.5370 - accuracy: 0.7131 - val_loss: 0.5366 - val_accuracy: 0.7130\n",
      "Epoch 11/50\n",
      "1334/1334 [==============================] - 10s 7ms/step - loss: 0.5329 - accuracy: 0.7171 - val_loss: 0.5333 - val_accuracy: 0.7249\n",
      "Epoch 12/50\n",
      "1334/1334 [==============================] - 10s 7ms/step - loss: 0.5263 - accuracy: 0.7210 - val_loss: 0.5206 - val_accuracy: 0.7291\n",
      "Epoch 13/50\n",
      "1334/1334 [==============================] - 10s 8ms/step - loss: 0.5199 - accuracy: 0.7322 - val_loss: 0.5122 - val_accuracy: 0.7411\n",
      "Epoch 14/50\n",
      "1334/1334 [==============================] - 10s 7ms/step - loss: 0.5095 - accuracy: 0.7377 - val_loss: 0.5046 - val_accuracy: 0.7339\n",
      "Epoch 15/50\n",
      "1334/1334 [==============================] - 10s 7ms/step - loss: 0.5013 - accuracy: 0.7445 - val_loss: 0.4919 - val_accuracy: 0.7543\n",
      "Epoch 16/50\n",
      "1334/1334 [==============================] - 10s 7ms/step - loss: 0.4909 - accuracy: 0.7533 - val_loss: 0.4864 - val_accuracy: 0.7583\n",
      "Epoch 17/50\n",
      "1334/1334 [==============================] - 10s 7ms/step - loss: 0.4823 - accuracy: 0.7592 - val_loss: 0.4729 - val_accuracy: 0.7710\n",
      "Epoch 18/50\n",
      "1334/1334 [==============================] - 10s 7ms/step - loss: 0.4657 - accuracy: 0.7751 - val_loss: 0.4671 - val_accuracy: 0.7772\n",
      "Epoch 19/50\n",
      "1334/1334 [==============================] - 10s 7ms/step - loss: 0.4660 - accuracy: 0.7748 - val_loss: 0.4629 - val_accuracy: 0.7762\n",
      "Epoch 20/50\n",
      "1334/1334 [==============================] - 10s 8ms/step - loss: 0.4521 - accuracy: 0.7837 - val_loss: 0.4497 - val_accuracy: 0.7834\n",
      "Epoch 21/50\n",
      "1334/1334 [==============================] - 10s 7ms/step - loss: 0.4355 - accuracy: 0.7950 - val_loss: 0.4327 - val_accuracy: 0.7930\n",
      "Epoch 22/50\n",
      "1334/1334 [==============================] - 10s 7ms/step - loss: 0.4230 - accuracy: 0.8013 - val_loss: 0.4314 - val_accuracy: 0.7959\n",
      "Epoch 23/50\n",
      "1334/1334 [==============================] - 10s 7ms/step - loss: 0.4243 - accuracy: 0.8022 - val_loss: 0.4211 - val_accuracy: 0.7985\n",
      "Epoch 24/50\n",
      "1334/1334 [==============================] - 10s 7ms/step - loss: 0.4058 - accuracy: 0.8091 - val_loss: 0.4217 - val_accuracy: 0.7994\n",
      "Epoch 25/50\n",
      "1334/1334 [==============================] - 10s 7ms/step - loss: 0.4066 - accuracy: 0.8086 - val_loss: 0.4072 - val_accuracy: 0.8057\n",
      "Epoch 26/50\n",
      "1334/1334 [==============================] - 10s 7ms/step - loss: 0.3931 - accuracy: 0.8170 - val_loss: 0.4113 - val_accuracy: 0.8033\n",
      "Epoch 27/50\n",
      "1334/1334 [==============================] - 10s 7ms/step - loss: 0.3907 - accuracy: 0.8191 - val_loss: 0.4007 - val_accuracy: 0.8138\n",
      "Epoch 28/50\n",
      "1334/1334 [==============================] - 10s 7ms/step - loss: 0.3881 - accuracy: 0.8223 - val_loss: 0.4007 - val_accuracy: 0.8116\n",
      "Epoch 29/50\n",
      "1334/1334 [==============================] - 10s 7ms/step - loss: 0.3832 - accuracy: 0.8247 - val_loss: 0.3935 - val_accuracy: 0.8182\n",
      "Epoch 30/50\n",
      "1334/1334 [==============================] - 10s 7ms/step - loss: 0.3837 - accuracy: 0.8217 - val_loss: 0.3905 - val_accuracy: 0.8183\n",
      "Epoch 31/50\n",
      "1334/1334 [==============================] - 10s 7ms/step - loss: 0.3694 - accuracy: 0.8314 - val_loss: 0.3883 - val_accuracy: 0.8236\n",
      "Epoch 32/50\n",
      "1334/1334 [==============================] - 10s 7ms/step - loss: 0.3675 - accuracy: 0.8333 - val_loss: 0.3845 - val_accuracy: 0.8254\n",
      "Epoch 33/50\n",
      "1334/1334 [==============================] - 10s 7ms/step - loss: 0.3633 - accuracy: 0.8370 - val_loss: 0.3901 - val_accuracy: 0.8178\n",
      "Epoch 34/50\n",
      "1334/1334 [==============================] - 10s 8ms/step - loss: 0.3622 - accuracy: 0.8368 - val_loss: 0.3729 - val_accuracy: 0.8298\n",
      "Epoch 35/50\n",
      "1334/1334 [==============================] - 10s 7ms/step - loss: 0.3554 - accuracy: 0.8407 - val_loss: 0.3696 - val_accuracy: 0.8328\n",
      "Epoch 36/50\n",
      "1334/1334 [==============================] - 10s 7ms/step - loss: 0.3461 - accuracy: 0.8489 - val_loss: 0.3672 - val_accuracy: 0.8353\n",
      "Epoch 37/50\n",
      "1334/1334 [==============================] - 10s 7ms/step - loss: 0.3447 - accuracy: 0.8446 - val_loss: 0.3655 - val_accuracy: 0.8370\n",
      "Epoch 38/50\n",
      "1334/1334 [==============================] - 10s 7ms/step - loss: 0.3415 - accuracy: 0.8494 - val_loss: 0.3580 - val_accuracy: 0.8400\n",
      "Epoch 39/50\n",
      "1334/1334 [==============================] - 10s 7ms/step - loss: 0.3386 - accuracy: 0.8498 - val_loss: 0.3513 - val_accuracy: 0.8441\n",
      "Epoch 40/50\n",
      "1334/1334 [==============================] - 10s 7ms/step - loss: 0.3313 - accuracy: 0.8521 - val_loss: 0.9334 - val_accuracy: 0.6520\n",
      "Epoch 41/50\n",
      "1334/1334 [==============================] - 10s 7ms/step - loss: 0.4331 - accuracy: 0.8108 - val_loss: 0.3390 - val_accuracy: 0.8520\n",
      "Epoch 42/50\n",
      "1334/1334 [==============================] - 10s 7ms/step - loss: 0.3282 - accuracy: 0.8584 - val_loss: 0.3363 - val_accuracy: 0.8507\n",
      "Epoch 43/50\n",
      "1334/1334 [==============================] - 10s 7ms/step - loss: 0.3140 - accuracy: 0.8636 - val_loss: 0.3304 - val_accuracy: 0.8570\n",
      "Epoch 44/50\n",
      "1334/1334 [==============================] - 10s 8ms/step - loss: 0.3242 - accuracy: 0.8630 - val_loss: 0.3295 - val_accuracy: 0.8575\n",
      "Epoch 45/50\n",
      "1334/1334 [==============================] - 10s 7ms/step - loss: 0.3149 - accuracy: 0.8653 - val_loss: 0.3249 - val_accuracy: 0.8606\n",
      "Epoch 46/50\n",
      "1334/1334 [==============================] - 11s 8ms/step - loss: 0.3102 - accuracy: 0.8706 - val_loss: 0.4132 - val_accuracy: 0.8173\n",
      "Epoch 47/50\n",
      "1334/1334 [==============================] - 10s 7ms/step - loss: 0.3111 - accuracy: 0.8687 - val_loss: 0.3130 - val_accuracy: 0.8689\n",
      "Epoch 48/50\n",
      "1334/1334 [==============================] - 10s 7ms/step - loss: 0.2908 - accuracy: 0.8756 - val_loss: 0.3238 - val_accuracy: 0.8595\n",
      "Epoch 49/50\n",
      "1334/1334 [==============================] - 10s 7ms/step - loss: 0.2906 - accuracy: 0.8782 - val_loss: 0.3098 - val_accuracy: 0.8660\n",
      "Epoch 50/50\n",
      "1334/1334 [==============================] - 10s 7ms/step - loss: 0.3150 - accuracy: 0.8644 - val_loss: 0.3009 - val_accuracy: 0.8694\n",
      "Fold 3, 50 epochs, 504 sec\n"
     ]
    },
    {
     "data": {
      "image/png": "[encoded data removed]",
      "text/plain": [
       "<Figure size 576x360 with 1 Axes>"
      ]
     },
     "metadata": {
      "needs_background": "light",
      "tags": []
     },
     "output_type": "display_data"
    }
   ],
   "source": [
    "do_cross_validation(X,y)"
   ]
  },
  {
   "cell_type": "code",
   "execution_count": 12,
   "metadata": {
    "colab": {
     "base_uri": "https://localhost:8080/"
    },
    "id": "e-jG1h5fj2Ua",
    "outputId": "17144204-f5f0-4418-c296-48bfba2f3f82"
   },
   "outputs": [
    {
     "name": "stdout",
     "output_type": "stream",
     "text": [
      "The best model parameters were saved during cross-validation.\n",
      "Best was defined as maximum validation accuracy at end of any epoch.\n",
      "Now re-load the best model and test it on previously unseen data.\n",
      "Test on 1000 PC seqs\n",
      "Test on 1000 NC seqs\n",
      "accuracy: 97.50%\n"
     ]
    }
   ],
   "source": [
    "from keras.models import load_model\n",
    "X,y = prepare_inputs_len_x_alphabet(pc_test,nc_test,ALPHABET)\n",
    "best_model=load_model(MODELPATH)\n",
    "scores = best_model.evaluate(X, y, verbose=0)\n",
    "print(\"The best model parameters were saved during cross-validation.\")\n",
    "print(\"Best was defined as maximum validation accuracy at end of any epoch.\")\n",
    "print(\"Now re-load the best model and test it on previously unseen data.\")\n",
    "print(\"Test on\",len(pc_test),\"PC seqs\")\n",
    "print(\"Test on\",len(nc_test),\"NC seqs\")\n",
    "print(\"%s: %.2f%%\" % (best_model.metrics_names[1], scores[1]*100))\n"
   ]
  },
  {
   "cell_type": "code",
   "execution_count": 13,
   "metadata": {
    "colab": {
     "base_uri": "https://localhost:8080/",
     "height": 312
    },
    "id": "VycUnmvUj2Ue",
    "outputId": "7966d031-9c4e-49bc-cb8a-7ff9391af1c4"
   },
   "outputs": [
    {
     "data": {
      "image/png": "[encoded data removed]",
      "text/plain": [
       "<Figure size 432x288 with 1 Axes>"
      ]
     },
     "metadata": {
      "needs_background": "light",
      "tags": []
     },
     "output_type": "display_data"
    },
    {
     "name": "stdout",
     "output_type": "stream",
     "text": [
      "AUC: 99.83%\n"
     ]
    }
   ],
   "source": [
    "from sklearn.metrics import roc_curve\n",
    "from sklearn.metrics import roc_auc_score\n",
    "ns_probs = [0 for _ in range(len(y))]\n",
    "bm_probs = best_model.predict(X)\n",
    "ns_auc = roc_auc_score(y, ns_probs)\n",
    "bm_auc = roc_auc_score(y, bm_probs)\n",
    "ns_fpr, ns_tpr, _ = roc_curve(y, ns_probs)\n",
    "bm_fpr, bm_tpr, _ = roc_curve(y, bm_probs)\n",
    "plt.plot(ns_fpr, ns_tpr, linestyle='--', label='Guess, auc=%.4f'%ns_auc)\n",
    "plt.plot(bm_fpr, bm_tpr, marker='.', label='Model, auc=%.4f'%bm_auc)\n",
    "plt.title('ROC')\n",
    "plt.xlabel('False Positive Rate')\n",
    "plt.ylabel('True Positive Rate')\n",
    "plt.legend()\n",
    "plt.show()\n",
    "print(\"%s: %.2f%%\" %('AUC',bm_auc*100.0))\n"
   ]
  },
  {
   "cell_type": "code",
   "execution_count": 14,
   "metadata": {
    "colab": {
     "base_uri": "https://localhost:8080/",
     "height": 36
    },
    "id": "kFMb6rGNj2Ug",
    "outputId": "c99c9f8d-4961-4b44-b693-757378123c51"
   },
   "outputs": [
    {
     "data": {
      "application/vnd.google.colaboratory.intrinsic+json": {
       "type": "string"
      },
      "text/plain": [
       "'2021-06-17 17:06:05 UTC'"
      ]
     },
     "execution_count": 14,
     "metadata": {
      "tags": []
     },
     "output_type": "execute_result"
    }
   ],
   "source": [
    "t = time.time()\n",
    "time.strftime('%Y-%m-%d %H:%M:%S %Z', time.localtime(t))"
   ]
  },
  {
   "cell_type": "code",
   "execution_count": 14,
   "metadata": {
    "id": "e-mEgDrQjUzF"
   },
   "outputs": [],
   "source": []
  }
 ],
 "metadata": {
  "accelerator": "GPU",
  "colab": {
   "collapsed_sections": [],
   "name": "ConvRecur_100.ipynb",
   "provenance": []
  },
  "kernelspec": {
   "display_name": "Python 3",
   "language": "python",
   "name": "python3"
  },
  "language_info": {
   "codemirror_mode": {
    "name": "ipython",
    "version": 3
   },
   "file_extension": ".py",
   "mimetype": "text/x-python",
   "name": "python",
   "nbconvert_exporter": "python",
   "pygments_lexer": "ipython3",
   "version": "3.8.3"
  }
 },
 "nbformat": 4,
 "nbformat_minor": 1
}
