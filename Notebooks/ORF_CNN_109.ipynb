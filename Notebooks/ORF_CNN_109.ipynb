{
 "cells": [
  {
   "cell_type": "markdown",
   "metadata": {
    "id": "0asdcdunj2Tx"
   },
   "source": [
    "# ORF recognition by CNN\n",
    "\n",
    "In 105, we used Conv1D layers with filter width=3 with dropout to reduce overfitting. The simulated RNA lengths were 1000.\n",
    "\n",
    "As validation of the 107 notebook, use pc_sim to generate both sets, but introduce a SNP rather than indel to the pcRNA. Like 108, this result validates 107."
   ]
  },
  {
   "cell_type": "code",
   "execution_count": 1,
   "metadata": {
    "colab": {
     "base_uri": "https://localhost:8080/",
     "height": 36
    },
    "id": "QP1VTRNQj2UO",
    "outputId": "9c0b236a-35ff-4112-d270-bc3f7220ff26"
   },
   "outputs": [
    {
     "data": {
      "text/plain": [
       "'2021-06-10 14:42:25 EDT'"
      ]
     },
     "execution_count": 1,
     "metadata": {},
     "output_type": "execute_result"
    }
   ],
   "source": [
    "import time \n",
    "t = time.time()\n",
    "time.strftime('%Y-%m-%d %H:%M:%S %Z', time.localtime(t))"
   ]
  },
  {
   "cell_type": "code",
   "execution_count": 2,
   "metadata": {
    "id": "Nhz4GKonj2T_"
   },
   "outputs": [],
   "source": [
    "PC_SEQUENCES=2000   # how many protein-coding sequences\n",
    "NC_SEQUENCES=2000   # how many non-coding sequences\n",
    "PC_TESTS=1000\n",
    "NC_TESTS=1000\n",
    "RNA_LEN=21            # how long is each sequence\n",
    "CDS_LEN=15\n",
    "ALPHABET=4          # how many different letters are possible\n",
    "INPUT_SHAPE_2D = (RNA_LEN,ALPHABET,1) # Conv2D needs 3D inputs\n",
    "INPUT_SHAPE = (RNA_LEN,ALPHABET) # Conv1D needs 2D inputs\n",
    "FILTERS = 16   # how many different patterns the model looks for\n",
    "NEURONS = 16\n",
    "DROP_RATE = 0.2\n",
    "WIDTH = 3   # how wide each pattern is, in bases\n",
    "STRIDE_2D = (1,1)  # For Conv2D how far in each direction\n",
    "STRIDE = 1 # For Conv1D, how far between pattern matches, in bases\n",
    "EPOCHS=20  # how many times to train on all the data\n",
    "SPLITS=5  # SPLITS=3 means train on 2/3 and validate on 1/3 \n",
    "FOLDS=2  # train the model this many times (range 1 to SPLITS)"
   ]
  },
  {
   "cell_type": "code",
   "execution_count": 3,
   "metadata": {
    "colab": {
     "base_uri": "https://localhost:8080/"
    },
    "id": "lr7q90rxj2UE",
    "outputId": "19cd66e8-b5c2-4a9d-a9a2-63f674b034f2"
   },
   "outputs": [
    {
     "name": "stdout",
     "output_type": "stream",
     "text": [
      "CoLab not working. On my PC, use relative paths.\n"
     ]
    }
   ],
   "source": [
    "import sys\n",
    "try:\n",
    "    from google.colab import drive\n",
    "    IN_COLAB = True\n",
    "    print(\"On Google CoLab, mount cloud-local file, get our code from GitHub.\")\n",
    "    PATH='/content/drive/'\n",
    "    #drive.mount(PATH,force_remount=True)  # hardly ever need this\n",
    "    #drive.mount(PATH)    # Google will require login credentials\n",
    "    DATAPATH=PATH+'My Drive/data/'  # must end in \"/\"\n",
    "    import requests\n",
    "    r = requests.get('https://raw.githubusercontent.com/ShepherdCode/Soars2021/master/SimTools/RNA_gen.py')\n",
    "    with open('RNA_gen.py', 'w') as f:\n",
    "        f.write(r.text)  \n",
    "    from RNA_gen import *\n",
    "    r = requests.get('https://raw.githubusercontent.com/ShepherdCode/Soars2021/master/SimTools/RNA_describe.py')\n",
    "    with open('RNA_describe.py', 'w') as f:\n",
    "        f.write(r.text)  \n",
    "    from RNA_describe import ORF_counter\n",
    "    r = requests.get('https://raw.githubusercontent.com/ShepherdCode/Soars2021/master/SimTools/RNA_prep.py')\n",
    "    with open('RNA_prep.py', 'w') as f:\n",
    "        f.write(r.text)  \n",
    "    from RNA_prep import *\n",
    "except:\n",
    "    print(\"CoLab not working. On my PC, use relative paths.\")\n",
    "    IN_COLAB = False\n",
    "    DATAPATH='data/'  # must end in \"/\"\n",
    "    sys.path.append(\"..\") # append parent dir in order to use sibling dirs\n",
    "    from SimTools.RNA_gen import *\n",
    "    from SimTools.RNA_describe import ORF_counter\n",
    "    from SimTools.RNA_prep import *\n",
    "\n",
    "MODELPATH=\"BestModel\"  # saved on cloud instance and lost after logout\n",
    "#MODELPATH=DATAPATH+MODELPATH  # saved on Google Drive but requires login\n",
    "\n",
    "if not assert_imported_RNA_gen():\n",
    "    print(\"ERROR: Cannot use RNA_gen.\")\n",
    "if not assert_imported_RNA_prep():\n",
    "    print(\"ERROR: Cannot use RNA_prep.\")"
   ]
  },
  {
   "cell_type": "code",
   "execution_count": 4,
   "metadata": {
    "id": "EGDXH8Uwj2UM"
   },
   "outputs": [],
   "source": [
    "from os import listdir\n",
    "import csv\n",
    "from zipfile import ZipFile\n",
    "\n",
    "import numpy as np\n",
    "import pandas as pd\n",
    "from scipy import stats  # mode\n",
    "\n",
    "from sklearn.preprocessing import StandardScaler\n",
    "from sklearn.model_selection import KFold\n",
    "from sklearn.model_selection import cross_val_score\n",
    "\n",
    "from keras.models import Sequential\n",
    "from keras.layers import Dense,Embedding,Dropout\n",
    "from keras.layers import Conv1D,Conv2D\n",
    "from keras.layers import Flatten,MaxPooling1D,MaxPooling2D\n",
    "from keras.losses import BinaryCrossentropy\n",
    "# tf.keras.losses.BinaryCrossentropy\n",
    "\n",
    "import matplotlib.pyplot as plt\n",
    "from matplotlib import colors\n",
    "mycmap = colors.ListedColormap(['red','blue'])  # list color for label 0 then 1\n",
    "np.set_printoptions(precision=2)\n"
   ]
  },
  {
   "cell_type": "code",
   "execution_count": 5,
   "metadata": {
    "colab": {
     "base_uri": "https://localhost:8080/"
    },
    "id": "Q0FetlLPj2UQ",
    "outputId": "c8305122-1080-480f-f66e-1ca69fedf3d3"
   },
   "outputs": [
    {
     "name": "stdout",
     "output_type": "stream",
     "text": [
      "Train on 2000 PC seqs\n",
      "Train on 2000 NC seqs\n"
     ]
    }
   ],
   "source": [
    "# Use code from our SimTools library.\n",
    "def make_generators(seq_len):\n",
    "    pcgen = Collection_Generator()  \n",
    "    pcgen.get_len_oracle().set_mean(seq_len)\n",
    "    tora = Transcript_Oracle()\n",
    "    tora.set_cds_len_mean(CDS_LEN)  # CDS=ORF+STOP. Method is misnamed.\n",
    "    pcgen.set_seq_oracle(tora)\n",
    "    ncgen = Collection_Generator()  \n",
    "    ncgen.get_len_oracle().set_mean(seq_len)\n",
    "    return pcgen,ncgen\n",
    "\n",
    "pc_sim,nc_sim = make_generators(RNA_LEN)\n",
    "pc_train = pc_sim.get_sequences(PC_SEQUENCES)\n",
    "nc_train = pc_sim.get_sequences(NC_SEQUENCES) # YES, use PC for both!\n",
    "print(\"Train on\",len(pc_train),\"PC seqs\")\n",
    "print(\"Train on\",len(nc_train),\"NC seqs\")"
   ]
  },
  {
   "cell_type": "code",
   "execution_count": 6,
   "metadata": {},
   "outputs": [
    {
     "name": "stdout",
     "output_type": "stream",
     "text": [
      "PC train\n",
      "Average RNA length: 21.0\n",
      "Average ORF length: 11.1255\n",
      "NC train\n",
      "Average RNA length: 21.0\n",
      "Average ORF length: 10.9755\n"
     ]
    }
   ],
   "source": [
    "# Describe the sequences\n",
    "def describe_sequences(list_of_seq):\n",
    "    oc = ORF_counter()\n",
    "    num_seq = len(list_of_seq)\n",
    "    rna_lens = np.zeros(num_seq)\n",
    "    orf_lens = np.zeros(num_seq)\n",
    "    for i in range(0,num_seq):\n",
    "        rna_len = len(list_of_seq[i])\n",
    "        rna_lens[i] = rna_len\n",
    "        oc.set_sequence(list_of_seq[i])\n",
    "        orf_len = oc.get_max_orf_len()\n",
    "        orf_lens[i] = orf_len\n",
    "    print (\"Average RNA length:\",rna_lens.mean())\n",
    "    print (\"Average ORF length:\",orf_lens.mean())\n",
    "    \n",
    "print(\"PC train\")\n",
    "describe_sequences(pc_train)\n",
    "print(\"NC train\")\n",
    "describe_sequences(nc_train)"
   ]
  },
  {
   "cell_type": "code",
   "execution_count": 7,
   "metadata": {},
   "outputs": [
    {
     "name": "stdout",
     "output_type": "stream",
     "text": [
      "PC train\n",
      "Average RNA length: 21.0\n",
      "Average ORF length: 10.9755\n",
      "NC train\n",
      "Average RNA length: 21.0\n",
      "Average ORF length: 10.7655\n"
     ]
    }
   ],
   "source": [
    "import random\n",
    "def alter_sequences(list_of_seq,center):\n",
    "    global next_pos,bases\n",
    "    new_list = []\n",
    "    for S in list_of_seq:\n",
    "        seq_len = len(S)\n",
    "        next_left = random.choice([True,False])\n",
    "        next_base = random.choice(['A','C','G','T'])\n",
    "        new_seq=\"\"\n",
    "        if center:\n",
    "            half=seq_len//2\n",
    "            if next_left:\n",
    "                new_seq=S[0:half]+next_base+S[half+1:]\n",
    "            else:\n",
    "                new_seq=S[0:half-1]+next_base+S[half:]\n",
    "        else:\n",
    "            if next_left:\n",
    "                new_seq=next_base+S[1:]\n",
    "            else:\n",
    "                new_seq=S[:-1]+next_base \n",
    "        new_list.append(new_seq)\n",
    "    return new_list\n",
    "pc_train = alter_sequences(pc_train,False)\n",
    "nc_train = alter_sequences(nc_train,True)\n",
    "\n",
    "print(\"PC train\")\n",
    "describe_sequences(pc_train)\n",
    "print(\"NC train\")\n",
    "describe_sequences(nc_train)"
   ]
  },
  {
   "cell_type": "code",
   "execution_count": 8,
   "metadata": {
    "colab": {
     "base_uri": "https://localhost:8080/"
    },
    "id": "CIpTrnH6j2US",
    "outputId": "5c847e21-17a3-4a37-b6b2-24ecb9a53d93"
   },
   "outputs": [
    {
     "name": "stdout",
     "output_type": "stream",
     "text": [
      "Data ready.\n"
     ]
    }
   ],
   "source": [
    "# Use code from our SimTools library.\n",
    "X,y = prepare_inputs_len_x_alphabet(pc_train,nc_train,ALPHABET) # shuffles\n",
    "print(\"Data ready.\")"
   ]
  },
  {
   "cell_type": "code",
   "execution_count": 9,
   "metadata": {
    "colab": {
     "base_uri": "https://localhost:8080/"
    },
    "id": "7NvrVU8ij2UU",
    "outputId": "dd01d853-6791-4913-b12d-0e82f4041a9b"
   },
   "outputs": [
    {
     "name": "stdout",
     "output_type": "stream",
     "text": [
      "make_DNN\n",
      "input shape: (21, 4)\n",
      "Model: \"sequential\"\n",
      "_________________________________________________________________\n",
      "Layer (type)                 Output Shape              Param #   \n",
      "=================================================================\n",
      "conv1d (Conv1D)              (None, 21, 16)            208       \n",
      "_________________________________________________________________\n",
      "conv1d_1 (Conv1D)            (None, 21, 16)            784       \n",
      "_________________________________________________________________\n",
      "max_pooling1d (MaxPooling1D) (None, 10, 16)            0         \n",
      "_________________________________________________________________\n",
      "conv1d_2 (Conv1D)            (None, 10, 16)            784       \n",
      "_________________________________________________________________\n",
      "conv1d_3 (Conv1D)            (None, 10, 16)            784       \n",
      "_________________________________________________________________\n",
      "max_pooling1d_1 (MaxPooling1 (None, 5, 16)             0         \n",
      "_________________________________________________________________\n",
      "flatten (Flatten)            (None, 80)                0         \n",
      "_________________________________________________________________\n",
      "dense (Dense)                (None, 16)                1296      \n",
      "_________________________________________________________________\n",
      "dropout (Dropout)            (None, 16)                0         \n",
      "_________________________________________________________________\n",
      "dense_1 (Dense)              (None, 1)                 17        \n",
      "=================================================================\n",
      "Total params: 3,873\n",
      "Trainable params: 3,873\n",
      "Non-trainable params: 0\n",
      "_________________________________________________________________\n",
      "None\n"
     ]
    }
   ],
   "source": [
    "def make_DNN():\n",
    "    print(\"make_DNN\")\n",
    "    print(\"input shape:\",INPUT_SHAPE)\n",
    "    dnn = Sequential()\n",
    "    #dnn.add(Embedding(input_dim=INPUT_SHAPE,output_dim=INPUT_SHAPE)) \n",
    "    dnn.add(Conv1D(filters=FILTERS,kernel_size=WIDTH,strides=STRIDE,padding=\"same\",\n",
    "            input_shape=INPUT_SHAPE))\n",
    "    dnn.add(Conv1D(filters=FILTERS,kernel_size=WIDTH,strides=STRIDE,padding=\"same\"))\n",
    "    dnn.add(MaxPooling1D())\n",
    "    dnn.add(Conv1D(filters=FILTERS,kernel_size=WIDTH,strides=STRIDE,padding=\"same\"))\n",
    "    dnn.add(Conv1D(filters=FILTERS,kernel_size=WIDTH,strides=STRIDE,padding=\"same\"))\n",
    "    dnn.add(MaxPooling1D())\n",
    "    dnn.add(Flatten())\n",
    "    dnn.add(Dense(NEURONS,activation=\"sigmoid\",dtype=np.float32))   \n",
    "    dnn.add(Dropout(DROP_RATE))\n",
    "    dnn.add(Dense(1,activation=\"sigmoid\",dtype=np.float32))   \n",
    "    dnn.compile(optimizer='adam',\n",
    "                loss=BinaryCrossentropy(from_logits=False),\n",
    "                metrics=['accuracy'])   # add to default metrics=loss\n",
    "    dnn.build(input_shape=INPUT_SHAPE)\n",
    "    #ln_rate = tf.keras.optimizers.Adam(learning_rate = LN_RATE)\n",
    "    #bc=tf.keras.losses.BinaryCrossentropy(from_logits=False)\n",
    "    #model.compile(loss=bc, optimizer=ln_rate, metrics=[\"accuracy\"])\n",
    "    return dnn\n",
    "model = make_DNN()\n",
    "print(model.summary())"
   ]
  },
  {
   "cell_type": "code",
   "execution_count": 10,
   "metadata": {
    "id": "nlVF0hR3j2UW"
   },
   "outputs": [],
   "source": [
    "from keras.callbacks import ModelCheckpoint\n",
    "def do_cross_validation(X,y):\n",
    "    cv_scores = []\n",
    "    fold=0\n",
    "    mycallbacks = [ModelCheckpoint(\n",
    "        filepath=MODELPATH, save_best_only=True, \n",
    "        monitor='val_accuracy', mode='max')]   \n",
    "    splitter = KFold(n_splits=SPLITS)  # this does not shuffle\n",
    "    for train_index,valid_index in splitter.split(X):\n",
    "        if fold < FOLDS:\n",
    "            fold += 1\n",
    "            X_train=X[train_index] # inputs for training\n",
    "            y_train=y[train_index] # labels for training\n",
    "            X_valid=X[valid_index] # inputs for validation\n",
    "            y_valid=y[valid_index] # labels for validation\n",
    "            print(\"MODEL\")\n",
    "            # Call constructor on each CV. Else, continually improves the same model.\n",
    "            model = model = make_DNN()\n",
    "            print(\"FIT\")  # model.fit() implements learning\n",
    "            start_time=time.time()\n",
    "            history=model.fit(X_train, y_train, \n",
    "                    epochs=EPOCHS, \n",
    "                    verbose=1,  # ascii art while learning\n",
    "                    callbacks=mycallbacks,   # called at end of each epoch\n",
    "                    validation_data=(X_valid,y_valid))\n",
    "            end_time=time.time()\n",
    "            elapsed_time=(end_time-start_time)                        \n",
    "            print(\"Fold %d, %d epochs, %d sec\"%(fold,EPOCHS,elapsed_time))\n",
    "            # print(history.history.keys())  # all these keys will be shown in figure\n",
    "            pd.DataFrame(history.history).plot(figsize=(8,5))\n",
    "            plt.grid(True)\n",
    "            plt.gca().set_ylim(0,1) # any losses > 1 will be off the scale\n",
    "            plt.show()\n"
   ]
  },
  {
   "cell_type": "code",
   "execution_count": 11,
   "metadata": {
    "colab": {
     "base_uri": "https://localhost:8080/",
     "height": 1000
    },
    "id": "9Ggt4EsSj2UY",
    "outputId": "488a4de9-d043-4542-e75a-130c29c80773"
   },
   "outputs": [
    {
     "name": "stdout",
     "output_type": "stream",
     "text": [
      "MODEL\n",
      "make_DNN\n",
      "input shape: (21, 4)\n",
      "FIT\n",
      "Epoch 1/20\n",
      "100/100 [==============================] - 3s 20ms/step - loss: 0.7052 - accuracy: 0.5161 - val_loss: 0.6938 - val_accuracy: 0.5113\n",
      "INFO:tensorflow:Assets written to: BestModel/assets\n",
      "Epoch 2/20\n",
      "100/100 [==============================] - 1s 5ms/step - loss: 0.6953 - accuracy: 0.5134 - val_loss: 0.6936 - val_accuracy: 0.5163\n",
      "INFO:tensorflow:Assets written to: BestModel/assets\n",
      "Epoch 3/20\n",
      "100/100 [==============================] - 1s 6ms/step - loss: 0.6893 - accuracy: 0.5312 - val_loss: 0.6931 - val_accuracy: 0.5050\n",
      "Epoch 4/20\n",
      "100/100 [==============================] - 1s 6ms/step - loss: 0.6889 - accuracy: 0.5270 - val_loss: 0.6942 - val_accuracy: 0.5163\n",
      "Epoch 5/20\n",
      "100/100 [==============================] - 1s 6ms/step - loss: 0.6823 - accuracy: 0.5692 - val_loss: 0.7008 - val_accuracy: 0.4825\n",
      "Epoch 6/20\n",
      "100/100 [==============================] - 1s 6ms/step - loss: 0.6860 - accuracy: 0.5476 - val_loss: 0.7007 - val_accuracy: 0.4925\n",
      "Epoch 7/20\n",
      "100/100 [==============================] - 1s 6ms/step - loss: 0.6793 - accuracy: 0.5622 - val_loss: 0.7007 - val_accuracy: 0.4963\n",
      "Epoch 8/20\n",
      "100/100 [==============================] - 1s 8ms/step - loss: 0.6784 - accuracy: 0.5552 - val_loss: 0.7023 - val_accuracy: 0.5000\n",
      "Epoch 9/20\n",
      "100/100 [==============================] - 1s 6ms/step - loss: 0.6676 - accuracy: 0.5997 - val_loss: 0.7053 - val_accuracy: 0.5088\n",
      "Epoch 10/20\n",
      "100/100 [==============================] - 1s 6ms/step - loss: 0.6700 - accuracy: 0.5903 - val_loss: 0.7050 - val_accuracy: 0.5100\n",
      "Epoch 11/20\n",
      "100/100 [==============================] - 1s 6ms/step - loss: 0.6657 - accuracy: 0.5959 - val_loss: 0.7146 - val_accuracy: 0.4925\n",
      "Epoch 12/20\n",
      "100/100 [==============================] - 1s 6ms/step - loss: 0.6582 - accuracy: 0.6092 - val_loss: 0.7190 - val_accuracy: 0.5113\n",
      "Epoch 13/20\n",
      "100/100 [==============================] - 1s 6ms/step - loss: 0.6505 - accuracy: 0.6025 - val_loss: 0.7135 - val_accuracy: 0.5100\n",
      "Epoch 14/20\n",
      "100/100 [==============================] - 1s 8ms/step - loss: 0.6423 - accuracy: 0.6379 - val_loss: 0.7161 - val_accuracy: 0.4950\n",
      "Epoch 15/20\n",
      "100/100 [==============================] - 1s 8ms/step - loss: 0.6420 - accuracy: 0.6352 - val_loss: 0.7197 - val_accuracy: 0.5100\n",
      "Epoch 16/20\n",
      "100/100 [==============================] - 1s 8ms/step - loss: 0.6400 - accuracy: 0.6349 - val_loss: 0.7148 - val_accuracy: 0.5250\n",
      "INFO:tensorflow:Assets written to: BestModel/assets\n",
      "Epoch 17/20\n",
      "100/100 [==============================] - 1s 7ms/step - loss: 0.6420 - accuracy: 0.6305 - val_loss: 0.7289 - val_accuracy: 0.5238\n",
      "Epoch 18/20\n",
      "100/100 [==============================] - 1s 6ms/step - loss: 0.6260 - accuracy: 0.6444 - val_loss: 0.7368 - val_accuracy: 0.5150\n",
      "Epoch 19/20\n",
      "100/100 [==============================] - 1s 6ms/step - loss: 0.6262 - accuracy: 0.6505 - val_loss: 0.7318 - val_accuracy: 0.5050\n",
      "Epoch 20/20\n",
      "100/100 [==============================] - 1s 7ms/step - loss: 0.6192 - accuracy: 0.6519 - val_loss: 0.7387 - val_accuracy: 0.5100\n",
      "Fold 1, 20 epochs, 20 sec\n"
     ]
    },
    {
     "data": {
      "image/png": "[encoded data removed]",
      "text/plain": [
       "<Figure size 576x360 with 1 Axes>"
      ]
     },
     "metadata": {
      "needs_background": "light"
     },
     "output_type": "display_data"
    },
    {
     "name": "stdout",
     "output_type": "stream",
     "text": [
      "MODEL\n",
      "make_DNN\n",
      "input shape: (21, 4)\n",
      "FIT\n",
      "Epoch 1/20\n",
      "100/100 [==============================] - 2s 8ms/step - loss: 0.7261 - accuracy: 0.4985 - val_loss: 0.7033 - val_accuracy: 0.4712\n",
      "Epoch 2/20\n",
      "100/100 [==============================] - 1s 6ms/step - loss: 0.7023 - accuracy: 0.5149 - val_loss: 0.6947 - val_accuracy: 0.5150\n",
      "Epoch 3/20\n",
      "100/100 [==============================] - 1s 7ms/step - loss: 0.6932 - accuracy: 0.5348 - val_loss: 0.6957 - val_accuracy: 0.4762\n",
      "Epoch 4/20\n",
      "100/100 [==============================] - 1s 6ms/step - loss: 0.6861 - accuracy: 0.5492 - val_loss: 0.7030 - val_accuracy: 0.4675\n",
      "Epoch 5/20\n",
      "100/100 [==============================] - 1s 6ms/step - loss: 0.6897 - accuracy: 0.5365 - val_loss: 0.6986 - val_accuracy: 0.4950\n",
      "Epoch 6/20\n",
      "100/100 [==============================] - 1s 5ms/step - loss: 0.6811 - accuracy: 0.5672 - val_loss: 0.6956 - val_accuracy: 0.5213\n",
      "Epoch 7/20\n",
      "100/100 [==============================] - 1s 6ms/step - loss: 0.6861 - accuracy: 0.5537 - val_loss: 0.7011 - val_accuracy: 0.4863\n",
      "Epoch 8/20\n",
      "100/100 [==============================] - 1s 6ms/step - loss: 0.6779 - accuracy: 0.5680 - val_loss: 0.7038 - val_accuracy: 0.5000\n",
      "Epoch 9/20\n",
      "100/100 [==============================] - 1s 6ms/step - loss: 0.6785 - accuracy: 0.5816 - val_loss: 0.7044 - val_accuracy: 0.5063\n",
      "Epoch 10/20\n",
      "100/100 [==============================] - 1s 6ms/step - loss: 0.6755 - accuracy: 0.5873 - val_loss: 0.7043 - val_accuracy: 0.4888\n",
      "Epoch 11/20\n",
      "100/100 [==============================] - 1s 6ms/step - loss: 0.6663 - accuracy: 0.6003 - val_loss: 0.7156 - val_accuracy: 0.5000\n",
      "Epoch 12/20\n",
      "100/100 [==============================] - 1s 6ms/step - loss: 0.6669 - accuracy: 0.5981 - val_loss: 0.7173 - val_accuracy: 0.4950\n",
      "Epoch 13/20\n",
      "100/100 [==============================] - 1s 6ms/step - loss: 0.6620 - accuracy: 0.6106 - val_loss: 0.7142 - val_accuracy: 0.5013\n",
      "Epoch 14/20\n",
      "100/100 [==============================] - 1s 7ms/step - loss: 0.6569 - accuracy: 0.6165 - val_loss: 0.7096 - val_accuracy: 0.5213\n",
      "Epoch 15/20\n",
      "100/100 [==============================] - 1s 6ms/step - loss: 0.6562 - accuracy: 0.6173 - val_loss: 0.7159 - val_accuracy: 0.5138\n",
      "Epoch 16/20\n",
      "100/100 [==============================] - 1s 6ms/step - loss: 0.6517 - accuracy: 0.6269 - val_loss: 0.7132 - val_accuracy: 0.5300\n",
      "INFO:tensorflow:Assets written to: BestModel/assets\n",
      "Epoch 17/20\n",
      "100/100 [==============================] - 1s 9ms/step - loss: 0.6429 - accuracy: 0.6273 - val_loss: 0.7196 - val_accuracy: 0.5138\n",
      "Epoch 18/20\n",
      "100/100 [==============================] - 1s 8ms/step - loss: 0.6400 - accuracy: 0.6338 - val_loss: 0.7190 - val_accuracy: 0.5312\n",
      "INFO:tensorflow:Assets written to: BestModel/assets\n",
      "Epoch 19/20\n",
      "100/100 [==============================] - 1s 6ms/step - loss: 0.6297 - accuracy: 0.6455 - val_loss: 0.7218 - val_accuracy: 0.5288\n",
      "Epoch 20/20\n",
      "100/100 [==============================] - 1s 7ms/step - loss: 0.6154 - accuracy: 0.6771 - val_loss: 0.7179 - val_accuracy: 0.5263\n",
      "Fold 2, 20 epochs, 17 sec\n"
     ]
    },
    {
     "data": {
      "image/png": "[encoded data removed]",
      "text/plain": [
       "<Figure size 576x360 with 1 Axes>"
      ]
     },
     "metadata": {
      "needs_background": "light"
     },
     "output_type": "display_data"
    }
   ],
   "source": [
    "do_cross_validation(X,y)"
   ]
  },
  {
   "cell_type": "code",
   "execution_count": 12,
   "metadata": {
    "colab": {
     "base_uri": "https://localhost:8080/"
    },
    "id": "e-jG1h5fj2Ua",
    "outputId": "8a4e57b5-c379-48c8-e0df-9cbfc828d46b"
   },
   "outputs": [
    {
     "name": "stdout",
     "output_type": "stream",
     "text": [
      "The best model parameters were saved during cross-validation.\n",
      "Best was defined as maximum validation accuracy at end of any epoch.\n",
      "Now re-load the best model and test it on previously unseen data.\n",
      "Test on 1000 PC seqs\n",
      "Test on 1000 NC seqs\n",
      "accuracy: 51.70%\n"
     ]
    }
   ],
   "source": [
    "from keras.models import load_model\n",
    "pc_sim.set_reproducible(True)\n",
    "nc_sim.set_reproducible(True)\n",
    "pc_test = pc_sim.get_sequences(PC_TESTS)\n",
    "nc_test = nc_sim.get_sequences(NC_TESTS)\n",
    "X,y = prepare_inputs_len_x_alphabet(pc_test,nc_test,ALPHABET)\n",
    "best_model=load_model(MODELPATH)\n",
    "scores = best_model.evaluate(X, y, verbose=0)\n",
    "print(\"The best model parameters were saved during cross-validation.\")\n",
    "print(\"Best was defined as maximum validation accuracy at end of any epoch.\")\n",
    "print(\"Now re-load the best model and test it on previously unseen data.\")\n",
    "print(\"Test on\",len(pc_test),\"PC seqs\")\n",
    "print(\"Test on\",len(nc_test),\"NC seqs\")\n",
    "print(\"%s: %.2f%%\" % (best_model.metrics_names[1], scores[1]*100))\n"
   ]
  },
  {
   "cell_type": "code",
   "execution_count": 13,
   "metadata": {
    "colab": {
     "base_uri": "https://localhost:8080/",
     "height": 312
    },
    "id": "VycUnmvUj2Ue",
    "outputId": "b26172ab-07c5-4ce9-9402-12921abf1778"
   },
   "outputs": [
    {
     "data": {
      "image/png": "[encoded data removed]",
      "text/plain": [
       "<Figure size 432x288 with 1 Axes>"
      ]
     },
     "metadata": {
      "needs_background": "light"
     },
     "output_type": "display_data"
    },
    {
     "name": "stdout",
     "output_type": "stream",
     "text": [
      "AUC: 51.26%\n"
     ]
    }
   ],
   "source": [
    "from sklearn.metrics import roc_curve\n",
    "from sklearn.metrics import roc_auc_score\n",
    "ns_probs = [0 for _ in range(len(y))]\n",
    "bm_probs = best_model.predict(X)\n",
    "ns_auc = roc_auc_score(y, ns_probs)\n",
    "bm_auc = roc_auc_score(y, bm_probs)\n",
    "ns_fpr, ns_tpr, _ = roc_curve(y, ns_probs)\n",
    "bm_fpr, bm_tpr, _ = roc_curve(y, bm_probs)\n",
    "plt.plot(ns_fpr, ns_tpr, linestyle='--', label='Guess, auc=%.4f'%ns_auc)\n",
    "plt.plot(bm_fpr, bm_tpr, marker='.', label='Model, auc=%.4f'%bm_auc)\n",
    "plt.title('ROC')\n",
    "plt.xlabel('False Positive Rate')\n",
    "plt.ylabel('True Positive Rate')\n",
    "plt.legend()\n",
    "plt.show()\n",
    "print(\"%s: %.2f%%\" %('AUC',bm_auc*100.0))\n"
   ]
  },
  {
   "cell_type": "code",
   "execution_count": 14,
   "metadata": {
    "colab": {
     "base_uri": "https://localhost:8080/",
     "height": 36
    },
    "id": "kFMb6rGNj2Ug",
    "outputId": "9a9eaa14-5656-47f8-9457-b936f9bf922c"
   },
   "outputs": [
    {
     "data": {
      "text/plain": [
       "'2021-06-10 14:43:20 EDT'"
      ]
     },
     "execution_count": 14,
     "metadata": {},
     "output_type": "execute_result"
    }
   ],
   "source": [
    "t = time.time()\n",
    "time.strftime('%Y-%m-%d %H:%M:%S %Z', time.localtime(t))"
   ]
  },
  {
   "cell_type": "markdown",
   "metadata": {},
   "source": [
    "## Conclusion\n",
    "Experiment 107 is validated again."
   ]
  },
  {
   "cell_type": "code",
   "execution_count": null,
   "metadata": {},
   "outputs": [],
   "source": []
  }
 ],
 "metadata": {
  "colab": {
   "collapsed_sections": [],
   "name": "ORF_CNN_105.ipynb",
   "provenance": []
  },
  "kernelspec": {
   "display_name": "Python 3",
   "language": "python",
   "name": "python3"
  },
  "language_info": {
   "codemirror_mode": {
    "name": "ipython",
    "version": 3
   },
   "file_extension": ".py",
   "mimetype": "text/x-python",
   "name": "python",
   "nbconvert_exporter": "python",
   "pygments_lexer": "ipython3",
   "version": "3.8.3"
  }
 },
 "nbformat": 4,
 "nbformat_minor": 1
}
