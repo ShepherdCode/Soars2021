{
  "nbformat": 4,
  "nbformat_minor": 0,
  "metadata": {
    "colab": {
      "name": "ORF_CNN_109.ipynb",
      "provenance": [],
      "collapsed_sections": []
    },
    "kernelspec": {
      "display_name": "Python 3",
      "language": "python",
      "name": "python3"
    },
    "language_info": {
      "codemirror_mode": {
        "name": "ipython",
        "version": 3
      },
      "file_extension": ".py",
      "mimetype": "text/x-python",
      "name": "python",
      "nbconvert_exporter": "python",
      "pygments_lexer": "ipython3",
      "version": "3.8.3"
    },
    "accelerator": "GPU"
  },
  "cells": [
    {
      "cell_type": "markdown",
      "metadata": {
        "id": "0asdcdunj2Tx"
      },
      "source": [
        "# ORF recognition by CNN\n",
        "\n",
        "In 105, we used Conv1D layers with filter width=3 with dropout to reduce overfitting. The simulated RNA lengths were 1000.\n",
        "\n",
        "As validation of the 107 notebook, use pc_sim to generate both sets, but introduce a SNP rather than indel to the pcRNA. Like 108, this result validates 107."
      ]
    },
    {
      "cell_type": "code",
      "metadata": {
        "colab": {
          "base_uri": "https://localhost:8080/",
          "height": 36
        },
        "id": "QP1VTRNQj2UO",
        "outputId": "29817643-f563-4719-907f-027bf657fbbf"
      },
      "source": [
        "import time \n",
        "t = time.time()\n",
        "time.strftime('%Y-%m-%d %H:%M:%S %Z', time.localtime(t))"
      ],
      "execution_count": 1,
      "outputs": [
        {
          "output_type": "execute_result",
          "data": {
            "application/vnd.google.colaboratory.intrinsic+json": {
              "type": "string"
            },
            "text/plain": [
              "'2021-06-10 20:25:21 UTC'"
            ]
          },
          "metadata": {
            "tags": []
          },
          "execution_count": 1
        }
      ]
    },
    {
      "cell_type": "code",
      "metadata": {
        "id": "Nhz4GKonj2T_"
      },
      "source": [
        "PC_SEQUENCES=2000   # how many protein-coding sequences\n",
        "NC_SEQUENCES=2000   # how many non-coding sequences\n",
        "PC_TESTS=1000\n",
        "NC_TESTS=1000\n",
        "RNA_LEN=21            # how long is each sequence\n",
        "CDS_LEN=15\n",
        "ALPHABET=4          # how many different letters are possible\n",
        "INPUT_SHAPE_2D = (RNA_LEN,ALPHABET,1) # Conv2D needs 3D inputs\n",
        "INPUT_SHAPE = (RNA_LEN,ALPHABET) # Conv1D needs 2D inputs\n",
        "FILTERS = 16   # how many different patterns the model looks for\n",
        "NEURONS = 16\n",
        "DROP_RATE = 0.2\n",
        "WIDTH = 3   # how wide each pattern is, in bases\n",
        "STRIDE_2D = (1,1)  # For Conv2D how far in each direction\n",
        "STRIDE = 1 # For Conv1D, how far between pattern matches, in bases\n",
        "EPOCHS=20  # how many times to train on all the data\n",
        "SPLITS=5  # SPLITS=3 means train on 2/3 and validate on 1/3 \n",
        "FOLDS=5  # train the model this many times (range 1 to SPLITS)"
      ],
      "execution_count": 2,
      "outputs": []
    },
    {
      "cell_type": "code",
      "metadata": {
        "colab": {
          "base_uri": "https://localhost:8080/"
        },
        "id": "lr7q90rxj2UE",
        "outputId": "2973d738-615a-4186-cae7-ac1579ffc709"
      },
      "source": [
        "import sys\n",
        "try:\n",
        "    from google.colab import drive\n",
        "    IN_COLAB = True\n",
        "    print(\"On Google CoLab, mount cloud-local file, get our code from GitHub.\")\n",
        "    PATH='/content/drive/'\n",
        "    #drive.mount(PATH,force_remount=True)  # hardly ever need this\n",
        "    #drive.mount(PATH)    # Google will require login credentials\n",
        "    DATAPATH=PATH+'My Drive/data/'  # must end in \"/\"\n",
        "    import requests\n",
        "    r = requests.get('https://raw.githubusercontent.com/ShepherdCode/Soars2021/master/SimTools/RNA_gen.py')\n",
        "    with open('RNA_gen.py', 'w') as f:\n",
        "        f.write(r.text)  \n",
        "    from RNA_gen import *\n",
        "    r = requests.get('https://raw.githubusercontent.com/ShepherdCode/Soars2021/master/SimTools/RNA_describe.py')\n",
        "    with open('RNA_describe.py', 'w') as f:\n",
        "        f.write(r.text)  \n",
        "    from RNA_describe import ORF_counter\n",
        "    r = requests.get('https://raw.githubusercontent.com/ShepherdCode/Soars2021/master/SimTools/RNA_prep.py')\n",
        "    with open('RNA_prep.py', 'w') as f:\n",
        "        f.write(r.text)  \n",
        "    from RNA_prep import *\n",
        "except:\n",
        "    print(\"CoLab not working. On my PC, use relative paths.\")\n",
        "    IN_COLAB = False\n",
        "    DATAPATH='data/'  # must end in \"/\"\n",
        "    sys.path.append(\"..\") # append parent dir in order to use sibling dirs\n",
        "    from SimTools.RNA_gen import *\n",
        "    from SimTools.RNA_describe import ORF_counter\n",
        "    from SimTools.RNA_prep import *\n",
        "\n",
        "MODELPATH=\"BestModel\"  # saved on cloud instance and lost after logout\n",
        "#MODELPATH=DATAPATH+MODELPATH  # saved on Google Drive but requires login\n",
        "\n",
        "if not assert_imported_RNA_gen():\n",
        "    print(\"ERROR: Cannot use RNA_gen.\")\n",
        "if not assert_imported_RNA_prep():\n",
        "    print(\"ERROR: Cannot use RNA_prep.\")"
      ],
      "execution_count": 3,
      "outputs": [
        {
          "output_type": "stream",
          "text": [
            "On Google CoLab, mount cloud-local file, get our code from GitHub.\n"
          ],
          "name": "stdout"
        }
      ]
    },
    {
      "cell_type": "code",
      "metadata": {
        "id": "EGDXH8Uwj2UM"
      },
      "source": [
        "from os import listdir\n",
        "import csv\n",
        "from zipfile import ZipFile\n",
        "\n",
        "import numpy as np\n",
        "import pandas as pd\n",
        "from scipy import stats  # mode\n",
        "\n",
        "from sklearn.preprocessing import StandardScaler\n",
        "from sklearn.model_selection import KFold\n",
        "from sklearn.model_selection import cross_val_score\n",
        "\n",
        "from keras.models import Sequential\n",
        "from keras.layers import Dense,Embedding,Dropout\n",
        "from keras.layers import Conv1D,Conv2D\n",
        "from keras.layers import Flatten,MaxPooling1D,MaxPooling2D\n",
        "from keras.losses import BinaryCrossentropy\n",
        "# tf.keras.losses.BinaryCrossentropy\n",
        "\n",
        "import matplotlib.pyplot as plt\n",
        "from matplotlib import colors\n",
        "mycmap = colors.ListedColormap(['red','blue'])  # list color for label 0 then 1\n",
        "np.set_printoptions(precision=2)\n"
      ],
      "execution_count": 4,
      "outputs": []
    },
    {
      "cell_type": "code",
      "metadata": {
        "colab": {
          "base_uri": "https://localhost:8080/"
        },
        "id": "Q0FetlLPj2UQ",
        "outputId": "04514849-b40f-4d53-afe1-3357dbd220ea"
      },
      "source": [
        "# Use code from our SimTools library.\n",
        "def make_generators(seq_len):\n",
        "    pcgen = Collection_Generator()  \n",
        "    pcgen.get_len_oracle().set_mean(seq_len)\n",
        "    tora = Transcript_Oracle()\n",
        "    tora.set_cds_len_mean(CDS_LEN)  # CDS=ORF+STOP. Method is misnamed.\n",
        "    pcgen.set_seq_oracle(tora)\n",
        "    ncgen = Collection_Generator()  \n",
        "    ncgen.get_len_oracle().set_mean(seq_len)\n",
        "    return pcgen,ncgen\n",
        "\n",
        "pc_sim,nc_sim = make_generators(RNA_LEN)\n",
        "pc_all = pc_sim.get_sequences(PC_SEQUENCES+PC_TESTS)\n",
        "nc_all = pc_sim.get_sequences(NC_SEQUENCES+NC_TESTS) # YES, use PC for both!\n",
        "print(\"Use\",len(pc_all),\"PC seqs\")\n",
        "print(\"Use\",len(nc_all),\"NC seqs\")"
      ],
      "execution_count": 5,
      "outputs": [
        {
          "output_type": "stream",
          "text": [
            "Use 3000 PC seqs\n",
            "Use 3000 NC seqs\n"
          ],
          "name": "stdout"
        }
      ]
    },
    {
      "cell_type": "code",
      "metadata": {
        "colab": {
          "base_uri": "https://localhost:8080/"
        },
        "id": "pc1NmXNsmWvv",
        "outputId": "573aeefa-edda-4150-d012-0dac937c2829"
      },
      "source": [
        "# Describe the sequences\n",
        "def describe_sequences(list_of_seq):\n",
        "    oc = ORF_counter()\n",
        "    num_seq = len(list_of_seq)\n",
        "    rna_lens = np.zeros(num_seq)\n",
        "    orf_lens = np.zeros(num_seq)\n",
        "    for i in range(0,num_seq):\n",
        "        rna_len = len(list_of_seq[i])\n",
        "        rna_lens[i] = rna_len\n",
        "        oc.set_sequence(list_of_seq[i])\n",
        "        orf_len = oc.get_max_orf_len()\n",
        "        orf_lens[i] = orf_len\n",
        "    print (\"Average RNA length:\",rna_lens.mean())\n",
        "    print (\"Average ORF length:\",orf_lens.mean())\n",
        "    \n",
        "print(\"Simulated sequences prior to adjustment:\")\n",
        "print(\"PC seqs\")\n",
        "describe_sequences(pc_all)\n",
        "print(\"NC seqs\")\n",
        "describe_sequences(nc_all)"
      ],
      "execution_count": 6,
      "outputs": [
        {
          "output_type": "stream",
          "text": [
            "Simulated sequences prior to adjustment:\n",
            "PC seqs\n",
            "Average RNA length: 21.0\n",
            "Average ORF length: 11.041\n",
            "NC seqs\n",
            "Average RNA length: 21.0\n",
            "Average ORF length: 11.037\n"
          ],
          "name": "stdout"
        }
      ]
    },
    {
      "cell_type": "code",
      "metadata": {
        "colab": {
          "base_uri": "https://localhost:8080/"
        },
        "id": "tdPDTrUAmWvx",
        "outputId": "66b36df6-6e95-450f-da31-f29037bdbf4a"
      },
      "source": [
        "import random\n",
        "def alter_sequences(list_of_seq,center):\n",
        "    global next_pos,bases\n",
        "    new_list = []\n",
        "    for S in list_of_seq:\n",
        "        seq_len = len(S)\n",
        "        next_left = random.choice([True,False])\n",
        "        next_base = random.choice(['A','C','G','T'])\n",
        "        new_seq=\"\"\n",
        "        if center:\n",
        "            half=seq_len//2\n",
        "            if next_left:\n",
        "                new_seq=S[0:half]+next_base+S[half+1:]\n",
        "            else:\n",
        "                new_seq=S[0:half-1]+next_base+S[half:]\n",
        "        else:\n",
        "            if next_left:\n",
        "                new_seq=next_base+S[1:]\n",
        "            else:\n",
        "                new_seq=S[:-1]+next_base \n",
        "        new_list.append(new_seq)\n",
        "    return new_list\n",
        "pc_all = alter_sequences(pc_all,False)\n",
        "nc_all = alter_sequences(nc_all,True)\n",
        "\n",
        "print(\"Simulated sequences after adjustment:\")\n",
        "print(\"PC seqs\")\n",
        "describe_sequences(pc_all)\n",
        "print(\"NC seqs\")\n",
        "describe_sequences(nc_all)"
      ],
      "execution_count": 7,
      "outputs": [
        {
          "output_type": "stream",
          "text": [
            "Simulated sequences after adjustment:\n",
            "PC seqs\n",
            "Average RNA length: 21.0\n",
            "Average ORF length: 10.858\n",
            "NC seqs\n",
            "Average RNA length: 21.0\n",
            "Average ORF length: 10.894\n"
          ],
          "name": "stdout"
        }
      ]
    },
    {
      "cell_type": "code",
      "metadata": {
        "id": "9OCNTW2omWv1"
      },
      "source": [
        "pc_train=pc_all[:PC_SEQUENCES]\n",
        "nc_train=nc_all[:NC_SEQUENCES]\n",
        "pc_test=pc_all[PC_SEQUENCES:]\n",
        "nc_test=nc_all[NC_SEQUENCES:]"
      ],
      "execution_count": 8,
      "outputs": []
    },
    {
      "cell_type": "code",
      "metadata": {
        "colab": {
          "base_uri": "https://localhost:8080/"
        },
        "id": "CIpTrnH6j2US",
        "outputId": "a5f7f678-a872-44ff-bad1-100ab0f2f064"
      },
      "source": [
        "# Use code from our SimTools library.\n",
        "X,y = prepare_inputs_len_x_alphabet(pc_train,nc_train,ALPHABET) # shuffles\n",
        "print(\"Data ready.\")"
      ],
      "execution_count": 9,
      "outputs": [
        {
          "output_type": "stream",
          "text": [
            "Data ready.\n"
          ],
          "name": "stdout"
        }
      ]
    },
    {
      "cell_type": "code",
      "metadata": {
        "colab": {
          "base_uri": "https://localhost:8080/"
        },
        "id": "7NvrVU8ij2UU",
        "outputId": "5fcfd2c2-eb87-40fd-d51b-6a80521d7e60"
      },
      "source": [
        "def make_DNN():\n",
        "    print(\"make_DNN\")\n",
        "    print(\"input shape:\",INPUT_SHAPE)\n",
        "    dnn = Sequential()\n",
        "    #dnn.add(Embedding(input_dim=INPUT_SHAPE,output_dim=INPUT_SHAPE)) \n",
        "    dnn.add(Conv1D(filters=FILTERS,kernel_size=WIDTH,strides=STRIDE,padding=\"same\",\n",
        "            input_shape=INPUT_SHAPE))\n",
        "    dnn.add(Conv1D(filters=FILTERS,kernel_size=WIDTH,strides=STRIDE,padding=\"same\"))\n",
        "    dnn.add(MaxPooling1D())\n",
        "    dnn.add(Conv1D(filters=FILTERS,kernel_size=WIDTH,strides=STRIDE,padding=\"same\"))\n",
        "    dnn.add(Conv1D(filters=FILTERS,kernel_size=WIDTH,strides=STRIDE,padding=\"same\"))\n",
        "    dnn.add(MaxPooling1D())\n",
        "    dnn.add(Flatten())\n",
        "    dnn.add(Dense(NEURONS,activation=\"sigmoid\",dtype=np.float32))   \n",
        "    dnn.add(Dropout(DROP_RATE))\n",
        "    dnn.add(Dense(1,activation=\"sigmoid\",dtype=np.float32))   \n",
        "    dnn.compile(optimizer='adam',\n",
        "                loss=BinaryCrossentropy(from_logits=False),\n",
        "                metrics=['accuracy'])   # add to default metrics=loss\n",
        "    dnn.build(input_shape=INPUT_SHAPE)\n",
        "    #ln_rate = tf.keras.optimizers.Adam(learning_rate = LN_RATE)\n",
        "    #bc=tf.keras.losses.BinaryCrossentropy(from_logits=False)\n",
        "    #model.compile(loss=bc, optimizer=ln_rate, metrics=[\"accuracy\"])\n",
        "    return dnn\n",
        "model = make_DNN()\n",
        "print(model.summary())"
      ],
      "execution_count": 10,
      "outputs": [
        {
          "output_type": "stream",
          "text": [
            "make_DNN\n",
            "input shape: (21, 4)\n",
            "Model: \"sequential\"\n",
            "_________________________________________________________________\n",
            "Layer (type)                 Output Shape              Param #   \n",
            "=================================================================\n",
            "conv1d (Conv1D)              (None, 21, 16)            208       \n",
            "_________________________________________________________________\n",
            "conv1d_1 (Conv1D)            (None, 21, 16)            784       \n",
            "_________________________________________________________________\n",
            "max_pooling1d (MaxPooling1D) (None, 10, 16)            0         \n",
            "_________________________________________________________________\n",
            "conv1d_2 (Conv1D)            (None, 10, 16)            784       \n",
            "_________________________________________________________________\n",
            "conv1d_3 (Conv1D)            (None, 10, 16)            784       \n",
            "_________________________________________________________________\n",
            "max_pooling1d_1 (MaxPooling1 (None, 5, 16)             0         \n",
            "_________________________________________________________________\n",
            "flatten (Flatten)            (None, 80)                0         \n",
            "_________________________________________________________________\n",
            "dense (Dense)                (None, 16)                1296      \n",
            "_________________________________________________________________\n",
            "dropout (Dropout)            (None, 16)                0         \n",
            "_________________________________________________________________\n",
            "dense_1 (Dense)              (None, 1)                 17        \n",
            "=================================================================\n",
            "Total params: 3,873\n",
            "Trainable params: 3,873\n",
            "Non-trainable params: 0\n",
            "_________________________________________________________________\n",
            "None\n"
          ],
          "name": "stdout"
        }
      ]
    },
    {
      "cell_type": "code",
      "metadata": {
        "id": "nlVF0hR3j2UW"
      },
      "source": [
        "from keras.callbacks import ModelCheckpoint\n",
        "def do_cross_validation(X,y):\n",
        "    cv_scores = []\n",
        "    fold=0\n",
        "    mycallbacks = [ModelCheckpoint(\n",
        "        filepath=MODELPATH, save_best_only=True, \n",
        "        monitor='val_accuracy', mode='max')]   \n",
        "    splitter = KFold(n_splits=SPLITS)  # this does not shuffle\n",
        "    for train_index,valid_index in splitter.split(X):\n",
        "        if fold < FOLDS:\n",
        "            fold += 1\n",
        "            X_train=X[train_index] # inputs for training\n",
        "            y_train=y[train_index] # labels for training\n",
        "            X_valid=X[valid_index] # inputs for validation\n",
        "            y_valid=y[valid_index] # labels for validation\n",
        "            print(\"MODEL\")\n",
        "            # Call constructor on each CV. Else, continually improves the same model.\n",
        "            model = model = make_DNN()\n",
        "            print(\"FIT\")  # model.fit() implements learning\n",
        "            start_time=time.time()\n",
        "            history=model.fit(X_train, y_train, \n",
        "                    epochs=EPOCHS, \n",
        "                    verbose=1,  # ascii art while learning\n",
        "                    callbacks=mycallbacks,   # called at end of each epoch\n",
        "                    validation_data=(X_valid,y_valid))\n",
        "            end_time=time.time()\n",
        "            elapsed_time=(end_time-start_time)                        \n",
        "            print(\"Fold %d, %d epochs, %d sec\"%(fold,EPOCHS,elapsed_time))\n",
        "            # print(history.history.keys())  # all these keys will be shown in figure\n",
        "            pd.DataFrame(history.history).plot(figsize=(8,5))\n",
        "            plt.grid(True)\n",
        "            plt.gca().set_ylim(0,1) # any losses > 1 will be off the scale\n",
        "            plt.show()\n"
      ],
      "execution_count": 11,
      "outputs": []
    },
    {
      "cell_type": "code",
      "metadata": {
        "colab": {
          "base_uri": "https://localhost:8080/",
          "height": 1000
        },
        "id": "9Ggt4EsSj2UY",
        "outputId": "e28c914c-2afe-4c42-c203-d788d351a081"
      },
      "source": [
        "do_cross_validation(X,y)"
      ],
      "execution_count": 12,
      "outputs": [
        {
          "output_type": "stream",
          "text": [
            "MODEL\n",
            "make_DNN\n",
            "input shape: (21, 4)\n",
            "FIT\n",
            "Epoch 1/20\n",
            "100/100 [==============================] - 29s 9ms/step - loss: 0.7132 - accuracy: 0.4919 - val_loss: 0.6972 - val_accuracy: 0.4837\n",
            "INFO:tensorflow:Assets written to: BestModel/assets\n",
            "Epoch 2/20\n",
            "100/100 [==============================] - 0s 4ms/step - loss: 0.7073 - accuracy: 0.4927 - val_loss: 0.6942 - val_accuracy: 0.5050\n",
            "INFO:tensorflow:Assets written to: BestModel/assets\n",
            "Epoch 3/20\n",
            "100/100 [==============================] - 0s 3ms/step - loss: 0.6937 - accuracy: 0.5205 - val_loss: 0.6943 - val_accuracy: 0.4925\n",
            "Epoch 4/20\n",
            "100/100 [==============================] - 0s 4ms/step - loss: 0.6893 - accuracy: 0.5350 - val_loss: 0.6936 - val_accuracy: 0.5138\n",
            "INFO:tensorflow:Assets written to: BestModel/assets\n",
            "Epoch 5/20\n",
            "100/100 [==============================] - 0s 4ms/step - loss: 0.6891 - accuracy: 0.5405 - val_loss: 0.6949 - val_accuracy: 0.5038\n",
            "Epoch 6/20\n",
            "100/100 [==============================] - 0s 4ms/step - loss: 0.6856 - accuracy: 0.5416 - val_loss: 0.6936 - val_accuracy: 0.5013\n",
            "Epoch 7/20\n",
            "100/100 [==============================] - 0s 4ms/step - loss: 0.6790 - accuracy: 0.5759 - val_loss: 0.6971 - val_accuracy: 0.5437\n",
            "INFO:tensorflow:Assets written to: BestModel/assets\n",
            "Epoch 8/20\n",
            "100/100 [==============================] - 0s 3ms/step - loss: 0.6769 - accuracy: 0.5685 - val_loss: 0.6997 - val_accuracy: 0.5312\n",
            "Epoch 9/20\n",
            "100/100 [==============================] - 0s 4ms/step - loss: 0.6710 - accuracy: 0.5880 - val_loss: 0.7008 - val_accuracy: 0.5163\n",
            "Epoch 10/20\n",
            "100/100 [==============================] - 0s 4ms/step - loss: 0.6644 - accuracy: 0.6095 - val_loss: 0.7051 - val_accuracy: 0.5288\n",
            "Epoch 11/20\n",
            "100/100 [==============================] - 0s 4ms/step - loss: 0.6620 - accuracy: 0.5934 - val_loss: 0.7081 - val_accuracy: 0.5038\n",
            "Epoch 12/20\n",
            "100/100 [==============================] - 0s 4ms/step - loss: 0.6566 - accuracy: 0.6041 - val_loss: 0.7123 - val_accuracy: 0.5238\n",
            "Epoch 13/20\n",
            "100/100 [==============================] - 0s 4ms/step - loss: 0.6591 - accuracy: 0.5989 - val_loss: 0.7163 - val_accuracy: 0.5288\n",
            "Epoch 14/20\n",
            "100/100 [==============================] - 0s 3ms/step - loss: 0.6588 - accuracy: 0.5775 - val_loss: 0.7196 - val_accuracy: 0.5125\n",
            "Epoch 15/20\n",
            "100/100 [==============================] - 0s 4ms/step - loss: 0.6412 - accuracy: 0.6318 - val_loss: 0.7209 - val_accuracy: 0.5138\n",
            "Epoch 16/20\n",
            "100/100 [==============================] - 0s 4ms/step - loss: 0.6476 - accuracy: 0.6316 - val_loss: 0.7234 - val_accuracy: 0.5350\n",
            "Epoch 17/20\n",
            "100/100 [==============================] - 0s 4ms/step - loss: 0.6412 - accuracy: 0.6172 - val_loss: 0.7303 - val_accuracy: 0.5487\n",
            "INFO:tensorflow:Assets written to: BestModel/assets\n",
            "Epoch 18/20\n",
            "100/100 [==============================] - 0s 4ms/step - loss: 0.6297 - accuracy: 0.6441 - val_loss: 0.7324 - val_accuracy: 0.5362\n",
            "Epoch 19/20\n",
            "100/100 [==============================] - 0s 4ms/step - loss: 0.6194 - accuracy: 0.6546 - val_loss: 0.7342 - val_accuracy: 0.5013\n",
            "Epoch 20/20\n",
            "100/100 [==============================] - 0s 4ms/step - loss: 0.6252 - accuracy: 0.6337 - val_loss: 0.7471 - val_accuracy: 0.5362\n",
            "Fold 1, 20 epochs, 42 sec\n"
          ],
          "name": "stdout"
        },
        {
          "output_type": "display_data",
          "data": {
            "image/png": "[encoded data removed]",
            "text/plain": [
              "<Figure size 576x360 with 1 Axes>"
            ]
          },
          "metadata": {
            "tags": [],
            "needs_background": "light"
          }
        },
        {
          "output_type": "stream",
          "text": [
            "MODEL\n",
            "make_DNN\n",
            "input shape: (21, 4)\n",
            "FIT\n",
            "Epoch 1/20\n",
            "100/100 [==============================] - 2s 7ms/step - loss: 0.7348 - accuracy: 0.4954 - val_loss: 0.6937 - val_accuracy: 0.4975\n",
            "Epoch 2/20\n",
            "100/100 [==============================] - 0s 4ms/step - loss: 0.6924 - accuracy: 0.5179 - val_loss: 0.6937 - val_accuracy: 0.5050\n",
            "Epoch 3/20\n",
            "100/100 [==============================] - 0s 4ms/step - loss: 0.6924 - accuracy: 0.5095 - val_loss: 0.6941 - val_accuracy: 0.4900\n",
            "Epoch 4/20\n",
            "100/100 [==============================] - 0s 3ms/step - loss: 0.6912 - accuracy: 0.5321 - val_loss: 0.7001 - val_accuracy: 0.4725\n",
            "Epoch 5/20\n",
            "100/100 [==============================] - 0s 4ms/step - loss: 0.6906 - accuracy: 0.5416 - val_loss: 0.6953 - val_accuracy: 0.5038\n",
            "Epoch 6/20\n",
            "100/100 [==============================] - 0s 4ms/step - loss: 0.6862 - accuracy: 0.5435 - val_loss: 0.7007 - val_accuracy: 0.4837\n",
            "Epoch 7/20\n",
            "100/100 [==============================] - 0s 4ms/step - loss: 0.6863 - accuracy: 0.5520 - val_loss: 0.6927 - val_accuracy: 0.5337\n",
            "Epoch 8/20\n",
            "100/100 [==============================] - 0s 4ms/step - loss: 0.6830 - accuracy: 0.5547 - val_loss: 0.6911 - val_accuracy: 0.5412\n",
            "Epoch 9/20\n",
            "100/100 [==============================] - 1s 6ms/step - loss: 0.6766 - accuracy: 0.5756 - val_loss: 0.6942 - val_accuracy: 0.5225\n",
            "Epoch 10/20\n",
            "100/100 [==============================] - 0s 3ms/step - loss: 0.6713 - accuracy: 0.5993 - val_loss: 0.7122 - val_accuracy: 0.4762\n",
            "Epoch 11/20\n",
            "100/100 [==============================] - 0s 4ms/step - loss: 0.6665 - accuracy: 0.5980 - val_loss: 0.6963 - val_accuracy: 0.5213\n",
            "Epoch 12/20\n",
            "100/100 [==============================] - 0s 4ms/step - loss: 0.6673 - accuracy: 0.6004 - val_loss: 0.7016 - val_accuracy: 0.5100\n",
            "Epoch 13/20\n",
            "100/100 [==============================] - 0s 4ms/step - loss: 0.6555 - accuracy: 0.6304 - val_loss: 0.7113 - val_accuracy: 0.5200\n",
            "Epoch 14/20\n",
            "100/100 [==============================] - 0s 4ms/step - loss: 0.6502 - accuracy: 0.6223 - val_loss: 0.7213 - val_accuracy: 0.5013\n",
            "Epoch 15/20\n",
            "100/100 [==============================] - 0s 4ms/step - loss: 0.6481 - accuracy: 0.6266 - val_loss: 0.7255 - val_accuracy: 0.4975\n",
            "Epoch 16/20\n",
            "100/100 [==============================] - 0s 4ms/step - loss: 0.6514 - accuracy: 0.6208 - val_loss: 0.7296 - val_accuracy: 0.4988\n",
            "Epoch 17/20\n",
            "100/100 [==============================] - 0s 4ms/step - loss: 0.6414 - accuracy: 0.6411 - val_loss: 0.7250 - val_accuracy: 0.5200\n",
            "Epoch 18/20\n",
            "100/100 [==============================] - 0s 4ms/step - loss: 0.6517 - accuracy: 0.6176 - val_loss: 0.7402 - val_accuracy: 0.4888\n",
            "Epoch 19/20\n",
            "100/100 [==============================] - 0s 4ms/step - loss: 0.6271 - accuracy: 0.6594 - val_loss: 0.7363 - val_accuracy: 0.4963\n",
            "Epoch 20/20\n",
            "100/100 [==============================] - 0s 3ms/step - loss: 0.6251 - accuracy: 0.6574 - val_loss: 0.7662 - val_accuracy: 0.4888\n",
            "Fold 2, 20 epochs, 11 sec\n"
          ],
          "name": "stdout"
        },
        {
          "output_type": "display_data",
          "data": {
            "image/png": "[encoded data removed]",
            "text/plain": [
              "<Figure size 576x360 with 1 Axes>"
            ]
          },
          "metadata": {
            "tags": [],
            "needs_background": "light"
          }
        },
        {
          "output_type": "stream",
          "text": [
            "MODEL\n",
            "make_DNN\n",
            "input shape: (21, 4)\n",
            "FIT\n",
            "Epoch 1/20\n",
            "100/100 [==============================] - 2s 7ms/step - loss: 0.7217 - accuracy: 0.5235 - val_loss: 0.6961 - val_accuracy: 0.4863\n",
            "Epoch 2/20\n",
            "100/100 [==============================] - 0s 4ms/step - loss: 0.7051 - accuracy: 0.4968 - val_loss: 0.6932 - val_accuracy: 0.5038\n",
            "Epoch 3/20\n",
            "100/100 [==============================] - 0s 4ms/step - loss: 0.6985 - accuracy: 0.5200 - val_loss: 0.6934 - val_accuracy: 0.5050\n",
            "Epoch 4/20\n",
            "100/100 [==============================] - 0s 4ms/step - loss: 0.6885 - accuracy: 0.5358 - val_loss: 0.6942 - val_accuracy: 0.5113\n",
            "Epoch 5/20\n",
            "100/100 [==============================] - 0s 3ms/step - loss: 0.6909 - accuracy: 0.5334 - val_loss: 0.6955 - val_accuracy: 0.5050\n",
            "Epoch 6/20\n",
            "100/100 [==============================] - 0s 4ms/step - loss: 0.6859 - accuracy: 0.5427 - val_loss: 0.6973 - val_accuracy: 0.5100\n",
            "Epoch 7/20\n",
            "100/100 [==============================] - 0s 4ms/step - loss: 0.6794 - accuracy: 0.5662 - val_loss: 0.7019 - val_accuracy: 0.4938\n",
            "Epoch 8/20\n",
            "100/100 [==============================] - 0s 3ms/step - loss: 0.6736 - accuracy: 0.5719 - val_loss: 0.6998 - val_accuracy: 0.4938\n",
            "Epoch 9/20\n",
            "100/100 [==============================] - 0s 3ms/step - loss: 0.6644 - accuracy: 0.6040 - val_loss: 0.7038 - val_accuracy: 0.4963\n",
            "Epoch 10/20\n",
            "100/100 [==============================] - 0s 4ms/step - loss: 0.6640 - accuracy: 0.5990 - val_loss: 0.7054 - val_accuracy: 0.4900\n",
            "Epoch 11/20\n",
            "100/100 [==============================] - 0s 3ms/step - loss: 0.6608 - accuracy: 0.6060 - val_loss: 0.7117 - val_accuracy: 0.4950\n",
            "Epoch 12/20\n",
            "100/100 [==============================] - 0s 3ms/step - loss: 0.6596 - accuracy: 0.5949 - val_loss: 0.7117 - val_accuracy: 0.5075\n",
            "Epoch 13/20\n",
            "100/100 [==============================] - 0s 3ms/step - loss: 0.6543 - accuracy: 0.6169 - val_loss: 0.7124 - val_accuracy: 0.4900\n",
            "Epoch 14/20\n",
            "100/100 [==============================] - 0s 4ms/step - loss: 0.6500 - accuracy: 0.6313 - val_loss: 0.7251 - val_accuracy: 0.4837\n",
            "Epoch 15/20\n",
            "100/100 [==============================] - 0s 3ms/step - loss: 0.6470 - accuracy: 0.6250 - val_loss: 0.7247 - val_accuracy: 0.4950\n",
            "Epoch 16/20\n",
            "100/100 [==============================] - 0s 4ms/step - loss: 0.6332 - accuracy: 0.6459 - val_loss: 0.7282 - val_accuracy: 0.4975\n",
            "Epoch 17/20\n",
            "100/100 [==============================] - 0s 4ms/step - loss: 0.6242 - accuracy: 0.6491 - val_loss: 0.7356 - val_accuracy: 0.4963\n",
            "Epoch 18/20\n",
            "100/100 [==============================] - 0s 4ms/step - loss: 0.6237 - accuracy: 0.6499 - val_loss: 0.7288 - val_accuracy: 0.4775\n",
            "Epoch 19/20\n",
            "100/100 [==============================] - 0s 4ms/step - loss: 0.6152 - accuracy: 0.6707 - val_loss: 0.7345 - val_accuracy: 0.4800\n",
            "Epoch 20/20\n",
            "100/100 [==============================] - 0s 3ms/step - loss: 0.6145 - accuracy: 0.6636 - val_loss: 0.7513 - val_accuracy: 0.4775\n",
            "Fold 3, 20 epochs, 11 sec\n"
          ],
          "name": "stdout"
        },
        {
          "output_type": "display_data",
          "data": {
            "image/png": "[encoded data removed]",
            "text/plain": [
              "<Figure size 576x360 with 1 Axes>"
            ]
          },
          "metadata": {
            "tags": [],
            "needs_background": "light"
          }
        },
        {
          "output_type": "stream",
          "text": [
            "MODEL\n",
            "make_DNN\n",
            "input shape: (21, 4)\n",
            "FIT\n",
            "Epoch 1/20\n",
            "100/100 [==============================] - 2s 7ms/step - loss: 0.7412 - accuracy: 0.5055 - val_loss: 0.6995 - val_accuracy: 0.5063\n",
            "Epoch 2/20\n",
            "100/100 [==============================] - 0s 3ms/step - loss: 0.6981 - accuracy: 0.5058 - val_loss: 0.6933 - val_accuracy: 0.4812\n",
            "Epoch 3/20\n",
            "100/100 [==============================] - 0s 4ms/step - loss: 0.6913 - accuracy: 0.5286 - val_loss: 0.6930 - val_accuracy: 0.5188\n",
            "Epoch 4/20\n",
            "100/100 [==============================] - 0s 4ms/step - loss: 0.6910 - accuracy: 0.5215 - val_loss: 0.6934 - val_accuracy: 0.5175\n",
            "Epoch 5/20\n",
            "100/100 [==============================] - 0s 4ms/step - loss: 0.6890 - accuracy: 0.5503 - val_loss: 0.6938 - val_accuracy: 0.5038\n",
            "Epoch 6/20\n",
            "100/100 [==============================] - 0s 4ms/step - loss: 0.6880 - accuracy: 0.5458 - val_loss: 0.6948 - val_accuracy: 0.4975\n",
            "Epoch 7/20\n",
            "100/100 [==============================] - 0s 4ms/step - loss: 0.6888 - accuracy: 0.5277 - val_loss: 0.6989 - val_accuracy: 0.5125\n",
            "Epoch 8/20\n",
            "100/100 [==============================] - 0s 4ms/step - loss: 0.6825 - accuracy: 0.5596 - val_loss: 0.6965 - val_accuracy: 0.5050\n",
            "Epoch 9/20\n",
            "100/100 [==============================] - 0s 3ms/step - loss: 0.6845 - accuracy: 0.5441 - val_loss: 0.7013 - val_accuracy: 0.5000\n",
            "Epoch 10/20\n",
            "100/100 [==============================] - 0s 4ms/step - loss: 0.6727 - accuracy: 0.5833 - val_loss: 0.7005 - val_accuracy: 0.4700\n",
            "Epoch 11/20\n",
            "100/100 [==============================] - 0s 4ms/step - loss: 0.6752 - accuracy: 0.5752 - val_loss: 0.7037 - val_accuracy: 0.4963\n",
            "Epoch 12/20\n",
            "100/100 [==============================] - 0s 4ms/step - loss: 0.6727 - accuracy: 0.5765 - val_loss: 0.7015 - val_accuracy: 0.4938\n",
            "Epoch 13/20\n",
            "100/100 [==============================] - 0s 4ms/step - loss: 0.6703 - accuracy: 0.5810 - val_loss: 0.7067 - val_accuracy: 0.4925\n",
            "Epoch 14/20\n",
            "100/100 [==============================] - 0s 4ms/step - loss: 0.6620 - accuracy: 0.6054 - val_loss: 0.7136 - val_accuracy: 0.5188\n",
            "Epoch 15/20\n",
            "100/100 [==============================] - 0s 4ms/step - loss: 0.6562 - accuracy: 0.6001 - val_loss: 0.7111 - val_accuracy: 0.4975\n",
            "Epoch 16/20\n",
            "100/100 [==============================] - 0s 4ms/step - loss: 0.6460 - accuracy: 0.6281 - val_loss: 0.7117 - val_accuracy: 0.4812\n",
            "Epoch 17/20\n",
            "100/100 [==============================] - 0s 3ms/step - loss: 0.6511 - accuracy: 0.6084 - val_loss: 0.7186 - val_accuracy: 0.4963\n",
            "Epoch 18/20\n",
            "100/100 [==============================] - 0s 3ms/step - loss: 0.6458 - accuracy: 0.6082 - val_loss: 0.7098 - val_accuracy: 0.5038\n",
            "Epoch 19/20\n",
            "100/100 [==============================] - 0s 4ms/step - loss: 0.6403 - accuracy: 0.6418 - val_loss: 0.7232 - val_accuracy: 0.4975\n",
            "Epoch 20/20\n",
            "100/100 [==============================] - 0s 4ms/step - loss: 0.6394 - accuracy: 0.6396 - val_loss: 0.7215 - val_accuracy: 0.5113\n",
            "Fold 4, 20 epochs, 8 sec\n"
          ],
          "name": "stdout"
        },
        {
          "output_type": "display_data",
          "data": {
            "image/png": "[encoded data removed]",
            "text/plain": [
              "<Figure size 576x360 with 1 Axes>"
            ]
          },
          "metadata": {
            "tags": [],
            "needs_background": "light"
          }
        },
        {
          "output_type": "stream",
          "text": [
            "MODEL\n",
            "make_DNN\n",
            "input shape: (21, 4)\n",
            "FIT\n",
            "Epoch 1/20\n",
            "100/100 [==============================] - 2s 7ms/step - loss: 0.7302 - accuracy: 0.4924 - val_loss: 0.6931 - val_accuracy: 0.5150\n",
            "Epoch 2/20\n",
            "100/100 [==============================] - 0s 4ms/step - loss: 0.7033 - accuracy: 0.5134 - val_loss: 0.6943 - val_accuracy: 0.5238\n",
            "Epoch 3/20\n",
            "100/100 [==============================] - 0s 3ms/step - loss: 0.6902 - accuracy: 0.5354 - val_loss: 0.6935 - val_accuracy: 0.5000\n",
            "Epoch 4/20\n",
            "100/100 [==============================] - 0s 3ms/step - loss: 0.6931 - accuracy: 0.5219 - val_loss: 0.6936 - val_accuracy: 0.5050\n",
            "Epoch 5/20\n",
            "100/100 [==============================] - 0s 4ms/step - loss: 0.6900 - accuracy: 0.5277 - val_loss: 0.7023 - val_accuracy: 0.4775\n",
            "Epoch 6/20\n",
            "100/100 [==============================] - 0s 4ms/step - loss: 0.6873 - accuracy: 0.5318 - val_loss: 0.6977 - val_accuracy: 0.4975\n",
            "Epoch 7/20\n",
            "100/100 [==============================] - 0s 4ms/step - loss: 0.6827 - accuracy: 0.5582 - val_loss: 0.7112 - val_accuracy: 0.4725\n",
            "Epoch 8/20\n",
            "100/100 [==============================] - 0s 4ms/step - loss: 0.6831 - accuracy: 0.5476 - val_loss: 0.7030 - val_accuracy: 0.4663\n",
            "Epoch 9/20\n",
            "100/100 [==============================] - 0s 4ms/step - loss: 0.6688 - accuracy: 0.5920 - val_loss: 0.7048 - val_accuracy: 0.4900\n",
            "Epoch 10/20\n",
            "100/100 [==============================] - 0s 4ms/step - loss: 0.6778 - accuracy: 0.5824 - val_loss: 0.7117 - val_accuracy: 0.4675\n",
            "Epoch 11/20\n",
            "100/100 [==============================] - 0s 4ms/step - loss: 0.6696 - accuracy: 0.5859 - val_loss: 0.7089 - val_accuracy: 0.4837\n",
            "Epoch 12/20\n",
            "100/100 [==============================] - 0s 3ms/step - loss: 0.6677 - accuracy: 0.5850 - val_loss: 0.7134 - val_accuracy: 0.4888\n",
            "Epoch 13/20\n",
            "100/100 [==============================] - 0s 4ms/step - loss: 0.6611 - accuracy: 0.6153 - val_loss: 0.7261 - val_accuracy: 0.4812\n",
            "Epoch 14/20\n",
            "100/100 [==============================] - 0s 4ms/step - loss: 0.6609 - accuracy: 0.6061 - val_loss: 0.7133 - val_accuracy: 0.4762\n",
            "Epoch 15/20\n",
            "100/100 [==============================] - 0s 4ms/step - loss: 0.6538 - accuracy: 0.6205 - val_loss: 0.7286 - val_accuracy: 0.4837\n",
            "Epoch 16/20\n",
            "100/100 [==============================] - 0s 4ms/step - loss: 0.6451 - accuracy: 0.6307 - val_loss: 0.7302 - val_accuracy: 0.4938\n",
            "Epoch 17/20\n",
            "100/100 [==============================] - 0s 4ms/step - loss: 0.6355 - accuracy: 0.6388 - val_loss: 0.7326 - val_accuracy: 0.4988\n",
            "Epoch 18/20\n",
            "100/100 [==============================] - 0s 4ms/step - loss: 0.6398 - accuracy: 0.6358 - val_loss: 0.7351 - val_accuracy: 0.4875\n",
            "Epoch 19/20\n",
            "100/100 [==============================] - 0s 4ms/step - loss: 0.6189 - accuracy: 0.6670 - val_loss: 0.7567 - val_accuracy: 0.4888\n",
            "Epoch 20/20\n",
            "100/100 [==============================] - 0s 3ms/step - loss: 0.6237 - accuracy: 0.6495 - val_loss: 0.7493 - val_accuracy: 0.4863\n",
            "Fold 5, 20 epochs, 11 sec\n"
          ],
          "name": "stdout"
        },
        {
          "output_type": "display_data",
          "data": {
            "image/png": "[encoded data removed]",
            "text/plain": [
              "<Figure size 576x360 with 1 Axes>"
            ]
          },
          "metadata": {
            "tags": [],
            "needs_background": "light"
          }
        }
      ]
    },
    {
      "cell_type": "code",
      "metadata": {
        "colab": {
          "base_uri": "https://localhost:8080/"
        },
        "id": "e-jG1h5fj2Ua",
        "outputId": "8f5d5e03-e766-4d7e-ca9e-3e34edfdf3c0"
      },
      "source": [
        "from keras.models import load_model\n",
        "X,y = prepare_inputs_len_x_alphabet(pc_test,nc_test,ALPHABET)\n",
        "best_model=load_model(MODELPATH)\n",
        "scores = best_model.evaluate(X, y, verbose=0)\n",
        "print(\"The best model parameters were saved during cross-validation.\")\n",
        "print(\"Best was defined as maximum validation accuracy at end of any epoch.\")\n",
        "print(\"Now re-load the best model and test it on previously unseen data.\")\n",
        "print(\"Test on\",len(pc_test),\"PC seqs\")\n",
        "print(\"Test on\",len(nc_test),\"NC seqs\")\n",
        "print(\"%s: %.2f%%\" % (best_model.metrics_names[1], scores[1]*100))\n"
      ],
      "execution_count": 13,
      "outputs": [
        {
          "output_type": "stream",
          "text": [
            "The best model parameters were saved during cross-validation.\n",
            "Best was defined as maximum validation accuracy at end of any epoch.\n",
            "Now re-load the best model and test it on previously unseen data.\n",
            "Test on 1000 PC seqs\n",
            "Test on 1000 NC seqs\n",
            "accuracy: 49.90%\n"
          ],
          "name": "stdout"
        }
      ]
    },
    {
      "cell_type": "code",
      "metadata": {
        "colab": {
          "base_uri": "https://localhost:8080/",
          "height": 312
        },
        "id": "VycUnmvUj2Ue",
        "outputId": "2de1fc37-64a6-4ab4-f8f0-2a3ddd4e2d5e"
      },
      "source": [
        "from sklearn.metrics import roc_curve\n",
        "from sklearn.metrics import roc_auc_score\n",
        "ns_probs = [0 for _ in range(len(y))]\n",
        "bm_probs = best_model.predict(X)\n",
        "ns_auc = roc_auc_score(y, ns_probs)\n",
        "bm_auc = roc_auc_score(y, bm_probs)\n",
        "ns_fpr, ns_tpr, _ = roc_curve(y, ns_probs)\n",
        "bm_fpr, bm_tpr, _ = roc_curve(y, bm_probs)\n",
        "plt.plot(ns_fpr, ns_tpr, linestyle='--', label='Guess, auc=%.4f'%ns_auc)\n",
        "plt.plot(bm_fpr, bm_tpr, marker='.', label='Model, auc=%.4f'%bm_auc)\n",
        "plt.title('ROC')\n",
        "plt.xlabel('False Positive Rate')\n",
        "plt.ylabel('True Positive Rate')\n",
        "plt.legend()\n",
        "plt.show()\n",
        "print(\"%s: %.2f%%\" %('AUC',bm_auc*100.0))\n"
      ],
      "execution_count": 14,
      "outputs": [
        {
          "output_type": "display_data",
          "data": {
            "image/png": "[encoded data removed]",
            "text/plain": [
              "<Figure size 432x288 with 1 Axes>"
            ]
          },
          "metadata": {
            "tags": [],
            "needs_background": "light"
          }
        },
        {
          "output_type": "stream",
          "text": [
            "AUC: 49.57%\n"
          ],
          "name": "stdout"
        }
      ]
    },
    {
      "cell_type": "code",
      "metadata": {
        "colab": {
          "base_uri": "https://localhost:8080/",
          "height": 36
        },
        "id": "kFMb6rGNj2Ug",
        "outputId": "d97cb67a-5d65-4b7c-d62a-24168c5a90e0"
      },
      "source": [
        "t = time.time()\n",
        "time.strftime('%Y-%m-%d %H:%M:%S %Z', time.localtime(t))"
      ],
      "execution_count": 15,
      "outputs": [
        {
          "output_type": "execute_result",
          "data": {
            "application/vnd.google.colaboratory.intrinsic+json": {
              "type": "string"
            },
            "text/plain": [
              "'2021-06-10 20:26:56 UTC'"
            ]
          },
          "metadata": {
            "tags": []
          },
          "execution_count": 15
        }
      ]
    },
    {
      "cell_type": "markdown",
      "metadata": {
        "id": "XWoJxmbamWwF"
      },
      "source": [
        "## Conclusion\n",
        "Experiment 107 is validated again."
      ]
    },
    {
      "cell_type": "code",
      "metadata": {
        "id": "e1AG0pWQmWwH"
      },
      "source": [
        ""
      ],
      "execution_count": 15,
      "outputs": []
    }
  ]
}