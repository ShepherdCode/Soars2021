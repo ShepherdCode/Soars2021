{
 "cells": [
  {
   "cell_type": "markdown",
   "metadata": {
    "id": "ojm_6E9f9Kcf"
   },
   "source": [
    "# ORF MLP  \n",
    "Address the problem that we're seeing no learning in MLP by Kmer freq.  \n",
    "Test with trivial case: PC has A and C only, NC has G and T only.  \n",
    "Fix bug in way that KmerTools was called: \n",
    "must re-initialize the counter for each new sequence. Duh.  "
   ]
  },
  {
   "cell_type": "code",
   "execution_count": 1,
   "metadata": {
    "colab": {
     "base_uri": "https://localhost:8080/"
    },
    "id": "RmPF4h_YI_sT",
    "outputId": "2c427931-c1aa-4101-cef2-847c69d1384e"
   },
   "outputs": [
    {
     "name": "stdout",
     "output_type": "stream",
     "text": [
      "2021-07-25 16:33:49 EDT\n"
     ]
    }
   ],
   "source": [
    "import time\n",
    "def show_time():\n",
    "    t = time.time()\n",
    "    print(time.strftime('%Y-%m-%d %H:%M:%S %Z', time.localtime(t)))\n",
    "show_time()"
   ]
  },
  {
   "cell_type": "code",
   "execution_count": 2,
   "metadata": {
    "id": "NEbXt5N4I_sc"
   },
   "outputs": [],
   "source": [
    "PC_TRAINS=8000\n",
    "NC_TRAINS=8000\n",
    "PC_TESTS=8000\n",
    "NC_TESTS=8000   \n",
    "RNA_LEN=1000  \n",
    "MAX_K = 3 \n",
    "INPUT_SHAPE=(None,84)  # 4^3 + 4^2 + 4^1\n",
    "NEURONS=128\n",
    "DROP_RATE=0.01\n",
    "EPOCHS=10 # 1000 # 200\n",
    "SPLITS=5\n",
    "FOLDS=1   # make this 5 for serious testing"
   ]
  },
  {
   "cell_type": "code",
   "execution_count": 3,
   "metadata": {
    "id": "VQY7aTj29Kch"
   },
   "outputs": [],
   "source": [
    "import numpy as np\n",
    "import pandas as pd\n",
    "import matplotlib.pyplot as plt\n",
    "from sklearn.utils import shuffle\n",
    "from sklearn.model_selection import KFold\n",
    "from sklearn.model_selection import cross_val_score\n",
    "from sklearn.metrics import roc_curve\n",
    "from sklearn.metrics import roc_auc_score\n",
    "\n",
    "from keras.models import Sequential\n",
    "from keras.layers import Dense,Embedding,Dropout\n",
    "from keras.layers import Flatten,TimeDistributed\n",
    "from keras.losses import BinaryCrossentropy\n",
    "from keras.callbacks import ModelCheckpoint\n",
    "from keras.models import load_model"
   ]
  },
  {
   "cell_type": "code",
   "execution_count": 4,
   "metadata": {
    "colab": {
     "base_uri": "https://localhost:8080/"
    },
    "id": "xUxEB53HI_sk",
    "outputId": "2daf7679-5e1a-435c-91c3-eca3e6b172e1"
   },
   "outputs": [
    {
     "name": "stdout",
     "output_type": "stream",
     "text": [
      "CoLab not working. On my PC, use relative paths.\n"
     ]
    }
   ],
   "source": [
    "import sys\n",
    "IN_COLAB = False\n",
    "try:\n",
    "    from google.colab import drive\n",
    "    IN_COLAB = True\n",
    "except:\n",
    "    pass\n",
    "if IN_COLAB:\n",
    "    print(\"On Google CoLab, mount cloud-local file, get our code from GitHub.\")\n",
    "    PATH='/content/drive/'\n",
    "    #drive.mount(PATH,force_remount=True)  # hardly ever need this\n",
    "    drive.mount(PATH)    # Google will require login credentials\n",
    "    DATAPATH=PATH+'My Drive/data/'  # must end in \"/\"\n",
    "    import requests\n",
    "    r = requests.get('https://raw.githubusercontent.com/ShepherdCode/Soars2021/master/SimTools/RNA_describe.py')\n",
    "    with open('RNA_describe.py', 'w') as f:\n",
    "        f.write(r.text)  \n",
    "    from RNA_describe import ORF_counter\n",
    "    r = requests.get('https://raw.githubusercontent.com/ShepherdCode/Soars2021/master/SimTools/RNA_gen.py')\n",
    "    with open('RNA_gen.py', 'w') as f:\n",
    "        f.write(r.text)  \n",
    "    from RNA_gen import Collection_Generator, Transcript_Oracle\n",
    "    r = requests.get('https://raw.githubusercontent.com/ShepherdCode/Soars2021/master/SimTools/KmerTools.py')\n",
    "    with open('KmerTools.py', 'w') as f:\n",
    "        f.write(r.text)  \n",
    "    from KmerTools import KmerTools\n",
    "else:\n",
    "        print(\"CoLab not working. On my PC, use relative paths.\")\n",
    "        DATAPATH='data/'  # must end in \"/\"\n",
    "        sys.path.append(\"..\") # append parent dir in order to use sibling dirs\n",
    "        from SimTools.RNA_describe import ORF_counter\n",
    "        from SimTools.RNA_gen import Collection_Generator, Transcript_Oracle\n",
    "        from SimTools.KmerTools import KmerTools\n",
    "BESTMODELPATH=DATAPATH+\"BestModel\"  # saved on cloud instance and lost after logout\n",
    "LASTMODELPATH=DATAPATH+\"LastModel\"  # saved on Google Drive but requires login"
   ]
  },
  {
   "cell_type": "markdown",
   "metadata": {
    "id": "8buAhZRfI_sp"
   },
   "source": [
    "## Data Load\n"
   ]
  },
  {
   "cell_type": "code",
   "execution_count": 5,
   "metadata": {
    "colab": {
     "base_uri": "https://localhost:8080/"
    },
    "id": "821EDJ1gg1zj",
    "outputId": "8ab1803d-79d0-448b-98d0-75ed07bf15da"
   },
   "outputs": [
    {
     "name": "stdout",
     "output_type": "stream",
     "text": [
      "2021-07-25 16:34:02 EDT\n",
      "Generated 16000 PC seqs\n",
      "Generated 16000 NC seqs\n"
     ]
    }
   ],
   "source": [
    "show_time()\n",
    "def make_generators(seq_len):\n",
    "    pcgen = Collection_Generator()  \n",
    "    pcgen.get_len_oracle().set_mean(seq_len)\n",
    "    pcgen.get_seq_oracle().set_sequences(['A','AC','CA','C'])\n",
    "    ncgen = Collection_Generator()  \n",
    "    ncgen.get_len_oracle().set_mean(seq_len)\n",
    "    ncgen.get_seq_oracle().set_sequences(['G','GT','TG','T'])\n",
    "    return pcgen,ncgen\n",
    "\n",
    "pc_sim,nc_sim = make_generators(RNA_LEN)\n",
    "pc_all = pc_sim.get_sequences(PC_TRAINS+PC_TESTS)\n",
    "nc_all = nc_sim.get_sequences(NC_TRAINS+NC_TESTS)\n",
    "print(\"Generated\",len(pc_all),\"PC seqs\")\n",
    "print(\"Generated\",len(nc_all),\"NC seqs\")"
   ]
  },
  {
   "cell_type": "code",
   "execution_count": 6,
   "metadata": {
    "colab": {
     "base_uri": "https://localhost:8080/"
    },
    "id": "aJBMFn1jhIB2",
    "outputId": "ecef2d76-d42a-4f3c-b2f4-07a4db459988"
   },
   "outputs": [
    {
     "name": "stdout",
     "output_type": "stream",
     "text": [
      "Simulated sequences prior to adjustment:\n",
      "PC seqs\n",
      "Average RNA length: 1499.9001875\n",
      "Average ORF length: 0.0\n",
      "NC seqs\n",
      "Average RNA length: 1500.155625\n",
      "Average ORF length: 0.0\n",
      "2021-07-25 16:34:34 EDT\n"
     ]
    }
   ],
   "source": [
    "# Describe the sequences\n",
    "def describe_sequences(list_of_seq):\n",
    "    oc = ORF_counter()\n",
    "    num_seq = len(list_of_seq)\n",
    "    rna_lens = np.zeros(num_seq)\n",
    "    orf_lens = np.zeros(num_seq)\n",
    "    for i in range(0,num_seq):\n",
    "        rna_len = len(list_of_seq[i])\n",
    "        rna_lens[i] = rna_len\n",
    "        oc.set_sequence(list_of_seq[i])\n",
    "        orf_len = oc.get_max_orf_len()\n",
    "        orf_lens[i] = orf_len\n",
    "    print (\"Average RNA length:\",rna_lens.mean())\n",
    "    print (\"Average ORF length:\",orf_lens.mean())\n",
    "    \n",
    "print(\"Simulated sequences prior to adjustment:\")\n",
    "print(\"PC seqs\")\n",
    "describe_sequences(pc_all)\n",
    "print(\"NC seqs\")\n",
    "describe_sequences(nc_all)\n",
    "show_time()"
   ]
  },
  {
   "cell_type": "markdown",
   "metadata": {
    "id": "CCNh_FZaI_sv"
   },
   "source": [
    "## Data Prep"
   ]
  },
  {
   "cell_type": "code",
   "execution_count": 7,
   "metadata": {
    "colab": {
     "base_uri": "https://localhost:8080/"
    },
    "id": "V91rP2osI_s1",
    "outputId": "4a3b3d83-e74e-45b0-84b7-157a27fa3a64"
   },
   "outputs": [
    {
     "name": "stdout",
     "output_type": "stream",
     "text": [
      "PC train, NC train: 8000 8000\n",
      "PC test, NC test: 8000 8000\n",
      "First PC train ACACCAAAAACACACAACACAACACACAAACCCACCACCACCCAAACACCAACACCACCAACCAACACACCAACCACCACCAACAACACACACCACACACACACAACCCACACACACACACACAACAAACCCACAACCCACACCAAACCAAACACCAACAACACAACCAACACAACACACAACACACAACACACACCCAACACCACAACACAAACACACCCAAACAACACCACCAACCACACCAACACCACACAACACACCACCACACCACAACCAACAAACACCAACAAAACCCCCACCACAACCACCCAAACAACAAACACACACCACCCAACACAACCACACCCACACCCAACCACACAACCACAACCCACAACCACACCACACACCACACAACACACCACACACACACCACAAACACAACCACCACAACAACACCACACACACACACCACCAACACAAACCACAACCAACACCAACCACACAACACAAAAACCCACACCAACCACCACACAAAAAAAACACCACCACACAAACCACAACACAAAACCACACACCACCACCACAACCACAACAACCAACACCAAACAACCACCCCACAAAACAACACAACCACAACCACAACCCAACCCACAACACACACACACAACCCACCACACACACAACAACACCAACACACACCCCACCACCAACACCCACACCCAACCAACACACAACAACACACACACAACCACAAACACACCCAACCACACACCACCACCACAACCACACCCCACAACCACCAACACACCCACCACAACACACAACACACCAAACACACCAACACCCCACCAACACCACCCACAACCAACAAAACCACACCACAACACCAACAACCACACACAACCACACCCACAACACCACACACCAACACACCAACAACCAACCAACACAACAAACAACCAAACCACAACAAACCAACACACACCACACCAACCACCCACAACCAACACACACACACCACACCACACCACACACACAAACACCCCAACACACCACAACAAACACACCACAACACCACACCCAACCACAACCCCCACACACCAACACACACCCAACCCACAACACAAAACCAAAACCCCAACCCACAACACACCCACCACAAACCAACCCAACCCACAAACCACAACCACCAAACAACACCCAACAACAACCAACAACACACAACACAACACCCACCCCACAACCAAACCAACAACACCAACACACAACACACCAACCACACAACCACAACCCCACACACACCAACAACCACACACAACACACAACCCACACACCCAACCACCAACACAACACAACACCACCAACAACCCACAACCAACACCAACAAAACACCAACACCAAAACAACAAACACACAACACACCAACACCCAACACACCACACCAACACACCCAACCACCAACCCAACAAACACACCAAACACCACACAACCAACCAACACACAAACCCACACCAACCACACACAACACACCCAACAACACCAA\n",
      "First PC test CAACACCAAACAACCACACAACACCAACACACACCAACCAAACCAAAACCAACACCCAAAACCACCCACCCACACAACAACACCAACAACCACCACACCACAACCACACCACCACCACACACCCAACCAACAACCAAACACCACACCCACACCACAACCACACACCACACCAACACCACCAACAACAACCACACCAACACCAACCACACAACACACAACAACCAAACCAACAACCACCAACCAACACACAACCACCAAACCACAAACCACAACAACACCAACCACCAACAACACACACCACACACACAACCACACAACCAACACCACCAACACAACCAACCACACCACACCACAACACACACACCACACACCCCCACCACACCACACAAACAACACAAAACACACACCCACAACACAACCAACCAACCCACACACCACCCACAACAACACACACACCACAAAAACACACCAAACACAACAACACACCAACACACAACACACCACCACAACCCACCCCCCACCAACCACCCAAACACAAACACACAAAAACACACAACACACCAACCAACAAAACACAAACACAACCACCAAACACAACACACCAACAACACACCACCAACCACACAACCACACACCACCAAACCACAAACCACCAACACACAACACCAACACCCAACACCAAACACAACAAAACACACACACCACCAACCACCAAAACACACACCCCAACCAAACACCAACCACAAAAAACACACCAACACCACACCCAACACAACACCCACAACAACACACCAACCCCAACCACACACCACACCACAACCACCCAAACACAACCAACCCAACAACCACAAACAACACCAAAACACAAACACACCACAACCACACACACAACACAAACACCCACAACAACACACCCCAACACAACCCAACACAACCAACCCCAAACCACAACCAAACACCAACACACCACCCACACCCCCACACCACACACACACCCCAAACCACAACAACACAACCCCACACACACACCACACAACACACCAACAACAAACCAACACAACCACACCCAACACCAACACAACACCCAACACACAACAACACAACCAAACAACAAACACCACCAACAACAACCAACAACAACCACCCCACAACCAACACAACACACACCACACACCAAACCACACCAAACCACACACAACAACCAACCACACAACCCAACACACACCACACAACACACAACACCAAAACAACCACACAACAAAACCACAACACAACACAAACCACCACAACACCACACCACCACCACCACACCCACACACCACAACACCACCAAACACCAAACACCCACACCAAACCACCACACACACCAACACCACACCACCAACAACCCACACCAACCACCAAACCCACACACCAACACAACCACACACAACACCACACAACCACCACCCAAAACAACCCACACCAACACACACCAACACC\n"
     ]
    }
   ],
   "source": [
    "# Any portion of a shuffled list is a random selection\n",
    "pc_train=pc_all[:PC_TRAINS] \n",
    "nc_train=nc_all[:NC_TRAINS]\n",
    "pc_test=pc_all[PC_TRAINS:PC_TRAINS+PC_TESTS] \n",
    "nc_test=nc_all[NC_TRAINS:NC_TRAINS+PC_TESTS]\n",
    "print(\"PC train, NC train:\",len(pc_train),len(nc_train))\n",
    "print(\"PC test, NC test:\",len(pc_test),len(nc_test))\n",
    "# Garbage collection\n",
    "pc_all=None\n",
    "nc_all=None\n",
    "print(\"First PC train\",pc_train[0])\n",
    "print(\"First PC test\",pc_test[0])"
   ]
  },
  {
   "cell_type": "code",
   "execution_count": 8,
   "metadata": {
    "colab": {
     "base_uri": "https://localhost:8080/"
    },
    "id": "FfyPeInGI_s4",
    "outputId": "47d999fd-c58f-444b-f3c0-ea529b85ec15"
   },
   "outputs": [
    {
     "name": "stdout",
     "output_type": "stream",
     "text": [
      "['TGTTTGTTGTTGTGTGTTGTGTGGTTGGGTTGTGGTTGTGGGTTGTGTGTGGGTTGGTGGGTGTTGGGGGTTGGTGTGTTGTGGTGTTGTTGTTGTGTGTTGGGTGTTGGTGTGTGTGTGTGGTTGGTTTTGTGTGTTGTGTTGGTTGTGGTTTGTTTGGGTTGGTGTTGTTGTGGTGGTGTGGGGTGTTGTGTTTGTGGGGTTGTTGTGGGGTGGTGTGGTGTTGGTGGTGTTGTGTGTTGGGTTTGGTTGTGTTGTGTGTTGTTGGGTTGTGGTGTTGTGTTGTTGTGGTGGTGTTGTTGGTGTGTGTGGGGTGGTGTTTGTGTTTGTGGTGGGTGTTTGTTTGTGTGTGGTTGGGTGTGGGTGTGGTGTGGTGTTGTGTGGTGTGTGTTGGGTGTTGGTGTGTGGGTGTGTTTTTGTTGGTGTGGTGGTTGGTTGTGTTGGTGTGGTTGTTTGGTTTTGTTGTGGTGTGGGTGTGTGTGGTTGTGGTTGTTGTGGGGTGTGGTGGTGTGTGTTGTGTGTTGTGTTTTGGTTTTTGTTGGTTGGTGTTGGTGGTGTTGTTGGGTTGTGTGTGTGTGGTGGTGTGGTGTGTGGTTGTGTTTGTTGTGGGGTTGTTGGTGTGTTGGGTGTGTGTGTGTTGTTGGGGTGTTGGTTGTTGTGGGTTGGTGGGTGTGTGTGTGTGGGGGGGGTGGTGGTGGTGTGTGGTGTTGGTTGTTTGTGTGGGGTGGGTGTGTGTGTTGGGTGGTTGGGTTGTGGGTGTGGGTGTTGTGTTTGTGTGTGTGGTTGGTGTTGGTGGGTTGTGTGTGTGTGTTTGGGGGTGGTGTGGTGTGTTGGTGGTGTTGTGGTGGTTGTTGGTGTTTTGGGTTTGGTGTGGTGGGTGTTGTGTTGTTGTGTGTGTTTGTGTGGGTTGTGGTGGTGGTGTTGGGTGTGTTTGTTGGTGGGTTGGTGGTTGTGTGGTGTTGTGGGTGTTTTGTGTGTTGGTGTTGTGTGGTGTGTGTTGGTGGTTTGTGGTGGGTTTGTTTGTGGTGGTGTGTTTGGGGTTGTGGGTTTTGGTGTGTGGTTGTTGGGTGTGTTTTGGGGTTGTGTGTTGTGTTGGTTGTGTTGGGTGGGGTGTTGGTGGTGTTGTTTGTGTGGTTTGGGTTTGTGTGTGTGGTGGGTGTTGTTTTGTGTGTTGTGGGTTTGGGTGTTGGTTGGTTGTGGTTTGTGTGTGGTTGGTTGGTTGTTGTGTGTTGTGGTGGTGTGTGTGTTTGGTTGGTGGTGGGGTGGGTGTTGGGTGGTGGTGTTGTGTGTTGGGTTGTGTTGTGGTTTGTGTGGGGTGTGTTGGTGTGGGTGTGTGTGTGGTTGTTGTTGTTTGTGTGTTTGTGGTTGGTGGTGTTGTGTGTGTGTGTGTGGGTTGTGGGTGTGGTGTGTGTTTGTTTGGTGTTGGTTGGTGTGGTGGTTGTGGTGTGTGGTTGTTGTGTTGGGTGTGTTGTGGTGGGGTGTGGTTGGTGTTGTGTG'\n",
      " 'ACACCAAAAACACACAACACAACACACAAACCCACCACCACCCAAACACCAACACCACCAACCAACACACCAACCACCACCAACAACACACACCACACACACACAACCCACACACACACACACAACAAACCCACAACCCACACCAAACCAAACACCAACAACACAACCAACACAACACACAACACACAACACACACCCAACACCACAACACAAACACACCCAAACAACACCACCAACCACACCAACACCACACAACACACCACCACACCACAACCAACAAACACCAACAAAACCCCCACCACAACCACCCAAACAACAAACACACACCACCCAACACAACCACACCCACACCCAACCACACAACCACAACCCACAACCACACCACACACCACACAACACACCACACACACACCACAAACACAACCACCACAACAACACCACACACACACACCACCAACACAAACCACAACCAACACCAACCACACAACACAAAAACCCACACCAACCACCACACAAAAAAAACACCACCACACAAACCACAACACAAAACCACACACCACCACCACAACCACAACAACCAACACCAAACAACCACCCCACAAAACAACACAACCACAACCACAACCCAACCCACAACACACACACACAACCCACCACACACACAACAACACCAACACACACCCCACCACCAACACCCACACCCAACCAACACACAACAACACACACACAACCACAAACACACCCAACCACACACCACCACCACAACCACACCCCACAACCACCAACACACCCACCACAACACACAACACACCAAACACACCAACACCCCACCAACACCACCCACAACCAACAAAACCACACCACAACACCAACAACCACACACAACCACACCCACAACACCACACACCAACACACCAACAACCAACCAACACAACAAACAACCAAACCACAACAAACCAACACACACCACACCAACCACCCACAACCAACACACACACACCACACCACACCACACACACAAACACCCCAACACACCACAACAAACACACCACAACACCACACCCAACCACAACCCCCACACACCAACACACACCCAACCCACAACACAAAACCAAAACCCCAACCCACAACACACCCACCACAAACCAACCCAACCCACAAACCACAACCACCAAACAACACCCAACAACAACCAACAACACACAACACAACACCCACCCCACAACCAAACCAACAACACCAACACACAACACACCAACCACACAACCACAACCCCACACACACCAACAACCACACACAACACACAACCCACACACCCAACCACCAACACAACACAACACCACCAACAACCCACAACCAACACCAACAAAACACCAACACCAAAACAACAAACACACAACACACCAACACCCAACACACCACACCAACACACCCAACCACCAACCCAACAAACACACCAAACACCACACAACCAACCAACACACAAACCCACACCAACCACACACAACACACCCAACAACACCAA'\n",
      " 'GTGTGTGTGTGGTGTGTGTGGTTTGGTGTGTGTTGGTTGTTGTTTGGTTTGGTGTGGGTGTGTTGTGTTTGGTGTTGTGTTGGTTGGTGTTGTGGTTGTTTGTGGTTTGGTTGGTGTGGGTTGGTGTTTGGTGTTGTGTGTTGGGTGGGTGTGTTGGGGTTGTGTTGGGTTTGTTGTTTGGTTGTGGTGTGGTTGGTTGTTTGGTTTGGTGTTGGTGGTGTGGGTGTGTTTGGTGGTTTGTTTGGTTGTGTTGGTGTTTTTTTTGTGTTGTTTTGTTGGTTGTTGTGTTTGTTGTTGGTTGTGGTGGTGGTTTGTTTTTGGTGGTGTGTGGTGGTGTGTTGTGTGTTGTTGGTTGTGGTTGTTGTGTTGGTGTTGTGTGTGTGTGTGTGTTGGTGTTGGGGGTGTGTTGTTGGTTGGTTGGTGGTGTGTGGTGTTGGTTTGGTGTGTTGGGTTGTTGTGGTGGTTTGGGTTGTGGTGGTTGTGTGGTGTTTTTGTGTGTGTGTTTTGGTGTGTGTGGGTTGTGTGTGTTGGTGGTGGTGTGGTTGGTGGTTGGTGTGTTGGGGTTGGTGTGTGGTTGGTTTTGGTGTGGTGTGTTGGTTGTGTGTGTTGTTTGGGTGTTGTGTGTGGGGGGTGTGTTGTGGTGTTTGGTTGTTTTGTTTTTGGGTTGTTGGTTGTGGTGTGTTGTGGTTGTGGGTTGTTGTGGTGTGTGGGTTGTGTGGTGGTGTGGTTTGTTGTTTGGTTGGTGTTTGGTTGGTTGGTGTGTGGGTGTGTGTGTGGTTGTTGTTGGTGGTTTGTTTGGTGGTGTTGTGTGTGTTTTGTGTGTGTGTGTGTTGTTTGTTGGTTGTTGTGTTGGGTGGTGGTGGTTGGGTGTGTGTGTGGTGTTGTTTTGTTGGGTTGTTGTGTGGTGTTGGTGTGTGTGTGTTGTGTGGTGTGTGGGTGTGTTGTTGTGGTTGTGGTGTTTTTGTGGGGGGTTGTGTGTTGGTGGTTTGTGTGGTGGTGTGTTGTGGTTGGTTGGGTTGGGTGTGTTTGTGTGGTTGGTGGTTTGTGTTGGTTGTTGGTTGTTGGTTGTTGGTGTGTTGGTGTTGGTGTGTGTGTTGTGTTGGTGTTTTGTGTTGGTTGGTGTTGGTTGTGGGGGTGTGTGTGTTGTGGTGTGGTGTGTTGGTTTGGGGTGTGGTGTTTTGTGTGGGTGGGTGTGGTTGTGGGGTTGGGTGTGGTTGTTGTTGTGTGTGTTGGTGTGTTGGTTTGGTTTGTTTTGGTTGTGTGTTTGGGTTGTTTGGTTGTGTTTTTTGTGTGGGTGTTGGTGTGTGTTGGGGGTGTGGTTGTTTTGTGGTTGTGGTGTGGGGTGTTGGTGTTGGTGTGTGTGGTTTGGTGTGTGTGGGTGGTGTGGGTGTGTGTTGTTTGGTGTGTGTTGTGTTGGTGTTGGGTTGTGTTTGGTGTTGGTTGTGGGGGTGGTTGTGTTGTGTGTGGGTGTGTGGTGGTTGGTTGGTGTTTGTGGTTGGGTGTGTGGGGTGT']\n",
      "[0 1 0]\n",
      "2021-07-25 16:34:34 EDT\n"
     ]
    }
   ],
   "source": [
    "def prepare_x_and_y(seqs1,seqs0):\n",
    "    len1=len(seqs1)\n",
    "    len0=len(seqs0)\n",
    "    total=len1+len0\n",
    "    L1=np.ones(len1,dtype=np.int8)\n",
    "    L0=np.zeros(len0,dtype=np.int8)\n",
    "    S1 = np.asarray(seqs1)\n",
    "    S0 = np.asarray(seqs0)\n",
    "    all_labels = np.concatenate((L1,L0))\n",
    "    all_seqs = np.concatenate((S1,S0))  \n",
    "    for i in range(0,len0):\n",
    "        all_labels[i*2] = L0[i]\n",
    "        all_seqs[i*2] = S0[i]\n",
    "        all_labels[i*2+1] = L1[i]\n",
    "        all_seqs[i*2+1] = S1[i]\n",
    "    return all_seqs,all_labels  # use this to test unshuffled\n",
    "    # bug in next line?\n",
    "    X,y = shuffle(all_seqs,all_labels) # sklearn.utils.shuffle \n",
    "    #Doesn't fix it\n",
    "    #X = shuffle(all_seqs,random_state=3) # sklearn.utils.shuffle \n",
    "    #y = shuffle(all_labels,random_state=3) # sklearn.utils.shuffle \n",
    "    return X,y\n",
    "Xseq,y=prepare_x_and_y(pc_train,nc_train)\n",
    "print(Xseq[:3])\n",
    "print(y[:3])\n",
    "# Tests:\n",
    "show_time()"
   ]
  },
  {
   "cell_type": "code",
   "execution_count": 9,
   "metadata": {
    "colab": {
     "base_uri": "https://localhost:8080/"
    },
    "id": "LWLixZOfI_s7",
    "outputId": "30ea7530-b5b3-4861-d4d8-8abeb1f86682"
   },
   "outputs": [
    {
     "name": "stdout",
     "output_type": "stream",
     "text": [
      "{'A': 0.0, 'C': 0.0, 'G': 0.511690046760187, 'T': 0.48830995323981297, 'AA': 0.0, 'AC': 0.0, 'AG': 0.0, 'AT': 0.0, 'CA': 0.0, 'CC': 0.0, 'CG': 0.0, 'CT': 0.0, 'GA': 0.0, 'GC': 0.0, 'GG': 0.17981283422459893, 'GT': 0.3315508021390374, 'TA': 0.0, 'TC': 0.0, 'TG': 0.3322192513368984, 'TT': 0.15641711229946523, 'AAA': 0.0, 'AAC': 0.0, 'AAG': 0.0, 'AAT': 0.0, 'ACA': 0.0, 'ACC': 0.0, 'ACG': 0.0, 'ACT': 0.0, 'AGA': 0.0, 'AGC': 0.0, 'AGG': 0.0, 'AGT': 0.0, 'ATA': 0.0, 'ATC': 0.0, 'ATG': 0.0, 'ATT': 0.0, 'CAA': 0.0, 'CAC': 0.0, 'CAG': 0.0, 'CAT': 0.0, 'CCA': 0.0, 'CCC': 0.0, 'CCG': 0.0, 'CCT': 0.0, 'CGA': 0.0, 'CGC': 0.0, 'CGG': 0.0, 'CGT': 0.0, 'CTA': 0.0, 'CTC': 0.0, 'CTG': 0.0, 'CTT': 0.0, 'GAA': 0.0, 'GAC': 0.0, 'GAG': 0.0, 'GAT': 0.0, 'GCA': 0.0, 'GCC': 0.0, 'GCG': 0.0, 'GCT': 0.0, 'GGA': 0.0, 'GGC': 0.0, 'GGG': 0.056856187290969896, 'GGT': 0.12307692307692308, 'GTA': 0.0, 'GTC': 0.0, 'GTG': 0.21137123745819397, 'GTT': 0.12040133779264214, 'TAA': 0.0, 'TAC': 0.0, 'TAG': 0.0, 'TAT': 0.0, 'TCA': 0.0, 'TCC': 0.0, 'TCG': 0.0, 'TCT': 0.0, 'TGA': 0.0, 'TGC': 0.0, 'TGG': 0.12307692307692308, 'TGT': 0.20869565217391303, 'TTA': 0.0, 'TTC': 0.0, 'TTG': 0.12040133779264214, 'TTT': 0.036120401337792644}\n",
      "{'A': 0.49901639344262294, 'C': 0.5009836065573771, 'G': 0.0, 'T': 0.0, 'AA': 0.16404199475065617, 'AC': 0.3346456692913386, 'AG': 0.0, 'AT': 0.0, 'CA': 0.3346456692913386, 'CC': 0.16666666666666666, 'CG': 0.0, 'CT': 0.0, 'GA': 0.0, 'GC': 0.0, 'GG': 0.0, 'GT': 0.0, 'TA': 0.0, 'TC': 0.0, 'TG': 0.0, 'TT': 0.0, 'AAA': 0.03742613263296126, 'AAC': 0.12606697307944845, 'AAG': 0.0, 'AAT': 0.0, 'ACA': 0.2087984241628365, 'ACC': 0.12606697307944845, 'ACG': 0.0, 'ACT': 0.0, 'AGA': 0.0, 'AGC': 0.0, 'AGG': 0.0, 'AGT': 0.0, 'ATA': 0.0, 'ATC': 0.0, 'ATG': 0.0, 'ATT': 0.0, 'CAA': 0.12672357189757058, 'CAC': 0.20814182534471437, 'CAG': 0.0, 'CAT': 0.0, 'CCA': 0.12606697307944845, 'CCC': 0.040709126723571895, 'CCG': 0.0, 'CCT': 0.0, 'CGA': 0.0, 'CGC': 0.0, 'CGG': 0.0, 'CGT': 0.0, 'CTA': 0.0, 'CTC': 0.0, 'CTG': 0.0, 'CTT': 0.0, 'GAA': 0.0, 'GAC': 0.0, 'GAG': 0.0, 'GAT': 0.0, 'GCA': 0.0, 'GCC': 0.0, 'GCG': 0.0, 'GCT': 0.0, 'GGA': 0.0, 'GGC': 0.0, 'GGG': 0.0, 'GGT': 0.0, 'GTA': 0.0, 'GTC': 0.0, 'GTG': 0.0, 'GTT': 0.0, 'TAA': 0.0, 'TAC': 0.0, 'TAG': 0.0, 'TAT': 0.0, 'TCA': 0.0, 'TCC': 0.0, 'TCG': 0.0, 'TCT': 0.0, 'TGA': 0.0, 'TGC': 0.0, 'TGG': 0.0, 'TGT': 0.0, 'TTA': 0.0, 'TTC': 0.0, 'TTG': 0.0, 'TTT': 0.0}\n",
      "{'A': 0.0, 'C': 0.0, 'G': 0.4894179894179894, 'T': 0.5105820105820106, 'AA': 0.0, 'AC': 0.0, 'AG': 0.0, 'AT': 0.0, 'CA': 0.0, 'CC': 0.0, 'CG': 0.0, 'CT': 0.0, 'GA': 0.0, 'GC': 0.0, 'GG': 0.16412971542025148, 'GT': 0.3256121773659828, 'TA': 0.0, 'TC': 0.0, 'TG': 0.3249503639973527, 'TT': 0.18530774321641297, 'AAA': 0.0, 'AAC': 0.0, 'AAG': 0.0, 'AAT': 0.0, 'ACA': 0.0, 'ACC': 0.0, 'ACG': 0.0, 'ACT': 0.0, 'AGA': 0.0, 'AGC': 0.0, 'AGG': 0.0, 'AGT': 0.0, 'ATA': 0.0, 'ATC': 0.0, 'ATG': 0.0, 'ATT': 0.0, 'CAA': 0.0, 'CAC': 0.0, 'CAG': 0.0, 'CAT': 0.0, 'CCA': 0.0, 'CCC': 0.0, 'CCG': 0.0, 'CCT': 0.0, 'CGA': 0.0, 'CGC': 0.0, 'CGG': 0.0, 'CGT': 0.0, 'CTA': 0.0, 'CTC': 0.0, 'CTG': 0.0, 'CTT': 0.0, 'GAA': 0.0, 'GAC': 0.0, 'GAG': 0.0, 'GAT': 0.0, 'GCA': 0.0, 'GCC': 0.0, 'GCG': 0.0, 'GCT': 0.0, 'GGA': 0.0, 'GGC': 0.0, 'GGG': 0.04105960264900662, 'GGT': 0.12317880794701987, 'GTA': 0.0, 'GTC': 0.0, 'GTG': 0.19271523178807948, 'GTT': 0.13245033112582782, 'TAA': 0.0, 'TAC': 0.0, 'TAG': 0.0, 'TAT': 0.0, 'TCA': 0.0, 'TCC': 0.0, 'TCG': 0.0, 'TCT': 0.0, 'TGA': 0.0, 'TGC': 0.0, 'TGG': 0.12317880794701987, 'TGT': 0.20198675496688742, 'TTA': 0.0, 'TTC': 0.0, 'TTG': 0.13245033112582782, 'TTT': 0.052980132450331126}\n",
      "[[0.         0.         0.51169005 0.48830995 0.         0.\n",
      "  0.         0.         0.         0.         0.         0.\n",
      "  0.         0.         0.17981283 0.3315508  0.         0.\n",
      "  0.33221925 0.15641711 0.         0.         0.         0.\n",
      "  0.         0.         0.         0.         0.         0.\n",
      "  0.         0.         0.         0.         0.         0.\n",
      "  0.         0.         0.         0.         0.         0.\n",
      "  0.         0.         0.         0.         0.         0.\n",
      "  0.         0.         0.         0.         0.         0.\n",
      "  0.         0.         0.         0.         0.         0.\n",
      "  0.         0.         0.05685619 0.12307692 0.         0.\n",
      "  0.21137124 0.12040134 0.         0.         0.         0.\n",
      "  0.         0.         0.         0.         0.         0.\n",
      "  0.12307692 0.20869565 0.         0.         0.12040134 0.0361204 ]\n",
      " [0.49901639 0.50098361 0.         0.         0.16404199 0.33464567\n",
      "  0.         0.         0.33464567 0.16666667 0.         0.\n",
      "  0.         0.         0.         0.         0.         0.\n",
      "  0.         0.         0.03742613 0.12606697 0.         0.\n",
      "  0.20879842 0.12606697 0.         0.         0.         0.\n",
      "  0.         0.         0.         0.         0.         0.\n",
      "  0.12672357 0.20814183 0.         0.         0.12606697 0.04070913\n",
      "  0.         0.         0.         0.         0.         0.\n",
      "  0.         0.         0.         0.         0.         0.\n",
      "  0.         0.         0.         0.         0.         0.\n",
      "  0.         0.         0.         0.         0.         0.\n",
      "  0.         0.         0.         0.         0.         0.\n",
      "  0.         0.         0.         0.         0.         0.\n",
      "  0.         0.         0.         0.         0.         0.        ]\n",
      " [0.         0.         0.48941799 0.51058201 0.         0.\n",
      "  0.         0.         0.         0.         0.         0.\n",
      "  0.         0.         0.16412972 0.32561218 0.         0.\n",
      "  0.32495036 0.18530774 0.         0.         0.         0.\n",
      "  0.         0.         0.         0.         0.         0.\n",
      "  0.         0.         0.         0.         0.         0.\n",
      "  0.         0.         0.         0.         0.         0.\n",
      "  0.         0.         0.         0.         0.         0.\n",
      "  0.         0.         0.         0.         0.         0.\n",
      "  0.         0.         0.         0.         0.         0.\n",
      "  0.         0.         0.0410596  0.12317881 0.         0.\n",
      "  0.19271523 0.13245033 0.         0.         0.         0.\n",
      "  0.         0.         0.         0.         0.         0.\n",
      "  0.12317881 0.20198675 0.         0.         0.13245033 0.05298013]]\n",
      "2021-07-25 16:34:48 EDT\n"
     ]
    }
   ],
   "source": [
    "def seqs_to_kmer_freqs(seqs,max_K):\n",
    "    tool = KmerTools()  # from SimTools\n",
    "    collection = []\n",
    "    debug = 0\n",
    "    for seq in seqs:\n",
    "        counts = tool.make_dict_upto_K(max_K)\n",
    "        # Last param should be True when using Harvester.\n",
    "        counts = tool.update_count_one_K(counts,max_K,seq,True)\n",
    "        # Given counts for K=3, Harvester fills in counts for K=1,2.\n",
    "        counts = tool.harvest_counts_from_K(counts,max_K)\n",
    "        fdict = tool.count_to_frequency(counts,max_K)\n",
    "        freqs = list(fdict.values())\n",
    "        collection.append(freqs)\n",
    "        if (debug<3):\n",
    "            print(fdict)\n",
    "            debug += 1;\n",
    "    return np.asarray(collection)\n",
    "Xfrq=seqs_to_kmer_freqs(Xseq,MAX_K)\n",
    "print(Xfrq[:3])\n",
    "show_time()"
   ]
  },
  {
   "cell_type": "markdown",
   "metadata": {
    "id": "dJ4XhrzGI_s-"
   },
   "source": [
    "## Neural network"
   ]
  },
  {
   "cell_type": "code",
   "execution_count": 10,
   "metadata": {
    "colab": {
     "base_uri": "https://localhost:8080/"
    },
    "id": "o5NPW7zKI_tC",
    "outputId": "e44742b8-4c03-4bdb-9e1a-6cb433ff5fc9"
   },
   "outputs": [
    {
     "name": "stdout",
     "output_type": "stream",
     "text": [
      "make_DNN\n",
      "input shape: (None, 84)\n",
      "Model: \"sequential\"\n",
      "_________________________________________________________________\n",
      "Layer (type)                 Output Shape              Param #   \n",
      "=================================================================\n",
      "dense (Dense)                (None, 128)               10880     \n",
      "_________________________________________________________________\n",
      "dropout (Dropout)            (None, 128)               0         \n",
      "_________________________________________________________________\n",
      "dense_1 (Dense)              (None, 128)               16512     \n",
      "_________________________________________________________________\n",
      "dropout_1 (Dropout)          (None, 128)               0         \n",
      "_________________________________________________________________\n",
      "dense_2 (Dense)              (None, 1)                 129       \n",
      "=================================================================\n",
      "Total params: 27,521\n",
      "Trainable params: 27,521\n",
      "Non-trainable params: 0\n",
      "_________________________________________________________________\n",
      "None\n"
     ]
    }
   ],
   "source": [
    "def make_DNN():\n",
    "    dt=np.float32\n",
    "    print(\"make_DNN\")\n",
    "    print(\"input shape:\",INPUT_SHAPE)\n",
    "    dnn = Sequential()\n",
    "    dnn.add(Dense(NEURONS,activation=\"sigmoid\",dtype=dt))  # relu doesn't work as well\n",
    "    dnn.add(Dropout(DROP_RATE))\n",
    "    dnn.add(Dense(NEURONS,activation=\"sigmoid\",dtype=dt)) \n",
    "    dnn.add(Dropout(DROP_RATE))\n",
    "    dnn.add(Dense(1,activation=\"sigmoid\",dtype=dt))   \n",
    "    dnn.compile(optimizer='adam',    # adadelta doesn't work as well\n",
    "                loss=BinaryCrossentropy(from_logits=False),\n",
    "                metrics=['accuracy'])   # add to default metrics=loss\n",
    "    dnn.build(input_shape=INPUT_SHAPE) \n",
    "    return dnn\n",
    "model = make_DNN()\n",
    "print(model.summary())"
   ]
  },
  {
   "cell_type": "code",
   "execution_count": 11,
   "metadata": {
    "id": "E2Dr6L9lI_tE"
   },
   "outputs": [],
   "source": [
    "def do_cross_validation(X,y):\n",
    "    cv_scores = []\n",
    "    fold=0\n",
    "    #mycallbacks = [ModelCheckpoint(\n",
    "    #    filepath=MODELPATH, save_best_only=True, \n",
    "    #    monitor='val_accuracy', mode='max')]   \n",
    "    # When shuffle=True, the valid indices are a random subset.\n",
    "    splitter = KFold(n_splits=SPLITS,shuffle=True) \n",
    "    model = None\n",
    "    for train_index,valid_index in splitter.split(X):\n",
    "        if fold < FOLDS:\n",
    "            fold += 1\n",
    "            X_train=X[train_index] # inputs for training\n",
    "            y_train=y[train_index] # labels for training\n",
    "            X_valid=X[valid_index] # inputs for validation\n",
    "            y_valid=y[valid_index] # labels for validation\n",
    "            print(\"MODEL\")\n",
    "            # Call constructor on each CV. Else, continually improves the same model.\n",
    "            model = model = make_DNN()\n",
    "            print(\"FIT\")  # model.fit() implements learning\n",
    "            start_time=time.time()\n",
    "            history=model.fit(X_train, y_train, \n",
    "                    epochs=EPOCHS, \n",
    "                    verbose=1,  # ascii art while learning\n",
    "                    # callbacks=mycallbacks,   # called at end of each epoch\n",
    "                    validation_data=(X_valid,y_valid))\n",
    "            end_time=time.time()\n",
    "            elapsed_time=(end_time-start_time)                        \n",
    "            print(\"Fold %d, %d epochs, %d sec\"%(fold,EPOCHS,elapsed_time))\n",
    "            # print(history.history.keys())  # all these keys will be shown in figure\n",
    "            pd.DataFrame(history.history).plot(figsize=(8,5))\n",
    "            plt.grid(True)\n",
    "            plt.gca().set_ylim(0,1) # any losses > 1 will be off the scale\n",
    "            plt.show()\n",
    "    return model  # parameters at end of training"
   ]
  },
  {
   "cell_type": "code",
   "execution_count": 12,
   "metadata": {
    "colab": {
     "base_uri": "https://localhost:8080/",
     "height": 1000
    },
    "id": "Ey7Q-YWcI_tH",
    "outputId": "99860c16-9c39-4965-c7f5-2e4d32153b27"
   },
   "outputs": [
    {
     "name": "stdout",
     "output_type": "stream",
     "text": [
      "2021-07-25 16:34:49 EDT\n",
      "MODEL\n",
      "make_DNN\n",
      "input shape: (None, 84)\n",
      "FIT\n",
      "Epoch 1/10\n",
      "400/400 [==============================] - 17s 4ms/step - loss: 0.3876 - accuracy: 0.8523 - val_loss: 0.0039 - val_accuracy: 1.0000\n",
      "Epoch 2/10\n",
      "400/400 [==============================] - 1s 2ms/step - loss: 0.0028 - accuracy: 1.0000 - val_loss: 0.0010 - val_accuracy: 1.0000\n",
      "Epoch 3/10\n",
      "400/400 [==============================] - 1s 2ms/step - loss: 8.4490e-04 - accuracy: 1.0000 - val_loss: 4.6786e-04 - val_accuracy: 1.0000\n",
      "Epoch 4/10\n",
      "400/400 [==============================] - 1s 2ms/step - loss: 4.1921e-04 - accuracy: 1.0000 - val_loss: 2.6949e-04 - val_accuracy: 1.0000\n",
      "Epoch 5/10\n",
      "400/400 [==============================] - 1s 2ms/step - loss: 2.4899e-04 - accuracy: 1.0000 - val_loss: 1.7347e-04 - val_accuracy: 1.0000\n",
      "Epoch 6/10\n",
      "400/400 [==============================] - 1s 2ms/step - loss: 1.6352e-04 - accuracy: 1.0000 - val_loss: 1.1913e-04 - val_accuracy: 1.0000\n",
      "Epoch 7/10\n",
      "400/400 [==============================] - 1s 2ms/step - loss: 1.1424e-04 - accuracy: 1.0000 - val_loss: 8.5481e-05 - val_accuracy: 1.0000\n",
      "Epoch 8/10\n",
      "400/400 [==============================] - 1s 2ms/step - loss: 8.2669e-05 - accuracy: 1.0000 - val_loss: 6.3245e-05 - val_accuracy: 1.0000\n",
      "Epoch 9/10\n",
      "400/400 [==============================] - 1s 3ms/step - loss: 6.1480e-05 - accuracy: 1.0000 - val_loss: 4.7882e-05 - val_accuracy: 1.0000\n",
      "Epoch 10/10\n",
      "400/400 [==============================] - 1s 2ms/step - loss: 4.6615e-05 - accuracy: 1.0000 - val_loss: 3.6876e-05 - val_accuracy: 1.0000\n",
      "Fold 1, 10 epochs, 25 sec\n"
     ]
    },
    {
     "data": {
      "image/png": "[encoded data removed]",
      "text/plain": [
       "<Figure size 576x360 with 1 Axes>"
      ]
     },
     "metadata": {
      "needs_background": "light"
     },
     "output_type": "display_data"
    }
   ],
   "source": [
    "show_time()\n",
    "last_model = do_cross_validation(Xfrq,y)"
   ]
  },
  {
   "cell_type": "code",
   "execution_count": 13,
   "metadata": {
    "id": "tGf2PcxRC8jT"
   },
   "outputs": [],
   "source": [
    "def show_test_AUC(model,X,y):\n",
    "    ns_probs = [0 for _ in range(len(y))]\n",
    "    bm_probs = model.predict(X)\n",
    "    ns_auc = roc_auc_score(y, ns_probs)\n",
    "    bm_auc = roc_auc_score(y, bm_probs)\n",
    "    ns_fpr, ns_tpr, _ = roc_curve(y, ns_probs)\n",
    "    bm_fpr, bm_tpr, _ = roc_curve(y, bm_probs)\n",
    "    plt.plot(ns_fpr, ns_tpr, linestyle='--', label='Guess, auc=%.4f'%ns_auc)\n",
    "    plt.plot(bm_fpr, bm_tpr, marker='.', label='Model, auc=%.4f'%bm_auc)\n",
    "    plt.title('ROC')\n",
    "    plt.xlabel('False Positive Rate')\n",
    "    plt.ylabel('True Positive Rate')\n",
    "    plt.legend()\n",
    "    plt.show()\n",
    "    print(\"%s: %.2f%%\" %('AUC',bm_auc*100.0))\n",
    "def show_test_accuracy(model,X,y):\n",
    "    scores = model.evaluate(X, y, verbose=0)\n",
    "    print(\"%s: %.2f%%\" % (model.metrics_names[1], scores[1]*100))\n"
   ]
  },
  {
   "cell_type": "code",
   "execution_count": 14,
   "metadata": {
    "colab": {
     "base_uri": "https://localhost:8080/",
     "height": 469
    },
    "id": "MXkPiM4_FG2N",
    "outputId": "b4dd4315-418e-4ea6-8899-0339dc701015"
   },
   "outputs": [
    {
     "name": "stdout",
     "output_type": "stream",
     "text": [
      "Accuracy on training data.\n",
      "Prepare...\n",
      "2021-07-25 16:35:15 EDT\n",
      "Extract K-mer features...\n",
      "2021-07-25 16:35:15 EDT\n",
      "{'A': 0.0, 'C': 0.0, 'G': 0.511690046760187, 'T': 0.48830995323981297, 'AA': 0.0, 'AC': 0.0, 'AG': 0.0, 'AT': 0.0, 'CA': 0.0, 'CC': 0.0, 'CG': 0.0, 'CT': 0.0, 'GA': 0.0, 'GC': 0.0, 'GG': 0.17981283422459893, 'GT': 0.3315508021390374, 'TA': 0.0, 'TC': 0.0, 'TG': 0.3322192513368984, 'TT': 0.15641711229946523, 'AAA': 0.0, 'AAC': 0.0, 'AAG': 0.0, 'AAT': 0.0, 'ACA': 0.0, 'ACC': 0.0, 'ACG': 0.0, 'ACT': 0.0, 'AGA': 0.0, 'AGC': 0.0, 'AGG': 0.0, 'AGT': 0.0, 'ATA': 0.0, 'ATC': 0.0, 'ATG': 0.0, 'ATT': 0.0, 'CAA': 0.0, 'CAC': 0.0, 'CAG': 0.0, 'CAT': 0.0, 'CCA': 0.0, 'CCC': 0.0, 'CCG': 0.0, 'CCT': 0.0, 'CGA': 0.0, 'CGC': 0.0, 'CGG': 0.0, 'CGT': 0.0, 'CTA': 0.0, 'CTC': 0.0, 'CTG': 0.0, 'CTT': 0.0, 'GAA': 0.0, 'GAC': 0.0, 'GAG': 0.0, 'GAT': 0.0, 'GCA': 0.0, 'GCC': 0.0, 'GCG': 0.0, 'GCT': 0.0, 'GGA': 0.0, 'GGC': 0.0, 'GGG': 0.056856187290969896, 'GGT': 0.12307692307692308, 'GTA': 0.0, 'GTC': 0.0, 'GTG': 0.21137123745819397, 'GTT': 0.12040133779264214, 'TAA': 0.0, 'TAC': 0.0, 'TAG': 0.0, 'TAT': 0.0, 'TCA': 0.0, 'TCC': 0.0, 'TCG': 0.0, 'TCT': 0.0, 'TGA': 0.0, 'TGC': 0.0, 'TGG': 0.12307692307692308, 'TGT': 0.20869565217391303, 'TTA': 0.0, 'TTC': 0.0, 'TTG': 0.12040133779264214, 'TTT': 0.036120401337792644}\n",
      "{'A': 0.49901639344262294, 'C': 0.5009836065573771, 'G': 0.0, 'T': 0.0, 'AA': 0.16404199475065617, 'AC': 0.3346456692913386, 'AG': 0.0, 'AT': 0.0, 'CA': 0.3346456692913386, 'CC': 0.16666666666666666, 'CG': 0.0, 'CT': 0.0, 'GA': 0.0, 'GC': 0.0, 'GG': 0.0, 'GT': 0.0, 'TA': 0.0, 'TC': 0.0, 'TG': 0.0, 'TT': 0.0, 'AAA': 0.03742613263296126, 'AAC': 0.12606697307944845, 'AAG': 0.0, 'AAT': 0.0, 'ACA': 0.2087984241628365, 'ACC': 0.12606697307944845, 'ACG': 0.0, 'ACT': 0.0, 'AGA': 0.0, 'AGC': 0.0, 'AGG': 0.0, 'AGT': 0.0, 'ATA': 0.0, 'ATC': 0.0, 'ATG': 0.0, 'ATT': 0.0, 'CAA': 0.12672357189757058, 'CAC': 0.20814182534471437, 'CAG': 0.0, 'CAT': 0.0, 'CCA': 0.12606697307944845, 'CCC': 0.040709126723571895, 'CCG': 0.0, 'CCT': 0.0, 'CGA': 0.0, 'CGC': 0.0, 'CGG': 0.0, 'CGT': 0.0, 'CTA': 0.0, 'CTC': 0.0, 'CTG': 0.0, 'CTT': 0.0, 'GAA': 0.0, 'GAC': 0.0, 'GAG': 0.0, 'GAT': 0.0, 'GCA': 0.0, 'GCC': 0.0, 'GCG': 0.0, 'GCT': 0.0, 'GGA': 0.0, 'GGC': 0.0, 'GGG': 0.0, 'GGT': 0.0, 'GTA': 0.0, 'GTC': 0.0, 'GTG': 0.0, 'GTT': 0.0, 'TAA': 0.0, 'TAC': 0.0, 'TAG': 0.0, 'TAT': 0.0, 'TCA': 0.0, 'TCC': 0.0, 'TCG': 0.0, 'TCT': 0.0, 'TGA': 0.0, 'TGC': 0.0, 'TGG': 0.0, 'TGT': 0.0, 'TTA': 0.0, 'TTC': 0.0, 'TTG': 0.0, 'TTT': 0.0}\n",
      "{'A': 0.0, 'C': 0.0, 'G': 0.4894179894179894, 'T': 0.5105820105820106, 'AA': 0.0, 'AC': 0.0, 'AG': 0.0, 'AT': 0.0, 'CA': 0.0, 'CC': 0.0, 'CG': 0.0, 'CT': 0.0, 'GA': 0.0, 'GC': 0.0, 'GG': 0.16412971542025148, 'GT': 0.3256121773659828, 'TA': 0.0, 'TC': 0.0, 'TG': 0.3249503639973527, 'TT': 0.18530774321641297, 'AAA': 0.0, 'AAC': 0.0, 'AAG': 0.0, 'AAT': 0.0, 'ACA': 0.0, 'ACC': 0.0, 'ACG': 0.0, 'ACT': 0.0, 'AGA': 0.0, 'AGC': 0.0, 'AGG': 0.0, 'AGT': 0.0, 'ATA': 0.0, 'ATC': 0.0, 'ATG': 0.0, 'ATT': 0.0, 'CAA': 0.0, 'CAC': 0.0, 'CAG': 0.0, 'CAT': 0.0, 'CCA': 0.0, 'CCC': 0.0, 'CCG': 0.0, 'CCT': 0.0, 'CGA': 0.0, 'CGC': 0.0, 'CGG': 0.0, 'CGT': 0.0, 'CTA': 0.0, 'CTC': 0.0, 'CTG': 0.0, 'CTT': 0.0, 'GAA': 0.0, 'GAC': 0.0, 'GAG': 0.0, 'GAT': 0.0, 'GCA': 0.0, 'GCC': 0.0, 'GCG': 0.0, 'GCT': 0.0, 'GGA': 0.0, 'GGC': 0.0, 'GGG': 0.04105960264900662, 'GGT': 0.12317880794701987, 'GTA': 0.0, 'GTC': 0.0, 'GTG': 0.19271523178807948, 'GTT': 0.13245033112582782, 'TAA': 0.0, 'TAC': 0.0, 'TAG': 0.0, 'TAT': 0.0, 'TCA': 0.0, 'TCC': 0.0, 'TCG': 0.0, 'TCT': 0.0, 'TGA': 0.0, 'TGC': 0.0, 'TGG': 0.12317880794701987, 'TGT': 0.20198675496688742, 'TTA': 0.0, 'TTC': 0.0, 'TTG': 0.13245033112582782, 'TTT': 0.052980132450331126}\n",
      "Plot...\n",
      "2021-07-25 16:35:31 EDT\n"
     ]
    },
    {
     "data": {
      "image/png": "[encoded data removed]",
      "text/plain": [
       "<Figure size 432x288 with 1 Axes>"
      ]
     },
     "metadata": {
      "needs_background": "light"
     },
     "output_type": "display_data"
    },
    {
     "name": "stdout",
     "output_type": "stream",
     "text": [
      "AUC: 100.00%\n",
      "accuracy: 100.00%\n",
      "2021-07-25 16:35:33 EDT\n"
     ]
    }
   ],
   "source": [
    "print(\"Accuracy on training data.\")\n",
    "print(\"Prepare...\")\n",
    "show_time()\n",
    "Xseq,y=prepare_x_and_y(pc_train,nc_train)\n",
    "print(\"Extract K-mer features...\")\n",
    "show_time()\n",
    "Xfrq=seqs_to_kmer_freqs(Xseq,MAX_K)\n",
    "print(\"Plot...\")\n",
    "show_time()\n",
    "show_test_AUC(last_model,Xfrq,y)\n",
    "show_test_accuracy(last_model,Xfrq,y)\n",
    "show_time()"
   ]
  },
  {
   "cell_type": "code",
   "execution_count": 15,
   "metadata": {
    "colab": {
     "base_uri": "https://localhost:8080/",
     "height": 469
    },
    "id": "kdD6SyVhFXaM",
    "outputId": "78e0ce43-f59e-4e83-9366-f79fa0e19bb4"
   },
   "outputs": [
    {
     "name": "stdout",
     "output_type": "stream",
     "text": [
      "Accuracy on test data.\n",
      "Prepare...\n",
      "2021-07-25 16:35:33 EDT\n",
      "Extract K-mer features...\n",
      "2021-07-25 16:35:34 EDT\n",
      "{'A': 0.0, 'C': 0.0, 'G': 0.4900265957446808, 'T': 0.5099734042553191, 'AA': 0.0, 'AC': 0.0, 'AG': 0.0, 'AT': 0.0, 'CA': 0.0, 'CC': 0.0, 'CG': 0.0, 'CT': 0.0, 'GA': 0.0, 'GC': 0.0, 'GG': 0.16167664670658682, 'GT': 0.32801064537591484, 'TA': 0.0, 'TC': 0.0, 'TG': 0.3286759813705922, 'TT': 0.18163672654690619, 'AAA': 0.0, 'AAC': 0.0, 'AAG': 0.0, 'AAT': 0.0, 'ACA': 0.0, 'ACC': 0.0, 'ACG': 0.0, 'ACT': 0.0, 'AGA': 0.0, 'AGC': 0.0, 'AGG': 0.0, 'AGT': 0.0, 'ATA': 0.0, 'ATC': 0.0, 'ATG': 0.0, 'ATT': 0.0, 'CAA': 0.0, 'CAC': 0.0, 'CAG': 0.0, 'CAT': 0.0, 'CCA': 0.0, 'CCC': 0.0, 'CCG': 0.0, 'CCT': 0.0, 'CGA': 0.0, 'CGC': 0.0, 'CGG': 0.0, 'CGT': 0.0, 'CTA': 0.0, 'CTC': 0.0, 'CTG': 0.0, 'CTT': 0.0, 'GAA': 0.0, 'GAC': 0.0, 'GAG': 0.0, 'GAT': 0.0, 'GCA': 0.0, 'GCC': 0.0, 'GCG': 0.0, 'GCT': 0.0, 'GGA': 0.0, 'GGC': 0.0, 'GGG': 0.03195739014647137, 'GGT': 0.12982689747003995, 'GTA': 0.0, 'GTC': 0.0, 'GTG': 0.19973368841544606, 'GTT': 0.1284953395472703, 'TAA': 0.0, 'TAC': 0.0, 'TAG': 0.0, 'TAT': 0.0, 'TCA': 0.0, 'TCC': 0.0, 'TCG': 0.0, 'TCT': 0.0, 'TGA': 0.0, 'TGC': 0.0, 'TGG': 0.12982689747003995, 'TGT': 0.19840213049267644, 'TTA': 0.0, 'TTC': 0.0, 'TTG': 0.1284953395472703, 'TTT': 0.05326231691078562}\n",
      "{'A': 0.5026990553306343, 'C': 0.4973009446693657, 'G': 0.0, 'T': 0.0, 'AA': 0.17083051991897366, 'AC': 0.3322079675894666, 'AG': 0.0, 'AT': 0.0, 'CA': 0.3322079675894666, 'CC': 0.16475354490209318, 'CG': 0.0, 'CT': 0.0, 'GA': 0.0, 'GC': 0.0, 'GG': 0.0, 'GT': 0.0, 'TA': 0.0, 'TC': 0.0, 'TG': 0.0, 'TT': 0.0, 'AAA': 0.04256756756756757, 'AAC': 0.12837837837837837, 'AAG': 0.0, 'AAT': 0.0, 'ACA': 0.20202702702702702, 'ACC': 0.1304054054054054, 'ACG': 0.0, 'ACT': 0.0, 'AGA': 0.0, 'AGC': 0.0, 'AGG': 0.0, 'AGT': 0.0, 'ATA': 0.0, 'ATC': 0.0, 'ATG': 0.0, 'ATT': 0.0, 'CAA': 0.12837837837837837, 'CAC': 0.20405405405405405, 'CAG': 0.0, 'CAT': 0.0, 'CCA': 0.12972972972972974, 'CCC': 0.03445945945945946, 'CCG': 0.0, 'CCT': 0.0, 'CGA': 0.0, 'CGC': 0.0, 'CGG': 0.0, 'CGT': 0.0, 'CTA': 0.0, 'CTC': 0.0, 'CTG': 0.0, 'CTT': 0.0, 'GAA': 0.0, 'GAC': 0.0, 'GAG': 0.0, 'GAT': 0.0, 'GCA': 0.0, 'GCC': 0.0, 'GCG': 0.0, 'GCT': 0.0, 'GGA': 0.0, 'GGC': 0.0, 'GGG': 0.0, 'GGT': 0.0, 'GTA': 0.0, 'GTC': 0.0, 'GTG': 0.0, 'GTT': 0.0, 'TAA': 0.0, 'TAC': 0.0, 'TAG': 0.0, 'TAT': 0.0, 'TCA': 0.0, 'TCC': 0.0, 'TCG': 0.0, 'TCT': 0.0, 'TGA': 0.0, 'TGC': 0.0, 'TGG': 0.0, 'TGT': 0.0, 'TTA': 0.0, 'TTC': 0.0, 'TTG': 0.0, 'TTT': 0.0}\n",
      "{'A': 0.0, 'C': 0.0, 'G': 0.5060160427807486, 'T': 0.4939839572192513, 'AA': 0.0, 'AC': 0.0, 'AG': 0.0, 'AT': 0.0, 'CA': 0.0, 'CC': 0.0, 'CG': 0.0, 'CT': 0.0, 'GA': 0.0, 'GC': 0.0, 'GG': 0.17725752508361203, 'GT': 0.3290969899665552, 'TA': 0.0, 'TC': 0.0, 'TG': 0.3290969899665552, 'TT': 0.1645484949832776, 'AAA': 0.0, 'AAC': 0.0, 'AAG': 0.0, 'AAT': 0.0, 'ACA': 0.0, 'ACC': 0.0, 'ACG': 0.0, 'ACT': 0.0, 'AGA': 0.0, 'AGC': 0.0, 'AGG': 0.0, 'AGT': 0.0, 'ATA': 0.0, 'ATC': 0.0, 'ATG': 0.0, 'ATT': 0.0, 'CAA': 0.0, 'CAC': 0.0, 'CAG': 0.0, 'CAT': 0.0, 'CCA': 0.0, 'CCC': 0.0, 'CCG': 0.0, 'CCT': 0.0, 'CGA': 0.0, 'CGC': 0.0, 'CGG': 0.0, 'CGT': 0.0, 'CTA': 0.0, 'CTC': 0.0, 'CTG': 0.0, 'CTT': 0.0, 'GAA': 0.0, 'GAC': 0.0, 'GAG': 0.0, 'GAT': 0.0, 'GCA': 0.0, 'GCC': 0.0, 'GCG': 0.0, 'GCT': 0.0, 'GGA': 0.0, 'GGC': 0.0, 'GGG': 0.04685408299866131, 'GGT': 0.13052208835341367, 'GTA': 0.0, 'GTC': 0.0, 'GTG': 0.20414993306559573, 'GTT': 0.1251673360107095, 'TAA': 0.0, 'TAC': 0.0, 'TAG': 0.0, 'TAT': 0.0, 'TCA': 0.0, 'TCC': 0.0, 'TCG': 0.0, 'TCT': 0.0, 'TGA': 0.0, 'TGC': 0.0, 'TGG': 0.13052208835341367, 'TGT': 0.19879518072289157, 'TTA': 0.0, 'TTC': 0.0, 'TTG': 0.1251673360107095, 'TTT': 0.038821954484605084}\n",
      "Plot...\n",
      "2021-07-25 16:35:49 EDT\n"
     ]
    },
    {
     "data": {
      "image/png": "[encoded data removed]",
      "text/plain": [
       "<Figure size 432x288 with 1 Axes>"
      ]
     },
     "metadata": {
      "needs_background": "light"
     },
     "output_type": "display_data"
    },
    {
     "name": "stdout",
     "output_type": "stream",
     "text": [
      "AUC: 100.00%\n",
      "accuracy: 100.00%\n",
      "2021-07-25 16:35:50 EDT\n"
     ]
    }
   ],
   "source": [
    "print(\"Accuracy on test data.\")\n",
    "print(\"Prepare...\")\n",
    "show_time()\n",
    "Xseq,y=prepare_x_and_y(pc_test,nc_test)\n",
    "print(\"Extract K-mer features...\")\n",
    "show_time()\n",
    "Xfrq=seqs_to_kmer_freqs(Xseq,MAX_K)\n",
    "print(\"Plot...\")\n",
    "show_time()\n",
    "show_test_AUC(last_model,Xfrq,y)\n",
    "show_test_accuracy(last_model,Xfrq,y)\n",
    "show_time()"
   ]
  }
 ],
 "metadata": {
  "accelerator": "GPU",
  "colab": {
   "collapsed_sections": [],
   "name": "ORF_MLP_117.ipynb",
   "provenance": []
  },
  "kernelspec": {
   "display_name": "Python 3",
   "language": "python",
   "name": "python3"
  },
  "language_info": {
   "codemirror_mode": {
    "name": "ipython",
    "version": 3
   },
   "file_extension": ".py",
   "mimetype": "text/x-python",
   "name": "python",
   "nbconvert_exporter": "python",
   "pygments_lexer": "ipython3",
   "version": "3.8.3"
  }
 },
 "nbformat": 4,
 "nbformat_minor": 1
}
