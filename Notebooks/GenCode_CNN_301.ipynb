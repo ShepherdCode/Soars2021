{
 "cells": [
  {
   "cell_type": "markdown",
   "metadata": {
    "id": "0asdcdunj2Tx"
   },
   "source": [
    "# PC/NC classification by CNN\n",
    "\n",
    "The convolutional neural network (CNN) was invented for image processing.\n",
    "We can use Conv1D layers for processing string sequences. \n",
    "How well does CNN work on human RNA as a binary classifier of protein-coding/non-coding?  \n",
    "\n",
    "Assume user downloaded files from GenCode 38 [FTP](http://ftp.ebi.ac.uk/pub/databases/gencode/Gencode_human/release_38/)\n",
    "to a subdirectory called data.\n",
    "\n",
    "The learning curve is strange: up then down. I suspect the CNN is learning the fact that we padded sequences with T to make them uniform length."
   ]
  },
  {
   "cell_type": "code",
   "execution_count": 1,
   "metadata": {
    "colab": {
     "base_uri": "https://localhost:8080/"
    },
    "id": "QP1VTRNQj2UO",
    "outputId": "f737ba30-4fa1-4429-b544-ed54c4dc8885"
   },
   "outputs": [
    {
     "name": "stdout",
     "output_type": "stream",
     "text": [
      "2021-06-04 21:00:11 UTC\n"
     ]
    }
   ],
   "source": [
    "import time \n",
    "def show_time():\n",
    "    t = time.time()\n",
    "    s = time.strftime('%Y-%m-%d %H:%M:%S %Z', time.localtime(t))\n",
    "    print(s)\n",
    "show_time()"
   ]
  },
  {
   "cell_type": "code",
   "execution_count": 2,
   "metadata": {
    "id": "JLkk5qWT66nV"
   },
   "outputs": [],
   "source": [
    "PC_FILENAME='gencode.v38.pc_transcripts.fa.gz'\n",
    "NC_FILENAME='gencode.v38.lncRNA_transcripts.fa.gz'"
   ]
  },
  {
   "cell_type": "code",
   "execution_count": 3,
   "metadata": {
    "id": "Nhz4GKonj2T_"
   },
   "outputs": [],
   "source": [
    "PC_SEQUENCES=20000   # how many protein-coding sequences\n",
    "NC_SEQUENCES=20000   # how many non-coding sequences\n",
    "PC_TESTS=1000\n",
    "NC_TESTS=1000\n",
    "BASES=1000            # how long is each sequence\n",
    "ALPHABET=4          # how many different letters are possible\n",
    "INPUT_SHAPE_2D = (BASES,ALPHABET,1) # Conv2D needs 3D inputs\n",
    "INPUT_SHAPE = (BASES,ALPHABET) # Conv1D needs 2D inputs\n",
    "FILTERS = 32   # how many different patterns the model looks for\n",
    "NEURONS = 32\n",
    "DROP_RATE = 0.2\n",
    "WIDTH = 3   # how wide each pattern is, in bases\n",
    "STRIDE_2D = (1,1)  # For Conv2D how far in each direction\n",
    "STRIDE = 1 # For Conv1D, how far between pattern matches, in bases\n",
    "EPOCHS=50  # how many times to train on all the data\n",
    "SPLITS=5  # SPLITS=3 means train on 2/3 and validate on 1/3 \n",
    "FOLDS=3  # train the model this many times (range 1 to SPLITS)"
   ]
  },
  {
   "cell_type": "code",
   "execution_count": 4,
   "metadata": {
    "colab": {
     "base_uri": "https://localhost:8080/"
    },
    "id": "lr7q90rxj2UE",
    "outputId": "a3bf1676-1705-4785-c446-93e65ca1d63b"
   },
   "outputs": [
    {
     "name": "stdout",
     "output_type": "stream",
     "text": [
      "On Google CoLab, mount cloud-local file, get our code from GitHub.\n",
      "Mounted at /content/drive/\n"
     ]
    }
   ],
   "source": [
    "import sys\n",
    "import csv\n",
    "\n",
    "try:\n",
    "    from google.colab import drive\n",
    "    IN_COLAB = True\n",
    "    print(\"On Google CoLab, mount cloud-local file, get our code from GitHub.\")\n",
    "    PATH='/content/drive/'\n",
    "    #drive.mount(PATH,force_remount=True)  # hardly ever need this\n",
    "    drive.mount(PATH)    # Google will require login credentials\n",
    "    DATAPATH=PATH+'My Drive/data/'  # must end in \"/\"\n",
    "    import requests\n",
    "    r = requests.get('https://raw.githubusercontent.com/ShepherdCode/Soars2021/master/SimTools/RNA_gen.py')\n",
    "    with open('RNA_gen.py', 'w') as f:\n",
    "        f.write(r.text)  \n",
    "    from RNA_gen import *\n",
    "    r = requests.get('https://raw.githubusercontent.com/ShepherdCode/Soars2021/master/SimTools/RNA_describe.py')\n",
    "    with open('RNA_describe.py', 'w') as f:\n",
    "        f.write(r.text)  \n",
    "    from RNA_describe import *\n",
    "    r = requests.get('https://raw.githubusercontent.com/ShepherdCode/Soars2021/master/SimTools/RNA_prep.py')\n",
    "    with open('RNA_prep.py', 'w') as f:\n",
    "        f.write(r.text)  \n",
    "    from RNA_prep import *\n",
    "except:\n",
    "    print(\"CoLab not working. On my PC, use relative paths.\")\n",
    "    IN_COLAB = False\n",
    "    DATAPATH='../data/'  # must end in \"/\"\n",
    "    sys.path.append(\"..\") # append parent dir in order to use sibling dirs\n",
    "    from SimTools.RNA_gen import *\n",
    "    from SimTools.RNA_describe import *\n",
    "    from SimTools.RNA_prep import *\n",
    "\n",
    "MODELPATH=\"BestModel\"  # saved on cloud instance and lost after logout\n",
    "#MODELPATH=DATAPATH+MODELPATH  # saved on Google Drive but requires login\n",
    "\n",
    "if not assert_imported_RNA_gen():\n",
    "    print(\"ERROR: Cannot use RNA_gen.\")\n",
    "if not assert_imported_RNA_prep():\n",
    "    print(\"ERROR: Cannot use RNA_prep.\")"
   ]
  },
  {
   "cell_type": "code",
   "execution_count": 5,
   "metadata": {
    "id": "EGDXH8Uwj2UM"
   },
   "outputs": [],
   "source": [
    "from os import listdir\n",
    "#from zipfile import ZipFile\n",
    "import gzip\n",
    "\n",
    "import numpy as np\n",
    "import pandas as pd\n",
    "from scipy import stats  # mode\n",
    "\n",
    "from sklearn.preprocessing import StandardScaler\n",
    "from sklearn.model_selection import KFold\n",
    "from sklearn.model_selection import cross_val_score\n",
    "\n",
    "from keras.models import Sequential\n",
    "from keras.layers import Dense,Embedding,Dropout\n",
    "from keras.layers import Conv1D,Conv2D\n",
    "from keras.layers import Flatten,MaxPooling1D,MaxPooling2D\n",
    "from keras.losses import BinaryCrossentropy\n",
    "# tf.keras.losses.BinaryCrossentropy\n",
    "\n",
    "import matplotlib.pyplot as plt\n",
    "from matplotlib import colors\n",
    "mycmap = colors.ListedColormap(['red','blue'])  # list color for label 0 then 1\n",
    "np.set_printoptions(precision=2)\n"
   ]
  },
  {
   "cell_type": "code",
   "execution_count": 6,
   "metadata": {
    "id": "Q0FetlLPj2UQ"
   },
   "outputs": [],
   "source": [
    "def load_gencode(filename,label):\n",
    "    DEFLINE='>'\n",
    "    DELIM='|'\n",
    "    EMPTY=''\n",
    "    labels=[]  # usually 1 for protein-coding or 0 for non-coding\n",
    "    seqs=[]    # usually string of ACGT\n",
    "    lens=[]    # sequence length\n",
    "    ids=[]     # GenCode transcript ID, always starts ENST\n",
    "    one_seq = EMPTY\n",
    "    one_id = None\n",
    "    # Use gzip 'r' mode to open file in read-only mode.\n",
    "    # Use gzip 't' mode to read each line of text as type string.\n",
    "    with gzip.open (filename,'rt') as infile:\n",
    "        for line in infile:\n",
    "            if line[0]==DEFLINE:\n",
    "                # Save the previous sequence if one exists.\n",
    "                if not one_seq == EMPTY:\n",
    "                    labels.append(label)\n",
    "                    seqs.append(one_seq)\n",
    "                    lens.append(len(one_seq))\n",
    "                    ids.append(one_id)\n",
    "                # Get ready to read the next sequence. \n",
    "                # Parse a GenCode defline that is formatted like this:\n",
    "                # >transcript_ID|gene_ID|other_fields other_info|other_info\n",
    "                one_id = line[1:].split(DELIM)[0]\n",
    "                one_seq = EMPTY\n",
    "            else:\n",
    "                # Continue loading sequence lines till next defline.\n",
    "                additional = line.rstrip()\n",
    "                one_seq = one_seq + additional\n",
    "        # Don't forget to save the last sequence after end-of-file.\n",
    "        if not one_seq == EMPTY:\n",
    "            labels.append(label)\n",
    "            seqs.append(one_seq)\n",
    "            lens.append(len(one_seq))\n",
    "            ids.append(one_id)\n",
    "\n",
    "    df1=pd.DataFrame(ids,columns=['tid'])\n",
    "    df2=pd.DataFrame(labels,columns=['class'])\n",
    "    df3=pd.DataFrame(seqs,columns=['sequence'])\n",
    "    df4=pd.DataFrame(lens,columns=['seqlen'])\n",
    "    df=pd.concat((df1,df2,df3,df4),axis=1)\n",
    "    return df"
   ]
  },
  {
   "cell_type": "code",
   "execution_count": 7,
   "metadata": {
    "colab": {
     "base_uri": "https://localhost:8080/"
    },
    "id": "Sq8zxP2p66nj",
    "outputId": "31eefc1f-2590-473a-8f54-64f53ceb3878"
   },
   "outputs": [
    {
     "name": "stdout",
     "output_type": "stream",
     "text": [
      "PC seqs loaded: 106143\n",
      "NC seqs loaded: 48752\n"
     ]
    }
   ],
   "source": [
    "PC_FULLPATH=DATAPATH+PC_FILENAME\n",
    "NC_FULLPATH=DATAPATH+NC_FILENAME\n",
    "pcdf=load_gencode(PC_FULLPATH,1)\n",
    "print(\"PC seqs loaded:\",len(pcdf))\n",
    "ncdf=load_gencode(NC_FULLPATH,0)\n",
    "print(\"NC seqs loaded:\",len(ncdf))"
   ]
  },
  {
   "cell_type": "code",
   "execution_count": 8,
   "metadata": {
    "id": "HfuFZhxM66no"
   },
   "outputs": [],
   "source": [
    "def uniform_length(seqs,hardlen,too_big):\n",
    "    newseqs=[]\n",
    "    pad='T'*hardlen\n",
    "    too_small=200 ## by definition of long non-coding RNA\n",
    "    for seq in seqs:\n",
    "        size=len(seq)\n",
    "        if (size>too_small and size<too_big):\n",
    "            big=seq+pad\n",
    "            little=big[:hardlen]\n",
    "            newseqs.append(little)\n",
    "    return newseqs"
   ]
  },
  {
   "cell_type": "code",
   "execution_count": 9,
   "metadata": {
    "id": "ztDZcSPW66nr"
   },
   "outputs": [],
   "source": [
    "from sklearn.model_selection import train_test_split\n",
    "pc_all = pcdf['sequence']\n",
    "nc_all = ncdf['sequence']\n",
    "# The split function also shuffles\n",
    "pc_train,pc_test=train_test_split(pc_all,test_size=0.10,random_state=1234)\n",
    "nc_train,nc_test=train_test_split(nc_all,test_size=0.10,random_state=1234)"
   ]
  },
  {
   "cell_type": "code",
   "execution_count": 10,
   "metadata": {
    "colab": {
     "base_uri": "https://localhost:8080/"
    },
    "id": "CIpTrnH6j2US",
    "outputId": "51dd14e9-0ee0-4584-b605-556110e4cb68"
   },
   "outputs": [
    {
     "name": "stdout",
     "output_type": "stream",
     "text": [
      "PC seqs ready: 44652\n",
      "NC seqs ready: 42211\n",
      "Data ready\n"
     ]
    }
   ],
   "source": [
    "# Use code from our SimTools library.\n",
    "UNIFORM_LENGTH=1000\n",
    "MAXIMUM_LENGTH=2000\n",
    "pc_seqs=uniform_length(pc_train,UNIFORM_LENGTH,MAXIMUM_LENGTH-500)\n",
    "print(\"PC seqs ready:\",len(pc_seqs))\n",
    "nc_seqs=uniform_length(nc_train,UNIFORM_LENGTH,MAXIMUM_LENGTH+2000)\n",
    "print(\"NC seqs ready:\",len(nc_seqs))\n",
    "X,y = prepare_inputs_len_x_alphabet(pc_seqs,nc_seqs,ALPHABET) # shuffles\n",
    "print(\"Data ready\")"
   ]
  },
  {
   "cell_type": "code",
   "execution_count": 11,
   "metadata": {
    "colab": {
     "base_uri": "https://localhost:8080/"
    },
    "id": "7NvrVU8ij2UU",
    "outputId": "290b8287-ac1e-4c68-d739-cac64fda64d5"
   },
   "outputs": [
    {
     "name": "stdout",
     "output_type": "stream",
     "text": [
      "make_DNN\n",
      "input shape: (1000, 4)\n",
      "Model: \"sequential\"\n",
      "_________________________________________________________________\n",
      "Layer (type)                 Output Shape              Param #   \n",
      "=================================================================\n",
      "conv1d (Conv1D)              (None, 1000, 32)          416       \n",
      "_________________________________________________________________\n",
      "conv1d_1 (Conv1D)            (None, 1000, 32)          3104      \n",
      "_________________________________________________________________\n",
      "max_pooling1d (MaxPooling1D) (None, 500, 32)           0         \n",
      "_________________________________________________________________\n",
      "conv1d_2 (Conv1D)            (None, 500, 32)           3104      \n",
      "_________________________________________________________________\n",
      "conv1d_3 (Conv1D)            (None, 500, 32)           3104      \n",
      "_________________________________________________________________\n",
      "max_pooling1d_1 (MaxPooling1 (None, 250, 32)           0         \n",
      "_________________________________________________________________\n",
      "flatten (Flatten)            (None, 8000)              0         \n",
      "_________________________________________________________________\n",
      "dense (Dense)                (None, 32)                256032    \n",
      "_________________________________________________________________\n",
      "dropout (Dropout)            (None, 32)                0         \n",
      "_________________________________________________________________\n",
      "dense_1 (Dense)              (None, 1)                 33        \n",
      "=================================================================\n",
      "Total params: 265,793\n",
      "Trainable params: 265,793\n",
      "Non-trainable params: 0\n",
      "_________________________________________________________________\n",
      "None\n"
     ]
    }
   ],
   "source": [
    "def make_DNN():\n",
    "    print(\"make_DNN\")\n",
    "    print(\"input shape:\",INPUT_SHAPE)\n",
    "    dnn = Sequential()\n",
    "    #dnn.add(Embedding(input_dim=INPUT_SHAPE,output_dim=INPUT_SHAPE)) \n",
    "    dnn.add(Conv1D(filters=FILTERS,kernel_size=WIDTH,strides=STRIDE,padding=\"same\",\n",
    "            input_shape=INPUT_SHAPE))\n",
    "    dnn.add(Conv1D(filters=FILTERS,kernel_size=WIDTH,strides=STRIDE,padding=\"same\"))\n",
    "    dnn.add(MaxPooling1D())\n",
    "    dnn.add(Conv1D(filters=FILTERS,kernel_size=WIDTH,strides=STRIDE,padding=\"same\"))\n",
    "    dnn.add(Conv1D(filters=FILTERS,kernel_size=WIDTH,strides=STRIDE,padding=\"same\"))\n",
    "    dnn.add(MaxPooling1D())\n",
    "    dnn.add(Flatten())\n",
    "    dnn.add(Dense(NEURONS,activation=\"sigmoid\",dtype=np.float32))   \n",
    "    dnn.add(Dropout(DROP_RATE))\n",
    "    dnn.add(Dense(1,activation=\"sigmoid\",dtype=np.float32))   \n",
    "    dnn.compile(optimizer='adam',\n",
    "                loss=BinaryCrossentropy(from_logits=False),\n",
    "                metrics=['accuracy'])   # add to default metrics=loss\n",
    "    dnn.build(input_shape=INPUT_SHAPE)\n",
    "    #ln_rate = tf.keras.optimizers.Adam(learning_rate = LN_RATE)\n",
    "    #bc=tf.keras.losses.BinaryCrossentropy(from_logits=False)\n",
    "    #model.compile(loss=bc, optimizer=ln_rate, metrics=[\"accuracy\"])\n",
    "    return dnn\n",
    "model = make_DNN()\n",
    "print(model.summary())"
   ]
  },
  {
   "cell_type": "code",
   "execution_count": 12,
   "metadata": {
    "id": "nlVF0hR3j2UW"
   },
   "outputs": [],
   "source": [
    "from keras.callbacks import ModelCheckpoint\n",
    "\n",
    "def do_cross_validation(X,y):\n",
    "    cv_scores = []\n",
    "    fold=0\n",
    "    mycallbacks = [ModelCheckpoint(\n",
    "        filepath=MODELPATH, save_best_only=True, \n",
    "        monitor='val_accuracy', mode='max')]   \n",
    "    splitter = KFold(n_splits=SPLITS)  # this does not shuffle\n",
    "    for train_index,valid_index in splitter.split(X):\n",
    "        if fold < FOLDS:\n",
    "            fold += 1\n",
    "            X_train=X[train_index] # inputs for training\n",
    "            y_train=y[train_index] # labels for training\n",
    "            X_valid=X[valid_index] # inputs for validation\n",
    "            y_valid=y[valid_index] # labels for validation\n",
    "            print(\"MODEL\")\n",
    "            # Call constructor on each CV. Else, continually improves the same model.\n",
    "            model = model = make_DNN()\n",
    "            print(\"FIT\")  # model.fit() implements learning\n",
    "            start_time=time.time()\n",
    "            history=model.fit(X_train, y_train, \n",
    "                    epochs=EPOCHS, \n",
    "                    verbose=1,  # ascii art while learning\n",
    "                    callbacks=mycallbacks,   # called at end of each epoch\n",
    "                    validation_data=(X_valid,y_valid))\n",
    "            end_time=time.time()\n",
    "            elapsed_time=(end_time-start_time)                        \n",
    "            print(\"Fold %d, %d epochs, %d sec\"%(fold,EPOCHS,elapsed_time))\n",
    "            # print(history.history.keys())  # all these keys will be shown in figure\n",
    "            pd.DataFrame(history.history).plot(figsize=(8,5))\n",
    "            plt.grid(True)\n",
    "            plt.gca().set_ylim(0,1) # any losses > 1 will be off the scale\n",
    "            plt.show()\n"
   ]
  },
  {
   "cell_type": "code",
   "execution_count": 13,
   "metadata": {
    "colab": {
     "base_uri": "https://localhost:8080/",
     "height": 1000
    },
    "id": "9Ggt4EsSj2UY",
    "outputId": "7a9f16b4-c3a9-47e6-c85f-718fe8920330"
   },
   "outputs": [
    {
     "name": "stdout",
     "output_type": "stream",
     "text": [
      "2021-06-04 21:01:02 UTC\n",
      "MODEL\n",
      "make_DNN\n",
      "input shape: (1000, 4)\n",
      "FIT\n",
      "Epoch 1/50\n",
      "2172/2172 [==============================] - 37s 4ms/step - loss: 0.5839 - accuracy: 0.6942 - val_loss: 0.4543 - val_accuracy: 0.7871\n",
      "INFO:tensorflow:Assets written to: BestModel/assets\n",
      "Epoch 2/50\n",
      "2172/2172 [==============================] - 9s 4ms/step - loss: 0.4390 - accuracy: 0.7949 - val_loss: 0.4004 - val_accuracy: 0.8226\n",
      "INFO:tensorflow:Assets written to: BestModel/assets\n",
      "Epoch 3/50\n",
      "2172/2172 [==============================] - 9s 4ms/step - loss: 0.3646 - accuracy: 0.8417 - val_loss: 0.3786 - val_accuracy: 0.8332\n",
      "INFO:tensorflow:Assets written to: BestModel/assets\n",
      "Epoch 4/50\n",
      "2172/2172 [==============================] - 9s 4ms/step - loss: 0.3215 - accuracy: 0.8645 - val_loss: 0.3672 - val_accuracy: 0.8437\n",
      "INFO:tensorflow:Assets written to: BestModel/assets\n",
      "Epoch 5/50\n",
      "2172/2172 [==============================] - 9s 4ms/step - loss: 0.3067 - accuracy: 0.8710 - val_loss: 0.3623 - val_accuracy: 0.8451\n",
      "INFO:tensorflow:Assets written to: BestModel/assets\n",
      "Epoch 6/50\n",
      "2172/2172 [==============================] - 9s 4ms/step - loss: 0.2913 - accuracy: 0.8778 - val_loss: 0.4326 - val_accuracy: 0.8110\n",
      "Epoch 7/50\n",
      "2172/2172 [==============================] - 9s 4ms/step - loss: 0.2927 - accuracy: 0.8771 - val_loss: 0.3588 - val_accuracy: 0.8458\n",
      "INFO:tensorflow:Assets written to: BestModel/assets\n",
      "Epoch 8/50\n",
      "2172/2172 [==============================] - 9s 4ms/step - loss: 0.2870 - accuracy: 0.8786 - val_loss: 0.3623 - val_accuracy: 0.8475\n",
      "INFO:tensorflow:Assets written to: BestModel/assets\n",
      "Epoch 9/50\n",
      "2172/2172 [==============================] - 9s 4ms/step - loss: 0.2814 - accuracy: 0.8819 - val_loss: 0.4379 - val_accuracy: 0.8132\n",
      "Epoch 10/50\n",
      "2172/2172 [==============================] - 9s 4ms/step - loss: 0.2948 - accuracy: 0.8755 - val_loss: 0.3598 - val_accuracy: 0.8435\n",
      "Epoch 11/50\n",
      "2172/2172 [==============================] - 9s 4ms/step - loss: 0.2915 - accuracy: 0.8764 - val_loss: 0.3626 - val_accuracy: 0.8413\n",
      "Epoch 12/50\n",
      "2172/2172 [==============================] - 9s 4ms/step - loss: 0.3031 - accuracy: 0.8728 - val_loss: 0.3674 - val_accuracy: 0.8382\n",
      "Epoch 13/50\n",
      "2172/2172 [==============================] - 9s 4ms/step - loss: 0.3180 - accuracy: 0.8636 - val_loss: 0.4591 - val_accuracy: 0.7984\n",
      "Epoch 14/50\n",
      "2172/2172 [==============================] - 9s 4ms/step - loss: 0.3279 - accuracy: 0.8578 - val_loss: 0.3766 - val_accuracy: 0.8367\n",
      "Epoch 15/50\n",
      "2172/2172 [==============================] - 9s 4ms/step - loss: 0.3314 - accuracy: 0.8571 - val_loss: 0.3649 - val_accuracy: 0.8377\n",
      "Epoch 16/50\n",
      "2172/2172 [==============================] - 9s 4ms/step - loss: 0.3323 - accuracy: 0.8572 - val_loss: 0.3769 - val_accuracy: 0.8322\n",
      "Epoch 17/50\n",
      "2172/2172 [==============================] - 9s 4ms/step - loss: 0.3382 - accuracy: 0.8554 - val_loss: 0.3798 - val_accuracy: 0.8307\n",
      "Epoch 18/50\n",
      "2172/2172 [==============================] - 9s 4ms/step - loss: 0.3467 - accuracy: 0.8481 - val_loss: 0.3863 - val_accuracy: 0.8326\n",
      "Epoch 19/50\n",
      "2172/2172 [==============================] - 9s 4ms/step - loss: 0.3464 - accuracy: 0.8476 - val_loss: 0.3954 - val_accuracy: 0.8301\n",
      "Epoch 20/50\n",
      "2172/2172 [==============================] - 9s 4ms/step - loss: 0.3564 - accuracy: 0.8432 - val_loss: 0.3674 - val_accuracy: 0.8407\n",
      "Epoch 21/50\n",
      "2172/2172 [==============================] - 9s 4ms/step - loss: 0.3602 - accuracy: 0.8427 - val_loss: 0.4677 - val_accuracy: 0.7936\n",
      "Epoch 22/50\n",
      "2172/2172 [==============================] - 9s 4ms/step - loss: 0.3868 - accuracy: 0.8269 - val_loss: 0.4079 - val_accuracy: 0.8148\n",
      "Epoch 23/50\n",
      "2172/2172 [==============================] - 9s 4ms/step - loss: 0.3645 - accuracy: 0.8397 - val_loss: 0.3858 - val_accuracy: 0.8316\n",
      "Epoch 24/50\n",
      "2172/2172 [==============================] - 9s 4ms/step - loss: 0.4037 - accuracy: 0.8187 - val_loss: 0.3993 - val_accuracy: 0.8178\n",
      "Epoch 25/50\n",
      "2172/2172 [==============================] - 9s 4ms/step - loss: 0.4034 - accuracy: 0.8180 - val_loss: 0.4037 - val_accuracy: 0.8192\n",
      "Epoch 26/50\n",
      "2172/2172 [==============================] - 9s 4ms/step - loss: 0.4044 - accuracy: 0.8168 - val_loss: 0.3804 - val_accuracy: 0.8347\n",
      "Epoch 27/50\n",
      "2172/2172 [==============================] - 9s 4ms/step - loss: 0.3868 - accuracy: 0.8298 - val_loss: 0.3963 - val_accuracy: 0.8191\n",
      "Epoch 28/50\n",
      "2172/2172 [==============================] - 9s 4ms/step - loss: 0.4157 - accuracy: 0.8091 - val_loss: 0.4745 - val_accuracy: 0.7761\n",
      "Epoch 29/50\n",
      "2172/2172 [==============================] - 9s 4ms/step - loss: 0.4111 - accuracy: 0.8139 - val_loss: 0.4790 - val_accuracy: 0.7721\n",
      "Epoch 30/50\n",
      "2172/2172 [==============================] - 9s 4ms/step - loss: 0.4116 - accuracy: 0.8108 - val_loss: 0.3949 - val_accuracy: 0.8199\n",
      "Epoch 31/50\n",
      "2172/2172 [==============================] - 9s 4ms/step - loss: 0.4251 - accuracy: 0.8027 - val_loss: 0.4430 - val_accuracy: 0.7889\n",
      "Epoch 32/50\n",
      "2172/2172 [==============================] - 9s 4ms/step - loss: 0.4239 - accuracy: 0.8050 - val_loss: 0.4059 - val_accuracy: 0.8183\n",
      "Epoch 33/50\n",
      "2172/2172 [==============================] - 9s 4ms/step - loss: 0.4488 - accuracy: 0.7877 - val_loss: 0.4160 - val_accuracy: 0.8098\n",
      "Epoch 34/50\n",
      "2172/2172 [==============================] - 9s 4ms/step - loss: 0.4319 - accuracy: 0.7983 - val_loss: 0.4862 - val_accuracy: 0.7719\n",
      "Epoch 35/50\n",
      "2172/2172 [==============================] - 9s 4ms/step - loss: 0.4601 - accuracy: 0.7833 - val_loss: 0.4271 - val_accuracy: 0.8021\n",
      "Epoch 36/50\n",
      "2172/2172 [==============================] - 9s 4ms/step - loss: 0.4278 - accuracy: 0.8037 - val_loss: 0.4540 - val_accuracy: 0.7820\n",
      "Epoch 37/50\n",
      "2172/2172 [==============================] - 9s 4ms/step - loss: 0.4374 - accuracy: 0.7967 - val_loss: 0.4457 - val_accuracy: 0.7900\n",
      "Epoch 38/50\n",
      "2172/2172 [==============================] - 9s 4ms/step - loss: 0.4551 - accuracy: 0.7802 - val_loss: 0.4364 - val_accuracy: 0.7992\n",
      "Epoch 39/50\n",
      "2172/2172 [==============================] - 9s 4ms/step - loss: 0.4602 - accuracy: 0.7836 - val_loss: 0.4350 - val_accuracy: 0.8015\n",
      "Epoch 40/50\n",
      "2172/2172 [==============================] - 9s 4ms/step - loss: 0.4654 - accuracy: 0.7851 - val_loss: 0.4630 - val_accuracy: 0.7866\n",
      "Epoch 41/50\n",
      "2172/2172 [==============================] - 9s 4ms/step - loss: 0.5435 - accuracy: 0.7249 - val_loss: 0.5345 - val_accuracy: 0.7250\n",
      "Epoch 42/50\n",
      "2172/2172 [==============================] - 9s 4ms/step - loss: 0.5419 - accuracy: 0.7326 - val_loss: 0.6073 - val_accuracy: 0.6859\n",
      "Epoch 43/50\n",
      "2172/2172 [==============================] - 9s 4ms/step - loss: 0.5493 - accuracy: 0.7131 - val_loss: 0.4402 - val_accuracy: 0.7969\n",
      "Epoch 44/50\n",
      "2172/2172 [==============================] - 9s 4ms/step - loss: 0.4751 - accuracy: 0.7787 - val_loss: 0.5513 - val_accuracy: 0.7179\n",
      "Epoch 45/50\n",
      "2172/2172 [==============================] - 9s 4ms/step - loss: 0.4857 - accuracy: 0.7638 - val_loss: 0.5069 - val_accuracy: 0.7477\n",
      "Epoch 46/50\n",
      "2172/2172 [==============================] - 9s 4ms/step - loss: 0.4770 - accuracy: 0.7691 - val_loss: 0.4892 - val_accuracy: 0.7637\n",
      "Epoch 47/50\n",
      "2172/2172 [==============================] - 9s 4ms/step - loss: 0.4802 - accuracy: 0.7673 - val_loss: 0.4920 - val_accuracy: 0.7627\n",
      "Epoch 48/50\n",
      "2172/2172 [==============================] - 9s 4ms/step - loss: 0.4948 - accuracy: 0.7592 - val_loss: 0.4464 - val_accuracy: 0.7920\n",
      "Epoch 49/50\n",
      "2172/2172 [==============================] - 9s 4ms/step - loss: 0.5005 - accuracy: 0.7580 - val_loss: 0.4615 - val_accuracy: 0.7839\n",
      "Epoch 50/50\n",
      "2172/2172 [==============================] - 9s 4ms/step - loss: 0.4706 - accuracy: 0.7768 - val_loss: 0.4802 - val_accuracy: 0.7668\n",
      "Fold 1, 50 epochs, 514 sec\n"
     ]
    },
    {
     "data": {
      "image/png": "[encoded data removed]",
      "text/plain": [
       "<Figure size 576x360 with 1 Axes>"
      ]
     },
     "metadata": {
      "needs_background": "light",
      "tags": []
     },
     "output_type": "display_data"
    },
    {
     "name": "stdout",
     "output_type": "stream",
     "text": [
      "MODEL\n",
      "make_DNN\n",
      "input shape: (1000, 4)\n",
      "FIT\n",
      "Epoch 1/50\n",
      "2172/2172 [==============================] - 10s 4ms/step - loss: 0.5756 - accuracy: 0.6948 - val_loss: 0.4380 - val_accuracy: 0.7984\n",
      "Epoch 2/50\n",
      "2172/2172 [==============================] - 9s 4ms/step - loss: 0.4195 - accuracy: 0.8062 - val_loss: 0.3527 - val_accuracy: 0.8491\n",
      "INFO:tensorflow:Assets written to: BestModel/assets\n",
      "Epoch 3/50\n",
      "2172/2172 [==============================] - 9s 4ms/step - loss: 0.3315 - accuracy: 0.8577 - val_loss: 0.3644 - val_accuracy: 0.8412\n",
      "Epoch 4/50\n",
      "2172/2172 [==============================] - 9s 4ms/step - loss: 0.2998 - accuracy: 0.8734 - val_loss: 0.3443 - val_accuracy: 0.8520\n",
      "INFO:tensorflow:Assets written to: BestModel/assets\n",
      "Epoch 5/50\n",
      "2172/2172 [==============================] - 9s 4ms/step - loss: 0.2768 - accuracy: 0.8861 - val_loss: 0.3420 - val_accuracy: 0.8543\n",
      "INFO:tensorflow:Assets written to: BestModel/assets\n",
      "Epoch 6/50\n",
      "2172/2172 [==============================] - 9s 4ms/step - loss: 0.2678 - accuracy: 0.8902 - val_loss: 0.3438 - val_accuracy: 0.8566\n",
      "INFO:tensorflow:Assets written to: BestModel/assets\n",
      "Epoch 7/50\n",
      "2172/2172 [==============================] - 9s 4ms/step - loss: 0.2630 - accuracy: 0.8920 - val_loss: 0.3577 - val_accuracy: 0.8459\n",
      "Epoch 8/50\n",
      "2172/2172 [==============================] - 9s 4ms/step - loss: 0.2565 - accuracy: 0.8962 - val_loss: 0.3465 - val_accuracy: 0.8536\n",
      "Epoch 9/50\n",
      "2172/2172 [==============================] - 9s 4ms/step - loss: 0.2614 - accuracy: 0.8918 - val_loss: 0.3545 - val_accuracy: 0.8518\n",
      "Epoch 10/50\n",
      "2172/2172 [==============================] - 9s 4ms/step - loss: 0.2563 - accuracy: 0.8960 - val_loss: 0.3542 - val_accuracy: 0.8520\n",
      "Epoch 11/50\n",
      "2172/2172 [==============================] - 9s 4ms/step - loss: 0.2653 - accuracy: 0.8908 - val_loss: 0.3627 - val_accuracy: 0.8494\n",
      "Epoch 12/50\n",
      "2172/2172 [==============================] - 9s 4ms/step - loss: 0.2717 - accuracy: 0.8873 - val_loss: 0.3793 - val_accuracy: 0.8406\n",
      "Epoch 13/50\n",
      "2172/2172 [==============================] - 9s 4ms/step - loss: 0.2793 - accuracy: 0.8854 - val_loss: 0.3517 - val_accuracy: 0.8538\n",
      "Epoch 14/50\n",
      "2172/2172 [==============================] - 9s 4ms/step - loss: 0.2830 - accuracy: 0.8825 - val_loss: 0.3930 - val_accuracy: 0.8360\n",
      "Epoch 15/50\n",
      "2172/2172 [==============================] - 9s 4ms/step - loss: 0.3005 - accuracy: 0.8736 - val_loss: 0.3689 - val_accuracy: 0.8442\n",
      "Epoch 16/50\n",
      "2172/2172 [==============================] - 9s 4ms/step - loss: 0.3043 - accuracy: 0.8685 - val_loss: 0.3565 - val_accuracy: 0.8441\n",
      "Epoch 17/50\n",
      "2172/2172 [==============================] - 9s 4ms/step - loss: 0.3062 - accuracy: 0.8701 - val_loss: 0.3697 - val_accuracy: 0.8388\n",
      "Epoch 18/50\n",
      "2172/2172 [==============================] - 9s 4ms/step - loss: 0.3105 - accuracy: 0.8666 - val_loss: 0.3811 - val_accuracy: 0.8273\n",
      "Epoch 19/50\n",
      "2172/2172 [==============================] - 9s 4ms/step - loss: 0.3210 - accuracy: 0.8620 - val_loss: 0.4203 - val_accuracy: 0.8133\n",
      "Epoch 20/50\n",
      "2172/2172 [==============================] - 9s 4ms/step - loss: 0.3326 - accuracy: 0.8607 - val_loss: 0.3649 - val_accuracy: 0.8441\n",
      "Epoch 21/50\n",
      "2172/2172 [==============================] - 9s 4ms/step - loss: 0.3296 - accuracy: 0.8568 - val_loss: 0.3546 - val_accuracy: 0.8444\n",
      "Epoch 22/50\n",
      "2172/2172 [==============================] - 9s 4ms/step - loss: 0.3327 - accuracy: 0.8553 - val_loss: 0.4230 - val_accuracy: 0.8150\n",
      "Epoch 23/50\n",
      "2172/2172 [==============================] - 9s 4ms/step - loss: 0.3446 - accuracy: 0.8495 - val_loss: 0.3778 - val_accuracy: 0.8362\n",
      "Epoch 24/50\n",
      "2172/2172 [==============================] - 9s 4ms/step - loss: 0.3422 - accuracy: 0.8526 - val_loss: 0.3983 - val_accuracy: 0.8246\n",
      "Epoch 25/50\n",
      "2172/2172 [==============================] - 9s 4ms/step - loss: 0.3520 - accuracy: 0.8485 - val_loss: 0.3663 - val_accuracy: 0.8399\n",
      "Epoch 26/50\n",
      "2172/2172 [==============================] - 9s 4ms/step - loss: 0.3904 - accuracy: 0.8267 - val_loss: 0.4525 - val_accuracy: 0.7943\n",
      "Epoch 27/50\n",
      "2172/2172 [==============================] - 9s 4ms/step - loss: 0.3628 - accuracy: 0.8411 - val_loss: 0.3964 - val_accuracy: 0.8210\n",
      "Epoch 28/50\n",
      "2172/2172 [==============================] - 9s 4ms/step - loss: 0.3606 - accuracy: 0.8421 - val_loss: 0.4993 - val_accuracy: 0.7827\n",
      "Epoch 29/50\n",
      "2172/2172 [==============================] - 9s 4ms/step - loss: 0.3589 - accuracy: 0.8423 - val_loss: 0.3754 - val_accuracy: 0.8341\n",
      "Epoch 30/50\n",
      "2172/2172 [==============================] - 10s 4ms/step - loss: 0.3740 - accuracy: 0.8343 - val_loss: 0.3665 - val_accuracy: 0.8352\n",
      "Epoch 31/50\n",
      "2172/2172 [==============================] - 9s 4ms/step - loss: 0.3767 - accuracy: 0.8323 - val_loss: 0.4011 - val_accuracy: 0.8171\n",
      "Epoch 32/50\n",
      "2172/2172 [==============================] - 9s 4ms/step - loss: 0.4059 - accuracy: 0.8185 - val_loss: 0.4209 - val_accuracy: 0.8153\n",
      "Epoch 33/50\n",
      "2172/2172 [==============================] - 9s 4ms/step - loss: 0.4191 - accuracy: 0.8099 - val_loss: 0.4358 - val_accuracy: 0.7987\n",
      "Epoch 34/50\n",
      "2172/2172 [==============================] - 9s 4ms/step - loss: 0.4109 - accuracy: 0.8171 - val_loss: 0.4386 - val_accuracy: 0.7951\n",
      "Epoch 35/50\n",
      "2172/2172 [==============================] - 9s 4ms/step - loss: 0.4626 - accuracy: 0.7874 - val_loss: 0.4323 - val_accuracy: 0.7965\n",
      "Epoch 36/50\n",
      "2172/2172 [==============================] - 9s 4ms/step - loss: 0.4252 - accuracy: 0.8088 - val_loss: 0.4030 - val_accuracy: 0.8166\n",
      "Epoch 37/50\n",
      "2172/2172 [==============================] - 10s 4ms/step - loss: 0.4165 - accuracy: 0.8109 - val_loss: 0.3959 - val_accuracy: 0.8222\n",
      "Epoch 38/50\n",
      "2172/2172 [==============================] - 10s 4ms/step - loss: 0.4113 - accuracy: 0.8138 - val_loss: 0.4231 - val_accuracy: 0.8096\n",
      "Epoch 39/50\n",
      "2172/2172 [==============================] - 9s 4ms/step - loss: 0.4125 - accuracy: 0.8136 - val_loss: 0.3962 - val_accuracy: 0.8225\n",
      "Epoch 40/50\n",
      "2172/2172 [==============================] - 10s 4ms/step - loss: 0.4205 - accuracy: 0.8053 - val_loss: 0.4746 - val_accuracy: 0.7796\n",
      "Epoch 41/50\n",
      "2172/2172 [==============================] - 10s 4ms/step - loss: 0.4380 - accuracy: 0.7964 - val_loss: 0.5486 - val_accuracy: 0.7283\n",
      "Epoch 42/50\n",
      "2172/2172 [==============================] - 10s 5ms/step - loss: 0.4332 - accuracy: 0.8014 - val_loss: 0.3974 - val_accuracy: 0.8209\n",
      "Epoch 43/50\n",
      "2172/2172 [==============================] - 9s 4ms/step - loss: 0.3994 - accuracy: 0.8236 - val_loss: 0.3841 - val_accuracy: 0.8330\n",
      "Epoch 44/50\n",
      "2172/2172 [==============================] - 9s 4ms/step - loss: 0.4266 - accuracy: 0.8095 - val_loss: 0.4009 - val_accuracy: 0.8177\n",
      "Epoch 45/50\n",
      "2172/2172 [==============================] - 9s 4ms/step - loss: 0.4275 - accuracy: 0.8020 - val_loss: 0.4473 - val_accuracy: 0.7959\n",
      "Epoch 46/50\n",
      "2172/2172 [==============================] - 9s 4ms/step - loss: 0.4566 - accuracy: 0.7862 - val_loss: 0.4533 - val_accuracy: 0.7898\n",
      "Epoch 47/50\n",
      "2172/2172 [==============================] - 9s 4ms/step - loss: 0.4917 - accuracy: 0.7637 - val_loss: 0.4897 - val_accuracy: 0.7658\n",
      "Epoch 48/50\n",
      "2172/2172 [==============================] - 10s 4ms/step - loss: 0.5088 - accuracy: 0.7529 - val_loss: 0.5591 - val_accuracy: 0.7051\n",
      "Epoch 49/50\n",
      "2172/2172 [==============================] - 9s 4ms/step - loss: 0.5878 - accuracy: 0.6939 - val_loss: 0.4964 - val_accuracy: 0.7618\n",
      "Epoch 50/50\n",
      "2172/2172 [==============================] - 9s 4ms/step - loss: 0.5471 - accuracy: 0.7219 - val_loss: 0.4509 - val_accuracy: 0.7922\n",
      "Fold 2, 50 epochs, 472 sec\n"
     ]
    },
    {
     "data": {
      "image/png": "[encoded data removed]",
      "text/plain": [
       "<Figure size 576x360 with 1 Axes>"
      ]
     },
     "metadata": {
      "needs_background": "light",
      "tags": []
     },
     "output_type": "display_data"
    },
    {
     "name": "stdout",
     "output_type": "stream",
     "text": [
      "MODEL\n",
      "make_DNN\n",
      "input shape: (1000, 4)\n",
      "FIT\n",
      "Epoch 1/50\n",
      "2172/2172 [==============================] - 11s 5ms/step - loss: 0.5833 - accuracy: 0.6914 - val_loss: 0.4690 - val_accuracy: 0.7774\n",
      "Epoch 2/50\n",
      "2172/2172 [==============================] - 9s 4ms/step - loss: 0.4173 - accuracy: 0.8113 - val_loss: 0.3474 - val_accuracy: 0.8496\n",
      "Epoch 3/50\n",
      "2172/2172 [==============================] - 9s 4ms/step - loss: 0.3324 - accuracy: 0.8586 - val_loss: 0.3314 - val_accuracy: 0.8572\n",
      "INFO:tensorflow:Assets written to: BestModel/assets\n",
      "Epoch 4/50\n",
      "2172/2172 [==============================] - 9s 4ms/step - loss: 0.2980 - accuracy: 0.8772 - val_loss: 0.3290 - val_accuracy: 0.8582\n",
      "INFO:tensorflow:Assets written to: BestModel/assets\n",
      "Epoch 5/50\n",
      "2172/2172 [==============================] - 9s 4ms/step - loss: 0.2765 - accuracy: 0.8865 - val_loss: 0.3416 - val_accuracy: 0.8567\n",
      "Epoch 6/50\n",
      "2172/2172 [==============================] - 9s 4ms/step - loss: 0.2625 - accuracy: 0.8927 - val_loss: 0.3349 - val_accuracy: 0.8574\n",
      "Epoch 7/50\n",
      "2172/2172 [==============================] - 9s 4ms/step - loss: 0.2618 - accuracy: 0.8929 - val_loss: 0.3424 - val_accuracy: 0.8532\n",
      "Epoch 8/50\n",
      "2172/2172 [==============================] - 9s 4ms/step - loss: 0.2598 - accuracy: 0.8944 - val_loss: 0.3471 - val_accuracy: 0.8548\n",
      "Epoch 9/50\n",
      "2172/2172 [==============================] - 9s 4ms/step - loss: 0.2596 - accuracy: 0.8913 - val_loss: 0.3528 - val_accuracy: 0.8497\n",
      "Epoch 10/50\n",
      "2172/2172 [==============================] - 9s 4ms/step - loss: 0.2631 - accuracy: 0.8911 - val_loss: 0.3863 - val_accuracy: 0.8379\n",
      "Epoch 11/50\n",
      "2172/2172 [==============================] - 10s 4ms/step - loss: 0.2713 - accuracy: 0.8860 - val_loss: 0.3763 - val_accuracy: 0.8417\n",
      "Epoch 12/50\n",
      "2172/2172 [==============================] - 9s 4ms/step - loss: 0.2759 - accuracy: 0.8864 - val_loss: 0.3550 - val_accuracy: 0.8471\n",
      "Epoch 13/50\n",
      "2172/2172 [==============================] - 9s 4ms/step - loss: 0.2747 - accuracy: 0.8855 - val_loss: 0.3984 - val_accuracy: 0.8288\n",
      "Epoch 14/50\n",
      "2172/2172 [==============================] - 9s 4ms/step - loss: 0.2869 - accuracy: 0.8797 - val_loss: 0.3475 - val_accuracy: 0.8529\n",
      "Epoch 15/50\n",
      "2172/2172 [==============================] - 9s 4ms/step - loss: 0.2861 - accuracy: 0.8802 - val_loss: 0.3837 - val_accuracy: 0.8364\n",
      "Epoch 16/50\n",
      "2172/2172 [==============================] - 9s 4ms/step - loss: 0.2941 - accuracy: 0.8749 - val_loss: 0.4446 - val_accuracy: 0.8074\n",
      "Epoch 17/50\n",
      "2172/2172 [==============================] - 9s 4ms/step - loss: 0.3097 - accuracy: 0.8702 - val_loss: 0.3549 - val_accuracy: 0.8446\n",
      "Epoch 18/50\n",
      "2172/2172 [==============================] - 10s 4ms/step - loss: 0.3116 - accuracy: 0.8656 - val_loss: 0.3573 - val_accuracy: 0.8460\n",
      "Epoch 19/50\n",
      "2172/2172 [==============================] - 10s 4ms/step - loss: 0.3219 - accuracy: 0.8635 - val_loss: 0.4072 - val_accuracy: 0.8204\n",
      "Epoch 20/50\n",
      "2172/2172 [==============================] - 10s 4ms/step - loss: 0.3300 - accuracy: 0.8572 - val_loss: 0.3651 - val_accuracy: 0.8400\n",
      "Epoch 21/50\n",
      "2172/2172 [==============================] - 9s 4ms/step - loss: 0.3249 - accuracy: 0.8611 - val_loss: 0.3677 - val_accuracy: 0.8391\n",
      "Epoch 22/50\n",
      "2172/2172 [==============================] - 10s 4ms/step - loss: 0.3295 - accuracy: 0.8561 - val_loss: 0.3760 - val_accuracy: 0.8330\n",
      "Epoch 23/50\n",
      "2172/2172 [==============================] - 9s 4ms/step - loss: 0.3478 - accuracy: 0.8493 - val_loss: 0.3619 - val_accuracy: 0.8387\n",
      "Epoch 24/50\n",
      "2172/2172 [==============================] - 9s 4ms/step - loss: 0.3439 - accuracy: 0.8470 - val_loss: 0.3736 - val_accuracy: 0.8389\n",
      "Epoch 25/50\n",
      "2172/2172 [==============================] - 9s 4ms/step - loss: 0.3419 - accuracy: 0.8516 - val_loss: 0.3811 - val_accuracy: 0.8296\n",
      "Epoch 26/50\n",
      "2172/2172 [==============================] - 9s 4ms/step - loss: 0.3614 - accuracy: 0.8446 - val_loss: 0.3956 - val_accuracy: 0.8237\n",
      "Epoch 27/50\n",
      "2172/2172 [==============================] - 9s 4ms/step - loss: 0.3655 - accuracy: 0.8403 - val_loss: 0.3728 - val_accuracy: 0.8288\n",
      "Epoch 28/50\n",
      "2172/2172 [==============================] - 10s 4ms/step - loss: 0.3717 - accuracy: 0.8367 - val_loss: 0.3893 - val_accuracy: 0.8257\n",
      "Epoch 29/50\n",
      "2172/2172 [==============================] - 10s 4ms/step - loss: 0.3778 - accuracy: 0.8348 - val_loss: 0.3888 - val_accuracy: 0.8314\n",
      "Epoch 30/50\n",
      "2172/2172 [==============================] - 9s 4ms/step - loss: 0.3919 - accuracy: 0.8266 - val_loss: 0.4010 - val_accuracy: 0.8216\n",
      "Epoch 31/50\n",
      "2172/2172 [==============================] - 10s 4ms/step - loss: 0.4002 - accuracy: 0.8222 - val_loss: 0.4307 - val_accuracy: 0.8018\n",
      "Epoch 32/50\n",
      "2172/2172 [==============================] - 10s 4ms/step - loss: 0.4014 - accuracy: 0.8204 - val_loss: 0.4351 - val_accuracy: 0.8054\n",
      "Epoch 33/50\n",
      "2172/2172 [==============================] - 9s 4ms/step - loss: 0.4019 - accuracy: 0.8172 - val_loss: 0.3944 - val_accuracy: 0.8232\n",
      "Epoch 34/50\n",
      "2172/2172 [==============================] - 10s 4ms/step - loss: 0.4077 - accuracy: 0.8172 - val_loss: 0.4338 - val_accuracy: 0.7961\n",
      "Epoch 35/50\n",
      "2172/2172 [==============================] - 10s 4ms/step - loss: 0.4131 - accuracy: 0.8097 - val_loss: 0.4348 - val_accuracy: 0.7964\n",
      "Epoch 36/50\n",
      "2172/2172 [==============================] - 10s 4ms/step - loss: 0.4126 - accuracy: 0.8104 - val_loss: 0.3909 - val_accuracy: 0.8270\n",
      "Epoch 37/50\n",
      "2172/2172 [==============================] - 9s 4ms/step - loss: 0.4242 - accuracy: 0.8106 - val_loss: 0.4153 - val_accuracy: 0.8107\n",
      "Epoch 38/50\n",
      "2172/2172 [==============================] - 9s 4ms/step - loss: 0.4249 - accuracy: 0.8102 - val_loss: 0.4183 - val_accuracy: 0.8144\n",
      "Epoch 39/50\n",
      "2172/2172 [==============================] - 9s 4ms/step - loss: 0.4259 - accuracy: 0.8101 - val_loss: 0.4417 - val_accuracy: 0.7903\n",
      "Epoch 40/50\n",
      "2172/2172 [==============================] - 9s 4ms/step - loss: 0.4317 - accuracy: 0.8040 - val_loss: 0.4499 - val_accuracy: 0.7920\n",
      "Epoch 41/50\n",
      "2172/2172 [==============================] - 9s 4ms/step - loss: 0.4366 - accuracy: 0.8012 - val_loss: 0.4079 - val_accuracy: 0.8151\n",
      "Epoch 42/50\n",
      "2172/2172 [==============================] - 10s 4ms/step - loss: 0.4302 - accuracy: 0.8057 - val_loss: 0.4641 - val_accuracy: 0.7782\n",
      "Epoch 43/50\n",
      "2172/2172 [==============================] - 9s 4ms/step - loss: 0.4309 - accuracy: 0.8018 - val_loss: 0.4024 - val_accuracy: 0.8182\n",
      "Epoch 44/50\n",
      "2172/2172 [==============================] - 10s 4ms/step - loss: 0.4136 - accuracy: 0.8132 - val_loss: 0.4260 - val_accuracy: 0.8009\n",
      "Epoch 45/50\n",
      "2172/2172 [==============================] - 10s 4ms/step - loss: 0.4475 - accuracy: 0.7904 - val_loss: 0.4353 - val_accuracy: 0.7995\n",
      "Epoch 46/50\n",
      "2172/2172 [==============================] - 9s 4ms/step - loss: 0.4721 - accuracy: 0.7860 - val_loss: 0.4321 - val_accuracy: 0.7989\n",
      "Epoch 47/50\n",
      "2172/2172 [==============================] - 9s 4ms/step - loss: 0.4618 - accuracy: 0.7847 - val_loss: 0.4222 - val_accuracy: 0.8094\n",
      "Epoch 48/50\n",
      "2172/2172 [==============================] - 9s 4ms/step - loss: 0.4454 - accuracy: 0.7945 - val_loss: 0.4217 - val_accuracy: 0.8045\n",
      "Epoch 49/50\n",
      "2172/2172 [==============================] - 10s 4ms/step - loss: 0.4200 - accuracy: 0.8103 - val_loss: 0.4260 - val_accuracy: 0.8037\n",
      "Epoch 50/50\n",
      "2172/2172 [==============================] - 10s 4ms/step - loss: 0.4646 - accuracy: 0.7837 - val_loss: 0.4532 - val_accuracy: 0.7852\n",
      "Fold 3, 50 epochs, 476 sec\n"
     ]
    },
    {
     "data": {
      "image/png": "[encoded data removed]",
      "text/plain": [
       "<Figure size 576x360 with 1 Axes>"
      ]
     },
     "metadata": {
      "needs_background": "light",
      "tags": []
     },
     "output_type": "display_data"
    },
    {
     "name": "stdout",
     "output_type": "stream",
     "text": [
      "2021-06-04 21:25:27 UTC\n"
     ]
    }
   ],
   "source": [
    "show_time()\n",
    "do_cross_validation(X,y)\n",
    "show_time()"
   ]
  },
  {
   "cell_type": "code",
   "execution_count": 13,
   "metadata": {
    "id": "aWn0SWiG66n2"
   },
   "outputs": [],
   "source": []
  }
 ],
 "metadata": {
  "accelerator": "GPU",
  "colab": {
   "collapsed_sections": [],
   "name": "GenCode_CNN_203.ipynb",
   "provenance": []
  },
  "kernelspec": {
   "display_name": "Python 3",
   "language": "python",
   "name": "python3"
  },
  "language_info": {
   "codemirror_mode": {
    "name": "ipython",
    "version": 3
   },
   "file_extension": ".py",
   "mimetype": "text/x-python",
   "name": "python",
   "nbconvert_exporter": "python",
   "pygments_lexer": "ipython3",
   "version": "3.8.3"
  }
 },
 "nbformat": 4,
 "nbformat_minor": 1
}
