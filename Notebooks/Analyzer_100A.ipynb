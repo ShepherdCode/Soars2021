{
  "nbformat": 4,
  "nbformat_minor": 0,
  "metadata": {
    "colab": {
      "name": "Analyzer_100A.ipynb",
      "provenance": [],
      "collapsed_sections": []
    },
    "kernelspec": {
      "name": "python3",
      "display_name": "Python 3"
    },
    "language_info": {
      "name": "python"
    }
  },
  "cells": [
    {
      "cell_type": "code",
      "metadata": {
        "colab": {
          "base_uri": "https://localhost:8080/"
        },
        "id": "DpmLPhjy4VcV",
        "outputId": "7eaa9c7f-652f-446f-a47e-e7837e30655e"
      },
      "source": [
        "import numpy as np\n",
        "import matplotlib.pyplot as plt\n",
        "\n",
        "import pandas as pd\n",
        "import gzip\n",
        "from scipy.stats import chisquare, kstest, spearmanr\n",
        "import scipy.stats as ss\n",
        "import sys\n",
        "try:\n",
        "    from google.colab import drive\n",
        "    IN_COLAB = True\n",
        "    print(\"On Google CoLab, mount cloud-local file, get our code from GitHub.\")\n",
        "    PATH='/content/drive/'\n",
        "    #drive.mount(PATH,force_remount=True)  # hardly ever need this\n",
        "    drive.mount(PATH)    # Google will require login credentials\n",
        "    DATAPATH=PATH+'My Drive/data/'  # must end in \"/\"\n",
        "    import requests\n",
        "    s = requests.get('https://raw.githubusercontent.com/ShepherdCode/Soars2021/master/SimTools/RNA_describe.py')\n",
        "    with open('RNA_describe.py', 'w') as f:\n",
        "      f.write(s.text)  # writes to cloud local, delete the file later?\n",
        "    s = requests.get('https://raw.githubusercontent.com/ShepherdCode/Soars2021/master/SimTools/GenCodeTools.py')\n",
        "    with open ('GenCodeTools.py', 'w') as f:\n",
        "      f.write(s.text)\n",
        "    s = requests.get('https://raw.githubusercontent.com/ShepherdCode/Soars2021/master/SimTools/plot_generator.py')\n",
        "    with open('plot_generator.py', 'w') as f:\n",
        "      f.write(s.text)\n",
        "    s = requests.get('https://raw.githubusercontent.com/ShepherdCode/Soars2021/master/SimTools/KmerTools.py')\n",
        "    with open('KmerTools.py', 'w') as f:\n",
        "      f.write(s.text)  \n",
        "    from KmerTools import KmerTools\n",
        "    from RNA_describe import *\n",
        "    from GenCodeTools import *\n",
        "    from plot_generator import *\n",
        "except:\n",
        "    print(\"CoLab not working. On my PC, use relative paths.\")\n",
        "    IN_COLAB = False\n",
        "    DATAPATH='../data/'  # must end in \"/\"\n",
        "    sys.path.append(\"..\") # append parent dir in order to use sibling dirs\n",
        "    from SimTools.RNA_describe import *\n",
        "    from SimTools.GenCodeTools import *\n",
        "    from SimTools.plot_generator import *\n",
        "    from SimTools.KmerTools import KmerTools\n",
        "\n",
        "MODELPATH=\"BestModel\"  # saved on cloud instance and lost after logout\n",
        "#MODELPATH=DATAPATH+MODELPATH  # saved on Google Drive but requires login\n",
        "\n",
        "if not assert_imported_RNA_describe():\n",
        "    print(\"ERROR: Cannot use RNA_describe.\")"
      ],
      "execution_count": 2,
      "outputs": [
        {
          "output_type": "stream",
          "text": [
            "On Google CoLab, mount cloud-local file, get our code from GitHub.\n",
            "Mounted at /content/drive/\n"
          ],
          "name": "stdout"
        }
      ]
    },
    {
      "cell_type": "code",
      "metadata": {
        "id": "B89Zqob2401y"
      },
      "source": [
        ""
      ],
      "execution_count": 2,
      "outputs": []
    },
    {
      "cell_type": "code",
      "metadata": {
        "colab": {
          "base_uri": "https://localhost:8080/"
        },
        "id": "37JnfHgWt_-U",
        "outputId": "0b567fb7-9007-4730-a3f6-df7f3e139174"
      },
      "source": [
        "PC_FILENAME='gencode.v38.pc_transcripts.fa.gz'\n",
        "NC_FILENAME='gencode.v38.lncRNA_transcripts.fa.gz'\n",
        "PC_FULLPATH=DATAPATH+PC_FILENAME\n",
        "NC_FULLPATH=DATAPATH+NC_FILENAME\n",
        "loader=GenCodeLoader()\n",
        "loader.set_label(1)\n",
        "loader.set_check_list(None) \n",
        "loader.set_check_utr(True)\n",
        "pcdf=loader.load_file(PC_FULLPATH)\n",
        "print(\"PC seqs loaded:\",len(pcdf))\n",
        "loader.set_label(0)\n",
        "loader.set_check_list(None)\n",
        "loader.set_check_utr(False)\n",
        "ncdf=loader.load_file(NC_FULLPATH)\n",
        "print(\"NC seqs loaded:\",len(ncdf))"
      ],
      "execution_count": 3,
      "outputs": [
        {
          "output_type": "stream",
          "text": [
            "PC seqs loaded: 70825\n",
            "NC seqs loaded: 48752\n"
          ],
          "name": "stdout"
        }
      ]
    },
    {
      "cell_type": "code",
      "metadata": {
        "id": "gf6DhZho5HqA"
      },
      "source": [
        "APPLY_SUBSET = True             #Option to subset the data\n",
        "MINIMUM_SEQUENCE_LENGTH = 0     #Minimum inclusive length to filter out sequences by\n",
        "MAXIMUM_SEQUENCE_LENGTH = 4000  #Maximum inclusive length to filter out sequences by\n",
        "SAMPLE_FRACTION = 0.5           #What fraction of the GenCode data set to take a sample of\n",
        "REPRODUCABILITY_SEED = 314159   #Use to reproduce random sampling"
      ],
      "execution_count": 4,
      "outputs": []
    },
    {
      "cell_type": "code",
      "metadata": {
        "id": "HpG9nNZv5NTL"
      },
      "source": [
        "def subset_list_by_len_bounds(input_list, min_len, max_len):\n",
        "  return list(filter(lambda x: len(x) > min_len and len(x) <= max_len, input_list))"
      ],
      "execution_count": 5,
      "outputs": []
    },
    {
      "cell_type": "code",
      "metadata": {
        "colab": {
          "base_uri": "https://localhost:8080/"
        },
        "id": "RdCVTYP55Qh-",
        "outputId": "318b9345-c66e-4b68-e5a3-06ae0b6e999f"
      },
      "source": [
        "pc_sequences = pcdf['sequence'].tolist()\n",
        "nc_sequences = ncdf['sequence'].tolist()\n",
        "\n",
        "if APPLY_SUBSET:\n",
        "  pc_sequences = subset_list_by_len_bounds(pc_sequences, MINIMUM_SEQUENCE_LENGTH, MAXIMUM_SEQUENCE_LENGTH)\n",
        "  nc_sequences = subset_list_by_len_bounds(nc_sequences, MINIMUM_SEQUENCE_LENGTH, MAXIMUM_SEQUENCE_LENGTH)\n",
        "\n",
        "  print('PC seqs in length range','('+str(MINIMUM_SEQUENCE_LENGTH),'-',str(MAXIMUM_SEQUENCE_LENGTH)+'):', len(pc_sequences))\n",
        "  print('NC seqs in length range','('+str(MINIMUM_SEQUENCE_LENGTH),'-',str(MAXIMUM_SEQUENCE_LENGTH)+'):', len(nc_sequences))\n",
        "\n",
        "#Garbage collection\n",
        "pcdf = None\n",
        "ncdf = None"
      ],
      "execution_count": 6,
      "outputs": [
        {
          "output_type": "stream",
          "text": [
            "PC seqs in length range (0 - 4000): 55384\n",
            "NC seqs in length range (0 - 4000): 47200\n"
          ],
          "name": "stdout"
        }
      ]
    },
    {
      "cell_type": "markdown",
      "metadata": {
        "id": "iLfKrsj_5ifH"
      },
      "source": [
        "## Firstly, we will compare within the mRNA with their own kinds to see how corelated they are.  We will take 1000 samples and try to compute 1000*999 coefficient."
      ]
    },
    {
      "cell_type": "code",
      "metadata": {
        "id": "XgRcqB0eyIEt"
      },
      "source": [
        "list_pc = random.sample(pc_sequences,100)\n",
        "list_nc = random.sample(nc_sequences, 100)"
      ],
      "execution_count": 8,
      "outputs": []
    },
    {
      "cell_type": "code",
      "metadata": {
        "id": "05G1yqnHsNdn"
      },
      "source": [
        "tool = KmerTools()\n",
        "def getSpearman(sequence_one, sequence_two, kmer_count):\n",
        "  spearman = []\n",
        " \n",
        "  for seq_one in sequence_one:\n",
        "    for seq_two in sequence_two:\n",
        "      make_count_one = tool.make_dict_upto_K(kmer_count)\n",
        "      tool.update_count_one_K(make_count_one,kmer_count, seq_one)\n",
        "      frequency_one = tool.count_to_frequency(make_count_one, kmer_count,)\n",
        "      vals_one = list(frequency_one.values())\n",
        "     \n",
        "\n",
        "      make_count_two = tool.make_dict_upto_K(kmer_count)\n",
        "      tool.update_count_one_K(make_count_two,kmer_count, seq_two)\n",
        "      frequency_two = tool.count_to_frequency(make_count_two, kmer_count)\n",
        "      vals_two = list(frequency_two.values())\n",
        "\n",
        "      coeff, p = spearmanr(vals_one, vals_two)\n",
        "      if(coeff!=1):\n",
        "        spearman.append(coeff)\n",
        "  return spearman\n",
        "\n",
        "\n",
        "\n",
        "      "
      ],
      "execution_count": 9,
      "outputs": []
    },
    {
      "cell_type": "code",
      "metadata": {
        "id": "KuzcnGst2CbQ"
      },
      "source": [
        "coeff_two_nc= getSpearman(list_nc, list_nc,3)\n",
        "coeff_two_pc = getSpearman(list_pc, list_pc, 3)\n",
        "coeff_pc_nc = getSpearman(list_pc, list_nc, 3)\n"
      ],
      "execution_count": 11,
      "outputs": []
    },
    {
      "cell_type": "code",
      "metadata": {
        "colab": {
          "base_uri": "https://localhost:8080/",
          "height": 336
        },
        "id": "ag06besx649B",
        "outputId": "4ac1fec3-7d6a-4e01-9a36-cc0c1d3c6f85"
      },
      "source": [
        "my_dict = {'PC VS PC': coeff_two_pc, 'NC VS NC': coeff_two_nc, 'PC VS NC': coeff_pc_nc}\n",
        "\n",
        "fig, ax = plt.subplots()\n",
        "ax.boxplot(my_dict.values())\n",
        "ax.set_xticklabels(my_dict.keys())"
      ],
      "execution_count": 12,
      "outputs": [
        {
          "output_type": "stream",
          "text": [
            "/usr/local/lib/python3.7/dist-packages/numpy/core/_asarray.py:83: VisibleDeprecationWarning: Creating an ndarray from ragged nested sequences (which is a list-or-tuple of lists-or-tuples-or ndarrays with different lengths or shapes) is deprecated. If you meant to do this, you must specify 'dtype=object' when creating the ndarray\n",
            "  return array(a, dtype, copy=False, order=order)\n"
          ],
          "name": "stderr"
        },
        {
          "output_type": "execute_result",
          "data": {
            "text/plain": [
              "[Text(0, 0, 'PC VS PC'), Text(0, 0, 'NC VS NC'), Text(0, 0, 'PC VS NC')]"
            ]
          },
          "metadata": {
            "tags": []
          },
          "execution_count": 12
        },
        {
          "output_type": "display_data",
          "data": {
            "image/png": "[encoded data removed]",
            "text/plain": [
              "<Figure size 432x288 with 1 Axes>"
            ]
          },
          "metadata": {
            "tags": [],
            "needs_background": "light"
          }
        }
      ]
    }
  ]
}