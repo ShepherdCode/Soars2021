{
 "cells": [
  {
   "cell_type": "markdown",
   "metadata": {
    "id": "0asdcdunj2Tx"
   },
   "source": [
    "# ORF recognition by Convolutional/Recurrent\n",
    "\n",
    "Based on ORF_CNN_118 but model is now CNN+LSTM. Specifically 2x16 CNN and 2x16 LSTM and 1x16 Dense. Use a much larger training set and many more epochs. Achieve 96% accuracy."
   ]
  },
  {
   "cell_type": "code",
   "execution_count": 1,
   "metadata": {
    "colab": {
     "base_uri": "https://localhost:8080/",
     "height": 36
    },
    "id": "QP1VTRNQj2UO",
    "outputId": "4686caa8-2d07-4ef2-cda6-7126795bbe29"
   },
   "outputs": [
    {
     "data": {
      "application/vnd.google.colaboratory.intrinsic+json": {
       "type": "string"
      },
      "text/plain": [
       "'2021-06-17 15:39:43 UTC'"
      ]
     },
     "execution_count": 1,
     "metadata": {
      "tags": []
     },
     "output_type": "execute_result"
    }
   ],
   "source": [
    "import time \n",
    "t = time.time()\n",
    "time.strftime('%Y-%m-%d %H:%M:%S %Z', time.localtime(t))"
   ]
  },
  {
   "cell_type": "code",
   "execution_count": 2,
   "metadata": {
    "id": "Nhz4GKonj2T_"
   },
   "outputs": [],
   "source": [
    "PC_SEQUENCES=32000   # how many protein-coding sequences\n",
    "NC_SEQUENCES=32000   # how many non-coding sequences\n",
    "PC_TESTS=1000\n",
    "NC_TESTS=1000\n",
    "RNA_LEN=36            # how long is each sequence\n",
    "CDS_LEN=18            # min CDS len to be coding\n",
    "ALPHABET=4          # how many different letters are possible\n",
    "INPUT_SHAPE_2D = (RNA_LEN,ALPHABET,1) # Conv2D needs 3D inputs\n",
    "INPUT_SHAPE = (RNA_LEN,ALPHABET) # Conv1D needs 2D inputs\n",
    "FILTERS = 16   # how many different patterns the model looks for\n",
    "CELLS = 16\n",
    "NEURONS = 16\n",
    "DROP_RATE = 0.4\n",
    "WIDTH = 3   # how wide each pattern is, in bases\n",
    "STRIDE_2D = (1,1)  # For Conv2D how far in each direction\n",
    "STRIDE = 1 # For Conv1D, how far between pattern matches, in bases\n",
    "EPOCHS=50  # how many times to train on all the data\n",
    "SPLITS=3  # SPLITS=3 means train on 2/3 and validate on 1/3 \n",
    "FOLDS=3  # train the model this many times (range 1 to SPLITS)"
   ]
  },
  {
   "cell_type": "code",
   "execution_count": 3,
   "metadata": {
    "colab": {
     "base_uri": "https://localhost:8080/"
    },
    "id": "lr7q90rxj2UE",
    "outputId": "9e2d0890-95c8-407e-fb35-3efed43a94e4"
   },
   "outputs": [
    {
     "name": "stdout",
     "output_type": "stream",
     "text": [
      "On Google CoLab, mount cloud-local file, get our code from GitHub.\n"
     ]
    }
   ],
   "source": [
    "import sys\n",
    "try:\n",
    "    from google.colab import drive\n",
    "    IN_COLAB = True\n",
    "    print(\"On Google CoLab, mount cloud-local file, get our code from GitHub.\")\n",
    "    PATH='/content/drive/'\n",
    "    #drive.mount(PATH,force_remount=True)  # hardly ever need this\n",
    "    #drive.mount(PATH)    # Google will require login credentials\n",
    "    DATAPATH=PATH+'My Drive/data/'  # must end in \"/\"\n",
    "    import requests\n",
    "    r = requests.get('https://raw.githubusercontent.com/ShepherdCode/Soars2021/master/SimTools/RNA_gen.py')\n",
    "    with open('RNA_gen.py', 'w') as f:\n",
    "        f.write(r.text)  \n",
    "    from RNA_gen import *\n",
    "    r = requests.get('https://raw.githubusercontent.com/ShepherdCode/Soars2021/master/SimTools/RNA_describe.py')\n",
    "    with open('RNA_describe.py', 'w') as f:\n",
    "        f.write(r.text)  \n",
    "    from RNA_describe import ORF_counter\n",
    "    r = requests.get('https://raw.githubusercontent.com/ShepherdCode/Soars2021/master/SimTools/RNA_prep.py')\n",
    "    with open('RNA_prep.py', 'w') as f:\n",
    "        f.write(r.text)  \n",
    "    from RNA_prep import *\n",
    "except:\n",
    "    print(\"CoLab not working. On my PC, use relative paths.\")\n",
    "    IN_COLAB = False\n",
    "    DATAPATH='data/'  # must end in \"/\"\n",
    "    sys.path.append(\"..\") # append parent dir in order to use sibling dirs\n",
    "    from SimTools.RNA_gen import *\n",
    "    from SimTools.RNA_describe import ORF_counter\n",
    "    from SimTools.RNA_prep import *\n",
    "\n",
    "MODELPATH=\"BestModel\"  # saved on cloud instance and lost after logout\n",
    "#MODELPATH=DATAPATH+MODELPATH  # saved on Google Drive but requires login\n",
    "\n",
    "if not assert_imported_RNA_gen():\n",
    "    print(\"ERROR: Cannot use RNA_gen.\")\n",
    "if not assert_imported_RNA_prep():\n",
    "    print(\"ERROR: Cannot use RNA_prep.\")"
   ]
  },
  {
   "cell_type": "code",
   "execution_count": 4,
   "metadata": {
    "id": "EGDXH8Uwj2UM"
   },
   "outputs": [],
   "source": [
    "from os import listdir\n",
    "import csv\n",
    "from zipfile import ZipFile\n",
    "\n",
    "import numpy as np\n",
    "import pandas as pd\n",
    "from scipy import stats  # mode\n",
    "\n",
    "from sklearn.preprocessing import StandardScaler\n",
    "from sklearn.model_selection import KFold\n",
    "from sklearn.model_selection import cross_val_score\n",
    "\n",
    "from keras.models import Sequential\n",
    "from keras.layers import Dense,Embedding,Dropout\n",
    "from keras.layers import Conv1D,Conv2D\n",
    "from keras.layers import GRU,LSTM\n",
    "from keras.layers import Flatten,TimeDistributed\n",
    "from keras.layers import MaxPooling1D,MaxPooling2D\n",
    "from keras.losses import BinaryCrossentropy\n",
    "# tf.keras.losses.BinaryCrossentropy\n",
    "\n",
    "import matplotlib.pyplot as plt\n",
    "from matplotlib import colors\n",
    "mycmap = colors.ListedColormap(['red','blue'])  # list color for label 0 then 1\n",
    "np.set_printoptions(precision=2)\n"
   ]
  },
  {
   "cell_type": "code",
   "execution_count": 5,
   "metadata": {
    "colab": {
     "base_uri": "https://localhost:8080/"
    },
    "id": "CUOG_jEvGtOm",
    "outputId": "20ad6ba7-b275-497d-fdc5-8567a42e13ab"
   },
   "outputs": [
    {
     "name": "stdout",
     "output_type": "stream",
     "text": [
      "It took 48 trials to reach 10 per class.\n",
      "It took 92245 trials to reach 33000 per class.\n",
      "Use 33000 PC seqs\n",
      "Use 33000 NC seqs\n"
     ]
    }
   ],
   "source": [
    "import random\n",
    "def partition_random_sequences(goal_per_class):\n",
    "    pc_seqs=[]\n",
    "    nc_seqs=[]\n",
    "    oc = ORF_counter()\n",
    "    trials = 0\n",
    "    pc_cnt = 0\n",
    "    nc_cnt = 0\n",
    "    bases=['A','C','G','T']\n",
    "    while pc_cnt<goal_per_class or nc_cnt<goal_per_class:\n",
    "        trials += 1        \n",
    "        between_bases = random.randint(0,RNA_LEN-6) \n",
    "        utr5_bases = (RNA_LEN - (between_bases + 6)) // 2\n",
    "        utr3_bases = RNA_LEN - (utr5_bases + (between_bases+6))\n",
    "        one_seq  = \"\".join(random.choices(bases,k=utr5_bases)) \n",
    "        one_seq += 'ATG'    \n",
    "        one_seq += \"\".join(random.choices(bases,k=between_bases)) \n",
    "        random_stop = random.choice(['TAA','TAG','TGA']) # random frame\n",
    "        one_seq += random_stop\n",
    "        one_seq += \"\".join(random.choices(bases,k=utr3_bases))  \n",
    "        if len(one_seq) != RNA_LEN:\n",
    "            print(\"WRONG LENGTH:\",len(one_seq),utr5_bases,between_bases,utr3_bases)\n",
    "        oc.set_sequence(one_seq)\n",
    "        cds_len = oc.get_max_cds_len() + 3\n",
    "        if cds_len >= CDS_LEN and pc_cnt<goal_per_class:\n",
    "            pc_cnt += 1\n",
    "            pc_seqs.append(one_seq)\n",
    "        elif cds_len < CDS_LEN and nc_cnt<goal_per_class:\n",
    "            nc_cnt += 1\n",
    "            nc_seqs.append(one_seq)\n",
    "    print (\"It took %d trials to reach %d per class.\"%(trials,goal_per_class))\n",
    "    return pc_seqs,nc_seqs\n",
    "pc_all,nc_all=partition_random_sequences(10)  # just testing\n",
    "pc_all,nc_all=partition_random_sequences(PC_SEQUENCES+PC_TESTS)\n",
    "print(\"Use\",len(pc_all),\"PC seqs\")\n",
    "print(\"Use\",len(nc_all),\"NC seqs\")"
   ]
  },
  {
   "cell_type": "code",
   "execution_count": 6,
   "metadata": {
    "colab": {
     "base_uri": "https://localhost:8080/"
    },
    "id": "Q-BmSXi2jUyl",
    "outputId": "28ea2ea3-2efc-4280-dc45-8a02619f1f1a"
   },
   "outputs": [
    {
     "name": "stdout",
     "output_type": "stream",
     "text": [
      "Simulated sequences prior to adjustment:\n",
      "PC seqs\n",
      "Average RNA length: 36.0\n",
      "Average ORF length: 20.055818181818182\n",
      "NC seqs\n",
      "Average RNA length: 36.0\n",
      "Average ORF length: 1.9825454545454546\n"
     ]
    }
   ],
   "source": [
    "# Describe the sequences\n",
    "def describe_sequences(list_of_seq):\n",
    "    oc = ORF_counter()\n",
    "    num_seq = len(list_of_seq)\n",
    "    rna_lens = np.zeros(num_seq)\n",
    "    orf_lens = np.zeros(num_seq)\n",
    "    for i in range(0,num_seq):\n",
    "        rna_len = len(list_of_seq[i])\n",
    "        rna_lens[i] = rna_len\n",
    "        oc.set_sequence(list_of_seq[i])\n",
    "        orf_len = oc.get_max_orf_len()\n",
    "        orf_lens[i] = orf_len\n",
    "    print (\"Average RNA length:\",rna_lens.mean())\n",
    "    print (\"Average ORF length:\",orf_lens.mean())\n",
    "    \n",
    "print(\"Simulated sequences prior to adjustment:\")\n",
    "print(\"PC seqs\")\n",
    "describe_sequences(pc_all)\n",
    "print(\"NC seqs\")\n",
    "describe_sequences(nc_all)"
   ]
  },
  {
   "cell_type": "code",
   "execution_count": 7,
   "metadata": {
    "id": "iP1y7-J3jUys"
   },
   "outputs": [],
   "source": [
    "pc_train=pc_all[:PC_SEQUENCES]\n",
    "nc_train=nc_all[:NC_SEQUENCES]\n",
    "pc_test=pc_all[PC_SEQUENCES:]\n",
    "nc_test=nc_all[NC_SEQUENCES:]"
   ]
  },
  {
   "cell_type": "code",
   "execution_count": 8,
   "metadata": {
    "colab": {
     "base_uri": "https://localhost:8080/"
    },
    "id": "CIpTrnH6j2US",
    "outputId": "48b59b55-0868-4c5a-ec46-8f2232102fae"
   },
   "outputs": [
    {
     "name": "stdout",
     "output_type": "stream",
     "text": [
      "Data ready.\n"
     ]
    }
   ],
   "source": [
    "# Use code from our SimTools library.\n",
    "X,y = prepare_inputs_len_x_alphabet(pc_train,nc_train,ALPHABET) # shuffles\n",
    "print(\"Data ready.\")"
   ]
  },
  {
   "cell_type": "code",
   "execution_count": 9,
   "metadata": {
    "colab": {
     "base_uri": "https://localhost:8080/"
    },
    "id": "7NvrVU8ij2UU",
    "outputId": "93b350a3-1c9f-4a70-c906-7fdd12ec116f"
   },
   "outputs": [
    {
     "name": "stdout",
     "output_type": "stream",
     "text": [
      "make_DNN\n",
      "input shape: (36, 4)\n",
      "Model: \"sequential\"\n",
      "_________________________________________________________________\n",
      "Layer (type)                 Output Shape              Param #   \n",
      "=================================================================\n",
      "conv1d (Conv1D)              (None, 36, 16)            208       \n",
      "_________________________________________________________________\n",
      "conv1d_1 (Conv1D)            (None, 36, 16)            784       \n",
      "_________________________________________________________________\n",
      "max_pooling1d (MaxPooling1D) (None, 18, 16)            0         \n",
      "_________________________________________________________________\n",
      "lstm (LSTM)                  (None, 18, 16)            2112      \n",
      "_________________________________________________________________\n",
      "lstm_1 (LSTM)                (None, 16)                2112      \n",
      "_________________________________________________________________\n",
      "dense (Dense)                (None, 16)                272       \n",
      "_________________________________________________________________\n",
      "dropout (Dropout)            (None, 16)                0         \n",
      "_________________________________________________________________\n",
      "dense_1 (Dense)              (None, 1)                 17        \n",
      "=================================================================\n",
      "Total params: 5,505\n",
      "Trainable params: 5,505\n",
      "Non-trainable params: 0\n",
      "_________________________________________________________________\n",
      "None\n"
     ]
    }
   ],
   "source": [
    "def make_DNN():\n",
    "    print(\"make_DNN\")\n",
    "    print(\"input shape:\",INPUT_SHAPE)\n",
    "    dnn = Sequential()\n",
    "    #dnn.add(Embedding(input_dim=INPUT_SHAPE,output_dim=INPUT_SHAPE)) \n",
    "    dnn.add(Conv1D(filters=FILTERS,kernel_size=WIDTH,strides=STRIDE,padding=\"same\",\n",
    "            input_shape=INPUT_SHAPE))\n",
    "    dnn.add(Conv1D(filters=FILTERS,kernel_size=WIDTH,strides=STRIDE,padding=\"same\"))\n",
    "    dnn.add(MaxPooling1D())\n",
    "    #dnn.add(Conv1D(filters=FILTERS,kernel_size=WIDTH,strides=STRIDE,padding=\"same\"))\n",
    "    #dnn.add(Conv1D(filters=FILTERS,kernel_size=WIDTH,strides=STRIDE,padding=\"same\"))\n",
    "    #dnn.add(MaxPooling1D())\n",
    "    #dnn.add(TimeDistributed(Flatten()))\n",
    "    dnn.add(LSTM(CELLS,return_sequences=True))\n",
    "    dnn.add(LSTM(CELLS,return_sequences=False))\n",
    "    dnn.add(Dense(NEURONS,activation=\"sigmoid\",dtype=np.float32))   \n",
    "    dnn.add(Dropout(DROP_RATE))\n",
    "    dnn.add(Dense(1,activation=\"sigmoid\",dtype=np.float32))   \n",
    "    dnn.compile(optimizer='adam',\n",
    "                loss=BinaryCrossentropy(from_logits=False),\n",
    "                metrics=['accuracy'])   # add to default metrics=loss\n",
    "    dnn.build(input_shape=INPUT_SHAPE)\n",
    "    #ln_rate = tf.keras.optimizers.Adam(learning_rate = LN_RATE)\n",
    "    #bc=tf.keras.losses.BinaryCrossentropy(from_logits=False)\n",
    "    #model.compile(loss=bc, optimizer=ln_rate, metrics=[\"accuracy\"])\n",
    "    return dnn\n",
    "model = make_DNN()\n",
    "print(model.summary())"
   ]
  },
  {
   "cell_type": "code",
   "execution_count": 10,
   "metadata": {
    "id": "nlVF0hR3j2UW"
   },
   "outputs": [],
   "source": [
    "from keras.callbacks import ModelCheckpoint\n",
    "def do_cross_validation(X,y):\n",
    "    cv_scores = []\n",
    "    fold=0\n",
    "    mycallbacks = [ModelCheckpoint(\n",
    "        filepath=MODELPATH, save_best_only=True, \n",
    "        monitor='val_accuracy', mode='max')]   \n",
    "    splitter = KFold(n_splits=SPLITS)  # this does not shuffle\n",
    "    for train_index,valid_index in splitter.split(X):\n",
    "        if fold < FOLDS:\n",
    "            fold += 1\n",
    "            X_train=X[train_index] # inputs for training\n",
    "            y_train=y[train_index] # labels for training\n",
    "            X_valid=X[valid_index] # inputs for validation\n",
    "            y_valid=y[valid_index] # labels for validation\n",
    "            print(\"MODEL\")\n",
    "            # Call constructor on each CV. Else, continually improves the same model.\n",
    "            model = model = make_DNN()\n",
    "            print(\"FIT\")  # model.fit() implements learning\n",
    "            start_time=time.time()\n",
    "            history=model.fit(X_train, y_train, \n",
    "                    epochs=EPOCHS, \n",
    "                    verbose=1,  # ascii art while learning\n",
    "                    callbacks=mycallbacks,   # called at end of each epoch\n",
    "                    validation_data=(X_valid,y_valid))\n",
    "            end_time=time.time()\n",
    "            elapsed_time=(end_time-start_time)                        \n",
    "            print(\"Fold %d, %d epochs, %d sec\"%(fold,EPOCHS,elapsed_time))\n",
    "            # print(history.history.keys())  # all these keys will be shown in figure\n",
    "            pd.DataFrame(history.history).plot(figsize=(8,5))\n",
    "            plt.grid(True)\n",
    "            plt.gca().set_ylim(0,1) # any losses > 1 will be off the scale\n",
    "            plt.show()\n"
   ]
  },
  {
   "cell_type": "code",
   "execution_count": 11,
   "metadata": {
    "colab": {
     "base_uri": "https://localhost:8080/",
     "height": 1000
    },
    "id": "9Ggt4EsSj2UY",
    "outputId": "a1c715fb-d2f0-4ab1-b29d-6f938982f9a9"
   },
   "outputs": [
    {
     "name": "stdout",
     "output_type": "stream",
     "text": [
      "MODEL\n",
      "make_DNN\n",
      "input shape: (36, 4)\n",
      "FIT\n",
      "Epoch 1/50\n",
      "1334/1334 [==============================] - 27s 7ms/step - loss: 0.7074 - accuracy: 0.5149 - val_loss: 0.6415 - val_accuracy: 0.6198\n"
     ]
    },
    {
     "name": "stderr",
     "output_type": "stream",
     "text": [
      "WARNING:absl:Found untraced functions such as lstm_cell_2_layer_call_fn, lstm_cell_2_layer_call_and_return_conditional_losses, lstm_cell_3_layer_call_fn, lstm_cell_3_layer_call_and_return_conditional_losses, lstm_cell_2_layer_call_fn while saving (showing 5 of 10). These functions will not be directly callable after loading.\n"
     ]
    },
    {
     "name": "stdout",
     "output_type": "stream",
     "text": [
      "INFO:tensorflow:Assets written to: BestModel/assets\n"
     ]
    },
    {
     "name": "stderr",
     "output_type": "stream",
     "text": [
      "INFO:tensorflow:Assets written to: BestModel/assets\n"
     ]
    },
    {
     "name": "stdout",
     "output_type": "stream",
     "text": [
      "Epoch 2/50\n",
      "1334/1334 [==============================] - 9s 7ms/step - loss: 0.6375 - accuracy: 0.6232 - val_loss: 0.6143 - val_accuracy: 0.6426\n"
     ]
    },
    {
     "name": "stderr",
     "output_type": "stream",
     "text": [
      "WARNING:absl:Found untraced functions such as lstm_cell_2_layer_call_fn, lstm_cell_2_layer_call_and_return_conditional_losses, lstm_cell_3_layer_call_fn, lstm_cell_3_layer_call_and_return_conditional_losses, lstm_cell_2_layer_call_fn while saving (showing 5 of 10). These functions will not be directly callable after loading.\n"
     ]
    },
    {
     "name": "stdout",
     "output_type": "stream",
     "text": [
      "INFO:tensorflow:Assets written to: BestModel/assets\n"
     ]
    },
    {
     "name": "stderr",
     "output_type": "stream",
     "text": [
      "INFO:tensorflow:Assets written to: BestModel/assets\n"
     ]
    },
    {
     "name": "stdout",
     "output_type": "stream",
     "text": [
      "Epoch 3/50\n",
      "1334/1334 [==============================] - 10s 7ms/step - loss: 0.6189 - accuracy: 0.6346 - val_loss: 0.5972 - val_accuracy: 0.6465\n"
     ]
    },
    {
     "name": "stderr",
     "output_type": "stream",
     "text": [
      "WARNING:absl:Found untraced functions such as lstm_cell_2_layer_call_fn, lstm_cell_2_layer_call_and_return_conditional_losses, lstm_cell_3_layer_call_fn, lstm_cell_3_layer_call_and_return_conditional_losses, lstm_cell_2_layer_call_fn while saving (showing 5 of 10). These functions will not be directly callable after loading.\n"
     ]
    },
    {
     "name": "stdout",
     "output_type": "stream",
     "text": [
      "INFO:tensorflow:Assets written to: BestModel/assets\n"
     ]
    },
    {
     "name": "stderr",
     "output_type": "stream",
     "text": [
      "INFO:tensorflow:Assets written to: BestModel/assets\n"
     ]
    },
    {
     "name": "stdout",
     "output_type": "stream",
     "text": [
      "Epoch 4/50\n",
      "1334/1334 [==============================] - 9s 7ms/step - loss: 0.6001 - accuracy: 0.6503 - val_loss: 0.5848 - val_accuracy: 0.6799\n"
     ]
    },
    {
     "name": "stderr",
     "output_type": "stream",
     "text": [
      "WARNING:absl:Found untraced functions such as lstm_cell_2_layer_call_fn, lstm_cell_2_layer_call_and_return_conditional_losses, lstm_cell_3_layer_call_fn, lstm_cell_3_layer_call_and_return_conditional_losses, lstm_cell_2_layer_call_fn while saving (showing 5 of 10). These functions will not be directly callable after loading.\n"
     ]
    },
    {
     "name": "stdout",
     "output_type": "stream",
     "text": [
      "INFO:tensorflow:Assets written to: BestModel/assets\n"
     ]
    },
    {
     "name": "stderr",
     "output_type": "stream",
     "text": [
      "INFO:tensorflow:Assets written to: BestModel/assets\n"
     ]
    },
    {
     "name": "stdout",
     "output_type": "stream",
     "text": [
      "Epoch 5/50\n",
      "1334/1334 [==============================] - 9s 7ms/step - loss: 0.5861 - accuracy: 0.6811 - val_loss: 0.5651 - val_accuracy: 0.7008\n"
     ]
    },
    {
     "name": "stderr",
     "output_type": "stream",
     "text": [
      "WARNING:absl:Found untraced functions such as lstm_cell_2_layer_call_fn, lstm_cell_2_layer_call_and_return_conditional_losses, lstm_cell_3_layer_call_fn, lstm_cell_3_layer_call_and_return_conditional_losses, lstm_cell_2_layer_call_fn while saving (showing 5 of 10). These functions will not be directly callable after loading.\n"
     ]
    },
    {
     "name": "stdout",
     "output_type": "stream",
     "text": [
      "INFO:tensorflow:Assets written to: BestModel/assets\n"
     ]
    },
    {
     "name": "stderr",
     "output_type": "stream",
     "text": [
      "INFO:tensorflow:Assets written to: BestModel/assets\n"
     ]
    },
    {
     "name": "stdout",
     "output_type": "stream",
     "text": [
      "Epoch 6/50\n",
      "1334/1334 [==============================] - 10s 7ms/step - loss: 0.5710 - accuracy: 0.6970 - val_loss: 0.5570 - val_accuracy: 0.7010\n"
     ]
    },
    {
     "name": "stderr",
     "output_type": "stream",
     "text": [
      "WARNING:absl:Found untraced functions such as lstm_cell_2_layer_call_fn, lstm_cell_2_layer_call_and_return_conditional_losses, lstm_cell_3_layer_call_fn, lstm_cell_3_layer_call_and_return_conditional_losses, lstm_cell_2_layer_call_fn while saving (showing 5 of 10). These functions will not be directly callable after loading.\n"
     ]
    },
    {
     "name": "stdout",
     "output_type": "stream",
     "text": [
      "INFO:tensorflow:Assets written to: BestModel/assets\n"
     ]
    },
    {
     "name": "stderr",
     "output_type": "stream",
     "text": [
      "INFO:tensorflow:Assets written to: BestModel/assets\n"
     ]
    },
    {
     "name": "stdout",
     "output_type": "stream",
     "text": [
      "Epoch 7/50\n",
      "1334/1334 [==============================] - 9s 7ms/step - loss: 0.5628 - accuracy: 0.7032 - val_loss: 0.5380 - val_accuracy: 0.7131\n"
     ]
    },
    {
     "name": "stderr",
     "output_type": "stream",
     "text": [
      "WARNING:absl:Found untraced functions such as lstm_cell_2_layer_call_fn, lstm_cell_2_layer_call_and_return_conditional_losses, lstm_cell_3_layer_call_fn, lstm_cell_3_layer_call_and_return_conditional_losses, lstm_cell_2_layer_call_fn while saving (showing 5 of 10). These functions will not be directly callable after loading.\n"
     ]
    },
    {
     "name": "stdout",
     "output_type": "stream",
     "text": [
      "INFO:tensorflow:Assets written to: BestModel/assets\n"
     ]
    },
    {
     "name": "stderr",
     "output_type": "stream",
     "text": [
      "INFO:tensorflow:Assets written to: BestModel/assets\n"
     ]
    },
    {
     "name": "stdout",
     "output_type": "stream",
     "text": [
      "Epoch 8/50\n",
      "1334/1334 [==============================] - 9s 7ms/step - loss: 0.5479 - accuracy: 0.7100 - val_loss: 0.5312 - val_accuracy: 0.7180\n"
     ]
    },
    {
     "name": "stderr",
     "output_type": "stream",
     "text": [
      "WARNING:absl:Found untraced functions such as lstm_cell_2_layer_call_fn, lstm_cell_2_layer_call_and_return_conditional_losses, lstm_cell_3_layer_call_fn, lstm_cell_3_layer_call_and_return_conditional_losses, lstm_cell_2_layer_call_fn while saving (showing 5 of 10). These functions will not be directly callable after loading.\n"
     ]
    },
    {
     "name": "stdout",
     "output_type": "stream",
     "text": [
      "INFO:tensorflow:Assets written to: BestModel/assets\n"
     ]
    },
    {
     "name": "stderr",
     "output_type": "stream",
     "text": [
      "INFO:tensorflow:Assets written to: BestModel/assets\n"
     ]
    },
    {
     "name": "stdout",
     "output_type": "stream",
     "text": [
      "Epoch 9/50\n",
      "1334/1334 [==============================] - 9s 7ms/step - loss: 0.5390 - accuracy: 0.7183 - val_loss: 0.5300 - val_accuracy: 0.7178\n",
      "Epoch 10/50\n",
      "1334/1334 [==============================] - 10s 7ms/step - loss: 0.5280 - accuracy: 0.7256 - val_loss: 0.5171 - val_accuracy: 0.7350\n"
     ]
    },
    {
     "name": "stderr",
     "output_type": "stream",
     "text": [
      "WARNING:absl:Found untraced functions such as lstm_cell_2_layer_call_fn, lstm_cell_2_layer_call_and_return_conditional_losses, lstm_cell_3_layer_call_fn, lstm_cell_3_layer_call_and_return_conditional_losses, lstm_cell_2_layer_call_fn while saving (showing 5 of 10). These functions will not be directly callable after loading.\n"
     ]
    },
    {
     "name": "stdout",
     "output_type": "stream",
     "text": [
      "INFO:tensorflow:Assets written to: BestModel/assets\n"
     ]
    },
    {
     "name": "stderr",
     "output_type": "stream",
     "text": [
      "INFO:tensorflow:Assets written to: BestModel/assets\n"
     ]
    },
    {
     "name": "stdout",
     "output_type": "stream",
     "text": [
      "Epoch 11/50\n",
      "1334/1334 [==============================] - 10s 7ms/step - loss: 0.5172 - accuracy: 0.7339 - val_loss: 0.4923 - val_accuracy: 0.7526\n"
     ]
    },
    {
     "name": "stderr",
     "output_type": "stream",
     "text": [
      "WARNING:absl:Found untraced functions such as lstm_cell_2_layer_call_fn, lstm_cell_2_layer_call_and_return_conditional_losses, lstm_cell_3_layer_call_fn, lstm_cell_3_layer_call_and_return_conditional_losses, lstm_cell_2_layer_call_fn while saving (showing 5 of 10). These functions will not be directly callable after loading.\n"
     ]
    },
    {
     "name": "stdout",
     "output_type": "stream",
     "text": [
      "INFO:tensorflow:Assets written to: BestModel/assets\n"
     ]
    },
    {
     "name": "stderr",
     "output_type": "stream",
     "text": [
      "INFO:tensorflow:Assets written to: BestModel/assets\n"
     ]
    },
    {
     "name": "stdout",
     "output_type": "stream",
     "text": [
      "Epoch 12/50\n",
      "1334/1334 [==============================] - 9s 7ms/step - loss: 0.4983 - accuracy: 0.7531 - val_loss: 0.4691 - val_accuracy: 0.7653\n"
     ]
    },
    {
     "name": "stderr",
     "output_type": "stream",
     "text": [
      "WARNING:absl:Found untraced functions such as lstm_cell_2_layer_call_fn, lstm_cell_2_layer_call_and_return_conditional_losses, lstm_cell_3_layer_call_fn, lstm_cell_3_layer_call_and_return_conditional_losses, lstm_cell_2_layer_call_fn while saving (showing 5 of 10). These functions will not be directly callable after loading.\n"
     ]
    },
    {
     "name": "stdout",
     "output_type": "stream",
     "text": [
      "INFO:tensorflow:Assets written to: BestModel/assets\n"
     ]
    },
    {
     "name": "stderr",
     "output_type": "stream",
     "text": [
      "INFO:tensorflow:Assets written to: BestModel/assets\n"
     ]
    },
    {
     "name": "stdout",
     "output_type": "stream",
     "text": [
      "Epoch 13/50\n",
      "1334/1334 [==============================] - 9s 7ms/step - loss: 0.4818 - accuracy: 0.7649 - val_loss: 0.4504 - val_accuracy: 0.7779\n"
     ]
    },
    {
     "name": "stderr",
     "output_type": "stream",
     "text": [
      "WARNING:absl:Found untraced functions such as lstm_cell_2_layer_call_fn, lstm_cell_2_layer_call_and_return_conditional_losses, lstm_cell_3_layer_call_fn, lstm_cell_3_layer_call_and_return_conditional_losses, lstm_cell_2_layer_call_fn while saving (showing 5 of 10). These functions will not be directly callable after loading.\n"
     ]
    },
    {
     "name": "stdout",
     "output_type": "stream",
     "text": [
      "INFO:tensorflow:Assets written to: BestModel/assets\n"
     ]
    },
    {
     "name": "stderr",
     "output_type": "stream",
     "text": [
      "INFO:tensorflow:Assets written to: BestModel/assets\n"
     ]
    },
    {
     "name": "stdout",
     "output_type": "stream",
     "text": [
      "Epoch 14/50\n",
      "1334/1334 [==============================] - 9s 7ms/step - loss: 0.4591 - accuracy: 0.7808 - val_loss: 0.4323 - val_accuracy: 0.7919\n"
     ]
    },
    {
     "name": "stderr",
     "output_type": "stream",
     "text": [
      "WARNING:absl:Found untraced functions such as lstm_cell_2_layer_call_fn, lstm_cell_2_layer_call_and_return_conditional_losses, lstm_cell_3_layer_call_fn, lstm_cell_3_layer_call_and_return_conditional_losses, lstm_cell_2_layer_call_fn while saving (showing 5 of 10). These functions will not be directly callable after loading.\n"
     ]
    },
    {
     "name": "stdout",
     "output_type": "stream",
     "text": [
      "INFO:tensorflow:Assets written to: BestModel/assets\n"
     ]
    },
    {
     "name": "stderr",
     "output_type": "stream",
     "text": [
      "INFO:tensorflow:Assets written to: BestModel/assets\n"
     ]
    },
    {
     "name": "stdout",
     "output_type": "stream",
     "text": [
      "Epoch 15/50\n",
      "1334/1334 [==============================] - 9s 7ms/step - loss: 0.4343 - accuracy: 0.7965 - val_loss: 0.4066 - val_accuracy: 0.8124\n"
     ]
    },
    {
     "name": "stderr",
     "output_type": "stream",
     "text": [
      "WARNING:absl:Found untraced functions such as lstm_cell_2_layer_call_fn, lstm_cell_2_layer_call_and_return_conditional_losses, lstm_cell_3_layer_call_fn, lstm_cell_3_layer_call_and_return_conditional_losses, lstm_cell_2_layer_call_fn while saving (showing 5 of 10). These functions will not be directly callable after loading.\n"
     ]
    },
    {
     "name": "stdout",
     "output_type": "stream",
     "text": [
      "INFO:tensorflow:Assets written to: BestModel/assets\n"
     ]
    },
    {
     "name": "stderr",
     "output_type": "stream",
     "text": [
      "INFO:tensorflow:Assets written to: BestModel/assets\n"
     ]
    },
    {
     "name": "stdout",
     "output_type": "stream",
     "text": [
      "Epoch 16/50\n",
      "1334/1334 [==============================] - 9s 7ms/step - loss: 0.4163 - accuracy: 0.8119 - val_loss: 0.3868 - val_accuracy: 0.8218\n"
     ]
    },
    {
     "name": "stderr",
     "output_type": "stream",
     "text": [
      "WARNING:absl:Found untraced functions such as lstm_cell_2_layer_call_fn, lstm_cell_2_layer_call_and_return_conditional_losses, lstm_cell_3_layer_call_fn, lstm_cell_3_layer_call_and_return_conditional_losses, lstm_cell_2_layer_call_fn while saving (showing 5 of 10). These functions will not be directly callable after loading.\n"
     ]
    },
    {
     "name": "stdout",
     "output_type": "stream",
     "text": [
      "INFO:tensorflow:Assets written to: BestModel/assets\n"
     ]
    },
    {
     "name": "stderr",
     "output_type": "stream",
     "text": [
      "INFO:tensorflow:Assets written to: BestModel/assets\n"
     ]
    },
    {
     "name": "stdout",
     "output_type": "stream",
     "text": [
      "Epoch 17/50\n",
      "1334/1334 [==============================] - 9s 7ms/step - loss: 0.3940 - accuracy: 0.8231 - val_loss: 0.3736 - val_accuracy: 0.8312\n"
     ]
    },
    {
     "name": "stderr",
     "output_type": "stream",
     "text": [
      "WARNING:absl:Found untraced functions such as lstm_cell_2_layer_call_fn, lstm_cell_2_layer_call_and_return_conditional_losses, lstm_cell_3_layer_call_fn, lstm_cell_3_layer_call_and_return_conditional_losses, lstm_cell_2_layer_call_fn while saving (showing 5 of 10). These functions will not be directly callable after loading.\n"
     ]
    },
    {
     "name": "stdout",
     "output_type": "stream",
     "text": [
      "INFO:tensorflow:Assets written to: BestModel/assets\n"
     ]
    },
    {
     "name": "stderr",
     "output_type": "stream",
     "text": [
      "INFO:tensorflow:Assets written to: BestModel/assets\n"
     ]
    },
    {
     "name": "stdout",
     "output_type": "stream",
     "text": [
      "Epoch 18/50\n",
      "1334/1334 [==============================] - 9s 7ms/step - loss: 0.3706 - accuracy: 0.8369 - val_loss: 0.3555 - val_accuracy: 0.8401\n"
     ]
    },
    {
     "name": "stderr",
     "output_type": "stream",
     "text": [
      "WARNING:absl:Found untraced functions such as lstm_cell_2_layer_call_fn, lstm_cell_2_layer_call_and_return_conditional_losses, lstm_cell_3_layer_call_fn, lstm_cell_3_layer_call_and_return_conditional_losses, lstm_cell_2_layer_call_fn while saving (showing 5 of 10). These functions will not be directly callable after loading.\n"
     ]
    },
    {
     "name": "stdout",
     "output_type": "stream",
     "text": [
      "INFO:tensorflow:Assets written to: BestModel/assets\n"
     ]
    },
    {
     "name": "stderr",
     "output_type": "stream",
     "text": [
      "INFO:tensorflow:Assets written to: BestModel/assets\n"
     ]
    },
    {
     "name": "stdout",
     "output_type": "stream",
     "text": [
      "Epoch 19/50\n",
      "1334/1334 [==============================] - 9s 7ms/step - loss: 0.3638 - accuracy: 0.8367 - val_loss: 0.3451 - val_accuracy: 0.8456\n"
     ]
    },
    {
     "name": "stderr",
     "output_type": "stream",
     "text": [
      "WARNING:absl:Found untraced functions such as lstm_cell_2_layer_call_fn, lstm_cell_2_layer_call_and_return_conditional_losses, lstm_cell_3_layer_call_fn, lstm_cell_3_layer_call_and_return_conditional_losses, lstm_cell_2_layer_call_fn while saving (showing 5 of 10). These functions will not be directly callable after loading.\n"
     ]
    },
    {
     "name": "stdout",
     "output_type": "stream",
     "text": [
      "INFO:tensorflow:Assets written to: BestModel/assets\n"
     ]
    },
    {
     "name": "stderr",
     "output_type": "stream",
     "text": [
      "INFO:tensorflow:Assets written to: BestModel/assets\n"
     ]
    },
    {
     "name": "stdout",
     "output_type": "stream",
     "text": [
      "Epoch 20/50\n",
      "1334/1334 [==============================] - 10s 7ms/step - loss: 0.3469 - accuracy: 0.8442 - val_loss: 0.3201 - val_accuracy: 0.8563\n"
     ]
    },
    {
     "name": "stderr",
     "output_type": "stream",
     "text": [
      "WARNING:absl:Found untraced functions such as lstm_cell_2_layer_call_fn, lstm_cell_2_layer_call_and_return_conditional_losses, lstm_cell_3_layer_call_fn, lstm_cell_3_layer_call_and_return_conditional_losses, lstm_cell_2_layer_call_fn while saving (showing 5 of 10). These functions will not be directly callable after loading.\n"
     ]
    },
    {
     "name": "stdout",
     "output_type": "stream",
     "text": [
      "INFO:tensorflow:Assets written to: BestModel/assets\n"
     ]
    },
    {
     "name": "stderr",
     "output_type": "stream",
     "text": [
      "INFO:tensorflow:Assets written to: BestModel/assets\n"
     ]
    },
    {
     "name": "stdout",
     "output_type": "stream",
     "text": [
      "Epoch 21/50\n",
      "1334/1334 [==============================] - 9s 7ms/step - loss: 0.3279 - accuracy: 0.8554 - val_loss: 0.3148 - val_accuracy: 0.8592\n"
     ]
    },
    {
     "name": "stderr",
     "output_type": "stream",
     "text": [
      "WARNING:absl:Found untraced functions such as lstm_cell_2_layer_call_fn, lstm_cell_2_layer_call_and_return_conditional_losses, lstm_cell_3_layer_call_fn, lstm_cell_3_layer_call_and_return_conditional_losses, lstm_cell_2_layer_call_fn while saving (showing 5 of 10). These functions will not be directly callable after loading.\n"
     ]
    },
    {
     "name": "stdout",
     "output_type": "stream",
     "text": [
      "INFO:tensorflow:Assets written to: BestModel/assets\n"
     ]
    },
    {
     "name": "stderr",
     "output_type": "stream",
     "text": [
      "INFO:tensorflow:Assets written to: BestModel/assets\n"
     ]
    },
    {
     "name": "stdout",
     "output_type": "stream",
     "text": [
      "Epoch 22/50\n",
      "1334/1334 [==============================] - 9s 7ms/step - loss: 0.3172 - accuracy: 0.8625 - val_loss: 0.3071 - val_accuracy: 0.8651\n"
     ]
    },
    {
     "name": "stderr",
     "output_type": "stream",
     "text": [
      "WARNING:absl:Found untraced functions such as lstm_cell_2_layer_call_fn, lstm_cell_2_layer_call_and_return_conditional_losses, lstm_cell_3_layer_call_fn, lstm_cell_3_layer_call_and_return_conditional_losses, lstm_cell_2_layer_call_fn while saving (showing 5 of 10). These functions will not be directly callable after loading.\n"
     ]
    },
    {
     "name": "stdout",
     "output_type": "stream",
     "text": [
      "INFO:tensorflow:Assets written to: BestModel/assets\n"
     ]
    },
    {
     "name": "stderr",
     "output_type": "stream",
     "text": [
      "INFO:tensorflow:Assets written to: BestModel/assets\n"
     ]
    },
    {
     "name": "stdout",
     "output_type": "stream",
     "text": [
      "Epoch 23/50\n",
      "1334/1334 [==============================] - 9s 7ms/step - loss: 0.3060 - accuracy: 0.8671 - val_loss: 0.3082 - val_accuracy: 0.8667\n"
     ]
    },
    {
     "name": "stderr",
     "output_type": "stream",
     "text": [
      "WARNING:absl:Found untraced functions such as lstm_cell_2_layer_call_fn, lstm_cell_2_layer_call_and_return_conditional_losses, lstm_cell_3_layer_call_fn, lstm_cell_3_layer_call_and_return_conditional_losses, lstm_cell_2_layer_call_fn while saving (showing 5 of 10). These functions will not be directly callable after loading.\n"
     ]
    },
    {
     "name": "stdout",
     "output_type": "stream",
     "text": [
      "INFO:tensorflow:Assets written to: BestModel/assets\n"
     ]
    },
    {
     "name": "stderr",
     "output_type": "stream",
     "text": [
      "INFO:tensorflow:Assets written to: BestModel/assets\n"
     ]
    },
    {
     "name": "stdout",
     "output_type": "stream",
     "text": [
      "Epoch 24/50\n",
      "1334/1334 [==============================] - 9s 7ms/step - loss: 0.2941 - accuracy: 0.8726 - val_loss: 0.2826 - val_accuracy: 0.8763\n"
     ]
    },
    {
     "name": "stderr",
     "output_type": "stream",
     "text": [
      "WARNING:absl:Found untraced functions such as lstm_cell_2_layer_call_fn, lstm_cell_2_layer_call_and_return_conditional_losses, lstm_cell_3_layer_call_fn, lstm_cell_3_layer_call_and_return_conditional_losses, lstm_cell_2_layer_call_fn while saving (showing 5 of 10). These functions will not be directly callable after loading.\n"
     ]
    },
    {
     "name": "stdout",
     "output_type": "stream",
     "text": [
      "INFO:tensorflow:Assets written to: BestModel/assets\n"
     ]
    },
    {
     "name": "stderr",
     "output_type": "stream",
     "text": [
      "INFO:tensorflow:Assets written to: BestModel/assets\n"
     ]
    },
    {
     "name": "stdout",
     "output_type": "stream",
     "text": [
      "Epoch 25/50\n",
      "1334/1334 [==============================] - 9s 7ms/step - loss: 0.2803 - accuracy: 0.8797 - val_loss: 0.2706 - val_accuracy: 0.8800\n"
     ]
    },
    {
     "name": "stderr",
     "output_type": "stream",
     "text": [
      "WARNING:absl:Found untraced functions such as lstm_cell_2_layer_call_fn, lstm_cell_2_layer_call_and_return_conditional_losses, lstm_cell_3_layer_call_fn, lstm_cell_3_layer_call_and_return_conditional_losses, lstm_cell_2_layer_call_fn while saving (showing 5 of 10). These functions will not be directly callable after loading.\n"
     ]
    },
    {
     "name": "stdout",
     "output_type": "stream",
     "text": [
      "INFO:tensorflow:Assets written to: BestModel/assets\n"
     ]
    },
    {
     "name": "stderr",
     "output_type": "stream",
     "text": [
      "INFO:tensorflow:Assets written to: BestModel/assets\n"
     ]
    },
    {
     "name": "stdout",
     "output_type": "stream",
     "text": [
      "Epoch 26/50\n",
      "1334/1334 [==============================] - 9s 7ms/step - loss: 0.2706 - accuracy: 0.8856 - val_loss: 0.2555 - val_accuracy: 0.8861\n"
     ]
    },
    {
     "name": "stderr",
     "output_type": "stream",
     "text": [
      "WARNING:absl:Found untraced functions such as lstm_cell_2_layer_call_fn, lstm_cell_2_layer_call_and_return_conditional_losses, lstm_cell_3_layer_call_fn, lstm_cell_3_layer_call_and_return_conditional_losses, lstm_cell_2_layer_call_fn while saving (showing 5 of 10). These functions will not be directly callable after loading.\n"
     ]
    },
    {
     "name": "stdout",
     "output_type": "stream",
     "text": [
      "INFO:tensorflow:Assets written to: BestModel/assets\n"
     ]
    },
    {
     "name": "stderr",
     "output_type": "stream",
     "text": [
      "INFO:tensorflow:Assets written to: BestModel/assets\n"
     ]
    },
    {
     "name": "stdout",
     "output_type": "stream",
     "text": [
      "Epoch 27/50\n",
      "1334/1334 [==============================] - 9s 7ms/step - loss: 0.2569 - accuracy: 0.8897 - val_loss: 0.2373 - val_accuracy: 0.8966\n"
     ]
    },
    {
     "name": "stderr",
     "output_type": "stream",
     "text": [
      "WARNING:absl:Found untraced functions such as lstm_cell_2_layer_call_fn, lstm_cell_2_layer_call_and_return_conditional_losses, lstm_cell_3_layer_call_fn, lstm_cell_3_layer_call_and_return_conditional_losses, lstm_cell_2_layer_call_fn while saving (showing 5 of 10). These functions will not be directly callable after loading.\n"
     ]
    },
    {
     "name": "stdout",
     "output_type": "stream",
     "text": [
      "INFO:tensorflow:Assets written to: BestModel/assets\n"
     ]
    },
    {
     "name": "stderr",
     "output_type": "stream",
     "text": [
      "INFO:tensorflow:Assets written to: BestModel/assets\n"
     ]
    },
    {
     "name": "stdout",
     "output_type": "stream",
     "text": [
      "Epoch 28/50\n",
      "1334/1334 [==============================] - 9s 7ms/step - loss: 0.2377 - accuracy: 0.9012 - val_loss: 0.2520 - val_accuracy: 0.8935\n",
      "Epoch 29/50\n",
      "1334/1334 [==============================] - 9s 7ms/step - loss: 0.2259 - accuracy: 0.9053 - val_loss: 0.2195 - val_accuracy: 0.9048\n"
     ]
    },
    {
     "name": "stderr",
     "output_type": "stream",
     "text": [
      "WARNING:absl:Found untraced functions such as lstm_cell_2_layer_call_fn, lstm_cell_2_layer_call_and_return_conditional_losses, lstm_cell_3_layer_call_fn, lstm_cell_3_layer_call_and_return_conditional_losses, lstm_cell_2_layer_call_fn while saving (showing 5 of 10). These functions will not be directly callable after loading.\n"
     ]
    },
    {
     "name": "stdout",
     "output_type": "stream",
     "text": [
      "INFO:tensorflow:Assets written to: BestModel/assets\n"
     ]
    },
    {
     "name": "stderr",
     "output_type": "stream",
     "text": [
      "INFO:tensorflow:Assets written to: BestModel/assets\n"
     ]
    },
    {
     "name": "stdout",
     "output_type": "stream",
     "text": [
      "Epoch 30/50\n",
      "1334/1334 [==============================] - 9s 7ms/step - loss: 0.2163 - accuracy: 0.9107 - val_loss: 0.2149 - val_accuracy: 0.9077\n"
     ]
    },
    {
     "name": "stderr",
     "output_type": "stream",
     "text": [
      "WARNING:absl:Found untraced functions such as lstm_cell_2_layer_call_fn, lstm_cell_2_layer_call_and_return_conditional_losses, lstm_cell_3_layer_call_fn, lstm_cell_3_layer_call_and_return_conditional_losses, lstm_cell_2_layer_call_fn while saving (showing 5 of 10). These functions will not be directly callable after loading.\n"
     ]
    },
    {
     "name": "stdout",
     "output_type": "stream",
     "text": [
      "INFO:tensorflow:Assets written to: BestModel/assets\n"
     ]
    },
    {
     "name": "stderr",
     "output_type": "stream",
     "text": [
      "INFO:tensorflow:Assets written to: BestModel/assets\n"
     ]
    },
    {
     "name": "stdout",
     "output_type": "stream",
     "text": [
      "Epoch 31/50\n",
      "1334/1334 [==============================] - 10s 7ms/step - loss: 0.2038 - accuracy: 0.9161 - val_loss: 0.1982 - val_accuracy: 0.9183\n"
     ]
    },
    {
     "name": "stderr",
     "output_type": "stream",
     "text": [
      "WARNING:absl:Found untraced functions such as lstm_cell_2_layer_call_fn, lstm_cell_2_layer_call_and_return_conditional_losses, lstm_cell_3_layer_call_fn, lstm_cell_3_layer_call_and_return_conditional_losses, lstm_cell_2_layer_call_fn while saving (showing 5 of 10). These functions will not be directly callable after loading.\n"
     ]
    },
    {
     "name": "stdout",
     "output_type": "stream",
     "text": [
      "INFO:tensorflow:Assets written to: BestModel/assets\n"
     ]
    },
    {
     "name": "stderr",
     "output_type": "stream",
     "text": [
      "INFO:tensorflow:Assets written to: BestModel/assets\n"
     ]
    },
    {
     "name": "stdout",
     "output_type": "stream",
     "text": [
      "Epoch 32/50\n",
      "1334/1334 [==============================] - 9s 7ms/step - loss: 0.1887 - accuracy: 0.9228 - val_loss: 0.2057 - val_accuracy: 0.9122\n",
      "Epoch 33/50\n",
      "1334/1334 [==============================] - 9s 7ms/step - loss: 0.1806 - accuracy: 0.9266 - val_loss: 0.1825 - val_accuracy: 0.9229\n"
     ]
    },
    {
     "name": "stderr",
     "output_type": "stream",
     "text": [
      "WARNING:absl:Found untraced functions such as lstm_cell_2_layer_call_fn, lstm_cell_2_layer_call_and_return_conditional_losses, lstm_cell_3_layer_call_fn, lstm_cell_3_layer_call_and_return_conditional_losses, lstm_cell_2_layer_call_fn while saving (showing 5 of 10). These functions will not be directly callable after loading.\n"
     ]
    },
    {
     "name": "stdout",
     "output_type": "stream",
     "text": [
      "INFO:tensorflow:Assets written to: BestModel/assets\n"
     ]
    },
    {
     "name": "stderr",
     "output_type": "stream",
     "text": [
      "INFO:tensorflow:Assets written to: BestModel/assets\n"
     ]
    },
    {
     "name": "stdout",
     "output_type": "stream",
     "text": [
      "Epoch 34/50\n",
      "1334/1334 [==============================] - 9s 7ms/step - loss: 0.1749 - accuracy: 0.9282 - val_loss: 0.1701 - val_accuracy: 0.9293\n"
     ]
    },
    {
     "name": "stderr",
     "output_type": "stream",
     "text": [
      "WARNING:absl:Found untraced functions such as lstm_cell_2_layer_call_fn, lstm_cell_2_layer_call_and_return_conditional_losses, lstm_cell_3_layer_call_fn, lstm_cell_3_layer_call_and_return_conditional_losses, lstm_cell_2_layer_call_fn while saving (showing 5 of 10). These functions will not be directly callable after loading.\n"
     ]
    },
    {
     "name": "stdout",
     "output_type": "stream",
     "text": [
      "INFO:tensorflow:Assets written to: BestModel/assets\n"
     ]
    },
    {
     "name": "stderr",
     "output_type": "stream",
     "text": [
      "INFO:tensorflow:Assets written to: BestModel/assets\n"
     ]
    },
    {
     "name": "stdout",
     "output_type": "stream",
     "text": [
      "Epoch 35/50\n",
      "1334/1334 [==============================] - 9s 7ms/step - loss: 0.1575 - accuracy: 0.9360 - val_loss: 0.1677 - val_accuracy: 0.9284\n",
      "Epoch 36/50\n",
      "1334/1334 [==============================] - 9s 7ms/step - loss: 0.1587 - accuracy: 0.9347 - val_loss: 0.1604 - val_accuracy: 0.9344\n"
     ]
    },
    {
     "name": "stderr",
     "output_type": "stream",
     "text": [
      "WARNING:absl:Found untraced functions such as lstm_cell_2_layer_call_fn, lstm_cell_2_layer_call_and_return_conditional_losses, lstm_cell_3_layer_call_fn, lstm_cell_3_layer_call_and_return_conditional_losses, lstm_cell_2_layer_call_fn while saving (showing 5 of 10). These functions will not be directly callable after loading.\n"
     ]
    },
    {
     "name": "stdout",
     "output_type": "stream",
     "text": [
      "INFO:tensorflow:Assets written to: BestModel/assets\n"
     ]
    },
    {
     "name": "stderr",
     "output_type": "stream",
     "text": [
      "INFO:tensorflow:Assets written to: BestModel/assets\n"
     ]
    },
    {
     "name": "stdout",
     "output_type": "stream",
     "text": [
      "Epoch 37/50\n",
      "1334/1334 [==============================] - 9s 7ms/step - loss: 0.1551 - accuracy: 0.9369 - val_loss: 0.1580 - val_accuracy: 0.9364\n"
     ]
    },
    {
     "name": "stderr",
     "output_type": "stream",
     "text": [
      "WARNING:absl:Found untraced functions such as lstm_cell_2_layer_call_fn, lstm_cell_2_layer_call_and_return_conditional_losses, lstm_cell_3_layer_call_fn, lstm_cell_3_layer_call_and_return_conditional_losses, lstm_cell_2_layer_call_fn while saving (showing 5 of 10). These functions will not be directly callable after loading.\n"
     ]
    },
    {
     "name": "stdout",
     "output_type": "stream",
     "text": [
      "INFO:tensorflow:Assets written to: BestModel/assets\n"
     ]
    },
    {
     "name": "stderr",
     "output_type": "stream",
     "text": [
      "INFO:tensorflow:Assets written to: BestModel/assets\n"
     ]
    },
    {
     "name": "stdout",
     "output_type": "stream",
     "text": [
      "Epoch 38/50\n",
      "1334/1334 [==============================] - 9s 7ms/step - loss: 0.1426 - accuracy: 0.9413 - val_loss: 0.1531 - val_accuracy: 0.9384\n"
     ]
    },
    {
     "name": "stderr",
     "output_type": "stream",
     "text": [
      "WARNING:absl:Found untraced functions such as lstm_cell_2_layer_call_fn, lstm_cell_2_layer_call_and_return_conditional_losses, lstm_cell_3_layer_call_fn, lstm_cell_3_layer_call_and_return_conditional_losses, lstm_cell_2_layer_call_fn while saving (showing 5 of 10). These functions will not be directly callable after loading.\n"
     ]
    },
    {
     "name": "stdout",
     "output_type": "stream",
     "text": [
      "INFO:tensorflow:Assets written to: BestModel/assets\n"
     ]
    },
    {
     "name": "stderr",
     "output_type": "stream",
     "text": [
      "INFO:tensorflow:Assets written to: BestModel/assets\n"
     ]
    },
    {
     "name": "stdout",
     "output_type": "stream",
     "text": [
      "Epoch 39/50\n",
      "1334/1334 [==============================] - 9s 7ms/step - loss: 0.1397 - accuracy: 0.9453 - val_loss: 0.1523 - val_accuracy: 0.9387\n"
     ]
    },
    {
     "name": "stderr",
     "output_type": "stream",
     "text": [
      "WARNING:absl:Found untraced functions such as lstm_cell_2_layer_call_fn, lstm_cell_2_layer_call_and_return_conditional_losses, lstm_cell_3_layer_call_fn, lstm_cell_3_layer_call_and_return_conditional_losses, lstm_cell_2_layer_call_fn while saving (showing 5 of 10). These functions will not be directly callable after loading.\n"
     ]
    },
    {
     "name": "stdout",
     "output_type": "stream",
     "text": [
      "INFO:tensorflow:Assets written to: BestModel/assets\n"
     ]
    },
    {
     "name": "stderr",
     "output_type": "stream",
     "text": [
      "INFO:tensorflow:Assets written to: BestModel/assets\n"
     ]
    },
    {
     "name": "stdout",
     "output_type": "stream",
     "text": [
      "Epoch 40/50\n",
      "1334/1334 [==============================] - 9s 7ms/step - loss: 0.1317 - accuracy: 0.9467 - val_loss: 0.1498 - val_accuracy: 0.9419\n"
     ]
    },
    {
     "name": "stderr",
     "output_type": "stream",
     "text": [
      "WARNING:absl:Found untraced functions such as lstm_cell_2_layer_call_fn, lstm_cell_2_layer_call_and_return_conditional_losses, lstm_cell_3_layer_call_fn, lstm_cell_3_layer_call_and_return_conditional_losses, lstm_cell_2_layer_call_fn while saving (showing 5 of 10). These functions will not be directly callable after loading.\n"
     ]
    },
    {
     "name": "stdout",
     "output_type": "stream",
     "text": [
      "INFO:tensorflow:Assets written to: BestModel/assets\n"
     ]
    },
    {
     "name": "stderr",
     "output_type": "stream",
     "text": [
      "INFO:tensorflow:Assets written to: BestModel/assets\n"
     ]
    },
    {
     "name": "stdout",
     "output_type": "stream",
     "text": [
      "Epoch 41/50\n",
      "1334/1334 [==============================] - 9s 7ms/step - loss: 0.1295 - accuracy: 0.9478 - val_loss: 0.1439 - val_accuracy: 0.9451\n"
     ]
    },
    {
     "name": "stderr",
     "output_type": "stream",
     "text": [
      "WARNING:absl:Found untraced functions such as lstm_cell_2_layer_call_fn, lstm_cell_2_layer_call_and_return_conditional_losses, lstm_cell_3_layer_call_fn, lstm_cell_3_layer_call_and_return_conditional_losses, lstm_cell_2_layer_call_fn while saving (showing 5 of 10). These functions will not be directly callable after loading.\n"
     ]
    },
    {
     "name": "stdout",
     "output_type": "stream",
     "text": [
      "INFO:tensorflow:Assets written to: BestModel/assets\n"
     ]
    },
    {
     "name": "stderr",
     "output_type": "stream",
     "text": [
      "INFO:tensorflow:Assets written to: BestModel/assets\n"
     ]
    },
    {
     "name": "stdout",
     "output_type": "stream",
     "text": [
      "Epoch 42/50\n",
      "1334/1334 [==============================] - 9s 7ms/step - loss: 0.1288 - accuracy: 0.9497 - val_loss: 0.1425 - val_accuracy: 0.9454\n"
     ]
    },
    {
     "name": "stderr",
     "output_type": "stream",
     "text": [
      "WARNING:absl:Found untraced functions such as lstm_cell_2_layer_call_fn, lstm_cell_2_layer_call_and_return_conditional_losses, lstm_cell_3_layer_call_fn, lstm_cell_3_layer_call_and_return_conditional_losses, lstm_cell_2_layer_call_fn while saving (showing 5 of 10). These functions will not be directly callable after loading.\n"
     ]
    },
    {
     "name": "stdout",
     "output_type": "stream",
     "text": [
      "INFO:tensorflow:Assets written to: BestModel/assets\n"
     ]
    },
    {
     "name": "stderr",
     "output_type": "stream",
     "text": [
      "INFO:tensorflow:Assets written to: BestModel/assets\n"
     ]
    },
    {
     "name": "stdout",
     "output_type": "stream",
     "text": [
      "Epoch 43/50\n",
      "1334/1334 [==============================] - 9s 7ms/step - loss: 0.1218 - accuracy: 0.9514 - val_loss: 0.1458 - val_accuracy: 0.9427\n",
      "Epoch 44/50\n",
      "1334/1334 [==============================] - 9s 7ms/step - loss: 0.1138 - accuracy: 0.9542 - val_loss: 0.1344 - val_accuracy: 0.9486\n"
     ]
    },
    {
     "name": "stderr",
     "output_type": "stream",
     "text": [
      "WARNING:absl:Found untraced functions such as lstm_cell_2_layer_call_fn, lstm_cell_2_layer_call_and_return_conditional_losses, lstm_cell_3_layer_call_fn, lstm_cell_3_layer_call_and_return_conditional_losses, lstm_cell_2_layer_call_fn while saving (showing 5 of 10). These functions will not be directly callable after loading.\n"
     ]
    },
    {
     "name": "stdout",
     "output_type": "stream",
     "text": [
      "INFO:tensorflow:Assets written to: BestModel/assets\n"
     ]
    },
    {
     "name": "stderr",
     "output_type": "stream",
     "text": [
      "INFO:tensorflow:Assets written to: BestModel/assets\n"
     ]
    },
    {
     "name": "stdout",
     "output_type": "stream",
     "text": [
      "Epoch 45/50\n",
      "1334/1334 [==============================] - 9s 7ms/step - loss: 0.1093 - accuracy: 0.9563 - val_loss: 0.1301 - val_accuracy: 0.9498\n"
     ]
    },
    {
     "name": "stderr",
     "output_type": "stream",
     "text": [
      "WARNING:absl:Found untraced functions such as lstm_cell_2_layer_call_fn, lstm_cell_2_layer_call_and_return_conditional_losses, lstm_cell_3_layer_call_fn, lstm_cell_3_layer_call_and_return_conditional_losses, lstm_cell_2_layer_call_fn while saving (showing 5 of 10). These functions will not be directly callable after loading.\n"
     ]
    },
    {
     "name": "stdout",
     "output_type": "stream",
     "text": [
      "INFO:tensorflow:Assets written to: BestModel/assets\n"
     ]
    },
    {
     "name": "stderr",
     "output_type": "stream",
     "text": [
      "INFO:tensorflow:Assets written to: BestModel/assets\n"
     ]
    },
    {
     "name": "stdout",
     "output_type": "stream",
     "text": [
      "Epoch 46/50\n",
      "1334/1334 [==============================] - 9s 7ms/step - loss: 0.0983 - accuracy: 0.9607 - val_loss: 0.1313 - val_accuracy: 0.9496\n",
      "Epoch 47/50\n",
      "1334/1334 [==============================] - 9s 7ms/step - loss: 0.1036 - accuracy: 0.9587 - val_loss: 0.1274 - val_accuracy: 0.9524\n"
     ]
    },
    {
     "name": "stderr",
     "output_type": "stream",
     "text": [
      "WARNING:absl:Found untraced functions such as lstm_cell_2_layer_call_fn, lstm_cell_2_layer_call_and_return_conditional_losses, lstm_cell_3_layer_call_fn, lstm_cell_3_layer_call_and_return_conditional_losses, lstm_cell_2_layer_call_fn while saving (showing 5 of 10). These functions will not be directly callable after loading.\n"
     ]
    },
    {
     "name": "stdout",
     "output_type": "stream",
     "text": [
      "INFO:tensorflow:Assets written to: BestModel/assets\n"
     ]
    },
    {
     "name": "stderr",
     "output_type": "stream",
     "text": [
      "INFO:tensorflow:Assets written to: BestModel/assets\n"
     ]
    },
    {
     "name": "stdout",
     "output_type": "stream",
     "text": [
      "Epoch 48/50\n",
      "1334/1334 [==============================] - 9s 7ms/step - loss: 0.0981 - accuracy: 0.9612 - val_loss: 0.1296 - val_accuracy: 0.9535\n"
     ]
    },
    {
     "name": "stderr",
     "output_type": "stream",
     "text": [
      "WARNING:absl:Found untraced functions such as lstm_cell_2_layer_call_fn, lstm_cell_2_layer_call_and_return_conditional_losses, lstm_cell_3_layer_call_fn, lstm_cell_3_layer_call_and_return_conditional_losses, lstm_cell_2_layer_call_fn while saving (showing 5 of 10). These functions will not be directly callable after loading.\n"
     ]
    },
    {
     "name": "stdout",
     "output_type": "stream",
     "text": [
      "INFO:tensorflow:Assets written to: BestModel/assets\n"
     ]
    },
    {
     "name": "stderr",
     "output_type": "stream",
     "text": [
      "INFO:tensorflow:Assets written to: BestModel/assets\n"
     ]
    },
    {
     "name": "stdout",
     "output_type": "stream",
     "text": [
      "Epoch 49/50\n",
      "1334/1334 [==============================] - 9s 7ms/step - loss: 0.0958 - accuracy: 0.9619 - val_loss: 0.1218 - val_accuracy: 0.9531\n",
      "Epoch 50/50\n",
      "1334/1334 [==============================] - 9s 7ms/step - loss: 0.0931 - accuracy: 0.9635 - val_loss: 0.1391 - val_accuracy: 0.9514\n",
      "Fold 1, 50 epochs, 818 sec\n"
     ]
    },
    {
     "data": {
      "image/png": "[encoded data removed]",
      "text/plain": [
       "<Figure size 576x360 with 1 Axes>"
      ]
     },
     "metadata": {
      "needs_background": "light",
      "tags": []
     },
     "output_type": "display_data"
    },
    {
     "name": "stdout",
     "output_type": "stream",
     "text": [
      "MODEL\n",
      "make_DNN\n",
      "input shape: (36, 4)\n",
      "FIT\n",
      "Epoch 1/50\n",
      "1334/1334 [==============================] - 13s 8ms/step - loss: 0.7077 - accuracy: 0.5146 - val_loss: 0.6687 - val_accuracy: 0.5963\n",
      "Epoch 2/50\n",
      "1334/1334 [==============================] - 9s 7ms/step - loss: 0.6569 - accuracy: 0.6046 - val_loss: 0.6188 - val_accuracy: 0.6330\n",
      "Epoch 3/50\n",
      "1334/1334 [==============================] - 9s 7ms/step - loss: 0.6095 - accuracy: 0.6496 - val_loss: 0.5818 - val_accuracy: 0.6655\n",
      "Epoch 4/50\n",
      "1334/1334 [==============================] - 9s 7ms/step - loss: 0.5806 - accuracy: 0.6707 - val_loss: 0.5553 - val_accuracy: 0.6897\n",
      "Epoch 5/50\n",
      "1334/1334 [==============================] - 9s 7ms/step - loss: 0.5483 - accuracy: 0.6989 - val_loss: 0.5325 - val_accuracy: 0.7151\n",
      "Epoch 6/50\n",
      "1334/1334 [==============================] - 9s 7ms/step - loss: 0.5178 - accuracy: 0.7198 - val_loss: 0.4791 - val_accuracy: 0.7436\n",
      "Epoch 7/50\n",
      "1334/1334 [==============================] - 9s 7ms/step - loss: 0.4808 - accuracy: 0.7446 - val_loss: 0.4687 - val_accuracy: 0.7560\n",
      "Epoch 8/50\n",
      "1334/1334 [==============================] - 9s 7ms/step - loss: 0.4540 - accuracy: 0.7630 - val_loss: 0.4396 - val_accuracy: 0.7606\n",
      "Epoch 9/50\n",
      "1334/1334 [==============================] - 9s 7ms/step - loss: 0.4297 - accuracy: 0.7790 - val_loss: 0.4149 - val_accuracy: 0.7864\n",
      "Epoch 10/50\n",
      "1334/1334 [==============================] - 9s 7ms/step - loss: 0.3993 - accuracy: 0.8011 - val_loss: 0.3730 - val_accuracy: 0.8109\n",
      "Epoch 11/50\n",
      "1334/1334 [==============================] - 9s 7ms/step - loss: 0.3719 - accuracy: 0.8167 - val_loss: 0.3610 - val_accuracy: 0.8187\n",
      "Epoch 12/50\n",
      "1334/1334 [==============================] - 9s 7ms/step - loss: 0.3522 - accuracy: 0.8262 - val_loss: 0.3384 - val_accuracy: 0.8283\n",
      "Epoch 13/50\n",
      "1334/1334 [==============================] - 10s 8ms/step - loss: 0.3369 - accuracy: 0.8356 - val_loss: 0.3418 - val_accuracy: 0.8288\n",
      "Epoch 14/50\n",
      "1334/1334 [==============================] - 9s 7ms/step - loss: 0.3238 - accuracy: 0.8442 - val_loss: 0.3118 - val_accuracy: 0.8465\n",
      "Epoch 15/50\n",
      "1334/1334 [==============================] - 9s 7ms/step - loss: 0.3089 - accuracy: 0.8520 - val_loss: 0.3045 - val_accuracy: 0.8507\n",
      "Epoch 16/50\n",
      "1334/1334 [==============================] - 9s 7ms/step - loss: 0.3025 - accuracy: 0.8571 - val_loss: 0.2914 - val_accuracy: 0.8559\n",
      "Epoch 17/50\n",
      "1334/1334 [==============================] - 9s 7ms/step - loss: 0.2888 - accuracy: 0.8627 - val_loss: 0.2953 - val_accuracy: 0.8549\n",
      "Epoch 18/50\n",
      "1334/1334 [==============================] - 9s 7ms/step - loss: 0.2991 - accuracy: 0.8583 - val_loss: 0.2645 - val_accuracy: 0.8687\n",
      "Epoch 19/50\n",
      "1334/1334 [==============================] - 10s 8ms/step - loss: 0.2724 - accuracy: 0.8705 - val_loss: 0.2841 - val_accuracy: 0.8613\n",
      "Epoch 20/50\n",
      "1334/1334 [==============================] - 9s 7ms/step - loss: 0.2593 - accuracy: 0.8781 - val_loss: 0.2536 - val_accuracy: 0.8765\n",
      "Epoch 21/50\n",
      "1334/1334 [==============================] - 9s 7ms/step - loss: 0.2482 - accuracy: 0.8800 - val_loss: 0.2616 - val_accuracy: 0.8744\n",
      "Epoch 22/50\n",
      "1334/1334 [==============================] - 9s 7ms/step - loss: 0.2597 - accuracy: 0.8786 - val_loss: 0.2438 - val_accuracy: 0.8815\n",
      "Epoch 23/50\n",
      "1334/1334 [==============================] - 10s 7ms/step - loss: 0.2336 - accuracy: 0.8887 - val_loss: 0.2477 - val_accuracy: 0.8847\n",
      "Epoch 24/50\n",
      "1334/1334 [==============================] - 10s 7ms/step - loss: 0.2234 - accuracy: 0.8939 - val_loss: 0.2418 - val_accuracy: 0.8854\n",
      "Epoch 25/50\n",
      "1334/1334 [==============================] - 9s 7ms/step - loss: 0.2220 - accuracy: 0.8967 - val_loss: 0.2396 - val_accuracy: 0.8852\n",
      "Epoch 26/50\n",
      "1334/1334 [==============================] - 9s 7ms/step - loss: 0.2122 - accuracy: 0.8977 - val_loss: 0.2361 - val_accuracy: 0.8878\n",
      "Epoch 27/50\n",
      "1334/1334 [==============================] - 10s 7ms/step - loss: 0.2076 - accuracy: 0.8994 - val_loss: 0.2106 - val_accuracy: 0.8973\n",
      "Epoch 28/50\n",
      "1334/1334 [==============================] - 10s 7ms/step - loss: 0.2041 - accuracy: 0.9002 - val_loss: 0.2091 - val_accuracy: 0.8990\n",
      "Epoch 29/50\n",
      "1334/1334 [==============================] - 10s 7ms/step - loss: 0.2030 - accuracy: 0.9033 - val_loss: 0.2036 - val_accuracy: 0.9007\n",
      "Epoch 30/50\n",
      "1334/1334 [==============================] - 9s 7ms/step - loss: 0.1948 - accuracy: 0.9077 - val_loss: 0.2149 - val_accuracy: 0.8960\n",
      "Epoch 31/50\n",
      "1334/1334 [==============================] - 9s 7ms/step - loss: 0.2126 - accuracy: 0.8985 - val_loss: 0.2035 - val_accuracy: 0.9027\n",
      "Epoch 32/50\n",
      "1334/1334 [==============================] - 9s 7ms/step - loss: 0.1868 - accuracy: 0.9075 - val_loss: 0.1997 - val_accuracy: 0.9071\n",
      "Epoch 33/50\n",
      "1334/1334 [==============================] - 9s 7ms/step - loss: 0.1912 - accuracy: 0.9100 - val_loss: 0.2361 - val_accuracy: 0.8931\n",
      "Epoch 34/50\n",
      "1334/1334 [==============================] - 9s 7ms/step - loss: 0.1851 - accuracy: 0.9101 - val_loss: 0.1886 - val_accuracy: 0.9107\n",
      "Epoch 35/50\n",
      "1334/1334 [==============================] - 9s 7ms/step - loss: 0.1709 - accuracy: 0.9177 - val_loss: 0.2000 - val_accuracy: 0.9021\n",
      "Epoch 36/50\n",
      "1334/1334 [==============================] - 10s 8ms/step - loss: 0.1677 - accuracy: 0.9185 - val_loss: 0.1830 - val_accuracy: 0.9135\n",
      "Epoch 37/50\n",
      "1334/1334 [==============================] - 9s 7ms/step - loss: 0.1658 - accuracy: 0.9203 - val_loss: 0.1738 - val_accuracy: 0.9175\n",
      "Epoch 38/50\n",
      "1334/1334 [==============================] - 9s 7ms/step - loss: 0.1581 - accuracy: 0.9256 - val_loss: 0.3490 - val_accuracy: 0.8452\n",
      "Epoch 39/50\n",
      "1334/1334 [==============================] - 10s 8ms/step - loss: 0.2079 - accuracy: 0.9036 - val_loss: 0.1827 - val_accuracy: 0.9149\n",
      "Epoch 40/50\n",
      "1334/1334 [==============================] - 10s 8ms/step - loss: 0.1610 - accuracy: 0.9215 - val_loss: 0.3140 - val_accuracy: 0.8910\n",
      "Epoch 41/50\n",
      "1334/1334 [==============================] - 10s 7ms/step - loss: 0.1652 - accuracy: 0.9225 - val_loss: 0.1756 - val_accuracy: 0.9186\n",
      "Epoch 42/50\n",
      "1334/1334 [==============================] - 9s 7ms/step - loss: 0.1521 - accuracy: 0.9275 - val_loss: 0.2003 - val_accuracy: 0.9109\n",
      "Epoch 43/50\n",
      "1334/1334 [==============================] - 9s 7ms/step - loss: 0.1479 - accuracy: 0.9314 - val_loss: 0.1735 - val_accuracy: 0.9235\n",
      "Epoch 44/50\n",
      "1334/1334 [==============================] - 9s 7ms/step - loss: 0.1534 - accuracy: 0.9317 - val_loss: 0.3639 - val_accuracy: 0.8287\n",
      "Epoch 45/50\n",
      "1334/1334 [==============================] - 9s 7ms/step - loss: 0.1654 - accuracy: 0.9236 - val_loss: 0.1529 - val_accuracy: 0.9307\n",
      "Epoch 46/50\n",
      "1334/1334 [==============================] - 10s 8ms/step - loss: 0.1334 - accuracy: 0.9384 - val_loss: 0.1590 - val_accuracy: 0.9317\n",
      "Epoch 47/50\n",
      "1334/1334 [==============================] - 9s 7ms/step - loss: 0.1272 - accuracy: 0.9418 - val_loss: 0.1613 - val_accuracy: 0.9293\n",
      "Epoch 48/50\n",
      "1334/1334 [==============================] - 9s 7ms/step - loss: 0.1274 - accuracy: 0.9405 - val_loss: 0.1457 - val_accuracy: 0.9358\n",
      "Epoch 49/50\n",
      "1334/1334 [==============================] - 10s 8ms/step - loss: 0.1269 - accuracy: 0.9412 - val_loss: 0.1415 - val_accuracy: 0.9370\n",
      "Epoch 50/50\n",
      "1334/1334 [==============================] - 9s 7ms/step - loss: 0.1205 - accuracy: 0.9445 - val_loss: 0.2216 - val_accuracy: 0.9156\n",
      "Fold 2, 50 epochs, 476 sec\n"
     ]
    },
    {
     "data": {
      "image/png": "[encoded data removed]",
      "text/plain": [
       "<Figure size 576x360 with 1 Axes>"
      ]
     },
     "metadata": {
      "needs_background": "light",
      "tags": []
     },
     "output_type": "display_data"
    },
    {
     "name": "stdout",
     "output_type": "stream",
     "text": [
      "MODEL\n",
      "make_DNN\n",
      "input shape: (36, 4)\n",
      "FIT\n",
      "Epoch 1/50\n",
      "1334/1334 [==============================] - 13s 8ms/step - loss: 0.7029 - accuracy: 0.5011 - val_loss: 0.6631 - val_accuracy: 0.5992\n",
      "Epoch 2/50\n",
      "1334/1334 [==============================] - 9s 7ms/step - loss: 0.6567 - accuracy: 0.6084 - val_loss: 0.6273 - val_accuracy: 0.6268\n",
      "Epoch 3/50\n",
      "1334/1334 [==============================] - 9s 7ms/step - loss: 0.6272 - accuracy: 0.6311 - val_loss: 0.6132 - val_accuracy: 0.6471\n",
      "Epoch 4/50\n",
      "1334/1334 [==============================] - 9s 7ms/step - loss: 0.6056 - accuracy: 0.6509 - val_loss: 0.5812 - val_accuracy: 0.6683\n",
      "Epoch 5/50\n",
      "1334/1334 [==============================] - 9s 7ms/step - loss: 0.5765 - accuracy: 0.6763 - val_loss: 0.5501 - val_accuracy: 0.6979\n",
      "Epoch 6/50\n",
      "1334/1334 [==============================] - 10s 7ms/step - loss: 0.5396 - accuracy: 0.7111 - val_loss: 0.4857 - val_accuracy: 0.7437\n",
      "Epoch 7/50\n",
      "1334/1334 [==============================] - 9s 7ms/step - loss: 0.4844 - accuracy: 0.7492 - val_loss: 0.4512 - val_accuracy: 0.7606\n",
      "Epoch 8/50\n",
      "1334/1334 [==============================] - 9s 7ms/step - loss: 0.4511 - accuracy: 0.7655 - val_loss: 0.4183 - val_accuracy: 0.7834\n",
      "Epoch 9/50\n",
      "1334/1334 [==============================] - 9s 7ms/step - loss: 0.4239 - accuracy: 0.7853 - val_loss: 0.3971 - val_accuracy: 0.7982\n",
      "Epoch 10/50\n",
      "1334/1334 [==============================] - 9s 7ms/step - loss: 0.4032 - accuracy: 0.7981 - val_loss: 0.3868 - val_accuracy: 0.8114\n",
      "Epoch 11/50\n",
      "1334/1334 [==============================] - 9s 7ms/step - loss: 0.3771 - accuracy: 0.8172 - val_loss: 0.3598 - val_accuracy: 0.8211\n",
      "Epoch 12/50\n",
      "1334/1334 [==============================] - 9s 7ms/step - loss: 0.3651 - accuracy: 0.8198 - val_loss: 0.3517 - val_accuracy: 0.8240\n",
      "Epoch 13/50\n",
      "1334/1334 [==============================] - 9s 7ms/step - loss: 0.3460 - accuracy: 0.8267 - val_loss: 0.3332 - val_accuracy: 0.8330\n",
      "Epoch 14/50\n",
      "1334/1334 [==============================] - 9s 7ms/step - loss: 0.3305 - accuracy: 0.8401 - val_loss: 0.3406 - val_accuracy: 0.8359\n",
      "Epoch 15/50\n",
      "1334/1334 [==============================] - 9s 7ms/step - loss: 0.3222 - accuracy: 0.8472 - val_loss: 0.3158 - val_accuracy: 0.8498\n",
      "Epoch 16/50\n",
      "1334/1334 [==============================] - 9s 7ms/step - loss: 0.3189 - accuracy: 0.8500 - val_loss: 0.2965 - val_accuracy: 0.8572\n",
      "Epoch 17/50\n",
      "1334/1334 [==============================] - 9s 7ms/step - loss: 0.2929 - accuracy: 0.8601 - val_loss: 0.2908 - val_accuracy: 0.8581\n",
      "Epoch 18/50\n",
      "1334/1334 [==============================] - 9s 7ms/step - loss: 0.2796 - accuracy: 0.8684 - val_loss: 0.2724 - val_accuracy: 0.8718\n",
      "Epoch 19/50\n",
      "1334/1334 [==============================] - 9s 7ms/step - loss: 0.2996 - accuracy: 0.8615 - val_loss: 0.2729 - val_accuracy: 0.8758\n",
      "Epoch 20/50\n",
      "1334/1334 [==============================] - 9s 7ms/step - loss: 0.2620 - accuracy: 0.8790 - val_loss: 0.2522 - val_accuracy: 0.8812\n",
      "Epoch 21/50\n",
      "1334/1334 [==============================] - 10s 8ms/step - loss: 0.2517 - accuracy: 0.8842 - val_loss: 0.2542 - val_accuracy: 0.8793\n",
      "Epoch 22/50\n",
      "1334/1334 [==============================] - 9s 7ms/step - loss: 0.2355 - accuracy: 0.8899 - val_loss: 0.2300 - val_accuracy: 0.8922\n",
      "Epoch 23/50\n",
      "1334/1334 [==============================] - 9s 7ms/step - loss: 0.2307 - accuracy: 0.8938 - val_loss: 0.2315 - val_accuracy: 0.8948\n",
      "Epoch 24/50\n",
      "1334/1334 [==============================] - 9s 7ms/step - loss: 0.2120 - accuracy: 0.9037 - val_loss: 0.2089 - val_accuracy: 0.9060\n",
      "Epoch 25/50\n",
      "1334/1334 [==============================] - 9s 7ms/step - loss: 0.2019 - accuracy: 0.9085 - val_loss: 0.2058 - val_accuracy: 0.9096\n",
      "Epoch 26/50\n",
      "1334/1334 [==============================] - 9s 7ms/step - loss: 0.2456 - accuracy: 0.8865 - val_loss: 0.3451 - val_accuracy: 0.8417\n",
      "Epoch 27/50\n",
      "1334/1334 [==============================] - 9s 7ms/step - loss: 0.3069 - accuracy: 0.8631 - val_loss: 0.2205 - val_accuracy: 0.9045\n",
      "Epoch 28/50\n",
      "1334/1334 [==============================] - 9s 7ms/step - loss: 0.2065 - accuracy: 0.9130 - val_loss: 0.1684 - val_accuracy: 0.9273\n",
      "Epoch 29/50\n",
      "1334/1334 [==============================] - 9s 7ms/step - loss: 0.1641 - accuracy: 0.9299 - val_loss: 0.1622 - val_accuracy: 0.9290\n",
      "Epoch 30/50\n",
      "1334/1334 [==============================] - 9s 7ms/step - loss: 0.1497 - accuracy: 0.9347 - val_loss: 0.1437 - val_accuracy: 0.9371\n",
      "Epoch 31/50\n",
      "1334/1334 [==============================] - 9s 7ms/step - loss: 0.1425 - accuracy: 0.9380 - val_loss: 0.1375 - val_accuracy: 0.9403\n",
      "Epoch 32/50\n",
      "1334/1334 [==============================] - 9s 7ms/step - loss: 0.1309 - accuracy: 0.9433 - val_loss: 0.1299 - val_accuracy: 0.9447\n",
      "Epoch 33/50\n",
      "1334/1334 [==============================] - 9s 7ms/step - loss: 0.1225 - accuracy: 0.9472 - val_loss: 0.1215 - val_accuracy: 0.9454\n",
      "Epoch 34/50\n",
      "1334/1334 [==============================] - 9s 7ms/step - loss: 0.1172 - accuracy: 0.9495 - val_loss: 0.1160 - val_accuracy: 0.9489\n",
      "Epoch 35/50\n",
      "1334/1334 [==============================] - 9s 7ms/step - loss: 0.1176 - accuracy: 0.9476 - val_loss: 0.1394 - val_accuracy: 0.9413\n",
      "Epoch 36/50\n",
      "1334/1334 [==============================] - 9s 7ms/step - loss: 0.1112 - accuracy: 0.9517 - val_loss: 0.1231 - val_accuracy: 0.9471\n",
      "Epoch 37/50\n",
      "1334/1334 [==============================] - 9s 7ms/step - loss: 0.1092 - accuracy: 0.9505 - val_loss: 0.1118 - val_accuracy: 0.9521\n",
      "Epoch 38/50\n",
      "1334/1334 [==============================] - 9s 7ms/step - loss: 0.1007 - accuracy: 0.9553 - val_loss: 0.1094 - val_accuracy: 0.9557\n"
     ]
    },
    {
     "name": "stderr",
     "output_type": "stream",
     "text": [
      "WARNING:absl:Found untraced functions such as lstm_cell_6_layer_call_fn, lstm_cell_6_layer_call_and_return_conditional_losses, lstm_cell_7_layer_call_fn, lstm_cell_7_layer_call_and_return_conditional_losses, lstm_cell_6_layer_call_fn while saving (showing 5 of 10). These functions will not be directly callable after loading.\n"
     ]
    },
    {
     "name": "stdout",
     "output_type": "stream",
     "text": [
      "INFO:tensorflow:Assets written to: BestModel/assets\n"
     ]
    },
    {
     "name": "stderr",
     "output_type": "stream",
     "text": [
      "INFO:tensorflow:Assets written to: BestModel/assets\n"
     ]
    },
    {
     "name": "stdout",
     "output_type": "stream",
     "text": [
      "Epoch 39/50\n",
      "1334/1334 [==============================] - 9s 7ms/step - loss: 0.1027 - accuracy: 0.9556 - val_loss: 0.0979 - val_accuracy: 0.9559\n"
     ]
    },
    {
     "name": "stderr",
     "output_type": "stream",
     "text": [
      "WARNING:absl:Found untraced functions such as lstm_cell_6_layer_call_fn, lstm_cell_6_layer_call_and_return_conditional_losses, lstm_cell_7_layer_call_fn, lstm_cell_7_layer_call_and_return_conditional_losses, lstm_cell_6_layer_call_fn while saving (showing 5 of 10). These functions will not be directly callable after loading.\n"
     ]
    },
    {
     "name": "stdout",
     "output_type": "stream",
     "text": [
      "INFO:tensorflow:Assets written to: BestModel/assets\n"
     ]
    },
    {
     "name": "stderr",
     "output_type": "stream",
     "text": [
      "INFO:tensorflow:Assets written to: BestModel/assets\n"
     ]
    },
    {
     "name": "stdout",
     "output_type": "stream",
     "text": [
      "Epoch 40/50\n",
      "1334/1334 [==============================] - 9s 7ms/step - loss: 0.0881 - accuracy: 0.9592 - val_loss: 0.1022 - val_accuracy: 0.9550\n",
      "Epoch 41/50\n",
      "1334/1334 [==============================] - 9s 7ms/step - loss: 0.1165 - accuracy: 0.9517 - val_loss: 0.1038 - val_accuracy: 0.9544\n",
      "Epoch 42/50\n",
      "1334/1334 [==============================] - 9s 7ms/step - loss: 0.0915 - accuracy: 0.9599 - val_loss: 0.0960 - val_accuracy: 0.9578\n"
     ]
    },
    {
     "name": "stderr",
     "output_type": "stream",
     "text": [
      "WARNING:absl:Found untraced functions such as lstm_cell_6_layer_call_fn, lstm_cell_6_layer_call_and_return_conditional_losses, lstm_cell_7_layer_call_fn, lstm_cell_7_layer_call_and_return_conditional_losses, lstm_cell_6_layer_call_fn while saving (showing 5 of 10). These functions will not be directly callable after loading.\n"
     ]
    },
    {
     "name": "stdout",
     "output_type": "stream",
     "text": [
      "INFO:tensorflow:Assets written to: BestModel/assets\n"
     ]
    },
    {
     "name": "stderr",
     "output_type": "stream",
     "text": [
      "INFO:tensorflow:Assets written to: BestModel/assets\n"
     ]
    },
    {
     "name": "stdout",
     "output_type": "stream",
     "text": [
      "Epoch 43/50\n",
      "1334/1334 [==============================] - 9s 7ms/step - loss: 0.0821 - accuracy: 0.9627 - val_loss: 0.0958 - val_accuracy: 0.9569\n",
      "Epoch 44/50\n",
      "1334/1334 [==============================] - 10s 8ms/step - loss: 0.0824 - accuracy: 0.9628 - val_loss: 0.1029 - val_accuracy: 0.9565\n",
      "Epoch 45/50\n",
      "1334/1334 [==============================] - 9s 7ms/step - loss: 0.0815 - accuracy: 0.9628 - val_loss: 0.0908 - val_accuracy: 0.9610\n"
     ]
    },
    {
     "name": "stderr",
     "output_type": "stream",
     "text": [
      "WARNING:absl:Found untraced functions such as lstm_cell_6_layer_call_fn, lstm_cell_6_layer_call_and_return_conditional_losses, lstm_cell_7_layer_call_fn, lstm_cell_7_layer_call_and_return_conditional_losses, lstm_cell_6_layer_call_fn while saving (showing 5 of 10). These functions will not be directly callable after loading.\n"
     ]
    },
    {
     "name": "stdout",
     "output_type": "stream",
     "text": [
      "INFO:tensorflow:Assets written to: BestModel/assets\n"
     ]
    },
    {
     "name": "stderr",
     "output_type": "stream",
     "text": [
      "INFO:tensorflow:Assets written to: BestModel/assets\n"
     ]
    },
    {
     "name": "stdout",
     "output_type": "stream",
     "text": [
      "Epoch 46/50\n",
      "1334/1334 [==============================] - 9s 7ms/step - loss: 0.0783 - accuracy: 0.9644 - val_loss: 0.0919 - val_accuracy: 0.9604\n",
      "Epoch 47/50\n",
      "1334/1334 [==============================] - 9s 7ms/step - loss: 0.0793 - accuracy: 0.9640 - val_loss: 0.1330 - val_accuracy: 0.9476\n",
      "Epoch 48/50\n",
      "1334/1334 [==============================] - 9s 7ms/step - loss: 0.0768 - accuracy: 0.9651 - val_loss: 0.0861 - val_accuracy: 0.9616\n"
     ]
    },
    {
     "name": "stderr",
     "output_type": "stream",
     "text": [
      "WARNING:absl:Found untraced functions such as lstm_cell_6_layer_call_fn, lstm_cell_6_layer_call_and_return_conditional_losses, lstm_cell_7_layer_call_fn, lstm_cell_7_layer_call_and_return_conditional_losses, lstm_cell_6_layer_call_fn while saving (showing 5 of 10). These functions will not be directly callable after loading.\n"
     ]
    },
    {
     "name": "stdout",
     "output_type": "stream",
     "text": [
      "INFO:tensorflow:Assets written to: BestModel/assets\n"
     ]
    },
    {
     "name": "stderr",
     "output_type": "stream",
     "text": [
      "INFO:tensorflow:Assets written to: BestModel/assets\n"
     ]
    },
    {
     "name": "stdout",
     "output_type": "stream",
     "text": [
      "Epoch 49/50\n",
      "1334/1334 [==============================] - 9s 7ms/step - loss: 0.0773 - accuracy: 0.9658 - val_loss: 0.1011 - val_accuracy: 0.9590\n",
      "Epoch 50/50\n",
      "1334/1334 [==============================] - 9s 7ms/step - loss: 0.0721 - accuracy: 0.9675 - val_loss: 0.0926 - val_accuracy: 0.9604\n",
      "Fold 3, 50 epochs, 564 sec\n"
     ]
    },
    {
     "data": {
      "image/png": "[encoded data removed]",
      "text/plain": [
       "<Figure size 576x360 with 1 Axes>"
      ]
     },
     "metadata": {
      "needs_background": "light",
      "tags": []
     },
     "output_type": "display_data"
    }
   ],
   "source": [
    "do_cross_validation(X,y)"
   ]
  },
  {
   "cell_type": "code",
   "execution_count": 12,
   "metadata": {
    "colab": {
     "base_uri": "https://localhost:8080/"
    },
    "id": "e-jG1h5fj2Ua",
    "outputId": "cfaa9acd-009e-4191-f9ab-ed00c2d3b488"
   },
   "outputs": [
    {
     "name": "stdout",
     "output_type": "stream",
     "text": [
      "The best model parameters were saved during cross-validation.\n",
      "Best was defined as maximum validation accuracy at end of any epoch.\n",
      "Now re-load the best model and test it on previously unseen data.\n",
      "Test on 1000 PC seqs\n",
      "Test on 1000 NC seqs\n",
      "accuracy: 95.95%\n"
     ]
    }
   ],
   "source": [
    "from keras.models import load_model\n",
    "X,y = prepare_inputs_len_x_alphabet(pc_test,nc_test,ALPHABET)\n",
    "best_model=load_model(MODELPATH)\n",
    "scores = best_model.evaluate(X, y, verbose=0)\n",
    "print(\"The best model parameters were saved during cross-validation.\")\n",
    "print(\"Best was defined as maximum validation accuracy at end of any epoch.\")\n",
    "print(\"Now re-load the best model and test it on previously unseen data.\")\n",
    "print(\"Test on\",len(pc_test),\"PC seqs\")\n",
    "print(\"Test on\",len(nc_test),\"NC seqs\")\n",
    "print(\"%s: %.2f%%\" % (best_model.metrics_names[1], scores[1]*100))\n"
   ]
  },
  {
   "cell_type": "code",
   "execution_count": 13,
   "metadata": {
    "colab": {
     "base_uri": "https://localhost:8080/",
     "height": 312
    },
    "id": "VycUnmvUj2Ue",
    "outputId": "08befb77-7cc8-4bd1-e6c7-28e001fce21b"
   },
   "outputs": [
    {
     "data": {
      "image/png": "[encoded data removed]",
      "text/plain": [
       "<Figure size 432x288 with 1 Axes>"
      ]
     },
     "metadata": {
      "needs_background": "light",
      "tags": []
     },
     "output_type": "display_data"
    },
    {
     "name": "stdout",
     "output_type": "stream",
     "text": [
      "AUC: 99.49%\n"
     ]
    }
   ],
   "source": [
    "from sklearn.metrics import roc_curve\n",
    "from sklearn.metrics import roc_auc_score\n",
    "ns_probs = [0 for _ in range(len(y))]\n",
    "bm_probs = best_model.predict(X)\n",
    "ns_auc = roc_auc_score(y, ns_probs)\n",
    "bm_auc = roc_auc_score(y, bm_probs)\n",
    "ns_fpr, ns_tpr, _ = roc_curve(y, ns_probs)\n",
    "bm_fpr, bm_tpr, _ = roc_curve(y, bm_probs)\n",
    "plt.plot(ns_fpr, ns_tpr, linestyle='--', label='Guess, auc=%.4f'%ns_auc)\n",
    "plt.plot(bm_fpr, bm_tpr, marker='.', label='Model, auc=%.4f'%bm_auc)\n",
    "plt.title('ROC')\n",
    "plt.xlabel('False Positive Rate')\n",
    "plt.ylabel('True Positive Rate')\n",
    "plt.legend()\n",
    "plt.show()\n",
    "print(\"%s: %.2f%%\" %('AUC',bm_auc*100.0))\n"
   ]
  },
  {
   "cell_type": "code",
   "execution_count": 14,
   "metadata": {
    "colab": {
     "base_uri": "https://localhost:8080/",
     "height": 36
    },
    "id": "kFMb6rGNj2Ug",
    "outputId": "22114602-6395-44e5-ebde-07f8ed23fbab"
   },
   "outputs": [
    {
     "data": {
      "application/vnd.google.colaboratory.intrinsic+json": {
       "type": "string"
      },
      "text/plain": [
       "'2021-06-17 16:10:58 UTC'"
      ]
     },
     "execution_count": 14,
     "metadata": {
      "tags": []
     },
     "output_type": "execute_result"
    }
   ],
   "source": [
    "t = time.time()\n",
    "time.strftime('%Y-%m-%d %H:%M:%S %Z', time.localtime(t))"
   ]
  },
  {
   "cell_type": "code",
   "execution_count": 14,
   "metadata": {
    "id": "e-mEgDrQjUzF"
   },
   "outputs": [],
   "source": []
  }
 ],
 "metadata": {
  "accelerator": "GPU",
  "colab": {
   "collapsed_sections": [],
   "name": "ConvRecur_101.ipynb",
   "provenance": []
  },
  "kernelspec": {
   "display_name": "Python 3",
   "language": "python",
   "name": "python3"
  },
  "language_info": {
   "codemirror_mode": {
    "name": "ipython",
    "version": 3
   },
   "file_extension": ".py",
   "mimetype": "text/x-python",
   "name": "python",
   "nbconvert_exporter": "python",
   "pygments_lexer": "ipython3",
   "version": "3.8.3"
  }
 },
 "nbformat": 4,
 "nbformat_minor": 1
}
