{
  "nbformat": 4,
  "nbformat_minor": 0,
  "metadata": {
    "accelerator": "GPU",
    "colab": {
      "name": "ORF_LSTM_101.ipynb",
      "provenance": [],
      "collapsed_sections": []
    },
    "kernelspec": {
      "display_name": "Python 3",
      "language": "python",
      "name": "python3"
    },
    "language_info": {
      "codemirror_mode": {
        "name": "ipython",
        "version": 3
      },
      "file_extension": ".py",
      "mimetype": "text/x-python",
      "name": "python",
      "nbconvert_exporter": "python",
      "pygments_lexer": "ipython3",
      "version": "3.8.3"
    }
  },
  "cells": [
    {
      "cell_type": "markdown",
      "metadata": {
        "id": "0asdcdunj2Tx"
      },
      "source": [
        "# ORF recognition by LSTM\n"
      ]
    },
    {
      "cell_type": "code",
      "metadata": {
        "colab": {
          "base_uri": "https://localhost:8080/",
          "height": 36
        },
        "id": "QP1VTRNQj2UO",
        "outputId": "cd925005-d013-4c5b-fc84-118ac3e07eb2"
      },
      "source": [
        "import time \n",
        "t = time.time()\n",
        "time.strftime('%Y-%m-%d %H:%M:%S %Z', time.localtime(t))"
      ],
      "execution_count": 32,
      "outputs": [
        {
          "output_type": "execute_result",
          "data": {
            "application/vnd.google.colaboratory.intrinsic+json": {
              "type": "string"
            },
            "text/plain": [
              "'2021-05-17 16:42:35 UTC'"
            ]
          },
          "metadata": {
            "tags": []
          },
          "execution_count": 32
        }
      ]
    },
    {
      "cell_type": "code",
      "metadata": {
        "id": "Nhz4GKonj2T_"
      },
      "source": [
        "PC_SEQUENCES=20000   # how many protein-coding sequences\n",
        "NC_SEQUENCES=20000   # how many non-coding sequences\n",
        "PC_TESTS=1000\n",
        "NC_TESTS=1000\n",
        "BASES=1000            # how long is each sequence\n",
        "ALPHABET=4          # how many different letters are possible\n",
        "INPUT_SHAPE_2D = (BASES,ALPHABET,1) # Conv2D needs 3D inputs\n",
        "INPUT_SHAPE = (BASES,ALPHABET) # Conv1D needs 2D inputs\n",
        "NEURONS = 64\n",
        "#DROP_RATE = 0.2\n",
        "EPOCHS=50  # how many times to train on all the data\n",
        "SPLITS=5  # SPLITS=3 means train on 2/3 and validate on 1/3 \n",
        "FOLDS=1  # train the model this many times (range 1 to SPLITS)"
      ],
      "execution_count": 33,
      "outputs": []
    },
    {
      "cell_type": "code",
      "metadata": {
        "colab": {
          "base_uri": "https://localhost:8080/"
        },
        "id": "lr7q90rxj2UE",
        "outputId": "2d662fa9-1625-4683-e626-0bcc4d05aa3b"
      },
      "source": [
        "import sys\n",
        "try:\n",
        "    from google.colab import drive\n",
        "    IN_COLAB = True\n",
        "    print(\"On Google CoLab, mount cloud-local file, get our code from GitHub.\")\n",
        "    PATH='/content/drive/'\n",
        "    #drive.mount(PATH,force_remount=True)  # hardly ever need this\n",
        "    #drive.mount(PATH)    # Google will require login credentials\n",
        "    DATAPATH=PATH+'My Drive/data/'  # must end in \"/\"\n",
        "    import requests\n",
        "    r = requests.get('https://raw.githubusercontent.com/ShepherdCode/Soars2021/master/SimTools/RNA_gen.py')\n",
        "    with open('RNA_gen.py', 'w') as f:\n",
        "        f.write(r.text)  \n",
        "    from RNA_gen import *\n",
        "    r = requests.get('https://raw.githubusercontent.com/ShepherdCode/Soars2021/master/SimTools/RNA_describe.py')\n",
        "    with open('RNA_describe.py', 'w') as f:\n",
        "        f.write(r.text)  \n",
        "    from RNA_describe import *\n",
        "    r = requests.get('https://raw.githubusercontent.com/ShepherdCode/Soars2021/master/SimTools/RNA_prep.py')\n",
        "    with open('RNA_prep.py', 'w') as f:\n",
        "        f.write(r.text)  \n",
        "    from RNA_prep import *\n",
        "except:\n",
        "    print(\"CoLab not working. On my PC, use relative paths.\")\n",
        "    IN_COLAB = False\n",
        "    DATAPATH='data/'  # must end in \"/\"\n",
        "    sys.path.append(\"..\") # append parent dir in order to use sibling dirs\n",
        "    from SimTools.RNA_gen import *\n",
        "    from SimTools.RNA_describe import *\n",
        "    from SimTools.RNA_prep import *\n",
        "\n",
        "MODELPATH=\"BestModel\"  # saved on cloud instance and lost after logout\n",
        "#MODELPATH=DATAPATH+MODELPATH  # saved on Google Drive but requires login\n",
        "\n",
        "if not assert_imported_RNA_gen():\n",
        "    print(\"ERROR: Cannot use RNA_gen.\")\n",
        "if not assert_imported_RNA_prep():\n",
        "    print(\"ERROR: Cannot use RNA_prep.\")"
      ],
      "execution_count": 34,
      "outputs": [
        {
          "output_type": "stream",
          "text": [
            "On Google CoLab, mount cloud-local file, get our code from GitHub.\n"
          ],
          "name": "stdout"
        }
      ]
    },
    {
      "cell_type": "code",
      "metadata": {
        "id": "EGDXH8Uwj2UM"
      },
      "source": [
        "from os import listdir\n",
        "import csv\n",
        "from zipfile import ZipFile\n",
        "\n",
        "import numpy as np\n",
        "import pandas as pd\n",
        "from scipy import stats  # mode\n",
        "\n",
        "from sklearn.preprocessing import StandardScaler\n",
        "from sklearn.model_selection import KFold\n",
        "from sklearn.model_selection import cross_val_score\n",
        "\n",
        "from keras.models import Sequential\n",
        "from keras.layers import Dense,Embedding,Dropout,TimeDistributed\n",
        "from keras.layers import LSTM\n",
        "from keras.losses import BinaryCrossentropy\n",
        "# tf.keras.losses.BinaryCrossentropy\n",
        "\n",
        "import matplotlib.pyplot as plt\n",
        "from matplotlib import colors\n",
        "mycmap = colors.ListedColormap(['red','blue'])  # list color for label 0 then 1\n",
        "np.set_printoptions(precision=2)\n"
      ],
      "execution_count": 35,
      "outputs": []
    },
    {
      "cell_type": "code",
      "metadata": {
        "colab": {
          "base_uri": "https://localhost:8080/"
        },
        "id": "Q0FetlLPj2UQ",
        "outputId": "ef23f0ca-3083-4c21-ec2f-e8bd992b2754"
      },
      "source": [
        "# Use code from our SimTools library.\n",
        "def make_generators(seq_len):\n",
        "    pcgen = Collection_Generator()  \n",
        "    pcgen.get_len_oracle().set_mean(seq_len)\n",
        "    pcgen.set_seq_oracle(Transcript_Oracle())\n",
        "    ncgen = Collection_Generator()  \n",
        "    ncgen.get_len_oracle().set_mean(seq_len)\n",
        "    return pcgen,ncgen\n",
        "\n",
        "pc_sim,nc_sim = make_generators(BASES)\n",
        "pc_train = pc_sim.get_sequences(PC_SEQUENCES)\n",
        "nc_train = nc_sim.get_sequences(NC_SEQUENCES)\n",
        "print(\"Train on\",len(pc_train),\"PC seqs\")\n",
        "print(\"Train on\",len(nc_train),\"NC seqs\")"
      ],
      "execution_count": 36,
      "outputs": [
        {
          "output_type": "stream",
          "text": [
            "Train on 20000 PC seqs\n",
            "Train on 20000 NC seqs\n"
          ],
          "name": "stdout"
        }
      ]
    },
    {
      "cell_type": "code",
      "metadata": {
        "colab": {
          "base_uri": "https://localhost:8080/"
        },
        "id": "CIpTrnH6j2US",
        "outputId": "9331cd01-908b-434b-c314-4f5c69c43b01"
      },
      "source": [
        "# Use code from our SimTools library.\n",
        "X,y = prepare_inputs_len_x_alphabet(pc_train,nc_train,ALPHABET) # shuffles\n",
        "print(\"Data ready.\")"
      ],
      "execution_count": 37,
      "outputs": [
        {
          "output_type": "stream",
          "text": [
            "Data ready.\n"
          ],
          "name": "stdout"
        }
      ]
    },
    {
      "cell_type": "code",
      "metadata": {
        "colab": {
          "base_uri": "https://localhost:8080/"
        },
        "id": "7NvrVU8ij2UU",
        "outputId": "8d3d5e86-4bf7-40fb-fd8e-5951e5a43eb0"
      },
      "source": [
        "def make_DNN():\n",
        "    print(\"make_DNN\")\n",
        "    print(\"input shape:\",INPUT_SHAPE)\n",
        "    dnn = Sequential()\n",
        "    #dnn.add(Embedding(input_dim=ALPHABET, output_dim=ALPHABET))\n",
        "        #VOCABULARY_SIZE, EMBED_DIMEN, input_length=1000, input_length=1000, mask_zero=True)\n",
        "        #input_dim=[None,VOCABULARY_SIZE], output_dim=EMBED_DIMEN, mask_zero=True)\n",
        "    dnn.add(LSTM(NEURONS,return_sequences=True,input_shape=INPUT_SHAPE))\n",
        "    dnn.add(LSTM(NEURONS,return_sequences=True))\n",
        "    dnn.add(LSTM(NEURONS,return_sequences=True)) \n",
        "    # The first dense layer should be wrapped in TimeDistributed()\n",
        "    # but keras claims to autodetect and do that anyway.\n",
        "    dnn.add(TimeDistributed(Dense(NEURONS,activation=\"sigmoid\",dtype=np.float32)))  \n",
        "    dnn.add(Dense(1,activation=\"sigmoid\",dtype=np.float32))   \n",
        "    dnn.compile(optimizer='adam',\n",
        "                loss=BinaryCrossentropy(from_logits=False),\n",
        "                metrics=['accuracy'])   # add to default metrics=loss\n",
        "    dnn.build() # input_shape=INPUT_SHAPE)\n",
        "    #ln_rate = tf.keras.optimizers.Adam(learning_rate = LN_RATE)\n",
        "    #bc=tf.keras.losses.BinaryCrossentropy(from_logits=False)\n",
        "    #model.compile(loss=bc, optimizer=ln_rate, metrics=[\"accuracy\"])\n",
        "    return dnn\n",
        "model = make_DNN()\n",
        "print(model.summary())"
      ],
      "execution_count": 39,
      "outputs": [
        {
          "output_type": "stream",
          "text": [
            "make_DNN\n",
            "input shape: (1000, 4)\n",
            "Model: \"sequential_8\"\n",
            "_________________________________________________________________\n",
            "Layer (type)                 Output Shape              Param #   \n",
            "=================================================================\n",
            "lstm_20 (LSTM)               (None, 1000, 64)          17664     \n",
            "_________________________________________________________________\n",
            "lstm_21 (LSTM)               (None, 1000, 64)          33024     \n",
            "_________________________________________________________________\n",
            "lstm_22 (LSTM)               (None, 1000, 64)          33024     \n",
            "_________________________________________________________________\n",
            "time_distributed_1 (TimeDist (None, 1000, 64)          4160      \n",
            "_________________________________________________________________\n",
            "dense_14 (Dense)             (None, 1000, 1)           65        \n",
            "=================================================================\n",
            "Total params: 87,937\n",
            "Trainable params: 87,937\n",
            "Non-trainable params: 0\n",
            "_________________________________________________________________\n",
            "None\n"
          ],
          "name": "stdout"
        }
      ]
    },
    {
      "cell_type": "code",
      "metadata": {
        "id": "nlVF0hR3j2UW"
      },
      "source": [
        "from keras.callbacks import ModelCheckpoint\n",
        "# This keras class has a known bug in saving LSTM layers.\n",
        "# The recommended work-around is to save to HDF5 format.\n",
        "# Easier said than done.\n",
        "def do_cross_validation(X,y):\n",
        "    cv_scores = []\n",
        "    fold=0\n",
        "    mycallbacks = [ModelCheckpoint(\n",
        "        filepath=MODELPATH, save_best_only=True, \n",
        "        monitor='val_accuracy', mode='max')]   \n",
        "    splitter = KFold(n_splits=SPLITS)  # this does not shuffle\n",
        "    for train_index,valid_index in splitter.split(X):\n",
        "        if fold < FOLDS:\n",
        "            fold += 1\n",
        "            X_train=X[train_index] # inputs for training\n",
        "            y_train=y[train_index] # labels for training\n",
        "            X_valid=X[valid_index] # inputs for validation\n",
        "            y_valid=y[valid_index] # labels for validation\n",
        "            print(\"MODEL\")\n",
        "            # Call constructor on each CV. Else, continually improves the same model.\n",
        "            model = model = make_DNN()\n",
        "            print(\"FIT\")  # model.fit() implements learning\n",
        "            start_time=time.time()\n",
        "            history=model.fit(X_train, y_train, \n",
        "                    epochs=EPOCHS, \n",
        "                    verbose=1,  # ascii art while learning\n",
        "                    callbacks=mycallbacks,   # called at end of each epoch\n",
        "                    validation_data=(X_valid,y_valid))\n",
        "            end_time=time.time()\n",
        "            elapsed_time=(end_time-start_time)                        \n",
        "            print(\"Fold %d, %d epochs, %d sec\"%(fold,EPOCHS,elapsed_time))\n",
        "            # print(history.history.keys())  # all these keys will be shown in figure\n",
        "            pd.DataFrame(history.history).plot(figsize=(8,5))\n",
        "            plt.grid(True)\n",
        "            plt.gca().set_ylim(0,1) # any losses > 1 will be off the scale\n",
        "            plt.show()\n"
      ],
      "execution_count": 40,
      "outputs": []
    },
    {
      "cell_type": "code",
      "metadata": {
        "colab": {
          "base_uri": "https://localhost:8080/",
          "height": 1000
        },
        "id": "9Ggt4EsSj2UY",
        "outputId": "60cfe602-13bf-4db8-c583-68eafb9194b8"
      },
      "source": [
        "do_cross_validation(X,y)"
      ],
      "execution_count": 41,
      "outputs": [
        {
          "output_type": "stream",
          "text": [
            "MODEL\n",
            "make_DNN\n",
            "input shape: (1000, 4)\n",
            "FIT\n",
            "Epoch 1/50\n",
            "1000/1000 [==============================] - 129s 125ms/step - loss: 0.6943 - accuracy: 0.5031 - val_loss: 0.6957 - val_accuracy: 0.4971\n"
          ],
          "name": "stdout"
        },
        {
          "output_type": "stream",
          "text": [
            "WARNING:absl:Found untraced functions such as lstm_cell_25_layer_call_fn, lstm_cell_25_layer_call_and_return_conditional_losses, lstm_cell_26_layer_call_fn, lstm_cell_26_layer_call_and_return_conditional_losses, lstm_cell_27_layer_call_fn while saving (showing 5 of 15). These functions will not be directly callable after loading.\n",
            "WARNING:absl:Found untraced functions such as lstm_cell_25_layer_call_fn, lstm_cell_25_layer_call_and_return_conditional_losses, lstm_cell_26_layer_call_fn, lstm_cell_26_layer_call_and_return_conditional_losses, lstm_cell_27_layer_call_fn while saving (showing 5 of 15). These functions will not be directly callable after loading.\n"
          ],
          "name": "stderr"
        },
        {
          "output_type": "stream",
          "text": [
            "INFO:tensorflow:Assets written to: BestModel/assets\n"
          ],
          "name": "stdout"
        },
        {
          "output_type": "stream",
          "text": [
            "INFO:tensorflow:Assets written to: BestModel/assets\n"
          ],
          "name": "stderr"
        },
        {
          "output_type": "stream",
          "text": [
            "Epoch 2/50\n",
            "1000/1000 [==============================] - 130s 130ms/step - loss: 0.6941 - accuracy: 0.4980 - val_loss: 0.6940 - val_accuracy: 0.5001\n"
          ],
          "name": "stdout"
        },
        {
          "output_type": "stream",
          "text": [
            "WARNING:absl:Found untraced functions such as lstm_cell_25_layer_call_fn, lstm_cell_25_layer_call_and_return_conditional_losses, lstm_cell_26_layer_call_fn, lstm_cell_26_layer_call_and_return_conditional_losses, lstm_cell_27_layer_call_fn while saving (showing 5 of 15). These functions will not be directly callable after loading.\n",
            "WARNING:absl:Found untraced functions such as lstm_cell_25_layer_call_fn, lstm_cell_25_layer_call_and_return_conditional_losses, lstm_cell_26_layer_call_fn, lstm_cell_26_layer_call_and_return_conditional_losses, lstm_cell_27_layer_call_fn while saving (showing 5 of 15). These functions will not be directly callable after loading.\n"
          ],
          "name": "stderr"
        },
        {
          "output_type": "stream",
          "text": [
            "INFO:tensorflow:Assets written to: BestModel/assets\n"
          ],
          "name": "stdout"
        },
        {
          "output_type": "stream",
          "text": [
            "INFO:tensorflow:Assets written to: BestModel/assets\n"
          ],
          "name": "stderr"
        },
        {
          "output_type": "stream",
          "text": [
            "Epoch 3/50\n",
            "1000/1000 [==============================] - 130s 130ms/step - loss: 0.6940 - accuracy: 0.4946 - val_loss: 0.6936 - val_accuracy: 0.4999\n",
            "Epoch 4/50\n",
            "1000/1000 [==============================] - 129s 129ms/step - loss: 0.6940 - accuracy: 0.4979 - val_loss: 0.6944 - val_accuracy: 0.5001\n",
            "Epoch 5/50\n",
            "1000/1000 [==============================] - 130s 130ms/step - loss: 0.6940 - accuracy: 0.4988 - val_loss: 0.6934 - val_accuracy: 0.4999\n",
            "Epoch 6/50\n",
            "1000/1000 [==============================] - 129s 129ms/step - loss: 0.6938 - accuracy: 0.5004 - val_loss: 0.6945 - val_accuracy: 0.5001\n",
            "Epoch 7/50\n",
            "1000/1000 [==============================] - 129s 129ms/step - loss: 0.6942 - accuracy: 0.4955 - val_loss: 0.6933 - val_accuracy: 0.4999\n",
            "Epoch 8/50\n",
            "1000/1000 [==============================] - 129s 129ms/step - loss: 0.6937 - accuracy: 0.4994 - val_loss: 0.6932 - val_accuracy: 0.5001\n",
            "Epoch 9/50\n",
            "1000/1000 [==============================] - 130s 130ms/step - loss: 0.6937 - accuracy: 0.5026 - val_loss: 0.6941 - val_accuracy: 0.4999\n",
            "Epoch 10/50\n",
            "1000/1000 [==============================] - 130s 130ms/step - loss: 0.6943 - accuracy: 0.4986 - val_loss: 0.6934 - val_accuracy: 0.4999\n",
            "Epoch 11/50\n",
            "1000/1000 [==============================] - 129s 129ms/step - loss: 0.6936 - accuracy: 0.5052 - val_loss: 0.6959 - val_accuracy: 0.4999\n",
            "Epoch 12/50\n",
            "1000/1000 [==============================] - 130s 130ms/step - loss: 0.6938 - accuracy: 0.4995 - val_loss: 0.6932 - val_accuracy: 0.4999\n",
            "Epoch 13/50\n",
            "1000/1000 [==============================] - 129s 129ms/step - loss: 0.6940 - accuracy: 0.4969 - val_loss: 0.6931 - val_accuracy: 0.5002\n"
          ],
          "name": "stdout"
        },
        {
          "output_type": "stream",
          "text": [
            "WARNING:absl:Found untraced functions such as lstm_cell_25_layer_call_fn, lstm_cell_25_layer_call_and_return_conditional_losses, lstm_cell_26_layer_call_fn, lstm_cell_26_layer_call_and_return_conditional_losses, lstm_cell_27_layer_call_fn while saving (showing 5 of 15). These functions will not be directly callable after loading.\n",
            "WARNING:absl:Found untraced functions such as lstm_cell_25_layer_call_fn, lstm_cell_25_layer_call_and_return_conditional_losses, lstm_cell_26_layer_call_fn, lstm_cell_26_layer_call_and_return_conditional_losses, lstm_cell_27_layer_call_fn while saving (showing 5 of 15). These functions will not be directly callable after loading.\n"
          ],
          "name": "stderr"
        },
        {
          "output_type": "stream",
          "text": [
            "INFO:tensorflow:Assets written to: BestModel/assets\n"
          ],
          "name": "stdout"
        },
        {
          "output_type": "stream",
          "text": [
            "INFO:tensorflow:Assets written to: BestModel/assets\n"
          ],
          "name": "stderr"
        },
        {
          "output_type": "stream",
          "text": [
            "Epoch 14/50\n",
            "1000/1000 [==============================] - 128s 127ms/step - loss: 0.6938 - accuracy: 0.4985 - val_loss: 0.6943 - val_accuracy: 0.4999\n",
            "Epoch 15/50\n",
            "1000/1000 [==============================] - 127s 127ms/step - loss: 0.6940 - accuracy: 0.4981 - val_loss: 0.6944 - val_accuracy: 0.5001\n",
            "Epoch 16/50\n",
            "1000/1000 [==============================] - 127s 127ms/step - loss: 0.6939 - accuracy: 0.5014 - val_loss: 0.6947 - val_accuracy: 0.4999\n",
            "Epoch 17/50\n",
            "1000/1000 [==============================] - 127s 127ms/step - loss: 0.6939 - accuracy: 0.5037 - val_loss: 0.6931 - val_accuracy: 0.4999\n",
            "Epoch 18/50\n",
            "1000/1000 [==============================] - 127s 127ms/step - loss: 0.6938 - accuracy: 0.4968 - val_loss: 0.6932 - val_accuracy: 0.5001\n",
            "Epoch 19/50\n",
            "1000/1000 [==============================] - 127s 127ms/step - loss: 0.6938 - accuracy: 0.4951 - val_loss: 0.6945 - val_accuracy: 0.4999\n",
            "Epoch 20/50\n",
            "1000/1000 [==============================] - 127s 127ms/step - loss: 0.6938 - accuracy: 0.4903 - val_loss: 0.6952 - val_accuracy: 0.5001\n",
            "Epoch 21/50\n",
            "1000/1000 [==============================] - 128s 128ms/step - loss: 0.6936 - accuracy: 0.5040 - val_loss: 0.6940 - val_accuracy: 0.5001\n",
            "Epoch 22/50\n",
            "1000/1000 [==============================] - 128s 128ms/step - loss: 0.6940 - accuracy: 0.5005 - val_loss: 0.6946 - val_accuracy: 0.4999\n",
            "Epoch 23/50\n",
            "1000/1000 [==============================] - 128s 128ms/step - loss: 0.6938 - accuracy: 0.5045 - val_loss: 0.6931 - val_accuracy: 0.4999\n",
            "Epoch 24/50\n",
            "1000/1000 [==============================] - 128s 128ms/step - loss: 0.6940 - accuracy: 0.4944 - val_loss: 0.6944 - val_accuracy: 0.4999\n",
            "Epoch 25/50\n",
            "1000/1000 [==============================] - 128s 128ms/step - loss: 0.6941 - accuracy: 0.4925 - val_loss: 0.6940 - val_accuracy: 0.4999\n",
            "Epoch 26/50\n",
            "1000/1000 [==============================] - 128s 128ms/step - loss: 0.6938 - accuracy: 0.5002 - val_loss: 0.6937 - val_accuracy: 0.5001\n",
            "Epoch 27/50\n",
            "1000/1000 [==============================] - 128s 128ms/step - loss: 0.6937 - accuracy: 0.5031 - val_loss: 0.6960 - val_accuracy: 0.4999\n",
            "Epoch 28/50\n",
            "1000/1000 [==============================] - 128s 128ms/step - loss: 0.6936 - accuracy: 0.5046 - val_loss: 0.6932 - val_accuracy: 0.5001\n",
            "Epoch 29/50\n",
            "1000/1000 [==============================] - 128s 128ms/step - loss: 0.6941 - accuracy: 0.5009 - val_loss: 0.6943 - val_accuracy: 0.4999\n",
            "Epoch 30/50\n",
            "1000/1000 [==============================] - 128s 128ms/step - loss: 0.6937 - accuracy: 0.5040 - val_loss: 0.6931 - val_accuracy: 0.4999\n",
            "Epoch 31/50\n",
            "1000/1000 [==============================] - 128s 128ms/step - loss: 0.6935 - accuracy: 0.4969 - val_loss: 0.6934 - val_accuracy: 0.5001\n",
            "Epoch 32/50\n",
            "1000/1000 [==============================] - 128s 128ms/step - loss: 0.6937 - accuracy: 0.4972 - val_loss: 0.6941 - val_accuracy: 0.4999\n",
            "Epoch 33/50\n",
            "1000/1000 [==============================] - 128s 128ms/step - loss: 0.6938 - accuracy: 0.5002 - val_loss: 0.6932 - val_accuracy: 0.4999\n",
            "Epoch 34/50\n",
            "1000/1000 [==============================] - 128s 128ms/step - loss: 0.6940 - accuracy: 0.5023 - val_loss: 0.6937 - val_accuracy: 0.4999\n",
            "Epoch 35/50\n",
            "1000/1000 [==============================] - 128s 128ms/step - loss: 0.6939 - accuracy: 0.4977 - val_loss: 0.6944 - val_accuracy: 0.5001\n",
            "Epoch 36/50\n",
            "1000/1000 [==============================] - 128s 128ms/step - loss: 0.6939 - accuracy: 0.5017 - val_loss: 0.6952 - val_accuracy: 0.4999\n",
            "Epoch 37/50\n",
            "1000/1000 [==============================] - 127s 127ms/step - loss: 0.6936 - accuracy: 0.4991 - val_loss: 0.6932 - val_accuracy: 0.4999\n",
            "Epoch 38/50\n",
            "1000/1000 [==============================] - 128s 128ms/step - loss: 0.6938 - accuracy: 0.5018 - val_loss: 0.6949 - val_accuracy: 0.5001\n",
            "Epoch 39/50\n",
            "1000/1000 [==============================] - 129s 129ms/step - loss: 0.6943 - accuracy: 0.4954 - val_loss: 0.6932 - val_accuracy: 0.4999\n",
            "Epoch 40/50\n",
            "1000/1000 [==============================] - 129s 129ms/step - loss: 0.6936 - accuracy: 0.5074 - val_loss: 0.6942 - val_accuracy: 0.5001\n",
            "Epoch 41/50\n",
            "1000/1000 [==============================] - 128s 128ms/step - loss: 0.6939 - accuracy: 0.4942 - val_loss: 0.6933 - val_accuracy: 0.4999\n",
            "Epoch 42/50\n",
            "1000/1000 [==============================] - 130s 130ms/step - loss: 0.6939 - accuracy: 0.4986 - val_loss: 0.6944 - val_accuracy: 0.4999\n",
            "Epoch 43/50\n",
            "1000/1000 [==============================] - 130s 130ms/step - loss: 0.6940 - accuracy: 0.4988 - val_loss: 0.6933 - val_accuracy: 0.4999\n",
            "Epoch 44/50\n",
            "1000/1000 [==============================] - 129s 129ms/step - loss: 0.6938 - accuracy: 0.4991 - val_loss: 0.6971 - val_accuracy: 0.4999\n",
            "Epoch 45/50\n",
            "1000/1000 [==============================] - 129s 129ms/step - loss: 0.6939 - accuracy: 0.4963 - val_loss: 0.6939 - val_accuracy: 0.4999\n",
            "Epoch 46/50\n",
            "1000/1000 [==============================] - 128s 128ms/step - loss: 0.6940 - accuracy: 0.5014 - val_loss: 0.6932 - val_accuracy: 0.5001\n",
            "Epoch 47/50\n",
            "1000/1000 [==============================] - 127s 127ms/step - loss: 0.6938 - accuracy: 0.4972 - val_loss: 0.6932 - val_accuracy: 0.5001\n",
            "Epoch 48/50\n",
            "1000/1000 [==============================] - 128s 128ms/step - loss: 0.6937 - accuracy: 0.5010 - val_loss: 0.6946 - val_accuracy: 0.4999\n",
            "Epoch 49/50\n",
            "1000/1000 [==============================] - 128s 128ms/step - loss: 0.6937 - accuracy: 0.5008 - val_loss: 0.6944 - val_accuracy: 0.4999\n",
            "Epoch 50/50\n",
            "1000/1000 [==============================] - 128s 128ms/step - loss: 0.6940 - accuracy: 0.4991 - val_loss: 0.6942 - val_accuracy: 0.5001\n",
            "Fold 1, 50 epochs, 6459 sec\n"
          ],
          "name": "stdout"
        },
        {
          "output_type": "display_data",
          "data": {
            "image/png": "[encoded data removed]",
            "text/plain": [
              "<Figure size 576x360 with 1 Axes>"
            ]
          },
          "metadata": {
            "tags": [],
            "needs_background": "light"
          }
        }
      ]
    },
    {
      "cell_type": "code",
      "metadata": {
        "id": "e-jG1h5fj2Ua",
        "colab": {
          "base_uri": "https://localhost:8080/"
        },
        "outputId": "49b377a5-786d-4909-ea7e-cb11534e1044"
      },
      "source": [
        "from keras.models import load_model\n",
        "pc_sim.set_reproducible(True)\n",
        "nc_sim.set_reproducible(True)\n",
        "pc_test = pc_sim.get_sequences(PC_TESTS)\n",
        "nc_test = nc_sim.get_sequences(NC_TESTS)\n",
        "X,y = prepare_inputs_len_x_alphabet(pc_test,nc_test,ALPHABET)\n",
        "best_model=load_model(MODELPATH)\n",
        "scores = best_model.evaluate(X, y, verbose=0)\n",
        "print(\"The best model parameters were saved during cross-validation.\")\n",
        "print(\"Best was defined as maximum validation accuracy at end of any epoch.\")\n",
        "print(\"Now re-load the best model and test it on previously unseen data.\")\n",
        "print(\"Test on\",len(pc_test),\"PC seqs\")\n",
        "print(\"Test on\",len(nc_test),\"NC seqs\")\n",
        "print(\"%s: %.2f%%\" % (best_model.metrics_names[1], scores[1]*100))\n"
      ],
      "execution_count": 42,
      "outputs": [
        {
          "output_type": "stream",
          "text": [
            "The best model parameters were saved during cross-validation.\n",
            "Best was defined as maximum validation accuracy at end of any epoch.\n",
            "Now re-load the best model and test it on previously unseen data.\n",
            "Test on 1000 PC seqs\n",
            "Test on 1000 NC seqs\n",
            "accuracy: 49.98%\n"
          ],
          "name": "stdout"
        }
      ]
    },
    {
      "cell_type": "code",
      "metadata": {
        "id": "VycUnmvUj2Ue",
        "colab": {
          "base_uri": "https://localhost:8080/",
          "height": 415
        },
        "outputId": "907656a6-b64e-427d-e042-8e5bc4af9a4a"
      },
      "source": [
        "from sklearn.metrics import roc_curve\n",
        "from sklearn.metrics import roc_auc_score\n",
        "ns_probs = [0 for _ in range(len(y))]\n",
        "bm_probs = best_model.predict(X)\n",
        "ns_auc = roc_auc_score(y, ns_probs)\n",
        "bm_auc = roc_auc_score(y, bm_probs)\n",
        "ns_fpr, ns_tpr, _ = roc_curve(y, ns_probs)\n",
        "bm_fpr, bm_tpr, _ = roc_curve(y, bm_probs)\n",
        "plt.plot(ns_fpr, ns_tpr, linestyle='--', label='Guess, auc=%.4f'%ns_auc)\n",
        "plt.plot(bm_fpr, bm_tpr, marker='.', label='Model, auc=%.4f'%bm_auc)\n",
        "plt.title('ROC')\n",
        "plt.xlabel('False Positive Rate')\n",
        "plt.ylabel('True Positive Rate')\n",
        "plt.legend()\n",
        "plt.show()\n",
        "print(\"%s: %.2f%%\" %('AUC',bm_auc))\n"
      ],
      "execution_count": 43,
      "outputs": [
        {
          "output_type": "error",
          "ename": "ValueError",
          "evalue": "ignored",
          "traceback": [
            "\u001b[0;31m---------------------------------------------------------------------------\u001b[0m",
            "\u001b[0;31mValueError\u001b[0m                                Traceback (most recent call last)",
            "\u001b[0;32m<ipython-input-43-d1c96b58fcc7>\u001b[0m in \u001b[0;36m<module>\u001b[0;34m()\u001b[0m\n\u001b[1;32m      4\u001b[0m \u001b[0mbm_probs\u001b[0m \u001b[0;34m=\u001b[0m \u001b[0mbest_model\u001b[0m\u001b[0;34m.\u001b[0m\u001b[0mpredict\u001b[0m\u001b[0;34m(\u001b[0m\u001b[0mX\u001b[0m\u001b[0;34m)\u001b[0m\u001b[0;34m\u001b[0m\u001b[0;34m\u001b[0m\u001b[0m\n\u001b[1;32m      5\u001b[0m \u001b[0mns_auc\u001b[0m \u001b[0;34m=\u001b[0m \u001b[0mroc_auc_score\u001b[0m\u001b[0;34m(\u001b[0m\u001b[0my\u001b[0m\u001b[0;34m,\u001b[0m \u001b[0mns_probs\u001b[0m\u001b[0;34m)\u001b[0m\u001b[0;34m\u001b[0m\u001b[0;34m\u001b[0m\u001b[0m\n\u001b[0;32m----> 6\u001b[0;31m \u001b[0mbm_auc\u001b[0m \u001b[0;34m=\u001b[0m \u001b[0mroc_auc_score\u001b[0m\u001b[0;34m(\u001b[0m\u001b[0my\u001b[0m\u001b[0;34m,\u001b[0m \u001b[0mbm_probs\u001b[0m\u001b[0;34m)\u001b[0m\u001b[0;34m\u001b[0m\u001b[0;34m\u001b[0m\u001b[0m\n\u001b[0m\u001b[1;32m      7\u001b[0m \u001b[0mns_fpr\u001b[0m\u001b[0;34m,\u001b[0m \u001b[0mns_tpr\u001b[0m\u001b[0;34m,\u001b[0m \u001b[0m_\u001b[0m \u001b[0;34m=\u001b[0m \u001b[0mroc_curve\u001b[0m\u001b[0;34m(\u001b[0m\u001b[0my\u001b[0m\u001b[0;34m,\u001b[0m \u001b[0mns_probs\u001b[0m\u001b[0;34m)\u001b[0m\u001b[0;34m\u001b[0m\u001b[0;34m\u001b[0m\u001b[0m\n\u001b[1;32m      8\u001b[0m \u001b[0mbm_fpr\u001b[0m\u001b[0;34m,\u001b[0m \u001b[0mbm_tpr\u001b[0m\u001b[0;34m,\u001b[0m \u001b[0m_\u001b[0m \u001b[0;34m=\u001b[0m \u001b[0mroc_curve\u001b[0m\u001b[0;34m(\u001b[0m\u001b[0my\u001b[0m\u001b[0;34m,\u001b[0m \u001b[0mbm_probs\u001b[0m\u001b[0;34m)\u001b[0m\u001b[0;34m\u001b[0m\u001b[0;34m\u001b[0m\u001b[0m\n",
            "\u001b[0;32m/usr/local/lib/python3.7/dist-packages/sklearn/metrics/_ranking.py\u001b[0m in \u001b[0;36mroc_auc_score\u001b[0;34m(y_true, y_score, average, sample_weight, max_fpr, multi_class, labels)\u001b[0m\n\u001b[1;32m    367\u001b[0m     \u001b[0my_type\u001b[0m \u001b[0;34m=\u001b[0m \u001b[0mtype_of_target\u001b[0m\u001b[0;34m(\u001b[0m\u001b[0my_true\u001b[0m\u001b[0;34m)\u001b[0m\u001b[0;34m\u001b[0m\u001b[0;34m\u001b[0m\u001b[0m\n\u001b[1;32m    368\u001b[0m     \u001b[0my_true\u001b[0m \u001b[0;34m=\u001b[0m \u001b[0mcheck_array\u001b[0m\u001b[0;34m(\u001b[0m\u001b[0my_true\u001b[0m\u001b[0;34m,\u001b[0m \u001b[0mensure_2d\u001b[0m\u001b[0;34m=\u001b[0m\u001b[0;32mFalse\u001b[0m\u001b[0;34m,\u001b[0m \u001b[0mdtype\u001b[0m\u001b[0;34m=\u001b[0m\u001b[0;32mNone\u001b[0m\u001b[0;34m)\u001b[0m\u001b[0;34m\u001b[0m\u001b[0;34m\u001b[0m\u001b[0m\n\u001b[0;32m--> 369\u001b[0;31m     \u001b[0my_score\u001b[0m \u001b[0;34m=\u001b[0m \u001b[0mcheck_array\u001b[0m\u001b[0;34m(\u001b[0m\u001b[0my_score\u001b[0m\u001b[0;34m,\u001b[0m \u001b[0mensure_2d\u001b[0m\u001b[0;34m=\u001b[0m\u001b[0;32mFalse\u001b[0m\u001b[0;34m)\u001b[0m\u001b[0;34m\u001b[0m\u001b[0;34m\u001b[0m\u001b[0m\n\u001b[0m\u001b[1;32m    370\u001b[0m \u001b[0;34m\u001b[0m\u001b[0m\n\u001b[1;32m    371\u001b[0m     if y_type == \"multiclass\" or (y_type == \"binary\" and\n",
            "\u001b[0;32m/usr/local/lib/python3.7/dist-packages/sklearn/utils/validation.py\u001b[0m in \u001b[0;36mcheck_array\u001b[0;34m(array, accept_sparse, accept_large_sparse, dtype, order, copy, force_all_finite, ensure_2d, allow_nd, ensure_min_samples, ensure_min_features, warn_on_dtype, estimator)\u001b[0m\n\u001b[1;32m    572\u001b[0m         \u001b[0;32mif\u001b[0m \u001b[0;32mnot\u001b[0m \u001b[0mallow_nd\u001b[0m \u001b[0;32mand\u001b[0m \u001b[0marray\u001b[0m\u001b[0;34m.\u001b[0m\u001b[0mndim\u001b[0m \u001b[0;34m>=\u001b[0m \u001b[0;36m3\u001b[0m\u001b[0;34m:\u001b[0m\u001b[0;34m\u001b[0m\u001b[0;34m\u001b[0m\u001b[0m\n\u001b[1;32m    573\u001b[0m             raise ValueError(\"Found array with dim %d. %s expected <= 2.\"\n\u001b[0;32m--> 574\u001b[0;31m                              % (array.ndim, estimator_name))\n\u001b[0m\u001b[1;32m    575\u001b[0m \u001b[0;34m\u001b[0m\u001b[0m\n\u001b[1;32m    576\u001b[0m         \u001b[0;32mif\u001b[0m \u001b[0mforce_all_finite\u001b[0m\u001b[0;34m:\u001b[0m\u001b[0;34m\u001b[0m\u001b[0;34m\u001b[0m\u001b[0m\n",
            "\u001b[0;31mValueError\u001b[0m: Found array with dim 3. Estimator expected <= 2."
          ]
        }
      ]
    },
    {
      "cell_type": "code",
      "metadata": {
        "id": "kFMb6rGNj2Ug"
      },
      "source": [
        "t = time.time()\n",
        "time.strftime('%Y-%m-%d %H:%M:%S %Z', time.localtime(t))"
      ],
      "execution_count": null,
      "outputs": []
    }
  ]
}