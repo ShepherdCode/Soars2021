{
  "nbformat": 4,
  "nbformat_minor": 0,
  "metadata": {
    "accelerator": "GPU",
    "colab": {
      "name": "ConvRecur_117.ipynb",
      "provenance": [],
      "collapsed_sections": []
    },
    "kernelspec": {
      "display_name": "Python 3",
      "language": "python",
      "name": "python3"
    },
    "language_info": {
      "codemirror_mode": {
        "name": "ipython",
        "version": 3
      },
      "file_extension": ".py",
      "mimetype": "text/x-python",
      "name": "python",
      "nbconvert_exporter": "python",
      "pygments_lexer": "ipython3",
      "version": "3.8.3"
    }
  },
  "cells": [
    {
      "cell_type": "markdown",
      "metadata": {
        "id": "0asdcdunj2Tx"
      },
      "source": [
        "# ORF recognition by Convolutional/Recurrent\n",
        "\n",
        "Explore how to connect Dense layer after a LSTM layer.\n",
        "\n",
        "Should there be a Flatten layer between them?\n",
        "\n",
        "Should the last LSTM use return_sequences True or False?\n",
        "\n",
        "Should the first Dense layer have a TimeDistributed wrapper? What about subsequent Dense layers?"
      ]
    },
    {
      "cell_type": "code",
      "metadata": {
        "colab": {
          "base_uri": "https://localhost:8080/",
          "height": 36
        },
        "id": "QP1VTRNQj2UO",
        "outputId": "913121e7-fa0d-4290-8903-a4aa2c3b6a03"
      },
      "source": [
        "import time \n",
        "t = time.time()\n",
        "time.strftime('%Y-%m-%d %H:%M:%S %Z', time.localtime(t))"
      ],
      "execution_count": 1,
      "outputs": [
        {
          "output_type": "execute_result",
          "data": {
            "application/vnd.google.colaboratory.intrinsic+json": {
              "type": "string"
            },
            "text/plain": [
              "'2021-06-26 15:42:22 UTC'"
            ]
          },
          "metadata": {
            "tags": []
          },
          "execution_count": 1
        }
      ]
    },
    {
      "cell_type": "code",
      "metadata": {
        "id": "Nhz4GKonj2T_"
      },
      "source": [
        "PC_SEQUENCES=32000   # how many protein-coding sequences\n",
        "NC_SEQUENCES=32000   # how many non-coding sequences\n",
        "PC_TESTS=1000\n",
        "NC_TESTS=1000\n",
        "RNA_LEN=32            # how long is each sequence\n",
        "CDS_LEN=16            # min CDS len to be coding\n",
        "ALPHABET=4          # how many different letters are possible\n",
        "INPUT_SHAPE_2D = (RNA_LEN,ALPHABET,1) # Conv2D needs 3D inputs\n",
        "INPUT_SHAPE = (RNA_LEN,ALPHABET) # Conv1D needs 2D inputs\n",
        "FILTERS = 16   # how many different patterns the model looks for\n",
        "CELLS = 16\n",
        "NEURONS = 16\n",
        "DROP_RATE = 0.4\n",
        "WIDTH = 3   # how wide each pattern is, in bases\n",
        "STRIDE_2D = (1,1)  # For Conv2D how far in each direction\n",
        "STRIDE = 1 # For Conv1D, how far between pattern matches, in bases\n",
        "EPOCHS=50  # how many times to train on all the data\n",
        "SPLITS=3  # SPLITS=3 means train on 2/3 and validate on 1/3 \n",
        "FOLDS=3  # train the model this many times (range 1 to SPLITS)"
      ],
      "execution_count": 2,
      "outputs": []
    },
    {
      "cell_type": "code",
      "metadata": {
        "colab": {
          "base_uri": "https://localhost:8080/"
        },
        "id": "lr7q90rxj2UE",
        "outputId": "218e9171-cde1-489a-d1fe-ee5bbe19999e"
      },
      "source": [
        "import sys\n",
        "IN_COLAB = False\n",
        "try:\n",
        "    from google.colab import drive\n",
        "    IN_COLAB = True\n",
        "except:\n",
        "    pass\n",
        "if IN_COLAB:\n",
        "    print(\"On Google CoLab, mount cloud-local file, get our code from GitHub.\")\n",
        "    PATH='/content/drive/'\n",
        "    #drive.mount(PATH,force_remount=True)  # hardly ever need this\n",
        "    #drive.mount(PATH)    # Google will require login credentials\n",
        "    DATAPATH=PATH+'My Drive/data/'  # must end in \"/\"\n",
        "    import requests\n",
        "    r = requests.get('https://raw.githubusercontent.com/ShepherdCode/Soars2021/master/SimTools/RNA_describe.py')\n",
        "    with open('RNA_describe.py', 'w') as f:\n",
        "        f.write(r.text)  \n",
        "    from RNA_describe import ORF_counter\n",
        "    from RNA_describe import Random_Base_Oracle\n",
        "    r = requests.get('https://raw.githubusercontent.com/ShepherdCode/Soars2021/master/SimTools/RNA_prep.py')\n",
        "    with open('RNA_prep.py', 'w') as f:\n",
        "        f.write(r.text)  \n",
        "    from RNA_prep import prepare_inputs_len_x_alphabet\n",
        "else:\n",
        "        print(\"CoLab not working. On my PC, use relative paths.\")\n",
        "        DATAPATH='data/'  # must end in \"/\"\n",
        "        sys.path.append(\"..\") # append parent dir in order to use sibling dirs\n",
        "        from SimTools.RNA_describe import ORF_counter,Random_Base_Oracle\n",
        "        from SimTools.RNA_prep import prepare_inputs_len_x_alphabet\n",
        "\n",
        "MODELPATH=\"BestModel\"  # saved on cloud instance and lost after logout\n",
        "#MODELPATH=DATAPATH+MODELPATH  # saved on Google Drive but requires login\n"
      ],
      "execution_count": 3,
      "outputs": [
        {
          "output_type": "stream",
          "text": [
            "On Google CoLab, mount cloud-local file, get our code from GitHub.\n"
          ],
          "name": "stdout"
        }
      ]
    },
    {
      "cell_type": "code",
      "metadata": {
        "id": "EGDXH8Uwj2UM"
      },
      "source": [
        "from os import listdir\n",
        "import csv\n",
        "from zipfile import ZipFile\n",
        "\n",
        "import numpy as np\n",
        "import pandas as pd\n",
        "from scipy import stats  # mode\n",
        "\n",
        "from sklearn.preprocessing import StandardScaler\n",
        "from sklearn.model_selection import KFold\n",
        "from sklearn.model_selection import cross_val_score\n",
        "\n",
        "from keras.models import Sequential\n",
        "from keras.layers import Dense,Embedding,Dropout\n",
        "from keras.layers import Conv1D,Conv2D\n",
        "from keras.layers import GRU,LSTM\n",
        "from keras.layers import Flatten,TimeDistributed\n",
        "from keras.layers import MaxPooling1D,MaxPooling2D\n",
        "from keras.losses import BinaryCrossentropy\n",
        "# tf.keras.losses.BinaryCrossentropy\n",
        "\n",
        "import matplotlib.pyplot as plt\n",
        "from matplotlib import colors\n",
        "mycmap = colors.ListedColormap(['red','blue'])  # list color for label 0 then 1\n",
        "np.set_printoptions(precision=2)\n"
      ],
      "execution_count": 4,
      "outputs": []
    },
    {
      "cell_type": "code",
      "metadata": {
        "colab": {
          "base_uri": "https://localhost:8080/"
        },
        "id": "CUOG_jEvGtOm",
        "outputId": "7e812d2c-51ac-41c9-a860-a8ed581dad9a"
      },
      "source": [
        "rbo=Random_Base_Oracle(RNA_LEN,True)\n",
        "pc_all,nc_all = rbo.get_partitioned_sequences(CDS_LEN,10) # just testing\n",
        "pc_all,nc_all = rbo.get_partitioned_sequences(CDS_LEN,PC_SEQUENCES+PC_TESTS)\n",
        "print(\"Use\",len(pc_all),\"PC seqs\")\n",
        "print(\"Use\",len(nc_all),\"NC seqs\")"
      ],
      "execution_count": 5,
      "outputs": [
        {
          "output_type": "stream",
          "text": [
            "It took 65 trials to reach 10 per class.\n",
            "It took 142050 trials to reach 33000 per class.\n",
            "Use 33000 PC seqs\n",
            "Use 33000 NC seqs\n"
          ],
          "name": "stdout"
        }
      ]
    },
    {
      "cell_type": "code",
      "metadata": {
        "colab": {
          "base_uri": "https://localhost:8080/"
        },
        "id": "Q-BmSXi2jUyl",
        "outputId": "91b434f0-49f5-4223-e457-4384cc5d14a5"
      },
      "source": [
        "# Describe the sequences\n",
        "def describe_sequences(list_of_seq):\n",
        "    oc = ORF_counter()\n",
        "    num_seq = len(list_of_seq)\n",
        "    rna_lens = np.zeros(num_seq)\n",
        "    orf_lens = np.zeros(num_seq)\n",
        "    for i in range(0,num_seq):\n",
        "        rna_len = len(list_of_seq[i])\n",
        "        rna_lens[i] = rna_len\n",
        "        oc.set_sequence(list_of_seq[i])\n",
        "        orf_len = oc.get_max_orf_len()\n",
        "        orf_lens[i] = orf_len\n",
        "    print (\"Average RNA length:\",rna_lens.mean())\n",
        "    print (\"Average ORF length:\",orf_lens.mean())\n",
        "    \n",
        "print(\"Simulated sequences prior to adjustment:\")\n",
        "print(\"PC seqs\")\n",
        "describe_sequences(pc_all)\n",
        "print(\"NC seqs\")\n",
        "describe_sequences(nc_all)"
      ],
      "execution_count": 6,
      "outputs": [
        {
          "output_type": "stream",
          "text": [
            "Simulated sequences prior to adjustment:\n",
            "PC seqs\n",
            "Average RNA length: 32.0\n",
            "Average ORF length: 19.662363636363636\n",
            "NC seqs\n",
            "Average RNA length: 32.0\n",
            "Average ORF length: 2.8334545454545457\n"
          ],
          "name": "stdout"
        }
      ]
    },
    {
      "cell_type": "code",
      "metadata": {
        "id": "iP1y7-J3jUys"
      },
      "source": [
        "pc_train=pc_all[:PC_SEQUENCES]\n",
        "nc_train=nc_all[:NC_SEQUENCES]\n",
        "pc_test=pc_all[PC_SEQUENCES:]\n",
        "nc_test=nc_all[NC_SEQUENCES:]"
      ],
      "execution_count": 7,
      "outputs": []
    },
    {
      "cell_type": "code",
      "metadata": {
        "colab": {
          "base_uri": "https://localhost:8080/"
        },
        "id": "CIpTrnH6j2US",
        "outputId": "9488db91-3df0-43e9-8e04-cbff1510b84a"
      },
      "source": [
        "# Use code from our SimTools library.\n",
        "X,y = prepare_inputs_len_x_alphabet(pc_train,nc_train,ALPHABET) # shuffles\n",
        "print(\"Data ready.\")"
      ],
      "execution_count": 8,
      "outputs": [
        {
          "output_type": "stream",
          "text": [
            "Data ready.\n"
          ],
          "name": "stdout"
        }
      ]
    },
    {
      "cell_type": "code",
      "metadata": {
        "colab": {
          "base_uri": "https://localhost:8080/"
        },
        "id": "7NvrVU8ij2UU",
        "outputId": "fa3053b3-0cdb-427f-a98a-5ac749038c2f"
      },
      "source": [
        "def make_DNN():\n",
        "    print(\"make_DNN\")\n",
        "    print(\"input shape:\",INPUT_SHAPE)\n",
        "    dnn = Sequential()\n",
        "    #dnn.add(Embedding(input_dim=INPUT_SHAPE,output_dim=INPUT_SHAPE)) \n",
        "    dnn.add(Conv1D(filters=FILTERS,kernel_size=WIDTH,strides=STRIDE,padding=\"same\",\n",
        "            input_shape=INPUT_SHAPE))\n",
        "    dnn.add(Conv1D(filters=FILTERS,kernel_size=WIDTH,strides=STRIDE,padding=\"same\"))\n",
        "    dnn.add(MaxPooling1D())\n",
        "    #dnn.add(Conv1D(filters=FILTERS,kernel_size=WIDTH,strides=STRIDE,padding=\"same\"))\n",
        "    #dnn.add(Conv1D(filters=FILTERS,kernel_size=WIDTH,strides=STRIDE,padding=\"same\"))\n",
        "    #dnn.add(MaxPooling1D())\n",
        "    #dnn.add(TimeDistributed(Flatten()))\n",
        "    dnn.add(LSTM(CELLS,return_sequences=True))\n",
        "    dnn.add(LSTM(CELLS,return_sequences=False))\n",
        "    #dnn.add(TimeDistributed(Dense(NEURONS,activation=\"sigmoid\",dtype=np.float32)))   \n",
        "    dnn.add(Dense(NEURONS,activation=\"sigmoid\",dtype=np.float32))   \n",
        "    #dnn.add(Dropout(DROP_RATE))\n",
        "    dnn.add(Dense(1,activation=\"sigmoid\",dtype=np.float32))   \n",
        "    dnn.compile(optimizer='adam',\n",
        "                loss=BinaryCrossentropy(from_logits=False),\n",
        "                metrics=['accuracy'])   # add to default metrics=loss\n",
        "    #dnn.build(input_shape=INPUT_SHAPE)   \n",
        "    dnn.build()   \n",
        "    #ln_rate = tf.keras.optimizers.Adam(learning_rate = LN_RATE)\n",
        "    #bc=tf.keras.losses.BinaryCrossentropy(from_logits=False)\n",
        "    #model.compile(loss=bc, optimizer=ln_rate, metrics=[\"accuracy\"])\n",
        "    return dnn\n",
        "model = make_DNN()\n",
        "print(model.summary())"
      ],
      "execution_count": 9,
      "outputs": [
        {
          "output_type": "stream",
          "text": [
            "make_DNN\n",
            "input shape: (32, 4)\n",
            "Model: \"sequential\"\n",
            "_________________________________________________________________\n",
            "Layer (type)                 Output Shape              Param #   \n",
            "=================================================================\n",
            "conv1d (Conv1D)              (None, 32, 16)            208       \n",
            "_________________________________________________________________\n",
            "conv1d_1 (Conv1D)            (None, 32, 16)            784       \n",
            "_________________________________________________________________\n",
            "max_pooling1d (MaxPooling1D) (None, 16, 16)            0         \n",
            "_________________________________________________________________\n",
            "lstm (LSTM)                  (None, 16, 16)            2112      \n",
            "_________________________________________________________________\n",
            "lstm_1 (LSTM)                (None, 16)                2112      \n",
            "_________________________________________________________________\n",
            "dense (Dense)                (None, 16)                272       \n",
            "_________________________________________________________________\n",
            "dense_1 (Dense)              (None, 1)                 17        \n",
            "=================================================================\n",
            "Total params: 5,505\n",
            "Trainable params: 5,505\n",
            "Non-trainable params: 0\n",
            "_________________________________________________________________\n",
            "None\n"
          ],
          "name": "stdout"
        }
      ]
    },
    {
      "cell_type": "markdown",
      "metadata": {
        "id": "Ny-dP7bqh0q0"
      },
      "source": [
        "LSTM(16,return_sequences=False), Dense(15) has 255 parameters. Acc=52%. Output shape is (None, 1). Output layer has 65 parameters: 8 * 8 + 1 so clearly it has one neuron.\n",
        "\n",
        "LSTM(16,return_sequences=True), TimeDistributed(Dense(15)) has 255 parameters. Acc=65%. AUC fails because dimensions are wrong. Output shape is (None, 8, 1). The 8 is inherited from the Pooling layer and it is the revised sequence length. Output layer has 16 parameters: 8 + 8 so it seems to have 8 neurons despite parameter value 1. It seems the first TimeDistributed layer makes all subsequent Dense layers have 8 time steps. As an aside, the 8 values per sequence seem to converge on the eventual score per sequence. The series could be used to disect where the model decides coding! Also, the last value of an LSTM should be used without any Dense layer. \n",
        "\n",
        "LSTM(16,return_sequences=False), Dense(1) has 17 parameters. Acc=73% and still learning. As we learned above, the internal Dense layers are not necessary and may be hurting! (This model had no dropout. Unclear which layers should get dropout.)"
      ]
    },
    {
      "cell_type": "code",
      "metadata": {
        "id": "nlVF0hR3j2UW"
      },
      "source": [
        "from keras.callbacks import ModelCheckpoint\n",
        "def do_cross_validation(X,y):\n",
        "    cv_scores = []\n",
        "    fold=0\n",
        "    mycallbacks = [ModelCheckpoint(\n",
        "        filepath=MODELPATH, save_best_only=True, \n",
        "        monitor='val_accuracy', mode='max')]   \n",
        "    splitter = KFold(n_splits=SPLITS)  # this does not shuffle\n",
        "    for train_index,valid_index in splitter.split(X):\n",
        "        if fold < FOLDS:\n",
        "            fold += 1\n",
        "            X_train=X[train_index] # inputs for training\n",
        "            y_train=y[train_index] # labels for training\n",
        "            X_valid=X[valid_index] # inputs for validation\n",
        "            y_valid=y[valid_index] # labels for validation\n",
        "            print(\"MODEL\")\n",
        "            # Call constructor on each CV. Else, continually improves the same model.\n",
        "            model = model = make_DNN()\n",
        "            print(\"FIT\")  # model.fit() implements learning\n",
        "            start_time=time.time()\n",
        "            history=model.fit(X_train, y_train, \n",
        "                    epochs=EPOCHS, \n",
        "                    verbose=1,  # ascii art while learning\n",
        "                    callbacks=mycallbacks,   # called at end of each epoch\n",
        "                    validation_data=(X_valid,y_valid))\n",
        "            end_time=time.time()\n",
        "            elapsed_time=(end_time-start_time)                        \n",
        "            print(\"Fold %d, %d epochs, %d sec\"%(fold,EPOCHS,elapsed_time))\n",
        "            # print(history.history.keys())  # all these keys will be shown in figure\n",
        "            pd.DataFrame(history.history).plot(figsize=(8,5))\n",
        "            plt.grid(True)\n",
        "            plt.gca().set_ylim(0,1) # any losses > 1 will be off the scale\n",
        "            plt.show()\n"
      ],
      "execution_count": 10,
      "outputs": []
    },
    {
      "cell_type": "code",
      "metadata": {
        "colab": {
          "base_uri": "https://localhost:8080/",
          "height": 1000
        },
        "id": "9Ggt4EsSj2UY",
        "outputId": "f6bcf253-0f4c-4aa6-9af9-7e9a3fed9698"
      },
      "source": [
        "do_cross_validation(X,y)"
      ],
      "execution_count": 11,
      "outputs": [
        {
          "output_type": "stream",
          "text": [
            "MODEL\n",
            "make_DNN\n",
            "input shape: (32, 4)\n",
            "FIT\n",
            "Epoch 1/50\n",
            "1334/1334 [==============================] - 43s 8ms/step - loss: 0.6671 - accuracy: 0.5752 - val_loss: 0.5860 - val_accuracy: 0.6894\n"
          ],
          "name": "stdout"
        },
        {
          "output_type": "stream",
          "text": [
            "WARNING:absl:Found untraced functions such as lstm_cell_2_layer_call_fn, lstm_cell_2_layer_call_and_return_conditional_losses, lstm_cell_3_layer_call_fn, lstm_cell_3_layer_call_and_return_conditional_losses, lstm_cell_2_layer_call_fn while saving (showing 5 of 10). These functions will not be directly callable after loading.\n"
          ],
          "name": "stderr"
        },
        {
          "output_type": "stream",
          "text": [
            "INFO:tensorflow:Assets written to: BestModel/assets\n"
          ],
          "name": "stdout"
        },
        {
          "output_type": "stream",
          "text": [
            "INFO:tensorflow:Assets written to: BestModel/assets\n"
          ],
          "name": "stderr"
        },
        {
          "output_type": "stream",
          "text": [
            "Epoch 2/50\n",
            "1334/1334 [==============================] - 9s 7ms/step - loss: 0.5664 - accuracy: 0.7077 - val_loss: 0.4892 - val_accuracy: 0.7654\n"
          ],
          "name": "stdout"
        },
        {
          "output_type": "stream",
          "text": [
            "WARNING:absl:Found untraced functions such as lstm_cell_2_layer_call_fn, lstm_cell_2_layer_call_and_return_conditional_losses, lstm_cell_3_layer_call_fn, lstm_cell_3_layer_call_and_return_conditional_losses, lstm_cell_2_layer_call_fn while saving (showing 5 of 10). These functions will not be directly callable after loading.\n"
          ],
          "name": "stderr"
        },
        {
          "output_type": "stream",
          "text": [
            "INFO:tensorflow:Assets written to: BestModel/assets\n"
          ],
          "name": "stdout"
        },
        {
          "output_type": "stream",
          "text": [
            "INFO:tensorflow:Assets written to: BestModel/assets\n"
          ],
          "name": "stderr"
        },
        {
          "output_type": "stream",
          "text": [
            "Epoch 3/50\n",
            "1334/1334 [==============================] - 9s 7ms/step - loss: 0.4773 - accuracy: 0.7729 - val_loss: 0.4328 - val_accuracy: 0.7984\n"
          ],
          "name": "stdout"
        },
        {
          "output_type": "stream",
          "text": [
            "WARNING:absl:Found untraced functions such as lstm_cell_2_layer_call_fn, lstm_cell_2_layer_call_and_return_conditional_losses, lstm_cell_3_layer_call_fn, lstm_cell_3_layer_call_and_return_conditional_losses, lstm_cell_2_layer_call_fn while saving (showing 5 of 10). These functions will not be directly callable after loading.\n"
          ],
          "name": "stderr"
        },
        {
          "output_type": "stream",
          "text": [
            "INFO:tensorflow:Assets written to: BestModel/assets\n"
          ],
          "name": "stdout"
        },
        {
          "output_type": "stream",
          "text": [
            "INFO:tensorflow:Assets written to: BestModel/assets\n"
          ],
          "name": "stderr"
        },
        {
          "output_type": "stream",
          "text": [
            "Epoch 4/50\n",
            "1334/1334 [==============================] - 9s 7ms/step - loss: 0.4144 - accuracy: 0.8121 - val_loss: 0.3746 - val_accuracy: 0.8267\n"
          ],
          "name": "stdout"
        },
        {
          "output_type": "stream",
          "text": [
            "WARNING:absl:Found untraced functions such as lstm_cell_2_layer_call_fn, lstm_cell_2_layer_call_and_return_conditional_losses, lstm_cell_3_layer_call_fn, lstm_cell_3_layer_call_and_return_conditional_losses, lstm_cell_2_layer_call_fn while saving (showing 5 of 10). These functions will not be directly callable after loading.\n"
          ],
          "name": "stderr"
        },
        {
          "output_type": "stream",
          "text": [
            "INFO:tensorflow:Assets written to: BestModel/assets\n"
          ],
          "name": "stdout"
        },
        {
          "output_type": "stream",
          "text": [
            "INFO:tensorflow:Assets written to: BestModel/assets\n"
          ],
          "name": "stderr"
        },
        {
          "output_type": "stream",
          "text": [
            "Epoch 5/50\n",
            "1334/1334 [==============================] - 9s 7ms/step - loss: 0.3618 - accuracy: 0.8361 - val_loss: 0.3323 - val_accuracy: 0.8517\n"
          ],
          "name": "stdout"
        },
        {
          "output_type": "stream",
          "text": [
            "WARNING:absl:Found untraced functions such as lstm_cell_2_layer_call_fn, lstm_cell_2_layer_call_and_return_conditional_losses, lstm_cell_3_layer_call_fn, lstm_cell_3_layer_call_and_return_conditional_losses, lstm_cell_2_layer_call_fn while saving (showing 5 of 10). These functions will not be directly callable after loading.\n"
          ],
          "name": "stderr"
        },
        {
          "output_type": "stream",
          "text": [
            "INFO:tensorflow:Assets written to: BestModel/assets\n"
          ],
          "name": "stdout"
        },
        {
          "output_type": "stream",
          "text": [
            "INFO:tensorflow:Assets written to: BestModel/assets\n"
          ],
          "name": "stderr"
        },
        {
          "output_type": "stream",
          "text": [
            "Epoch 6/50\n",
            "1334/1334 [==============================] - 10s 7ms/step - loss: 0.3300 - accuracy: 0.8498 - val_loss: 0.3150 - val_accuracy: 0.8583\n"
          ],
          "name": "stdout"
        },
        {
          "output_type": "stream",
          "text": [
            "WARNING:absl:Found untraced functions such as lstm_cell_2_layer_call_fn, lstm_cell_2_layer_call_and_return_conditional_losses, lstm_cell_3_layer_call_fn, lstm_cell_3_layer_call_and_return_conditional_losses, lstm_cell_2_layer_call_fn while saving (showing 5 of 10). These functions will not be directly callable after loading.\n"
          ],
          "name": "stderr"
        },
        {
          "output_type": "stream",
          "text": [
            "INFO:tensorflow:Assets written to: BestModel/assets\n"
          ],
          "name": "stdout"
        },
        {
          "output_type": "stream",
          "text": [
            "INFO:tensorflow:Assets written to: BestModel/assets\n"
          ],
          "name": "stderr"
        },
        {
          "output_type": "stream",
          "text": [
            "Epoch 7/50\n",
            "1334/1334 [==============================] - 9s 7ms/step - loss: 0.3045 - accuracy: 0.8648 - val_loss: 0.3051 - val_accuracy: 0.8624\n"
          ],
          "name": "stdout"
        },
        {
          "output_type": "stream",
          "text": [
            "WARNING:absl:Found untraced functions such as lstm_cell_2_layer_call_fn, lstm_cell_2_layer_call_and_return_conditional_losses, lstm_cell_3_layer_call_fn, lstm_cell_3_layer_call_and_return_conditional_losses, lstm_cell_2_layer_call_fn while saving (showing 5 of 10). These functions will not be directly callable after loading.\n"
          ],
          "name": "stderr"
        },
        {
          "output_type": "stream",
          "text": [
            "INFO:tensorflow:Assets written to: BestModel/assets\n"
          ],
          "name": "stdout"
        },
        {
          "output_type": "stream",
          "text": [
            "INFO:tensorflow:Assets written to: BestModel/assets\n"
          ],
          "name": "stderr"
        },
        {
          "output_type": "stream",
          "text": [
            "Epoch 8/50\n",
            "1334/1334 [==============================] - 10s 7ms/step - loss: 0.2852 - accuracy: 0.8726 - val_loss: 0.2732 - val_accuracy: 0.8806\n"
          ],
          "name": "stdout"
        },
        {
          "output_type": "stream",
          "text": [
            "WARNING:absl:Found untraced functions such as lstm_cell_2_layer_call_fn, lstm_cell_2_layer_call_and_return_conditional_losses, lstm_cell_3_layer_call_fn, lstm_cell_3_layer_call_and_return_conditional_losses, lstm_cell_2_layer_call_fn while saving (showing 5 of 10). These functions will not be directly callable after loading.\n"
          ],
          "name": "stderr"
        },
        {
          "output_type": "stream",
          "text": [
            "INFO:tensorflow:Assets written to: BestModel/assets\n"
          ],
          "name": "stdout"
        },
        {
          "output_type": "stream",
          "text": [
            "INFO:tensorflow:Assets written to: BestModel/assets\n"
          ],
          "name": "stderr"
        },
        {
          "output_type": "stream",
          "text": [
            "Epoch 9/50\n",
            "1334/1334 [==============================] - 9s 7ms/step - loss: 0.2668 - accuracy: 0.8834 - val_loss: 0.2547 - val_accuracy: 0.8870\n"
          ],
          "name": "stdout"
        },
        {
          "output_type": "stream",
          "text": [
            "WARNING:absl:Found untraced functions such as lstm_cell_2_layer_call_fn, lstm_cell_2_layer_call_and_return_conditional_losses, lstm_cell_3_layer_call_fn, lstm_cell_3_layer_call_and_return_conditional_losses, lstm_cell_2_layer_call_fn while saving (showing 5 of 10). These functions will not be directly callable after loading.\n"
          ],
          "name": "stderr"
        },
        {
          "output_type": "stream",
          "text": [
            "INFO:tensorflow:Assets written to: BestModel/assets\n"
          ],
          "name": "stdout"
        },
        {
          "output_type": "stream",
          "text": [
            "INFO:tensorflow:Assets written to: BestModel/assets\n"
          ],
          "name": "stderr"
        },
        {
          "output_type": "stream",
          "text": [
            "Epoch 10/50\n",
            "1334/1334 [==============================] - 10s 7ms/step - loss: 0.2503 - accuracy: 0.8909 - val_loss: 0.2517 - val_accuracy: 0.8891\n"
          ],
          "name": "stdout"
        },
        {
          "output_type": "stream",
          "text": [
            "WARNING:absl:Found untraced functions such as lstm_cell_2_layer_call_fn, lstm_cell_2_layer_call_and_return_conditional_losses, lstm_cell_3_layer_call_fn, lstm_cell_3_layer_call_and_return_conditional_losses, lstm_cell_2_layer_call_fn while saving (showing 5 of 10). These functions will not be directly callable after loading.\n"
          ],
          "name": "stderr"
        },
        {
          "output_type": "stream",
          "text": [
            "INFO:tensorflow:Assets written to: BestModel/assets\n"
          ],
          "name": "stdout"
        },
        {
          "output_type": "stream",
          "text": [
            "INFO:tensorflow:Assets written to: BestModel/assets\n"
          ],
          "name": "stderr"
        },
        {
          "output_type": "stream",
          "text": [
            "Epoch 11/50\n",
            "1334/1334 [==============================] - 10s 7ms/step - loss: 0.2382 - accuracy: 0.8951 - val_loss: 0.2321 - val_accuracy: 0.8995\n"
          ],
          "name": "stdout"
        },
        {
          "output_type": "stream",
          "text": [
            "WARNING:absl:Found untraced functions such as lstm_cell_2_layer_call_fn, lstm_cell_2_layer_call_and_return_conditional_losses, lstm_cell_3_layer_call_fn, lstm_cell_3_layer_call_and_return_conditional_losses, lstm_cell_2_layer_call_fn while saving (showing 5 of 10). These functions will not be directly callable after loading.\n"
          ],
          "name": "stderr"
        },
        {
          "output_type": "stream",
          "text": [
            "INFO:tensorflow:Assets written to: BestModel/assets\n"
          ],
          "name": "stdout"
        },
        {
          "output_type": "stream",
          "text": [
            "INFO:tensorflow:Assets written to: BestModel/assets\n"
          ],
          "name": "stderr"
        },
        {
          "output_type": "stream",
          "text": [
            "Epoch 12/50\n",
            "1334/1334 [==============================] - 10s 7ms/step - loss: 0.2251 - accuracy: 0.9035 - val_loss: 0.2228 - val_accuracy: 0.9032\n"
          ],
          "name": "stdout"
        },
        {
          "output_type": "stream",
          "text": [
            "WARNING:absl:Found untraced functions such as lstm_cell_2_layer_call_fn, lstm_cell_2_layer_call_and_return_conditional_losses, lstm_cell_3_layer_call_fn, lstm_cell_3_layer_call_and_return_conditional_losses, lstm_cell_2_layer_call_fn while saving (showing 5 of 10). These functions will not be directly callable after loading.\n"
          ],
          "name": "stderr"
        },
        {
          "output_type": "stream",
          "text": [
            "INFO:tensorflow:Assets written to: BestModel/assets\n"
          ],
          "name": "stdout"
        },
        {
          "output_type": "stream",
          "text": [
            "INFO:tensorflow:Assets written to: BestModel/assets\n"
          ],
          "name": "stderr"
        },
        {
          "output_type": "stream",
          "text": [
            "Epoch 13/50\n",
            "1334/1334 [==============================] - 9s 7ms/step - loss: 0.2158 - accuracy: 0.9061 - val_loss: 0.2105 - val_accuracy: 0.9100\n"
          ],
          "name": "stdout"
        },
        {
          "output_type": "stream",
          "text": [
            "WARNING:absl:Found untraced functions such as lstm_cell_2_layer_call_fn, lstm_cell_2_layer_call_and_return_conditional_losses, lstm_cell_3_layer_call_fn, lstm_cell_3_layer_call_and_return_conditional_losses, lstm_cell_2_layer_call_fn while saving (showing 5 of 10). These functions will not be directly callable after loading.\n"
          ],
          "name": "stderr"
        },
        {
          "output_type": "stream",
          "text": [
            "INFO:tensorflow:Assets written to: BestModel/assets\n"
          ],
          "name": "stdout"
        },
        {
          "output_type": "stream",
          "text": [
            "INFO:tensorflow:Assets written to: BestModel/assets\n"
          ],
          "name": "stderr"
        },
        {
          "output_type": "stream",
          "text": [
            "Epoch 14/50\n",
            "1334/1334 [==============================] - 10s 7ms/step - loss: 0.2021 - accuracy: 0.9121 - val_loss: 0.2001 - val_accuracy: 0.9136\n"
          ],
          "name": "stdout"
        },
        {
          "output_type": "stream",
          "text": [
            "WARNING:absl:Found untraced functions such as lstm_cell_2_layer_call_fn, lstm_cell_2_layer_call_and_return_conditional_losses, lstm_cell_3_layer_call_fn, lstm_cell_3_layer_call_and_return_conditional_losses, lstm_cell_2_layer_call_fn while saving (showing 5 of 10). These functions will not be directly callable after loading.\n"
          ],
          "name": "stderr"
        },
        {
          "output_type": "stream",
          "text": [
            "INFO:tensorflow:Assets written to: BestModel/assets\n"
          ],
          "name": "stdout"
        },
        {
          "output_type": "stream",
          "text": [
            "INFO:tensorflow:Assets written to: BestModel/assets\n"
          ],
          "name": "stderr"
        },
        {
          "output_type": "stream",
          "text": [
            "Epoch 15/50\n",
            "1334/1334 [==============================] - 10s 7ms/step - loss: 0.1831 - accuracy: 0.9231 - val_loss: 0.1877 - val_accuracy: 0.9209\n"
          ],
          "name": "stdout"
        },
        {
          "output_type": "stream",
          "text": [
            "WARNING:absl:Found untraced functions such as lstm_cell_2_layer_call_fn, lstm_cell_2_layer_call_and_return_conditional_losses, lstm_cell_3_layer_call_fn, lstm_cell_3_layer_call_and_return_conditional_losses, lstm_cell_2_layer_call_fn while saving (showing 5 of 10). These functions will not be directly callable after loading.\n"
          ],
          "name": "stderr"
        },
        {
          "output_type": "stream",
          "text": [
            "INFO:tensorflow:Assets written to: BestModel/assets\n"
          ],
          "name": "stdout"
        },
        {
          "output_type": "stream",
          "text": [
            "INFO:tensorflow:Assets written to: BestModel/assets\n"
          ],
          "name": "stderr"
        },
        {
          "output_type": "stream",
          "text": [
            "Epoch 16/50\n",
            "1334/1334 [==============================] - 10s 7ms/step - loss: 0.1722 - accuracy: 0.9289 - val_loss: 0.1730 - val_accuracy: 0.9277\n"
          ],
          "name": "stdout"
        },
        {
          "output_type": "stream",
          "text": [
            "WARNING:absl:Found untraced functions such as lstm_cell_2_layer_call_fn, lstm_cell_2_layer_call_and_return_conditional_losses, lstm_cell_3_layer_call_fn, lstm_cell_3_layer_call_and_return_conditional_losses, lstm_cell_2_layer_call_fn while saving (showing 5 of 10). These functions will not be directly callable after loading.\n"
          ],
          "name": "stderr"
        },
        {
          "output_type": "stream",
          "text": [
            "INFO:tensorflow:Assets written to: BestModel/assets\n"
          ],
          "name": "stdout"
        },
        {
          "output_type": "stream",
          "text": [
            "INFO:tensorflow:Assets written to: BestModel/assets\n"
          ],
          "name": "stderr"
        },
        {
          "output_type": "stream",
          "text": [
            "Epoch 17/50\n",
            "1334/1334 [==============================] - 10s 7ms/step - loss: 0.1601 - accuracy: 0.9356 - val_loss: 0.1608 - val_accuracy: 0.9366\n"
          ],
          "name": "stdout"
        },
        {
          "output_type": "stream",
          "text": [
            "WARNING:absl:Found untraced functions such as lstm_cell_2_layer_call_fn, lstm_cell_2_layer_call_and_return_conditional_losses, lstm_cell_3_layer_call_fn, lstm_cell_3_layer_call_and_return_conditional_losses, lstm_cell_2_layer_call_fn while saving (showing 5 of 10). These functions will not be directly callable after loading.\n"
          ],
          "name": "stderr"
        },
        {
          "output_type": "stream",
          "text": [
            "INFO:tensorflow:Assets written to: BestModel/assets\n"
          ],
          "name": "stdout"
        },
        {
          "output_type": "stream",
          "text": [
            "INFO:tensorflow:Assets written to: BestModel/assets\n"
          ],
          "name": "stderr"
        },
        {
          "output_type": "stream",
          "text": [
            "Epoch 18/50\n",
            "1334/1334 [==============================] - 10s 7ms/step - loss: 0.1553 - accuracy: 0.9381 - val_loss: 0.1517 - val_accuracy: 0.9400\n"
          ],
          "name": "stdout"
        },
        {
          "output_type": "stream",
          "text": [
            "WARNING:absl:Found untraced functions such as lstm_cell_2_layer_call_fn, lstm_cell_2_layer_call_and_return_conditional_losses, lstm_cell_3_layer_call_fn, lstm_cell_3_layer_call_and_return_conditional_losses, lstm_cell_2_layer_call_fn while saving (showing 5 of 10). These functions will not be directly callable after loading.\n"
          ],
          "name": "stderr"
        },
        {
          "output_type": "stream",
          "text": [
            "INFO:tensorflow:Assets written to: BestModel/assets\n"
          ],
          "name": "stdout"
        },
        {
          "output_type": "stream",
          "text": [
            "INFO:tensorflow:Assets written to: BestModel/assets\n"
          ],
          "name": "stderr"
        },
        {
          "output_type": "stream",
          "text": [
            "Epoch 19/50\n",
            "1334/1334 [==============================] - 10s 7ms/step - loss: 0.1421 - accuracy: 0.9425 - val_loss: 0.1464 - val_accuracy: 0.9408\n"
          ],
          "name": "stdout"
        },
        {
          "output_type": "stream",
          "text": [
            "WARNING:absl:Found untraced functions such as lstm_cell_2_layer_call_fn, lstm_cell_2_layer_call_and_return_conditional_losses, lstm_cell_3_layer_call_fn, lstm_cell_3_layer_call_and_return_conditional_losses, lstm_cell_2_layer_call_fn while saving (showing 5 of 10). These functions will not be directly callable after loading.\n"
          ],
          "name": "stderr"
        },
        {
          "output_type": "stream",
          "text": [
            "INFO:tensorflow:Assets written to: BestModel/assets\n"
          ],
          "name": "stdout"
        },
        {
          "output_type": "stream",
          "text": [
            "INFO:tensorflow:Assets written to: BestModel/assets\n"
          ],
          "name": "stderr"
        },
        {
          "output_type": "stream",
          "text": [
            "Epoch 20/50\n",
            "1334/1334 [==============================] - 9s 7ms/step - loss: 0.1388 - accuracy: 0.9458 - val_loss: 0.1443 - val_accuracy: 0.9440\n"
          ],
          "name": "stdout"
        },
        {
          "output_type": "stream",
          "text": [
            "WARNING:absl:Found untraced functions such as lstm_cell_2_layer_call_fn, lstm_cell_2_layer_call_and_return_conditional_losses, lstm_cell_3_layer_call_fn, lstm_cell_3_layer_call_and_return_conditional_losses, lstm_cell_2_layer_call_fn while saving (showing 5 of 10). These functions will not be directly callable after loading.\n"
          ],
          "name": "stderr"
        },
        {
          "output_type": "stream",
          "text": [
            "INFO:tensorflow:Assets written to: BestModel/assets\n"
          ],
          "name": "stdout"
        },
        {
          "output_type": "stream",
          "text": [
            "INFO:tensorflow:Assets written to: BestModel/assets\n"
          ],
          "name": "stderr"
        },
        {
          "output_type": "stream",
          "text": [
            "Epoch 21/50\n",
            "1334/1334 [==============================] - 10s 7ms/step - loss: 0.1246 - accuracy: 0.9511 - val_loss: 0.1281 - val_accuracy: 0.9501\n"
          ],
          "name": "stdout"
        },
        {
          "output_type": "stream",
          "text": [
            "WARNING:absl:Found untraced functions such as lstm_cell_2_layer_call_fn, lstm_cell_2_layer_call_and_return_conditional_losses, lstm_cell_3_layer_call_fn, lstm_cell_3_layer_call_and_return_conditional_losses, lstm_cell_2_layer_call_fn while saving (showing 5 of 10). These functions will not be directly callable after loading.\n"
          ],
          "name": "stderr"
        },
        {
          "output_type": "stream",
          "text": [
            "INFO:tensorflow:Assets written to: BestModel/assets\n"
          ],
          "name": "stdout"
        },
        {
          "output_type": "stream",
          "text": [
            "INFO:tensorflow:Assets written to: BestModel/assets\n"
          ],
          "name": "stderr"
        },
        {
          "output_type": "stream",
          "text": [
            "Epoch 22/50\n",
            "1334/1334 [==============================] - 9s 7ms/step - loss: 0.1183 - accuracy: 0.9539 - val_loss: 0.1288 - val_accuracy: 0.9507\n"
          ],
          "name": "stdout"
        },
        {
          "output_type": "stream",
          "text": [
            "WARNING:absl:Found untraced functions such as lstm_cell_2_layer_call_fn, lstm_cell_2_layer_call_and_return_conditional_losses, lstm_cell_3_layer_call_fn, lstm_cell_3_layer_call_and_return_conditional_losses, lstm_cell_2_layer_call_fn while saving (showing 5 of 10). These functions will not be directly callable after loading.\n"
          ],
          "name": "stderr"
        },
        {
          "output_type": "stream",
          "text": [
            "INFO:tensorflow:Assets written to: BestModel/assets\n"
          ],
          "name": "stdout"
        },
        {
          "output_type": "stream",
          "text": [
            "INFO:tensorflow:Assets written to: BestModel/assets\n"
          ],
          "name": "stderr"
        },
        {
          "output_type": "stream",
          "text": [
            "Epoch 23/50\n",
            "1334/1334 [==============================] - 10s 7ms/step - loss: 0.1174 - accuracy: 0.9540 - val_loss: 0.1217 - val_accuracy: 0.9528\n"
          ],
          "name": "stdout"
        },
        {
          "output_type": "stream",
          "text": [
            "WARNING:absl:Found untraced functions such as lstm_cell_2_layer_call_fn, lstm_cell_2_layer_call_and_return_conditional_losses, lstm_cell_3_layer_call_fn, lstm_cell_3_layer_call_and_return_conditional_losses, lstm_cell_2_layer_call_fn while saving (showing 5 of 10). These functions will not be directly callable after loading.\n"
          ],
          "name": "stderr"
        },
        {
          "output_type": "stream",
          "text": [
            "INFO:tensorflow:Assets written to: BestModel/assets\n"
          ],
          "name": "stdout"
        },
        {
          "output_type": "stream",
          "text": [
            "INFO:tensorflow:Assets written to: BestModel/assets\n"
          ],
          "name": "stderr"
        },
        {
          "output_type": "stream",
          "text": [
            "Epoch 24/50\n",
            "1334/1334 [==============================] - 10s 7ms/step - loss: 0.1057 - accuracy: 0.9595 - val_loss: 0.1230 - val_accuracy: 0.9537\n"
          ],
          "name": "stdout"
        },
        {
          "output_type": "stream",
          "text": [
            "WARNING:absl:Found untraced functions such as lstm_cell_2_layer_call_fn, lstm_cell_2_layer_call_and_return_conditional_losses, lstm_cell_3_layer_call_fn, lstm_cell_3_layer_call_and_return_conditional_losses, lstm_cell_2_layer_call_fn while saving (showing 5 of 10). These functions will not be directly callable after loading.\n"
          ],
          "name": "stderr"
        },
        {
          "output_type": "stream",
          "text": [
            "INFO:tensorflow:Assets written to: BestModel/assets\n"
          ],
          "name": "stdout"
        },
        {
          "output_type": "stream",
          "text": [
            "INFO:tensorflow:Assets written to: BestModel/assets\n"
          ],
          "name": "stderr"
        },
        {
          "output_type": "stream",
          "text": [
            "Epoch 25/50\n",
            "1334/1334 [==============================] - 10s 7ms/step - loss: 0.0995 - accuracy: 0.9618 - val_loss: 0.1159 - val_accuracy: 0.9552\n"
          ],
          "name": "stdout"
        },
        {
          "output_type": "stream",
          "text": [
            "WARNING:absl:Found untraced functions such as lstm_cell_2_layer_call_fn, lstm_cell_2_layer_call_and_return_conditional_losses, lstm_cell_3_layer_call_fn, lstm_cell_3_layer_call_and_return_conditional_losses, lstm_cell_2_layer_call_fn while saving (showing 5 of 10). These functions will not be directly callable after loading.\n"
          ],
          "name": "stderr"
        },
        {
          "output_type": "stream",
          "text": [
            "INFO:tensorflow:Assets written to: BestModel/assets\n"
          ],
          "name": "stdout"
        },
        {
          "output_type": "stream",
          "text": [
            "INFO:tensorflow:Assets written to: BestModel/assets\n"
          ],
          "name": "stderr"
        },
        {
          "output_type": "stream",
          "text": [
            "Epoch 26/50\n",
            "1334/1334 [==============================] - 10s 7ms/step - loss: 0.0925 - accuracy: 0.9651 - val_loss: 0.1143 - val_accuracy: 0.9576\n"
          ],
          "name": "stdout"
        },
        {
          "output_type": "stream",
          "text": [
            "WARNING:absl:Found untraced functions such as lstm_cell_2_layer_call_fn, lstm_cell_2_layer_call_and_return_conditional_losses, lstm_cell_3_layer_call_fn, lstm_cell_3_layer_call_and_return_conditional_losses, lstm_cell_2_layer_call_fn while saving (showing 5 of 10). These functions will not be directly callable after loading.\n"
          ],
          "name": "stderr"
        },
        {
          "output_type": "stream",
          "text": [
            "INFO:tensorflow:Assets written to: BestModel/assets\n"
          ],
          "name": "stdout"
        },
        {
          "output_type": "stream",
          "text": [
            "INFO:tensorflow:Assets written to: BestModel/assets\n"
          ],
          "name": "stderr"
        },
        {
          "output_type": "stream",
          "text": [
            "Epoch 27/50\n",
            "1334/1334 [==============================] - 10s 8ms/step - loss: 0.0876 - accuracy: 0.9676 - val_loss: 0.0954 - val_accuracy: 0.9649\n"
          ],
          "name": "stdout"
        },
        {
          "output_type": "stream",
          "text": [
            "WARNING:absl:Found untraced functions such as lstm_cell_2_layer_call_fn, lstm_cell_2_layer_call_and_return_conditional_losses, lstm_cell_3_layer_call_fn, lstm_cell_3_layer_call_and_return_conditional_losses, lstm_cell_2_layer_call_fn while saving (showing 5 of 10). These functions will not be directly callable after loading.\n"
          ],
          "name": "stderr"
        },
        {
          "output_type": "stream",
          "text": [
            "INFO:tensorflow:Assets written to: BestModel/assets\n"
          ],
          "name": "stdout"
        },
        {
          "output_type": "stream",
          "text": [
            "INFO:tensorflow:Assets written to: BestModel/assets\n"
          ],
          "name": "stderr"
        },
        {
          "output_type": "stream",
          "text": [
            "Epoch 28/50\n",
            "1334/1334 [==============================] - 10s 7ms/step - loss: 0.0851 - accuracy: 0.9671 - val_loss: 0.0945 - val_accuracy: 0.9656\n"
          ],
          "name": "stdout"
        },
        {
          "output_type": "stream",
          "text": [
            "WARNING:absl:Found untraced functions such as lstm_cell_2_layer_call_fn, lstm_cell_2_layer_call_and_return_conditional_losses, lstm_cell_3_layer_call_fn, lstm_cell_3_layer_call_and_return_conditional_losses, lstm_cell_2_layer_call_fn while saving (showing 5 of 10). These functions will not be directly callable after loading.\n"
          ],
          "name": "stderr"
        },
        {
          "output_type": "stream",
          "text": [
            "INFO:tensorflow:Assets written to: BestModel/assets\n"
          ],
          "name": "stdout"
        },
        {
          "output_type": "stream",
          "text": [
            "INFO:tensorflow:Assets written to: BestModel/assets\n"
          ],
          "name": "stderr"
        },
        {
          "output_type": "stream",
          "text": [
            "Epoch 29/50\n",
            "1334/1334 [==============================] - 9s 7ms/step - loss: 0.0776 - accuracy: 0.9708 - val_loss: 0.1147 - val_accuracy: 0.9566\n",
            "Epoch 30/50\n",
            "1334/1334 [==============================] - 10s 7ms/step - loss: 0.0762 - accuracy: 0.9712 - val_loss: 0.0914 - val_accuracy: 0.9632\n",
            "Epoch 31/50\n",
            "1334/1334 [==============================] - 10s 7ms/step - loss: 0.0700 - accuracy: 0.9733 - val_loss: 0.0767 - val_accuracy: 0.9702\n"
          ],
          "name": "stdout"
        },
        {
          "output_type": "stream",
          "text": [
            "WARNING:absl:Found untraced functions such as lstm_cell_2_layer_call_fn, lstm_cell_2_layer_call_and_return_conditional_losses, lstm_cell_3_layer_call_fn, lstm_cell_3_layer_call_and_return_conditional_losses, lstm_cell_2_layer_call_fn while saving (showing 5 of 10). These functions will not be directly callable after loading.\n"
          ],
          "name": "stderr"
        },
        {
          "output_type": "stream",
          "text": [
            "INFO:tensorflow:Assets written to: BestModel/assets\n"
          ],
          "name": "stdout"
        },
        {
          "output_type": "stream",
          "text": [
            "INFO:tensorflow:Assets written to: BestModel/assets\n"
          ],
          "name": "stderr"
        },
        {
          "output_type": "stream",
          "text": [
            "Epoch 32/50\n",
            "1334/1334 [==============================] - 10s 7ms/step - loss: 0.0704 - accuracy: 0.9729 - val_loss: 0.0782 - val_accuracy: 0.9703\n"
          ],
          "name": "stdout"
        },
        {
          "output_type": "stream",
          "text": [
            "WARNING:absl:Found untraced functions such as lstm_cell_2_layer_call_fn, lstm_cell_2_layer_call_and_return_conditional_losses, lstm_cell_3_layer_call_fn, lstm_cell_3_layer_call_and_return_conditional_losses, lstm_cell_2_layer_call_fn while saving (showing 5 of 10). These functions will not be directly callable after loading.\n"
          ],
          "name": "stderr"
        },
        {
          "output_type": "stream",
          "text": [
            "INFO:tensorflow:Assets written to: BestModel/assets\n"
          ],
          "name": "stdout"
        },
        {
          "output_type": "stream",
          "text": [
            "INFO:tensorflow:Assets written to: BestModel/assets\n"
          ],
          "name": "stderr"
        },
        {
          "output_type": "stream",
          "text": [
            "Epoch 33/50\n",
            "1334/1334 [==============================] - 10s 7ms/step - loss: 0.0652 - accuracy: 0.9742 - val_loss: 0.0762 - val_accuracy: 0.9709\n"
          ],
          "name": "stdout"
        },
        {
          "output_type": "stream",
          "text": [
            "WARNING:absl:Found untraced functions such as lstm_cell_2_layer_call_fn, lstm_cell_2_layer_call_and_return_conditional_losses, lstm_cell_3_layer_call_fn, lstm_cell_3_layer_call_and_return_conditional_losses, lstm_cell_2_layer_call_fn while saving (showing 5 of 10). These functions will not be directly callable after loading.\n"
          ],
          "name": "stderr"
        },
        {
          "output_type": "stream",
          "text": [
            "INFO:tensorflow:Assets written to: BestModel/assets\n"
          ],
          "name": "stdout"
        },
        {
          "output_type": "stream",
          "text": [
            "INFO:tensorflow:Assets written to: BestModel/assets\n"
          ],
          "name": "stderr"
        },
        {
          "output_type": "stream",
          "text": [
            "Epoch 34/50\n",
            "1334/1334 [==============================] - 10s 7ms/step - loss: 0.0603 - accuracy: 0.9775 - val_loss: 0.0693 - val_accuracy: 0.9734\n"
          ],
          "name": "stdout"
        },
        {
          "output_type": "stream",
          "text": [
            "WARNING:absl:Found untraced functions such as lstm_cell_2_layer_call_fn, lstm_cell_2_layer_call_and_return_conditional_losses, lstm_cell_3_layer_call_fn, lstm_cell_3_layer_call_and_return_conditional_losses, lstm_cell_2_layer_call_fn while saving (showing 5 of 10). These functions will not be directly callable after loading.\n"
          ],
          "name": "stderr"
        },
        {
          "output_type": "stream",
          "text": [
            "INFO:tensorflow:Assets written to: BestModel/assets\n"
          ],
          "name": "stdout"
        },
        {
          "output_type": "stream",
          "text": [
            "INFO:tensorflow:Assets written to: BestModel/assets\n"
          ],
          "name": "stderr"
        },
        {
          "output_type": "stream",
          "text": [
            "Epoch 35/50\n",
            "1334/1334 [==============================] - 10s 7ms/step - loss: 0.0560 - accuracy: 0.9789 - val_loss: 0.0670 - val_accuracy: 0.9719\n",
            "Epoch 36/50\n",
            "1334/1334 [==============================] - 10s 7ms/step - loss: 0.0553 - accuracy: 0.9789 - val_loss: 0.0622 - val_accuracy: 0.9762\n"
          ],
          "name": "stdout"
        },
        {
          "output_type": "stream",
          "text": [
            "WARNING:absl:Found untraced functions such as lstm_cell_2_layer_call_fn, lstm_cell_2_layer_call_and_return_conditional_losses, lstm_cell_3_layer_call_fn, lstm_cell_3_layer_call_and_return_conditional_losses, lstm_cell_2_layer_call_fn while saving (showing 5 of 10). These functions will not be directly callable after loading.\n"
          ],
          "name": "stderr"
        },
        {
          "output_type": "stream",
          "text": [
            "INFO:tensorflow:Assets written to: BestModel/assets\n"
          ],
          "name": "stdout"
        },
        {
          "output_type": "stream",
          "text": [
            "INFO:tensorflow:Assets written to: BestModel/assets\n"
          ],
          "name": "stderr"
        },
        {
          "output_type": "stream",
          "text": [
            "Epoch 37/50\n",
            "1334/1334 [==============================] - 10s 7ms/step - loss: 0.0493 - accuracy: 0.9811 - val_loss: 0.0705 - val_accuracy: 0.9737\n",
            "Epoch 38/50\n",
            "1334/1334 [==============================] - 10s 7ms/step - loss: 0.0477 - accuracy: 0.9816 - val_loss: 0.0582 - val_accuracy: 0.9781\n"
          ],
          "name": "stdout"
        },
        {
          "output_type": "stream",
          "text": [
            "WARNING:absl:Found untraced functions such as lstm_cell_2_layer_call_fn, lstm_cell_2_layer_call_and_return_conditional_losses, lstm_cell_3_layer_call_fn, lstm_cell_3_layer_call_and_return_conditional_losses, lstm_cell_2_layer_call_fn while saving (showing 5 of 10). These functions will not be directly callable after loading.\n"
          ],
          "name": "stderr"
        },
        {
          "output_type": "stream",
          "text": [
            "INFO:tensorflow:Assets written to: BestModel/assets\n"
          ],
          "name": "stdout"
        },
        {
          "output_type": "stream",
          "text": [
            "INFO:tensorflow:Assets written to: BestModel/assets\n"
          ],
          "name": "stderr"
        },
        {
          "output_type": "stream",
          "text": [
            "Epoch 39/50\n",
            "1334/1334 [==============================] - 10s 7ms/step - loss: 0.0515 - accuracy: 0.9801 - val_loss: 0.0551 - val_accuracy: 0.9795\n"
          ],
          "name": "stdout"
        },
        {
          "output_type": "stream",
          "text": [
            "WARNING:absl:Found untraced functions such as lstm_cell_2_layer_call_fn, lstm_cell_2_layer_call_and_return_conditional_losses, lstm_cell_3_layer_call_fn, lstm_cell_3_layer_call_and_return_conditional_losses, lstm_cell_2_layer_call_fn while saving (showing 5 of 10). These functions will not be directly callable after loading.\n"
          ],
          "name": "stderr"
        },
        {
          "output_type": "stream",
          "text": [
            "INFO:tensorflow:Assets written to: BestModel/assets\n"
          ],
          "name": "stdout"
        },
        {
          "output_type": "stream",
          "text": [
            "INFO:tensorflow:Assets written to: BestModel/assets\n"
          ],
          "name": "stderr"
        },
        {
          "output_type": "stream",
          "text": [
            "Epoch 40/50\n",
            "1334/1334 [==============================] - 10s 7ms/step - loss: 0.0471 - accuracy: 0.9820 - val_loss: 0.0537 - val_accuracy: 0.9792\n",
            "Epoch 41/50\n",
            "1334/1334 [==============================] - 10s 7ms/step - loss: 0.0412 - accuracy: 0.9838 - val_loss: 0.0564 - val_accuracy: 0.9769\n",
            "Epoch 42/50\n",
            "1334/1334 [==============================] - 10s 7ms/step - loss: 0.0430 - accuracy: 0.9828 - val_loss: 0.0572 - val_accuracy: 0.9789\n",
            "Epoch 43/50\n",
            "1334/1334 [==============================] - 10s 7ms/step - loss: 0.0384 - accuracy: 0.9839 - val_loss: 0.0464 - val_accuracy: 0.9827\n"
          ],
          "name": "stdout"
        },
        {
          "output_type": "stream",
          "text": [
            "WARNING:absl:Found untraced functions such as lstm_cell_2_layer_call_fn, lstm_cell_2_layer_call_and_return_conditional_losses, lstm_cell_3_layer_call_fn, lstm_cell_3_layer_call_and_return_conditional_losses, lstm_cell_2_layer_call_fn while saving (showing 5 of 10). These functions will not be directly callable after loading.\n"
          ],
          "name": "stderr"
        },
        {
          "output_type": "stream",
          "text": [
            "INFO:tensorflow:Assets written to: BestModel/assets\n"
          ],
          "name": "stdout"
        },
        {
          "output_type": "stream",
          "text": [
            "INFO:tensorflow:Assets written to: BestModel/assets\n"
          ],
          "name": "stderr"
        },
        {
          "output_type": "stream",
          "text": [
            "Epoch 44/50\n",
            "1334/1334 [==============================] - 9s 7ms/step - loss: 0.0347 - accuracy: 0.9858 - val_loss: 0.0521 - val_accuracy: 0.9804\n",
            "Epoch 45/50\n",
            "1334/1334 [==============================] - 10s 7ms/step - loss: 0.0351 - accuracy: 0.9864 - val_loss: 0.0570 - val_accuracy: 0.9766\n",
            "Epoch 46/50\n",
            "1334/1334 [==============================] - 10s 7ms/step - loss: 0.0365 - accuracy: 0.9847 - val_loss: 0.0574 - val_accuracy: 0.9804\n",
            "Epoch 47/50\n",
            "1334/1334 [==============================] - 10s 7ms/step - loss: 0.0429 - accuracy: 0.9840 - val_loss: 0.0474 - val_accuracy: 0.9820\n",
            "Epoch 48/50\n",
            "1334/1334 [==============================] - 10s 7ms/step - loss: 0.0457 - accuracy: 0.9831 - val_loss: 0.0479 - val_accuracy: 0.9814\n",
            "Epoch 49/50\n",
            "1334/1334 [==============================] - 10s 7ms/step - loss: 0.0370 - accuracy: 0.9857 - val_loss: 0.0433 - val_accuracy: 0.9838\n"
          ],
          "name": "stdout"
        },
        {
          "output_type": "stream",
          "text": [
            "WARNING:absl:Found untraced functions such as lstm_cell_2_layer_call_fn, lstm_cell_2_layer_call_and_return_conditional_losses, lstm_cell_3_layer_call_fn, lstm_cell_3_layer_call_and_return_conditional_losses, lstm_cell_2_layer_call_fn while saving (showing 5 of 10). These functions will not be directly callable after loading.\n"
          ],
          "name": "stderr"
        },
        {
          "output_type": "stream",
          "text": [
            "INFO:tensorflow:Assets written to: BestModel/assets\n"
          ],
          "name": "stdout"
        },
        {
          "output_type": "stream",
          "text": [
            "INFO:tensorflow:Assets written to: BestModel/assets\n"
          ],
          "name": "stderr"
        },
        {
          "output_type": "stream",
          "text": [
            "Epoch 50/50\n",
            "1334/1334 [==============================] - 10s 7ms/step - loss: 0.0272 - accuracy: 0.9889 - val_loss: 0.0564 - val_accuracy: 0.9803\n",
            "Fold 1, 50 epochs, 807 sec\n"
          ],
          "name": "stdout"
        },
        {
          "output_type": "display_data",
          "data": {
            "image/png": "[encoded data removed]",
            "text/plain": [
              "<Figure size 576x360 with 1 Axes>"
            ]
          },
          "metadata": {
            "tags": [],
            "needs_background": "light"
          }
        },
        {
          "output_type": "stream",
          "text": [
            "MODEL\n",
            "make_DNN\n",
            "input shape: (32, 4)\n",
            "FIT\n",
            "Epoch 1/50\n",
            "1334/1334 [==============================] - 14s 8ms/step - loss: 0.6526 - accuracy: 0.5944 - val_loss: 0.5736 - val_accuracy: 0.6918\n",
            "Epoch 2/50\n",
            "1334/1334 [==============================] - 10s 7ms/step - loss: 0.5363 - accuracy: 0.7218 - val_loss: 0.4464 - val_accuracy: 0.7911\n",
            "Epoch 3/50\n",
            "1334/1334 [==============================] - 10s 8ms/step - loss: 0.4109 - accuracy: 0.8102 - val_loss: 0.3632 - val_accuracy: 0.8335\n",
            "Epoch 4/50\n",
            "1334/1334 [==============================] - 10s 8ms/step - loss: 0.3488 - accuracy: 0.8413 - val_loss: 0.3227 - val_accuracy: 0.8596\n",
            "Epoch 5/50\n",
            "1334/1334 [==============================] - 10s 8ms/step - loss: 0.3028 - accuracy: 0.8661 - val_loss: 0.3011 - val_accuracy: 0.8680\n",
            "Epoch 6/50\n",
            "1334/1334 [==============================] - 10s 8ms/step - loss: 0.2732 - accuracy: 0.8810 - val_loss: 0.2784 - val_accuracy: 0.8795\n",
            "Epoch 7/50\n",
            "1334/1334 [==============================] - 10s 8ms/step - loss: 0.2409 - accuracy: 0.8969 - val_loss: 0.2378 - val_accuracy: 0.9015\n",
            "Epoch 8/50\n",
            "1334/1334 [==============================] - 10s 7ms/step - loss: 0.2224 - accuracy: 0.9090 - val_loss: 0.2089 - val_accuracy: 0.9131\n",
            "Epoch 9/50\n",
            "1334/1334 [==============================] - 11s 8ms/step - loss: 0.1935 - accuracy: 0.9236 - val_loss: 0.1941 - val_accuracy: 0.9201\n",
            "Epoch 10/50\n",
            "1334/1334 [==============================] - 10s 8ms/step - loss: 0.1762 - accuracy: 0.9290 - val_loss: 0.1783 - val_accuracy: 0.9294\n",
            "Epoch 11/50\n",
            "1334/1334 [==============================] - 10s 8ms/step - loss: 0.1636 - accuracy: 0.9373 - val_loss: 0.1686 - val_accuracy: 0.9331\n",
            "Epoch 12/50\n",
            "1334/1334 [==============================] - 11s 8ms/step - loss: 0.1804 - accuracy: 0.9275 - val_loss: 0.1642 - val_accuracy: 0.9360\n",
            "Epoch 13/50\n",
            "1334/1334 [==============================] - 10s 8ms/step - loss: 0.1385 - accuracy: 0.9460 - val_loss: 0.1391 - val_accuracy: 0.9454\n",
            "Epoch 14/50\n",
            "1334/1334 [==============================] - 10s 7ms/step - loss: 0.1158 - accuracy: 0.9566 - val_loss: 0.1324 - val_accuracy: 0.9485\n",
            "Epoch 15/50\n",
            "1334/1334 [==============================] - 10s 7ms/step - loss: 0.1039 - accuracy: 0.9586 - val_loss: 0.1150 - val_accuracy: 0.9513\n",
            "Epoch 16/50\n",
            "1334/1334 [==============================] - 10s 7ms/step - loss: 0.0955 - accuracy: 0.9617 - val_loss: 0.0920 - val_accuracy: 0.9634\n",
            "Epoch 17/50\n",
            "1334/1334 [==============================] - 10s 7ms/step - loss: 0.0863 - accuracy: 0.9656 - val_loss: 0.0899 - val_accuracy: 0.9651\n",
            "Epoch 18/50\n",
            "1334/1334 [==============================] - 10s 7ms/step - loss: 0.0800 - accuracy: 0.9672 - val_loss: 0.0849 - val_accuracy: 0.9666\n",
            "Epoch 19/50\n",
            "1334/1334 [==============================] - 10s 7ms/step - loss: 0.0713 - accuracy: 0.9699 - val_loss: 0.0767 - val_accuracy: 0.9692\n",
            "Epoch 20/50\n",
            "1334/1334 [==============================] - 10s 7ms/step - loss: 0.0677 - accuracy: 0.9738 - val_loss: 0.0751 - val_accuracy: 0.9705\n",
            "Epoch 21/50\n",
            "1334/1334 [==============================] - 10s 8ms/step - loss: 0.0697 - accuracy: 0.9715 - val_loss: 0.0670 - val_accuracy: 0.9729\n",
            "Epoch 22/50\n",
            "1334/1334 [==============================] - 10s 8ms/step - loss: 0.0610 - accuracy: 0.9767 - val_loss: 0.0667 - val_accuracy: 0.9745\n",
            "Epoch 23/50\n",
            "1334/1334 [==============================] - 10s 8ms/step - loss: 0.0636 - accuracy: 0.9750 - val_loss: 0.0605 - val_accuracy: 0.9765\n",
            "Epoch 24/50\n",
            "1334/1334 [==============================] - 10s 8ms/step - loss: 0.0510 - accuracy: 0.9789 - val_loss: 0.0724 - val_accuracy: 0.9720\n",
            "Epoch 25/50\n",
            "1334/1334 [==============================] - 10s 8ms/step - loss: 0.0534 - accuracy: 0.9781 - val_loss: 0.0609 - val_accuracy: 0.9750\n",
            "Epoch 26/50\n",
            "1334/1334 [==============================] - 10s 8ms/step - loss: 0.0481 - accuracy: 0.9810 - val_loss: 0.0621 - val_accuracy: 0.9746\n",
            "Epoch 27/50\n",
            "1334/1334 [==============================] - 10s 8ms/step - loss: 0.0452 - accuracy: 0.9817 - val_loss: 0.0566 - val_accuracy: 0.9786\n",
            "Epoch 28/50\n",
            "1334/1334 [==============================] - 10s 8ms/step - loss: 0.0451 - accuracy: 0.9816 - val_loss: 0.0503 - val_accuracy: 0.9802\n",
            "Epoch 29/50\n",
            "1334/1334 [==============================] - 10s 8ms/step - loss: 0.0608 - accuracy: 0.9754 - val_loss: 0.6665 - val_accuracy: 0.6001\n",
            "Epoch 30/50\n",
            "1334/1334 [==============================] - 10s 8ms/step - loss: 0.6246 - accuracy: 0.6486 - val_loss: 0.5775 - val_accuracy: 0.6920\n",
            "Epoch 31/50\n",
            "1334/1334 [==============================] - 10s 8ms/step - loss: 0.5689 - accuracy: 0.7038 - val_loss: 0.5408 - val_accuracy: 0.7254\n",
            "Epoch 32/50\n",
            "1334/1334 [==============================] - 10s 8ms/step - loss: 0.5163 - accuracy: 0.7395 - val_loss: 0.4495 - val_accuracy: 0.7762\n",
            "Epoch 33/50\n",
            "1334/1334 [==============================] - 11s 8ms/step - loss: 0.4075 - accuracy: 0.8002 - val_loss: 0.3454 - val_accuracy: 0.8439\n",
            "Epoch 34/50\n",
            "1334/1334 [==============================] - 10s 8ms/step - loss: 0.3217 - accuracy: 0.8549 - val_loss: 0.2884 - val_accuracy: 0.8696\n",
            "Epoch 35/50\n",
            "1334/1334 [==============================] - 10s 8ms/step - loss: 0.2607 - accuracy: 0.8809 - val_loss: 0.2630 - val_accuracy: 0.8837\n",
            "Epoch 36/50\n",
            "1334/1334 [==============================] - 10s 8ms/step - loss: 0.2001 - accuracy: 0.9148 - val_loss: 0.1890 - val_accuracy: 0.9216\n",
            "Epoch 37/50\n",
            "1334/1334 [==============================] - 10s 8ms/step - loss: 0.1543 - accuracy: 0.9378 - val_loss: 0.1354 - val_accuracy: 0.9470\n",
            "Epoch 38/50\n",
            "1334/1334 [==============================] - 10s 8ms/step - loss: 0.1230 - accuracy: 0.9511 - val_loss: 0.1244 - val_accuracy: 0.9532\n",
            "Epoch 39/50\n",
            "1334/1334 [==============================] - 10s 8ms/step - loss: 0.1073 - accuracy: 0.9577 - val_loss: 0.0946 - val_accuracy: 0.9645\n",
            "Epoch 40/50\n",
            "1334/1334 [==============================] - 10s 8ms/step - loss: 0.0843 - accuracy: 0.9675 - val_loss: 0.0690 - val_accuracy: 0.9758\n",
            "Epoch 41/50\n",
            "1334/1334 [==============================] - 10s 8ms/step - loss: 0.0638 - accuracy: 0.9773 - val_loss: 0.0717 - val_accuracy: 0.9737\n",
            "Epoch 42/50\n",
            "1334/1334 [==============================] - 10s 8ms/step - loss: 0.0556 - accuracy: 0.9797 - val_loss: 0.0447 - val_accuracy: 0.9828\n",
            "Epoch 43/50\n",
            "1334/1334 [==============================] - 10s 8ms/step - loss: 0.0405 - accuracy: 0.9856 - val_loss: 0.0448 - val_accuracy: 0.9839\n"
          ],
          "name": "stdout"
        },
        {
          "output_type": "stream",
          "text": [
            "WARNING:absl:Found untraced functions such as lstm_cell_4_layer_call_fn, lstm_cell_4_layer_call_and_return_conditional_losses, lstm_cell_5_layer_call_fn, lstm_cell_5_layer_call_and_return_conditional_losses, lstm_cell_4_layer_call_fn while saving (showing 5 of 10). These functions will not be directly callable after loading.\n"
          ],
          "name": "stderr"
        },
        {
          "output_type": "stream",
          "text": [
            "INFO:tensorflow:Assets written to: BestModel/assets\n"
          ],
          "name": "stdout"
        },
        {
          "output_type": "stream",
          "text": [
            "INFO:tensorflow:Assets written to: BestModel/assets\n"
          ],
          "name": "stderr"
        },
        {
          "output_type": "stream",
          "text": [
            "Epoch 44/50\n",
            "1334/1334 [==============================] - 10s 7ms/step - loss: 0.0351 - accuracy: 0.9865 - val_loss: 0.0377 - val_accuracy: 0.9872\n"
          ],
          "name": "stdout"
        },
        {
          "output_type": "stream",
          "text": [
            "WARNING:absl:Found untraced functions such as lstm_cell_4_layer_call_fn, lstm_cell_4_layer_call_and_return_conditional_losses, lstm_cell_5_layer_call_fn, lstm_cell_5_layer_call_and_return_conditional_losses, lstm_cell_4_layer_call_fn while saving (showing 5 of 10). These functions will not be directly callable after loading.\n"
          ],
          "name": "stderr"
        },
        {
          "output_type": "stream",
          "text": [
            "INFO:tensorflow:Assets written to: BestModel/assets\n"
          ],
          "name": "stdout"
        },
        {
          "output_type": "stream",
          "text": [
            "INFO:tensorflow:Assets written to: BestModel/assets\n"
          ],
          "name": "stderr"
        },
        {
          "output_type": "stream",
          "text": [
            "Epoch 45/50\n",
            "1334/1334 [==============================] - 10s 8ms/step - loss: 0.0294 - accuracy: 0.9887 - val_loss: 0.0446 - val_accuracy: 0.9841\n",
            "Epoch 46/50\n",
            "1334/1334 [==============================] - 10s 7ms/step - loss: 0.0281 - accuracy: 0.9899 - val_loss: 0.0309 - val_accuracy: 0.9889\n"
          ],
          "name": "stdout"
        },
        {
          "output_type": "stream",
          "text": [
            "WARNING:absl:Found untraced functions such as lstm_cell_4_layer_call_fn, lstm_cell_4_layer_call_and_return_conditional_losses, lstm_cell_5_layer_call_fn, lstm_cell_5_layer_call_and_return_conditional_losses, lstm_cell_4_layer_call_fn while saving (showing 5 of 10). These functions will not be directly callable after loading.\n"
          ],
          "name": "stderr"
        },
        {
          "output_type": "stream",
          "text": [
            "INFO:tensorflow:Assets written to: BestModel/assets\n"
          ],
          "name": "stdout"
        },
        {
          "output_type": "stream",
          "text": [
            "INFO:tensorflow:Assets written to: BestModel/assets\n"
          ],
          "name": "stderr"
        },
        {
          "output_type": "stream",
          "text": [
            "Epoch 47/50\n",
            "1334/1334 [==============================] - 11s 8ms/step - loss: 0.0196 - accuracy: 0.9928 - val_loss: 0.0277 - val_accuracy: 0.9902\n"
          ],
          "name": "stdout"
        },
        {
          "output_type": "stream",
          "text": [
            "WARNING:absl:Found untraced functions such as lstm_cell_4_layer_call_fn, lstm_cell_4_layer_call_and_return_conditional_losses, lstm_cell_5_layer_call_fn, lstm_cell_5_layer_call_and_return_conditional_losses, lstm_cell_4_layer_call_fn while saving (showing 5 of 10). These functions will not be directly callable after loading.\n"
          ],
          "name": "stderr"
        },
        {
          "output_type": "stream",
          "text": [
            "INFO:tensorflow:Assets written to: BestModel/assets\n"
          ],
          "name": "stdout"
        },
        {
          "output_type": "stream",
          "text": [
            "INFO:tensorflow:Assets written to: BestModel/assets\n"
          ],
          "name": "stderr"
        },
        {
          "output_type": "stream",
          "text": [
            "Epoch 48/50\n",
            "1334/1334 [==============================] - 10s 7ms/step - loss: 0.0194 - accuracy: 0.9928 - val_loss: 0.0311 - val_accuracy: 0.9888\n",
            "Epoch 49/50\n",
            "1334/1334 [==============================] - 10s 8ms/step - loss: 0.0233 - accuracy: 0.9916 - val_loss: 0.0216 - val_accuracy: 0.9927\n"
          ],
          "name": "stdout"
        },
        {
          "output_type": "stream",
          "text": [
            "WARNING:absl:Found untraced functions such as lstm_cell_4_layer_call_fn, lstm_cell_4_layer_call_and_return_conditional_losses, lstm_cell_5_layer_call_fn, lstm_cell_5_layer_call_and_return_conditional_losses, lstm_cell_4_layer_call_fn while saving (showing 5 of 10). These functions will not be directly callable after loading.\n"
          ],
          "name": "stderr"
        },
        {
          "output_type": "stream",
          "text": [
            "INFO:tensorflow:Assets written to: BestModel/assets\n"
          ],
          "name": "stdout"
        },
        {
          "output_type": "stream",
          "text": [
            "INFO:tensorflow:Assets written to: BestModel/assets\n"
          ],
          "name": "stderr"
        },
        {
          "output_type": "stream",
          "text": [
            "Epoch 50/50\n",
            "1334/1334 [==============================] - 10s 8ms/step - loss: 0.0151 - accuracy: 0.9946 - val_loss: 0.0160 - val_accuracy: 0.9944\n"
          ],
          "name": "stdout"
        },
        {
          "output_type": "stream",
          "text": [
            "WARNING:absl:Found untraced functions such as lstm_cell_4_layer_call_fn, lstm_cell_4_layer_call_and_return_conditional_losses, lstm_cell_5_layer_call_fn, lstm_cell_5_layer_call_and_return_conditional_losses, lstm_cell_4_layer_call_fn while saving (showing 5 of 10). These functions will not be directly callable after loading.\n"
          ],
          "name": "stderr"
        },
        {
          "output_type": "stream",
          "text": [
            "INFO:tensorflow:Assets written to: BestModel/assets\n"
          ],
          "name": "stdout"
        },
        {
          "output_type": "stream",
          "text": [
            "INFO:tensorflow:Assets written to: BestModel/assets\n"
          ],
          "name": "stderr"
        },
        {
          "output_type": "stream",
          "text": [
            "Fold 2, 50 epochs, 564 sec\n"
          ],
          "name": "stdout"
        },
        {
          "output_type": "display_data",
          "data": {
            "image/png": "[encoded data removed]",
            "text/plain": [
              "<Figure size 576x360 with 1 Axes>"
            ]
          },
          "metadata": {
            "tags": [],
            "needs_background": "light"
          }
        },
        {
          "output_type": "stream",
          "text": [
            "MODEL\n",
            "make_DNN\n",
            "input shape: (32, 4)\n",
            "FIT\n",
            "Epoch 1/50\n",
            "1334/1334 [==============================] - 14s 8ms/step - loss: 0.6730 - accuracy: 0.5613 - val_loss: 0.5934 - val_accuracy: 0.6766\n",
            "Epoch 2/50\n",
            "1334/1334 [==============================] - 10s 8ms/step - loss: 0.5738 - accuracy: 0.6903 - val_loss: 0.5182 - val_accuracy: 0.7320\n",
            "Epoch 3/50\n",
            "1334/1334 [==============================] - 11s 8ms/step - loss: 0.4916 - accuracy: 0.7540 - val_loss: 0.4030 - val_accuracy: 0.8127\n",
            "Epoch 4/50\n",
            "1334/1334 [==============================] - 10s 8ms/step - loss: 0.3840 - accuracy: 0.8236 - val_loss: 0.3409 - val_accuracy: 0.8434\n",
            "Epoch 5/50\n",
            "1334/1334 [==============================] - 10s 8ms/step - loss: 0.3321 - accuracy: 0.8500 - val_loss: 0.3067 - val_accuracy: 0.8612\n",
            "Epoch 6/50\n",
            "1334/1334 [==============================] - 10s 8ms/step - loss: 0.3028 - accuracy: 0.8626 - val_loss: 0.2847 - val_accuracy: 0.8710\n",
            "Epoch 7/50\n",
            "1334/1334 [==============================] - 10s 8ms/step - loss: 0.2749 - accuracy: 0.8779 - val_loss: 0.2577 - val_accuracy: 0.8881\n",
            "Epoch 8/50\n",
            "1334/1334 [==============================] - 10s 8ms/step - loss: 0.2537 - accuracy: 0.8893 - val_loss: 0.2413 - val_accuracy: 0.8956\n",
            "Epoch 9/50\n",
            "1334/1334 [==============================] - 10s 8ms/step - loss: 0.2300 - accuracy: 0.9062 - val_loss: 0.2155 - val_accuracy: 0.9118\n",
            "Epoch 10/50\n",
            "1334/1334 [==============================] - 11s 8ms/step - loss: 0.2068 - accuracy: 0.9143 - val_loss: 0.2009 - val_accuracy: 0.9199\n",
            "Epoch 11/50\n",
            "1334/1334 [==============================] - 10s 8ms/step - loss: 0.1853 - accuracy: 0.9267 - val_loss: 0.1740 - val_accuracy: 0.9309\n",
            "Epoch 12/50\n",
            "1334/1334 [==============================] - 10s 8ms/step - loss: 0.1616 - accuracy: 0.9388 - val_loss: 0.1568 - val_accuracy: 0.9398\n",
            "Epoch 13/50\n",
            "1334/1334 [==============================] - 10s 8ms/step - loss: 0.1432 - accuracy: 0.9453 - val_loss: 0.1518 - val_accuracy: 0.9406\n",
            "Epoch 14/50\n",
            "1334/1334 [==============================] - 10s 8ms/step - loss: 0.1290 - accuracy: 0.9523 - val_loss: 0.1406 - val_accuracy: 0.9469\n",
            "Epoch 15/50\n",
            "1334/1334 [==============================] - 10s 8ms/step - loss: 0.1189 - accuracy: 0.9564 - val_loss: 0.1230 - val_accuracy: 0.9564\n",
            "Epoch 16/50\n",
            "1334/1334 [==============================] - 11s 8ms/step - loss: 0.1095 - accuracy: 0.9594 - val_loss: 0.1109 - val_accuracy: 0.9593\n",
            "Epoch 17/50\n",
            "1334/1334 [==============================] - 10s 8ms/step - loss: 0.0951 - accuracy: 0.9652 - val_loss: 0.1023 - val_accuracy: 0.9610\n",
            "Epoch 18/50\n",
            "1334/1334 [==============================] - 10s 8ms/step - loss: 0.0889 - accuracy: 0.9679 - val_loss: 0.1017 - val_accuracy: 0.9628\n",
            "Epoch 19/50\n",
            "1334/1334 [==============================] - 10s 8ms/step - loss: 0.0881 - accuracy: 0.9674 - val_loss: 0.1045 - val_accuracy: 0.9623\n",
            "Epoch 20/50\n",
            "1334/1334 [==============================] - 10s 8ms/step - loss: 0.0810 - accuracy: 0.9707 - val_loss: 0.0840 - val_accuracy: 0.9680\n",
            "Epoch 21/50\n",
            "1334/1334 [==============================] - 10s 8ms/step - loss: 0.0671 - accuracy: 0.9753 - val_loss: 0.0785 - val_accuracy: 0.9727\n",
            "Epoch 22/50\n",
            "1334/1334 [==============================] - 10s 8ms/step - loss: 0.0589 - accuracy: 0.9784 - val_loss: 0.0877 - val_accuracy: 0.9703\n",
            "Epoch 23/50\n",
            "1334/1334 [==============================] - 10s 8ms/step - loss: 0.0555 - accuracy: 0.9788 - val_loss: 0.0788 - val_accuracy: 0.9714\n",
            "Epoch 24/50\n",
            "1334/1334 [==============================] - 10s 8ms/step - loss: 0.0503 - accuracy: 0.9815 - val_loss: 0.0639 - val_accuracy: 0.9773\n",
            "Epoch 25/50\n",
            "1334/1334 [==============================] - 10s 8ms/step - loss: 0.0440 - accuracy: 0.9831 - val_loss: 0.0620 - val_accuracy: 0.9779\n",
            "Epoch 26/50\n",
            "1334/1334 [==============================] - 10s 8ms/step - loss: 0.0458 - accuracy: 0.9838 - val_loss: 0.0661 - val_accuracy: 0.9779\n",
            "Epoch 27/50\n",
            "1334/1334 [==============================] - 10s 8ms/step - loss: 0.0373 - accuracy: 0.9858 - val_loss: 0.0530 - val_accuracy: 0.9812\n",
            "Epoch 28/50\n",
            "1334/1334 [==============================] - 10s 8ms/step - loss: 0.0381 - accuracy: 0.9863 - val_loss: 0.0501 - val_accuracy: 0.9821\n",
            "Epoch 29/50\n",
            "1334/1334 [==============================] - 11s 8ms/step - loss: 0.0317 - accuracy: 0.9893 - val_loss: 0.0457 - val_accuracy: 0.9836\n",
            "Epoch 30/50\n",
            "1334/1334 [==============================] - 10s 8ms/step - loss: 0.0369 - accuracy: 0.9864 - val_loss: 0.0821 - val_accuracy: 0.9719\n",
            "Epoch 31/50\n",
            "1334/1334 [==============================] - 10s 8ms/step - loss: 0.0337 - accuracy: 0.9867 - val_loss: 0.0579 - val_accuracy: 0.9793\n",
            "Epoch 32/50\n",
            "1334/1334 [==============================] - 11s 8ms/step - loss: 0.0298 - accuracy: 0.9894 - val_loss: 0.0476 - val_accuracy: 0.9845\n",
            "Epoch 33/50\n",
            "1334/1334 [==============================] - 10s 8ms/step - loss: 0.0275 - accuracy: 0.9897 - val_loss: 0.0481 - val_accuracy: 0.9848\n",
            "Epoch 34/50\n",
            "1334/1334 [==============================] - 10s 8ms/step - loss: 0.0251 - accuracy: 0.9910 - val_loss: 0.0517 - val_accuracy: 0.9826\n",
            "Epoch 35/50\n",
            "1334/1334 [==============================] - 11s 8ms/step - loss: 0.0251 - accuracy: 0.9916 - val_loss: 0.0383 - val_accuracy: 0.9876\n",
            "Epoch 36/50\n",
            "1334/1334 [==============================] - 10s 8ms/step - loss: 0.0220 - accuracy: 0.9928 - val_loss: 0.0402 - val_accuracy: 0.9871\n",
            "Epoch 37/50\n",
            "1334/1334 [==============================] - 10s 8ms/step - loss: 0.0222 - accuracy: 0.9923 - val_loss: 0.0386 - val_accuracy: 0.9873\n",
            "Epoch 38/50\n",
            "1334/1334 [==============================] - 11s 8ms/step - loss: 0.0233 - accuracy: 0.9918 - val_loss: 0.0354 - val_accuracy: 0.9884\n",
            "Epoch 39/50\n",
            "1334/1334 [==============================] - 11s 8ms/step - loss: 0.0171 - accuracy: 0.9938 - val_loss: 0.0367 - val_accuracy: 0.9891\n",
            "Epoch 40/50\n",
            "1334/1334 [==============================] - 10s 8ms/step - loss: 0.0216 - accuracy: 0.9923 - val_loss: 0.0399 - val_accuracy: 0.9878\n",
            "Epoch 41/50\n",
            "1334/1334 [==============================] - 10s 8ms/step - loss: 0.0238 - accuracy: 0.9917 - val_loss: 0.0385 - val_accuracy: 0.9875\n",
            "Epoch 42/50\n",
            "1334/1334 [==============================] - 10s 8ms/step - loss: 0.0176 - accuracy: 0.9940 - val_loss: 0.0352 - val_accuracy: 0.9894\n",
            "Epoch 43/50\n",
            "1334/1334 [==============================] - 10s 8ms/step - loss: 0.0160 - accuracy: 0.9946 - val_loss: 0.0314 - val_accuracy: 0.9904\n",
            "Epoch 44/50\n",
            "1334/1334 [==============================] - 10s 8ms/step - loss: 0.0174 - accuracy: 0.9942 - val_loss: 0.1105 - val_accuracy: 0.9655\n",
            "Epoch 45/50\n",
            "1334/1334 [==============================] - 11s 8ms/step - loss: 0.0372 - accuracy: 0.9884 - val_loss: 0.0340 - val_accuracy: 0.9883\n",
            "Epoch 46/50\n",
            "1334/1334 [==============================] - 10s 8ms/step - loss: 0.0212 - accuracy: 0.9936 - val_loss: 0.0350 - val_accuracy: 0.9878\n",
            "Epoch 47/50\n",
            "1334/1334 [==============================] - 11s 8ms/step - loss: 0.0235 - accuracy: 0.9922 - val_loss: 0.0354 - val_accuracy: 0.9886\n",
            "Epoch 48/50\n",
            "1334/1334 [==============================] - 11s 8ms/step - loss: 0.0147 - accuracy: 0.9952 - val_loss: 0.0351 - val_accuracy: 0.9889\n",
            "Epoch 49/50\n",
            "1334/1334 [==============================] - 10s 8ms/step - loss: 0.0186 - accuracy: 0.9944 - val_loss: 0.0274 - val_accuracy: 0.9909\n",
            "Epoch 50/50\n",
            "1334/1334 [==============================] - 10s 8ms/step - loss: 0.0130 - accuracy: 0.9958 - val_loss: 0.0271 - val_accuracy: 0.9910\n",
            "Fold 3, 50 epochs, 524 sec\n"
          ],
          "name": "stdout"
        },
        {
          "output_type": "display_data",
          "data": {
            "image/png": "[encoded data removed]",
            "text/plain": [
              "<Figure size 576x360 with 1 Axes>"
            ]
          },
          "metadata": {
            "tags": [],
            "needs_background": "light"
          }
        }
      ]
    },
    {
      "cell_type": "code",
      "metadata": {
        "id": "e-jG1h5fj2Ua",
        "colab": {
          "base_uri": "https://localhost:8080/"
        },
        "outputId": "c3f2c6fb-1c97-4628-cfa3-add10ea753dc"
      },
      "source": [
        "from keras.models import load_model\n",
        "X,y = prepare_inputs_len_x_alphabet(pc_test,nc_test,ALPHABET)\n",
        "best_model=load_model(MODELPATH)\n",
        "scores = best_model.evaluate(X, y, verbose=0)\n",
        "print(\"The best model parameters were saved during cross-validation.\")\n",
        "print(\"Best was defined as maximum validation accuracy at end of any epoch.\")\n",
        "print(\"Now re-load the best model and test it on previously unseen data.\")\n",
        "print(\"Test on\",len(pc_test),\"PC seqs\")\n",
        "print(\"Test on\",len(nc_test),\"NC seqs\")\n",
        "print(\"%s: %.2f%%\" % (best_model.metrics_names[1], scores[1]*100))"
      ],
      "execution_count": 12,
      "outputs": [
        {
          "output_type": "stream",
          "text": [
            "The best model parameters were saved during cross-validation.\n",
            "Best was defined as maximum validation accuracy at end of any epoch.\n",
            "Now re-load the best model and test it on previously unseen data.\n",
            "Test on 1000 PC seqs\n",
            "Test on 1000 NC seqs\n",
            "accuracy: 99.50%\n"
          ],
          "name": "stdout"
        }
      ]
    },
    {
      "cell_type": "code",
      "metadata": {
        "id": "VycUnmvUj2Ue",
        "colab": {
          "base_uri": "https://localhost:8080/",
          "height": 347
        },
        "outputId": "c8607ca4-f272-459e-896f-e6f0798fc9f7"
      },
      "source": [
        "from sklearn.metrics import roc_curve\n",
        "from sklearn.metrics import roc_auc_score\n",
        "ns_probs = [0 for _ in range(len(y))]\n",
        "bm_probs = best_model.predict(X)\n",
        "print(\"predictions.shape\",bm_probs.shape)\n",
        "print(\"first prediction\",bm_probs[0])\n",
        "ns_auc = roc_auc_score(y, ns_probs)\n",
        "bm_auc = roc_auc_score(y, bm_probs)\n",
        "ns_fpr, ns_tpr, _ = roc_curve(y, ns_probs)\n",
        "bm_fpr, bm_tpr, _ = roc_curve(y, bm_probs)\n",
        "plt.plot(ns_fpr, ns_tpr, linestyle='--', label='Guess, auc=%.4f'%ns_auc)\n",
        "plt.plot(bm_fpr, bm_tpr, marker='.', label='Model, auc=%.4f'%bm_auc)\n",
        "plt.title('ROC')\n",
        "plt.xlabel('False Positive Rate')\n",
        "plt.ylabel('True Positive Rate')\n",
        "plt.legend()\n",
        "plt.show()\n",
        "print(\"%s: %.2f%%\" %('AUC',bm_auc*100.0))\n"
      ],
      "execution_count": 13,
      "outputs": [
        {
          "output_type": "stream",
          "text": [
            "predictions.shape (2000, 1)\n",
            "first prediction [1.]\n"
          ],
          "name": "stdout"
        },
        {
          "output_type": "display_data",
          "data": {
            "image/png": "[encoded data removed]",
            "text/plain": [
              "<Figure size 432x288 with 1 Axes>"
            ]
          },
          "metadata": {
            "tags": [],
            "needs_background": "light"
          }
        },
        {
          "output_type": "stream",
          "text": [
            "AUC: 99.98%\n"
          ],
          "name": "stdout"
        }
      ]
    },
    {
      "cell_type": "code",
      "metadata": {
        "id": "kFMb6rGNj2Ug",
        "colab": {
          "base_uri": "https://localhost:8080/",
          "height": 36
        },
        "outputId": "0890aa23-722d-4ada-ee4b-39da7d8449dc"
      },
      "source": [
        "t = time.time()\n",
        "time.strftime('%Y-%m-%d %H:%M:%S %Z', time.localtime(t))"
      ],
      "execution_count": 14,
      "outputs": [
        {
          "output_type": "execute_result",
          "data": {
            "application/vnd.google.colaboratory.intrinsic+json": {
              "type": "string"
            },
            "text/plain": [
              "'2021-06-26 16:14:19 UTC'"
            ]
          },
          "metadata": {
            "tags": []
          },
          "execution_count": 14
        }
      ]
    },
    {
      "cell_type": "code",
      "metadata": {
        "id": "e-mEgDrQjUzF"
      },
      "source": [
        ""
      ],
      "execution_count": 14,
      "outputs": []
    }
  ]
}