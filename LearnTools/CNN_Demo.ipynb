{
 "cells": [
  {
   "cell_type": "markdown",
   "metadata": {},
   "source": [
    "# CNN Demo\n",
    "TO DO: add a CoLab badge\n",
    "\n",
    "Can a convolutional neural network (CNN) be trained to distinguish RNA\n",
    "from nucleotide composition alone?\n",
    "More specifically, can a CNN learn to classify  \n",
    "AT-rich sequence with the label \"protein coding\"\n",
    "from GC-rich sequence with the label \"non-coding\"?\n",
    "\n",
    "This demo uses an RNA sequence simulator.\n",
    "The simulator strictly follows a frequency histogram with values for A, C, G, T.\n",
    "This is a noise-free simulation.\n",
    "\n",
    "The CNN is almost as simple as can be.\n",
    "It has one trainiable convolution layer (one dimensional) with 8 filters.\n",
    "It has one flatten layer simply to reshape the data.\n",
    "It has a trainable fully connected (dense) output layer with 1 neuron.\n",
    "More sophisticated models would incorporate embedding, pooling, dropout,\n",
    "multiple convolution layers, and multiple dense layers.\n",
    "\n",
    "The training regime is also simple.\n",
    "The model is trained for a fixed number of epochs.\n",
    "More sophisticated training would implement early stopping.\n",
    "\n",
    "This model minimizes loss at 5 epochs and overfits by 10 epochs."
   ]
  },
  {
   "cell_type": "markdown",
   "metadata": {},
   "source": [
    "## Computing Environment Setup"
   ]
  },
  {
   "cell_type": "code",
   "execution_count": 1,
   "metadata": {},
   "outputs": [],
   "source": [
    "PC_SEQUENCES=2000   # how many protein-coding sequences\n",
    "NC_SEQUENCES=2000   # how many non-coding sequences\n",
    "BASES=55            # how long is each sequence\n",
    "ALPHABET=4          # how many different letters are possible\n",
    "INPUT_SHAPE_2D = (BASES,ALPHABET,1) # Conv2D needs 3D inputs\n",
    "INPUT_SHAPE = (BASES,ALPHABET) # Conv1D needs 2D inputs\n",
    "FILTERS = 8   # how many different patterns the model looks for\n",
    "WIDTH = 3   # how wide each pattern is, in bases\n",
    "STRIDE_2D = (1,1)  # For Conv2D how far in each direction\n",
    "STRIDE = 1 # For Conv1D, how far between pattern matches, in bases\n",
    "EPOCHS=12  # how many times to train on all the data\n",
    "SPLITS=4  # SPLITS=3 means train on 2/3 and validate on 1/3 \n",
    "FOLDS=1  # train the model this many times (must be 1 to SPLITS)\n"
   ]
  },
  {
   "cell_type": "code",
   "execution_count": 2,
   "metadata": {},
   "outputs": [
    {
     "name": "stdout",
     "output_type": "stream",
     "text": [
      "On my PC, use relative paths.\n"
     ]
    }
   ],
   "source": [
    "import sys\n",
    "try:\n",
    "    from google.colab import drive\n",
    "    IN_COLAB = True\n",
    "    print(\"On Google CoLab, mount cloud-local file, get our code from GitHub.\")\n",
    "    PATH='/content/drive/'\n",
    "    drive.mount(PATH)\n",
    "    DATAPATH=PATH+'My Drive/data/'  # must end in \"/\"\n",
    "    import requests\n",
    "    r = requests.get('https://raw.githubusercontent.com/ShepherdCode/Soars2021/blob/main/SimTools/RNA_gen.py')\n",
    "    with open('RNA_gen.py', 'w') as f:\n",
    "        f.write(r.text)  # delete the file later?\n",
    "except:\n",
    "    print(\"On my PC, use relative paths.\")\n",
    "    IN_COLAB = False\n",
    "    DATAPATH='data/'  # must end in \"/\"\n",
    "    sys.path.append(\"..\") # append parent dir in order to use sibling dirs"
   ]
  },
  {
   "cell_type": "code",
   "execution_count": 3,
   "metadata": {},
   "outputs": [],
   "source": [
    "from os import listdir\n",
    "import time # datetime\n",
    "import csv\n",
    "from zipfile import ZipFile\n",
    "\n",
    "import numpy as np\n",
    "import pandas as pd\n",
    "from scipy import stats  # mode\n",
    "\n",
    "from sklearn.preprocessing import StandardScaler\n",
    "from sklearn.model_selection import KFold\n",
    "from sklearn.model_selection import cross_val_score\n",
    "from sklearn.utils import shuffle\n",
    "\n",
    "from keras.models import Sequential\n",
    "from keras.layers import Dense,Embedding\n",
    "from keras.layers import Conv1D,Conv2D\n",
    "from keras.layers import Flatten,MaxPooling1D,MaxPooling2D\n",
    "from keras.losses import BinaryCrossentropy\n",
    "# tf.keras.losses.BinaryCrossentropy\n",
    "\n",
    "import matplotlib.pyplot as plt\n",
    "from matplotlib import colors\n",
    "mycmap = colors.ListedColormap(['red','blue'])  # list color for label 0 then 1\n",
    "np.set_printoptions(precision=2)\n",
    "\n",
    "from SimTools.RNA_gen import *\n",
    "if not assert_imported_RNA_gen():\n",
    "    print(\"ERROR: Cannot use RNA_gen.\")"
   ]
  },
  {
   "cell_type": "markdown",
   "metadata": {},
   "source": [
    "## Data Preparation"
   ]
  },
  {
   "cell_type": "code",
   "execution_count": 4,
   "metadata": {},
   "outputs": [
    {
     "data": {
      "text/plain": [
       "'2021-05-06 15:46:12 EDT'"
      ]
     },
     "execution_count": 4,
     "metadata": {},
     "output_type": "execute_result"
    }
   ],
   "source": [
    "# print(datetime.datetime.now())\n",
    "t = time.time()\n",
    "time.strftime('%Y-%m-%d %H:%M:%S %Z', time.localtime(t))"
   ]
  },
  {
   "cell_type": "code",
   "execution_count": 5,
   "metadata": {},
   "outputs": [],
   "source": [
    "def make_all_sequences():\n",
    "    cgen = Collection_Generator()\n",
    "    sgen = Sequence_Oracle()\n",
    "    lgen = Length_Oracle()\n",
    "    lgen.set_mean(BASES)\n",
    "    cgen.set_seq_oracle(sgen)\n",
    "    cgen.set_len_oracle(lgen)\n",
    "    sgen.set_frequencies([4,3,3,4]) # bias AT\n",
    "    pc_seqs=cgen.get_sequences(PC_SEQUENCES)\n",
    "    sgen.set_frequencies([3,4,4,3]) # bias GT\n",
    "    nc_seqs=cgen.get_sequences(NC_SEQUENCES)\n",
    "    return pc_seqs,nc_seqs\n",
    "pc_seqs,nc_seqs = make_all_sequences()"
   ]
  },
  {
   "cell_type": "code",
   "execution_count": 6,
   "metadata": {},
   "outputs": [
    {
     "name": "stdout",
     "output_type": "stream",
     "text": [
      "X shape: (4000, 55, 4)\n",
      "y shape: (4000,)\n"
     ]
    }
   ],
   "source": [
    "def prepare_for_learning(pcs,ncs):\n",
    "    samples = nc_seqs + pc_seqs\n",
    "    NUM_SAMPLES=len(samples)\n",
    "    X_shape = (NUM_SAMPLES,BASES,ALPHABET)\n",
    "    Y_shape = (NUM_SAMPLES,1)\n",
    "    y=np.concatenate((np.zeros(NC_SEQUENCES,dtype=np.int8),\n",
    "                      np.ones(PC_SEQUENCES,dtype=np.int8)))\n",
    "    X=np.zeros(X_shape,dtype=np.int8)\n",
    "    base_to_dim = {'A':0, 'C':1, 'G':2, 'T':3}\n",
    "    for s in range(0,NUM_SAMPLES):  # TO DO: speed this up by avoiding loops\n",
    "        sample = samples[s]\n",
    "        for b in range(0,BASES): # use len(sample) if length varies\n",
    "            base = sample[b]\n",
    "            d = base_to_dim[base]   # TO DO: error on non-ACGT\n",
    "            X[s,b,d]=1\n",
    "    X,y = shuffle(X,y,random_state=4200)\n",
    "    return X,y\n",
    "X,y = prepare_for_learning(pc_seqs,nc_seqs)\n",
    "print(\"X shape:\",X.shape)\n",
    "print(\"y shape:\",y.shape)\n"
   ]
  },
  {
   "cell_type": "markdown",
   "metadata": {},
   "source": [
    "## Model build, train, test"
   ]
  },
  {
   "cell_type": "code",
   "execution_count": 7,
   "metadata": {},
   "outputs": [
    {
     "name": "stdout",
     "output_type": "stream",
     "text": [
      "make_DNN\n",
      "input shape: (55, 4)\n",
      "Model: \"sequential\"\n",
      "_________________________________________________________________\n",
      "Layer (type)                 Output Shape              Param #   \n",
      "=================================================================\n",
      "conv1d (Conv1D)              (None, 55, 8)             104       \n",
      "_________________________________________________________________\n",
      "flatten (Flatten)            (None, 440)               0         \n",
      "_________________________________________________________________\n",
      "dense (Dense)                (None, 1)                 441       \n",
      "=================================================================\n",
      "Total params: 545\n",
      "Trainable params: 545\n",
      "Non-trainable params: 0\n",
      "_________________________________________________________________\n",
      "None\n"
     ]
    }
   ],
   "source": [
    "def make_DNN():\n",
    "    print(\"make_DNN\")\n",
    "    print(\"input shape:\",INPUT_SHAPE)\n",
    "    dnn = Sequential()\n",
    "    #dnn.add(Embedding(input_dim=4,output_dim=4)) \n",
    "    dnn.add(Conv1D(filters=FILTERS,kernel_size=WIDTH,strides=STRIDE,\n",
    "                  padding=\"same\",input_shape=INPUT_SHAPE))\n",
    "    # Data shape: [SAMPLES,BASES,FILTERS]\n",
    "    #dnn.add(MaxPooling1D())\n",
    "    dnn.add(Flatten())\n",
    "    # Data shape: [SAMPLES,BASES*FILTERS]\n",
    "    dnn.add(Dense(1,activation=\"sigmoid\",dtype=np.float32))   \n",
    "    dnn.compile(optimizer='adam',loss=BinaryCrossentropy(from_logits=False))\n",
    "    dnn.build(input_shape=INPUT_SHAPE)\n",
    "    #ln_rate = tf.keras.optimizers.Adam(learning_rate = LN_RATE)\n",
    "    #bc=tf.keras.losses.BinaryCrossentropy(from_logits=False)\n",
    "    #model.compile(loss=bc, optimizer=ln_rate, metrics=[\"accuracy\"])\n",
    "    return dnn\n",
    "model = make_DNN()\n",
    "print(model.summary())"
   ]
  },
  {
   "cell_type": "code",
   "execution_count": 8,
   "metadata": {},
   "outputs": [],
   "source": [
    "def do_cross_validation(X,y):\n",
    "    cv_scores = []\n",
    "    fold=0\n",
    "    splitter = KFold(n_splits=SPLITS)  # no shuffle\n",
    "    for train_index,valid_index in splitter.split(X):\n",
    "        if fold < FOLDS:\n",
    "            fold += 1\n",
    "            X_train=X[train_index] # use iloc[] for dataframe\n",
    "            y_train=y[train_index]\n",
    "            X_valid=X[valid_index]\n",
    "            y_valid=y[valid_index]        \n",
    "            # Avoid continually improving the same model.\n",
    "            print(\"MODEL\")\n",
    "            model = model = make_DNN()\n",
    "            #bestname=MODEL_FILE+\".cv.\"+str(fold)+\".best\"\n",
    "            #mycallbacks = [keras.callbacks.ModelCheckpoint(\n",
    "            #    filepath=bestname, save_best_only=True, \n",
    "            #    monitor='val_accuracy', mode='max')]   \n",
    "            print(\"FIT\")\n",
    "            start_time=time.time()\n",
    "            history=model.fit(X_train, y_train, \n",
    "                    epochs=EPOCHS, \n",
    "                    verbose=1,  # ascii art \n",
    "                    # callbacks=mycallbacks,\n",
    "                    validation_data=(X_valid,y_valid))\n",
    "            # THE VALIDATION ABOVE IS JUST FOR SHOW\n",
    "            end_time=time.time()\n",
    "            elapsed_time=(end_time-start_time)                        \n",
    "            print(\"Fold %d, %d epochs, %d sec\"%(fold,EPOCHS,elapsed_time))\n",
    "            pd.DataFrame(history.history).plot(figsize=(8,5))\n",
    "            plt.grid(True)\n",
    "            plt.gca().set_ylim(0,1)\n",
    "            plt.show()\n",
    "            #best_model=keras.models.load_model(bestname)\n",
    "            # THE VALIDATION BELOW IS FOR KEEPS\n",
    "            #scores = best_model.evaluate(X_VALID, Y_VALID, verbose=0)\n",
    "            #print(\"%s: %.2f%%\" % (best_model.metrics_names[1], scores[1]*100))\n",
    "            #cv_scores.append(scores[1] * 100)  \n",
    "    #print()\n",
    "    #print(\"%d-way Cross Validation mean %.2f%% (+/- %.2f%%)\" % (fold, np.mean(cv_scores), np.std(cv_scores)))"
   ]
  },
  {
   "cell_type": "code",
   "execution_count": 9,
   "metadata": {},
   "outputs": [
    {
     "name": "stdout",
     "output_type": "stream",
     "text": [
      "MODEL\n",
      "make_DNN\n",
      "input shape: (55, 4)\n",
      "FIT\n",
      "Epoch 1/10\n",
      "94/94 [==============================] - 2s 13ms/step - loss: 0.7162 - val_loss: 0.6335\n",
      "Epoch 2/10\n",
      "94/94 [==============================] - 0s 3ms/step - loss: 0.5852 - val_loss: 0.4307\n",
      "Epoch 3/10\n",
      "94/94 [==============================] - 0s 3ms/step - loss: 0.4196 - val_loss: 0.3430\n",
      "Epoch 4/10\n",
      "94/94 [==============================] - 0s 3ms/step - loss: 0.3451 - val_loss: 0.3204\n",
      "Epoch 5/10\n",
      "94/94 [==============================] - 0s 3ms/step - loss: 0.3190 - val_loss: 0.3153\n",
      "Epoch 6/10\n",
      "94/94 [==============================] - 0s 3ms/step - loss: 0.3196 - val_loss: 0.3098\n",
      "Epoch 7/10\n",
      "94/94 [==============================] - 0s 3ms/step - loss: 0.3254 - val_loss: 0.3153\n",
      "Epoch 8/10\n",
      "94/94 [==============================] - 0s 3ms/step - loss: 0.3224 - val_loss: 0.3100\n",
      "Epoch 9/10\n",
      "94/94 [==============================] - 0s 3ms/step - loss: 0.3068 - val_loss: 0.3119\n",
      "Epoch 10/10\n",
      "94/94 [==============================] - 0s 4ms/step - loss: 0.3205 - val_loss: 0.3215\n",
      "Fold 1, 10 epochs, 4 sec\n"
     ]
    },
    {
     "data": {
      "image/png": "[encoded data removed]",
      "text/plain": [
       "<Figure size 576x360 with 1 Axes>"
      ]
     },
     "metadata": {
      "needs_background": "light"
     },
     "output_type": "display_data"
    }
   ],
   "source": [
    "do_cross_validation(X,y)"
   ]
  },
  {
   "cell_type": "code",
   "execution_count": null,
   "metadata": {},
   "outputs": [],
   "source": []
  }
 ],
 "metadata": {
  "kernelspec": {
   "display_name": "Python 3",
   "language": "python",
   "name": "python3"
  },
  "language_info": {
   "codemirror_mode": {
    "name": "ipython",
    "version": 3
   },
   "file_extension": ".py",
   "mimetype": "text/x-python",
   "name": "python",
   "nbconvert_exporter": "python",
   "pygments_lexer": "ipython3",
   "version": "3.8.3"
  }
 },
 "nbformat": 4,
 "nbformat_minor": 2
}
